{
 "cells": [
  {
   "cell_type": "markdown",
   "metadata": {
    "collapsed": false
   },
   "source": [
    "A partir de una tabla de datos ya procesada para utilizar con los modelos teoricos, \n",
    "en este nb buscamos optimizar"
   ]
  },
  {
   "cell_type": "code",
   "execution_count": 8,
   "metadata": {
    "collapsed": false
   },
   "outputs": [
    {
     "data": {
      "application/javascript": [
       "IPython.notebook.set_autosave_interval(180000)"
      ]
     },
     "metadata": {},
     "output_type": "display_data"
    },
    {
     "name": "stdout",
     "output_type": "stream",
     "text": [
      "Autosaving every 180 seconds\n"
     ]
    }
   ],
   "source": [
    "## seteamos los parametros del notebook\n",
    "%autosave 180"
   ]
  },
  {
   "cell_type": "code",
   "execution_count": 9,
   "metadata": {
    "collapsed": false
   },
   "outputs": [],
   "source": [
    "import pandas as pd; \n",
    "import numpy as np; \n",
    "import os;\n",
    "import random;\n",
    "import time\n",
    "%matplotlib inline"
   ]
  },
  {
   "cell_type": "code",
   "execution_count": 10,
   "metadata": {
    "collapsed": false
   },
   "outputs": [],
   "source": [
    "from utils.partitions import *\n",
    "import utils.presto_connection as p_c"
   ]
  },
  {
   "cell_type": "code",
   "execution_count": 1,
   "metadata": {
    "collapsed": true
   },
   "outputs": [
    {
     "ename": "NameError",
     "evalue": "name 'np' is not defined",
     "output_type": "error",
     "traceback": [
      "\u001b[1;31m---------------------------------------------------------------------------\u001b[0m",
      "\u001b[1;31mNameError\u001b[0m                                 Traceback (most recent call last)",
      "\u001b[1;32m<ipython-input-1-7964d103de78>\u001b[0m in \u001b[0;36m<module>\u001b[1;34m()\u001b[0m\n\u001b[1;32m----> 1\u001b[1;33m \u001b[0mnp\u001b[0m\u001b[1;33m.\u001b[0m\u001b[0mrandom\u001b[0m\u001b[1;33m.\u001b[0m\u001b[0mseed\u001b[0m\u001b[1;33m(\u001b[0m\u001b[1;36m2015\u001b[0m\u001b[1;33m)\u001b[0m\u001b[1;33m\u001b[0m\u001b[0m\n\u001b[0m\u001b[0;32m      2\u001b[0m \u001b[1;31m#rootdir=os.getcwd()\u001b[0m\u001b[1;33m\u001b[0m\u001b[1;33m\u001b[0m\u001b[0m\n\u001b[0;32m      3\u001b[0m \u001b[0mrootdir\u001b[0m \u001b[1;33m=\u001b[0m \u001b[0mos\u001b[0m\u001b[1;33m.\u001b[0m\u001b[0mpath\u001b[0m\u001b[1;33m.\u001b[0m\u001b[0mexpanduser\u001b[0m\u001b[1;33m(\u001b[0m\u001b[1;34m'~/mobility-study/'\u001b[0m\u001b[1;33m)\u001b[0m\u001b[1;33m\u001b[0m\u001b[0m\n\u001b[0;32m      4\u001b[0m \u001b[0mos\u001b[0m\u001b[1;33m.\u001b[0m\u001b[0mchdir\u001b[0m\u001b[1;33m(\u001b[0m\u001b[0mrootdir\u001b[0m\u001b[1;33m)\u001b[0m\u001b[1;33m\u001b[0m\u001b[0m\n\u001b[0;32m      5\u001b[0m \u001b[1;33m\u001b[0m\u001b[0m\n",
      "\u001b[1;31mNameError\u001b[0m: name 'np' is not defined"
     ]
    }
   ],
   "source": [
    "np.random.seed(2015)\n",
    "#rootdir=os.getcwd()\n",
    "rootdir = os.path.expanduser('~/mobility-study/')\n",
    "os.chdir(rootdir)\n",
    "\n",
    "run_number = 0"
   ]
  },
  {
   "cell_type": "code",
   "execution_count": 13,
   "metadata": {
    "collapsed": false
   },
   "outputs": [],
   "source": [
    "#from unbalanced_dataset import UnderSampler, NearMiss, CondensedNearestNeighbour, OneSidedSelection,\\\n",
    "#NeighbourhoodCleaningRule, TomekLinks, ClusterCentroids, OverSampler, SMOTE,\\\n",
    "#SMOTETomek, SMOTEENN, EasyEnsemble, BalanceCascade"
   ]
  },
  {
   "cell_type": "code",
   "execution_count": 91,
   "metadata": {
    "collapsed": false
   },
   "outputs": [
    {
     "name": "stdout",
     "output_type": "stream",
     "text": [
      "\u001b[0m\u001b[01;31mdafiti_01040804.csv.gz\u001b[0m        \u001b[01;31mdafiti_test.csv.gz\u001b[0m\r\n",
      "\u001b[01;31mdafiti_01040804_query.csv.gz\u001b[0m  \u001b[01;31mfoodpandas_01040804.csv.gz\u001b[0m\r\n",
      "\u001b[01;31mdafiti_25033103.csv.gz\u001b[0m        \u001b[01;31mfoodpandas_01040804_query.csv.gz\u001b[0m\r\n",
      "\u001b[01;31mdafiti_25033103_query.csv.gz\u001b[0m  \u001b[01;31mfoodpandas_28030104.csv.gz\u001b[0m\r\n",
      "\u001b[01;31mdafiti_2days_events.csv.gz\u001b[0m\r\n"
     ]
    }
   ],
   "source": [
    "ls datasets/"
   ]
  },
  {
   "cell_type": "code",
   "execution_count": 92,
   "metadata": {
    "collapsed": false
   },
   "outputs": [],
   "source": [
    "train_file = \"datasets/{ds:0=2d}{ms:0=2d}{de:0=2d}{me:0=2d}.csv.gz\".format( ds=28,ms=3, \n",
    "             de = 1, me = 4)\n",
    "train_table = pd.read_csv(train_file,sep = \"|\",\n",
    "                   header =0,\n",
    "                     index_col =0)\n",
    "\n",
    "X_train = train_table[train_table.columns[:-1]].values\n",
    "y_train = train_table[train_table.columns[-1:]].values.flatten()"
   ]
  },
  {
   "cell_type": "code",
   "execution_count": 93,
   "metadata": {
    "collapsed": true
   },
   "outputs": [],
   "source": [
    "test_file = \"datasets/{ds:0=2d}{ms:0=2d}{de:0=2d}{me:0=2d}.csv.gz\".format(  ds=1,ms=4,\n",
    "            de = 8, me = 4)\n",
    "test_table = pd.read_csv(test_file,sep = \"|\",\n",
    "                   header =0,\n",
    "                     index_col =0)\n",
    "\n",
    "X_test = test_table[test_table.columns[:-1]].values\n",
    "y_test = test_table[test_table.columns[-1:]].values.flatten()\n",
    "del test_table"
   ]
  },
  {
   "cell_type": "code",
   "execution_count": 63,
   "metadata": {
    "collapsed": true
   },
   "outputs": [],
   "source": [
    "y_test = y_test.flatten()"
   ]
  },
  {
   "cell_type": "markdown",
   "metadata": {},
   "source": [
    "## Scikit estimator fit and cross-validation"
   ]
  },
  {
   "cell_type": "code",
   "execution_count": 37,
   "metadata": {
    "collapsed": false,
    "scrolled": true
   },
   "outputs": [
    {
     "name": "stderr",
     "output_type": "stream",
     "text": [
      "/home/teo/Repositories/scikit-learn/sklearn/cross_validation.py:43: DeprecationWarning: This module has been deprecated in favor of the model_selection module into which all the refactored classes and functions are moved. Also note that the interface of the new CV iterators are different from that of this module. This module will be removed in 0.20.\n",
      "  \"This module will be removed in 0.20.\", DeprecationWarning)\n",
      "/home/teo/Repositories/scikit-learn/sklearn/grid_search.py:43: DeprecationWarning: This module has been deprecated in favor of the model_selection module into which all the refactored classes and functions are moved. This module will be removed in 0.20.\n",
      "  DeprecationWarning)\n"
     ]
    }
   ],
   "source": [
    "from sklearn.naive_bayes import *\n",
    "from sklearn.linear_model import *\n",
    "from sklearn.ensemble import *\n",
    "from sklearn.svm import *\n",
    "from sklearn.neural_network import *\n",
    "from sklearn.cross_validation import *\n",
    "from sklearn.multiclass import OneVsRestClassifier\n",
    "from sklearn.utils import *\n",
    "from sklearn.preprocessing import label_binarize, scale, StandardScaler\n",
    "from sklearn.metrics import *\n",
    "from sklearn.ensemble import *\n",
    "from sklearn.tree import *\n",
    "from sklearn.grid_search import *\n",
    "from sklearn.pipeline import Pipeline"
   ]
  },
  {
   "cell_type": "code",
   "execution_count": 42,
   "metadata": {
    "collapsed": false
   },
   "outputs": [
    {
     "data": {
      "text/plain": [
       "((211018, 234), (211018, 1))"
      ]
     },
     "execution_count": 42,
     "metadata": {},
     "output_type": "execute_result"
    }
   ],
   "source": [
    "X_test.shape, y_test.shape"
   ]
  },
  {
   "cell_type": "raw",
   "metadata": {},
   "source": [
    "train_table.head()"
   ]
  },
  {
   "cell_type": "code",
   "execution_count": 49,
   "metadata": {
    "collapsed": false,
    "scrolled": false
   },
   "outputs": [],
   "source": [
    "#elegimos algunas variantes del dataset original\n",
    "X_scaled= scale(X_train)\n",
    "\n",
    "perc = 0.2\n",
    "mini_ind = np.random.choice(X_train.shape[0],int(perc*X_train.shape[0]),replace=False)\n",
    "X_mini =  X_train[mini_ind,:]\n",
    "y_mini = y_train[mini_ind]"
   ]
  },
  {
   "cell_type": "code",
   "execution_count": 50,
   "metadata": {
    "collapsed": false
   },
   "outputs": [
    {
     "data": {
      "text/plain": [
       "((96341, 234), (96341, 1), (211018, 234), (211018, 1))"
      ]
     },
     "execution_count": 50,
     "metadata": {},
     "output_type": "execute_result"
    }
   ],
   "source": [
    "X_train.shape, y_train.shape, X_test.shape, y_test.shape"
   ]
  },
  {
   "cell_type": "code",
   "execution_count": 14,
   "metadata": {
    "collapsed": false,
    "scrolled": false
   },
   "outputs": [],
   "source": [
    "## seteo los generalizadores de CV\n",
    "##genero los estimadores\n",
    "W = np.array([15 if i == 1 else 1 for i in y])\n",
    "#model = GradientBoostingClassifier()\n",
    "\n",
    "gradboost = GradientBoostingClassifier( loss = 'deviance',n_estimators=20, \n",
    "                                       max_depth = 20\n",
    "                                 )\n",
    "svc = LinearSVC(C=2.0, tol = 1e-4,\n",
    "                class_weight = 'balanced'\n",
    "               )\n",
    "\n",
    "svc2 = SVC(C=2.0, kernel = 'rbf' ,decision_function_shape='ovr',tol = 1e-5,\n",
    "                class_weight = 'balanced', max_iter = 1000\n",
    "               )\n"
   ]
  },
  {
   "cell_type": "code",
   "execution_count": null,
   "metadata": {
    "collapsed": true
   },
   "outputs": [],
   "source": []
  },
  {
   "cell_type": "markdown",
   "metadata": {},
   "source": [
    "## TensorFlow classifiers -  scaled"
   ]
  },
  {
   "cell_type": "code",
   "execution_count": 14,
   "metadata": {
    "collapsed": false
   },
   "outputs": [
    {
     "ename": "ImportError",
     "evalue": "No module named 'tensorflow'",
     "output_type": "error",
     "traceback": [
      "\u001b[0;31m---------------------------------------------------------------------------\u001b[0m",
      "\u001b[0;31mImportError\u001b[0m                               Traceback (most recent call last)",
      "\u001b[0;32m<ipython-input-14-0ceac9bdcb86>\u001b[0m in \u001b[0;36m<module>\u001b[0;34m()\u001b[0m\n\u001b[0;32m----> 1\u001b[0;31m \u001b[0;32mimport\u001b[0m \u001b[0mtensorflow\u001b[0m \u001b[0;32mas\u001b[0m \u001b[0mtf\u001b[0m\u001b[0;34m\u001b[0m\u001b[0m\n\u001b[0m\u001b[1;32m      2\u001b[0m \u001b[0;32mimport\u001b[0m \u001b[0mskflow\u001b[0m\u001b[0;34m\u001b[0m\u001b[0m\n",
      "\u001b[0;31mImportError\u001b[0m: No module named 'tensorflow'"
     ]
    }
   ],
   "source": [
    "import tensorflow as tf\n",
    "import skflow"
   ]
  },
  {
   "cell_type": "code",
   "execution_count": null,
   "metadata": {
    "collapsed": false
   },
   "outputs": [],
   "source": [
    "start_time = time.time()\n",
    "\n",
    "X_cols = [col for col in X_train.columns if not('recency' in col ) and\\\n",
    "             not('truth' in col ) and not ( 'virality' in col )]\n",
    "\n",
    "X = X_train[X_cols].values\n",
    "# pero tenemos que transformar a y en un vector canonico indicando en 1 en la posicion correspondiente a su categoria\n",
    "#y =  label_binarize(X_train['ground_truth'].values.astype(int),\n",
    "#                    classes=list(set(X_train['ground_truth'].values.astype(int))))\n",
    "y = X_train['ground_truth'].values\n",
    "X_scaled= scale(X)\n",
    "\n",
    "perc = 0.4\n",
    "mini_ind = np.random.choice(X.shape[0],int(perc*X.shape[0]),replace=False)\n",
    "X_mini =  X[mini_ind,:]\n",
    "y_mini = y[mini_ind]\n",
    "\n",
    "\n",
    "\n",
    "\n",
    "validated = []\n",
    "# Only take the first fold.\n",
    "n_folds = 3\n",
    "for i in range(n_folds):\n",
    "    # Break up the dataset into non-overlapping training (75%) and testing\n",
    "    # (25%) sets.\n",
    "    skf = StratifiedKFold(y, n_folds=n_folds)\n",
    "    train_index, test_index = next(iter(skf))\n",
    "\n",
    "    X_train = X_scaled[train_index]\n",
    "    y_train = y[train_index]\n",
    "    X_train_mnb = X[train_index]\n",
    "\n",
    "    X_test = X_scaled[test_index]\n",
    "    X_test_mnb = X[test_index]\n",
    "    y_test = y[test_index]\n",
    "    \n",
    "    n_classes = len(np.unique(y_train))\n",
    "\n",
    "    n_samples, n_features = X_train.shape\n",
    "    weights = n_samples*1.0 / (n_classes * np.bincount(y))\n",
    "\n",
    "    x = tf.placeholder(tf.float32, [None, n_features])\n",
    "    W = tf.Variable(tf.zeros([n_features, n_classes]))\n",
    "    b = tf.Variable(tf.zeros([n_classes]))\n",
    "    y2 = tf.nn.softmax(tf.matmul(x, W) + b)\n",
    "    y_ = tf.placeholder(tf.float32, [None, n_classes])\n",
    "    cross_entropy = -tf.reduce_sum(y_*tf.log(y2))\n",
    "\n",
    "    train_step = tf.train.GradientDescentOptimizer(0.01).minimize(cross_entropy)\n",
    "    init = tf.initialize_all_variables()\n",
    "    sess = tf.Session()\n",
    "    sess.run(init)\n",
    "\n",
    "    batch_size = 1000\n",
    "    y_train_binary = np.asarray([[1,0]if val ==0 else [0,1] for val in y_train])\n",
    "    y_test_binary = np.asarray([[1,0]if val ==0 else [0,1] for val in y_test])\n",
    "    \n",
    "    n_batches = int(np.floor(len(X_train)*1.0/batch_size))\n",
    "\n",
    "    for i in range(n_batches):\n",
    "        n = random.randint(0,n_batches)\n",
    "        batch_xs, batch_ys = X_train[n:(n+1)*1000,:], y_train_binary[n:(n+1)*1000]\n",
    "        sess.run(train_step, feed_dict={x: batch_xs, y_: batch_ys})\n",
    "\n",
    "    #aca la prediccion esta en y2\n",
    "    correct_prediction = tf.equal(tf.argmax(y2,1), tf.argmax(y_,1))\n",
    "    accuracy = tf.reduce_mean(tf.cast(correct_prediction, tf.float32))\n",
    "    \n",
    "    print(sess.run([accuracy], feed_dict={x: X_test, y_: y_test_binary}))\n",
    "\n",
    "time.time() - start_time\n",
    "print('This cell took %s seconds to run' % (time.time() - start_time))"
   ]
  },
  {
   "cell_type": "code",
   "execution_count": null,
   "metadata": {
    "collapsed": false,
    "scrolled": true
   },
   "outputs": [],
   "source": [
    "sart_time = time.time()\n",
    "\n",
    "X_cols = [col for col in X_train.columns if not('recency' in col ) and\\\n",
    "             not('truth' in col ) and not ( 'virality' in col )]\n",
    "\n",
    "X = X_train[X_cols].values\n",
    "# pero tenemos que transformar a y en un vector canonico indicando en 1 en la posicion correspondiente a su categoria\n",
    "#y =  label_binarize(X_train['ground_truth'].values.astype(int),\n",
    "#                    classes=list(set(X_train['ground_truth'].values.astype(int))))\n",
    "y = X_train['ground_truth'].values\n",
    "X_scaled= scale(X)\n",
    "\n",
    "perc = 0.4\n",
    "mini_ind = np.random.choice(X.shape[0],int(perc*X.shape[0]),replace=False)\n",
    "X_mini =  X[mini_ind,:]\n",
    "y_mini = y[mini_ind]\n",
    "\n",
    "#set classifiers params\n",
    "n_classes =2\n",
    "n_samples = len(X_train)\n",
    "\n",
    "weights = n_samples*1.0 / (n_classes * np.bincount(y))\n",
    "\n",
    "linear_clf = skflow.TensorFlowLinearClassifier(n_classes=n_classes)\n",
    "clf = skflow.TensorFlowClassifier(n_classes=n_classes)\n",
    "\n",
    "def exp_decay(global_step):\n",
    "    learning_rate=0.1\n",
    "    decay_steps=3 \n",
    "    decay_rate=0.01\n",
    "    return tf.train.exponential_decay(learning_rate,global_step,\n",
    "                                      decay_steps, decay_rate)\n",
    "\n",
    "dnn =skflow.TensorFlowDNNClassifier(hidden_units=[10, 20, 10], n_classes=n_classes,optimizer='Adagrad',\n",
    "                              learning_rate = exp_decay )\n",
    "#rnn = skflow.TensorFlowRNNClassifier(hidden_units=[10, 20, 10], n_classes=2,optimizer='Adagrad',\n",
    "#                              )\n",
    "\n",
    "\n",
    "validated = []\n",
    "# Only take the first fold.\n",
    "n_folds = 3\n",
    "for i in range(n_folds):\n",
    "    # Break up the dataset into non-overlapping training (75%) and testing\n",
    "    # (25%) sets.\n",
    "    skf = StratifiedKFold(y, n_folds=n_folds)\n",
    "    train_index, test_index = next(iter(skf))\n",
    "\n",
    "\n",
    "    X_train = X_scaled[train_index]\n",
    "    y_train = y[train_index]\n",
    "    X_train_mnb = X[train_index]\n",
    "\n",
    "    X_test = X_scaled[test_index]\n",
    "    X_test_mnb = X[test_index]\n",
    "    y_test = y[test_index]\n",
    "    \n",
    "    n_classes = len(np.unique(y_train))\n",
    "\n",
    "    # eventualmente podemos recorrer sobre distintos estimadores\n",
    "    classifiers = { 'Deep NN':dnn,\n",
    "                  'Linear Classifier':linear_clf, 'Classifier':clf}\n",
    "    \n",
    "    for index, (name, classifier) in enumerate(classifiers.items()):\n",
    "        # Entrenar los parameters usando los trainig sets\n",
    "        \n",
    "        #cuidado con que MNB solo acepta features positivos\n",
    "        if name == \"MultinomialNB\":\n",
    "            classifier.fit(X_train_mnb,y_train)\n",
    "            predictions = classifier.predict(X_test_mnb)\n",
    "        else:\n",
    "            classifier.fit(X_train,y_train)\n",
    "            predictions = classifier.predict(X_test)\n",
    "        \n",
    "        expected = y_test\n",
    "        if i==0:\n",
    "            validated += [classification_report(expected, predictions)]\n",
    "            continue\n",
    "        \n",
    "i=0\n",
    "for index, (name, classifier) in enumerate(classifiers.items()):\n",
    "    print(\"\\n Full Classification Reports for classifier %s\" %name)\n",
    "    print(validated[i])\n",
    "    i+=1\n",
    "    \n",
    "for index, (name, classifier) in enumerate(classifiers.items()):\n",
    "    if name == \"Linear SVM\":\n",
    "        continue\n",
    "    print(\"\\n Threshold Classification Reports for classifier %s\" %name)\n",
    "    predicted_proba = pd.DataFrame()\n",
    "    predicted_proba['prob'] = classifier.predict_proba(X_test).max(axis=1)\n",
    "    predicted_proba['gt'] = y_test\n",
    "    predicted_proba['class'] = classifier.predict(X_test)\n",
    "\n",
    "    threshold = 0.8\n",
    "    ind = predicted_proba['prob']>threshold\n",
    "    print(classification_report(predicted_proba.loc[ind,'gt'].values,predicted_proba.loc[ind,'class'].values ))\n",
    "\n",
    "       \n",
    "all_time =   time.time() - start_time\n",
    "print('This cell took %s seconds to run' % all_time)\n"
   ]
  },
  {
   "cell_type": "code",
   "execution_count": null,
   "metadata": {
    "collapsed": true
   },
   "outputs": [],
   "source": [
    "tf.train.exponential_decay?"
   ]
  },
  {
   "cell_type": "code",
   "execution_count": null,
   "metadata": {
    "collapsed": true
   },
   "outputs": [],
   "source": []
  },
  {
   "cell_type": "markdown",
   "metadata": {},
   "source": [
    "## Cross Validate SGD"
   ]
  },
  {
   "cell_type": "code",
   "execution_count": 36,
   "metadata": {
    "collapsed": false,
    "scrolled": true
   },
   "outputs": [
    {
     "name": "stdout",
     "output_type": "stream",
     "text": [
      "Fitting 3 folds for each of 18 candidates, totalling 54 fits\n",
      "[CV] alpha=0.001, l1_ratio=0.03, n_iter=2 ............................\n",
      "[CV] alpha=0.001, l1_ratio=0.03, n_iter=2 ............................\n",
      "[CV] alpha=0.001, l1_ratio=0.03, n_iter=2 ............................\n",
      "[CV] ... alpha=0.001, l1_ratio=0.03, n_iter=2, score=0.109714 -   0.4s\n",
      "[CV] alpha=0.001, l1_ratio=0.03, n_iter=3 ............................\n",
      "[CV] ... alpha=0.001, l1_ratio=0.03, n_iter=2, score=0.106493 -   0.4s\n",
      "[CV] alpha=0.001, l1_ratio=0.03, n_iter=3 ............................\n",
      "[CV] ... alpha=0.001, l1_ratio=0.03, n_iter=2, score=0.106978 -   0.4s\n",
      "[CV] alpha=0.001, l1_ratio=0.03, n_iter=3 ............................\n",
      "[CV] alpha=0.001, l1_ratio=0.001, n_iter=2 ...........................\n",
      "[CV] ... alpha=0.001, l1_ratio=0.03, n_iter=3, score=0.110516 -   0.6s\n",
      "[CV] alpha=0.001, l1_ratio=0.001, n_iter=2 ...........................\n",
      "[CV] ... alpha=0.001, l1_ratio=0.03, n_iter=3, score=0.109154 -   0.6s\n",
      "[CV] alpha=0.001, l1_ratio=0.001, n_iter=2 ...........................\n",
      "[CV] ... alpha=0.001, l1_ratio=0.03, n_iter=3, score=0.104925 -   0.6s\n",
      "[CV] .. alpha=0.001, l1_ratio=0.001, n_iter=2, score=0.107084 -   0.5s\n",
      "[CV] alpha=0.001, l1_ratio=0.001, n_iter=3 ...........................\n",
      "[CV] .. alpha=0.001, l1_ratio=0.001, n_iter=2, score=0.107159 -   0.4s\n",
      "[CV] alpha=0.001, l1_ratio=0.001, n_iter=3 ...........................\n",
      "[CV] .. alpha=0.001, l1_ratio=0.001, n_iter=2, score=0.107325 -   0.5s\n",
      "[CV] alpha=0.001, l1_ratio=0.001, n_iter=3 ...........................\n",
      "[CV] alpha=0.001, l1_ratio=0.0006, n_iter=2 ..........................\n",
      "[CV] .. alpha=0.001, l1_ratio=0.001, n_iter=3, score=0.107732 -   0.6s\n",
      "[CV] alpha=0.001, l1_ratio=0.0006, n_iter=2 ..........................\n",
      "[CV] .. alpha=0.001, l1_ratio=0.001, n_iter=3, score=0.111073 -   0.6s\n",
      "[CV] .. alpha=0.001, l1_ratio=0.001, n_iter=3, score=0.108701 -   0.5s\n",
      "[CV] alpha=0.001, l1_ratio=0.0006, n_iter=2 ..........................\n",
      "[CV] . alpha=0.001, l1_ratio=0.0006, n_iter=2, score=0.108900 -   0.5s\n",
      "[CV] alpha=0.001, l1_ratio=0.0006, n_iter=3 ..........................\n",
      "[CV] . alpha=0.001, l1_ratio=0.0006, n_iter=2, score=0.106628 -   0.4s\n"
     ]
    },
    {
     "name": "stderr",
     "output_type": "stream",
     "text": [
      "Process PoolWorker-13:\n",
      "Traceback (most recent call last):\n",
      "Process PoolWorker-14:\n",
      "Traceback (most recent call last):\n",
      "  File \"/usr/lib/python2.7/multiprocessing/process.py\", line 258, in _bootstrap\n",
      "  File \"/usr/lib/python2.7/multiprocessing/process.py\", line 258, in _bootstrap\n"
     ]
    },
    {
     "name": "stdout",
     "output_type": "stream",
     "text": [
      "[CV] alpha=0.001, l1_ratio=0.0006, n_iter=3 ..........................\n"
     ]
    },
    {
     "ename": "KeyboardInterrupt",
     "evalue": "",
     "output_type": "error",
     "traceback": [
      "\u001b[1;31m---------------------------------------------------------------------------\u001b[0m",
      "\u001b[1;31mKeyboardInterrupt\u001b[0m                         Traceback (most recent call last)",
      "\u001b[1;32m<ipython-input-36-5f1687dee39b>\u001b[0m in \u001b[0;36m<module>\u001b[1;34m()\u001b[0m\n\u001b[0;32m     16\u001b[0m verbose=3, pre_dispatch='2*n_jobs', error_score='raise')\n\u001b[0;32m     17\u001b[0m \u001b[1;33m\u001b[0m\u001b[0m\n\u001b[1;32m---> 18\u001b[1;33m \u001b[0mclf\u001b[0m\u001b[1;33m.\u001b[0m\u001b[0mfit\u001b[0m\u001b[1;33m(\u001b[0m\u001b[0mX_train\u001b[0m\u001b[1;33m,\u001b[0m\u001b[0my_train\u001b[0m\u001b[1;33m)\u001b[0m\u001b[1;33m\u001b[0m\u001b[0m\n\u001b[0m\u001b[0;32m     19\u001b[0m \u001b[1;33m\u001b[0m\u001b[0m\n\u001b[0;32m     20\u001b[0m \u001b[1;33m\u001b[0m\u001b[0m\n",
      "\u001b[1;32m/home/teo/Repositories/scikit-learn/sklearn/grid_search.pyc\u001b[0m in \u001b[0;36mfit\u001b[1;34m(self, X, y)\u001b[0m\n\u001b[0;32m    809\u001b[0m \u001b[1;33m\u001b[0m\u001b[0m\n\u001b[0;32m    810\u001b[0m         \"\"\"\n\u001b[1;32m--> 811\u001b[1;33m         \u001b[1;32mreturn\u001b[0m \u001b[0mself\u001b[0m\u001b[1;33m.\u001b[0m\u001b[0m_fit\u001b[0m\u001b[1;33m(\u001b[0m\u001b[0mX\u001b[0m\u001b[1;33m,\u001b[0m \u001b[0my\u001b[0m\u001b[1;33m,\u001b[0m \u001b[0mParameterGrid\u001b[0m\u001b[1;33m(\u001b[0m\u001b[0mself\u001b[0m\u001b[1;33m.\u001b[0m\u001b[0mparam_grid\u001b[0m\u001b[1;33m)\u001b[0m\u001b[1;33m)\u001b[0m\u001b[1;33m\u001b[0m\u001b[0m\n\u001b[0m\u001b[0;32m    812\u001b[0m \u001b[1;33m\u001b[0m\u001b[0m\n\u001b[0;32m    813\u001b[0m \u001b[1;33m\u001b[0m\u001b[0m\n",
      "\u001b[1;32m/home/teo/Repositories/scikit-learn/sklearn/grid_search.pyc\u001b[0m in \u001b[0;36m_fit\u001b[1;34m(self, X, y, parameter_iterable)\u001b[0m\n\u001b[0;32m    558\u001b[0m                                     \u001b[0mself\u001b[0m\u001b[1;33m.\u001b[0m\u001b[0mfit_params\u001b[0m\u001b[1;33m,\u001b[0m \u001b[0mreturn_parameters\u001b[0m\u001b[1;33m=\u001b[0m\u001b[0mTrue\u001b[0m\u001b[1;33m,\u001b[0m\u001b[1;33m\u001b[0m\u001b[0m\n\u001b[0;32m    559\u001b[0m                                     error_score=self.error_score)\n\u001b[1;32m--> 560\u001b[1;33m                 \u001b[1;32mfor\u001b[0m \u001b[0mparameters\u001b[0m \u001b[1;32min\u001b[0m \u001b[0mparameter_iterable\u001b[0m\u001b[1;33m\u001b[0m\u001b[0m\n\u001b[0m\u001b[0;32m    561\u001b[0m                 for train, test in cv)\n\u001b[0;32m    562\u001b[0m \u001b[1;33m\u001b[0m\u001b[0m\n",
      "\u001b[1;32m/home/teo/Repositories/scikit-learn/sklearn/externals/joblib/parallel.pyc\u001b[0m in \u001b[0;36m__call__\u001b[1;34m(self, iterable)\u001b[0m\n\u001b[0;32m    808\u001b[0m                 \u001b[1;31m# consumption.\u001b[0m\u001b[1;33m\u001b[0m\u001b[1;33m\u001b[0m\u001b[0m\n\u001b[0;32m    809\u001b[0m                 \u001b[0mself\u001b[0m\u001b[1;33m.\u001b[0m\u001b[0m_iterating\u001b[0m \u001b[1;33m=\u001b[0m \u001b[0mFalse\u001b[0m\u001b[1;33m\u001b[0m\u001b[0m\n\u001b[1;32m--> 810\u001b[1;33m             \u001b[0mself\u001b[0m\u001b[1;33m.\u001b[0m\u001b[0mretrieve\u001b[0m\u001b[1;33m(\u001b[0m\u001b[1;33m)\u001b[0m\u001b[1;33m\u001b[0m\u001b[0m\n\u001b[0m\u001b[0;32m    811\u001b[0m             \u001b[1;31m# Make sure that we get a last message telling us we are done\u001b[0m\u001b[1;33m\u001b[0m\u001b[1;33m\u001b[0m\u001b[0m\n\u001b[0;32m    812\u001b[0m             \u001b[0melapsed_time\u001b[0m \u001b[1;33m=\u001b[0m \u001b[0mtime\u001b[0m\u001b[1;33m.\u001b[0m\u001b[0mtime\u001b[0m\u001b[1;33m(\u001b[0m\u001b[1;33m)\u001b[0m \u001b[1;33m-\u001b[0m \u001b[0mself\u001b[0m\u001b[1;33m.\u001b[0m\u001b[0m_start_time\u001b[0m\u001b[1;33m\u001b[0m\u001b[0m\n",
      "\u001b[1;32m/home/teo/Repositories/scikit-learn/sklearn/externals/joblib/parallel.pyc\u001b[0m in \u001b[0;36mretrieve\u001b[1;34m(self)\u001b[0m\n\u001b[0;32m    755\u001b[0m                     \u001b[1;31m# a working pool as they expect.\u001b[0m\u001b[1;33m\u001b[0m\u001b[1;33m\u001b[0m\u001b[0m\n\u001b[0;32m    756\u001b[0m                     \u001b[0mself\u001b[0m\u001b[1;33m.\u001b[0m\u001b[0m_initialize_pool\u001b[0m\u001b[1;33m(\u001b[0m\u001b[1;33m)\u001b[0m\u001b[1;33m\u001b[0m\u001b[0m\n\u001b[1;32m--> 757\u001b[1;33m                 \u001b[1;32mraise\u001b[0m \u001b[0mexception\u001b[0m\u001b[1;33m\u001b[0m\u001b[0m\n\u001b[0m\u001b[0;32m    758\u001b[0m \u001b[1;33m\u001b[0m\u001b[0m\n\u001b[0;32m    759\u001b[0m     \u001b[1;32mdef\u001b[0m \u001b[0m__call__\u001b[0m\u001b[1;33m(\u001b[0m\u001b[0mself\u001b[0m\u001b[1;33m,\u001b[0m \u001b[0miterable\u001b[0m\u001b[1;33m)\u001b[0m\u001b[1;33m:\u001b[0m\u001b[1;33m\u001b[0m\u001b[0m\n",
      "\u001b[1;31mKeyboardInterrupt\u001b[0m: "
     ]
    }
   ],
   "source": [
    "start_time = time.time()\n",
    "\n",
    "param_grid = [\n",
    "  { 'alpha': [1e-3,5*1e-3,1e-2], 'l1_ratio': [3*1e-2,1e-3,6*1e-4], 'n_iter': [2,3],\n",
    " \n",
    "  }\n",
    " ]\n",
    "sgd = SGDClassifier(loss='modified_huber', penalty='elasticnet', \n",
    "             fit_intercept=True,  shuffle=True, \n",
    "                    n_jobs=3,learning_rate='optimal', power_t =2, eta0 =5,\n",
    "                    class_weight='balanced', average=40)\n",
    "\n",
    "clf =GridSearchCV(sgd, param_grid, scoring='f1', fit_params=None, n_jobs=4, iid=True, refit=True, \n",
    "verbose=3, pre_dispatch='2*n_jobs', error_score='raise')\n",
    "\n",
    "clf.fit(X_train,y_train)\n",
    "\n",
    "\n",
    "\n",
    "predicted_proba = pd.DataFrame()\n",
    "predicted_proba['prob'] = clf.predict_proba(X_test).max(axis=1)\n",
    "predicted_proba['gt'] = y_test\n",
    "predicted_proba['class'] = clf.predict(X_test)\n",
    "\n",
    "threshold = 0.7\n",
    "ind = predicted_proba['prob']>threshold\n",
    "print(classification_report(predicted_proba.loc[ind,'gt'].values,predicted_proba.loc[ind,'class'].values ))\n",
    "\n",
    "cv_result = pd.DataFrame(columns=['mean_score' ] + [key for key, value in clf.grid_scores_[0].parameters.items() ] )\n",
    "i=0\n",
    "for setup in clf.grid_scores_:\n",
    "    row = [clf.grid_scores_[i].mean_validation_score ] + [value for key, value in clf.grid_scores_[i].parameters.items() ]\n",
    "    cv_result.loc[i] = row\n",
    "    i+=1\n",
    "\n",
    "all_time =   time.time() - start_time\n",
    "\n",
    "print('This cell took %s seconds to run' % all_time)\n",
    "finished = True\n"
   ]
  },
  {
   "cell_type": "code",
   "execution_count": null,
   "metadata": {
    "collapsed": false
   },
   "outputs": [],
   "source": [
    "clf.best_estimator_"
   ]
  },
  {
   "cell_type": "code",
   "execution_count": null,
   "metadata": {
    "collapsed": false,
    "scrolled": true
   },
   "outputs": [],
   "source": [
    "coln=1\n",
    "print(cv_result.groupby(cv_result.columns[coln])['mean_score'].mean())\n",
    "print(cv_result.groupby(cv_result.columns[coln])['mean_score'].std())"
   ]
  },
  {
   "cell_type": "markdown",
   "metadata": {
    "collapsed": true
   },
   "source": [
    "### Results\n",
    "* l1_ratio = cuanto mas chico mejor con lo cual la perdida l2 parece ser mejor\n",
    "* alpha = 1e-3 es suficiente pues casi no afecta el score\n",
    "* power_t = muy variado, no parece haber correlacion entre el tamanyo y el avg, mean_score\n",
    "* eta0 = no afecta mucho pero parece ser que con ser >1 ya esta\n",
    "* power_t = parecen ser practicamente iguales\n",
    "* n_iter = cuanto mas iter NO mejora el score"
   ]
  },
  {
   "cell_type": "code",
   "execution_count": null,
   "metadata": {
    "collapsed": true
   },
   "outputs": [],
   "source": []
  },
  {
   "cell_type": "markdown",
   "metadata": {},
   "source": [
    "## Cross Validate NN"
   ]
  },
  {
   "cell_type": "code",
   "execution_count": 35,
   "metadata": {
    "collapsed": true
   },
   "outputs": [
    {
     "name": "stdout",
     "output_type": "stream",
     "text": [
      "Fitting 3 folds for each of 144 candidates, totalling 432 fits\n",
      "[CV] algorithm=adam, hidden_layer_sizes=(50,), activation=logistic, power_t=0.001, alpha=0.1, learning_rate=adaptive \n",
      "[CV] algorithm=adam, hidden_layer_sizes=(50,), activation=logistic, power_t=0.001, alpha=0.1, learning_rate=adaptive \n",
      "[CV] algorithm=adam, hidden_layer_sizes=(50,), activation=logistic, power_t=0.001, alpha=0.1, learning_rate=adaptive \n",
      "[CV] algorithm=adam, hidden_layer_sizes=(50,), activation=logistic, power_t=0.0005, alpha=0.1, learning_rate=adaptive \n",
      "Iteration 1, loss = 0.20405210\n",
      "Iteration 1, loss = 0.20380843\n",
      "Iteration 1, loss = 0.20378706\n",
      "Iteration 1, loss = 0.20405210\n"
     ]
    },
    {
     "name": "stderr",
     "output_type": "stream",
     "text": [
      "/home/teo/Repositories/scikit-learn/sklearn/metrics/classification.py:1097: UndefinedMetricWarning: F-score is ill-defined and being set to 0.0 due to no predicted samples.\n",
      "  'precision', 'predicted', average, warn_for)\n"
     ]
    },
    {
     "name": "stdout",
     "output_type": "stream",
     "text": [
      "[CV]  algorithm=adam, hidden_layer_sizes=(50,), activation=logistic, power_t=0.0005, alpha=0.1, learning_rate=adaptive, score=0.000000 -   1.5s\n",
      "[CV] algorithm=adam, hidden_layer_sizes=(50,), activation=logistic, power_t=0.0005, alpha=0.1, learning_rate=adaptive \n"
     ]
    },
    {
     "name": "stderr",
     "output_type": "stream",
     "text": [
      "/home/teo/Repositories/scikit-learn/sklearn/metrics/classification.py:1097: UndefinedMetricWarning: F-score is ill-defined and being set to 0.0 due to no predicted samples.\n",
      "  'precision', 'predicted', average, warn_for)\n"
     ]
    },
    {
     "name": "stdout",
     "output_type": "stream",
     "text": [
      "[CV]  algorithm=adam, hidden_layer_sizes=(50,), activation=logistic, power_t=0.001, alpha=0.1, learning_rate=adaptive, score=0.000000 -   1.7s\n"
     ]
    },
    {
     "name": "stderr",
     "output_type": "stream",
     "text": [
      "/home/teo/Repositories/scikit-learn/sklearn/metrics/classification.py:1097: UndefinedMetricWarning: F-score is ill-defined and being set to 0.0 due to no predicted samples.\n",
      "  'precision', 'predicted', average, warn_for)\n"
     ]
    },
    {
     "name": "stdout",
     "output_type": "stream",
     "text": [
      "[CV]  algorithm=adam, hidden_layer_sizes=(50,), activation=logistic, power_t=0.001, alpha=0.1, learning_rate=adaptive, score=0.000000 -   2.1s\n"
     ]
    },
    {
     "name": "stderr",
     "output_type": "stream",
     "text": [
      "/home/teo/Repositories/scikit-learn/sklearn/metrics/classification.py:1097: UndefinedMetricWarning: F-score is ill-defined and being set to 0.0 due to no predicted samples.\n",
      "  'precision', 'predicted', average, warn_for)\n"
     ]
    },
    {
     "name": "stdout",
     "output_type": "stream",
     "text": [
      "[CV]  algorithm=adam, hidden_layer_sizes=(50,), activation=logistic, power_t=0.001, alpha=0.1, learning_rate=adaptive, score=0.000000 -   1.9s\n"
     ]
    },
    {
     "ename": "KeyboardInterrupt",
     "evalue": "",
     "output_type": "error",
     "traceback": [
      "\u001b[1;31m---------------------------------------------------------------------------\u001b[0m",
      "\u001b[1;31mKeyboardInterrupt\u001b[0m                         Traceback (most recent call last)",
      "\u001b[1;32m<ipython-input-35-3491f77d2a02>\u001b[0m in \u001b[0;36m<module>\u001b[1;34m()\u001b[0m\n\u001b[0;32m     16\u001b[0m verbose=3, pre_dispatch='2*n_jobs', error_score='raise')\n\u001b[0;32m     17\u001b[0m \u001b[1;33m\u001b[0m\u001b[0m\n\u001b[1;32m---> 18\u001b[1;33m \u001b[0mclf\u001b[0m\u001b[1;33m.\u001b[0m\u001b[0mfit\u001b[0m\u001b[1;33m(\u001b[0m\u001b[0mX_train\u001b[0m\u001b[1;33m,\u001b[0m\u001b[0my_train\u001b[0m\u001b[1;33m)\u001b[0m\u001b[1;33m\u001b[0m\u001b[0m\n\u001b[0m\u001b[0;32m     19\u001b[0m \u001b[1;33m\u001b[0m\u001b[0m\n\u001b[0;32m     20\u001b[0m \u001b[0mpredicted_proba\u001b[0m \u001b[1;33m=\u001b[0m \u001b[0mpd\u001b[0m\u001b[1;33m.\u001b[0m\u001b[0mDataFrame\u001b[0m\u001b[1;33m(\u001b[0m\u001b[1;33m)\u001b[0m\u001b[1;33m\u001b[0m\u001b[0m\n",
      "\u001b[1;32m/home/teo/Repositories/scikit-learn/sklearn/grid_search.pyc\u001b[0m in \u001b[0;36mfit\u001b[1;34m(self, X, y)\u001b[0m\n\u001b[0;32m    809\u001b[0m \u001b[1;33m\u001b[0m\u001b[0m\n\u001b[0;32m    810\u001b[0m         \"\"\"\n\u001b[1;32m--> 811\u001b[1;33m         \u001b[1;32mreturn\u001b[0m \u001b[0mself\u001b[0m\u001b[1;33m.\u001b[0m\u001b[0m_fit\u001b[0m\u001b[1;33m(\u001b[0m\u001b[0mX\u001b[0m\u001b[1;33m,\u001b[0m \u001b[0my\u001b[0m\u001b[1;33m,\u001b[0m \u001b[0mParameterGrid\u001b[0m\u001b[1;33m(\u001b[0m\u001b[0mself\u001b[0m\u001b[1;33m.\u001b[0m\u001b[0mparam_grid\u001b[0m\u001b[1;33m)\u001b[0m\u001b[1;33m)\u001b[0m\u001b[1;33m\u001b[0m\u001b[0m\n\u001b[0m\u001b[0;32m    812\u001b[0m \u001b[1;33m\u001b[0m\u001b[0m\n\u001b[0;32m    813\u001b[0m \u001b[1;33m\u001b[0m\u001b[0m\n",
      "\u001b[1;32m/home/teo/Repositories/scikit-learn/sklearn/grid_search.pyc\u001b[0m in \u001b[0;36m_fit\u001b[1;34m(self, X, y, parameter_iterable)\u001b[0m\n\u001b[0;32m    558\u001b[0m                                     \u001b[0mself\u001b[0m\u001b[1;33m.\u001b[0m\u001b[0mfit_params\u001b[0m\u001b[1;33m,\u001b[0m \u001b[0mreturn_parameters\u001b[0m\u001b[1;33m=\u001b[0m\u001b[0mTrue\u001b[0m\u001b[1;33m,\u001b[0m\u001b[1;33m\u001b[0m\u001b[0m\n\u001b[0;32m    559\u001b[0m                                     error_score=self.error_score)\n\u001b[1;32m--> 560\u001b[1;33m                 \u001b[1;32mfor\u001b[0m \u001b[0mparameters\u001b[0m \u001b[1;32min\u001b[0m \u001b[0mparameter_iterable\u001b[0m\u001b[1;33m\u001b[0m\u001b[0m\n\u001b[0m\u001b[0;32m    561\u001b[0m                 for train, test in cv)\n\u001b[0;32m    562\u001b[0m \u001b[1;33m\u001b[0m\u001b[0m\n",
      "\u001b[1;32m/home/teo/Repositories/scikit-learn/sklearn/externals/joblib/parallel.pyc\u001b[0m in \u001b[0;36m__call__\u001b[1;34m(self, iterable)\u001b[0m\n\u001b[0;32m    808\u001b[0m                 \u001b[1;31m# consumption.\u001b[0m\u001b[1;33m\u001b[0m\u001b[1;33m\u001b[0m\u001b[0m\n\u001b[0;32m    809\u001b[0m                 \u001b[0mself\u001b[0m\u001b[1;33m.\u001b[0m\u001b[0m_iterating\u001b[0m \u001b[1;33m=\u001b[0m \u001b[0mFalse\u001b[0m\u001b[1;33m\u001b[0m\u001b[0m\n\u001b[1;32m--> 810\u001b[1;33m             \u001b[0mself\u001b[0m\u001b[1;33m.\u001b[0m\u001b[0mretrieve\u001b[0m\u001b[1;33m(\u001b[0m\u001b[1;33m)\u001b[0m\u001b[1;33m\u001b[0m\u001b[0m\n\u001b[0m\u001b[0;32m    811\u001b[0m             \u001b[1;31m# Make sure that we get a last message telling us we are done\u001b[0m\u001b[1;33m\u001b[0m\u001b[1;33m\u001b[0m\u001b[0m\n\u001b[0;32m    812\u001b[0m             \u001b[0melapsed_time\u001b[0m \u001b[1;33m=\u001b[0m \u001b[0mtime\u001b[0m\u001b[1;33m.\u001b[0m\u001b[0mtime\u001b[0m\u001b[1;33m(\u001b[0m\u001b[1;33m)\u001b[0m \u001b[1;33m-\u001b[0m \u001b[0mself\u001b[0m\u001b[1;33m.\u001b[0m\u001b[0m_start_time\u001b[0m\u001b[1;33m\u001b[0m\u001b[0m\n",
      "\u001b[1;32m/home/teo/Repositories/scikit-learn/sklearn/externals/joblib/parallel.pyc\u001b[0m in \u001b[0;36mretrieve\u001b[1;34m(self)\u001b[0m\n\u001b[0;32m    755\u001b[0m                     \u001b[1;31m# a working pool as they expect.\u001b[0m\u001b[1;33m\u001b[0m\u001b[1;33m\u001b[0m\u001b[0m\n\u001b[0;32m    756\u001b[0m                     \u001b[0mself\u001b[0m\u001b[1;33m.\u001b[0m\u001b[0m_initialize_pool\u001b[0m\u001b[1;33m(\u001b[0m\u001b[1;33m)\u001b[0m\u001b[1;33m\u001b[0m\u001b[0m\n\u001b[1;32m--> 757\u001b[1;33m                 \u001b[1;32mraise\u001b[0m \u001b[0mexception\u001b[0m\u001b[1;33m\u001b[0m\u001b[0m\n\u001b[0m\u001b[0;32m    758\u001b[0m \u001b[1;33m\u001b[0m\u001b[0m\n\u001b[0;32m    759\u001b[0m     \u001b[1;32mdef\u001b[0m \u001b[0m__call__\u001b[0m\u001b[1;33m(\u001b[0m\u001b[0mself\u001b[0m\u001b[1;33m,\u001b[0m \u001b[0miterable\u001b[0m\u001b[1;33m)\u001b[0m\u001b[1;33m:\u001b[0m\u001b[1;33m\u001b[0m\u001b[0m\n",
      "\u001b[1;31mKeyboardInterrupt\u001b[0m: "
     ]
    }
   ],
   "source": [
    "start_time = time.time()\n",
    "\n",
    "X_train,X_test,y_train ,y_test = train_test_split(X,y, test_size=0.2, random_state=42)\n",
    "\n",
    "param_grid = { 'alpha': [1e-1,5*1e-2,1e-2],\n",
    "              'hidden_layer_sizes':[(50,),(10,5)],\n",
    "              'learning_rate': ['adaptive',\"invscaling\"],\n",
    "              \"algorithm\": ['adam','sgd'],\n",
    "  'power_t': [1e-3, 5*1e-4, 1e-5], 'activation':['logistic','relu']\n",
    " }\n",
    "\n",
    "mlp = MLPClassifier(shuffle=True, \n",
    "                 verbose=True)\n",
    "\n",
    "clf =GridSearchCV(mlp, param_grid, scoring='f1', fit_params=None, n_jobs=4, iid=True, refit=True, \n",
    "verbose=3, pre_dispatch='2*n_jobs', error_score='raise')\n",
    "\n",
    "clf.fit(X_train,y_train)\n",
    "\n",
    "predicted_proba = pd.DataFrame()\n",
    "predicted_proba['prob'] = clf.predict_proba(X_test).max(axis=1)\n",
    "predicted_proba['gt'] = y_test\n",
    "predicted_proba['class'] = clf.predict(X_test)\n",
    "\n",
    "threshold = 0.7\n",
    "ind = predicted_proba['prob']>threshold\n",
    "\n",
    "all_time =   time.time() - start_time\n",
    "\n",
    "print(classification_report(predicted_proba.loc[ind,'gt'].values,predicted_proba.loc[ind,'class'].values ))\n",
    "\n",
    "cv_result = pd.DataFrame(columns=['mean_score' ] + [key for key, value in clf.grid_scores_[0].parameters.items() ] )\n",
    "i=0\n",
    "for setup in clf.grid_scores_:\n",
    "    row = [clf.grid_scores_[i].mean_validation_score ] + [value for key, value in clf.grid_scores_[i].parameters.items() ]\n",
    "    cv_result.loc[i] = row\n",
    "    i+=1\n",
    "#este flag es basicamente para chequear que hayamos terminado nomas\n",
    "finished = True"
   ]
  },
  {
   "cell_type": "code",
   "execution_count": 1,
   "metadata": {
    "collapsed": true
   },
   "outputs": [
    {
     "ename": "NameError",
     "evalue": "name 'clf' is not defined",
     "output_type": "error",
     "traceback": [
      "\u001b[0;31m---------------------------------------------------------------------------\u001b[0m",
      "\u001b[0;31mNameError\u001b[0m                                 Traceback (most recent call last)",
      "\u001b[0;32m<ipython-input-1-2d39bdb4c6dd>\u001b[0m in \u001b[0;36m<module>\u001b[0;34m()\u001b[0m\n\u001b[0;32m----> 1\u001b[0;31m \u001b[0mclf\u001b[0m\u001b[0;34m.\u001b[0m\u001b[0mbest_estimator_\u001b[0m\u001b[0;34m\u001b[0m\u001b[0m\n\u001b[0m",
      "\u001b[0;31mNameError\u001b[0m: name 'clf' is not defined"
     ]
    }
   ],
   "source": [
    "clf.best_estimator_"
   ]
  },
  {
   "cell_type": "code",
   "execution_count": null,
   "metadata": {
    "collapsed": true
   },
   "outputs": [],
   "source": [
    "# compare best parameters to tune\n",
    "coln=6\n",
    "cv_result.groupby(cv_result.columns[coln])['mean_score'].mean()\n",
    "cv_result.groupby(cv_result.columns[coln])['mean_score'].std()"
   ]
  },
  {
   "cell_type": "markdown",
   "metadata": {
    "collapsed": true
   },
   "source": [
    "### Results\n",
    "* activation = logistic es 10% mejor\n",
    "* alpha = 1e-2 el mejor \n",
    "* power_t = cuanto mas chico mejor, 1e-3 por lo menos\n",
    "* hidden_layer_size = menos layers es mejor..?\n",
    "* power_t = parecen ser practicamente iguales\n",
    "* n_iter = cuanto mas iter NO mejora el score"
   ]
  },
  {
   "cell_type": "markdown",
   "metadata": {},
   "source": [
    "## Bernoulli RBM features selection & Logit crossval"
   ]
  },
  {
   "cell_type": "code",
   "execution_count": 127,
   "metadata": {
    "collapsed": false,
    "scrolled": true
   },
   "outputs": [
    {
     "ename": "KeyboardInterrupt",
     "evalue": "",
     "output_type": "error",
     "traceback": [
      "\u001b[1;31m---------------------------------------------------------------------------\u001b[0m",
      "\u001b[1;31mKeyboardInterrupt\u001b[0m                         Traceback (most recent call last)",
      "\u001b[1;32m<ipython-input-127-8675e4c7d9ab>\u001b[0m in \u001b[0;36m<module>\u001b[1;34m()\u001b[0m\n\u001b[0;32m     39\u001b[0m verbose=0, pre_dispatch='2*n_jobs', error_score='raise')\n\u001b[0;32m     40\u001b[0m \u001b[1;33m\u001b[0m\u001b[0m\n\u001b[1;32m---> 41\u001b[1;33m \u001b[0mclf\u001b[0m\u001b[1;33m.\u001b[0m\u001b[0mfit\u001b[0m\u001b[1;33m(\u001b[0m\u001b[0mX_train\u001b[0m\u001b[1;33m,\u001b[0m\u001b[0my_train\u001b[0m\u001b[1;33m)\u001b[0m\u001b[1;33m\u001b[0m\u001b[0m\n\u001b[0m\u001b[0;32m     42\u001b[0m \u001b[1;33m\u001b[0m\u001b[0m\n\u001b[0;32m     43\u001b[0m \u001b[1;31m#este metodo NO tiene predicted proba, lo que hacemos es recorrer\u001b[0m\u001b[1;33m\u001b[0m\u001b[1;33m\u001b[0m\u001b[0m\n",
      "\u001b[1;32m/home/teo/Repositories/scikit-learn/sklearn/grid_search.pyc\u001b[0m in \u001b[0;36mfit\u001b[1;34m(self, X, y)\u001b[0m\n\u001b[0;32m    809\u001b[0m \u001b[1;33m\u001b[0m\u001b[0m\n\u001b[0;32m    810\u001b[0m         \"\"\"\n\u001b[1;32m--> 811\u001b[1;33m         \u001b[1;32mreturn\u001b[0m \u001b[0mself\u001b[0m\u001b[1;33m.\u001b[0m\u001b[0m_fit\u001b[0m\u001b[1;33m(\u001b[0m\u001b[0mX\u001b[0m\u001b[1;33m,\u001b[0m \u001b[0my\u001b[0m\u001b[1;33m,\u001b[0m \u001b[0mParameterGrid\u001b[0m\u001b[1;33m(\u001b[0m\u001b[0mself\u001b[0m\u001b[1;33m.\u001b[0m\u001b[0mparam_grid\u001b[0m\u001b[1;33m)\u001b[0m\u001b[1;33m)\u001b[0m\u001b[1;33m\u001b[0m\u001b[0m\n\u001b[0m\u001b[0;32m    812\u001b[0m \u001b[1;33m\u001b[0m\u001b[0m\n\u001b[0;32m    813\u001b[0m \u001b[1;33m\u001b[0m\u001b[0m\n",
      "\u001b[1;32m/home/teo/Repositories/scikit-learn/sklearn/grid_search.pyc\u001b[0m in \u001b[0;36m_fit\u001b[1;34m(self, X, y, parameter_iterable)\u001b[0m\n\u001b[0;32m    558\u001b[0m                                     \u001b[0mself\u001b[0m\u001b[1;33m.\u001b[0m\u001b[0mfit_params\u001b[0m\u001b[1;33m,\u001b[0m \u001b[0mreturn_parameters\u001b[0m\u001b[1;33m=\u001b[0m\u001b[0mTrue\u001b[0m\u001b[1;33m,\u001b[0m\u001b[1;33m\u001b[0m\u001b[0m\n\u001b[0;32m    559\u001b[0m                                     error_score=self.error_score)\n\u001b[1;32m--> 560\u001b[1;33m                 \u001b[1;32mfor\u001b[0m \u001b[0mparameters\u001b[0m \u001b[1;32min\u001b[0m \u001b[0mparameter_iterable\u001b[0m\u001b[1;33m\u001b[0m\u001b[0m\n\u001b[0m\u001b[0;32m    561\u001b[0m                 for train, test in cv)\n\u001b[0;32m    562\u001b[0m \u001b[1;33m\u001b[0m\u001b[0m\n",
      "\u001b[1;32m/home/teo/Repositories/scikit-learn/sklearn/externals/joblib/parallel.pyc\u001b[0m in \u001b[0;36m__call__\u001b[1;34m(self, iterable)\u001b[0m\n\u001b[0;32m    808\u001b[0m                 \u001b[1;31m# consumption.\u001b[0m\u001b[1;33m\u001b[0m\u001b[1;33m\u001b[0m\u001b[0m\n\u001b[0;32m    809\u001b[0m                 \u001b[0mself\u001b[0m\u001b[1;33m.\u001b[0m\u001b[0m_iterating\u001b[0m \u001b[1;33m=\u001b[0m \u001b[0mFalse\u001b[0m\u001b[1;33m\u001b[0m\u001b[0m\n\u001b[1;32m--> 810\u001b[1;33m             \u001b[0mself\u001b[0m\u001b[1;33m.\u001b[0m\u001b[0mretrieve\u001b[0m\u001b[1;33m(\u001b[0m\u001b[1;33m)\u001b[0m\u001b[1;33m\u001b[0m\u001b[0m\n\u001b[0m\u001b[0;32m    811\u001b[0m             \u001b[1;31m# Make sure that we get a last message telling us we are done\u001b[0m\u001b[1;33m\u001b[0m\u001b[1;33m\u001b[0m\u001b[0m\n\u001b[0;32m    812\u001b[0m             \u001b[0melapsed_time\u001b[0m \u001b[1;33m=\u001b[0m \u001b[0mtime\u001b[0m\u001b[1;33m.\u001b[0m\u001b[0mtime\u001b[0m\u001b[1;33m(\u001b[0m\u001b[1;33m)\u001b[0m \u001b[1;33m-\u001b[0m \u001b[0mself\u001b[0m\u001b[1;33m.\u001b[0m\u001b[0m_start_time\u001b[0m\u001b[1;33m\u001b[0m\u001b[0m\n",
      "\u001b[1;32m/home/teo/Repositories/scikit-learn/sklearn/externals/joblib/parallel.pyc\u001b[0m in \u001b[0;36mretrieve\u001b[1;34m(self)\u001b[0m\n\u001b[0;32m    755\u001b[0m                     \u001b[1;31m# a working pool as they expect.\u001b[0m\u001b[1;33m\u001b[0m\u001b[1;33m\u001b[0m\u001b[0m\n\u001b[0;32m    756\u001b[0m                     \u001b[0mself\u001b[0m\u001b[1;33m.\u001b[0m\u001b[0m_initialize_pool\u001b[0m\u001b[1;33m(\u001b[0m\u001b[1;33m)\u001b[0m\u001b[1;33m\u001b[0m\u001b[0m\n\u001b[1;32m--> 757\u001b[1;33m                 \u001b[1;32mraise\u001b[0m \u001b[0mexception\u001b[0m\u001b[1;33m\u001b[0m\u001b[0m\n\u001b[0m\u001b[0;32m    758\u001b[0m \u001b[1;33m\u001b[0m\u001b[0m\n\u001b[0;32m    759\u001b[0m     \u001b[1;32mdef\u001b[0m \u001b[0m__call__\u001b[0m\u001b[1;33m(\u001b[0m\u001b[0mself\u001b[0m\u001b[1;33m,\u001b[0m \u001b[0miterable\u001b[0m\u001b[1;33m)\u001b[0m\u001b[1;33m:\u001b[0m\u001b[1;33m\u001b[0m\u001b[0m\n",
      "\u001b[1;31mKeyboardInterrupt\u001b[0m: "
     ]
    }
   ],
   "source": [
    "start_time = time.time()\n",
    "\n",
    "## obs. este metodo es especial y asume que todos los valores son True/False o que \\in [0,1]\n",
    "# luego tengo que pensar en como tomar los features nuevamente.\n",
    "# tampoco 'fittea' en la forma tradicional. Sino que se le puede tomar al y como un feature mas y esta red\n",
    "# va 'modificando' todos los valores del X (minimizando la entropia) para dar un output. Luego corriendo \n",
    "# clf.gibbs(X_test) con el y_test como feature tmb, nos transforma la data para ver el output como la 'prediccion'\n",
    "# obviamente no tiene probabilidades\n",
    "\n",
    "\n",
    "#X = X_train[X_cols].values\n",
    "#y = X_train['ground_truth'].values\n",
    "\n",
    "df = X_train.drop(X_train[X_train[X_train.columns[0:3]].\\\n",
    "                                   sum(axis=1)==0].index)\n",
    "df = df[X_cols + ['ground_truth']]\n",
    "\n",
    "for col in X_train.columns[0:3]:\n",
    "    df[col] = df[col]*1.0/df[df.columns[0:3]].sum(axis=1)\n",
    "\n",
    "df[df.columns[3]] =  df[df.columns[3]]/df[df.columns[3]].max()\n",
    "df[df.columns[4]] =  df[df.columns[4]]/df[df.columns[4]].max()\n",
    "\n",
    "X = df[df.columns[:-1]].values\n",
    "y = df['ground_truth'].values\n",
    "\n",
    "\n",
    "param_grid = {'rbm__n_components': [256, 128,46,10],\n",
    "   'rbm__n_iter':[15,10,5], 'rbm__learning_rate': [1e-4,1e-3,1e-2,1e-1,5*1e-3,5*1e-2,5*1e-1],\n",
    "  'rbm__batch_size': [10e4,3*10e3, 1e3, 300],\"logistic__C\": [1.0, 10.0, 100.0] \n",
    " }\n",
    "\n",
    "rbm = BernoulliRBM(verbose=True)\n",
    "logistic = LogisticRegression()\n",
    "classifier = Pipeline([(\"rbm\", rbm), (\"logistic\", logistic)])\n",
    "\n",
    "X_train,X_test,y_train ,y_test = train_test_split(X,y, test_size=0.2, random_state=42)\n",
    "\n",
    "clf =GridSearchCV(classifier, param_grid, scoring='f1', fit_params=None, n_jobs=4, iid=True, refit=True, \n",
    "verbose=3, pre_dispatch='2*n_jobs', error_score='raise')\n",
    "\n",
    "clf.fit(X_train,y_train)\n",
    "\n",
    "#este metodo NO tiene predicted proba, lo que hacemos es recorrer \n",
    "#predicted_labels = rbm.gibbs(X_test)[:,-1]\n",
    "#real_labels = X_test[:,-1]\n",
    "#print(classification_report(real_labels,predicted_labels ))\n",
    "\n",
    "\n",
    "predicted_proba = pd.DataFrame()\n",
    "predicted_proba['prob'] = clf.predict_proba(X_test).max(axis=1)\n",
    "predicted_proba['gt'] = y_test\n",
    "predicted_proba['class'] = clf.predict(X_test)\n",
    "\n",
    "threshold = 0.7\n",
    "ind = predicted_proba['prob']>threshold\n",
    "print(classification_report(predicted_proba.loc[ind,'gt'].values,predicted_proba.loc[ind,'class'].values ))\n",
    "all_time =   time.time() - start_time\n",
    "\n",
    "finished = True\n",
    "\n",
    "cv_result = pd.DataFrame(columns=['mean_score' ] + [key for key, value in clf.grid_scores_[0].parameters.items() ] )\n",
    "i=0\n",
    "for setup in clf.grid_scores_:\n",
    "    row = [clf.grid_scores_[i].mean_validation_score ] + [value for key, value in clf.grid_scores_[i].parameters.items() ]\n",
    "    cv_result.loc[i] = row\n",
    "    i+=1\n",
    "    \n",
    "print('This cell took %s seconds to run' % all_time)\n"
   ]
  },
  {
   "cell_type": "code",
   "execution_count": null,
   "metadata": {
    "collapsed": true
   },
   "outputs": [],
   "source": [
    "coln=1\n",
    "print(cv_result.groupby(cv_result.columns[coln])['mean_score'].mean())\n",
    "print(cv_result.groupby(cv_result.columns[coln])['mean_score'].std())"
   ]
  },
  {
   "cell_type": "markdown",
   "metadata": {
    "collapsed": true
   },
   "source": [
    "## ADaboost CV"
   ]
  },
  {
   "cell_type": "code",
   "execution_count": 41,
   "metadata": {
    "collapsed": false,
    "scrolled": true
   },
   "outputs": [
    {
     "name": "stdout",
     "output_type": "stream",
     "text": [
      "\n",
      "\n",
      "\n",
      "\n"
     ]
    },
    {
     "ename": "KeyboardInterrupt",
     "evalue": "",
     "output_type": "error",
     "traceback": [
      "\u001b[1;31m---------------------------------------------------------------------------\u001b[0m",
      "\u001b[1;31mKeyboardInterrupt\u001b[0m                         Traceback (most recent call last)",
      "\u001b[1;32m<ipython-input-41-b1ab4c054abd>\u001b[0m in \u001b[0;36m<module>\u001b[1;34m()\u001b[0m\n\u001b[0;32m     18\u001b[0m \u001b[1;33m\u001b[0m\u001b[0m\n\u001b[0;32m     19\u001b[0m \u001b[0mada_est\u001b[0m \u001b[1;33m=\u001b[0m \u001b[0mAdaBoostClassifier\u001b[0m\u001b[1;33m(\u001b[0m\u001b[1;33m)\u001b[0m\u001b[1;33m\u001b[0m\u001b[0m\n\u001b[1;32m---> 20\u001b[1;33m \u001b[0mada_gs_cv\u001b[0m \u001b[1;33m=\u001b[0m \u001b[0mGridSearchCV\u001b[0m\u001b[1;33m(\u001b[0m\u001b[0mada_est\u001b[0m\u001b[1;33m,\u001b[0m \u001b[0mada_param_grid\u001b[0m\u001b[1;33m)\u001b[0m\u001b[1;33m.\u001b[0m\u001b[0mfit\u001b[0m\u001b[1;33m(\u001b[0m\u001b[0mX_train\u001b[0m\u001b[1;33m,\u001b[0m \u001b[0my_train\u001b[0m\u001b[1;33m)\u001b[0m\u001b[1;33m\u001b[0m\u001b[0m\n\u001b[0m\u001b[0;32m     21\u001b[0m \u001b[1;32mprint\u001b[0m\u001b[1;33m(\u001b[0m\u001b[0mada_gs_cv\u001b[0m\u001b[1;33m.\u001b[0m\u001b[0mbest_score_\u001b[0m\u001b[1;33m,\u001b[0m \u001b[0mada_gs_cv\u001b[0m\u001b[1;33m.\u001b[0m\u001b[0mbest_params_\u001b[0m\u001b[1;33m)\u001b[0m\u001b[1;33m\u001b[0m\u001b[0m\n\u001b[0;32m     22\u001b[0m \u001b[1;32mprint\u001b[0m\u001b[1;33m(\u001b[0m\u001b[1;34m'\\n'\u001b[0m\u001b[1;33m)\u001b[0m\u001b[1;33m\u001b[0m\u001b[0m\n",
      "\u001b[1;32m/home/teo/Repositories/scikit-learn/sklearn/grid_search.pyc\u001b[0m in \u001b[0;36mfit\u001b[1;34m(self, X, y)\u001b[0m\n\u001b[0;32m    809\u001b[0m \u001b[1;33m\u001b[0m\u001b[0m\n\u001b[0;32m    810\u001b[0m         \"\"\"\n\u001b[1;32m--> 811\u001b[1;33m         \u001b[1;32mreturn\u001b[0m \u001b[0mself\u001b[0m\u001b[1;33m.\u001b[0m\u001b[0m_fit\u001b[0m\u001b[1;33m(\u001b[0m\u001b[0mX\u001b[0m\u001b[1;33m,\u001b[0m \u001b[0my\u001b[0m\u001b[1;33m,\u001b[0m \u001b[0mParameterGrid\u001b[0m\u001b[1;33m(\u001b[0m\u001b[0mself\u001b[0m\u001b[1;33m.\u001b[0m\u001b[0mparam_grid\u001b[0m\u001b[1;33m)\u001b[0m\u001b[1;33m)\u001b[0m\u001b[1;33m\u001b[0m\u001b[0m\n\u001b[0m\u001b[0;32m    812\u001b[0m \u001b[1;33m\u001b[0m\u001b[0m\n\u001b[0;32m    813\u001b[0m \u001b[1;33m\u001b[0m\u001b[0m\n",
      "\u001b[1;32m/home/teo/Repositories/scikit-learn/sklearn/grid_search.pyc\u001b[0m in \u001b[0;36m_fit\u001b[1;34m(self, X, y, parameter_iterable)\u001b[0m\n\u001b[0;32m    558\u001b[0m                                     \u001b[0mself\u001b[0m\u001b[1;33m.\u001b[0m\u001b[0mfit_params\u001b[0m\u001b[1;33m,\u001b[0m \u001b[0mreturn_parameters\u001b[0m\u001b[1;33m=\u001b[0m\u001b[0mTrue\u001b[0m\u001b[1;33m,\u001b[0m\u001b[1;33m\u001b[0m\u001b[0m\n\u001b[0;32m    559\u001b[0m                                     error_score=self.error_score)\n\u001b[1;32m--> 560\u001b[1;33m                 \u001b[1;32mfor\u001b[0m \u001b[0mparameters\u001b[0m \u001b[1;32min\u001b[0m \u001b[0mparameter_iterable\u001b[0m\u001b[1;33m\u001b[0m\u001b[0m\n\u001b[0m\u001b[0;32m    561\u001b[0m                 for train, test in cv)\n\u001b[0;32m    562\u001b[0m \u001b[1;33m\u001b[0m\u001b[0m\n",
      "\u001b[1;32m/home/teo/Repositories/scikit-learn/sklearn/externals/joblib/parallel.pyc\u001b[0m in \u001b[0;36m__call__\u001b[1;34m(self, iterable)\u001b[0m\n\u001b[0;32m    798\u001b[0m             \u001b[1;31m# was dispatched. In particular this covers the edge\u001b[0m\u001b[1;33m\u001b[0m\u001b[1;33m\u001b[0m\u001b[0m\n\u001b[0;32m    799\u001b[0m             \u001b[1;31m# case of Parallel used with an exhausted iterator.\u001b[0m\u001b[1;33m\u001b[0m\u001b[1;33m\u001b[0m\u001b[0m\n\u001b[1;32m--> 800\u001b[1;33m             \u001b[1;32mwhile\u001b[0m \u001b[0mself\u001b[0m\u001b[1;33m.\u001b[0m\u001b[0mdispatch_one_batch\u001b[0m\u001b[1;33m(\u001b[0m\u001b[0miterator\u001b[0m\u001b[1;33m)\u001b[0m\u001b[1;33m:\u001b[0m\u001b[1;33m\u001b[0m\u001b[0m\n\u001b[0m\u001b[0;32m    801\u001b[0m                 \u001b[0mself\u001b[0m\u001b[1;33m.\u001b[0m\u001b[0m_iterating\u001b[0m \u001b[1;33m=\u001b[0m \u001b[0mTrue\u001b[0m\u001b[1;33m\u001b[0m\u001b[0m\n\u001b[0;32m    802\u001b[0m             \u001b[1;32melse\u001b[0m\u001b[1;33m:\u001b[0m\u001b[1;33m\u001b[0m\u001b[0m\n",
      "\u001b[1;32m/home/teo/Repositories/scikit-learn/sklearn/externals/joblib/parallel.pyc\u001b[0m in \u001b[0;36mdispatch_one_batch\u001b[1;34m(self, iterator)\u001b[0m\n\u001b[0;32m    656\u001b[0m                 \u001b[1;32mreturn\u001b[0m \u001b[0mFalse\u001b[0m\u001b[1;33m\u001b[0m\u001b[0m\n\u001b[0;32m    657\u001b[0m             \u001b[1;32melse\u001b[0m\u001b[1;33m:\u001b[0m\u001b[1;33m\u001b[0m\u001b[0m\n\u001b[1;32m--> 658\u001b[1;33m                 \u001b[0mself\u001b[0m\u001b[1;33m.\u001b[0m\u001b[0m_dispatch\u001b[0m\u001b[1;33m(\u001b[0m\u001b[0mtasks\u001b[0m\u001b[1;33m)\u001b[0m\u001b[1;33m\u001b[0m\u001b[0m\n\u001b[0m\u001b[0;32m    659\u001b[0m                 \u001b[1;32mreturn\u001b[0m \u001b[0mTrue\u001b[0m\u001b[1;33m\u001b[0m\u001b[0m\n\u001b[0;32m    660\u001b[0m \u001b[1;33m\u001b[0m\u001b[0m\n",
      "\u001b[1;32m/home/teo/Repositories/scikit-learn/sklearn/externals/joblib/parallel.pyc\u001b[0m in \u001b[0;36m_dispatch\u001b[1;34m(self, batch)\u001b[0m\n\u001b[0;32m    564\u001b[0m \u001b[1;33m\u001b[0m\u001b[0m\n\u001b[0;32m    565\u001b[0m         \u001b[1;32mif\u001b[0m \u001b[0mself\u001b[0m\u001b[1;33m.\u001b[0m\u001b[0m_pool\u001b[0m \u001b[1;32mis\u001b[0m \u001b[0mNone\u001b[0m\u001b[1;33m:\u001b[0m\u001b[1;33m\u001b[0m\u001b[0m\n\u001b[1;32m--> 566\u001b[1;33m             \u001b[0mjob\u001b[0m \u001b[1;33m=\u001b[0m \u001b[0mImmediateComputeBatch\u001b[0m\u001b[1;33m(\u001b[0m\u001b[0mbatch\u001b[0m\u001b[1;33m)\u001b[0m\u001b[1;33m\u001b[0m\u001b[0m\n\u001b[0m\u001b[0;32m    567\u001b[0m             \u001b[0mself\u001b[0m\u001b[1;33m.\u001b[0m\u001b[0m_jobs\u001b[0m\u001b[1;33m.\u001b[0m\u001b[0mappend\u001b[0m\u001b[1;33m(\u001b[0m\u001b[0mjob\u001b[0m\u001b[1;33m)\u001b[0m\u001b[1;33m\u001b[0m\u001b[0m\n\u001b[0;32m    568\u001b[0m             \u001b[0mself\u001b[0m\u001b[1;33m.\u001b[0m\u001b[0mn_dispatched_batches\u001b[0m \u001b[1;33m+=\u001b[0m \u001b[1;36m1\u001b[0m\u001b[1;33m\u001b[0m\u001b[0m\n",
      "\u001b[1;32m/home/teo/Repositories/scikit-learn/sklearn/externals/joblib/parallel.pyc\u001b[0m in \u001b[0;36m__init__\u001b[1;34m(self, batch)\u001b[0m\n\u001b[0;32m    178\u001b[0m         \u001b[1;31m# Don't delay the application, to avoid keeping the input\u001b[0m\u001b[1;33m\u001b[0m\u001b[1;33m\u001b[0m\u001b[0m\n\u001b[0;32m    179\u001b[0m         \u001b[1;31m# arguments in memory\u001b[0m\u001b[1;33m\u001b[0m\u001b[1;33m\u001b[0m\u001b[0m\n\u001b[1;32m--> 180\u001b[1;33m         \u001b[0mself\u001b[0m\u001b[1;33m.\u001b[0m\u001b[0mresults\u001b[0m \u001b[1;33m=\u001b[0m \u001b[0mbatch\u001b[0m\u001b[1;33m(\u001b[0m\u001b[1;33m)\u001b[0m\u001b[1;33m\u001b[0m\u001b[0m\n\u001b[0m\u001b[0;32m    181\u001b[0m \u001b[1;33m\u001b[0m\u001b[0m\n\u001b[0;32m    182\u001b[0m     \u001b[1;32mdef\u001b[0m \u001b[0mget\u001b[0m\u001b[1;33m(\u001b[0m\u001b[0mself\u001b[0m\u001b[1;33m)\u001b[0m\u001b[1;33m:\u001b[0m\u001b[1;33m\u001b[0m\u001b[0m\n",
      "\u001b[1;32m/home/teo/Repositories/scikit-learn/sklearn/externals/joblib/parallel.pyc\u001b[0m in \u001b[0;36m__call__\u001b[1;34m(self)\u001b[0m\n\u001b[0;32m     70\u001b[0m \u001b[1;33m\u001b[0m\u001b[0m\n\u001b[0;32m     71\u001b[0m     \u001b[1;32mdef\u001b[0m \u001b[0m__call__\u001b[0m\u001b[1;33m(\u001b[0m\u001b[0mself\u001b[0m\u001b[1;33m)\u001b[0m\u001b[1;33m:\u001b[0m\u001b[1;33m\u001b[0m\u001b[0m\n\u001b[1;32m---> 72\u001b[1;33m         \u001b[1;32mreturn\u001b[0m \u001b[1;33m[\u001b[0m\u001b[0mfunc\u001b[0m\u001b[1;33m(\u001b[0m\u001b[1;33m*\u001b[0m\u001b[0margs\u001b[0m\u001b[1;33m,\u001b[0m \u001b[1;33m**\u001b[0m\u001b[0mkwargs\u001b[0m\u001b[1;33m)\u001b[0m \u001b[1;32mfor\u001b[0m \u001b[0mfunc\u001b[0m\u001b[1;33m,\u001b[0m \u001b[0margs\u001b[0m\u001b[1;33m,\u001b[0m \u001b[0mkwargs\u001b[0m \u001b[1;32min\u001b[0m \u001b[0mself\u001b[0m\u001b[1;33m.\u001b[0m\u001b[0mitems\u001b[0m\u001b[1;33m]\u001b[0m\u001b[1;33m\u001b[0m\u001b[0m\n\u001b[0m\u001b[0;32m     73\u001b[0m \u001b[1;33m\u001b[0m\u001b[0m\n\u001b[0;32m     74\u001b[0m     \u001b[1;32mdef\u001b[0m \u001b[0m__len__\u001b[0m\u001b[1;33m(\u001b[0m\u001b[0mself\u001b[0m\u001b[1;33m)\u001b[0m\u001b[1;33m:\u001b[0m\u001b[1;33m\u001b[0m\u001b[0m\n",
      "\u001b[1;32m/home/teo/Repositories/scikit-learn/sklearn/cross_validation.pyc\u001b[0m in \u001b[0;36m_fit_and_score\u001b[1;34m(estimator, X, y, scorer, train, test, verbose, parameters, fit_params, return_train_score, return_parameters, error_score)\u001b[0m\n\u001b[0;32m   1551\u001b[0m             \u001b[0mestimator\u001b[0m\u001b[1;33m.\u001b[0m\u001b[0mfit\u001b[0m\u001b[1;33m(\u001b[0m\u001b[0mX_train\u001b[0m\u001b[1;33m,\u001b[0m \u001b[1;33m**\u001b[0m\u001b[0mfit_params\u001b[0m\u001b[1;33m)\u001b[0m\u001b[1;33m\u001b[0m\u001b[0m\n\u001b[0;32m   1552\u001b[0m         \u001b[1;32melse\u001b[0m\u001b[1;33m:\u001b[0m\u001b[1;33m\u001b[0m\u001b[0m\n\u001b[1;32m-> 1553\u001b[1;33m             \u001b[0mestimator\u001b[0m\u001b[1;33m.\u001b[0m\u001b[0mfit\u001b[0m\u001b[1;33m(\u001b[0m\u001b[0mX_train\u001b[0m\u001b[1;33m,\u001b[0m \u001b[0my_train\u001b[0m\u001b[1;33m,\u001b[0m \u001b[1;33m**\u001b[0m\u001b[0mfit_params\u001b[0m\u001b[1;33m)\u001b[0m\u001b[1;33m\u001b[0m\u001b[0m\n\u001b[0m\u001b[0;32m   1554\u001b[0m \u001b[1;33m\u001b[0m\u001b[0m\n\u001b[0;32m   1555\u001b[0m     \u001b[1;32mexcept\u001b[0m \u001b[0mException\u001b[0m \u001b[1;32mas\u001b[0m \u001b[0me\u001b[0m\u001b[1;33m:\u001b[0m\u001b[1;33m\u001b[0m\u001b[0m\n",
      "\u001b[1;32m/home/teo/Repositories/scikit-learn/sklearn/ensemble/weight_boosting.pyc\u001b[0m in \u001b[0;36mfit\u001b[1;34m(self, X, y, sample_weight)\u001b[0m\n\u001b[0;32m    403\u001b[0m \u001b[1;33m\u001b[0m\u001b[0m\n\u001b[0;32m    404\u001b[0m         \u001b[1;31m# Fit\u001b[0m\u001b[1;33m\u001b[0m\u001b[1;33m\u001b[0m\u001b[0m\n\u001b[1;32m--> 405\u001b[1;33m         \u001b[1;32mreturn\u001b[0m \u001b[0msuper\u001b[0m\u001b[1;33m(\u001b[0m\u001b[0mAdaBoostClassifier\u001b[0m\u001b[1;33m,\u001b[0m \u001b[0mself\u001b[0m\u001b[1;33m)\u001b[0m\u001b[1;33m.\u001b[0m\u001b[0mfit\u001b[0m\u001b[1;33m(\u001b[0m\u001b[0mX\u001b[0m\u001b[1;33m,\u001b[0m \u001b[0my\u001b[0m\u001b[1;33m,\u001b[0m \u001b[0msample_weight\u001b[0m\u001b[1;33m)\u001b[0m\u001b[1;33m\u001b[0m\u001b[0m\n\u001b[0m\u001b[0;32m    406\u001b[0m \u001b[1;33m\u001b[0m\u001b[0m\n\u001b[0;32m    407\u001b[0m     \u001b[1;32mdef\u001b[0m \u001b[0m_validate_estimator\u001b[0m\u001b[1;33m(\u001b[0m\u001b[0mself\u001b[0m\u001b[1;33m)\u001b[0m\u001b[1;33m:\u001b[0m\u001b[1;33m\u001b[0m\u001b[0m\n",
      "\u001b[1;32m/home/teo/Repositories/scikit-learn/sklearn/ensemble/weight_boosting.pyc\u001b[0m in \u001b[0;36mfit\u001b[1;34m(self, X, y, sample_weight)\u001b[0m\n\u001b[0;32m    138\u001b[0m                 \u001b[0miboost\u001b[0m\u001b[1;33m,\u001b[0m\u001b[1;33m\u001b[0m\u001b[0m\n\u001b[0;32m    139\u001b[0m                 \u001b[0mX\u001b[0m\u001b[1;33m,\u001b[0m \u001b[0my\u001b[0m\u001b[1;33m,\u001b[0m\u001b[1;33m\u001b[0m\u001b[0m\n\u001b[1;32m--> 140\u001b[1;33m                 sample_weight)\n\u001b[0m\u001b[0;32m    141\u001b[0m \u001b[1;33m\u001b[0m\u001b[0m\n\u001b[0;32m    142\u001b[0m             \u001b[1;31m# Early termination\u001b[0m\u001b[1;33m\u001b[0m\u001b[1;33m\u001b[0m\u001b[0m\n",
      "\u001b[1;32m/home/teo/Repositories/scikit-learn/sklearn/ensemble/weight_boosting.pyc\u001b[0m in \u001b[0;36m_boost\u001b[1;34m(self, iboost, X, y, sample_weight)\u001b[0m\n\u001b[0;32m    460\u001b[0m         \"\"\"\n\u001b[0;32m    461\u001b[0m         \u001b[1;32mif\u001b[0m \u001b[0mself\u001b[0m\u001b[1;33m.\u001b[0m\u001b[0malgorithm\u001b[0m \u001b[1;33m==\u001b[0m \u001b[1;34m'SAMME.R'\u001b[0m\u001b[1;33m:\u001b[0m\u001b[1;33m\u001b[0m\u001b[0m\n\u001b[1;32m--> 462\u001b[1;33m             \u001b[1;32mreturn\u001b[0m \u001b[0mself\u001b[0m\u001b[1;33m.\u001b[0m\u001b[0m_boost_real\u001b[0m\u001b[1;33m(\u001b[0m\u001b[0miboost\u001b[0m\u001b[1;33m,\u001b[0m \u001b[0mX\u001b[0m\u001b[1;33m,\u001b[0m \u001b[0my\u001b[0m\u001b[1;33m,\u001b[0m \u001b[0msample_weight\u001b[0m\u001b[1;33m)\u001b[0m\u001b[1;33m\u001b[0m\u001b[0m\n\u001b[0m\u001b[0;32m    463\u001b[0m \u001b[1;33m\u001b[0m\u001b[0m\n\u001b[0;32m    464\u001b[0m         \u001b[1;32melse\u001b[0m\u001b[1;33m:\u001b[0m  \u001b[1;31m# elif self.algorithm == \"SAMME\":\u001b[0m\u001b[1;33m\u001b[0m\u001b[0m\n",
      "\u001b[1;32m/home/teo/Repositories/scikit-learn/sklearn/ensemble/weight_boosting.pyc\u001b[0m in \u001b[0;36m_boost_real\u001b[1;34m(self, iboost, X, y, sample_weight)\u001b[0m\n\u001b[0;32m    474\u001b[0m             \u001b[1;32mpass\u001b[0m\u001b[1;33m\u001b[0m\u001b[0m\n\u001b[0;32m    475\u001b[0m \u001b[1;33m\u001b[0m\u001b[0m\n\u001b[1;32m--> 476\u001b[1;33m         \u001b[0mestimator\u001b[0m\u001b[1;33m.\u001b[0m\u001b[0mfit\u001b[0m\u001b[1;33m(\u001b[0m\u001b[0mX\u001b[0m\u001b[1;33m,\u001b[0m \u001b[0my\u001b[0m\u001b[1;33m,\u001b[0m \u001b[0msample_weight\u001b[0m\u001b[1;33m=\u001b[0m\u001b[0msample_weight\u001b[0m\u001b[1;33m)\u001b[0m\u001b[1;33m\u001b[0m\u001b[0m\n\u001b[0m\u001b[0;32m    477\u001b[0m \u001b[1;33m\u001b[0m\u001b[0m\n\u001b[0;32m    478\u001b[0m         \u001b[0my_predict_proba\u001b[0m \u001b[1;33m=\u001b[0m \u001b[0mestimator\u001b[0m\u001b[1;33m.\u001b[0m\u001b[0mpredict_proba\u001b[0m\u001b[1;33m(\u001b[0m\u001b[0mX\u001b[0m\u001b[1;33m)\u001b[0m\u001b[1;33m\u001b[0m\u001b[0m\n",
      "\u001b[1;32m/home/teo/Repositories/scikit-learn/sklearn/tree/tree.pyc\u001b[0m in \u001b[0;36mfit\u001b[1;34m(self, X, y, sample_weight, check_input, X_idx_sorted)\u001b[0m\n\u001b[0;32m    366\u001b[0m                                            max_leaf_nodes)\n\u001b[0;32m    367\u001b[0m \u001b[1;33m\u001b[0m\u001b[0m\n\u001b[1;32m--> 368\u001b[1;33m         \u001b[0mbuilder\u001b[0m\u001b[1;33m.\u001b[0m\u001b[0mbuild\u001b[0m\u001b[1;33m(\u001b[0m\u001b[0mself\u001b[0m\u001b[1;33m.\u001b[0m\u001b[0mtree_\u001b[0m\u001b[1;33m,\u001b[0m \u001b[0mX\u001b[0m\u001b[1;33m,\u001b[0m \u001b[0my\u001b[0m\u001b[1;33m,\u001b[0m \u001b[0msample_weight\u001b[0m\u001b[1;33m,\u001b[0m \u001b[0mX_idx_sorted\u001b[0m\u001b[1;33m)\u001b[0m\u001b[1;33m\u001b[0m\u001b[0m\n\u001b[0m\u001b[0;32m    369\u001b[0m \u001b[1;33m\u001b[0m\u001b[0m\n\u001b[0;32m    370\u001b[0m         \u001b[1;32mif\u001b[0m \u001b[0mself\u001b[0m\u001b[1;33m.\u001b[0m\u001b[0mn_outputs_\u001b[0m \u001b[1;33m==\u001b[0m \u001b[1;36m1\u001b[0m\u001b[1;33m:\u001b[0m\u001b[1;33m\u001b[0m\u001b[0m\n",
      "\u001b[1;31mKeyboardInterrupt\u001b[0m: "
     ]
    }
   ],
   "source": [
    "rf_param_grid = {'n_estimators': [10, 30, 100, 300, 1000]}\n",
    "boost_param_grid = {'n_estimators': [10, 30, 100, 300, 1000],\n",
    "                      'max_depth': [2, 3, 4, 5],\n",
    "                      'min_samples_leaf': [1, 2, 3]}\n",
    "ada_param_grid = {'n_estimators': [10, 30, 100, 300, 1000],\n",
    "                   'learning_rate': [0.1, 0.3, 1.0, 3.0]}\n",
    "\n",
    "X_train,X_test,y_train ,y_test = train_test_split(X,y, test_size=0.2, random_state=42)\n",
    "#rf_est = RandomForestClassifier()\n",
    "#rf_gs_cv = GridSearchCV(rf_est, rf_param_grid).fit(X_train, Y_train)\n",
    "#print(rf_gs_cv.best_score_, rf_gs_cv.best_params_)\n",
    "print('\\n')\n",
    " \n",
    "#boost_est = GradientBoostingClassifier()\n",
    "#boost_gs_cv = GridSearchCV(boost_est, boost_param_grid).fit(X_train, y_train)\n",
    "#print(boost_gs_cv.best_score_, boost_gs_cv.best_params_)\n",
    "print('\\n')\n",
    " \n",
    "ada_est = AdaBoostClassifier()\n",
    "ada_gs_cv = GridSearchCV(ada_est, ada_param_grid).fit(X_train, y_train)\n",
    "print(ada_gs_cv.best_score_, ada_gs_cv.best_params_)\n",
    "print('\\n')"
   ]
  },
  {
   "cell_type": "code",
   "execution_count": 42,
   "metadata": {
    "collapsed": false,
    "scrolled": true
   },
   "outputs": [
    {
     "name": "stdout",
     "output_type": "stream",
     "text": [
      "Fitting 3 folds for each of 42 candidates, totalling 126 fits\n",
      "[CV] n_estimators=200, learning_rate=0.0001 ..........................\n",
      "[CV] n_estimators=200, learning_rate=0.0001 ..........................\n",
      "[CV] n_estimators=200, learning_rate=0.0001 ..........................\n",
      "[CV] n_estimators=600, learning_rate=0.0001 ..........................\n",
      "[CV] n_estimators=600, learning_rate=0.0001 ..........................\n"
     ]
    },
    {
     "ename": "KeyboardInterrupt",
     "evalue": "",
     "output_type": "error",
     "traceback": [
      "\u001b[1;31m---------------------------------------------------------------------------\u001b[0m",
      "\u001b[1;31mKeyboardInterrupt\u001b[0m                         Traceback (most recent call last)",
      "\u001b[1;32m<ipython-input-42-05e56bcecea4>\u001b[0m in \u001b[0;36m<module>\u001b[1;34m()\u001b[0m\n\u001b[0;32m     11\u001b[0m verbose=3, pre_dispatch='2*n_jobs', error_score='raise')\n\u001b[0;32m     12\u001b[0m \u001b[1;33m\u001b[0m\u001b[0m\n\u001b[1;32m---> 13\u001b[1;33m \u001b[0mclf\u001b[0m\u001b[1;33m.\u001b[0m\u001b[0mfit\u001b[0m\u001b[1;33m(\u001b[0m\u001b[0mX_train\u001b[0m\u001b[1;33m,\u001b[0m\u001b[0my_train\u001b[0m\u001b[1;33m)\u001b[0m\u001b[1;33m\u001b[0m\u001b[0m\n\u001b[0m\u001b[0;32m     14\u001b[0m \u001b[1;33m\u001b[0m\u001b[0m\n\u001b[0;32m     15\u001b[0m \u001b[0mpredicted_proba\u001b[0m \u001b[1;33m=\u001b[0m \u001b[0mpd\u001b[0m\u001b[1;33m.\u001b[0m\u001b[0mDataFrame\u001b[0m\u001b[1;33m(\u001b[0m\u001b[1;33m)\u001b[0m\u001b[1;33m\u001b[0m\u001b[0m\n",
      "\u001b[1;32m/home/teo/Repositories/scikit-learn/sklearn/grid_search.pyc\u001b[0m in \u001b[0;36mfit\u001b[1;34m(self, X, y)\u001b[0m\n\u001b[0;32m    809\u001b[0m \u001b[1;33m\u001b[0m\u001b[0m\n\u001b[0;32m    810\u001b[0m         \"\"\"\n\u001b[1;32m--> 811\u001b[1;33m         \u001b[1;32mreturn\u001b[0m \u001b[0mself\u001b[0m\u001b[1;33m.\u001b[0m\u001b[0m_fit\u001b[0m\u001b[1;33m(\u001b[0m\u001b[0mX\u001b[0m\u001b[1;33m,\u001b[0m \u001b[0my\u001b[0m\u001b[1;33m,\u001b[0m \u001b[0mParameterGrid\u001b[0m\u001b[1;33m(\u001b[0m\u001b[0mself\u001b[0m\u001b[1;33m.\u001b[0m\u001b[0mparam_grid\u001b[0m\u001b[1;33m)\u001b[0m\u001b[1;33m)\u001b[0m\u001b[1;33m\u001b[0m\u001b[0m\n\u001b[0m\u001b[0;32m    812\u001b[0m \u001b[1;33m\u001b[0m\u001b[0m\n\u001b[0;32m    813\u001b[0m \u001b[1;33m\u001b[0m\u001b[0m\n",
      "\u001b[1;32m/home/teo/Repositories/scikit-learn/sklearn/grid_search.pyc\u001b[0m in \u001b[0;36m_fit\u001b[1;34m(self, X, y, parameter_iterable)\u001b[0m\n\u001b[0;32m    558\u001b[0m                                     \u001b[0mself\u001b[0m\u001b[1;33m.\u001b[0m\u001b[0mfit_params\u001b[0m\u001b[1;33m,\u001b[0m \u001b[0mreturn_parameters\u001b[0m\u001b[1;33m=\u001b[0m\u001b[0mTrue\u001b[0m\u001b[1;33m,\u001b[0m\u001b[1;33m\u001b[0m\u001b[0m\n\u001b[0;32m    559\u001b[0m                                     error_score=self.error_score)\n\u001b[1;32m--> 560\u001b[1;33m                 \u001b[1;32mfor\u001b[0m \u001b[0mparameters\u001b[0m \u001b[1;32min\u001b[0m \u001b[0mparameter_iterable\u001b[0m\u001b[1;33m\u001b[0m\u001b[0m\n\u001b[0m\u001b[0;32m    561\u001b[0m                 for train, test in cv)\n\u001b[0;32m    562\u001b[0m \u001b[1;33m\u001b[0m\u001b[0m\n",
      "\u001b[1;32m/home/teo/Repositories/scikit-learn/sklearn/externals/joblib/parallel.pyc\u001b[0m in \u001b[0;36m__call__\u001b[1;34m(self, iterable)\u001b[0m\n\u001b[0;32m    808\u001b[0m                 \u001b[1;31m# consumption.\u001b[0m\u001b[1;33m\u001b[0m\u001b[1;33m\u001b[0m\u001b[0m\n\u001b[0;32m    809\u001b[0m                 \u001b[0mself\u001b[0m\u001b[1;33m.\u001b[0m\u001b[0m_iterating\u001b[0m \u001b[1;33m=\u001b[0m \u001b[0mFalse\u001b[0m\u001b[1;33m\u001b[0m\u001b[0m\n\u001b[1;32m--> 810\u001b[1;33m             \u001b[0mself\u001b[0m\u001b[1;33m.\u001b[0m\u001b[0mretrieve\u001b[0m\u001b[1;33m(\u001b[0m\u001b[1;33m)\u001b[0m\u001b[1;33m\u001b[0m\u001b[0m\n\u001b[0m\u001b[0;32m    811\u001b[0m             \u001b[1;31m# Make sure that we get a last message telling us we are done\u001b[0m\u001b[1;33m\u001b[0m\u001b[1;33m\u001b[0m\u001b[0m\n\u001b[0;32m    812\u001b[0m             \u001b[0melapsed_time\u001b[0m \u001b[1;33m=\u001b[0m \u001b[0mtime\u001b[0m\u001b[1;33m.\u001b[0m\u001b[0mtime\u001b[0m\u001b[1;33m(\u001b[0m\u001b[1;33m)\u001b[0m \u001b[1;33m-\u001b[0m \u001b[0mself\u001b[0m\u001b[1;33m.\u001b[0m\u001b[0m_start_time\u001b[0m\u001b[1;33m\u001b[0m\u001b[0m\n",
      "\u001b[1;32m/home/teo/Repositories/scikit-learn/sklearn/externals/joblib/parallel.pyc\u001b[0m in \u001b[0;36mretrieve\u001b[1;34m(self)\u001b[0m\n\u001b[0;32m    755\u001b[0m                     \u001b[1;31m# a working pool as they expect.\u001b[0m\u001b[1;33m\u001b[0m\u001b[1;33m\u001b[0m\u001b[0m\n\u001b[0;32m    756\u001b[0m                     \u001b[0mself\u001b[0m\u001b[1;33m.\u001b[0m\u001b[0m_initialize_pool\u001b[0m\u001b[1;33m(\u001b[0m\u001b[1;33m)\u001b[0m\u001b[1;33m\u001b[0m\u001b[0m\n\u001b[1;32m--> 757\u001b[1;33m                 \u001b[1;32mraise\u001b[0m \u001b[0mexception\u001b[0m\u001b[1;33m\u001b[0m\u001b[0m\n\u001b[0m\u001b[0;32m    758\u001b[0m \u001b[1;33m\u001b[0m\u001b[0m\n\u001b[0;32m    759\u001b[0m     \u001b[1;32mdef\u001b[0m \u001b[0m__call__\u001b[0m\u001b[1;33m(\u001b[0m\u001b[0mself\u001b[0m\u001b[1;33m,\u001b[0m \u001b[0miterable\u001b[0m\u001b[1;33m)\u001b[0m\u001b[1;33m:\u001b[0m\u001b[1;33m\u001b[0m\u001b[0m\n",
      "\u001b[1;31mKeyboardInterrupt\u001b[0m: "
     ]
    }
   ],
   "source": [
    "start_time = time.time()\n",
    "\n",
    "\n",
    "param_grid = {'n_estimators': [200,600,60,45,30,15],\n",
    " 'learning_rate': [1e-4,1e-3,1e-2,1e-1,5*1e-3,5*1e-2,5*1e-1]\n",
    " }\n",
    "\n",
    "aboost = AdaBoostClassifier(algorithm='SAMME.R')\n",
    "\n",
    "clf =GridSearchCV(aboost, param_grid, scoring='f1', fit_params=None, n_jobs=4, iid=True, refit=True, \n",
    "verbose=3, pre_dispatch='2*n_jobs', error_score='raise')\n",
    "\n",
    "clf.fit(X_train,y_train)\n",
    "\n",
    "predicted_proba = pd.DataFrame()\n",
    "predicted_proba['prob'] = clf.predict_proba(X_test).max(axis=1)\n",
    "predicted_proba['gt'] = y_test\n",
    "predicted_proba['class'] = clf.predict(X_test)\n",
    "\n",
    "threshold = 0.7\n",
    "ind = predicted_proba['prob']>threshold\n",
    "print(classification_report(predicted_proba.loc[ind,'gt'].values,predicted_proba.loc[ind,'class'].values ))\n",
    "all_time =   time.time() - start_time\n",
    "\n",
    "print('This cell took %s seconds to run' % all_time)\n",
    "\n",
    "finished = True\n",
    "#este flag es basicamente para chequear \n",
    "\n",
    "cv_result = pd.DataFrame(columns=['mean_score' ] + [key for key, value in clf.grid_scores_[0].parameters.items() ] )\n",
    "i=0\n",
    "for setup in clf.grid_scores_:\n",
    "    row = [clf.grid_scores_[i].mean_validation_score ] + [value for key, value in clf.grid_scores_[i].parameters.items() ]\n",
    "    cv_result.loc[i] = row\n",
    "    i+=1\n",
    "\n",
    "finished = True"
   ]
  },
  {
   "cell_type": "code",
   "execution_count": 23,
   "metadata": {
    "collapsed": true
   },
   "outputs": [
    {
     "name": "stdout",
     "output_type": "stream",
     "text": [
      "criterion\n",
      "gini    0.802919\n",
      "Name: mean_score, dtype: float64\n",
      "criterion\n",
      "gini    0.000598\n",
      "Name: mean_score, dtype: float64\n"
     ]
    }
   ],
   "source": [
    "coln=3\n",
    "print(cv_result.groupby(cv_result.columns[coln])['mean_score'].mean())\n",
    "print(cv_result.groupby(cv_result.columns[coln])['mean_score'].std())\n"
   ]
  },
  {
   "cell_type": "markdown",
   "metadata": {},
   "source": [
    "## CrossV SVC"
   ]
  },
  {
   "cell_type": "code",
   "execution_count": 143,
   "metadata": {
    "collapsed": false
   },
   "outputs": [
    {
     "data": {
      "text/plain": [
       "array([ 14126, 256042])"
      ]
     },
     "execution_count": 143,
     "metadata": {},
     "output_type": "execute_result"
    }
   ],
   "source": []
  },
  {
   "cell_type": "code",
   "execution_count": null,
   "metadata": {
    "collapsed": true
   },
   "outputs": [],
   "source": [
    "start_time = time.time()\n",
    "\n",
    "param_grid = [{'kernel': ['rbf'], 'gamma': list(10.0 ** np.arange(-2, 3)),\n",
    "                     'C': list(10.0 ** np.arange(0, 4))},\n",
    "                    {'kernel': ['poly'], 'C': list(10.0 ** np.arange(0, 4)), 'degree'[2,3,4]}]\n",
    "\n",
    "svc = SVC(shuffle=True, probability=True,decision_function_shape = 'ovr',\n",
    "           verbose=True, class_weight='balanced'\n",
    "          )\n",
    "\n",
    "clf =GridSearchCV(svc, param_grid, scoring='f1', fit_params=None, n_jobs=4, iid=True, refit=True, \n",
    "verbose=3, pre_dispatch='2*n_jobs', error_score='raise')\n",
    "\n",
    "clf.fit(X_train,y_train)\n",
    "\n",
    "predicted_proba = pd.DataFrame()\n",
    "predicted_proba['prob'] = clf.predict_proba(X_test).max(axis=1)\n",
    "predicted_proba['gt'] = y_test\n",
    "predicted_proba['class'] = clf.predict(X_test)\n",
    "\n",
    "threshold = 0.7\n",
    "ind = predicted_proba['prob']>threshold\n",
    "\n",
    "all_time =   time.time() - start_time\n",
    "\n",
    "print(classification_report(predicted_proba.loc[ind,'gt'].values,predicted_proba.loc[ind,'class'].values ))\n",
    "\n",
    "cv_result = pd.DataFrame(columns=['mean_score' ] + [key for key, value in clf.grid_scores_[0].parameters.items() ] )\n",
    "i=0\n",
    "for setup in clf.grid_scores_:\n",
    "    row = [clf.grid_scores_[i].mean_validation_score ] + [value for key, value in clf.grid_scores_[i].parameters.items() ]\n",
    "    cv_result.loc[i] = row\n",
    "    i+=1\n",
    "#este flag es basicamente para chequear que hayamos terminado nomas\n",
    "finished = True"
   ]
  },
  {
   "cell_type": "code",
   "execution_count": null,
   "metadata": {
    "collapsed": true
   },
   "outputs": [],
   "source": [
    "coln=3\n",
    "print(cv_result.groupby(cv_result.columns[coln])['mean_score'].mean())\n",
    "print(cv_result.groupby(cv_result.columns[coln])['mean_score'].std())\n"
   ]
  },
  {
   "cell_type": "code",
   "execution_count": 214,
   "metadata": {
    "collapsed": false,
    "scrolled": true
   },
   "outputs": [
    {
     "name": "stdout",
     "output_type": "stream",
     "text": [
      "GradientBoosting took 117.26272392272949 seconds to run\n",
      "This cell took 117.26284193992615 seconds to run\n"
     ]
    }
   ],
   "source": [
    "#tomo tiempo para saber cuanto tarda fitear el estimador\n",
    "start_time = time.time()\n",
    "\n",
    "#model = model.fit(X,y,sample_weight=W)\n",
    "\n",
    "W = np.array([10 if i == 1 or i ==2  else 1 for i in y_mini])\n",
    "gradboost.fit(X_mini,y_mini, sample_weight=W)\n",
    "\n",
    "elapsed_time =   time.time() - start_time\n",
    "print('GradientBoosting took %s seconds to run' % elapsed_time)\n",
    "\n",
    "#validated =  cross_val_score(gradboost,X,y,cv=5, scoring = \"f1_weighted\")\n",
    "\n",
    "\n",
    "all_time =   time.time() - start_time\n",
    "print('This cell took %s seconds to run' % all_time)"
   ]
  },
  {
   "cell_type": "markdown",
   "metadata": {},
   "source": [
    "## Timings\n",
    "* 5s con  10 n_estimadores, 15 max_depth y X.sample(0.2)\n",
    "* 15s con 10 n_estimadores, 15 max_depth y X.sample(0.2)\n",
    "* 47s con 10 n_estimadores, 15 max_depth y X.sample(0.4)\n",
    "* 35s con 10 n_estimadores, 15 max_depth y X.sample(0.4)\n",
    "* 117 con 20 n_estimadores, 20 max_depth y X.sample(0.4)"
   ]
  },
  {
   "cell_type": "code",
   "execution_count": 31,
   "metadata": {
    "collapsed": false
   },
   "outputs": [
    {
     "data": {
      "text/plain": [
       "0    128153\n",
       "1      7064\n",
       "Name: ground_truth, dtype: int64"
      ]
     },
     "execution_count": 31,
     "metadata": {},
     "output_type": "execute_result"
    }
   ],
   "source": [
    "X_train['ground_truth'].value_counts()"
   ]
  },
  {
   "cell_type": "markdown",
   "metadata": {},
   "source": [
    "## Cross Validate - Random Forest"
   ]
  },
  {
   "cell_type": "code",
   "execution_count": null,
   "metadata": {
    "collapsed": true
   },
   "outputs": [],
   "source": [
    "param_grid = {'criterion': ['gini','entropy'], 'n_estimators': [30,50,60],\n",
    "  'max_features': [\"auto\", \"log2\", \"None\"], \"bootstrap\": [ False],\n",
    "    \"min_samples_leaf\": np.append(np.random.randint(1,11,3),[1]),'max_depth':[3,10, 15], \n",
    "              \"min_samples_leaf\": [1, 3, 10], \"class_weight\": [\"None\",'balanced']\n",
    "              }"
   ]
  },
  {
   "cell_type": "code",
   "execution_count": 94,
   "metadata": {
    "collapsed": false,
    "scrolled": true
   },
   "outputs": [
    {
     "name": "stdout",
     "output_type": "stream",
     "text": [
      "Random Search took 0.00039005279541 seconds to run\n",
      "Fitting 3 folds for each of 4 candidates, totalling 12 fits\n"
     ]
    },
    {
     "name": "stderr",
     "output_type": "stream",
     "text": [
      "/home/teo/Repositories/scikit-learn/sklearn/externals/joblib/hashing.py:197: DeprecationWarning: Changing the shape of non-C contiguous array by\n",
      "descriptor assignment is deprecated. To maintain\n",
      "the Fortran contiguity of a multidimensional Fortran\n",
      "array, use 'a.T.view(...).T' instead\n",
      "  obj_bytes_view = obj.view(self.np.uint8)\n"
     ]
    },
    {
     "name": "stdout",
     "output_type": "stream",
     "text": [
      "[CV] bootstrap=False, min_samples_leaf=10, n_estimators=8, criterion=gini, max_depth=20, class_weight=balanced \n"
     ]
    },
    {
     "name": "stderr",
     "output_type": "stream",
     "text": [
      "/home/teo/Repositories/scikit-learn/sklearn/externals/joblib/hashing.py:197: DeprecationWarning: Changing the shape of non-C contiguous array by\n",
      "descriptor assignment is deprecated. To maintain\n",
      "the Fortran contiguity of a multidimensional Fortran\n",
      "array, use 'a.T.view(...).T' instead\n",
      "  obj_bytes_view = obj.view(self.np.uint8)\n"
     ]
    },
    {
     "name": "stdout",
     "output_type": "stream",
     "text": [
      "[CV] bootstrap=False, min_samples_leaf=10, n_estimators=8, criterion=gini, max_depth=20, class_weight=balanced \n"
     ]
    },
    {
     "name": "stderr",
     "output_type": "stream",
     "text": [
      "/home/teo/Repositories/scikit-learn/sklearn/externals/joblib/hashing.py:197: DeprecationWarning: Changing the shape of non-C contiguous array by\n",
      "descriptor assignment is deprecated. To maintain\n",
      "the Fortran contiguity of a multidimensional Fortran\n",
      "array, use 'a.T.view(...).T' instead\n",
      "  obj_bytes_view = obj.view(self.np.uint8)\n"
     ]
    },
    {
     "name": "stdout",
     "output_type": "stream",
     "text": [
      "[CV] bootstrap=False, min_samples_leaf=10, n_estimators=8, criterion=gini, max_depth=20, class_weight=balanced \n"
     ]
    },
    {
     "name": "stderr",
     "output_type": "stream",
     "text": [
      "/home/teo/Repositories/scikit-learn/sklearn/externals/joblib/hashing.py:197: DeprecationWarning: Changing the shape of non-C contiguous array by\n",
      "descriptor assignment is deprecated. To maintain\n",
      "the Fortran contiguity of a multidimensional Fortran\n",
      "array, use 'a.T.view(...).T' instead\n",
      "  obj_bytes_view = obj.view(self.np.uint8)\n"
     ]
    },
    {
     "name": "stdout",
     "output_type": "stream",
     "text": [
      "[CV]  bootstrap=False, min_samples_leaf=10, n_estimators=8, criterion=gini, max_depth=20, class_weight=balanced, score=0.787413 -   2.8s\n",
      "[CV] bootstrap=False, min_samples_leaf=10, n_estimators=20, criterion=gini, max_depth=20, class_weight=balanced \n"
     ]
    },
    {
     "name": "stderr",
     "output_type": "stream",
     "text": [
      "/home/teo/Repositories/scikit-learn/sklearn/externals/joblib/hashing.py:197: DeprecationWarning: Changing the shape of non-C contiguous array by\n",
      "descriptor assignment is deprecated. To maintain\n",
      "the Fortran contiguity of a multidimensional Fortran\n",
      "array, use 'a.T.view(...).T' instead\n",
      "  obj_bytes_view = obj.view(self.np.uint8)\n"
     ]
    },
    {
     "name": "stdout",
     "output_type": "stream",
     "text": [
      "[CV]  bootstrap=False, min_samples_leaf=10, n_estimators=8, criterion=gini, max_depth=20, class_weight=balanced, score=0.784558 -   3.6s\n",
      "[CV] bootstrap=False, min_samples_leaf=10, n_estimators=20, criterion=gini, max_depth=20, class_weight=balanced \n"
     ]
    },
    {
     "name": "stderr",
     "output_type": "stream",
     "text": [
      "/home/teo/Repositories/scikit-learn/sklearn/externals/joblib/hashing.py:197: DeprecationWarning: Changing the shape of non-C contiguous array by\n",
      "descriptor assignment is deprecated. To maintain\n",
      "the Fortran contiguity of a multidimensional Fortran\n",
      "array, use 'a.T.view(...).T' instead\n",
      "  obj_bytes_view = obj.view(self.np.uint8)\n"
     ]
    },
    {
     "name": "stdout",
     "output_type": "stream",
     "text": [
      "[CV]  bootstrap=False, min_samples_leaf=10, n_estimators=8, criterion=gini, max_depth=20, class_weight=balanced, score=0.789583 -   4.2s\n",
      "[CV] bootstrap=False, min_samples_leaf=10, n_estimators=20, criterion=gini, max_depth=20, class_weight=balanced \n"
     ]
    },
    {
     "name": "stderr",
     "output_type": "stream",
     "text": [
      "/home/teo/Repositories/scikit-learn/sklearn/externals/joblib/hashing.py:197: DeprecationWarning: Changing the shape of non-C contiguous array by\n",
      "descriptor assignment is deprecated. To maintain\n",
      "the Fortran contiguity of a multidimensional Fortran\n",
      "array, use 'a.T.view(...).T' instead\n",
      "  obj_bytes_view = obj.view(self.np.uint8)\n"
     ]
    },
    {
     "name": "stdout",
     "output_type": "stream",
     "text": [
      "[CV]  bootstrap=False, min_samples_leaf=10, n_estimators=20, criterion=gini, max_depth=20, class_weight=balanced, score=0.788728 -   6.8s\n",
      "[CV] bootstrap=False, min_samples_leaf=15, n_estimators=8, criterion=gini, max_depth=20, class_weight=balanced \n"
     ]
    },
    {
     "name": "stderr",
     "output_type": "stream",
     "text": [
      "/home/teo/Repositories/scikit-learn/sklearn/externals/joblib/hashing.py:197: DeprecationWarning: Changing the shape of non-C contiguous array by\n",
      "descriptor assignment is deprecated. To maintain\n",
      "the Fortran contiguity of a multidimensional Fortran\n",
      "array, use 'a.T.view(...).T' instead\n",
      "  obj_bytes_view = obj.view(self.np.uint8)\n"
     ]
    },
    {
     "name": "stdout",
     "output_type": "stream",
     "text": [
      "[CV]  bootstrap=False, min_samples_leaf=10, n_estimators=20, criterion=gini, max_depth=20, class_weight=balanced, score=0.784088 -   7.6s\n",
      "[CV] bootstrap=False, min_samples_leaf=15, n_estimators=8, criterion=gini, max_depth=20, class_weight=balanced \n"
     ]
    },
    {
     "name": "stderr",
     "output_type": "stream",
     "text": [
      "/home/teo/Repositories/scikit-learn/sklearn/externals/joblib/hashing.py:197: DeprecationWarning: Changing the shape of non-C contiguous array by\n",
      "descriptor assignment is deprecated. To maintain\n",
      "the Fortran contiguity of a multidimensional Fortran\n",
      "array, use 'a.T.view(...).T' instead\n",
      "  obj_bytes_view = obj.view(self.np.uint8)\n"
     ]
    },
    {
     "name": "stdout",
     "output_type": "stream",
     "text": [
      "[CV]  bootstrap=False, min_samples_leaf=15, n_estimators=8, criterion=gini, max_depth=20, class_weight=balanced, score=0.785184 -   2.6s\n",
      "[CV] bootstrap=False, min_samples_leaf=15, n_estimators=8, criterion=gini, max_depth=20, class_weight=balanced \n"
     ]
    },
    {
     "name": "stderr",
     "output_type": "stream",
     "text": [
      "/home/teo/Repositories/scikit-learn/sklearn/externals/joblib/hashing.py:197: DeprecationWarning: Changing the shape of non-C contiguous array by\n",
      "descriptor assignment is deprecated. To maintain\n",
      "the Fortran contiguity of a multidimensional Fortran\n",
      "array, use 'a.T.view(...).T' instead\n",
      "  obj_bytes_view = obj.view(self.np.uint8)\n"
     ]
    },
    {
     "name": "stdout",
     "output_type": "stream",
     "text": [
      "[CV]  bootstrap=False, min_samples_leaf=10, n_estimators=20, criterion=gini, max_depth=20, class_weight=balanced, score=0.789019 -   8.0s\n",
      "[CV] bootstrap=False, min_samples_leaf=15, n_estimators=20, criterion=gini, max_depth=20, class_weight=balanced \n"
     ]
    },
    {
     "name": "stderr",
     "output_type": "stream",
     "text": [
      "/home/teo/Repositories/scikit-learn/sklearn/externals/joblib/hashing.py:197: DeprecationWarning: Changing the shape of non-C contiguous array by\n",
      "descriptor assignment is deprecated. To maintain\n",
      "the Fortran contiguity of a multidimensional Fortran\n",
      "array, use 'a.T.view(...).T' instead\n",
      "  obj_bytes_view = obj.view(self.np.uint8)\n"
     ]
    },
    {
     "name": "stdout",
     "output_type": "stream",
     "text": [
      "[CV]  bootstrap=False, min_samples_leaf=15, n_estimators=8, criterion=gini, max_depth=20, class_weight=balanced, score=0.789167 -   2.5s\n",
      "[CV] bootstrap=False, min_samples_leaf=15, n_estimators=20, criterion=gini, max_depth=20, class_weight=balanced \n"
     ]
    },
    {
     "name": "stderr",
     "output_type": "stream",
     "text": [
      "[Parallel(n_jobs=3)]: Done  13 out of  12 | elapsed:   15.3s remaining:   -1.2s\n",
      "/home/teo/Repositories/scikit-learn/sklearn/externals/joblib/hashing.py:197: DeprecationWarning: Changing the shape of non-C contiguous array by\n",
      "descriptor assignment is deprecated. To maintain\n",
      "the Fortran contiguity of a multidimensional Fortran\n",
      "array, use 'a.T.view(...).T' instead\n",
      "  obj_bytes_view = obj.view(self.np.uint8)\n"
     ]
    },
    {
     "name": "stdout",
     "output_type": "stream",
     "text": [
      "[CV]  bootstrap=False, min_samples_leaf=15, n_estimators=8, criterion=gini, max_depth=20, class_weight=balanced, score=0.784265 -   4.2s\n",
      "[CV] bootstrap=False, min_samples_leaf=15, n_estimators=20, criterion=gini, max_depth=20, class_weight=balanced \n"
     ]
    },
    {
     "name": "stderr",
     "output_type": "stream",
     "text": [
      "[Parallel(n_jobs=3)]: Done  13 out of  12 | elapsed:   16.3s remaining:   -1.3s\n"
     ]
    },
    {
     "name": "stdout",
     "output_type": "stream",
     "text": [
      "[CV]  bootstrap=False, min_samples_leaf=15, n_estimators=20, criterion=gini, max_depth=20, class_weight=balanced, score=0.790481 -   6.8s\n"
     ]
    },
    {
     "name": "stderr",
     "output_type": "stream",
     "text": [
      "[Parallel(n_jobs=3)]: Done  13 out of  12 | elapsed:   20.3s remaining:   -1.6s\n"
     ]
    },
    {
     "name": "stdout",
     "output_type": "stream",
     "text": [
      "[CV]  bootstrap=False, min_samples_leaf=15, n_estimators=20, criterion=gini, max_depth=20, class_weight=balanced, score=0.783618 -   5.9s\n"
     ]
    },
    {
     "name": "stderr",
     "output_type": "stream",
     "text": [
      "[Parallel(n_jobs=3)]: Done  13 out of  12 | elapsed:   21.2s remaining:   -1.6s\n"
     ]
    },
    {
     "name": "stdout",
     "output_type": "stream",
     "text": [
      "[CV]  bootstrap=False, min_samples_leaf=15, n_estimators=20, criterion=gini, max_depth=20, class_weight=balanced, score=0.788395 -   6.5s\n"
     ]
    },
    {
     "name": "stderr",
     "output_type": "stream",
     "text": [
      "[Parallel(n_jobs=3)]: Done  13 out of  12 | elapsed:   22.8s remaining:   -1.8s\n",
      "[Parallel(n_jobs=3)]: Done  12 out of  12 | elapsed:   22.8s finished\n"
     ]
    },
    {
     "name": "stdout",
     "output_type": "stream",
     "text": [
      "Grid Search took 27.5189659595 seconds to run\n",
      "This cell took 27.5193560123 seconds to run\n",
      "             precision    recall  f1-score   support\n",
      "\n",
      "          0       1.00      0.81      0.89     91458\n",
      "          1       0.68      0.99      0.81     38026\n",
      "\n",
      "avg / total       0.90      0.86      0.87    129484\n",
      "\n"
     ]
    }
   ],
   "source": [
    "start_time = time.time()\n",
    "param_grid = {'max_depth':[20], 'n_estimators': [8,20],\n",
    "             \"class_weight\": ['balanced'],'criterion': ['gini'],\n",
    "              \"bootstrap\":[False], \"min_samples_leaf\": [10,15]              \n",
    "              }\n",
    "\n",
    "\n",
    "rforest  = RandomForestClassifier( )\n",
    "\n",
    "clf =GridSearchCV(rforest, param_grid, scoring='f1', fit_params=None, n_jobs=3, iid=True, refit=True, \n",
    "verbose=3, pre_dispatch='2*n_jobs', error_score='raise')\n",
    "\n",
    "#how many parameters to randomly search for\n",
    "#n_iter_search = 45\n",
    "\n",
    "#random_search = RandomizedSearchCV(rforest, param_distributions=param_grid,\n",
    "                                 #  n_iter=n_iter_search, n_jobs =8, verbose=3)\n",
    "#random_search.fit(X_train,y_train)\n",
    "elapsed_time =  time.time() - start_time\n",
    "print('Random Search took %s seconds to run' % elapsed_time)\n",
    "\n",
    "clf.fit(X_train,y_train)\n",
    "\n",
    "all_time =   time.time() - start_time \n",
    "print('Grid Search took %s seconds to run' % (all_time - elapsed_time))\n",
    "\n",
    "print('This cell took %s seconds to run' % all_time)\n",
    "\n",
    "predicted_proba = pd.DataFrame()\n",
    "predicted_proba['prob'] = clf.predict_proba(X_test).max(axis=1)\n",
    "predicted_proba['y'] = y_test\n",
    "predicted_proba['class'] = clf.predict(X_test)\n",
    "\n",
    "threshold = 0.55\n",
    "ind = predicted_proba['prob']>threshold\n",
    "\n",
    "print(classification_report(predicted_proba.loc[ind,'y'].values,predicted_proba.loc[ind,'class'].values ))\n",
    "\n",
    "all_time =   time.time() - start_time\n",
    "\n",
    "\n",
    "cv_result = pd.DataFrame(columns=['mean_score' ] + [key for key, value in clf.grid_scores_[0].parameters.items() ] )\n",
    "i=0\n",
    "for setup in clf.grid_scores_:\n",
    "    row = [clf.grid_scores_[i].mean_validation_score ] + [value for key, value in clf.grid_scores_[i].parameters.items() ]\n",
    "    cv_result.loc[i] = row\n",
    "    i+=1\n",
    "#este flag es basicamente para chequear que hayamos terminado nomas\n",
    "finished = True"
   ]
  },
  {
   "cell_type": "code",
   "execution_count": 95,
   "metadata": {
    "collapsed": false
   },
   "outputs": [
    {
     "data": {
      "text/plain": [
       "(array([63738, 21095]), array([93875, 38673]))"
      ]
     },
     "execution_count": 95,
     "metadata": {},
     "output_type": "execute_result"
    }
   ],
   "source": [
    "np.bincount(y_train),np.bincount(y_test)"
   ]
  },
  {
   "cell_type": "code",
   "execution_count": 79,
   "metadata": {
    "collapsed": false
   },
   "outputs": [
    {
     "data": {
      "text/plain": [
       "array([93764,  2577])"
      ]
     },
     "execution_count": 79,
     "metadata": {},
     "output_type": "execute_result"
    }
   ],
   "source": [
    "np.bincount(y_train),np.bincount(y_test)"
   ]
  },
  {
   "cell_type": "code",
   "execution_count": 98,
   "metadata": {
    "collapsed": false
   },
   "outputs": [
    {
     "name": "stdout",
     "output_type": "stream",
     "text": [
      "             precision    recall  f1-score   support\n",
      "\n",
      "          0       1.00      0.98      0.99     73187\n",
      "          1       0.89      0.99      0.94     13935\n",
      "\n",
      "avg / total       0.98      0.98      0.98     87122\n",
      "\n"
     ]
    }
   ],
   "source": [
    "threshold = 0.9\n",
    "ind = predicted_proba['prob']>threshold\n",
    "\n",
    "print(classification_report(predicted_proba.loc[ind,'y'].values,predicted_proba.loc[ind,'class'].values ))\n"
   ]
  },
  {
   "cell_type": "code",
   "execution_count": 99,
   "metadata": {
    "collapsed": false
   },
   "outputs": [
    {
     "name": "stdout",
     "output_type": "stream",
     "text": [
      "class_weight\n",
      "balanced    0.787042\n",
      "Name: mean_score, dtype: float64\n",
      "class_weight\n",
      "balanced    0.000573\n",
      "Name: mean_score, dtype: float64\n"
     ]
    }
   ],
   "source": [
    "coln=6\n",
    "print(cv_result.groupby(cv_result.columns[coln])['mean_score'].mean())\n",
    "print(cv_result.groupby(cv_result.columns[coln])['mean_score'].std())"
   ]
  },
  {
   "cell_type": "markdown",
   "metadata": {},
   "source": [
    "### Results\n",
    "* bootstrap  = False es 5% mejor\n",
    "* min_samples_leaf = mas grande parece mejor pero el std error tmb crece y es igual el score\n",
    "* n_estimatores = aumentar mas de 30 no tendria mucho sentido\n",
    "* citerion = entropy o gini no cambia. gini podria ser mejor entonces pues entropy usa logs de los valores lo cual es mas computacionalmente costoso\n",
    "* max_features = no afecta al score. con auto esta bien\n",
    "* max_depth =  mas es mejor. intentaria probar con >15"
   ]
  },
  {
   "cell_type": "code",
   "execution_count": 69,
   "metadata": {
    "collapsed": false
   },
   "outputs": [
    {
     "name": "stdout",
     "output_type": "stream",
     "text": [
      "             precision    recall  f1-score   support\n",
      "\n",
      "          0       0.99      0.85      0.92    203457\n",
      "          1       0.14      0.70      0.23      6773\n",
      "\n",
      "avg / total       0.96      0.85      0.89    210230\n",
      "\n",
      "This cell took 0.414650917053 seconds to run\n"
     ]
    }
   ],
   "source": [
    "start_time = time.time()\n",
    "#param_grid = {'max_depth':[20], 'n_estimators': [8,20],\n",
    "#             \"class_weight\": ['balanced'],'criterion': ['gini'],\n",
    "#              \"bootstrap\":[False], \"min_samples_leaf\": [10,15]\n",
    " #             }\n",
    "\n",
    "\n",
    "mnb  = MultinomialNB( )\n",
    "\n",
    "#clf =GridSearchCV(mnb,  scoring='f1', fit_params=None, n_jobs=3, iid=True, refit=True, \n",
    "#verbose=3, pre_dispatch='2*n_jobs', error_score='raise')\n",
    "\n",
    "#how many parameters to randomly search for\n",
    "#n_iter_search = 45\n",
    "\n",
    "mnb.fit(X_train,y_train)\n",
    "\n",
    "\n",
    "predicted_proba = pd.DataFrame()\n",
    "predicted_proba['prob'] = mnb.predict_proba(X_test).max(axis=1)\n",
    "predicted_proba['y'] = y_test\n",
    "predicted_proba['class'] = mnb.predict(X_test)\n",
    "\n",
    "threshold = 0.55\n",
    "ind = predicted_proba['prob']>threshold\n",
    "\n",
    "all_time =   time.time() - start_time\n",
    "\n",
    "print(classification_report(predicted_proba.loc[ind,'y'].values,predicted_proba.loc[ind,'class'].values ))\n",
    "\n",
    "#este flag es basicamente para chequear que hayamos terminado nomas\n",
    "finished = True\n",
    "\n",
    "print('This cell took %s seconds to run' % all_time)\n"
   ]
  },
  {
   "cell_type": "markdown",
   "metadata": {},
   "source": [
    "## Cross Validate ExtraTreeClassifier"
   ]
  },
  {
   "cell_type": "code",
   "execution_count": 77,
   "metadata": {
    "collapsed": false,
    "scrolled": true
   },
   "outputs": [
    {
     "name": "stdout",
     "output_type": "stream",
     "text": [
      "Variable                                Type                          Data/Info\n",
      "-------------------------------------------------------------------------------\n",
      "ARDRegression                           ABCMeta                       <class 'sklearn.linear_mo<...>del.bayes.ARDRegression'>\n",
      "AdaBoostClassifier                      ABCMeta                       <class 'sklearn.ensemble.<...>ting.AdaBoostClassifier'>\n",
      "AdaBoostRegressor                       ABCMeta                       <class 'sklearn.ensemble.<...>sting.AdaBoostRegressor'>\n",
      "BaggingClassifier                       ABCMeta                       <class 'sklearn.ensemble.<...>gging.BaggingClassifier'>\n",
      "BaggingRegressor                        ABCMeta                       <class 'sklearn.ensemble.<...>agging.BaggingRegressor'>\n",
      "BaseEnsemble                            type                          <class 'sklearn.ensemble.base.BaseEnsemble'>\n",
      "BayesianRidge                           ABCMeta                       <class 'sklearn.linear_mo<...>del.bayes.BayesianRidge'>\n",
      "BernoulliNB                             ABCMeta                       <class 'sklearn.naive_bayes.BernoulliNB'>\n",
      "BernoulliRBM                            type                          <class 'sklearn.neural_network.rbm.BernoulliRBM'>\n",
      "DecisionTreeClassifier                  ABCMeta                       <class 'sklearn.tree.tree<...>.DecisionTreeClassifier'>\n",
      "DecisionTreeRegressor                   ABCMeta                       <class 'sklearn.tree.tree.DecisionTreeRegressor'>\n",
      "ElasticNet                              ABCMeta                       <class 'sklearn.linear_mo<...>nate_descent.ElasticNet'>\n",
      "ElasticNetCV                            ABCMeta                       <class 'sklearn.linear_mo<...>te_descent.ElasticNetCV'>\n",
      "ExtraTreeClassifier                     ABCMeta                       <class 'sklearn.tree.tree.ExtraTreeClassifier'>\n",
      "ExtraTreeRegressor                      ABCMeta                       <class 'sklearn.tree.tree.ExtraTreeRegressor'>\n",
      "ExtraTreesClassifier                    ABCMeta                       <class 'sklearn.ensemble.<...>st.ExtraTreesClassifier'>\n",
      "ExtraTreesRegressor                     ABCMeta                       <class 'sklearn.ensemble.<...>est.ExtraTreesRegressor'>\n",
      "GaussianNB                              ABCMeta                       <class 'sklearn.naive_bayes.GaussianNB'>\n",
      "GradientBoostingClassifier              ABCMeta                       <class 'sklearn.ensemble.<...>dientBoostingClassifier'>\n",
      "GradientBoostingRegressor               ABCMeta                       <class 'sklearn.ensemble.<...>adientBoostingRegressor'>\n",
      "GridSearchCV                            ABCMeta                       <class 'sklearn.grid_search.GridSearchCV'>\n",
      "Hinge                                   type                          <type 'sklearn.linear_model.sgd_fast.Hinge'>\n",
      "HuberRegressor                          ABCMeta                       <class 'sklearn.linear_mo<...>el.huber.HuberRegressor'>\n",
      "IsolationForest                         ABCMeta                       <class 'sklearn.ensemble.<...>iforest.IsolationForest'>\n",
      "KFold                                   ABCMeta                       <class 'sklearn.cross_validation.KFold'>\n",
      "LabelKFold                              ABCMeta                       <class 'sklearn.cross_validation.LabelKFold'>\n",
      "LabelShuffleSplit                       ABCMeta                       <class 'sklearn.cross_val<...>ation.LabelShuffleSplit'>\n",
      "Lars                                    ABCMeta                       <class 'sklearn.linear_model.least_angle.Lars'>\n",
      "LarsCV                                  ABCMeta                       <class 'sklearn.linear_model.least_angle.LarsCV'>\n",
      "Lasso                                   ABCMeta                       <class 'sklearn.linear_mo<...>oordinate_descent.Lasso'>\n",
      "LassoCV                                 ABCMeta                       <class 'sklearn.linear_mo<...>rdinate_descent.LassoCV'>\n",
      "LassoLars                               ABCMeta                       <class 'sklearn.linear_mo<...>l.least_angle.LassoLars'>\n",
      "LassoLarsCV                             ABCMeta                       <class 'sklearn.linear_mo<...>least_angle.LassoLarsCV'>\n",
      "LassoLarsIC                             ABCMeta                       <class 'sklearn.linear_mo<...>least_angle.LassoLarsIC'>\n",
      "LeaveOneLabelOut                        ABCMeta                       <class 'sklearn.cross_val<...>dation.LeaveOneLabelOut'>\n",
      "LeaveOneOut                             ABCMeta                       <class 'sklearn.cross_validation.LeaveOneOut'>\n",
      "LeavePLabelOut                          ABCMeta                       <class 'sklearn.cross_validation.LeavePLabelOut'>\n",
      "LeavePOut                               ABCMeta                       <class 'sklearn.cross_validation.LeavePOut'>\n",
      "LinearRegression                        ABCMeta                       <class 'sklearn.linear_mo<...>l.base.LinearRegression'>\n",
      "LinearSVC                               type                          <class 'sklearn.svm.classes.LinearSVC'>\n",
      "LinearSVR                               ABCMeta                       <class 'sklearn.svm.classes.LinearSVR'>\n",
      "Log                                     type                          <type 'sklearn.linear_model.sgd_fast.Log'>\n",
      "LogisticRegression                      type                          <class 'sklearn.linear_mo<...>stic.LogisticRegression'>\n",
      "LogisticRegressionCV                    type                          <class 'sklearn.linear_mo<...>ic.LogisticRegressionCV'>\n",
      "MLPClassifier                           ABCMeta                       <class 'sklearn.neural_ne<...>erceptron.MLPClassifier'>\n",
      "MLPRegressor                            ABCMeta                       <class 'sklearn.neural_ne<...>perceptron.MLPRegressor'>\n",
      "ModifiedHuber                           type                          <type 'sklearn.linear_mod<...>.sgd_fast.ModifiedHuber'>\n",
      "MultiTaskElasticNet                     ABCMeta                       <class 'sklearn.linear_mo<...>ent.MultiTaskElasticNet'>\n",
      "MultiTaskElasticNetCV                   ABCMeta                       <class 'sklearn.linear_mo<...>t.MultiTaskElasticNetCV'>\n",
      "MultiTaskLasso                          ABCMeta                       <class 'sklearn.linear_mo<...>_descent.MultiTaskLasso'>\n",
      "MultiTaskLassoCV                        ABCMeta                       <class 'sklearn.linear_mo<...>escent.MultiTaskLassoCV'>\n",
      "MultinomialNB                           ABCMeta                       <class 'sklearn.naive_bayes.MultinomialNB'>\n",
      "NuSVC                                   ABCMeta                       <class 'sklearn.svm.classes.NuSVC'>\n",
      "NuSVR                                   ABCMeta                       <class 'sklearn.svm.classes.NuSVR'>\n",
      "OneClassSVM                             ABCMeta                       <class 'sklearn.svm.classes.OneClassSVM'>\n",
      "OneVsRestClassifier                     type                          <class 'sklearn.multiclass.OneVsRestClassifier'>\n",
      "OrthogonalMatchingPursuit               ABCMeta                       <class 'sklearn.linear_mo<...>thogonalMatchingPursuit'>\n",
      "OrthogonalMatchingPursuitCV             ABCMeta                       <class 'sklearn.linear_mo<...>ogonalMatchingPursuitCV'>\n",
      "ParameterGrid                           type                          <class 'sklearn.grid_search.ParameterGrid'>\n",
      "ParameterSampler                        type                          <class 'sklearn.grid_search.ParameterSampler'>\n",
      "PassiveAggressiveClassifier             ABCMeta                       <class 'sklearn.linear_mo<...>iveAggressiveClassifier'>\n",
      "PassiveAggressiveRegressor              ABCMeta                       <class 'sklearn.linear_mo<...>siveAggressiveRegressor'>\n",
      "Perceptron                              ABCMeta                       <class 'sklearn.linear_mo<...>l.perceptron.Perceptron'>\n",
      "Pipeline                                type                          <class 'sklearn.pipeline.Pipeline'>\n",
      "PredefinedSplit                         ABCMeta                       <class 'sklearn.cross_val<...>idation.PredefinedSplit'>\n",
      "RANSACRegressor                         type                          <class 'sklearn.linear_mo<...>.ransac.RANSACRegressor'>\n",
      "RandomForestClassifier                  ABCMeta                       <class 'sklearn.ensemble.<...>.RandomForestClassifier'>\n",
      "RandomForestRegressor                   ABCMeta                       <class 'sklearn.ensemble.<...>t.RandomForestRegressor'>\n",
      "RandomTreesEmbedding                    ABCMeta                       <class 'sklearn.ensemble.<...>st.RandomTreesEmbedding'>\n",
      "RandomizedLasso                         ABCMeta                       <class 'sklearn.linear_mo<...>ized_l1.RandomizedLasso'>\n",
      "RandomizedLogisticRegression            ABCMeta                       <class 'sklearn.linear_mo<...>mizedLogisticRegression'>\n",
      "RandomizedSearchCV                      ABCMeta                       <class 'sklearn.grid_search.RandomizedSearchCV'>\n",
      "Ridge                                   ABCMeta                       <class 'sklearn.linear_model.ridge.Ridge'>\n",
      "RidgeCV                                 ABCMeta                       <class 'sklearn.linear_model.ridge.RidgeCV'>\n",
      "RidgeClassifier                         ABCMeta                       <class 'sklearn.linear_mo<...>l.ridge.RidgeClassifier'>\n",
      "RidgeClassifierCV                       ABCMeta                       <class 'sklearn.linear_mo<...>ridge.RidgeClassifierCV'>\n",
      "SCORERS                                 dict                          n=24\n",
      "SGDClassifier                           ABCMeta                       <class 'sklearn.linear_mo<...>_gradient.SGDClassifier'>\n",
      "SGDRegressor                            ABCMeta                       <class 'sklearn.linear_mo<...>c_gradient.SGDRegressor'>\n",
      "SVC                                     ABCMeta                       <class 'sklearn.svm.classes.SVC'>\n",
      "SVR                                     ABCMeta                       <class 'sklearn.svm.classes.SVR'>\n",
      "ShuffleSplit                            ABCMeta                       <class 'sklearn.cross_validation.ShuffleSplit'>\n",
      "SquaredLoss                             type                          <type 'sklearn.linear_mod<...>el.sgd_fast.SquaredLoss'>\n",
      "StratifiedKFold                         ABCMeta                       <class 'sklearn.cross_val<...>idation.StratifiedKFold'>\n",
      "StratifiedShuffleSplit                  ABCMeta                       <class 'sklearn.cross_val<...>.StratifiedShuffleSplit'>\n",
      "TheilSenRegressor                       ABCMeta                       <class 'sklearn.linear_mo<...>l_sen.TheilSenRegressor'>\n",
      "VotingClassifier                        type                          <class 'sklearn.ensemble.<...>sifier.VotingClassifier'>\n",
      "X_mini                                  ndarray                       19268x234: 4508712 elems, type `float64`, 36069696 bytes (34 Mb)\n",
      "X_scaled                                ndarray                       96341x234: 22543794 elems, type `float64`, 180350352 bytes (171 Mb)\n",
      "X_test                                  ndarray                       211018x234: 49378212 elems, type `float64`, 395025696 bytes (376 Mb)\n",
      "X_train                                 ndarray                       96341x234: 22543794 elems, type `float64`, 180350352 bytes (171 Mb)\n",
      "X_traincv                               ndarray                       72255x234: 16907670 elems, type `float64`, 135261360 bytes (128 Mb)\n",
      "a                                       DataFrame                            y\\n0      0\\n1    <...>n[96341 rows x 1 columns]\n",
      "accuracy_score                          function                      <function accuracy_score at 0x7f7baa956b90>\n",
      "adjusted_mutual_info_score              function                      <function adjusted_mutual<...>_score at 0x7f7baaa48a28>\n",
      "adjusted_rand_score                     function                      <function adjusted_rand_score at 0x7f7baaa48758>\n",
      "all_time                                float                         1.06442093849\n",
      "application_id                          int                           545\n",
      "as_float_array                          function                      <function as_float_array at 0x7f7baacf0758>\n",
      "assert_all_finite                       function                      <function assert_all_finite at 0x7f7baacf06e0>\n",
      "auc                                     function                      <function auc at 0x7f7baa956230>\n",
      "average_precision_score                 function                      <function average_precisi<...>_score at 0x7f7baa9562a8>\n",
      "bagging                                 module                        <module 'sklearn.ensemble<...>rn/ensemble/bagging.pyc'>\n",
      "brier_score_loss                        function                      <function brier_score_loss at 0x7f7baaa48410>\n",
      "check_X_y                               function                      <function check_X_y at 0x7f7baacf0b18>\n",
      "check_array                             function                      <function check_array at 0x7f7baacf0aa0>\n",
      "check_consistent_length                 function                      <function check_consisten<...>length at 0x7f7baacf0938>\n",
      "check_cv                                function                      <function check_cv at 0x7f7baa839d70>\n",
      "check_random_state                      function                      <function check_random_state at 0x7f7baacf0c08>\n",
      "check_symmetric                         function                      <function check_symmetric at 0x7f7baacf0cf8>\n",
      "classification_report                   function                      <function classification_<...>report at 0x7f7baaa481b8>\n",
      "clf                                     MultinomialNB                 MultinomialNB(alpha=1.0, <...>ior=None, fit_prior=True)\n",
      "cluster                                 module                        <module 'sklearn.metrics.<...>cs/cluster/__init__.pyc'>\n",
      "column_or_1d                            function                      <function column_or_1d at 0x7f7baacf0b90>\n",
      "completeness_score                      function                      <function completeness_score at 0x7f7baaa488c0>\n",
      "compute_class_weight                    function                      <function compute_class_weight at 0x7f7baacf0ed8>\n",
      "compute_sample_weight                   function                      <function compute_sample_<...>weight at 0x7f7baacf0f50>\n",
      "confusion_matrix                        function                      <function confusion_matrix at 0x7f7baa956c08>\n",
      "consensus_score                         function                      <function consensus_score at 0x7f7baaa34500>\n",
      "coverage_error                          function                      <function coverage_error at 0x7f7baa956578>\n",
      "cross_val_predict                       function                      <function cross_val_predict at 0x7f7baa839938>\n",
      "cross_val_score                         function                      <function cross_val_score at 0x7f7baa839aa0>\n",
      "day_end                                 int                           31\n",
      "day_start                               int                           25\n",
      "enet_path                               function                      <function enet_path at 0x7f7baabbe488>\n",
      "euclidean_distances                     function                      <function euclidean_distances at 0x7f7baaa38140>\n",
      "evs_ids                                 list                          n=10\n",
      "evs_names                               list                          n=10\n",
      "expected                                ndarray                       72255: 72255 elems, type `int64`, 578040 bytes (564 kb)\n",
      "explained_variance_score                function                      <function explained_varia<...>_score at 0x7f7baaa348c0>\n",
      "export_graphviz                         function                      <function export_graphviz at 0x7f7baabfc668>\n",
      "f1_score                                function                      <function f1_score at 0x7f7baa956e60>\n",
      "fbeta_score                             function                      <function fbeta_score at 0x7f7baa956ed8>\n",
      "finished                                bool                          True\n",
      "fit_grid_point                          function                      <function fit_grid_point at 0x7f7baa84d758>\n",
      "forest                                  module                        <module 'sklearn.ensemble<...>arn/ensemble/forest.pyc'>\n",
      "get_month_partitions                    function                      <function get_month_partitions at 0x7f7bab64fb18>\n",
      "get_os_partitions                       function                      <function get_os_partitions at 0x7f7bab64fb90>\n",
      "get_scorer                              function                      <function get_scorer at 0x7f7baaa2c758>\n",
      "gradient_boosting                       module                        <module 'sklearn.ensemble<...>e/gradient_boosting.pyc'>\n",
      "hamming_loss                            function                      <function hamming_loss at 0x7f7baaa48230>\n",
      "hdf5_file                               str                           LTV_results.h5\n",
      "hinge_loss                              function                      <function hinge_loss at 0x7f7baaa48320>\n",
      "homogeneity_completeness_v_measure      function                      <function homogeneity_com<...>easure at 0x7f7baaa487d0>\n",
      "homogeneity_score                       function                      <function homogeneity_score at 0x7f7baaa48848>\n",
      "i                                       int                           3\n",
      "ind                                     Series                        0          True\\n1       <...>\\nName: prob, dtype: bool\n",
      "indexable                               function                      <function indexable at 0x7f7baacf09b0>\n",
      "jaccard_similarity_score                function                      <function jaccard_similar<...>_score at 0x7f7baa956cf8>\n",
      "l1_min_c                                function                      <function l1_min_c at 0x7f7baa8f6de8>\n",
      "label_binarize                          function                      <function label_binarize at 0x7f7baa69b7d0>\n",
      "label_ranking_average_precision_score   function                      <function label_ranking_a<...>_score at 0x7f7baa956500>\n",
      "label_ranking_loss                      function                      <function label_ranking_loss at 0x7f7baa9565f0>\n",
      "lars_path                               function                      <function lars_path at 0x7f7baabcb230>\n",
      "lasso_path                              function                      <function lasso_path at 0x7f7baabbe410>\n",
      "lasso_stability_path                    function                      <function lasso_stability_path at 0x7f7baabd3b90>\n",
      "liblinear                               module                        <module 'sklearn.svm.libl<...>klearn/svm/liblinear.so'>\n",
      "libsvm                                  module                        <module 'sklearn.svm.libs<...>n/sklearn/svm/libsvm.so'>\n",
      "libsvm_sparse                           module                        <module 'sklearn.svm.libs<...>rn/svm/libsvm_sparse.so'>\n",
      "log_loss                                function                      <function log_loss at 0x7f7baaa482a8>\n",
      "logistic_regression_path                function                      <function logistic_regres<...>n_path at 0x7f7baa8e4410>\n",
      "make_scorer                             function                      <function make_scorer at 0x7f7baaa2c8c0>\n",
      "matthews_corrcoef                       function                      <function matthews_corrcoef at 0x7f7baa956d70>\n",
      "mean_absolute_error                     function                      <function mean_absolute_error at 0x7f7baaa34758>\n",
      "mean_squared_error                      function                      <function mean_squared_error at 0x7f7baaa347d0>\n",
      "median_absolute_error                   function                      <function median_absolute<...>_error at 0x7f7baaa34848>\n",
      "mini_ind                                ndarray                       28902: 28902 elems, type `int64`, 231216 bytes (225 kb)\n",
      "mnb                                     MultinomialNB                 MultinomialNB(alpha=1.0, <...>ior=None, fit_prior=True)\n",
      "month_end                               int                           3\n",
      "month_partitions                        str                           '201603' AND '201603'\n",
      "month_start                             int                           3\n",
      "murmurhash3_32                          builtin_function_or_method    <built-in function murmurhash3_32>\n",
      "mutual_info_score                       function                      <function mutual_info_score at 0x7f7baaa489b0>\n",
      "n_classes                               int                           2\n",
      "n_folds                                 int                           4\n",
      "normalized_mutual_info_score            function                      <function normalized_mutu<...>_score at 0x7f7baaa48aa0>\n",
      "np                                      module                        <module 'numpy' from '/us<...>ages/numpy/__init__.pyc'>\n",
      "orthogonal_mp                           function                      <function orthogonal_mp at 0x7f7baa8e4a28>\n",
      "orthogonal_mp_gram                      function                      <function orthogonal_mp_gram at 0x7f7baa8e4aa0>\n",
      "os                                      module                        <module 'os' from '/usr/lib/python2.7/os.pyc'>\n",
      "os_partitions                           str                           ('android_id', 'google_advertising_id')\n",
      "osp                                     str                           android\n",
      "other_params                            list                          n=4\n",
      "p_c                                     module                        <module 'utils.presto_con<...>s/presto_connection.pyc'>\n",
      "pairwise_distances                      function                      <function pairwise_distances at 0x7f7baaa38aa0>\n",
      "pairwise_distances_argmin               function                      <function pairwise_distan<...>argmin at 0x7f7baaa38230>\n",
      "pairwise_distances_argmin_min           function                      <function pairwise_distan<...>in_min at 0x7f7baaa381b8>\n",
      "pairwise_kernels                        function                      <function pairwise_kernels at 0x7f7baaa38b90>\n",
      "partial_dependence                      module                        <module 'sklearn.ensemble<...>/partial_dependence.pyc'>\n",
      "pd                                      module                        <module 'pandas' from '/u<...>ges/pandas/__init__.pyc'>\n",
      "perc                                    float                         0.3\n",
      "permutation_test_score                  function                      <function permutation_tes<...>_score at 0x7f7baa839de8>\n",
      "precision_recall_curve                  function                      <function precision_recal<...>_curve at 0x7f7baa956410>\n",
      "precision_recall_fscore_support         function                      <function precision_recal<...>upport at 0x7f7baaa48050>\n",
      "precision_score                         function                      <function precision_score at 0x7f7baaa480c8>\n",
      "predicted_proba                         DataFrame                                 prob  y  clas<...>[211018 rows x 3 columns]\n",
      "predictions                             ndarray                       72255: 72255 elems, type `int64`, 578040 bytes (564 kb)\n",
      "r2_score                                function                      <function r2_score at 0x7f7baaa34938>\n",
      "random                                  module                        <module 'random' from '/u<...>ib/python2.7/random.pyc'>\n",
      "recall_score                            function                      <function recall_score at 0x7f7baaa48140>\n",
      "ridge_regression                        function                      <function ridge_regression at 0x7f7baa91b578>\n",
      "roc_auc_score                           function                      <function roc_auc_score at 0x7f7baa956320>\n",
      "roc_curve                               function                      <function roc_curve at 0x7f7baa956488>\n",
      "rootdir                                 str                           /home/teo/Repositories/user-analytics/clustering\n",
      "run_number                              int                           0\n",
      "safe_indexing                           function                      <function safe_indexing at 0x7f7baa6ce2a8>\n",
      "sale_event                              str                           500_sale\n",
      "sale_id                                 int                           187\n",
      "scale                                   function                      <function scale at 0x7f7baa6a0758>\n",
      "silhouette_samples                      function                      <function silhouette_samples at 0x7f7baaa38c80>\n",
      "silhouette_score                        function                      <function silhouette_score at 0x7f7baaa38c08>\n",
      "skf                                     StratifiedKFold               sklearn.cross_validation.<...>False, random_state=None)\n",
      "social_share                            bool                          False\n",
      "start_time                              float                         1460321158.42\n",
      "test_file                               str                           datasets/dafiti_01040804.csv.gz\n",
      "test_index                              ndarray                       24086: 24086 elems, type `int64`, 192688 bytes (188 kb)\n",
      "threshold                               float                         0.99\n",
      "time                                    module                        <module 'time' (built-in)>\n",
      "train_file                              str                           datasets/dafiti_25033103.csv.gz\n",
      "train_index                             ndarray                       72255: 72255 elems, type `int64`, 578040 bytes (564 kb)\n",
      "train_table                             DataFrame                                              <...>96341 rows x 235 columns]\n",
      "train_test_split                        function                      <function train_test_split at 0x7f7baa839e60>\n",
      "v_measure_score                         function                      <function v_measure_score at 0x7f7baaa48938>\n",
      "validated                               list                          n=0\n",
      "weight_boosting                         module                        <module 'sklearn.ensemble<...>ble/weight_boosting.pyc'>\n",
      "y_mini                                  ndarray                       19268x1: 19268 elems, type `int64`, 154144 bytes (150 kb)\n",
      "y_test                                  ndarray                       211018: 211018 elems, type `int64`, 1688144 bytes (1 Mb)\n",
      "y_train                                 ndarray                       96341: 96341 elems, type `int64`, 770728 bytes (752 kb)\n",
      "y_traincv                               ndarray                       72255: 72255 elems, type `int64`, 578040 bytes (564 kb)\n",
      "year_end                                int                           2016\n",
      "year_start                              int                           2016\n",
      "zero_one_loss                           function                      <function zero_one_loss at 0x7f7baa956de8>\n"
     ]
    }
   ],
   "source": [
    "whos"
   ]
  },
  {
   "cell_type": "code",
   "execution_count": null,
   "metadata": {
    "collapsed": true
   },
   "outputs": [],
   "source": []
  },
  {
   "cell_type": "markdown",
   "metadata": {},
   "source": [
    "## Cross validate MNB"
   ]
  },
  {
   "cell_type": "code",
   "execution_count": 72,
   "metadata": {
    "collapsed": false,
    "scrolled": false
   },
   "outputs": [
    {
     "name": "stdout",
     "output_type": "stream",
     "text": [
      "             precision    recall  f1-score   support\n",
      "\n",
      "          0       0.99      0.85      0.91     70323\n",
      "          1       0.12      0.73      0.20      1932\n",
      "\n",
      "avg / total       0.97      0.84      0.89     72255\n",
      "\n",
      "             precision    recall  f1-score   support\n",
      "\n",
      "          0       0.99      0.85      0.91     70323\n",
      "          1       0.12      0.73      0.20      1932\n",
      "\n",
      "avg / total       0.97      0.84      0.89     72255\n",
      "\n",
      "             precision    recall  f1-score   support\n",
      "\n",
      "          0       0.99      0.85      0.91     70323\n",
      "          1       0.12      0.73      0.20      1932\n",
      "\n",
      "avg / total       0.97      0.84      0.89     72255\n",
      "\n",
      "             precision    recall  f1-score   support\n",
      "\n",
      "          0       0.99      0.85      0.91     70323\n",
      "          1       0.12      0.73      0.20      1932\n",
      "\n",
      "avg / total       0.97      0.84      0.89     72255\n",
      "\n",
      "This cell took 1.06442093849 seconds to run\n"
     ]
    }
   ],
   "source": [
    "start_time = time.time()\n",
    "\n",
    "# pero tenemos que transformar a y en un vector canonico indicando en 1 en la posicion correspondiente a su categoria\n",
    "#y =  label_binarize(X_train['ground_truth'].values.astype(int),\n",
    "#                    classes=list(set(X_train['ground_truth'].values.astype(int))))\n",
    "\n",
    "perc = 0.3\n",
    "mini_ind = np.random.choice(X_train.shape[0],int(perc*X_train.shape[0]),replace=False)\n",
    "#X_mini =  X[mini_ind,:]\n",
    "#y_mini = y[mini_ind]\n",
    "\n",
    "\n",
    "clf = MultinomialNB(\n",
    "        )\n",
    "\n",
    "validated = []\n",
    "# Only take the first fold.\n",
    "n_folds = 4\n",
    "for i in range(n_folds):\n",
    "    # Break up the dataset into non-overlapping training (75%) and testing\n",
    "    # (25%) sets.\n",
    "    skf = StratifiedKFold(y_train, n_folds=n_folds)\n",
    "    train_index, test_index = next(iter(skf))\n",
    "\n",
    "    X_traincv = X_train[train_index]\n",
    "    y_traincv = y_train[train_index]\n",
    "\n",
    "    n_classes = len(np.unique(y_traincv))\n",
    "\n",
    "    clf.fit(X_traincv,y_traincv)\n",
    "    predictions = clf.predict(X_traincv)\n",
    "        \n",
    "    expected = y_traincv\n",
    "\n",
    "    print(classification_report(expected, predictions))\n",
    "\n",
    "\n",
    "predicted_proba = pd.DataFrame()\n",
    "predicted_proba['prob'] = clf.predict_proba(X_test).max(axis=1)\n",
    "predicted_proba['y'] = y_test\n",
    "predicted_proba['class'] = clf.predict(X_test)\n",
    "\n",
    "\n",
    "#este flag es basicamente para chequear que hayamos terminado nomas\n",
    "finished = True\n",
    "\n",
    "all_time =   time.time() - start_time\n",
    "print('This cell took %s seconds to run' % all_time)\n"
   ]
  },
  {
   "cell_type": "code",
   "execution_count": 76,
   "metadata": {
    "collapsed": false
   },
   "outputs": [
    {
     "name": "stdout",
     "output_type": "stream",
     "text": [
      "             precision    recall  f1-score   support\n",
      "\n",
      "          0       0.99      0.87      0.93    185744\n",
      "          1       0.15      0.73      0.26      5906\n",
      "\n",
      "avg / total       0.96      0.87      0.91    191650\n",
      "\n"
     ]
    }
   ],
   "source": [
    "threshold = 0.99\n",
    "ind = predicted_proba['prob']>threshold\n",
    "print(classification_report(predicted_proba.loc[ind,'y'].values,predicted_proba.loc[ind,'class'].values ))\n"
   ]
  },
  {
   "cell_type": "code",
   "execution_count": null,
   "metadata": {
    "collapsed": true
   },
   "outputs": [],
   "source": []
  },
  {
   "cell_type": "code",
   "execution_count": null,
   "metadata": {
    "collapsed": false
   },
   "outputs": [],
   "source": [
    "predicted_proba[predicted_proba['class1']>0]['class1'].hist()"
   ]
  },
  {
   "cell_type": "code",
   "execution_count": 40,
   "metadata": {
    "collapsed": false
   },
   "outputs": [
    {
     "data": {
      "text/plain": [
       "<matplotlib.axes._subplots.AxesSubplot at 0x7f6174e645d0>"
      ]
     },
     "execution_count": 40,
     "metadata": {},
     "output_type": "execute_result"
    },
    {
     "data": {
      "image/png": "[encoded data removed]",
      "text/plain": [
       "<matplotlib.figure.Figure at 0x7f61a45b2190>"
      ]
     },
     "metadata": {},
     "output_type": "display_data"
    }
   ],
   "source": [
    "predicted_proba[predicted_proba['class2']>0]['class2'].hist()"
   ]
  },
  {
   "cell_type": "code",
   "execution_count": 162,
   "metadata": {
    "collapsed": false
   },
   "outputs": [
    {
     "data": {
      "text/plain": [
       "<matplotlib.axes._subplots.AxesSubplot at 0x10cb2d438>"
      ]
     },
     "execution_count": 162,
     "metadata": {},
     "output_type": "execute_result"
    },
    {
     "data": {
      "image/png": "[encoded data removed]",
      "text/plain": [
       "<matplotlib.figure.Figure at 0x10cbc4978>"
      ]
     },
     "metadata": {},
     "output_type": "display_data"
    }
   ],
   "source": [
    "predicte_proba[predicte_proba['class3']>0]['class3'].hist()"
   ]
  },
  {
   "cell_type": "code",
   "execution_count": 165,
   "metadata": {
    "collapsed": false
   },
   "outputs": [
    {
     "data": {
      "text/html": [
       "<div>\n",
       "<table border=\"1\" class=\"dataframe\">\n",
       "  <thead>\n",
       "    <tr style=\"text-align: right;\">\n",
       "      <th></th>\n",
       "      <th>Event_view_product</th>\n",
       "      <th>Event_product_rate</th>\n",
       "      <th>Event_sale</th>\n",
       "      <th>virality</th>\n",
       "      <th>recency_days</th>\n",
       "      <th>os_version</th>\n",
       "      <th>display_size</th>\n",
       "      <th>manufacturer_LGE</th>\n",
       "      <th>manufacturer_Sony</th>\n",
       "      <th>manufacturer_asus</th>\n",
       "      <th>...</th>\n",
       "      <th>model_XT1097</th>\n",
       "      <th>model_XT1225</th>\n",
       "      <th>model_XT1563</th>\n",
       "      <th>country_ar</th>\n",
       "      <th>country_br</th>\n",
       "      <th>country_cl</th>\n",
       "      <th>country_co</th>\n",
       "      <th>country_mx</th>\n",
       "      <th>country_us</th>\n",
       "      <th>ground_truth</th>\n",
       "    </tr>\n",
       "    <tr>\n",
       "      <th>ref_hash</th>\n",
       "      <th></th>\n",
       "      <th></th>\n",
       "      <th></th>\n",
       "      <th></th>\n",
       "      <th></th>\n",
       "      <th></th>\n",
       "      <th></th>\n",
       "      <th></th>\n",
       "      <th></th>\n",
       "      <th></th>\n",
       "      <th></th>\n",
       "      <th></th>\n",
       "      <th></th>\n",
       "      <th></th>\n",
       "      <th></th>\n",
       "      <th></th>\n",
       "      <th></th>\n",
       "      <th></th>\n",
       "      <th></th>\n",
       "      <th></th>\n",
       "      <th></th>\n",
       "    </tr>\n",
       "  </thead>\n",
       "  <tbody>\n",
       "    <tr>\n",
       "      <th>aeddfaf288ee5aaf</th>\n",
       "      <td>17634.906342</td>\n",
       "      <td>0</td>\n",
       "      <td>0</td>\n",
       "      <td>50.385447</td>\n",
       "      <td>0.995370</td>\n",
       "      <td>16</td>\n",
       "      <td>58</td>\n",
       "      <td>0</td>\n",
       "      <td>0</td>\n",
       "      <td>0</td>\n",
       "      <td>...</td>\n",
       "      <td>0</td>\n",
       "      <td>0</td>\n",
       "      <td>0</td>\n",
       "      <td>0</td>\n",
       "      <td>1</td>\n",
       "      <td>0</td>\n",
       "      <td>0</td>\n",
       "      <td>0</td>\n",
       "      <td>0</td>\n",
       "      <td>0</td>\n",
       "    </tr>\n",
       "    <tr>\n",
       "      <th>2746037055b12162</th>\n",
       "      <td>2708.217760</td>\n",
       "      <td>0</td>\n",
       "      <td>0</td>\n",
       "      <td>451.369627</td>\n",
       "      <td>0.111111</td>\n",
       "      <td>19</td>\n",
       "      <td>41</td>\n",
       "      <td>0</td>\n",
       "      <td>0</td>\n",
       "      <td>0</td>\n",
       "      <td>...</td>\n",
       "      <td>0</td>\n",
       "      <td>0</td>\n",
       "      <td>0</td>\n",
       "      <td>0</td>\n",
       "      <td>1</td>\n",
       "      <td>0</td>\n",
       "      <td>0</td>\n",
       "      <td>0</td>\n",
       "      <td>0</td>\n",
       "      <td>0</td>\n",
       "    </tr>\n",
       "    <tr>\n",
       "      <th>f0bcb409bf0636ff</th>\n",
       "      <td>1805.478506</td>\n",
       "      <td>0</td>\n",
       "      <td>0</td>\n",
       "      <td>451.369627</td>\n",
       "      <td>0.111111</td>\n",
       "      <td>19</td>\n",
       "      <td>42</td>\n",
       "      <td>0</td>\n",
       "      <td>0</td>\n",
       "      <td>0</td>\n",
       "      <td>...</td>\n",
       "      <td>0</td>\n",
       "      <td>0</td>\n",
       "      <td>0</td>\n",
       "      <td>0</td>\n",
       "      <td>1</td>\n",
       "      <td>0</td>\n",
       "      <td>0</td>\n",
       "      <td>0</td>\n",
       "      <td>0</td>\n",
       "      <td>0</td>\n",
       "    </tr>\n",
       "    <tr>\n",
       "      <th>eea677c130bf8889</th>\n",
       "      <td>1327.557725</td>\n",
       "      <td>0</td>\n",
       "      <td>0</td>\n",
       "      <td>53.102309</td>\n",
       "      <td>0.944444</td>\n",
       "      <td>16</td>\n",
       "      <td>58</td>\n",
       "      <td>0</td>\n",
       "      <td>0</td>\n",
       "      <td>0</td>\n",
       "      <td>...</td>\n",
       "      <td>0</td>\n",
       "      <td>0</td>\n",
       "      <td>0</td>\n",
       "      <td>0</td>\n",
       "      <td>1</td>\n",
       "      <td>0</td>\n",
       "      <td>0</td>\n",
       "      <td>0</td>\n",
       "      <td>0</td>\n",
       "      <td>0</td>\n",
       "    </tr>\n",
       "    <tr>\n",
       "      <th>eaa491185356c618</th>\n",
       "      <td>541.643552</td>\n",
       "      <td>0</td>\n",
       "      <td>0</td>\n",
       "      <td>108.328710</td>\n",
       "      <td>0.462963</td>\n",
       "      <td>18</td>\n",
       "      <td>48</td>\n",
       "      <td>0</td>\n",
       "      <td>0</td>\n",
       "      <td>0</td>\n",
       "      <td>...</td>\n",
       "      <td>0</td>\n",
       "      <td>0</td>\n",
       "      <td>0</td>\n",
       "      <td>0</td>\n",
       "      <td>1</td>\n",
       "      <td>0</td>\n",
       "      <td>0</td>\n",
       "      <td>0</td>\n",
       "      <td>0</td>\n",
       "      <td>0</td>\n",
       "    </tr>\n",
       "  </tbody>\n",
       "</table>\n",
       "<p>5 rows × 88 columns</p>\n",
       "</div>"
      ],
      "text/plain": [
       "                  Event_view_product  Event_product_rate  Event_sale  \\\n",
       "ref_hash                                                               \n",
       "aeddfaf288ee5aaf        17634.906342                   0           0   \n",
       "2746037055b12162         2708.217760                   0           0   \n",
       "f0bcb409bf0636ff         1805.478506                   0           0   \n",
       "eea677c130bf8889         1327.557725                   0           0   \n",
       "eaa491185356c618          541.643552                   0           0   \n",
       "\n",
       "                    virality  recency_days  os_version  display_size  \\\n",
       "ref_hash                                                               \n",
       "aeddfaf288ee5aaf   50.385447      0.995370          16            58   \n",
       "2746037055b12162  451.369627      0.111111          19            41   \n",
       "f0bcb409bf0636ff  451.369627      0.111111          19            42   \n",
       "eea677c130bf8889   53.102309      0.944444          16            58   \n",
       "eaa491185356c618  108.328710      0.462963          18            48   \n",
       "\n",
       "                  manufacturer_LGE  manufacturer_Sony  manufacturer_asus  \\\n",
       "ref_hash                                                                   \n",
       "aeddfaf288ee5aaf                 0                  0                  0   \n",
       "2746037055b12162                 0                  0                  0   \n",
       "f0bcb409bf0636ff                 0                  0                  0   \n",
       "eea677c130bf8889                 0                  0                  0   \n",
       "eaa491185356c618                 0                  0                  0   \n",
       "\n",
       "                      ...       model_XT1097  model_XT1225  model_XT1563  \\\n",
       "ref_hash              ...                                                  \n",
       "aeddfaf288ee5aaf      ...                  0             0             0   \n",
       "2746037055b12162      ...                  0             0             0   \n",
       "f0bcb409bf0636ff      ...                  0             0             0   \n",
       "eea677c130bf8889      ...                  0             0             0   \n",
       "eaa491185356c618      ...                  0             0             0   \n",
       "\n",
       "                  country_ar  country_br  country_cl  country_co  country_mx  \\\n",
       "ref_hash                                                                       \n",
       "aeddfaf288ee5aaf           0           1           0           0           0   \n",
       "2746037055b12162           0           1           0           0           0   \n",
       "f0bcb409bf0636ff           0           1           0           0           0   \n",
       "eea677c130bf8889           0           1           0           0           0   \n",
       "eaa491185356c618           0           1           0           0           0   \n",
       "\n",
       "                  country_us  ground_truth  \n",
       "ref_hash                                    \n",
       "aeddfaf288ee5aaf           0             0  \n",
       "2746037055b12162           0             0  \n",
       "f0bcb409bf0636ff           0             0  \n",
       "eea677c130bf8889           0             0  \n",
       "eaa491185356c618           0             0  \n",
       "\n",
       "[5 rows x 88 columns]"
      ]
     },
     "execution_count": 165,
     "metadata": {},
     "output_type": "execute_result"
    }
   ],
   "source": [
    "X_train.head()"
   ]
  },
  {
   "cell_type": "code",
   "execution_count": 166,
   "metadata": {
    "collapsed": false
   },
   "outputs": [
    {
     "name": "stdout",
     "output_type": "stream",
     "text": [
      "             precision    recall  f1-score   support\n",
      "\n",
      "          0       1.00      0.97      0.98    120717\n",
      "          1       0.53      0.87      0.66      3917\n",
      "          2       0.47      0.91      0.62       815\n",
      "\n",
      "avg / total       0.98      0.96      0.97    125449\n",
      "\n",
      "This cell took 1.5365548133850098 seconds to run\n"
     ]
    }
   ],
   "source": [
    "start_time = time.time()\n",
    "\n",
    "havent_converted = X_train[X_train['Event_sale']==0][X_cols].values\n",
    "havent_converted_gt = X_train[X_train['Event_sale']==0]['ground_truth'].values\n",
    "\n",
    "predictions = rforest.predict(havent_converted)\n",
    "expected = havent_converted_gt\n",
    "print(classification_report(expected, predictions))\n",
    "\n",
    "all_time =   time.time() - start_time\n",
    "print('This cell took %s seconds to run' % all_time)"
   ]
  },
  {
   "cell_type": "code",
   "execution_count": null,
   "metadata": {
    "collapsed": true
   },
   "outputs": [],
   "source": []
  },
  {
   "cell_type": "code",
   "execution_count": null,
   "metadata": {
    "collapsed": true
   },
   "outputs": [],
   "source": []
  },
  {
   "cell_type": "code",
   "execution_count": 140,
   "metadata": {
    "collapsed": false
   },
   "outputs": [
    {
     "name": "stdout",
     "output_type": "stream",
     "text": [
      "             precision    recall  f1-score   support\n",
      "\n",
      "          0       0.97      0.83      0.89    128823\n",
      "          1       0.07      0.25      0.11      4998\n",
      "          2       0.07      0.39      0.12      1396\n",
      "\n",
      "avg / total       0.93      0.80      0.86    135217\n",
      "\n",
      "This cell took 0.07135701179504395 seconds to run\n"
     ]
    }
   ],
   "source": [
    "start_time = time.time()\n",
    "\n",
    "predictions = mnb.predict(X_test)\n",
    "expected = y\n",
    "print(classification_report(expected, predictions))\n",
    "\n",
    "all_time =   time.time() - start_time\n",
    "print('This cell took %s seconds to run' % all_time)"
   ]
  },
  {
   "cell_type": "code",
   "execution_count": null,
   "metadata": {
    "collapsed": true
   },
   "outputs": [],
   "source": []
  },
  {
   "cell_type": "code",
   "execution_count": null,
   "metadata": {
    "collapsed": true
   },
   "outputs": [],
   "source": []
  },
  {
   "cell_type": "code",
   "execution_count": 60,
   "metadata": {
    "collapsed": false
   },
   "outputs": [
    {
     "name": "stdout",
     "output_type": "stream",
     "text": [
      "SVC took 362.8217749595642 seconds to run\n",
      "This cell took 362.8219118118286 seconds to run\n"
     ]
    }
   ],
   "source": [
    "#tomo tiempo para saber cuanto tarda fitear el estimador\n",
    "start_time = time.time()\n",
    "\n",
    "svc2.fit(X_mini,y_mini)\n",
    "elapsed_time =   time.time() - start_time\n",
    "print('SVC took %s seconds to run' % elapsed_time)\n",
    "\n",
    "all_time =   time.time() - start_time\n",
    "print('This cell took %s seconds to run' % all_time)"
   ]
  },
  {
   "cell_type": "markdown",
   "metadata": {},
   "source": [
    "## Timings\n",
    "* 40k samples : 360s\n",
    "* "
   ]
  },
  {
   "cell_type": "code",
   "execution_count": null,
   "metadata": {
    "collapsed": true
   },
   "outputs": [],
   "source": []
  },
  {
   "cell_type": "code",
   "execution_count": 75,
   "metadata": {
    "collapsed": false
   },
   "outputs": [
    {
     "name": "stdout",
     "output_type": "stream",
     "text": [
      "Logit took 1073.0756621360779 seconds to run\n"
     ]
    }
   ],
   "source": [
    "start_time =  time.time()\n",
    "lr.fit(X_train,y_train)\n",
    "elapsed_time =   time.time() - start_time\n",
    "print('Logit took %s seconds to run' % elapsed_time)"
   ]
  },
  {
   "cell_type": "code",
   "execution_count": null,
   "metadata": {
    "collapsed": false
   },
   "outputs": [
    {
     "name": "stdout",
     "output_type": "stream",
     "text": [
      "Logit took 89.15975689888 seconds to run\n",
      "Linear SVC took 804.7178750038147 seconds to run"
     ]
    }
   ],
   "source": [
    "#tomo tiempo para saber cuanto tarda fitear el estimador\n",
    "start_time = time.time()\n",
    "\n",
    "lr.fit(X_train,y_train)\n",
    "elapsed_time =   time.time() - start_time\n",
    "print('Logit took %s seconds to run' % elapsed_time)\n",
    "\n",
    "svc.fit(X_train,y_train)\n",
    "elapsed_time =   time.time() - start_time\n",
    "print('Linear SVC took %s seconds to run' % elapsed_time)\n",
    "\n",
    "all_time =   time.time() - start_time\n",
    "print('This cell took %s seconds to run' % all_time)"
   ]
  },
  {
   "cell_type": "code",
   "execution_count": null,
   "metadata": {
    "collapsed": true
   },
   "outputs": [],
   "source": [
    "y.value_counts"
   ]
  },
  {
   "cell_type": "code",
   "execution_count": null,
   "metadata": {
    "collapsed": true
   },
   "outputs": [],
   "source": [
    "X_train['ground_truth'].value_counts"
   ]
  },
  {
   "cell_type": "code",
   "execution_count": 76,
   "metadata": {
    "collapsed": false
   },
   "outputs": [
    {
     "name": "stdout",
     "output_type": "stream",
     "text": [
      "             precision    recall  f1-score   support\n",
      "\n",
      "          0       0.97      0.83      0.90    128823\n",
      "          1       0.09      0.24      0.13      5902\n",
      "          2       0.03      0.52      0.06       492\n",
      "\n",
      "avg / total       0.93      0.81      0.86    135217\n",
      "\n"
     ]
    }
   ],
   "source": [
    "predictions = lr.predict(X_test)\n",
    "expected = y\n",
    "print(classification_report(expected, predictions))"
   ]
  },
  {
   "cell_type": "code",
   "execution_count": 87,
   "metadata": {
    "collapsed": false
   },
   "outputs": [
    {
     "name": "stdout",
     "output_type": "stream",
     "text": [
      "             precision    recall  f1-score   support\n",
      "\n",
      "          0       0.95      1.00      0.97    128153\n",
      "          1       0.00      0.00      0.00      7064\n",
      "\n",
      "avg / total       0.90      0.95      0.92    135217\n",
      "\n"
     ]
    },
    {
     "name": "stderr",
     "output_type": "stream",
     "text": [
      "/usr/local/lib/python2.7/dist-packages/sklearn/metrics/classification.py:1074: UndefinedMetricWarning: Precision and F-score are ill-defined and being set to 0.0 in labels with no predicted samples.\n",
      "  'precision', 'predicted', average, warn_for)\n"
     ]
    }
   ],
   "source": [
    "svc.fit(X_train,y_train)\n",
    "predictions = svc.predict(X_test)\n",
    "expected =y \n",
    "print(classification_report(expected, predictions))"
   ]
  },
  {
   "cell_type": "code",
   "execution_count": null,
   "metadata": {
    "collapsed": true
   },
   "outputs": [],
   "source": []
  },
  {
   "cell_type": "code",
   "execution_count": null,
   "metadata": {
    "collapsed": true
   },
   "outputs": [],
   "source": []
  },
  {
   "cell_type": "code",
   "execution_count": null,
   "metadata": {
    "collapsed": true
   },
   "outputs": [],
   "source": [
    "# Compute Precision-Recall and plot curve\n",
    "precision = dict()\n",
    "recall = dict()\n",
    "average_precision = dict()\n",
    "for i in range(n_classes):\n",
    "    precision[i], recall[i], _ = precision_recall_curve(y_test[:, i],\n",
    "                                                        y_score[:, i])\n",
    "    average_precision[i] = average_precision_score(y_test[:, i], y_score[:, i])\n",
    "\n",
    "# Compute micro-average ROC curve and ROC area\n",
    "precision[\"micro\"], recall[\"micro\"], _ = precision_recall_curve(y_test.ravel(),\n",
    "    y_score.ravel())\n",
    "average_precision[\"micro\"] = average_precision_score(y_test, y_score,\n",
    "                                                     average=\"micro\")\n",
    "\n",
    "# Plot Precision-Recall curve\n",
    "plt.clf()\n",
    "plt.plot(recall[0], precision[0], label='Precision-Recall curve')\n",
    "plt.xlabel('Recall')\n",
    "plt.ylabel('Precision')\n",
    "plt.ylim([0.0, 1.05])\n",
    "plt.xlim([0.0, 1.0])\n",
    "plt.title('Precision-Recall example: AUC={0:0.2f}'.format(average_precision[0]))\n",
    "plt.legend(loc=\"lower left\")\n",
    "plt.show()\n",
    "\n",
    "# Plot Precision-Recall curve for each class\n",
    "plt.clf()\n",
    "plt.plot(recall[\"micro\"], precision[\"micro\"],\n",
    "         label='micro-average Precision-recall curve (area = {0:0.2f})'\n",
    "               ''.format(average_precision[\"micro\"]))\n",
    "for i in range(n_classes):\n",
    "    plt.plot(recall[i], precision[i],\n",
    "             label='Precision-recall curve of class {0} (area = {1:0.2f})'\n",
    "                   ''.format(i, average_precision[i]))\n",
    "\n",
    "plt.xlim([0.0, 1.0])\n",
    "plt.ylim([0.0, 1.05])\n",
    "plt.xlabel('Recall')\n",
    "plt.ylabel('Precision')\n",
    "plt.title('Extension of Precision-Recall curve to multi-class')\n",
    "plt.legend(loc=\"lower right\")\n"
   ]
  },
  {
   "cell_type": "markdown",
   "metadata": {},
   "source": [
    "## Pickup Markov-Model output files"
   ]
  },
  {
   "cell_type": "code",
   "execution_count": 55,
   "metadata": {
    "collapsed": false
   },
   "outputs": [],
   "source": [
    "markov_table = pd.DataFrame()\n",
    "directory = os.path.join(os.getcwd()+\"/markov_output/\" ,\"\")\n",
    "for root,dirs,files in os.walk(directory):\n",
    "    for file in files:\n",
    "        if file.endswith(\".csv\"):\n",
    "            #print(file)\n",
    "            df = pd.read_csv(directory +file,\n",
    "                   header =None)\n",
    "            df.columns = ['ref_hash']\n",
    "            #asigno el grupo segun el file que estoy levantando\n",
    "            df['predict_markov'] = 4-int(file.replace(\".csv\",\"\")[-1])\n",
    "            \n",
    "            markov_table = pd.concat([markov_table,df])"
   ]
  },
  {
   "cell_type": "code",
   "execution_count": 56,
   "metadata": {
    "collapsed": false
   },
   "outputs": [
    {
     "data": {
      "text/plain": [
       "(20068, 2)"
      ]
     },
     "execution_count": 56,
     "metadata": {},
     "output_type": "execute_result"
    }
   ],
   "source": [
    "#recategorizo markov en solo 3 categorias\n",
    "markov_table.loc[markov_table['predict_markov']==3,'predict_markov']=2\n",
    "markov_table.shape"
   ]
  },
  {
   "cell_type": "code",
   "execution_count": 57,
   "metadata": {
    "collapsed": false
   },
   "outputs": [
    {
     "data": {
      "text/html": [
       "<div style=\"max-height:1000px;max-width:1500px;overflow:auto;\">\n",
       "<table border=\"1\" class=\"dataframe\">\n",
       "  <thead>\n",
       "    <tr style=\"text-align: right;\">\n",
       "      <th></th>\n",
       "      <th>predict_markov</th>\n",
       "    </tr>\n",
       "  </thead>\n",
       "  <tbody>\n",
       "    <tr>\n",
       "      <th>count</th>\n",
       "      <td> 20068.000000</td>\n",
       "    </tr>\n",
       "    <tr>\n",
       "      <th>mean</th>\n",
       "      <td>     1.250000</td>\n",
       "    </tr>\n",
       "    <tr>\n",
       "      <th>std</th>\n",
       "      <td>     0.829177</td>\n",
       "    </tr>\n",
       "    <tr>\n",
       "      <th>min</th>\n",
       "      <td>     0.000000</td>\n",
       "    </tr>\n",
       "    <tr>\n",
       "      <th>25%</th>\n",
       "      <td>     0.750000</td>\n",
       "    </tr>\n",
       "    <tr>\n",
       "      <th>50%</th>\n",
       "      <td>     1.500000</td>\n",
       "    </tr>\n",
       "    <tr>\n",
       "      <th>75%</th>\n",
       "      <td>     2.000000</td>\n",
       "    </tr>\n",
       "    <tr>\n",
       "      <th>max</th>\n",
       "      <td>     2.000000</td>\n",
       "    </tr>\n",
       "  </tbody>\n",
       "</table>\n",
       "</div>"
      ],
      "text/plain": [
       "       predict_markov\n",
       "count    20068.000000\n",
       "mean         1.250000\n",
       "std          0.829177\n",
       "min          0.000000\n",
       "25%          0.750000\n",
       "50%          1.500000\n",
       "75%          2.000000\n",
       "max          2.000000"
      ]
     },
     "execution_count": 57,
     "metadata": {},
     "output_type": "execute_result"
    }
   ],
   "source": [
    "markov_table.describe()"
   ]
  },
  {
   "cell_type": "code",
   "execution_count": 249,
   "metadata": {
    "collapsed": true
   },
   "outputs": [],
   "source": [
    "#chequeamos la consistencia de los datos\n",
    "markov_table['ref_hash'].isin(X_train.index.values).sum()"
   ]
  },
  {
   "cell_type": "code",
   "execution_count": null,
   "metadata": {
    "collapsed": true
   },
   "outputs": [],
   "source": [
    "a = result"
   ]
  },
  {
   "cell_type": "code",
   "execution_count": 251,
   "metadata": {
    "collapsed": false,
    "scrolled": true
   },
   "outputs": [],
   "source": [
    "markov_table = markov_table.join(X_train, on = 'ref_hash',how = 'inner')\n",
    "markov_table = markov_table[['ref_hash','predict_markov','ground_truth']]"
   ]
  },
  {
   "cell_type": "code",
   "execution_count": 252,
   "metadata": {
    "collapsed": true
   },
   "outputs": [],
   "source": [
    "#guardo en el .h5 local\n",
    "store.open()\n",
    "store['app_id_%s/markov'% (application_id)] = markov_table\n",
    "store.close()"
   ]
  },
  {
   "cell_type": "code",
   "execution_count": 253,
   "metadata": {
    "collapsed": false
   },
   "outputs": [
    {
     "name": "stdout",
     "output_type": "stream",
     "text": [
      "             precision    recall  f1-score   support\n",
      "\n",
      "        0.0       0.95      0.25      0.40     19006\n",
      "        1.0       0.05      0.26      0.08       960\n",
      "        2.0       0.01      0.50      0.01       102\n",
      "\n",
      "avg / total       0.90      0.25      0.38     20068\n",
      "\n"
     ]
    }
   ],
   "source": [
    "predictions = markov_table['predict_markov'].values\n",
    "expected = markov_table['ground_truth'].values\n",
    "print(classification_report(expected, predictions))"
   ]
  },
  {
   "cell_type": "code",
   "execution_count": 259,
   "metadata": {
    "collapsed": false
   },
   "outputs": [
    {
     "name": "stdout",
     "output_type": "stream",
     "text": [
      "             precision    recall  f1-score   support\n",
      "\n",
      "        0.0       0.97      0.85      0.91    168267\n",
      "        1.0       0.08      0.17      0.11      7299\n",
      "        2.0       0.03      0.56      0.05       640\n",
      "\n",
      "avg / total       0.93      0.82      0.87    176206\n",
      "\n"
     ]
    }
   ],
   "source": [
    "predictions = lr.predict(X_test)\n",
    "output['predicted'] = predictions\n",
    "expected = X_train['ground_truth']\n",
    "print(classification_report(expected, predictions))"
   ]
  },
  {
   "cell_type": "code",
   "execution_count": 255,
   "metadata": {
    "collapsed": false
   },
   "outputs": [
    {
     "data": {
      "text/plain": [
       "ground_truth\n",
       "0    168267\n",
       "1      7299\n",
       "2       640\n",
       "Name: ground_truth, dtype: int64"
      ]
     },
     "execution_count": 255,
     "metadata": {},
     "output_type": "execute_result"
    }
   ],
   "source": [
    "X_train['ground_truth'].value_counts()"
   ]
  },
  {
   "cell_type": "code",
   "execution_count": 90,
   "metadata": {
    "collapsed": true
   },
   "outputs": [],
   "source": [
    "pd.Series.value_counts?"
   ]
  },
  {
   "cell_type": "code",
   "execution_count": 260,
   "metadata": {
    "collapsed": false
   },
   "outputs": [
    {
     "data": {
      "text/plain": [
       "predicted\n",
       "0    148001\n",
       "1     15273\n",
       "2     12932\n",
       "Name: predicted, dtype: int64"
      ]
     },
     "execution_count": 260,
     "metadata": {},
     "output_type": "execute_result"
    }
   ],
   "source": [
    "X_train['predicted'].value_counts()"
   ]
  },
  {
   "cell_type": "code",
   "execution_count": 257,
   "metadata": {
    "collapsed": false
   },
   "outputs": [
    {
     "data": {
      "text/plain": [
       "ground_truth\n",
       "0    19006\n",
       "1      960\n",
       "2      102\n",
       "Name: ground_truth, dtype: int64"
      ]
     },
     "execution_count": 257,
     "metadata": {},
     "output_type": "execute_result"
    }
   ],
   "source": [
    "markov_table['ground_truth'].value_counts()"
   ]
  },
  {
   "cell_type": "code",
   "execution_count": null,
   "metadata": {
    "collapsed": true
   },
   "outputs": [],
   "source": []
  },
  {
   "cell_type": "markdown",
   "metadata": {},
   "source": [
    "## Como leer el Score\n",
    "**Predicted_positive:** es un numero que varia por segmento y cuenta el numero total de usuarios que mi prediccion puso en ese segmento.\n",
    "\n",
    "**Condition_positive:** para c/ segmento, cuenta el numero total de usuarios que realmente estan en ese segmento.\n",
    "\n",
    "**True_positive:** para c/ segmento, cuenta el numero total de usuarios que predijimos en este segmento y realmente estan en ese segmento.\n",
    "\n",
    "$Precision = \\frac{TruePositive}{PredictedPositive}$\n",
    "\n",
    "$Recall = \\frac{TruePositive}{ConditionPositive}$\n",
    "\n",
    "$F_1 = 2 \\cdot \\frac{\\mathrm{precision} \\cdot \\mathrm{recall}}{\\mathrm{precision} + \\mathrm{recall}}$\n"
   ]
  },
  {
   "cell_type": "code",
   "execution_count": null,
   "metadata": {
    "collapsed": true
   },
   "outputs": [],
   "source": []
  },
  {
   "cell_type": "code",
   "execution_count": 666,
   "metadata": {
    "collapsed": true
   },
   "outputs": [],
   "source": [
    "b = np.dot(a.transpose(), a)"
   ]
  },
  {
   "cell_type": "code",
   "execution_count": null,
   "metadata": {
    "collapsed": true
   },
   "outputs": [],
   "source": []
  },
  {
   "cell_type": "markdown",
   "metadata": {
    "collapsed": true
   },
   "source": [
    "## XGBoost section\n",
    "Gradient boosting using xgboost dmlc tested library \n",
    "(google and kaggle.com)"
   ]
  },
  {
   "cell_type": "code",
   "execution_count": 43,
   "metadata": {
    "collapsed": false
   },
   "outputs": [
    {
     "name": "stdout",
     "output_type": "stream",
     "text": [
      "['Event_view_product', 'Event_product_rate', 'Event_sale', 'os_version', 'display_size', u'manufacturer_LGE', u'manufacturer_Sony', u'manufacturer_asus', u'manufacturer_motorola', u'manufacturer_samsung', u'model_ASUS_T00J', u'model_ASUS_Z00AD', u'model_C6943', u'model_D5322', u'model_D5833', u'model_D6543', u'model_D6633', u'model_E2363', u'model_GT-I8190L', u'model_GT-I8200L', u'model_GT-I8262B', u'model_GT-I8552B', u'model_GT-I9060C', u'model_GT-I9063T', u'model_GT-I9082L', u'model_GT-I9192', u'model_GT-I9300', u'model_GT-I9300I', u'model_GT-I9500', u'model_GT-I9505', u'model_GT-I9515L', u'model_GT-N7100', u'model_GT-S7582L', u'model_LG-D337', u'model_LG-D385', u'model_LG-D410', u'model_LG-D805', u'model_LG-D855', u'model_MotoE2(4G-LTE)', u'model_MotoG3', u'model_SM-A300M', u'model_SM-A500M', u'model_SM-A700FD', u'model_SM-E500M', u'model_SM-E700M', u'model_SM-G3502T', u'model_SM-G355M', u'model_SM-G360BT', u'model_SM-G360M', u'model_SM-G3812B', u'model_SM-G530BT', u'model_SM-G530H', u'model_SM-G530M', u'model_SM-G531BT', u'model_SM-G531H', u'model_SM-G531M', u'model_SM-G7102T', u'model_SM-G800H', u'model_SM-G900M', u'model_SM-G900MD', u'model_SM-G903M', u'model_SM-G920I', u'model_SM-G925I', u'model_SM-J200BT', u'model_SM-J500M', u'model_SM-J700M', u'model_SM-N9005', u'model_SM-N910C', u'model_XT1025', u'model_XT1032', u'model_XT1033', u'model_XT1040', u'model_XT1058', u'model_XT1068', u'model_XT1069', u'model_XT1078', u'model_XT1097', u'model_XT1225', u'model_XT1563', u'country_ar', u'country_br', u'country_cl', u'country_co', u'country_mx', u'country_us']\n"
     ]
    }
   ],
   "source": [
    "#Parameter grid search with xgboost\n",
    "#feature engineering is not so useful and the LB is so overfitted/underfitted\n",
    "#so it is good to trust your CV\n",
    "import xgboost as xgb\n",
    "from sklearn import preprocessing\n",
    "from sklearn.grid_search import *\n",
    "X_cols = [col for col in X_train.columns if not('recency' in col ) and\\\n",
    "             not('truth' in col ) and not ( 'virality' in col )]\n",
    "\n",
    "X = X_train[X_cols].values\n",
    "# pero tenemos que transformar a y en un vector canonico indicando en 1 en la posicion correspondiente a su categoria\n",
    "#y =  label_binarize(X_train['ground_truth'].values.astype(int),\n",
    "#                    classes=list(set(X_train['ground_truth'].values.astype(int))))\n",
    "y = X_train['ground_truth'].values\n",
    "X_scaled= scale(X)\n",
    "\n",
    "msk = np.random.rand(len(X_train)) < 0.75\n",
    "\n",
    "train = X_train.iloc[msk,:].copy()\n",
    "train = train[['ground_truth']+X_cols]\n",
    "\n",
    "test = X_train.iloc[~msk,:].copy()\n",
    "test = test[['ground_truth']+X_cols]\n",
    "\n",
    "features = list(train.columns[1:])  #la colonne 0 est le quote_conversionflag  \n",
    "print(features)\n",
    "\n",
    "\n",
    "for f in train.columns:\n",
    "    if train[f].dtype=='object':\n",
    "        print(f)\n",
    "        lbl = preprocessing.LabelEncoder()\n",
    "        lbl.fit(list(train[f].values) + list(test[f].values))\n",
    "        train[f] = lbl.transform(list(train[f].values))\n",
    "        test[f] = lbl.transform(list(test[f].values))\n",
    "\n",
    "xgb_model = xgb.XGBClassifier()"
   ]
  },
  {
   "cell_type": "code",
   "execution_count": 44,
   "metadata": {
    "collapsed": true
   },
   "outputs": [],
   "source": [
    "#brute force scan for all parameters, here are the tricks\n",
    "\n",
    "#usually max_depth is 6,7,8\n",
    "#learning rate is around 0.05, but small changes may make big diff\n",
    "#tuning min_child_weight subsample colsample_bytree can have \n",
    "#much fun of fighting against overfit \n",
    "#n_estimators is how many round of boosting\n",
    "#finally, ensemble xgboost with multiple seeds may reduce variance\n",
    "parameters = {'nthread':[4], #when use hyperthread, xgboost may become slower\n",
    "              'objective':['binary:logistic'],\n",
    "              'learning_rate': [1e-2,5*1e-3,1e-3],\n",
    "              'max_depth': [15,20],\n",
    "              'alpha': [0.5,0.1,0.01],\n",
    "              'lambda': [1,0.5,0.1],\n",
    "              'gamma': [1,2],\n",
    "              'min_child_weight': [15,10],\n",
    "              'silent': [1],\n",
    "              'subsample': [0.75],\n",
    "              'colsample_bytree': [0.7],\n",
    "              'n_estimators': [30,50,80], #number of trees, change it to 1000 for better results\n",
    "              #'missing':[-999],\n",
    "              'n_estimators': [15,30],\n",
    "              'seed': [1337]}\n"
   ]
  },
  {
   "cell_type": "markdown",
   "metadata": {},
   "source": [
    "##  Best_Params\n",
    "* learning_rate: betwween 0.01 to 0.1\n",
    "* min_child_weight: >5 is better std error\n",
    "* n_estimators: <30 is better std error\n",
    "* max_depth: >15 is slightly slightly better in mean but slightly worse in std.\n"
   ]
  },
  {
   "cell_type": "code",
   "execution_count": 45,
   "metadata": {
    "collapsed": false,
    "scrolled": true
   },
   "outputs": [
    {
     "name": "stdout",
     "output_type": "stream",
     "text": [
      "Fitting 4 folds for each of 135 candidates, totalling 540 fits\n",
      "[CV] colsample_bytree=0.7, silent=1, learning_rate=0.05, nthread=3, min_child_weight=11, n_estimators=30, subsample=0.75, seed=1337, objective=binary:logistic, max_depth=10 \n",
      "[CV] colsample_bytree=0.7, silent=1, learning_rate=0.05, nthread=3, min_child_weight=11, n_estimators=30, subsample=0.75, seed=1337, objective=binary:logistic, max_depth=10 \n",
      "[CV] colsample_bytree=0.7, silent=1, learning_rate=0.05, nthread=3, min_child_weight=11, n_estimators=30, subsample=0.75, seed=1337, objective=binary:logistic, max_depth=10 \n",
      "[CV]  colsample_bytree=0.7, silent=1, learning_rate=0.05, nthread=3, min_child_weight=11, n_estimators=30, subsample=0.75, seed=1337, objective=binary:logistic, max_depth=10 -  10.4s\n",
      "[CV] colsample_bytree=0.7, silent=1, learning_rate=0.05, nthread=3, min_child_weight=11, n_estimators=30, subsample=0.75, seed=1337, objective=binary:logistic, max_depth=10 \n",
      "[CV]  colsample_bytree=0.7, silent=1, learning_rate=0.05, nthread=3, min_child_weight=11, n_estimators=30, subsample=0.75, seed=1337, objective=binary:logistic, max_depth=10 -  10.5s\n",
      "[CV] colsample_bytree=0.7, silent=1, learning_rate=0.05, nthread=3, min_child_weight=11, n_estimators=50, subsample=0.75, seed=1337, objective=binary:logistic, max_depth=10 \n",
      "[CV]  colsample_bytree=0.7, silent=1, learning_rate=0.05, nthread=3, min_child_weight=11, n_estimators=30, subsample=0.75, seed=1337, objective=binary:logistic, max_depth=10 -  11.0s\n",
      "[CV] colsample_bytree=0.7, silent=1, learning_rate=0.05, nthread=3, min_child_weight=11, n_estimators=50, subsample=0.75, seed=1337, objective=binary:logistic, max_depth=10 \n",
      "[CV]  colsample_bytree=0.7, silent=1, learning_rate=0.05, nthread=3, min_child_weight=11, n_estimators=30, subsample=0.75, seed=1337, objective=binary:logistic, max_depth=10 -  12.5s\n",
      "[CV] colsample_bytree=0.7, silent=1, learning_rate=0.05, nthread=3, min_child_weight=11, n_estimators=50, subsample=0.75, seed=1337, objective=binary:logistic, max_depth=10 \n",
      "[CV]  colsample_bytree=0.7, silent=1, learning_rate=0.05, nthread=3, min_child_weight=11, n_estimators=50, subsample=0.75, seed=1337, objective=binary:logistic, max_depth=10 -  25.3s\n",
      "[CV] colsample_bytree=0.7, silent=1, learning_rate=0.05, nthread=3, min_child_weight=11, n_estimators=50, subsample=0.75, seed=1337, objective=binary:logistic, max_depth=10 \n",
      "[CV]  colsample_bytree=0.7, silent=1, learning_rate=0.05, nthread=3, min_child_weight=11, n_estimators=50, subsample=0.75, seed=1337, objective=binary:logistic, max_depth=10 -  26.0s\n",
      "[CV] colsample_bytree=0.7, silent=1, learning_rate=0.05, nthread=3, min_child_weight=11, n_estimators=80, subsample=0.75, seed=1337, objective=binary:logistic, max_depth=10 \n",
      "[CV]  colsample_bytree=0.7, silent=1, learning_rate=0.05, nthread=3, min_child_weight=11, n_estimators=50, subsample=0.75, seed=1337, objective=binary:logistic, max_depth=10 -  35.2s\n",
      "[CV] colsample_bytree=0.7, silent=1, learning_rate=0.05, nthread=3, min_child_weight=11, n_estimators=80, subsample=0.75, seed=1337, objective=binary:logistic, max_depth=10 \n",
      "[CV]  colsample_bytree=0.7, silent=1, learning_rate=0.05, nthread=3, min_child_weight=11, n_estimators=50, subsample=0.75, seed=1337, objective=binary:logistic, max_depth=10 -  35.6s\n",
      "[CV] colsample_bytree=0.7, silent=1, learning_rate=0.05, nthread=3, min_child_weight=11, n_estimators=80, subsample=0.75, seed=1337, objective=binary:logistic, max_depth=10 \n",
      "[CV]  colsample_bytree=0.7, silent=1, learning_rate=0.05, nthread=3, min_child_weight=11, n_estimators=80, subsample=0.75, seed=1337, objective=binary:logistic, max_depth=10 -  58.8s\n",
      "[CV] colsample_bytree=0.7, silent=1, learning_rate=0.05, nthread=3, min_child_weight=11, n_estimators=80, subsample=0.75, seed=1337, objective=binary:logistic, max_depth=10 \n",
      "[CV]  colsample_bytree=0.7, silent=1, learning_rate=0.05, nthread=3, min_child_weight=11, n_estimators=80, subsample=0.75, seed=1337, objective=binary:logistic, max_depth=10 -  57.2s\n",
      "[CV] colsample_bytree=0.7, silent=1, learning_rate=0.05, nthread=3, min_child_weight=5, n_estimators=30, subsample=0.75, seed=1337, objective=binary:logistic, max_depth=10 \n",
      "[CV]  colsample_bytree=0.7, silent=1, learning_rate=0.05, nthread=3, min_child_weight=11, n_estimators=80, subsample=0.75, seed=1337, objective=binary:logistic, max_depth=10 -  58.0s\n",
      "[CV] colsample_bytree=0.7, silent=1, learning_rate=0.05, nthread=3, min_child_weight=5, n_estimators=30, subsample=0.75, seed=1337, objective=binary:logistic, max_depth=10 \n",
      "[CV]  colsample_bytree=0.7, silent=1, learning_rate=0.05, nthread=3, min_child_weight=5, n_estimators=30, subsample=0.75, seed=1337, objective=binary:logistic, max_depth=10 -  23.2s\n",
      "[CV] colsample_bytree=0.7, silent=1, learning_rate=0.05, nthread=3, min_child_weight=5, n_estimators=30, subsample=0.75, seed=1337, objective=binary:logistic, max_depth=10 \n",
      "[CV]  colsample_bytree=0.7, silent=1, learning_rate=0.05, nthread=3, min_child_weight=5, n_estimators=30, subsample=0.75, seed=1337, objective=binary:logistic, max_depth=10 -  21.0s\n",
      "[CV] colsample_bytree=0.7, silent=1, learning_rate=0.05, nthread=3, min_child_weight=5, n_estimators=30, subsample=0.75, seed=1337, objective=binary:logistic, max_depth=10 \n",
      "[CV]  colsample_bytree=0.7, silent=1, learning_rate=0.05, nthread=3, min_child_weight=11, n_estimators=80, subsample=0.75, seed=1337, objective=binary:logistic, max_depth=10 -  58.2s\n",
      "[CV] colsample_bytree=0.7, silent=1, learning_rate=0.05, nthread=3, min_child_weight=5, n_estimators=50, subsample=0.75, seed=1337, objective=binary:logistic, max_depth=10 \n",
      "[CV]  colsample_bytree=0.7, silent=1, learning_rate=0.05, nthread=3, min_child_weight=5, n_estimators=30, subsample=0.75, seed=1337, objective=binary:logistic, max_depth=10 -  21.1s\n",
      "[CV] colsample_bytree=0.7, silent=1, learning_rate=0.05, nthread=3, min_child_weight=5, n_estimators=50, subsample=0.75, seed=1337, objective=binary:logistic, max_depth=10 \n",
      "[CV]  colsample_bytree=0.7, silent=1, learning_rate=0.05, nthread=3, min_child_weight=5, n_estimators=30, subsample=0.75, seed=1337, objective=binary:logistic, max_depth=10 -  19.3s\n",
      "[CV] colsample_bytree=0.7, silent=1, learning_rate=0.05, nthread=3, min_child_weight=5, n_estimators=50, subsample=0.75, seed=1337, objective=binary:logistic, max_depth=10 \n",
      "[CV]  colsample_bytree=0.7, silent=1, learning_rate=0.05, nthread=3, min_child_weight=5, n_estimators=50, subsample=0.75, seed=1337, objective=binary:logistic, max_depth=10 -  36.4s\n",
      "[CV] colsample_bytree=0.7, silent=1, learning_rate=0.05, nthread=3, min_child_weight=5, n_estimators=50, subsample=0.75, seed=1337, objective=binary:logistic, max_depth=10 \n",
      "[CV]  colsample_bytree=0.7, silent=1, learning_rate=0.05, nthread=3, min_child_weight=5, n_estimators=50, subsample=0.75, seed=1337, objective=binary:logistic, max_depth=10 -  36.7s\n",
      "[CV] colsample_bytree=0.7, silent=1, learning_rate=0.05, nthread=3, min_child_weight=5, n_estimators=80, subsample=0.75, seed=1337, objective=binary:logistic, max_depth=10 \n",
      "[CV]  colsample_bytree=0.7, silent=1, learning_rate=0.05, nthread=3, min_child_weight=5, n_estimators=50, subsample=0.75, seed=1337, objective=binary:logistic, max_depth=10 -  35.8s\n",
      "[CV] colsample_bytree=0.7, silent=1, learning_rate=0.05, nthread=3, min_child_weight=5, n_estimators=80, subsample=0.75, seed=1337, objective=binary:logistic, max_depth=10 \n",
      "[CV]  colsample_bytree=0.7, silent=1, learning_rate=0.05, nthread=3, min_child_weight=5, n_estimators=50, subsample=0.75, seed=1337, objective=binary:logistic, max_depth=10 -  36.8s\n",
      "[CV] colsample_bytree=0.7, silent=1, learning_rate=0.05, nthread=3, min_child_weight=5, n_estimators=80, subsample=0.75, seed=1337, objective=binary:logistic, max_depth=10 \n",
      "[CV]  colsample_bytree=0.7, silent=1, learning_rate=0.05, nthread=3, min_child_weight=5, n_estimators=80, subsample=0.75, seed=1337, objective=binary:logistic, max_depth=10 -  56.6s\n",
      "[CV] colsample_bytree=0.7, silent=1, learning_rate=0.05, nthread=3, min_child_weight=5, n_estimators=80, subsample=0.75, seed=1337, objective=binary:logistic, max_depth=10 \n",
      "[CV]  colsample_bytree=0.7, silent=1, learning_rate=0.05, nthread=3, min_child_weight=5, n_estimators=80, subsample=0.75, seed=1337, objective=binary:logistic, max_depth=10 - 1.0min\n",
      "[CV] colsample_bytree=0.7, silent=1, learning_rate=0.05, nthread=3, min_child_weight=1, n_estimators=30, subsample=0.75, seed=1337, objective=binary:logistic, max_depth=10 \n",
      "[CV]  colsample_bytree=0.7, silent=1, learning_rate=0.05, nthread=3, min_child_weight=5, n_estimators=80, subsample=0.75, seed=1337, objective=binary:logistic, max_depth=10 -  57.1s\n",
      "[CV] colsample_bytree=0.7, silent=1, learning_rate=0.05, nthread=3, min_child_weight=1, n_estimators=30, subsample=0.75, seed=1337, objective=binary:logistic, max_depth=10 \n",
      "[CV]  colsample_bytree=0.7, silent=1, learning_rate=0.05, nthread=3, min_child_weight=1, n_estimators=30, subsample=0.75, seed=1337, objective=binary:logistic, max_depth=10 -  22.8s\n",
      "[CV] colsample_bytree=0.7, silent=1, learning_rate=0.05, nthread=3, min_child_weight=1, n_estimators=30, subsample=0.75, seed=1337, objective=binary:logistic, max_depth=10 \n",
      "[CV]  colsample_bytree=0.7, silent=1, learning_rate=0.05, nthread=3, min_child_weight=1, n_estimators=30, subsample=0.75, seed=1337, objective=binary:logistic, max_depth=10 -  22.0s\n",
      "[CV] colsample_bytree=0.7, silent=1, learning_rate=0.05, nthread=3, min_child_weight=1, n_estimators=30, subsample=0.75, seed=1337, objective=binary:logistic, max_depth=10 \n",
      "[CV]  colsample_bytree=0.7, silent=1, learning_rate=0.05, nthread=3, min_child_weight=1, n_estimators=30, subsample=0.75, seed=1337, objective=binary:logistic, max_depth=10 -  21.7s\n",
      "[CV] colsample_bytree=0.7, silent=1, learning_rate=0.05, nthread=3, min_child_weight=1, n_estimators=50, subsample=0.75, seed=1337, objective=binary:logistic, max_depth=10 \n",
      "[CV]  colsample_bytree=0.7, silent=1, learning_rate=0.05, nthread=3, min_child_weight=5, n_estimators=80, subsample=0.75, seed=1337, objective=binary:logistic, max_depth=10 -  58.8s\n",
      "[CV] colsample_bytree=0.7, silent=1, learning_rate=0.05, nthread=3, min_child_weight=1, n_estimators=50, subsample=0.75, seed=1337, objective=binary:logistic, max_depth=10 \n",
      "[CV]  colsample_bytree=0.7, silent=1, learning_rate=0.05, nthread=3, min_child_weight=1, n_estimators=30, subsample=0.75, seed=1337, objective=binary:logistic, max_depth=10 -  22.1s\n",
      "[CV] colsample_bytree=0.7, silent=1, learning_rate=0.05, nthread=3, min_child_weight=1, n_estimators=50, subsample=0.75, seed=1337, objective=binary:logistic, max_depth=10 \n",
      "[CV]  colsample_bytree=0.7, silent=1, learning_rate=0.05, nthread=3, min_child_weight=1, n_estimators=50, subsample=0.75, seed=1337, objective=binary:logistic, max_depth=10 -  36.6s\n",
      "[CV] colsample_bytree=0.7, silent=1, learning_rate=0.05, nthread=3, min_child_weight=1, n_estimators=50, subsample=0.75, seed=1337, objective=binary:logistic, max_depth=10 \n",
      "[CV]  colsample_bytree=0.7, silent=1, learning_rate=0.05, nthread=3, min_child_weight=1, n_estimators=50, subsample=0.75, seed=1337, objective=binary:logistic, max_depth=10 -  38.2s\n",
      "[CV] colsample_bytree=0.7, silent=1, learning_rate=0.05, nthread=3, min_child_weight=1, n_estimators=80, subsample=0.75, seed=1337, objective=binary:logistic, max_depth=10 \n",
      "[CV]  colsample_bytree=0.7, silent=1, learning_rate=0.05, nthread=3, min_child_weight=1, n_estimators=50, subsample=0.75, seed=1337, objective=binary:logistic, max_depth=10 -  38.3s\n",
      "[CV] colsample_bytree=0.7, silent=1, learning_rate=0.05, nthread=3, min_child_weight=1, n_estimators=80, subsample=0.75, seed=1337, objective=binary:logistic, max_depth=10 \n",
      "[CV]  colsample_bytree=0.7, silent=1, learning_rate=0.05, nthread=3, min_child_weight=1, n_estimators=50, subsample=0.75, seed=1337, objective=binary:logistic, max_depth=10 -  38.0s\n",
      "[CV] colsample_bytree=0.7, silent=1, learning_rate=0.05, nthread=3, min_child_weight=1, n_estimators=80, subsample=0.75, seed=1337, objective=binary:logistic, max_depth=10 \n",
      "[CV]  colsample_bytree=0.7, silent=1, learning_rate=0.05, nthread=3, min_child_weight=1, n_estimators=80, subsample=0.75, seed=1337, objective=binary:logistic, max_depth=10 -  59.9s\n",
      "[CV] colsample_bytree=0.7, silent=1, learning_rate=0.05, nthread=3, min_child_weight=1, n_estimators=80, subsample=0.75, seed=1337, objective=binary:logistic, max_depth=10 \n",
      "[CV]  colsample_bytree=0.7, silent=1, learning_rate=0.05, nthread=3, min_child_weight=1, n_estimators=80, subsample=0.75, seed=1337, objective=binary:logistic, max_depth=10 -  59.4s\n",
      "[CV] colsample_bytree=0.7, silent=1, learning_rate=0.05, nthread=3, min_child_weight=11, n_estimators=30, subsample=0.75, seed=1337, objective=binary:logistic, max_depth=5 \n",
      "[CV]  colsample_bytree=0.7, silent=1, learning_rate=0.05, nthread=3, min_child_weight=11, n_estimators=30, subsample=0.75, seed=1337, objective=binary:logistic, max_depth=5 -  12.6s\n"
     ]
    },
    {
     "name": "stderr",
     "output_type": "stream",
     "text": [
      "[Parallel(n_jobs=3)]: Done  35 tasks      | elapsed:  7.4min\n"
     ]
    },
    {
     "name": "stdout",
     "output_type": "stream",
     "text": [
      "[CV] colsample_bytree=0.7, silent=1, learning_rate=0.05, nthread=3, min_child_weight=11, n_estimators=30, subsample=0.75, seed=1337, objective=binary:logistic, max_depth=5 \n",
      "[CV]  colsample_bytree=0.7, silent=1, learning_rate=0.05, nthread=3, min_child_weight=1, n_estimators=80, subsample=0.75, seed=1337, objective=binary:logistic, max_depth=10 -  59.4s\n",
      "[CV] colsample_bytree=0.7, silent=1, learning_rate=0.05, nthread=3, min_child_weight=11, n_estimators=30, subsample=0.75, seed=1337, objective=binary:logistic, max_depth=5 \n",
      "[CV]  colsample_bytree=0.7, silent=1, learning_rate=0.05, nthread=3, min_child_weight=11, n_estimators=30, subsample=0.75, seed=1337, objective=binary:logistic, max_depth=5 -  15.7s\n",
      "[CV] colsample_bytree=0.7, silent=1, learning_rate=0.05, nthread=3, min_child_weight=11, n_estimators=30, subsample=0.75, seed=1337, objective=binary:logistic, max_depth=5 \n",
      "[CV]  colsample_bytree=0.7, silent=1, learning_rate=0.05, nthread=3, min_child_weight=11, n_estimators=30, subsample=0.75, seed=1337, objective=binary:logistic, max_depth=5 -  13.0s\n",
      "[CV] colsample_bytree=0.7, silent=1, learning_rate=0.05, nthread=3, min_child_weight=11, n_estimators=50, subsample=0.75, seed=1337, objective=binary:logistic, max_depth=5 \n",
      "[CV]  colsample_bytree=0.7, silent=1, learning_rate=0.05, nthread=3, min_child_weight=11, n_estimators=30, subsample=0.75, seed=1337, objective=binary:logistic, max_depth=5 -  11.6s\n",
      "[CV] colsample_bytree=0.7, silent=1, learning_rate=0.05, nthread=3, min_child_weight=11, n_estimators=50, subsample=0.75, seed=1337, objective=binary:logistic, max_depth=5 \n",
      "[CV]  colsample_bytree=0.7, silent=1, learning_rate=0.05, nthread=3, min_child_weight=1, n_estimators=80, subsample=0.75, seed=1337, objective=binary:logistic, max_depth=10 -  59.8s\n",
      "[CV] colsample_bytree=0.7, silent=1, learning_rate=0.05, nthread=3, min_child_weight=11, n_estimators=50, subsample=0.75, seed=1337, objective=binary:logistic, max_depth=5 \n",
      "[CV]  colsample_bytree=0.7, silent=1, learning_rate=0.05, nthread=3, min_child_weight=11, n_estimators=50, subsample=0.75, seed=1337, objective=binary:logistic, max_depth=5 -  21.2s\n",
      "[CV] colsample_bytree=0.7, silent=1, learning_rate=0.05, nthread=3, min_child_weight=11, n_estimators=50, subsample=0.75, seed=1337, objective=binary:logistic, max_depth=5 \n",
      "[CV]  colsample_bytree=0.7, silent=1, learning_rate=0.05, nthread=3, min_child_weight=11, n_estimators=50, subsample=0.75, seed=1337, objective=binary:logistic, max_depth=5 -  20.3s\n",
      "[CV] colsample_bytree=0.7, silent=1, learning_rate=0.05, nthread=3, min_child_weight=11, n_estimators=80, subsample=0.75, seed=1337, objective=binary:logistic, max_depth=5 \n",
      "[CV]  colsample_bytree=0.7, silent=1, learning_rate=0.05, nthread=3, min_child_weight=11, n_estimators=50, subsample=0.75, seed=1337, objective=binary:logistic, max_depth=5 -  19.6s\n",
      "[CV] colsample_bytree=0.7, silent=1, learning_rate=0.05, nthread=3, min_child_weight=11, n_estimators=80, subsample=0.75, seed=1337, objective=binary:logistic, max_depth=5 \n",
      "[CV]  colsample_bytree=0.7, silent=1, learning_rate=0.05, nthread=3, min_child_weight=11, n_estimators=50, subsample=0.75, seed=1337, objective=binary:logistic, max_depth=5 -  21.8s\n",
      "[CV] colsample_bytree=0.7, silent=1, learning_rate=0.05, nthread=3, min_child_weight=11, n_estimators=80, subsample=0.75, seed=1337, objective=binary:logistic, max_depth=5 \n",
      "[CV]  colsample_bytree=0.7, silent=1, learning_rate=0.05, nthread=3, min_child_weight=11, n_estimators=80, subsample=0.75, seed=1337, objective=binary:logistic, max_depth=5 -  29.4s\n",
      "[CV] colsample_bytree=0.7, silent=1, learning_rate=0.05, nthread=3, min_child_weight=11, n_estimators=80, subsample=0.75, seed=1337, objective=binary:logistic, max_depth=5 \n",
      "[CV]  colsample_bytree=0.7, silent=1, learning_rate=0.05, nthread=3, min_child_weight=11, n_estimators=80, subsample=0.75, seed=1337, objective=binary:logistic, max_depth=5 -  31.5s\n",
      "[CV] colsample_bytree=0.7, silent=1, learning_rate=0.05, nthread=3, min_child_weight=5, n_estimators=30, subsample=0.75, seed=1337, objective=binary:logistic, max_depth=5 \n",
      "[CV]  colsample_bytree=0.7, silent=1, learning_rate=0.05, nthread=3, min_child_weight=5, n_estimators=30, subsample=0.75, seed=1337, objective=binary:logistic, max_depth=5 -  12.7s\n",
      "[CV] colsample_bytree=0.7, silent=1, learning_rate=0.05, nthread=3, min_child_weight=5, n_estimators=30, subsample=0.75, seed=1337, objective=binary:logistic, max_depth=5 \n",
      "[CV]  colsample_bytree=0.7, silent=1, learning_rate=0.05, nthread=3, min_child_weight=11, n_estimators=80, subsample=0.75, seed=1337, objective=binary:logistic, max_depth=5 -  31.4s\n",
      "[CV] colsample_bytree=0.7, silent=1, learning_rate=0.05, nthread=3, min_child_weight=5, n_estimators=30, subsample=0.75, seed=1337, objective=binary:logistic, max_depth=5 \n",
      "[CV]  colsample_bytree=0.7, silent=1, learning_rate=0.05, nthread=3, min_child_weight=5, n_estimators=30, subsample=0.75, seed=1337, objective=binary:logistic, max_depth=5 -  13.4s\n",
      "[CV] colsample_bytree=0.7, silent=1, learning_rate=0.05, nthread=3, min_child_weight=5, n_estimators=30, subsample=0.75, seed=1337, objective=binary:logistic, max_depth=5 \n",
      "[CV]  colsample_bytree=0.7, silent=1, learning_rate=0.05, nthread=3, min_child_weight=5, n_estimators=30, subsample=0.75, seed=1337, objective=binary:logistic, max_depth=5 -  13.0s\n",
      "[CV] colsample_bytree=0.7, silent=1, learning_rate=0.05, nthread=3, min_child_weight=5, n_estimators=50, subsample=0.75, seed=1337, objective=binary:logistic, max_depth=5 \n",
      "[CV]  colsample_bytree=0.7, silent=1, learning_rate=0.05, nthread=3, min_child_weight=11, n_estimators=80, subsample=0.75, seed=1337, objective=binary:logistic, max_depth=5 -  31.3s\n",
      "[CV] colsample_bytree=0.7, silent=1, learning_rate=0.05, nthread=3, min_child_weight=5, n_estimators=50, subsample=0.75, seed=1337, objective=binary:logistic, max_depth=5 \n",
      "[CV]  colsample_bytree=0.7, silent=1, learning_rate=0.05, nthread=3, min_child_weight=5, n_estimators=30, subsample=0.75, seed=1337, objective=binary:logistic, max_depth=5 -  13.4s\n",
      "[CV] colsample_bytree=0.7, silent=1, learning_rate=0.05, nthread=3, min_child_weight=5, n_estimators=50, subsample=0.75, seed=1337, objective=binary:logistic, max_depth=5 \n",
      "[CV]  colsample_bytree=0.7, silent=1, learning_rate=0.05, nthread=3, min_child_weight=5, n_estimators=50, subsample=0.75, seed=1337, objective=binary:logistic, max_depth=5 -  20.0s\n",
      "[CV] colsample_bytree=0.7, silent=1, learning_rate=0.05, nthread=3, min_child_weight=5, n_estimators=50, subsample=0.75, seed=1337, objective=binary:logistic, max_depth=5 \n",
      "[CV]  colsample_bytree=0.7, silent=1, learning_rate=0.05, nthread=3, min_child_weight=5, n_estimators=50, subsample=0.75, seed=1337, objective=binary:logistic, max_depth=5 -  19.9s\n",
      "[CV] colsample_bytree=0.7, silent=1, learning_rate=0.05, nthread=3, min_child_weight=5, n_estimators=80, subsample=0.75, seed=1337, objective=binary:logistic, max_depth=5 \n",
      "[CV]  colsample_bytree=0.7, silent=1, learning_rate=0.05, nthread=3, min_child_weight=5, n_estimators=50, subsample=0.75, seed=1337, objective=binary:logistic, max_depth=5 -  20.4s\n",
      "[CV] colsample_bytree=0.7, silent=1, learning_rate=0.05, nthread=3, min_child_weight=5, n_estimators=80, subsample=0.75, seed=1337, objective=binary:logistic, max_depth=5 \n",
      "[CV]  colsample_bytree=0.7, silent=1, learning_rate=0.05, nthread=3, min_child_weight=5, n_estimators=50, subsample=0.75, seed=1337, objective=binary:logistic, max_depth=5 -  21.3s\n",
      "[CV] colsample_bytree=0.7, silent=1, learning_rate=0.05, nthread=3, min_child_weight=5, n_estimators=80, subsample=0.75, seed=1337, objective=binary:logistic, max_depth=5 \n",
      "[CV]  colsample_bytree=0.7, silent=1, learning_rate=0.05, nthread=3, min_child_weight=5, n_estimators=80, subsample=0.75, seed=1337, objective=binary:logistic, max_depth=5 -  32.2s\n",
      "[CV] colsample_bytree=0.7, silent=1, learning_rate=0.05, nthread=3, min_child_weight=5, n_estimators=80, subsample=0.75, seed=1337, objective=binary:logistic, max_depth=5 \n",
      "[CV]  colsample_bytree=0.7, silent=1, learning_rate=0.05, nthread=3, min_child_weight=5, n_estimators=80, subsample=0.75, seed=1337, objective=binary:logistic, max_depth=5 -  31.3s\n",
      "[CV] colsample_bytree=0.7, silent=1, learning_rate=0.05, nthread=3, min_child_weight=1, n_estimators=30, subsample=0.75, seed=1337, objective=binary:logistic, max_depth=5 \n",
      "[CV]  colsample_bytree=0.7, silent=1, learning_rate=0.05, nthread=3, min_child_weight=5, n_estimators=80, subsample=0.75, seed=1337, objective=binary:logistic, max_depth=5 -  31.5s\n",
      "[CV] colsample_bytree=0.7, silent=1, learning_rate=0.05, nthread=3, min_child_weight=1, n_estimators=30, subsample=0.75, seed=1337, objective=binary:logistic, max_depth=5 \n",
      "[CV]  colsample_bytree=0.7, silent=1, learning_rate=0.05, nthread=3, min_child_weight=1, n_estimators=30, subsample=0.75, seed=1337, objective=binary:logistic, max_depth=5 -  14.6s\n",
      "[CV] colsample_bytree=0.7, silent=1, learning_rate=0.05, nthread=3, min_child_weight=1, n_estimators=30, subsample=0.75, seed=1337, objective=binary:logistic, max_depth=5 \n",
      "[CV]  colsample_bytree=0.7, silent=1, learning_rate=0.05, nthread=3, min_child_weight=5, n_estimators=80, subsample=0.75, seed=1337, objective=binary:logistic, max_depth=5 -  29.8s\n",
      "[CV] colsample_bytree=0.7, silent=1, learning_rate=0.05, nthread=3, min_child_weight=1, n_estimators=30, subsample=0.75, seed=1337, objective=binary:logistic, max_depth=5 \n",
      "[CV]  colsample_bytree=0.7, silent=1, learning_rate=0.05, nthread=3, min_child_weight=1, n_estimators=30, subsample=0.75, seed=1337, objective=binary:logistic, max_depth=5 -  12.9s\n",
      "[CV] colsample_bytree=0.7, silent=1, learning_rate=0.05, nthread=3, min_child_weight=1, n_estimators=50, subsample=0.75, seed=1337, objective=binary:logistic, max_depth=5 \n",
      "[CV]  colsample_bytree=0.7, silent=1, learning_rate=0.05, nthread=3, min_child_weight=1, n_estimators=30, subsample=0.75, seed=1337, objective=binary:logistic, max_depth=5 -  12.8s\n",
      "[CV] colsample_bytree=0.7, silent=1, learning_rate=0.05, nthread=3, min_child_weight=1, n_estimators=50, subsample=0.75, seed=1337, objective=binary:logistic, max_depth=5 \n",
      "[CV]  colsample_bytree=0.7, silent=1, learning_rate=0.05, nthread=3, min_child_weight=1, n_estimators=30, subsample=0.75, seed=1337, objective=binary:logistic, max_depth=5 -  13.9s\n",
      "[CV] colsample_bytree=0.7, silent=1, learning_rate=0.05, nthread=3, min_child_weight=1, n_estimators=50, subsample=0.75, seed=1337, objective=binary:logistic, max_depth=5 \n",
      "[CV]  colsample_bytree=0.7, silent=1, learning_rate=0.05, nthread=3, min_child_weight=1, n_estimators=50, subsample=0.75, seed=1337, objective=binary:logistic, max_depth=5 -  21.0s\n",
      "[CV] colsample_bytree=0.7, silent=1, learning_rate=0.05, nthread=3, min_child_weight=1, n_estimators=50, subsample=0.75, seed=1337, objective=binary:logistic, max_depth=5 \n",
      "[CV]  colsample_bytree=0.7, silent=1, learning_rate=0.05, nthread=3, min_child_weight=1, n_estimators=50, subsample=0.75, seed=1337, objective=binary:logistic, max_depth=5 -  19.0s\n",
      "[CV] colsample_bytree=0.7, silent=1, learning_rate=0.05, nthread=3, min_child_weight=1, n_estimators=80, subsample=0.75, seed=1337, objective=binary:logistic, max_depth=5 \n",
      "[CV]  colsample_bytree=0.7, silent=1, learning_rate=0.05, nthread=3, min_child_weight=1, n_estimators=50, subsample=0.75, seed=1337, objective=binary:logistic, max_depth=5 -  20.4s\n",
      "[CV] colsample_bytree=0.7, silent=1, learning_rate=0.05, nthread=3, min_child_weight=1, n_estimators=80, subsample=0.75, seed=1337, objective=binary:logistic, max_depth=5 \n",
      "[CV]  colsample_bytree=0.7, silent=1, learning_rate=0.05, nthread=3, min_child_weight=1, n_estimators=50, subsample=0.75, seed=1337, objective=binary:logistic, max_depth=5 -  19.9s\n",
      "[CV] colsample_bytree=0.7, silent=1, learning_rate=0.05, nthread=3, min_child_weight=1, n_estimators=80, subsample=0.75, seed=1337, objective=binary:logistic, max_depth=5 \n",
      "[CV]  colsample_bytree=0.7, silent=1, learning_rate=0.05, nthread=3, min_child_weight=1, n_estimators=80, subsample=0.75, seed=1337, objective=binary:logistic, max_depth=5 -  33.0s\n",
      "[CV] colsample_bytree=0.7, silent=1, learning_rate=0.05, nthread=3, min_child_weight=1, n_estimators=80, subsample=0.75, seed=1337, objective=binary:logistic, max_depth=5 \n",
      "[CV]  colsample_bytree=0.7, silent=1, learning_rate=0.05, nthread=3, min_child_weight=1, n_estimators=80, subsample=0.75, seed=1337, objective=binary:logistic, max_depth=5 -  32.3s\n",
      "[CV] colsample_bytree=0.7, silent=1, learning_rate=0.05, nthread=3, min_child_weight=11, n_estimators=30, subsample=0.75, seed=1337, objective=binary:logistic, max_depth=15 \n",
      "[CV]  colsample_bytree=0.7, silent=1, learning_rate=0.05, nthread=3, min_child_weight=1, n_estimators=80, subsample=0.75, seed=1337, objective=binary:logistic, max_depth=5 -  30.8s\n",
      "[CV] colsample_bytree=0.7, silent=1, learning_rate=0.05, nthread=3, min_child_weight=11, n_estimators=30, subsample=0.75, seed=1337, objective=binary:logistic, max_depth=15 \n",
      "[CV]  colsample_bytree=0.7, silent=1, learning_rate=0.05, nthread=3, min_child_weight=11, n_estimators=30, subsample=0.75, seed=1337, objective=binary:logistic, max_depth=15 -  25.8s\n",
      "[CV] colsample_bytree=0.7, silent=1, learning_rate=0.05, nthread=3, min_child_weight=11, n_estimators=30, subsample=0.75, seed=1337, objective=binary:logistic, max_depth=15 \n",
      "[CV]  colsample_bytree=0.7, silent=1, learning_rate=0.05, nthread=3, min_child_weight=1, n_estimators=80, subsample=0.75, seed=1337, objective=binary:logistic, max_depth=5 -  33.0s\n",
      "[CV] colsample_bytree=0.7, silent=1, learning_rate=0.05, nthread=3, min_child_weight=11, n_estimators=30, subsample=0.75, seed=1337, objective=binary:logistic, max_depth=15 \n",
      "[CV]  colsample_bytree=0.7, silent=1, learning_rate=0.05, nthread=3, min_child_weight=11, n_estimators=30, subsample=0.75, seed=1337, objective=binary:logistic, max_depth=15 -  22.3s\n",
      "[CV] colsample_bytree=0.7, silent=1, learning_rate=0.05, nthread=3, min_child_weight=11, n_estimators=50, subsample=0.75, seed=1337, objective=binary:logistic, max_depth=15 \n",
      "[CV]  colsample_bytree=0.7, silent=1, learning_rate=0.05, nthread=3, min_child_weight=11, n_estimators=30, subsample=0.75, seed=1337, objective=binary:logistic, max_depth=15 -  25.1s\n",
      "[CV] colsample_bytree=0.7, silent=1, learning_rate=0.05, nthread=3, min_child_weight=11, n_estimators=50, subsample=0.75, seed=1337, objective=binary:logistic, max_depth=15 \n",
      "[CV]  colsample_bytree=0.7, silent=1, learning_rate=0.05, nthread=3, min_child_weight=11, n_estimators=30, subsample=0.75, seed=1337, objective=binary:logistic, max_depth=15 -  25.6s\n",
      "[CV] colsample_bytree=0.7, silent=1, learning_rate=0.05, nthread=3, min_child_weight=11, n_estimators=50, subsample=0.75, seed=1337, objective=binary:logistic, max_depth=15 \n",
      "[CV]  colsample_bytree=0.7, silent=1, learning_rate=0.05, nthread=3, min_child_weight=11, n_estimators=50, subsample=0.75, seed=1337, objective=binary:logistic, max_depth=15 -  43.5s\n",
      "[CV] colsample_bytree=0.7, silent=1, learning_rate=0.05, nthread=3, min_child_weight=11, n_estimators=50, subsample=0.75, seed=1337, objective=binary:logistic, max_depth=15 \n",
      "[CV]  colsample_bytree=0.7, silent=1, learning_rate=0.05, nthread=3, min_child_weight=11, n_estimators=50, subsample=0.75, seed=1337, objective=binary:logistic, max_depth=15 -  43.8s\n",
      "[CV] colsample_bytree=0.7, silent=1, learning_rate=0.05, nthread=3, min_child_weight=11, n_estimators=80, subsample=0.75, seed=1337, objective=binary:logistic, max_depth=15 \n",
      "[CV]  colsample_bytree=0.7, silent=1, learning_rate=0.05, nthread=3, min_child_weight=11, n_estimators=50, subsample=0.75, seed=1337, objective=binary:logistic, max_depth=15 -  45.8s\n",
      "[CV] colsample_bytree=0.7, silent=1, learning_rate=0.05, nthread=3, min_child_weight=11, n_estimators=80, subsample=0.75, seed=1337, objective=binary:logistic, max_depth=15 \n",
      "[CV]  colsample_bytree=0.7, silent=1, learning_rate=0.05, nthread=3, min_child_weight=11, n_estimators=50, subsample=0.75, seed=1337, objective=binary:logistic, max_depth=15 -  45.4s\n",
      "[CV] colsample_bytree=0.7, silent=1, learning_rate=0.05, nthread=3, min_child_weight=11, n_estimators=80, subsample=0.75, seed=1337, objective=binary:logistic, max_depth=15 \n",
      "[CV]  colsample_bytree=0.7, silent=1, learning_rate=0.05, nthread=3, min_child_weight=11, n_estimators=80, subsample=0.75, seed=1337, objective=binary:logistic, max_depth=15 - 1.3min\n",
      "[CV] colsample_bytree=0.7, silent=1, learning_rate=0.05, nthread=3, min_child_weight=11, n_estimators=80, subsample=0.75, seed=1337, objective=binary:logistic, max_depth=15 \n",
      "[CV]  colsample_bytree=0.7, silent=1, learning_rate=0.05, nthread=3, min_child_weight=11, n_estimators=80, subsample=0.75, seed=1337, objective=binary:logistic, max_depth=15 - 1.3min\n",
      "[CV] colsample_bytree=0.7, silent=1, learning_rate=0.05, nthread=3, min_child_weight=5, n_estimators=30, subsample=0.75, seed=1337, objective=binary:logistic, max_depth=15 \n",
      "[CV]  colsample_bytree=0.7, silent=1, learning_rate=0.05, nthread=3, min_child_weight=11, n_estimators=80, subsample=0.75, seed=1337, objective=binary:logistic, max_depth=15 - 1.3min\n",
      "[CV] colsample_bytree=0.7, silent=1, learning_rate=0.05, nthread=3, min_child_weight=5, n_estimators=30, subsample=0.75, seed=1337, objective=binary:logistic, max_depth=15 \n",
      "[CV]  colsample_bytree=0.7, silent=1, learning_rate=0.05, nthread=3, min_child_weight=5, n_estimators=30, subsample=0.75, seed=1337, objective=binary:logistic, max_depth=15 -  26.2s\n",
      "[CV] colsample_bytree=0.7, silent=1, learning_rate=0.05, nthread=3, min_child_weight=5, n_estimators=30, subsample=0.75, seed=1337, objective=binary:logistic, max_depth=15 \n",
      "[CV]  colsample_bytree=0.7, silent=1, learning_rate=0.05, nthread=3, min_child_weight=5, n_estimators=30, subsample=0.75, seed=1337, objective=binary:logistic, max_depth=15 -  28.3s\n",
      "[CV] colsample_bytree=0.7, silent=1, learning_rate=0.05, nthread=3, min_child_weight=5, n_estimators=30, subsample=0.75, seed=1337, objective=binary:logistic, max_depth=15 \n",
      "[CV]  colsample_bytree=0.7, silent=1, learning_rate=0.05, nthread=3, min_child_weight=5, n_estimators=30, subsample=0.75, seed=1337, objective=binary:logistic, max_depth=15 -  26.8s\n",
      "[CV] colsample_bytree=0.7, silent=1, learning_rate=0.05, nthread=3, min_child_weight=5, n_estimators=50, subsample=0.75, seed=1337, objective=binary:logistic, max_depth=15 \n",
      "[CV]  colsample_bytree=0.7, silent=1, learning_rate=0.05, nthread=3, min_child_weight=11, n_estimators=80, subsample=0.75, seed=1337, objective=binary:logistic, max_depth=15 - 1.3min\n",
      "[CV] colsample_bytree=0.7, silent=1, learning_rate=0.05, nthread=3, min_child_weight=5, n_estimators=50, subsample=0.75, seed=1337, objective=binary:logistic, max_depth=15 \n",
      "[CV]  colsample_bytree=0.7, silent=1, learning_rate=0.05, nthread=3, min_child_weight=5, n_estimators=30, subsample=0.75, seed=1337, objective=binary:logistic, max_depth=15 -  30.2s\n",
      "[CV] colsample_bytree=0.7, silent=1, learning_rate=0.05, nthread=3, min_child_weight=5, n_estimators=50, subsample=0.75, seed=1337, objective=binary:logistic, max_depth=15 \n",
      "[CV]  colsample_bytree=0.7, silent=1, learning_rate=0.05, nthread=3, min_child_weight=5, n_estimators=50, subsample=0.75, seed=1337, objective=binary:logistic, max_depth=15 -  49.3s\n",
      "[CV] colsample_bytree=0.7, silent=1, learning_rate=0.05, nthread=3, min_child_weight=5, n_estimators=50, subsample=0.75, seed=1337, objective=binary:logistic, max_depth=15 \n",
      "[CV]  colsample_bytree=0.7, silent=1, learning_rate=0.05, nthread=3, min_child_weight=5, n_estimators=50, subsample=0.75, seed=1337, objective=binary:logistic, max_depth=15 -  48.6s\n",
      "[CV] colsample_bytree=0.7, silent=1, learning_rate=0.05, nthread=3, min_child_weight=5, n_estimators=80, subsample=0.75, seed=1337, objective=binary:logistic, max_depth=15 \n",
      "[CV]  colsample_bytree=0.7, silent=1, learning_rate=0.05, nthread=3, min_child_weight=5, n_estimators=50, subsample=0.75, seed=1337, objective=binary:logistic, max_depth=15 -  48.7s\n",
      "[CV] colsample_bytree=0.7, silent=1, learning_rate=0.05, nthread=3, min_child_weight=5, n_estimators=80, subsample=0.75, seed=1337, objective=binary:logistic, max_depth=15 \n",
      "[CV]  colsample_bytree=0.7, silent=1, learning_rate=0.05, nthread=3, min_child_weight=5, n_estimators=50, subsample=0.75, seed=1337, objective=binary:logistic, max_depth=15 -  48.0s\n",
      "[CV] colsample_bytree=0.7, silent=1, learning_rate=0.05, nthread=3, min_child_weight=5, n_estimators=80, subsample=0.75, seed=1337, objective=binary:logistic, max_depth=15 \n",
      "[CV]  colsample_bytree=0.7, silent=1, learning_rate=0.05, nthread=3, min_child_weight=5, n_estimators=80, subsample=0.75, seed=1337, objective=binary:logistic, max_depth=15 - 1.3min\n",
      "[CV] colsample_bytree=0.7, silent=1, learning_rate=0.05, nthread=3, min_child_weight=5, n_estimators=80, subsample=0.75, seed=1337, objective=binary:logistic, max_depth=15 \n",
      "[CV]  colsample_bytree=0.7, silent=1, learning_rate=0.05, nthread=3, min_child_weight=5, n_estimators=80, subsample=0.75, seed=1337, objective=binary:logistic, max_depth=15 - 1.4min\n",
      "[CV] colsample_bytree=0.7, silent=1, learning_rate=0.05, nthread=3, min_child_weight=1, n_estimators=30, subsample=0.75, seed=1337, objective=binary:logistic, max_depth=15 \n",
      "[CV]  colsample_bytree=0.7, silent=1, learning_rate=0.05, nthread=3, min_child_weight=5, n_estimators=80, subsample=0.75, seed=1337, objective=binary:logistic, max_depth=15 - 1.4min\n",
      "[CV] colsample_bytree=0.7, silent=1, learning_rate=0.05, nthread=3, min_child_weight=1, n_estimators=30, subsample=0.75, seed=1337, objective=binary:logistic, max_depth=15 \n",
      "[CV]  colsample_bytree=0.7, silent=1, learning_rate=0.05, nthread=3, min_child_weight=1, n_estimators=30, subsample=0.75, seed=1337, objective=binary:logistic, max_depth=15 -  29.8s\n",
      "[CV] colsample_bytree=0.7, silent=1, learning_rate=0.05, nthread=3, min_child_weight=1, n_estimators=30, subsample=0.75, seed=1337, objective=binary:logistic, max_depth=15 \n",
      "[CV]  colsample_bytree=0.7, silent=1, learning_rate=0.05, nthread=3, min_child_weight=1, n_estimators=30, subsample=0.75, seed=1337, objective=binary:logistic, max_depth=15 -  29.1s\n",
      "[CV] colsample_bytree=0.7, silent=1, learning_rate=0.05, nthread=3, min_child_weight=1, n_estimators=30, subsample=0.75, seed=1337, objective=binary:logistic, max_depth=15 \n",
      "[CV]  colsample_bytree=0.7, silent=1, learning_rate=0.05, nthread=3, min_child_weight=1, n_estimators=30, subsample=0.75, seed=1337, objective=binary:logistic, max_depth=15 -  31.3s\n",
      "[CV] colsample_bytree=0.7, silent=1, learning_rate=0.05, nthread=3, min_child_weight=1, n_estimators=50, subsample=0.75, seed=1337, objective=binary:logistic, max_depth=15 \n",
      "[CV]  colsample_bytree=0.7, silent=1, learning_rate=0.05, nthread=3, min_child_weight=5, n_estimators=80, subsample=0.75, seed=1337, objective=binary:logistic, max_depth=15 - 1.3min\n",
      "[CV] colsample_bytree=0.7, silent=1, learning_rate=0.05, nthread=3, min_child_weight=1, n_estimators=50, subsample=0.75, seed=1337, objective=binary:logistic, max_depth=15 \n",
      "[CV]  colsample_bytree=0.7, silent=1, learning_rate=0.05, nthread=3, min_child_weight=1, n_estimators=30, subsample=0.75, seed=1337, objective=binary:logistic, max_depth=15 -  28.6s\n",
      "[CV] colsample_bytree=0.7, silent=1, learning_rate=0.05, nthread=3, min_child_weight=1, n_estimators=50, subsample=0.75, seed=1337, objective=binary:logistic, max_depth=15 \n",
      "[CV]  colsample_bytree=0.7, silent=1, learning_rate=0.05, nthread=3, min_child_weight=1, n_estimators=50, subsample=0.75, seed=1337, objective=binary:logistic, max_depth=15 -  53.8s\n",
      "[CV] colsample_bytree=0.7, silent=1, learning_rate=0.05, nthread=3, min_child_weight=1, n_estimators=50, subsample=0.75, seed=1337, objective=binary:logistic, max_depth=15 \n",
      "[CV]  colsample_bytree=0.7, silent=1, learning_rate=0.05, nthread=3, min_child_weight=1, n_estimators=50, subsample=0.75, seed=1337, objective=binary:logistic, max_depth=15 -  52.1s\n",
      "[CV] colsample_bytree=0.7, silent=1, learning_rate=0.05, nthread=3, min_child_weight=1, n_estimators=80, subsample=0.75, seed=1337, objective=binary:logistic, max_depth=15 \n",
      "[CV]  colsample_bytree=0.7, silent=1, learning_rate=0.05, nthread=3, min_child_weight=1, n_estimators=50, subsample=0.75, seed=1337, objective=binary:logistic, max_depth=15 -  52.7s\n",
      "[CV] colsample_bytree=0.7, silent=1, learning_rate=0.05, nthread=3, min_child_weight=1, n_estimators=80, subsample=0.75, seed=1337, objective=binary:logistic, max_depth=15 \n",
      "[CV]  colsample_bytree=0.7, silent=1, learning_rate=0.05, nthread=3, min_child_weight=1, n_estimators=50, subsample=0.75, seed=1337, objective=binary:logistic, max_depth=15 -  55.6s\n",
      "[CV] colsample_bytree=0.7, silent=1, learning_rate=0.05, nthread=3, min_child_weight=1, n_estimators=80, subsample=0.75, seed=1337, objective=binary:logistic, max_depth=15 \n",
      "[CV]  colsample_bytree=0.7, silent=1, learning_rate=0.05, nthread=3, min_child_weight=1, n_estimators=80, subsample=0.75, seed=1337, objective=binary:logistic, max_depth=15 - 1.4min\n",
      "[CV] colsample_bytree=0.7, silent=1, learning_rate=0.05, nthread=3, min_child_weight=1, n_estimators=80, subsample=0.75, seed=1337, objective=binary:logistic, max_depth=15 \n",
      "[CV]  colsample_bytree=0.7, silent=1, learning_rate=0.05, nthread=3, min_child_weight=1, n_estimators=80, subsample=0.75, seed=1337, objective=binary:logistic, max_depth=15 - 1.4min\n",
      "[CV] colsample_bytree=0.7, silent=1, learning_rate=0.04, nthread=3, min_child_weight=11, n_estimators=30, subsample=0.75, seed=1337, objective=binary:logistic, max_depth=10 \n",
      "[CV]  colsample_bytree=0.7, silent=1, learning_rate=0.04, nthread=3, min_child_weight=11, n_estimators=30, subsample=0.75, seed=1337, objective=binary:logistic, max_depth=10 -  17.9s\n",
      "[CV] colsample_bytree=0.7, silent=1, learning_rate=0.04, nthread=3, min_child_weight=11, n_estimators=30, subsample=0.75, seed=1337, objective=binary:logistic, max_depth=10 \n",
      "[CV]  colsample_bytree=0.7, silent=1, learning_rate=0.05, nthread=3, min_child_weight=1, n_estimators=80, subsample=0.75, seed=1337, objective=binary:logistic, max_depth=15 - 1.5min\n",
      "[CV] colsample_bytree=0.7, silent=1, learning_rate=0.04, nthread=3, min_child_weight=11, n_estimators=30, subsample=0.75, seed=1337, objective=binary:logistic, max_depth=10 \n",
      "[CV]  colsample_bytree=0.7, silent=1, learning_rate=0.04, nthread=3, min_child_weight=11, n_estimators=30, subsample=0.75, seed=1337, objective=binary:logistic, max_depth=10 -  21.4s\n",
      "[CV] colsample_bytree=0.7, silent=1, learning_rate=0.04, nthread=3, min_child_weight=11, n_estimators=30, subsample=0.75, seed=1337, objective=binary:logistic, max_depth=10 \n",
      "[CV]  colsample_bytree=0.7, silent=1, learning_rate=0.04, nthread=3, min_child_weight=11, n_estimators=30, subsample=0.75, seed=1337, objective=binary:logistic, max_depth=10 -  19.6s\n",
      "[CV] colsample_bytree=0.7, silent=1, learning_rate=0.04, nthread=3, min_child_weight=11, n_estimators=50, subsample=0.75, seed=1337, objective=binary:logistic, max_depth=10 \n",
      "[CV]  colsample_bytree=0.7, silent=1, learning_rate=0.04, nthread=3, min_child_weight=11, n_estimators=30, subsample=0.75, seed=1337, objective=binary:logistic, max_depth=10 -  20.6s\n",
      "[CV] colsample_bytree=0.7, silent=1, learning_rate=0.04, nthread=3, min_child_weight=11, n_estimators=50, subsample=0.75, seed=1337, objective=binary:logistic, max_depth=10 \n",
      "[CV]  colsample_bytree=0.7, silent=1, learning_rate=0.05, nthread=3, min_child_weight=1, n_estimators=80, subsample=0.75, seed=1337, objective=binary:logistic, max_depth=15 - 1.5min\n",
      "[CV] colsample_bytree=0.7, silent=1, learning_rate=0.04, nthread=3, min_child_weight=11, n_estimators=50, subsample=0.75, seed=1337, objective=binary:logistic, max_depth=10 \n",
      "[CV]  colsample_bytree=0.7, silent=1, learning_rate=0.04, nthread=3, min_child_weight=11, n_estimators=50, subsample=0.75, seed=1337, objective=binary:logistic, max_depth=10 -  36.0s\n",
      "[CV] colsample_bytree=0.7, silent=1, learning_rate=0.04, nthread=3, min_child_weight=11, n_estimators=50, subsample=0.75, seed=1337, objective=binary:logistic, max_depth=10 \n",
      "[CV]  colsample_bytree=0.7, silent=1, learning_rate=0.04, nthread=3, min_child_weight=11, n_estimators=50, subsample=0.75, seed=1337, objective=binary:logistic, max_depth=10 -  34.6s\n",
      "[CV] colsample_bytree=0.7, silent=1, learning_rate=0.04, nthread=3, min_child_weight=11, n_estimators=80, subsample=0.75, seed=1337, objective=binary:logistic, max_depth=10 \n",
      "[CV]  colsample_bytree=0.7, silent=1, learning_rate=0.04, nthread=3, min_child_weight=11, n_estimators=50, subsample=0.75, seed=1337, objective=binary:logistic, max_depth=10 -  32.6s\n",
      "[CV] colsample_bytree=0.7, silent=1, learning_rate=0.04, nthread=3, min_child_weight=11, n_estimators=80, subsample=0.75, seed=1337, objective=binary:logistic, max_depth=10 \n",
      "[CV]  colsample_bytree=0.7, silent=1, learning_rate=0.04, nthread=3, min_child_weight=11, n_estimators=50, subsample=0.75, seed=1337, objective=binary:logistic, max_depth=10 -  32.9s\n",
      "[CV] colsample_bytree=0.7, silent=1, learning_rate=0.04, nthread=3, min_child_weight=11, n_estimators=80, subsample=0.75, seed=1337, objective=binary:logistic, max_depth=10 \n",
      "[CV]  colsample_bytree=0.7, silent=1, learning_rate=0.04, nthread=3, min_child_weight=11, n_estimators=80, subsample=0.75, seed=1337, objective=binary:logistic, max_depth=10 -  58.2s\n",
      "[CV] colsample_bytree=0.7, silent=1, learning_rate=0.04, nthread=3, min_child_weight=11, n_estimators=80, subsample=0.75, seed=1337, objective=binary:logistic, max_depth=10 \n",
      "[CV]  colsample_bytree=0.7, silent=1, learning_rate=0.04, nthread=3, min_child_weight=11, n_estimators=80, subsample=0.75, seed=1337, objective=binary:logistic, max_depth=10 -  56.4s\n",
      "[CV] colsample_bytree=0.7, silent=1, learning_rate=0.04, nthread=3, min_child_weight=5, n_estimators=30, subsample=0.75, seed=1337, objective=binary:logistic, max_depth=10 \n",
      "[CV]  colsample_bytree=0.7, silent=1, learning_rate=0.04, nthread=3, min_child_weight=11, n_estimators=80, subsample=0.75, seed=1337, objective=binary:logistic, max_depth=10 -  57.0s\n",
      "[CV] colsample_bytree=0.7, silent=1, learning_rate=0.04, nthread=3, min_child_weight=5, n_estimators=30, subsample=0.75, seed=1337, objective=binary:logistic, max_depth=10 \n",
      "[CV]  colsample_bytree=0.7, silent=1, learning_rate=0.04, nthread=3, min_child_weight=5, n_estimators=30, subsample=0.75, seed=1337, objective=binary:logistic, max_depth=10 -  22.4s\n",
      "[CV] colsample_bytree=0.7, silent=1, learning_rate=0.04, nthread=3, min_child_weight=5, n_estimators=30, subsample=0.75, seed=1337, objective=binary:logistic, max_depth=10 \n",
      "[CV]  colsample_bytree=0.7, silent=1, learning_rate=0.04, nthread=3, min_child_weight=5, n_estimators=30, subsample=0.75, seed=1337, objective=binary:logistic, max_depth=10 -  20.8s\n",
      "[CV] colsample_bytree=0.7, silent=1, learning_rate=0.04, nthread=3, min_child_weight=5, n_estimators=30, subsample=0.75, seed=1337, objective=binary:logistic, max_depth=10 \n",
      "[CV]  colsample_bytree=0.7, silent=1, learning_rate=0.04, nthread=3, min_child_weight=11, n_estimators=80, subsample=0.75, seed=1337, objective=binary:logistic, max_depth=10 -  57.2s\n",
      "[CV] colsample_bytree=0.7, silent=1, learning_rate=0.04, nthread=3, min_child_weight=5, n_estimators=50, subsample=0.75, seed=1337, objective=binary:logistic, max_depth=10 \n",
      "[CV]  colsample_bytree=0.7, silent=1, learning_rate=0.04, nthread=3, min_child_weight=5, n_estimators=30, subsample=0.75, seed=1337, objective=binary:logistic, max_depth=10 -  21.3s\n",
      "[CV] colsample_bytree=0.7, silent=1, learning_rate=0.04, nthread=3, min_child_weight=5, n_estimators=50, subsample=0.75, seed=1337, objective=binary:logistic, max_depth=10 \n",
      "[CV]  colsample_bytree=0.7, silent=1, learning_rate=0.04, nthread=3, min_child_weight=5, n_estimators=30, subsample=0.75, seed=1337, objective=binary:logistic, max_depth=10 -  21.0s\n",
      "[CV] colsample_bytree=0.7, silent=1, learning_rate=0.04, nthread=3, min_child_weight=5, n_estimators=50, subsample=0.75, seed=1337, objective=binary:logistic, max_depth=10 \n",
      "[CV]  colsample_bytree=0.7, silent=1, learning_rate=0.04, nthread=3, min_child_weight=5, n_estimators=50, subsample=0.75, seed=1337, objective=binary:logistic, max_depth=10 -  36.6s\n",
      "[CV]  colsample_bytree=0.7, silent=1, learning_rate=0.04, nthread=3, min_child_weight=5, n_estimators=50, subsample=0.75, seed=1337, objective=binary:logistic, max_depth=10 -  35.7s\n",
      "[CV] colsample_bytree=0.7, silent=1, learning_rate=0.04, nthread=3, min_child_weight=5, n_estimators=50, subsample=0.75, seed=1337, objective=binary:logistic, max_depth=10 \n",
      "[CV] colsample_bytree=0.7, silent=1, learning_rate=0.04, nthread=3, min_child_weight=5, n_estimators=80, subsample=0.75, seed=1337, objective=binary:logistic, max_depth=10 \n",
      "[CV]  colsample_bytree=0.7, silent=1, learning_rate=0.04, nthread=3, min_child_weight=5, n_estimators=50, subsample=0.75, seed=1337, objective=binary:logistic, max_depth=10 -  34.3s\n",
      "[CV] colsample_bytree=0.7, silent=1, learning_rate=0.04, nthread=3, min_child_weight=5, n_estimators=80, subsample=0.75, seed=1337, objective=binary:logistic, max_depth=10 \n",
      "[CV]  colsample_bytree=0.7, silent=1, learning_rate=0.04, nthread=3, min_child_weight=5, n_estimators=50, subsample=0.75, seed=1337, objective=binary:logistic, max_depth=10 -  37.7s\n",
      "[CV] colsample_bytree=0.7, silent=1, learning_rate=0.04, nthread=3, min_child_weight=5, n_estimators=80, subsample=0.75, seed=1337, objective=binary:logistic, max_depth=10 \n",
      "[CV]  colsample_bytree=0.7, silent=1, learning_rate=0.04, nthread=3, min_child_weight=5, n_estimators=80, subsample=0.75, seed=1337, objective=binary:logistic, max_depth=10 -  56.8s\n",
      "[CV] colsample_bytree=0.7, silent=1, learning_rate=0.04, nthread=3, min_child_weight=5, n_estimators=80, subsample=0.75, seed=1337, objective=binary:logistic, max_depth=10 \n",
      "[CV]  colsample_bytree=0.7, silent=1, learning_rate=0.04, nthread=3, min_child_weight=5, n_estimators=80, subsample=0.75, seed=1337, objective=binary:logistic, max_depth=10 -  58.3s\n",
      "[CV] colsample_bytree=0.7, silent=1, learning_rate=0.04, nthread=3, min_child_weight=1, n_estimators=30, subsample=0.75, seed=1337, objective=binary:logistic, max_depth=10 \n",
      "[CV]  colsample_bytree=0.7, silent=1, learning_rate=0.04, nthread=3, min_child_weight=5, n_estimators=80, subsample=0.75, seed=1337, objective=binary:logistic, max_depth=10 -  57.5s\n",
      "[CV]  colsample_bytree=0.7, silent=1, learning_rate=0.04, nthread=3, min_child_weight=1, n_estimators=30, subsample=0.75, seed=1337, objective=binary:logistic, max_depth=10 -  24.0s\n",
      "[CV] colsample_bytree=0.7, silent=1, learning_rate=0.04, nthread=3, min_child_weight=1, n_estimators=30, subsample=0.75, seed=1337, objective=binary:logistic, max_depth=10 \n",
      "[CV] colsample_bytree=0.7, silent=1, learning_rate=0.04, nthread=3, min_child_weight=1, n_estimators=30, subsample=0.75, seed=1337, objective=binary:logistic, max_depth=10 \n",
      "[CV]  colsample_bytree=0.7, silent=1, learning_rate=0.04, nthread=3, min_child_weight=5, n_estimators=80, subsample=0.75, seed=1337, objective=binary:logistic, max_depth=10 -  55.8s\n",
      "[CV] colsample_bytree=0.7, silent=1, learning_rate=0.04, nthread=3, min_child_weight=1, n_estimators=30, subsample=0.75, seed=1337, objective=binary:logistic, max_depth=10 \n",
      "[CV]  colsample_bytree=0.7, silent=1, learning_rate=0.04, nthread=3, min_child_weight=1, n_estimators=30, subsample=0.75, seed=1337, objective=binary:logistic, max_depth=10 -  22.6s\n",
      "[CV] colsample_bytree=0.7, silent=1, learning_rate=0.04, nthread=3, min_child_weight=1, n_estimators=50, subsample=0.75, seed=1337, objective=binary:logistic, max_depth=10 \n",
      "[CV]  colsample_bytree=0.7, silent=1, learning_rate=0.04, nthread=3, min_child_weight=1, n_estimators=30, subsample=0.75, seed=1337, objective=binary:logistic, max_depth=10 -  22.2s\n",
      "[CV] colsample_bytree=0.7, silent=1, learning_rate=0.04, nthread=3, min_child_weight=1, n_estimators=50, subsample=0.75, seed=1337, objective=binary:logistic, max_depth=10 \n",
      "[CV]  colsample_bytree=0.7, silent=1, learning_rate=0.04, nthread=3, min_child_weight=1, n_estimators=30, subsample=0.75, seed=1337, objective=binary:logistic, max_depth=10 -  20.0s\n",
      "[CV] colsample_bytree=0.7, silent=1, learning_rate=0.04, nthread=3, min_child_weight=1, n_estimators=50, subsample=0.75, seed=1337, objective=binary:logistic, max_depth=10 \n",
      "[CV]  colsample_bytree=0.7, silent=1, learning_rate=0.04, nthread=3, min_child_weight=1, n_estimators=50, subsample=0.75, seed=1337, objective=binary:logistic, max_depth=10 -  36.0s\n",
      "[CV] colsample_bytree=0.7, silent=1, learning_rate=0.04, nthread=3, min_child_weight=1, n_estimators=50, subsample=0.75, seed=1337, objective=binary:logistic, max_depth=10 \n",
      "[CV]  colsample_bytree=0.7, silent=1, learning_rate=0.04, nthread=3, min_child_weight=1, n_estimators=50, subsample=0.75, seed=1337, objective=binary:logistic, max_depth=10 -  38.0s\n",
      "[CV] colsample_bytree=0.7, silent=1, learning_rate=0.04, nthread=3, min_child_weight=1, n_estimators=80, subsample=0.75, seed=1337, objective=binary:logistic, max_depth=10 \n",
      "[CV]  colsample_bytree=0.7, silent=1, learning_rate=0.04, nthread=3, min_child_weight=1, n_estimators=50, subsample=0.75, seed=1337, objective=binary:logistic, max_depth=10 -  36.7s\n",
      "[CV] colsample_bytree=0.7, silent=1, learning_rate=0.04, nthread=3, min_child_weight=1, n_estimators=80, subsample=0.75, seed=1337, objective=binary:logistic, max_depth=10 \n",
      "[CV]  colsample_bytree=0.7, silent=1, learning_rate=0.04, nthread=3, min_child_weight=1, n_estimators=50, subsample=0.75, seed=1337, objective=binary:logistic, max_depth=10 -  38.0s\n",
      "[CV] colsample_bytree=0.7, silent=1, learning_rate=0.04, nthread=3, min_child_weight=1, n_estimators=80, subsample=0.75, seed=1337, objective=binary:logistic, max_depth=10 \n",
      "[CV]  colsample_bytree=0.7, silent=1, learning_rate=0.04, nthread=3, min_child_weight=1, n_estimators=80, subsample=0.75, seed=1337, objective=binary:logistic, max_depth=10 - 1.0min\n",
      "[CV] colsample_bytree=0.7, silent=1, learning_rate=0.04, nthread=3, min_child_weight=1, n_estimators=80, subsample=0.75, seed=1337, objective=binary:logistic, max_depth=10 \n",
      "[CV]  colsample_bytree=0.7, silent=1, learning_rate=0.04, nthread=3, min_child_weight=1, n_estimators=80, subsample=0.75, seed=1337, objective=binary:logistic, max_depth=10 -  58.9s\n",
      "[CV] colsample_bytree=0.7, silent=1, learning_rate=0.04, nthread=3, min_child_weight=11, n_estimators=30, subsample=0.75, seed=1337, objective=binary:logistic, max_depth=5 \n",
      "[CV]  colsample_bytree=0.7, silent=1, learning_rate=0.04, nthread=3, min_child_weight=11, n_estimators=30, subsample=0.75, seed=1337, objective=binary:logistic, max_depth=5 -  13.5s\n",
      "[CV] colsample_bytree=0.7, silent=1, learning_rate=0.04, nthread=3, min_child_weight=11, n_estimators=30, subsample=0.75, seed=1337, objective=binary:logistic, max_depth=5 \n",
      "[CV]  colsample_bytree=0.7, silent=1, learning_rate=0.04, nthread=3, min_child_weight=1, n_estimators=80, subsample=0.75, seed=1337, objective=binary:logistic, max_depth=10 -  59.9s\n",
      "[CV] colsample_bytree=0.7, silent=1, learning_rate=0.04, nthread=3, min_child_weight=11, n_estimators=30, subsample=0.75, seed=1337, objective=binary:logistic, max_depth=5 \n",
      "[CV]  colsample_bytree=0.7, silent=1, learning_rate=0.04, nthread=3, min_child_weight=11, n_estimators=30, subsample=0.75, seed=1337, objective=binary:logistic, max_depth=5 -  12.7s\n",
      "[CV] colsample_bytree=0.7, silent=1, learning_rate=0.04, nthread=3, min_child_weight=11, n_estimators=30, subsample=0.75, seed=1337, objective=binary:logistic, max_depth=5 \n",
      "[CV]  colsample_bytree=0.7, silent=1, learning_rate=0.04, nthread=3, min_child_weight=11, n_estimators=30, subsample=0.75, seed=1337, objective=binary:logistic, max_depth=5 -  14.4s\n",
      "[CV] colsample_bytree=0.7, silent=1, learning_rate=0.04, nthread=3, min_child_weight=11, n_estimators=50, subsample=0.75, seed=1337, objective=binary:logistic, max_depth=5 \n",
      "[CV]  colsample_bytree=0.7, silent=1, learning_rate=0.04, nthread=3, min_child_weight=11, n_estimators=30, subsample=0.75, seed=1337, objective=binary:logistic, max_depth=5 -  13.2s\n",
      "[CV] colsample_bytree=0.7, silent=1, learning_rate=0.04, nthread=3, min_child_weight=11, n_estimators=50, subsample=0.75, seed=1337, objective=binary:logistic, max_depth=5 \n",
      "[CV]  colsample_bytree=0.7, silent=1, learning_rate=0.04, nthread=3, min_child_weight=1, n_estimators=80, subsample=0.75, seed=1337, objective=binary:logistic, max_depth=10 -  59.1s\n",
      "[CV] colsample_bytree=0.7, silent=1, learning_rate=0.04, nthread=3, min_child_weight=11, n_estimators=50, subsample=0.75, seed=1337, objective=binary:logistic, max_depth=5 \n",
      "[CV]  colsample_bytree=0.7, silent=1, learning_rate=0.04, nthread=3, min_child_weight=11, n_estimators=50, subsample=0.75, seed=1337, objective=binary:logistic, max_depth=5 -  20.3s\n",
      "[CV] colsample_bytree=0.7, silent=1, learning_rate=0.04, nthread=3, min_child_weight=11, n_estimators=50, subsample=0.75, seed=1337, objective=binary:logistic, max_depth=5 \n",
      "[CV]  colsample_bytree=0.7, silent=1, learning_rate=0.04, nthread=3, min_child_weight=11, n_estimators=50, subsample=0.75, seed=1337, objective=binary:logistic, max_depth=5 -  20.0s\n",
      "[CV] colsample_bytree=0.7, silent=1, learning_rate=0.04, nthread=3, min_child_weight=11, n_estimators=80, subsample=0.75, seed=1337, objective=binary:logistic, max_depth=5 \n",
      "[CV]  colsample_bytree=0.7, silent=1, learning_rate=0.04, nthread=3, min_child_weight=11, n_estimators=50, subsample=0.75, seed=1337, objective=binary:logistic, max_depth=5 -  21.0s\n",
      "[CV] colsample_bytree=0.7, silent=1, learning_rate=0.04, nthread=3, min_child_weight=11, n_estimators=80, subsample=0.75, seed=1337, objective=binary:logistic, max_depth=5 \n",
      "[CV]  colsample_bytree=0.7, silent=1, learning_rate=0.04, nthread=3, min_child_weight=11, n_estimators=50, subsample=0.75, seed=1337, objective=binary:logistic, max_depth=5 -  18.3s\n",
      "[CV] colsample_bytree=0.7, silent=1, learning_rate=0.04, nthread=3, min_child_weight=11, n_estimators=80, subsample=0.75, seed=1337, objective=binary:logistic, max_depth=5 \n",
      "[CV]  colsample_bytree=0.7, silent=1, learning_rate=0.04, nthread=3, min_child_weight=11, n_estimators=80, subsample=0.75, seed=1337, objective=binary:logistic, max_depth=5 -  31.6s\n",
      "[CV] colsample_bytree=0.7, silent=1, learning_rate=0.04, nthread=3, min_child_weight=11, n_estimators=80, subsample=0.75, seed=1337, objective=binary:logistic, max_depth=5 \n",
      "[CV]  colsample_bytree=0.7, silent=1, learning_rate=0.04, nthread=3, min_child_weight=11, n_estimators=80, subsample=0.75, seed=1337, objective=binary:logistic, max_depth=5 -  34.5s\n",
      "[CV] colsample_bytree=0.7, silent=1, learning_rate=0.04, nthread=3, min_child_weight=5, n_estimators=30, subsample=0.75, seed=1337, objective=binary:logistic, max_depth=5 \n",
      "[CV]  colsample_bytree=0.7, silent=1, learning_rate=0.04, nthread=3, min_child_weight=11, n_estimators=80, subsample=0.75, seed=1337, objective=binary:logistic, max_depth=5 -  30.8s\n",
      "[CV] colsample_bytree=0.7, silent=1, learning_rate=0.04, nthread=3, min_child_weight=5, n_estimators=30, subsample=0.75, seed=1337, objective=binary:logistic, max_depth=5 \n",
      "[CV]  colsample_bytree=0.7, silent=1, learning_rate=0.04, nthread=3, min_child_weight=5, n_estimators=30, subsample=0.75, seed=1337, objective=binary:logistic, max_depth=5 -  13.0s\n"
     ]
    },
    {
     "name": "stderr",
     "output_type": "stream",
     "text": [
      "[Parallel(n_jobs=3)]: Done 156 tasks      | elapsed: 31.9min\n"
     ]
    },
    {
     "name": "stdout",
     "output_type": "stream",
     "text": [
      "[CV] colsample_bytree=0.7, silent=1, learning_rate=0.04, nthread=3, min_child_weight=5, n_estimators=30, subsample=0.75, seed=1337, objective=binary:logistic, max_depth=5 \n",
      "[CV]  colsample_bytree=0.7, silent=1, learning_rate=0.04, nthread=3, min_child_weight=11, n_estimators=80, subsample=0.75, seed=1337, objective=binary:logistic, max_depth=5 -  28.7s\n",
      "[CV]  colsample_bytree=0.7, silent=1, learning_rate=0.04, nthread=3, min_child_weight=5, n_estimators=30, subsample=0.75, seed=1337, objective=binary:logistic, max_depth=5 -  14.0s\n",
      "[CV] colsample_bytree=0.7, silent=1, learning_rate=0.04, nthread=3, min_child_weight=5, n_estimators=30, subsample=0.75, seed=1337, objective=binary:logistic, max_depth=5 \n",
      "[CV] colsample_bytree=0.7, silent=1, learning_rate=0.04, nthread=3, min_child_weight=5, n_estimators=50, subsample=0.75, seed=1337, objective=binary:logistic, max_depth=5 \n",
      "[CV]  colsample_bytree=0.7, silent=1, learning_rate=0.04, nthread=3, min_child_weight=5, n_estimators=30, subsample=0.75, seed=1337, objective=binary:logistic, max_depth=5 -  12.8s\n",
      "[CV] colsample_bytree=0.7, silent=1, learning_rate=0.04, nthread=3, min_child_weight=5, n_estimators=50, subsample=0.75, seed=1337, objective=binary:logistic, max_depth=5 \n",
      "[CV]  colsample_bytree=0.7, silent=1, learning_rate=0.04, nthread=3, min_child_weight=5, n_estimators=30, subsample=0.75, seed=1337, objective=binary:logistic, max_depth=5 -  12.7s\n",
      "[CV] colsample_bytree=0.7, silent=1, learning_rate=0.04, nthread=3, min_child_weight=5, n_estimators=50, subsample=0.75, seed=1337, objective=binary:logistic, max_depth=5 \n",
      "[CV]  colsample_bytree=0.7, silent=1, learning_rate=0.04, nthread=3, min_child_weight=5, n_estimators=50, subsample=0.75, seed=1337, objective=binary:logistic, max_depth=5 -  21.5s\n",
      "[CV] colsample_bytree=0.7, silent=1, learning_rate=0.04, nthread=3, min_child_weight=5, n_estimators=50, subsample=0.75, seed=1337, objective=binary:logistic, max_depth=5 \n",
      "[CV]  colsample_bytree=0.7, silent=1, learning_rate=0.04, nthread=3, min_child_weight=5, n_estimators=50, subsample=0.75, seed=1337, objective=binary:logistic, max_depth=5 -  19.8s\n",
      "[CV] colsample_bytree=0.7, silent=1, learning_rate=0.04, nthread=3, min_child_weight=5, n_estimators=80, subsample=0.75, seed=1337, objective=binary:logistic, max_depth=5 \n",
      "[CV]  colsample_bytree=0.7, silent=1, learning_rate=0.04, nthread=3, min_child_weight=5, n_estimators=50, subsample=0.75, seed=1337, objective=binary:logistic, max_depth=5 -  19.6s\n",
      "[CV] colsample_bytree=0.7, silent=1, learning_rate=0.04, nthread=3, min_child_weight=5, n_estimators=80, subsample=0.75, seed=1337, objective=binary:logistic, max_depth=5 \n",
      "[CV]  colsample_bytree=0.7, silent=1, learning_rate=0.04, nthread=3, min_child_weight=5, n_estimators=50, subsample=0.75, seed=1337, objective=binary:logistic, max_depth=5 -  20.1s\n",
      "[CV] colsample_bytree=0.7, silent=1, learning_rate=0.04, nthread=3, min_child_weight=5, n_estimators=80, subsample=0.75, seed=1337, objective=binary:logistic, max_depth=5 \n",
      "[CV]  colsample_bytree=0.7, silent=1, learning_rate=0.04, nthread=3, min_child_weight=5, n_estimators=80, subsample=0.75, seed=1337, objective=binary:logistic, max_depth=5 -  32.1s\n",
      "[CV] colsample_bytree=0.7, silent=1, learning_rate=0.04, nthread=3, min_child_weight=5, n_estimators=80, subsample=0.75, seed=1337, objective=binary:logistic, max_depth=5 \n",
      "[CV]  colsample_bytree=0.7, silent=1, learning_rate=0.04, nthread=3, min_child_weight=5, n_estimators=80, subsample=0.75, seed=1337, objective=binary:logistic, max_depth=5 -  31.8s\n",
      "[CV] colsample_bytree=0.7, silent=1, learning_rate=0.04, nthread=3, min_child_weight=1, n_estimators=30, subsample=0.75, seed=1337, objective=binary:logistic, max_depth=5 \n",
      "[CV]  colsample_bytree=0.7, silent=1, learning_rate=0.04, nthread=3, min_child_weight=5, n_estimators=80, subsample=0.75, seed=1337, objective=binary:logistic, max_depth=5 -  31.7s\n",
      "[CV] colsample_bytree=0.7, silent=1, learning_rate=0.04, nthread=3, min_child_weight=1, n_estimators=30, subsample=0.75, seed=1337, objective=binary:logistic, max_depth=5 \n",
      "[CV]  colsample_bytree=0.7, silent=1, learning_rate=0.04, nthread=3, min_child_weight=1, n_estimators=30, subsample=0.75, seed=1337, objective=binary:logistic, max_depth=5 -  13.1s\n",
      "[CV] colsample_bytree=0.7, silent=1, learning_rate=0.04, nthread=3, min_child_weight=1, n_estimators=30, subsample=0.75, seed=1337, objective=binary:logistic, max_depth=5 \n",
      "[CV]  colsample_bytree=0.7, silent=1, learning_rate=0.04, nthread=3, min_child_weight=1, n_estimators=30, subsample=0.75, seed=1337, objective=binary:logistic, max_depth=5 -  12.7s\n",
      "[CV] colsample_bytree=0.7, silent=1, learning_rate=0.04, nthread=3, min_child_weight=1, n_estimators=30, subsample=0.75, seed=1337, objective=binary:logistic, max_depth=5 \n",
      "[CV]  colsample_bytree=0.7, silent=1, learning_rate=0.04, nthread=3, min_child_weight=5, n_estimators=80, subsample=0.75, seed=1337, objective=binary:logistic, max_depth=5 -  30.3s\n",
      "[CV] colsample_bytree=0.7, silent=1, learning_rate=0.04, nthread=3, min_child_weight=1, n_estimators=50, subsample=0.75, seed=1337, objective=binary:logistic, max_depth=5 \n",
      "[CV]  colsample_bytree=0.7, silent=1, learning_rate=0.04, nthread=3, min_child_weight=1, n_estimators=30, subsample=0.75, seed=1337, objective=binary:logistic, max_depth=5 -  13.6s\n",
      "[CV] colsample_bytree=0.7, silent=1, learning_rate=0.04, nthread=3, min_child_weight=1, n_estimators=50, subsample=0.75, seed=1337, objective=binary:logistic, max_depth=5 \n",
      "[CV]  colsample_bytree=0.7, silent=1, learning_rate=0.04, nthread=3, min_child_weight=1, n_estimators=30, subsample=0.75, seed=1337, objective=binary:logistic, max_depth=5 -  13.8s\n",
      "[CV] colsample_bytree=0.7, silent=1, learning_rate=0.04, nthread=3, min_child_weight=1, n_estimators=50, subsample=0.75, seed=1337, objective=binary:logistic, max_depth=5 \n",
      "[CV]  colsample_bytree=0.7, silent=1, learning_rate=0.04, nthread=3, min_child_weight=1, n_estimators=50, subsample=0.75, seed=1337, objective=binary:logistic, max_depth=5 -  20.3s\n",
      "[CV] colsample_bytree=0.7, silent=1, learning_rate=0.04, nthread=3, min_child_weight=1, n_estimators=50, subsample=0.75, seed=1337, objective=binary:logistic, max_depth=5 \n",
      "[CV]  colsample_bytree=0.7, silent=1, learning_rate=0.04, nthread=3, min_child_weight=1, n_estimators=50, subsample=0.75, seed=1337, objective=binary:logistic, max_depth=5 -  21.0s\n",
      "[CV] colsample_bytree=0.7, silent=1, learning_rate=0.04, nthread=3, min_child_weight=1, n_estimators=80, subsample=0.75, seed=1337, objective=binary:logistic, max_depth=5 \n",
      "[CV]  colsample_bytree=0.7, silent=1, learning_rate=0.04, nthread=3, min_child_weight=1, n_estimators=50, subsample=0.75, seed=1337, objective=binary:logistic, max_depth=5 -  20.5s\n",
      "[CV] colsample_bytree=0.7, silent=1, learning_rate=0.04, nthread=3, min_child_weight=1, n_estimators=80, subsample=0.75, seed=1337, objective=binary:logistic, max_depth=5 \n",
      "[CV]  colsample_bytree=0.7, silent=1, learning_rate=0.04, nthread=3, min_child_weight=1, n_estimators=50, subsample=0.75, seed=1337, objective=binary:logistic, max_depth=5 -  20.2s\n",
      "[CV] colsample_bytree=0.7, silent=1, learning_rate=0.04, nthread=3, min_child_weight=1, n_estimators=80, subsample=0.75, seed=1337, objective=binary:logistic, max_depth=5 \n",
      "[CV]  colsample_bytree=0.7, silent=1, learning_rate=0.04, nthread=3, min_child_weight=1, n_estimators=80, subsample=0.75, seed=1337, objective=binary:logistic, max_depth=5 -  30.3s\n",
      "[CV] colsample_bytree=0.7, silent=1, learning_rate=0.04, nthread=3, min_child_weight=1, n_estimators=80, subsample=0.75, seed=1337, objective=binary:logistic, max_depth=5 \n",
      "[CV]  colsample_bytree=0.7, silent=1, learning_rate=0.04, nthread=3, min_child_weight=1, n_estimators=80, subsample=0.75, seed=1337, objective=binary:logistic, max_depth=5 -  32.2s\n",
      "[CV] colsample_bytree=0.7, silent=1, learning_rate=0.04, nthread=3, min_child_weight=11, n_estimators=30, subsample=0.75, seed=1337, objective=binary:logistic, max_depth=15 \n",
      "[CV]  colsample_bytree=0.7, silent=1, learning_rate=0.04, nthread=3, min_child_weight=1, n_estimators=80, subsample=0.75, seed=1337, objective=binary:logistic, max_depth=5 -  33.7s\n",
      "[CV] colsample_bytree=0.7, silent=1, learning_rate=0.04, nthread=3, min_child_weight=11, n_estimators=30, subsample=0.75, seed=1337, objective=binary:logistic, max_depth=15 \n",
      "[CV]  colsample_bytree=0.7, silent=1, learning_rate=0.04, nthread=3, min_child_weight=1, n_estimators=80, subsample=0.75, seed=1337, objective=binary:logistic, max_depth=5 -  32.4s\n",
      "[CV] colsample_bytree=0.7, silent=1, learning_rate=0.04, nthread=3, min_child_weight=11, n_estimators=30, subsample=0.75, seed=1337, objective=binary:logistic, max_depth=15 \n",
      "[CV]  colsample_bytree=0.7, silent=1, learning_rate=0.04, nthread=3, min_child_weight=11, n_estimators=30, subsample=0.75, seed=1337, objective=binary:logistic, max_depth=15 -  22.5s\n",
      "[CV] colsample_bytree=0.7, silent=1, learning_rate=0.04, nthread=3, min_child_weight=11, n_estimators=30, subsample=0.75, seed=1337, objective=binary:logistic, max_depth=15 \n",
      "[CV]  colsample_bytree=0.7, silent=1, learning_rate=0.04, nthread=3, min_child_weight=11, n_estimators=30, subsample=0.75, seed=1337, objective=binary:logistic, max_depth=15 -  20.7s\n",
      "[CV] colsample_bytree=0.7, silent=1, learning_rate=0.04, nthread=3, min_child_weight=11, n_estimators=50, subsample=0.75, seed=1337, objective=binary:logistic, max_depth=15 \n",
      "[CV]  colsample_bytree=0.7, silent=1, learning_rate=0.04, nthread=3, min_child_weight=11, n_estimators=30, subsample=0.75, seed=1337, objective=binary:logistic, max_depth=15 -  23.1s\n",
      "[CV]  colsample_bytree=0.7, silent=1, learning_rate=0.04, nthread=3, min_child_weight=11, n_estimators=30, subsample=0.75, seed=1337, objective=binary:logistic, max_depth=15 -  25.2s\n",
      "[CV] colsample_bytree=0.7, silent=1, learning_rate=0.04, nthread=3, min_child_weight=11, n_estimators=50, subsample=0.75, seed=1337, objective=binary:logistic, max_depth=15 \n",
      "[CV] colsample_bytree=0.7, silent=1, learning_rate=0.04, nthread=3, min_child_weight=11, n_estimators=50, subsample=0.75, seed=1337, objective=binary:logistic, max_depth=15 \n",
      "[CV]  colsample_bytree=0.7, silent=1, learning_rate=0.04, nthread=3, min_child_weight=11, n_estimators=50, subsample=0.75, seed=1337, objective=binary:logistic, max_depth=15 -  43.2s\n",
      "[CV] colsample_bytree=0.7, silent=1, learning_rate=0.04, nthread=3, min_child_weight=11, n_estimators=50, subsample=0.75, seed=1337, objective=binary:logistic, max_depth=15 \n",
      "[CV]  colsample_bytree=0.7, silent=1, learning_rate=0.04, nthread=3, min_child_weight=11, n_estimators=50, subsample=0.75, seed=1337, objective=binary:logistic, max_depth=15 -  42.1s\n",
      "[CV] colsample_bytree=0.7, silent=1, learning_rate=0.04, nthread=3, min_child_weight=11, n_estimators=80, subsample=0.75, seed=1337, objective=binary:logistic, max_depth=15 \n",
      "[CV]  colsample_bytree=0.7, silent=1, learning_rate=0.04, nthread=3, min_child_weight=11, n_estimators=50, subsample=0.75, seed=1337, objective=binary:logistic, max_depth=15 -  43.5s\n",
      "[CV] colsample_bytree=0.7, silent=1, learning_rate=0.04, nthread=3, min_child_weight=11, n_estimators=80, subsample=0.75, seed=1337, objective=binary:logistic, max_depth=15 \n",
      "[CV]  colsample_bytree=0.7, silent=1, learning_rate=0.04, nthread=3, min_child_weight=11, n_estimators=50, subsample=0.75, seed=1337, objective=binary:logistic, max_depth=15 -  43.6s\n",
      "[CV] colsample_bytree=0.7, silent=1, learning_rate=0.04, nthread=3, min_child_weight=11, n_estimators=80, subsample=0.75, seed=1337, objective=binary:logistic, max_depth=15 \n",
      "[CV]  colsample_bytree=0.7, silent=1, learning_rate=0.04, nthread=3, min_child_weight=11, n_estimators=80, subsample=0.75, seed=1337, objective=binary:logistic, max_depth=15 - 1.2min\n",
      "[CV] colsample_bytree=0.7, silent=1, learning_rate=0.04, nthread=3, min_child_weight=11, n_estimators=80, subsample=0.75, seed=1337, objective=binary:logistic, max_depth=15 \n",
      "[CV]  colsample_bytree=0.7, silent=1, learning_rate=0.04, nthread=3, min_child_weight=11, n_estimators=80, subsample=0.75, seed=1337, objective=binary:logistic, max_depth=15 - 1.3min\n",
      "[CV] colsample_bytree=0.7, silent=1, learning_rate=0.04, nthread=3, min_child_weight=5, n_estimators=30, subsample=0.75, seed=1337, objective=binary:logistic, max_depth=15 \n",
      "[CV]  colsample_bytree=0.7, silent=1, learning_rate=0.04, nthread=3, min_child_weight=11, n_estimators=80, subsample=0.75, seed=1337, objective=binary:logistic, max_depth=15 - 1.2min\n",
      "[CV] colsample_bytree=0.7, silent=1, learning_rate=0.04, nthread=3, min_child_weight=5, n_estimators=30, subsample=0.75, seed=1337, objective=binary:logistic, max_depth=15 \n",
      "[CV]  colsample_bytree=0.7, silent=1, learning_rate=0.04, nthread=3, min_child_weight=5, n_estimators=30, subsample=0.75, seed=1337, objective=binary:logistic, max_depth=15 -  28.5s\n",
      "[CV] colsample_bytree=0.7, silent=1, learning_rate=0.04, nthread=3, min_child_weight=5, n_estimators=30, subsample=0.75, seed=1337, objective=binary:logistic, max_depth=15 \n",
      "[CV]  colsample_bytree=0.7, silent=1, learning_rate=0.04, nthread=3, min_child_weight=5, n_estimators=30, subsample=0.75, seed=1337, objective=binary:logistic, max_depth=15 -  24.6s\n",
      "[CV] colsample_bytree=0.7, silent=1, learning_rate=0.04, nthread=3, min_child_weight=5, n_estimators=30, subsample=0.75, seed=1337, objective=binary:logistic, max_depth=15 \n",
      "[CV]  colsample_bytree=0.7, silent=1, learning_rate=0.04, nthread=3, min_child_weight=5, n_estimators=30, subsample=0.75, seed=1337, objective=binary:logistic, max_depth=15 -  27.1s\n",
      "[CV] colsample_bytree=0.7, silent=1, learning_rate=0.04, nthread=3, min_child_weight=5, n_estimators=50, subsample=0.75, seed=1337, objective=binary:logistic, max_depth=15 \n",
      "[CV]  colsample_bytree=0.7, silent=1, learning_rate=0.04, nthread=3, min_child_weight=11, n_estimators=80, subsample=0.75, seed=1337, objective=binary:logistic, max_depth=15 - 1.2min\n",
      "[CV] colsample_bytree=0.7, silent=1, learning_rate=0.04, nthread=3, min_child_weight=5, n_estimators=50, subsample=0.75, seed=1337, objective=binary:logistic, max_depth=15 \n",
      "[CV]  colsample_bytree=0.7, silent=1, learning_rate=0.04, nthread=3, min_child_weight=5, n_estimators=30, subsample=0.75, seed=1337, objective=binary:logistic, max_depth=15 -  27.8s\n",
      "[CV] colsample_bytree=0.7, silent=1, learning_rate=0.04, nthread=3, min_child_weight=5, n_estimators=50, subsample=0.75, seed=1337, objective=binary:logistic, max_depth=15 \n",
      "[CV]  colsample_bytree=0.7, silent=1, learning_rate=0.04, nthread=3, min_child_weight=5, n_estimators=50, subsample=0.75, seed=1337, objective=binary:logistic, max_depth=15 -  45.2s\n",
      "[CV] colsample_bytree=0.7, silent=1, learning_rate=0.04, nthread=3, min_child_weight=5, n_estimators=50, subsample=0.75, seed=1337, objective=binary:logistic, max_depth=15 \n",
      "[CV]  colsample_bytree=0.7, silent=1, learning_rate=0.04, nthread=3, min_child_weight=5, n_estimators=50, subsample=0.75, seed=1337, objective=binary:logistic, max_depth=15 -  44.8s\n",
      "[CV] colsample_bytree=0.7, silent=1, learning_rate=0.04, nthread=3, min_child_weight=5, n_estimators=80, subsample=0.75, seed=1337, objective=binary:logistic, max_depth=15 \n",
      "[CV]  colsample_bytree=0.7, silent=1, learning_rate=0.04, nthread=3, min_child_weight=5, n_estimators=50, subsample=0.75, seed=1337, objective=binary:logistic, max_depth=15 -  47.1s\n",
      "[CV] colsample_bytree=0.7, silent=1, learning_rate=0.04, nthread=3, min_child_weight=5, n_estimators=80, subsample=0.75, seed=1337, objective=binary:logistic, max_depth=15 \n",
      "[CV]  colsample_bytree=0.7, silent=1, learning_rate=0.04, nthread=3, min_child_weight=5, n_estimators=50, subsample=0.75, seed=1337, objective=binary:logistic, max_depth=15 -  49.6s\n",
      "[CV] colsample_bytree=0.7, silent=1, learning_rate=0.04, nthread=3, min_child_weight=5, n_estimators=80, subsample=0.75, seed=1337, objective=binary:logistic, max_depth=15 \n",
      "[CV]  colsample_bytree=0.7, silent=1, learning_rate=0.04, nthread=3, min_child_weight=5, n_estimators=80, subsample=0.75, seed=1337, objective=binary:logistic, max_depth=15 - 1.3min\n",
      "[CV] colsample_bytree=0.7, silent=1, learning_rate=0.04, nthread=3, min_child_weight=5, n_estimators=80, subsample=0.75, seed=1337, objective=binary:logistic, max_depth=15 \n",
      "[CV]  colsample_bytree=0.7, silent=1, learning_rate=0.04, nthread=3, min_child_weight=5, n_estimators=80, subsample=0.75, seed=1337, objective=binary:logistic, max_depth=15 - 1.3min\n",
      "[CV] colsample_bytree=0.7, silent=1, learning_rate=0.04, nthread=3, min_child_weight=1, n_estimators=30, subsample=0.75, seed=1337, objective=binary:logistic, max_depth=15 \n",
      "[CV]  colsample_bytree=0.7, silent=1, learning_rate=0.04, nthread=3, min_child_weight=5, n_estimators=80, subsample=0.75, seed=1337, objective=binary:logistic, max_depth=15 - 1.3min\n",
      "[CV] colsample_bytree=0.7, silent=1, learning_rate=0.04, nthread=3, min_child_weight=1, n_estimators=30, subsample=0.75, seed=1337, objective=binary:logistic, max_depth=15 \n",
      "[CV]  colsample_bytree=0.7, silent=1, learning_rate=0.04, nthread=3, min_child_weight=1, n_estimators=30, subsample=0.75, seed=1337, objective=binary:logistic, max_depth=15 -  28.9s\n",
      "[CV] colsample_bytree=0.7, silent=1, learning_rate=0.04, nthread=3, min_child_weight=1, n_estimators=30, subsample=0.75, seed=1337, objective=binary:logistic, max_depth=15 \n",
      "[CV]  colsample_bytree=0.7, silent=1, learning_rate=0.04, nthread=3, min_child_weight=1, n_estimators=30, subsample=0.75, seed=1337, objective=binary:logistic, max_depth=15 -  29.2s\n",
      "[CV] colsample_bytree=0.7, silent=1, learning_rate=0.04, nthread=3, min_child_weight=1, n_estimators=30, subsample=0.75, seed=1337, objective=binary:logistic, max_depth=15 \n",
      "[CV]  colsample_bytree=0.7, silent=1, learning_rate=0.04, nthread=3, min_child_weight=1, n_estimators=30, subsample=0.75, seed=1337, objective=binary:logistic, max_depth=15 -  28.8s\n",
      "[CV] colsample_bytree=0.7, silent=1, learning_rate=0.04, nthread=3, min_child_weight=1, n_estimators=50, subsample=0.75, seed=1337, objective=binary:logistic, max_depth=15 \n",
      "[CV]  colsample_bytree=0.7, silent=1, learning_rate=0.04, nthread=3, min_child_weight=5, n_estimators=80, subsample=0.75, seed=1337, objective=binary:logistic, max_depth=15 - 1.3min\n",
      "[CV] colsample_bytree=0.7, silent=1, learning_rate=0.04, nthread=3, min_child_weight=1, n_estimators=50, subsample=0.75, seed=1337, objective=binary:logistic, max_depth=15 \n",
      "[CV]  colsample_bytree=0.7, silent=1, learning_rate=0.04, nthread=3, min_child_weight=1, n_estimators=30, subsample=0.75, seed=1337, objective=binary:logistic, max_depth=15 -  30.5s\n",
      "[CV] colsample_bytree=0.7, silent=1, learning_rate=0.04, nthread=3, min_child_weight=1, n_estimators=50, subsample=0.75, seed=1337, objective=binary:logistic, max_depth=15 \n",
      "[CV]  colsample_bytree=0.7, silent=1, learning_rate=0.04, nthread=3, min_child_weight=1, n_estimators=50, subsample=0.75, seed=1337, objective=binary:logistic, max_depth=15 -  48.8s\n",
      "[CV] colsample_bytree=0.7, silent=1, learning_rate=0.04, nthread=3, min_child_weight=1, n_estimators=50, subsample=0.75, seed=1337, objective=binary:logistic, max_depth=15 \n",
      "[CV]  colsample_bytree=0.7, silent=1, learning_rate=0.04, nthread=3, min_child_weight=1, n_estimators=50, subsample=0.75, seed=1337, objective=binary:logistic, max_depth=15 -  52.0s\n",
      "[CV] colsample_bytree=0.7, silent=1, learning_rate=0.04, nthread=3, min_child_weight=1, n_estimators=80, subsample=0.75, seed=1337, objective=binary:logistic, max_depth=15 \n",
      "[CV]  colsample_bytree=0.7, silent=1, learning_rate=0.04, nthread=3, min_child_weight=1, n_estimators=50, subsample=0.75, seed=1337, objective=binary:logistic, max_depth=15 -  52.6s\n",
      "[CV] colsample_bytree=0.7, silent=1, learning_rate=0.04, nthread=3, min_child_weight=1, n_estimators=80, subsample=0.75, seed=1337, objective=binary:logistic, max_depth=15 \n",
      "[CV]  colsample_bytree=0.7, silent=1, learning_rate=0.04, nthread=3, min_child_weight=1, n_estimators=50, subsample=0.75, seed=1337, objective=binary:logistic, max_depth=15 -  49.3s\n",
      "[CV] colsample_bytree=0.7, silent=1, learning_rate=0.04, nthread=3, min_child_weight=1, n_estimators=80, subsample=0.75, seed=1337, objective=binary:logistic, max_depth=15 \n",
      "[CV]  colsample_bytree=0.7, silent=1, learning_rate=0.04, nthread=3, min_child_weight=1, n_estimators=80, subsample=0.75, seed=1337, objective=binary:logistic, max_depth=15 - 1.4min\n",
      "[CV] colsample_bytree=0.7, silent=1, learning_rate=0.04, nthread=3, min_child_weight=1, n_estimators=80, subsample=0.75, seed=1337, objective=binary:logistic, max_depth=15 \n",
      "[CV]  colsample_bytree=0.7, silent=1, learning_rate=0.04, nthread=3, min_child_weight=1, n_estimators=80, subsample=0.75, seed=1337, objective=binary:logistic, max_depth=15 - 1.5min\n",
      "[CV] colsample_bytree=0.7, silent=1, learning_rate=0.01, nthread=3, min_child_weight=11, n_estimators=30, subsample=0.75, seed=1337, objective=binary:logistic, max_depth=10 \n",
      "[CV]  colsample_bytree=0.7, silent=1, learning_rate=0.04, nthread=3, min_child_weight=1, n_estimators=80, subsample=0.75, seed=1337, objective=binary:logistic, max_depth=15 - 1.4min\n",
      "[CV] colsample_bytree=0.7, silent=1, learning_rate=0.01, nthread=3, min_child_weight=11, n_estimators=30, subsample=0.75, seed=1337, objective=binary:logistic, max_depth=10 \n",
      "[CV]  colsample_bytree=0.7, silent=1, learning_rate=0.01, nthread=3, min_child_weight=11, n_estimators=30, subsample=0.75, seed=1337, objective=binary:logistic, max_depth=10 -  18.5s\n",
      "[CV] colsample_bytree=0.7, silent=1, learning_rate=0.01, nthread=3, min_child_weight=11, n_estimators=30, subsample=0.75, seed=1337, objective=binary:logistic, max_depth=10 \n",
      "[CV]  colsample_bytree=0.7, silent=1, learning_rate=0.01, nthread=3, min_child_weight=11, n_estimators=30, subsample=0.75, seed=1337, objective=binary:logistic, max_depth=10 -  16.8s\n",
      "[CV] colsample_bytree=0.7, silent=1, learning_rate=0.01, nthread=3, min_child_weight=11, n_estimators=30, subsample=0.75, seed=1337, objective=binary:logistic, max_depth=10 \n",
      "[CV]  colsample_bytree=0.7, silent=1, learning_rate=0.01, nthread=3, min_child_weight=11, n_estimators=30, subsample=0.75, seed=1337, objective=binary:logistic, max_depth=10 -  18.7s\n",
      "[CV] colsample_bytree=0.7, silent=1, learning_rate=0.01, nthread=3, min_child_weight=11, n_estimators=50, subsample=0.75, seed=1337, objective=binary:logistic, max_depth=10 \n",
      "[CV]  colsample_bytree=0.7, silent=1, learning_rate=0.01, nthread=3, min_child_weight=11, n_estimators=30, subsample=0.75, seed=1337, objective=binary:logistic, max_depth=10 -  18.5s\n",
      "[CV] colsample_bytree=0.7, silent=1, learning_rate=0.01, nthread=3, min_child_weight=11, n_estimators=50, subsample=0.75, seed=1337, objective=binary:logistic, max_depth=10 \n",
      "[CV]  colsample_bytree=0.7, silent=1, learning_rate=0.01, nthread=3, min_child_weight=11, n_estimators=50, subsample=0.75, seed=1337, objective=binary:logistic, max_depth=10 -  28.1s\n",
      "[CV] colsample_bytree=0.7, silent=1, learning_rate=0.01, nthread=3, min_child_weight=11, n_estimators=50, subsample=0.75, seed=1337, objective=binary:logistic, max_depth=10 \n",
      "[CV]  colsample_bytree=0.7, silent=1, learning_rate=0.04, nthread=3, min_child_weight=1, n_estimators=80, subsample=0.75, seed=1337, objective=binary:logistic, max_depth=15 - 1.4min\n",
      "[CV] colsample_bytree=0.7, silent=1, learning_rate=0.01, nthread=3, min_child_weight=11, n_estimators=50, subsample=0.75, seed=1337, objective=binary:logistic, max_depth=10 \n",
      "[CV]  colsample_bytree=0.7, silent=1, learning_rate=0.01, nthread=3, min_child_weight=11, n_estimators=50, subsample=0.75, seed=1337, objective=binary:logistic, max_depth=10 -  29.6s\n",
      "[CV] colsample_bytree=0.7, silent=1, learning_rate=0.01, nthread=3, min_child_weight=11, n_estimators=80, subsample=0.75, seed=1337, objective=binary:logistic, max_depth=10 \n",
      "[CV]  colsample_bytree=0.7, silent=1, learning_rate=0.01, nthread=3, min_child_weight=11, n_estimators=50, subsample=0.75, seed=1337, objective=binary:logistic, max_depth=10 -  28.2s\n",
      "[CV] colsample_bytree=0.7, silent=1, learning_rate=0.01, nthread=3, min_child_weight=11, n_estimators=80, subsample=0.75, seed=1337, objective=binary:logistic, max_depth=10 \n",
      "[CV]  colsample_bytree=0.7, silent=1, learning_rate=0.01, nthread=3, min_child_weight=11, n_estimators=50, subsample=0.75, seed=1337, objective=binary:logistic, max_depth=10 -  28.1s\n",
      "[CV] colsample_bytree=0.7, silent=1, learning_rate=0.01, nthread=3, min_child_weight=11, n_estimators=80, subsample=0.75, seed=1337, objective=binary:logistic, max_depth=10 \n",
      "[CV]  colsample_bytree=0.7, silent=1, learning_rate=0.01, nthread=3, min_child_weight=11, n_estimators=80, subsample=0.75, seed=1337, objective=binary:logistic, max_depth=10 -  48.2s\n",
      "[CV] colsample_bytree=0.7, silent=1, learning_rate=0.01, nthread=3, min_child_weight=11, n_estimators=80, subsample=0.75, seed=1337, objective=binary:logistic, max_depth=10 \n",
      "[CV]  colsample_bytree=0.7, silent=1, learning_rate=0.01, nthread=3, min_child_weight=11, n_estimators=80, subsample=0.75, seed=1337, objective=binary:logistic, max_depth=10 -  47.1s\n",
      "[CV] colsample_bytree=0.7, silent=1, learning_rate=0.01, nthread=3, min_child_weight=5, n_estimators=30, subsample=0.75, seed=1337, objective=binary:logistic, max_depth=10 \n",
      "[CV]  colsample_bytree=0.7, silent=1, learning_rate=0.01, nthread=3, min_child_weight=11, n_estimators=80, subsample=0.75, seed=1337, objective=binary:logistic, max_depth=10 -  49.3s\n",
      "[CV] colsample_bytree=0.7, silent=1, learning_rate=0.01, nthread=3, min_child_weight=5, n_estimators=30, subsample=0.75, seed=1337, objective=binary:logistic, max_depth=10 \n",
      "[CV]  colsample_bytree=0.7, silent=1, learning_rate=0.01, nthread=3, min_child_weight=5, n_estimators=30, subsample=0.75, seed=1337, objective=binary:logistic, max_depth=10 -  17.3s\n",
      "[CV] colsample_bytree=0.7, silent=1, learning_rate=0.01, nthread=3, min_child_weight=5, n_estimators=30, subsample=0.75, seed=1337, objective=binary:logistic, max_depth=10 \n",
      "[CV]  colsample_bytree=0.7, silent=1, learning_rate=0.01, nthread=3, min_child_weight=5, n_estimators=30, subsample=0.75, seed=1337, objective=binary:logistic, max_depth=10 -  20.6s\n",
      "[CV] colsample_bytree=0.7, silent=1, learning_rate=0.01, nthread=3, min_child_weight=5, n_estimators=30, subsample=0.75, seed=1337, objective=binary:logistic, max_depth=10 \n",
      "[CV]  colsample_bytree=0.7, silent=1, learning_rate=0.01, nthread=3, min_child_weight=11, n_estimators=80, subsample=0.75, seed=1337, objective=binary:logistic, max_depth=10 -  47.0s\n",
      "[CV] colsample_bytree=0.7, silent=1, learning_rate=0.01, nthread=3, min_child_weight=5, n_estimators=50, subsample=0.75, seed=1337, objective=binary:logistic, max_depth=10 \n",
      "[CV]  colsample_bytree=0.7, silent=1, learning_rate=0.01, nthread=3, min_child_weight=5, n_estimators=30, subsample=0.75, seed=1337, objective=binary:logistic, max_depth=10 -  17.5s\n",
      "[CV] colsample_bytree=0.7, silent=1, learning_rate=0.01, nthread=3, min_child_weight=5, n_estimators=50, subsample=0.75, seed=1337, objective=binary:logistic, max_depth=10 \n",
      "[CV]  colsample_bytree=0.7, silent=1, learning_rate=0.01, nthread=3, min_child_weight=5, n_estimators=30, subsample=0.75, seed=1337, objective=binary:logistic, max_depth=10 -  19.4s\n",
      "[CV] colsample_bytree=0.7, silent=1, learning_rate=0.01, nthread=3, min_child_weight=5, n_estimators=50, subsample=0.75, seed=1337, objective=binary:logistic, max_depth=10 \n",
      "[CV]  colsample_bytree=0.7, silent=1, learning_rate=0.01, nthread=3, min_child_weight=5, n_estimators=50, subsample=0.75, seed=1337, objective=binary:logistic, max_depth=10 -  28.2s\n",
      "[CV] colsample_bytree=0.7, silent=1, learning_rate=0.01, nthread=3, min_child_weight=5, n_estimators=50, subsample=0.75, seed=1337, objective=binary:logistic, max_depth=10 \n",
      "[CV]  colsample_bytree=0.7, silent=1, learning_rate=0.01, nthread=3, min_child_weight=5, n_estimators=50, subsample=0.75, seed=1337, objective=binary:logistic, max_depth=10 -  30.0s\n",
      "[CV] colsample_bytree=0.7, silent=1, learning_rate=0.01, nthread=3, min_child_weight=5, n_estimators=80, subsample=0.75, seed=1337, objective=binary:logistic, max_depth=10 \n",
      "[CV]  colsample_bytree=0.7, silent=1, learning_rate=0.01, nthread=3, min_child_weight=5, n_estimators=50, subsample=0.75, seed=1337, objective=binary:logistic, max_depth=10 -  33.3s\n",
      "[CV] colsample_bytree=0.7, silent=1, learning_rate=0.01, nthread=3, min_child_weight=5, n_estimators=80, subsample=0.75, seed=1337, objective=binary:logistic, max_depth=10 \n",
      "[CV]  colsample_bytree=0.7, silent=1, learning_rate=0.01, nthread=3, min_child_weight=5, n_estimators=50, subsample=0.75, seed=1337, objective=binary:logistic, max_depth=10 -  31.0s\n",
      "[CV] colsample_bytree=0.7, silent=1, learning_rate=0.01, nthread=3, min_child_weight=5, n_estimators=80, subsample=0.75, seed=1337, objective=binary:logistic, max_depth=10 \n",
      "[CV]  colsample_bytree=0.7, silent=1, learning_rate=0.01, nthread=3, min_child_weight=5, n_estimators=80, subsample=0.75, seed=1337, objective=binary:logistic, max_depth=10 -  50.0s\n",
      "[CV] colsample_bytree=0.7, silent=1, learning_rate=0.01, nthread=3, min_child_weight=5, n_estimators=80, subsample=0.75, seed=1337, objective=binary:logistic, max_depth=10 \n",
      "[CV]  colsample_bytree=0.7, silent=1, learning_rate=0.01, nthread=3, min_child_weight=5, n_estimators=80, subsample=0.75, seed=1337, objective=binary:logistic, max_depth=10 -  50.6s\n",
      "[CV] colsample_bytree=0.7, silent=1, learning_rate=0.01, nthread=3, min_child_weight=1, n_estimators=30, subsample=0.75, seed=1337, objective=binary:logistic, max_depth=10 \n",
      "[CV]  colsample_bytree=0.7, silent=1, learning_rate=0.01, nthread=3, min_child_weight=5, n_estimators=80, subsample=0.75, seed=1337, objective=binary:logistic, max_depth=10 -  52.0s\n",
      "[CV] colsample_bytree=0.7, silent=1, learning_rate=0.01, nthread=3, min_child_weight=1, n_estimators=30, subsample=0.75, seed=1337, objective=binary:logistic, max_depth=10 \n",
      "[CV]  colsample_bytree=0.7, silent=1, learning_rate=0.01, nthread=3, min_child_weight=1, n_estimators=30, subsample=0.75, seed=1337, objective=binary:logistic, max_depth=10 -  19.1s\n",
      "[CV] colsample_bytree=0.7, silent=1, learning_rate=0.01, nthread=3, min_child_weight=1, n_estimators=30, subsample=0.75, seed=1337, objective=binary:logistic, max_depth=10 \n",
      "[CV]  colsample_bytree=0.7, silent=1, learning_rate=0.01, nthread=3, min_child_weight=1, n_estimators=30, subsample=0.75, seed=1337, objective=binary:logistic, max_depth=10 -  18.8s\n",
      "[CV] colsample_bytree=0.7, silent=1, learning_rate=0.01, nthread=3, min_child_weight=1, n_estimators=30, subsample=0.75, seed=1337, objective=binary:logistic, max_depth=10 \n",
      "[CV]  colsample_bytree=0.7, silent=1, learning_rate=0.01, nthread=3, min_child_weight=5, n_estimators=80, subsample=0.75, seed=1337, objective=binary:logistic, max_depth=10 -  50.2s\n",
      "[CV] colsample_bytree=0.7, silent=1, learning_rate=0.01, nthread=3, min_child_weight=1, n_estimators=50, subsample=0.75, seed=1337, objective=binary:logistic, max_depth=10 \n",
      "[CV]  colsample_bytree=0.7, silent=1, learning_rate=0.01, nthread=3, min_child_weight=1, n_estimators=30, subsample=0.75, seed=1337, objective=binary:logistic, max_depth=10 -  19.7s\n",
      "[CV] colsample_bytree=0.7, silent=1, learning_rate=0.01, nthread=3, min_child_weight=1, n_estimators=50, subsample=0.75, seed=1337, objective=binary:logistic, max_depth=10 \n",
      "[CV]  colsample_bytree=0.7, silent=1, learning_rate=0.01, nthread=3, min_child_weight=1, n_estimators=30, subsample=0.75, seed=1337, objective=binary:logistic, max_depth=10 -  18.9s\n",
      "[CV] colsample_bytree=0.7, silent=1, learning_rate=0.01, nthread=3, min_child_weight=1, n_estimators=50, subsample=0.75, seed=1337, objective=binary:logistic, max_depth=10 \n",
      "[CV]  colsample_bytree=0.7, silent=1, learning_rate=0.01, nthread=3, min_child_weight=1, n_estimators=50, subsample=0.75, seed=1337, objective=binary:logistic, max_depth=10 -  31.7s\n",
      "[CV] colsample_bytree=0.7, silent=1, learning_rate=0.01, nthread=3, min_child_weight=1, n_estimators=50, subsample=0.75, seed=1337, objective=binary:logistic, max_depth=10 \n",
      "[CV]  colsample_bytree=0.7, silent=1, learning_rate=0.01, nthread=3, min_child_weight=1, n_estimators=50, subsample=0.75, seed=1337, objective=binary:logistic, max_depth=10 -  31.8s\n",
      "[CV] colsample_bytree=0.7, silent=1, learning_rate=0.01, nthread=3, min_child_weight=1, n_estimators=80, subsample=0.75, seed=1337, objective=binary:logistic, max_depth=10 \n",
      "[CV]  colsample_bytree=0.7, silent=1, learning_rate=0.01, nthread=3, min_child_weight=1, n_estimators=50, subsample=0.75, seed=1337, objective=binary:logistic, max_depth=10 -  33.3s\n",
      "[CV] colsample_bytree=0.7, silent=1, learning_rate=0.01, nthread=3, min_child_weight=1, n_estimators=80, subsample=0.75, seed=1337, objective=binary:logistic, max_depth=10 \n",
      "[CV]  colsample_bytree=0.7, silent=1, learning_rate=0.01, nthread=3, min_child_weight=1, n_estimators=50, subsample=0.75, seed=1337, objective=binary:logistic, max_depth=10 -  32.9s\n",
      "[CV] colsample_bytree=0.7, silent=1, learning_rate=0.01, nthread=3, min_child_weight=1, n_estimators=80, subsample=0.75, seed=1337, objective=binary:logistic, max_depth=10 \n",
      "[CV]  colsample_bytree=0.7, silent=1, learning_rate=0.01, nthread=3, min_child_weight=1, n_estimators=80, subsample=0.75, seed=1337, objective=binary:logistic, max_depth=10 -  51.8s\n",
      "[CV] colsample_bytree=0.7, silent=1, learning_rate=0.01, nthread=3, min_child_weight=1, n_estimators=80, subsample=0.75, seed=1337, objective=binary:logistic, max_depth=10 \n",
      "[CV]  colsample_bytree=0.7, silent=1, learning_rate=0.01, nthread=3, min_child_weight=1, n_estimators=80, subsample=0.75, seed=1337, objective=binary:logistic, max_depth=10 -  56.4s\n",
      "[CV] colsample_bytree=0.7, silent=1, learning_rate=0.01, nthread=3, min_child_weight=11, n_estimators=30, subsample=0.75, seed=1337, objective=binary:logistic, max_depth=5 \n",
      "[CV]  colsample_bytree=0.7, silent=1, learning_rate=0.01, nthread=3, min_child_weight=1, n_estimators=80, subsample=0.75, seed=1337, objective=binary:logistic, max_depth=10 -  53.7s\n",
      "[CV] colsample_bytree=0.7, silent=1, learning_rate=0.01, nthread=3, min_child_weight=11, n_estimators=30, subsample=0.75, seed=1337, objective=binary:logistic, max_depth=5 \n",
      "[CV]  colsample_bytree=0.7, silent=1, learning_rate=0.01, nthread=3, min_child_weight=11, n_estimators=30, subsample=0.75, seed=1337, objective=binary:logistic, max_depth=5 -  12.1s\n",
      "[CV] colsample_bytree=0.7, silent=1, learning_rate=0.01, nthread=3, min_child_weight=11, n_estimators=30, subsample=0.75, seed=1337, objective=binary:logistic, max_depth=5 \n",
      "[CV]  colsample_bytree=0.7, silent=1, learning_rate=0.01, nthread=3, min_child_weight=11, n_estimators=30, subsample=0.75, seed=1337, objective=binary:logistic, max_depth=5 -  12.3s\n",
      "[CV] colsample_bytree=0.7, silent=1, learning_rate=0.01, nthread=3, min_child_weight=11, n_estimators=30, subsample=0.75, seed=1337, objective=binary:logistic, max_depth=5 \n",
      "[CV]  colsample_bytree=0.7, silent=1, learning_rate=0.01, nthread=3, min_child_weight=11, n_estimators=30, subsample=0.75, seed=1337, objective=binary:logistic, max_depth=5 -  12.2s\n",
      "[CV] colsample_bytree=0.7, silent=1, learning_rate=0.01, nthread=3, min_child_weight=11, n_estimators=50, subsample=0.75, seed=1337, objective=binary:logistic, max_depth=5 \n",
      "[CV]  colsample_bytree=0.7, silent=1, learning_rate=0.01, nthread=3, min_child_weight=1, n_estimators=80, subsample=0.75, seed=1337, objective=binary:logistic, max_depth=10 -  53.8s\n",
      "[CV] colsample_bytree=0.7, silent=1, learning_rate=0.01, nthread=3, min_child_weight=11, n_estimators=50, subsample=0.75, seed=1337, objective=binary:logistic, max_depth=5 \n",
      "[CV]  colsample_bytree=0.7, silent=1, learning_rate=0.01, nthread=3, min_child_weight=11, n_estimators=30, subsample=0.75, seed=1337, objective=binary:logistic, max_depth=5 -  13.4s\n",
      "[CV] colsample_bytree=0.7, silent=1, learning_rate=0.01, nthread=3, min_child_weight=11, n_estimators=50, subsample=0.75, seed=1337, objective=binary:logistic, max_depth=5 \n",
      "[CV]  colsample_bytree=0.7, silent=1, learning_rate=0.01, nthread=3, min_child_weight=11, n_estimators=50, subsample=0.75, seed=1337, objective=binary:logistic, max_depth=5 -  20.0s\n",
      "[CV] colsample_bytree=0.7, silent=1, learning_rate=0.01, nthread=3, min_child_weight=11, n_estimators=50, subsample=0.75, seed=1337, objective=binary:logistic, max_depth=5 \n",
      "[CV]  colsample_bytree=0.7, silent=1, learning_rate=0.01, nthread=3, min_child_weight=11, n_estimators=50, subsample=0.75, seed=1337, objective=binary:logistic, max_depth=5 -  19.8s\n",
      "[CV] colsample_bytree=0.7, silent=1, learning_rate=0.01, nthread=3, min_child_weight=11, n_estimators=80, subsample=0.75, seed=1337, objective=binary:logistic, max_depth=5 \n",
      "[CV]  colsample_bytree=0.7, silent=1, learning_rate=0.01, nthread=3, min_child_weight=11, n_estimators=50, subsample=0.75, seed=1337, objective=binary:logistic, max_depth=5 -  18.9s\n",
      "[CV] colsample_bytree=0.7, silent=1, learning_rate=0.01, nthread=3, min_child_weight=11, n_estimators=80, subsample=0.75, seed=1337, objective=binary:logistic, max_depth=5 \n",
      "[CV]  colsample_bytree=0.7, silent=1, learning_rate=0.01, nthread=3, min_child_weight=11, n_estimators=50, subsample=0.75, seed=1337, objective=binary:logistic, max_depth=5 -  21.3s\n",
      "[CV] colsample_bytree=0.7, silent=1, learning_rate=0.01, nthread=3, min_child_weight=11, n_estimators=80, subsample=0.75, seed=1337, objective=binary:logistic, max_depth=5 \n",
      "[CV]  colsample_bytree=0.7, silent=1, learning_rate=0.01, nthread=3, min_child_weight=11, n_estimators=80, subsample=0.75, seed=1337, objective=binary:logistic, max_depth=5 -  29.8s\n",
      "[CV] colsample_bytree=0.7, silent=1, learning_rate=0.01, nthread=3, min_child_weight=11, n_estimators=80, subsample=0.75, seed=1337, objective=binary:logistic, max_depth=5 \n",
      "[CV]  colsample_bytree=0.7, silent=1, learning_rate=0.01, nthread=3, min_child_weight=11, n_estimators=80, subsample=0.75, seed=1337, objective=binary:logistic, max_depth=5 -  32.0s\n",
      "[CV] colsample_bytree=0.7, silent=1, learning_rate=0.01, nthread=3, min_child_weight=5, n_estimators=30, subsample=0.75, seed=1337, objective=binary:logistic, max_depth=5 \n",
      "[CV]  colsample_bytree=0.7, silent=1, learning_rate=0.01, nthread=3, min_child_weight=11, n_estimators=80, subsample=0.75, seed=1337, objective=binary:logistic, max_depth=5 -  31.0s\n",
      "[CV] colsample_bytree=0.7, silent=1, learning_rate=0.01, nthread=3, min_child_weight=5, n_estimators=30, subsample=0.75, seed=1337, objective=binary:logistic, max_depth=5 \n",
      "[CV]  colsample_bytree=0.7, silent=1, learning_rate=0.01, nthread=3, min_child_weight=5, n_estimators=30, subsample=0.75, seed=1337, objective=binary:logistic, max_depth=5 -  12.7s\n",
      "[CV] colsample_bytree=0.7, silent=1, learning_rate=0.01, nthread=3, min_child_weight=5, n_estimators=30, subsample=0.75, seed=1337, objective=binary:logistic, max_depth=5 \n",
      "[CV]  colsample_bytree=0.7, silent=1, learning_rate=0.01, nthread=3, min_child_weight=5, n_estimators=30, subsample=0.75, seed=1337, objective=binary:logistic, max_depth=5 -  11.7s\n",
      "[CV] colsample_bytree=0.7, silent=1, learning_rate=0.01, nthread=3, min_child_weight=5, n_estimators=30, subsample=0.75, seed=1337, objective=binary:logistic, max_depth=5 \n",
      "[CV]  colsample_bytree=0.7, silent=1, learning_rate=0.01, nthread=3, min_child_weight=11, n_estimators=80, subsample=0.75, seed=1337, objective=binary:logistic, max_depth=5 -  32.4s\n",
      "[CV] colsample_bytree=0.7, silent=1, learning_rate=0.01, nthread=3, min_child_weight=5, n_estimators=50, subsample=0.75, seed=1337, objective=binary:logistic, max_depth=5 \n",
      "[CV]  colsample_bytree=0.7, silent=1, learning_rate=0.01, nthread=3, min_child_weight=5, n_estimators=30, subsample=0.75, seed=1337, objective=binary:logistic, max_depth=5 -  12.6s\n",
      "[CV] colsample_bytree=0.7, silent=1, learning_rate=0.01, nthread=3, min_child_weight=5, n_estimators=50, subsample=0.75, seed=1337, objective=binary:logistic, max_depth=5 \n",
      "[CV]  colsample_bytree=0.7, silent=1, learning_rate=0.01, nthread=3, min_child_weight=5, n_estimators=30, subsample=0.75, seed=1337, objective=binary:logistic, max_depth=5 -  13.1s\n",
      "[CV] colsample_bytree=0.7, silent=1, learning_rate=0.01, nthread=3, min_child_weight=5, n_estimators=50, subsample=0.75, seed=1337, objective=binary:logistic, max_depth=5 \n",
      "[CV]  colsample_bytree=0.7, silent=1, learning_rate=0.01, nthread=3, min_child_weight=5, n_estimators=50, subsample=0.75, seed=1337, objective=binary:logistic, max_depth=5 -  18.0s\n",
      "[CV] colsample_bytree=0.7, silent=1, learning_rate=0.01, nthread=3, min_child_weight=5, n_estimators=50, subsample=0.75, seed=1337, objective=binary:logistic, max_depth=5 \n",
      "[CV]  colsample_bytree=0.7, silent=1, learning_rate=0.01, nthread=3, min_child_weight=5, n_estimators=50, subsample=0.75, seed=1337, objective=binary:logistic, max_depth=5 -  19.6s\n",
      "[CV] colsample_bytree=0.7, silent=1, learning_rate=0.01, nthread=3, min_child_weight=5, n_estimators=80, subsample=0.75, seed=1337, objective=binary:logistic, max_depth=5 \n",
      "[CV]  colsample_bytree=0.7, silent=1, learning_rate=0.01, nthread=3, min_child_weight=5, n_estimators=50, subsample=0.75, seed=1337, objective=binary:logistic, max_depth=5 -  21.6s\n",
      "[CV] colsample_bytree=0.7, silent=1, learning_rate=0.01, nthread=3, min_child_weight=5, n_estimators=80, subsample=0.75, seed=1337, objective=binary:logistic, max_depth=5 \n",
      "[CV]  colsample_bytree=0.7, silent=1, learning_rate=0.01, nthread=3, min_child_weight=5, n_estimators=50, subsample=0.75, seed=1337, objective=binary:logistic, max_depth=5 -  20.9s\n",
      "[CV] colsample_bytree=0.7, silent=1, learning_rate=0.01, nthread=3, min_child_weight=5, n_estimators=80, subsample=0.75, seed=1337, objective=binary:logistic, max_depth=5 \n",
      "[CV]  colsample_bytree=0.7, silent=1, learning_rate=0.01, nthread=3, min_child_weight=5, n_estimators=80, subsample=0.75, seed=1337, objective=binary:logistic, max_depth=5 -  30.8s\n",
      "[CV] colsample_bytree=0.7, silent=1, learning_rate=0.01, nthread=3, min_child_weight=5, n_estimators=80, subsample=0.75, seed=1337, objective=binary:logistic, max_depth=5 \n",
      "[CV]  colsample_bytree=0.7, silent=1, learning_rate=0.01, nthread=3, min_child_weight=5, n_estimators=80, subsample=0.75, seed=1337, objective=binary:logistic, max_depth=5 -  28.6s\n",
      "[CV] colsample_bytree=0.7, silent=1, learning_rate=0.01, nthread=3, min_child_weight=1, n_estimators=30, subsample=0.75, seed=1337, objective=binary:logistic, max_depth=5 \n",
      "[CV]  colsample_bytree=0.7, silent=1, learning_rate=0.01, nthread=3, min_child_weight=5, n_estimators=80, subsample=0.75, seed=1337, objective=binary:logistic, max_depth=5 -  31.7s\n",
      "[CV] colsample_bytree=0.7, silent=1, learning_rate=0.01, nthread=3, min_child_weight=1, n_estimators=30, subsample=0.75, seed=1337, objective=binary:logistic, max_depth=5 \n",
      "[CV]  colsample_bytree=0.7, silent=1, learning_rate=0.01, nthread=3, min_child_weight=1, n_estimators=30, subsample=0.75, seed=1337, objective=binary:logistic, max_depth=5 -  12.8s\n",
      "[CV] colsample_bytree=0.7, silent=1, learning_rate=0.01, nthread=3, min_child_weight=1, n_estimators=30, subsample=0.75, seed=1337, objective=binary:logistic, max_depth=5 \n",
      "[CV]  colsample_bytree=0.7, silent=1, learning_rate=0.01, nthread=3, min_child_weight=5, n_estimators=80, subsample=0.75, seed=1337, objective=binary:logistic, max_depth=5 -  30.8s\n",
      "[CV] colsample_bytree=0.7, silent=1, learning_rate=0.01, nthread=3, min_child_weight=1, n_estimators=30, subsample=0.75, seed=1337, objective=binary:logistic, max_depth=5 \n",
      "[CV]  colsample_bytree=0.7, silent=1, learning_rate=0.01, nthread=3, min_child_weight=1, n_estimators=30, subsample=0.75, seed=1337, objective=binary:logistic, max_depth=5 -  13.3s\n",
      "[CV] colsample_bytree=0.7, silent=1, learning_rate=0.01, nthread=3, min_child_weight=1, n_estimators=50, subsample=0.75, seed=1337, objective=binary:logistic, max_depth=5 \n",
      "[CV]  colsample_bytree=0.7, silent=1, learning_rate=0.01, nthread=3, min_child_weight=1, n_estimators=30, subsample=0.75, seed=1337, objective=binary:logistic, max_depth=5 -  12.4s\n",
      "[CV] colsample_bytree=0.7, silent=1, learning_rate=0.01, nthread=3, min_child_weight=1, n_estimators=50, subsample=0.75, seed=1337, objective=binary:logistic, max_depth=5 \n",
      "[CV]  colsample_bytree=0.7, silent=1, learning_rate=0.01, nthread=3, min_child_weight=1, n_estimators=30, subsample=0.75, seed=1337, objective=binary:logistic, max_depth=5 -  11.8s\n",
      "[CV] colsample_bytree=0.7, silent=1, learning_rate=0.01, nthread=3, min_child_weight=1, n_estimators=50, subsample=0.75, seed=1337, objective=binary:logistic, max_depth=5 \n",
      "[CV]  colsample_bytree=0.7, silent=1, learning_rate=0.01, nthread=3, min_child_weight=1, n_estimators=50, subsample=0.75, seed=1337, objective=binary:logistic, max_depth=5 -  19.4s\n",
      "[CV] colsample_bytree=0.7, silent=1, learning_rate=0.01, nthread=3, min_child_weight=1, n_estimators=50, subsample=0.75, seed=1337, objective=binary:logistic, max_depth=5 \n",
      "[CV]  colsample_bytree=0.7, silent=1, learning_rate=0.01, nthread=3, min_child_weight=1, n_estimators=50, subsample=0.75, seed=1337, objective=binary:logistic, max_depth=5 -  21.8s\n",
      "[CV] colsample_bytree=0.7, silent=1, learning_rate=0.01, nthread=3, min_child_weight=1, n_estimators=80, subsample=0.75, seed=1337, objective=binary:logistic, max_depth=5 \n",
      "[CV]  colsample_bytree=0.7, silent=1, learning_rate=0.01, nthread=3, min_child_weight=1, n_estimators=50, subsample=0.75, seed=1337, objective=binary:logistic, max_depth=5 -  20.6s\n",
      "[CV] colsample_bytree=0.7, silent=1, learning_rate=0.01, nthread=3, min_child_weight=1, n_estimators=80, subsample=0.75, seed=1337, objective=binary:logistic, max_depth=5 \n",
      "[CV]  colsample_bytree=0.7, silent=1, learning_rate=0.01, nthread=3, min_child_weight=1, n_estimators=50, subsample=0.75, seed=1337, objective=binary:logistic, max_depth=5 -  20.5s\n",
      "[CV] colsample_bytree=0.7, silent=1, learning_rate=0.01, nthread=3, min_child_weight=1, n_estimators=80, subsample=0.75, seed=1337, objective=binary:logistic, max_depth=5 \n",
      "[CV]  colsample_bytree=0.7, silent=1, learning_rate=0.01, nthread=3, min_child_weight=1, n_estimators=80, subsample=0.75, seed=1337, objective=binary:logistic, max_depth=5 -  31.8s\n",
      "[CV] colsample_bytree=0.7, silent=1, learning_rate=0.01, nthread=3, min_child_weight=1, n_estimators=80, subsample=0.75, seed=1337, objective=binary:logistic, max_depth=5 \n",
      "[CV]  colsample_bytree=0.7, silent=1, learning_rate=0.01, nthread=3, min_child_weight=1, n_estimators=80, subsample=0.75, seed=1337, objective=binary:logistic, max_depth=5 -  30.8s\n",
      "[CV] colsample_bytree=0.7, silent=1, learning_rate=0.01, nthread=3, min_child_weight=11, n_estimators=30, subsample=0.75, seed=1337, objective=binary:logistic, max_depth=15 \n",
      "[CV]  colsample_bytree=0.7, silent=1, learning_rate=0.01, nthread=3, min_child_weight=1, n_estimators=80, subsample=0.75, seed=1337, objective=binary:logistic, max_depth=5 -  33.8s\n",
      "[CV] colsample_bytree=0.7, silent=1, learning_rate=0.01, nthread=3, min_child_weight=11, n_estimators=30, subsample=0.75, seed=1337, objective=binary:logistic, max_depth=15 \n",
      "[CV]  colsample_bytree=0.7, silent=1, learning_rate=0.01, nthread=3, min_child_weight=11, n_estimators=30, subsample=0.75, seed=1337, objective=binary:logistic, max_depth=15 -  21.1s\n",
      "[CV] colsample_bytree=0.7, silent=1, learning_rate=0.01, nthread=3, min_child_weight=11, n_estimators=30, subsample=0.75, seed=1337, objective=binary:logistic, max_depth=15 \n",
      "[CV]  colsample_bytree=0.7, silent=1, learning_rate=0.01, nthread=3, min_child_weight=1, n_estimators=80, subsample=0.75, seed=1337, objective=binary:logistic, max_depth=5 -  29.9s\n",
      "[CV] colsample_bytree=0.7, silent=1, learning_rate=0.01, nthread=3, min_child_weight=11, n_estimators=30, subsample=0.75, seed=1337, objective=binary:logistic, max_depth=15 \n",
      "[CV]  colsample_bytree=0.7, silent=1, learning_rate=0.01, nthread=3, min_child_weight=11, n_estimators=30, subsample=0.75, seed=1337, objective=binary:logistic, max_depth=15 -  17.7s\n",
      "[CV] colsample_bytree=0.7, silent=1, learning_rate=0.01, nthread=3, min_child_weight=11, n_estimators=50, subsample=0.75, seed=1337, objective=binary:logistic, max_depth=15 \n",
      "[CV]  colsample_bytree=0.7, silent=1, learning_rate=0.01, nthread=3, min_child_weight=11, n_estimators=30, subsample=0.75, seed=1337, objective=binary:logistic, max_depth=15 -  18.6s\n",
      "[CV] colsample_bytree=0.7, silent=1, learning_rate=0.01, nthread=3, min_child_weight=11, n_estimators=50, subsample=0.75, seed=1337, objective=binary:logistic, max_depth=15 \n",
      "[CV]  colsample_bytree=0.7, silent=1, learning_rate=0.01, nthread=3, min_child_weight=11, n_estimators=30, subsample=0.75, seed=1337, objective=binary:logistic, max_depth=15 -  19.1s\n",
      "[CV] colsample_bytree=0.7, silent=1, learning_rate=0.01, nthread=3, min_child_weight=11, n_estimators=50, subsample=0.75, seed=1337, objective=binary:logistic, max_depth=15 \n",
      "[CV]  colsample_bytree=0.7, silent=1, learning_rate=0.01, nthread=3, min_child_weight=11, n_estimators=50, subsample=0.75, seed=1337, objective=binary:logistic, max_depth=15 -  33.2s\n",
      "[CV] colsample_bytree=0.7, silent=1, learning_rate=0.01, nthread=3, min_child_weight=11, n_estimators=50, subsample=0.75, seed=1337, objective=binary:logistic, max_depth=15 \n",
      "[CV]  colsample_bytree=0.7, silent=1, learning_rate=0.01, nthread=3, min_child_weight=11, n_estimators=50, subsample=0.75, seed=1337, objective=binary:logistic, max_depth=15 -  32.6s\n",
      "[CV] colsample_bytree=0.7, silent=1, learning_rate=0.01, nthread=3, min_child_weight=11, n_estimators=80, subsample=0.75, seed=1337, objective=binary:logistic, max_depth=15 \n",
      "[CV]  colsample_bytree=0.7, silent=1, learning_rate=0.01, nthread=3, min_child_weight=11, n_estimators=50, subsample=0.75, seed=1337, objective=binary:logistic, max_depth=15 -  31.5s\n",
      "[CV] colsample_bytree=0.7, silent=1, learning_rate=0.01, nthread=3, min_child_weight=11, n_estimators=80, subsample=0.75, seed=1337, objective=binary:logistic, max_depth=15 \n",
      "[CV]  colsample_bytree=0.7, silent=1, learning_rate=0.01, nthread=3, min_child_weight=11, n_estimators=50, subsample=0.75, seed=1337, objective=binary:logistic, max_depth=15 -  32.5s\n",
      "[CV] colsample_bytree=0.7, silent=1, learning_rate=0.01, nthread=3, min_child_weight=11, n_estimators=80, subsample=0.75, seed=1337, objective=binary:logistic, max_depth=15 \n",
      "[CV]  colsample_bytree=0.7, silent=1, learning_rate=0.01, nthread=3, min_child_weight=11, n_estimators=80, subsample=0.75, seed=1337, objective=binary:logistic, max_depth=15 -  54.1s\n",
      "[CV] colsample_bytree=0.7, silent=1, learning_rate=0.01, nthread=3, min_child_weight=11, n_estimators=80, subsample=0.75, seed=1337, objective=binary:logistic, max_depth=15 \n",
      "[CV]  colsample_bytree=0.7, silent=1, learning_rate=0.01, nthread=3, min_child_weight=11, n_estimators=80, subsample=0.75, seed=1337, objective=binary:logistic, max_depth=15 -  54.3s\n",
      "[CV] colsample_bytree=0.7, silent=1, learning_rate=0.01, nthread=3, min_child_weight=5, n_estimators=30, subsample=0.75, seed=1337, objective=binary:logistic, max_depth=15 \n",
      "[CV]  colsample_bytree=0.7, silent=1, learning_rate=0.01, nthread=3, min_child_weight=5, n_estimators=30, subsample=0.75, seed=1337, objective=binary:logistic, max_depth=15 -  23.0s\n",
      "[CV] colsample_bytree=0.7, silent=1, learning_rate=0.01, nthread=3, min_child_weight=5, n_estimators=30, subsample=0.75, seed=1337, objective=binary:logistic, max_depth=15 \n",
      "[CV]  colsample_bytree=0.7, silent=1, learning_rate=0.01, nthread=3, min_child_weight=11, n_estimators=80, subsample=0.75, seed=1337, objective=binary:logistic, max_depth=15 -  56.0s\n",
      "[CV] colsample_bytree=0.7, silent=1, learning_rate=0.01, nthread=3, min_child_weight=5, n_estimators=30, subsample=0.75, seed=1337, objective=binary:logistic, max_depth=15 \n",
      "[CV]  colsample_bytree=0.7, silent=1, learning_rate=0.01, nthread=3, min_child_weight=5, n_estimators=30, subsample=0.75, seed=1337, objective=binary:logistic, max_depth=15 -  21.9s\n",
      "[CV] colsample_bytree=0.7, silent=1, learning_rate=0.01, nthread=3, min_child_weight=5, n_estimators=30, subsample=0.75, seed=1337, objective=binary:logistic, max_depth=15 \n",
      "[CV]  colsample_bytree=0.7, silent=1, learning_rate=0.01, nthread=3, min_child_weight=5, n_estimators=30, subsample=0.75, seed=1337, objective=binary:logistic, max_depth=15 -  21.4s\n",
      "[CV] colsample_bytree=0.7, silent=1, learning_rate=0.01, nthread=3, min_child_weight=5, n_estimators=50, subsample=0.75, seed=1337, objective=binary:logistic, max_depth=15 \n",
      "[CV]  colsample_bytree=0.7, silent=1, learning_rate=0.01, nthread=3, min_child_weight=11, n_estimators=80, subsample=0.75, seed=1337, objective=binary:logistic, max_depth=15 -  53.9s\n",
      "[CV] colsample_bytree=0.7, silent=1, learning_rate=0.01, nthread=3, min_child_weight=5, n_estimators=50, subsample=0.75, seed=1337, objective=binary:logistic, max_depth=15 \n",
      "[CV]  colsample_bytree=0.7, silent=1, learning_rate=0.01, nthread=3, min_child_weight=5, n_estimators=30, subsample=0.75, seed=1337, objective=binary:logistic, max_depth=15 -  22.3s\n",
      "[CV] colsample_bytree=0.7, silent=1, learning_rate=0.01, nthread=3, min_child_weight=5, n_estimators=50, subsample=0.75, seed=1337, objective=binary:logistic, max_depth=15 \n",
      "[CV]  colsample_bytree=0.7, silent=1, learning_rate=0.01, nthread=3, min_child_weight=5, n_estimators=50, subsample=0.75, seed=1337, objective=binary:logistic, max_depth=15 -  35.1s\n",
      "[CV] colsample_bytree=0.7, silent=1, learning_rate=0.01, nthread=3, min_child_weight=5, n_estimators=50, subsample=0.75, seed=1337, objective=binary:logistic, max_depth=15 \n",
      "[CV]  colsample_bytree=0.7, silent=1, learning_rate=0.01, nthread=3, min_child_weight=5, n_estimators=50, subsample=0.75, seed=1337, objective=binary:logistic, max_depth=15 -  38.4s\n",
      "[CV] colsample_bytree=0.7, silent=1, learning_rate=0.01, nthread=3, min_child_weight=5, n_estimators=80, subsample=0.75, seed=1337, objective=binary:logistic, max_depth=15 \n",
      "[CV]  colsample_bytree=0.7, silent=1, learning_rate=0.01, nthread=3, min_child_weight=5, n_estimators=50, subsample=0.75, seed=1337, objective=binary:logistic, max_depth=15 -  34.0s\n",
      "[CV] colsample_bytree=0.7, silent=1, learning_rate=0.01, nthread=3, min_child_weight=5, n_estimators=80, subsample=0.75, seed=1337, objective=binary:logistic, max_depth=15 \n",
      "[CV]  colsample_bytree=0.7, silent=1, learning_rate=0.01, nthread=3, min_child_weight=5, n_estimators=50, subsample=0.75, seed=1337, objective=binary:logistic, max_depth=15 -  36.9s\n",
      "[CV] colsample_bytree=0.7, silent=1, learning_rate=0.01, nthread=3, min_child_weight=5, n_estimators=80, subsample=0.75, seed=1337, objective=binary:logistic, max_depth=15 \n",
      "[CV]  colsample_bytree=0.7, silent=1, learning_rate=0.01, nthread=3, min_child_weight=5, n_estimators=80, subsample=0.75, seed=1337, objective=binary:logistic, max_depth=15 - 1.0min\n",
      "[CV] colsample_bytree=0.7, silent=1, learning_rate=0.01, nthread=3, min_child_weight=5, n_estimators=80, subsample=0.75, seed=1337, objective=binary:logistic, max_depth=15 \n",
      "[CV]  colsample_bytree=0.7, silent=1, learning_rate=0.01, nthread=3, min_child_weight=5, n_estimators=80, subsample=0.75, seed=1337, objective=binary:logistic, max_depth=15 - 1.0min\n",
      "[CV] colsample_bytree=0.7, silent=1, learning_rate=0.01, nthread=3, min_child_weight=1, n_estimators=30, subsample=0.75, seed=1337, objective=binary:logistic, max_depth=15 \n",
      "[CV]  colsample_bytree=0.7, silent=1, learning_rate=0.01, nthread=3, min_child_weight=5, n_estimators=80, subsample=0.75, seed=1337, objective=binary:logistic, max_depth=15 - 1.0min\n",
      "[CV] colsample_bytree=0.7, silent=1, learning_rate=0.01, nthread=3, min_child_weight=1, n_estimators=30, subsample=0.75, seed=1337, objective=binary:logistic, max_depth=15 \n",
      "[CV]  colsample_bytree=0.7, silent=1, learning_rate=0.01, nthread=3, min_child_weight=1, n_estimators=30, subsample=0.75, seed=1337, objective=binary:logistic, max_depth=15 -  23.4s\n",
      "[CV] colsample_bytree=0.7, silent=1, learning_rate=0.01, nthread=3, min_child_weight=1, n_estimators=30, subsample=0.75, seed=1337, objective=binary:logistic, max_depth=15 \n",
      "[CV]  colsample_bytree=0.7, silent=1, learning_rate=0.01, nthread=3, min_child_weight=1, n_estimators=30, subsample=0.75, seed=1337, objective=binary:logistic, max_depth=15 -  24.3s\n",
      "[CV] colsample_bytree=0.7, silent=1, learning_rate=0.01, nthread=3, min_child_weight=1, n_estimators=30, subsample=0.75, seed=1337, objective=binary:logistic, max_depth=15 \n",
      "[CV]  colsample_bytree=0.7, silent=1, learning_rate=0.01, nthread=3, min_child_weight=1, n_estimators=30, subsample=0.75, seed=1337, objective=binary:logistic, max_depth=15 -  24.6s\n",
      "[CV] colsample_bytree=0.7, silent=1, learning_rate=0.01, nthread=3, min_child_weight=1, n_estimators=50, subsample=0.75, seed=1337, objective=binary:logistic, max_depth=15 \n",
      "[CV]  colsample_bytree=0.7, silent=1, learning_rate=0.01, nthread=3, min_child_weight=5, n_estimators=80, subsample=0.75, seed=1337, objective=binary:logistic, max_depth=15 - 1.0min\n",
      "[CV] colsample_bytree=0.7, silent=1, learning_rate=0.01, nthread=3, min_child_weight=1, n_estimators=50, subsample=0.75, seed=1337, objective=binary:logistic, max_depth=15 \n",
      "[CV]  colsample_bytree=0.7, silent=1, learning_rate=0.01, nthread=3, min_child_weight=1, n_estimators=30, subsample=0.75, seed=1337, objective=binary:logistic, max_depth=15 -  24.2s\n",
      "[CV] colsample_bytree=0.7, silent=1, learning_rate=0.01, nthread=3, min_child_weight=1, n_estimators=50, subsample=0.75, seed=1337, objective=binary:logistic, max_depth=15 \n",
      "[CV]  colsample_bytree=0.7, silent=1, learning_rate=0.01, nthread=3, min_child_weight=1, n_estimators=50, subsample=0.75, seed=1337, objective=binary:logistic, max_depth=15 -  41.7s\n",
      "[CV] colsample_bytree=0.7, silent=1, learning_rate=0.01, nthread=3, min_child_weight=1, n_estimators=50, subsample=0.75, seed=1337, objective=binary:logistic, max_depth=15 \n",
      "[CV]  colsample_bytree=0.7, silent=1, learning_rate=0.01, nthread=3, min_child_weight=1, n_estimators=50, subsample=0.75, seed=1337, objective=binary:logistic, max_depth=15 -  41.5s\n",
      "[CV] colsample_bytree=0.7, silent=1, learning_rate=0.01, nthread=3, min_child_weight=1, n_estimators=80, subsample=0.75, seed=1337, objective=binary:logistic, max_depth=15 \n",
      "[CV]  colsample_bytree=0.7, silent=1, learning_rate=0.01, nthread=3, min_child_weight=1, n_estimators=50, subsample=0.75, seed=1337, objective=binary:logistic, max_depth=15 -  39.7s\n",
      "[CV] colsample_bytree=0.7, silent=1, learning_rate=0.01, nthread=3, min_child_weight=1, n_estimators=80, subsample=0.75, seed=1337, objective=binary:logistic, max_depth=15 \n",
      "[CV]  colsample_bytree=0.7, silent=1, learning_rate=0.01, nthread=3, min_child_weight=1, n_estimators=50, subsample=0.75, seed=1337, objective=binary:logistic, max_depth=15 -  41.5s\n",
      "[CV] colsample_bytree=0.7, silent=1, learning_rate=0.01, nthread=3, min_child_weight=1, n_estimators=80, subsample=0.75, seed=1337, objective=binary:logistic, max_depth=15 \n",
      "[CV]  colsample_bytree=0.7, silent=1, learning_rate=0.01, nthread=3, min_child_weight=1, n_estimators=80, subsample=0.75, seed=1337, objective=binary:logistic, max_depth=15 - 1.1min\n",
      "[CV] colsample_bytree=0.7, silent=1, learning_rate=0.01, nthread=3, min_child_weight=1, n_estimators=80, subsample=0.75, seed=1337, objective=binary:logistic, max_depth=15 \n",
      "[CV]  colsample_bytree=0.7, silent=1, learning_rate=0.01, nthread=3, min_child_weight=1, n_estimators=80, subsample=0.75, seed=1337, objective=binary:logistic, max_depth=15 - 1.1min\n",
      "[CV] colsample_bytree=0.7, silent=1, learning_rate=0.1, nthread=3, min_child_weight=11, n_estimators=30, subsample=0.75, seed=1337, objective=binary:logistic, max_depth=10 \n",
      "[CV]  colsample_bytree=0.7, silent=1, learning_rate=0.1, nthread=3, min_child_weight=11, n_estimators=30, subsample=0.75, seed=1337, objective=binary:logistic, max_depth=10 -  23.2s\n",
      "[CV] colsample_bytree=0.7, silent=1, learning_rate=0.1, nthread=3, min_child_weight=11, n_estimators=30, subsample=0.75, seed=1337, objective=binary:logistic, max_depth=10 \n",
      "[CV]  colsample_bytree=0.7, silent=1, learning_rate=0.01, nthread=3, min_child_weight=1, n_estimators=80, subsample=0.75, seed=1337, objective=binary:logistic, max_depth=15 - 1.2min\n",
      "[CV] colsample_bytree=0.7, silent=1, learning_rate=0.1, nthread=3, min_child_weight=11, n_estimators=30, subsample=0.75, seed=1337, objective=binary:logistic, max_depth=10 \n",
      "[CV]  colsample_bytree=0.7, silent=1, learning_rate=0.1, nthread=3, min_child_weight=11, n_estimators=30, subsample=0.75, seed=1337, objective=binary:logistic, max_depth=10 -  22.3s\n",
      "[CV] colsample_bytree=0.7, silent=1, learning_rate=0.1, nthread=3, min_child_weight=11, n_estimators=30, subsample=0.75, seed=1337, objective=binary:logistic, max_depth=10 \n",
      "[CV]  colsample_bytree=0.7, silent=1, learning_rate=0.1, nthread=3, min_child_weight=11, n_estimators=30, subsample=0.75, seed=1337, objective=binary:logistic, max_depth=10 -  20.1s\n",
      "[CV] colsample_bytree=0.7, silent=1, learning_rate=0.1, nthread=3, min_child_weight=11, n_estimators=50, subsample=0.75, seed=1337, objective=binary:logistic, max_depth=10 \n",
      "[CV]  colsample_bytree=0.7, silent=1, learning_rate=0.01, nthread=3, min_child_weight=1, n_estimators=80, subsample=0.75, seed=1337, objective=binary:logistic, max_depth=15 - 1.2min\n",
      "[CV] colsample_bytree=0.7, silent=1, learning_rate=0.1, nthread=3, min_child_weight=11, n_estimators=50, subsample=0.75, seed=1337, objective=binary:logistic, max_depth=10 \n",
      "[CV]  colsample_bytree=0.7, silent=1, learning_rate=0.1, nthread=3, min_child_weight=11, n_estimators=30, subsample=0.75, seed=1337, objective=binary:logistic, max_depth=10 -  21.4s\n",
      "[CV] colsample_bytree=0.7, silent=1, learning_rate=0.1, nthread=3, min_child_weight=11, n_estimators=50, subsample=0.75, seed=1337, objective=binary:logistic, max_depth=10 \n",
      "[CV]  colsample_bytree=0.7, silent=1, learning_rate=0.1, nthread=3, min_child_weight=11, n_estimators=50, subsample=0.75, seed=1337, objective=binary:logistic, max_depth=10 -  38.7s\n",
      "[CV] colsample_bytree=0.7, silent=1, learning_rate=0.1, nthread=3, min_child_weight=11, n_estimators=50, subsample=0.75, seed=1337, objective=binary:logistic, max_depth=10 \n",
      "[CV]  colsample_bytree=0.7, silent=1, learning_rate=0.1, nthread=3, min_child_weight=11, n_estimators=50, subsample=0.75, seed=1337, objective=binary:logistic, max_depth=10 -  34.9s\n",
      "[CV] colsample_bytree=0.7, silent=1, learning_rate=0.1, nthread=3, min_child_weight=11, n_estimators=80, subsample=0.75, seed=1337, objective=binary:logistic, max_depth=10 \n",
      "[CV]  colsample_bytree=0.7, silent=1, learning_rate=0.1, nthread=3, min_child_weight=11, n_estimators=50, subsample=0.75, seed=1337, objective=binary:logistic, max_depth=10 -  35.7s\n",
      "[CV] colsample_bytree=0.7, silent=1, learning_rate=0.1, nthread=3, min_child_weight=11, n_estimators=80, subsample=0.75, seed=1337, objective=binary:logistic, max_depth=10 \n",
      "[CV]  colsample_bytree=0.7, silent=1, learning_rate=0.1, nthread=3, min_child_weight=11, n_estimators=50, subsample=0.75, seed=1337, objective=binary:logistic, max_depth=10 -  37.4s\n",
      "[CV] colsample_bytree=0.7, silent=1, learning_rate=0.1, nthread=3, min_child_weight=11, n_estimators=80, subsample=0.75, seed=1337, objective=binary:logistic, max_depth=10 \n",
      "[CV]  colsample_bytree=0.7, silent=1, learning_rate=0.1, nthread=3, min_child_weight=11, n_estimators=80, subsample=0.75, seed=1337, objective=binary:logistic, max_depth=10 -  59.0s\n",
      "[CV] colsample_bytree=0.7, silent=1, learning_rate=0.1, nthread=3, min_child_weight=11, n_estimators=80, subsample=0.75, seed=1337, objective=binary:logistic, max_depth=10 \n",
      "[CV]  colsample_bytree=0.7, silent=1, learning_rate=0.1, nthread=3, min_child_weight=11, n_estimators=80, subsample=0.75, seed=1337, objective=binary:logistic, max_depth=10 -  58.0s\n",
      "[CV] colsample_bytree=0.7, silent=1, learning_rate=0.1, nthread=3, min_child_weight=5, n_estimators=30, subsample=0.75, seed=1337, objective=binary:logistic, max_depth=10 \n",
      "[CV]  colsample_bytree=0.7, silent=1, learning_rate=0.1, nthread=3, min_child_weight=11, n_estimators=80, subsample=0.75, seed=1337, objective=binary:logistic, max_depth=10 -  59.6s\n",
      "[CV]  colsample_bytree=0.7, silent=1, learning_rate=0.1, nthread=3, min_child_weight=5, n_estimators=30, subsample=0.75, seed=1337, objective=binary:logistic, max_depth=10 -  24.2s\n",
      "[CV] colsample_bytree=0.7, silent=1, learning_rate=0.1, nthread=3, min_child_weight=5, n_estimators=30, subsample=0.75, seed=1337, objective=binary:logistic, max_depth=10 \n",
      "[CV] colsample_bytree=0.7, silent=1, learning_rate=0.1, nthread=3, min_child_weight=5, n_estimators=30, subsample=0.75, seed=1337, objective=binary:logistic, max_depth=10 \n",
      "[CV]  colsample_bytree=0.7, silent=1, learning_rate=0.1, nthread=3, min_child_weight=5, n_estimators=30, subsample=0.75, seed=1337, objective=binary:logistic, max_depth=10 -  22.0s\n",
      "[CV]  colsample_bytree=0.7, silent=1, learning_rate=0.1, nthread=3, min_child_weight=11, n_estimators=80, subsample=0.75, seed=1337, objective=binary:logistic, max_depth=10 -  54.3s\n",
      "[CV] colsample_bytree=0.7, silent=1, learning_rate=0.1, nthread=3, min_child_weight=5, n_estimators=30, subsample=0.75, seed=1337, objective=binary:logistic, max_depth=10 \n",
      "[CV] colsample_bytree=0.7, silent=1, learning_rate=0.1, nthread=3, min_child_weight=5, n_estimators=50, subsample=0.75, seed=1337, objective=binary:logistic, max_depth=10 \n",
      "[CV]  colsample_bytree=0.7, silent=1, learning_rate=0.1, nthread=3, min_child_weight=5, n_estimators=30, subsample=0.75, seed=1337, objective=binary:logistic, max_depth=10 -  24.0s\n",
      "[CV] colsample_bytree=0.7, silent=1, learning_rate=0.1, nthread=3, min_child_weight=5, n_estimators=50, subsample=0.75, seed=1337, objective=binary:logistic, max_depth=10 \n",
      "[CV]  colsample_bytree=0.7, silent=1, learning_rate=0.1, nthread=3, min_child_weight=5, n_estimators=30, subsample=0.75, seed=1337, objective=binary:logistic, max_depth=10 -  23.0s\n",
      "[CV] colsample_bytree=0.7, silent=1, learning_rate=0.1, nthread=3, min_child_weight=5, n_estimators=50, subsample=0.75, seed=1337, objective=binary:logistic, max_depth=10 \n",
      "[CV]  colsample_bytree=0.7, silent=1, learning_rate=0.1, nthread=3, min_child_weight=5, n_estimators=50, subsample=0.75, seed=1337, objective=binary:logistic, max_depth=10 -  36.5s\n",
      "[CV] colsample_bytree=0.7, silent=1, learning_rate=0.1, nthread=3, min_child_weight=5, n_estimators=50, subsample=0.75, seed=1337, objective=binary:logistic, max_depth=10 \n",
      "[CV]  colsample_bytree=0.7, silent=1, learning_rate=0.1, nthread=3, min_child_weight=5, n_estimators=50, subsample=0.75, seed=1337, objective=binary:logistic, max_depth=10 -  37.2s\n",
      "[CV] colsample_bytree=0.7, silent=1, learning_rate=0.1, nthread=3, min_child_weight=5, n_estimators=80, subsample=0.75, seed=1337, objective=binary:logistic, max_depth=10 \n",
      "[CV]  colsample_bytree=0.7, silent=1, learning_rate=0.1, nthread=3, min_child_weight=5, n_estimators=50, subsample=0.75, seed=1337, objective=binary:logistic, max_depth=10 -  36.0s\n",
      "[CV] colsample_bytree=0.7, silent=1, learning_rate=0.1, nthread=3, min_child_weight=5, n_estimators=80, subsample=0.75, seed=1337, objective=binary:logistic, max_depth=10 \n",
      "[CV]  colsample_bytree=0.7, silent=1, learning_rate=0.1, nthread=3, min_child_weight=5, n_estimators=50, subsample=0.75, seed=1337, objective=binary:logistic, max_depth=10 -  38.8s\n",
      "[CV] colsample_bytree=0.7, silent=1, learning_rate=0.1, nthread=3, min_child_weight=5, n_estimators=80, subsample=0.75, seed=1337, objective=binary:logistic, max_depth=10 \n",
      "[CV]  colsample_bytree=0.7, silent=1, learning_rate=0.1, nthread=3, min_child_weight=5, n_estimators=80, subsample=0.75, seed=1337, objective=binary:logistic, max_depth=10 -  55.3s\n",
      "[CV] colsample_bytree=0.7, silent=1, learning_rate=0.1, nthread=3, min_child_weight=5, n_estimators=80, subsample=0.75, seed=1337, objective=binary:logistic, max_depth=10 \n",
      "[CV]  colsample_bytree=0.7, silent=1, learning_rate=0.1, nthread=3, min_child_weight=5, n_estimators=80, subsample=0.75, seed=1337, objective=binary:logistic, max_depth=10 -  57.4s\n",
      "[CV] colsample_bytree=0.7, silent=1, learning_rate=0.1, nthread=3, min_child_weight=1, n_estimators=30, subsample=0.75, seed=1337, objective=binary:logistic, max_depth=10 \n",
      "[CV]  colsample_bytree=0.7, silent=1, learning_rate=0.1, nthread=3, min_child_weight=5, n_estimators=80, subsample=0.75, seed=1337, objective=binary:logistic, max_depth=10 - 1.0min\n",
      "[CV] colsample_bytree=0.7, silent=1, learning_rate=0.1, nthread=3, min_child_weight=1, n_estimators=30, subsample=0.75, seed=1337, objective=binary:logistic, max_depth=10 \n",
      "[CV]  colsample_bytree=0.7, silent=1, learning_rate=0.1, nthread=3, min_child_weight=1, n_estimators=30, subsample=0.75, seed=1337, objective=binary:logistic, max_depth=10 -  25.0s\n",
      "[CV] colsample_bytree=0.7, silent=1, learning_rate=0.1, nthread=3, min_child_weight=1, n_estimators=30, subsample=0.75, seed=1337, objective=binary:logistic, max_depth=10 \n",
      "[CV]  colsample_bytree=0.7, silent=1, learning_rate=0.1, nthread=3, min_child_weight=5, n_estimators=80, subsample=0.75, seed=1337, objective=binary:logistic, max_depth=10 -  59.7s\n",
      "[CV] colsample_bytree=0.7, silent=1, learning_rate=0.1, nthread=3, min_child_weight=1, n_estimators=30, subsample=0.75, seed=1337, objective=binary:logistic, max_depth=10 \n",
      "[CV]  colsample_bytree=0.7, silent=1, learning_rate=0.1, nthread=3, min_child_weight=1, n_estimators=30, subsample=0.75, seed=1337, objective=binary:logistic, max_depth=10 -  24.8s\n",
      "[CV] colsample_bytree=0.7, silent=1, learning_rate=0.1, nthread=3, min_child_weight=1, n_estimators=50, subsample=0.75, seed=1337, objective=binary:logistic, max_depth=10 \n",
      "[CV]  colsample_bytree=0.7, silent=1, learning_rate=0.1, nthread=3, min_child_weight=1, n_estimators=30, subsample=0.75, seed=1337, objective=binary:logistic, max_depth=10 -  26.4s\n",
      "[CV] colsample_bytree=0.7, silent=1, learning_rate=0.1, nthread=3, min_child_weight=1, n_estimators=50, subsample=0.75, seed=1337, objective=binary:logistic, max_depth=10 \n",
      "[CV]  colsample_bytree=0.7, silent=1, learning_rate=0.1, nthread=3, min_child_weight=1, n_estimators=30, subsample=0.75, seed=1337, objective=binary:logistic, max_depth=10 -  23.0s\n",
      "[CV] colsample_bytree=0.7, silent=1, learning_rate=0.1, nthread=3, min_child_weight=1, n_estimators=50, subsample=0.75, seed=1337, objective=binary:logistic, max_depth=10 \n",
      "[CV]  colsample_bytree=0.7, silent=1, learning_rate=0.1, nthread=3, min_child_weight=1, n_estimators=50, subsample=0.75, seed=1337, objective=binary:logistic, max_depth=10 -  38.7s\n",
      "[CV] colsample_bytree=0.7, silent=1, learning_rate=0.1, nthread=3, min_child_weight=1, n_estimators=50, subsample=0.75, seed=1337, objective=binary:logistic, max_depth=10 \n",
      "[CV]  colsample_bytree=0.7, silent=1, learning_rate=0.1, nthread=3, min_child_weight=1, n_estimators=50, subsample=0.75, seed=1337, objective=binary:logistic, max_depth=10 -  37.3s\n",
      "[CV] colsample_bytree=0.7, silent=1, learning_rate=0.1, nthread=3, min_child_weight=1, n_estimators=80, subsample=0.75, seed=1337, objective=binary:logistic, max_depth=10 \n",
      "[CV]  colsample_bytree=0.7, silent=1, learning_rate=0.1, nthread=3, min_child_weight=1, n_estimators=50, subsample=0.75, seed=1337, objective=binary:logistic, max_depth=10 -  37.5s\n",
      "[CV] colsample_bytree=0.7, silent=1, learning_rate=0.1, nthread=3, min_child_weight=1, n_estimators=80, subsample=0.75, seed=1337, objective=binary:logistic, max_depth=10 \n",
      "[CV]  colsample_bytree=0.7, silent=1, learning_rate=0.1, nthread=3, min_child_weight=1, n_estimators=50, subsample=0.75, seed=1337, objective=binary:logistic, max_depth=10 -  40.2s\n",
      "[CV] colsample_bytree=0.7, silent=1, learning_rate=0.1, nthread=3, min_child_weight=1, n_estimators=80, subsample=0.75, seed=1337, objective=binary:logistic, max_depth=10 \n",
      "[CV]  colsample_bytree=0.7, silent=1, learning_rate=0.1, nthread=3, min_child_weight=1, n_estimators=80, subsample=0.75, seed=1337, objective=binary:logistic, max_depth=10 - 1.0min\n",
      "[CV] colsample_bytree=0.7, silent=1, learning_rate=0.1, nthread=3, min_child_weight=1, n_estimators=80, subsample=0.75, seed=1337, objective=binary:logistic, max_depth=10 \n",
      "[CV]  colsample_bytree=0.7, silent=1, learning_rate=0.1, nthread=3, min_child_weight=1, n_estimators=80, subsample=0.75, seed=1337, objective=binary:logistic, max_depth=10 -  59.8s\n",
      "[CV] colsample_bytree=0.7, silent=1, learning_rate=0.1, nthread=3, min_child_weight=11, n_estimators=30, subsample=0.75, seed=1337, objective=binary:logistic, max_depth=5 \n",
      "[CV]  colsample_bytree=0.7, silent=1, learning_rate=0.1, nthread=3, min_child_weight=11, n_estimators=30, subsample=0.75, seed=1337, objective=binary:logistic, max_depth=5 -  14.2s\n"
     ]
    },
    {
     "name": "stderr",
     "output_type": "stream",
     "text": [
      "[Parallel(n_jobs=3)]: Done 359 tasks      | elapsed: 72.1min\n"
     ]
    },
    {
     "name": "stdout",
     "output_type": "stream",
     "text": [
      "[CV] colsample_bytree=0.7, silent=1, learning_rate=0.1, nthread=3, min_child_weight=11, n_estimators=30, subsample=0.75, seed=1337, objective=binary:logistic, max_depth=5 \n",
      "[CV]  colsample_bytree=0.7, silent=1, learning_rate=0.1, nthread=3, min_child_weight=1, n_estimators=80, subsample=0.75, seed=1337, objective=binary:logistic, max_depth=10 -  59.1s\n",
      "[CV] colsample_bytree=0.7, silent=1, learning_rate=0.1, nthread=3, min_child_weight=11, n_estimators=30, subsample=0.75, seed=1337, objective=binary:logistic, max_depth=5 \n",
      "[CV]  colsample_bytree=0.7, silent=1, learning_rate=0.1, nthread=3, min_child_weight=11, n_estimators=30, subsample=0.75, seed=1337, objective=binary:logistic, max_depth=5 -  13.9s\n",
      "[CV] colsample_bytree=0.7, silent=1, learning_rate=0.1, nthread=3, min_child_weight=11, n_estimators=30, subsample=0.75, seed=1337, objective=binary:logistic, max_depth=5 \n",
      "[CV]  colsample_bytree=0.7, silent=1, learning_rate=0.1, nthread=3, min_child_weight=11, n_estimators=30, subsample=0.75, seed=1337, objective=binary:logistic, max_depth=5 -  13.3s\n",
      "[CV] colsample_bytree=0.7, silent=1, learning_rate=0.1, nthread=3, min_child_weight=11, n_estimators=50, subsample=0.75, seed=1337, objective=binary:logistic, max_depth=5 \n",
      "[CV]  colsample_bytree=0.7, silent=1, learning_rate=0.1, nthread=3, min_child_weight=11, n_estimators=30, subsample=0.75, seed=1337, objective=binary:logistic, max_depth=5 -  12.8s\n",
      "[CV] colsample_bytree=0.7, silent=1, learning_rate=0.1, nthread=3, min_child_weight=11, n_estimators=50, subsample=0.75, seed=1337, objective=binary:logistic, max_depth=5 \n",
      "[CV]  colsample_bytree=0.7, silent=1, learning_rate=0.1, nthread=3, min_child_weight=1, n_estimators=80, subsample=0.75, seed=1337, objective=binary:logistic, max_depth=10 -  56.7s\n",
      "[CV] colsample_bytree=0.7, silent=1, learning_rate=0.1, nthread=3, min_child_weight=11, n_estimators=50, subsample=0.75, seed=1337, objective=binary:logistic, max_depth=5 \n",
      "[CV]  colsample_bytree=0.7, silent=1, learning_rate=0.1, nthread=3, min_child_weight=11, n_estimators=50, subsample=0.75, seed=1337, objective=binary:logistic, max_depth=5 -  21.1s\n",
      "[CV] colsample_bytree=0.7, silent=1, learning_rate=0.1, nthread=3, min_child_weight=11, n_estimators=50, subsample=0.75, seed=1337, objective=binary:logistic, max_depth=5 \n",
      "[CV]  colsample_bytree=0.7, silent=1, learning_rate=0.1, nthread=3, min_child_weight=11, n_estimators=50, subsample=0.75, seed=1337, objective=binary:logistic, max_depth=5 -  20.3s\n",
      "[CV] colsample_bytree=0.7, silent=1, learning_rate=0.1, nthread=3, min_child_weight=11, n_estimators=80, subsample=0.75, seed=1337, objective=binary:logistic, max_depth=5 \n",
      "[CV]  colsample_bytree=0.7, silent=1, learning_rate=0.1, nthread=3, min_child_weight=11, n_estimators=50, subsample=0.75, seed=1337, objective=binary:logistic, max_depth=5 -  19.6s\n",
      "[CV] colsample_bytree=0.7, silent=1, learning_rate=0.1, nthread=3, min_child_weight=11, n_estimators=80, subsample=0.75, seed=1337, objective=binary:logistic, max_depth=5 \n",
      "[CV]  colsample_bytree=0.7, silent=1, learning_rate=0.1, nthread=3, min_child_weight=11, n_estimators=50, subsample=0.75, seed=1337, objective=binary:logistic, max_depth=5 -  19.8s\n",
      "[CV] colsample_bytree=0.7, silent=1, learning_rate=0.1, nthread=3, min_child_weight=11, n_estimators=80, subsample=0.75, seed=1337, objective=binary:logistic, max_depth=5 \n",
      "[CV]  colsample_bytree=0.7, silent=1, learning_rate=0.1, nthread=3, min_child_weight=11, n_estimators=80, subsample=0.75, seed=1337, objective=binary:logistic, max_depth=5 -  32.1s\n",
      "[CV] colsample_bytree=0.7, silent=1, learning_rate=0.1, nthread=3, min_child_weight=11, n_estimators=80, subsample=0.75, seed=1337, objective=binary:logistic, max_depth=5 \n",
      "[CV]  colsample_bytree=0.7, silent=1, learning_rate=0.1, nthread=3, min_child_weight=11, n_estimators=80, subsample=0.75, seed=1337, objective=binary:logistic, max_depth=5 -  30.0s\n",
      "[CV] colsample_bytree=0.7, silent=1, learning_rate=0.1, nthread=3, min_child_weight=5, n_estimators=30, subsample=0.75, seed=1337, objective=binary:logistic, max_depth=5 \n",
      "[CV]  colsample_bytree=0.7, silent=1, learning_rate=0.1, nthread=3, min_child_weight=5, n_estimators=30, subsample=0.75, seed=1337, objective=binary:logistic, max_depth=5 -  13.9s\n",
      "[CV] colsample_bytree=0.7, silent=1, learning_rate=0.1, nthread=3, min_child_weight=5, n_estimators=30, subsample=0.75, seed=1337, objective=binary:logistic, max_depth=5 \n",
      "[CV]  colsample_bytree=0.7, silent=1, learning_rate=0.1, nthread=3, min_child_weight=11, n_estimators=80, subsample=0.75, seed=1337, objective=binary:logistic, max_depth=5 -  33.2s\n",
      "[CV] colsample_bytree=0.7, silent=1, learning_rate=0.1, nthread=3, min_child_weight=5, n_estimators=30, subsample=0.75, seed=1337, objective=binary:logistic, max_depth=5 \n",
      "[CV]  colsample_bytree=0.7, silent=1, learning_rate=0.1, nthread=3, min_child_weight=5, n_estimators=30, subsample=0.75, seed=1337, objective=binary:logistic, max_depth=5 -  13.2s\n",
      "[CV]  colsample_bytree=0.7, silent=1, learning_rate=0.1, nthread=3, min_child_weight=11, n_estimators=80, subsample=0.75, seed=1337, objective=binary:logistic, max_depth=5 -  29.9s\n",
      "[CV] colsample_bytree=0.7, silent=1, learning_rate=0.1, nthread=3, min_child_weight=5, n_estimators=30, subsample=0.75, seed=1337, objective=binary:logistic, max_depth=5 \n",
      "[CV] colsample_bytree=0.7, silent=1, learning_rate=0.1, nthread=3, min_child_weight=5, n_estimators=50, subsample=0.75, seed=1337, objective=binary:logistic, max_depth=5 \n",
      "[CV]  colsample_bytree=0.7, silent=1, learning_rate=0.1, nthread=3, min_child_weight=5, n_estimators=30, subsample=0.75, seed=1337, objective=binary:logistic, max_depth=5 -  13.3s\n",
      "[CV] colsample_bytree=0.7, silent=1, learning_rate=0.1, nthread=3, min_child_weight=5, n_estimators=50, subsample=0.75, seed=1337, objective=binary:logistic, max_depth=5 \n",
      "[CV]  colsample_bytree=0.7, silent=1, learning_rate=0.1, nthread=3, min_child_weight=5, n_estimators=30, subsample=0.75, seed=1337, objective=binary:logistic, max_depth=5 -  15.6s\n",
      "[CV] colsample_bytree=0.7, silent=1, learning_rate=0.1, nthread=3, min_child_weight=5, n_estimators=50, subsample=0.75, seed=1337, objective=binary:logistic, max_depth=5 \n",
      "[CV]  colsample_bytree=0.7, silent=1, learning_rate=0.1, nthread=3, min_child_weight=5, n_estimators=50, subsample=0.75, seed=1337, objective=binary:logistic, max_depth=5 -  19.2s\n",
      "[CV] colsample_bytree=0.7, silent=1, learning_rate=0.1, nthread=3, min_child_weight=5, n_estimators=50, subsample=0.75, seed=1337, objective=binary:logistic, max_depth=5 \n",
      "[CV]  colsample_bytree=0.7, silent=1, learning_rate=0.1, nthread=3, min_child_weight=5, n_estimators=50, subsample=0.75, seed=1337, objective=binary:logistic, max_depth=5 -  20.2s\n",
      "[CV] colsample_bytree=0.7, silent=1, learning_rate=0.1, nthread=3, min_child_weight=5, n_estimators=80, subsample=0.75, seed=1337, objective=binary:logistic, max_depth=5 \n",
      "[CV]  colsample_bytree=0.7, silent=1, learning_rate=0.1, nthread=3, min_child_weight=5, n_estimators=50, subsample=0.75, seed=1337, objective=binary:logistic, max_depth=5 -  20.3s\n",
      "[CV] colsample_bytree=0.7, silent=1, learning_rate=0.1, nthread=3, min_child_weight=5, n_estimators=80, subsample=0.75, seed=1337, objective=binary:logistic, max_depth=5 \n",
      "[CV]  colsample_bytree=0.7, silent=1, learning_rate=0.1, nthread=3, min_child_weight=5, n_estimators=50, subsample=0.75, seed=1337, objective=binary:logistic, max_depth=5 -  21.4s\n",
      "[CV] colsample_bytree=0.7, silent=1, learning_rate=0.1, nthread=3, min_child_weight=5, n_estimators=80, subsample=0.75, seed=1337, objective=binary:logistic, max_depth=5 \n",
      "[CV]  colsample_bytree=0.7, silent=1, learning_rate=0.1, nthread=3, min_child_weight=5, n_estimators=80, subsample=0.75, seed=1337, objective=binary:logistic, max_depth=5 -  31.8s\n",
      "[CV] colsample_bytree=0.7, silent=1, learning_rate=0.1, nthread=3, min_child_weight=5, n_estimators=80, subsample=0.75, seed=1337, objective=binary:logistic, max_depth=5 \n",
      "[CV]  colsample_bytree=0.7, silent=1, learning_rate=0.1, nthread=3, min_child_weight=5, n_estimators=80, subsample=0.75, seed=1337, objective=binary:logistic, max_depth=5 -  30.6s\n",
      "[CV] colsample_bytree=0.7, silent=1, learning_rate=0.1, nthread=3, min_child_weight=1, n_estimators=30, subsample=0.75, seed=1337, objective=binary:logistic, max_depth=5 \n",
      "[CV]  colsample_bytree=0.7, silent=1, learning_rate=0.1, nthread=3, min_child_weight=5, n_estimators=80, subsample=0.75, seed=1337, objective=binary:logistic, max_depth=5 -  32.6s\n",
      "[CV] colsample_bytree=0.7, silent=1, learning_rate=0.1, nthread=3, min_child_weight=1, n_estimators=30, subsample=0.75, seed=1337, objective=binary:logistic, max_depth=5 \n",
      "[CV]  colsample_bytree=0.7, silent=1, learning_rate=0.1, nthread=3, min_child_weight=1, n_estimators=30, subsample=0.75, seed=1337, objective=binary:logistic, max_depth=5 -  12.6s\n",
      "[CV] colsample_bytree=0.7, silent=1, learning_rate=0.1, nthread=3, min_child_weight=1, n_estimators=30, subsample=0.75, seed=1337, objective=binary:logistic, max_depth=5 \n",
      "[CV]  colsample_bytree=0.7, silent=1, learning_rate=0.1, nthread=3, min_child_weight=5, n_estimators=80, subsample=0.75, seed=1337, objective=binary:logistic, max_depth=5 -  31.4s\n",
      "[CV] colsample_bytree=0.7, silent=1, learning_rate=0.1, nthread=3, min_child_weight=1, n_estimators=30, subsample=0.75, seed=1337, objective=binary:logistic, max_depth=5 \n",
      "[CV]  colsample_bytree=0.7, silent=1, learning_rate=0.1, nthread=3, min_child_weight=1, n_estimators=30, subsample=0.75, seed=1337, objective=binary:logistic, max_depth=5 -  12.9s\n",
      "[CV] colsample_bytree=0.7, silent=1, learning_rate=0.1, nthread=3, min_child_weight=1, n_estimators=50, subsample=0.75, seed=1337, objective=binary:logistic, max_depth=5 \n",
      "[CV]  colsample_bytree=0.7, silent=1, learning_rate=0.1, nthread=3, min_child_weight=1, n_estimators=30, subsample=0.75, seed=1337, objective=binary:logistic, max_depth=5 -  12.6s\n",
      "[CV] colsample_bytree=0.7, silent=1, learning_rate=0.1, nthread=3, min_child_weight=1, n_estimators=50, subsample=0.75, seed=1337, objective=binary:logistic, max_depth=5 \n",
      "[CV]  colsample_bytree=0.7, silent=1, learning_rate=0.1, nthread=3, min_child_weight=1, n_estimators=30, subsample=0.75, seed=1337, objective=binary:logistic, max_depth=5 -  12.9s\n",
      "[CV] colsample_bytree=0.7, silent=1, learning_rate=0.1, nthread=3, min_child_weight=1, n_estimators=50, subsample=0.75, seed=1337, objective=binary:logistic, max_depth=5 \n",
      "[CV]  colsample_bytree=0.7, silent=1, learning_rate=0.1, nthread=3, min_child_weight=1, n_estimators=50, subsample=0.75, seed=1337, objective=binary:logistic, max_depth=5 -  21.4s\n",
      "[CV] colsample_bytree=0.7, silent=1, learning_rate=0.1, nthread=3, min_child_weight=1, n_estimators=50, subsample=0.75, seed=1337, objective=binary:logistic, max_depth=5 \n",
      "[CV]  colsample_bytree=0.7, silent=1, learning_rate=0.1, nthread=3, min_child_weight=1, n_estimators=50, subsample=0.75, seed=1337, objective=binary:logistic, max_depth=5 -  19.1s\n",
      "[CV] colsample_bytree=0.7, silent=1, learning_rate=0.1, nthread=3, min_child_weight=1, n_estimators=80, subsample=0.75, seed=1337, objective=binary:logistic, max_depth=5 \n",
      "[CV]  colsample_bytree=0.7, silent=1, learning_rate=0.1, nthread=3, min_child_weight=1, n_estimators=50, subsample=0.75, seed=1337, objective=binary:logistic, max_depth=5 -  21.0s\n",
      "[CV] colsample_bytree=0.7, silent=1, learning_rate=0.1, nthread=3, min_child_weight=1, n_estimators=80, subsample=0.75, seed=1337, objective=binary:logistic, max_depth=5 \n",
      "[CV]  colsample_bytree=0.7, silent=1, learning_rate=0.1, nthread=3, min_child_weight=1, n_estimators=50, subsample=0.75, seed=1337, objective=binary:logistic, max_depth=5 -  19.9s\n",
      "[CV] colsample_bytree=0.7, silent=1, learning_rate=0.1, nthread=3, min_child_weight=1, n_estimators=80, subsample=0.75, seed=1337, objective=binary:logistic, max_depth=5 \n",
      "[CV]  colsample_bytree=0.7, silent=1, learning_rate=0.1, nthread=3, min_child_weight=1, n_estimators=80, subsample=0.75, seed=1337, objective=binary:logistic, max_depth=5 -  32.7s\n",
      "[CV] colsample_bytree=0.7, silent=1, learning_rate=0.1, nthread=3, min_child_weight=1, n_estimators=80, subsample=0.75, seed=1337, objective=binary:logistic, max_depth=5 \n",
      "[CV]  colsample_bytree=0.7, silent=1, learning_rate=0.1, nthread=3, min_child_weight=1, n_estimators=80, subsample=0.75, seed=1337, objective=binary:logistic, max_depth=5 -  30.7s\n",
      "[CV] colsample_bytree=0.7, silent=1, learning_rate=0.1, nthread=3, min_child_weight=11, n_estimators=30, subsample=0.75, seed=1337, objective=binary:logistic, max_depth=15 \n",
      "[CV]  colsample_bytree=0.7, silent=1, learning_rate=0.1, nthread=3, min_child_weight=1, n_estimators=80, subsample=0.75, seed=1337, objective=binary:logistic, max_depth=5 -  33.4s\n",
      "[CV] colsample_bytree=0.7, silent=1, learning_rate=0.1, nthread=3, min_child_weight=11, n_estimators=30, subsample=0.75, seed=1337, objective=binary:logistic, max_depth=15 \n",
      "[CV]  colsample_bytree=0.7, silent=1, learning_rate=0.1, nthread=3, min_child_weight=1, n_estimators=80, subsample=0.75, seed=1337, objective=binary:logistic, max_depth=5 -  30.3s\n",
      "[CV] colsample_bytree=0.7, silent=1, learning_rate=0.1, nthread=3, min_child_weight=11, n_estimators=30, subsample=0.75, seed=1337, objective=binary:logistic, max_depth=15 \n",
      "[CV]  colsample_bytree=0.7, silent=1, learning_rate=0.1, nthread=3, min_child_weight=11, n_estimators=30, subsample=0.75, seed=1337, objective=binary:logistic, max_depth=15 -  27.7s\n",
      "[CV] colsample_bytree=0.7, silent=1, learning_rate=0.1, nthread=3, min_child_weight=11, n_estimators=30, subsample=0.75, seed=1337, objective=binary:logistic, max_depth=15 \n",
      "[CV]  colsample_bytree=0.7, silent=1, learning_rate=0.1, nthread=3, min_child_weight=11, n_estimators=30, subsample=0.75, seed=1337, objective=binary:logistic, max_depth=15 -  27.3s\n",
      "[CV] colsample_bytree=0.7, silent=1, learning_rate=0.1, nthread=3, min_child_weight=11, n_estimators=50, subsample=0.75, seed=1337, objective=binary:logistic, max_depth=15 \n",
      "[CV]  colsample_bytree=0.7, silent=1, learning_rate=0.1, nthread=3, min_child_weight=11, n_estimators=30, subsample=0.75, seed=1337, objective=binary:logistic, max_depth=15 -  27.9s\n",
      "[CV] colsample_bytree=0.7, silent=1, learning_rate=0.1, nthread=3, min_child_weight=11, n_estimators=50, subsample=0.75, seed=1337, objective=binary:logistic, max_depth=15 \n",
      "[CV]  colsample_bytree=0.7, silent=1, learning_rate=0.1, nthread=3, min_child_weight=11, n_estimators=30, subsample=0.75, seed=1337, objective=binary:logistic, max_depth=15 -  29.2s\n",
      "[CV] colsample_bytree=0.7, silent=1, learning_rate=0.1, nthread=3, min_child_weight=11, n_estimators=50, subsample=0.75, seed=1337, objective=binary:logistic, max_depth=15 \n",
      "[CV]  colsample_bytree=0.7, silent=1, learning_rate=0.1, nthread=3, min_child_weight=11, n_estimators=50, subsample=0.75, seed=1337, objective=binary:logistic, max_depth=15 -  49.5s\n",
      "[CV] colsample_bytree=0.7, silent=1, learning_rate=0.1, nthread=3, min_child_weight=11, n_estimators=50, subsample=0.75, seed=1337, objective=binary:logistic, max_depth=15 \n",
      "[CV]  colsample_bytree=0.7, silent=1, learning_rate=0.1, nthread=3, min_child_weight=11, n_estimators=50, subsample=0.75, seed=1337, objective=binary:logistic, max_depth=15 -  48.0s\n",
      "[CV] colsample_bytree=0.7, silent=1, learning_rate=0.1, nthread=3, min_child_weight=11, n_estimators=80, subsample=0.75, seed=1337, objective=binary:logistic, max_depth=15 \n",
      "[CV]  colsample_bytree=0.7, silent=1, learning_rate=0.1, nthread=3, min_child_weight=11, n_estimators=50, subsample=0.75, seed=1337, objective=binary:logistic, max_depth=15 -  48.2s\n",
      "[CV] colsample_bytree=0.7, silent=1, learning_rate=0.1, nthread=3, min_child_weight=11, n_estimators=80, subsample=0.75, seed=1337, objective=binary:logistic, max_depth=15 \n",
      "[CV]  colsample_bytree=0.7, silent=1, learning_rate=0.1, nthread=3, min_child_weight=11, n_estimators=50, subsample=0.75, seed=1337, objective=binary:logistic, max_depth=15 -  52.0s\n",
      "[CV] colsample_bytree=0.7, silent=1, learning_rate=0.1, nthread=3, min_child_weight=11, n_estimators=80, subsample=0.75, seed=1337, objective=binary:logistic, max_depth=15 \n",
      "[CV]  colsample_bytree=0.7, silent=1, learning_rate=0.1, nthread=3, min_child_weight=11, n_estimators=80, subsample=0.75, seed=1337, objective=binary:logistic, max_depth=15 - 1.3min\n",
      "[CV] colsample_bytree=0.7, silent=1, learning_rate=0.1, nthread=3, min_child_weight=11, n_estimators=80, subsample=0.75, seed=1337, objective=binary:logistic, max_depth=15 \n",
      "[CV]  colsample_bytree=0.7, silent=1, learning_rate=0.1, nthread=3, min_child_weight=11, n_estimators=80, subsample=0.75, seed=1337, objective=binary:logistic, max_depth=15 - 1.4min\n",
      "[CV] colsample_bytree=0.7, silent=1, learning_rate=0.1, nthread=3, min_child_weight=5, n_estimators=30, subsample=0.75, seed=1337, objective=binary:logistic, max_depth=15 \n",
      "[CV]  colsample_bytree=0.7, silent=1, learning_rate=0.1, nthread=3, min_child_weight=5, n_estimators=30, subsample=0.75, seed=1337, objective=binary:logistic, max_depth=15 -  32.9s\n",
      "[CV] colsample_bytree=0.7, silent=1, learning_rate=0.1, nthread=3, min_child_weight=5, n_estimators=30, subsample=0.75, seed=1337, objective=binary:logistic, max_depth=15 \n",
      "[CV]  colsample_bytree=0.7, silent=1, learning_rate=0.1, nthread=3, min_child_weight=11, n_estimators=80, subsample=0.75, seed=1337, objective=binary:logistic, max_depth=15 - 1.4min\n",
      "[CV] colsample_bytree=0.7, silent=1, learning_rate=0.1, nthread=3, min_child_weight=5, n_estimators=30, subsample=0.75, seed=1337, objective=binary:logistic, max_depth=15 \n",
      "[CV]  colsample_bytree=0.7, silent=1, learning_rate=0.1, nthread=3, min_child_weight=5, n_estimators=30, subsample=0.75, seed=1337, objective=binary:logistic, max_depth=15 -  30.5s\n",
      "[CV] colsample_bytree=0.7, silent=1, learning_rate=0.1, nthread=3, min_child_weight=5, n_estimators=30, subsample=0.75, seed=1337, objective=binary:logistic, max_depth=15 \n",
      "[CV]  colsample_bytree=0.7, silent=1, learning_rate=0.1, nthread=3, min_child_weight=5, n_estimators=30, subsample=0.75, seed=1337, objective=binary:logistic, max_depth=15 -  34.2s\n",
      "[CV] colsample_bytree=0.7, silent=1, learning_rate=0.1, nthread=3, min_child_weight=5, n_estimators=50, subsample=0.75, seed=1337, objective=binary:logistic, max_depth=15 \n",
      "[CV]  colsample_bytree=0.7, silent=1, learning_rate=0.1, nthread=3, min_child_weight=11, n_estimators=80, subsample=0.75, seed=1337, objective=binary:logistic, max_depth=15 - 1.3min\n",
      "[CV] colsample_bytree=0.7, silent=1, learning_rate=0.1, nthread=3, min_child_weight=5, n_estimators=50, subsample=0.75, seed=1337, objective=binary:logistic, max_depth=15 \n",
      "[CV]  colsample_bytree=0.7, silent=1, learning_rate=0.1, nthread=3, min_child_weight=5, n_estimators=30, subsample=0.75, seed=1337, objective=binary:logistic, max_depth=15 -  34.5s\n",
      "[CV] colsample_bytree=0.7, silent=1, learning_rate=0.1, nthread=3, min_child_weight=5, n_estimators=50, subsample=0.75, seed=1337, objective=binary:logistic, max_depth=15 \n",
      "[CV]  colsample_bytree=0.7, silent=1, learning_rate=0.1, nthread=3, min_child_weight=5, n_estimators=50, subsample=0.75, seed=1337, objective=binary:logistic, max_depth=15 -  50.6s\n",
      "[CV] colsample_bytree=0.7, silent=1, learning_rate=0.1, nthread=3, min_child_weight=5, n_estimators=50, subsample=0.75, seed=1337, objective=binary:logistic, max_depth=15 \n",
      "[CV]  colsample_bytree=0.7, silent=1, learning_rate=0.1, nthread=3, min_child_weight=5, n_estimators=50, subsample=0.75, seed=1337, objective=binary:logistic, max_depth=15 -  55.4s\n",
      "[CV] colsample_bytree=0.7, silent=1, learning_rate=0.1, nthread=3, min_child_weight=5, n_estimators=80, subsample=0.75, seed=1337, objective=binary:logistic, max_depth=15 \n",
      "[CV]  colsample_bytree=0.7, silent=1, learning_rate=0.1, nthread=3, min_child_weight=5, n_estimators=50, subsample=0.75, seed=1337, objective=binary:logistic, max_depth=15 -  56.3s\n",
      "[CV] colsample_bytree=0.7, silent=1, learning_rate=0.1, nthread=3, min_child_weight=5, n_estimators=80, subsample=0.75, seed=1337, objective=binary:logistic, max_depth=15 \n",
      "[CV]  colsample_bytree=0.7, silent=1, learning_rate=0.1, nthread=3, min_child_weight=5, n_estimators=50, subsample=0.75, seed=1337, objective=binary:logistic, max_depth=15 -  54.6s\n",
      "[CV] colsample_bytree=0.7, silent=1, learning_rate=0.1, nthread=3, min_child_weight=5, n_estimators=80, subsample=0.75, seed=1337, objective=binary:logistic, max_depth=15 \n",
      "[CV]  colsample_bytree=0.7, silent=1, learning_rate=0.1, nthread=3, min_child_weight=5, n_estimators=80, subsample=0.75, seed=1337, objective=binary:logistic, max_depth=15 - 1.4min\n",
      "[CV] colsample_bytree=0.7, silent=1, learning_rate=0.1, nthread=3, min_child_weight=5, n_estimators=80, subsample=0.75, seed=1337, objective=binary:logistic, max_depth=15 \n",
      "[CV]  colsample_bytree=0.7, silent=1, learning_rate=0.1, nthread=3, min_child_weight=5, n_estimators=80, subsample=0.75, seed=1337, objective=binary:logistic, max_depth=15 - 1.4min\n",
      "[CV] colsample_bytree=0.7, silent=1, learning_rate=0.1, nthread=3, min_child_weight=1, n_estimators=30, subsample=0.75, seed=1337, objective=binary:logistic, max_depth=15 \n",
      "[CV]  colsample_bytree=0.7, silent=1, learning_rate=0.1, nthread=3, min_child_weight=5, n_estimators=80, subsample=0.75, seed=1337, objective=binary:logistic, max_depth=15 - 1.4min\n",
      "[CV] colsample_bytree=0.7, silent=1, learning_rate=0.1, nthread=3, min_child_weight=1, n_estimators=30, subsample=0.75, seed=1337, objective=binary:logistic, max_depth=15 \n",
      "[CV]  colsample_bytree=0.7, silent=1, learning_rate=0.1, nthread=3, min_child_weight=1, n_estimators=30, subsample=0.75, seed=1337, objective=binary:logistic, max_depth=15 -  36.0s\n",
      "[CV] colsample_bytree=0.7, silent=1, learning_rate=0.1, nthread=3, min_child_weight=1, n_estimators=30, subsample=0.75, seed=1337, objective=binary:logistic, max_depth=15 \n",
      "[CV]  colsample_bytree=0.7, silent=1, learning_rate=0.1, nthread=3, min_child_weight=5, n_estimators=80, subsample=0.75, seed=1337, objective=binary:logistic, max_depth=15 - 1.4min\n",
      "[CV] colsample_bytree=0.7, silent=1, learning_rate=0.1, nthread=3, min_child_weight=1, n_estimators=30, subsample=0.75, seed=1337, objective=binary:logistic, max_depth=15 \n",
      "[CV]  colsample_bytree=0.7, silent=1, learning_rate=0.1, nthread=3, min_child_weight=1, n_estimators=30, subsample=0.75, seed=1337, objective=binary:logistic, max_depth=15 -  33.7s\n",
      "[CV] colsample_bytree=0.7, silent=1, learning_rate=0.1, nthread=3, min_child_weight=1, n_estimators=50, subsample=0.75, seed=1337, objective=binary:logistic, max_depth=15 \n",
      "[CV]  colsample_bytree=0.7, silent=1, learning_rate=0.1, nthread=3, min_child_weight=1, n_estimators=30, subsample=0.75, seed=1337, objective=binary:logistic, max_depth=15 -  31.3s\n",
      "[CV] colsample_bytree=0.7, silent=1, learning_rate=0.1, nthread=3, min_child_weight=1, n_estimators=50, subsample=0.75, seed=1337, objective=binary:logistic, max_depth=15 \n",
      "[CV]  colsample_bytree=0.7, silent=1, learning_rate=0.1, nthread=3, min_child_weight=1, n_estimators=30, subsample=0.75, seed=1337, objective=binary:logistic, max_depth=15 -  31.7s\n",
      "[CV] colsample_bytree=0.7, silent=1, learning_rate=0.1, nthread=3, min_child_weight=1, n_estimators=50, subsample=0.75, seed=1337, objective=binary:logistic, max_depth=15 \n",
      "[CV]  colsample_bytree=0.7, silent=1, learning_rate=0.1, nthread=3, min_child_weight=1, n_estimators=50, subsample=0.75, seed=1337, objective=binary:logistic, max_depth=15 -  56.2s\n",
      "[CV] colsample_bytree=0.7, silent=1, learning_rate=0.1, nthread=3, min_child_weight=1, n_estimators=50, subsample=0.75, seed=1337, objective=binary:logistic, max_depth=15 \n",
      "[CV]  colsample_bytree=0.7, silent=1, learning_rate=0.1, nthread=3, min_child_weight=1, n_estimators=50, subsample=0.75, seed=1337, objective=binary:logistic, max_depth=15 -  57.8s\n",
      "[CV] colsample_bytree=0.7, silent=1, learning_rate=0.1, nthread=3, min_child_weight=1, n_estimators=80, subsample=0.75, seed=1337, objective=binary:logistic, max_depth=15 \n",
      "[CV]  colsample_bytree=0.7, silent=1, learning_rate=0.1, nthread=3, min_child_weight=1, n_estimators=50, subsample=0.75, seed=1337, objective=binary:logistic, max_depth=15 -  52.8s\n",
      "[CV] colsample_bytree=0.7, silent=1, learning_rate=0.1, nthread=3, min_child_weight=1, n_estimators=80, subsample=0.75, seed=1337, objective=binary:logistic, max_depth=15 \n",
      "[CV]  colsample_bytree=0.7, silent=1, learning_rate=0.1, nthread=3, min_child_weight=1, n_estimators=50, subsample=0.75, seed=1337, objective=binary:logistic, max_depth=15 -  57.7s\n",
      "[CV] colsample_bytree=0.7, silent=1, learning_rate=0.1, nthread=3, min_child_weight=1, n_estimators=80, subsample=0.75, seed=1337, objective=binary:logistic, max_depth=15 \n",
      "[CV]  colsample_bytree=0.7, silent=1, learning_rate=0.1, nthread=3, min_child_weight=1, n_estimators=80, subsample=0.75, seed=1337, objective=binary:logistic, max_depth=15 - 1.5min\n",
      "[CV] colsample_bytree=0.7, silent=1, learning_rate=0.1, nthread=3, min_child_weight=1, n_estimators=80, subsample=0.75, seed=1337, objective=binary:logistic, max_depth=15 \n",
      "[CV]  colsample_bytree=0.7, silent=1, learning_rate=0.1, nthread=3, min_child_weight=1, n_estimators=80, subsample=0.75, seed=1337, objective=binary:logistic, max_depth=15 - 1.5min\n",
      "[CV] colsample_bytree=0.7, silent=1, learning_rate=0.5, nthread=3, min_child_weight=11, n_estimators=30, subsample=0.75, seed=1337, objective=binary:logistic, max_depth=10 \n",
      "[CV]  colsample_bytree=0.7, silent=1, learning_rate=0.5, nthread=3, min_child_weight=11, n_estimators=30, subsample=0.75, seed=1337, objective=binary:logistic, max_depth=10 -  22.1s\n",
      "[CV] colsample_bytree=0.7, silent=1, learning_rate=0.5, nthread=3, min_child_weight=11, n_estimators=30, subsample=0.75, seed=1337, objective=binary:logistic, max_depth=10 \n",
      "[CV]  colsample_bytree=0.7, silent=1, learning_rate=0.1, nthread=3, min_child_weight=1, n_estimators=80, subsample=0.75, seed=1337, objective=binary:logistic, max_depth=15 - 1.5min\n",
      "[CV] colsample_bytree=0.7, silent=1, learning_rate=0.5, nthread=3, min_child_weight=11, n_estimators=30, subsample=0.75, seed=1337, objective=binary:logistic, max_depth=10 \n",
      "[CV]  colsample_bytree=0.7, silent=1, learning_rate=0.5, nthread=3, min_child_weight=11, n_estimators=30, subsample=0.75, seed=1337, objective=binary:logistic, max_depth=10 -  23.2s\n",
      "[CV] colsample_bytree=0.7, silent=1, learning_rate=0.5, nthread=3, min_child_weight=11, n_estimators=30, subsample=0.75, seed=1337, objective=binary:logistic, max_depth=10 \n",
      "[CV]  colsample_bytree=0.7, silent=1, learning_rate=0.5, nthread=3, min_child_weight=11, n_estimators=30, subsample=0.75, seed=1337, objective=binary:logistic, max_depth=10 -  22.4s\n",
      "[CV] colsample_bytree=0.7, silent=1, learning_rate=0.5, nthread=3, min_child_weight=11, n_estimators=50, subsample=0.75, seed=1337, objective=binary:logistic, max_depth=10 \n",
      "[CV]  colsample_bytree=0.7, silent=1, learning_rate=0.1, nthread=3, min_child_weight=1, n_estimators=80, subsample=0.75, seed=1337, objective=binary:logistic, max_depth=15 - 1.5min\n",
      "[CV] colsample_bytree=0.7, silent=1, learning_rate=0.5, nthread=3, min_child_weight=11, n_estimators=50, subsample=0.75, seed=1337, objective=binary:logistic, max_depth=10 \n",
      "[CV]  colsample_bytree=0.7, silent=1, learning_rate=0.5, nthread=3, min_child_weight=11, n_estimators=30, subsample=0.75, seed=1337, objective=binary:logistic, max_depth=10 -  25.2s\n",
      "[CV] colsample_bytree=0.7, silent=1, learning_rate=0.5, nthread=3, min_child_weight=11, n_estimators=50, subsample=0.75, seed=1337, objective=binary:logistic, max_depth=10 \n",
      "[CV]  colsample_bytree=0.7, silent=1, learning_rate=0.5, nthread=3, min_child_weight=11, n_estimators=50, subsample=0.75, seed=1337, objective=binary:logistic, max_depth=10 -  36.6s\n",
      "[CV] colsample_bytree=0.7, silent=1, learning_rate=0.5, nthread=3, min_child_weight=11, n_estimators=50, subsample=0.75, seed=1337, objective=binary:logistic, max_depth=10 \n",
      "[CV]  colsample_bytree=0.7, silent=1, learning_rate=0.5, nthread=3, min_child_weight=11, n_estimators=50, subsample=0.75, seed=1337, objective=binary:logistic, max_depth=10 -  36.3s\n",
      "[CV] colsample_bytree=0.7, silent=1, learning_rate=0.5, nthread=3, min_child_weight=11, n_estimators=80, subsample=0.75, seed=1337, objective=binary:logistic, max_depth=10 \n",
      "[CV]  colsample_bytree=0.7, silent=1, learning_rate=0.5, nthread=3, min_child_weight=11, n_estimators=50, subsample=0.75, seed=1337, objective=binary:logistic, max_depth=10 -  37.6s\n",
      "[CV] colsample_bytree=0.7, silent=1, learning_rate=0.5, nthread=3, min_child_weight=11, n_estimators=80, subsample=0.75, seed=1337, objective=binary:logistic, max_depth=10 \n",
      "[CV]  colsample_bytree=0.7, silent=1, learning_rate=0.5, nthread=3, min_child_weight=11, n_estimators=50, subsample=0.75, seed=1337, objective=binary:logistic, max_depth=10 -  39.4s\n",
      "[CV] colsample_bytree=0.7, silent=1, learning_rate=0.5, nthread=3, min_child_weight=11, n_estimators=80, subsample=0.75, seed=1337, objective=binary:logistic, max_depth=10 \n",
      "[CV]  colsample_bytree=0.7, silent=1, learning_rate=0.5, nthread=3, min_child_weight=11, n_estimators=80, subsample=0.75, seed=1337, objective=binary:logistic, max_depth=10 -  55.7s\n",
      "[CV] colsample_bytree=0.7, silent=1, learning_rate=0.5, nthread=3, min_child_weight=11, n_estimators=80, subsample=0.75, seed=1337, objective=binary:logistic, max_depth=10 \n",
      "[CV]  colsample_bytree=0.7, silent=1, learning_rate=0.5, nthread=3, min_child_weight=11, n_estimators=80, subsample=0.75, seed=1337, objective=binary:logistic, max_depth=10 -  59.3s\n",
      "[CV] colsample_bytree=0.7, silent=1, learning_rate=0.5, nthread=3, min_child_weight=5, n_estimators=30, subsample=0.75, seed=1337, objective=binary:logistic, max_depth=10 \n",
      "[CV]  colsample_bytree=0.7, silent=1, learning_rate=0.5, nthread=3, min_child_weight=11, n_estimators=80, subsample=0.75, seed=1337, objective=binary:logistic, max_depth=10 -  59.5s\n",
      "[CV] colsample_bytree=0.7, silent=1, learning_rate=0.5, nthread=3, min_child_weight=5, n_estimators=30, subsample=0.75, seed=1337, objective=binary:logistic, max_depth=10 \n",
      "[CV]  colsample_bytree=0.7, silent=1, learning_rate=0.5, nthread=3, min_child_weight=5, n_estimators=30, subsample=0.75, seed=1337, objective=binary:logistic, max_depth=10 -  23.4s\n",
      "[CV] colsample_bytree=0.7, silent=1, learning_rate=0.5, nthread=3, min_child_weight=5, n_estimators=30, subsample=0.75, seed=1337, objective=binary:logistic, max_depth=10 \n",
      "[CV]  colsample_bytree=0.7, silent=1, learning_rate=0.5, nthread=3, min_child_weight=5, n_estimators=30, subsample=0.75, seed=1337, objective=binary:logistic, max_depth=10 -  24.1s\n",
      "[CV] colsample_bytree=0.7, silent=1, learning_rate=0.5, nthread=3, min_child_weight=5, n_estimators=30, subsample=0.75, seed=1337, objective=binary:logistic, max_depth=10 \n",
      "[CV]  colsample_bytree=0.7, silent=1, learning_rate=0.5, nthread=3, min_child_weight=5, n_estimators=30, subsample=0.75, seed=1337, objective=binary:logistic, max_depth=10 -  24.0s\n",
      "[CV] colsample_bytree=0.7, silent=1, learning_rate=0.5, nthread=3, min_child_weight=5, n_estimators=50, subsample=0.75, seed=1337, objective=binary:logistic, max_depth=10 \n",
      "[CV]  colsample_bytree=0.7, silent=1, learning_rate=0.5, nthread=3, min_child_weight=11, n_estimators=80, subsample=0.75, seed=1337, objective=binary:logistic, max_depth=10 -  55.9s\n",
      "[CV] colsample_bytree=0.7, silent=1, learning_rate=0.5, nthread=3, min_child_weight=5, n_estimators=50, subsample=0.75, seed=1337, objective=binary:logistic, max_depth=10 \n",
      "[CV]  colsample_bytree=0.7, silent=1, learning_rate=0.5, nthread=3, min_child_weight=5, n_estimators=30, subsample=0.75, seed=1337, objective=binary:logistic, max_depth=10 -  23.1s\n",
      "[CV] colsample_bytree=0.7, silent=1, learning_rate=0.5, nthread=3, min_child_weight=5, n_estimators=50, subsample=0.75, seed=1337, objective=binary:logistic, max_depth=10 \n",
      "[CV]  colsample_bytree=0.7, silent=1, learning_rate=0.5, nthread=3, min_child_weight=5, n_estimators=50, subsample=0.75, seed=1337, objective=binary:logistic, max_depth=10 -  37.1s\n",
      "[CV] colsample_bytree=0.7, silent=1, learning_rate=0.5, nthread=3, min_child_weight=5, n_estimators=50, subsample=0.75, seed=1337, objective=binary:logistic, max_depth=10 \n",
      "[CV]  colsample_bytree=0.7, silent=1, learning_rate=0.5, nthread=3, min_child_weight=5, n_estimators=50, subsample=0.75, seed=1337, objective=binary:logistic, max_depth=10 -  37.4s\n",
      "[CV] colsample_bytree=0.7, silent=1, learning_rate=0.5, nthread=3, min_child_weight=5, n_estimators=80, subsample=0.75, seed=1337, objective=binary:logistic, max_depth=10 \n",
      "[CV]  colsample_bytree=0.7, silent=1, learning_rate=0.5, nthread=3, min_child_weight=5, n_estimators=50, subsample=0.75, seed=1337, objective=binary:logistic, max_depth=10 -  38.6s\n",
      "[CV] colsample_bytree=0.7, silent=1, learning_rate=0.5, nthread=3, min_child_weight=5, n_estimators=80, subsample=0.75, seed=1337, objective=binary:logistic, max_depth=10 \n",
      "[CV]  colsample_bytree=0.7, silent=1, learning_rate=0.5, nthread=3, min_child_weight=5, n_estimators=50, subsample=0.75, seed=1337, objective=binary:logistic, max_depth=10 -  36.2s\n",
      "[CV] colsample_bytree=0.7, silent=1, learning_rate=0.5, nthread=3, min_child_weight=5, n_estimators=80, subsample=0.75, seed=1337, objective=binary:logistic, max_depth=10 \n",
      "[CV]  colsample_bytree=0.7, silent=1, learning_rate=0.5, nthread=3, min_child_weight=5, n_estimators=80, subsample=0.75, seed=1337, objective=binary:logistic, max_depth=10 -  58.4s\n",
      "[CV] colsample_bytree=0.7, silent=1, learning_rate=0.5, nthread=3, min_child_weight=5, n_estimators=80, subsample=0.75, seed=1337, objective=binary:logistic, max_depth=10 \n",
      "[CV]  colsample_bytree=0.7, silent=1, learning_rate=0.5, nthread=3, min_child_weight=5, n_estimators=80, subsample=0.75, seed=1337, objective=binary:logistic, max_depth=10 -  57.8s\n",
      "[CV] colsample_bytree=0.7, silent=1, learning_rate=0.5, nthread=3, min_child_weight=1, n_estimators=30, subsample=0.75, seed=1337, objective=binary:logistic, max_depth=10 \n",
      "[CV]  colsample_bytree=0.7, silent=1, learning_rate=0.5, nthread=3, min_child_weight=5, n_estimators=80, subsample=0.75, seed=1337, objective=binary:logistic, max_depth=10 -  57.9s\n",
      "[CV] colsample_bytree=0.7, silent=1, learning_rate=0.5, nthread=3, min_child_weight=1, n_estimators=30, subsample=0.75, seed=1337, objective=binary:logistic, max_depth=10 \n",
      "[CV]  colsample_bytree=0.7, silent=1, learning_rate=0.5, nthread=3, min_child_weight=1, n_estimators=30, subsample=0.75, seed=1337, objective=binary:logistic, max_depth=10 -  22.4s\n",
      "[CV] colsample_bytree=0.7, silent=1, learning_rate=0.5, nthread=3, min_child_weight=1, n_estimators=30, subsample=0.75, seed=1337, objective=binary:logistic, max_depth=10 \n",
      "[CV]  colsample_bytree=0.7, silent=1, learning_rate=0.5, nthread=3, min_child_weight=5, n_estimators=80, subsample=0.75, seed=1337, objective=binary:logistic, max_depth=10 -  57.6s\n",
      "[CV]  colsample_bytree=0.7, silent=1, learning_rate=0.5, nthread=3, min_child_weight=1, n_estimators=30, subsample=0.75, seed=1337, objective=binary:logistic, max_depth=10 -  24.4s\n",
      "[CV] colsample_bytree=0.7, silent=1, learning_rate=0.5, nthread=3, min_child_weight=1, n_estimators=30, subsample=0.75, seed=1337, objective=binary:logistic, max_depth=10 \n",
      "[CV] colsample_bytree=0.7, silent=1, learning_rate=0.5, nthread=3, min_child_weight=1, n_estimators=50, subsample=0.75, seed=1337, objective=binary:logistic, max_depth=10 \n",
      "[CV]  colsample_bytree=0.7, silent=1, learning_rate=0.5, nthread=3, min_child_weight=1, n_estimators=30, subsample=0.75, seed=1337, objective=binary:logistic, max_depth=10 -  26.3s\n",
      "[CV] colsample_bytree=0.7, silent=1, learning_rate=0.5, nthread=3, min_child_weight=1, n_estimators=50, subsample=0.75, seed=1337, objective=binary:logistic, max_depth=10 \n",
      "[CV]  colsample_bytree=0.7, silent=1, learning_rate=0.5, nthread=3, min_child_weight=1, n_estimators=30, subsample=0.75, seed=1337, objective=binary:logistic, max_depth=10 -  23.8s\n",
      "[CV] colsample_bytree=0.7, silent=1, learning_rate=0.5, nthread=3, min_child_weight=1, n_estimators=50, subsample=0.75, seed=1337, objective=binary:logistic, max_depth=10 \n",
      "[CV]  colsample_bytree=0.7, silent=1, learning_rate=0.5, nthread=3, min_child_weight=1, n_estimators=50, subsample=0.75, seed=1337, objective=binary:logistic, max_depth=10 -  37.5s\n",
      "[CV] colsample_bytree=0.7, silent=1, learning_rate=0.5, nthread=3, min_child_weight=1, n_estimators=50, subsample=0.75, seed=1337, objective=binary:logistic, max_depth=10 \n",
      "[CV]  colsample_bytree=0.7, silent=1, learning_rate=0.5, nthread=3, min_child_weight=1, n_estimators=50, subsample=0.75, seed=1337, objective=binary:logistic, max_depth=10 -  38.8s\n",
      "[CV] colsample_bytree=0.7, silent=1, learning_rate=0.5, nthread=3, min_child_weight=1, n_estimators=80, subsample=0.75, seed=1337, objective=binary:logistic, max_depth=10 \n",
      "[CV]  colsample_bytree=0.7, silent=1, learning_rate=0.5, nthread=3, min_child_weight=1, n_estimators=50, subsample=0.75, seed=1337, objective=binary:logistic, max_depth=10 -  36.8s\n",
      "[CV] colsample_bytree=0.7, silent=1, learning_rate=0.5, nthread=3, min_child_weight=1, n_estimators=80, subsample=0.75, seed=1337, objective=binary:logistic, max_depth=10 \n",
      "[CV]  colsample_bytree=0.7, silent=1, learning_rate=0.5, nthread=3, min_child_weight=1, n_estimators=50, subsample=0.75, seed=1337, objective=binary:logistic, max_depth=10 -  37.3s\n",
      "[CV] colsample_bytree=0.7, silent=1, learning_rate=0.5, nthread=3, min_child_weight=1, n_estimators=80, subsample=0.75, seed=1337, objective=binary:logistic, max_depth=10 \n",
      "[CV]  colsample_bytree=0.7, silent=1, learning_rate=0.5, nthread=3, min_child_weight=1, n_estimators=80, subsample=0.75, seed=1337, objective=binary:logistic, max_depth=10 - 1.0min\n",
      "[CV] colsample_bytree=0.7, silent=1, learning_rate=0.5, nthread=3, min_child_weight=1, n_estimators=80, subsample=0.75, seed=1337, objective=binary:logistic, max_depth=10 \n",
      "[CV]  colsample_bytree=0.7, silent=1, learning_rate=0.5, nthread=3, min_child_weight=1, n_estimators=80, subsample=0.75, seed=1337, objective=binary:logistic, max_depth=10 -  59.5s\n",
      "[CV] colsample_bytree=0.7, silent=1, learning_rate=0.5, nthread=3, min_child_weight=11, n_estimators=30, subsample=0.75, seed=1337, objective=binary:logistic, max_depth=5 \n",
      "[CV]  colsample_bytree=0.7, silent=1, learning_rate=0.5, nthread=3, min_child_weight=11, n_estimators=30, subsample=0.75, seed=1337, objective=binary:logistic, max_depth=5 -  13.7s\n",
      "[CV] colsample_bytree=0.7, silent=1, learning_rate=0.5, nthread=3, min_child_weight=11, n_estimators=30, subsample=0.75, seed=1337, objective=binary:logistic, max_depth=5 \n",
      "[CV]  colsample_bytree=0.7, silent=1, learning_rate=0.5, nthread=3, min_child_weight=1, n_estimators=80, subsample=0.75, seed=1337, objective=binary:logistic, max_depth=10 -  59.0s\n",
      "[CV] colsample_bytree=0.7, silent=1, learning_rate=0.5, nthread=3, min_child_weight=11, n_estimators=30, subsample=0.75, seed=1337, objective=binary:logistic, max_depth=5 \n",
      "[CV]  colsample_bytree=0.7, silent=1, learning_rate=0.5, nthread=3, min_child_weight=11, n_estimators=30, subsample=0.75, seed=1337, objective=binary:logistic, max_depth=5 -  13.5s\n",
      "[CV]  colsample_bytree=0.7, silent=1, learning_rate=0.5, nthread=3, min_child_weight=11, n_estimators=30, subsample=0.75, seed=1337, objective=binary:logistic, max_depth=5 -  12.9s\n",
      "[CV] colsample_bytree=0.7, silent=1, learning_rate=0.5, nthread=3, min_child_weight=11, n_estimators=30, subsample=0.75, seed=1337, objective=binary:logistic, max_depth=5 \n",
      "[CV] colsample_bytree=0.7, silent=1, learning_rate=0.5, nthread=3, min_child_weight=11, n_estimators=50, subsample=0.75, seed=1337, objective=binary:logistic, max_depth=5 \n",
      "[CV]  colsample_bytree=0.7, silent=1, learning_rate=0.5, nthread=3, min_child_weight=11, n_estimators=30, subsample=0.75, seed=1337, objective=binary:logistic, max_depth=5 -  12.5s\n",
      "[CV] colsample_bytree=0.7, silent=1, learning_rate=0.5, nthread=3, min_child_weight=11, n_estimators=50, subsample=0.75, seed=1337, objective=binary:logistic, max_depth=5 \n",
      "[CV]  colsample_bytree=0.7, silent=1, learning_rate=0.5, nthread=3, min_child_weight=1, n_estimators=80, subsample=0.75, seed=1337, objective=binary:logistic, max_depth=10 -  56.2s\n",
      "[CV] colsample_bytree=0.7, silent=1, learning_rate=0.5, nthread=3, min_child_weight=11, n_estimators=50, subsample=0.75, seed=1337, objective=binary:logistic, max_depth=5 \n",
      "[CV]  colsample_bytree=0.7, silent=1, learning_rate=0.5, nthread=3, min_child_weight=11, n_estimators=50, subsample=0.75, seed=1337, objective=binary:logistic, max_depth=5 -  19.8s\n",
      "[CV] colsample_bytree=0.7, silent=1, learning_rate=0.5, nthread=3, min_child_weight=11, n_estimators=50, subsample=0.75, seed=1337, objective=binary:logistic, max_depth=5 \n",
      "[CV]  colsample_bytree=0.7, silent=1, learning_rate=0.5, nthread=3, min_child_weight=11, n_estimators=50, subsample=0.75, seed=1337, objective=binary:logistic, max_depth=5 -  19.7s\n",
      "[CV] colsample_bytree=0.7, silent=1, learning_rate=0.5, nthread=3, min_child_weight=11, n_estimators=80, subsample=0.75, seed=1337, objective=binary:logistic, max_depth=5 \n",
      "[CV]  colsample_bytree=0.7, silent=1, learning_rate=0.5, nthread=3, min_child_weight=11, n_estimators=50, subsample=0.75, seed=1337, objective=binary:logistic, max_depth=5 -  18.8s\n",
      "[CV] colsample_bytree=0.7, silent=1, learning_rate=0.5, nthread=3, min_child_weight=11, n_estimators=80, subsample=0.75, seed=1337, objective=binary:logistic, max_depth=5 \n",
      "[CV]  colsample_bytree=0.7, silent=1, learning_rate=0.5, nthread=3, min_child_weight=11, n_estimators=50, subsample=0.75, seed=1337, objective=binary:logistic, max_depth=5 -  21.4s\n",
      "[CV] colsample_bytree=0.7, silent=1, learning_rate=0.5, nthread=3, min_child_weight=11, n_estimators=80, subsample=0.75, seed=1337, objective=binary:logistic, max_depth=5 \n",
      "[CV]  colsample_bytree=0.7, silent=1, learning_rate=0.5, nthread=3, min_child_weight=11, n_estimators=80, subsample=0.75, seed=1337, objective=binary:logistic, max_depth=5 -  31.2s\n",
      "[CV] colsample_bytree=0.7, silent=1, learning_rate=0.5, nthread=3, min_child_weight=11, n_estimators=80, subsample=0.75, seed=1337, objective=binary:logistic, max_depth=5 \n",
      "[CV]  colsample_bytree=0.7, silent=1, learning_rate=0.5, nthread=3, min_child_weight=11, n_estimators=80, subsample=0.75, seed=1337, objective=binary:logistic, max_depth=5 -  32.0s\n",
      "[CV] colsample_bytree=0.7, silent=1, learning_rate=0.5, nthread=3, min_child_weight=5, n_estimators=30, subsample=0.75, seed=1337, objective=binary:logistic, max_depth=5 \n",
      "[CV]  colsample_bytree=0.7, silent=1, learning_rate=0.5, nthread=3, min_child_weight=11, n_estimators=80, subsample=0.75, seed=1337, objective=binary:logistic, max_depth=5 -  31.1s\n",
      "[CV] colsample_bytree=0.7, silent=1, learning_rate=0.5, nthread=3, min_child_weight=5, n_estimators=30, subsample=0.75, seed=1337, objective=binary:logistic, max_depth=5 \n",
      "[CV]  colsample_bytree=0.7, silent=1, learning_rate=0.5, nthread=3, min_child_weight=5, n_estimators=30, subsample=0.75, seed=1337, objective=binary:logistic, max_depth=5 -  12.8s\n",
      "[CV] colsample_bytree=0.7, silent=1, learning_rate=0.5, nthread=3, min_child_weight=5, n_estimators=30, subsample=0.75, seed=1337, objective=binary:logistic, max_depth=5 \n",
      "[CV]  colsample_bytree=0.7, silent=1, learning_rate=0.5, nthread=3, min_child_weight=5, n_estimators=30, subsample=0.75, seed=1337, objective=binary:logistic, max_depth=5 -  12.9s\n",
      "[CV] colsample_bytree=0.7, silent=1, learning_rate=0.5, nthread=3, min_child_weight=5, n_estimators=30, subsample=0.75, seed=1337, objective=binary:logistic, max_depth=5 \n",
      "[CV]  colsample_bytree=0.7, silent=1, learning_rate=0.5, nthread=3, min_child_weight=11, n_estimators=80, subsample=0.75, seed=1337, objective=binary:logistic, max_depth=5 -  30.7s\n",
      "[CV] colsample_bytree=0.7, silent=1, learning_rate=0.5, nthread=3, min_child_weight=5, n_estimators=50, subsample=0.75, seed=1337, objective=binary:logistic, max_depth=5 \n",
      "[CV]  colsample_bytree=0.7, silent=1, learning_rate=0.5, nthread=3, min_child_weight=5, n_estimators=30, subsample=0.75, seed=1337, objective=binary:logistic, max_depth=5 -  12.2s\n",
      "[CV] colsample_bytree=0.7, silent=1, learning_rate=0.5, nthread=3, min_child_weight=5, n_estimators=50, subsample=0.75, seed=1337, objective=binary:logistic, max_depth=5 \n",
      "[CV]  colsample_bytree=0.7, silent=1, learning_rate=0.5, nthread=3, min_child_weight=5, n_estimators=30, subsample=0.75, seed=1337, objective=binary:logistic, max_depth=5 -  12.1s\n",
      "[CV] colsample_bytree=0.7, silent=1, learning_rate=0.5, nthread=3, min_child_weight=5, n_estimators=50, subsample=0.75, seed=1337, objective=binary:logistic, max_depth=5 \n",
      "[CV]  colsample_bytree=0.7, silent=1, learning_rate=0.5, nthread=3, min_child_weight=5, n_estimators=50, subsample=0.75, seed=1337, objective=binary:logistic, max_depth=5 -  19.9s\n",
      "[CV] colsample_bytree=0.7, silent=1, learning_rate=0.5, nthread=3, min_child_weight=5, n_estimators=50, subsample=0.75, seed=1337, objective=binary:logistic, max_depth=5 \n",
      "[CV]  colsample_bytree=0.7, silent=1, learning_rate=0.5, nthread=3, min_child_weight=5, n_estimators=50, subsample=0.75, seed=1337, objective=binary:logistic, max_depth=5 -  20.4s\n",
      "[CV] colsample_bytree=0.7, silent=1, learning_rate=0.5, nthread=3, min_child_weight=5, n_estimators=80, subsample=0.75, seed=1337, objective=binary:logistic, max_depth=5 \n",
      "[CV]  colsample_bytree=0.7, silent=1, learning_rate=0.5, nthread=3, min_child_weight=5, n_estimators=50, subsample=0.75, seed=1337, objective=binary:logistic, max_depth=5 -  20.2s\n",
      "[CV] colsample_bytree=0.7, silent=1, learning_rate=0.5, nthread=3, min_child_weight=5, n_estimators=80, subsample=0.75, seed=1337, objective=binary:logistic, max_depth=5 \n",
      "[CV]  colsample_bytree=0.7, silent=1, learning_rate=0.5, nthread=3, min_child_weight=5, n_estimators=50, subsample=0.75, seed=1337, objective=binary:logistic, max_depth=5 -  19.1s\n",
      "[CV] colsample_bytree=0.7, silent=1, learning_rate=0.5, nthread=3, min_child_weight=5, n_estimators=80, subsample=0.75, seed=1337, objective=binary:logistic, max_depth=5 \n",
      "[CV]  colsample_bytree=0.7, silent=1, learning_rate=0.5, nthread=3, min_child_weight=5, n_estimators=80, subsample=0.75, seed=1337, objective=binary:logistic, max_depth=5 -  31.1s\n",
      "[CV] colsample_bytree=0.7, silent=1, learning_rate=0.5, nthread=3, min_child_weight=5, n_estimators=80, subsample=0.75, seed=1337, objective=binary:logistic, max_depth=5 \n",
      "[CV]  colsample_bytree=0.7, silent=1, learning_rate=0.5, nthread=3, min_child_weight=5, n_estimators=80, subsample=0.75, seed=1337, objective=binary:logistic, max_depth=5 -  31.0s\n",
      "[CV] colsample_bytree=0.7, silent=1, learning_rate=0.5, nthread=3, min_child_weight=1, n_estimators=30, subsample=0.75, seed=1337, objective=binary:logistic, max_depth=5 \n",
      "[CV]  colsample_bytree=0.7, silent=1, learning_rate=0.5, nthread=3, min_child_weight=1, n_estimators=30, subsample=0.75, seed=1337, objective=binary:logistic, max_depth=5 -  12.6s\n",
      "[CV] colsample_bytree=0.7, silent=1, learning_rate=0.5, nthread=3, min_child_weight=1, n_estimators=30, subsample=0.75, seed=1337, objective=binary:logistic, max_depth=5 \n",
      "[CV]  colsample_bytree=0.7, silent=1, learning_rate=0.5, nthread=3, min_child_weight=5, n_estimators=80, subsample=0.75, seed=1337, objective=binary:logistic, max_depth=5 -  31.6s\n",
      "[CV] colsample_bytree=0.7, silent=1, learning_rate=0.5, nthread=3, min_child_weight=1, n_estimators=30, subsample=0.75, seed=1337, objective=binary:logistic, max_depth=5 \n",
      "[CV]  colsample_bytree=0.7, silent=1, learning_rate=0.5, nthread=3, min_child_weight=1, n_estimators=30, subsample=0.75, seed=1337, objective=binary:logistic, max_depth=5 -  12.5s\n",
      "[CV] colsample_bytree=0.7, silent=1, learning_rate=0.5, nthread=3, min_child_weight=1, n_estimators=30, subsample=0.75, seed=1337, objective=binary:logistic, max_depth=5 \n",
      "[CV]  colsample_bytree=0.7, silent=1, learning_rate=0.5, nthread=3, min_child_weight=5, n_estimators=80, subsample=0.75, seed=1337, objective=binary:logistic, max_depth=5 -  30.2s\n",
      "[CV] colsample_bytree=0.7, silent=1, learning_rate=0.5, nthread=3, min_child_weight=1, n_estimators=50, subsample=0.75, seed=1337, objective=binary:logistic, max_depth=5 \n",
      "[CV]  colsample_bytree=0.7, silent=1, learning_rate=0.5, nthread=3, min_child_weight=1, n_estimators=30, subsample=0.75, seed=1337, objective=binary:logistic, max_depth=5 -  13.4s\n",
      "[CV] colsample_bytree=0.7, silent=1, learning_rate=0.5, nthread=3, min_child_weight=1, n_estimators=50, subsample=0.75, seed=1337, objective=binary:logistic, max_depth=5 \n",
      "[CV]  colsample_bytree=0.7, silent=1, learning_rate=0.5, nthread=3, min_child_weight=1, n_estimators=30, subsample=0.75, seed=1337, objective=binary:logistic, max_depth=5 -  12.7s\n",
      "[CV] colsample_bytree=0.7, silent=1, learning_rate=0.5, nthread=3, min_child_weight=1, n_estimators=50, subsample=0.75, seed=1337, objective=binary:logistic, max_depth=5 \n",
      "[CV]  colsample_bytree=0.7, silent=1, learning_rate=0.5, nthread=3, min_child_weight=1, n_estimators=50, subsample=0.75, seed=1337, objective=binary:logistic, max_depth=5 -  19.8s\n",
      "[CV] colsample_bytree=0.7, silent=1, learning_rate=0.5, nthread=3, min_child_weight=1, n_estimators=50, subsample=0.75, seed=1337, objective=binary:logistic, max_depth=5 \n",
      "[CV]  colsample_bytree=0.7, silent=1, learning_rate=0.5, nthread=3, min_child_weight=1, n_estimators=50, subsample=0.75, seed=1337, objective=binary:logistic, max_depth=5 -  20.1s\n",
      "[CV] colsample_bytree=0.7, silent=1, learning_rate=0.5, nthread=3, min_child_weight=1, n_estimators=80, subsample=0.75, seed=1337, objective=binary:logistic, max_depth=5 \n",
      "[CV]  colsample_bytree=0.7, silent=1, learning_rate=0.5, nthread=3, min_child_weight=1, n_estimators=50, subsample=0.75, seed=1337, objective=binary:logistic, max_depth=5 -  20.4s\n",
      "[CV] colsample_bytree=0.7, silent=1, learning_rate=0.5, nthread=3, min_child_weight=1, n_estimators=80, subsample=0.75, seed=1337, objective=binary:logistic, max_depth=5 \n",
      "[CV]  colsample_bytree=0.7, silent=1, learning_rate=0.5, nthread=3, min_child_weight=1, n_estimators=50, subsample=0.75, seed=1337, objective=binary:logistic, max_depth=5 -  21.1s\n",
      "[CV] colsample_bytree=0.7, silent=1, learning_rate=0.5, nthread=3, min_child_weight=1, n_estimators=80, subsample=0.75, seed=1337, objective=binary:logistic, max_depth=5 \n",
      "[CV]  colsample_bytree=0.7, silent=1, learning_rate=0.5, nthread=3, min_child_weight=1, n_estimators=80, subsample=0.75, seed=1337, objective=binary:logistic, max_depth=5 -  30.3s\n",
      "[CV] colsample_bytree=0.7, silent=1, learning_rate=0.5, nthread=3, min_child_weight=1, n_estimators=80, subsample=0.75, seed=1337, objective=binary:logistic, max_depth=5 \n",
      "[CV]  colsample_bytree=0.7, silent=1, learning_rate=0.5, nthread=3, min_child_weight=1, n_estimators=80, subsample=0.75, seed=1337, objective=binary:logistic, max_depth=5 -  31.3s\n",
      "[CV] colsample_bytree=0.7, silent=1, learning_rate=0.5, nthread=3, min_child_weight=11, n_estimators=30, subsample=0.75, seed=1337, objective=binary:logistic, max_depth=15 \n",
      "[CV]  colsample_bytree=0.7, silent=1, learning_rate=0.5, nthread=3, min_child_weight=1, n_estimators=80, subsample=0.75, seed=1337, objective=binary:logistic, max_depth=5 -  32.7s\n",
      "[CV] colsample_bytree=0.7, silent=1, learning_rate=0.5, nthread=3, min_child_weight=11, n_estimators=30, subsample=0.75, seed=1337, objective=binary:logistic, max_depth=15 \n",
      "[CV]  colsample_bytree=0.7, silent=1, learning_rate=0.5, nthread=3, min_child_weight=1, n_estimators=80, subsample=0.75, seed=1337, objective=binary:logistic, max_depth=5 -  33.3s\n",
      "[CV] colsample_bytree=0.7, silent=1, learning_rate=0.5, nthread=3, min_child_weight=11, n_estimators=30, subsample=0.75, seed=1337, objective=binary:logistic, max_depth=15 \n",
      "[CV]  colsample_bytree=0.7, silent=1, learning_rate=0.5, nthread=3, min_child_weight=11, n_estimators=30, subsample=0.75, seed=1337, objective=binary:logistic, max_depth=15 -  29.8s\n",
      "[CV] colsample_bytree=0.7, silent=1, learning_rate=0.5, nthread=3, min_child_weight=11, n_estimators=30, subsample=0.75, seed=1337, objective=binary:logistic, max_depth=15 \n",
      "[CV]  colsample_bytree=0.7, silent=1, learning_rate=0.5, nthread=3, min_child_weight=11, n_estimators=30, subsample=0.75, seed=1337, objective=binary:logistic, max_depth=15 -  29.8s\n",
      "[CV] colsample_bytree=0.7, silent=1, learning_rate=0.5, nthread=3, min_child_weight=11, n_estimators=50, subsample=0.75, seed=1337, objective=binary:logistic, max_depth=15 \n",
      "[CV]  colsample_bytree=0.7, silent=1, learning_rate=0.5, nthread=3, min_child_weight=11, n_estimators=30, subsample=0.75, seed=1337, objective=binary:logistic, max_depth=15 -  32.0s\n",
      "[CV] colsample_bytree=0.7, silent=1, learning_rate=0.5, nthread=3, min_child_weight=11, n_estimators=50, subsample=0.75, seed=1337, objective=binary:logistic, max_depth=15 \n",
      "[CV]  colsample_bytree=0.7, silent=1, learning_rate=0.5, nthread=3, min_child_weight=11, n_estimators=30, subsample=0.75, seed=1337, objective=binary:logistic, max_depth=15 -  33.0s\n",
      "[CV] colsample_bytree=0.7, silent=1, learning_rate=0.5, nthread=3, min_child_weight=11, n_estimators=50, subsample=0.75, seed=1337, objective=binary:logistic, max_depth=15 \n",
      "[CV]  colsample_bytree=0.7, silent=1, learning_rate=0.5, nthread=3, min_child_weight=11, n_estimators=50, subsample=0.75, seed=1337, objective=binary:logistic, max_depth=15 -  49.8s\n",
      "[CV] colsample_bytree=0.7, silent=1, learning_rate=0.5, nthread=3, min_child_weight=11, n_estimators=50, subsample=0.75, seed=1337, objective=binary:logistic, max_depth=15 \n",
      "[CV]  colsample_bytree=0.7, silent=1, learning_rate=0.5, nthread=3, min_child_weight=11, n_estimators=50, subsample=0.75, seed=1337, objective=binary:logistic, max_depth=15 -  53.3s\n",
      "[CV] colsample_bytree=0.7, silent=1, learning_rate=0.5, nthread=3, min_child_weight=11, n_estimators=80, subsample=0.75, seed=1337, objective=binary:logistic, max_depth=15 \n",
      "[CV]  colsample_bytree=0.7, silent=1, learning_rate=0.5, nthread=3, min_child_weight=11, n_estimators=50, subsample=0.75, seed=1337, objective=binary:logistic, max_depth=15 -  56.0s\n",
      "[CV] colsample_bytree=0.7, silent=1, learning_rate=0.5, nthread=3, min_child_weight=11, n_estimators=80, subsample=0.75, seed=1337, objective=binary:logistic, max_depth=15 \n",
      "[CV]  colsample_bytree=0.7, silent=1, learning_rate=0.5, nthread=3, min_child_weight=11, n_estimators=50, subsample=0.75, seed=1337, objective=binary:logistic, max_depth=15 -  50.9s\n",
      "[CV] colsample_bytree=0.7, silent=1, learning_rate=0.5, nthread=3, min_child_weight=11, n_estimators=80, subsample=0.75, seed=1337, objective=binary:logistic, max_depth=15 \n",
      "[CV]  colsample_bytree=0.7, silent=1, learning_rate=0.5, nthread=3, min_child_weight=11, n_estimators=80, subsample=0.75, seed=1337, objective=binary:logistic, max_depth=15 - 1.5min\n",
      "[CV] colsample_bytree=0.7, silent=1, learning_rate=0.5, nthread=3, min_child_weight=11, n_estimators=80, subsample=0.75, seed=1337, objective=binary:logistic, max_depth=15 \n",
      "[CV]  colsample_bytree=0.7, silent=1, learning_rate=0.5, nthread=3, min_child_weight=11, n_estimators=80, subsample=0.75, seed=1337, objective=binary:logistic, max_depth=15 - 1.4min\n",
      "[CV] colsample_bytree=0.7, silent=1, learning_rate=0.5, nthread=3, min_child_weight=5, n_estimators=30, subsample=0.75, seed=1337, objective=binary:logistic, max_depth=15 \n",
      "[CV]  colsample_bytree=0.7, silent=1, learning_rate=0.5, nthread=3, min_child_weight=11, n_estimators=80, subsample=0.75, seed=1337, objective=binary:logistic, max_depth=15 - 1.4min\n",
      "[CV] colsample_bytree=0.7, silent=1, learning_rate=0.5, nthread=3, min_child_weight=5, n_estimators=30, subsample=0.75, seed=1337, objective=binary:logistic, max_depth=15 \n",
      "[CV]  colsample_bytree=0.7, silent=1, learning_rate=0.5, nthread=3, min_child_weight=5, n_estimators=30, subsample=0.75, seed=1337, objective=binary:logistic, max_depth=15 -  31.6s\n",
      "[CV] colsample_bytree=0.7, silent=1, learning_rate=0.5, nthread=3, min_child_weight=5, n_estimators=30, subsample=0.75, seed=1337, objective=binary:logistic, max_depth=15 \n",
      "[CV]  colsample_bytree=0.7, silent=1, learning_rate=0.5, nthread=3, min_child_weight=5, n_estimators=30, subsample=0.75, seed=1337, objective=binary:logistic, max_depth=15 -  34.6s\n",
      "[CV] colsample_bytree=0.7, silent=1, learning_rate=0.5, nthread=3, min_child_weight=5, n_estimators=30, subsample=0.75, seed=1337, objective=binary:logistic, max_depth=15 \n",
      "[CV]  colsample_bytree=0.7, silent=1, learning_rate=0.5, nthread=3, min_child_weight=5, n_estimators=30, subsample=0.75, seed=1337, objective=binary:logistic, max_depth=15 -  32.9s\n",
      "[CV] colsample_bytree=0.7, silent=1, learning_rate=0.5, nthread=3, min_child_weight=5, n_estimators=50, subsample=0.75, seed=1337, objective=binary:logistic, max_depth=15 \n",
      "[CV]  colsample_bytree=0.7, silent=1, learning_rate=0.5, nthread=3, min_child_weight=11, n_estimators=80, subsample=0.75, seed=1337, objective=binary:logistic, max_depth=15 - 1.4min\n",
      "[CV] colsample_bytree=0.7, silent=1, learning_rate=0.5, nthread=3, min_child_weight=5, n_estimators=50, subsample=0.75, seed=1337, objective=binary:logistic, max_depth=15 \n",
      "[CV]  colsample_bytree=0.7, silent=1, learning_rate=0.5, nthread=3, min_child_weight=5, n_estimators=30, subsample=0.75, seed=1337, objective=binary:logistic, max_depth=15 -  34.1s\n",
      "[CV] colsample_bytree=0.7, silent=1, learning_rate=0.5, nthread=3, min_child_weight=5, n_estimators=50, subsample=0.75, seed=1337, objective=binary:logistic, max_depth=15 \n",
      "[CV]  colsample_bytree=0.7, silent=1, learning_rate=0.5, nthread=3, min_child_weight=5, n_estimators=50, subsample=0.75, seed=1337, objective=binary:logistic, max_depth=15 -  55.2s\n",
      "[CV] colsample_bytree=0.7, silent=1, learning_rate=0.5, nthread=3, min_child_weight=5, n_estimators=50, subsample=0.75, seed=1337, objective=binary:logistic, max_depth=15 \n",
      "[CV]  colsample_bytree=0.7, silent=1, learning_rate=0.5, nthread=3, min_child_weight=5, n_estimators=50, subsample=0.75, seed=1337, objective=binary:logistic, max_depth=15 -  54.1s\n",
      "[CV] colsample_bytree=0.7, silent=1, learning_rate=0.5, nthread=3, min_child_weight=5, n_estimators=80, subsample=0.75, seed=1337, objective=binary:logistic, max_depth=15 \n",
      "[CV]  colsample_bytree=0.7, silent=1, learning_rate=0.5, nthread=3, min_child_weight=5, n_estimators=50, subsample=0.75, seed=1337, objective=binary:logistic, max_depth=15 -  51.9s\n",
      "[CV] colsample_bytree=0.7, silent=1, learning_rate=0.5, nthread=3, min_child_weight=5, n_estimators=80, subsample=0.75, seed=1337, objective=binary:logistic, max_depth=15 \n",
      "[CV]  colsample_bytree=0.7, silent=1, learning_rate=0.5, nthread=3, min_child_weight=5, n_estimators=50, subsample=0.75, seed=1337, objective=binary:logistic, max_depth=15 -  53.6s\n",
      "[CV] colsample_bytree=0.7, silent=1, learning_rate=0.5, nthread=3, min_child_weight=5, n_estimators=80, subsample=0.75, seed=1337, objective=binary:logistic, max_depth=15 \n",
      "[CV]  colsample_bytree=0.7, silent=1, learning_rate=0.5, nthread=3, min_child_weight=5, n_estimators=80, subsample=0.75, seed=1337, objective=binary:logistic, max_depth=15 - 1.4min\n",
      "[CV] colsample_bytree=0.7, silent=1, learning_rate=0.5, nthread=3, min_child_weight=5, n_estimators=80, subsample=0.75, seed=1337, objective=binary:logistic, max_depth=15 \n",
      "[CV]  colsample_bytree=0.7, silent=1, learning_rate=0.5, nthread=3, min_child_weight=5, n_estimators=80, subsample=0.75, seed=1337, objective=binary:logistic, max_depth=15 - 1.4min\n",
      "[CV] colsample_bytree=0.7, silent=1, learning_rate=0.5, nthread=3, min_child_weight=1, n_estimators=30, subsample=0.75, seed=1337, objective=binary:logistic, max_depth=15 \n",
      "[CV]  colsample_bytree=0.7, silent=1, learning_rate=0.5, nthread=3, min_child_weight=5, n_estimators=80, subsample=0.75, seed=1337, objective=binary:logistic, max_depth=15 - 1.5min\n",
      "[CV] colsample_bytree=0.7, silent=1, learning_rate=0.5, nthread=3, min_child_weight=1, n_estimators=30, subsample=0.75, seed=1337, objective=binary:logistic, max_depth=15 \n",
      "[CV]  colsample_bytree=0.7, silent=1, learning_rate=0.5, nthread=3, min_child_weight=1, n_estimators=30, subsample=0.75, seed=1337, objective=binary:logistic, max_depth=15 -  34.9s\n",
      "[CV] colsample_bytree=0.7, silent=1, learning_rate=0.5, nthread=3, min_child_weight=1, n_estimators=30, subsample=0.75, seed=1337, objective=binary:logistic, max_depth=15 \n",
      "[CV]  colsample_bytree=0.7, silent=1, learning_rate=0.5, nthread=3, min_child_weight=5, n_estimators=80, subsample=0.75, seed=1337, objective=binary:logistic, max_depth=15 - 1.4min\n",
      "[CV] colsample_bytree=0.7, silent=1, learning_rate=0.5, nthread=3, min_child_weight=1, n_estimators=30, subsample=0.75, seed=1337, objective=binary:logistic, max_depth=15 \n",
      "[CV]  colsample_bytree=0.7, silent=1, learning_rate=0.5, nthread=3, min_child_weight=1, n_estimators=30, subsample=0.75, seed=1337, objective=binary:logistic, max_depth=15 -  34.6s\n",
      "[CV] colsample_bytree=0.7, silent=1, learning_rate=0.5, nthread=3, min_child_weight=1, n_estimators=50, subsample=0.75, seed=1337, objective=binary:logistic, max_depth=15 \n",
      "[CV]  colsample_bytree=0.7, silent=1, learning_rate=0.5, nthread=3, min_child_weight=1, n_estimators=30, subsample=0.75, seed=1337, objective=binary:logistic, max_depth=15 -  36.5s\n",
      "[CV] colsample_bytree=0.7, silent=1, learning_rate=0.5, nthread=3, min_child_weight=1, n_estimators=50, subsample=0.75, seed=1337, objective=binary:logistic, max_depth=15 \n",
      "[CV]  colsample_bytree=0.7, silent=1, learning_rate=0.5, nthread=3, min_child_weight=1, n_estimators=30, subsample=0.75, seed=1337, objective=binary:logistic, max_depth=15 -  32.8s\n",
      "[CV] colsample_bytree=0.7, silent=1, learning_rate=0.5, nthread=3, min_child_weight=1, n_estimators=50, subsample=0.75, seed=1337, objective=binary:logistic, max_depth=15 \n",
      "[CV]  colsample_bytree=0.7, silent=1, learning_rate=0.5, nthread=3, min_child_weight=1, n_estimators=50, subsample=0.75, seed=1337, objective=binary:logistic, max_depth=15 -  55.6s\n",
      "[CV] colsample_bytree=0.7, silent=1, learning_rate=0.5, nthread=3, min_child_weight=1, n_estimators=50, subsample=0.75, seed=1337, objective=binary:logistic, max_depth=15 \n",
      "[CV]  colsample_bytree=0.7, silent=1, learning_rate=0.5, nthread=3, min_child_weight=1, n_estimators=50, subsample=0.75, seed=1337, objective=binary:logistic, max_depth=15 -  56.3s\n",
      "[CV] colsample_bytree=0.7, silent=1, learning_rate=0.5, nthread=3, min_child_weight=1, n_estimators=80, subsample=0.75, seed=1337, objective=binary:logistic, max_depth=15 \n",
      "[CV]  colsample_bytree=0.7, silent=1, learning_rate=0.5, nthread=3, min_child_weight=1, n_estimators=50, subsample=0.75, seed=1337, objective=binary:logistic, max_depth=15 -  57.5s\n",
      "[CV] colsample_bytree=0.7, silent=1, learning_rate=0.5, nthread=3, min_child_weight=1, n_estimators=80, subsample=0.75, seed=1337, objective=binary:logistic, max_depth=15 \n",
      "[CV]  colsample_bytree=0.7, silent=1, learning_rate=0.5, nthread=3, min_child_weight=1, n_estimators=50, subsample=0.75, seed=1337, objective=binary:logistic, max_depth=15 -  55.2s\n",
      "[CV] colsample_bytree=0.7, silent=1, learning_rate=0.5, nthread=3, min_child_weight=1, n_estimators=80, subsample=0.75, seed=1337, objective=binary:logistic, max_depth=15 \n",
      "[CV]  colsample_bytree=0.7, silent=1, learning_rate=0.5, nthread=3, min_child_weight=1, n_estimators=80, subsample=0.75, seed=1337, objective=binary:logistic, max_depth=15 - 1.5min\n",
      "[CV] colsample_bytree=0.7, silent=1, learning_rate=0.5, nthread=3, min_child_weight=1, n_estimators=80, subsample=0.75, seed=1337, objective=binary:logistic, max_depth=15 \n",
      "[CV]  colsample_bytree=0.7, silent=1, learning_rate=0.5, nthread=3, min_child_weight=1, n_estimators=80, subsample=0.75, seed=1337, objective=binary:logistic, max_depth=15 - 1.5min\n",
      "[CV]  colsample_bytree=0.7, silent=1, learning_rate=0.5, nthread=3, min_child_weight=1, n_estimators=80, subsample=0.75, seed=1337, objective=binary:logistic, max_depth=15 - 1.4min\n",
      "[CV]  colsample_bytree=0.7, silent=1, learning_rate=0.5, nthread=3, min_child_weight=1, n_estimators=80, subsample=0.75, seed=1337, objective=binary:logistic, max_depth=15 -  52.9s\n"
     ]
    },
    {
     "name": "stderr",
     "output_type": "stream",
     "text": [
      "[Parallel(n_jobs=3)]: Done 540 out of 540 | elapsed: 112.1min finished\n"
     ]
    },
    {
     "name": "stdout",
     "output_type": "stream",
     "text": [
      "('Raw AUC score:', 0.73675653453531542)\n",
      "colsample_bytree: 0.7\n",
      "learning_rate: 0.1\n",
      "max_depth: 5\n",
      "min_child_weight: 1\n",
      "n_estimators: 80\n",
      "nthread: 3\n",
      "objective: 'binary:logistic'\n",
      "seed: 1337\n",
      "silent: 1\n",
      "subsample: 0.75\n",
      "This cell took 6736.18098807 seconds to run\n"
     ]
    }
   ],
   "source": [
    "start_time = time.time()\n",
    "\n",
    "\n",
    "clf = GridSearchCV(xgb_model, parameters, n_jobs=3, \n",
    "                   cv=StratifiedKFold(train['ground_truth'], n_folds=3, shuffle=True), \n",
    "                   scoring='roc_auc',\n",
    "                   verbose=2, refit=True)\n",
    "\n",
    "clf.fit(train[features], train[\"ground_truth\"])\n",
    "\n",
    "#trust your CV!\n",
    "best_parameters, score, _ = max(clf.grid_scores_, key=lambda x: x[1])\n",
    "print('Raw AUC score:', score)\n",
    "for param_name in sorted(best_parameters.keys()):\n",
    "    print(\"%s: %r\" % (param_name, best_parameters[param_name]))\n",
    "\n",
    "test_probs = clf.predict_proba(test[features])[:,1]\n",
    "\n",
    "#sample = pd.read_csv('../input/sample_submission.csv')\n",
    "#sample.QuoteConversion_Flag = test_probs\n",
    "#sample.to_csv(\"xgboost_best_parameter_submission.csv\", index=False)\n",
    "\n",
    "all_time =   time.time() - start_time \n",
    "print('This cell took %s seconds to run' % all_time)"
   ]
  },
  {
   "cell_type": "code",
   "execution_count": null,
   "metadata": {
    "collapsed": true
   },
   "outputs": [],
   "source": [
    "parameters = {'nthread':[4], #when use hyperthread, xgboost may become slower\n",
    "              'objective':['binary:logistic'],\n",
    "              'learning_rate': [0.05, 0.04, 1e-2,0.1,0.5], #so called `eta` value\n",
    "              'max_depth': [4,5,6],\n",
    "              'min_child_weight': [2,3,1],\n",
    "              'silent': [1],\n",
    "              'subsample': [0.75],\n",
    "              'colsample_bytree': [0.7],\n",
    "              'n_estimators': [30,50,80], #number of trees, change it to 1000 for better results\n",
    "              #'missing':[-999],\n",
    "              'seed': [42]}\n"
   ]
  },
  {
   "cell_type": "code",
   "execution_count": 62,
   "metadata": {
    "collapsed": false
   },
   "outputs": [
    {
     "name": "stdout",
     "output_type": "stream",
     "text": [
      "             precision    recall  f1-score   support\n",
      "\n",
      "          0       0.95      1.00      0.97     32223\n",
      "          1       0.38      0.00      0.00      1772\n",
      "\n",
      "avg / total       0.92      0.95      0.92     33995\n",
      "\n"
     ]
    }
   ],
   "source": [
    "predictions =  clf.predict(test[features])\n",
    "expected = test['ground_truth'].values\n",
    "print(classification_report(expected, predictions))"
   ]
  },
  {
   "cell_type": "code",
   "execution_count": 88,
   "metadata": {
    "collapsed": false
   },
   "outputs": [],
   "source": [
    "predicted_proba = pd.DataFrame()\n",
    "predicted_proba['prob'] = clf.predict_proba(test[features])[:,1]\n",
    "predicted_proba['gt'] = test['ground_truth'].values\n",
    "predicted_proba['class'] = clf.predict(test[features])\n",
    "\n",
    "threshold = 1e-1\n",
    "ind = predicted_proba['prob']>threshold\n",
    "print(classification_report(predicted_proba.loc[ind,'gt'].values,predicted_proba.loc[ind,'class'].values ))"
   ]
  },
  {
   "cell_type": "code",
   "execution_count": 91,
   "metadata": {
    "collapsed": true
   },
   "outputs": [],
   "source": [
    "cv_result = pd.DataFrame(columns=['mean_score' ] + [key for key, value in clf.grid_scores_[0].parameters.items() ] )\n",
    "i=0\n",
    "for setup in clf.grid_scores_:\n",
    "    row = [clf.grid_scores_[i].mean_validation_score ] + [value for key, value in clf.grid_scores_[i].parameters.items() ]\n",
    "    cv_result.loc[i] = row\n",
    "    i+=1"
   ]
  },
  {
   "cell_type": "code",
   "execution_count": 92,
   "metadata": {
    "collapsed": false,
    "scrolled": true
   },
   "outputs": [
    {
     "data": {
      "text/html": [
       "<div>\n",
       "<table border=\"1\" class=\"dataframe\">\n",
       "  <thead>\n",
       "    <tr style=\"text-align: right;\">\n",
       "      <th></th>\n",
       "      <th>mean_score</th>\n",
       "      <th>colsample_bytree</th>\n",
       "      <th>silent</th>\n",
       "      <th>learning_rate</th>\n",
       "      <th>nthread</th>\n",
       "      <th>min_child_weight</th>\n",
       "      <th>n_estimators</th>\n",
       "      <th>subsample</th>\n",
       "      <th>seed</th>\n",
       "      <th>objective</th>\n",
       "      <th>max_depth</th>\n",
       "    </tr>\n",
       "  </thead>\n",
       "  <tbody>\n",
       "    <tr>\n",
       "      <th>0</th>\n",
       "      <td>0.734251</td>\n",
       "      <td>0.7</td>\n",
       "      <td>1.0</td>\n",
       "      <td>0.05</td>\n",
       "      <td>3.0</td>\n",
       "      <td>11.0</td>\n",
       "      <td>30.0</td>\n",
       "      <td>0.75</td>\n",
       "      <td>1337.0</td>\n",
       "      <td>binary:logistic</td>\n",
       "      <td>10.0</td>\n",
       "    </tr>\n",
       "    <tr>\n",
       "      <th>1</th>\n",
       "      <td>0.733508</td>\n",
       "      <td>0.7</td>\n",
       "      <td>1.0</td>\n",
       "      <td>0.05</td>\n",
       "      <td>3.0</td>\n",
       "      <td>11.0</td>\n",
       "      <td>50.0</td>\n",
       "      <td>0.75</td>\n",
       "      <td>1337.0</td>\n",
       "      <td>binary:logistic</td>\n",
       "      <td>10.0</td>\n",
       "    </tr>\n",
       "    <tr>\n",
       "      <th>2</th>\n",
       "      <td>0.733174</td>\n",
       "      <td>0.7</td>\n",
       "      <td>1.0</td>\n",
       "      <td>0.05</td>\n",
       "      <td>3.0</td>\n",
       "      <td>11.0</td>\n",
       "      <td>80.0</td>\n",
       "      <td>0.75</td>\n",
       "      <td>1337.0</td>\n",
       "      <td>binary:logistic</td>\n",
       "      <td>10.0</td>\n",
       "    </tr>\n",
       "    <tr>\n",
       "      <th>3</th>\n",
       "      <td>0.734326</td>\n",
       "      <td>0.7</td>\n",
       "      <td>1.0</td>\n",
       "      <td>0.05</td>\n",
       "      <td>3.0</td>\n",
       "      <td>5.0</td>\n",
       "      <td>30.0</td>\n",
       "      <td>0.75</td>\n",
       "      <td>1337.0</td>\n",
       "      <td>binary:logistic</td>\n",
       "      <td>10.0</td>\n",
       "    </tr>\n",
       "    <tr>\n",
       "      <th>4</th>\n",
       "      <td>0.733291</td>\n",
       "      <td>0.7</td>\n",
       "      <td>1.0</td>\n",
       "      <td>0.05</td>\n",
       "      <td>3.0</td>\n",
       "      <td>5.0</td>\n",
       "      <td>50.0</td>\n",
       "      <td>0.75</td>\n",
       "      <td>1337.0</td>\n",
       "      <td>binary:logistic</td>\n",
       "      <td>10.0</td>\n",
       "    </tr>\n",
       "    <tr>\n",
       "      <th>5</th>\n",
       "      <td>0.732507</td>\n",
       "      <td>0.7</td>\n",
       "      <td>1.0</td>\n",
       "      <td>0.05</td>\n",
       "      <td>3.0</td>\n",
       "      <td>5.0</td>\n",
       "      <td>80.0</td>\n",
       "      <td>0.75</td>\n",
       "      <td>1337.0</td>\n",
       "      <td>binary:logistic</td>\n",
       "      <td>10.0</td>\n",
       "    </tr>\n",
       "    <tr>\n",
       "      <th>6</th>\n",
       "      <td>0.734111</td>\n",
       "      <td>0.7</td>\n",
       "      <td>1.0</td>\n",
       "      <td>0.05</td>\n",
       "      <td>3.0</td>\n",
       "      <td>1.0</td>\n",
       "      <td>30.0</td>\n",
       "      <td>0.75</td>\n",
       "      <td>1337.0</td>\n",
       "      <td>binary:logistic</td>\n",
       "      <td>10.0</td>\n",
       "    </tr>\n",
       "    <tr>\n",
       "      <th>7</th>\n",
       "      <td>0.733195</td>\n",
       "      <td>0.7</td>\n",
       "      <td>1.0</td>\n",
       "      <td>0.05</td>\n",
       "      <td>3.0</td>\n",
       "      <td>1.0</td>\n",
       "      <td>50.0</td>\n",
       "      <td>0.75</td>\n",
       "      <td>1337.0</td>\n",
       "      <td>binary:logistic</td>\n",
       "      <td>10.0</td>\n",
       "    </tr>\n",
       "    <tr>\n",
       "      <th>8</th>\n",
       "      <td>0.732155</td>\n",
       "      <td>0.7</td>\n",
       "      <td>1.0</td>\n",
       "      <td>0.05</td>\n",
       "      <td>3.0</td>\n",
       "      <td>1.0</td>\n",
       "      <td>80.0</td>\n",
       "      <td>0.75</td>\n",
       "      <td>1337.0</td>\n",
       "      <td>binary:logistic</td>\n",
       "      <td>10.0</td>\n",
       "    </tr>\n",
       "    <tr>\n",
       "      <th>9</th>\n",
       "      <td>0.734849</td>\n",
       "      <td>0.7</td>\n",
       "      <td>1.0</td>\n",
       "      <td>0.05</td>\n",
       "      <td>3.0</td>\n",
       "      <td>11.0</td>\n",
       "      <td>30.0</td>\n",
       "      <td>0.75</td>\n",
       "      <td>1337.0</td>\n",
       "      <td>binary:logistic</td>\n",
       "      <td>5.0</td>\n",
       "    </tr>\n",
       "    <tr>\n",
       "      <th>10</th>\n",
       "      <td>0.735055</td>\n",
       "      <td>0.7</td>\n",
       "      <td>1.0</td>\n",
       "      <td>0.05</td>\n",
       "      <td>3.0</td>\n",
       "      <td>11.0</td>\n",
       "      <td>50.0</td>\n",
       "      <td>0.75</td>\n",
       "      <td>1337.0</td>\n",
       "      <td>binary:logistic</td>\n",
       "      <td>5.0</td>\n",
       "    </tr>\n",
       "    <tr>\n",
       "      <th>11</th>\n",
       "      <td>0.735482</td>\n",
       "      <td>0.7</td>\n",
       "      <td>1.0</td>\n",
       "      <td>0.05</td>\n",
       "      <td>3.0</td>\n",
       "      <td>11.0</td>\n",
       "      <td>80.0</td>\n",
       "      <td>0.75</td>\n",
       "      <td>1337.0</td>\n",
       "      <td>binary:logistic</td>\n",
       "      <td>5.0</td>\n",
       "    </tr>\n",
       "    <tr>\n",
       "      <th>12</th>\n",
       "      <td>0.734707</td>\n",
       "      <td>0.7</td>\n",
       "      <td>1.0</td>\n",
       "      <td>0.05</td>\n",
       "      <td>3.0</td>\n",
       "      <td>5.0</td>\n",
       "      <td>30.0</td>\n",
       "      <td>0.75</td>\n",
       "      <td>1337.0</td>\n",
       "      <td>binary:logistic</td>\n",
       "      <td>5.0</td>\n",
       "    </tr>\n",
       "    <tr>\n",
       "      <th>13</th>\n",
       "      <td>0.734894</td>\n",
       "      <td>0.7</td>\n",
       "      <td>1.0</td>\n",
       "      <td>0.05</td>\n",
       "      <td>3.0</td>\n",
       "      <td>5.0</td>\n",
       "      <td>50.0</td>\n",
       "      <td>0.75</td>\n",
       "      <td>1337.0</td>\n",
       "      <td>binary:logistic</td>\n",
       "      <td>5.0</td>\n",
       "    </tr>\n",
       "    <tr>\n",
       "      <th>14</th>\n",
       "      <td>0.735520</td>\n",
       "      <td>0.7</td>\n",
       "      <td>1.0</td>\n",
       "      <td>0.05</td>\n",
       "      <td>3.0</td>\n",
       "      <td>5.0</td>\n",
       "      <td>80.0</td>\n",
       "      <td>0.75</td>\n",
       "      <td>1337.0</td>\n",
       "      <td>binary:logistic</td>\n",
       "      <td>5.0</td>\n",
       "    </tr>\n",
       "    <tr>\n",
       "      <th>15</th>\n",
       "      <td>0.734397</td>\n",
       "      <td>0.7</td>\n",
       "      <td>1.0</td>\n",
       "      <td>0.05</td>\n",
       "      <td>3.0</td>\n",
       "      <td>1.0</td>\n",
       "      <td>30.0</td>\n",
       "      <td>0.75</td>\n",
       "      <td>1337.0</td>\n",
       "      <td>binary:logistic</td>\n",
       "      <td>5.0</td>\n",
       "    </tr>\n",
       "    <tr>\n",
       "      <th>16</th>\n",
       "      <td>0.734765</td>\n",
       "      <td>0.7</td>\n",
       "      <td>1.0</td>\n",
       "      <td>0.05</td>\n",
       "      <td>3.0</td>\n",
       "      <td>1.0</td>\n",
       "      <td>50.0</td>\n",
       "      <td>0.75</td>\n",
       "      <td>1337.0</td>\n",
       "      <td>binary:logistic</td>\n",
       "      <td>5.0</td>\n",
       "    </tr>\n",
       "    <tr>\n",
       "      <th>17</th>\n",
       "      <td>0.735313</td>\n",
       "      <td>0.7</td>\n",
       "      <td>1.0</td>\n",
       "      <td>0.05</td>\n",
       "      <td>3.0</td>\n",
       "      <td>1.0</td>\n",
       "      <td>80.0</td>\n",
       "      <td>0.75</td>\n",
       "      <td>1337.0</td>\n",
       "      <td>binary:logistic</td>\n",
       "      <td>5.0</td>\n",
       "    </tr>\n",
       "    <tr>\n",
       "      <th>18</th>\n",
       "      <td>0.733368</td>\n",
       "      <td>0.7</td>\n",
       "      <td>1.0</td>\n",
       "      <td>0.05</td>\n",
       "      <td>3.0</td>\n",
       "      <td>11.0</td>\n",
       "      <td>30.0</td>\n",
       "      <td>0.75</td>\n",
       "      <td>1337.0</td>\n",
       "      <td>binary:logistic</td>\n",
       "      <td>15.0</td>\n",
       "    </tr>\n",
       "    <tr>\n",
       "      <th>19</th>\n",
       "      <td>0.731448</td>\n",
       "      <td>0.7</td>\n",
       "      <td>1.0</td>\n",
       "      <td>0.05</td>\n",
       "      <td>3.0</td>\n",
       "      <td>11.0</td>\n",
       "      <td>50.0</td>\n",
       "      <td>0.75</td>\n",
       "      <td>1337.0</td>\n",
       "      <td>binary:logistic</td>\n",
       "      <td>15.0</td>\n",
       "    </tr>\n",
       "    <tr>\n",
       "      <th>20</th>\n",
       "      <td>0.730310</td>\n",
       "      <td>0.7</td>\n",
       "      <td>1.0</td>\n",
       "      <td>0.05</td>\n",
       "      <td>3.0</td>\n",
       "      <td>11.0</td>\n",
       "      <td>80.0</td>\n",
       "      <td>0.75</td>\n",
       "      <td>1337.0</td>\n",
       "      <td>binary:logistic</td>\n",
       "      <td>15.0</td>\n",
       "    </tr>\n",
       "    <tr>\n",
       "      <th>21</th>\n",
       "      <td>0.732592</td>\n",
       "      <td>0.7</td>\n",
       "      <td>1.0</td>\n",
       "      <td>0.05</td>\n",
       "      <td>3.0</td>\n",
       "      <td>5.0</td>\n",
       "      <td>30.0</td>\n",
       "      <td>0.75</td>\n",
       "      <td>1337.0</td>\n",
       "      <td>binary:logistic</td>\n",
       "      <td>15.0</td>\n",
       "    </tr>\n",
       "    <tr>\n",
       "      <th>22</th>\n",
       "      <td>0.729925</td>\n",
       "      <td>0.7</td>\n",
       "      <td>1.0</td>\n",
       "      <td>0.05</td>\n",
       "      <td>3.0</td>\n",
       "      <td>5.0</td>\n",
       "      <td>50.0</td>\n",
       "      <td>0.75</td>\n",
       "      <td>1337.0</td>\n",
       "      <td>binary:logistic</td>\n",
       "      <td>15.0</td>\n",
       "    </tr>\n",
       "    <tr>\n",
       "      <th>23</th>\n",
       "      <td>0.726895</td>\n",
       "      <td>0.7</td>\n",
       "      <td>1.0</td>\n",
       "      <td>0.05</td>\n",
       "      <td>3.0</td>\n",
       "      <td>5.0</td>\n",
       "      <td>80.0</td>\n",
       "      <td>0.75</td>\n",
       "      <td>1337.0</td>\n",
       "      <td>binary:logistic</td>\n",
       "      <td>15.0</td>\n",
       "    </tr>\n",
       "    <tr>\n",
       "      <th>24</th>\n",
       "      <td>0.732192</td>\n",
       "      <td>0.7</td>\n",
       "      <td>1.0</td>\n",
       "      <td>0.05</td>\n",
       "      <td>3.0</td>\n",
       "      <td>1.0</td>\n",
       "      <td>30.0</td>\n",
       "      <td>0.75</td>\n",
       "      <td>1337.0</td>\n",
       "      <td>binary:logistic</td>\n",
       "      <td>15.0</td>\n",
       "    </tr>\n",
       "    <tr>\n",
       "      <th>25</th>\n",
       "      <td>0.728747</td>\n",
       "      <td>0.7</td>\n",
       "      <td>1.0</td>\n",
       "      <td>0.05</td>\n",
       "      <td>3.0</td>\n",
       "      <td>1.0</td>\n",
       "      <td>50.0</td>\n",
       "      <td>0.75</td>\n",
       "      <td>1337.0</td>\n",
       "      <td>binary:logistic</td>\n",
       "      <td>15.0</td>\n",
       "    </tr>\n",
       "    <tr>\n",
       "      <th>26</th>\n",
       "      <td>0.725255</td>\n",
       "      <td>0.7</td>\n",
       "      <td>1.0</td>\n",
       "      <td>0.05</td>\n",
       "      <td>3.0</td>\n",
       "      <td>1.0</td>\n",
       "      <td>80.0</td>\n",
       "      <td>0.75</td>\n",
       "      <td>1337.0</td>\n",
       "      <td>binary:logistic</td>\n",
       "      <td>15.0</td>\n",
       "    </tr>\n",
       "    <tr>\n",
       "      <th>27</th>\n",
       "      <td>0.733638</td>\n",
       "      <td>0.7</td>\n",
       "      <td>1.0</td>\n",
       "      <td>0.04</td>\n",
       "      <td>3.0</td>\n",
       "      <td>11.0</td>\n",
       "      <td>30.0</td>\n",
       "      <td>0.75</td>\n",
       "      <td>1337.0</td>\n",
       "      <td>binary:logistic</td>\n",
       "      <td>10.0</td>\n",
       "    </tr>\n",
       "    <tr>\n",
       "      <th>28</th>\n",
       "      <td>0.733813</td>\n",
       "      <td>0.7</td>\n",
       "      <td>1.0</td>\n",
       "      <td>0.04</td>\n",
       "      <td>3.0</td>\n",
       "      <td>11.0</td>\n",
       "      <td>50.0</td>\n",
       "      <td>0.75</td>\n",
       "      <td>1337.0</td>\n",
       "      <td>binary:logistic</td>\n",
       "      <td>10.0</td>\n",
       "    </tr>\n",
       "    <tr>\n",
       "      <th>29</th>\n",
       "      <td>0.733769</td>\n",
       "      <td>0.7</td>\n",
       "      <td>1.0</td>\n",
       "      <td>0.04</td>\n",
       "      <td>3.0</td>\n",
       "      <td>11.0</td>\n",
       "      <td>80.0</td>\n",
       "      <td>0.75</td>\n",
       "      <td>1337.0</td>\n",
       "      <td>binary:logistic</td>\n",
       "      <td>10.0</td>\n",
       "    </tr>\n",
       "    <tr>\n",
       "      <th>...</th>\n",
       "      <td>...</td>\n",
       "      <td>...</td>\n",
       "      <td>...</td>\n",
       "      <td>...</td>\n",
       "      <td>...</td>\n",
       "      <td>...</td>\n",
       "      <td>...</td>\n",
       "      <td>...</td>\n",
       "      <td>...</td>\n",
       "      <td>...</td>\n",
       "      <td>...</td>\n",
       "    </tr>\n",
       "    <tr>\n",
       "      <th>105</th>\n",
       "      <td>0.726038</td>\n",
       "      <td>0.7</td>\n",
       "      <td>1.0</td>\n",
       "      <td>0.10</td>\n",
       "      <td>3.0</td>\n",
       "      <td>1.0</td>\n",
       "      <td>30.0</td>\n",
       "      <td>0.75</td>\n",
       "      <td>1337.0</td>\n",
       "      <td>binary:logistic</td>\n",
       "      <td>15.0</td>\n",
       "    </tr>\n",
       "    <tr>\n",
       "      <th>106</th>\n",
       "      <td>0.721914</td>\n",
       "      <td>0.7</td>\n",
       "      <td>1.0</td>\n",
       "      <td>0.10</td>\n",
       "      <td>3.0</td>\n",
       "      <td>1.0</td>\n",
       "      <td>50.0</td>\n",
       "      <td>0.75</td>\n",
       "      <td>1337.0</td>\n",
       "      <td>binary:logistic</td>\n",
       "      <td>15.0</td>\n",
       "    </tr>\n",
       "    <tr>\n",
       "      <th>107</th>\n",
       "      <td>0.715424</td>\n",
       "      <td>0.7</td>\n",
       "      <td>1.0</td>\n",
       "      <td>0.10</td>\n",
       "      <td>3.0</td>\n",
       "      <td>1.0</td>\n",
       "      <td>80.0</td>\n",
       "      <td>0.75</td>\n",
       "      <td>1337.0</td>\n",
       "      <td>binary:logistic</td>\n",
       "      <td>15.0</td>\n",
       "    </tr>\n",
       "    <tr>\n",
       "      <th>108</th>\n",
       "      <td>0.720912</td>\n",
       "      <td>0.7</td>\n",
       "      <td>1.0</td>\n",
       "      <td>0.50</td>\n",
       "      <td>3.0</td>\n",
       "      <td>11.0</td>\n",
       "      <td>30.0</td>\n",
       "      <td>0.75</td>\n",
       "      <td>1337.0</td>\n",
       "      <td>binary:logistic</td>\n",
       "      <td>10.0</td>\n",
       "    </tr>\n",
       "    <tr>\n",
       "      <th>109</th>\n",
       "      <td>0.713517</td>\n",
       "      <td>0.7</td>\n",
       "      <td>1.0</td>\n",
       "      <td>0.50</td>\n",
       "      <td>3.0</td>\n",
       "      <td>11.0</td>\n",
       "      <td>50.0</td>\n",
       "      <td>0.75</td>\n",
       "      <td>1337.0</td>\n",
       "      <td>binary:logistic</td>\n",
       "      <td>10.0</td>\n",
       "    </tr>\n",
       "    <tr>\n",
       "      <th>110</th>\n",
       "      <td>0.705208</td>\n",
       "      <td>0.7</td>\n",
       "      <td>1.0</td>\n",
       "      <td>0.50</td>\n",
       "      <td>3.0</td>\n",
       "      <td>11.0</td>\n",
       "      <td>80.0</td>\n",
       "      <td>0.75</td>\n",
       "      <td>1337.0</td>\n",
       "      <td>binary:logistic</td>\n",
       "      <td>10.0</td>\n",
       "    </tr>\n",
       "    <tr>\n",
       "      <th>111</th>\n",
       "      <td>0.711635</td>\n",
       "      <td>0.7</td>\n",
       "      <td>1.0</td>\n",
       "      <td>0.50</td>\n",
       "      <td>3.0</td>\n",
       "      <td>5.0</td>\n",
       "      <td>30.0</td>\n",
       "      <td>0.75</td>\n",
       "      <td>1337.0</td>\n",
       "      <td>binary:logistic</td>\n",
       "      <td>10.0</td>\n",
       "    </tr>\n",
       "    <tr>\n",
       "      <th>112</th>\n",
       "      <td>0.704393</td>\n",
       "      <td>0.7</td>\n",
       "      <td>1.0</td>\n",
       "      <td>0.50</td>\n",
       "      <td>3.0</td>\n",
       "      <td>5.0</td>\n",
       "      <td>50.0</td>\n",
       "      <td>0.75</td>\n",
       "      <td>1337.0</td>\n",
       "      <td>binary:logistic</td>\n",
       "      <td>10.0</td>\n",
       "    </tr>\n",
       "    <tr>\n",
       "      <th>113</th>\n",
       "      <td>0.690941</td>\n",
       "      <td>0.7</td>\n",
       "      <td>1.0</td>\n",
       "      <td>0.50</td>\n",
       "      <td>3.0</td>\n",
       "      <td>5.0</td>\n",
       "      <td>80.0</td>\n",
       "      <td>0.75</td>\n",
       "      <td>1337.0</td>\n",
       "      <td>binary:logistic</td>\n",
       "      <td>10.0</td>\n",
       "    </tr>\n",
       "    <tr>\n",
       "      <th>114</th>\n",
       "      <td>0.704612</td>\n",
       "      <td>0.7</td>\n",
       "      <td>1.0</td>\n",
       "      <td>0.50</td>\n",
       "      <td>3.0</td>\n",
       "      <td>1.0</td>\n",
       "      <td>30.0</td>\n",
       "      <td>0.75</td>\n",
       "      <td>1337.0</td>\n",
       "      <td>binary:logistic</td>\n",
       "      <td>10.0</td>\n",
       "    </tr>\n",
       "    <tr>\n",
       "      <th>115</th>\n",
       "      <td>0.690498</td>\n",
       "      <td>0.7</td>\n",
       "      <td>1.0</td>\n",
       "      <td>0.50</td>\n",
       "      <td>3.0</td>\n",
       "      <td>1.0</td>\n",
       "      <td>50.0</td>\n",
       "      <td>0.75</td>\n",
       "      <td>1337.0</td>\n",
       "      <td>binary:logistic</td>\n",
       "      <td>10.0</td>\n",
       "    </tr>\n",
       "    <tr>\n",
       "      <th>116</th>\n",
       "      <td>0.673600</td>\n",
       "      <td>0.7</td>\n",
       "      <td>1.0</td>\n",
       "      <td>0.50</td>\n",
       "      <td>3.0</td>\n",
       "      <td>1.0</td>\n",
       "      <td>80.0</td>\n",
       "      <td>0.75</td>\n",
       "      <td>1337.0</td>\n",
       "      <td>binary:logistic</td>\n",
       "      <td>10.0</td>\n",
       "    </tr>\n",
       "    <tr>\n",
       "      <th>117</th>\n",
       "      <td>0.731225</td>\n",
       "      <td>0.7</td>\n",
       "      <td>1.0</td>\n",
       "      <td>0.50</td>\n",
       "      <td>3.0</td>\n",
       "      <td>11.0</td>\n",
       "      <td>30.0</td>\n",
       "      <td>0.75</td>\n",
       "      <td>1337.0</td>\n",
       "      <td>binary:logistic</td>\n",
       "      <td>5.0</td>\n",
       "    </tr>\n",
       "    <tr>\n",
       "      <th>118</th>\n",
       "      <td>0.727869</td>\n",
       "      <td>0.7</td>\n",
       "      <td>1.0</td>\n",
       "      <td>0.50</td>\n",
       "      <td>3.0</td>\n",
       "      <td>11.0</td>\n",
       "      <td>50.0</td>\n",
       "      <td>0.75</td>\n",
       "      <td>1337.0</td>\n",
       "      <td>binary:logistic</td>\n",
       "      <td>5.0</td>\n",
       "    </tr>\n",
       "    <tr>\n",
       "      <th>119</th>\n",
       "      <td>0.724465</td>\n",
       "      <td>0.7</td>\n",
       "      <td>1.0</td>\n",
       "      <td>0.50</td>\n",
       "      <td>3.0</td>\n",
       "      <td>11.0</td>\n",
       "      <td>80.0</td>\n",
       "      <td>0.75</td>\n",
       "      <td>1337.0</td>\n",
       "      <td>binary:logistic</td>\n",
       "      <td>5.0</td>\n",
       "    </tr>\n",
       "    <tr>\n",
       "      <th>120</th>\n",
       "      <td>0.732557</td>\n",
       "      <td>0.7</td>\n",
       "      <td>1.0</td>\n",
       "      <td>0.50</td>\n",
       "      <td>3.0</td>\n",
       "      <td>5.0</td>\n",
       "      <td>30.0</td>\n",
       "      <td>0.75</td>\n",
       "      <td>1337.0</td>\n",
       "      <td>binary:logistic</td>\n",
       "      <td>5.0</td>\n",
       "    </tr>\n",
       "    <tr>\n",
       "      <th>121</th>\n",
       "      <td>0.728689</td>\n",
       "      <td>0.7</td>\n",
       "      <td>1.0</td>\n",
       "      <td>0.50</td>\n",
       "      <td>3.0</td>\n",
       "      <td>5.0</td>\n",
       "      <td>50.0</td>\n",
       "      <td>0.75</td>\n",
       "      <td>1337.0</td>\n",
       "      <td>binary:logistic</td>\n",
       "      <td>5.0</td>\n",
       "    </tr>\n",
       "    <tr>\n",
       "      <th>122</th>\n",
       "      <td>0.723555</td>\n",
       "      <td>0.7</td>\n",
       "      <td>1.0</td>\n",
       "      <td>0.50</td>\n",
       "      <td>3.0</td>\n",
       "      <td>5.0</td>\n",
       "      <td>80.0</td>\n",
       "      <td>0.75</td>\n",
       "      <td>1337.0</td>\n",
       "      <td>binary:logistic</td>\n",
       "      <td>5.0</td>\n",
       "    </tr>\n",
       "    <tr>\n",
       "      <th>123</th>\n",
       "      <td>0.729410</td>\n",
       "      <td>0.7</td>\n",
       "      <td>1.0</td>\n",
       "      <td>0.50</td>\n",
       "      <td>3.0</td>\n",
       "      <td>1.0</td>\n",
       "      <td>30.0</td>\n",
       "      <td>0.75</td>\n",
       "      <td>1337.0</td>\n",
       "      <td>binary:logistic</td>\n",
       "      <td>5.0</td>\n",
       "    </tr>\n",
       "    <tr>\n",
       "      <th>124</th>\n",
       "      <td>0.725854</td>\n",
       "      <td>0.7</td>\n",
       "      <td>1.0</td>\n",
       "      <td>0.50</td>\n",
       "      <td>3.0</td>\n",
       "      <td>1.0</td>\n",
       "      <td>50.0</td>\n",
       "      <td>0.75</td>\n",
       "      <td>1337.0</td>\n",
       "      <td>binary:logistic</td>\n",
       "      <td>5.0</td>\n",
       "    </tr>\n",
       "    <tr>\n",
       "      <th>125</th>\n",
       "      <td>0.717337</td>\n",
       "      <td>0.7</td>\n",
       "      <td>1.0</td>\n",
       "      <td>0.50</td>\n",
       "      <td>3.0</td>\n",
       "      <td>1.0</td>\n",
       "      <td>80.0</td>\n",
       "      <td>0.75</td>\n",
       "      <td>1337.0</td>\n",
       "      <td>binary:logistic</td>\n",
       "      <td>5.0</td>\n",
       "    </tr>\n",
       "    <tr>\n",
       "      <th>126</th>\n",
       "      <td>0.709702</td>\n",
       "      <td>0.7</td>\n",
       "      <td>1.0</td>\n",
       "      <td>0.50</td>\n",
       "      <td>3.0</td>\n",
       "      <td>11.0</td>\n",
       "      <td>30.0</td>\n",
       "      <td>0.75</td>\n",
       "      <td>1337.0</td>\n",
       "      <td>binary:logistic</td>\n",
       "      <td>15.0</td>\n",
       "    </tr>\n",
       "    <tr>\n",
       "      <th>127</th>\n",
       "      <td>0.696985</td>\n",
       "      <td>0.7</td>\n",
       "      <td>1.0</td>\n",
       "      <td>0.50</td>\n",
       "      <td>3.0</td>\n",
       "      <td>11.0</td>\n",
       "      <td>50.0</td>\n",
       "      <td>0.75</td>\n",
       "      <td>1337.0</td>\n",
       "      <td>binary:logistic</td>\n",
       "      <td>15.0</td>\n",
       "    </tr>\n",
       "    <tr>\n",
       "      <th>128</th>\n",
       "      <td>0.689080</td>\n",
       "      <td>0.7</td>\n",
       "      <td>1.0</td>\n",
       "      <td>0.50</td>\n",
       "      <td>3.0</td>\n",
       "      <td>11.0</td>\n",
       "      <td>80.0</td>\n",
       "      <td>0.75</td>\n",
       "      <td>1337.0</td>\n",
       "      <td>binary:logistic</td>\n",
       "      <td>15.0</td>\n",
       "    </tr>\n",
       "    <tr>\n",
       "      <th>129</th>\n",
       "      <td>0.698744</td>\n",
       "      <td>0.7</td>\n",
       "      <td>1.0</td>\n",
       "      <td>0.50</td>\n",
       "      <td>3.0</td>\n",
       "      <td>5.0</td>\n",
       "      <td>30.0</td>\n",
       "      <td>0.75</td>\n",
       "      <td>1337.0</td>\n",
       "      <td>binary:logistic</td>\n",
       "      <td>15.0</td>\n",
       "    </tr>\n",
       "    <tr>\n",
       "      <th>130</th>\n",
       "      <td>0.686429</td>\n",
       "      <td>0.7</td>\n",
       "      <td>1.0</td>\n",
       "      <td>0.50</td>\n",
       "      <td>3.0</td>\n",
       "      <td>5.0</td>\n",
       "      <td>50.0</td>\n",
       "      <td>0.75</td>\n",
       "      <td>1337.0</td>\n",
       "      <td>binary:logistic</td>\n",
       "      <td>15.0</td>\n",
       "    </tr>\n",
       "    <tr>\n",
       "      <th>131</th>\n",
       "      <td>0.671791</td>\n",
       "      <td>0.7</td>\n",
       "      <td>1.0</td>\n",
       "      <td>0.50</td>\n",
       "      <td>3.0</td>\n",
       "      <td>5.0</td>\n",
       "      <td>80.0</td>\n",
       "      <td>0.75</td>\n",
       "      <td>1337.0</td>\n",
       "      <td>binary:logistic</td>\n",
       "      <td>15.0</td>\n",
       "    </tr>\n",
       "    <tr>\n",
       "      <th>132</th>\n",
       "      <td>0.679638</td>\n",
       "      <td>0.7</td>\n",
       "      <td>1.0</td>\n",
       "      <td>0.50</td>\n",
       "      <td>3.0</td>\n",
       "      <td>1.0</td>\n",
       "      <td>30.0</td>\n",
       "      <td>0.75</td>\n",
       "      <td>1337.0</td>\n",
       "      <td>binary:logistic</td>\n",
       "      <td>15.0</td>\n",
       "    </tr>\n",
       "    <tr>\n",
       "      <th>133</th>\n",
       "      <td>0.660265</td>\n",
       "      <td>0.7</td>\n",
       "      <td>1.0</td>\n",
       "      <td>0.50</td>\n",
       "      <td>3.0</td>\n",
       "      <td>1.0</td>\n",
       "      <td>50.0</td>\n",
       "      <td>0.75</td>\n",
       "      <td>1337.0</td>\n",
       "      <td>binary:logistic</td>\n",
       "      <td>15.0</td>\n",
       "    </tr>\n",
       "    <tr>\n",
       "      <th>134</th>\n",
       "      <td>0.647614</td>\n",
       "      <td>0.7</td>\n",
       "      <td>1.0</td>\n",
       "      <td>0.50</td>\n",
       "      <td>3.0</td>\n",
       "      <td>1.0</td>\n",
       "      <td>80.0</td>\n",
       "      <td>0.75</td>\n",
       "      <td>1337.0</td>\n",
       "      <td>binary:logistic</td>\n",
       "      <td>15.0</td>\n",
       "    </tr>\n",
       "  </tbody>\n",
       "</table>\n",
       "<p>135 rows × 11 columns</p>\n",
       "</div>"
      ],
      "text/plain": [
       "     mean_score  colsample_bytree  silent  learning_rate  nthread  \\\n",
       "0      0.734251               0.7     1.0           0.05      3.0   \n",
       "1      0.733508               0.7     1.0           0.05      3.0   \n",
       "2      0.733174               0.7     1.0           0.05      3.0   \n",
       "3      0.734326               0.7     1.0           0.05      3.0   \n",
       "4      0.733291               0.7     1.0           0.05      3.0   \n",
       "5      0.732507               0.7     1.0           0.05      3.0   \n",
       "6      0.734111               0.7     1.0           0.05      3.0   \n",
       "7      0.733195               0.7     1.0           0.05      3.0   \n",
       "8      0.732155               0.7     1.0           0.05      3.0   \n",
       "9      0.734849               0.7     1.0           0.05      3.0   \n",
       "10     0.735055               0.7     1.0           0.05      3.0   \n",
       "11     0.735482               0.7     1.0           0.05      3.0   \n",
       "12     0.734707               0.7     1.0           0.05      3.0   \n",
       "13     0.734894               0.7     1.0           0.05      3.0   \n",
       "14     0.735520               0.7     1.0           0.05      3.0   \n",
       "15     0.734397               0.7     1.0           0.05      3.0   \n",
       "16     0.734765               0.7     1.0           0.05      3.0   \n",
       "17     0.735313               0.7     1.0           0.05      3.0   \n",
       "18     0.733368               0.7     1.0           0.05      3.0   \n",
       "19     0.731448               0.7     1.0           0.05      3.0   \n",
       "20     0.730310               0.7     1.0           0.05      3.0   \n",
       "21     0.732592               0.7     1.0           0.05      3.0   \n",
       "22     0.729925               0.7     1.0           0.05      3.0   \n",
       "23     0.726895               0.7     1.0           0.05      3.0   \n",
       "24     0.732192               0.7     1.0           0.05      3.0   \n",
       "25     0.728747               0.7     1.0           0.05      3.0   \n",
       "26     0.725255               0.7     1.0           0.05      3.0   \n",
       "27     0.733638               0.7     1.0           0.04      3.0   \n",
       "28     0.733813               0.7     1.0           0.04      3.0   \n",
       "29     0.733769               0.7     1.0           0.04      3.0   \n",
       "..          ...               ...     ...            ...      ...   \n",
       "105    0.726038               0.7     1.0           0.10      3.0   \n",
       "106    0.721914               0.7     1.0           0.10      3.0   \n",
       "107    0.715424               0.7     1.0           0.10      3.0   \n",
       "108    0.720912               0.7     1.0           0.50      3.0   \n",
       "109    0.713517               0.7     1.0           0.50      3.0   \n",
       "110    0.705208               0.7     1.0           0.50      3.0   \n",
       "111    0.711635               0.7     1.0           0.50      3.0   \n",
       "112    0.704393               0.7     1.0           0.50      3.0   \n",
       "113    0.690941               0.7     1.0           0.50      3.0   \n",
       "114    0.704612               0.7     1.0           0.50      3.0   \n",
       "115    0.690498               0.7     1.0           0.50      3.0   \n",
       "116    0.673600               0.7     1.0           0.50      3.0   \n",
       "117    0.731225               0.7     1.0           0.50      3.0   \n",
       "118    0.727869               0.7     1.0           0.50      3.0   \n",
       "119    0.724465               0.7     1.0           0.50      3.0   \n",
       "120    0.732557               0.7     1.0           0.50      3.0   \n",
       "121    0.728689               0.7     1.0           0.50      3.0   \n",
       "122    0.723555               0.7     1.0           0.50      3.0   \n",
       "123    0.729410               0.7     1.0           0.50      3.0   \n",
       "124    0.725854               0.7     1.0           0.50      3.0   \n",
       "125    0.717337               0.7     1.0           0.50      3.0   \n",
       "126    0.709702               0.7     1.0           0.50      3.0   \n",
       "127    0.696985               0.7     1.0           0.50      3.0   \n",
       "128    0.689080               0.7     1.0           0.50      3.0   \n",
       "129    0.698744               0.7     1.0           0.50      3.0   \n",
       "130    0.686429               0.7     1.0           0.50      3.0   \n",
       "131    0.671791               0.7     1.0           0.50      3.0   \n",
       "132    0.679638               0.7     1.0           0.50      3.0   \n",
       "133    0.660265               0.7     1.0           0.50      3.0   \n",
       "134    0.647614               0.7     1.0           0.50      3.0   \n",
       "\n",
       "     min_child_weight  n_estimators  subsample    seed        objective  \\\n",
       "0                11.0          30.0       0.75  1337.0  binary:logistic   \n",
       "1                11.0          50.0       0.75  1337.0  binary:logistic   \n",
       "2                11.0          80.0       0.75  1337.0  binary:logistic   \n",
       "3                 5.0          30.0       0.75  1337.0  binary:logistic   \n",
       "4                 5.0          50.0       0.75  1337.0  binary:logistic   \n",
       "5                 5.0          80.0       0.75  1337.0  binary:logistic   \n",
       "6                 1.0          30.0       0.75  1337.0  binary:logistic   \n",
       "7                 1.0          50.0       0.75  1337.0  binary:logistic   \n",
       "8                 1.0          80.0       0.75  1337.0  binary:logistic   \n",
       "9                11.0          30.0       0.75  1337.0  binary:logistic   \n",
       "10               11.0          50.0       0.75  1337.0  binary:logistic   \n",
       "11               11.0          80.0       0.75  1337.0  binary:logistic   \n",
       "12                5.0          30.0       0.75  1337.0  binary:logistic   \n",
       "13                5.0          50.0       0.75  1337.0  binary:logistic   \n",
       "14                5.0          80.0       0.75  1337.0  binary:logistic   \n",
       "15                1.0          30.0       0.75  1337.0  binary:logistic   \n",
       "16                1.0          50.0       0.75  1337.0  binary:logistic   \n",
       "17                1.0          80.0       0.75  1337.0  binary:logistic   \n",
       "18               11.0          30.0       0.75  1337.0  binary:logistic   \n",
       "19               11.0          50.0       0.75  1337.0  binary:logistic   \n",
       "20               11.0          80.0       0.75  1337.0  binary:logistic   \n",
       "21                5.0          30.0       0.75  1337.0  binary:logistic   \n",
       "22                5.0          50.0       0.75  1337.0  binary:logistic   \n",
       "23                5.0          80.0       0.75  1337.0  binary:logistic   \n",
       "24                1.0          30.0       0.75  1337.0  binary:logistic   \n",
       "25                1.0          50.0       0.75  1337.0  binary:logistic   \n",
       "26                1.0          80.0       0.75  1337.0  binary:logistic   \n",
       "27               11.0          30.0       0.75  1337.0  binary:logistic   \n",
       "28               11.0          50.0       0.75  1337.0  binary:logistic   \n",
       "29               11.0          80.0       0.75  1337.0  binary:logistic   \n",
       "..                ...           ...        ...     ...              ...   \n",
       "105               1.0          30.0       0.75  1337.0  binary:logistic   \n",
       "106               1.0          50.0       0.75  1337.0  binary:logistic   \n",
       "107               1.0          80.0       0.75  1337.0  binary:logistic   \n",
       "108              11.0          30.0       0.75  1337.0  binary:logistic   \n",
       "109              11.0          50.0       0.75  1337.0  binary:logistic   \n",
       "110              11.0          80.0       0.75  1337.0  binary:logistic   \n",
       "111               5.0          30.0       0.75  1337.0  binary:logistic   \n",
       "112               5.0          50.0       0.75  1337.0  binary:logistic   \n",
       "113               5.0          80.0       0.75  1337.0  binary:logistic   \n",
       "114               1.0          30.0       0.75  1337.0  binary:logistic   \n",
       "115               1.0          50.0       0.75  1337.0  binary:logistic   \n",
       "116               1.0          80.0       0.75  1337.0  binary:logistic   \n",
       "117              11.0          30.0       0.75  1337.0  binary:logistic   \n",
       "118              11.0          50.0       0.75  1337.0  binary:logistic   \n",
       "119              11.0          80.0       0.75  1337.0  binary:logistic   \n",
       "120               5.0          30.0       0.75  1337.0  binary:logistic   \n",
       "121               5.0          50.0       0.75  1337.0  binary:logistic   \n",
       "122               5.0          80.0       0.75  1337.0  binary:logistic   \n",
       "123               1.0          30.0       0.75  1337.0  binary:logistic   \n",
       "124               1.0          50.0       0.75  1337.0  binary:logistic   \n",
       "125               1.0          80.0       0.75  1337.0  binary:logistic   \n",
       "126              11.0          30.0       0.75  1337.0  binary:logistic   \n",
       "127              11.0          50.0       0.75  1337.0  binary:logistic   \n",
       "128              11.0          80.0       0.75  1337.0  binary:logistic   \n",
       "129               5.0          30.0       0.75  1337.0  binary:logistic   \n",
       "130               5.0          50.0       0.75  1337.0  binary:logistic   \n",
       "131               5.0          80.0       0.75  1337.0  binary:logistic   \n",
       "132               1.0          30.0       0.75  1337.0  binary:logistic   \n",
       "133               1.0          50.0       0.75  1337.0  binary:logistic   \n",
       "134               1.0          80.0       0.75  1337.0  binary:logistic   \n",
       "\n",
       "     max_depth  \n",
       "0         10.0  \n",
       "1         10.0  \n",
       "2         10.0  \n",
       "3         10.0  \n",
       "4         10.0  \n",
       "5         10.0  \n",
       "6         10.0  \n",
       "7         10.0  \n",
       "8         10.0  \n",
       "9          5.0  \n",
       "10         5.0  \n",
       "11         5.0  \n",
       "12         5.0  \n",
       "13         5.0  \n",
       "14         5.0  \n",
       "15         5.0  \n",
       "16         5.0  \n",
       "17         5.0  \n",
       "18        15.0  \n",
       "19        15.0  \n",
       "20        15.0  \n",
       "21        15.0  \n",
       "22        15.0  \n",
       "23        15.0  \n",
       "24        15.0  \n",
       "25        15.0  \n",
       "26        15.0  \n",
       "27        10.0  \n",
       "28        10.0  \n",
       "29        10.0  \n",
       "..         ...  \n",
       "105       15.0  \n",
       "106       15.0  \n",
       "107       15.0  \n",
       "108       10.0  \n",
       "109       10.0  \n",
       "110       10.0  \n",
       "111       10.0  \n",
       "112       10.0  \n",
       "113       10.0  \n",
       "114       10.0  \n",
       "115       10.0  \n",
       "116       10.0  \n",
       "117        5.0  \n",
       "118        5.0  \n",
       "119        5.0  \n",
       "120        5.0  \n",
       "121        5.0  \n",
       "122        5.0  \n",
       "123        5.0  \n",
       "124        5.0  \n",
       "125        5.0  \n",
       "126       15.0  \n",
       "127       15.0  \n",
       "128       15.0  \n",
       "129       15.0  \n",
       "130       15.0  \n",
       "131       15.0  \n",
       "132       15.0  \n",
       "133       15.0  \n",
       "134       15.0  \n",
       "\n",
       "[135 rows x 11 columns]"
      ]
     },
     "execution_count": 92,
     "metadata": {},
     "output_type": "execute_result"
    }
   ],
   "source": [
    "cv_result"
   ]
  },
  {
   "cell_type": "code",
   "execution_count": 113,
   "metadata": {
    "collapsed": false,
    "scrolled": true
   },
   "outputs": [
    {
     "name": "stdout",
     "output_type": "stream",
     "text": [
      "colsample_bytree\n",
      "0.7    0.726528\n",
      "Name: mean_score, dtype: float64\n"
     ]
    },
    {
     "data": {
      "text/plain": [
       "colsample_bytree\n",
       "0.7    0.015647\n",
       "Name: mean_score, dtype: float64"
      ]
     },
     "execution_count": 113,
     "metadata": {},
     "output_type": "execute_result"
    }
   ],
   "source": [
    "coln = 1\n",
    "print(cv_result.groupby(cv_result.columns[coln])['mean_score'].mean())\n",
    "cv_result.groupby(cv_result.columns[coln])['mean_score'].std()"
   ]
  },
  {
   "cell_type": "markdown",
   "metadata": {},
   "source": [
    "##  Best_Params\n",
    "* learning_rate: betwween 0.01 to 0.1\n",
    "* min_child_weight: >5 is better std error\n",
    "* n_estimators: <30 is better std error\n",
    "* max_depth: >15 is slightly slightly better in mean but slightly worse in std.\n"
   ]
  },
  {
   "cell_type": "code",
   "execution_count": null,
   "metadata": {
    "collapsed": true
   },
   "outputs": [],
   "source": []
  }
 ],
 "metadata": {
  "kernelspec": {
   "display_name": "Python 2",
   "language": "python",
   "name": "python2"
  },
  "language_info": {
   "codemirror_mode": {
    "name": "ipython",
    "version": 2
   },
   "file_extension": ".py",
   "mimetype": "text/x-python",
   "name": "python",
   "nbconvert_exporter": "python",
   "pygments_lexer": "ipython2",
   "version": "2.7.10"
  }
 },
 "nbformat": 4,
 "nbformat_minor": 0
}
