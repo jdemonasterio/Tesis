{
 "cells": [
  {
   "cell_type": "markdown",
   "metadata": {},
   "source": [
    "# Mexico Antenna exploration and processing\n",
    "La idea es\n",
    "\n",
    "* Catalogar antenas por sus provincias \n",
    "* Graficar el mapa de Mexico con sus antennas\n",
    "* limpiar aquellas que caigan \"al agua\"\n",
    "* Catalogar las antenas como pertenecientes o no a regiones del *\"Gran Chaco\"* mejicano\n",
    "\n",
    "## definicion utilizada"
   ]
  },
  {
   "cell_type": "code",
   "execution_count": 1,
   "metadata": {
    "collapsed": true
   },
   "outputs": [],
   "source": [
    "import pandas as pd; import numpy as np; import os;import random;\n",
    "pd.set_option('display.max_rows', 300)\n",
    "from matplotlib import pyplot as plt\n",
    "%matplotlib inline\n",
    "import unicodedata"
   ]
  },
  {
   "cell_type": "code",
   "execution_count": 3,
   "metadata": {
    "collapsed": false
   },
   "outputs": [],
   "source": [
    "#from mpl_toolkits.basemap import Basemap\n",
    "import geopandas as gpd;\n",
    "from geopandas.geoseries import *\n",
    "import shapely"
   ]
  },
  {
   "cell_type": "code",
   "execution_count": 4,
   "metadata": {
    "collapsed": true
   },
   "outputs": [],
   "source": [
    "np.random.seed(2015)"
   ]
  },
  {
   "cell_type": "code",
   "execution_count": 5,
   "metadata": {
    "collapsed": true
   },
   "outputs": [],
   "source": [
    "global mapa"
   ]
  },
  {
   "cell_type": "code",
   "execution_count": 36,
   "metadata": {
    "collapsed": false
   },
   "outputs": [],
   "source": [
    "input_file = 'mapas/national_estatal.geojson'"
   ]
  },
  {
   "cell_type": "code",
   "execution_count": 9,
   "metadata": {
    "collapsed": false
   },
   "outputs": [],
   "source": [
    "mapa = gpd.GeoDataFrame.from_file(input_file)"
   ]
  },
  {
   "cell_type": "code",
   "execution_count": 14,
   "metadata": {
    "collapsed": false
   },
   "outputs": [
    {
     "data": {
      "text/plain": [
       "array([u'Aguascalientes', u'Baja California', u'Baja California Sur',\n",
       "       u'Campeche', u'Coahuila de Zaragoza', u'Colima', u'Chiapas',\n",
       "       u'Chihuahua', u'Distrito Federal', u'Durango', u'Guanajuato',\n",
       "       u'Guerrero', u'Hidalgo', u'Jalisco', u'Mexico',\n",
       "       u'Michoacan de Ocampo', u'Morelos', u'Nayarit', u'Nuevo Leon',\n",
       "       u'Oaxaca', u'Puebla', u'Queretaro', u'Quintana Roo',\n",
       "       u'San Luis Potosi', u'Sinaloa', u'Sonora', u'Tabasco',\n",
       "       u'Tamaulipas', u'Tlaxcala', u'Veracruz de Ignacio de la Llave',\n",
       "       u'Yucatan', u'Zacatecas'], dtype=object)"
      ]
     },
     "execution_count": 14,
     "metadata": {},
     "output_type": "execute_result"
    }
   ],
   "source": [
    "mapa['NOMBRE'].unique()"
   ]
  },
  {
   "cell_type": "code",
   "execution_count": 23,
   "metadata": {
    "collapsed": false
   },
   "outputs": [
    {
     "data": {
      "text/plain": [
       "((4464, 5), (4429, 4))"
      ]
     },
     "execution_count": 23,
     "metadata": {},
     "output_type": "execute_result"
    }
   ],
   "source": [
    "antenas.shape,antennas.shape"
   ]
  },
  {
   "cell_type": "code",
   "execution_count": 24,
   "metadata": {
    "collapsed": false,
    "scrolled": true
   },
   "outputs": [
    {
     "data": {
      "text/html": [
       "<div>\n",
       "<table border=\"1\" class=\"dataframe\">\n",
       "  <thead>\n",
       "    <tr style=\"text-align: right;\">\n",
       "      <th></th>\n",
       "      <th>LATITUDE</th>\n",
       "      <th>LONGITUDE</th>\n",
       "      <th>STATE</th>\n",
       "      <th>EPIDEMIC</th>\n",
       "    </tr>\n",
       "    <tr>\n",
       "      <th>ID</th>\n",
       "      <th></th>\n",
       "      <th></th>\n",
       "      <th></th>\n",
       "      <th></th>\n",
       "    </tr>\n",
       "  </thead>\n",
       "  <tbody>\n",
       "    <tr>\n",
       "      <th>2797</th>\n",
       "      <td>14.671</td>\n",
       "      <td>-92.372</td>\n",
       "      <td>Chiapas</td>\n",
       "      <td>1</td>\n",
       "    </tr>\n",
       "    <tr>\n",
       "      <th>3060</th>\n",
       "      <td>14.682</td>\n",
       "      <td>-92.155</td>\n",
       "      <td>Chiapas</td>\n",
       "      <td>1</td>\n",
       "    </tr>\n",
       "    <tr>\n",
       "      <th>3344</th>\n",
       "      <td>14.721</td>\n",
       "      <td>-92.424</td>\n",
       "      <td>Chiapas</td>\n",
       "      <td>1</td>\n",
       "    </tr>\n",
       "    <tr>\n",
       "      <th>3487</th>\n",
       "      <td>14.778</td>\n",
       "      <td>-92.179</td>\n",
       "      <td>Chiapas</td>\n",
       "      <td>1</td>\n",
       "    </tr>\n",
       "    <tr>\n",
       "      <th>1924</th>\n",
       "      <td>14.786</td>\n",
       "      <td>-92.366</td>\n",
       "      <td>Chiapas</td>\n",
       "      <td>1</td>\n",
       "    </tr>\n",
       "    <tr>\n",
       "      <th>1001</th>\n",
       "      <td>14.870</td>\n",
       "      <td>-92.285</td>\n",
       "      <td>Chiapas</td>\n",
       "      <td>1</td>\n",
       "    </tr>\n",
       "    <tr>\n",
       "      <th>2914</th>\n",
       "      <td>14.882</td>\n",
       "      <td>-92.265</td>\n",
       "      <td>Chiapas</td>\n",
       "      <td>1</td>\n",
       "    </tr>\n",
       "    <tr>\n",
       "      <th>2094</th>\n",
       "      <td>14.888</td>\n",
       "      <td>-92.283</td>\n",
       "      <td>Chiapas</td>\n",
       "      <td>1</td>\n",
       "    </tr>\n",
       "    <tr>\n",
       "      <th>2055</th>\n",
       "      <td>14.888</td>\n",
       "      <td>-92.250</td>\n",
       "      <td>Chiapas</td>\n",
       "      <td>1</td>\n",
       "    </tr>\n",
       "    <tr>\n",
       "      <th>2257</th>\n",
       "      <td>14.897</td>\n",
       "      <td>-92.273</td>\n",
       "      <td>Chiapas</td>\n",
       "      <td>1</td>\n",
       "    </tr>\n",
       "    <tr>\n",
       "      <th>914</th>\n",
       "      <td>14.900</td>\n",
       "      <td>-92.245</td>\n",
       "      <td>Chiapas</td>\n",
       "      <td>1</td>\n",
       "    </tr>\n",
       "    <tr>\n",
       "      <th>998</th>\n",
       "      <td>14.908</td>\n",
       "      <td>-92.264</td>\n",
       "      <td>Chiapas</td>\n",
       "      <td>1</td>\n",
       "    </tr>\n",
       "    <tr>\n",
       "      <th>999</th>\n",
       "      <td>14.922</td>\n",
       "      <td>-92.251</td>\n",
       "      <td>Chiapas</td>\n",
       "      <td>1</td>\n",
       "    </tr>\n",
       "    <tr>\n",
       "      <th>1000</th>\n",
       "      <td>14.932</td>\n",
       "      <td>-92.271</td>\n",
       "      <td>Chiapas</td>\n",
       "      <td>1</td>\n",
       "    </tr>\n",
       "    <tr>\n",
       "      <th>3574</th>\n",
       "      <td>15.012</td>\n",
       "      <td>-92.392</td>\n",
       "      <td>Chiapas</td>\n",
       "      <td>1</td>\n",
       "    </tr>\n",
       "  </tbody>\n",
       "</table>\n",
       "</div>"
      ],
      "text/plain": [
       "      LATITUDE  LONGITUDE    STATE  EPIDEMIC\n",
       "ID                                          \n",
       "2797    14.671    -92.372  Chiapas         1\n",
       "3060    14.682    -92.155  Chiapas         1\n",
       "3344    14.721    -92.424  Chiapas         1\n",
       "3487    14.778    -92.179  Chiapas         1\n",
       "1924    14.786    -92.366  Chiapas         1\n",
       "1001    14.870    -92.285  Chiapas         1\n",
       "2914    14.882    -92.265  Chiapas         1\n",
       "2094    14.888    -92.283  Chiapas         1\n",
       "2055    14.888    -92.250  Chiapas         1\n",
       "2257    14.897    -92.273  Chiapas         1\n",
       "914     14.900    -92.245  Chiapas         1\n",
       "998     14.908    -92.264  Chiapas         1\n",
       "999     14.922    -92.251  Chiapas         1\n",
       "1000    14.932    -92.271  Chiapas         1\n",
       "3574    15.012    -92.392  Chiapas         1"
      ]
     },
     "execution_count": 24,
     "metadata": {},
     "output_type": "execute_result"
    }
   ],
   "source": [
    "antenas= pd.read_csv('/home/juan/mobility-study/antennas_mexico.csv',sep = \"|\",header=0,index_col=0)\n",
    "#chequeo resultados rapido\n",
    "antenas.head(15)"
   ]
  },
  {
   "cell_type": "markdown",
   "metadata": {},
   "source": [
    "# Muy importante!\n",
    " \n",
    "Las coordenadas en un mapa se dan en (lat, long) que no corresponden a las coordenadas cartesianas sino a (y,x) con lo cual es importante armar los **Point** con (long,lat), sino imposible comprarar quien esta dentro de que.."
   ]
  },
  {
   "cell_type": "code",
   "execution_count": 25,
   "metadata": {
    "collapsed": false
   },
   "outputs": [],
   "source": [
    "subset =  antenas[['LONGITUDE','LATITUDE']]\n",
    "tuples = [shapely.geometry.Point(x) for x in subset.values] \n",
    "global antenas_gpd \n",
    "antenas_gpd =  gpd.GeoSeries(tuples)"
   ]
  },
  {
   "cell_type": "code",
   "execution_count": 26,
   "metadata": {
    "collapsed": false
   },
   "outputs": [],
   "source": [
    "def preparar_nombre(s):\n",
    "        #esta linea elimina las tildes espacios puntos y similar\"\n",
    "        sin_tilde = ''.join((c for c in unicodedata.normalize('NFD', s) if unicodedata.category(c) != 'Mn'))\n",
    "        limpio = sin_tilde.replace(\" \",\"_\").replace(\".\",\"\")\n",
    "        #me quedo con el nombre corto de Veracruz\n",
    "        if limpio == u'Veracruz_de_Ignacio_de_la_Llave':\n",
    "            limpio = u'Veracruz'\n",
    "        return limpio"
   ]
  },
  {
   "cell_type": "code",
   "execution_count": 27,
   "metadata": {
    "collapsed": false,
    "scrolled": true
   },
   "outputs": [],
   "source": [
    "mapa['NOMBRE'] = mapa['NOMBRE'].apply(lambda s: preparar_nombre(s))"
   ]
  },
  {
   "cell_type": "code",
   "execution_count": 28,
   "metadata": {
    "collapsed": true
   },
   "outputs": [],
   "source": [
    "def get_epidemic_state(estado):\n",
    "    sol=0\n",
    "    epidemicos =  [u'Jalisco', u'Oaxaca', u'Puebla', u'Queretaro',u'Veracruz', u'Guerrero',u'Morelos', \\\n",
    "                     u'Nayarit',u'Yucatan',u'Chiapas',u'Tabasco',u'Hidalgo']\n",
    "    if estado in epidemicos:\n",
    "        sol =1\n",
    "    return sol    "
   ]
  },
  {
   "cell_type": "code",
   "execution_count": 29,
   "metadata": {
    "collapsed": true
   },
   "outputs": [],
   "source": [
    "mapa['EPIDEMIC']=mapa['NOMBRE'].apply(lambda k: get_epidemic_state(k))"
   ]
  },
  {
   "cell_type": "code",
   "execution_count": 30,
   "metadata": {
    "collapsed": false
   },
   "outputs": [
    {
     "data": {
      "text/plain": [
       "(32, 161)"
      ]
     },
     "execution_count": 30,
     "metadata": {},
     "output_type": "execute_result"
    }
   ],
   "source": [
    "mapa.shape"
   ]
  },
  {
   "cell_type": "code",
   "execution_count": 31,
   "metadata": {
    "collapsed": false
   },
   "outputs": [
    {
     "data": {
      "text/html": [
       "<div>\n",
       "<table border=\"1\" class=\"dataframe\">\n",
       "  <thead>\n",
       "    <tr style=\"text-align: right;\">\n",
       "      <th></th>\n",
       "      <th>CVEGEO</th>\n",
       "      <th>NOMBRE</th>\n",
       "      <th>OID</th>\n",
       "      <th>POB1</th>\n",
       "      <th>POB10</th>\n",
       "      <th>POB10_R</th>\n",
       "      <th>POB11</th>\n",
       "      <th>POB11_R</th>\n",
       "      <th>POB12</th>\n",
       "      <th>POB12_R</th>\n",
       "      <th>...</th>\n",
       "      <th>POB8</th>\n",
       "      <th>POB80</th>\n",
       "      <th>POB80_R</th>\n",
       "      <th>POB81</th>\n",
       "      <th>POB81_R</th>\n",
       "      <th>POB8_R</th>\n",
       "      <th>POB9</th>\n",
       "      <th>POB9_R</th>\n",
       "      <th>geometry</th>\n",
       "      <th>EPIDEMIC</th>\n",
       "    </tr>\n",
       "  </thead>\n",
       "  <tbody>\n",
       "    <tr>\n",
       "      <th>0</th>\n",
       "      <td>01</td>\n",
       "      <td>Aguascalientes</td>\n",
       "      <td>1</td>\n",
       "      <td>1184996</td>\n",
       "      <td>227733</td>\n",
       "      <td>19.2</td>\n",
       "      <td>321337</td>\n",
       "      <td>27.1</td>\n",
       "      <td>746380</td>\n",
       "      <td>63.0</td>\n",
       "      <td>...</td>\n",
       "      <td>374237</td>\n",
       "      <td>27477</td>\n",
       "      <td>4.8</td>\n",
       "      <td>17582</td>\n",
       "      <td>3.0</td>\n",
       "      <td>31.6</td>\n",
       "      <td>74156</td>\n",
       "      <td>6.3</td>\n",
       "      <td>POLYGON ((-102.287865181776 22.41649003941674,...</td>\n",
       "      <td>0</td>\n",
       "    </tr>\n",
       "    <tr>\n",
       "      <th>1</th>\n",
       "      <td>02</td>\n",
       "      <td>Baja_California</td>\n",
       "      <td>2</td>\n",
       "      <td>3155070</td>\n",
       "      <td>585674</td>\n",
       "      <td>18.6</td>\n",
       "      <td>851102</td>\n",
       "      <td>27.0</td>\n",
       "      <td>2075134</td>\n",
       "      <td>65.8</td>\n",
       "      <td>...</td>\n",
       "      <td>901886</td>\n",
       "      <td>65653</td>\n",
       "      <td>4.1</td>\n",
       "      <td>40567</td>\n",
       "      <td>2.5</td>\n",
       "      <td>28.6</td>\n",
       "      <td>179165</td>\n",
       "      <td>5.7</td>\n",
       "      <td>(POLYGON ((-112.663839812965 28.41882990629272...</td>\n",
       "      <td>0</td>\n",
       "    </tr>\n",
       "    <tr>\n",
       "      <th>2</th>\n",
       "      <td>03</td>\n",
       "      <td>Baja_California_Sur</td>\n",
       "      <td>3</td>\n",
       "      <td>637026</td>\n",
       "      <td>116403</td>\n",
       "      <td>18.3</td>\n",
       "      <td>173928</td>\n",
       "      <td>27.3</td>\n",
       "      <td>421998</td>\n",
       "      <td>66.2</td>\n",
       "      <td>...</td>\n",
       "      <td>178472</td>\n",
       "      <td>13323</td>\n",
       "      <td>4.1</td>\n",
       "      <td>8098</td>\n",
       "      <td>2.5</td>\n",
       "      <td>28.0</td>\n",
       "      <td>34715</td>\n",
       "      <td>5.4</td>\n",
       "      <td>(POLYGON ((-109.8946081395473 22.8748229076171...</td>\n",
       "      <td>0</td>\n",
       "    </tr>\n",
       "    <tr>\n",
       "      <th>3</th>\n",
       "      <td>04</td>\n",
       "      <td>Campeche</td>\n",
       "      <td>4</td>\n",
       "      <td>822441</td>\n",
       "      <td>159308</td>\n",
       "      <td>19.4</td>\n",
       "      <td>227505</td>\n",
       "      <td>27.7</td>\n",
       "      <td>533014</td>\n",
       "      <td>64.8</td>\n",
       "      <td>...</td>\n",
       "      <td>236538</td>\n",
       "      <td>23517</td>\n",
       "      <td>5.8</td>\n",
       "      <td>15922</td>\n",
       "      <td>3.9</td>\n",
       "      <td>28.8</td>\n",
       "      <td>50917</td>\n",
       "      <td>6.2</td>\n",
       "      <td>(POLYGON ((-90.379356996781 20.84832728852915,...</td>\n",
       "      <td>0</td>\n",
       "    </tr>\n",
       "    <tr>\n",
       "      <th>4</th>\n",
       "      <td>05</td>\n",
       "      <td>Coahuila_de_Zaragoza</td>\n",
       "      <td>5</td>\n",
       "      <td>2748391</td>\n",
       "      <td>492074</td>\n",
       "      <td>17.9</td>\n",
       "      <td>702310</td>\n",
       "      <td>25.6</td>\n",
       "      <td>1756839</td>\n",
       "      <td>63.9</td>\n",
       "      <td>...</td>\n",
       "      <td>797175</td>\n",
       "      <td>73690</td>\n",
       "      <td>5.4</td>\n",
       "      <td>46863</td>\n",
       "      <td>3.4</td>\n",
       "      <td>29.0</td>\n",
       "      <td>160612</td>\n",
       "      <td>5.8</td>\n",
       "      <td>POLYGON ((-102.3107926469074 29.87694857356026...</td>\n",
       "      <td>0</td>\n",
       "    </tr>\n",
       "  </tbody>\n",
       "</table>\n",
       "<p>5 rows × 161 columns</p>\n",
       "</div>"
      ],
      "text/plain": [
       "  CVEGEO                NOMBRE  OID     POB1   POB10  POB10_R   POB11  \\\n",
       "0     01        Aguascalientes    1  1184996  227733     19.2  321337   \n",
       "1     02       Baja_California    2  3155070  585674     18.6  851102   \n",
       "2     03   Baja_California_Sur    3   637026  116403     18.3  173928   \n",
       "3     04              Campeche    4   822441  159308     19.4  227505   \n",
       "4     05  Coahuila_de_Zaragoza    5  2748391  492074     17.9  702310   \n",
       "\n",
       "   POB11_R    POB12  POB12_R    ...       POB8  POB80  POB80_R  POB81  \\\n",
       "0     27.1   746380     63.0    ...     374237  27477      4.8  17582   \n",
       "1     27.0  2075134     65.8    ...     901886  65653      4.1  40567   \n",
       "2     27.3   421998     66.2    ...     178472  13323      4.1   8098   \n",
       "3     27.7   533014     64.8    ...     236538  23517      5.8  15922   \n",
       "4     25.6  1756839     63.9    ...     797175  73690      5.4  46863   \n",
       "\n",
       "   POB81_R  POB8_R    POB9  POB9_R  \\\n",
       "0      3.0    31.6   74156     6.3   \n",
       "1      2.5    28.6  179165     5.7   \n",
       "2      2.5    28.0   34715     5.4   \n",
       "3      3.9    28.8   50917     6.2   \n",
       "4      3.4    29.0  160612     5.8   \n",
       "\n",
       "                                            geometry  EPIDEMIC  \n",
       "0  POLYGON ((-102.287865181776 22.41649003941674,...         0  \n",
       "1  (POLYGON ((-112.663839812965 28.41882990629272...         0  \n",
       "2  (POLYGON ((-109.8946081395473 22.8748229076171...         0  \n",
       "3  (POLYGON ((-90.379356996781 20.84832728852915,...         0  \n",
       "4  POLYGON ((-102.3107926469074 29.87694857356026...         0  \n",
       "\n",
       "[5 rows x 161 columns]"
      ]
     },
     "execution_count": 31,
     "metadata": {},
     "output_type": "execute_result"
    }
   ],
   "source": [
    "mapa.head()"
   ]
  },
  {
   "cell_type": "code",
   "execution_count": 32,
   "metadata": {
    "collapsed": false
   },
   "outputs": [
    {
     "data": {
      "text/plain": [
       "4429"
      ]
     },
     "execution_count": 32,
     "metadata": {},
     "output_type": "execute_result"
    }
   ],
   "source": [
    "len(antenas_gpd)"
   ]
  },
  {
   "cell_type": "code",
   "execution_count": 62,
   "metadata": {
    "collapsed": false
   },
   "outputs": [
    {
     "data": {
      "text/plain": [
       "<matplotlib.figure.Figure at 0x7effaf64ff10>"
      ]
     },
     "metadata": {},
     "output_type": "display_data"
    }
   ],
   "source": [
    "#la dupla de figsize se mide en pulgadas\n",
    "fig = plt.figure(num=1,figsize=(6,6),dpi=200,facecolor='w',edgecolor='b')"
   ]
  },
  {
   "cell_type": "code",
   "execution_count": 66,
   "metadata": {
    "collapsed": true
   },
   "outputs": [],
   "source": [
    "del fig"
   ]
  },
  {
   "cell_type": "code",
   "execution_count": 33,
   "metadata": {
    "collapsed": true
   },
   "outputs": [],
   "source": [
    "from geopandas.plotting import plot_multipolygon"
   ]
  },
  {
   "cell_type": "code",
   "execution_count": 38,
   "metadata": {
    "collapsed": true
   },
   "outputs": [],
   "source": [
    "mapa.to_file?"
   ]
  },
  {
   "cell_type": "code",
   "execution_count": 34,
   "metadata": {
    "collapsed": false
   },
   "outputs": [
    {
     "data": {
      "image/png": "[encoded data removed]",
      "text/plain": [
       "<matplotlib.figure.Figure at 0x7f618e63fb10>"
      ]
     },
     "metadata": {},
     "output_type": "display_data"
    }
   ],
   "source": [
    "mexico_plot = mapa.geometry.plot()"
   ]
  },
  {
   "cell_type": "code",
   "execution_count": 96,
   "metadata": {
    "collapsed": false
   },
   "outputs": [
    {
     "data": {
      "image/png": "[encoded data removed]",
      "text/plain": [
       "<matplotlib.figure.Figure at 0x7effaee9a990>"
      ]
     },
     "metadata": {},
     "output_type": "display_data"
    }
   ],
   "source": [
    "ax= plt.gca()"
   ]
  },
  {
   "cell_type": "code",
   "execution_count": 104,
   "metadata": {
    "collapsed": false
   },
   "outputs": [],
   "source": [
    "poly = mapa[mapa.NOMBRE == \"Veracruz\"]\n",
    "plot_multipolygon(mexico_plot, poly.geometry.iloc[0], facecolor=\"#000000\")"
   ]
  },
  {
   "cell_type": "code",
   "execution_count": 121,
   "metadata": {
    "collapsed": false
   },
   "outputs": [
    {
     "data": {
      "text/plain": [
       "(-118.40764955087901,\n",
       " 14.532098361948284,\n",
       " -86.710405270056683,\n",
       " 32.718653575262067)"
      ]
     },
     "execution_count": 121,
     "metadata": {},
     "output_type": "execute_result"
    }
   ],
   "source": [
    "mapa['geometry'].total_bounds"
   ]
  },
  {
   "cell_type": "code",
   "execution_count": 123,
   "metadata": {
    "collapsed": true
   },
   "outputs": [],
   "source": [
    "a=2"
   ]
  },
  {
   "cell_type": "code",
   "execution_count": 51,
   "metadata": {
    "collapsed": false
   },
   "outputs": [],
   "source": [
    "epidemicos =  [u'Jalisco', u'Oaxaca', u'Puebla', u'Queretaro',u'Veracruz', u'Guerrero',u'Morelos', \\\n",
    "                     u'Nayarit',u'Yucatan',u'Chiapas',u'Tabasco',u'Hidalgo']\n",
    "epidemicos_dict={u'Jalisco':12, u'Oaxaca':19, u'Puebla':20, u'Queretaro':21,u'Veracruz':29, \\\n",
    "        u'Guerrero':11,u'Morelos':16, u'Nayarit':17,u'Yucatan':30,u'Chiapas':6,u'Tabasco':26,u'Hidalgo':12}"
   ]
  },
  {
   "cell_type": "code",
   "execution_count": 56,
   "metadata": {
    "collapsed": true
   },
   "outputs": [],
   "source": [
    "mexico_plot.patches[29].set_color(\"#33ccff\")"
   ]
  },
  {
   "cell_type": "code",
   "execution_count": 128,
   "metadata": {
    "collapsed": false
   },
   "outputs": [
    {
     "name": "stdout",
     "output_type": "stream",
     "text": [
      "Unrecognized scheme:  Quantile\n",
      "Using Quantiles instead\n"
     ]
    },
    {
     "data": {
      "text/plain": [
       "<matplotlib.axes._subplots.AxesSubplot at 0x7eff9781a290>"
      ]
     },
     "execution_count": 128,
     "metadata": {},
     "output_type": "execute_result"
    },
    {
     "data": {
      "image/png": "[encoded data removed]",
      "text/plain": [
       "<matplotlib.figure.Figure at 0x7eff97878610>"
      ]
     },
     "metadata": {},
     "output_type": "display_data"
    }
   ],
   "source": [
    "kw = dict(column=\"EPIDEMIC\",k=6,colormap='YlGn')\n",
    "mapa.plot(scheme = \"Quantile\",**kw)"
   ]
  },
  {
   "cell_type": "code",
   "execution_count": null,
   "metadata": {
    "collapsed": true
   },
   "outputs": [],
   "source": []
  }
 ],
 "metadata": {
  "kernelspec": {
   "display_name": "Python 2",
   "language": "python",
   "name": "python2"
  },
  "language_info": {
   "codemirror_mode": {
    "name": "ipython",
    "version": 2
   },
   "file_extension": ".py",
   "mimetype": "text/x-python",
   "name": "python",
   "nbconvert_exporter": "python",
   "pygments_lexer": "ipython2",
   "version": "2.7.11"
  }
 },
 "nbformat": 4,
 "nbformat_minor": 0
}
