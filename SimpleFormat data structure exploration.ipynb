{
 "cells": [
  {
   "cell_type": "markdown",
   "metadata": {},
   "source": [
    "# SimpleFormat files exploration and processing\n",
    "La idea es\n",
    "\n",
    "* observar estructura de la tabla \n",
    "* limpiar aquella cosas que no sean utilizadas\n",
    "* descartar todos aquellos usuarios que no sean de la telco pues no pueden proveer info de su geolocalizacion. Basicmente los  \n",
    "* Catalogar las antenas como pertenecientes o no a regiones del *\"Gran Chaco\"* mejicano\n",
    "\n",
    "## definiciones utilizadas\n",
    "* timestamp arranca en 0 segundos para 01/01/2012 00:00am\n",
    "* el antennaID esta atado solamente al usuario de la TelCo. Los users de la TelCo van todos en la primer columna (independientemente del nombre de la columna..) entonces si la llamada es entrante quiere decir que el user de la telco esta recibiendo un llamado en esa antennaID. si la llamada es saliente es al reves. (Podria pasar que sea comunicaciones inter-Telco y ahi habria dos records uno saliente y otro entrante pero con los mismos 2 userIDs).\n",
    "* La Direction, viene dada relativa al user de la primer columna (incoming si entra y viceversa si es outgoing).\n",
    "\n",
    "### el dataset vendria con este header\n",
    " {'Target':np.int32 \\\\\\  'Destination':np.uint32 \\\\\\  'TimeStamp':np.uint32 \\\\\\   'Duration':np.uint16 \\\\\\  'AntennaID':np.uint16}\n",
    "\n",
    "por lo cual seria conveniente eliminar los headers de cada .txt.gz para parsear rapidamente, asignar dtypes y despues volver a asignar column names aca en pandas (u otro program)"
   ]
  },
  {
   "cell_type": "code",
   "execution_count": 2,
   "metadata": {
    "collapsed": false
   },
   "outputs": [],
   "source": [
    "import pandas as pd; import numpy as np; import os;import random;\n",
    "pd.set_option('display.max_rows', 300)\n",
    "from matplotlib import pyplot as plt\n",
    "%matplotlib inline\n",
    "import unicodedata\n",
    "import gzip\n",
    "import os"
   ]
  },
  {
   "cell_type": "code",
   "execution_count": 3,
   "metadata": {
    "collapsed": true
   },
   "outputs": [],
   "source": [
    "import shutil"
   ]
  },
  {
   "cell_type": "code",
   "execution_count": 4,
   "metadata": {
    "collapsed": true
   },
   "outputs": [],
   "source": [
    "np.random.seed(2015)"
   ]
  },
  {
   "cell_type": "code",
   "execution_count": 8,
   "metadata": {
    "collapsed": false
   },
   "outputs": [],
   "source": [
    "antennas= pd.read_csv('surrogated_antennas_complete.txt',sep = \"|\",header=0,index_col=0)\n",
    "antennas.index.rename(\"AntennaID\",inplace=True) "
   ]
  },
  {
   "cell_type": "code",
   "execution_count": 22,
   "metadata": {
    "collapsed": false
   },
   "outputs": [],
   "source": [
    "tabla = pd.read_csv('datosgeotest/0115/Geo_Voz_Prepago_all_0115.txt.gz',sep = \" \", \n",
    "              names = ['Target','Destination','Direction','TimeStamp','Duration','AntennaID'],\n",
    "                             engine = 'c',index_col=None, lineterminator='\\n', skipinitialspace=True, \n",
    "                    header=None,dtype = {'Target':np.int32,'Destination':np.uint32,'TimeStamp':np.uint32,\n",
    "                                      'Duration':np.uint16,'AntennaID':np.uint16,'Direction':np.object_})\n",
    "                    #header=None)"
   ]
  },
  {
   "cell_type": "code",
   "execution_count": 20,
   "metadata": {
    "collapsed": true
   },
   "outputs": [],
   "source": [
    "tabla2 = pd.read_csv('datosgeotest/0115/Geo_Voz_Pospago_all_0115.txt.gz',sep = \" \", \n",
    "              names = ['Target','Destination','Direction','TimeStamp','Duration','AntennaID'],\n",
    "                             engine = 'c',index_col=None, lineterminator='\\n', skipinitialspace=True, \n",
    "                    header=None,dtype = {'Target':np.int32,'Destination':np.uint32,'TimeStamp':np.uint32,\n",
    "                                      'Duration':np.uint16,'AntennaID':np.uint16,'Direction':np.object_})"
   ]
  },
  {
   "cell_type": "code",
   "execution_count": 131,
   "metadata": {
    "collapsed": false
   },
   "outputs": [],
   "source": [
    "tabla.sort_values(by='TimeStamp',ascending=True,inplace=True)\n",
    "tabla2.sort_values(by='TimeStamp',ascending=True,inplace=True)"
   ]
  },
  {
   "cell_type": "code",
   "execution_count": 404,
   "metadata": {
    "collapsed": true
   },
   "outputs": [],
   "source": [
    "tabla2.sort_values(by='TimeStamp',ascending=True,inplace=True)"
   ]
  },
  {
   "cell_type": "code",
   "execution_count": 23,
   "metadata": {
    "collapsed": false
   },
   "outputs": [
    {
     "data": {
      "text/plain": [
       "(2915274, 4201403)"
      ]
     },
     "execution_count": 23,
     "metadata": {},
     "output_type": "execute_result"
    }
   ],
   "source": [
    "#numero de usuarios en esta tabla\n",
    "len(np.unique(tabla2.Target.values)), len(np.unique(tabla.Target.values))"
   ]
  },
  {
   "cell_type": "code",
   "execution_count": 24,
   "metadata": {
    "collapsed": false
   },
   "outputs": [
    {
     "data": {
      "text/plain": [
       "(121293306, 6)"
      ]
     },
     "execution_count": 24,
     "metadata": {},
     "output_type": "execute_result"
    }
   ],
   "source": [
    "tabla.shape"
   ]
  },
  {
   "cell_type": "code",
   "execution_count": 229,
   "metadata": {
    "collapsed": true
   },
   "outputs": [],
   "source": [
    "#agarro una muestra de 300k para hacer pruebas\n",
    "sample=tabla.ix[random.sample(tabla.index, 3*(10**5))]\n",
    "sample2 = tabla.ix[random.sample(tabla.index, 3*(10**5))]"
   ]
  },
  {
   "cell_type": "code",
   "execution_count": 234,
   "metadata": {
    "collapsed": false
   },
   "outputs": [],
   "source": [
    "#enriquezco el dataset con la info de antennas_mexico.csv\n",
    "enriched_sample = pd.merge(sample,antennas,left_on=\"AntennaID\",right_index=True)\n",
    "enriched_sample2 = pd.merge(sample2,antennas,left_on=\"AntennaID\",right_index=True)"
   ]
  },
  {
   "cell_type": "code",
   "execution_count": 239,
   "metadata": {
    "collapsed": false
   },
   "outputs": [],
   "source": [
    "enriched_sample.sort_values(by='TimeStamp',ascending=True,inplace=True)\n",
    "enriched_sample2.sort_values(by='TimeStamp',ascending=True,inplace=True)"
   ]
  },
  {
   "cell_type": "code",
   "execution_count": 240,
   "metadata": {
    "collapsed": false
   },
   "outputs": [
    {
     "data": {
      "text/html": [
       "<div>\n",
       "<table border=\"1\" class=\"dataframe\">\n",
       "  <thead>\n",
       "    <tr style=\"text-align: right;\">\n",
       "      <th></th>\n",
       "      <th>Target</th>\n",
       "      <th>Destination</th>\n",
       "      <th>Direction</th>\n",
       "      <th>TimeStamp</th>\n",
       "      <th>Duration</th>\n",
       "      <th>AntennaID</th>\n",
       "      <th>LATITUDE</th>\n",
       "      <th>LONGITUDE</th>\n",
       "      <th>STATE</th>\n",
       "      <th>EPIDEMIC</th>\n",
       "    </tr>\n",
       "  </thead>\n",
       "  <tbody>\n",
       "    <tr>\n",
       "      <th>67561110</th>\n",
       "      <td>1377535</td>\n",
       "      <td>92953080</td>\n",
       "      <td>O</td>\n",
       "      <td>65836808</td>\n",
       "      <td>42</td>\n",
       "      <td>1249</td>\n",
       "      <td>22.145</td>\n",
       "      <td>-101.037</td>\n",
       "      <td>San_Luis_Potosi</td>\n",
       "      <td>0</td>\n",
       "    </tr>\n",
       "    <tr>\n",
       "      <th>67426933</th>\n",
       "      <td>1245874</td>\n",
       "      <td>93087787</td>\n",
       "      <td>O</td>\n",
       "      <td>65836809</td>\n",
       "      <td>59</td>\n",
       "      <td>877</td>\n",
       "      <td>20.707</td>\n",
       "      <td>-103.410</td>\n",
       "      <td>Jalisco</td>\n",
       "      <td>1</td>\n",
       "    </tr>\n",
       "    <tr>\n",
       "      <th>66574138</th>\n",
       "      <td>611248</td>\n",
       "      <td>70908654</td>\n",
       "      <td>I</td>\n",
       "      <td>65836829</td>\n",
       "      <td>149</td>\n",
       "      <td>1268</td>\n",
       "      <td>19.571</td>\n",
       "      <td>-99.766</td>\n",
       "      <td>Mexico</td>\n",
       "      <td>0</td>\n",
       "    </tr>\n",
       "    <tr>\n",
       "      <th>71349316</th>\n",
       "      <td>70606720</td>\n",
       "      <td>70606733</td>\n",
       "      <td>O</td>\n",
       "      <td>65836861</td>\n",
       "      <td>163</td>\n",
       "      <td>2892</td>\n",
       "      <td>19.301</td>\n",
       "      <td>-99.018</td>\n",
       "      <td>Distrito_Federal</td>\n",
       "      <td>0</td>\n",
       "    </tr>\n",
       "    <tr>\n",
       "      <th>69275116</th>\n",
       "      <td>8441711</td>\n",
       "      <td>72801178</td>\n",
       "      <td>O</td>\n",
       "      <td>65836926</td>\n",
       "      <td>142</td>\n",
       "      <td>1111</td>\n",
       "      <td>19.646</td>\n",
       "      <td>-99.064</td>\n",
       "      <td>Mexico</td>\n",
       "      <td>0</td>\n",
       "    </tr>\n",
       "  </tbody>\n",
       "</table>\n",
       "</div>"
      ],
      "text/plain": [
       "            Target  Destination Direction  TimeStamp  Duration  AntennaID  \\\n",
       "67561110   1377535     92953080         O   65836808        42       1249   \n",
       "67426933   1245874     93087787         O   65836809        59        877   \n",
       "66574138    611248     70908654         I   65836829       149       1268   \n",
       "71349316  70606720     70606733         O   65836861       163       2892   \n",
       "69275116   8441711     72801178         O   65836926       142       1111   \n",
       "\n",
       "          LATITUDE  LONGITUDE             STATE  EPIDEMIC  \n",
       "67561110    22.145   -101.037   San_Luis_Potosi         0  \n",
       "67426933    20.707   -103.410           Jalisco         1  \n",
       "66574138    19.571    -99.766            Mexico         0  \n",
       "71349316    19.301    -99.018  Distrito_Federal         0  \n",
       "69275116    19.646    -99.064            Mexico         0  "
      ]
     },
     "execution_count": 240,
     "metadata": {},
     "output_type": "execute_result"
    }
   ],
   "source": [
    "enriched_sample.head()"
   ]
  },
  {
   "cell_type": "markdown",
   "metadata": {
    "collapsed": false
   },
   "source": [
    "## Mobility\n",
    "La idea es ahora mirar dentro de la base (prototipamos con sample) la lista de antenas utilizadas por cada usuario para obtener la variable dependiente $Y$ que vendria a ser si el tipo viajo o no por la zona endemica (visto como un llamado basicamente desde una antena en la epidemic zone). Despues buscaremos atributos, o variables regresoras que logren predecir ese comportamiento en el pasado pero usando solo los atributos en un timeframe \"del futuro\". Busco atributos que correlacionen con 'haber viajado por la zona endemica en el pasado'\n",
    "#### pseudocode:\n",
    "* tomamos el set de origins/targets de la tabla.\n",
    "* p/c/user lo mapeamos a un conjunto de antenas que sabemos que el tipo uso en algun CDR. Aca usamos alguna operacion split, apply, combine dondeset donde el key va a ser la columna origin y la data es AntennaID. Ahi extraemos la lista de antenas que el user uso. \n",
    "* descartamos del dataset los users \"vacios\". i.e. aquellos que su conjunto de antenas da vacio. Para esto descartamos todas las filas que no tienen ningun user (origin o target) en la tabla split/apply/combine. Asi obtendremos una lista de usuarios de la telco que viajaron por mexico a partir de sus llamados en ese mes. Despues solo hacer un outer join de todas estas tablas resultantes para cada mes. Asi como tambien un join de estos \"sets\" de antennas por user. \n"
   ]
  },
  {
   "cell_type": "code",
   "execution_count": 249,
   "metadata": {
    "collapsed": true
   },
   "outputs": [],
   "source": [
    "grouped = tabla['AntennaID'].groupby(tabla['Target'])"
   ]
  },
  {
   "cell_type": "code",
   "execution_count": 330,
   "metadata": {
    "collapsed": false,
    "scrolled": true
   },
   "outputs": [],
   "source": [
    "#con esto extraigo el mapping user --> antennas used that month\n",
    "user_antenna_map = sample.groupby('Target')['AntennaID'].apply(lambda x: x.tolist()).to_dict();\n",
    "user_antenna_map2 = sample2.groupby('Target')['AntennaID'].apply(lambda x: x.tolist()).to_dict();\n",
    "\n",
    "#esto es 'tipo' un head para dicts\n",
    "dict(user_antenna_map.items()[0:10]), dict(user_antenna_map2.items()[0:10])\n",
    "\n",
    "from collections import defaultdict\n",
    "user_antenna_map_concat = defaultdict(list)\n",
    "\n",
    "#Veo como concatenar dos \"maps\" distintos y dejando solo las antenas unicas..\n",
    "for d in (user_antenna_map, user_antenna_map2): # podemos meter cuantos dicts queramos aca..\n",
    "    for key, value in d.iteritems():\n",
    "        #list(set()) elimina repetidos\n",
    "        user_antenna_map_concat[key] = list(set(user_antenna_map_concat[key] + value))\n"
   ]
  },
  {
   "cell_type": "code",
   "execution_count": 397,
   "metadata": {
    "collapsed": false
   },
   "outputs": [
    {
     "data": {
      "text/plain": [
       "<matplotlib.axes._subplots.AxesSubplot at 0x7f5ab119c710>"
      ]
     },
     "execution_count": 397,
     "metadata": {},
     "output_type": "execute_result"
    },
    {
     "data": {
      "image/png": "[encoded data removed]",
      "text/plain": [
       "<matplotlib.figure.Figure at 0x7f5ab11b2990>"
      ]
     },
     "metadata": {},
     "output_type": "display_data"
    }
   ],
   "source": [
    "#para observar la distribucion de veces que un usuario llama en un mes.\n",
    "tabla['Target'].value_counts()[(tabla['Target'].value_counts()>5) & (tabla['Target'].value_counts() < 500)].hist(bins=100)"
   ]
  },
  {
   "cell_type": "code",
   "execution_count": 400,
   "metadata": {
    "collapsed": false
   },
   "outputs": [
    {
     "data": {
      "text/plain": [
       "<matplotlib.axes._subplots.AxesSubplot at 0x7f5ab027aa10>"
      ]
     },
     "execution_count": 400,
     "metadata": {},
     "output_type": "execute_result"
    },
    {
     "data": {
      "image/png": "[encoded data removed]",
      "text/plain": [
       "<matplotlib.figure.Figure at 0x7f5ab0282810>"
      ]
     },
     "metadata": {},
     "output_type": "display_data"
    }
   ],
   "source": [
    "sample['Target'].value_counts()[(sample['Target'].value_counts()>5) & (sample['Target'].value_counts() < 500)].hist(bins=35)"
   ]
  },
  {
   "cell_type": "code",
   "execution_count": null,
   "metadata": {
    "collapsed": true
   },
   "outputs": [],
   "source": [
    "#con esto extraigo el mapping user --> antennas used that month\n",
    "user_antenna = tabla.groupby('Target')['AntennaID'].apply(lambda x: x.tolist()).to_dict();\n",
    "user_antenna2 = tabla.groupby('Target')['AntennaID'].apply(lambda x: x.tolist()).to_dict();\n",
    "\n",
    "user_antenna_map_concat = defaultdict(list)\n",
    "\n",
    "#Veo como concatenar dos \"maps\" distintos y dejando solo las antenas unicas..\n",
    "for d in (user_antenna_map, user_antenna_map2): # podemos meter cuantos dicts queramos aca..\n",
    "    for key, value in d.iteritems():\n",
    "        #list(set()) elimina repetidos\n",
    "        user_antenna_map_concat[key] = list(set(user_antenna_map_concat[key] + value))\n"
   ]
  },
  {
   "cell_type": "code",
   "execution_count": 100,
   "metadata": {
    "collapsed": false
   },
   "outputs": [
    {
     "data": {
      "text/plain": [
       "0"
      ]
     },
     "execution_count": 100,
     "metadata": {},
     "output_type": "execute_result"
    }
   ],
   "source": [
    "import subprocess\n",
    "subprocess.call(\" echo \\\"Hello World \\\" \",shell=True)"
   ]
  },
  {
   "cell_type": "code",
   "execution_count": 73,
   "metadata": {
    "collapsed": false,
    "scrolled": true
   },
   "outputs": [
    {
     "data": {
      "text/plain": [
       "['Geo_Voz_Prepago_23-241214.txt.gz',\n",
       " 'Geo_Voz_Prepago_03-041214.txt.gz',\n",
       " 'Geo_Voz_Prepago_19-201214.txt.gz',\n",
       " 'Geo_Voz_Prepago_11-121214.txt.gz',\n",
       " 'Geo_Voz_Prepago_25-261214.txt.gz',\n",
       " 'Geo_Voz_Prepago_21-221214.txt.gz',\n",
       " 'Geo_Voz_Prepago_15-161214.txt.gz',\n",
       " 'Geo_Voz_Prepago_13-141214.txt.gz',\n",
       " 'Geo_Voz_Prepago_05-061214.txt.gz',\n",
       " 'Geo_Voz_Prepago_09-101214.txt.gz',\n",
       " 'Geo_Voz_Prepago_17-181214.txt.gz',\n",
       " 'Geo_Voz_Prepago_27-281214.txt.gz',\n",
       " 'Geo_Voz_Prepago_01-021214.txt.gz',\n",
       " 'Geo_Voz_Prepago_29-311214.txt.gz',\n",
       " 'Geo_Voz_Prepago_07-081214.txt.gz']"
      ]
     },
     "execution_count": 73,
     "metadata": {},
     "output_type": "execute_result"
    }
   ],
   "source": [
    "os.listdir(os.getcwd())    "
   ]
  },
  {
   "cell_type": "code",
   "execution_count": 106,
   "metadata": {
    "collapsed": false
   },
   "outputs": [
    {
     "data": {
      "text/plain": [
       "['1014',\n",
       " '0414',\n",
       " '0814',\n",
       " '0315',\n",
       " '0314',\n",
       " '0115',\n",
       " '0215',\n",
       " '0114',\n",
       " '0514',\n",
       " '0515',\n",
       " '1214',\n",
       " '0614',\n",
       " '0214',\n",
       " '0714',\n",
       " '0914',\n",
       " '1114',\n",
       " '0415']"
      ]
     },
     "execution_count": 106,
     "metadata": {},
     "output_type": "execute_result"
    }
   ],
   "source": [
    "os.chdir(rootdir)\n",
    "os.walk('.').next()[1]"
   ]
  },
  {
   "cell_type": "code",
   "execution_count": 88,
   "metadata": {
    "collapsed": false
   },
   "outputs": [
    {
     "name": "stdout",
     "output_type": "stream",
     "text": [
      "False\n"
     ]
    }
   ],
   "source": [
    "os.chdir(rootdir)\n",
    "print \"testdata\" in os.listdir(os.getcwd()) \n",
    "if \"testdata\" in os.listdir(os.getcwd()):\n",
    "    os.system(\"mkdir testdata\")"
   ]
  },
  {
   "cell_type": "code",
   "execution_count": 93,
   "metadata": {
    "collapsed": false
   },
   "outputs": [
    {
     "data": {
      "text/plain": [
       "'/home/juan/mobility-study/datosgeo'"
      ]
     },
     "execution_count": 93,
     "metadata": {},
     "output_type": "execute_result"
    }
   ],
   "source": [
    "os.getcwd()"
   ]
  },
  {
   "cell_type": "code",
   "execution_count": 89,
   "metadata": {
    "collapsed": false
   },
   "outputs": [
    {
     "data": {
      "text/plain": [
       "['output_time.txt',\n",
       " '\\\\',\n",
       " '.to_simple_format_mexico.py.swp',\n",
       " '1014',\n",
       " '0414',\n",
       " '0814',\n",
       " '0315',\n",
       " '0314',\n",
       " '0115',\n",
       " '0215',\n",
       " '0114',\n",
       " 'output_memory_summary.txt',\n",
       " '0514',\n",
       " 'rename_geodirs_mexico.py',\n",
       " 'rename_geofiles_mexico.py',\n",
       " '0515',\n",
       " '1214',\n",
       " '0614',\n",
       " '0214',\n",
       " '0714',\n",
       " '0914',\n",
       " 'to_simple_format_mexico.py',\n",
       " '1114',\n",
       " '0415']"
      ]
     },
     "execution_count": 89,
     "metadata": {},
     "output_type": "execute_result"
    }
   ],
   "source": [
    "os.listdir(os.getcwd())"
   ]
  },
  {
   "cell_type": "code",
   "execution_count": 90,
   "metadata": {
    "collapsed": false
   },
   "outputs": [
    {
     "name": "stdout",
     "output_type": "stream",
     "text": [
      "0114  0314  0514  0814\t1214\t\t\t   rename_geodirs_mexico.py\r\n",
      "0115  0315  0515  0914\t\\\t\t\t   rename_geofiles_mexico.py\r\n",
      "0214  0414  0614  1014\toutput_memory_summary.txt  to_simple_format_mexico.py\r\n",
      "0215  0415  0714  1114\toutput_time.txt\r\n"
     ]
    }
   ],
   "source": [
    "!ls"
   ]
  }
 ],
 "metadata": {
  "kernelspec": {
   "display_name": "Python 2",
   "language": "python",
   "name": "python2"
  },
  "language_info": {
   "codemirror_mode": {
    "name": "ipython",
    "version": 2
   },
   "file_extension": ".py",
   "mimetype": "text/x-python",
   "name": "python",
   "nbconvert_exporter": "python",
   "pygments_lexer": "ipython2",
   "version": "2.7.10"
  }
 },
 "nbformat": 4,
 "nbformat_minor": 0
}
