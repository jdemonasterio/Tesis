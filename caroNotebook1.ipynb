{
 "cells": [
  {
   "cell_type": "markdown",
   "metadata": {},
   "source": [
    "# Mexico Antenna retagging and GC visualization\n",
    "La idea es\n",
    "\n",
    "* Graficar el mapa de la zona epidemica de Mexico\n",
    "* Definir a mano la zona GC y agregar esa info a la de las antennas"
   ]
  },
  {
   "cell_type": "code",
   "execution_count": 1,
   "metadata": {
    "collapsed": true
   },
   "outputs": [
    {
     "ename": "ImportError",
     "evalue": "Gtk3 backend requires pygobject to be installed.",
     "output_type": "error",
     "traceback": [
      "\u001b[1;31m---------------------------------------------------------------------------\u001b[0m",
      "\u001b[1;31mImportError\u001b[0m                               Traceback (most recent call last)",
      "\u001b[1;32m<ipython-input-1-f3f00c9dd721>\u001b[0m in \u001b[0;36m<module>\u001b[1;34m()\u001b[0m\n\u001b[0;32m      1\u001b[0m \u001b[1;32mimport\u001b[0m \u001b[0mpandas\u001b[0m \u001b[1;32mas\u001b[0m \u001b[0mpd\u001b[0m\u001b[1;33m;\u001b[0m \u001b[1;32mimport\u001b[0m \u001b[0mnumpy\u001b[0m \u001b[1;32mas\u001b[0m \u001b[0mnp\u001b[0m\u001b[1;33m;\u001b[0m \u001b[1;32mimport\u001b[0m \u001b[0mos\u001b[0m\u001b[1;33m;\u001b[0m\u001b[1;32mimport\u001b[0m \u001b[0mrandom\u001b[0m\u001b[1;33m;\u001b[0m\u001b[1;33m\u001b[0m\u001b[0m\n\u001b[0;32m      2\u001b[0m \u001b[0mpd\u001b[0m\u001b[1;33m.\u001b[0m\u001b[0mset_option\u001b[0m\u001b[1;33m(\u001b[0m\u001b[1;34m'display.max_rows'\u001b[0m\u001b[1;33m,\u001b[0m \u001b[1;36m300\u001b[0m\u001b[1;33m)\u001b[0m\u001b[1;33m\u001b[0m\u001b[0m\n\u001b[1;32m----> 3\u001b[1;33m \u001b[1;32mfrom\u001b[0m \u001b[0mmatplotlib\u001b[0m \u001b[1;32mimport\u001b[0m \u001b[0mpyplot\u001b[0m \u001b[1;32mas\u001b[0m \u001b[0mplt\u001b[0m\u001b[1;33m\u001b[0m\u001b[0m\n\u001b[0m\u001b[0;32m      4\u001b[0m \u001b[0mget_ipython\u001b[0m\u001b[1;33m(\u001b[0m\u001b[1;33m)\u001b[0m\u001b[1;33m.\u001b[0m\u001b[0mmagic\u001b[0m\u001b[1;33m(\u001b[0m\u001b[1;34mu'matplotlib inline'\u001b[0m\u001b[1;33m)\u001b[0m\u001b[1;33m\u001b[0m\u001b[0m\n\u001b[0;32m      5\u001b[0m \u001b[1;32mimport\u001b[0m \u001b[0municodedata\u001b[0m\u001b[1;33m\u001b[0m\u001b[0m\n",
      "\u001b[1;32m/home/juan/mfixman/venv/local/lib/python2.7/site-packages/matplotlib/pyplot.py\u001b[0m in \u001b[0;36m<module>\u001b[1;34m()\u001b[0m\n\u001b[0;32m    112\u001b[0m \u001b[1;33m\u001b[0m\u001b[0m\n\u001b[0;32m    113\u001b[0m \u001b[1;32mfrom\u001b[0m \u001b[0mmatplotlib\u001b[0m\u001b[1;33m.\u001b[0m\u001b[0mbackends\u001b[0m \u001b[1;32mimport\u001b[0m \u001b[0mpylab_setup\u001b[0m\u001b[1;33m\u001b[0m\u001b[0m\n\u001b[1;32m--> 114\u001b[1;33m \u001b[0m_backend_mod\u001b[0m\u001b[1;33m,\u001b[0m \u001b[0mnew_figure_manager\u001b[0m\u001b[1;33m,\u001b[0m \u001b[0mdraw_if_interactive\u001b[0m\u001b[1;33m,\u001b[0m \u001b[0m_show\u001b[0m \u001b[1;33m=\u001b[0m \u001b[0mpylab_setup\u001b[0m\u001b[1;33m(\u001b[0m\u001b[1;33m)\u001b[0m\u001b[1;33m\u001b[0m\u001b[0m\n\u001b[0m\u001b[0;32m    115\u001b[0m \u001b[1;33m\u001b[0m\u001b[0m\n\u001b[0;32m    116\u001b[0m \u001b[0m_IP_REGISTERED\u001b[0m \u001b[1;33m=\u001b[0m \u001b[0mNone\u001b[0m\u001b[1;33m\u001b[0m\u001b[0m\n",
      "\u001b[1;32m/home/juan/mfixman/venv/local/lib/python2.7/site-packages/matplotlib/backends/__init__.pyc\u001b[0m in \u001b[0;36mpylab_setup\u001b[1;34m()\u001b[0m\n\u001b[0;32m     30\u001b[0m     \u001b[1;31m# imports. 0 means only perform absolute imports.\u001b[0m\u001b[1;33m\u001b[0m\u001b[1;33m\u001b[0m\u001b[0m\n\u001b[0;32m     31\u001b[0m     backend_mod = __import__(backend_name,\n\u001b[1;32m---> 32\u001b[1;33m                              globals(),locals(),[backend_name],0)\n\u001b[0m\u001b[0;32m     33\u001b[0m \u001b[1;33m\u001b[0m\u001b[0m\n\u001b[0;32m     34\u001b[0m     \u001b[1;31m# Things we pull in from all backends\u001b[0m\u001b[1;33m\u001b[0m\u001b[1;33m\u001b[0m\u001b[0m\n",
      "\u001b[1;32m/home/juan/mfixman/venv/local/lib/python2.7/site-packages/matplotlib/backends/backend_gtk3agg.py\u001b[0m in \u001b[0;36m<module>\u001b[1;34m()\u001b[0m\n\u001b[0;32m      9\u001b[0m \u001b[1;33m\u001b[0m\u001b[0m\n\u001b[0;32m     10\u001b[0m \u001b[1;32mfrom\u001b[0m \u001b[1;33m.\u001b[0m \u001b[1;32mimport\u001b[0m \u001b[0mbackend_agg\u001b[0m\u001b[1;33m\u001b[0m\u001b[0m\n\u001b[1;32m---> 11\u001b[1;33m \u001b[1;32mfrom\u001b[0m \u001b[1;33m.\u001b[0m \u001b[1;32mimport\u001b[0m \u001b[0mbackend_gtk3\u001b[0m\u001b[1;33m\u001b[0m\u001b[0m\n\u001b[0m\u001b[0;32m     12\u001b[0m \u001b[1;32mfrom\u001b[0m \u001b[1;33m.\u001b[0m\u001b[0mbackend_cairo\u001b[0m \u001b[1;32mimport\u001b[0m \u001b[0mcairo\u001b[0m\u001b[1;33m,\u001b[0m \u001b[0mHAS_CAIRO_CFFI\u001b[0m\u001b[1;33m\u001b[0m\u001b[0m\n\u001b[0;32m     13\u001b[0m \u001b[1;32mfrom\u001b[0m \u001b[0mmatplotlib\u001b[0m\u001b[1;33m.\u001b[0m\u001b[0mfigure\u001b[0m \u001b[1;32mimport\u001b[0m \u001b[0mFigure\u001b[0m\u001b[1;33m\u001b[0m\u001b[0m\n",
      "\u001b[1;32m/home/juan/mfixman/venv/local/lib/python2.7/site-packages/matplotlib/backends/backend_gtk3.py\u001b[0m in \u001b[0;36m<module>\u001b[1;34m()\u001b[0m\n\u001b[0;32m     10\u001b[0m     \u001b[1;32mimport\u001b[0m \u001b[0mgi\u001b[0m\u001b[1;33m\u001b[0m\u001b[0m\n\u001b[0;32m     11\u001b[0m \u001b[1;32mexcept\u001b[0m \u001b[0mImportError\u001b[0m\u001b[1;33m:\u001b[0m\u001b[1;33m\u001b[0m\u001b[0m\n\u001b[1;32m---> 12\u001b[1;33m     \u001b[1;32mraise\u001b[0m \u001b[0mImportError\u001b[0m\u001b[1;33m(\u001b[0m\u001b[1;34m\"Gtk3 backend requires pygobject to be installed.\"\u001b[0m\u001b[1;33m)\u001b[0m\u001b[1;33m\u001b[0m\u001b[0m\n\u001b[0m\u001b[0;32m     13\u001b[0m \u001b[1;33m\u001b[0m\u001b[0m\n\u001b[0;32m     14\u001b[0m \u001b[1;32mtry\u001b[0m\u001b[1;33m:\u001b[0m\u001b[1;33m\u001b[0m\u001b[0m\n",
      "\u001b[1;31mImportError\u001b[0m: Gtk3 backend requires pygobject to be installed."
     ]
    }
   ],
   "source": [
    "import pandas as pd; import numpy as np; import os;import random;\n",
    "pd.set_option('display.max_rows', 300)\n",
    "from matplotlib import pyplot as plt\n",
    "%matplotlib inline\n",
    "import unicodedata\n",
    "import gzip\n",
    "\n",
    "import geopandas as gpd;\n",
    "from geopandas.geoseries import *\n",
    "import shapely\n",
    "\n",
    "rootdir=os.getcwd()\n",
    "rootdir = os.path.expanduser('~/Repositories/mobility-study')\n",
    "np.random.seed(2015)"
   ]
  },
  {
   "cell_type": "code",
   "execution_count": null,
   "metadata": {
    "collapsed": true
   },
   "outputs": [],
   "source": [
    "global mapa"
   ]
  },
  {
   "cell_type": "code",
   "execution_count": null,
   "metadata": {
    "collapsed": false
   },
   "outputs": [],
   "source": [
    "mapa = gpd.GeoDataFrame.from_file(rootdir+'/mapas/national_estatal.geojson')"
   ]
  },
  {
   "cell_type": "code",
   "execution_count": 6,
   "metadata": {
    "collapsed": false
   },
   "outputs": [
    {
     "data": {
      "text/html": [
       "<div>\n",
       "<table border=\"1\" class=\"dataframe\">\n",
       "  <thead>\n",
       "    <tr style=\"text-align: right;\">\n",
       "      <th></th>\n",
       "      <th>CVEGEO</th>\n",
       "      <th>NOMBRE</th>\n",
       "      <th>OID</th>\n",
       "      <th>POB1</th>\n",
       "      <th>POB10</th>\n",
       "      <th>POB10_R</th>\n",
       "      <th>POB11</th>\n",
       "      <th>POB11_R</th>\n",
       "      <th>POB12</th>\n",
       "      <th>POB12_R</th>\n",
       "      <th>...</th>\n",
       "      <th>POB7_R</th>\n",
       "      <th>POB8</th>\n",
       "      <th>POB80</th>\n",
       "      <th>POB80_R</th>\n",
       "      <th>POB81</th>\n",
       "      <th>POB81_R</th>\n",
       "      <th>POB8_R</th>\n",
       "      <th>POB9</th>\n",
       "      <th>POB9_R</th>\n",
       "      <th>geometry</th>\n",
       "    </tr>\n",
       "  </thead>\n",
       "  <tbody>\n",
       "    <tr>\n",
       "      <th>6</th>\n",
       "      <td>07</td>\n",
       "      <td>Chiapas</td>\n",
       "      <td>7</td>\n",
       "      <td>4796580</td>\n",
       "      <td>968252</td>\n",
       "      <td>20.2</td>\n",
       "      <td>1334789</td>\n",
       "      <td>27.8</td>\n",
       "      <td>2860151</td>\n",
       "      <td>59.6</td>\n",
       "      <td>...</td>\n",
       "      <td>6.9</td>\n",
       "      <td>1645047</td>\n",
       "      <td>116587</td>\n",
       "      <td>5.0</td>\n",
       "      <td>78285</td>\n",
       "      <td>3.3</td>\n",
       "      <td>34.3</td>\n",
       "      <td>326491</td>\n",
       "      <td>6.8</td>\n",
       "      <td>POLYGON ((-91.97363681088724 17.91143118947898...</td>\n",
       "    </tr>\n",
       "  </tbody>\n",
       "</table>\n",
       "<p>1 rows × 160 columns</p>\n",
       "</div>"
      ],
      "text/plain": [
       "  CVEGEO   NOMBRE  OID     POB1   POB10  POB10_R    POB11  POB11_R    POB12  \\\n",
       "6     07  Chiapas    7  4796580  968252     20.2  1334789     27.8  2860151   \n",
       "\n",
       "   POB12_R                        ...                          POB7_R  \\\n",
       "6     59.6                        ...                             6.9   \n",
       "\n",
       "      POB8   POB80  POB80_R  POB81  POB81_R  POB8_R    POB9  POB9_R  \\\n",
       "6  1645047  116587      5.0  78285      3.3    34.3  326491     6.8   \n",
       "\n",
       "                                            geometry  \n",
       "6  POLYGON ((-91.97363681088724 17.91143118947898...  \n",
       "\n",
       "[1 rows x 160 columns]"
      ]
     },
     "execution_count": 6,
     "metadata": {},
     "output_type": "execute_result"
    }
   ],
   "source": [
    "mapa[mapa['NOMBRE']==u'Chiapas']"
   ]
  },
  {
   "cell_type": "code",
   "execution_count": 2,
   "metadata": {
    "collapsed": false
   },
   "outputs": [
    {
     "name": "stdout",
     "output_type": "stream",
     "text": [
      "ID|LATITUDE|LONGITUDE|STATE|EPIDEMIC\r\n",
      "2797|14.671|-92.372|Chiapas|0\r\n",
      "3060|14.682|-92.155|Chiapas|0\r\n",
      "3344|14.721|-92.424|Chiapas|0\r\n",
      "3487|14.778|-92.179|Chiapas|0\r\n",
      "1924|14.786|-92.366|Chiapas|0\r\n",
      "1001|14.87|-92.285|Chiapas|0\r\n",
      "2914|14.882|-92.265|Chiapas|0\r\n",
      "2094|14.888|-92.283|Chiapas|0\r\n",
      "2055|14.888|-92.25|Chiapas|0\r\n"
     ]
    }
   ],
   "source": [
    "!head antennas_mexico.csv"
   ]
  },
  {
   "cell_type": "code",
   "execution_count": 7,
   "metadata": {
    "collapsed": false,
    "scrolled": true
   },
   "outputs": [
    {
     "data": {
      "text/html": [
       "<div>\n",
       "<table border=\"1\" class=\"dataframe\">\n",
       "  <thead>\n",
       "    <tr style=\"text-align: right;\">\n",
       "      <th></th>\n",
       "      <th>ID</th>\n",
       "      <th>LATITUDE</th>\n",
       "      <th>LONGITUDE</th>\n",
       "    </tr>\n",
       "  </thead>\n",
       "  <tbody>\n",
       "    <tr>\n",
       "      <th>807</th>\n",
       "      <td>553</td>\n",
       "      <td>19.238</td>\n",
       "      <td>-99.643</td>\n",
       "    </tr>\n",
       "    <tr>\n",
       "      <th>4361</th>\n",
       "      <td>4281</td>\n",
       "      <td>32.447</td>\n",
       "      <td>-116.991</td>\n",
       "    </tr>\n",
       "    <tr>\n",
       "      <th>288</th>\n",
       "      <td>2208</td>\n",
       "      <td>18.019</td>\n",
       "      <td>-92.939</td>\n",
       "    </tr>\n",
       "    <tr>\n",
       "      <th>2740</th>\n",
       "      <td>823</td>\n",
       "      <td>20.639</td>\n",
       "      <td>-103.332</td>\n",
       "    </tr>\n",
       "    <tr>\n",
       "      <th>2723</th>\n",
       "      <td>1174</td>\n",
       "      <td>20.630</td>\n",
       "      <td>-103.407</td>\n",
       "    </tr>\n",
       "    <tr>\n",
       "      <th>4447</th>\n",
       "      <td>4290</td>\n",
       "      <td>32.623</td>\n",
       "      <td>-115.481</td>\n",
       "    </tr>\n",
       "    <tr>\n",
       "      <th>263</th>\n",
       "      <td>755</td>\n",
       "      <td>17.991</td>\n",
       "      <td>-92.916</td>\n",
       "    </tr>\n",
       "    <tr>\n",
       "      <th>3853</th>\n",
       "      <td>4081</td>\n",
       "      <td>25.663</td>\n",
       "      <td>-100.297</td>\n",
       "    </tr>\n",
       "    <tr>\n",
       "      <th>2771</th>\n",
       "      <td>1437</td>\n",
       "      <td>20.655</td>\n",
       "      <td>-105.214</td>\n",
       "    </tr>\n",
       "    <tr>\n",
       "      <th>1641</th>\n",
       "      <td>1478</td>\n",
       "      <td>19.425</td>\n",
       "      <td>-99.193</td>\n",
       "    </tr>\n",
       "    <tr>\n",
       "      <th>94</th>\n",
       "      <td>921</td>\n",
       "      <td>16.775</td>\n",
       "      <td>-99.778</td>\n",
       "    </tr>\n",
       "    <tr>\n",
       "      <th>2412</th>\n",
       "      <td>3074</td>\n",
       "      <td>19.911</td>\n",
       "      <td>-99.148</td>\n",
       "    </tr>\n",
       "    <tr>\n",
       "      <th>3321</th>\n",
       "      <td>2237</td>\n",
       "      <td>21.660</td>\n",
       "      <td>-102.227</td>\n",
       "    </tr>\n",
       "    <tr>\n",
       "      <th>4458</th>\n",
       "      <td>3899</td>\n",
       "      <td>32.656</td>\n",
       "      <td>-115.518</td>\n",
       "    </tr>\n",
       "    <tr>\n",
       "      <th>4236</th>\n",
       "      <td>4022</td>\n",
       "      <td>28.682</td>\n",
       "      <td>-106.000</td>\n",
       "    </tr>\n",
       "    <tr>\n",
       "      <th>938</th>\n",
       "      <td>2206</td>\n",
       "      <td>19.289</td>\n",
       "      <td>-99.060</td>\n",
       "    </tr>\n",
       "    <tr>\n",
       "      <th>3619</th>\n",
       "      <td>3873</td>\n",
       "      <td>24.395</td>\n",
       "      <td>-110.690</td>\n",
       "    </tr>\n",
       "    <tr>\n",
       "      <th>101</th>\n",
       "      <td>3575</td>\n",
       "      <td>16.790</td>\n",
       "      <td>-99.776</td>\n",
       "    </tr>\n",
       "    <tr>\n",
       "      <th>253</th>\n",
       "      <td>2639</td>\n",
       "      <td>17.984</td>\n",
       "      <td>-92.818</td>\n",
       "    </tr>\n",
       "    <tr>\n",
       "      <th>2852</th>\n",
       "      <td>1141</td>\n",
       "      <td>20.685</td>\n",
       "      <td>-103.441</td>\n",
       "    </tr>\n",
       "    <tr>\n",
       "      <th>3973</th>\n",
       "      <td>3813</td>\n",
       "      <td>25.760</td>\n",
       "      <td>-109.001</td>\n",
       "    </tr>\n",
       "    <tr>\n",
       "      <th>2343</th>\n",
       "      <td>3624</td>\n",
       "      <td>19.796</td>\n",
       "      <td>-99.875</td>\n",
       "    </tr>\n",
       "    <tr>\n",
       "      <th>1094</th>\n",
       "      <td>2007</td>\n",
       "      <td>19.329</td>\n",
       "      <td>-99.572</td>\n",
       "    </tr>\n",
       "    <tr>\n",
       "      <th>2512</th>\n",
       "      <td>2451</td>\n",
       "      <td>20.214</td>\n",
       "      <td>-103.341</td>\n",
       "    </tr>\n",
       "    <tr>\n",
       "      <th>84</th>\n",
       "      <td>3099</td>\n",
       "      <td>16.759</td>\n",
       "      <td>-93.376</td>\n",
       "    </tr>\n",
       "    <tr>\n",
       "      <th>4312</th>\n",
       "      <td>4119</td>\n",
       "      <td>31.671</td>\n",
       "      <td>-106.341</td>\n",
       "    </tr>\n",
       "    <tr>\n",
       "      <th>4153</th>\n",
       "      <td>4309</td>\n",
       "      <td>27.603</td>\n",
       "      <td>-110.289</td>\n",
       "    </tr>\n",
       "    <tr>\n",
       "      <th>3906</th>\n",
       "      <td>4209</td>\n",
       "      <td>25.693</td>\n",
       "      <td>-100.244</td>\n",
       "    </tr>\n",
       "    <tr>\n",
       "      <th>3396</th>\n",
       "      <td>753</td>\n",
       "      <td>22.153</td>\n",
       "      <td>-100.922</td>\n",
       "    </tr>\n",
       "    <tr>\n",
       "      <th>140</th>\n",
       "      <td>1125</td>\n",
       "      <td>16.900</td>\n",
       "      <td>-99.820</td>\n",
       "    </tr>\n",
       "    <tr>\n",
       "      <th>3346</th>\n",
       "      <td>1798</td>\n",
       "      <td>21.882</td>\n",
       "      <td>-102.249</td>\n",
       "    </tr>\n",
       "    <tr>\n",
       "      <th>3071</th>\n",
       "      <td>561</td>\n",
       "      <td>20.995</td>\n",
       "      <td>-101.236</td>\n",
       "    </tr>\n",
       "    <tr>\n",
       "      <th>2315</th>\n",
       "      <td>2988</td>\n",
       "      <td>19.711</td>\n",
       "      <td>-99.349</td>\n",
       "    </tr>\n",
       "    <tr>\n",
       "      <th>4265</th>\n",
       "      <td>4133</td>\n",
       "      <td>29.091</td>\n",
       "      <td>-110.939</td>\n",
       "    </tr>\n",
       "    <tr>\n",
       "      <th>3296</th>\n",
       "      <td>198</td>\n",
       "      <td>21.357</td>\n",
       "      <td>-101.952</td>\n",
       "    </tr>\n",
       "    <tr>\n",
       "      <th>2173</th>\n",
       "      <td>1341</td>\n",
       "      <td>19.593</td>\n",
       "      <td>-99.257</td>\n",
       "    </tr>\n",
       "    <tr>\n",
       "      <th>1604</th>\n",
       "      <td>1301</td>\n",
       "      <td>19.420</td>\n",
       "      <td>-99.209</td>\n",
       "    </tr>\n",
       "    <tr>\n",
       "      <th>3944</th>\n",
       "      <td>3832</td>\n",
       "      <td>25.730</td>\n",
       "      <td>-100.167</td>\n",
       "    </tr>\n",
       "    <tr>\n",
       "      <th>1066</th>\n",
       "      <td>2756</td>\n",
       "      <td>19.320</td>\n",
       "      <td>-99.252</td>\n",
       "    </tr>\n",
       "    <tr>\n",
       "      <th>1023</th>\n",
       "      <td>1305</td>\n",
       "      <td>19.309</td>\n",
       "      <td>-103.606</td>\n",
       "    </tr>\n",
       "    <tr>\n",
       "      <th>2375</th>\n",
       "      <td>2847</td>\n",
       "      <td>19.832</td>\n",
       "      <td>-98.950</td>\n",
       "    </tr>\n",
       "    <tr>\n",
       "      <th>659</th>\n",
       "      <td>68</td>\n",
       "      <td>19.060</td>\n",
       "      <td>-98.280</td>\n",
       "    </tr>\n",
       "    <tr>\n",
       "      <th>3122</th>\n",
       "      <td>10</td>\n",
       "      <td>21.033</td>\n",
       "      <td>-89.623</td>\n",
       "    </tr>\n",
       "    <tr>\n",
       "      <th>3292</th>\n",
       "      <td>2679</td>\n",
       "      <td>21.318</td>\n",
       "      <td>-89.461</td>\n",
       "    </tr>\n",
       "    <tr>\n",
       "      <th>1122</th>\n",
       "      <td>4002</td>\n",
       "      <td>19.338</td>\n",
       "      <td>-99.194</td>\n",
       "    </tr>\n",
       "    <tr>\n",
       "      <th>3863</th>\n",
       "      <td>4101</td>\n",
       "      <td>25.669</td>\n",
       "      <td>-100.313</td>\n",
       "    </tr>\n",
       "    <tr>\n",
       "      <th>2428</th>\n",
       "      <td>1122</td>\n",
       "      <td>19.984</td>\n",
       "      <td>-102.281</td>\n",
       "    </tr>\n",
       "    <tr>\n",
       "      <th>751</th>\n",
       "      <td>2120</td>\n",
       "      <td>19.179</td>\n",
       "      <td>-96.168</td>\n",
       "    </tr>\n",
       "    <tr>\n",
       "      <th>3455</th>\n",
       "      <td>1162</td>\n",
       "      <td>22.545</td>\n",
       "      <td>-100.646</td>\n",
       "    </tr>\n",
       "    <tr>\n",
       "      <th>3649</th>\n",
       "      <td>3478</td>\n",
       "      <td>24.813</td>\n",
       "      <td>-107.374</td>\n",
       "    </tr>\n",
       "    <tr>\n",
       "      <th>2229</th>\n",
       "      <td>662</td>\n",
       "      <td>19.635</td>\n",
       "      <td>-99.140</td>\n",
       "    </tr>\n",
       "    <tr>\n",
       "      <th>3215</th>\n",
       "      <td>715</td>\n",
       "      <td>21.144</td>\n",
       "      <td>-101.657</td>\n",
       "    </tr>\n",
       "    <tr>\n",
       "      <th>4255</th>\n",
       "      <td>4225</td>\n",
       "      <td>29.031</td>\n",
       "      <td>-110.938</td>\n",
       "    </tr>\n",
       "    <tr>\n",
       "      <th>1735</th>\n",
       "      <td>4443</td>\n",
       "      <td>19.433</td>\n",
       "      <td>-99.134</td>\n",
       "    </tr>\n",
       "    <tr>\n",
       "      <th>3497</th>\n",
       "      <td>3445</td>\n",
       "      <td>22.992</td>\n",
       "      <td>-109.733</td>\n",
       "    </tr>\n",
       "    <tr>\n",
       "      <th>719</th>\n",
       "      <td>2794</td>\n",
       "      <td>19.149</td>\n",
       "      <td>-100.055</td>\n",
       "    </tr>\n",
       "    <tr>\n",
       "      <th>1127</th>\n",
       "      <td>833</td>\n",
       "      <td>19.339</td>\n",
       "      <td>-99.205</td>\n",
       "    </tr>\n",
       "    <tr>\n",
       "      <th>872</th>\n",
       "      <td>1117</td>\n",
       "      <td>19.269</td>\n",
       "      <td>-99.233</td>\n",
       "    </tr>\n",
       "    <tr>\n",
       "      <th>3646</th>\n",
       "      <td>3700</td>\n",
       "      <td>24.806</td>\n",
       "      <td>-107.352</td>\n",
       "    </tr>\n",
       "    <tr>\n",
       "      <th>2583</th>\n",
       "      <td>2770</td>\n",
       "      <td>20.490</td>\n",
       "      <td>-99.191</td>\n",
       "    </tr>\n",
       "    <tr>\n",
       "      <th>4211</th>\n",
       "      <td>4023</td>\n",
       "      <td>28.608</td>\n",
       "      <td>-106.018</td>\n",
       "    </tr>\n",
       "    <tr>\n",
       "      <th>3673</th>\n",
       "      <td>4459</td>\n",
       "      <td>25.174</td>\n",
       "      <td>-100.729</td>\n",
       "    </tr>\n",
       "    <tr>\n",
       "      <th>3850</th>\n",
       "      <td>4433</td>\n",
       "      <td>25.662</td>\n",
       "      <td>-100.360</td>\n",
       "    </tr>\n",
       "    <tr>\n",
       "      <th>2741</th>\n",
       "      <td>790</td>\n",
       "      <td>20.639</td>\n",
       "      <td>-103.294</td>\n",
       "    </tr>\n",
       "    <tr>\n",
       "      <th>4068</th>\n",
       "      <td>3802</td>\n",
       "      <td>26.082</td>\n",
       "      <td>-98.296</td>\n",
       "    </tr>\n",
       "    <tr>\n",
       "      <th>3987</th>\n",
       "      <td>3974</td>\n",
       "      <td>25.773</td>\n",
       "      <td>-100.426</td>\n",
       "    </tr>\n",
       "    <tr>\n",
       "      <th>758</th>\n",
       "      <td>2795</td>\n",
       "      <td>19.190</td>\n",
       "      <td>-100.130</td>\n",
       "    </tr>\n",
       "    <tr>\n",
       "      <th>644</th>\n",
       "      <td>548</td>\n",
       "      <td>19.053</td>\n",
       "      <td>-98.163</td>\n",
       "    </tr>\n",
       "    <tr>\n",
       "      <th>224</th>\n",
       "      <td>2929</td>\n",
       "      <td>17.879</td>\n",
       "      <td>-92.480</td>\n",
       "    </tr>\n",
       "    <tr>\n",
       "      <th>3588</th>\n",
       "      <td>3848</td>\n",
       "      <td>24.035</td>\n",
       "      <td>-104.634</td>\n",
       "    </tr>\n",
       "    <tr>\n",
       "      <th>2680</th>\n",
       "      <td>2127</td>\n",
       "      <td>20.600</td>\n",
       "      <td>-105.238</td>\n",
       "    </tr>\n",
       "    <tr>\n",
       "      <th>3711</th>\n",
       "      <td>3770</td>\n",
       "      <td>25.460</td>\n",
       "      <td>-100.957</td>\n",
       "    </tr>\n",
       "    <tr>\n",
       "      <th>537</th>\n",
       "      <td>207</td>\n",
       "      <td>18.952</td>\n",
       "      <td>-99.497</td>\n",
       "    </tr>\n",
       "    <tr>\n",
       "      <th>1583</th>\n",
       "      <td>1887</td>\n",
       "      <td>19.416</td>\n",
       "      <td>-99.133</td>\n",
       "    </tr>\n",
       "    <tr>\n",
       "      <th>622</th>\n",
       "      <td>1681</td>\n",
       "      <td>19.043</td>\n",
       "      <td>-98.055</td>\n",
       "    </tr>\n",
       "    <tr>\n",
       "      <th>3785</th>\n",
       "      <td>4057</td>\n",
       "      <td>25.622</td>\n",
       "      <td>-100.171</td>\n",
       "    </tr>\n",
       "    <tr>\n",
       "      <th>2087</th>\n",
       "      <td>1020</td>\n",
       "      <td>19.536</td>\n",
       "      <td>-99.120</td>\n",
       "    </tr>\n",
       "    <tr>\n",
       "      <th>1544</th>\n",
       "      <td>691</td>\n",
       "      <td>19.411</td>\n",
       "      <td>-99.174</td>\n",
       "    </tr>\n",
       "    <tr>\n",
       "      <th>2946</th>\n",
       "      <td>1384</td>\n",
       "      <td>20.737</td>\n",
       "      <td>-103.499</td>\n",
       "    </tr>\n",
       "    <tr>\n",
       "      <th>3933</th>\n",
       "      <td>3774</td>\n",
       "      <td>25.720</td>\n",
       "      <td>-100.214</td>\n",
       "    </tr>\n",
       "    <tr>\n",
       "      <th>2076</th>\n",
       "      <td>1312</td>\n",
       "      <td>19.532</td>\n",
       "      <td>-99.219</td>\n",
       "    </tr>\n",
       "    <tr>\n",
       "      <th>3731</th>\n",
       "      <td>4161</td>\n",
       "      <td>25.523</td>\n",
       "      <td>-103.454</td>\n",
       "    </tr>\n",
       "    <tr>\n",
       "      <th>2493</th>\n",
       "      <td>229</td>\n",
       "      <td>20.125</td>\n",
       "      <td>-98.748</td>\n",
       "    </tr>\n",
       "    <tr>\n",
       "      <th>3341</th>\n",
       "      <td>2002</td>\n",
       "      <td>21.875</td>\n",
       "      <td>-102.296</td>\n",
       "    </tr>\n",
       "    <tr>\n",
       "      <th>4387</th>\n",
       "      <td>3893</td>\n",
       "      <td>32.493</td>\n",
       "      <td>-116.959</td>\n",
       "    </tr>\n",
       "    <tr>\n",
       "      <th>3598</th>\n",
       "      <td>3863</td>\n",
       "      <td>24.064</td>\n",
       "      <td>-104.602</td>\n",
       "    </tr>\n",
       "    <tr>\n",
       "      <th>2972</th>\n",
       "      <td>2637</td>\n",
       "      <td>20.805</td>\n",
       "      <td>-102.782</td>\n",
       "    </tr>\n",
       "    <tr>\n",
       "      <th>3487</th>\n",
       "      <td>3636</td>\n",
       "      <td>22.911</td>\n",
       "      <td>-109.926</td>\n",
       "    </tr>\n",
       "    <tr>\n",
       "      <th>3018</th>\n",
       "      <td>1200</td>\n",
       "      <td>20.936</td>\n",
       "      <td>-97.391</td>\n",
       "    </tr>\n",
       "    <tr>\n",
       "      <th>3661</th>\n",
       "      <td>4413</td>\n",
       "      <td>24.861</td>\n",
       "      <td>-99.533</td>\n",
       "    </tr>\n",
       "    <tr>\n",
       "      <th>2508</th>\n",
       "      <td>3272</td>\n",
       "      <td>20.191</td>\n",
       "      <td>-99.272</td>\n",
       "    </tr>\n",
       "    <tr>\n",
       "      <th>640</th>\n",
       "      <td>1068</td>\n",
       "      <td>19.051</td>\n",
       "      <td>-98.306</td>\n",
       "    </tr>\n",
       "    <tr>\n",
       "      <th>2783</th>\n",
       "      <td>2562</td>\n",
       "      <td>20.658</td>\n",
       "      <td>-101.303</td>\n",
       "    </tr>\n",
       "    <tr>\n",
       "      <th>3847</th>\n",
       "      <td>4090</td>\n",
       "      <td>25.660</td>\n",
       "      <td>-100.450</td>\n",
       "    </tr>\n",
       "    <tr>\n",
       "      <th>1670</th>\n",
       "      <td>853</td>\n",
       "      <td>19.427</td>\n",
       "      <td>-99.178</td>\n",
       "    </tr>\n",
       "    <tr>\n",
       "      <th>2175</th>\n",
       "      <td>1597</td>\n",
       "      <td>19.595</td>\n",
       "      <td>-99.166</td>\n",
       "    </tr>\n",
       "    <tr>\n",
       "      <th>3287</th>\n",
       "      <td>40</td>\n",
       "      <td>21.287</td>\n",
       "      <td>-89.656</td>\n",
       "    </tr>\n",
       "    <tr>\n",
       "      <th>441</th>\n",
       "      <td>2031</td>\n",
       "      <td>18.850</td>\n",
       "      <td>-99.672</td>\n",
       "    </tr>\n",
       "    <tr>\n",
       "      <th>834</th>\n",
       "      <td>4394</td>\n",
       "      <td>19.254</td>\n",
       "      <td>-99.114</td>\n",
       "    </tr>\n",
       "    <tr>\n",
       "      <th>2041</th>\n",
       "      <td>2577</td>\n",
       "      <td>19.519</td>\n",
       "      <td>-99.095</td>\n",
       "    </tr>\n",
       "  </tbody>\n",
       "</table>\n",
       "</div>"
      ],
      "text/plain": [
       "        ID  LATITUDE  LONGITUDE\n",
       "807    553    19.238    -99.643\n",
       "4361  4281    32.447   -116.991\n",
       "288   2208    18.019    -92.939\n",
       "2740   823    20.639   -103.332\n",
       "2723  1174    20.630   -103.407\n",
       "4447  4290    32.623   -115.481\n",
       "263    755    17.991    -92.916\n",
       "3853  4081    25.663   -100.297\n",
       "2771  1437    20.655   -105.214\n",
       "1641  1478    19.425    -99.193\n",
       "94     921    16.775    -99.778\n",
       "2412  3074    19.911    -99.148\n",
       "3321  2237    21.660   -102.227\n",
       "4458  3899    32.656   -115.518\n",
       "4236  4022    28.682   -106.000\n",
       "938   2206    19.289    -99.060\n",
       "3619  3873    24.395   -110.690\n",
       "101   3575    16.790    -99.776\n",
       "253   2639    17.984    -92.818\n",
       "2852  1141    20.685   -103.441\n",
       "3973  3813    25.760   -109.001\n",
       "2343  3624    19.796    -99.875\n",
       "1094  2007    19.329    -99.572\n",
       "2512  2451    20.214   -103.341\n",
       "84    3099    16.759    -93.376\n",
       "4312  4119    31.671   -106.341\n",
       "4153  4309    27.603   -110.289\n",
       "3906  4209    25.693   -100.244\n",
       "3396   753    22.153   -100.922\n",
       "140   1125    16.900    -99.820\n",
       "3346  1798    21.882   -102.249\n",
       "3071   561    20.995   -101.236\n",
       "2315  2988    19.711    -99.349\n",
       "4265  4133    29.091   -110.939\n",
       "3296   198    21.357   -101.952\n",
       "2173  1341    19.593    -99.257\n",
       "1604  1301    19.420    -99.209\n",
       "3944  3832    25.730   -100.167\n",
       "1066  2756    19.320    -99.252\n",
       "1023  1305    19.309   -103.606\n",
       "2375  2847    19.832    -98.950\n",
       "659     68    19.060    -98.280\n",
       "3122    10    21.033    -89.623\n",
       "3292  2679    21.318    -89.461\n",
       "1122  4002    19.338    -99.194\n",
       "3863  4101    25.669   -100.313\n",
       "2428  1122    19.984   -102.281\n",
       "751   2120    19.179    -96.168\n",
       "3455  1162    22.545   -100.646\n",
       "3649  3478    24.813   -107.374\n",
       "2229   662    19.635    -99.140\n",
       "3215   715    21.144   -101.657\n",
       "4255  4225    29.031   -110.938\n",
       "1735  4443    19.433    -99.134\n",
       "3497  3445    22.992   -109.733\n",
       "719   2794    19.149   -100.055\n",
       "1127   833    19.339    -99.205\n",
       "872   1117    19.269    -99.233\n",
       "3646  3700    24.806   -107.352\n",
       "2583  2770    20.490    -99.191\n",
       "4211  4023    28.608   -106.018\n",
       "3673  4459    25.174   -100.729\n",
       "3850  4433    25.662   -100.360\n",
       "2741   790    20.639   -103.294\n",
       "4068  3802    26.082    -98.296\n",
       "3987  3974    25.773   -100.426\n",
       "758   2795    19.190   -100.130\n",
       "644    548    19.053    -98.163\n",
       "224   2929    17.879    -92.480\n",
       "3588  3848    24.035   -104.634\n",
       "2680  2127    20.600   -105.238\n",
       "3711  3770    25.460   -100.957\n",
       "537    207    18.952    -99.497\n",
       "1583  1887    19.416    -99.133\n",
       "622   1681    19.043    -98.055\n",
       "3785  4057    25.622   -100.171\n",
       "2087  1020    19.536    -99.120\n",
       "1544   691    19.411    -99.174\n",
       "2946  1384    20.737   -103.499\n",
       "3933  3774    25.720   -100.214\n",
       "2076  1312    19.532    -99.219\n",
       "3731  4161    25.523   -103.454\n",
       "2493   229    20.125    -98.748\n",
       "3341  2002    21.875   -102.296\n",
       "4387  3893    32.493   -116.959\n",
       "3598  3863    24.064   -104.602\n",
       "2972  2637    20.805   -102.782\n",
       "3487  3636    22.911   -109.926\n",
       "3018  1200    20.936    -97.391\n",
       "3661  4413    24.861    -99.533\n",
       "2508  3272    20.191    -99.272\n",
       "640   1068    19.051    -98.306\n",
       "2783  2562    20.658   -101.303\n",
       "3847  4090    25.660   -100.450\n",
       "1670   853    19.427    -99.178\n",
       "2175  1597    19.595    -99.166\n",
       "3287    40    21.287    -89.656\n",
       "441   2031    18.850    -99.672\n",
       "834   4394    19.254    -99.114\n",
       "2041  2577    19.519    -99.095"
      ]
     },
     "execution_count": 7,
     "metadata": {},
     "output_type": "execute_result"
    }
   ],
   "source": [
    "antenas = pd.read_csv(\"antennas_mexico.csv\",sep=\"|\",\n",
    "                     header=0,index)\n",
    "#paso lat y long a su forma decimal\n",
    "antenas['LATITUDE']=antenas['LATITUDE']*1.0/1000\n",
    "antenas['LONGITUDE']=antenas['LONGITUDE']*1.0/1000\n",
    "\n",
    "#chequeo resultados rapido\n",
    "antenas.sample(100)"
   ]
  },
  {
   "cell_type": "code",
   "execution_count": 12,
   "metadata": {
    "collapsed": false
   },
   "outputs": [
    {
     "data": {
      "text/html": [
       "<div>\n",
       "<table border=\"1\" class=\"dataframe\">\n",
       "  <thead>\n",
       "    <tr style=\"text-align: right;\">\n",
       "      <th></th>\n",
       "      <th>ID</th>\n",
       "      <th>LATITUDE</th>\n",
       "      <th>LONGITUDE</th>\n",
       "    </tr>\n",
       "  </thead>\n",
       "  <tbody>\n",
       "  </tbody>\n",
       "</table>\n",
       "</div>"
      ],
      "text/plain": [
       "Empty DataFrame\n",
       "Columns: [ID, LATITUDE, LONGITUDE]\n",
       "Index: []"
      ]
     },
     "execution_count": 12,
     "metadata": {},
     "output_type": "execute_result"
    }
   ],
   "source": [
    "#chequeo si hay info faltante\n",
    "antenas[pd.isnull(antenas).any(axis=1)]"
   ]
  },
  {
   "cell_type": "code",
   "execution_count": 13,
   "metadata": {
    "collapsed": false
   },
   "outputs": [
    {
     "data": {
      "text/plain": [
       "<matplotlib.axes._subplots.AxesSubplot at 0x7fd4a3caadd0>"
      ]
     },
     "execution_count": 13,
     "metadata": {},
     "output_type": "execute_result"
    },
    {
     "data": {
      "image/png": "[encoded data removed]",
      "text/plain": [
       "<matplotlib.figure.Figure at 0x7fd4a1b44f50>"
      ]
     },
     "metadata": {},
     "output_type": "display_data"
    }
   ],
   "source": [
    "mapa.plot()"
   ]
  },
  {
   "cell_type": "markdown",
   "metadata": {},
   "source": [
    "# Muy importante!\n",
    " \n",
    "Las coordenadas en un mapa se dan en (lat, long) que no corresponden a las coordenadas cartesianas sino a (y,x) con lo cual es importante armar los **Point** con (long,lat), sino imposible comprarar quien esta dentro de que.."
   ]
  },
  {
   "cell_type": "code",
   "execution_count": 8,
   "metadata": {
    "collapsed": false
   },
   "outputs": [],
   "source": [
    "subset =  antenas[['LONGITUDE','LATITUDE']]\n",
    "tuples = [shapely.geometry.Point(x) for x in subset.values] \n",
    "global antenas_gpd \n",
    "antenas_gpd =  gpd.GeoSeries(tuples)"
   ]
  },
  {
   "cell_type": "code",
   "execution_count": 9,
   "metadata": {
    "collapsed": false
   },
   "outputs": [
    {
     "data": {
      "text/plain": [
       "True"
      ]
     },
     "execution_count": 9,
     "metadata": {},
     "output_type": "execute_result"
    }
   ],
   "source": [
    "multipoligono = mapa['geometry'].ix[6]\n",
    "multipoligono.contains(antenas_gpd.ix[2])"
   ]
  },
  {
   "cell_type": "code",
   "execution_count": 10,
   "metadata": {
    "collapsed": false
   },
   "outputs": [],
   "source": [
    "def preparar_nombre(s):\n",
    "        #esta linea elimina las tildes espacios puntos y similar\"\n",
    "        sin_tilde = ''.join((c for c in unicodedata.normalize('NFD', s) if unicodedata.category(c) != 'Mn'))\n",
    "        limpio = sin_tilde.replace(\" \",\"_\").replace(\".\",\"\")\n",
    "        #me quedo con el nombre corto de Veracruz\n",
    "        if limpio == u'Veracruz_de_Ignacio_de_la_Llave':\n",
    "            limpio = u'Veracruz'\n",
    "        return limpio"
   ]
  },
  {
   "cell_type": "code",
   "execution_count": 11,
   "metadata": {
    "collapsed": false,
    "scrolled": true
   },
   "outputs": [],
   "source": [
    "mapa['NOMBRE'] = mapa['NOMBRE'].apply(lambda s: preparar_nombre(s))"
   ]
  },
  {
   "cell_type": "code",
   "execution_count": 12,
   "metadata": {
    "collapsed": false
   },
   "outputs": [],
   "source": [
    "def get_state_name(ant,lista_de_geometrias,lista_de_nombres):\n",
    "        sol =\"Error\";\n",
    "        for i in range(len(lista_de_geometrias)):\n",
    "            if lista_de_geometrias.ix[i].contains(ant):\n",
    "                sol = lista_de_nombres[i]\n",
    "                break\n",
    "        return sol"
   ]
  },
  {
   "cell_type": "code",
   "execution_count": 13,
   "metadata": {
    "collapsed": false
   },
   "outputs": [
    {
     "data": {
      "text/plain": [
       "4464"
      ]
     },
     "execution_count": 13,
     "metadata": {},
     "output_type": "execute_result"
    }
   ],
   "source": [
    "len(antenas_gpd)"
   ]
  },
  {
   "cell_type": "code",
   "execution_count": 14,
   "metadata": {
    "collapsed": false,
    "scrolled": true
   },
   "outputs": [
    {
     "name": "stdout",
     "output_type": "stream",
     "text": [
      "CPU times: user 456 ms, sys: 0 ns, total: 456 ms\n",
      "Wall time: 456 ms\n"
     ]
    },
    {
     "data": {
      "text/plain": [
       "1       Chiapas\n",
       "2       Chiapas\n",
       "3       Chiapas\n",
       "4       Chiapas\n",
       "5       Chiapas\n",
       "6       Chiapas\n",
       "7       Chiapas\n",
       "8       Chiapas\n",
       "9       Chiapas\n",
       "10      Chiapas\n",
       "11      Chiapas\n",
       "12      Chiapas\n",
       "13      Chiapas\n",
       "14      Chiapas\n",
       "15      Chiapas\n",
       "16      Chiapas\n",
       "17      Chiapas\n",
       "18      Chiapas\n",
       "19      Chiapas\n",
       "20      Chiapas\n",
       "21       Oaxaca\n",
       "22       Oaxaca\n",
       "23      Chiapas\n",
       "24       Oaxaca\n",
       "25      Chiapas\n",
       "26       Oaxaca\n",
       "27       Oaxaca\n",
       "28       Oaxaca\n",
       "29       Oaxaca\n",
       "30      Chiapas\n",
       "31      Chiapas\n",
       "32      Chiapas\n",
       "33      Chiapas\n",
       "34      Chiapas\n",
       "35       Oaxaca\n",
       "36       Oaxaca\n",
       "37       Oaxaca\n",
       "38      Chiapas\n",
       "39      Chiapas\n",
       "40      Chiapas\n",
       "41      Chiapas\n",
       "42       Oaxaca\n",
       "43       Oaxaca\n",
       "44       Oaxaca\n",
       "45      Chiapas\n",
       "46      Chiapas\n",
       "47      Chiapas\n",
       "48      Chiapas\n",
       "49      Chiapas\n",
       "50       Oaxaca\n",
       "51      Chiapas\n",
       "52     Guerrero\n",
       "53      Chiapas\n",
       "54      Chiapas\n",
       "55      Chiapas\n",
       "56      Chiapas\n",
       "57      Chiapas\n",
       "58      Chiapas\n",
       "59      Chiapas\n",
       "60      Chiapas\n",
       "61     Guerrero\n",
       "62      Chiapas\n",
       "63      Chiapas\n",
       "64      Chiapas\n",
       "65      Chiapas\n",
       "66      Chiapas\n",
       "67       Oaxaca\n",
       "68      Chiapas\n",
       "69      Chiapas\n",
       "70     Guerrero\n",
       "71      Chiapas\n",
       "72      Chiapas\n",
       "73      Chiapas\n",
       "74      Chiapas\n",
       "75      Chiapas\n",
       "76      Chiapas\n",
       "77      Chiapas\n",
       "78      Chiapas\n",
       "79      Chiapas\n",
       "80      Chiapas\n",
       "81      Chiapas\n",
       "82      Chiapas\n",
       "83      Chiapas\n",
       "84      Chiapas\n",
       "85      Chiapas\n",
       "86      Chiapas\n",
       "87      Chiapas\n",
       "88      Chiapas\n",
       "89      Chiapas\n",
       "90      Chiapas\n",
       "91      Chiapas\n",
       "92     Guerrero\n",
       "93      Chiapas\n",
       "94     Guerrero\n",
       "95      Chiapas\n",
       "96      Chiapas\n",
       "97     Guerrero\n",
       "98      Chiapas\n",
       "99     Guerrero\n",
       "100    Guerrero\n",
       "dtype: object"
      ]
     },
     "execution_count": 14,
     "metadata": {},
     "output_type": "execute_result"
    }
   ],
   "source": [
    "%%time \n",
    "antenas_gpd.ix[1:100].apply(lambda ant: get_state_name(ant, mapa['geometry'],mapa.NOMBRE.values))\n"
   ]
  },
  {
   "cell_type": "code",
   "execution_count": 15,
   "metadata": {
    "collapsed": false
   },
   "outputs": [
    {
     "name": "stdout",
     "output_type": "stream",
     "text": [
      "CPU times: user 35.3 s, sys: 4 ms, total: 35.3 s\n",
      "Wall time: 35.3 s\n"
     ]
    }
   ],
   "source": [
    "%%time\n",
    "antenas['STATE'] = antenas_gpd.apply(lambda ant: get_state_name(ant, mapa['geometry'],mapa.NOMBRE.values))"
   ]
  },
  {
   "cell_type": "code",
   "execution_count": 16,
   "metadata": {
    "collapsed": false,
    "scrolled": true
   },
   "outputs": [
    {
     "data": {
      "text/html": [
       "<div>\n",
       "<table border=\"1\" class=\"dataframe\">\n",
       "  <thead>\n",
       "    <tr style=\"text-align: right;\">\n",
       "      <th></th>\n",
       "      <th>ID</th>\n",
       "      <th>LATITUDE</th>\n",
       "      <th>LONGITUDE</th>\n",
       "      <th>STATE</th>\n",
       "    </tr>\n",
       "  </thead>\n",
       "  <tbody>\n",
       "    <tr>\n",
       "      <th>3267</th>\n",
       "      <td>2614</td>\n",
       "      <td>21.183</td>\n",
       "      <td>-86.807</td>\n",
       "      <td>Error</td>\n",
       "    </tr>\n",
       "    <tr>\n",
       "      <th>3500</th>\n",
       "      <td>4293</td>\n",
       "      <td>23.005</td>\n",
       "      <td>-109.714</td>\n",
       "      <td>Error</td>\n",
       "    </tr>\n",
       "    <tr>\n",
       "      <th>3537</th>\n",
       "      <td>1974</td>\n",
       "      <td>23.258</td>\n",
       "      <td>-106.463</td>\n",
       "      <td>Error</td>\n",
       "    </tr>\n",
       "  </tbody>\n",
       "</table>\n",
       "</div>"
      ],
      "text/plain": [
       "        ID  LATITUDE  LONGITUDE  STATE\n",
       "3267  2614    21.183    -86.807  Error\n",
       "3500  4293    23.005   -109.714  Error\n",
       "3537  1974    23.258   -106.463  Error"
      ]
     },
     "execution_count": 16,
     "metadata": {},
     "output_type": "execute_result"
    }
   ],
   "source": [
    "#miro aquellas que no pude hacerlo sistematicamente y veo si las elimino o las \"corro\"\n",
    "antenas[antenas['STATE']==\"Error\"]"
   ]
  },
  {
   "cell_type": "code",
   "execution_count": 28,
   "metadata": {
    "collapsed": false,
    "scrolled": false
   },
   "outputs": [
    {
     "data": {
      "text/plain": [
       "array([u'Chiapas', u'Oaxaca', u'Guerrero', u'Tabasco', u'Veracruz',\n",
       "       u'Michoacan_de_Ocampo', u'Puebla', u'Morelos', u'Quintana_Roo',\n",
       "       u'Campeche', u'Mexico', u'Colima', u'Tlaxcala', u'Distrito_Federal',\n",
       "       u'Jalisco', u'Hidalgo', u'Guanajuato', u'Queretaro', u'Yucatan',\n",
       "       u'Nayarit', u'Aguascalientes', u'San_Luis_Potosi', u'Tamaulipas',\n",
       "       u'Zacatecas', u'Sinaloa', u'Baja_California_Sur', u'Durango',\n",
       "       u'Nuevo_Leon', u'Coahuila_de_Zaragoza', u'Sonora', u'Chihuahua',\n",
       "       u'Baja_California'], dtype=object)"
      ]
     },
     "execution_count": 28,
     "metadata": {},
     "output_type": "execute_result"
    }
   ],
   "source": [
    "antenas['STATE'].unique()"
   ]
  },
  {
   "cell_type": "code",
   "execution_count": 18,
   "metadata": {
    "collapsed": true
   },
   "outputs": [],
   "source": [
    "antenas.at[antenas['STATE']==u'Veracruz_de_Ignacio_de_la_Llave','STATE']=u'Veracruz'"
   ]
  },
  {
   "cell_type": "code",
   "execution_count": 19,
   "metadata": {
    "collapsed": false
   },
   "outputs": [],
   "source": [
    "#asigno a mano aquellas que me habin quedado un toque afuera\n",
    "antenas.at[3267,'LONGITUDE']=-86.857\n",
    "antenas.at[3267,'STATE']=u'Quintana_Roo'\n",
    "antenas.at[3500,'LATITUDE']=23.055\n",
    "antenas.at[3500,'STATE']=u'Baja_California_Sur'\n",
    "antenas.at[3537,'LONGITUDE']=-106.403\n",
    "antenas.at[3537,'STATE']=u'Sinaloa'"
   ]
  },
  {
   "cell_type": "code",
   "execution_count": 20,
   "metadata": {
    "collapsed": false
   },
   "outputs": [
    {
     "data": {
      "text/html": [
       "<div>\n",
       "<table border=\"1\" class=\"dataframe\">\n",
       "  <thead>\n",
       "    <tr style=\"text-align: right;\">\n",
       "      <th></th>\n",
       "      <th>ID</th>\n",
       "      <th>LATITUDE</th>\n",
       "      <th>LONGITUDE</th>\n",
       "      <th>STATE</th>\n",
       "    </tr>\n",
       "  </thead>\n",
       "  <tbody>\n",
       "  </tbody>\n",
       "</table>\n",
       "</div>"
      ],
      "text/plain": [
       "Empty DataFrame\n",
       "Columns: [ID, LATITUDE, LONGITUDE, STATE]\n",
       "Index: []"
      ]
     },
     "execution_count": 20,
     "metadata": {},
     "output_type": "execute_result"
    }
   ],
   "source": [
    "#chequeo nuevamente\n",
    "antenas[antenas['STATE']==\"Error\"]"
   ]
  },
  {
   "cell_type": "markdown",
   "metadata": {},
   "source": [
    "## Ahora vemos cuales son del Gran Chaco\n",
    "\n",
    "recordar que estas son las que estan en los estados de Jalisco, Oaxaca, Veracruz, Guerrero,Morelos, Yucatan, Queretaro, Chiapas, Puebla, Nayarit, Hidalgo y Tabasco."
   ]
  },
  {
   "cell_type": "code",
   "execution_count": 22,
   "metadata": {
    "collapsed": false
   },
   "outputs": [],
   "source": [
    "def get_epidemic_state(estado):\n",
    "    sol=0 \n",
    "    epidemic_states =  [u'Jalisco', u'Oaxaca', u'Puebla',u'Veracruz', u'Guerrero',u'Morelos',\n",
    "                     u'Tabasco',u'Hidalgo']\n",
    "    if estado in epidemic_states:\n",
    "        sol =1\n",
    "    return sol    "
   ]
  },
  {
   "cell_type": "code",
   "execution_count": 23,
   "metadata": {
    "collapsed": false
   },
   "outputs": [],
   "source": [
    "antenas['EPIDEMIC']=antenas['STATE'].apply(lambda k: get_epidemic_state(k))"
   ]
  },
  {
   "cell_type": "code",
   "execution_count": 24,
   "metadata": {
    "collapsed": false,
    "scrolled": true
   },
   "outputs": [
    {
     "data": {
      "text/html": [
       "<div>\n",
       "<table border=\"1\" class=\"dataframe\">\n",
       "  <thead>\n",
       "    <tr style=\"text-align: right;\">\n",
       "      <th></th>\n",
       "      <th>ID</th>\n",
       "      <th>LATITUDE</th>\n",
       "      <th>LONGITUDE</th>\n",
       "      <th>STATE</th>\n",
       "      <th>EPIDEMIC</th>\n",
       "    </tr>\n",
       "  </thead>\n",
       "  <tbody>\n",
       "    <tr>\n",
       "      <th>4190</th>\n",
       "      <td>3965</td>\n",
       "      <td>28.189</td>\n",
       "      <td>-105.472</td>\n",
       "      <td>Chihuahua</td>\n",
       "      <td>0</td>\n",
       "    </tr>\n",
       "    <tr>\n",
       "      <th>1715</th>\n",
       "      <td>4470</td>\n",
       "      <td>19.431</td>\n",
       "      <td>-99.154</td>\n",
       "      <td>Distrito_Federal</td>\n",
       "      <td>0</td>\n",
       "    </tr>\n",
       "    <tr>\n",
       "      <th>707</th>\n",
       "      <td>1970</td>\n",
       "      <td>19.117</td>\n",
       "      <td>-98.168</td>\n",
       "      <td>Tlaxcala</td>\n",
       "      <td>0</td>\n",
       "    </tr>\n",
       "    <tr>\n",
       "      <th>4262</th>\n",
       "      <td>4079</td>\n",
       "      <td>29.082</td>\n",
       "      <td>-110.944</td>\n",
       "      <td>Sonora</td>\n",
       "      <td>0</td>\n",
       "    </tr>\n",
       "    <tr>\n",
       "      <th>3363</th>\n",
       "      <td>110</td>\n",
       "      <td>22.037</td>\n",
       "      <td>-102.270</td>\n",
       "      <td>Aguascalientes</td>\n",
       "      <td>0</td>\n",
       "    </tr>\n",
       "    <tr>\n",
       "      <th>4175</th>\n",
       "      <td>4255</td>\n",
       "      <td>27.925</td>\n",
       "      <td>-110.882</td>\n",
       "      <td>Sonora</td>\n",
       "      <td>0</td>\n",
       "    </tr>\n",
       "    <tr>\n",
       "      <th>3231</th>\n",
       "      <td>3057</td>\n",
       "      <td>21.151</td>\n",
       "      <td>-86.825</td>\n",
       "      <td>Quintana_Roo</td>\n",
       "      <td>0</td>\n",
       "    </tr>\n",
       "    <tr>\n",
       "      <th>2573</th>\n",
       "      <td>3048</td>\n",
       "      <td>20.478</td>\n",
       "      <td>-99.218</td>\n",
       "      <td>Hidalgo</td>\n",
       "      <td>1</td>\n",
       "    </tr>\n",
       "    <tr>\n",
       "      <th>1169</th>\n",
       "      <td>1713</td>\n",
       "      <td>19.348</td>\n",
       "      <td>-98.996</td>\n",
       "      <td>Distrito_Federal</td>\n",
       "      <td>0</td>\n",
       "    </tr>\n",
       "    <tr>\n",
       "      <th>1609</th>\n",
       "      <td>4157</td>\n",
       "      <td>19.420</td>\n",
       "      <td>-99.020</td>\n",
       "      <td>Mexico</td>\n",
       "      <td>0</td>\n",
       "    </tr>\n",
       "    <tr>\n",
       "      <th>1286</th>\n",
       "      <td>1579</td>\n",
       "      <td>19.369</td>\n",
       "      <td>-99.587</td>\n",
       "      <td>Mexico</td>\n",
       "      <td>0</td>\n",
       "    </tr>\n",
       "    <tr>\n",
       "      <th>1776</th>\n",
       "      <td>4399</td>\n",
       "      <td>19.438</td>\n",
       "      <td>-99.196</td>\n",
       "      <td>Distrito_Federal</td>\n",
       "      <td>0</td>\n",
       "    </tr>\n",
       "    <tr>\n",
       "      <th>3933</th>\n",
       "      <td>3774</td>\n",
       "      <td>25.720</td>\n",
       "      <td>-100.214</td>\n",
       "      <td>Nuevo_Leon</td>\n",
       "      <td>0</td>\n",
       "    </tr>\n",
       "    <tr>\n",
       "      <th>3581</th>\n",
       "      <td>3055</td>\n",
       "      <td>24.021</td>\n",
       "      <td>-104.682</td>\n",
       "      <td>Durango</td>\n",
       "      <td>0</td>\n",
       "    </tr>\n",
       "    <tr>\n",
       "      <th>2521</th>\n",
       "      <td>2834</td>\n",
       "      <td>20.247</td>\n",
       "      <td>-99.031</td>\n",
       "      <td>Hidalgo</td>\n",
       "      <td>1</td>\n",
       "    </tr>\n",
       "    <tr>\n",
       "      <th>3040</th>\n",
       "      <td>4209</td>\n",
       "      <td>20.966</td>\n",
       "      <td>-89.626</td>\n",
       "      <td>Yucatan</td>\n",
       "      <td>0</td>\n",
       "    </tr>\n",
       "    <tr>\n",
       "      <th>712</th>\n",
       "      <td>2452</td>\n",
       "      <td>19.125</td>\n",
       "      <td>-99.593</td>\n",
       "      <td>Mexico</td>\n",
       "      <td>0</td>\n",
       "    </tr>\n",
       "    <tr>\n",
       "      <th>3025</th>\n",
       "      <td>2678</td>\n",
       "      <td>20.950</td>\n",
       "      <td>-89.623</td>\n",
       "      <td>Yucatan</td>\n",
       "      <td>0</td>\n",
       "    </tr>\n",
       "    <tr>\n",
       "      <th>2971</th>\n",
       "      <td>3052</td>\n",
       "      <td>20.800</td>\n",
       "      <td>-89.033</td>\n",
       "      <td>Yucatan</td>\n",
       "      <td>0</td>\n",
       "    </tr>\n",
       "    <tr>\n",
       "      <th>2354</th>\n",
       "      <td>1507</td>\n",
       "      <td>19.806</td>\n",
       "      <td>-97.311</td>\n",
       "      <td>Veracruz</td>\n",
       "      <td>1</td>\n",
       "    </tr>\n",
       "    <tr>\n",
       "      <th>2869</th>\n",
       "      <td>509</td>\n",
       "      <td>20.692</td>\n",
       "      <td>-103.342</td>\n",
       "      <td>Jalisco</td>\n",
       "      <td>1</td>\n",
       "    </tr>\n",
       "    <tr>\n",
       "      <th>3881</th>\n",
       "      <td>3694</td>\n",
       "      <td>25.677</td>\n",
       "      <td>-100.232</td>\n",
       "      <td>Nuevo_Leon</td>\n",
       "      <td>0</td>\n",
       "    </tr>\n",
       "    <tr>\n",
       "      <th>2257</th>\n",
       "      <td>1082</td>\n",
       "      <td>19.662</td>\n",
       "      <td>-101.196</td>\n",
       "      <td>Michoacan_de_Ocampo</td>\n",
       "      <td>0</td>\n",
       "    </tr>\n",
       "    <tr>\n",
       "      <th>64</th>\n",
       "      <td>2264</td>\n",
       "      <td>16.739</td>\n",
       "      <td>-93.114</td>\n",
       "      <td>Chiapas</td>\n",
       "      <td>0</td>\n",
       "    </tr>\n",
       "    <tr>\n",
       "      <th>317</th>\n",
       "      <td>897</td>\n",
       "      <td>18.136</td>\n",
       "      <td>-94.438</td>\n",
       "      <td>Veracruz</td>\n",
       "      <td>1</td>\n",
       "    </tr>\n",
       "    <tr>\n",
       "      <th>1932</th>\n",
       "      <td>3934</td>\n",
       "      <td>19.482</td>\n",
       "      <td>-99.186</td>\n",
       "      <td>Distrito_Federal</td>\n",
       "      <td>0</td>\n",
       "    </tr>\n",
       "    <tr>\n",
       "      <th>3916</th>\n",
       "      <td>4069</td>\n",
       "      <td>25.701</td>\n",
       "      <td>-100.361</td>\n",
       "      <td>Nuevo_Leon</td>\n",
       "      <td>0</td>\n",
       "    </tr>\n",
       "    <tr>\n",
       "      <th>1153</th>\n",
       "      <td>3379</td>\n",
       "      <td>19.346</td>\n",
       "      <td>-100.066</td>\n",
       "      <td>Mexico</td>\n",
       "      <td>0</td>\n",
       "    </tr>\n",
       "    <tr>\n",
       "      <th>5</th>\n",
       "      <td>1001</td>\n",
       "      <td>14.870</td>\n",
       "      <td>-92.285</td>\n",
       "      <td>Chiapas</td>\n",
       "      <td>0</td>\n",
       "    </tr>\n",
       "    <tr>\n",
       "      <th>1913</th>\n",
       "      <td>1695</td>\n",
       "      <td>19.475</td>\n",
       "      <td>-99.191</td>\n",
       "      <td>Distrito_Federal</td>\n",
       "      <td>0</td>\n",
       "    </tr>\n",
       "  </tbody>\n",
       "</table>\n",
       "</div>"
      ],
      "text/plain": [
       "        ID  LATITUDE  LONGITUDE                STATE  EPIDEMIC\n",
       "4190  3965    28.189   -105.472            Chihuahua         0\n",
       "1715  4470    19.431    -99.154     Distrito_Federal         0\n",
       "707   1970    19.117    -98.168             Tlaxcala         0\n",
       "4262  4079    29.082   -110.944               Sonora         0\n",
       "3363   110    22.037   -102.270       Aguascalientes         0\n",
       "4175  4255    27.925   -110.882               Sonora         0\n",
       "3231  3057    21.151    -86.825         Quintana_Roo         0\n",
       "2573  3048    20.478    -99.218              Hidalgo         1\n",
       "1169  1713    19.348    -98.996     Distrito_Federal         0\n",
       "1609  4157    19.420    -99.020               Mexico         0\n",
       "1286  1579    19.369    -99.587               Mexico         0\n",
       "1776  4399    19.438    -99.196     Distrito_Federal         0\n",
       "3933  3774    25.720   -100.214           Nuevo_Leon         0\n",
       "3581  3055    24.021   -104.682              Durango         0\n",
       "2521  2834    20.247    -99.031              Hidalgo         1\n",
       "3040  4209    20.966    -89.626              Yucatan         0\n",
       "712   2452    19.125    -99.593               Mexico         0\n",
       "3025  2678    20.950    -89.623              Yucatan         0\n",
       "2971  3052    20.800    -89.033              Yucatan         0\n",
       "2354  1507    19.806    -97.311             Veracruz         1\n",
       "2869   509    20.692   -103.342              Jalisco         1\n",
       "3881  3694    25.677   -100.232           Nuevo_Leon         0\n",
       "2257  1082    19.662   -101.196  Michoacan_de_Ocampo         0\n",
       "64    2264    16.739    -93.114              Chiapas         0\n",
       "317    897    18.136    -94.438             Veracruz         1\n",
       "1932  3934    19.482    -99.186     Distrito_Federal         0\n",
       "3916  4069    25.701   -100.361           Nuevo_Leon         0\n",
       "1153  3379    19.346   -100.066               Mexico         0\n",
       "5     1001    14.870    -92.285              Chiapas         0\n",
       "1913  1695    19.475    -99.191     Distrito_Federal         0"
      ]
     },
     "execution_count": 24,
     "metadata": {},
     "output_type": "execute_result"
    }
   ],
   "source": [
    "antenas.loc[np.random.permutation(antenas.index)[:30]]"
   ]
  },
  {
   "cell_type": "code",
   "execution_count": 25,
   "metadata": {
    "collapsed": false
   },
   "outputs": [
    {
     "data": {
      "text/plain": [
       "1080"
      ]
     },
     "execution_count": 25,
     "metadata": {},
     "output_type": "execute_result"
    }
   ],
   "source": [
    "antenas.EPIDEMIC.sum()"
   ]
  },
  {
   "cell_type": "code",
   "execution_count": 26,
   "metadata": {
    "collapsed": false
   },
   "outputs": [
    {
     "data": {
      "text/plain": [
       "(4464, 1080, 0.24193548387096775)"
      ]
     },
     "execution_count": 26,
     "metadata": {},
     "output_type": "execute_result"
    }
   ],
   "source": [
    "len(antenas),antenas.EPIDEMIC.sum(),antenas.EPIDEMIC.sum()*1.0/len(antenas)"
   ]
  },
  {
   "cell_type": "code",
   "execution_count": 27,
   "metadata": {
    "collapsed": false
   },
   "outputs": [
    {
     "data": {
      "text/plain": [
       "<matplotlib.figure.Figure at 0x7fd4a3070e10>"
      ]
     },
     "metadata": {},
     "output_type": "display_data"
    }
   ],
   "source": [
    "fig = plt.figure(figsize=(8,8),dpi=300)"
   ]
  },
  {
   "cell_type": "code",
   "execution_count": 27,
   "metadata": {
    "collapsed": true
   },
   "outputs": [],
   "source": [
    "epidemic_states =  [u'Jalisco', u'Oaxaca', u'Puebla',u'Veracruz', u'Guerrero',u'Morelos',\n",
    "                     u'Tabasco',u'Hidalgo']"
   ]
  },
  {
   "cell_type": "code",
   "execution_count": 28,
   "metadata": {
    "collapsed": false
   },
   "outputs": [
    {
     "data": {
      "text/plain": [
       "<matplotlib.axes._subplots.AxesSubplot at 0x7fd209c35090>"
      ]
     },
     "execution_count": 28,
     "metadata": {},
     "output_type": "execute_result"
    },
    {
     "data": {
      "image/png": "[encoded data removed]",
      "text/plain": [
       "<matplotlib.figure.Figure at 0x7fd209c4df50>"
      ]
     },
     "metadata": {},
     "output_type": "display_data"
    }
   ],
   "source": [
    "mapa[['geometry','NOMBRE']].plot()\n",
    "#    .plot(colormap='Accent', alpha=0.7,figsize=(10,10),dpi=300)"
   ]
  },
  {
   "cell_type": "code",
   "execution_count": 35,
   "metadata": {
    "collapsed": false
   },
   "outputs": [],
   "source": [
    "antenas.to_csv(rootdir +\"/antennas_mexico.csv\",index=False,sep=\"|\")"
   ]
  },
  {
   "cell_type": "code",
   "execution_count": 40,
   "metadata": {
    "collapsed": true
   },
   "outputs": [],
   "source": [
    "def get_epidemic_state(estado):\n",
    "    sol=0\n",
    "    epidemicos = [u'Jalisco', u'Oaxaca', u'Puebla',u'Veracruz', u'Guerrero',u'Morelos',\n",
    "                     u'Tabasco',u'Hidalgo']\n",
    "    if estado in epidemicos:\n",
    "        sol =1\n",
    "    return sol    \n",
    "\n",
    "mapa['EPIDEMIC']=mapa['NOMBRE'].apply(lambda k: get_epidemic_state(k))"
   ]
  },
  {
   "cell_type": "code",
   "execution_count": 41,
   "metadata": {
    "collapsed": false,
    "scrolled": true
   },
   "outputs": [
    {
     "name": "stdout",
     "output_type": "stream",
     "text": [
      "PySAL not installed, setting map to default\n"
     ]
    },
    {
     "data": {
      "text/plain": [
       "<matplotlib.axes._subplots.AxesSubplot at 0x7fd20932ccd0>"
      ]
     },
     "execution_count": 41,
     "metadata": {},
     "output_type": "execute_result"
    },
    {
     "data": {
      "image/png": "[encoded data removed]",
      "text/plain": [
       "<matplotlib.figure.Figure at 0x7fd20935ded0>"
      ]
     },
     "metadata": {},
     "output_type": "display_data"
    }
   ],
   "source": [
    "kw = dict(column=\"EPIDEMIC\",k=6,colormap='YlGn')\n",
    "mapa.plot(scheme = \"Quantile\",**kw)"
   ]
  }
 ],
 "metadata": {
  "kernelspec": {
   "display_name": "Python 2",
   "language": "python",
   "name": "python2"
  },
  "language_info": {
   "codemirror_mode": {
    "name": "ipython",
    "version": 2
   },
   "file_extension": ".py",
   "mimetype": "text/x-python",
   "name": "python",
   "nbconvert_exporter": "python",
   "pygments_lexer": "ipython2",
   "version": "2.7.3"
  }
 },
 "nbformat": 4,
 "nbformat_minor": 0
}
