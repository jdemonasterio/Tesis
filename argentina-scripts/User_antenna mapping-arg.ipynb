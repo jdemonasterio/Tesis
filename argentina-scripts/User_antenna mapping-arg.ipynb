{
 "cells": [
  {
   "cell_type": "markdown",
   "metadata": {
    "collapsed": true
   },
   "source": [
    "# User_antenna mapping para argentina\n",
    "La idea es usar el el raw CDRs dataset para crear la lista que cuenta antennas utilizadas por cada user diariamente y agrupar esta lista (con repeticiones) en un agregado **DE LOS 5 MESES** (para luego determinar home_antenna etc.)\n",
    "\n",
    "Tambien usando info de las antenas (epidemicas o no). Podriamos ver si un user \"vive\" o solo \"paso\" por la zona epidemica.\n",
    "\n",
    "## definiciones utilizadas\n",
    "\n",
    "* la fecha viene dado en YYYMMDD y el TIME es HHMMSS en formato 24 horas\n",
    "* *Time* columns are measured in seconds.\n",
    "* Para establecer home antenna **Caro** define el daylight como de [5 20) (redondedo en segundos) timeframe (using Arg's timezone)\n",
    "* Para establecer la diferencia work/no_work **Caro** define el work_time como el [9 19) (redondeado en segundos) timeframe (using Arg's timezone). Esta diferencia se utiliza para work/non_work users/calls.\n",
    "\n",
    "* el analisis es solo para CDRs con usuarios de la TelCo. Los users de la TelCo van todos en la primer columna (independientemente del nombre de la columna..) entonces si la llamada es entrante quiere decir que el user de la telco esta recibiendo un llamado en esa antennaID. si la llamada es saliente es al reves. (Podria pasar que sea comunicaciones inter-Telco y ahi habria dos records uno saliente y otro entrante pero con los mismos 2 userIDs).\n",
    "* La Direction, viene dada relativa al user de la primer columna (incoming ,1, si entra y viceversa si es outgoing,0).\n",
    "\n",
    "### el dataset de crudo vendria con este header\n",
    "ORIGIN_NUMBER_ENC_B64|TARGET_NUMBER_ENC_B64|DIRECTION|CLIENT_BUSSINES_ID|OTHER_OPERATOR|FECHA|TIME|DURATION|CLIENT_CELL_ID|REDIRECT_VOICEMAIL|AIR_CHARGE|LAND_CHARGE|MONEDERO|RATE_ID_AIR|RATE_ID_LAND|DISCOUNT_AMOUNT_FF\n",
    "\n",
    "Basicamente los primeros 2 son los hashes de los users que estuvieron en el call, con el primero el user de la telco.\n",
    "\n",
    "Direction es quien llama a quien (outgoing es 1-->2, viceversa incoming). Fecha el dia,mes,anyo del llamado, time en formato 24hs incluyendo segundos. Duration medido en segundos, Client_cell_id el hash de la antenna y todo el resto no nos interesa."
   ]
  },
  {
   "cell_type": "markdown",
   "metadata": {},
   "source": [
    "## Differences with Caro's processing\n",
    "\n",
    "First, datasets used are different, were she uses already surrogated files, with timestamps in seconds since epoch, antennas as numbers (not hashes) and "
   ]
  },
  {
   "cell_type": "code",
   "execution_count": 1,
   "metadata": {
    "collapsed": false,
    "scrolled": false
   },
   "outputs": [
    {
     "data": {
      "application/javascript": [
       "IPython.notebook.set_autosave_interval(180000)"
      ]
     },
     "metadata": {},
     "output_type": "display_data"
    },
    {
     "name": "stdout",
     "output_type": "stream",
     "text": [
      "Autosaving every 180 seconds\n"
     ]
    },
    {
     "name": "stderr",
     "output_type": "stream",
     "text": [
      "/home/juan/mobility-study/scikit-learn/sklearn/externals/joblib/_multiprocessing_helpers.py:29: UserWarning: [Errno 38] Function not implemented.  joblib will operate in serial mode\n",
      "  warnings.warn('%s.  joblib will operate in serial mode' % (e,))\n",
      "A newer version of GraphLab Create (v1.10.1) is available! Your current version is v1.8.5.\n",
      "\n",
      "You can use pip to upgrade the graphlab-create package. For more information see https://dato.com/products/create/upgrade.\n"
     ]
    }
   ],
   "source": [
    "%autosave 180\n",
    "import numpy as np; import os;import random;\n",
    "import graphlab as gl\n",
    "#esto es para dibujar directo a la notebook\n",
    "gl.canvas.set_target('ipynb')\n",
    "\n",
    "#from matplotlib import pyplot as plt\n",
    "#%matplotlib inline\n",
    "import time\n",
    "import os\n",
    "np.random.seed(2016)"
   ]
  },
  {
   "cell_type": "code",
   "execution_count": null,
   "metadata": {
    "collapsed": true
   },
   "outputs": [],
   "source": []
  },
  {
   "cell_type": "code",
   "execution_count": null,
   "metadata": {
    "collapsed": true
   },
   "outputs": [],
   "source": []
  },
  {
   "cell_type": "code",
   "execution_count": 2,
   "metadata": {
    "collapsed": false
   },
   "outputs": [],
   "source": [
    "#ejemplo  \"/grandata/simple_format/01-02012014.txt.gz\"\n",
    "#seteamos el lugar de trabajo\n",
    "rootdir=\"/grandata/ca/voice/\"\n",
    "os.chdir(rootdir)\n",
    "year = 2011; \n",
    "months= [1,2,3];\n",
    "days = range(1,30)\n",
    "\n",
    "def get_raw_file(month,day):\n",
    "    return rootdir +\"{y}/{m}/binaria_gsm_{y}{m:0=2d}{d:0=2d}.csv.gz\"\\\n",
    "                .format(y=2012,m=month,d=day)\n",
    "    \n",
    "def get_output_file(group = -1,sample=False):\n",
    "    output = \"/home/juan/mobility-study/argentina-scripts/output/homeantenna_sframe\"\n",
    "    if sample == True:\n",
    "        output = output + \"_sample\"\n",
    "    if group != -1:\n",
    "        output = output + \"_group{g}_1\".format(g=group)\n",
    "    return output\n"
   ]
  },
  {
   "cell_type": "code",
   "execution_count": 3,
   "metadata": {
    "collapsed": false
   },
   "outputs": [],
   "source": [
    "days = range(1,30)\n",
    "month = 3\n",
    "day = days[10]\n",
    "raw_file = get_raw_file(month,day)"
   ]
  },
  {
   "cell_type": "code",
   "execution_count": 4,
   "metadata": {
    "collapsed": false,
    "scrolled": true
   },
   "outputs": [
    {
     "name": "stdout",
     "output_type": "stream",
     "text": [
      "44858093\n",
      "ORIGIN_NUMBER_ENC_B64|TARGET_NUMBER_ENC_B64|DIRECTION|CLIENT_BUSSINES_ID|OTHER_OPERATOR|FECHA|TIME|DURATION|CLIENT_CELL_ID|REDIRECT_VOICEMAIL|AIR_CHARGE|LAND_CHARGE|MONEDERO|RATE_ID_AIR|RATE_ID_LAND|DISCOUNT_AMOUNT_FF\n",
      "4753724553746A6E56686D5849536577436B375550513D3D|4C4434427355663273354B4D78492B4168754D5457673D3D|O|CO|CTI PCS S.A.|20120311|125215|195|RN203B|N|0|0|GRANEL|ALOCAL|CLV09|0\n",
      "307A344967764170452B6A75626E433538424D6743513D3D|6B6C6F483737453548515A5048595A54656F535177773D3D|O|CR|CTI PCS S.A.|20120311|223605|170|071|N|173959|34969|BONUS|||0\n",
      "7A4F636562387674592B526B684E32396972524D78773D3D|576B34494170732B327778787A447A47766C764378413D3D|O|CO|COMPA?IA DE RADIOCOMUNICACIONES MOVILES S.A.|20120311|120615|133|C1089J|N|.99|0|GRANEL|ALOCAL|TFIJO|0\n",
      "4F43594A33334473504E39554D526641564B65634B513D3D|6B4633425842726E49497867307A4F74547353322F513D3D|O|CR|NEXTEL COMMUNICATIONS ARGENTINA S.A.|20120311|190253|7|CTI 1|N|88988|17888|PERIODIC|||0\n",
      "4A6C66694B6D525A6D6C7056546F5A553766346972773D3D|454B4C562B4245444C614D4B4C6B6D554E4639706B773D3D|O|CR|GTE PCS S.A.|20120311|133834|92|CTI 1|N|0|0|ACREDITACION|||100\n",
      "50356C3576502F34482B4239337550524A634E4C4C413D3D|71692F55737A446873726568413949344865727252413D3D|O|CR|COMPA?IA DE RADIOCOMUNICACIONES MOVILES S.A.|20120311|192934|108|CTI 46|N|169967|34167|PERIODIC|||0\n",
      "50356C3576502F34482B4239337550524A634E4C4C413D3D|71692F55737A446873726568413949344865727252413D3D|O|CR|COMPA?IA DE RADIOCOMUNICACIONES MOVILES S.A.|20120311|112928|112|CTI 46|N|169967|34167|PERIODIC|||0\n",
      "7A3562492F7A68317A7244597147774752532F6B6F673D3D|446A7477456E725A58337937484E64546C675A7641413D3D|O|CO|CTI PCS S.A.|20120311|212339|4|SE201H|N|0|0|GRANEL|ALOCAL|CLV10|0\n",
      "4D4F6E43546656686D335350624A5469334574564B673D3D|72325A4B3468663745346C75315831666930433261673D3D|O|CO|CTI PCS S.A.|20120311|201444|104|C2036G|N|0|0|GRANEL|ALOCAL|TFIJO|0\n",
      "\n",
      "gzip: stdout: Broken pipe\n"
     ]
    }
   ],
   "source": [
    "!zcat $raw_file | wc -l\n",
    "!zcat $raw_file | head"
   ]
  },
  {
   "cell_type": "markdown",
   "metadata": {},
   "source": [
    "## Analytics on files\n",
    "Hay masomenos 40~60 de lineas x dia, i.e. 40 a 60m de llamados"
   ]
  },
  {
   "cell_type": "markdown",
   "metadata": {},
   "source": [
    "## Probamos con GraphLab gl\n",
    "tiene buenas conexiones con Spark, es mas rapido para los applys (ya probado) y parece ser mejor en terminos de que puede levantar files mas grandes que el tamanyo que tienen en la memoria. \n",
    "\n",
    "Ademas nativamente paraleliza todo con cython. Mirar htop como impacta cuando usamos 'applys' sobre el dataset.\n",
    "\n",
    "En gl pesa 3GB lo que con pd pesaba 10GB!!"
   ]
  },
  {
   "cell_type": "code",
   "execution_count": 5,
   "metadata": {
    "collapsed": false
   },
   "outputs": [
    {
     "name": "stdout",
     "output_type": "stream",
     "text": [
      "This non-commercial license of GraphLab Create is assigned to svega@dm.uba.ar and will expire on April 16, 2017. For commercial licensing options, visit https://dato.com/buy/.\n"
     ]
    },
    {
     "name": "stderr",
     "output_type": "stream",
     "text": [
      "2016-06-24 13:58:25,230 [INFO] graphlab.cython.cy_server, 176: GraphLab Create v1.8.5 started. Logging: /tmp/graphlab_server_1466776703.log\n"
     ]
    }
   ],
   "source": [
    "antennas_file = '/home/juan/mobility-study/argentina-scripts/data/celdas_limpio.csv'\n",
    "antennas = gl.SFrame.read_csv( antennas_file, delimiter='|', \n",
    "                                     header=True, skip_initial_space=True, \n",
    "                                     column_type_hints = [str,float, float, str, str, bool], \n",
    "                                     na_values=['NaN'],\n",
    "                                     usecols = ['CEL_ID','LATITUD',\n",
    "                                                'LONGITUD','DEPARTAMENTO','PROVINCIA','EPIDEMIC'],  \n",
    "                                     error_bad_lines=False,\n",
    "                                     verbose = False\n",
    "                                    )                "
   ]
  },
  {
   "cell_type": "code",
   "execution_count": null,
   "metadata": {
    "collapsed": true
   },
   "outputs": [],
   "source": []
  },
  {
   "cell_type": "code",
   "execution_count": 7,
   "metadata": {
    "collapsed": false,
    "scrolled": true
   },
   "outputs": [
    {
     "data": {
      "text/html": [
       "<pre>Read 280013 lines. Lines per second: 55732.2</pre>"
      ],
      "text/plain": [
       "Read 280013 lines. Lines per second: 55732.2"
      ]
     },
     "metadata": {},
     "output_type": "display_data"
    },
    {
     "data": {
      "text/html": [
       "<pre>Read 1122780 lines. Lines per second: 107539</pre>"
      ],
      "text/plain": [
       "Read 1122780 lines. Lines per second: 107539"
      ]
     },
     "metadata": {},
     "output_type": "display_data"
    },
    {
     "data": {
      "text/html": [
       "<pre>Read 2215616 lines. Lines per second: 134075</pre>"
      ],
      "text/plain": [
       "Read 2215616 lines. Lines per second: 134075"
      ]
     },
     "metadata": {},
     "output_type": "display_data"
    },
    {
     "data": {
      "text/html": [
       "<pre>Read 3276132 lines. Lines per second: 143452</pre>"
      ],
      "text/plain": [
       "Read 3276132 lines. Lines per second: 143452"
      ]
     },
     "metadata": {},
     "output_type": "display_data"
    },
    {
     "data": {
      "text/html": [
       "<pre>Read 4161796 lines. Lines per second: 145413</pre>"
      ],
      "text/plain": [
       "Read 4161796 lines. Lines per second: 145413"
      ]
     },
     "metadata": {},
     "output_type": "display_data"
    },
    {
     "data": {
      "text/html": [
       "<pre>Read 5059447 lines. Lines per second: 143380</pre>"
      ],
      "text/plain": [
       "Read 5059447 lines. Lines per second: 143380"
      ]
     },
     "metadata": {},
     "output_type": "display_data"
    },
    {
     "data": {
      "text/html": [
       "<pre>Read 5901931 lines. Lines per second: 141217</pre>"
      ],
      "text/plain": [
       "Read 5901931 lines. Lines per second: 141217"
      ]
     },
     "metadata": {},
     "output_type": "display_data"
    },
    {
     "data": {
      "text/html": [
       "<pre>Read 7028629 lines. Lines per second: 147104</pre>"
      ],
      "text/plain": [
       "Read 7028629 lines. Lines per second: 147104"
      ]
     },
     "metadata": {},
     "output_type": "display_data"
    },
    {
     "data": {
      "text/html": [
       "<pre>Read 8152658 lines. Lines per second: 152117</pre>"
      ],
      "text/plain": [
       "Read 8152658 lines. Lines per second: 152117"
      ]
     },
     "metadata": {},
     "output_type": "display_data"
    },
    {
     "data": {
      "text/html": [
       "<pre>Read 8992423 lines. Lines per second: 149594</pre>"
      ],
      "text/plain": [
       "Read 8992423 lines. Lines per second: 149594"
      ]
     },
     "metadata": {},
     "output_type": "display_data"
    },
    {
     "data": {
      "text/html": [
       "<pre>Read 9835491 lines. Lines per second: 147896</pre>"
      ],
      "text/plain": [
       "Read 9835491 lines. Lines per second: 147896"
      ]
     },
     "metadata": {},
     "output_type": "display_data"
    },
    {
     "data": {
      "text/html": [
       "<pre>Read 10679361 lines. Lines per second: 146733</pre>"
      ],
      "text/plain": [
       "Read 10679361 lines. Lines per second: 146733"
      ]
     },
     "metadata": {},
     "output_type": "display_data"
    },
    {
     "data": {
      "text/html": [
       "<pre>Read 11523069 lines. Lines per second: 146504</pre>"
      ],
      "text/plain": [
       "Read 11523069 lines. Lines per second: 146504"
      ]
     },
     "metadata": {},
     "output_type": "display_data"
    },
    {
     "data": {
      "text/html": [
       "<pre>Read 12366089 lines. Lines per second: 145028</pre>"
      ],
      "text/plain": [
       "Read 12366089 lines. Lines per second: 145028"
      ]
     },
     "metadata": {},
     "output_type": "display_data"
    },
    {
     "data": {
      "text/html": [
       "<pre>Read 13209901 lines. Lines per second: 143711</pre>"
      ],
      "text/plain": [
       "Read 13209901 lines. Lines per second: 143711"
      ]
     },
     "metadata": {},
     "output_type": "display_data"
    },
    {
     "data": {
      "text/html": [
       "<pre>Read 14053705 lines. Lines per second: 142886</pre>"
      ],
      "text/plain": [
       "Read 14053705 lines. Lines per second: 142886"
      ]
     },
     "metadata": {},
     "output_type": "display_data"
    },
    {
     "data": {
      "text/html": [
       "<pre>Read 14900365 lines. Lines per second: 142348</pre>"
      ],
      "text/plain": [
       "Read 14900365 lines. Lines per second: 142348"
      ]
     },
     "metadata": {},
     "output_type": "display_data"
    },
    {
     "data": {
      "text/html": [
       "<pre>Read 15746589 lines. Lines per second: 141653</pre>"
      ],
      "text/plain": [
       "Read 15746589 lines. Lines per second: 141653"
      ]
     },
     "metadata": {},
     "output_type": "display_data"
    },
    {
     "data": {
      "text/html": [
       "<pre>Read 16589230 lines. Lines per second: 141441</pre>"
      ],
      "text/plain": [
       "Read 16589230 lines. Lines per second: 141441"
      ]
     },
     "metadata": {},
     "output_type": "display_data"
    },
    {
     "data": {
      "text/html": [
       "<pre>Read 17802893 lines. Lines per second: 144506</pre>"
      ],
      "text/plain": [
       "Read 17802893 lines. Lines per second: 144506"
      ]
     },
     "metadata": {},
     "output_type": "display_data"
    },
    {
     "data": {
      "text/html": [
       "<pre>Read 18953750 lines. Lines per second: 146734</pre>"
      ],
      "text/plain": [
       "Read 18953750 lines. Lines per second: 146734"
      ]
     },
     "metadata": {},
     "output_type": "display_data"
    },
    {
     "data": {
      "text/html": [
       "<pre>Read 20142442 lines. Lines per second: 149920</pre>"
      ],
      "text/plain": [
       "Read 20142442 lines. Lines per second: 149920"
      ]
     },
     "metadata": {},
     "output_type": "display_data"
    },
    {
     "data": {
      "text/html": [
       "<pre>Read 21443307 lines. Lines per second: 153077</pre>"
      ],
      "text/plain": [
       "Read 21443307 lines. Lines per second: 153077"
      ]
     },
     "metadata": {},
     "output_type": "display_data"
    },
    {
     "data": {
      "text/html": [
       "<pre>Read 22354997 lines. Lines per second: 152857</pre>"
      ],
      "text/plain": [
       "Read 22354997 lines. Lines per second: 152857"
      ]
     },
     "metadata": {},
     "output_type": "display_data"
    },
    {
     "data": {
      "text/html": [
       "<pre>Read 23266260 lines. Lines per second: 152725</pre>"
      ],
      "text/plain": [
       "Read 23266260 lines. Lines per second: 152725"
      ]
     },
     "metadata": {},
     "output_type": "display_data"
    },
    {
     "data": {
      "text/html": [
       "<pre>Read 24177372 lines. Lines per second: 152650</pre>"
      ],
      "text/plain": [
       "Read 24177372 lines. Lines per second: 152650"
      ]
     },
     "metadata": {},
     "output_type": "display_data"
    },
    {
     "data": {
      "text/html": [
       "<pre>Read 25091304 lines. Lines per second: 152410</pre>"
      ],
      "text/plain": [
       "Read 25091304 lines. Lines per second: 152410"
      ]
     },
     "metadata": {},
     "output_type": "display_data"
    },
    {
     "data": {
      "text/html": [
       "<pre>Read 26002831 lines. Lines per second: 152452</pre>"
      ],
      "text/plain": [
       "Read 26002831 lines. Lines per second: 152452"
      ]
     },
     "metadata": {},
     "output_type": "display_data"
    },
    {
     "data": {
      "text/html": [
       "<pre>Read 26914891 lines. Lines per second: 152699</pre>"
      ],
      "text/plain": [
       "Read 26914891 lines. Lines per second: 152699"
      ]
     },
     "metadata": {},
     "output_type": "display_data"
    },
    {
     "data": {
      "text/html": [
       "<pre>Read 27827029 lines. Lines per second: 152847</pre>"
      ],
      "text/plain": [
       "Read 27827029 lines. Lines per second: 152847"
      ]
     },
     "metadata": {},
     "output_type": "display_data"
    },
    {
     "data": {
      "text/html": [
       "<pre>Read 28738540 lines. Lines per second: 152838</pre>"
      ],
      "text/plain": [
       "Read 28738540 lines. Lines per second: 152838"
      ]
     },
     "metadata": {},
     "output_type": "display_data"
    },
    {
     "data": {
      "text/html": [
       "<pre>Read 29650180 lines. Lines per second: 152987</pre>"
      ],
      "text/plain": [
       "Read 29650180 lines. Lines per second: 152987"
      ]
     },
     "metadata": {},
     "output_type": "display_data"
    },
    {
     "data": {
      "text/html": [
       "<pre>Read 30561179 lines. Lines per second: 152986</pre>"
      ],
      "text/plain": [
       "Read 30561179 lines. Lines per second: 152986"
      ]
     },
     "metadata": {},
     "output_type": "display_data"
    },
    {
     "data": {
      "text/html": [
       "<pre>Read 31472499 lines. Lines per second: 152925</pre>"
      ],
      "text/plain": [
       "Read 31472499 lines. Lines per second: 152925"
      ]
     },
     "metadata": {},
     "output_type": "display_data"
    },
    {
     "data": {
      "text/html": [
       "<pre>Read 32384272 lines. Lines per second: 152965</pre>"
      ],
      "text/plain": [
       "Read 32384272 lines. Lines per second: 152965"
      ]
     },
     "metadata": {},
     "output_type": "display_data"
    },
    {
     "data": {
      "text/html": [
       "<pre>Read 33295202 lines. Lines per second: 153182</pre>"
      ],
      "text/plain": [
       "Read 33295202 lines. Lines per second: 153182"
      ]
     },
     "metadata": {},
     "output_type": "display_data"
    },
    {
     "data": {
      "text/html": [
       "<pre>Read 34206448 lines. Lines per second: 153234</pre>"
      ],
      "text/plain": [
       "Read 34206448 lines. Lines per second: 153234"
      ]
     },
     "metadata": {},
     "output_type": "display_data"
    },
    {
     "data": {
      "text/html": [
       "<pre>Read 35117543 lines. Lines per second: 153449</pre>"
      ],
      "text/plain": [
       "Read 35117543 lines. Lines per second: 153449"
      ]
     },
     "metadata": {},
     "output_type": "display_data"
    },
    {
     "data": {
      "text/html": [
       "<pre>Read 36029740 lines. Lines per second: 153396</pre>"
      ],
      "text/plain": [
       "Read 36029740 lines. Lines per second: 153396"
      ]
     },
     "metadata": {},
     "output_type": "display_data"
    },
    {
     "data": {
      "text/html": [
       "<pre>Read 36942919 lines. Lines per second: 153203</pre>"
      ],
      "text/plain": [
       "Read 36942919 lines. Lines per second: 153203"
      ]
     },
     "metadata": {},
     "output_type": "display_data"
    },
    {
     "data": {
      "text/html": [
       "<pre>Read 37863702 lines. Lines per second: 153164</pre>"
      ],
      "text/plain": [
       "Read 37863702 lines. Lines per second: 153164"
      ]
     },
     "metadata": {},
     "output_type": "display_data"
    },
    {
     "data": {
      "text/html": [
       "<pre>Read 38774772 lines. Lines per second: 153176</pre>"
      ],
      "text/plain": [
       "Read 38774772 lines. Lines per second: 153176"
      ]
     },
     "metadata": {},
     "output_type": "display_data"
    },
    {
     "data": {
      "text/html": [
       "<pre>Read 39686003 lines. Lines per second: 153242</pre>"
      ],
      "text/plain": [
       "Read 39686003 lines. Lines per second: 153242"
      ]
     },
     "metadata": {},
     "output_type": "display_data"
    },
    {
     "data": {
      "text/html": [
       "<pre>Read 40596937 lines. Lines per second: 153514</pre>"
      ],
      "text/plain": [
       "Read 40596937 lines. Lines per second: 153514"
      ]
     },
     "metadata": {},
     "output_type": "display_data"
    },
    {
     "data": {
      "text/html": [
       "<pre>Read 41812109 lines. Lines per second: 154511</pre>"
      ],
      "text/plain": [
       "Read 41812109 lines. Lines per second: 154511"
      ]
     },
     "metadata": {},
     "output_type": "display_data"
    },
    {
     "data": {
      "text/html": [
       "<pre>Read 43027408 lines. Lines per second: 155352</pre>"
      ],
      "text/plain": [
       "Read 43027408 lines. Lines per second: 155352"
      ]
     },
     "metadata": {},
     "output_type": "display_data"
    },
    {
     "data": {
      "text/html": [
       "<pre>Read 43635006 lines. Lines per second: 154763</pre>"
      ],
      "text/plain": [
       "Read 43635006 lines. Lines per second: 154763"
      ]
     },
     "metadata": {},
     "output_type": "display_data"
    },
    {
     "data": {
      "text/html": [
       "<pre>Read 44545872 lines. Lines per second: 154228</pre>"
      ],
      "text/plain": [
       "Read 44545872 lines. Lines per second: 154228"
      ]
     },
     "metadata": {},
     "output_type": "display_data"
    },
    {
     "data": {
      "text/html": [
       "<pre>Finished parsing file /grandata/ca/voice/2012/3/binaria_gsm_20120311.csv.gz</pre>"
      ],
      "text/plain": [
       "Finished parsing file /grandata/ca/voice/2012/3/binaria_gsm_20120311.csv.gz"
      ]
     },
     "metadata": {},
     "output_type": "display_data"
    },
    {
     "data": {
      "text/html": [
       "<pre>Parsing completed. Parsed 44858092 lines in 289.715 secs.</pre>"
      ],
      "text/plain": [
       "Parsing completed. Parsed 44858092 lines in 289.715 secs."
      ]
     },
     "metadata": {},
     "output_type": "display_data"
    },
    {
     "name": "stdout",
     "output_type": "stream",
     "text": [
      "CPU times: user 11min 14s, sys: 38.8 s, total: 11min 53s\n",
      "Wall time: 4min 52s\n"
     ]
    }
   ],
   "source": [
    "%%time\n",
    "import datetime\n",
    "\n",
    "#columnt_type_hints=[str, str, str, str, str,int ,int ,int ,\n",
    "#                                      str, str, float,float,str,str,str,int ] \n",
    "\n",
    "#obs. NO levanto la columna Fecha pues esta info la puedo sacar del filename\n",
    "current_date = datetime.datetime(2012,month,day)\n",
    "\n",
    "test = gl.SFrame.read_csv( raw_file, delimiter='|', \n",
    "        header=True, skip_initial_space=True, \n",
    "        column_type_hints = [str,str, str,str, str, str, int], \n",
    "        #nrows = 25*1e6,\n",
    "        usecols = ['ORIGIN_NUMBER_ENC_B64',\"TARGET_NUMBER_ENC_B64\",'DIRECTION',\n",
    "                                                    'FECHA','TIME','CLIENT_CELL_ID','DURATION'],  \n",
    "        error_bad_lines=False,\n",
    "                  )\n",
    "\n",
    "test.rename({'ORIGIN_NUMBER_ENC_B64':'USER',\n",
    "                      'FECHA':'DATE'})\n",
    "\n"
   ]
  },
  {
   "cell_type": "code",
   "execution_count": 8,
   "metadata": {
    "collapsed": false
   },
   "outputs": [
    {
     "data": {
      "text/plain": [
       "(44858092, 7)"
      ]
     },
     "execution_count": 8,
     "metadata": {},
     "output_type": "execute_result"
    }
   ],
   "source": [
    "test.shape"
   ]
  },
  {
   "cell_type": "code",
   "execution_count": 9,
   "metadata": {
    "collapsed": false
   },
   "outputs": [
    {
     "name": "stdout",
     "output_type": "stream",
     "text": [
      "CPU times: user 8min 57s, sys: 1min 5s, total: 10min 3s\n",
      "Wall time: 2min 42s\n"
     ]
    }
   ],
   "source": [
    "%%time\n",
    "test['CLIENT_CELL_ID'] = test['CLIENT_CELL_ID'].apply(lambda x: x[:-1] if len(x) ==6 else x)\n",
    "test = test.filter_by(antennas['CEL_ID'],'CLIENT_CELL_ID')"
   ]
  },
  {
   "cell_type": "code",
   "execution_count": 10,
   "metadata": {
    "collapsed": false
   },
   "outputs": [
    {
     "data": {
      "text/plain": [
       "(21192261, 7)"
      ]
     },
     "execution_count": 10,
     "metadata": {},
     "output_type": "execute_result"
    }
   ],
   "source": [
    "test.shape"
   ]
  },
  {
   "cell_type": "code",
   "execution_count": 22,
   "metadata": {
    "collapsed": false
   },
   "outputs": [
    {
     "data": {
      "text/html": [
       "<div style=\"max-height:1000px;max-width:1500px;overflow:auto;\"><table frame=\"box\" rules=\"cols\">\n",
       "    <tr>\n",
       "        <th style=\"padding-left: 1em; padding-right: 1em; text-align: center\">USER</th>\n",
       "        <th style=\"padding-left: 1em; padding-right: 1em; text-align: center\">TARGET_NUMBER_ENC_B64</th>\n",
       "        <th style=\"padding-left: 1em; padding-right: 1em; text-align: center\">DIRECTION</th>\n",
       "        <th style=\"padding-left: 1em; padding-right: 1em; text-align: center\">DATE</th>\n",
       "        <th style=\"padding-left: 1em; padding-right: 1em; text-align: center\">TIME</th>\n",
       "        <th style=\"padding-left: 1em; padding-right: 1em; text-align: center\">CLIENT_CELL_ID</th>\n",
       "        <th style=\"padding-left: 1em; padding-right: 1em; text-align: center\">DURATION</th>\n",
       "    </tr>\n",
       "    <tr>\n",
       "        <td style=\"padding-left: 1em; padding-right: 1em; text-align: center; vertical-align: top\">586C657674677276587268734<br>F6D3231384646435A413D3D ...</td>\n",
       "        <td style=\"padding-left: 1em; padding-right: 1em; text-align: center; vertical-align: top\">51464731484B41796C30576E4<br>3735A556848425577413D3D ...</td>\n",
       "        <td style=\"padding-left: 1em; padding-right: 1em; text-align: center; vertical-align: top\">O</td>\n",
       "        <td style=\"padding-left: 1em; padding-right: 1em; text-align: center; vertical-align: top\">20120311</td>\n",
       "        <td style=\"padding-left: 1em; padding-right: 1em; text-align: center; vertical-align: top\">020445</td>\n",
       "        <td style=\"padding-left: 1em; padding-right: 1em; text-align: center; vertical-align: top\">SF026</td>\n",
       "        <td style=\"padding-left: 1em; padding-right: 1em; text-align: center; vertical-align: top\">6</td>\n",
       "    </tr>\n",
       "    <tr>\n",
       "        <td style=\"padding-left: 1em; padding-right: 1em; text-align: center; vertical-align: top\">6248436242434854473476736<br>A4D6C41524E644E71773D3D ...</td>\n",
       "        <td style=\"padding-left: 1em; padding-right: 1em; text-align: center; vertical-align: top\">6B7737334E4B4249616677787<br>A364B324357507931413D3D ...</td>\n",
       "        <td style=\"padding-left: 1em; padding-right: 1em; text-align: center; vertical-align: top\">O</td>\n",
       "        <td style=\"padding-left: 1em; padding-right: 1em; text-align: center; vertical-align: top\">20120311</td>\n",
       "        <td style=\"padding-left: 1em; padding-right: 1em; text-align: center; vertical-align: top\">182131</td>\n",
       "        <td style=\"padding-left: 1em; padding-right: 1em; text-align: center; vertical-align: top\">CB224</td>\n",
       "        <td style=\"padding-left: 1em; padding-right: 1em; text-align: center; vertical-align: top\">7</td>\n",
       "    </tr>\n",
       "    <tr>\n",
       "        <td style=\"padding-left: 1em; padding-right: 1em; text-align: center; vertical-align: top\">62626466364A32524A7659724<br>57279353762596C49673D3D ...</td>\n",
       "        <td style=\"padding-left: 1em; padding-right: 1em; text-align: center; vertical-align: top\">4A7571506F4A4D36485555354<br>F316F377A6D654732673D3D ...</td>\n",
       "        <td style=\"padding-left: 1em; padding-right: 1em; text-align: center; vertical-align: top\">O</td>\n",
       "        <td style=\"padding-left: 1em; padding-right: 1em; text-align: center; vertical-align: top\">20120311</td>\n",
       "        <td style=\"padding-left: 1em; padding-right: 1em; text-align: center; vertical-align: top\">011800</td>\n",
       "        <td style=\"padding-left: 1em; padding-right: 1em; text-align: center; vertical-align: top\">CF146</td>\n",
       "        <td style=\"padding-left: 1em; padding-right: 1em; text-align: center; vertical-align: top\">53</td>\n",
       "    </tr>\n",
       "    <tr>\n",
       "        <td style=\"padding-left: 1em; padding-right: 1em; text-align: center; vertical-align: top\">746778454E5679756E5431356<br>569357A3762355776773D3D ...</td>\n",
       "        <td style=\"padding-left: 1em; padding-right: 1em; text-align: center; vertical-align: top\">3271544874375146456E61565<br>6686A565252654D43413D3D ...</td>\n",
       "        <td style=\"padding-left: 1em; padding-right: 1em; text-align: center; vertical-align: top\">O</td>\n",
       "        <td style=\"padding-left: 1em; padding-right: 1em; text-align: center; vertical-align: top\">20120311</td>\n",
       "        <td style=\"padding-left: 1em; padding-right: 1em; text-align: center; vertical-align: top\">190928</td>\n",
       "        <td style=\"padding-left: 1em; padding-right: 1em; text-align: center; vertical-align: top\">ME050</td>\n",
       "        <td style=\"padding-left: 1em; padding-right: 1em; text-align: center; vertical-align: top\">1855</td>\n",
       "    </tr>\n",
       "    <tr>\n",
       "        <td style=\"padding-left: 1em; padding-right: 1em; text-align: center; vertical-align: top\">5261313255735463383472757<br>7546F3971366E3149413D3D ...</td>\n",
       "        <td style=\"padding-left: 1em; padding-right: 1em; text-align: center; vertical-align: top\">6B75412F43654F45793138664<br>D5257316A692F7578413D3D ...</td>\n",
       "        <td style=\"padding-left: 1em; padding-right: 1em; text-align: center; vertical-align: top\">O</td>\n",
       "        <td style=\"padding-left: 1em; padding-right: 1em; text-align: center; vertical-align: top\">20120311</td>\n",
       "        <td style=\"padding-left: 1em; padding-right: 1em; text-align: center; vertical-align: top\">175206</td>\n",
       "        <td style=\"padding-left: 1em; padding-right: 1em; text-align: center; vertical-align: top\">ME092</td>\n",
       "        <td style=\"padding-left: 1em; padding-right: 1em; text-align: center; vertical-align: top\">2</td>\n",
       "    </tr>\n",
       "    <tr>\n",
       "        <td style=\"padding-left: 1em; padding-right: 1em; text-align: center; vertical-align: top\">52675130414E58506E51502B6<br>86F48596E72513379513D3D ...</td>\n",
       "        <td style=\"padding-left: 1em; padding-right: 1em; text-align: center; vertical-align: top\">6364324A445578744335486E7<br>A4F79756A584B366A773D3D ...</td>\n",
       "        <td style=\"padding-left: 1em; padding-right: 1em; text-align: center; vertical-align: top\">O</td>\n",
       "        <td style=\"padding-left: 1em; padding-right: 1em; text-align: center; vertical-align: top\">20120311</td>\n",
       "        <td style=\"padding-left: 1em; padding-right: 1em; text-align: center; vertical-align: top\">175659</td>\n",
       "        <td style=\"padding-left: 1em; padding-right: 1em; text-align: center; vertical-align: top\">BA398</td>\n",
       "        <td style=\"padding-left: 1em; padding-right: 1em; text-align: center; vertical-align: top\">16</td>\n",
       "    </tr>\n",
       "    <tr>\n",
       "        <td style=\"padding-left: 1em; padding-right: 1em; text-align: center; vertical-align: top\">6E3978532B6C516F667251736<br>C72704974495A5070513D3D ...</td>\n",
       "        <td style=\"padding-left: 1em; padding-right: 1em; text-align: center; vertical-align: top\">4F31646C2F396236634E66514<br>E6448775352454C42673D3D ...</td>\n",
       "        <td style=\"padding-left: 1em; padding-right: 1em; text-align: center; vertical-align: top\">O</td>\n",
       "        <td style=\"padding-left: 1em; padding-right: 1em; text-align: center; vertical-align: top\">20120311</td>\n",
       "        <td style=\"padding-left: 1em; padding-right: 1em; text-align: center; vertical-align: top\">221337</td>\n",
       "        <td style=\"padding-left: 1em; padding-right: 1em; text-align: center; vertical-align: top\">C1872</td>\n",
       "        <td style=\"padding-left: 1em; padding-right: 1em; text-align: center; vertical-align: top\">125</td>\n",
       "    </tr>\n",
       "    <tr>\n",
       "        <td style=\"padding-left: 1em; padding-right: 1em; text-align: center; vertical-align: top\">51756D364E447472795A78553<br>14F37577649726351773D3D ...</td>\n",
       "        <td style=\"padding-left: 1em; padding-right: 1em; text-align: center; vertical-align: top\">757A374B6E413535337249717<br>3575853465752486C673D3D ...</td>\n",
       "        <td style=\"padding-left: 1em; padding-right: 1em; text-align: center; vertical-align: top\">O</td>\n",
       "        <td style=\"padding-left: 1em; padding-right: 1em; text-align: center; vertical-align: top\">20120311</td>\n",
       "        <td style=\"padding-left: 1em; padding-right: 1em; text-align: center; vertical-align: top\">133825</td>\n",
       "        <td style=\"padding-left: 1em; padding-right: 1em; text-align: center; vertical-align: top\">ER146</td>\n",
       "        <td style=\"padding-left: 1em; padding-right: 1em; text-align: center; vertical-align: top\">159</td>\n",
       "    </tr>\n",
       "    <tr>\n",
       "        <td style=\"padding-left: 1em; padding-right: 1em; text-align: center; vertical-align: top\">2F4E36334B6A4B64674945757<br>7334236672B356337673D3D ...</td>\n",
       "        <td style=\"padding-left: 1em; padding-right: 1em; text-align: center; vertical-align: top\">2F4E36334B6A4B64674947716<br>73039623933794F31513D3D ...</td>\n",
       "        <td style=\"padding-left: 1em; padding-right: 1em; text-align: center; vertical-align: top\">O</td>\n",
       "        <td style=\"padding-left: 1em; padding-right: 1em; text-align: center; vertical-align: top\">20120311</td>\n",
       "        <td style=\"padding-left: 1em; padding-right: 1em; text-align: center; vertical-align: top\">134918</td>\n",
       "        <td style=\"padding-left: 1em; padding-right: 1em; text-align: center; vertical-align: top\">SF380</td>\n",
       "        <td style=\"padding-left: 1em; padding-right: 1em; text-align: center; vertical-align: top\">462</td>\n",
       "    </tr>\n",
       "    <tr>\n",
       "        <td style=\"padding-left: 1em; padding-right: 1em; text-align: center; vertical-align: top\">75775A424D616F30593370724<br>755636963556B6E52673D3D ...</td>\n",
       "        <td style=\"padding-left: 1em; padding-right: 1em; text-align: center; vertical-align: top\">474D7955327A3653664158567<br>0734135592F586662513D3D ...</td>\n",
       "        <td style=\"padding-left: 1em; padding-right: 1em; text-align: center; vertical-align: top\">O</td>\n",
       "        <td style=\"padding-left: 1em; padding-right: 1em; text-align: center; vertical-align: top\">20120311</td>\n",
       "        <td style=\"padding-left: 1em; padding-right: 1em; text-align: center; vertical-align: top\">134033</td>\n",
       "        <td style=\"padding-left: 1em; padding-right: 1em; text-align: center; vertical-align: top\">CO664</td>\n",
       "        <td style=\"padding-left: 1em; padding-right: 1em; text-align: center; vertical-align: top\">8</td>\n",
       "    </tr>\n",
       "</table>\n",
       "[? rows x 7 columns]<br/>Note: Only the head of the SFrame is printed. This SFrame is lazily evaluated.<br/>You can use len(sf) to force materialization.\n",
       "</div>"
      ],
      "text/plain": [
       "Columns:\n",
       "\tUSER\tstr\n",
       "\tTARGET_NUMBER_ENC_B64\tstr\n",
       "\tDIRECTION\tstr\n",
       "\tDATE\tstr\n",
       "\tTIME\tstr\n",
       "\tCLIENT_CELL_ID\tstr\n",
       "\tDURATION\tint\n",
       "\n",
       "Rows: Unknown\n",
       "\n",
       "Data:\n",
       "+-------------------------------+-------------------------------+-----------+\n",
       "|              USER             |     TARGET_NUMBER_ENC_B64     | DIRECTION |\n",
       "+-------------------------------+-------------------------------+-----------+\n",
       "| 586C657674677276587268734F... | 51464731484B41796C30576E43... |     O     |\n",
       "| 6248436242434854473476736A... | 6B7737334E4B4249616677787A... |     O     |\n",
       "| 62626466364A32524A76597245... | 4A7571506F4A4D36485555354F... |     O     |\n",
       "| 746778454E5679756E54313565... | 3271544874375146456E615656... |     O     |\n",
       "| 52613132557354633834727577... | 6B75412F43654F45793138664D... |     O     |\n",
       "| 52675130414E58506E51502B68... | 6364324A445578744335486E7A... |     O     |\n",
       "| 6E3978532B6C516F667251736C... | 4F31646C2F396236634E66514E... |     O     |\n",
       "| 51756D364E447472795A785531... | 757A374B6E4135353372497173... |     O     |\n",
       "| 2F4E36334B6A4B646749457577... | 2F4E36334B6A4B646749477167... |     O     |\n",
       "| 75775A424D616F305933707247... | 474D7955327A36536641585670... |     O     |\n",
       "+-------------------------------+-------------------------------+-----------+\n",
       "+----------+--------+----------------+----------+\n",
       "|   DATE   |  TIME  | CLIENT_CELL_ID | DURATION |\n",
       "+----------+--------+----------------+----------+\n",
       "| 20120311 | 020445 |     SF026      |    6     |\n",
       "| 20120311 | 182131 |     CB224      |    7     |\n",
       "| 20120311 | 011800 |     CF146      |    53    |\n",
       "| 20120311 | 190928 |     ME050      |   1855   |\n",
       "| 20120311 | 175206 |     ME092      |    2     |\n",
       "| 20120311 | 175659 |     BA398      |    16    |\n",
       "| 20120311 | 221337 |     C1872      |   125    |\n",
       "| 20120311 | 133825 |     ER146      |   159    |\n",
       "| 20120311 | 134918 |     SF380      |   462    |\n",
       "| 20120311 | 134033 |     CO664      |    8     |\n",
       "+----------+--------+----------------+----------+\n",
       "[? rows x 7 columns]\n",
       "Note: Only the head of the SFrame is printed. This SFrame is lazily evaluated.\n",
       "You can use len(sf) to force materialization."
      ]
     },
     "execution_count": 22,
     "metadata": {},
     "output_type": "execute_result"
    }
   ],
   "source": [
    "test.sample(0.0001)"
   ]
  },
  {
   "cell_type": "code",
   "execution_count": 6,
   "metadata": {
    "collapsed": false,
    "scrolled": true
   },
   "outputs": [
    {
     "data": {
      "text/html": [
       "<div style=\"max-height:1000px;max-width:1500px;overflow:auto;\"><table frame=\"box\" rules=\"cols\">\n",
       "    <tr>\n",
       "        <th style=\"padding-left: 1em; padding-right: 1em; text-align: center\">USER</th>\n",
       "        <th style=\"padding-left: 1em; padding-right: 1em; text-align: center\">TARGET_NUMBER_ENC_B64</th>\n",
       "        <th style=\"padding-left: 1em; padding-right: 1em; text-align: center\">DIRECTION</th>\n",
       "        <th style=\"padding-left: 1em; padding-right: 1em; text-align: center\">CLIENT_BUSSINES_ID</th>\n",
       "        <th style=\"padding-left: 1em; padding-right: 1em; text-align: center\">OTHER_OPERATOR</th>\n",
       "    </tr>\n",
       "    <tr>\n",
       "        <td style=\"padding-left: 1em; padding-right: 1em; text-align: center; vertical-align: top\">4753724553746A6E56686D584<br>9536577436B375550513D3D ...</td>\n",
       "        <td style=\"padding-left: 1em; padding-right: 1em; text-align: center; vertical-align: top\">4C4434427355663273354B4D7<br>8492B4168754D5457673D3D ...</td>\n",
       "        <td style=\"padding-left: 1em; padding-right: 1em; text-align: center; vertical-align: top\">O</td>\n",
       "        <td style=\"padding-left: 1em; padding-right: 1em; text-align: center; vertical-align: top\">CO</td>\n",
       "        <td style=\"padding-left: 1em; padding-right: 1em; text-align: center; vertical-align: top\">CTI PCS S.A.</td>\n",
       "    </tr>\n",
       "    <tr>\n",
       "        <td style=\"padding-left: 1em; padding-right: 1em; text-align: center; vertical-align: top\">307A344967764170452B6A756<br>26E433538424D6743513D3D ...</td>\n",
       "        <td style=\"padding-left: 1em; padding-right: 1em; text-align: center; vertical-align: top\">6B6C6F483737453548515A504<br>8595A54656F535177773D3D ...</td>\n",
       "        <td style=\"padding-left: 1em; padding-right: 1em; text-align: center; vertical-align: top\">O</td>\n",
       "        <td style=\"padding-left: 1em; padding-right: 1em; text-align: center; vertical-align: top\">CR</td>\n",
       "        <td style=\"padding-left: 1em; padding-right: 1em; text-align: center; vertical-align: top\">CTI PCS S.A.</td>\n",
       "    </tr>\n",
       "    <tr>\n",
       "        <td style=\"padding-left: 1em; padding-right: 1em; text-align: center; vertical-align: top\">7A4F636562387674592B526B6<br>84E32396972524D78773D3D ...</td>\n",
       "        <td style=\"padding-left: 1em; padding-right: 1em; text-align: center; vertical-align: top\">576B34494170732B327778787<br>A447A47766C764378413D3D ...</td>\n",
       "        <td style=\"padding-left: 1em; padding-right: 1em; text-align: center; vertical-align: top\">O</td>\n",
       "        <td style=\"padding-left: 1em; padding-right: 1em; text-align: center; vertical-align: top\">CO</td>\n",
       "        <td style=\"padding-left: 1em; padding-right: 1em; text-align: center; vertical-align: top\">COMPA?IA DE<br>RADIOCOMUNICACIONES ...</td>\n",
       "    </tr>\n",
       "    <tr>\n",
       "        <td style=\"padding-left: 1em; padding-right: 1em; text-align: center; vertical-align: top\">4F43594A33334473504E39554<br>D526641564B65634B513D3D ...</td>\n",
       "        <td style=\"padding-left: 1em; padding-right: 1em; text-align: center; vertical-align: top\">6B4633425842726E494978673<br>07A4F74547353322F513D3D ...</td>\n",
       "        <td style=\"padding-left: 1em; padding-right: 1em; text-align: center; vertical-align: top\">O</td>\n",
       "        <td style=\"padding-left: 1em; padding-right: 1em; text-align: center; vertical-align: top\">CR</td>\n",
       "        <td style=\"padding-left: 1em; padding-right: 1em; text-align: center; vertical-align: top\">NEXTEL COMMUNICATIONS<br>ARGENTINA S.A. ...</td>\n",
       "    </tr>\n",
       "    <tr>\n",
       "        <td style=\"padding-left: 1em; padding-right: 1em; text-align: center; vertical-align: top\">4A6C66694B6D525A6D6C70565<br>46F5A553766346972773D3D ...</td>\n",
       "        <td style=\"padding-left: 1em; padding-right: 1em; text-align: center; vertical-align: top\">454B4C562B4245444C614D4B4<br>C6B6D554E4639706B773D3D ...</td>\n",
       "        <td style=\"padding-left: 1em; padding-right: 1em; text-align: center; vertical-align: top\">O</td>\n",
       "        <td style=\"padding-left: 1em; padding-right: 1em; text-align: center; vertical-align: top\">CR</td>\n",
       "        <td style=\"padding-left: 1em; padding-right: 1em; text-align: center; vertical-align: top\">GTE PCS S.A.</td>\n",
       "    </tr>\n",
       "    <tr>\n",
       "        <td style=\"padding-left: 1em; padding-right: 1em; text-align: center; vertical-align: top\">50356C3576502F34482B42393<br>37550524A634E4C4C413D3D ...</td>\n",
       "        <td style=\"padding-left: 1em; padding-right: 1em; text-align: center; vertical-align: top\">71692F55737A4468737265684<br>13949344865727252413D3D ...</td>\n",
       "        <td style=\"padding-left: 1em; padding-right: 1em; text-align: center; vertical-align: top\">O</td>\n",
       "        <td style=\"padding-left: 1em; padding-right: 1em; text-align: center; vertical-align: top\">CR</td>\n",
       "        <td style=\"padding-left: 1em; padding-right: 1em; text-align: center; vertical-align: top\">COMPA?IA DE<br>RADIOCOMUNICACIONES ...</td>\n",
       "    </tr>\n",
       "    <tr>\n",
       "        <td style=\"padding-left: 1em; padding-right: 1em; text-align: center; vertical-align: top\">50356C3576502F34482B42393<br>37550524A634E4C4C413D3D ...</td>\n",
       "        <td style=\"padding-left: 1em; padding-right: 1em; text-align: center; vertical-align: top\">71692F55737A4468737265684<br>13949344865727252413D3D ...</td>\n",
       "        <td style=\"padding-left: 1em; padding-right: 1em; text-align: center; vertical-align: top\">O</td>\n",
       "        <td style=\"padding-left: 1em; padding-right: 1em; text-align: center; vertical-align: top\">CR</td>\n",
       "        <td style=\"padding-left: 1em; padding-right: 1em; text-align: center; vertical-align: top\">COMPA?IA DE<br>RADIOCOMUNICACIONES ...</td>\n",
       "    </tr>\n",
       "    <tr>\n",
       "        <td style=\"padding-left: 1em; padding-right: 1em; text-align: center; vertical-align: top\">7A3562492F7A68317A7244597<br>147774752532F6B6F673D3D ...</td>\n",
       "        <td style=\"padding-left: 1em; padding-right: 1em; text-align: center; vertical-align: top\">446A7477456E725A583379374<br>84E64546C675A7641413D3D ...</td>\n",
       "        <td style=\"padding-left: 1em; padding-right: 1em; text-align: center; vertical-align: top\">O</td>\n",
       "        <td style=\"padding-left: 1em; padding-right: 1em; text-align: center; vertical-align: top\">CO</td>\n",
       "        <td style=\"padding-left: 1em; padding-right: 1em; text-align: center; vertical-align: top\">CTI PCS S.A.</td>\n",
       "    </tr>\n",
       "    <tr>\n",
       "        <td style=\"padding-left: 1em; padding-right: 1em; text-align: center; vertical-align: top\">4D4F6E43546656686D3353506<br>24A5469334574564B673D3D ...</td>\n",
       "        <td style=\"padding-left: 1em; padding-right: 1em; text-align: center; vertical-align: top\">72325A4B3468663745346C753<br>15831666930433261673D3D ...</td>\n",
       "        <td style=\"padding-left: 1em; padding-right: 1em; text-align: center; vertical-align: top\">O</td>\n",
       "        <td style=\"padding-left: 1em; padding-right: 1em; text-align: center; vertical-align: top\">CO</td>\n",
       "        <td style=\"padding-left: 1em; padding-right: 1em; text-align: center; vertical-align: top\">CTI PCS S.A.</td>\n",
       "    </tr>\n",
       "    <tr>\n",
       "        <td style=\"padding-left: 1em; padding-right: 1em; text-align: center; vertical-align: top\">523853547762703631654B425<br>344644C514F37574E673D3D ...</td>\n",
       "        <td style=\"padding-left: 1em; padding-right: 1em; text-align: center; vertical-align: top\">512F7867357A52394B7539513<br>277755639366B4149413D3D ...</td>\n",
       "        <td style=\"padding-left: 1em; padding-right: 1em; text-align: center; vertical-align: top\">O</td>\n",
       "        <td style=\"padding-left: 1em; padding-right: 1em; text-align: center; vertical-align: top\">CO</td>\n",
       "        <td style=\"padding-left: 1em; padding-right: 1em; text-align: center; vertical-align: top\">CTI PCS S.A.</td>\n",
       "    </tr>\n",
       "</table>\n",
       "<table frame=\"box\" rules=\"cols\">\n",
       "    <tr>\n",
       "        <th style=\"padding-left: 1em; padding-right: 1em; text-align: center\">DATE</th>\n",
       "        <th style=\"padding-left: 1em; padding-right: 1em; text-align: center\">TIME</th>\n",
       "        <th style=\"padding-left: 1em; padding-right: 1em; text-align: center\">DURATION</th>\n",
       "        <th style=\"padding-left: 1em; padding-right: 1em; text-align: center\">CLIENT_CELL_ID</th>\n",
       "        <th style=\"padding-left: 1em; padding-right: 1em; text-align: center\">REDIRECT_VOICEMAIL</th>\n",
       "        <th style=\"padding-left: 1em; padding-right: 1em; text-align: center\">AIR_CHARGE</th>\n",
       "        <th style=\"padding-left: 1em; padding-right: 1em; text-align: center\">LAND_CHARGE</th>\n",
       "        <th style=\"padding-left: 1em; padding-right: 1em; text-align: center\">MONEDERO</th>\n",
       "        <th style=\"padding-left: 1em; padding-right: 1em; text-align: center\">RATE_ID_AIR</th>\n",
       "    </tr>\n",
       "    <tr>\n",
       "        <td style=\"padding-left: 1em; padding-right: 1em; text-align: center; vertical-align: top\">20120311</td>\n",
       "        <td style=\"padding-left: 1em; padding-right: 1em; text-align: center; vertical-align: top\">125215</td>\n",
       "        <td style=\"padding-left: 1em; padding-right: 1em; text-align: center; vertical-align: top\">195</td>\n",
       "        <td style=\"padding-left: 1em; padding-right: 1em; text-align: center; vertical-align: top\">RN203B</td>\n",
       "        <td style=\"padding-left: 1em; padding-right: 1em; text-align: center; vertical-align: top\">N</td>\n",
       "        <td style=\"padding-left: 1em; padding-right: 1em; text-align: center; vertical-align: top\">0.0</td>\n",
       "        <td style=\"padding-left: 1em; padding-right: 1em; text-align: center; vertical-align: top\">0</td>\n",
       "        <td style=\"padding-left: 1em; padding-right: 1em; text-align: center; vertical-align: top\">GRANEL</td>\n",
       "        <td style=\"padding-left: 1em; padding-right: 1em; text-align: center; vertical-align: top\">ALOCAL</td>\n",
       "    </tr>\n",
       "    <tr>\n",
       "        <td style=\"padding-left: 1em; padding-right: 1em; text-align: center; vertical-align: top\">20120311</td>\n",
       "        <td style=\"padding-left: 1em; padding-right: 1em; text-align: center; vertical-align: top\">223605</td>\n",
       "        <td style=\"padding-left: 1em; padding-right: 1em; text-align: center; vertical-align: top\">170</td>\n",
       "        <td style=\"padding-left: 1em; padding-right: 1em; text-align: center; vertical-align: top\">071</td>\n",
       "        <td style=\"padding-left: 1em; padding-right: 1em; text-align: center; vertical-align: top\">N</td>\n",
       "        <td style=\"padding-left: 1em; padding-right: 1em; text-align: center; vertical-align: top\">173959.0</td>\n",
       "        <td style=\"padding-left: 1em; padding-right: 1em; text-align: center; vertical-align: top\">34969</td>\n",
       "        <td style=\"padding-left: 1em; padding-right: 1em; text-align: center; vertical-align: top\">BONUS</td>\n",
       "        <td style=\"padding-left: 1em; padding-right: 1em; text-align: center; vertical-align: top\"></td>\n",
       "    </tr>\n",
       "    <tr>\n",
       "        <td style=\"padding-left: 1em; padding-right: 1em; text-align: center; vertical-align: top\">20120311</td>\n",
       "        <td style=\"padding-left: 1em; padding-right: 1em; text-align: center; vertical-align: top\">120615</td>\n",
       "        <td style=\"padding-left: 1em; padding-right: 1em; text-align: center; vertical-align: top\">133</td>\n",
       "        <td style=\"padding-left: 1em; padding-right: 1em; text-align: center; vertical-align: top\">C1089J</td>\n",
       "        <td style=\"padding-left: 1em; padding-right: 1em; text-align: center; vertical-align: top\">N</td>\n",
       "        <td style=\"padding-left: 1em; padding-right: 1em; text-align: center; vertical-align: top\">0.99</td>\n",
       "        <td style=\"padding-left: 1em; padding-right: 1em; text-align: center; vertical-align: top\">0</td>\n",
       "        <td style=\"padding-left: 1em; padding-right: 1em; text-align: center; vertical-align: top\">GRANEL</td>\n",
       "        <td style=\"padding-left: 1em; padding-right: 1em; text-align: center; vertical-align: top\">ALOCAL</td>\n",
       "    </tr>\n",
       "    <tr>\n",
       "        <td style=\"padding-left: 1em; padding-right: 1em; text-align: center; vertical-align: top\">20120311</td>\n",
       "        <td style=\"padding-left: 1em; padding-right: 1em; text-align: center; vertical-align: top\">190253</td>\n",
       "        <td style=\"padding-left: 1em; padding-right: 1em; text-align: center; vertical-align: top\">7</td>\n",
       "        <td style=\"padding-left: 1em; padding-right: 1em; text-align: center; vertical-align: top\">CTI 1</td>\n",
       "        <td style=\"padding-left: 1em; padding-right: 1em; text-align: center; vertical-align: top\">N</td>\n",
       "        <td style=\"padding-left: 1em; padding-right: 1em; text-align: center; vertical-align: top\">88988.0</td>\n",
       "        <td style=\"padding-left: 1em; padding-right: 1em; text-align: center; vertical-align: top\">17888</td>\n",
       "        <td style=\"padding-left: 1em; padding-right: 1em; text-align: center; vertical-align: top\">PERIODIC</td>\n",
       "        <td style=\"padding-left: 1em; padding-right: 1em; text-align: center; vertical-align: top\"></td>\n",
       "    </tr>\n",
       "    <tr>\n",
       "        <td style=\"padding-left: 1em; padding-right: 1em; text-align: center; vertical-align: top\">20120311</td>\n",
       "        <td style=\"padding-left: 1em; padding-right: 1em; text-align: center; vertical-align: top\">133834</td>\n",
       "        <td style=\"padding-left: 1em; padding-right: 1em; text-align: center; vertical-align: top\">92</td>\n",
       "        <td style=\"padding-left: 1em; padding-right: 1em; text-align: center; vertical-align: top\">CTI 1</td>\n",
       "        <td style=\"padding-left: 1em; padding-right: 1em; text-align: center; vertical-align: top\">N</td>\n",
       "        <td style=\"padding-left: 1em; padding-right: 1em; text-align: center; vertical-align: top\">0.0</td>\n",
       "        <td style=\"padding-left: 1em; padding-right: 1em; text-align: center; vertical-align: top\">0</td>\n",
       "        <td style=\"padding-left: 1em; padding-right: 1em; text-align: center; vertical-align: top\">ACREDITACION</td>\n",
       "        <td style=\"padding-left: 1em; padding-right: 1em; text-align: center; vertical-align: top\"></td>\n",
       "    </tr>\n",
       "    <tr>\n",
       "        <td style=\"padding-left: 1em; padding-right: 1em; text-align: center; vertical-align: top\">20120311</td>\n",
       "        <td style=\"padding-left: 1em; padding-right: 1em; text-align: center; vertical-align: top\">192934</td>\n",
       "        <td style=\"padding-left: 1em; padding-right: 1em; text-align: center; vertical-align: top\">108</td>\n",
       "        <td style=\"padding-left: 1em; padding-right: 1em; text-align: center; vertical-align: top\">CTI 46</td>\n",
       "        <td style=\"padding-left: 1em; padding-right: 1em; text-align: center; vertical-align: top\">N</td>\n",
       "        <td style=\"padding-left: 1em; padding-right: 1em; text-align: center; vertical-align: top\">169967.0</td>\n",
       "        <td style=\"padding-left: 1em; padding-right: 1em; text-align: center; vertical-align: top\">34167</td>\n",
       "        <td style=\"padding-left: 1em; padding-right: 1em; text-align: center; vertical-align: top\">PERIODIC</td>\n",
       "        <td style=\"padding-left: 1em; padding-right: 1em; text-align: center; vertical-align: top\"></td>\n",
       "    </tr>\n",
       "    <tr>\n",
       "        <td style=\"padding-left: 1em; padding-right: 1em; text-align: center; vertical-align: top\">20120311</td>\n",
       "        <td style=\"padding-left: 1em; padding-right: 1em; text-align: center; vertical-align: top\">112928</td>\n",
       "        <td style=\"padding-left: 1em; padding-right: 1em; text-align: center; vertical-align: top\">112</td>\n",
       "        <td style=\"padding-left: 1em; padding-right: 1em; text-align: center; vertical-align: top\">CTI 46</td>\n",
       "        <td style=\"padding-left: 1em; padding-right: 1em; text-align: center; vertical-align: top\">N</td>\n",
       "        <td style=\"padding-left: 1em; padding-right: 1em; text-align: center; vertical-align: top\">169967.0</td>\n",
       "        <td style=\"padding-left: 1em; padding-right: 1em; text-align: center; vertical-align: top\">34167</td>\n",
       "        <td style=\"padding-left: 1em; padding-right: 1em; text-align: center; vertical-align: top\">PERIODIC</td>\n",
       "        <td style=\"padding-left: 1em; padding-right: 1em; text-align: center; vertical-align: top\"></td>\n",
       "    </tr>\n",
       "    <tr>\n",
       "        <td style=\"padding-left: 1em; padding-right: 1em; text-align: center; vertical-align: top\">20120311</td>\n",
       "        <td style=\"padding-left: 1em; padding-right: 1em; text-align: center; vertical-align: top\">212339</td>\n",
       "        <td style=\"padding-left: 1em; padding-right: 1em; text-align: center; vertical-align: top\">4</td>\n",
       "        <td style=\"padding-left: 1em; padding-right: 1em; text-align: center; vertical-align: top\">SE201H</td>\n",
       "        <td style=\"padding-left: 1em; padding-right: 1em; text-align: center; vertical-align: top\">N</td>\n",
       "        <td style=\"padding-left: 1em; padding-right: 1em; text-align: center; vertical-align: top\">0.0</td>\n",
       "        <td style=\"padding-left: 1em; padding-right: 1em; text-align: center; vertical-align: top\">0</td>\n",
       "        <td style=\"padding-left: 1em; padding-right: 1em; text-align: center; vertical-align: top\">GRANEL</td>\n",
       "        <td style=\"padding-left: 1em; padding-right: 1em; text-align: center; vertical-align: top\">ALOCAL</td>\n",
       "    </tr>\n",
       "    <tr>\n",
       "        <td style=\"padding-left: 1em; padding-right: 1em; text-align: center; vertical-align: top\">20120311</td>\n",
       "        <td style=\"padding-left: 1em; padding-right: 1em; text-align: center; vertical-align: top\">201444</td>\n",
       "        <td style=\"padding-left: 1em; padding-right: 1em; text-align: center; vertical-align: top\">104</td>\n",
       "        <td style=\"padding-left: 1em; padding-right: 1em; text-align: center; vertical-align: top\">C2036G</td>\n",
       "        <td style=\"padding-left: 1em; padding-right: 1em; text-align: center; vertical-align: top\">N</td>\n",
       "        <td style=\"padding-left: 1em; padding-right: 1em; text-align: center; vertical-align: top\">0.0</td>\n",
       "        <td style=\"padding-left: 1em; padding-right: 1em; text-align: center; vertical-align: top\">0</td>\n",
       "        <td style=\"padding-left: 1em; padding-right: 1em; text-align: center; vertical-align: top\">GRANEL</td>\n",
       "        <td style=\"padding-left: 1em; padding-right: 1em; text-align: center; vertical-align: top\">ALOCAL</td>\n",
       "    </tr>\n",
       "    <tr>\n",
       "        <td style=\"padding-left: 1em; padding-right: 1em; text-align: center; vertical-align: top\">20120311</td>\n",
       "        <td style=\"padding-left: 1em; padding-right: 1em; text-align: center; vertical-align: top\">200823</td>\n",
       "        <td style=\"padding-left: 1em; padding-right: 1em; text-align: center; vertical-align: top\">63</td>\n",
       "        <td style=\"padding-left: 1em; padding-right: 1em; text-align: center; vertical-align: top\">C1441C</td>\n",
       "        <td style=\"padding-left: 1em; padding-right: 1em; text-align: center; vertical-align: top\">N</td>\n",
       "        <td style=\"padding-left: 1em; padding-right: 1em; text-align: center; vertical-align: top\">0.5</td>\n",
       "        <td style=\"padding-left: 1em; padding-right: 1em; text-align: center; vertical-align: top\">0</td>\n",
       "        <td style=\"padding-left: 1em; padding-right: 1em; text-align: center; vertical-align: top\">PACK</td>\n",
       "        <td style=\"padding-left: 1em; padding-right: 1em; text-align: center; vertical-align: top\">ALOCAL</td>\n",
       "    </tr>\n",
       "</table>\n",
       "<table frame=\"box\" rules=\"cols\">\n",
       "    <tr>\n",
       "        <th style=\"padding-left: 1em; padding-right: 1em; text-align: center\">RATE_ID_LAND</th>\n",
       "        <th style=\"padding-left: 1em; padding-right: 1em; text-align: center\">DISCOUNT_AMOUNT_FF</th>\n",
       "    </tr>\n",
       "    <tr>\n",
       "        <td style=\"padding-left: 1em; padding-right: 1em; text-align: center; vertical-align: top\">CLV09</td>\n",
       "        <td style=\"padding-left: 1em; padding-right: 1em; text-align: center; vertical-align: top\">0</td>\n",
       "    </tr>\n",
       "    <tr>\n",
       "        <td style=\"padding-left: 1em; padding-right: 1em; text-align: center; vertical-align: top\"></td>\n",
       "        <td style=\"padding-left: 1em; padding-right: 1em; text-align: center; vertical-align: top\">0</td>\n",
       "    </tr>\n",
       "    <tr>\n",
       "        <td style=\"padding-left: 1em; padding-right: 1em; text-align: center; vertical-align: top\">TFIJO</td>\n",
       "        <td style=\"padding-left: 1em; padding-right: 1em; text-align: center; vertical-align: top\">0</td>\n",
       "    </tr>\n",
       "    <tr>\n",
       "        <td style=\"padding-left: 1em; padding-right: 1em; text-align: center; vertical-align: top\"></td>\n",
       "        <td style=\"padding-left: 1em; padding-right: 1em; text-align: center; vertical-align: top\">0</td>\n",
       "    </tr>\n",
       "    <tr>\n",
       "        <td style=\"padding-left: 1em; padding-right: 1em; text-align: center; vertical-align: top\"></td>\n",
       "        <td style=\"padding-left: 1em; padding-right: 1em; text-align: center; vertical-align: top\">100</td>\n",
       "    </tr>\n",
       "    <tr>\n",
       "        <td style=\"padding-left: 1em; padding-right: 1em; text-align: center; vertical-align: top\"></td>\n",
       "        <td style=\"padding-left: 1em; padding-right: 1em; text-align: center; vertical-align: top\">0</td>\n",
       "    </tr>\n",
       "    <tr>\n",
       "        <td style=\"padding-left: 1em; padding-right: 1em; text-align: center; vertical-align: top\"></td>\n",
       "        <td style=\"padding-left: 1em; padding-right: 1em; text-align: center; vertical-align: top\">0</td>\n",
       "    </tr>\n",
       "    <tr>\n",
       "        <td style=\"padding-left: 1em; padding-right: 1em; text-align: center; vertical-align: top\">CLV10</td>\n",
       "        <td style=\"padding-left: 1em; padding-right: 1em; text-align: center; vertical-align: top\">0</td>\n",
       "    </tr>\n",
       "    <tr>\n",
       "        <td style=\"padding-left: 1em; padding-right: 1em; text-align: center; vertical-align: top\">TFIJO</td>\n",
       "        <td style=\"padding-left: 1em; padding-right: 1em; text-align: center; vertical-align: top\">0</td>\n",
       "    </tr>\n",
       "    <tr>\n",
       "        <td style=\"padding-left: 1em; padding-right: 1em; text-align: center; vertical-align: top\">TFIJO</td>\n",
       "        <td style=\"padding-left: 1em; padding-right: 1em; text-align: center; vertical-align: top\">0</td>\n",
       "    </tr>\n",
       "</table>\n",
       "[10 rows x 16 columns]<br/>\n",
       "</div>"
      ],
      "text/plain": [
       "Columns:\n",
       "\tUSER\tstr\n",
       "\tTARGET_NUMBER_ENC_B64\tstr\n",
       "\tDIRECTION\tstr\n",
       "\tCLIENT_BUSSINES_ID\tstr\n",
       "\tOTHER_OPERATOR\tstr\n",
       "\tDATE\tint\n",
       "\tTIME\tint\n",
       "\tDURATION\tint\n",
       "\tCLIENT_CELL_ID\tstr\n",
       "\tREDIRECT_VOICEMAIL\tstr\n",
       "\tAIR_CHARGE\tfloat\n",
       "\tLAND_CHARGE\tint\n",
       "\tMONEDERO\tstr\n",
       "\tRATE_ID_AIR\tstr\n",
       "\tRATE_ID_LAND\tstr\n",
       "\tDISCOUNT_AMOUNT_FF\tint\n",
       "\n",
       "Rows: 10\n",
       "\n",
       "Data:\n",
       "+-------------------------------+-------------------------------+-----------+--------------------+\n",
       "|              USER             |     TARGET_NUMBER_ENC_B64     | DIRECTION | CLIENT_BUSSINES_ID |\n",
       "+-------------------------------+-------------------------------+-----------+--------------------+\n",
       "| 4753724553746A6E56686D5849... | 4C4434427355663273354B4D78... |     O     |         CO         |\n",
       "| 307A344967764170452B6A7562... | 6B6C6F483737453548515A5048... |     O     |         CR         |\n",
       "| 7A4F636562387674592B526B68... | 576B34494170732B327778787A... |     O     |         CO         |\n",
       "| 4F43594A33334473504E39554D... | 6B4633425842726E4949786730... |     O     |         CR         |\n",
       "| 4A6C66694B6D525A6D6C705654... | 454B4C562B4245444C614D4B4C... |     O     |         CR         |\n",
       "| 50356C3576502F34482B423933... | 71692F55737A44687372656841... |     O     |         CR         |\n",
       "| 50356C3576502F34482B423933... | 71692F55737A44687372656841... |     O     |         CR         |\n",
       "| 7A3562492F7A68317A72445971... | 446A7477456E725A5833793748... |     O     |         CO         |\n",
       "| 4D4F6E43546656686D33535062... | 72325A4B3468663745346C7531... |     O     |         CO         |\n",
       "| 523853547762703631654B4253... | 512F7867357A52394B75395132... |     O     |         CO         |\n",
       "+-------------------------------+-------------------------------+-----------+--------------------+\n",
       "+-------------------------------+----------+--------+----------+----------------+\n",
       "|         OTHER_OPERATOR        |   DATE   |  TIME  | DURATION | CLIENT_CELL_ID |\n",
       "+-------------------------------+----------+--------+----------+----------------+\n",
       "|          CTI PCS S.A.         | 20120311 | 125215 |   195    |     RN203B     |\n",
       "|          CTI PCS S.A.         | 20120311 | 223605 |   170    |      071       |\n",
       "| COMPA?IA DE RADIOCOMUNICAC... | 20120311 | 120615 |   133    |     C1089J     |\n",
       "| NEXTEL COMMUNICATIONS ARGE... | 20120311 | 190253 |    7     |     CTI 1      |\n",
       "|          GTE PCS S.A.         | 20120311 | 133834 |    92    |     CTI 1      |\n",
       "| COMPA?IA DE RADIOCOMUNICAC... | 20120311 | 192934 |   108    |     CTI 46     |\n",
       "| COMPA?IA DE RADIOCOMUNICAC... | 20120311 | 112928 |   112    |     CTI 46     |\n",
       "|          CTI PCS S.A.         | 20120311 | 212339 |    4     |     SE201H     |\n",
       "|          CTI PCS S.A.         | 20120311 | 201444 |   104    |     C2036G     |\n",
       "|          CTI PCS S.A.         | 20120311 | 200823 |    63    |     C1441C     |\n",
       "+-------------------------------+----------+--------+----------+----------------+\n",
       "+--------------------+------------+-------------+--------------+-------------+\n",
       "| REDIRECT_VOICEMAIL | AIR_CHARGE | LAND_CHARGE |   MONEDERO   | RATE_ID_AIR |\n",
       "+--------------------+------------+-------------+--------------+-------------+\n",
       "|         N          |    0.0     |      0      |    GRANEL    |    ALOCAL   |\n",
       "|         N          |  173959.0  |    34969    |    BONUS     |             |\n",
       "|         N          |    0.99    |      0      |    GRANEL    |    ALOCAL   |\n",
       "|         N          |  88988.0   |    17888    |   PERIODIC   |             |\n",
       "|         N          |    0.0     |      0      | ACREDITACION |             |\n",
       "|         N          |  169967.0  |    34167    |   PERIODIC   |             |\n",
       "|         N          |  169967.0  |    34167    |   PERIODIC   |             |\n",
       "|         N          |    0.0     |      0      |    GRANEL    |    ALOCAL   |\n",
       "|         N          |    0.0     |      0      |    GRANEL    |    ALOCAL   |\n",
       "|         N          |    0.5     |      0      |     PACK     |    ALOCAL   |\n",
       "+--------------------+------------+-------------+--------------+-------------+\n",
       "+--------------+--------------------+\n",
       "| RATE_ID_LAND | DISCOUNT_AMOUNT_FF |\n",
       "+--------------+--------------------+\n",
       "|    CLV09     |         0          |\n",
       "|              |         0          |\n",
       "|    TFIJO     |         0          |\n",
       "|              |         0          |\n",
       "|              |        100         |\n",
       "|              |         0          |\n",
       "|              |         0          |\n",
       "|    CLV10     |         0          |\n",
       "|    TFIJO     |         0          |\n",
       "|    TFIJO     |         0          |\n",
       "+--------------+--------------------+\n",
       "[10 rows x 16 columns]"
      ]
     },
     "execution_count": 6,
     "metadata": {},
     "output_type": "execute_result"
    }
   ],
   "source": [
    "test.head()"
   ]
  },
  {
   "cell_type": "code",
   "execution_count": 7,
   "metadata": {
    "collapsed": false
   },
   "outputs": [
    {
     "name": "stdout",
     "output_type": "stream",
     "text": [
      "CPU times: user 0 ns, sys: 0 ns, total: 0 ns\n",
      "Wall time: 17.9 µs\n",
      "Col DIRECTION has 2 unique values\n",
      "Col CLIENT_BUSSINES_ID has 4 unique values\n",
      "Col OTHER_OPERATOR has 385 unique values\n",
      "Col CLIENT_CELL_ID has 25685 unique values\n",
      "Col RATE_ID_LAND has 15 unique values\n"
     ]
    }
   ],
   "source": [
    "%time\n",
    "uniques = dict()\n",
    "for col in ['DIRECTION','CLIENT_BUSSINES_ID','OTHER_OPERATOR','CLIENT_CELL_ID','RATE_ID_LAND']:\n",
    "    vals = test[col].unique().to_numpy()\n",
    "    length = len(vals)\n",
    "    uniques[col] = {'length':length,'values':vals}\n",
    "    print('Col {c} has {n} unique values'.format(c = col, n = length))"
   ]
  },
  {
   "cell_type": "code",
   "execution_count": 164,
   "metadata": {
    "collapsed": false,
    "scrolled": true
   },
   "outputs": [
    {
     "data": {
      "text/html": [
       "<div style=\"max-height:1000px;max-width:1500px;overflow:auto;\"><table frame=\"box\" rules=\"cols\">\n",
       "    <tr>\n",
       "        <th style=\"padding-left: 1em; padding-right: 1em; text-align: center\">USER</th>\n",
       "        <th style=\"padding-left: 1em; padding-right: 1em; text-align: center\">TARGET_NUMBER_ENC_B64</th>\n",
       "        <th style=\"padding-left: 1em; padding-right: 1em; text-align: center\">DIRECTION</th>\n",
       "        <th style=\"padding-left: 1em; padding-right: 1em; text-align: center\">CLIENT_BUSSINES_ID</th>\n",
       "        <th style=\"padding-left: 1em; padding-right: 1em; text-align: center\">OTHER_OPERATOR</th>\n",
       "    </tr>\n",
       "    <tr>\n",
       "        <td style=\"padding-left: 1em; padding-right: 1em; text-align: center; vertical-align: top\">4753724553746A6E56686D584<br>9536577436B375550513D3D ...</td>\n",
       "        <td style=\"padding-left: 1em; padding-right: 1em; text-align: center; vertical-align: top\">4C4434427355663273354B4D7<br>8492B4168754D5457673D3D ...</td>\n",
       "        <td style=\"padding-left: 1em; padding-right: 1em; text-align: center; vertical-align: top\">O</td>\n",
       "        <td style=\"padding-left: 1em; padding-right: 1em; text-align: center; vertical-align: top\">CO</td>\n",
       "        <td style=\"padding-left: 1em; padding-right: 1em; text-align: center; vertical-align: top\">CTI PCS S.A.</td>\n",
       "    </tr>\n",
       "    <tr>\n",
       "        <td style=\"padding-left: 1em; padding-right: 1em; text-align: center; vertical-align: top\">307A344967764170452B6A756<br>26E433538424D6743513D3D ...</td>\n",
       "        <td style=\"padding-left: 1em; padding-right: 1em; text-align: center; vertical-align: top\">6B6C6F483737453548515A504<br>8595A54656F535177773D3D ...</td>\n",
       "        <td style=\"padding-left: 1em; padding-right: 1em; text-align: center; vertical-align: top\">O</td>\n",
       "        <td style=\"padding-left: 1em; padding-right: 1em; text-align: center; vertical-align: top\">CR</td>\n",
       "        <td style=\"padding-left: 1em; padding-right: 1em; text-align: center; vertical-align: top\">CTI PCS S.A.</td>\n",
       "    </tr>\n",
       "    <tr>\n",
       "        <td style=\"padding-left: 1em; padding-right: 1em; text-align: center; vertical-align: top\">7A4F636562387674592B526B6<br>84E32396972524D78773D3D ...</td>\n",
       "        <td style=\"padding-left: 1em; padding-right: 1em; text-align: center; vertical-align: top\">576B34494170732B327778787<br>A447A47766C764378413D3D ...</td>\n",
       "        <td style=\"padding-left: 1em; padding-right: 1em; text-align: center; vertical-align: top\">O</td>\n",
       "        <td style=\"padding-left: 1em; padding-right: 1em; text-align: center; vertical-align: top\">CO</td>\n",
       "        <td style=\"padding-left: 1em; padding-right: 1em; text-align: center; vertical-align: top\">COMPA?IA DE<br>RADIOCOMUNICACIONES ...</td>\n",
       "    </tr>\n",
       "    <tr>\n",
       "        <td style=\"padding-left: 1em; padding-right: 1em; text-align: center; vertical-align: top\">7A3562492F7A68317A7244597<br>147774752532F6B6F673D3D ...</td>\n",
       "        <td style=\"padding-left: 1em; padding-right: 1em; text-align: center; vertical-align: top\">446A7477456E725A583379374<br>84E64546C675A7641413D3D ...</td>\n",
       "        <td style=\"padding-left: 1em; padding-right: 1em; text-align: center; vertical-align: top\">O</td>\n",
       "        <td style=\"padding-left: 1em; padding-right: 1em; text-align: center; vertical-align: top\">CO</td>\n",
       "        <td style=\"padding-left: 1em; padding-right: 1em; text-align: center; vertical-align: top\">CTI PCS S.A.</td>\n",
       "    </tr>\n",
       "    <tr>\n",
       "        <td style=\"padding-left: 1em; padding-right: 1em; text-align: center; vertical-align: top\">4D4F6E43546656686D3353506<br>24A5469334574564B673D3D ...</td>\n",
       "        <td style=\"padding-left: 1em; padding-right: 1em; text-align: center; vertical-align: top\">72325A4B3468663745346C753<br>15831666930433261673D3D ...</td>\n",
       "        <td style=\"padding-left: 1em; padding-right: 1em; text-align: center; vertical-align: top\">O</td>\n",
       "        <td style=\"padding-left: 1em; padding-right: 1em; text-align: center; vertical-align: top\">CO</td>\n",
       "        <td style=\"padding-left: 1em; padding-right: 1em; text-align: center; vertical-align: top\">CTI PCS S.A.</td>\n",
       "    </tr>\n",
       "    <tr>\n",
       "        <td style=\"padding-left: 1em; padding-right: 1em; text-align: center; vertical-align: top\">523853547762703631654B425<br>344644C514F37574E673D3D ...</td>\n",
       "        <td style=\"padding-left: 1em; padding-right: 1em; text-align: center; vertical-align: top\">512F7867357A52394B7539513<br>277755639366B4149413D3D ...</td>\n",
       "        <td style=\"padding-left: 1em; padding-right: 1em; text-align: center; vertical-align: top\">O</td>\n",
       "        <td style=\"padding-left: 1em; padding-right: 1em; text-align: center; vertical-align: top\">CO</td>\n",
       "        <td style=\"padding-left: 1em; padding-right: 1em; text-align: center; vertical-align: top\">CTI PCS S.A.</td>\n",
       "    </tr>\n",
       "    <tr>\n",
       "        <td style=\"padding-left: 1em; padding-right: 1em; text-align: center; vertical-align: top\">52754A4B746D77556F512F475<br>84E376143384A4857673D3D ...</td>\n",
       "        <td style=\"padding-left: 1em; padding-right: 1em; text-align: center; vertical-align: top\">3641794746396D71564B6A536<br>938483534672F3647673D3D ...</td>\n",
       "        <td style=\"padding-left: 1em; padding-right: 1em; text-align: center; vertical-align: top\">O</td>\n",
       "        <td style=\"padding-left: 1em; padding-right: 1em; text-align: center; vertical-align: top\">CO</td>\n",
       "        <td style=\"padding-left: 1em; padding-right: 1em; text-align: center; vertical-align: top\">CTI PCS S.A.</td>\n",
       "    </tr>\n",
       "    <tr>\n",
       "        <td style=\"padding-left: 1em; padding-right: 1em; text-align: center; vertical-align: top\">6B626C46334832616E4643556<br>259766B3736707776673D3D ...</td>\n",
       "        <td style=\"padding-left: 1em; padding-right: 1em; text-align: center; vertical-align: top\">4D6E6E644D364473724932427<br>9515242766B6A3530673D3D ...</td>\n",
       "        <td style=\"padding-left: 1em; padding-right: 1em; text-align: center; vertical-align: top\">O</td>\n",
       "        <td style=\"padding-left: 1em; padding-right: 1em; text-align: center; vertical-align: top\">CO</td>\n",
       "        <td style=\"padding-left: 1em; padding-right: 1em; text-align: center; vertical-align: top\">TELECENTRO S.A.</td>\n",
       "    </tr>\n",
       "    <tr>\n",
       "        <td style=\"padding-left: 1em; padding-right: 1em; text-align: center; vertical-align: top\">577A535278494644494E712B6<br>27436692B687A367A513D3D ...</td>\n",
       "        <td style=\"padding-left: 1em; padding-right: 1em; text-align: center; vertical-align: top\">6C375063313876754E7745626<br>E682F573176733846673D3D ...</td>\n",
       "        <td style=\"padding-left: 1em; padding-right: 1em; text-align: center; vertical-align: top\">O</td>\n",
       "        <td style=\"padding-left: 1em; padding-right: 1em; text-align: center; vertical-align: top\">CR</td>\n",
       "        <td style=\"padding-left: 1em; padding-right: 1em; text-align: center; vertical-align: top\">TELECOM PERSONAL S.A.</td>\n",
       "    </tr>\n",
       "    <tr>\n",
       "        <td style=\"padding-left: 1em; padding-right: 1em; text-align: center; vertical-align: top\">474937784D505452657A59684<br>349776A6A41655156513D3D ...</td>\n",
       "        <td style=\"padding-left: 1em; padding-right: 1em; text-align: center; vertical-align: top\">696A6B527A584E49533538306<br>64E55773255656F70773D3D ...</td>\n",
       "        <td style=\"padding-left: 1em; padding-right: 1em; text-align: center; vertical-align: top\">O</td>\n",
       "        <td style=\"padding-left: 1em; padding-right: 1em; text-align: center; vertical-align: top\">CR</td>\n",
       "        <td style=\"padding-left: 1em; padding-right: 1em; text-align: center; vertical-align: top\">TELECOM PERSONAL S.A.</td>\n",
       "    </tr>\n",
       "</table>\n",
       "<table frame=\"box\" rules=\"cols\">\n",
       "    <tr>\n",
       "        <th style=\"padding-left: 1em; padding-right: 1em; text-align: center\">DATE</th>\n",
       "        <th style=\"padding-left: 1em; padding-right: 1em; text-align: center\">TIME</th>\n",
       "        <th style=\"padding-left: 1em; padding-right: 1em; text-align: center\">DURATION</th>\n",
       "        <th style=\"padding-left: 1em; padding-right: 1em; text-align: center\">CLIENT_CELL_ID</th>\n",
       "        <th style=\"padding-left: 1em; padding-right: 1em; text-align: center\">REDIRECT_VOICEMAIL</th>\n",
       "        <th style=\"padding-left: 1em; padding-right: 1em; text-align: center\">AIR_CHARGE</th>\n",
       "        <th style=\"padding-left: 1em; padding-right: 1em; text-align: center\">LAND_CHARGE</th>\n",
       "        <th style=\"padding-left: 1em; padding-right: 1em; text-align: center\">MONEDERO</th>\n",
       "        <th style=\"padding-left: 1em; padding-right: 1em; text-align: center\">RATE_ID_AIR</th>\n",
       "    </tr>\n",
       "    <tr>\n",
       "        <td style=\"padding-left: 1em; padding-right: 1em; text-align: center; vertical-align: top\">20120311</td>\n",
       "        <td style=\"padding-left: 1em; padding-right: 1em; text-align: center; vertical-align: top\">125215</td>\n",
       "        <td style=\"padding-left: 1em; padding-right: 1em; text-align: center; vertical-align: top\">195</td>\n",
       "        <td style=\"padding-left: 1em; padding-right: 1em; text-align: center; vertical-align: top\">RN203B</td>\n",
       "        <td style=\"padding-left: 1em; padding-right: 1em; text-align: center; vertical-align: top\">N</td>\n",
       "        <td style=\"padding-left: 1em; padding-right: 1em; text-align: center; vertical-align: top\">0.0</td>\n",
       "        <td style=\"padding-left: 1em; padding-right: 1em; text-align: center; vertical-align: top\">0</td>\n",
       "        <td style=\"padding-left: 1em; padding-right: 1em; text-align: center; vertical-align: top\">GRANEL</td>\n",
       "        <td style=\"padding-left: 1em; padding-right: 1em; text-align: center; vertical-align: top\">ALOCAL</td>\n",
       "    </tr>\n",
       "    <tr>\n",
       "        <td style=\"padding-left: 1em; padding-right: 1em; text-align: center; vertical-align: top\">20120311</td>\n",
       "        <td style=\"padding-left: 1em; padding-right: 1em; text-align: center; vertical-align: top\">223605</td>\n",
       "        <td style=\"padding-left: 1em; padding-right: 1em; text-align: center; vertical-align: top\">170</td>\n",
       "        <td style=\"padding-left: 1em; padding-right: 1em; text-align: center; vertical-align: top\">071</td>\n",
       "        <td style=\"padding-left: 1em; padding-right: 1em; text-align: center; vertical-align: top\">N</td>\n",
       "        <td style=\"padding-left: 1em; padding-right: 1em; text-align: center; vertical-align: top\">173959.0</td>\n",
       "        <td style=\"padding-left: 1em; padding-right: 1em; text-align: center; vertical-align: top\">34969</td>\n",
       "        <td style=\"padding-left: 1em; padding-right: 1em; text-align: center; vertical-align: top\">BONUS</td>\n",
       "        <td style=\"padding-left: 1em; padding-right: 1em; text-align: center; vertical-align: top\"></td>\n",
       "    </tr>\n",
       "    <tr>\n",
       "        <td style=\"padding-left: 1em; padding-right: 1em; text-align: center; vertical-align: top\">20120311</td>\n",
       "        <td style=\"padding-left: 1em; padding-right: 1em; text-align: center; vertical-align: top\">120615</td>\n",
       "        <td style=\"padding-left: 1em; padding-right: 1em; text-align: center; vertical-align: top\">133</td>\n",
       "        <td style=\"padding-left: 1em; padding-right: 1em; text-align: center; vertical-align: top\">C1089J</td>\n",
       "        <td style=\"padding-left: 1em; padding-right: 1em; text-align: center; vertical-align: top\">N</td>\n",
       "        <td style=\"padding-left: 1em; padding-right: 1em; text-align: center; vertical-align: top\">0.99</td>\n",
       "        <td style=\"padding-left: 1em; padding-right: 1em; text-align: center; vertical-align: top\">0</td>\n",
       "        <td style=\"padding-left: 1em; padding-right: 1em; text-align: center; vertical-align: top\">GRANEL</td>\n",
       "        <td style=\"padding-left: 1em; padding-right: 1em; text-align: center; vertical-align: top\">ALOCAL</td>\n",
       "    </tr>\n",
       "    <tr>\n",
       "        <td style=\"padding-left: 1em; padding-right: 1em; text-align: center; vertical-align: top\">20120311</td>\n",
       "        <td style=\"padding-left: 1em; padding-right: 1em; text-align: center; vertical-align: top\">212339</td>\n",
       "        <td style=\"padding-left: 1em; padding-right: 1em; text-align: center; vertical-align: top\">4</td>\n",
       "        <td style=\"padding-left: 1em; padding-right: 1em; text-align: center; vertical-align: top\">SE201H</td>\n",
       "        <td style=\"padding-left: 1em; padding-right: 1em; text-align: center; vertical-align: top\">N</td>\n",
       "        <td style=\"padding-left: 1em; padding-right: 1em; text-align: center; vertical-align: top\">0.0</td>\n",
       "        <td style=\"padding-left: 1em; padding-right: 1em; text-align: center; vertical-align: top\">0</td>\n",
       "        <td style=\"padding-left: 1em; padding-right: 1em; text-align: center; vertical-align: top\">GRANEL</td>\n",
       "        <td style=\"padding-left: 1em; padding-right: 1em; text-align: center; vertical-align: top\">ALOCAL</td>\n",
       "    </tr>\n",
       "    <tr>\n",
       "        <td style=\"padding-left: 1em; padding-right: 1em; text-align: center; vertical-align: top\">20120311</td>\n",
       "        <td style=\"padding-left: 1em; padding-right: 1em; text-align: center; vertical-align: top\">201444</td>\n",
       "        <td style=\"padding-left: 1em; padding-right: 1em; text-align: center; vertical-align: top\">104</td>\n",
       "        <td style=\"padding-left: 1em; padding-right: 1em; text-align: center; vertical-align: top\">C2036G</td>\n",
       "        <td style=\"padding-left: 1em; padding-right: 1em; text-align: center; vertical-align: top\">N</td>\n",
       "        <td style=\"padding-left: 1em; padding-right: 1em; text-align: center; vertical-align: top\">0.0</td>\n",
       "        <td style=\"padding-left: 1em; padding-right: 1em; text-align: center; vertical-align: top\">0</td>\n",
       "        <td style=\"padding-left: 1em; padding-right: 1em; text-align: center; vertical-align: top\">GRANEL</td>\n",
       "        <td style=\"padding-left: 1em; padding-right: 1em; text-align: center; vertical-align: top\">ALOCAL</td>\n",
       "    </tr>\n",
       "    <tr>\n",
       "        <td style=\"padding-left: 1em; padding-right: 1em; text-align: center; vertical-align: top\">20120311</td>\n",
       "        <td style=\"padding-left: 1em; padding-right: 1em; text-align: center; vertical-align: top\">200823</td>\n",
       "        <td style=\"padding-left: 1em; padding-right: 1em; text-align: center; vertical-align: top\">63</td>\n",
       "        <td style=\"padding-left: 1em; padding-right: 1em; text-align: center; vertical-align: top\">C1441C</td>\n",
       "        <td style=\"padding-left: 1em; padding-right: 1em; text-align: center; vertical-align: top\">N</td>\n",
       "        <td style=\"padding-left: 1em; padding-right: 1em; text-align: center; vertical-align: top\">0.5</td>\n",
       "        <td style=\"padding-left: 1em; padding-right: 1em; text-align: center; vertical-align: top\">0</td>\n",
       "        <td style=\"padding-left: 1em; padding-right: 1em; text-align: center; vertical-align: top\">PACK</td>\n",
       "        <td style=\"padding-left: 1em; padding-right: 1em; text-align: center; vertical-align: top\">ALOCAL</td>\n",
       "    </tr>\n",
       "    <tr>\n",
       "        <td style=\"padding-left: 1em; padding-right: 1em; text-align: center; vertical-align: top\">20120311</td>\n",
       "        <td style=\"padding-left: 1em; padding-right: 1em; text-align: center; vertical-align: top\">122026</td>\n",
       "        <td style=\"padding-left: 1em; padding-right: 1em; text-align: center; vertical-align: top\">7</td>\n",
       "        <td style=\"padding-left: 1em; padding-right: 1em; text-align: center; vertical-align: top\">CF156A</td>\n",
       "        <td style=\"padding-left: 1em; padding-right: 1em; text-align: center; vertical-align: top\">N</td>\n",
       "        <td style=\"padding-left: 1em; padding-right: 1em; text-align: center; vertical-align: top\">0.5592</td>\n",
       "        <td style=\"padding-left: 1em; padding-right: 1em; text-align: center; vertical-align: top\">0</td>\n",
       "        <td style=\"padding-left: 1em; padding-right: 1em; text-align: center; vertical-align: top\">PACK</td>\n",
       "        <td style=\"padding-left: 1em; padding-right: 1em; text-align: center; vertical-align: top\">ALOCAL</td>\n",
       "    </tr>\n",
       "    <tr>\n",
       "        <td style=\"padding-left: 1em; padding-right: 1em; text-align: center; vertical-align: top\">20120311</td>\n",
       "        <td style=\"padding-left: 1em; padding-right: 1em; text-align: center; vertical-align: top\">205906</td>\n",
       "        <td style=\"padding-left: 1em; padding-right: 1em; text-align: center; vertical-align: top\">368</td>\n",
       "        <td style=\"padding-left: 1em; padding-right: 1em; text-align: center; vertical-align: top\">C2021K</td>\n",
       "        <td style=\"padding-left: 1em; padding-right: 1em; text-align: center; vertical-align: top\">N</td>\n",
       "        <td style=\"padding-left: 1em; padding-right: 1em; text-align: center; vertical-align: top\">3.2998</td>\n",
       "        <td style=\"padding-left: 1em; padding-right: 1em; text-align: center; vertical-align: top\">0</td>\n",
       "        <td style=\"padding-left: 1em; padding-right: 1em; text-align: center; vertical-align: top\">GRANEL</td>\n",
       "        <td style=\"padding-left: 1em; padding-right: 1em; text-align: center; vertical-align: top\">ALOCAL</td>\n",
       "    </tr>\n",
       "    <tr>\n",
       "        <td style=\"padding-left: 1em; padding-right: 1em; text-align: center; vertical-align: top\">20120311</td>\n",
       "        <td style=\"padding-left: 1em; padding-right: 1em; text-align: center; vertical-align: top\">112749</td>\n",
       "        <td style=\"padding-left: 1em; padding-right: 1em; text-align: center; vertical-align: top\">23</td>\n",
       "        <td style=\"padding-left: 1em; padding-right: 1em; text-align: center; vertical-align: top\">071</td>\n",
       "        <td style=\"padding-left: 1em; padding-right: 1em; text-align: center; vertical-align: top\">N</td>\n",
       "        <td style=\"padding-left: 1em; padding-right: 1em; text-align: center; vertical-align: top\">59488.0</td>\n",
       "        <td style=\"padding-left: 1em; padding-right: 1em; text-align: center; vertical-align: top\">11958</td>\n",
       "        <td style=\"padding-left: 1em; padding-right: 1em; text-align: center; vertical-align: top\">PERIODIC</td>\n",
       "        <td style=\"padding-left: 1em; padding-right: 1em; text-align: center; vertical-align: top\"></td>\n",
       "    </tr>\n",
       "    <tr>\n",
       "        <td style=\"padding-left: 1em; padding-right: 1em; text-align: center; vertical-align: top\">20120311</td>\n",
       "        <td style=\"padding-left: 1em; padding-right: 1em; text-align: center; vertical-align: top\">201355</td>\n",
       "        <td style=\"padding-left: 1em; padding-right: 1em; text-align: center; vertical-align: top\">3</td>\n",
       "        <td style=\"padding-left: 1em; padding-right: 1em; text-align: center; vertical-align: top\">071</td>\n",
       "        <td style=\"padding-left: 1em; padding-right: 1em; text-align: center; vertical-align: top\">N</td>\n",
       "        <td style=\"padding-left: 1em; padding-right: 1em; text-align: center; vertical-align: top\">129991.0</td>\n",
       "        <td style=\"padding-left: 1em; padding-right: 1em; text-align: center; vertical-align: top\">26131</td>\n",
       "        <td style=\"padding-left: 1em; padding-right: 1em; text-align: center; vertical-align: top\">MAIN</td>\n",
       "        <td style=\"padding-left: 1em; padding-right: 1em; text-align: center; vertical-align: top\"></td>\n",
       "    </tr>\n",
       "</table>\n",
       "<table frame=\"box\" rules=\"cols\">\n",
       "    <tr>\n",
       "        <th style=\"padding-left: 1em; padding-right: 1em; text-align: center\">RATE_ID_LAND</th>\n",
       "        <th style=\"padding-left: 1em; padding-right: 1em; text-align: center\">DISCOUNT_AMOUNT_FF</th>\n",
       "    </tr>\n",
       "    <tr>\n",
       "        <td style=\"padding-left: 1em; padding-right: 1em; text-align: center; vertical-align: top\">CLV09</td>\n",
       "        <td style=\"padding-left: 1em; padding-right: 1em; text-align: center; vertical-align: top\">0</td>\n",
       "    </tr>\n",
       "    <tr>\n",
       "        <td style=\"padding-left: 1em; padding-right: 1em; text-align: center; vertical-align: top\"></td>\n",
       "        <td style=\"padding-left: 1em; padding-right: 1em; text-align: center; vertical-align: top\">0</td>\n",
       "    </tr>\n",
       "    <tr>\n",
       "        <td style=\"padding-left: 1em; padding-right: 1em; text-align: center; vertical-align: top\">TFIJO</td>\n",
       "        <td style=\"padding-left: 1em; padding-right: 1em; text-align: center; vertical-align: top\">0</td>\n",
       "    </tr>\n",
       "    <tr>\n",
       "        <td style=\"padding-left: 1em; padding-right: 1em; text-align: center; vertical-align: top\">CLV10</td>\n",
       "        <td style=\"padding-left: 1em; padding-right: 1em; text-align: center; vertical-align: top\">0</td>\n",
       "    </tr>\n",
       "    <tr>\n",
       "        <td style=\"padding-left: 1em; padding-right: 1em; text-align: center; vertical-align: top\">TFIJO</td>\n",
       "        <td style=\"padding-left: 1em; padding-right: 1em; text-align: center; vertical-align: top\">0</td>\n",
       "    </tr>\n",
       "    <tr>\n",
       "        <td style=\"padding-left: 1em; padding-right: 1em; text-align: center; vertical-align: top\">TFIJO</td>\n",
       "        <td style=\"padding-left: 1em; padding-right: 1em; text-align: center; vertical-align: top\">0</td>\n",
       "    </tr>\n",
       "    <tr>\n",
       "        <td style=\"padding-left: 1em; padding-right: 1em; text-align: center; vertical-align: top\">TFIJO</td>\n",
       "        <td style=\"padding-left: 1em; padding-right: 1em; text-align: center; vertical-align: top\">0</td>\n",
       "    </tr>\n",
       "    <tr>\n",
       "        <td style=\"padding-left: 1em; padding-right: 1em; text-align: center; vertical-align: top\">TFIJO</td>\n",
       "        <td style=\"padding-left: 1em; padding-right: 1em; text-align: center; vertical-align: top\">0</td>\n",
       "    </tr>\n",
       "    <tr>\n",
       "        <td style=\"padding-left: 1em; padding-right: 1em; text-align: center; vertical-align: top\"></td>\n",
       "        <td style=\"padding-left: 1em; padding-right: 1em; text-align: center; vertical-align: top\">0</td>\n",
       "    </tr>\n",
       "    <tr>\n",
       "        <td style=\"padding-left: 1em; padding-right: 1em; text-align: center; vertical-align: top\"></td>\n",
       "        <td style=\"padding-left: 1em; padding-right: 1em; text-align: center; vertical-align: top\">0</td>\n",
       "    </tr>\n",
       "</table>\n",
       "[? rows x 16 columns]<br/>Note: Only the head of the SFrame is printed. This SFrame is lazily evaluated.<br/>You can use len(sf) to force materialization.\n",
       "</div>"
      ],
      "text/plain": [
       "Columns:\n",
       "\tUSER\tstr\n",
       "\tTARGET_NUMBER_ENC_B64\tstr\n",
       "\tDIRECTION\tstr\n",
       "\tCLIENT_BUSSINES_ID\tstr\n",
       "\tOTHER_OPERATOR\tstr\n",
       "\tDATE\tint\n",
       "\tTIME\tint\n",
       "\tDURATION\tint\n",
       "\tCLIENT_CELL_ID\tstr\n",
       "\tREDIRECT_VOICEMAIL\tstr\n",
       "\tAIR_CHARGE\tfloat\n",
       "\tLAND_CHARGE\tint\n",
       "\tMONEDERO\tstr\n",
       "\tRATE_ID_AIR\tstr\n",
       "\tRATE_ID_LAND\tstr\n",
       "\tDISCOUNT_AMOUNT_FF\tint\n",
       "\n",
       "Rows: Unknown\n",
       "\n",
       "Data:\n",
       "+-------------------------------+-------------------------------+-----------+--------------------+\n",
       "|              USER             |     TARGET_NUMBER_ENC_B64     | DIRECTION | CLIENT_BUSSINES_ID |\n",
       "+-------------------------------+-------------------------------+-----------+--------------------+\n",
       "| 4753724553746A6E56686D5849... | 4C4434427355663273354B4D78... |     O     |         CO         |\n",
       "| 307A344967764170452B6A7562... | 6B6C6F483737453548515A5048... |     O     |         CR         |\n",
       "| 7A4F636562387674592B526B68... | 576B34494170732B327778787A... |     O     |         CO         |\n",
       "| 7A3562492F7A68317A72445971... | 446A7477456E725A5833793748... |     O     |         CO         |\n",
       "| 4D4F6E43546656686D33535062... | 72325A4B3468663745346C7531... |     O     |         CO         |\n",
       "| 523853547762703631654B4253... | 512F7867357A52394B75395132... |     O     |         CO         |\n",
       "| 52754A4B746D77556F512F4758... | 3641794746396D71564B6A5369... |     O     |         CO         |\n",
       "| 6B626C46334832616E46435562... | 4D6E6E644D3644737249324279... |     O     |         CO         |\n",
       "| 577A535278494644494E712B62... | 6C375063313876754E7745626E... |     O     |         CR         |\n",
       "| 474937784D505452657A596843... | 696A6B527A584E495335383066... |     O     |         CR         |\n",
       "+-------------------------------+-------------------------------+-----------+--------------------+\n",
       "+-------------------------------+----------+--------+----------+----------------+\n",
       "|         OTHER_OPERATOR        |   DATE   |  TIME  | DURATION | CLIENT_CELL_ID |\n",
       "+-------------------------------+----------+--------+----------+----------------+\n",
       "|          CTI PCS S.A.         | 20120311 | 125215 |   195    |     RN203B     |\n",
       "|          CTI PCS S.A.         | 20120311 | 223605 |   170    |      071       |\n",
       "| COMPA?IA DE RADIOCOMUNICAC... | 20120311 | 120615 |   133    |     C1089J     |\n",
       "|          CTI PCS S.A.         | 20120311 | 212339 |    4     |     SE201H     |\n",
       "|          CTI PCS S.A.         | 20120311 | 201444 |   104    |     C2036G     |\n",
       "|          CTI PCS S.A.         | 20120311 | 200823 |    63    |     C1441C     |\n",
       "|          CTI PCS S.A.         | 20120311 | 122026 |    7     |     CF156A     |\n",
       "|        TELECENTRO S.A.        | 20120311 | 205906 |   368    |     C2021K     |\n",
       "|     TELECOM PERSONAL S.A.     | 20120311 | 112749 |    23    |      071       |\n",
       "|     TELECOM PERSONAL S.A.     | 20120311 | 201355 |    3     |      071       |\n",
       "+-------------------------------+----------+--------+----------+----------------+\n",
       "+--------------------+------------+-------------+----------+-------------+--------------+\n",
       "| REDIRECT_VOICEMAIL | AIR_CHARGE | LAND_CHARGE | MONEDERO | RATE_ID_AIR | RATE_ID_LAND |\n",
       "+--------------------+------------+-------------+----------+-------------+--------------+\n",
       "|         N          |    0.0     |      0      |  GRANEL  |    ALOCAL   |    CLV09     |\n",
       "|         N          |  173959.0  |    34969    |  BONUS   |             |              |\n",
       "|         N          |    0.99    |      0      |  GRANEL  |    ALOCAL   |    TFIJO     |\n",
       "|         N          |    0.0     |      0      |  GRANEL  |    ALOCAL   |    CLV10     |\n",
       "|         N          |    0.0     |      0      |  GRANEL  |    ALOCAL   |    TFIJO     |\n",
       "|         N          |    0.5     |      0      |   PACK   |    ALOCAL   |    TFIJO     |\n",
       "|         N          |   0.5592   |      0      |   PACK   |    ALOCAL   |    TFIJO     |\n",
       "|         N          |   3.2998   |      0      |  GRANEL  |    ALOCAL   |    TFIJO     |\n",
       "|         N          |  59488.0   |    11958    | PERIODIC |             |              |\n",
       "|         N          |  129991.0  |    26131    |   MAIN   |             |              |\n",
       "+--------------------+------------+-------------+----------+-------------+--------------+\n",
       "+--------------------+\n",
       "| DISCOUNT_AMOUNT_FF |\n",
       "+--------------------+\n",
       "|         0          |\n",
       "|         0          |\n",
       "|         0          |\n",
       "|         0          |\n",
       "|         0          |\n",
       "|         0          |\n",
       "|         0          |\n",
       "|         0          |\n",
       "|         0          |\n",
       "|         0          |\n",
       "+--------------------+\n",
       "[? rows x 16 columns]\n",
       "Note: Only the head of the SFrame is printed. This SFrame is lazily evaluated.\n",
       "You can use len(sf) to force materialization."
      ]
     },
     "execution_count": 164,
     "metadata": {},
     "output_type": "execute_result"
    }
   ],
   "source": [
    "test[test['CLIENT_CELL_ID'].apply(lambda x: True if 'CTI ' in x else False)!=1]"
   ]
  },
  {
   "cell_type": "code",
   "execution_count": 13,
   "metadata": {
    "collapsed": false
   },
   "outputs": [
    {
     "data": {
      "text/html": [
       "<div style=\"max-height:1000px;max-width:1500px;overflow:auto;\"><table frame=\"box\" rules=\"cols\">\n",
       "    <tr>\n",
       "        <th style=\"padding-left: 1em; padding-right: 1em; text-align: center\">CEL_ID</th>\n",
       "        <th style=\"padding-left: 1em; padding-right: 1em; text-align: center\">LATITUD</th>\n",
       "        <th style=\"padding-left: 1em; padding-right: 1em; text-align: center\">LONGITUD</th>\n",
       "        <th style=\"padding-left: 1em; padding-right: 1em; text-align: center\">DEPARTAMENTO</th>\n",
       "        <th style=\"padding-left: 1em; padding-right: 1em; text-align: center\">PROVINCIA</th>\n",
       "        <th style=\"padding-left: 1em; padding-right: 1em; text-align: center\">EPIDEMIC</th>\n",
       "    </tr>\n",
       "    <tr>\n",
       "        <td style=\"padding-left: 1em; padding-right: 1em; text-align: center; vertical-align: top\">B1061</td>\n",
       "        <td style=\"padding-left: 1em; padding-right: 1em; text-align: center; vertical-align: top\">-36.339</td>\n",
       "        <td style=\"padding-left: 1em; padding-right: 1em; text-align: center; vertical-align: top\">-56.7468</td>\n",
       "        <td style=\"padding-left: 1em; padding-right: 1em; text-align: center; vertical-align: top\">La_Costa</td>\n",
       "        <td style=\"padding-left: 1em; padding-right: 1em; text-align: center; vertical-align: top\">Buenos_Aires</td>\n",
       "        <td style=\"padding-left: 1em; padding-right: 1em; text-align: center; vertical-align: top\">0</td>\n",
       "    </tr>\n",
       "    <tr>\n",
       "        <td style=\"padding-left: 1em; padding-right: 1em; text-align: center; vertical-align: top\">B1062</td>\n",
       "        <td style=\"padding-left: 1em; padding-right: 1em; text-align: center; vertical-align: top\">-33.4578</td>\n",
       "        <td style=\"padding-left: 1em; padding-right: 1em; text-align: center; vertical-align: top\">-60.0522</td>\n",
       "        <td style=\"padding-left: 1em; padding-right: 1em; text-align: center; vertical-align: top\">Ramallo</td>\n",
       "        <td style=\"padding-left: 1em; padding-right: 1em; text-align: center; vertical-align: top\">Buenos_Aires</td>\n",
       "        <td style=\"padding-left: 1em; padding-right: 1em; text-align: center; vertical-align: top\">0</td>\n",
       "    </tr>\n",
       "    <tr>\n",
       "        <td style=\"padding-left: 1em; padding-right: 1em; text-align: center; vertical-align: top\">BA001</td>\n",
       "        <td style=\"padding-left: 1em; padding-right: 1em; text-align: center; vertical-align: top\">-35.1641</td>\n",
       "        <td style=\"padding-left: 1em; padding-right: 1em; text-align: center; vertical-align: top\">-60.0866</td>\n",
       "        <td style=\"padding-left: 1em; padding-right: 1em; text-align: center; vertical-align: top\">Veinticinco_de_Mayo</td>\n",
       "        <td style=\"padding-left: 1em; padding-right: 1em; text-align: center; vertical-align: top\">Buenos_Aires</td>\n",
       "        <td style=\"padding-left: 1em; padding-right: 1em; text-align: center; vertical-align: top\">0</td>\n",
       "    </tr>\n",
       "    <tr>\n",
       "        <td style=\"padding-left: 1em; padding-right: 1em; text-align: center; vertical-align: top\">BA003</td>\n",
       "        <td style=\"padding-left: 1em; padding-right: 1em; text-align: center; vertical-align: top\">-35.4275</td>\n",
       "        <td style=\"padding-left: 1em; padding-right: 1em; text-align: center; vertical-align: top\">-60.1538</td>\n",
       "        <td style=\"padding-left: 1em; padding-right: 1em; text-align: center; vertical-align: top\">Veinticinco_de_Mayo</td>\n",
       "        <td style=\"padding-left: 1em; padding-right: 1em; text-align: center; vertical-align: top\">Buenos_Aires</td>\n",
       "        <td style=\"padding-left: 1em; padding-right: 1em; text-align: center; vertical-align: top\">0</td>\n",
       "    </tr>\n",
       "    <tr>\n",
       "        <td style=\"padding-left: 1em; padding-right: 1em; text-align: center; vertical-align: top\">BA004</td>\n",
       "        <td style=\"padding-left: 1em; padding-right: 1em; text-align: center; vertical-align: top\">-35.9</td>\n",
       "        <td style=\"padding-left: 1em; padding-right: 1em; text-align: center; vertical-align: top\">-60.7275</td>\n",
       "        <td style=\"padding-left: 1em; padding-right: 1em; text-align: center; vertical-align: top\">Veinticinco_de_Mayo</td>\n",
       "        <td style=\"padding-left: 1em; padding-right: 1em; text-align: center; vertical-align: top\">Buenos_Aires</td>\n",
       "        <td style=\"padding-left: 1em; padding-right: 1em; text-align: center; vertical-align: top\">0</td>\n",
       "    </tr>\n",
       "    <tr>\n",
       "        <td style=\"padding-left: 1em; padding-right: 1em; text-align: center; vertical-align: top\">BA006</td>\n",
       "        <td style=\"padding-left: 1em; padding-right: 1em; text-align: center; vertical-align: top\">-35.2355</td>\n",
       "        <td style=\"padding-left: 1em; padding-right: 1em; text-align: center; vertical-align: top\">-60.8283</td>\n",
       "        <td style=\"padding-left: 1em; padding-right: 1em; text-align: center; vertical-align: top\">Nueve_de_Julio</td>\n",
       "        <td style=\"padding-left: 1em; padding-right: 1em; text-align: center; vertical-align: top\">Buenos_Aires</td>\n",
       "        <td style=\"padding-left: 1em; padding-right: 1em; text-align: center; vertical-align: top\">0</td>\n",
       "    </tr>\n",
       "    <tr>\n",
       "        <td style=\"padding-left: 1em; padding-right: 1em; text-align: center; vertical-align: top\">BA007</td>\n",
       "        <td style=\"padding-left: 1em; padding-right: 1em; text-align: center; vertical-align: top\">-35.2894</td>\n",
       "        <td style=\"padding-left: 1em; padding-right: 1em; text-align: center; vertical-align: top\">-61.3972</td>\n",
       "        <td style=\"padding-left: 1em; padding-right: 1em; text-align: center; vertical-align: top\">Nueve_de_Julio</td>\n",
       "        <td style=\"padding-left: 1em; padding-right: 1em; text-align: center; vertical-align: top\">Buenos_Aires</td>\n",
       "        <td style=\"padding-left: 1em; padding-right: 1em; text-align: center; vertical-align: top\">0</td>\n",
       "    </tr>\n",
       "    <tr>\n",
       "        <td style=\"padding-left: 1em; padding-right: 1em; text-align: center; vertical-align: top\">BA010</td>\n",
       "        <td style=\"padding-left: 1em; padding-right: 1em; text-align: center; vertical-align: top\">-35.6458</td>\n",
       "        <td style=\"padding-left: 1em; padding-right: 1em; text-align: center; vertical-align: top\">-60.7036</td>\n",
       "        <td style=\"padding-left: 1em; padding-right: 1em; text-align: center; vertical-align: top\">Nueve_de_Julio</td>\n",
       "        <td style=\"padding-left: 1em; padding-right: 1em; text-align: center; vertical-align: top\">Buenos_Aires</td>\n",
       "        <td style=\"padding-left: 1em; padding-right: 1em; text-align: center; vertical-align: top\">0</td>\n",
       "    </tr>\n",
       "    <tr>\n",
       "        <td style=\"padding-left: 1em; padding-right: 1em; text-align: center; vertical-align: top\">BA013</td>\n",
       "        <td style=\"padding-left: 1em; padding-right: 1em; text-align: center; vertical-align: top\">-37.1577</td>\n",
       "        <td style=\"padding-left: 1em; padding-right: 1em; text-align: center; vertical-align: top\">-63.2363</td>\n",
       "        <td style=\"padding-left: 1em; padding-right: 1em; text-align: center; vertical-align: top\">Adolfo_Alsina</td>\n",
       "        <td style=\"padding-left: 1em; padding-right: 1em; text-align: center; vertical-align: top\">Buenos_Aires</td>\n",
       "        <td style=\"padding-left: 1em; padding-right: 1em; text-align: center; vertical-align: top\">0</td>\n",
       "    </tr>\n",
       "    <tr>\n",
       "        <td style=\"padding-left: 1em; padding-right: 1em; text-align: center; vertical-align: top\">BA015</td>\n",
       "        <td style=\"padding-left: 1em; padding-right: 1em; text-align: center; vertical-align: top\">-37.9641</td>\n",
       "        <td style=\"padding-left: 1em; padding-right: 1em; text-align: center; vertical-align: top\">-60.4202</td>\n",
       "        <td style=\"padding-left: 1em; padding-right: 1em; text-align: center; vertical-align: top\">Adolfo_Gonzales_Chaves</td>\n",
       "        <td style=\"padding-left: 1em; padding-right: 1em; text-align: center; vertical-align: top\">Buenos_Aires</td>\n",
       "        <td style=\"padding-left: 1em; padding-right: 1em; text-align: center; vertical-align: top\">0</td>\n",
       "    </tr>\n",
       "</table>\n",
       "[10 rows x 6 columns]<br/>\n",
       "</div>"
      ],
      "text/plain": [
       "Columns:\n",
       "\tCEL_ID\tstr\n",
       "\tLATITUD\tfloat\n",
       "\tLONGITUD\tfloat\n",
       "\tDEPARTAMENTO\tstr\n",
       "\tPROVINCIA\tstr\n",
       "\tEPIDEMIC\tint\n",
       "\n",
       "Rows: 10\n",
       "\n",
       "Data:\n",
       "+--------+----------+----------+------------------------+--------------+----------+\n",
       "| CEL_ID | LATITUD  | LONGITUD |      DEPARTAMENTO      |  PROVINCIA   | EPIDEMIC |\n",
       "+--------+----------+----------+------------------------+--------------+----------+\n",
       "| B1061  | -36.339  | -56.7468 |        La_Costa        | Buenos_Aires |    0     |\n",
       "| B1062  | -33.4578 | -60.0522 |        Ramallo         | Buenos_Aires |    0     |\n",
       "| BA001  | -35.1641 | -60.0866 |  Veinticinco_de_Mayo   | Buenos_Aires |    0     |\n",
       "| BA003  | -35.4275 | -60.1538 |  Veinticinco_de_Mayo   | Buenos_Aires |    0     |\n",
       "| BA004  |  -35.9   | -60.7275 |  Veinticinco_de_Mayo   | Buenos_Aires |    0     |\n",
       "| BA006  | -35.2355 | -60.8283 |     Nueve_de_Julio     | Buenos_Aires |    0     |\n",
       "| BA007  | -35.2894 | -61.3972 |     Nueve_de_Julio     | Buenos_Aires |    0     |\n",
       "| BA010  | -35.6458 | -60.7036 |     Nueve_de_Julio     | Buenos_Aires |    0     |\n",
       "| BA013  | -37.1577 | -63.2363 |     Adolfo_Alsina      | Buenos_Aires |    0     |\n",
       "| BA015  | -37.9641 | -60.4202 | Adolfo_Gonzales_Chaves | Buenos_Aires |    0     |\n",
       "+--------+----------+----------+------------------------+--------------+----------+\n",
       "[10 rows x 6 columns]"
      ]
     },
     "execution_count": 13,
     "metadata": {},
     "output_type": "execute_result"
    }
   ],
   "source": [
    "antennas.head()"
   ]
  },
  {
   "cell_type": "code",
   "execution_count": 11,
   "metadata": {
    "collapsed": false
   },
   "outputs": [
    {
     "data": {
      "text/plain": [
       "21.192261"
      ]
     },
     "execution_count": 11,
     "metadata": {},
     "output_type": "execute_result"
    }
   ],
   "source": [
    "test.shape[0]/1e6"
   ]
  },
  {
   "cell_type": "code",
   "execution_count": null,
   "metadata": {
    "collapsed": true
   },
   "outputs": [],
   "source": []
  },
  {
   "cell_type": "code",
   "execution_count": null,
   "metadata": {
    "collapsed": true
   },
   "outputs": [],
   "source": []
  },
  {
   "cell_type": "markdown",
   "metadata": {},
   "source": [
    "## SFrame MAGIC!\n",
    "Se pueden guardar en disco los sframes con un formato especial para que despues sean leidos 'casi' instantaneamente"
   ]
  },
  {
   "cell_type": "code",
   "execution_count": 12,
   "metadata": {
    "collapsed": false
   },
   "outputs": [
    {
     "name": "stdout",
     "output_type": "stream",
     "text": [
      "CPU times: user 14.5 s, sys: 1.39 s, total: 15.8 s\n",
      "Wall time: 19.8 s\n"
     ]
    }
   ],
   "source": [
    "%%time\n",
    "## TESTEO que tanto cuesta guardar un sframe con 10M de lineas a disco! pues resulta mas conveniente para despues cargar \n",
    "#esta info nuevamente cuando la necesite\n",
    "sample_save_dir = '/home/juan/mobility-study/argentina-scripts/test_sframe_in_disk'\n",
    "test.save(sample_save_dir)"
   ]
  },
  {
   "cell_type": "code",
   "execution_count": 17,
   "metadata": {
    "collapsed": true
   },
   "outputs": [],
   "source": [
    "del test"
   ]
  },
  {
   "cell_type": "code",
   "execution_count": 19,
   "metadata": {
    "collapsed": false
   },
   "outputs": [
    {
     "name": "stdout",
     "output_type": "stream",
     "text": [
      "1.2G\t/home/juan/mobility-study/argentina-scripts/test_sframe_in_disk\n",
      "1.8G\t/grandata/ca/voice/2012/3/binaria_gsm_20120311.csv.gz\n",
      "317G\t/home/juan/mobility-study/argentina-scripts/sframe_cdrs/2012/\n"
     ]
    }
   ],
   "source": [
    "!du -sh $sample_save_dir\n",
    "!du -sh $raw_file\n",
    "!du -sh \"/home/juan/mobility-study/argentina-scripts/sframe_cdrs/2012/\""
   ]
  },
  {
   "cell_type": "code",
   "execution_count": 18,
   "metadata": {
    "collapsed": false
   },
   "outputs": [
    {
     "name": "stdout",
     "output_type": "stream",
     "text": [
      "CPU times: user 0 ns, sys: 4 ms, total: 4 ms\n",
      "Wall time: 3.7 ms\n"
     ]
    }
   ],
   "source": [
    "%%time\n",
    "test = gl.load_sframe('/home/juan/mobility-study/argentina-scripts/test_sframe_in_disk')"
   ]
  },
  {
   "cell_type": "code",
   "execution_count": 35,
   "metadata": {
    "collapsed": false,
    "scrolled": true
   },
   "outputs": [
    {
     "data": {
      "text/html": [
       "<div style=\"max-height:1000px;max-width:1500px;overflow:auto;\"><table frame=\"box\" rules=\"cols\">\n",
       "    <tr>\n",
       "        <th style=\"padding-left: 1em; padding-right: 1em; text-align: center\">USER</th>\n",
       "        <th style=\"padding-left: 1em; padding-right: 1em; text-align: center\">OTHER_USER</th>\n",
       "        <th style=\"padding-left: 1em; padding-right: 1em; text-align: center\">DIRECTION</th>\n",
       "        <th style=\"padding-left: 1em; padding-right: 1em; text-align: center\">DATE</th>\n",
       "        <th style=\"padding-left: 1em; padding-right: 1em; text-align: center\">TIME</th>\n",
       "        <th style=\"padding-left: 1em; padding-right: 1em; text-align: center\">CLIENT_CELL_ID</th>\n",
       "    </tr>\n",
       "    <tr>\n",
       "        <td style=\"padding-left: 1em; padding-right: 1em; text-align: center; vertical-align: top\">703344566D793559654176393<br>030796754677A4F45513D3D ...</td>\n",
       "        <td style=\"padding-left: 1em; padding-right: 1em; text-align: center; vertical-align: top\">3861696F2B5634476F6348445<br>04C52593768314E50673D3D ...</td>\n",
       "        <td style=\"padding-left: 1em; padding-right: 1em; text-align: center; vertical-align: top\">O</td>\n",
       "        <td style=\"padding-left: 1em; padding-right: 1em; text-align: center; vertical-align: top\">20111101</td>\n",
       "        <td style=\"padding-left: 1em; padding-right: 1em; text-align: center; vertical-align: top\">120814</td>\n",
       "        <td style=\"padding-left: 1em; padding-right: 1em; text-align: center; vertical-align: top\">CF001G</td>\n",
       "    </tr>\n",
       "    <tr>\n",
       "        <td style=\"padding-left: 1em; padding-right: 1em; text-align: center; vertical-align: top\">4D6A766A51747A52767937483<br>92B7964426374776D513D3D ...</td>\n",
       "        <td style=\"padding-left: 1em; padding-right: 1em; text-align: center; vertical-align: top\">49385033304F594B5941336F6<br>44A7350534B49724A413D3D ...</td>\n",
       "        <td style=\"padding-left: 1em; padding-right: 1em; text-align: center; vertical-align: top\">O</td>\n",
       "        <td style=\"padding-left: 1em; padding-right: 1em; text-align: center; vertical-align: top\">20111101</td>\n",
       "        <td style=\"padding-left: 1em; padding-right: 1em; text-align: center; vertical-align: top\">201546</td>\n",
       "        <td style=\"padding-left: 1em; padding-right: 1em; text-align: center; vertical-align: top\">CTI 1</td>\n",
       "    </tr>\n",
       "    <tr>\n",
       "        <td style=\"padding-left: 1em; padding-right: 1em; text-align: center; vertical-align: top\">4A6C66694B6D525A6D6C70565<br>46F5A553766346972773D3D ...</td>\n",
       "        <td style=\"padding-left: 1em; padding-right: 1em; text-align: center; vertical-align: top\">454B4C562B4245444C614D4B4<br>C6B6D554E4639706B773D3D ...</td>\n",
       "        <td style=\"padding-left: 1em; padding-right: 1em; text-align: center; vertical-align: top\">O</td>\n",
       "        <td style=\"padding-left: 1em; padding-right: 1em; text-align: center; vertical-align: top\">20111101</td>\n",
       "        <td style=\"padding-left: 1em; padding-right: 1em; text-align: center; vertical-align: top\">220049</td>\n",
       "        <td style=\"padding-left: 1em; padding-right: 1em; text-align: center; vertical-align: top\">CTI 1</td>\n",
       "    </tr>\n",
       "    <tr>\n",
       "        <td style=\"padding-left: 1em; padding-right: 1em; text-align: center; vertical-align: top\">314234775A654162706B43465<br>56C614974334F396F673D3D ...</td>\n",
       "        <td style=\"padding-left: 1em; padding-right: 1em; text-align: center; vertical-align: top\">38422F55654542727A564B686<br>C7935305875594953673D3D ...</td>\n",
       "        <td style=\"padding-left: 1em; padding-right: 1em; text-align: center; vertical-align: top\">O</td>\n",
       "        <td style=\"padding-left: 1em; padding-right: 1em; text-align: center; vertical-align: top\">20111101</td>\n",
       "        <td style=\"padding-left: 1em; padding-right: 1em; text-align: center; vertical-align: top\">195837</td>\n",
       "        <td style=\"padding-left: 1em; padding-right: 1em; text-align: center; vertical-align: top\">C1066I</td>\n",
       "    </tr>\n",
       "    <tr>\n",
       "        <td style=\"padding-left: 1em; padding-right: 1em; text-align: center; vertical-align: top\">314234775A654162706B43465<br>56C614974334F396F673D3D ...</td>\n",
       "        <td style=\"padding-left: 1em; padding-right: 1em; text-align: center; vertical-align: top\">38422F55654542727A564B686<br>C7935305875594953673D3D ...</td>\n",
       "        <td style=\"padding-left: 1em; padding-right: 1em; text-align: center; vertical-align: top\">O</td>\n",
       "        <td style=\"padding-left: 1em; padding-right: 1em; text-align: center; vertical-align: top\">20111101</td>\n",
       "        <td style=\"padding-left: 1em; padding-right: 1em; text-align: center; vertical-align: top\">195526</td>\n",
       "        <td style=\"padding-left: 1em; padding-right: 1em; text-align: center; vertical-align: top\">C1066Z</td>\n",
       "    </tr>\n",
       "    <tr>\n",
       "        <td style=\"padding-left: 1em; padding-right: 1em; text-align: center; vertical-align: top\">7A3562492F7A68317A7244597<br>147774752532F6B6F673D3D ...</td>\n",
       "        <td style=\"padding-left: 1em; padding-right: 1em; text-align: center; vertical-align: top\">446A7477456E725A583379374<br>84E64546C675A7641413D3D ...</td>\n",
       "        <td style=\"padding-left: 1em; padding-right: 1em; text-align: center; vertical-align: top\">O</td>\n",
       "        <td style=\"padding-left: 1em; padding-right: 1em; text-align: center; vertical-align: top\">20111101</td>\n",
       "        <td style=\"padding-left: 1em; padding-right: 1em; text-align: center; vertical-align: top\">194631</td>\n",
       "        <td style=\"padding-left: 1em; padding-right: 1em; text-align: center; vertical-align: top\">SE088G</td>\n",
       "    </tr>\n",
       "    <tr>\n",
       "        <td style=\"padding-left: 1em; padding-right: 1em; text-align: center; vertical-align: top\">7A3562492F7A68317A7244597<br>147774752532F6B6F673D3D ...</td>\n",
       "        <td style=\"padding-left: 1em; padding-right: 1em; text-align: center; vertical-align: top\">446A7477456E725A583379374<br>84E64546C675A7641413D3D ...</td>\n",
       "        <td style=\"padding-left: 1em; padding-right: 1em; text-align: center; vertical-align: top\">O</td>\n",
       "        <td style=\"padding-left: 1em; padding-right: 1em; text-align: center; vertical-align: top\">20111101</td>\n",
       "        <td style=\"padding-left: 1em; padding-right: 1em; text-align: center; vertical-align: top\">114929</td>\n",
       "        <td style=\"padding-left: 1em; padding-right: 1em; text-align: center; vertical-align: top\">SE088G</td>\n",
       "    </tr>\n",
       "    <tr>\n",
       "        <td style=\"padding-left: 1em; padding-right: 1em; text-align: center; vertical-align: top\">7A3562492F7A68317A7244597<br>147774752532F6B6F673D3D ...</td>\n",
       "        <td style=\"padding-left: 1em; padding-right: 1em; text-align: center; vertical-align: top\">446A7477456E725A583379374<br>84E64546C675A7641413D3D ...</td>\n",
       "        <td style=\"padding-left: 1em; padding-right: 1em; text-align: center; vertical-align: top\">O</td>\n",
       "        <td style=\"padding-left: 1em; padding-right: 1em; text-align: center; vertical-align: top\">20111101</td>\n",
       "        <td style=\"padding-left: 1em; padding-right: 1em; text-align: center; vertical-align: top\">110830</td>\n",
       "        <td style=\"padding-left: 1em; padding-right: 1em; text-align: center; vertical-align: top\">SE088G</td>\n",
       "    </tr>\n",
       "    <tr>\n",
       "        <td style=\"padding-left: 1em; padding-right: 1em; text-align: center; vertical-align: top\">5565437763513268337171784<br>C754649724C306B31673D3D ...</td>\n",
       "        <td style=\"padding-left: 1em; padding-right: 1em; text-align: center; vertical-align: top\">674B46417734622F694A352F6<br>9632F695256303256773D3D ...</td>\n",
       "        <td style=\"padding-left: 1em; padding-right: 1em; text-align: center; vertical-align: top\">O</td>\n",
       "        <td style=\"padding-left: 1em; padding-right: 1em; text-align: center; vertical-align: top\">20111101</td>\n",
       "        <td style=\"padding-left: 1em; padding-right: 1em; text-align: center; vertical-align: top\">111841</td>\n",
       "        <td style=\"padding-left: 1em; padding-right: 1em; text-align: center; vertical-align: top\">BA098B</td>\n",
       "    </tr>\n",
       "    <tr>\n",
       "        <td style=\"padding-left: 1em; padding-right: 1em; text-align: center; vertical-align: top\">4C616164644E2B4337676A546<br>2456D4C4179555253413D3D ...</td>\n",
       "        <td style=\"padding-left: 1em; padding-right: 1em; text-align: center; vertical-align: top\">396566426F525352424B6E6B3<br>168575833534B4F70413D3D ...</td>\n",
       "        <td style=\"padding-left: 1em; padding-right: 1em; text-align: center; vertical-align: top\">O</td>\n",
       "        <td style=\"padding-left: 1em; padding-right: 1em; text-align: center; vertical-align: top\">20111101</td>\n",
       "        <td style=\"padding-left: 1em; padding-right: 1em; text-align: center; vertical-align: top\">132618</td>\n",
       "        <td style=\"padding-left: 1em; padding-right: 1em; text-align: center; vertical-align: top\">CTI 1</td>\n",
       "    </tr>\n",
       "</table>\n",
       "<table frame=\"box\" rules=\"cols\">\n",
       "    <tr>\n",
       "        <th style=\"padding-left: 1em; padding-right: 1em; text-align: center\">OTHER_OPERATOR</th>\n",
       "        <th style=\"padding-left: 1em; padding-right: 1em; text-align: center\">DURATION</th>\n",
       "        <th style=\"padding-left: 1em; padding-right: 1em; text-align: center\">TIMESTAMP</th>\n",
       "        <th style=\"padding-left: 1em; padding-right: 1em; text-align: center\">DURING_WEEKEND</th>\n",
       "        <th style=\"padding-left: 1em; padding-right: 1em; text-align: center\">DURING_DAY</th>\n",
       "    </tr>\n",
       "    <tr>\n",
       "        <td style=\"padding-left: 1em; padding-right: 1em; text-align: center; vertical-align: top\">CTI PCS S.A.</td>\n",
       "        <td style=\"padding-left: 1em; padding-right: 1em; text-align: center; vertical-align: top\">291</td>\n",
       "        <td style=\"padding-left: 1em; padding-right: 1em; text-align: center; vertical-align: top\">2011-11-01 12:08:14</td>\n",
       "        <td style=\"padding-left: 1em; padding-right: 1em; text-align: center; vertical-align: top\">0</td>\n",
       "        <td style=\"padding-left: 1em; padding-right: 1em; text-align: center; vertical-align: top\">1</td>\n",
       "    </tr>\n",
       "    <tr>\n",
       "        <td style=\"padding-left: 1em; padding-right: 1em; text-align: center; vertical-align: top\">CTI PCS S.A.</td>\n",
       "        <td style=\"padding-left: 1em; padding-right: 1em; text-align: center; vertical-align: top\">8</td>\n",
       "        <td style=\"padding-left: 1em; padding-right: 1em; text-align: center; vertical-align: top\">2011-11-01 20:15:46</td>\n",
       "        <td style=\"padding-left: 1em; padding-right: 1em; text-align: center; vertical-align: top\">0</td>\n",
       "        <td style=\"padding-left: 1em; padding-right: 1em; text-align: center; vertical-align: top\">0</td>\n",
       "    </tr>\n",
       "    <tr>\n",
       "        <td style=\"padding-left: 1em; padding-right: 1em; text-align: center; vertical-align: top\">GTE PCS S.A.</td>\n",
       "        <td style=\"padding-left: 1em; padding-right: 1em; text-align: center; vertical-align: top\">91</td>\n",
       "        <td style=\"padding-left: 1em; padding-right: 1em; text-align: center; vertical-align: top\">2011-11-01 22:00:49</td>\n",
       "        <td style=\"padding-left: 1em; padding-right: 1em; text-align: center; vertical-align: top\">0</td>\n",
       "        <td style=\"padding-left: 1em; padding-right: 1em; text-align: center; vertical-align: top\">0</td>\n",
       "    </tr>\n",
       "    <tr>\n",
       "        <td style=\"padding-left: 1em; padding-right: 1em; text-align: center; vertical-align: top\">COMPA?IA DE<br>RADIOCOMUNICACIONES ...</td>\n",
       "        <td style=\"padding-left: 1em; padding-right: 1em; text-align: center; vertical-align: top\">5</td>\n",
       "        <td style=\"padding-left: 1em; padding-right: 1em; text-align: center; vertical-align: top\">2011-11-01 19:58:37</td>\n",
       "        <td style=\"padding-left: 1em; padding-right: 1em; text-align: center; vertical-align: top\">0</td>\n",
       "        <td style=\"padding-left: 1em; padding-right: 1em; text-align: center; vertical-align: top\">1</td>\n",
       "    </tr>\n",
       "    <tr>\n",
       "        <td style=\"padding-left: 1em; padding-right: 1em; text-align: center; vertical-align: top\">COMPA?IA DE<br>RADIOCOMUNICACIONES ...</td>\n",
       "        <td style=\"padding-left: 1em; padding-right: 1em; text-align: center; vertical-align: top\">2</td>\n",
       "        <td style=\"padding-left: 1em; padding-right: 1em; text-align: center; vertical-align: top\">2011-11-01 19:55:26</td>\n",
       "        <td style=\"padding-left: 1em; padding-right: 1em; text-align: center; vertical-align: top\">0</td>\n",
       "        <td style=\"padding-left: 1em; padding-right: 1em; text-align: center; vertical-align: top\">1</td>\n",
       "    </tr>\n",
       "    <tr>\n",
       "        <td style=\"padding-left: 1em; padding-right: 1em; text-align: center; vertical-align: top\">CTI PCS S.A.</td>\n",
       "        <td style=\"padding-left: 1em; padding-right: 1em; text-align: center; vertical-align: top\">317</td>\n",
       "        <td style=\"padding-left: 1em; padding-right: 1em; text-align: center; vertical-align: top\">2011-11-01 19:46:31</td>\n",
       "        <td style=\"padding-left: 1em; padding-right: 1em; text-align: center; vertical-align: top\">0</td>\n",
       "        <td style=\"padding-left: 1em; padding-right: 1em; text-align: center; vertical-align: top\">1</td>\n",
       "    </tr>\n",
       "    <tr>\n",
       "        <td style=\"padding-left: 1em; padding-right: 1em; text-align: center; vertical-align: top\">CTI PCS S.A.</td>\n",
       "        <td style=\"padding-left: 1em; padding-right: 1em; text-align: center; vertical-align: top\">3</td>\n",
       "        <td style=\"padding-left: 1em; padding-right: 1em; text-align: center; vertical-align: top\">2011-11-01 11:49:29</td>\n",
       "        <td style=\"padding-left: 1em; padding-right: 1em; text-align: center; vertical-align: top\">0</td>\n",
       "        <td style=\"padding-left: 1em; padding-right: 1em; text-align: center; vertical-align: top\">1</td>\n",
       "    </tr>\n",
       "    <tr>\n",
       "        <td style=\"padding-left: 1em; padding-right: 1em; text-align: center; vertical-align: top\">CTI PCS S.A.</td>\n",
       "        <td style=\"padding-left: 1em; padding-right: 1em; text-align: center; vertical-align: top\">165</td>\n",
       "        <td style=\"padding-left: 1em; padding-right: 1em; text-align: center; vertical-align: top\">2011-11-01 11:08:30</td>\n",
       "        <td style=\"padding-left: 1em; padding-right: 1em; text-align: center; vertical-align: top\">0</td>\n",
       "        <td style=\"padding-left: 1em; padding-right: 1em; text-align: center; vertical-align: top\">1</td>\n",
       "    </tr>\n",
       "    <tr>\n",
       "        <td style=\"padding-left: 1em; padding-right: 1em; text-align: center; vertical-align: top\">COMPA?IA DE<br>RADIOCOMUNICACIONES ...</td>\n",
       "        <td style=\"padding-left: 1em; padding-right: 1em; text-align: center; vertical-align: top\">169</td>\n",
       "        <td style=\"padding-left: 1em; padding-right: 1em; text-align: center; vertical-align: top\">2011-11-01 11:18:41</td>\n",
       "        <td style=\"padding-left: 1em; padding-right: 1em; text-align: center; vertical-align: top\">0</td>\n",
       "        <td style=\"padding-left: 1em; padding-right: 1em; text-align: center; vertical-align: top\">1</td>\n",
       "    </tr>\n",
       "    <tr>\n",
       "        <td style=\"padding-left: 1em; padding-right: 1em; text-align: center; vertical-align: top\">TELECOM PERSONAL S.A.</td>\n",
       "        <td style=\"padding-left: 1em; padding-right: 1em; text-align: center; vertical-align: top\">272</td>\n",
       "        <td style=\"padding-left: 1em; padding-right: 1em; text-align: center; vertical-align: top\">2011-11-01 13:26:18</td>\n",
       "        <td style=\"padding-left: 1em; padding-right: 1em; text-align: center; vertical-align: top\">0</td>\n",
       "        <td style=\"padding-left: 1em; padding-right: 1em; text-align: center; vertical-align: top\">1</td>\n",
       "    </tr>\n",
       "</table>\n",
       "[10 rows x 11 columns]<br/>\n",
       "</div>"
      ],
      "text/plain": [
       "Columns:\n",
       "\tUSER\tstr\n",
       "\tOTHER_USER\tstr\n",
       "\tDIRECTION\tstr\n",
       "\tDATE\tstr\n",
       "\tTIME\tstr\n",
       "\tCLIENT_CELL_ID\tstr\n",
       "\tOTHER_OPERATOR\tstr\n",
       "\tDURATION\tint\n",
       "\tTIMESTAMP\tdatetime\n",
       "\tDURING_WEEKEND\tint\n",
       "\tDURING_DAY\tint\n",
       "\n",
       "Rows: 10\n",
       "\n",
       "Data:\n",
       "+-------------------------------+-------------------------------+-----------+\n",
       "|              USER             |           OTHER_USER          | DIRECTION |\n",
       "+-------------------------------+-------------------------------+-----------+\n",
       "| 703344566D7935596541763930... | 3861696F2B5634476F63484450... |     O     |\n",
       "| 4D6A766A51747A527679374839... | 49385033304F594B5941336F64... |     O     |\n",
       "| 4A6C66694B6D525A6D6C705654... | 454B4C562B4245444C614D4B4C... |     O     |\n",
       "| 314234775A654162706B434655... | 38422F55654542727A564B686C... |     O     |\n",
       "| 314234775A654162706B434655... | 38422F55654542727A564B686C... |     O     |\n",
       "| 7A3562492F7A68317A72445971... | 446A7477456E725A5833793748... |     O     |\n",
       "| 7A3562492F7A68317A72445971... | 446A7477456E725A5833793748... |     O     |\n",
       "| 7A3562492F7A68317A72445971... | 446A7477456E725A5833793748... |     O     |\n",
       "| 5565437763513268337171784C... | 674B46417734622F694A352F69... |     O     |\n",
       "| 4C616164644E2B4337676A5462... | 396566426F525352424B6E6B31... |     O     |\n",
       "+-------------------------------+-------------------------------+-----------+\n",
       "+----------+--------+----------------+-------------------------------+----------+\n",
       "|   DATE   |  TIME  | CLIENT_CELL_ID |         OTHER_OPERATOR        | DURATION |\n",
       "+----------+--------+----------------+-------------------------------+----------+\n",
       "| 20111101 | 120814 |     CF001G     |          CTI PCS S.A.         |   291    |\n",
       "| 20111101 | 201546 |     CTI 1      |          CTI PCS S.A.         |    8     |\n",
       "| 20111101 | 220049 |     CTI 1      |          GTE PCS S.A.         |    91    |\n",
       "| 20111101 | 195837 |     C1066I     | COMPA?IA DE RADIOCOMUNICAC... |    5     |\n",
       "| 20111101 | 195526 |     C1066Z     | COMPA?IA DE RADIOCOMUNICAC... |    2     |\n",
       "| 20111101 | 194631 |     SE088G     |          CTI PCS S.A.         |   317    |\n",
       "| 20111101 | 114929 |     SE088G     |          CTI PCS S.A.         |    3     |\n",
       "| 20111101 | 110830 |     SE088G     |          CTI PCS S.A.         |   165    |\n",
       "| 20111101 | 111841 |     BA098B     | COMPA?IA DE RADIOCOMUNICAC... |   169    |\n",
       "| 20111101 | 132618 |     CTI 1      |     TELECOM PERSONAL S.A.     |   272    |\n",
       "+----------+--------+----------------+-------------------------------+----------+\n",
       "+---------------------+----------------+------------+\n",
       "|      TIMESTAMP      | DURING_WEEKEND | DURING_DAY |\n",
       "+---------------------+----------------+------------+\n",
       "| 2011-11-01 12:08:14 |       0        |     1      |\n",
       "| 2011-11-01 20:15:46 |       0        |     0      |\n",
       "| 2011-11-01 22:00:49 |       0        |     0      |\n",
       "| 2011-11-01 19:58:37 |       0        |     1      |\n",
       "| 2011-11-01 19:55:26 |       0        |     1      |\n",
       "| 2011-11-01 19:46:31 |       0        |     1      |\n",
       "| 2011-11-01 11:49:29 |       0        |     1      |\n",
       "| 2011-11-01 11:08:30 |       0        |     1      |\n",
       "| 2011-11-01 11:18:41 |       0        |     1      |\n",
       "| 2011-11-01 13:26:18 |       0        |     1      |\n",
       "+---------------------+----------------+------------+\n",
       "[10 rows x 11 columns]"
      ]
     },
     "execution_count": 35,
     "metadata": {},
     "output_type": "execute_result"
    }
   ],
   "source": [
    "test.head()"
   ]
  },
  {
   "cell_type": "markdown",
   "metadata": {},
   "source": [
    "## Cargo el file limpio\n",
    "de antennas para filtrar solo por aquellas que nos interesan"
   ]
  },
  {
   "cell_type": "code",
   "execution_count": 9,
   "metadata": {
    "collapsed": false
   },
   "outputs": [
    {
     "name": "stdout",
     "output_type": "stream",
     "text": [
      "CEL_ID|CEL_DESCRIPTION|LATITUD|LONGITUD|DEPARTAMENTO|PROVINCIA|GC_AREA|EPIDEMIC\r\n",
      "B1061|MUNDO_MARNO|-36.339|-56.7468|La_Costa|Buenos_Aires|NOT_GC|0\r\n",
      "B1062|BUNGE_RAMALLO|-33.4578|-60.0522|Ramallo|Buenos_Aires|NOT_GC|0\r\n",
      "BA001|GOBERNADOR_UGARTE|-35.1641|-60.0866|Veinticinco_de_Mayo|Buenos_Aires|NOT_GC|0\r\n",
      "BA003|25_DE_MAYO|-35.4275|-60.1538|Veinticinco_de_Mayo|Buenos_Aires|NOT_GC|0\r\n",
      "BA004|DEL_VALLE|-35.9|-60.7275|Veinticinco_de_Mayo|Buenos_Aires|NOT_GC|0\r\n",
      "BA006|CARLOS_M_NAON|-35.2355|-60.8283|Nueve_de_Julio|Buenos_Aires|NOT_GC|0\r\n",
      "BA007|ADEMARCHI_(ESTQUIR|-35.2894|-61.3972|Nueve_de_Julio|Buenos_Aires|NOT_GC|0\r\n",
      "BA010|DUDIGNAC|-35.6458|-60.7036|Nueve_de_Julio|Buenos_Aires|NOT_GC|0\r\n",
      "BA013|RIVERA|-37.1577|-63.2363|Adolfo_Alsina|Buenos_Aires|NOT_GC|0\r\n"
     ]
    }
   ],
   "source": [
    "antennas_file = '/home/juan/mobility-study/argentina-scripts/data/celdas_limpio.csv'\n",
    "antennas = gl.SFrame.read_csv( antennas_file, delimiter='|', \n",
    "                                         header=True, skip_initial_space=True, \n",
    "                                         column_type_hints = [str,float, float, str, str, bool], \n",
    "                                         na_values=['NaN'],\n",
    "                                         usecols = ['CEL_ID','LATITUD',\n",
    "                                                    'LONGITUD','DEPARTAMENTO','PROVINCIA','EPIDEMIC'],  \n",
    "                                         error_bad_lines=False,\n",
    "                                         verbose = False\n",
    "                                        )\n",
    "!head $antennas_file"
   ]
  },
  {
   "cell_type": "code",
   "execution_count": null,
   "metadata": {
    "collapsed": true
   },
   "outputs": [],
   "source": []
  },
  {
   "cell_type": "code",
   "execution_count": 28,
   "metadata": {
    "collapsed": true
   },
   "outputs": [],
   "source": [
    "import pandas as pd; import numpy as np; import os;import random;\n",
    "import graphlab as gl\n",
    "pd.set_option('display.max_rows', 200)\n",
    "#esto es para dibujar directo a la notebook\n",
    "gl.canvas.set_target('ipynb')\n",
    "\n",
    "#from matplotlib import pyplot as plt\n",
    "#%matplotlib inline\n",
    "import time\n",
    "import os\n",
    "import datetime\n",
    "np.random.seed(2016)\n",
    "import subprocess\n",
    "\n",
    "#seteamos el lugar de trabajo\n",
    "rootdir=\"/home/juan/mobility-study/argentina-scripts\"\n",
    "os.chdir(rootdir)\n",
    "\n",
    "def get_input_file(year,month,day):\n",
    "    return rootdir +\"{y}/{m}/binaria_gsm_{y}{m:0=2d}{d:0=2d}.csv.gz\"\\\n",
    "                .format(y=year,m=month,d=day)\n",
    "\n",
    "def get_output_file(group = -1,sample=False):\n",
    "    output = \"/home/juan/mobility-study/argentina-scripts/output/user_antenna_mapping_sframe\"\n",
    "    if sample == True:\n",
    "        output = output + \"_sample_group{g}_1\".format(g=group)\n",
    "    if group != -1:\n",
    "        output = output + \"_group{g}_1\".format(g=group)\n",
    "    return output\n",
    "\n",
    "#from dictionary output the order list of most_used_antennas with their corresponding counts\n",
    "def get_columns_from_dict(user_dict):\n",
    "    antenna_count_list = [-1]*10\n",
    "    #por un problema de type consistency dentro de la listas que le meto al SFrame, aca los -1 tienen que ser strings\n",
    "    antenna_list = [\"-1\"]*10\n",
    "    sorted_user_dict = sorted(user_dict, key=user_dict.get, reverse=True)\n",
    "    for i,ant in enumerate(sorted_user_dict):\n",
    "        if(i>9):\n",
    "            break\n",
    "        antenna_count_list[i] = user_dict[ant]\n",
    "        antenna_list[i] =  ant\n",
    "            #print(user_dict)\n",
    "        #for other than the first case\n",
    "        if i==0:\n",
    "            continue\n",
    "        #random permutation of current and previous antenna in case of a count tie\n",
    "        if user_dict[sorted_user_dict[i-1]]==user_dict[ant]  and np.random.random() <= 0.5:\n",
    "            #add past antennas data to current\n",
    "            antenna_count_list[i] = antenna_count_list[i-1]\n",
    "            antenna_list[i] =  antenna_list[i-1]\n",
    "            ## add current data to past\n",
    "            antenna_count_list[i-1] = user_dict[ant]\n",
    "            antenna_list[i-1] =  ant\n",
    "    \n",
    "    rv = (antenna_list, antenna_count_list)\n",
    "    return rv\n",
    "\n",
    "def printUsage():\n",
    "    print \"Usage:\"\n",
    "    print \"python userAntennaMapping.py [mode]\"\n",
    "    print \"mode = 'true' to test out the algorithm on a sample of upto 7 days for a (random) particular month\"\n",
    "    print \"mode = 'false' to run it for all days/months\"\n"
   ]
  },
  {
   "cell_type": "code",
   "execution_count": 29,
   "metadata": {
    "collapsed": true
   },
   "outputs": [],
   "source": [
    "test = True\n",
    "\n",
    "#para leer solo un 10% de c/ dataset e ir operando ahi.\n",
    "if test:\n",
    "    nrows = 6*1e6"
   ]
  },
  {
   "cell_type": "code",
   "execution_count": 30,
   "metadata": {
    "collapsed": false
   },
   "outputs": [
    {
     "name": "stdout",
     "output_type": "stream",
     "text": [
      "test month is [2]\n",
      "we have this month 2 and these days [28 18  1 27 17 19  6]\n"
     ]
    }
   ],
   "source": [
    "start_time = time.time()\n",
    "\n",
    "\n",
    "#generamos el diccionario que setea los parametros sobre el cual vamos a iterar\n",
    "year = 2012\n",
    "ms = [11,12,1,2,3]\n",
    "if test:\n",
    "    ms = list(np.random.choice(ms,(1,)))\n",
    "    print('test month is %s' %str(ms))\n",
    "\n",
    "months = dict()\n",
    "\n",
    "for month in ms:\n",
    "        days = range(1,32)\n",
    "        #check november days length\n",
    "        if month ==11:\n",
    "            days = range(1,31)\n",
    "        #check february days length\n",
    "        if month ==2:\n",
    "            days = range(1,30)\n",
    "        #alterno el year para los meses que arrancan en enero\n",
    "        if month > 10:\n",
    "            year = 2011\n",
    "        #si es test elijo una tira de dias de random_length h/7\n",
    "        if test:\n",
    "            length = np.random.choice(range(1,8),(1,))[0]\n",
    "            days = np.random.choice(range(1,30),(length,),replace=False)\n",
    "\n",
    "        months[month] = {\"year\":year,\"days\":days}\n",
    "        #print(month,year)\n",
    "if test:\n",
    "    print('we have this month {m} and these days {ds}'.format(m = month,ds = str(days)))\n",
    "\n",
    "## we first check all the necessary sframe datasetes exist\n",
    "for month in months:\n",
    "    year = months[month]['year']\n",
    "    days = months[month]['days']\n",
    "    for day in days:\n",
    "        sframe_dir = '/home/juan/mobility-study/argentina-scripts/sframe_cdrs/{y}/{m:0=2d}/{d:0=2d}'.format(y=year,m=month,d=day)\n",
    "        if not(os.path.exists(sframe_dir)):\n",
    "            print(\"Unexistent sframe for {y}/{m:0=2d}/{d:0=2d}. Stopping the algorithm, get sframes\".format(y = year, m = month,d=day) ) "
   ]
  },
  {
   "cell_type": "code",
   "execution_count": 104,
   "metadata": {
    "collapsed": false,
    "scrolled": true
   },
   "outputs": [
    {
     "data": {
      "text/html": [
       "<div style=\"max-height:1000px;max-width:1500px;overflow:auto;\"><table frame=\"box\" rules=\"cols\">\n",
       "    <tr>\n",
       "        <th style=\"padding-left: 1em; padding-right: 1em; text-align: center\">USER</th>\n",
       "        <th style=\"padding-left: 1em; padding-right: 1em; text-align: center\">OTHER_USER</th>\n",
       "        <th style=\"padding-left: 1em; padding-right: 1em; text-align: center\">DIRECTION</th>\n",
       "        <th style=\"padding-left: 1em; padding-right: 1em; text-align: center\">CLIENT_CELL_ID</th>\n",
       "        <th style=\"padding-left: 1em; padding-right: 1em; text-align: center\">TIMESTAMP</th>\n",
       "        <th style=\"padding-left: 1em; padding-right: 1em; text-align: center\">DURING_WEEKEND</th>\n",
       "    </tr>\n",
       "    <tr>\n",
       "        <td style=\"padding-left: 1em; padding-right: 1em; text-align: center; vertical-align: top\">783258682B392B33376558363<br>14C4343784A345332773D3D ...</td>\n",
       "        <td style=\"padding-left: 1em; padding-right: 1em; text-align: center; vertical-align: top\">783258682B392B33376558363<br>14C4343784A345332773D3D ...</td>\n",
       "        <td style=\"padding-left: 1em; padding-right: 1em; text-align: center; vertical-align: top\">O</td>\n",
       "        <td style=\"padding-left: 1em; padding-right: 1em; text-align: center; vertical-align: top\">CTI 1</td>\n",
       "        <td style=\"padding-left: 1em; padding-right: 1em; text-align: center; vertical-align: top\">2011-12-26 21:50:24</td>\n",
       "        <td style=\"padding-left: 1em; padding-right: 1em; text-align: center; vertical-align: top\">0</td>\n",
       "    </tr>\n",
       "    <tr>\n",
       "        <td style=\"padding-left: 1em; padding-right: 1em; text-align: center; vertical-align: top\">4D4D344E6C42552B613272715<br>254596C332F354F69413D3D ...</td>\n",
       "        <td style=\"padding-left: 1em; padding-right: 1em; text-align: center; vertical-align: top\">33706576324147722B7530476<br>16A31762F55642B37773D3D ...</td>\n",
       "        <td style=\"padding-left: 1em; padding-right: 1em; text-align: center; vertical-align: top\">O</td>\n",
       "        <td style=\"padding-left: 1em; padding-right: 1em; text-align: center; vertical-align: top\">CTI 1</td>\n",
       "        <td style=\"padding-left: 1em; padding-right: 1em; text-align: center; vertical-align: top\">2011-12-26 18:24:13</td>\n",
       "        <td style=\"padding-left: 1em; padding-right: 1em; text-align: center; vertical-align: top\">0</td>\n",
       "    </tr>\n",
       "    <tr>\n",
       "        <td style=\"padding-left: 1em; padding-right: 1em; text-align: center; vertical-align: top\">4E6E4E316877754C7946374A5<br>1734473684869676C413D3D ...</td>\n",
       "        <td style=\"padding-left: 1em; padding-right: 1em; text-align: center; vertical-align: top\">645373534771415039344E584<br>9694163654D365261413D3D ...</td>\n",
       "        <td style=\"padding-left: 1em; padding-right: 1em; text-align: center; vertical-align: top\">O</td>\n",
       "        <td style=\"padding-left: 1em; padding-right: 1em; text-align: center; vertical-align: top\">CTI 1</td>\n",
       "        <td style=\"padding-left: 1em; padding-right: 1em; text-align: center; vertical-align: top\">2011-12-26 15:31:02</td>\n",
       "        <td style=\"padding-left: 1em; padding-right: 1em; text-align: center; vertical-align: top\">0</td>\n",
       "    </tr>\n",
       "    <tr>\n",
       "        <td style=\"padding-left: 1em; padding-right: 1em; text-align: center; vertical-align: top\">78554A4D52544E3070346E4A6<br>F474A66434D6A6753513D3D ...</td>\n",
       "        <td style=\"padding-left: 1em; padding-right: 1em; text-align: center; vertical-align: top\">554B304B6669625669626A586<br>14F6D382F7A4A564E413D3D ...</td>\n",
       "        <td style=\"padding-left: 1em; padding-right: 1em; text-align: center; vertical-align: top\">O</td>\n",
       "        <td style=\"padding-left: 1em; padding-right: 1em; text-align: center; vertical-align: top\">CTI 1</td>\n",
       "        <td style=\"padding-left: 1em; padding-right: 1em; text-align: center; vertical-align: top\">2011-12-26 15:03:26</td>\n",
       "        <td style=\"padding-left: 1em; padding-right: 1em; text-align: center; vertical-align: top\">0</td>\n",
       "    </tr>\n",
       "    <tr>\n",
       "        <td style=\"padding-left: 1em; padding-right: 1em; text-align: center; vertical-align: top\">4E74774A324A5063397743656<br>4336A597847654F30413D3D ...</td>\n",
       "        <td style=\"padding-left: 1em; padding-right: 1em; text-align: center; vertical-align: top\">417A4B7439496961445367503<br>94850467139455476673D3D ...</td>\n",
       "        <td style=\"padding-left: 1em; padding-right: 1em; text-align: center; vertical-align: top\">O</td>\n",
       "        <td style=\"padding-left: 1em; padding-right: 1em; text-align: center; vertical-align: top\">CTI 1</td>\n",
       "        <td style=\"padding-left: 1em; padding-right: 1em; text-align: center; vertical-align: top\">2011-12-26 20:21:36</td>\n",
       "        <td style=\"padding-left: 1em; padding-right: 1em; text-align: center; vertical-align: top\">0</td>\n",
       "    </tr>\n",
       "    <tr>\n",
       "        <td style=\"padding-left: 1em; padding-right: 1em; text-align: center; vertical-align: top\">7934544646773439324F32753<br>644734B2F376D3332773D3D ...</td>\n",
       "        <td style=\"padding-left: 1em; padding-right: 1em; text-align: center; vertical-align: top\">737A622F506364495A4139523<br>0475A68754137756B513D3D ...</td>\n",
       "        <td style=\"padding-left: 1em; padding-right: 1em; text-align: center; vertical-align: top\">O</td>\n",
       "        <td style=\"padding-left: 1em; padding-right: 1em; text-align: center; vertical-align: top\">CTI 1</td>\n",
       "        <td style=\"padding-left: 1em; padding-right: 1em; text-align: center; vertical-align: top\">2011-12-26 21:11:49</td>\n",
       "        <td style=\"padding-left: 1em; padding-right: 1em; text-align: center; vertical-align: top\">0</td>\n",
       "    </tr>\n",
       "    <tr>\n",
       "        <td style=\"padding-left: 1em; padding-right: 1em; text-align: center; vertical-align: top\">446C6B4F432F542B696476525<br>2726C30466B43736D773D3D ...</td>\n",
       "        <td style=\"padding-left: 1em; padding-right: 1em; text-align: center; vertical-align: top\">4C585258386350774F6E625A5<br>A4F43425339374C4E413D3D ...</td>\n",
       "        <td style=\"padding-left: 1em; padding-right: 1em; text-align: center; vertical-align: top\">O</td>\n",
       "        <td style=\"padding-left: 1em; padding-right: 1em; text-align: center; vertical-align: top\">CTI 1</td>\n",
       "        <td style=\"padding-left: 1em; padding-right: 1em; text-align: center; vertical-align: top\">2011-12-26 07:30:48</td>\n",
       "        <td style=\"padding-left: 1em; padding-right: 1em; text-align: center; vertical-align: top\">0</td>\n",
       "    </tr>\n",
       "    <tr>\n",
       "        <td style=\"padding-left: 1em; padding-right: 1em; text-align: center; vertical-align: top\">446C6B4F432F542B696476525<br>2726C30466B43736D773D3D ...</td>\n",
       "        <td style=\"padding-left: 1em; padding-right: 1em; text-align: center; vertical-align: top\">4C585258386350774F6E625A5<br>A4F43425339374C4E413D3D ...</td>\n",
       "        <td style=\"padding-left: 1em; padding-right: 1em; text-align: center; vertical-align: top\">O</td>\n",
       "        <td style=\"padding-left: 1em; padding-right: 1em; text-align: center; vertical-align: top\">CTI 1</td>\n",
       "        <td style=\"padding-left: 1em; padding-right: 1em; text-align: center; vertical-align: top\">2011-12-26 00:35:46</td>\n",
       "        <td style=\"padding-left: 1em; padding-right: 1em; text-align: center; vertical-align: top\">0</td>\n",
       "    </tr>\n",
       "    <tr>\n",
       "        <td style=\"padding-left: 1em; padding-right: 1em; text-align: center; vertical-align: top\">4A696A6154687473643076654<br>4576A624C31584B74773D3D ...</td>\n",
       "        <td style=\"padding-left: 1em; padding-right: 1em; text-align: center; vertical-align: top\">347A474A36467748316E6B447<br>62B3168716F41594E513D3D ...</td>\n",
       "        <td style=\"padding-left: 1em; padding-right: 1em; text-align: center; vertical-align: top\">O</td>\n",
       "        <td style=\"padding-left: 1em; padding-right: 1em; text-align: center; vertical-align: top\">CTI 4</td>\n",
       "        <td style=\"padding-left: 1em; padding-right: 1em; text-align: center; vertical-align: top\">2011-12-26 21:08:36</td>\n",
       "        <td style=\"padding-left: 1em; padding-right: 1em; text-align: center; vertical-align: top\">0</td>\n",
       "    </tr>\n",
       "    <tr>\n",
       "        <td style=\"padding-left: 1em; padding-right: 1em; text-align: center; vertical-align: top\">52395154774F6537706C6E6C5<br>36377675262513675513D3D ...</td>\n",
       "        <td style=\"padding-left: 1em; padding-right: 1em; text-align: center; vertical-align: top\">6D345261664C4D4A795553726<br>7524E49426247734F673D3D ...</td>\n",
       "        <td style=\"padding-left: 1em; padding-right: 1em; text-align: center; vertical-align: top\">O</td>\n",
       "        <td style=\"padding-left: 1em; padding-right: 1em; text-align: center; vertical-align: top\">CTI 1</td>\n",
       "        <td style=\"padding-left: 1em; padding-right: 1em; text-align: center; vertical-align: top\">2011-12-26 22:40:39</td>\n",
       "        <td style=\"padding-left: 1em; padding-right: 1em; text-align: center; vertical-align: top\">0</td>\n",
       "    </tr>\n",
       "</table>\n",
       "<table frame=\"box\" rules=\"cols\">\n",
       "    <tr>\n",
       "        <th style=\"padding-left: 1em; padding-right: 1em; text-align: center\">DURING_DAY</th>\n",
       "    </tr>\n",
       "    <tr>\n",
       "        <td style=\"padding-left: 1em; padding-right: 1em; text-align: center; vertical-align: top\">0</td>\n",
       "    </tr>\n",
       "    <tr>\n",
       "        <td style=\"padding-left: 1em; padding-right: 1em; text-align: center; vertical-align: top\">1</td>\n",
       "    </tr>\n",
       "    <tr>\n",
       "        <td style=\"padding-left: 1em; padding-right: 1em; text-align: center; vertical-align: top\">1</td>\n",
       "    </tr>\n",
       "    <tr>\n",
       "        <td style=\"padding-left: 1em; padding-right: 1em; text-align: center; vertical-align: top\">1</td>\n",
       "    </tr>\n",
       "    <tr>\n",
       "        <td style=\"padding-left: 1em; padding-right: 1em; text-align: center; vertical-align: top\">0</td>\n",
       "    </tr>\n",
       "    <tr>\n",
       "        <td style=\"padding-left: 1em; padding-right: 1em; text-align: center; vertical-align: top\">0</td>\n",
       "    </tr>\n",
       "    <tr>\n",
       "        <td style=\"padding-left: 1em; padding-right: 1em; text-align: center; vertical-align: top\">1</td>\n",
       "    </tr>\n",
       "    <tr>\n",
       "        <td style=\"padding-left: 1em; padding-right: 1em; text-align: center; vertical-align: top\">0</td>\n",
       "    </tr>\n",
       "    <tr>\n",
       "        <td style=\"padding-left: 1em; padding-right: 1em; text-align: center; vertical-align: top\">0</td>\n",
       "    </tr>\n",
       "    <tr>\n",
       "        <td style=\"padding-left: 1em; padding-right: 1em; text-align: center; vertical-align: top\">0</td>\n",
       "    </tr>\n",
       "</table>\n",
       "[10 rows x 7 columns]<br/>\n",
       "</div>"
      ],
      "text/plain": [
       "Columns:\n",
       "\tUSER\tstr\n",
       "\tOTHER_USER\tstr\n",
       "\tDIRECTION\tstr\n",
       "\tCLIENT_CELL_ID\tstr\n",
       "\tTIMESTAMP\tdatetime\n",
       "\tDURING_WEEKEND\tint\n",
       "\tDURING_DAY\tint\n",
       "\n",
       "Rows: 10\n",
       "\n",
       "Data:\n",
       "+-------------------------------+-------------------------------+-----------+\n",
       "|              USER             |           OTHER_USER          | DIRECTION |\n",
       "+-------------------------------+-------------------------------+-----------+\n",
       "| 783258682B392B333765583631... | 783258682B392B333765583631... |     O     |\n",
       "| 4D4D344E6C42552B6132727152... | 33706576324147722B75304761... |     O     |\n",
       "| 4E6E4E316877754C7946374A51... | 645373534771415039344E5849... |     O     |\n",
       "| 78554A4D52544E3070346E4A6F... | 554B304B6669625669626A5861... |     O     |\n",
       "| 4E74774A324A50633977436564... | 417A4B74394969614453675039... |     O     |\n",
       "| 7934544646773439324F327536... | 737A622F506364495A41395230... |     O     |\n",
       "| 446C6B4F432F542B6964765252... | 4C585258386350774F6E625A5A... |     O     |\n",
       "| 446C6B4F432F542B6964765252... | 4C585258386350774F6E625A5A... |     O     |\n",
       "| 4A696A61546874736430766544... | 347A474A36467748316E6B4476... |     O     |\n",
       "| 52395154774F6537706C6E6C53... | 6D345261664C4D4A7955537267... |     O     |\n",
       "+-------------------------------+-------------------------------+-----------+\n",
       "+----------------+---------------------+----------------+------------+\n",
       "| CLIENT_CELL_ID |      TIMESTAMP      | DURING_WEEKEND | DURING_DAY |\n",
       "+----------------+---------------------+----------------+------------+\n",
       "|     CTI 1      | 2011-12-26 21:50:24 |       0        |     0      |\n",
       "|     CTI 1      | 2011-12-26 18:24:13 |       0        |     1      |\n",
       "|     CTI 1      | 2011-12-26 15:31:02 |       0        |     1      |\n",
       "|     CTI 1      | 2011-12-26 15:03:26 |       0        |     1      |\n",
       "|     CTI 1      | 2011-12-26 20:21:36 |       0        |     0      |\n",
       "|     CTI 1      | 2011-12-26 21:11:49 |       0        |     0      |\n",
       "|     CTI 1      | 2011-12-26 07:30:48 |       0        |     1      |\n",
       "|     CTI 1      | 2011-12-26 00:35:46 |       0        |     0      |\n",
       "|     CTI 4      | 2011-12-26 21:08:36 |       0        |     0      |\n",
       "|     CTI 1      | 2011-12-26 22:40:39 |       0        |     0      |\n",
       "+----------------+---------------------+----------------+------------+\n",
       "[10 rows x 7 columns]"
      ]
     },
     "execution_count": 104,
     "metadata": {},
     "output_type": "execute_result"
    }
   ],
   "source": [
    "table.head()"
   ]
  },
  {
   "cell_type": "code",
   "execution_count": 31,
   "metadata": {
    "collapsed": false
   },
   "outputs": [
    {
     "name": "stdout",
     "output_type": "stream",
     "text": [
      "Read all Sframe dirs and append to one big table, time elapsed is 17.4628210068  localtime is 3:02\n",
      "working group number 3 of 10, time elapsed is 17.4632840157 \n",
      "\n",
      "(2012, 2, '[28 18  1 27 17 19  6]')\n",
      "Reading sframe file for day 28-2, time elapsed is 17.4684581757 localtime is 3:02 \n",
      "Reading sframe file for day 18-2, time elapsed is 219.267994165 localtime is 3:06 \n",
      "Reading sframe file for day 1-2, time elapsed is 390.746299028 localtime is 3:09 \n",
      "Reading sframe file for day 27-2, time elapsed is 583.23221302 localtime is 3:12 \n",
      "Reading sframe file for day 17-2, time elapsed is 726.121207952 localtime is 3:14 \n",
      "Reading sframe file for day 19-2, time elapsed is 911.606332064 localtime is 3:17 \n",
      "Reading sframe file for day 6-2, time elapsed is 1042.69546914 localtime is 3:20 \n",
      "finished day reading for group 3 of 10, time elapsed is 1237.869941 localtime is 3:20 \n"
     ]
    }
   ],
   "source": [
    "local_time = time.localtime()\n",
    "\n",
    "print(\"Read all Sframe dirs and append to one big table, time elapsed is {t}  localtime is {ho}:{mi:0=2d}\".format(t=(time.time()-start_time), ho = local_time.tm_hour , mi = local_time.tm_min ))\n",
    "\n",
    "#aca seteamos como vamos a partir la tabla segun el nro correspondiente a c/hash y tomando modulo\n",
    "passes = 10 \n",
    "\n",
    "#creo los grupos que despues van a filtrar c/chunk de la tabla para hacer varias pasadas\n",
    "group = 3\n",
    "\n",
    "local_time = time.localtime()\n",
    "print(\"working group number {it} of {pas}, time elapsed is {t} \\n\".format(it=group,pas=passes, t=(time.time()-start_time)))\n",
    "#itero sobre todos los day-months\n",
    "table =  gl.SFrame()\n",
    "\n",
    "for month in months:\n",
    "    year = months[month]['year']\n",
    "    days = months[month]['days']\n",
    "    print(year,month,str(days))\n",
    "    for day in days:\n",
    "        #si estoy \"reiniciando\" el algoritmo, chequeo que el output no exista ya\n",
    "        output_file = get_output_file(group=group)\n",
    "        #si es un test ni hago el check\n",
    "        if not(test) and (os.path.exists(output_file)):\n",
    "            print(\"skipping {m:0=2d}/{d:0=2d} since output_dir exists\".format(m=month,d=day) ) \n",
    "            continue\n",
    "\n",
    "        sframe_dir = '/home/juan/mobility-study/argentina-scripts/sframe_cdrs/{y}/{m:0=2d}/{d:0=2d}'.format(y=year,m=month,d=day)\n",
    "\n",
    "        local_time = time.localtime()\n",
    "        print(\"Reading sframe file for day {d}-{ms}, time elapsed is {t} localtime is {ho}:{mi:0=2d} \".\\\n",
    "              format(d=day,ms=month,t=(time.time()-start_time),ho=local_time.tm_hour,mi=local_time.tm_min))\n",
    "\n",
    "        daily_table = gl.load_sframe(sframe_dir)\n",
    "        daily_table.remove_columns(['OTHER_OPERATOR','DURATION'])\n",
    "        ## por el problema de las antenas invisibles tipo 'CTI 1', 'CTI 2', etc. voy a quedarme con las filas del CDR para \n",
    "        # el cual se exactamente el lat/long de c/ antenna.\n",
    "        daily_table['CLIENT_CELL_ID'] = daily_table['CLIENT_CELL_ID'].apply(lambda x: x[:-1] if len(x) ==6 else x)\n",
    "        daily_table = daily_table.filter_by(antennas['CEL_ID'],'CLIENT_CELL_ID')\n",
    "\n",
    "                \n",
    "        #obs. NO levanto la columna Fecha pues esta info la puedo sacar del filename\n",
    "        #current_date = datetime.datetime(year,month,day)\n",
    "\n",
    "        if test:\n",
    "            daily_table = daily_table.head(nrows)\n",
    "        #a cada tabla diaria filtro por todos los USERs por el hash del string (el hash es un int) y despue filtro modulo passes\n",
    "        #y trabajo sobre la tabla subgroup nada mas que ahora tiene menos usuarios\n",
    "        table = table.append(daily_table[daily_table['USER'].apply(lambda x: hash(x) % passes == group )])\n",
    "\n",
    "        del daily_table\n",
    "\n",
    "    #entonces la idea es que yo ahora solo voy a trabajar, dentro de esta tabla filtrada y para todos los dias del mes juntos\n",
    "\n",
    "print('finished day reading for group {g} of {p}, time elapsed is {t} localtime is {ho}:{mi:0=2d} '.format(g = group,\n",
    "                                    p = passes, t=(time.time()-start_time), ho=local_time.tm_hour,mi=local_time.tm_min))"
   ]
  },
  {
   "cell_type": "code",
   "execution_count": 32,
   "metadata": {
    "collapsed": false
   },
   "outputs": [
    {
     "data": {
      "text/plain": [
       "(4200750, 6)"
      ]
     },
     "execution_count": 32,
     "metadata": {},
     "output_type": "execute_result"
    }
   ],
   "source": [
    "table.shape"
   ]
  },
  {
   "cell_type": "code",
   "execution_count": 33,
   "metadata": {
    "collapsed": false
   },
   "outputs": [
    {
     "name": "stdout",
     "output_type": "stream",
     "text": [
      "CPU times: user 1min 5s, sys: 6.39 s, total: 1min 12s\n",
      "Wall time: 15.6 s\n"
     ]
    }
   ],
   "source": [
    "%%time\n",
    "table['TIMESTAMP'] = table['DATE','TIME'].apply(lambda x: x['DATE'][0:4]+'-'+x['DATE'][4:6]+'-'+x['DATE'][6:8]\n",
    "                                                +'-'+x['TIME'][0:2]+'-'+x['TIME'][2:4]+'-'+x['TIME'][4:6])\n",
    "\n",
    "table['TIMESTAMP'] = table['TIMESTAMP'].str_to_datetime(str_format='%Y-%m-%d-%H:%M:%S')\n",
    "\n",
    "#limpio la antenna hash, sacandome el ultimo caracter pues este no identifica la antenna sino que modifica el tipo de\n",
    "#llamado utilizado en esa call solamente\n",
    "#dropeo todas las celdas \n",
    "table =  table[table['CLIENT_CELL_ID'].apply(lambda x: len(x)>=5)]\n",
    "table['CLIENT_CELL_ID'] = table['CLIENT_CELL_ID'].apply(lambda x: x[:-1] if len(x) ==6 else x)\n",
    "\n",
    "table.remove_columns(['DATE','TIME'])\n",
    "\n",
    "## leo si las llamadas fueron hechas durante el findesemana \n",
    "table['DURING_WEEKEND'] = table['TIMESTAMP'].apply(lambda x: x.weekday()==5 or x.weekday()==6)\n",
    "\n",
    "# asigno el bool si la llamada fue en horario 'laboral' o DIURNO (cuando hay sol)\n",
    "#notar que la hora < 20 significa que 19hs y 59 min da True\n",
    "table['DURING_DAY']= table['TIMESTAMP'].apply(lambda x: x.hour>=5 and x.hour<20 )"
   ]
  },
  {
   "cell_type": "code",
   "execution_count": 93,
   "metadata": {
    "collapsed": false
   },
   "outputs": [
    {
     "name": "stdout",
     "output_type": "stream",
     "text": [
      "CPU times: user 23.4 s, sys: 4.1 s, total: 27.5 s\n",
      "Wall time: 12.2 s\n"
     ]
    }
   ],
   "source": [
    "%%time\n",
    "#me quedo con este pequenyo corte de la tabla\n",
    "table_weeknight = table[table['DURING_WEEKEND']==False and table['DURING_DAY']==False ]\n",
    "\n",
    "#hago el primer procesamiento aca\n",
    "table_weeknight = table_weeknight.groupby(['USER','CLIENT_CELL_ID'],\n",
    "                                                    {'ANTENNA_COUNT_WEEKNIGHT':gl.aggregate.COUNT()})\n",
    "\n",
    "table_weeknight = table_weeknight.groupby(['USER'],                                             {'ANTENNA_COUNT_DICT_WEEKNIGHT':gl.aggregate.CONCAT(\"CLIENT_CELL_ID\",\"ANTENNA_COUNT_WEEKNIGHT\")})\n",
    "\n",
    "table_weeknight['ANTENNA_ID_WEEKNIGHT'] = table_weeknight['ANTENNA_COUNT_DICT_WEEKNIGHT'].\\\n",
    "apply(lambda user: get_columns_from_dict(user))\n",
    "table_weeknight['COUNT_WEEKNIGHT'] = table_weeknight['ANTENNA_ID_WEEKNIGHT'].\\\n",
    "apply(lambda row: row[1])\n",
    "table_weeknight['ANTENNA_ID_WEEKNIGHT'] = table_weeknight['ANTENNA_ID_WEEKNIGHT'].\\\n",
    "apply(lambda row: row[0])\n",
    "table_weeknight = table_weeknight.unpack('ANTENNA_ID_WEEKNIGHT') \n",
    "table_weeknight = table_weeknight.unpack('COUNT_WEEKNIGHT') \n",
    "table_weeknight = table_weeknight.\\\n",
    "rename(dict([(col,col.replace(\".\",\"_\")) for col in table_weeknight.column_names() if (\".\" in col)]))\n",
    "\n",
    "## falta dropear el column dict nomas\n",
    "table_weeknight = table_weeknight.remove_column('ANTENNA_COUNT_DICT_WEEKNIGHT')"
   ]
  },
  {
   "cell_type": "code",
   "execution_count": null,
   "metadata": {
    "collapsed": true
   },
   "outputs": [],
   "source": [
    "#chequeo por las dudas que no este levantando antennas invisibles"
   ]
  },
  {
   "cell_type": "code",
   "execution_count": 34,
   "metadata": {
    "collapsed": false
   },
   "outputs": [],
   "source": [
    "test = table.filter_by([\"CTI \" + str(i) for i in range(1,10)], 'CLIENT_CELL_ID')\n",
    "print(table.shape, test.shape)\n",
    "print(table[table['CLIENT_CELL_ID']=='CTI 1'].shape)\n",
    "\n"
   ]
  },
  {
   "cell_type": "markdown",
   "metadata": {},
   "source": [
    "## Problema\n",
    "existen antennas tipo _CTI 1_ , _CTI 2_ , _CTI 3_ ,... que NO podemos encontrar en los dataset de antennas. Probamos con el dataset mas crudo llamado `celdas.csv` a ver si existen."
   ]
  },
  {
   "cell_type": "code",
   "execution_count": 127,
   "metadata": {
    "collapsed": false
   },
   "outputs": [
    {
     "name": "stdout",
     "output_type": "stream",
     "text": [
      "CEL_ID,CEL_DESCRIPTION,LATITUD,LONGITUD\r\n",
      "CO534D,CHATEAU - VILLA AGUR,-31.3703,-64.2403\r\n",
      "CO534F,CHATEAU - VILLA AGUR,-31.3703,-64.2403\r\n",
      "CO534X,CHATEAU - VILLA AGUR,-31.3703,-64.2403\r\n",
      "CO535A,BARRIO EL ROSEDAL,-31.4353,-64.2248\r\n",
      "CO535B,BARRIO EL ROSEDAL,-31.4353,-64.2248\r\n",
      "CO535C,BARRIO EL ROSEDAL,-31.4353,-64.2248\r\n",
      "CO535D,BARRIO EL ROSEDAL,-31.4353,-64.2248\r\n",
      "CO535E,BARRIO EL ROSEDAL,-31.4353,-64.2248\r\n",
      "CO535X,BARRIO EL ROSEDAL,-31.4353,-64.2248\r\n"
     ]
    }
   ],
   "source": [
    "antennas_raw_file = '/home/juan/mobility-study/argentina-scripts/data/celdas.csv'\n",
    "!head $antennas_raw_file"
   ]
  },
  {
   "cell_type": "code",
   "execution_count": 128,
   "metadata": {
    "collapsed": false
   },
   "outputs": [],
   "source": [
    "antennas_raw = gl.SFrame.read_csv( antennas_raw_file, delimiter=',', \n",
    "                                         header=True, skip_initial_space=True, \n",
    "                                         column_type_hints = [str,str,float, float], \n",
    "                                         na_values=['NaN'],\n",
    "                                         usecols = ['CEL_ID','CEL_DESCRIPTION','LATITUD',\n",
    "                                                    'LONGITUD'],  \n",
    "                                         error_bad_lines=False,\n",
    "                                         verbose = False\n",
    "                                        )\n"
   ]
  },
  {
   "cell_type": "code",
   "execution_count": 131,
   "metadata": {
    "collapsed": false
   },
   "outputs": [
    {
     "data": {
      "text/html": [
       "<div style=\"max-height:1000px;max-width:1500px;overflow:auto;\"><table frame=\"box\" rules=\"cols\">\n",
       "    <tr>\n",
       "        <th style=\"padding-left: 1em; padding-right: 1em; text-align: center\">CEL_ID</th>\n",
       "        <th style=\"padding-left: 1em; padding-right: 1em; text-align: center\">CEL_DESCRIPTION</th>\n",
       "        <th style=\"padding-left: 1em; padding-right: 1em; text-align: center\">LATITUD</th>\n",
       "        <th style=\"padding-left: 1em; padding-right: 1em; text-align: center\">LONGITUD</th>\n",
       "    </tr>\n",
       "</table>\n",
       "[0 rows x 4 columns]<br/>\n",
       "</div>"
      ],
      "text/plain": [
       "Columns:\n",
       "\tCEL_ID\tstr\n",
       "\tCEL_DESCRIPTION\tstr\n",
       "\tLATITUD\tfloat\n",
       "\tLONGITUD\tfloat\n",
       "\n",
       "Rows: 0\n",
       "\n",
       "Data:\n",
       "\t[]"
      ]
     },
     "execution_count": 131,
     "metadata": {},
     "output_type": "execute_result"
    }
   ],
   "source": [
    "antennas_raw.filter_by([\"CTI \" + str(i) for i in range(1,10)], 'CEL_ID')"
   ]
  },
  {
   "cell_type": "code",
   "execution_count": 107,
   "metadata": {
    "collapsed": false
   },
   "outputs": [
    {
     "data": {
      "text/html": [
       "<div style=\"max-height:1000px;max-width:1500px;overflow:auto;\"><table frame=\"box\" rules=\"cols\">\n",
       "    <tr>\n",
       "        <th style=\"padding-left: 1em; padding-right: 1em; text-align: center\">USER</th>\n",
       "        <th style=\"padding-left: 1em; padding-right: 1em; text-align: center\">ANTENNA_ID_WEEKNIGHT_0</th>\n",
       "        <th style=\"padding-left: 1em; padding-right: 1em; text-align: center\">ANTENNA_ID_WEEKNIGHT_1</th>\n",
       "        <th style=\"padding-left: 1em; padding-right: 1em; text-align: center\">ANTENNA_ID_WEEKNIGHT_2</th>\n",
       "        <th style=\"padding-left: 1em; padding-right: 1em; text-align: center\">ANTENNA_ID_WEEKNIGHT_3</th>\n",
       "    </tr>\n",
       "    <tr>\n",
       "        <td style=\"padding-left: 1em; padding-right: 1em; text-align: center; vertical-align: top\">6B5942786C376A595A7668697<br>44262764B2F4F4958773D3D ...</td>\n",
       "        <td style=\"padding-left: 1em; padding-right: 1em; text-align: center; vertical-align: top\">CTI 1</td>\n",
       "        <td style=\"padding-left: 1em; padding-right: 1em; text-align: center; vertical-align: top\">-1</td>\n",
       "        <td style=\"padding-left: 1em; padding-right: 1em; text-align: center; vertical-align: top\">-1</td>\n",
       "        <td style=\"padding-left: 1em; padding-right: 1em; text-align: center; vertical-align: top\">-1</td>\n",
       "    </tr>\n",
       "    <tr>\n",
       "        <td style=\"padding-left: 1em; padding-right: 1em; text-align: center; vertical-align: top\">456443396F4355306F3342433<br>1373054514C687637773D3D ...</td>\n",
       "        <td style=\"padding-left: 1em; padding-right: 1em; text-align: center; vertical-align: top\">CO224</td>\n",
       "        <td style=\"padding-left: 1em; padding-right: 1em; text-align: center; vertical-align: top\">CO133</td>\n",
       "        <td style=\"padding-left: 1em; padding-right: 1em; text-align: center; vertical-align: top\">CO214</td>\n",
       "        <td style=\"padding-left: 1em; padding-right: 1em; text-align: center; vertical-align: top\">CO273</td>\n",
       "    </tr>\n",
       "    <tr>\n",
       "        <td style=\"padding-left: 1em; padding-right: 1em; text-align: center; vertical-align: top\">6D48496A6E4E5A47656D5A526<br>66F4D59712F735052513D3D ...</td>\n",
       "        <td style=\"padding-left: 1em; padding-right: 1em; text-align: center; vertical-align: top\">SF932</td>\n",
       "        <td style=\"padding-left: 1em; padding-right: 1em; text-align: center; vertical-align: top\">SF964</td>\n",
       "        <td style=\"padding-left: 1em; padding-right: 1em; text-align: center; vertical-align: top\">SF815</td>\n",
       "        <td style=\"padding-left: 1em; padding-right: 1em; text-align: center; vertical-align: top\">-1</td>\n",
       "    </tr>\n",
       "    <tr>\n",
       "        <td style=\"padding-left: 1em; padding-right: 1em; text-align: center; vertical-align: top\">72397974764F344C777673564<br>44156725948537571673D3D ...</td>\n",
       "        <td style=\"padding-left: 1em; padding-right: 1em; text-align: center; vertical-align: top\">CTI 2</td>\n",
       "        <td style=\"padding-left: 1em; padding-right: 1em; text-align: center; vertical-align: top\">-1</td>\n",
       "        <td style=\"padding-left: 1em; padding-right: 1em; text-align: center; vertical-align: top\">-1</td>\n",
       "        <td style=\"padding-left: 1em; padding-right: 1em; text-align: center; vertical-align: top\">-1</td>\n",
       "    </tr>\n",
       "    <tr>\n",
       "        <td style=\"padding-left: 1em; padding-right: 1em; text-align: center; vertical-align: top\">65513831675976376E4330645<br>67279586E72684D32773D3D ...</td>\n",
       "        <td style=\"padding-left: 1em; padding-right: 1em; text-align: center; vertical-align: top\">CTI 2</td>\n",
       "        <td style=\"padding-left: 1em; padding-right: 1em; text-align: center; vertical-align: top\">-1</td>\n",
       "        <td style=\"padding-left: 1em; padding-right: 1em; text-align: center; vertical-align: top\">-1</td>\n",
       "        <td style=\"padding-left: 1em; padding-right: 1em; text-align: center; vertical-align: top\">-1</td>\n",
       "    </tr>\n",
       "    <tr>\n",
       "        <td style=\"padding-left: 1em; padding-right: 1em; text-align: center; vertical-align: top\">5447764B7A786E375353316B4<br>D43364E5769634B74513D3D ...</td>\n",
       "        <td style=\"padding-left: 1em; padding-right: 1em; text-align: center; vertical-align: top\">CO684</td>\n",
       "        <td style=\"padding-left: 1em; padding-right: 1em; text-align: center; vertical-align: top\">-1</td>\n",
       "        <td style=\"padding-left: 1em; padding-right: 1em; text-align: center; vertical-align: top\">-1</td>\n",
       "        <td style=\"padding-left: 1em; padding-right: 1em; text-align: center; vertical-align: top\">-1</td>\n",
       "    </tr>\n",
       "    <tr>\n",
       "        <td style=\"padding-left: 1em; padding-right: 1em; text-align: center; vertical-align: top\">584546704373325373414D6D4<br>472693635724A7734413D3D ...</td>\n",
       "        <td style=\"padding-left: 1em; padding-right: 1em; text-align: center; vertical-align: top\">CTI 2</td>\n",
       "        <td style=\"padding-left: 1em; padding-right: 1em; text-align: center; vertical-align: top\">-1</td>\n",
       "        <td style=\"padding-left: 1em; padding-right: 1em; text-align: center; vertical-align: top\">-1</td>\n",
       "        <td style=\"padding-left: 1em; padding-right: 1em; text-align: center; vertical-align: top\">-1</td>\n",
       "    </tr>\n",
       "    <tr>\n",
       "        <td style=\"padding-left: 1em; padding-right: 1em; text-align: center; vertical-align: top\">68444B6453652F444D45337A6<br>E6E66505A464E3243673D3D ...</td>\n",
       "        <td style=\"padding-left: 1em; padding-right: 1em; text-align: center; vertical-align: top\">C1890</td>\n",
       "        <td style=\"padding-left: 1em; padding-right: 1em; text-align: center; vertical-align: top\">-1</td>\n",
       "        <td style=\"padding-left: 1em; padding-right: 1em; text-align: center; vertical-align: top\">-1</td>\n",
       "        <td style=\"padding-left: 1em; padding-right: 1em; text-align: center; vertical-align: top\">-1</td>\n",
       "    </tr>\n",
       "    <tr>\n",
       "        <td style=\"padding-left: 1em; padding-right: 1em; text-align: center; vertical-align: top\">7046524C3961632F4F2B46494<br>5522F3076415A476F673D3D ...</td>\n",
       "        <td style=\"padding-left: 1em; padding-right: 1em; text-align: center; vertical-align: top\">CTI 1</td>\n",
       "        <td style=\"padding-left: 1em; padding-right: 1em; text-align: center; vertical-align: top\">-1</td>\n",
       "        <td style=\"padding-left: 1em; padding-right: 1em; text-align: center; vertical-align: top\">-1</td>\n",
       "        <td style=\"padding-left: 1em; padding-right: 1em; text-align: center; vertical-align: top\">-1</td>\n",
       "    </tr>\n",
       "    <tr>\n",
       "        <td style=\"padding-left: 1em; padding-right: 1em; text-align: center; vertical-align: top\">687746537A427154687564667<br>17374443143313046673D3D ...</td>\n",
       "        <td style=\"padding-left: 1em; padding-right: 1em; text-align: center; vertical-align: top\">CTI 2</td>\n",
       "        <td style=\"padding-left: 1em; padding-right: 1em; text-align: center; vertical-align: top\">-1</td>\n",
       "        <td style=\"padding-left: 1em; padding-right: 1em; text-align: center; vertical-align: top\">-1</td>\n",
       "        <td style=\"padding-left: 1em; padding-right: 1em; text-align: center; vertical-align: top\">-1</td>\n",
       "    </tr>\n",
       "</table>\n",
       "<table frame=\"box\" rules=\"cols\">\n",
       "    <tr>\n",
       "        <th style=\"padding-left: 1em; padding-right: 1em; text-align: center\">ANTENNA_ID_WEEKNIGHT_4</th>\n",
       "        <th style=\"padding-left: 1em; padding-right: 1em; text-align: center\">ANTENNA_ID_WEEKNIGHT_5</th>\n",
       "        <th style=\"padding-left: 1em; padding-right: 1em; text-align: center\">ANTENNA_ID_WEEKNIGHT_6</th>\n",
       "        <th style=\"padding-left: 1em; padding-right: 1em; text-align: center\">ANTENNA_ID_WEEKNIGHT_7</th>\n",
       "        <th style=\"padding-left: 1em; padding-right: 1em; text-align: center\">ANTENNA_ID_WEEKNIGHT_8</th>\n",
       "    </tr>\n",
       "    <tr>\n",
       "        <td style=\"padding-left: 1em; padding-right: 1em; text-align: center; vertical-align: top\">-1</td>\n",
       "        <td style=\"padding-left: 1em; padding-right: 1em; text-align: center; vertical-align: top\">-1</td>\n",
       "        <td style=\"padding-left: 1em; padding-right: 1em; text-align: center; vertical-align: top\">-1</td>\n",
       "        <td style=\"padding-left: 1em; padding-right: 1em; text-align: center; vertical-align: top\">-1</td>\n",
       "        <td style=\"padding-left: 1em; padding-right: 1em; text-align: center; vertical-align: top\">-1</td>\n",
       "    </tr>\n",
       "    <tr>\n",
       "        <td style=\"padding-left: 1em; padding-right: 1em; text-align: center; vertical-align: top\">-1</td>\n",
       "        <td style=\"padding-left: 1em; padding-right: 1em; text-align: center; vertical-align: top\">-1</td>\n",
       "        <td style=\"padding-left: 1em; padding-right: 1em; text-align: center; vertical-align: top\">-1</td>\n",
       "        <td style=\"padding-left: 1em; padding-right: 1em; text-align: center; vertical-align: top\">-1</td>\n",
       "        <td style=\"padding-left: 1em; padding-right: 1em; text-align: center; vertical-align: top\">-1</td>\n",
       "    </tr>\n",
       "    <tr>\n",
       "        <td style=\"padding-left: 1em; padding-right: 1em; text-align: center; vertical-align: top\">-1</td>\n",
       "        <td style=\"padding-left: 1em; padding-right: 1em; text-align: center; vertical-align: top\">-1</td>\n",
       "        <td style=\"padding-left: 1em; padding-right: 1em; text-align: center; vertical-align: top\">-1</td>\n",
       "        <td style=\"padding-left: 1em; padding-right: 1em; text-align: center; vertical-align: top\">-1</td>\n",
       "        <td style=\"padding-left: 1em; padding-right: 1em; text-align: center; vertical-align: top\">-1</td>\n",
       "    </tr>\n",
       "    <tr>\n",
       "        <td style=\"padding-left: 1em; padding-right: 1em; text-align: center; vertical-align: top\">-1</td>\n",
       "        <td style=\"padding-left: 1em; padding-right: 1em; text-align: center; vertical-align: top\">-1</td>\n",
       "        <td style=\"padding-left: 1em; padding-right: 1em; text-align: center; vertical-align: top\">-1</td>\n",
       "        <td style=\"padding-left: 1em; padding-right: 1em; text-align: center; vertical-align: top\">-1</td>\n",
       "        <td style=\"padding-left: 1em; padding-right: 1em; text-align: center; vertical-align: top\">-1</td>\n",
       "    </tr>\n",
       "    <tr>\n",
       "        <td style=\"padding-left: 1em; padding-right: 1em; text-align: center; vertical-align: top\">-1</td>\n",
       "        <td style=\"padding-left: 1em; padding-right: 1em; text-align: center; vertical-align: top\">-1</td>\n",
       "        <td style=\"padding-left: 1em; padding-right: 1em; text-align: center; vertical-align: top\">-1</td>\n",
       "        <td style=\"padding-left: 1em; padding-right: 1em; text-align: center; vertical-align: top\">-1</td>\n",
       "        <td style=\"padding-left: 1em; padding-right: 1em; text-align: center; vertical-align: top\">-1</td>\n",
       "    </tr>\n",
       "    <tr>\n",
       "        <td style=\"padding-left: 1em; padding-right: 1em; text-align: center; vertical-align: top\">-1</td>\n",
       "        <td style=\"padding-left: 1em; padding-right: 1em; text-align: center; vertical-align: top\">-1</td>\n",
       "        <td style=\"padding-left: 1em; padding-right: 1em; text-align: center; vertical-align: top\">-1</td>\n",
       "        <td style=\"padding-left: 1em; padding-right: 1em; text-align: center; vertical-align: top\">-1</td>\n",
       "        <td style=\"padding-left: 1em; padding-right: 1em; text-align: center; vertical-align: top\">-1</td>\n",
       "    </tr>\n",
       "    <tr>\n",
       "        <td style=\"padding-left: 1em; padding-right: 1em; text-align: center; vertical-align: top\">-1</td>\n",
       "        <td style=\"padding-left: 1em; padding-right: 1em; text-align: center; vertical-align: top\">-1</td>\n",
       "        <td style=\"padding-left: 1em; padding-right: 1em; text-align: center; vertical-align: top\">-1</td>\n",
       "        <td style=\"padding-left: 1em; padding-right: 1em; text-align: center; vertical-align: top\">-1</td>\n",
       "        <td style=\"padding-left: 1em; padding-right: 1em; text-align: center; vertical-align: top\">-1</td>\n",
       "    </tr>\n",
       "    <tr>\n",
       "        <td style=\"padding-left: 1em; padding-right: 1em; text-align: center; vertical-align: top\">-1</td>\n",
       "        <td style=\"padding-left: 1em; padding-right: 1em; text-align: center; vertical-align: top\">-1</td>\n",
       "        <td style=\"padding-left: 1em; padding-right: 1em; text-align: center; vertical-align: top\">-1</td>\n",
       "        <td style=\"padding-left: 1em; padding-right: 1em; text-align: center; vertical-align: top\">-1</td>\n",
       "        <td style=\"padding-left: 1em; padding-right: 1em; text-align: center; vertical-align: top\">-1</td>\n",
       "    </tr>\n",
       "    <tr>\n",
       "        <td style=\"padding-left: 1em; padding-right: 1em; text-align: center; vertical-align: top\">-1</td>\n",
       "        <td style=\"padding-left: 1em; padding-right: 1em; text-align: center; vertical-align: top\">-1</td>\n",
       "        <td style=\"padding-left: 1em; padding-right: 1em; text-align: center; vertical-align: top\">-1</td>\n",
       "        <td style=\"padding-left: 1em; padding-right: 1em; text-align: center; vertical-align: top\">-1</td>\n",
       "        <td style=\"padding-left: 1em; padding-right: 1em; text-align: center; vertical-align: top\">-1</td>\n",
       "    </tr>\n",
       "    <tr>\n",
       "        <td style=\"padding-left: 1em; padding-right: 1em; text-align: center; vertical-align: top\">-1</td>\n",
       "        <td style=\"padding-left: 1em; padding-right: 1em; text-align: center; vertical-align: top\">-1</td>\n",
       "        <td style=\"padding-left: 1em; padding-right: 1em; text-align: center; vertical-align: top\">-1</td>\n",
       "        <td style=\"padding-left: 1em; padding-right: 1em; text-align: center; vertical-align: top\">-1</td>\n",
       "        <td style=\"padding-left: 1em; padding-right: 1em; text-align: center; vertical-align: top\">-1</td>\n",
       "    </tr>\n",
       "</table>\n",
       "<table frame=\"box\" rules=\"cols\">\n",
       "    <tr>\n",
       "        <th style=\"padding-left: 1em; padding-right: 1em; text-align: center\">ANTENNA_ID_WEEKNIGHT_9</th>\n",
       "        <th style=\"padding-left: 1em; padding-right: 1em; text-align: center\">COUNT_WEEKNIGHT_0</th>\n",
       "        <th style=\"padding-left: 1em; padding-right: 1em; text-align: center\">COUNT_WEEKNIGHT_1</th>\n",
       "        <th style=\"padding-left: 1em; padding-right: 1em; text-align: center\">COUNT_WEEKNIGHT_2</th>\n",
       "        <th style=\"padding-left: 1em; padding-right: 1em; text-align: center\">COUNT_WEEKNIGHT_3</th>\n",
       "        <th style=\"padding-left: 1em; padding-right: 1em; text-align: center\">COUNT_WEEKNIGHT_4</th>\n",
       "    </tr>\n",
       "    <tr>\n",
       "        <td style=\"padding-left: 1em; padding-right: 1em; text-align: center; vertical-align: top\">-1</td>\n",
       "        <td style=\"padding-left: 1em; padding-right: 1em; text-align: center; vertical-align: top\">1.0</td>\n",
       "        <td style=\"padding-left: 1em; padding-right: 1em; text-align: center; vertical-align: top\">-1.0</td>\n",
       "        <td style=\"padding-left: 1em; padding-right: 1em; text-align: center; vertical-align: top\">-1.0</td>\n",
       "        <td style=\"padding-left: 1em; padding-right: 1em; text-align: center; vertical-align: top\">-1.0</td>\n",
       "        <td style=\"padding-left: 1em; padding-right: 1em; text-align: center; vertical-align: top\">-1.0</td>\n",
       "    </tr>\n",
       "    <tr>\n",
       "        <td style=\"padding-left: 1em; padding-right: 1em; text-align: center; vertical-align: top\">-1</td>\n",
       "        <td style=\"padding-left: 1em; padding-right: 1em; text-align: center; vertical-align: top\">6.0</td>\n",
       "        <td style=\"padding-left: 1em; padding-right: 1em; text-align: center; vertical-align: top\">1.0</td>\n",
       "        <td style=\"padding-left: 1em; padding-right: 1em; text-align: center; vertical-align: top\">1.0</td>\n",
       "        <td style=\"padding-left: 1em; padding-right: 1em; text-align: center; vertical-align: top\">1.0</td>\n",
       "        <td style=\"padding-left: 1em; padding-right: 1em; text-align: center; vertical-align: top\">-1.0</td>\n",
       "    </tr>\n",
       "    <tr>\n",
       "        <td style=\"padding-left: 1em; padding-right: 1em; text-align: center; vertical-align: top\">-1</td>\n",
       "        <td style=\"padding-left: 1em; padding-right: 1em; text-align: center; vertical-align: top\">2.0</td>\n",
       "        <td style=\"padding-left: 1em; padding-right: 1em; text-align: center; vertical-align: top\">2.0</td>\n",
       "        <td style=\"padding-left: 1em; padding-right: 1em; text-align: center; vertical-align: top\">1.0</td>\n",
       "        <td style=\"padding-left: 1em; padding-right: 1em; text-align: center; vertical-align: top\">-1.0</td>\n",
       "        <td style=\"padding-left: 1em; padding-right: 1em; text-align: center; vertical-align: top\">-1.0</td>\n",
       "    </tr>\n",
       "    <tr>\n",
       "        <td style=\"padding-left: 1em; padding-right: 1em; text-align: center; vertical-align: top\">-1</td>\n",
       "        <td style=\"padding-left: 1em; padding-right: 1em; text-align: center; vertical-align: top\">1.0</td>\n",
       "        <td style=\"padding-left: 1em; padding-right: 1em; text-align: center; vertical-align: top\">-1.0</td>\n",
       "        <td style=\"padding-left: 1em; padding-right: 1em; text-align: center; vertical-align: top\">-1.0</td>\n",
       "        <td style=\"padding-left: 1em; padding-right: 1em; text-align: center; vertical-align: top\">-1.0</td>\n",
       "        <td style=\"padding-left: 1em; padding-right: 1em; text-align: center; vertical-align: top\">-1.0</td>\n",
       "    </tr>\n",
       "    <tr>\n",
       "        <td style=\"padding-left: 1em; padding-right: 1em; text-align: center; vertical-align: top\">-1</td>\n",
       "        <td style=\"padding-left: 1em; padding-right: 1em; text-align: center; vertical-align: top\">5.0</td>\n",
       "        <td style=\"padding-left: 1em; padding-right: 1em; text-align: center; vertical-align: top\">-1.0</td>\n",
       "        <td style=\"padding-left: 1em; padding-right: 1em; text-align: center; vertical-align: top\">-1.0</td>\n",
       "        <td style=\"padding-left: 1em; padding-right: 1em; text-align: center; vertical-align: top\">-1.0</td>\n",
       "        <td style=\"padding-left: 1em; padding-right: 1em; text-align: center; vertical-align: top\">-1.0</td>\n",
       "    </tr>\n",
       "    <tr>\n",
       "        <td style=\"padding-left: 1em; padding-right: 1em; text-align: center; vertical-align: top\">-1</td>\n",
       "        <td style=\"padding-left: 1em; padding-right: 1em; text-align: center; vertical-align: top\">2.0</td>\n",
       "        <td style=\"padding-left: 1em; padding-right: 1em; text-align: center; vertical-align: top\">-1.0</td>\n",
       "        <td style=\"padding-left: 1em; padding-right: 1em; text-align: center; vertical-align: top\">-1.0</td>\n",
       "        <td style=\"padding-left: 1em; padding-right: 1em; text-align: center; vertical-align: top\">-1.0</td>\n",
       "        <td style=\"padding-left: 1em; padding-right: 1em; text-align: center; vertical-align: top\">-1.0</td>\n",
       "    </tr>\n",
       "    <tr>\n",
       "        <td style=\"padding-left: 1em; padding-right: 1em; text-align: center; vertical-align: top\">-1</td>\n",
       "        <td style=\"padding-left: 1em; padding-right: 1em; text-align: center; vertical-align: top\">1.0</td>\n",
       "        <td style=\"padding-left: 1em; padding-right: 1em; text-align: center; vertical-align: top\">-1.0</td>\n",
       "        <td style=\"padding-left: 1em; padding-right: 1em; text-align: center; vertical-align: top\">-1.0</td>\n",
       "        <td style=\"padding-left: 1em; padding-right: 1em; text-align: center; vertical-align: top\">-1.0</td>\n",
       "        <td style=\"padding-left: 1em; padding-right: 1em; text-align: center; vertical-align: top\">-1.0</td>\n",
       "    </tr>\n",
       "    <tr>\n",
       "        <td style=\"padding-left: 1em; padding-right: 1em; text-align: center; vertical-align: top\">-1</td>\n",
       "        <td style=\"padding-left: 1em; padding-right: 1em; text-align: center; vertical-align: top\">1.0</td>\n",
       "        <td style=\"padding-left: 1em; padding-right: 1em; text-align: center; vertical-align: top\">-1.0</td>\n",
       "        <td style=\"padding-left: 1em; padding-right: 1em; text-align: center; vertical-align: top\">-1.0</td>\n",
       "        <td style=\"padding-left: 1em; padding-right: 1em; text-align: center; vertical-align: top\">-1.0</td>\n",
       "        <td style=\"padding-left: 1em; padding-right: 1em; text-align: center; vertical-align: top\">-1.0</td>\n",
       "    </tr>\n",
       "    <tr>\n",
       "        <td style=\"padding-left: 1em; padding-right: 1em; text-align: center; vertical-align: top\">-1</td>\n",
       "        <td style=\"padding-left: 1em; padding-right: 1em; text-align: center; vertical-align: top\">1.0</td>\n",
       "        <td style=\"padding-left: 1em; padding-right: 1em; text-align: center; vertical-align: top\">-1.0</td>\n",
       "        <td style=\"padding-left: 1em; padding-right: 1em; text-align: center; vertical-align: top\">-1.0</td>\n",
       "        <td style=\"padding-left: 1em; padding-right: 1em; text-align: center; vertical-align: top\">-1.0</td>\n",
       "        <td style=\"padding-left: 1em; padding-right: 1em; text-align: center; vertical-align: top\">-1.0</td>\n",
       "    </tr>\n",
       "    <tr>\n",
       "        <td style=\"padding-left: 1em; padding-right: 1em; text-align: center; vertical-align: top\">-1</td>\n",
       "        <td style=\"padding-left: 1em; padding-right: 1em; text-align: center; vertical-align: top\">2.0</td>\n",
       "        <td style=\"padding-left: 1em; padding-right: 1em; text-align: center; vertical-align: top\">-1.0</td>\n",
       "        <td style=\"padding-left: 1em; padding-right: 1em; text-align: center; vertical-align: top\">-1.0</td>\n",
       "        <td style=\"padding-left: 1em; padding-right: 1em; text-align: center; vertical-align: top\">-1.0</td>\n",
       "        <td style=\"padding-left: 1em; padding-right: 1em; text-align: center; vertical-align: top\">-1.0</td>\n",
       "    </tr>\n",
       "</table>\n",
       "<table frame=\"box\" rules=\"cols\">\n",
       "    <tr>\n",
       "        <th style=\"padding-left: 1em; padding-right: 1em; text-align: center\">COUNT_WEEKNIGHT_5</th>\n",
       "        <th style=\"padding-left: 1em; padding-right: 1em; text-align: center\">COUNT_WEEKNIGHT_6</th>\n",
       "        <th style=\"padding-left: 1em; padding-right: 1em; text-align: center\">COUNT_WEEKNIGHT_7</th>\n",
       "        <th style=\"padding-left: 1em; padding-right: 1em; text-align: center\">COUNT_WEEKNIGHT_8</th>\n",
       "        <th style=\"padding-left: 1em; padding-right: 1em; text-align: center\">COUNT_WEEKNIGHT_9</th>\n",
       "    </tr>\n",
       "    <tr>\n",
       "        <td style=\"padding-left: 1em; padding-right: 1em; text-align: center; vertical-align: top\">-1.0</td>\n",
       "        <td style=\"padding-left: 1em; padding-right: 1em; text-align: center; vertical-align: top\">-1.0</td>\n",
       "        <td style=\"padding-left: 1em; padding-right: 1em; text-align: center; vertical-align: top\">-1.0</td>\n",
       "        <td style=\"padding-left: 1em; padding-right: 1em; text-align: center; vertical-align: top\">-1.0</td>\n",
       "        <td style=\"padding-left: 1em; padding-right: 1em; text-align: center; vertical-align: top\">-1.0</td>\n",
       "    </tr>\n",
       "    <tr>\n",
       "        <td style=\"padding-left: 1em; padding-right: 1em; text-align: center; vertical-align: top\">-1.0</td>\n",
       "        <td style=\"padding-left: 1em; padding-right: 1em; text-align: center; vertical-align: top\">-1.0</td>\n",
       "        <td style=\"padding-left: 1em; padding-right: 1em; text-align: center; vertical-align: top\">-1.0</td>\n",
       "        <td style=\"padding-left: 1em; padding-right: 1em; text-align: center; vertical-align: top\">-1.0</td>\n",
       "        <td style=\"padding-left: 1em; padding-right: 1em; text-align: center; vertical-align: top\">-1.0</td>\n",
       "    </tr>\n",
       "    <tr>\n",
       "        <td style=\"padding-left: 1em; padding-right: 1em; text-align: center; vertical-align: top\">-1.0</td>\n",
       "        <td style=\"padding-left: 1em; padding-right: 1em; text-align: center; vertical-align: top\">-1.0</td>\n",
       "        <td style=\"padding-left: 1em; padding-right: 1em; text-align: center; vertical-align: top\">-1.0</td>\n",
       "        <td style=\"padding-left: 1em; padding-right: 1em; text-align: center; vertical-align: top\">-1.0</td>\n",
       "        <td style=\"padding-left: 1em; padding-right: 1em; text-align: center; vertical-align: top\">-1.0</td>\n",
       "    </tr>\n",
       "    <tr>\n",
       "        <td style=\"padding-left: 1em; padding-right: 1em; text-align: center; vertical-align: top\">-1.0</td>\n",
       "        <td style=\"padding-left: 1em; padding-right: 1em; text-align: center; vertical-align: top\">-1.0</td>\n",
       "        <td style=\"padding-left: 1em; padding-right: 1em; text-align: center; vertical-align: top\">-1.0</td>\n",
       "        <td style=\"padding-left: 1em; padding-right: 1em; text-align: center; vertical-align: top\">-1.0</td>\n",
       "        <td style=\"padding-left: 1em; padding-right: 1em; text-align: center; vertical-align: top\">-1.0</td>\n",
       "    </tr>\n",
       "    <tr>\n",
       "        <td style=\"padding-left: 1em; padding-right: 1em; text-align: center; vertical-align: top\">-1.0</td>\n",
       "        <td style=\"padding-left: 1em; padding-right: 1em; text-align: center; vertical-align: top\">-1.0</td>\n",
       "        <td style=\"padding-left: 1em; padding-right: 1em; text-align: center; vertical-align: top\">-1.0</td>\n",
       "        <td style=\"padding-left: 1em; padding-right: 1em; text-align: center; vertical-align: top\">-1.0</td>\n",
       "        <td style=\"padding-left: 1em; padding-right: 1em; text-align: center; vertical-align: top\">-1.0</td>\n",
       "    </tr>\n",
       "    <tr>\n",
       "        <td style=\"padding-left: 1em; padding-right: 1em; text-align: center; vertical-align: top\">-1.0</td>\n",
       "        <td style=\"padding-left: 1em; padding-right: 1em; text-align: center; vertical-align: top\">-1.0</td>\n",
       "        <td style=\"padding-left: 1em; padding-right: 1em; text-align: center; vertical-align: top\">-1.0</td>\n",
       "        <td style=\"padding-left: 1em; padding-right: 1em; text-align: center; vertical-align: top\">-1.0</td>\n",
       "        <td style=\"padding-left: 1em; padding-right: 1em; text-align: center; vertical-align: top\">-1.0</td>\n",
       "    </tr>\n",
       "    <tr>\n",
       "        <td style=\"padding-left: 1em; padding-right: 1em; text-align: center; vertical-align: top\">-1.0</td>\n",
       "        <td style=\"padding-left: 1em; padding-right: 1em; text-align: center; vertical-align: top\">-1.0</td>\n",
       "        <td style=\"padding-left: 1em; padding-right: 1em; text-align: center; vertical-align: top\">-1.0</td>\n",
       "        <td style=\"padding-left: 1em; padding-right: 1em; text-align: center; vertical-align: top\">-1.0</td>\n",
       "        <td style=\"padding-left: 1em; padding-right: 1em; text-align: center; vertical-align: top\">-1.0</td>\n",
       "    </tr>\n",
       "    <tr>\n",
       "        <td style=\"padding-left: 1em; padding-right: 1em; text-align: center; vertical-align: top\">-1.0</td>\n",
       "        <td style=\"padding-left: 1em; padding-right: 1em; text-align: center; vertical-align: top\">-1.0</td>\n",
       "        <td style=\"padding-left: 1em; padding-right: 1em; text-align: center; vertical-align: top\">-1.0</td>\n",
       "        <td style=\"padding-left: 1em; padding-right: 1em; text-align: center; vertical-align: top\">-1.0</td>\n",
       "        <td style=\"padding-left: 1em; padding-right: 1em; text-align: center; vertical-align: top\">-1.0</td>\n",
       "    </tr>\n",
       "    <tr>\n",
       "        <td style=\"padding-left: 1em; padding-right: 1em; text-align: center; vertical-align: top\">-1.0</td>\n",
       "        <td style=\"padding-left: 1em; padding-right: 1em; text-align: center; vertical-align: top\">-1.0</td>\n",
       "        <td style=\"padding-left: 1em; padding-right: 1em; text-align: center; vertical-align: top\">-1.0</td>\n",
       "        <td style=\"padding-left: 1em; padding-right: 1em; text-align: center; vertical-align: top\">-1.0</td>\n",
       "        <td style=\"padding-left: 1em; padding-right: 1em; text-align: center; vertical-align: top\">-1.0</td>\n",
       "    </tr>\n",
       "    <tr>\n",
       "        <td style=\"padding-left: 1em; padding-right: 1em; text-align: center; vertical-align: top\">-1.0</td>\n",
       "        <td style=\"padding-left: 1em; padding-right: 1em; text-align: center; vertical-align: top\">-1.0</td>\n",
       "        <td style=\"padding-left: 1em; padding-right: 1em; text-align: center; vertical-align: top\">-1.0</td>\n",
       "        <td style=\"padding-left: 1em; padding-right: 1em; text-align: center; vertical-align: top\">-1.0</td>\n",
       "        <td style=\"padding-left: 1em; padding-right: 1em; text-align: center; vertical-align: top\">-1.0</td>\n",
       "    </tr>\n",
       "</table>\n",
       "[? rows x 21 columns]<br/>Note: Only the head of the SFrame is printed. This SFrame is lazily evaluated.<br/>You can use len(sf) to force materialization.\n",
       "</div>"
      ],
      "text/plain": [
       "Columns:\n",
       "\tUSER\tstr\n",
       "\tANTENNA_ID_WEEKNIGHT_0\tstr\n",
       "\tANTENNA_ID_WEEKNIGHT_1\tstr\n",
       "\tANTENNA_ID_WEEKNIGHT_2\tstr\n",
       "\tANTENNA_ID_WEEKNIGHT_3\tstr\n",
       "\tANTENNA_ID_WEEKNIGHT_4\tstr\n",
       "\tANTENNA_ID_WEEKNIGHT_5\tstr\n",
       "\tANTENNA_ID_WEEKNIGHT_6\tstr\n",
       "\tANTENNA_ID_WEEKNIGHT_7\tstr\n",
       "\tANTENNA_ID_WEEKNIGHT_8\tstr\n",
       "\tANTENNA_ID_WEEKNIGHT_9\tstr\n",
       "\tCOUNT_WEEKNIGHT_0\tfloat\n",
       "\tCOUNT_WEEKNIGHT_1\tfloat\n",
       "\tCOUNT_WEEKNIGHT_2\tfloat\n",
       "\tCOUNT_WEEKNIGHT_3\tfloat\n",
       "\tCOUNT_WEEKNIGHT_4\tfloat\n",
       "\tCOUNT_WEEKNIGHT_5\tfloat\n",
       "\tCOUNT_WEEKNIGHT_6\tfloat\n",
       "\tCOUNT_WEEKNIGHT_7\tfloat\n",
       "\tCOUNT_WEEKNIGHT_8\tfloat\n",
       "\tCOUNT_WEEKNIGHT_9\tfloat\n",
       "\n",
       "Rows: Unknown\n",
       "\n",
       "Data:\n",
       "+-------------------------------+------------------------+------------------------+\n",
       "|              USER             | ANTENNA_ID_WEEKNIGHT_0 | ANTENNA_ID_WEEKNIGHT_1 |\n",
       "+-------------------------------+------------------------+------------------------+\n",
       "| 6B5942786C376A595A76686974... |         CTI 1          |           -1           |\n",
       "| 456443396F4355306F33424331... |         CO224          |         CO133          |\n",
       "| 6D48496A6E4E5A47656D5A5266... |         SF932          |         SF964          |\n",
       "| 72397974764F344C7776735644... |         CTI 2          |           -1           |\n",
       "| 65513831675976376E43306456... |         CTI 2          |           -1           |\n",
       "| 5447764B7A786E375353316B4D... |         CO684          |           -1           |\n",
       "| 584546704373325373414D6D44... |         CTI 2          |           -1           |\n",
       "| 68444B6453652F444D45337A6E... |         C1890          |           -1           |\n",
       "| 7046524C3961632F4F2B464945... |         CTI 1          |           -1           |\n",
       "| 687746537A4271546875646671... |         CTI 2          |           -1           |\n",
       "+-------------------------------+------------------------+------------------------+\n",
       "+------------------------+------------------------+------------------------+------------------------+\n",
       "| ANTENNA_ID_WEEKNIGHT_2 | ANTENNA_ID_WEEKNIGHT_3 | ANTENNA_ID_WEEKNIGHT_4 | ANTENNA_ID_WEEKNIGHT_5 |\n",
       "+------------------------+------------------------+------------------------+------------------------+\n",
       "|           -1           |           -1           |           -1           |           -1           |\n",
       "|         CO273          |         CO214          |           -1           |           -1           |\n",
       "|         SF815          |           -1           |           -1           |           -1           |\n",
       "|           -1           |           -1           |           -1           |           -1           |\n",
       "|           -1           |           -1           |           -1           |           -1           |\n",
       "|           -1           |           -1           |           -1           |           -1           |\n",
       "|           -1           |           -1           |           -1           |           -1           |\n",
       "|           -1           |           -1           |           -1           |           -1           |\n",
       "|           -1           |           -1           |           -1           |           -1           |\n",
       "|           -1           |           -1           |           -1           |           -1           |\n",
       "+------------------------+------------------------+------------------------+------------------------+\n",
       "+------------------------+------------------------+------------------------+------------------------+\n",
       "| ANTENNA_ID_WEEKNIGHT_6 | ANTENNA_ID_WEEKNIGHT_7 | ANTENNA_ID_WEEKNIGHT_8 | ANTENNA_ID_WEEKNIGHT_9 |\n",
       "+------------------------+------------------------+------------------------+------------------------+\n",
       "|           -1           |           -1           |           -1           |           -1           |\n",
       "|           -1           |           -1           |           -1           |           -1           |\n",
       "|           -1           |           -1           |           -1           |           -1           |\n",
       "|           -1           |           -1           |           -1           |           -1           |\n",
       "|           -1           |           -1           |           -1           |           -1           |\n",
       "|           -1           |           -1           |           -1           |           -1           |\n",
       "|           -1           |           -1           |           -1           |           -1           |\n",
       "|           -1           |           -1           |           -1           |           -1           |\n",
       "|           -1           |           -1           |           -1           |           -1           |\n",
       "|           -1           |           -1           |           -1           |           -1           |\n",
       "+------------------------+------------------------+------------------------+------------------------+\n",
       "+-------------------+-------------------+-------------------+-------------------+\n",
       "| COUNT_WEEKNIGHT_0 | COUNT_WEEKNIGHT_1 | COUNT_WEEKNIGHT_2 | COUNT_WEEKNIGHT_3 |\n",
       "+-------------------+-------------------+-------------------+-------------------+\n",
       "|        1.0        |        -1.0       |        -1.0       |        -1.0       |\n",
       "|        6.0        |        1.0        |        1.0        |        1.0        |\n",
       "|        2.0        |        2.0        |        1.0        |        -1.0       |\n",
       "|        1.0        |        -1.0       |        -1.0       |        -1.0       |\n",
       "|        5.0        |        -1.0       |        -1.0       |        -1.0       |\n",
       "|        2.0        |        -1.0       |        -1.0       |        -1.0       |\n",
       "|        1.0        |        -1.0       |        -1.0       |        -1.0       |\n",
       "|        1.0        |        -1.0       |        -1.0       |        -1.0       |\n",
       "|        1.0        |        -1.0       |        -1.0       |        -1.0       |\n",
       "|        2.0        |        -1.0       |        -1.0       |        -1.0       |\n",
       "+-------------------+-------------------+-------------------+-------------------+\n",
       "+-------------------+-------------------+-------------------+-------------------+\n",
       "| COUNT_WEEKNIGHT_4 | COUNT_WEEKNIGHT_5 | COUNT_WEEKNIGHT_6 | COUNT_WEEKNIGHT_7 |\n",
       "+-------------------+-------------------+-------------------+-------------------+\n",
       "|        -1.0       |        -1.0       |        -1.0       |        -1.0       |\n",
       "|        -1.0       |        -1.0       |        -1.0       |        -1.0       |\n",
       "|        -1.0       |        -1.0       |        -1.0       |        -1.0       |\n",
       "|        -1.0       |        -1.0       |        -1.0       |        -1.0       |\n",
       "|        -1.0       |        -1.0       |        -1.0       |        -1.0       |\n",
       "|        -1.0       |        -1.0       |        -1.0       |        -1.0       |\n",
       "|        -1.0       |        -1.0       |        -1.0       |        -1.0       |\n",
       "|        -1.0       |        -1.0       |        -1.0       |        -1.0       |\n",
       "|        -1.0       |        -1.0       |        -1.0       |        -1.0       |\n",
       "|        -1.0       |        -1.0       |        -1.0       |        -1.0       |\n",
       "+-------------------+-------------------+-------------------+-------------------+\n",
       "+-------------------+-----+\n",
       "| COUNT_WEEKNIGHT_8 | ... |\n",
       "+-------------------+-----+\n",
       "|        -1.0       | ... |\n",
       "|        -1.0       | ... |\n",
       "|        -1.0       | ... |\n",
       "|        -1.0       | ... |\n",
       "|        -1.0       | ... |\n",
       "|        -1.0       | ... |\n",
       "|        -1.0       | ... |\n",
       "|        -1.0       | ... |\n",
       "|        -1.0       | ... |\n",
       "|        -1.0       | ... |\n",
       "+-------------------+-----+\n",
       "[? rows x 21 columns]\n",
       "Note: Only the head of the SFrame is printed. This SFrame is lazily evaluated.\n",
       "You can use len(sf) to force materialization."
      ]
     },
     "execution_count": 107,
     "metadata": {},
     "output_type": "execute_result"
    }
   ],
   "source": [
    "table_weeknight.sample(0.001)"
   ]
  },
  {
   "cell_type": "code",
   "execution_count": null,
   "metadata": {
    "collapsed": true
   },
   "outputs": [],
   "source": [
    "#continuo con el resto del procesamiento, pero en la tabla sin filtrar\n",
    "table = table.groupby(['USER','CLIENT_CELL_ID'],\n",
    "                      {'ANTENNA_COUNT':gl.aggregate.COUNT()})\n",
    "\n",
    "table = table.groupby(['USER'],\n",
    "                     {'ANTENNA_COUNT_DICT':gl.aggregate.CONCAT(\"CLIENT_CELL_ID\",\"ANTENNA_COUNT\")})\n",
    "\n",
    "table['ANTENNA_ID'] = table['ANTENNA_COUNT_DICT'].apply(lambda user: get_columns_from_dict(user))\n",
    "table['COUNT'] = table['ANTENNA_ID'].apply(lambda row: row[1])\n",
    "table['ANTENNA_ID'] = table['ANTENNA_ID'].apply(lambda row: row[0])\n",
    "table = table.unpack('ANTENNA_ID') \n",
    "table = table.unpack('COUNT') \n",
    "table = table.rename(dict([(col,col.replace(\".\",\"_\")) for col in table.column_names() if (\".\" in col)]))\n",
    "\n",
    "## falta dropear el column dict nomas\n",
    "table = table.remove_column('ANTENNA_COUNT_DICT')\n",
    "\n",
    "#juntamos las dos tablas procesadas\n",
    "table = table.join(table_weeknight,on = 'USER',how = 'left')\n",
    "\n",
    "del table_weeknight\n",
    "\n",
    "#relleno todos los NANs que van a aparecer\n",
    "for col in [col for col in table.column_names() if (\"ANTENNA\" in col or \"COUNT\" in col )]:\n",
    "    if \"ANTENNA\" in col:\n",
    "        table = table.fillna(col,value=\"-1\")\n",
    "        if \"COUNT\" in col:\n",
    "            table = table.fillna(col,value=-1)\n",
    "            print('finished data processing from group {g} of {p}, time elapsed is {t}\\n Start saving output files '.format(g = group, p = passes,t=(time.time()-start_time)))\n",
    "\n",
    "\n",
    "print(\"Finished saving group {gr} of {p}, time elapsed is {t}\\n \".format(gr=group,p=passes,t=(time.time()-start_time)))\n",
    "\n",
    "then = start_time\n",
    "seconds = time.time() - then"
   ]
  },
  {
   "cell_type": "code",
   "execution_count": 64,
   "metadata": {
    "collapsed": false
   },
   "outputs": [
    {
     "name": "stdout",
     "output_type": "stream",
     "text": [
      "125M\t/home/juan/mobility-study/argentina-scripts/output/user_antenna_mapping_sframe_group0_1/\r\n"
     ]
    }
   ],
   "source": [
    "sfr  = \"/home/juan/mobility-study/argentina-scripts/output/user_antenna_mapping_sframe_group0_1/\" \n",
    "!du -sh $sfr"
   ]
  },
  {
   "cell_type": "code",
   "execution_count": 65,
   "metadata": {
    "collapsed": true
   },
   "outputs": [],
   "source": [
    "test = gl.load_sframe(sfr)"
   ]
  },
  {
   "cell_type": "code",
   "execution_count": 71,
   "metadata": {
    "collapsed": false,
    "scrolled": true
   },
   "outputs": [
    {
     "data": {
      "text/plain": [
       "['ANTENNA_ID_0',\n",
       " 'ANTENNA_ID_1',\n",
       " 'ANTENNA_ID_2',\n",
       " 'ANTENNA_ID_3',\n",
       " 'ANTENNA_ID_4',\n",
       " 'ANTENNA_ID_5',\n",
       " 'ANTENNA_ID_6',\n",
       " 'ANTENNA_ID_7',\n",
       " 'ANTENNA_ID_8',\n",
       " 'ANTENNA_ID_9',\n",
       " 'COUNT_0',\n",
       " 'COUNT_1',\n",
       " 'COUNT_2',\n",
       " 'COUNT_3',\n",
       " 'COUNT_4',\n",
       " 'COUNT_5',\n",
       " 'COUNT_6',\n",
       " 'COUNT_7',\n",
       " 'COUNT_8',\n",
       " 'COUNT_9',\n",
       " 'ANTENNA_ID_NO_WORK_FRIDAY_0',\n",
       " 'ANTENNA_ID_NO_WORK_FRIDAY_1',\n",
       " 'ANTENNA_ID_NO_WORK_FRIDAY_2',\n",
       " 'ANTENNA_ID_NO_WORK_FRIDAY_3',\n",
       " 'ANTENNA_ID_NO_WORK_FRIDAY_4',\n",
       " 'ANTENNA_ID_NO_WORK_FRIDAY_5',\n",
       " 'ANTENNA_ID_NO_WORK_FRIDAY_6',\n",
       " 'ANTENNA_ID_NO_WORK_FRIDAY_7',\n",
       " 'ANTENNA_ID_NO_WORK_FRIDAY_8',\n",
       " 'ANTENNA_ID_NO_WORK_FRIDAY_9',\n",
       " 'COUNT_NO_WORK_FRIDAY_0',\n",
       " 'COUNT_NO_WORK_FRIDAY_1',\n",
       " 'COUNT_NO_WORK_FRIDAY_2',\n",
       " 'COUNT_NO_WORK_FRIDAY_3',\n",
       " 'COUNT_NO_WORK_FRIDAY_4',\n",
       " 'COUNT_NO_WORK_FRIDAY_5',\n",
       " 'COUNT_NO_WORK_FRIDAY_6',\n",
       " 'COUNT_NO_WORK_FRIDAY_7',\n",
       " 'COUNT_NO_WORK_FRIDAY_8',\n",
       " 'COUNT_NO_WORK_FRIDAY_9']"
      ]
     },
     "execution_count": 71,
     "metadata": {},
     "output_type": "execute_result"
    }
   ],
   "source": [
    "[col for col in test.column_names() if (\"ANTENNA\" in col or \"COUNT\" in col )]"
   ]
  },
  {
   "cell_type": "code",
   "execution_count": null,
   "metadata": {
    "collapsed": true
   },
   "outputs": [],
   "source": []
  },
  {
   "cell_type": "code",
   "execution_count": null,
   "metadata": {
    "collapsed": true
   },
   "outputs": [],
   "source": []
  },
  {
   "cell_type": "code",
   "execution_count": null,
   "metadata": {
    "collapsed": true
   },
   "outputs": [],
   "source": []
  },
  {
   "cell_type": "markdown",
   "metadata": {
    "collapsed": true
   },
   "source": [
    "## cambiamos el working dir y el input_file (output.txt.gz --> output1.txt.gz)\n",
    "Esto pues vamos salvando los resultados del procesamiento de datos en files sucesivos para no tener que repetir el algoritmo ni para arriesgar cambiar una version (en terminos de datos) y no tener checkpoints intermedios"
   ]
  },
  {
   "cell_type": "code",
   "execution_count": 10,
   "metadata": {
    "collapsed": false
   },
   "outputs": [],
   "source": [
    "#ejemplo  \"/grandata/simple_format/01-02012014.txt.gz\"\n",
    "#seteamos el lugar de trabajo\n",
    "rootdir=\"/home/juan/mobility-study/\"\n",
    "os.chdir(rootdir)\n",
    "year = \"2015\"; \n",
    "month_start= \"01\";\n",
    "#todos estos sum_links terminan 2 meses mas tardes\n",
    "month_end= str(int(month_start)+2)\n",
    "if int(month_end )<10:\n",
    "    month_end=\"0\"+month_end\n",
    "    \n",
    "day_start = \"01\"\n",
    "day_end = str(int(day_start)+1)\n",
    "if int(day_end )<10:\n",
    "    day_end=\"0\"+ day_end\n",
    "\n",
    "input_file= rootdir +\"output1.txt.gz\"\\\n",
    "                .format(y=year,ms=month_start,me=month_end,\n",
    "                       ds=day_start,de=day_end)\n",
    "output_file = \"/home/juan/mobility-study/output2\"\n",
    "if week_end == True:\n",
    "    output_file = output_file + \"_wkend\"\n",
    "if night_filter == True:\n",
    "    output_file += \"_ngtfilter\"\n",
    "if hash_map == True:\n",
    "    output_file += \"_user_hash_map\"\n",
    "output_file += \".txt.gz\""
   ]
  },
  {
   "cell_type": "code",
   "execution_count": 11,
   "metadata": {
    "collapsed": false
   },
   "outputs": [
    {
     "name": "stdout",
     "output_type": "stream",
     "text": [
      "/home/juan/mobility-study/output1.txt.gz\r\n"
     ]
    }
   ],
   "source": [
    "!echo $input_file"
   ]
  },
  {
   "cell_type": "code",
   "execution_count": 12,
   "metadata": {
    "collapsed": false
   },
   "outputs": [
    {
     "name": "stdout",
     "output_type": "stream",
     "text": [
      "165M\t/home/juan/mobility-study/output1.txt.gz\r\n"
     ]
    }
   ],
   "source": [
    "!du -ha $input_file"
   ]
  },
  {
   "cell_type": "code",
   "execution_count": 13,
   "metadata": {
    "collapsed": false
   },
   "outputs": [
    {
     "name": "stdout",
     "output_type": "stream",
     "text": [
      "USER,EXPOSED,ANTENNA_ID_0,count_0,ANTENNA_ID_1,count_1,ANTENNA_ID_2,count_2,ANTENNA_ID_3,count_3,ANTENNA_ID_4,count_4,ANTENNA_ID_5,count_5,ANTENNA_ID_6,count_6,ANTENNA_ID_7,count_7,ANTENNA_ID_8,count_8,ANTENNA_ID_9,count_9,EPIDEMIC\r\n",
      "FFFF78CB080636632B2D1DE7A7BFAB03,0,3415,21,2969,5,1320,3,2471,3,1115,2,-1,-1,-1,-1,-1,-1,-1,-1,-1,-1,0\r\n",
      "FFFF51FDDD55A2E24D074DE30C4798E9,1,1207,15,1171,14,1820,9,583,8,2026,5,1066,4,1831,4,1625,2,401,1,825,1,0\r\n",
      "FFFE1EDDA25369CBC467536FA6A787FD,1,1847,22,1753,14,1422,11,1028,10,765,9,3072,9,862,8,2463,7,1416,6,871,5,1\r\n",
      "FFFD0A912A959CDFCFFAB2F93BFBA435,1,1407,18,1702,8,1613,6,1704,5,1394,3,1398,3,818,2,958,2,726,1,848,1,0\r\n",
      "FFFCB235D6D917DDF350F5B11CCB0EE8,1,17,74,174,33,1123,4,1178,4,173,3,890,2,503,1,1039,1,1228,1,1327,1,1\r\n",
      "FFFC9EC4F662C44D3006BA69C9F0DE85,1,876,19,1737,6,1744,5,326,1,378,1,503,1,1118,1,2216,1,2477,1,2962,1,1\r\n",
      "FFFB2F18F4CCF253C06B581EA518A7A5,1,2543,13,704,7,2540,7,1453,6,1642,5,45,4,2393,4,1841,3,3031,3,1009,2,0\r\n",
      "FFFA147CB2B23AD12F207F0EFBEB14D0,1,1857,103,2959,19,1344,2,2309,2,1511,1,2858,1,-1,-1,-1,-1,-1,-1,-1,-1,1\r\n",
      "FFFA0736F66FB09200CE1D13E081A946,1,266,63,1799,46,1790,29,2716,29,537,21,3377,21,1439,18,2715,16,1720,15,2000,14,1\r\n",
      "FFF976C823C8ACDE846E68DF75F4D698,1,1421,6,668,5,1150,5,572,4,1247,3,1633,3,496,2,507,2,714,2,1023,2,1\r\n",
      "FFF8711184E944160F2003E834F47464,1,508,21,1470,20,867,15,582,11,2121,6,2980,4,800,2,2638,1,-1,-1,-1,-1,1\r\n",
      "FFF8373FC0468150A4B6460E6F1A3768,1,3250,16,2879,12,3384,6,2799,5,2483,3,1077,2,2480,2,3512,2,1865,1,1883,1,0\r\n",
      "FFF806371B7F8FC0973C63A4DB39FF8D,1,2985,9,1160,4,2729,1,-1,-1,-1,-1,-1,-1,-1,-1,-1,-1,-1,-1,-1,-1,1\r\n",
      "FFF761BE0942967457C00CFE4D70582A,1,137,70,2263,48,3536,41,1333,36,193,23,51,9,417,6,55,5,95,2,116,2,0\r\n",
      "FFF2F8D91418841E5479664E93184C41,1,895,18,715,8,537,5,2619,5,266,3,778,2,896,2,1439,2,1720,2,3182,2,1\r\n",
      "FFF2E60B036874A8E13515CCB6D33881,1,583,18,401,11,948,7,2474,7,825,6,1658,6,1096,5,1433,5,2197,5,84,4,1\r\n",
      "FFF15C718A1F7B5D06A86E150F4446A5,1,688,19,235,15,374,11,1262,9,143,8,1791,7,609,4,346,2,347,2,596,2,0\r\n",
      "FFF0E97CBF5D7455DF2002A0C3785B0F,1,2773,6,2754,4,2840,1,2926,1,-1,-1,-1,-1,-1,-1,-1,-1,-1,-1,-1,-1,1\r\n",
      "FFF0D9CCCCFAD903B866BA751954EB8A,1,1705,43,1442,31,1099,22,1315,11,2039,11,529,8,1886,7,2134,6,2241,6,603,5,0\r\n",
      "\r\n",
      "gzip: stdout: Broken pipe\r\n"
     ]
    }
   ],
   "source": [
    "!zcat $input_file | head -n20"
   ]
  },
  {
   "cell_type": "code",
   "execution_count": 14,
   "metadata": {
    "collapsed": false
   },
   "outputs": [],
   "source": [
    "table = pd.read_csv(\n",
    "                input_file,\n",
    "                engine = 'c',\n",
    "                sep = ',',\n",
    "                header = 0,\n",
    "                index_col=0,\n",
    "                dtype = {'EXPOSED':np.bool,'EPIDEMIC':np.bool,\n",
    "                         'ANTENNA_ID_0':np.int16,'count_0':np.uint16,'ANTENNA_ID_1':np.int16,'count_1':np.uint16,\n",
    "                         'ANTENNA_ID_2':np.int16,'count_2':np.uint16,'ANTENNA_ID_3':np.int16,'count_3':np.uint16,\n",
    "                        'ANTENNA_ID_4':np.int16,'count_4':np.uint16,'ANTENNA_ID_5':np.int16,'count_5':np.uint16,\n",
    "                        'ANTENNA_ID_6':np.int16,'count_6':np.uint16,'ANTENNA_ID_7':np.int16,'count_7':np.uint16,\n",
    "                        'ANTENNA_ID_8':np.int16,'count_8':np.uint16,'ANTENNA_ID_9':np.int16,'count_9':np.uint16}\n",
    "                )\n",
    "## ojo con setear los dtypes para las antennas en np.usigned int pues ahi me transforma todos los -1s en el max del dtype"
   ]
  },
  {
   "cell_type": "code",
   "execution_count": 15,
   "metadata": {
    "collapsed": false
   },
   "outputs": [],
   "source": [
    "col_labels = [ col.replace(\"count\",\"COUNT\") if (\"count\" in col) else col for col in table.columns]\n",
    "table.columns = col_labels"
   ]
  },
  {
   "cell_type": "code",
   "execution_count": 16,
   "metadata": {
    "collapsed": false
   },
   "outputs": [],
   "source": [
    "#df['new_col'] = zip(df.lat, df.long)\n",
    "antenna_lat_long_dict = dict(zip(antennas.index.values, zip(antennas.LATITUDE,antennas.LONGITUDE)))"
   ]
  },
  {
   "cell_type": "code",
   "execution_count": 17,
   "metadata": {
    "collapsed": true
   },
   "outputs": [],
   "source": [
    "import math\n",
    "#earht_radi in kms\n",
    "earth_radi = 6371\n",
    "\n",
    "def distance_on_unit_sphere(lat1, long1, lat2, long2, earth_radi=6371):\n",
    " \n",
    "    # Convert latitude and longitude to \n",
    "    # spherical coordinates in radians.\n",
    "    degrees_to_radians = math.pi/180.0\n",
    "         \n",
    "    # phi = 90 - latitude\n",
    "    phi1 = (90.0 - lat1)*degrees_to_radians\n",
    "    phi2 = (90.0 - lat2)*degrees_to_radians\n",
    "         \n",
    "    # theta = longitude\n",
    "    theta1 = long1*degrees_to_radians\n",
    "    theta2 = long2*degrees_to_radians\n",
    "         \n",
    "    # Compute spherical distance from spherical coordinates.\n",
    "         \n",
    "    # For two locations in spherical coordinates \n",
    "    # (1, theta, phi) and (1, theta', phi')\n",
    "    # cosine( arc length ) = \n",
    "    #    sin phi sin phi' cos(theta-theta') + cos phi cos phi'\n",
    "    # distance = rho * arc length\n",
    "     \n",
    "    cos = (math.sin(phi1)*math.sin(phi2)*math.cos(theta1 - theta2) + \n",
    "           math.cos(phi1)*math.cos(phi2))\n",
    "    arc = math.acos( cos )\n",
    " \n",
    "    # Remember to multiply arc by the radius of the earth \n",
    "    # in your favorite set of units to get length.\n",
    "    return arc*earth_radi"
   ]
  },
  {
   "cell_type": "code",
   "execution_count": 18,
   "metadata": {
    "collapsed": true
   },
   "outputs": [],
   "source": [
    "from scipy import spatial"
   ]
  },
  {
   "cell_type": "markdown",
   "metadata": {},
   "source": [
    "### checking antenna_id consistency\n",
    "para ver si todos los antenna_ids de nuestra tabla estan en la base de datos de las antennas."
   ]
  },
  {
   "cell_type": "code",
   "execution_count": 17,
   "metadata": {
    "collapsed": true
   },
   "outputs": [],
   "source": [
    "def table_antennaid_consistency(row,antenna_id_list):\n",
    "    res = False\n",
    "    col_labels = table.columns\n",
    "    #miramos solo las columnas de antenna_ids \n",
    "    row = row[[col for col in table.columns if (\"ANTENNA\" in col)]]\n",
    "    #filtramos aquellas que tienen ant_id no nulo (==-1)\n",
    "    row = row[row != \"-1\"]\n",
    "    #print(row)\n",
    "    #le pregunto a la serie si c/valor esta en el id_list, paso a un ndarray y consulto si todos estan\n",
    "    res = row.isin(antenna_id_list).values.all()\n",
    "    \n",
    "    return res"
   ]
  },
  {
   "cell_type": "code",
   "execution_count": 20,
   "metadata": {
    "collapsed": false
   },
   "outputs": [],
   "source": [
    "antenna_id_list = list(antennas.index.values)"
   ]
  },
  {
   "cell_type": "code",
   "execution_count": 21,
   "metadata": {
    "collapsed": false,
    "scrolled": true
   },
   "outputs": [
    {
     "name": "stdout",
     "output_type": "stream",
     "text": [
      "False\n",
      "CPU times: user 2min 18s, sys: 76 ms, total: 2min 18s\n",
      "Wall time: 2min 18s\n"
     ]
    }
   ],
   "source": [
    "%%time\n",
    "consistency = table.sample(10**5).apply(func = (lambda row: table_antennaid_consistency(row,antenna_id_list)),axis='columns')\n",
    "#tableeo que todos los resultados sean True\n",
    "print(consistency.values.all())\n",
    "del consistency\n"
   ]
  },
  {
   "cell_type": "code",
   "execution_count": 141,
   "metadata": {
    "collapsed": true
   },
   "outputs": [],
   "source": [
    "user = 'FFFA147CB2B23AD12F207F0EFBEB14D0'\n",
    "row = table.loc[user]\n",
    "row = row[row>-1]\n",
    "row = row[[ind for ind in row.index if \"ANTENNA\" in ind]]"
   ]
  },
  {
   "cell_type": "markdown",
   "metadata": {},
   "source": [
    "### END antenna consistency table"
   ]
  },
  {
   "cell_type": "code",
   "execution_count": 22,
   "metadata": {
    "collapsed": true
   },
   "outputs": [],
   "source": [
    "##algoritmo sin convex hull\n",
    "\n",
    "filter_col = [col for col in list(table) if col.startswith('ANTENNA')]\n",
    "\n",
    "def convex_hull_radi(row,antenna_lat_long_dict,filter_col):\n",
    "    #rows are pandas series\n",
    "    #print(row.name)\n",
    "    row =  row[filter_col]\n",
    "    latitudes=[]\n",
    "    longitudes =[]\n",
    "    \n",
    "    #cuidado con los NaNs resultantes del map\n",
    "    for ant_id in (row.map(antenna_lat_long_dict).dropna()):\n",
    "        latitudes += [ant_id[0]] \n",
    "        longitudes += [ant_id[1]]\n",
    "    \n",
    "    \n",
    "    #try:\n",
    "    radii=0\n",
    "    for i in range(len(latitudes)):\n",
    "        for j in range(i):\n",
    "            new_dist= distance_on_unit_sphere(latitudes[i], longitudes[i], latitudes[j], longitudes[j])\n",
    "            if radii< new_dist:\n",
    "                radii = new_dist \n",
    "\n",
    "    return radii\n",
    "    #except:\n",
    "    #    print(row.name)\n",
    "    #    return 0\n",
    "        \n",
    "       \n",
    "#row =table_table.loc[2][filter_col]\n",
    "#latitudes=[]\n",
    "#longitudes =[]\n",
    "#for ant_id in row.map(antenna_lat_long_dict).dropna():\n",
    "#    latitudes += [ant_id[0]] \n",
    "#    longitudes += [ant_id[1]]\n",
    "#latitudes\n",
    "\n",
    "#convex_hull_radi(table_table.loc[12],antenna_lat_long_dict,filter_col)"
   ]
  },
  {
   "cell_type": "code",
   "execution_count": 23,
   "metadata": {
    "collapsed": true
   },
   "outputs": [],
   "source": [
    "## algoritmo con convexhulll\n",
    "\n",
    "filter_col = [col for col in list(table) if col.startswith('ANTENNA')]\n",
    "\n",
    "def convex_hull_radi(row,antenna_lat_long_dict,filter_col):\n",
    "    #rows are pandas series\n",
    "    #print(row.name)\n",
    "    row =  row[filter_col]\n",
    "    latitudes=[]\n",
    "    longitudes =[]\n",
    "    \n",
    "    #cuidado con los NaNs resultantes del map\n",
    "    for ant_id in (row.map(antenna_lat_long_dict).dropna()):\n",
    "        latitudes += [ant_id[0]] \n",
    "        longitudes += [ant_id[1]]\n",
    "    #case: only 1 antennas\n",
    "    if len(latitudes)<=1:\n",
    "        return 0\n",
    "    \n",
    "  \n",
    "    \n",
    "    #case only 2 antennas, arc distance\n",
    "    elif len(latitudes)==2:\n",
    "        return distance_on_unit_sphere(latitudes[0],longitudes[0],latitudes[1],longitudes[1])\n",
    "    \n",
    "    \n",
    "    elif  len(latitudes)>2:\n",
    "        points = np.array([np.asarray(latitudes).transpose() ,np.asarray(longitudes).transpose()])\n",
    "        points = points.transpose()\n",
    "        \n",
    "        #chequeamos los casos super patologicos que todas las antenas esten sobre la misma linea\n",
    "        if latitudes.count(latitudes[0]) == len(latitudes):\n",
    "            radii=0\n",
    "\n",
    "            for i in range(len(longitudes)-1):\n",
    "                new_dist= distance_on_unit_sphere(latitudes[0], longitudes[i], latitudes[0], longitudes[i+1])\n",
    "                if radii< new_dist:\n",
    "                    radii = new_dist \n",
    "        \n",
    "        #chequear sobre la otra linea\n",
    "        elif longitudes.count(longitudes[0]) == len(longitudes):    \n",
    "            radii=0\n",
    "            for i in range(len(latitudes)-1):\n",
    "                new_dist= distance_on_unit_sphere(latitudes[i], longitudes[0], latitudes[i+1], longitudes[0])\n",
    "                if radii< new_dist:\n",
    "                    radii = new_dist \n",
    "        else:\n",
    "            try:\n",
    "                chull = spatial.ConvexHull(points)\n",
    "                #points = spatial.ConvexHull(points).points\n",
    "                points = chull.points\n",
    "            except:\n",
    "                print(row.name)\n",
    "            vert = [list(point) for point in chull.points] #chull vertices\n",
    "\n",
    "            radii=0\n",
    "            for i in range(len(vert)):\n",
    "                for j in range(i):\n",
    "                    new_dist= distance_on_unit_sphere(vert[i][0], vert[i][1], vert[j][0], vert[j][1])\n",
    "                    if radii< new_dist:\n",
    "                        radii = new_dist \n",
    "\n",
    "        return radii\n",
    "        #return (\"%s,len(lats) is %d\" %(radii,len(latitudes)))\n",
    "\n",
    "#convex_hull_radi(table_table.loc[12],antenna_lat_long_dict,filter_col)"
   ]
  },
  {
   "cell_type": "code",
   "execution_count": null,
   "metadata": {
    "collapsed": false,
    "scrolled": true
   },
   "outputs": [],
   "source": [
    "start_time = time.time()\n",
    "#mini_sample =  table.sample(10**3)\n",
    "table['MOBILITY_DIAMETER']= table.apply(lambda row: convex_hull_radi(row,antenna_lat_long_dict,filter_col),axis=1)\n",
    "\n",
    "print(\"elapsed time is %s seconds for %d amount of rows\" % (time.time()-start_time,len(mini_sample)))"
   ]
  },
  {
   "cell_type": "code",
   "execution_count": 309,
   "metadata": {
    "collapsed": false
   },
   "outputs": [
    {
     "data": {
      "text/plain": [
       "(-99.191000000000003, -99.191000000000003, -99.191000000000003)"
      ]
     },
     "execution_count": 309,
     "metadata": {},
     "output_type": "execute_result"
    }
   ],
   "source": [
    "antennas.loc[1695].LONGITUDE, antennas.loc[1311].LONGITUDE,antennas.loc[1179].LONGITUDE"
   ]
  },
  {
   "cell_type": "code",
   "execution_count": 317,
   "metadata": {
    "collapsed": false
   },
   "outputs": [
    {
     "data": {
      "text/plain": [
       "Index([u'EXPOSED', u'ANTENNA_ID_0', u'COUNT_0', u'ANTENNA_ID_1', u'COUNT_1',\n",
       "       u'ANTENNA_ID_2', u'COUNT_2', u'ANTENNA_ID_3', u'COUNT_3',\n",
       "       u'ANTENNA_ID_4', u'COUNT_4', u'ANTENNA_ID_5', u'COUNT_5',\n",
       "       u'ANTENNA_ID_6', u'COUNT_6', u'ANTENNA_ID_7', u'COUNT_7',\n",
       "       u'ANTENNA_ID_8', u'COUNT_8', u'ANTENNA_ID_9', u'COUNT_9', u'EPIDEMIC',\n",
       "       u'MOBILITY_DIAMETER'],\n",
       "      dtype='object')"
      ]
     },
     "execution_count": 317,
     "metadata": {},
     "output_type": "execute_result"
    }
   ],
   "source": [
    "table.columns"
   ]
  },
  {
   "cell_type": "markdown",
   "metadata": {},
   "source": [
    "## un par de corridas usando el diametro del convex/hull dan \n",
    "elapsed time is 253.765459061 for 40000 amount of rows\n",
    "\n",
    "elapsed time is 249.712596893 seconds for 40000 amount of rows\n",
    "\n",
    "elapsed time is 227.963900089 seconds for 40000 amount of rows\n",
    "\n",
    "elapsed time is 57.2980730534 seconds for 10000 amount of rows\n",
    "\n",
    "elapsed time is 0.896952867508 seconds for 10 amount of rows\n",
    "\n"
   ]
  },
  {
   "cell_type": "markdown",
   "metadata": {},
   "source": [
    "### tableeamos la validez de resultados\n",
    "Nos fijamos en todos los users que tengan al menos dos antenas, en los users que solo tienen 1 antenna, etc."
   ]
  },
  {
   "cell_type": "code",
   "execution_count": 249,
   "metadata": {
    "collapsed": false
   },
   "outputs": [
    {
     "data": {
      "text/plain": [
       "(312, 23)"
      ]
     },
     "execution_count": 249,
     "metadata": {},
     "output_type": "execute_result"
    }
   ],
   "source": [
    "mini_sample[(mini_sample['MOBILITY_DIAMETER']<10**3) & (mini_sample['ANTENNA_ID_0']>-1)].shape\n"
   ]
  },
  {
   "cell_type": "code",
   "execution_count": 25,
   "metadata": {
    "collapsed": false
   },
   "outputs": [
    {
     "data": {
      "text/html": [
       "<div>\n",
       "<table border=\"1\" class=\"dataframe\">\n",
       "  <thead>\n",
       "    <tr style=\"text-align: right;\">\n",
       "      <th></th>\n",
       "      <th>EXPOSED</th>\n",
       "      <th>ANTENNA_ID_0</th>\n",
       "      <th>COUNT_0</th>\n",
       "      <th>ANTENNA_ID_1</th>\n",
       "      <th>COUNT_1</th>\n",
       "      <th>ANTENNA_ID_2</th>\n",
       "      <th>COUNT_2</th>\n",
       "      <th>ANTENNA_ID_3</th>\n",
       "      <th>COUNT_3</th>\n",
       "      <th>ANTENNA_ID_4</th>\n",
       "      <th>...</th>\n",
       "      <th>COUNT_5</th>\n",
       "      <th>ANTENNA_ID_6</th>\n",
       "      <th>COUNT_6</th>\n",
       "      <th>ANTENNA_ID_7</th>\n",
       "      <th>COUNT_7</th>\n",
       "      <th>ANTENNA_ID_8</th>\n",
       "      <th>COUNT_8</th>\n",
       "      <th>ANTENNA_ID_9</th>\n",
       "      <th>COUNT_9</th>\n",
       "      <th>EPIDEMIC</th>\n",
       "    </tr>\n",
       "    <tr>\n",
       "      <th>USER</th>\n",
       "      <th></th>\n",
       "      <th></th>\n",
       "      <th></th>\n",
       "      <th></th>\n",
       "      <th></th>\n",
       "      <th></th>\n",
       "      <th></th>\n",
       "      <th></th>\n",
       "      <th></th>\n",
       "      <th></th>\n",
       "      <th></th>\n",
       "      <th></th>\n",
       "      <th></th>\n",
       "      <th></th>\n",
       "      <th></th>\n",
       "      <th></th>\n",
       "      <th></th>\n",
       "      <th></th>\n",
       "      <th></th>\n",
       "      <th></th>\n",
       "      <th></th>\n",
       "    </tr>\n",
       "  </thead>\n",
       "  <tbody>\n",
       "    <tr>\n",
       "      <th>FFFF78CB080636632B2D1DE7A7BFAB03</th>\n",
       "      <td>False</td>\n",
       "      <td>3415</td>\n",
       "      <td>21</td>\n",
       "      <td>2969</td>\n",
       "      <td>5</td>\n",
       "      <td>1320</td>\n",
       "      <td>3</td>\n",
       "      <td>2471</td>\n",
       "      <td>3</td>\n",
       "      <td>1115</td>\n",
       "      <td>...</td>\n",
       "      <td>65535</td>\n",
       "      <td>-1</td>\n",
       "      <td>65535</td>\n",
       "      <td>-1</td>\n",
       "      <td>65535</td>\n",
       "      <td>-1</td>\n",
       "      <td>65535</td>\n",
       "      <td>-1</td>\n",
       "      <td>65535</td>\n",
       "      <td>False</td>\n",
       "    </tr>\n",
       "    <tr>\n",
       "      <th>FFFF51FDDD55A2E24D074DE30C4798E9</th>\n",
       "      <td>True</td>\n",
       "      <td>1207</td>\n",
       "      <td>15</td>\n",
       "      <td>1171</td>\n",
       "      <td>14</td>\n",
       "      <td>1820</td>\n",
       "      <td>9</td>\n",
       "      <td>583</td>\n",
       "      <td>8</td>\n",
       "      <td>2026</td>\n",
       "      <td>...</td>\n",
       "      <td>4</td>\n",
       "      <td>1831</td>\n",
       "      <td>4</td>\n",
       "      <td>1625</td>\n",
       "      <td>2</td>\n",
       "      <td>401</td>\n",
       "      <td>1</td>\n",
       "      <td>825</td>\n",
       "      <td>1</td>\n",
       "      <td>False</td>\n",
       "    </tr>\n",
       "    <tr>\n",
       "      <th>FFFE1EDDA25369CBC467536FA6A787FD</th>\n",
       "      <td>True</td>\n",
       "      <td>1847</td>\n",
       "      <td>22</td>\n",
       "      <td>1753</td>\n",
       "      <td>14</td>\n",
       "      <td>1422</td>\n",
       "      <td>11</td>\n",
       "      <td>1028</td>\n",
       "      <td>10</td>\n",
       "      <td>765</td>\n",
       "      <td>...</td>\n",
       "      <td>9</td>\n",
       "      <td>862</td>\n",
       "      <td>8</td>\n",
       "      <td>2463</td>\n",
       "      <td>7</td>\n",
       "      <td>1416</td>\n",
       "      <td>6</td>\n",
       "      <td>871</td>\n",
       "      <td>5</td>\n",
       "      <td>True</td>\n",
       "    </tr>\n",
       "    <tr>\n",
       "      <th>FFFD0A912A959CDFCFFAB2F93BFBA435</th>\n",
       "      <td>True</td>\n",
       "      <td>1407</td>\n",
       "      <td>18</td>\n",
       "      <td>1702</td>\n",
       "      <td>8</td>\n",
       "      <td>1613</td>\n",
       "      <td>6</td>\n",
       "      <td>1704</td>\n",
       "      <td>5</td>\n",
       "      <td>1394</td>\n",
       "      <td>...</td>\n",
       "      <td>3</td>\n",
       "      <td>818</td>\n",
       "      <td>2</td>\n",
       "      <td>958</td>\n",
       "      <td>2</td>\n",
       "      <td>726</td>\n",
       "      <td>1</td>\n",
       "      <td>848</td>\n",
       "      <td>1</td>\n",
       "      <td>False</td>\n",
       "    </tr>\n",
       "    <tr>\n",
       "      <th>FFFCB235D6D917DDF350F5B11CCB0EE8</th>\n",
       "      <td>True</td>\n",
       "      <td>17</td>\n",
       "      <td>74</td>\n",
       "      <td>174</td>\n",
       "      <td>33</td>\n",
       "      <td>1123</td>\n",
       "      <td>4</td>\n",
       "      <td>1178</td>\n",
       "      <td>4</td>\n",
       "      <td>173</td>\n",
       "      <td>...</td>\n",
       "      <td>2</td>\n",
       "      <td>503</td>\n",
       "      <td>1</td>\n",
       "      <td>1039</td>\n",
       "      <td>1</td>\n",
       "      <td>1228</td>\n",
       "      <td>1</td>\n",
       "      <td>1327</td>\n",
       "      <td>1</td>\n",
       "      <td>True</td>\n",
       "    </tr>\n",
       "  </tbody>\n",
       "</table>\n",
       "<p>5 rows × 22 columns</p>\n",
       "</div>"
      ],
      "text/plain": [
       "                                 EXPOSED  ANTENNA_ID_0  COUNT_0  ANTENNA_ID_1  \\\n",
       "USER                                                                            \n",
       "FFFF78CB080636632B2D1DE7A7BFAB03   False          3415       21          2969   \n",
       "FFFF51FDDD55A2E24D074DE30C4798E9    True          1207       15          1171   \n",
       "FFFE1EDDA25369CBC467536FA6A787FD    True          1847       22          1753   \n",
       "FFFD0A912A959CDFCFFAB2F93BFBA435    True          1407       18          1702   \n",
       "FFFCB235D6D917DDF350F5B11CCB0EE8    True            17       74           174   \n",
       "\n",
       "                                  COUNT_1  ANTENNA_ID_2  COUNT_2  \\\n",
       "USER                                                               \n",
       "FFFF78CB080636632B2D1DE7A7BFAB03        5          1320        3   \n",
       "FFFF51FDDD55A2E24D074DE30C4798E9       14          1820        9   \n",
       "FFFE1EDDA25369CBC467536FA6A787FD       14          1422       11   \n",
       "FFFD0A912A959CDFCFFAB2F93BFBA435        8          1613        6   \n",
       "FFFCB235D6D917DDF350F5B11CCB0EE8       33          1123        4   \n",
       "\n",
       "                                  ANTENNA_ID_3  COUNT_3  ANTENNA_ID_4  \\\n",
       "USER                                                                    \n",
       "FFFF78CB080636632B2D1DE7A7BFAB03          2471        3          1115   \n",
       "FFFF51FDDD55A2E24D074DE30C4798E9           583        8          2026   \n",
       "FFFE1EDDA25369CBC467536FA6A787FD          1028       10           765   \n",
       "FFFD0A912A959CDFCFFAB2F93BFBA435          1704        5          1394   \n",
       "FFFCB235D6D917DDF350F5B11CCB0EE8          1178        4           173   \n",
       "\n",
       "                                    ...     COUNT_5  ANTENNA_ID_6  COUNT_6  \\\n",
       "USER                                ...                                      \n",
       "FFFF78CB080636632B2D1DE7A7BFAB03    ...       65535            -1    65535   \n",
       "FFFF51FDDD55A2E24D074DE30C4798E9    ...           4          1831        4   \n",
       "FFFE1EDDA25369CBC467536FA6A787FD    ...           9           862        8   \n",
       "FFFD0A912A959CDFCFFAB2F93BFBA435    ...           3           818        2   \n",
       "FFFCB235D6D917DDF350F5B11CCB0EE8    ...           2           503        1   \n",
       "\n",
       "                                  ANTENNA_ID_7  COUNT_7  ANTENNA_ID_8  \\\n",
       "USER                                                                    \n",
       "FFFF78CB080636632B2D1DE7A7BFAB03            -1    65535            -1   \n",
       "FFFF51FDDD55A2E24D074DE30C4798E9          1625        2           401   \n",
       "FFFE1EDDA25369CBC467536FA6A787FD          2463        7          1416   \n",
       "FFFD0A912A959CDFCFFAB2F93BFBA435           958        2           726   \n",
       "FFFCB235D6D917DDF350F5B11CCB0EE8          1039        1          1228   \n",
       "\n",
       "                                  COUNT_8  ANTENNA_ID_9  COUNT_9  EPIDEMIC  \n",
       "USER                                                                        \n",
       "FFFF78CB080636632B2D1DE7A7BFAB03    65535            -1    65535     False  \n",
       "FFFF51FDDD55A2E24D074DE30C4798E9        1           825        1     False  \n",
       "FFFE1EDDA25369CBC467536FA6A787FD        6           871        5      True  \n",
       "FFFD0A912A959CDFCFFAB2F93BFBA435        1           848        1     False  \n",
       "FFFCB235D6D917DDF350F5B11CCB0EE8        1          1327        1      True  \n",
       "\n",
       "[5 rows x 22 columns]"
      ]
     },
     "execution_count": 25,
     "metadata": {},
     "output_type": "execute_result"
    }
   ],
   "source": [
    "table.head()"
   ]
  },
  {
   "cell_type": "code",
   "execution_count": 27,
   "metadata": {
    "collapsed": false
   },
   "outputs": [
    {
     "data": {
      "text/plain": [
       "(3667451, (3667451, 22))"
      ]
     },
     "execution_count": 27,
     "metadata": {},
     "output_type": "execute_result"
    }
   ],
   "source": [
    "len(np.unique(table.index.values)), table.shape"
   ]
  },
  {
   "cell_type": "code",
   "execution_count": 264,
   "metadata": {
    "collapsed": true
   },
   "outputs": [
    {
     "name": "stdout",
     "output_type": "stream",
     "text": [
      "(5, 23)\n",
      "ANTENNA_ID_0    1149\n",
      "ANTENNA_ID_1    1573\n",
      "ANTENNA_ID_2    2812\n",
      "ANTENNA_ID_3    2948\n",
      "ANTENNA_ID_4      82\n",
      "ANTENNA_ID_5     189\n",
      "ANTENNA_ID_6     233\n",
      "ANTENNA_ID_7     713\n",
      "ANTENNA_ID_8    1477\n",
      "ANTENNA_ID_9    1493\n",
      "Name: 5D51048D591291F351EF09EADBD12F53, dtype: object\n",
      "ANTENNA_ID_0      29\n",
      "ANTENNA_ID_1    1700\n",
      "ANTENNA_ID_2      73\n",
      "ANTENNA_ID_3    2347\n",
      "ANTENNA_ID_4      72\n",
      "ANTENNA_ID_5    1235\n",
      "ANTENNA_ID_6    1450\n",
      "ANTENNA_ID_7    1561\n",
      "ANTENNA_ID_8     674\n",
      "ANTENNA_ID_9    1290\n",
      "Name: 7BC884A1A97BEA2573B0BE18F7DB085C, dtype: object\n",
      "ANTENNA_ID_0    1637\n",
      "ANTENNA_ID_1    1352\n",
      "ANTENNA_ID_2    1176\n",
      "ANTENNA_ID_3    2026\n",
      "ANTENNA_ID_4     268\n",
      "ANTENNA_ID_5     942\n",
      "ANTENNA_ID_6    1167\n",
      "ANTENNA_ID_7    1255\n",
      "ANTENNA_ID_8    1324\n",
      "ANTENNA_ID_9    2968\n",
      "Name: DD1ED3EB5C1AD91A7D590C5E1841F684, dtype: object\n",
      "ANTENNA_ID_0    2043\n",
      "ANTENNA_ID_1    1080\n",
      "ANTENNA_ID_2    2323\n",
      "ANTENNA_ID_3    2561\n",
      "ANTENNA_ID_4    2269\n",
      "ANTENNA_ID_5    2268\n",
      "ANTENNA_ID_6    1097\n",
      "ANTENNA_ID_7    1979\n",
      "ANTENNA_ID_8    3152\n",
      "ANTENNA_ID_9     571\n",
      "Name: DE28C1739C7885D653455F2EED4D58EE, dtype: object\n",
      "ANTENNA_ID_0     254\n",
      "ANTENNA_ID_1     267\n",
      "ANTENNA_ID_2    1613\n",
      "ANTENNA_ID_3     744\n",
      "ANTENNA_ID_4    1545\n",
      "ANTENNA_ID_5     205\n",
      "ANTENNA_ID_6     791\n",
      "ANTENNA_ID_7     956\n",
      "ANTENNA_ID_8    1103\n",
      "ANTENNA_ID_9    1327\n",
      "Name: 876104BEC6734C7BB6AEBC227F13BEFF, dtype: object\n"
     ]
    }
   ],
   "source": [
    "#mob_table = mini_sample['mobility_diameter']\n",
    "results = mini_sample[(mini_sample['MOBILITY_DIAMETER']<10**3) & (mini_sample['ANTENNA_ID_8']>-1)].head()\n",
    "print(results.shape)\n",
    "for user in results.index:\n",
    "    row = table.loc[user]\n",
    "    row = row[row>-1]\n",
    "    row = row[[ind for ind in row.index if \"ANTENNA\" in ind]]\n",
    "    print(row)"
   ]
  },
  {
   "cell_type": "code",
   "execution_count": 265,
   "metadata": {
    "collapsed": false
   },
   "outputs": [
    {
     "data": {
      "text/plain": [
       "True"
      ]
     },
     "execution_count": 265,
     "metadata": {},
     "output_type": "execute_result"
    }
   ],
   "source": [
    "#tableeamos que todos los users con 1 antenna tengan result ==0 \n",
    "mob_table = mini_sample['MOBILITY_DIAMETER']\n",
    "results = mini_sample[(mini_sample['MOBILITY_DIAMETER']<10) & (mini_sample['ANTENNA_ID_1']==-1)]\n",
    "#mob_table[(mob_table.values<10) & (mini_sample['ANTENNA_ID_1']==-1)]\n",
    "(results['MOBILITY_DIAMETER'].values==0).all()\n"
   ]
  },
  {
   "cell_type": "markdown",
   "metadata": {},
   "source": [
    "### End mobility diameter result tables, Save table"
   ]
  },
  {
   "cell_type": "code",
   "execution_count": 269,
   "metadata": {
    "collapsed": true
   },
   "outputs": [
    {
     "data": {
      "text/html": [
       "<div>\n",
       "<table border=\"1\" class=\"dataframe\">\n",
       "  <thead>\n",
       "    <tr style=\"text-align: right;\">\n",
       "      <th></th>\n",
       "      <th>ANTENNA_ID_0</th>\n",
       "      <th>ANTENNA_ID_1</th>\n",
       "      <th>ANTENNA_ID_2</th>\n",
       "      <th>ANTENNA_ID_3</th>\n",
       "      <th>ANTENNA_ID_4</th>\n",
       "      <th>ANTENNA_ID_5</th>\n",
       "      <th>ANTENNA_ID_6</th>\n",
       "      <th>ANTENNA_ID_7</th>\n",
       "      <th>ANTENNA_ID_8</th>\n",
       "      <th>ANTENNA_ID_9</th>\n",
       "      <th>MOBILITY_DIAMETER</th>\n",
       "    </tr>\n",
       "    <tr>\n",
       "      <th>USER</th>\n",
       "      <th></th>\n",
       "      <th></th>\n",
       "      <th></th>\n",
       "      <th></th>\n",
       "      <th></th>\n",
       "      <th></th>\n",
       "      <th></th>\n",
       "      <th></th>\n",
       "      <th></th>\n",
       "      <th></th>\n",
       "      <th></th>\n",
       "    </tr>\n",
       "  </thead>\n",
       "  <tbody>\n",
       "    <tr>\n",
       "      <th>9AF7A02045CB182FE90A88C9D03130AB</th>\n",
       "      <td>2178</td>\n",
       "      <td>392</td>\n",
       "      <td>2010</td>\n",
       "      <td>709</td>\n",
       "      <td>1407</td>\n",
       "      <td>1412</td>\n",
       "      <td>2084</td>\n",
       "      <td>520</td>\n",
       "      <td>2041</td>\n",
       "      <td>1083</td>\n",
       "      <td>1368.713640</td>\n",
       "    </tr>\n",
       "    <tr>\n",
       "      <th>45AEB0A267D2BFFD3983EF2C95CA206B</th>\n",
       "      <td>2964</td>\n",
       "      <td>2943</td>\n",
       "      <td>2301</td>\n",
       "      <td>3673</td>\n",
       "      <td>1012</td>\n",
       "      <td>3790</td>\n",
       "      <td>634</td>\n",
       "      <td>3681</td>\n",
       "      <td>1463</td>\n",
       "      <td>2404</td>\n",
       "      <td>2325.646079</td>\n",
       "    </tr>\n",
       "    <tr>\n",
       "      <th>3243E73992D14766D85D1F282F4C7690</th>\n",
       "      <td>291</td>\n",
       "      <td>2596</td>\n",
       "      <td>561</td>\n",
       "      <td>655</td>\n",
       "      <td>887</td>\n",
       "      <td>3143</td>\n",
       "      <td>3577</td>\n",
       "      <td>-1</td>\n",
       "      <td>-1</td>\n",
       "      <td>-1</td>\n",
       "      <td>1594.044422</td>\n",
       "    </tr>\n",
       "    <tr>\n",
       "      <th>32F7FFA33F10A88CEDEFE8D9BD4060F0</th>\n",
       "      <td>20</td>\n",
       "      <td>22</td>\n",
       "      <td>31</td>\n",
       "      <td>-1</td>\n",
       "      <td>-1</td>\n",
       "      <td>-1</td>\n",
       "      <td>-1</td>\n",
       "      <td>-1</td>\n",
       "      <td>-1</td>\n",
       "      <td>-1</td>\n",
       "      <td>707.770266</td>\n",
       "    </tr>\n",
       "    <tr>\n",
       "      <th>2A50CA984894ADD3989C8920D4B479AE</th>\n",
       "      <td>400</td>\n",
       "      <td>161</td>\n",
       "      <td>2322</td>\n",
       "      <td>1216</td>\n",
       "      <td>1326</td>\n",
       "      <td>1292</td>\n",
       "      <td>1565</td>\n",
       "      <td>637</td>\n",
       "      <td>1088</td>\n",
       "      <td>1205</td>\n",
       "      <td>1716.188192</td>\n",
       "    </tr>\n",
       "    <tr>\n",
       "      <th>A81BC0F14993A91B60E780236F7EBB0E</th>\n",
       "      <td>2175</td>\n",
       "      <td>780</td>\n",
       "      <td>911</td>\n",
       "      <td>1820</td>\n",
       "      <td>1766</td>\n",
       "      <td>1991</td>\n",
       "      <td>3199</td>\n",
       "      <td>1043</td>\n",
       "      <td>1649</td>\n",
       "      <td>1938</td>\n",
       "      <td>1534.150943</td>\n",
       "    </tr>\n",
       "    <tr>\n",
       "      <th>B8C676F2420B18EB3794FD4E8CAFC2BA</th>\n",
       "      <td>1247</td>\n",
       "      <td>1244</td>\n",
       "      <td>564</td>\n",
       "      <td>1697</td>\n",
       "      <td>307</td>\n",
       "      <td>2788</td>\n",
       "      <td>197</td>\n",
       "      <td>502</td>\n",
       "      <td>609</td>\n",
       "      <td>1171</td>\n",
       "      <td>1549.084125</td>\n",
       "    </tr>\n",
       "    <tr>\n",
       "      <th>168F7B598F3AD64679C123DFAC59D9B2</th>\n",
       "      <td>2746</td>\n",
       "      <td>218</td>\n",
       "      <td>-1</td>\n",
       "      <td>-1</td>\n",
       "      <td>-1</td>\n",
       "      <td>-1</td>\n",
       "      <td>-1</td>\n",
       "      <td>-1</td>\n",
       "      <td>-1</td>\n",
       "      <td>-1</td>\n",
       "      <td>524.782360</td>\n",
       "    </tr>\n",
       "    <tr>\n",
       "      <th>96397BB4600DE9D8440E0F1A77E30740</th>\n",
       "      <td>1637</td>\n",
       "      <td>1758</td>\n",
       "      <td>1438</td>\n",
       "      <td>1990</td>\n",
       "      <td>1324</td>\n",
       "      <td>1385</td>\n",
       "      <td>1750</td>\n",
       "      <td>1429</td>\n",
       "      <td>1601</td>\n",
       "      <td>1621</td>\n",
       "      <td>1447.386187</td>\n",
       "    </tr>\n",
       "    <tr>\n",
       "      <th>575E4BBEA9126F43CFE7207CCA1A5749</th>\n",
       "      <td>85</td>\n",
       "      <td>3151</td>\n",
       "      <td>748</td>\n",
       "      <td>852</td>\n",
       "      <td>72</td>\n",
       "      <td>501</td>\n",
       "      <td>1422</td>\n",
       "      <td>-1</td>\n",
       "      <td>-1</td>\n",
       "      <td>-1</td>\n",
       "      <td>1438.496606</td>\n",
       "    </tr>\n",
       "  </tbody>\n",
       "</table>\n",
       "</div>"
      ],
      "text/plain": [
       "                                  ANTENNA_ID_0  ANTENNA_ID_1  ANTENNA_ID_2  \\\n",
       "USER                                                                         \n",
       "9AF7A02045CB182FE90A88C9D03130AB          2178           392          2010   \n",
       "45AEB0A267D2BFFD3983EF2C95CA206B          2964          2943          2301   \n",
       "3243E73992D14766D85D1F282F4C7690           291          2596           561   \n",
       "32F7FFA33F10A88CEDEFE8D9BD4060F0            20            22            31   \n",
       "2A50CA984894ADD3989C8920D4B479AE           400           161          2322   \n",
       "A81BC0F14993A91B60E780236F7EBB0E          2175           780           911   \n",
       "B8C676F2420B18EB3794FD4E8CAFC2BA          1247          1244           564   \n",
       "168F7B598F3AD64679C123DFAC59D9B2          2746           218            -1   \n",
       "96397BB4600DE9D8440E0F1A77E30740          1637          1758          1438   \n",
       "575E4BBEA9126F43CFE7207CCA1A5749            85          3151           748   \n",
       "\n",
       "                                  ANTENNA_ID_3  ANTENNA_ID_4  ANTENNA_ID_5  \\\n",
       "USER                                                                         \n",
       "9AF7A02045CB182FE90A88C9D03130AB           709          1407          1412   \n",
       "45AEB0A267D2BFFD3983EF2C95CA206B          3673          1012          3790   \n",
       "3243E73992D14766D85D1F282F4C7690           655           887          3143   \n",
       "32F7FFA33F10A88CEDEFE8D9BD4060F0            -1            -1            -1   \n",
       "2A50CA984894ADD3989C8920D4B479AE          1216          1326          1292   \n",
       "A81BC0F14993A91B60E780236F7EBB0E          1820          1766          1991   \n",
       "B8C676F2420B18EB3794FD4E8CAFC2BA          1697           307          2788   \n",
       "168F7B598F3AD64679C123DFAC59D9B2            -1            -1            -1   \n",
       "96397BB4600DE9D8440E0F1A77E30740          1990          1324          1385   \n",
       "575E4BBEA9126F43CFE7207CCA1A5749           852            72           501   \n",
       "\n",
       "                                  ANTENNA_ID_6  ANTENNA_ID_7  ANTENNA_ID_8  \\\n",
       "USER                                                                         \n",
       "9AF7A02045CB182FE90A88C9D03130AB          2084           520          2041   \n",
       "45AEB0A267D2BFFD3983EF2C95CA206B           634          3681          1463   \n",
       "3243E73992D14766D85D1F282F4C7690          3577            -1            -1   \n",
       "32F7FFA33F10A88CEDEFE8D9BD4060F0            -1            -1            -1   \n",
       "2A50CA984894ADD3989C8920D4B479AE          1565           637          1088   \n",
       "A81BC0F14993A91B60E780236F7EBB0E          3199          1043          1649   \n",
       "B8C676F2420B18EB3794FD4E8CAFC2BA           197           502           609   \n",
       "168F7B598F3AD64679C123DFAC59D9B2            -1            -1            -1   \n",
       "96397BB4600DE9D8440E0F1A77E30740          1750          1429          1601   \n",
       "575E4BBEA9126F43CFE7207CCA1A5749          1422            -1            -1   \n",
       "\n",
       "                                  ANTENNA_ID_9  MOBILITY_DIAMETER  \n",
       "USER                                                               \n",
       "9AF7A02045CB182FE90A88C9D03130AB          1083        1368.713640  \n",
       "45AEB0A267D2BFFD3983EF2C95CA206B          2404        2325.646079  \n",
       "3243E73992D14766D85D1F282F4C7690            -1        1594.044422  \n",
       "32F7FFA33F10A88CEDEFE8D9BD4060F0            -1         707.770266  \n",
       "2A50CA984894ADD3989C8920D4B479AE          1205        1716.188192  \n",
       "A81BC0F14993A91B60E780236F7EBB0E          1938        1534.150943  \n",
       "B8C676F2420B18EB3794FD4E8CAFC2BA          1171        1549.084125  \n",
       "168F7B598F3AD64679C123DFAC59D9B2            -1         524.782360  \n",
       "96397BB4600DE9D8440E0F1A77E30740          1621        1447.386187  \n",
       "575E4BBEA9126F43CFE7207CCA1A5749            -1        1438.496606  "
      ]
     },
     "execution_count": 269,
     "metadata": {},
     "output_type": "execute_result"
    }
   ],
   "source": [
    "mini_sample[[col for col in mini_sample.columns if (\"ANTENNA\" in col or \"MOBILITY\" in col)]].sample(10)"
   ]
  },
  {
   "cell_type": "code",
   "execution_count": 318,
   "metadata": {
    "collapsed": true
   },
   "outputs": [],
   "source": [
    "table.to_csv(output_file, \n",
    "             index = True,\n",
    "            header = True,\n",
    "            compression='gzip')"
   ]
  },
  {
   "cell_type": "code",
   "execution_count": 19,
   "metadata": {
    "collapsed": false
   },
   "outputs": [
    {
     "name": "stdout",
     "output_type": "stream",
     "text": [
      "173M\t/home/juan/mobility-study/output2.txt.gz\r\n"
     ]
    }
   ],
   "source": [
    "!du -ha $output_file*"
   ]
  },
  {
   "cell_type": "code",
   "execution_count": 323,
   "metadata": {
    "collapsed": false
   },
   "outputs": [
    {
     "data": {
      "text/html": [
       "<div>\n",
       "<table border=\"1\" class=\"dataframe\">\n",
       "  <thead>\n",
       "    <tr style=\"text-align: right;\">\n",
       "      <th></th>\n",
       "      <th>EXPOSED</th>\n",
       "      <th>ANTENNA_ID_0</th>\n",
       "      <th>COUNT_0</th>\n",
       "      <th>ANTENNA_ID_1</th>\n",
       "      <th>COUNT_1</th>\n",
       "      <th>ANTENNA_ID_2</th>\n",
       "      <th>COUNT_2</th>\n",
       "      <th>ANTENNA_ID_3</th>\n",
       "      <th>COUNT_3</th>\n",
       "      <th>ANTENNA_ID_4</th>\n",
       "      <th>...</th>\n",
       "      <th>ANTENNA_ID_6</th>\n",
       "      <th>COUNT_6</th>\n",
       "      <th>ANTENNA_ID_7</th>\n",
       "      <th>COUNT_7</th>\n",
       "      <th>ANTENNA_ID_8</th>\n",
       "      <th>COUNT_8</th>\n",
       "      <th>ANTENNA_ID_9</th>\n",
       "      <th>COUNT_9</th>\n",
       "      <th>EPIDEMIC</th>\n",
       "      <th>MOBILITY_DIAMETER</th>\n",
       "    </tr>\n",
       "    <tr>\n",
       "      <th>USER</th>\n",
       "      <th></th>\n",
       "      <th></th>\n",
       "      <th></th>\n",
       "      <th></th>\n",
       "      <th></th>\n",
       "      <th></th>\n",
       "      <th></th>\n",
       "      <th></th>\n",
       "      <th></th>\n",
       "      <th></th>\n",
       "      <th></th>\n",
       "      <th></th>\n",
       "      <th></th>\n",
       "      <th></th>\n",
       "      <th></th>\n",
       "      <th></th>\n",
       "      <th></th>\n",
       "      <th></th>\n",
       "      <th></th>\n",
       "      <th></th>\n",
       "      <th></th>\n",
       "    </tr>\n",
       "  </thead>\n",
       "  <tbody>\n",
       "    <tr>\n",
       "      <th>18113EA238478375460839F4F5F3B017</th>\n",
       "      <td>True</td>\n",
       "      <td>1083</td>\n",
       "      <td>10</td>\n",
       "      <td>798</td>\n",
       "      <td>5</td>\n",
       "      <td>1608</td>\n",
       "      <td>5</td>\n",
       "      <td>248</td>\n",
       "      <td>4</td>\n",
       "      <td>849</td>\n",
       "      <td>...</td>\n",
       "      <td>2679</td>\n",
       "      <td>3</td>\n",
       "      <td>369</td>\n",
       "      <td>2</td>\n",
       "      <td>1016</td>\n",
       "      <td>1</td>\n",
       "      <td>1245</td>\n",
       "      <td>1</td>\n",
       "      <td>True</td>\n",
       "      <td>1596.220319</td>\n",
       "    </tr>\n",
       "    <tr>\n",
       "      <th>4C21FDD80CD47E153298C70D3527F079</th>\n",
       "      <td>True</td>\n",
       "      <td>3183</td>\n",
       "      <td>37</td>\n",
       "      <td>2875</td>\n",
       "      <td>31</td>\n",
       "      <td>2298</td>\n",
       "      <td>26</td>\n",
       "      <td>1449</td>\n",
       "      <td>16</td>\n",
       "      <td>2299</td>\n",
       "      <td>...</td>\n",
       "      <td>2296</td>\n",
       "      <td>4</td>\n",
       "      <td>2745</td>\n",
       "      <td>4</td>\n",
       "      <td>1154</td>\n",
       "      <td>3</td>\n",
       "      <td>1258</td>\n",
       "      <td>2</td>\n",
       "      <td>False</td>\n",
       "      <td>2847.255740</td>\n",
       "    </tr>\n",
       "    <tr>\n",
       "      <th>5B69FC601B10AD78AF0E250899DA4428</th>\n",
       "      <td>True</td>\n",
       "      <td>989</td>\n",
       "      <td>8</td>\n",
       "      <td>1379</td>\n",
       "      <td>8</td>\n",
       "      <td>327</td>\n",
       "      <td>7</td>\n",
       "      <td>990</td>\n",
       "      <td>6</td>\n",
       "      <td>1431</td>\n",
       "      <td>...</td>\n",
       "      <td>1610</td>\n",
       "      <td>3</td>\n",
       "      <td>988</td>\n",
       "      <td>1</td>\n",
       "      <td>1074</td>\n",
       "      <td>1</td>\n",
       "      <td>1098</td>\n",
       "      <td>1</td>\n",
       "      <td>True</td>\n",
       "      <td>737.250275</td>\n",
       "    </tr>\n",
       "    <tr>\n",
       "      <th>3104F21B0C633119F9EB28433F5DF0AC</th>\n",
       "      <td>True</td>\n",
       "      <td>2277</td>\n",
       "      <td>13</td>\n",
       "      <td>1990</td>\n",
       "      <td>5</td>\n",
       "      <td>1758</td>\n",
       "      <td>2</td>\n",
       "      <td>-1</td>\n",
       "      <td>65535</td>\n",
       "      <td>-1</td>\n",
       "      <td>...</td>\n",
       "      <td>-1</td>\n",
       "      <td>65535</td>\n",
       "      <td>-1</td>\n",
       "      <td>65535</td>\n",
       "      <td>-1</td>\n",
       "      <td>65535</td>\n",
       "      <td>-1</td>\n",
       "      <td>65535</td>\n",
       "      <td>True</td>\n",
       "      <td>739.327422</td>\n",
       "    </tr>\n",
       "    <tr>\n",
       "      <th>794E3583897B762E37DB26CB29BF2C95</th>\n",
       "      <td>True</td>\n",
       "      <td>1461</td>\n",
       "      <td>27</td>\n",
       "      <td>3825</td>\n",
       "      <td>19</td>\n",
       "      <td>2895</td>\n",
       "      <td>18</td>\n",
       "      <td>1012</td>\n",
       "      <td>17</td>\n",
       "      <td>2584</td>\n",
       "      <td>...</td>\n",
       "      <td>2055</td>\n",
       "      <td>6</td>\n",
       "      <td>2275</td>\n",
       "      <td>6</td>\n",
       "      <td>3787</td>\n",
       "      <td>4</td>\n",
       "      <td>2043</td>\n",
       "      <td>3</td>\n",
       "      <td>True</td>\n",
       "      <td>2655.544887</td>\n",
       "    </tr>\n",
       "    <tr>\n",
       "      <th>D3B4C0718A0A4B8B3A0495B9256C1262</th>\n",
       "      <td>True</td>\n",
       "      <td>540</td>\n",
       "      <td>4</td>\n",
       "      <td>1315</td>\n",
       "      <td>4</td>\n",
       "      <td>2013</td>\n",
       "      <td>3</td>\n",
       "      <td>2014</td>\n",
       "      <td>3</td>\n",
       "      <td>763</td>\n",
       "      <td>...</td>\n",
       "      <td>2520</td>\n",
       "      <td>2</td>\n",
       "      <td>-1</td>\n",
       "      <td>65535</td>\n",
       "      <td>-1</td>\n",
       "      <td>65535</td>\n",
       "      <td>-1</td>\n",
       "      <td>65535</td>\n",
       "      <td>False</td>\n",
       "      <td>701.064183</td>\n",
       "    </tr>\n",
       "    <tr>\n",
       "      <th>D0085B84A7EB85956E996C0EF2201453</th>\n",
       "      <td>True</td>\n",
       "      <td>594</td>\n",
       "      <td>43</td>\n",
       "      <td>2276</td>\n",
       "      <td>27</td>\n",
       "      <td>515</td>\n",
       "      <td>20</td>\n",
       "      <td>1386</td>\n",
       "      <td>17</td>\n",
       "      <td>2316</td>\n",
       "      <td>...</td>\n",
       "      <td>2174</td>\n",
       "      <td>13</td>\n",
       "      <td>771</td>\n",
       "      <td>12</td>\n",
       "      <td>1319</td>\n",
       "      <td>10</td>\n",
       "      <td>1721</td>\n",
       "      <td>10</td>\n",
       "      <td>True</td>\n",
       "      <td>742.937402</td>\n",
       "    </tr>\n",
       "    <tr>\n",
       "      <th>B10EEF8023AA67CD510AF3F9BD0D1405</th>\n",
       "      <td>True</td>\n",
       "      <td>399</td>\n",
       "      <td>33</td>\n",
       "      <td>1508</td>\n",
       "      <td>20</td>\n",
       "      <td>1415</td>\n",
       "      <td>11</td>\n",
       "      <td>526</td>\n",
       "      <td>10</td>\n",
       "      <td>1483</td>\n",
       "      <td>...</td>\n",
       "      <td>873</td>\n",
       "      <td>6</td>\n",
       "      <td>1573</td>\n",
       "      <td>5</td>\n",
       "      <td>111</td>\n",
       "      <td>4</td>\n",
       "      <td>1356</td>\n",
       "      <td>4</td>\n",
       "      <td>False</td>\n",
       "      <td>559.340031</td>\n",
       "    </tr>\n",
       "    <tr>\n",
       "      <th>3ECB89A445B6C708219724E905EF17D6</th>\n",
       "      <td>True</td>\n",
       "      <td>197</td>\n",
       "      <td>9</td>\n",
       "      <td>2362</td>\n",
       "      <td>8</td>\n",
       "      <td>2084</td>\n",
       "      <td>4</td>\n",
       "      <td>2278</td>\n",
       "      <td>4</td>\n",
       "      <td>2197</td>\n",
       "      <td>...</td>\n",
       "      <td>391</td>\n",
       "      <td>1</td>\n",
       "      <td>484</td>\n",
       "      <td>1</td>\n",
       "      <td>572</td>\n",
       "      <td>1</td>\n",
       "      <td>709</td>\n",
       "      <td>1</td>\n",
       "      <td>False</td>\n",
       "      <td>1368.713640</td>\n",
       "    </tr>\n",
       "    <tr>\n",
       "      <th>1EEBCA4BD819E8A29E5ECBBE28AB8FB4</th>\n",
       "      <td>True</td>\n",
       "      <td>2014</td>\n",
       "      <td>3</td>\n",
       "      <td>894</td>\n",
       "      <td>1</td>\n",
       "      <td>2018</td>\n",
       "      <td>1</td>\n",
       "      <td>-1</td>\n",
       "      <td>65535</td>\n",
       "      <td>-1</td>\n",
       "      <td>...</td>\n",
       "      <td>-1</td>\n",
       "      <td>65535</td>\n",
       "      <td>-1</td>\n",
       "      <td>65535</td>\n",
       "      <td>-1</td>\n",
       "      <td>65535</td>\n",
       "      <td>-1</td>\n",
       "      <td>65535</td>\n",
       "      <td>True</td>\n",
       "      <td>703.007715</td>\n",
       "    </tr>\n",
       "    <tr>\n",
       "      <th>90D07F4337386F033351CB9448115C7D</th>\n",
       "      <td>True</td>\n",
       "      <td>2034</td>\n",
       "      <td>61</td>\n",
       "      <td>2927</td>\n",
       "      <td>60</td>\n",
       "      <td>2978</td>\n",
       "      <td>42</td>\n",
       "      <td>3504</td>\n",
       "      <td>38</td>\n",
       "      <td>2717</td>\n",
       "      <td>...</td>\n",
       "      <td>1282</td>\n",
       "      <td>2</td>\n",
       "      <td>1642</td>\n",
       "      <td>1</td>\n",
       "      <td>1729</td>\n",
       "      <td>1</td>\n",
       "      <td>2550</td>\n",
       "      <td>1</td>\n",
       "      <td>False</td>\n",
       "      <td>2281.388691</td>\n",
       "    </tr>\n",
       "    <tr>\n",
       "      <th>A39FF837B196D60571B6CDE4F90144E9</th>\n",
       "      <td>True</td>\n",
       "      <td>1200</td>\n",
       "      <td>48</td>\n",
       "      <td>2932</td>\n",
       "      <td>43</td>\n",
       "      <td>390</td>\n",
       "      <td>39</td>\n",
       "      <td>1571</td>\n",
       "      <td>11</td>\n",
       "      <td>255</td>\n",
       "      <td>...</td>\n",
       "      <td>1063</td>\n",
       "      <td>2</td>\n",
       "      <td>1998</td>\n",
       "      <td>1</td>\n",
       "      <td>2933</td>\n",
       "      <td>1</td>\n",
       "      <td>-1</td>\n",
       "      <td>65535</td>\n",
       "      <td>True</td>\n",
       "      <td>679.380053</td>\n",
       "    </tr>\n",
       "    <tr>\n",
       "      <th>643BF4CF7AB745F8C57286A3DAE05BA4</th>\n",
       "      <td>True</td>\n",
       "      <td>2385</td>\n",
       "      <td>21</td>\n",
       "      <td>3849</td>\n",
       "      <td>4</td>\n",
       "      <td>350</td>\n",
       "      <td>2</td>\n",
       "      <td>3245</td>\n",
       "      <td>2</td>\n",
       "      <td>1997</td>\n",
       "      <td>...</td>\n",
       "      <td>3911</td>\n",
       "      <td>1</td>\n",
       "      <td>-1</td>\n",
       "      <td>65535</td>\n",
       "      <td>-1</td>\n",
       "      <td>65535</td>\n",
       "      <td>-1</td>\n",
       "      <td>65535</td>\n",
       "      <td>False</td>\n",
       "      <td>2306.405188</td>\n",
       "    </tr>\n",
       "    <tr>\n",
       "      <th>6373B991BA573D0A55CE1CC5E92F2D85</th>\n",
       "      <td>False</td>\n",
       "      <td>1219</td>\n",
       "      <td>6</td>\n",
       "      <td>1169</td>\n",
       "      <td>4</td>\n",
       "      <td>-1</td>\n",
       "      <td>65535</td>\n",
       "      <td>-1</td>\n",
       "      <td>65535</td>\n",
       "      <td>-1</td>\n",
       "      <td>...</td>\n",
       "      <td>-1</td>\n",
       "      <td>65535</td>\n",
       "      <td>-1</td>\n",
       "      <td>65535</td>\n",
       "      <td>-1</td>\n",
       "      <td>65535</td>\n",
       "      <td>-1</td>\n",
       "      <td>65535</td>\n",
       "      <td>False</td>\n",
       "      <td>309.191035</td>\n",
       "    </tr>\n",
       "    <tr>\n",
       "      <th>CDB529176C404C97A791D3C760CA9CD8</th>\n",
       "      <td>True</td>\n",
       "      <td>2470</td>\n",
       "      <td>7</td>\n",
       "      <td>650</td>\n",
       "      <td>4</td>\n",
       "      <td>1915</td>\n",
       "      <td>4</td>\n",
       "      <td>2515</td>\n",
       "      <td>4</td>\n",
       "      <td>647</td>\n",
       "      <td>...</td>\n",
       "      <td>1392</td>\n",
       "      <td>2</td>\n",
       "      <td>1908</td>\n",
       "      <td>2</td>\n",
       "      <td>1955</td>\n",
       "      <td>2</td>\n",
       "      <td>3051</td>\n",
       "      <td>2</td>\n",
       "      <td>False</td>\n",
       "      <td>1105.111336</td>\n",
       "    </tr>\n",
       "    <tr>\n",
       "      <th>B456A8D6A2BBB7F08ABA945E17DDF905</th>\n",
       "      <td>True</td>\n",
       "      <td>2471</td>\n",
       "      <td>21</td>\n",
       "      <td>2470</td>\n",
       "      <td>10</td>\n",
       "      <td>582</td>\n",
       "      <td>9</td>\n",
       "      <td>581</td>\n",
       "      <td>6</td>\n",
       "      <td>2268</td>\n",
       "      <td>...</td>\n",
       "      <td>583</td>\n",
       "      <td>2</td>\n",
       "      <td>851</td>\n",
       "      <td>2</td>\n",
       "      <td>3630</td>\n",
       "      <td>1</td>\n",
       "      <td>4042</td>\n",
       "      <td>1</td>\n",
       "      <td>False</td>\n",
       "      <td>3123.598053</td>\n",
       "    </tr>\n",
       "    <tr>\n",
       "      <th>71FE2223D5BD0FE4C31551A4F8153F39</th>\n",
       "      <td>True</td>\n",
       "      <td>484</td>\n",
       "      <td>77</td>\n",
       "      <td>1150</td>\n",
       "      <td>12</td>\n",
       "      <td>1154</td>\n",
       "      <td>12</td>\n",
       "      <td>1449</td>\n",
       "      <td>10</td>\n",
       "      <td>3335</td>\n",
       "      <td>...</td>\n",
       "      <td>2800</td>\n",
       "      <td>9</td>\n",
       "      <td>639</td>\n",
       "      <td>5</td>\n",
       "      <td>2057</td>\n",
       "      <td>3</td>\n",
       "      <td>944</td>\n",
       "      <td>2</td>\n",
       "      <td>True</td>\n",
       "      <td>1739.022773</td>\n",
       "    </tr>\n",
       "    <tr>\n",
       "      <th>C07270AB11F4906B7A5F90AA4A8A0AAE</th>\n",
       "      <td>True</td>\n",
       "      <td>3503</td>\n",
       "      <td>39</td>\n",
       "      <td>2550</td>\n",
       "      <td>33</td>\n",
       "      <td>252</td>\n",
       "      <td>31</td>\n",
       "      <td>502</td>\n",
       "      <td>31</td>\n",
       "      <td>3743</td>\n",
       "      <td>...</td>\n",
       "      <td>2556</td>\n",
       "      <td>18</td>\n",
       "      <td>1595</td>\n",
       "      <td>16</td>\n",
       "      <td>2348</td>\n",
       "      <td>16</td>\n",
       "      <td>2714</td>\n",
       "      <td>14</td>\n",
       "      <td>False</td>\n",
       "      <td>3001.055968</td>\n",
       "    </tr>\n",
       "    <tr>\n",
       "      <th>6622F857282ABA17B92280AC5BE887B4</th>\n",
       "      <td>True</td>\n",
       "      <td>586</td>\n",
       "      <td>36</td>\n",
       "      <td>332</td>\n",
       "      <td>13</td>\n",
       "      <td>451</td>\n",
       "      <td>8</td>\n",
       "      <td>441</td>\n",
       "      <td>4</td>\n",
       "      <td>265</td>\n",
       "      <td>...</td>\n",
       "      <td>585</td>\n",
       "      <td>2</td>\n",
       "      <td>258</td>\n",
       "      <td>1</td>\n",
       "      <td>350</td>\n",
       "      <td>1</td>\n",
       "      <td>448</td>\n",
       "      <td>1</td>\n",
       "      <td>False</td>\n",
       "      <td>544.082280</td>\n",
       "    </tr>\n",
       "    <tr>\n",
       "      <th>B64565ACE0FB546233C4A2EDB19EE30A</th>\n",
       "      <td>True</td>\n",
       "      <td>620</td>\n",
       "      <td>9</td>\n",
       "      <td>619</td>\n",
       "      <td>7</td>\n",
       "      <td>3051</td>\n",
       "      <td>4</td>\n",
       "      <td>2029</td>\n",
       "      <td>3</td>\n",
       "      <td>1908</td>\n",
       "      <td>...</td>\n",
       "      <td>-1</td>\n",
       "      <td>65535</td>\n",
       "      <td>-1</td>\n",
       "      <td>65535</td>\n",
       "      <td>-1</td>\n",
       "      <td>65535</td>\n",
       "      <td>-1</td>\n",
       "      <td>65535</td>\n",
       "      <td>False</td>\n",
       "      <td>914.336724</td>\n",
       "    </tr>\n",
       "  </tbody>\n",
       "</table>\n",
       "<p>20 rows × 23 columns</p>\n",
       "</div>"
      ],
      "text/plain": [
       "                                 EXPOSED  ANTENNA_ID_0  COUNT_0  ANTENNA_ID_1  \\\n",
       "USER                                                                            \n",
       "18113EA238478375460839F4F5F3B017    True          1083       10           798   \n",
       "4C21FDD80CD47E153298C70D3527F079    True          3183       37          2875   \n",
       "5B69FC601B10AD78AF0E250899DA4428    True           989        8          1379   \n",
       "3104F21B0C633119F9EB28433F5DF0AC    True          2277       13          1990   \n",
       "794E3583897B762E37DB26CB29BF2C95    True          1461       27          3825   \n",
       "D3B4C0718A0A4B8B3A0495B9256C1262    True           540        4          1315   \n",
       "D0085B84A7EB85956E996C0EF2201453    True           594       43          2276   \n",
       "B10EEF8023AA67CD510AF3F9BD0D1405    True           399       33          1508   \n",
       "3ECB89A445B6C708219724E905EF17D6    True           197        9          2362   \n",
       "1EEBCA4BD819E8A29E5ECBBE28AB8FB4    True          2014        3           894   \n",
       "90D07F4337386F033351CB9448115C7D    True          2034       61          2927   \n",
       "A39FF837B196D60571B6CDE4F90144E9    True          1200       48          2932   \n",
       "643BF4CF7AB745F8C57286A3DAE05BA4    True          2385       21          3849   \n",
       "6373B991BA573D0A55CE1CC5E92F2D85   False          1219        6          1169   \n",
       "CDB529176C404C97A791D3C760CA9CD8    True          2470        7           650   \n",
       "B456A8D6A2BBB7F08ABA945E17DDF905    True          2471       21          2470   \n",
       "71FE2223D5BD0FE4C31551A4F8153F39    True           484       77          1150   \n",
       "C07270AB11F4906B7A5F90AA4A8A0AAE    True          3503       39          2550   \n",
       "6622F857282ABA17B92280AC5BE887B4    True           586       36           332   \n",
       "B64565ACE0FB546233C4A2EDB19EE30A    True           620        9           619   \n",
       "\n",
       "                                  COUNT_1  ANTENNA_ID_2  COUNT_2  \\\n",
       "USER                                                               \n",
       "18113EA238478375460839F4F5F3B017        5          1608        5   \n",
       "4C21FDD80CD47E153298C70D3527F079       31          2298       26   \n",
       "5B69FC601B10AD78AF0E250899DA4428        8           327        7   \n",
       "3104F21B0C633119F9EB28433F5DF0AC        5          1758        2   \n",
       "794E3583897B762E37DB26CB29BF2C95       19          2895       18   \n",
       "D3B4C0718A0A4B8B3A0495B9256C1262        4          2013        3   \n",
       "D0085B84A7EB85956E996C0EF2201453       27           515       20   \n",
       "B10EEF8023AA67CD510AF3F9BD0D1405       20          1415       11   \n",
       "3ECB89A445B6C708219724E905EF17D6        8          2084        4   \n",
       "1EEBCA4BD819E8A29E5ECBBE28AB8FB4        1          2018        1   \n",
       "90D07F4337386F033351CB9448115C7D       60          2978       42   \n",
       "A39FF837B196D60571B6CDE4F90144E9       43           390       39   \n",
       "643BF4CF7AB745F8C57286A3DAE05BA4        4           350        2   \n",
       "6373B991BA573D0A55CE1CC5E92F2D85        4            -1    65535   \n",
       "CDB529176C404C97A791D3C760CA9CD8        4          1915        4   \n",
       "B456A8D6A2BBB7F08ABA945E17DDF905       10           582        9   \n",
       "71FE2223D5BD0FE4C31551A4F8153F39       12          1154       12   \n",
       "C07270AB11F4906B7A5F90AA4A8A0AAE       33           252       31   \n",
       "6622F857282ABA17B92280AC5BE887B4       13           451        8   \n",
       "B64565ACE0FB546233C4A2EDB19EE30A        7          3051        4   \n",
       "\n",
       "                                  ANTENNA_ID_3  COUNT_3  ANTENNA_ID_4  \\\n",
       "USER                                                                    \n",
       "18113EA238478375460839F4F5F3B017           248        4           849   \n",
       "4C21FDD80CD47E153298C70D3527F079          1449       16          2299   \n",
       "5B69FC601B10AD78AF0E250899DA4428           990        6          1431   \n",
       "3104F21B0C633119F9EB28433F5DF0AC            -1    65535            -1   \n",
       "794E3583897B762E37DB26CB29BF2C95          1012       17          2584   \n",
       "D3B4C0718A0A4B8B3A0495B9256C1262          2014        3           763   \n",
       "D0085B84A7EB85956E996C0EF2201453          1386       17          2316   \n",
       "B10EEF8023AA67CD510AF3F9BD0D1405           526       10          1483   \n",
       "3ECB89A445B6C708219724E905EF17D6          2278        4          2197   \n",
       "1EEBCA4BD819E8A29E5ECBBE28AB8FB4            -1    65535            -1   \n",
       "90D07F4337386F033351CB9448115C7D          3504       38          2717   \n",
       "A39FF837B196D60571B6CDE4F90144E9          1571       11           255   \n",
       "643BF4CF7AB745F8C57286A3DAE05BA4          3245        2          1997   \n",
       "6373B991BA573D0A55CE1CC5E92F2D85            -1    65535            -1   \n",
       "CDB529176C404C97A791D3C760CA9CD8          2515        4           647   \n",
       "B456A8D6A2BBB7F08ABA945E17DDF905           581        6          2268   \n",
       "71FE2223D5BD0FE4C31551A4F8153F39          1449       10          3335   \n",
       "C07270AB11F4906B7A5F90AA4A8A0AAE           502       31          3743   \n",
       "6622F857282ABA17B92280AC5BE887B4           441        4           265   \n",
       "B64565ACE0FB546233C4A2EDB19EE30A          2029        3          1908   \n",
       "\n",
       "                                        ...          ANTENNA_ID_6  COUNT_6  \\\n",
       "USER                                    ...                                  \n",
       "18113EA238478375460839F4F5F3B017        ...                  2679        3   \n",
       "4C21FDD80CD47E153298C70D3527F079        ...                  2296        4   \n",
       "5B69FC601B10AD78AF0E250899DA4428        ...                  1610        3   \n",
       "3104F21B0C633119F9EB28433F5DF0AC        ...                    -1    65535   \n",
       "794E3583897B762E37DB26CB29BF2C95        ...                  2055        6   \n",
       "D3B4C0718A0A4B8B3A0495B9256C1262        ...                  2520        2   \n",
       "D0085B84A7EB85956E996C0EF2201453        ...                  2174       13   \n",
       "B10EEF8023AA67CD510AF3F9BD0D1405        ...                   873        6   \n",
       "3ECB89A445B6C708219724E905EF17D6        ...                   391        1   \n",
       "1EEBCA4BD819E8A29E5ECBBE28AB8FB4        ...                    -1    65535   \n",
       "90D07F4337386F033351CB9448115C7D        ...                  1282        2   \n",
       "A39FF837B196D60571B6CDE4F90144E9        ...                  1063        2   \n",
       "643BF4CF7AB745F8C57286A3DAE05BA4        ...                  3911        1   \n",
       "6373B991BA573D0A55CE1CC5E92F2D85        ...                    -1    65535   \n",
       "CDB529176C404C97A791D3C760CA9CD8        ...                  1392        2   \n",
       "B456A8D6A2BBB7F08ABA945E17DDF905        ...                   583        2   \n",
       "71FE2223D5BD0FE4C31551A4F8153F39        ...                  2800        9   \n",
       "C07270AB11F4906B7A5F90AA4A8A0AAE        ...                  2556       18   \n",
       "6622F857282ABA17B92280AC5BE887B4        ...                   585        2   \n",
       "B64565ACE0FB546233C4A2EDB19EE30A        ...                    -1    65535   \n",
       "\n",
       "                                  ANTENNA_ID_7  COUNT_7  ANTENNA_ID_8  \\\n",
       "USER                                                                    \n",
       "18113EA238478375460839F4F5F3B017           369        2          1016   \n",
       "4C21FDD80CD47E153298C70D3527F079          2745        4          1154   \n",
       "5B69FC601B10AD78AF0E250899DA4428           988        1          1074   \n",
       "3104F21B0C633119F9EB28433F5DF0AC            -1    65535            -1   \n",
       "794E3583897B762E37DB26CB29BF2C95          2275        6          3787   \n",
       "D3B4C0718A0A4B8B3A0495B9256C1262            -1    65535            -1   \n",
       "D0085B84A7EB85956E996C0EF2201453           771       12          1319   \n",
       "B10EEF8023AA67CD510AF3F9BD0D1405          1573        5           111   \n",
       "3ECB89A445B6C708219724E905EF17D6           484        1           572   \n",
       "1EEBCA4BD819E8A29E5ECBBE28AB8FB4            -1    65535            -1   \n",
       "90D07F4337386F033351CB9448115C7D          1642        1          1729   \n",
       "A39FF837B196D60571B6CDE4F90144E9          1998        1          2933   \n",
       "643BF4CF7AB745F8C57286A3DAE05BA4            -1    65535            -1   \n",
       "6373B991BA573D0A55CE1CC5E92F2D85            -1    65535            -1   \n",
       "CDB529176C404C97A791D3C760CA9CD8          1908        2          1955   \n",
       "B456A8D6A2BBB7F08ABA945E17DDF905           851        2          3630   \n",
       "71FE2223D5BD0FE4C31551A4F8153F39           639        5          2057   \n",
       "C07270AB11F4906B7A5F90AA4A8A0AAE          1595       16          2348   \n",
       "6622F857282ABA17B92280AC5BE887B4           258        1           350   \n",
       "B64565ACE0FB546233C4A2EDB19EE30A            -1    65535            -1   \n",
       "\n",
       "                                  COUNT_8  ANTENNA_ID_9  COUNT_9  EPIDEMIC  \\\n",
       "USER                                                                         \n",
       "18113EA238478375460839F4F5F3B017        1          1245        1      True   \n",
       "4C21FDD80CD47E153298C70D3527F079        3          1258        2     False   \n",
       "5B69FC601B10AD78AF0E250899DA4428        1          1098        1      True   \n",
       "3104F21B0C633119F9EB28433F5DF0AC    65535            -1    65535      True   \n",
       "794E3583897B762E37DB26CB29BF2C95        4          2043        3      True   \n",
       "D3B4C0718A0A4B8B3A0495B9256C1262    65535            -1    65535     False   \n",
       "D0085B84A7EB85956E996C0EF2201453       10          1721       10      True   \n",
       "B10EEF8023AA67CD510AF3F9BD0D1405        4          1356        4     False   \n",
       "3ECB89A445B6C708219724E905EF17D6        1           709        1     False   \n",
       "1EEBCA4BD819E8A29E5ECBBE28AB8FB4    65535            -1    65535      True   \n",
       "90D07F4337386F033351CB9448115C7D        1          2550        1     False   \n",
       "A39FF837B196D60571B6CDE4F90144E9        1            -1    65535      True   \n",
       "643BF4CF7AB745F8C57286A3DAE05BA4    65535            -1    65535     False   \n",
       "6373B991BA573D0A55CE1CC5E92F2D85    65535            -1    65535     False   \n",
       "CDB529176C404C97A791D3C760CA9CD8        2          3051        2     False   \n",
       "B456A8D6A2BBB7F08ABA945E17DDF905        1          4042        1     False   \n",
       "71FE2223D5BD0FE4C31551A4F8153F39        3           944        2      True   \n",
       "C07270AB11F4906B7A5F90AA4A8A0AAE       16          2714       14     False   \n",
       "6622F857282ABA17B92280AC5BE887B4        1           448        1     False   \n",
       "B64565ACE0FB546233C4A2EDB19EE30A    65535            -1    65535     False   \n",
       "\n",
       "                                  MOBILITY_DIAMETER  \n",
       "USER                                                 \n",
       "18113EA238478375460839F4F5F3B017        1596.220319  \n",
       "4C21FDD80CD47E153298C70D3527F079        2847.255740  \n",
       "5B69FC601B10AD78AF0E250899DA4428         737.250275  \n",
       "3104F21B0C633119F9EB28433F5DF0AC         739.327422  \n",
       "794E3583897B762E37DB26CB29BF2C95        2655.544887  \n",
       "D3B4C0718A0A4B8B3A0495B9256C1262         701.064183  \n",
       "D0085B84A7EB85956E996C0EF2201453         742.937402  \n",
       "B10EEF8023AA67CD510AF3F9BD0D1405         559.340031  \n",
       "3ECB89A445B6C708219724E905EF17D6        1368.713640  \n",
       "1EEBCA4BD819E8A29E5ECBBE28AB8FB4         703.007715  \n",
       "90D07F4337386F033351CB9448115C7D        2281.388691  \n",
       "A39FF837B196D60571B6CDE4F90144E9         679.380053  \n",
       "643BF4CF7AB745F8C57286A3DAE05BA4        2306.405188  \n",
       "6373B991BA573D0A55CE1CC5E92F2D85         309.191035  \n",
       "CDB529176C404C97A791D3C760CA9CD8        1105.111336  \n",
       "B456A8D6A2BBB7F08ABA945E17DDF905        3123.598053  \n",
       "71FE2223D5BD0FE4C31551A4F8153F39        1739.022773  \n",
       "C07270AB11F4906B7A5F90AA4A8A0AAE        3001.055968  \n",
       "6622F857282ABA17B92280AC5BE887B4         544.082280  \n",
       "B64565ACE0FB546233C4A2EDB19EE30A         914.336724  \n",
       "\n",
       "[20 rows x 23 columns]"
      ]
     },
     "execution_count": 323,
     "metadata": {},
     "output_type": "execute_result"
    }
   ],
   "source": [
    "table.sample(20)"
   ]
  },
  {
   "cell_type": "code",
   "execution_count": null,
   "metadata": {
    "collapsed": true
   },
   "outputs": [],
   "source": []
  },
  {
   "cell_type": "code",
   "execution_count": null,
   "metadata": {
    "collapsed": true
   },
   "outputs": [],
   "source": []
  },
  {
   "cell_type": "code",
   "execution_count": null,
   "metadata": {
    "collapsed": true
   },
   "outputs": [],
   "source": []
  },
  {
   "cell_type": "code",
   "execution_count": null,
   "metadata": {
    "collapsed": true
   },
   "outputs": [],
   "source": []
  },
  {
   "cell_type": "markdown",
   "metadata": {},
   "source": [
    "##  In case of antenna epidemic tag change\n",
    "En el case en que cambien la definicion de la zona epidemica, esto cambiaria la condicion de epidemicidad para c/ antenna"
   ]
  },
  {
   "cell_type": "code",
   "execution_count": 8,
   "metadata": {
    "collapsed": false
   },
   "outputs": [],
   "source": [
    "#seteamos el lugar de trabajo\n",
    "rootdir=\"/home/juan/mobility-study/\"\n",
    "os.chdir(rootdir)\n",
    "year = \"2015\"; \n",
    "\n",
    "input_file= rootdir +\"output2.txt.gz\"\\\n",
    "                .format(y=year,ms=month_start,me=month_end,\n",
    "                       ds=day_start,de=day_end)\n",
    "    \n",
    "output_file = \"/home/juan/mobility-study/output2\"\n",
    "if week_end == True:\n",
    "    output_file = output_file + \"_wkend\"\n",
    "if night_filter == True:\n",
    "    output_file += \"_ngtfilter\"\n",
    "if hash_map == True:\n",
    "    output_file += \"_user_hash_map\"\n",
    "output_file += \".txt.gz\""
   ]
  },
  {
   "cell_type": "code",
   "execution_count": 9,
   "metadata": {
    "collapsed": false,
    "scrolled": true
   },
   "outputs": [
    {
     "name": "stdout",
     "output_type": "stream",
     "text": [
      "USER,ANTENNA_ID_0,COUNT_0,ANTENNA_ID_1,COUNT_1,ANTENNA_ID_2,COUNT_2,ANTENNA_ID_3,COUNT_3,ANTENNA_ID_4,COUNT_4,ANTENNA_ID_5,COUNT_5,ANTENNA_ID_6,COUNT_6,ANTENNA_ID_7,COUNT_7,ANTENNA_ID_8,COUNT_8,ANTENNA_ID_9,COUNT_9,MOBILITY_DIAMETER,EXPOSED,EPIDEMIC\r\n",
      "FFFF78CB080636632B2D1DE7A7BFAB03,3415,21,2969,5,1320,3,2471,3,1115,2,-1,65535,-1,65535,-1,65535,-1,65535,-1,65535,1063,0,0\r\n",
      "FFFF51FDDD55A2E24D074DE30C4798E9,1207,15,1171,14,1820,9,583,8,2026,5,1066,4,1831,4,1625,2,401,1,825,1,520,1,0\r\n",
      "FFFE1EDDA25369CBC467536FA6A787FD,1847,22,1753,14,1422,11,1028,10,765,9,3072,9,862,8,2463,7,1416,6,871,5,990,1,0\r\n",
      "FFFD0A912A959CDFCFFAB2F93BFBA435,1407,18,1702,8,1613,6,1704,5,1394,3,1398,3,818,2,958,2,726,1,848,1,491,1,0\r\n",
      "FFFCB235D6D917DDF350F5B11CCB0EE8,17,74,174,33,1123,4,1178,4,173,3,890,2,503,1,1039,1,1228,1,1327,1,1613,1,0\r\n",
      "FFFC9EC4F662C44D3006BA69C9F0DE85,876,19,1737,6,1744,5,326,1,378,1,503,1,1118,1,2216,1,2477,1,2962,1,3004,1,1\r\n",
      "FFFB2F18F4CCF253C06B581EA518A7A5,2543,13,704,7,2540,7,1453,6,1642,5,45,4,2393,4,1841,3,3031,3,1009,2,2895,1,0\r\n",
      "FFFA147CB2B23AD12F207F0EFBEB14D0,1857,103,2959,19,1344,2,2309,2,1511,1,2858,1,-1,65535,-1,65535,-1,65535,-1,65535,1633,1,1\r\n",
      "FFFA0736F66FB09200CE1D13E081A946,266,63,1799,46,1790,29,2716,29,537,21,3377,21,1439,18,2715,16,1720,15,2000,14,2558,1,1\r\n",
      "\r\n",
      "gzip: stdout: Broken pipe\r\n"
     ]
    }
   ],
   "source": [
    "!zcat $input_file | head -n10"
   ]
  },
  {
   "cell_type": "code",
   "execution_count": 10,
   "metadata": {
    "collapsed": true
   },
   "outputs": [],
   "source": [
    "#primero leo el file de antennas\n",
    "antennas= pd.read_csv('/home/juan/mobility-study/antennas_mexico.csv',sep = \"|\",header=0,index_col=0)\n",
    "antennas.index.rename(\"ANTENNA_ID\",inplace=True)"
   ]
  },
  {
   "cell_type": "code",
   "execution_count": 11,
   "metadata": {
    "collapsed": true
   },
   "outputs": [],
   "source": [
    "table = pd.read_csv(\n",
    "                input_file,\n",
    "                engine = 'c',\n",
    "                sep = '|',\n",
    "                header = 0,\n",
    "                index_col=0,\n",
    "                dtype = {'EXPOSED':np.bool,'EPIDEMIC':np.bool, 'MOBILITY_DIAMETER':np.float32,\n",
    "                         'ANTENNA_ID_0':np.int16,'COUNT_0':np.uint16,'ANTENNA_ID_1':np.int16,'COUNT_1':np.uint16,\n",
    "                         'ANTENNA_ID_2':np.int16,'COUNT_2':np.uint16,'ANTENNA_ID_3':np.int16,'COUNT_3':np.uint16,\n",
    "                        'ANTENNA_ID_4':np.int16,'COUNT_4':np.uint16,'ANTENNA_ID_5':np.int16,'COUNT_5':np.uint16,\n",
    "                        'ANTENNA_ID_6':np.int16,'COUNT_6':np.uint16,'ANTENNA_ID_7':np.int16,'COUNT_7':np.uint16,\n",
    "                        'ANTENNA_ID_8':np.int16,'COUNT_8':np.uint16,'ANTENNA_ID_9':np.int16,'COUNT_9':np.uint16}\n",
    "                )\n",
    "table['MOBILITY_DIAMETER'] = table['MOBILITY_DIAMETER'].astype(int)\n",
    "## ojo con setear los dtypes para las antennas en np.usigned int pues ahi me transforma todos los -1s en el max del dtype"
   ]
  },
  {
   "cell_type": "code",
   "execution_count": null,
   "metadata": {
    "collapsed": true
   },
   "outputs": [],
   "source": [
    "# elimino todas las columnas que quiero re-calcular\n",
    "table.drop('EPIDEMIC',axis=1, inplace=True)\n",
    "table.drop('EXPOSED',axis=1, inplace=True)"
   ]
  },
  {
   "cell_type": "code",
   "execution_count": 116,
   "metadata": {
    "collapsed": false
   },
   "outputs": [
    {
     "data": {
      "text/html": [
       "<div>\n",
       "<table border=\"1\" class=\"dataframe\">\n",
       "  <thead>\n",
       "    <tr style=\"text-align: right;\">\n",
       "      <th></th>\n",
       "      <th>ANTENNA_ID_0</th>\n",
       "      <th>COUNT_0</th>\n",
       "      <th>ANTENNA_ID_1</th>\n",
       "      <th>COUNT_1</th>\n",
       "      <th>ANTENNA_ID_2</th>\n",
       "      <th>COUNT_2</th>\n",
       "      <th>ANTENNA_ID_3</th>\n",
       "      <th>COUNT_3</th>\n",
       "      <th>ANTENNA_ID_4</th>\n",
       "      <th>COUNT_4</th>\n",
       "      <th>...</th>\n",
       "      <th>COUNT_6</th>\n",
       "      <th>ANTENNA_ID_7</th>\n",
       "      <th>COUNT_7</th>\n",
       "      <th>ANTENNA_ID_8</th>\n",
       "      <th>COUNT_8</th>\n",
       "      <th>ANTENNA_ID_9</th>\n",
       "      <th>COUNT_9</th>\n",
       "      <th>MOBILITY_DIAMETER</th>\n",
       "      <th>EPIDEMIC</th>\n",
       "      <th>EXPOSED</th>\n",
       "    </tr>\n",
       "    <tr>\n",
       "      <th>USER</th>\n",
       "      <th></th>\n",
       "      <th></th>\n",
       "      <th></th>\n",
       "      <th></th>\n",
       "      <th></th>\n",
       "      <th></th>\n",
       "      <th></th>\n",
       "      <th></th>\n",
       "      <th></th>\n",
       "      <th></th>\n",
       "      <th></th>\n",
       "      <th></th>\n",
       "      <th></th>\n",
       "      <th></th>\n",
       "      <th></th>\n",
       "      <th></th>\n",
       "      <th></th>\n",
       "      <th></th>\n",
       "      <th></th>\n",
       "      <th></th>\n",
       "      <th></th>\n",
       "    </tr>\n",
       "  </thead>\n",
       "  <tbody>\n",
       "    <tr>\n",
       "      <th>FFFF78CB080636632B2D1DE7A7BFAB03</th>\n",
       "      <td>3415</td>\n",
       "      <td>21</td>\n",
       "      <td>2969</td>\n",
       "      <td>5</td>\n",
       "      <td>1320</td>\n",
       "      <td>3</td>\n",
       "      <td>2471</td>\n",
       "      <td>3</td>\n",
       "      <td>1115</td>\n",
       "      <td>2</td>\n",
       "      <td>...</td>\n",
       "      <td>65535</td>\n",
       "      <td>-1</td>\n",
       "      <td>65535</td>\n",
       "      <td>-1</td>\n",
       "      <td>65535</td>\n",
       "      <td>-1</td>\n",
       "      <td>65535</td>\n",
       "      <td>1063</td>\n",
       "      <td>False</td>\n",
       "      <td>True</td>\n",
       "    </tr>\n",
       "    <tr>\n",
       "      <th>FFFF51FDDD55A2E24D074DE30C4798E9</th>\n",
       "      <td>1207</td>\n",
       "      <td>15</td>\n",
       "      <td>1171</td>\n",
       "      <td>14</td>\n",
       "      <td>1820</td>\n",
       "      <td>9</td>\n",
       "      <td>583</td>\n",
       "      <td>8</td>\n",
       "      <td>2026</td>\n",
       "      <td>5</td>\n",
       "      <td>...</td>\n",
       "      <td>4</td>\n",
       "      <td>1625</td>\n",
       "      <td>2</td>\n",
       "      <td>401</td>\n",
       "      <td>1</td>\n",
       "      <td>825</td>\n",
       "      <td>1</td>\n",
       "      <td>520</td>\n",
       "      <td>False</td>\n",
       "      <td>True</td>\n",
       "    </tr>\n",
       "    <tr>\n",
       "      <th>FFFE1EDDA25369CBC467536FA6A787FD</th>\n",
       "      <td>1847</td>\n",
       "      <td>22</td>\n",
       "      <td>1753</td>\n",
       "      <td>14</td>\n",
       "      <td>1422</td>\n",
       "      <td>11</td>\n",
       "      <td>1028</td>\n",
       "      <td>10</td>\n",
       "      <td>765</td>\n",
       "      <td>9</td>\n",
       "      <td>...</td>\n",
       "      <td>8</td>\n",
       "      <td>2463</td>\n",
       "      <td>7</td>\n",
       "      <td>1416</td>\n",
       "      <td>6</td>\n",
       "      <td>871</td>\n",
       "      <td>5</td>\n",
       "      <td>990</td>\n",
       "      <td>False</td>\n",
       "      <td>True</td>\n",
       "    </tr>\n",
       "    <tr>\n",
       "      <th>FFFD0A912A959CDFCFFAB2F93BFBA435</th>\n",
       "      <td>1407</td>\n",
       "      <td>18</td>\n",
       "      <td>1702</td>\n",
       "      <td>8</td>\n",
       "      <td>1613</td>\n",
       "      <td>6</td>\n",
       "      <td>1704</td>\n",
       "      <td>5</td>\n",
       "      <td>1394</td>\n",
       "      <td>3</td>\n",
       "      <td>...</td>\n",
       "      <td>2</td>\n",
       "      <td>958</td>\n",
       "      <td>2</td>\n",
       "      <td>726</td>\n",
       "      <td>1</td>\n",
       "      <td>848</td>\n",
       "      <td>1</td>\n",
       "      <td>491</td>\n",
       "      <td>True</td>\n",
       "      <td>False</td>\n",
       "    </tr>\n",
       "    <tr>\n",
       "      <th>FFFCB235D6D917DDF350F5B11CCB0EE8</th>\n",
       "      <td>17</td>\n",
       "      <td>74</td>\n",
       "      <td>174</td>\n",
       "      <td>33</td>\n",
       "      <td>1123</td>\n",
       "      <td>4</td>\n",
       "      <td>1178</td>\n",
       "      <td>4</td>\n",
       "      <td>173</td>\n",
       "      <td>3</td>\n",
       "      <td>...</td>\n",
       "      <td>1</td>\n",
       "      <td>1039</td>\n",
       "      <td>1</td>\n",
       "      <td>1228</td>\n",
       "      <td>1</td>\n",
       "      <td>1327</td>\n",
       "      <td>1</td>\n",
       "      <td>1613</td>\n",
       "      <td>False</td>\n",
       "      <td>True</td>\n",
       "    </tr>\n",
       "  </tbody>\n",
       "</table>\n",
       "<p>5 rows × 23 columns</p>\n",
       "</div>"
      ],
      "text/plain": [
       "                                  ANTENNA_ID_0  COUNT_0  ANTENNA_ID_1  \\\n",
       "USER                                                                    \n",
       "FFFF78CB080636632B2D1DE7A7BFAB03          3415       21          2969   \n",
       "FFFF51FDDD55A2E24D074DE30C4798E9          1207       15          1171   \n",
       "FFFE1EDDA25369CBC467536FA6A787FD          1847       22          1753   \n",
       "FFFD0A912A959CDFCFFAB2F93BFBA435          1407       18          1702   \n",
       "FFFCB235D6D917DDF350F5B11CCB0EE8            17       74           174   \n",
       "\n",
       "                                  COUNT_1  ANTENNA_ID_2  COUNT_2  \\\n",
       "USER                                                               \n",
       "FFFF78CB080636632B2D1DE7A7BFAB03        5          1320        3   \n",
       "FFFF51FDDD55A2E24D074DE30C4798E9       14          1820        9   \n",
       "FFFE1EDDA25369CBC467536FA6A787FD       14          1422       11   \n",
       "FFFD0A912A959CDFCFFAB2F93BFBA435        8          1613        6   \n",
       "FFFCB235D6D917DDF350F5B11CCB0EE8       33          1123        4   \n",
       "\n",
       "                                  ANTENNA_ID_3  COUNT_3  ANTENNA_ID_4  \\\n",
       "USER                                                                    \n",
       "FFFF78CB080636632B2D1DE7A7BFAB03          2471        3          1115   \n",
       "FFFF51FDDD55A2E24D074DE30C4798E9           583        8          2026   \n",
       "FFFE1EDDA25369CBC467536FA6A787FD          1028       10           765   \n",
       "FFFD0A912A959CDFCFFAB2F93BFBA435          1704        5          1394   \n",
       "FFFCB235D6D917DDF350F5B11CCB0EE8          1178        4           173   \n",
       "\n",
       "                                  COUNT_4   ...     COUNT_6  ANTENNA_ID_7  \\\n",
       "USER                                        ...                             \n",
       "FFFF78CB080636632B2D1DE7A7BFAB03        2   ...       65535            -1   \n",
       "FFFF51FDDD55A2E24D074DE30C4798E9        5   ...           4          1625   \n",
       "FFFE1EDDA25369CBC467536FA6A787FD        9   ...           8          2463   \n",
       "FFFD0A912A959CDFCFFAB2F93BFBA435        3   ...           2           958   \n",
       "FFFCB235D6D917DDF350F5B11CCB0EE8        3   ...           1          1039   \n",
       "\n",
       "                                  COUNT_7  ANTENNA_ID_8  COUNT_8  \\\n",
       "USER                                                               \n",
       "FFFF78CB080636632B2D1DE7A7BFAB03    65535            -1    65535   \n",
       "FFFF51FDDD55A2E24D074DE30C4798E9        2           401        1   \n",
       "FFFE1EDDA25369CBC467536FA6A787FD        7          1416        6   \n",
       "FFFD0A912A959CDFCFFAB2F93BFBA435        2           726        1   \n",
       "FFFCB235D6D917DDF350F5B11CCB0EE8        1          1228        1   \n",
       "\n",
       "                                  ANTENNA_ID_9  COUNT_9  MOBILITY_DIAMETER  \\\n",
       "USER                                                                         \n",
       "FFFF78CB080636632B2D1DE7A7BFAB03            -1    65535               1063   \n",
       "FFFF51FDDD55A2E24D074DE30C4798E9           825        1                520   \n",
       "FFFE1EDDA25369CBC467536FA6A787FD           871        5                990   \n",
       "FFFD0A912A959CDFCFFAB2F93BFBA435           848        1                491   \n",
       "FFFCB235D6D917DDF350F5B11CCB0EE8          1327        1               1613   \n",
       "\n",
       "                                  EPIDEMIC  EXPOSED  \n",
       "USER                                                 \n",
       "FFFF78CB080636632B2D1DE7A7BFAB03     False     True  \n",
       "FFFF51FDDD55A2E24D074DE30C4798E9     False     True  \n",
       "FFFE1EDDA25369CBC467536FA6A787FD     False     True  \n",
       "FFFD0A912A959CDFCFFAB2F93BFBA435      True    False  \n",
       "FFFCB235D6D917DDF350F5B11CCB0EE8     False     True  \n",
       "\n",
       "[5 rows x 23 columns]"
      ]
     },
     "execution_count": 116,
     "metadata": {},
     "output_type": "execute_result"
    }
   ],
   "source": [
    "table.head()"
   ]
  },
  {
   "cell_type": "code",
   "execution_count": 118,
   "metadata": {
    "collapsed": false
   },
   "outputs": [
    {
     "data": {
      "text/html": [
       "<div>\n",
       "<table border=\"1\" class=\"dataframe\">\n",
       "  <thead>\n",
       "    <tr style=\"text-align: right;\">\n",
       "      <th></th>\n",
       "      <th>LATITUDE</th>\n",
       "      <th>LONGITUDE</th>\n",
       "      <th>STATE</th>\n",
       "      <th>EPIDEMIC</th>\n",
       "    </tr>\n",
       "    <tr>\n",
       "      <th>ANTENNA_ID_9</th>\n",
       "      <th></th>\n",
       "      <th></th>\n",
       "      <th></th>\n",
       "      <th></th>\n",
       "    </tr>\n",
       "  </thead>\n",
       "  <tbody>\n",
       "    <tr>\n",
       "      <th>2797</th>\n",
       "      <td>14.671</td>\n",
       "      <td>-92.372</td>\n",
       "      <td>Chiapas</td>\n",
       "      <td>0</td>\n",
       "    </tr>\n",
       "    <tr>\n",
       "      <th>3060</th>\n",
       "      <td>14.682</td>\n",
       "      <td>-92.155</td>\n",
       "      <td>Chiapas</td>\n",
       "      <td>0</td>\n",
       "    </tr>\n",
       "    <tr>\n",
       "      <th>3344</th>\n",
       "      <td>14.721</td>\n",
       "      <td>-92.424</td>\n",
       "      <td>Chiapas</td>\n",
       "      <td>0</td>\n",
       "    </tr>\n",
       "    <tr>\n",
       "      <th>3487</th>\n",
       "      <td>14.778</td>\n",
       "      <td>-92.179</td>\n",
       "      <td>Chiapas</td>\n",
       "      <td>0</td>\n",
       "    </tr>\n",
       "    <tr>\n",
       "      <th>1924</th>\n",
       "      <td>14.786</td>\n",
       "      <td>-92.366</td>\n",
       "      <td>Chiapas</td>\n",
       "      <td>0</td>\n",
       "    </tr>\n",
       "  </tbody>\n",
       "</table>\n",
       "</div>"
      ],
      "text/plain": [
       "              LATITUDE  LONGITUDE    STATE  EPIDEMIC\n",
       "ANTENNA_ID_9                                        \n",
       "2797            14.671    -92.372  Chiapas         0\n",
       "3060            14.682    -92.155  Chiapas         0\n",
       "3344            14.721    -92.424  Chiapas         0\n",
       "3487            14.778    -92.179  Chiapas         0\n",
       "1924            14.786    -92.366  Chiapas         0"
      ]
     },
     "execution_count": 118,
     "metadata": {},
     "output_type": "execute_result"
    }
   ],
   "source": [
    "antennas.head()"
   ]
  },
  {
   "cell_type": "code",
   "execution_count": 119,
   "metadata": {
    "collapsed": false
   },
   "outputs": [
    {
     "name": "stdout",
     "output_type": "stream",
     "text": [
      "(True, False)\n",
      "(4221, 4429)\n"
     ]
    }
   ],
   "source": [
    "antena_ids = np.unique(antennas.index.values)\n",
    "user_antenna_ids = set(np.unique(table['ANTENNA_ID_0'].values)) | set(np.unique(table['ANTENNA_ID_1'].values)) |\\\n",
    "                    set(np.unique(table['ANTENNA_ID_2'].values)) | set(np.unique(table['ANTENNA_ID_3'].values)) |\\\n",
    "                set(np.unique(table['ANTENNA_ID_4'].values)) | set(np.unique(table['ANTENNA_ID_5'].values)) |\\\n",
    "        set(np.unique(table['ANTENNA_ID_6'].values)) | set(np.unique(table['ANTENNA_ID_7'].values))\n",
    "if -1 in user_antenna_ids:\n",
    "    user_antenna_ids.remove(-1)\n",
    "user_antenna_ids  = np.asarray(list(user_antenna_ids))\n",
    "\n",
    "print(np.in1d(user_antenna_ids,antena_ids).all(), np.in1d(antena_ids,user_antenna_ids).all() )\n",
    "\n",
    "print(np.in1d(antena_ids,user_antenna_ids).sum(), len(antena_ids))"
   ]
  },
  {
   "cell_type": "code",
   "execution_count": 120,
   "metadata": {
    "collapsed": false,
    "scrolled": true
   },
   "outputs": [],
   "source": [
    "antenna_cols = [col for col in table.columns if \"ANTENNA_ID\" in col]\n",
    "\n",
    "for col in antenna_cols:\n",
    "    antennas.index.name = col\n",
    "    table = table.join(antennas['EPIDEMIC'].astype(int), on=col,rsuffix='_{0}'.format(col.split(\"_\")[-1]))\n",
    "#solo falta renombrar la columna que no tiene rsuffix\n",
    "table = table.rename(columns={'EPIDEMIC':'EPIDEMIC_0'})"
   ]
  },
  {
   "cell_type": "code",
   "execution_count": 128,
   "metadata": {
    "collapsed": false,
    "scrolled": true
   },
   "outputs": [],
   "source": [
    "epi_cols = [col for col in table.columns if 'EPIDEMIC_' in col]\n",
    "table['EXPOSED'] = (table[epi_cols].sum(axis=1)>=1).astype(int)\n",
    "table['EPIDEMIC'] =  table['EPIDEMIC_0'].values\n",
    "for col in epi_cols:\n",
    "    table.drop(col,axis=1,inplace=True)"
   ]
  },
  {
   "cell_type": "code",
   "execution_count": 129,
   "metadata": {
    "collapsed": false,
    "scrolled": true
   },
   "outputs": [
    {
     "data": {
      "text/html": [
       "<div>\n",
       "<table border=\"1\" class=\"dataframe\">\n",
       "  <thead>\n",
       "    <tr style=\"text-align: right;\">\n",
       "      <th></th>\n",
       "      <th>ANTENNA_ID_0</th>\n",
       "      <th>COUNT_0</th>\n",
       "      <th>ANTENNA_ID_1</th>\n",
       "      <th>COUNT_1</th>\n",
       "      <th>ANTENNA_ID_2</th>\n",
       "      <th>COUNT_2</th>\n",
       "      <th>ANTENNA_ID_3</th>\n",
       "      <th>COUNT_3</th>\n",
       "      <th>ANTENNA_ID_4</th>\n",
       "      <th>COUNT_4</th>\n",
       "      <th>...</th>\n",
       "      <th>COUNT_6</th>\n",
       "      <th>ANTENNA_ID_7</th>\n",
       "      <th>COUNT_7</th>\n",
       "      <th>ANTENNA_ID_8</th>\n",
       "      <th>COUNT_8</th>\n",
       "      <th>ANTENNA_ID_9</th>\n",
       "      <th>COUNT_9</th>\n",
       "      <th>MOBILITY_DIAMETER</th>\n",
       "      <th>EXPOSED</th>\n",
       "      <th>EPIDEMIC</th>\n",
       "    </tr>\n",
       "    <tr>\n",
       "      <th>USER</th>\n",
       "      <th></th>\n",
       "      <th></th>\n",
       "      <th></th>\n",
       "      <th></th>\n",
       "      <th></th>\n",
       "      <th></th>\n",
       "      <th></th>\n",
       "      <th></th>\n",
       "      <th></th>\n",
       "      <th></th>\n",
       "      <th></th>\n",
       "      <th></th>\n",
       "      <th></th>\n",
       "      <th></th>\n",
       "      <th></th>\n",
       "      <th></th>\n",
       "      <th></th>\n",
       "      <th></th>\n",
       "      <th></th>\n",
       "      <th></th>\n",
       "      <th></th>\n",
       "    </tr>\n",
       "  </thead>\n",
       "  <tbody>\n",
       "    <tr>\n",
       "      <th>ED96A156B5712B53C57CFF8E8ABC182D</th>\n",
       "      <td>2002</td>\n",
       "      <td>98</td>\n",
       "      <td>2204</td>\n",
       "      <td>40</td>\n",
       "      <td>1962</td>\n",
       "      <td>30</td>\n",
       "      <td>2353</td>\n",
       "      <td>23</td>\n",
       "      <td>1446</td>\n",
       "      <td>21</td>\n",
       "      <td>...</td>\n",
       "      <td>17</td>\n",
       "      <td>1443</td>\n",
       "      <td>15</td>\n",
       "      <td>1444</td>\n",
       "      <td>10</td>\n",
       "      <td>514</td>\n",
       "      <td>9</td>\n",
       "      <td>846</td>\n",
       "      <td>1</td>\n",
       "      <td>0</td>\n",
       "    </tr>\n",
       "    <tr>\n",
       "      <th>A53F04CCB9D4DE72D1D80A9695CA0F38</th>\n",
       "      <td>2040</td>\n",
       "      <td>57</td>\n",
       "      <td>2282</td>\n",
       "      <td>21</td>\n",
       "      <td>754</td>\n",
       "      <td>20</td>\n",
       "      <td>1279</td>\n",
       "      <td>14</td>\n",
       "      <td>1877</td>\n",
       "      <td>13</td>\n",
       "      <td>...</td>\n",
       "      <td>8</td>\n",
       "      <td>343</td>\n",
       "      <td>4</td>\n",
       "      <td>131</td>\n",
       "      <td>3</td>\n",
       "      <td>1328</td>\n",
       "      <td>3</td>\n",
       "      <td>1535</td>\n",
       "      <td>1</td>\n",
       "      <td>0</td>\n",
       "    </tr>\n",
       "    <tr>\n",
       "      <th>4921680006841C65C5960D6E9C31667F</th>\n",
       "      <td>2555</td>\n",
       "      <td>2</td>\n",
       "      <td>676</td>\n",
       "      <td>1</td>\n",
       "      <td>1002</td>\n",
       "      <td>1</td>\n",
       "      <td>3312</td>\n",
       "      <td>1</td>\n",
       "      <td>-1</td>\n",
       "      <td>65535</td>\n",
       "      <td>...</td>\n",
       "      <td>65535</td>\n",
       "      <td>-1</td>\n",
       "      <td>65535</td>\n",
       "      <td>-1</td>\n",
       "      <td>65535</td>\n",
       "      <td>-1</td>\n",
       "      <td>65535</td>\n",
       "      <td>2128</td>\n",
       "      <td>1</td>\n",
       "      <td>0</td>\n",
       "    </tr>\n",
       "    <tr>\n",
       "      <th>45690AA7F26E3FEF051AD1252E716CB8</th>\n",
       "      <td>125</td>\n",
       "      <td>13</td>\n",
       "      <td>1310</td>\n",
       "      <td>8</td>\n",
       "      <td>257</td>\n",
       "      <td>4</td>\n",
       "      <td>250</td>\n",
       "      <td>3</td>\n",
       "      <td>123</td>\n",
       "      <td>2</td>\n",
       "      <td>...</td>\n",
       "      <td>1</td>\n",
       "      <td>1018</td>\n",
       "      <td>1</td>\n",
       "      <td>1401</td>\n",
       "      <td>1</td>\n",
       "      <td>-1</td>\n",
       "      <td>65535</td>\n",
       "      <td>695</td>\n",
       "      <td>1</td>\n",
       "      <td>0</td>\n",
       "    </tr>\n",
       "    <tr>\n",
       "      <th>F1CBA36A18650AB67A10181F1232CB3D</th>\n",
       "      <td>2047</td>\n",
       "      <td>75</td>\n",
       "      <td>657</td>\n",
       "      <td>22</td>\n",
       "      <td>409</td>\n",
       "      <td>19</td>\n",
       "      <td>2359</td>\n",
       "      <td>19</td>\n",
       "      <td>256</td>\n",
       "      <td>18</td>\n",
       "      <td>...</td>\n",
       "      <td>16</td>\n",
       "      <td>2208</td>\n",
       "      <td>15</td>\n",
       "      <td>954</td>\n",
       "      <td>14</td>\n",
       "      <td>321</td>\n",
       "      <td>11</td>\n",
       "      <td>1007</td>\n",
       "      <td>1</td>\n",
       "      <td>0</td>\n",
       "    </tr>\n",
       "    <tr>\n",
       "      <th>FAF9615D48D09049AF12453F767E5B9E</th>\n",
       "      <td>1174</td>\n",
       "      <td>16</td>\n",
       "      <td>116</td>\n",
       "      <td>11</td>\n",
       "      <td>3053</td>\n",
       "      <td>7</td>\n",
       "      <td>2921</td>\n",
       "      <td>6</td>\n",
       "      <td>3054</td>\n",
       "      <td>5</td>\n",
       "      <td>...</td>\n",
       "      <td>3</td>\n",
       "      <td>2387</td>\n",
       "      <td>2</td>\n",
       "      <td>2716</td>\n",
       "      <td>2</td>\n",
       "      <td>3591</td>\n",
       "      <td>2</td>\n",
       "      <td>2850</td>\n",
       "      <td>1</td>\n",
       "      <td>1</td>\n",
       "    </tr>\n",
       "    <tr>\n",
       "      <th>A17D41FD01A77C21E2C73C85D3D6C865</th>\n",
       "      <td>2688</td>\n",
       "      <td>188</td>\n",
       "      <td>834</td>\n",
       "      <td>20</td>\n",
       "      <td>729</td>\n",
       "      <td>1</td>\n",
       "      <td>-1</td>\n",
       "      <td>65535</td>\n",
       "      <td>-1</td>\n",
       "      <td>65535</td>\n",
       "      <td>...</td>\n",
       "      <td>65535</td>\n",
       "      <td>-1</td>\n",
       "      <td>65535</td>\n",
       "      <td>-1</td>\n",
       "      <td>65535</td>\n",
       "      <td>-1</td>\n",
       "      <td>65535</td>\n",
       "      <td>912</td>\n",
       "      <td>0</td>\n",
       "      <td>0</td>\n",
       "    </tr>\n",
       "    <tr>\n",
       "      <th>84B9E30956F6A66675D17A15189F9CCB</th>\n",
       "      <td>2075</td>\n",
       "      <td>64</td>\n",
       "      <td>568</td>\n",
       "      <td>46</td>\n",
       "      <td>1821</td>\n",
       "      <td>36</td>\n",
       "      <td>1289</td>\n",
       "      <td>29</td>\n",
       "      <td>840</td>\n",
       "      <td>19</td>\n",
       "      <td>...</td>\n",
       "      <td>8</td>\n",
       "      <td>713</td>\n",
       "      <td>4</td>\n",
       "      <td>1960</td>\n",
       "      <td>4</td>\n",
       "      <td>2079</td>\n",
       "      <td>4</td>\n",
       "      <td>1056</td>\n",
       "      <td>1</td>\n",
       "      <td>0</td>\n",
       "    </tr>\n",
       "    <tr>\n",
       "      <th>6903CCA86378FDB0D1589C0D7FC3ACE3</th>\n",
       "      <td>566</td>\n",
       "      <td>5</td>\n",
       "      <td>276</td>\n",
       "      <td>4</td>\n",
       "      <td>945</td>\n",
       "      <td>4</td>\n",
       "      <td>1244</td>\n",
       "      <td>3</td>\n",
       "      <td>297</td>\n",
       "      <td>2</td>\n",
       "      <td>...</td>\n",
       "      <td>1</td>\n",
       "      <td>1125</td>\n",
       "      <td>1</td>\n",
       "      <td>1230</td>\n",
       "      <td>1</td>\n",
       "      <td>2082</td>\n",
       "      <td>1</td>\n",
       "      <td>959</td>\n",
       "      <td>1</td>\n",
       "      <td>0</td>\n",
       "    </tr>\n",
       "    <tr>\n",
       "      <th>EB5933360A48B8E9C58FB0B6E82EDA79</th>\n",
       "      <td>2622</td>\n",
       "      <td>13</td>\n",
       "      <td>520</td>\n",
       "      <td>5</td>\n",
       "      <td>1515</td>\n",
       "      <td>2</td>\n",
       "      <td>892</td>\n",
       "      <td>1</td>\n",
       "      <td>924</td>\n",
       "      <td>1</td>\n",
       "      <td>...</td>\n",
       "      <td>65535</td>\n",
       "      <td>-1</td>\n",
       "      <td>65535</td>\n",
       "      <td>-1</td>\n",
       "      <td>65535</td>\n",
       "      <td>-1</td>\n",
       "      <td>65535</td>\n",
       "      <td>690</td>\n",
       "      <td>1</td>\n",
       "      <td>0</td>\n",
       "    </tr>\n",
       "    <tr>\n",
       "      <th>3BF4DD122167DEA926F1F6583C317714</th>\n",
       "      <td>1868</td>\n",
       "      <td>33</td>\n",
       "      <td>3014</td>\n",
       "      <td>27</td>\n",
       "      <td>3037</td>\n",
       "      <td>26</td>\n",
       "      <td>2473</td>\n",
       "      <td>16</td>\n",
       "      <td>1493</td>\n",
       "      <td>3</td>\n",
       "      <td>...</td>\n",
       "      <td>1</td>\n",
       "      <td>-1</td>\n",
       "      <td>65535</td>\n",
       "      <td>-1</td>\n",
       "      <td>65535</td>\n",
       "      <td>-1</td>\n",
       "      <td>65535</td>\n",
       "      <td>1637</td>\n",
       "      <td>1</td>\n",
       "      <td>0</td>\n",
       "    </tr>\n",
       "    <tr>\n",
       "      <th>172E4EF82AC628145968F95DD5A34769</th>\n",
       "      <td>3132</td>\n",
       "      <td>35</td>\n",
       "      <td>1943</td>\n",
       "      <td>9</td>\n",
       "      <td>2548</td>\n",
       "      <td>3</td>\n",
       "      <td>2850</td>\n",
       "      <td>2</td>\n",
       "      <td>-1</td>\n",
       "      <td>65535</td>\n",
       "      <td>...</td>\n",
       "      <td>65535</td>\n",
       "      <td>-1</td>\n",
       "      <td>65535</td>\n",
       "      <td>-1</td>\n",
       "      <td>65535</td>\n",
       "      <td>-1</td>\n",
       "      <td>65535</td>\n",
       "      <td>3222</td>\n",
       "      <td>0</td>\n",
       "      <td>0</td>\n",
       "    </tr>\n",
       "    <tr>\n",
       "      <th>504FDCAB69ECA97E1B9CB0DE577367FB</th>\n",
       "      <td>3733</td>\n",
       "      <td>22</td>\n",
       "      <td>2319</td>\n",
       "      <td>13</td>\n",
       "      <td>2320</td>\n",
       "      <td>12</td>\n",
       "      <td>797</td>\n",
       "      <td>11</td>\n",
       "      <td>225</td>\n",
       "      <td>2</td>\n",
       "      <td>...</td>\n",
       "      <td>1</td>\n",
       "      <td>2510</td>\n",
       "      <td>1</td>\n",
       "      <td>2631</td>\n",
       "      <td>1</td>\n",
       "      <td>2843</td>\n",
       "      <td>1</td>\n",
       "      <td>786</td>\n",
       "      <td>1</td>\n",
       "      <td>0</td>\n",
       "    </tr>\n",
       "    <tr>\n",
       "      <th>F8F8077701985AAACF655F618EECF0A0</th>\n",
       "      <td>210</td>\n",
       "      <td>256</td>\n",
       "      <td>1281</td>\n",
       "      <td>1</td>\n",
       "      <td>-1</td>\n",
       "      <td>65535</td>\n",
       "      <td>-1</td>\n",
       "      <td>65535</td>\n",
       "      <td>-1</td>\n",
       "      <td>65535</td>\n",
       "      <td>...</td>\n",
       "      <td>65535</td>\n",
       "      <td>-1</td>\n",
       "      <td>65535</td>\n",
       "      <td>-1</td>\n",
       "      <td>65535</td>\n",
       "      <td>-1</td>\n",
       "      <td>65535</td>\n",
       "      <td>669</td>\n",
       "      <td>1</td>\n",
       "      <td>1</td>\n",
       "    </tr>\n",
       "    <tr>\n",
       "      <th>134FA4E3841C5571EF4515B5CCFFBAA4</th>\n",
       "      <td>2612</td>\n",
       "      <td>59</td>\n",
       "      <td>3149</td>\n",
       "      <td>23</td>\n",
       "      <td>927</td>\n",
       "      <td>18</td>\n",
       "      <td>3651</td>\n",
       "      <td>11</td>\n",
       "      <td>3496</td>\n",
       "      <td>8</td>\n",
       "      <td>...</td>\n",
       "      <td>7</td>\n",
       "      <td>2259</td>\n",
       "      <td>5</td>\n",
       "      <td>1695</td>\n",
       "      <td>4</td>\n",
       "      <td>1266</td>\n",
       "      <td>3</td>\n",
       "      <td>2107</td>\n",
       "      <td>1</td>\n",
       "      <td>0</td>\n",
       "    </tr>\n",
       "    <tr>\n",
       "      <th>BA1D6FBDD42B45516248BF3D33F4C777</th>\n",
       "      <td>230</td>\n",
       "      <td>38</td>\n",
       "      <td>1270</td>\n",
       "      <td>35</td>\n",
       "      <td>290</td>\n",
       "      <td>32</td>\n",
       "      <td>1609</td>\n",
       "      <td>14</td>\n",
       "      <td>1853</td>\n",
       "      <td>11</td>\n",
       "      <td>...</td>\n",
       "      <td>9</td>\n",
       "      <td>2987</td>\n",
       "      <td>8</td>\n",
       "      <td>207</td>\n",
       "      <td>7</td>\n",
       "      <td>850</td>\n",
       "      <td>7</td>\n",
       "      <td>1204</td>\n",
       "      <td>1</td>\n",
       "      <td>1</td>\n",
       "    </tr>\n",
       "    <tr>\n",
       "      <th>E8AC90785DF7DDD578595B0952245117</th>\n",
       "      <td>2113</td>\n",
       "      <td>52</td>\n",
       "      <td>28</td>\n",
       "      <td>11</td>\n",
       "      <td>1562</td>\n",
       "      <td>3</td>\n",
       "      <td>1853</td>\n",
       "      <td>3</td>\n",
       "      <td>3276</td>\n",
       "      <td>2</td>\n",
       "      <td>...</td>\n",
       "      <td>1</td>\n",
       "      <td>712</td>\n",
       "      <td>1</td>\n",
       "      <td>1380</td>\n",
       "      <td>1</td>\n",
       "      <td>2413</td>\n",
       "      <td>1</td>\n",
       "      <td>1137</td>\n",
       "      <td>1</td>\n",
       "      <td>0</td>\n",
       "    </tr>\n",
       "    <tr>\n",
       "      <th>7118182ECB7EB87624DCC38C6A310B25</th>\n",
       "      <td>1373</td>\n",
       "      <td>10</td>\n",
       "      <td>1382</td>\n",
       "      <td>7</td>\n",
       "      <td>1370</td>\n",
       "      <td>4</td>\n",
       "      <td>1374</td>\n",
       "      <td>3</td>\n",
       "      <td>1371</td>\n",
       "      <td>2</td>\n",
       "      <td>...</td>\n",
       "      <td>65535</td>\n",
       "      <td>-1</td>\n",
       "      <td>65535</td>\n",
       "      <td>-1</td>\n",
       "      <td>65535</td>\n",
       "      <td>-1</td>\n",
       "      <td>65535</td>\n",
       "      <td>1016</td>\n",
       "      <td>1</td>\n",
       "      <td>1</td>\n",
       "    </tr>\n",
       "    <tr>\n",
       "      <th>D55F730F65271FE6B45B988A3CDC769D</th>\n",
       "      <td>1692</td>\n",
       "      <td>26</td>\n",
       "      <td>684</td>\n",
       "      <td>17</td>\n",
       "      <td>1628</td>\n",
       "      <td>15</td>\n",
       "      <td>2245</td>\n",
       "      <td>6</td>\n",
       "      <td>2596</td>\n",
       "      <td>6</td>\n",
       "      <td>...</td>\n",
       "      <td>1</td>\n",
       "      <td>3659</td>\n",
       "      <td>1</td>\n",
       "      <td>-1</td>\n",
       "      <td>65535</td>\n",
       "      <td>-1</td>\n",
       "      <td>65535</td>\n",
       "      <td>2314</td>\n",
       "      <td>0</td>\n",
       "      <td>0</td>\n",
       "    </tr>\n",
       "    <tr>\n",
       "      <th>8397EDD7856EE48A11F2590572988481</th>\n",
       "      <td>1934</td>\n",
       "      <td>15</td>\n",
       "      <td>2090</td>\n",
       "      <td>3</td>\n",
       "      <td>2112</td>\n",
       "      <td>1</td>\n",
       "      <td>-1</td>\n",
       "      <td>65535</td>\n",
       "      <td>-1</td>\n",
       "      <td>65535</td>\n",
       "      <td>...</td>\n",
       "      <td>65535</td>\n",
       "      <td>-1</td>\n",
       "      <td>65535</td>\n",
       "      <td>-1</td>\n",
       "      <td>65535</td>\n",
       "      <td>-1</td>\n",
       "      <td>65535</td>\n",
       "      <td>1457</td>\n",
       "      <td>0</td>\n",
       "      <td>0</td>\n",
       "    </tr>\n",
       "  </tbody>\n",
       "</table>\n",
       "<p>20 rows × 23 columns</p>\n",
       "</div>"
      ],
      "text/plain": [
       "                                  ANTENNA_ID_0  COUNT_0  ANTENNA_ID_1  \\\n",
       "USER                                                                    \n",
       "ED96A156B5712B53C57CFF8E8ABC182D          2002       98          2204   \n",
       "A53F04CCB9D4DE72D1D80A9695CA0F38          2040       57          2282   \n",
       "4921680006841C65C5960D6E9C31667F          2555        2           676   \n",
       "45690AA7F26E3FEF051AD1252E716CB8           125       13          1310   \n",
       "F1CBA36A18650AB67A10181F1232CB3D          2047       75           657   \n",
       "FAF9615D48D09049AF12453F767E5B9E          1174       16           116   \n",
       "A17D41FD01A77C21E2C73C85D3D6C865          2688      188           834   \n",
       "84B9E30956F6A66675D17A15189F9CCB          2075       64           568   \n",
       "6903CCA86378FDB0D1589C0D7FC3ACE3           566        5           276   \n",
       "EB5933360A48B8E9C58FB0B6E82EDA79          2622       13           520   \n",
       "3BF4DD122167DEA926F1F6583C317714          1868       33          3014   \n",
       "172E4EF82AC628145968F95DD5A34769          3132       35          1943   \n",
       "504FDCAB69ECA97E1B9CB0DE577367FB          3733       22          2319   \n",
       "F8F8077701985AAACF655F618EECF0A0           210      256          1281   \n",
       "134FA4E3841C5571EF4515B5CCFFBAA4          2612       59          3149   \n",
       "BA1D6FBDD42B45516248BF3D33F4C777           230       38          1270   \n",
       "E8AC90785DF7DDD578595B0952245117          2113       52            28   \n",
       "7118182ECB7EB87624DCC38C6A310B25          1373       10          1382   \n",
       "D55F730F65271FE6B45B988A3CDC769D          1692       26           684   \n",
       "8397EDD7856EE48A11F2590572988481          1934       15          2090   \n",
       "\n",
       "                                  COUNT_1  ANTENNA_ID_2  COUNT_2  \\\n",
       "USER                                                               \n",
       "ED96A156B5712B53C57CFF8E8ABC182D       40          1962       30   \n",
       "A53F04CCB9D4DE72D1D80A9695CA0F38       21           754       20   \n",
       "4921680006841C65C5960D6E9C31667F        1          1002        1   \n",
       "45690AA7F26E3FEF051AD1252E716CB8        8           257        4   \n",
       "F1CBA36A18650AB67A10181F1232CB3D       22           409       19   \n",
       "FAF9615D48D09049AF12453F767E5B9E       11          3053        7   \n",
       "A17D41FD01A77C21E2C73C85D3D6C865       20           729        1   \n",
       "84B9E30956F6A66675D17A15189F9CCB       46          1821       36   \n",
       "6903CCA86378FDB0D1589C0D7FC3ACE3        4           945        4   \n",
       "EB5933360A48B8E9C58FB0B6E82EDA79        5          1515        2   \n",
       "3BF4DD122167DEA926F1F6583C317714       27          3037       26   \n",
       "172E4EF82AC628145968F95DD5A34769        9          2548        3   \n",
       "504FDCAB69ECA97E1B9CB0DE577367FB       13          2320       12   \n",
       "F8F8077701985AAACF655F618EECF0A0        1            -1    65535   \n",
       "134FA4E3841C5571EF4515B5CCFFBAA4       23           927       18   \n",
       "BA1D6FBDD42B45516248BF3D33F4C777       35           290       32   \n",
       "E8AC90785DF7DDD578595B0952245117       11          1562        3   \n",
       "7118182ECB7EB87624DCC38C6A310B25        7          1370        4   \n",
       "D55F730F65271FE6B45B988A3CDC769D       17          1628       15   \n",
       "8397EDD7856EE48A11F2590572988481        3          2112        1   \n",
       "\n",
       "                                  ANTENNA_ID_3  COUNT_3  ANTENNA_ID_4  \\\n",
       "USER                                                                    \n",
       "ED96A156B5712B53C57CFF8E8ABC182D          2353       23          1446   \n",
       "A53F04CCB9D4DE72D1D80A9695CA0F38          1279       14          1877   \n",
       "4921680006841C65C5960D6E9C31667F          3312        1            -1   \n",
       "45690AA7F26E3FEF051AD1252E716CB8           250        3           123   \n",
       "F1CBA36A18650AB67A10181F1232CB3D          2359       19           256   \n",
       "FAF9615D48D09049AF12453F767E5B9E          2921        6          3054   \n",
       "A17D41FD01A77C21E2C73C85D3D6C865            -1    65535            -1   \n",
       "84B9E30956F6A66675D17A15189F9CCB          1289       29           840   \n",
       "6903CCA86378FDB0D1589C0D7FC3ACE3          1244        3           297   \n",
       "EB5933360A48B8E9C58FB0B6E82EDA79           892        1           924   \n",
       "3BF4DD122167DEA926F1F6583C317714          2473       16          1493   \n",
       "172E4EF82AC628145968F95DD5A34769          2850        2            -1   \n",
       "504FDCAB69ECA97E1B9CB0DE577367FB           797       11           225   \n",
       "F8F8077701985AAACF655F618EECF0A0            -1    65535            -1   \n",
       "134FA4E3841C5571EF4515B5CCFFBAA4          3651       11          3496   \n",
       "BA1D6FBDD42B45516248BF3D33F4C777          1609       14          1853   \n",
       "E8AC90785DF7DDD578595B0952245117          1853        3          3276   \n",
       "7118182ECB7EB87624DCC38C6A310B25          1374        3          1371   \n",
       "D55F730F65271FE6B45B988A3CDC769D          2245        6          2596   \n",
       "8397EDD7856EE48A11F2590572988481            -1    65535            -1   \n",
       "\n",
       "                                  COUNT_4    ...     COUNT_6  ANTENNA_ID_7  \\\n",
       "USER                                         ...                             \n",
       "ED96A156B5712B53C57CFF8E8ABC182D       21    ...          17          1443   \n",
       "A53F04CCB9D4DE72D1D80A9695CA0F38       13    ...           8           343   \n",
       "4921680006841C65C5960D6E9C31667F    65535    ...       65535            -1   \n",
       "45690AA7F26E3FEF051AD1252E716CB8        2    ...           1          1018   \n",
       "F1CBA36A18650AB67A10181F1232CB3D       18    ...          16          2208   \n",
       "FAF9615D48D09049AF12453F767E5B9E        5    ...           3          2387   \n",
       "A17D41FD01A77C21E2C73C85D3D6C865    65535    ...       65535            -1   \n",
       "84B9E30956F6A66675D17A15189F9CCB       19    ...           8           713   \n",
       "6903CCA86378FDB0D1589C0D7FC3ACE3        2    ...           1          1125   \n",
       "EB5933360A48B8E9C58FB0B6E82EDA79        1    ...       65535            -1   \n",
       "3BF4DD122167DEA926F1F6583C317714        3    ...           1            -1   \n",
       "172E4EF82AC628145968F95DD5A34769    65535    ...       65535            -1   \n",
       "504FDCAB69ECA97E1B9CB0DE577367FB        2    ...           1          2510   \n",
       "F8F8077701985AAACF655F618EECF0A0    65535    ...       65535            -1   \n",
       "134FA4E3841C5571EF4515B5CCFFBAA4        8    ...           7          2259   \n",
       "BA1D6FBDD42B45516248BF3D33F4C777       11    ...           9          2987   \n",
       "E8AC90785DF7DDD578595B0952245117        2    ...           1           712   \n",
       "7118182ECB7EB87624DCC38C6A310B25        2    ...       65535            -1   \n",
       "D55F730F65271FE6B45B988A3CDC769D        6    ...           1          3659   \n",
       "8397EDD7856EE48A11F2590572988481    65535    ...       65535            -1   \n",
       "\n",
       "                                  COUNT_7  ANTENNA_ID_8  COUNT_8  \\\n",
       "USER                                                               \n",
       "ED96A156B5712B53C57CFF8E8ABC182D       15          1444       10   \n",
       "A53F04CCB9D4DE72D1D80A9695CA0F38        4           131        3   \n",
       "4921680006841C65C5960D6E9C31667F    65535            -1    65535   \n",
       "45690AA7F26E3FEF051AD1252E716CB8        1          1401        1   \n",
       "F1CBA36A18650AB67A10181F1232CB3D       15           954       14   \n",
       "FAF9615D48D09049AF12453F767E5B9E        2          2716        2   \n",
       "A17D41FD01A77C21E2C73C85D3D6C865    65535            -1    65535   \n",
       "84B9E30956F6A66675D17A15189F9CCB        4          1960        4   \n",
       "6903CCA86378FDB0D1589C0D7FC3ACE3        1          1230        1   \n",
       "EB5933360A48B8E9C58FB0B6E82EDA79    65535            -1    65535   \n",
       "3BF4DD122167DEA926F1F6583C317714    65535            -1    65535   \n",
       "172E4EF82AC628145968F95DD5A34769    65535            -1    65535   \n",
       "504FDCAB69ECA97E1B9CB0DE577367FB        1          2631        1   \n",
       "F8F8077701985AAACF655F618EECF0A0    65535            -1    65535   \n",
       "134FA4E3841C5571EF4515B5CCFFBAA4        5          1695        4   \n",
       "BA1D6FBDD42B45516248BF3D33F4C777        8           207        7   \n",
       "E8AC90785DF7DDD578595B0952245117        1          1380        1   \n",
       "7118182ECB7EB87624DCC38C6A310B25    65535            -1    65535   \n",
       "D55F730F65271FE6B45B988A3CDC769D        1            -1    65535   \n",
       "8397EDD7856EE48A11F2590572988481    65535            -1    65535   \n",
       "\n",
       "                                  ANTENNA_ID_9  COUNT_9  MOBILITY_DIAMETER  \\\n",
       "USER                                                                         \n",
       "ED96A156B5712B53C57CFF8E8ABC182D           514        9                846   \n",
       "A53F04CCB9D4DE72D1D80A9695CA0F38          1328        3               1535   \n",
       "4921680006841C65C5960D6E9C31667F            -1    65535               2128   \n",
       "45690AA7F26E3FEF051AD1252E716CB8            -1    65535                695   \n",
       "F1CBA36A18650AB67A10181F1232CB3D           321       11               1007   \n",
       "FAF9615D48D09049AF12453F767E5B9E          3591        2               2850   \n",
       "A17D41FD01A77C21E2C73C85D3D6C865            -1    65535                912   \n",
       "84B9E30956F6A66675D17A15189F9CCB          2079        4               1056   \n",
       "6903CCA86378FDB0D1589C0D7FC3ACE3          2082        1                959   \n",
       "EB5933360A48B8E9C58FB0B6E82EDA79            -1    65535                690   \n",
       "3BF4DD122167DEA926F1F6583C317714            -1    65535               1637   \n",
       "172E4EF82AC628145968F95DD5A34769            -1    65535               3222   \n",
       "504FDCAB69ECA97E1B9CB0DE577367FB          2843        1                786   \n",
       "F8F8077701985AAACF655F618EECF0A0            -1    65535                669   \n",
       "134FA4E3841C5571EF4515B5CCFFBAA4          1266        3               2107   \n",
       "BA1D6FBDD42B45516248BF3D33F4C777           850        7               1204   \n",
       "E8AC90785DF7DDD578595B0952245117          2413        1               1137   \n",
       "7118182ECB7EB87624DCC38C6A310B25            -1    65535               1016   \n",
       "D55F730F65271FE6B45B988A3CDC769D            -1    65535               2314   \n",
       "8397EDD7856EE48A11F2590572988481            -1    65535               1457   \n",
       "\n",
       "                                  EXPOSED  EPIDEMIC  \n",
       "USER                                                 \n",
       "ED96A156B5712B53C57CFF8E8ABC182D        1         0  \n",
       "A53F04CCB9D4DE72D1D80A9695CA0F38        1         0  \n",
       "4921680006841C65C5960D6E9C31667F        1         0  \n",
       "45690AA7F26E3FEF051AD1252E716CB8        1         0  \n",
       "F1CBA36A18650AB67A10181F1232CB3D        1         0  \n",
       "FAF9615D48D09049AF12453F767E5B9E        1         1  \n",
       "A17D41FD01A77C21E2C73C85D3D6C865        0         0  \n",
       "84B9E30956F6A66675D17A15189F9CCB        1         0  \n",
       "6903CCA86378FDB0D1589C0D7FC3ACE3        1         0  \n",
       "EB5933360A48B8E9C58FB0B6E82EDA79        1         0  \n",
       "3BF4DD122167DEA926F1F6583C317714        1         0  \n",
       "172E4EF82AC628145968F95DD5A34769        0         0  \n",
       "504FDCAB69ECA97E1B9CB0DE577367FB        1         0  \n",
       "F8F8077701985AAACF655F618EECF0A0        1         1  \n",
       "134FA4E3841C5571EF4515B5CCFFBAA4        1         0  \n",
       "BA1D6FBDD42B45516248BF3D33F4C777        1         1  \n",
       "E8AC90785DF7DDD578595B0952245117        1         0  \n",
       "7118182ECB7EB87624DCC38C6A310B25        1         1  \n",
       "D55F730F65271FE6B45B988A3CDC769D        0         0  \n",
       "8397EDD7856EE48A11F2590572988481        0         0  \n",
       "\n",
       "[20 rows x 23 columns]"
      ]
     },
     "execution_count": 129,
     "metadata": {},
     "output_type": "execute_result"
    }
   ],
   "source": [
    "table.sample(20)"
   ]
  },
  {
   "cell_type": "code",
   "execution_count": 130,
   "metadata": {
    "collapsed": false
   },
   "outputs": [
    {
     "data": {
      "text/plain": [
       "True"
      ]
     },
     "execution_count": 130,
     "metadata": {},
     "output_type": "execute_result"
    }
   ],
   "source": [
    "#fast consistency check\n",
    "(table['EXPOSED'] >= table['EPIDEMIC']).all()"
   ]
  },
  {
   "cell_type": "code",
   "execution_count": 151,
   "metadata": {
    "collapsed": true
   },
   "outputs": [],
   "source": [
    "table.drop_duplicates?"
   ]
  },
  {
   "cell_type": "code",
   "execution_count": 163,
   "metadata": {
    "collapsed": false,
    "scrolled": true
   },
   "outputs": [
    {
     "data": {
      "text/html": [
       "<div>\n",
       "<table border=\"1\" class=\"dataframe\">\n",
       "  <thead>\n",
       "    <tr style=\"text-align: right;\">\n",
       "      <th></th>\n",
       "      <th>ANTENNA_ID_0</th>\n",
       "      <th>EPIDEMIC</th>\n",
       "    </tr>\n",
       "    <tr>\n",
       "      <th>USER</th>\n",
       "      <th></th>\n",
       "      <th></th>\n",
       "    </tr>\n",
       "  </thead>\n",
       "  <tbody>\n",
       "    <tr>\n",
       "      <th>69E679784251659B335C109AB9BDEE5C</th>\n",
       "      <td>1</td>\n",
       "      <td>0</td>\n",
       "    </tr>\n",
       "    <tr>\n",
       "      <th>1C74A9C234FAEC2953DD1E727DFBEB30</th>\n",
       "      <td>2</td>\n",
       "      <td>0</td>\n",
       "    </tr>\n",
       "    <tr>\n",
       "      <th>1689BA5694E0E9CA56325AE24721552A</th>\n",
       "      <td>6</td>\n",
       "      <td>0</td>\n",
       "    </tr>\n",
       "    <tr>\n",
       "      <th>08CC1463A441C353F8699BBDA7819BE9</th>\n",
       "      <td>8</td>\n",
       "      <td>1</td>\n",
       "    </tr>\n",
       "    <tr>\n",
       "      <th>5298821615BB5D5CF795BC6A5268924E</th>\n",
       "      <td>9</td>\n",
       "      <td>1</td>\n",
       "    </tr>\n",
       "  </tbody>\n",
       "</table>\n",
       "</div>"
      ],
      "text/plain": [
       "                                  ANTENNA_ID_0  EPIDEMIC\n",
       "USER                                                    \n",
       "69E679784251659B335C109AB9BDEE5C             1         0\n",
       "1C74A9C234FAEC2953DD1E727DFBEB30             2         0\n",
       "1689BA5694E0E9CA56325AE24721552A             6         0\n",
       "08CC1463A441C353F8699BBDA7819BE9             8         1\n",
       "5298821615BB5D5CF795BC6A5268924E             9         1"
      ]
     },
     "execution_count": 163,
     "metadata": {},
     "output_type": "execute_result"
    }
   ],
   "source": [
    "## individual samples check\n",
    "n=1500\n",
    "table = table[['ANTENNA_ID_0','EPIDEMIC']].sample(n).sort_values(by='ANTENNA_ID_0').drop_duplicates()\n",
    "#el drop_duplicates es porque puede haber 2 usuarios con la misma antenna\n",
    "table.head()\n"
   ]
  },
  {
   "cell_type": "code",
   "execution_count": 164,
   "metadata": {
    "collapsed": false
   },
   "outputs": [
    {
     "data": {
      "text/plain": [
       "True"
      ]
     },
     "execution_count": 164,
     "metadata": {},
     "output_type": "execute_result"
    }
   ],
   "source": [
    "#comparo que la condicion epidemica sea igual para c/uno de los users una vez que sortie por las antenna_ids\n",
    "#el sort_index es necesario pues son unicas las antennas\n",
    "(antennas[np.in1d(antennas.index.values,table['ANTENNA_ID_0'].values)]['EPIDEMIC'].sort_index().values == \n",
    " table.EPIDEMIC.values).all()"
   ]
  },
  {
   "cell_type": "code",
   "execution_count": 13,
   "metadata": {
    "collapsed": false
   },
   "outputs": [
    {
     "name": "stdout",
     "output_type": "stream",
     "text": [
      "CPU times: user 1min 42s, sys: 352 ms, total: 1min 42s\n",
      "Wall time: 1min 43s\n"
     ]
    }
   ],
   "source": [
    "%%time\n",
    "#save file back\n",
    "table.to_csv(output_file,\n",
    "             sep = \"|\",\n",
    "             index = True,\n",
    "            header = True,\n",
    "            compression='gzip')"
   ]
  },
  {
   "cell_type": "code",
   "execution_count": 172,
   "metadata": {
    "collapsed": false
   },
   "outputs": [
    {
     "name": "stdout",
     "output_type": "stream",
     "text": [
      "USER,ANTENNA_ID_0,COUNT_0,ANTENNA_ID_1,COUNT_1,ANTENNA_ID_2,COUNT_2,ANTENNA_ID_3,COUNT_3,ANTENNA_ID_4,COUNT_4,ANTENNA_ID_5,COUNT_5,ANTENNA_ID_6,COUNT_6,ANTENNA_ID_7,COUNT_7,ANTENNA_ID_8,COUNT_8,ANTENNA_ID_9,COUNT_9,MOBILITY_DIAMETER,EXPOSED,EPIDEMIC\r\n",
      "FFFF78CB080636632B2D1DE7A7BFAB03,3415,21,2969,5,1320,3,2471,3,1115,2,-1,65535,-1,65535,-1,65535,-1,65535,-1,65535,1063,0,0\r\n",
      "FFFF51FDDD55A2E24D074DE30C4798E9,1207,15,1171,14,1820,9,583,8,2026,5,1066,4,1831,4,1625,2,401,1,825,1,520,1,0\r\n",
      "FFFE1EDDA25369CBC467536FA6A787FD,1847,22,1753,14,1422,11,1028,10,765,9,3072,9,862,8,2463,7,1416,6,871,5,990,1,0\r\n",
      "FFFD0A912A959CDFCFFAB2F93BFBA435,1407,18,1702,8,1613,6,1704,5,1394,3,1398,3,818,2,958,2,726,1,848,1,491,1,0\r\n",
      "FFFCB235D6D917DDF350F5B11CCB0EE8,17,74,174,33,1123,4,1178,4,173,3,890,2,503,1,1039,1,1228,1,1327,1,1613,1,0\r\n",
      "FFFC9EC4F662C44D3006BA69C9F0DE85,876,19,1737,6,1744,5,326,1,378,1,503,1,1118,1,2216,1,2477,1,2962,1,3004,1,1\r\n",
      "FFFB2F18F4CCF253C06B581EA518A7A5,2543,13,704,7,2540,7,1453,6,1642,5,45,4,2393,4,1841,3,3031,3,1009,2,2895,1,0\r\n",
      "FFFA147CB2B23AD12F207F0EFBEB14D0,1857,103,2959,19,1344,2,2309,2,1511,1,2858,1,-1,65535,-1,65535,-1,65535,-1,65535,1633,1,1\r\n",
      "FFFA0736F66FB09200CE1D13E081A946,266,63,1799,46,1790,29,2716,29,537,21,3377,21,1439,18,2715,16,1720,15,2000,14,2558,1,1\r\n",
      "\r\n",
      "gzip: stdout: Broken pipe\r\n"
     ]
    }
   ],
   "source": [
    "#chequeo a ver como esta escrito\n",
    "!zcat $output_file | head"
   ]
  },
  {
   "cell_type": "code",
   "execution_count": null,
   "metadata": {
    "collapsed": true
   },
   "outputs": [],
   "source": []
  }
 ],
 "metadata": {
  "kernelspec": {
   "display_name": "Python 2",
   "language": "python",
   "name": "python2"
  },
  "language_info": {
   "codemirror_mode": {
    "name": "ipython",
    "version": 2
   },
   "file_extension": ".py",
   "mimetype": "text/x-python",
   "name": "python",
   "nbconvert_exporter": "python",
   "pygments_lexer": "ipython2",
   "version": "2.7.11"
  }
 },
 "nbformat": 4,
 "nbformat_minor": 0
}
