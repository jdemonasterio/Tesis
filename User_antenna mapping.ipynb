{
 "cells": [
  {
   "cell_type": "markdown",
   "metadata": {
    "collapsed": true
   },
   "source": [
    "# User_antenna mapping\n",
    "La idea es crear la lista que cuenta antennas utilizadas para cada user en el dataset outputeado por simple_format diariamente y agrupar esta lista (con repeticiones) en un agregado mensual (para luego determinar home_antenna etc.)\n",
    "\n",
    "Tambien usando info de las antenas (epidemicas o no). Podriamos ver si un user \"vive\" o \"paso\" por la zona epidemica.\n",
    "\n",
    "## definiciones utilizadas\n",
    "* timestamp arranca en 0 segundos para 01/01/2012 00:00am\n",
    "* el analisis es solo para cdrs con usuarios de la TelCo. Los users de la TelCo van todos en la primer columna (independientemente del nombre de la columna..) entonces si la llamada es entrante quiere decir que el user de la telco esta recibiendo un llamado en esa antennaID. si la llamada es saliente es al reves. (Podria pasar que sea comunicaciones inter-Telco y ahi habria dos records uno saliente y otro entrante pero con los mismos 2 userIDs).\n",
    "* La Direction, viene dada relativa al user de la primer columna (incoming si entra y viceversa si es outgoing).\n",
    "\n",
    "### el dataset de simple_format vendria con este header\n",
    " {'Target':np.int32 \\\\\\  'Destination':np.uint32 \\\\\\  'TimeStamp':np.uint32 \\\\\\   'Duration':np.uint16 \\\\\\  'AntennaID':np.uint16}\n",
    "\n",
    "por lo cual seria conveniente eliminar los headers de cada .txt.gz para parsear rapidamente, asignar dtypes y despues volver a asignar column names aca en pandas (u otro program)"
   ]
  },
  {
   "cell_type": "markdown",
   "metadata": {},
   "source": [
    "# (Al 02/02) \n",
    "vamos a ver como usar pandas.Dataframe con la opcion de chunksize para ir usando el algoritmo de a cachos en la tabla que es muy pesada para levantar toda en memoria. Y luego ir 'guardando' tipo con cat."
   ]
  },
  {
   "cell_type": "code",
   "execution_count": 1,
   "metadata": {
    "collapsed": false
   },
   "outputs": [
    {
     "data": {
      "application/javascript": [
       "IPython.notebook.set_autosave_interval(180000)"
      ]
     },
     "metadata": {},
     "output_type": "display_data"
    },
    {
     "name": "stdout",
     "output_type": "stream",
     "text": [
      "Autosaving every 180 seconds\n"
     ]
    }
   ],
   "source": [
    "%autosave 180"
   ]
  },
  {
   "cell_type": "code",
   "execution_count": 2,
   "metadata": {
    "collapsed": true
   },
   "outputs": [],
   "source": [
    "import pandas as pd; import numpy as np; import os;import random;\n",
    "pd.set_option('display.max_rows', 300)\n",
    "from matplotlib import pyplot as plt\n",
    "%matplotlib inline\n",
    "import time\n",
    "import os"
   ]
  },
  {
   "cell_type": "code",
   "execution_count": 3,
   "metadata": {
    "collapsed": true
   },
   "outputs": [],
   "source": [
    "np.random.seed(2016)"
   ]
  },
  {
   "cell_type": "code",
   "execution_count": 4,
   "metadata": {
    "collapsed": false
   },
   "outputs": [],
   "source": [
    "#ejemplo  \"/grandata/simple_format/01-02012014.txt.gz\"\n",
    "#seteamos el lugar de trabajo\n",
    "rootdir=\"/grandata/simple_format/\"\n",
    "os.chdir(rootdir)\n",
    "year = \"2015\"; \n",
    "month_start= \"01\";\n",
    "#todos estos sum_links terminan 2 meses mas tardes\n",
    "month_end= str(int(month_start)+2)\n",
    "if int(month_end )<10:\n",
    "    month_end=\"0\"+month_end\n",
    "    \n",
    "day_start = \"01\"\n",
    "day_end = str(int(day_start)+1)\n",
    "if int(day_end )<10:\n",
    "    day_end=\"0\"+ day_end\n",
    "\n",
    "input_file= rootdir +\"simple_format_{y}{ms}.txt.gz\"\\\n",
    "                .format(y=year,ms=month_start,me=month_end,\n",
    "                       ds=day_start,de=day_end)"
   ]
  },
  {
   "cell_type": "code",
   "execution_count": 5,
   "metadata": {
    "collapsed": false
   },
   "outputs": [
    {
     "data": {
      "text/plain": [
       "'/grandata/simple_format/simple_format_201501.txt.gz'"
      ]
     },
     "execution_count": 5,
     "metadata": {},
     "output_type": "execute_result"
    }
   ],
   "source": [
    "input_file"
   ]
  },
  {
   "cell_type": "code",
   "execution_count": 6,
   "metadata": {
    "collapsed": true
   },
   "outputs": [],
   "source": [
    "def get_output_file(hash_map=False,night_filter=False,week_end=False):\n",
    "    output = \"/home/juan/mobility-study/output\"\n",
    "    if week_end == True:\n",
    "        output = output + \"_wkend\"\n",
    "    if night_filter == True:\n",
    "        output = output + \"_ngtfilter\"\n",
    "    if hash_map == True:\n",
    "        output = output + \"_user_hash_map\"\n",
    "    return output + \".txt\""
   ]
  },
  {
   "cell_type": "code",
   "execution_count": 8,
   "metadata": {
    "collapsed": false
   },
   "outputs": [],
   "source": [
    "#para enriquecer el dataset de CDRs con info acerca de la zona epidemica etc.\n",
    "antennas= pd.read_csv('/home/juan/mobility-study/antennas_mexico.csv',sep = \"|\",header=0,index_col=0)\n",
    "antennas.index.rename(\"AntennaID\",inplace=True)"
   ]
  },
  {
   "cell_type": "code",
   "execution_count": null,
   "metadata": {
    "collapsed": true
   },
   "outputs": [],
   "source": [
    "#levanto la tabla de users hash_map.\n",
    "user_hash_range_map_file = get_output_file(True) + \".gz\"\n",
    "user_hash_range_map = pd.read_csv(user_hash_range_map_file,\n",
    "                                  sep=\"|\",\n",
    "                                  index_col=0,\n",
    "                                  header=0\n",
    "                )"
   ]
  },
  {
   "cell_type": "code",
   "execution_count": 9,
   "metadata": {
    "collapsed": false
   },
   "outputs": [],
   "source": [
    "sample_file = input_file.replace(\".txt.gz\",\"_sample.txt.gz\")\n",
    "#para el manejo de las distintas salidas del programa"
   ]
  },
  {
   "cell_type": "code",
   "execution_count": 10,
   "metadata": {
    "collapsed": false
   },
   "outputs": [],
   "source": [
    "week_end = False\n",
    "night_filter = False\n",
    "hash_map = False\n",
    "output_file = get_output_file(hash_map,night_filter,week_end)"
   ]
  },
  {
   "cell_type": "code",
   "execution_count": 12,
   "metadata": {
    "collapsed": false
   },
   "outputs": [
    {
     "data": {
      "text/plain": [
       "'/home/juan/mobility-study/output.txt'"
      ]
     },
     "execution_count": 12,
     "metadata": {},
     "output_type": "execute_result"
    }
   ],
   "source": [
    "output_file"
   ]
  },
  {
   "cell_type": "code",
   "execution_count": 40,
   "metadata": {
    "collapsed": false
   },
   "outputs": [],
   "source": [
    "sample.to_csv(sample_file,\n",
    "              sep=\" \",\n",
    "              header=False,\n",
    "              index=False)"
   ]
  },
  {
   "cell_type": "code",
   "execution_count": 15,
   "metadata": {
    "collapsed": false,
    "scrolled": true
   },
   "outputs": [
    {
     "name": "stdout",
     "output_type": "stream",
     "text": [
      "from __future__ import division\r\n",
      "from __future__ import print_function\r\n",
      "\r\n",
      "import pandas\r\n",
      "import numpy\r\n",
      "\r\n",
      "import sys\r\n",
      "\r\n",
      "def main():\r\n",
      "    input_file = sys.argv[1]\r\n",
      "    passes = int(sys.argv[2])\r\n",
      "\r\n",
      "    for group in range(passes):\r\n",
      "        table = pandas.read_csv(\r\n",
      "            input_file,\r\n",
      "            engine = 'c',\r\n",
      "            chunksize = 1000000,\r\n",
      "            sep = ' ',\r\n",
      "            header = None,\r\n",
      "            names = ['user_id', 0, 1, 2, 3, 'antenna'],\r\n",
      "            usecols = ['user_id', 'antenna']\r\n",
      "        )\r\n",
      "\r\n",
      "        subgroup = pandas.DataFrame()\r\n",
      "        for chunk in table:\r\n",
      "            chunk = chunk[chunk % passes == group]\r\n",
      "            subgroup = subgroup.append(chunk)\r\n",
      "\r\n",
      "        grouped = subgroup.groupby(['user_id', 'antenna'])['antenna'].agg({'count': numpy.size})\r\n",
      "        grouped.to_csv(sys.argv[3], index = True, header = group == 0, append = True)\r\n",
      "\r\n",
      "if __name__ == '__main__':\r\n",
      "    main()\r\n"
     ]
    }
   ],
   "source": [
    "cat scripts-antennas-preprocessing/fixmanGroupUserAntenna.py"
   ]
  },
  {
   "cell_type": "code",
   "execution_count": 13,
   "metadata": {
    "collapsed": true
   },
   "outputs": [],
   "source": [
    "n_group=3\n",
    "\n",
    "caracteres = ['A','B','C','D','E','F','G','H','I','J',\n",
    "              'K','L','M','N','O','P','Q','R',\n",
    "             'S','T','U','V','W','X','Y','Z',\n",
    "             '1','2','3','4','5','6','7','8','9','0']"
   ]
  },
  {
   "cell_type": "code",
   "execution_count": 18,
   "metadata": {
    "collapsed": false
   },
   "outputs": [
    {
     "name": "stdout",
     "output_type": "stream",
     "text": [
      "USER OTHER_USER DIRECTION TIMESTAMP DURATION ANTENNA_ID\r\n",
      "3F58410D67D320A670FD4CDE784D5197 ECDCDC6AA0BACDFE53589796D7F66D3B I 105107982 78 1\r\n",
      "D330833D792BF77F42F2099B81B664AC 9BC98138EC07990540CDC9B16B93895F I 105106854 11 1\r\n",
      "4E20C2D816B78CB8AA5B6E6855DD1BFA 906D7C180EB3669A8C7F0B6875F7224A I 105106828 38 1\r\n",
      "EA283A3F3B19405163EF6BB0BE2613B9 AE7DEDADEE8D99E9E00D69346C66455C I 105106752 122 1\r\n",
      "E3C62C97E65E05DDE7E96979835286B5 B8AB7A3096DB00AF00CCC7627F4B7A51 I 105106831 74 1\r\n",
      "7F32179912634A4179122C210450710B 158C4F35CF0DB998387E13852F75EEE1 I 105106470 61 1\r\n",
      "CA96B1D931D133E590DB7840DE5D6687 FA4D1477322948BF98AE654DE49E9B55 I 105107032 69 1\r\n",
      "0575765370E02B65FC48D8BB12909504 6ABCC3124166B7F7C0EE96F0CB5B8AC7 I 105106607 27 1\r\n",
      "CC71ABED689136538B990CDC2B24B4AD 8B294B572A9ACA0E37E28D35E23B26FA I 105106494 241 1\r\n",
      "\r\n",
      "gzip: stdout: Broken pipe\r\n"
     ]
    }
   ],
   "source": [
    "!zcat $input_file | head -n10"
   ]
  },
  {
   "cell_type": "code",
   "execution_count": null,
   "metadata": {
    "collapsed": false,
    "scrolled": true
   },
   "outputs": [],
   "source": [
    "## script para extraer todos los atributos del simple_format\n",
    "\n",
    "#ver el tiempo que tarda\n",
    "start_time = time.time()\n",
    "\n",
    "#el chunk basicamente va leyendo el file de a 'chunksize' cantidad de filas\n",
    "#subgroup = pd.DataFrame()\n",
    "\n",
    "#hay cinco meses del cual extraer atributos:\n",
    "months= [\"0\"+str(month) for month in range(5,10)]\n",
    "\n",
    "#tenemos 36 caracteres\n",
    "#con esto creo grupos de a n que 'masomenos' van a filtrar la tabla en n_group pedazos\n",
    "n_group=3\n",
    "\n",
    "caracteres = ['A','B','C','D','E','F','G','H','I','J',\n",
    "              'K','L','M','N','O','P','Q','R',\n",
    "             'S','T','U','V','W','X','Y','Z',\n",
    "             '1','2','3','4','5','6','7','8','9','0']\n",
    "\n",
    "year = \"2015\"\n",
    "i=0\n",
    "#creo los grupos que despues van a filtrar c/chunk de la tabla para hacer varias pasadas\n",
    "for group in [caracteres[i:i+n_group] for i in range(0, len(caracteres), n_group)]:\n",
    "    print(\"working group number {i}, time elapsed is {t} \\n\".format(i=i, t=(time.time()-start_time))) \n",
    "    #itero sobre los meses\n",
    "    subgroup = pd.DataFrame()\n",
    "    for month in months:\n",
    "        print(\"Working on month {ms}-{y}, time elapsed is {t} \".format(ms=month,y=year,t=(time.time()-start_time)))\n",
    "        input_file= rootdir +\"simple_format_{y}{ms}.txt.gz\"\\\n",
    "            .format(y=year,ms=month)\n",
    "\n",
    "        table = pd.read_csv(\n",
    "                input_file,\n",
    "                engine = 'c',\n",
    "                chunksize = 5*10**7,\n",
    "    #            iterator =True,\n",
    "                sep = ' ',\n",
    "                header = 0,\n",
    "                index_col=None,\n",
    "                usecols = ['USER','OTHER_USER','ANTENNA_ID','TIMESTAMP'],\n",
    "                dtype = {'TIMESTAMP':np.uint32,'ANTENNA_ID':np.uint16,'USER':np.object_,'OTHER_USER':np.object_}\n",
    "                )\n",
    "\n",
    "        #cuando entramos a este loop, table tiene tantos 'chunks' como el valor entero de la cantidad de lineas en el file\n",
    "        #dividido el tamanyo del chunksize\n",
    "        for chunk in table:\n",
    "                #a cada chunk filtro por todos los Targets que tengan el ultimo caracter dentro de group.\n",
    "                #y trabajo sobre la tabla subgroup nada mas que ahora tiene menos usuarios\n",
    "                subgroup = subgroup.append(chunk[chunk['Target'].apply(lambda x: x[-1] in group)])\n",
    "\n",
    "    #entonces la idea es que yo ahora solo voy a trabajar, dentro de esta tabla filtrada y para todos los meses juntos\n",
    "    \n",
    "    #paso de segundos a horas\n",
    "    #notar que timestamp arranca en 0 segundos para domingo 01/01/2012 00:00am \n",
    "    #con lo cual domingo es el dia 0, lunes el 1, asi..\n",
    "    \n",
    "    subgroup['Hour'] =  (subgroup['TimeStamp'].values*1.0/3600)%24\n",
    "    subgroup['Day']  =  (subgroup['TimeStamp'].values*1.0/(3600*24))%7\n",
    "    \n",
    "    #filtro usuarios con pocos o demasiados llamados en general menos de 5 mensuales y mas de 400  \n",
    "    insignificant_users = subgroup['Target'].value_counts()[(subgroup['Target'].value_counts() < 5) \\\n",
    "                        | (subgroup['Target'].value_counts() > 400)].index.values.tolist()\n",
    "    subgroup= subgroup.loc[~subgroup['Target'].isin(insignificant_users)]\n",
    "    \n",
    "    \n",
    "    #filtro segun nightfilter y week_end\n",
    "    if night_filter == True:\n",
    "        subgroup = subgroup.loc[(subroup['Hour']<8) | (subgroup['Hour']>18)]\n",
    "    if week_end == True:\n",
    "        subgroup = subgroup.loc[(subgroup['Day']==0) | (subgroup['Day']==6)]\n",
    "\n",
    "    \n",
    "    #   \n",
    "        \n",
    "    grouped = subgroup.groupby(['Target', 'AntennaID'])['AntennaID'].agg({'count': np.size})\n",
    "    grouped.reset_index(inplace=True,drop=False)\n",
    "    \n",
    "    del subgroup\n",
    "    #reordeno dentro de c/ target por el count del antenna, esto me sirve para despues ordenar las antenas por uso\n",
    "    grouped.sort_values(by=['Target','count'],ascending=False,inplace=True)\n",
    "    \n",
    "    ##enriquezco la muestra con datos epidemicos\n",
    "    #primero agrego a cada antenna del df el dato de si es epidemica\n",
    "    #despues agrupo por el target y me fijo solo la columna epidemica en c/grupo\n",
    "    #finalmente sumo en c/ grupo y tomo la parte superior \n",
    "#entera de esa division con el largo del grupo. Si uso al menos una antena epidemica entonces esta expuesto(==1) Si no,\n",
    "# da 0 pues no estuvo expuesto.        \n",
    "    ##enriquezco la muestra con datos epidemicos\n",
    "\n",
    "    exposed_info =grouped.join(antennas['EPIDEMIC'], on='AntennaID').\\\n",
    "    groupby('Target')['EPIDEMIC'].\\\n",
    "        agg({'EXPOSED' : lambda x: int( np.ceil(np.sum(x)*1.0/np.size(x)) )}) \n",
    "    \n",
    "    #actualizo la tabla\n",
    "    grouped = grouped.join(exposed_info['EXPOSED'],on=\"Target\")\n",
    "    del exposed_info\n",
    "    \n",
    "    \n",
    "    #creo la tabla filtrada solo por users, que es la que voy a terminar guardando (hay tantos rows como users)\n",
    "    output_table = grouped.drop_duplicates(subset = 'Target', keep='first')\n",
    "    #re indexo\n",
    "    output_table.index = output_table['Target'].values\n",
    "    \n",
    "    #agrupo ahora la tabla por target para hacer todos los calculos en los grupos\n",
    "    \n",
    "    grouped = grouped.groupby('Target')  \n",
    "    \n",
    "    #aca voy a ir agregando las top 10 antennas utilizadas por el user, Si no llego a 10 antennas, relleno con NaNs\n",
    "    for i in range(0,10):\n",
    "        #me quedo con la i-esima fila de c/grupo (si no hay fila, no toma en cuenta ese Target)\n",
    "        \n",
    "        buffer_table = grouped.nth(i)[['AntennaID','count']]\n",
    "        #renombre a iesima AntennaId e iesimo count\n",
    "        buffer_table.columns=['AntennaID_%i'%i,'count_%i'%i]\n",
    "        #agrego esta info como nuevas columnas, dejando lo demas como NaNs\n",
    "        output_table = pd.concat([output_table, buffer_table], axis=1, join_axes=[output_table.index])\n",
    "    \n",
    "    del grouped\n",
    "    #los primeros AntennaIDs ya no me sirven, idem con el primer\n",
    "    output_table.drop('AntennaID', axis=1, inplace=True)\n",
    "    output_table.drop('count', axis=1, inplace=True)\n",
    "    \n",
    "    #para los datos faltantes dentro del Top10, relleno con -1s, que vendrian a ser los NaNs\n",
    "    output_table.fillna(-1,inplace=True)\n",
    "    \n",
    "    #ojo aca que en el caso que entren hashes entonces no los va a poder convertir\n",
    "    output_table = output_table.astype(int,copy=False)\n",
    "    \n",
    "    #agrego info de EPIDEMIC, asumiendo a alguien como epidemico si al antenna donde vive (la AntennaID_0) \n",
    "    #esta catalogada como EPIDEMIC\n",
    "    test_table =test_table.join(antennas['EPIDEMIC'], on='AntennaID_0')\n",
    "    \n",
    "    \n",
    "    #print(output_table.columns)\n",
    "    #print(\"la tabla es:\\n\") \n",
    "    #print(output_table.head(5))\n",
    "    #print(\"\\n\")\n",
    "    \n",
    "    #print(output_table.dytpes)\n",
    "    #pd.to_numeric(output_table['EXPOSED'])\n",
    "    \n",
    "    #for i in range(3,22):\n",
    "    #    pd.to_numeric(output_table[output_table.columns[i]]) \n",
    "    #print(output_table.dytpes)\n",
    "    \n",
    "    \n",
    "    \n",
    "    \n",
    "    #aca termino guardando (en forma de append) el output final pero solo para esos usuarios % pass ==group\n",
    "    output_table.to_csv(output_file, index = False, \n",
    "                   header = False, mode='a')\n",
    "then = start_time\n",
    "seconds = time.time() - then\n",
    "print(\"total running time of script is %d \" % seconds)"
   ]
  },
  {
   "cell_type": "markdown",
   "metadata": {},
   "source": [
    "## Encontramos un problemon donde la base de datos delas antennas no contienen a muchos AntennaIDs que si aparecen en los simple_format files\n"
   ]
  },
  {
   "cell_type": "code",
   "execution_count": null,
   "metadata": {
    "collapsed": true
   },
   "outputs": [],
   "source": [
    "test_table = pd.read_csv(\n",
    "                    output_file,\n",
    "                    engine = 'c',\n",
    "            #        chunksize = 3*10**5,\n",
    "            #            iterator =True,\n",
    "                    sep = ',',\n",
    "                    header = None,\n",
    "                    index_col=None,\n",
    "                    names = [u'Target',u'EXPOSED', u'AntennaID_0', u'count_0', u'AntennaID_1', u'count_1',\n",
    "                           u'AntennaID_2', u'count_2', u'AntennaID_3', u'count_3', u'AntennaID_4',\n",
    "                           u'count_4', u'AntennaID_5', u'count_5', u'AntennaID_6', u'count_6',\n",
    "                           u'AntennaID_7', u'count_7', u'AntennaID_8', u'count_8', u'AntennaID_9', u'count_9']\n",
    "            #        usecols = ['Target', 'AntennaID']  \n",
    "                    )\n",
    "#test_table.sort_values(by=['Target','count'],ascending=True,inplace=True)"
   ]
  },
  {
   "cell_type": "code",
   "execution_count": 128,
   "metadata": {
    "collapsed": false
   },
   "outputs": [
    {
     "data": {
      "text/plain": [
       "(213646, 23)"
      ]
     },
     "execution_count": 128,
     "metadata": {},
     "output_type": "execute_result"
    }
   ],
   "source": [
    "test_table[~test_table['AntennaID_1'].isin(list(antennas.index.values))].shape"
   ]
  },
  {
   "cell_type": "code",
   "execution_count": 130,
   "metadata": {
    "collapsed": false
   },
   "outputs": [
    {
     "data": {
      "text/plain": [
       "(317, 23)"
      ]
     },
     "execution_count": 130,
     "metadata": {},
     "output_type": "execute_result"
    }
   ],
   "source": [
    "test_table[~test_table['AntennaID_0'].isin(list(antennas.index.values))].shape"
   ]
  },
  {
   "cell_type": "code",
   "execution_count": 131,
   "metadata": {
    "collapsed": false
   },
   "outputs": [
    {
     "data": {
      "text/plain": [
       "(800750, 23)"
      ]
     },
     "execution_count": 131,
     "metadata": {},
     "output_type": "execute_result"
    }
   ],
   "source": [
    "test_table[~test_table['AntennaID_3'].isin(list(antennas.index.values))].shape"
   ]
  },
  {
   "cell_type": "code",
   "execution_count": 132,
   "metadata": {
    "collapsed": false
   },
   "outputs": [
    {
     "data": {
      "text/plain": [
       "(515638, 23)"
      ]
     },
     "execution_count": 132,
     "metadata": {},
     "output_type": "execute_result"
    }
   ],
   "source": [
    "test_table[~test_table['AntennaID_2'].isin(list(antennas.index.values))].shape"
   ]
  },
  {
   "cell_type": "code",
   "execution_count": null,
   "metadata": {
    "collapsed": true
   },
   "outputs": [],
   "source": []
  },
  {
   "cell_type": "code",
   "execution_count": 7,
   "metadata": {
    "collapsed": false
   },
   "outputs": [
    {
     "name": "stdout",
     "output_type": "stream",
     "text": [
      "1.3G\tdatosgeo/0315/Geo_Voz_Prepago_all_0315.txt.gz\r\n",
      "49M\tdatosgeo/0315/Geo_Voz_Prepago_all_0315_sample.txt.gz\r\n",
      "41M\tdatosgeo/0315/Geo_Voz_Prepago_all_0315_test.txt.gz\r\n",
      "2.2M\tdatosgeo/0315/Geo_Voz_Prepago_all_0315_test2.txt.gz\r\n"
     ]
    }
   ],
   "source": [
    "!du -ha datosgeo/0315/Geo_Voz_Prepago_*"
   ]
  },
  {
   "cell_type": "code",
   "execution_count": 16,
   "metadata": {
    "collapsed": false
   },
   "outputs": [
    {
     "name": "stdout",
     "output_type": "stream",
     "text": [
      "datosgeo/0315/Geo_Voz_Prepago_all_0315_test.txt.gz\r\n"
     ]
    }
   ],
   "source": [
    "!echo $output_file"
   ]
  },
  {
   "cell_type": "code",
   "execution_count": 17,
   "metadata": {
    "collapsed": false
   },
   "outputs": [
    {
     "name": "stdout",
     "output_type": "stream",
     "text": [
      "113241030,0,3715,24,-1,-1,-1,-1,-1,-1,-1,-1,-1,-1,-1,-1,-1,-1,-1,-1,-1,-1\r\n",
      "113240295,0,1082,4,942,1,3450,1,-1,-1,-1,-1,-1,-1,-1,-1,-1,-1,-1,-1,-1,-1\r\n",
      "113238925,0,4034,7,4023,1,-1,-1,-1,-1,-1,-1,-1,-1,-1,-1,-1,-1,-1,-1,-1,-1\r\n",
      "113238845,1,29,4,160,3,-1,-1,-1,-1,-1,-1,-1,-1,-1,-1,-1,-1,-1,-1,-1,-1\r\n",
      "113238420,0,2138,9,1993,4,50,1,-1,-1,-1,-1,-1,-1,-1,-1,-1,-1,-1,-1,-1,-1\r\n",
      "113236935,0,2348,12,-1,-1,-1,-1,-1,-1,-1,-1,-1,-1,-1,-1,-1,-1,-1,-1,-1,-1\r\n",
      "113236415,0,688,1,747,1,1406,1,1539,1,1644,1,1846,1,3119,1,-1,-1,-1,-1,-1,-1\r\n",
      "113235465,0,2724,7,1018,3,-1,-1,-1,-1,-1,-1,-1,-1,-1,-1,-1,-1,-1,-1,-1,-1\r\n",
      "113235290,1,998,6,999,2,914,1,1001,1,2055,1,-1,-1,-1,-1,-1,-1,-1,-1,-1,-1\r\n",
      "113234200,0,2839,15,-1,-1,-1,-1,-1,-1,-1,-1,-1,-1,-1,-1,-1,-1,-1,-1,-1,-1\r\n",
      "113233765,1,277,5,534,1,536,1,2600,1,-1,-1,-1,-1,-1,-1,-1,-1,-1,-1,-1,-1\r\n",
      "113231845,0,4205,3,4198,2,-1,-1,-1,-1,-1,-1,-1,-1,-1,-1,-1,-1,-1,-1,-1,-1\r\n",
      "113231795,0,1961,7,1706,1,-1,-1,-1,-1,-1,-1,-1,-1,-1,-1,-1,-1,-1,-1,-1,-1\r\n",
      "113231610,0,118,5,251,1,806,1,1062,1,1190,1,4191,1,-1,-1,-1,-1,-1,-1,-1,-1\r\n",
      "113230980,0,1012,4,1779,3,-1,-1,-1,-1,-1,-1,-1,-1,-1,-1,-1,-1,-1,-1,-1,-1\r\n",
      "113230190,0,3661,4,3860,2,-1,-1,-1,-1,-1,-1,-1,-1,-1,-1,-1,-1,-1,-1,-1,-1\r\n",
      "113230020,1,1924,6,-1,-1,-1,-1,-1,-1,-1,-1,-1,-1,-1,-1,-1,-1,-1,-1,-1,-1\r\n",
      "113229755,1,2016,4,2065,1,-1,-1,-1,-1,-1,-1,-1,-1,-1,-1,-1,-1,-1,-1,-1,-1\r\n",
      "113228105,0,1269,6,-1,-1,-1,-1,-1,-1,-1,-1,-1,-1,-1,-1,-1,-1,-1,-1,-1,-1\r\n",
      "113226715,1,1377,11,-1,-1,-1,-1,-1,-1,-1,-1,-1,-1,-1,-1,-1,-1,-1,-1,-1,-1\r\n",
      "\r\n",
      "gzip: stdout: Broken pipe\r\n"
     ]
    }
   ],
   "source": [
    "!zcat $output_file | head -n20"
   ]
  },
  {
   "cell_type": "code",
   "execution_count": 27,
   "metadata": {
    "collapsed": false
   },
   "outputs": [],
   "source": [
    "#!rm datosgeo/0315/Geo_Voz_Prepago_all_0315_test.txt.gz"
   ]
  },
  {
   "cell_type": "code",
   "execution_count": 18,
   "metadata": {
    "collapsed": true
   },
   "outputs": [],
   "source": [
    "test_table =test_table.join(antennas['EPIDEMIC'], on='AntennaID_0')\n"
   ]
  },
  {
   "cell_type": "code",
   "execution_count": 22,
   "metadata": {
    "collapsed": false
   },
   "outputs": [],
   "source": [
    "#df['new_col'] = zip(df.lat, df.long)\n",
    "antenna_lat_long_dict = dict(zip(antennas.index.values, zip(antennas.LATITUDE,antennas.LONGITUDE)))"
   ]
  },
  {
   "cell_type": "code",
   "execution_count": 23,
   "metadata": {
    "collapsed": true
   },
   "outputs": [],
   "source": [
    "import math\n",
    "#earht_radi in kms\n",
    "earth_radi = 6371\n",
    "\n",
    "def distance_on_unit_sphere(lat1, long1, lat2, long2, earth_radi=6371):\n",
    " \n",
    "    # Convert latitude and longitude to \n",
    "    # spherical coordinates in radians.\n",
    "    degrees_to_radians = math.pi/180.0\n",
    "         \n",
    "    # phi = 90 - latitude\n",
    "    phi1 = (90.0 - lat1)*degrees_to_radians\n",
    "    phi2 = (90.0 - lat2)*degrees_to_radians\n",
    "         \n",
    "    # theta = longitude\n",
    "    theta1 = long1*degrees_to_radians\n",
    "    theta2 = long2*degrees_to_radians\n",
    "         \n",
    "    # Compute spherical distance from spherical coordinates.\n",
    "         \n",
    "    # For two locations in spherical coordinates \n",
    "    # (1, theta, phi) and (1, theta', phi')\n",
    "    # cosine( arc length ) = \n",
    "    #    sin phi sin phi' cos(theta-theta') + cos phi cos phi'\n",
    "    # distance = rho * arc length\n",
    "     \n",
    "    cos = (math.sin(phi1)*math.sin(phi2)*math.cos(theta1 - theta2) + \n",
    "           math.cos(phi1)*math.cos(phi2))\n",
    "    arc = math.acos( cos )\n",
    " \n",
    "    # Remember to multiply arc by the radius of the earth \n",
    "    # in your favorite set of units to get length.\n",
    "    return arc*earth_radi"
   ]
  },
  {
   "cell_type": "code",
   "execution_count": 75,
   "metadata": {
    "collapsed": false
   },
   "outputs": [
    {
     "name": "stdout",
     "output_type": "stream",
     "text": [
      "0\n"
     ]
    }
   ],
   "source": [
    "a=0\n",
    "if a==0:\n",
    "    print(a)\n",
    "#a =1\n",
    "elif a==1:\n",
    "    print(\"do someth\")"
   ]
  },
  {
   "cell_type": "code",
   "execution_count": 27,
   "metadata": {
    "collapsed": true
   },
   "outputs": [],
   "source": [
    "from scipy import spatial`"
   ]
  },
  {
   "cell_type": "code",
   "execution_count": 133,
   "metadata": {
    "collapsed": false
   },
   "outputs": [],
   "source": [
    "## algoritmo con convexhulll\n",
    "\n",
    "filter_col = [col for col in list(test_table) if col.startswith('AntennaID')]\n",
    "\n",
    "def convex_hull_radi(row,antenna_lat_long_dict,filter_col):\n",
    "    #rows are pandas series\n",
    "    #print(row.name)\n",
    "    row =  row[filter_col]\n",
    "    latitudes=[]\n",
    "    longitudes =[]\n",
    "    \n",
    "    #cuidado con los NaNs resultantes del map\n",
    "    for ant_id in (row.map(antenna_lat_long_dict).dropna()):\n",
    "        latitudes += [ant_id[0]] \n",
    "        longitudes += [ant_id[1]]\n",
    "    #case: only 1 antennas\n",
    "    if len(latitudes)<=1:\n",
    "        return 0\n",
    "    \n",
    "  \n",
    "    \n",
    "    #case only 2 antennas, arc distance\n",
    "    #elif len(latitudes)==2:\n",
    "    #    return distance_on_unit_sphere(latitudes[0],longitudes[0],latitudes[1],longitudes[1])\n",
    "    \n",
    "    \n",
    "    #elif  len(latitudes)>2:\n",
    "        #points = np.array([np.asarray(latitudes).transpose() ,np.asarray(longitudes).transpose()])\n",
    "        #points = points.transpose()\n",
    "        \n",
    "        #try:\n",
    "        #    points = spatial.ConvexHull(points).points\n",
    "        #except:\n",
    "        #    print(row.name)\n",
    "        #vert = [list(point) for point in chull.points] #chull vertices\n",
    "        \n",
    "        radii=0\n",
    "        for i in range(len(vert)):\n",
    "            for j in range(i):\n",
    "                new_dist= distance_on_unit_sphere(vert[i][0], vert[i][1], vert[j][0], vert[j][1])\n",
    "                if radii< new_dist:\n",
    "                    radii = new_dist \n",
    "\n",
    "        return dist\n",
    "\n",
    "#convex_hull_radi(test_table.loc[12],antenna_lat_long_dict,filter_col)"
   ]
  },
  {
   "cell_type": "code",
   "execution_count": 149,
   "metadata": {
    "collapsed": true
   },
   "outputs": [],
   "source": [
    "##algoritmo sin convex hull\n",
    "\n",
    "filter_col = [col for col in list(test_table) if col.startswith('AntennaID')]\n",
    "\n",
    "def convex_hull_radi(row,antenna_lat_long_dict,filter_col):\n",
    "    #rows are pandas series\n",
    "    #print(row.name)\n",
    "    row =  row[filter_col]\n",
    "    latitudes=[]\n",
    "    longitudes =[]\n",
    "    \n",
    "    #cuidado con los NaNs resultantes del map\n",
    "    for ant_id in (row.map(antenna_lat_long_dict).dropna()):\n",
    "        latitudes += [ant_id[0]] \n",
    "        longitudes += [ant_id[1]]\n",
    "    \n",
    "    \n",
    "    #try:\n",
    "    radii=0\n",
    "    for i in range(len(latitudes)):\n",
    "        for j in range(i):\n",
    "            new_dist= distance_on_unit_sphere(latitudes[i], longitudes[i], latitudes[j], longitudes[j])\n",
    "            if radii< new_dist:\n",
    "                radii = new_dist \n",
    "\n",
    "    return radii\n",
    "    #except:\n",
    "    #    print(row.name)\n",
    "    #    return 0\n",
    "        \n",
    "       \n",
    "#row =test_table.loc[2][filter_col]\n",
    "#latitudes=[]\n",
    "#longitudes =[]\n",
    "#for ant_id in row.map(antenna_lat_long_dict).dropna():\n",
    "#    latitudes += [ant_id[0]] \n",
    "#    longitudes += [ant_id[1]]\n",
    "#latitudes\n",
    "\n",
    "#convex_hull_radi(test_table.loc[12],antenna_lat_long_dict,filter_col)"
   ]
  },
  {
   "cell_type": "code",
   "execution_count": 151,
   "metadata": {
    "collapsed": false,
    "scrolled": false
   },
   "outputs": [
    {
     "name": "stdout",
     "output_type": "stream",
     "text": [
      "elapsed time is 242.593080997 seconds for 40000 amount of rows\n"
     ]
    }
   ],
   "source": [
    "start_time = time.time()\n",
    "mini_sample =  test_table.sample(4*10**4)\n",
    "mini_sample['mobility_diameter']= mini_sample.apply(lambda row: convex_hull_radi(row,antenna_lat_long_dict,filter_col),axis=1)\n",
    "\n",
    "print(\"elapsed time is %s seconds for %d amount of rows\" % (time.time()-start_time,len(mini_sample)))"
   ]
  },
  {
   "cell_type": "markdown",
   "metadata": {},
   "source": [
    "## un par de corridas usando el diametro del convex/hull dan \n",
    "elapsed time is 253.765459061 for 40000 amount of rows\n",
    "\n",
    "elapsed time is 249.712596893 seconds for 40000 amount of rows"
   ]
  },
  {
   "cell_type": "markdown",
   "metadata": {},
   "source": [
    "## un par de corridas tomando la matriz la matriz diagonal inferior de todas las distancias d(xi,xj) \n",
    "elapsed time is 245.822514057 seconds for 40000 amount of rows\n",
    "\n",
    "elapsed time is 242.593080997 seconds for 40000 amount of rows"
   ]
  },
  {
   "cell_type": "code",
   "execution_count": 138,
   "metadata": {
    "collapsed": false
   },
   "outputs": [
    {
     "data": {
      "text/plain": [
       "AntennaID_0    1201\n",
       "AntennaID_1    2505\n",
       "AntennaID_2     414\n",
       "AntennaID_3      -1\n",
       "AntennaID_4      -1\n",
       "AntennaID_5      -1\n",
       "AntennaID_6      -1\n",
       "AntennaID_7      -1\n",
       "AntennaID_8      -1\n",
       "AntennaID_9      -1\n",
       "Name: 1051915, dtype: float64"
      ]
     },
     "execution_count": 138,
     "metadata": {},
     "output_type": "execute_result"
    }
   ],
   "source": [
    "row =test_table.loc[1051915][filter_col]\n",
    "row"
   ]
  },
  {
   "cell_type": "code",
   "execution_count": 140,
   "metadata": {
    "collapsed": false
   },
   "outputs": [
    {
     "data": {
      "text/plain": [
       "(19.387, -99.213999999999999)"
      ]
     },
     "execution_count": 140,
     "metadata": {},
     "output_type": "execute_result"
    }
   ],
   "source": [
    "antenna_lat_long_dict[414]"
   ]
  },
  {
   "cell_type": "code",
   "execution_count": 117,
   "metadata": {
    "collapsed": true
   },
   "outputs": [
    {
     "ename": "KeyError",
     "evalue": "'the label [4455] is not in the [index]'",
     "output_type": "error",
     "traceback": [
      "\u001b[1;31m---------------------------------------------------------------------------\u001b[0m",
      "\u001b[1;31mKeyError\u001b[0m                                  Traceback (most recent call last)",
      "\u001b[1;32m<ipython-input-117-66d86fc18e6d>\u001b[0m in \u001b[0;36m<module>\u001b[1;34m()\u001b[0m\n\u001b[1;32m----> 1\u001b[1;33m \u001b[0mantennas\u001b[0m\u001b[1;33m.\u001b[0m\u001b[0mloc\u001b[0m\u001b[1;33m[\u001b[0m\u001b[1;36m4455\u001b[0m\u001b[1;33m]\u001b[0m\u001b[1;33m\u001b[0m\u001b[0m\n\u001b[0m",
      "\u001b[1;32m/home/juan/anaconda2/lib/python2.7/site-packages/pandas/core/indexing.pyc\u001b[0m in \u001b[0;36m__getitem__\u001b[1;34m(self, key)\u001b[0m\n\u001b[0;32m   1225\u001b[0m             \u001b[1;32mreturn\u001b[0m \u001b[0mself\u001b[0m\u001b[1;33m.\u001b[0m\u001b[0m_getitem_tuple\u001b[0m\u001b[1;33m(\u001b[0m\u001b[0mkey\u001b[0m\u001b[1;33m)\u001b[0m\u001b[1;33m\u001b[0m\u001b[0m\n\u001b[0;32m   1226\u001b[0m         \u001b[1;32melse\u001b[0m\u001b[1;33m:\u001b[0m\u001b[1;33m\u001b[0m\u001b[0m\n\u001b[1;32m-> 1227\u001b[1;33m             \u001b[1;32mreturn\u001b[0m \u001b[0mself\u001b[0m\u001b[1;33m.\u001b[0m\u001b[0m_getitem_axis\u001b[0m\u001b[1;33m(\u001b[0m\u001b[0mkey\u001b[0m\u001b[1;33m,\u001b[0m \u001b[0maxis\u001b[0m\u001b[1;33m=\u001b[0m\u001b[1;36m0\u001b[0m\u001b[1;33m)\u001b[0m\u001b[1;33m\u001b[0m\u001b[0m\n\u001b[0m\u001b[0;32m   1228\u001b[0m \u001b[1;33m\u001b[0m\u001b[0m\n\u001b[0;32m   1229\u001b[0m     \u001b[1;32mdef\u001b[0m \u001b[0m_getitem_axis\u001b[0m\u001b[1;33m(\u001b[0m\u001b[0mself\u001b[0m\u001b[1;33m,\u001b[0m \u001b[0mkey\u001b[0m\u001b[1;33m,\u001b[0m \u001b[0maxis\u001b[0m\u001b[1;33m=\u001b[0m\u001b[1;36m0\u001b[0m\u001b[1;33m)\u001b[0m\u001b[1;33m:\u001b[0m\u001b[1;33m\u001b[0m\u001b[0m\n",
      "\u001b[1;32m/home/juan/anaconda2/lib/python2.7/site-packages/pandas/core/indexing.pyc\u001b[0m in \u001b[0;36m_getitem_axis\u001b[1;34m(self, key, axis)\u001b[0m\n\u001b[0;32m   1369\u001b[0m \u001b[1;33m\u001b[0m\u001b[0m\n\u001b[0;32m   1370\u001b[0m         \u001b[1;31m# fall thru to straight lookup\u001b[0m\u001b[1;33m\u001b[0m\u001b[1;33m\u001b[0m\u001b[0m\n\u001b[1;32m-> 1371\u001b[1;33m         \u001b[0mself\u001b[0m\u001b[1;33m.\u001b[0m\u001b[0m_has_valid_type\u001b[0m\u001b[1;33m(\u001b[0m\u001b[0mkey\u001b[0m\u001b[1;33m,\u001b[0m \u001b[0maxis\u001b[0m\u001b[1;33m)\u001b[0m\u001b[1;33m\u001b[0m\u001b[0m\n\u001b[0m\u001b[0;32m   1372\u001b[0m         \u001b[1;32mreturn\u001b[0m \u001b[0mself\u001b[0m\u001b[1;33m.\u001b[0m\u001b[0m_get_label\u001b[0m\u001b[1;33m(\u001b[0m\u001b[0mkey\u001b[0m\u001b[1;33m,\u001b[0m \u001b[0maxis\u001b[0m\u001b[1;33m=\u001b[0m\u001b[0maxis\u001b[0m\u001b[1;33m)\u001b[0m\u001b[1;33m\u001b[0m\u001b[0m\n\u001b[0;32m   1373\u001b[0m \u001b[1;33m\u001b[0m\u001b[0m\n",
      "\u001b[1;32m/home/juan/anaconda2/lib/python2.7/site-packages/pandas/core/indexing.pyc\u001b[0m in \u001b[0;36m_has_valid_type\u001b[1;34m(self, key, axis)\u001b[0m\n\u001b[0;32m   1331\u001b[0m                 \u001b[1;32mraise\u001b[0m\u001b[1;33m\u001b[0m\u001b[0m\n\u001b[0;32m   1332\u001b[0m             \u001b[1;32mexcept\u001b[0m\u001b[1;33m:\u001b[0m\u001b[1;33m\u001b[0m\u001b[0m\n\u001b[1;32m-> 1333\u001b[1;33m                 \u001b[0merror\u001b[0m\u001b[1;33m(\u001b[0m\u001b[1;33m)\u001b[0m\u001b[1;33m\u001b[0m\u001b[0m\n\u001b[0m\u001b[0;32m   1334\u001b[0m \u001b[1;33m\u001b[0m\u001b[0m\n\u001b[0;32m   1335\u001b[0m         \u001b[1;32mreturn\u001b[0m \u001b[0mTrue\u001b[0m\u001b[1;33m\u001b[0m\u001b[0m\n",
      "\u001b[1;32m/home/juan/anaconda2/lib/python2.7/site-packages/pandas/core/indexing.pyc\u001b[0m in \u001b[0;36merror\u001b[1;34m()\u001b[0m\n\u001b[0;32m   1318\u001b[0m                         \"cannot use label indexing with a null key\")\n\u001b[0;32m   1319\u001b[0m                 raise KeyError(\"the label [%s] is not in the [%s]\" %\n\u001b[1;32m-> 1320\u001b[1;33m                                (key, self.obj._get_axis_name(axis)))\n\u001b[0m\u001b[0;32m   1321\u001b[0m \u001b[1;33m\u001b[0m\u001b[0m\n\u001b[0;32m   1322\u001b[0m             \u001b[1;32mtry\u001b[0m\u001b[1;33m:\u001b[0m\u001b[1;33m\u001b[0m\u001b[0m\n",
      "\u001b[1;31mKeyError\u001b[0m: 'the label [4455] is not in the [index]'"
     ]
    }
   ],
   "source": [
    "antennas.loc[4455]"
   ]
  },
  {
   "cell_type": "code",
   "execution_count": 116,
   "metadata": {
    "collapsed": false
   },
   "outputs": [
    {
     "data": {
      "text/plain": [
       "AntennaID_0                  NaN\n",
       "AntennaID_1    (19.353, -99.185)\n",
       "AntennaID_2     (19.34, -99.191)\n",
       "AntennaID_3                  NaN\n",
       "AntennaID_4                  NaN\n",
       "AntennaID_5                  NaN\n",
       "AntennaID_6                  NaN\n",
       "AntennaID_7                  NaN\n",
       "AntennaID_8                  NaN\n",
       "AntennaID_9                  NaN\n",
       "Name: 1527936, dtype: object"
      ]
     },
     "execution_count": 116,
     "metadata": {},
     "output_type": "execute_result"
    }
   ],
   "source": [
    "row = row.map(antenna_lat_long_dict)\n",
    "row"
   ]
  },
  {
   "cell_type": "code",
   "execution_count": 111,
   "metadata": {
    "collapsed": false
   },
   "outputs": [
    {
     "data": {
      "text/plain": [
       "AntennaID_1    (19.353, -99.185)\n",
       "AntennaID_2     (19.34, -99.191)\n",
       "Name: 1527936, dtype: object"
      ]
     },
     "execution_count": 111,
     "metadata": {},
     "output_type": "execute_result"
    }
   ],
   "source": [
    "row = row.map(antenna_lat_long_dict).dropna()\n",
    "row"
   ]
  },
  {
   "cell_type": "code",
   "execution_count": 108,
   "metadata": {
    "collapsed": false
   },
   "outputs": [
    {
     "ename": "QhullError",
     "evalue": "Qhull error",
     "output_type": "error",
     "traceback": [
      "\u001b[1;31m---------------------------------------------------------------------------\u001b[0m",
      "\u001b[1;31mQhullError\u001b[0m                                Traceback (most recent call last)",
      "\u001b[1;32m<ipython-input-108-81a1464999ad>\u001b[0m in \u001b[0;36m<module>\u001b[1;34m()\u001b[0m\n\u001b[0;32m     15\u001b[0m \u001b[1;31m#points = np.ndaray(shape=(longitudes.size,2), dtype=float,buffer=np.column_stack(latitudes,longitudes))\u001b[0m\u001b[1;33m\u001b[0m\u001b[1;33m\u001b[0m\u001b[0m\n\u001b[0;32m     16\u001b[0m \u001b[1;33m\u001b[0m\u001b[0m\n\u001b[1;32m---> 17\u001b[1;33m \u001b[0mchull\u001b[0m \u001b[1;33m=\u001b[0m  \u001b[0mspatial\u001b[0m\u001b[1;33m.\u001b[0m\u001b[0mConvexHull\u001b[0m\u001b[1;33m(\u001b[0m\u001b[0mpoints\u001b[0m\u001b[1;33m)\u001b[0m\u001b[1;33m\u001b[0m\u001b[0m\n\u001b[0m",
      "\u001b[1;32mscipy/spatial/qhull.pyx\u001b[0m in \u001b[0;36mscipy.spatial.qhull.ConvexHull.__init__ (scipy/spatial/qhull.c:20327)\u001b[1;34m()\u001b[0m\n",
      "\u001b[1;32mscipy/spatial/qhull.pyx\u001b[0m in \u001b[0;36mscipy.spatial.qhull._Qhull.__init__ (scipy/spatial/qhull.c:3682)\u001b[1;34m()\u001b[0m\n",
      "\u001b[1;31mQhullError\u001b[0m: Qhull error"
     ]
    }
   ],
   "source": [
    "row =test_table.loc[1527936][filter_col]\n",
    "\n",
    "row = row.map(antenna_lat_long_dict).dropna()\n",
    "\n",
    "latitudes=np.zeros(len(row))\n",
    "longitudes =np.zeros(len(row))\n",
    "i=0\n",
    "for ant_id in row:\n",
    "    latitudes[i] = ant_id[0]\n",
    "    longitudes[i] = ant_id[1]\n",
    "    i+=1\n",
    "\n",
    "points = np.array([np.asarray(latitudes).transpose() ,np.asarray(longitudes).transpose()])\n",
    "points = points.transpose()\n",
    "#points = np.ndaray(shape=(longitudes.size,2), dtype=float,buffer=np.column_stack(latitudes,longitudes))\n",
    "\n",
    "chull =  spatial.ConvexHull(points)"
   ]
  },
  {
   "cell_type": "code",
   "execution_count": 109,
   "metadata": {
    "collapsed": false
   },
   "outputs": [
    {
     "data": {
      "text/plain": [
       "array([[ 19.353, -99.185],\n",
       "       [ 19.34 , -99.191]])"
      ]
     },
     "execution_count": 109,
     "metadata": {},
     "output_type": "execute_result"
    }
   ],
   "source": [
    "points"
   ]
  },
  {
   "cell_type": "code",
   "execution_count": 107,
   "metadata": {
    "collapsed": false
   },
   "outputs": [
    {
     "ename": "QhullError",
     "evalue": "Qhull error",
     "output_type": "error",
     "traceback": [
      "\u001b[1;31m---------------------------------------------------------------------------\u001b[0m",
      "\u001b[1;31mQhullError\u001b[0m                                Traceback (most recent call last)",
      "\u001b[1;32m<ipython-input-107-f3f134f6303c>\u001b[0m in \u001b[0;36m<module>\u001b[1;34m()\u001b[0m\n\u001b[1;32m----> 1\u001b[1;33m \u001b[0mchull\u001b[0m \u001b[1;33m=\u001b[0m  \u001b[0mspatial\u001b[0m\u001b[1;33m.\u001b[0m\u001b[0mConvexHull\u001b[0m\u001b[1;33m(\u001b[0m\u001b[0mpoints\u001b[0m\u001b[1;33m)\u001b[0m\u001b[1;33m\u001b[0m\u001b[0m\n\u001b[0m",
      "\u001b[1;32mscipy/spatial/qhull.pyx\u001b[0m in \u001b[0;36mscipy.spatial.qhull.ConvexHull.__init__ (scipy/spatial/qhull.c:20327)\u001b[1;34m()\u001b[0m\n",
      "\u001b[1;32mscipy/spatial/qhull.pyx\u001b[0m in \u001b[0;36mscipy.spatial.qhull._Qhull.__init__ (scipy/spatial/qhull.c:3682)\u001b[1;34m()\u001b[0m\n",
      "\u001b[1;31mQhullError\u001b[0m: Qhull error"
     ]
    }
   ],
   "source": [
    "chull =  spatial.ConvexHull(points)"
   ]
  },
  {
   "cell_type": "code",
   "execution_count": 67,
   "metadata": {
    "collapsed": false
   },
   "outputs": [
    {
     "data": {
      "text/plain": [
       "39.64023821173101"
      ]
     },
     "execution_count": 67,
     "metadata": {},
     "output_type": "execute_result"
    }
   ],
   "source": [
    "dist=0\n",
    "for i in range(len(vert)):\n",
    "    for j in range(i):\n",
    "        new_dist= distance_on_unit_sphere(vert[i][0], vert[i][1], vert[j][0], vert[j][1])\n",
    "        if dist< new_dist:\n",
    "            dist = new_dist "
   ]
  },
  {
   "cell_type": "code",
   "execution_count": 45,
   "metadata": {
    "collapsed": false
   },
   "outputs": [
    {
     "data": {
      "text/plain": [
       "array([ 18.015, -94.565])"
      ]
     },
     "execution_count": 45,
     "metadata": {},
     "output_type": "execute_result"
    }
   ],
   "source": [
    "cartesian[0][0]"
   ]
  },
  {
   "cell_type": "code",
   "execution_count": 37,
   "metadata": {
    "collapsed": false
   },
   "outputs": [
    {
     "data": {
      "text/plain": [
       "array([[ 18.015, -94.565],\n",
       "       [ 17.961, -94.915],\n",
       "       [ 17.984, -94.541],\n",
       "       [ 17.998, -94.634]])"
      ]
     },
     "execution_count": 37,
     "metadata": {},
     "output_type": "execute_result"
    }
   ],
   "source": [
    "chull.points"
   ]
  },
  {
   "cell_type": "code",
   "execution_count": 145,
   "metadata": {
    "collapsed": false
   },
   "outputs": [
    {
     "data": {
      "text/plain": [
       "array([ 17.984,  17.961])"
      ]
     },
     "execution_count": 145,
     "metadata": {},
     "output_type": "execute_result"
    }
   ],
   "source": [
    "points[chull.simplices[1],0]"
   ]
  },
  {
   "cell_type": "code",
   "execution_count": 141,
   "metadata": {
    "collapsed": false
   },
   "outputs": [
    {
     "data": {
      "text/plain": [
       "array([ 18.015,  17.961,  17.984,  17.998])"
      ]
     },
     "execution_count": 141,
     "metadata": {},
     "output_type": "execute_result"
    }
   ],
   "source": [
    "points[:,0]"
   ]
  },
  {
   "cell_type": "code",
   "execution_count": 147,
   "metadata": {
    "collapsed": false
   },
   "outputs": [
    {
     "data": {
      "text/plain": [
       "array([ 18.015, -94.541])"
      ]
     },
     "execution_count": 147,
     "metadata": {},
     "output_type": "execute_result"
    }
   ],
   "source": [
    "chull.max_bound"
   ]
  },
  {
   "cell_type": "code",
   "execution_count": 139,
   "metadata": {
    "collapsed": false
   },
   "outputs": [
    {
     "data": {
      "image/png": "[encoded data removed]",
      "text/plain": [
       "<matplotlib.figure.Figure at 0x7fabd3b14910>"
      ]
     },
     "metadata": {},
     "output_type": "display_data"
    }
   ],
   "source": [
    "plt.plot(points[:,0], points[:,1], 'o')\n",
    "for simplex in chull.simplices:\n",
    "    plt.plot(points[simplex, 0], points[simplex, 1], 'k-')"
   ]
  },
  {
   "cell_type": "code",
   "execution_count": 87,
   "metadata": {
    "collapsed": false
   },
   "outputs": [
    {
     "ename": "NameError",
     "evalue": "name 'matrix' is not defined",
     "output_type": "error",
     "traceback": [
      "\u001b[1;31m---------------------------------------------------------------------------\u001b[0m",
      "\u001b[1;31mNameError\u001b[0m                                 Traceback (most recent call last)",
      "\u001b[1;32m<ipython-input-87-213817636d98>\u001b[0m in \u001b[0;36m<module>\u001b[1;34m()\u001b[0m\n\u001b[1;32m----> 1\u001b[1;33m \u001b[0mxy\u001b[0m\u001b[1;33m=\u001b[0m \u001b[0mmatrix\u001b[0m\u001b[1;33m(\u001b[0m\u001b[0mrnorm\u001b[0m\u001b[1;33m(\u001b[0m\u001b[1;36m24\u001b[0m\u001b[1;33m,\u001b[0m \u001b[1;36m100\u001b[0m\u001b[1;33m,\u001b[0m \u001b[1;36m15\u001b[0m\u001b[1;33m)\u001b[0m\u001b[1;33m,\u001b[0m \u001b[0mncol\u001b[0m\u001b[1;33m=\u001b[0m\u001b[1;36m2\u001b[0m\u001b[1;33m)\u001b[0m\u001b[1;33m\u001b[0m\u001b[0m\n\u001b[0m",
      "\u001b[1;31mNameError\u001b[0m: name 'matrix' is not defined"
     ]
    }
   ],
   "source": [
    "xy= matrix(rnorm(24, 100, 15), ncol=2)"
   ]
  },
  {
   "cell_type": "code",
   "execution_count": 83,
   "metadata": {
    "collapsed": false
   },
   "outputs": [
    {
     "data": {
      "text/html": [
       "<div>\n",
       "<table border=\"1\" class=\"dataframe\">\n",
       "  <thead>\n",
       "    <tr style=\"text-align: right;\">\n",
       "      <th></th>\n",
       "      <th>Target</th>\n",
       "      <th>EXPOSED</th>\n",
       "      <th>AntennaID_0</th>\n",
       "      <th>count_0</th>\n",
       "      <th>AntennaID_1</th>\n",
       "      <th>count_1</th>\n",
       "      <th>AntennaID_2</th>\n",
       "      <th>count_2</th>\n",
       "      <th>AntennaID_3</th>\n",
       "      <th>count_3</th>\n",
       "      <th>...</th>\n",
       "      <th>count_5</th>\n",
       "      <th>AntennaID_6</th>\n",
       "      <th>count_6</th>\n",
       "      <th>AntennaID_7</th>\n",
       "      <th>count_7</th>\n",
       "      <th>AntennaID_8</th>\n",
       "      <th>count_8</th>\n",
       "      <th>AntennaID_9</th>\n",
       "      <th>count_9</th>\n",
       "      <th>EPIDEMIC</th>\n",
       "    </tr>\n",
       "  </thead>\n",
       "  <tbody>\n",
       "    <tr>\n",
       "      <th>0</th>\n",
       "      <td>113241030</td>\n",
       "      <td>0</td>\n",
       "      <td>3715</td>\n",
       "      <td>24</td>\n",
       "      <td>-1</td>\n",
       "      <td>-1</td>\n",
       "      <td>-1</td>\n",
       "      <td>-1</td>\n",
       "      <td>-1</td>\n",
       "      <td>-1</td>\n",
       "      <td>...</td>\n",
       "      <td>-1</td>\n",
       "      <td>-1</td>\n",
       "      <td>-1</td>\n",
       "      <td>-1</td>\n",
       "      <td>-1</td>\n",
       "      <td>-1</td>\n",
       "      <td>-1</td>\n",
       "      <td>-1</td>\n",
       "      <td>-1</td>\n",
       "      <td>0</td>\n",
       "    </tr>\n",
       "    <tr>\n",
       "      <th>2</th>\n",
       "      <td>113238925</td>\n",
       "      <td>0</td>\n",
       "      <td>4034</td>\n",
       "      <td>7</td>\n",
       "      <td>4023</td>\n",
       "      <td>1</td>\n",
       "      <td>-1</td>\n",
       "      <td>-1</td>\n",
       "      <td>-1</td>\n",
       "      <td>-1</td>\n",
       "      <td>...</td>\n",
       "      <td>-1</td>\n",
       "      <td>-1</td>\n",
       "      <td>-1</td>\n",
       "      <td>-1</td>\n",
       "      <td>-1</td>\n",
       "      <td>-1</td>\n",
       "      <td>-1</td>\n",
       "      <td>-1</td>\n",
       "      <td>-1</td>\n",
       "      <td>0</td>\n",
       "    </tr>\n",
       "    <tr>\n",
       "      <th>3</th>\n",
       "      <td>113238845</td>\n",
       "      <td>1</td>\n",
       "      <td>29</td>\n",
       "      <td>4</td>\n",
       "      <td>160</td>\n",
       "      <td>3</td>\n",
       "      <td>-1</td>\n",
       "      <td>-1</td>\n",
       "      <td>-1</td>\n",
       "      <td>-1</td>\n",
       "      <td>...</td>\n",
       "      <td>-1</td>\n",
       "      <td>-1</td>\n",
       "      <td>-1</td>\n",
       "      <td>-1</td>\n",
       "      <td>-1</td>\n",
       "      <td>-1</td>\n",
       "      <td>-1</td>\n",
       "      <td>-1</td>\n",
       "      <td>-1</td>\n",
       "      <td>1</td>\n",
       "    </tr>\n",
       "    <tr>\n",
       "      <th>5</th>\n",
       "      <td>113236935</td>\n",
       "      <td>0</td>\n",
       "      <td>2348</td>\n",
       "      <td>12</td>\n",
       "      <td>-1</td>\n",
       "      <td>-1</td>\n",
       "      <td>-1</td>\n",
       "      <td>-1</td>\n",
       "      <td>-1</td>\n",
       "      <td>-1</td>\n",
       "      <td>...</td>\n",
       "      <td>-1</td>\n",
       "      <td>-1</td>\n",
       "      <td>-1</td>\n",
       "      <td>-1</td>\n",
       "      <td>-1</td>\n",
       "      <td>-1</td>\n",
       "      <td>-1</td>\n",
       "      <td>-1</td>\n",
       "      <td>-1</td>\n",
       "      <td>0</td>\n",
       "    </tr>\n",
       "    <tr>\n",
       "      <th>7</th>\n",
       "      <td>113235465</td>\n",
       "      <td>0</td>\n",
       "      <td>2724</td>\n",
       "      <td>7</td>\n",
       "      <td>1018</td>\n",
       "      <td>3</td>\n",
       "      <td>-1</td>\n",
       "      <td>-1</td>\n",
       "      <td>-1</td>\n",
       "      <td>-1</td>\n",
       "      <td>...</td>\n",
       "      <td>-1</td>\n",
       "      <td>-1</td>\n",
       "      <td>-1</td>\n",
       "      <td>-1</td>\n",
       "      <td>-1</td>\n",
       "      <td>-1</td>\n",
       "      <td>-1</td>\n",
       "      <td>-1</td>\n",
       "      <td>-1</td>\n",
       "      <td>0</td>\n",
       "    </tr>\n",
       "    <tr>\n",
       "      <th>9</th>\n",
       "      <td>113234200</td>\n",
       "      <td>0</td>\n",
       "      <td>2839</td>\n",
       "      <td>15</td>\n",
       "      <td>-1</td>\n",
       "      <td>-1</td>\n",
       "      <td>-1</td>\n",
       "      <td>-1</td>\n",
       "      <td>-1</td>\n",
       "      <td>-1</td>\n",
       "      <td>...</td>\n",
       "      <td>-1</td>\n",
       "      <td>-1</td>\n",
       "      <td>-1</td>\n",
       "      <td>-1</td>\n",
       "      <td>-1</td>\n",
       "      <td>-1</td>\n",
       "      <td>-1</td>\n",
       "      <td>-1</td>\n",
       "      <td>-1</td>\n",
       "      <td>0</td>\n",
       "    </tr>\n",
       "    <tr>\n",
       "      <th>11</th>\n",
       "      <td>113231845</td>\n",
       "      <td>0</td>\n",
       "      <td>4205</td>\n",
       "      <td>3</td>\n",
       "      <td>4198</td>\n",
       "      <td>2</td>\n",
       "      <td>-1</td>\n",
       "      <td>-1</td>\n",
       "      <td>-1</td>\n",
       "      <td>-1</td>\n",
       "      <td>...</td>\n",
       "      <td>-1</td>\n",
       "      <td>-1</td>\n",
       "      <td>-1</td>\n",
       "      <td>-1</td>\n",
       "      <td>-1</td>\n",
       "      <td>-1</td>\n",
       "      <td>-1</td>\n",
       "      <td>-1</td>\n",
       "      <td>-1</td>\n",
       "      <td>0</td>\n",
       "    </tr>\n",
       "    <tr>\n",
       "      <th>12</th>\n",
       "      <td>113231795</td>\n",
       "      <td>0</td>\n",
       "      <td>1961</td>\n",
       "      <td>7</td>\n",
       "      <td>1706</td>\n",
       "      <td>1</td>\n",
       "      <td>-1</td>\n",
       "      <td>-1</td>\n",
       "      <td>-1</td>\n",
       "      <td>-1</td>\n",
       "      <td>...</td>\n",
       "      <td>-1</td>\n",
       "      <td>-1</td>\n",
       "      <td>-1</td>\n",
       "      <td>-1</td>\n",
       "      <td>-1</td>\n",
       "      <td>-1</td>\n",
       "      <td>-1</td>\n",
       "      <td>-1</td>\n",
       "      <td>-1</td>\n",
       "      <td>0</td>\n",
       "    </tr>\n",
       "    <tr>\n",
       "      <th>14</th>\n",
       "      <td>113230980</td>\n",
       "      <td>0</td>\n",
       "      <td>1012</td>\n",
       "      <td>4</td>\n",
       "      <td>1779</td>\n",
       "      <td>3</td>\n",
       "      <td>-1</td>\n",
       "      <td>-1</td>\n",
       "      <td>-1</td>\n",
       "      <td>-1</td>\n",
       "      <td>...</td>\n",
       "      <td>-1</td>\n",
       "      <td>-1</td>\n",
       "      <td>-1</td>\n",
       "      <td>-1</td>\n",
       "      <td>-1</td>\n",
       "      <td>-1</td>\n",
       "      <td>-1</td>\n",
       "      <td>-1</td>\n",
       "      <td>-1</td>\n",
       "      <td>0</td>\n",
       "    </tr>\n",
       "    <tr>\n",
       "      <th>15</th>\n",
       "      <td>113230190</td>\n",
       "      <td>0</td>\n",
       "      <td>3661</td>\n",
       "      <td>4</td>\n",
       "      <td>3860</td>\n",
       "      <td>2</td>\n",
       "      <td>-1</td>\n",
       "      <td>-1</td>\n",
       "      <td>-1</td>\n",
       "      <td>-1</td>\n",
       "      <td>...</td>\n",
       "      <td>-1</td>\n",
       "      <td>-1</td>\n",
       "      <td>-1</td>\n",
       "      <td>-1</td>\n",
       "      <td>-1</td>\n",
       "      <td>-1</td>\n",
       "      <td>-1</td>\n",
       "      <td>-1</td>\n",
       "      <td>-1</td>\n",
       "      <td>0</td>\n",
       "    </tr>\n",
       "  </tbody>\n",
       "</table>\n",
       "<p>10 rows × 23 columns</p>\n",
       "</div>"
      ],
      "text/plain": [
       "       Target  EXPOSED  AntennaID_0  count_0  AntennaID_1  count_1  \\\n",
       "0   113241030        0         3715       24           -1       -1   \n",
       "2   113238925        0         4034        7         4023        1   \n",
       "3   113238845        1           29        4          160        3   \n",
       "5   113236935        0         2348       12           -1       -1   \n",
       "7   113235465        0         2724        7         1018        3   \n",
       "9   113234200        0         2839       15           -1       -1   \n",
       "11  113231845        0         4205        3         4198        2   \n",
       "12  113231795        0         1961        7         1706        1   \n",
       "14  113230980        0         1012        4         1779        3   \n",
       "15  113230190        0         3661        4         3860        2   \n",
       "\n",
       "    AntennaID_2  count_2  AntennaID_3  count_3    ...     count_5  \\\n",
       "0            -1       -1           -1       -1    ...          -1   \n",
       "2            -1       -1           -1       -1    ...          -1   \n",
       "3            -1       -1           -1       -1    ...          -1   \n",
       "5            -1       -1           -1       -1    ...          -1   \n",
       "7            -1       -1           -1       -1    ...          -1   \n",
       "9            -1       -1           -1       -1    ...          -1   \n",
       "11           -1       -1           -1       -1    ...          -1   \n",
       "12           -1       -1           -1       -1    ...          -1   \n",
       "14           -1       -1           -1       -1    ...          -1   \n",
       "15           -1       -1           -1       -1    ...          -1   \n",
       "\n",
       "    AntennaID_6  count_6  AntennaID_7  count_7  AntennaID_8  count_8  \\\n",
       "0            -1       -1           -1       -1           -1       -1   \n",
       "2            -1       -1           -1       -1           -1       -1   \n",
       "3            -1       -1           -1       -1           -1       -1   \n",
       "5            -1       -1           -1       -1           -1       -1   \n",
       "7            -1       -1           -1       -1           -1       -1   \n",
       "9            -1       -1           -1       -1           -1       -1   \n",
       "11           -1       -1           -1       -1           -1       -1   \n",
       "12           -1       -1           -1       -1           -1       -1   \n",
       "14           -1       -1           -1       -1           -1       -1   \n",
       "15           -1       -1           -1       -1           -1       -1   \n",
       "\n",
       "    AntennaID_9  count_9  EPIDEMIC  \n",
       "0            -1       -1         0  \n",
       "2            -1       -1         0  \n",
       "3            -1       -1         1  \n",
       "5            -1       -1         0  \n",
       "7            -1       -1         0  \n",
       "9            -1       -1         0  \n",
       "11           -1       -1         0  \n",
       "12           -1       -1         0  \n",
       "14           -1       -1         0  \n",
       "15           -1       -1         0  \n",
       "\n",
       "[10 rows x 23 columns]"
      ]
     },
     "execution_count": 83,
     "metadata": {},
     "output_type": "execute_result"
    }
   ],
   "source": [
    "test_table[test_table['AntennaID_2']==-1].head(10)"
   ]
  },
  {
   "cell_type": "code",
   "execution_count": 37,
   "metadata": {
    "collapsed": false
   },
   "outputs": [
    {
     "data": {
      "text/plain": [
       "pandas.core.index.Index"
      ]
     },
     "execution_count": 37,
     "metadata": {},
     "output_type": "execute_result"
    }
   ],
   "source": [
    "type(antennas.columns)"
   ]
  },
  {
   "cell_type": "code",
   "execution_count": 36,
   "metadata": {
    "collapsed": false
   },
   "outputs": [
    {
     "data": {
      "text/plain": [
       "pandas.core.series.Series"
      ]
     },
     "execution_count": 36,
     "metadata": {},
     "output_type": "execute_result"
    }
   ],
   "source": [
    "antennas[antennas.columns[]].loc[2]"
   ]
  },
  {
   "cell_type": "code",
   "execution_count": 30,
   "metadata": {
    "collapsed": false
   },
   "outputs": [
    {
     "data": {
      "text/plain": [
       "Index([u'LATITUDE', u'LONGITUDE', u'STATE', u'EPIDEMIC'], dtype='object')"
      ]
     },
     "execution_count": 30,
     "metadata": {},
     "output_type": "execute_result"
    }
   ],
   "source": [
    "antennas.columns"
   ]
  },
  {
   "cell_type": "code",
   "execution_count": 29,
   "metadata": {
    "collapsed": false
   },
   "outputs": [
    {
     "data": {
      "text/html": [
       "<div>\n",
       "<table border=\"1\" class=\"dataframe\">\n",
       "  <thead>\n",
       "    <tr style=\"text-align: right;\">\n",
       "      <th></th>\n",
       "      <th>Target</th>\n",
       "      <th>EXPOSED</th>\n",
       "      <th>AntennaID_0</th>\n",
       "      <th>count_0</th>\n",
       "      <th>AntennaID_1</th>\n",
       "      <th>count_1</th>\n",
       "      <th>AntennaID_2</th>\n",
       "      <th>count_2</th>\n",
       "      <th>AntennaID_3</th>\n",
       "      <th>count_3</th>\n",
       "      <th>...</th>\n",
       "      <th>count_5</th>\n",
       "      <th>AntennaID_6</th>\n",
       "      <th>count_6</th>\n",
       "      <th>AntennaID_7</th>\n",
       "      <th>count_7</th>\n",
       "      <th>AntennaID_8</th>\n",
       "      <th>count_8</th>\n",
       "      <th>AntennaID_9</th>\n",
       "      <th>count_9</th>\n",
       "      <th>EPIDEMIC</th>\n",
       "    </tr>\n",
       "  </thead>\n",
       "  <tbody>\n",
       "    <tr>\n",
       "      <th>0</th>\n",
       "      <td>113241030</td>\n",
       "      <td>0</td>\n",
       "      <td>3715</td>\n",
       "      <td>24</td>\n",
       "      <td>-1</td>\n",
       "      <td>-1</td>\n",
       "      <td>-1</td>\n",
       "      <td>-1</td>\n",
       "      <td>-1</td>\n",
       "      <td>-1</td>\n",
       "      <td>...</td>\n",
       "      <td>-1</td>\n",
       "      <td>-1</td>\n",
       "      <td>-1</td>\n",
       "      <td>-1</td>\n",
       "      <td>-1</td>\n",
       "      <td>-1</td>\n",
       "      <td>-1</td>\n",
       "      <td>-1</td>\n",
       "      <td>-1</td>\n",
       "      <td>0</td>\n",
       "    </tr>\n",
       "    <tr>\n",
       "      <th>1</th>\n",
       "      <td>113240295</td>\n",
       "      <td>0</td>\n",
       "      <td>1082</td>\n",
       "      <td>4</td>\n",
       "      <td>942</td>\n",
       "      <td>1</td>\n",
       "      <td>3450</td>\n",
       "      <td>1</td>\n",
       "      <td>-1</td>\n",
       "      <td>-1</td>\n",
       "      <td>...</td>\n",
       "      <td>-1</td>\n",
       "      <td>-1</td>\n",
       "      <td>-1</td>\n",
       "      <td>-1</td>\n",
       "      <td>-1</td>\n",
       "      <td>-1</td>\n",
       "      <td>-1</td>\n",
       "      <td>-1</td>\n",
       "      <td>-1</td>\n",
       "      <td>0</td>\n",
       "    </tr>\n",
       "    <tr>\n",
       "      <th>2</th>\n",
       "      <td>113238925</td>\n",
       "      <td>0</td>\n",
       "      <td>4034</td>\n",
       "      <td>7</td>\n",
       "      <td>4023</td>\n",
       "      <td>1</td>\n",
       "      <td>-1</td>\n",
       "      <td>-1</td>\n",
       "      <td>-1</td>\n",
       "      <td>-1</td>\n",
       "      <td>...</td>\n",
       "      <td>-1</td>\n",
       "      <td>-1</td>\n",
       "      <td>-1</td>\n",
       "      <td>-1</td>\n",
       "      <td>-1</td>\n",
       "      <td>-1</td>\n",
       "      <td>-1</td>\n",
       "      <td>-1</td>\n",
       "      <td>-1</td>\n",
       "      <td>0</td>\n",
       "    </tr>\n",
       "    <tr>\n",
       "      <th>3</th>\n",
       "      <td>113238845</td>\n",
       "      <td>1</td>\n",
       "      <td>29</td>\n",
       "      <td>4</td>\n",
       "      <td>160</td>\n",
       "      <td>3</td>\n",
       "      <td>-1</td>\n",
       "      <td>-1</td>\n",
       "      <td>-1</td>\n",
       "      <td>-1</td>\n",
       "      <td>...</td>\n",
       "      <td>-1</td>\n",
       "      <td>-1</td>\n",
       "      <td>-1</td>\n",
       "      <td>-1</td>\n",
       "      <td>-1</td>\n",
       "      <td>-1</td>\n",
       "      <td>-1</td>\n",
       "      <td>-1</td>\n",
       "      <td>-1</td>\n",
       "      <td>1</td>\n",
       "    </tr>\n",
       "    <tr>\n",
       "      <th>4</th>\n",
       "      <td>113238420</td>\n",
       "      <td>0</td>\n",
       "      <td>2138</td>\n",
       "      <td>9</td>\n",
       "      <td>1993</td>\n",
       "      <td>4</td>\n",
       "      <td>50</td>\n",
       "      <td>1</td>\n",
       "      <td>-1</td>\n",
       "      <td>-1</td>\n",
       "      <td>...</td>\n",
       "      <td>-1</td>\n",
       "      <td>-1</td>\n",
       "      <td>-1</td>\n",
       "      <td>-1</td>\n",
       "      <td>-1</td>\n",
       "      <td>-1</td>\n",
       "      <td>-1</td>\n",
       "      <td>-1</td>\n",
       "      <td>-1</td>\n",
       "      <td>0</td>\n",
       "    </tr>\n",
       "  </tbody>\n",
       "</table>\n",
       "<p>5 rows × 23 columns</p>\n",
       "</div>"
      ],
      "text/plain": [
       "      Target  EXPOSED  AntennaID_0  count_0  AntennaID_1  count_1  \\\n",
       "0  113241030        0         3715       24           -1       -1   \n",
       "1  113240295        0         1082        4          942        1   \n",
       "2  113238925        0         4034        7         4023        1   \n",
       "3  113238845        1           29        4          160        3   \n",
       "4  113238420        0         2138        9         1993        4   \n",
       "\n",
       "   AntennaID_2  count_2  AntennaID_3  count_3    ...     count_5  AntennaID_6  \\\n",
       "0           -1       -1           -1       -1    ...          -1           -1   \n",
       "1         3450        1           -1       -1    ...          -1           -1   \n",
       "2           -1       -1           -1       -1    ...          -1           -1   \n",
       "3           -1       -1           -1       -1    ...          -1           -1   \n",
       "4           50        1           -1       -1    ...          -1           -1   \n",
       "\n",
       "   count_6  AntennaID_7  count_7  AntennaID_8  count_8  AntennaID_9  count_9  \\\n",
       "0       -1           -1       -1           -1       -1           -1       -1   \n",
       "1       -1           -1       -1           -1       -1           -1       -1   \n",
       "2       -1           -1       -1           -1       -1           -1       -1   \n",
       "3       -1           -1       -1           -1       -1           -1       -1   \n",
       "4       -1           -1       -1           -1       -1           -1       -1   \n",
       "\n",
       "   EPIDEMIC  \n",
       "0         0  \n",
       "1         0  \n",
       "2         0  \n",
       "3         1  \n",
       "4         0  \n",
       "\n",
       "[5 rows x 23 columns]"
      ]
     },
     "execution_count": 29,
     "metadata": {},
     "output_type": "execute_result"
    }
   ],
   "source": [
    "test_table =test_table.join(antennas[['LATITUDE','LONGITUDE']], on=='AntennaID_0')"
   ]
  },
  {
   "cell_type": "code",
   "execution_count": 36,
   "metadata": {
    "collapsed": false
   },
   "outputs": [
    {
     "data": {
      "text/plain": [
       "14.682"
      ]
     },
     "execution_count": 36,
     "metadata": {},
     "output_type": "execute_result"
    }
   ],
   "source": [
    "antennas.iloc[1]['LATITUDE']"
   ]
  },
  {
   "cell_type": "code",
   "execution_count": null,
   "metadata": {
    "collapsed": true
   },
   "outputs": [],
   "source": []
  },
  {
   "cell_type": "code",
   "execution_count": null,
   "metadata": {
    "collapsed": true
   },
   "outputs": [],
   "source": []
  },
  {
   "cell_type": "code",
   "execution_count": null,
   "metadata": {
    "collapsed": true
   },
   "outputs": [],
   "source": []
  },
  {
   "cell_type": "code",
   "execution_count": 20,
   "metadata": {
    "collapsed": false
   },
   "outputs": [
    {
     "data": {
      "text/plain": [
       "'datosgeo/0315/Geo_Voz_Prepago_all_0315_test.txt.gz'"
      ]
     },
     "execution_count": 20,
     "metadata": {},
     "output_type": "execute_result"
    }
   ],
   "source": [
    "output_file"
   ]
  },
  {
   "cell_type": "code",
   "execution_count": 193,
   "metadata": {
    "collapsed": true
   },
   "outputs": [],
   "source": [
    "test_table.to_csv(output_file, index = True, \n",
    "                   header = True, mode='a',compression='gzip')"
   ]
  },
  {
   "cell_type": "code",
   "execution_count": 145,
   "metadata": {
    "collapsed": false
   },
   "outputs": [
    {
     "data": {
      "text/html": [
       "<div>\n",
       "<table border=\"1\" class=\"dataframe\">\n",
       "  <thead>\n",
       "    <tr style=\"text-align: right;\">\n",
       "      <th></th>\n",
       "      <th>Target</th>\n",
       "      <th>AntennaID_0</th>\n",
       "      <th>count_0</th>\n",
       "      <th>AntennaID_1</th>\n",
       "      <th>count_1</th>\n",
       "      <th>AntennaID_2</th>\n",
       "      <th>count_2</th>\n",
       "      <th>AntennaID_3</th>\n",
       "      <th>count_3</th>\n",
       "      <th>AntennaID_4</th>\n",
       "      <th>count_4</th>\n",
       "      <th>AntennaID_5</th>\n",
       "      <th>count_5</th>\n",
       "      <th>AntennaID_6</th>\n",
       "      <th>count_6</th>\n",
       "      <th>AntennaID_7</th>\n",
       "      <th>count_7</th>\n",
       "      <th>AntennaID_8</th>\n",
       "      <th>count_8</th>\n",
       "    </tr>\n",
       "  </thead>\n",
       "  <tbody>\n",
       "    <tr>\n",
       "      <th>4875</th>\n",
       "      <td>4875</td>\n",
       "      <td>1289</td>\n",
       "      <td>6</td>\n",
       "      <td>321</td>\n",
       "      <td>1</td>\n",
       "      <td>-1</td>\n",
       "      <td>-1</td>\n",
       "      <td>-1</td>\n",
       "      <td>-1</td>\n",
       "      <td>-1</td>\n",
       "      <td>-1</td>\n",
       "      <td>-1</td>\n",
       "      <td>-1</td>\n",
       "      <td>-1</td>\n",
       "      <td>-1</td>\n",
       "      <td>-1</td>\n",
       "      <td>-1</td>\n",
       "      <td>-1</td>\n",
       "      <td>-1</td>\n",
       "    </tr>\n",
       "  </tbody>\n",
       "</table>\n",
       "</div>"
      ],
      "text/plain": [
       "      Target  AntennaID_0  count_0  AntennaID_1  count_1  AntennaID_2  \\\n",
       "4875    4875         1289        6          321        1           -1   \n",
       "\n",
       "      count_2  AntennaID_3  count_3  AntennaID_4  count_4  AntennaID_5  \\\n",
       "4875       -1           -1       -1           -1       -1           -1   \n",
       "\n",
       "      count_5  AntennaID_6  count_6  AntennaID_7  count_7  AntennaID_8  \\\n",
       "4875       -1           -1       -1           -1       -1           -1   \n",
       "\n",
       "      count_8  \n",
       "4875       -1  "
      ]
     },
     "execution_count": 145,
     "metadata": {},
     "output_type": "execute_result"
    }
   ],
   "source": [
    "test_table_unique[test_table_unique['Target']==userid]"
   ]
  },
  {
   "cell_type": "code",
   "execution_count": 153,
   "metadata": {
    "collapsed": false
   },
   "outputs": [
    {
     "data": {
      "text/html": [
       "<div>\n",
       "<table border=\"1\" class=\"dataframe\">\n",
       "  <thead>\n",
       "    <tr style=\"text-align: right;\">\n",
       "      <th></th>\n",
       "      <th>Target</th>\n",
       "      <th>AntennaID</th>\n",
       "      <th>count</th>\n",
       "    </tr>\n",
       "  </thead>\n",
       "  <tbody>\n",
       "    <tr>\n",
       "      <th>415314</th>\n",
       "      <td>112929298</td>\n",
       "      <td>1641</td>\n",
       "      <td>3</td>\n",
       "    </tr>\n",
       "    <tr>\n",
       "      <th>415313</th>\n",
       "      <td>112929298</td>\n",
       "      <td>1640</td>\n",
       "      <td>2</td>\n",
       "    </tr>\n",
       "    <tr>\n",
       "      <th>415315</th>\n",
       "      <td>112929298</td>\n",
       "      <td>2775</td>\n",
       "      <td>1</td>\n",
       "    </tr>\n",
       "    <tr>\n",
       "      <th>311537</th>\n",
       "      <td>112691397</td>\n",
       "      <td>191</td>\n",
       "      <td>5</td>\n",
       "    </tr>\n",
       "    <tr>\n",
       "      <th>311536</th>\n",
       "      <td>112561507</td>\n",
       "      <td>1713</td>\n",
       "      <td>5</td>\n",
       "    </tr>\n",
       "  </tbody>\n",
       "</table>\n",
       "</div>"
      ],
      "text/plain": [
       "           Target  AntennaID  count\n",
       "415314  112929298       1641      3\n",
       "415313  112929298       1640      2\n",
       "415315  112929298       2775      1\n",
       "311537  112691397        191      5\n",
       "311536  112561507       1713      5"
      ]
     },
     "execution_count": 153,
     "metadata": {},
     "output_type": "execute_result"
    }
   ],
   "source": [
    "test_table.head()"
   ]
  },
  {
   "cell_type": "code",
   "execution_count": 154,
   "metadata": {
    "collapsed": false
   },
   "outputs": [
    {
     "data": {
      "text/plain": [
       "AntennaID\n",
       "2797    1\n",
       "3060    1\n",
       "3344    1\n",
       "3487    1\n",
       "1924    1\n",
       "Name: EPIDEMIC, dtype: int64"
      ]
     },
     "execution_count": 154,
     "metadata": {},
     "output_type": "execute_result"
    }
   ],
   "source": [
    "antennas['EPIDEMIC'].head()"
   ]
  },
  {
   "cell_type": "code",
   "execution_count": 156,
   "metadata": {
    "collapsed": true
   },
   "outputs": [],
   "source": [
    "pd.merge?"
   ]
  },
  {
   "cell_type": "code",
   "execution_count": 146,
   "metadata": {
    "collapsed": false
   },
   "outputs": [
    {
     "data": {
      "text/plain": [
       "Index([u'Target', u'AntennaID_0', u'count_0', u'AntennaID_1', u'count_1',\n",
       "       u'AntennaID_2', u'count_2', u'AntennaID_3', u'count_3', u'AntennaID_4',\n",
       "       u'count_4', u'AntennaID_5', u'count_5', u'AntennaID_6', u'count_6',\n",
       "       u'AntennaID_7', u'count_7', u'AntennaID_8', u'count_8'],\n",
       "      dtype='object')"
      ]
     },
     "execution_count": 146,
     "metadata": {},
     "output_type": "execute_result"
    }
   ],
   "source": [
    "test_table_unique.columns"
   ]
  },
  {
   "cell_type": "code",
   "execution_count": 87,
   "metadata": {
    "collapsed": false
   },
   "outputs": [],
   "source": [
    "grouped.sort_values(by=['Target','count'],ascending=True,inplace=True)"
   ]
  },
  {
   "cell_type": "code",
   "execution_count": null,
   "metadata": {
    "collapsed": true
   },
   "outputs": [],
   "source": [
    "bash_command = \"zcat ./%s | head -n20\" % test_file(output_file,num)\n",
    "#os.system(bash_command)"
   ]
  },
  {
   "cell_type": "code",
   "execution_count": 156,
   "metadata": {
    "collapsed": false
   },
   "outputs": [
    {
     "data": {
      "text/html": [
       "<div>\n",
       "<table border=\"1\" class=\"dataframe\">\n",
       "  <thead>\n",
       "    <tr style=\"text-align: right;\">\n",
       "      <th></th>\n",
       "      <th>Target</th>\n",
       "      <th>AntennaID</th>\n",
       "      <th>count</th>\n",
       "    </tr>\n",
       "  </thead>\n",
       "  <tbody>\n",
       "    <tr>\n",
       "      <th>578331</th>\n",
       "      <td>93</td>\n",
       "      <td>257</td>\n",
       "      <td>1</td>\n",
       "    </tr>\n",
       "    <tr>\n",
       "      <th>771835</th>\n",
       "      <td>94</td>\n",
       "      <td>1358</td>\n",
       "      <td>4</td>\n",
       "    </tr>\n",
       "    <tr>\n",
       "      <th>578332</th>\n",
       "      <td>453</td>\n",
       "      <td>153</td>\n",
       "      <td>2</td>\n",
       "    </tr>\n",
       "    <tr>\n",
       "      <th>578333</th>\n",
       "      <td>533</td>\n",
       "      <td>911</td>\n",
       "      <td>1</td>\n",
       "    </tr>\n",
       "    <tr>\n",
       "      <th>1158533</th>\n",
       "      <td>626</td>\n",
       "      <td>4155</td>\n",
       "      <td>1</td>\n",
       "    </tr>\n",
       "  </tbody>\n",
       "</table>\n",
       "</div>"
      ],
      "text/plain": [
       "         Target  AntennaID  count\n",
       "578331       93        257      1\n",
       "771835       94       1358      4\n",
       "578332      453        153      2\n",
       "578333      533        911      1\n",
       "1158533     626       4155      1"
      ]
     },
     "execution_count": 156,
     "metadata": {},
     "output_type": "execute_result"
    }
   ],
   "source": [
    "test_table.head()"
   ]
  },
  {
   "cell_type": "code",
   "execution_count": 153,
   "metadata": {
    "collapsed": false
   },
   "outputs": [
    {
     "data": {
      "text/plain": [
       "(1185932,)"
      ]
     },
     "execution_count": 153,
     "metadata": {},
     "output_type": "execute_result"
    }
   ],
   "source": [
    "sample['Target'].value_counts().shape"
   ]
  },
  {
   "cell_type": "code",
   "execution_count": 158,
   "metadata": {
    "collapsed": false
   },
   "outputs": [
    {
     "data": {
      "text/plain": [
       "(1185932,)"
      ]
     },
     "execution_count": 158,
     "metadata": {},
     "output_type": "execute_result"
    }
   ],
   "source": [
    "test_table['Target'].value_counts().shape"
   ]
  },
  {
   "cell_type": "code",
   "execution_count": 126,
   "metadata": {
    "collapsed": false,
    "scrolled": true
   },
   "outputs": [
    {
     "data": {
      "text/plain": [
       "(20870, 3)"
      ]
     },
     "execution_count": 126,
     "metadata": {},
     "output_type": "execute_result"
    }
   ],
   "source": [
    "test_table[test_table['Target']%10==1].shape"
   ]
  },
  {
   "cell_type": "code",
   "execution_count": 121,
   "metadata": {
    "collapsed": false,
    "scrolled": true
   },
   "outputs": [
    {
     "data": {
      "text/html": [
       "<div>\n",
       "<table border=\"1\" class=\"dataframe\">\n",
       "  <thead>\n",
       "    <tr style=\"text-align: right;\">\n",
       "      <th></th>\n",
       "      <th>Target</th>\n",
       "      <th>AntennaID</th>\n",
       "      <th>count</th>\n",
       "    </tr>\n",
       "  </thead>\n",
       "  <tbody>\n",
       "    <tr>\n",
       "      <th>96167</th>\n",
       "      <td>113239804</td>\n",
       "      <td>3104</td>\n",
       "      <td>1</td>\n",
       "    </tr>\n",
       "    <tr>\n",
       "      <th>78445</th>\n",
       "      <td>113229593</td>\n",
       "      <td>903</td>\n",
       "      <td>1</td>\n",
       "    </tr>\n",
       "    <tr>\n",
       "      <th>96166</th>\n",
       "      <td>113222784</td>\n",
       "      <td>1074</td>\n",
       "      <td>1</td>\n",
       "    </tr>\n",
       "    <tr>\n",
       "      <th>41305</th>\n",
       "      <td>113215661</td>\n",
       "      <td>2221</td>\n",
       "      <td>1</td>\n",
       "    </tr>\n",
       "    <tr>\n",
       "      <th>41304</th>\n",
       "      <td>113144521</td>\n",
       "      <td>3041</td>\n",
       "      <td>1</td>\n",
       "    </tr>\n",
       "    <tr>\n",
       "      <th>41303</th>\n",
       "      <td>113132241</td>\n",
       "      <td>521</td>\n",
       "      <td>1</td>\n",
       "    </tr>\n",
       "    <tr>\n",
       "      <th>96165</th>\n",
       "      <td>113099324</td>\n",
       "      <td>2774</td>\n",
       "      <td>1</td>\n",
       "    </tr>\n",
       "    <tr>\n",
       "      <th>20435</th>\n",
       "      <td>113087850</td>\n",
       "      <td>590</td>\n",
       "      <td>1</td>\n",
       "    </tr>\n",
       "    <tr>\n",
       "      <th>96164</th>\n",
       "      <td>113066214</td>\n",
       "      <td>804</td>\n",
       "      <td>2</td>\n",
       "    </tr>\n",
       "    <tr>\n",
       "      <th>41302</th>\n",
       "      <td>113064601</td>\n",
       "      <td>2331</td>\n",
       "      <td>1</td>\n",
       "    </tr>\n",
       "    <tr>\n",
       "      <th>96163</th>\n",
       "      <td>113056884</td>\n",
       "      <td>2034</td>\n",
       "      <td>1</td>\n",
       "    </tr>\n",
       "    <tr>\n",
       "      <th>41301</th>\n",
       "      <td>113051801</td>\n",
       "      <td>1051</td>\n",
       "      <td>1</td>\n",
       "    </tr>\n",
       "    <tr>\n",
       "      <th>96162</th>\n",
       "      <td>113051044</td>\n",
       "      <td>1724</td>\n",
       "      <td>1</td>\n",
       "    </tr>\n",
       "    <tr>\n",
       "      <th>41300</th>\n",
       "      <td>113046601</td>\n",
       "      <td>2881</td>\n",
       "      <td>1</td>\n",
       "    </tr>\n",
       "    <tr>\n",
       "      <th>20434</th>\n",
       "      <td>113044180</td>\n",
       "      <td>1360</td>\n",
       "      <td>1</td>\n",
       "    </tr>\n",
       "    <tr>\n",
       "      <th>78444</th>\n",
       "      <td>113024473</td>\n",
       "      <td>3113</td>\n",
       "      <td>1</td>\n",
       "    </tr>\n",
       "    <tr>\n",
       "      <th>41299</th>\n",
       "      <td>112980071</td>\n",
       "      <td>1301</td>\n",
       "      <td>1</td>\n",
       "    </tr>\n",
       "    <tr>\n",
       "      <th>96161</th>\n",
       "      <td>112964084</td>\n",
       "      <td>4184</td>\n",
       "      <td>1</td>\n",
       "    </tr>\n",
       "    <tr>\n",
       "      <th>20433</th>\n",
       "      <td>112963180</td>\n",
       "      <td>4290</td>\n",
       "      <td>1</td>\n",
       "    </tr>\n",
       "    <tr>\n",
       "      <th>59932</th>\n",
       "      <td>112962052</td>\n",
       "      <td>2292</td>\n",
       "      <td>1</td>\n",
       "    </tr>\n",
       "  </tbody>\n",
       "</table>\n",
       "</div>"
      ],
      "text/plain": [
       "          Target  AntennaID  count\n",
       "96167  113239804       3104      1\n",
       "78445  113229593        903      1\n",
       "96166  113222784       1074      1\n",
       "41305  113215661       2221      1\n",
       "41304  113144521       3041      1\n",
       "41303  113132241        521      1\n",
       "96165  113099324       2774      1\n",
       "20435  113087850        590      1\n",
       "96164  113066214        804      2\n",
       "41302  113064601       2331      1\n",
       "96163  113056884       2034      1\n",
       "41301  113051801       1051      1\n",
       "96162  113051044       1724      1\n",
       "41300  113046601       2881      1\n",
       "20434  113044180       1360      1\n",
       "78444  113024473       3113      1\n",
       "41299  112980071       1301      1\n",
       "96161  112964084       4184      1\n",
       "20433  112963180       4290      1\n",
       "59932  112962052       2292      1"
      ]
     },
     "execution_count": 121,
     "metadata": {},
     "output_type": "execute_result"
    }
   ],
   "source": [
    "test_table.head(20)"
   ]
  },
  {
   "cell_type": "code",
   "execution_count": 45,
   "metadata": {
    "collapsed": false
   },
   "outputs": [
    {
     "data": {
      "text/plain": [
       "(4429, 4)"
      ]
     },
     "execution_count": 45,
     "metadata": {},
     "output_type": "execute_result"
    }
   ],
   "source": [
    "antennas.shape"
   ]
  },
  {
   "cell_type": "code",
   "execution_count": 21,
   "metadata": {
    "collapsed": true
   },
   "outputs": [],
   "source": [
    "#enriquezco el dataset con la info de antennas_mexico.csv\n",
    "enriched_sample = pd.merge(grouped,antennas[[\"EPIDEMIC\",\"STATE\"]],left_on=\"AntennaID\",right_index=True)\n",
    "#enriched_sample2 = pd.merge(sample2,antennas[[\"EPIDEMIC\",\"STATE\"]],left_on=\"AntennaID\",right_index=True)aa"
   ]
  },
  {
   "cell_type": "markdown",
   "metadata": {},
   "source": [
    "## Lo viejo:(20/12)\n",
    "intentamos usar pandas para lograr este resultado y no reventaba la memoria del server para archivos de maximo 2GB (escribia el output file.. todo bien). Cuando GranData corrigio el simple_format los archivos se hicieron 4/5x veces mas grandes de tamanyo con lo cual pandas ya no aguantaba. Entonces pase a trabajar en c++ y usar pandas para corroborrar el resultadoe en archivos pequenyos."
   ]
  },
  {
   "cell_type": "code",
   "execution_count": 64,
   "metadata": {
    "collapsed": false
   },
   "outputs": [],
   "source": [
    "enriched_sample.sort_values(by='TimeStamp',ascending=True,inplace=True)\n",
    "enriched_sample2.sort_values(by='TimeStamp',ascending=True,inplace=True)"
   ]
  },
  {
   "cell_type": "code",
   "execution_count": 65,
   "metadata": {
    "collapsed": false
   },
   "outputs": [
    {
     "data": {
      "text/html": [
       "<div>\n",
       "<table border=\"1\" class=\"dataframe\">\n",
       "  <thead>\n",
       "    <tr style=\"text-align: right;\">\n",
       "      <th></th>\n",
       "      <th>Target</th>\n",
       "      <th>Destination</th>\n",
       "      <th>Direction</th>\n",
       "      <th>TimeStamp</th>\n",
       "      <th>Duration</th>\n",
       "      <th>AntennaID</th>\n",
       "      <th>EPIDEMIC</th>\n",
       "      <th>STATE</th>\n",
       "    </tr>\n",
       "  </thead>\n",
       "  <tbody>\n",
       "    <tr>\n",
       "      <th>8971599</th>\n",
       "      <td>69192599</td>\n",
       "      <td>92013321</td>\n",
       "      <td>I</td>\n",
       "      <td>63158403</td>\n",
       "      <td>30</td>\n",
       "      <td>294</td>\n",
       "      <td>1</td>\n",
       "      <td>Hidalgo</td>\n",
       "    </tr>\n",
       "    <tr>\n",
       "      <th>12096070</th>\n",
       "      <td>94258325</td>\n",
       "      <td>71921565</td>\n",
       "      <td>O</td>\n",
       "      <td>63158404</td>\n",
       "      <td>14</td>\n",
       "      <td>897</td>\n",
       "      <td>1</td>\n",
       "      <td>Veracruz</td>\n",
       "    </tr>\n",
       "    <tr>\n",
       "      <th>3316840</th>\n",
       "      <td>1071787</td>\n",
       "      <td>70056182</td>\n",
       "      <td>I</td>\n",
       "      <td>63158405</td>\n",
       "      <td>63</td>\n",
       "      <td>668</td>\n",
       "      <td>1</td>\n",
       "      <td>Veracruz</td>\n",
       "    </tr>\n",
       "    <tr>\n",
       "      <th>6523154</th>\n",
       "      <td>4684133</td>\n",
       "      <td>70938133</td>\n",
       "      <td>O</td>\n",
       "      <td>63158410</td>\n",
       "      <td>214</td>\n",
       "      <td>1967</td>\n",
       "      <td>1</td>\n",
       "      <td>Jalisco</td>\n",
       "    </tr>\n",
       "    <tr>\n",
       "      <th>7334059</th>\n",
       "      <td>14804008</td>\n",
       "      <td>92958043</td>\n",
       "      <td>O</td>\n",
       "      <td>63158415</td>\n",
       "      <td>219</td>\n",
       "      <td>1623</td>\n",
       "      <td>1</td>\n",
       "      <td>Hidalgo</td>\n",
       "    </tr>\n",
       "  </tbody>\n",
       "</table>\n",
       "</div>"
      ],
      "text/plain": [
       "            Target  Destination Direction  TimeStamp  Duration  AntennaID  \\\n",
       "8971599   69192599     92013321         I   63158403        30        294   \n",
       "12096070  94258325     71921565         O   63158404        14        897   \n",
       "3316840    1071787     70056182         I   63158405        63        668   \n",
       "6523154    4684133     70938133         O   63158410       214       1967   \n",
       "7334059   14804008     92958043         O   63158415       219       1623   \n",
       "\n",
       "          EPIDEMIC     STATE  \n",
       "8971599          1   Hidalgo  \n",
       "12096070         1  Veracruz  \n",
       "3316840          1  Veracruz  \n",
       "6523154          1   Jalisco  \n",
       "7334059          1   Hidalgo  "
      ]
     },
     "execution_count": 65,
     "metadata": {},
     "output_type": "execute_result"
    }
   ],
   "source": [
    "enriched_sample.head()"
   ]
  },
  {
   "cell_type": "markdown",
   "metadata": {
    "collapsed": false
   },
   "source": [
    "## Mobility\n",
    "La idea es ahora mirar dentro de la base (prototipamos con sample) la lista de antenas utilizadas por cada usuario para obtener la variable dependiente $Y$ que vendria a ser si el tipo viajo o no por la zona endemica (visto como un llamado basicamente desde una antena en la epidemic zone). Despues buscaremos atributos, o variables regresoras que logren predecir ese comportamiento en el pasado pero usando solo los atributos en un timeframe \"del futuro\". Busco atributos que correlacionen con 'haber viajado por la zona endemica en el pasado'\n",
    "#### pseudocode:\n",
    "* tomamos el set de targets de la tabla.\n",
    "* p/c/user lo mapeamos a un conjunto de antenas que sabemos que el tipo uso en algun CDR. Aca usamos alguna operacion groupby donde donde el key va a ser la columna target y la data a mirar es la AntennaID. Ahi extraemos la lista de antenas que el user uso. \n",
    "* descartamos del **monthly** dataset los users con \"mal\" uso, i.e. aquellos que su conjunto de antenas da menor que un threshold $ \\beta$ (=5) y mayor que un limite (de 400) en este caso, que coresponderia a los users spammers/call-centers. Asi obtendremos una lista de usuarios de la telco que viajaron por mexico a partir de sus llamados en ese mes. Para eligir la cota superior basta con crear histogramas que muestren la funcion de distribucion para el ['Target']value_counts de los dataframes de llamados mensuales y ver que ya cualquier valor por encima de eso da un buen indicio de outlier/spammer.\n"
   ]
  },
  {
   "cell_type": "code",
   "execution_count": 6,
   "metadata": {
    "collapsed": false
   },
   "outputs": [],
   "source": [
    "#observar que el indice seria el target y el count seria el value de la serie\n",
    "insignificant_users = tabla_mensual['Target'].value_counts()[(tabla_mensual['Target'].value_counts() <= 5) | (tabla_mensual['Target'].value_counts() >= 400)]\n",
    "insignificant_users =  insignificant_users.index.values.tolist()\n",
    "insignificant_users2 = tabla2_mensual['Target'].value_counts()[(tabla2_mensual['Target'].value_counts() <= 5) | (tabla2_mensual['Target'].value_counts() >= 400)]#insignificant_users2 =  insignificant_users2.index.values.tolist()"
   ]
  },
  {
   "cell_type": "code",
   "execution_count": 10,
   "metadata": {
    "collapsed": true
   },
   "outputs": [],
   "source": [
    "#me quedo con los CDRs que NO corresponden con estos targets\n",
    "tabla_mensual = tabla_mensual[~tabla_mensual['Target'].isin(insignificant_users)]\n",
    "tabla2_mensual = tabla2_mensual[~tabla2_mensual['Target'].isin(insignificant_users2)]"
   ]
  },
  {
   "cell_type": "code",
   "execution_count": 11,
   "metadata": {
    "collapsed": true
   },
   "outputs": [],
   "source": [
    "#con esto extraigo el mapping user --> antennas used that month\n",
    "user_antenna_map2 = tabla2_mensual.groupby('Target')['AntennaID'].apply(lambda x: x.tolist()).to_dict();\n",
    "user_antenna_map = tabla_mensual.groupby('Target')['AntennaID'].apply(lambda x: x.tolist()).to_dict();\n"
   ]
  },
  {
   "cell_type": "code",
   "execution_count": 12,
   "metadata": {
    "collapsed": false,
    "scrolled": true
   },
   "outputs": [
    {
     "data": {
      "text/plain": [
       "[331, 99, 686, 100, 99, 686, 100, 861, 99, 79, 79, 861, 219, 624, 686, 686]"
      ]
     },
     "execution_count": 12,
     "metadata": {},
     "output_type": "execute_result"
    }
   ],
   "source": [
    "#hago unos testeos a mano para ver si levanto bien lo que queriamos.. i.e. si guardo todas las antenas de un user para c/CDR\n",
    "user_antenna_map[1546770]"
   ]
  },
  {
   "cell_type": "code",
   "execution_count": 13,
   "metadata": {
    "collapsed": false,
    "scrolled": true
   },
   "outputs": [
    {
     "data": {
      "text/html": [
       "<div>\n",
       "<table border=\"1\" class=\"dataframe\">\n",
       "  <thead>\n",
       "    <tr style=\"text-align: right;\">\n",
       "      <th></th>\n",
       "      <th>Target</th>\n",
       "      <th>Destination</th>\n",
       "      <th>Direction</th>\n",
       "      <th>TimeStamp</th>\n",
       "      <th>Duration</th>\n",
       "      <th>AntennaID</th>\n",
       "    </tr>\n",
       "  </thead>\n",
       "  <tbody>\n",
       "    <tr>\n",
       "      <th>4244460</th>\n",
       "      <td>1546770</td>\n",
       "      <td>71541497</td>\n",
       "      <td>I</td>\n",
       "      <td>63240962</td>\n",
       "      <td>27</td>\n",
       "      <td>331</td>\n",
       "    </tr>\n",
       "    <tr>\n",
       "      <th>4244461</th>\n",
       "      <td>1546770</td>\n",
       "      <td>69908764</td>\n",
       "      <td>O</td>\n",
       "      <td>65262492</td>\n",
       "      <td>28</td>\n",
       "      <td>99</td>\n",
       "    </tr>\n",
       "    <tr>\n",
       "      <th>4244462</th>\n",
       "      <td>1546770</td>\n",
       "      <td>93291721</td>\n",
       "      <td>O</td>\n",
       "      <td>65270682</td>\n",
       "      <td>105</td>\n",
       "      <td>686</td>\n",
       "    </tr>\n",
       "    <tr>\n",
       "      <th>4244463</th>\n",
       "      <td>1546770</td>\n",
       "      <td>93291721</td>\n",
       "      <td>I</td>\n",
       "      <td>65272482</td>\n",
       "      <td>66</td>\n",
       "      <td>100</td>\n",
       "    </tr>\n",
       "    <tr>\n",
       "      <th>4244464</th>\n",
       "      <td>1546770</td>\n",
       "      <td>70088843</td>\n",
       "      <td>O</td>\n",
       "      <td>65285078</td>\n",
       "      <td>149</td>\n",
       "      <td>99</td>\n",
       "    </tr>\n",
       "    <tr>\n",
       "      <th>4244465</th>\n",
       "      <td>1546770</td>\n",
       "      <td>94419977</td>\n",
       "      <td>I</td>\n",
       "      <td>65375387</td>\n",
       "      <td>44</td>\n",
       "      <td>686</td>\n",
       "    </tr>\n",
       "    <tr>\n",
       "      <th>4244466</th>\n",
       "      <td>1546770</td>\n",
       "      <td>94419977</td>\n",
       "      <td>O</td>\n",
       "      <td>65380705</td>\n",
       "      <td>64</td>\n",
       "      <td>100</td>\n",
       "    </tr>\n",
       "    <tr>\n",
       "      <th>4244467</th>\n",
       "      <td>1546770</td>\n",
       "      <td>70088843</td>\n",
       "      <td>O</td>\n",
       "      <td>65387679</td>\n",
       "      <td>29</td>\n",
       "      <td>861</td>\n",
       "    </tr>\n",
       "    <tr>\n",
       "      <th>4244468</th>\n",
       "      <td>1546770</td>\n",
       "      <td>93291767</td>\n",
       "      <td>O</td>\n",
       "      <td>65391085</td>\n",
       "      <td>20</td>\n",
       "      <td>99</td>\n",
       "    </tr>\n",
       "    <tr>\n",
       "      <th>14260114</th>\n",
       "      <td>1546770</td>\n",
       "      <td>93291767</td>\n",
       "      <td>O</td>\n",
       "      <td>64073590</td>\n",
       "      <td>47</td>\n",
       "      <td>79</td>\n",
       "    </tr>\n",
       "    <tr>\n",
       "      <th>14260115</th>\n",
       "      <td>1546770</td>\n",
       "      <td>75840931</td>\n",
       "      <td>I</td>\n",
       "      <td>64076634</td>\n",
       "      <td>37</td>\n",
       "      <td>79</td>\n",
       "    </tr>\n",
       "    <tr>\n",
       "      <th>14260116</th>\n",
       "      <td>1546770</td>\n",
       "      <td>97</td>\n",
       "      <td>O</td>\n",
       "      <td>64086607</td>\n",
       "      <td>3</td>\n",
       "      <td>861</td>\n",
       "    </tr>\n",
       "    <tr>\n",
       "      <th>14260117</th>\n",
       "      <td>1546770</td>\n",
       "      <td>93291767</td>\n",
       "      <td>O</td>\n",
       "      <td>64093147</td>\n",
       "      <td>24</td>\n",
       "      <td>219</td>\n",
       "    </tr>\n",
       "    <tr>\n",
       "      <th>14260118</th>\n",
       "      <td>1546770</td>\n",
       "      <td>93291657</td>\n",
       "      <td>I</td>\n",
       "      <td>64160708</td>\n",
       "      <td>26</td>\n",
       "      <td>624</td>\n",
       "    </tr>\n",
       "    <tr>\n",
       "      <th>14260119</th>\n",
       "      <td>1546770</td>\n",
       "      <td>70088843</td>\n",
       "      <td>O</td>\n",
       "      <td>64164682</td>\n",
       "      <td>62</td>\n",
       "      <td>686</td>\n",
       "    </tr>\n",
       "    <tr>\n",
       "      <th>14260120</th>\n",
       "      <td>1546770</td>\n",
       "      <td>70088843</td>\n",
       "      <td>O</td>\n",
       "      <td>64188262</td>\n",
       "      <td>19</td>\n",
       "      <td>686</td>\n",
       "    </tr>\n",
       "  </tbody>\n",
       "</table>\n",
       "</div>"
      ],
      "text/plain": [
       "           Target  Destination Direction  TimeStamp  Duration  AntennaID\n",
       "4244460   1546770     71541497         I   63240962        27        331\n",
       "4244461   1546770     69908764         O   65262492        28         99\n",
       "4244462   1546770     93291721         O   65270682       105        686\n",
       "4244463   1546770     93291721         I   65272482        66        100\n",
       "4244464   1546770     70088843         O   65285078       149         99\n",
       "4244465   1546770     94419977         I   65375387        44        686\n",
       "4244466   1546770     94419977         O   65380705        64        100\n",
       "4244467   1546770     70088843         O   65387679        29        861\n",
       "4244468   1546770     93291767         O   65391085        20         99\n",
       "14260114  1546770     93291767         O   64073590        47         79\n",
       "14260115  1546770     75840931         I   64076634        37         79\n",
       "14260116  1546770           97         O   64086607         3        861\n",
       "14260117  1546770     93291767         O   64093147        24        219\n",
       "14260118  1546770     93291657         I   64160708        26        624\n",
       "14260119  1546770     70088843         O   64164682        62        686\n",
       "14260120  1546770     70088843         O   64188262        19        686"
      ]
     },
     "execution_count": 13,
     "metadata": {},
     "output_type": "execute_result"
    }
   ],
   "source": [
    "tabla_mensual[tabla_mensual['Target']==1546770]"
   ]
  },
  {
   "cell_type": "code",
   "execution_count": 14,
   "metadata": {
    "collapsed": false,
    "scrolled": true
   },
   "outputs": [
    {
     "data": {
      "text/plain": [
       "<matplotlib.axes._subplots.AxesSubplot at 0x7fc3980ab050>"
      ]
     },
     "execution_count": 14,
     "metadata": {},
     "output_type": "execute_result"
    },
    {
     "data": {
      "image/png": "[encoded data removed]",
      "text/plain": [
       "<matplotlib.figure.Figure at 0x7fc3636a99d0>"
      ]
     },
     "metadata": {},
     "output_type": "display_data"
    }
   ],
   "source": [
    "#para observar la distribucion de veces que un usuario llama en un mes.\n",
    "tabla_mensual['Target'].value_counts().hist(bins=100)"
   ]
  },
  {
   "cell_type": "code",
   "execution_count": 15,
   "metadata": {
    "collapsed": false
   },
   "outputs": [
    {
     "data": {
      "text/plain": [
       "<matplotlib.axes._subplots.AxesSubplot at 0x7fc23f0e4390>"
      ]
     },
     "execution_count": 15,
     "metadata": {},
     "output_type": "execute_result"
    },
    {
     "data": {
      "image/png": "[encoded data removed]",
      "text/plain": [
       "<matplotlib.figure.Figure at 0x7fc23f0db2d0>"
      ]
     },
     "metadata": {},
     "output_type": "display_data"
    }
   ],
   "source": [
    "tabla2_mensual['Target'].value_counts().hist(bins=100)"
   ]
  },
  {
   "cell_type": "code",
   "execution_count": 2,
   "metadata": {
    "collapsed": false
   },
   "outputs": [
    {
     "name": "stdout",
     "output_type": "stream",
     "text": [
      "0\tdatosgeo/0415/Geo_Voz_Pospago_all_0415.txt.gz\r\n",
      "1.4G\tdatosgeo/0415/Geo_Voz_Prepago_all_0415.txt.gz\r\n"
     ]
    }
   ],
   "source": [
    "!du -ha datosgeo/0415/Geo*"
   ]
  },
  {
   "cell_type": "markdown",
   "metadata": {},
   "source": [
    "## Cuidado!\n",
    "* como el comando \"head\" lee lineas. y el json file es toda una linea (no guardo '\\n' en ningun lado) si yo pido head asi nomas rompo el notebook y tengo que resetear firefox\n",
    "* NO se puede usar JSON para guardar un dict de \"ints\" porque convierte todo a strings y despues no se puede volver a recuperar el type pues lee todo como un gran unicode list. Usar cPickle ^^  ...hasta pandas lo levanta. El unico problema es que cuando abris un .p como texto no es human readable.."
   ]
  },
  {
   "cell_type": "code",
   "execution_count": null,
   "metadata": {
    "collapsed": true
   },
   "outputs": [],
   "source": [
    "with open('test_data.p', 'wb') as fp:\n",
    "    pickle.dump(user_antenna_map, fp)\n",
    "\n",
    "with open('test_data.p', 'rb') as fp:\n",
    "    data = pickle.load(fp)"
   ]
  },
  {
   "cell_type": "code",
   "execution_count": null,
   "metadata": {
    "collapsed": false,
    "scrolled": true
   },
   "outputs": [],
   "source": [
    "##este script es muy pesado en memoria para el tamanyo del dataset.. no se va a poder usar\n",
    "#rootdir = '/home/juan/mobility-study/datosgeo'\n",
    "#os.chdir(rootdir)\n",
    "#directory = \"0415\"\n",
    "#tabla_mensual = pd.read_csv(directory +'/Geo_Voz_Prepago_all_' + directory + '.txt.gz',sep = \" \", \n",
    " #             names = ['Target','Destination','Direction','TimeStamp','Duration','AntennaID'],\n",
    "#                        engine = 'c',index_col=None, lineterminator='\\n', skipinitialspace=True, \n",
    "#                    header=None,dtype = {'Target':np.int32,'Destination':np.uint32,'TimeStamp':np.uint32,\n",
    "#                                      'Duration':np.uint16,'AntennaID':np.uint16,'Direction':np.object_})\n",
    "#insignificant_users = tabla_mensual['Target'].value_counts()[(tabla_mensual['Target'].value_counts() <= 5) \\\n",
    "#                    | (tabla_mensual['Target'].value_counts() >= 400)].index.values.tolist()\n",
    "\n",
    "## tal vez habria que ver de probar rosetta aca para ver si podemos aprovechar la paralelizacion\n",
    "\n",
    "#filtro los usuarios irrelevantes y armo el diccionario con key= users, values = antenna_list    \n",
    "tabla_mensual= tabla_mensual[~tabla_mensual['Target'].isin(insignificant_users)] \n",
    "user_antenna_map = tabla_mensual.groupby('Target')['AntennaID']\n",
    "user_antenna_map = user_antenna_map.apply(lambda x: x.tolist()).to_dict();\n",
    "del tabla_mensual; del insignificant_users\n",
    "\n",
    "with open(directory + \"/\" + 'Geo_Voz_Prepago_user-antenna-map_' + directory +'.p', 'wb') as fp:\n",
    "    pickle.dump(user_antenna_map, fp)\n",
    "\n",
    "del user_antenna_map"
   ]
  },
  {
   "cell_type": "markdown",
   "metadata": {},
   "source": [
    "## Lo nuevo (20/12)\n",
    "primero creo un script en c++ que asigna antennas a usuarios que tengan un call_count mensual de mas de 5 y menos de 400.\n",
    "Para elegir la antenna considero basicamente la que mas usa. Y si hay empate, toma la antennaID que utilizo primero... (despues se ampliara). Con pandas la idea es chequear que este funcionando correctamente el codigo."
   ]
  },
  {
   "cell_type": "code",
   "execution_count": 3,
   "metadata": {
    "collapsed": false
   },
   "outputs": [
    {
     "name": "stdout",
     "output_type": "stream",
     "text": [
      "0\tdatosgeo/0315/Geo_Voz_Pospago_all_0315.txt.gz\r\n",
      "1.3G\tdatosgeo/0315/Geo_Voz_Prepago_all_0315.txt.gz\r\n"
     ]
    }
   ],
   "source": [
    "!du -ha datosgeo/0315/Geo*"
   ]
  },
  {
   "cell_type": "code",
   "execution_count": 4,
   "metadata": {
    "collapsed": false
   },
   "outputs": [],
   "source": [
    "rootdir=\"/home/juan/mobility-study\"\n",
    "os.chdir(rootdir)\n",
    "directory = \"0315\"; contract_type=\"Prepago\";\n",
    "tabla_mensual = pd.read_csv('datosgeo/%s/Geo_Voz_%s_all_%s.txt.gz' % (directory,contract_type,directory),sep = \" \", \n",
    "              names = ['Target','Destination','Direction','TimeStamp','Duration','AntennaID'],\n",
    "                             engine = 'c',index_col=None, lineterminator='\\n', skipinitialspace=True, \n",
    "                    header=None,dtype = {'Target':np.int32,'Destination':np.uint32,'TimeStamp':np.uint32,\n",
    "                                      'Duration':np.uint16,'AntennaID':np.uint16,'Direction':np.object_})"
   ]
  },
  {
   "cell_type": "code",
   "execution_count": null,
   "metadata": {
    "collapsed": true
   },
   "outputs": [],
   "source": [
    "a=0"
   ]
  },
  {
   "cell_type": "code",
   "execution_count": 5,
   "metadata": {
    "collapsed": true
   },
   "outputs": [],
   "source": [
    "#tomamos un sample de 6 millones de usuarios\n",
    "sample =  tabla_mensual.sample(6*10**6)"
   ]
  },
  {
   "cell_type": "code",
   "execution_count": null,
   "metadata": {
    "collapsed": true
   },
   "outputs": [],
   "source": [
    "directory,contract_type"
   ]
  },
  {
   "cell_type": "code",
   "execution_count": null,
   "metadata": {
    "collapsed": false
   },
   "outputs": [],
   "source": [
    "#guardamos en el rootdir para trabajar sobre archivos mas chico\n",
    "sample.to_csv('datosgeo/%s/Geo_Voz_%s_all_%s_sample.txt.gz' % (directory,contract_type,directory),sep=\" \", header = False,\n",
    "              index = False, encoding = 'utf-8', compression = 'gzip')"
   ]
  },
  {
   "cell_type": "code",
   "execution_count": 3,
   "metadata": {
    "collapsed": false,
    "scrolled": true
   },
   "outputs": [],
   "source": [
    "rootdir=\"/home/juan/mobility-study\"\n",
    "os.chdir(rootdir)\n",
    "directory = \"0315\"; contract_type=\"Pospago\";\n",
    "tabla_mensual = pd.read_csv('datosgeotest/%s/Geo_Voz_%s_all_%s.txt.gz' % (directory,contract_type,directory),sep = \" \", \n",
    "              names = ['Target','Destination','Direction','TimeStamp','Duration','AntennaID'],\n",
    "                             engine = 'c',index_col=None, lineterminator='\\n', skipinitialspace=True, \n",
    "                    header=None,dtype = {'Target':np.int32,'Destination':np.uint32,'TimeStamp':np.uint32,\n",
    "                                      'Duration':np.uint16,'AntennaID':np.uint16,'Direction':np.object_})\n",
    "tabla_mensual['TimeStamp'] =  (tabla_mensual.TimeStamp.values*1.0/3600)%24\n",
    "\n",
    "insignificant_users = tabla_mensual['Target'].value_counts()[(tabla_mensual['Target'].value_counts() < 5) \\\n",
    "                    | (tabla_mensual['Target'].value_counts() > 400)].index.values.tolist()\n",
    "tabla_mensual= tabla_mensual.loc[~tabla_mensual['Target'].isin(insignificant_users),['Target','TimeStamp','AntennaID']]\n",
    "\n",
    "del insignificant_users"
   ]
  },
  {
   "cell_type": "code",
   "execution_count": 76,
   "metadata": {
    "collapsed": true
   },
   "outputs": [],
   "source": [
    "#OBS.: es importante volver a hacer el \"refiltrado\" de insignificant users pues al aplicar nightfilter tire varios \n",
    "## llamados, y al hacer esto tal vez un usuario que antes tenia 10 llamados pre filtrado, ahora tiene 3 llamados postfiltrado\n",
    "\n",
    "tabla_mensual_nightfilter = tabla_mensual.loc[(tabla_mensual['TimeStamp']<8) | (tabla_mensual['TimeStamp']>18)]\n",
    "\n",
    "insignificant_users_nightfilter = tabla_mensual_nightfilter['Target'].value_counts()[(tabla_mensual_nightfilter['Target'].value_counts() < 5) \\\n",
    "                    | (tabla_mensual_nightfilter['Target'].value_counts() > 400)].index.values.tolist()\n",
    "tabla_mensual_nightfilter= tabla_mensual_nightfilter.loc[~tabla_mensual_nightfilter['Target'].isin(insignificant_users_nightfilter),['Target','TimeStamp','AntennaID']]\n",
    "del insignificant_users_nightfilter"
   ]
  },
  {
   "cell_type": "code",
   "execution_count": 152,
   "metadata": {
    "collapsed": false
   },
   "outputs": [
    {
     "data": {
      "text/plain": [
       "((17813896, 3), (5915607, 3))"
      ]
     },
     "execution_count": 152,
     "metadata": {},
     "output_type": "execute_result"
    }
   ],
   "source": [
    "tabla_mensual.shape ,tabla_mensual_nightfilter.shape"
   ]
  },
  {
   "cell_type": "code",
   "execution_count": 6,
   "metadata": {
    "collapsed": true
   },
   "outputs": [],
   "source": [
    "#defino la funcion que asigna antenas a los users.\n",
    "def first_max_antenna(x):\n",
    "    sol = -1\n",
    "    a= x.tolist()\n",
    "    if not(len(a)<5 or len (a)>400):\n",
    "        sol = max(set(a), key=a.count)\n",
    "    \n",
    "    return sol\n"
   ]
  },
  {
   "cell_type": "code",
   "execution_count": 162,
   "metadata": {
    "collapsed": false
   },
   "outputs": [],
   "source": [
    "cpp_user_antenna_map = pd.read_csv('./datosgeotest/%s/user_antenna_map/user_antenna_map_%s_%s.txt.gz' % (directory,contract_type,directory),\n",
    "                                   sep = \"|\",names = ['Target','AntennaID'], engine = 'c',index_col='Target', \n",
    "                                   lineterminator='\\n', skipinitialspace=True,skiprows=1,\n",
    "                    header=None,dtype = {'Target':np.int32,'AntennaID':np.int16})\n",
    "\n",
    "cpp_user_antenna_map_nightfilter = pd.read_csv('./datosgeotest/%s/user_antenna_map/user_antenna_map_%s_%s_nightfilter.txt.gz' % (directory,contract_type,directory),sep = \"|\", \n",
    "              names = ['Target','AntennaID'],\n",
    "                             engine = 'c',index_col='Target', lineterminator='\\n', skipinitialspace=True,skiprows=1,\n",
    "                    header=None,dtype = {'Target':np.int32,'AntennaID':np.int16})"
   ]
  },
  {
   "cell_type": "code",
   "execution_count": 79,
   "metadata": {
    "collapsed": true
   },
   "outputs": [],
   "source": [
    "user_antenna_map_nightfilter = tabla_mensual_nightfilter.groupby('Target')['AntennaID'].apply(lambda x: first_max_antenna(x))"
   ]
  },
  {
   "cell_type": "code",
   "execution_count": 80,
   "metadata": {
    "collapsed": true
   },
   "outputs": [],
   "source": [
    "user_antenna_map = tabla_mensual.groupby('Target')['AntennaID'].apply(lambda x: first_max_antenna(x))"
   ]
  },
  {
   "cell_type": "code",
   "execution_count": 163,
   "metadata": {
    "collapsed": false
   },
   "outputs": [
    {
     "data": {
      "text/plain": [
       "(715183, 444177, 444083, 444177)"
      ]
     },
     "execution_count": 163,
     "metadata": {},
     "output_type": "execute_result"
    }
   ],
   "source": [
    "len(user_antenna_map),len(cpp_user_antenna_map), len(user_antenna_map_nightfilter),len(cpp_user_antenna_map_nightfilter)"
   ]
  },
  {
   "cell_type": "code",
   "execution_count": 82,
   "metadata": {
    "collapsed": false
   },
   "outputs": [
    {
     "data": {
      "text/plain": [
       "(715183, 715183, 444083, 444177)"
      ]
     },
     "execution_count": 82,
     "metadata": {},
     "output_type": "execute_result"
    }
   ],
   "source": [
    "sum(user_antenna_map!=-1),sum(cpp_user_antenna_map['AntennaID']!=-1),sum(user_antenna_map_nightfilter!=-1),sum(cpp_user_antenna_map_nightfilter['AntennaID']!=-1)"
   ]
  },
  {
   "cell_type": "markdown",
   "metadata": {},
   "source": [
    "Voy chequeando a mano: La idea es imprimir algun todos los usuario del cpp que NO esten asignados de igual forma en el user_antenna_map y chequear a mano el grupo de este tipo. \n",
    "\n",
    "Tambien hay un problema con el nightfilter y el operador de division entera '/' que *pisa* todos los decimales y no funciona igual que en c++, por eso la diferencia de usuarios que \"entran\" como de noche y los que no. "
   ]
  },
  {
   "cell_type": "code",
   "execution_count": 12,
   "metadata": {
    "collapsed": false
   },
   "outputs": [],
   "source": [
    "grouped_users = tabla_mensual.groupby('Target')['AntennaID']"
   ]
  },
  {
   "cell_type": "code",
   "execution_count": 13,
   "metadata": {
    "collapsed": false,
    "scrolled": true
   },
   "outputs": [
    {
     "data": {
      "text/plain": [
       "Target\n",
       "418          185\n",
       "532          232\n",
       "603          272\n",
       "765          345\n",
       "816          371\n",
       "868          422\n",
       "1221         628\n",
       "1243          35\n",
       "1435         444\n",
       "1488          69\n",
       "1547         341\n",
       "1567         488\n",
       "1778         163\n",
       "2079         235\n",
       "2116        1898\n",
       "2124         353\n",
       "2189          34\n",
       "2217         100\n",
       "2274          33\n",
       "2388         337\n",
       "2611        1033\n",
       "2725         557\n",
       "2748         966\n",
       "2807         803\n",
       "2861         544\n",
       "3111         688\n",
       "3192          40\n",
       "3372         220\n",
       "3438         376\n",
       "3448        1582\n",
       "3516         293\n",
       "3527         329\n",
       "3587        1080\n",
       "4122         224\n",
       "4245         115\n",
       "4247         175\n",
       "4250         832\n",
       "4422          35\n",
       "4622         877\n",
       "4776         344\n",
       "4864         809\n",
       "5024         650\n",
       "5116         358\n",
       "5400          77\n",
       "5420         495\n",
       "5494        1376\n",
       "5754        1128\n",
       "5776         225\n",
       "5782         225\n",
       "6099         456\n",
       "6338         321\n",
       "6438         228\n",
       "6523         457\n",
       "6745         886\n",
       "6755         572\n",
       "6817         873\n",
       "6996         166\n",
       "7093         614\n",
       "7115         316\n",
       "7368         274\n",
       "7429          88\n",
       "7437         480\n",
       "7820         488\n",
       "7885         867\n",
       "8208         352\n",
       "8245         241\n",
       "8265          28\n",
       "8441         836\n",
       "8667        2306\n",
       "8699         274\n",
       "8737        1018\n",
       "8950         135\n",
       "8988          56\n",
       "9163         869\n",
       "9348          82\n",
       "9473         640\n",
       "9497         590\n",
       "9707        1188\n",
       "9834          34\n",
       "9871        1212\n",
       "10296        583\n",
       "10312       1219\n",
       "10341        396\n",
       "10397         96\n",
       "10411        962\n",
       "10472        992\n",
       "10581        398\n",
       "10635        225\n",
       "11125       1946\n",
       "11212       1681\n",
       "11256        225\n",
       "11612        747\n",
       "11695       1220\n",
       "11734        216\n",
       "11936        395\n",
       "11963        579\n",
       "11965        197\n",
       "12039       1318\n",
       "12288       1779\n",
       "12358          5\n",
       "12514        341\n",
       "12522        236\n",
       "12798        224\n",
       "12896        689\n",
       "12914       1846\n",
       "13124        585\n",
       "13312       1736\n",
       "13549        291\n",
       "13584        560\n",
       "13688        491\n",
       "13928        363\n",
       "14112        105\n",
       "14286        225\n",
       "14336        248\n",
       "14377        208\n",
       "14623        619\n",
       "14708        265\n",
       "14949        772\n",
       "15115       1861\n",
       "15247         96\n",
       "15775        369\n",
       "15797       1101\n",
       "16082        404\n",
       "16641        611\n",
       "16851       1160\n",
       "17012        928\n",
       "17085        190\n",
       "17285        512\n",
       "17486        341\n",
       "17529        384\n",
       "17588        232\n",
       "17648       1124\n",
       "17983       1248\n",
       "18037       2721\n",
       "18141       1477\n",
       "18472        344\n",
       "18832        216\n",
       "19040       1157\n",
       "19168        837\n",
       "19548        244\n",
       "19595          2\n",
       "19707        280\n",
       "19836        530\n",
       "19999         34\n",
       "20109        641\n",
       "20120        453\n",
       "20273        832\n",
       "20355        421\n",
       "20540        457\n",
       "20843         73\n",
       "            ... \n",
       "94025873     600\n",
       "94032833     419\n",
       "94046378     717\n",
       "94050937    1027\n",
       "94051153     412\n",
       "94057503    1990\n",
       "94070614    2592\n",
       "94071799    1515\n",
       "94074838     395\n",
       "94077756    2824\n",
       "94079054    1171\n",
       "94079141     848\n",
       "94084298    2196\n",
       "94086028     338\n",
       "94086937    1062\n",
       "94089548     101\n",
       "94090734      88\n",
       "94092205     875\n",
       "94098877    1885\n",
       "94105282     225\n",
       "94106369    1411\n",
       "94108010    1570\n",
       "94112004    1544\n",
       "94117166     934\n",
       "94121091    2193\n",
       "94122138     480\n",
       "94128387     960\n",
       "94136631    2340\n",
       "94137256    1889\n",
       "94145156     580\n",
       "94145350     795\n",
       "94145576     387\n",
       "94146800     481\n",
       "94149155     328\n",
       "94149350     232\n",
       "94152501      64\n",
       "94153456    1289\n",
       "94154471    3652\n",
       "94154955     800\n",
       "94158088     619\n",
       "94165394    3721\n",
       "94171400     482\n",
       "94171769     634\n",
       "94178546     225\n",
       "94182091    1269\n",
       "94182565     152\n",
       "94192109     688\n",
       "94193912     216\n",
       "94195789     784\n",
       "94197238     929\n",
       "94198364    3669\n",
       "94198569     872\n",
       "94198936     994\n",
       "94199183    1186\n",
       "94201972    1418\n",
       "94212044     368\n",
       "94216361    1888\n",
       "94219154     385\n",
       "94219223     800\n",
       "94221245    1885\n",
       "94230971     362\n",
       "94241548      35\n",
       "94242338     571\n",
       "94244122    3849\n",
       "94244980    1384\n",
       "94245588     910\n",
       "94250601     302\n",
       "94259085     272\n",
       "94263205    1028\n",
       "94263511     928\n",
       "94265036    2172\n",
       "94266325    1033\n",
       "94266739    1436\n",
       "94266837    1511\n",
       "94268002    1167\n",
       "94270249    1219\n",
       "94270479    3863\n",
       "94270714     385\n",
       "94270774     584\n",
       "94270993    1184\n",
       "94272039     512\n",
       "94276437     142\n",
       "94277160     416\n",
       "94281002      54\n",
       "94281263     129\n",
       "94287051    1136\n",
       "94287613     932\n",
       "94293986     739\n",
       "94294546    1973\n",
       "94296035     928\n",
       "94296907    1885\n",
       "94297565     362\n",
       "94298672     118\n",
       "94301327     487\n",
       "94301821     181\n",
       "94309874    1862\n",
       "94310594     472\n",
       "94311629    3776\n",
       "94312994    1477\n",
       "94314388      88\n",
       "94314786    1302\n",
       "94317049    1136\n",
       "94317465     168\n",
       "94317493     397\n",
       "94317540    3446\n",
       "94318847     355\n",
       "94319229     175\n",
       "94321331     522\n",
       "94323330     897\n",
       "94326123     210\n",
       "94331630    1502\n",
       "94333399     124\n",
       "94335254    4064\n",
       "94336453    2336\n",
       "94336847     312\n",
       "94337166    2779\n",
       "94339859    3664\n",
       "94342093    2058\n",
       "94345339     973\n",
       "94346244     724\n",
       "94347439    1396\n",
       "94347651      29\n",
       "94350097     512\n",
       "94351570     720\n",
       "94356655    1252\n",
       "94362280     736\n",
       "94363475     295\n",
       "94365026    1008\n",
       "94365353     384\n",
       "94365738    1544\n",
       "94365789     598\n",
       "94367101     600\n",
       "94371188     840\n",
       "94375734    1516\n",
       "94377127     427\n",
       "94377899     652\n",
       "94379578     909\n",
       "94382058    1008\n",
       "94385971    3689\n",
       "94389453    1044\n",
       "94390671     248\n",
       "94394962     266\n",
       "94396238     151\n",
       "94397322     297\n",
       "94404863    1412\n",
       "94405022     962\n",
       "94405258     448\n",
       "94411967     776\n",
       "94428383    1005\n",
       "94429663     649\n",
       "Name: AntennaID, dtype: int64"
      ]
     },
     "execution_count": 13,
     "metadata": {},
     "output_type": "execute_result"
    }
   ],
   "source": [
    "#con esto chequeo todos los que sean distintos, pidiendole la serie a cpp_user_antenna_map\n",
    "user_antenna_map[cpp_user_antenna_map.ix[:,0]!=user_antenna_map]"
   ]
  },
  {
   "cell_type": "code",
   "execution_count": 57,
   "metadata": {
    "collapsed": false,
    "scrolled": true
   },
   "outputs": [
    {
     "name": "stdout",
     "output_type": "stream",
     "text": [
      "los conteos de antenas son \n",
      "\n",
      "1343    5\n",
      "338     5\n",
      "1997    3\n",
      "585     2\n",
      "Name: AntennaID, dtype: int64\n",
      "la que selecciona pandas es 338\n",
      "la que selecciona el script cpp es 2985\n"
     ]
    }
   ],
   "source": [
    "distinto = 14286\n",
    "#mirando la lista de agrupados con get_group hago un conteo de las antenas que aparecen con value_counts() para ver cuales\n",
    "#estan bien catalogadas y cuales no\n",
    "print \"los conteos de antenas son \\n\"\n",
    "print grouped_users.get_group(distinto).value_counts()\n",
    "\n",
    "print \"la que selecciona pandas es \" + str(max(set(grouped_users.get_group(distinto).tolist()),key=grouped_users.get_group(distinto).tolist().count))\n",
    "print \"la que selecciona el script cpp es %s\" % str(cpp_user_antenna_map.ix[distinto]).split()[1]"
   ]
  },
  {
   "cell_type": "code",
   "execution_count": 17,
   "metadata": {
    "collapsed": false
   },
   "outputs": [
    {
     "data": {
      "text/plain": [
       "(35992, 0.05032558100514134)"
      ]
     },
     "execution_count": 17,
     "metadata": {},
     "output_type": "execute_result"
    }
   ],
   "source": [
    "len(user_antenna_map[cpp_user_antenna_map.ix[:,0]!=user_antenna_map]), len(user_antenna_map[cpp_user_antenna_map.ix[:,0]!=user_antenna_map])*1.0/len(user_antenna_map)"
   ]
  },
  {
   "cell_type": "markdown",
   "metadata": {},
   "source": [
    "Hast ahora el problema de las diferencias entre el cpp y el pandas (sin filtro) es para casos de empate en el count de antennas. Por el cual ahi la asignacion es distinta en cada caso, sin embargo esta diferencia es para muy pocos usuarios (menos de 3% segun la cuenta de la celda anterior)"
   ]
  },
  {
   "cell_type": "markdown",
   "metadata": {},
   "source": [
    "## Ahora miro las diferencias en el script con el *nightfilter*"
   ]
  },
  {
   "cell_type": "code",
   "execution_count": 83,
   "metadata": {
    "collapsed": false
   },
   "outputs": [
    {
     "data": {
      "text/plain": [
       "(444177, 444083)"
      ]
     },
     "execution_count": 83,
     "metadata": {},
     "output_type": "execute_result"
    }
   ],
   "source": [
    "len(cpp_user_antenna_map_nightfilter),len(user_antenna_map_nightfilter)"
   ]
  },
  {
   "cell_type": "code",
   "execution_count": 88,
   "metadata": {
    "collapsed": true
   },
   "outputs": [],
   "source": [
    "grouped_users_nightfilter = tabla_mensual_nightfilter.groupby('Target')['AntennaID']"
   ]
  },
  {
   "cell_type": "code",
   "execution_count": 111,
   "metadata": {
    "collapsed": false
   },
   "outputs": [
    {
     "data": {
      "text/plain": [
       "444177"
      ]
     },
     "execution_count": 111,
     "metadata": {},
     "output_type": "execute_result"
    }
   ],
   "source": []
  },
  {
   "cell_type": "code",
   "execution_count": 115,
   "metadata": {
    "collapsed": false,
    "scrolled": true
   },
   "outputs": [
    {
     "data": {
      "text/html": [
       "<div>\n",
       "<table border=\"1\" class=\"dataframe\">\n",
       "  <thead>\n",
       "    <tr style=\"text-align: right;\">\n",
       "      <th></th>\n",
       "      <th>AntennaID</th>\n",
       "    </tr>\n",
       "    <tr>\n",
       "      <th>Target</th>\n",
       "      <th></th>\n",
       "    </tr>\n",
       "  </thead>\n",
       "  <tbody>\n",
       "    <tr>\n",
       "      <th>33501</th>\n",
       "      <td>903</td>\n",
       "    </tr>\n",
       "    <tr>\n",
       "      <th>36587</th>\n",
       "      <td>795</td>\n",
       "    </tr>\n",
       "    <tr>\n",
       "      <th>43002</th>\n",
       "      <td>415</td>\n",
       "    </tr>\n",
       "    <tr>\n",
       "      <th>60683</th>\n",
       "      <td>358</td>\n",
       "    </tr>\n",
       "    <tr>\n",
       "      <th>62385</th>\n",
       "      <td>3945</td>\n",
       "    </tr>\n",
       "    <tr>\n",
       "      <th>62387</th>\n",
       "      <td>1493</td>\n",
       "    </tr>\n",
       "    <tr>\n",
       "      <th>113897</th>\n",
       "      <td>1696</td>\n",
       "    </tr>\n",
       "    <tr>\n",
       "      <th>148338</th>\n",
       "      <td>1573</td>\n",
       "    </tr>\n",
       "    <tr>\n",
       "      <th>152376</th>\n",
       "      <td>1397</td>\n",
       "    </tr>\n",
       "    <tr>\n",
       "      <th>162153</th>\n",
       "      <td>170</td>\n",
       "    </tr>\n",
       "    <tr>\n",
       "      <th>172857</th>\n",
       "      <td>1886</td>\n",
       "    </tr>\n",
       "    <tr>\n",
       "      <th>179148</th>\n",
       "      <td>418</td>\n",
       "    </tr>\n",
       "    <tr>\n",
       "      <th>185000</th>\n",
       "      <td>1571</td>\n",
       "    </tr>\n",
       "    <tr>\n",
       "      <th>210180</th>\n",
       "      <td>2264</td>\n",
       "    </tr>\n",
       "    <tr>\n",
       "      <th>212627</th>\n",
       "      <td>903</td>\n",
       "    </tr>\n",
       "    <tr>\n",
       "      <th>233718</th>\n",
       "      <td>1973</td>\n",
       "    </tr>\n",
       "    <tr>\n",
       "      <th>290280</th>\n",
       "      <td>2584</td>\n",
       "    </tr>\n",
       "    <tr>\n",
       "      <th>319244</th>\n",
       "      <td>3722</td>\n",
       "    </tr>\n",
       "    <tr>\n",
       "      <th>329475</th>\n",
       "      <td>300</td>\n",
       "    </tr>\n",
       "    <tr>\n",
       "      <th>340354</th>\n",
       "      <td>1644</td>\n",
       "    </tr>\n",
       "    <tr>\n",
       "      <th>340361</th>\n",
       "      <td>747</td>\n",
       "    </tr>\n",
       "    <tr>\n",
       "      <th>406148</th>\n",
       "      <td>836</td>\n",
       "    </tr>\n",
       "    <tr>\n",
       "      <th>420333</th>\n",
       "      <td>1806</td>\n",
       "    </tr>\n",
       "    <tr>\n",
       "      <th>424100</th>\n",
       "      <td>253</td>\n",
       "    </tr>\n",
       "    <tr>\n",
       "      <th>446548</th>\n",
       "      <td>1650</td>\n",
       "    </tr>\n",
       "    <tr>\n",
       "      <th>511065</th>\n",
       "      <td>121</td>\n",
       "    </tr>\n",
       "    <tr>\n",
       "      <th>523388</th>\n",
       "      <td>203</td>\n",
       "    </tr>\n",
       "    <tr>\n",
       "      <th>570179</th>\n",
       "      <td>382</td>\n",
       "    </tr>\n",
       "    <tr>\n",
       "      <th>588851</th>\n",
       "      <td>2584</td>\n",
       "    </tr>\n",
       "    <tr>\n",
       "      <th>593450</th>\n",
       "      <td>1936</td>\n",
       "    </tr>\n",
       "    <tr>\n",
       "      <th>674743</th>\n",
       "      <td>1418</td>\n",
       "    </tr>\n",
       "    <tr>\n",
       "      <th>678927</th>\n",
       "      <td>778</td>\n",
       "    </tr>\n",
       "    <tr>\n",
       "      <th>688949</th>\n",
       "      <td>2530</td>\n",
       "    </tr>\n",
       "    <tr>\n",
       "      <th>889310</th>\n",
       "      <td>3674</td>\n",
       "    </tr>\n",
       "    <tr>\n",
       "      <th>934113</th>\n",
       "      <td>1953</td>\n",
       "    </tr>\n",
       "    <tr>\n",
       "      <th>961065</th>\n",
       "      <td>1591</td>\n",
       "    </tr>\n",
       "    <tr>\n",
       "      <th>997525</th>\n",
       "      <td>354</td>\n",
       "    </tr>\n",
       "    <tr>\n",
       "      <th>1021137</th>\n",
       "      <td>767</td>\n",
       "    </tr>\n",
       "    <tr>\n",
       "      <th>1147205</th>\n",
       "      <td>502</td>\n",
       "    </tr>\n",
       "    <tr>\n",
       "      <th>1167412</th>\n",
       "      <td>627</td>\n",
       "    </tr>\n",
       "    <tr>\n",
       "      <th>1205478</th>\n",
       "      <td>416</td>\n",
       "    </tr>\n",
       "    <tr>\n",
       "      <th>1512095</th>\n",
       "      <td>300</td>\n",
       "    </tr>\n",
       "    <tr>\n",
       "      <th>1872291</th>\n",
       "      <td>753</td>\n",
       "    </tr>\n",
       "    <tr>\n",
       "      <th>2271487</th>\n",
       "      <td>4338</td>\n",
       "    </tr>\n",
       "    <tr>\n",
       "      <th>2358500</th>\n",
       "      <td>867</td>\n",
       "    </tr>\n",
       "    <tr>\n",
       "      <th>2732909</th>\n",
       "      <td>1251</td>\n",
       "    </tr>\n",
       "    <tr>\n",
       "      <th>2861088</th>\n",
       "      <td>1713</td>\n",
       "    </tr>\n",
       "    <tr>\n",
       "      <th>3155867</th>\n",
       "      <td>1251</td>\n",
       "    </tr>\n",
       "    <tr>\n",
       "      <th>3156881</th>\n",
       "      <td>786</td>\n",
       "    </tr>\n",
       "    <tr>\n",
       "      <th>3195294</th>\n",
       "      <td>284</td>\n",
       "    </tr>\n",
       "    <tr>\n",
       "      <th>3499002</th>\n",
       "      <td>239</td>\n",
       "    </tr>\n",
       "    <tr>\n",
       "      <th>3664661</th>\n",
       "      <td>1801</td>\n",
       "    </tr>\n",
       "    <tr>\n",
       "      <th>3693115</th>\n",
       "      <td>2170</td>\n",
       "    </tr>\n",
       "    <tr>\n",
       "      <th>3851650</th>\n",
       "      <td>2152</td>\n",
       "    </tr>\n",
       "    <tr>\n",
       "      <th>3998246</th>\n",
       "      <td>1398</td>\n",
       "    </tr>\n",
       "    <tr>\n",
       "      <th>4547377</th>\n",
       "      <td>644</td>\n",
       "    </tr>\n",
       "    <tr>\n",
       "      <th>4560720</th>\n",
       "      <td>2638</td>\n",
       "    </tr>\n",
       "    <tr>\n",
       "      <th>4819270</th>\n",
       "      <td>1998</td>\n",
       "    </tr>\n",
       "    <tr>\n",
       "      <th>5046512</th>\n",
       "      <td>590</td>\n",
       "    </tr>\n",
       "    <tr>\n",
       "      <th>6083094</th>\n",
       "      <td>1827</td>\n",
       "    </tr>\n",
       "    <tr>\n",
       "      <th>6607716</th>\n",
       "      <td>488</td>\n",
       "    </tr>\n",
       "    <tr>\n",
       "      <th>6914107</th>\n",
       "      <td>1800</td>\n",
       "    </tr>\n",
       "    <tr>\n",
       "      <th>9199382</th>\n",
       "      <td>1772</td>\n",
       "    </tr>\n",
       "    <tr>\n",
       "      <th>9908108</th>\n",
       "      <td>1136</td>\n",
       "    </tr>\n",
       "    <tr>\n",
       "      <th>10214491</th>\n",
       "      <td>1351</td>\n",
       "    </tr>\n",
       "    <tr>\n",
       "      <th>10505142</th>\n",
       "      <td>300</td>\n",
       "    </tr>\n",
       "    <tr>\n",
       "      <th>26523523</th>\n",
       "      <td>1007</td>\n",
       "    </tr>\n",
       "    <tr>\n",
       "      <th>34174023</th>\n",
       "      <td>2072</td>\n",
       "    </tr>\n",
       "    <tr>\n",
       "      <th>54970466</th>\n",
       "      <td>418</td>\n",
       "    </tr>\n",
       "    <tr>\n",
       "      <th>63199838</th>\n",
       "      <td>3787</td>\n",
       "    </tr>\n",
       "    <tr>\n",
       "      <th>64396253</th>\n",
       "      <td>2805</td>\n",
       "    </tr>\n",
       "    <tr>\n",
       "      <th>68844525</th>\n",
       "      <td>910</td>\n",
       "    </tr>\n",
       "    <tr>\n",
       "      <th>68847999</th>\n",
       "      <td>1527</td>\n",
       "    </tr>\n",
       "    <tr>\n",
       "      <th>68968088</th>\n",
       "      <td>1522</td>\n",
       "    </tr>\n",
       "    <tr>\n",
       "      <th>69080354</th>\n",
       "      <td>3694</td>\n",
       "    </tr>\n",
       "    <tr>\n",
       "      <th>69117790</th>\n",
       "      <td>2161</td>\n",
       "    </tr>\n",
       "    <tr>\n",
       "      <th>69327437</th>\n",
       "      <td>713</td>\n",
       "    </tr>\n",
       "    <tr>\n",
       "      <th>69346980</th>\n",
       "      <td>795</td>\n",
       "    </tr>\n",
       "    <tr>\n",
       "      <th>69460024</th>\n",
       "      <td>845</td>\n",
       "    </tr>\n",
       "    <tr>\n",
       "      <th>69559235</th>\n",
       "      <td>1432</td>\n",
       "    </tr>\n",
       "    <tr>\n",
       "      <th>69569833</th>\n",
       "      <td>2161</td>\n",
       "    </tr>\n",
       "    <tr>\n",
       "      <th>69655867</th>\n",
       "      <td>1344</td>\n",
       "    </tr>\n",
       "    <tr>\n",
       "      <th>69840636</th>\n",
       "      <td>776</td>\n",
       "    </tr>\n",
       "    <tr>\n",
       "      <th>69860027</th>\n",
       "      <td>464</td>\n",
       "    </tr>\n",
       "    <tr>\n",
       "      <th>69956291</th>\n",
       "      <td>1058</td>\n",
       "    </tr>\n",
       "    <tr>\n",
       "      <th>70003536</th>\n",
       "      <td>650</td>\n",
       "    </tr>\n",
       "    <tr>\n",
       "      <th>70064044</th>\n",
       "      <td>1464</td>\n",
       "    </tr>\n",
       "    <tr>\n",
       "      <th>70546628</th>\n",
       "      <td>524</td>\n",
       "    </tr>\n",
       "    <tr>\n",
       "      <th>70546650</th>\n",
       "      <td>1390</td>\n",
       "    </tr>\n",
       "    <tr>\n",
       "      <th>70547111</th>\n",
       "      <td>1572</td>\n",
       "    </tr>\n",
       "    <tr>\n",
       "      <th>70834276</th>\n",
       "      <td>1344</td>\n",
       "    </tr>\n",
       "    <tr>\n",
       "      <th>71785714</th>\n",
       "      <td>2610</td>\n",
       "    </tr>\n",
       "    <tr>\n",
       "      <th>92610322</th>\n",
       "      <td>295</td>\n",
       "    </tr>\n",
       "    <tr>\n",
       "      <th>93915874</th>\n",
       "      <td>1585</td>\n",
       "    </tr>\n",
       "  </tbody>\n",
       "</table>\n",
       "</div>"
      ],
      "text/plain": [
       "          AntennaID\n",
       "Target             \n",
       "33501           903\n",
       "36587           795\n",
       "43002           415\n",
       "60683           358\n",
       "62385          3945\n",
       "62387          1493\n",
       "113897         1696\n",
       "148338         1573\n",
       "152376         1397\n",
       "162153          170\n",
       "172857         1886\n",
       "179148          418\n",
       "185000         1571\n",
       "210180         2264\n",
       "212627          903\n",
       "233718         1973\n",
       "290280         2584\n",
       "319244         3722\n",
       "329475          300\n",
       "340354         1644\n",
       "340361          747\n",
       "406148          836\n",
       "420333         1806\n",
       "424100          253\n",
       "446548         1650\n",
       "511065          121\n",
       "523388          203\n",
       "570179          382\n",
       "588851         2584\n",
       "593450         1936\n",
       "674743         1418\n",
       "678927          778\n",
       "688949         2530\n",
       "889310         3674\n",
       "934113         1953\n",
       "961065         1591\n",
       "997525          354\n",
       "1021137         767\n",
       "1147205         502\n",
       "1167412         627\n",
       "1205478         416\n",
       "1512095         300\n",
       "1872291         753\n",
       "2271487        4338\n",
       "2358500         867\n",
       "2732909        1251\n",
       "2861088        1713\n",
       "3155867        1251\n",
       "3156881         786\n",
       "3195294         284\n",
       "3499002         239\n",
       "3664661        1801\n",
       "3693115        2170\n",
       "3851650        2152\n",
       "3998246        1398\n",
       "4547377         644\n",
       "4560720        2638\n",
       "4819270        1998\n",
       "5046512         590\n",
       "6083094        1827\n",
       "6607716         488\n",
       "6914107        1800\n",
       "9199382        1772\n",
       "9908108        1136\n",
       "10214491       1351\n",
       "10505142        300\n",
       "26523523       1007\n",
       "34174023       2072\n",
       "54970466        418\n",
       "63199838       3787\n",
       "64396253       2805\n",
       "68844525        910\n",
       "68847999       1527\n",
       "68968088       1522\n",
       "69080354       3694\n",
       "69117790       2161\n",
       "69327437        713\n",
       "69346980        795\n",
       "69460024        845\n",
       "69559235       1432\n",
       "69569833       2161\n",
       "69655867       1344\n",
       "69840636        776\n",
       "69860027        464\n",
       "69956291       1058\n",
       "70003536        650\n",
       "70064044       1464\n",
       "70546628        524\n",
       "70546650       1390\n",
       "70547111       1572\n",
       "70834276       1344\n",
       "71785714       2610\n",
       "92610322        295\n",
       "93915874       1585"
      ]
     },
     "execution_count": 115,
     "metadata": {},
     "output_type": "execute_result"
    }
   ],
   "source": [
    "#np.in1d(array1,array2) devuelve un array de bools de largo array1 que dice si el elemento ese de array1 esta en array2\n",
    "cpp_user_antenna_map_nightfilter[~np.in1d(cpp_user_antenna_map_nightfilter.index.values, user_antenna_map_nightfilter.index.values)]\n"
   ]
  },
  {
   "cell_type": "code",
   "execution_count": 160,
   "metadata": {
    "collapsed": false
   },
   "outputs": [
    {
     "data": {
      "text/plain": [
       "AntennaID    1344\n",
       "Name: 70834276, dtype: int16"
      ]
     },
     "execution_count": 160,
     "metadata": {},
     "output_type": "execute_result"
    }
   ],
   "source": [
    "usuario_problema = 70834276\n",
    "\n",
    "cpp_user_antenna_map_nightfilter.ix[usuario_problema]"
   ]
  },
  {
   "cell_type": "code",
   "execution_count": 161,
   "metadata": {
    "collapsed": false,
    "scrolled": true
   },
   "outputs": [
    {
     "data": {
      "text/html": [
       "<div>\n",
       "<table border=\"1\" class=\"dataframe\">\n",
       "  <thead>\n",
       "    <tr style=\"text-align: right;\">\n",
       "      <th></th>\n",
       "      <th>AntennaID</th>\n",
       "    </tr>\n",
       "    <tr>\n",
       "      <th>Target</th>\n",
       "      <th></th>\n",
       "    </tr>\n",
       "  </thead>\n",
       "  <tbody>\n",
       "  </tbody>\n",
       "</table>\n",
       "</div>"
      ],
      "text/plain": [
       "Empty DataFrame\n",
       "Columns: [AntennaID]\n",
       "Index: []"
      ]
     },
     "execution_count": 161,
     "metadata": {},
     "output_type": "execute_result"
    }
   ],
   "source": [
    "cpp_user_antenna_map[cpp_user_antenna_map.index.values== usuario_problema]"
   ]
  },
  {
   "cell_type": "code",
   "execution_count": 151,
   "metadata": {
    "collapsed": false,
    "scrolled": false
   },
   "outputs": [
    {
     "data": {
      "text/html": [
       "<div>\n",
       "<table border=\"1\" class=\"dataframe\">\n",
       "  <thead>\n",
       "    <tr style=\"text-align: right;\">\n",
       "      <th></th>\n",
       "      <th>Target</th>\n",
       "      <th>TimeStamp</th>\n",
       "      <th>AntennaID</th>\n",
       "    </tr>\n",
       "  </thead>\n",
       "  <tbody>\n",
       "  </tbody>\n",
       "</table>\n",
       "</div>"
      ],
      "text/plain": [
       "Empty DataFrame\n",
       "Columns: [Target, TimeStamp, AntennaID]\n",
       "Index: []"
      ]
     },
     "execution_count": 151,
     "metadata": {},
     "output_type": "execute_result"
    }
   ],
   "source": [
    "tabla_mensual[tabla_mensual['Target']== usuario_problema]"
   ]
  },
  {
   "cell_type": "code",
   "execution_count": 69,
   "metadata": {
    "collapsed": false
   },
   "outputs": [
    {
     "name": "stdout",
     "output_type": "stream",
     "text": [
      "los conteos de antenas son \n",
      "\n"
     ]
    },
    {
     "ename": "KeyError",
     "evalue": "6",
     "output_type": "error",
     "traceback": [
      "\u001b[1;31m---------------------------------------------------------------------------\u001b[0m",
      "\u001b[1;31mKeyError\u001b[0m                                  Traceback (most recent call last)",
      "\u001b[1;32m<ipython-input-69-0a1027e19069>\u001b[0m in \u001b[0;36m<module>\u001b[1;34m()\u001b[0m\n\u001b[0;32m      1\u001b[0m \u001b[0musuario_problema\u001b[0m \u001b[1;33m=\u001b[0m \u001b[1;36m6\u001b[0m\u001b[1;33m\u001b[0m\u001b[0m\n\u001b[0;32m      2\u001b[0m \u001b[1;32mprint\u001b[0m \u001b[1;34m\"los conteos de antenas son \\n\"\u001b[0m\u001b[1;33m\u001b[0m\u001b[0m\n\u001b[1;32m----> 3\u001b[1;33m \u001b[1;32mprint\u001b[0m \u001b[0mgrouped_users_nightfilter\u001b[0m\u001b[1;33m.\u001b[0m\u001b[0mget_group\u001b[0m\u001b[1;33m(\u001b[0m\u001b[0musuario_problema\u001b[0m\u001b[1;33m)\u001b[0m\u001b[1;33m.\u001b[0m\u001b[0mvalue_counts\u001b[0m\u001b[1;33m(\u001b[0m\u001b[1;33m)\u001b[0m\u001b[1;33m\u001b[0m\u001b[0m\n\u001b[0m\u001b[0;32m      4\u001b[0m \u001b[1;33m\u001b[0m\u001b[0m\n\u001b[0;32m      5\u001b[0m \u001b[1;32mprint\u001b[0m \u001b[1;34m\"la que selecciona pandas es \"\u001b[0m \u001b[1;33m+\u001b[0m \u001b[0mstr\u001b[0m\u001b[1;33m(\u001b[0m\u001b[0mmax\u001b[0m\u001b[1;33m(\u001b[0m\u001b[0mset\u001b[0m\u001b[1;33m(\u001b[0m\u001b[0mgrouped_users_nightfilter\u001b[0m\u001b[1;33m.\u001b[0m\u001b[0mget_group\u001b[0m\u001b[1;33m(\u001b[0m\u001b[0musuario_problema\u001b[0m\u001b[1;33m)\u001b[0m\u001b[1;33m.\u001b[0m\u001b[0mtolist\u001b[0m\u001b[1;33m(\u001b[0m\u001b[1;33m)\u001b[0m\u001b[1;33m)\u001b[0m\u001b[1;33m,\u001b[0m                                                \u001b[0mkey\u001b[0m\u001b[1;33m=\u001b[0m\u001b[0mgrouped_users_nightfilter\u001b[0m\u001b[1;33m.\u001b[0m\u001b[0mget_group\u001b[0m\u001b[1;33m(\u001b[0m\u001b[0musuario_problema\u001b[0m\u001b[1;33m)\u001b[0m\u001b[1;33m.\u001b[0m\u001b[0mtolist\u001b[0m\u001b[1;33m(\u001b[0m\u001b[1;33m)\u001b[0m\u001b[1;33m.\u001b[0m\u001b[0mcount\u001b[0m\u001b[1;33m)\u001b[0m\u001b[1;33m)\u001b[0m\u001b[1;33m\u001b[0m\u001b[0m\n",
      "\u001b[1;32m/home/juan/anaconda2/lib/python2.7/site-packages/pandas/core/groupby.pyc\u001b[0m in \u001b[0;36mget_group\u001b[1;34m(self, name, obj)\u001b[0m\n\u001b[0;32m    646\u001b[0m         \u001b[0minds\u001b[0m \u001b[1;33m=\u001b[0m \u001b[0mself\u001b[0m\u001b[1;33m.\u001b[0m\u001b[0m_get_index\u001b[0m\u001b[1;33m(\u001b[0m\u001b[0mname\u001b[0m\u001b[1;33m)\u001b[0m\u001b[1;33m\u001b[0m\u001b[0m\n\u001b[0;32m    647\u001b[0m         \u001b[1;32mif\u001b[0m \u001b[1;32mnot\u001b[0m \u001b[0mlen\u001b[0m\u001b[1;33m(\u001b[0m\u001b[0minds\u001b[0m\u001b[1;33m)\u001b[0m\u001b[1;33m:\u001b[0m\u001b[1;33m\u001b[0m\u001b[0m\n\u001b[1;32m--> 648\u001b[1;33m             \u001b[1;32mraise\u001b[0m \u001b[0mKeyError\u001b[0m\u001b[1;33m(\u001b[0m\u001b[0mname\u001b[0m\u001b[1;33m)\u001b[0m\u001b[1;33m\u001b[0m\u001b[0m\n\u001b[0m\u001b[0;32m    649\u001b[0m \u001b[1;33m\u001b[0m\u001b[0m\n\u001b[0;32m    650\u001b[0m         \u001b[1;32mreturn\u001b[0m \u001b[0mobj\u001b[0m\u001b[1;33m.\u001b[0m\u001b[0mtake\u001b[0m\u001b[1;33m(\u001b[0m\u001b[0minds\u001b[0m\u001b[1;33m,\u001b[0m \u001b[0maxis\u001b[0m\u001b[1;33m=\u001b[0m\u001b[0mself\u001b[0m\u001b[1;33m.\u001b[0m\u001b[0maxis\u001b[0m\u001b[1;33m,\u001b[0m \u001b[0mconvert\u001b[0m\u001b[1;33m=\u001b[0m\u001b[0mFalse\u001b[0m\u001b[1;33m)\u001b[0m\u001b[1;33m\u001b[0m\u001b[0m\n",
      "\u001b[1;31mKeyError\u001b[0m: 6"
     ]
    }
   ],
   "source": [
    "\n",
    "print \"los conteos de antenas son \\n\"\n",
    "print grouped_users_nightfilter.get_group(usuario_problema).value_counts()\n",
    "\n",
    "print \"la que selecciona pandas es \" + str(max(set(grouped_users_nightfilter.get_group(usuario_problema).tolist()), \\\n",
    "                                               key=grouped_users_nightfilter.get_group(usuario_problema).tolist().count))\n",
    "print \"la que selecciona el script cpp es %s\" %  str(cpp_user_antenna_map_nightfilter.ix[usuario_problema]).split()[1]\n",
    "\n",
    "\n",
    "#mirando la lista de agrupados con get_group hago un conteo de las antenas que aparecen con value_counts() para ver cuales\n",
    "#estan bien catalogadas y cuales no\n"
   ]
  },
  {
   "cell_type": "code",
   "execution_count": 67,
   "metadata": {
    "collapsed": false,
    "scrolled": true
   },
   "outputs": [
    {
     "data": {
      "text/html": [
       "<div>\n",
       "<table border=\"1\" class=\"dataframe\">\n",
       "  <thead>\n",
       "    <tr style=\"text-align: right;\">\n",
       "      <th></th>\n",
       "      <th>Target</th>\n",
       "      <th>TimeStamp</th>\n",
       "      <th>AntennaID</th>\n",
       "    </tr>\n",
       "  </thead>\n",
       "  <tbody>\n",
       "  </tbody>\n",
       "</table>\n",
       "</div>"
      ],
      "text/plain": [
       "Empty DataFrame\n",
       "Columns: [Target, TimeStamp, AntennaID]\n",
       "Index: []"
      ]
     },
     "execution_count": 67,
     "metadata": {},
     "output_type": "execute_result"
    }
   ],
   "source": []
  },
  {
   "cell_type": "code",
   "execution_count": 44,
   "metadata": {
    "collapsed": false
   },
   "outputs": [
    {
     "data": {
      "text/plain": [
       "2624"
      ]
     },
     "execution_count": 44,
     "metadata": {},
     "output_type": "execute_result"
    }
   ],
   "source": [
    "max(set(grouped_users_nightfilter.get_group(usuario_problema).tolist()),key=grouped_users_nightfilter.get_group(usuario_problema).tolist().count)"
   ]
  },
  {
   "cell_type": "code",
   "execution_count": 45,
   "metadata": {
    "collapsed": false,
    "scrolled": true
   },
   "outputs": [
    {
     "ename": "KeyError",
     "evalue": "400",
     "output_type": "error",
     "traceback": [
      "\u001b[1;31m---------------------------------------------------------------------------\u001b[0m",
      "\u001b[1;31mKeyError\u001b[0m                                  Traceback (most recent call last)",
      "\u001b[1;32m<ipython-input-45-bd5e7a6b80a0>\u001b[0m in \u001b[0;36m<module>\u001b[1;34m()\u001b[0m\n\u001b[1;32m----> 1\u001b[1;33m \u001b[0mcpp_user_antenna_map_nightfilter\u001b[0m\u001b[1;33m.\u001b[0m\u001b[0mix\u001b[0m\u001b[1;33m[\u001b[0m\u001b[0musuario_problema\u001b[0m\u001b[1;33m]\u001b[0m\u001b[1;33m\u001b[0m\u001b[0m\n\u001b[0m",
      "\u001b[1;32m/home/juan/anaconda2/lib/python2.7/site-packages/pandas/core/indexing.pyc\u001b[0m in \u001b[0;36m__getitem__\u001b[1;34m(self, key)\u001b[0m\n\u001b[0;32m     68\u001b[0m             \u001b[1;32mreturn\u001b[0m \u001b[0mself\u001b[0m\u001b[1;33m.\u001b[0m\u001b[0m_getitem_tuple\u001b[0m\u001b[1;33m(\u001b[0m\u001b[0mkey\u001b[0m\u001b[1;33m)\u001b[0m\u001b[1;33m\u001b[0m\u001b[0m\n\u001b[0;32m     69\u001b[0m         \u001b[1;32melse\u001b[0m\u001b[1;33m:\u001b[0m\u001b[1;33m\u001b[0m\u001b[0m\n\u001b[1;32m---> 70\u001b[1;33m             \u001b[1;32mreturn\u001b[0m \u001b[0mself\u001b[0m\u001b[1;33m.\u001b[0m\u001b[0m_getitem_axis\u001b[0m\u001b[1;33m(\u001b[0m\u001b[0mkey\u001b[0m\u001b[1;33m,\u001b[0m \u001b[0maxis\u001b[0m\u001b[1;33m=\u001b[0m\u001b[1;36m0\u001b[0m\u001b[1;33m)\u001b[0m\u001b[1;33m\u001b[0m\u001b[0m\n\u001b[0m\u001b[0;32m     71\u001b[0m \u001b[1;33m\u001b[0m\u001b[0m\n\u001b[0;32m     72\u001b[0m     \u001b[1;32mdef\u001b[0m \u001b[0m_get_label\u001b[0m\u001b[1;33m(\u001b[0m\u001b[0mself\u001b[0m\u001b[1;33m,\u001b[0m \u001b[0mlabel\u001b[0m\u001b[1;33m,\u001b[0m \u001b[0maxis\u001b[0m\u001b[1;33m=\u001b[0m\u001b[1;36m0\u001b[0m\u001b[1;33m)\u001b[0m\u001b[1;33m:\u001b[0m\u001b[1;33m\u001b[0m\u001b[0m\n",
      "\u001b[1;32m/home/juan/anaconda2/lib/python2.7/site-packages/pandas/core/indexing.pyc\u001b[0m in \u001b[0;36m_getitem_axis\u001b[1;34m(self, key, axis)\u001b[0m\n\u001b[0;32m    965\u001b[0m                     \u001b[1;32mreturn\u001b[0m \u001b[0mself\u001b[0m\u001b[1;33m.\u001b[0m\u001b[0m_get_loc\u001b[0m\u001b[1;33m(\u001b[0m\u001b[0mkey\u001b[0m\u001b[1;33m,\u001b[0m \u001b[0maxis\u001b[0m\u001b[1;33m=\u001b[0m\u001b[0maxis\u001b[0m\u001b[1;33m)\u001b[0m\u001b[1;33m\u001b[0m\u001b[0m\n\u001b[0;32m    966\u001b[0m \u001b[1;33m\u001b[0m\u001b[0m\n\u001b[1;32m--> 967\u001b[1;33m             \u001b[1;32mreturn\u001b[0m \u001b[0mself\u001b[0m\u001b[1;33m.\u001b[0m\u001b[0m_get_label\u001b[0m\u001b[1;33m(\u001b[0m\u001b[0mkey\u001b[0m\u001b[1;33m,\u001b[0m \u001b[0maxis\u001b[0m\u001b[1;33m=\u001b[0m\u001b[0maxis\u001b[0m\u001b[1;33m)\u001b[0m\u001b[1;33m\u001b[0m\u001b[0m\n\u001b[0m\u001b[0;32m    968\u001b[0m \u001b[1;33m\u001b[0m\u001b[0m\n\u001b[0;32m    969\u001b[0m     \u001b[1;32mdef\u001b[0m \u001b[0m_getitem_iterable\u001b[0m\u001b[1;33m(\u001b[0m\u001b[0mself\u001b[0m\u001b[1;33m,\u001b[0m \u001b[0mkey\u001b[0m\u001b[1;33m,\u001b[0m \u001b[0maxis\u001b[0m\u001b[1;33m=\u001b[0m\u001b[1;36m0\u001b[0m\u001b[1;33m)\u001b[0m\u001b[1;33m:\u001b[0m\u001b[1;33m\u001b[0m\u001b[0m\n",
      "\u001b[1;32m/home/juan/anaconda2/lib/python2.7/site-packages/pandas/core/indexing.pyc\u001b[0m in \u001b[0;36m_get_label\u001b[1;34m(self, label, axis)\u001b[0m\n\u001b[0;32m     84\u001b[0m             \u001b[1;32mraise\u001b[0m \u001b[0mIndexingError\u001b[0m\u001b[1;33m(\u001b[0m\u001b[1;34m'no slices here, handle elsewhere'\u001b[0m\u001b[1;33m)\u001b[0m\u001b[1;33m\u001b[0m\u001b[0m\n\u001b[0;32m     85\u001b[0m \u001b[1;33m\u001b[0m\u001b[0m\n\u001b[1;32m---> 86\u001b[1;33m         \u001b[1;32mreturn\u001b[0m \u001b[0mself\u001b[0m\u001b[1;33m.\u001b[0m\u001b[0mobj\u001b[0m\u001b[1;33m.\u001b[0m\u001b[0m_xs\u001b[0m\u001b[1;33m(\u001b[0m\u001b[0mlabel\u001b[0m\u001b[1;33m,\u001b[0m \u001b[0maxis\u001b[0m\u001b[1;33m=\u001b[0m\u001b[0maxis\u001b[0m\u001b[1;33m)\u001b[0m\u001b[1;33m\u001b[0m\u001b[0m\n\u001b[0m\u001b[0;32m     87\u001b[0m \u001b[1;33m\u001b[0m\u001b[0m\n\u001b[0;32m     88\u001b[0m     \u001b[1;32mdef\u001b[0m \u001b[0m_get_loc\u001b[0m\u001b[1;33m(\u001b[0m\u001b[0mself\u001b[0m\u001b[1;33m,\u001b[0m \u001b[0mkey\u001b[0m\u001b[1;33m,\u001b[0m \u001b[0maxis\u001b[0m\u001b[1;33m=\u001b[0m\u001b[1;36m0\u001b[0m\u001b[1;33m)\u001b[0m\u001b[1;33m:\u001b[0m\u001b[1;33m\u001b[0m\u001b[0m\n",
      "\u001b[1;32m/home/juan/anaconda2/lib/python2.7/site-packages/pandas/core/generic.pyc\u001b[0m in \u001b[0;36mxs\u001b[1;34m(self, key, axis, level, copy, drop_level)\u001b[0m\n\u001b[0;32m   1484\u001b[0m                                                       drop_level=drop_level)\n\u001b[0;32m   1485\u001b[0m         \u001b[1;32melse\u001b[0m\u001b[1;33m:\u001b[0m\u001b[1;33m\u001b[0m\u001b[0m\n\u001b[1;32m-> 1486\u001b[1;33m             \u001b[0mloc\u001b[0m \u001b[1;33m=\u001b[0m \u001b[0mself\u001b[0m\u001b[1;33m.\u001b[0m\u001b[0mindex\u001b[0m\u001b[1;33m.\u001b[0m\u001b[0mget_loc\u001b[0m\u001b[1;33m(\u001b[0m\u001b[0mkey\u001b[0m\u001b[1;33m)\u001b[0m\u001b[1;33m\u001b[0m\u001b[0m\n\u001b[0m\u001b[0;32m   1487\u001b[0m \u001b[1;33m\u001b[0m\u001b[0m\n\u001b[0;32m   1488\u001b[0m             \u001b[1;32mif\u001b[0m \u001b[0misinstance\u001b[0m\u001b[1;33m(\u001b[0m\u001b[0mloc\u001b[0m\u001b[1;33m,\u001b[0m \u001b[0mnp\u001b[0m\u001b[1;33m.\u001b[0m\u001b[0mndarray\u001b[0m\u001b[1;33m)\u001b[0m\u001b[1;33m:\u001b[0m\u001b[1;33m\u001b[0m\u001b[0m\n",
      "\u001b[1;32m/home/juan/anaconda2/lib/python2.7/site-packages/pandas/core/index.pyc\u001b[0m in \u001b[0;36mget_loc\u001b[1;34m(self, key, method, tolerance)\u001b[0m\n\u001b[0;32m   1757\u001b[0m                                  'backfill or nearest lookups')\n\u001b[0;32m   1758\u001b[0m             \u001b[0mkey\u001b[0m \u001b[1;33m=\u001b[0m \u001b[0m_values_from_object\u001b[0m\u001b[1;33m(\u001b[0m\u001b[0mkey\u001b[0m\u001b[1;33m)\u001b[0m\u001b[1;33m\u001b[0m\u001b[0m\n\u001b[1;32m-> 1759\u001b[1;33m             \u001b[1;32mreturn\u001b[0m \u001b[0mself\u001b[0m\u001b[1;33m.\u001b[0m\u001b[0m_engine\u001b[0m\u001b[1;33m.\u001b[0m\u001b[0mget_loc\u001b[0m\u001b[1;33m(\u001b[0m\u001b[0mkey\u001b[0m\u001b[1;33m)\u001b[0m\u001b[1;33m\u001b[0m\u001b[0m\n\u001b[0m\u001b[0;32m   1760\u001b[0m \u001b[1;33m\u001b[0m\u001b[0m\n\u001b[0;32m   1761\u001b[0m         indexer = self.get_indexer([key], method=method,\n",
      "\u001b[1;32mpandas/index.pyx\u001b[0m in \u001b[0;36mpandas.index.IndexEngine.get_loc (pandas/index.c:3979)\u001b[1;34m()\u001b[0m\n",
      "\u001b[1;32mpandas/index.pyx\u001b[0m in \u001b[0;36mpandas.index.IndexEngine.get_loc (pandas/index.c:3843)\u001b[1;34m()\u001b[0m\n",
      "\u001b[1;32mpandas/hashtable.pyx\u001b[0m in \u001b[0;36mpandas.hashtable.Int64HashTable.get_item (pandas/hashtable.c:6525)\u001b[1;34m()\u001b[0m\n",
      "\u001b[1;32mpandas/hashtable.pyx\u001b[0m in \u001b[0;36mpandas.hashtable.Int64HashTable.get_item (pandas/hashtable.c:6463)\u001b[1;34m()\u001b[0m\n",
      "\u001b[1;31mKeyError\u001b[0m: 400"
     ]
    }
   ],
   "source": [
    "cpp_user_antenna_map_nightfilter.ix[usuario_problema]"
   ]
  }
 ],
 "metadata": {
  "kernelspec": {
   "display_name": "Python 2",
   "language": "python",
   "name": "python2"
  },
  "language_info": {
   "codemirror_mode": {
    "name": "ipython",
    "version": 2
   },
   "file_extension": ".py",
   "mimetype": "text/x-python",
   "name": "python",
   "nbconvert_exporter": "python",
   "pygments_lexer": "ipython2",
   "version": "2.7.11"
  }
 },
 "nbformat": 4,
 "nbformat_minor": 0
}
