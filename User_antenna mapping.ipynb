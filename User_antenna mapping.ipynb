{
 "cells": [
  {
   "cell_type": "markdown",
   "metadata": {
    "collapsed": true
   },
   "source": [
    "# User_antenna mapping\n",
    "La idea es crear la lista que cuenta antennas utilizadas para cada user en el dataset outputeado por simple_format diariamente y agrupar esta lista (con repeticiones) en un agregado mensual (para luego determinar home_antenna etc.)\n",
    "\n",
    "Tambien usando info de las antenas (epidemicas o no). Podriamos ver si un user \"vive\" o \"paso\" por la zona epidemica.\n",
    "\n",
    "## definiciones utilizadas\n",
    "* timestamp arranca en 0 segundos para 01/01/2012 00:00am\n",
    "* el analisis es solo para cdrs con usuarios de la TelCo. Los users de la TelCo van todos en la primer columna (independientemente del nombre de la columna..) entonces si la llamada es entrante quiere decir que el user de la telco esta recibiendo un llamado en esa antennaID. si la llamada es saliente es al reves. (Podria pasar que sea comunicaciones inter-Telco y ahi habria dos records uno saliente y otro entrante pero con los mismos 2 userIDs).\n",
    "* La Direction, viene dada relativa al user de la primer columna (incoming si entra y viceversa si es outgoing).\n",
    "\n",
    "### el dataset de simple_format vendria con este header\n",
    " {'Target':np.int32 \\\\\\  'Destination':np.uint32 \\\\\\  'TimeStamp':np.uint32 \\\\\\   'Duration':np.uint16 \\\\\\  'AntennaID':np.uint16}\n",
    "\n",
    "por lo cual seria conveniente eliminar los headers de cada .txt.gz para parsear rapidamente, asignar dtypes y despues volver a asignar column names aca en pandas (u otro program)"
   ]
  },
  {
   "cell_type": "markdown",
   "metadata": {},
   "source": [
    "# (Al 02/02) \n",
    "vamos a ver como usar pandas.Dataframe con la opcion de chunksize para ir usando el algoritmo de a cachos en la tabla que es muy pesada para levantar toda en memoria. Y luego ir 'guardando' tipo con cat."
   ]
  },
  {
   "cell_type": "code",
   "execution_count": 1,
   "metadata": {
    "collapsed": false
   },
   "outputs": [
    {
     "data": {
      "application/javascript": [
       "IPython.notebook.set_autosave_interval(180000)"
      ]
     },
     "metadata": {},
     "output_type": "display_data"
    },
    {
     "name": "stdout",
     "output_type": "stream",
     "text": [
      "Autosaving every 180 seconds\n"
     ]
    }
   ],
   "source": [
    "%autosave 180"
   ]
  },
  {
   "cell_type": "code",
   "execution_count": 2,
   "metadata": {
    "collapsed": true
   },
   "outputs": [],
   "source": [
    "import pandas as pd; import numpy as np; import os;import random;\n",
    "pd.set_option('display.max_rows', 300)\n",
    "from matplotlib import pyplot as plt\n",
    "%matplotlib inline\n",
    "import time\n",
    "import os\n",
    "np.random.seed(2016)"
   ]
  },
  {
   "cell_type": "code",
   "execution_count": 3,
   "metadata": {
    "collapsed": false
   },
   "outputs": [],
   "source": [
    "#ejemplo  \"/grandata/simple_format/01-02012014.txt.gz\"\n",
    "#seteamos el lugar de trabajo\n",
    "rootdir=\"/grandata/simple_format/\"\n",
    "os.chdir(rootdir)\n",
    "year = \"2015\"; \n",
    "month_start= \"01\";\n",
    "#todos estos sum_links terminan 2 meses mas tardes\n",
    "month_end= str(int(month_start)+2)\n",
    "if int(month_end )<10:\n",
    "    month_end=\"0\"+month_end\n",
    "    \n",
    "day_start = \"01\"\n",
    "day_end = str(int(day_start)+1)\n",
    "if int(day_end )<10:\n",
    "    day_end=\"0\"+ day_end\n",
    "\n",
    "input_file= rootdir +\"simple_format_{y}{ms}.txt.gz\"\\\n",
    "                .format(y=year,ms=month_start,me=month_end,\n",
    "                       ds=day_start,de=day_end)\n",
    "    \n",
    "def get_output_file(hash_map=False,night_filter=False,week_end=False):\n",
    "    output = \"/home/juan/mobility-study/output\"\n",
    "    if week_end == True:\n",
    "        output = output + \"_wkend\"\n",
    "    if night_filter == True:\n",
    "        output = output + \"_ngtfilter\"\n",
    "    if hash_map == True:\n",
    "        output = output + \"_user_hash_map\"\n",
    "    return output + \".txt\""
   ]
  },
  {
   "cell_type": "code",
   "execution_count": 4,
   "metadata": {
    "collapsed": false
   },
   "outputs": [
    {
     "data": {
      "text/plain": [
       "'/grandata/simple_format/simple_format_201501.txt.gz'"
      ]
     },
     "execution_count": 4,
     "metadata": {},
     "output_type": "execute_result"
    }
   ],
   "source": [
    "input_file"
   ]
  },
  {
   "cell_type": "code",
   "execution_count": 5,
   "metadata": {
    "collapsed": false
   },
   "outputs": [],
   "source": [
    "#para enriquecer el dataset de CDRs con info acerca de la zona epidemica etc.\n",
    "antennas= pd.read_csv('/home/juan/mobility-study/antennas_mexico.csv',sep = \"|\",header=0,index_col=0)\n",
    "antennas.index.rename(\"ANTENNA_ID\",inplace=True)"
   ]
  },
  {
   "cell_type": "code",
   "execution_count": 6,
   "metadata": {
    "collapsed": true
   },
   "outputs": [],
   "source": [
    "#levanto la tabla de users hash_map.\n",
    "user_hash_range_map_file = get_output_file(True) + \".gz\"\n",
    "user_hash_range_map = pd.read_csv(user_hash_range_map_file,\n",
    "                                  sep=\"|\",\n",
    "                                  index_col=0,\n",
    "                                  header=0\n",
    "                )"
   ]
  },
  {
   "cell_type": "code",
   "execution_count": 7,
   "metadata": {
    "collapsed": false
   },
   "outputs": [],
   "source": [
    "sample_file = input_file.replace(\".txt.gz\",\"_sample.txt.gz\")\n",
    "#para el manejo de las distintas salidas del programa\n",
    "\n",
    "week_end = False\n",
    "night_filter = False\n",
    "hash_map = False\n",
    "output_file = get_output_file(hash_map,night_filter,week_end)"
   ]
  },
  {
   "cell_type": "code",
   "execution_count": 8,
   "metadata": {
    "collapsed": false
   },
   "outputs": [
    {
     "data": {
      "text/plain": [
       "'/home/juan/mobility-study/output.txt'"
      ]
     },
     "execution_count": 8,
     "metadata": {},
     "output_type": "execute_result"
    }
   ],
   "source": [
    "output_file"
   ]
  },
  {
   "cell_type": "code",
   "execution_count": 40,
   "metadata": {
    "collapsed": false
   },
   "outputs": [],
   "source": [
    "sample.to_csv(sample_file,\n",
    "              sep=\" \",\n",
    "              header=False,\n",
    "              index=False)"
   ]
  },
  {
   "cell_type": "code",
   "execution_count": 11,
   "metadata": {
    "collapsed": false
   },
   "outputs": [
    {
     "name": "stdout",
     "output_type": "stream",
     "text": [
      "USER OTHER_USER DIRECTION TIMESTAMP DURATION ANTENNA_ID\r\n",
      "216E0E920C0B51093276E270CC36CB72 5492B0033211A161BA4DCECD83A6690E O 94695418 88 1\r\n",
      "73C2C1F8233884659CC65DF58BA2D031 0ECA1BB365D1BD1F3B54F5F5225A4337 I 94820900 153 2\r\n",
      "73C2C1F8233884659CC65DF58BA2D031 0ECA1BB365D1BD1F3B54F5F5225A4337 O 94842758 189 3\r\n",
      "73C2C1F8233884659CC65DF58BA2D031 0ECA1BB365D1BD1F3B54F5F5225A4337 O 94820507 361 2\r\n",
      "73C2C1F8233884659CC65DF58BA2D031 0ECA1BB365D1BD1F3B54F5F5225A4337 O 94831395 52 4\r\n",
      "73C2C1F8233884659CC65DF58BA2D031 29D24A2CD146FFEDC05757A22BAED052 I 94835642 40 5\r\n",
      "73C2C1F8233884659CC65DF58BA2D031 3386587CF389FB2B195C60D92DEB9F81 I 94711785 25 2\r\n",
      "73C2C1F8233884659CC65DF58BA2D031 3386587CF389FB2B195C60D92DEB9F81 I 94838044 27 6\r\n",
      "73C2C1F8233884659CC65DF58BA2D031 3386587CF389FB2B195C60D92DEB9F81 O 94819123 34 6\r\n",
      "\r\n",
      "gzip: stdout: Broken pipe\r\n"
     ]
    }
   ],
   "source": [
    "!zcat $input_file | head -n10"
   ]
  },
  {
   "cell_type": "markdown",
   "metadata": {},
   "source": [
    "## testeo el algo en un file pequenyo"
   ]
  },
  {
   "cell_type": "code",
   "execution_count": 8,
   "metadata": {
    "collapsed": true
   },
   "outputs": [],
   "source": [
    "#leo las primeras 10M lineas\n",
    "sample = pd.read_csv(\n",
    "                input_file,\n",
    "                engine = 'c',\n",
    "#                chunksize = 10**7,\n",
    "    #            iterator =True,\n",
    "                nrows = 10**7,\n",
    "                sep = ' ',\n",
    "                header = 0,\n",
    "                index_col=None,\n",
    "                usecols = ['USER','OTHER_USER','ANTENNA_ID','TIMESTAMP'],\n",
    "                dtype = {'TIMESTAMP':np.uint32,'ANTENNA_ID':np.uint16,'USER':np.object_,'OTHER_USER':np.object_}\n",
    "                )\n"
   ]
  },
  {
   "cell_type": "code",
   "execution_count": 24,
   "metadata": {
    "collapsed": true
   },
   "outputs": [],
   "source": [
    "output_table.to_csv?"
   ]
  },
  {
   "cell_type": "code",
   "execution_count": 28,
   "metadata": {
    "collapsed": true
   },
   "outputs": [
    {
     "name": "stdout",
     "output_type": "stream",
     "text": [
      "working group number 0 of 45, time elapsed is 0.00221490859985 \n",
      "\n",
      "Working on month 05-2015, time elapsed is 0.0901749134064 \n"
     ]
    },
    {
     "ename": "CParserError",
     "evalue": "Error tokenizing data. C error: Calling read(nbytes) on source failed. Try engine='python'.",
     "output_type": "error",
     "traceback": [
      "\u001b[1;31m---------------------------------------------------------------------------\u001b[0m",
      "\u001b[1;31mCParserError\u001b[0m                              Traceback (most recent call last)",
      "\u001b[1;32m<ipython-input-28-163639e43c0e>\u001b[0m in \u001b[0;36m<module>\u001b[1;34m()\u001b[0m\n\u001b[0;32m     40\u001b[0m \u001b[1;33m\u001b[0m\u001b[0m\n\u001b[0;32m     41\u001b[0m         \u001b[0mnumb\u001b[0m\u001b[1;33m=\u001b[0m\u001b[1;36m0\u001b[0m\u001b[1;33m;\u001b[0m\u001b[1;33m\u001b[0m\u001b[0m\n\u001b[1;32m---> 42\u001b[1;33m         \u001b[1;32mfor\u001b[0m \u001b[0mchunk\u001b[0m \u001b[1;32min\u001b[0m \u001b[0mtable\u001b[0m\u001b[1;33m:\u001b[0m\u001b[1;33m\u001b[0m\u001b[0m\n\u001b[0m\u001b[0;32m     43\u001b[0m                 \u001b[0mnumb\u001b[0m\u001b[1;33m+=\u001b[0m\u001b[1;36m1\u001b[0m\u001b[1;33m\u001b[0m\u001b[0m\n\u001b[0;32m     44\u001b[0m                 \u001b[1;31m#a cada chunk filtro por todos los USERs por el hash del string (el hash es un int) y despue filtro modulo passes\u001b[0m\u001b[1;33m\u001b[0m\u001b[1;33m\u001b[0m\u001b[0m\n",
      "\u001b[1;32m/home/juan/anaconda2/lib/python2.7/site-packages/pandas/io/parsers.pyc\u001b[0m in \u001b[0;36m__iter__\u001b[1;34m(self)\u001b[0m\n\u001b[0;32m    721\u001b[0m             \u001b[1;32mif\u001b[0m \u001b[0mself\u001b[0m\u001b[1;33m.\u001b[0m\u001b[0mchunksize\u001b[0m\u001b[1;33m:\u001b[0m\u001b[1;33m\u001b[0m\u001b[0m\n\u001b[0;32m    722\u001b[0m                 \u001b[1;32mwhile\u001b[0m \u001b[0mTrue\u001b[0m\u001b[1;33m:\u001b[0m\u001b[1;33m\u001b[0m\u001b[0m\n\u001b[1;32m--> 723\u001b[1;33m                     \u001b[1;32myield\u001b[0m \u001b[0mself\u001b[0m\u001b[1;33m.\u001b[0m\u001b[0mread\u001b[0m\u001b[1;33m(\u001b[0m\u001b[0mself\u001b[0m\u001b[1;33m.\u001b[0m\u001b[0mchunksize\u001b[0m\u001b[1;33m)\u001b[0m\u001b[1;33m\u001b[0m\u001b[0m\n\u001b[0m\u001b[0;32m    724\u001b[0m             \u001b[1;32melse\u001b[0m\u001b[1;33m:\u001b[0m\u001b[1;33m\u001b[0m\u001b[0m\n\u001b[0;32m    725\u001b[0m                 \u001b[1;32myield\u001b[0m \u001b[0mself\u001b[0m\u001b[1;33m.\u001b[0m\u001b[0mread\u001b[0m\u001b[1;33m(\u001b[0m\u001b[1;33m)\u001b[0m\u001b[1;33m\u001b[0m\u001b[0m\n",
      "\u001b[1;32m/home/juan/anaconda2/lib/python2.7/site-packages/pandas/io/parsers.pyc\u001b[0m in \u001b[0;36mread\u001b[1;34m(self, nrows)\u001b[0m\n\u001b[0;32m    745\u001b[0m                 \u001b[1;32mraise\u001b[0m \u001b[0mValueError\u001b[0m\u001b[1;33m(\u001b[0m\u001b[1;34m'skip_footer not supported for iteration'\u001b[0m\u001b[1;33m)\u001b[0m\u001b[1;33m\u001b[0m\u001b[0m\n\u001b[0;32m    746\u001b[0m \u001b[1;33m\u001b[0m\u001b[0m\n\u001b[1;32m--> 747\u001b[1;33m         \u001b[0mret\u001b[0m \u001b[1;33m=\u001b[0m \u001b[0mself\u001b[0m\u001b[1;33m.\u001b[0m\u001b[0m_engine\u001b[0m\u001b[1;33m.\u001b[0m\u001b[0mread\u001b[0m\u001b[1;33m(\u001b[0m\u001b[0mnrows\u001b[0m\u001b[1;33m)\u001b[0m\u001b[1;33m\u001b[0m\u001b[0m\n\u001b[0m\u001b[0;32m    748\u001b[0m \u001b[1;33m\u001b[0m\u001b[0m\n\u001b[0;32m    749\u001b[0m         \u001b[1;32mif\u001b[0m \u001b[0mself\u001b[0m\u001b[1;33m.\u001b[0m\u001b[0moptions\u001b[0m\u001b[1;33m.\u001b[0m\u001b[0mget\u001b[0m\u001b[1;33m(\u001b[0m\u001b[1;34m'as_recarray'\u001b[0m\u001b[1;33m)\u001b[0m\u001b[1;33m:\u001b[0m\u001b[1;33m\u001b[0m\u001b[0m\n",
      "\u001b[1;32m/home/juan/anaconda2/lib/python2.7/site-packages/pandas/io/parsers.pyc\u001b[0m in \u001b[0;36mread\u001b[1;34m(self, nrows)\u001b[0m\n\u001b[0;32m   1195\u001b[0m     \u001b[1;32mdef\u001b[0m \u001b[0mread\u001b[0m\u001b[1;33m(\u001b[0m\u001b[0mself\u001b[0m\u001b[1;33m,\u001b[0m \u001b[0mnrows\u001b[0m\u001b[1;33m=\u001b[0m\u001b[0mNone\u001b[0m\u001b[1;33m)\u001b[0m\u001b[1;33m:\u001b[0m\u001b[1;33m\u001b[0m\u001b[0m\n\u001b[0;32m   1196\u001b[0m         \u001b[1;32mtry\u001b[0m\u001b[1;33m:\u001b[0m\u001b[1;33m\u001b[0m\u001b[0m\n\u001b[1;32m-> 1197\u001b[1;33m             \u001b[0mdata\u001b[0m \u001b[1;33m=\u001b[0m \u001b[0mself\u001b[0m\u001b[1;33m.\u001b[0m\u001b[0m_reader\u001b[0m\u001b[1;33m.\u001b[0m\u001b[0mread\u001b[0m\u001b[1;33m(\u001b[0m\u001b[0mnrows\u001b[0m\u001b[1;33m)\u001b[0m\u001b[1;33m\u001b[0m\u001b[0m\n\u001b[0m\u001b[0;32m   1198\u001b[0m         \u001b[1;32mexcept\u001b[0m \u001b[0mStopIteration\u001b[0m\u001b[1;33m:\u001b[0m\u001b[1;33m\u001b[0m\u001b[0m\n\u001b[0;32m   1199\u001b[0m             \u001b[1;32mif\u001b[0m \u001b[0mself\u001b[0m\u001b[1;33m.\u001b[0m\u001b[0m_first_chunk\u001b[0m\u001b[1;33m:\u001b[0m\u001b[1;33m\u001b[0m\u001b[0m\n",
      "\u001b[1;32mpandas/parser.pyx\u001b[0m in \u001b[0;36mpandas.parser.TextReader.read (pandas/parser.c:7988)\u001b[1;34m()\u001b[0m\n",
      "\u001b[1;32mpandas/parser.pyx\u001b[0m in \u001b[0;36mpandas.parser.TextReader._read_low_memory (pandas/parser.c:8444)\u001b[1;34m()\u001b[0m\n",
      "\u001b[1;32mpandas/parser.pyx\u001b[0m in \u001b[0;36mpandas.parser.TextReader._read_rows (pandas/parser.c:8970)\u001b[1;34m()\u001b[0m\n",
      "\u001b[1;32mpandas/parser.pyx\u001b[0m in \u001b[0;36mpandas.parser.TextReader._tokenize_rows (pandas/parser.c:8838)\u001b[1;34m()\u001b[0m\n",
      "\u001b[1;32mpandas/parser.pyx\u001b[0m in \u001b[0;36mpandas.parser.raise_parser_error (pandas/parser.c:22649)\u001b[1;34m()\u001b[0m\n",
      "\u001b[1;31mCParserError\u001b[0m: Error tokenizing data. C error: Calling read(nbytes) on source failed. Try engine='python'."
     ]
    }
   ],
   "source": [
    "## script para extraer todos los atributos del simple_format\n",
    "\n",
    "#ver el tiempo que tarda\n",
    "start_time = time.time()\n",
    "\n",
    "#el chunk basicamente va leyendo el file de a 'chunksize' cantidad de filas\n",
    "#subgroup = pd.DataFrame()\n",
    "\n",
    "#hay cinco meses del cual extraer atributos:\n",
    "months= [\"0\"+str(month) for month in range(5,10)]\n",
    "\n",
    "year = \"2015\"\n",
    "\n",
    "#aca seteamos como vamos a partir la tabla segun el nro correspondiente a c/hash y tomando modulo\n",
    "passes = 45\n",
    "#creo los grupos que despues van a filtrar c/chunk de la tabla para hacer varias pasadas\n",
    "for group in range(passes):\n",
    "    print(\"working group number {it} of {pas}, time elapsed is {t} \\n\".format(it=group,pas=passes, t=(time.time()-start_time)))\n",
    "\n",
    "    #itero sobre los meses\n",
    "    subgroup = pd.DataFrame()\n",
    "    for month in months:\n",
    "        print(\"Working on month {ms}-{y}, time elapsed is {t} \".format(ms=month,y=year,t=(time.time()-start_time)))\n",
    "        input_file= rootdir +\"simple_format_{y}{ms}.txt.gz\"\\\n",
    "            .format(y=year,ms=month)\n",
    "\n",
    "        table = pd.read_csv(\n",
    "                input_file,\n",
    "                engine = 'c',\n",
    "                chunksize = 6*10**7,\n",
    "    #            iterator =True,\n",
    "                sep = ' ',\n",
    "                header = 0,\n",
    "                index_col=None,\n",
    "                usecols = ['USER','OTHER_USER','ANTENNA_ID','TIMESTAMP'],\n",
    "                dtype = {'TIMESTAMP':np.uint32,'ANTENNA_ID':np.uint16,'USER':np.object_,'OTHER_USER':np.object_}\n",
    "                )\n",
    "\n",
    "        #cuando entramos a este loop, table tiene tantos 'chunks' como el valor entero de la cantidad de lineas en el file\n",
    "        #dividido el tamanyo del chunksize\n",
    "\n",
    "        numb=0;\n",
    "        for chunk in table:\n",
    "                numb+=1\n",
    "                #a cada chunk filtro por todos los USERs por el hash del string (el hash es un int) y despue filtro modulo passes\n",
    "                #y trabajo sobre la tabla subgroup nada mas que ahora tiene menos usuarios\n",
    "                subgroup = subgroup.append(chunk[chunk['USER'].apply(lambda x: hash(x) % passes == group )])\n",
    "\n",
    "    #entonces la idea es que yo ahora solo voy a trabajar, dentro de esta tabla filtrada y para todos los meses juntos\n",
    "    \n",
    "    #paso de segundos a horas\n",
    "    #notar que TIMESTAMP arranca en 0 segundos para domingo 01/01/2012 00:00am \n",
    "    #con lo cual domingo es el dia 0, lunes el 1, asi..\n",
    "    print('finished month reading')\n",
    "    subgroup['Hour'] =  (subgroup['TIMESTAMP'].values*1.0/3600)%24\n",
    "    \n",
    "    subgroup['Day']  =  (subgroup['TIMESTAMP'].values*1.0/(3600*24))%7\n",
    "\n",
    "    #filtro usuarios con pocos o demasiados llamados en general menos de 25 y mas de 2000 en 5 meses  \n",
    "    insignificant_users = subgroup['USER'].value_counts()[(subgroup['USER'].value_counts() < 25) \\\n",
    "                        | (subgroup['USER'].value_counts() > 2000)].index.values.tolist()\n",
    "    subgroup= subgroup.loc[~subgroup['USER'].isin(insignificant_users)]\n",
    "\n",
    "\n",
    "    #filtro segun nightfilter y week_end. el day light seria de [7,19) segun la convencion de mexico/GranData\n",
    "    if night_filter == True:\n",
    "        subgroup = subgroup.loc[(subroup['Hour']<7) | (subgroup['Hour']>19)]\n",
    "    if week_end == True:\n",
    "        subgroup = subgroup.loc[(subgroup['Day']==0) | (subgroup['Day']==6)]\n",
    "\n",
    "\n",
    "    #   \n",
    "\n",
    "    grouped = subgroup.groupby(['USER', 'ANTENNA_ID'])['ANTENNA_ID'].agg({'count': np.size})\n",
    "    grouped.reset_index(inplace=True,drop=False)\n",
    "\n",
    "    del subgroup\n",
    "    #reordeno dentro de c/ USER por el count del antenna, esto me sirve para despues ordenar las antenas por uso\n",
    "    grouped.sort_values(by=['USER','count'],ascending=False,inplace=True)\n",
    "\n",
    "    ##enriquezco la muestra con datos epidemicos\n",
    "    #primero agrego a cada antenna del df el dato de si es epidemica\n",
    "    #despues agrupo por el USER y me fijo solo la columna epidemica en c/grupo\n",
    "    #finalmente sumo en c/ grupo y tomo la parte superior \n",
    "    #entera de esa division con el largo del grupo. Si uso al menos una antena epidemica entonces esta expuesto(==1) Si no,\n",
    "    # da 0 pues no estuvo expuesto.        \n",
    "    ##enriquezco la muestra con datos epidemicos\n",
    "\n",
    "    exposed_info =grouped.join(antennas['EPIDEMIC'], on='ANTENNA_ID').\\\n",
    "    groupby('USER')['EPIDEMIC'].\\\n",
    "        agg({'EXPOSED' : lambda x: int( np.ceil(np.sum(x)*1.0/np.size(x)) )})\n",
    "\n",
    "    #actualizo la tabla\n",
    "    grouped = grouped.join(exposed_info['EXPOSED'],on=\"USER\")\n",
    "    del exposed_info\n",
    "\n",
    "\n",
    "    #creo la tabla filtrada solo por users, que es la que voy a terminar guardando (hay tantos rows como users)\n",
    "    output_table = grouped.drop_duplicates(subset = 'USER', keep='first')\n",
    "    #re indexo\n",
    "    output_table.index = output_table['USER'].values\n",
    "\n",
    "    #agrupo ahora la tabla por USER para hacer todos los calculos en los grupos\n",
    "\n",
    "    grouped = grouped.groupby('USER')\n",
    "\n",
    "    #aca voy a ir agregando las top 10 antennas utilizadas por el user, Si no llego a 10 antennas, relleno con NaNs\n",
    "    for i in range(10):\n",
    "        #me quedo con la i-esima fila de c/grupo (si no hay fila, no toma en cuenta ese USER)\n",
    "\n",
    "        buffer_table = grouped.nth(i)[['ANTENNA_ID','count']]\n",
    "        #renombre a iesima ANTENNA_ID e iesimo count\n",
    "        buffer_table.columns=['ANTENNA_ID_%i'%i,'count_%i'%i]\n",
    "        #agrego esta info como nuevas columnas, dejando lo demas como NaNs\n",
    "        output_table = pd.concat([output_table, buffer_table], axis=1, join_axes=[output_table.index])\n",
    "\n",
    "    del grouped\n",
    "    #dropeo la columna USER que ya es redundante por el indice\n",
    "    output_table.index.name = \"USER\"\n",
    "    output_table.drop('USER', axis=1, inplace=True)\n",
    "    \n",
    "    #los primeros ANTENNA_IDs ya no me sirven, idem con el primer\n",
    "    output_table.drop('ANTENNA_ID', axis=1, inplace=True)\n",
    "    output_table.drop('count', axis=1, inplace=True)\n",
    "    \n",
    "    \n",
    "\n",
    "    #para los datos faltantes dentro del Top10, relleno con -1s, que vendrian a ser los NaNs\n",
    "    output_table.fillna(-1,inplace=True)\n",
    "\n",
    "    #como elimine la columan de hashes puedo convertir todo a int\n",
    "    output_table = output_table.astype(int,copy=False)\n",
    "\n",
    "    #agrego info de EPIDEMIC, asumiendo a alguien como epidemico si al antenna donde vive (la ANTENNA_ID_0) \n",
    "    #esta catalogada como EPIDEMIC\n",
    "\n",
    "    output_table = output_table.join(antennas['EPIDEMIC'], on='ANTENNA_ID_0')\n",
    "\n",
    "    #aca termino guardando (en forma de append) el output final pero solo para esos usuarios % pass ==group\n",
    "\n",
    "    #el primer write (first group==0) va con header\n",
    "    if group ==0 :\n",
    "        output_table.to_csv(output_file, index = True,\n",
    "                   header = True, mode='a')\n",
    "    else: \n",
    "        output_table.to_csv(output_file, index = True,\n",
    "                   header = False, mode='a')\n",
    "\n",
    "    print(\"Finished group {gr} of {ps}, time elapsed is {t}\\n \".format(gr=group,ps=passes,t=(time.time()-start_time)))\n",
    "then = start_time\n",
    "seconds = time.time() - then\n",
    "print(\"total running time of script is %d \" % seconds)"
   ]
  },
  {
   "cell_type": "markdown",
   "metadata": {
    "collapsed": true
   },
   "source": [
    "## cambiamos el working dir y el input_file (output.txt.gz)"
   ]
  },
  {
   "cell_type": "code",
   "execution_count": 34,
   "metadata": {
    "collapsed": false
   },
   "outputs": [],
   "source": [
    "#ejemplo  \"/grandata/simple_format/01-02012014.txt.gz\"\n",
    "#seteamos el lugar de trabajo\n",
    "rootdir=\"/home/juan/mobility-study/\"\n",
    "os.chdir(rootdir)\n",
    "year = \"2015\"; \n",
    "month_start= \"01\";\n",
    "#todos estos sum_links terminan 2 meses mas tardes\n",
    "month_end= str(int(month_start)+2)\n",
    "if int(month_end )<10:\n",
    "    month_end=\"0\"+month_end\n",
    "    \n",
    "day_start = \"01\"\n",
    "day_end = str(int(day_start)+1)\n",
    "if int(day_end )<10:\n",
    "    day_end=\"0\"+ day_end\n",
    "\n",
    "input_file= rootdir +\"output1.txt.gz\"\\\n",
    "                .format(y=year,ms=month_start,me=month_end,\n",
    "                       ds=day_start,de=day_end)\n",
    "output_file = \"/home/juan/mobility-study/output2\"\n",
    "if week_end == True:\n",
    "    output_file = output_file + \"_wkend\"\n",
    "if night_filter == True:\n",
    "    output_file += \"_ngtfilter\"\n",
    "if hash_map == True:\n",
    "    output_file += \"_user_hash_map\"\n",
    "output_file += \".txt\""
   ]
  },
  {
   "cell_type": "code",
   "execution_count": 16,
   "metadata": {
    "collapsed": false
   },
   "outputs": [
    {
     "name": "stdout",
     "output_type": "stream",
     "text": [
      "/home/juan/mobility-study/output1.txt.gz\r\n"
     ]
    }
   ],
   "source": [
    "!echo $input_file"
   ]
  },
  {
   "cell_type": "code",
   "execution_count": 17,
   "metadata": {
    "collapsed": false
   },
   "outputs": [
    {
     "name": "stdout",
     "output_type": "stream",
     "text": [
      "165M\t/home/juan/mobility-study/output1.txt.gz\r\n"
     ]
    }
   ],
   "source": [
    "!du -ha $input_file"
   ]
  },
  {
   "cell_type": "code",
   "execution_count": 20,
   "metadata": {
    "collapsed": false
   },
   "outputs": [
    {
     "name": "stdout",
     "output_type": "stream",
     "text": [
      "USER,EXPOSED,ANTENNA_ID_0,count_0,ANTENNA_ID_1,count_1,ANTENNA_ID_2,count_2,ANTENNA_ID_3,count_3,ANTENNA_ID_4,count_4,ANTENNA_ID_5,count_5,ANTENNA_ID_6,count_6,ANTENNA_ID_7,count_7,ANTENNA_ID_8,count_8,ANTENNA_ID_9,count_9,EPIDEMIC\r\n",
      "FFFF78CB080636632B2D1DE7A7BFAB03,0,3415,21,2969,5,1320,3,2471,3,1115,2,-1,-1,-1,-1,-1,-1,-1,-1,-1,-1,0\r\n",
      "FFFF51FDDD55A2E24D074DE30C4798E9,1,1207,15,1171,14,1820,9,583,8,2026,5,1066,4,1831,4,1625,2,401,1,825,1,0\r\n",
      "FFFE1EDDA25369CBC467536FA6A787FD,1,1847,22,1753,14,1422,11,1028,10,765,9,3072,9,862,8,2463,7,1416,6,871,5,1\r\n",
      "FFFD0A912A959CDFCFFAB2F93BFBA435,1,1407,18,1702,8,1613,6,1704,5,1394,3,1398,3,818,2,958,2,726,1,848,1,0\r\n",
      "FFFCB235D6D917DDF350F5B11CCB0EE8,1,17,74,174,33,1123,4,1178,4,173,3,890,2,503,1,1039,1,1228,1,1327,1,1\r\n",
      "FFFC9EC4F662C44D3006BA69C9F0DE85,1,876,19,1737,6,1744,5,326,1,378,1,503,1,1118,1,2216,1,2477,1,2962,1,1\r\n",
      "FFFB2F18F4CCF253C06B581EA518A7A5,1,2543,13,704,7,2540,7,1453,6,1642,5,45,4,2393,4,1841,3,3031,3,1009,2,0\r\n",
      "FFFA147CB2B23AD12F207F0EFBEB14D0,1,1857,103,2959,19,1344,2,2309,2,1511,1,2858,1,-1,-1,-1,-1,-1,-1,-1,-1,1\r\n",
      "FFFA0736F66FB09200CE1D13E081A946,1,266,63,1799,46,1790,29,2716,29,537,21,3377,21,1439,18,2715,16,1720,15,2000,14,1\r\n",
      "FFF976C823C8ACDE846E68DF75F4D698,1,1421,6,668,5,1150,5,572,4,1247,3,1633,3,496,2,507,2,714,2,1023,2,1\r\n",
      "FFF8711184E944160F2003E834F47464,1,508,21,1470,20,867,15,582,11,2121,6,2980,4,800,2,2638,1,-1,-1,-1,-1,1\r\n",
      "FFF8373FC0468150A4B6460E6F1A3768,1,3250,16,2879,12,3384,6,2799,5,2483,3,1077,2,2480,2,3512,2,1865,1,1883,1,0\r\n",
      "FFF806371B7F8FC0973C63A4DB39FF8D,1,2985,9,1160,4,2729,1,-1,-1,-1,-1,-1,-1,-1,-1,-1,-1,-1,-1,-1,-1,1\r\n",
      "FFF761BE0942967457C00CFE4D70582A,1,137,70,2263,48,3536,41,1333,36,193,23,51,9,417,6,55,5,95,2,116,2,0\r\n",
      "FFF2F8D91418841E5479664E93184C41,1,895,18,715,8,537,5,2619,5,266,3,778,2,896,2,1439,2,1720,2,3182,2,1\r\n",
      "FFF2E60B036874A8E13515CCB6D33881,1,583,18,401,11,948,7,2474,7,825,6,1658,6,1096,5,1433,5,2197,5,84,4,1\r\n",
      "FFF15C718A1F7B5D06A86E150F4446A5,1,688,19,235,15,374,11,1262,9,143,8,1791,7,609,4,346,2,347,2,596,2,0\r\n",
      "FFF0E97CBF5D7455DF2002A0C3785B0F,1,2773,6,2754,4,2840,1,2926,1,-1,-1,-1,-1,-1,-1,-1,-1,-1,-1,-1,-1,1\r\n",
      "FFF0D9CCCCFAD903B866BA751954EB8A,1,1705,43,1442,31,1099,22,1315,11,2039,11,529,8,1886,7,2134,6,2241,6,603,5,0\r\n",
      "\r\n",
      "gzip: stdout: Broken pipe\r\n"
     ]
    }
   ],
   "source": [
    "!zcat $input_file | head -n20"
   ]
  },
  {
   "cell_type": "code",
   "execution_count": 128,
   "metadata": {
    "collapsed": false
   },
   "outputs": [],
   "source": [
    "table = pd.read_csv(\n",
    "                input_file,\n",
    "                engine = 'c',\n",
    "                sep = ',',\n",
    "                header = 0,\n",
    "                index_col=0,\n",
    "                dtype = {'EXPOSED':np.bool,'EPIDEMIC':np.bool,\n",
    "                         'ANTENNA_ID_0':np.int16,'count_0':np.uint16,'ANTENNA_ID_1':np.int16,'count_1':np.uint16,\n",
    "                         'ANTENNA_ID_2':np.int16,'count_2':np.uint16,'ANTENNA_ID_3':np.int16,'count_3':np.uint16,\n",
    "                        'ANTENNA_ID_4':np.int16,'count_4':np.uint16,'ANTENNA_ID_5':np.int16,'count_5':np.uint16,\n",
    "                        'ANTENNA_ID_6':np.int16,'count_6':np.uint16,'ANTENNA_ID_7':np.int16,'count_7':np.uint16,\n",
    "                        'ANTENNA_ID_8':np.int16,'count_8':np.uint16,'ANTENNA_ID_9':np.int16,'count_9':np.uint16}\n",
    "                )\n",
    "## ojo con setear los dtypes para las antennas en np.usigned int pues ahi me transforma todos los -1s en el max del dtype"
   ]
  },
  {
   "cell_type": "code",
   "execution_count": 129,
   "metadata": {
    "collapsed": false
   },
   "outputs": [],
   "source": [
    "col_labels = table.columns\n",
    "col_labels = [ col.replace(\"count\",\"COUNT\") if (\"count\" in col) else col for col in col_labels]\n",
    "table.columns = col_labels\n",
    "del col_labels"
   ]
  },
  {
   "cell_type": "code",
   "execution_count": 36,
   "metadata": {
    "collapsed": false
   },
   "outputs": [],
   "source": [
    "#df['new_col'] = zip(df.lat, df.long)\n",
    "antenna_lat_long_dict = dict(zip(antennas.index.values, zip(antennas.LATITUDE,antennas.LONGITUDE)))"
   ]
  },
  {
   "cell_type": "code",
   "execution_count": 104,
   "metadata": {
    "collapsed": true
   },
   "outputs": [],
   "source": [
    "import math\n",
    "#earht_radi in kms\n",
    "earth_radi = 6371\n",
    "\n",
    "def distance_on_unit_sphere(lat1, long1, lat2, long2, earth_radi=6371):\n",
    " \n",
    "    # Convert latitude and longitude to \n",
    "    # spherical coordinates in radians.\n",
    "    degrees_to_radians = math.pi/180.0\n",
    "         \n",
    "    # phi = 90 - latitude\n",
    "    phi1 = (90.0 - lat1)*degrees_to_radians\n",
    "    phi2 = (90.0 - lat2)*degrees_to_radians\n",
    "         \n",
    "    # theta = longitude\n",
    "    theta1 = long1*degrees_to_radians\n",
    "    theta2 = long2*degrees_to_radians\n",
    "         \n",
    "    # Compute spherical distance from spherical coordinates.\n",
    "         \n",
    "    # For two locations in spherical coordinates \n",
    "    # (1, theta, phi) and (1, theta', phi')\n",
    "    # cosine( arc length ) = \n",
    "    #    sin phi sin phi' cos(theta-theta') + cos phi cos phi'\n",
    "    # distance = rho * arc length\n",
    "     \n",
    "    cos = (math.sin(phi1)*math.sin(phi2)*math.cos(theta1 - theta2) + \n",
    "           math.cos(phi1)*math.cos(phi2))\n",
    "    arc = math.acos( cos )\n",
    " \n",
    "    # Remember to multiply arc by the radius of the earth \n",
    "    # in your favorite set of units to get length.\n",
    "    return arc*earth_radi"
   ]
  },
  {
   "cell_type": "code",
   "execution_count": 38,
   "metadata": {
    "collapsed": true
   },
   "outputs": [],
   "source": [
    "from scipy import spatial"
   ]
  },
  {
   "cell_type": "markdown",
   "metadata": {},
   "source": [
    "### checking antenna_id consistency\n",
    "para ver si todos los antenna_ids de nuestra tabla estan en la base de datos de las antennas."
   ]
  },
  {
   "cell_type": "code",
   "execution_count": 110,
   "metadata": {
    "collapsed": true
   },
   "outputs": [],
   "source": [
    "def test_antennaid_consistency(row,antenna_id_list):\n",
    "    res = False\n",
    "    col_labels = table.columns\n",
    "    #miramos solo las columnas de antenna_ids \n",
    "    row = row[[col for col in table.columns if (\"ANTENNA\" in col)]]\n",
    "    #filtramos aquellas que tienen ant_id no nulo (==-1)\n",
    "    row = row[row >-1]\n",
    "    #print(row)\n",
    "    #le pregunto a la serie si c/valor esta en el id_list, paso a un ndarray y consulto si todos estan\n",
    "    res = row.isin(antenna_id_list).values.all()\n",
    "    \n",
    "    return res"
   ]
  },
  {
   "cell_type": "code",
   "execution_count": 81,
   "metadata": {
    "collapsed": false
   },
   "outputs": [],
   "source": [
    "antenna_id_list = list(antennas.index.values)"
   ]
  },
  {
   "cell_type": "code",
   "execution_count": 173,
   "metadata": {
    "collapsed": false,
    "scrolled": true
   },
   "outputs": [
    {
     "name": "stdout",
     "output_type": "stream",
     "text": [
      "True\n"
     ]
    },
    {
     "data": {
      "text/plain": [
       "127.47204899787903"
      ]
     },
     "execution_count": 173,
     "metadata": {},
     "output_type": "execute_result"
    }
   ],
   "source": [
    "start_time = time.time()\n",
    "consistency = table.sample(10**5).apply(func = (lambda row: test_antennaid_consistency(row,antenna_id_list)),axis='columns')\n",
    "#testeo que todos los resultados sean True\n",
    "print(consistency.values.all())\n",
    "del consistency\n",
    "time.time() - start_time\n"
   ]
  },
  {
   "cell_type": "code",
   "execution_count": 141,
   "metadata": {
    "collapsed": true
   },
   "outputs": [],
   "source": [
    "user = 'FFFA147CB2B23AD12F207F0EFBEB14D0'\n",
    "row = table.loc[user]\n",
    "row = row[row>-1]\n",
    "row = row[[ind for ind in row.index if \"ANTENNA\" in ind]]"
   ]
  },
  {
   "cell_type": "markdown",
   "metadata": {},
   "source": [
    "### END antenna consistency test"
   ]
  },
  {
   "cell_type": "code",
   "execution_count": 177,
   "metadata": {
    "collapsed": true
   },
   "outputs": [],
   "source": [
    "##algoritmo sin convex hull\n",
    "\n",
    "filter_col = [col for col in list(table) if col.startswith('ANTENNA')]\n",
    "\n",
    "def convex_hull_radi(row,antenna_lat_long_dict,filter_col):\n",
    "    #rows are pandas series\n",
    "    #print(row.name)\n",
    "    row =  row[filter_col]\n",
    "    latitudes=[]\n",
    "    longitudes =[]\n",
    "    \n",
    "    #cuidado con los NaNs resultantes del map\n",
    "    for ant_id in (row.map(antenna_lat_long_dict).dropna()):\n",
    "        latitudes += [ant_id[0]] \n",
    "        longitudes += [ant_id[1]]\n",
    "    \n",
    "    \n",
    "    #try:\n",
    "    radii=0\n",
    "    for i in range(len(latitudes)):\n",
    "        for j in range(i):\n",
    "            new_dist= distance_on_unit_sphere(latitudes[i], longitudes[i], latitudes[j], longitudes[j])\n",
    "            if radii< new_dist:\n",
    "                radii = new_dist \n",
    "\n",
    "    return radii\n",
    "    #except:\n",
    "    #    print(row.name)\n",
    "    #    return 0\n",
    "        \n",
    "       \n",
    "#row =test_table.loc[2][filter_col]\n",
    "#latitudes=[]\n",
    "#longitudes =[]\n",
    "#for ant_id in row.map(antenna_lat_long_dict).dropna():\n",
    "#    latitudes += [ant_id[0]] \n",
    "#    longitudes += [ant_id[1]]\n",
    "#latitudes\n",
    "\n",
    "#convex_hull_radi(test_table.loc[12],antenna_lat_long_dict,filter_col)"
   ]
  },
  {
   "cell_type": "code",
   "execution_count": 312,
   "metadata": {
    "collapsed": true
   },
   "outputs": [],
   "source": [
    "## algoritmo con convexhulll\n",
    "\n",
    "filter_col = [col for col in list(table) if col.startswith('ANTENNA')]\n",
    "\n",
    "def convex_hull_radi(row,antenna_lat_long_dict,filter_col):\n",
    "    #rows are pandas series\n",
    "    #print(row.name)\n",
    "    row =  row[filter_col]\n",
    "    latitudes=[]\n",
    "    longitudes =[]\n",
    "    \n",
    "    #cuidado con los NaNs resultantes del map\n",
    "    for ant_id in (row.map(antenna_lat_long_dict).dropna()):\n",
    "        latitudes += [ant_id[0]] \n",
    "        longitudes += [ant_id[1]]\n",
    "    #case: only 1 antennas\n",
    "    if len(latitudes)<=1:\n",
    "        return 0\n",
    "    \n",
    "  \n",
    "    \n",
    "    #case only 2 antennas, arc distance\n",
    "    elif len(latitudes)==2:\n",
    "        return distance_on_unit_sphere(latitudes[0],longitudes[0],latitudes[1],longitudes[1])\n",
    "    \n",
    "    \n",
    "    elif  len(latitudes)>2:\n",
    "        points = np.array([np.asarray(latitudes).transpose() ,np.asarray(longitudes).transpose()])\n",
    "        points = points.transpose()\n",
    "        \n",
    "        #chequeamos los casos super patologicos que todas las antenas esten sobre la misma linea\n",
    "        if latitudes.count(latitudes[0]) == len(latitudes):\n",
    "            radii=0\n",
    "\n",
    "            for i in range(len(longitudes)-1):\n",
    "                new_dist= distance_on_unit_sphere(latitudes[0], longitudes[i], latitudes[0], longitudes[i+1])\n",
    "                if radii< new_dist:\n",
    "                    radii = new_dist \n",
    "        \n",
    "        #chequear sobre la otra linea\n",
    "        elif longitudes.count(longitudes[0]) == len(longitudes):    \n",
    "            radii=0\n",
    "            for i in range(len(latitudes)-1):\n",
    "                new_dist= distance_on_unit_sphere(latitudes[i], longitudes[0], latitudes[i+1], longitudes[0])\n",
    "                if radii< new_dist:\n",
    "                    radii = new_dist \n",
    "        else:\n",
    "            try:\n",
    "                chull = spatial.ConvexHull(points)\n",
    "                #points = spatial.ConvexHull(points).points\n",
    "                points = chull.points\n",
    "            except:\n",
    "                print(row.name)\n",
    "            vert = [list(point) for point in chull.points] #chull vertices\n",
    "\n",
    "            radii=0\n",
    "            for i in range(len(vert)):\n",
    "                for j in range(i):\n",
    "                    new_dist= distance_on_unit_sphere(vert[i][0], vert[i][1], vert[j][0], vert[j][1])\n",
    "                    if radii< new_dist:\n",
    "                        radii = new_dist \n",
    "\n",
    "        return radii\n",
    "        #return (\"%s,len(lats) is %d\" %(radii,len(latitudes)))\n",
    "\n",
    "#convex_hull_radi(test_table.loc[12],antenna_lat_long_dict,filter_col)"
   ]
  },
  {
   "cell_type": "code",
   "execution_count": null,
   "metadata": {
    "collapsed": false,
    "scrolled": true
   },
   "outputs": [],
   "source": [
    "start_time = time.time()\n",
    "#mini_sample =  table.sample(10**3)\n",
    "table['MOBILITY_DIAMETER']= table.apply(lambda row: convex_hull_radi(row,antenna_lat_long_dict,filter_col),axis=1)\n",
    "\n",
    "print(\"elapsed time is %s seconds for %d amount of rows\" % (time.time()-start_time,len(mini_sample)))"
   ]
  },
  {
   "cell_type": "code",
   "execution_count": 309,
   "metadata": {
    "collapsed": false
   },
   "outputs": [
    {
     "data": {
      "text/plain": [
       "(-99.191000000000003, -99.191000000000003, -99.191000000000003)"
      ]
     },
     "execution_count": 309,
     "metadata": {},
     "output_type": "execute_result"
    }
   ],
   "source": [
    "antennas.loc[1695].LONGITUDE, antennas.loc[1311].LONGITUDE,antennas.loc[1179].LONGITUDE"
   ]
  },
  {
   "cell_type": "code",
   "execution_count": 316,
   "metadata": {
    "collapsed": false
   },
   "outputs": [
    {
     "name": "stdout",
     "output_type": "stream",
     "text": [
      "Variable                     Type          Data/Info\n",
      "----------------------------------------------------\n",
      "ConvexHull                   type          <class 'scipy.spatial.qhull.ConvexHull'>\n",
      "a                            list          n=3\n",
      "antenna_id_list              list          n=4429\n",
      "antenna_lat_long_dict        dict          n=4429\n",
      "antennas                     DataFrame                 LATITUDE  LON<...>\\n[4429 rows x 4 columns]\n",
      "arr                          ndarray       3x2: 6 elems, type `float64`, 48 bytes\n",
      "col                          str           EPIDEMIC\n",
      "convex_hull_radi             function      <function convex_hull_radi at 0x7fdc76919320>\n",
      "day_end                      str           02\n",
      "day_start                    str           01\n",
      "distance_on_unit_sphere      function      <function distance_on_uni<...>sphere at 0x7fdc9fd25848>\n",
      "earth_radi                   int           6371\n",
      "filter_col                   list          n=10\n",
      "get_output_file              function      <function get_output_file at 0x7fdcd8c18f50>\n",
      "hash_map                     bool          False\n",
      "hull                         ConvexHull    <scipy.spatial.qhull.Conv<...>object at 0x7fdc61f58e50>\n",
      "ind                          str           EPIDEMIC\n",
      "input_file                   str           /home/juan/mobility-study/output1.txt.gz\n",
      "math                         module        <module 'math' from '/hom<...>2.7/lib-dynload/math.so'>\n",
      "mini_sample                  DataFrame                              <...>n[1000 rows x 23 columns]\n",
      "mob_test                     Series        USER\\n5D51048D591291F351E<...>_DIAMETER, dtype: float64\n",
      "month_end                    str           03\n",
      "month_start                  str           01\n",
      "night_filter                 bool          False\n",
      "np                           module        <module 'numpy' from '/ho<...>ages/numpy/__init__.pyc'>\n",
      "os                           module        <module 'os' from '/home/<...>a2/lib/python2.7/os.pyc'>\n",
      "output_file                  str           /home/juan/mobility-study/output2.txt\n",
      "pd                           module        <module 'pandas' from '/h<...>ges/pandas/__init__.pyc'>\n",
      "plt                          module        <module 'matplotlib.pyplo<...>s/matplotlib/pyplot.pyc'>\n",
      "points                       ndarray       3x2: 6 elems, type `float64`, 48 bytes\n",
      "r                            int           4\n",
      "random                       module        <module 'random' from '/h<...>ib/python2.7/random.pyc'>\n",
      "results                      DataFrame                              <...>n\\n[22 rows x 23 columns]\n",
      "rootdir                      str           /home/juan/mobility-study/\n",
      "row                          Series        ANTENNA_ID_0     254\\nANT<...>227F13BEFF, dtype: object\n",
      "row2                         DataFrame                              <...>\\n\\n[2 rows x 22 columns]\n",
      "sample_file                  str           /grandata/simple_format/s<...>rmat_201501_sample.txt.gz\n",
      "spatial                      module        <module 'scipy.spatial' f<...>py/spatial/__init__.pyc'>\n",
      "start_time                   float         1457819657.74\n",
      "table                        DataFrame                              <...>667451 rows x 23 columns]\n",
      "test_antennaid_consistency   function      <function test_antennaid_<...>stency at 0x7fdc9fd9e5f0>\n",
      "time                         module        <module 'time' from '/hom<...>2.7/lib-dynload/time.so'>\n",
      "user                         str           876104BEC6734C7BB6AEBC227F13BEFF\n",
      "user_hash_range_map          DataFrame                              <...>5257613 rows x 1 columns]\n",
      "user_hash_range_map_file     str           /home/juan/mobility-study<...>tput_user_hash_map.txt.gz\n",
      "week_end                     bool          False\n",
      "x                            list          n=3\n",
      "year                         str           2015\n"
     ]
    }
   ],
   "source": [
    "whos"
   ]
  },
  {
   "cell_type": "code",
   "execution_count": 317,
   "metadata": {
    "collapsed": false
   },
   "outputs": [
    {
     "data": {
      "text/plain": [
       "Index([u'EXPOSED', u'ANTENNA_ID_0', u'COUNT_0', u'ANTENNA_ID_1', u'COUNT_1',\n",
       "       u'ANTENNA_ID_2', u'COUNT_2', u'ANTENNA_ID_3', u'COUNT_3',\n",
       "       u'ANTENNA_ID_4', u'COUNT_4', u'ANTENNA_ID_5', u'COUNT_5',\n",
       "       u'ANTENNA_ID_6', u'COUNT_6', u'ANTENNA_ID_7', u'COUNT_7',\n",
       "       u'ANTENNA_ID_8', u'COUNT_8', u'ANTENNA_ID_9', u'COUNT_9', u'EPIDEMIC',\n",
       "       u'MOBILITY_DIAMETER'],\n",
       "      dtype='object')"
      ]
     },
     "execution_count": 317,
     "metadata": {},
     "output_type": "execute_result"
    }
   ],
   "source": [
    "table.columns"
   ]
  },
  {
   "cell_type": "markdown",
   "metadata": {},
   "source": [
    "## un par de corridas usando el diametro del convex/hull dan \n",
    "elapsed time is 253.765459061 for 40000 amount of rows\n",
    "\n",
    "elapsed time is 249.712596893 seconds for 40000 amount of rows\n",
    "\n",
    "elapsed time is 227.963900089 seconds for 40000 amount of rows\n",
    "\n",
    "elapsed time is 57.2980730534 seconds for 10000 amount of rows\n",
    "\n",
    "elapsed time is 0.896952867508 seconds for 10 amount of rows\n",
    "\n"
   ]
  },
  {
   "cell_type": "markdown",
   "metadata": {},
   "source": [
    "### Testeamos la validez de resultados\n",
    "Nos fijamos en todos los users que tengan al menos dos antenas, en los users que solo tienen 1 antenna, etc."
   ]
  },
  {
   "cell_type": "code",
   "execution_count": 249,
   "metadata": {
    "collapsed": false
   },
   "outputs": [
    {
     "data": {
      "text/plain": [
       "(312, 23)"
      ]
     },
     "execution_count": 249,
     "metadata": {},
     "output_type": "execute_result"
    }
   ],
   "source": [
    "mini_sample[(mini_sample['MOBILITY_DIAMETER']<10**3) & (mini_sample['ANTENNA_ID_0']>-1)].shape\n"
   ]
  },
  {
   "cell_type": "code",
   "execution_count": 264,
   "metadata": {
    "collapsed": true
   },
   "outputs": [
    {
     "name": "stdout",
     "output_type": "stream",
     "text": [
      "(5, 23)\n",
      "ANTENNA_ID_0    1149\n",
      "ANTENNA_ID_1    1573\n",
      "ANTENNA_ID_2    2812\n",
      "ANTENNA_ID_3    2948\n",
      "ANTENNA_ID_4      82\n",
      "ANTENNA_ID_5     189\n",
      "ANTENNA_ID_6     233\n",
      "ANTENNA_ID_7     713\n",
      "ANTENNA_ID_8    1477\n",
      "ANTENNA_ID_9    1493\n",
      "Name: 5D51048D591291F351EF09EADBD12F53, dtype: object\n",
      "ANTENNA_ID_0      29\n",
      "ANTENNA_ID_1    1700\n",
      "ANTENNA_ID_2      73\n",
      "ANTENNA_ID_3    2347\n",
      "ANTENNA_ID_4      72\n",
      "ANTENNA_ID_5    1235\n",
      "ANTENNA_ID_6    1450\n",
      "ANTENNA_ID_7    1561\n",
      "ANTENNA_ID_8     674\n",
      "ANTENNA_ID_9    1290\n",
      "Name: 7BC884A1A97BEA2573B0BE18F7DB085C, dtype: object\n",
      "ANTENNA_ID_0    1637\n",
      "ANTENNA_ID_1    1352\n",
      "ANTENNA_ID_2    1176\n",
      "ANTENNA_ID_3    2026\n",
      "ANTENNA_ID_4     268\n",
      "ANTENNA_ID_5     942\n",
      "ANTENNA_ID_6    1167\n",
      "ANTENNA_ID_7    1255\n",
      "ANTENNA_ID_8    1324\n",
      "ANTENNA_ID_9    2968\n",
      "Name: DD1ED3EB5C1AD91A7D590C5E1841F684, dtype: object\n",
      "ANTENNA_ID_0    2043\n",
      "ANTENNA_ID_1    1080\n",
      "ANTENNA_ID_2    2323\n",
      "ANTENNA_ID_3    2561\n",
      "ANTENNA_ID_4    2269\n",
      "ANTENNA_ID_5    2268\n",
      "ANTENNA_ID_6    1097\n",
      "ANTENNA_ID_7    1979\n",
      "ANTENNA_ID_8    3152\n",
      "ANTENNA_ID_9     571\n",
      "Name: DE28C1739C7885D653455F2EED4D58EE, dtype: object\n",
      "ANTENNA_ID_0     254\n",
      "ANTENNA_ID_1     267\n",
      "ANTENNA_ID_2    1613\n",
      "ANTENNA_ID_3     744\n",
      "ANTENNA_ID_4    1545\n",
      "ANTENNA_ID_5     205\n",
      "ANTENNA_ID_6     791\n",
      "ANTENNA_ID_7     956\n",
      "ANTENNA_ID_8    1103\n",
      "ANTENNA_ID_9    1327\n",
      "Name: 876104BEC6734C7BB6AEBC227F13BEFF, dtype: object\n"
     ]
    }
   ],
   "source": [
    "#mob_test = mini_sample['mobility_diameter']\n",
    "results = mini_sample[(mini_sample['MOBILITY_DIAMETER']<10**3) & (mini_sample['ANTENNA_ID_8']>-1)].head()\n",
    "print(results.shape)\n",
    "for user in results.index:\n",
    "    row = table.loc[user]\n",
    "    row = row[row>-1]\n",
    "    row = row[[ind for ind in row.index if \"ANTENNA\" in ind]]\n",
    "    print(row)"
   ]
  },
  {
   "cell_type": "code",
   "execution_count": 265,
   "metadata": {
    "collapsed": false
   },
   "outputs": [
    {
     "data": {
      "text/plain": [
       "True"
      ]
     },
     "execution_count": 265,
     "metadata": {},
     "output_type": "execute_result"
    }
   ],
   "source": [
    "#testeamos que todos los users con 1 antenna tengan result ==0 \n",
    "mob_test = mini_sample['MOBILITY_DIAMETER']\n",
    "results = mini_sample[(mini_sample['MOBILITY_DIAMETER']<10) & (mini_sample['ANTENNA_ID_1']==-1)]\n",
    "#mob_test[(mob_test.values<10) & (mini_sample['ANTENNA_ID_1']==-1)]\n",
    "(results['MOBILITY_DIAMETER'].values==0).all()\n"
   ]
  },
  {
   "cell_type": "markdown",
   "metadata": {},
   "source": [
    "### End mobility diameter result tests, Save table"
   ]
  },
  {
   "cell_type": "code",
   "execution_count": 269,
   "metadata": {
    "collapsed": true
   },
   "outputs": [
    {
     "data": {
      "text/html": [
       "<div>\n",
       "<table border=\"1\" class=\"dataframe\">\n",
       "  <thead>\n",
       "    <tr style=\"text-align: right;\">\n",
       "      <th></th>\n",
       "      <th>ANTENNA_ID_0</th>\n",
       "      <th>ANTENNA_ID_1</th>\n",
       "      <th>ANTENNA_ID_2</th>\n",
       "      <th>ANTENNA_ID_3</th>\n",
       "      <th>ANTENNA_ID_4</th>\n",
       "      <th>ANTENNA_ID_5</th>\n",
       "      <th>ANTENNA_ID_6</th>\n",
       "      <th>ANTENNA_ID_7</th>\n",
       "      <th>ANTENNA_ID_8</th>\n",
       "      <th>ANTENNA_ID_9</th>\n",
       "      <th>MOBILITY_DIAMETER</th>\n",
       "    </tr>\n",
       "    <tr>\n",
       "      <th>USER</th>\n",
       "      <th></th>\n",
       "      <th></th>\n",
       "      <th></th>\n",
       "      <th></th>\n",
       "      <th></th>\n",
       "      <th></th>\n",
       "      <th></th>\n",
       "      <th></th>\n",
       "      <th></th>\n",
       "      <th></th>\n",
       "      <th></th>\n",
       "    </tr>\n",
       "  </thead>\n",
       "  <tbody>\n",
       "    <tr>\n",
       "      <th>9AF7A02045CB182FE90A88C9D03130AB</th>\n",
       "      <td>2178</td>\n",
       "      <td>392</td>\n",
       "      <td>2010</td>\n",
       "      <td>709</td>\n",
       "      <td>1407</td>\n",
       "      <td>1412</td>\n",
       "      <td>2084</td>\n",
       "      <td>520</td>\n",
       "      <td>2041</td>\n",
       "      <td>1083</td>\n",
       "      <td>1368.713640</td>\n",
       "    </tr>\n",
       "    <tr>\n",
       "      <th>45AEB0A267D2BFFD3983EF2C95CA206B</th>\n",
       "      <td>2964</td>\n",
       "      <td>2943</td>\n",
       "      <td>2301</td>\n",
       "      <td>3673</td>\n",
       "      <td>1012</td>\n",
       "      <td>3790</td>\n",
       "      <td>634</td>\n",
       "      <td>3681</td>\n",
       "      <td>1463</td>\n",
       "      <td>2404</td>\n",
       "      <td>2325.646079</td>\n",
       "    </tr>\n",
       "    <tr>\n",
       "      <th>3243E73992D14766D85D1F282F4C7690</th>\n",
       "      <td>291</td>\n",
       "      <td>2596</td>\n",
       "      <td>561</td>\n",
       "      <td>655</td>\n",
       "      <td>887</td>\n",
       "      <td>3143</td>\n",
       "      <td>3577</td>\n",
       "      <td>-1</td>\n",
       "      <td>-1</td>\n",
       "      <td>-1</td>\n",
       "      <td>1594.044422</td>\n",
       "    </tr>\n",
       "    <tr>\n",
       "      <th>32F7FFA33F10A88CEDEFE8D9BD4060F0</th>\n",
       "      <td>20</td>\n",
       "      <td>22</td>\n",
       "      <td>31</td>\n",
       "      <td>-1</td>\n",
       "      <td>-1</td>\n",
       "      <td>-1</td>\n",
       "      <td>-1</td>\n",
       "      <td>-1</td>\n",
       "      <td>-1</td>\n",
       "      <td>-1</td>\n",
       "      <td>707.770266</td>\n",
       "    </tr>\n",
       "    <tr>\n",
       "      <th>2A50CA984894ADD3989C8920D4B479AE</th>\n",
       "      <td>400</td>\n",
       "      <td>161</td>\n",
       "      <td>2322</td>\n",
       "      <td>1216</td>\n",
       "      <td>1326</td>\n",
       "      <td>1292</td>\n",
       "      <td>1565</td>\n",
       "      <td>637</td>\n",
       "      <td>1088</td>\n",
       "      <td>1205</td>\n",
       "      <td>1716.188192</td>\n",
       "    </tr>\n",
       "    <tr>\n",
       "      <th>A81BC0F14993A91B60E780236F7EBB0E</th>\n",
       "      <td>2175</td>\n",
       "      <td>780</td>\n",
       "      <td>911</td>\n",
       "      <td>1820</td>\n",
       "      <td>1766</td>\n",
       "      <td>1991</td>\n",
       "      <td>3199</td>\n",
       "      <td>1043</td>\n",
       "      <td>1649</td>\n",
       "      <td>1938</td>\n",
       "      <td>1534.150943</td>\n",
       "    </tr>\n",
       "    <tr>\n",
       "      <th>B8C676F2420B18EB3794FD4E8CAFC2BA</th>\n",
       "      <td>1247</td>\n",
       "      <td>1244</td>\n",
       "      <td>564</td>\n",
       "      <td>1697</td>\n",
       "      <td>307</td>\n",
       "      <td>2788</td>\n",
       "      <td>197</td>\n",
       "      <td>502</td>\n",
       "      <td>609</td>\n",
       "      <td>1171</td>\n",
       "      <td>1549.084125</td>\n",
       "    </tr>\n",
       "    <tr>\n",
       "      <th>168F7B598F3AD64679C123DFAC59D9B2</th>\n",
       "      <td>2746</td>\n",
       "      <td>218</td>\n",
       "      <td>-1</td>\n",
       "      <td>-1</td>\n",
       "      <td>-1</td>\n",
       "      <td>-1</td>\n",
       "      <td>-1</td>\n",
       "      <td>-1</td>\n",
       "      <td>-1</td>\n",
       "      <td>-1</td>\n",
       "      <td>524.782360</td>\n",
       "    </tr>\n",
       "    <tr>\n",
       "      <th>96397BB4600DE9D8440E0F1A77E30740</th>\n",
       "      <td>1637</td>\n",
       "      <td>1758</td>\n",
       "      <td>1438</td>\n",
       "      <td>1990</td>\n",
       "      <td>1324</td>\n",
       "      <td>1385</td>\n",
       "      <td>1750</td>\n",
       "      <td>1429</td>\n",
       "      <td>1601</td>\n",
       "      <td>1621</td>\n",
       "      <td>1447.386187</td>\n",
       "    </tr>\n",
       "    <tr>\n",
       "      <th>575E4BBEA9126F43CFE7207CCA1A5749</th>\n",
       "      <td>85</td>\n",
       "      <td>3151</td>\n",
       "      <td>748</td>\n",
       "      <td>852</td>\n",
       "      <td>72</td>\n",
       "      <td>501</td>\n",
       "      <td>1422</td>\n",
       "      <td>-1</td>\n",
       "      <td>-1</td>\n",
       "      <td>-1</td>\n",
       "      <td>1438.496606</td>\n",
       "    </tr>\n",
       "  </tbody>\n",
       "</table>\n",
       "</div>"
      ],
      "text/plain": [
       "                                  ANTENNA_ID_0  ANTENNA_ID_1  ANTENNA_ID_2  \\\n",
       "USER                                                                         \n",
       "9AF7A02045CB182FE90A88C9D03130AB          2178           392          2010   \n",
       "45AEB0A267D2BFFD3983EF2C95CA206B          2964          2943          2301   \n",
       "3243E73992D14766D85D1F282F4C7690           291          2596           561   \n",
       "32F7FFA33F10A88CEDEFE8D9BD4060F0            20            22            31   \n",
       "2A50CA984894ADD3989C8920D4B479AE           400           161          2322   \n",
       "A81BC0F14993A91B60E780236F7EBB0E          2175           780           911   \n",
       "B8C676F2420B18EB3794FD4E8CAFC2BA          1247          1244           564   \n",
       "168F7B598F3AD64679C123DFAC59D9B2          2746           218            -1   \n",
       "96397BB4600DE9D8440E0F1A77E30740          1637          1758          1438   \n",
       "575E4BBEA9126F43CFE7207CCA1A5749            85          3151           748   \n",
       "\n",
       "                                  ANTENNA_ID_3  ANTENNA_ID_4  ANTENNA_ID_5  \\\n",
       "USER                                                                         \n",
       "9AF7A02045CB182FE90A88C9D03130AB           709          1407          1412   \n",
       "45AEB0A267D2BFFD3983EF2C95CA206B          3673          1012          3790   \n",
       "3243E73992D14766D85D1F282F4C7690           655           887          3143   \n",
       "32F7FFA33F10A88CEDEFE8D9BD4060F0            -1            -1            -1   \n",
       "2A50CA984894ADD3989C8920D4B479AE          1216          1326          1292   \n",
       "A81BC0F14993A91B60E780236F7EBB0E          1820          1766          1991   \n",
       "B8C676F2420B18EB3794FD4E8CAFC2BA          1697           307          2788   \n",
       "168F7B598F3AD64679C123DFAC59D9B2            -1            -1            -1   \n",
       "96397BB4600DE9D8440E0F1A77E30740          1990          1324          1385   \n",
       "575E4BBEA9126F43CFE7207CCA1A5749           852            72           501   \n",
       "\n",
       "                                  ANTENNA_ID_6  ANTENNA_ID_7  ANTENNA_ID_8  \\\n",
       "USER                                                                         \n",
       "9AF7A02045CB182FE90A88C9D03130AB          2084           520          2041   \n",
       "45AEB0A267D2BFFD3983EF2C95CA206B           634          3681          1463   \n",
       "3243E73992D14766D85D1F282F4C7690          3577            -1            -1   \n",
       "32F7FFA33F10A88CEDEFE8D9BD4060F0            -1            -1            -1   \n",
       "2A50CA984894ADD3989C8920D4B479AE          1565           637          1088   \n",
       "A81BC0F14993A91B60E780236F7EBB0E          3199          1043          1649   \n",
       "B8C676F2420B18EB3794FD4E8CAFC2BA           197           502           609   \n",
       "168F7B598F3AD64679C123DFAC59D9B2            -1            -1            -1   \n",
       "96397BB4600DE9D8440E0F1A77E30740          1750          1429          1601   \n",
       "575E4BBEA9126F43CFE7207CCA1A5749          1422            -1            -1   \n",
       "\n",
       "                                  ANTENNA_ID_9  MOBILITY_DIAMETER  \n",
       "USER                                                               \n",
       "9AF7A02045CB182FE90A88C9D03130AB          1083        1368.713640  \n",
       "45AEB0A267D2BFFD3983EF2C95CA206B          2404        2325.646079  \n",
       "3243E73992D14766D85D1F282F4C7690            -1        1594.044422  \n",
       "32F7FFA33F10A88CEDEFE8D9BD4060F0            -1         707.770266  \n",
       "2A50CA984894ADD3989C8920D4B479AE          1205        1716.188192  \n",
       "A81BC0F14993A91B60E780236F7EBB0E          1938        1534.150943  \n",
       "B8C676F2420B18EB3794FD4E8CAFC2BA          1171        1549.084125  \n",
       "168F7B598F3AD64679C123DFAC59D9B2            -1         524.782360  \n",
       "96397BB4600DE9D8440E0F1A77E30740          1621        1447.386187  \n",
       "575E4BBEA9126F43CFE7207CCA1A5749            -1        1438.496606  "
      ]
     },
     "execution_count": 269,
     "metadata": {},
     "output_type": "execute_result"
    }
   ],
   "source": [
    "mini_sample[[col for col in mini_sample.columns if (\"ANTENNA\" in col or \"MOBILITY\" in col)]].sample(10)"
   ]
  },
  {
   "cell_type": "code",
   "execution_count": 318,
   "metadata": {
    "collapsed": true
   },
   "outputs": [],
   "source": [
    "table.to_csv(output_file, index = True,\n",
    "                   header = True)"
   ]
  },
  {
   "cell_type": "code",
   "execution_count": 319,
   "metadata": {
    "collapsed": true
   },
   "outputs": [],
   "source": [
    "!gzip $output_file"
   ]
  },
  {
   "cell_type": "code",
   "execution_count": 322,
   "metadata": {
    "collapsed": false
   },
   "outputs": [
    {
     "name": "stdout",
     "output_type": "stream",
     "text": [
      "199M\t/home/juan/mobility-study/output2.txt.gz\r\n"
     ]
    }
   ],
   "source": [
    "!du -ha $output_file*"
   ]
  },
  {
   "cell_type": "code",
   "execution_count": 323,
   "metadata": {
    "collapsed": false
   },
   "outputs": [
    {
     "data": {
      "text/html": [
       "<div>\n",
       "<table border=\"1\" class=\"dataframe\">\n",
       "  <thead>\n",
       "    <tr style=\"text-align: right;\">\n",
       "      <th></th>\n",
       "      <th>EXPOSED</th>\n",
       "      <th>ANTENNA_ID_0</th>\n",
       "      <th>COUNT_0</th>\n",
       "      <th>ANTENNA_ID_1</th>\n",
       "      <th>COUNT_1</th>\n",
       "      <th>ANTENNA_ID_2</th>\n",
       "      <th>COUNT_2</th>\n",
       "      <th>ANTENNA_ID_3</th>\n",
       "      <th>COUNT_3</th>\n",
       "      <th>ANTENNA_ID_4</th>\n",
       "      <th>...</th>\n",
       "      <th>ANTENNA_ID_6</th>\n",
       "      <th>COUNT_6</th>\n",
       "      <th>ANTENNA_ID_7</th>\n",
       "      <th>COUNT_7</th>\n",
       "      <th>ANTENNA_ID_8</th>\n",
       "      <th>COUNT_8</th>\n",
       "      <th>ANTENNA_ID_9</th>\n",
       "      <th>COUNT_9</th>\n",
       "      <th>EPIDEMIC</th>\n",
       "      <th>MOBILITY_DIAMETER</th>\n",
       "    </tr>\n",
       "    <tr>\n",
       "      <th>USER</th>\n",
       "      <th></th>\n",
       "      <th></th>\n",
       "      <th></th>\n",
       "      <th></th>\n",
       "      <th></th>\n",
       "      <th></th>\n",
       "      <th></th>\n",
       "      <th></th>\n",
       "      <th></th>\n",
       "      <th></th>\n",
       "      <th></th>\n",
       "      <th></th>\n",
       "      <th></th>\n",
       "      <th></th>\n",
       "      <th></th>\n",
       "      <th></th>\n",
       "      <th></th>\n",
       "      <th></th>\n",
       "      <th></th>\n",
       "      <th></th>\n",
       "      <th></th>\n",
       "    </tr>\n",
       "  </thead>\n",
       "  <tbody>\n",
       "    <tr>\n",
       "      <th>18113EA238478375460839F4F5F3B017</th>\n",
       "      <td>True</td>\n",
       "      <td>1083</td>\n",
       "      <td>10</td>\n",
       "      <td>798</td>\n",
       "      <td>5</td>\n",
       "      <td>1608</td>\n",
       "      <td>5</td>\n",
       "      <td>248</td>\n",
       "      <td>4</td>\n",
       "      <td>849</td>\n",
       "      <td>...</td>\n",
       "      <td>2679</td>\n",
       "      <td>3</td>\n",
       "      <td>369</td>\n",
       "      <td>2</td>\n",
       "      <td>1016</td>\n",
       "      <td>1</td>\n",
       "      <td>1245</td>\n",
       "      <td>1</td>\n",
       "      <td>True</td>\n",
       "      <td>1596.220319</td>\n",
       "    </tr>\n",
       "    <tr>\n",
       "      <th>4C21FDD80CD47E153298C70D3527F079</th>\n",
       "      <td>True</td>\n",
       "      <td>3183</td>\n",
       "      <td>37</td>\n",
       "      <td>2875</td>\n",
       "      <td>31</td>\n",
       "      <td>2298</td>\n",
       "      <td>26</td>\n",
       "      <td>1449</td>\n",
       "      <td>16</td>\n",
       "      <td>2299</td>\n",
       "      <td>...</td>\n",
       "      <td>2296</td>\n",
       "      <td>4</td>\n",
       "      <td>2745</td>\n",
       "      <td>4</td>\n",
       "      <td>1154</td>\n",
       "      <td>3</td>\n",
       "      <td>1258</td>\n",
       "      <td>2</td>\n",
       "      <td>False</td>\n",
       "      <td>2847.255740</td>\n",
       "    </tr>\n",
       "    <tr>\n",
       "      <th>5B69FC601B10AD78AF0E250899DA4428</th>\n",
       "      <td>True</td>\n",
       "      <td>989</td>\n",
       "      <td>8</td>\n",
       "      <td>1379</td>\n",
       "      <td>8</td>\n",
       "      <td>327</td>\n",
       "      <td>7</td>\n",
       "      <td>990</td>\n",
       "      <td>6</td>\n",
       "      <td>1431</td>\n",
       "      <td>...</td>\n",
       "      <td>1610</td>\n",
       "      <td>3</td>\n",
       "      <td>988</td>\n",
       "      <td>1</td>\n",
       "      <td>1074</td>\n",
       "      <td>1</td>\n",
       "      <td>1098</td>\n",
       "      <td>1</td>\n",
       "      <td>True</td>\n",
       "      <td>737.250275</td>\n",
       "    </tr>\n",
       "    <tr>\n",
       "      <th>3104F21B0C633119F9EB28433F5DF0AC</th>\n",
       "      <td>True</td>\n",
       "      <td>2277</td>\n",
       "      <td>13</td>\n",
       "      <td>1990</td>\n",
       "      <td>5</td>\n",
       "      <td>1758</td>\n",
       "      <td>2</td>\n",
       "      <td>-1</td>\n",
       "      <td>65535</td>\n",
       "      <td>-1</td>\n",
       "      <td>...</td>\n",
       "      <td>-1</td>\n",
       "      <td>65535</td>\n",
       "      <td>-1</td>\n",
       "      <td>65535</td>\n",
       "      <td>-1</td>\n",
       "      <td>65535</td>\n",
       "      <td>-1</td>\n",
       "      <td>65535</td>\n",
       "      <td>True</td>\n",
       "      <td>739.327422</td>\n",
       "    </tr>\n",
       "    <tr>\n",
       "      <th>794E3583897B762E37DB26CB29BF2C95</th>\n",
       "      <td>True</td>\n",
       "      <td>1461</td>\n",
       "      <td>27</td>\n",
       "      <td>3825</td>\n",
       "      <td>19</td>\n",
       "      <td>2895</td>\n",
       "      <td>18</td>\n",
       "      <td>1012</td>\n",
       "      <td>17</td>\n",
       "      <td>2584</td>\n",
       "      <td>...</td>\n",
       "      <td>2055</td>\n",
       "      <td>6</td>\n",
       "      <td>2275</td>\n",
       "      <td>6</td>\n",
       "      <td>3787</td>\n",
       "      <td>4</td>\n",
       "      <td>2043</td>\n",
       "      <td>3</td>\n",
       "      <td>True</td>\n",
       "      <td>2655.544887</td>\n",
       "    </tr>\n",
       "    <tr>\n",
       "      <th>D3B4C0718A0A4B8B3A0495B9256C1262</th>\n",
       "      <td>True</td>\n",
       "      <td>540</td>\n",
       "      <td>4</td>\n",
       "      <td>1315</td>\n",
       "      <td>4</td>\n",
       "      <td>2013</td>\n",
       "      <td>3</td>\n",
       "      <td>2014</td>\n",
       "      <td>3</td>\n",
       "      <td>763</td>\n",
       "      <td>...</td>\n",
       "      <td>2520</td>\n",
       "      <td>2</td>\n",
       "      <td>-1</td>\n",
       "      <td>65535</td>\n",
       "      <td>-1</td>\n",
       "      <td>65535</td>\n",
       "      <td>-1</td>\n",
       "      <td>65535</td>\n",
       "      <td>False</td>\n",
       "      <td>701.064183</td>\n",
       "    </tr>\n",
       "    <tr>\n",
       "      <th>D0085B84A7EB85956E996C0EF2201453</th>\n",
       "      <td>True</td>\n",
       "      <td>594</td>\n",
       "      <td>43</td>\n",
       "      <td>2276</td>\n",
       "      <td>27</td>\n",
       "      <td>515</td>\n",
       "      <td>20</td>\n",
       "      <td>1386</td>\n",
       "      <td>17</td>\n",
       "      <td>2316</td>\n",
       "      <td>...</td>\n",
       "      <td>2174</td>\n",
       "      <td>13</td>\n",
       "      <td>771</td>\n",
       "      <td>12</td>\n",
       "      <td>1319</td>\n",
       "      <td>10</td>\n",
       "      <td>1721</td>\n",
       "      <td>10</td>\n",
       "      <td>True</td>\n",
       "      <td>742.937402</td>\n",
       "    </tr>\n",
       "    <tr>\n",
       "      <th>B10EEF8023AA67CD510AF3F9BD0D1405</th>\n",
       "      <td>True</td>\n",
       "      <td>399</td>\n",
       "      <td>33</td>\n",
       "      <td>1508</td>\n",
       "      <td>20</td>\n",
       "      <td>1415</td>\n",
       "      <td>11</td>\n",
       "      <td>526</td>\n",
       "      <td>10</td>\n",
       "      <td>1483</td>\n",
       "      <td>...</td>\n",
       "      <td>873</td>\n",
       "      <td>6</td>\n",
       "      <td>1573</td>\n",
       "      <td>5</td>\n",
       "      <td>111</td>\n",
       "      <td>4</td>\n",
       "      <td>1356</td>\n",
       "      <td>4</td>\n",
       "      <td>False</td>\n",
       "      <td>559.340031</td>\n",
       "    </tr>\n",
       "    <tr>\n",
       "      <th>3ECB89A445B6C708219724E905EF17D6</th>\n",
       "      <td>True</td>\n",
       "      <td>197</td>\n",
       "      <td>9</td>\n",
       "      <td>2362</td>\n",
       "      <td>8</td>\n",
       "      <td>2084</td>\n",
       "      <td>4</td>\n",
       "      <td>2278</td>\n",
       "      <td>4</td>\n",
       "      <td>2197</td>\n",
       "      <td>...</td>\n",
       "      <td>391</td>\n",
       "      <td>1</td>\n",
       "      <td>484</td>\n",
       "      <td>1</td>\n",
       "      <td>572</td>\n",
       "      <td>1</td>\n",
       "      <td>709</td>\n",
       "      <td>1</td>\n",
       "      <td>False</td>\n",
       "      <td>1368.713640</td>\n",
       "    </tr>\n",
       "    <tr>\n",
       "      <th>1EEBCA4BD819E8A29E5ECBBE28AB8FB4</th>\n",
       "      <td>True</td>\n",
       "      <td>2014</td>\n",
       "      <td>3</td>\n",
       "      <td>894</td>\n",
       "      <td>1</td>\n",
       "      <td>2018</td>\n",
       "      <td>1</td>\n",
       "      <td>-1</td>\n",
       "      <td>65535</td>\n",
       "      <td>-1</td>\n",
       "      <td>...</td>\n",
       "      <td>-1</td>\n",
       "      <td>65535</td>\n",
       "      <td>-1</td>\n",
       "      <td>65535</td>\n",
       "      <td>-1</td>\n",
       "      <td>65535</td>\n",
       "      <td>-1</td>\n",
       "      <td>65535</td>\n",
       "      <td>True</td>\n",
       "      <td>703.007715</td>\n",
       "    </tr>\n",
       "    <tr>\n",
       "      <th>90D07F4337386F033351CB9448115C7D</th>\n",
       "      <td>True</td>\n",
       "      <td>2034</td>\n",
       "      <td>61</td>\n",
       "      <td>2927</td>\n",
       "      <td>60</td>\n",
       "      <td>2978</td>\n",
       "      <td>42</td>\n",
       "      <td>3504</td>\n",
       "      <td>38</td>\n",
       "      <td>2717</td>\n",
       "      <td>...</td>\n",
       "      <td>1282</td>\n",
       "      <td>2</td>\n",
       "      <td>1642</td>\n",
       "      <td>1</td>\n",
       "      <td>1729</td>\n",
       "      <td>1</td>\n",
       "      <td>2550</td>\n",
       "      <td>1</td>\n",
       "      <td>False</td>\n",
       "      <td>2281.388691</td>\n",
       "    </tr>\n",
       "    <tr>\n",
       "      <th>A39FF837B196D60571B6CDE4F90144E9</th>\n",
       "      <td>True</td>\n",
       "      <td>1200</td>\n",
       "      <td>48</td>\n",
       "      <td>2932</td>\n",
       "      <td>43</td>\n",
       "      <td>390</td>\n",
       "      <td>39</td>\n",
       "      <td>1571</td>\n",
       "      <td>11</td>\n",
       "      <td>255</td>\n",
       "      <td>...</td>\n",
       "      <td>1063</td>\n",
       "      <td>2</td>\n",
       "      <td>1998</td>\n",
       "      <td>1</td>\n",
       "      <td>2933</td>\n",
       "      <td>1</td>\n",
       "      <td>-1</td>\n",
       "      <td>65535</td>\n",
       "      <td>True</td>\n",
       "      <td>679.380053</td>\n",
       "    </tr>\n",
       "    <tr>\n",
       "      <th>643BF4CF7AB745F8C57286A3DAE05BA4</th>\n",
       "      <td>True</td>\n",
       "      <td>2385</td>\n",
       "      <td>21</td>\n",
       "      <td>3849</td>\n",
       "      <td>4</td>\n",
       "      <td>350</td>\n",
       "      <td>2</td>\n",
       "      <td>3245</td>\n",
       "      <td>2</td>\n",
       "      <td>1997</td>\n",
       "      <td>...</td>\n",
       "      <td>3911</td>\n",
       "      <td>1</td>\n",
       "      <td>-1</td>\n",
       "      <td>65535</td>\n",
       "      <td>-1</td>\n",
       "      <td>65535</td>\n",
       "      <td>-1</td>\n",
       "      <td>65535</td>\n",
       "      <td>False</td>\n",
       "      <td>2306.405188</td>\n",
       "    </tr>\n",
       "    <tr>\n",
       "      <th>6373B991BA573D0A55CE1CC5E92F2D85</th>\n",
       "      <td>False</td>\n",
       "      <td>1219</td>\n",
       "      <td>6</td>\n",
       "      <td>1169</td>\n",
       "      <td>4</td>\n",
       "      <td>-1</td>\n",
       "      <td>65535</td>\n",
       "      <td>-1</td>\n",
       "      <td>65535</td>\n",
       "      <td>-1</td>\n",
       "      <td>...</td>\n",
       "      <td>-1</td>\n",
       "      <td>65535</td>\n",
       "      <td>-1</td>\n",
       "      <td>65535</td>\n",
       "      <td>-1</td>\n",
       "      <td>65535</td>\n",
       "      <td>-1</td>\n",
       "      <td>65535</td>\n",
       "      <td>False</td>\n",
       "      <td>309.191035</td>\n",
       "    </tr>\n",
       "    <tr>\n",
       "      <th>CDB529176C404C97A791D3C760CA9CD8</th>\n",
       "      <td>True</td>\n",
       "      <td>2470</td>\n",
       "      <td>7</td>\n",
       "      <td>650</td>\n",
       "      <td>4</td>\n",
       "      <td>1915</td>\n",
       "      <td>4</td>\n",
       "      <td>2515</td>\n",
       "      <td>4</td>\n",
       "      <td>647</td>\n",
       "      <td>...</td>\n",
       "      <td>1392</td>\n",
       "      <td>2</td>\n",
       "      <td>1908</td>\n",
       "      <td>2</td>\n",
       "      <td>1955</td>\n",
       "      <td>2</td>\n",
       "      <td>3051</td>\n",
       "      <td>2</td>\n",
       "      <td>False</td>\n",
       "      <td>1105.111336</td>\n",
       "    </tr>\n",
       "    <tr>\n",
       "      <th>B456A8D6A2BBB7F08ABA945E17DDF905</th>\n",
       "      <td>True</td>\n",
       "      <td>2471</td>\n",
       "      <td>21</td>\n",
       "      <td>2470</td>\n",
       "      <td>10</td>\n",
       "      <td>582</td>\n",
       "      <td>9</td>\n",
       "      <td>581</td>\n",
       "      <td>6</td>\n",
       "      <td>2268</td>\n",
       "      <td>...</td>\n",
       "      <td>583</td>\n",
       "      <td>2</td>\n",
       "      <td>851</td>\n",
       "      <td>2</td>\n",
       "      <td>3630</td>\n",
       "      <td>1</td>\n",
       "      <td>4042</td>\n",
       "      <td>1</td>\n",
       "      <td>False</td>\n",
       "      <td>3123.598053</td>\n",
       "    </tr>\n",
       "    <tr>\n",
       "      <th>71FE2223D5BD0FE4C31551A4F8153F39</th>\n",
       "      <td>True</td>\n",
       "      <td>484</td>\n",
       "      <td>77</td>\n",
       "      <td>1150</td>\n",
       "      <td>12</td>\n",
       "      <td>1154</td>\n",
       "      <td>12</td>\n",
       "      <td>1449</td>\n",
       "      <td>10</td>\n",
       "      <td>3335</td>\n",
       "      <td>...</td>\n",
       "      <td>2800</td>\n",
       "      <td>9</td>\n",
       "      <td>639</td>\n",
       "      <td>5</td>\n",
       "      <td>2057</td>\n",
       "      <td>3</td>\n",
       "      <td>944</td>\n",
       "      <td>2</td>\n",
       "      <td>True</td>\n",
       "      <td>1739.022773</td>\n",
       "    </tr>\n",
       "    <tr>\n",
       "      <th>C07270AB11F4906B7A5F90AA4A8A0AAE</th>\n",
       "      <td>True</td>\n",
       "      <td>3503</td>\n",
       "      <td>39</td>\n",
       "      <td>2550</td>\n",
       "      <td>33</td>\n",
       "      <td>252</td>\n",
       "      <td>31</td>\n",
       "      <td>502</td>\n",
       "      <td>31</td>\n",
       "      <td>3743</td>\n",
       "      <td>...</td>\n",
       "      <td>2556</td>\n",
       "      <td>18</td>\n",
       "      <td>1595</td>\n",
       "      <td>16</td>\n",
       "      <td>2348</td>\n",
       "      <td>16</td>\n",
       "      <td>2714</td>\n",
       "      <td>14</td>\n",
       "      <td>False</td>\n",
       "      <td>3001.055968</td>\n",
       "    </tr>\n",
       "    <tr>\n",
       "      <th>6622F857282ABA17B92280AC5BE887B4</th>\n",
       "      <td>True</td>\n",
       "      <td>586</td>\n",
       "      <td>36</td>\n",
       "      <td>332</td>\n",
       "      <td>13</td>\n",
       "      <td>451</td>\n",
       "      <td>8</td>\n",
       "      <td>441</td>\n",
       "      <td>4</td>\n",
       "      <td>265</td>\n",
       "      <td>...</td>\n",
       "      <td>585</td>\n",
       "      <td>2</td>\n",
       "      <td>258</td>\n",
       "      <td>1</td>\n",
       "      <td>350</td>\n",
       "      <td>1</td>\n",
       "      <td>448</td>\n",
       "      <td>1</td>\n",
       "      <td>False</td>\n",
       "      <td>544.082280</td>\n",
       "    </tr>\n",
       "    <tr>\n",
       "      <th>B64565ACE0FB546233C4A2EDB19EE30A</th>\n",
       "      <td>True</td>\n",
       "      <td>620</td>\n",
       "      <td>9</td>\n",
       "      <td>619</td>\n",
       "      <td>7</td>\n",
       "      <td>3051</td>\n",
       "      <td>4</td>\n",
       "      <td>2029</td>\n",
       "      <td>3</td>\n",
       "      <td>1908</td>\n",
       "      <td>...</td>\n",
       "      <td>-1</td>\n",
       "      <td>65535</td>\n",
       "      <td>-1</td>\n",
       "      <td>65535</td>\n",
       "      <td>-1</td>\n",
       "      <td>65535</td>\n",
       "      <td>-1</td>\n",
       "      <td>65535</td>\n",
       "      <td>False</td>\n",
       "      <td>914.336724</td>\n",
       "    </tr>\n",
       "  </tbody>\n",
       "</table>\n",
       "<p>20 rows × 23 columns</p>\n",
       "</div>"
      ],
      "text/plain": [
       "                                 EXPOSED  ANTENNA_ID_0  COUNT_0  ANTENNA_ID_1  \\\n",
       "USER                                                                            \n",
       "18113EA238478375460839F4F5F3B017    True          1083       10           798   \n",
       "4C21FDD80CD47E153298C70D3527F079    True          3183       37          2875   \n",
       "5B69FC601B10AD78AF0E250899DA4428    True           989        8          1379   \n",
       "3104F21B0C633119F9EB28433F5DF0AC    True          2277       13          1990   \n",
       "794E3583897B762E37DB26CB29BF2C95    True          1461       27          3825   \n",
       "D3B4C0718A0A4B8B3A0495B9256C1262    True           540        4          1315   \n",
       "D0085B84A7EB85956E996C0EF2201453    True           594       43          2276   \n",
       "B10EEF8023AA67CD510AF3F9BD0D1405    True           399       33          1508   \n",
       "3ECB89A445B6C708219724E905EF17D6    True           197        9          2362   \n",
       "1EEBCA4BD819E8A29E5ECBBE28AB8FB4    True          2014        3           894   \n",
       "90D07F4337386F033351CB9448115C7D    True          2034       61          2927   \n",
       "A39FF837B196D60571B6CDE4F90144E9    True          1200       48          2932   \n",
       "643BF4CF7AB745F8C57286A3DAE05BA4    True          2385       21          3849   \n",
       "6373B991BA573D0A55CE1CC5E92F2D85   False          1219        6          1169   \n",
       "CDB529176C404C97A791D3C760CA9CD8    True          2470        7           650   \n",
       "B456A8D6A2BBB7F08ABA945E17DDF905    True          2471       21          2470   \n",
       "71FE2223D5BD0FE4C31551A4F8153F39    True           484       77          1150   \n",
       "C07270AB11F4906B7A5F90AA4A8A0AAE    True          3503       39          2550   \n",
       "6622F857282ABA17B92280AC5BE887B4    True           586       36           332   \n",
       "B64565ACE0FB546233C4A2EDB19EE30A    True           620        9           619   \n",
       "\n",
       "                                  COUNT_1  ANTENNA_ID_2  COUNT_2  \\\n",
       "USER                                                               \n",
       "18113EA238478375460839F4F5F3B017        5          1608        5   \n",
       "4C21FDD80CD47E153298C70D3527F079       31          2298       26   \n",
       "5B69FC601B10AD78AF0E250899DA4428        8           327        7   \n",
       "3104F21B0C633119F9EB28433F5DF0AC        5          1758        2   \n",
       "794E3583897B762E37DB26CB29BF2C95       19          2895       18   \n",
       "D3B4C0718A0A4B8B3A0495B9256C1262        4          2013        3   \n",
       "D0085B84A7EB85956E996C0EF2201453       27           515       20   \n",
       "B10EEF8023AA67CD510AF3F9BD0D1405       20          1415       11   \n",
       "3ECB89A445B6C708219724E905EF17D6        8          2084        4   \n",
       "1EEBCA4BD819E8A29E5ECBBE28AB8FB4        1          2018        1   \n",
       "90D07F4337386F033351CB9448115C7D       60          2978       42   \n",
       "A39FF837B196D60571B6CDE4F90144E9       43           390       39   \n",
       "643BF4CF7AB745F8C57286A3DAE05BA4        4           350        2   \n",
       "6373B991BA573D0A55CE1CC5E92F2D85        4            -1    65535   \n",
       "CDB529176C404C97A791D3C760CA9CD8        4          1915        4   \n",
       "B456A8D6A2BBB7F08ABA945E17DDF905       10           582        9   \n",
       "71FE2223D5BD0FE4C31551A4F8153F39       12          1154       12   \n",
       "C07270AB11F4906B7A5F90AA4A8A0AAE       33           252       31   \n",
       "6622F857282ABA17B92280AC5BE887B4       13           451        8   \n",
       "B64565ACE0FB546233C4A2EDB19EE30A        7          3051        4   \n",
       "\n",
       "                                  ANTENNA_ID_3  COUNT_3  ANTENNA_ID_4  \\\n",
       "USER                                                                    \n",
       "18113EA238478375460839F4F5F3B017           248        4           849   \n",
       "4C21FDD80CD47E153298C70D3527F079          1449       16          2299   \n",
       "5B69FC601B10AD78AF0E250899DA4428           990        6          1431   \n",
       "3104F21B0C633119F9EB28433F5DF0AC            -1    65535            -1   \n",
       "794E3583897B762E37DB26CB29BF2C95          1012       17          2584   \n",
       "D3B4C0718A0A4B8B3A0495B9256C1262          2014        3           763   \n",
       "D0085B84A7EB85956E996C0EF2201453          1386       17          2316   \n",
       "B10EEF8023AA67CD510AF3F9BD0D1405           526       10          1483   \n",
       "3ECB89A445B6C708219724E905EF17D6          2278        4          2197   \n",
       "1EEBCA4BD819E8A29E5ECBBE28AB8FB4            -1    65535            -1   \n",
       "90D07F4337386F033351CB9448115C7D          3504       38          2717   \n",
       "A39FF837B196D60571B6CDE4F90144E9          1571       11           255   \n",
       "643BF4CF7AB745F8C57286A3DAE05BA4          3245        2          1997   \n",
       "6373B991BA573D0A55CE1CC5E92F2D85            -1    65535            -1   \n",
       "CDB529176C404C97A791D3C760CA9CD8          2515        4           647   \n",
       "B456A8D6A2BBB7F08ABA945E17DDF905           581        6          2268   \n",
       "71FE2223D5BD0FE4C31551A4F8153F39          1449       10          3335   \n",
       "C07270AB11F4906B7A5F90AA4A8A0AAE           502       31          3743   \n",
       "6622F857282ABA17B92280AC5BE887B4           441        4           265   \n",
       "B64565ACE0FB546233C4A2EDB19EE30A          2029        3          1908   \n",
       "\n",
       "                                        ...          ANTENNA_ID_6  COUNT_6  \\\n",
       "USER                                    ...                                  \n",
       "18113EA238478375460839F4F5F3B017        ...                  2679        3   \n",
       "4C21FDD80CD47E153298C70D3527F079        ...                  2296        4   \n",
       "5B69FC601B10AD78AF0E250899DA4428        ...                  1610        3   \n",
       "3104F21B0C633119F9EB28433F5DF0AC        ...                    -1    65535   \n",
       "794E3583897B762E37DB26CB29BF2C95        ...                  2055        6   \n",
       "D3B4C0718A0A4B8B3A0495B9256C1262        ...                  2520        2   \n",
       "D0085B84A7EB85956E996C0EF2201453        ...                  2174       13   \n",
       "B10EEF8023AA67CD510AF3F9BD0D1405        ...                   873        6   \n",
       "3ECB89A445B6C708219724E905EF17D6        ...                   391        1   \n",
       "1EEBCA4BD819E8A29E5ECBBE28AB8FB4        ...                    -1    65535   \n",
       "90D07F4337386F033351CB9448115C7D        ...                  1282        2   \n",
       "A39FF837B196D60571B6CDE4F90144E9        ...                  1063        2   \n",
       "643BF4CF7AB745F8C57286A3DAE05BA4        ...                  3911        1   \n",
       "6373B991BA573D0A55CE1CC5E92F2D85        ...                    -1    65535   \n",
       "CDB529176C404C97A791D3C760CA9CD8        ...                  1392        2   \n",
       "B456A8D6A2BBB7F08ABA945E17DDF905        ...                   583        2   \n",
       "71FE2223D5BD0FE4C31551A4F8153F39        ...                  2800        9   \n",
       "C07270AB11F4906B7A5F90AA4A8A0AAE        ...                  2556       18   \n",
       "6622F857282ABA17B92280AC5BE887B4        ...                   585        2   \n",
       "B64565ACE0FB546233C4A2EDB19EE30A        ...                    -1    65535   \n",
       "\n",
       "                                  ANTENNA_ID_7  COUNT_7  ANTENNA_ID_8  \\\n",
       "USER                                                                    \n",
       "18113EA238478375460839F4F5F3B017           369        2          1016   \n",
       "4C21FDD80CD47E153298C70D3527F079          2745        4          1154   \n",
       "5B69FC601B10AD78AF0E250899DA4428           988        1          1074   \n",
       "3104F21B0C633119F9EB28433F5DF0AC            -1    65535            -1   \n",
       "794E3583897B762E37DB26CB29BF2C95          2275        6          3787   \n",
       "D3B4C0718A0A4B8B3A0495B9256C1262            -1    65535            -1   \n",
       "D0085B84A7EB85956E996C0EF2201453           771       12          1319   \n",
       "B10EEF8023AA67CD510AF3F9BD0D1405          1573        5           111   \n",
       "3ECB89A445B6C708219724E905EF17D6           484        1           572   \n",
       "1EEBCA4BD819E8A29E5ECBBE28AB8FB4            -1    65535            -1   \n",
       "90D07F4337386F033351CB9448115C7D          1642        1          1729   \n",
       "A39FF837B196D60571B6CDE4F90144E9          1998        1          2933   \n",
       "643BF4CF7AB745F8C57286A3DAE05BA4            -1    65535            -1   \n",
       "6373B991BA573D0A55CE1CC5E92F2D85            -1    65535            -1   \n",
       "CDB529176C404C97A791D3C760CA9CD8          1908        2          1955   \n",
       "B456A8D6A2BBB7F08ABA945E17DDF905           851        2          3630   \n",
       "71FE2223D5BD0FE4C31551A4F8153F39           639        5          2057   \n",
       "C07270AB11F4906B7A5F90AA4A8A0AAE          1595       16          2348   \n",
       "6622F857282ABA17B92280AC5BE887B4           258        1           350   \n",
       "B64565ACE0FB546233C4A2EDB19EE30A            -1    65535            -1   \n",
       "\n",
       "                                  COUNT_8  ANTENNA_ID_9  COUNT_9  EPIDEMIC  \\\n",
       "USER                                                                         \n",
       "18113EA238478375460839F4F5F3B017        1          1245        1      True   \n",
       "4C21FDD80CD47E153298C70D3527F079        3          1258        2     False   \n",
       "5B69FC601B10AD78AF0E250899DA4428        1          1098        1      True   \n",
       "3104F21B0C633119F9EB28433F5DF0AC    65535            -1    65535      True   \n",
       "794E3583897B762E37DB26CB29BF2C95        4          2043        3      True   \n",
       "D3B4C0718A0A4B8B3A0495B9256C1262    65535            -1    65535     False   \n",
       "D0085B84A7EB85956E996C0EF2201453       10          1721       10      True   \n",
       "B10EEF8023AA67CD510AF3F9BD0D1405        4          1356        4     False   \n",
       "3ECB89A445B6C708219724E905EF17D6        1           709        1     False   \n",
       "1EEBCA4BD819E8A29E5ECBBE28AB8FB4    65535            -1    65535      True   \n",
       "90D07F4337386F033351CB9448115C7D        1          2550        1     False   \n",
       "A39FF837B196D60571B6CDE4F90144E9        1            -1    65535      True   \n",
       "643BF4CF7AB745F8C57286A3DAE05BA4    65535            -1    65535     False   \n",
       "6373B991BA573D0A55CE1CC5E92F2D85    65535            -1    65535     False   \n",
       "CDB529176C404C97A791D3C760CA9CD8        2          3051        2     False   \n",
       "B456A8D6A2BBB7F08ABA945E17DDF905        1          4042        1     False   \n",
       "71FE2223D5BD0FE4C31551A4F8153F39        3           944        2      True   \n",
       "C07270AB11F4906B7A5F90AA4A8A0AAE       16          2714       14     False   \n",
       "6622F857282ABA17B92280AC5BE887B4        1           448        1     False   \n",
       "B64565ACE0FB546233C4A2EDB19EE30A    65535            -1    65535     False   \n",
       "\n",
       "                                  MOBILITY_DIAMETER  \n",
       "USER                                                 \n",
       "18113EA238478375460839F4F5F3B017        1596.220319  \n",
       "4C21FDD80CD47E153298C70D3527F079        2847.255740  \n",
       "5B69FC601B10AD78AF0E250899DA4428         737.250275  \n",
       "3104F21B0C633119F9EB28433F5DF0AC         739.327422  \n",
       "794E3583897B762E37DB26CB29BF2C95        2655.544887  \n",
       "D3B4C0718A0A4B8B3A0495B9256C1262         701.064183  \n",
       "D0085B84A7EB85956E996C0EF2201453         742.937402  \n",
       "B10EEF8023AA67CD510AF3F9BD0D1405         559.340031  \n",
       "3ECB89A445B6C708219724E905EF17D6        1368.713640  \n",
       "1EEBCA4BD819E8A29E5ECBBE28AB8FB4         703.007715  \n",
       "90D07F4337386F033351CB9448115C7D        2281.388691  \n",
       "A39FF837B196D60571B6CDE4F90144E9         679.380053  \n",
       "643BF4CF7AB745F8C57286A3DAE05BA4        2306.405188  \n",
       "6373B991BA573D0A55CE1CC5E92F2D85         309.191035  \n",
       "CDB529176C404C97A791D3C760CA9CD8        1105.111336  \n",
       "B456A8D6A2BBB7F08ABA945E17DDF905        3123.598053  \n",
       "71FE2223D5BD0FE4C31551A4F8153F39        1739.022773  \n",
       "C07270AB11F4906B7A5F90AA4A8A0AAE        3001.055968  \n",
       "6622F857282ABA17B92280AC5BE887B4         544.082280  \n",
       "B64565ACE0FB546233C4A2EDB19EE30A         914.336724  \n",
       "\n",
       "[20 rows x 23 columns]"
      ]
     },
     "execution_count": 323,
     "metadata": {},
     "output_type": "execute_result"
    }
   ],
   "source": [
    "table.sample(20)"
   ]
  },
  {
   "cell_type": "markdown",
   "metadata": {},
   "source": [
    "## Cambiamos ouput/input files"
   ]
  },
  {
   "cell_type": "code",
   "execution_count": null,
   "metadata": {
    "collapsed": true
   },
   "outputs": [],
   "source": [
    "#ejemplo  \"/grandata/simple_format/01-02012014.txt.gz\"\n",
    "#seteamos el lugar de trabajo\n",
    "rootdir=\"/home/juan/mobility-study/\"\n",
    "os.chdir(rootdir)\n",
    "year = \"2015\"; \n",
    "month_start= \"01\";\n",
    "#todos estos sum_links terminan 2 meses mas tardes\n",
    "month_end= str(int(month_start)+2)\n",
    "if int(month_end )<10:\n",
    "    month_end=\"0\"+month_end\n",
    "    \n",
    "day_start = \"01\"\n",
    "day_end = str(int(day_start)+1)\n",
    "if int(day_end )<10:\n",
    "    day_end=\"0\"+ day_end\n",
    "\n",
    "input_file= rootdir +\"output2.txt.gz\"\\\n",
    "                .format(y=year,ms=month_start,me=month_end,\n",
    "                       ds=day_start,de=day_end)\n",
    "output_file = \"/home/juan/mobility-study/output3\"\n",
    "if week_end == True:\n",
    "    output_file = output_file + \"_wkend\"\n",
    "if night_filter == True:\n",
    "    output_file += \"_ngtfilter\"\n",
    "if hash_map == True:\n",
    "    output_file += \"_user_hash_map\"\n",
    "output_file += \".txt\""
   ]
  },
  {
   "cell_type": "code",
   "execution_count": 108,
   "metadata": {
    "collapsed": false
   },
   "outputs": [
    {
     "ename": "QhullError",
     "evalue": "Qhull error",
     "output_type": "error",
     "traceback": [
      "\u001b[1;31m---------------------------------------------------------------------------\u001b[0m",
      "\u001b[1;31mQhullError\u001b[0m                                Traceback (most recent call last)",
      "\u001b[1;32m<ipython-input-108-81a1464999ad>\u001b[0m in \u001b[0;36m<module>\u001b[1;34m()\u001b[0m\n\u001b[0;32m     15\u001b[0m \u001b[1;31m#points = np.ndaray(shape=(longitudes.size,2), dtype=float,buffer=np.column_stack(latitudes,longitudes))\u001b[0m\u001b[1;33m\u001b[0m\u001b[1;33m\u001b[0m\u001b[0m\n\u001b[0;32m     16\u001b[0m \u001b[1;33m\u001b[0m\u001b[0m\n\u001b[1;32m---> 17\u001b[1;33m \u001b[0mchull\u001b[0m \u001b[1;33m=\u001b[0m  \u001b[0mspatial\u001b[0m\u001b[1;33m.\u001b[0m\u001b[0mConvexHull\u001b[0m\u001b[1;33m(\u001b[0m\u001b[0mpoints\u001b[0m\u001b[1;33m)\u001b[0m\u001b[1;33m\u001b[0m\u001b[0m\n\u001b[0m",
      "\u001b[1;32mscipy/spatial/qhull.pyx\u001b[0m in \u001b[0;36mscipy.spatial.qhull.ConvexHull.__init__ (scipy/spatial/qhull.c:20327)\u001b[1;34m()\u001b[0m\n",
      "\u001b[1;32mscipy/spatial/qhull.pyx\u001b[0m in \u001b[0;36mscipy.spatial.qhull._Qhull.__init__ (scipy/spatial/qhull.c:3682)\u001b[1;34m()\u001b[0m\n",
      "\u001b[1;31mQhullError\u001b[0m: Qhull error"
     ]
    }
   ],
   "source": [
    "row =test_table.loc[1527936][filter_col]\n",
    "\n",
    "row = row.map(antenna_lat_long_dict).dropna()\n",
    "\n",
    "latitudes=np.zeros(len(row))\n",
    "longitudes =np.zeros(len(row))\n",
    "i=0\n",
    "for ant_id in row:\n",
    "    latitudes[i] = ant_id[0]\n",
    "    longitudes[i] = ant_id[1]\n",
    "    i+=1\n",
    "\n",
    "points = np.array([np.asarray(latitudes).transpose() ,np.asarray(longitudes).transpose()])\n",
    "points = points.transpose()\n",
    "#points = np.ndaray(shape=(longitudes.size,2), dtype=float,buffer=np.column_stack(latitudes,longitudes))\n",
    "\n",
    "chull =  spatial.ConvexHull(points)"
   ]
  },
  {
   "cell_type": "code",
   "execution_count": 67,
   "metadata": {
    "collapsed": false
   },
   "outputs": [
    {
     "data": {
      "text/plain": [
       "39.64023821173101"
      ]
     },
     "execution_count": 67,
     "metadata": {},
     "output_type": "execute_result"
    }
   ],
   "source": [
    "dist=0\n",
    "for i in range(len(vert)):\n",
    "    for j in range(i):\n",
    "        new_dist= distance_on_unit_sphere(vert[i][0], vert[i][1], vert[j][0], vert[j][1])\n",
    "        if dist< new_dist:\n",
    "            dist = new_dist "
   ]
  },
  {
   "cell_type": "code",
   "execution_count": 145,
   "metadata": {
    "collapsed": false
   },
   "outputs": [
    {
     "data": {
      "text/plain": [
       "array([ 17.984,  17.961])"
      ]
     },
     "execution_count": 145,
     "metadata": {},
     "output_type": "execute_result"
    }
   ],
   "source": [
    "points[chull.simplices[1],0]"
   ]
  },
  {
   "cell_type": "code",
   "execution_count": 141,
   "metadata": {
    "collapsed": false
   },
   "outputs": [
    {
     "data": {
      "text/plain": [
       "array([ 18.015,  17.961,  17.984,  17.998])"
      ]
     },
     "execution_count": 141,
     "metadata": {},
     "output_type": "execute_result"
    }
   ],
   "source": [
    "points[:,0]"
   ]
  },
  {
   "cell_type": "code",
   "execution_count": 147,
   "metadata": {
    "collapsed": false
   },
   "outputs": [
    {
     "data": {
      "text/plain": [
       "array([ 18.015, -94.541])"
      ]
     },
     "execution_count": 147,
     "metadata": {},
     "output_type": "execute_result"
    }
   ],
   "source": [
    "chull.max_bound"
   ]
  },
  {
   "cell_type": "code",
   "execution_count": 139,
   "metadata": {
    "collapsed": false
   },
   "outputs": [
    {
     "data": {
      "image/png": "[encoded data removed]",
      "text/plain": [
       "<matplotlib.figure.Figure at 0x7fabd3b14910>"
      ]
     },
     "metadata": {},
     "output_type": "display_data"
    }
   ],
   "source": [
    "plt.plot(points[:,0], points[:,1], 'o')\n",
    "for simplex in chull.simplices:\n",
    "    plt.plot(points[simplex, 0], points[simplex, 1], 'k-')"
   ]
  },
  {
   "cell_type": "code",
   "execution_count": 87,
   "metadata": {
    "collapsed": false
   },
   "outputs": [
    {
     "ename": "NameError",
     "evalue": "name 'matrix' is not defined",
     "output_type": "error",
     "traceback": [
      "\u001b[1;31m---------------------------------------------------------------------------\u001b[0m",
      "\u001b[1;31mNameError\u001b[0m                                 Traceback (most recent call last)",
      "\u001b[1;32m<ipython-input-87-213817636d98>\u001b[0m in \u001b[0;36m<module>\u001b[1;34m()\u001b[0m\n\u001b[1;32m----> 1\u001b[1;33m \u001b[0mxy\u001b[0m\u001b[1;33m=\u001b[0m \u001b[0mmatrix\u001b[0m\u001b[1;33m(\u001b[0m\u001b[0mrnorm\u001b[0m\u001b[1;33m(\u001b[0m\u001b[1;36m24\u001b[0m\u001b[1;33m,\u001b[0m \u001b[1;36m100\u001b[0m\u001b[1;33m,\u001b[0m \u001b[1;36m15\u001b[0m\u001b[1;33m)\u001b[0m\u001b[1;33m,\u001b[0m \u001b[0mncol\u001b[0m\u001b[1;33m=\u001b[0m\u001b[1;36m2\u001b[0m\u001b[1;33m)\u001b[0m\u001b[1;33m\u001b[0m\u001b[0m\n\u001b[0m",
      "\u001b[1;31mNameError\u001b[0m: name 'matrix' is not defined"
     ]
    }
   ],
   "source": [
    "xy= matrix(rnorm(24, 100, 15), ncol=2)"
   ]
  },
  {
   "cell_type": "code",
   "execution_count": 83,
   "metadata": {
    "collapsed": false
   },
   "outputs": [
    {
     "data": {
      "text/html": [
       "<div>\n",
       "<table border=\"1\" class=\"dataframe\">\n",
       "  <thead>\n",
       "    <tr style=\"text-align: right;\">\n",
       "      <th></th>\n",
       "      <th>Target</th>\n",
       "      <th>EXPOSED</th>\n",
       "      <th>AntennaID_0</th>\n",
       "      <th>count_0</th>\n",
       "      <th>AntennaID_1</th>\n",
       "      <th>count_1</th>\n",
       "      <th>AntennaID_2</th>\n",
       "      <th>count_2</th>\n",
       "      <th>AntennaID_3</th>\n",
       "      <th>count_3</th>\n",
       "      <th>...</th>\n",
       "      <th>count_5</th>\n",
       "      <th>AntennaID_6</th>\n",
       "      <th>count_6</th>\n",
       "      <th>AntennaID_7</th>\n",
       "      <th>count_7</th>\n",
       "      <th>AntennaID_8</th>\n",
       "      <th>count_8</th>\n",
       "      <th>AntennaID_9</th>\n",
       "      <th>count_9</th>\n",
       "      <th>EPIDEMIC</th>\n",
       "    </tr>\n",
       "  </thead>\n",
       "  <tbody>\n",
       "    <tr>\n",
       "      <th>0</th>\n",
       "      <td>113241030</td>\n",
       "      <td>0</td>\n",
       "      <td>3715</td>\n",
       "      <td>24</td>\n",
       "      <td>-1</td>\n",
       "      <td>-1</td>\n",
       "      <td>-1</td>\n",
       "      <td>-1</td>\n",
       "      <td>-1</td>\n",
       "      <td>-1</td>\n",
       "      <td>...</td>\n",
       "      <td>-1</td>\n",
       "      <td>-1</td>\n",
       "      <td>-1</td>\n",
       "      <td>-1</td>\n",
       "      <td>-1</td>\n",
       "      <td>-1</td>\n",
       "      <td>-1</td>\n",
       "      <td>-1</td>\n",
       "      <td>-1</td>\n",
       "      <td>0</td>\n",
       "    </tr>\n",
       "    <tr>\n",
       "      <th>2</th>\n",
       "      <td>113238925</td>\n",
       "      <td>0</td>\n",
       "      <td>4034</td>\n",
       "      <td>7</td>\n",
       "      <td>4023</td>\n",
       "      <td>1</td>\n",
       "      <td>-1</td>\n",
       "      <td>-1</td>\n",
       "      <td>-1</td>\n",
       "      <td>-1</td>\n",
       "      <td>...</td>\n",
       "      <td>-1</td>\n",
       "      <td>-1</td>\n",
       "      <td>-1</td>\n",
       "      <td>-1</td>\n",
       "      <td>-1</td>\n",
       "      <td>-1</td>\n",
       "      <td>-1</td>\n",
       "      <td>-1</td>\n",
       "      <td>-1</td>\n",
       "      <td>0</td>\n",
       "    </tr>\n",
       "    <tr>\n",
       "      <th>3</th>\n",
       "      <td>113238845</td>\n",
       "      <td>1</td>\n",
       "      <td>29</td>\n",
       "      <td>4</td>\n",
       "      <td>160</td>\n",
       "      <td>3</td>\n",
       "      <td>-1</td>\n",
       "      <td>-1</td>\n",
       "      <td>-1</td>\n",
       "      <td>-1</td>\n",
       "      <td>...</td>\n",
       "      <td>-1</td>\n",
       "      <td>-1</td>\n",
       "      <td>-1</td>\n",
       "      <td>-1</td>\n",
       "      <td>-1</td>\n",
       "      <td>-1</td>\n",
       "      <td>-1</td>\n",
       "      <td>-1</td>\n",
       "      <td>-1</td>\n",
       "      <td>1</td>\n",
       "    </tr>\n",
       "    <tr>\n",
       "      <th>5</th>\n",
       "      <td>113236935</td>\n",
       "      <td>0</td>\n",
       "      <td>2348</td>\n",
       "      <td>12</td>\n",
       "      <td>-1</td>\n",
       "      <td>-1</td>\n",
       "      <td>-1</td>\n",
       "      <td>-1</td>\n",
       "      <td>-1</td>\n",
       "      <td>-1</td>\n",
       "      <td>...</td>\n",
       "      <td>-1</td>\n",
       "      <td>-1</td>\n",
       "      <td>-1</td>\n",
       "      <td>-1</td>\n",
       "      <td>-1</td>\n",
       "      <td>-1</td>\n",
       "      <td>-1</td>\n",
       "      <td>-1</td>\n",
       "      <td>-1</td>\n",
       "      <td>0</td>\n",
       "    </tr>\n",
       "    <tr>\n",
       "      <th>7</th>\n",
       "      <td>113235465</td>\n",
       "      <td>0</td>\n",
       "      <td>2724</td>\n",
       "      <td>7</td>\n",
       "      <td>1018</td>\n",
       "      <td>3</td>\n",
       "      <td>-1</td>\n",
       "      <td>-1</td>\n",
       "      <td>-1</td>\n",
       "      <td>-1</td>\n",
       "      <td>...</td>\n",
       "      <td>-1</td>\n",
       "      <td>-1</td>\n",
       "      <td>-1</td>\n",
       "      <td>-1</td>\n",
       "      <td>-1</td>\n",
       "      <td>-1</td>\n",
       "      <td>-1</td>\n",
       "      <td>-1</td>\n",
       "      <td>-1</td>\n",
       "      <td>0</td>\n",
       "    </tr>\n",
       "    <tr>\n",
       "      <th>9</th>\n",
       "      <td>113234200</td>\n",
       "      <td>0</td>\n",
       "      <td>2839</td>\n",
       "      <td>15</td>\n",
       "      <td>-1</td>\n",
       "      <td>-1</td>\n",
       "      <td>-1</td>\n",
       "      <td>-1</td>\n",
       "      <td>-1</td>\n",
       "      <td>-1</td>\n",
       "      <td>...</td>\n",
       "      <td>-1</td>\n",
       "      <td>-1</td>\n",
       "      <td>-1</td>\n",
       "      <td>-1</td>\n",
       "      <td>-1</td>\n",
       "      <td>-1</td>\n",
       "      <td>-1</td>\n",
       "      <td>-1</td>\n",
       "      <td>-1</td>\n",
       "      <td>0</td>\n",
       "    </tr>\n",
       "    <tr>\n",
       "      <th>11</th>\n",
       "      <td>113231845</td>\n",
       "      <td>0</td>\n",
       "      <td>4205</td>\n",
       "      <td>3</td>\n",
       "      <td>4198</td>\n",
       "      <td>2</td>\n",
       "      <td>-1</td>\n",
       "      <td>-1</td>\n",
       "      <td>-1</td>\n",
       "      <td>-1</td>\n",
       "      <td>...</td>\n",
       "      <td>-1</td>\n",
       "      <td>-1</td>\n",
       "      <td>-1</td>\n",
       "      <td>-1</td>\n",
       "      <td>-1</td>\n",
       "      <td>-1</td>\n",
       "      <td>-1</td>\n",
       "      <td>-1</td>\n",
       "      <td>-1</td>\n",
       "      <td>0</td>\n",
       "    </tr>\n",
       "    <tr>\n",
       "      <th>12</th>\n",
       "      <td>113231795</td>\n",
       "      <td>0</td>\n",
       "      <td>1961</td>\n",
       "      <td>7</td>\n",
       "      <td>1706</td>\n",
       "      <td>1</td>\n",
       "      <td>-1</td>\n",
       "      <td>-1</td>\n",
       "      <td>-1</td>\n",
       "      <td>-1</td>\n",
       "      <td>...</td>\n",
       "      <td>-1</td>\n",
       "      <td>-1</td>\n",
       "      <td>-1</td>\n",
       "      <td>-1</td>\n",
       "      <td>-1</td>\n",
       "      <td>-1</td>\n",
       "      <td>-1</td>\n",
       "      <td>-1</td>\n",
       "      <td>-1</td>\n",
       "      <td>0</td>\n",
       "    </tr>\n",
       "    <tr>\n",
       "      <th>14</th>\n",
       "      <td>113230980</td>\n",
       "      <td>0</td>\n",
       "      <td>1012</td>\n",
       "      <td>4</td>\n",
       "      <td>1779</td>\n",
       "      <td>3</td>\n",
       "      <td>-1</td>\n",
       "      <td>-1</td>\n",
       "      <td>-1</td>\n",
       "      <td>-1</td>\n",
       "      <td>...</td>\n",
       "      <td>-1</td>\n",
       "      <td>-1</td>\n",
       "      <td>-1</td>\n",
       "      <td>-1</td>\n",
       "      <td>-1</td>\n",
       "      <td>-1</td>\n",
       "      <td>-1</td>\n",
       "      <td>-1</td>\n",
       "      <td>-1</td>\n",
       "      <td>0</td>\n",
       "    </tr>\n",
       "    <tr>\n",
       "      <th>15</th>\n",
       "      <td>113230190</td>\n",
       "      <td>0</td>\n",
       "      <td>3661</td>\n",
       "      <td>4</td>\n",
       "      <td>3860</td>\n",
       "      <td>2</td>\n",
       "      <td>-1</td>\n",
       "      <td>-1</td>\n",
       "      <td>-1</td>\n",
       "      <td>-1</td>\n",
       "      <td>...</td>\n",
       "      <td>-1</td>\n",
       "      <td>-1</td>\n",
       "      <td>-1</td>\n",
       "      <td>-1</td>\n",
       "      <td>-1</td>\n",
       "      <td>-1</td>\n",
       "      <td>-1</td>\n",
       "      <td>-1</td>\n",
       "      <td>-1</td>\n",
       "      <td>0</td>\n",
       "    </tr>\n",
       "  </tbody>\n",
       "</table>\n",
       "<p>10 rows × 23 columns</p>\n",
       "</div>"
      ],
      "text/plain": [
       "       Target  EXPOSED  AntennaID_0  count_0  AntennaID_1  count_1  \\\n",
       "0   113241030        0         3715       24           -1       -1   \n",
       "2   113238925        0         4034        7         4023        1   \n",
       "3   113238845        1           29        4          160        3   \n",
       "5   113236935        0         2348       12           -1       -1   \n",
       "7   113235465        0         2724        7         1018        3   \n",
       "9   113234200        0         2839       15           -1       -1   \n",
       "11  113231845        0         4205        3         4198        2   \n",
       "12  113231795        0         1961        7         1706        1   \n",
       "14  113230980        0         1012        4         1779        3   \n",
       "15  113230190        0         3661        4         3860        2   \n",
       "\n",
       "    AntennaID_2  count_2  AntennaID_3  count_3    ...     count_5  \\\n",
       "0            -1       -1           -1       -1    ...          -1   \n",
       "2            -1       -1           -1       -1    ...          -1   \n",
       "3            -1       -1           -1       -1    ...          -1   \n",
       "5            -1       -1           -1       -1    ...          -1   \n",
       "7            -1       -1           -1       -1    ...          -1   \n",
       "9            -1       -1           -1       -1    ...          -1   \n",
       "11           -1       -1           -1       -1    ...          -1   \n",
       "12           -1       -1           -1       -1    ...          -1   \n",
       "14           -1       -1           -1       -1    ...          -1   \n",
       "15           -1       -1           -1       -1    ...          -1   \n",
       "\n",
       "    AntennaID_6  count_6  AntennaID_7  count_7  AntennaID_8  count_8  \\\n",
       "0            -1       -1           -1       -1           -1       -1   \n",
       "2            -1       -1           -1       -1           -1       -1   \n",
       "3            -1       -1           -1       -1           -1       -1   \n",
       "5            -1       -1           -1       -1           -1       -1   \n",
       "7            -1       -1           -1       -1           -1       -1   \n",
       "9            -1       -1           -1       -1           -1       -1   \n",
       "11           -1       -1           -1       -1           -1       -1   \n",
       "12           -1       -1           -1       -1           -1       -1   \n",
       "14           -1       -1           -1       -1           -1       -1   \n",
       "15           -1       -1           -1       -1           -1       -1   \n",
       "\n",
       "    AntennaID_9  count_9  EPIDEMIC  \n",
       "0            -1       -1         0  \n",
       "2            -1       -1         0  \n",
       "3            -1       -1         1  \n",
       "5            -1       -1         0  \n",
       "7            -1       -1         0  \n",
       "9            -1       -1         0  \n",
       "11           -1       -1         0  \n",
       "12           -1       -1         0  \n",
       "14           -1       -1         0  \n",
       "15           -1       -1         0  \n",
       "\n",
       "[10 rows x 23 columns]"
      ]
     },
     "execution_count": 83,
     "metadata": {},
     "output_type": "execute_result"
    }
   ],
   "source": [
    "test_table[test_table['AntennaID_2']==-1].head(10)"
   ]
  },
  {
   "cell_type": "code",
   "execution_count": 37,
   "metadata": {
    "collapsed": false
   },
   "outputs": [
    {
     "data": {
      "text/plain": [
       "pandas.core.index.Index"
      ]
     },
     "execution_count": 37,
     "metadata": {},
     "output_type": "execute_result"
    }
   ],
   "source": [
    "type(antennas.columns)"
   ]
  },
  {
   "cell_type": "code",
   "execution_count": 36,
   "metadata": {
    "collapsed": false
   },
   "outputs": [
    {
     "data": {
      "text/plain": [
       "pandas.core.series.Series"
      ]
     },
     "execution_count": 36,
     "metadata": {},
     "output_type": "execute_result"
    }
   ],
   "source": [
    "antennas[antennas.columns[]].loc[2]"
   ]
  },
  {
   "cell_type": "code",
   "execution_count": 30,
   "metadata": {
    "collapsed": false
   },
   "outputs": [
    {
     "data": {
      "text/plain": [
       "Index([u'LATITUDE', u'LONGITUDE', u'STATE', u'EPIDEMIC'], dtype='object')"
      ]
     },
     "execution_count": 30,
     "metadata": {},
     "output_type": "execute_result"
    }
   ],
   "source": [
    "antennas.columns"
   ]
  },
  {
   "cell_type": "code",
   "execution_count": 29,
   "metadata": {
    "collapsed": false
   },
   "outputs": [
    {
     "data": {
      "text/html": [
       "<div>\n",
       "<table border=\"1\" class=\"dataframe\">\n",
       "  <thead>\n",
       "    <tr style=\"text-align: right;\">\n",
       "      <th></th>\n",
       "      <th>Target</th>\n",
       "      <th>EXPOSED</th>\n",
       "      <th>AntennaID_0</th>\n",
       "      <th>count_0</th>\n",
       "      <th>AntennaID_1</th>\n",
       "      <th>count_1</th>\n",
       "      <th>AntennaID_2</th>\n",
       "      <th>count_2</th>\n",
       "      <th>AntennaID_3</th>\n",
       "      <th>count_3</th>\n",
       "      <th>...</th>\n",
       "      <th>count_5</th>\n",
       "      <th>AntennaID_6</th>\n",
       "      <th>count_6</th>\n",
       "      <th>AntennaID_7</th>\n",
       "      <th>count_7</th>\n",
       "      <th>AntennaID_8</th>\n",
       "      <th>count_8</th>\n",
       "      <th>AntennaID_9</th>\n",
       "      <th>count_9</th>\n",
       "      <th>EPIDEMIC</th>\n",
       "    </tr>\n",
       "  </thead>\n",
       "  <tbody>\n",
       "    <tr>\n",
       "      <th>0</th>\n",
       "      <td>113241030</td>\n",
       "      <td>0</td>\n",
       "      <td>3715</td>\n",
       "      <td>24</td>\n",
       "      <td>-1</td>\n",
       "      <td>-1</td>\n",
       "      <td>-1</td>\n",
       "      <td>-1</td>\n",
       "      <td>-1</td>\n",
       "      <td>-1</td>\n",
       "      <td>...</td>\n",
       "      <td>-1</td>\n",
       "      <td>-1</td>\n",
       "      <td>-1</td>\n",
       "      <td>-1</td>\n",
       "      <td>-1</td>\n",
       "      <td>-1</td>\n",
       "      <td>-1</td>\n",
       "      <td>-1</td>\n",
       "      <td>-1</td>\n",
       "      <td>0</td>\n",
       "    </tr>\n",
       "    <tr>\n",
       "      <th>1</th>\n",
       "      <td>113240295</td>\n",
       "      <td>0</td>\n",
       "      <td>1082</td>\n",
       "      <td>4</td>\n",
       "      <td>942</td>\n",
       "      <td>1</td>\n",
       "      <td>3450</td>\n",
       "      <td>1</td>\n",
       "      <td>-1</td>\n",
       "      <td>-1</td>\n",
       "      <td>...</td>\n",
       "      <td>-1</td>\n",
       "      <td>-1</td>\n",
       "      <td>-1</td>\n",
       "      <td>-1</td>\n",
       "      <td>-1</td>\n",
       "      <td>-1</td>\n",
       "      <td>-1</td>\n",
       "      <td>-1</td>\n",
       "      <td>-1</td>\n",
       "      <td>0</td>\n",
       "    </tr>\n",
       "    <tr>\n",
       "      <th>2</th>\n",
       "      <td>113238925</td>\n",
       "      <td>0</td>\n",
       "      <td>4034</td>\n",
       "      <td>7</td>\n",
       "      <td>4023</td>\n",
       "      <td>1</td>\n",
       "      <td>-1</td>\n",
       "      <td>-1</td>\n",
       "      <td>-1</td>\n",
       "      <td>-1</td>\n",
       "      <td>...</td>\n",
       "      <td>-1</td>\n",
       "      <td>-1</td>\n",
       "      <td>-1</td>\n",
       "      <td>-1</td>\n",
       "      <td>-1</td>\n",
       "      <td>-1</td>\n",
       "      <td>-1</td>\n",
       "      <td>-1</td>\n",
       "      <td>-1</td>\n",
       "      <td>0</td>\n",
       "    </tr>\n",
       "    <tr>\n",
       "      <th>3</th>\n",
       "      <td>113238845</td>\n",
       "      <td>1</td>\n",
       "      <td>29</td>\n",
       "      <td>4</td>\n",
       "      <td>160</td>\n",
       "      <td>3</td>\n",
       "      <td>-1</td>\n",
       "      <td>-1</td>\n",
       "      <td>-1</td>\n",
       "      <td>-1</td>\n",
       "      <td>...</td>\n",
       "      <td>-1</td>\n",
       "      <td>-1</td>\n",
       "      <td>-1</td>\n",
       "      <td>-1</td>\n",
       "      <td>-1</td>\n",
       "      <td>-1</td>\n",
       "      <td>-1</td>\n",
       "      <td>-1</td>\n",
       "      <td>-1</td>\n",
       "      <td>1</td>\n",
       "    </tr>\n",
       "    <tr>\n",
       "      <th>4</th>\n",
       "      <td>113238420</td>\n",
       "      <td>0</td>\n",
       "      <td>2138</td>\n",
       "      <td>9</td>\n",
       "      <td>1993</td>\n",
       "      <td>4</td>\n",
       "      <td>50</td>\n",
       "      <td>1</td>\n",
       "      <td>-1</td>\n",
       "      <td>-1</td>\n",
       "      <td>...</td>\n",
       "      <td>-1</td>\n",
       "      <td>-1</td>\n",
       "      <td>-1</td>\n",
       "      <td>-1</td>\n",
       "      <td>-1</td>\n",
       "      <td>-1</td>\n",
       "      <td>-1</td>\n",
       "      <td>-1</td>\n",
       "      <td>-1</td>\n",
       "      <td>0</td>\n",
       "    </tr>\n",
       "  </tbody>\n",
       "</table>\n",
       "<p>5 rows × 23 columns</p>\n",
       "</div>"
      ],
      "text/plain": [
       "      Target  EXPOSED  AntennaID_0  count_0  AntennaID_1  count_1  \\\n",
       "0  113241030        0         3715       24           -1       -1   \n",
       "1  113240295        0         1082        4          942        1   \n",
       "2  113238925        0         4034        7         4023        1   \n",
       "3  113238845        1           29        4          160        3   \n",
       "4  113238420        0         2138        9         1993        4   \n",
       "\n",
       "   AntennaID_2  count_2  AntennaID_3  count_3    ...     count_5  AntennaID_6  \\\n",
       "0           -1       -1           -1       -1    ...          -1           -1   \n",
       "1         3450        1           -1       -1    ...          -1           -1   \n",
       "2           -1       -1           -1       -1    ...          -1           -1   \n",
       "3           -1       -1           -1       -1    ...          -1           -1   \n",
       "4           50        1           -1       -1    ...          -1           -1   \n",
       "\n",
       "   count_6  AntennaID_7  count_7  AntennaID_8  count_8  AntennaID_9  count_9  \\\n",
       "0       -1           -1       -1           -1       -1           -1       -1   \n",
       "1       -1           -1       -1           -1       -1           -1       -1   \n",
       "2       -1           -1       -1           -1       -1           -1       -1   \n",
       "3       -1           -1       -1           -1       -1           -1       -1   \n",
       "4       -1           -1       -1           -1       -1           -1       -1   \n",
       "\n",
       "   EPIDEMIC  \n",
       "0         0  \n",
       "1         0  \n",
       "2         0  \n",
       "3         1  \n",
       "4         0  \n",
       "\n",
       "[5 rows x 23 columns]"
      ]
     },
     "execution_count": 29,
     "metadata": {},
     "output_type": "execute_result"
    }
   ],
   "source": [
    "test_table =test_table.join(antennas[['LATITUDE','LONGITUDE']], on=='AntennaID_0')"
   ]
  },
  {
   "cell_type": "code",
   "execution_count": 36,
   "metadata": {
    "collapsed": false
   },
   "outputs": [
    {
     "data": {
      "text/plain": [
       "14.682"
      ]
     },
     "execution_count": 36,
     "metadata": {},
     "output_type": "execute_result"
    }
   ],
   "source": [
    "antennas.iloc[1]['LATITUDE']"
   ]
  },
  {
   "cell_type": "code",
   "execution_count": null,
   "metadata": {
    "collapsed": true
   },
   "outputs": [],
   "source": []
  },
  {
   "cell_type": "code",
   "execution_count": null,
   "metadata": {
    "collapsed": true
   },
   "outputs": [],
   "source": []
  },
  {
   "cell_type": "code",
   "execution_count": null,
   "metadata": {
    "collapsed": true
   },
   "outputs": [],
   "source": []
  },
  {
   "cell_type": "code",
   "execution_count": 20,
   "metadata": {
    "collapsed": false
   },
   "outputs": [
    {
     "data": {
      "text/plain": [
       "'datosgeo/0315/Geo_Voz_Prepago_all_0315_test.txt.gz'"
      ]
     },
     "execution_count": 20,
     "metadata": {},
     "output_type": "execute_result"
    }
   ],
   "source": [
    "output_file"
   ]
  },
  {
   "cell_type": "code",
   "execution_count": 193,
   "metadata": {
    "collapsed": true
   },
   "outputs": [],
   "source": [
    "test_table.to_csv(output_file, index = True, \n",
    "                   header = True, mode='a',compression='gzip')"
   ]
  },
  {
   "cell_type": "code",
   "execution_count": 145,
   "metadata": {
    "collapsed": false
   },
   "outputs": [
    {
     "data": {
      "text/html": [
       "<div>\n",
       "<table border=\"1\" class=\"dataframe\">\n",
       "  <thead>\n",
       "    <tr style=\"text-align: right;\">\n",
       "      <th></th>\n",
       "      <th>Target</th>\n",
       "      <th>AntennaID_0</th>\n",
       "      <th>count_0</th>\n",
       "      <th>AntennaID_1</th>\n",
       "      <th>count_1</th>\n",
       "      <th>AntennaID_2</th>\n",
       "      <th>count_2</th>\n",
       "      <th>AntennaID_3</th>\n",
       "      <th>count_3</th>\n",
       "      <th>AntennaID_4</th>\n",
       "      <th>count_4</th>\n",
       "      <th>AntennaID_5</th>\n",
       "      <th>count_5</th>\n",
       "      <th>AntennaID_6</th>\n",
       "      <th>count_6</th>\n",
       "      <th>AntennaID_7</th>\n",
       "      <th>count_7</th>\n",
       "      <th>AntennaID_8</th>\n",
       "      <th>count_8</th>\n",
       "    </tr>\n",
       "  </thead>\n",
       "  <tbody>\n",
       "    <tr>\n",
       "      <th>4875</th>\n",
       "      <td>4875</td>\n",
       "      <td>1289</td>\n",
       "      <td>6</td>\n",
       "      <td>321</td>\n",
       "      <td>1</td>\n",
       "      <td>-1</td>\n",
       "      <td>-1</td>\n",
       "      <td>-1</td>\n",
       "      <td>-1</td>\n",
       "      <td>-1</td>\n",
       "      <td>-1</td>\n",
       "      <td>-1</td>\n",
       "      <td>-1</td>\n",
       "      <td>-1</td>\n",
       "      <td>-1</td>\n",
       "      <td>-1</td>\n",
       "      <td>-1</td>\n",
       "      <td>-1</td>\n",
       "      <td>-1</td>\n",
       "    </tr>\n",
       "  </tbody>\n",
       "</table>\n",
       "</div>"
      ],
      "text/plain": [
       "      Target  AntennaID_0  count_0  AntennaID_1  count_1  AntennaID_2  \\\n",
       "4875    4875         1289        6          321        1           -1   \n",
       "\n",
       "      count_2  AntennaID_3  count_3  AntennaID_4  count_4  AntennaID_5  \\\n",
       "4875       -1           -1       -1           -1       -1           -1   \n",
       "\n",
       "      count_5  AntennaID_6  count_6  AntennaID_7  count_7  AntennaID_8  \\\n",
       "4875       -1           -1       -1           -1       -1           -1   \n",
       "\n",
       "      count_8  \n",
       "4875       -1  "
      ]
     },
     "execution_count": 145,
     "metadata": {},
     "output_type": "execute_result"
    }
   ],
   "source": [
    "test_table_unique[test_table_unique['Target']==userid]"
   ]
  },
  {
   "cell_type": "code",
   "execution_count": 153,
   "metadata": {
    "collapsed": false
   },
   "outputs": [
    {
     "data": {
      "text/html": [
       "<div>\n",
       "<table border=\"1\" class=\"dataframe\">\n",
       "  <thead>\n",
       "    <tr style=\"text-align: right;\">\n",
       "      <th></th>\n",
       "      <th>Target</th>\n",
       "      <th>AntennaID</th>\n",
       "      <th>count</th>\n",
       "    </tr>\n",
       "  </thead>\n",
       "  <tbody>\n",
       "    <tr>\n",
       "      <th>415314</th>\n",
       "      <td>112929298</td>\n",
       "      <td>1641</td>\n",
       "      <td>3</td>\n",
       "    </tr>\n",
       "    <tr>\n",
       "      <th>415313</th>\n",
       "      <td>112929298</td>\n",
       "      <td>1640</td>\n",
       "      <td>2</td>\n",
       "    </tr>\n",
       "    <tr>\n",
       "      <th>415315</th>\n",
       "      <td>112929298</td>\n",
       "      <td>2775</td>\n",
       "      <td>1</td>\n",
       "    </tr>\n",
       "    <tr>\n",
       "      <th>311537</th>\n",
       "      <td>112691397</td>\n",
       "      <td>191</td>\n",
       "      <td>5</td>\n",
       "    </tr>\n",
       "    <tr>\n",
       "      <th>311536</th>\n",
       "      <td>112561507</td>\n",
       "      <td>1713</td>\n",
       "      <td>5</td>\n",
       "    </tr>\n",
       "  </tbody>\n",
       "</table>\n",
       "</div>"
      ],
      "text/plain": [
       "           Target  AntennaID  count\n",
       "415314  112929298       1641      3\n",
       "415313  112929298       1640      2\n",
       "415315  112929298       2775      1\n",
       "311537  112691397        191      5\n",
       "311536  112561507       1713      5"
      ]
     },
     "execution_count": 153,
     "metadata": {},
     "output_type": "execute_result"
    }
   ],
   "source": [
    "test_table.head()"
   ]
  },
  {
   "cell_type": "code",
   "execution_count": 154,
   "metadata": {
    "collapsed": false
   },
   "outputs": [
    {
     "data": {
      "text/plain": [
       "AntennaID\n",
       "2797    1\n",
       "3060    1\n",
       "3344    1\n",
       "3487    1\n",
       "1924    1\n",
       "Name: EPIDEMIC, dtype: int64"
      ]
     },
     "execution_count": 154,
     "metadata": {},
     "output_type": "execute_result"
    }
   ],
   "source": [
    "antennas['EPIDEMIC'].head()"
   ]
  },
  {
   "cell_type": "code",
   "execution_count": 156,
   "metadata": {
    "collapsed": true
   },
   "outputs": [],
   "source": [
    "pd.merge?"
   ]
  },
  {
   "cell_type": "code",
   "execution_count": 146,
   "metadata": {
    "collapsed": false
   },
   "outputs": [
    {
     "data": {
      "text/plain": [
       "Index([u'Target', u'AntennaID_0', u'count_0', u'AntennaID_1', u'count_1',\n",
       "       u'AntennaID_2', u'count_2', u'AntennaID_3', u'count_3', u'AntennaID_4',\n",
       "       u'count_4', u'AntennaID_5', u'count_5', u'AntennaID_6', u'count_6',\n",
       "       u'AntennaID_7', u'count_7', u'AntennaID_8', u'count_8'],\n",
       "      dtype='object')"
      ]
     },
     "execution_count": 146,
     "metadata": {},
     "output_type": "execute_result"
    }
   ],
   "source": [
    "test_table_unique.columns"
   ]
  },
  {
   "cell_type": "code",
   "execution_count": 87,
   "metadata": {
    "collapsed": false
   },
   "outputs": [],
   "source": [
    "grouped.sort_values(by=['Target','count'],ascending=True,inplace=True)"
   ]
  },
  {
   "cell_type": "code",
   "execution_count": null,
   "metadata": {
    "collapsed": true
   },
   "outputs": [],
   "source": [
    "bash_command = \"zcat ./%s | head -n20\" % test_file(output_file,num)\n",
    "#os.system(bash_command)"
   ]
  },
  {
   "cell_type": "code",
   "execution_count": 156,
   "metadata": {
    "collapsed": false
   },
   "outputs": [
    {
     "data": {
      "text/html": [
       "<div>\n",
       "<table border=\"1\" class=\"dataframe\">\n",
       "  <thead>\n",
       "    <tr style=\"text-align: right;\">\n",
       "      <th></th>\n",
       "      <th>Target</th>\n",
       "      <th>AntennaID</th>\n",
       "      <th>count</th>\n",
       "    </tr>\n",
       "  </thead>\n",
       "  <tbody>\n",
       "    <tr>\n",
       "      <th>578331</th>\n",
       "      <td>93</td>\n",
       "      <td>257</td>\n",
       "      <td>1</td>\n",
       "    </tr>\n",
       "    <tr>\n",
       "      <th>771835</th>\n",
       "      <td>94</td>\n",
       "      <td>1358</td>\n",
       "      <td>4</td>\n",
       "    </tr>\n",
       "    <tr>\n",
       "      <th>578332</th>\n",
       "      <td>453</td>\n",
       "      <td>153</td>\n",
       "      <td>2</td>\n",
       "    </tr>\n",
       "    <tr>\n",
       "      <th>578333</th>\n",
       "      <td>533</td>\n",
       "      <td>911</td>\n",
       "      <td>1</td>\n",
       "    </tr>\n",
       "    <tr>\n",
       "      <th>1158533</th>\n",
       "      <td>626</td>\n",
       "      <td>4155</td>\n",
       "      <td>1</td>\n",
       "    </tr>\n",
       "  </tbody>\n",
       "</table>\n",
       "</div>"
      ],
      "text/plain": [
       "         Target  AntennaID  count\n",
       "578331       93        257      1\n",
       "771835       94       1358      4\n",
       "578332      453        153      2\n",
       "578333      533        911      1\n",
       "1158533     626       4155      1"
      ]
     },
     "execution_count": 156,
     "metadata": {},
     "output_type": "execute_result"
    }
   ],
   "source": [
    "test_table.head()"
   ]
  },
  {
   "cell_type": "code",
   "execution_count": 153,
   "metadata": {
    "collapsed": false
   },
   "outputs": [
    {
     "data": {
      "text/plain": [
       "(1185932,)"
      ]
     },
     "execution_count": 153,
     "metadata": {},
     "output_type": "execute_result"
    }
   ],
   "source": [
    "sample['Target'].value_counts().shape"
   ]
  },
  {
   "cell_type": "code",
   "execution_count": 158,
   "metadata": {
    "collapsed": false
   },
   "outputs": [
    {
     "data": {
      "text/plain": [
       "(1185932,)"
      ]
     },
     "execution_count": 158,
     "metadata": {},
     "output_type": "execute_result"
    }
   ],
   "source": [
    "test_table['Target'].value_counts().shape"
   ]
  },
  {
   "cell_type": "code",
   "execution_count": 126,
   "metadata": {
    "collapsed": false,
    "scrolled": true
   },
   "outputs": [
    {
     "data": {
      "text/plain": [
       "(20870, 3)"
      ]
     },
     "execution_count": 126,
     "metadata": {},
     "output_type": "execute_result"
    }
   ],
   "source": [
    "test_table[test_table['Target']%10==1].shape"
   ]
  },
  {
   "cell_type": "code",
   "execution_count": 121,
   "metadata": {
    "collapsed": false,
    "scrolled": true
   },
   "outputs": [
    {
     "data": {
      "text/html": [
       "<div>\n",
       "<table border=\"1\" class=\"dataframe\">\n",
       "  <thead>\n",
       "    <tr style=\"text-align: right;\">\n",
       "      <th></th>\n",
       "      <th>Target</th>\n",
       "      <th>AntennaID</th>\n",
       "      <th>count</th>\n",
       "    </tr>\n",
       "  </thead>\n",
       "  <tbody>\n",
       "    <tr>\n",
       "      <th>96167</th>\n",
       "      <td>113239804</td>\n",
       "      <td>3104</td>\n",
       "      <td>1</td>\n",
       "    </tr>\n",
       "    <tr>\n",
       "      <th>78445</th>\n",
       "      <td>113229593</td>\n",
       "      <td>903</td>\n",
       "      <td>1</td>\n",
       "    </tr>\n",
       "    <tr>\n",
       "      <th>96166</th>\n",
       "      <td>113222784</td>\n",
       "      <td>1074</td>\n",
       "      <td>1</td>\n",
       "    </tr>\n",
       "    <tr>\n",
       "      <th>41305</th>\n",
       "      <td>113215661</td>\n",
       "      <td>2221</td>\n",
       "      <td>1</td>\n",
       "    </tr>\n",
       "    <tr>\n",
       "      <th>41304</th>\n",
       "      <td>113144521</td>\n",
       "      <td>3041</td>\n",
       "      <td>1</td>\n",
       "    </tr>\n",
       "    <tr>\n",
       "      <th>41303</th>\n",
       "      <td>113132241</td>\n",
       "      <td>521</td>\n",
       "      <td>1</td>\n",
       "    </tr>\n",
       "    <tr>\n",
       "      <th>96165</th>\n",
       "      <td>113099324</td>\n",
       "      <td>2774</td>\n",
       "      <td>1</td>\n",
       "    </tr>\n",
       "    <tr>\n",
       "      <th>20435</th>\n",
       "      <td>113087850</td>\n",
       "      <td>590</td>\n",
       "      <td>1</td>\n",
       "    </tr>\n",
       "    <tr>\n",
       "      <th>96164</th>\n",
       "      <td>113066214</td>\n",
       "      <td>804</td>\n",
       "      <td>2</td>\n",
       "    </tr>\n",
       "    <tr>\n",
       "      <th>41302</th>\n",
       "      <td>113064601</td>\n",
       "      <td>2331</td>\n",
       "      <td>1</td>\n",
       "    </tr>\n",
       "    <tr>\n",
       "      <th>96163</th>\n",
       "      <td>113056884</td>\n",
       "      <td>2034</td>\n",
       "      <td>1</td>\n",
       "    </tr>\n",
       "    <tr>\n",
       "      <th>41301</th>\n",
       "      <td>113051801</td>\n",
       "      <td>1051</td>\n",
       "      <td>1</td>\n",
       "    </tr>\n",
       "    <tr>\n",
       "      <th>96162</th>\n",
       "      <td>113051044</td>\n",
       "      <td>1724</td>\n",
       "      <td>1</td>\n",
       "    </tr>\n",
       "    <tr>\n",
       "      <th>41300</th>\n",
       "      <td>113046601</td>\n",
       "      <td>2881</td>\n",
       "      <td>1</td>\n",
       "    </tr>\n",
       "    <tr>\n",
       "      <th>20434</th>\n",
       "      <td>113044180</td>\n",
       "      <td>1360</td>\n",
       "      <td>1</td>\n",
       "    </tr>\n",
       "    <tr>\n",
       "      <th>78444</th>\n",
       "      <td>113024473</td>\n",
       "      <td>3113</td>\n",
       "      <td>1</td>\n",
       "    </tr>\n",
       "    <tr>\n",
       "      <th>41299</th>\n",
       "      <td>112980071</td>\n",
       "      <td>1301</td>\n",
       "      <td>1</td>\n",
       "    </tr>\n",
       "    <tr>\n",
       "      <th>96161</th>\n",
       "      <td>112964084</td>\n",
       "      <td>4184</td>\n",
       "      <td>1</td>\n",
       "    </tr>\n",
       "    <tr>\n",
       "      <th>20433</th>\n",
       "      <td>112963180</td>\n",
       "      <td>4290</td>\n",
       "      <td>1</td>\n",
       "    </tr>\n",
       "    <tr>\n",
       "      <th>59932</th>\n",
       "      <td>112962052</td>\n",
       "      <td>2292</td>\n",
       "      <td>1</td>\n",
       "    </tr>\n",
       "  </tbody>\n",
       "</table>\n",
       "</div>"
      ],
      "text/plain": [
       "          Target  AntennaID  count\n",
       "96167  113239804       3104      1\n",
       "78445  113229593        903      1\n",
       "96166  113222784       1074      1\n",
       "41305  113215661       2221      1\n",
       "41304  113144521       3041      1\n",
       "41303  113132241        521      1\n",
       "96165  113099324       2774      1\n",
       "20435  113087850        590      1\n",
       "96164  113066214        804      2\n",
       "41302  113064601       2331      1\n",
       "96163  113056884       2034      1\n",
       "41301  113051801       1051      1\n",
       "96162  113051044       1724      1\n",
       "41300  113046601       2881      1\n",
       "20434  113044180       1360      1\n",
       "78444  113024473       3113      1\n",
       "41299  112980071       1301      1\n",
       "96161  112964084       4184      1\n",
       "20433  112963180       4290      1\n",
       "59932  112962052       2292      1"
      ]
     },
     "execution_count": 121,
     "metadata": {},
     "output_type": "execute_result"
    }
   ],
   "source": [
    "test_table.head(20)"
   ]
  },
  {
   "cell_type": "code",
   "execution_count": 45,
   "metadata": {
    "collapsed": false
   },
   "outputs": [
    {
     "data": {
      "text/plain": [
       "(4429, 4)"
      ]
     },
     "execution_count": 45,
     "metadata": {},
     "output_type": "execute_result"
    }
   ],
   "source": [
    "antennas.shape"
   ]
  },
  {
   "cell_type": "code",
   "execution_count": 21,
   "metadata": {
    "collapsed": true
   },
   "outputs": [],
   "source": [
    "#enriquezco el dataset con la info de antennas_mexico.csv\n",
    "enriched_sample = pd.merge(grouped,antennas[[\"EPIDEMIC\",\"STATE\"]],left_on=\"AntennaID\",right_index=True)\n",
    "#enriched_sample2 = pd.merge(sample2,antennas[[\"EPIDEMIC\",\"STATE\"]],left_on=\"AntennaID\",right_index=True)aa"
   ]
  },
  {
   "cell_type": "markdown",
   "metadata": {},
   "source": [
    "## Lo viejo:(20/12)\n",
    "intentamos usar pandas para lograr este resultado y no reventaba la memoria del server para archivos de maximo 2GB (escribia el output file.. todo bien). Cuando GranData corrigio el simple_format los archivos se hicieron 4/5x veces mas grandes de tamanyo con lo cual pandas ya no aguantaba. Entonces pase a trabajar en c++ y usar pandas para corroborrar el resultadoe en archivos pequenyos."
   ]
  },
  {
   "cell_type": "code",
   "execution_count": 64,
   "metadata": {
    "collapsed": false
   },
   "outputs": [],
   "source": [
    "enriched_sample.sort_values(by='TimeStamp',ascending=True,inplace=True)\n",
    "enriched_sample2.sort_values(by='TimeStamp',ascending=True,inplace=True)"
   ]
  },
  {
   "cell_type": "code",
   "execution_count": 65,
   "metadata": {
    "collapsed": false
   },
   "outputs": [
    {
     "data": {
      "text/html": [
       "<div>\n",
       "<table border=\"1\" class=\"dataframe\">\n",
       "  <thead>\n",
       "    <tr style=\"text-align: right;\">\n",
       "      <th></th>\n",
       "      <th>Target</th>\n",
       "      <th>Destination</th>\n",
       "      <th>Direction</th>\n",
       "      <th>TimeStamp</th>\n",
       "      <th>Duration</th>\n",
       "      <th>AntennaID</th>\n",
       "      <th>EPIDEMIC</th>\n",
       "      <th>STATE</th>\n",
       "    </tr>\n",
       "  </thead>\n",
       "  <tbody>\n",
       "    <tr>\n",
       "      <th>8971599</th>\n",
       "      <td>69192599</td>\n",
       "      <td>92013321</td>\n",
       "      <td>I</td>\n",
       "      <td>63158403</td>\n",
       "      <td>30</td>\n",
       "      <td>294</td>\n",
       "      <td>1</td>\n",
       "      <td>Hidalgo</td>\n",
       "    </tr>\n",
       "    <tr>\n",
       "      <th>12096070</th>\n",
       "      <td>94258325</td>\n",
       "      <td>71921565</td>\n",
       "      <td>O</td>\n",
       "      <td>63158404</td>\n",
       "      <td>14</td>\n",
       "      <td>897</td>\n",
       "      <td>1</td>\n",
       "      <td>Veracruz</td>\n",
       "    </tr>\n",
       "    <tr>\n",
       "      <th>3316840</th>\n",
       "      <td>1071787</td>\n",
       "      <td>70056182</td>\n",
       "      <td>I</td>\n",
       "      <td>63158405</td>\n",
       "      <td>63</td>\n",
       "      <td>668</td>\n",
       "      <td>1</td>\n",
       "      <td>Veracruz</td>\n",
       "    </tr>\n",
       "    <tr>\n",
       "      <th>6523154</th>\n",
       "      <td>4684133</td>\n",
       "      <td>70938133</td>\n",
       "      <td>O</td>\n",
       "      <td>63158410</td>\n",
       "      <td>214</td>\n",
       "      <td>1967</td>\n",
       "      <td>1</td>\n",
       "      <td>Jalisco</td>\n",
       "    </tr>\n",
       "    <tr>\n",
       "      <th>7334059</th>\n",
       "      <td>14804008</td>\n",
       "      <td>92958043</td>\n",
       "      <td>O</td>\n",
       "      <td>63158415</td>\n",
       "      <td>219</td>\n",
       "      <td>1623</td>\n",
       "      <td>1</td>\n",
       "      <td>Hidalgo</td>\n",
       "    </tr>\n",
       "  </tbody>\n",
       "</table>\n",
       "</div>"
      ],
      "text/plain": [
       "            Target  Destination Direction  TimeStamp  Duration  AntennaID  \\\n",
       "8971599   69192599     92013321         I   63158403        30        294   \n",
       "12096070  94258325     71921565         O   63158404        14        897   \n",
       "3316840    1071787     70056182         I   63158405        63        668   \n",
       "6523154    4684133     70938133         O   63158410       214       1967   \n",
       "7334059   14804008     92958043         O   63158415       219       1623   \n",
       "\n",
       "          EPIDEMIC     STATE  \n",
       "8971599          1   Hidalgo  \n",
       "12096070         1  Veracruz  \n",
       "3316840          1  Veracruz  \n",
       "6523154          1   Jalisco  \n",
       "7334059          1   Hidalgo  "
      ]
     },
     "execution_count": 65,
     "metadata": {},
     "output_type": "execute_result"
    }
   ],
   "source": [
    "enriched_sample.head()"
   ]
  },
  {
   "cell_type": "markdown",
   "metadata": {
    "collapsed": false
   },
   "source": [
    "## Mobility\n",
    "La idea es ahora mirar dentro de la base (prototipamos con sample) la lista de antenas utilizadas por cada usuario para obtener la variable dependiente $Y$ que vendria a ser si el tipo viajo o no por la zona endemica (visto como un llamado basicamente desde una antena en la epidemic zone). Despues buscaremos atributos, o variables regresoras que logren predecir ese comportamiento en el pasado pero usando solo los atributos en un timeframe \"del futuro\". Busco atributos que correlacionen con 'haber viajado por la zona endemica en el pasado'\n",
    "#### pseudocode:\n",
    "* tomamos el set de targets de la tabla.\n",
    "* p/c/user lo mapeamos a un conjunto de antenas que sabemos que el tipo uso en algun CDR. Aca usamos alguna operacion groupby donde donde el key va a ser la columna target y la data a mirar es la AntennaID. Ahi extraemos la lista de antenas que el user uso. \n",
    "* descartamos del **monthly** dataset los users con \"mal\" uso, i.e. aquellos que su conjunto de antenas da menor que un threshold $ \\beta$ (=5) y mayor que un limite (de 400) en este caso, que coresponderia a los users spammers/call-centers. Asi obtendremos una lista de usuarios de la telco que viajaron por mexico a partir de sus llamados en ese mes. Para eligir la cota superior basta con crear histogramas que muestren la funcion de distribucion para el ['Target']value_counts de los dataframes de llamados mensuales y ver que ya cualquier valor por encima de eso da un buen indicio de outlier/spammer.\n"
   ]
  },
  {
   "cell_type": "code",
   "execution_count": 6,
   "metadata": {
    "collapsed": false
   },
   "outputs": [],
   "source": [
    "#observar que el indice seria el target y el count seria el value de la serie\n",
    "insignificant_users = tabla_mensual['Target'].value_counts()[(tabla_mensual['Target'].value_counts() <= 5) | (tabla_mensual['Target'].value_counts() >= 400)]\n",
    "insignificant_users =  insignificant_users.index.values.tolist()\n",
    "insignificant_users2 = tabla2_mensual['Target'].value_counts()[(tabla2_mensual['Target'].value_counts() <= 5) | (tabla2_mensual['Target'].value_counts() >= 400)]#insignificant_users2 =  insignificant_users2.index.values.tolist()"
   ]
  },
  {
   "cell_type": "code",
   "execution_count": 10,
   "metadata": {
    "collapsed": true
   },
   "outputs": [],
   "source": [
    "#me quedo con los CDRs que NO corresponden con estos targets\n",
    "tabla_mensual = tabla_mensual[~tabla_mensual['Target'].isin(insignificant_users)]\n",
    "tabla2_mensual = tabla2_mensual[~tabla2_mensual['Target'].isin(insignificant_users2)]"
   ]
  },
  {
   "cell_type": "code",
   "execution_count": 11,
   "metadata": {
    "collapsed": true
   },
   "outputs": [],
   "source": [
    "#con esto extraigo el mapping user --> antennas used that month\n",
    "user_antenna_map2 = tabla2_mensual.groupby('Target')['AntennaID'].apply(lambda x: x.tolist()).to_dict();\n",
    "user_antenna_map = tabla_mensual.groupby('Target')['AntennaID'].apply(lambda x: x.tolist()).to_dict();\n"
   ]
  },
  {
   "cell_type": "code",
   "execution_count": 12,
   "metadata": {
    "collapsed": false,
    "scrolled": true
   },
   "outputs": [
    {
     "data": {
      "text/plain": [
       "[331, 99, 686, 100, 99, 686, 100, 861, 99, 79, 79, 861, 219, 624, 686, 686]"
      ]
     },
     "execution_count": 12,
     "metadata": {},
     "output_type": "execute_result"
    }
   ],
   "source": [
    "#hago unos testeos a mano para ver si levanto bien lo que queriamos.. i.e. si guardo todas las antenas de un user para c/CDR\n",
    "user_antenna_map[1546770]"
   ]
  },
  {
   "cell_type": "code",
   "execution_count": 13,
   "metadata": {
    "collapsed": false,
    "scrolled": true
   },
   "outputs": [
    {
     "data": {
      "text/html": [
       "<div>\n",
       "<table border=\"1\" class=\"dataframe\">\n",
       "  <thead>\n",
       "    <tr style=\"text-align: right;\">\n",
       "      <th></th>\n",
       "      <th>Target</th>\n",
       "      <th>Destination</th>\n",
       "      <th>Direction</th>\n",
       "      <th>TimeStamp</th>\n",
       "      <th>Duration</th>\n",
       "      <th>AntennaID</th>\n",
       "    </tr>\n",
       "  </thead>\n",
       "  <tbody>\n",
       "    <tr>\n",
       "      <th>4244460</th>\n",
       "      <td>1546770</td>\n",
       "      <td>71541497</td>\n",
       "      <td>I</td>\n",
       "      <td>63240962</td>\n",
       "      <td>27</td>\n",
       "      <td>331</td>\n",
       "    </tr>\n",
       "    <tr>\n",
       "      <th>4244461</th>\n",
       "      <td>1546770</td>\n",
       "      <td>69908764</td>\n",
       "      <td>O</td>\n",
       "      <td>65262492</td>\n",
       "      <td>28</td>\n",
       "      <td>99</td>\n",
       "    </tr>\n",
       "    <tr>\n",
       "      <th>4244462</th>\n",
       "      <td>1546770</td>\n",
       "      <td>93291721</td>\n",
       "      <td>O</td>\n",
       "      <td>65270682</td>\n",
       "      <td>105</td>\n",
       "      <td>686</td>\n",
       "    </tr>\n",
       "    <tr>\n",
       "      <th>4244463</th>\n",
       "      <td>1546770</td>\n",
       "      <td>93291721</td>\n",
       "      <td>I</td>\n",
       "      <td>65272482</td>\n",
       "      <td>66</td>\n",
       "      <td>100</td>\n",
       "    </tr>\n",
       "    <tr>\n",
       "      <th>4244464</th>\n",
       "      <td>1546770</td>\n",
       "      <td>70088843</td>\n",
       "      <td>O</td>\n",
       "      <td>65285078</td>\n",
       "      <td>149</td>\n",
       "      <td>99</td>\n",
       "    </tr>\n",
       "    <tr>\n",
       "      <th>4244465</th>\n",
       "      <td>1546770</td>\n",
       "      <td>94419977</td>\n",
       "      <td>I</td>\n",
       "      <td>65375387</td>\n",
       "      <td>44</td>\n",
       "      <td>686</td>\n",
       "    </tr>\n",
       "    <tr>\n",
       "      <th>4244466</th>\n",
       "      <td>1546770</td>\n",
       "      <td>94419977</td>\n",
       "      <td>O</td>\n",
       "      <td>65380705</td>\n",
       "      <td>64</td>\n",
       "      <td>100</td>\n",
       "    </tr>\n",
       "    <tr>\n",
       "      <th>4244467</th>\n",
       "      <td>1546770</td>\n",
       "      <td>70088843</td>\n",
       "      <td>O</td>\n",
       "      <td>65387679</td>\n",
       "      <td>29</td>\n",
       "      <td>861</td>\n",
       "    </tr>\n",
       "    <tr>\n",
       "      <th>4244468</th>\n",
       "      <td>1546770</td>\n",
       "      <td>93291767</td>\n",
       "      <td>O</td>\n",
       "      <td>65391085</td>\n",
       "      <td>20</td>\n",
       "      <td>99</td>\n",
       "    </tr>\n",
       "    <tr>\n",
       "      <th>14260114</th>\n",
       "      <td>1546770</td>\n",
       "      <td>93291767</td>\n",
       "      <td>O</td>\n",
       "      <td>64073590</td>\n",
       "      <td>47</td>\n",
       "      <td>79</td>\n",
       "    </tr>\n",
       "    <tr>\n",
       "      <th>14260115</th>\n",
       "      <td>1546770</td>\n",
       "      <td>75840931</td>\n",
       "      <td>I</td>\n",
       "      <td>64076634</td>\n",
       "      <td>37</td>\n",
       "      <td>79</td>\n",
       "    </tr>\n",
       "    <tr>\n",
       "      <th>14260116</th>\n",
       "      <td>1546770</td>\n",
       "      <td>97</td>\n",
       "      <td>O</td>\n",
       "      <td>64086607</td>\n",
       "      <td>3</td>\n",
       "      <td>861</td>\n",
       "    </tr>\n",
       "    <tr>\n",
       "      <th>14260117</th>\n",
       "      <td>1546770</td>\n",
       "      <td>93291767</td>\n",
       "      <td>O</td>\n",
       "      <td>64093147</td>\n",
       "      <td>24</td>\n",
       "      <td>219</td>\n",
       "    </tr>\n",
       "    <tr>\n",
       "      <th>14260118</th>\n",
       "      <td>1546770</td>\n",
       "      <td>93291657</td>\n",
       "      <td>I</td>\n",
       "      <td>64160708</td>\n",
       "      <td>26</td>\n",
       "      <td>624</td>\n",
       "    </tr>\n",
       "    <tr>\n",
       "      <th>14260119</th>\n",
       "      <td>1546770</td>\n",
       "      <td>70088843</td>\n",
       "      <td>O</td>\n",
       "      <td>64164682</td>\n",
       "      <td>62</td>\n",
       "      <td>686</td>\n",
       "    </tr>\n",
       "    <tr>\n",
       "      <th>14260120</th>\n",
       "      <td>1546770</td>\n",
       "      <td>70088843</td>\n",
       "      <td>O</td>\n",
       "      <td>64188262</td>\n",
       "      <td>19</td>\n",
       "      <td>686</td>\n",
       "    </tr>\n",
       "  </tbody>\n",
       "</table>\n",
       "</div>"
      ],
      "text/plain": [
       "           Target  Destination Direction  TimeStamp  Duration  AntennaID\n",
       "4244460   1546770     71541497         I   63240962        27        331\n",
       "4244461   1546770     69908764         O   65262492        28         99\n",
       "4244462   1546770     93291721         O   65270682       105        686\n",
       "4244463   1546770     93291721         I   65272482        66        100\n",
       "4244464   1546770     70088843         O   65285078       149         99\n",
       "4244465   1546770     94419977         I   65375387        44        686\n",
       "4244466   1546770     94419977         O   65380705        64        100\n",
       "4244467   1546770     70088843         O   65387679        29        861\n",
       "4244468   1546770     93291767         O   65391085        20         99\n",
       "14260114  1546770     93291767         O   64073590        47         79\n",
       "14260115  1546770     75840931         I   64076634        37         79\n",
       "14260116  1546770           97         O   64086607         3        861\n",
       "14260117  1546770     93291767         O   64093147        24        219\n",
       "14260118  1546770     93291657         I   64160708        26        624\n",
       "14260119  1546770     70088843         O   64164682        62        686\n",
       "14260120  1546770     70088843         O   64188262        19        686"
      ]
     },
     "execution_count": 13,
     "metadata": {},
     "output_type": "execute_result"
    }
   ],
   "source": [
    "tabla_mensual[tabla_mensual['Target']==1546770]"
   ]
  },
  {
   "cell_type": "code",
   "execution_count": 14,
   "metadata": {
    "collapsed": false,
    "scrolled": true
   },
   "outputs": [
    {
     "data": {
      "text/plain": [
       "<matplotlib.axes._subplots.AxesSubplot at 0x7fc3980ab050>"
      ]
     },
     "execution_count": 14,
     "metadata": {},
     "output_type": "execute_result"
    },
    {
     "data": {
      "image/png": "[encoded data removed]",
      "text/plain": [
       "<matplotlib.figure.Figure at 0x7fc3636a99d0>"
      ]
     },
     "metadata": {},
     "output_type": "display_data"
    }
   ],
   "source": [
    "#para observar la distribucion de veces que un usuario llama en un mes.\n",
    "tabla_mensual['Target'].value_counts().hist(bins=100)"
   ]
  },
  {
   "cell_type": "code",
   "execution_count": 15,
   "metadata": {
    "collapsed": false
   },
   "outputs": [
    {
     "data": {
      "text/plain": [
       "<matplotlib.axes._subplots.AxesSubplot at 0x7fc23f0e4390>"
      ]
     },
     "execution_count": 15,
     "metadata": {},
     "output_type": "execute_result"
    },
    {
     "data": {
      "image/png": "[encoded data removed]",
      "text/plain": [
       "<matplotlib.figure.Figure at 0x7fc23f0db2d0>"
      ]
     },
     "metadata": {},
     "output_type": "display_data"
    }
   ],
   "source": [
    "tabla2_mensual['Target'].value_counts().hist(bins=100)"
   ]
  },
  {
   "cell_type": "code",
   "execution_count": 2,
   "metadata": {
    "collapsed": false
   },
   "outputs": [
    {
     "name": "stdout",
     "output_type": "stream",
     "text": [
      "0\tdatosgeo/0415/Geo_Voz_Pospago_all_0415.txt.gz\r\n",
      "1.4G\tdatosgeo/0415/Geo_Voz_Prepago_all_0415.txt.gz\r\n"
     ]
    }
   ],
   "source": [
    "!du -ha datosgeo/0415/Geo*"
   ]
  },
  {
   "cell_type": "markdown",
   "metadata": {},
   "source": [
    "## Cuidado!\n",
    "* como el comando \"head\" lee lineas. y el json file es toda una linea (no guardo '\\n' en ningun lado) si yo pido head asi nomas rompo el notebook y tengo que resetear firefox\n",
    "* NO se puede usar JSON para guardar un dict de \"ints\" porque convierte todo a strings y despues no se puede volver a recuperar el type pues lee todo como un gran unicode list. Usar cPickle ^^  ...hasta pandas lo levanta. El unico problema es que cuando abris un .p como texto no es human readable.."
   ]
  },
  {
   "cell_type": "code",
   "execution_count": null,
   "metadata": {
    "collapsed": true
   },
   "outputs": [],
   "source": [
    "with open('test_data.p', 'wb') as fp:\n",
    "    pickle.dump(user_antenna_map, fp)\n",
    "\n",
    "with open('test_data.p', 'rb') as fp:\n",
    "    data = pickle.load(fp)"
   ]
  },
  {
   "cell_type": "code",
   "execution_count": null,
   "metadata": {
    "collapsed": false,
    "scrolled": true
   },
   "outputs": [],
   "source": [
    "##este script es muy pesado en memoria para el tamanyo del dataset.. no se va a poder usar\n",
    "#rootdir = '/home/juan/mobility-study/datosgeo'\n",
    "#os.chdir(rootdir)\n",
    "#directory = \"0415\"\n",
    "#tabla_mensual = pd.read_csv(directory +'/Geo_Voz_Prepago_all_' + directory + '.txt.gz',sep = \" \", \n",
    " #             names = ['Target','Destination','Direction','TimeStamp','Duration','AntennaID'],\n",
    "#                        engine = 'c',index_col=None, lineterminator='\\n', skipinitialspace=True, \n",
    "#                    header=None,dtype = {'Target':np.int32,'Destination':np.uint32,'TimeStamp':np.uint32,\n",
    "#                                      'Duration':np.uint16,'AntennaID':np.uint16,'Direction':np.object_})\n",
    "#insignificant_users = tabla_mensual['Target'].value_counts()[(tabla_mensual['Target'].value_counts() <= 5) \\\n",
    "#                    | (tabla_mensual['Target'].value_counts() >= 400)].index.values.tolist()\n",
    "\n",
    "## tal vez habria que ver de probar rosetta aca para ver si podemos aprovechar la paralelizacion\n",
    "\n",
    "#filtro los usuarios irrelevantes y armo el diccionario con key= users, values = antenna_list    \n",
    "tabla_mensual= tabla_mensual[~tabla_mensual['Target'].isin(insignificant_users)] \n",
    "user_antenna_map = tabla_mensual.groupby('Target')['AntennaID']\n",
    "user_antenna_map = user_antenna_map.apply(lambda x: x.tolist()).to_dict();\n",
    "del tabla_mensual; del insignificant_users\n",
    "\n",
    "with open(directory + \"/\" + 'Geo_Voz_Prepago_user-antenna-map_' + directory +'.p', 'wb') as fp:\n",
    "    pickle.dump(user_antenna_map, fp)\n",
    "\n",
    "del user_antenna_map"
   ]
  },
  {
   "cell_type": "markdown",
   "metadata": {},
   "source": [
    "## Lo nuevo (20/12)\n",
    "primero creo un script en c++ que asigna antennas a usuarios que tengan un call_count mensual de mas de 5 y menos de 400.\n",
    "Para elegir la antenna considero basicamente la que mas usa. Y si hay empate, toma la antennaID que utilizo primero... (despues se ampliara). Con pandas la idea es chequear que este funcionando correctamente el codigo."
   ]
  },
  {
   "cell_type": "code",
   "execution_count": 3,
   "metadata": {
    "collapsed": false
   },
   "outputs": [
    {
     "name": "stdout",
     "output_type": "stream",
     "text": [
      "0\tdatosgeo/0315/Geo_Voz_Pospago_all_0315.txt.gz\r\n",
      "1.3G\tdatosgeo/0315/Geo_Voz_Prepago_all_0315.txt.gz\r\n"
     ]
    }
   ],
   "source": [
    "!du -ha datosgeo/0315/Geo*"
   ]
  },
  {
   "cell_type": "code",
   "execution_count": 4,
   "metadata": {
    "collapsed": false
   },
   "outputs": [],
   "source": [
    "rootdir=\"/home/juan/mobility-study\"\n",
    "os.chdir(rootdir)\n",
    "directory = \"0315\"; contract_type=\"Prepago\";\n",
    "tabla_mensual = pd.read_csv('datosgeo/%s/Geo_Voz_%s_all_%s.txt.gz' % (directory,contract_type,directory),sep = \" \", \n",
    "              names = ['Target','Destination','Direction','TimeStamp','Duration','AntennaID'],\n",
    "                             engine = 'c',index_col=None, lineterminator='\\n', skipinitialspace=True, \n",
    "                    header=None,dtype = {'Target':np.int32,'Destination':np.uint32,'TimeStamp':np.uint32,\n",
    "                                      'Duration':np.uint16,'AntennaID':np.uint16,'Direction':np.object_})"
   ]
  },
  {
   "cell_type": "code",
   "execution_count": null,
   "metadata": {
    "collapsed": true
   },
   "outputs": [],
   "source": [
    "a=0"
   ]
  },
  {
   "cell_type": "code",
   "execution_count": 5,
   "metadata": {
    "collapsed": true
   },
   "outputs": [],
   "source": [
    "#tomamos un sample de 6 millones de usuarios\n",
    "sample =  tabla_mensual.sample(6*10**6)"
   ]
  },
  {
   "cell_type": "code",
   "execution_count": null,
   "metadata": {
    "collapsed": true
   },
   "outputs": [],
   "source": [
    "directory,contract_type"
   ]
  },
  {
   "cell_type": "code",
   "execution_count": null,
   "metadata": {
    "collapsed": false
   },
   "outputs": [],
   "source": [
    "#guardamos en el rootdir para trabajar sobre archivos mas chico\n",
    "sample.to_csv('datosgeo/%s/Geo_Voz_%s_all_%s_sample.txt.gz' % (directory,contract_type,directory),sep=\" \", header = False,\n",
    "              index = False, encoding = 'utf-8', compression = 'gzip')"
   ]
  },
  {
   "cell_type": "code",
   "execution_count": 3,
   "metadata": {
    "collapsed": false,
    "scrolled": true
   },
   "outputs": [],
   "source": [
    "rootdir=\"/home/juan/mobility-study\"\n",
    "os.chdir(rootdir)\n",
    "directory = \"0315\"; contract_type=\"Pospago\";\n",
    "tabla_mensual = pd.read_csv('datosgeotest/%s/Geo_Voz_%s_all_%s.txt.gz' % (directory,contract_type,directory),sep = \" \", \n",
    "              names = ['Target','Destination','Direction','TimeStamp','Duration','AntennaID'],\n",
    "                             engine = 'c',index_col=None, lineterminator='\\n', skipinitialspace=True, \n",
    "                    header=None,dtype = {'Target':np.int32,'Destination':np.uint32,'TimeStamp':np.uint32,\n",
    "                                      'Duration':np.uint16,'AntennaID':np.uint16,'Direction':np.object_})\n",
    "tabla_mensual['TimeStamp'] =  (tabla_mensual.TimeStamp.values*1.0/3600)%24\n",
    "\n",
    "insignificant_users = tabla_mensual['Target'].value_counts()[(tabla_mensual['Target'].value_counts() < 5) \\\n",
    "                    | (tabla_mensual['Target'].value_counts() > 400)].index.values.tolist()\n",
    "tabla_mensual= tabla_mensual.loc[~tabla_mensual['Target'].isin(insignificant_users),['Target','TimeStamp','AntennaID']]\n",
    "\n",
    "del insignificant_users"
   ]
  },
  {
   "cell_type": "code",
   "execution_count": 76,
   "metadata": {
    "collapsed": true
   },
   "outputs": [],
   "source": [
    "#OBS.: es importante volver a hacer el \"refiltrado\" de insignificant users pues al aplicar nightfilter tire varios \n",
    "## llamados, y al hacer esto tal vez un usuario que antes tenia 10 llamados pre filtrado, ahora tiene 3 llamados postfiltrado\n",
    "\n",
    "tabla_mensual_nightfilter = tabla_mensual.loc[(tabla_mensual['TimeStamp']<8) | (tabla_mensual['TimeStamp']>18)]\n",
    "\n",
    "insignificant_users_nightfilter = tabla_mensual_nightfilter['Target'].value_counts()[(tabla_mensual_nightfilter['Target'].value_counts() < 5) \\\n",
    "                    | (tabla_mensual_nightfilter['Target'].value_counts() > 400)].index.values.tolist()\n",
    "tabla_mensual_nightfilter= tabla_mensual_nightfilter.loc[~tabla_mensual_nightfilter['Target'].isin(insignificant_users_nightfilter),['Target','TimeStamp','AntennaID']]\n",
    "del insignificant_users_nightfilter"
   ]
  },
  {
   "cell_type": "code",
   "execution_count": 152,
   "metadata": {
    "collapsed": false
   },
   "outputs": [
    {
     "data": {
      "text/plain": [
       "((17813896, 3), (5915607, 3))"
      ]
     },
     "execution_count": 152,
     "metadata": {},
     "output_type": "execute_result"
    }
   ],
   "source": [
    "tabla_mensual.shape ,tabla_mensual_nightfilter.shape"
   ]
  },
  {
   "cell_type": "code",
   "execution_count": 6,
   "metadata": {
    "collapsed": true
   },
   "outputs": [],
   "source": [
    "#defino la funcion que asigna antenas a los users.\n",
    "def first_max_antenna(x):\n",
    "    sol = -1\n",
    "    a= x.tolist()\n",
    "    if not(len(a)<5 or len (a)>400):\n",
    "        sol = max(set(a), key=a.count)\n",
    "    \n",
    "    return sol\n"
   ]
  },
  {
   "cell_type": "code",
   "execution_count": 162,
   "metadata": {
    "collapsed": false
   },
   "outputs": [],
   "source": [
    "cpp_user_antenna_map = pd.read_csv('./datosgeotest/%s/user_antenna_map/user_antenna_map_%s_%s.txt.gz' % (directory,contract_type,directory),\n",
    "                                   sep = \"|\",names = ['Target','AntennaID'], engine = 'c',index_col='Target', \n",
    "                                   lineterminator='\\n', skipinitialspace=True,skiprows=1,\n",
    "                    header=None,dtype = {'Target':np.int32,'AntennaID':np.int16})\n",
    "\n",
    "cpp_user_antenna_map_nightfilter = pd.read_csv('./datosgeotest/%s/user_antenna_map/user_antenna_map_%s_%s_nightfilter.txt.gz' % (directory,contract_type,directory),sep = \"|\", \n",
    "              names = ['Target','AntennaID'],\n",
    "                             engine = 'c',index_col='Target', lineterminator='\\n', skipinitialspace=True,skiprows=1,\n",
    "                    header=None,dtype = {'Target':np.int32,'AntennaID':np.int16})"
   ]
  },
  {
   "cell_type": "code",
   "execution_count": 79,
   "metadata": {
    "collapsed": true
   },
   "outputs": [],
   "source": [
    "user_antenna_map_nightfilter = tabla_mensual_nightfilter.groupby('Target')['AntennaID'].apply(lambda x: first_max_antenna(x))"
   ]
  },
  {
   "cell_type": "code",
   "execution_count": 80,
   "metadata": {
    "collapsed": true
   },
   "outputs": [],
   "source": [
    "user_antenna_map = tabla_mensual.groupby('Target')['AntennaID'].apply(lambda x: first_max_antenna(x))"
   ]
  },
  {
   "cell_type": "code",
   "execution_count": 163,
   "metadata": {
    "collapsed": false
   },
   "outputs": [
    {
     "data": {
      "text/plain": [
       "(715183, 444177, 444083, 444177)"
      ]
     },
     "execution_count": 163,
     "metadata": {},
     "output_type": "execute_result"
    }
   ],
   "source": [
    "len(user_antenna_map),len(cpp_user_antenna_map), len(user_antenna_map_nightfilter),len(cpp_user_antenna_map_nightfilter)"
   ]
  },
  {
   "cell_type": "code",
   "execution_count": 82,
   "metadata": {
    "collapsed": false
   },
   "outputs": [
    {
     "data": {
      "text/plain": [
       "(715183, 715183, 444083, 444177)"
      ]
     },
     "execution_count": 82,
     "metadata": {},
     "output_type": "execute_result"
    }
   ],
   "source": [
    "sum(user_antenna_map!=-1),sum(cpp_user_antenna_map['AntennaID']!=-1),sum(user_antenna_map_nightfilter!=-1),sum(cpp_user_antenna_map_nightfilter['AntennaID']!=-1)"
   ]
  },
  {
   "cell_type": "markdown",
   "metadata": {},
   "source": [
    "Voy chequeando a mano: La idea es imprimir algun todos los usuario del cpp que NO esten asignados de igual forma en el user_antenna_map y chequear a mano el grupo de este tipo. \n",
    "\n",
    "Tambien hay un problema con el nightfilter y el operador de division entera '/' que *pisa* todos los decimales y no funciona igual que en c++, por eso la diferencia de usuarios que \"entran\" como de noche y los que no. "
   ]
  },
  {
   "cell_type": "code",
   "execution_count": 12,
   "metadata": {
    "collapsed": false
   },
   "outputs": [],
   "source": [
    "grouped_users = tabla_mensual.groupby('Target')['AntennaID']"
   ]
  },
  {
   "cell_type": "code",
   "execution_count": 13,
   "metadata": {
    "collapsed": false,
    "scrolled": true
   },
   "outputs": [
    {
     "data": {
      "text/plain": [
       "Target\n",
       "418          185\n",
       "532          232\n",
       "603          272\n",
       "765          345\n",
       "816          371\n",
       "868          422\n",
       "1221         628\n",
       "1243          35\n",
       "1435         444\n",
       "1488          69\n",
       "1547         341\n",
       "1567         488\n",
       "1778         163\n",
       "2079         235\n",
       "2116        1898\n",
       "2124         353\n",
       "2189          34\n",
       "2217         100\n",
       "2274          33\n",
       "2388         337\n",
       "2611        1033\n",
       "2725         557\n",
       "2748         966\n",
       "2807         803\n",
       "2861         544\n",
       "3111         688\n",
       "3192          40\n",
       "3372         220\n",
       "3438         376\n",
       "3448        1582\n",
       "3516         293\n",
       "3527         329\n",
       "3587        1080\n",
       "4122         224\n",
       "4245         115\n",
       "4247         175\n",
       "4250         832\n",
       "4422          35\n",
       "4622         877\n",
       "4776         344\n",
       "4864         809\n",
       "5024         650\n",
       "5116         358\n",
       "5400          77\n",
       "5420         495\n",
       "5494        1376\n",
       "5754        1128\n",
       "5776         225\n",
       "5782         225\n",
       "6099         456\n",
       "6338         321\n",
       "6438         228\n",
       "6523         457\n",
       "6745         886\n",
       "6755         572\n",
       "6817         873\n",
       "6996         166\n",
       "7093         614\n",
       "7115         316\n",
       "7368         274\n",
       "7429          88\n",
       "7437         480\n",
       "7820         488\n",
       "7885         867\n",
       "8208         352\n",
       "8245         241\n",
       "8265          28\n",
       "8441         836\n",
       "8667        2306\n",
       "8699         274\n",
       "8737        1018\n",
       "8950         135\n",
       "8988          56\n",
       "9163         869\n",
       "9348          82\n",
       "9473         640\n",
       "9497         590\n",
       "9707        1188\n",
       "9834          34\n",
       "9871        1212\n",
       "10296        583\n",
       "10312       1219\n",
       "10341        396\n",
       "10397         96\n",
       "10411        962\n",
       "10472        992\n",
       "10581        398\n",
       "10635        225\n",
       "11125       1946\n",
       "11212       1681\n",
       "11256        225\n",
       "11612        747\n",
       "11695       1220\n",
       "11734        216\n",
       "11936        395\n",
       "11963        579\n",
       "11965        197\n",
       "12039       1318\n",
       "12288       1779\n",
       "12358          5\n",
       "12514        341\n",
       "12522        236\n",
       "12798        224\n",
       "12896        689\n",
       "12914       1846\n",
       "13124        585\n",
       "13312       1736\n",
       "13549        291\n",
       "13584        560\n",
       "13688        491\n",
       "13928        363\n",
       "14112        105\n",
       "14286        225\n",
       "14336        248\n",
       "14377        208\n",
       "14623        619\n",
       "14708        265\n",
       "14949        772\n",
       "15115       1861\n",
       "15247         96\n",
       "15775        369\n",
       "15797       1101\n",
       "16082        404\n",
       "16641        611\n",
       "16851       1160\n",
       "17012        928\n",
       "17085        190\n",
       "17285        512\n",
       "17486        341\n",
       "17529        384\n",
       "17588        232\n",
       "17648       1124\n",
       "17983       1248\n",
       "18037       2721\n",
       "18141       1477\n",
       "18472        344\n",
       "18832        216\n",
       "19040       1157\n",
       "19168        837\n",
       "19548        244\n",
       "19595          2\n",
       "19707        280\n",
       "19836        530\n",
       "19999         34\n",
       "20109        641\n",
       "20120        453\n",
       "20273        832\n",
       "20355        421\n",
       "20540        457\n",
       "20843         73\n",
       "            ... \n",
       "94025873     600\n",
       "94032833     419\n",
       "94046378     717\n",
       "94050937    1027\n",
       "94051153     412\n",
       "94057503    1990\n",
       "94070614    2592\n",
       "94071799    1515\n",
       "94074838     395\n",
       "94077756    2824\n",
       "94079054    1171\n",
       "94079141     848\n",
       "94084298    2196\n",
       "94086028     338\n",
       "94086937    1062\n",
       "94089548     101\n",
       "94090734      88\n",
       "94092205     875\n",
       "94098877    1885\n",
       "94105282     225\n",
       "94106369    1411\n",
       "94108010    1570\n",
       "94112004    1544\n",
       "94117166     934\n",
       "94121091    2193\n",
       "94122138     480\n",
       "94128387     960\n",
       "94136631    2340\n",
       "94137256    1889\n",
       "94145156     580\n",
       "94145350     795\n",
       "94145576     387\n",
       "94146800     481\n",
       "94149155     328\n",
       "94149350     232\n",
       "94152501      64\n",
       "94153456    1289\n",
       "94154471    3652\n",
       "94154955     800\n",
       "94158088     619\n",
       "94165394    3721\n",
       "94171400     482\n",
       "94171769     634\n",
       "94178546     225\n",
       "94182091    1269\n",
       "94182565     152\n",
       "94192109     688\n",
       "94193912     216\n",
       "94195789     784\n",
       "94197238     929\n",
       "94198364    3669\n",
       "94198569     872\n",
       "94198936     994\n",
       "94199183    1186\n",
       "94201972    1418\n",
       "94212044     368\n",
       "94216361    1888\n",
       "94219154     385\n",
       "94219223     800\n",
       "94221245    1885\n",
       "94230971     362\n",
       "94241548      35\n",
       "94242338     571\n",
       "94244122    3849\n",
       "94244980    1384\n",
       "94245588     910\n",
       "94250601     302\n",
       "94259085     272\n",
       "94263205    1028\n",
       "94263511     928\n",
       "94265036    2172\n",
       "94266325    1033\n",
       "94266739    1436\n",
       "94266837    1511\n",
       "94268002    1167\n",
       "94270249    1219\n",
       "94270479    3863\n",
       "94270714     385\n",
       "94270774     584\n",
       "94270993    1184\n",
       "94272039     512\n",
       "94276437     142\n",
       "94277160     416\n",
       "94281002      54\n",
       "94281263     129\n",
       "94287051    1136\n",
       "94287613     932\n",
       "94293986     739\n",
       "94294546    1973\n",
       "94296035     928\n",
       "94296907    1885\n",
       "94297565     362\n",
       "94298672     118\n",
       "94301327     487\n",
       "94301821     181\n",
       "94309874    1862\n",
       "94310594     472\n",
       "94311629    3776\n",
       "94312994    1477\n",
       "94314388      88\n",
       "94314786    1302\n",
       "94317049    1136\n",
       "94317465     168\n",
       "94317493     397\n",
       "94317540    3446\n",
       "94318847     355\n",
       "94319229     175\n",
       "94321331     522\n",
       "94323330     897\n",
       "94326123     210\n",
       "94331630    1502\n",
       "94333399     124\n",
       "94335254    4064\n",
       "94336453    2336\n",
       "94336847     312\n",
       "94337166    2779\n",
       "94339859    3664\n",
       "94342093    2058\n",
       "94345339     973\n",
       "94346244     724\n",
       "94347439    1396\n",
       "94347651      29\n",
       "94350097     512\n",
       "94351570     720\n",
       "94356655    1252\n",
       "94362280     736\n",
       "94363475     295\n",
       "94365026    1008\n",
       "94365353     384\n",
       "94365738    1544\n",
       "94365789     598\n",
       "94367101     600\n",
       "94371188     840\n",
       "94375734    1516\n",
       "94377127     427\n",
       "94377899     652\n",
       "94379578     909\n",
       "94382058    1008\n",
       "94385971    3689\n",
       "94389453    1044\n",
       "94390671     248\n",
       "94394962     266\n",
       "94396238     151\n",
       "94397322     297\n",
       "94404863    1412\n",
       "94405022     962\n",
       "94405258     448\n",
       "94411967     776\n",
       "94428383    1005\n",
       "94429663     649\n",
       "Name: AntennaID, dtype: int64"
      ]
     },
     "execution_count": 13,
     "metadata": {},
     "output_type": "execute_result"
    }
   ],
   "source": [
    "#con esto chequeo todos los que sean distintos, pidiendole la serie a cpp_user_antenna_map\n",
    "user_antenna_map[cpp_user_antenna_map.ix[:,0]!=user_antenna_map]"
   ]
  },
  {
   "cell_type": "code",
   "execution_count": 57,
   "metadata": {
    "collapsed": false,
    "scrolled": true
   },
   "outputs": [
    {
     "name": "stdout",
     "output_type": "stream",
     "text": [
      "los conteos de antenas son \n",
      "\n",
      "1343    5\n",
      "338     5\n",
      "1997    3\n",
      "585     2\n",
      "Name: AntennaID, dtype: int64\n",
      "la que selecciona pandas es 338\n",
      "la que selecciona el script cpp es 2985\n"
     ]
    }
   ],
   "source": [
    "distinto = 14286\n",
    "#mirando la lista de agrupados con get_group hago un conteo de las antenas que aparecen con value_counts() para ver cuales\n",
    "#estan bien catalogadas y cuales no\n",
    "print \"los conteos de antenas son \\n\"\n",
    "print grouped_users.get_group(distinto).value_counts()\n",
    "\n",
    "print \"la que selecciona pandas es \" + str(max(set(grouped_users.get_group(distinto).tolist()),key=grouped_users.get_group(distinto).tolist().count))\n",
    "print \"la que selecciona el script cpp es %s\" % str(cpp_user_antenna_map.ix[distinto]).split()[1]"
   ]
  },
  {
   "cell_type": "code",
   "execution_count": 17,
   "metadata": {
    "collapsed": false
   },
   "outputs": [
    {
     "data": {
      "text/plain": [
       "(35992, 0.05032558100514134)"
      ]
     },
     "execution_count": 17,
     "metadata": {},
     "output_type": "execute_result"
    }
   ],
   "source": [
    "len(user_antenna_map[cpp_user_antenna_map.ix[:,0]!=user_antenna_map]), len(user_antenna_map[cpp_user_antenna_map.ix[:,0]!=user_antenna_map])*1.0/len(user_antenna_map)"
   ]
  },
  {
   "cell_type": "markdown",
   "metadata": {},
   "source": [
    "Hast ahora el problema de las diferencias entre el cpp y el pandas (sin filtro) es para casos de empate en el count de antennas. Por el cual ahi la asignacion es distinta en cada caso, sin embargo esta diferencia es para muy pocos usuarios (menos de 3% segun la cuenta de la celda anterior)"
   ]
  },
  {
   "cell_type": "markdown",
   "metadata": {},
   "source": [
    "## Ahora miro las diferencias en el script con el *nightfilter*"
   ]
  },
  {
   "cell_type": "code",
   "execution_count": 83,
   "metadata": {
    "collapsed": false
   },
   "outputs": [
    {
     "data": {
      "text/plain": [
       "(444177, 444083)"
      ]
     },
     "execution_count": 83,
     "metadata": {},
     "output_type": "execute_result"
    }
   ],
   "source": [
    "len(cpp_user_antenna_map_nightfilter),len(user_antenna_map_nightfilter)"
   ]
  },
  {
   "cell_type": "code",
   "execution_count": 88,
   "metadata": {
    "collapsed": true
   },
   "outputs": [],
   "source": [
    "grouped_users_nightfilter = tabla_mensual_nightfilter.groupby('Target')['AntennaID']"
   ]
  },
  {
   "cell_type": "code",
   "execution_count": 111,
   "metadata": {
    "collapsed": false
   },
   "outputs": [
    {
     "data": {
      "text/plain": [
       "444177"
      ]
     },
     "execution_count": 111,
     "metadata": {},
     "output_type": "execute_result"
    }
   ],
   "source": []
  },
  {
   "cell_type": "code",
   "execution_count": 115,
   "metadata": {
    "collapsed": false,
    "scrolled": true
   },
   "outputs": [
    {
     "data": {
      "text/html": [
       "<div>\n",
       "<table border=\"1\" class=\"dataframe\">\n",
       "  <thead>\n",
       "    <tr style=\"text-align: right;\">\n",
       "      <th></th>\n",
       "      <th>AntennaID</th>\n",
       "    </tr>\n",
       "    <tr>\n",
       "      <th>Target</th>\n",
       "      <th></th>\n",
       "    </tr>\n",
       "  </thead>\n",
       "  <tbody>\n",
       "    <tr>\n",
       "      <th>33501</th>\n",
       "      <td>903</td>\n",
       "    </tr>\n",
       "    <tr>\n",
       "      <th>36587</th>\n",
       "      <td>795</td>\n",
       "    </tr>\n",
       "    <tr>\n",
       "      <th>43002</th>\n",
       "      <td>415</td>\n",
       "    </tr>\n",
       "    <tr>\n",
       "      <th>60683</th>\n",
       "      <td>358</td>\n",
       "    </tr>\n",
       "    <tr>\n",
       "      <th>62385</th>\n",
       "      <td>3945</td>\n",
       "    </tr>\n",
       "    <tr>\n",
       "      <th>62387</th>\n",
       "      <td>1493</td>\n",
       "    </tr>\n",
       "    <tr>\n",
       "      <th>113897</th>\n",
       "      <td>1696</td>\n",
       "    </tr>\n",
       "    <tr>\n",
       "      <th>148338</th>\n",
       "      <td>1573</td>\n",
       "    </tr>\n",
       "    <tr>\n",
       "      <th>152376</th>\n",
       "      <td>1397</td>\n",
       "    </tr>\n",
       "    <tr>\n",
       "      <th>162153</th>\n",
       "      <td>170</td>\n",
       "    </tr>\n",
       "    <tr>\n",
       "      <th>172857</th>\n",
       "      <td>1886</td>\n",
       "    </tr>\n",
       "    <tr>\n",
       "      <th>179148</th>\n",
       "      <td>418</td>\n",
       "    </tr>\n",
       "    <tr>\n",
       "      <th>185000</th>\n",
       "      <td>1571</td>\n",
       "    </tr>\n",
       "    <tr>\n",
       "      <th>210180</th>\n",
       "      <td>2264</td>\n",
       "    </tr>\n",
       "    <tr>\n",
       "      <th>212627</th>\n",
       "      <td>903</td>\n",
       "    </tr>\n",
       "    <tr>\n",
       "      <th>233718</th>\n",
       "      <td>1973</td>\n",
       "    </tr>\n",
       "    <tr>\n",
       "      <th>290280</th>\n",
       "      <td>2584</td>\n",
       "    </tr>\n",
       "    <tr>\n",
       "      <th>319244</th>\n",
       "      <td>3722</td>\n",
       "    </tr>\n",
       "    <tr>\n",
       "      <th>329475</th>\n",
       "      <td>300</td>\n",
       "    </tr>\n",
       "    <tr>\n",
       "      <th>340354</th>\n",
       "      <td>1644</td>\n",
       "    </tr>\n",
       "    <tr>\n",
       "      <th>340361</th>\n",
       "      <td>747</td>\n",
       "    </tr>\n",
       "    <tr>\n",
       "      <th>406148</th>\n",
       "      <td>836</td>\n",
       "    </tr>\n",
       "    <tr>\n",
       "      <th>420333</th>\n",
       "      <td>1806</td>\n",
       "    </tr>\n",
       "    <tr>\n",
       "      <th>424100</th>\n",
       "      <td>253</td>\n",
       "    </tr>\n",
       "    <tr>\n",
       "      <th>446548</th>\n",
       "      <td>1650</td>\n",
       "    </tr>\n",
       "    <tr>\n",
       "      <th>511065</th>\n",
       "      <td>121</td>\n",
       "    </tr>\n",
       "    <tr>\n",
       "      <th>523388</th>\n",
       "      <td>203</td>\n",
       "    </tr>\n",
       "    <tr>\n",
       "      <th>570179</th>\n",
       "      <td>382</td>\n",
       "    </tr>\n",
       "    <tr>\n",
       "      <th>588851</th>\n",
       "      <td>2584</td>\n",
       "    </tr>\n",
       "    <tr>\n",
       "      <th>593450</th>\n",
       "      <td>1936</td>\n",
       "    </tr>\n",
       "    <tr>\n",
       "      <th>674743</th>\n",
       "      <td>1418</td>\n",
       "    </tr>\n",
       "    <tr>\n",
       "      <th>678927</th>\n",
       "      <td>778</td>\n",
       "    </tr>\n",
       "    <tr>\n",
       "      <th>688949</th>\n",
       "      <td>2530</td>\n",
       "    </tr>\n",
       "    <tr>\n",
       "      <th>889310</th>\n",
       "      <td>3674</td>\n",
       "    </tr>\n",
       "    <tr>\n",
       "      <th>934113</th>\n",
       "      <td>1953</td>\n",
       "    </tr>\n",
       "    <tr>\n",
       "      <th>961065</th>\n",
       "      <td>1591</td>\n",
       "    </tr>\n",
       "    <tr>\n",
       "      <th>997525</th>\n",
       "      <td>354</td>\n",
       "    </tr>\n",
       "    <tr>\n",
       "      <th>1021137</th>\n",
       "      <td>767</td>\n",
       "    </tr>\n",
       "    <tr>\n",
       "      <th>1147205</th>\n",
       "      <td>502</td>\n",
       "    </tr>\n",
       "    <tr>\n",
       "      <th>1167412</th>\n",
       "      <td>627</td>\n",
       "    </tr>\n",
       "    <tr>\n",
       "      <th>1205478</th>\n",
       "      <td>416</td>\n",
       "    </tr>\n",
       "    <tr>\n",
       "      <th>1512095</th>\n",
       "      <td>300</td>\n",
       "    </tr>\n",
       "    <tr>\n",
       "      <th>1872291</th>\n",
       "      <td>753</td>\n",
       "    </tr>\n",
       "    <tr>\n",
       "      <th>2271487</th>\n",
       "      <td>4338</td>\n",
       "    </tr>\n",
       "    <tr>\n",
       "      <th>2358500</th>\n",
       "      <td>867</td>\n",
       "    </tr>\n",
       "    <tr>\n",
       "      <th>2732909</th>\n",
       "      <td>1251</td>\n",
       "    </tr>\n",
       "    <tr>\n",
       "      <th>2861088</th>\n",
       "      <td>1713</td>\n",
       "    </tr>\n",
       "    <tr>\n",
       "      <th>3155867</th>\n",
       "      <td>1251</td>\n",
       "    </tr>\n",
       "    <tr>\n",
       "      <th>3156881</th>\n",
       "      <td>786</td>\n",
       "    </tr>\n",
       "    <tr>\n",
       "      <th>3195294</th>\n",
       "      <td>284</td>\n",
       "    </tr>\n",
       "    <tr>\n",
       "      <th>3499002</th>\n",
       "      <td>239</td>\n",
       "    </tr>\n",
       "    <tr>\n",
       "      <th>3664661</th>\n",
       "      <td>1801</td>\n",
       "    </tr>\n",
       "    <tr>\n",
       "      <th>3693115</th>\n",
       "      <td>2170</td>\n",
       "    </tr>\n",
       "    <tr>\n",
       "      <th>3851650</th>\n",
       "      <td>2152</td>\n",
       "    </tr>\n",
       "    <tr>\n",
       "      <th>3998246</th>\n",
       "      <td>1398</td>\n",
       "    </tr>\n",
       "    <tr>\n",
       "      <th>4547377</th>\n",
       "      <td>644</td>\n",
       "    </tr>\n",
       "    <tr>\n",
       "      <th>4560720</th>\n",
       "      <td>2638</td>\n",
       "    </tr>\n",
       "    <tr>\n",
       "      <th>4819270</th>\n",
       "      <td>1998</td>\n",
       "    </tr>\n",
       "    <tr>\n",
       "      <th>5046512</th>\n",
       "      <td>590</td>\n",
       "    </tr>\n",
       "    <tr>\n",
       "      <th>6083094</th>\n",
       "      <td>1827</td>\n",
       "    </tr>\n",
       "    <tr>\n",
       "      <th>6607716</th>\n",
       "      <td>488</td>\n",
       "    </tr>\n",
       "    <tr>\n",
       "      <th>6914107</th>\n",
       "      <td>1800</td>\n",
       "    </tr>\n",
       "    <tr>\n",
       "      <th>9199382</th>\n",
       "      <td>1772</td>\n",
       "    </tr>\n",
       "    <tr>\n",
       "      <th>9908108</th>\n",
       "      <td>1136</td>\n",
       "    </tr>\n",
       "    <tr>\n",
       "      <th>10214491</th>\n",
       "      <td>1351</td>\n",
       "    </tr>\n",
       "    <tr>\n",
       "      <th>10505142</th>\n",
       "      <td>300</td>\n",
       "    </tr>\n",
       "    <tr>\n",
       "      <th>26523523</th>\n",
       "      <td>1007</td>\n",
       "    </tr>\n",
       "    <tr>\n",
       "      <th>34174023</th>\n",
       "      <td>2072</td>\n",
       "    </tr>\n",
       "    <tr>\n",
       "      <th>54970466</th>\n",
       "      <td>418</td>\n",
       "    </tr>\n",
       "    <tr>\n",
       "      <th>63199838</th>\n",
       "      <td>3787</td>\n",
       "    </tr>\n",
       "    <tr>\n",
       "      <th>64396253</th>\n",
       "      <td>2805</td>\n",
       "    </tr>\n",
       "    <tr>\n",
       "      <th>68844525</th>\n",
       "      <td>910</td>\n",
       "    </tr>\n",
       "    <tr>\n",
       "      <th>68847999</th>\n",
       "      <td>1527</td>\n",
       "    </tr>\n",
       "    <tr>\n",
       "      <th>68968088</th>\n",
       "      <td>1522</td>\n",
       "    </tr>\n",
       "    <tr>\n",
       "      <th>69080354</th>\n",
       "      <td>3694</td>\n",
       "    </tr>\n",
       "    <tr>\n",
       "      <th>69117790</th>\n",
       "      <td>2161</td>\n",
       "    </tr>\n",
       "    <tr>\n",
       "      <th>69327437</th>\n",
       "      <td>713</td>\n",
       "    </tr>\n",
       "    <tr>\n",
       "      <th>69346980</th>\n",
       "      <td>795</td>\n",
       "    </tr>\n",
       "    <tr>\n",
       "      <th>69460024</th>\n",
       "      <td>845</td>\n",
       "    </tr>\n",
       "    <tr>\n",
       "      <th>69559235</th>\n",
       "      <td>1432</td>\n",
       "    </tr>\n",
       "    <tr>\n",
       "      <th>69569833</th>\n",
       "      <td>2161</td>\n",
       "    </tr>\n",
       "    <tr>\n",
       "      <th>69655867</th>\n",
       "      <td>1344</td>\n",
       "    </tr>\n",
       "    <tr>\n",
       "      <th>69840636</th>\n",
       "      <td>776</td>\n",
       "    </tr>\n",
       "    <tr>\n",
       "      <th>69860027</th>\n",
       "      <td>464</td>\n",
       "    </tr>\n",
       "    <tr>\n",
       "      <th>69956291</th>\n",
       "      <td>1058</td>\n",
       "    </tr>\n",
       "    <tr>\n",
       "      <th>70003536</th>\n",
       "      <td>650</td>\n",
       "    </tr>\n",
       "    <tr>\n",
       "      <th>70064044</th>\n",
       "      <td>1464</td>\n",
       "    </tr>\n",
       "    <tr>\n",
       "      <th>70546628</th>\n",
       "      <td>524</td>\n",
       "    </tr>\n",
       "    <tr>\n",
       "      <th>70546650</th>\n",
       "      <td>1390</td>\n",
       "    </tr>\n",
       "    <tr>\n",
       "      <th>70547111</th>\n",
       "      <td>1572</td>\n",
       "    </tr>\n",
       "    <tr>\n",
       "      <th>70834276</th>\n",
       "      <td>1344</td>\n",
       "    </tr>\n",
       "    <tr>\n",
       "      <th>71785714</th>\n",
       "      <td>2610</td>\n",
       "    </tr>\n",
       "    <tr>\n",
       "      <th>92610322</th>\n",
       "      <td>295</td>\n",
       "    </tr>\n",
       "    <tr>\n",
       "      <th>93915874</th>\n",
       "      <td>1585</td>\n",
       "    </tr>\n",
       "  </tbody>\n",
       "</table>\n",
       "</div>"
      ],
      "text/plain": [
       "          AntennaID\n",
       "Target             \n",
       "33501           903\n",
       "36587           795\n",
       "43002           415\n",
       "60683           358\n",
       "62385          3945\n",
       "62387          1493\n",
       "113897         1696\n",
       "148338         1573\n",
       "152376         1397\n",
       "162153          170\n",
       "172857         1886\n",
       "179148          418\n",
       "185000         1571\n",
       "210180         2264\n",
       "212627          903\n",
       "233718         1973\n",
       "290280         2584\n",
       "319244         3722\n",
       "329475          300\n",
       "340354         1644\n",
       "340361          747\n",
       "406148          836\n",
       "420333         1806\n",
       "424100          253\n",
       "446548         1650\n",
       "511065          121\n",
       "523388          203\n",
       "570179          382\n",
       "588851         2584\n",
       "593450         1936\n",
       "674743         1418\n",
       "678927          778\n",
       "688949         2530\n",
       "889310         3674\n",
       "934113         1953\n",
       "961065         1591\n",
       "997525          354\n",
       "1021137         767\n",
       "1147205         502\n",
       "1167412         627\n",
       "1205478         416\n",
       "1512095         300\n",
       "1872291         753\n",
       "2271487        4338\n",
       "2358500         867\n",
       "2732909        1251\n",
       "2861088        1713\n",
       "3155867        1251\n",
       "3156881         786\n",
       "3195294         284\n",
       "3499002         239\n",
       "3664661        1801\n",
       "3693115        2170\n",
       "3851650        2152\n",
       "3998246        1398\n",
       "4547377         644\n",
       "4560720        2638\n",
       "4819270        1998\n",
       "5046512         590\n",
       "6083094        1827\n",
       "6607716         488\n",
       "6914107        1800\n",
       "9199382        1772\n",
       "9908108        1136\n",
       "10214491       1351\n",
       "10505142        300\n",
       "26523523       1007\n",
       "34174023       2072\n",
       "54970466        418\n",
       "63199838       3787\n",
       "64396253       2805\n",
       "68844525        910\n",
       "68847999       1527\n",
       "68968088       1522\n",
       "69080354       3694\n",
       "69117790       2161\n",
       "69327437        713\n",
       "69346980        795\n",
       "69460024        845\n",
       "69559235       1432\n",
       "69569833       2161\n",
       "69655867       1344\n",
       "69840636        776\n",
       "69860027        464\n",
       "69956291       1058\n",
       "70003536        650\n",
       "70064044       1464\n",
       "70546628        524\n",
       "70546650       1390\n",
       "70547111       1572\n",
       "70834276       1344\n",
       "71785714       2610\n",
       "92610322        295\n",
       "93915874       1585"
      ]
     },
     "execution_count": 115,
     "metadata": {},
     "output_type": "execute_result"
    }
   ],
   "source": [
    "#np.in1d(array1,array2) devuelve un array de bools de largo array1 que dice si el elemento ese de array1 esta en array2\n",
    "cpp_user_antenna_map_nightfilter[~np.in1d(cpp_user_antenna_map_nightfilter.index.values, user_antenna_map_nightfilter.index.values)]\n"
   ]
  },
  {
   "cell_type": "code",
   "execution_count": 160,
   "metadata": {
    "collapsed": false
   },
   "outputs": [
    {
     "data": {
      "text/plain": [
       "AntennaID    1344\n",
       "Name: 70834276, dtype: int16"
      ]
     },
     "execution_count": 160,
     "metadata": {},
     "output_type": "execute_result"
    }
   ],
   "source": [
    "usuario_problema = 70834276\n",
    "\n",
    "cpp_user_antenna_map_nightfilter.ix[usuario_problema]"
   ]
  },
  {
   "cell_type": "code",
   "execution_count": 161,
   "metadata": {
    "collapsed": false,
    "scrolled": true
   },
   "outputs": [
    {
     "data": {
      "text/html": [
       "<div>\n",
       "<table border=\"1\" class=\"dataframe\">\n",
       "  <thead>\n",
       "    <tr style=\"text-align: right;\">\n",
       "      <th></th>\n",
       "      <th>AntennaID</th>\n",
       "    </tr>\n",
       "    <tr>\n",
       "      <th>Target</th>\n",
       "      <th></th>\n",
       "    </tr>\n",
       "  </thead>\n",
       "  <tbody>\n",
       "  </tbody>\n",
       "</table>\n",
       "</div>"
      ],
      "text/plain": [
       "Empty DataFrame\n",
       "Columns: [AntennaID]\n",
       "Index: []"
      ]
     },
     "execution_count": 161,
     "metadata": {},
     "output_type": "execute_result"
    }
   ],
   "source": [
    "cpp_user_antenna_map[cpp_user_antenna_map.index.values== usuario_problema]"
   ]
  },
  {
   "cell_type": "code",
   "execution_count": 151,
   "metadata": {
    "collapsed": false,
    "scrolled": false
   },
   "outputs": [
    {
     "data": {
      "text/html": [
       "<div>\n",
       "<table border=\"1\" class=\"dataframe\">\n",
       "  <thead>\n",
       "    <tr style=\"text-align: right;\">\n",
       "      <th></th>\n",
       "      <th>Target</th>\n",
       "      <th>TimeStamp</th>\n",
       "      <th>AntennaID</th>\n",
       "    </tr>\n",
       "  </thead>\n",
       "  <tbody>\n",
       "  </tbody>\n",
       "</table>\n",
       "</div>"
      ],
      "text/plain": [
       "Empty DataFrame\n",
       "Columns: [Target, TimeStamp, AntennaID]\n",
       "Index: []"
      ]
     },
     "execution_count": 151,
     "metadata": {},
     "output_type": "execute_result"
    }
   ],
   "source": [
    "tabla_mensual[tabla_mensual['Target']== usuario_problema]"
   ]
  },
  {
   "cell_type": "code",
   "execution_count": 69,
   "metadata": {
    "collapsed": false
   },
   "outputs": [
    {
     "name": "stdout",
     "output_type": "stream",
     "text": [
      "los conteos de antenas son \n",
      "\n"
     ]
    },
    {
     "ename": "KeyError",
     "evalue": "6",
     "output_type": "error",
     "traceback": [
      "\u001b[1;31m---------------------------------------------------------------------------\u001b[0m",
      "\u001b[1;31mKeyError\u001b[0m                                  Traceback (most recent call last)",
      "\u001b[1;32m<ipython-input-69-0a1027e19069>\u001b[0m in \u001b[0;36m<module>\u001b[1;34m()\u001b[0m\n\u001b[0;32m      1\u001b[0m \u001b[0musuario_problema\u001b[0m \u001b[1;33m=\u001b[0m \u001b[1;36m6\u001b[0m\u001b[1;33m\u001b[0m\u001b[0m\n\u001b[0;32m      2\u001b[0m \u001b[1;32mprint\u001b[0m \u001b[1;34m\"los conteos de antenas son \\n\"\u001b[0m\u001b[1;33m\u001b[0m\u001b[0m\n\u001b[1;32m----> 3\u001b[1;33m \u001b[1;32mprint\u001b[0m \u001b[0mgrouped_users_nightfilter\u001b[0m\u001b[1;33m.\u001b[0m\u001b[0mget_group\u001b[0m\u001b[1;33m(\u001b[0m\u001b[0musuario_problema\u001b[0m\u001b[1;33m)\u001b[0m\u001b[1;33m.\u001b[0m\u001b[0mvalue_counts\u001b[0m\u001b[1;33m(\u001b[0m\u001b[1;33m)\u001b[0m\u001b[1;33m\u001b[0m\u001b[0m\n\u001b[0m\u001b[0;32m      4\u001b[0m \u001b[1;33m\u001b[0m\u001b[0m\n\u001b[0;32m      5\u001b[0m \u001b[1;32mprint\u001b[0m \u001b[1;34m\"la que selecciona pandas es \"\u001b[0m \u001b[1;33m+\u001b[0m \u001b[0mstr\u001b[0m\u001b[1;33m(\u001b[0m\u001b[0mmax\u001b[0m\u001b[1;33m(\u001b[0m\u001b[0mset\u001b[0m\u001b[1;33m(\u001b[0m\u001b[0mgrouped_users_nightfilter\u001b[0m\u001b[1;33m.\u001b[0m\u001b[0mget_group\u001b[0m\u001b[1;33m(\u001b[0m\u001b[0musuario_problema\u001b[0m\u001b[1;33m)\u001b[0m\u001b[1;33m.\u001b[0m\u001b[0mtolist\u001b[0m\u001b[1;33m(\u001b[0m\u001b[1;33m)\u001b[0m\u001b[1;33m)\u001b[0m\u001b[1;33m,\u001b[0m                                                \u001b[0mkey\u001b[0m\u001b[1;33m=\u001b[0m\u001b[0mgrouped_users_nightfilter\u001b[0m\u001b[1;33m.\u001b[0m\u001b[0mget_group\u001b[0m\u001b[1;33m(\u001b[0m\u001b[0musuario_problema\u001b[0m\u001b[1;33m)\u001b[0m\u001b[1;33m.\u001b[0m\u001b[0mtolist\u001b[0m\u001b[1;33m(\u001b[0m\u001b[1;33m)\u001b[0m\u001b[1;33m.\u001b[0m\u001b[0mcount\u001b[0m\u001b[1;33m)\u001b[0m\u001b[1;33m)\u001b[0m\u001b[1;33m\u001b[0m\u001b[0m\n",
      "\u001b[1;32m/home/juan/anaconda2/lib/python2.7/site-packages/pandas/core/groupby.pyc\u001b[0m in \u001b[0;36mget_group\u001b[1;34m(self, name, obj)\u001b[0m\n\u001b[0;32m    646\u001b[0m         \u001b[0minds\u001b[0m \u001b[1;33m=\u001b[0m \u001b[0mself\u001b[0m\u001b[1;33m.\u001b[0m\u001b[0m_get_index\u001b[0m\u001b[1;33m(\u001b[0m\u001b[0mname\u001b[0m\u001b[1;33m)\u001b[0m\u001b[1;33m\u001b[0m\u001b[0m\n\u001b[0;32m    647\u001b[0m         \u001b[1;32mif\u001b[0m \u001b[1;32mnot\u001b[0m \u001b[0mlen\u001b[0m\u001b[1;33m(\u001b[0m\u001b[0minds\u001b[0m\u001b[1;33m)\u001b[0m\u001b[1;33m:\u001b[0m\u001b[1;33m\u001b[0m\u001b[0m\n\u001b[1;32m--> 648\u001b[1;33m             \u001b[1;32mraise\u001b[0m \u001b[0mKeyError\u001b[0m\u001b[1;33m(\u001b[0m\u001b[0mname\u001b[0m\u001b[1;33m)\u001b[0m\u001b[1;33m\u001b[0m\u001b[0m\n\u001b[0m\u001b[0;32m    649\u001b[0m \u001b[1;33m\u001b[0m\u001b[0m\n\u001b[0;32m    650\u001b[0m         \u001b[1;32mreturn\u001b[0m \u001b[0mobj\u001b[0m\u001b[1;33m.\u001b[0m\u001b[0mtake\u001b[0m\u001b[1;33m(\u001b[0m\u001b[0minds\u001b[0m\u001b[1;33m,\u001b[0m \u001b[0maxis\u001b[0m\u001b[1;33m=\u001b[0m\u001b[0mself\u001b[0m\u001b[1;33m.\u001b[0m\u001b[0maxis\u001b[0m\u001b[1;33m,\u001b[0m \u001b[0mconvert\u001b[0m\u001b[1;33m=\u001b[0m\u001b[0mFalse\u001b[0m\u001b[1;33m)\u001b[0m\u001b[1;33m\u001b[0m\u001b[0m\n",
      "\u001b[1;31mKeyError\u001b[0m: 6"
     ]
    }
   ],
   "source": [
    "\n",
    "print \"los conteos de antenas son \\n\"\n",
    "print grouped_users_nightfilter.get_group(usuario_problema).value_counts()\n",
    "\n",
    "print \"la que selecciona pandas es \" + str(max(set(grouped_users_nightfilter.get_group(usuario_problema).tolist()), \\\n",
    "                                               key=grouped_users_nightfilter.get_group(usuario_problema).tolist().count))\n",
    "print \"la que selecciona el script cpp es %s\" %  str(cpp_user_antenna_map_nightfilter.ix[usuario_problema]).split()[1]\n",
    "\n",
    "\n",
    "#mirando la lista de agrupados con get_group hago un conteo de las antenas que aparecen con value_counts() para ver cuales\n",
    "#estan bien catalogadas y cuales no\n"
   ]
  },
  {
   "cell_type": "code",
   "execution_count": 67,
   "metadata": {
    "collapsed": false,
    "scrolled": true
   },
   "outputs": [
    {
     "data": {
      "text/html": [
       "<div>\n",
       "<table border=\"1\" class=\"dataframe\">\n",
       "  <thead>\n",
       "    <tr style=\"text-align: right;\">\n",
       "      <th></th>\n",
       "      <th>Target</th>\n",
       "      <th>TimeStamp</th>\n",
       "      <th>AntennaID</th>\n",
       "    </tr>\n",
       "  </thead>\n",
       "  <tbody>\n",
       "  </tbody>\n",
       "</table>\n",
       "</div>"
      ],
      "text/plain": [
       "Empty DataFrame\n",
       "Columns: [Target, TimeStamp, AntennaID]\n",
       "Index: []"
      ]
     },
     "execution_count": 67,
     "metadata": {},
     "output_type": "execute_result"
    }
   ],
   "source": []
  },
  {
   "cell_type": "code",
   "execution_count": 44,
   "metadata": {
    "collapsed": false
   },
   "outputs": [
    {
     "data": {
      "text/plain": [
       "2624"
      ]
     },
     "execution_count": 44,
     "metadata": {},
     "output_type": "execute_result"
    }
   ],
   "source": [
    "max(set(grouped_users_nightfilter.get_group(usuario_problema).tolist()),key=grouped_users_nightfilter.get_group(usuario_problema).tolist().count)"
   ]
  },
  {
   "cell_type": "code",
   "execution_count": 45,
   "metadata": {
    "collapsed": false,
    "scrolled": true
   },
   "outputs": [
    {
     "ename": "KeyError",
     "evalue": "400",
     "output_type": "error",
     "traceback": [
      "\u001b[1;31m---------------------------------------------------------------------------\u001b[0m",
      "\u001b[1;31mKeyError\u001b[0m                                  Traceback (most recent call last)",
      "\u001b[1;32m<ipython-input-45-bd5e7a6b80a0>\u001b[0m in \u001b[0;36m<module>\u001b[1;34m()\u001b[0m\n\u001b[1;32m----> 1\u001b[1;33m \u001b[0mcpp_user_antenna_map_nightfilter\u001b[0m\u001b[1;33m.\u001b[0m\u001b[0mix\u001b[0m\u001b[1;33m[\u001b[0m\u001b[0musuario_problema\u001b[0m\u001b[1;33m]\u001b[0m\u001b[1;33m\u001b[0m\u001b[0m\n\u001b[0m",
      "\u001b[1;32m/home/juan/anaconda2/lib/python2.7/site-packages/pandas/core/indexing.pyc\u001b[0m in \u001b[0;36m__getitem__\u001b[1;34m(self, key)\u001b[0m\n\u001b[0;32m     68\u001b[0m             \u001b[1;32mreturn\u001b[0m \u001b[0mself\u001b[0m\u001b[1;33m.\u001b[0m\u001b[0m_getitem_tuple\u001b[0m\u001b[1;33m(\u001b[0m\u001b[0mkey\u001b[0m\u001b[1;33m)\u001b[0m\u001b[1;33m\u001b[0m\u001b[0m\n\u001b[0;32m     69\u001b[0m         \u001b[1;32melse\u001b[0m\u001b[1;33m:\u001b[0m\u001b[1;33m\u001b[0m\u001b[0m\n\u001b[1;32m---> 70\u001b[1;33m             \u001b[1;32mreturn\u001b[0m \u001b[0mself\u001b[0m\u001b[1;33m.\u001b[0m\u001b[0m_getitem_axis\u001b[0m\u001b[1;33m(\u001b[0m\u001b[0mkey\u001b[0m\u001b[1;33m,\u001b[0m \u001b[0maxis\u001b[0m\u001b[1;33m=\u001b[0m\u001b[1;36m0\u001b[0m\u001b[1;33m)\u001b[0m\u001b[1;33m\u001b[0m\u001b[0m\n\u001b[0m\u001b[0;32m     71\u001b[0m \u001b[1;33m\u001b[0m\u001b[0m\n\u001b[0;32m     72\u001b[0m     \u001b[1;32mdef\u001b[0m \u001b[0m_get_label\u001b[0m\u001b[1;33m(\u001b[0m\u001b[0mself\u001b[0m\u001b[1;33m,\u001b[0m \u001b[0mlabel\u001b[0m\u001b[1;33m,\u001b[0m \u001b[0maxis\u001b[0m\u001b[1;33m=\u001b[0m\u001b[1;36m0\u001b[0m\u001b[1;33m)\u001b[0m\u001b[1;33m:\u001b[0m\u001b[1;33m\u001b[0m\u001b[0m\n",
      "\u001b[1;32m/home/juan/anaconda2/lib/python2.7/site-packages/pandas/core/indexing.pyc\u001b[0m in \u001b[0;36m_getitem_axis\u001b[1;34m(self, key, axis)\u001b[0m\n\u001b[0;32m    965\u001b[0m                     \u001b[1;32mreturn\u001b[0m \u001b[0mself\u001b[0m\u001b[1;33m.\u001b[0m\u001b[0m_get_loc\u001b[0m\u001b[1;33m(\u001b[0m\u001b[0mkey\u001b[0m\u001b[1;33m,\u001b[0m \u001b[0maxis\u001b[0m\u001b[1;33m=\u001b[0m\u001b[0maxis\u001b[0m\u001b[1;33m)\u001b[0m\u001b[1;33m\u001b[0m\u001b[0m\n\u001b[0;32m    966\u001b[0m \u001b[1;33m\u001b[0m\u001b[0m\n\u001b[1;32m--> 967\u001b[1;33m             \u001b[1;32mreturn\u001b[0m \u001b[0mself\u001b[0m\u001b[1;33m.\u001b[0m\u001b[0m_get_label\u001b[0m\u001b[1;33m(\u001b[0m\u001b[0mkey\u001b[0m\u001b[1;33m,\u001b[0m \u001b[0maxis\u001b[0m\u001b[1;33m=\u001b[0m\u001b[0maxis\u001b[0m\u001b[1;33m)\u001b[0m\u001b[1;33m\u001b[0m\u001b[0m\n\u001b[0m\u001b[0;32m    968\u001b[0m \u001b[1;33m\u001b[0m\u001b[0m\n\u001b[0;32m    969\u001b[0m     \u001b[1;32mdef\u001b[0m \u001b[0m_getitem_iterable\u001b[0m\u001b[1;33m(\u001b[0m\u001b[0mself\u001b[0m\u001b[1;33m,\u001b[0m \u001b[0mkey\u001b[0m\u001b[1;33m,\u001b[0m \u001b[0maxis\u001b[0m\u001b[1;33m=\u001b[0m\u001b[1;36m0\u001b[0m\u001b[1;33m)\u001b[0m\u001b[1;33m:\u001b[0m\u001b[1;33m\u001b[0m\u001b[0m\n",
      "\u001b[1;32m/home/juan/anaconda2/lib/python2.7/site-packages/pandas/core/indexing.pyc\u001b[0m in \u001b[0;36m_get_label\u001b[1;34m(self, label, axis)\u001b[0m\n\u001b[0;32m     84\u001b[0m             \u001b[1;32mraise\u001b[0m \u001b[0mIndexingError\u001b[0m\u001b[1;33m(\u001b[0m\u001b[1;34m'no slices here, handle elsewhere'\u001b[0m\u001b[1;33m)\u001b[0m\u001b[1;33m\u001b[0m\u001b[0m\n\u001b[0;32m     85\u001b[0m \u001b[1;33m\u001b[0m\u001b[0m\n\u001b[1;32m---> 86\u001b[1;33m         \u001b[1;32mreturn\u001b[0m \u001b[0mself\u001b[0m\u001b[1;33m.\u001b[0m\u001b[0mobj\u001b[0m\u001b[1;33m.\u001b[0m\u001b[0m_xs\u001b[0m\u001b[1;33m(\u001b[0m\u001b[0mlabel\u001b[0m\u001b[1;33m,\u001b[0m \u001b[0maxis\u001b[0m\u001b[1;33m=\u001b[0m\u001b[0maxis\u001b[0m\u001b[1;33m)\u001b[0m\u001b[1;33m\u001b[0m\u001b[0m\n\u001b[0m\u001b[0;32m     87\u001b[0m \u001b[1;33m\u001b[0m\u001b[0m\n\u001b[0;32m     88\u001b[0m     \u001b[1;32mdef\u001b[0m \u001b[0m_get_loc\u001b[0m\u001b[1;33m(\u001b[0m\u001b[0mself\u001b[0m\u001b[1;33m,\u001b[0m \u001b[0mkey\u001b[0m\u001b[1;33m,\u001b[0m \u001b[0maxis\u001b[0m\u001b[1;33m=\u001b[0m\u001b[1;36m0\u001b[0m\u001b[1;33m)\u001b[0m\u001b[1;33m:\u001b[0m\u001b[1;33m\u001b[0m\u001b[0m\n",
      "\u001b[1;32m/home/juan/anaconda2/lib/python2.7/site-packages/pandas/core/generic.pyc\u001b[0m in \u001b[0;36mxs\u001b[1;34m(self, key, axis, level, copy, drop_level)\u001b[0m\n\u001b[0;32m   1484\u001b[0m                                                       drop_level=drop_level)\n\u001b[0;32m   1485\u001b[0m         \u001b[1;32melse\u001b[0m\u001b[1;33m:\u001b[0m\u001b[1;33m\u001b[0m\u001b[0m\n\u001b[1;32m-> 1486\u001b[1;33m             \u001b[0mloc\u001b[0m \u001b[1;33m=\u001b[0m \u001b[0mself\u001b[0m\u001b[1;33m.\u001b[0m\u001b[0mindex\u001b[0m\u001b[1;33m.\u001b[0m\u001b[0mget_loc\u001b[0m\u001b[1;33m(\u001b[0m\u001b[0mkey\u001b[0m\u001b[1;33m)\u001b[0m\u001b[1;33m\u001b[0m\u001b[0m\n\u001b[0m\u001b[0;32m   1487\u001b[0m \u001b[1;33m\u001b[0m\u001b[0m\n\u001b[0;32m   1488\u001b[0m             \u001b[1;32mif\u001b[0m \u001b[0misinstance\u001b[0m\u001b[1;33m(\u001b[0m\u001b[0mloc\u001b[0m\u001b[1;33m,\u001b[0m \u001b[0mnp\u001b[0m\u001b[1;33m.\u001b[0m\u001b[0mndarray\u001b[0m\u001b[1;33m)\u001b[0m\u001b[1;33m:\u001b[0m\u001b[1;33m\u001b[0m\u001b[0m\n",
      "\u001b[1;32m/home/juan/anaconda2/lib/python2.7/site-packages/pandas/core/index.pyc\u001b[0m in \u001b[0;36mget_loc\u001b[1;34m(self, key, method, tolerance)\u001b[0m\n\u001b[0;32m   1757\u001b[0m                                  'backfill or nearest lookups')\n\u001b[0;32m   1758\u001b[0m             \u001b[0mkey\u001b[0m \u001b[1;33m=\u001b[0m \u001b[0m_values_from_object\u001b[0m\u001b[1;33m(\u001b[0m\u001b[0mkey\u001b[0m\u001b[1;33m)\u001b[0m\u001b[1;33m\u001b[0m\u001b[0m\n\u001b[1;32m-> 1759\u001b[1;33m             \u001b[1;32mreturn\u001b[0m \u001b[0mself\u001b[0m\u001b[1;33m.\u001b[0m\u001b[0m_engine\u001b[0m\u001b[1;33m.\u001b[0m\u001b[0mget_loc\u001b[0m\u001b[1;33m(\u001b[0m\u001b[0mkey\u001b[0m\u001b[1;33m)\u001b[0m\u001b[1;33m\u001b[0m\u001b[0m\n\u001b[0m\u001b[0;32m   1760\u001b[0m \u001b[1;33m\u001b[0m\u001b[0m\n\u001b[0;32m   1761\u001b[0m         indexer = self.get_indexer([key], method=method,\n",
      "\u001b[1;32mpandas/index.pyx\u001b[0m in \u001b[0;36mpandas.index.IndexEngine.get_loc (pandas/index.c:3979)\u001b[1;34m()\u001b[0m\n",
      "\u001b[1;32mpandas/index.pyx\u001b[0m in \u001b[0;36mpandas.index.IndexEngine.get_loc (pandas/index.c:3843)\u001b[1;34m()\u001b[0m\n",
      "\u001b[1;32mpandas/hashtable.pyx\u001b[0m in \u001b[0;36mpandas.hashtable.Int64HashTable.get_item (pandas/hashtable.c:6525)\u001b[1;34m()\u001b[0m\n",
      "\u001b[1;32mpandas/hashtable.pyx\u001b[0m in \u001b[0;36mpandas.hashtable.Int64HashTable.get_item (pandas/hashtable.c:6463)\u001b[1;34m()\u001b[0m\n",
      "\u001b[1;31mKeyError\u001b[0m: 400"
     ]
    }
   ],
   "source": [
    "cpp_user_antenna_map_nightfilter.ix[usuario_problema]"
   ]
  }
 ],
 "metadata": {
  "kernelspec": {
   "display_name": "Python 2",
   "language": "python",
   "name": "python2"
  },
  "language_info": {
   "codemirror_mode": {
    "name": "ipython",
    "version": 2
   },
   "file_extension": ".py",
   "mimetype": "text/x-python",
   "name": "python",
   "nbconvert_exporter": "python",
   "pygments_lexer": "ipython2",
   "version": "2.7.11"
  }
 },
 "nbformat": 4,
 "nbformat_minor": 0
}
