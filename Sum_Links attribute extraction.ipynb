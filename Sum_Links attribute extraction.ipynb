{
 "cells": [
  {
   "cell_type": "markdown",
   "metadata": {},
   "source": [
    "# Sum_Links files exploration and processing\n",
    "La idea es levantar atributos para el dataset estandar\n",
    "\n",
    "* observar estructura de la tabla \n",
    "* levantar solo los pares (i,j) donde i & j son users de la telco. Para saber si son users de la teclo es necesario levantar el file del hash_map (user_hash -- > int). Descartando asi el resto de los users.\n",
    "* extraer features de uso \"endemico\" para nuestros users de la TelCo\n",
    "* extraer la info por antena para usar luego en los mapas de mexico.\n",
    "\n",
    "### Obs. este parseo de sum_links da informacion suficiente como para no mirar el file userData\n",
    "\n",
    "## definiciones utilizadas\n",
    "* timestamp arranca en 0 segundos para 01/01/2012 00:00am\n",
    "* La Direction, viene dada relativa al user de la primer columna (incoming si entra y viceversa si es outgoing).\n",
    "* los calls son un conteo de quantity.\n",
    "* los usuarios de la Telco pueden venir en Origin o Target indistintamente\n",
    "* el time se mide en segundos\n",
    "* daylight time esta entre [7, 19) horas (exclusivo).\n",
    "* ignoramos los sms, pues no podemos estar seguros de tener esta info en el dataset Argentino\n",
    "\n",
    "### el dataset vendria con este header\n",
    " {'LineKeyOrigin':hash_object \\\\\\  'LineKeyTarget':np.uint32 \\\\\\  'CallsWeekDayLight':np.uint8 \\\\\\   'CallsWeekNight':np.uint8 \\\\\\  'CallsWeekend':np.uint8 \\\\\\  'TimeWeekDaylight':np.uint8 \\\\\\  'TimeWeekNight':np.uint8 \\\\\\  'TimeWeekend':np.uint8 \\\\\\  'SmsWeekDaylight':np.uint8 \\\\\\  'SmsWeekNight ':np.uint8 \\\\\\  'SmsWeekend':np.uint8} "
   ]
  },
  {
   "cell_type": "code",
   "execution_count": 1,
   "metadata": {
    "collapsed": false
   },
   "outputs": [],
   "source": [
    "import pandas as pd; import numpy as np; import os;import random;\n",
    "pd.set_option('display.max_rows', 300)\n",
    "from matplotlib import pyplot as plt\n",
    "%matplotlib inline\n",
    "import unicodedata\n",
    "import os\n",
    "import random\n",
    "import time"
   ]
  },
  {
   "cell_type": "code",
   "execution_count": 2,
   "metadata": {
    "collapsed": false
   },
   "outputs": [],
   "source": [
    "np.random.seed(2016)"
   ]
  },
  {
   "cell_type": "code",
   "execution_count": 3,
   "metadata": {
    "collapsed": false
   },
   "outputs": [],
   "source": [
    "#en user_hash_map va a quedar el mapping de hashes por usuario a su int correspondiente.\n",
    "\n",
    "#users_hash_map= pd.read_csv('/home/juan/mobility-study/output_user_hash_map.txt.gz',\n",
    "#                       sep = \"|\",\n",
    "#                       header=0,\n",
    "#                       index_col=0)"
   ]
  },
  {
   "cell_type": "code",
   "execution_count": 4,
   "metadata": {
    "collapsed": false
   },
   "outputs": [],
   "source": [
    "#seteamos el lugar de trabajo\n",
    "rootdir=\"/grandata/voice/sum_links\"\n",
    "os.chdir(rootdir)\n",
    "year = \"2015\"; \n",
    "month_start= \"04\";\n",
    "#todos estos sum_links terminan 2 meses mas tardes\n",
    "month_end= \"0\"+str(int(month_start)+2)\n",
    "input_file= rootdir +\"/sum_links_{y}{ms}_{y}{me}.txt.gz\".format(y=year,ms=month_start,me=month_end)\n",
    "output_file = \"/home/juan/mobility-study/output_sum_links.txt\""
   ]
  },
  {
   "cell_type": "code",
   "execution_count": 6,
   "metadata": {
    "collapsed": false,
    "scrolled": true
   },
   "outputs": [
    {
     "name": "stdout",
     "output_type": "stream",
     "text": [
      "LineKeyOrigin|LineKeyTarget|CallsWeekDaylight|CallsWeekNight|CallsWeekend|TimeWeekDaylight|TimeWeekNight|TimeWeekend|SmsWeekDaylight|SmsWeekNight|SmsWeekend\r\n",
      "CD5844F7EB2C00C63465E43B44EB9025|3F6FEB3BA73D7E51D906B19F1E0A9099|0|0|0|0|0|0|1|0|0\r\n",
      "6AEE0F059A39A7E1CF90B93B5BE8E5AD|3F6FEB3BA73D7E51D906B19F1E0A9099|0|0|0|0|0|0|0|0|3\r\n",
      "CD5844F7EB2C00C63465E43B44EB9025|21F587020D72C34131DDD04C0FCD6CFF|0|0|0|0|0|0|0|0|1\r\n",
      "CD5844F7EB2C00C63465E43B44EB9025|796D132ECDF757CBCE8FB01DDA3891D6|0|0|0|0|0|0|1|0|0\r\n",
      "5E8BADC0F256DEC1ACBB1AB2B77527E9|796D132ECDF757CBCE8FB01DDA3891D6|0|0|3|0|0|203|0|0|0\r\n",
      "CD5844F7EB2C00C63465E43B44EB9025|5FA3B22C222AFFF5DFAAE7CFCAEBCA30|0|0|0|0|0|0|0|0|1\r\n",
      "6B56A956E1A9E56BE4D90543C8706E76|5FA3B22C222AFFF5DFAAE7CFCAEBCA30|0|0|0|0|0|0|1|0|0\r\n",
      "2752F0E0F8226FFF2A3189EB131330AC|46B254E4C1A98CECB4F3D52E66BB836D|1|0|1|196|0|36|0|0|0\r\n",
      "2752F0E0F8226FFF2A3189EB131330AC|A954CAD047A827B6DEBA10BD797E7B16|10|4|9|1403|208|1416|0|0|0\r\n",
      "\r\n",
      "gzip: stdout: Broken pipe\r\n"
     ]
    }
   ],
   "source": [
    "!zcat $input_file | head -n10"
   ]
  },
  {
   "cell_type": "markdown",
   "metadata": {},
   "source": [
    "## Tests\n",
    "Veamos cuantos usuarios de un sum_links file dado son users de la telco (por cuestiones de velocidad tomamos solo las filas iniciales)"
   ]
  },
  {
   "cell_type": "code",
   "execution_count": 234,
   "metadata": {
    "collapsed": false
   },
   "outputs": [
    {
     "name": "stdout",
     "output_type": "stream",
     "text": [
      "USER,EXPOSED,ANTENNA_ID_0,COUNT_0,ANTENNA_ID_1,COUNT_1,ANTENNA_ID_2,COUNT_2,ANTENNA_ID_3,COUNT_3,ANTENNA_ID_4,COUNT_4,ANTENNA_ID_5,COUNT_5,ANTENNA_ID_6,COUNT_6,ANTENNA_ID_7,COUNT_7,ANTENNA_ID_8,COUNT_8,ANTENNA_ID_9,COUNT_9,EPIDEMIC,MOBILITY_DIAMETER\r\n",
      "FFFF78CB080636632B2D1DE7A7BFAB03,False,3415,21,2969,5,1320,3,2471,3,1115,2,-1,65535,-1,65535,-1,65535,-1,65535,-1,65535,False,1063.14053495\r\n",
      "FFFF51FDDD55A2E24D074DE30C4798E9,True,1207,15,1171,14,1820,9,583,8,2026,5,1066,4,1831,4,1625,2,401,1,825,1,False,520.065958971\r\n",
      "FFFE1EDDA25369CBC467536FA6A787FD,True,1847,22,1753,14,1422,11,1028,10,765,9,3072,9,862,8,2463,7,1416,6,871,5,True,989.597851013\r\n",
      "FFFD0A912A959CDFCFFAB2F93BFBA435,True,1407,18,1702,8,1613,6,1704,5,1394,3,1398,3,818,2,958,2,726,1,848,1,False,490.58538164\r\n",
      "FFFCB235D6D917DDF350F5B11CCB0EE8,True,17,74,174,33,1123,4,1178,4,173,3,890,2,503,1,1039,1,1228,1,1327,1,True,1613.22560564\r\n",
      "FFFC9EC4F662C44D3006BA69C9F0DE85,True,876,19,1737,6,1744,5,326,1,378,1,503,1,1118,1,2216,1,2477,1,2962,1,True,3004.41591695\r\n",
      "FFFB2F18F4CCF253C06B581EA518A7A5,True,2543,13,704,7,2540,7,1453,6,1642,5,45,4,2393,4,1841,3,3031,3,1009,2,False,2895.15322279\r\n",
      "FFFA147CB2B23AD12F207F0EFBEB14D0,True,1857,103,2959,19,1344,2,2309,2,1511,1,2858,1,-1,65535,-1,65535,-1,65535,-1,65535,True,1633.14109074\r\n",
      "FFFA0736F66FB09200CE1D13E081A946,True,266,63,1799,46,1790,29,2716,29,537,21,3377,21,1439,18,2715,16,1720,15,2000,14,True,2557.65502372\r\n",
      "\r\n",
      "gzip: stdout: Broken pipe\r\n"
     ]
    }
   ],
   "source": [
    "!zcat \"/home/juan/mobility-study/output2.txt.gz\" | head -n10"
   ]
  },
  {
   "cell_type": "code",
   "execution_count": null,
   "metadata": {
    "collapsed": true
   },
   "outputs": [],
   "source": []
  },
  {
   "cell_type": "code",
   "execution_count": 5,
   "metadata": {
    "collapsed": false
   },
   "outputs": [],
   "source": [
    "user_epidemic = pd.read_csv(\n",
    "                \"/home/juan/mobility-study/output2.txt.gz\",\n",
    "                engine = 'c',\n",
    "                sep = ',',\n",
    "                header = 0,\n",
    "                index_col=0,\n",
    "                dtype = {'EPIDEMIC':np.bool,'EXPOSED':np.bool,\n",
    "                         'ANTENNA_ID_0':np.int16},\n",
    "                usecols = ['USER','EPIDEMIC','EXPOSED','ANTENNA_ID_0']\n",
    "                )\n",
    "## ojo con setear los dtypes para las antennas en np.usigned int pues ahi me transforma todos los -1s en el max del dtype\n",
    "user_epidemic.index.name = 'LineKeyOrigin'"
   ]
  },
  {
   "cell_type": "code",
   "execution_count": 6,
   "metadata": {
    "collapsed": false
   },
   "outputs": [
    {
     "data": {
      "text/plain": [
       "'/grandata/voice/sum_links/sum_links_201504_201506.txt.gz'"
      ]
     },
     "execution_count": 6,
     "metadata": {},
     "output_type": "execute_result"
    }
   ],
   "source": [
    "input_file"
   ]
  },
  {
   "cell_type": "code",
   "execution_count": 7,
   "metadata": {
    "collapsed": false
   },
   "outputs": [],
   "source": [
    "#para filtrar por los users de la telco que estamos mirando\n",
    "simple_format_hashes = np.unique(user_epidemic.index.values)"
   ]
  },
  {
   "cell_type": "code",
   "execution_count": 8,
   "metadata": {
    "collapsed": false
   },
   "outputs": [
    {
     "name": "stdout",
     "output_type": "stream",
     "text": [
      "reading month 04 of 2 months, current time is 0.0014660358429 \n",
      "\n",
      "reading chunk #1 of 8, current time is 158.149121046\n",
      "reading chunk #2 of 8, current time is 502.817826986\n",
      "reading chunk #3 of 8, current time is 952.136212111\n",
      "reading chunk #4 of 8, current time is 1415.96756697\n",
      "reading chunk #5 of 8, current time is 1863.77269316\n",
      "reading chunk #6 of 8, current time is 2095.96160197\n",
      "reading month 07 of 2 months, current time is 2113.26918507 \n",
      "\n",
      "reading chunk #1 of 8, current time is 2522.31523895\n",
      "reading chunk #2 of 8, current time is 2962.05234694\n",
      "reading chunk #3 of 8, current time is 3413.30693412\n",
      "reading chunk #4 of 8, current time is 3850.32980108\n",
      "reading chunk #5 of 8, current time is 4286.95573115\n",
      "reading chunk #6 of 8, current time is 4538.20009708\n",
      "\n",
      " total running time of script is 4633 \n"
     ]
    }
   ],
   "source": [
    "## leemos de a chunks todo el file y lo agregamos a la tabla con los valores que nos importan\n",
    "\n",
    "#ver el tiempo que tarda\n",
    "start_time = time.time()\n",
    "\n",
    "\n",
    "\n",
    "table = pd.DataFrame()\n",
    "for month_start in [\"04\",\"07\"]:\n",
    "    year = \"2015\"\n",
    "    print(\"reading month {m} of {tot_n} months, current time is {t} \\n\".\\\n",
    "              format(m= month_start,tot_n = 2,t=(time.time()-start_time)))\n",
    "    #todos estos sum_links terminan 2 meses mas tardes\n",
    "    month_end= \"0\"+str(int(month_start)+2)\n",
    "    input_file= rootdir +\"/sum_links_{y}{ms}_{y}{me}.txt.gz\".format(y=year,ms=month_start,me=month_end)\n",
    "    raw_table = pd.read_csv(input_file,\n",
    "                         sep = \"|\", \n",
    "                         header =0,\n",
    "                         index_col = None,\n",
    "                         usecols = ['LineKeyOrigin', 'LineKeyTarget', 'CallsWeekDaylight',\n",
    "                                    'CallsWeekNight','CallsWeekend','TimeWeekDaylight','TimeWeekNight','TimeWeekend'],\n",
    "                         chunksize = 6*10**7,    \n",
    "                        engine = 'c',\n",
    "                         lineterminator='\\n',\n",
    "                         skipinitialspace=True, \n",
    "                        error_bad_lines= False,\n",
    "                        warn_bad_lines= True,\n",
    "                        dtype = {'CallsWeekDaylight':np.uint16,'CallsWeekNight':np.uint16,'CallsWeekend':np.uint16,\n",
    "                                          'TimeWeekDaylight':np.uint16,'TimeWeekNight':np.uint16,'TimeWeekend':np.uint16}\n",
    "                           )\n",
    "    numb=0;\n",
    "    for chunk in raw_table:\n",
    "        numb+=1\n",
    "        print(\"reading chunk #{n} of {tot_n}, current time is {t}\".\\\n",
    "              format(n=numb,tot_n = 8,t=(time.time()-start_time)))\n",
    "\n",
    "        table = table.append(chunk[chunk['LineKeyOrigin'].isin(simple_format_hashes) & chunk['LineKeyTarget'].isin(simple_format_hashes)])\n",
    "\n",
    "#como leo varios meses puede haber dos ocurencias distintas para un par (origin,target)\n",
    "table = table.groupby(['LineKeyOrigin','LineKeyTarget']).sum()\n",
    "#vuelvo el indice a como estaba\n",
    "table.reset_index(inplace = True, level=[0,1])        \n",
    "\n",
    "print(\"\\n total running time of script is %d \" % (time.time() -  start_time))"
   ]
  },
  {
   "cell_type": "markdown",
   "metadata": {},
   "source": [
    "### Errors readinglines\n",
    "algunas lineas no las pudo procesar el C-Parser porque decia que *Error tokenizing data. C error: Expected11 fields in line 189999971,  saw 21* asi que recorro con el error_bad_lines = $False$ y warn_bad_lines = $True$ para luego chequear a mano con sed i.e.\n",
    "\n",
    "!zcat \\$input_file | sed -n '189999969,\\$p' | head"
   ]
  },
  {
   "cell_type": "code",
   "execution_count": 9,
   "metadata": {
    "collapsed": false
   },
   "outputs": [
    {
     "name": "stdout",
     "output_type": "stream",
     "text": [
      "gzip: compressed data not read from a terminal. Use -f to force decompression.\r\n",
      "For help, type: gzip -h\r\n"
     ]
    }
   ],
   "source": [
    "!zcat $input_file | sed -n '189999969,$p' | head"
   ]
  },
  {
   "cell_type": "markdown",
   "metadata": {},
   "source": [
    "### Results mirando si (i,j) $\\in$ telco_users x telco_users\n",
    "* intentamos leer un \"sample\" de la tabla poinendo usando el parametro skiprows = random_bool_array, pero tardaba muchiimo en seleccionar 10^7 filas\n",
    "* corrida 1: 3.5M de 10M de pares (i,j) eran telco users\n",
    "* corrida 2: 0.5M de 10M de pares (i,j) eran telco users\n",
    "* corrida 3: 1.2M de 20M de pares (i,j) eran telco users\n",
    "* corrida 4: 1.7M de 20M de pares (i,j) eran telco users\n",
    "* corrida 5: 0.9M de 20M de pares (i,j) eran telco users"
   ]
  },
  {
   "cell_type": "markdown",
   "metadata": {},
   "source": [
    "### Sample script for attribute selection"
   ]
  },
  {
   "cell_type": "code",
   "execution_count": 10,
   "metadata": {
    "collapsed": false
   },
   "outputs": [
    {
     "data": {
      "text/plain": [
       "True"
      ]
     },
     "execution_count": 10,
     "metadata": {},
     "output_type": "execute_result"
    }
   ],
   "source": [
    "table['LineKeyTarget'].isin(simple_format_hashes).values.all()and (table['LineKeyOrigin'].isin(simple_format_hashes)).values.all()"
   ]
  },
  {
   "cell_type": "markdown",
   "metadata": {},
   "source": [
    "## filas que no 'aportan' datos. i.e. todas nulas"
   ]
  },
  {
   "cell_type": "code",
   "execution_count": null,
   "metadata": {
    "collapsed": true
   },
   "outputs": [],
   "source": [
    "relevant_cols = [col for col in table.columns.values \\\n",
    "                 if (col != 'EPIDEMIC' and not('Line' in col) and not('ANTENNA' in col) )]\n",
    "#imprimimos las filas que tienen todas las columnas ==0 (en los atributos relevantes), i.e. no hay actividad.\n",
    "#y eliminamos estas filas\n",
    "null_rows= table[(table[relevant_cols].T ==0).all()].index\n"
   ]
  },
  {
   "cell_type": "code",
   "execution_count": null,
   "metadata": {
    "collapsed": true
   },
   "outputs": [],
   "source": [
    "table.drop(null_rows,inplace=True)"
   ]
  },
  {
   "cell_type": "markdown",
   "metadata": {},
   "source": [
    "#### Saving first processing file"
   ]
  },
  {
   "cell_type": "code",
   "execution_count": 8,
   "metadata": {
    "collapsed": true
   },
   "outputs": [],
   "source": [
    "preoutput_file = output_file.replace(\"output\",\"preoutput\")"
   ]
  },
  {
   "cell_type": "code",
   "execution_count": 8,
   "metadata": {
    "collapsed": true
   },
   "outputs": [
    {
     "ename": "NameError",
     "evalue": "name 'table' is not defined",
     "output_type": "error",
     "traceback": [
      "\u001b[1;31m---------------------------------------------------------------------------\u001b[0m",
      "\u001b[1;31mNameError\u001b[0m                                 Traceback (most recent call last)",
      "\u001b[1;32m<ipython-input-8-17fc6d82c8b7>\u001b[0m in \u001b[0;36m<module>\u001b[1;34m()\u001b[0m\n\u001b[0;32m      1\u001b[0m \u001b[1;31m#guardo por las dudas para levantar mas rapido a futuro\u001b[0m\u001b[1;33m\u001b[0m\u001b[1;33m\u001b[0m\u001b[0m\n\u001b[1;32m----> 2\u001b[1;33m table.to_csv(preoutput_file, \n\u001b[0m\u001b[0;32m      3\u001b[0m              \u001b[0mindex\u001b[0m \u001b[1;33m=\u001b[0m \u001b[0mFalse\u001b[0m\u001b[1;33m,\u001b[0m\u001b[1;33m\u001b[0m\u001b[0m\n\u001b[0;32m      4\u001b[0m              \u001b[0mheader\u001b[0m \u001b[1;33m=\u001b[0m \u001b[0mTrue\u001b[0m\u001b[1;33m,\u001b[0m\u001b[1;33m\u001b[0m\u001b[0m\n\u001b[0;32m      5\u001b[0m              \u001b[0mfloat_format\u001b[0m\u001b[1;33m=\u001b[0m\u001b[1;34m'%.0f'\u001b[0m\u001b[1;33m,\u001b[0m\u001b[1;33m\u001b[0m\u001b[0m\n",
      "\u001b[1;31mNameError\u001b[0m: name 'table' is not defined"
     ]
    }
   ],
   "source": [
    "#guardo por las dudas para levantar mas rapido a futuro\n",
    "table.to_csv(preoutput_file, \n",
    "             index = False, \n",
    "             header = True,\n",
    "             float_format='%.0f',\n",
    "             sep=\"|\")"
   ]
  },
  {
   "cell_type": "markdown",
   "metadata": {},
   "source": [
    "#### Loading first processing file"
   ]
  },
  {
   "cell_type": "code",
   "execution_count": 10,
   "metadata": {
    "collapsed": false
   },
   "outputs": [
    {
     "name": "stdout",
     "output_type": "stream",
     "text": [
      "LineKeyOrigin|LineKeyTarget|CallsWeekDaylight|CallsWeekNight|CallsWeekend|TimeWeekDaylight|TimeWeekNight|TimeWeekend\r\n",
      "00000837B868F926F67BD440A0845C1D|5350FBED91E7DA465D7D436ADD1C48F3|0.0|0.0|2.0|0.0|0.0|45.0\r\n",
      "00000837B868F926F67BD440A0845C1D|C88DD6FDDF73AF80517291EEA7339B32|1.0|2.0|1.0|47.0|74.0|64.0\r\n",
      "000017368A8964F8C71A9F3A1EAF6160|11509D6701C5280D0D0B2271246424B0|1.0|0.0|0.0|318.0|0.0|0.0\r\n",
      "000017368A8964F8C71A9F3A1EAF6160|651D2B4E897DB722F28EDB856F4909FE|2.0|0.0|0.0|165.0|0.0|0.0\r\n",
      "000017368A8964F8C71A9F3A1EAF6160|FB36428E265F633EC2227140BDDCCB4D|1.0|0.0|0.0|147.0|0.0|0.0\r\n",
      "00001ADC8C5705AB4FD8197B5024C1AA|203B6D6813D904D1E9F39EBB40F00C5D|1.0|0.0|0.0|48.0|0.0|0.0\r\n",
      "00001ADC8C5705AB4FD8197B5024C1AA|719FD9FE4C22689FF010BD7C15C28A17|0.0|3.0|0.0|0.0|121.0|0.0\r\n",
      "00001ADC8C5705AB4FD8197B5024C1AA|CD4F8B895DBF929F0E3ACA3086469CF6|6.0|2.0|3.0|696.0|86.0|176.0\r\n",
      "00001ADC8C5705AB4FD8197B5024C1AA|D828A3318C8C24914FE361221029D3EC|0.0|0.0|1.0|0.0|0.0|42.0\r\n",
      "\r\n",
      "gzip: stdout: Broken pipe\r\n"
     ]
    }
   ],
   "source": [
    "!zcat /home/juan/mobility-study/preoutput_sum_links.txt.gz | head"
   ]
  },
  {
   "cell_type": "code",
   "execution_count": 382,
   "metadata": {
    "collapsed": false
   },
   "outputs": [],
   "source": [
    "table = pd.read_csv( \"/home/juan/mobility-study/preoutput_sum_links.txt.gz\",\n",
    "                              header =0,\n",
    "                              index_col=None,\n",
    "                              engine=\"c\",\n",
    "                              sep=\"|\",\n",
    "                               #dtype = {'CallsWeekDaylight':np.uint16,'CallsWeekNight':np.uint16,'CallsWeekend':np.uint16,\n",
    "                                #          'TimeWeekDaylight':np.uint16,'TimeWeekNight':np.uint16,'TimeWeekend':np.uint16}                          \n",
    "                                )\n",
    "\n",
    "cols = [col for col in table.columns if not('Line' in col or 'ANTENNA' in col) ]\n",
    "#levanto todo en float, lo paso a int (excepto los hashes)\n",
    "table[cols] = table[cols].astype(int)"
   ]
  },
  {
   "cell_type": "code",
   "execution_count": 383,
   "metadata": {
    "collapsed": false
   },
   "outputs": [],
   "source": [
    "#agrego la info de epidemicidad de los targets.\n",
    "table = table.join(user_epidemic[['EPIDEMIC','ANTENNA_ID_0']], on='LineKeyOrigin',how='left',rsuffix='_Origin')\n",
    "table = table.join(user_epidemic[['EPIDEMIC','ANTENNA_ID_0']], on='LineKeyTarget',how='left',rsuffix='_Target')\n",
    "#del user_epidemic"
   ]
  },
  {
   "cell_type": "code",
   "execution_count": 384,
   "metadata": {
    "collapsed": false
   },
   "outputs": [
    {
     "data": {
      "text/html": [
       "<div>\n",
       "<table border=\"1\" class=\"dataframe\">\n",
       "  <thead>\n",
       "    <tr style=\"text-align: right;\">\n",
       "      <th></th>\n",
       "      <th>LineKeyOrigin</th>\n",
       "      <th>LineKeyTarget</th>\n",
       "      <th>CallsWeekDaylight</th>\n",
       "      <th>CallsWeekNight</th>\n",
       "      <th>CallsWeekend</th>\n",
       "      <th>TimeWeekDaylight</th>\n",
       "      <th>TimeWeekNight</th>\n",
       "      <th>TimeWeekend</th>\n",
       "      <th>EPIDEMIC</th>\n",
       "      <th>ANTENNA_ID_0</th>\n",
       "      <th>EPIDEMIC_Target</th>\n",
       "      <th>ANTENNA_ID_0_Target</th>\n",
       "    </tr>\n",
       "  </thead>\n",
       "  <tbody>\n",
       "    <tr>\n",
       "      <th>0</th>\n",
       "      <td>00000837B868F926F67BD440A0845C1D</td>\n",
       "      <td>5350FBED91E7DA465D7D436ADD1C48F3</td>\n",
       "      <td>0</td>\n",
       "      <td>0</td>\n",
       "      <td>2</td>\n",
       "      <td>0</td>\n",
       "      <td>0</td>\n",
       "      <td>45</td>\n",
       "      <td>False</td>\n",
       "      <td>650</td>\n",
       "      <td>False</td>\n",
       "      <td>650</td>\n",
       "    </tr>\n",
       "    <tr>\n",
       "      <th>1</th>\n",
       "      <td>00000837B868F926F67BD440A0845C1D</td>\n",
       "      <td>C88DD6FDDF73AF80517291EEA7339B32</td>\n",
       "      <td>1</td>\n",
       "      <td>2</td>\n",
       "      <td>1</td>\n",
       "      <td>47</td>\n",
       "      <td>74</td>\n",
       "      <td>64</td>\n",
       "      <td>False</td>\n",
       "      <td>650</td>\n",
       "      <td>False</td>\n",
       "      <td>650</td>\n",
       "    </tr>\n",
       "    <tr>\n",
       "      <th>2</th>\n",
       "      <td>000017368A8964F8C71A9F3A1EAF6160</td>\n",
       "      <td>11509D6701C5280D0D0B2271246424B0</td>\n",
       "      <td>1</td>\n",
       "      <td>0</td>\n",
       "      <td>0</td>\n",
       "      <td>318</td>\n",
       "      <td>0</td>\n",
       "      <td>0</td>\n",
       "      <td>True</td>\n",
       "      <td>815</td>\n",
       "      <td>False</td>\n",
       "      <td>414</td>\n",
       "    </tr>\n",
       "    <tr>\n",
       "      <th>3</th>\n",
       "      <td>000017368A8964F8C71A9F3A1EAF6160</td>\n",
       "      <td>651D2B4E897DB722F28EDB856F4909FE</td>\n",
       "      <td>2</td>\n",
       "      <td>0</td>\n",
       "      <td>0</td>\n",
       "      <td>165</td>\n",
       "      <td>0</td>\n",
       "      <td>0</td>\n",
       "      <td>True</td>\n",
       "      <td>815</td>\n",
       "      <td>False</td>\n",
       "      <td>1896</td>\n",
       "    </tr>\n",
       "    <tr>\n",
       "      <th>4</th>\n",
       "      <td>000017368A8964F8C71A9F3A1EAF6160</td>\n",
       "      <td>FB36428E265F633EC2227140BDDCCB4D</td>\n",
       "      <td>1</td>\n",
       "      <td>0</td>\n",
       "      <td>0</td>\n",
       "      <td>147</td>\n",
       "      <td>0</td>\n",
       "      <td>0</td>\n",
       "      <td>True</td>\n",
       "      <td>815</td>\n",
       "      <td>True</td>\n",
       "      <td>707</td>\n",
       "    </tr>\n",
       "  </tbody>\n",
       "</table>\n",
       "</div>"
      ],
      "text/plain": [
       "                      LineKeyOrigin                     LineKeyTarget  \\\n",
       "0  00000837B868F926F67BD440A0845C1D  5350FBED91E7DA465D7D436ADD1C48F3   \n",
       "1  00000837B868F926F67BD440A0845C1D  C88DD6FDDF73AF80517291EEA7339B32   \n",
       "2  000017368A8964F8C71A9F3A1EAF6160  11509D6701C5280D0D0B2271246424B0   \n",
       "3  000017368A8964F8C71A9F3A1EAF6160  651D2B4E897DB722F28EDB856F4909FE   \n",
       "4  000017368A8964F8C71A9F3A1EAF6160  FB36428E265F633EC2227140BDDCCB4D   \n",
       "\n",
       "   CallsWeekDaylight  CallsWeekNight  CallsWeekend  TimeWeekDaylight  \\\n",
       "0                  0               0             2                 0   \n",
       "1                  1               2             1                47   \n",
       "2                  1               0             0               318   \n",
       "3                  2               0             0               165   \n",
       "4                  1               0             0               147   \n",
       "\n",
       "   TimeWeekNight  TimeWeekend EPIDEMIC  ANTENNA_ID_0 EPIDEMIC_Target  \\\n",
       "0              0           45    False           650           False   \n",
       "1             74           64    False           650           False   \n",
       "2              0            0     True           815           False   \n",
       "3              0            0     True           815           False   \n",
       "4              0            0     True           815            True   \n",
       "\n",
       "   ANTENNA_ID_0_Target  \n",
       "0                  650  \n",
       "1                  650  \n",
       "2                  414  \n",
       "3                 1896  \n",
       "4                  707  "
      ]
     },
     "execution_count": 384,
     "metadata": {},
     "output_type": "execute_result"
    }
   ],
   "source": [
    "table.head()"
   ]
  },
  {
   "cell_type": "code",
   "execution_count": null,
   "metadata": {
    "collapsed": true
   },
   "outputs": [],
   "source": []
  },
  {
   "cell_type": "markdown",
   "metadata": {},
   "source": [
    "## Agrego en un .sum() la info de sum_links por antenna y por KeyOrigin\n",
    "OBS importante al 17/03. La informacion p/c/ user de la telco puede venir en la columna Origin o Target indistintamente, el orden solo marca la 'direccion' de la informacion luego habria que repetir el analisis swappeando las columnas (para ahora tener la otra direccion) "
   ]
  },
  {
   "cell_type": "markdown",
   "metadata": {},
   "source": [
    "## 0) get_epidemic_aggregator for .apply"
   ]
  },
  {
   "cell_type": "code",
   "execution_count": 485,
   "metadata": {
    "collapsed": true
   },
   "outputs": [],
   "source": [
    "#con esta funcion creamos las filas que vienen a agrupar las sumas de llamados para c/ usuario a partir de contactos con \n",
    "#usuarios epidemicos y la suma sin segregar(i.e. sumando los valores para epi==0 y epi ==1)\n",
    "\n",
    "def get_epidemic_agregator(group):\n",
    "    #genero la lista vacia de output sin epidemic\n",
    "    \n",
    "    labels = [col for col in group.columns.values if (col != 'EPIDEMIC' and not('Line' in col) and not('ANTENNA' in col) )]\n",
    "    all_labels = labels + [col+\"_EPI\" for col in labels]\n",
    "    medio = len(labels)\n",
    "    vals = [0]*2*(medio) \n",
    "    vals = np.array(vals,dtype=np.uint16)\n",
    "    #total_user = \n",
    "    #users = \n",
    "    #aca hay que tener mucho cuidados con los casos epidemic solo ==0, solo epi==1, y solo epi ==1 and 0\n",
    "    if group.shape[0]>1:\n",
    "        users = group[group['EPIDEMIC']==1]\n",
    "        vuln_users = group[group['EPIDEMIC']==1]\n",
    "        grouped = group.groupby('EPIDEMIC')[labels].sum()\n",
    "        #en el caso que el grupo tenga dos estados de EPIDEMIC, sigue siendo un dataframe\n",
    "        if grouped.shape[0]>1:\n",
    "            non_epi = grouped.iloc[0].values\n",
    "            epi = grouped.iloc[1].values\n",
    "    #en el caso que el grupo tenga solo 1 estado de EPIDEMIC,colapasa a una serie con la info en el indice\n",
    "        else:\n",
    "            if grouped.index.values==0:\n",
    "                non_epi = grouped.values[0]\n",
    "                epi = np.zeros(medio)\n",
    "            if grouped.index.values==1:\n",
    "                epi = grouped.values[0]\n",
    "                non_epi = np.zeros(medio)\n",
    "        \n",
    "        \n",
    "        #epi = np.array(group.iloc[1,:].values.tolist()[2:],dtype=np.uint16) if group.iloc[1,:].EPIDEMIC ==1 else \\\n",
    "        #                np.array(group.iloc[0,:].values.tolist()[2:],dtype=np.uint16)\n",
    "        #non_epi = np.array(group.iloc[0,:].values.tolist()[2:],dtype=np.uint16) if group.iloc[0,:].EPIDEMIC ==0 else \\\n",
    "        #                    np.array(group.iloc[1,:].values.tolist()[2:],dtype=np.uint16)\n",
    "        \n",
    "        \n",
    "        epi =  np.array(epi.tolist(),dtype=np.uint16)\n",
    "        non_epi =  np.array(non_epi.tolist(),dtype=np.uint16)\n",
    "        #print(\"epi es %s\" %epi)\n",
    "        #print(\"non_epi es %s\" %non_epi )\n",
    "        vals[:medio] += epi.astype(np.uint16) + non_epi.astype(np.uint16)\n",
    "        vals[medio:] = epi\n",
    "        #print(vals)\n",
    "\n",
    "    #caso solo una fila\n",
    "    elif group.shape[0]==1:\n",
    "\n",
    "        if group.EPIDEMIC.values==0:\n",
    "            #primer mitad es valores de la fila, segunda mitad 0\n",
    "            vals[:medio] += np.array(group[labels].iloc[0].values.tolist(),dtype=np.uint16)\n",
    "\n",
    "        if group.EPIDEMIC.values==1:\n",
    "          \n",
    "            #primer mitad es 0 , segunda mitad valores de la fila\n",
    "            vals[medio:] += np.array(group[labels].iloc[0].values.tolist(),dtype=np.uint16)\n",
    "    \n",
    "    #print(\"vals object is %s\" %vals)\n",
    "    \n",
    "    epi_table = pd.DataFrame(data = [vals], columns=all_labels) \n",
    "    \n",
    "    return epi_table\n"
   ]
  },
  {
   "cell_type": "markdown",
   "metadata": {},
   "source": [
    "### 1) Make Antenna_users\n",
    "Queremos ver cuantos users interactuando con una antenna son Vulnerables y cuantos Totales\n",
    "Si pensamos que las antennas definen una particion de los nodos del grafo:\n",
    "\n",
    "Aca Total_users no significa cuantos usuarios residen en la antenna, ni cuantos usuarios de afuera llamaron a la antenna, sino que especificamente habla del # de aristas del grafo social (donde arista implica **cualquier** tipo de comunicacion) que entran a la antenna i.e. a esta particion \n",
    "\n",
    "Como ejemplo pensar el caso en que existen 3 users en la antenna y 2 users en otro antenna y ver como contar las aristas de este grafo bipartito (que puede ser incompleto)\n",
    "\n",
    "Idem para Vuln_users, pero ahora cuenta las aristas que provienen exclusivamente de usuarios \"epidemicos\" y que esten fuera de la antenna"
   ]
  },
  {
   "cell_type": "code",
   "execution_count": 486,
   "metadata": {
    "collapsed": false
   },
   "outputs": [
    {
     "data": {
      "text/plain": [
       "Index([u'LineKeyOrigin', u'LineKeyTarget', u'CallsWeekDaylight',\n",
       "       u'CallsWeekNight', u'CallsWeekend', u'TimeWeekDaylight',\n",
       "       u'TimeWeekNight', u'TimeWeekend', u'EPIDEMIC', u'ANTENNA_ID_0',\n",
       "       u'EPIDEMIC_Target', u'ANTENNA_ID_0_Target'],\n",
       "      dtype='object')"
      ]
     },
     "execution_count": 486,
     "metadata": {},
     "output_type": "execute_result"
    }
   ],
   "source": [
    "table.columns"
   ]
  },
  {
   "cell_type": "code",
   "execution_count": 489,
   "metadata": {
    "collapsed": false
   },
   "outputs": [
    {
     "name": "stdout",
     "output_type": "stream",
     "text": [
      "total cell time for 4171 antennas is 6.79087901115\n"
     ]
    }
   ],
   "source": [
    "start_time = time.time()\n",
    "\n",
    "cols = [col for col in table.columns if not('Line' in col or 'ANTENNA' in col) ]\n",
    "\n",
    "#user_cols = [col for col in table.columns if ('Line' in col ) ]\n",
    "\n",
    "antenna_table = table.groupby(['ANTENNA_ID_0','ANTENNA_ID_0_Target'],sort=False)[cols].sum()\n",
    "antenna_table.drop(['EPIDEMIC','EPIDEMIC_Target'],inplace=True,axis=1)\n",
    "#test  =  test.groupby(['LineKeyOrigin','EPIDEMIC'],sort=False)[cols].sum()\n",
    "antenna_table.reset_index([0,1],inplace=True)\n",
    "antenna_table.sort_values(by='ANTENNA_ID_0',inplace=True,ascending=True)\n",
    "\n",
    "#aca regularizo los distintos  pares y vuelvo a reagrupar luego\n",
    "antenna_table.loc[antenna_table['ANTENNA_ID_0'] > \n",
    "                  antenna_table['ANTENNA_ID_0_Target'],['ANTENNA_ID_0','ANTENNA_ID_0_Target']] =\\\n",
    "antenna_table.loc[antenna_table['ANTENNA_ID_0'] > \n",
    "                  antenna_table['ANTENNA_ID_0_Target'],['ANTENNA_ID_0_Target','ANTENNA_ID_0']].values\n",
    "\n",
    "antenna_table = antenna_table.groupby(['ANTENNA_ID_0','ANTENNA_ID_0_Target'],sort=True).sum()\n",
    "antenna_table.reset_index(inplace=True)\n",
    "\n",
    "elapsed_time = time.time()-start_time\n",
    "\n",
    "print(\"total cell time for {n} antennas is {t}\".format(n=(len(antenna_users)), t= elapsed_time))"
   ]
  },
  {
   "cell_type": "markdown",
   "metadata": {},
   "source": [
    "###  testeamos que los pares (i,j) sean realmente unicos a esta altura"
   ]
  },
  {
   "cell_type": "code",
   "execution_count": 494,
   "metadata": {
    "collapsed": false
   },
   "outputs": [
    {
     "data": {
      "text/html": [
       "<div>\n",
       "<table border=\"1\" class=\"dataframe\">\n",
       "  <thead>\n",
       "    <tr style=\"text-align: right;\">\n",
       "      <th></th>\n",
       "      <th>ANTENNA_ID_0</th>\n",
       "      <th>ANTENNA_ID_0_Target</th>\n",
       "      <th>CallsWeekDaylight</th>\n",
       "      <th>CallsWeekNight</th>\n",
       "      <th>CallsWeekend</th>\n",
       "      <th>TimeWeekDaylight</th>\n",
       "      <th>TimeWeekNight</th>\n",
       "      <th>TimeWeekend</th>\n",
       "    </tr>\n",
       "  </thead>\n",
       "  <tbody>\n",
       "    <tr>\n",
       "      <th>0</th>\n",
       "      <td>1</td>\n",
       "      <td>1</td>\n",
       "      <td>1881</td>\n",
       "      <td>678</td>\n",
       "      <td>659</td>\n",
       "      <td>161172</td>\n",
       "      <td>73558</td>\n",
       "      <td>82831</td>\n",
       "    </tr>\n",
       "    <tr>\n",
       "      <th>1</th>\n",
       "      <td>1</td>\n",
       "      <td>2</td>\n",
       "      <td>0</td>\n",
       "      <td>1</td>\n",
       "      <td>0</td>\n",
       "      <td>0</td>\n",
       "      <td>127</td>\n",
       "      <td>0</td>\n",
       "    </tr>\n",
       "    <tr>\n",
       "      <th>2</th>\n",
       "      <td>1</td>\n",
       "      <td>4</td>\n",
       "      <td>2</td>\n",
       "      <td>0</td>\n",
       "      <td>4</td>\n",
       "      <td>344</td>\n",
       "      <td>0</td>\n",
       "      <td>226</td>\n",
       "    </tr>\n",
       "    <tr>\n",
       "      <th>3</th>\n",
       "      <td>1</td>\n",
       "      <td>5</td>\n",
       "      <td>7</td>\n",
       "      <td>0</td>\n",
       "      <td>2</td>\n",
       "      <td>501</td>\n",
       "      <td>0</td>\n",
       "      <td>60</td>\n",
       "    </tr>\n",
       "    <tr>\n",
       "      <th>4</th>\n",
       "      <td>1</td>\n",
       "      <td>6</td>\n",
       "      <td>488</td>\n",
       "      <td>214</td>\n",
       "      <td>244</td>\n",
       "      <td>61166</td>\n",
       "      <td>40438</td>\n",
       "      <td>31610</td>\n",
       "    </tr>\n",
       "  </tbody>\n",
       "</table>\n",
       "</div>"
      ],
      "text/plain": [
       "   ANTENNA_ID_0  ANTENNA_ID_0_Target  CallsWeekDaylight  CallsWeekNight  \\\n",
       "0             1                    1               1881             678   \n",
       "1             1                    2                  0               1   \n",
       "2             1                    4                  2               0   \n",
       "3             1                    5                  7               0   \n",
       "4             1                    6                488             214   \n",
       "\n",
       "   CallsWeekend  TimeWeekDaylight  TimeWeekNight  TimeWeekend  \n",
       "0           659            161172          73558        82831  \n",
       "1             0                 0            127            0  \n",
       "2             4               344              0          226  \n",
       "3             2               501              0           60  \n",
       "4           244             61166          40438        31610  "
      ]
     },
     "execution_count": 494,
     "metadata": {},
     "output_type": "execute_result"
    }
   ],
   "source": [
    "antenna_table.head()"
   ]
  },
  {
   "cell_type": "code",
   "execution_count": 490,
   "metadata": {
    "collapsed": false
   },
   "outputs": [],
   "source": [
    "a = antenna_table[['ANTENNA_ID_0','ANTENNA_ID_0_Target']].values"
   ]
  },
  {
   "cell_type": "code",
   "execution_count": 491,
   "metadata": {
    "collapsed": true
   },
   "outputs": [],
   "source": [
    "def unique(array):\n",
    "    order = np.lexsort(array.T)\n",
    "    array = array[order]\n",
    "    diff = np.diff(array, axis=0)\n",
    "    ui = np.ones(len(array), 'bool')\n",
    "    ui[1:] = (diff != 0).any(axis=1) \n",
    "    return array[ui]"
   ]
  },
  {
   "cell_type": "code",
   "execution_count": 488,
   "metadata": {
    "collapsed": false
   },
   "outputs": [
    {
     "data": {
      "text/plain": [
       "array([[2, 1],\n",
       "       [1, 2],\n",
       "       [1, 3],\n",
       "       [1, 5]])"
      ]
     },
     "execution_count": 488,
     "metadata": {},
     "output_type": "execute_result"
    }
   ],
   "source": [
    "prueba = np.array([[1,2],[1,3],[1,3],[1,5],[2,1],[2,1]]) \n",
    "unique(prueba)"
   ]
  },
  {
   "cell_type": "code",
   "execution_count": 492,
   "metadata": {
    "collapsed": true
   },
   "outputs": [],
   "source": [
    "b = unique(antenna_table[['ANTENNA_ID_0','ANTENNA_ID_0_Target']].values)"
   ]
  },
  {
   "cell_type": "code",
   "execution_count": 493,
   "metadata": {
    "collapsed": false
   },
   "outputs": [
    {
     "data": {
      "text/plain": [
       "(1120624, (1120624, 8))"
      ]
     },
     "execution_count": 493,
     "metadata": {},
     "output_type": "execute_result"
    }
   ],
   "source": [
    "len(b), antenna_table.shape"
   ]
  },
  {
   "cell_type": "markdown",
   "metadata": {},
   "source": [
    "### Result OK"
   ]
  },
  {
   "cell_type": "code",
   "execution_count": 495,
   "metadata": {
    "collapsed": false
   },
   "outputs": [],
   "source": [
    "# reagrego la informacion de las antennas epidemicas\n",
    "antennas= pd.read_csv('/home/juan/mobility-study/antennas_mexico.csv',sep = \"|\",header=0,index_col=None)\n",
    "antenna_table = antenna_table.join(antennas['EPIDEMIC'], on='ANTENNA_ID_0',how='left')\n",
    "antenna_table.rename(columns={'EPIDEMIC':\"EPIDEMICOrigin\"},inplace=True)\n",
    "antenna_table = antenna_table.join(antennas['EPIDEMIC'], on='ANTENNA_ID_0_Target',how='left')\n",
    "antenna_table.rename(columns={'EPIDEMIC':\"EPIDEMICTarget\"},inplace=True)"
   ]
  },
  {
   "cell_type": "code",
   "execution_count": 496,
   "metadata": {
    "collapsed": false
   },
   "outputs": [
    {
     "data": {
      "text/html": [
       "<div>\n",
       "<table border=\"1\" class=\"dataframe\">\n",
       "  <thead>\n",
       "    <tr style=\"text-align: right;\">\n",
       "      <th></th>\n",
       "      <th>ANTENNA_ID_0</th>\n",
       "      <th>ANTENNA_ID_0_Target</th>\n",
       "      <th>CallsWeekDaylight</th>\n",
       "      <th>CallsWeekNight</th>\n",
       "      <th>CallsWeekend</th>\n",
       "      <th>TimeWeekDaylight</th>\n",
       "      <th>TimeWeekNight</th>\n",
       "      <th>TimeWeekend</th>\n",
       "      <th>EPIDEMICOrigin</th>\n",
       "      <th>EPIDEMICTarget</th>\n",
       "    </tr>\n",
       "  </thead>\n",
       "  <tbody>\n",
       "    <tr>\n",
       "      <th>157173</th>\n",
       "      <td>222</td>\n",
       "      <td>458</td>\n",
       "      <td>51</td>\n",
       "      <td>9</td>\n",
       "      <td>9</td>\n",
       "      <td>6161</td>\n",
       "      <td>767</td>\n",
       "      <td>545</td>\n",
       "      <td>1</td>\n",
       "      <td>1</td>\n",
       "    </tr>\n",
       "    <tr>\n",
       "      <th>307664</th>\n",
       "      <td>450</td>\n",
       "      <td>697</td>\n",
       "      <td>8</td>\n",
       "      <td>7</td>\n",
       "      <td>2</td>\n",
       "      <td>573</td>\n",
       "      <td>585</td>\n",
       "      <td>133</td>\n",
       "      <td>1</td>\n",
       "      <td>0</td>\n",
       "    </tr>\n",
       "    <tr>\n",
       "      <th>1084018</th>\n",
       "      <td>2751</td>\n",
       "      <td>3491</td>\n",
       "      <td>1</td>\n",
       "      <td>0</td>\n",
       "      <td>0</td>\n",
       "      <td>71</td>\n",
       "      <td>0</td>\n",
       "      <td>0</td>\n",
       "      <td>1</td>\n",
       "      <td>0</td>\n",
       "    </tr>\n",
       "    <tr>\n",
       "      <th>966390</th>\n",
       "      <td>1941</td>\n",
       "      <td>2097</td>\n",
       "      <td>12</td>\n",
       "      <td>1</td>\n",
       "      <td>2</td>\n",
       "      <td>651</td>\n",
       "      <td>35</td>\n",
       "      <td>119</td>\n",
       "      <td>0</td>\n",
       "      <td>0</td>\n",
       "    </tr>\n",
       "    <tr>\n",
       "      <th>728483</th>\n",
       "      <td>1236</td>\n",
       "      <td>2215</td>\n",
       "      <td>11</td>\n",
       "      <td>3</td>\n",
       "      <td>2</td>\n",
       "      <td>801</td>\n",
       "      <td>154</td>\n",
       "      <td>176</td>\n",
       "      <td>0</td>\n",
       "      <td>0</td>\n",
       "    </tr>\n",
       "    <tr>\n",
       "      <th>73161</th>\n",
       "      <td>101</td>\n",
       "      <td>1671</td>\n",
       "      <td>105</td>\n",
       "      <td>60</td>\n",
       "      <td>88</td>\n",
       "      <td>8240</td>\n",
       "      <td>2837</td>\n",
       "      <td>6280</td>\n",
       "      <td>1</td>\n",
       "      <td>0</td>\n",
       "    </tr>\n",
       "    <tr>\n",
       "      <th>91414</th>\n",
       "      <td>129</td>\n",
       "      <td>189</td>\n",
       "      <td>0</td>\n",
       "      <td>2</td>\n",
       "      <td>0</td>\n",
       "      <td>0</td>\n",
       "      <td>318</td>\n",
       "      <td>0</td>\n",
       "      <td>1</td>\n",
       "      <td>1</td>\n",
       "    </tr>\n",
       "    <tr>\n",
       "      <th>441459</th>\n",
       "      <td>665</td>\n",
       "      <td>757</td>\n",
       "      <td>144</td>\n",
       "      <td>72</td>\n",
       "      <td>69</td>\n",
       "      <td>13292</td>\n",
       "      <td>10810</td>\n",
       "      <td>5546</td>\n",
       "      <td>0</td>\n",
       "      <td>1</td>\n",
       "    </tr>\n",
       "    <tr>\n",
       "      <th>13976</th>\n",
       "      <td>16</td>\n",
       "      <td>1700</td>\n",
       "      <td>1</td>\n",
       "      <td>0</td>\n",
       "      <td>0</td>\n",
       "      <td>303</td>\n",
       "      <td>0</td>\n",
       "      <td>0</td>\n",
       "      <td>1</td>\n",
       "      <td>0</td>\n",
       "    </tr>\n",
       "    <tr>\n",
       "      <th>349564</th>\n",
       "      <td>520</td>\n",
       "      <td>2500</td>\n",
       "      <td>6</td>\n",
       "      <td>4</td>\n",
       "      <td>0</td>\n",
       "      <td>2233</td>\n",
       "      <td>1898</td>\n",
       "      <td>0</td>\n",
       "      <td>1</td>\n",
       "      <td>0</td>\n",
       "    </tr>\n",
       "  </tbody>\n",
       "</table>\n",
       "</div>"
      ],
      "text/plain": [
       "         ANTENNA_ID_0  ANTENNA_ID_0_Target  CallsWeekDaylight  CallsWeekNight  \\\n",
       "157173            222                  458                 51               9   \n",
       "307664            450                  697                  8               7   \n",
       "1084018          2751                 3491                  1               0   \n",
       "966390           1941                 2097                 12               1   \n",
       "728483           1236                 2215                 11               3   \n",
       "73161             101                 1671                105              60   \n",
       "91414             129                  189                  0               2   \n",
       "441459            665                  757                144              72   \n",
       "13976              16                 1700                  1               0   \n",
       "349564            520                 2500                  6               4   \n",
       "\n",
       "         CallsWeekend  TimeWeekDaylight  TimeWeekNight  TimeWeekend  \\\n",
       "157173              9              6161            767          545   \n",
       "307664              2               573            585          133   \n",
       "1084018             0                71              0            0   \n",
       "966390              2               651             35          119   \n",
       "728483              2               801            154          176   \n",
       "73161              88              8240           2837         6280   \n",
       "91414               0                 0            318            0   \n",
       "441459             69             13292          10810         5546   \n",
       "13976               0               303              0            0   \n",
       "349564              0              2233           1898            0   \n",
       "\n",
       "         EPIDEMICOrigin  EPIDEMICTarget  \n",
       "157173                1               1  \n",
       "307664                1               0  \n",
       "1084018               1               0  \n",
       "966390                0               0  \n",
       "728483                0               0  \n",
       "73161                 1               0  \n",
       "91414                 1               1  \n",
       "441459                0               1  \n",
       "13976                 1               0  \n",
       "349564                1               0  "
      ]
     },
     "execution_count": 496,
     "metadata": {},
     "output_type": "execute_result"
    }
   ],
   "source": [
    "antenna_table.sample(10)"
   ]
  },
  {
   "cell_type": "code",
   "execution_count": 188,
   "metadata": {
    "collapsed": false
   },
   "outputs": [
    {
     "data": {
      "text/plain": [
       "array([1, 2])"
      ]
     },
     "execution_count": 188,
     "metadata": {},
     "output_type": "execute_result"
    }
   ],
   "source": [
    "antenna_table.loc[1,['ANTENNA_ID_0','ANTENNA_ID_0_Target']].values"
   ]
  },
  {
   "cell_type": "code",
   "execution_count": 206,
   "metadata": {
    "collapsed": true
   },
   "outputs": [],
   "source": [
    "def group_permutation_antennas(row):\n",
    "    print(type(row))\n",
    "    print(row)\n",
    "    pair = row[['ANTENNA_ID_0','ANTENNA_ID_0_Target']].values\n",
    "    if pair[0]>pair[1]:\n",
    "        pair = pair[::-1]\n",
    "    return pair"
   ]
  },
  {
   "cell_type": "markdown",
   "metadata": {},
   "source": [
    "## Total and vuln users per antenna\n",
    "Para calcular en c/antenna los usuarios que la usan y tmb los que la usan && son_epidemic "
   ]
  },
  {
   "cell_type": "code",
   "execution_count": 207,
   "metadata": {
    "collapsed": true
   },
   "outputs": [
    {
     "name": "stdout",
     "output_type": "stream",
     "text": [
      "<type 'int'>\n",
      "0\n"
     ]
    },
    {
     "ename": "TypeError",
     "evalue": "'int' object has no attribute '__getitem__'",
     "output_type": "error",
     "traceback": [
      "\u001b[1;31m---------------------------------------------------------------------------\u001b[0m",
      "\u001b[1;31mTypeError\u001b[0m                                 Traceback (most recent call last)",
      "\u001b[1;32m<ipython-input-207-3da87dfd56d8>\u001b[0m in \u001b[0;36m<module>\u001b[1;34m()\u001b[0m\n\u001b[1;32m----> 1\u001b[1;33m \u001b[0mantenna_users\u001b[0m \u001b[1;33m=\u001b[0m \u001b[0mtable\u001b[0m\u001b[1;33m.\u001b[0m\u001b[0mgroupby\u001b[0m\u001b[1;33m(\u001b[0m\u001b[0mgroup_permutation_antennas\u001b[0m\u001b[1;33m,\u001b[0m\u001b[0maxis\u001b[0m\u001b[1;33m=\u001b[0m\u001b[1;36m0\u001b[0m\u001b[1;33m,\u001b[0m\u001b[0msort\u001b[0m\u001b[1;33m=\u001b[0m\u001b[0mFalse\u001b[0m\u001b[1;33m)\u001b[0m\u001b[1;33m[\u001b[0m\u001b[0mcols\u001b[0m\u001b[1;33m]\u001b[0m\u001b[1;33m.\u001b[0m\u001b[0mcount\u001b[0m\u001b[1;33m(\u001b[0m\u001b[1;33m)\u001b[0m\u001b[1;33m\u001b[0m\u001b[0m\n\u001b[0m\u001b[0;32m      2\u001b[0m \u001b[0mantenna_users\u001b[0m\u001b[1;33m.\u001b[0m\u001b[0mreset_index\u001b[0m\u001b[1;33m(\u001b[0m\u001b[0mlevel\u001b[0m \u001b[1;33m=\u001b[0m \u001b[1;33m[\u001b[0m\u001b[1;36m0\u001b[0m\u001b[1;33m,\u001b[0m\u001b[1;36m1\u001b[0m\u001b[1;33m]\u001b[0m\u001b[1;33m,\u001b[0m\u001b[0minplace\u001b[0m\u001b[1;33m=\u001b[0m\u001b[0mTrue\u001b[0m\u001b[1;33m)\u001b[0m\u001b[1;33m\u001b[0m\u001b[0m\n",
      "\u001b[1;32m/home/juan/anaconda2/lib/python2.7/site-packages/pandas/core/generic.pyc\u001b[0m in \u001b[0;36mgroupby\u001b[1;34m(self, by, axis, level, as_index, sort, group_keys, squeeze)\u001b[0m\n\u001b[0;32m   3434\u001b[0m         \u001b[0maxis\u001b[0m \u001b[1;33m=\u001b[0m \u001b[0mself\u001b[0m\u001b[1;33m.\u001b[0m\u001b[0m_get_axis_number\u001b[0m\u001b[1;33m(\u001b[0m\u001b[0maxis\u001b[0m\u001b[1;33m)\u001b[0m\u001b[1;33m\u001b[0m\u001b[0m\n\u001b[0;32m   3435\u001b[0m         return groupby(self, by=by, axis=axis, level=level, as_index=as_index,\n\u001b[1;32m-> 3436\u001b[1;33m                        sort=sort, group_keys=group_keys, squeeze=squeeze)\n\u001b[0m\u001b[0;32m   3437\u001b[0m \u001b[1;33m\u001b[0m\u001b[0m\n\u001b[0;32m   3438\u001b[0m     \u001b[1;32mdef\u001b[0m \u001b[0masfreq\u001b[0m\u001b[1;33m(\u001b[0m\u001b[0mself\u001b[0m\u001b[1;33m,\u001b[0m \u001b[0mfreq\u001b[0m\u001b[1;33m,\u001b[0m \u001b[0mmethod\u001b[0m\u001b[1;33m=\u001b[0m\u001b[0mNone\u001b[0m\u001b[1;33m,\u001b[0m \u001b[0mhow\u001b[0m\u001b[1;33m=\u001b[0m\u001b[0mNone\u001b[0m\u001b[1;33m,\u001b[0m \u001b[0mnormalize\u001b[0m\u001b[1;33m=\u001b[0m\u001b[0mFalse\u001b[0m\u001b[1;33m)\u001b[0m\u001b[1;33m:\u001b[0m\u001b[1;33m\u001b[0m\u001b[0m\n",
      "\u001b[1;32m/home/juan/anaconda2/lib/python2.7/site-packages/pandas/core/groupby.pyc\u001b[0m in \u001b[0;36mgroupby\u001b[1;34m(obj, by, **kwds)\u001b[0m\n\u001b[0;32m   1309\u001b[0m         \u001b[1;32mraise\u001b[0m \u001b[0mTypeError\u001b[0m\u001b[1;33m(\u001b[0m\u001b[1;34m'invalid type: %s'\u001b[0m \u001b[1;33m%\u001b[0m \u001b[0mtype\u001b[0m\u001b[1;33m(\u001b[0m\u001b[0mobj\u001b[0m\u001b[1;33m)\u001b[0m\u001b[1;33m)\u001b[0m\u001b[1;33m\u001b[0m\u001b[0m\n\u001b[0;32m   1310\u001b[0m \u001b[1;33m\u001b[0m\u001b[0m\n\u001b[1;32m-> 1311\u001b[1;33m     \u001b[1;32mreturn\u001b[0m \u001b[0mklass\u001b[0m\u001b[1;33m(\u001b[0m\u001b[0mobj\u001b[0m\u001b[1;33m,\u001b[0m \u001b[0mby\u001b[0m\u001b[1;33m,\u001b[0m \u001b[1;33m**\u001b[0m\u001b[0mkwds\u001b[0m\u001b[1;33m)\u001b[0m\u001b[1;33m\u001b[0m\u001b[0m\n\u001b[0m\u001b[0;32m   1312\u001b[0m \u001b[1;33m\u001b[0m\u001b[0m\n\u001b[0;32m   1313\u001b[0m \u001b[1;33m\u001b[0m\u001b[0m\n",
      "\u001b[1;32m/home/juan/anaconda2/lib/python2.7/site-packages/pandas/core/groupby.pyc\u001b[0m in \u001b[0;36m__init__\u001b[1;34m(self, obj, keys, axis, level, grouper, exclusions, selection, as_index, sort, group_keys, squeeze)\u001b[0m\n\u001b[0;32m    416\u001b[0m         \u001b[1;32mif\u001b[0m \u001b[0mgrouper\u001b[0m \u001b[1;32mis\u001b[0m \u001b[0mNone\u001b[0m\u001b[1;33m:\u001b[0m\u001b[1;33m\u001b[0m\u001b[0m\n\u001b[0;32m    417\u001b[0m             grouper, exclusions, obj = _get_grouper(obj, keys, axis=axis,\n\u001b[1;32m--> 418\u001b[1;33m                                                     level=level, sort=sort)\n\u001b[0m\u001b[0;32m    419\u001b[0m \u001b[1;33m\u001b[0m\u001b[0m\n\u001b[0;32m    420\u001b[0m         \u001b[0mself\u001b[0m\u001b[1;33m.\u001b[0m\u001b[0mobj\u001b[0m \u001b[1;33m=\u001b[0m \u001b[0mobj\u001b[0m\u001b[1;33m\u001b[0m\u001b[0m\n",
      "\u001b[1;32m/home/juan/anaconda2/lib/python2.7/site-packages/pandas/core/groupby.pyc\u001b[0m in \u001b[0;36m_get_grouper\u001b[1;34m(obj, key, axis, level, sort)\u001b[0m\n\u001b[0;32m   2272\u001b[0m \u001b[1;33m\u001b[0m\u001b[0m\n\u001b[0;32m   2273\u001b[0m         ping = Grouping(group_axis, gpr, obj=obj, name=name,\n\u001b[1;32m-> 2274\u001b[1;33m                         level=level, sort=sort, in_axis=in_axis)\n\u001b[0m\u001b[0;32m   2275\u001b[0m \u001b[1;33m\u001b[0m\u001b[0m\n\u001b[0;32m   2276\u001b[0m         \u001b[0mgroupings\u001b[0m\u001b[1;33m.\u001b[0m\u001b[0mappend\u001b[0m\u001b[1;33m(\u001b[0m\u001b[0mping\u001b[0m\u001b[1;33m)\u001b[0m\u001b[1;33m\u001b[0m\u001b[0m\n",
      "\u001b[1;32m/home/juan/anaconda2/lib/python2.7/site-packages/pandas/core/groupby.pyc\u001b[0m in \u001b[0;36m__init__\u001b[1;34m(self, index, grouper, obj, name, level, sort, in_axis)\u001b[0m\n\u001b[0;32m   2097\u001b[0m                     \u001b[0mt\u001b[0m \u001b[1;33m=\u001b[0m \u001b[0mself\u001b[0m\u001b[1;33m.\u001b[0m\u001b[0mname\u001b[0m \u001b[1;32mor\u001b[0m \u001b[0mstr\u001b[0m\u001b[1;33m(\u001b[0m\u001b[0mtype\u001b[0m\u001b[1;33m(\u001b[0m\u001b[0mself\u001b[0m\u001b[1;33m.\u001b[0m\u001b[0mgrouper\u001b[0m\u001b[1;33m)\u001b[0m\u001b[1;33m)\u001b[0m\u001b[1;33m\u001b[0m\u001b[0m\n\u001b[0;32m   2098\u001b[0m                     \u001b[1;32mraise\u001b[0m \u001b[0mValueError\u001b[0m\u001b[1;33m(\u001b[0m\u001b[1;34m\"Grouper for '%s' not 1-dimensional\"\u001b[0m \u001b[1;33m%\u001b[0m \u001b[0mt\u001b[0m\u001b[1;33m)\u001b[0m\u001b[1;33m\u001b[0m\u001b[0m\n\u001b[1;32m-> 2099\u001b[1;33m                 \u001b[0mself\u001b[0m\u001b[1;33m.\u001b[0m\u001b[0mgrouper\u001b[0m \u001b[1;33m=\u001b[0m \u001b[0mself\u001b[0m\u001b[1;33m.\u001b[0m\u001b[0mindex\u001b[0m\u001b[1;33m.\u001b[0m\u001b[0mmap\u001b[0m\u001b[1;33m(\u001b[0m\u001b[0mself\u001b[0m\u001b[1;33m.\u001b[0m\u001b[0mgrouper\u001b[0m\u001b[1;33m)\u001b[0m\u001b[1;33m\u001b[0m\u001b[0m\n\u001b[0m\u001b[0;32m   2100\u001b[0m                 if not (hasattr(self.grouper, \"__len__\") and\n\u001b[0;32m   2101\u001b[0m                         len(self.grouper) == len(self.index)):\n",
      "\u001b[1;32m/home/juan/anaconda2/lib/python2.7/site-packages/pandas/core/index.pyc\u001b[0m in \u001b[0;36mmap\u001b[1;34m(self, mapper)\u001b[0m\n\u001b[0;32m   2036\u001b[0m \u001b[1;33m\u001b[0m\u001b[0m\n\u001b[0;32m   2037\u001b[0m     \u001b[1;32mdef\u001b[0m \u001b[0mmap\u001b[0m\u001b[1;33m(\u001b[0m\u001b[0mself\u001b[0m\u001b[1;33m,\u001b[0m \u001b[0mmapper\u001b[0m\u001b[1;33m)\u001b[0m\u001b[1;33m:\u001b[0m\u001b[1;33m\u001b[0m\u001b[0m\n\u001b[1;32m-> 2038\u001b[1;33m         \u001b[1;32mreturn\u001b[0m \u001b[0mself\u001b[0m\u001b[1;33m.\u001b[0m\u001b[0m_arrmap\u001b[0m\u001b[1;33m(\u001b[0m\u001b[0mself\u001b[0m\u001b[1;33m.\u001b[0m\u001b[0mvalues\u001b[0m\u001b[1;33m,\u001b[0m \u001b[0mmapper\u001b[0m\u001b[1;33m)\u001b[0m\u001b[1;33m\u001b[0m\u001b[0m\n\u001b[0m\u001b[0;32m   2039\u001b[0m \u001b[1;33m\u001b[0m\u001b[0m\n\u001b[0;32m   2040\u001b[0m     \u001b[1;32mdef\u001b[0m \u001b[0misin\u001b[0m\u001b[1;33m(\u001b[0m\u001b[0mself\u001b[0m\u001b[1;33m,\u001b[0m \u001b[0mvalues\u001b[0m\u001b[1;33m,\u001b[0m \u001b[0mlevel\u001b[0m\u001b[1;33m=\u001b[0m\u001b[0mNone\u001b[0m\u001b[1;33m)\u001b[0m\u001b[1;33m:\u001b[0m\u001b[1;33m\u001b[0m\u001b[0m\n",
      "\u001b[1;32mpandas/src/generated.pyx\u001b[0m in \u001b[0;36mpandas.algos.arrmap_int64 (pandas/algos.c:82638)\u001b[1;34m()\u001b[0m\n",
      "\u001b[1;32m<ipython-input-206-25f95e6d8046>\u001b[0m in \u001b[0;36mgroup_permutation_antennas\u001b[1;34m(row)\u001b[0m\n\u001b[0;32m      2\u001b[0m     \u001b[1;32mprint\u001b[0m\u001b[1;33m(\u001b[0m\u001b[0mtype\u001b[0m\u001b[1;33m(\u001b[0m\u001b[0mrow\u001b[0m\u001b[1;33m)\u001b[0m\u001b[1;33m)\u001b[0m\u001b[1;33m\u001b[0m\u001b[0m\n\u001b[0;32m      3\u001b[0m     \u001b[1;32mprint\u001b[0m\u001b[1;33m(\u001b[0m\u001b[0mrow\u001b[0m\u001b[1;33m)\u001b[0m\u001b[1;33m\u001b[0m\u001b[0m\n\u001b[1;32m----> 4\u001b[1;33m     \u001b[0mpair\u001b[0m \u001b[1;33m=\u001b[0m \u001b[0mrow\u001b[0m\u001b[1;33m[\u001b[0m\u001b[1;33m[\u001b[0m\u001b[1;34m'ANTENNA_ID_0'\u001b[0m\u001b[1;33m,\u001b[0m\u001b[1;34m'ANTENNA_ID_0_Target'\u001b[0m\u001b[1;33m]\u001b[0m\u001b[1;33m]\u001b[0m\u001b[1;33m.\u001b[0m\u001b[0mvalues\u001b[0m\u001b[1;33m\u001b[0m\u001b[0m\n\u001b[0m\u001b[0;32m      5\u001b[0m     \u001b[1;32mif\u001b[0m \u001b[0mpair\u001b[0m\u001b[1;33m[\u001b[0m\u001b[1;36m0\u001b[0m\u001b[1;33m]\u001b[0m\u001b[1;33m>\u001b[0m\u001b[0mpair\u001b[0m\u001b[1;33m[\u001b[0m\u001b[1;36m1\u001b[0m\u001b[1;33m]\u001b[0m\u001b[1;33m:\u001b[0m\u001b[1;33m\u001b[0m\u001b[0m\n\u001b[0;32m      6\u001b[0m         \u001b[0mpair\u001b[0m \u001b[1;33m=\u001b[0m \u001b[0mpair\u001b[0m\u001b[1;33m[\u001b[0m\u001b[1;33m:\u001b[0m\u001b[1;33m:\u001b[0m\u001b[1;33m-\u001b[0m\u001b[1;36m1\u001b[0m\u001b[1;33m]\u001b[0m\u001b[1;33m\u001b[0m\u001b[0m\n",
      "\u001b[1;31mTypeError\u001b[0m: 'int' object has no attribute '__getitem__'"
     ]
    }
   ],
   "source": [
    "antenna_users = table.groupby(group_permutation_antennas,sort=False)[cols].count()\n",
    "antenna_users.reset_index(level = [0,1],inplace=True)"
   ]
  },
  {
   "cell_type": "code",
   "execution_count": 14,
   "metadata": {
    "collapsed": false
   },
   "outputs": [
    {
     "name": "stdout",
     "output_type": "stream",
     "text": [
      "total cell time for 4171 users is 3.12188911438\n"
     ]
    }
   ],
   "source": [
    "start_time = time.time()\n",
    "\n",
    "antenna_users = table.groupby(['ANTENNA_ID_0','ANTENNA_ID_0_Target'],sort=False)[user_cols].count()\n",
    "antenna_users.reset_index(level = [0,1],inplace=True)\n",
    "\n",
    "antenna_users.sort_values(by='ANTENNA_ID_0',inplace=True,ascending=True)\n",
    "antenna_users = antenna_users.join(antennas['EPIDEMIC'], on='ANTENNA_ID_0_Target',how='left')\n",
    "antenna_users = antenna_users.groupby(['ANTENNA_ID_0','EPIDEMIC'])[user_cols].count()\n",
    "antenna_users.reset_index(level =1 ,inplace=True)\n",
    "antenna_users.drop('LineKeyTarget',inplace=True,axis=1)\n",
    "\n",
    "##OJO QUE existen antennas que no tienen contacto con epidemic ==0 o epidemic ==1 entonces aparecen NaNs que \n",
    "#deberian ser ==0\n",
    "\n",
    "antenna_users = antenna_users.pivot(columns='EPIDEMIC')\n",
    "antenna_users.fillna(value=0,inplace=True)\n",
    "antenna_users.columns = ['TOTAL_USERS','VULN_USERS']\n",
    "antenna_users.index.name='ANTENNA_ID_0'\n",
    "antenna_users['TOTAL_USERS'] = antenna_users['TOTAL_USERS'] +  antenna_users['VULN_USERS']\n",
    "\n",
    "elapsed_time = time.time()-start_time\n",
    "\n",
    "print(\"total cell time for {n} antennas is {t}\".format(n=(len(antenna_users)), t= elapsed_time))"
   ]
  },
  {
   "cell_type": "markdown",
   "metadata": {},
   "source": [
    "## OBS\n",
    "Hasta ahora, por la estructura de la tabla sum_links que toma en cuenta la direccion de las llamadas en la tupla (i,j) (i.e. el usuario i llama a j)\n",
    "\n",
    "Entonces podria estar pasando que tengo diferentes interacciones entre la antena (i,j) con la (j,i) (pues se puede devolver la llamada)\n",
    "\n",
    "para verificar esto vemos como hay diferencia entre los codigos de antenas entre la primera columna y la segunda columna\n",
    "\n",
    "### Descripcion de la tabla\n",
    "* Total_Origin es la cantidad de usuarios con base en la antenna A\n",
    "* Total_Target es la cantidad de users en todo el grafo que tienen contacto con la particion de A, pero no son de A\n",
    "* EPI_Target_USERS, cuantos users de la antenna A tienen al menos un llamado a otra antenna epidemica\n",
    "* EXP_Target_USERS: a cuantos users expuestos llamo la antenna A, sin incluir users de A.\n",
    "* EXP_Origin_USERS: cuantos users de A son users expuestos\n"
   ]
  },
  {
   "cell_type": "code",
   "execution_count": 661,
   "metadata": {
    "collapsed": false
   },
   "outputs": [
    {
     "data": {
      "text/plain": [
       "Index([u'TOTAL_Origin_USERS',   u'EPI_Target_USERS',   u'EXP_Target_USERS',\n",
       "       u'TOTAL_Target_USERS',   u'EXP_Origin_USERS'],\n",
       "      dtype='object')"
      ]
     },
     "execution_count": 661,
     "metadata": {},
     "output_type": "execute_result"
    }
   ],
   "source": [
    "total_ant_users.columns"
   ]
  },
  {
   "cell_type": "code",
   "execution_count": 656,
   "metadata": {
    "collapsed": true
   },
   "outputs": [],
   "source": [
    "ant_pair = table.loc[:,['LineKeyOrigin','LineKeyTarget']]\n",
    "ant_pair2 = ant_pair.loc[:,['LineKeyTarget','LineKeyOrigin']]\n",
    "ant_pair2.columns = ['LineKeyOrigin','LineKeyTarget']\n",
    "ant_pair = pd.concat([ant_pair,ant_pair2])\n",
    "#agrego la informacion epidemica y de exposicion\n",
    "ant_pair = ant_pair.join(user_epidemic,on = 'LineKeyOrigin', how = 'left')\n",
    "ant_pair = ant_pair.join(user_epidemic,on = 'LineKeyTarget', how = 'left',rsuffix = '_Target')\n",
    "del ant_pair2"
   ]
  },
  {
   "cell_type": "code",
   "execution_count": 657,
   "metadata": {
    "collapsed": false
   },
   "outputs": [
    {
     "data": {
      "text/html": [
       "<div>\n",
       "<table border=\"1\" class=\"dataframe\">\n",
       "  <thead>\n",
       "    <tr style=\"text-align: right;\">\n",
       "      <th></th>\n",
       "      <th>LineKeyOrigin</th>\n",
       "      <th>LineKeyTarget</th>\n",
       "      <th>EXPOSED</th>\n",
       "      <th>ANTENNA_ID_0</th>\n",
       "      <th>EPIDEMIC</th>\n",
       "      <th>EXPOSED_Target</th>\n",
       "      <th>ANTENNA_ID_0_Target</th>\n",
       "      <th>EPIDEMIC_Target</th>\n",
       "    </tr>\n",
       "  </thead>\n",
       "  <tbody>\n",
       "    <tr>\n",
       "      <th>0</th>\n",
       "      <td>00000837B868F926F67BD440A0845C1D</td>\n",
       "      <td>5350FBED91E7DA465D7D436ADD1C48F3</td>\n",
       "      <td>True</td>\n",
       "      <td>650</td>\n",
       "      <td>False</td>\n",
       "      <td>True</td>\n",
       "      <td>650</td>\n",
       "      <td>False</td>\n",
       "    </tr>\n",
       "    <tr>\n",
       "      <th>1</th>\n",
       "      <td>00000837B868F926F67BD440A0845C1D</td>\n",
       "      <td>C88DD6FDDF73AF80517291EEA7339B32</td>\n",
       "      <td>True</td>\n",
       "      <td>650</td>\n",
       "      <td>False</td>\n",
       "      <td>True</td>\n",
       "      <td>650</td>\n",
       "      <td>False</td>\n",
       "    </tr>\n",
       "    <tr>\n",
       "      <th>2</th>\n",
       "      <td>000017368A8964F8C71A9F3A1EAF6160</td>\n",
       "      <td>11509D6701C5280D0D0B2271246424B0</td>\n",
       "      <td>True</td>\n",
       "      <td>815</td>\n",
       "      <td>True</td>\n",
       "      <td>True</td>\n",
       "      <td>414</td>\n",
       "      <td>False</td>\n",
       "    </tr>\n",
       "    <tr>\n",
       "      <th>3</th>\n",
       "      <td>000017368A8964F8C71A9F3A1EAF6160</td>\n",
       "      <td>651D2B4E897DB722F28EDB856F4909FE</td>\n",
       "      <td>True</td>\n",
       "      <td>815</td>\n",
       "      <td>True</td>\n",
       "      <td>True</td>\n",
       "      <td>1896</td>\n",
       "      <td>False</td>\n",
       "    </tr>\n",
       "    <tr>\n",
       "      <th>4</th>\n",
       "      <td>000017368A8964F8C71A9F3A1EAF6160</td>\n",
       "      <td>FB36428E265F633EC2227140BDDCCB4D</td>\n",
       "      <td>True</td>\n",
       "      <td>815</td>\n",
       "      <td>True</td>\n",
       "      <td>True</td>\n",
       "      <td>707</td>\n",
       "      <td>True</td>\n",
       "    </tr>\n",
       "  </tbody>\n",
       "</table>\n",
       "</div>"
      ],
      "text/plain": [
       "                      LineKeyOrigin                     LineKeyTarget EXPOSED  \\\n",
       "0  00000837B868F926F67BD440A0845C1D  5350FBED91E7DA465D7D436ADD1C48F3    True   \n",
       "1  00000837B868F926F67BD440A0845C1D  C88DD6FDDF73AF80517291EEA7339B32    True   \n",
       "2  000017368A8964F8C71A9F3A1EAF6160  11509D6701C5280D0D0B2271246424B0    True   \n",
       "3  000017368A8964F8C71A9F3A1EAF6160  651D2B4E897DB722F28EDB856F4909FE    True   \n",
       "4  000017368A8964F8C71A9F3A1EAF6160  FB36428E265F633EC2227140BDDCCB4D    True   \n",
       "\n",
       "   ANTENNA_ID_0 EPIDEMIC EXPOSED_Target  ANTENNA_ID_0_Target EPIDEMIC_Target  \n",
       "0           650    False           True                  650           False  \n",
       "1           650    False           True                  650           False  \n",
       "2           815     True           True                  414           False  \n",
       "3           815     True           True                 1896           False  \n",
       "4           815     True           True                  707            True  "
      ]
     },
     "execution_count": 657,
     "metadata": {},
     "output_type": "execute_result"
    }
   ],
   "source": [
    "ant_pair.head()"
   ]
  },
  {
   "cell_type": "code",
   "execution_count": 658,
   "metadata": {
    "collapsed": false,
    "scrolled": false
   },
   "outputs": [
    {
     "data": {
      "text/plain": [
       "9.243396997451782"
      ]
     },
     "execution_count": 658,
     "metadata": {},
     "output_type": "execute_result"
    }
   ],
   "source": [
    "start_time = time.time()\n",
    "total_ant_users2 = ant_pair[ant_pair['ANTENNA_ID_0']!=ant_pair['ANTENNA_ID_0_Target']]\\\n",
    "                .groupby(['ANTENNA_ID_0']).LineKeyTarget.nunique()\n",
    "\n",
    "time.time() - start_time"
   ]
  },
  {
   "cell_type": "code",
   "execution_count": 662,
   "metadata": {
    "collapsed": false
   },
   "outputs": [
    {
     "name": "stdout",
     "output_type": "stream",
     "text": [
      "total algo time for 4178 antennas is 59.333561182\n"
     ]
    }
   ],
   "source": [
    "start_time = time.time()\n",
    "\n",
    "ant_pair = table.loc[:,['LineKeyOrigin','LineKeyTarget']]\n",
    "ant_pair2 = ant_pair.loc[:,['LineKeyTarget','LineKeyOrigin']]\n",
    "ant_pair2.columns = ['LineKeyOrigin','LineKeyTarget']\n",
    "ant_pair = pd.concat([ant_pair,ant_pair2])\n",
    "#agrego la informacion epidemica y de exposicion\n",
    "ant_pair = ant_pair.join(user_epidemic,on = 'LineKeyOrigin', how = 'left')\n",
    "ant_pair = ant_pair.join(user_epidemic,on = 'LineKeyTarget', how = 'left',rsuffix = '_Target')\n",
    "del ant_pair2\n",
    "\n",
    "#primero agrupo por ANT_Id y hago un count(distinct ) para los Origin o Target del grupo \n",
    "\n",
    "total_ant_users = ant_pair.groupby(['ANTENNA_ID_0']).LineKeyOrigin.nunique()\n",
    "total_ant_users = total_ant_users.reset_index()\n",
    "total_ant_users.columns =  [u'ANTENNA_ID_0', u'TOTAL_Origin_USERS']\n",
    "\n",
    "total_ant_users2 = ant_pair[ant_pair['ANTENNA_ID_0']!=ant_pair['ANTENNA_ID_0_Target']]\\\n",
    "                .groupby(['ANTENNA_ID_0']).LineKeyTarget.nunique()\n",
    "total_ant_users2 = total_ant_users2.reset_index()\n",
    "total_ant_users2.columns =  [u'ANTENNA_ID_0', u'TOTAL_Target_USERS']\n",
    "\n",
    "#junto las dos tablas\n",
    "total_ant_users =  pd.merge(total_ant_users,total_ant_users2,how='left',on='ANTENNA_ID_0')\n",
    "del total_ant_users2\n",
    "\n",
    "# EPIDEMIC & EXPOSED count\n",
    "#primero agrupo por el par (i,j) para no tener dos veces el par y agrupo \n",
    "#(el agregador es \"bobo\" no voy a estar usando la info de esta agrupacion)\n",
    "\n",
    "epidemic_ant_count = ant_pair[(ant_pair['EPIDEMIC_Target']==1) & (ant_pair['ANTENNA_ID_0']!= \\\n",
    "        ant_pair['ANTENNA_ID_0_Target']) ].groupby('ANTENNA_ID_0').LineKeyOrigin.nunique()\n",
    "\n",
    "exposed_ant_count = ant_pair[ant_pair['EXPOSED']==1]\\\n",
    "            .groupby('ANTENNA_ID_0').LineKeyOrigin.nunique()\n",
    "    \n",
    "exposed_ant_count2 = ant_pair[ant_pair['EXPOSED_Target']==1]\\\n",
    "            .groupby('ANTENNA_ID_0').LineKeyTarget.nunique()\n",
    "    \n",
    "epidemic_ant_count = epidemic_ant_count.to_frame()\n",
    "exposed_ant_count = exposed_ant_count.to_frame()\n",
    "exposed_ant_count2 = exposed_ant_count2.to_frame()\n",
    "\n",
    "\n",
    "epidemic_ant_count.columns = ['EPI_Target_USERS']\n",
    "exposed_ant_count.columns = ['EXP_Origin_USERS']\n",
    "exposed_ant_count2.columns = ['EXP_Target_USERS']\n",
    "exposed_ant_count.reset_index(inplace=True) \n",
    "exposed_ant_count2.reset_index(inplace=True)\n",
    "\n",
    "exposed_ant_count = pd.merge(exposed_ant_count, exposed_ant_count2, how='outer',on='ANTENNA_ID_0').fillna(0)\n",
    "del exposed_ant_count2\n",
    "\n",
    "#agrego la informacion epidemica y de exposicion en total_users y relleno los NaNs con 0s i.e. ausencia de conteos\n",
    "total_ant_users = total_ant_users.join(epidemic_ant_count['EPI_Target_USERS'],on = 'ANTENNA_ID_0', how = 'left').fillna(0)\n",
    "del epidemic_ant_count\n",
    "\n",
    "total_ant_users = pd.merge(total_ant_users, exposed_ant_count, on = 'ANTENNA_ID_0', how = 'left').fillna(0)\n",
    "del exposed_ant_count\n",
    "\n",
    "total_ant_users.set_index('ANTENNA_ID_0',inplace=True)\n",
    "total_ant_users = total_ant_users[[\"TOTAL_Origin_USERS\",\n",
    "                                   \"EPI_Target_USERS\",\"EXP_Target_USERS\", \"TOTAL_Target_USERS\" , \"EXP_Origin_USERS\"]]\n",
    "\n",
    "elapsed_time = time.time()-start_time\n",
    "print(\"total algo time for {n} antennas is {t}\".format(n=(len(total_ant_users)), t= elapsed_time))"
   ]
  },
  {
   "cell_type": "markdown",
   "metadata": {},
   "source": [
    "### Small Sanity check\n",
    "Not losing users and particular case checking."
   ]
  },
  {
   "cell_type": "code",
   "execution_count": 653,
   "metadata": {
    "collapsed": false
   },
   "outputs": [
    {
     "data": {
      "text/html": [
       "<div>\n",
       "<table border=\"1\" class=\"dataframe\">\n",
       "  <thead>\n",
       "    <tr style=\"text-align: right;\">\n",
       "      <th></th>\n",
       "      <th>TOTAL_Origin_USERS</th>\n",
       "      <th>EPI_Target_USERS</th>\n",
       "      <th>EXP_Target_USERS</th>\n",
       "      <th>TOTAL_Target_USERS</th>\n",
       "      <th>EXP_Origin_USERS</th>\n",
       "    </tr>\n",
       "    <tr>\n",
       "      <th>ANTENNA_ID_0</th>\n",
       "      <th></th>\n",
       "      <th></th>\n",
       "      <th></th>\n",
       "      <th></th>\n",
       "      <th></th>\n",
       "    </tr>\n",
       "  </thead>\n",
       "  <tbody>\n",
       "    <tr>\n",
       "      <th>3648</th>\n",
       "      <td>69</td>\n",
       "      <td>35</td>\n",
       "      <td>140</td>\n",
       "      <td>152</td>\n",
       "      <td>65</td>\n",
       "    </tr>\n",
       "    <tr>\n",
       "      <th>1578</th>\n",
       "      <td>478</td>\n",
       "      <td>312</td>\n",
       "      <td>1032</td>\n",
       "      <td>1053</td>\n",
       "      <td>478</td>\n",
       "    </tr>\n",
       "    <tr>\n",
       "      <th>840</th>\n",
       "      <td>904</td>\n",
       "      <td>660</td>\n",
       "      <td>2140</td>\n",
       "      <td>2183</td>\n",
       "      <td>904</td>\n",
       "    </tr>\n",
       "    <tr>\n",
       "      <th>2022</th>\n",
       "      <td>901</td>\n",
       "      <td>507</td>\n",
       "      <td>2163</td>\n",
       "      <td>2244</td>\n",
       "      <td>837</td>\n",
       "    </tr>\n",
       "    <tr>\n",
       "      <th>28</th>\n",
       "      <td>856</td>\n",
       "      <td>620</td>\n",
       "      <td>2229</td>\n",
       "      <td>2278</td>\n",
       "      <td>856</td>\n",
       "    </tr>\n",
       "    <tr>\n",
       "      <th>3624</th>\n",
       "      <td>330</td>\n",
       "      <td>173</td>\n",
       "      <td>934</td>\n",
       "      <td>1015</td>\n",
       "      <td>302</td>\n",
       "    </tr>\n",
       "    <tr>\n",
       "      <th>3048</th>\n",
       "      <td>700</td>\n",
       "      <td>511</td>\n",
       "      <td>2569</td>\n",
       "      <td>2671</td>\n",
       "      <td>700</td>\n",
       "    </tr>\n",
       "    <tr>\n",
       "      <th>222</th>\n",
       "      <td>985</td>\n",
       "      <td>506</td>\n",
       "      <td>2240</td>\n",
       "      <td>2322</td>\n",
       "      <td>960</td>\n",
       "    </tr>\n",
       "    <tr>\n",
       "      <th>2442</th>\n",
       "      <td>415</td>\n",
       "      <td>320</td>\n",
       "      <td>1164</td>\n",
       "      <td>1202</td>\n",
       "      <td>415</td>\n",
       "    </tr>\n",
       "    <tr>\n",
       "      <th>2211</th>\n",
       "      <td>561</td>\n",
       "      <td>277</td>\n",
       "      <td>1176</td>\n",
       "      <td>1209</td>\n",
       "      <td>545</td>\n",
       "    </tr>\n",
       "  </tbody>\n",
       "</table>\n",
       "</div>"
      ],
      "text/plain": [
       "              TOTAL_Origin_USERS  EPI_Target_USERS  EXP_Target_USERS  \\\n",
       "ANTENNA_ID_0                                                           \n",
       "3648                          69                35               140   \n",
       "1578                         478               312              1032   \n",
       "840                          904               660              2140   \n",
       "2022                         901               507              2163   \n",
       "28                           856               620              2229   \n",
       "3624                         330               173               934   \n",
       "3048                         700               511              2569   \n",
       "222                          985               506              2240   \n",
       "2442                         415               320              1164   \n",
       "2211                         561               277              1176   \n",
       "\n",
       "              TOTAL_Target_USERS  EXP_Origin_USERS  \n",
       "ANTENNA_ID_0                                        \n",
       "3648                         152                65  \n",
       "1578                        1053               478  \n",
       "840                         2183               904  \n",
       "2022                        2244               837  \n",
       "28                          2278               856  \n",
       "3624                        1015               302  \n",
       "3048                        2671               700  \n",
       "222                         2322               960  \n",
       "2442                        1202               415  \n",
       "2211                        1209               545  "
      ]
     },
     "execution_count": 653,
     "metadata": {},
     "output_type": "execute_result"
    }
   ],
   "source": [
    "total_ant_users.sample(10)"
   ]
  },
  {
   "cell_type": "code",
   "execution_count": 654,
   "metadata": {
    "collapsed": false
   },
   "outputs": [
    {
     "data": {
      "text/plain": [
       "(1528, 12)"
      ]
     },
     "execution_count": 654,
     "metadata": {},
     "output_type": "execute_result"
    }
   ],
   "source": [
    "ant = 1490\n",
    "table[ (table['ANTENNA_ID_0']== ant) | (table['ANTENNA_ID_0_Target']== ant) ].shape"
   ]
  },
  {
   "cell_type": "code",
   "execution_count": 655,
   "metadata": {
    "collapsed": false
   },
   "outputs": [
    {
     "data": {
      "text/plain": [
       "(4178, 4178)"
      ]
     },
     "execution_count": 655,
     "metadata": {},
     "output_type": "execute_result"
    }
   ],
   "source": [
    "len(set(table['ANTENNA_ID_0'].values) | set(table['ANTENNA_ID_0_Target'].values) ), len(set(total_ant_users.index.values))"
   ]
  },
  {
   "cell_type": "code",
   "execution_count": 638,
   "metadata": {
    "collapsed": false
   },
   "outputs": [
    {
     "data": {
      "text/plain": [
       "(1427, 5)"
      ]
     },
     "execution_count": 638,
     "metadata": {},
     "output_type": "execute_result"
    }
   ],
   "source": [
    "total_ant_users[(total_ant_users['TOTAL_Origin_USERS']- total_ant_users['EXP_Origin_USERS'])/ \n",
    "               total_ant_users['TOTAL_Origin_USERS'] ==0].shape"
   ]
  },
  {
   "cell_type": "code",
   "execution_count": 646,
   "metadata": {
    "collapsed": false
   },
   "outputs": [
    {
     "data": {
      "text/plain": [
       "<matplotlib.axes._subplots.AxesSubplot at 0x7f5e90257590>"
      ]
     },
     "execution_count": 646,
     "metadata": {},
     "output_type": "execute_result"
    },
    {
     "data": {
      "image/png": "[encoded data removed]",
      "text/plain": [
       "<matplotlib.figure.Figure at 0x7f5e901ef2d0>"
      ]
     },
     "metadata": {},
     "output_type": "display_data"
    }
   ],
   "source": [
    "(total_ant_users['TOTAL_Origin_USERS'] - total_ant_users['EXP_Target_USERS']).hist(bins=100)"
   ]
  },
  {
   "cell_type": "code",
   "execution_count": 644,
   "metadata": {
    "collapsed": false
   },
   "outputs": [
    {
     "data": {
      "text/plain": [
       "(1528, 12)"
      ]
     },
     "execution_count": 644,
     "metadata": {},
     "output_type": "execute_result"
    }
   ],
   "source": []
  },
  {
   "cell_type": "code",
   "execution_count": null,
   "metadata": {
    "collapsed": true
   },
   "outputs": [],
   "source": []
  },
  {
   "cell_type": "code",
   "execution_count": null,
   "metadata": {
    "collapsed": true
   },
   "outputs": [],
   "source": [
    "#swapeo los nombres de las columnas, dropeo epidemic y lo vuelvo a agregar para los nuevos users swappeados\n",
    "table=table.rename(columns = {'LineKeyOrigin':'LineKeyTarget','ANTENNA_ID':'ANTENNA_ID_0',\n",
    "                        'LineKeyTarget':'LineKeyOrigin','ANTENNA_ID_0':'ANTENNA_ID'})\n",
    "#la info epidemica era para el viejo lineKeyOrigin. droppeo esa columna vieja y agrego la info para el nuevo Origin\n",
    "table.drop('EPIDEMIC',inplace=True,axis=1)\n",
    "antennas= pd.read_csv('/home/juan/mobility-study/antennas_mexico.csv',sep = \"|\",header=0,index_col=None)\n",
    "table = table.join(antennas['EPIDEMIC'], on='ANTENNA_ID_0_Target',how='left')\n",
    "finished2=True"
   ]
  },
  {
   "cell_type": "code",
   "execution_count": null,
   "metadata": {
    "collapsed": true
   },
   "outputs": [],
   "source": [
    "antenna_table2 = table.groupby(['ANTENNA_ID_0','ANTENNA_ID_0_Target'],sort=False)[cols].sum()\n",
    "antenna_table2.drop('EPIDEMIC',inplace=True,axis=1)\n",
    "#test  =  test.groupby(['LineKeyOrigin','EPIDEMIC'],sort=False)[cols].sum()\n",
    "antenna_table2.reset_index([0,1],inplace=True)\n",
    "antenna_table2.sort_values(by='ANTENNA_ID_0',inplace=True,ascending=True)"
   ]
  },
  {
   "cell_type": "code",
   "execution_count": null,
   "metadata": {
    "collapsed": true
   },
   "outputs": [],
   "source": [
    "antenna_table2 = antenna_table2.join(antennas['EPIDEMIC'], on='ANTENNA_ID_0_Target',how='left')"
   ]
  },
  {
   "cell_type": "markdown",
   "metadata": {},
   "source": [
    "### Sanity checking im not losing users\n",
    "hicimos una comparacion de la tabla antes y despues de la ultima linea de codigo y da que\n",
    "len(np.unique(table.LineKeyOrigin.values)) == 640647\n",
    "len(np.unique(test.index.levels[0].values)) == 640647"
   ]
  },
  {
   "cell_type": "code",
   "execution_count": 136,
   "metadata": {
    "collapsed": false
   },
   "outputs": [
    {
     "data": {
      "text/html": [
       "<div>\n",
       "<table border=\"1\" class=\"dataframe\">\n",
       "  <thead>\n",
       "    <tr style=\"text-align: right;\">\n",
       "      <th></th>\n",
       "      <th>ANTENNA_ID_0</th>\n",
       "      <th>ANTENNA_ID_0_Target</th>\n",
       "      <th>CallsWeekDaylight</th>\n",
       "      <th>CallsWeekNight</th>\n",
       "      <th>CallsWeekend</th>\n",
       "      <th>TimeWeekDaylight</th>\n",
       "      <th>TimeWeekNight</th>\n",
       "      <th>TimeWeekend</th>\n",
       "      <th>EPIDEMIC</th>\n",
       "    </tr>\n",
       "  </thead>\n",
       "  <tbody>\n",
       "    <tr>\n",
       "      <th>1232115</th>\n",
       "      <td>1</td>\n",
       "      <td>973</td>\n",
       "      <td>20</td>\n",
       "      <td>0</td>\n",
       "      <td>0</td>\n",
       "      <td>2733</td>\n",
       "      <td>0</td>\n",
       "      <td>0</td>\n",
       "      <td>0</td>\n",
       "    </tr>\n",
       "    <tr>\n",
       "      <th>395937</th>\n",
       "      <td>1</td>\n",
       "      <td>3858</td>\n",
       "      <td>0</td>\n",
       "      <td>0</td>\n",
       "      <td>1</td>\n",
       "      <td>0</td>\n",
       "      <td>0</td>\n",
       "      <td>476</td>\n",
       "      <td>0</td>\n",
       "    </tr>\n",
       "    <tr>\n",
       "      <th>395936</th>\n",
       "      <td>1</td>\n",
       "      <td>2641</td>\n",
       "      <td>0</td>\n",
       "      <td>1</td>\n",
       "      <td>0</td>\n",
       "      <td>0</td>\n",
       "      <td>202</td>\n",
       "      <td>0</td>\n",
       "      <td>1</td>\n",
       "    </tr>\n",
       "    <tr>\n",
       "      <th>318028</th>\n",
       "      <td>1</td>\n",
       "      <td>77</td>\n",
       "      <td>0</td>\n",
       "      <td>1</td>\n",
       "      <td>0</td>\n",
       "      <td>0</td>\n",
       "      <td>74</td>\n",
       "      <td>0</td>\n",
       "      <td>1</td>\n",
       "    </tr>\n",
       "    <tr>\n",
       "      <th>853768</th>\n",
       "      <td>1</td>\n",
       "      <td>2854</td>\n",
       "      <td>0</td>\n",
       "      <td>0</td>\n",
       "      <td>1</td>\n",
       "      <td>0</td>\n",
       "      <td>0</td>\n",
       "      <td>47</td>\n",
       "      <td>1</td>\n",
       "    </tr>\n",
       "  </tbody>\n",
       "</table>\n",
       "</div>"
      ],
      "text/plain": [
       "         ANTENNA_ID_0  ANTENNA_ID_0_Target  CallsWeekDaylight  CallsWeekNight  \\\n",
       "1232115             1                  973                 20               0   \n",
       "395937              1                 3858                  0               0   \n",
       "395936              1                 2641                  0               1   \n",
       "318028              1                   77                  0               1   \n",
       "853768              1                 2854                  0               0   \n",
       "\n",
       "         CallsWeekend  TimeWeekDaylight  TimeWeekNight  TimeWeekend  EPIDEMIC  \n",
       "1232115             0              2733              0            0         0  \n",
       "395937              1                 0              0          476         0  \n",
       "395936              0                 0            202            0         1  \n",
       "318028              0                 0             74            0         1  \n",
       "853768              1                 0              0           47         1  "
      ]
     },
     "execution_count": 136,
     "metadata": {},
     "output_type": "execute_result"
    }
   ],
   "source": [
    "antenna_table.head()"
   ]
  },
  {
   "cell_type": "code",
   "execution_count": 27,
   "metadata": {
    "collapsed": false
   },
   "outputs": [
    {
     "data": {
      "text/html": [
       "<div>\n",
       "<table border=\"1\" class=\"dataframe\">\n",
       "  <thead>\n",
       "    <tr style=\"text-align: right;\">\n",
       "      <th></th>\n",
       "      <th></th>\n",
       "      <th>CallsWeekDaylight</th>\n",
       "      <th>CallsWeekNight</th>\n",
       "      <th>CallsWeekend</th>\n",
       "      <th>TimeWeekDaylight</th>\n",
       "      <th>TimeWeekNight</th>\n",
       "      <th>TimeWeekend</th>\n",
       "      <th>CallsWeekDaylight_EPI</th>\n",
       "      <th>CallsWeekNight_EPI</th>\n",
       "      <th>CallsWeekend_EPI</th>\n",
       "      <th>TimeWeekDaylight_EPI</th>\n",
       "      <th>TimeWeekNight_EPI</th>\n",
       "      <th>TimeWeekend_EPI</th>\n",
       "    </tr>\n",
       "    <tr>\n",
       "      <th>ANTENNA_ID_0</th>\n",
       "      <th></th>\n",
       "      <th></th>\n",
       "      <th></th>\n",
       "      <th></th>\n",
       "      <th></th>\n",
       "      <th></th>\n",
       "      <th></th>\n",
       "      <th></th>\n",
       "      <th></th>\n",
       "      <th></th>\n",
       "      <th></th>\n",
       "      <th></th>\n",
       "      <th></th>\n",
       "    </tr>\n",
       "  </thead>\n",
       "  <tbody>\n",
       "    <tr>\n",
       "      <th>11</th>\n",
       "      <th>0</th>\n",
       "      <td>49</td>\n",
       "      <td>28</td>\n",
       "      <td>18</td>\n",
       "      <td>4465</td>\n",
       "      <td>3990</td>\n",
       "      <td>1183</td>\n",
       "      <td>34</td>\n",
       "      <td>10</td>\n",
       "      <td>4</td>\n",
       "      <td>1641</td>\n",
       "      <td>361</td>\n",
       "      <td>170</td>\n",
       "    </tr>\n",
       "  </tbody>\n",
       "</table>\n",
       "</div>"
      ],
      "text/plain": [
       "                CallsWeekDaylight  CallsWeekNight  CallsWeekend  \\\n",
       "ANTENNA_ID_0                                                      \n",
       "11           0                 49              28            18   \n",
       "\n",
       "                TimeWeekDaylight  TimeWeekNight  TimeWeekend  \\\n",
       "ANTENNA_ID_0                                                   \n",
       "11           0              4465           3990         1183   \n",
       "\n",
       "                CallsWeekDaylight_EPI  CallsWeekNight_EPI  CallsWeekend_EPI  \\\n",
       "ANTENNA_ID_0                                                                  \n",
       "11           0                     34                  10                 4   \n",
       "\n",
       "                TimeWeekDaylight_EPI  TimeWeekNight_EPI  TimeWeekend_EPI  \n",
       "ANTENNA_ID_0                                                              \n",
       "11           0                  1641                361              170  "
      ]
     },
     "execution_count": 27,
     "metadata": {},
     "output_type": "execute_result"
    }
   ],
   "source": [
    "i = random.randint(0,9200)\n",
    "antenna_table.iloc[i:i+4,].groupby('ANTENNA_ID_0').apply(get_epidemic_agregator)"
   ]
  },
  {
   "cell_type": "code",
   "execution_count": 28,
   "metadata": {
    "collapsed": false
   },
   "outputs": [
    {
     "data": {
      "text/html": [
       "<div>\n",
       "<table border=\"1\" class=\"dataframe\">\n",
       "  <thead>\n",
       "    <tr style=\"text-align: right;\">\n",
       "      <th></th>\n",
       "      <th>ANTENNA_ID_0</th>\n",
       "      <th>ANTENNA_ID_0_Target</th>\n",
       "      <th>CallsWeekDaylight</th>\n",
       "      <th>CallsWeekNight</th>\n",
       "      <th>CallsWeekend</th>\n",
       "      <th>TimeWeekDaylight</th>\n",
       "      <th>TimeWeekNight</th>\n",
       "      <th>TimeWeekend</th>\n",
       "      <th>EPIDEMIC</th>\n",
       "    </tr>\n",
       "  </thead>\n",
       "  <tbody>\n",
       "    <tr>\n",
       "      <th>36978</th>\n",
       "      <td>11</td>\n",
       "      <td>2985</td>\n",
       "      <td>6</td>\n",
       "      <td>3</td>\n",
       "      <td>0</td>\n",
       "      <td>300</td>\n",
       "      <td>145</td>\n",
       "      <td>0</td>\n",
       "      <td>1</td>\n",
       "    </tr>\n",
       "    <tr>\n",
       "      <th>18947</th>\n",
       "      <td>11</td>\n",
       "      <td>1955</td>\n",
       "      <td>0</td>\n",
       "      <td>0</td>\n",
       "      <td>1</td>\n",
       "      <td>0</td>\n",
       "      <td>0</td>\n",
       "      <td>51</td>\n",
       "      <td>0</td>\n",
       "    </tr>\n",
       "    <tr>\n",
       "      <th>30970</th>\n",
       "      <td>11</td>\n",
       "      <td>1453</td>\n",
       "      <td>15</td>\n",
       "      <td>18</td>\n",
       "      <td>13</td>\n",
       "      <td>2824</td>\n",
       "      <td>3629</td>\n",
       "      <td>962</td>\n",
       "      <td>0</td>\n",
       "    </tr>\n",
       "    <tr>\n",
       "      <th>31988</th>\n",
       "      <td>11</td>\n",
       "      <td>230</td>\n",
       "      <td>28</td>\n",
       "      <td>7</td>\n",
       "      <td>4</td>\n",
       "      <td>1341</td>\n",
       "      <td>216</td>\n",
       "      <td>170</td>\n",
       "      <td>1</td>\n",
       "    </tr>\n",
       "  </tbody>\n",
       "</table>\n",
       "</div>"
      ],
      "text/plain": [
       "       ANTENNA_ID_0  ANTENNA_ID_0_Target  CallsWeekDaylight  CallsWeekNight  \\\n",
       "36978            11                 2985                  6               3   \n",
       "18947            11                 1955                  0               0   \n",
       "30970            11                 1453                 15              18   \n",
       "31988            11                  230                 28               7   \n",
       "\n",
       "       CallsWeekend  TimeWeekDaylight  TimeWeekNight  TimeWeekend  EPIDEMIC  \n",
       "36978             0               300            145            0         1  \n",
       "18947             1                 0              0           51         0  \n",
       "30970            13              2824           3629          962         0  \n",
       "31988             4              1341            216          170         1  "
      ]
     },
     "execution_count": 28,
     "metadata": {},
     "output_type": "execute_result"
    }
   ],
   "source": [
    "antenna_table.iloc[i:i+4,]"
   ]
  },
  {
   "cell_type": "code",
   "execution_count": 28,
   "metadata": {
    "collapsed": false
   },
   "outputs": [
    {
     "data": {
      "text/plain": [
       "24.560290813446045"
      ]
     },
     "execution_count": 28,
     "metadata": {},
     "output_type": "execute_result"
    }
   ],
   "source": [
    "start_time = time.time()\n",
    "antenna_table=antenna_table.groupby('ANTENNA_ID_0').apply(get_epidemic_agregator)\n",
    "antenna_table.reset_index(level=1,inplace=True)\n",
    "antenna_table.drop('level_1',axis=1,inplace=True)\n",
    "time.time()-start_time"
   ]
  },
  {
   "cell_type": "code",
   "execution_count": 45,
   "metadata": {
    "collapsed": false
   },
   "outputs": [
    {
     "data": {
      "text/plain": [
       "array([1354, 3710,  942, 3121, 3686, 1316, 3715,  290, 1914,  175,  136,\n",
       "       2191,  602,  501, 3020, 2105, 2235,  686, 1358, 1449])"
      ]
     },
     "execution_count": 45,
     "metadata": {},
     "output_type": "execute_result"
    }
   ],
   "source": [
    "verify= antenna_table.sample(20)\n",
    "ind = verify.index.values\n",
    "ind"
   ]
  },
  {
   "cell_type": "code",
   "execution_count": 279,
   "metadata": {
    "collapsed": false
   },
   "outputs": [
    {
     "data": {
      "text/html": [
       "<div>\n",
       "<table border=\"1\" class=\"dataframe\">\n",
       "  <thead>\n",
       "    <tr style=\"text-align: right;\">\n",
       "      <th></th>\n",
       "      <th>ANTENNA_ID_0</th>\n",
       "      <th>ANTENNA_ID_0_Target</th>\n",
       "      <th>CallsWeekDaylight</th>\n",
       "      <th>CallsWeekNight</th>\n",
       "      <th>CallsWeekend</th>\n",
       "      <th>TimeWeekDaylight</th>\n",
       "      <th>TimeWeekNight</th>\n",
       "      <th>TimeWeekend</th>\n",
       "      <th>EPIDEMIC</th>\n",
       "    </tr>\n",
       "  </thead>\n",
       "  <tbody>\n",
       "    <tr>\n",
       "      <th>1567</th>\n",
       "      <td>3402</td>\n",
       "      <td>1378</td>\n",
       "      <td>1</td>\n",
       "      <td>0</td>\n",
       "      <td>0</td>\n",
       "      <td>32</td>\n",
       "      <td>0</td>\n",
       "      <td>0</td>\n",
       "      <td>0</td>\n",
       "    </tr>\n",
       "    <tr>\n",
       "      <th>7990</th>\n",
       "      <td>3402</td>\n",
       "      <td>3227</td>\n",
       "      <td>1</td>\n",
       "      <td>0</td>\n",
       "      <td>0</td>\n",
       "      <td>24</td>\n",
       "      <td>0</td>\n",
       "      <td>0</td>\n",
       "      <td>0</td>\n",
       "    </tr>\n",
       "    <tr>\n",
       "      <th>7596</th>\n",
       "      <td>3402</td>\n",
       "      <td>3402</td>\n",
       "      <td>0</td>\n",
       "      <td>0</td>\n",
       "      <td>2</td>\n",
       "      <td>0</td>\n",
       "      <td>0</td>\n",
       "      <td>36</td>\n",
       "      <td>0</td>\n",
       "    </tr>\n",
       "  </tbody>\n",
       "</table>\n",
       "</div>"
      ],
      "text/plain": [
       "      ANTENNA_ID_0  ANTENNA_ID_0_Target  CallsWeekDaylight  CallsWeekNight  \\\n",
       "1567          3402                 1378                  1               0   \n",
       "7990          3402                 3227                  1               0   \n",
       "7596          3402                 3402                  0               0   \n",
       "\n",
       "      CallsWeekend  TimeWeekDaylight  TimeWeekNight  TimeWeekend  EPIDEMIC  \n",
       "1567             0                32              0            0         0  \n",
       "7990             0                24              0            0         0  \n",
       "7596             2                 0              0           36         0  "
      ]
     },
     "execution_count": 279,
     "metadata": {},
     "output_type": "execute_result"
    }
   ],
   "source": [
    "user = 1354\n",
    "antenna_table[antenna_table['ANTENNA_ID_0'] == user]"
   ]
  },
  {
   "cell_type": "code",
   "execution_count": 280,
   "metadata": {
    "collapsed": true
   },
   "outputs": [
    {
     "data": {
      "text/plain": [
       "CallsWeekDaylight         2\n",
       "CallsWeekNight            0\n",
       "CallsWeekend              2\n",
       "TimeWeekDaylight         56\n",
       "TimeWeekNight             0\n",
       "TimeWeekend              36\n",
       "CallsWeekDaylight_EPI     0\n",
       "CallsWeekNight_EPI        0\n",
       "CallsWeekend_EPI          0\n",
       "TimeWeekDaylight_EPI      0\n",
       "TimeWeekNight_EPI         0\n",
       "TimeWeekend_EPI           0\n",
       "Name: 3402, dtype: int64"
      ]
     },
     "execution_count": 280,
     "metadata": {},
     "output_type": "execute_result"
    }
   ],
   "source": [
    "verify.loc[user]"
   ]
  },
  {
   "cell_type": "code",
   "execution_count": 29,
   "metadata": {
    "collapsed": false
   },
   "outputs": [
    {
     "data": {
      "text/html": [
       "<div>\n",
       "<table border=\"1\" class=\"dataframe\">\n",
       "  <thead>\n",
       "    <tr style=\"text-align: right;\">\n",
       "      <th></th>\n",
       "      <th>ANTENNA_ID_0</th>\n",
       "      <th>CallsWeekDaylight</th>\n",
       "      <th>CallsWeekNight</th>\n",
       "      <th>CallsWeekend</th>\n",
       "      <th>TimeWeekDaylight</th>\n",
       "      <th>TimeWeekNight</th>\n",
       "      <th>TimeWeekend</th>\n",
       "      <th>CallsWeekDaylight_EPI</th>\n",
       "      <th>CallsWeekNight_EPI</th>\n",
       "      <th>CallsWeekend_EPI</th>\n",
       "      <th>TimeWeekDaylight_EPI</th>\n",
       "      <th>TimeWeekNight_EPI</th>\n",
       "      <th>TimeWeekend_EPI</th>\n",
       "      <th>EPIDEMIC</th>\n",
       "    </tr>\n",
       "  </thead>\n",
       "  <tbody>\n",
       "    <tr>\n",
       "      <th>0</th>\n",
       "      <td>1</td>\n",
       "      <td>6539</td>\n",
       "      <td>3189</td>\n",
       "      <td>3169</td>\n",
       "      <td>53972</td>\n",
       "      <td>42050</td>\n",
       "      <td>44656</td>\n",
       "      <td>3989</td>\n",
       "      <td>1832</td>\n",
       "      <td>1760</td>\n",
       "      <td>14042</td>\n",
       "      <td>22740</td>\n",
       "      <td>18573</td>\n",
       "      <td>1</td>\n",
       "    </tr>\n",
       "    <tr>\n",
       "      <th>1</th>\n",
       "      <td>2</td>\n",
       "      <td>6336</td>\n",
       "      <td>3598</td>\n",
       "      <td>3420</td>\n",
       "      <td>19025</td>\n",
       "      <td>47471</td>\n",
       "      <td>16603</td>\n",
       "      <td>3559</td>\n",
       "      <td>1852</td>\n",
       "      <td>1893</td>\n",
       "      <td>11533</td>\n",
       "      <td>50915</td>\n",
       "      <td>3744</td>\n",
       "      <td>1</td>\n",
       "    </tr>\n",
       "    <tr>\n",
       "      <th>2</th>\n",
       "      <td>3</td>\n",
       "      <td>8958</td>\n",
       "      <td>4688</td>\n",
       "      <td>4118</td>\n",
       "      <td>43640</td>\n",
       "      <td>5215</td>\n",
       "      <td>38762</td>\n",
       "      <td>4545</td>\n",
       "      <td>2234</td>\n",
       "      <td>2187</td>\n",
       "      <td>64471</td>\n",
       "      <td>41947</td>\n",
       "      <td>48825</td>\n",
       "      <td>1</td>\n",
       "    </tr>\n",
       "    <tr>\n",
       "      <th>3</th>\n",
       "      <td>4</td>\n",
       "      <td>4360</td>\n",
       "      <td>2782</td>\n",
       "      <td>2719</td>\n",
       "      <td>49870</td>\n",
       "      <td>65048</td>\n",
       "      <td>54122</td>\n",
       "      <td>2105</td>\n",
       "      <td>1563</td>\n",
       "      <td>1415</td>\n",
       "      <td>16605</td>\n",
       "      <td>7948</td>\n",
       "      <td>39523</td>\n",
       "      <td>1</td>\n",
       "    </tr>\n",
       "    <tr>\n",
       "      <th>4</th>\n",
       "      <td>5</td>\n",
       "      <td>2807</td>\n",
       "      <td>1610</td>\n",
       "      <td>1787</td>\n",
       "      <td>38676</td>\n",
       "      <td>47700</td>\n",
       "      <td>11503</td>\n",
       "      <td>1420</td>\n",
       "      <td>899</td>\n",
       "      <td>906</td>\n",
       "      <td>336</td>\n",
       "      <td>13666</td>\n",
       "      <td>15146</td>\n",
       "      <td>1</td>\n",
       "    </tr>\n",
       "  </tbody>\n",
       "</table>\n",
       "</div>"
      ],
      "text/plain": [
       "   ANTENNA_ID_0  CallsWeekDaylight  CallsWeekNight  CallsWeekend  \\\n",
       "0             1               6539            3189          3169   \n",
       "1             2               6336            3598          3420   \n",
       "2             3               8958            4688          4118   \n",
       "3             4               4360            2782          2719   \n",
       "4             5               2807            1610          1787   \n",
       "\n",
       "   TimeWeekDaylight  TimeWeekNight  TimeWeekend  CallsWeekDaylight_EPI  \\\n",
       "0             53972          42050        44656                   3989   \n",
       "1             19025          47471        16603                   3559   \n",
       "2             43640           5215        38762                   4545   \n",
       "3             49870          65048        54122                   2105   \n",
       "4             38676          47700        11503                   1420   \n",
       "\n",
       "   CallsWeekNight_EPI  CallsWeekend_EPI  TimeWeekDaylight_EPI  \\\n",
       "0                1832              1760                 14042   \n",
       "1                1852              1893                 11533   \n",
       "2                2234              2187                 64471   \n",
       "3                1563              1415                 16605   \n",
       "4                 899               906                   336   \n",
       "\n",
       "   TimeWeekNight_EPI  TimeWeekend_EPI  EPIDEMIC  \n",
       "0              22740            18573         1  \n",
       "1              50915             3744         1  \n",
       "2              41947            48825         1  \n",
       "3               7948            39523         1  \n",
       "4              13666            15146         1  "
      ]
     },
     "execution_count": 29,
     "metadata": {},
     "output_type": "execute_result"
    }
   ],
   "source": [
    "antenna_table.reset_index(level=0,inplace=True)\n",
    "antenna_table = antenna_table.join(antennas['EPIDEMIC'], on='ANTENNA_ID_0',how='left')\n",
    "antenna_table.head()"
   ]
  },
  {
   "cell_type": "code",
   "execution_count": 31,
   "metadata": {
    "collapsed": false
   },
   "outputs": [],
   "source": [
    "#finalmente pego la info de antenna_users a la tabla\n",
    "antenna_table = antenna_table.join(antenna_users[['TOTAL_USERS','VULN_USERS']], on='ANTENNA_ID_0',how='left')"
   ]
  },
  {
   "cell_type": "code",
   "execution_count": 35,
   "metadata": {
    "collapsed": false
   },
   "outputs": [
    {
     "data": {
      "text/plain": [
       "(2794, 16)"
      ]
     },
     "execution_count": 35,
     "metadata": {},
     "output_type": "execute_result"
    }
   ],
   "source": [
    "antenna_table[antenna_table['EPIDEMIC']==0].shape"
   ]
  },
  {
   "cell_type": "code",
   "execution_count": 32,
   "metadata": {
    "collapsed": false
   },
   "outputs": [
    {
     "data": {
      "text/plain": [
       "((4429, 5), (4171, 16))"
      ]
     },
     "execution_count": 32,
     "metadata": {},
     "output_type": "execute_result"
    }
   ],
   "source": [
    "antennas.shape, antenna_table.shape"
   ]
  },
  {
   "cell_type": "code",
   "execution_count": 33,
   "metadata": {
    "collapsed": true
   },
   "outputs": [],
   "source": [
    "#guardo la info de antennas\n",
    "antenna_table.to_csv('/home/juan/mobility-study/mexico_antennas_vulns.txt', \n",
    "            index = False, \n",
    "             header = True,\n",
    "             sep=\"|\")"
   ]
  },
  {
   "cell_type": "markdown",
   "metadata": {},
   "source": [
    "### Testing get_epidemic_aggregator\n",
    "Corrimos este algoritmo con un sample de mil lineas y comparamos especificamente para aquellos usuarios que tenian caracteristicas de EPIDEMIC==1, con lo cual testeamos a ver si estaba resultando bien o no el siguiente apply en estos casos cruciales (los otros eran mas simples)."
   ]
  },
  {
   "cell_type": "markdown",
   "metadata": {},
   "source": [
    "## get_epidemic_aggregator apply on users Table"
   ]
  },
  {
   "cell_type": "markdown",
   "metadata": {},
   "source": [
    "### Para optimizar el apply:\n",
    "mejor correrlo directamente sobre usuarios que tengan algun epidemic ==0 pues estos van a dar resultados diferentes mientras que los otros usarios simplemente \"extenderian\" la tabla con 0s hacia las columnas _EPIDEMIC . \n",
    "\n",
    "En algunos casos el 80% de la tabla son usuarios que NO tienen info epidemica."
   ]
  },
  {
   "cell_type": "markdown",
   "metadata": {},
   "source": [
    "#### Timings del cell abajo\n",
    "6 mins para 180k users\n",
    "\n",
    "4 mins para 40k users\n",
    "\n",
    "80s para 40k users\n",
    "\n",
    "70 mins para 1.2M"
   ]
  },
  {
   "cell_type": "code",
   "execution_count": 320,
   "metadata": {
    "collapsed": false
   },
   "outputs": [
    {
     "data": {
      "text/plain": [
       "(5015519, 11)"
      ]
     },
     "execution_count": 320,
     "metadata": {},
     "output_type": "execute_result"
    }
   ],
   "source": [
    "table.shape"
   ]
  },
  {
   "cell_type": "markdown",
   "metadata": {},
   "source": [
    "# General epidemic_aggregator algorithm"
   ]
  },
  {
   "cell_type": "code",
   "execution_count": 329,
   "metadata": {
    "collapsed": false
   },
   "outputs": [],
   "source": [
    "finished1, finished2, finished3 = [False]*3"
   ]
  },
  {
   "cell_type": "code",
   "execution_count": null,
   "metadata": {
    "collapsed": false,
    "scrolled": true
   },
   "outputs": [],
   "source": [
    "start_time = time.time()\n",
    "\n",
    "new_cols =[col+\"_EPI\" for col in table.columns.values \\\n",
    "           if (not('EPIDEMIC ' in col) and not('Line' in col) and not('ANTENNA' in col) )]\n",
    "#seteo todas las nuevas columnas en 0 y dropeo EPIDEMIC\n",
    "only_non_epidemic_users = list(set(table[table['EPIDEMIC']==0].LineKeyOrigin.values) - set(table[table['EPIDEMIC']==1].LineKeyOrigin.values))\n",
    "\n",
    "#test 2 se lleva los usuarios mixtos y test3 los \"puros\" non_epi\n",
    "test2 = table[~table['LineKeyOrigin'].isin(only_non_epidemic_users)].copy()\n",
    "test3 = table[table['LineKeyOrigin'].isin(only_non_epidemic_users)].copy()\n",
    "\n",
    "for col in new_cols:\n",
    "    test3[col]=0\n",
    "    #test3.loc[test['LineKeyOrigin'].isin(only_non_epidemic_users),col]=0\n",
    "test3.drop([col for col in test3.columns if ('EPIDEMIC' in col)],inplace=True,axis=1)\n",
    "#paso el linekeyorigin a indice y dropeo esa columna\n",
    "test3 = test3.groupby('LineKeyOrigin').sum()\n",
    "# uso el agregador en el resto de los users\n",
    "print(\"finished setting pure epidemic users, current time is {t} \\n\".\\\n",
    "              format(t=(time.time()-start_time))) \n",
    "test2 =test2.groupby('LineKeyOrigin').apply(get_epidemic_agregator)\n",
    "#seteo bien el indice a LineKeyOrigin y dropeo el level 1 del multi\n",
    "test2.reset_index(level=1,drop=True,inplace=True)\n",
    "#finalmente concateno las dos tablas\n",
    "test = pd.concat([test3,test2])\n",
    "test.reset_index(level=0,drop=False,inplace=True)\n",
    "\n",
    "start_time = time.time()\n",
    "elapsed_time = time.time()-start_time\n",
    "\n",
    "print(\"total algo time for {n} users is {t}\".format(n=(len(test2)+len(test3)), t= elapsed_time))\n",
    "finished1 =True"
   ]
  },
  {
   "cell_type": "code",
   "execution_count": 396,
   "metadata": {
    "collapsed": false
   },
   "outputs": [
    {
     "data": {
      "text/plain": [
       "['LineKeyOrigin',\n",
       " 'LineKeyTarget',\n",
       " 'EPIDEMIC',\n",
       " 'ANTENNA_ID_0',\n",
       " 'EPIDEMIC_Target',\n",
       " 'ANTENNA_ID_0_Target']"
      ]
     },
     "execution_count": 396,
     "metadata": {},
     "output_type": "execute_result"
    }
   ],
   "source": [
    "[col for col in table.columns if ('Line' in col) or ('EPIDEMIC' in col) or ('ANTENNA' in col)]"
   ]
  },
  {
   "cell_type": "markdown",
   "metadata": {},
   "source": [
    "## Repetimos el algoritmo anterior pero ahora swapeando la info"
   ]
  },
  {
   "cell_type": "code",
   "execution_count": null,
   "metadata": {
    "collapsed": true
   },
   "outputs": [],
   "source": [
    "#swapeo los nombres de las columnas, dropeo epidemic y lo vuelvo a agregar para los nuevos users swappeados\n",
    "table=table.rename(columns = {'LineKeyOrigin':'LineKeyTarget','ANTENNA_ID_0':'ANTENNA_ID_0_Target',\n",
    "                        'LineKeyTarget':'LineKeyOrigin','ANTENNA_ID_0_Target':'ANTENNA_ID_0'})\n",
    "\n",
    "#la info epidemica era para el viejo lineKeyOrigin. droppeo esa columna vieja y agrego la info para el nuevo Origin\n",
    "table.drop('EPIDEMIC',inplace=True,axis=1)\n",
    "antennas= pd.read_csv('/home/juan/mobility-study/antennas_mexico.csv',sep = \"|\",header=0,index_col=None)\n",
    "table = table.join(user_epidemic['EPIDEMIC'], on='LineKeyTarget',how='left')\n",
    "finished2=True"
   ]
  },
  {
   "cell_type": "code",
   "execution_count": null,
   "metadata": {
    "collapsed": true
   },
   "outputs": [],
   "source": [
    "start_time = time.time()\n",
    "\n",
    "new_cols =[col+\"_EPI\" for col in table.columns.values \\\n",
    "           if (col != 'EPIDEMIC' and not('Line' in col) and not('ANTENNA' in col) )]\n",
    "#seteo todas las nuevas columnas en 0 y dropeo EPIDEMIC\n",
    "only_non_epidemic_users = list(set(table[table['EPIDEMIC']==0].LineKeyOrigin.values) - set(table[table['EPIDEMIC']==1].LineKeyOrigin.values))\n",
    "\n",
    "#test 2 se lleva los usuarios mixtos y test3 los \"puros\" non_epi\n",
    "test2 = table[~table['LineKeyOrigin'].isin(only_non_epidemic_users)].copy()\n",
    "test3 = table[table['LineKeyOrigin'].isin(only_non_epidemic_users)].copy()\n",
    "\n",
    "for col in new_cols:\n",
    "    test3[col]=0\n",
    "    #test3.loc[test['LineKeyOrigin'].isin(only_non_epidemic_users),col]=0\n",
    "test3.drop('EPIDEMIC',inplace=True,axis=1)\n",
    "#paso el linekeyorigin a indice y dropeo esa columna\n",
    "test3 = test3.groupby('LineKeyOrigin').sum()\n",
    "# uso el agregador en el resto de los users\n",
    "print(\"finished setting pure epidemic users, current time is {t} \\n\".\\\n",
    "              format(t=(time.time()-start_time))) \n",
    "test2 =test2.groupby('LineKeyOrigin').apply(get_epidemic_agregator)\n",
    "#seteo bien el indice a LineKeyOrigin y dropeo el level 1 del multi\n",
    "test2.reset_index(level=1,drop=True,inplace=True)\n",
    "#finalmente concateno las dos tablas + el viejo test\n",
    "test2.reset_index(level=0,drop=False,inplace=True)\n",
    "test3.reset_index(level=0,drop=False,inplace=True)\n",
    "\n",
    "test = pd.concat([test,test3,test2])\n",
    "labels = [col for col in test.columns if (col != 'EPIDEMIC' and not('Line' in col) and not('ANTENNA' in col) )]\n",
    "test = test.groupby([\"LineKeyOrigin\",], as_index=True)[labels].sum()\n",
    "\n",
    "elapsed_time = time.time()-start_time\n",
    "print(\"total algo time for {n} users is {t}\".format(n=(len(test2)+len(test3)), t= elapsed_time))\n",
    "finished3=True"
   ]
  },
  {
   "cell_type": "markdown",
   "metadata": {},
   "source": [
    "\n",
    "## Falta agregar la info de Total vs Vuln_users interaction"
   ]
  },
  {
   "cell_type": "code",
   "execution_count": 437,
   "metadata": {
    "collapsed": false
   },
   "outputs": [
    {
     "name": "stdout",
     "output_type": "stream",
     "text": [
      "total algo time for 2449242 users is 115.642934084\n"
     ]
    }
   ],
   "source": [
    "start_time = time.time()\n",
    "# me genero la tabla con los pares (i,j) y concateno con la tabla pero swappeando en (j,i) para lograr hacer los counts apropiados\n",
    "\n",
    "user_pair = table.loc[:,['LineKeyOrigin','LineKeyTarget']]\n",
    "user_pair2 = user_pair.loc[:,['LineKeyTarget','LineKeyOrigin']]\n",
    "user_pair2.columns = ['LineKeyOrigin','LineKeyTarget']\n",
    "user_pair = pd.concat([user_pair,user_pair2])\n",
    "#agrego la informacion epidemica y de exposicion\n",
    "user_pair = user_pair.join(user_epidemic[['EPIDEMIC','EXPOSED']],on = 'LineKeyTarget', how = 'left')\n",
    "del user_pair2\n",
    "\n",
    "# UNIQUE # of users count\n",
    "\n",
    "#primero agrupo por el par (i,j) para no tener dos veces el par y agrupo \n",
    "#(el agregador es \"bobo\" no voy a estar usando la info de esta agrupacion)\n",
    "total_users = user_pair.groupby(['LineKeyOrigin','LineKeyTarget']).agg({\"TOTAL_USERS\":np.sum})\n",
    "total_users = total_users.reset_index()\n",
    "# ahora conteo los usuarios unicos\n",
    "total_users = total_users.groupby('LineKeyOrigin')['TOTAL_USERS'].count()\n",
    "total_users = total_users.to_frame()\n",
    "total_users = total_users.reset_index()\n",
    "\n",
    "# EPIDEMIC & EXPOSED count\n",
    "#primero agrupo por el par (i,j) para no tener dos veces el par y agrupo \n",
    "#(el agregador es \"bobo\" no voy a estar usando la info de esta agrupacion)\n",
    "\n",
    "epidemic_count = user_pair[user_pair['EPIDEMIC']==1]\\\n",
    "                .groupby(['LineKeyOrigin','LineKeyTarget'])['EPIDEMIC'].agg({\"EPI_USERS\":np.sum})\n",
    "exposed_count = user_pair[user_pair['EXPOSED']==1]\\\n",
    "                .groupby(['LineKeyOrigin','LineKeyTarget'])['EXPOSED'].agg({\"EXP_USERS\":np.sum})\n",
    "#reseteo el indice\n",
    "epidemic_count = epidemic_count.reset_index()\n",
    "exposed_count = exposed_count.reset_index()\n",
    "\n",
    "#ahora si agrupo y cuento c/ par unico (Origin,Target)\n",
    "epidemic_count = epidemic_count.groupby(['LineKeyOrigin'])['EPI_USERS'].count()\n",
    "exposed_count = exposed_count.groupby(['LineKeyOrigin'])['EXP_USERS'].count()\n",
    "\n",
    "epidemic_count = epidemic_count.to_frame()\n",
    "exposed_count = exposed_count.to_frame()\n",
    "\n",
    "\n",
    "\n",
    "del user_pair\n",
    "\n",
    "#agrego la informacion epidemica y de exposicion en total_users y relleno los NaNs con 0s i.e. ausencia de conteos\n",
    "total_users = total_users.join(epidemic_count['EPI_USERS'],on = 'LineKeyOrigin', how = 'left').fillna(0)\n",
    "total_users = total_users.join(exposed_count['EXP_USERS'],on = 'LineKeyOrigin', how = 'left').fillna(0)\n",
    "\n",
    "del exposed_count, epidemic_count\n",
    "\n",
    "total_users.set_index('LineKeyOrigin',inplace=True)\n",
    "\n",
    "elapsed_time = time.time()-start_time\n",
    "print(\"total algo time for {n} users is {t}\".format(n=(len(total_users)), t= elapsed_time))"
   ]
  },
  {
   "cell_type": "markdown",
   "metadata": {},
   "source": [
    "## Sanity check\n",
    "Chequeamos cantidad de usuarios en la tabla resultante y algunos casos particulares al azar"
   ]
  },
  {
   "cell_type": "code",
   "execution_count": 443,
   "metadata": {
    "collapsed": false
   },
   "outputs": [
    {
     "data": {
      "text/html": [
       "<div>\n",
       "<table border=\"1\" class=\"dataframe\">\n",
       "  <thead>\n",
       "    <tr style=\"text-align: right;\">\n",
       "      <th></th>\n",
       "      <th>TOTAL_USERS</th>\n",
       "      <th>EPI_USERS</th>\n",
       "      <th>EXP_USERS</th>\n",
       "    </tr>\n",
       "    <tr>\n",
       "      <th>LineKeyOrigin</th>\n",
       "      <th></th>\n",
       "      <th></th>\n",
       "      <th></th>\n",
       "    </tr>\n",
       "  </thead>\n",
       "  <tbody>\n",
       "    <tr>\n",
       "      <th>A97A6025FAA09766D13886C1CE71F557</th>\n",
       "      <td>3</td>\n",
       "      <td>1</td>\n",
       "      <td>3</td>\n",
       "    </tr>\n",
       "    <tr>\n",
       "      <th>5F60685185C7482A4FFDE9AF67226C6B</th>\n",
       "      <td>1</td>\n",
       "      <td>0</td>\n",
       "      <td>1</td>\n",
       "    </tr>\n",
       "    <tr>\n",
       "      <th>1F54EBA091172CFAEB39765083A9D46E</th>\n",
       "      <td>3</td>\n",
       "      <td>2</td>\n",
       "      <td>3</td>\n",
       "    </tr>\n",
       "    <tr>\n",
       "      <th>794533D066894168E2B3E43D871F76F5</th>\n",
       "      <td>1</td>\n",
       "      <td>0</td>\n",
       "      <td>1</td>\n",
       "    </tr>\n",
       "    <tr>\n",
       "      <th>36FF13B622D14481871874B522D0A35B</th>\n",
       "      <td>2</td>\n",
       "      <td>2</td>\n",
       "      <td>2</td>\n",
       "    </tr>\n",
       "  </tbody>\n",
       "</table>\n",
       "</div>"
      ],
      "text/plain": [
       "                                  TOTAL_USERS  EPI_USERS  EXP_USERS\n",
       "LineKeyOrigin                                                      \n",
       "A97A6025FAA09766D13886C1CE71F557            3          1          3\n",
       "5F60685185C7482A4FFDE9AF67226C6B            1          0          1\n",
       "1F54EBA091172CFAEB39765083A9D46E            3          2          3\n",
       "794533D066894168E2B3E43D871F76F5            1          0          1\n",
       "36FF13B622D14481871874B522D0A35B            2          2          2"
      ]
     },
     "execution_count": 443,
     "metadata": {},
     "output_type": "execute_result"
    }
   ],
   "source": [
    "total_users.sample(5)"
   ]
  },
  {
   "cell_type": "code",
   "execution_count": 444,
   "metadata": {
    "collapsed": true
   },
   "outputs": [],
   "source": [
    "user = \"1F54EBA091172CFAEB39765083A9D46E\""
   ]
  },
  {
   "cell_type": "code",
   "execution_count": 445,
   "metadata": {
    "collapsed": false
   },
   "outputs": [
    {
     "data": {
      "text/plain": [
       "EXPOSED          True\n",
       "ANTENNA_ID_0     1714\n",
       "EPIDEMIC        False\n",
       "Name: 1F54EBA091172CFAEB39765083A9D46E, dtype: object"
      ]
     },
     "execution_count": 445,
     "metadata": {},
     "output_type": "execute_result"
    }
   ],
   "source": [
    "user_epidemic.loc[user,:]"
   ]
  },
  {
   "cell_type": "code",
   "execution_count": 446,
   "metadata": {
    "collapsed": false
   },
   "outputs": [
    {
     "data": {
      "text/html": [
       "<div>\n",
       "<table border=\"1\" class=\"dataframe\">\n",
       "  <thead>\n",
       "    <tr style=\"text-align: right;\">\n",
       "      <th></th>\n",
       "      <th>ID</th>\n",
       "      <th>LATITUDE</th>\n",
       "      <th>LONGITUDE</th>\n",
       "      <th>STATE</th>\n",
       "      <th>EPIDEMIC</th>\n",
       "    </tr>\n",
       "  </thead>\n",
       "  <tbody>\n",
       "    <tr>\n",
       "      <th>900</th>\n",
       "      <td>1714</td>\n",
       "      <td>19.28</td>\n",
       "      <td>-98.881</td>\n",
       "      <td>Mexico</td>\n",
       "      <td>0</td>\n",
       "    </tr>\n",
       "  </tbody>\n",
       "</table>\n",
       "</div>"
      ],
      "text/plain": [
       "       ID  LATITUDE  LONGITUDE   STATE  EPIDEMIC\n",
       "900  1714     19.28    -98.881  Mexico         0"
      ]
     },
     "execution_count": 446,
     "metadata": {},
     "output_type": "execute_result"
    }
   ],
   "source": [
    "antennas[antennas['ID'] ==1714]"
   ]
  },
  {
   "cell_type": "code",
   "execution_count": 451,
   "metadata": {
    "collapsed": false
   },
   "outputs": [
    {
     "data": {
      "text/html": [
       "<div>\n",
       "<table border=\"1\" class=\"dataframe\">\n",
       "  <thead>\n",
       "    <tr style=\"text-align: right;\">\n",
       "      <th></th>\n",
       "      <th>LineKeyOrigin</th>\n",
       "      <th>LineKeyTarget</th>\n",
       "      <th>EPIDEMIC</th>\n",
       "      <th>ANTENNA_ID_0</th>\n",
       "      <th>EPIDEMIC_Target</th>\n",
       "      <th>ANTENNA_ID_0_Target</th>\n",
       "    </tr>\n",
       "  </thead>\n",
       "  <tbody>\n",
       "    <tr>\n",
       "      <th>1192878</th>\n",
       "      <td>3D1A6506142965F390124F4CED1C89A5</td>\n",
       "      <td>1F54EBA091172CFAEB39765083A9D46E</td>\n",
       "      <td>True</td>\n",
       "      <td>2161</td>\n",
       "      <td>False</td>\n",
       "      <td>1714</td>\n",
       "    </tr>\n",
       "  </tbody>\n",
       "</table>\n",
       "</div>"
      ],
      "text/plain": [
       "                            LineKeyOrigin                     LineKeyTarget  \\\n",
       "1192878  3D1A6506142965F390124F4CED1C89A5  1F54EBA091172CFAEB39765083A9D46E   \n",
       "\n",
       "        EPIDEMIC  ANTENNA_ID_0 EPIDEMIC_Target  ANTENNA_ID_0_Target  \n",
       "1192878     True          2161           False                 1714  "
      ]
     },
     "execution_count": 451,
     "metadata": {},
     "output_type": "execute_result"
    }
   ],
   "source": [
    "relevant_cols = [col for col in table.columns if ('Line' in col) or ('EPIDEMIC' in col) or ('ANTENNA' in col) ]\n",
    "table[table['LineKeyTarget']==user][relevant_cols]"
   ]
  },
  {
   "cell_type": "code",
   "execution_count": 452,
   "metadata": {
    "collapsed": false
   },
   "outputs": [
    {
     "data": {
      "text/html": [
       "<div>\n",
       "<table border=\"1\" class=\"dataframe\">\n",
       "  <thead>\n",
       "    <tr style=\"text-align: right;\">\n",
       "      <th></th>\n",
       "      <th>LineKeyOrigin</th>\n",
       "      <th>LineKeyTarget</th>\n",
       "      <th>EPIDEMIC</th>\n",
       "      <th>ANTENNA_ID_0</th>\n",
       "      <th>EPIDEMIC_Target</th>\n",
       "      <th>ANTENNA_ID_0_Target</th>\n",
       "    </tr>\n",
       "  </thead>\n",
       "  <tbody>\n",
       "    <tr>\n",
       "      <th>611238</th>\n",
       "      <td>1F54EBA091172CFAEB39765083A9D46E</td>\n",
       "      <td>1DA8375FAEEA1F30C3AD2DC5829AC918</td>\n",
       "      <td>False</td>\n",
       "      <td>1714</td>\n",
       "      <td>True</td>\n",
       "      <td>1658</td>\n",
       "    </tr>\n",
       "    <tr>\n",
       "      <th>611239</th>\n",
       "      <td>1F54EBA091172CFAEB39765083A9D46E</td>\n",
       "      <td>3D1A6506142965F390124F4CED1C89A5</td>\n",
       "      <td>False</td>\n",
       "      <td>1714</td>\n",
       "      <td>True</td>\n",
       "      <td>2161</td>\n",
       "    </tr>\n",
       "    <tr>\n",
       "      <th>611240</th>\n",
       "      <td>1F54EBA091172CFAEB39765083A9D46E</td>\n",
       "      <td>D6187EFCF1D30F9244059E0164338B45</td>\n",
       "      <td>False</td>\n",
       "      <td>1714</td>\n",
       "      <td>False</td>\n",
       "      <td>1510</td>\n",
       "    </tr>\n",
       "  </tbody>\n",
       "</table>\n",
       "</div>"
      ],
      "text/plain": [
       "                           LineKeyOrigin                     LineKeyTarget  \\\n",
       "611238  1F54EBA091172CFAEB39765083A9D46E  1DA8375FAEEA1F30C3AD2DC5829AC918   \n",
       "611239  1F54EBA091172CFAEB39765083A9D46E  3D1A6506142965F390124F4CED1C89A5   \n",
       "611240  1F54EBA091172CFAEB39765083A9D46E  D6187EFCF1D30F9244059E0164338B45   \n",
       "\n",
       "       EPIDEMIC  ANTENNA_ID_0 EPIDEMIC_Target  ANTENNA_ID_0_Target  \n",
       "611238    False          1714            True                 1658  \n",
       "611239    False          1714            True                 2161  \n",
       "611240    False          1714           False                 1510  "
      ]
     },
     "execution_count": 452,
     "metadata": {},
     "output_type": "execute_result"
    }
   ],
   "source": [
    "table[table['LineKeyOrigin']==user][relevant_cols]"
   ]
  },
  {
   "cell_type": "markdown",
   "metadata": {},
   "source": [
    "### Fast sanity_check number of users."
   ]
  },
  {
   "cell_type": "code",
   "execution_count": 453,
   "metadata": {
    "collapsed": false
   },
   "outputs": [
    {
     "data": {
      "text/plain": [
       "((2449242, 3), 2449242)"
      ]
     },
     "execution_count": 453,
     "metadata": {},
     "output_type": "execute_result"
    }
   ],
   "source": [
    "total_users.shape,len(np.unique(total_users.index.values)) "
   ]
  },
  {
   "cell_type": "code",
   "execution_count": 455,
   "metadata": {
    "collapsed": false
   },
   "outputs": [
    {
     "data": {
      "text/plain": [
       "2449242"
      ]
     },
     "execution_count": 455,
     "metadata": {},
     "output_type": "execute_result"
    }
   ],
   "source": [
    "len(set(np.unique(table.LineKeyOrigin.values))  | set(np.unique(table.LineKeyTarget.values)) )"
   ]
  },
  {
   "cell_type": "code",
   "execution_count": 456,
   "metadata": {
    "collapsed": false
   },
   "outputs": [
    {
     "data": {
      "text/plain": [
       "(2449242, (2449242, 12))"
      ]
     },
     "execution_count": 456,
     "metadata": {},
     "output_type": "execute_result"
    }
   ],
   "source": [
    "len(np.unique(test.index.values)), test.shape"
   ]
  },
  {
   "cell_type": "markdown",
   "metadata": {},
   "source": [
    "### Results"
   ]
  },
  {
   "cell_type": "code",
   "execution_count": 462,
   "metadata": {
    "collapsed": true
   },
   "outputs": [],
   "source": [
    "pd.Series.hist?"
   ]
  },
  {
   "cell_type": "code",
   "execution_count": null,
   "metadata": {
    "collapsed": true
   },
   "outputs": [],
   "source": []
  },
  {
   "cell_type": "code",
   "execution_count": 468,
   "metadata": {
    "collapsed": false
   },
   "outputs": [
    {
     "data": {
      "text/plain": [
       "<matplotlib.axes._subplots.AxesSubplot at 0x7f5e8f2ec0d0>"
      ]
     },
     "execution_count": 468,
     "metadata": {},
     "output_type": "execute_result"
    },
    {
     "data": {
      "image/png": "[encoded data removed]",
      "text/plain": [
       "<matplotlib.figure.Figure at 0x7f5e8f2f93d0>"
      ]
     },
     "metadata": {},
     "output_type": "display_data"
    }
   ],
   "source": [
    "total_users[total_users['TOTAL_USERS'] < total_users.TOTAL_USERS.quantile(0.99)]['TOTAL_USERS'].hist()"
   ]
  },
  {
   "cell_type": "code",
   "execution_count": 469,
   "metadata": {
    "collapsed": false,
    "scrolled": true
   },
   "outputs": [
    {
     "data": {
      "text/plain": [
       "<matplotlib.axes._subplots.AxesSubplot at 0x7f5e8f506090>"
      ]
     },
     "execution_count": 469,
     "metadata": {},
     "output_type": "execute_result"
    },
    {
     "data": {
      "image/png": "[encoded data removed]",
      "text/plain": [
       "<matplotlib.figure.Figure at 0x7f5e8f210350>"
      ]
     },
     "metadata": {},
     "output_type": "display_data"
    }
   ],
   "source": [
    "total_users[total_users['EXP_USERS'] < total_users.EXP_USERS.quantile(0.99)]['EXP_USERS'].hist()"
   ]
  },
  {
   "cell_type": "code",
   "execution_count": 470,
   "metadata": {
    "collapsed": false
   },
   "outputs": [
    {
     "data": {
      "text/plain": [
       "<matplotlib.axes._subplots.AxesSubplot at 0x7f5e8f4ab890>"
      ]
     },
     "execution_count": 470,
     "metadata": {},
     "output_type": "execute_result"
    },
    {
     "data": {
      "image/png": "[encoded data removed]",
      "text/plain": [
       "<matplotlib.figure.Figure at 0x7f5e8f49c790>"
      ]
     },
     "metadata": {},
     "output_type": "display_data"
    }
   ],
   "source": [
    "total_users[total_users['EPI_USERS'] < total_users.EPI_USERS.quantile(0.99)]['EPI_USERS'].hist()"
   ]
  },
  {
   "cell_type": "markdown",
   "metadata": {},
   "source": [
    "## add Info to output table"
   ]
  },
  {
   "cell_type": "code",
   "execution_count": 471,
   "metadata": {
    "collapsed": true
   },
   "outputs": [],
   "source": [
    "test2 = pd.merge(test,total_users,how='inner',right_index=True,left_index=True)"
   ]
  },
  {
   "cell_type": "code",
   "execution_count": 473,
   "metadata": {
    "collapsed": false
   },
   "outputs": [
    {
     "data": {
      "text/plain": [
       "((2449242, 12), (2449242, 15))"
      ]
     },
     "execution_count": 473,
     "metadata": {},
     "output_type": "execute_result"
    }
   ],
   "source": [
    "test.shape, test2.shape"
   ]
  },
  {
   "cell_type": "code",
   "execution_count": 478,
   "metadata": {
    "collapsed": true
   },
   "outputs": [],
   "source": [
    "#guardo por las dudas para levantar mas rapido a futuro\n",
    "test2.to_csv(output_file, \n",
    "             index = True, \n",
    "             header = True,\n",
    "             float_format='%.0f',\n",
    "             sep=\"|\")"
   ]
  },
  {
   "cell_type": "code",
   "execution_count": 479,
   "metadata": {
    "collapsed": false
   },
   "outputs": [
    {
     "name": "stdout",
     "output_type": "stream",
     "text": [
      "LineKeyOrigin|CallsWeekDaylight|CallsWeekDaylight_EPI|CallsWeekNight|CallsWeekNight_EPI|CallsWeekend|CallsWeekend_EPI|TimeWeekDaylight|TimeWeekDaylight_EPI|TimeWeekNight|TimeWeekNight_EPI|TimeWeekend|TimeWeekend_EPI|TOTAL_USERS|EPI_USERS|EXP_USERS\r\n",
      "000004F96010462FA7A71C7784E27476|0|0|0|0|0|1|0|0|0|0|0|34|1|0|1\r\n",
      "000007EEE7895E17937CFF86379C8E17|0|2|0|0|0|0|0|144|0|0|0|0|1|1|1\r\n",
      "00000837B868F926F67BD440A0845C1D|1|0|2|4|3|0|47|0|74|86|109|0|3|0|2\r\n",
      "00000C5D3BFBEBD919F6F68386C3DD5E|4|0|0|0|0|0|281|0|0|0|0|0|1|0|1\r\n",
      "0000129F4191FFD0963774D2307C7510|2|0|0|0|0|0|66|0|0|0|0|0|2|0|2\r\n",
      "000017368A8964F8C71A9F3A1EAF6160|7|4|0|0|1|0|960|630|0|0|58|0|4|1|4\r\n",
      "00001ADC8C5705AB4FD8197B5024C1AA|7|1|5|5|4|1|744|29|207|335|218|141|4|2|4\r\n",
      "00001B448AE41076EB2C58ABEAF0E0C8|15|0|12|1|10|1|1319|0|705|31|459|29|2|1|2\r\n",
      "00001C544BEBBB9109CE3552B4CDC490|0|0|1|0|0|0|0|0|36|0|0|0|1|0|1\r\n"
     ]
    }
   ],
   "source": [
    "!head $output_file "
   ]
  },
  {
   "cell_type": "code",
   "execution_count": 481,
   "metadata": {
    "collapsed": false
   },
   "outputs": [],
   "source": [
    "!gzip -f $output_file"
   ]
  },
  {
   "cell_type": "code",
   "execution_count": 484,
   "metadata": {
    "collapsed": false
   },
   "outputs": [
    {
     "name": "stdout",
     "output_type": "stream",
     "text": [
      "76M\t/home/juan/mobility-study/output_sum_links.txt.gz\r\n"
     ]
    }
   ],
   "source": [
    "!du -ha $output_file* "
   ]
  },
  {
   "cell_type": "markdown",
   "metadata": {
    "collapsed": false
   },
   "source": [
    "### Sanity checking im not losing users in the algorithm"
   ]
  },
  {
   "cell_type": "code",
   "execution_count": 29,
   "metadata": {
    "collapsed": false
   },
   "outputs": [
    {
     "data": {
      "text/html": [
       "<div>\n",
       "<table border=\"1\" class=\"dataframe\">\n",
       "  <thead>\n",
       "    <tr style=\"text-align: right;\">\n",
       "      <th></th>\n",
       "      <th>CallsWeekDaylight</th>\n",
       "      <th>CallsWeekDaylight_EPI</th>\n",
       "      <th>CallsWeekNight</th>\n",
       "      <th>CallsWeekNight_EPI</th>\n",
       "      <th>CallsWeekend</th>\n",
       "      <th>CallsWeekend_EPI</th>\n",
       "      <th>TimeWeekDaylight</th>\n",
       "      <th>TimeWeekDaylight_EPI</th>\n",
       "      <th>TimeWeekNight</th>\n",
       "      <th>TimeWeekNight_EPI</th>\n",
       "      <th>TimeWeekend</th>\n",
       "      <th>TimeWeekend_EPI</th>\n",
       "    </tr>\n",
       "    <tr>\n",
       "      <th>LineKeyOrigin</th>\n",
       "      <th></th>\n",
       "      <th></th>\n",
       "      <th></th>\n",
       "      <th></th>\n",
       "      <th></th>\n",
       "      <th></th>\n",
       "      <th></th>\n",
       "      <th></th>\n",
       "      <th></th>\n",
       "      <th></th>\n",
       "      <th></th>\n",
       "      <th></th>\n",
       "    </tr>\n",
       "  </thead>\n",
       "  <tbody>\n",
       "    <tr>\n",
       "      <th>000004F96010462FA7A71C7784E27476</th>\n",
       "      <td>0</td>\n",
       "      <td>0</td>\n",
       "      <td>0</td>\n",
       "      <td>0</td>\n",
       "      <td>0</td>\n",
       "      <td>1</td>\n",
       "      <td>0</td>\n",
       "      <td>0</td>\n",
       "      <td>0</td>\n",
       "      <td>0</td>\n",
       "      <td>0</td>\n",
       "      <td>34</td>\n",
       "    </tr>\n",
       "    <tr>\n",
       "      <th>000007EEE7895E17937CFF86379C8E17</th>\n",
       "      <td>0</td>\n",
       "      <td>2</td>\n",
       "      <td>0</td>\n",
       "      <td>0</td>\n",
       "      <td>0</td>\n",
       "      <td>0</td>\n",
       "      <td>0</td>\n",
       "      <td>144</td>\n",
       "      <td>0</td>\n",
       "      <td>0</td>\n",
       "      <td>0</td>\n",
       "      <td>0</td>\n",
       "    </tr>\n",
       "    <tr>\n",
       "      <th>00000837B868F926F67BD440A0845C1D</th>\n",
       "      <td>1</td>\n",
       "      <td>0</td>\n",
       "      <td>2</td>\n",
       "      <td>4</td>\n",
       "      <td>3</td>\n",
       "      <td>0</td>\n",
       "      <td>47</td>\n",
       "      <td>0</td>\n",
       "      <td>74</td>\n",
       "      <td>86</td>\n",
       "      <td>109</td>\n",
       "      <td>0</td>\n",
       "    </tr>\n",
       "    <tr>\n",
       "      <th>00000C5D3BFBEBD919F6F68386C3DD5E</th>\n",
       "      <td>4</td>\n",
       "      <td>0</td>\n",
       "      <td>0</td>\n",
       "      <td>0</td>\n",
       "      <td>0</td>\n",
       "      <td>0</td>\n",
       "      <td>281</td>\n",
       "      <td>0</td>\n",
       "      <td>0</td>\n",
       "      <td>0</td>\n",
       "      <td>0</td>\n",
       "      <td>0</td>\n",
       "    </tr>\n",
       "    <tr>\n",
       "      <th>0000129F4191FFD0963774D2307C7510</th>\n",
       "      <td>2</td>\n",
       "      <td>0</td>\n",
       "      <td>0</td>\n",
       "      <td>0</td>\n",
       "      <td>0</td>\n",
       "      <td>0</td>\n",
       "      <td>66</td>\n",
       "      <td>0</td>\n",
       "      <td>0</td>\n",
       "      <td>0</td>\n",
       "      <td>0</td>\n",
       "      <td>0</td>\n",
       "    </tr>\n",
       "  </tbody>\n",
       "</table>\n",
       "</div>"
      ],
      "text/plain": [
       "                                  CallsWeekDaylight  CallsWeekDaylight_EPI  \\\n",
       "LineKeyOrigin                                                                \n",
       "000004F96010462FA7A71C7784E27476                  0                      0   \n",
       "000007EEE7895E17937CFF86379C8E17                  0                      2   \n",
       "00000837B868F926F67BD440A0845C1D                  1                      0   \n",
       "00000C5D3BFBEBD919F6F68386C3DD5E                  4                      0   \n",
       "0000129F4191FFD0963774D2307C7510                  2                      0   \n",
       "\n",
       "                                  CallsWeekNight  CallsWeekNight_EPI  \\\n",
       "LineKeyOrigin                                                          \n",
       "000004F96010462FA7A71C7784E27476               0                   0   \n",
       "000007EEE7895E17937CFF86379C8E17               0                   0   \n",
       "00000837B868F926F67BD440A0845C1D               2                   4   \n",
       "00000C5D3BFBEBD919F6F68386C3DD5E               0                   0   \n",
       "0000129F4191FFD0963774D2307C7510               0                   0   \n",
       "\n",
       "                                  CallsWeekend  CallsWeekend_EPI  \\\n",
       "LineKeyOrigin                                                      \n",
       "000004F96010462FA7A71C7784E27476             0                 1   \n",
       "000007EEE7895E17937CFF86379C8E17             0                 0   \n",
       "00000837B868F926F67BD440A0845C1D             3                 0   \n",
       "00000C5D3BFBEBD919F6F68386C3DD5E             0                 0   \n",
       "0000129F4191FFD0963774D2307C7510             0                 0   \n",
       "\n",
       "                                  TimeWeekDaylight  TimeWeekDaylight_EPI  \\\n",
       "LineKeyOrigin                                                              \n",
       "000004F96010462FA7A71C7784E27476                 0                     0   \n",
       "000007EEE7895E17937CFF86379C8E17                 0                   144   \n",
       "00000837B868F926F67BD440A0845C1D                47                     0   \n",
       "00000C5D3BFBEBD919F6F68386C3DD5E               281                     0   \n",
       "0000129F4191FFD0963774D2307C7510                66                     0   \n",
       "\n",
       "                                  TimeWeekNight  TimeWeekNight_EPI  \\\n",
       "LineKeyOrigin                                                        \n",
       "000004F96010462FA7A71C7784E27476              0                  0   \n",
       "000007EEE7895E17937CFF86379C8E17              0                  0   \n",
       "00000837B868F926F67BD440A0845C1D             74                 86   \n",
       "00000C5D3BFBEBD919F6F68386C3DD5E              0                  0   \n",
       "0000129F4191FFD0963774D2307C7510              0                  0   \n",
       "\n",
       "                                  TimeWeekend  TimeWeekend_EPI  \n",
       "LineKeyOrigin                                                   \n",
       "000004F96010462FA7A71C7784E27476            0               34  \n",
       "000007EEE7895E17937CFF86379C8E17            0                0  \n",
       "00000837B868F926F67BD440A0845C1D          109                0  \n",
       "00000C5D3BFBEBD919F6F68386C3DD5E            0                0  \n",
       "0000129F4191FFD0963774D2307C7510            0                0  "
      ]
     },
     "execution_count": 29,
     "metadata": {},
     "output_type": "execute_result"
    }
   ],
   "source": [
    "test.head()"
   ]
  },
  {
   "cell_type": "code",
   "execution_count": 30,
   "metadata": {
    "collapsed": true
   },
   "outputs": [],
   "source": [
    "test_hashes = np.unique(test.index.values)"
   ]
  },
  {
   "cell_type": "code",
   "execution_count": 31,
   "metadata": {
    "collapsed": false
   },
   "outputs": [
    {
     "data": {
      "text/plain": [
       "((2449242, 12), 2449242)"
      ]
     },
     "execution_count": 31,
     "metadata": {},
     "output_type": "execute_result"
    }
   ],
   "source": [
    "test.shape, len(test_hashes)"
   ]
  },
  {
   "cell_type": "code",
   "execution_count": 28,
   "metadata": {
    "collapsed": false
   },
   "outputs": [
    {
     "data": {
      "text/plain": [
       "3667451"
      ]
     },
     "execution_count": 28,
     "metadata": {},
     "output_type": "execute_result"
    }
   ],
   "source": [
    "len(simple_format_hashes)"
   ]
  },
  {
   "cell_type": "code",
   "execution_count": null,
   "metadata": {
    "collapsed": false
   },
   "outputs": [],
   "source": [
    "table.shape, test.shape, test2.shape,test3.shape"
   ]
  },
  {
   "cell_type": "code",
   "execution_count": 208,
   "metadata": {
    "collapsed": false
   },
   "outputs": [
    {
     "data": {
      "text/plain": [
       "True"
      ]
     },
     "execution_count": 208,
     "metadata": {},
     "output_type": "execute_result"
    }
   ],
   "source": [
    "1927239== 712128 +1215111"
   ]
  },
  {
   "cell_type": "code",
   "execution_count": 33,
   "metadata": {
    "collapsed": true
   },
   "outputs": [],
   "source": [
    "only_non_epidemic_users = list(set(table[table['EPIDEMIC']==0].LineKeyOrigin.values) - set(table[table['EPIDEMIC']==1].LineKeyOrigin.values))"
   ]
  },
  {
   "cell_type": "code",
   "execution_count": 36,
   "metadata": {
    "collapsed": false
   },
   "outputs": [
    {
     "name": "stdout",
     "output_type": "stream",
     "text": [
      "(5015519, 11)\n",
      "(1862025, 11)\n",
      "(3153494, 11)\n"
     ]
    }
   ],
   "source": [
    "print(table.shape)\n",
    "print(table[~table['LineKeyOrigin'].isin(only_non_epidemic_users)].shape)\n",
    "print(table[table['LineKeyOrigin'].isin(only_non_epidemic_users)].shape)"
   ]
  },
  {
   "cell_type": "code",
   "execution_count": 38,
   "metadata": {
    "collapsed": false
   },
   "outputs": [
    {
     "data": {
      "text/plain": [
       "False"
      ]
     },
     "execution_count": 38,
     "metadata": {},
     "output_type": "execute_result"
    }
   ],
   "source": [
    "(table['LineKeyOrigin'].isin(only_non_epidemic_users).isnull()).any()"
   ]
  },
  {
   "cell_type": "code",
   "execution_count": 39,
   "metadata": {
    "collapsed": false
   },
   "outputs": [
    {
     "data": {
      "text/plain": [
       "1927239"
      ]
     },
     "execution_count": 39,
     "metadata": {},
     "output_type": "execute_result"
    }
   ],
   "source": [
    "non_epi_hashes =np.unique(table[~table['LineKeyOrigin'].isin(only_non_epidemic_users)].LineKeyOrigin.values)\n",
    "epi_hashes = np.unique(table[table['LineKeyOrigin'].isin(only_non_epidemic_users)].LineKeyOrigin.values)\n",
    "len(epi_hashes) + len(non_epi_hashes)"
   ]
  },
  {
   "cell_type": "code",
   "execution_count": 40,
   "metadata": {
    "collapsed": false
   },
   "outputs": [
    {
     "name": "stdout",
     "output_type": "stream",
     "text": [
      "1927239\n",
      "1927239\n"
     ]
    }
   ],
   "source": [
    "table_hashes = np.unique(table['LineKeyOrigin'].values)\n",
    "print len(table_hashes)\n",
    "print len(epi_hashes) + len(non_epi_hashes)"
   ]
  },
  {
   "cell_type": "code",
   "execution_count": 43,
   "metadata": {
    "collapsed": false
   },
   "outputs": [
    {
     "data": {
      "text/plain": [
       "3667451"
      ]
     },
     "execution_count": 43,
     "metadata": {},
     "output_type": "execute_result"
    }
   ],
   "source": [
    "len(simple_format_hashes)"
   ]
  },
  {
   "cell_type": "markdown",
   "metadata": {},
   "source": [
    "## Results\n",
    "Levantamos en sum_links 1927239 usuarios de la Telco que tienen al menos 1 interaccion con otro users de la misma TelCo\n",
    "Sin embargo en la tabla de simple_format ya procesada, tengo 3667451 users de la Telco.\n",
    "Lo que creo que esta sucediendo es que hay 1.5M de users que NO hablan con otro usuario de la telco.... Raro.\n",
    "\n",
    "Habria que testear en simple_format de levantar de vuelta los useres pertinentes asi nos"
   ]
  },
  {
   "cell_type": "markdown",
   "metadata": {},
   "source": [
    "## More sanity checking\n",
    "Obs.. podria estar pasando que estamos droppeando todas esas filas que eran interacciones unicamente por SMS (interaccion que no estamso mirando actualmente pues descartamos esas columnas directamente). Pero mirando el dato crudo con grep ( zcat sum_links_201504_201506.txt.gz | grep -m 10 \"00000C5D3BFBEBD919F6F68386C3DD5E\") encontramos users de la Telco que interactuan con este y en formato de llamadas, luego estamos perdiendo users en otro lado..\n",
    "\n",
    "HAY QUE recorrer el algoritmo que levanta users para ver donde se estarian cayendo estas interacciones y rever si es el parser o si lo 'dropeamos' el valor en algun lado. La nueva tabla la vamos a guardar en la variable table justamente"
   ]
  },
  {
   "cell_type": "code",
   "execution_count": 239,
   "metadata": {
    "collapsed": false
   },
   "outputs": [],
   "source": [
    "test_hashes= test.index.values"
   ]
  },
  {
   "cell_type": "code",
   "execution_count": 241,
   "metadata": {
    "collapsed": false
   },
   "outputs": [
    {
     "name": "stdout",
     "output_type": "stream",
     "text": [
      "1927239\n",
      "1927239\n"
     ]
    }
   ],
   "source": [
    "print(len(np.unique(test_hashes)))\n",
    "print(len(test_hashes))"
   ]
  },
  {
   "cell_type": "code",
   "execution_count": 42,
   "metadata": {
    "collapsed": false
   },
   "outputs": [
    {
     "name": "stdout",
     "output_type": "stream",
     "text": [
      "1927239\n"
     ]
    }
   ],
   "source": [
    "print(len(table_hashes))"
   ]
  },
  {
   "cell_type": "code",
   "execution_count": 286,
   "metadata": {
    "collapsed": false
   },
   "outputs": [
    {
     "data": {
      "text/plain": [
       "False"
      ]
     },
     "execution_count": 286,
     "metadata": {},
     "output_type": "execute_result"
    }
   ],
   "source": [
    "np.in1d(table_hashes,test_hashes,assume_unique=True).all()"
   ]
  },
  {
   "cell_type": "code",
   "execution_count": 52,
   "metadata": {
    "collapsed": false
   },
   "outputs": [],
   "source": [
    "#me fijo aquellos que estan en la simple_f pero que no estan en la tabla\n",
    "out_of_table_hashes = simple_format_hashes[~np.in1d(simple_format_hashes,table_hashes,assume_unique=True)]"
   ]
  },
  {
   "cell_type": "code",
   "execution_count": 56,
   "metadata": {
    "collapsed": false
   },
   "outputs": [
    {
     "data": {
      "text/plain": [
       "(1740212,)"
      ]
     },
     "execution_count": 56,
     "metadata": {},
     "output_type": "execute_result"
    }
   ],
   "source": [
    "out_of_table_hashes.shape"
   ]
  },
  {
   "cell_type": "markdown",
   "metadata": {},
   "source": [
    "#### buscamos con grep a estos users dentro de los sum_link files a ver que estaria pasando\n",
    "* Las ultimas 3 filas son de sms con lo cual NO se incluyen en nuestro procesamiento de sum_links\n",
    "* Tmb podria pasar que haya una interaccion entre dos usuarios, unos de los cuales no es de la Telco, luego se excluye esta linea.\n"
   ]
  },
  {
   "cell_type": "code",
   "execution_count": 98,
   "metadata": {
    "collapsed": false
   },
   "outputs": [
    {
     "data": {
      "text/plain": [
       "'F8527ACF3BD6B2E6664FEB7993820E8D'"
      ]
     },
     "execution_count": 98,
     "metadata": {},
     "output_type": "execute_result"
    }
   ],
   "source": [
    "i=random.randint(0,len(out_of_table_hashes)-1)\n",
    "user = (out_of_table_hashes[i])\n",
    "slinks_file1 = \"/grandata/voice/sum_links/sum_links_201504_201506.txt.gz\"\n",
    "slinks_file2 = \"/grandata/voice/sum_links/sum_links_201507_201509.txt.gz\"\n",
    "user"
   ]
  },
  {
   "cell_type": "code",
   "execution_count": 99,
   "metadata": {
    "collapsed": false
   },
   "outputs": [
    {
     "name": "stdout",
     "output_type": "stream",
     "text": [
      "485AAB7A278EA2BC2B434386103B3CDD|F8527ACF3BD6B2E6664FEB7993820E8D|0|0|1|0|0|58|0|0|0\n",
      "299403B5EDEF0B0D6F42D7A09A8EDC39|F8527ACF3BD6B2E6664FEB7993820E8D|0|0|0|0|0|0|1|1|0\n",
      "F7A0CA7A5B32D2172B95A0ECE69C1622|F8527ACF3BD6B2E6664FEB7993820E8D|0|0|0|0|0|0|0|1|0\n",
      "80DBF1C2031A8A6400CC4A5367DB2F5B|F8527ACF3BD6B2E6664FEB7993820E8D|0|0|1|0|0|1|0|0|0\n",
      "F8527ACF3BD6B2E6664FEB7993820E8D|80DBF1C2031A8A6400CC4A5367DB2F5B|2|0|0|48|0|0|0|0|0\n",
      "E7B7DB6EBECA9C15063D3EA58BFE20C5|F8527ACF3BD6B2E6664FEB7993820E8D|0|0|0|0|0|0|0|3|0\n",
      "F8527ACF3BD6B2E6664FEB7993820E8D|39E50DC04A11501518F91D47F5E3B504|1|0|3|44|0|141|0|0|0\n",
      "39E50DC04A11501518F91D47F5E3B504|F8527ACF3BD6B2E6664FEB7993820E8D|1|0|0|20|0|0|0|0|0\n",
      "F8527ACF3BD6B2E6664FEB7993820E8D|3F69156BBD56452D7DDF5D3FF1302F20|0|1|1|0|27|30|0|0|0\n",
      "F8527ACF3BD6B2E6664FEB7993820E8D|1CBE2653BC1D2985AC8BF2955EE935DA|0|0|0|0|0|0|0|0|1\n",
      "\n",
      "gzip: stdout: Broken pipe\n",
      "total algo time for this cell is 114.504776001\n"
     ]
    }
   ],
   "source": [
    "start_time = time.time()\n",
    "!zcat $slinks_file1 | grep -m 10 \"$user\" \n",
    "elapsed_time = time.time()-start_time\n",
    "print(\"total algo time for this cell is {t}\".format( t= elapsed_time))"
   ]
  },
  {
   "cell_type": "code",
   "execution_count": 100,
   "metadata": {
    "collapsed": false
   },
   "outputs": [
    {
     "name": "stdout",
     "output_type": "stream",
     "text": [
      "F8527ACF3BD6B2E6664FEB7993820E8D|19438BC43AA0A0CB76B1318377CA3EA6|0|0|0|0|0|0|11|0|0\n",
      "D76AD351C6DC8FB1372F303247548DD2|F8527ACF3BD6B2E6664FEB7993820E8D|0|0|1|0|0|109|0|0|0\n",
      "F8527ACF3BD6B2E6664FEB7993820E8D|D76AD351C6DC8FB1372F303247548DD2|0|0|0|0|0|0|0|0|1\n",
      "7BC568EDB9B2D918941E7EADBBD3A970|F8527ACF3BD6B2E6664FEB7993820E8D|2|1|2|416|43|91|0|0|0\n",
      "A80EB03346181E8D557EEA6E6C82E98F|F8527ACF3BD6B2E6664FEB7993820E8D|121|27|61|25380|6273|12159|0|0|0\n",
      "F8527ACF3BD6B2E6664FEB7993820E8D|8072C7CE1B843532FFC51DBDF6123C83|2|0|1|258|0|269|0|0|0\n",
      "total algo time for this cell is 597.377434969\n"
     ]
    }
   ],
   "source": [
    "start_time = time.time()\n",
    "!zcat $slinks_file2 | grep -m 10 \"$user\" \n",
    "elapsed_time = time.time()-start_time\n",
    "print(\"total algo time for this cell is {t}\".format( t= elapsed_time))"
   ]
  },
  {
   "cell_type": "code",
   "execution_count": 111,
   "metadata": {
    "collapsed": false
   },
   "outputs": [
    {
     "data": {
      "text/plain": [
       "False"
      ]
     },
     "execution_count": 111,
     "metadata": {},
     "output_type": "execute_result"
    }
   ],
   "source": [
    "#test if other link is telco user\n",
    "other_user = '8072C7CE1B843532FFC51DBDF6123C83'\n",
    "other_user in simple_format_hashes"
   ]
  },
  {
   "cell_type": "markdown",
   "metadata": {},
   "source": [
    "### Results\n",
    "O eran solo interacciones por SMS o eran interacciones donde algun usuario del par ()i,j era no_Telco"
   ]
  },
  {
   "cell_type": "markdown",
   "metadata": {},
   "source": [
    "### Por las dudas levantamos todos los hashes que encontremos en sum_links, donde al menos un user es Telco \n",
    "Lo unico que cambia es el & por un | final en el chequeo isin(simple_format_hashes)"
   ]
  },
  {
   "cell_type": "code",
   "execution_count": 37,
   "metadata": {
    "collapsed": true
   },
   "outputs": [],
   "source": [
    "a = (set(simple_format_hashes[100:200])&b) | a&b | (set(simple_format_hashes[300:400]) & set(simple_format_hashes[290:300]))"
   ]
  },
  {
   "cell_type": "code",
   "execution_count": null,
   "metadata": {
    "collapsed": true
   },
   "outputs": [],
   "source": []
  },
  {
   "cell_type": "code",
   "execution_count": 52,
   "metadata": {
    "collapsed": false,
    "scrolled": true
   },
   "outputs": [
    {
     "name": "stdout",
     "output_type": "stream",
     "text": [
      "\n",
      "reading month 04 of 2 months, current time is 1.74087095261 \n",
      "\n",
      "reading chunk #1 of 8, current time is 406.557054996\n",
      "reading chunk #2 of 8, current time is 701.653960943\n",
      "reading chunk #3 of 8, current time is 924.011265039\n",
      "reading chunk #4 of 8, current time is 1138.56422305\n",
      "reading chunk #5 of 8, current time is 1294.23157096\n",
      "\n",
      "reading month 07 of 2 months, current time is 1326.59937096 \n",
      "\n",
      "reading chunk #1 of 8, current time is 1487.06844401\n",
      "reading chunk #2 of 8, current time is 1710.70073485\n",
      "reading chunk #3 of 8, current time is 1929.73881197\n",
      "reading chunk #4 of 8, current time is 2150.85129404\n",
      "reading chunk #5 of 8, current time is 2308.18230391\n"
     ]
    },
    {
     "ename": "NameError",
     "evalue": "name 'table' is not defined",
     "output_type": "error",
     "traceback": [
      "\u001b[1;31m---------------------------------------------------------------------------\u001b[0m",
      "\u001b[1;31mNameError\u001b[0m                                 Traceback (most recent call last)",
      "\u001b[1;32m<ipython-input-52-83d34f7b0b73>\u001b[0m in \u001b[0;36m<module>\u001b[1;34m()\u001b[0m\n\u001b[0;32m     35\u001b[0m \u001b[1;33m\u001b[0m\u001b[0m\n\u001b[0;32m     36\u001b[0m \u001b[1;31m#como leo varios meses puede haber dos ocurencias distintas para un par (origin,target)\u001b[0m\u001b[1;33m\u001b[0m\u001b[1;33m\u001b[0m\u001b[0m\n\u001b[1;32m---> 37\u001b[1;33m \u001b[0mtable\u001b[0m \u001b[1;33m=\u001b[0m \u001b[0mtable\u001b[0m\u001b[1;33m.\u001b[0m\u001b[0mgroupby\u001b[0m\u001b[1;33m(\u001b[0m\u001b[1;33m[\u001b[0m\u001b[1;34m'LineKeyOrigin'\u001b[0m\u001b[1;33m,\u001b[0m\u001b[1;34m'LineKeyTarget'\u001b[0m\u001b[1;33m]\u001b[0m\u001b[1;33m)\u001b[0m\u001b[1;33m.\u001b[0m\u001b[0mcount\u001b[0m\u001b[1;33m(\u001b[0m\u001b[1;33m)\u001b[0m\u001b[1;33m\u001b[0m\u001b[0m\n\u001b[0m\u001b[0;32m     38\u001b[0m \u001b[1;33m\u001b[0m\u001b[0m\n\u001b[0;32m     39\u001b[0m \u001b[1;32mprint\u001b[0m\u001b[1;33m(\u001b[0m\u001b[1;34m\"\\n total running time of script is %d \"\u001b[0m \u001b[1;33m%\u001b[0m \u001b[1;33m(\u001b[0m\u001b[0mtime\u001b[0m\u001b[1;33m.\u001b[0m\u001b[0mtime\u001b[0m\u001b[1;33m(\u001b[0m\u001b[1;33m)\u001b[0m \u001b[1;33m-\u001b[0m  \u001b[0mstart_time\u001b[0m\u001b[1;33m)\u001b[0m\u001b[1;33m)\u001b[0m\u001b[1;33m\u001b[0m\u001b[0m\n",
      "\u001b[1;31mNameError\u001b[0m: name 'table' is not defined"
     ]
    }
   ],
   "source": [
    "## leemos de a chunks todo el file y lo agregamos a la tabla con los valores que nos importan\n",
    "\n",
    "#ver el tiempo que tarda\n",
    "start_time = time.time()\n",
    "table_hashes_set = set()\n",
    "simple_format_set = set(simple_format_hashes)\n",
    "#table = pd.DataFrame()\n",
    "for month_start in [\"04\",\"07\"]:\n",
    "    year = \"2015\"\n",
    "    print(\"\\nreading month {m} of {tot_n} months, current time is {t} \\n\".\\\n",
    "              format(m= month_start,tot_n = 2,t=(time.time()-start_time)))\n",
    "    #todos estos sum_links terminan 2 meses mas tardes\n",
    "    month_end= \"0\"+str(int(month_start)+2)\n",
    "    input_file= rootdir +\"/sum_links_{y}{ms}_{y}{me}.txt.gz\".format(y=year,ms=month_start,me=month_end)\n",
    "    raw_table = pd.read_csv(input_file,\n",
    "                         sep = \"|\", \n",
    "                         header =0,\n",
    "                         index_col = None,\n",
    "                         usecols = ['LineKeyOrigin', 'LineKeyTarget'],\n",
    "                         chunksize = 6*10**7,    \n",
    "                        engine = 'c',\n",
    "                         lineterminator='\\n',\n",
    "                         skipinitialspace=True, \n",
    "                        error_bad_lines= False,\n",
    "                        warn_bad_lines= True,\n",
    "                        #dtype = {'CallsWeekDaylight':np.uint16,'CallsWeekNight':np.uint16,'CallsWeekend':np.uint16,\n",
    "                        #                  'TimeWeekDaylight':np.uint16,'TimeWeekNight':np.uint16,'TimeWeekend':np.uint16}\n",
    "                           )\n",
    "\n",
    "    numb=0;\n",
    "    for chunk in raw_table:\n",
    "        numb+=1\n",
    "        print(\"reading chunk #{n} of {tot_n}, current time is {t}\".\\\n",
    "              format(n=numb,tot_n = 8,t=(time.time()-start_time))) \n",
    "        table_hashes_set |= set(chunk['LineKeyOrigin'].values)&(simple_format_set) | set(chunk['LineKeyTarget'].values)&(simple_format_set)\n",
    "        #table = table.append()\n",
    "\n",
    "#como leo varios meses puede haber dos ocurencias distintas para un par (origin,target)\n",
    "\n",
    "print(\"\\n total running time of script is %d \" % (time.time() -  start_time))\n"
   ]
  },
  {
   "cell_type": "code",
   "execution_count": 246,
   "metadata": {
    "collapsed": false
   },
   "outputs": [
    {
     "data": {
      "text/plain": [
       "True"
      ]
     },
     "execution_count": 246,
     "metadata": {},
     "output_type": "execute_result"
    }
   ],
   "source": [
    "#esto dice que todos los hashes de la table inicial estan en el conjunto final de test\n",
    "np.in1d(table_hashes,test_hashes,assume_unique=True).all()"
   ]
  },
  {
   "cell_type": "code",
   "execution_count": 55,
   "metadata": {
    "collapsed": false
   },
   "outputs": [
    {
     "data": {
      "text/plain": [
       "(3664648, 3667451)"
      ]
     },
     "execution_count": 55,
     "metadata": {},
     "output_type": "execute_result"
    }
   ],
   "source": [
    "len(table_hashes_set & simple_format_set),len(simple_format_set)"
   ]
  },
  {
   "cell_type": "code",
   "execution_count": 252,
   "metadata": {
    "collapsed": false
   },
   "outputs": [],
   "source": [
    "out_of_table_hashes = simple_format_hashes[~np.in1d(simple_format_hashes,test_hashes,assume_unique=True)]"
   ]
  },
  {
   "cell_type": "code",
   "execution_count": 253,
   "metadata": {
    "collapsed": false
   },
   "outputs": [
    {
     "data": {
      "text/plain": [
       "array(['000004F96010462FA7A71C7784E27476',\n",
       "       '000007EEE7895E17937CFF86379C8E17',\n",
       "       '00000C5D3BFBEBD919F6F68386C3DD5E',\n",
       "       '000011F2BE4C5E7D456026CD791185B3',\n",
       "       '0000129F4191FFD0963774D2307C7510',\n",
       "       '00002365F59A06246C1CCD3A43CAC09F',\n",
       "       '000027B6096C6F19310E90FEAD73762B',\n",
       "       '00002B778CE130C58F44B3D00FF2CE64',\n",
       "       '00003105C23E8692A295A5B225D16636',\n",
       "       '00003E0B659DBBB237C1EA4E3ACF3A6C'], dtype=object)"
      ]
     },
     "execution_count": 253,
     "metadata": {},
     "output_type": "execute_result"
    }
   ],
   "source": [
    "out_of_table_hashes[:10]"
   ]
  },
  {
   "cell_type": "markdown",
   "metadata": {},
   "source": [
    "### Result\n",
    "practicamente no hay perdida de usuarios. Por lo que la caida de users en el dataset original viene por el lado de que\n",
    "hay algunos telco_users que en esos 6 meses no hablan con NINGUN otro telco_user y solamente con gente fuera del dataset\n",
    "\n",
    "Idem cuando miramos al azar un user particular y 'grepeamos' los archivos de sum_links. Al analizar los otros usuario s con los que tiene contacto resulta que son o solo contactos por SMS o solo contactos con non_telco_user\n",
    "\n",
    "Encontramos 3664648 users en sum_links y originalmente parseamos 3667451 en simple_format"
   ]
  }
 ],
 "metadata": {
  "kernelspec": {
   "display_name": "Python 2",
   "language": "python",
   "name": "python2"
  },
  "language_info": {
   "codemirror_mode": {
    "name": "ipython",
    "version": 2
   },
   "file_extension": ".py",
   "mimetype": "text/x-python",
   "name": "python",
   "nbconvert_exporter": "python",
   "pygments_lexer": "ipython2",
   "version": "2.7.11"
  }
 },
 "nbformat": 4,
 "nbformat_minor": 0
}
