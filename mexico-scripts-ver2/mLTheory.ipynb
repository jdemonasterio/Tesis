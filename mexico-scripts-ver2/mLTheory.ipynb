{
 "cells": [
  {
   "cell_type": "markdown",
   "metadata": {},
   "source": [
    "# Ipynb to \n",
    "\n",
    "graph and try out different \n",
    "\n",
    "ML concepts with a sample datasize.\n"
   ]
  },
  {
   "cell_type": "markdown",
   "metadata": {},
   "source": [
    "A partir de las 3 tablas ya procesdas : \n",
    "* homeantennas\n",
    "* sumlinks\n",
    "* groundtruth\n",
    "\n",
    "armames un datset para explorar conceptos de ML"
   ]
  },
  {
   "cell_type": "code",
   "execution_count": 1,
   "metadata": {},
   "outputs": [
    {
     "data": {
      "application/javascript": [
       "IPython.notebook.set_autosave_interval(180000)"
      ]
     },
     "metadata": {},
     "output_type": "display_data"
    },
    {
     "name": "stdout",
     "output_type": "stream",
     "text": [
      "Autosaving every 180 seconds\n"
     ]
    }
   ],
   "source": [
    "## seteamos los parametros del notebook\n",
    "%autosave 180\n",
    "import pandas as pd; \n",
    "import numpy as np; \n",
    "import os;\n",
    "import random;\n",
    "import time\n",
    "import matplotlib.pyplot as plt\n",
    "%matplotlib inline\n",
    "import numpy as np; import os;import random;\n",
    "import graphlab as gl\n",
    "from IPython.display import display # para pretty-print con estetica ipython si es que estamos dentro de  un loop, if, etc\n",
    "#esto es para dibujar directo a la notebook\n",
    "gl.canvas.set_target('ipynb')\n",
    "\n",
    "#seteamos el lugar de trabajo\n",
    "HOMEDIR=os.path.expanduser('~')\n",
    "\n",
    "PROJECTDIR = os.getcwd().split(os.sep)\n",
    "PROJECTDIR =  os.sep.join(PROJECTDIR[:PROJECTDIR.index('mexico-scripts-ver2') + 1])\n",
    "\n",
    "DATADIR = os.path.join(PROJECTDIR,'datasets')\n",
    "\n",
    "DATADIR2 = os.path.join(PROJECTDIR,'data')\n",
    "# os.chdir(DATADIR)\n"
   ]
  },
  {
   "cell_type": "code",
   "execution_count": 2,
   "metadata": {},
   "outputs": [
    {
     "name": "stdout",
     "output_type": "stream",
     "text": [
      "data_balanced_sample.csv  gtruth_0215_0715  sl\r\n",
      "gtruth_0114_0715\t  homeant\t    sl.csv.gz\r\n"
     ]
    }
   ],
   "source": [
    "!ls $DATADIR"
   ]
  },
  {
   "cell_type": "code",
   "execution_count": 3,
   "metadata": {
    "collapsed": true
   },
   "outputs": [],
   "source": [
    "graphlab_frame = False\n",
    "# graphlab_frame = 'juan' in HOMEDIR\n",
    "\n",
    "def get_input_sframe(ds,graphlab_frame=graphlab_frame):\n",
    "    if graphlab_frame:\n",
    "        if ds == 'home_antenna': url = DATADIR +\"/homeant\"\n",
    "        elif ds == 'sum_links': url  = DATADIR +\"/sl\"\n",
    "        elif ds == 'gtruth_02': url  = DATADIR +\"/gtruth_0215_0715\" # can be near ground truth (previous to july 2015)\n",
    "        elif ds == 'gtruth_01': url  =  DATADIR +\"/gtruth_0114_0715\" # or can be old GT\n",
    "        else: print('type chosen is %s, type should be home_antenna, sum_links, gtruth_02 or gtruth_01' % ds)\n",
    "    else:\n",
    "        url = DATADIR + '/data_balanced_sample.csv'\n",
    "    return url "
   ]
  },
  {
   "cell_type": "code",
   "execution_count": 4,
   "metadata": {
    "collapsed": true
   },
   "outputs": [],
   "source": [
    "#from unbalanced_dataset import UnderSampler, NearMiss, CondensedNearestNeighbour, OneSidedSelection,\\\n",
    "#NeighbourhoodCleaningRule, TomekLinks, ClusterCentroids, OverSampler, SMOTE,\\\n",
    "#SMOTETomek, SMOTEENN, EasyEnsemble, BalanceCascade"
   ]
  },
  {
   "cell_type": "markdown",
   "metadata": {},
   "source": [
    "## decide if load a reduced size dataset"
   ]
  },
  {
   "cell_type": "code",
   "execution_count": 5,
   "metadata": {
    "collapsed": true
   },
   "outputs": [],
   "source": [
    "# set what is the resulting sample we want of the global dataset\n",
    "global_split = 0.25\n",
    "global_split = None\n",
    "\n",
    "# since we have 2 datets that will be later joined and which are going to be previously sampled, in the end this \n",
    "# independent sampling will result in that, after the join, the dataset will have a size of fraction given by \n",
    "# the `global_split` variable\n",
    "if global_split:\n",
    "    \n",
    "    seed = 2015\n",
    "    sample = np.sqrt(global_split)\n",
    "    print(sample)"
   ]
  },
  {
   "cell_type": "code",
   "execution_count": 6,
   "metadata": {
    "scrolled": true
   },
   "outputs": [
    {
     "name": "stdout",
     "output_type": "stream",
     "text": [
      "CPU times: user 3.84 s, sys: 224 ms, total: 4.07 s\n",
      "Wall time: 4.7 s\n"
     ]
    }
   ],
   "source": [
    "%%time\n",
    "\n",
    "if graphlab_frame:\n",
    "    sf_table, _ = gl.load_sframe(get_input_sframe('home_antenna',graphlab_frame))\n",
    "    sl_table, _ = gl.load_sframe(get_input_sframe('sum_links',graphlab_frame))\n",
    "    # no need to sample the gt table since it is very small in memory\n",
    "    gt_table = gl.load_sframe(get_input_sframe('gtruth_01',graphlab_frame))\n",
    "\n",
    "    if global_split:\n",
    "\n",
    "        sf_table, _ = sf_table.random_split(sample,seed=seed)\n",
    "        sl_table, _ = sl_table.random_split(sample,seed=seed)\n",
    "\n",
    "\n",
    "    rename_gt = (dict([(col,col+\"_gt\") for col in gt_table.column_names() if col != 'USER']))\n",
    "\n",
    "    #agrego la etiqueta \"_gt\" a las columnas del ground_truth\n",
    "    gt_table.rename(rename_gt) \n",
    "else:\n",
    "    data = pd.read_csv(get_input_sframe('sum_links',graphlab_frame))"
   ]
  },
  {
   "cell_type": "code",
   "execution_count": 7,
   "metadata": {},
   "outputs": [
    {
     "name": "stdout",
     "output_type": "stream",
     "text": [
      "(153010, 176)\n"
     ]
    }
   ],
   "source": [
    "if graphlab_frame:\n",
    "    print(sf_table.shape, sl_table.shape, gt_table.shape)\n",
    "else:\n",
    "    print(data.shape)"
   ]
  },
  {
   "cell_type": "markdown",
   "metadata": {},
   "source": [
    "## simple format description"
   ]
  },
  {
   "cell_type": "markdown",
   "metadata": {},
   "source": [
    "Aca miramos las top 10 antenas que utilizo un usuario, ordeandas de 0 a 10 segun el uso, en numero de llamados, que el user le daba a c. antenna. _0_ Seria la antenna mas utilizada y _10_ la menos utilizada. El count es la cantidad de veces que utilizo esa antenna. \n",
    "\n",
    "Cuando aparece _WEEKNIGHT_ en el nombre de la columna, es porque cumple la condicion de que los llamados fueron hechos de noche fuera del horario [8,20] y dentro de la semana laboral.\n",
    "\n",
    "Siguiendo las definiciones del trabajo de Caro, un user es _EPIDEMIC_ siii su ANTENNA_WEEKNIGHT_0 (esta es la home_antenna) pertence a la zona epidemica.\n",
    "\n",
    "El mobility_diameter es el radio de las antennas (0 si uso una sola, etc.) utilizadas por este user. Nuevamente el modificador _WEEKNIGHT_ solo aplica para antennas utilizadas en esos horarios."
   ]
  },
  {
   "cell_type": "code",
   "execution_count": 8,
   "metadata": {
    "scrolled": true
   },
   "outputs": [
    {
     "name": "stdout",
     "output_type": "stream",
     "text": [
      "Index([u'USER', u'COUNT_0', u'COUNT_1', u'COUNT_2', u'COUNT_3', u'COUNT_4',\n",
      "       u'COUNT_5', u'COUNT_6', u'COUNT_7', u'COUNT_8',\n",
      "       ...\n",
      "       u'TimeWeekDay_IN_11', u'CallsWeekEnd_IN_11', u'TimeWeekNight_IN_11',\n",
      "       u'TimeWeekEnd_IN_VUL_11', u'CallsWeekDay_IN_VUL_11',\n",
      "       u'CallsWeekNight_IN_VUL_11', u'TimeWeekDay_IN_VUL_11',\n",
      "       u'CallsWeekEnd_IN_VUL_11', u'TimeWeekNight_IN_VUL_11',\n",
      "       u'VULNERABLE_IN_11'],\n",
      "      dtype='object', length=176)\n"
     ]
    }
   ],
   "source": [
    "# column names\n",
    "if graphlab_frame:\n",
    "    print(sf_table.column_names())\n",
    "else:\n",
    "    print(data.columns)"
   ]
  },
  {
   "cell_type": "markdown",
   "metadata": {},
   "source": [
    "## sum links description\n",
    "\n",
    "La tabla sum_links tiene mas atributos y con data mas rica en informacion:\n",
    "    \n",
    "Esencialmente para c/ user miramos la cantidad de llamados y el tiempo que duraron esos llamados pero segmentando con distintos modificadores. `Time` representa la duracion del llamado y Calls el conteo de llamados.\n",
    "\n",
    "Los modficadores/ segmentaciones son:\n",
    "\n",
    "* mes en el cual estamos parados (12 == diciembre, ..., 08 == agosto)\n",
    "* OUT/IN, separa por la direccion de los llamados si salientes u entrantes.\n",
    "* _VULN_ : separa los llamados que fueron realizados hacia/desde un target_user (en una llamada hay 2 usuarios, el origin o el target) viviendo en una zona epidemica. Donde la home antena de un target_user determina su vulnerabilidad segun si es zona epidemica o no.\n",
    "* Weekend, WeekDay y WeekNight son lo que suenan. Weekend el finde, Weeknight la semana pero fuera de horario laboral y Weekday en horario laboral y de lunes a viernes.\n",
    "\n",
    "Hay solo una columna que no entra enteramente en este esquema que es VULNERABLE. Esta columna hace un conteo p/c/ usuario d cuantos target_users viven en una zona epidemica. Tambien se segmenta esta columna con los modficiadores anteriores (el mes y el out/in)."
   ]
  },
  {
   "cell_type": "code",
   "execution_count": 10,
   "metadata": {
    "collapsed": true,
    "scrolled": true
   },
   "outputs": [],
   "source": [
    "# column names\n",
    "if graphlab_frame:\n",
    "    print(sl_table.column_names())"
   ]
  },
  {
   "cell_type": "markdown",
   "metadata": {},
   "source": [
    "# Para la\n",
    "tabla gt (ground_truth) es mas simple la explicacion. Solo se busco el antenna_ID_0 (nuevamente la antenna mas utilizada) por un user"
   ]
  },
  {
   "cell_type": "code",
   "execution_count": 11,
   "metadata": {
    "collapsed": true,
    "scrolled": true
   },
   "outputs": [],
   "source": [
    "if graphlab_frame:\n",
    "    print(gt_table.head())"
   ]
  },
  {
   "cell_type": "code",
   "execution_count": null,
   "metadata": {
    "collapsed": true
   },
   "outputs": [],
   "source": []
  },
  {
   "cell_type": "markdown",
   "metadata": {},
   "source": [
    "# We need antennas metadata\n",
    "to get the epidemicity of each antenna and add that info to the dataset"
   ]
  },
  {
   "cell_type": "code",
   "execution_count": 12,
   "metadata": {},
   "outputs": [
    {
     "data": {
      "text/plain": [
       "'/home/juan/mobility-study/mexico-scripts-ver2/data'"
      ]
     },
     "execution_count": 12,
     "metadata": {},
     "output_type": "execute_result"
    }
   ],
   "source": [
    "DATADIR2"
   ]
  },
  {
   "cell_type": "code",
   "execution_count": 13,
   "metadata": {},
   "outputs": [
    {
     "data": {
      "text/plain": [
       "'/home/juan/mobility-study/mexico-scripts-ver2/datasets'"
      ]
     },
     "execution_count": 13,
     "metadata": {},
     "output_type": "execute_result"
    }
   ],
   "source": [
    "DATADIR"
   ]
  },
  {
   "cell_type": "code",
   "execution_count": 14,
   "metadata": {
    "collapsed": true,
    "scrolled": true
   },
   "outputs": [],
   "source": [
    "#agregamos al gt su info de epidemicidad\n",
    "antennas_file = DATADIR2+'/celdas_limpio.csv'\n",
    "\n",
    "if graphlab_frame:\n",
    "    antennas = gl.SFrame.read_csv(antennas_file, \n",
    "                              delimiter= \"|\", \n",
    "                usecols=['LATITUDE','LONGITUDE','CEL_ID','STATE','EPIDEMIC'],\n",
    "                column_type_hints=[float, float, str,str, bool]\n",
    "                            )\n",
    "else:\n",
    "    antennas = pd.read_csv(antennas_file,sep='|')\n"
   ]
  },
  {
   "cell_type": "code",
   "execution_count": 15,
   "metadata": {},
   "outputs": [
    {
     "name": "stdout",
     "output_type": "stream",
     "text": [
      "CPU times: user 0 ns, sys: 0 ns, total: 0 ns\n",
      "Wall time: 9.06 µs\n"
     ]
    }
   ],
   "source": [
    "%%time\n",
    "# enriquecemos la data de gt con info de epidemicidad\n",
    "if graphlab_frame:\n",
    "    # agrego tambien data de epidemicidad al simpleformat table\n",
    "    sf_table = sf_table.join(antennas['CEL_ID','EPIDEMIC','STATE'], \n",
    "                             on = {'ANTENNA_ID_WEEKNIGHT_0':'CEL_ID'},\n",
    "                             how = 'left')\n",
    "    gt_table = gt_table.join(antennas['CEL_ID','EPIDEMIC','STATE'], \n",
    "                             on = {'ANTENNA_ID_WEEKNIGHT_0_gt':'CEL_ID'},\n",
    "                             how = 'left')\n",
    "\n",
    "    gt_table.rename({'EPIDEMIC':'EPIDEMIC_gt'});"
   ]
  },
  {
   "cell_type": "code",
   "execution_count": null,
   "metadata": {
    "collapsed": true
   },
   "outputs": [],
   "source": []
  },
  {
   "cell_type": "markdown",
   "metadata": {},
   "source": [
    "# create data matrix"
   ]
  },
  {
   "cell_type": "code",
   "execution_count": 16,
   "metadata": {
    "scrolled": true
   },
   "outputs": [
    {
     "name": "stdout",
     "output_type": "stream",
     "text": [
      "(153010, 176)\n",
      "CPU times: user 0 ns, sys: 0 ns, total: 0 ns\n",
      "Wall time: 859 µs\n"
     ]
    }
   ],
   "source": [
    "%%time\n",
    "if graphlab_frame:\n",
    "    data = sl_table.join(gt_table['USER','EPIDEMIC_gt'], on = 'USER', how = 'inner')\n",
    "    data = data.join(sf_table, on = 'USER', how = 'inner')\n",
    "    #no podemos tener nulls en el target asi que dropeamos\n",
    "    data = data.dropna(columns = ['EPIDEMIC_gt'], how='any')\n",
    "    del sl_table, sf_table, gt_table\n",
    "\n",
    "print(data.shape)\n"
   ]
  },
  {
   "cell_type": "code",
   "execution_count": 17,
   "metadata": {},
   "outputs": [
    {
     "data": {
      "text/plain": [
       "(51709, 47344)"
      ]
     },
     "execution_count": 17,
     "metadata": {},
     "output_type": "execute_result"
    }
   ],
   "source": [
    "data['EPIDEMIC_gt'].sum(),data['EPIDEMIC'].sum()"
   ]
  },
  {
   "cell_type": "code",
   "execution_count": 18,
   "metadata": {
    "collapsed": true,
    "scrolled": true
   },
   "outputs": [],
   "source": [
    "# data.query('EPIDEMIC==0  ').STATE.value_counts()"
   ]
  },
  {
   "cell_type": "code",
   "execution_count": null,
   "metadata": {
    "collapsed": true
   },
   "outputs": [],
   "source": []
  },
  {
   "cell_type": "markdown",
   "metadata": {
    "collapsed": true
   },
   "source": [
    "## preparamos los datasets que no pueden tomar valores negativos o categorical vars"
   ]
  },
  {
   "cell_type": "markdown",
   "metadata": {},
   "source": [
    "# train test split as \n",
    "p% of set as validation and the resulting  as train"
   ]
  },
  {
   "cell_type": "code",
   "execution_count": 19,
   "metadata": {
    "collapsed": true
   },
   "outputs": [],
   "source": [
    "split_perc = 0.9\n",
    "mask = np.random.rand(data.shape[0])< split_perc\n",
    "\n",
    "val_set = data[mask==0]\n",
    "data = data[mask==1]\n"
   ]
  },
  {
   "cell_type": "markdown",
   "metadata": {},
   "source": [
    "## define our real X variable and Y vars\n",
    "\n",
    "exclude/include features. Decide our problem (multi-target, single_target)"
   ]
  },
  {
   "cell_type": "markdown",
   "metadata": {},
   "source": [
    "## in our  X features..\n",
    "\n",
    "determine which columns have no meaning.\n",
    "\n",
    "we are going to try different models"
   ]
  },
  {
   "cell_type": "code",
   "execution_count": 125,
   "metadata": {
    "scrolled": true
   },
   "outputs": [
    {
     "data": {
      "text/plain": [
       "['EPIDEMIC',\n",
       " 'EPIDEMIC_gt',\n",
       " 'USER',\n",
       " 'ANTENNA_ID_0',\n",
       " 'ANTENNA_ID_1',\n",
       " 'ANTENNA_ID_2',\n",
       " 'ANTENNA_ID_3',\n",
       " 'ANTENNA_ID_4',\n",
       " 'ANTENNA_ID_5',\n",
       " 'ANTENNA_ID_6',\n",
       " 'ANTENNA_ID_7',\n",
       " 'ANTENNA_ID_8',\n",
       " 'ANTENNA_ID_9',\n",
       " 'ANTENNA_ID_WEEKNIGHT_0',\n",
       " 'ANTENNA_ID_WEEKNIGHT_1',\n",
       " 'ANTENNA_ID_WEEKNIGHT_2',\n",
       " 'ANTENNA_ID_WEEKNIGHT_3',\n",
       " 'ANTENNA_ID_WEEKNIGHT_4',\n",
       " 'ANTENNA_ID_WEEKNIGHT_5',\n",
       " 'ANTENNA_ID_WEEKNIGHT_6',\n",
       " 'ANTENNA_ID_WEEKNIGHT_7',\n",
       " 'ANTENNA_ID_WEEKNIGHT_8',\n",
       " 'ANTENNA_ID_WEEKNIGHT_9']"
      ]
     },
     "execution_count": 125,
     "metadata": {},
     "output_type": "execute_result"
    }
   ],
   "source": [
    "if graphlab_frame: iterable=data.column_names()\n",
    "else: iterable=data.columns\n",
    "\n",
    "manual_exclude_cols = [     \n",
    "     'EPIDEMIC',\n",
    "      'EPIDEMIC_gt',\n",
    "#       'STATE',\n",
    "                ]\n",
    "\n",
    "comprehensive_exclude_cols = [col for col in iterable if col == 'USER' \n",
    "          or ('ANTENNA' in col) ]   \n",
    "                            \n",
    "    \n",
    "exclude_cols = manual_exclude_cols + comprehensive_exclude_cols\n",
    "exclude_cols"
   ]
  },
  {
   "cell_type": "markdown",
   "metadata": {},
   "source": [
    "## first our Y vars\n",
    "\n",
    "define them with a set of different possible cases/problems to solve"
   ]
  },
  {
   "cell_type": "code",
   "execution_count": 142,
   "metadata": {
    "collapsed": true
   },
   "outputs": [],
   "source": [
    "case = 0\n",
    "\n",
    "## people that used to live in the endemic area\n",
    "if case ==0:\n",
    "    case_text = \"people that used to live in the endemic area\"\n",
    "    Y = data['EPIDEMIC_gt'] == 1\n",
    "    Y_val = val_set['EPIDEMIC_gt'] == 1\n",
    "\n",
    "## people that used to live in the endemic area *and* migrated\n",
    "if case ==1:\n",
    "    case_text = \"people that used to live in the endemic area *and* migrated\"\n",
    "    Y = (data['EPIDEMIC_gt'] ==1) & (data['EPIDEMIC'] ==0)\n",
    "    Y_val = (val_set['EPIDEMIC_gt'] ==1) & (val_set['EPIDEMIC'] ==0)\n",
    "    \n",
    "    add_exclusion_cols = ['EPIDEMIC','STATE']\n",
    "\n",
    "    for col in add_exclusion_cols:\n",
    "        if not col in exclude_cols:\n",
    "            exclude_cols+=[col]\n",
    "\n",
    "## people that migrated in any direction\n",
    "if case ==2:\n",
    "    case_text = \"people that migrated in any direction\"\n",
    "    Y = data['EPIDEMIC_gt'] != data['EPIDEMIC']\n",
    "    Y_val = val_set['EPIDEMIC_gt'] != data['EPIDEMIC']\n",
    "    \n",
    "    add_exclusion_cols = []\n",
    "\n",
    "    for col in add_exclusion_cols:\n",
    "        if not col in exclude_cols:\n",
    "            exclude_cols+=[col]\n",
    "\n",
    "    \n",
    "## people that migrated in any direction\n",
    "if case ==3:\n",
    "    case_text = \"people that migrated in any direction\"\n",
    "    Y = data['EPIDEMIC_gt'] != data['EPIDEMIC']\n",
    "    Y_val = val_set['EPIDEMIC_gt'] != data['EPIDEMIC']\n",
    "    \n",
    "    add_exclusion_cols = []\n",
    "\n",
    "    for col in add_exclusion_cols:\n",
    "        if not col in exclude_cols:\n",
    "            exclude_cols+=[col]\n",
    "\n",
    "    \n",
    "    \n",
    "    \n",
    "## people from the Mexico or DF states\n",
    "if case == 4:\n",
    "    case_text = \"people from the Mexico or DF states\"\n",
    "    Y = (data['STATE'] == 'Distrito_Federal') | (data['STATE'] == 'Mexico')\n",
    "    Y_val = (val_set['STATE'] == 'Distrito_Federal') | (val_set['STATE'] == 'Mexico')\n",
    "    \n",
    "    add_exclusion_cols = ['EPIDEMIC','STATE']\n",
    "\n",
    "    for col in add_exclusion_cols:\n",
    "        if not col in exclude_cols:\n",
    "            exclude_cols+=[col]"
   ]
  },
  {
   "cell_type": "code",
   "execution_count": 143,
   "metadata": {
    "collapsed": true
   },
   "outputs": [],
   "source": [
    "if graphlab_frame: iterable=data.column_names()\n",
    "else: iterable=data.columns"
   ]
  },
  {
   "cell_type": "code",
   "execution_count": 144,
   "metadata": {},
   "outputs": [
    {
     "data": {
      "text/plain": [
       "Index([u'CallsWeekDay_IN_12', u'CallsWeekNight_IN_12', u'TimeWeekDay_IN_12',\n",
       "       u'CallsWeekEnd_IN_12', u'TimeWeekNight_IN_12', u'TimeWeekEnd_IN_VUL_12',\n",
       "       u'CallsWeekDay_IN_VUL_12', u'CallsWeekNight_IN_VUL_12',\n",
       "       u'TimeWeekDay_IN_VUL_12', u'CallsWeekEnd_IN_VUL_12',\n",
       "       u'TimeWeekNight_IN_VUL_12', u'VULNERABLE_IN_12', u'TimeWeekEnd_OUT_08',\n",
       "       u'CallsWeekDay_OUT_08', u'CallsWeekNight_OUT_08', u'TimeWeekDay_OUT_08',\n",
       "       u'CallsWeekEnd_OUT_08', u'TimeWeekNight_OUT_08',\n",
       "       u'TimeWeekEnd_OUT_VUL_08', u'CallsWeekDay_OUT_VUL_08',\n",
       "       u'CallsWeekNight_OUT_VUL_08', u'TimeWeekDay_OUT_VUL_08',\n",
       "       u'CallsWeekEnd_OUT_VUL_08', u'TimeWeekNight_OUT_VUL_08',\n",
       "       u'VULNERABLE_OUT_08', u'TimeWeekEnd_IN_08', u'CallsWeekDay_IN_08',\n",
       "       u'CallsWeekNight_IN_08', u'TimeWeekDay_IN_08', u'CallsWeekEnd_IN_08'],\n",
       "      dtype='object')"
      ]
     },
     "execution_count": 144,
     "metadata": {},
     "output_type": "execute_result"
    }
   ],
   "source": [
    "width = 30\n",
    "N= np.random.randint(1,int(iterable.shape[0]*1.0/width))\n",
    "data.columns[(N)*width: (N+1)*width]"
   ]
  },
  {
   "cell_type": "code",
   "execution_count": 145,
   "metadata": {},
   "outputs": [
    {
     "name": "stderr",
     "output_type": "stream",
     "text": [
      "/home/juan/mfixman/venv/lib/python2.7/site-packages/ipykernel_launcher.py:11: SettingWithCopyWarning: \n",
      "A value is trying to be set on a copy of a slice from a DataFrame.\n",
      "Try using .loc[row_indexer,col_indexer] = value instead\n",
      "\n",
      "See the caveats in the documentation: http://pandas.pydata.org/pandas-docs/stable/indexing.html#indexing-view-versus-copy\n",
      "  # This is added back by InteractiveShellApp.init_path()\n",
      "/home/juan/mfixman/venv/lib/python2.7/site-packages/ipykernel_launcher.py:12: SettingWithCopyWarning: \n",
      "A value is trying to be set on a copy of a slice from a DataFrame.\n",
      "Try using .loc[row_indexer,col_indexer] = value instead\n",
      "\n",
      "See the caveats in the documentation: http://pandas.pydata.org/pandas-docs/stable/indexing.html#indexing-view-versus-copy\n",
      "  if sys.path[0] == '':\n"
     ]
    },
    {
     "name": "stdout",
     "output_type": "stream",
     "text": [
      "CPU times: user 5.09 s, sys: 184 ms, total: 5.28 s\n",
      "Wall time: 5.26 s\n"
     ]
    }
   ],
   "source": [
    "%%time\n",
    "\n",
    "X = data[[col for col in iterable if col not in exclude_cols]]\n",
    "\n",
    "X_val = val_set[[col for col in iterable if col not in exclude_cols]]\n",
    "\n",
    "if graphlab_frame: iterable=X.column_names()\n",
    "else: iterable=X.columns\n",
    "    \n",
    "# clean negative/Null vals in count cols \n",
    "for col in [col for col in iterable if 'COUNT' in col]:\n",
    "    X[col]= X[col].apply(lambda x :  x if x>=0 else 0)\n",
    "    X_val[col]= X_val[col].apply(lambda x :  x if x>=0 else 0)\n",
    "\n"
   ]
  },
  {
   "cell_type": "code",
   "execution_count": 146,
   "metadata": {},
   "outputs": [
    {
     "data": {
      "text/plain": [
       "((137593, 153), (137593,))"
      ]
     },
     "execution_count": 146,
     "metadata": {},
     "output_type": "execute_result"
    }
   ],
   "source": [
    "X.shape, Y.shape"
   ]
  },
  {
   "cell_type": "markdown",
   "metadata": {},
   "source": [
    "## dummy-ize categorical cols\n",
    "if necessary"
   ]
  },
  {
   "cell_type": "code",
   "execution_count": 147,
   "metadata": {
    "collapsed": true
   },
   "outputs": [],
   "source": [
    "if graphlab_frame: iterable=X.column_names()\n",
    "else: iterable=X.columns\n"
   ]
  },
  {
   "cell_type": "code",
   "execution_count": 148,
   "metadata": {
    "collapsed": true
   },
   "outputs": [],
   "source": [
    "categorical_cols = [\n",
    "    'STATE'\n",
    "]"
   ]
  },
  {
   "cell_type": "code",
   "execution_count": 149,
   "metadata": {
    "scrolled": true
   },
   "outputs": [
    {
     "name": "stderr",
     "output_type": "stream",
     "text": [
      "/home/juan/mfixman/venv/lib/python2.7/site-packages/ipykernel_launcher.py:3: SettingWithCopyWarning: \n",
      "A value is trying to be set on a copy of a slice from a DataFrame.\n",
      "Try using .loc[row_indexer,col_indexer] = value instead\n",
      "\n",
      "See the caveats in the documentation: http://pandas.pydata.org/pandas-docs/stable/indexing.html#indexing-view-versus-copy\n",
      "  This is separate from the ipykernel package so we can avoid doing imports until\n",
      "/home/juan/mfixman/venv/lib/python2.7/site-packages/ipykernel_launcher.py:15: SettingWithCopyWarning: \n",
      "A value is trying to be set on a copy of a slice from a DataFrame.\n",
      "Try using .loc[row_indexer,col_indexer] = value instead\n",
      "\n",
      "See the caveats in the documentation: http://pandas.pydata.org/pandas-docs/stable/indexing.html#indexing-view-versus-copy\n",
      "  from ipykernel import kernelapp as app\n"
     ]
    }
   ],
   "source": [
    "for col in categorical_cols:\n",
    "    if col not in exclude_cols:\n",
    "        X[col] = X[col].astype('category')\n",
    "    #     if X[col].dtype != 'category':\n",
    "    #         continue \n",
    "        X = pd.concat([X,pd.get_dummies(X[col], \n",
    "                                          prefix= col, \n",
    "                                          prefix_sep='_', \n",
    "                                          #sparse = True,\n",
    "                                          dummy_na=False).astype(np.int8)],\\\n",
    "                  axis=1 ,join = 'inner')\n",
    "        X.drop(col, axis =1 , inplace=True)\n",
    "\n",
    "        # now onto test_table\n",
    "        X_val[col] = X_val[col].astype('category')\n",
    "        X_val = pd.concat([X_val,pd.get_dummies(X_val[col], \n",
    "                                          prefix= col, \n",
    "                                          prefix_sep='_', \n",
    "                                          #sparse = True,\n",
    "                                          dummy_na=False).astype(np.int8)],\\\n",
    "                  axis=1 ,join = 'inner')\n",
    "\n",
    "        X_val.drop(col, axis =1 , inplace=True)\n"
   ]
  },
  {
   "cell_type": "markdown",
   "metadata": {},
   "source": [
    "## explore correlations to target var\n",
    "\n",
    "with current column configuration"
   ]
  },
  {
   "cell_type": "code",
   "execution_count": 150,
   "metadata": {},
   "outputs": [
    {
     "data": {
      "text/plain": [
       "(185, 185)"
      ]
     },
     "execution_count": 150,
     "metadata": {},
     "output_type": "execute_result"
    }
   ],
   "source": [
    "corr = pd.DataFrame(X).copy()\n",
    "target_col = 'target'\n",
    "corr[target_col] = Y\n",
    "corr = corr.corr()\n",
    "corr.shape"
   ]
  },
  {
   "cell_type": "code",
   "execution_count": 151,
   "metadata": {},
   "outputs": [
    {
     "data": {
      "text/html": [
       "<div>\n",
       "<style>\n",
       "    .dataframe thead tr:only-child th {\n",
       "        text-align: right;\n",
       "    }\n",
       "\n",
       "    .dataframe thead th {\n",
       "        text-align: left;\n",
       "    }\n",
       "\n",
       "    .dataframe tbody tr th {\n",
       "        vertical-align: top;\n",
       "    }\n",
       "</style>\n",
       "<table border=\"1\" class=\"dataframe\">\n",
       "  <thead>\n",
       "    <tr style=\"text-align: right;\">\n",
       "      <th></th>\n",
       "      <th>VULNERABLE_OUT_12</th>\n",
       "      <th>VULNERABLE_IN_12</th>\n",
       "      <th>CallsWeekEnd_OUT_VUL_08</th>\n",
       "      <th>VULNERABLE_OUT_08</th>\n",
       "      <th>CallsWeekEnd_IN_VUL_08</th>\n",
       "      <th>VULNERABLE_IN_08</th>\n",
       "      <th>VULNERABLE_OUT_09</th>\n",
       "      <th>VULNERABLE_IN_09</th>\n",
       "      <th>VULNERABLE_OUT_10</th>\n",
       "      <th>VULNERABLE_IN_10</th>\n",
       "      <th>VULNERABLE_OUT_11</th>\n",
       "      <th>VULNERABLE_IN_11</th>\n",
       "      <th>target</th>\n",
       "    </tr>\n",
       "  </thead>\n",
       "  <tbody>\n",
       "    <tr>\n",
       "      <th>VULNERABLE_OUT_12</th>\n",
       "      <td>1.000000</td>\n",
       "      <td>0.850295</td>\n",
       "      <td>0.378955</td>\n",
       "      <td>0.676784</td>\n",
       "      <td>0.382475</td>\n",
       "      <td>0.668981</td>\n",
       "      <td>0.708142</td>\n",
       "      <td>0.696803</td>\n",
       "      <td>0.748884</td>\n",
       "      <td>0.736026</td>\n",
       "      <td>0.784809</td>\n",
       "      <td>0.771825</td>\n",
       "      <td>0.504878</td>\n",
       "    </tr>\n",
       "    <tr>\n",
       "      <th>VULNERABLE_IN_12</th>\n",
       "      <td>0.850295</td>\n",
       "      <td>1.000000</td>\n",
       "      <td>0.378183</td>\n",
       "      <td>0.667287</td>\n",
       "      <td>0.386080</td>\n",
       "      <td>0.673075</td>\n",
       "      <td>0.698531</td>\n",
       "      <td>0.704119</td>\n",
       "      <td>0.737702</td>\n",
       "      <td>0.747121</td>\n",
       "      <td>0.769917</td>\n",
       "      <td>0.780831</td>\n",
       "      <td>0.502233</td>\n",
       "    </tr>\n",
       "    <tr>\n",
       "      <th>CallsWeekEnd_OUT_VUL_08</th>\n",
       "      <td>0.378955</td>\n",
       "      <td>0.378183</td>\n",
       "      <td>1.000000</td>\n",
       "      <td>0.434128</td>\n",
       "      <td>0.807458</td>\n",
       "      <td>0.425652</td>\n",
       "      <td>0.415937</td>\n",
       "      <td>0.411292</td>\n",
       "      <td>0.398278</td>\n",
       "      <td>0.397624</td>\n",
       "      <td>0.391708</td>\n",
       "      <td>0.389172</td>\n",
       "      <td>0.305565</td>\n",
       "    </tr>\n",
       "    <tr>\n",
       "      <th>VULNERABLE_OUT_08</th>\n",
       "      <td>0.676784</td>\n",
       "      <td>0.667287</td>\n",
       "      <td>0.434128</td>\n",
       "      <td>1.000000</td>\n",
       "      <td>0.434624</td>\n",
       "      <td>0.853652</td>\n",
       "      <td>0.782903</td>\n",
       "      <td>0.766690</td>\n",
       "      <td>0.732152</td>\n",
       "      <td>0.720763</td>\n",
       "      <td>0.707354</td>\n",
       "      <td>0.697080</td>\n",
       "      <td>0.553433</td>\n",
       "    </tr>\n",
       "    <tr>\n",
       "      <th>CallsWeekEnd_IN_VUL_08</th>\n",
       "      <td>0.382475</td>\n",
       "      <td>0.386080</td>\n",
       "      <td>0.807458</td>\n",
       "      <td>0.434624</td>\n",
       "      <td>1.000000</td>\n",
       "      <td>0.441331</td>\n",
       "      <td>0.418110</td>\n",
       "      <td>0.419436</td>\n",
       "      <td>0.400317</td>\n",
       "      <td>0.405754</td>\n",
       "      <td>0.394837</td>\n",
       "      <td>0.397313</td>\n",
       "      <td>0.312782</td>\n",
       "    </tr>\n",
       "    <tr>\n",
       "      <th>VULNERABLE_IN_08</th>\n",
       "      <td>0.668981</td>\n",
       "      <td>0.673075</td>\n",
       "      <td>0.425652</td>\n",
       "      <td>0.853652</td>\n",
       "      <td>0.441331</td>\n",
       "      <td>1.000000</td>\n",
       "      <td>0.766349</td>\n",
       "      <td>0.776035</td>\n",
       "      <td>0.716255</td>\n",
       "      <td>0.725815</td>\n",
       "      <td>0.695712</td>\n",
       "      <td>0.704881</td>\n",
       "      <td>0.557346</td>\n",
       "    </tr>\n",
       "    <tr>\n",
       "      <th>VULNERABLE_OUT_09</th>\n",
       "      <td>0.708142</td>\n",
       "      <td>0.698531</td>\n",
       "      <td>0.415937</td>\n",
       "      <td>0.782903</td>\n",
       "      <td>0.418110</td>\n",
       "      <td>0.766349</td>\n",
       "      <td>1.000000</td>\n",
       "      <td>0.853446</td>\n",
       "      <td>0.781529</td>\n",
       "      <td>0.766989</td>\n",
       "      <td>0.746180</td>\n",
       "      <td>0.733659</td>\n",
       "      <td>0.536786</td>\n",
       "    </tr>\n",
       "    <tr>\n",
       "      <th>VULNERABLE_IN_09</th>\n",
       "      <td>0.696803</td>\n",
       "      <td>0.704119</td>\n",
       "      <td>0.411292</td>\n",
       "      <td>0.766690</td>\n",
       "      <td>0.419436</td>\n",
       "      <td>0.776035</td>\n",
       "      <td>0.853446</td>\n",
       "      <td>1.000000</td>\n",
       "      <td>0.763409</td>\n",
       "      <td>0.775521</td>\n",
       "      <td>0.732264</td>\n",
       "      <td>0.741109</td>\n",
       "      <td>0.539676</td>\n",
       "    </tr>\n",
       "    <tr>\n",
       "      <th>VULNERABLE_OUT_10</th>\n",
       "      <td>0.748884</td>\n",
       "      <td>0.737702</td>\n",
       "      <td>0.398278</td>\n",
       "      <td>0.732152</td>\n",
       "      <td>0.400317</td>\n",
       "      <td>0.716255</td>\n",
       "      <td>0.781529</td>\n",
       "      <td>0.763409</td>\n",
       "      <td>1.000000</td>\n",
       "      <td>0.854079</td>\n",
       "      <td>0.802529</td>\n",
       "      <td>0.786197</td>\n",
       "      <td>0.521621</td>\n",
       "    </tr>\n",
       "    <tr>\n",
       "      <th>VULNERABLE_IN_10</th>\n",
       "      <td>0.736026</td>\n",
       "      <td>0.747121</td>\n",
       "      <td>0.397624</td>\n",
       "      <td>0.720763</td>\n",
       "      <td>0.405754</td>\n",
       "      <td>0.725815</td>\n",
       "      <td>0.766989</td>\n",
       "      <td>0.775521</td>\n",
       "      <td>0.854079</td>\n",
       "      <td>1.000000</td>\n",
       "      <td>0.784826</td>\n",
       "      <td>0.795040</td>\n",
       "      <td>0.520825</td>\n",
       "    </tr>\n",
       "    <tr>\n",
       "      <th>VULNERABLE_OUT_11</th>\n",
       "      <td>0.784809</td>\n",
       "      <td>0.769917</td>\n",
       "      <td>0.391708</td>\n",
       "      <td>0.707354</td>\n",
       "      <td>0.394837</td>\n",
       "      <td>0.695712</td>\n",
       "      <td>0.746180</td>\n",
       "      <td>0.732264</td>\n",
       "      <td>0.802529</td>\n",
       "      <td>0.784826</td>\n",
       "      <td>1.000000</td>\n",
       "      <td>0.855285</td>\n",
       "      <td>0.514899</td>\n",
       "    </tr>\n",
       "    <tr>\n",
       "      <th>VULNERABLE_IN_11</th>\n",
       "      <td>0.771825</td>\n",
       "      <td>0.780831</td>\n",
       "      <td>0.389172</td>\n",
       "      <td>0.697080</td>\n",
       "      <td>0.397313</td>\n",
       "      <td>0.704881</td>\n",
       "      <td>0.733659</td>\n",
       "      <td>0.741109</td>\n",
       "      <td>0.786197</td>\n",
       "      <td>0.795040</td>\n",
       "      <td>0.855285</td>\n",
       "      <td>1.000000</td>\n",
       "      <td>0.518382</td>\n",
       "    </tr>\n",
       "    <tr>\n",
       "      <th>target</th>\n",
       "      <td>0.504878</td>\n",
       "      <td>0.502233</td>\n",
       "      <td>0.305565</td>\n",
       "      <td>0.553433</td>\n",
       "      <td>0.312782</td>\n",
       "      <td>0.557346</td>\n",
       "      <td>0.536786</td>\n",
       "      <td>0.539676</td>\n",
       "      <td>0.521621</td>\n",
       "      <td>0.520825</td>\n",
       "      <td>0.514899</td>\n",
       "      <td>0.518382</td>\n",
       "      <td>1.000000</td>\n",
       "    </tr>\n",
       "  </tbody>\n",
       "</table>\n",
       "</div>"
      ],
      "text/plain": [
       "                         VULNERABLE_OUT_12  VULNERABLE_IN_12  \\\n",
       "VULNERABLE_OUT_12                 1.000000          0.850295   \n",
       "VULNERABLE_IN_12                  0.850295          1.000000   \n",
       "CallsWeekEnd_OUT_VUL_08           0.378955          0.378183   \n",
       "VULNERABLE_OUT_08                 0.676784          0.667287   \n",
       "CallsWeekEnd_IN_VUL_08            0.382475          0.386080   \n",
       "VULNERABLE_IN_08                  0.668981          0.673075   \n",
       "VULNERABLE_OUT_09                 0.708142          0.698531   \n",
       "VULNERABLE_IN_09                  0.696803          0.704119   \n",
       "VULNERABLE_OUT_10                 0.748884          0.737702   \n",
       "VULNERABLE_IN_10                  0.736026          0.747121   \n",
       "VULNERABLE_OUT_11                 0.784809          0.769917   \n",
       "VULNERABLE_IN_11                  0.771825          0.780831   \n",
       "target                            0.504878          0.502233   \n",
       "\n",
       "                         CallsWeekEnd_OUT_VUL_08  VULNERABLE_OUT_08  \\\n",
       "VULNERABLE_OUT_12                       0.378955           0.676784   \n",
       "VULNERABLE_IN_12                        0.378183           0.667287   \n",
       "CallsWeekEnd_OUT_VUL_08                 1.000000           0.434128   \n",
       "VULNERABLE_OUT_08                       0.434128           1.000000   \n",
       "CallsWeekEnd_IN_VUL_08                  0.807458           0.434624   \n",
       "VULNERABLE_IN_08                        0.425652           0.853652   \n",
       "VULNERABLE_OUT_09                       0.415937           0.782903   \n",
       "VULNERABLE_IN_09                        0.411292           0.766690   \n",
       "VULNERABLE_OUT_10                       0.398278           0.732152   \n",
       "VULNERABLE_IN_10                        0.397624           0.720763   \n",
       "VULNERABLE_OUT_11                       0.391708           0.707354   \n",
       "VULNERABLE_IN_11                        0.389172           0.697080   \n",
       "target                                  0.305565           0.553433   \n",
       "\n",
       "                         CallsWeekEnd_IN_VUL_08  VULNERABLE_IN_08  \\\n",
       "VULNERABLE_OUT_12                      0.382475          0.668981   \n",
       "VULNERABLE_IN_12                       0.386080          0.673075   \n",
       "CallsWeekEnd_OUT_VUL_08                0.807458          0.425652   \n",
       "VULNERABLE_OUT_08                      0.434624          0.853652   \n",
       "CallsWeekEnd_IN_VUL_08                 1.000000          0.441331   \n",
       "VULNERABLE_IN_08                       0.441331          1.000000   \n",
       "VULNERABLE_OUT_09                      0.418110          0.766349   \n",
       "VULNERABLE_IN_09                       0.419436          0.776035   \n",
       "VULNERABLE_OUT_10                      0.400317          0.716255   \n",
       "VULNERABLE_IN_10                       0.405754          0.725815   \n",
       "VULNERABLE_OUT_11                      0.394837          0.695712   \n",
       "VULNERABLE_IN_11                       0.397313          0.704881   \n",
       "target                                 0.312782          0.557346   \n",
       "\n",
       "                         VULNERABLE_OUT_09  VULNERABLE_IN_09  \\\n",
       "VULNERABLE_OUT_12                 0.708142          0.696803   \n",
       "VULNERABLE_IN_12                  0.698531          0.704119   \n",
       "CallsWeekEnd_OUT_VUL_08           0.415937          0.411292   \n",
       "VULNERABLE_OUT_08                 0.782903          0.766690   \n",
       "CallsWeekEnd_IN_VUL_08            0.418110          0.419436   \n",
       "VULNERABLE_IN_08                  0.766349          0.776035   \n",
       "VULNERABLE_OUT_09                 1.000000          0.853446   \n",
       "VULNERABLE_IN_09                  0.853446          1.000000   \n",
       "VULNERABLE_OUT_10                 0.781529          0.763409   \n",
       "VULNERABLE_IN_10                  0.766989          0.775521   \n",
       "VULNERABLE_OUT_11                 0.746180          0.732264   \n",
       "VULNERABLE_IN_11                  0.733659          0.741109   \n",
       "target                            0.536786          0.539676   \n",
       "\n",
       "                         VULNERABLE_OUT_10  VULNERABLE_IN_10  \\\n",
       "VULNERABLE_OUT_12                 0.748884          0.736026   \n",
       "VULNERABLE_IN_12                  0.737702          0.747121   \n",
       "CallsWeekEnd_OUT_VUL_08           0.398278          0.397624   \n",
       "VULNERABLE_OUT_08                 0.732152          0.720763   \n",
       "CallsWeekEnd_IN_VUL_08            0.400317          0.405754   \n",
       "VULNERABLE_IN_08                  0.716255          0.725815   \n",
       "VULNERABLE_OUT_09                 0.781529          0.766989   \n",
       "VULNERABLE_IN_09                  0.763409          0.775521   \n",
       "VULNERABLE_OUT_10                 1.000000          0.854079   \n",
       "VULNERABLE_IN_10                  0.854079          1.000000   \n",
       "VULNERABLE_OUT_11                 0.802529          0.784826   \n",
       "VULNERABLE_IN_11                  0.786197          0.795040   \n",
       "target                            0.521621          0.520825   \n",
       "\n",
       "                         VULNERABLE_OUT_11  VULNERABLE_IN_11    target  \n",
       "VULNERABLE_OUT_12                 0.784809          0.771825  0.504878  \n",
       "VULNERABLE_IN_12                  0.769917          0.780831  0.502233  \n",
       "CallsWeekEnd_OUT_VUL_08           0.391708          0.389172  0.305565  \n",
       "VULNERABLE_OUT_08                 0.707354          0.697080  0.553433  \n",
       "CallsWeekEnd_IN_VUL_08            0.394837          0.397313  0.312782  \n",
       "VULNERABLE_IN_08                  0.695712          0.704881  0.557346  \n",
       "VULNERABLE_OUT_09                 0.746180          0.733659  0.536786  \n",
       "VULNERABLE_IN_09                  0.732264          0.741109  0.539676  \n",
       "VULNERABLE_OUT_10                 0.802529          0.786197  0.521621  \n",
       "VULNERABLE_IN_10                  0.784826          0.795040  0.520825  \n",
       "VULNERABLE_OUT_11                 1.000000          0.855285  0.514899  \n",
       "VULNERABLE_IN_11                  0.855285          1.000000  0.518382  \n",
       "target                            0.514899          0.518382  1.000000  "
      ]
     },
     "execution_count": 151,
     "metadata": {},
     "output_type": "execute_result"
    }
   ],
   "source": [
    "view = corr.query('target>0.3')\n",
    "# show only those columns which \n",
    "corr_columns = view.index.values\n",
    "\n",
    "view[corr_columns]"
   ]
  },
  {
   "cell_type": "code",
   "execution_count": null,
   "metadata": {
    "collapsed": true
   },
   "outputs": [],
   "source": []
  },
  {
   "cell_type": "code",
   "execution_count": 152,
   "metadata": {},
   "outputs": [
    {
     "data": {
      "text/html": [
       "<div>\n",
       "<style>\n",
       "    .dataframe thead tr:only-child th {\n",
       "        text-align: right;\n",
       "    }\n",
       "\n",
       "    .dataframe thead th {\n",
       "        text-align: left;\n",
       "    }\n",
       "\n",
       "    .dataframe tbody tr th {\n",
       "        vertical-align: top;\n",
       "    }\n",
       "</style>\n",
       "<table border=\"1\" class=\"dataframe\">\n",
       "  <thead>\n",
       "    <tr style=\"text-align: right;\">\n",
       "      <th></th>\n",
       "      <th>STATE_Aguascalientes</th>\n",
       "      <th>STATE_Baja_California</th>\n",
       "      <th>STATE_Baja_California_Sur</th>\n",
       "      <th>STATE_Campeche</th>\n",
       "      <th>STATE_Chiapas</th>\n",
       "      <th>STATE_Chihuahua</th>\n",
       "      <th>STATE_Coahuila_de_Zaragoza</th>\n",
       "      <th>STATE_Colima</th>\n",
       "      <th>STATE_Distrito_Federal</th>\n",
       "      <th>STATE_Durango</th>\n",
       "      <th>...</th>\n",
       "      <th>STATE_San_Luis_Potosi</th>\n",
       "      <th>STATE_Sinaloa</th>\n",
       "      <th>STATE_Sonora</th>\n",
       "      <th>STATE_Tabasco</th>\n",
       "      <th>STATE_Tamaulipas</th>\n",
       "      <th>STATE_Tlaxcala</th>\n",
       "      <th>STATE_Veracruz</th>\n",
       "      <th>STATE_Yucatan</th>\n",
       "      <th>STATE_Zacatecas</th>\n",
       "      <th>target</th>\n",
       "    </tr>\n",
       "  </thead>\n",
       "  <tbody>\n",
       "    <tr>\n",
       "      <th>MOBILITY_DIAMETER</th>\n",
       "      <td>0.045310</td>\n",
       "      <td>0.146754</td>\n",
       "      <td>0.031551</td>\n",
       "      <td>0.005904</td>\n",
       "      <td>-0.013297</td>\n",
       "      <td>0.022532</td>\n",
       "      <td>-0.002428</td>\n",
       "      <td>-0.006847</td>\n",
       "      <td>-0.137172</td>\n",
       "      <td>-0.009170</td>\n",
       "      <td>...</td>\n",
       "      <td>0.061558</td>\n",
       "      <td>0.053276</td>\n",
       "      <td>0.078379</td>\n",
       "      <td>0.004430</td>\n",
       "      <td>0.005110</td>\n",
       "      <td>-0.020230</td>\n",
       "      <td>0.056143</td>\n",
       "      <td>-0.028402</td>\n",
       "      <td>-0.000032</td>\n",
       "      <td>0.015361</td>\n",
       "    </tr>\n",
       "    <tr>\n",
       "      <th>MOBILITY_DIAMETER_WEEKNIGHT</th>\n",
       "      <td>0.046512</td>\n",
       "      <td>0.144198</td>\n",
       "      <td>0.031054</td>\n",
       "      <td>0.005293</td>\n",
       "      <td>-0.009695</td>\n",
       "      <td>0.023714</td>\n",
       "      <td>-0.000556</td>\n",
       "      <td>-0.005593</td>\n",
       "      <td>-0.119614</td>\n",
       "      <td>-0.009337</td>\n",
       "      <td>...</td>\n",
       "      <td>0.062585</td>\n",
       "      <td>0.056015</td>\n",
       "      <td>0.080636</td>\n",
       "      <td>0.007443</td>\n",
       "      <td>0.005611</td>\n",
       "      <td>-0.024561</td>\n",
       "      <td>0.045788</td>\n",
       "      <td>-0.020893</td>\n",
       "      <td>-0.006505</td>\n",
       "      <td>0.016656</td>\n",
       "    </tr>\n",
       "    <tr>\n",
       "      <th>TimeWeekEnd_OUT_VUL_12</th>\n",
       "      <td>-0.013656</td>\n",
       "      <td>-0.005871</td>\n",
       "      <td>0.010332</td>\n",
       "      <td>-0.002648</td>\n",
       "      <td>-0.012006</td>\n",
       "      <td>-0.005701</td>\n",
       "      <td>-0.012091</td>\n",
       "      <td>0.007858</td>\n",
       "      <td>-0.058754</td>\n",
       "      <td>-0.009689</td>\n",
       "      <td>...</td>\n",
       "      <td>-0.017232</td>\n",
       "      <td>0.008689</td>\n",
       "      <td>0.011338</td>\n",
       "      <td>0.061751</td>\n",
       "      <td>-0.000276</td>\n",
       "      <td>-0.012801</td>\n",
       "      <td>0.025614</td>\n",
       "      <td>-0.025107</td>\n",
       "      <td>-0.005510</td>\n",
       "      <td>0.187150</td>\n",
       "    </tr>\n",
       "    <tr>\n",
       "      <th>CallsWeekDay_OUT_VUL_12</th>\n",
       "      <td>-0.022717</td>\n",
       "      <td>-0.016940</td>\n",
       "      <td>0.001280</td>\n",
       "      <td>-0.012753</td>\n",
       "      <td>-0.024743</td>\n",
       "      <td>-0.009175</td>\n",
       "      <td>-0.017692</td>\n",
       "      <td>0.008193</td>\n",
       "      <td>-0.095536</td>\n",
       "      <td>-0.013729</td>\n",
       "      <td>...</td>\n",
       "      <td>-0.029892</td>\n",
       "      <td>0.004333</td>\n",
       "      <td>0.008663</td>\n",
       "      <td>0.088112</td>\n",
       "      <td>-0.009520</td>\n",
       "      <td>-0.021678</td>\n",
       "      <td>0.043872</td>\n",
       "      <td>-0.040398</td>\n",
       "      <td>-0.011481</td>\n",
       "      <td>0.279418</td>\n",
       "    </tr>\n",
       "    <tr>\n",
       "      <th>CallsWeekNight_OUT_VUL_12</th>\n",
       "      <td>-0.019146</td>\n",
       "      <td>-0.010924</td>\n",
       "      <td>0.007763</td>\n",
       "      <td>-0.003611</td>\n",
       "      <td>-0.019226</td>\n",
       "      <td>-0.005163</td>\n",
       "      <td>-0.013926</td>\n",
       "      <td>0.008456</td>\n",
       "      <td>-0.067328</td>\n",
       "      <td>-0.010774</td>\n",
       "      <td>...</td>\n",
       "      <td>-0.022328</td>\n",
       "      <td>0.008362</td>\n",
       "      <td>0.010211</td>\n",
       "      <td>0.077341</td>\n",
       "      <td>-0.000436</td>\n",
       "      <td>-0.015107</td>\n",
       "      <td>0.038242</td>\n",
       "      <td>-0.031883</td>\n",
       "      <td>-0.008867</td>\n",
       "      <td>0.235352</td>\n",
       "    </tr>\n",
       "    <tr>\n",
       "      <th>TimeWeekDay_OUT_VUL_12</th>\n",
       "      <td>-0.017420</td>\n",
       "      <td>-0.010759</td>\n",
       "      <td>0.006340</td>\n",
       "      <td>-0.005034</td>\n",
       "      <td>-0.017892</td>\n",
       "      <td>-0.005831</td>\n",
       "      <td>-0.015003</td>\n",
       "      <td>0.014442</td>\n",
       "      <td>-0.071673</td>\n",
       "      <td>-0.011923</td>\n",
       "      <td>...</td>\n",
       "      <td>-0.025590</td>\n",
       "      <td>0.010060</td>\n",
       "      <td>0.012857</td>\n",
       "      <td>0.071836</td>\n",
       "      <td>-0.005827</td>\n",
       "      <td>-0.017348</td>\n",
       "      <td>0.032937</td>\n",
       "      <td>-0.033268</td>\n",
       "      <td>-0.009946</td>\n",
       "      <td>0.230834</td>\n",
       "    </tr>\n",
       "    <tr>\n",
       "      <th>CallsWeekEnd_OUT_VUL_12</th>\n",
       "      <td>-0.020489</td>\n",
       "      <td>-0.015170</td>\n",
       "      <td>0.004070</td>\n",
       "      <td>-0.010087</td>\n",
       "      <td>-0.021958</td>\n",
       "      <td>-0.009211</td>\n",
       "      <td>-0.016432</td>\n",
       "      <td>0.006108</td>\n",
       "      <td>-0.088074</td>\n",
       "      <td>-0.013220</td>\n",
       "      <td>...</td>\n",
       "      <td>-0.026724</td>\n",
       "      <td>0.003119</td>\n",
       "      <td>0.008908</td>\n",
       "      <td>0.085221</td>\n",
       "      <td>-0.007715</td>\n",
       "      <td>-0.018324</td>\n",
       "      <td>0.043660</td>\n",
       "      <td>-0.036891</td>\n",
       "      <td>-0.010454</td>\n",
       "      <td>0.267177</td>\n",
       "    </tr>\n",
       "    <tr>\n",
       "      <th>TimeWeekNight_OUT_VUL_12</th>\n",
       "      <td>-0.011112</td>\n",
       "      <td>-0.002904</td>\n",
       "      <td>0.012386</td>\n",
       "      <td>0.006997</td>\n",
       "      <td>-0.008463</td>\n",
       "      <td>0.000747</td>\n",
       "      <td>-0.007113</td>\n",
       "      <td>0.005586</td>\n",
       "      <td>-0.033304</td>\n",
       "      <td>-0.006289</td>\n",
       "      <td>...</td>\n",
       "      <td>-0.011730</td>\n",
       "      <td>0.014307</td>\n",
       "      <td>0.012259</td>\n",
       "      <td>0.045231</td>\n",
       "      <td>0.004583</td>\n",
       "      <td>-0.007925</td>\n",
       "      <td>0.017499</td>\n",
       "      <td>-0.018186</td>\n",
       "      <td>-0.004133</td>\n",
       "      <td>0.145748</td>\n",
       "    </tr>\n",
       "    <tr>\n",
       "      <th>VULNERABLE_OUT_12</th>\n",
       "      <td>-0.040005</td>\n",
       "      <td>-0.029371</td>\n",
       "      <td>0.009205</td>\n",
       "      <td>-0.017340</td>\n",
       "      <td>-0.040038</td>\n",
       "      <td>-0.015465</td>\n",
       "      <td>-0.034485</td>\n",
       "      <td>0.010054</td>\n",
       "      <td>-0.148220</td>\n",
       "      <td>-0.025432</td>\n",
       "      <td>...</td>\n",
       "      <td>-0.052034</td>\n",
       "      <td>0.017125</td>\n",
       "      <td>0.017521</td>\n",
       "      <td>0.117944</td>\n",
       "      <td>-0.014878</td>\n",
       "      <td>-0.026145</td>\n",
       "      <td>0.134381</td>\n",
       "      <td>-0.075027</td>\n",
       "      <td>-0.020206</td>\n",
       "      <td>0.504878</td>\n",
       "    </tr>\n",
       "    <tr>\n",
       "      <th>TimeWeekEnd_IN_VUL_12</th>\n",
       "      <td>-0.012306</td>\n",
       "      <td>-0.007129</td>\n",
       "      <td>0.009631</td>\n",
       "      <td>-0.000750</td>\n",
       "      <td>-0.008584</td>\n",
       "      <td>-0.002293</td>\n",
       "      <td>-0.010550</td>\n",
       "      <td>0.009163</td>\n",
       "      <td>-0.055680</td>\n",
       "      <td>-0.009105</td>\n",
       "      <td>...</td>\n",
       "      <td>-0.016060</td>\n",
       "      <td>0.007889</td>\n",
       "      <td>0.006321</td>\n",
       "      <td>0.061526</td>\n",
       "      <td>-0.001670</td>\n",
       "      <td>-0.011228</td>\n",
       "      <td>0.027358</td>\n",
       "      <td>-0.021962</td>\n",
       "      <td>-0.005557</td>\n",
       "      <td>0.177470</td>\n",
       "    </tr>\n",
       "    <tr>\n",
       "      <th>CallsWeekDay_IN_VUL_12</th>\n",
       "      <td>-0.022711</td>\n",
       "      <td>-0.018153</td>\n",
       "      <td>0.000632</td>\n",
       "      <td>-0.014503</td>\n",
       "      <td>-0.025216</td>\n",
       "      <td>-0.007099</td>\n",
       "      <td>-0.017822</td>\n",
       "      <td>0.003984</td>\n",
       "      <td>-0.095127</td>\n",
       "      <td>-0.012907</td>\n",
       "      <td>...</td>\n",
       "      <td>-0.028931</td>\n",
       "      <td>0.002638</td>\n",
       "      <td>0.007359</td>\n",
       "      <td>0.086469</td>\n",
       "      <td>-0.010056</td>\n",
       "      <td>-0.020236</td>\n",
       "      <td>0.043597</td>\n",
       "      <td>-0.039504</td>\n",
       "      <td>-0.011129</td>\n",
       "      <td>0.273819</td>\n",
       "    </tr>\n",
       "    <tr>\n",
       "      <th>CallsWeekNight_IN_VUL_12</th>\n",
       "      <td>-0.014612</td>\n",
       "      <td>-0.010377</td>\n",
       "      <td>0.004509</td>\n",
       "      <td>-0.007936</td>\n",
       "      <td>-0.015410</td>\n",
       "      <td>-0.004031</td>\n",
       "      <td>-0.011872</td>\n",
       "      <td>0.005544</td>\n",
       "      <td>-0.052679</td>\n",
       "      <td>-0.008735</td>\n",
       "      <td>...</td>\n",
       "      <td>-0.018155</td>\n",
       "      <td>0.002307</td>\n",
       "      <td>0.007133</td>\n",
       "      <td>0.063743</td>\n",
       "      <td>-0.005022</td>\n",
       "      <td>-0.009823</td>\n",
       "      <td>0.030267</td>\n",
       "      <td>-0.024520</td>\n",
       "      <td>-0.006763</td>\n",
       "      <td>0.184052</td>\n",
       "    </tr>\n",
       "    <tr>\n",
       "      <th>TimeWeekDay_IN_VUL_12</th>\n",
       "      <td>-0.016798</td>\n",
       "      <td>-0.013010</td>\n",
       "      <td>0.005394</td>\n",
       "      <td>-0.005901</td>\n",
       "      <td>-0.017323</td>\n",
       "      <td>-0.003017</td>\n",
       "      <td>-0.014627</td>\n",
       "      <td>0.009207</td>\n",
       "      <td>-0.071570</td>\n",
       "      <td>-0.010456</td>\n",
       "      <td>...</td>\n",
       "      <td>-0.022623</td>\n",
       "      <td>0.004972</td>\n",
       "      <td>0.011905</td>\n",
       "      <td>0.067382</td>\n",
       "      <td>-0.003388</td>\n",
       "      <td>-0.012463</td>\n",
       "      <td>0.030332</td>\n",
       "      <td>-0.030256</td>\n",
       "      <td>-0.008103</td>\n",
       "      <td>0.215442</td>\n",
       "    </tr>\n",
       "    <tr>\n",
       "      <th>CallsWeekEnd_IN_VUL_12</th>\n",
       "      <td>-0.020043</td>\n",
       "      <td>-0.016322</td>\n",
       "      <td>0.002675</td>\n",
       "      <td>-0.010594</td>\n",
       "      <td>-0.021551</td>\n",
       "      <td>-0.006407</td>\n",
       "      <td>-0.016258</td>\n",
       "      <td>0.004569</td>\n",
       "      <td>-0.086125</td>\n",
       "      <td>-0.012460</td>\n",
       "      <td>...</td>\n",
       "      <td>-0.026409</td>\n",
       "      <td>0.003606</td>\n",
       "      <td>0.004186</td>\n",
       "      <td>0.086149</td>\n",
       "      <td>-0.009279</td>\n",
       "      <td>-0.018350</td>\n",
       "      <td>0.043104</td>\n",
       "      <td>-0.035581</td>\n",
       "      <td>-0.010177</td>\n",
       "      <td>0.262286</td>\n",
       "    </tr>\n",
       "    <tr>\n",
       "      <th>TimeWeekNight_IN_VUL_12</th>\n",
       "      <td>-0.007968</td>\n",
       "      <td>-0.005030</td>\n",
       "      <td>0.010468</td>\n",
       "      <td>-0.001276</td>\n",
       "      <td>-0.007099</td>\n",
       "      <td>-0.001922</td>\n",
       "      <td>-0.007884</td>\n",
       "      <td>0.007687</td>\n",
       "      <td>-0.034697</td>\n",
       "      <td>-0.006838</td>\n",
       "      <td>...</td>\n",
       "      <td>-0.010616</td>\n",
       "      <td>0.003915</td>\n",
       "      <td>0.012277</td>\n",
       "      <td>0.043913</td>\n",
       "      <td>0.001604</td>\n",
       "      <td>-0.003833</td>\n",
       "      <td>0.017159</td>\n",
       "      <td>-0.014400</td>\n",
       "      <td>-0.004886</td>\n",
       "      <td>0.131285</td>\n",
       "    </tr>\n",
       "    <tr>\n",
       "      <th>VULNERABLE_IN_12</th>\n",
       "      <td>-0.040028</td>\n",
       "      <td>-0.028747</td>\n",
       "      <td>0.008853</td>\n",
       "      <td>-0.016118</td>\n",
       "      <td>-0.039623</td>\n",
       "      <td>-0.014356</td>\n",
       "      <td>-0.034631</td>\n",
       "      <td>0.012041</td>\n",
       "      <td>-0.148912</td>\n",
       "      <td>-0.023532</td>\n",
       "      <td>...</td>\n",
       "      <td>-0.050270</td>\n",
       "      <td>0.016853</td>\n",
       "      <td>0.014826</td>\n",
       "      <td>0.122236</td>\n",
       "      <td>-0.016406</td>\n",
       "      <td>-0.024617</td>\n",
       "      <td>0.134599</td>\n",
       "      <td>-0.074934</td>\n",
       "      <td>-0.020451</td>\n",
       "      <td>0.502233</td>\n",
       "    </tr>\n",
       "    <tr>\n",
       "      <th>TimeWeekEnd_OUT_VUL_08</th>\n",
       "      <td>-0.014669</td>\n",
       "      <td>-0.007991</td>\n",
       "      <td>0.013921</td>\n",
       "      <td>-0.000598</td>\n",
       "      <td>-0.010387</td>\n",
       "      <td>-0.003415</td>\n",
       "      <td>-0.009323</td>\n",
       "      <td>0.009869</td>\n",
       "      <td>-0.067481</td>\n",
       "      <td>-0.010232</td>\n",
       "      <td>...</td>\n",
       "      <td>-0.017896</td>\n",
       "      <td>0.008094</td>\n",
       "      <td>0.007241</td>\n",
       "      <td>0.042950</td>\n",
       "      <td>-0.008589</td>\n",
       "      <td>-0.015248</td>\n",
       "      <td>0.028410</td>\n",
       "      <td>-0.028519</td>\n",
       "      <td>-0.009622</td>\n",
       "      <td>0.214157</td>\n",
       "    </tr>\n",
       "    <tr>\n",
       "      <th>CallsWeekDay_OUT_VUL_08</th>\n",
       "      <td>-0.022585</td>\n",
       "      <td>-0.016218</td>\n",
       "      <td>0.001038</td>\n",
       "      <td>-0.012746</td>\n",
       "      <td>-0.024872</td>\n",
       "      <td>-0.009342</td>\n",
       "      <td>-0.017058</td>\n",
       "      <td>0.007936</td>\n",
       "      <td>-0.100431</td>\n",
       "      <td>-0.012946</td>\n",
       "      <td>...</td>\n",
       "      <td>-0.028456</td>\n",
       "      <td>-0.000574</td>\n",
       "      <td>0.002326</td>\n",
       "      <td>0.056552</td>\n",
       "      <td>-0.012194</td>\n",
       "      <td>-0.022751</td>\n",
       "      <td>0.032593</td>\n",
       "      <td>-0.040495</td>\n",
       "      <td>-0.011467</td>\n",
       "      <td>0.286882</td>\n",
       "    </tr>\n",
       "    <tr>\n",
       "      <th>CallsWeekNight_OUT_VUL_08</th>\n",
       "      <td>-0.018070</td>\n",
       "      <td>-0.012847</td>\n",
       "      <td>0.007354</td>\n",
       "      <td>-0.005722</td>\n",
       "      <td>-0.018356</td>\n",
       "      <td>-0.007554</td>\n",
       "      <td>-0.012768</td>\n",
       "      <td>0.012898</td>\n",
       "      <td>-0.078778</td>\n",
       "      <td>-0.012360</td>\n",
       "      <td>...</td>\n",
       "      <td>-0.020947</td>\n",
       "      <td>0.002837</td>\n",
       "      <td>0.000942</td>\n",
       "      <td>0.058460</td>\n",
       "      <td>-0.006576</td>\n",
       "      <td>-0.017726</td>\n",
       "      <td>0.039627</td>\n",
       "      <td>-0.036275</td>\n",
       "      <td>-0.009023</td>\n",
       "      <td>0.257172</td>\n",
       "    </tr>\n",
       "    <tr>\n",
       "      <th>TimeWeekDay_OUT_VUL_08</th>\n",
       "      <td>-0.017444</td>\n",
       "      <td>-0.012307</td>\n",
       "      <td>0.004092</td>\n",
       "      <td>-0.004031</td>\n",
       "      <td>-0.017969</td>\n",
       "      <td>-0.005579</td>\n",
       "      <td>-0.014022</td>\n",
       "      <td>0.010738</td>\n",
       "      <td>-0.079736</td>\n",
       "      <td>-0.011656</td>\n",
       "      <td>...</td>\n",
       "      <td>-0.023121</td>\n",
       "      <td>0.002339</td>\n",
       "      <td>0.002663</td>\n",
       "      <td>0.048827</td>\n",
       "      <td>-0.009050</td>\n",
       "      <td>-0.018606</td>\n",
       "      <td>0.027617</td>\n",
       "      <td>-0.033979</td>\n",
       "      <td>-0.009818</td>\n",
       "      <td>0.242599</td>\n",
       "    </tr>\n",
       "    <tr>\n",
       "      <th>CallsWeekEnd_OUT_VUL_08</th>\n",
       "      <td>-0.022455</td>\n",
       "      <td>-0.016769</td>\n",
       "      <td>0.006705</td>\n",
       "      <td>-0.011383</td>\n",
       "      <td>-0.023681</td>\n",
       "      <td>-0.009190</td>\n",
       "      <td>-0.015787</td>\n",
       "      <td>0.006353</td>\n",
       "      <td>-0.099136</td>\n",
       "      <td>-0.014268</td>\n",
       "      <td>...</td>\n",
       "      <td>-0.028598</td>\n",
       "      <td>0.000800</td>\n",
       "      <td>0.004736</td>\n",
       "      <td>0.061905</td>\n",
       "      <td>-0.013449</td>\n",
       "      <td>-0.021414</td>\n",
       "      <td>0.041013</td>\n",
       "      <td>-0.041754</td>\n",
       "      <td>-0.012701</td>\n",
       "      <td>0.305565</td>\n",
       "    </tr>\n",
       "    <tr>\n",
       "      <th>TimeWeekNight_OUT_VUL_08</th>\n",
       "      <td>-0.009070</td>\n",
       "      <td>-0.004653</td>\n",
       "      <td>0.011426</td>\n",
       "      <td>0.005438</td>\n",
       "      <td>-0.006242</td>\n",
       "      <td>-0.003430</td>\n",
       "      <td>-0.006091</td>\n",
       "      <td>0.015295</td>\n",
       "      <td>-0.041170</td>\n",
       "      <td>-0.008356</td>\n",
       "      <td>...</td>\n",
       "      <td>-0.010563</td>\n",
       "      <td>0.007533</td>\n",
       "      <td>0.001487</td>\n",
       "      <td>0.036503</td>\n",
       "      <td>-0.002034</td>\n",
       "      <td>-0.010597</td>\n",
       "      <td>0.025016</td>\n",
       "      <td>-0.022466</td>\n",
       "      <td>-0.005576</td>\n",
       "      <td>0.160107</td>\n",
       "    </tr>\n",
       "    <tr>\n",
       "      <th>VULNERABLE_OUT_08</th>\n",
       "      <td>-0.042196</td>\n",
       "      <td>-0.030995</td>\n",
       "      <td>0.010958</td>\n",
       "      <td>-0.017915</td>\n",
       "      <td>-0.044159</td>\n",
       "      <td>-0.012478</td>\n",
       "      <td>-0.033568</td>\n",
       "      <td>0.010271</td>\n",
       "      <td>-0.162640</td>\n",
       "      <td>-0.025906</td>\n",
       "      <td>...</td>\n",
       "      <td>-0.056201</td>\n",
       "      <td>0.009072</td>\n",
       "      <td>0.009389</td>\n",
       "      <td>0.122146</td>\n",
       "      <td>-0.022807</td>\n",
       "      <td>-0.026968</td>\n",
       "      <td>0.148747</td>\n",
       "      <td>-0.080360</td>\n",
       "      <td>-0.022271</td>\n",
       "      <td>0.553433</td>\n",
       "    </tr>\n",
       "    <tr>\n",
       "      <th>TimeWeekEnd_IN_VUL_08</th>\n",
       "      <td>-0.012182</td>\n",
       "      <td>-0.009081</td>\n",
       "      <td>0.010381</td>\n",
       "      <td>-0.000117</td>\n",
       "      <td>-0.012565</td>\n",
       "      <td>-0.000722</td>\n",
       "      <td>-0.009785</td>\n",
       "      <td>0.006722</td>\n",
       "      <td>-0.065608</td>\n",
       "      <td>-0.009277</td>\n",
       "      <td>...</td>\n",
       "      <td>-0.018159</td>\n",
       "      <td>0.004264</td>\n",
       "      <td>-0.001742</td>\n",
       "      <td>0.043171</td>\n",
       "      <td>-0.007429</td>\n",
       "      <td>-0.013054</td>\n",
       "      <td>0.029937</td>\n",
       "      <td>-0.025464</td>\n",
       "      <td>-0.009484</td>\n",
       "      <td>0.208130</td>\n",
       "    </tr>\n",
       "    <tr>\n",
       "      <th>CallsWeekDay_IN_VUL_08</th>\n",
       "      <td>-0.022649</td>\n",
       "      <td>-0.018190</td>\n",
       "      <td>-0.000377</td>\n",
       "      <td>-0.014852</td>\n",
       "      <td>-0.025751</td>\n",
       "      <td>-0.009393</td>\n",
       "      <td>-0.016906</td>\n",
       "      <td>0.002592</td>\n",
       "      <td>-0.102583</td>\n",
       "      <td>-0.013061</td>\n",
       "      <td>...</td>\n",
       "      <td>-0.029369</td>\n",
       "      <td>-0.002210</td>\n",
       "      <td>0.002534</td>\n",
       "      <td>0.056490</td>\n",
       "      <td>-0.014141</td>\n",
       "      <td>-0.021519</td>\n",
       "      <td>0.033731</td>\n",
       "      <td>-0.040249</td>\n",
       "      <td>-0.011299</td>\n",
       "      <td>0.293270</td>\n",
       "    </tr>\n",
       "    <tr>\n",
       "      <th>CallsWeekNight_IN_VUL_08</th>\n",
       "      <td>-0.017930</td>\n",
       "      <td>-0.014713</td>\n",
       "      <td>0.004257</td>\n",
       "      <td>-0.007054</td>\n",
       "      <td>-0.019976</td>\n",
       "      <td>-0.007911</td>\n",
       "      <td>-0.013796</td>\n",
       "      <td>0.007785</td>\n",
       "      <td>-0.081967</td>\n",
       "      <td>-0.011655</td>\n",
       "      <td>...</td>\n",
       "      <td>-0.022268</td>\n",
       "      <td>-0.002579</td>\n",
       "      <td>-0.002805</td>\n",
       "      <td>0.057993</td>\n",
       "      <td>-0.011862</td>\n",
       "      <td>-0.016121</td>\n",
       "      <td>0.039496</td>\n",
       "      <td>-0.034610</td>\n",
       "      <td>-0.009173</td>\n",
       "      <td>0.258202</td>\n",
       "    </tr>\n",
       "    <tr>\n",
       "      <th>TimeWeekDay_IN_VUL_08</th>\n",
       "      <td>-0.016333</td>\n",
       "      <td>-0.014324</td>\n",
       "      <td>0.002741</td>\n",
       "      <td>-0.006178</td>\n",
       "      <td>-0.016959</td>\n",
       "      <td>-0.005152</td>\n",
       "      <td>-0.013463</td>\n",
       "      <td>0.004041</td>\n",
       "      <td>-0.080866</td>\n",
       "      <td>-0.011156</td>\n",
       "      <td>...</td>\n",
       "      <td>-0.022446</td>\n",
       "      <td>0.000667</td>\n",
       "      <td>0.003953</td>\n",
       "      <td>0.046789</td>\n",
       "      <td>-0.010007</td>\n",
       "      <td>-0.016531</td>\n",
       "      <td>0.029583</td>\n",
       "      <td>-0.032227</td>\n",
       "      <td>-0.009644</td>\n",
       "      <td>0.240371</td>\n",
       "    </tr>\n",
       "    <tr>\n",
       "      <th>CallsWeekEnd_IN_VUL_08</th>\n",
       "      <td>-0.022494</td>\n",
       "      <td>-0.018072</td>\n",
       "      <td>0.002140</td>\n",
       "      <td>-0.013179</td>\n",
       "      <td>-0.026200</td>\n",
       "      <td>-0.008943</td>\n",
       "      <td>-0.016428</td>\n",
       "      <td>0.004263</td>\n",
       "      <td>-0.101632</td>\n",
       "      <td>-0.013800</td>\n",
       "      <td>...</td>\n",
       "      <td>-0.029985</td>\n",
       "      <td>-0.001558</td>\n",
       "      <td>-0.001982</td>\n",
       "      <td>0.065989</td>\n",
       "      <td>-0.015340</td>\n",
       "      <td>-0.021457</td>\n",
       "      <td>0.040860</td>\n",
       "      <td>-0.041250</td>\n",
       "      <td>-0.013064</td>\n",
       "      <td>0.312782</td>\n",
       "    </tr>\n",
       "    <tr>\n",
       "      <th>TimeWeekNight_IN_VUL_08</th>\n",
       "      <td>-0.007276</td>\n",
       "      <td>-0.006506</td>\n",
       "      <td>0.008898</td>\n",
       "      <td>0.004365</td>\n",
       "      <td>-0.007257</td>\n",
       "      <td>-0.002730</td>\n",
       "      <td>-0.006716</td>\n",
       "      <td>0.008231</td>\n",
       "      <td>-0.042734</td>\n",
       "      <td>-0.007218</td>\n",
       "      <td>...</td>\n",
       "      <td>-0.009794</td>\n",
       "      <td>0.001089</td>\n",
       "      <td>-0.001034</td>\n",
       "      <td>0.037829</td>\n",
       "      <td>-0.004783</td>\n",
       "      <td>-0.007424</td>\n",
       "      <td>0.027346</td>\n",
       "      <td>-0.019269</td>\n",
       "      <td>-0.004364</td>\n",
       "      <td>0.150194</td>\n",
       "    </tr>\n",
       "    <tr>\n",
       "      <th>VULNERABLE_IN_08</th>\n",
       "      <td>-0.041018</td>\n",
       "      <td>-0.030304</td>\n",
       "      <td>0.009195</td>\n",
       "      <td>-0.020168</td>\n",
       "      <td>-0.045035</td>\n",
       "      <td>-0.013930</td>\n",
       "      <td>-0.034653</td>\n",
       "      <td>0.010943</td>\n",
       "      <td>-0.162277</td>\n",
       "      <td>-0.025752</td>\n",
       "      <td>...</td>\n",
       "      <td>-0.054957</td>\n",
       "      <td>0.011913</td>\n",
       "      <td>0.010543</td>\n",
       "      <td>0.122635</td>\n",
       "      <td>-0.022249</td>\n",
       "      <td>-0.026665</td>\n",
       "      <td>0.151639</td>\n",
       "      <td>-0.079849</td>\n",
       "      <td>-0.023927</td>\n",
       "      <td>0.557346</td>\n",
       "    </tr>\n",
       "    <tr>\n",
       "      <th>...</th>\n",
       "      <td>...</td>\n",
       "      <td>...</td>\n",
       "      <td>...</td>\n",
       "      <td>...</td>\n",
       "      <td>...</td>\n",
       "      <td>...</td>\n",
       "      <td>...</td>\n",
       "      <td>...</td>\n",
       "      <td>...</td>\n",
       "      <td>...</td>\n",
       "      <td>...</td>\n",
       "      <td>...</td>\n",
       "      <td>...</td>\n",
       "      <td>...</td>\n",
       "      <td>...</td>\n",
       "      <td>...</td>\n",
       "      <td>...</td>\n",
       "      <td>...</td>\n",
       "      <td>...</td>\n",
       "      <td>...</td>\n",
       "      <td>...</td>\n",
       "    </tr>\n",
       "    <tr>\n",
       "      <th>VULNERABLE_IN_10</th>\n",
       "      <td>-0.038929</td>\n",
       "      <td>-0.031571</td>\n",
       "      <td>0.008436</td>\n",
       "      <td>-0.020209</td>\n",
       "      <td>-0.043340</td>\n",
       "      <td>-0.015164</td>\n",
       "      <td>-0.033371</td>\n",
       "      <td>0.008510</td>\n",
       "      <td>-0.153825</td>\n",
       "      <td>-0.024862</td>\n",
       "      <td>...</td>\n",
       "      <td>-0.053118</td>\n",
       "      <td>0.017188</td>\n",
       "      <td>0.011976</td>\n",
       "      <td>0.117110</td>\n",
       "      <td>-0.022602</td>\n",
       "      <td>-0.025077</td>\n",
       "      <td>0.138747</td>\n",
       "      <td>-0.077423</td>\n",
       "      <td>-0.021489</td>\n",
       "      <td>0.520825</td>\n",
       "    </tr>\n",
       "    <tr>\n",
       "      <th>TimeWeekEnd_OUT_VUL_11</th>\n",
       "      <td>-0.014278</td>\n",
       "      <td>-0.001376</td>\n",
       "      <td>0.011684</td>\n",
       "      <td>-0.000858</td>\n",
       "      <td>-0.009282</td>\n",
       "      <td>-0.006130</td>\n",
       "      <td>-0.008545</td>\n",
       "      <td>0.010285</td>\n",
       "      <td>-0.061261</td>\n",
       "      <td>-0.009907</td>\n",
       "      <td>...</td>\n",
       "      <td>-0.017924</td>\n",
       "      <td>0.003339</td>\n",
       "      <td>0.012038</td>\n",
       "      <td>0.053699</td>\n",
       "      <td>-0.000196</td>\n",
       "      <td>-0.014707</td>\n",
       "      <td>0.030252</td>\n",
       "      <td>-0.026975</td>\n",
       "      <td>-0.008445</td>\n",
       "      <td>0.199922</td>\n",
       "    </tr>\n",
       "    <tr>\n",
       "      <th>CallsWeekDay_OUT_VUL_11</th>\n",
       "      <td>-0.022130</td>\n",
       "      <td>-0.015889</td>\n",
       "      <td>0.000780</td>\n",
       "      <td>-0.013247</td>\n",
       "      <td>-0.024437</td>\n",
       "      <td>-0.009247</td>\n",
       "      <td>-0.016805</td>\n",
       "      <td>0.005724</td>\n",
       "      <td>-0.098905</td>\n",
       "      <td>-0.013329</td>\n",
       "      <td>...</td>\n",
       "      <td>-0.028244</td>\n",
       "      <td>0.000842</td>\n",
       "      <td>0.008223</td>\n",
       "      <td>0.065823</td>\n",
       "      <td>-0.010960</td>\n",
       "      <td>-0.023576</td>\n",
       "      <td>0.036072</td>\n",
       "      <td>-0.040236</td>\n",
       "      <td>-0.011892</td>\n",
       "      <td>0.269787</td>\n",
       "    </tr>\n",
       "    <tr>\n",
       "      <th>CallsWeekNight_OUT_VUL_11</th>\n",
       "      <td>-0.018903</td>\n",
       "      <td>-0.008024</td>\n",
       "      <td>0.002552</td>\n",
       "      <td>-0.005554</td>\n",
       "      <td>-0.015756</td>\n",
       "      <td>-0.008265</td>\n",
       "      <td>-0.013365</td>\n",
       "      <td>0.009736</td>\n",
       "      <td>-0.067358</td>\n",
       "      <td>-0.011386</td>\n",
       "      <td>...</td>\n",
       "      <td>-0.021213</td>\n",
       "      <td>0.002806</td>\n",
       "      <td>0.007049</td>\n",
       "      <td>0.059060</td>\n",
       "      <td>-0.005953</td>\n",
       "      <td>-0.016122</td>\n",
       "      <td>0.037667</td>\n",
       "      <td>-0.032257</td>\n",
       "      <td>-0.008405</td>\n",
       "      <td>0.231453</td>\n",
       "    </tr>\n",
       "    <tr>\n",
       "      <th>TimeWeekDay_OUT_VUL_11</th>\n",
       "      <td>-0.017323</td>\n",
       "      <td>-0.008735</td>\n",
       "      <td>0.004952</td>\n",
       "      <td>-0.006729</td>\n",
       "      <td>-0.016747</td>\n",
       "      <td>-0.005351</td>\n",
       "      <td>-0.013264</td>\n",
       "      <td>0.008760</td>\n",
       "      <td>-0.076034</td>\n",
       "      <td>-0.011628</td>\n",
       "      <td>...</td>\n",
       "      <td>-0.023444</td>\n",
       "      <td>0.005813</td>\n",
       "      <td>0.010300</td>\n",
       "      <td>0.055148</td>\n",
       "      <td>-0.006424</td>\n",
       "      <td>-0.020273</td>\n",
       "      <td>0.028506</td>\n",
       "      <td>-0.032906</td>\n",
       "      <td>-0.010409</td>\n",
       "      <td>0.229051</td>\n",
       "    </tr>\n",
       "    <tr>\n",
       "      <th>CallsWeekEnd_OUT_VUL_11</th>\n",
       "      <td>-0.022639</td>\n",
       "      <td>-0.014328</td>\n",
       "      <td>0.003905</td>\n",
       "      <td>-0.010554</td>\n",
       "      <td>-0.021987</td>\n",
       "      <td>-0.009631</td>\n",
       "      <td>-0.015743</td>\n",
       "      <td>0.007172</td>\n",
       "      <td>-0.096545</td>\n",
       "      <td>-0.013669</td>\n",
       "      <td>...</td>\n",
       "      <td>-0.028241</td>\n",
       "      <td>-0.001576</td>\n",
       "      <td>0.009668</td>\n",
       "      <td>0.074712</td>\n",
       "      <td>-0.008757</td>\n",
       "      <td>-0.022554</td>\n",
       "      <td>0.045631</td>\n",
       "      <td>-0.040238</td>\n",
       "      <td>-0.012257</td>\n",
       "      <td>0.282377</td>\n",
       "    </tr>\n",
       "    <tr>\n",
       "      <th>TimeWeekNight_OUT_VUL_11</th>\n",
       "      <td>-0.010457</td>\n",
       "      <td>0.000894</td>\n",
       "      <td>0.005529</td>\n",
       "      <td>0.004623</td>\n",
       "      <td>-0.005181</td>\n",
       "      <td>-0.004637</td>\n",
       "      <td>-0.007050</td>\n",
       "      <td>0.009164</td>\n",
       "      <td>-0.029958</td>\n",
       "      <td>-0.007541</td>\n",
       "      <td>...</td>\n",
       "      <td>-0.011686</td>\n",
       "      <td>0.007842</td>\n",
       "      <td>0.009246</td>\n",
       "      <td>0.036258</td>\n",
       "      <td>-0.001866</td>\n",
       "      <td>-0.009343</td>\n",
       "      <td>0.019533</td>\n",
       "      <td>-0.018292</td>\n",
       "      <td>-0.004873</td>\n",
       "      <td>0.149167</td>\n",
       "    </tr>\n",
       "    <tr>\n",
       "      <th>VULNERABLE_OUT_11</th>\n",
       "      <td>-0.039387</td>\n",
       "      <td>-0.028858</td>\n",
       "      <td>0.006644</td>\n",
       "      <td>-0.019747</td>\n",
       "      <td>-0.042982</td>\n",
       "      <td>-0.016122</td>\n",
       "      <td>-0.034693</td>\n",
       "      <td>0.010601</td>\n",
       "      <td>-0.156159</td>\n",
       "      <td>-0.026834</td>\n",
       "      <td>...</td>\n",
       "      <td>-0.053855</td>\n",
       "      <td>0.015096</td>\n",
       "      <td>0.015368</td>\n",
       "      <td>0.116314</td>\n",
       "      <td>-0.017354</td>\n",
       "      <td>-0.026227</td>\n",
       "      <td>0.140466</td>\n",
       "      <td>-0.079855</td>\n",
       "      <td>-0.023784</td>\n",
       "      <td>0.514899</td>\n",
       "    </tr>\n",
       "    <tr>\n",
       "      <th>TimeWeekEnd_IN_VUL_11</th>\n",
       "      <td>-0.015260</td>\n",
       "      <td>-0.005513</td>\n",
       "      <td>0.011927</td>\n",
       "      <td>-0.000507</td>\n",
       "      <td>-0.011601</td>\n",
       "      <td>-0.001572</td>\n",
       "      <td>-0.009562</td>\n",
       "      <td>0.003797</td>\n",
       "      <td>-0.058809</td>\n",
       "      <td>-0.009071</td>\n",
       "      <td>...</td>\n",
       "      <td>-0.015572</td>\n",
       "      <td>0.003860</td>\n",
       "      <td>0.005124</td>\n",
       "      <td>0.050888</td>\n",
       "      <td>-0.007158</td>\n",
       "      <td>-0.012170</td>\n",
       "      <td>0.035441</td>\n",
       "      <td>-0.020369</td>\n",
       "      <td>-0.008309</td>\n",
       "      <td>0.188368</td>\n",
       "    </tr>\n",
       "    <tr>\n",
       "      <th>CallsWeekDay_IN_VUL_11</th>\n",
       "      <td>-0.021931</td>\n",
       "      <td>-0.018608</td>\n",
       "      <td>0.000541</td>\n",
       "      <td>-0.014867</td>\n",
       "      <td>-0.024258</td>\n",
       "      <td>-0.008285</td>\n",
       "      <td>-0.017072</td>\n",
       "      <td>0.001786</td>\n",
       "      <td>-0.099094</td>\n",
       "      <td>-0.013217</td>\n",
       "      <td>...</td>\n",
       "      <td>-0.027983</td>\n",
       "      <td>-0.002466</td>\n",
       "      <td>0.003982</td>\n",
       "      <td>0.066779</td>\n",
       "      <td>-0.012382</td>\n",
       "      <td>-0.022609</td>\n",
       "      <td>0.038229</td>\n",
       "      <td>-0.038446</td>\n",
       "      <td>-0.011912</td>\n",
       "      <td>0.269037</td>\n",
       "    </tr>\n",
       "    <tr>\n",
       "      <th>CallsWeekNight_IN_VUL_11</th>\n",
       "      <td>-0.018157</td>\n",
       "      <td>-0.010289</td>\n",
       "      <td>0.003843</td>\n",
       "      <td>-0.009130</td>\n",
       "      <td>-0.017447</td>\n",
       "      <td>-0.006371</td>\n",
       "      <td>-0.012198</td>\n",
       "      <td>0.005667</td>\n",
       "      <td>-0.067562</td>\n",
       "      <td>-0.011227</td>\n",
       "      <td>...</td>\n",
       "      <td>-0.020802</td>\n",
       "      <td>-0.000535</td>\n",
       "      <td>0.003407</td>\n",
       "      <td>0.062853</td>\n",
       "      <td>-0.008549</td>\n",
       "      <td>-0.015140</td>\n",
       "      <td>0.037204</td>\n",
       "      <td>-0.028359</td>\n",
       "      <td>-0.008441</td>\n",
       "      <td>0.220362</td>\n",
       "    </tr>\n",
       "    <tr>\n",
       "      <th>TimeWeekDay_IN_VUL_11</th>\n",
       "      <td>-0.015467</td>\n",
       "      <td>-0.012105</td>\n",
       "      <td>0.002696</td>\n",
       "      <td>-0.007724</td>\n",
       "      <td>-0.014179</td>\n",
       "      <td>-0.004362</td>\n",
       "      <td>-0.012976</td>\n",
       "      <td>0.004067</td>\n",
       "      <td>-0.071637</td>\n",
       "      <td>-0.010804</td>\n",
       "      <td>...</td>\n",
       "      <td>-0.021624</td>\n",
       "      <td>0.001663</td>\n",
       "      <td>0.004015</td>\n",
       "      <td>0.053912</td>\n",
       "      <td>-0.007131</td>\n",
       "      <td>-0.016852</td>\n",
       "      <td>0.029878</td>\n",
       "      <td>-0.027256</td>\n",
       "      <td>-0.009540</td>\n",
       "      <td>0.211310</td>\n",
       "    </tr>\n",
       "    <tr>\n",
       "      <th>CallsWeekEnd_IN_VUL_11</th>\n",
       "      <td>-0.022471</td>\n",
       "      <td>-0.016777</td>\n",
       "      <td>0.002350</td>\n",
       "      <td>-0.011793</td>\n",
       "      <td>-0.024525</td>\n",
       "      <td>-0.006899</td>\n",
       "      <td>-0.016581</td>\n",
       "      <td>0.000582</td>\n",
       "      <td>-0.095871</td>\n",
       "      <td>-0.013537</td>\n",
       "      <td>...</td>\n",
       "      <td>-0.027502</td>\n",
       "      <td>-0.001392</td>\n",
       "      <td>0.004737</td>\n",
       "      <td>0.074501</td>\n",
       "      <td>-0.013447</td>\n",
       "      <td>-0.021488</td>\n",
       "      <td>0.045767</td>\n",
       "      <td>-0.037986</td>\n",
       "      <td>-0.012361</td>\n",
       "      <td>0.281145</td>\n",
       "    </tr>\n",
       "    <tr>\n",
       "      <th>TimeWeekNight_IN_VUL_11</th>\n",
       "      <td>-0.009140</td>\n",
       "      <td>-0.002078</td>\n",
       "      <td>0.007208</td>\n",
       "      <td>-0.000861</td>\n",
       "      <td>-0.005233</td>\n",
       "      <td>-0.002182</td>\n",
       "      <td>-0.004878</td>\n",
       "      <td>0.004624</td>\n",
       "      <td>-0.030131</td>\n",
       "      <td>-0.006612</td>\n",
       "      <td>...</td>\n",
       "      <td>-0.009309</td>\n",
       "      <td>0.003880</td>\n",
       "      <td>0.004635</td>\n",
       "      <td>0.037154</td>\n",
       "      <td>-0.003493</td>\n",
       "      <td>-0.007283</td>\n",
       "      <td>0.019678</td>\n",
       "      <td>-0.011334</td>\n",
       "      <td>-0.003224</td>\n",
       "      <td>0.124256</td>\n",
       "    </tr>\n",
       "    <tr>\n",
       "      <th>VULNERABLE_IN_11</th>\n",
       "      <td>-0.039576</td>\n",
       "      <td>-0.030034</td>\n",
       "      <td>0.008613</td>\n",
       "      <td>-0.018450</td>\n",
       "      <td>-0.042971</td>\n",
       "      <td>-0.014708</td>\n",
       "      <td>-0.033007</td>\n",
       "      <td>0.010214</td>\n",
       "      <td>-0.154804</td>\n",
       "      <td>-0.025397</td>\n",
       "      <td>...</td>\n",
       "      <td>-0.054060</td>\n",
       "      <td>0.015907</td>\n",
       "      <td>0.014956</td>\n",
       "      <td>0.119430</td>\n",
       "      <td>-0.019737</td>\n",
       "      <td>-0.027826</td>\n",
       "      <td>0.139995</td>\n",
       "      <td>-0.078351</td>\n",
       "      <td>-0.020192</td>\n",
       "      <td>0.518382</td>\n",
       "    </tr>\n",
       "    <tr>\n",
       "      <th>STATE_Baja_California_Sur</th>\n",
       "      <td>-0.004038</td>\n",
       "      <td>-0.003664</td>\n",
       "      <td>1.000000</td>\n",
       "      <td>-0.003327</td>\n",
       "      <td>-0.004966</td>\n",
       "      <td>-0.002375</td>\n",
       "      <td>-0.002692</td>\n",
       "      <td>-0.002598</td>\n",
       "      <td>-0.019835</td>\n",
       "      <td>-0.001988</td>\n",
       "      <td>...</td>\n",
       "      <td>-0.004565</td>\n",
       "      <td>-0.003057</td>\n",
       "      <td>-0.002187</td>\n",
       "      <td>-0.005759</td>\n",
       "      <td>-0.002994</td>\n",
       "      <td>-0.005033</td>\n",
       "      <td>-0.007698</td>\n",
       "      <td>-0.006271</td>\n",
       "      <td>-0.001975</td>\n",
       "      <td>0.027576</td>\n",
       "    </tr>\n",
       "    <tr>\n",
       "      <th>STATE_Colima</th>\n",
       "      <td>-0.007136</td>\n",
       "      <td>-0.006476</td>\n",
       "      <td>-0.002598</td>\n",
       "      <td>-0.005880</td>\n",
       "      <td>-0.008777</td>\n",
       "      <td>-0.004198</td>\n",
       "      <td>-0.004758</td>\n",
       "      <td>1.000000</td>\n",
       "      <td>-0.035055</td>\n",
       "      <td>-0.003514</td>\n",
       "      <td>...</td>\n",
       "      <td>-0.008068</td>\n",
       "      <td>-0.005403</td>\n",
       "      <td>-0.003865</td>\n",
       "      <td>-0.010178</td>\n",
       "      <td>-0.005292</td>\n",
       "      <td>-0.008894</td>\n",
       "      <td>-0.013605</td>\n",
       "      <td>-0.011083</td>\n",
       "      <td>-0.003490</td>\n",
       "      <td>0.013981</td>\n",
       "    </tr>\n",
       "    <tr>\n",
       "      <th>STATE_Guerrero</th>\n",
       "      <td>-0.013986</td>\n",
       "      <td>-0.012691</td>\n",
       "      <td>-0.005093</td>\n",
       "      <td>-0.011523</td>\n",
       "      <td>-0.017202</td>\n",
       "      <td>-0.008228</td>\n",
       "      <td>-0.009325</td>\n",
       "      <td>-0.009000</td>\n",
       "      <td>-0.068702</td>\n",
       "      <td>-0.006887</td>\n",
       "      <td>...</td>\n",
       "      <td>-0.015812</td>\n",
       "      <td>-0.010588</td>\n",
       "      <td>-0.007574</td>\n",
       "      <td>-0.019947</td>\n",
       "      <td>-0.010372</td>\n",
       "      <td>-0.017431</td>\n",
       "      <td>-0.026664</td>\n",
       "      <td>-0.021720</td>\n",
       "      <td>-0.006840</td>\n",
       "      <td>0.055427</td>\n",
       "    </tr>\n",
       "    <tr>\n",
       "      <th>STATE_Hidalgo</th>\n",
       "      <td>-0.023256</td>\n",
       "      <td>-0.021104</td>\n",
       "      <td>-0.008468</td>\n",
       "      <td>-0.019161</td>\n",
       "      <td>-0.028604</td>\n",
       "      <td>-0.013681</td>\n",
       "      <td>-0.015507</td>\n",
       "      <td>-0.014967</td>\n",
       "      <td>-0.114241</td>\n",
       "      <td>-0.011452</td>\n",
       "      <td>...</td>\n",
       "      <td>-0.026293</td>\n",
       "      <td>-0.017607</td>\n",
       "      <td>-0.012594</td>\n",
       "      <td>-0.033168</td>\n",
       "      <td>-0.017247</td>\n",
       "      <td>-0.028986</td>\n",
       "      <td>-0.044339</td>\n",
       "      <td>-0.036117</td>\n",
       "      <td>-0.011374</td>\n",
       "      <td>0.106452</td>\n",
       "    </tr>\n",
       "    <tr>\n",
       "      <th>STATE_Jalisco</th>\n",
       "      <td>-0.034412</td>\n",
       "      <td>-0.031227</td>\n",
       "      <td>-0.012530</td>\n",
       "      <td>-0.028353</td>\n",
       "      <td>-0.042325</td>\n",
       "      <td>-0.020244</td>\n",
       "      <td>-0.022945</td>\n",
       "      <td>-0.022146</td>\n",
       "      <td>-0.169041</td>\n",
       "      <td>-0.016946</td>\n",
       "      <td>...</td>\n",
       "      <td>-0.038906</td>\n",
       "      <td>-0.026053</td>\n",
       "      <td>-0.018636</td>\n",
       "      <td>-0.049079</td>\n",
       "      <td>-0.025520</td>\n",
       "      <td>-0.042890</td>\n",
       "      <td>-0.065608</td>\n",
       "      <td>-0.053442</td>\n",
       "      <td>-0.016830</td>\n",
       "      <td>0.257917</td>\n",
       "    </tr>\n",
       "    <tr>\n",
       "      <th>STATE_Morelos</th>\n",
       "      <td>-0.018609</td>\n",
       "      <td>-0.016887</td>\n",
       "      <td>-0.006776</td>\n",
       "      <td>-0.015333</td>\n",
       "      <td>-0.022889</td>\n",
       "      <td>-0.010948</td>\n",
       "      <td>-0.012408</td>\n",
       "      <td>-0.011976</td>\n",
       "      <td>-0.091415</td>\n",
       "      <td>-0.009164</td>\n",
       "      <td>...</td>\n",
       "      <td>-0.021040</td>\n",
       "      <td>-0.014089</td>\n",
       "      <td>-0.010078</td>\n",
       "      <td>-0.026541</td>\n",
       "      <td>-0.013801</td>\n",
       "      <td>-0.023194</td>\n",
       "      <td>-0.035480</td>\n",
       "      <td>-0.028901</td>\n",
       "      <td>-0.009102</td>\n",
       "      <td>0.103684</td>\n",
       "    </tr>\n",
       "    <tr>\n",
       "      <th>STATE_Nayarit</th>\n",
       "      <td>-0.009492</td>\n",
       "      <td>-0.008614</td>\n",
       "      <td>-0.003456</td>\n",
       "      <td>-0.007821</td>\n",
       "      <td>-0.011675</td>\n",
       "      <td>-0.005584</td>\n",
       "      <td>-0.006329</td>\n",
       "      <td>-0.006109</td>\n",
       "      <td>-0.046628</td>\n",
       "      <td>-0.004674</td>\n",
       "      <td>...</td>\n",
       "      <td>-0.010732</td>\n",
       "      <td>-0.007186</td>\n",
       "      <td>-0.005140</td>\n",
       "      <td>-0.013538</td>\n",
       "      <td>-0.007039</td>\n",
       "      <td>-0.011831</td>\n",
       "      <td>-0.018097</td>\n",
       "      <td>-0.014742</td>\n",
       "      <td>-0.004643</td>\n",
       "      <td>0.012052</td>\n",
       "    </tr>\n",
       "    <tr>\n",
       "      <th>STATE_Oaxaca</th>\n",
       "      <td>-0.011258</td>\n",
       "      <td>-0.010216</td>\n",
       "      <td>-0.004100</td>\n",
       "      <td>-0.009276</td>\n",
       "      <td>-0.013847</td>\n",
       "      <td>-0.006623</td>\n",
       "      <td>-0.007507</td>\n",
       "      <td>-0.007245</td>\n",
       "      <td>-0.055304</td>\n",
       "      <td>-0.005544</td>\n",
       "      <td>...</td>\n",
       "      <td>-0.012729</td>\n",
       "      <td>-0.008524</td>\n",
       "      <td>-0.006097</td>\n",
       "      <td>-0.016057</td>\n",
       "      <td>-0.008349</td>\n",
       "      <td>-0.014032</td>\n",
       "      <td>-0.021465</td>\n",
       "      <td>-0.017484</td>\n",
       "      <td>-0.005506</td>\n",
       "      <td>0.050927</td>\n",
       "    </tr>\n",
       "    <tr>\n",
       "      <th>STATE_Puebla</th>\n",
       "      <td>-0.023346</td>\n",
       "      <td>-0.021185</td>\n",
       "      <td>-0.008501</td>\n",
       "      <td>-0.019235</td>\n",
       "      <td>-0.028714</td>\n",
       "      <td>-0.013734</td>\n",
       "      <td>-0.015566</td>\n",
       "      <td>-0.015024</td>\n",
       "      <td>-0.114681</td>\n",
       "      <td>-0.011496</td>\n",
       "      <td>...</td>\n",
       "      <td>-0.026395</td>\n",
       "      <td>-0.017675</td>\n",
       "      <td>-0.012643</td>\n",
       "      <td>-0.033296</td>\n",
       "      <td>-0.017313</td>\n",
       "      <td>-0.029097</td>\n",
       "      <td>-0.044510</td>\n",
       "      <td>-0.036256</td>\n",
       "      <td>-0.011418</td>\n",
       "      <td>0.140990</td>\n",
       "    </tr>\n",
       "    <tr>\n",
       "      <th>STATE_Sinaloa</th>\n",
       "      <td>-0.008395</td>\n",
       "      <td>-0.007618</td>\n",
       "      <td>-0.003057</td>\n",
       "      <td>-0.006917</td>\n",
       "      <td>-0.010326</td>\n",
       "      <td>-0.004939</td>\n",
       "      <td>-0.005598</td>\n",
       "      <td>-0.005403</td>\n",
       "      <td>-0.041239</td>\n",
       "      <td>-0.004134</td>\n",
       "      <td>...</td>\n",
       "      <td>-0.009492</td>\n",
       "      <td>1.000000</td>\n",
       "      <td>-0.004546</td>\n",
       "      <td>-0.011973</td>\n",
       "      <td>-0.006226</td>\n",
       "      <td>-0.010463</td>\n",
       "      <td>-0.016006</td>\n",
       "      <td>-0.013038</td>\n",
       "      <td>-0.004106</td>\n",
       "      <td>0.037676</td>\n",
       "    </tr>\n",
       "    <tr>\n",
       "      <th>STATE_Sonora</th>\n",
       "      <td>-0.006005</td>\n",
       "      <td>-0.005449</td>\n",
       "      <td>-0.002187</td>\n",
       "      <td>-0.004948</td>\n",
       "      <td>-0.007386</td>\n",
       "      <td>-0.003533</td>\n",
       "      <td>-0.004004</td>\n",
       "      <td>-0.003865</td>\n",
       "      <td>-0.029498</td>\n",
       "      <td>-0.002957</td>\n",
       "      <td>...</td>\n",
       "      <td>-0.006789</td>\n",
       "      <td>-0.004546</td>\n",
       "      <td>1.000000</td>\n",
       "      <td>-0.008564</td>\n",
       "      <td>-0.004453</td>\n",
       "      <td>-0.007484</td>\n",
       "      <td>-0.011449</td>\n",
       "      <td>-0.009326</td>\n",
       "      <td>-0.002937</td>\n",
       "      <td>0.033042</td>\n",
       "    </tr>\n",
       "    <tr>\n",
       "      <th>STATE_Tabasco</th>\n",
       "      <td>-0.015815</td>\n",
       "      <td>-0.014351</td>\n",
       "      <td>-0.005759</td>\n",
       "      <td>-0.013030</td>\n",
       "      <td>-0.019451</td>\n",
       "      <td>-0.009304</td>\n",
       "      <td>-0.010545</td>\n",
       "      <td>-0.010178</td>\n",
       "      <td>-0.077687</td>\n",
       "      <td>-0.007788</td>\n",
       "      <td>...</td>\n",
       "      <td>-0.017880</td>\n",
       "      <td>-0.011973</td>\n",
       "      <td>-0.008564</td>\n",
       "      <td>1.000000</td>\n",
       "      <td>-0.011728</td>\n",
       "      <td>-0.019711</td>\n",
       "      <td>-0.030152</td>\n",
       "      <td>-0.024561</td>\n",
       "      <td>-0.007735</td>\n",
       "      <td>0.097822</td>\n",
       "    </tr>\n",
       "    <tr>\n",
       "      <th>STATE_Tlaxcala</th>\n",
       "      <td>-0.013821</td>\n",
       "      <td>-0.012541</td>\n",
       "      <td>-0.005033</td>\n",
       "      <td>-0.011387</td>\n",
       "      <td>-0.016999</td>\n",
       "      <td>-0.008130</td>\n",
       "      <td>-0.009215</td>\n",
       "      <td>-0.008894</td>\n",
       "      <td>-0.067891</td>\n",
       "      <td>-0.006806</td>\n",
       "      <td>...</td>\n",
       "      <td>-0.015626</td>\n",
       "      <td>-0.010463</td>\n",
       "      <td>-0.007484</td>\n",
       "      <td>-0.019711</td>\n",
       "      <td>-0.010249</td>\n",
       "      <td>1.000000</td>\n",
       "      <td>-0.026350</td>\n",
       "      <td>-0.021464</td>\n",
       "      <td>-0.006760</td>\n",
       "      <td>0.018983</td>\n",
       "    </tr>\n",
       "    <tr>\n",
       "      <th>STATE_Veracruz</th>\n",
       "      <td>-0.021141</td>\n",
       "      <td>-0.019184</td>\n",
       "      <td>-0.007698</td>\n",
       "      <td>-0.017419</td>\n",
       "      <td>-0.026002</td>\n",
       "      <td>-0.012437</td>\n",
       "      <td>-0.014096</td>\n",
       "      <td>-0.013605</td>\n",
       "      <td>-0.103851</td>\n",
       "      <td>-0.010411</td>\n",
       "      <td>...</td>\n",
       "      <td>-0.023902</td>\n",
       "      <td>-0.016006</td>\n",
       "      <td>-0.011449</td>\n",
       "      <td>-0.030152</td>\n",
       "      <td>-0.015678</td>\n",
       "      <td>-0.026350</td>\n",
       "      <td>1.000000</td>\n",
       "      <td>-0.032832</td>\n",
       "      <td>-0.010340</td>\n",
       "      <td>0.159865</td>\n",
       "    </tr>\n",
       "    <tr>\n",
       "      <th>target</th>\n",
       "      <td>-0.041907</td>\n",
       "      <td>-0.019281</td>\n",
       "      <td>0.027576</td>\n",
       "      <td>-0.010434</td>\n",
       "      <td>-0.036463</td>\n",
       "      <td>-0.001692</td>\n",
       "      <td>-0.031262</td>\n",
       "      <td>0.013981</td>\n",
       "      <td>-0.139972</td>\n",
       "      <td>-0.021904</td>\n",
       "      <td>...</td>\n",
       "      <td>-0.060337</td>\n",
       "      <td>0.037676</td>\n",
       "      <td>0.033042</td>\n",
       "      <td>0.097822</td>\n",
       "      <td>0.001404</td>\n",
       "      <td>0.018983</td>\n",
       "      <td>0.159865</td>\n",
       "      <td>-0.077503</td>\n",
       "      <td>-0.019155</td>\n",
       "      <td>1.000000</td>\n",
       "    </tr>\n",
       "  </tbody>\n",
       "</table>\n",
       "<p>87 rows × 33 columns</p>\n",
       "</div>"
      ],
      "text/plain": [
       "                             STATE_Aguascalientes  STATE_Baja_California  \\\n",
       "MOBILITY_DIAMETER                        0.045310               0.146754   \n",
       "MOBILITY_DIAMETER_WEEKNIGHT              0.046512               0.144198   \n",
       "TimeWeekEnd_OUT_VUL_12                  -0.013656              -0.005871   \n",
       "CallsWeekDay_OUT_VUL_12                 -0.022717              -0.016940   \n",
       "CallsWeekNight_OUT_VUL_12               -0.019146              -0.010924   \n",
       "TimeWeekDay_OUT_VUL_12                  -0.017420              -0.010759   \n",
       "CallsWeekEnd_OUT_VUL_12                 -0.020489              -0.015170   \n",
       "TimeWeekNight_OUT_VUL_12                -0.011112              -0.002904   \n",
       "VULNERABLE_OUT_12                       -0.040005              -0.029371   \n",
       "TimeWeekEnd_IN_VUL_12                   -0.012306              -0.007129   \n",
       "CallsWeekDay_IN_VUL_12                  -0.022711              -0.018153   \n",
       "CallsWeekNight_IN_VUL_12                -0.014612              -0.010377   \n",
       "TimeWeekDay_IN_VUL_12                   -0.016798              -0.013010   \n",
       "CallsWeekEnd_IN_VUL_12                  -0.020043              -0.016322   \n",
       "TimeWeekNight_IN_VUL_12                 -0.007968              -0.005030   \n",
       "VULNERABLE_IN_12                        -0.040028              -0.028747   \n",
       "TimeWeekEnd_OUT_VUL_08                  -0.014669              -0.007991   \n",
       "CallsWeekDay_OUT_VUL_08                 -0.022585              -0.016218   \n",
       "CallsWeekNight_OUT_VUL_08               -0.018070              -0.012847   \n",
       "TimeWeekDay_OUT_VUL_08                  -0.017444              -0.012307   \n",
       "CallsWeekEnd_OUT_VUL_08                 -0.022455              -0.016769   \n",
       "TimeWeekNight_OUT_VUL_08                -0.009070              -0.004653   \n",
       "VULNERABLE_OUT_08                       -0.042196              -0.030995   \n",
       "TimeWeekEnd_IN_VUL_08                   -0.012182              -0.009081   \n",
       "CallsWeekDay_IN_VUL_08                  -0.022649              -0.018190   \n",
       "CallsWeekNight_IN_VUL_08                -0.017930              -0.014713   \n",
       "TimeWeekDay_IN_VUL_08                   -0.016333              -0.014324   \n",
       "CallsWeekEnd_IN_VUL_08                  -0.022494              -0.018072   \n",
       "TimeWeekNight_IN_VUL_08                 -0.007276              -0.006506   \n",
       "VULNERABLE_IN_08                        -0.041018              -0.030304   \n",
       "...                                           ...                    ...   \n",
       "VULNERABLE_IN_10                        -0.038929              -0.031571   \n",
       "TimeWeekEnd_OUT_VUL_11                  -0.014278              -0.001376   \n",
       "CallsWeekDay_OUT_VUL_11                 -0.022130              -0.015889   \n",
       "CallsWeekNight_OUT_VUL_11               -0.018903              -0.008024   \n",
       "TimeWeekDay_OUT_VUL_11                  -0.017323              -0.008735   \n",
       "CallsWeekEnd_OUT_VUL_11                 -0.022639              -0.014328   \n",
       "TimeWeekNight_OUT_VUL_11                -0.010457               0.000894   \n",
       "VULNERABLE_OUT_11                       -0.039387              -0.028858   \n",
       "TimeWeekEnd_IN_VUL_11                   -0.015260              -0.005513   \n",
       "CallsWeekDay_IN_VUL_11                  -0.021931              -0.018608   \n",
       "CallsWeekNight_IN_VUL_11                -0.018157              -0.010289   \n",
       "TimeWeekDay_IN_VUL_11                   -0.015467              -0.012105   \n",
       "CallsWeekEnd_IN_VUL_11                  -0.022471              -0.016777   \n",
       "TimeWeekNight_IN_VUL_11                 -0.009140              -0.002078   \n",
       "VULNERABLE_IN_11                        -0.039576              -0.030034   \n",
       "STATE_Baja_California_Sur               -0.004038              -0.003664   \n",
       "STATE_Colima                            -0.007136              -0.006476   \n",
       "STATE_Guerrero                          -0.013986              -0.012691   \n",
       "STATE_Hidalgo                           -0.023256              -0.021104   \n",
       "STATE_Jalisco                           -0.034412              -0.031227   \n",
       "STATE_Morelos                           -0.018609              -0.016887   \n",
       "STATE_Nayarit                           -0.009492              -0.008614   \n",
       "STATE_Oaxaca                            -0.011258              -0.010216   \n",
       "STATE_Puebla                            -0.023346              -0.021185   \n",
       "STATE_Sinaloa                           -0.008395              -0.007618   \n",
       "STATE_Sonora                            -0.006005              -0.005449   \n",
       "STATE_Tabasco                           -0.015815              -0.014351   \n",
       "STATE_Tlaxcala                          -0.013821              -0.012541   \n",
       "STATE_Veracruz                          -0.021141              -0.019184   \n",
       "target                                  -0.041907              -0.019281   \n",
       "\n",
       "                             STATE_Baja_California_Sur  STATE_Campeche  \\\n",
       "MOBILITY_DIAMETER                             0.031551        0.005904   \n",
       "MOBILITY_DIAMETER_WEEKNIGHT                   0.031054        0.005293   \n",
       "TimeWeekEnd_OUT_VUL_12                        0.010332       -0.002648   \n",
       "CallsWeekDay_OUT_VUL_12                       0.001280       -0.012753   \n",
       "CallsWeekNight_OUT_VUL_12                     0.007763       -0.003611   \n",
       "TimeWeekDay_OUT_VUL_12                        0.006340       -0.005034   \n",
       "CallsWeekEnd_OUT_VUL_12                       0.004070       -0.010087   \n",
       "TimeWeekNight_OUT_VUL_12                      0.012386        0.006997   \n",
       "VULNERABLE_OUT_12                             0.009205       -0.017340   \n",
       "TimeWeekEnd_IN_VUL_12                         0.009631       -0.000750   \n",
       "CallsWeekDay_IN_VUL_12                        0.000632       -0.014503   \n",
       "CallsWeekNight_IN_VUL_12                      0.004509       -0.007936   \n",
       "TimeWeekDay_IN_VUL_12                         0.005394       -0.005901   \n",
       "CallsWeekEnd_IN_VUL_12                        0.002675       -0.010594   \n",
       "TimeWeekNight_IN_VUL_12                       0.010468       -0.001276   \n",
       "VULNERABLE_IN_12                              0.008853       -0.016118   \n",
       "TimeWeekEnd_OUT_VUL_08                        0.013921       -0.000598   \n",
       "CallsWeekDay_OUT_VUL_08                       0.001038       -0.012746   \n",
       "CallsWeekNight_OUT_VUL_08                     0.007354       -0.005722   \n",
       "TimeWeekDay_OUT_VUL_08                        0.004092       -0.004031   \n",
       "CallsWeekEnd_OUT_VUL_08                       0.006705       -0.011383   \n",
       "TimeWeekNight_OUT_VUL_08                      0.011426        0.005438   \n",
       "VULNERABLE_OUT_08                             0.010958       -0.017915   \n",
       "TimeWeekEnd_IN_VUL_08                         0.010381       -0.000117   \n",
       "CallsWeekDay_IN_VUL_08                       -0.000377       -0.014852   \n",
       "CallsWeekNight_IN_VUL_08                      0.004257       -0.007054   \n",
       "TimeWeekDay_IN_VUL_08                         0.002741       -0.006178   \n",
       "CallsWeekEnd_IN_VUL_08                        0.002140       -0.013179   \n",
       "TimeWeekNight_IN_VUL_08                       0.008898        0.004365   \n",
       "VULNERABLE_IN_08                              0.009195       -0.020168   \n",
       "...                                                ...             ...   \n",
       "VULNERABLE_IN_10                              0.008436       -0.020209   \n",
       "TimeWeekEnd_OUT_VUL_11                        0.011684       -0.000858   \n",
       "CallsWeekDay_OUT_VUL_11                       0.000780       -0.013247   \n",
       "CallsWeekNight_OUT_VUL_11                     0.002552       -0.005554   \n",
       "TimeWeekDay_OUT_VUL_11                        0.004952       -0.006729   \n",
       "CallsWeekEnd_OUT_VUL_11                       0.003905       -0.010554   \n",
       "TimeWeekNight_OUT_VUL_11                      0.005529        0.004623   \n",
       "VULNERABLE_OUT_11                             0.006644       -0.019747   \n",
       "TimeWeekEnd_IN_VUL_11                         0.011927       -0.000507   \n",
       "CallsWeekDay_IN_VUL_11                        0.000541       -0.014867   \n",
       "CallsWeekNight_IN_VUL_11                      0.003843       -0.009130   \n",
       "TimeWeekDay_IN_VUL_11                         0.002696       -0.007724   \n",
       "CallsWeekEnd_IN_VUL_11                        0.002350       -0.011793   \n",
       "TimeWeekNight_IN_VUL_11                       0.007208       -0.000861   \n",
       "VULNERABLE_IN_11                              0.008613       -0.018450   \n",
       "STATE_Baja_California_Sur                     1.000000       -0.003327   \n",
       "STATE_Colima                                 -0.002598       -0.005880   \n",
       "STATE_Guerrero                               -0.005093       -0.011523   \n",
       "STATE_Hidalgo                                -0.008468       -0.019161   \n",
       "STATE_Jalisco                                -0.012530       -0.028353   \n",
       "STATE_Morelos                                -0.006776       -0.015333   \n",
       "STATE_Nayarit                                -0.003456       -0.007821   \n",
       "STATE_Oaxaca                                 -0.004100       -0.009276   \n",
       "STATE_Puebla                                 -0.008501       -0.019235   \n",
       "STATE_Sinaloa                                -0.003057       -0.006917   \n",
       "STATE_Sonora                                 -0.002187       -0.004948   \n",
       "STATE_Tabasco                                -0.005759       -0.013030   \n",
       "STATE_Tlaxcala                               -0.005033       -0.011387   \n",
       "STATE_Veracruz                               -0.007698       -0.017419   \n",
       "target                                        0.027576       -0.010434   \n",
       "\n",
       "                             STATE_Chiapas  STATE_Chihuahua  \\\n",
       "MOBILITY_DIAMETER                -0.013297         0.022532   \n",
       "MOBILITY_DIAMETER_WEEKNIGHT      -0.009695         0.023714   \n",
       "TimeWeekEnd_OUT_VUL_12           -0.012006        -0.005701   \n",
       "CallsWeekDay_OUT_VUL_12          -0.024743        -0.009175   \n",
       "CallsWeekNight_OUT_VUL_12        -0.019226        -0.005163   \n",
       "TimeWeekDay_OUT_VUL_12           -0.017892        -0.005831   \n",
       "CallsWeekEnd_OUT_VUL_12          -0.021958        -0.009211   \n",
       "TimeWeekNight_OUT_VUL_12         -0.008463         0.000747   \n",
       "VULNERABLE_OUT_12                -0.040038        -0.015465   \n",
       "TimeWeekEnd_IN_VUL_12            -0.008584        -0.002293   \n",
       "CallsWeekDay_IN_VUL_12           -0.025216        -0.007099   \n",
       "CallsWeekNight_IN_VUL_12         -0.015410        -0.004031   \n",
       "TimeWeekDay_IN_VUL_12            -0.017323        -0.003017   \n",
       "CallsWeekEnd_IN_VUL_12           -0.021551        -0.006407   \n",
       "TimeWeekNight_IN_VUL_12          -0.007099        -0.001922   \n",
       "VULNERABLE_IN_12                 -0.039623        -0.014356   \n",
       "TimeWeekEnd_OUT_VUL_08           -0.010387        -0.003415   \n",
       "CallsWeekDay_OUT_VUL_08          -0.024872        -0.009342   \n",
       "CallsWeekNight_OUT_VUL_08        -0.018356        -0.007554   \n",
       "TimeWeekDay_OUT_VUL_08           -0.017969        -0.005579   \n",
       "CallsWeekEnd_OUT_VUL_08          -0.023681        -0.009190   \n",
       "TimeWeekNight_OUT_VUL_08         -0.006242        -0.003430   \n",
       "VULNERABLE_OUT_08                -0.044159        -0.012478   \n",
       "TimeWeekEnd_IN_VUL_08            -0.012565        -0.000722   \n",
       "CallsWeekDay_IN_VUL_08           -0.025751        -0.009393   \n",
       "CallsWeekNight_IN_VUL_08         -0.019976        -0.007911   \n",
       "TimeWeekDay_IN_VUL_08            -0.016959        -0.005152   \n",
       "CallsWeekEnd_IN_VUL_08           -0.026200        -0.008943   \n",
       "TimeWeekNight_IN_VUL_08          -0.007257        -0.002730   \n",
       "VULNERABLE_IN_08                 -0.045035        -0.013930   \n",
       "...                                    ...              ...   \n",
       "VULNERABLE_IN_10                 -0.043340        -0.015164   \n",
       "TimeWeekEnd_OUT_VUL_11           -0.009282        -0.006130   \n",
       "CallsWeekDay_OUT_VUL_11          -0.024437        -0.009247   \n",
       "CallsWeekNight_OUT_VUL_11        -0.015756        -0.008265   \n",
       "TimeWeekDay_OUT_VUL_11           -0.016747        -0.005351   \n",
       "CallsWeekEnd_OUT_VUL_11          -0.021987        -0.009631   \n",
       "TimeWeekNight_OUT_VUL_11         -0.005181        -0.004637   \n",
       "VULNERABLE_OUT_11                -0.042982        -0.016122   \n",
       "TimeWeekEnd_IN_VUL_11            -0.011601        -0.001572   \n",
       "CallsWeekDay_IN_VUL_11           -0.024258        -0.008285   \n",
       "CallsWeekNight_IN_VUL_11         -0.017447        -0.006371   \n",
       "TimeWeekDay_IN_VUL_11            -0.014179        -0.004362   \n",
       "CallsWeekEnd_IN_VUL_11           -0.024525        -0.006899   \n",
       "TimeWeekNight_IN_VUL_11          -0.005233        -0.002182   \n",
       "VULNERABLE_IN_11                 -0.042971        -0.014708   \n",
       "STATE_Baja_California_Sur        -0.004966        -0.002375   \n",
       "STATE_Colima                     -0.008777        -0.004198   \n",
       "STATE_Guerrero                   -0.017202        -0.008228   \n",
       "STATE_Hidalgo                    -0.028604        -0.013681   \n",
       "STATE_Jalisco                    -0.042325        -0.020244   \n",
       "STATE_Morelos                    -0.022889        -0.010948   \n",
       "STATE_Nayarit                    -0.011675        -0.005584   \n",
       "STATE_Oaxaca                     -0.013847        -0.006623   \n",
       "STATE_Puebla                     -0.028714        -0.013734   \n",
       "STATE_Sinaloa                    -0.010326        -0.004939   \n",
       "STATE_Sonora                     -0.007386        -0.003533   \n",
       "STATE_Tabasco                    -0.019451        -0.009304   \n",
       "STATE_Tlaxcala                   -0.016999        -0.008130   \n",
       "STATE_Veracruz                   -0.026002        -0.012437   \n",
       "target                           -0.036463        -0.001692   \n",
       "\n",
       "                             STATE_Coahuila_de_Zaragoza  STATE_Colima  \\\n",
       "MOBILITY_DIAMETER                             -0.002428     -0.006847   \n",
       "MOBILITY_DIAMETER_WEEKNIGHT                   -0.000556     -0.005593   \n",
       "TimeWeekEnd_OUT_VUL_12                        -0.012091      0.007858   \n",
       "CallsWeekDay_OUT_VUL_12                       -0.017692      0.008193   \n",
       "CallsWeekNight_OUT_VUL_12                     -0.013926      0.008456   \n",
       "TimeWeekDay_OUT_VUL_12                        -0.015003      0.014442   \n",
       "CallsWeekEnd_OUT_VUL_12                       -0.016432      0.006108   \n",
       "TimeWeekNight_OUT_VUL_12                      -0.007113      0.005586   \n",
       "VULNERABLE_OUT_12                             -0.034485      0.010054   \n",
       "TimeWeekEnd_IN_VUL_12                         -0.010550      0.009163   \n",
       "CallsWeekDay_IN_VUL_12                        -0.017822      0.003984   \n",
       "CallsWeekNight_IN_VUL_12                      -0.011872      0.005544   \n",
       "TimeWeekDay_IN_VUL_12                         -0.014627      0.009207   \n",
       "CallsWeekEnd_IN_VUL_12                        -0.016258      0.004569   \n",
       "TimeWeekNight_IN_VUL_12                       -0.007884      0.007687   \n",
       "VULNERABLE_IN_12                              -0.034631      0.012041   \n",
       "TimeWeekEnd_OUT_VUL_08                        -0.009323      0.009869   \n",
       "CallsWeekDay_OUT_VUL_08                       -0.017058      0.007936   \n",
       "CallsWeekNight_OUT_VUL_08                     -0.012768      0.012898   \n",
       "TimeWeekDay_OUT_VUL_08                        -0.014022      0.010738   \n",
       "CallsWeekEnd_OUT_VUL_08                       -0.015787      0.006353   \n",
       "TimeWeekNight_OUT_VUL_08                      -0.006091      0.015295   \n",
       "VULNERABLE_OUT_08                             -0.033568      0.010271   \n",
       "TimeWeekEnd_IN_VUL_08                         -0.009785      0.006722   \n",
       "CallsWeekDay_IN_VUL_08                        -0.016906      0.002592   \n",
       "CallsWeekNight_IN_VUL_08                      -0.013796      0.007785   \n",
       "TimeWeekDay_IN_VUL_08                         -0.013463      0.004041   \n",
       "CallsWeekEnd_IN_VUL_08                        -0.016428      0.004263   \n",
       "TimeWeekNight_IN_VUL_08                       -0.006716      0.008231   \n",
       "VULNERABLE_IN_08                              -0.034653      0.010943   \n",
       "...                                                 ...           ...   \n",
       "VULNERABLE_IN_10                              -0.033371      0.008510   \n",
       "TimeWeekEnd_OUT_VUL_11                        -0.008545      0.010285   \n",
       "CallsWeekDay_OUT_VUL_11                       -0.016805      0.005724   \n",
       "CallsWeekNight_OUT_VUL_11                     -0.013365      0.009736   \n",
       "TimeWeekDay_OUT_VUL_11                        -0.013264      0.008760   \n",
       "CallsWeekEnd_OUT_VUL_11                       -0.015743      0.007172   \n",
       "TimeWeekNight_OUT_VUL_11                      -0.007050      0.009164   \n",
       "VULNERABLE_OUT_11                             -0.034693      0.010601   \n",
       "TimeWeekEnd_IN_VUL_11                         -0.009562      0.003797   \n",
       "CallsWeekDay_IN_VUL_11                        -0.017072      0.001786   \n",
       "CallsWeekNight_IN_VUL_11                      -0.012198      0.005667   \n",
       "TimeWeekDay_IN_VUL_11                         -0.012976      0.004067   \n",
       "CallsWeekEnd_IN_VUL_11                        -0.016581      0.000582   \n",
       "TimeWeekNight_IN_VUL_11                       -0.004878      0.004624   \n",
       "VULNERABLE_IN_11                              -0.033007      0.010214   \n",
       "STATE_Baja_California_Sur                     -0.002692     -0.002598   \n",
       "STATE_Colima                                  -0.004758      1.000000   \n",
       "STATE_Guerrero                                -0.009325     -0.009000   \n",
       "STATE_Hidalgo                                 -0.015507     -0.014967   \n",
       "STATE_Jalisco                                 -0.022945     -0.022146   \n",
       "STATE_Morelos                                 -0.012408     -0.011976   \n",
       "STATE_Nayarit                                 -0.006329     -0.006109   \n",
       "STATE_Oaxaca                                  -0.007507     -0.007245   \n",
       "STATE_Puebla                                  -0.015566     -0.015024   \n",
       "STATE_Sinaloa                                 -0.005598     -0.005403   \n",
       "STATE_Sonora                                  -0.004004     -0.003865   \n",
       "STATE_Tabasco                                 -0.010545     -0.010178   \n",
       "STATE_Tlaxcala                                -0.009215     -0.008894   \n",
       "STATE_Veracruz                                -0.014096     -0.013605   \n",
       "target                                        -0.031262      0.013981   \n",
       "\n",
       "                             STATE_Distrito_Federal  STATE_Durango    ...     \\\n",
       "MOBILITY_DIAMETER                         -0.137172      -0.009170    ...      \n",
       "MOBILITY_DIAMETER_WEEKNIGHT               -0.119614      -0.009337    ...      \n",
       "TimeWeekEnd_OUT_VUL_12                    -0.058754      -0.009689    ...      \n",
       "CallsWeekDay_OUT_VUL_12                   -0.095536      -0.013729    ...      \n",
       "CallsWeekNight_OUT_VUL_12                 -0.067328      -0.010774    ...      \n",
       "TimeWeekDay_OUT_VUL_12                    -0.071673      -0.011923    ...      \n",
       "CallsWeekEnd_OUT_VUL_12                   -0.088074      -0.013220    ...      \n",
       "TimeWeekNight_OUT_VUL_12                  -0.033304      -0.006289    ...      \n",
       "VULNERABLE_OUT_12                         -0.148220      -0.025432    ...      \n",
       "TimeWeekEnd_IN_VUL_12                     -0.055680      -0.009105    ...      \n",
       "CallsWeekDay_IN_VUL_12                    -0.095127      -0.012907    ...      \n",
       "CallsWeekNight_IN_VUL_12                  -0.052679      -0.008735    ...      \n",
       "TimeWeekDay_IN_VUL_12                     -0.071570      -0.010456    ...      \n",
       "CallsWeekEnd_IN_VUL_12                    -0.086125      -0.012460    ...      \n",
       "TimeWeekNight_IN_VUL_12                   -0.034697      -0.006838    ...      \n",
       "VULNERABLE_IN_12                          -0.148912      -0.023532    ...      \n",
       "TimeWeekEnd_OUT_VUL_08                    -0.067481      -0.010232    ...      \n",
       "CallsWeekDay_OUT_VUL_08                   -0.100431      -0.012946    ...      \n",
       "CallsWeekNight_OUT_VUL_08                 -0.078778      -0.012360    ...      \n",
       "TimeWeekDay_OUT_VUL_08                    -0.079736      -0.011656    ...      \n",
       "CallsWeekEnd_OUT_VUL_08                   -0.099136      -0.014268    ...      \n",
       "TimeWeekNight_OUT_VUL_08                  -0.041170      -0.008356    ...      \n",
       "VULNERABLE_OUT_08                         -0.162640      -0.025906    ...      \n",
       "TimeWeekEnd_IN_VUL_08                     -0.065608      -0.009277    ...      \n",
       "CallsWeekDay_IN_VUL_08                    -0.102583      -0.013061    ...      \n",
       "CallsWeekNight_IN_VUL_08                  -0.081967      -0.011655    ...      \n",
       "TimeWeekDay_IN_VUL_08                     -0.080866      -0.011156    ...      \n",
       "CallsWeekEnd_IN_VUL_08                    -0.101632      -0.013800    ...      \n",
       "TimeWeekNight_IN_VUL_08                   -0.042734      -0.007218    ...      \n",
       "VULNERABLE_IN_08                          -0.162277      -0.025752    ...      \n",
       "...                                             ...            ...    ...      \n",
       "VULNERABLE_IN_10                          -0.153825      -0.024862    ...      \n",
       "TimeWeekEnd_OUT_VUL_11                    -0.061261      -0.009907    ...      \n",
       "CallsWeekDay_OUT_VUL_11                   -0.098905      -0.013329    ...      \n",
       "CallsWeekNight_OUT_VUL_11                 -0.067358      -0.011386    ...      \n",
       "TimeWeekDay_OUT_VUL_11                    -0.076034      -0.011628    ...      \n",
       "CallsWeekEnd_OUT_VUL_11                   -0.096545      -0.013669    ...      \n",
       "TimeWeekNight_OUT_VUL_11                  -0.029958      -0.007541    ...      \n",
       "VULNERABLE_OUT_11                         -0.156159      -0.026834    ...      \n",
       "TimeWeekEnd_IN_VUL_11                     -0.058809      -0.009071    ...      \n",
       "CallsWeekDay_IN_VUL_11                    -0.099094      -0.013217    ...      \n",
       "CallsWeekNight_IN_VUL_11                  -0.067562      -0.011227    ...      \n",
       "TimeWeekDay_IN_VUL_11                     -0.071637      -0.010804    ...      \n",
       "CallsWeekEnd_IN_VUL_11                    -0.095871      -0.013537    ...      \n",
       "TimeWeekNight_IN_VUL_11                   -0.030131      -0.006612    ...      \n",
       "VULNERABLE_IN_11                          -0.154804      -0.025397    ...      \n",
       "STATE_Baja_California_Sur                 -0.019835      -0.001988    ...      \n",
       "STATE_Colima                              -0.035055      -0.003514    ...      \n",
       "STATE_Guerrero                            -0.068702      -0.006887    ...      \n",
       "STATE_Hidalgo                             -0.114241      -0.011452    ...      \n",
       "STATE_Jalisco                             -0.169041      -0.016946    ...      \n",
       "STATE_Morelos                             -0.091415      -0.009164    ...      \n",
       "STATE_Nayarit                             -0.046628      -0.004674    ...      \n",
       "STATE_Oaxaca                              -0.055304      -0.005544    ...      \n",
       "STATE_Puebla                              -0.114681      -0.011496    ...      \n",
       "STATE_Sinaloa                             -0.041239      -0.004134    ...      \n",
       "STATE_Sonora                              -0.029498      -0.002957    ...      \n",
       "STATE_Tabasco                             -0.077687      -0.007788    ...      \n",
       "STATE_Tlaxcala                            -0.067891      -0.006806    ...      \n",
       "STATE_Veracruz                            -0.103851      -0.010411    ...      \n",
       "target                                    -0.139972      -0.021904    ...      \n",
       "\n",
       "                             STATE_San_Luis_Potosi  STATE_Sinaloa  \\\n",
       "MOBILITY_DIAMETER                         0.061558       0.053276   \n",
       "MOBILITY_DIAMETER_WEEKNIGHT               0.062585       0.056015   \n",
       "TimeWeekEnd_OUT_VUL_12                   -0.017232       0.008689   \n",
       "CallsWeekDay_OUT_VUL_12                  -0.029892       0.004333   \n",
       "CallsWeekNight_OUT_VUL_12                -0.022328       0.008362   \n",
       "TimeWeekDay_OUT_VUL_12                   -0.025590       0.010060   \n",
       "CallsWeekEnd_OUT_VUL_12                  -0.026724       0.003119   \n",
       "TimeWeekNight_OUT_VUL_12                 -0.011730       0.014307   \n",
       "VULNERABLE_OUT_12                        -0.052034       0.017125   \n",
       "TimeWeekEnd_IN_VUL_12                    -0.016060       0.007889   \n",
       "CallsWeekDay_IN_VUL_12                   -0.028931       0.002638   \n",
       "CallsWeekNight_IN_VUL_12                 -0.018155       0.002307   \n",
       "TimeWeekDay_IN_VUL_12                    -0.022623       0.004972   \n",
       "CallsWeekEnd_IN_VUL_12                   -0.026409       0.003606   \n",
       "TimeWeekNight_IN_VUL_12                  -0.010616       0.003915   \n",
       "VULNERABLE_IN_12                         -0.050270       0.016853   \n",
       "TimeWeekEnd_OUT_VUL_08                   -0.017896       0.008094   \n",
       "CallsWeekDay_OUT_VUL_08                  -0.028456      -0.000574   \n",
       "CallsWeekNight_OUT_VUL_08                -0.020947       0.002837   \n",
       "TimeWeekDay_OUT_VUL_08                   -0.023121       0.002339   \n",
       "CallsWeekEnd_OUT_VUL_08                  -0.028598       0.000800   \n",
       "TimeWeekNight_OUT_VUL_08                 -0.010563       0.007533   \n",
       "VULNERABLE_OUT_08                        -0.056201       0.009072   \n",
       "TimeWeekEnd_IN_VUL_08                    -0.018159       0.004264   \n",
       "CallsWeekDay_IN_VUL_08                   -0.029369      -0.002210   \n",
       "CallsWeekNight_IN_VUL_08                 -0.022268      -0.002579   \n",
       "TimeWeekDay_IN_VUL_08                    -0.022446       0.000667   \n",
       "CallsWeekEnd_IN_VUL_08                   -0.029985      -0.001558   \n",
       "TimeWeekNight_IN_VUL_08                  -0.009794       0.001089   \n",
       "VULNERABLE_IN_08                         -0.054957       0.011913   \n",
       "...                                            ...            ...   \n",
       "VULNERABLE_IN_10                         -0.053118       0.017188   \n",
       "TimeWeekEnd_OUT_VUL_11                   -0.017924       0.003339   \n",
       "CallsWeekDay_OUT_VUL_11                  -0.028244       0.000842   \n",
       "CallsWeekNight_OUT_VUL_11                -0.021213       0.002806   \n",
       "TimeWeekDay_OUT_VUL_11                   -0.023444       0.005813   \n",
       "CallsWeekEnd_OUT_VUL_11                  -0.028241      -0.001576   \n",
       "TimeWeekNight_OUT_VUL_11                 -0.011686       0.007842   \n",
       "VULNERABLE_OUT_11                        -0.053855       0.015096   \n",
       "TimeWeekEnd_IN_VUL_11                    -0.015572       0.003860   \n",
       "CallsWeekDay_IN_VUL_11                   -0.027983      -0.002466   \n",
       "CallsWeekNight_IN_VUL_11                 -0.020802      -0.000535   \n",
       "TimeWeekDay_IN_VUL_11                    -0.021624       0.001663   \n",
       "CallsWeekEnd_IN_VUL_11                   -0.027502      -0.001392   \n",
       "TimeWeekNight_IN_VUL_11                  -0.009309       0.003880   \n",
       "VULNERABLE_IN_11                         -0.054060       0.015907   \n",
       "STATE_Baja_California_Sur                -0.004565      -0.003057   \n",
       "STATE_Colima                             -0.008068      -0.005403   \n",
       "STATE_Guerrero                           -0.015812      -0.010588   \n",
       "STATE_Hidalgo                            -0.026293      -0.017607   \n",
       "STATE_Jalisco                            -0.038906      -0.026053   \n",
       "STATE_Morelos                            -0.021040      -0.014089   \n",
       "STATE_Nayarit                            -0.010732      -0.007186   \n",
       "STATE_Oaxaca                             -0.012729      -0.008524   \n",
       "STATE_Puebla                             -0.026395      -0.017675   \n",
       "STATE_Sinaloa                            -0.009492       1.000000   \n",
       "STATE_Sonora                             -0.006789      -0.004546   \n",
       "STATE_Tabasco                            -0.017880      -0.011973   \n",
       "STATE_Tlaxcala                           -0.015626      -0.010463   \n",
       "STATE_Veracruz                           -0.023902      -0.016006   \n",
       "target                                   -0.060337       0.037676   \n",
       "\n",
       "                             STATE_Sonora  STATE_Tabasco  STATE_Tamaulipas  \\\n",
       "MOBILITY_DIAMETER                0.078379       0.004430          0.005110   \n",
       "MOBILITY_DIAMETER_WEEKNIGHT      0.080636       0.007443          0.005611   \n",
       "TimeWeekEnd_OUT_VUL_12           0.011338       0.061751         -0.000276   \n",
       "CallsWeekDay_OUT_VUL_12          0.008663       0.088112         -0.009520   \n",
       "CallsWeekNight_OUT_VUL_12        0.010211       0.077341         -0.000436   \n",
       "TimeWeekDay_OUT_VUL_12           0.012857       0.071836         -0.005827   \n",
       "CallsWeekEnd_OUT_VUL_12          0.008908       0.085221         -0.007715   \n",
       "TimeWeekNight_OUT_VUL_12         0.012259       0.045231          0.004583   \n",
       "VULNERABLE_OUT_12                0.017521       0.117944         -0.014878   \n",
       "TimeWeekEnd_IN_VUL_12            0.006321       0.061526         -0.001670   \n",
       "CallsWeekDay_IN_VUL_12           0.007359       0.086469         -0.010056   \n",
       "CallsWeekNight_IN_VUL_12         0.007133       0.063743         -0.005022   \n",
       "TimeWeekDay_IN_VUL_12            0.011905       0.067382         -0.003388   \n",
       "CallsWeekEnd_IN_VUL_12           0.004186       0.086149         -0.009279   \n",
       "TimeWeekNight_IN_VUL_12          0.012277       0.043913          0.001604   \n",
       "VULNERABLE_IN_12                 0.014826       0.122236         -0.016406   \n",
       "TimeWeekEnd_OUT_VUL_08           0.007241       0.042950         -0.008589   \n",
       "CallsWeekDay_OUT_VUL_08          0.002326       0.056552         -0.012194   \n",
       "CallsWeekNight_OUT_VUL_08        0.000942       0.058460         -0.006576   \n",
       "TimeWeekDay_OUT_VUL_08           0.002663       0.048827         -0.009050   \n",
       "CallsWeekEnd_OUT_VUL_08          0.004736       0.061905         -0.013449   \n",
       "TimeWeekNight_OUT_VUL_08         0.001487       0.036503         -0.002034   \n",
       "VULNERABLE_OUT_08                0.009389       0.122146         -0.022807   \n",
       "TimeWeekEnd_IN_VUL_08           -0.001742       0.043171         -0.007429   \n",
       "CallsWeekDay_IN_VUL_08           0.002534       0.056490         -0.014141   \n",
       "CallsWeekNight_IN_VUL_08        -0.002805       0.057993         -0.011862   \n",
       "TimeWeekDay_IN_VUL_08            0.003953       0.046789         -0.010007   \n",
       "CallsWeekEnd_IN_VUL_08          -0.001982       0.065989         -0.015340   \n",
       "TimeWeekNight_IN_VUL_08         -0.001034       0.037829         -0.004783   \n",
       "VULNERABLE_IN_08                 0.010543       0.122635         -0.022249   \n",
       "...                                   ...            ...               ...   \n",
       "VULNERABLE_IN_10                 0.011976       0.117110         -0.022602   \n",
       "TimeWeekEnd_OUT_VUL_11           0.012038       0.053699         -0.000196   \n",
       "CallsWeekDay_OUT_VUL_11          0.008223       0.065823         -0.010960   \n",
       "CallsWeekNight_OUT_VUL_11        0.007049       0.059060         -0.005953   \n",
       "TimeWeekDay_OUT_VUL_11           0.010300       0.055148         -0.006424   \n",
       "CallsWeekEnd_OUT_VUL_11          0.009668       0.074712         -0.008757   \n",
       "TimeWeekNight_OUT_VUL_11         0.009246       0.036258         -0.001866   \n",
       "VULNERABLE_OUT_11                0.015368       0.116314         -0.017354   \n",
       "TimeWeekEnd_IN_VUL_11            0.005124       0.050888         -0.007158   \n",
       "CallsWeekDay_IN_VUL_11           0.003982       0.066779         -0.012382   \n",
       "CallsWeekNight_IN_VUL_11         0.003407       0.062853         -0.008549   \n",
       "TimeWeekDay_IN_VUL_11            0.004015       0.053912         -0.007131   \n",
       "CallsWeekEnd_IN_VUL_11           0.004737       0.074501         -0.013447   \n",
       "TimeWeekNight_IN_VUL_11          0.004635       0.037154         -0.003493   \n",
       "VULNERABLE_IN_11                 0.014956       0.119430         -0.019737   \n",
       "STATE_Baja_California_Sur       -0.002187      -0.005759         -0.002994   \n",
       "STATE_Colima                    -0.003865      -0.010178         -0.005292   \n",
       "STATE_Guerrero                  -0.007574      -0.019947         -0.010372   \n",
       "STATE_Hidalgo                   -0.012594      -0.033168         -0.017247   \n",
       "STATE_Jalisco                   -0.018636      -0.049079         -0.025520   \n",
       "STATE_Morelos                   -0.010078      -0.026541         -0.013801   \n",
       "STATE_Nayarit                   -0.005140      -0.013538         -0.007039   \n",
       "STATE_Oaxaca                    -0.006097      -0.016057         -0.008349   \n",
       "STATE_Puebla                    -0.012643      -0.033296         -0.017313   \n",
       "STATE_Sinaloa                   -0.004546      -0.011973         -0.006226   \n",
       "STATE_Sonora                     1.000000      -0.008564         -0.004453   \n",
       "STATE_Tabasco                   -0.008564       1.000000         -0.011728   \n",
       "STATE_Tlaxcala                  -0.007484      -0.019711         -0.010249   \n",
       "STATE_Veracruz                  -0.011449      -0.030152         -0.015678   \n",
       "target                           0.033042       0.097822          0.001404   \n",
       "\n",
       "                             STATE_Tlaxcala  STATE_Veracruz  STATE_Yucatan  \\\n",
       "MOBILITY_DIAMETER                 -0.020230        0.056143      -0.028402   \n",
       "MOBILITY_DIAMETER_WEEKNIGHT       -0.024561        0.045788      -0.020893   \n",
       "TimeWeekEnd_OUT_VUL_12            -0.012801        0.025614      -0.025107   \n",
       "CallsWeekDay_OUT_VUL_12           -0.021678        0.043872      -0.040398   \n",
       "CallsWeekNight_OUT_VUL_12         -0.015107        0.038242      -0.031883   \n",
       "TimeWeekDay_OUT_VUL_12            -0.017348        0.032937      -0.033268   \n",
       "CallsWeekEnd_OUT_VUL_12           -0.018324        0.043660      -0.036891   \n",
       "TimeWeekNight_OUT_VUL_12          -0.007925        0.017499      -0.018186   \n",
       "VULNERABLE_OUT_12                 -0.026145        0.134381      -0.075027   \n",
       "TimeWeekEnd_IN_VUL_12             -0.011228        0.027358      -0.021962   \n",
       "CallsWeekDay_IN_VUL_12            -0.020236        0.043597      -0.039504   \n",
       "CallsWeekNight_IN_VUL_12          -0.009823        0.030267      -0.024520   \n",
       "TimeWeekDay_IN_VUL_12             -0.012463        0.030332      -0.030256   \n",
       "CallsWeekEnd_IN_VUL_12            -0.018350        0.043104      -0.035581   \n",
       "TimeWeekNight_IN_VUL_12           -0.003833        0.017159      -0.014400   \n",
       "VULNERABLE_IN_12                  -0.024617        0.134599      -0.074934   \n",
       "TimeWeekEnd_OUT_VUL_08            -0.015248        0.028410      -0.028519   \n",
       "CallsWeekDay_OUT_VUL_08           -0.022751        0.032593      -0.040495   \n",
       "CallsWeekNight_OUT_VUL_08         -0.017726        0.039627      -0.036275   \n",
       "TimeWeekDay_OUT_VUL_08            -0.018606        0.027617      -0.033979   \n",
       "CallsWeekEnd_OUT_VUL_08           -0.021414        0.041013      -0.041754   \n",
       "TimeWeekNight_OUT_VUL_08          -0.010597        0.025016      -0.022466   \n",
       "VULNERABLE_OUT_08                 -0.026968        0.148747      -0.080360   \n",
       "TimeWeekEnd_IN_VUL_08             -0.013054        0.029937      -0.025464   \n",
       "CallsWeekDay_IN_VUL_08            -0.021519        0.033731      -0.040249   \n",
       "CallsWeekNight_IN_VUL_08          -0.016121        0.039496      -0.034610   \n",
       "TimeWeekDay_IN_VUL_08             -0.016531        0.029583      -0.032227   \n",
       "CallsWeekEnd_IN_VUL_08            -0.021457        0.040860      -0.041250   \n",
       "TimeWeekNight_IN_VUL_08           -0.007424        0.027346      -0.019269   \n",
       "VULNERABLE_IN_08                  -0.026665        0.151639      -0.079849   \n",
       "...                                     ...             ...            ...   \n",
       "VULNERABLE_IN_10                  -0.025077        0.138747      -0.077423   \n",
       "TimeWeekEnd_OUT_VUL_11            -0.014707        0.030252      -0.026975   \n",
       "CallsWeekDay_OUT_VUL_11           -0.023576        0.036072      -0.040236   \n",
       "CallsWeekNight_OUT_VUL_11         -0.016122        0.037667      -0.032257   \n",
       "TimeWeekDay_OUT_VUL_11            -0.020273        0.028506      -0.032906   \n",
       "CallsWeekEnd_OUT_VUL_11           -0.022554        0.045631      -0.040238   \n",
       "TimeWeekNight_OUT_VUL_11          -0.009343        0.019533      -0.018292   \n",
       "VULNERABLE_OUT_11                 -0.026227        0.140466      -0.079855   \n",
       "TimeWeekEnd_IN_VUL_11             -0.012170        0.035441      -0.020369   \n",
       "CallsWeekDay_IN_VUL_11            -0.022609        0.038229      -0.038446   \n",
       "CallsWeekNight_IN_VUL_11          -0.015140        0.037204      -0.028359   \n",
       "TimeWeekDay_IN_VUL_11             -0.016852        0.029878      -0.027256   \n",
       "CallsWeekEnd_IN_VUL_11            -0.021488        0.045767      -0.037986   \n",
       "TimeWeekNight_IN_VUL_11           -0.007283        0.019678      -0.011334   \n",
       "VULNERABLE_IN_11                  -0.027826        0.139995      -0.078351   \n",
       "STATE_Baja_California_Sur         -0.005033       -0.007698      -0.006271   \n",
       "STATE_Colima                      -0.008894       -0.013605      -0.011083   \n",
       "STATE_Guerrero                    -0.017431       -0.026664      -0.021720   \n",
       "STATE_Hidalgo                     -0.028986       -0.044339      -0.036117   \n",
       "STATE_Jalisco                     -0.042890       -0.065608      -0.053442   \n",
       "STATE_Morelos                     -0.023194       -0.035480      -0.028901   \n",
       "STATE_Nayarit                     -0.011831       -0.018097      -0.014742   \n",
       "STATE_Oaxaca                      -0.014032       -0.021465      -0.017484   \n",
       "STATE_Puebla                      -0.029097       -0.044510      -0.036256   \n",
       "STATE_Sinaloa                     -0.010463       -0.016006      -0.013038   \n",
       "STATE_Sonora                      -0.007484       -0.011449      -0.009326   \n",
       "STATE_Tabasco                     -0.019711       -0.030152      -0.024561   \n",
       "STATE_Tlaxcala                     1.000000       -0.026350      -0.021464   \n",
       "STATE_Veracruz                    -0.026350        1.000000      -0.032832   \n",
       "target                             0.018983        0.159865      -0.077503   \n",
       "\n",
       "                             STATE_Zacatecas    target  \n",
       "MOBILITY_DIAMETER                  -0.000032  0.015361  \n",
       "MOBILITY_DIAMETER_WEEKNIGHT        -0.006505  0.016656  \n",
       "TimeWeekEnd_OUT_VUL_12             -0.005510  0.187150  \n",
       "CallsWeekDay_OUT_VUL_12            -0.011481  0.279418  \n",
       "CallsWeekNight_OUT_VUL_12          -0.008867  0.235352  \n",
       "TimeWeekDay_OUT_VUL_12             -0.009946  0.230834  \n",
       "CallsWeekEnd_OUT_VUL_12            -0.010454  0.267177  \n",
       "TimeWeekNight_OUT_VUL_12           -0.004133  0.145748  \n",
       "VULNERABLE_OUT_12                  -0.020206  0.504878  \n",
       "TimeWeekEnd_IN_VUL_12              -0.005557  0.177470  \n",
       "CallsWeekDay_IN_VUL_12             -0.011129  0.273819  \n",
       "CallsWeekNight_IN_VUL_12           -0.006763  0.184052  \n",
       "TimeWeekDay_IN_VUL_12              -0.008103  0.215442  \n",
       "CallsWeekEnd_IN_VUL_12             -0.010177  0.262286  \n",
       "TimeWeekNight_IN_VUL_12            -0.004886  0.131285  \n",
       "VULNERABLE_IN_12                   -0.020451  0.502233  \n",
       "TimeWeekEnd_OUT_VUL_08             -0.009622  0.214157  \n",
       "CallsWeekDay_OUT_VUL_08            -0.011467  0.286882  \n",
       "CallsWeekNight_OUT_VUL_08          -0.009023  0.257172  \n",
       "TimeWeekDay_OUT_VUL_08             -0.009818  0.242599  \n",
       "CallsWeekEnd_OUT_VUL_08            -0.012701  0.305565  \n",
       "TimeWeekNight_OUT_VUL_08           -0.005576  0.160107  \n",
       "VULNERABLE_OUT_08                  -0.022271  0.553433  \n",
       "TimeWeekEnd_IN_VUL_08              -0.009484  0.208130  \n",
       "CallsWeekDay_IN_VUL_08             -0.011299  0.293270  \n",
       "CallsWeekNight_IN_VUL_08           -0.009173  0.258202  \n",
       "TimeWeekDay_IN_VUL_08              -0.009644  0.240371  \n",
       "CallsWeekEnd_IN_VUL_08             -0.013064  0.312782  \n",
       "TimeWeekNight_IN_VUL_08            -0.004364  0.150194  \n",
       "VULNERABLE_IN_08                   -0.023927  0.557346  \n",
       "...                                      ...       ...  \n",
       "VULNERABLE_IN_10                   -0.021489  0.520825  \n",
       "TimeWeekEnd_OUT_VUL_11             -0.008445  0.199922  \n",
       "CallsWeekDay_OUT_VUL_11            -0.011892  0.269787  \n",
       "CallsWeekNight_OUT_VUL_11          -0.008405  0.231453  \n",
       "TimeWeekDay_OUT_VUL_11             -0.010409  0.229051  \n",
       "CallsWeekEnd_OUT_VUL_11            -0.012257  0.282377  \n",
       "TimeWeekNight_OUT_VUL_11           -0.004873  0.149167  \n",
       "VULNERABLE_OUT_11                  -0.023784  0.514899  \n",
       "TimeWeekEnd_IN_VUL_11              -0.008309  0.188368  \n",
       "CallsWeekDay_IN_VUL_11             -0.011912  0.269037  \n",
       "CallsWeekNight_IN_VUL_11           -0.008441  0.220362  \n",
       "TimeWeekDay_IN_VUL_11              -0.009540  0.211310  \n",
       "CallsWeekEnd_IN_VUL_11             -0.012361  0.281145  \n",
       "TimeWeekNight_IN_VUL_11            -0.003224  0.124256  \n",
       "VULNERABLE_IN_11                   -0.020192  0.518382  \n",
       "STATE_Baja_California_Sur          -0.001975  0.027576  \n",
       "STATE_Colima                       -0.003490  0.013981  \n",
       "STATE_Guerrero                     -0.006840  0.055427  \n",
       "STATE_Hidalgo                      -0.011374  0.106452  \n",
       "STATE_Jalisco                      -0.016830  0.257917  \n",
       "STATE_Morelos                      -0.009102  0.103684  \n",
       "STATE_Nayarit                      -0.004643  0.012052  \n",
       "STATE_Oaxaca                       -0.005506  0.050927  \n",
       "STATE_Puebla                       -0.011418  0.140990  \n",
       "STATE_Sinaloa                      -0.004106  0.037676  \n",
       "STATE_Sonora                       -0.002937  0.033042  \n",
       "STATE_Tabasco                      -0.007735  0.097822  \n",
       "STATE_Tlaxcala                     -0.006760  0.018983  \n",
       "STATE_Veracruz                     -0.010340  0.159865  \n",
       "target                             -0.019155  1.000000  \n",
       "\n",
       "[87 rows x 33 columns]"
      ]
     },
     "metadata": {},
     "output_type": "display_data"
    }
   ],
   "source": [
    "## show correlation between state and target\n",
    "\n",
    "if not 'STATE' in exclude_cols:    \n",
    "    state_cols = [col for col in corr if 'STATE' in col]\n",
    "    view = corr[state_cols + [target_col]]\n",
    "    display(view.query('target > 0.01'))\n"
   ]
  },
  {
   "cell_type": "code",
   "execution_count": 155,
   "metadata": {},
   "outputs": [
    {
     "data": {
      "text/plain": [
       "0.338018649204538"
      ]
     },
     "execution_count": 155,
     "metadata": {},
     "output_type": "execute_result"
    }
   ],
   "source": [
    "a=data['EPIDEMIC_gt'].sum();b= data.shape[0]\n",
    "a*1.0/b"
   ]
  },
  {
   "cell_type": "code",
   "execution_count": 156,
   "metadata": {},
   "outputs": [
    {
     "data": {
      "text/plain": [
       "0.30810144645521176"
      ]
     },
     "execution_count": 156,
     "metadata": {},
     "output_type": "execute_result"
    }
   ],
   "source": [
    "a=val_set['EPIDEMIC'].sum();b= val_set.shape[0]\n",
    "a*1.0/b"
   ]
  },
  {
   "cell_type": "code",
   "execution_count": 157,
   "metadata": {
    "collapsed": true,
    "scrolled": true
   },
   "outputs": [],
   "source": [
    "# cast to numpy types if necessary\n",
    "# %%time\n",
    "# X = X.to_dataframe()\n",
    "# Y = pd.Series(data=Y.to_numpy(),dtype=np.bool,name = 'EPIDEMIC_gt')\n",
    "# X_val = X_val.to_dataframe()\n",
    "# Y_val = pd.Series(data=Y_val.to_numpy(),dtype=np.bool,name = 'EPIDEMIC_gt')"
   ]
  },
  {
   "cell_type": "markdown",
   "metadata": {},
   "source": [
    "# Instance fast model with MNB\n",
    "#### convertimos la data en numpy, previamente limpiando las columnas de antennas ya que el clasificador no acepta strings"
   ]
  },
  {
   "cell_type": "code",
   "execution_count": 158,
   "metadata": {},
   "outputs": [],
   "source": [
    "from sklearn.naive_bayes import MultinomialNB\n",
    "\n",
    "from sklearn.naive_bayes import *\n",
    "from sklearn.metrics import *\n",
    "# from sklearn.cross_validation import *\n",
    "from sklearn.model_selection import (GridSearchCV, RandomizedSearchCV, \n",
    "                                     train_test_split, KFold, cross_val_predict, \n",
    "                                     cross_val_score, learning_curve, validation_curve\n",
    "                                    )"
   ]
  },
  {
   "cell_type": "markdown",
   "metadata": {},
   "source": [
    "## remember the Multinomail NB assumes no negative values\n",
    "are present in the dataset as this must be `count` data"
   ]
  },
  {
   "cell_type": "code",
   "execution_count": 159,
   "metadata": {
    "scrolled": true
   },
   "outputs": [
    {
     "name": "stdout",
     "output_type": "stream",
     "text": [
      "Fitting 3 folds for each of 8 candidates, totalling 24 fits\n",
      "[CV] alpha=0.001, fit_prior=True .....................................\n",
      "[CV] alpha=0.001, fit_prior=True .....................................\n",
      "[CV] alpha=0.001, fit_prior=True .....................................\n",
      "[CV] ...... alpha=0.001, fit_prior=True, score=0.785322, total=   0.7s\n",
      "[CV] alpha=0.001, fit_prior=False ....................................\n",
      "[CV] ...... alpha=0.001, fit_prior=True, score=0.957841, total=   0.7s\n"
     ]
    },
    {
     "name": "stderr",
     "output_type": "stream",
     "text": [
      "[Parallel(n_jobs=-1)]: Done   2 out of  24 | elapsed:    2.2s remaining:   24.4s\n"
     ]
    },
    {
     "name": "stdout",
     "output_type": "stream",
     "text": [
      "[CV] alpha=0.001, fit_prior=False ....................................\n",
      "[CV] ...... alpha=0.001, fit_prior=True, score=0.746840, total=   0.8s\n",
      "[CV] alpha=0.001, fit_prior=False ....................................\n",
      "[CV] ..... alpha=0.001, fit_prior=False, score=0.785096, total=   0.7s\n",
      "[CV] alpha=0.1, fit_prior=True .......................................\n",
      "[CV] ..... alpha=0.001, fit_prior=False, score=0.957841, total=   0.7s\n",
      "[CV] alpha=0.1, fit_prior=True .......................................\n",
      "[CV] ..... alpha=0.001, fit_prior=False, score=0.746840, total=   0.8s\n",
      "[CV] alpha=0.1, fit_prior=True .......................................\n",
      "[CV] ........ alpha=0.1, fit_prior=True, score=0.785322, total=   0.8s\n",
      "[CV] alpha=0.1, fit_prior=False ......................................\n",
      "[CV] ........ alpha=0.1, fit_prior=True, score=0.957841, total=   0.8s\n",
      "[CV] alpha=0.1, fit_prior=False ......................................\n",
      "[CV] ........ alpha=0.1, fit_prior=True, score=0.746840, total=   0.7s\n",
      "[CV] alpha=0.1, fit_prior=False ......................................\n",
      "[CV] ....... alpha=0.1, fit_prior=False, score=0.785096, total=   0.8s\n",
      "[CV] alpha=10.0, fit_prior=True ......................................\n",
      "[CV] ....... alpha=0.1, fit_prior=False, score=0.957841, total=   0.8s\n",
      "[CV] alpha=10.0, fit_prior=True ......................................\n"
     ]
    },
    {
     "name": "stderr",
     "output_type": "stream",
     "text": [
      "[Parallel(n_jobs=-1)]: Done  11 out of  24 | elapsed:    6.5s remaining:    7.6s\n"
     ]
    },
    {
     "name": "stdout",
     "output_type": "stream",
     "text": [
      "[CV] ....... alpha=0.1, fit_prior=False, score=0.746840, total=   0.8s\n",
      "[CV] alpha=10.0, fit_prior=True ......................................\n",
      "[CV] ....... alpha=10.0, fit_prior=True, score=0.785302, total=   0.8s\n",
      "[CV] alpha=10.0, fit_prior=False .....................................\n",
      "[CV] ....... alpha=10.0, fit_prior=True, score=0.957841, total=   0.8s\n",
      "[CV] alpha=10.0, fit_prior=False .....................................\n",
      "[CV] ....... alpha=10.0, fit_prior=True, score=0.746840, total=   0.8s\n",
      "[CV] alpha=10.0, fit_prior=False .....................................\n",
      "[CV] ...... alpha=10.0, fit_prior=False, score=0.785096, total=   0.8s\n",
      "[CV] alpha=1.0, fit_prior=True .......................................\n",
      "[CV] ...... alpha=10.0, fit_prior=False, score=0.957841, total=   0.8s\n",
      "[CV] alpha=1.0, fit_prior=True .......................................\n",
      "[CV] ...... alpha=10.0, fit_prior=False, score=0.746840, total=   0.8s\n",
      "[CV] alpha=1.0, fit_prior=True .......................................\n",
      "[CV] ........ alpha=1.0, fit_prior=True, score=0.785322, total=   0.8s\n",
      "[CV] alpha=1.0, fit_prior=False ......................................\n",
      "[CV] ........ alpha=1.0, fit_prior=True, score=0.957841, total=   0.8s\n",
      "[CV] alpha=1.0, fit_prior=False ......................................\n"
     ]
    },
    {
     "name": "stderr",
     "output_type": "stream",
     "text": [
      "[Parallel(n_jobs=-1)]: Done  20 out of  24 | elapsed:   10.4s remaining:    2.1s\n"
     ]
    },
    {
     "name": "stdout",
     "output_type": "stream",
     "text": [
      "[CV] ........ alpha=1.0, fit_prior=True, score=0.746840, total=   0.8s\n",
      "[CV] alpha=1.0, fit_prior=False ......................................\n",
      "[CV] ....... alpha=1.0, fit_prior=False, score=0.785096, total=   0.7s\n",
      "[CV] ....... alpha=1.0, fit_prior=False, score=0.957841, total=   0.7s\n",
      "[CV] ....... alpha=1.0, fit_prior=False, score=0.746840, total=   0.7s\n"
     ]
    },
    {
     "name": "stderr",
     "output_type": "stream",
     "text": [
      "[Parallel(n_jobs=-1)]: Done  24 out of  24 | elapsed:   12.0s finished\n"
     ]
    },
    {
     "name": "stdout",
     "output_type": "stream",
     "text": [
      "Grid Search took 13.9949519634 seconds to run\n",
      "\n",
      " Best estimator was MultinomialNB(alpha=0.001, class_prior=None, fit_prior=True) \n",
      "\n",
      "\n",
      " Best estimator was 0.830000911959 \n",
      "\n"
     ]
    },
    {
     "name": "stderr",
     "output_type": "stream",
     "text": [
      "/home/juan/mfixman/venv/local/lib/python2.7/site-packages/sklearn/model_selection/_search.py:667: DeprecationWarning: The grid_scores_ attribute was deprecated in version 0.18 in favor of the more elaborate cv_results_ attribute. The grid_scores_ attribute will not be available from 0.20\n",
      "  DeprecationWarning)\n",
      "/home/juan/mfixman/venv/local/lib/python2.7/site-packages/sklearn/model_selection/_search.py:667: DeprecationWarning: The grid_scores_ attribute was deprecated in version 0.18 in favor of the more elaborate cv_results_ attribute. The grid_scores_ attribute will not be available from 0.20\n",
      "  DeprecationWarning)\n",
      "/home/juan/mfixman/venv/local/lib/python2.7/site-packages/sklearn/model_selection/_search.py:667: DeprecationWarning: The grid_scores_ attribute was deprecated in version 0.18 in favor of the more elaborate cv_results_ attribute. The grid_scores_ attribute will not be available from 0.20\n",
      "  DeprecationWarning)\n",
      "/home/juan/mfixman/venv/local/lib/python2.7/site-packages/sklearn/model_selection/_search.py:667: DeprecationWarning: The grid_scores_ attribute was deprecated in version 0.18 in favor of the more elaborate cv_results_ attribute. The grid_scores_ attribute will not be available from 0.20\n",
      "  DeprecationWarning)\n",
      "/home/juan/mfixman/venv/local/lib/python2.7/site-packages/sklearn/model_selection/_search.py:667: DeprecationWarning: The grid_scores_ attribute was deprecated in version 0.18 in favor of the more elaborate cv_results_ attribute. The grid_scores_ attribute will not be available from 0.20\n",
      "  DeprecationWarning)\n",
      "/home/juan/mfixman/venv/local/lib/python2.7/site-packages/sklearn/model_selection/_search.py:667: DeprecationWarning: The grid_scores_ attribute was deprecated in version 0.18 in favor of the more elaborate cv_results_ attribute. The grid_scores_ attribute will not be available from 0.20\n",
      "  DeprecationWarning)\n",
      "/home/juan/mfixman/venv/local/lib/python2.7/site-packages/sklearn/model_selection/_search.py:667: DeprecationWarning: The grid_scores_ attribute was deprecated in version 0.18 in favor of the more elaborate cv_results_ attribute. The grid_scores_ attribute will not be available from 0.20\n",
      "  DeprecationWarning)\n",
      "/home/juan/mfixman/venv/local/lib/python2.7/site-packages/sklearn/model_selection/_search.py:667: DeprecationWarning: The grid_scores_ attribute was deprecated in version 0.18 in favor of the more elaborate cv_results_ attribute. The grid_scores_ attribute will not be available from 0.20\n",
      "  DeprecationWarning)\n",
      "/home/juan/mfixman/venv/local/lib/python2.7/site-packages/sklearn/model_selection/_search.py:667: DeprecationWarning: The grid_scores_ attribute was deprecated in version 0.18 in favor of the more elaborate cv_results_ attribute. The grid_scores_ attribute will not be available from 0.20\n",
      "  DeprecationWarning)\n",
      "/home/juan/mfixman/venv/local/lib/python2.7/site-packages/sklearn/model_selection/_search.py:667: DeprecationWarning: The grid_scores_ attribute was deprecated in version 0.18 in favor of the more elaborate cv_results_ attribute. The grid_scores_ attribute will not be available from 0.20\n",
      "  DeprecationWarning)\n",
      "/home/juan/mfixman/venv/local/lib/python2.7/site-packages/sklearn/model_selection/_search.py:667: DeprecationWarning: The grid_scores_ attribute was deprecated in version 0.18 in favor of the more elaborate cv_results_ attribute. The grid_scores_ attribute will not be available from 0.20\n",
      "  DeprecationWarning)\n",
      "/home/juan/mfixman/venv/local/lib/python2.7/site-packages/sklearn/model_selection/_search.py:667: DeprecationWarning: The grid_scores_ attribute was deprecated in version 0.18 in favor of the more elaborate cv_results_ attribute. The grid_scores_ attribute will not be available from 0.20\n",
      "  DeprecationWarning)\n",
      "/home/juan/mfixman/venv/local/lib/python2.7/site-packages/sklearn/model_selection/_search.py:667: DeprecationWarning: The grid_scores_ attribute was deprecated in version 0.18 in favor of the more elaborate cv_results_ attribute. The grid_scores_ attribute will not be available from 0.20\n",
      "  DeprecationWarning)\n",
      "/home/juan/mfixman/venv/local/lib/python2.7/site-packages/sklearn/model_selection/_search.py:667: DeprecationWarning: The grid_scores_ attribute was deprecated in version 0.18 in favor of the more elaborate cv_results_ attribute. The grid_scores_ attribute will not be available from 0.20\n",
      "  DeprecationWarning)\n",
      "/home/juan/mfixman/venv/local/lib/python2.7/site-packages/sklearn/model_selection/_search.py:667: DeprecationWarning: The grid_scores_ attribute was deprecated in version 0.18 in favor of the more elaborate cv_results_ attribute. The grid_scores_ attribute will not be available from 0.20\n",
      "  DeprecationWarning)\n",
      "/home/juan/mfixman/venv/local/lib/python2.7/site-packages/sklearn/model_selection/_search.py:667: DeprecationWarning: The grid_scores_ attribute was deprecated in version 0.18 in favor of the more elaborate cv_results_ attribute. The grid_scores_ attribute will not be available from 0.20\n",
      "  DeprecationWarning)\n",
      "/home/juan/mfixman/venv/local/lib/python2.7/site-packages/sklearn/model_selection/_search.py:667: DeprecationWarning: The grid_scores_ attribute was deprecated in version 0.18 in favor of the more elaborate cv_results_ attribute. The grid_scores_ attribute will not be available from 0.20\n",
      "  DeprecationWarning)\n",
      "/home/juan/mfixman/venv/local/lib/python2.7/site-packages/sklearn/model_selection/_search.py:667: DeprecationWarning: The grid_scores_ attribute was deprecated in version 0.18 in favor of the more elaborate cv_results_ attribute. The grid_scores_ attribute will not be available from 0.20\n",
      "  DeprecationWarning)\n"
     ]
    },
    {
     "name": "stdout",
     "output_type": "stream",
     "text": [
      "             precision    recall  f1-score   support\n",
      "\n",
      "      False       0.87      0.88      0.88     10217\n",
      "       True       0.76      0.75      0.75      5200\n",
      "\n",
      "avg / total       0.83      0.83      0.83     15417\n",
      "\n",
      "CPU times: user 11.8 s, sys: 1.56 s, total: 13.3 s\n",
      "Wall time: 14.5 s\n"
     ]
    }
   ],
   "source": [
    "%%time\n",
    "start_time = time.time()\n",
    "param_grid = {'alpha':[1e-3, 1e-1, 1e1,1e0], 'fit_prior': [True,False],\n",
    "             }\n",
    "\n",
    "mnb  = MultinomialNB( )\n",
    "\n",
    "clf = GridSearchCV(mnb, param_grid, scoring='f1_weighted', fit_params=None, n_jobs=-1, iid=True, refit=True, \n",
    "verbose=3, pre_dispatch='2*n_jobs', error_score='raise')\n",
    "\n",
    "clf2 = MultinomialNB( )\n",
    "#how many parameters to randomly search for\n",
    "#n_iter_search = 45\n",
    "\n",
    "#random_search = RandomizedSearchCV(rforest, param_distributions=param_grid,\n",
    "                                 #  n_iter=n_iter_search, n_jobs =8, verbose=3)\n",
    "\n",
    "elapsed_time =  time.time() - start_time\n",
    "\n",
    "#Y = categorical(train_table_target.values, drop=True).astype(int)\n",
    "\n",
    "clf.fit(X,Y)\n",
    "\n",
    "elapsed_time =   time.time() - start_time \n",
    "\n",
    "print('Grid Search took %s seconds to run' % (elapsed_time))\n",
    "\n",
    "cv_result = pd.DataFrame(columns=['mean_score' ] + [key for key, value in clf.grid_scores_[0].parameters.items() ] )\n",
    "i=0\n",
    "for setup in clf.grid_scores_:\n",
    "    row = [clf.grid_scores_[i].mean_validation_score ] + [value for key, value in clf.grid_scores_[i].parameters.items() ]\n",
    "    cv_result.loc[i] = row\n",
    "    i+=1\n",
    "\n",
    "\n",
    "#este flag es basicamente para chequear que hayamos terminado nomas\n",
    "finished = True\n",
    "\n",
    "print('\\n Best estimator was %s \\n' % str(clf.best_estimator_))\n",
    "print('\\n Best estimator was %s \\n' % str(clf.best_score_))\n",
    "\n",
    "clf2.set_params(**clf.best_params_)\n",
    "\n",
    "clf2.fit(X,Y)\n",
    "\n",
    "\n",
    "#converted_dict = evaluation_print(clf, X_val, test_table_target.values, test_table.index.values, \n",
    "#                              test_table_target[test_table_target>0].index.values,start_date,future)\n",
    "\n",
    "print(classification_report(Y_val,clf2.predict(X_val)))"
   ]
  },
  {
   "cell_type": "code",
   "execution_count": 160,
   "metadata": {},
   "outputs": [
    {
     "data": {
      "text/plain": [
       "0.81434681827421873"
      ]
     },
     "execution_count": 160,
     "metadata": {},
     "output_type": "execute_result"
    }
   ],
   "source": [
    "roc_auc_score(Y_val,clf2.predict(X_val))"
   ]
  },
  {
   "cell_type": "code",
   "execution_count": 178,
   "metadata": {},
   "outputs": [
    {
     "data": {
      "text/plain": [
       "((137593,), 46509, {'alpha': 0.001, 'fit_prior': True})"
      ]
     },
     "execution_count": 178,
     "metadata": {},
     "output_type": "execute_result"
    }
   ],
   "source": [
    "Y.shape, Y.sum(), clf.best_params_"
   ]
  },
  {
   "cell_type": "code",
   "execution_count": 162,
   "metadata": {},
   "outputs": [
    {
     "data": {
      "text/plain": [
       "0.33729000454044239"
      ]
     },
     "execution_count": 162,
     "metadata": {},
     "output_type": "execute_result"
    }
   ],
   "source": [
    "Y_val.sum()*1.0/Y_val.size"
   ]
  },
  {
   "cell_type": "code",
   "execution_count": 163,
   "metadata": {},
   "outputs": [
    {
     "data": {
      "text/plain": [
       "0.81434681827421873"
      ]
     },
     "execution_count": 163,
     "metadata": {},
     "output_type": "execute_result"
    }
   ],
   "source": [
    "roc_auc_score(Y_val,clf2.predict(X_val))"
   ]
  },
  {
   "cell_type": "code",
   "execution_count": null,
   "metadata": {
    "collapsed": true
   },
   "outputs": [],
   "source": []
  },
  {
   "cell_type": "code",
   "execution_count": 177,
   "metadata": {},
   "outputs": [
    {
     "data": {
      "text/html": [
       "<div>\n",
       "<style>\n",
       "    .dataframe thead tr:only-child th {\n",
       "        text-align: right;\n",
       "    }\n",
       "\n",
       "    .dataframe thead th {\n",
       "        text-align: left;\n",
       "    }\n",
       "\n",
       "    .dataframe tbody tr th {\n",
       "        vertical-align: top;\n",
       "    }\n",
       "</style>\n",
       "<table border=\"1\" class=\"dataframe\">\n",
       "  <thead>\n",
       "    <tr style=\"text-align: right;\">\n",
       "      <th></th>\n",
       "      <th>mean</th>\n",
       "      <th>std</th>\n",
       "    </tr>\n",
       "    <tr>\n",
       "      <th>alpha</th>\n",
       "      <th></th>\n",
       "      <th></th>\n",
       "    </tr>\n",
       "  </thead>\n",
       "  <tbody>\n",
       "    <tr>\n",
       "      <th>0.001</th>\n",
       "      <td>0.829963</td>\n",
       "      <td>0.000053</td>\n",
       "    </tr>\n",
       "    <tr>\n",
       "      <th>0.100</th>\n",
       "      <td>0.829963</td>\n",
       "      <td>0.000053</td>\n",
       "    </tr>\n",
       "    <tr>\n",
       "      <th>1.000</th>\n",
       "      <td>0.829963</td>\n",
       "      <td>0.000053</td>\n",
       "    </tr>\n",
       "    <tr>\n",
       "      <th>10.000</th>\n",
       "      <td>0.829960</td>\n",
       "      <td>0.000049</td>\n",
       "    </tr>\n",
       "  </tbody>\n",
       "</table>\n",
       "</div>"
      ],
      "text/plain": [
       "            mean       std\n",
       "alpha                     \n",
       "0.001   0.829963  0.000053\n",
       "0.100   0.829963  0.000053\n",
       "1.000   0.829963  0.000053\n",
       "10.000  0.829960  0.000049"
      ]
     },
     "metadata": {},
     "output_type": "display_data"
    },
    {
     "data": {
      "text/html": [
       "<div>\n",
       "<style>\n",
       "    .dataframe thead tr:only-child th {\n",
       "        text-align: right;\n",
       "    }\n",
       "\n",
       "    .dataframe thead th {\n",
       "        text-align: left;\n",
       "    }\n",
       "\n",
       "    .dataframe tbody tr th {\n",
       "        vertical-align: top;\n",
       "    }\n",
       "</style>\n",
       "<table border=\"1\" class=\"dataframe\">\n",
       "  <thead>\n",
       "    <tr style=\"text-align: right;\">\n",
       "      <th></th>\n",
       "      <th>mean</th>\n",
       "      <th>std</th>\n",
       "    </tr>\n",
       "    <tr>\n",
       "      <th>fit_prior</th>\n",
       "      <th></th>\n",
       "      <th></th>\n",
       "    </tr>\n",
       "  </thead>\n",
       "  <tbody>\n",
       "    <tr>\n",
       "      <th>False</th>\n",
       "      <td>0.829925</td>\n",
       "      <td>0.000000</td>\n",
       "    </tr>\n",
       "    <tr>\n",
       "      <th>True</th>\n",
       "      <td>0.829999</td>\n",
       "      <td>0.000003</td>\n",
       "    </tr>\n",
       "  </tbody>\n",
       "</table>\n",
       "</div>"
      ],
      "text/plain": [
       "               mean       std\n",
       "fit_prior                    \n",
       "False      0.829925  0.000000\n",
       "True       0.829999  0.000003"
      ]
     },
     "metadata": {},
     "output_type": "display_data"
    }
   ],
   "source": [
    "for col in cv_result.columns:\n",
    "    if col != 'mean_score':\n",
    "        df = cv_result.groupby(col)['mean_score'].mean().to_frame().copy()\n",
    "        df.columns = ['mean']\n",
    "        df['std'] = cv_result.groupby(col)['mean_score'].std()\n",
    "\n",
    "        display(df)"
   ]
  },
  {
   "cell_type": "code",
   "execution_count": null,
   "metadata": {
    "collapsed": true
   },
   "outputs": [],
   "source": []
  },
  {
   "cell_type": "code",
   "execution_count": null,
   "metadata": {
    "collapsed": true
   },
   "outputs": [],
   "source": []
  },
  {
   "cell_type": "markdown",
   "metadata": {},
   "source": [
    "## now graphlab models "
   ]
  },
  {
   "cell_type": "code",
   "execution_count": 179,
   "metadata": {
    "collapsed": true
   },
   "outputs": [],
   "source": [
    "from graphlab import random_forest_classifier, boosted_trees_classifier, logistic_classifier, decision_tree_classifier\n",
    "from graphlab.toolkits import cross_validation, model_parameter_search"
   ]
  },
  {
   "cell_type": "markdown",
   "metadata": {},
   "source": [
    "# get kfolds"
   ]
  },
  {
   "cell_type": "code",
   "execution_count": 181,
   "metadata": {
    "scrolled": true
   },
   "outputs": [
    {
     "name": "stdout",
     "output_type": "stream",
     "text": [
      "CPU times: user 8.59 s, sys: 792 ms, total: 9.38 s\n",
      "Wall time: 6.38 s\n"
     ]
    }
   ],
   "source": [
    "%%time\n",
    "num_folds = 10\n",
    "\n",
    "target_col = 'target'\n",
    "if graphlab_frame:   \n",
    "    X[target_col] = Y\n",
    "    X_val[target_col] = Y_val\n",
    "    kfold = cross_validation.KFold(\n",
    "    X,num_folds=num_folds)\n",
    "else:\n",
    "    X_gl= gl.SFrame(X)\n",
    "    Y_gl = gl.SArray(Y)\n",
    "    X_val_gl= gl.SFrame(X_val)\n",
    "    Y_val_gl = gl.SArray(Y_val)\n",
    "    X_gl[target_col] = Y_gl\n",
    "    X_val_gl[target_col] = Y_val_gl\n",
    "    \n",
    "    kfold = cross_validation.KFold(\n",
    "    X_gl,num_folds=num_folds)"
   ]
  },
  {
   "cell_type": "markdown",
   "metadata": {},
   "source": [
    "## RandomForest \n",
    "HyperParams Grid Search"
   ]
  },
  {
   "cell_type": "code",
   "execution_count": null,
   "metadata": {
    "collapsed": true
   },
   "outputs": [],
   "source": [
    "\n",
    "param_grid = {\n",
    "    \"target\":target_col,\n",
    "    \n",
    "    'metric': [\n",
    "                'auc',\n",
    "                'log_loss',\n",
    "                 ], \n",
    "    \n",
    "    'max_iterations': [\n",
    "                    50,\n",
    "                    100,\n",
    "                    150,\n",
    "                    200,\n",
    "                    ],\n",
    "    \n",
    "  'column_subsample': [\n",
    "                  np.sqrt(X_gl.shape[1])/X_gl.shape[1],\n",
    "                  np.log2(X_gl.shape[1])/X_gl.shape[1],\n",
    "                  0.5,\n",
    "                  0.1,\n",
    "                  ], \n",
    "#     \"bootstrap\": [ \n",
    "#                 False,\n",
    "#                 True,\n",
    "#                     ],\n",
    "#     \"min_child_weight\": np.append(np.random.randint(3,15,3),[3]),\n",
    "    'max_depth':[\n",
    "                 3,\n",
    "                 6,\n",
    "                 9,\n",
    "                 12,\n",
    "                ], \n",
    "   \"class_weights\": [\n",
    "#                    'balanced',\n",
    "                   None,\n",
    "                   ],\n",
    "#     \"validation_set\": X_val_gl,\n",
    "              }\n",
    "\n",
    "model_factory = random_forest_classifier.create"
   ]
  },
  {
   "cell_type": "code",
   "execution_count": null,
   "metadata": {
    "collapsed": true
   },
   "outputs": [],
   "source": []
  },
  {
   "cell_type": "code",
   "execution_count": null,
   "metadata": {
    "scrolled": true
   },
   "outputs": [
    {
     "name": "stderr",
     "output_type": "stream",
     "text": [
      "[INFO] graphlab.deploy.job: Validating job.\n",
      "[INFO] graphlab.deploy.map_job: Validation complete. Job: 'Model-Parameter-Search-May-25-2017-18-16-0900000' ready for execution\n"
     ]
    }
   ],
   "source": [
    "%%time\n",
    "start_time = time.time()\n",
    "model_search = model_parameter_search.create( datasets = kfold, \n",
    "                                             #[data, val_set],\n",
    "                                             model_factory = model_factory,\n",
    "                                            model_parameters = param_grid, \n",
    "                                             perform_trial_run = True,\n",
    "                                            )\n",
    "\n",
    "search_results = model_search.get_results()\n",
    "\n",
    "all_time = start_time - time.time()"
   ]
  },
  {
   "cell_type": "code",
   "execution_count": null,
   "metadata": {
    "scrolled": true
   },
   "outputs": [],
   "source": [
    "res = model_search.get_metrics()\n",
    "res"
   ]
  },
  {
   "cell_type": "code",
   "execution_count": null,
   "metadata": {},
   "outputs": [],
   "source": [
    "search_results.shape"
   ]
  },
  {
   "cell_type": "code",
   "execution_count": null,
   "metadata": {
    "scrolled": true
   },
   "outputs": [],
   "source": [
    "for col in [col for col in search_results.column_names() if \\\n",
    "            not('accuracy' in col) and col!= 'model_id' and col!= 'random_seed' and col!= 'fold_id' \\\n",
    "                               and col!= 'num_folds']:\n",
    "    print(search_results.groupby(col,\n",
    "                             {'mean':gl.aggregate.MEAN('mean_training_accuracy'),\n",
    "                                'std':gl.aggregate.STD('mean_training_accuracy')}))"
   ]
  },
  {
   "cell_type": "markdown",
   "metadata": {},
   "source": [
    "### Refit best model for feature importance"
   ]
  },
  {
   "cell_type": "code",
   "execution_count": null,
   "metadata": {
    "collapsed": true
   },
   "outputs": [],
   "source": [
    "params = model_search.get_best_params()"
   ]
  },
  {
   "cell_type": "code",
   "execution_count": null,
   "metadata": {
    "scrolled": true
   },
   "outputs": [],
   "source": [
    "params"
   ]
  },
  {
   "cell_type": "code",
   "execution_count": 40,
   "metadata": {
    "collapsed": true
   },
   "outputs": [],
   "source": [
    "## manually insert params if needed\n",
    "params = {'class_weights': None,\n",
    " 'column_subsample': 0.5,\n",
    " 'max_depth': 12,\n",
    " 'max_iterations': 150,\n",
    " 'metric': 'auc',\n",
    " 'min_child_weight': 8,\n",
    " 'min_loss_reduction': 10,\n",
    " 'row_subsample': 0.9,\n",
    " 'target': target_col}"
   ]
  },
  {
   "cell_type": "code",
   "execution_count": 41,
   "metadata": {
    "scrolled": true
   },
   "outputs": [
    {
     "data": {
      "text/html": [
       "<pre>Random forest classifier:</pre>"
      ],
      "text/plain": [
       "Random forest classifier:"
      ]
     },
     "metadata": {},
     "output_type": "display_data"
    },
    {
     "data": {
      "text/html": [
       "<pre>--------------------------------------------------------</pre>"
      ],
      "text/plain": [
       "--------------------------------------------------------"
      ]
     },
     "metadata": {},
     "output_type": "display_data"
    },
    {
     "data": {
      "text/html": [
       "<pre>Number of examples          : 137593</pre>"
      ],
      "text/plain": [
       "Number of examples          : 137593"
      ]
     },
     "metadata": {},
     "output_type": "display_data"
    },
    {
     "data": {
      "text/html": [
       "<pre>Number of classes           : 2</pre>"
      ],
      "text/plain": [
       "Number of classes           : 2"
      ]
     },
     "metadata": {},
     "output_type": "display_data"
    },
    {
     "data": {
      "text/html": [
       "<pre>Number of feature columns   : 185</pre>"
      ],
      "text/plain": [
       "Number of feature columns   : 185"
      ]
     },
     "metadata": {},
     "output_type": "display_data"
    },
    {
     "data": {
      "text/html": [
       "<pre>Number of unpacked features : 185</pre>"
      ],
      "text/plain": [
       "Number of unpacked features : 185"
      ]
     },
     "metadata": {},
     "output_type": "display_data"
    },
    {
     "data": {
      "text/html": [
       "<pre>+-----------+--------------+--------------+----------------+</pre>"
      ],
      "text/plain": [
       "+-----------+--------------+--------------+----------------+"
      ]
     },
     "metadata": {},
     "output_type": "display_data"
    },
    {
     "data": {
      "text/html": [
       "<pre>| Iteration | Elapsed Time | Training-auc | Validation-auc |</pre>"
      ],
      "text/plain": [
       "| Iteration | Elapsed Time | Training-auc | Validation-auc |"
      ]
     },
     "metadata": {},
     "output_type": "display_data"
    },
    {
     "data": {
      "text/html": [
       "<pre>+-----------+--------------+--------------+----------------+</pre>"
      ],
      "text/plain": [
       "+-----------+--------------+--------------+----------------+"
      ]
     },
     "metadata": {},
     "output_type": "display_data"
    },
    {
     "data": {
      "text/html": [
       "<pre>| 1         | 0.917271     | 0.895542     | 0.882673       |</pre>"
      ],
      "text/plain": [
       "| 1         | 0.917271     | 0.895542     | 0.882673       |"
      ]
     },
     "metadata": {},
     "output_type": "display_data"
    },
    {
     "data": {
      "text/html": [
       "<pre>| 2         | 1.787522     | 0.904126     | 0.891201       |</pre>"
      ],
      "text/plain": [
       "| 2         | 1.787522     | 0.904126     | 0.891201       |"
      ]
     },
     "metadata": {},
     "output_type": "display_data"
    },
    {
     "data": {
      "text/html": [
       "<pre>| 3         | 2.621710     | 0.911752     | 0.899386       |</pre>"
      ],
      "text/plain": [
       "| 3         | 2.621710     | 0.911752     | 0.899386       |"
      ]
     },
     "metadata": {},
     "output_type": "display_data"
    },
    {
     "data": {
      "text/html": [
       "<pre>| 4         | 3.409794     | 0.912252     | 0.900034       |</pre>"
      ],
      "text/plain": [
       "| 4         | 3.409794     | 0.912252     | 0.900034       |"
      ]
     },
     "metadata": {},
     "output_type": "display_data"
    },
    {
     "data": {
      "text/html": [
       "<pre>| 5         | 4.229110     | 0.912485     | 0.900350       |</pre>"
      ],
      "text/plain": [
       "| 5         | 4.229110     | 0.912485     | 0.900350       |"
      ]
     },
     "metadata": {},
     "output_type": "display_data"
    },
    {
     "data": {
      "text/html": [
       "<pre>| 6         | 5.039912     | 0.912027     | 0.899978       |</pre>"
      ],
      "text/plain": [
       "| 6         | 5.039912     | 0.912027     | 0.899978       |"
      ]
     },
     "metadata": {},
     "output_type": "display_data"
    },
    {
     "data": {
      "text/html": [
       "<pre>| 10        | 8.350528     | 0.913069     | 0.900702       |</pre>"
      ],
      "text/plain": [
       "| 10        | 8.350528     | 0.913069     | 0.900702       |"
      ]
     },
     "metadata": {},
     "output_type": "display_data"
    },
    {
     "data": {
      "text/html": [
       "<pre>| 11        | 9.218877     | 0.912937     | 0.900442       |</pre>"
      ],
      "text/plain": [
       "| 11        | 9.218877     | 0.912937     | 0.900442       |"
      ]
     },
     "metadata": {},
     "output_type": "display_data"
    },
    {
     "data": {
      "text/html": [
       "<pre>| 15        | 12.591096    | 0.913439     | 0.900949       |</pre>"
      ],
      "text/plain": [
       "| 15        | 12.591096    | 0.913439     | 0.900949       |"
      ]
     },
     "metadata": {},
     "output_type": "display_data"
    },
    {
     "data": {
      "text/html": [
       "<pre>| 20        | 16.688358    | 0.913328     | 0.900778       |</pre>"
      ],
      "text/plain": [
       "| 20        | 16.688358    | 0.913328     | 0.900778       |"
      ]
     },
     "metadata": {},
     "output_type": "display_data"
    },
    {
     "data": {
      "text/html": [
       "<pre>| 25        | 20.999409    | 0.914776     | 0.902174       |</pre>"
      ],
      "text/plain": [
       "| 25        | 20.999409    | 0.914776     | 0.902174       |"
      ]
     },
     "metadata": {},
     "output_type": "display_data"
    },
    {
     "data": {
      "text/html": [
       "<pre>| 30        | 25.223636    | 0.915151     | 0.902601       |</pre>"
      ],
      "text/plain": [
       "| 30        | 25.223636    | 0.915151     | 0.902601       |"
      ]
     },
     "metadata": {},
     "output_type": "display_data"
    },
    {
     "data": {
      "text/html": [
       "<pre>| 35        | 29.460401    | 0.915363     | 0.903030       |</pre>"
      ],
      "text/plain": [
       "| 35        | 29.460401    | 0.915363     | 0.903030       |"
      ]
     },
     "metadata": {},
     "output_type": "display_data"
    },
    {
     "data": {
      "text/html": [
       "<pre>| 40        | 33.714439    | 0.915562     | 0.903207       |</pre>"
      ],
      "text/plain": [
       "| 40        | 33.714439    | 0.915562     | 0.903207       |"
      ]
     },
     "metadata": {},
     "output_type": "display_data"
    },
    {
     "data": {
      "text/html": [
       "<pre>| 45        | 37.876019    | 0.915440     | 0.903064       |</pre>"
      ],
      "text/plain": [
       "| 45        | 37.876019    | 0.915440     | 0.903064       |"
      ]
     },
     "metadata": {},
     "output_type": "display_data"
    },
    {
     "data": {
      "text/html": [
       "<pre>| 50        | 42.046644    | 0.915149     | 0.902802       |</pre>"
      ],
      "text/plain": [
       "| 50        | 42.046644    | 0.915149     | 0.902802       |"
      ]
     },
     "metadata": {},
     "output_type": "display_data"
    },
    {
     "data": {
      "text/html": [
       "<pre>| 51        | 42.928308    | 0.915035     | 0.902713       |</pre>"
      ],
      "text/plain": [
       "| 51        | 42.928308    | 0.915035     | 0.902713       |"
      ]
     },
     "metadata": {},
     "output_type": "display_data"
    },
    {
     "data": {
      "text/html": [
       "<pre>| 55        | 46.447915    | 0.914841     | 0.902570       |</pre>"
      ],
      "text/plain": [
       "| 55        | 46.447915    | 0.914841     | 0.902570       |"
      ]
     },
     "metadata": {},
     "output_type": "display_data"
    },
    {
     "data": {
      "text/html": [
       "<pre>| 60        | 50.653598    | 0.914997     | 0.902764       |</pre>"
      ],
      "text/plain": [
       "| 60        | 50.653598    | 0.914997     | 0.902764       |"
      ]
     },
     "metadata": {},
     "output_type": "display_data"
    },
    {
     "data": {
      "text/html": [
       "<pre>| 65        | 54.884801    | 0.914873     | 0.902680       |</pre>"
      ],
      "text/plain": [
       "| 65        | 54.884801    | 0.914873     | 0.902680       |"
      ]
     },
     "metadata": {},
     "output_type": "display_data"
    },
    {
     "data": {
      "text/html": [
       "<pre>| 70        | 59.025058    | 0.914914     | 0.902731       |</pre>"
      ],
      "text/plain": [
       "| 70        | 59.025058    | 0.914914     | 0.902731       |"
      ]
     },
     "metadata": {},
     "output_type": "display_data"
    },
    {
     "data": {
      "text/html": [
       "<pre>| 75        | 63.317584    | 0.914811     | 0.902651       |</pre>"
      ],
      "text/plain": [
       "| 75        | 63.317584    | 0.914811     | 0.902651       |"
      ]
     },
     "metadata": {},
     "output_type": "display_data"
    },
    {
     "data": {
      "text/html": [
       "<pre>| 80        | 67.662727    | 0.914902     | 0.902710       |</pre>"
      ],
      "text/plain": [
       "| 80        | 67.662727    | 0.914902     | 0.902710       |"
      ]
     },
     "metadata": {},
     "output_type": "display_data"
    },
    {
     "data": {
      "text/html": [
       "<pre>| 85        | 71.844521    | 0.914756     | 0.902537       |</pre>"
      ],
      "text/plain": [
       "| 85        | 71.844521    | 0.914756     | 0.902537       |"
      ]
     },
     "metadata": {},
     "output_type": "display_data"
    },
    {
     "data": {
      "text/html": [
       "<pre>| 90        | 76.119547    | 0.914815     | 0.902630       |</pre>"
      ],
      "text/plain": [
       "| 90        | 76.119547    | 0.914815     | 0.902630       |"
      ]
     },
     "metadata": {},
     "output_type": "display_data"
    },
    {
     "data": {
      "text/html": [
       "<pre>| 95        | 80.447284    | 0.914966     | 0.902755       |</pre>"
      ],
      "text/plain": [
       "| 95        | 80.447284    | 0.914966     | 0.902755       |"
      ]
     },
     "metadata": {},
     "output_type": "display_data"
    },
    {
     "data": {
      "text/html": [
       "<pre>| 100       | 84.522363    | 0.914948     | 0.902718       |</pre>"
      ],
      "text/plain": [
       "| 100       | 84.522363    | 0.914948     | 0.902718       |"
      ]
     },
     "metadata": {},
     "output_type": "display_data"
    },
    {
     "data": {
      "text/html": [
       "<pre>| 101       | 85.336417    | 0.914936     | 0.902709       |</pre>"
      ],
      "text/plain": [
       "| 101       | 85.336417    | 0.914936     | 0.902709       |"
      ]
     },
     "metadata": {},
     "output_type": "display_data"
    },
    {
     "data": {
      "text/html": [
       "<pre>| 105       | 88.810612    | 0.914788     | 0.902568       |</pre>"
      ],
      "text/plain": [
       "| 105       | 88.810612    | 0.914788     | 0.902568       |"
      ]
     },
     "metadata": {},
     "output_type": "display_data"
    },
    {
     "data": {
      "text/html": [
       "<pre>| 110       | 92.953174    | 0.914960     | 0.902716       |</pre>"
      ],
      "text/plain": [
       "| 110       | 92.953174    | 0.914960     | 0.902716       |"
      ]
     },
     "metadata": {},
     "output_type": "display_data"
    },
    {
     "data": {
      "text/html": [
       "<pre>| 115       | 97.131694    | 0.914967     | 0.902749       |</pre>"
      ],
      "text/plain": [
       "| 115       | 97.131694    | 0.914967     | 0.902749       |"
      ]
     },
     "metadata": {},
     "output_type": "display_data"
    },
    {
     "data": {
      "text/html": [
       "<pre>| 120       | 101.274933   | 0.915002     | 0.902755       |</pre>"
      ],
      "text/plain": [
       "| 120       | 101.274933   | 0.915002     | 0.902755       |"
      ]
     },
     "metadata": {},
     "output_type": "display_data"
    },
    {
     "data": {
      "text/html": [
       "<pre>| 125       | 105.525888   | 0.915161     | 0.902929       |</pre>"
      ],
      "text/plain": [
       "| 125       | 105.525888   | 0.915161     | 0.902929       |"
      ]
     },
     "metadata": {},
     "output_type": "display_data"
    },
    {
     "data": {
      "text/html": [
       "<pre>| 130       | 109.674015   | 0.915158     | 0.902943       |</pre>"
      ],
      "text/plain": [
       "| 130       | 109.674015   | 0.915158     | 0.902943       |"
      ]
     },
     "metadata": {},
     "output_type": "display_data"
    },
    {
     "data": {
      "text/html": [
       "<pre>| 135       | 113.753753   | 0.915365     | 0.903137       |</pre>"
      ],
      "text/plain": [
       "| 135       | 113.753753   | 0.915365     | 0.903137       |"
      ]
     },
     "metadata": {},
     "output_type": "display_data"
    },
    {
     "data": {
      "text/html": [
       "<pre>| 140       | 117.967483   | 0.915319     | 0.903117       |</pre>"
      ],
      "text/plain": [
       "| 140       | 117.967483   | 0.915319     | 0.903117       |"
      ]
     },
     "metadata": {},
     "output_type": "display_data"
    },
    {
     "data": {
      "text/html": [
       "<pre>| 145       | 122.249418   | 0.915347     | 0.903164       |</pre>"
      ],
      "text/plain": [
       "| 145       | 122.249418   | 0.915347     | 0.903164       |"
      ]
     },
     "metadata": {},
     "output_type": "display_data"
    },
    {
     "data": {
      "text/html": [
       "<pre>| 150       | 126.400442   | 0.915416     | 0.903235       |</pre>"
      ],
      "text/plain": [
       "| 150       | 126.400442   | 0.915416     | 0.903235       |"
      ]
     },
     "metadata": {},
     "output_type": "display_data"
    },
    {
     "data": {
      "text/html": [
       "<pre>+-----------+--------------+--------------+----------------+</pre>"
      ],
      "text/plain": [
       "+-----------+--------------+--------------+----------------+"
      ]
     },
     "metadata": {},
     "output_type": "display_data"
    },
    {
     "name": "stdout",
     "output_type": "stream",
     "text": [
      "CPU times: user 10min 15s, sys: 12.7 s, total: 10min 28s\n",
      "Wall time: 2min 13s\n"
     ]
    }
   ],
   "source": [
    "%%time\n",
    "best_model =  random_forest_classifier.create(dataset=X_gl,\n",
    "                                             validation_set = X_val_gl,\n",
    "                                             **params)"
   ]
  },
  {
   "cell_type": "code",
   "execution_count": 42,
   "metadata": {
    "scrolled": false
   },
   "outputs": [
    {
     "data": {
      "text/html": [
       "<div style=\"max-height:1000px;max-width:1500px;overflow:auto;\"><table frame=\"box\" rules=\"cols\">\n",
       "    <tr>\n",
       "        <th style=\"padding-left: 1em; padding-right: 1em; text-align: center\">name</th>\n",
       "        <th style=\"padding-left: 1em; padding-right: 1em; text-align: center\">index</th>\n",
       "        <th style=\"padding-left: 1em; padding-right: 1em; text-align: center\">count</th>\n",
       "    </tr>\n",
       "    <tr>\n",
       "        <td style=\"padding-left: 1em; padding-right: 1em; text-align: center; vertical-align: top\">EPIDEMIC</td>\n",
       "        <td style=\"padding-left: 1em; padding-right: 1em; text-align: center; vertical-align: top\">None</td>\n",
       "        <td style=\"padding-left: 1em; padding-right: 1em; text-align: center; vertical-align: top\">2036</td>\n",
       "    </tr>\n",
       "    <tr>\n",
       "        <td style=\"padding-left: 1em; padding-right: 1em; text-align: center; vertical-align: top\">COUNT_0</td>\n",
       "        <td style=\"padding-left: 1em; padding-right: 1em; text-align: center; vertical-align: top\">None</td>\n",
       "        <td style=\"padding-left: 1em; padding-right: 1em; text-align: center; vertical-align: top\">1987</td>\n",
       "    </tr>\n",
       "    <tr>\n",
       "        <td style=\"padding-left: 1em; padding-right: 1em; text-align: center; vertical-align: top\">MOBILITY_DIAMETER</td>\n",
       "        <td style=\"padding-left: 1em; padding-right: 1em; text-align: center; vertical-align: top\">None</td>\n",
       "        <td style=\"padding-left: 1em; padding-right: 1em; text-align: center; vertical-align: top\">1914</td>\n",
       "    </tr>\n",
       "    <tr>\n",
       "        <td style=\"padding-left: 1em; padding-right: 1em; text-align: center; vertical-align: top\">MOBILITY_DIAMETER_WEEKNIG<br>HT ...</td>\n",
       "        <td style=\"padding-left: 1em; padding-right: 1em; text-align: center; vertical-align: top\">None</td>\n",
       "        <td style=\"padding-left: 1em; padding-right: 1em; text-align: center; vertical-align: top\">1853</td>\n",
       "    </tr>\n",
       "    <tr>\n",
       "        <td style=\"padding-left: 1em; padding-right: 1em; text-align: center; vertical-align: top\">COUNT_WEEKNIGHT_0</td>\n",
       "        <td style=\"padding-left: 1em; padding-right: 1em; text-align: center; vertical-align: top\">None</td>\n",
       "        <td style=\"padding-left: 1em; padding-right: 1em; text-align: center; vertical-align: top\">952</td>\n",
       "    </tr>\n",
       "    <tr>\n",
       "        <td style=\"padding-left: 1em; padding-right: 1em; text-align: center; vertical-align: top\">TimeWeekDay_OUT_09</td>\n",
       "        <td style=\"padding-left: 1em; padding-right: 1em; text-align: center; vertical-align: top\">None</td>\n",
       "        <td style=\"padding-left: 1em; padding-right: 1em; text-align: center; vertical-align: top\">599</td>\n",
       "    </tr>\n",
       "    <tr>\n",
       "        <td style=\"padding-left: 1em; padding-right: 1em; text-align: center; vertical-align: top\">CallsWeekDay_IN_VUL_08</td>\n",
       "        <td style=\"padding-left: 1em; padding-right: 1em; text-align: center; vertical-align: top\">None</td>\n",
       "        <td style=\"padding-left: 1em; padding-right: 1em; text-align: center; vertical-align: top\">560</td>\n",
       "    </tr>\n",
       "    <tr>\n",
       "        <td style=\"padding-left: 1em; padding-right: 1em; text-align: center; vertical-align: top\">TimeWeekDay_OUT_08</td>\n",
       "        <td style=\"padding-left: 1em; padding-right: 1em; text-align: center; vertical-align: top\">None</td>\n",
       "        <td style=\"padding-left: 1em; padding-right: 1em; text-align: center; vertical-align: top\">555</td>\n",
       "    </tr>\n",
       "    <tr>\n",
       "        <td style=\"padding-left: 1em; padding-right: 1em; text-align: center; vertical-align: top\">STATE_Hidalgo</td>\n",
       "        <td style=\"padding-left: 1em; padding-right: 1em; text-align: center; vertical-align: top\">None</td>\n",
       "        <td style=\"padding-left: 1em; padding-right: 1em; text-align: center; vertical-align: top\">543</td>\n",
       "    </tr>\n",
       "    <tr>\n",
       "        <td style=\"padding-left: 1em; padding-right: 1em; text-align: center; vertical-align: top\">CallsWeekDay_IN_08</td>\n",
       "        <td style=\"padding-left: 1em; padding-right: 1em; text-align: center; vertical-align: top\">None</td>\n",
       "        <td style=\"padding-left: 1em; padding-right: 1em; text-align: center; vertical-align: top\">526</td>\n",
       "    </tr>\n",
       "</table>\n",
       "[20 rows x 3 columns]<br/>Note: Only the head of the SFrame is printed.<br/>You can use print_rows(num_rows=m, num_columns=n) to print more rows and columns.\n",
       "</div>"
      ],
      "text/plain": [
       "Columns:\n",
       "\tname\tstr\n",
       "\tindex\tstr\n",
       "\tcount\tint\n",
       "\n",
       "Rows: 20\n",
       "\n",
       "Data:\n",
       "+-----------------------------+-------+-------+\n",
       "|             name            | index | count |\n",
       "+-----------------------------+-------+-------+\n",
       "|           EPIDEMIC          |  None |  2036 |\n",
       "|           COUNT_0           |  None |  1987 |\n",
       "|      MOBILITY_DIAMETER      |  None |  1914 |\n",
       "| MOBILITY_DIAMETER_WEEKNIGHT |  None |  1853 |\n",
       "|      COUNT_WEEKNIGHT_0      |  None |  952  |\n",
       "|      TimeWeekDay_OUT_09     |  None |  599  |\n",
       "|    CallsWeekDay_IN_VUL_08   |  None |  560  |\n",
       "|      TimeWeekDay_OUT_08     |  None |  555  |\n",
       "|        STATE_Hidalgo        |  None |  543  |\n",
       "|      CallsWeekDay_IN_08     |  None |  526  |\n",
       "+-----------------------------+-------+-------+\n",
       "[20 rows x 3 columns]\n",
       "Note: Only the head of the SFrame is printed.\n",
       "You can use print_rows(num_rows=m, num_columns=n) to print more rows and columns."
      ]
     },
     "execution_count": 42,
     "metadata": {},
     "output_type": "execute_result"
    }
   ],
   "source": [
    "best_feat = best_model.get_feature_importance()\n",
    "best_feat.head(20)"
   ]
  },
  {
   "cell_type": "code",
   "execution_count": 103,
   "metadata": {},
   "outputs": [],
   "source": [
    "# filter_cols"
   ]
  },
  {
   "cell_type": "code",
   "execution_count": 100,
   "metadata": {},
   "outputs": [
    {
     "data": {
      "text/plain": [
       "dtype: str\n",
       "Rows: 30\n",
       "['EPIDEMIC', 'COUNT_0', 'MOBILITY_DIAMETER', 'MOBILITY_DIAMETER_WEEKNIGHT', 'COUNT_WEEKNIGHT_0', 'TimeWeekDay_OUT_09', 'CallsWeekDay_IN_VUL_08', 'TimeWeekDay_OUT_08', 'STATE_Hidalgo', 'CallsWeekDay_IN_08', 'TimeWeekDay_OUT_12', 'TimeWeekDay_OUT_VUL_08', 'CallsWeekDay_OUT_12', 'CallsWeekDay_OUT_09', 'CallsWeekDay_OUT_VUL_08', 'TimeWeekDay_OUT_11', 'COUNT_1', 'CallsWeekDay_OUT_08', 'TimeWeekDay_IN_12', 'CallsWeekDay_IN_12', 'TimeWeekDay_IN_09', 'TimeWeekDay_IN_11', 'CallsWeekDay_IN_09', 'TimeWeekDay_OUT_10', 'TimeWeekDay_IN_VUL_09', 'TimeWeekDay_OUT_VUL_12', 'STATE_Distrito_Federal', 'TimeWeekDay_IN_VUL_08', 'TimeWeekDay_IN_10', 'CallsWeekDay_OUT_10']"
      ]
     },
     "execution_count": 100,
     "metadata": {},
     "output_type": "execute_result"
    }
   ],
   "source": [
    "best_feat['name'].head(30)\n",
    "#print_rows(num_rows= 30)"
   ]
  },
  {
   "cell_type": "code",
   "execution_count": 43,
   "metadata": {},
   "outputs": [
    {
     "data": {
      "text/plain": [
       "126.401433"
      ]
     },
     "execution_count": 43,
     "metadata": {},
     "output_type": "execute_result"
    }
   ],
   "source": [
    "best_model.training_time"
   ]
  },
  {
   "cell_type": "code",
   "execution_count": 44,
   "metadata": {
    "scrolled": false
   },
   "outputs": [
    {
     "data": {
      "text/plain": [
       "{'accuracy': 0.8488681325809172,\n",
       " 'auc': 0.9032349929604522,\n",
       " 'confusion_matrix': Columns:\n",
       " \ttarget_label\tint\n",
       " \tpredicted_label\tint\n",
       " \tcount\tint\n",
       " \n",
       " Rows: 4\n",
       " \n",
       " Data:\n",
       " +--------------+-----------------+-------+\n",
       " | target_label | predicted_label | count |\n",
       " +--------------+-----------------+-------+\n",
       " |      0       |        1        |  1048 |\n",
       " |      1       |        0        |  1282 |\n",
       " |      1       |        1        |  3918 |\n",
       " |      0       |        0        |  9169 |\n",
       " +--------------+-----------------+-------+\n",
       " [4 rows x 3 columns],\n",
       " 'f1_score': 0.7708046429274051,\n",
       " 'log_loss': 0.39189086788834826,\n",
       " 'precision': 0.7889649617398309,\n",
       " 'recall': 0.7534615384615385,\n",
       " 'roc_curve': Columns:\n",
       " \tthreshold\tfloat\n",
       " \tfpr\tfloat\n",
       " \ttpr\tfloat\n",
       " \tp\tint\n",
       " \tn\tint\n",
       " \n",
       " Rows: 100001\n",
       " \n",
       " Data:\n",
       " +-----------+-----+-----+------+-------+\n",
       " | threshold | fpr | tpr |  p   |   n   |\n",
       " +-----------+-----+-----+------+-------+\n",
       " |    0.0    | 1.0 | 1.0 | 5200 | 10217 |\n",
       " |   1e-05   | 1.0 | 1.0 | 5200 | 10217 |\n",
       " |   2e-05   | 1.0 | 1.0 | 5200 | 10217 |\n",
       " |   3e-05   | 1.0 | 1.0 | 5200 | 10217 |\n",
       " |   4e-05   | 1.0 | 1.0 | 5200 | 10217 |\n",
       " |   5e-05   | 1.0 | 1.0 | 5200 | 10217 |\n",
       " |   6e-05   | 1.0 | 1.0 | 5200 | 10217 |\n",
       " |   7e-05   | 1.0 | 1.0 | 5200 | 10217 |\n",
       " |   8e-05   | 1.0 | 1.0 | 5200 | 10217 |\n",
       " |   9e-05   | 1.0 | 1.0 | 5200 | 10217 |\n",
       " +-----------+-----+-----+------+-------+\n",
       " [100001 rows x 5 columns]\n",
       " Note: Only the head of the SFrame is printed.\n",
       " You can use print_rows(num_rows=m, num_columns=n) to print more rows and columns.}"
      ]
     },
     "execution_count": 44,
     "metadata": {},
     "output_type": "execute_result"
    }
   ],
   "source": [
    "test_error = best_model.evaluate(X_val_gl)\n",
    "\n",
    "test_error"
   ]
  },
  {
   "cell_type": "code",
   "execution_count": 45,
   "metadata": {},
   "outputs": [
    {
     "data": {
      "text/plain": [
       "<bound method RandomForestClassifier.get_current_options of Class                          : RandomForestClassifier\n",
       "\n",
       "Schema\n",
       "------\n",
       "Number of examples             : 137593\n",
       "Number of feature columns      : 185\n",
       "Number of unpacked features    : 185\n",
       "Number of classes              : 2\n",
       "\n",
       "Settings\n",
       "--------\n",
       "Number of trees                : 150\n",
       "Max tree depth                 : 12\n",
       "Training time (sec)            : 126.4014\n",
       "Training auc                   : 0.9154\n",
       "Validation auc                 : 0.9032\n",
       ">"
      ]
     },
     "execution_count": 45,
     "metadata": {},
     "output_type": "execute_result"
    }
   ],
   "source": [
    "best_model.get_current_options#()"
   ]
  },
  {
   "cell_type": "code",
   "execution_count": null,
   "metadata": {
    "collapsed": true
   },
   "outputs": [],
   "source": []
  },
  {
   "cell_type": "markdown",
   "metadata": {},
   "source": [
    "# Boosted Classifier\n",
    "### HyperParams search"
   ]
  },
  {
   "cell_type": "code",
   "execution_count": 87,
   "metadata": {
    "collapsed": true
   },
   "outputs": [],
   "source": [
    "# Boosted Trees HyperParams\n",
    "\n",
    "# target_col = 'Y'\n",
    "\n",
    "params = {\n",
    "    'target': target_col, ## the target column string name \n",
    "    'max_iterations': [\n",
    "                      200,\n",
    "                       250,\n",
    "                       90,\n",
    "                       120\n",
    "                      ], #The maximum number of iterations for boosting. Each iteration == extra tree.\n",
    "    'class_weights': [\n",
    "                      None, \n",
    "#                       'auto',\n",
    "    ], #Weights the examples in the training data according to the given class weights.\n",
    "#     'class_weights': [None],\n",
    "    'max_depth': [\n",
    "        2,\n",
    "#         3,\n",
    "        4,\n",
    "        6,\n",
    "        9,\n",
    "    ], #Maximum depth of a tree. Must be at least 1.\n",
    "    'step_size': [\n",
    "        1e-1,\n",
    "        0.5,\n",
    "#         1e-2,\n",
    "        1,\n",
    "    ], # Step size (shrinkage) used in update to prevents overfitting\n",
    "    'min_loss_reduction': [\n",
    "        1e-2,\n",
    "        1,\n",
    "        10,\n",
    "    ], #Minimum loss reduction required to make a further partition/split a node during the tree learning\n",
    "    'min_child_weight': [\n",
    "#         1e-2,\n",
    "        2,\n",
    "        5,\n",
    "        10,\n",
    "    ], # Controls the minimum weight of each leaf node . larger values > less overfitting\n",
    "    'row_subsample': [\n",
    "        0.5,\n",
    "        0.75,\n",
    "    ], #Subsample the ratio of the training set in each iteration of tree construction\n",
    "    \n",
    "    'column_subsample': [\n",
    "#         0.01,\n",
    "        0.1,\n",
    "        0.05,\n",
    "                        ], # Subsample the ratio of the columns in each iteration of tree construction\n",
    "    #'metric': ['accuracy', 'auc', 'f1_score','recall','precision'], # Performance metric(s) that are tracked during training     \n",
    "    'metric': ['auc'],\n",
    "    'random_seed' : int(abs(hash('im not joking...'))%1e6) \n",
    "}\n",
    "\n",
    "model_factory = boosted_trees_classifier.create"
   ]
  },
  {
   "cell_type": "code",
   "execution_count": 118,
   "metadata": {
    "scrolled": true
   },
   "outputs": [],
   "source": [
    "# in case we want to use random forest's top features result\n",
    "n_cols = 30\n",
    "\n",
    "top_rf_features = True\n",
    "# top_rf_features = None\n",
    "\n",
    "if top_rf_features:\n",
    "    filter_cols = list(best_feat['name'].head(n_cols).to_numpy()) + [target_col]\n",
    "\n",
    "    X_val_gl = X_val_gl[filter_cols]\n",
    "    X_gl = X_gl[filter_cols]\n",
    "    \n",
    "    kfold = cross_validation.KFold(\n",
    "    X_gl,num_folds=num_folds)"
   ]
  },
  {
   "cell_type": "markdown",
   "metadata": {},
   "source": [
    "### Grid Search Boosted "
   ]
  },
  {
   "cell_type": "code",
   "execution_count": 90,
   "metadata": {
    "scrolled": true
   },
   "outputs": [
    {
     "name": "stderr",
     "output_type": "stream",
     "text": [
      "[INFO] graphlab.deploy.job: Validating job.\n",
      "[INFO] graphlab.deploy.map_job: Validation complete. Job: 'Model-Parameter-Search-May-25-2017-16-38-0700000' ready for execution\n",
      "[INFO] graphlab.deploy.map_job: Job: 'Model-Parameter-Search-May-25-2017-16-38-0700000' scheduled.\n",
      "[INFO] graphlab.deploy.job: Validating job.\n",
      "[INFO] graphlab.deploy.map_job: A job with name 'Model-Parameter-Search-May-25-2017-16-38-0700000' already exists. Renaming the job to 'Model-Parameter-Search-May-25-2017-16-38-0700000-8b683'.\n",
      "[INFO] graphlab.deploy.map_job: Validation complete. Job: 'Model-Parameter-Search-May-25-2017-16-38-0700000-8b683' ready for execution\n",
      "[INFO] graphlab.deploy.map_job: Job: 'Model-Parameter-Search-May-25-2017-16-38-0700000-8b683' scheduled.\n",
      "[INFO] graphlab.deploy.job: Validating job.\n",
      "[INFO] graphlab.deploy.map_job: Validation complete. Job: 'Model-Parameter-Search-May-25-2017-16-38-0700001' ready for execution\n",
      "[INFO] graphlab.deploy.map_job: Job: 'Model-Parameter-Search-May-25-2017-16-38-0700001' scheduled.\n",
      "[INFO] graphlab.deploy.job: Validating job.\n",
      "[INFO] graphlab.deploy.map_job: Validation complete. Job: 'Model-Parameter-Search-May-25-2017-16-38-0700002' ready for execution\n",
      "[INFO] graphlab.deploy.map_job: Job: 'Model-Parameter-Search-May-25-2017-16-38-0700002' scheduled.\n"
     ]
    },
    {
     "name": "stdout",
     "output_type": "stream",
     "text": [
      "CPU times: user 6.37 s, sys: 2.13 s, total: 8.5 s\n",
      "Wall time: 3min 24s\n"
     ]
    }
   ],
   "source": [
    "%%time\n",
    "start_time = time.time()\n",
    "model_search = model_parameter_search.create( datasets = kfold, \n",
    "                                             #[data, val_set],\n",
    "                                             model_factory = model_factory,\n",
    "                                    model_parameters = params, \n",
    "                                    perform_trial_run = True  )\n",
    "\n",
    "search_results = model_search.get_results()\n",
    "\n",
    "all_time = start_time - time.time()"
   ]
  },
  {
   "cell_type": "code",
   "execution_count": 91,
   "metadata": {
    "scrolled": true
   },
   "outputs": [
    {
     "data": {
      "text/html": [
       "<div style=\"max-height:1000px;max-width:1500px;overflow:auto;\"><table frame=\"box\" rules=\"cols\">\n",
       "    <tr>\n",
       "        <th style=\"padding-left: 1em; padding-right: 1em; text-align: center\">task_name</th>\n",
       "        <th style=\"padding-left: 1em; padding-right: 1em; text-align: center\">status</th>\n",
       "        <th style=\"padding-left: 1em; padding-right: 1em; text-align: center\">start_time</th>\n",
       "        <th style=\"padding-left: 1em; padding-right: 1em; text-align: center\">run_time</th>\n",
       "        <th style=\"padding-left: 1em; padding-right: 1em; text-align: center\">exception</th>\n",
       "        <th style=\"padding-left: 1em; padding-right: 1em; text-align: center\">exception_message</th>\n",
       "        <th style=\"padding-left: 1em; padding-right: 1em; text-align: center\">exception_traceback</th>\n",
       "    </tr>\n",
       "    <tr>\n",
       "        <td style=\"padding-left: 1em; padding-right: 1em; text-align: center; vertical-align: top\">_train_test_model-0-0</td>\n",
       "        <td style=\"padding-left: 1em; padding-right: 1em; text-align: center; vertical-align: top\">Completed</td>\n",
       "        <td style=\"padding-left: 1em; padding-right: 1em; text-align: center; vertical-align: top\">2017-05-25 16:38:22</td>\n",
       "        <td style=\"padding-left: 1em; padding-right: 1em; text-align: center; vertical-align: top\">4.83546280861</td>\n",
       "        <td style=\"padding-left: 1em; padding-right: 1em; text-align: center; vertical-align: top\">None</td>\n",
       "        <td style=\"padding-left: 1em; padding-right: 1em; text-align: center; vertical-align: top\">None</td>\n",
       "        <td style=\"padding-left: 1em; padding-right: 1em; text-align: center; vertical-align: top\">None</td>\n",
       "    </tr>\n",
       "    <tr>\n",
       "        <td style=\"padding-left: 1em; padding-right: 1em; text-align: center; vertical-align: top\">_train_test_model-0-1</td>\n",
       "        <td style=\"padding-left: 1em; padding-right: 1em; text-align: center; vertical-align: top\">Completed</td>\n",
       "        <td style=\"padding-left: 1em; padding-right: 1em; text-align: center; vertical-align: top\">2017-05-25 16:38:27</td>\n",
       "        <td style=\"padding-left: 1em; padding-right: 1em; text-align: center; vertical-align: top\">4.28994393349</td>\n",
       "        <td style=\"padding-left: 1em; padding-right: 1em; text-align: center; vertical-align: top\">None</td>\n",
       "        <td style=\"padding-left: 1em; padding-right: 1em; text-align: center; vertical-align: top\">None</td>\n",
       "        <td style=\"padding-left: 1em; padding-right: 1em; text-align: center; vertical-align: top\">None</td>\n",
       "    </tr>\n",
       "    <tr>\n",
       "        <td style=\"padding-left: 1em; padding-right: 1em; text-align: center; vertical-align: top\">_train_test_model-0-2</td>\n",
       "        <td style=\"padding-left: 1em; padding-right: 1em; text-align: center; vertical-align: top\">Completed</td>\n",
       "        <td style=\"padding-left: 1em; padding-right: 1em; text-align: center; vertical-align: top\">2017-05-25 16:38:31</td>\n",
       "        <td style=\"padding-left: 1em; padding-right: 1em; text-align: center; vertical-align: top\">12.6711649895</td>\n",
       "        <td style=\"padding-left: 1em; padding-right: 1em; text-align: center; vertical-align: top\">None</td>\n",
       "        <td style=\"padding-left: 1em; padding-right: 1em; text-align: center; vertical-align: top\">None</td>\n",
       "        <td style=\"padding-left: 1em; padding-right: 1em; text-align: center; vertical-align: top\">None</td>\n",
       "    </tr>\n",
       "    <tr>\n",
       "        <td style=\"padding-left: 1em; padding-right: 1em; text-align: center; vertical-align: top\">_train_test_model-0-3</td>\n",
       "        <td style=\"padding-left: 1em; padding-right: 1em; text-align: center; vertical-align: top\">Completed</td>\n",
       "        <td style=\"padding-left: 1em; padding-right: 1em; text-align: center; vertical-align: top\">2017-05-25 16:38:44</td>\n",
       "        <td style=\"padding-left: 1em; padding-right: 1em; text-align: center; vertical-align: top\">6.12934613228</td>\n",
       "        <td style=\"padding-left: 1em; padding-right: 1em; text-align: center; vertical-align: top\">None</td>\n",
       "        <td style=\"padding-left: 1em; padding-right: 1em; text-align: center; vertical-align: top\">None</td>\n",
       "        <td style=\"padding-left: 1em; padding-right: 1em; text-align: center; vertical-align: top\">None</td>\n",
       "    </tr>\n",
       "    <tr>\n",
       "        <td style=\"padding-left: 1em; padding-right: 1em; text-align: center; vertical-align: top\">_train_test_model-0-4</td>\n",
       "        <td style=\"padding-left: 1em; padding-right: 1em; text-align: center; vertical-align: top\">Completed</td>\n",
       "        <td style=\"padding-left: 1em; padding-right: 1em; text-align: center; vertical-align: top\">2017-05-25 16:38:50</td>\n",
       "        <td style=\"padding-left: 1em; padding-right: 1em; text-align: center; vertical-align: top\">5.99115419388</td>\n",
       "        <td style=\"padding-left: 1em; padding-right: 1em; text-align: center; vertical-align: top\">None</td>\n",
       "        <td style=\"padding-left: 1em; padding-right: 1em; text-align: center; vertical-align: top\">None</td>\n",
       "        <td style=\"padding-left: 1em; padding-right: 1em; text-align: center; vertical-align: top\">None</td>\n",
       "    </tr>\n",
       "    <tr>\n",
       "        <td style=\"padding-left: 1em; padding-right: 1em; text-align: center; vertical-align: top\">_train_test_model-0-5</td>\n",
       "        <td style=\"padding-left: 1em; padding-right: 1em; text-align: center; vertical-align: top\">Completed</td>\n",
       "        <td style=\"padding-left: 1em; padding-right: 1em; text-align: center; vertical-align: top\">2017-05-25 16:38:56</td>\n",
       "        <td style=\"padding-left: 1em; padding-right: 1em; text-align: center; vertical-align: top\">5.96607494354</td>\n",
       "        <td style=\"padding-left: 1em; padding-right: 1em; text-align: center; vertical-align: top\">None</td>\n",
       "        <td style=\"padding-left: 1em; padding-right: 1em; text-align: center; vertical-align: top\">None</td>\n",
       "        <td style=\"padding-left: 1em; padding-right: 1em; text-align: center; vertical-align: top\">None</td>\n",
       "    </tr>\n",
       "    <tr>\n",
       "        <td style=\"padding-left: 1em; padding-right: 1em; text-align: center; vertical-align: top\">_train_test_model-0-6</td>\n",
       "        <td style=\"padding-left: 1em; padding-right: 1em; text-align: center; vertical-align: top\">Completed</td>\n",
       "        <td style=\"padding-left: 1em; padding-right: 1em; text-align: center; vertical-align: top\">2017-05-25 16:39:02</td>\n",
       "        <td style=\"padding-left: 1em; padding-right: 1em; text-align: center; vertical-align: top\">6.18768501282</td>\n",
       "        <td style=\"padding-left: 1em; padding-right: 1em; text-align: center; vertical-align: top\">None</td>\n",
       "        <td style=\"padding-left: 1em; padding-right: 1em; text-align: center; vertical-align: top\">None</td>\n",
       "        <td style=\"padding-left: 1em; padding-right: 1em; text-align: center; vertical-align: top\">None</td>\n",
       "    </tr>\n",
       "    <tr>\n",
       "        <td style=\"padding-left: 1em; padding-right: 1em; text-align: center; vertical-align: top\">_train_test_model-0-7</td>\n",
       "        <td style=\"padding-left: 1em; padding-right: 1em; text-align: center; vertical-align: top\">Completed</td>\n",
       "        <td style=\"padding-left: 1em; padding-right: 1em; text-align: center; vertical-align: top\">2017-05-25 16:39:08</td>\n",
       "        <td style=\"padding-left: 1em; padding-right: 1em; text-align: center; vertical-align: top\">6.30825185776</td>\n",
       "        <td style=\"padding-left: 1em; padding-right: 1em; text-align: center; vertical-align: top\">None</td>\n",
       "        <td style=\"padding-left: 1em; padding-right: 1em; text-align: center; vertical-align: top\">None</td>\n",
       "        <td style=\"padding-left: 1em; padding-right: 1em; text-align: center; vertical-align: top\">None</td>\n",
       "    </tr>\n",
       "    <tr>\n",
       "        <td style=\"padding-left: 1em; padding-right: 1em; text-align: center; vertical-align: top\">_train_test_model-0-8</td>\n",
       "        <td style=\"padding-left: 1em; padding-right: 1em; text-align: center; vertical-align: top\">Completed</td>\n",
       "        <td style=\"padding-left: 1em; padding-right: 1em; text-align: center; vertical-align: top\">2017-05-25 16:39:14</td>\n",
       "        <td style=\"padding-left: 1em; padding-right: 1em; text-align: center; vertical-align: top\">6.13260912895</td>\n",
       "        <td style=\"padding-left: 1em; padding-right: 1em; text-align: center; vertical-align: top\">None</td>\n",
       "        <td style=\"padding-left: 1em; padding-right: 1em; text-align: center; vertical-align: top\">None</td>\n",
       "        <td style=\"padding-left: 1em; padding-right: 1em; text-align: center; vertical-align: top\">None</td>\n",
       "    </tr>\n",
       "    <tr>\n",
       "        <td style=\"padding-left: 1em; padding-right: 1em; text-align: center; vertical-align: top\">_train_test_model-0-9</td>\n",
       "        <td style=\"padding-left: 1em; padding-right: 1em; text-align: center; vertical-align: top\">Completed</td>\n",
       "        <td style=\"padding-left: 1em; padding-right: 1em; text-align: center; vertical-align: top\">2017-05-25 16:39:20</td>\n",
       "        <td style=\"padding-left: 1em; padding-right: 1em; text-align: center; vertical-align: top\">6.24866008759</td>\n",
       "        <td style=\"padding-left: 1em; padding-right: 1em; text-align: center; vertical-align: top\">None</td>\n",
       "        <td style=\"padding-left: 1em; padding-right: 1em; text-align: center; vertical-align: top\">None</td>\n",
       "        <td style=\"padding-left: 1em; padding-right: 1em; text-align: center; vertical-align: top\">None</td>\n",
       "    </tr>\n",
       "</table>\n",
       "<table frame=\"box\" rules=\"cols\">\n",
       "    <tr>\n",
       "        <th style=\"padding-left: 1em; padding-right: 1em; text-align: center\">job_name</th>\n",
       "    </tr>\n",
       "    <tr>\n",
       "        <td style=\"padding-left: 1em; padding-right: 1em; text-align: center; vertical-align: top\">Model-Parameter-Search-Ma<br>y-25-2017-16-38-07000 ...</td>\n",
       "    </tr>\n",
       "    <tr>\n",
       "        <td style=\"padding-left: 1em; padding-right: 1em; text-align: center; vertical-align: top\">Model-Parameter-Search-Ma<br>y-25-2017-16-38-07000 ...</td>\n",
       "    </tr>\n",
       "    <tr>\n",
       "        <td style=\"padding-left: 1em; padding-right: 1em; text-align: center; vertical-align: top\">Model-Parameter-Search-Ma<br>y-25-2017-16-38-07000 ...</td>\n",
       "    </tr>\n",
       "    <tr>\n",
       "        <td style=\"padding-left: 1em; padding-right: 1em; text-align: center; vertical-align: top\">Model-Parameter-Search-Ma<br>y-25-2017-16-38-07000 ...</td>\n",
       "    </tr>\n",
       "    <tr>\n",
       "        <td style=\"padding-left: 1em; padding-right: 1em; text-align: center; vertical-align: top\">Model-Parameter-Search-Ma<br>y-25-2017-16-38-07000 ...</td>\n",
       "    </tr>\n",
       "    <tr>\n",
       "        <td style=\"padding-left: 1em; padding-right: 1em; text-align: center; vertical-align: top\">Model-Parameter-Search-Ma<br>y-25-2017-16-38-07000 ...</td>\n",
       "    </tr>\n",
       "    <tr>\n",
       "        <td style=\"padding-left: 1em; padding-right: 1em; text-align: center; vertical-align: top\">Model-Parameter-Search-Ma<br>y-25-2017-16-38-07000 ...</td>\n",
       "    </tr>\n",
       "    <tr>\n",
       "        <td style=\"padding-left: 1em; padding-right: 1em; text-align: center; vertical-align: top\">Model-Parameter-Search-Ma<br>y-25-2017-16-38-07000 ...</td>\n",
       "    </tr>\n",
       "    <tr>\n",
       "        <td style=\"padding-left: 1em; padding-right: 1em; text-align: center; vertical-align: top\">Model-Parameter-Search-Ma<br>y-25-2017-16-38-07000 ...</td>\n",
       "    </tr>\n",
       "    <tr>\n",
       "        <td style=\"padding-left: 1em; padding-right: 1em; text-align: center; vertical-align: top\">Model-Parameter-Search-Ma<br>y-25-2017-16-38-07000 ...</td>\n",
       "    </tr>\n",
       "</table>\n",
       "[35 rows x 8 columns]<br/>Note: Only the head of the SFrame is printed.<br/>You can use print_rows(num_rows=m, num_columns=n) to print more rows and columns.\n",
       "</div>"
      ],
      "text/plain": [
       "Columns:\n",
       "\ttask_name\tstr\n",
       "\tstatus\tstr\n",
       "\tstart_time\tstr\n",
       "\trun_time\tfloat\n",
       "\texception\tfloat\n",
       "\texception_message\tfloat\n",
       "\texception_traceback\tfloat\n",
       "\tjob_name\tstr\n",
       "\n",
       "Rows: 35\n",
       "\n",
       "Data:\n",
       "+-----------------------+-----------+---------------------+---------------+-----------+\n",
       "|       task_name       |   status  |      start_time     |    run_time   | exception |\n",
       "+-----------------------+-----------+---------------------+---------------+-----------+\n",
       "| _train_test_model-0-0 | Completed | 2017-05-25 16:38:22 | 4.83546280861 |    None   |\n",
       "| _train_test_model-0-1 | Completed | 2017-05-25 16:38:27 | 4.28994393349 |    None   |\n",
       "| _train_test_model-0-2 | Completed | 2017-05-25 16:38:31 | 12.6711649895 |    None   |\n",
       "| _train_test_model-0-3 | Completed | 2017-05-25 16:38:44 | 6.12934613228 |    None   |\n",
       "| _train_test_model-0-4 | Completed | 2017-05-25 16:38:50 | 5.99115419388 |    None   |\n",
       "| _train_test_model-0-5 | Completed | 2017-05-25 16:38:56 | 5.96607494354 |    None   |\n",
       "| _train_test_model-0-6 | Completed | 2017-05-25 16:39:02 | 6.18768501282 |    None   |\n",
       "| _train_test_model-0-7 | Completed | 2017-05-25 16:39:08 | 6.30825185776 |    None   |\n",
       "| _train_test_model-0-8 | Completed | 2017-05-25 16:39:14 | 6.13260912895 |    None   |\n",
       "| _train_test_model-0-9 | Completed | 2017-05-25 16:39:20 | 6.24866008759 |    None   |\n",
       "+-----------------------+-----------+---------------------+---------------+-----------+\n",
       "+-------------------+---------------------+-------------------------------+\n",
       "| exception_message | exception_traceback |            job_name           |\n",
       "+-------------------+---------------------+-------------------------------+\n",
       "|        None       |         None        | Model-Parameter-Search-May... |\n",
       "|        None       |         None        | Model-Parameter-Search-May... |\n",
       "|        None       |         None        | Model-Parameter-Search-May... |\n",
       "|        None       |         None        | Model-Parameter-Search-May... |\n",
       "|        None       |         None        | Model-Parameter-Search-May... |\n",
       "|        None       |         None        | Model-Parameter-Search-May... |\n",
       "|        None       |         None        | Model-Parameter-Search-May... |\n",
       "|        None       |         None        | Model-Parameter-Search-May... |\n",
       "|        None       |         None        | Model-Parameter-Search-May... |\n",
       "|        None       |         None        | Model-Parameter-Search-May... |\n",
       "+-------------------+---------------------+-------------------------------+\n",
       "[35 rows x 8 columns]\n",
       "Note: Only the head of the SFrame is printed.\n",
       "You can use print_rows(num_rows=m, num_columns=n) to print more rows and columns."
      ]
     },
     "execution_count": 91,
     "metadata": {},
     "output_type": "execute_result"
    }
   ],
   "source": [
    "res = model_search.get_metrics()\n",
    "res"
   ]
  },
  {
   "cell_type": "code",
   "execution_count": 93,
   "metadata": {},
   "outputs": [],
   "source": [
    "# res['exception_message']"
   ]
  },
  {
   "cell_type": "code",
   "execution_count": 94,
   "metadata": {
    "scrolled": true
   },
   "outputs": [
    {
     "data": {
      "text/html": [
       "<div style=\"max-height:1000px;max-width:1500px;overflow:auto;\"><table frame=\"box\" rules=\"cols\">\n",
       "    <tr>\n",
       "        <th style=\"padding-left: 1em; padding-right: 1em; text-align: center\">task_name</th>\n",
       "        <th style=\"padding-left: 1em; padding-right: 1em; text-align: center\">status</th>\n",
       "        <th style=\"padding-left: 1em; padding-right: 1em; text-align: center\">start_time</th>\n",
       "        <th style=\"padding-left: 1em; padding-right: 1em; text-align: center\">run_time</th>\n",
       "        <th style=\"padding-left: 1em; padding-right: 1em; text-align: center\">exception</th>\n",
       "        <th style=\"padding-left: 1em; padding-right: 1em; text-align: center\">exception_message</th>\n",
       "        <th style=\"padding-left: 1em; padding-right: 1em; text-align: center\">exception_traceback</th>\n",
       "    </tr>\n",
       "    <tr>\n",
       "        <td style=\"padding-left: 1em; padding-right: 1em; text-align: center; vertical-align: top\">_train_test_model-0-0</td>\n",
       "        <td style=\"padding-left: 1em; padding-right: 1em; text-align: center; vertical-align: top\">Completed</td>\n",
       "        <td style=\"padding-left: 1em; padding-right: 1em; text-align: center; vertical-align: top\">2017-05-25 16:38:22</td>\n",
       "        <td style=\"padding-left: 1em; padding-right: 1em; text-align: center; vertical-align: top\">4.83546280861</td>\n",
       "        <td style=\"padding-left: 1em; padding-right: 1em; text-align: center; vertical-align: top\">None</td>\n",
       "        <td style=\"padding-left: 1em; padding-right: 1em; text-align: center; vertical-align: top\">None</td>\n",
       "        <td style=\"padding-left: 1em; padding-right: 1em; text-align: center; vertical-align: top\">None</td>\n",
       "    </tr>\n",
       "    <tr>\n",
       "        <td style=\"padding-left: 1em; padding-right: 1em; text-align: center; vertical-align: top\">_train_test_model-0-1</td>\n",
       "        <td style=\"padding-left: 1em; padding-right: 1em; text-align: center; vertical-align: top\">Completed</td>\n",
       "        <td style=\"padding-left: 1em; padding-right: 1em; text-align: center; vertical-align: top\">2017-05-25 16:38:27</td>\n",
       "        <td style=\"padding-left: 1em; padding-right: 1em; text-align: center; vertical-align: top\">4.28994393349</td>\n",
       "        <td style=\"padding-left: 1em; padding-right: 1em; text-align: center; vertical-align: top\">None</td>\n",
       "        <td style=\"padding-left: 1em; padding-right: 1em; text-align: center; vertical-align: top\">None</td>\n",
       "        <td style=\"padding-left: 1em; padding-right: 1em; text-align: center; vertical-align: top\">None</td>\n",
       "    </tr>\n",
       "    <tr>\n",
       "        <td style=\"padding-left: 1em; padding-right: 1em; text-align: center; vertical-align: top\">_train_test_model-0-2</td>\n",
       "        <td style=\"padding-left: 1em; padding-right: 1em; text-align: center; vertical-align: top\">Completed</td>\n",
       "        <td style=\"padding-left: 1em; padding-right: 1em; text-align: center; vertical-align: top\">2017-05-25 16:38:31</td>\n",
       "        <td style=\"padding-left: 1em; padding-right: 1em; text-align: center; vertical-align: top\">12.6711649895</td>\n",
       "        <td style=\"padding-left: 1em; padding-right: 1em; text-align: center; vertical-align: top\">None</td>\n",
       "        <td style=\"padding-left: 1em; padding-right: 1em; text-align: center; vertical-align: top\">None</td>\n",
       "        <td style=\"padding-left: 1em; padding-right: 1em; text-align: center; vertical-align: top\">None</td>\n",
       "    </tr>\n",
       "    <tr>\n",
       "        <td style=\"padding-left: 1em; padding-right: 1em; text-align: center; vertical-align: top\">_train_test_model-0-3</td>\n",
       "        <td style=\"padding-left: 1em; padding-right: 1em; text-align: center; vertical-align: top\">Completed</td>\n",
       "        <td style=\"padding-left: 1em; padding-right: 1em; text-align: center; vertical-align: top\">2017-05-25 16:38:44</td>\n",
       "        <td style=\"padding-left: 1em; padding-right: 1em; text-align: center; vertical-align: top\">6.12934613228</td>\n",
       "        <td style=\"padding-left: 1em; padding-right: 1em; text-align: center; vertical-align: top\">None</td>\n",
       "        <td style=\"padding-left: 1em; padding-right: 1em; text-align: center; vertical-align: top\">None</td>\n",
       "        <td style=\"padding-left: 1em; padding-right: 1em; text-align: center; vertical-align: top\">None</td>\n",
       "    </tr>\n",
       "    <tr>\n",
       "        <td style=\"padding-left: 1em; padding-right: 1em; text-align: center; vertical-align: top\">_train_test_model-0-4</td>\n",
       "        <td style=\"padding-left: 1em; padding-right: 1em; text-align: center; vertical-align: top\">Completed</td>\n",
       "        <td style=\"padding-left: 1em; padding-right: 1em; text-align: center; vertical-align: top\">2017-05-25 16:38:50</td>\n",
       "        <td style=\"padding-left: 1em; padding-right: 1em; text-align: center; vertical-align: top\">5.99115419388</td>\n",
       "        <td style=\"padding-left: 1em; padding-right: 1em; text-align: center; vertical-align: top\">None</td>\n",
       "        <td style=\"padding-left: 1em; padding-right: 1em; text-align: center; vertical-align: top\">None</td>\n",
       "        <td style=\"padding-left: 1em; padding-right: 1em; text-align: center; vertical-align: top\">None</td>\n",
       "    </tr>\n",
       "    <tr>\n",
       "        <td style=\"padding-left: 1em; padding-right: 1em; text-align: center; vertical-align: top\">_train_test_model-0-5</td>\n",
       "        <td style=\"padding-left: 1em; padding-right: 1em; text-align: center; vertical-align: top\">Completed</td>\n",
       "        <td style=\"padding-left: 1em; padding-right: 1em; text-align: center; vertical-align: top\">2017-05-25 16:38:56</td>\n",
       "        <td style=\"padding-left: 1em; padding-right: 1em; text-align: center; vertical-align: top\">5.96607494354</td>\n",
       "        <td style=\"padding-left: 1em; padding-right: 1em; text-align: center; vertical-align: top\">None</td>\n",
       "        <td style=\"padding-left: 1em; padding-right: 1em; text-align: center; vertical-align: top\">None</td>\n",
       "        <td style=\"padding-left: 1em; padding-right: 1em; text-align: center; vertical-align: top\">None</td>\n",
       "    </tr>\n",
       "    <tr>\n",
       "        <td style=\"padding-left: 1em; padding-right: 1em; text-align: center; vertical-align: top\">_train_test_model-0-6</td>\n",
       "        <td style=\"padding-left: 1em; padding-right: 1em; text-align: center; vertical-align: top\">Completed</td>\n",
       "        <td style=\"padding-left: 1em; padding-right: 1em; text-align: center; vertical-align: top\">2017-05-25 16:39:02</td>\n",
       "        <td style=\"padding-left: 1em; padding-right: 1em; text-align: center; vertical-align: top\">6.18768501282</td>\n",
       "        <td style=\"padding-left: 1em; padding-right: 1em; text-align: center; vertical-align: top\">None</td>\n",
       "        <td style=\"padding-left: 1em; padding-right: 1em; text-align: center; vertical-align: top\">None</td>\n",
       "        <td style=\"padding-left: 1em; padding-right: 1em; text-align: center; vertical-align: top\">None</td>\n",
       "    </tr>\n",
       "    <tr>\n",
       "        <td style=\"padding-left: 1em; padding-right: 1em; text-align: center; vertical-align: top\">_train_test_model-0-7</td>\n",
       "        <td style=\"padding-left: 1em; padding-right: 1em; text-align: center; vertical-align: top\">Completed</td>\n",
       "        <td style=\"padding-left: 1em; padding-right: 1em; text-align: center; vertical-align: top\">2017-05-25 16:39:08</td>\n",
       "        <td style=\"padding-left: 1em; padding-right: 1em; text-align: center; vertical-align: top\">6.30825185776</td>\n",
       "        <td style=\"padding-left: 1em; padding-right: 1em; text-align: center; vertical-align: top\">None</td>\n",
       "        <td style=\"padding-left: 1em; padding-right: 1em; text-align: center; vertical-align: top\">None</td>\n",
       "        <td style=\"padding-left: 1em; padding-right: 1em; text-align: center; vertical-align: top\">None</td>\n",
       "    </tr>\n",
       "    <tr>\n",
       "        <td style=\"padding-left: 1em; padding-right: 1em; text-align: center; vertical-align: top\">_train_test_model-0-8</td>\n",
       "        <td style=\"padding-left: 1em; padding-right: 1em; text-align: center; vertical-align: top\">Completed</td>\n",
       "        <td style=\"padding-left: 1em; padding-right: 1em; text-align: center; vertical-align: top\">2017-05-25 16:39:14</td>\n",
       "        <td style=\"padding-left: 1em; padding-right: 1em; text-align: center; vertical-align: top\">6.13260912895</td>\n",
       "        <td style=\"padding-left: 1em; padding-right: 1em; text-align: center; vertical-align: top\">None</td>\n",
       "        <td style=\"padding-left: 1em; padding-right: 1em; text-align: center; vertical-align: top\">None</td>\n",
       "        <td style=\"padding-left: 1em; padding-right: 1em; text-align: center; vertical-align: top\">None</td>\n",
       "    </tr>\n",
       "    <tr>\n",
       "        <td style=\"padding-left: 1em; padding-right: 1em; text-align: center; vertical-align: top\">_train_test_model-0-9</td>\n",
       "        <td style=\"padding-left: 1em; padding-right: 1em; text-align: center; vertical-align: top\">Completed</td>\n",
       "        <td style=\"padding-left: 1em; padding-right: 1em; text-align: center; vertical-align: top\">2017-05-25 16:39:20</td>\n",
       "        <td style=\"padding-left: 1em; padding-right: 1em; text-align: center; vertical-align: top\">6.24866008759</td>\n",
       "        <td style=\"padding-left: 1em; padding-right: 1em; text-align: center; vertical-align: top\">None</td>\n",
       "        <td style=\"padding-left: 1em; padding-right: 1em; text-align: center; vertical-align: top\">None</td>\n",
       "        <td style=\"padding-left: 1em; padding-right: 1em; text-align: center; vertical-align: top\">None</td>\n",
       "    </tr>\n",
       "</table>\n",
       "<table frame=\"box\" rules=\"cols\">\n",
       "    <tr>\n",
       "        <th style=\"padding-left: 1em; padding-right: 1em; text-align: center\">job_name</th>\n",
       "    </tr>\n",
       "    <tr>\n",
       "        <td style=\"padding-left: 1em; padding-right: 1em; text-align: center; vertical-align: top\">Model-Parameter-Search-Ma<br>y-25-2017-16-38-07000 ...</td>\n",
       "    </tr>\n",
       "    <tr>\n",
       "        <td style=\"padding-left: 1em; padding-right: 1em; text-align: center; vertical-align: top\">Model-Parameter-Search-Ma<br>y-25-2017-16-38-07000 ...</td>\n",
       "    </tr>\n",
       "    <tr>\n",
       "        <td style=\"padding-left: 1em; padding-right: 1em; text-align: center; vertical-align: top\">Model-Parameter-Search-Ma<br>y-25-2017-16-38-07000 ...</td>\n",
       "    </tr>\n",
       "    <tr>\n",
       "        <td style=\"padding-left: 1em; padding-right: 1em; text-align: center; vertical-align: top\">Model-Parameter-Search-Ma<br>y-25-2017-16-38-07000 ...</td>\n",
       "    </tr>\n",
       "    <tr>\n",
       "        <td style=\"padding-left: 1em; padding-right: 1em; text-align: center; vertical-align: top\">Model-Parameter-Search-Ma<br>y-25-2017-16-38-07000 ...</td>\n",
       "    </tr>\n",
       "    <tr>\n",
       "        <td style=\"padding-left: 1em; padding-right: 1em; text-align: center; vertical-align: top\">Model-Parameter-Search-Ma<br>y-25-2017-16-38-07000 ...</td>\n",
       "    </tr>\n",
       "    <tr>\n",
       "        <td style=\"padding-left: 1em; padding-right: 1em; text-align: center; vertical-align: top\">Model-Parameter-Search-Ma<br>y-25-2017-16-38-07000 ...</td>\n",
       "    </tr>\n",
       "    <tr>\n",
       "        <td style=\"padding-left: 1em; padding-right: 1em; text-align: center; vertical-align: top\">Model-Parameter-Search-Ma<br>y-25-2017-16-38-07000 ...</td>\n",
       "    </tr>\n",
       "    <tr>\n",
       "        <td style=\"padding-left: 1em; padding-right: 1em; text-align: center; vertical-align: top\">Model-Parameter-Search-Ma<br>y-25-2017-16-38-07000 ...</td>\n",
       "    </tr>\n",
       "    <tr>\n",
       "        <td style=\"padding-left: 1em; padding-right: 1em; text-align: center; vertical-align: top\">Model-Parameter-Search-Ma<br>y-25-2017-16-38-07000 ...</td>\n",
       "    </tr>\n",
       "</table>\n",
       "[35 rows x 8 columns]<br/>Note: Only the head of the SFrame is printed.<br/>You can use print_rows(num_rows=m, num_columns=n) to print more rows and columns.\n",
       "</div>"
      ],
      "text/plain": [
       "Columns:\n",
       "\ttask_name\tstr\n",
       "\tstatus\tstr\n",
       "\tstart_time\tstr\n",
       "\trun_time\tfloat\n",
       "\texception\tfloat\n",
       "\texception_message\tfloat\n",
       "\texception_traceback\tfloat\n",
       "\tjob_name\tstr\n",
       "\n",
       "Rows: 35\n",
       "\n",
       "Data:\n",
       "+-----------------------+-----------+---------------------+---------------+-----------+\n",
       "|       task_name       |   status  |      start_time     |    run_time   | exception |\n",
       "+-----------------------+-----------+---------------------+---------------+-----------+\n",
       "| _train_test_model-0-0 | Completed | 2017-05-25 16:38:22 | 4.83546280861 |    None   |\n",
       "| _train_test_model-0-1 | Completed | 2017-05-25 16:38:27 | 4.28994393349 |    None   |\n",
       "| _train_test_model-0-2 | Completed | 2017-05-25 16:38:31 | 12.6711649895 |    None   |\n",
       "| _train_test_model-0-3 | Completed | 2017-05-25 16:38:44 | 6.12934613228 |    None   |\n",
       "| _train_test_model-0-4 | Completed | 2017-05-25 16:38:50 | 5.99115419388 |    None   |\n",
       "| _train_test_model-0-5 | Completed | 2017-05-25 16:38:56 | 5.96607494354 |    None   |\n",
       "| _train_test_model-0-6 | Completed | 2017-05-25 16:39:02 | 6.18768501282 |    None   |\n",
       "| _train_test_model-0-7 | Completed | 2017-05-25 16:39:08 | 6.30825185776 |    None   |\n",
       "| _train_test_model-0-8 | Completed | 2017-05-25 16:39:14 | 6.13260912895 |    None   |\n",
       "| _train_test_model-0-9 | Completed | 2017-05-25 16:39:20 | 6.24866008759 |    None   |\n",
       "+-----------------------+-----------+---------------------+---------------+-----------+\n",
       "+-------------------+---------------------+-------------------------------+\n",
       "| exception_message | exception_traceback |            job_name           |\n",
       "+-------------------+---------------------+-------------------------------+\n",
       "|        None       |         None        | Model-Parameter-Search-May... |\n",
       "|        None       |         None        | Model-Parameter-Search-May... |\n",
       "|        None       |         None        | Model-Parameter-Search-May... |\n",
       "|        None       |         None        | Model-Parameter-Search-May... |\n",
       "|        None       |         None        | Model-Parameter-Search-May... |\n",
       "|        None       |         None        | Model-Parameter-Search-May... |\n",
       "|        None       |         None        | Model-Parameter-Search-May... |\n",
       "|        None       |         None        | Model-Parameter-Search-May... |\n",
       "|        None       |         None        | Model-Parameter-Search-May... |\n",
       "|        None       |         None        | Model-Parameter-Search-May... |\n",
       "+-------------------+---------------------+-------------------------------+\n",
       "[35 rows x 8 columns]\n",
       "Note: Only the head of the SFrame is printed.\n",
       "You can use print_rows(num_rows=m, num_columns=n) to print more rows and columns."
      ]
     },
     "execution_count": 94,
     "metadata": {},
     "output_type": "execute_result"
    }
   ],
   "source": [
    "res"
   ]
  },
  {
   "cell_type": "code",
   "execution_count": 110,
   "metadata": {},
   "outputs": [
    {
     "data": {
      "text/plain": [
       "(10, 17)"
      ]
     },
     "execution_count": 110,
     "metadata": {},
     "output_type": "execute_result"
    }
   ],
   "source": [
    "search_results.shape"
   ]
  },
  {
   "cell_type": "code",
   "execution_count": 111,
   "metadata": {
    "scrolled": true
   },
   "outputs": [
    {
     "data": {
      "text/html": [
       "<div style=\"max-height:1000px;max-width:1500px;overflow:auto;\"><table frame=\"box\" rules=\"cols\">\n",
       "    <tr>\n",
       "        <th style=\"padding-left: 1em; padding-right: 1em; text-align: center\">class_weights</th>\n",
       "        <th style=\"padding-left: 1em; padding-right: 1em; text-align: center\">column_subsample</th>\n",
       "        <th style=\"padding-left: 1em; padding-right: 1em; text-align: center\">early_stopping_rounds</th>\n",
       "        <th style=\"padding-left: 1em; padding-right: 1em; text-align: center\">max_depth</th>\n",
       "        <th style=\"padding-left: 1em; padding-right: 1em; text-align: center\">max_iterations</th>\n",
       "        <th style=\"padding-left: 1em; padding-right: 1em; text-align: center\">metric</th>\n",
       "        <th style=\"padding-left: 1em; padding-right: 1em; text-align: center\">min_child_weight</th>\n",
       "    </tr>\n",
       "    <tr>\n",
       "        <td style=\"padding-left: 1em; padding-right: 1em; text-align: center; vertical-align: top\">None</td>\n",
       "        <td style=\"padding-left: 1em; padding-right: 1em; text-align: center; vertical-align: top\">0.05</td>\n",
       "        <td style=\"padding-left: 1em; padding-right: 1em; text-align: center; vertical-align: top\">5</td>\n",
       "        <td style=\"padding-left: 1em; padding-right: 1em; text-align: center; vertical-align: top\">2</td>\n",
       "        <td style=\"padding-left: 1em; padding-right: 1em; text-align: center; vertical-align: top\">90</td>\n",
       "        <td style=\"padding-left: 1em; padding-right: 1em; text-align: center; vertical-align: top\">auc</td>\n",
       "        <td style=\"padding-left: 1em; padding-right: 1em; text-align: center; vertical-align: top\">2</td>\n",
       "    </tr>\n",
       "    <tr>\n",
       "        <td style=\"padding-left: 1em; padding-right: 1em; text-align: center; vertical-align: top\">None</td>\n",
       "        <td style=\"padding-left: 1em; padding-right: 1em; text-align: center; vertical-align: top\">0.05</td>\n",
       "        <td style=\"padding-left: 1em; padding-right: 1em; text-align: center; vertical-align: top\">5</td>\n",
       "        <td style=\"padding-left: 1em; padding-right: 1em; text-align: center; vertical-align: top\">2</td>\n",
       "        <td style=\"padding-left: 1em; padding-right: 1em; text-align: center; vertical-align: top\">250</td>\n",
       "        <td style=\"padding-left: 1em; padding-right: 1em; text-align: center; vertical-align: top\">auc</td>\n",
       "        <td style=\"padding-left: 1em; padding-right: 1em; text-align: center; vertical-align: top\">2</td>\n",
       "    </tr>\n",
       "    <tr>\n",
       "        <td style=\"padding-left: 1em; padding-right: 1em; text-align: center; vertical-align: top\">None</td>\n",
       "        <td style=\"padding-left: 1em; padding-right: 1em; text-align: center; vertical-align: top\">0.1</td>\n",
       "        <td style=\"padding-left: 1em; padding-right: 1em; text-align: center; vertical-align: top\">5</td>\n",
       "        <td style=\"padding-left: 1em; padding-right: 1em; text-align: center; vertical-align: top\">2</td>\n",
       "        <td style=\"padding-left: 1em; padding-right: 1em; text-align: center; vertical-align: top\">120</td>\n",
       "        <td style=\"padding-left: 1em; padding-right: 1em; text-align: center; vertical-align: top\">auc</td>\n",
       "        <td style=\"padding-left: 1em; padding-right: 1em; text-align: center; vertical-align: top\">2</td>\n",
       "    </tr>\n",
       "    <tr>\n",
       "        <td style=\"padding-left: 1em; padding-right: 1em; text-align: center; vertical-align: top\">None</td>\n",
       "        <td style=\"padding-left: 1em; padding-right: 1em; text-align: center; vertical-align: top\">0.05</td>\n",
       "        <td style=\"padding-left: 1em; padding-right: 1em; text-align: center; vertical-align: top\">5</td>\n",
       "        <td style=\"padding-left: 1em; padding-right: 1em; text-align: center; vertical-align: top\">6</td>\n",
       "        <td style=\"padding-left: 1em; padding-right: 1em; text-align: center; vertical-align: top\">120</td>\n",
       "        <td style=\"padding-left: 1em; padding-right: 1em; text-align: center; vertical-align: top\">auc</td>\n",
       "        <td style=\"padding-left: 1em; padding-right: 1em; text-align: center; vertical-align: top\">10</td>\n",
       "    </tr>\n",
       "    <tr>\n",
       "        <td style=\"padding-left: 1em; padding-right: 1em; text-align: center; vertical-align: top\">None</td>\n",
       "        <td style=\"padding-left: 1em; padding-right: 1em; text-align: center; vertical-align: top\">0.05</td>\n",
       "        <td style=\"padding-left: 1em; padding-right: 1em; text-align: center; vertical-align: top\">5</td>\n",
       "        <td style=\"padding-left: 1em; padding-right: 1em; text-align: center; vertical-align: top\">6</td>\n",
       "        <td style=\"padding-left: 1em; padding-right: 1em; text-align: center; vertical-align: top\">200</td>\n",
       "        <td style=\"padding-left: 1em; padding-right: 1em; text-align: center; vertical-align: top\">auc</td>\n",
       "        <td style=\"padding-left: 1em; padding-right: 1em; text-align: center; vertical-align: top\">2</td>\n",
       "    </tr>\n",
       "    <tr>\n",
       "        <td style=\"padding-left: 1em; padding-right: 1em; text-align: center; vertical-align: top\">None</td>\n",
       "        <td style=\"padding-left: 1em; padding-right: 1em; text-align: center; vertical-align: top\">0.1</td>\n",
       "        <td style=\"padding-left: 1em; padding-right: 1em; text-align: center; vertical-align: top\">5</td>\n",
       "        <td style=\"padding-left: 1em; padding-right: 1em; text-align: center; vertical-align: top\">6</td>\n",
       "        <td style=\"padding-left: 1em; padding-right: 1em; text-align: center; vertical-align: top\">200</td>\n",
       "        <td style=\"padding-left: 1em; padding-right: 1em; text-align: center; vertical-align: top\">auc</td>\n",
       "        <td style=\"padding-left: 1em; padding-right: 1em; text-align: center; vertical-align: top\">10</td>\n",
       "    </tr>\n",
       "    <tr>\n",
       "        <td style=\"padding-left: 1em; padding-right: 1em; text-align: center; vertical-align: top\">None</td>\n",
       "        <td style=\"padding-left: 1em; padding-right: 1em; text-align: center; vertical-align: top\">0.1</td>\n",
       "        <td style=\"padding-left: 1em; padding-right: 1em; text-align: center; vertical-align: top\">5</td>\n",
       "        <td style=\"padding-left: 1em; padding-right: 1em; text-align: center; vertical-align: top\">2</td>\n",
       "        <td style=\"padding-left: 1em; padding-right: 1em; text-align: center; vertical-align: top\">120</td>\n",
       "        <td style=\"padding-left: 1em; padding-right: 1em; text-align: center; vertical-align: top\">auc</td>\n",
       "        <td style=\"padding-left: 1em; padding-right: 1em; text-align: center; vertical-align: top\">10</td>\n",
       "    </tr>\n",
       "    <tr>\n",
       "        <td style=\"padding-left: 1em; padding-right: 1em; text-align: center; vertical-align: top\">None</td>\n",
       "        <td style=\"padding-left: 1em; padding-right: 1em; text-align: center; vertical-align: top\">0.1</td>\n",
       "        <td style=\"padding-left: 1em; padding-right: 1em; text-align: center; vertical-align: top\">5</td>\n",
       "        <td style=\"padding-left: 1em; padding-right: 1em; text-align: center; vertical-align: top\">2</td>\n",
       "        <td style=\"padding-left: 1em; padding-right: 1em; text-align: center; vertical-align: top\">90</td>\n",
       "        <td style=\"padding-left: 1em; padding-right: 1em; text-align: center; vertical-align: top\">auc</td>\n",
       "        <td style=\"padding-left: 1em; padding-right: 1em; text-align: center; vertical-align: top\">10</td>\n",
       "    </tr>\n",
       "    <tr>\n",
       "        <td style=\"padding-left: 1em; padding-right: 1em; text-align: center; vertical-align: top\">None</td>\n",
       "        <td style=\"padding-left: 1em; padding-right: 1em; text-align: center; vertical-align: top\">0.1</td>\n",
       "        <td style=\"padding-left: 1em; padding-right: 1em; text-align: center; vertical-align: top\">5</td>\n",
       "        <td style=\"padding-left: 1em; padding-right: 1em; text-align: center; vertical-align: top\">9</td>\n",
       "        <td style=\"padding-left: 1em; padding-right: 1em; text-align: center; vertical-align: top\">90</td>\n",
       "        <td style=\"padding-left: 1em; padding-right: 1em; text-align: center; vertical-align: top\">auc</td>\n",
       "        <td style=\"padding-left: 1em; padding-right: 1em; text-align: center; vertical-align: top\">2</td>\n",
       "    </tr>\n",
       "    <tr>\n",
       "        <td style=\"padding-left: 1em; padding-right: 1em; text-align: center; vertical-align: top\">None</td>\n",
       "        <td style=\"padding-left: 1em; padding-right: 1em; text-align: center; vertical-align: top\">0.1</td>\n",
       "        <td style=\"padding-left: 1em; padding-right: 1em; text-align: center; vertical-align: top\">5</td>\n",
       "        <td style=\"padding-left: 1em; padding-right: 1em; text-align: center; vertical-align: top\">9</td>\n",
       "        <td style=\"padding-left: 1em; padding-right: 1em; text-align: center; vertical-align: top\">120</td>\n",
       "        <td style=\"padding-left: 1em; padding-right: 1em; text-align: center; vertical-align: top\">auc</td>\n",
       "        <td style=\"padding-left: 1em; padding-right: 1em; text-align: center; vertical-align: top\">10</td>\n",
       "    </tr>\n",
       "</table>\n",
       "<table frame=\"box\" rules=\"cols\">\n",
       "    <tr>\n",
       "        <th style=\"padding-left: 1em; padding-right: 1em; text-align: center\">min_loss_reduction</th>\n",
       "        <th style=\"padding-left: 1em; padding-right: 1em; text-align: center\">random_seed</th>\n",
       "        <th style=\"padding-left: 1em; padding-right: 1em; text-align: center\">row_subsample</th>\n",
       "        <th style=\"padding-left: 1em; padding-right: 1em; text-align: center\">step_size</th>\n",
       "        <th style=\"padding-left: 1em; padding-right: 1em; text-align: center\">target</th>\n",
       "        <th style=\"padding-left: 1em; padding-right: 1em; text-align: center\">num_folds</th>\n",
       "        <th style=\"padding-left: 1em; padding-right: 1em; text-align: center\">fold_id</th>\n",
       "    </tr>\n",
       "    <tr>\n",
       "        <td style=\"padding-left: 1em; padding-right: 1em; text-align: center; vertical-align: top\">10.0</td>\n",
       "        <td style=\"padding-left: 1em; padding-right: 1em; text-align: center; vertical-align: top\">415168</td>\n",
       "        <td style=\"padding-left: 1em; padding-right: 1em; text-align: center; vertical-align: top\">1.0</td>\n",
       "        <td style=\"padding-left: 1em; padding-right: 1em; text-align: center; vertical-align: top\">1.0</td>\n",
       "        <td style=\"padding-left: 1em; padding-right: 1em; text-align: center; vertical-align: top\">target</td>\n",
       "        <td style=\"padding-left: 1em; padding-right: 1em; text-align: center; vertical-align: top\">10</td>\n",
       "        <td style=\"padding-left: 1em; padding-right: 1em; text-align: center; vertical-align: top\">[8, 9, 4, 5, 6, 7, 0, 1,<br>2, 3] ...</td>\n",
       "    </tr>\n",
       "    <tr>\n",
       "        <td style=\"padding-left: 1em; padding-right: 1em; text-align: center; vertical-align: top\">0.01</td>\n",
       "        <td style=\"padding-left: 1em; padding-right: 1em; text-align: center; vertical-align: top\">415168</td>\n",
       "        <td style=\"padding-left: 1em; padding-right: 1em; text-align: center; vertical-align: top\">1.0</td>\n",
       "        <td style=\"padding-left: 1em; padding-right: 1em; text-align: center; vertical-align: top\">0.1</td>\n",
       "        <td style=\"padding-left: 1em; padding-right: 1em; text-align: center; vertical-align: top\">target</td>\n",
       "        <td style=\"padding-left: 1em; padding-right: 1em; text-align: center; vertical-align: top\">10</td>\n",
       "        <td style=\"padding-left: 1em; padding-right: 1em; text-align: center; vertical-align: top\">[8, 9, 4, 7, 6, 1, 0, 3,<br>2, 5] ...</td>\n",
       "    </tr>\n",
       "    <tr>\n",
       "        <td style=\"padding-left: 1em; padding-right: 1em; text-align: center; vertical-align: top\">10.0</td>\n",
       "        <td style=\"padding-left: 1em; padding-right: 1em; text-align: center; vertical-align: top\">415168</td>\n",
       "        <td style=\"padding-left: 1em; padding-right: 1em; text-align: center; vertical-align: top\">0.9</td>\n",
       "        <td style=\"padding-left: 1em; padding-right: 1em; text-align: center; vertical-align: top\">0.1</td>\n",
       "        <td style=\"padding-left: 1em; padding-right: 1em; text-align: center; vertical-align: top\">target</td>\n",
       "        <td style=\"padding-left: 1em; padding-right: 1em; text-align: center; vertical-align: top\">10</td>\n",
       "        <td style=\"padding-left: 1em; padding-right: 1em; text-align: center; vertical-align: top\">[8, 9, 4, 5, 6, 7, 1, 0,<br>3, 2] ...</td>\n",
       "    </tr>\n",
       "    <tr>\n",
       "        <td style=\"padding-left: 1em; padding-right: 1em; text-align: center; vertical-align: top\">0.01</td>\n",
       "        <td style=\"padding-left: 1em; padding-right: 1em; text-align: center; vertical-align: top\">415168</td>\n",
       "        <td style=\"padding-left: 1em; padding-right: 1em; text-align: center; vertical-align: top\">1.0</td>\n",
       "        <td style=\"padding-left: 1em; padding-right: 1em; text-align: center; vertical-align: top\">0.1</td>\n",
       "        <td style=\"padding-left: 1em; padding-right: 1em; text-align: center; vertical-align: top\">target</td>\n",
       "        <td style=\"padding-left: 1em; padding-right: 1em; text-align: center; vertical-align: top\">10</td>\n",
       "        <td style=\"padding-left: 1em; padding-right: 1em; text-align: center; vertical-align: top\">[1, 0, 3, 2, 5, 4, 7, 6,<br>9, 8] ...</td>\n",
       "    </tr>\n",
       "    <tr>\n",
       "        <td style=\"padding-left: 1em; padding-right: 1em; text-align: center; vertical-align: top\">0.01</td>\n",
       "        <td style=\"padding-left: 1em; padding-right: 1em; text-align: center; vertical-align: top\">415168</td>\n",
       "        <td style=\"padding-left: 1em; padding-right: 1em; text-align: center; vertical-align: top\">1.0</td>\n",
       "        <td style=\"padding-left: 1em; padding-right: 1em; text-align: center; vertical-align: top\">0.5</td>\n",
       "        <td style=\"padding-left: 1em; padding-right: 1em; text-align: center; vertical-align: top\">target</td>\n",
       "        <td style=\"padding-left: 1em; padding-right: 1em; text-align: center; vertical-align: top\">10</td>\n",
       "        <td style=\"padding-left: 1em; padding-right: 1em; text-align: center; vertical-align: top\">[7, 6, 1, 0, 3, 2, 5, 4,<br>9, 8] ...</td>\n",
       "    </tr>\n",
       "    <tr>\n",
       "        <td style=\"padding-left: 1em; padding-right: 1em; text-align: center; vertical-align: top\">10.0</td>\n",
       "        <td style=\"padding-left: 1em; padding-right: 1em; text-align: center; vertical-align: top\">415168</td>\n",
       "        <td style=\"padding-left: 1em; padding-right: 1em; text-align: center; vertical-align: top\">0.9</td>\n",
       "        <td style=\"padding-left: 1em; padding-right: 1em; text-align: center; vertical-align: top\">0.1</td>\n",
       "        <td style=\"padding-left: 1em; padding-right: 1em; text-align: center; vertical-align: top\">target</td>\n",
       "        <td style=\"padding-left: 1em; padding-right: 1em; text-align: center; vertical-align: top\">10</td>\n",
       "        <td style=\"padding-left: 1em; padding-right: 1em; text-align: center; vertical-align: top\">[5, 4, 7, 6, 9, 8, 1, 0,<br>3, 2] ...</td>\n",
       "    </tr>\n",
       "    <tr>\n",
       "        <td style=\"padding-left: 1em; padding-right: 1em; text-align: center; vertical-align: top\">0.01</td>\n",
       "        <td style=\"padding-left: 1em; padding-right: 1em; text-align: center; vertical-align: top\">415168</td>\n",
       "        <td style=\"padding-left: 1em; padding-right: 1em; text-align: center; vertical-align: top\">0.9</td>\n",
       "        <td style=\"padding-left: 1em; padding-right: 1em; text-align: center; vertical-align: top\">1.0</td>\n",
       "        <td style=\"padding-left: 1em; padding-right: 1em; text-align: center; vertical-align: top\">target</td>\n",
       "        <td style=\"padding-left: 1em; padding-right: 1em; text-align: center; vertical-align: top\">10</td>\n",
       "        <td style=\"padding-left: 1em; padding-right: 1em; text-align: center; vertical-align: top\">[0, 1, 9, 8, 5, 4, 7, 6,<br>2, 3] ...</td>\n",
       "    </tr>\n",
       "    <tr>\n",
       "        <td style=\"padding-left: 1em; padding-right: 1em; text-align: center; vertical-align: top\">10.0</td>\n",
       "        <td style=\"padding-left: 1em; padding-right: 1em; text-align: center; vertical-align: top\">415168</td>\n",
       "        <td style=\"padding-left: 1em; padding-right: 1em; text-align: center; vertical-align: top\">1.0</td>\n",
       "        <td style=\"padding-left: 1em; padding-right: 1em; text-align: center; vertical-align: top\">1.0</td>\n",
       "        <td style=\"padding-left: 1em; padding-right: 1em; text-align: center; vertical-align: top\">target</td>\n",
       "        <td style=\"padding-left: 1em; padding-right: 1em; text-align: center; vertical-align: top\">10</td>\n",
       "        <td style=\"padding-left: 1em; padding-right: 1em; text-align: center; vertical-align: top\">[3, 2, 5, 4, 7, 6, 9, 8,<br>1, 0] ...</td>\n",
       "    </tr>\n",
       "    <tr>\n",
       "        <td style=\"padding-left: 1em; padding-right: 1em; text-align: center; vertical-align: top\">10.0</td>\n",
       "        <td style=\"padding-left: 1em; padding-right: 1em; text-align: center; vertical-align: top\">415168</td>\n",
       "        <td style=\"padding-left: 1em; padding-right: 1em; text-align: center; vertical-align: top\">1.0</td>\n",
       "        <td style=\"padding-left: 1em; padding-right: 1em; text-align: center; vertical-align: top\">1.0</td>\n",
       "        <td style=\"padding-left: 1em; padding-right: 1em; text-align: center; vertical-align: top\">target</td>\n",
       "        <td style=\"padding-left: 1em; padding-right: 1em; text-align: center; vertical-align: top\">10</td>\n",
       "        <td style=\"padding-left: 1em; padding-right: 1em; text-align: center; vertical-align: top\">[3, 4, 5, 0, 1, 9, 8, 6,<br>7, 2] ...</td>\n",
       "    </tr>\n",
       "    <tr>\n",
       "        <td style=\"padding-left: 1em; padding-right: 1em; text-align: center; vertical-align: top\">0.01</td>\n",
       "        <td style=\"padding-left: 1em; padding-right: 1em; text-align: center; vertical-align: top\">415168</td>\n",
       "        <td style=\"padding-left: 1em; padding-right: 1em; text-align: center; vertical-align: top\">0.9</td>\n",
       "        <td style=\"padding-left: 1em; padding-right: 1em; text-align: center; vertical-align: top\">0.1</td>\n",
       "        <td style=\"padding-left: 1em; padding-right: 1em; text-align: center; vertical-align: top\">target</td>\n",
       "        <td style=\"padding-left: 1em; padding-right: 1em; text-align: center; vertical-align: top\">10</td>\n",
       "        <td style=\"padding-left: 1em; padding-right: 1em; text-align: center; vertical-align: top\">[8, 1, 0, 3, 2, 5, 4, 7,<br>6, 9] ...</td>\n",
       "    </tr>\n",
       "</table>\n",
       "<table frame=\"box\" rules=\"cols\">\n",
       "    <tr>\n",
       "        <th style=\"padding-left: 1em; padding-right: 1em; text-align: center\">mean_training_accuracy</th>\n",
       "        <th style=\"padding-left: 1em; padding-right: 1em; text-align: center\">mean_validation_accuracy</th>\n",
       "        <th style=\"padding-left: 1em; padding-right: 1em; text-align: center\">model_id</th>\n",
       "    </tr>\n",
       "    <tr>\n",
       "        <td style=\"padding-left: 1em; padding-right: 1em; text-align: center; vertical-align: top\">0.80911904376</td>\n",
       "        <td style=\"padding-left: 1em; padding-right: 1em; text-align: center; vertical-align: top\">0.80775255879</td>\n",
       "        <td style=\"padding-left: 1em; padding-right: 1em; text-align: center; vertical-align: top\">[28, 29, 24, 25, 26, 27,<br>20, 21, 22, 23] ...</td>\n",
       "    </tr>\n",
       "    <tr>\n",
       "        <td style=\"padding-left: 1em; padding-right: 1em; text-align: center; vertical-align: top\">0.796505336155</td>\n",
       "        <td style=\"padding-left: 1em; padding-right: 1em; text-align: center; vertical-align: top\">0.800790381708</td>\n",
       "        <td style=\"padding-left: 1em; padding-right: 1em; text-align: center; vertical-align: top\">[88, 89, 84, 87, 86, 81,<br>80, 83, 82, 85] ...</td>\n",
       "    </tr>\n",
       "    <tr>\n",
       "        <td style=\"padding-left: 1em; padding-right: 1em; text-align: center; vertical-align: top\">0.812538931325</td>\n",
       "        <td style=\"padding-left: 1em; padding-right: 1em; text-align: center; vertical-align: top\">0.805055813362</td>\n",
       "        <td style=\"padding-left: 1em; padding-right: 1em; text-align: center; vertical-align: top\">[58, 59, 54, 55, 56, 57,<br>51, 50, 53, 52] ...</td>\n",
       "    </tr>\n",
       "    <tr>\n",
       "        <td style=\"padding-left: 1em; padding-right: 1em; text-align: center; vertical-align: top\">0.799593348264</td>\n",
       "        <td style=\"padding-left: 1em; padding-right: 1em; text-align: center; vertical-align: top\">0.80190234785</td>\n",
       "        <td style=\"padding-left: 1em; padding-right: 1em; text-align: center; vertical-align: top\">[11, 10, 13, 12, 15, 14,<br>17, 16, 19, 18] ...</td>\n",
       "    </tr>\n",
       "    <tr>\n",
       "        <td style=\"padding-left: 1em; padding-right: 1em; text-align: center; vertical-align: top\">0.808171816259</td>\n",
       "        <td style=\"padding-left: 1em; padding-right: 1em; text-align: center; vertical-align: top\">0.806662349021</td>\n",
       "        <td style=\"padding-left: 1em; padding-right: 1em; text-align: center; vertical-align: top\">[77, 76, 71, 70, 73, 72,<br>75, 74, 79, 78] ...</td>\n",
       "    </tr>\n",
       "    <tr>\n",
       "        <td style=\"padding-left: 1em; padding-right: 1em; text-align: center; vertical-align: top\">0.814701518617</td>\n",
       "        <td style=\"padding-left: 1em; padding-right: 1em; text-align: center; vertical-align: top\">0.81107344907</td>\n",
       "        <td style=\"padding-left: 1em; padding-right: 1em; text-align: center; vertical-align: top\">[35, 34, 37, 36, 39, 38,<br>31, 30, 33, 32] ...</td>\n",
       "    </tr>\n",
       "    <tr>\n",
       "        <td style=\"padding-left: 1em; padding-right: 1em; text-align: center; vertical-align: top\">0.831377895774</td>\n",
       "        <td style=\"padding-left: 1em; padding-right: 1em; text-align: center; vertical-align: top\">0.826939561864</td>\n",
       "        <td style=\"padding-left: 1em; padding-right: 1em; text-align: center; vertical-align: top\">[60, 61, 69, 68, 65, 64,<br>67, 66, 62, 63] ...</td>\n",
       "    </tr>\n",
       "    <tr>\n",
       "        <td style=\"padding-left: 1em; padding-right: 1em; text-align: center; vertical-align: top\">0.820540798245</td>\n",
       "        <td style=\"padding-left: 1em; padding-right: 1em; text-align: center; vertical-align: top\">0.819134104295</td>\n",
       "        <td style=\"padding-left: 1em; padding-right: 1em; text-align: center; vertical-align: top\">[43, 42, 45, 44, 47, 46,<br>49, 48, 41, 40] ...</td>\n",
       "    </tr>\n",
       "    <tr>\n",
       "        <td style=\"padding-left: 1em; padding-right: 1em; text-align: center; vertical-align: top\">0.826405118832</td>\n",
       "        <td style=\"padding-left: 1em; padding-right: 1em; text-align: center; vertical-align: top\">0.823291272245</td>\n",
       "        <td style=\"padding-left: 1em; padding-right: 1em; text-align: center; vertical-align: top\">[93, 94, 95, 90, 91, 99,<br>98, 96, 97, 92] ...</td>\n",
       "    </tr>\n",
       "    <tr>\n",
       "        <td style=\"padding-left: 1em; padding-right: 1em; text-align: center; vertical-align: top\">0.821122224033</td>\n",
       "        <td style=\"padding-left: 1em; padding-right: 1em; text-align: center; vertical-align: top\">0.813137542002</td>\n",
       "        <td style=\"padding-left: 1em; padding-right: 1em; text-align: center; vertical-align: top\">[8, 1, 0, 3, 2, 5, 4, 7,<br>6, 9] ...</td>\n",
       "    </tr>\n",
       "</table>\n",
       "[10 rows x 17 columns]<br/>\n",
       "</div>"
      ],
      "text/plain": [
       "Columns:\n",
       "\tclass_weights\tfloat\n",
       "\tcolumn_subsample\tfloat\n",
       "\tearly_stopping_rounds\tint\n",
       "\tmax_depth\tint\n",
       "\tmax_iterations\tint\n",
       "\tmetric\tstr\n",
       "\tmin_child_weight\tint\n",
       "\tmin_loss_reduction\tfloat\n",
       "\trandom_seed\tint\n",
       "\trow_subsample\tfloat\n",
       "\tstep_size\tfloat\n",
       "\ttarget\tstr\n",
       "\tnum_folds\tint\n",
       "\tfold_id\tlist\n",
       "\tmean_training_accuracy\tfloat\n",
       "\tmean_validation_accuracy\tfloat\n",
       "\tmodel_id\tlist\n",
       "\n",
       "Rows: 10\n",
       "\n",
       "Data:\n",
       "+---------------+------------------+-----------------------+-----------+----------------+\n",
       "| class_weights | column_subsample | early_stopping_rounds | max_depth | max_iterations |\n",
       "+---------------+------------------+-----------------------+-----------+----------------+\n",
       "|      None     |       0.05       |           5           |     2     |       90       |\n",
       "|      None     |       0.05       |           5           |     2     |      250       |\n",
       "|      None     |       0.1        |           5           |     2     |      120       |\n",
       "|      None     |       0.05       |           5           |     6     |      120       |\n",
       "|      None     |       0.05       |           5           |     6     |      200       |\n",
       "|      None     |       0.1        |           5           |     6     |      200       |\n",
       "|      None     |       0.1        |           5           |     2     |      120       |\n",
       "|      None     |       0.1        |           5           |     2     |       90       |\n",
       "|      None     |       0.1        |           5           |     9     |       90       |\n",
       "|      None     |       0.1        |           5           |     9     |      120       |\n",
       "+---------------+------------------+-----------------------+-----------+----------------+\n",
       "+--------+------------------+--------------------+-------------+---------------+\n",
       "| metric | min_child_weight | min_loss_reduction | random_seed | row_subsample |\n",
       "+--------+------------------+--------------------+-------------+---------------+\n",
       "|  auc   |        2         |        10.0        |    415168   |      1.0      |\n",
       "|  auc   |        2         |        0.01        |    415168   |      1.0      |\n",
       "|  auc   |        2         |        10.0        |    415168   |      0.9      |\n",
       "|  auc   |        10        |        0.01        |    415168   |      1.0      |\n",
       "|  auc   |        2         |        0.01        |    415168   |      1.0      |\n",
       "|  auc   |        10        |        10.0        |    415168   |      0.9      |\n",
       "|  auc   |        10        |        0.01        |    415168   |      0.9      |\n",
       "|  auc   |        10        |        10.0        |    415168   |      1.0      |\n",
       "|  auc   |        2         |        10.0        |    415168   |      1.0      |\n",
       "|  auc   |        10        |        0.01        |    415168   |      0.9      |\n",
       "+--------+------------------+--------------------+-------------+---------------+\n",
       "+-----------+--------+-----------+--------------------------------+\n",
       "| step_size | target | num_folds |            fold_id             |\n",
       "+-----------+--------+-----------+--------------------------------+\n",
       "|    1.0    | target |     10    | [8, 9, 4, 5, 6, 7, 0, 1, 2, 3] |\n",
       "|    0.1    | target |     10    | [8, 9, 4, 7, 6, 1, 0, 3, 2, 5] |\n",
       "|    0.1    | target |     10    | [8, 9, 4, 5, 6, 7, 1, 0, 3, 2] |\n",
       "|    0.1    | target |     10    | [1, 0, 3, 2, 5, 4, 7, 6, 9, 8] |\n",
       "|    0.5    | target |     10    | [7, 6, 1, 0, 3, 2, 5, 4, 9, 8] |\n",
       "|    0.1    | target |     10    | [5, 4, 7, 6, 9, 8, 1, 0, 3, 2] |\n",
       "|    1.0    | target |     10    | [0, 1, 9, 8, 5, 4, 7, 6, 2, 3] |\n",
       "|    1.0    | target |     10    | [3, 2, 5, 4, 7, 6, 9, 8, 1, 0] |\n",
       "|    1.0    | target |     10    | [3, 4, 5, 0, 1, 9, 8, 6, 7, 2] |\n",
       "|    0.1    | target |     10    | [8, 1, 0, 3, 2, 5, 4, 7, 6, 9] |\n",
       "+-----------+--------+-----------+--------------------------------+\n",
       "+------------------------+--------------------------+\n",
       "| mean_training_accuracy | mean_validation_accuracy |\n",
       "+------------------------+--------------------------+\n",
       "|     0.80911904376      |      0.80775255879       |\n",
       "|     0.796505336155     |      0.800790381708      |\n",
       "|     0.812538931325     |      0.805055813362      |\n",
       "|     0.799593348264     |      0.80190234785       |\n",
       "|     0.808171816259     |      0.806662349021      |\n",
       "|     0.814701518617     |      0.81107344907       |\n",
       "|     0.831377895774     |      0.826939561864      |\n",
       "|     0.820540798245     |      0.819134104295      |\n",
       "|     0.826405118832     |      0.823291272245      |\n",
       "|     0.821122224033     |      0.813137542002      |\n",
       "+------------------------+--------------------------+\n",
       "+--------------------------------+\n",
       "|            model_id            |\n",
       "+--------------------------------+\n",
       "| [28, 29, 24, 25, 26, 27, 2...  |\n",
       "| [88, 89, 84, 87, 86, 81, 8...  |\n",
       "| [58, 59, 54, 55, 56, 57, 5...  |\n",
       "| [11, 10, 13, 12, 15, 14, 1...  |\n",
       "| [77, 76, 71, 70, 73, 72, 7...  |\n",
       "| [35, 34, 37, 36, 39, 38, 3...  |\n",
       "| [60, 61, 69, 68, 65, 64, 6...  |\n",
       "| [43, 42, 45, 44, 47, 46, 4...  |\n",
       "| [93, 94, 95, 90, 91, 99, 9...  |\n",
       "| [8, 1, 0, 3, 2, 5, 4, 7, 6, 9] |\n",
       "+--------------------------------+\n",
       "[10 rows x 17 columns]"
      ]
     },
     "execution_count": 111,
     "metadata": {},
     "output_type": "execute_result"
    }
   ],
   "source": [
    "search_results.head()"
   ]
  },
  {
   "cell_type": "code",
   "execution_count": 97,
   "metadata": {
    "scrolled": true
   },
   "outputs": [
    {
     "name": "stdout",
     "output_type": "stream",
     "text": [
      "+---------------+-----------------+----------------+\n",
      "| class_weights |       std       |      mean      |\n",
      "+---------------+-----------------+----------------+\n",
      "|      None     | 0.0105991460052 | 0.814007603126 |\n",
      "+---------------+-----------------+----------------+\n",
      "[1 rows x 3 columns]\n",
      "\n",
      "+------------------+------------------+----------------+\n",
      "| column_subsample |       std        |      mean      |\n",
      "+------------------+------------------+----------------+\n",
      "|       0.05       | 0.00541972337919 | 0.80334738611  |\n",
      "|       0.1        | 0.00643329674533 | 0.821114414471 |\n",
      "+------------------+------------------+----------------+\n",
      "[2 rows x 3 columns]\n",
      "\n",
      "+-----------------------+-----------------+----------------+\n",
      "| early_stopping_rounds |       std       |      mean      |\n",
      "+-----------------------+-----------------+----------------+\n",
      "|           5           | 0.0105991460052 | 0.814007603126 |\n",
      "+-----------------------+-----------------+----------------+\n",
      "[1 rows x 3 columns]\n",
      "\n",
      "+-----------+------------------+----------------+\n",
      "| max_depth |       std        |      mean      |\n",
      "+-----------+------------------+----------------+\n",
      "|     2     | 0.0116343773083  | 0.814016401052 |\n",
      "|     6     | 0.00618675949483 | 0.80748889438  |\n",
      "|     9     | 0.00264144739983 | 0.823763671432 |\n",
      "+-----------+------------------+----------------+\n",
      "[3 rows x 3 columns]\n",
      "\n",
      "+----------------+------------------+----------------+\n",
      "| max_iterations |       std        |      mean      |\n",
      "+----------------+------------------+----------------+\n",
      "|      200       | 0.00326485117889 | 0.811436667438 |\n",
      "|      250       |       0.0        | 0.796505336155 |\n",
      "|      120       | 0.0116594821151  | 0.816158099849 |\n",
      "|       90       | 0.00717755082688 | 0.818688320279 |\n",
      "+----------------+------------------+----------------+\n",
      "[4 rows x 3 columns]\n",
      "\n",
      "+--------+-----------------+----------------+\n",
      "| metric |       std       |      mean      |\n",
      "+--------+-----------------+----------------+\n",
      "|  auc   | 0.0105991460052 | 0.814007603126 |\n",
      "+--------+-----------------+----------------+\n",
      "[1 rows x 3 columns]\n",
      "\n",
      "+------------------+------------------+----------------+\n",
      "| min_child_weight |       std        |      mean      |\n",
      "+------------------+------------------+----------------+\n",
      "|        2         | 0.00959475479787 | 0.810548049266 |\n",
      "|        10        | 0.0104253271712  | 0.817467156986 |\n",
      "+------------------+------------------+----------------+\n",
      "[2 rows x 3 columns]\n",
      "\n",
      "+--------------------+-----------------+----------------+\n",
      "| min_loss_reduction |       std       |      mean      |\n",
      "+--------------------+-----------------+----------------+\n",
      "|        10.0        | 0.0061271985047 | 0.816661082156 |\n",
      "|        0.01        | 0.0131552015813 | 0.811354124097 |\n",
      "+--------------------+-----------------+----------------+\n",
      "[2 rows x 3 columns]\n",
      "\n",
      "+---------------+------------------+----------------+\n",
      "| row_subsample |       std        |      mean      |\n",
      "+---------------+------------------+----------------+\n",
      "|      0.9      | 0.00732189394464 | 0.819935142437 |\n",
      "|      1.0      | 0.0106045610323  | 0.810055910253 |\n",
      "+---------------+------------------+----------------+\n",
      "[2 rows x 3 columns]\n",
      "\n",
      "+-----------+------------------+----------------+\n",
      "| step_size |       std        |      mean      |\n",
      "+-----------+------------------+----------------+\n",
      "|    0.5    |       0.0        | 0.808171816259 |\n",
      "|    0.1    | 0.00934369690728 | 0.808892271679 |\n",
      "|    1.0    | 0.0082963953361  | 0.821860714153 |\n",
      "+-----------+------------------+----------------+\n",
      "[3 rows x 3 columns]\n",
      "\n",
      "+--------+-----------------+----------------+\n",
      "| target |       std       |      mean      |\n",
      "+--------+-----------------+----------------+\n",
      "| target | 0.0105991460052 | 0.814007603126 |\n",
      "+--------+-----------------+----------------+\n",
      "[1 rows x 3 columns]\n",
      "\n"
     ]
    }
   ],
   "source": [
    "for col in [col for col in search_results.column_names() if \\\n",
    "            not('accuracy' in col) and col!= 'model_id' and col!= 'random_seed' and col!= 'fold_id' \\\n",
    "                               and col!= 'num_folds']:\n",
    "    print(search_results.groupby(col,\n",
    "                             {'mean':gl.aggregate.MEAN('mean_training_accuracy'),\n",
    "                                'std':gl.aggregate.STD('mean_training_accuracy')}))"
   ]
  },
  {
   "cell_type": "markdown",
   "metadata": {},
   "source": [
    "## hyperparameter results\n",
    "\n",
    "* class_weights: None, gana por afano\n",
    "* column_subsample : algo menor a 1 pero no queda claro si cuanto menos mejor\n",
    "* row_subsample : algo menor a 1 pero no queda claro si cuanto menos mejor, refinar\n",
    "* max_depth: varia mucho, refinar\n",
    "* max_iterations: tampoco queda claro si poquito o mucho es mejor, reprobar\n",
    "* metric: el f1_score es el unico que no parece variar mucho,los demas cambian demasiado\n",
    "* min_child_weight: varia mucho, reprobar con mas\n",
    "* min_loss_reduction: varia mucho, reprobar\n",
    "* step_size: mas grande parece ser mejor> 0.1"
   ]
  },
  {
   "cell_type": "code",
   "execution_count": null,
   "metadata": {
    "collapsed": true
   },
   "outputs": [],
   "source": []
  },
  {
   "cell_type": "markdown",
   "metadata": {
    "collapsed": true
   },
   "source": [
    "### Results\n",
    "\n",
    "* bootstrap  ???= False es 5% mejor\n",
    "* min_samples_leaf ????= mas chico es claramente mejor, pero tmb aumenta el overfitting lo cual me hace caer mucho el valor del recall en el test_set. Sin embargo es un parametro muy sensible en la precision. Resta evaluar asi el tradeoff entre la precision y el volumen de users al cual queremos llegar.\n",
    "* n_estimators ???= mas pareceria mejor, pero depende del app y hay que ver 'cuanto' mejora por app\n",
    "* citerion ???= entropy o gini no cambia. gini podria ser mejor entonces pues entropy usa logs de los valores lo cual es mas computacionalmente costoso\n",
    "* max_features ???= no afecta al score. con auto esta bien\n",
    "* max_depth ??=  mas es mejor. intentaria probar con >15"
   ]
  },
  {
   "cell_type": "markdown",
   "metadata": {
    "collapsed": true
   },
   "source": [
    "## boosted run with best params"
   ]
  },
  {
   "cell_type": "code",
   "execution_count": 112,
   "metadata": {
    "collapsed": true
   },
   "outputs": [],
   "source": [
    "params = model_search.get_best_params()"
   ]
  },
  {
   "cell_type": "code",
   "execution_count": 113,
   "metadata": {},
   "outputs": [
    {
     "data": {
      "text/plain": [
       "{'class_weights': None,\n",
       " 'column_subsample': 0.1,\n",
       " 'early_stopping_rounds': 5,\n",
       " 'max_depth': 2,\n",
       " 'max_iterations': 120,\n",
       " 'metric': 'auc',\n",
       " 'min_child_weight': 10,\n",
       " 'min_loss_reduction': 0.01,\n",
       " 'random_seed': 415168,\n",
       " 'row_subsample': 0.9,\n",
       " 'step_size': 1,\n",
       " 'target': 'target'}"
      ]
     },
     "execution_count": 113,
     "metadata": {},
     "output_type": "execute_result"
    }
   ],
   "source": [
    "params"
   ]
  },
  {
   "cell_type": "code",
   "execution_count": 107,
   "metadata": {
    "collapsed": true
   },
   "outputs": [],
   "source": [
    "# params = {'class_weights': None,\n",
    "#  'column_subsample': 0.1,\n",
    "#  'early_stopping_rounds': 5,\n",
    "#  'max_depth': 2,\n",
    "#  'max_iterations': 120,\n",
    "#  'metric': 'auc',\n",
    "#  'min_child_weight': 10,\n",
    "#  'min_loss_reduction': 0.01,\n",
    "#  'random_seed': 415168,\n",
    "#  'row_subsample': 0.9,\n",
    "#  'step_size': 1,\n",
    "#  'target': 'target'}"
   ]
  },
  {
   "cell_type": "code",
   "execution_count": null,
   "metadata": {
    "collapsed": true
   },
   "outputs": [],
   "source": []
  },
  {
   "cell_type": "code",
   "execution_count": 119,
   "metadata": {
    "scrolled": true
   },
   "outputs": [
    {
     "data": {
      "text/html": [
       "<pre>Boosted trees classifier:</pre>"
      ],
      "text/plain": [
       "Boosted trees classifier:"
      ]
     },
     "metadata": {},
     "output_type": "display_data"
    },
    {
     "data": {
      "text/html": [
       "<pre>--------------------------------------------------------</pre>"
      ],
      "text/plain": [
       "--------------------------------------------------------"
      ]
     },
     "metadata": {},
     "output_type": "display_data"
    },
    {
     "data": {
      "text/html": [
       "<pre>Number of examples          : 137593</pre>"
      ],
      "text/plain": [
       "Number of examples          : 137593"
      ]
     },
     "metadata": {},
     "output_type": "display_data"
    },
    {
     "data": {
      "text/html": [
       "<pre>Number of classes           : 2</pre>"
      ],
      "text/plain": [
       "Number of classes           : 2"
      ]
     },
     "metadata": {},
     "output_type": "display_data"
    },
    {
     "data": {
      "text/html": [
       "<pre>Number of feature columns   : 30</pre>"
      ],
      "text/plain": [
       "Number of feature columns   : 30"
      ]
     },
     "metadata": {},
     "output_type": "display_data"
    },
    {
     "data": {
      "text/html": [
       "<pre>Number of unpacked features : 30</pre>"
      ],
      "text/plain": [
       "Number of unpacked features : 30"
      ]
     },
     "metadata": {},
     "output_type": "display_data"
    },
    {
     "data": {
      "text/html": [
       "<pre>+-----------+--------------+--------------+----------------+</pre>"
      ],
      "text/plain": [
       "+-----------+--------------+--------------+----------------+"
      ]
     },
     "metadata": {},
     "output_type": "display_data"
    },
    {
     "data": {
      "text/html": [
       "<pre>| Iteration | Elapsed Time | Training-auc | Validation-auc |</pre>"
      ],
      "text/plain": [
       "| Iteration | Elapsed Time | Training-auc | Validation-auc |"
      ]
     },
     "metadata": {},
     "output_type": "display_data"
    },
    {
     "data": {
      "text/html": [
       "<pre>+-----------+--------------+--------------+----------------+</pre>"
      ],
      "text/plain": [
       "+-----------+--------------+--------------+----------------+"
      ]
     },
     "metadata": {},
     "output_type": "display_data"
    },
    {
     "data": {
      "text/html": [
       "<pre>| 1         | 0.085497     | 0.823209     | 0.821828       |</pre>"
      ],
      "text/plain": [
       "| 1         | 0.085497     | 0.823209     | 0.821828       |"
      ]
     },
     "metadata": {},
     "output_type": "display_data"
    },
    {
     "data": {
      "text/html": [
       "<pre>| 2         | 0.148883     | 0.845300     | 0.842591       |</pre>"
      ],
      "text/plain": [
       "| 2         | 0.148883     | 0.845300     | 0.842591       |"
      ]
     },
     "metadata": {},
     "output_type": "display_data"
    },
    {
     "data": {
      "text/html": [
       "<pre>| 3         | 0.221525     | 0.859334     | 0.855319       |</pre>"
      ],
      "text/plain": [
       "| 3         | 0.221525     | 0.859334     | 0.855319       |"
      ]
     },
     "metadata": {},
     "output_type": "display_data"
    },
    {
     "data": {
      "text/html": [
       "<pre>| 4         | 0.290282     | 0.861990     | 0.857293       |</pre>"
      ],
      "text/plain": [
       "| 4         | 0.290282     | 0.861990     | 0.857293       |"
      ]
     },
     "metadata": {},
     "output_type": "display_data"
    },
    {
     "data": {
      "text/html": [
       "<pre>| 5         | 0.356762     | 0.861965     | 0.857257       |</pre>"
      ],
      "text/plain": [
       "| 5         | 0.356762     | 0.861965     | 0.857257       |"
      ]
     },
     "metadata": {},
     "output_type": "display_data"
    },
    {
     "data": {
      "text/html": [
       "<pre>| 6         | 0.423872     | 0.865913     | 0.861115       |</pre>"
      ],
      "text/plain": [
       "| 6         | 0.423872     | 0.865913     | 0.861115       |"
      ]
     },
     "metadata": {},
     "output_type": "display_data"
    },
    {
     "data": {
      "text/html": [
       "<pre>| 11        | 0.822269     | 0.877986     | 0.872180       |</pre>"
      ],
      "text/plain": [
       "| 11        | 0.822269     | 0.877986     | 0.872180       |"
      ]
     },
     "metadata": {},
     "output_type": "display_data"
    },
    {
     "data": {
      "text/html": [
       "<pre>| 25        | 2.019301     | 0.886901     | 0.880440       |</pre>"
      ],
      "text/plain": [
       "| 25        | 2.019301     | 0.886901     | 0.880440       |"
      ]
     },
     "metadata": {},
     "output_type": "display_data"
    },
    {
     "data": {
      "text/html": [
       "<pre>+-----------+--------------+--------------+----------------+</pre>"
      ],
      "text/plain": [
       "+-----------+--------------+--------------+----------------+"
      ]
     },
     "metadata": {},
     "output_type": "display_data"
    },
    {
     "data": {
      "text/html": [
       "<pre>Early stop triggered. Returning the best model at iteration: 42</pre>"
      ],
      "text/plain": [
       "Early stop triggered. Returning the best model at iteration: 42"
      ]
     },
     "metadata": {},
     "output_type": "display_data"
    },
    {
     "name": "stdout",
     "output_type": "stream",
     "text": [
      "CPU times: user 14.3 s, sys: 512 ms, total: 14.8 s\n",
      "Wall time: 5.12 s\n"
     ]
    }
   ],
   "source": [
    "%%time\n",
    "best_model =  boosted_trees_classifier.create(dataset=X_gl,\n",
    "                                             validation_set = X_val_gl,\n",
    "                                             **params)"
   ]
  },
  {
   "cell_type": "code",
   "execution_count": 124,
   "metadata": {
    "scrolled": true
   },
   "outputs": [
    {
     "data": {
      "text/plain": [
       "['TimeWeekDay_IN_VUL_09',\n",
       " 'CallsWeekDay_IN_09',\n",
       " 'TimeWeekDay_OUT_VUL_12',\n",
       " 'MOBILITY_DIAMETER_WEEKNIGHT',\n",
       " 'COUNT_WEEKNIGHT_0',\n",
       " 'CallsWeekDay_OUT_09',\n",
       " 'CallsWeekDay_IN_VUL_08',\n",
       " 'TimeWeekDay_IN_VUL_08',\n",
       " 'TimeWeekDay_OUT_08',\n",
       " 'TimeWeekDay_IN_12',\n",
       " 'CallsWeekDay_IN_12',\n",
       " 'CallsWeekDay_OUT_08',\n",
       " 'TimeWeekDay_IN_10',\n",
       " 'TimeWeekDay_IN_11',\n",
       " 'TimeWeekDay_OUT_11',\n",
       " 'TimeWeekDay_IN_09',\n",
       " 'TimeWeekDay_OUT_09',\n",
       " 'COUNT_0',\n",
       " 'TimeWeekDay_OUT_VUL_08',\n",
       " 'CallsWeekDay_OUT_VUL_08',\n",
       " 'COUNT_1',\n",
       " 'EPIDEMIC',\n",
       " 'MOBILITY_DIAMETER',\n",
       " 'TimeWeekDay_OUT_10',\n",
       " 'TimeWeekDay_OUT_12',\n",
       " 'CallsWeekDay_IN_08',\n",
       " 'STATE_Distrito_Federal',\n",
       " 'STATE_Hidalgo',\n",
       " 'CallsWeekDay_OUT_12',\n",
       " 'CallsWeekDay_OUT_10']"
      ]
     },
     "execution_count": 124,
     "metadata": {},
     "output_type": "execute_result"
    }
   ],
   "source": [
    "best_feat = best_model.get_feature_importance()\n",
    "best_feat = list(best_feat['name'].to_numpy())\n",
    "best_feat[:30]"
   ]
  },
  {
   "cell_type": "code",
   "execution_count": 121,
   "metadata": {
    "scrolled": true
   },
   "outputs": [
    {
     "data": {
      "text/plain": [
       "{'accuracy': 0.8327819939028346,\n",
       " 'auc': 0.8818069525903364,\n",
       " 'confusion_matrix': Columns:\n",
       " \ttarget_label\tint\n",
       " \tpredicted_label\tint\n",
       " \tcount\tint\n",
       " \n",
       " Rows: 4\n",
       " \n",
       " Data:\n",
       " +--------------+-----------------+-------+\n",
       " | target_label | predicted_label | count |\n",
       " +--------------+-----------------+-------+\n",
       " |      0       |        1        |  957  |\n",
       " |      1       |        0        |  1621 |\n",
       " |      1       |        1        |  3579 |\n",
       " |      0       |        0        |  9260 |\n",
       " +--------------+-----------------+-------+\n",
       " [4 rows x 3 columns],\n",
       " 'f1_score': 0.7352095316351686,\n",
       " 'log_loss': 0.3995800021922013,\n",
       " 'precision': 0.7890211640211641,\n",
       " 'recall': 0.6882692307692307,\n",
       " 'roc_curve': Columns:\n",
       " \tthreshold\tfloat\n",
       " \tfpr\tfloat\n",
       " \ttpr\tfloat\n",
       " \tp\tint\n",
       " \tn\tint\n",
       " \n",
       " Rows: 100001\n",
       " \n",
       " Data:\n",
       " +-----------+-----+-----+------+-------+\n",
       " | threshold | fpr | tpr |  p   |   n   |\n",
       " +-----------+-----+-----+------+-------+\n",
       " |    0.0    | 1.0 | 1.0 | 5200 | 10217 |\n",
       " |   1e-05   | 1.0 | 1.0 | 5200 | 10217 |\n",
       " |   2e-05   | 1.0 | 1.0 | 5200 | 10217 |\n",
       " |   3e-05   | 1.0 | 1.0 | 5200 | 10217 |\n",
       " |   4e-05   | 1.0 | 1.0 | 5200 | 10217 |\n",
       " |   5e-05   | 1.0 | 1.0 | 5200 | 10217 |\n",
       " |   6e-05   | 1.0 | 1.0 | 5200 | 10217 |\n",
       " |   7e-05   | 1.0 | 1.0 | 5200 | 10217 |\n",
       " |   8e-05   | 1.0 | 1.0 | 5200 | 10217 |\n",
       " |   9e-05   | 1.0 | 1.0 | 5200 | 10217 |\n",
       " +-----------+-----+-----+------+-------+\n",
       " [100001 rows x 5 columns]\n",
       " Note: Only the head of the SFrame is printed.\n",
       " You can use print_rows(num_rows=m, num_columns=n) to print more rows and columns.}"
      ]
     },
     "execution_count": 121,
     "metadata": {},
     "output_type": "execute_result"
    }
   ],
   "source": [
    "test_error = best_model.evaluate(X_val_gl)\n",
    "test_error"
   ]
  },
  {
   "cell_type": "code",
   "execution_count": 122,
   "metadata": {},
   "outputs": [
    {
     "data": {
      "text/plain": [
       "<bound method BoostedTreesClassifier.get_current_options of Class                          : BoostedTreesClassifier\n",
       "\n",
       "Schema\n",
       "------\n",
       "Number of examples             : 137593\n",
       "Number of feature columns      : 30\n",
       "Number of unpacked features    : 30\n",
       "Number of classes              : 2\n",
       "\n",
       "Settings\n",
       "--------\n",
       "Number of trees                : 42\n",
       "Max tree depth                 : 2\n",
       "Training time (sec)            : 4.033\n",
       "Training auc                   : 0.889\n",
       "Validation auc                 : 0.8818\n",
       ">"
      ]
     },
     "execution_count": 122,
     "metadata": {},
     "output_type": "execute_result"
    }
   ],
   "source": [
    "best_model.get_current_options#()"
   ]
  },
  {
   "cell_type": "code",
   "execution_count": null,
   "metadata": {
    "collapsed": true
   },
   "outputs": [],
   "source": []
  },
  {
   "cell_type": "code",
   "execution_count": null,
   "metadata": {
    "collapsed": true
   },
   "outputs": [],
   "source": []
  },
  {
   "cell_type": "code",
   "execution_count": null,
   "metadata": {
    "collapsed": true
   },
   "outputs": [],
   "source": []
  },
  {
   "cell_type": "markdown",
   "metadata": {},
   "source": [
    "# Sklearn \n",
    "\n",
    "validation, bias variance, learning curves  and decision tree models"
   ]
  },
  {
   "cell_type": "code",
   "execution_count": 36,
   "metadata": {
    "scrolled": true
   },
   "outputs": [
    {
     "name": "stderr",
     "output_type": "stream",
     "text": [
      "/home/juan/mfixman/venv/local/lib/python2.7/site-packages/sklearn/cross_validation.py:44: DeprecationWarning: This module was deprecated in version 0.18 in favor of the model_selection module into which all the refactored classes and functions are moved. Also note that the interface of the new CV iterators are different from that of this module. This module will be removed in 0.20.\n",
      "  \"This module will be removed in 0.20.\", DeprecationWarning)\n",
      "/home/juan/mfixman/venv/local/lib/python2.7/site-packages/sklearn/grid_search.py:43: DeprecationWarning: This module was deprecated in version 0.18 in favor of the model_selection module into which all the refactored classes and functions are moved. This module will be removed in 0.20.\n",
      "  DeprecationWarning)\n"
     ]
    }
   ],
   "source": [
    "from sklearn.linear_model import *\n",
    "from sklearn.ensemble import *\n",
    "\n",
    "from sklearn import model_selection\n",
    "from sklearn.model_selection import validation_curve\n",
    "\n",
    "from sklearn.multiclass import OneVsRestClassifier\n",
    "\n",
    "from sklearn.utils import *\n",
    "\n",
    "from sklearn.preprocessing import label_binarize, scale, StandardScaler, MinMaxScaler\n",
    "\n",
    "from sklearn.metrics import *\n",
    "\n",
    "from sklearn.tree import *\n",
    "\n",
    "from sklearn.grid_search import *\n",
    "\n",
    "from sklearn.pipeline import Pipeline"
   ]
  },
  {
   "cell_type": "code",
   "execution_count": null,
   "metadata": {
    "collapsed": true
   },
   "outputs": [],
   "source": []
  },
  {
   "cell_type": "markdown",
   "metadata": {},
   "source": [
    "## bias variance trade-off in the number of attributes\n",
    "we first used a random forest to get the best attributes in the model and now will try to overfit the validation set using too many features."
   ]
  },
  {
   "cell_type": "code",
   "execution_count": 37,
   "metadata": {},
   "outputs": [
    {
     "ename": "NameError",
     "evalue": "name 'best_feat' is not defined",
     "output_type": "error",
     "traceback": [
      "\u001b[0;31m---------------------------------------------------------------------------\u001b[0m",
      "\u001b[0;31mNameError\u001b[0m                                 Traceback (most recent call last)",
      "\u001b[0;32m<ipython-input-37-b52b7bf6d13e>\u001b[0m in \u001b[0;36m<module>\u001b[0;34m()\u001b[0m\n\u001b[0;32m----> 1\u001b[0;31m \u001b[0mbest_columns\u001b[0m \u001b[0;34m=\u001b[0m \u001b[0mbest_feat\u001b[0m\u001b[0;34m[\u001b[0m\u001b[0;34m'name'\u001b[0m\u001b[0;34m]\u001b[0m\u001b[0;34m.\u001b[0m\u001b[0mto_numpy\u001b[0m\u001b[0;34m(\u001b[0m\u001b[0;34m)\u001b[0m\u001b[0;34m\u001b[0m\u001b[0m\n\u001b[0m\u001b[1;32m      2\u001b[0m \u001b[0;34m\u001b[0m\u001b[0m\n\u001b[1;32m      3\u001b[0m \u001b[0mX\u001b[0m\u001b[0;34m[\u001b[0m\u001b[0mbest_columns\u001b[0m\u001b[0;34m]\u001b[0m\u001b[0;34m.\u001b[0m\u001b[0mcolumns\u001b[0m\u001b[0;34m\u001b[0m\u001b[0m\n",
      "\u001b[0;31mNameError\u001b[0m: name 'best_feat' is not defined"
     ]
    }
   ],
   "source": [
    "best_columns = best_feat['name'].to_numpy()\n",
    "\n",
    "X[best_columns].columns"
   ]
  },
  {
   "cell_type": "markdown",
   "metadata": {
    "collapsed": true
   },
   "source": [
    "## scale numerical features when necessary"
   ]
  },
  {
   "cell_type": "code",
   "execution_count": 38,
   "metadata": {
    "collapsed": true
   },
   "outputs": [],
   "source": [
    "# by definition any column which is outside of [-1,1]\n",
    "scaling_cols = (X.max()) >1 | (X.min()<-1)"
   ]
  },
  {
   "cell_type": "code",
   "execution_count": 39,
   "metadata": {
    "collapsed": true
   },
   "outputs": [],
   "source": [
    "scaling_cols = scaling_cols[scaling_cols==True].index"
   ]
  },
  {
   "cell_type": "code",
   "execution_count": 40,
   "metadata": {
    "collapsed": true
   },
   "outputs": [],
   "source": [
    "scale = MinMaxScaler(copy=True)"
   ]
  },
  {
   "cell_type": "code",
   "execution_count": 41,
   "metadata": {},
   "outputs": [
    {
     "name": "stderr",
     "output_type": "stream",
     "text": [
      "/home/juan/mfixman/venv/lib/python2.7/site-packages/ipykernel_launcher.py:1: SettingWithCopyWarning: \n",
      "A value is trying to be set on a copy of a slice from a DataFrame.\n",
      "Try using .loc[row_indexer,col_indexer] = value instead\n",
      "\n",
      "See the caveats in the documentation: http://pandas.pydata.org/pandas-docs/stable/indexing.html#indexing-view-versus-copy\n",
      "  \"\"\"Entry point for launching an IPython kernel.\n",
      "/home/juan/mfixman/venv/local/lib/python2.7/site-packages/pandas/core/indexing.py:517: SettingWithCopyWarning: \n",
      "A value is trying to be set on a copy of a slice from a DataFrame.\n",
      "Try using .loc[row_indexer,col_indexer] = value instead\n",
      "\n",
      "See the caveats in the documentation: http://pandas.pydata.org/pandas-docs/stable/indexing.html#indexing-view-versus-copy\n",
      "  self.obj[item] = s\n"
     ]
    }
   ],
   "source": [
    "X[scaling_cols] = scale.fit_transform(X[scaling_cols])"
   ]
  },
  {
   "cell_type": "code",
   "execution_count": 68,
   "metadata": {
    "scrolled": true
   },
   "outputs": [
    {
     "data": {
      "text/plain": [
       "array([  1.00000000e-03,   1.37382380e-03,   1.88739182e-03,\n",
       "         2.59294380e-03,   3.56224789e-03,   4.89390092e-03,\n",
       "         6.72335754e-03,   9.23670857e-03,   1.26896100e-02,\n",
       "         1.74332882e-02,   2.39502662e-02,   3.29034456e-02,\n",
       "         4.52035366e-02,   6.21016942e-02,   8.53167852e-02,\n",
       "         1.17210230e-01,   1.61026203e-01,   2.21221629e-01,\n",
       "         3.03919538e-01,   4.17531894e-01,   5.73615251e-01,\n",
       "         7.88046282e-01,   1.08263673e+00,   1.48735211e+00,\n",
       "         2.04335972e+00,   2.80721620e+00,   3.85662042e+00,\n",
       "         5.29831691e+00,   7.27895384e+00,   1.00000000e+01])"
      ]
     },
     "execution_count": 68,
     "metadata": {},
     "output_type": "execute_result"
    }
   ],
   "source": [
    "# define our c range to compare\n",
    "inv_c_range = np.logspace(-4, 100, 15)\n",
    "# param_range = 1./inv_c_range\n",
    "param_range = np.linspace(-3,0.5,30)\n",
    "# param_range = np.ceil(param_range)\n",
    "param_range = np.exp((param_range)*np.log(10))\n",
    "param_range\n"
   ]
  },
  {
   "cell_type": "code",
   "execution_count": null,
   "metadata": {
    "scrolled": true
   },
   "outputs": [
    {
     "name": "stderr",
     "output_type": "stream",
     "text": [
      "Process PoolWorker-84:\n",
      "Process PoolWorker-92:\n",
      "Process PoolWorker-93:\n",
      "Process PoolWorker-85:\n",
      "Process PoolWorker-87:\n",
      "Process PoolWorker-95:\n",
      "Process PoolWorker-86:\n",
      "Process PoolWorker-82:\n",
      "Process PoolWorker-96:\n",
      "Process PoolWorker-97:\n",
      "Process PoolWorker-91:\n",
      "Process PoolWorker-83:\n",
      "Process PoolWorker-88:\n",
      "Process PoolWorker-90:\n",
      "Process PoolWorker-94:\n",
      "Process PoolWorker-89:\n",
      "Traceback (most recent call last):\n",
      "Traceback (most recent call last):\n",
      "Traceback (most recent call last):\n",
      "Traceback (most recent call last):\n",
      "Traceback (most recent call last):\n",
      "Traceback (most recent call last):\n",
      "Traceback (most recent call last):\n",
      "Traceback (most recent call last):\n",
      "Traceback (most recent call last):\n",
      "Traceback (most recent call last):\n",
      "Traceback (most recent call last):\n",
      "Traceback (most recent call last):\n",
      "Traceback (most recent call last):\n",
      "  File \"/usr/lib/python2.7/multiprocessing/process.py\", line 258, in _bootstrap\n",
      "  File \"/usr/lib/python2.7/multiprocessing/process.py\", line 258, in _bootstrap\n",
      "  File \"/usr/lib/python2.7/multiprocessing/process.py\", line 258, in _bootstrap\n",
      "Traceback (most recent call last):\n",
      "  File \"/usr/lib/python2.7/multiprocessing/process.py\", line 258, in _bootstrap\n",
      "  File \"/usr/lib/python2.7/multiprocessing/process.py\", line 258, in _bootstrap\n",
      "  File \"/usr/lib/python2.7/multiprocessing/process.py\", line 258, in _bootstrap\n",
      "  File \"/usr/lib/python2.7/multiprocessing/process.py\", line 258, in _bootstrap\n",
      "Traceback (most recent call last):\n",
      "  File \"/usr/lib/python2.7/multiprocessing/process.py\", line 258, in _bootstrap\n",
      "  File \"/usr/lib/python2.7/multiprocessing/process.py\", line 258, in _bootstrap\n",
      "  File \"/usr/lib/python2.7/multiprocessing/process.py\", line 258, in _bootstrap\n",
      "  File \"/usr/lib/python2.7/multiprocessing/process.py\", line 258, in _bootstrap\n",
      "  File \"/usr/lib/python2.7/multiprocessing/process.py\", line 258, in _bootstrap\n",
      "  File \"/usr/lib/python2.7/multiprocessing/process.py\", line 258, in _bootstrap\n",
      "Traceback (most recent call last):\n",
      "  File \"/usr/lib/python2.7/multiprocessing/process.py\", line 258, in _bootstrap\n",
      "  File \"/usr/lib/python2.7/multiprocessing/process.py\", line 258, in _bootstrap\n",
      "  File \"/usr/lib/python2.7/multiprocessing/process.py\", line 258, in _bootstrap\n",
      "    self.run()\n",
      "    self.run()\n",
      "    self.run()\n",
      "    self.run()\n",
      "    self.run()\n",
      "    self.run()\n",
      "    self.run()\n",
      "    self.run()\n",
      "    self.run()\n",
      "    self.run()\n",
      "    self.run()\n",
      "  File \"/usr/lib/python2.7/multiprocessing/process.py\", line 114, in run\n",
      "  File \"/usr/lib/python2.7/multiprocessing/process.py\", line 114, in run\n",
      "    self.run()\n",
      "  File \"/usr/lib/python2.7/multiprocessing/process.py\", line 114, in run\n",
      "    self.run()\n",
      "    self.run()\n",
      "  File \"/usr/lib/python2.7/multiprocessing/process.py\", line 114, in run\n",
      "  File \"/usr/lib/python2.7/multiprocessing/process.py\", line 114, in run\n",
      "    self.run()\n",
      "  File \"/usr/lib/python2.7/multiprocessing/process.py\", line 114, in run\n",
      "    self.run()\n",
      "  File \"/usr/lib/python2.7/multiprocessing/process.py\", line 114, in run\n",
      "  File \"/usr/lib/python2.7/multiprocessing/process.py\", line 114, in run\n",
      "  File \"/usr/lib/python2.7/multiprocessing/process.py\", line 114, in run\n",
      "  File \"/usr/lib/python2.7/multiprocessing/process.py\", line 114, in run\n",
      "  File \"/usr/lib/python2.7/multiprocessing/process.py\", line 114, in run\n",
      "    self._target(*self._args, **self._kwargs)\n",
      "  File \"/usr/lib/python2.7/multiprocessing/process.py\", line 114, in run\n",
      "  File \"/usr/lib/python2.7/multiprocessing/process.py\", line 114, in run\n",
      "    self._target(*self._args, **self._kwargs)\n",
      "    self._target(*self._args, **self._kwargs)\n",
      "    self._target(*self._args, **self._kwargs)\n",
      "  File \"/usr/lib/python2.7/multiprocessing/process.py\", line 114, in run\n",
      "  File \"/usr/lib/python2.7/multiprocessing/process.py\", line 114, in run\n",
      "  File \"/usr/lib/python2.7/multiprocessing/process.py\", line 114, in run\n",
      "    self._target(*self._args, **self._kwargs)\n",
      "    self._target(*self._args, **self._kwargs)\n",
      "    self._target(*self._args, **self._kwargs)\n",
      "    self._target(*self._args, **self._kwargs)\n",
      "    self._target(*self._args, **self._kwargs)\n",
      "    self._target(*self._args, **self._kwargs)\n",
      "    self._target(*self._args, **self._kwargs)\n",
      "    self._target(*self._args, **self._kwargs)\n",
      "  File \"/usr/lib/python2.7/multiprocessing/pool.py\", line 102, in worker\n",
      "    self._target(*self._args, **self._kwargs)\n",
      "  File \"/usr/lib/python2.7/multiprocessing/pool.py\", line 102, in worker\n",
      "    self._target(*self._args, **self._kwargs)\n",
      "  File \"/usr/lib/python2.7/multiprocessing/pool.py\", line 102, in worker\n",
      "    self._target(*self._args, **self._kwargs)\n",
      "    self._target(*self._args, **self._kwargs)\n",
      "  File \"/usr/lib/python2.7/multiprocessing/pool.py\", line 102, in worker\n",
      "  File \"/usr/lib/python2.7/multiprocessing/pool.py\", line 102, in worker\n",
      "  File \"/usr/lib/python2.7/multiprocessing/pool.py\", line 102, in worker\n",
      "  File \"/usr/lib/python2.7/multiprocessing/pool.py\", line 102, in worker\n",
      "  File \"/usr/lib/python2.7/multiprocessing/pool.py\", line 102, in worker\n",
      "  File \"/usr/lib/python2.7/multiprocessing/pool.py\", line 102, in worker\n",
      "  File \"/usr/lib/python2.7/multiprocessing/pool.py\", line 102, in worker\n",
      "  File \"/usr/lib/python2.7/multiprocessing/pool.py\", line 102, in worker\n",
      "  File \"/usr/lib/python2.7/multiprocessing/pool.py\", line 102, in worker\n",
      "    task = get()\n",
      "    task = get()\n",
      "  File \"/usr/lib/python2.7/multiprocessing/pool.py\", line 102, in worker\n",
      "  File \"/usr/lib/python2.7/multiprocessing/pool.py\", line 102, in worker\n",
      "  File \"/usr/lib/python2.7/multiprocessing/pool.py\", line 102, in worker\n",
      "    task = get()\n",
      "    task = get()\n",
      "    task = get()\n",
      "    task = get()\n",
      "    task = get()\n",
      "    task = get()\n",
      "  File \"/home/juan/mfixman/venv/local/lib/python2.7/site-packages/sklearn/externals/joblib/pool.py\", line 360, in get\n",
      "  File \"/usr/lib/python2.7/multiprocessing/pool.py\", line 102, in worker\n",
      "  File \"/home/juan/mfixman/venv/local/lib/python2.7/site-packages/sklearn/externals/joblib/pool.py\", line 360, in get\n",
      "    task = get()\n",
      "    task = get()\n",
      "    task = get()\n",
      "    task = get()\n",
      "    task = get()\n",
      "  File \"/home/juan/mfixman/venv/local/lib/python2.7/site-packages/sklearn/externals/joblib/pool.py\", line 360, in get\n",
      "  File \"/home/juan/mfixman/venv/local/lib/python2.7/site-packages/sklearn/externals/joblib/pool.py\", line 360, in get\n",
      "  File \"/home/juan/mfixman/venv/local/lib/python2.7/site-packages/sklearn/externals/joblib/pool.py\", line 360, in get\n",
      "  File \"/home/juan/mfixman/venv/local/lib/python2.7/site-packages/sklearn/externals/joblib/pool.py\", line 360, in get\n",
      "  File \"/home/juan/mfixman/venv/local/lib/python2.7/site-packages/sklearn/externals/joblib/pool.py\", line 360, in get\n",
      "  File \"/home/juan/mfixman/venv/local/lib/python2.7/site-packages/sklearn/externals/joblib/pool.py\", line 360, in get\n",
      "    task = get()\n",
      "    task = get()\n",
      "  File \"/home/juan/mfixman/venv/local/lib/python2.7/site-packages/sklearn/externals/joblib/pool.py\", line 360, in get\n",
      "  File \"/home/juan/mfixman/venv/local/lib/python2.7/site-packages/sklearn/externals/joblib/pool.py\", line 360, in get\n",
      "  File \"/home/juan/mfixman/venv/local/lib/python2.7/site-packages/sklearn/externals/joblib/pool.py\", line 362, in get\n",
      "  File \"/home/juan/mfixman/venv/local/lib/python2.7/site-packages/sklearn/externals/joblib/pool.py\", line 360, in get\n",
      "  File \"/home/juan/mfixman/venv/local/lib/python2.7/site-packages/sklearn/externals/joblib/pool.py\", line 360, in get\n",
      "  File \"/home/juan/mfixman/venv/local/lib/python2.7/site-packages/sklearn/externals/joblib/pool.py\", line 360, in get\n",
      "  File \"/home/juan/mfixman/venv/local/lib/python2.7/site-packages/sklearn/externals/joblib/pool.py\", line 360, in get\n",
      "    task = get()\n",
      "  File \"/home/juan/mfixman/venv/local/lib/python2.7/site-packages/sklearn/externals/joblib/pool.py\", line 360, in get\n",
      "    racquire()\n",
      "    racquire()\n",
      "    racquire()\n",
      "    racquire()\n",
      "    racquire()\n",
      "    racquire()\n",
      "    racquire()\n",
      "    racquire()\n",
      "KeyboardInterrupt\n",
      "    racquire()\n",
      "    racquire()\n",
      "KeyboardInterrupt\n",
      "    racquire()\n",
      "KeyboardInterrupt\n",
      "    racquire()\n",
      "    return recv()\n",
      "    racquire()\n",
      "KeyboardInterrupt\n",
      "    racquire()\n",
      "    racquire()\n",
      "KeyboardInterrupt\n",
      "KeyboardInterrupt\n",
      "KeyboardInterrupt\n",
      "KeyboardInterrupt\n",
      "KeyboardInterrupt\n",
      "KeyboardInterrupt\n",
      "KeyboardInterrupt\n",
      "KeyboardInterrupt\n",
      "KeyboardInterrupt\n",
      "KeyboardInterrupt\n",
      "KeyboardInterrupt\n"
     ]
    },
    {
     "name": "stderr",
     "output_type": "stream",
     "text": [
      "KeyboardInterrupt\n"
     ]
    }
   ],
   "source": [
    "%%time\n",
    "train_scores, test_scores = validation_curve(\n",
    "    LogisticRegression(solver = 'lbfgs', \n",
    "                       max_iter = 100,\n",
    "                      warm_start=True),\n",
    "    X, Y, \n",
    "    param_name=\"C\", \n",
    "    param_range=param_range,\n",
    "    cv=5, \n",
    "    scoring=\"f1\", \n",
    "    n_jobs=-1)"
   ]
  },
  {
   "cell_type": "code",
   "execution_count": null,
   "metadata": {
    "collapsed": true
   },
   "outputs": [],
   "source": [
    "train_scores_mean = np.mean(train_scores, axis=1)\n",
    "train_scores_std = np.std(train_scores, axis=1)\n",
    "test_scores_mean = np.mean(test_scores, axis=1)\n",
    "test_scores_std = np.std(test_scores, axis=1)"
   ]
  },
  {
   "cell_type": "code",
   "execution_count": null,
   "metadata": {},
   "outputs": [],
   "source": [
    "plt.title(\"Validation Curve with Logistic Regression Classifier\")\n",
    "plt.xlabel(\"$Param$\")\n",
    "plt.ylabel(\" Score\")\n",
    "# plt.ylim(0.0, 10.1)\n",
    "\n",
    "lw = 1\n",
    "\n",
    "plt.semilogx(param_range, train_scores_mean, label=\"Training score with std-dev band\",\n",
    "             color=\"navy\", lw=lw)\n",
    "\n",
    "plt.fill_between(param_range, train_scores_mean - train_scores_std,\n",
    "                 train_scores_mean + train_scores_std, alpha=0.2,\n",
    "                 color=\"blue\", lw=lw)\n",
    "\n",
    "plt.semilogx(param_range, test_scores_mean, label=\"Cross-validation score avg\",\n",
    "             color=\"darkorange\", lw=lw)\n",
    "\n",
    "# plt.fill_between(param_range, test_scores_mean - test_scores_std,\n",
    "#                  test_scores_mean + test_scores_std, alpha=0.2,\n",
    "#                  color=\"red\", lw=lw)\n",
    "\n",
    "plt.legend(loc=\"best\")\n"
   ]
  },
  {
   "cell_type": "code",
   "execution_count": null,
   "metadata": {},
   "outputs": [],
   "source": [
    "finished = True\n",
    "finished"
   ]
  },
  {
   "cell_type": "code",
   "execution_count": null,
   "metadata": {
    "collapsed": true
   },
   "outputs": [],
   "source": []
  },
  {
   "cell_type": "markdown",
   "metadata": {},
   "source": [
    "## Logistic Regression cross validation"
   ]
  },
  {
   "cell_type": "code",
   "execution_count": 54,
   "metadata": {
    "scrolled": true
   },
   "outputs": [
    {
     "name": "stdout",
     "output_type": "stream",
     "text": [
      "             precision    recall  f1-score   support\n",
      "\n",
      "          0       0.67      0.85      0.75     43545\n",
      "          1       0.40      0.19      0.25     22464\n",
      "\n",
      "avg / total       0.58      0.63      0.58     66009\n",
      "\n",
      "             precision    recall  f1-score   support\n",
      "\n",
      "          0       0.64      0.75      0.69     83353\n",
      "          1       0.40      0.28      0.33     48666\n",
      "\n",
      "avg / total       0.55      0.58      0.56    132019\n",
      "\n",
      "             precision    recall  f1-score   support\n",
      "\n",
      "          0       0.63      0.67      0.65    124185\n",
      "          1       0.39      0.35      0.37     73843\n",
      "\n",
      "avg / total       0.54      0.55      0.55    198028\n",
      "\n",
      "             precision    recall  f1-score   support\n",
      "\n",
      "          0       0.62      0.56      0.59    164393\n",
      "          1       0.38      0.44      0.41     99645\n",
      "\n",
      "avg / total       0.53      0.52      0.52    264038\n",
      "\n",
      "             precision    recall  f1-score   support\n",
      "\n",
      "          0       0.64      0.66      0.65    415477\n",
      "          1       0.39      0.36      0.37    244618\n",
      "\n",
      "avg / total       0.54      0.55      0.55    660095\n",
      "\n"
     ]
    },
    {
     "ename": "AttributeError",
     "evalue": "'LogisticRegressionCV' object has no attribute 'grid_scores_'",
     "output_type": "error",
     "traceback": [
      "\u001b[1;31m---------------------------------------------------------------------------\u001b[0m",
      "\u001b[1;31mAttributeError\u001b[0m                            Traceback (most recent call last)",
      "\u001b[1;32m<ipython-input-54-53e73f014a4f>\u001b[0m in \u001b[0;36m<module>\u001b[1;34m()\u001b[0m\n\u001b[0;32m     36\u001b[0m \u001b[1;33m\u001b[0m\u001b[0m\n\u001b[0;32m     37\u001b[0m \u001b[1;33m\u001b[0m\u001b[0m\n\u001b[1;32m---> 38\u001b[1;33m \u001b[0mcv_result\u001b[0m \u001b[1;33m=\u001b[0m \u001b[0mpd\u001b[0m\u001b[1;33m.\u001b[0m\u001b[0mDataFrame\u001b[0m\u001b[1;33m(\u001b[0m\u001b[0mcolumns\u001b[0m\u001b[1;33m=\u001b[0m\u001b[1;33m[\u001b[0m\u001b[1;34m'mean_score'\u001b[0m \u001b[1;33m]\u001b[0m \u001b[1;33m+\u001b[0m \u001b[1;33m[\u001b[0m\u001b[0mkey\u001b[0m \u001b[1;32mfor\u001b[0m \u001b[0mkey\u001b[0m\u001b[1;33m,\u001b[0m \u001b[0mvalue\u001b[0m \u001b[1;32min\u001b[0m \u001b[0mclf\u001b[0m\u001b[1;33m.\u001b[0m\u001b[0mgrid_scores_\u001b[0m\u001b[1;33m[\u001b[0m\u001b[1;36m0\u001b[0m\u001b[1;33m]\u001b[0m\u001b[1;33m.\u001b[0m\u001b[0mparameters\u001b[0m\u001b[1;33m.\u001b[0m\u001b[0mitems\u001b[0m\u001b[1;33m(\u001b[0m\u001b[1;33m)\u001b[0m \u001b[1;33m]\u001b[0m \u001b[1;33m)\u001b[0m\u001b[1;33m\u001b[0m\u001b[0m\n\u001b[0m\u001b[0;32m     39\u001b[0m \u001b[0mi\u001b[0m\u001b[1;33m=\u001b[0m\u001b[1;36m0\u001b[0m\u001b[1;33m\u001b[0m\u001b[0m\n\u001b[0;32m     40\u001b[0m \u001b[1;32mfor\u001b[0m \u001b[0msetup\u001b[0m \u001b[1;32min\u001b[0m \u001b[0mclf\u001b[0m\u001b[1;33m.\u001b[0m\u001b[0mgrid_scores_\u001b[0m\u001b[1;33m:\u001b[0m\u001b[1;33m\u001b[0m\u001b[0m\n",
      "\u001b[1;31mAttributeError\u001b[0m: 'LogisticRegressionCV' object has no attribute 'grid_scores_'"
     ]
    }
   ],
   "source": [
    "\n",
    "clf =  LogisticRegressionCV(n_jobs =3, class_weight= 'balanced', scoring = 'f1',cv=3)\n",
    "\n",
    "clf.fit(X_train,y_train)\n",
    "\n",
    "\n",
    "predicted_proba = pd.DataFrame()\n",
    "predicted_proba['prob'] = clf.predict_proba(X_test).max(axis=1)\n",
    "predicted_proba['class'] = clf.predict(X_test)\n",
    "predicted_proba[gt] =  y_test\n",
    "predicted_proba.sort_values(by = 'prob',ascending = False, inplace = True)\n",
    "\n",
    "cut_percentages = [10,20,30,40]\n",
    "#converted = (predicted_proba['class']==1)\n",
    "#me fijo todos los users que van a convertir en el futuro\n",
    "\n",
    "\n",
    "start = 0\n",
    "mobility_dict = {}\n",
    "index_segments = []\n",
    "for i in cut_percentages:\n",
    "    cut_size = int(len(predicted_proba)*i/100.0)    \n",
    "    bool_array = (~np.ones(len(predicted_proba), dtype=bool))\n",
    "    bool_array[start: start + cut_size] = True\n",
    "    index_segments += [bool_array]\n",
    "    start = start + cut_size\n",
    "#    subtable = \n",
    "    #mobility_dict[str(i)] = predicted_proba.loc[index_segments[-1],'ref_hash']\n",
    "    \n",
    "    print(classification_report(predicted_proba.loc[index_segments[-1],gt].values,\n",
    "                            predicted_proba.loc[index_segments[-1],'class'].values ))\n",
    "    \n",
    "    \n",
    "print(classification_report(predicted_proba.loc[:,gt].values,\n",
    "                            predicted_proba.loc[:,'class'].values ))\n",
    "    \n",
    "    \n",
    "cv_result = pd.DataFrame(columns=['mean_score' ] + [key for key, value in clf.grid_scores_[0].parameters.items() ] )\n",
    "i=0\n",
    "for setup in clf.grid_scores_:\n",
    "    row = [clf.grid_scores_[i].mean_validation_score ] + [value for key, value in clf.grid_scores_[i].parameters.items() ]\n",
    "    cv_result.loc[i] = row\n",
    "    i+=1\n",
    "#este flag es basicamente para chequear que hayamos terminado nomas\n",
    "finished = True\n",
    "\n",
    "all_time =   time.time() - start_time\n",
    "\n",
    "#este flag es basicamente para chequear que hayamos terminado nomas\n",
    "finished = True\n",
    "\n",
    "print('This cell took %s seconds to run' % all_time)\n"
   ]
  },
  {
   "cell_type": "code",
   "execution_count": null,
   "metadata": {
    "collapsed": true
   },
   "outputs": [],
   "source": []
  },
  {
   "cell_type": "code",
   "execution_count": null,
   "metadata": {
    "collapsed": true
   },
   "outputs": [],
   "source": []
  },
  {
   "cell_type": "code",
   "execution_count": null,
   "metadata": {
    "collapsed": true
   },
   "outputs": [],
   "source": []
  },
  {
   "cell_type": "markdown",
   "metadata": {},
   "source": [
    "# REST of shit"
   ]
  },
  {
   "cell_type": "markdown",
   "metadata": {},
   "source": [
    "### Count Featurizer on Antennas\n",
    "nos quedamos con las columnas de antennas y en graphlab aplicamos el algo de CountFeaturizer para cada categoria de\n",
    "Antenna_ID_N\n"
   ]
  },
  {
   "cell_type": "code",
   "execution_count": null,
   "metadata": {
    "collapsed": true
   },
   "outputs": [],
   "source": [
    "%%time\n",
    "import graphlab as gl\n",
    "from graphlab.toolkits.feature_engineering import *\n",
    "ant_cols = [col for col in X_train.columns if \"ANTENNA_ID\" in col]\n",
    "ant_sframe_fit = gl.SFrame(X_fit[ant_cols + ['y']])\n",
    "ant_sframe_train = gl.SFrame(X_train[ant_cols + ['y']])\n",
    "ant_sframe_val = gl.SFrame(X_val[ant_cols + ['y']])"
   ]
  },
  {
   "cell_type": "code",
   "execution_count": null,
   "metadata": {
    "collapsed": true
   },
   "outputs": [],
   "source": [
    "%%time\n",
    "countfeat = gl.feature_engineering.create(ant_sframe_fit, \n",
    "               CountFeaturizer(target='y'))\n",
    "\n",
    "# Transform the train set. This is the dataset I will train my classifier on\n",
    "transformed_ant_train = countfeat.transform(ant_sframe_train)\n",
    "transformed_ant_val = countfeat.transform(ant_sframe_val)\n",
    "\n",
    "del ant_sframe_fit,ant_sframe_train,ant_sframe_val\n",
    "\n",
    "#por alguna razon guarda los valores de probabilidad como una lista de un unico valor\n",
    "for col in [col for col in transformed_ant_train.column_names() if \"prob_\" in col]:\n",
    "    transformed_ant_train[col] = transformed_ant_train[col].apply(lambda x: x[0]) \n",
    "    transformed_ant_val[col] = transformed_ant_val[col].apply(lambda x: x[0]) \n",
    "\n",
    "#me quedo solo con los valores de probabilidad.\n",
    "transformed_ant_train = transformed_ant_train[[col for col in transformed_ant_train.column_names() if \"prob_\" in col]]\n",
    "transformed_ant_val = transformed_ant_val[[col for col in transformed_ant_train.column_names() if \"prob_\" in col]]\n",
    "\n",
    "transformed_ant_val = transformed_ant_val.to_dataframe()\n",
    "transformed_ant_train = transformed_ant_train.to_dataframe()"
   ]
  },
  {
   "cell_type": "code",
   "execution_count": null,
   "metadata": {
    "collapsed": true
   },
   "outputs": [],
   "source": [
    "X_val[ant_cols] = transformed_ant_val.values\n",
    "X_train[ant_cols] = transformed_ant_train.values\n",
    "del transformed_ant_train, transformed_ant_val"
   ]
  },
  {
   "cell_type": "markdown",
   "metadata": {},
   "source": [
    "### Cross Validate SGD"
   ]
  },
  {
   "cell_type": "code",
   "execution_count": null,
   "metadata": {
    "collapsed": true
   },
   "outputs": [],
   "source": [
    "param_grid = [\n",
    "  { 'alpha': [1e-3,5*1e-3,1e-2], 'l1_ratio': [3*1e-2,1e-3,6*1e-4], 'n_iter': [2,3]\n",
    "  }\n",
    "    ]"
   ]
  },
  {
   "cell_type": "code",
   "execution_count": 37,
   "metadata": {
    "scrolled": true
   },
   "outputs": [
    {
     "name": "stdout",
     "output_type": "stream",
     "text": [
      "Fitting 3 folds for each of 18 candidates, totalling 54 fits\n"
     ]
    },
    {
     "name": "stderr",
     "output_type": "stream",
     "text": [
      "/home/ubuntu/Virtualenvs/mateo/lib/python3.4/site-packages/sklearn/externals/joblib/hashing.py:197: DeprecationWarning: Changing the shape of non-C contiguous array by\n",
      "descriptor assignment is deprecated. To maintain\n",
      "the Fortran contiguity of a multidimensional Fortran\n",
      "array, use 'a.T.view(...).T' instead\n",
      "  obj_bytes_view = obj.view(self.np.uint8)\n"
     ]
    },
    {
     "name": "stdout",
     "output_type": "stream",
     "text": [
      "[CV] n_iter=2, alpha=0.001, l1_ratio=0.03 ............................\n"
     ]
    },
    {
     "name": "stderr",
     "output_type": "stream",
     "text": [
      "/home/ubuntu/Virtualenvs/mateo/lib/python3.4/site-packages/sklearn/externals/joblib/hashing.py:197: DeprecationWarning: Changing the shape of non-C contiguous array by\n",
      "descriptor assignment is deprecated. To maintain\n",
      "the Fortran contiguity of a multidimensional Fortran\n",
      "array, use 'a.T.view(...).T' instead\n",
      "  obj_bytes_view = obj.view(self.np.uint8)\n"
     ]
    },
    {
     "name": "stdout",
     "output_type": "stream",
     "text": [
      "[CV] n_iter=2, alpha=0.001, l1_ratio=0.03 ............................\n"
     ]
    },
    {
     "name": "stderr",
     "output_type": "stream",
     "text": [
      "/home/ubuntu/Virtualenvs/mateo/lib/python3.4/site-packages/sklearn/externals/joblib/hashing.py:197: DeprecationWarning: Changing the shape of non-C contiguous array by\n",
      "descriptor assignment is deprecated. To maintain\n",
      "the Fortran contiguity of a multidimensional Fortran\n",
      "array, use 'a.T.view(...).T' instead\n",
      "  obj_bytes_view = obj.view(self.np.uint8)\n"
     ]
    },
    {
     "name": "stdout",
     "output_type": "stream",
     "text": [
      "[CV] ... n_iter=2, alpha=0.001, l1_ratio=0.03, score=0.125354 -   2.5s\n",
      "[CV] n_iter=2, alpha=0.001, l1_ratio=0.03 ............................\n"
     ]
    },
    {
     "name": "stderr",
     "output_type": "stream",
     "text": [
      "/home/ubuntu/Virtualenvs/mateo/lib/python3.4/site-packages/sklearn/externals/joblib/hashing.py:197: DeprecationWarning: Changing the shape of non-C contiguous array by\n",
      "descriptor assignment is deprecated. To maintain\n",
      "the Fortran contiguity of a multidimensional Fortran\n",
      "array, use 'a.T.view(...).T' instead\n",
      "  obj_bytes_view = obj.view(self.np.uint8)\n"
     ]
    },
    {
     "name": "stdout",
     "output_type": "stream",
     "text": [
      "[CV] ... n_iter=2, alpha=0.001, l1_ratio=0.03, score=0.127442 -   2.5s\n",
      "[CV] n_iter=3, alpha=0.001, l1_ratio=0.03 ............................\n"
     ]
    },
    {
     "name": "stderr",
     "output_type": "stream",
     "text": [
      "/home/ubuntu/Virtualenvs/mateo/lib/python3.4/site-packages/sklearn/externals/joblib/hashing.py:197: DeprecationWarning: Changing the shape of non-C contiguous array by\n",
      "descriptor assignment is deprecated. To maintain\n",
      "the Fortran contiguity of a multidimensional Fortran\n",
      "array, use 'a.T.view(...).T' instead\n",
      "  obj_bytes_view = obj.view(self.np.uint8)\n"
     ]
    },
    {
     "name": "stdout",
     "output_type": "stream",
     "text": [
      "[CV] ... n_iter=2, alpha=0.001, l1_ratio=0.03, score=0.119463 -   2.5s\n",
      "[CV] n_iter=3, alpha=0.001, l1_ratio=0.03 ............................\n"
     ]
    },
    {
     "name": "stderr",
     "output_type": "stream",
     "text": [
      "/home/ubuntu/Virtualenvs/mateo/lib/python3.4/site-packages/sklearn/externals/joblib/hashing.py:197: DeprecationWarning: Changing the shape of non-C contiguous array by\n",
      "descriptor assignment is deprecated. To maintain\n",
      "the Fortran contiguity of a multidimensional Fortran\n",
      "array, use 'a.T.view(...).T' instead\n",
      "  obj_bytes_view = obj.view(self.np.uint8)\n"
     ]
    },
    {
     "name": "stdout",
     "output_type": "stream",
     "text": [
      "[CV] ... n_iter=3, alpha=0.001, l1_ratio=0.03, score=0.132910 -   3.1s\n",
      "[CV] n_iter=3, alpha=0.001, l1_ratio=0.03 ............................\n"
     ]
    },
    {
     "name": "stderr",
     "output_type": "stream",
     "text": [
      "/home/ubuntu/Virtualenvs/mateo/lib/python3.4/site-packages/sklearn/externals/joblib/hashing.py:197: DeprecationWarning: Changing the shape of non-C contiguous array by\n",
      "descriptor assignment is deprecated. To maintain\n",
      "the Fortran contiguity of a multidimensional Fortran\n",
      "array, use 'a.T.view(...).T' instead\n",
      "  obj_bytes_view = obj.view(self.np.uint8)\n"
     ]
    },
    {
     "name": "stdout",
     "output_type": "stream",
     "text": [
      "[CV] ... n_iter=3, alpha=0.001, l1_ratio=0.03, score=0.133858 -   3.1s\n",
      "[CV] n_iter=2, alpha=0.001, l1_ratio=0.001 ...........................\n"
     ]
    },
    {
     "name": "stderr",
     "output_type": "stream",
     "text": [
      "/home/ubuntu/Virtualenvs/mateo/lib/python3.4/site-packages/sklearn/externals/joblib/hashing.py:197: DeprecationWarning: Changing the shape of non-C contiguous array by\n",
      "descriptor assignment is deprecated. To maintain\n",
      "the Fortran contiguity of a multidimensional Fortran\n",
      "array, use 'a.T.view(...).T' instead\n",
      "  obj_bytes_view = obj.view(self.np.uint8)\n"
     ]
    },
    {
     "name": "stdout",
     "output_type": "stream",
     "text": [
      "[CV] ... n_iter=3, alpha=0.001, l1_ratio=0.03, score=0.125862 -   3.1s\n",
      "[CV] n_iter=2, alpha=0.001, l1_ratio=0.001 ...........................\n"
     ]
    },
    {
     "name": "stderr",
     "output_type": "stream",
     "text": [
      "/home/ubuntu/Virtualenvs/mateo/lib/python3.4/site-packages/sklearn/externals/joblib/hashing.py:197: DeprecationWarning: Changing the shape of non-C contiguous array by\n",
      "descriptor assignment is deprecated. To maintain\n",
      "the Fortran contiguity of a multidimensional Fortran\n",
      "array, use 'a.T.view(...).T' instead\n",
      "  obj_bytes_view = obj.view(self.np.uint8)\n"
     ]
    },
    {
     "name": "stdout",
     "output_type": "stream",
     "text": [
      "[CV] .. n_iter=2, alpha=0.001, l1_ratio=0.001, score=0.114065 -   2.5s\n",
      "[CV] n_iter=2, alpha=0.001, l1_ratio=0.001 ...........................\n"
     ]
    },
    {
     "name": "stderr",
     "output_type": "stream",
     "text": [
      "/home/ubuntu/Virtualenvs/mateo/lib/python3.4/site-packages/sklearn/externals/joblib/hashing.py:197: DeprecationWarning: Changing the shape of non-C contiguous array by\n",
      "descriptor assignment is deprecated. To maintain\n",
      "the Fortran contiguity of a multidimensional Fortran\n",
      "array, use 'a.T.view(...).T' instead\n",
      "  obj_bytes_view = obj.view(self.np.uint8)\n"
     ]
    },
    {
     "name": "stdout",
     "output_type": "stream",
     "text": [
      "[CV] .. n_iter=2, alpha=0.001, l1_ratio=0.001, score=0.125576 -   2.5s\n",
      "[CV] n_iter=3, alpha=0.001, l1_ratio=0.001 ...........................\n"
     ]
    },
    {
     "name": "stderr",
     "output_type": "stream",
     "text": [
      "/home/ubuntu/Virtualenvs/mateo/lib/python3.4/site-packages/sklearn/externals/joblib/hashing.py:197: DeprecationWarning: Changing the shape of non-C contiguous array by\n",
      "descriptor assignment is deprecated. To maintain\n",
      "the Fortran contiguity of a multidimensional Fortran\n",
      "array, use 'a.T.view(...).T' instead\n",
      "  obj_bytes_view = obj.view(self.np.uint8)\n"
     ]
    },
    {
     "name": "stdout",
     "output_type": "stream",
     "text": [
      "[CV] .. n_iter=2, alpha=0.001, l1_ratio=0.001, score=0.125882 -   2.8s\n",
      "[CV] n_iter=3, alpha=0.001, l1_ratio=0.001 ...........................\n"
     ]
    },
    {
     "name": "stderr",
     "output_type": "stream",
     "text": [
      "/home/ubuntu/Virtualenvs/mateo/lib/python3.4/site-packages/sklearn/externals/joblib/hashing.py:197: DeprecationWarning: Changing the shape of non-C contiguous array by\n",
      "descriptor assignment is deprecated. To maintain\n",
      "the Fortran contiguity of a multidimensional Fortran\n",
      "array, use 'a.T.view(...).T' instead\n",
      "  obj_bytes_view = obj.view(self.np.uint8)\n"
     ]
    },
    {
     "name": "stdout",
     "output_type": "stream",
     "text": [
      "[CV] .. n_iter=3, alpha=0.001, l1_ratio=0.001, score=0.138072 -   3.3s\n",
      "[CV] n_iter=3, alpha=0.001, l1_ratio=0.001 ...........................\n"
     ]
    },
    {
     "name": "stderr",
     "output_type": "stream",
     "text": [
      "/home/ubuntu/Virtualenvs/mateo/lib/python3.4/site-packages/sklearn/externals/joblib/hashing.py:197: DeprecationWarning: Changing the shape of non-C contiguous array by\n",
      "descriptor assignment is deprecated. To maintain\n",
      "the Fortran contiguity of a multidimensional Fortran\n",
      "array, use 'a.T.view(...).T' instead\n",
      "  obj_bytes_view = obj.view(self.np.uint8)\n"
     ]
    },
    {
     "name": "stdout",
     "output_type": "stream",
     "text": [
      "[CV] .. n_iter=3, alpha=0.001, l1_ratio=0.001, score=0.133482 -   3.1s\n",
      "[CV] n_iter=2, alpha=0.001, l1_ratio=0.0006000000000000001 ...........\n"
     ]
    },
    {
     "name": "stderr",
     "output_type": "stream",
     "text": [
      "/home/ubuntu/Virtualenvs/mateo/lib/python3.4/site-packages/sklearn/externals/joblib/hashing.py:197: DeprecationWarning: Changing the shape of non-C contiguous array by\n",
      "descriptor assignment is deprecated. To maintain\n",
      "the Fortran contiguity of a multidimensional Fortran\n",
      "array, use 'a.T.view(...).T' instead\n",
      "  obj_bytes_view = obj.view(self.np.uint8)\n"
     ]
    },
    {
     "name": "stdout",
     "output_type": "stream",
     "text": [
      "[CV] .. n_iter=3, alpha=0.001, l1_ratio=0.001, score=0.133945 -   3.2s\n",
      "[CV] n_iter=2, alpha=0.001, l1_ratio=0.0006000000000000001 ...........\n"
     ]
    },
    {
     "name": "stderr",
     "output_type": "stream",
     "text": [
      "/home/ubuntu/Virtualenvs/mateo/lib/python3.4/site-packages/sklearn/externals/joblib/hashing.py:197: DeprecationWarning: Changing the shape of non-C contiguous array by\n",
      "descriptor assignment is deprecated. To maintain\n",
      "the Fortran contiguity of a multidimensional Fortran\n",
      "array, use 'a.T.view(...).T' instead\n",
      "  obj_bytes_view = obj.view(self.np.uint8)\n"
     ]
    },
    {
     "name": "stdout",
     "output_type": "stream",
     "text": [
      "[CV]  n_iter=2, alpha=0.001, l1_ratio=0.0006000000000000001, score=0.124318 -   2.5s\n",
      "[CV] n_iter=2, alpha=0.001, l1_ratio=0.0006000000000000001 ...........\n"
     ]
    },
    {
     "name": "stderr",
     "output_type": "stream",
     "text": [
      "/home/ubuntu/Virtualenvs/mateo/lib/python3.4/site-packages/sklearn/externals/joblib/hashing.py:197: DeprecationWarning: Changing the shape of non-C contiguous array by\n",
      "descriptor assignment is deprecated. To maintain\n",
      "the Fortran contiguity of a multidimensional Fortran\n",
      "array, use 'a.T.view(...).T' instead\n",
      "  obj_bytes_view = obj.view(self.np.uint8)\n"
     ]
    },
    {
     "name": "stdout",
     "output_type": "stream",
     "text": [
      "[CV]  n_iter=2, alpha=0.001, l1_ratio=0.0006000000000000001, score=0.125224 -   2.5s\n",
      "[CV] n_iter=3, alpha=0.001, l1_ratio=0.0006000000000000001 ...........\n"
     ]
    },
    {
     "name": "stderr",
     "output_type": "stream",
     "text": [
      "/home/ubuntu/Virtualenvs/mateo/lib/python3.4/site-packages/sklearn/externals/joblib/hashing.py:197: DeprecationWarning: Changing the shape of non-C contiguous array by\n",
      "descriptor assignment is deprecated. To maintain\n",
      "the Fortran contiguity of a multidimensional Fortran\n",
      "array, use 'a.T.view(...).T' instead\n",
      "  obj_bytes_view = obj.view(self.np.uint8)\n"
     ]
    },
    {
     "name": "stdout",
     "output_type": "stream",
     "text": [
      "[CV]  n_iter=2, alpha=0.001, l1_ratio=0.0006000000000000001, score=0.129423 -   2.5s\n",
      "[CV] n_iter=3, alpha=0.001, l1_ratio=0.0006000000000000001 ...........\n"
     ]
    },
    {
     "name": "stderr",
     "output_type": "stream",
     "text": [
      "/home/ubuntu/Virtualenvs/mateo/lib/python3.4/site-packages/sklearn/externals/joblib/hashing.py:197: DeprecationWarning: Changing the shape of non-C contiguous array by\n",
      "descriptor assignment is deprecated. To maintain\n",
      "the Fortran contiguity of a multidimensional Fortran\n",
      "array, use 'a.T.view(...).T' instead\n",
      "  obj_bytes_view = obj.view(self.np.uint8)\n"
     ]
    },
    {
     "name": "stdout",
     "output_type": "stream",
     "text": [
      "[CV]  n_iter=3, alpha=0.001, l1_ratio=0.0006000000000000001, score=0.131845 -   3.1s\n",
      "[CV] n_iter=3, alpha=0.001, l1_ratio=0.0006000000000000001 ...........\n"
     ]
    },
    {
     "name": "stderr",
     "output_type": "stream",
     "text": [
      "/home/ubuntu/Virtualenvs/mateo/lib/python3.4/site-packages/sklearn/externals/joblib/hashing.py:197: DeprecationWarning: Changing the shape of non-C contiguous array by\n",
      "descriptor assignment is deprecated. To maintain\n",
      "the Fortran contiguity of a multidimensional Fortran\n",
      "array, use 'a.T.view(...).T' instead\n",
      "  obj_bytes_view = obj.view(self.np.uint8)\n"
     ]
    },
    {
     "name": "stdout",
     "output_type": "stream",
     "text": [
      "[CV]  n_iter=3, alpha=0.001, l1_ratio=0.0006000000000000001, score=0.135827 -   3.1s\n",
      "[CV] n_iter=2, alpha=0.005, l1_ratio=0.03 ............................\n"
     ]
    },
    {
     "name": "stderr",
     "output_type": "stream",
     "text": [
      "/home/ubuntu/Virtualenvs/mateo/lib/python3.4/site-packages/sklearn/externals/joblib/hashing.py:197: DeprecationWarning: Changing the shape of non-C contiguous array by\n",
      "descriptor assignment is deprecated. To maintain\n",
      "the Fortran contiguity of a multidimensional Fortran\n",
      "array, use 'a.T.view(...).T' instead\n",
      "  obj_bytes_view = obj.view(self.np.uint8)\n"
     ]
    },
    {
     "name": "stdout",
     "output_type": "stream",
     "text": [
      "[CV]  n_iter=3, alpha=0.001, l1_ratio=0.0006000000000000001, score=0.128485 -   3.1s\n",
      "[CV] n_iter=2, alpha=0.005, l1_ratio=0.03 ............................\n"
     ]
    },
    {
     "name": "stderr",
     "output_type": "stream",
     "text": [
      "/home/ubuntu/Virtualenvs/mateo/lib/python3.4/site-packages/sklearn/externals/joblib/hashing.py:197: DeprecationWarning: Changing the shape of non-C contiguous array by\n",
      "descriptor assignment is deprecated. To maintain\n",
      "the Fortran contiguity of a multidimensional Fortran\n",
      "array, use 'a.T.view(...).T' instead\n",
      "  obj_bytes_view = obj.view(self.np.uint8)\n"
     ]
    },
    {
     "name": "stdout",
     "output_type": "stream",
     "text": [
      "[CV] ... n_iter=2, alpha=0.005, l1_ratio=0.03, score=0.125477 -   2.4s\n",
      "[CV] n_iter=2, alpha=0.005, l1_ratio=0.03 ............................\n"
     ]
    },
    {
     "name": "stderr",
     "output_type": "stream",
     "text": [
      "/home/ubuntu/Virtualenvs/mateo/lib/python3.4/site-packages/sklearn/externals/joblib/hashing.py:197: DeprecationWarning: Changing the shape of non-C contiguous array by\n",
      "descriptor assignment is deprecated. To maintain\n",
      "the Fortran contiguity of a multidimensional Fortran\n",
      "array, use 'a.T.view(...).T' instead\n",
      "  obj_bytes_view = obj.view(self.np.uint8)\n"
     ]
    },
    {
     "name": "stdout",
     "output_type": "stream",
     "text": [
      "[CV] ... n_iter=2, alpha=0.005, l1_ratio=0.03, score=0.125957 -   2.8s\n",
      "[CV] n_iter=3, alpha=0.005, l1_ratio=0.03 ............................\n"
     ]
    },
    {
     "name": "stderr",
     "output_type": "stream",
     "text": [
      "/home/ubuntu/Virtualenvs/mateo/lib/python3.4/site-packages/sklearn/externals/joblib/hashing.py:197: DeprecationWarning: Changing the shape of non-C contiguous array by\n",
      "descriptor assignment is deprecated. To maintain\n",
      "the Fortran contiguity of a multidimensional Fortran\n",
      "array, use 'a.T.view(...).T' instead\n",
      "  obj_bytes_view = obj.view(self.np.uint8)\n"
     ]
    },
    {
     "name": "stdout",
     "output_type": "stream",
     "text": [
      "[CV] ... n_iter=2, alpha=0.005, l1_ratio=0.03, score=0.127511 -   2.6s\n",
      "[CV] n_iter=3, alpha=0.005, l1_ratio=0.03 ............................\n"
     ]
    },
    {
     "name": "stderr",
     "output_type": "stream",
     "text": [
      "/home/ubuntu/Virtualenvs/mateo/lib/python3.4/site-packages/sklearn/externals/joblib/hashing.py:197: DeprecationWarning: Changing the shape of non-C contiguous array by\n",
      "descriptor assignment is deprecated. To maintain\n",
      "the Fortran contiguity of a multidimensional Fortran\n",
      "array, use 'a.T.view(...).T' instead\n",
      "  obj_bytes_view = obj.view(self.np.uint8)\n"
     ]
    },
    {
     "name": "stdout",
     "output_type": "stream",
     "text": [
      "[CV] ... n_iter=3, alpha=0.005, l1_ratio=0.03, score=0.127618 -   2.8s\n",
      "[CV] n_iter=3, alpha=0.005, l1_ratio=0.03 ............................\n"
     ]
    },
    {
     "name": "stderr",
     "output_type": "stream",
     "text": [
      "/home/ubuntu/Virtualenvs/mateo/lib/python3.4/site-packages/sklearn/externals/joblib/hashing.py:197: DeprecationWarning: Changing the shape of non-C contiguous array by\n",
      "descriptor assignment is deprecated. To maintain\n",
      "the Fortran contiguity of a multidimensional Fortran\n",
      "array, use 'a.T.view(...).T' instead\n",
      "  obj_bytes_view = obj.view(self.np.uint8)\n"
     ]
    },
    {
     "name": "stdout",
     "output_type": "stream",
     "text": [
      "[CV] ... n_iter=3, alpha=0.005, l1_ratio=0.03, score=0.125386 -   2.8s\n",
      "[CV] n_iter=2, alpha=0.005, l1_ratio=0.001 ...........................\n"
     ]
    },
    {
     "name": "stderr",
     "output_type": "stream",
     "text": [
      "/home/ubuntu/Virtualenvs/mateo/lib/python3.4/site-packages/sklearn/externals/joblib/hashing.py:197: DeprecationWarning: Changing the shape of non-C contiguous array by\n",
      "descriptor assignment is deprecated. To maintain\n",
      "the Fortran contiguity of a multidimensional Fortran\n",
      "array, use 'a.T.view(...).T' instead\n",
      "  obj_bytes_view = obj.view(self.np.uint8)\n"
     ]
    },
    {
     "name": "stdout",
     "output_type": "stream",
     "text": [
      "[CV] ... n_iter=3, alpha=0.005, l1_ratio=0.03, score=0.136983 -   3.0s\n"
     ]
    },
    {
     "name": "stderr",
     "output_type": "stream",
     "text": [
      "[Parallel(n_jobs=4)]: Done  24 tasks      | elapsed:   47.9s\n"
     ]
    },
    {
     "name": "stdout",
     "output_type": "stream",
     "text": [
      "[CV] n_iter=2, alpha=0.005, l1_ratio=0.001 ...........................\n"
     ]
    },
    {
     "name": "stderr",
     "output_type": "stream",
     "text": [
      "/home/ubuntu/Virtualenvs/mateo/lib/python3.4/site-packages/sklearn/externals/joblib/hashing.py:197: DeprecationWarning: Changing the shape of non-C contiguous array by\n",
      "descriptor assignment is deprecated. To maintain\n",
      "the Fortran contiguity of a multidimensional Fortran\n",
      "array, use 'a.T.view(...).T' instead\n",
      "  obj_bytes_view = obj.view(self.np.uint8)\n"
     ]
    },
    {
     "name": "stdout",
     "output_type": "stream",
     "text": [
      "[CV] .. n_iter=2, alpha=0.005, l1_ratio=0.001, score=0.120290 -   2.5s\n",
      "[CV] n_iter=2, alpha=0.005, l1_ratio=0.001 ...........................\n"
     ]
    },
    {
     "name": "stderr",
     "output_type": "stream",
     "text": [
      "/home/ubuntu/Virtualenvs/mateo/lib/python3.4/site-packages/sklearn/externals/joblib/hashing.py:197: DeprecationWarning: Changing the shape of non-C contiguous array by\n",
      "descriptor assignment is deprecated. To maintain\n",
      "the Fortran contiguity of a multidimensional Fortran\n",
      "array, use 'a.T.view(...).T' instead\n",
      "  obj_bytes_view = obj.view(self.np.uint8)\n"
     ]
    },
    {
     "name": "stdout",
     "output_type": "stream",
     "text": [
      "[CV] .. n_iter=2, alpha=0.005, l1_ratio=0.001, score=0.118753 -   2.5s\n",
      "[CV] n_iter=3, alpha=0.005, l1_ratio=0.001 ...........................\n"
     ]
    },
    {
     "name": "stderr",
     "output_type": "stream",
     "text": [
      "/home/ubuntu/Virtualenvs/mateo/lib/python3.4/site-packages/sklearn/externals/joblib/hashing.py:197: DeprecationWarning: Changing the shape of non-C contiguous array by\n",
      "descriptor assignment is deprecated. To maintain\n",
      "the Fortran contiguity of a multidimensional Fortran\n",
      "array, use 'a.T.view(...).T' instead\n",
      "  obj_bytes_view = obj.view(self.np.uint8)\n"
     ]
    },
    {
     "name": "stdout",
     "output_type": "stream",
     "text": [
      "[CV] .. n_iter=2, alpha=0.005, l1_ratio=0.001, score=0.127159 -   2.9s\n",
      "[CV] n_iter=3, alpha=0.005, l1_ratio=0.001 ...........................\n"
     ]
    },
    {
     "name": "stderr",
     "output_type": "stream",
     "text": [
      "/home/ubuntu/Virtualenvs/mateo/lib/python3.4/site-packages/sklearn/externals/joblib/hashing.py:197: DeprecationWarning: Changing the shape of non-C contiguous array by\n",
      "descriptor assignment is deprecated. To maintain\n",
      "the Fortran contiguity of a multidimensional Fortran\n",
      "array, use 'a.T.view(...).T' instead\n",
      "  obj_bytes_view = obj.view(self.np.uint8)\n"
     ]
    },
    {
     "name": "stdout",
     "output_type": "stream",
     "text": [
      "[CV] .. n_iter=3, alpha=0.005, l1_ratio=0.001, score=0.127485 -   3.3s\n",
      "[CV] n_iter=3, alpha=0.005, l1_ratio=0.001 ...........................\n"
     ]
    },
    {
     "name": "stderr",
     "output_type": "stream",
     "text": [
      "/home/ubuntu/Virtualenvs/mateo/lib/python3.4/site-packages/sklearn/externals/joblib/hashing.py:197: DeprecationWarning: Changing the shape of non-C contiguous array by\n",
      "descriptor assignment is deprecated. To maintain\n",
      "the Fortran contiguity of a multidimensional Fortran\n",
      "array, use 'a.T.view(...).T' instead\n",
      "  obj_bytes_view = obj.view(self.np.uint8)\n"
     ]
    },
    {
     "name": "stdout",
     "output_type": "stream",
     "text": [
      "[CV] .. n_iter=3, alpha=0.005, l1_ratio=0.001, score=0.139728 -   3.1s\n",
      "[CV] n_iter=2, alpha=0.005, l1_ratio=0.0006000000000000001 ...........\n"
     ]
    },
    {
     "name": "stderr",
     "output_type": "stream",
     "text": [
      "/home/ubuntu/Virtualenvs/mateo/lib/python3.4/site-packages/sklearn/externals/joblib/hashing.py:197: DeprecationWarning: Changing the shape of non-C contiguous array by\n",
      "descriptor assignment is deprecated. To maintain\n",
      "the Fortran contiguity of a multidimensional Fortran\n",
      "array, use 'a.T.view(...).T' instead\n",
      "  obj_bytes_view = obj.view(self.np.uint8)\n"
     ]
    },
    {
     "name": "stdout",
     "output_type": "stream",
     "text": [
      "[CV] .. n_iter=3, alpha=0.005, l1_ratio=0.001, score=0.130469 -   3.1s\n",
      "[CV] n_iter=2, alpha=0.005, l1_ratio=0.0006000000000000001 ...........\n"
     ]
    },
    {
     "name": "stderr",
     "output_type": "stream",
     "text": [
      "/home/ubuntu/Virtualenvs/mateo/lib/python3.4/site-packages/sklearn/externals/joblib/hashing.py:197: DeprecationWarning: Changing the shape of non-C contiguous array by\n",
      "descriptor assignment is deprecated. To maintain\n",
      "the Fortran contiguity of a multidimensional Fortran\n",
      "array, use 'a.T.view(...).T' instead\n",
      "  obj_bytes_view = obj.view(self.np.uint8)\n"
     ]
    },
    {
     "name": "stdout",
     "output_type": "stream",
     "text": [
      "[CV]  n_iter=2, alpha=0.005, l1_ratio=0.0006000000000000001, score=0.129161 -   2.5s\n",
      "[CV] n_iter=2, alpha=0.005, l1_ratio=0.0006000000000000001 ...........\n"
     ]
    },
    {
     "name": "stderr",
     "output_type": "stream",
     "text": [
      "/home/ubuntu/Virtualenvs/mateo/lib/python3.4/site-packages/sklearn/externals/joblib/hashing.py:197: DeprecationWarning: Changing the shape of non-C contiguous array by\n",
      "descriptor assignment is deprecated. To maintain\n",
      "the Fortran contiguity of a multidimensional Fortran\n",
      "array, use 'a.T.view(...).T' instead\n",
      "  obj_bytes_view = obj.view(self.np.uint8)\n"
     ]
    },
    {
     "name": "stdout",
     "output_type": "stream",
     "text": [
      "[CV]  n_iter=2, alpha=0.005, l1_ratio=0.0006000000000000001, score=0.130159 -   2.5s\n",
      "[CV] n_iter=3, alpha=0.005, l1_ratio=0.0006000000000000001 ...........\n"
     ]
    },
    {
     "name": "stderr",
     "output_type": "stream",
     "text": [
      "/home/ubuntu/Virtualenvs/mateo/lib/python3.4/site-packages/sklearn/externals/joblib/hashing.py:197: DeprecationWarning: Changing the shape of non-C contiguous array by\n",
      "descriptor assignment is deprecated. To maintain\n",
      "the Fortran contiguity of a multidimensional Fortran\n",
      "array, use 'a.T.view(...).T' instead\n",
      "  obj_bytes_view = obj.view(self.np.uint8)\n"
     ]
    },
    {
     "name": "stdout",
     "output_type": "stream",
     "text": [
      "[CV]  n_iter=2, alpha=0.005, l1_ratio=0.0006000000000000001, score=0.127613 -   2.5s\n",
      "[CV] n_iter=3, alpha=0.005, l1_ratio=0.0006000000000000001 ...........\n"
     ]
    },
    {
     "name": "stderr",
     "output_type": "stream",
     "text": [
      "/home/ubuntu/Virtualenvs/mateo/lib/python3.4/site-packages/sklearn/externals/joblib/hashing.py:197: DeprecationWarning: Changing the shape of non-C contiguous array by\n",
      "descriptor assignment is deprecated. To maintain\n",
      "the Fortran contiguity of a multidimensional Fortran\n",
      "array, use 'a.T.view(...).T' instead\n",
      "  obj_bytes_view = obj.view(self.np.uint8)\n"
     ]
    },
    {
     "name": "stdout",
     "output_type": "stream",
     "text": [
      "[CV]  n_iter=3, alpha=0.005, l1_ratio=0.0006000000000000001, score=0.132956 -   3.1s\n",
      "[CV] n_iter=3, alpha=0.005, l1_ratio=0.0006000000000000001 ...........\n"
     ]
    },
    {
     "name": "stderr",
     "output_type": "stream",
     "text": [
      "/home/ubuntu/Virtualenvs/mateo/lib/python3.4/site-packages/sklearn/externals/joblib/hashing.py:197: DeprecationWarning: Changing the shape of non-C contiguous array by\n",
      "descriptor assignment is deprecated. To maintain\n",
      "the Fortran contiguity of a multidimensional Fortran\n",
      "array, use 'a.T.view(...).T' instead\n",
      "  obj_bytes_view = obj.view(self.np.uint8)\n"
     ]
    },
    {
     "name": "stdout",
     "output_type": "stream",
     "text": [
      "[CV]  n_iter=3, alpha=0.005, l1_ratio=0.0006000000000000001, score=0.143005 -   3.1s\n",
      "[CV] n_iter=2, alpha=0.01, l1_ratio=0.03 .............................\n"
     ]
    },
    {
     "name": "stderr",
     "output_type": "stream",
     "text": [
      "/home/ubuntu/Virtualenvs/mateo/lib/python3.4/site-packages/sklearn/externals/joblib/hashing.py:197: DeprecationWarning: Changing the shape of non-C contiguous array by\n",
      "descriptor assignment is deprecated. To maintain\n",
      "the Fortran contiguity of a multidimensional Fortran\n",
      "array, use 'a.T.view(...).T' instead\n",
      "  obj_bytes_view = obj.view(self.np.uint8)\n"
     ]
    },
    {
     "name": "stdout",
     "output_type": "stream",
     "text": [
      "[CV]  n_iter=3, alpha=0.005, l1_ratio=0.0006000000000000001, score=0.135926 -   3.1s\n",
      "[CV] n_iter=2, alpha=0.01, l1_ratio=0.03 .............................\n"
     ]
    },
    {
     "name": "stderr",
     "output_type": "stream",
     "text": [
      "/home/ubuntu/Virtualenvs/mateo/lib/python3.4/site-packages/sklearn/externals/joblib/hashing.py:197: DeprecationWarning: Changing the shape of non-C contiguous array by\n",
      "descriptor assignment is deprecated. To maintain\n",
      "the Fortran contiguity of a multidimensional Fortran\n",
      "array, use 'a.T.view(...).T' instead\n",
      "  obj_bytes_view = obj.view(self.np.uint8)\n"
     ]
    },
    {
     "name": "stdout",
     "output_type": "stream",
     "text": [
      "[CV] .... n_iter=2, alpha=0.01, l1_ratio=0.03, score=0.128098 -   2.4s\n",
      "[CV] n_iter=2, alpha=0.01, l1_ratio=0.03 .............................\n"
     ]
    },
    {
     "name": "stderr",
     "output_type": "stream",
     "text": [
      "/home/ubuntu/Virtualenvs/mateo/lib/python3.4/site-packages/sklearn/externals/joblib/hashing.py:197: DeprecationWarning: Changing the shape of non-C contiguous array by\n",
      "descriptor assignment is deprecated. To maintain\n",
      "the Fortran contiguity of a multidimensional Fortran\n",
      "array, use 'a.T.view(...).T' instead\n",
      "  obj_bytes_view = obj.view(self.np.uint8)\n"
     ]
    },
    {
     "name": "stdout",
     "output_type": "stream",
     "text": [
      "[CV] .... n_iter=2, alpha=0.01, l1_ratio=0.03, score=0.127078 -   2.7s\n",
      "[CV] n_iter=3, alpha=0.01, l1_ratio=0.03 .............................\n"
     ]
    },
    {
     "name": "stderr",
     "output_type": "stream",
     "text": [
      "/home/ubuntu/Virtualenvs/mateo/lib/python3.4/site-packages/sklearn/externals/joblib/hashing.py:197: DeprecationWarning: Changing the shape of non-C contiguous array by\n",
      "descriptor assignment is deprecated. To maintain\n",
      "the Fortran contiguity of a multidimensional Fortran\n",
      "array, use 'a.T.view(...).T' instead\n",
      "  obj_bytes_view = obj.view(self.np.uint8)\n"
     ]
    },
    {
     "name": "stdout",
     "output_type": "stream",
     "text": [
      "[CV] .... n_iter=2, alpha=0.01, l1_ratio=0.03, score=0.126921 -   2.5s\n",
      "[CV] n_iter=3, alpha=0.01, l1_ratio=0.03 .............................\n"
     ]
    },
    {
     "name": "stderr",
     "output_type": "stream",
     "text": [
      "/home/ubuntu/Virtualenvs/mateo/lib/python3.4/site-packages/sklearn/externals/joblib/hashing.py:197: DeprecationWarning: Changing the shape of non-C contiguous array by\n",
      "descriptor assignment is deprecated. To maintain\n",
      "the Fortran contiguity of a multidimensional Fortran\n",
      "array, use 'a.T.view(...).T' instead\n",
      "  obj_bytes_view = obj.view(self.np.uint8)\n"
     ]
    },
    {
     "name": "stdout",
     "output_type": "stream",
     "text": [
      "[CV] .... n_iter=3, alpha=0.01, l1_ratio=0.03, score=0.138152 -   3.6s\n",
      "[CV] n_iter=3, alpha=0.01, l1_ratio=0.03 .............................\n"
     ]
    },
    {
     "name": "stderr",
     "output_type": "stream",
     "text": [
      "/home/ubuntu/Virtualenvs/mateo/lib/python3.4/site-packages/sklearn/externals/joblib/hashing.py:197: DeprecationWarning: Changing the shape of non-C contiguous array by\n",
      "descriptor assignment is deprecated. To maintain\n",
      "the Fortran contiguity of a multidimensional Fortran\n",
      "array, use 'a.T.view(...).T' instead\n",
      "  obj_bytes_view = obj.view(self.np.uint8)\n"
     ]
    },
    {
     "name": "stdout",
     "output_type": "stream",
     "text": [
      "[CV] .... n_iter=3, alpha=0.01, l1_ratio=0.03, score=0.106208 -   3.1s\n",
      "[CV] n_iter=2, alpha=0.01, l1_ratio=0.001 ............................\n"
     ]
    },
    {
     "name": "stderr",
     "output_type": "stream",
     "text": [
      "/home/ubuntu/Virtualenvs/mateo/lib/python3.4/site-packages/sklearn/externals/joblib/hashing.py:197: DeprecationWarning: Changing the shape of non-C contiguous array by\n",
      "descriptor assignment is deprecated. To maintain\n",
      "the Fortran contiguity of a multidimensional Fortran\n",
      "array, use 'a.T.view(...).T' instead\n",
      "  obj_bytes_view = obj.view(self.np.uint8)\n"
     ]
    },
    {
     "name": "stdout",
     "output_type": "stream",
     "text": [
      "[CV] .... n_iter=3, alpha=0.01, l1_ratio=0.03, score=0.143076 -   2.8s\n",
      "[CV] n_iter=2, alpha=0.01, l1_ratio=0.001 ............................\n"
     ]
    },
    {
     "name": "stderr",
     "output_type": "stream",
     "text": [
      "/home/ubuntu/Virtualenvs/mateo/lib/python3.4/site-packages/sklearn/externals/joblib/hashing.py:197: DeprecationWarning: Changing the shape of non-C contiguous array by\n",
      "descriptor assignment is deprecated. To maintain\n",
      "the Fortran contiguity of a multidimensional Fortran\n",
      "array, use 'a.T.view(...).T' instead\n",
      "  obj_bytes_view = obj.view(self.np.uint8)\n"
     ]
    },
    {
     "name": "stdout",
     "output_type": "stream",
     "text": [
      "[CV] ... n_iter=2, alpha=0.01, l1_ratio=0.001, score=0.132427 -   2.5s\n",
      "[CV] n_iter=2, alpha=0.01, l1_ratio=0.001 ............................\n"
     ]
    },
    {
     "name": "stderr",
     "output_type": "stream",
     "text": [
      "/home/ubuntu/Virtualenvs/mateo/lib/python3.4/site-packages/sklearn/externals/joblib/hashing.py:197: DeprecationWarning: Changing the shape of non-C contiguous array by\n",
      "descriptor assignment is deprecated. To maintain\n",
      "the Fortran contiguity of a multidimensional Fortran\n",
      "array, use 'a.T.view(...).T' instead\n",
      "  obj_bytes_view = obj.view(self.np.uint8)\n"
     ]
    },
    {
     "name": "stdout",
     "output_type": "stream",
     "text": [
      "[CV] ... n_iter=2, alpha=0.01, l1_ratio=0.001, score=0.125901 -   2.9s\n",
      "[CV] n_iter=3, alpha=0.01, l1_ratio=0.001 ............................\n"
     ]
    },
    {
     "name": "stderr",
     "output_type": "stream",
     "text": [
      "/home/ubuntu/Virtualenvs/mateo/lib/python3.4/site-packages/sklearn/externals/joblib/hashing.py:197: DeprecationWarning: Changing the shape of non-C contiguous array by\n",
      "descriptor assignment is deprecated. To maintain\n",
      "the Fortran contiguity of a multidimensional Fortran\n",
      "array, use 'a.T.view(...).T' instead\n",
      "  obj_bytes_view = obj.view(self.np.uint8)\n"
     ]
    },
    {
     "name": "stdout",
     "output_type": "stream",
     "text": [
      "[CV] ... n_iter=2, alpha=0.01, l1_ratio=0.001, score=0.128001 -   2.7s\n",
      "[CV] n_iter=3, alpha=0.01, l1_ratio=0.001 ............................\n"
     ]
    },
    {
     "name": "stderr",
     "output_type": "stream",
     "text": [
      "/home/ubuntu/Virtualenvs/mateo/lib/python3.4/site-packages/sklearn/externals/joblib/hashing.py:197: DeprecationWarning: Changing the shape of non-C contiguous array by\n",
      "descriptor assignment is deprecated. To maintain\n",
      "the Fortran contiguity of a multidimensional Fortran\n",
      "array, use 'a.T.view(...).T' instead\n",
      "  obj_bytes_view = obj.view(self.np.uint8)\n"
     ]
    },
    {
     "name": "stdout",
     "output_type": "stream",
     "text": [
      "[CV] ... n_iter=3, alpha=0.01, l1_ratio=0.001, score=0.135568 -   3.1s\n",
      "[CV] n_iter=3, alpha=0.01, l1_ratio=0.001 ............................\n"
     ]
    },
    {
     "name": "stderr",
     "output_type": "stream",
     "text": [
      "/home/ubuntu/Virtualenvs/mateo/lib/python3.4/site-packages/sklearn/externals/joblib/hashing.py:197: DeprecationWarning: Changing the shape of non-C contiguous array by\n",
      "descriptor assignment is deprecated. To maintain\n",
      "the Fortran contiguity of a multidimensional Fortran\n",
      "array, use 'a.T.view(...).T' instead\n",
      "  obj_bytes_view = obj.view(self.np.uint8)\n"
     ]
    },
    {
     "name": "stdout",
     "output_type": "stream",
     "text": [
      "[CV] n_iter=2, alpha=0.01, l1_ratio=0.0006000000000000001 ............\n"
     ]
    },
    {
     "name": "stderr",
     "output_type": "stream",
     "text": [
      "/home/ubuntu/Virtualenvs/mateo/lib/python3.4/site-packages/sklearn/externals/joblib/hashing.py:197: DeprecationWarning: Changing the shape of non-C contiguous array by\n",
      "descriptor assignment is deprecated. To maintain\n",
      "the Fortran contiguity of a multidimensional Fortran\n",
      "array, use 'a.T.view(...).T' instead\n",
      "  obj_bytes_view = obj.view(self.np.uint8)\n"
     ]
    },
    {
     "name": "stdout",
     "output_type": "stream",
     "text": [
      "[CV] ... n_iter=3, alpha=0.01, l1_ratio=0.001, score=0.132579 -   4.4s\n",
      "[CV] ... n_iter=3, alpha=0.01, l1_ratio=0.001, score=0.136589 -   3.7s\n",
      "[CV] n_iter=2, alpha=0.01, l1_ratio=0.0006000000000000001 ............\n"
     ]
    },
    {
     "name": "stderr",
     "output_type": "stream",
     "text": [
      "/home/ubuntu/Virtualenvs/mateo/lib/python3.4/site-packages/sklearn/externals/joblib/hashing.py:197: DeprecationWarning: Changing the shape of non-C contiguous array by\n",
      "descriptor assignment is deprecated. To maintain\n",
      "the Fortran contiguity of a multidimensional Fortran\n",
      "array, use 'a.T.view(...).T' instead\n",
      "  obj_bytes_view = obj.view(self.np.uint8)\n"
     ]
    },
    {
     "name": "stdout",
     "output_type": "stream",
     "text": [
      "[CV]  n_iter=2, alpha=0.01, l1_ratio=0.0006000000000000001, score=0.124134 -   2.8s\n",
      "[CV] n_iter=2, alpha=0.01, l1_ratio=0.0006000000000000001 ............\n"
     ]
    },
    {
     "name": "stderr",
     "output_type": "stream",
     "text": [
      "/home/ubuntu/Virtualenvs/mateo/lib/python3.4/site-packages/sklearn/externals/joblib/hashing.py:197: DeprecationWarning: Changing the shape of non-C contiguous array by\n",
      "descriptor assignment is deprecated. To maintain\n",
      "the Fortran contiguity of a multidimensional Fortran\n",
      "array, use 'a.T.view(...).T' instead\n",
      "  obj_bytes_view = obj.view(self.np.uint8)\n"
     ]
    },
    {
     "name": "stdout",
     "output_type": "stream",
     "text": [
      "[CV]  n_iter=2, alpha=0.01, l1_ratio=0.0006000000000000001, score=0.130883 -   2.5s\n",
      "[CV] n_iter=3, alpha=0.01, l1_ratio=0.0006000000000000001 ............\n"
     ]
    },
    {
     "name": "stderr",
     "output_type": "stream",
     "text": [
      "/home/ubuntu/Virtualenvs/mateo/lib/python3.4/site-packages/sklearn/externals/joblib/hashing.py:197: DeprecationWarning: Changing the shape of non-C contiguous array by\n",
      "descriptor assignment is deprecated. To maintain\n",
      "the Fortran contiguity of a multidimensional Fortran\n",
      "array, use 'a.T.view(...).T' instead\n",
      "  obj_bytes_view = obj.view(self.np.uint8)\n"
     ]
    },
    {
     "name": "stdout",
     "output_type": "stream",
     "text": [
      "[CV]  n_iter=2, alpha=0.01, l1_ratio=0.0006000000000000001, score=0.122741 -   3.5s\n",
      "[CV] n_iter=3, alpha=0.01, l1_ratio=0.0006000000000000001 ............\n"
     ]
    },
    {
     "name": "stderr",
     "output_type": "stream",
     "text": [
      "/home/ubuntu/Virtualenvs/mateo/lib/python3.4/site-packages/sklearn/externals/joblib/hashing.py:197: DeprecationWarning: Changing the shape of non-C contiguous array by\n",
      "descriptor assignment is deprecated. To maintain\n",
      "the Fortran contiguity of a multidimensional Fortran\n",
      "array, use 'a.T.view(...).T' instead\n",
      "  obj_bytes_view = obj.view(self.np.uint8)\n"
     ]
    },
    {
     "name": "stdout",
     "output_type": "stream",
     "text": [
      "[CV]  n_iter=3, alpha=0.01, l1_ratio=0.0006000000000000001, score=0.132433 -   3.7s\n",
      "[CV] n_iter=3, alpha=0.01, l1_ratio=0.0006000000000000001 ............\n",
      "[CV]  n_iter=3, alpha=0.01, l1_ratio=0.0006000000000000001, score=0.135111 -   3.4s\n",
      "[CV]  n_iter=3, alpha=0.01, l1_ratio=0.0006000000000000001, score=0.135908 -   3.1s\n"
     ]
    },
    {
     "name": "stderr",
     "output_type": "stream",
     "text": [
      "[Parallel(n_jobs=4)]: Done  54 out of  54 | elapsed:  1.7min finished\n"
     ]
    },
    {
     "name": "stdout",
     "output_type": "stream",
     "text": [
      "             precision    recall  f1-score   support\n",
      "\n",
      "          0       1.00      0.31      0.47    355992\n",
      "          1       0.06      0.99      0.11     15152\n",
      "\n",
      "avg / total       0.96      0.33      0.45    371144\n",
      "\n",
      "This cell took 108.56432461738586 seconds to run\n"
     ]
    }
   ],
   "source": [
    "start_time = time.time()\n",
    "\n",
    "param_grid = [\n",
    "  { 'alpha': [1e-3,5*1e-3,1e-2], 'l1_ratio': [3*1e-2,1e-3,6*1e-4], 'n_iter': [2,3]\n",
    "  }\n",
    "    ]\n",
    "sgd = SGDClassifier(loss='modified_huber', penalty='elasticnet', \n",
    "             fit_intercept=True,  shuffle=True, \n",
    "                    n_jobs=3,learning_rate='optimal', power_t =2, eta0 =5,\n",
    "                    class_weight='balanced', average=40)\n",
    "\n",
    "clf =GridSearchCV(sgd, param_grid, scoring='roc_auc', fit_params=None, n_jobs=4, iid=True, refit=True, \n",
    "verbose=3, pre_dispatch='2*n_jobs', error_score='raise')\n",
    "\n",
    "clf.fit(X_train,y_train)\n",
    "\n",
    "\n",
    "\n",
    "predicted_proba = pd.DataFrame()\n",
    "predicted_proba['prob'] = clf.predict_proba(X_test).max(axis=1)\n",
    "predicted_proba['class'] = clf.predict(X_test)\n",
    "predicted_proba[gt] =  y_test\n",
    "predicted_proba.sort_values(by = 'prob',ascending = False, inplace = True)\n",
    "\n",
    "cut_percentages = [10,20,30,40]\n",
    "#converted = (predicted_proba['class']==1)\n",
    "#me fijo todos los users que van a convertir en el futuro\n",
    "\n",
    "\n",
    "start = 0\n",
    "mobility_dict = {}\n",
    "index_segments = []\n",
    "for i in cut_percentages:\n",
    "    cut_size = int(len(predicted_proba)*i/100.0)    \n",
    "    bool_array = (~np.ones(len(predicted_proba), dtype=bool))\n",
    "    bool_array[start: start + cut_size] = True\n",
    "    index_segments += [bool_array]\n",
    "    start = start + cut_size\n",
    "#    subtable = \n",
    "    #mobility_dict[str(i)] = predicted_proba.loc[index_segments[-1],'ref_hash']\n",
    "    \n",
    "    print(classification_report(predicted_proba.loc[index_segments[-1],gt].values,\n",
    "                            predicted_proba.loc[index_segments[-1],'class'].values ))\n",
    "    \n",
    "    \n",
    "print(classification_report(predicted_proba.loc[:,gt].values,\n",
    "                            predicted_proba.loc[:,'class'].values ))\n",
    "    \n",
    "    \n",
    "cv_result = pd.DataFrame(columns=['mean_score' ] + [key for key, value in clf.grid_scores_[0].parameters.items() ] )\n",
    "i=0\n",
    "for setup in clf.grid_scores_:\n",
    "    row = [clf.grid_scores_[i].mean_validation_score ] + [value for key, value in clf.grid_scores_[i].parameters.items() ]\n",
    "    cv_result.loc[i] = row\n",
    "    i+=1\n",
    "#este flag es basicamente para chequear que hayamos terminado nomas\n",
    "finished = True\n",
    "\n",
    "all_time =   time.time() - start_time\n",
    "\n",
    "#este flag es basicamente para chequear que hayamos terminado nomas\n",
    "finished = True\n",
    "\n",
    "print('This cell took %s seconds to run' % all_time)\n"
   ]
  },
  {
   "cell_type": "code",
   "execution_count": null,
   "metadata": {
    "collapsed": true
   },
   "outputs": [],
   "source": [
    "threshold = 0.7\n",
    "ind = predicted_proba['prob']>threshold\n",
    "print(classification_report(predicted_proba.loc[ind,'y'].values,predicted_proba.loc[ind,'class'].values ))"
   ]
  },
  {
   "cell_type": "code",
   "execution_count": 38,
   "metadata": {},
   "outputs": [
    {
     "data": {
      "text/plain": [
       "SGDClassifier(alpha=0.005, average=40, class_weight='balanced', epsilon=0.1,\n",
       "       eta0=5, fit_intercept=True, l1_ratio=0.0006000000000000001,\n",
       "       learning_rate='optimal', loss='modified_huber', n_iter=3, n_jobs=3,\n",
       "       penalty='elasticnet', power_t=2, random_state=None, shuffle=True,\n",
       "       verbose=0, warm_start=False)"
      ]
     },
     "execution_count": 38,
     "metadata": {},
     "output_type": "execute_result"
    }
   ],
   "source": [
    "clf.best_estimator_"
   ]
  },
  {
   "cell_type": "code",
   "execution_count": 39,
   "metadata": {
    "scrolled": true
   },
   "outputs": [
    {
     "name": "stdout",
     "output_type": "stream",
     "text": [
      "n_iter\n",
      "2.0    0.125741\n",
      "3.0    0.132943\n",
      "Name: mean_score, dtype: float64\n",
      "n_iter\n",
      "2.0    0.002609\n",
      "3.0    0.002703\n",
      "Name: mean_score, dtype: float64\n"
     ]
    }
   ],
   "source": [
    "coln=1\n",
    "print(cv_result.groupby(cv_result.columns[coln])['mean_score'].mean())\n",
    "print(cv_result.groupby(cv_result.columns[coln])['mean_score'].std())"
   ]
  },
  {
   "cell_type": "markdown",
   "metadata": {
    "collapsed": true
   },
   "source": [
    "### Results\n",
    "* l1_ratio = cuanto mas chico mejor con lo cual la perdida l2 parece ser mejor\n",
    "* alpha = 1e-3 es suficiente pues casi no afecta el score\n",
    "* power_t = muy variado, no parece haber correlacion entre el tamanyo y el avg, mean_score\n",
    "* eta0 = no afecta mucho pero parece ser que con ser >1 ya esta\n",
    "* power_t = parecen ser practicamente iguales\n",
    "* n_iter = cuanto mas iter NO mejora el score"
   ]
  },
  {
   "cell_type": "code",
   "execution_count": 51,
   "metadata": {},
   "outputs": [
    {
     "data": {
      "text/plain": [
       "371161"
      ]
     },
     "execution_count": 51,
     "metadata": {},
     "output_type": "execute_result"
    }
   ],
   "source": [
    "len(predicted_proba)"
   ]
  },
  {
   "cell_type": "markdown",
   "metadata": {},
   "source": [
    "## Cross Validate NN"
   ]
  },
  {
   "cell_type": "code",
   "execution_count": 35,
   "metadata": {
    "scrolled": true
   },
   "outputs": [
    {
     "name": "stdout",
     "output_type": "stream",
     "text": [
      "Fitting 3 folds for each of 144 candidates, totalling 432 fits\n",
      "[CV] algorithm=adam, hidden_layer_sizes=(50,), activation=logistic, power_t=0.001, alpha=0.1, learning_rate=adaptive \n",
      "[CV] algorithm=adam, hidden_layer_sizes=(50,), activation=logistic, power_t=0.001, alpha=0.1, learning_rate=adaptive \n",
      "[CV] algorithm=adam, hidden_layer_sizes=(50,), activation=logistic, power_t=0.001, alpha=0.1, learning_rate=adaptive \n",
      "[CV] algorithm=adam, hidden_layer_sizes=(50,), activation=logistic, power_t=0.0005, alpha=0.1, learning_rate=adaptive \n",
      "Iteration 1, loss = 0.20405210\n",
      "Iteration 1, loss = 0.20380843\n",
      "Iteration 1, loss = 0.20378706\n",
      "Iteration 1, loss = 0.20405210\n"
     ]
    },
    {
     "name": "stderr",
     "output_type": "stream",
     "text": [
      "/home/teo/Repositories/scikit-learn/sklearn/metrics/classification.py:1097: UndefinedMetricWarning: F-score is ill-defined and being set to 0.0 due to no predicted samples.\n",
      "  'precision', 'predicted', average, warn_for)\n"
     ]
    },
    {
     "name": "stdout",
     "output_type": "stream",
     "text": [
      "[CV]  algorithm=adam, hidden_layer_sizes=(50,), activation=logistic, power_t=0.0005, alpha=0.1, learning_rate=adaptive, score=0.000000 -   1.5s\n",
      "[CV] algorithm=adam, hidden_layer_sizes=(50,), activation=logistic, power_t=0.0005, alpha=0.1, learning_rate=adaptive \n"
     ]
    },
    {
     "name": "stderr",
     "output_type": "stream",
     "text": [
      "/home/teo/Repositories/scikit-learn/sklearn/metrics/classification.py:1097: UndefinedMetricWarning: F-score is ill-defined and being set to 0.0 due to no predicted samples.\n",
      "  'precision', 'predicted', average, warn_for)\n"
     ]
    },
    {
     "name": "stdout",
     "output_type": "stream",
     "text": [
      "[CV]  algorithm=adam, hidden_layer_sizes=(50,), activation=logistic, power_t=0.001, alpha=0.1, learning_rate=adaptive, score=0.000000 -   1.7s\n"
     ]
    },
    {
     "name": "stderr",
     "output_type": "stream",
     "text": [
      "/home/teo/Repositories/scikit-learn/sklearn/metrics/classification.py:1097: UndefinedMetricWarning: F-score is ill-defined and being set to 0.0 due to no predicted samples.\n",
      "  'precision', 'predicted', average, warn_for)\n"
     ]
    },
    {
     "name": "stdout",
     "output_type": "stream",
     "text": [
      "[CV]  algorithm=adam, hidden_layer_sizes=(50,), activation=logistic, power_t=0.001, alpha=0.1, learning_rate=adaptive, score=0.000000 -   2.1s\n"
     ]
    },
    {
     "name": "stderr",
     "output_type": "stream",
     "text": [
      "/home/teo/Repositories/scikit-learn/sklearn/metrics/classification.py:1097: UndefinedMetricWarning: F-score is ill-defined and being set to 0.0 due to no predicted samples.\n",
      "  'precision', 'predicted', average, warn_for)\n"
     ]
    },
    {
     "name": "stdout",
     "output_type": "stream",
     "text": [
      "[CV]  algorithm=adam, hidden_layer_sizes=(50,), activation=logistic, power_t=0.001, alpha=0.1, learning_rate=adaptive, score=0.000000 -   1.9s\n"
     ]
    },
    {
     "ename": "KeyboardInterrupt",
     "evalue": "",
     "output_type": "error",
     "traceback": [
      "\u001b[1;31m---------------------------------------------------------------------------\u001b[0m",
      "\u001b[1;31mKeyboardInterrupt\u001b[0m                         Traceback (most recent call last)",
      "\u001b[1;32m<ipython-input-35-3491f77d2a02>\u001b[0m in \u001b[0;36m<module>\u001b[1;34m()\u001b[0m\n\u001b[0;32m     16\u001b[0m verbose=3, pre_dispatch='2*n_jobs', error_score='raise')\n\u001b[0;32m     17\u001b[0m \u001b[1;33m\u001b[0m\u001b[0m\n\u001b[1;32m---> 18\u001b[1;33m \u001b[0mclf\u001b[0m\u001b[1;33m.\u001b[0m\u001b[0mfit\u001b[0m\u001b[1;33m(\u001b[0m\u001b[0mX_train\u001b[0m\u001b[1;33m,\u001b[0m\u001b[0my_train\u001b[0m\u001b[1;33m)\u001b[0m\u001b[1;33m\u001b[0m\u001b[0m\n\u001b[0m\u001b[0;32m     19\u001b[0m \u001b[1;33m\u001b[0m\u001b[0m\n\u001b[0;32m     20\u001b[0m \u001b[0mpredicted_proba\u001b[0m \u001b[1;33m=\u001b[0m \u001b[0mpd\u001b[0m\u001b[1;33m.\u001b[0m\u001b[0mDataFrame\u001b[0m\u001b[1;33m(\u001b[0m\u001b[1;33m)\u001b[0m\u001b[1;33m\u001b[0m\u001b[0m\n",
      "\u001b[1;32m/home/teo/Repositories/scikit-learn/sklearn/grid_search.pyc\u001b[0m in \u001b[0;36mfit\u001b[1;34m(self, X, y)\u001b[0m\n\u001b[0;32m    809\u001b[0m \u001b[1;33m\u001b[0m\u001b[0m\n\u001b[0;32m    810\u001b[0m         \"\"\"\n\u001b[1;32m--> 811\u001b[1;33m         \u001b[1;32mreturn\u001b[0m \u001b[0mself\u001b[0m\u001b[1;33m.\u001b[0m\u001b[0m_fit\u001b[0m\u001b[1;33m(\u001b[0m\u001b[0mX\u001b[0m\u001b[1;33m,\u001b[0m \u001b[0my\u001b[0m\u001b[1;33m,\u001b[0m \u001b[0mParameterGrid\u001b[0m\u001b[1;33m(\u001b[0m\u001b[0mself\u001b[0m\u001b[1;33m.\u001b[0m\u001b[0mparam_grid\u001b[0m\u001b[1;33m)\u001b[0m\u001b[1;33m)\u001b[0m\u001b[1;33m\u001b[0m\u001b[0m\n\u001b[0m\u001b[0;32m    812\u001b[0m \u001b[1;33m\u001b[0m\u001b[0m\n\u001b[0;32m    813\u001b[0m \u001b[1;33m\u001b[0m\u001b[0m\n",
      "\u001b[1;32m/home/teo/Repositories/scikit-learn/sklearn/grid_search.pyc\u001b[0m in \u001b[0;36m_fit\u001b[1;34m(self, X, y, parameter_iterable)\u001b[0m\n\u001b[0;32m    558\u001b[0m                                     \u001b[0mself\u001b[0m\u001b[1;33m.\u001b[0m\u001b[0mfit_params\u001b[0m\u001b[1;33m,\u001b[0m \u001b[0mreturn_parameters\u001b[0m\u001b[1;33m=\u001b[0m\u001b[0mTrue\u001b[0m\u001b[1;33m,\u001b[0m\u001b[1;33m\u001b[0m\u001b[0m\n\u001b[0;32m    559\u001b[0m                                     error_score=self.error_score)\n\u001b[1;32m--> 560\u001b[1;33m                 \u001b[1;32mfor\u001b[0m \u001b[0mparameters\u001b[0m \u001b[1;32min\u001b[0m \u001b[0mparameter_iterable\u001b[0m\u001b[1;33m\u001b[0m\u001b[0m\n\u001b[0m\u001b[0;32m    561\u001b[0m                 for train, test in cv)\n\u001b[0;32m    562\u001b[0m \u001b[1;33m\u001b[0m\u001b[0m\n",
      "\u001b[1;32m/home/teo/Repositories/scikit-learn/sklearn/externals/joblib/parallel.pyc\u001b[0m in \u001b[0;36m__call__\u001b[1;34m(self, iterable)\u001b[0m\n\u001b[0;32m    808\u001b[0m                 \u001b[1;31m# consumption.\u001b[0m\u001b[1;33m\u001b[0m\u001b[1;33m\u001b[0m\u001b[0m\n\u001b[0;32m    809\u001b[0m                 \u001b[0mself\u001b[0m\u001b[1;33m.\u001b[0m\u001b[0m_iterating\u001b[0m \u001b[1;33m=\u001b[0m \u001b[0mFalse\u001b[0m\u001b[1;33m\u001b[0m\u001b[0m\n\u001b[1;32m--> 810\u001b[1;33m             \u001b[0mself\u001b[0m\u001b[1;33m.\u001b[0m\u001b[0mretrieve\u001b[0m\u001b[1;33m(\u001b[0m\u001b[1;33m)\u001b[0m\u001b[1;33m\u001b[0m\u001b[0m\n\u001b[0m\u001b[0;32m    811\u001b[0m             \u001b[1;31m# Make sure that we get a last message telling us we are done\u001b[0m\u001b[1;33m\u001b[0m\u001b[1;33m\u001b[0m\u001b[0m\n\u001b[0;32m    812\u001b[0m             \u001b[0melapsed_time\u001b[0m \u001b[1;33m=\u001b[0m \u001b[0mtime\u001b[0m\u001b[1;33m.\u001b[0m\u001b[0mtime\u001b[0m\u001b[1;33m(\u001b[0m\u001b[1;33m)\u001b[0m \u001b[1;33m-\u001b[0m \u001b[0mself\u001b[0m\u001b[1;33m.\u001b[0m\u001b[0m_start_time\u001b[0m\u001b[1;33m\u001b[0m\u001b[0m\n",
      "\u001b[1;32m/home/teo/Repositories/scikit-learn/sklearn/externals/joblib/parallel.pyc\u001b[0m in \u001b[0;36mretrieve\u001b[1;34m(self)\u001b[0m\n\u001b[0;32m    755\u001b[0m                     \u001b[1;31m# a working pool as they expect.\u001b[0m\u001b[1;33m\u001b[0m\u001b[1;33m\u001b[0m\u001b[0m\n\u001b[0;32m    756\u001b[0m                     \u001b[0mself\u001b[0m\u001b[1;33m.\u001b[0m\u001b[0m_initialize_pool\u001b[0m\u001b[1;33m(\u001b[0m\u001b[1;33m)\u001b[0m\u001b[1;33m\u001b[0m\u001b[0m\n\u001b[1;32m--> 757\u001b[1;33m                 \u001b[1;32mraise\u001b[0m \u001b[0mexception\u001b[0m\u001b[1;33m\u001b[0m\u001b[0m\n\u001b[0m\u001b[0;32m    758\u001b[0m \u001b[1;33m\u001b[0m\u001b[0m\n\u001b[0;32m    759\u001b[0m     \u001b[1;32mdef\u001b[0m \u001b[0m__call__\u001b[0m\u001b[1;33m(\u001b[0m\u001b[0mself\u001b[0m\u001b[1;33m,\u001b[0m \u001b[0miterable\u001b[0m\u001b[1;33m)\u001b[0m\u001b[1;33m:\u001b[0m\u001b[1;33m\u001b[0m\u001b[0m\n",
      "\u001b[1;31mKeyboardInterrupt\u001b[0m: "
     ]
    }
   ],
   "source": [
    "start_time = time.time()\n",
    "\n",
    "X_train,X_test,y_train ,y_test = train_test_split(X,y, test_size=0.2, random_state=42)\n",
    "\n",
    "param_grid = { 'alpha': [1e-1,5*1e-2,1e-2],\n",
    "              'hidden_layer_sizes':[(50,),(15,5)],\n",
    "              'learning_rate': ['adaptive',\"invscaling\"],\n",
    "              \"algorithm\": ['adam'],'momentum': [1e-2, 1e-1, 0.5],\n",
    "  'power_t': [1e-3, 5*1e-4, 1e-5], 'activation':['logistic','relu']\n",
    " }\n",
    "\n",
    "mlp = MLPClassifier(shuffle=True, \n",
    "                 verbose=True)\n",
    "\n",
    "clf =GridSearchCV(mlp, param_grid, scoring='roc_auc', fit_params=None, n_jobs=4, iid=True, refit=True, \n",
    "verbose=3, pre_dispatch='2*n_jobs', error_score='raise')\n",
    "\n",
    "clf.fit(X_train,y_train)\n",
    "\n",
    "predicted_proba = pd.DataFrame()\n",
    "predicted_proba['prob'] = clf.predict_proba(X_test).max(axis=1)\n",
    "predicted_proba['gt'] = y_test\n",
    "predicted_proba['class'] = clf.predict(X_test)\n",
    "\n",
    "threshold = 0.7\n",
    "ind = predicted_proba['prob']>threshold\n",
    "\n",
    "all_time =   time.time() - start_time\n",
    "\n",
    "print(classification_report(predicted_proba.loc[ind,'gt'].values,predicted_proba.loc[ind,'class'].values ))\n",
    "\n",
    "cv_result = pd.DataFrame(columns=['mean_score' ] + [key for key, value in clf.grid_scores_[0].parameters.items() ] )\n",
    "i=0\n",
    "for setup in clf.grid_scores_:\n",
    "    row = [clf.grid_scores_[i].mean_validation_score ] + [value for key, value in clf.grid_scores_[i].parameters.items() ]\n",
    "    cv_result.loc[i] = row\n",
    "    i+=1\n",
    "#este flag es basicamente para chequear que hayamos terminado nomas\n",
    "finished = True"
   ]
  },
  {
   "cell_type": "code",
   "execution_count": 1,
   "metadata": {
    "collapsed": true
   },
   "outputs": [
    {
     "ename": "NameError",
     "evalue": "name 'clf' is not defined",
     "output_type": "error",
     "traceback": [
      "\u001b[0;31m---------------------------------------------------------------------------\u001b[0m",
      "\u001b[0;31mNameError\u001b[0m                                 Traceback (most recent call last)",
      "\u001b[0;32m<ipython-input-1-2d39bdb4c6dd>\u001b[0m in \u001b[0;36m<module>\u001b[0;34m()\u001b[0m\n\u001b[0;32m----> 1\u001b[0;31m \u001b[0mclf\u001b[0m\u001b[0;34m.\u001b[0m\u001b[0mbest_estimator_\u001b[0m\u001b[0;34m\u001b[0m\u001b[0m\n\u001b[0m",
      "\u001b[0;31mNameError\u001b[0m: name 'clf' is not defined"
     ]
    }
   ],
   "source": [
    "clf.best_estimator_"
   ]
  },
  {
   "cell_type": "code",
   "execution_count": 52,
   "metadata": {},
   "outputs": [
    {
     "data": {
      "text/plain": [
       "alpha\n",
       "0.00     0.000007\n",
       "0.01     0.000007\n",
       "0.10     0.000007\n",
       "0.50     0.000007\n",
       "1.00     0.000007\n",
       "10.00    0.000007\n",
       "Name: mean_score, dtype: float64"
      ]
     },
     "execution_count": 52,
     "metadata": {},
     "output_type": "execute_result"
    }
   ],
   "source": [
    "# compare best parameters to tune\n",
    "coln=1\n",
    "cv_result.groupby(cv_result.columns[coln])['mean_score'].mean()\n",
    "cv_result.groupby(cv_result.columns[coln])['mean_score'].std()"
   ]
  },
  {
   "cell_type": "markdown",
   "metadata": {
    "collapsed": true
   },
   "source": [
    "### Results\n",
    "* activation = logistic es 10% mejor\n",
    "* alpha = 1e-2 el mejor \n",
    "* power_t = cuanto mas chico mejor, 1e-3 por lo menos\n",
    "* hidden_layer_size = menos layers es mejor..?\n",
    "* power_t = parecen ser practicamente iguales\n",
    "* n_iter = cuanto mas iter NO mejora el score"
   ]
  },
  {
   "cell_type": "code",
   "execution_count": null,
   "metadata": {
    "collapsed": true
   },
   "outputs": [],
   "source": []
  },
  {
   "cell_type": "code",
   "execution_count": null,
   "metadata": {
    "collapsed": true
   },
   "outputs": [],
   "source": []
  },
  {
   "cell_type": "markdown",
   "metadata": {},
   "source": [
    "## Bernoulli RBM features selection & Logit crossval"
   ]
  },
  {
   "cell_type": "code",
   "execution_count": 127,
   "metadata": {
    "scrolled": true
   },
   "outputs": [
    {
     "ename": "KeyboardInterrupt",
     "evalue": "",
     "output_type": "error",
     "traceback": [
      "\u001b[1;31m---------------------------------------------------------------------------\u001b[0m",
      "\u001b[1;31mKeyboardInterrupt\u001b[0m                         Traceback (most recent call last)",
      "\u001b[1;32m<ipython-input-127-8675e4c7d9ab>\u001b[0m in \u001b[0;36m<module>\u001b[1;34m()\u001b[0m\n\u001b[0;32m     39\u001b[0m verbose=0, pre_dispatch='2*n_jobs', error_score='raise')\n\u001b[0;32m     40\u001b[0m \u001b[1;33m\u001b[0m\u001b[0m\n\u001b[1;32m---> 41\u001b[1;33m \u001b[0mclf\u001b[0m\u001b[1;33m.\u001b[0m\u001b[0mfit\u001b[0m\u001b[1;33m(\u001b[0m\u001b[0mX_train\u001b[0m\u001b[1;33m,\u001b[0m\u001b[0my_train\u001b[0m\u001b[1;33m)\u001b[0m\u001b[1;33m\u001b[0m\u001b[0m\n\u001b[0m\u001b[0;32m     42\u001b[0m \u001b[1;33m\u001b[0m\u001b[0m\n\u001b[0;32m     43\u001b[0m \u001b[1;31m#este metodo NO tiene predicted proba, lo que hacemos es recorrer\u001b[0m\u001b[1;33m\u001b[0m\u001b[1;33m\u001b[0m\u001b[0m\n",
      "\u001b[1;32m/home/teo/Repositories/scikit-learn/sklearn/grid_search.pyc\u001b[0m in \u001b[0;36mfit\u001b[1;34m(self, X, y)\u001b[0m\n\u001b[0;32m    809\u001b[0m \u001b[1;33m\u001b[0m\u001b[0m\n\u001b[0;32m    810\u001b[0m         \"\"\"\n\u001b[1;32m--> 811\u001b[1;33m         \u001b[1;32mreturn\u001b[0m \u001b[0mself\u001b[0m\u001b[1;33m.\u001b[0m\u001b[0m_fit\u001b[0m\u001b[1;33m(\u001b[0m\u001b[0mX\u001b[0m\u001b[1;33m,\u001b[0m \u001b[0my\u001b[0m\u001b[1;33m,\u001b[0m \u001b[0mParameterGrid\u001b[0m\u001b[1;33m(\u001b[0m\u001b[0mself\u001b[0m\u001b[1;33m.\u001b[0m\u001b[0mparam_grid\u001b[0m\u001b[1;33m)\u001b[0m\u001b[1;33m)\u001b[0m\u001b[1;33m\u001b[0m\u001b[0m\n\u001b[0m\u001b[0;32m    812\u001b[0m \u001b[1;33m\u001b[0m\u001b[0m\n\u001b[0;32m    813\u001b[0m \u001b[1;33m\u001b[0m\u001b[0m\n",
      "\u001b[1;32m/home/teo/Repositories/scikit-learn/sklearn/grid_search.pyc\u001b[0m in \u001b[0;36m_fit\u001b[1;34m(self, X, y, parameter_iterable)\u001b[0m\n\u001b[0;32m    558\u001b[0m                                     \u001b[0mself\u001b[0m\u001b[1;33m.\u001b[0m\u001b[0mfit_params\u001b[0m\u001b[1;33m,\u001b[0m \u001b[0mreturn_parameters\u001b[0m\u001b[1;33m=\u001b[0m\u001b[0mTrue\u001b[0m\u001b[1;33m,\u001b[0m\u001b[1;33m\u001b[0m\u001b[0m\n\u001b[0;32m    559\u001b[0m                                     error_score=self.error_score)\n\u001b[1;32m--> 560\u001b[1;33m                 \u001b[1;32mfor\u001b[0m \u001b[0mparameters\u001b[0m \u001b[1;32min\u001b[0m \u001b[0mparameter_iterable\u001b[0m\u001b[1;33m\u001b[0m\u001b[0m\n\u001b[0m\u001b[0;32m    561\u001b[0m                 for train, test in cv)\n\u001b[0;32m    562\u001b[0m \u001b[1;33m\u001b[0m\u001b[0m\n",
      "\u001b[1;32m/home/teo/Repositories/scikit-learn/sklearn/externals/joblib/parallel.pyc\u001b[0m in \u001b[0;36m__call__\u001b[1;34m(self, iterable)\u001b[0m\n\u001b[0;32m    808\u001b[0m                 \u001b[1;31m# consumption.\u001b[0m\u001b[1;33m\u001b[0m\u001b[1;33m\u001b[0m\u001b[0m\n\u001b[0;32m    809\u001b[0m                 \u001b[0mself\u001b[0m\u001b[1;33m.\u001b[0m\u001b[0m_iterating\u001b[0m \u001b[1;33m=\u001b[0m \u001b[0mFalse\u001b[0m\u001b[1;33m\u001b[0m\u001b[0m\n\u001b[1;32m--> 810\u001b[1;33m             \u001b[0mself\u001b[0m\u001b[1;33m.\u001b[0m\u001b[0mretrieve\u001b[0m\u001b[1;33m(\u001b[0m\u001b[1;33m)\u001b[0m\u001b[1;33m\u001b[0m\u001b[0m\n\u001b[0m\u001b[0;32m    811\u001b[0m             \u001b[1;31m# Make sure that we get a last message telling us we are done\u001b[0m\u001b[1;33m\u001b[0m\u001b[1;33m\u001b[0m\u001b[0m\n\u001b[0;32m    812\u001b[0m             \u001b[0melapsed_time\u001b[0m \u001b[1;33m=\u001b[0m \u001b[0mtime\u001b[0m\u001b[1;33m.\u001b[0m\u001b[0mtime\u001b[0m\u001b[1;33m(\u001b[0m\u001b[1;33m)\u001b[0m \u001b[1;33m-\u001b[0m \u001b[0mself\u001b[0m\u001b[1;33m.\u001b[0m\u001b[0m_start_time\u001b[0m\u001b[1;33m\u001b[0m\u001b[0m\n",
      "\u001b[1;32m/home/teo/Repositories/scikit-learn/sklearn/externals/joblib/parallel.pyc\u001b[0m in \u001b[0;36mretrieve\u001b[1;34m(self)\u001b[0m\n\u001b[0;32m    755\u001b[0m                     \u001b[1;31m# a working pool as they expect.\u001b[0m\u001b[1;33m\u001b[0m\u001b[1;33m\u001b[0m\u001b[0m\n\u001b[0;32m    756\u001b[0m                     \u001b[0mself\u001b[0m\u001b[1;33m.\u001b[0m\u001b[0m_initialize_pool\u001b[0m\u001b[1;33m(\u001b[0m\u001b[1;33m)\u001b[0m\u001b[1;33m\u001b[0m\u001b[0m\n\u001b[1;32m--> 757\u001b[1;33m                 \u001b[1;32mraise\u001b[0m \u001b[0mexception\u001b[0m\u001b[1;33m\u001b[0m\u001b[0m\n\u001b[0m\u001b[0;32m    758\u001b[0m \u001b[1;33m\u001b[0m\u001b[0m\n\u001b[0;32m    759\u001b[0m     \u001b[1;32mdef\u001b[0m \u001b[0m__call__\u001b[0m\u001b[1;33m(\u001b[0m\u001b[0mself\u001b[0m\u001b[1;33m,\u001b[0m \u001b[0miterable\u001b[0m\u001b[1;33m)\u001b[0m\u001b[1;33m:\u001b[0m\u001b[1;33m\u001b[0m\u001b[0m\n",
      "\u001b[1;31mKeyboardInterrupt\u001b[0m: "
     ]
    }
   ],
   "source": [
    "start_time = time.time()\n",
    "\n",
    "## obs. este metodo es especial y asume que todos los valores son True/False o que \\in [0,1]\n",
    "# luego tengo que pensar en como tomar los features nuevamente.\n",
    "# tampoco 'fittea' en la forma tradicional. Sino que se le puede tomar al y como un feature mas y esta red\n",
    "# va 'modificando' todos los valores del X (minimizando la entropia) para dar un output. Luego corriendo \n",
    "# clf.gibbs(X_test) con el y_test como feature tmb, nos transforma la data para ver el output como la 'prediccion'\n",
    "# obviamente no tiene probabilidades\n",
    "\n",
    "\n",
    "#X = X_train[X_cols].values\n",
    "#y = X_train['ground_truth'].values\n",
    "\n",
    "df = X_train.drop(X_train[X_train[X_train.columns[0:3]].\\\n",
    "                                   sum(axis=1)==0].index)\n",
    "df = df[X_cols + ['ground_truth']]\n",
    "\n",
    "for col in X_train.columns[0:3]:\n",
    "    df[col] = df[col]*1.0/df[df.columns[0:3]].sum(axis=1)\n",
    "\n",
    "df[df.columns[3]] =  df[df.columns[3]]/df[df.columns[3]].max()\n",
    "df[df.columns[4]] =  df[df.columns[4]]/df[df.columns[4]].max()\n",
    "\n",
    "X = df[df.columns[:-1]].values\n",
    "y = df['ground_truth'].values\n",
    "\n",
    "\n",
    "param_grid = {'rbm__n_components': [256, 128,46,10],\n",
    "   'rbm__n_iter':[15,10,5], 'rbm__learning_rate': [1e-4,1e-3,1e-2,1e-1,5*1e-3,5*1e-2,5*1e-1],\n",
    "  'rbm__batch_size': [10e4,3*10e3, 1e3, 300],\"logistic__C\": [1.0, 10.0, 100.0] \n",
    " }\n",
    "\n",
    "rbm = BernoulliRBM(verbose=True)\n",
    "logistic = LogisticRegression()\n",
    "classifier = Pipeline([(\"rbm\", rbm), (\"logistic\", logistic)])\n",
    "\n",
    "X_train,X_test,y_train ,y_test = train_test_split(X,y, test_size=0.2, random_state=42)\n",
    "\n",
    "clf =GridSearchCV(classifier, param_grid, scoring='roc_auc', fit_params=None, n_jobs=4, iid=True, refit=True, \n",
    "verbose=3, pre_dispatch='2*n_jobs', error_score='raise')\n",
    "\n",
    "clf.fit(X_train,y_train)\n",
    "\n",
    "#este metodo NO tiene predicted proba, lo que hacemos es recorrer \n",
    "#predicted_labels = rbm.gibbs(X_test)[:,-1]\n",
    "#real_labels = X_test[:,-1]\n",
    "#print(classification_report(real_labels,predicted_labels ))\n",
    "\n",
    "\n",
    "predicted_proba = pd.DataFrame()\n",
    "predicted_proba['prob'] = clf.predict_proba(X_test).max(axis=1)\n",
    "predicted_proba['gt'] = y_test\n",
    "predicted_proba['class'] = clf.predict(X_test)\n",
    "\n",
    "threshold = 0.7\n",
    "ind = predicted_proba['prob']>threshold\n",
    "print(classification_report(predicted_proba.loc[ind,'gt'].values,predicted_proba.loc[ind,'class'].values ))\n",
    "all_time =   time.time() - start_time\n",
    "\n",
    "finished = True\n",
    "\n",
    "cv_result = pd.DataFrame(columns=['mean_score' ] + [key for key, value in clf.grid_scores_[0].parameters.items() ] )\n",
    "i=0\n",
    "for setup in clf.grid_scores_:\n",
    "    row = [clf.grid_scores_[i].mean_validation_score ] + [value for key, value in clf.grid_scores_[i].parameters.items() ]\n",
    "    cv_result.loc[i] = row\n",
    "    i+=1\n",
    "    \n",
    "print('This cell took %s seconds to run' % all_time)\n"
   ]
  },
  {
   "cell_type": "code",
   "execution_count": null,
   "metadata": {
    "collapsed": true
   },
   "outputs": [],
   "source": [
    "coln=1\n",
    "print(cv_result.groupby(cv_result.columns[coln])['mean_score'].mean())\n",
    "print(cv_result.groupby(cv_result.columns[coln])['mean_score'].std())"
   ]
  },
  {
   "cell_type": "code",
   "execution_count": 23,
   "metadata": {
    "collapsed": true
   },
   "outputs": [
    {
     "name": "stdout",
     "output_type": "stream",
     "text": [
      "criterion\n",
      "gini    0.802919\n",
      "Name: mean_score, dtype: float64\n",
      "criterion\n",
      "gini    0.000598\n",
      "Name: mean_score, dtype: float64\n"
     ]
    }
   ],
   "source": [
    "coln=3\n",
    "print(cv_result.groupby(cv_result.columns[coln])['mean_score'].mean())\n",
    "print(cv_result.groupby(cv_result.columns[coln])['mean_score'].std())\n"
   ]
  },
  {
   "cell_type": "code",
   "execution_count": null,
   "metadata": {
    "collapsed": true
   },
   "outputs": [],
   "source": []
  },
  {
   "cell_type": "markdown",
   "metadata": {},
   "source": [
    "## CrossV SVC"
   ]
  },
  {
   "cell_type": "code",
   "execution_count": null,
   "metadata": {
    "collapsed": true
   },
   "outputs": [],
   "source": [
    "start_time = time.time()\n",
    "\n",
    "param_grid = [{'kernel': ['rbf'], 'gamma': list(10.0 ** np.arange(-2, 3)),\n",
    "                     'C': list(10.0 ** np.arange(0, 4))},\n",
    "                    {'kernel': ['poly'], 'C': list(10.0 ** np.arange(0, 4)), 'degree'[2,3,4]}]\n",
    "\n",
    "svc = SVC(shuffle=True, probability=True,decision_function_shape = 'ovr',\n",
    "           verbose=True, class_weight='balanced'\n",
    "          )\n",
    "\n",
    "clf =GridSearchCV(svc, param_grid, scoring='roc_auc', fit_params=None, n_jobs=4, iid=True, refit=True, \n",
    "verbose=3, pre_dispatch='2*n_jobs', error_score='raise')\n",
    "\n",
    "clf.fit(X_train,y_train)\n",
    "\n",
    "predicted_proba = pd.DataFrame()\n",
    "predicted_proba['prob'] = clf.predict_proba(X_test).max(axis=1)\n",
    "predicted_proba['gt'] = y_test\n",
    "predicted_proba['class'] = clf.predict(X_test)\n",
    "\n",
    "threshold = 0.7\n",
    "ind = predicted_proba['prob']>threshold\n",
    "\n",
    "all_time =   time.time() - start_time\n",
    "\n",
    "print(classification_report(predicted_proba.loc[ind,'gt'].values,predicted_proba.loc[ind,'class'].values ))\n",
    "\n",
    "cv_result = pd.DataFrame(columns=['mean_score' ] + [key for key, value in clf.grid_scores_[0].parameters.items() ] )\n",
    "i=0\n",
    "for setup in clf.grid_scores_:\n",
    "    row = [clf.grid_scores_[i].mean_validation_score ] + [value for key, value in clf.grid_scores_[i].parameters.items() ]\n",
    "    cv_result.loc[i] = row\n",
    "    i+=1\n",
    "#este flag es basicamente para chequear que hayamos terminado nomas\n",
    "finished = True"
   ]
  },
  {
   "cell_type": "code",
   "execution_count": null,
   "metadata": {
    "collapsed": true
   },
   "outputs": [],
   "source": [
    "coln=3\n",
    "print(cv_result.groupby(cv_result.columns[coln])['mean_score'].mean())\n",
    "print(cv_result.groupby(cv_result.columns[coln])['mean_score'].std())\n"
   ]
  },
  {
   "cell_type": "code",
   "execution_count": 214,
   "metadata": {
    "scrolled": true
   },
   "outputs": [
    {
     "name": "stdout",
     "output_type": "stream",
     "text": [
      "GradientBoosting took 117.26272392272949 seconds to run\n",
      "This cell took 117.26284193992615 seconds to run\n"
     ]
    }
   ],
   "source": [
    "#tomo tiempo para saber cuanto tarda fitear el estimador\n",
    "start_time = time.time()\n",
    "\n",
    "#model = model.fit(X,y,sample_weight=W)\n",
    "\n",
    "W = np.array([10 if i == 1 or i ==2  else 1 for i in y_mini])\n",
    "gradboost.fit(X_mini,y_mini, sample_weight=W)\n",
    "\n",
    "elapsed_time =   time.time() - start_time\n",
    "print('GradientBoosting took %s seconds to run' % elapsed_time)\n",
    "\n",
    "#validated =  cross_val_score(gradboost,X,y,cv=5, scoring = \"f1_weighted\")\n",
    "\n",
    "\n",
    "all_time =   time.time() - start_time\n",
    "print('This cell took %s seconds to run' % all_time)"
   ]
  },
  {
   "cell_type": "markdown",
   "metadata": {},
   "source": [
    "## Timings\n",
    "* 5s con  10 n_estimadores, 15 max_depth y X.sample(0.2)\n",
    "* 15s con 10 n_estimadores, 15 max_depth y X.sample(0.2)\n",
    "* 47s con 10 n_estimadores, 15 max_depth y X.sample(0.4)\n",
    "* 35s con 10 n_estimadores, 15 max_depth y X.sample(0.4)\n",
    "* 117 con 20 n_estimadores, 20 max_depth y X.sample(0.4)"
   ]
  },
  {
   "cell_type": "code",
   "execution_count": 31,
   "metadata": {},
   "outputs": [
    {
     "data": {
      "text/plain": [
       "0    128153\n",
       "1      7064\n",
       "Name: ground_truth, dtype: int64"
      ]
     },
     "execution_count": 31,
     "metadata": {},
     "output_type": "execute_result"
    }
   ],
   "source": [
    "X_train['ground_truth'].value_counts()"
   ]
  },
  {
   "cell_type": "code",
   "execution_count": null,
   "metadata": {
    "collapsed": true
   },
   "outputs": [],
   "source": []
  },
  {
   "cell_type": "markdown",
   "metadata": {},
   "source": [
    "### Results\n",
    "* NO escalar (normalizar, restar la media  dividir por la std, etc) los resultados pues REVIENTAN los scores.\n",
    "* bootstrap  = False es 5% mejor\n",
    "* min_samples_leaf = mas chico es claramente mejor, pero tmb aumenta el overfitting lo cual me hace caer mucho el valor del recall en el test_set. Sin embargo es un parametro muy sensible en la precision. Resta evaluar asi el tradeoff entre la precision y el volumen de users al cual queremos llegar.\n",
    "* n_estimators = aumentar mas de 30 no tendria mucho sentido\n",
    "* citerion = entropy o gini no cambia. gini podria ser mejor entonces pues entropy usa logs de los valores lo cual es mas computacionalmente costoso\n",
    "* max_features = no afecta al score. con auto esta bien\n",
    "* max_depth =  mas es mejor. intentaria probar con >15"
   ]
  },
  {
   "cell_type": "code",
   "execution_count": null,
   "metadata": {
    "collapsed": true
   },
   "outputs": [],
   "source": []
  },
  {
   "cell_type": "code",
   "execution_count": null,
   "metadata": {
    "collapsed": true
   },
   "outputs": [],
   "source": [
    "%%time\n",
    "#con decomposicion qr tratamos de ver si existe alguna columna que sea comb linear de las demas\n",
    "linear_test = np.linalg.qr(X_train.sample(1e6))[1]\n",
    "#notar que devuelve la tabla de tamanyo N`columnas x Ncolumnas\n",
    "\n",
    "#sumo a traves de las columnas para que me de el valor absoluto sumado de c/fila\n",
    "linear_test = abs(linear_test.sum(axis=1))<1e-2\n",
    "#si hubiese alguan que sea linearcomb entonces tendria que aparecer que toda la fila es de ceros\n",
    "for i, col in enumerate(X_train.columns):\n",
    "    if linear_test[i] == True:\n",
    "        print(col)"
   ]
  },
  {
   "cell_type": "code",
   "execution_count": null,
   "metadata": {
    "collapsed": true
   },
   "outputs": [],
   "source": []
  },
  {
   "cell_type": "code",
   "execution_count": null,
   "metadata": {
    "collapsed": true
   },
   "outputs": [],
   "source": []
  },
  {
   "cell_type": "markdown",
   "metadata": {
    "collapsed": true
   },
   "source": [
    "# Todo\n",
    "* evaluate hit_rate and \n",
    "* tune adaboost, bernoulliRBM\n",
    "* xgboost\n",
    "* libffm\n",
    "* SVC muy lento.. speed up in AWS\n"
   ]
  }
 ],
 "metadata": {
  "kernelspec": {
   "display_name": "Python 2",
   "language": "python",
   "name": "python2"
  },
  "language_info": {
   "codemirror_mode": {
    "name": "ipython",
    "version": 2
   },
   "file_extension": ".py",
   "mimetype": "text/x-python",
   "name": "python",
   "nbconvert_exporter": "python",
   "pygments_lexer": "ipython2",
   "version": "2.7.3"
  }
 },
 "nbformat": 4,
 "nbformat_minor": 1
}
