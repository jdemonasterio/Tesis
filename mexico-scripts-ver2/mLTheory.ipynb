{
 "cells": [
  {
   "cell_type": "markdown",
   "metadata": {},
   "source": [
    "# Ipynb to \n",
    "\n",
    "graph and try out different \n",
    "\n",
    "ML concepts with a sample datasize.\n"
   ]
  },
  {
   "cell_type": "markdown",
   "metadata": {},
   "source": [
    "A partir de las 3 tablas ya procesdas : \n",
    "* homeantennas\n",
    "* sumlinks\n",
    "* groundtruth\n",
    "\n",
    "armames un datset para explorar conceptos de ML"
   ]
  },
  {
   "cell_type": "code",
   "execution_count": 1,
   "metadata": {},
   "outputs": [
    {
     "data": {
      "application/javascript": [
       "IPython.notebook.set_autosave_interval(180000)"
      ]
     },
     "metadata": {},
     "output_type": "display_data"
    },
    {
     "name": "stdout",
     "output_type": "stream",
     "text": [
      "Autosaving every 180 seconds\n"
     ]
    }
   ],
   "source": [
    "## seteamos los parametros del notebook\n",
    "%autosave 180\n",
    "import pandas as pd; \n",
    "import numpy as np; \n",
    "import os;\n",
    "import random;\n",
    "import time\n",
    "import matplotlib.pyplot as plt\n",
    "%matplotlib inline\n",
    "import numpy as np; import os;import random;\n",
    "import graphlab as gl\n",
    "from IPython.display import display # para pretty-print con estetica ipython si es que estamos dentro de  un loop, if, etc\n",
    "#esto es para dibujar directo a la notebook\n",
    "gl.canvas.set_target('ipynb')\n",
    "\n",
    "#seteamos el lugar de trabajo\n",
    "HOMEDIR=os.path.expanduser('~')\n",
    "\n",
    "PROJECTDIR = os.getcwd().split(os.sep)\n",
    "PROJECTDIR =  os.sep.join(PROJECTDIR[:PROJECTDIR.index('mexico-scripts-ver2') + 1])\n",
    "\n",
    "DATADIR = os.path.join(PROJECTDIR,'datasets')\n",
    "\n",
    "DATADIR2 = os.path.join(PROJECTDIR,'data')\n",
    "# os.chdir(DATADIR)\n"
   ]
  },
  {
   "cell_type": "code",
   "execution_count": 2,
   "metadata": {},
   "outputs": [
    {
     "name": "stdout",
     "output_type": "stream",
     "text": [
      "data_balanced_sample.csv  gtruth_0215_0715  sl\r\n",
      "gtruth_0114_0715\t  homeant\t    sl.csv.gz\r\n"
     ]
    }
   ],
   "source": [
    "!ls $DATADIR"
   ]
  },
  {
   "cell_type": "code",
   "execution_count": 3,
   "metadata": {
    "collapsed": true
   },
   "outputs": [],
   "source": [
    "graphlab_frame = False\n",
    "# graphlab_frame = 'juan' in HOMEDIR\n",
    "\n",
    "def get_input_sframe(ds,graphlab_frame=graphlab_frame):\n",
    "    if graphlab_frame:\n",
    "        if ds == 'home_antenna': url = DATADIR +\"/homeant\"\n",
    "        elif ds == 'sum_links': url  = DATADIR +\"/sl\"\n",
    "        elif ds == 'gtruth_02': url  = DATADIR +\"/gtruth_0215_0715\" # can be near ground truth (previous to july 2015)\n",
    "        elif ds == 'gtruth_01': url  =  DATADIR +\"/gtruth_0114_0715\" # or can be old GT\n",
    "        else: print('type chosen is %s, type should be home_antenna, sum_links, gtruth_02 or gtruth_01' % ds)\n",
    "    else:\n",
    "        url = DATADIR + '/data_balanced_sample.csv'\n",
    "    return url "
   ]
  },
  {
   "cell_type": "code",
   "execution_count": 4,
   "metadata": {
    "collapsed": true
   },
   "outputs": [],
   "source": [
    "#from unbalanced_dataset import UnderSampler, NearMiss, CondensedNearestNeighbour, OneSidedSelection,\\\n",
    "#NeighbourhoodCleaningRule, TomekLinks, ClusterCentroids, OverSampler, SMOTE,\\\n",
    "#SMOTETomek, SMOTEENN, EasyEnsemble, BalanceCascade"
   ]
  },
  {
   "cell_type": "markdown",
   "metadata": {},
   "source": [
    "## decide if load a reduced size dataset"
   ]
  },
  {
   "cell_type": "code",
   "execution_count": 5,
   "metadata": {
    "collapsed": true
   },
   "outputs": [],
   "source": [
    "# set what is the resulting sample we want of the global dataset\n",
    "global_split = 0.25\n",
    "global_split = None\n",
    "\n",
    "# since we have 2 datets that will be later joined and which are going to be previously sampled, in the end this \n",
    "# independent sampling will result in that, after the join, the dataset will have a size of fraction given by \n",
    "# the `global_split` variable\n",
    "if global_split:\n",
    "    \n",
    "    seed = 2015\n",
    "    sample = np.sqrt(global_split)\n",
    "    print(sample)"
   ]
  },
  {
   "cell_type": "code",
   "execution_count": 6,
   "metadata": {
    "scrolled": true
   },
   "outputs": [
    {
     "name": "stdout",
     "output_type": "stream",
     "text": [
      "CPU times: user 5.68 s, sys: 452 ms, total: 6.13 s\n",
      "Wall time: 6.76 s\n"
     ]
    }
   ],
   "source": [
    "%%time\n",
    "\n",
    "if graphlab_frame:\n",
    "    sf_table, _ = gl.load_sframe(get_input_sframe('home_antenna',graphlab_frame))\n",
    "    sl_table, _ = gl.load_sframe(get_input_sframe('sum_links',graphlab_frame))\n",
    "    # no need to sample the gt table since it is very small in memory\n",
    "    gt_table = gl.load_sframe(get_input_sframe('gtruth_01',graphlab_frame))\n",
    "\n",
    "    if global_split:\n",
    "\n",
    "        sf_table, _ = sf_table.random_split(sample,seed=seed)\n",
    "        sl_table, _ = sl_table.random_split(sample,seed=seed)\n",
    "\n",
    "\n",
    "    rename_gt = (dict([(col,col+\"_gt\") for col in gt_table.column_names() if col != 'USER']))\n",
    "\n",
    "    #agrego la etiqueta \"_gt\" a las columnas del ground_truth\n",
    "    gt_table.rename(rename_gt) \n",
    "else:\n",
    "    data = pd.read_csv(get_input_sframe('sum_links',graphlab_frame))"
   ]
  },
  {
   "cell_type": "code",
   "execution_count": 7,
   "metadata": {},
   "outputs": [
    {
     "name": "stdout",
     "output_type": "stream",
     "text": [
      "(153010, 176)\n"
     ]
    }
   ],
   "source": [
    "if graphlab_frame:\n",
    "    print(sf_table.shape, sl_table.shape, gt_table.shape)\n",
    "else:\n",
    "    print(data.shape)"
   ]
  },
  {
   "cell_type": "markdown",
   "metadata": {},
   "source": [
    "## simple format description"
   ]
  },
  {
   "cell_type": "markdown",
   "metadata": {},
   "source": [
    "Aca miramos las top 10 antenas que utilizo un usuario, ordeandas de 0 a 10 segun el uso, en numero de llamados, que el user le daba a c. antenna. _0_ Seria la antenna mas utilizada y _10_ la menos utilizada. El count es la cantidad de veces que utilizo esa antenna. \n",
    "\n",
    "Cuando aparece _WEEKNIGHT_ en el nombre de la columna, es porque cumple la condicion de que los llamados fueron hechos de noche fuera del horario [8,20] y dentro de la semana laboral.\n",
    "\n",
    "Siguiendo las definiciones del trabajo de Caro, un user es _EPIDEMIC_ siii su ANTENNA_WEEKNIGHT_0 (esta es la home_antenna) pertence a la zona epidemica.\n",
    "\n",
    "El mobility_diameter es el radio de las antennas (0 si uso una sola, etc.) utilizadas por este user. Nuevamente el modificador _WEEKNIGHT_ solo aplica para antennas utilizadas en esos horarios."
   ]
  },
  {
   "cell_type": "code",
   "execution_count": 8,
   "metadata": {
    "scrolled": true
   },
   "outputs": [
    {
     "name": "stdout",
     "output_type": "stream",
     "text": [
      "Index([u'USER', u'COUNT_0', u'COUNT_1', u'COUNT_2', u'COUNT_3', u'COUNT_4',\n",
      "       u'COUNT_5', u'COUNT_6', u'COUNT_7', u'COUNT_8',\n",
      "       ...\n",
      "       u'TimeWeekDay_IN_11', u'CallsWeekEnd_IN_11', u'TimeWeekNight_IN_11',\n",
      "       u'TimeWeekEnd_IN_VUL_11', u'CallsWeekDay_IN_VUL_11',\n",
      "       u'CallsWeekNight_IN_VUL_11', u'TimeWeekDay_IN_VUL_11',\n",
      "       u'CallsWeekEnd_IN_VUL_11', u'TimeWeekNight_IN_VUL_11',\n",
      "       u'VULNERABLE_IN_11'],\n",
      "      dtype='object', length=176)\n"
     ]
    }
   ],
   "source": [
    "# column names\n",
    "if graphlab_frame:\n",
    "    print(sf_table.column_names())\n",
    "else:\n",
    "    print(data.columns)"
   ]
  },
  {
   "cell_type": "markdown",
   "metadata": {},
   "source": [
    "## sum links description\n",
    "\n",
    "La tabla sum_links tiene mas atributos y con data mas rica en informacion:\n",
    "    \n",
    "Esencialmente para c/ user miramos la cantidad de llamados y el tiempo que duraron esos llamados pero segmentando con distintos modificadores. `Time` representa la duracion del llamado y Calls el conteo de llamados.\n",
    "\n",
    "Los modficadores/ segmentaciones son:\n",
    "\n",
    "* mes en el cual estamos parados (12 == diciembre, ..., 08 == agosto)\n",
    "* OUT/IN, separa por la direccion de los llamados si salientes u entrantes.\n",
    "* _VULN_ : separa los llamados que fueron realizados hacia/desde un target_user (en una llamada hay 2 usuarios, el origin o el target) viviendo en una zona epidemica. Donde la home antena de un target_user determina su vulnerabilidad segun si es zona epidemica o no.\n",
    "* Weekend, WeekDay y WeekNight son lo que suenan. Weekend el finde, Weeknight la semana pero fuera de horario laboral y Weekday en horario laboral y de lunes a viernes.\n",
    "\n",
    "Hay solo una columna que no entra enteramente en este esquema que es VULNERABLE. Esta columna hace un conteo p/c/ usuario d cuantos target_users viven en una zona epidemica. Tambien se segmenta esta columna con los modficiadores anteriores (el mes y el out/in)."
   ]
  },
  {
   "cell_type": "code",
   "execution_count": 9,
   "metadata": {
    "collapsed": true,
    "scrolled": true
   },
   "outputs": [],
   "source": [
    "# column names\n",
    "if graphlab_frame:\n",
    "    print(sl_table.column_names())"
   ]
  },
  {
   "cell_type": "markdown",
   "metadata": {},
   "source": [
    "# Para la\n",
    "tabla gt (ground_truth) es mas simple la explicacion. Solo se busco el antenna_ID_0 (nuevamente la antenna mas utilizada) por un user"
   ]
  },
  {
   "cell_type": "code",
   "execution_count": 10,
   "metadata": {
    "collapsed": true,
    "scrolled": true
   },
   "outputs": [],
   "source": [
    "if graphlab_frame:\n",
    "    print(gt_table.head())"
   ]
  },
  {
   "cell_type": "code",
   "execution_count": null,
   "metadata": {
    "collapsed": true
   },
   "outputs": [],
   "source": []
  },
  {
   "cell_type": "markdown",
   "metadata": {},
   "source": [
    "# We need antennas metadata\n",
    "to get the epidemicity of each antenna and add that info to the dataset"
   ]
  },
  {
   "cell_type": "code",
   "execution_count": 11,
   "metadata": {},
   "outputs": [
    {
     "data": {
      "text/plain": [
       "'/home/juan/mobility-study/mexico-scripts-ver2/data'"
      ]
     },
     "execution_count": 11,
     "metadata": {},
     "output_type": "execute_result"
    }
   ],
   "source": [
    "DATADIR2"
   ]
  },
  {
   "cell_type": "code",
   "execution_count": 12,
   "metadata": {},
   "outputs": [
    {
     "data": {
      "text/plain": [
       "'/home/juan/mobility-study/mexico-scripts-ver2/datasets'"
      ]
     },
     "execution_count": 12,
     "metadata": {},
     "output_type": "execute_result"
    }
   ],
   "source": [
    "DATADIR"
   ]
  },
  {
   "cell_type": "code",
   "execution_count": 13,
   "metadata": {
    "collapsed": true,
    "scrolled": true
   },
   "outputs": [],
   "source": [
    "#agregamos al gt su info de epidemicidad\n",
    "antennas_file = DATADIR2+'/celdas_limpio.csv'\n",
    "\n",
    "if graphlab_frame:\n",
    "    antennas = gl.SFrame.read_csv(antennas_file, \n",
    "                              delimiter= \"|\", \n",
    "                usecols=['LATITUDE','LONGITUDE','CEL_ID','STATE','EPIDEMIC'],\n",
    "                column_type_hints=[float, float, str,str, bool]\n",
    "                            )\n",
    "else:\n",
    "    antennas = pd.read_csv(antennas_file,sep='|')\n"
   ]
  },
  {
   "cell_type": "code",
   "execution_count": 14,
   "metadata": {},
   "outputs": [
    {
     "name": "stdout",
     "output_type": "stream",
     "text": [
      "CPU times: user 0 ns, sys: 0 ns, total: 0 ns\n",
      "Wall time: 11.9 µs\n"
     ]
    }
   ],
   "source": [
    "%%time\n",
    "# enriquecemos la data de gt con info de epidemicidad\n",
    "if graphlab_frame:\n",
    "    # agrego tambien data de epidemicidad al simpleformat table\n",
    "    sf_table = sf_table.join(antennas['CEL_ID','EPIDEMIC','STATE'], \n",
    "                             on = {'ANTENNA_ID_WEEKNIGHT_0':'CEL_ID'},\n",
    "                             how = 'left')\n",
    "    gt_table = gt_table.join(antennas['CEL_ID','EPIDEMIC','STATE'], \n",
    "                             on = {'ANTENNA_ID_WEEKNIGHT_0_gt':'CEL_ID'},\n",
    "                             how = 'left')\n",
    "\n",
    "    gt_table.rename({'EPIDEMIC':'EPIDEMIC_gt'});"
   ]
  },
  {
   "cell_type": "code",
   "execution_count": null,
   "metadata": {
    "collapsed": true
   },
   "outputs": [],
   "source": []
  },
  {
   "cell_type": "markdown",
   "metadata": {},
   "source": [
    "# create data matrix"
   ]
  },
  {
   "cell_type": "code",
   "execution_count": 15,
   "metadata": {
    "scrolled": true
   },
   "outputs": [
    {
     "name": "stdout",
     "output_type": "stream",
     "text": [
      "(153010, 176)\n",
      "CPU times: user 0 ns, sys: 0 ns, total: 0 ns\n",
      "Wall time: 761 µs\n"
     ]
    }
   ],
   "source": [
    "%%time\n",
    "if graphlab_frame:\n",
    "    data = sl_table.join(gt_table['USER','EPIDEMIC_gt'], on = 'USER', how = 'inner')\n",
    "    data = data.join(sf_table, on = 'USER', how = 'inner')\n",
    "    #no podemos tener nulls en el target asi que dropeamos\n",
    "    data = data.dropna(columns = ['EPIDEMIC_gt'], how='any')\n",
    "    del sl_table, sf_table, gt_table\n",
    "\n",
    "print(data.shape)\n"
   ]
  },
  {
   "cell_type": "code",
   "execution_count": 16,
   "metadata": {},
   "outputs": [
    {
     "data": {
      "text/plain": [
       "(51709, 47344)"
      ]
     },
     "execution_count": 16,
     "metadata": {},
     "output_type": "execute_result"
    }
   ],
   "source": [
    "data['EPIDEMIC_gt'].sum(),data['EPIDEMIC'].sum()"
   ]
  },
  {
   "cell_type": "code",
   "execution_count": 17,
   "metadata": {
    "collapsed": true,
    "scrolled": true
   },
   "outputs": [],
   "source": [
    "# data.query('EPIDEMIC==0  ').STATE.value_counts()"
   ]
  },
  {
   "cell_type": "code",
   "execution_count": null,
   "metadata": {
    "collapsed": true
   },
   "outputs": [],
   "source": []
  },
  {
   "cell_type": "markdown",
   "metadata": {
    "collapsed": true
   },
   "source": [
    "## preparamos los datasets que no pueden tomar valores negativos o categorical vars"
   ]
  },
  {
   "cell_type": "markdown",
   "metadata": {},
   "source": [
    "# train test split as \n",
    "p% of set as validation and the resulting  as train"
   ]
  },
  {
   "cell_type": "code",
   "execution_count": 18,
   "metadata": {
    "collapsed": true
   },
   "outputs": [],
   "source": [
    "split_perc = 0.9\n",
    "mask = np.random.rand(data.shape[0])< split_perc\n",
    "\n",
    "val_set = data[mask==0]\n",
    "data = data[mask==1]\n"
   ]
  },
  {
   "cell_type": "markdown",
   "metadata": {},
   "source": [
    "## define our real X variable and Y vars\n",
    "\n",
    "exclude/include features. Decide our problem (multi-target, single_target)"
   ]
  },
  {
   "cell_type": "markdown",
   "metadata": {},
   "source": [
    "## in our  X features..\n",
    "\n",
    "determine which columns have no meaning.\n",
    "\n",
    "we are going to try different models"
   ]
  },
  {
   "cell_type": "code",
   "execution_count": 22,
   "metadata": {
    "scrolled": true
   },
   "outputs": [
    {
     "data": {
      "text/plain": [
       "['EPIDEMIC',\n",
       " 'EPIDEMIC_gt',\n",
       " 'USER',\n",
       " 'ANTENNA_ID_0',\n",
       " 'ANTENNA_ID_1',\n",
       " 'ANTENNA_ID_2',\n",
       " 'ANTENNA_ID_3',\n",
       " 'ANTENNA_ID_4',\n",
       " 'ANTENNA_ID_5',\n",
       " 'ANTENNA_ID_6',\n",
       " 'ANTENNA_ID_7',\n",
       " 'ANTENNA_ID_8',\n",
       " 'ANTENNA_ID_9',\n",
       " 'ANTENNA_ID_WEEKNIGHT_0',\n",
       " 'ANTENNA_ID_WEEKNIGHT_1',\n",
       " 'ANTENNA_ID_WEEKNIGHT_2',\n",
       " 'ANTENNA_ID_WEEKNIGHT_3',\n",
       " 'ANTENNA_ID_WEEKNIGHT_4',\n",
       " 'ANTENNA_ID_WEEKNIGHT_5',\n",
       " 'ANTENNA_ID_WEEKNIGHT_6',\n",
       " 'ANTENNA_ID_WEEKNIGHT_7',\n",
       " 'ANTENNA_ID_WEEKNIGHT_8',\n",
       " 'ANTENNA_ID_WEEKNIGHT_9']"
      ]
     },
     "execution_count": 22,
     "metadata": {},
     "output_type": "execute_result"
    }
   ],
   "source": [
    "if graphlab_frame: iterable=data.column_names()\n",
    "else: iterable=data.columns\n",
    "\n",
    "manual_exclude_cols = [     \n",
    "     'EPIDEMIC',\n",
    "      'EPIDEMIC_gt',\n",
    "#       'STATE',\n",
    "                ]\n",
    "\n",
    "comprehensive_exclude_cols = [col for col in iterable if col == 'USER' \n",
    "          or ('ANTENNA' in col) ]   \n",
    "                                \n",
    "exclude_cols = manual_exclude_cols + comprehensive_exclude_cols\n",
    "exclude_cols"
   ]
  },
  {
   "cell_type": "markdown",
   "metadata": {},
   "source": [
    "## first our Y vars\n",
    "\n",
    "define them with a set of different possible cases/problems to solve"
   ]
  },
  {
   "cell_type": "code",
   "execution_count": 23,
   "metadata": {
    "collapsed": true
   },
   "outputs": [],
   "source": [
    "case = 3\n",
    "\n",
    "## people that used to live in the endemic area\n",
    "if case ==0:\n",
    "    case_text = \"people that used to live in the endemic area\"\n",
    "    Y = data['EPIDEMIC_gt'] == 1\n",
    "    Y_val = val_set['EPIDEMIC_gt'] == 1\n",
    "\n",
    "## people that used to live in the endemic area *and* migrated\n",
    "if case ==1:\n",
    "    case_text = \"people that used to live in the endemic area *and* migrated\"\n",
    "    Y = (data['EPIDEMIC_gt'] ==1) & (data['EPIDEMIC'] ==0)\n",
    "    Y_val = (val_set['EPIDEMIC_gt'] ==1) & (val_set['EPIDEMIC'] ==0)\n",
    "    add_exclusion_cols = ['EPIDEMIC','STATE']\n",
    "\n",
    "    for col in add_exclusion_cols:\n",
    "        if not col in exclude_cols:\n",
    "            exclude_cols+=[col]\n",
    "\n",
    "## people that migrated in any direction\n",
    "if case ==2:\n",
    "    case_text = \"people that migrated in any direction\"\n",
    "    Y = data['EPIDEMIC_gt'] != data['EPIDEMIC']\n",
    "    Y_val = val_set['EPIDEMIC_gt'] != data['EPIDEMIC']\n",
    "    \n",
    "    add_exclusion_cols = []\n",
    "\n",
    "    for col in add_exclusion_cols:\n",
    "        if not col in exclude_cols:\n",
    "            exclude_cols+=[col]\n",
    "\n",
    "    \n",
    "## people that migrated in any direction\n",
    "if case ==3:\n",
    "    case_text = \"currently non_endemic, that used to live in the endemic area\"\n",
    "    \n",
    "    data = data[data['EPIDEMIC'] ==0]\n",
    "    val_set = val_set[val_set['EPIDEMIC'] ==0]\n",
    "\n",
    "    Y = (data['EPIDEMIC_gt'] ==1)\n",
    "    Y_val = (val_set['EPIDEMIC_gt'] ==1) \n",
    "    \n",
    "    add_exclusion_cols = ['EPIDEMIC']\n",
    "\n",
    "    for col in add_exclusion_cols:\n",
    "        if not col in exclude_cols:\n",
    "            exclude_cols+=[col]\n",
    "    \n",
    "\n",
    "    \n",
    "## people from the Mexico or DF states\n",
    "if case == 4:\n",
    "    case_text = \"people from the Mexico or DF states\"\n",
    "    Y = (data['STATE'] == 'Distrito_Federal') | (data['STATE'] == 'Mexico')\n",
    "    Y_val = (val_set['STATE'] == 'Distrito_Federal') | (val_set['STATE'] == 'Mexico')\n",
    "    \n",
    "    add_exclusion_cols = ['EPIDEMIC','STATE']\n",
    "\n",
    "    for col in add_exclusion_cols:\n",
    "        if not col in exclude_cols:\n",
    "            exclude_cols+=[col]"
   ]
  },
  {
   "cell_type": "code",
   "execution_count": 24,
   "metadata": {
    "collapsed": true
   },
   "outputs": [],
   "source": [
    "if graphlab_frame: iterable=data.column_names()\n",
    "else: iterable=data.columns"
   ]
  },
  {
   "cell_type": "code",
   "execution_count": 25,
   "metadata": {},
   "outputs": [
    {
     "data": {
      "text/plain": [
       "Index([u'CallsWeekDay_IN_12', u'CallsWeekNight_IN_12', u'TimeWeekDay_IN_12',\n",
       "       u'CallsWeekEnd_IN_12', u'TimeWeekNight_IN_12', u'TimeWeekEnd_IN_VUL_12',\n",
       "       u'CallsWeekDay_IN_VUL_12', u'CallsWeekNight_IN_VUL_12',\n",
       "       u'TimeWeekDay_IN_VUL_12', u'CallsWeekEnd_IN_VUL_12',\n",
       "       u'TimeWeekNight_IN_VUL_12', u'VULNERABLE_IN_12', u'TimeWeekEnd_OUT_08',\n",
       "       u'CallsWeekDay_OUT_08', u'CallsWeekNight_OUT_08', u'TimeWeekDay_OUT_08',\n",
       "       u'CallsWeekEnd_OUT_08', u'TimeWeekNight_OUT_08',\n",
       "       u'TimeWeekEnd_OUT_VUL_08', u'CallsWeekDay_OUT_VUL_08',\n",
       "       u'CallsWeekNight_OUT_VUL_08', u'TimeWeekDay_OUT_VUL_08',\n",
       "       u'CallsWeekEnd_OUT_VUL_08', u'TimeWeekNight_OUT_VUL_08',\n",
       "       u'VULNERABLE_OUT_08', u'TimeWeekEnd_IN_08', u'CallsWeekDay_IN_08',\n",
       "       u'CallsWeekNight_IN_08', u'TimeWeekDay_IN_08', u'CallsWeekEnd_IN_08'],\n",
       "      dtype='object')"
      ]
     },
     "execution_count": 25,
     "metadata": {},
     "output_type": "execute_result"
    }
   ],
   "source": [
    "width = 30\n",
    "N= np.random.randint(1,int(iterable.shape[0]*1.0/width))\n",
    "data.columns[(N)*width: (N+1)*width]"
   ]
  },
  {
   "cell_type": "code",
   "execution_count": 26,
   "metadata": {},
   "outputs": [
    {
     "name": "stderr",
     "output_type": "stream",
     "text": [
      "/home/juan/mfixman/venv/lib/python2.7/site-packages/ipykernel_launcher.py:11: SettingWithCopyWarning: \n",
      "A value is trying to be set on a copy of a slice from a DataFrame.\n",
      "Try using .loc[row_indexer,col_indexer] = value instead\n",
      "\n",
      "See the caveats in the documentation: http://pandas.pydata.org/pandas-docs/stable/indexing.html#indexing-view-versus-copy\n",
      "  # This is added back by InteractiveShellApp.init_path()\n",
      "/home/juan/mfixman/venv/lib/python2.7/site-packages/ipykernel_launcher.py:12: SettingWithCopyWarning: \n",
      "A value is trying to be set on a copy of a slice from a DataFrame.\n",
      "Try using .loc[row_indexer,col_indexer] = value instead\n",
      "\n",
      "See the caveats in the documentation: http://pandas.pydata.org/pandas-docs/stable/indexing.html#indexing-view-versus-copy\n",
      "  if sys.path[0] == '':\n"
     ]
    },
    {
     "name": "stdout",
     "output_type": "stream",
     "text": [
      "CPU times: user 3.95 s, sys: 60 ms, total: 4.01 s\n",
      "Wall time: 4.01 s\n"
     ]
    }
   ],
   "source": [
    "%%time\n",
    "\n",
    "X = data[[col for col in iterable if col not in exclude_cols]]\n",
    "\n",
    "X_val = val_set[[col for col in iterable if col not in exclude_cols]]\n",
    "\n",
    "if graphlab_frame: iterable=X.column_names()\n",
    "else: iterable=X.columns\n",
    "    \n",
    "# clean negative/Null vals in count cols \n",
    "for col in [col for col in iterable if 'COUNT' in col]:\n",
    "    X[col]= X[col].apply(lambda x :  x if x>=0 else 0)\n",
    "    X_val[col]= X_val[col].apply(lambda x :  x if x>=0 else 0)\n",
    "\n"
   ]
  },
  {
   "cell_type": "code",
   "execution_count": 27,
   "metadata": {},
   "outputs": [
    {
     "data": {
      "text/plain": [
       "((95180, 153), (95180,))"
      ]
     },
     "execution_count": 27,
     "metadata": {},
     "output_type": "execute_result"
    }
   ],
   "source": [
    "X.shape, Y.shape"
   ]
  },
  {
   "cell_type": "markdown",
   "metadata": {},
   "source": [
    "## dummy-ize categorical cols\n",
    "if necessary"
   ]
  },
  {
   "cell_type": "code",
   "execution_count": 28,
   "metadata": {
    "collapsed": true
   },
   "outputs": [],
   "source": [
    "if graphlab_frame: iterable=X.column_names()\n",
    "else: iterable=X.columns\n"
   ]
  },
  {
   "cell_type": "code",
   "execution_count": 29,
   "metadata": {
    "collapsed": true
   },
   "outputs": [],
   "source": [
    "# X.columns\n",
    "# [col for col in X.columns if 'STATE' in col]\n",
    "# [col for col in X_val.columns if 'STATE' in col]"
   ]
  },
  {
   "cell_type": "code",
   "execution_count": 30,
   "metadata": {
    "collapsed": true
   },
   "outputs": [],
   "source": [
    "categorical_cols = [\n",
    "    'STATE'\n",
    "]"
   ]
  },
  {
   "cell_type": "code",
   "execution_count": null,
   "metadata": {
    "collapsed": true
   },
   "outputs": [],
   "source": []
  },
  {
   "cell_type": "code",
   "execution_count": 31,
   "metadata": {
    "scrolled": true
   },
   "outputs": [
    {
     "name": "stdout",
     "output_type": "stream",
     "text": [
      "we are categorizing col STATE\n"
     ]
    },
    {
     "name": "stderr",
     "output_type": "stream",
     "text": [
      "/home/juan/mfixman/venv/lib/python2.7/site-packages/ipykernel_launcher.py:4: SettingWithCopyWarning: \n",
      "A value is trying to be set on a copy of a slice from a DataFrame.\n",
      "Try using .loc[row_indexer,col_indexer] = value instead\n",
      "\n",
      "See the caveats in the documentation: http://pandas.pydata.org/pandas-docs/stable/indexing.html#indexing-view-versus-copy\n",
      "  after removing the cwd from sys.path.\n",
      "/home/juan/mfixman/venv/lib/python2.7/site-packages/ipykernel_launcher.py:16: SettingWithCopyWarning: \n",
      "A value is trying to be set on a copy of a slice from a DataFrame.\n",
      "Try using .loc[row_indexer,col_indexer] = value instead\n",
      "\n",
      "See the caveats in the documentation: http://pandas.pydata.org/pandas-docs/stable/indexing.html#indexing-view-versus-copy\n",
      "  app.launch_new_instance()\n"
     ]
    }
   ],
   "source": [
    "for col in categorical_cols:\n",
    "    if col not in exclude_cols:\n",
    "        print('we are categorizing col %s' %col)\n",
    "        X[col] = X[col].astype('category')\n",
    "    #     if X[col].dtype != 'category':\n",
    "    #         continue \n",
    "        X = pd.concat([X,pd.get_dummies(X[col], \n",
    "                                          prefix= col, \n",
    "                                          prefix_sep='_', \n",
    "                                          #sparse = True,\n",
    "                                          dummy_na=False).astype(np.int8)],\\\n",
    "                  axis=1 ,join = 'inner')\n",
    "        X.drop(col, axis =1 , inplace=True)\n",
    "\n",
    "        # now onto test_table\n",
    "        X_val[col] = X_val[col].astype('category')\n",
    "        X_val = pd.concat([X_val,pd.get_dummies(X_val[col], \n",
    "                                          prefix= col, \n",
    "                                          prefix_sep='_', \n",
    "                                          #sparse = True,\n",
    "                                          dummy_na=False).astype(np.int8)],\\\n",
    "                  axis=1 ,join = 'inner')\n",
    "\n",
    "        X_val.drop(col, axis =1 , inplace=True)\n"
   ]
  },
  {
   "cell_type": "markdown",
   "metadata": {},
   "source": [
    "## explore correlations to target var\n",
    "\n",
    "with current column configuration"
   ]
  },
  {
   "cell_type": "code",
   "execution_count": 32,
   "metadata": {},
   "outputs": [
    {
     "data": {
      "text/plain": [
       "(177, 177)"
      ]
     },
     "execution_count": 32,
     "metadata": {},
     "output_type": "execute_result"
    }
   ],
   "source": [
    "corr = pd.DataFrame(X).copy()\n",
    "target_col = 'target'\n",
    "corr[target_col] = Y\n",
    "corr = corr.corr()\n",
    "corr.shape"
   ]
  },
  {
   "cell_type": "code",
   "execution_count": 33,
   "metadata": {},
   "outputs": [
    {
     "data": {
      "text/html": [
       "<div>\n",
       "<style>\n",
       "    .dataframe thead tr:only-child th {\n",
       "        text-align: right;\n",
       "    }\n",
       "\n",
       "    .dataframe thead th {\n",
       "        text-align: left;\n",
       "    }\n",
       "\n",
       "    .dataframe tbody tr th {\n",
       "        vertical-align: top;\n",
       "    }\n",
       "</style>\n",
       "<table border=\"1\" class=\"dataframe\">\n",
       "  <thead>\n",
       "    <tr style=\"text-align: right;\">\n",
       "      <th></th>\n",
       "      <th>VULNERABLE_OUT_12</th>\n",
       "      <th>VULNERABLE_IN_12</th>\n",
       "      <th>VULNERABLE_OUT_08</th>\n",
       "      <th>VULNERABLE_IN_08</th>\n",
       "      <th>VULNERABLE_OUT_09</th>\n",
       "      <th>VULNERABLE_IN_09</th>\n",
       "      <th>VULNERABLE_OUT_10</th>\n",
       "      <th>VULNERABLE_IN_10</th>\n",
       "      <th>VULNERABLE_OUT_11</th>\n",
       "      <th>VULNERABLE_IN_11</th>\n",
       "      <th>target</th>\n",
       "    </tr>\n",
       "  </thead>\n",
       "  <tbody>\n",
       "    <tr>\n",
       "      <th>VULNERABLE_OUT_12</th>\n",
       "      <td>1.000000</td>\n",
       "      <td>0.804619</td>\n",
       "      <td>0.638029</td>\n",
       "      <td>0.628789</td>\n",
       "      <td>0.660049</td>\n",
       "      <td>0.643400</td>\n",
       "      <td>0.696443</td>\n",
       "      <td>0.676957</td>\n",
       "      <td>0.732662</td>\n",
       "      <td>0.716298</td>\n",
       "      <td>0.430733</td>\n",
       "    </tr>\n",
       "    <tr>\n",
       "      <th>VULNERABLE_IN_12</th>\n",
       "      <td>0.804619</td>\n",
       "      <td>1.000000</td>\n",
       "      <td>0.624696</td>\n",
       "      <td>0.636972</td>\n",
       "      <td>0.646516</td>\n",
       "      <td>0.654791</td>\n",
       "      <td>0.677927</td>\n",
       "      <td>0.690315</td>\n",
       "      <td>0.713002</td>\n",
       "      <td>0.726464</td>\n",
       "      <td>0.426557</td>\n",
       "    </tr>\n",
       "    <tr>\n",
       "      <th>VULNERABLE_OUT_08</th>\n",
       "      <td>0.638029</td>\n",
       "      <td>0.624696</td>\n",
       "      <td>1.000000</td>\n",
       "      <td>0.803914</td>\n",
       "      <td>0.733229</td>\n",
       "      <td>0.711035</td>\n",
       "      <td>0.690688</td>\n",
       "      <td>0.673331</td>\n",
       "      <td>0.658020</td>\n",
       "      <td>0.645308</td>\n",
       "      <td>0.450321</td>\n",
       "    </tr>\n",
       "    <tr>\n",
       "      <th>VULNERABLE_IN_08</th>\n",
       "      <td>0.628789</td>\n",
       "      <td>0.636972</td>\n",
       "      <td>0.803914</td>\n",
       "      <td>1.000000</td>\n",
       "      <td>0.713392</td>\n",
       "      <td>0.727680</td>\n",
       "      <td>0.673989</td>\n",
       "      <td>0.683400</td>\n",
       "      <td>0.646127</td>\n",
       "      <td>0.661324</td>\n",
       "      <td>0.453398</td>\n",
       "    </tr>\n",
       "    <tr>\n",
       "      <th>VULNERABLE_OUT_09</th>\n",
       "      <td>0.660049</td>\n",
       "      <td>0.646516</td>\n",
       "      <td>0.733229</td>\n",
       "      <td>0.713392</td>\n",
       "      <td>1.000000</td>\n",
       "      <td>0.800188</td>\n",
       "      <td>0.734061</td>\n",
       "      <td>0.715347</td>\n",
       "      <td>0.693628</td>\n",
       "      <td>0.678493</td>\n",
       "      <td>0.431039</td>\n",
       "    </tr>\n",
       "    <tr>\n",
       "      <th>VULNERABLE_IN_09</th>\n",
       "      <td>0.643400</td>\n",
       "      <td>0.654791</td>\n",
       "      <td>0.711035</td>\n",
       "      <td>0.727680</td>\n",
       "      <td>0.800188</td>\n",
       "      <td>1.000000</td>\n",
       "      <td>0.710303</td>\n",
       "      <td>0.727615</td>\n",
       "      <td>0.673490</td>\n",
       "      <td>0.687261</td>\n",
       "      <td>0.437152</td>\n",
       "    </tr>\n",
       "    <tr>\n",
       "      <th>VULNERABLE_OUT_10</th>\n",
       "      <td>0.696443</td>\n",
       "      <td>0.677927</td>\n",
       "      <td>0.690688</td>\n",
       "      <td>0.673989</td>\n",
       "      <td>0.734061</td>\n",
       "      <td>0.710303</td>\n",
       "      <td>1.000000</td>\n",
       "      <td>0.801798</td>\n",
       "      <td>0.742683</td>\n",
       "      <td>0.722827</td>\n",
       "      <td>0.424142</td>\n",
       "    </tr>\n",
       "    <tr>\n",
       "      <th>VULNERABLE_IN_10</th>\n",
       "      <td>0.676957</td>\n",
       "      <td>0.690315</td>\n",
       "      <td>0.673331</td>\n",
       "      <td>0.683400</td>\n",
       "      <td>0.715347</td>\n",
       "      <td>0.727615</td>\n",
       "      <td>0.801798</td>\n",
       "      <td>1.000000</td>\n",
       "      <td>0.721542</td>\n",
       "      <td>0.735363</td>\n",
       "      <td>0.424557</td>\n",
       "    </tr>\n",
       "    <tr>\n",
       "      <th>VULNERABLE_OUT_11</th>\n",
       "      <td>0.732662</td>\n",
       "      <td>0.713002</td>\n",
       "      <td>0.658020</td>\n",
       "      <td>0.646127</td>\n",
       "      <td>0.693628</td>\n",
       "      <td>0.673490</td>\n",
       "      <td>0.742683</td>\n",
       "      <td>0.721542</td>\n",
       "      <td>1.000000</td>\n",
       "      <td>0.801171</td>\n",
       "      <td>0.426817</td>\n",
       "    </tr>\n",
       "    <tr>\n",
       "      <th>VULNERABLE_IN_11</th>\n",
       "      <td>0.716298</td>\n",
       "      <td>0.726464</td>\n",
       "      <td>0.645308</td>\n",
       "      <td>0.661324</td>\n",
       "      <td>0.678493</td>\n",
       "      <td>0.687261</td>\n",
       "      <td>0.722827</td>\n",
       "      <td>0.735363</td>\n",
       "      <td>0.801171</td>\n",
       "      <td>1.000000</td>\n",
       "      <td>0.428664</td>\n",
       "    </tr>\n",
       "  </tbody>\n",
       "</table>\n",
       "</div>"
      ],
      "text/plain": [
       "                   VULNERABLE_OUT_12  VULNERABLE_IN_12  VULNERABLE_OUT_08  \\\n",
       "VULNERABLE_OUT_12           1.000000          0.804619           0.638029   \n",
       "VULNERABLE_IN_12            0.804619          1.000000           0.624696   \n",
       "VULNERABLE_OUT_08           0.638029          0.624696           1.000000   \n",
       "VULNERABLE_IN_08            0.628789          0.636972           0.803914   \n",
       "VULNERABLE_OUT_09           0.660049          0.646516           0.733229   \n",
       "VULNERABLE_IN_09            0.643400          0.654791           0.711035   \n",
       "VULNERABLE_OUT_10           0.696443          0.677927           0.690688   \n",
       "VULNERABLE_IN_10            0.676957          0.690315           0.673331   \n",
       "VULNERABLE_OUT_11           0.732662          0.713002           0.658020   \n",
       "VULNERABLE_IN_11            0.716298          0.726464           0.645308   \n",
       "\n",
       "                   VULNERABLE_IN_08  VULNERABLE_OUT_09  VULNERABLE_IN_09  \\\n",
       "VULNERABLE_OUT_12          0.628789           0.660049          0.643400   \n",
       "VULNERABLE_IN_12           0.636972           0.646516          0.654791   \n",
       "VULNERABLE_OUT_08          0.803914           0.733229          0.711035   \n",
       "VULNERABLE_IN_08           1.000000           0.713392          0.727680   \n",
       "VULNERABLE_OUT_09          0.713392           1.000000          0.800188   \n",
       "VULNERABLE_IN_09           0.727680           0.800188          1.000000   \n",
       "VULNERABLE_OUT_10          0.673989           0.734061          0.710303   \n",
       "VULNERABLE_IN_10           0.683400           0.715347          0.727615   \n",
       "VULNERABLE_OUT_11          0.646127           0.693628          0.673490   \n",
       "VULNERABLE_IN_11           0.661324           0.678493          0.687261   \n",
       "\n",
       "                   VULNERABLE_OUT_10  VULNERABLE_IN_10  VULNERABLE_OUT_11  \\\n",
       "VULNERABLE_OUT_12           0.696443          0.676957           0.732662   \n",
       "VULNERABLE_IN_12            0.677927          0.690315           0.713002   \n",
       "VULNERABLE_OUT_08           0.690688          0.673331           0.658020   \n",
       "VULNERABLE_IN_08            0.673989          0.683400           0.646127   \n",
       "VULNERABLE_OUT_09           0.734061          0.715347           0.693628   \n",
       "VULNERABLE_IN_09            0.710303          0.727615           0.673490   \n",
       "VULNERABLE_OUT_10           1.000000          0.801798           0.742683   \n",
       "VULNERABLE_IN_10            0.801798          1.000000           0.721542   \n",
       "VULNERABLE_OUT_11           0.742683          0.721542           1.000000   \n",
       "VULNERABLE_IN_11            0.722827          0.735363           0.801171   \n",
       "\n",
       "                   VULNERABLE_IN_11    target  \n",
       "VULNERABLE_OUT_12          0.716298  0.430733  \n",
       "VULNERABLE_IN_12           0.726464  0.426557  \n",
       "VULNERABLE_OUT_08          0.645308  0.450321  \n",
       "VULNERABLE_IN_08           0.661324  0.453398  \n",
       "VULNERABLE_OUT_09          0.678493  0.431039  \n",
       "VULNERABLE_IN_09           0.687261  0.437152  \n",
       "VULNERABLE_OUT_10          0.722827  0.424142  \n",
       "VULNERABLE_IN_10           0.735363  0.424557  \n",
       "VULNERABLE_OUT_11          0.801171  0.426817  \n",
       "VULNERABLE_IN_11           1.000000  0.428664  "
      ]
     },
     "execution_count": 33,
     "metadata": {},
     "output_type": "execute_result"
    }
   ],
   "source": [
    "view = corr.query('target>0.3')\n",
    "# show only those columns which \n",
    "corr_columns = view.index.values\n",
    "\n",
    "view[corr_columns].head(10)"
   ]
  },
  {
   "cell_type": "code",
   "execution_count": null,
   "metadata": {
    "collapsed": true
   },
   "outputs": [],
   "source": []
  },
  {
   "cell_type": "code",
   "execution_count": 34,
   "metadata": {
    "scrolled": true
   },
   "outputs": [
    {
     "data": {
      "text/html": [
       "<div>\n",
       "<style>\n",
       "    .dataframe thead tr:only-child th {\n",
       "        text-align: right;\n",
       "    }\n",
       "\n",
       "    .dataframe thead th {\n",
       "        text-align: left;\n",
       "    }\n",
       "\n",
       "    .dataframe tbody tr th {\n",
       "        vertical-align: top;\n",
       "    }\n",
       "</style>\n",
       "<table border=\"1\" class=\"dataframe\">\n",
       "  <thead>\n",
       "    <tr style=\"text-align: right;\">\n",
       "      <th></th>\n",
       "      <th>STATE_Aguascalientes</th>\n",
       "      <th>STATE_Baja_California</th>\n",
       "      <th>STATE_Baja_California_Sur</th>\n",
       "      <th>STATE_Campeche</th>\n",
       "      <th>STATE_Chiapas</th>\n",
       "      <th>STATE_Chihuahua</th>\n",
       "      <th>STATE_Coahuila_de_Zaragoza</th>\n",
       "      <th>STATE_Colima</th>\n",
       "      <th>STATE_Distrito_Federal</th>\n",
       "      <th>STATE_Durango</th>\n",
       "      <th>...</th>\n",
       "      <th>STATE_Queretaro</th>\n",
       "      <th>STATE_Quintana_Roo</th>\n",
       "      <th>STATE_San_Luis_Potosi</th>\n",
       "      <th>STATE_Sinaloa</th>\n",
       "      <th>STATE_Sonora</th>\n",
       "      <th>STATE_Tamaulipas</th>\n",
       "      <th>STATE_Tlaxcala</th>\n",
       "      <th>STATE_Yucatan</th>\n",
       "      <th>STATE_Zacatecas</th>\n",
       "      <th>target</th>\n",
       "    </tr>\n",
       "  </thead>\n",
       "  <tbody>\n",
       "    <tr>\n",
       "      <th>COUNT_WEEKNIGHT_2</th>\n",
       "      <td>-0.000895</td>\n",
       "      <td>0.021146</td>\n",
       "      <td>0.012556</td>\n",
       "      <td>0.013129</td>\n",
       "      <td>0.001727</td>\n",
       "      <td>0.012847</td>\n",
       "      <td>-0.000067</td>\n",
       "      <td>0.024461</td>\n",
       "      <td>0.023296</td>\n",
       "      <td>0.001786</td>\n",
       "      <td>...</td>\n",
       "      <td>0.003362</td>\n",
       "      <td>-0.000679</td>\n",
       "      <td>0.011444</td>\n",
       "      <td>0.015072</td>\n",
       "      <td>0.010285</td>\n",
       "      <td>-0.007422</td>\n",
       "      <td>-0.027315</td>\n",
       "      <td>0.000708</td>\n",
       "      <td>0.000510</td>\n",
       "      <td>0.016867</td>\n",
       "    </tr>\n",
       "    <tr>\n",
       "      <th>COUNT_WEEKNIGHT_3</th>\n",
       "      <td>-0.001007</td>\n",
       "      <td>0.014187</td>\n",
       "      <td>0.012526</td>\n",
       "      <td>0.011088</td>\n",
       "      <td>-0.004106</td>\n",
       "      <td>0.010529</td>\n",
       "      <td>-0.001604</td>\n",
       "      <td>0.021866</td>\n",
       "      <td>0.039103</td>\n",
       "      <td>0.000142</td>\n",
       "      <td>...</td>\n",
       "      <td>0.008772</td>\n",
       "      <td>-0.000433</td>\n",
       "      <td>0.017269</td>\n",
       "      <td>0.017674</td>\n",
       "      <td>0.011871</td>\n",
       "      <td>-0.008913</td>\n",
       "      <td>-0.034017</td>\n",
       "      <td>0.002755</td>\n",
       "      <td>-0.005519</td>\n",
       "      <td>0.020923</td>\n",
       "    </tr>\n",
       "    <tr>\n",
       "      <th>COUNT_WEEKNIGHT_4</th>\n",
       "      <td>-0.000930</td>\n",
       "      <td>0.011890</td>\n",
       "      <td>0.012197</td>\n",
       "      <td>0.004408</td>\n",
       "      <td>-0.006292</td>\n",
       "      <td>0.008059</td>\n",
       "      <td>-0.005944</td>\n",
       "      <td>0.014430</td>\n",
       "      <td>0.057372</td>\n",
       "      <td>-0.002811</td>\n",
       "      <td>...</td>\n",
       "      <td>0.010581</td>\n",
       "      <td>-0.002942</td>\n",
       "      <td>0.017605</td>\n",
       "      <td>0.016525</td>\n",
       "      <td>0.011547</td>\n",
       "      <td>-0.011441</td>\n",
       "      <td>-0.040354</td>\n",
       "      <td>0.004592</td>\n",
       "      <td>-0.008742</td>\n",
       "      <td>0.022474</td>\n",
       "    </tr>\n",
       "    <tr>\n",
       "      <th>COUNT_WEEKNIGHT_5</th>\n",
       "      <td>-0.001243</td>\n",
       "      <td>0.010038</td>\n",
       "      <td>0.008979</td>\n",
       "      <td>-0.001981</td>\n",
       "      <td>-0.009550</td>\n",
       "      <td>0.004635</td>\n",
       "      <td>-0.008781</td>\n",
       "      <td>0.010124</td>\n",
       "      <td>0.073551</td>\n",
       "      <td>-0.002730</td>\n",
       "      <td>...</td>\n",
       "      <td>0.010749</td>\n",
       "      <td>-0.006963</td>\n",
       "      <td>0.018582</td>\n",
       "      <td>0.011163</td>\n",
       "      <td>0.010603</td>\n",
       "      <td>-0.012484</td>\n",
       "      <td>-0.046779</td>\n",
       "      <td>0.005047</td>\n",
       "      <td>-0.014064</td>\n",
       "      <td>0.021722</td>\n",
       "    </tr>\n",
       "    <tr>\n",
       "      <th>COUNT_WEEKNIGHT_6</th>\n",
       "      <td>-0.003201</td>\n",
       "      <td>0.005147</td>\n",
       "      <td>0.007539</td>\n",
       "      <td>-0.007744</td>\n",
       "      <td>-0.012436</td>\n",
       "      <td>0.004009</td>\n",
       "      <td>-0.011629</td>\n",
       "      <td>0.005461</td>\n",
       "      <td>0.088467</td>\n",
       "      <td>-0.005274</td>\n",
       "      <td>...</td>\n",
       "      <td>0.011798</td>\n",
       "      <td>-0.011655</td>\n",
       "      <td>0.017807</td>\n",
       "      <td>0.010230</td>\n",
       "      <td>0.010607</td>\n",
       "      <td>-0.014647</td>\n",
       "      <td>-0.051841</td>\n",
       "      <td>0.005384</td>\n",
       "      <td>-0.018223</td>\n",
       "      <td>0.022695</td>\n",
       "    </tr>\n",
       "    <tr>\n",
       "      <th>COUNT_WEEKNIGHT_7</th>\n",
       "      <td>-0.005015</td>\n",
       "      <td>0.003935</td>\n",
       "      <td>0.004449</td>\n",
       "      <td>-0.014008</td>\n",
       "      <td>-0.016057</td>\n",
       "      <td>0.002041</td>\n",
       "      <td>-0.012927</td>\n",
       "      <td>0.000967</td>\n",
       "      <td>0.101850</td>\n",
       "      <td>-0.008192</td>\n",
       "      <td>...</td>\n",
       "      <td>0.012335</td>\n",
       "      <td>-0.015592</td>\n",
       "      <td>0.016556</td>\n",
       "      <td>0.007660</td>\n",
       "      <td>0.010612</td>\n",
       "      <td>-0.019563</td>\n",
       "      <td>-0.055516</td>\n",
       "      <td>0.004708</td>\n",
       "      <td>-0.022080</td>\n",
       "      <td>0.022805</td>\n",
       "    </tr>\n",
       "    <tr>\n",
       "      <th>COUNT_WEEKNIGHT_8</th>\n",
       "      <td>-0.006934</td>\n",
       "      <td>0.003239</td>\n",
       "      <td>0.002676</td>\n",
       "      <td>-0.017321</td>\n",
       "      <td>-0.020312</td>\n",
       "      <td>0.001193</td>\n",
       "      <td>-0.015683</td>\n",
       "      <td>-0.001434</td>\n",
       "      <td>0.113117</td>\n",
       "      <td>-0.009706</td>\n",
       "      <td>...</td>\n",
       "      <td>0.012565</td>\n",
       "      <td>-0.019781</td>\n",
       "      <td>0.013547</td>\n",
       "      <td>0.004991</td>\n",
       "      <td>0.009862</td>\n",
       "      <td>-0.021597</td>\n",
       "      <td>-0.058026</td>\n",
       "      <td>0.004202</td>\n",
       "      <td>-0.023756</td>\n",
       "      <td>0.022185</td>\n",
       "    </tr>\n",
       "    <tr>\n",
       "      <th>COUNT_WEEKNIGHT_9</th>\n",
       "      <td>-0.010174</td>\n",
       "      <td>0.001869</td>\n",
       "      <td>-0.000127</td>\n",
       "      <td>-0.022367</td>\n",
       "      <td>-0.023293</td>\n",
       "      <td>-0.000224</td>\n",
       "      <td>-0.018160</td>\n",
       "      <td>-0.003504</td>\n",
       "      <td>0.122781</td>\n",
       "      <td>-0.011193</td>\n",
       "      <td>...</td>\n",
       "      <td>0.011035</td>\n",
       "      <td>-0.023654</td>\n",
       "      <td>0.010290</td>\n",
       "      <td>0.003108</td>\n",
       "      <td>0.009829</td>\n",
       "      <td>-0.023105</td>\n",
       "      <td>-0.059082</td>\n",
       "      <td>0.003568</td>\n",
       "      <td>-0.024880</td>\n",
       "      <td>0.021444</td>\n",
       "    </tr>\n",
       "    <tr>\n",
       "      <th>MOBILITY_DIAMETER</th>\n",
       "      <td>0.051504</td>\n",
       "      <td>0.168579</td>\n",
       "      <td>0.033866</td>\n",
       "      <td>0.006370</td>\n",
       "      <td>-0.015420</td>\n",
       "      <td>0.027303</td>\n",
       "      <td>-0.001766</td>\n",
       "      <td>-0.006409</td>\n",
       "      <td>-0.172372</td>\n",
       "      <td>-0.010917</td>\n",
       "      <td>...</td>\n",
       "      <td>0.090248</td>\n",
       "      <td>0.082884</td>\n",
       "      <td>0.071423</td>\n",
       "      <td>0.055259</td>\n",
       "      <td>0.091054</td>\n",
       "      <td>0.005438</td>\n",
       "      <td>-0.023462</td>\n",
       "      <td>-0.033937</td>\n",
       "      <td>0.000082</td>\n",
       "      <td>0.126827</td>\n",
       "    </tr>\n",
       "    <tr>\n",
       "      <th>MOBILITY_DIAMETER_WEEKNIGHT</th>\n",
       "      <td>0.052704</td>\n",
       "      <td>0.168059</td>\n",
       "      <td>0.034028</td>\n",
       "      <td>0.005917</td>\n",
       "      <td>-0.010433</td>\n",
       "      <td>0.027544</td>\n",
       "      <td>-0.000835</td>\n",
       "      <td>-0.005818</td>\n",
       "      <td>-0.148876</td>\n",
       "      <td>-0.010575</td>\n",
       "      <td>...</td>\n",
       "      <td>0.085264</td>\n",
       "      <td>0.079868</td>\n",
       "      <td>0.073411</td>\n",
       "      <td>0.058013</td>\n",
       "      <td>0.092244</td>\n",
       "      <td>0.005900</td>\n",
       "      <td>-0.030517</td>\n",
       "      <td>-0.025030</td>\n",
       "      <td>-0.007863</td>\n",
       "      <td>0.120246</td>\n",
       "    </tr>\n",
       "    <tr>\n",
       "      <th>TimeWeekEnd_OUT_VUL_12</th>\n",
       "      <td>-0.003097</td>\n",
       "      <td>0.005009</td>\n",
       "      <td>0.024029</td>\n",
       "      <td>0.016438</td>\n",
       "      <td>0.005347</td>\n",
       "      <td>0.001237</td>\n",
       "      <td>-0.006779</td>\n",
       "      <td>0.026093</td>\n",
       "      <td>0.002240</td>\n",
       "      <td>-0.006437</td>\n",
       "      <td>...</td>\n",
       "      <td>0.005283</td>\n",
       "      <td>0.024136</td>\n",
       "      <td>-0.003578</td>\n",
       "      <td>0.029844</td>\n",
       "      <td>0.028559</td>\n",
       "      <td>0.014796</td>\n",
       "      <td>0.004621</td>\n",
       "      <td>-0.009932</td>\n",
       "      <td>0.002621</td>\n",
       "      <td>0.182008</td>\n",
       "    </tr>\n",
       "    <tr>\n",
       "      <th>CallsWeekDay_OUT_VUL_12</th>\n",
       "      <td>-0.006663</td>\n",
       "      <td>0.001368</td>\n",
       "      <td>0.019090</td>\n",
       "      <td>0.009059</td>\n",
       "      <td>0.003318</td>\n",
       "      <td>0.007168</td>\n",
       "      <td>-0.009069</td>\n",
       "      <td>0.048563</td>\n",
       "      <td>0.012835</td>\n",
       "      <td>-0.008236</td>\n",
       "      <td>...</td>\n",
       "      <td>0.003022</td>\n",
       "      <td>0.014673</td>\n",
       "      <td>-0.015274</td>\n",
       "      <td>0.038723</td>\n",
       "      <td>0.043613</td>\n",
       "      <td>0.013379</td>\n",
       "      <td>0.008912</td>\n",
       "      <td>-0.019683</td>\n",
       "      <td>-0.002592</td>\n",
       "      <td>0.259087</td>\n",
       "    </tr>\n",
       "    <tr>\n",
       "      <th>CallsWeekNight_OUT_VUL_12</th>\n",
       "      <td>-0.008068</td>\n",
       "      <td>0.002172</td>\n",
       "      <td>0.022683</td>\n",
       "      <td>0.016151</td>\n",
       "      <td>0.000873</td>\n",
       "      <td>0.005149</td>\n",
       "      <td>-0.006123</td>\n",
       "      <td>0.028658</td>\n",
       "      <td>0.014671</td>\n",
       "      <td>-0.005539</td>\n",
       "      <td>...</td>\n",
       "      <td>0.005816</td>\n",
       "      <td>0.016201</td>\n",
       "      <td>-0.004450</td>\n",
       "      <td>0.029153</td>\n",
       "      <td>0.029524</td>\n",
       "      <td>0.019669</td>\n",
       "      <td>0.006866</td>\n",
       "      <td>-0.014186</td>\n",
       "      <td>-0.001653</td>\n",
       "      <td>0.207103</td>\n",
       "    </tr>\n",
       "    <tr>\n",
       "      <th>TimeWeekDay_OUT_VUL_12</th>\n",
       "      <td>-0.004318</td>\n",
       "      <td>0.003239</td>\n",
       "      <td>0.020917</td>\n",
       "      <td>0.016356</td>\n",
       "      <td>0.004905</td>\n",
       "      <td>0.006080</td>\n",
       "      <td>-0.007987</td>\n",
       "      <td>0.042758</td>\n",
       "      <td>0.011858</td>\n",
       "      <td>-0.007556</td>\n",
       "      <td>...</td>\n",
       "      <td>0.002415</td>\n",
       "      <td>0.024659</td>\n",
       "      <td>-0.013875</td>\n",
       "      <td>0.034553</td>\n",
       "      <td>0.038085</td>\n",
       "      <td>0.011566</td>\n",
       "      <td>0.004118</td>\n",
       "      <td>-0.015687</td>\n",
       "      <td>-0.002737</td>\n",
       "      <td>0.212047</td>\n",
       "    </tr>\n",
       "    <tr>\n",
       "      <th>CallsWeekEnd_OUT_VUL_12</th>\n",
       "      <td>-0.005448</td>\n",
       "      <td>0.002596</td>\n",
       "      <td>0.023223</td>\n",
       "      <td>0.013212</td>\n",
       "      <td>0.003834</td>\n",
       "      <td>0.003367</td>\n",
       "      <td>-0.008329</td>\n",
       "      <td>0.038718</td>\n",
       "      <td>0.012148</td>\n",
       "      <td>-0.008489</td>\n",
       "      <td>...</td>\n",
       "      <td>0.006459</td>\n",
       "      <td>0.013878</td>\n",
       "      <td>-0.010346</td>\n",
       "      <td>0.035003</td>\n",
       "      <td>0.040370</td>\n",
       "      <td>0.015061</td>\n",
       "      <td>0.012905</td>\n",
       "      <td>-0.015738</td>\n",
       "      <td>-0.001245</td>\n",
       "      <td>0.255927</td>\n",
       "    </tr>\n",
       "    <tr>\n",
       "      <th>TimeWeekNight_OUT_VUL_12</th>\n",
       "      <td>-0.005369</td>\n",
       "      <td>0.002927</td>\n",
       "      <td>0.021525</td>\n",
       "      <td>0.021899</td>\n",
       "      <td>0.003077</td>\n",
       "      <td>0.007896</td>\n",
       "      <td>-0.002933</td>\n",
       "      <td>0.014633</td>\n",
       "      <td>0.007423</td>\n",
       "      <td>-0.003975</td>\n",
       "      <td>...</td>\n",
       "      <td>0.007009</td>\n",
       "      <td>0.019203</td>\n",
       "      <td>-0.000251</td>\n",
       "      <td>0.025778</td>\n",
       "      <td>0.021669</td>\n",
       "      <td>0.013418</td>\n",
       "      <td>0.002979</td>\n",
       "      <td>-0.009337</td>\n",
       "      <td>0.000472</td>\n",
       "      <td>0.151051</td>\n",
       "    </tr>\n",
       "    <tr>\n",
       "      <th>VULNERABLE_OUT_12</th>\n",
       "      <td>-0.009783</td>\n",
       "      <td>0.004280</td>\n",
       "      <td>0.034464</td>\n",
       "      <td>0.019385</td>\n",
       "      <td>0.006132</td>\n",
       "      <td>0.008001</td>\n",
       "      <td>-0.016418</td>\n",
       "      <td>0.050711</td>\n",
       "      <td>0.042022</td>\n",
       "      <td>-0.012480</td>\n",
       "      <td>...</td>\n",
       "      <td>0.008766</td>\n",
       "      <td>0.031248</td>\n",
       "      <td>-0.020112</td>\n",
       "      <td>0.064164</td>\n",
       "      <td>0.057096</td>\n",
       "      <td>0.015769</td>\n",
       "      <td>0.024046</td>\n",
       "      <td>-0.030994</td>\n",
       "      <td>-0.002567</td>\n",
       "      <td>0.430733</td>\n",
       "    </tr>\n",
       "    <tr>\n",
       "      <th>TimeWeekEnd_IN_VUL_12</th>\n",
       "      <td>-0.001719</td>\n",
       "      <td>0.003850</td>\n",
       "      <td>0.021240</td>\n",
       "      <td>0.016723</td>\n",
       "      <td>0.009774</td>\n",
       "      <td>0.007463</td>\n",
       "      <td>-0.004746</td>\n",
       "      <td>0.027816</td>\n",
       "      <td>0.004058</td>\n",
       "      <td>-0.004971</td>\n",
       "      <td>...</td>\n",
       "      <td>0.006818</td>\n",
       "      <td>0.015381</td>\n",
       "      <td>-0.005523</td>\n",
       "      <td>0.025835</td>\n",
       "      <td>0.020822</td>\n",
       "      <td>0.008037</td>\n",
       "      <td>0.006906</td>\n",
       "      <td>-0.003967</td>\n",
       "      <td>0.000372</td>\n",
       "      <td>0.163533</td>\n",
       "    </tr>\n",
       "    <tr>\n",
       "      <th>CallsWeekDay_IN_VUL_12</th>\n",
       "      <td>-0.004959</td>\n",
       "      <td>-0.000241</td>\n",
       "      <td>0.016010</td>\n",
       "      <td>0.005600</td>\n",
       "      <td>0.001613</td>\n",
       "      <td>0.009527</td>\n",
       "      <td>-0.009998</td>\n",
       "      <td>0.041076</td>\n",
       "      <td>0.012437</td>\n",
       "      <td>-0.005705</td>\n",
       "      <td>...</td>\n",
       "      <td>-0.000042</td>\n",
       "      <td>0.013053</td>\n",
       "      <td>-0.014045</td>\n",
       "      <td>0.037977</td>\n",
       "      <td>0.041146</td>\n",
       "      <td>0.010991</td>\n",
       "      <td>0.010735</td>\n",
       "      <td>-0.018251</td>\n",
       "      <td>-0.002119</td>\n",
       "      <td>0.237319</td>\n",
       "    </tr>\n",
       "    <tr>\n",
       "      <th>CallsWeekNight_IN_VUL_12</th>\n",
       "      <td>-0.004018</td>\n",
       "      <td>0.000200</td>\n",
       "      <td>0.011398</td>\n",
       "      <td>0.002886</td>\n",
       "      <td>0.000461</td>\n",
       "      <td>0.002262</td>\n",
       "      <td>-0.004745</td>\n",
       "      <td>0.017161</td>\n",
       "      <td>0.012737</td>\n",
       "      <td>-0.003360</td>\n",
       "      <td>...</td>\n",
       "      <td>0.002478</td>\n",
       "      <td>0.004088</td>\n",
       "      <td>-0.005698</td>\n",
       "      <td>0.014109</td>\n",
       "      <td>0.018489</td>\n",
       "      <td>0.005092</td>\n",
       "      <td>0.007303</td>\n",
       "      <td>-0.005988</td>\n",
       "      <td>-0.000604</td>\n",
       "      <td>0.115489</td>\n",
       "    </tr>\n",
       "    <tr>\n",
       "      <th>TimeWeekDay_IN_VUL_12</th>\n",
       "      <td>-0.001808</td>\n",
       "      <td>-0.000883</td>\n",
       "      <td>0.018853</td>\n",
       "      <td>0.013643</td>\n",
       "      <td>0.004618</td>\n",
       "      <td>0.009579</td>\n",
       "      <td>-0.008822</td>\n",
       "      <td>0.037421</td>\n",
       "      <td>0.006423</td>\n",
       "      <td>-0.005326</td>\n",
       "      <td>...</td>\n",
       "      <td>0.001208</td>\n",
       "      <td>0.021514</td>\n",
       "      <td>-0.010742</td>\n",
       "      <td>0.029610</td>\n",
       "      <td>0.037443</td>\n",
       "      <td>0.013568</td>\n",
       "      <td>0.009736</td>\n",
       "      <td>-0.013133</td>\n",
       "      <td>0.000254</td>\n",
       "      <td>0.192937</td>\n",
       "    </tr>\n",
       "    <tr>\n",
       "      <th>CallsWeekEnd_IN_VUL_12</th>\n",
       "      <td>-0.003609</td>\n",
       "      <td>0.000542</td>\n",
       "      <td>0.017330</td>\n",
       "      <td>0.010910</td>\n",
       "      <td>0.003517</td>\n",
       "      <td>0.007217</td>\n",
       "      <td>-0.007670</td>\n",
       "      <td>0.034334</td>\n",
       "      <td>0.014240</td>\n",
       "      <td>-0.005508</td>\n",
       "      <td>...</td>\n",
       "      <td>0.005104</td>\n",
       "      <td>0.010864</td>\n",
       "      <td>-0.011380</td>\n",
       "      <td>0.033414</td>\n",
       "      <td>0.030055</td>\n",
       "      <td>0.008207</td>\n",
       "      <td>0.011814</td>\n",
       "      <td>-0.011919</td>\n",
       "      <td>-0.001753</td>\n",
       "      <td>0.226185</td>\n",
       "    </tr>\n",
       "    <tr>\n",
       "      <th>TimeWeekNight_IN_VUL_12</th>\n",
       "      <td>-0.001353</td>\n",
       "      <td>0.000427</td>\n",
       "      <td>0.019726</td>\n",
       "      <td>0.008355</td>\n",
       "      <td>0.005099</td>\n",
       "      <td>0.002329</td>\n",
       "      <td>-0.004566</td>\n",
       "      <td>0.019828</td>\n",
       "      <td>0.006340</td>\n",
       "      <td>-0.004820</td>\n",
       "      <td>...</td>\n",
       "      <td>0.004600</td>\n",
       "      <td>0.009576</td>\n",
       "      <td>-0.003364</td>\n",
       "      <td>0.014002</td>\n",
       "      <td>0.025998</td>\n",
       "      <td>0.009324</td>\n",
       "      <td>0.008722</td>\n",
       "      <td>-0.001737</td>\n",
       "      <td>-0.001707</td>\n",
       "      <td>0.133986</td>\n",
       "    </tr>\n",
       "    <tr>\n",
       "      <th>VULNERABLE_IN_12</th>\n",
       "      <td>-0.008877</td>\n",
       "      <td>0.004497</td>\n",
       "      <td>0.033145</td>\n",
       "      <td>0.020495</td>\n",
       "      <td>0.005494</td>\n",
       "      <td>0.008363</td>\n",
       "      <td>-0.016091</td>\n",
       "      <td>0.052882</td>\n",
       "      <td>0.039975</td>\n",
       "      <td>-0.009628</td>\n",
       "      <td>...</td>\n",
       "      <td>0.005227</td>\n",
       "      <td>0.030978</td>\n",
       "      <td>-0.017423</td>\n",
       "      <td>0.062546</td>\n",
       "      <td>0.052756</td>\n",
       "      <td>0.014765</td>\n",
       "      <td>0.027194</td>\n",
       "      <td>-0.030278</td>\n",
       "      <td>-0.002588</td>\n",
       "      <td>0.426557</td>\n",
       "    </tr>\n",
       "    <tr>\n",
       "      <th>TimeWeekEnd_OUT_VUL_08</th>\n",
       "      <td>-0.002377</td>\n",
       "      <td>0.012169</td>\n",
       "      <td>0.029367</td>\n",
       "      <td>0.020475</td>\n",
       "      <td>0.010669</td>\n",
       "      <td>0.007767</td>\n",
       "      <td>-0.001571</td>\n",
       "      <td>0.030101</td>\n",
       "      <td>-0.000203</td>\n",
       "      <td>-0.005911</td>\n",
       "      <td>...</td>\n",
       "      <td>0.009523</td>\n",
       "      <td>0.029657</td>\n",
       "      <td>-0.003759</td>\n",
       "      <td>0.029764</td>\n",
       "      <td>0.024255</td>\n",
       "      <td>0.004434</td>\n",
       "      <td>0.004005</td>\n",
       "      <td>-0.010609</td>\n",
       "      <td>-0.004632</td>\n",
       "      <td>0.184524</td>\n",
       "    </tr>\n",
       "    <tr>\n",
       "      <th>CallsWeekDay_OUT_VUL_08</th>\n",
       "      <td>-0.005093</td>\n",
       "      <td>0.006910</td>\n",
       "      <td>0.022819</td>\n",
       "      <td>0.010474</td>\n",
       "      <td>0.003698</td>\n",
       "      <td>0.007634</td>\n",
       "      <td>-0.007907</td>\n",
       "      <td>0.054497</td>\n",
       "      <td>0.008928</td>\n",
       "      <td>-0.006415</td>\n",
       "      <td>...</td>\n",
       "      <td>0.005146</td>\n",
       "      <td>0.014515</td>\n",
       "      <td>-0.011370</td>\n",
       "      <td>0.034088</td>\n",
       "      <td>0.033260</td>\n",
       "      <td>0.009539</td>\n",
       "      <td>0.007902</td>\n",
       "      <td>-0.019400</td>\n",
       "      <td>-0.003112</td>\n",
       "      <td>0.269750</td>\n",
       "    </tr>\n",
       "    <tr>\n",
       "      <th>CallsWeekNight_OUT_VUL_08</th>\n",
       "      <td>-0.003264</td>\n",
       "      <td>0.005519</td>\n",
       "      <td>0.020745</td>\n",
       "      <td>0.016171</td>\n",
       "      <td>0.005857</td>\n",
       "      <td>0.004405</td>\n",
       "      <td>-0.003216</td>\n",
       "      <td>0.040938</td>\n",
       "      <td>0.011820</td>\n",
       "      <td>-0.007205</td>\n",
       "      <td>...</td>\n",
       "      <td>0.006797</td>\n",
       "      <td>0.015580</td>\n",
       "      <td>0.000752</td>\n",
       "      <td>0.025780</td>\n",
       "      <td>0.018442</td>\n",
       "      <td>0.011849</td>\n",
       "      <td>0.007524</td>\n",
       "      <td>-0.016145</td>\n",
       "      <td>-0.000926</td>\n",
       "      <td>0.204227</td>\n",
       "    </tr>\n",
       "    <tr>\n",
       "      <th>TimeWeekDay_OUT_VUL_08</th>\n",
       "      <td>-0.002518</td>\n",
       "      <td>0.005944</td>\n",
       "      <td>0.021624</td>\n",
       "      <td>0.019552</td>\n",
       "      <td>0.006605</td>\n",
       "      <td>0.010050</td>\n",
       "      <td>-0.005604</td>\n",
       "      <td>0.041742</td>\n",
       "      <td>0.008921</td>\n",
       "      <td>-0.006695</td>\n",
       "      <td>...</td>\n",
       "      <td>0.006995</td>\n",
       "      <td>0.022568</td>\n",
       "      <td>-0.007988</td>\n",
       "      <td>0.026013</td>\n",
       "      <td>0.021451</td>\n",
       "      <td>0.008060</td>\n",
       "      <td>0.004614</td>\n",
       "      <td>-0.013218</td>\n",
       "      <td>-0.003015</td>\n",
       "      <td>0.219227</td>\n",
       "    </tr>\n",
       "    <tr>\n",
       "      <th>CallsWeekEnd_OUT_VUL_08</th>\n",
       "      <td>-0.003870</td>\n",
       "      <td>0.008039</td>\n",
       "      <td>0.031579</td>\n",
       "      <td>0.014453</td>\n",
       "      <td>0.006563</td>\n",
       "      <td>0.007305</td>\n",
       "      <td>-0.004212</td>\n",
       "      <td>0.043001</td>\n",
       "      <td>0.012573</td>\n",
       "      <td>-0.008485</td>\n",
       "      <td>...</td>\n",
       "      <td>0.011156</td>\n",
       "      <td>0.021204</td>\n",
       "      <td>-0.010437</td>\n",
       "      <td>0.035460</td>\n",
       "      <td>0.037776</td>\n",
       "      <td>0.007255</td>\n",
       "      <td>0.011042</td>\n",
       "      <td>-0.019206</td>\n",
       "      <td>-0.004785</td>\n",
       "      <td>0.276961</td>\n",
       "    </tr>\n",
       "    <tr>\n",
       "      <th>TimeWeekNight_OUT_VUL_08</th>\n",
       "      <td>-0.001512</td>\n",
       "      <td>0.005546</td>\n",
       "      <td>0.017361</td>\n",
       "      <td>0.021260</td>\n",
       "      <td>0.007776</td>\n",
       "      <td>0.003720</td>\n",
       "      <td>-0.000993</td>\n",
       "      <td>0.029803</td>\n",
       "      <td>0.006228</td>\n",
       "      <td>-0.005694</td>\n",
       "      <td>...</td>\n",
       "      <td>0.006346</td>\n",
       "      <td>0.017259</td>\n",
       "      <td>0.002606</td>\n",
       "      <td>0.019920</td>\n",
       "      <td>0.008775</td>\n",
       "      <td>0.005019</td>\n",
       "      <td>0.002111</td>\n",
       "      <td>-0.010376</td>\n",
       "      <td>-0.001803</td>\n",
       "      <td>0.136674</td>\n",
       "    </tr>\n",
       "    <tr>\n",
       "      <th>...</th>\n",
       "      <td>...</td>\n",
       "      <td>...</td>\n",
       "      <td>...</td>\n",
       "      <td>...</td>\n",
       "      <td>...</td>\n",
       "      <td>...</td>\n",
       "      <td>...</td>\n",
       "      <td>...</td>\n",
       "      <td>...</td>\n",
       "      <td>...</td>\n",
       "      <td>...</td>\n",
       "      <td>...</td>\n",
       "      <td>...</td>\n",
       "      <td>...</td>\n",
       "      <td>...</td>\n",
       "      <td>...</td>\n",
       "      <td>...</td>\n",
       "      <td>...</td>\n",
       "      <td>...</td>\n",
       "      <td>...</td>\n",
       "      <td>...</td>\n",
       "    </tr>\n",
       "    <tr>\n",
       "      <th>VULNERABLE_IN_10</th>\n",
       "      <td>-0.004193</td>\n",
       "      <td>0.001197</td>\n",
       "      <td>0.033075</td>\n",
       "      <td>0.013855</td>\n",
       "      <td>0.002990</td>\n",
       "      <td>0.011747</td>\n",
       "      <td>-0.013464</td>\n",
       "      <td>0.051256</td>\n",
       "      <td>0.044566</td>\n",
       "      <td>-0.010687</td>\n",
       "      <td>...</td>\n",
       "      <td>0.011092</td>\n",
       "      <td>0.028520</td>\n",
       "      <td>-0.018613</td>\n",
       "      <td>0.066224</td>\n",
       "      <td>0.050190</td>\n",
       "      <td>0.006478</td>\n",
       "      <td>0.026859</td>\n",
       "      <td>-0.031073</td>\n",
       "      <td>-0.004071</td>\n",
       "      <td>0.424557</td>\n",
       "    </tr>\n",
       "    <tr>\n",
       "      <th>TimeWeekEnd_OUT_VUL_11</th>\n",
       "      <td>-0.003692</td>\n",
       "      <td>0.013539</td>\n",
       "      <td>0.027629</td>\n",
       "      <td>0.014937</td>\n",
       "      <td>0.010533</td>\n",
       "      <td>0.003698</td>\n",
       "      <td>0.000287</td>\n",
       "      <td>0.029331</td>\n",
       "      <td>0.004395</td>\n",
       "      <td>-0.005942</td>\n",
       "      <td>...</td>\n",
       "      <td>0.010775</td>\n",
       "      <td>0.024988</td>\n",
       "      <td>-0.003944</td>\n",
       "      <td>0.019434</td>\n",
       "      <td>0.029197</td>\n",
       "      <td>0.011562</td>\n",
       "      <td>0.003585</td>\n",
       "      <td>-0.011694</td>\n",
       "      <td>-0.002963</td>\n",
       "      <td>0.182726</td>\n",
       "    </tr>\n",
       "    <tr>\n",
       "      <th>CallsWeekDay_OUT_VUL_11</th>\n",
       "      <td>-0.004781</td>\n",
       "      <td>0.003969</td>\n",
       "      <td>0.021069</td>\n",
       "      <td>0.008217</td>\n",
       "      <td>0.003621</td>\n",
       "      <td>0.007650</td>\n",
       "      <td>-0.007807</td>\n",
       "      <td>0.047058</td>\n",
       "      <td>0.007832</td>\n",
       "      <td>-0.007811</td>\n",
       "      <td>...</td>\n",
       "      <td>0.004082</td>\n",
       "      <td>0.010823</td>\n",
       "      <td>-0.011795</td>\n",
       "      <td>0.036460</td>\n",
       "      <td>0.045922</td>\n",
       "      <td>0.011482</td>\n",
       "      <td>0.006202</td>\n",
       "      <td>-0.019938</td>\n",
       "      <td>-0.004348</td>\n",
       "      <td>0.252543</td>\n",
       "    </tr>\n",
       "    <tr>\n",
       "      <th>CallsWeekNight_OUT_VUL_11</th>\n",
       "      <td>-0.006815</td>\n",
       "      <td>0.008774</td>\n",
       "      <td>0.014043</td>\n",
       "      <td>0.012933</td>\n",
       "      <td>0.006811</td>\n",
       "      <td>0.002277</td>\n",
       "      <td>-0.005481</td>\n",
       "      <td>0.034143</td>\n",
       "      <td>0.017773</td>\n",
       "      <td>-0.006699</td>\n",
       "      <td>...</td>\n",
       "      <td>0.012590</td>\n",
       "      <td>0.007352</td>\n",
       "      <td>-0.002630</td>\n",
       "      <td>0.022506</td>\n",
       "      <td>0.024936</td>\n",
       "      <td>0.009238</td>\n",
       "      <td>0.005453</td>\n",
       "      <td>-0.014358</td>\n",
       "      <td>-0.000211</td>\n",
       "      <td>0.201037</td>\n",
       "    </tr>\n",
       "    <tr>\n",
       "      <th>TimeWeekDay_OUT_VUL_11</th>\n",
       "      <td>-0.003095</td>\n",
       "      <td>0.006637</td>\n",
       "      <td>0.020880</td>\n",
       "      <td>0.012790</td>\n",
       "      <td>0.006781</td>\n",
       "      <td>0.008077</td>\n",
       "      <td>-0.004749</td>\n",
       "      <td>0.035640</td>\n",
       "      <td>0.008759</td>\n",
       "      <td>-0.006974</td>\n",
       "      <td>...</td>\n",
       "      <td>0.007372</td>\n",
       "      <td>0.020895</td>\n",
       "      <td>-0.009391</td>\n",
       "      <td>0.029469</td>\n",
       "      <td>0.034002</td>\n",
       "      <td>0.011180</td>\n",
       "      <td>0.000109</td>\n",
       "      <td>-0.013663</td>\n",
       "      <td>-0.004241</td>\n",
       "      <td>0.213191</td>\n",
       "    </tr>\n",
       "    <tr>\n",
       "      <th>CallsWeekEnd_OUT_VUL_11</th>\n",
       "      <td>-0.006207</td>\n",
       "      <td>0.006947</td>\n",
       "      <td>0.026417</td>\n",
       "      <td>0.012116</td>\n",
       "      <td>0.007421</td>\n",
       "      <td>0.006071</td>\n",
       "      <td>-0.004674</td>\n",
       "      <td>0.044701</td>\n",
       "      <td>0.010023</td>\n",
       "      <td>-0.008201</td>\n",
       "      <td>...</td>\n",
       "      <td>0.010310</td>\n",
       "      <td>0.015790</td>\n",
       "      <td>-0.010051</td>\n",
       "      <td>0.030281</td>\n",
       "      <td>0.045937</td>\n",
       "      <td>0.012534</td>\n",
       "      <td>0.008819</td>\n",
       "      <td>-0.019423</td>\n",
       "      <td>-0.004038</td>\n",
       "      <td>0.259343</td>\n",
       "    </tr>\n",
       "    <tr>\n",
       "      <th>TimeWeekNight_OUT_VUL_11</th>\n",
       "      <td>-0.004131</td>\n",
       "      <td>0.010601</td>\n",
       "      <td>0.011909</td>\n",
       "      <td>0.017340</td>\n",
       "      <td>0.007931</td>\n",
       "      <td>0.001404</td>\n",
       "      <td>-0.002587</td>\n",
       "      <td>0.020480</td>\n",
       "      <td>0.015452</td>\n",
       "      <td>-0.005393</td>\n",
       "      <td>...</td>\n",
       "      <td>0.013089</td>\n",
       "      <td>0.009449</td>\n",
       "      <td>0.000036</td>\n",
       "      <td>0.018571</td>\n",
       "      <td>0.016695</td>\n",
       "      <td>0.003716</td>\n",
       "      <td>0.000996</td>\n",
       "      <td>-0.008525</td>\n",
       "      <td>-0.000303</td>\n",
       "      <td>0.153020</td>\n",
       "    </tr>\n",
       "    <tr>\n",
       "      <th>VULNERABLE_OUT_11</th>\n",
       "      <td>-0.005778</td>\n",
       "      <td>0.003973</td>\n",
       "      <td>0.031372</td>\n",
       "      <td>0.015558</td>\n",
       "      <td>0.003517</td>\n",
       "      <td>0.009329</td>\n",
       "      <td>-0.015593</td>\n",
       "      <td>0.052055</td>\n",
       "      <td>0.042504</td>\n",
       "      <td>-0.013350</td>\n",
       "      <td>...</td>\n",
       "      <td>0.010998</td>\n",
       "      <td>0.030731</td>\n",
       "      <td>-0.020525</td>\n",
       "      <td>0.061318</td>\n",
       "      <td>0.056029</td>\n",
       "      <td>0.014027</td>\n",
       "      <td>0.027783</td>\n",
       "      <td>-0.034425</td>\n",
       "      <td>-0.007241</td>\n",
       "      <td>0.426817</td>\n",
       "    </tr>\n",
       "    <tr>\n",
       "      <th>TimeWeekEnd_IN_VUL_11</th>\n",
       "      <td>-0.005490</td>\n",
       "      <td>0.005721</td>\n",
       "      <td>0.027349</td>\n",
       "      <td>0.017363</td>\n",
       "      <td>0.007786</td>\n",
       "      <td>0.010920</td>\n",
       "      <td>-0.002295</td>\n",
       "      <td>0.020550</td>\n",
       "      <td>0.003336</td>\n",
       "      <td>-0.004668</td>\n",
       "      <td>...</td>\n",
       "      <td>0.009427</td>\n",
       "      <td>0.015694</td>\n",
       "      <td>-0.002607</td>\n",
       "      <td>0.021235</td>\n",
       "      <td>0.017639</td>\n",
       "      <td>0.003046</td>\n",
       "      <td>0.006191</td>\n",
       "      <td>0.000141</td>\n",
       "      <td>-0.002766</td>\n",
       "      <td>0.157550</td>\n",
       "    </tr>\n",
       "    <tr>\n",
       "      <th>CallsWeekDay_IN_VUL_11</th>\n",
       "      <td>-0.002453</td>\n",
       "      <td>-0.001203</td>\n",
       "      <td>0.021940</td>\n",
       "      <td>0.005609</td>\n",
       "      <td>0.005045</td>\n",
       "      <td>0.010540</td>\n",
       "      <td>-0.008974</td>\n",
       "      <td>0.043805</td>\n",
       "      <td>0.009536</td>\n",
       "      <td>-0.007155</td>\n",
       "      <td>...</td>\n",
       "      <td>0.001486</td>\n",
       "      <td>0.007975</td>\n",
       "      <td>-0.012094</td>\n",
       "      <td>0.034451</td>\n",
       "      <td>0.039584</td>\n",
       "      <td>0.007226</td>\n",
       "      <td>0.008605</td>\n",
       "      <td>-0.016324</td>\n",
       "      <td>-0.003841</td>\n",
       "      <td>0.246275</td>\n",
       "    </tr>\n",
       "    <tr>\n",
       "      <th>CallsWeekNight_IN_VUL_11</th>\n",
       "      <td>-0.006235</td>\n",
       "      <td>0.003159</td>\n",
       "      <td>0.015082</td>\n",
       "      <td>0.006293</td>\n",
       "      <td>0.003428</td>\n",
       "      <td>0.006076</td>\n",
       "      <td>-0.003375</td>\n",
       "      <td>0.026184</td>\n",
       "      <td>0.016550</td>\n",
       "      <td>-0.005675</td>\n",
       "      <td>...</td>\n",
       "      <td>0.008924</td>\n",
       "      <td>0.003482</td>\n",
       "      <td>-0.004982</td>\n",
       "      <td>0.019188</td>\n",
       "      <td>0.020641</td>\n",
       "      <td>0.003625</td>\n",
       "      <td>0.008154</td>\n",
       "      <td>-0.007481</td>\n",
       "      <td>-0.001395</td>\n",
       "      <td>0.168355</td>\n",
       "    </tr>\n",
       "    <tr>\n",
       "      <th>TimeWeekDay_IN_VUL_11</th>\n",
       "      <td>0.000621</td>\n",
       "      <td>0.000688</td>\n",
       "      <td>0.016592</td>\n",
       "      <td>0.010498</td>\n",
       "      <td>0.010784</td>\n",
       "      <td>0.009841</td>\n",
       "      <td>-0.005861</td>\n",
       "      <td>0.030117</td>\n",
       "      <td>0.008510</td>\n",
       "      <td>-0.006000</td>\n",
       "      <td>...</td>\n",
       "      <td>0.005074</td>\n",
       "      <td>0.011350</td>\n",
       "      <td>-0.007910</td>\n",
       "      <td>0.025338</td>\n",
       "      <td>0.023224</td>\n",
       "      <td>0.005785</td>\n",
       "      <td>0.003164</td>\n",
       "      <td>-0.006285</td>\n",
       "      <td>-0.002729</td>\n",
       "      <td>0.186323</td>\n",
       "    </tr>\n",
       "    <tr>\n",
       "      <th>CallsWeekEnd_IN_VUL_11</th>\n",
       "      <td>-0.005034</td>\n",
       "      <td>0.001758</td>\n",
       "      <td>0.023248</td>\n",
       "      <td>0.013378</td>\n",
       "      <td>0.003236</td>\n",
       "      <td>0.011634</td>\n",
       "      <td>-0.006833</td>\n",
       "      <td>0.033717</td>\n",
       "      <td>0.013922</td>\n",
       "      <td>-0.007353</td>\n",
       "      <td>...</td>\n",
       "      <td>0.007785</td>\n",
       "      <td>0.011242</td>\n",
       "      <td>-0.010838</td>\n",
       "      <td>0.033585</td>\n",
       "      <td>0.036898</td>\n",
       "      <td>0.004237</td>\n",
       "      <td>0.010973</td>\n",
       "      <td>-0.013611</td>\n",
       "      <td>-0.004210</td>\n",
       "      <td>0.249742</td>\n",
       "    </tr>\n",
       "    <tr>\n",
       "      <th>TimeWeekNight_IN_VUL_11</th>\n",
       "      <td>-0.003863</td>\n",
       "      <td>0.003433</td>\n",
       "      <td>0.013605</td>\n",
       "      <td>0.008532</td>\n",
       "      <td>0.005946</td>\n",
       "      <td>0.005641</td>\n",
       "      <td>-0.000109</td>\n",
       "      <td>0.013584</td>\n",
       "      <td>0.011320</td>\n",
       "      <td>-0.004385</td>\n",
       "      <td>...</td>\n",
       "      <td>0.009421</td>\n",
       "      <td>0.004015</td>\n",
       "      <td>0.000470</td>\n",
       "      <td>0.014289</td>\n",
       "      <td>0.013917</td>\n",
       "      <td>0.001110</td>\n",
       "      <td>0.004270</td>\n",
       "      <td>0.000600</td>\n",
       "      <td>0.000572</td>\n",
       "      <td>0.117964</td>\n",
       "    </tr>\n",
       "    <tr>\n",
       "      <th>VULNERABLE_IN_11</th>\n",
       "      <td>-0.006021</td>\n",
       "      <td>0.002695</td>\n",
       "      <td>0.033154</td>\n",
       "      <td>0.017049</td>\n",
       "      <td>0.003195</td>\n",
       "      <td>0.010726</td>\n",
       "      <td>-0.012573</td>\n",
       "      <td>0.052528</td>\n",
       "      <td>0.042883</td>\n",
       "      <td>-0.011535</td>\n",
       "      <td>...</td>\n",
       "      <td>0.008727</td>\n",
       "      <td>0.027476</td>\n",
       "      <td>-0.020352</td>\n",
       "      <td>0.062565</td>\n",
       "      <td>0.053630</td>\n",
       "      <td>0.010594</td>\n",
       "      <td>0.026082</td>\n",
       "      <td>-0.032739</td>\n",
       "      <td>-0.001627</td>\n",
       "      <td>0.428664</td>\n",
       "    </tr>\n",
       "    <tr>\n",
       "      <th>STATE_Baja_California</th>\n",
       "      <td>-0.014644</td>\n",
       "      <td>1.000000</td>\n",
       "      <td>-0.005298</td>\n",
       "      <td>-0.011963</td>\n",
       "      <td>-0.018099</td>\n",
       "      <td>-0.008753</td>\n",
       "      <td>-0.009794</td>\n",
       "      <td>-0.009295</td>\n",
       "      <td>-0.076585</td>\n",
       "      <td>-0.007163</td>\n",
       "      <td>...</td>\n",
       "      <td>-0.018083</td>\n",
       "      <td>-0.016824</td>\n",
       "      <td>-0.016570</td>\n",
       "      <td>-0.011031</td>\n",
       "      <td>-0.007984</td>\n",
       "      <td>-0.010696</td>\n",
       "      <td>-0.018521</td>\n",
       "      <td>-0.022877</td>\n",
       "      <td>-0.007183</td>\n",
       "      <td>0.012115</td>\n",
       "    </tr>\n",
       "    <tr>\n",
       "      <th>STATE_Baja_California_Sur</th>\n",
       "      <td>-0.005820</td>\n",
       "      <td>-0.005298</td>\n",
       "      <td>1.000000</td>\n",
       "      <td>-0.004755</td>\n",
       "      <td>-0.007194</td>\n",
       "      <td>-0.003479</td>\n",
       "      <td>-0.003893</td>\n",
       "      <td>-0.003695</td>\n",
       "      <td>-0.030440</td>\n",
       "      <td>-0.002847</td>\n",
       "      <td>...</td>\n",
       "      <td>-0.007187</td>\n",
       "      <td>-0.006687</td>\n",
       "      <td>-0.006586</td>\n",
       "      <td>-0.004384</td>\n",
       "      <td>-0.003173</td>\n",
       "      <td>-0.004251</td>\n",
       "      <td>-0.007361</td>\n",
       "      <td>-0.009093</td>\n",
       "      <td>-0.002855</td>\n",
       "      <td>0.052348</td>\n",
       "    </tr>\n",
       "    <tr>\n",
       "      <th>STATE_Campeche</th>\n",
       "      <td>-0.013142</td>\n",
       "      <td>-0.011963</td>\n",
       "      <td>-0.004755</td>\n",
       "      <td>1.000000</td>\n",
       "      <td>-0.016243</td>\n",
       "      <td>-0.007856</td>\n",
       "      <td>-0.008789</td>\n",
       "      <td>-0.008342</td>\n",
       "      <td>-0.068732</td>\n",
       "      <td>-0.006429</td>\n",
       "      <td>...</td>\n",
       "      <td>-0.016229</td>\n",
       "      <td>-0.015099</td>\n",
       "      <td>-0.014871</td>\n",
       "      <td>-0.009900</td>\n",
       "      <td>-0.007165</td>\n",
       "      <td>-0.009599</td>\n",
       "      <td>-0.016622</td>\n",
       "      <td>-0.020532</td>\n",
       "      <td>-0.006446</td>\n",
       "      <td>0.022708</td>\n",
       "    </tr>\n",
       "    <tr>\n",
       "      <th>STATE_Chihuahua</th>\n",
       "      <td>-0.009617</td>\n",
       "      <td>-0.008753</td>\n",
       "      <td>-0.003479</td>\n",
       "      <td>-0.007856</td>\n",
       "      <td>-0.011886</td>\n",
       "      <td>1.000000</td>\n",
       "      <td>-0.006431</td>\n",
       "      <td>-0.006104</td>\n",
       "      <td>-0.050293</td>\n",
       "      <td>-0.004704</td>\n",
       "      <td>...</td>\n",
       "      <td>-0.011875</td>\n",
       "      <td>-0.011048</td>\n",
       "      <td>-0.010882</td>\n",
       "      <td>-0.007244</td>\n",
       "      <td>-0.005243</td>\n",
       "      <td>-0.007024</td>\n",
       "      <td>-0.012163</td>\n",
       "      <td>-0.015024</td>\n",
       "      <td>-0.004717</td>\n",
       "      <td>0.024626</td>\n",
       "    </tr>\n",
       "    <tr>\n",
       "      <th>STATE_Colima</th>\n",
       "      <td>-0.010212</td>\n",
       "      <td>-0.009295</td>\n",
       "      <td>-0.003695</td>\n",
       "      <td>-0.008342</td>\n",
       "      <td>-0.012622</td>\n",
       "      <td>-0.006104</td>\n",
       "      <td>-0.006830</td>\n",
       "      <td>1.000000</td>\n",
       "      <td>-0.053407</td>\n",
       "      <td>-0.004995</td>\n",
       "      <td>...</td>\n",
       "      <td>-0.012610</td>\n",
       "      <td>-0.011732</td>\n",
       "      <td>-0.011555</td>\n",
       "      <td>-0.007692</td>\n",
       "      <td>-0.005568</td>\n",
       "      <td>-0.007459</td>\n",
       "      <td>-0.012916</td>\n",
       "      <td>-0.015954</td>\n",
       "      <td>-0.005009</td>\n",
       "      <td>0.047619</td>\n",
       "    </tr>\n",
       "    <tr>\n",
       "      <th>STATE_Distrito_Federal</th>\n",
       "      <td>-0.084137</td>\n",
       "      <td>-0.076585</td>\n",
       "      <td>-0.030440</td>\n",
       "      <td>-0.068732</td>\n",
       "      <td>-0.103990</td>\n",
       "      <td>-0.050293</td>\n",
       "      <td>-0.056270</td>\n",
       "      <td>-0.053407</td>\n",
       "      <td>1.000000</td>\n",
       "      <td>-0.041157</td>\n",
       "      <td>...</td>\n",
       "      <td>-0.103897</td>\n",
       "      <td>-0.096661</td>\n",
       "      <td>-0.095205</td>\n",
       "      <td>-0.063378</td>\n",
       "      <td>-0.045872</td>\n",
       "      <td>-0.061456</td>\n",
       "      <td>-0.106415</td>\n",
       "      <td>-0.131444</td>\n",
       "      <td>-0.041270</td>\n",
       "      <td>0.020992</td>\n",
       "    </tr>\n",
       "    <tr>\n",
       "      <th>STATE_Nayarit</th>\n",
       "      <td>-0.013816</td>\n",
       "      <td>-0.012575</td>\n",
       "      <td>-0.004998</td>\n",
       "      <td>-0.011286</td>\n",
       "      <td>-0.017075</td>\n",
       "      <td>-0.008258</td>\n",
       "      <td>-0.009240</td>\n",
       "      <td>-0.008770</td>\n",
       "      <td>-0.072254</td>\n",
       "      <td>-0.006758</td>\n",
       "      <td>...</td>\n",
       "      <td>-0.017060</td>\n",
       "      <td>-0.015872</td>\n",
       "      <td>-0.015633</td>\n",
       "      <td>-0.010407</td>\n",
       "      <td>-0.007532</td>\n",
       "      <td>-0.010091</td>\n",
       "      <td>-0.017474</td>\n",
       "      <td>-0.021583</td>\n",
       "      <td>-0.006777</td>\n",
       "      <td>0.053651</td>\n",
       "    </tr>\n",
       "    <tr>\n",
       "      <th>STATE_Nuevo_Leon</th>\n",
       "      <td>-0.026312</td>\n",
       "      <td>-0.023950</td>\n",
       "      <td>-0.009519</td>\n",
       "      <td>-0.021495</td>\n",
       "      <td>-0.032521</td>\n",
       "      <td>-0.015728</td>\n",
       "      <td>-0.017597</td>\n",
       "      <td>-0.016702</td>\n",
       "      <td>-0.137609</td>\n",
       "      <td>-0.012871</td>\n",
       "      <td>...</td>\n",
       "      <td>-0.032491</td>\n",
       "      <td>-0.030229</td>\n",
       "      <td>-0.029773</td>\n",
       "      <td>-0.019820</td>\n",
       "      <td>-0.014346</td>\n",
       "      <td>-0.019219</td>\n",
       "      <td>-0.033279</td>\n",
       "      <td>-0.041106</td>\n",
       "      <td>-0.012906</td>\n",
       "      <td>0.023851</td>\n",
       "    </tr>\n",
       "    <tr>\n",
       "      <th>STATE_Queretaro</th>\n",
       "      <td>-0.019866</td>\n",
       "      <td>-0.018083</td>\n",
       "      <td>-0.007187</td>\n",
       "      <td>-0.016229</td>\n",
       "      <td>-0.024554</td>\n",
       "      <td>-0.011875</td>\n",
       "      <td>-0.013286</td>\n",
       "      <td>-0.012610</td>\n",
       "      <td>-0.103897</td>\n",
       "      <td>-0.009718</td>\n",
       "      <td>...</td>\n",
       "      <td>1.000000</td>\n",
       "      <td>-0.022823</td>\n",
       "      <td>-0.022479</td>\n",
       "      <td>-0.014965</td>\n",
       "      <td>-0.010831</td>\n",
       "      <td>-0.014511</td>\n",
       "      <td>-0.025126</td>\n",
       "      <td>-0.031036</td>\n",
       "      <td>-0.009745</td>\n",
       "      <td>0.011321</td>\n",
       "    </tr>\n",
       "    <tr>\n",
       "      <th>STATE_Quintana_Roo</th>\n",
       "      <td>-0.018483</td>\n",
       "      <td>-0.016824</td>\n",
       "      <td>-0.006687</td>\n",
       "      <td>-0.015099</td>\n",
       "      <td>-0.022844</td>\n",
       "      <td>-0.011048</td>\n",
       "      <td>-0.012361</td>\n",
       "      <td>-0.011732</td>\n",
       "      <td>-0.096661</td>\n",
       "      <td>-0.009041</td>\n",
       "      <td>...</td>\n",
       "      <td>-0.022823</td>\n",
       "      <td>1.000000</td>\n",
       "      <td>-0.020914</td>\n",
       "      <td>-0.013922</td>\n",
       "      <td>-0.010077</td>\n",
       "      <td>-0.013500</td>\n",
       "      <td>-0.023376</td>\n",
       "      <td>-0.028874</td>\n",
       "      <td>-0.009066</td>\n",
       "      <td>0.048402</td>\n",
       "    </tr>\n",
       "    <tr>\n",
       "      <th>STATE_Sinaloa</th>\n",
       "      <td>-0.012119</td>\n",
       "      <td>-0.011031</td>\n",
       "      <td>-0.004384</td>\n",
       "      <td>-0.009900</td>\n",
       "      <td>-0.014978</td>\n",
       "      <td>-0.007244</td>\n",
       "      <td>-0.008105</td>\n",
       "      <td>-0.007692</td>\n",
       "      <td>-0.063378</td>\n",
       "      <td>-0.005928</td>\n",
       "      <td>...</td>\n",
       "      <td>-0.014965</td>\n",
       "      <td>-0.013922</td>\n",
       "      <td>-0.013713</td>\n",
       "      <td>1.000000</td>\n",
       "      <td>-0.006607</td>\n",
       "      <td>-0.008852</td>\n",
       "      <td>-0.015327</td>\n",
       "      <td>-0.018932</td>\n",
       "      <td>-0.005944</td>\n",
       "      <td>0.082060</td>\n",
       "    </tr>\n",
       "    <tr>\n",
       "      <th>STATE_Sonora</th>\n",
       "      <td>-0.008771</td>\n",
       "      <td>-0.007984</td>\n",
       "      <td>-0.003173</td>\n",
       "      <td>-0.007165</td>\n",
       "      <td>-0.010841</td>\n",
       "      <td>-0.005243</td>\n",
       "      <td>-0.005866</td>\n",
       "      <td>-0.005568</td>\n",
       "      <td>-0.045872</td>\n",
       "      <td>-0.004291</td>\n",
       "      <td>...</td>\n",
       "      <td>-0.010831</td>\n",
       "      <td>-0.010077</td>\n",
       "      <td>-0.009925</td>\n",
       "      <td>-0.006607</td>\n",
       "      <td>1.000000</td>\n",
       "      <td>-0.006407</td>\n",
       "      <td>-0.011094</td>\n",
       "      <td>-0.013703</td>\n",
       "      <td>-0.004302</td>\n",
       "      <td>0.071736</td>\n",
       "    </tr>\n",
       "    <tr>\n",
       "      <th>STATE_Tamaulipas</th>\n",
       "      <td>-0.011751</td>\n",
       "      <td>-0.010696</td>\n",
       "      <td>-0.004251</td>\n",
       "      <td>-0.009599</td>\n",
       "      <td>-0.014524</td>\n",
       "      <td>-0.007024</td>\n",
       "      <td>-0.007859</td>\n",
       "      <td>-0.007459</td>\n",
       "      <td>-0.061456</td>\n",
       "      <td>-0.005748</td>\n",
       "      <td>...</td>\n",
       "      <td>-0.014511</td>\n",
       "      <td>-0.013500</td>\n",
       "      <td>-0.013297</td>\n",
       "      <td>-0.008852</td>\n",
       "      <td>-0.006407</td>\n",
       "      <td>1.000000</td>\n",
       "      <td>-0.014862</td>\n",
       "      <td>-0.018358</td>\n",
       "      <td>-0.005764</td>\n",
       "      <td>0.032518</td>\n",
       "    </tr>\n",
       "    <tr>\n",
       "      <th>STATE_Tlaxcala</th>\n",
       "      <td>-0.020348</td>\n",
       "      <td>-0.018521</td>\n",
       "      <td>-0.007361</td>\n",
       "      <td>-0.016622</td>\n",
       "      <td>-0.025149</td>\n",
       "      <td>-0.012163</td>\n",
       "      <td>-0.013608</td>\n",
       "      <td>-0.012916</td>\n",
       "      <td>-0.106415</td>\n",
       "      <td>-0.009953</td>\n",
       "      <td>...</td>\n",
       "      <td>-0.025126</td>\n",
       "      <td>-0.023376</td>\n",
       "      <td>-0.023024</td>\n",
       "      <td>-0.015327</td>\n",
       "      <td>-0.011094</td>\n",
       "      <td>-0.014862</td>\n",
       "      <td>1.000000</td>\n",
       "      <td>-0.031788</td>\n",
       "      <td>-0.009981</td>\n",
       "      <td>0.082248</td>\n",
       "    </tr>\n",
       "    <tr>\n",
       "      <th>target</th>\n",
       "      <td>-0.016927</td>\n",
       "      <td>0.012115</td>\n",
       "      <td>0.052348</td>\n",
       "      <td>0.022708</td>\n",
       "      <td>0.003955</td>\n",
       "      <td>0.024626</td>\n",
       "      <td>-0.014528</td>\n",
       "      <td>0.047619</td>\n",
       "      <td>0.020992</td>\n",
       "      <td>-0.009678</td>\n",
       "      <td>...</td>\n",
       "      <td>0.011321</td>\n",
       "      <td>0.048402</td>\n",
       "      <td>-0.036068</td>\n",
       "      <td>0.082060</td>\n",
       "      <td>0.071736</td>\n",
       "      <td>0.032518</td>\n",
       "      <td>0.082248</td>\n",
       "      <td>-0.040095</td>\n",
       "      <td>-0.004728</td>\n",
       "      <td>1.000000</td>\n",
       "    </tr>\n",
       "  </tbody>\n",
       "</table>\n",
       "<p>95 rows × 25 columns</p>\n",
       "</div>"
      ],
      "text/plain": [
       "                             STATE_Aguascalientes  STATE_Baja_California  \\\n",
       "COUNT_WEEKNIGHT_2                       -0.000895               0.021146   \n",
       "COUNT_WEEKNIGHT_3                       -0.001007               0.014187   \n",
       "COUNT_WEEKNIGHT_4                       -0.000930               0.011890   \n",
       "COUNT_WEEKNIGHT_5                       -0.001243               0.010038   \n",
       "COUNT_WEEKNIGHT_6                       -0.003201               0.005147   \n",
       "COUNT_WEEKNIGHT_7                       -0.005015               0.003935   \n",
       "COUNT_WEEKNIGHT_8                       -0.006934               0.003239   \n",
       "COUNT_WEEKNIGHT_9                       -0.010174               0.001869   \n",
       "MOBILITY_DIAMETER                        0.051504               0.168579   \n",
       "MOBILITY_DIAMETER_WEEKNIGHT              0.052704               0.168059   \n",
       "TimeWeekEnd_OUT_VUL_12                  -0.003097               0.005009   \n",
       "CallsWeekDay_OUT_VUL_12                 -0.006663               0.001368   \n",
       "CallsWeekNight_OUT_VUL_12               -0.008068               0.002172   \n",
       "TimeWeekDay_OUT_VUL_12                  -0.004318               0.003239   \n",
       "CallsWeekEnd_OUT_VUL_12                 -0.005448               0.002596   \n",
       "TimeWeekNight_OUT_VUL_12                -0.005369               0.002927   \n",
       "VULNERABLE_OUT_12                       -0.009783               0.004280   \n",
       "TimeWeekEnd_IN_VUL_12                   -0.001719               0.003850   \n",
       "CallsWeekDay_IN_VUL_12                  -0.004959              -0.000241   \n",
       "CallsWeekNight_IN_VUL_12                -0.004018               0.000200   \n",
       "TimeWeekDay_IN_VUL_12                   -0.001808              -0.000883   \n",
       "CallsWeekEnd_IN_VUL_12                  -0.003609               0.000542   \n",
       "TimeWeekNight_IN_VUL_12                 -0.001353               0.000427   \n",
       "VULNERABLE_IN_12                        -0.008877               0.004497   \n",
       "TimeWeekEnd_OUT_VUL_08                  -0.002377               0.012169   \n",
       "CallsWeekDay_OUT_VUL_08                 -0.005093               0.006910   \n",
       "CallsWeekNight_OUT_VUL_08               -0.003264               0.005519   \n",
       "TimeWeekDay_OUT_VUL_08                  -0.002518               0.005944   \n",
       "CallsWeekEnd_OUT_VUL_08                 -0.003870               0.008039   \n",
       "TimeWeekNight_OUT_VUL_08                -0.001512               0.005546   \n",
       "...                                           ...                    ...   \n",
       "VULNERABLE_IN_10                        -0.004193               0.001197   \n",
       "TimeWeekEnd_OUT_VUL_11                  -0.003692               0.013539   \n",
       "CallsWeekDay_OUT_VUL_11                 -0.004781               0.003969   \n",
       "CallsWeekNight_OUT_VUL_11               -0.006815               0.008774   \n",
       "TimeWeekDay_OUT_VUL_11                  -0.003095               0.006637   \n",
       "CallsWeekEnd_OUT_VUL_11                 -0.006207               0.006947   \n",
       "TimeWeekNight_OUT_VUL_11                -0.004131               0.010601   \n",
       "VULNERABLE_OUT_11                       -0.005778               0.003973   \n",
       "TimeWeekEnd_IN_VUL_11                   -0.005490               0.005721   \n",
       "CallsWeekDay_IN_VUL_11                  -0.002453              -0.001203   \n",
       "CallsWeekNight_IN_VUL_11                -0.006235               0.003159   \n",
       "TimeWeekDay_IN_VUL_11                    0.000621               0.000688   \n",
       "CallsWeekEnd_IN_VUL_11                  -0.005034               0.001758   \n",
       "TimeWeekNight_IN_VUL_11                 -0.003863               0.003433   \n",
       "VULNERABLE_IN_11                        -0.006021               0.002695   \n",
       "STATE_Baja_California                   -0.014644               1.000000   \n",
       "STATE_Baja_California_Sur               -0.005820              -0.005298   \n",
       "STATE_Campeche                          -0.013142              -0.011963   \n",
       "STATE_Chihuahua                         -0.009617              -0.008753   \n",
       "STATE_Colima                            -0.010212              -0.009295   \n",
       "STATE_Distrito_Federal                  -0.084137              -0.076585   \n",
       "STATE_Nayarit                           -0.013816              -0.012575   \n",
       "STATE_Nuevo_Leon                        -0.026312              -0.023950   \n",
       "STATE_Queretaro                         -0.019866              -0.018083   \n",
       "STATE_Quintana_Roo                      -0.018483              -0.016824   \n",
       "STATE_Sinaloa                           -0.012119              -0.011031   \n",
       "STATE_Sonora                            -0.008771              -0.007984   \n",
       "STATE_Tamaulipas                        -0.011751              -0.010696   \n",
       "STATE_Tlaxcala                          -0.020348              -0.018521   \n",
       "target                                  -0.016927               0.012115   \n",
       "\n",
       "                             STATE_Baja_California_Sur  STATE_Campeche  \\\n",
       "COUNT_WEEKNIGHT_2                             0.012556        0.013129   \n",
       "COUNT_WEEKNIGHT_3                             0.012526        0.011088   \n",
       "COUNT_WEEKNIGHT_4                             0.012197        0.004408   \n",
       "COUNT_WEEKNIGHT_5                             0.008979       -0.001981   \n",
       "COUNT_WEEKNIGHT_6                             0.007539       -0.007744   \n",
       "COUNT_WEEKNIGHT_7                             0.004449       -0.014008   \n",
       "COUNT_WEEKNIGHT_8                             0.002676       -0.017321   \n",
       "COUNT_WEEKNIGHT_9                            -0.000127       -0.022367   \n",
       "MOBILITY_DIAMETER                             0.033866        0.006370   \n",
       "MOBILITY_DIAMETER_WEEKNIGHT                   0.034028        0.005917   \n",
       "TimeWeekEnd_OUT_VUL_12                        0.024029        0.016438   \n",
       "CallsWeekDay_OUT_VUL_12                       0.019090        0.009059   \n",
       "CallsWeekNight_OUT_VUL_12                     0.022683        0.016151   \n",
       "TimeWeekDay_OUT_VUL_12                        0.020917        0.016356   \n",
       "CallsWeekEnd_OUT_VUL_12                       0.023223        0.013212   \n",
       "TimeWeekNight_OUT_VUL_12                      0.021525        0.021899   \n",
       "VULNERABLE_OUT_12                             0.034464        0.019385   \n",
       "TimeWeekEnd_IN_VUL_12                         0.021240        0.016723   \n",
       "CallsWeekDay_IN_VUL_12                        0.016010        0.005600   \n",
       "CallsWeekNight_IN_VUL_12                      0.011398        0.002886   \n",
       "TimeWeekDay_IN_VUL_12                         0.018853        0.013643   \n",
       "CallsWeekEnd_IN_VUL_12                        0.017330        0.010910   \n",
       "TimeWeekNight_IN_VUL_12                       0.019726        0.008355   \n",
       "VULNERABLE_IN_12                              0.033145        0.020495   \n",
       "TimeWeekEnd_OUT_VUL_08                        0.029367        0.020475   \n",
       "CallsWeekDay_OUT_VUL_08                       0.022819        0.010474   \n",
       "CallsWeekNight_OUT_VUL_08                     0.020745        0.016171   \n",
       "TimeWeekDay_OUT_VUL_08                        0.021624        0.019552   \n",
       "CallsWeekEnd_OUT_VUL_08                       0.031579        0.014453   \n",
       "TimeWeekNight_OUT_VUL_08                      0.017361        0.021260   \n",
       "...                                                ...             ...   \n",
       "VULNERABLE_IN_10                              0.033075        0.013855   \n",
       "TimeWeekEnd_OUT_VUL_11                        0.027629        0.014937   \n",
       "CallsWeekDay_OUT_VUL_11                       0.021069        0.008217   \n",
       "CallsWeekNight_OUT_VUL_11                     0.014043        0.012933   \n",
       "TimeWeekDay_OUT_VUL_11                        0.020880        0.012790   \n",
       "CallsWeekEnd_OUT_VUL_11                       0.026417        0.012116   \n",
       "TimeWeekNight_OUT_VUL_11                      0.011909        0.017340   \n",
       "VULNERABLE_OUT_11                             0.031372        0.015558   \n",
       "TimeWeekEnd_IN_VUL_11                         0.027349        0.017363   \n",
       "CallsWeekDay_IN_VUL_11                        0.021940        0.005609   \n",
       "CallsWeekNight_IN_VUL_11                      0.015082        0.006293   \n",
       "TimeWeekDay_IN_VUL_11                         0.016592        0.010498   \n",
       "CallsWeekEnd_IN_VUL_11                        0.023248        0.013378   \n",
       "TimeWeekNight_IN_VUL_11                       0.013605        0.008532   \n",
       "VULNERABLE_IN_11                              0.033154        0.017049   \n",
       "STATE_Baja_California                        -0.005298       -0.011963   \n",
       "STATE_Baja_California_Sur                     1.000000       -0.004755   \n",
       "STATE_Campeche                               -0.004755        1.000000   \n",
       "STATE_Chihuahua                              -0.003479       -0.007856   \n",
       "STATE_Colima                                 -0.003695       -0.008342   \n",
       "STATE_Distrito_Federal                       -0.030440       -0.068732   \n",
       "STATE_Nayarit                                -0.004998       -0.011286   \n",
       "STATE_Nuevo_Leon                             -0.009519       -0.021495   \n",
       "STATE_Queretaro                              -0.007187       -0.016229   \n",
       "STATE_Quintana_Roo                           -0.006687       -0.015099   \n",
       "STATE_Sinaloa                                -0.004384       -0.009900   \n",
       "STATE_Sonora                                 -0.003173       -0.007165   \n",
       "STATE_Tamaulipas                             -0.004251       -0.009599   \n",
       "STATE_Tlaxcala                               -0.007361       -0.016622   \n",
       "target                                        0.052348        0.022708   \n",
       "\n",
       "                             STATE_Chiapas  STATE_Chihuahua  \\\n",
       "COUNT_WEEKNIGHT_2                 0.001727         0.012847   \n",
       "COUNT_WEEKNIGHT_3                -0.004106         0.010529   \n",
       "COUNT_WEEKNIGHT_4                -0.006292         0.008059   \n",
       "COUNT_WEEKNIGHT_5                -0.009550         0.004635   \n",
       "COUNT_WEEKNIGHT_6                -0.012436         0.004009   \n",
       "COUNT_WEEKNIGHT_7                -0.016057         0.002041   \n",
       "COUNT_WEEKNIGHT_8                -0.020312         0.001193   \n",
       "COUNT_WEEKNIGHT_9                -0.023293        -0.000224   \n",
       "MOBILITY_DIAMETER                -0.015420         0.027303   \n",
       "MOBILITY_DIAMETER_WEEKNIGHT      -0.010433         0.027544   \n",
       "TimeWeekEnd_OUT_VUL_12            0.005347         0.001237   \n",
       "CallsWeekDay_OUT_VUL_12           0.003318         0.007168   \n",
       "CallsWeekNight_OUT_VUL_12         0.000873         0.005149   \n",
       "TimeWeekDay_OUT_VUL_12            0.004905         0.006080   \n",
       "CallsWeekEnd_OUT_VUL_12           0.003834         0.003367   \n",
       "TimeWeekNight_OUT_VUL_12          0.003077         0.007896   \n",
       "VULNERABLE_OUT_12                 0.006132         0.008001   \n",
       "TimeWeekEnd_IN_VUL_12             0.009774         0.007463   \n",
       "CallsWeekDay_IN_VUL_12            0.001613         0.009527   \n",
       "CallsWeekNight_IN_VUL_12          0.000461         0.002262   \n",
       "TimeWeekDay_IN_VUL_12             0.004618         0.009579   \n",
       "CallsWeekEnd_IN_VUL_12            0.003517         0.007217   \n",
       "TimeWeekNight_IN_VUL_12           0.005099         0.002329   \n",
       "VULNERABLE_IN_12                  0.005494         0.008363   \n",
       "TimeWeekEnd_OUT_VUL_08            0.010669         0.007767   \n",
       "CallsWeekDay_OUT_VUL_08           0.003698         0.007634   \n",
       "CallsWeekNight_OUT_VUL_08         0.005857         0.004405   \n",
       "TimeWeekDay_OUT_VUL_08            0.006605         0.010050   \n",
       "CallsWeekEnd_OUT_VUL_08           0.006563         0.007305   \n",
       "TimeWeekNight_OUT_VUL_08          0.007776         0.003720   \n",
       "...                                    ...              ...   \n",
       "VULNERABLE_IN_10                  0.002990         0.011747   \n",
       "TimeWeekEnd_OUT_VUL_11            0.010533         0.003698   \n",
       "CallsWeekDay_OUT_VUL_11           0.003621         0.007650   \n",
       "CallsWeekNight_OUT_VUL_11         0.006811         0.002277   \n",
       "TimeWeekDay_OUT_VUL_11            0.006781         0.008077   \n",
       "CallsWeekEnd_OUT_VUL_11           0.007421         0.006071   \n",
       "TimeWeekNight_OUT_VUL_11          0.007931         0.001404   \n",
       "VULNERABLE_OUT_11                 0.003517         0.009329   \n",
       "TimeWeekEnd_IN_VUL_11             0.007786         0.010920   \n",
       "CallsWeekDay_IN_VUL_11            0.005045         0.010540   \n",
       "CallsWeekNight_IN_VUL_11          0.003428         0.006076   \n",
       "TimeWeekDay_IN_VUL_11             0.010784         0.009841   \n",
       "CallsWeekEnd_IN_VUL_11            0.003236         0.011634   \n",
       "TimeWeekNight_IN_VUL_11           0.005946         0.005641   \n",
       "VULNERABLE_IN_11                  0.003195         0.010726   \n",
       "STATE_Baja_California            -0.018099        -0.008753   \n",
       "STATE_Baja_California_Sur        -0.007194        -0.003479   \n",
       "STATE_Campeche                   -0.016243        -0.007856   \n",
       "STATE_Chihuahua                  -0.011886         1.000000   \n",
       "STATE_Colima                     -0.012622        -0.006104   \n",
       "STATE_Distrito_Federal           -0.103990        -0.050293   \n",
       "STATE_Nayarit                    -0.017075        -0.008258   \n",
       "STATE_Nuevo_Leon                 -0.032521        -0.015728   \n",
       "STATE_Queretaro                  -0.024554        -0.011875   \n",
       "STATE_Quintana_Roo               -0.022844        -0.011048   \n",
       "STATE_Sinaloa                    -0.014978        -0.007244   \n",
       "STATE_Sonora                     -0.010841        -0.005243   \n",
       "STATE_Tamaulipas                 -0.014524        -0.007024   \n",
       "STATE_Tlaxcala                   -0.025149        -0.012163   \n",
       "target                            0.003955         0.024626   \n",
       "\n",
       "                             STATE_Coahuila_de_Zaragoza  STATE_Colima  \\\n",
       "COUNT_WEEKNIGHT_2                             -0.000067      0.024461   \n",
       "COUNT_WEEKNIGHT_3                             -0.001604      0.021866   \n",
       "COUNT_WEEKNIGHT_4                             -0.005944      0.014430   \n",
       "COUNT_WEEKNIGHT_5                             -0.008781      0.010124   \n",
       "COUNT_WEEKNIGHT_6                             -0.011629      0.005461   \n",
       "COUNT_WEEKNIGHT_7                             -0.012927      0.000967   \n",
       "COUNT_WEEKNIGHT_8                             -0.015683     -0.001434   \n",
       "COUNT_WEEKNIGHT_9                             -0.018160     -0.003504   \n",
       "MOBILITY_DIAMETER                             -0.001766     -0.006409   \n",
       "MOBILITY_DIAMETER_WEEKNIGHT                   -0.000835     -0.005818   \n",
       "TimeWeekEnd_OUT_VUL_12                        -0.006779      0.026093   \n",
       "CallsWeekDay_OUT_VUL_12                       -0.009069      0.048563   \n",
       "CallsWeekNight_OUT_VUL_12                     -0.006123      0.028658   \n",
       "TimeWeekDay_OUT_VUL_12                        -0.007987      0.042758   \n",
       "CallsWeekEnd_OUT_VUL_12                       -0.008329      0.038718   \n",
       "TimeWeekNight_OUT_VUL_12                      -0.002933      0.014633   \n",
       "VULNERABLE_OUT_12                             -0.016418      0.050711   \n",
       "TimeWeekEnd_IN_VUL_12                         -0.004746      0.027816   \n",
       "CallsWeekDay_IN_VUL_12                        -0.009998      0.041076   \n",
       "CallsWeekNight_IN_VUL_12                      -0.004745      0.017161   \n",
       "TimeWeekDay_IN_VUL_12                         -0.008822      0.037421   \n",
       "CallsWeekEnd_IN_VUL_12                        -0.007670      0.034334   \n",
       "TimeWeekNight_IN_VUL_12                       -0.004566      0.019828   \n",
       "VULNERABLE_IN_12                              -0.016091      0.052882   \n",
       "TimeWeekEnd_OUT_VUL_08                        -0.001571      0.030101   \n",
       "CallsWeekDay_OUT_VUL_08                       -0.007907      0.054497   \n",
       "CallsWeekNight_OUT_VUL_08                     -0.003216      0.040938   \n",
       "TimeWeekDay_OUT_VUL_08                        -0.005604      0.041742   \n",
       "CallsWeekEnd_OUT_VUL_08                       -0.004212      0.043001   \n",
       "TimeWeekNight_OUT_VUL_08                      -0.000993      0.029803   \n",
       "...                                                 ...           ...   \n",
       "VULNERABLE_IN_10                              -0.013464      0.051256   \n",
       "TimeWeekEnd_OUT_VUL_11                         0.000287      0.029331   \n",
       "CallsWeekDay_OUT_VUL_11                       -0.007807      0.047058   \n",
       "CallsWeekNight_OUT_VUL_11                     -0.005481      0.034143   \n",
       "TimeWeekDay_OUT_VUL_11                        -0.004749      0.035640   \n",
       "CallsWeekEnd_OUT_VUL_11                       -0.004674      0.044701   \n",
       "TimeWeekNight_OUT_VUL_11                      -0.002587      0.020480   \n",
       "VULNERABLE_OUT_11                             -0.015593      0.052055   \n",
       "TimeWeekEnd_IN_VUL_11                         -0.002295      0.020550   \n",
       "CallsWeekDay_IN_VUL_11                        -0.008974      0.043805   \n",
       "CallsWeekNight_IN_VUL_11                      -0.003375      0.026184   \n",
       "TimeWeekDay_IN_VUL_11                         -0.005861      0.030117   \n",
       "CallsWeekEnd_IN_VUL_11                        -0.006833      0.033717   \n",
       "TimeWeekNight_IN_VUL_11                       -0.000109      0.013584   \n",
       "VULNERABLE_IN_11                              -0.012573      0.052528   \n",
       "STATE_Baja_California                         -0.009794     -0.009295   \n",
       "STATE_Baja_California_Sur                     -0.003893     -0.003695   \n",
       "STATE_Campeche                                -0.008789     -0.008342   \n",
       "STATE_Chihuahua                               -0.006431     -0.006104   \n",
       "STATE_Colima                                  -0.006830      1.000000   \n",
       "STATE_Distrito_Federal                        -0.056270     -0.053407   \n",
       "STATE_Nayarit                                 -0.009240     -0.008770   \n",
       "STATE_Nuevo_Leon                              -0.017597     -0.016702   \n",
       "STATE_Queretaro                               -0.013286     -0.012610   \n",
       "STATE_Quintana_Roo                            -0.012361     -0.011732   \n",
       "STATE_Sinaloa                                 -0.008105     -0.007692   \n",
       "STATE_Sonora                                  -0.005866     -0.005568   \n",
       "STATE_Tamaulipas                              -0.007859     -0.007459   \n",
       "STATE_Tlaxcala                                -0.013608     -0.012916   \n",
       "target                                        -0.014528      0.047619   \n",
       "\n",
       "                             STATE_Distrito_Federal  STATE_Durango    ...     \\\n",
       "COUNT_WEEKNIGHT_2                          0.023296       0.001786    ...      \n",
       "COUNT_WEEKNIGHT_3                          0.039103       0.000142    ...      \n",
       "COUNT_WEEKNIGHT_4                          0.057372      -0.002811    ...      \n",
       "COUNT_WEEKNIGHT_5                          0.073551      -0.002730    ...      \n",
       "COUNT_WEEKNIGHT_6                          0.088467      -0.005274    ...      \n",
       "COUNT_WEEKNIGHT_7                          0.101850      -0.008192    ...      \n",
       "COUNT_WEEKNIGHT_8                          0.113117      -0.009706    ...      \n",
       "COUNT_WEEKNIGHT_9                          0.122781      -0.011193    ...      \n",
       "MOBILITY_DIAMETER                         -0.172372      -0.010917    ...      \n",
       "MOBILITY_DIAMETER_WEEKNIGHT               -0.148876      -0.010575    ...      \n",
       "TimeWeekEnd_OUT_VUL_12                     0.002240      -0.006437    ...      \n",
       "CallsWeekDay_OUT_VUL_12                    0.012835      -0.008236    ...      \n",
       "CallsWeekNight_OUT_VUL_12                  0.014671      -0.005539    ...      \n",
       "TimeWeekDay_OUT_VUL_12                     0.011858      -0.007556    ...      \n",
       "CallsWeekEnd_OUT_VUL_12                    0.012148      -0.008489    ...      \n",
       "TimeWeekNight_OUT_VUL_12                   0.007423      -0.003975    ...      \n",
       "VULNERABLE_OUT_12                          0.042022      -0.012480    ...      \n",
       "TimeWeekEnd_IN_VUL_12                      0.004058      -0.004971    ...      \n",
       "CallsWeekDay_IN_VUL_12                     0.012437      -0.005705    ...      \n",
       "CallsWeekNight_IN_VUL_12                   0.012737      -0.003360    ...      \n",
       "TimeWeekDay_IN_VUL_12                      0.006423      -0.005326    ...      \n",
       "CallsWeekEnd_IN_VUL_12                     0.014240      -0.005508    ...      \n",
       "TimeWeekNight_IN_VUL_12                    0.006340      -0.004820    ...      \n",
       "VULNERABLE_IN_12                           0.039975      -0.009628    ...      \n",
       "TimeWeekEnd_OUT_VUL_08                    -0.000203      -0.005911    ...      \n",
       "CallsWeekDay_OUT_VUL_08                    0.008928      -0.006415    ...      \n",
       "CallsWeekNight_OUT_VUL_08                  0.011820      -0.007205    ...      \n",
       "TimeWeekDay_OUT_VUL_08                     0.008921      -0.006695    ...      \n",
       "CallsWeekEnd_OUT_VUL_08                    0.012573      -0.008485    ...      \n",
       "TimeWeekNight_OUT_VUL_08                   0.006228      -0.005694    ...      \n",
       "...                                             ...            ...    ...      \n",
       "VULNERABLE_IN_10                           0.044566      -0.010687    ...      \n",
       "TimeWeekEnd_OUT_VUL_11                     0.004395      -0.005942    ...      \n",
       "CallsWeekDay_OUT_VUL_11                    0.007832      -0.007811    ...      \n",
       "CallsWeekNight_OUT_VUL_11                  0.017773      -0.006699    ...      \n",
       "TimeWeekDay_OUT_VUL_11                     0.008759      -0.006974    ...      \n",
       "CallsWeekEnd_OUT_VUL_11                    0.010023      -0.008201    ...      \n",
       "TimeWeekNight_OUT_VUL_11                   0.015452      -0.005393    ...      \n",
       "VULNERABLE_OUT_11                          0.042504      -0.013350    ...      \n",
       "TimeWeekEnd_IN_VUL_11                      0.003336      -0.004668    ...      \n",
       "CallsWeekDay_IN_VUL_11                     0.009536      -0.007155    ...      \n",
       "CallsWeekNight_IN_VUL_11                   0.016550      -0.005675    ...      \n",
       "TimeWeekDay_IN_VUL_11                      0.008510      -0.006000    ...      \n",
       "CallsWeekEnd_IN_VUL_11                     0.013922      -0.007353    ...      \n",
       "TimeWeekNight_IN_VUL_11                    0.011320      -0.004385    ...      \n",
       "VULNERABLE_IN_11                           0.042883      -0.011535    ...      \n",
       "STATE_Baja_California                     -0.076585      -0.007163    ...      \n",
       "STATE_Baja_California_Sur                 -0.030440      -0.002847    ...      \n",
       "STATE_Campeche                            -0.068732      -0.006429    ...      \n",
       "STATE_Chihuahua                           -0.050293      -0.004704    ...      \n",
       "STATE_Colima                              -0.053407      -0.004995    ...      \n",
       "STATE_Distrito_Federal                     1.000000      -0.041157    ...      \n",
       "STATE_Nayarit                             -0.072254      -0.006758    ...      \n",
       "STATE_Nuevo_Leon                          -0.137609      -0.012871    ...      \n",
       "STATE_Queretaro                           -0.103897      -0.009718    ...      \n",
       "STATE_Quintana_Roo                        -0.096661      -0.009041    ...      \n",
       "STATE_Sinaloa                             -0.063378      -0.005928    ...      \n",
       "STATE_Sonora                              -0.045872      -0.004291    ...      \n",
       "STATE_Tamaulipas                          -0.061456      -0.005748    ...      \n",
       "STATE_Tlaxcala                            -0.106415      -0.009953    ...      \n",
       "target                                     0.020992      -0.009678    ...      \n",
       "\n",
       "                             STATE_Queretaro  STATE_Quintana_Roo  \\\n",
       "COUNT_WEEKNIGHT_2                   0.003362           -0.000679   \n",
       "COUNT_WEEKNIGHT_3                   0.008772           -0.000433   \n",
       "COUNT_WEEKNIGHT_4                   0.010581           -0.002942   \n",
       "COUNT_WEEKNIGHT_5                   0.010749           -0.006963   \n",
       "COUNT_WEEKNIGHT_6                   0.011798           -0.011655   \n",
       "COUNT_WEEKNIGHT_7                   0.012335           -0.015592   \n",
       "COUNT_WEEKNIGHT_8                   0.012565           -0.019781   \n",
       "COUNT_WEEKNIGHT_9                   0.011035           -0.023654   \n",
       "MOBILITY_DIAMETER                   0.090248            0.082884   \n",
       "MOBILITY_DIAMETER_WEEKNIGHT         0.085264            0.079868   \n",
       "TimeWeekEnd_OUT_VUL_12              0.005283            0.024136   \n",
       "CallsWeekDay_OUT_VUL_12             0.003022            0.014673   \n",
       "CallsWeekNight_OUT_VUL_12           0.005816            0.016201   \n",
       "TimeWeekDay_OUT_VUL_12              0.002415            0.024659   \n",
       "CallsWeekEnd_OUT_VUL_12             0.006459            0.013878   \n",
       "TimeWeekNight_OUT_VUL_12            0.007009            0.019203   \n",
       "VULNERABLE_OUT_12                   0.008766            0.031248   \n",
       "TimeWeekEnd_IN_VUL_12               0.006818            0.015381   \n",
       "CallsWeekDay_IN_VUL_12             -0.000042            0.013053   \n",
       "CallsWeekNight_IN_VUL_12            0.002478            0.004088   \n",
       "TimeWeekDay_IN_VUL_12               0.001208            0.021514   \n",
       "CallsWeekEnd_IN_VUL_12              0.005104            0.010864   \n",
       "TimeWeekNight_IN_VUL_12             0.004600            0.009576   \n",
       "VULNERABLE_IN_12                    0.005227            0.030978   \n",
       "TimeWeekEnd_OUT_VUL_08              0.009523            0.029657   \n",
       "CallsWeekDay_OUT_VUL_08             0.005146            0.014515   \n",
       "CallsWeekNight_OUT_VUL_08           0.006797            0.015580   \n",
       "TimeWeekDay_OUT_VUL_08              0.006995            0.022568   \n",
       "CallsWeekEnd_OUT_VUL_08             0.011156            0.021204   \n",
       "TimeWeekNight_OUT_VUL_08            0.006346            0.017259   \n",
       "...                                      ...                 ...   \n",
       "VULNERABLE_IN_10                    0.011092            0.028520   \n",
       "TimeWeekEnd_OUT_VUL_11              0.010775            0.024988   \n",
       "CallsWeekDay_OUT_VUL_11             0.004082            0.010823   \n",
       "CallsWeekNight_OUT_VUL_11           0.012590            0.007352   \n",
       "TimeWeekDay_OUT_VUL_11              0.007372            0.020895   \n",
       "CallsWeekEnd_OUT_VUL_11             0.010310            0.015790   \n",
       "TimeWeekNight_OUT_VUL_11            0.013089            0.009449   \n",
       "VULNERABLE_OUT_11                   0.010998            0.030731   \n",
       "TimeWeekEnd_IN_VUL_11               0.009427            0.015694   \n",
       "CallsWeekDay_IN_VUL_11              0.001486            0.007975   \n",
       "CallsWeekNight_IN_VUL_11            0.008924            0.003482   \n",
       "TimeWeekDay_IN_VUL_11               0.005074            0.011350   \n",
       "CallsWeekEnd_IN_VUL_11              0.007785            0.011242   \n",
       "TimeWeekNight_IN_VUL_11             0.009421            0.004015   \n",
       "VULNERABLE_IN_11                    0.008727            0.027476   \n",
       "STATE_Baja_California              -0.018083           -0.016824   \n",
       "STATE_Baja_California_Sur          -0.007187           -0.006687   \n",
       "STATE_Campeche                     -0.016229           -0.015099   \n",
       "STATE_Chihuahua                    -0.011875           -0.011048   \n",
       "STATE_Colima                       -0.012610           -0.011732   \n",
       "STATE_Distrito_Federal             -0.103897           -0.096661   \n",
       "STATE_Nayarit                      -0.017060           -0.015872   \n",
       "STATE_Nuevo_Leon                   -0.032491           -0.030229   \n",
       "STATE_Queretaro                     1.000000           -0.022823   \n",
       "STATE_Quintana_Roo                 -0.022823            1.000000   \n",
       "STATE_Sinaloa                      -0.014965           -0.013922   \n",
       "STATE_Sonora                       -0.010831           -0.010077   \n",
       "STATE_Tamaulipas                   -0.014511           -0.013500   \n",
       "STATE_Tlaxcala                     -0.025126           -0.023376   \n",
       "target                              0.011321            0.048402   \n",
       "\n",
       "                             STATE_San_Luis_Potosi  STATE_Sinaloa  \\\n",
       "COUNT_WEEKNIGHT_2                         0.011444       0.015072   \n",
       "COUNT_WEEKNIGHT_3                         0.017269       0.017674   \n",
       "COUNT_WEEKNIGHT_4                         0.017605       0.016525   \n",
       "COUNT_WEEKNIGHT_5                         0.018582       0.011163   \n",
       "COUNT_WEEKNIGHT_6                         0.017807       0.010230   \n",
       "COUNT_WEEKNIGHT_7                         0.016556       0.007660   \n",
       "COUNT_WEEKNIGHT_8                         0.013547       0.004991   \n",
       "COUNT_WEEKNIGHT_9                         0.010290       0.003108   \n",
       "MOBILITY_DIAMETER                         0.071423       0.055259   \n",
       "MOBILITY_DIAMETER_WEEKNIGHT               0.073411       0.058013   \n",
       "TimeWeekEnd_OUT_VUL_12                   -0.003578       0.029844   \n",
       "CallsWeekDay_OUT_VUL_12                  -0.015274       0.038723   \n",
       "CallsWeekNight_OUT_VUL_12                -0.004450       0.029153   \n",
       "TimeWeekDay_OUT_VUL_12                   -0.013875       0.034553   \n",
       "CallsWeekEnd_OUT_VUL_12                  -0.010346       0.035003   \n",
       "TimeWeekNight_OUT_VUL_12                 -0.000251       0.025778   \n",
       "VULNERABLE_OUT_12                        -0.020112       0.064164   \n",
       "TimeWeekEnd_IN_VUL_12                    -0.005523       0.025835   \n",
       "CallsWeekDay_IN_VUL_12                   -0.014045       0.037977   \n",
       "CallsWeekNight_IN_VUL_12                 -0.005698       0.014109   \n",
       "TimeWeekDay_IN_VUL_12                    -0.010742       0.029610   \n",
       "CallsWeekEnd_IN_VUL_12                   -0.011380       0.033414   \n",
       "TimeWeekNight_IN_VUL_12                  -0.003364       0.014002   \n",
       "VULNERABLE_IN_12                         -0.017423       0.062546   \n",
       "TimeWeekEnd_OUT_VUL_08                   -0.003759       0.029764   \n",
       "CallsWeekDay_OUT_VUL_08                  -0.011370       0.034088   \n",
       "CallsWeekNight_OUT_VUL_08                 0.000752       0.025780   \n",
       "TimeWeekDay_OUT_VUL_08                   -0.007988       0.026013   \n",
       "CallsWeekEnd_OUT_VUL_08                  -0.010437       0.035460   \n",
       "TimeWeekNight_OUT_VUL_08                  0.002606       0.019920   \n",
       "...                                            ...            ...   \n",
       "VULNERABLE_IN_10                         -0.018613       0.066224   \n",
       "TimeWeekEnd_OUT_VUL_11                   -0.003944       0.019434   \n",
       "CallsWeekDay_OUT_VUL_11                  -0.011795       0.036460   \n",
       "CallsWeekNight_OUT_VUL_11                -0.002630       0.022506   \n",
       "TimeWeekDay_OUT_VUL_11                   -0.009391       0.029469   \n",
       "CallsWeekEnd_OUT_VUL_11                  -0.010051       0.030281   \n",
       "TimeWeekNight_OUT_VUL_11                  0.000036       0.018571   \n",
       "VULNERABLE_OUT_11                        -0.020525       0.061318   \n",
       "TimeWeekEnd_IN_VUL_11                    -0.002607       0.021235   \n",
       "CallsWeekDay_IN_VUL_11                   -0.012094       0.034451   \n",
       "CallsWeekNight_IN_VUL_11                 -0.004982       0.019188   \n",
       "TimeWeekDay_IN_VUL_11                    -0.007910       0.025338   \n",
       "CallsWeekEnd_IN_VUL_11                   -0.010838       0.033585   \n",
       "TimeWeekNight_IN_VUL_11                   0.000470       0.014289   \n",
       "VULNERABLE_IN_11                         -0.020352       0.062565   \n",
       "STATE_Baja_California                    -0.016570      -0.011031   \n",
       "STATE_Baja_California_Sur                -0.006586      -0.004384   \n",
       "STATE_Campeche                           -0.014871      -0.009900   \n",
       "STATE_Chihuahua                          -0.010882      -0.007244   \n",
       "STATE_Colima                             -0.011555      -0.007692   \n",
       "STATE_Distrito_Federal                   -0.095205      -0.063378   \n",
       "STATE_Nayarit                            -0.015633      -0.010407   \n",
       "STATE_Nuevo_Leon                         -0.029773      -0.019820   \n",
       "STATE_Queretaro                          -0.022479      -0.014965   \n",
       "STATE_Quintana_Roo                       -0.020914      -0.013922   \n",
       "STATE_Sinaloa                            -0.013713       1.000000   \n",
       "STATE_Sonora                             -0.009925      -0.006607   \n",
       "STATE_Tamaulipas                         -0.013297      -0.008852   \n",
       "STATE_Tlaxcala                           -0.023024      -0.015327   \n",
       "target                                   -0.036068       0.082060   \n",
       "\n",
       "                             STATE_Sonora  STATE_Tamaulipas  STATE_Tlaxcala  \\\n",
       "COUNT_WEEKNIGHT_2                0.010285         -0.007422       -0.027315   \n",
       "COUNT_WEEKNIGHT_3                0.011871         -0.008913       -0.034017   \n",
       "COUNT_WEEKNIGHT_4                0.011547         -0.011441       -0.040354   \n",
       "COUNT_WEEKNIGHT_5                0.010603         -0.012484       -0.046779   \n",
       "COUNT_WEEKNIGHT_6                0.010607         -0.014647       -0.051841   \n",
       "COUNT_WEEKNIGHT_7                0.010612         -0.019563       -0.055516   \n",
       "COUNT_WEEKNIGHT_8                0.009862         -0.021597       -0.058026   \n",
       "COUNT_WEEKNIGHT_9                0.009829         -0.023105       -0.059082   \n",
       "MOBILITY_DIAMETER                0.091054          0.005438       -0.023462   \n",
       "MOBILITY_DIAMETER_WEEKNIGHT      0.092244          0.005900       -0.030517   \n",
       "TimeWeekEnd_OUT_VUL_12           0.028559          0.014796        0.004621   \n",
       "CallsWeekDay_OUT_VUL_12          0.043613          0.013379        0.008912   \n",
       "CallsWeekNight_OUT_VUL_12        0.029524          0.019669        0.006866   \n",
       "TimeWeekDay_OUT_VUL_12           0.038085          0.011566        0.004118   \n",
       "CallsWeekEnd_OUT_VUL_12          0.040370          0.015061        0.012905   \n",
       "TimeWeekNight_OUT_VUL_12         0.021669          0.013418        0.002979   \n",
       "VULNERABLE_OUT_12                0.057096          0.015769        0.024046   \n",
       "TimeWeekEnd_IN_VUL_12            0.020822          0.008037        0.006906   \n",
       "CallsWeekDay_IN_VUL_12           0.041146          0.010991        0.010735   \n",
       "CallsWeekNight_IN_VUL_12         0.018489          0.005092        0.007303   \n",
       "TimeWeekDay_IN_VUL_12            0.037443          0.013568        0.009736   \n",
       "CallsWeekEnd_IN_VUL_12           0.030055          0.008207        0.011814   \n",
       "TimeWeekNight_IN_VUL_12          0.025998          0.009324        0.008722   \n",
       "VULNERABLE_IN_12                 0.052756          0.014765        0.027194   \n",
       "TimeWeekEnd_OUT_VUL_08           0.024255          0.004434        0.004005   \n",
       "CallsWeekDay_OUT_VUL_08          0.033260          0.009539        0.007902   \n",
       "CallsWeekNight_OUT_VUL_08        0.018442          0.011849        0.007524   \n",
       "TimeWeekDay_OUT_VUL_08           0.021451          0.008060        0.004614   \n",
       "CallsWeekEnd_OUT_VUL_08          0.037776          0.007255        0.011042   \n",
       "TimeWeekNight_OUT_VUL_08         0.008775          0.005019        0.002111   \n",
       "...                                   ...               ...             ...   \n",
       "VULNERABLE_IN_10                 0.050190          0.006478        0.026859   \n",
       "TimeWeekEnd_OUT_VUL_11           0.029197          0.011562        0.003585   \n",
       "CallsWeekDay_OUT_VUL_11          0.045922          0.011482        0.006202   \n",
       "CallsWeekNight_OUT_VUL_11        0.024936          0.009238        0.005453   \n",
       "TimeWeekDay_OUT_VUL_11           0.034002          0.011180        0.000109   \n",
       "CallsWeekEnd_OUT_VUL_11          0.045937          0.012534        0.008819   \n",
       "TimeWeekNight_OUT_VUL_11         0.016695          0.003716        0.000996   \n",
       "VULNERABLE_OUT_11                0.056029          0.014027        0.027783   \n",
       "TimeWeekEnd_IN_VUL_11            0.017639          0.003046        0.006191   \n",
       "CallsWeekDay_IN_VUL_11           0.039584          0.007226        0.008605   \n",
       "CallsWeekNight_IN_VUL_11         0.020641          0.003625        0.008154   \n",
       "TimeWeekDay_IN_VUL_11            0.023224          0.005785        0.003164   \n",
       "CallsWeekEnd_IN_VUL_11           0.036898          0.004237        0.010973   \n",
       "TimeWeekNight_IN_VUL_11          0.013917          0.001110        0.004270   \n",
       "VULNERABLE_IN_11                 0.053630          0.010594        0.026082   \n",
       "STATE_Baja_California           -0.007984         -0.010696       -0.018521   \n",
       "STATE_Baja_California_Sur       -0.003173         -0.004251       -0.007361   \n",
       "STATE_Campeche                  -0.007165         -0.009599       -0.016622   \n",
       "STATE_Chihuahua                 -0.005243         -0.007024       -0.012163   \n",
       "STATE_Colima                    -0.005568         -0.007459       -0.012916   \n",
       "STATE_Distrito_Federal          -0.045872         -0.061456       -0.106415   \n",
       "STATE_Nayarit                   -0.007532         -0.010091       -0.017474   \n",
       "STATE_Nuevo_Leon                -0.014346         -0.019219       -0.033279   \n",
       "STATE_Queretaro                 -0.010831         -0.014511       -0.025126   \n",
       "STATE_Quintana_Roo              -0.010077         -0.013500       -0.023376   \n",
       "STATE_Sinaloa                   -0.006607         -0.008852       -0.015327   \n",
       "STATE_Sonora                     1.000000         -0.006407       -0.011094   \n",
       "STATE_Tamaulipas                -0.006407          1.000000       -0.014862   \n",
       "STATE_Tlaxcala                  -0.011094         -0.014862        1.000000   \n",
       "target                           0.071736          0.032518        0.082248   \n",
       "\n",
       "                             STATE_Yucatan  STATE_Zacatecas    target  \n",
       "COUNT_WEEKNIGHT_2                 0.000708         0.000510  0.016867  \n",
       "COUNT_WEEKNIGHT_3                 0.002755        -0.005519  0.020923  \n",
       "COUNT_WEEKNIGHT_4                 0.004592        -0.008742  0.022474  \n",
       "COUNT_WEEKNIGHT_5                 0.005047        -0.014064  0.021722  \n",
       "COUNT_WEEKNIGHT_6                 0.005384        -0.018223  0.022695  \n",
       "COUNT_WEEKNIGHT_7                 0.004708        -0.022080  0.022805  \n",
       "COUNT_WEEKNIGHT_8                 0.004202        -0.023756  0.022185  \n",
       "COUNT_WEEKNIGHT_9                 0.003568        -0.024880  0.021444  \n",
       "MOBILITY_DIAMETER                -0.033937         0.000082  0.126827  \n",
       "MOBILITY_DIAMETER_WEEKNIGHT      -0.025030        -0.007863  0.120246  \n",
       "TimeWeekEnd_OUT_VUL_12           -0.009932         0.002621  0.182008  \n",
       "CallsWeekDay_OUT_VUL_12          -0.019683        -0.002592  0.259087  \n",
       "CallsWeekNight_OUT_VUL_12        -0.014186        -0.001653  0.207103  \n",
       "TimeWeekDay_OUT_VUL_12           -0.015687        -0.002737  0.212047  \n",
       "CallsWeekEnd_OUT_VUL_12          -0.015738        -0.001245  0.255927  \n",
       "TimeWeekNight_OUT_VUL_12         -0.009337         0.000472  0.151051  \n",
       "VULNERABLE_OUT_12                -0.030994        -0.002567  0.430733  \n",
       "TimeWeekEnd_IN_VUL_12            -0.003967         0.000372  0.163533  \n",
       "CallsWeekDay_IN_VUL_12           -0.018251        -0.002119  0.237319  \n",
       "CallsWeekNight_IN_VUL_12         -0.005988        -0.000604  0.115489  \n",
       "TimeWeekDay_IN_VUL_12            -0.013133         0.000254  0.192937  \n",
       "CallsWeekEnd_IN_VUL_12           -0.011919        -0.001753  0.226185  \n",
       "TimeWeekNight_IN_VUL_12          -0.001737        -0.001707  0.133986  \n",
       "VULNERABLE_IN_12                 -0.030278        -0.002588  0.426557  \n",
       "TimeWeekEnd_OUT_VUL_08           -0.010609        -0.004632  0.184524  \n",
       "CallsWeekDay_OUT_VUL_08          -0.019400        -0.003112  0.269750  \n",
       "CallsWeekNight_OUT_VUL_08        -0.016145        -0.000926  0.204227  \n",
       "TimeWeekDay_OUT_VUL_08           -0.013218        -0.003015  0.219227  \n",
       "CallsWeekEnd_OUT_VUL_08          -0.019206        -0.004785  0.276961  \n",
       "TimeWeekNight_OUT_VUL_08         -0.010376        -0.001803  0.136674  \n",
       "...                                    ...              ...       ...  \n",
       "VULNERABLE_IN_10                 -0.031073        -0.004071  0.424557  \n",
       "TimeWeekEnd_OUT_VUL_11           -0.011694        -0.002963  0.182726  \n",
       "CallsWeekDay_OUT_VUL_11          -0.019938        -0.004348  0.252543  \n",
       "CallsWeekNight_OUT_VUL_11        -0.014358        -0.000211  0.201037  \n",
       "TimeWeekDay_OUT_VUL_11           -0.013663        -0.004241  0.213191  \n",
       "CallsWeekEnd_OUT_VUL_11          -0.019423        -0.004038  0.259343  \n",
       "TimeWeekNight_OUT_VUL_11         -0.008525        -0.000303  0.153020  \n",
       "VULNERABLE_OUT_11                -0.034425        -0.007241  0.426817  \n",
       "TimeWeekEnd_IN_VUL_11             0.000141        -0.002766  0.157550  \n",
       "CallsWeekDay_IN_VUL_11           -0.016324        -0.003841  0.246275  \n",
       "CallsWeekNight_IN_VUL_11         -0.007481        -0.001395  0.168355  \n",
       "TimeWeekDay_IN_VUL_11            -0.006285        -0.002729  0.186323  \n",
       "CallsWeekEnd_IN_VUL_11           -0.013611        -0.004210  0.249742  \n",
       "TimeWeekNight_IN_VUL_11           0.000600         0.000572  0.117964  \n",
       "VULNERABLE_IN_11                 -0.032739        -0.001627  0.428664  \n",
       "STATE_Baja_California            -0.022877        -0.007183  0.012115  \n",
       "STATE_Baja_California_Sur        -0.009093        -0.002855  0.052348  \n",
       "STATE_Campeche                   -0.020532        -0.006446  0.022708  \n",
       "STATE_Chihuahua                  -0.015024        -0.004717  0.024626  \n",
       "STATE_Colima                     -0.015954        -0.005009  0.047619  \n",
       "STATE_Distrito_Federal           -0.131444        -0.041270  0.020992  \n",
       "STATE_Nayarit                    -0.021583        -0.006777  0.053651  \n",
       "STATE_Nuevo_Leon                 -0.041106        -0.012906  0.023851  \n",
       "STATE_Queretaro                  -0.031036        -0.009745  0.011321  \n",
       "STATE_Quintana_Roo               -0.028874        -0.009066  0.048402  \n",
       "STATE_Sinaloa                    -0.018932        -0.005944  0.082060  \n",
       "STATE_Sonora                     -0.013703        -0.004302  0.071736  \n",
       "STATE_Tamaulipas                 -0.018358        -0.005764  0.032518  \n",
       "STATE_Tlaxcala                   -0.031788        -0.009981  0.082248  \n",
       "target                           -0.040095        -0.004728  1.000000  \n",
       "\n",
       "[95 rows x 25 columns]"
      ]
     },
     "metadata": {},
     "output_type": "display_data"
    }
   ],
   "source": [
    "## show correlation between state and target\n",
    "\n",
    "if not 'STATE' in exclude_cols:    \n",
    "    state_cols = [col for col in corr if 'STATE' in col]\n",
    "    view = corr[state_cols + [target_col]]\n",
    "    display(view.query('target > 0.01'))\n"
   ]
  },
  {
   "cell_type": "code",
   "execution_count": 35,
   "metadata": {},
   "outputs": [
    {
     "data": {
      "text/plain": [
       "0.19929607060306787"
      ]
     },
     "execution_count": 35,
     "metadata": {},
     "output_type": "execute_result"
    }
   ],
   "source": [
    "a=data['EPIDEMIC_gt'].sum();b= data.shape[0]\n",
    "a*1.0/b"
   ]
  },
  {
   "cell_type": "code",
   "execution_count": 36,
   "metadata": {},
   "outputs": [
    {
     "data": {
      "text/plain": [
       "0.0"
      ]
     },
     "execution_count": 36,
     "metadata": {},
     "output_type": "execute_result"
    }
   ],
   "source": [
    "a=val_set['EPIDEMIC'].sum();b= val_set.shape[0]\n",
    "a*1.0/b"
   ]
  },
  {
   "cell_type": "code",
   "execution_count": 37,
   "metadata": {
    "collapsed": true,
    "scrolled": true
   },
   "outputs": [],
   "source": [
    "# cast to numpy types if necessary\n",
    "# %%time\n",
    "# X = X.to_dataframe()\n",
    "# Y = pd.Series(data=Y.to_numpy(),dtype=np.bool,name = 'EPIDEMIC_gt')\n",
    "# X_val = X_val.to_dataframe()\n",
    "# Y_val = pd.Series(data=Y_val.to_numpy(),dtype=np.bool,name = 'EPIDEMIC_gt')"
   ]
  },
  {
   "cell_type": "markdown",
   "metadata": {},
   "source": [
    "# Instance fast model with MNB\n",
    "#### convertimos la data en numpy, previamente limpiando las columnas de antennas ya que el clasificador no acepta strings"
   ]
  },
  {
   "cell_type": "code",
   "execution_count": 38,
   "metadata": {},
   "outputs": [
    {
     "name": "stdout",
     "output_type": "stream",
     "text": [
      "This non-commercial license of GraphLab Create for academic use is assigned to jdemonasterio@dc.uba.ar and will expire on May 06, 2018.\n"
     ]
    },
    {
     "name": "stderr",
     "output_type": "stream",
     "text": [
      "[INFO] graphlab.cython.cy_server: GraphLab Create v2.1 started. Logging: /tmp/graphlab_server_1495944542.log\n"
     ]
    }
   ],
   "source": [
    "from sklearn.naive_bayes import MultinomialNB\n",
    "\n",
    "from sklearn.naive_bayes import *\n",
    "from sklearn.metrics import *\n",
    "# from sklearn.cross_validation import *\n",
    "from sklearn.model_selection import (GridSearchCV, RandomizedSearchCV, \n",
    "                                     train_test_split, KFold, cross_val_predict, \n",
    "                                     cross_val_score, learning_curve, validation_curve\n",
    "                                    )"
   ]
  },
  {
   "cell_type": "markdown",
   "metadata": {},
   "source": [
    "## remember the Multinomail NB assumes no negative values\n",
    "are present in the dataset as this must be `count` data"
   ]
  },
  {
   "cell_type": "code",
   "execution_count": 39,
   "metadata": {
    "scrolled": true
   },
   "outputs": [
    {
     "name": "stdout",
     "output_type": "stream",
     "text": [
      "Fitting 3 folds for each of 8 candidates, totalling 24 fits\n",
      "[CV] alpha=0.001, fit_prior=True .....................................\n",
      "[CV] alpha=0.001, fit_prior=True .....................................\n",
      "[CV] ...... alpha=0.001, fit_prior=True, score=0.837902, total=   0.4s\n",
      "[CV] alpha=0.001, fit_prior=True .....................................\n",
      "[CV] alpha=0.001, fit_prior=False ....................................\n",
      "[CV] ...... alpha=0.001, fit_prior=True, score=0.884475, total=   0.5s\n",
      "[CV] alpha=0.001, fit_prior=False ....................................\n"
     ]
    },
    {
     "name": "stderr",
     "output_type": "stream",
     "text": [
      "[Parallel(n_jobs=-1)]: Done   2 out of  24 | elapsed:    1.6s remaining:   17.3s\n"
     ]
    },
    {
     "name": "stdout",
     "output_type": "stream",
     "text": [
      "[CV] ...... alpha=0.001, fit_prior=True, score=0.823022, total=   0.5s\n",
      "[CV] alpha=0.001, fit_prior=False ....................................\n",
      "[CV] ..... alpha=0.001, fit_prior=False, score=0.837703, total=   0.5s\n",
      "[CV] alpha=0.1, fit_prior=True .......................................\n",
      "[CV] ..... alpha=0.001, fit_prior=False, score=0.884418, total=   0.5s\n",
      "[CV] alpha=0.1, fit_prior=True .......................................\n",
      "[CV] ..... alpha=0.001, fit_prior=False, score=0.823065, total=   0.5s\n",
      "[CV] alpha=0.1, fit_prior=True .......................................\n",
      "[CV] ........ alpha=0.1, fit_prior=True, score=0.837902, total=   0.5s\n",
      "[CV] alpha=0.1, fit_prior=False ......................................\n",
      "[CV] ........ alpha=0.1, fit_prior=True, score=0.884475, total=   0.5s\n",
      "[CV] alpha=0.1, fit_prior=False ......................................\n",
      "[CV] ........ alpha=0.1, fit_prior=True, score=0.823022, total=   0.5s\n",
      "[CV] alpha=0.1, fit_prior=False ......................................\n",
      "[CV] ....... alpha=0.1, fit_prior=False, score=0.837703, total=   0.5s\n",
      "[CV] alpha=10.0, fit_prior=True ......................................\n",
      "[CV] ....... alpha=0.1, fit_prior=False, score=0.884418, total=   0.5s\n",
      "[CV] alpha=10.0, fit_prior=True ......................................\n"
     ]
    },
    {
     "name": "stderr",
     "output_type": "stream",
     "text": [
      "[Parallel(n_jobs=-1)]: Done  11 out of  24 | elapsed:    4.3s remaining:    5.1s\n"
     ]
    },
    {
     "name": "stdout",
     "output_type": "stream",
     "text": [
      "[CV] ....... alpha=0.1, fit_prior=False, score=0.823065, total=   0.5s\n",
      "[CV] alpha=10.0, fit_prior=True ......................................\n",
      "[CV] ....... alpha=10.0, fit_prior=True, score=0.837902, total=   0.5s\n",
      "[CV] alpha=10.0, fit_prior=False .....................................\n",
      "[CV] ....... alpha=10.0, fit_prior=True, score=0.884475, total=   0.5s\n",
      "[CV] alpha=10.0, fit_prior=False .....................................\n",
      "[CV] ....... alpha=10.0, fit_prior=True, score=0.823022, total=   0.5s\n",
      "[CV] alpha=10.0, fit_prior=False .....................................\n",
      "[CV] ...... alpha=10.0, fit_prior=False, score=0.837703, total=   0.5s\n",
      "[CV] alpha=1.0, fit_prior=True .......................................\n",
      "[CV] ...... alpha=10.0, fit_prior=False, score=0.884418, total=   0.5s\n",
      "[CV] ...... alpha=10.0, fit_prior=False, score=0.823065, total=   0.5s\n",
      "[CV] alpha=1.0, fit_prior=True .......................................\n",
      "[CV] alpha=1.0, fit_prior=True .......................................\n",
      "[CV] ........ alpha=1.0, fit_prior=True, score=0.837902, total=   0.5s\n",
      "[CV] ........ alpha=1.0, fit_prior=True, score=0.884475, total=   0.4s\n",
      "[CV] alpha=1.0, fit_prior=False ......................................\n"
     ]
    },
    {
     "name": "stderr",
     "output_type": "stream",
     "text": [
      "[Parallel(n_jobs=-1)]: Done  20 out of  24 | elapsed:    7.0s remaining:    1.4s\n"
     ]
    },
    {
     "name": "stdout",
     "output_type": "stream",
     "text": [
      "[CV] alpha=1.0, fit_prior=False ......................................\n",
      "[CV] ........ alpha=1.0, fit_prior=True, score=0.823022, total=   0.5s\n",
      "[CV] alpha=1.0, fit_prior=False ......................................\n",
      "[CV] ....... alpha=1.0, fit_prior=False, score=0.837703, total=   0.5s\n",
      "[CV] ....... alpha=1.0, fit_prior=False, score=0.884418, total=   0.5s\n",
      "[CV] ....... alpha=1.0, fit_prior=False, score=0.823065, total=   0.5s\n"
     ]
    },
    {
     "name": "stderr",
     "output_type": "stream",
     "text": [
      "[Parallel(n_jobs=-1)]: Done  24 out of  24 | elapsed:    8.3s finished\n"
     ]
    },
    {
     "name": "stdout",
     "output_type": "stream",
     "text": [
      "Grid Search took 9.60239696503 seconds to run\n",
      "\n",
      " Best estimator was MultinomialNB(alpha=0.001, class_prior=None, fit_prior=True) \n",
      "\n",
      "\n",
      " Best estimator was 0.848466305285 \n",
      "\n"
     ]
    },
    {
     "name": "stderr",
     "output_type": "stream",
     "text": [
      "/home/juan/mfixman/venv/local/lib/python2.7/site-packages/sklearn/model_selection/_search.py:667: DeprecationWarning: The grid_scores_ attribute was deprecated in version 0.18 in favor of the more elaborate cv_results_ attribute. The grid_scores_ attribute will not be available from 0.20\n",
      "  DeprecationWarning)\n",
      "/home/juan/mfixman/venv/local/lib/python2.7/site-packages/sklearn/model_selection/_search.py:667: DeprecationWarning: The grid_scores_ attribute was deprecated in version 0.18 in favor of the more elaborate cv_results_ attribute. The grid_scores_ attribute will not be available from 0.20\n",
      "  DeprecationWarning)\n",
      "/home/juan/mfixman/venv/local/lib/python2.7/site-packages/sklearn/model_selection/_search.py:667: DeprecationWarning: The grid_scores_ attribute was deprecated in version 0.18 in favor of the more elaborate cv_results_ attribute. The grid_scores_ attribute will not be available from 0.20\n",
      "  DeprecationWarning)\n",
      "/home/juan/mfixman/venv/local/lib/python2.7/site-packages/sklearn/model_selection/_search.py:667: DeprecationWarning: The grid_scores_ attribute was deprecated in version 0.18 in favor of the more elaborate cv_results_ attribute. The grid_scores_ attribute will not be available from 0.20\n",
      "  DeprecationWarning)\n",
      "/home/juan/mfixman/venv/local/lib/python2.7/site-packages/sklearn/model_selection/_search.py:667: DeprecationWarning: The grid_scores_ attribute was deprecated in version 0.18 in favor of the more elaborate cv_results_ attribute. The grid_scores_ attribute will not be available from 0.20\n",
      "  DeprecationWarning)\n",
      "/home/juan/mfixman/venv/local/lib/python2.7/site-packages/sklearn/model_selection/_search.py:667: DeprecationWarning: The grid_scores_ attribute was deprecated in version 0.18 in favor of the more elaborate cv_results_ attribute. The grid_scores_ attribute will not be available from 0.20\n",
      "  DeprecationWarning)\n",
      "/home/juan/mfixman/venv/local/lib/python2.7/site-packages/sklearn/model_selection/_search.py:667: DeprecationWarning: The grid_scores_ attribute was deprecated in version 0.18 in favor of the more elaborate cv_results_ attribute. The grid_scores_ attribute will not be available from 0.20\n",
      "  DeprecationWarning)\n",
      "/home/juan/mfixman/venv/local/lib/python2.7/site-packages/sklearn/model_selection/_search.py:667: DeprecationWarning: The grid_scores_ attribute was deprecated in version 0.18 in favor of the more elaborate cv_results_ attribute. The grid_scores_ attribute will not be available from 0.20\n",
      "  DeprecationWarning)\n",
      "/home/juan/mfixman/venv/local/lib/python2.7/site-packages/sklearn/model_selection/_search.py:667: DeprecationWarning: The grid_scores_ attribute was deprecated in version 0.18 in favor of the more elaborate cv_results_ attribute. The grid_scores_ attribute will not be available from 0.20\n",
      "  DeprecationWarning)\n",
      "/home/juan/mfixman/venv/local/lib/python2.7/site-packages/sklearn/model_selection/_search.py:667: DeprecationWarning: The grid_scores_ attribute was deprecated in version 0.18 in favor of the more elaborate cv_results_ attribute. The grid_scores_ attribute will not be available from 0.20\n",
      "  DeprecationWarning)\n",
      "/home/juan/mfixman/venv/local/lib/python2.7/site-packages/sklearn/model_selection/_search.py:667: DeprecationWarning: The grid_scores_ attribute was deprecated in version 0.18 in favor of the more elaborate cv_results_ attribute. The grid_scores_ attribute will not be available from 0.20\n",
      "  DeprecationWarning)\n",
      "/home/juan/mfixman/venv/local/lib/python2.7/site-packages/sklearn/model_selection/_search.py:667: DeprecationWarning: The grid_scores_ attribute was deprecated in version 0.18 in favor of the more elaborate cv_results_ attribute. The grid_scores_ attribute will not be available from 0.20\n",
      "  DeprecationWarning)\n",
      "/home/juan/mfixman/venv/local/lib/python2.7/site-packages/sklearn/model_selection/_search.py:667: DeprecationWarning: The grid_scores_ attribute was deprecated in version 0.18 in favor of the more elaborate cv_results_ attribute. The grid_scores_ attribute will not be available from 0.20\n",
      "  DeprecationWarning)\n",
      "/home/juan/mfixman/venv/local/lib/python2.7/site-packages/sklearn/model_selection/_search.py:667: DeprecationWarning: The grid_scores_ attribute was deprecated in version 0.18 in favor of the more elaborate cv_results_ attribute. The grid_scores_ attribute will not be available from 0.20\n",
      "  DeprecationWarning)\n",
      "/home/juan/mfixman/venv/local/lib/python2.7/site-packages/sklearn/model_selection/_search.py:667: DeprecationWarning: The grid_scores_ attribute was deprecated in version 0.18 in favor of the more elaborate cv_results_ attribute. The grid_scores_ attribute will not be available from 0.20\n",
      "  DeprecationWarning)\n",
      "/home/juan/mfixman/venv/local/lib/python2.7/site-packages/sklearn/model_selection/_search.py:667: DeprecationWarning: The grid_scores_ attribute was deprecated in version 0.18 in favor of the more elaborate cv_results_ attribute. The grid_scores_ attribute will not be available from 0.20\n",
      "  DeprecationWarning)\n",
      "/home/juan/mfixman/venv/local/lib/python2.7/site-packages/sklearn/model_selection/_search.py:667: DeprecationWarning: The grid_scores_ attribute was deprecated in version 0.18 in favor of the more elaborate cv_results_ attribute. The grid_scores_ attribute will not be available from 0.20\n",
      "  DeprecationWarning)\n",
      "/home/juan/mfixman/venv/local/lib/python2.7/site-packages/sklearn/model_selection/_search.py:667: DeprecationWarning: The grid_scores_ attribute was deprecated in version 0.18 in favor of the more elaborate cv_results_ attribute. The grid_scores_ attribute will not be available from 0.20\n",
      "  DeprecationWarning)\n"
     ]
    },
    {
     "name": "stdout",
     "output_type": "stream",
     "text": [
      "             precision    recall  f1-score   support\n",
      "\n",
      "      False       0.91      0.92      0.91      8448\n",
      "       True       0.64      0.61      0.62      2038\n",
      "\n",
      "avg / total       0.86      0.86      0.86     10486\n",
      "\n",
      "CPU times: user 8.1 s, sys: 944 ms, total: 9.05 s\n",
      "Wall time: 9.99 s\n"
     ]
    }
   ],
   "source": [
    "%%time\n",
    "start_time = time.time()\n",
    "param_grid = {'alpha':[1e-3, 1e-1, 1e1,1e0], 'fit_prior': [True,False],\n",
    "             }\n",
    "\n",
    "mnb  = MultinomialNB( )\n",
    "\n",
    "clf = GridSearchCV(mnb, param_grid, scoring='f1_weighted', fit_params=None, n_jobs=-1, iid=True, refit=True, \n",
    "verbose=3, pre_dispatch='2*n_jobs', error_score='raise')\n",
    "\n",
    "clf2 = MultinomialNB( )\n",
    "#how many parameters to randomly search for\n",
    "#n_iter_search = 45\n",
    "\n",
    "#random_search = RandomizedSearchCV(rforest, param_distributions=param_grid,\n",
    "                                 #  n_iter=n_iter_search, n_jobs =8, verbose=3)\n",
    "\n",
    "elapsed_time =  time.time() - start_time\n",
    "\n",
    "#Y = categorical(train_table_target.values, drop=True).astype(int)\n",
    "\n",
    "clf.fit(X,Y)\n",
    "\n",
    "elapsed_time =   time.time() - start_time \n",
    "\n",
    "print('Grid Search took %s seconds to run' % (elapsed_time))\n",
    "\n",
    "cv_result = pd.DataFrame(columns=['mean_score' ] + [key for key, value in clf.grid_scores_[0].parameters.items() ] )\n",
    "i=0\n",
    "for setup in clf.grid_scores_:\n",
    "    row = [clf.grid_scores_[i].mean_validation_score ] + [value for key, value in clf.grid_scores_[i].parameters.items() ]\n",
    "    cv_result.loc[i] = row\n",
    "    i+=1\n",
    "\n",
    "\n",
    "#este flag es basicamente para chequear que hayamos terminado nomas\n",
    "finished = True\n",
    "\n",
    "print('\\n Best estimator was %s \\n' % str(clf.best_estimator_))\n",
    "print('\\n Best estimator was %s \\n' % str(clf.best_score_))\n",
    "\n",
    "clf2.set_params(**clf.best_params_)\n",
    "\n",
    "clf2.fit(X,Y)\n",
    "\n",
    "\n",
    "#converted_dict = evaluation_print(clf, X_val, test_table_target.values, test_table.index.values, \n",
    "#                              test_table_target[test_table_target>0].index.values,start_date,future)\n",
    "\n",
    "print(classification_report(Y_val,clf2.predict(X_val)))"
   ]
  },
  {
   "cell_type": "code",
   "execution_count": 40,
   "metadata": {},
   "outputs": [
    {
     "data": {
      "text/plain": [
       "0.76333116571133319"
      ]
     },
     "execution_count": 40,
     "metadata": {},
     "output_type": "execute_result"
    }
   ],
   "source": [
    "roc_auc_score(Y_val,clf2.predict(X_val))"
   ]
  },
  {
   "cell_type": "code",
   "execution_count": 41,
   "metadata": {},
   "outputs": [
    {
     "data": {
      "text/plain": [
       "((95180,), 18969, {'alpha': 0.001, 'fit_prior': True})"
      ]
     },
     "execution_count": 41,
     "metadata": {},
     "output_type": "execute_result"
    }
   ],
   "source": [
    "Y.shape, Y.sum(), clf.best_params_"
   ]
  },
  {
   "cell_type": "code",
   "execution_count": 42,
   "metadata": {},
   "outputs": [
    {
     "data": {
      "text/plain": [
       "0.19435437726492466"
      ]
     },
     "execution_count": 42,
     "metadata": {},
     "output_type": "execute_result"
    }
   ],
   "source": [
    "Y_val.sum()*1.0/Y_val.size"
   ]
  },
  {
   "cell_type": "code",
   "execution_count": 43,
   "metadata": {},
   "outputs": [
    {
     "data": {
      "text/plain": [
       "0.76333116571133319"
      ]
     },
     "execution_count": 43,
     "metadata": {},
     "output_type": "execute_result"
    }
   ],
   "source": [
    "roc_auc_score(Y_val,clf2.predict(X_val))"
   ]
  },
  {
   "cell_type": "code",
   "execution_count": null,
   "metadata": {
    "collapsed": true
   },
   "outputs": [],
   "source": []
  },
  {
   "cell_type": "code",
   "execution_count": 44,
   "metadata": {},
   "outputs": [
    {
     "data": {
      "text/html": [
       "<div>\n",
       "<style>\n",
       "    .dataframe thead tr:only-child th {\n",
       "        text-align: right;\n",
       "    }\n",
       "\n",
       "    .dataframe thead th {\n",
       "        text-align: left;\n",
       "    }\n",
       "\n",
       "    .dataframe tbody tr th {\n",
       "        vertical-align: top;\n",
       "    }\n",
       "</style>\n",
       "<table border=\"1\" class=\"dataframe\">\n",
       "  <thead>\n",
       "    <tr style=\"text-align: right;\">\n",
       "      <th></th>\n",
       "      <th>mean</th>\n",
       "      <th>std</th>\n",
       "    </tr>\n",
       "    <tr>\n",
       "      <th>alpha</th>\n",
       "      <th></th>\n",
       "      <th></th>\n",
       "    </tr>\n",
       "  </thead>\n",
       "  <tbody>\n",
       "    <tr>\n",
       "      <th>0.001</th>\n",
       "      <td>0.848431</td>\n",
       "      <td>0.00005</td>\n",
       "    </tr>\n",
       "    <tr>\n",
       "      <th>0.100</th>\n",
       "      <td>0.848431</td>\n",
       "      <td>0.00005</td>\n",
       "    </tr>\n",
       "    <tr>\n",
       "      <th>1.000</th>\n",
       "      <td>0.848431</td>\n",
       "      <td>0.00005</td>\n",
       "    </tr>\n",
       "    <tr>\n",
       "      <th>10.000</th>\n",
       "      <td>0.848431</td>\n",
       "      <td>0.00005</td>\n",
       "    </tr>\n",
       "  </tbody>\n",
       "</table>\n",
       "</div>"
      ],
      "text/plain": [
       "            mean      std\n",
       "alpha                    \n",
       "0.001   0.848431  0.00005\n",
       "0.100   0.848431  0.00005\n",
       "1.000   0.848431  0.00005\n",
       "10.000  0.848431  0.00005"
      ]
     },
     "metadata": {},
     "output_type": "display_data"
    },
    {
     "data": {
      "text/html": [
       "<div>\n",
       "<style>\n",
       "    .dataframe thead tr:only-child th {\n",
       "        text-align: right;\n",
       "    }\n",
       "\n",
       "    .dataframe thead th {\n",
       "        text-align: left;\n",
       "    }\n",
       "\n",
       "    .dataframe tbody tr th {\n",
       "        vertical-align: top;\n",
       "    }\n",
       "</style>\n",
       "<table border=\"1\" class=\"dataframe\">\n",
       "  <thead>\n",
       "    <tr style=\"text-align: right;\">\n",
       "      <th></th>\n",
       "      <th>mean</th>\n",
       "      <th>std</th>\n",
       "    </tr>\n",
       "    <tr>\n",
       "      <th>fit_prior</th>\n",
       "      <th></th>\n",
       "      <th></th>\n",
       "    </tr>\n",
       "  </thead>\n",
       "  <tbody>\n",
       "    <tr>\n",
       "      <th>False</th>\n",
       "      <td>0.848396</td>\n",
       "      <td>0.0</td>\n",
       "    </tr>\n",
       "    <tr>\n",
       "      <th>True</th>\n",
       "      <td>0.848466</td>\n",
       "      <td>0.0</td>\n",
       "    </tr>\n",
       "  </tbody>\n",
       "</table>\n",
       "</div>"
      ],
      "text/plain": [
       "               mean  std\n",
       "fit_prior               \n",
       "False      0.848396  0.0\n",
       "True       0.848466  0.0"
      ]
     },
     "metadata": {},
     "output_type": "display_data"
    }
   ],
   "source": [
    "for col in cv_result.columns:\n",
    "    if col != 'mean_score':\n",
    "        df = cv_result.groupby(col)['mean_score'].mean().to_frame().copy()\n",
    "        df.columns = ['mean']\n",
    "        df['std'] = cv_result.groupby(col)['mean_score'].std()\n",
    "\n",
    "        display(df)"
   ]
  },
  {
   "cell_type": "code",
   "execution_count": 47,
   "metadata": {},
   "outputs": [
    {
     "data": {
      "text/plain": [
       "False"
      ]
     },
     "execution_count": 47,
     "metadata": {},
     "output_type": "execute_result"
    }
   ],
   "source": [
    " 'EPIDEMIC' in X.columns"
   ]
  },
  {
   "cell_type": "code",
   "execution_count": null,
   "metadata": {
    "collapsed": true
   },
   "outputs": [],
   "source": []
  },
  {
   "cell_type": "code",
   "execution_count": null,
   "metadata": {
    "collapsed": true
   },
   "outputs": [],
   "source": []
  },
  {
   "cell_type": "markdown",
   "metadata": {},
   "source": [
    "## now graphlab models "
   ]
  },
  {
   "cell_type": "code",
   "execution_count": 48,
   "metadata": {
    "collapsed": true
   },
   "outputs": [],
   "source": [
    "from graphlab import random_forest_classifier, boosted_trees_classifier, logistic_classifier, decision_tree_classifier\n",
    "from graphlab.toolkits import cross_validation, model_parameter_search"
   ]
  },
  {
   "cell_type": "markdown",
   "metadata": {},
   "source": [
    "# get kfolds"
   ]
  },
  {
   "cell_type": "code",
   "execution_count": 49,
   "metadata": {
    "scrolled": true
   },
   "outputs": [
    {
     "name": "stdout",
     "output_type": "stream",
     "text": [
      "CPU times: user 6.18 s, sys: 460 ms, total: 6.64 s\n",
      "Wall time: 4.64 s\n"
     ]
    }
   ],
   "source": [
    "%%time\n",
    "num_folds = 10\n",
    "\n",
    "target_col = 'target'\n",
    "if graphlab_frame:   \n",
    "    X[target_col] = Y\n",
    "    X_val[target_col] = Y_val\n",
    "    kfold = cross_validation.KFold(\n",
    "    X,num_folds=num_folds)\n",
    "else:\n",
    "    X_gl= gl.SFrame(X)\n",
    "    Y_gl = gl.SArray(Y)\n",
    "    X_val_gl= gl.SFrame(X_val)\n",
    "    Y_val_gl = gl.SArray(Y_val)\n",
    "    X_gl[target_col] = Y_gl\n",
    "    X_val_gl[target_col] = Y_val_gl\n",
    "    \n",
    "    kfold = cross_validation.KFold(\n",
    "    X_gl,num_folds=num_folds)"
   ]
  },
  {
   "cell_type": "code",
   "execution_count": 51,
   "metadata": {},
   "outputs": [
    {
     "data": {
      "text/plain": [
       "True"
      ]
     },
     "execution_count": 51,
     "metadata": {},
     "output_type": "execute_result"
    }
   ],
   "source": [
    "'target' in X_gl.column_names()"
   ]
  },
  {
   "cell_type": "markdown",
   "metadata": {},
   "source": [
    "## RandomForest \n",
    "HyperParams Grid Search"
   ]
  },
  {
   "cell_type": "code",
   "execution_count": 55,
   "metadata": {
    "collapsed": true
   },
   "outputs": [],
   "source": [
    "\n",
    "param_grid = {\n",
    "    \"target\":target_col,\n",
    "    \n",
    "    'metric': [\n",
    "                'auc',\n",
    "#                 'log_loss',\n",
    "                 ], \n",
    "    \n",
    "    'max_iterations': [\n",
    "#                     50,\n",
    "                    100,\n",
    "                    150,\n",
    "                    200,\n",
    "                    ],\n",
    "    \n",
    "  'column_subsample': [\n",
    "                  np.sqrt(X_gl.shape[1])/X_gl.shape[1],\n",
    "                  np.log2(X_gl.shape[1])/X_gl.shape[1],\n",
    "                  0.5,\n",
    "#                   0.1,\n",
    "                  ], \n",
    "#     \"bootstrap\": [ \n",
    "#                 False,\n",
    "#                 True,\n",
    "#                     ],\n",
    "#     \"min_child_weight\": np.append(np.random.randint(3,15,3),[3]),\n",
    "    'max_depth':[\n",
    "#                  3,\n",
    "                 6,\n",
    "                 9,\n",
    "                 12,\n",
    "                ], \n",
    "   \"class_weights\": [\n",
    "#                    'balanced',\n",
    "                   None,\n",
    "                   ],\n",
    "#     \"validation_set\": X_val_gl,\n",
    "              }\n",
    "\n",
    "model_factory = random_forest_classifier.create"
   ]
  },
  {
   "cell_type": "code",
   "execution_count": null,
   "metadata": {
    "collapsed": true
   },
   "outputs": [],
   "source": []
  },
  {
   "cell_type": "code",
   "execution_count": 56,
   "metadata": {
    "scrolled": true
   },
   "outputs": [
    {
     "name": "stderr",
     "output_type": "stream",
     "text": [
      "[INFO] graphlab.deploy.job: Validating job.\n",
      "[INFO] graphlab.deploy.job: Creating a LocalAsync environment called 'async'.\n",
      "[INFO] graphlab.deploy.map_job: Validation complete. Job: 'Model-Parameter-Search-May-28-2017-04-13-5100000' ready for execution\n",
      "[INFO] graphlab.deploy.map_job: Job: 'Model-Parameter-Search-May-28-2017-04-13-5100000' scheduled.\n",
      "[INFO] graphlab.deploy.job: Validating job.\n",
      "[INFO] graphlab.deploy.map_job: A job with name 'Model-Parameter-Search-May-28-2017-04-13-5100000' already exists. Renaming the job to 'Model-Parameter-Search-May-28-2017-04-13-5100000-62725'.\n",
      "[INFO] graphlab.deploy.map_job: Validation complete. Job: 'Model-Parameter-Search-May-28-2017-04-13-5100000-62725' ready for execution\n",
      "[INFO] graphlab.deploy.map_job: Job: 'Model-Parameter-Search-May-28-2017-04-13-5100000-62725' scheduled.\n",
      "[INFO] graphlab.deploy.job: Validating job.\n",
      "[INFO] graphlab.deploy.map_job: Validation complete. Job: 'Model-Parameter-Search-May-28-2017-04-13-5100001' ready for execution\n",
      "[INFO] graphlab.deploy.map_job: Job: 'Model-Parameter-Search-May-28-2017-04-13-5100001' scheduled.\n",
      "[INFO] graphlab.deploy.job: Validating job.\n",
      "[INFO] graphlab.deploy.map_job: Validation complete. Job: 'Model-Parameter-Search-May-28-2017-04-13-5100002' ready for execution\n",
      "[INFO] graphlab.deploy.map_job: Job: 'Model-Parameter-Search-May-28-2017-04-13-5100002' scheduled.\n"
     ]
    },
    {
     "name": "stdout",
     "output_type": "stream",
     "text": [
      "CPU times: user 1min 36s, sys: 8.24 s, total: 1min 44s\n",
      "Wall time: 1h 7min 3s\n"
     ]
    }
   ],
   "source": [
    "%%time\n",
    "start_time = time.time()\n",
    "model_search = model_parameter_search.create( datasets = kfold, \n",
    "                                             #[data, val_set],\n",
    "                                             model_factory = model_factory,\n",
    "                                            model_parameters = param_grid, \n",
    "                                             perform_trial_run = True,\n",
    "                                            )\n",
    "\n",
    "search_results = model_search.get_results()\n",
    "\n",
    "all_time = time.time() - start_time"
   ]
  },
  {
   "cell_type": "code",
   "execution_count": 57,
   "metadata": {},
   "outputs": [
    {
     "data": {
      "text/plain": [
       "(1, 7.054373967647551)"
      ]
     },
     "execution_count": 57,
     "metadata": {},
     "output_type": "execute_result"
    }
   ],
   "source": [
    "int(abs(all_time)/3600) ,(abs(all_time)/3600 %1)*60"
   ]
  },
  {
   "cell_type": "code",
   "execution_count": 58,
   "metadata": {
    "scrolled": true
   },
   "outputs": [
    {
     "data": {
      "text/html": [
       "<div style=\"max-height:1000px;max-width:1500px;overflow:auto;\"><table frame=\"box\" rules=\"cols\">\n",
       "    <tr>\n",
       "        <th style=\"padding-left: 1em; padding-right: 1em; text-align: center\">task_name</th>\n",
       "        <th style=\"padding-left: 1em; padding-right: 1em; text-align: center\">status</th>\n",
       "        <th style=\"padding-left: 1em; padding-right: 1em; text-align: center\">start_time</th>\n",
       "        <th style=\"padding-left: 1em; padding-right: 1em; text-align: center\">run_time</th>\n",
       "        <th style=\"padding-left: 1em; padding-right: 1em; text-align: center\">exception</th>\n",
       "        <th style=\"padding-left: 1em; padding-right: 1em; text-align: center\">exception_message</th>\n",
       "        <th style=\"padding-left: 1em; padding-right: 1em; text-align: center\">exception_traceback</th>\n",
       "    </tr>\n",
       "    <tr>\n",
       "        <td style=\"padding-left: 1em; padding-right: 1em; text-align: center; vertical-align: top\">_train_test_model-0-0</td>\n",
       "        <td style=\"padding-left: 1em; padding-right: 1em; text-align: center; vertical-align: top\">Completed</td>\n",
       "        <td style=\"padding-left: 1em; padding-right: 1em; text-align: center; vertical-align: top\">2017-05-28 04:15:38</td>\n",
       "        <td style=\"padding-left: 1em; padding-right: 1em; text-align: center; vertical-align: top\">142.217834949</td>\n",
       "        <td style=\"padding-left: 1em; padding-right: 1em; text-align: center; vertical-align: top\">None</td>\n",
       "        <td style=\"padding-left: 1em; padding-right: 1em; text-align: center; vertical-align: top\">None</td>\n",
       "        <td style=\"padding-left: 1em; padding-right: 1em; text-align: center; vertical-align: top\">None</td>\n",
       "    </tr>\n",
       "    <tr>\n",
       "        <td style=\"padding-left: 1em; padding-right: 1em; text-align: center; vertical-align: top\">_train_test_model-0-1</td>\n",
       "        <td style=\"padding-left: 1em; padding-right: 1em; text-align: center; vertical-align: top\">Completed</td>\n",
       "        <td style=\"padding-left: 1em; padding-right: 1em; text-align: center; vertical-align: top\">2017-05-28 04:18:00</td>\n",
       "        <td style=\"padding-left: 1em; padding-right: 1em; text-align: center; vertical-align: top\">147.120588064</td>\n",
       "        <td style=\"padding-left: 1em; padding-right: 1em; text-align: center; vertical-align: top\">None</td>\n",
       "        <td style=\"padding-left: 1em; padding-right: 1em; text-align: center; vertical-align: top\">None</td>\n",
       "        <td style=\"padding-left: 1em; padding-right: 1em; text-align: center; vertical-align: top\">None</td>\n",
       "    </tr>\n",
       "    <tr>\n",
       "        <td style=\"padding-left: 1em; padding-right: 1em; text-align: center; vertical-align: top\">_train_test_model-0-2</td>\n",
       "        <td style=\"padding-left: 1em; padding-right: 1em; text-align: center; vertical-align: top\">Completed</td>\n",
       "        <td style=\"padding-left: 1em; padding-right: 1em; text-align: center; vertical-align: top\">2017-05-28 04:20:28</td>\n",
       "        <td style=\"padding-left: 1em; padding-right: 1em; text-align: center; vertical-align: top\">143.171838999</td>\n",
       "        <td style=\"padding-left: 1em; padding-right: 1em; text-align: center; vertical-align: top\">None</td>\n",
       "        <td style=\"padding-left: 1em; padding-right: 1em; text-align: center; vertical-align: top\">None</td>\n",
       "        <td style=\"padding-left: 1em; padding-right: 1em; text-align: center; vertical-align: top\">None</td>\n",
       "    </tr>\n",
       "    <tr>\n",
       "        <td style=\"padding-left: 1em; padding-right: 1em; text-align: center; vertical-align: top\">_train_test_model-0-3</td>\n",
       "        <td style=\"padding-left: 1em; padding-right: 1em; text-align: center; vertical-align: top\">Completed</td>\n",
       "        <td style=\"padding-left: 1em; padding-right: 1em; text-align: center; vertical-align: top\">2017-05-28 04:22:51</td>\n",
       "        <td style=\"padding-left: 1em; padding-right: 1em; text-align: center; vertical-align: top\">142.518718958</td>\n",
       "        <td style=\"padding-left: 1em; padding-right: 1em; text-align: center; vertical-align: top\">None</td>\n",
       "        <td style=\"padding-left: 1em; padding-right: 1em; text-align: center; vertical-align: top\">None</td>\n",
       "        <td style=\"padding-left: 1em; padding-right: 1em; text-align: center; vertical-align: top\">None</td>\n",
       "    </tr>\n",
       "    <tr>\n",
       "        <td style=\"padding-left: 1em; padding-right: 1em; text-align: center; vertical-align: top\">_train_test_model-0-4</td>\n",
       "        <td style=\"padding-left: 1em; padding-right: 1em; text-align: center; vertical-align: top\">Completed</td>\n",
       "        <td style=\"padding-left: 1em; padding-right: 1em; text-align: center; vertical-align: top\">2017-05-28 04:25:13</td>\n",
       "        <td style=\"padding-left: 1em; padding-right: 1em; text-align: center; vertical-align: top\">144.32323885</td>\n",
       "        <td style=\"padding-left: 1em; padding-right: 1em; text-align: center; vertical-align: top\">None</td>\n",
       "        <td style=\"padding-left: 1em; padding-right: 1em; text-align: center; vertical-align: top\">None</td>\n",
       "        <td style=\"padding-left: 1em; padding-right: 1em; text-align: center; vertical-align: top\">None</td>\n",
       "    </tr>\n",
       "    <tr>\n",
       "        <td style=\"padding-left: 1em; padding-right: 1em; text-align: center; vertical-align: top\">_train_test_model-0-5</td>\n",
       "        <td style=\"padding-left: 1em; padding-right: 1em; text-align: center; vertical-align: top\">Completed</td>\n",
       "        <td style=\"padding-left: 1em; padding-right: 1em; text-align: center; vertical-align: top\">2017-05-28 04:27:38</td>\n",
       "        <td style=\"padding-left: 1em; padding-right: 1em; text-align: center; vertical-align: top\">143.988962889</td>\n",
       "        <td style=\"padding-left: 1em; padding-right: 1em; text-align: center; vertical-align: top\">None</td>\n",
       "        <td style=\"padding-left: 1em; padding-right: 1em; text-align: center; vertical-align: top\">None</td>\n",
       "        <td style=\"padding-left: 1em; padding-right: 1em; text-align: center; vertical-align: top\">None</td>\n",
       "    </tr>\n",
       "    <tr>\n",
       "        <td style=\"padding-left: 1em; padding-right: 1em; text-align: center; vertical-align: top\">_train_test_model-0-6</td>\n",
       "        <td style=\"padding-left: 1em; padding-right: 1em; text-align: center; vertical-align: top\">Completed</td>\n",
       "        <td style=\"padding-left: 1em; padding-right: 1em; text-align: center; vertical-align: top\">2017-05-28 04:30:02</td>\n",
       "        <td style=\"padding-left: 1em; padding-right: 1em; text-align: center; vertical-align: top\">148.018715143</td>\n",
       "        <td style=\"padding-left: 1em; padding-right: 1em; text-align: center; vertical-align: top\">None</td>\n",
       "        <td style=\"padding-left: 1em; padding-right: 1em; text-align: center; vertical-align: top\">None</td>\n",
       "        <td style=\"padding-left: 1em; padding-right: 1em; text-align: center; vertical-align: top\">None</td>\n",
       "    </tr>\n",
       "    <tr>\n",
       "        <td style=\"padding-left: 1em; padding-right: 1em; text-align: center; vertical-align: top\">_train_test_model-0-7</td>\n",
       "        <td style=\"padding-left: 1em; padding-right: 1em; text-align: center; vertical-align: top\">Completed</td>\n",
       "        <td style=\"padding-left: 1em; padding-right: 1em; text-align: center; vertical-align: top\">2017-05-28 04:32:30</td>\n",
       "        <td style=\"padding-left: 1em; padding-right: 1em; text-align: center; vertical-align: top\">145.34139204</td>\n",
       "        <td style=\"padding-left: 1em; padding-right: 1em; text-align: center; vertical-align: top\">None</td>\n",
       "        <td style=\"padding-left: 1em; padding-right: 1em; text-align: center; vertical-align: top\">None</td>\n",
       "        <td style=\"padding-left: 1em; padding-right: 1em; text-align: center; vertical-align: top\">None</td>\n",
       "    </tr>\n",
       "    <tr>\n",
       "        <td style=\"padding-left: 1em; padding-right: 1em; text-align: center; vertical-align: top\">_train_test_model-0-8</td>\n",
       "        <td style=\"padding-left: 1em; padding-right: 1em; text-align: center; vertical-align: top\">Completed</td>\n",
       "        <td style=\"padding-left: 1em; padding-right: 1em; text-align: center; vertical-align: top\">2017-05-28 04:34:55</td>\n",
       "        <td style=\"padding-left: 1em; padding-right: 1em; text-align: center; vertical-align: top\">143.07583499</td>\n",
       "        <td style=\"padding-left: 1em; padding-right: 1em; text-align: center; vertical-align: top\">None</td>\n",
       "        <td style=\"padding-left: 1em; padding-right: 1em; text-align: center; vertical-align: top\">None</td>\n",
       "        <td style=\"padding-left: 1em; padding-right: 1em; text-align: center; vertical-align: top\">None</td>\n",
       "    </tr>\n",
       "    <tr>\n",
       "        <td style=\"padding-left: 1em; padding-right: 1em; text-align: center; vertical-align: top\">_train_test_model-0-9</td>\n",
       "        <td style=\"padding-left: 1em; padding-right: 1em; text-align: center; vertical-align: top\">Completed</td>\n",
       "        <td style=\"padding-left: 1em; padding-right: 1em; text-align: center; vertical-align: top\">2017-05-28 04:37:19</td>\n",
       "        <td style=\"padding-left: 1em; padding-right: 1em; text-align: center; vertical-align: top\">138.991053104</td>\n",
       "        <td style=\"padding-left: 1em; padding-right: 1em; text-align: center; vertical-align: top\">None</td>\n",
       "        <td style=\"padding-left: 1em; padding-right: 1em; text-align: center; vertical-align: top\">None</td>\n",
       "        <td style=\"padding-left: 1em; padding-right: 1em; text-align: center; vertical-align: top\">None</td>\n",
       "    </tr>\n",
       "</table>\n",
       "<table frame=\"box\" rules=\"cols\">\n",
       "    <tr>\n",
       "        <th style=\"padding-left: 1em; padding-right: 1em; text-align: center\">job_name</th>\n",
       "    </tr>\n",
       "    <tr>\n",
       "        <td style=\"padding-left: 1em; padding-right: 1em; text-align: center; vertical-align: top\">Model-Parameter-Search-Ma<br>y-28-2017-04-13-51000 ...</td>\n",
       "    </tr>\n",
       "    <tr>\n",
       "        <td style=\"padding-left: 1em; padding-right: 1em; text-align: center; vertical-align: top\">Model-Parameter-Search-Ma<br>y-28-2017-04-13-51000 ...</td>\n",
       "    </tr>\n",
       "    <tr>\n",
       "        <td style=\"padding-left: 1em; padding-right: 1em; text-align: center; vertical-align: top\">Model-Parameter-Search-Ma<br>y-28-2017-04-13-51000 ...</td>\n",
       "    </tr>\n",
       "    <tr>\n",
       "        <td style=\"padding-left: 1em; padding-right: 1em; text-align: center; vertical-align: top\">Model-Parameter-Search-Ma<br>y-28-2017-04-13-51000 ...</td>\n",
       "    </tr>\n",
       "    <tr>\n",
       "        <td style=\"padding-left: 1em; padding-right: 1em; text-align: center; vertical-align: top\">Model-Parameter-Search-Ma<br>y-28-2017-04-13-51000 ...</td>\n",
       "    </tr>\n",
       "    <tr>\n",
       "        <td style=\"padding-left: 1em; padding-right: 1em; text-align: center; vertical-align: top\">Model-Parameter-Search-Ma<br>y-28-2017-04-13-51000 ...</td>\n",
       "    </tr>\n",
       "    <tr>\n",
       "        <td style=\"padding-left: 1em; padding-right: 1em; text-align: center; vertical-align: top\">Model-Parameter-Search-Ma<br>y-28-2017-04-13-51000 ...</td>\n",
       "    </tr>\n",
       "    <tr>\n",
       "        <td style=\"padding-left: 1em; padding-right: 1em; text-align: center; vertical-align: top\">Model-Parameter-Search-Ma<br>y-28-2017-04-13-51000 ...</td>\n",
       "    </tr>\n",
       "    <tr>\n",
       "        <td style=\"padding-left: 1em; padding-right: 1em; text-align: center; vertical-align: top\">Model-Parameter-Search-Ma<br>y-28-2017-04-13-51000 ...</td>\n",
       "    </tr>\n",
       "    <tr>\n",
       "        <td style=\"padding-left: 1em; padding-right: 1em; text-align: center; vertical-align: top\">Model-Parameter-Search-Ma<br>y-28-2017-04-13-51000 ...</td>\n",
       "    </tr>\n",
       "</table>\n",
       "[35 rows x 8 columns]<br/>Note: Only the head of the SFrame is printed.<br/>You can use print_rows(num_rows=m, num_columns=n) to print more rows and columns.\n",
       "</div>"
      ],
      "text/plain": [
       "Columns:\n",
       "\ttask_name\tstr\n",
       "\tstatus\tstr\n",
       "\tstart_time\tstr\n",
       "\trun_time\tfloat\n",
       "\texception\tfloat\n",
       "\texception_message\tfloat\n",
       "\texception_traceback\tfloat\n",
       "\tjob_name\tstr\n",
       "\n",
       "Rows: 35\n",
       "\n",
       "Data:\n",
       "+-----------------------+-----------+---------------------+---------------+-----------+\n",
       "|       task_name       |   status  |      start_time     |    run_time   | exception |\n",
       "+-----------------------+-----------+---------------------+---------------+-----------+\n",
       "| _train_test_model-0-0 | Completed | 2017-05-28 04:15:38 | 142.217834949 |    None   |\n",
       "| _train_test_model-0-1 | Completed | 2017-05-28 04:18:00 | 147.120588064 |    None   |\n",
       "| _train_test_model-0-2 | Completed | 2017-05-28 04:20:28 | 143.171838999 |    None   |\n",
       "| _train_test_model-0-3 | Completed | 2017-05-28 04:22:51 | 142.518718958 |    None   |\n",
       "| _train_test_model-0-4 | Completed | 2017-05-28 04:25:13 |  144.32323885 |    None   |\n",
       "| _train_test_model-0-5 | Completed | 2017-05-28 04:27:38 | 143.988962889 |    None   |\n",
       "| _train_test_model-0-6 | Completed | 2017-05-28 04:30:02 | 148.018715143 |    None   |\n",
       "| _train_test_model-0-7 | Completed | 2017-05-28 04:32:30 |  145.34139204 |    None   |\n",
       "| _train_test_model-0-8 | Completed | 2017-05-28 04:34:55 |  143.07583499 |    None   |\n",
       "| _train_test_model-0-9 | Completed | 2017-05-28 04:37:19 | 138.991053104 |    None   |\n",
       "+-----------------------+-----------+---------------------+---------------+-----------+\n",
       "+-------------------+---------------------+-------------------------------+\n",
       "| exception_message | exception_traceback |            job_name           |\n",
       "+-------------------+---------------------+-------------------------------+\n",
       "|        None       |         None        | Model-Parameter-Search-May... |\n",
       "|        None       |         None        | Model-Parameter-Search-May... |\n",
       "|        None       |         None        | Model-Parameter-Search-May... |\n",
       "|        None       |         None        | Model-Parameter-Search-May... |\n",
       "|        None       |         None        | Model-Parameter-Search-May... |\n",
       "|        None       |         None        | Model-Parameter-Search-May... |\n",
       "|        None       |         None        | Model-Parameter-Search-May... |\n",
       "|        None       |         None        | Model-Parameter-Search-May... |\n",
       "|        None       |         None        | Model-Parameter-Search-May... |\n",
       "|        None       |         None        | Model-Parameter-Search-May... |\n",
       "+-------------------+---------------------+-------------------------------+\n",
       "[35 rows x 8 columns]\n",
       "Note: Only the head of the SFrame is printed.\n",
       "You can use print_rows(num_rows=m, num_columns=n) to print more rows and columns."
      ]
     },
     "execution_count": 58,
     "metadata": {},
     "output_type": "execute_result"
    }
   ],
   "source": [
    "res = model_search.get_metrics()\n",
    "res"
   ]
  },
  {
   "cell_type": "code",
   "execution_count": 59,
   "metadata": {},
   "outputs": [
    {
     "data": {
      "text/plain": [
       "(10, 14)"
      ]
     },
     "execution_count": 59,
     "metadata": {},
     "output_type": "execute_result"
    }
   ],
   "source": [
    "search_results.shape"
   ]
  },
  {
   "cell_type": "code",
   "execution_count": 60,
   "metadata": {
    "scrolled": true
   },
   "outputs": [
    {
     "name": "stdout",
     "output_type": "stream",
     "text": [
      "+---------------+-----------------+----------------+\n",
      "| class_weights |       std       |      mean      |\n",
      "+---------------+-----------------+----------------+\n",
      "|      None     | 0.0159401641879 | 0.889271322173 |\n",
      "+---------------+-----------------+----------------+\n",
      "[1 rows x 3 columns]\n",
      "\n",
      "+------------------+------------------+----------------+\n",
      "| column_subsample |       std        |      mean      |\n",
      "+------------------+------------------+----------------+\n",
      "| 0.0421898618649  |       0.0        | 0.862865681399 |\n",
      "|       0.5        | 0.0127577258664  | 0.900803623544 |\n",
      "| 0.0751646028003  | 0.00549159509322 | 0.881457355654 |\n",
      "+------------------+------------------+----------------+\n",
      "[3 rows x 3 columns]\n",
      "\n",
      "+-----------+----------------+----------------+\n",
      "| max_depth |      std       |      mean      |\n",
      "+-----------+----------------+----------------+\n",
      "|     6     |      0.0       | 0.884267236348 |\n",
      "|     12    | 0.016513145653 | 0.896034414326 |\n",
      "|     9     | 0.013381018859 | 0.882068478439 |\n",
      "+-----------+----------------+----------------+\n",
      "[3 rows x 3 columns]\n",
      "\n",
      "+----------------+------------------+----------------+\n",
      "| max_iterations |       std        |      mean      |\n",
      "+----------------+------------------+----------------+\n",
      "|      200       | 0.0139737979744  | 0.89786836637  |\n",
      "|      150       | 0.00240040371231 | 0.880879114037 |\n",
      "|      100       |       0.0        | 0.862865681399 |\n",
      "+----------------+------------------+----------------+\n",
      "[3 rows x 3 columns]\n",
      "\n",
      "+--------+-----------------+----------------+\n",
      "| metric |       std       |      mean      |\n",
      "+--------+-----------------+----------------+\n",
      "|  auc   | 0.0159401641879 | 0.889271322173 |\n",
      "+--------+-----------------+----------------+\n",
      "[1 rows x 3 columns]\n",
      "\n",
      "+------------------+------------------+----------------+\n",
      "| min_child_weight |       std        |      mean      |\n",
      "+------------------+------------------+----------------+\n",
      "|        2         |       0.0        | 0.913250916392 |\n",
      "|        16        |       0.0        | 0.862865681399 |\n",
      "|        8         | 0.00119880686648 | 0.87834395648  |\n",
      "|        1         | 0.0128187286724  | 0.896103873363 |\n",
      "|        4         |       0.0        | 0.897149261049 |\n",
      "+------------------+------------------+----------------+\n",
      "[5 rows x 3 columns]\n",
      "\n",
      "+--------------------+------------------+----------------+\n",
      "| min_loss_reduction |       std        |      mean      |\n",
      "+--------------------+------------------+----------------+\n",
      "|         10         | 0.0143657631155  | 0.877231444514 |\n",
      "|         0          | 0.00834433680765 | 0.88599408139  |\n",
      "|         1          | 0.0171099202572  | 0.898568501786 |\n",
      "+--------------------+------------------+----------------+\n",
      "[3 rows x 3 columns]\n",
      "\n",
      "+---------------+------------------+----------------+\n",
      "| row_subsample |       std        |      mean      |\n",
      "+---------------+------------------+----------------+\n",
      "|      0.9      | 0.0209762076874  | 0.892265882188 |\n",
      "|      1.0      | 0.00708813094983 | 0.886276762158 |\n",
      "+---------------+------------------+----------------+\n",
      "[2 rows x 3 columns]\n",
      "\n",
      "+--------+-----------------+----------------+\n",
      "| target |       std       |      mean      |\n",
      "+--------+-----------------+----------------+\n",
      "| target | 0.0159401641879 | 0.889271322173 |\n",
      "+--------+-----------------+----------------+\n",
      "[1 rows x 3 columns]\n",
      "\n"
     ]
    }
   ],
   "source": [
    "for col in [col for col in search_results.column_names() if \\\n",
    "            not('accuracy' in col) and col!= 'model_id' and col!= 'random_seed' and col!= 'fold_id' \\\n",
    "                               and col!= 'num_folds']:\n",
    "    print(search_results.groupby(col,\n",
    "                             {'mean':gl.aggregate.MEAN('mean_training_accuracy'),\n",
    "                                'std':gl.aggregate.STD('mean_training_accuracy')}))"
   ]
  },
  {
   "cell_type": "markdown",
   "metadata": {},
   "source": [
    "### Refit best model for feature importance"
   ]
  },
  {
   "cell_type": "code",
   "execution_count": 93,
   "metadata": {},
   "outputs": [
    {
     "data": {
      "text/plain": [
       "(3, 'currently non_endemic, that used to live in the endemic area')"
      ]
     },
     "execution_count": 93,
     "metadata": {},
     "output_type": "execute_result"
    }
   ],
   "source": [
    "case, case_text"
   ]
  },
  {
   "cell_type": "code",
   "execution_count": 61,
   "metadata": {
    "collapsed": true
   },
   "outputs": [],
   "source": [
    "params = model_search.get_best_params()"
   ]
  },
  {
   "cell_type": "code",
   "execution_count": 97,
   "metadata": {
    "scrolled": true
   },
   "outputs": [
    {
     "data": {
      "text/plain": [
       "{'class_weights': None,\n",
       " 'column_subsample': 0.5,\n",
       " 'max_depth': 12,\n",
       " 'max_iterations': 200,\n",
       " 'metric': 'auc',\n",
       " 'min_child_weight': 1,\n",
       " 'min_loss_reduction': 1,\n",
       " 'row_subsample': 0.9,\n",
       " 'target': 'target'}"
      ]
     },
     "execution_count": 97,
     "metadata": {},
     "output_type": "execute_result"
    }
   ],
   "source": [
    "params"
   ]
  },
  {
   "cell_type": "code",
   "execution_count": 115,
   "metadata": {
    "collapsed": true
   },
   "outputs": [],
   "source": [
    "# ## manually insert params if needed\n",
    "params = {'class_weights': None,\n",
    " 'column_subsample': 0.5,\n",
    " 'max_depth': 12,\n",
    " 'max_iterations': 200,\n",
    " 'metric': 'auc',\n",
    " 'min_child_weight': 1,\n",
    " 'min_loss_reduction': 1,\n",
    " 'row_subsample': 0.9,\n",
    " 'target': 'target'}"
   ]
  },
  {
   "cell_type": "code",
   "execution_count": 116,
   "metadata": {
    "scrolled": true
   },
   "outputs": [
    {
     "data": {
      "text/html": [
       "<pre>Random forest classifier:</pre>"
      ],
      "text/plain": [
       "Random forest classifier:"
      ]
     },
     "metadata": {},
     "output_type": "display_data"
    },
    {
     "data": {
      "text/html": [
       "<pre>--------------------------------------------------------</pre>"
      ],
      "text/plain": [
       "--------------------------------------------------------"
      ]
     },
     "metadata": {},
     "output_type": "display_data"
    },
    {
     "data": {
      "text/html": [
       "<pre>Number of examples          : 95180</pre>"
      ],
      "text/plain": [
       "Number of examples          : 95180"
      ]
     },
     "metadata": {},
     "output_type": "display_data"
    },
    {
     "data": {
      "text/html": [
       "<pre>Number of classes           : 2</pre>"
      ],
      "text/plain": [
       "Number of classes           : 2"
      ]
     },
     "metadata": {},
     "output_type": "display_data"
    },
    {
     "data": {
      "text/html": [
       "<pre>Number of feature columns   : 176</pre>"
      ],
      "text/plain": [
       "Number of feature columns   : 176"
      ]
     },
     "metadata": {},
     "output_type": "display_data"
    },
    {
     "data": {
      "text/html": [
       "<pre>Number of unpacked features : 176</pre>"
      ],
      "text/plain": [
       "Number of unpacked features : 176"
      ]
     },
     "metadata": {},
     "output_type": "display_data"
    },
    {
     "data": {
      "text/html": [
       "<pre>+-----------+--------------+--------------+----------------+</pre>"
      ],
      "text/plain": [
       "+-----------+--------------+--------------+----------------+"
      ]
     },
     "metadata": {},
     "output_type": "display_data"
    },
    {
     "data": {
      "text/html": [
       "<pre>| Iteration | Elapsed Time | Training-auc | Validation-auc |</pre>"
      ],
      "text/plain": [
       "| Iteration | Elapsed Time | Training-auc | Validation-auc |"
      ]
     },
     "metadata": {},
     "output_type": "display_data"
    },
    {
     "data": {
      "text/html": [
       "<pre>+-----------+--------------+--------------+----------------+</pre>"
      ],
      "text/plain": [
       "+-----------+--------------+--------------+----------------+"
      ]
     },
     "metadata": {},
     "output_type": "display_data"
    },
    {
     "data": {
      "text/html": [
       "<pre>| 1         | 0.652321     | 0.887324     | 0.857103       |</pre>"
      ],
      "text/plain": [
       "| 1         | 0.652321     | 0.887324     | 0.857103       |"
      ]
     },
     "metadata": {},
     "output_type": "display_data"
    },
    {
     "data": {
      "text/html": [
       "<pre>| 2         | 1.246490     | 0.901957     | 0.867521       |</pre>"
      ],
      "text/plain": [
       "| 2         | 1.246490     | 0.901957     | 0.867521       |"
      ]
     },
     "metadata": {},
     "output_type": "display_data"
    },
    {
     "data": {
      "text/html": [
       "<pre>| 3         | 1.806583     | 0.905375     | 0.872422       |</pre>"
      ],
      "text/plain": [
       "| 3         | 1.806583     | 0.905375     | 0.872422       |"
      ]
     },
     "metadata": {},
     "output_type": "display_data"
    },
    {
     "data": {
      "text/html": [
       "<pre>| 4         | 2.413643     | 0.907046     | 0.874334       |</pre>"
      ],
      "text/plain": [
       "| 4         | 2.413643     | 0.907046     | 0.874334       |"
      ]
     },
     "metadata": {},
     "output_type": "display_data"
    },
    {
     "data": {
      "text/html": [
       "<pre>| 5         | 2.997941     | 0.907899     | 0.877066       |</pre>"
      ],
      "text/plain": [
       "| 5         | 2.997941     | 0.907899     | 0.877066       |"
      ]
     },
     "metadata": {},
     "output_type": "display_data"
    },
    {
     "data": {
      "text/html": [
       "<pre>| 6         | 3.560141     | 0.909016     | 0.877600       |</pre>"
      ],
      "text/plain": [
       "| 6         | 3.560141     | 0.909016     | 0.877600       |"
      ]
     },
     "metadata": {},
     "output_type": "display_data"
    },
    {
     "data": {
      "text/html": [
       "<pre>| 10        | 5.866732     | 0.910702     | 0.878135       |</pre>"
      ],
      "text/plain": [
       "| 10        | 5.866732     | 0.910702     | 0.878135       |"
      ]
     },
     "metadata": {},
     "output_type": "display_data"
    },
    {
     "data": {
      "text/html": [
       "<pre>| 11        | 6.437765     | 0.911047     | 0.878510       |</pre>"
      ],
      "text/plain": [
       "| 11        | 6.437765     | 0.911047     | 0.878510       |"
      ]
     },
     "metadata": {},
     "output_type": "display_data"
    },
    {
     "data": {
      "text/html": [
       "<pre>| 15        | 8.785547     | 0.910084     | 0.878787       |</pre>"
      ],
      "text/plain": [
       "| 15        | 8.785547     | 0.910084     | 0.878787       |"
      ]
     },
     "metadata": {},
     "output_type": "display_data"
    },
    {
     "data": {
      "text/html": [
       "<pre>| 20        | 11.807212    | 0.909904     | 0.878865       |</pre>"
      ],
      "text/plain": [
       "| 20        | 11.807212    | 0.909904     | 0.878865       |"
      ]
     },
     "metadata": {},
     "output_type": "display_data"
    },
    {
     "data": {
      "text/html": [
       "<pre>| 25        | 14.744240    | 0.910098     | 0.879282       |</pre>"
      ],
      "text/plain": [
       "| 25        | 14.744240    | 0.910098     | 0.879282       |"
      ]
     },
     "metadata": {},
     "output_type": "display_data"
    },
    {
     "data": {
      "text/html": [
       "<pre>| 30        | 17.685828    | 0.910600     | 0.879573       |</pre>"
      ],
      "text/plain": [
       "| 30        | 17.685828    | 0.910600     | 0.879573       |"
      ]
     },
     "metadata": {},
     "output_type": "display_data"
    },
    {
     "data": {
      "text/html": [
       "<pre>| 35        | 20.626458    | 0.910753     | 0.879844       |</pre>"
      ],
      "text/plain": [
       "| 35        | 20.626458    | 0.910753     | 0.879844       |"
      ]
     },
     "metadata": {},
     "output_type": "display_data"
    },
    {
     "data": {
      "text/html": [
       "<pre>| 40        | 23.548323    | 0.911700     | 0.880033       |</pre>"
      ],
      "text/plain": [
       "| 40        | 23.548323    | 0.911700     | 0.880033       |"
      ]
     },
     "metadata": {},
     "output_type": "display_data"
    },
    {
     "data": {
      "text/html": [
       "<pre>| 45        | 26.465986    | 0.911888     | 0.880170       |</pre>"
      ],
      "text/plain": [
       "| 45        | 26.465986    | 0.911888     | 0.880170       |"
      ]
     },
     "metadata": {},
     "output_type": "display_data"
    },
    {
     "data": {
      "text/html": [
       "<pre>| 50        | 29.398379    | 0.911304     | 0.880063       |</pre>"
      ],
      "text/plain": [
       "| 50        | 29.398379    | 0.911304     | 0.880063       |"
      ]
     },
     "metadata": {},
     "output_type": "display_data"
    },
    {
     "data": {
      "text/html": [
       "<pre>| 51        | 29.978672    | 0.911127     | 0.879940       |</pre>"
      ],
      "text/plain": [
       "| 51        | 29.978672    | 0.911127     | 0.879940       |"
      ]
     },
     "metadata": {},
     "output_type": "display_data"
    },
    {
     "data": {
      "text/html": [
       "<pre>| 55        | 32.421343    | 0.911586     | 0.880214       |</pre>"
      ],
      "text/plain": [
       "| 55        | 32.421343    | 0.911586     | 0.880214       |"
      ]
     },
     "metadata": {},
     "output_type": "display_data"
    },
    {
     "data": {
      "text/html": [
       "<pre>| 60        | 35.351890    | 0.911719     | 0.880223       |</pre>"
      ],
      "text/plain": [
       "| 60        | 35.351890    | 0.911719     | 0.880223       |"
      ]
     },
     "metadata": {},
     "output_type": "display_data"
    },
    {
     "data": {
      "text/html": [
       "<pre>| 65        | 38.301109    | 0.911431     | 0.880264       |</pre>"
      ],
      "text/plain": [
       "| 65        | 38.301109    | 0.911431     | 0.880264       |"
      ]
     },
     "metadata": {},
     "output_type": "display_data"
    },
    {
     "data": {
      "text/html": [
       "<pre>| 70        | 41.233651    | 0.911672     | 0.880431       |</pre>"
      ],
      "text/plain": [
       "| 70        | 41.233651    | 0.911672     | 0.880431       |"
      ]
     },
     "metadata": {},
     "output_type": "display_data"
    },
    {
     "data": {
      "text/html": [
       "<pre>| 75        | 44.202491    | 0.911783     | 0.880531       |</pre>"
      ],
      "text/plain": [
       "| 75        | 44.202491    | 0.911783     | 0.880531       |"
      ]
     },
     "metadata": {},
     "output_type": "display_data"
    },
    {
     "data": {
      "text/html": [
       "<pre>| 80        | 47.131820    | 0.911876     | 0.880787       |</pre>"
      ],
      "text/plain": [
       "| 80        | 47.131820    | 0.911876     | 0.880787       |"
      ]
     },
     "metadata": {},
     "output_type": "display_data"
    },
    {
     "data": {
      "text/html": [
       "<pre>| 85        | 50.115690    | 0.911692     | 0.880654       |</pre>"
      ],
      "text/plain": [
       "| 85        | 50.115690    | 0.911692     | 0.880654       |"
      ]
     },
     "metadata": {},
     "output_type": "display_data"
    },
    {
     "data": {
      "text/html": [
       "<pre>| 90        | 53.037312    | 0.911642     | 0.880638       |</pre>"
      ],
      "text/plain": [
       "| 90        | 53.037312    | 0.911642     | 0.880638       |"
      ]
     },
     "metadata": {},
     "output_type": "display_data"
    },
    {
     "data": {
      "text/html": [
       "<pre>| 95        | 55.982949    | 0.911761     | 0.880594       |</pre>"
      ],
      "text/plain": [
       "| 95        | 55.982949    | 0.911761     | 0.880594       |"
      ]
     },
     "metadata": {},
     "output_type": "display_data"
    },
    {
     "data": {
      "text/html": [
       "<pre>| 100       | 58.942501    | 0.911896     | 0.880770       |</pre>"
      ],
      "text/plain": [
       "| 100       | 58.942501    | 0.911896     | 0.880770       |"
      ]
     },
     "metadata": {},
     "output_type": "display_data"
    },
    {
     "data": {
      "text/html": [
       "<pre>| 101       | 59.543678    | 0.911917     | 0.880809       |</pre>"
      ],
      "text/plain": [
       "| 101       | 59.543678    | 0.911917     | 0.880809       |"
      ]
     },
     "metadata": {},
     "output_type": "display_data"
    },
    {
     "data": {
      "text/html": [
       "<pre>| 105       | 61.956159    | 0.912024     | 0.880812       |</pre>"
      ],
      "text/plain": [
       "| 105       | 61.956159    | 0.912024     | 0.880812       |"
      ]
     },
     "metadata": {},
     "output_type": "display_data"
    },
    {
     "data": {
      "text/html": [
       "<pre>| 110       | 64.997207    | 0.912055     | 0.880836       |</pre>"
      ],
      "text/plain": [
       "| 110       | 64.997207    | 0.912055     | 0.880836       |"
      ]
     },
     "metadata": {},
     "output_type": "display_data"
    },
    {
     "data": {
      "text/html": [
       "<pre>| 115       | 68.007296    | 0.912050     | 0.880840       |</pre>"
      ],
      "text/plain": [
       "| 115       | 68.007296    | 0.912050     | 0.880840       |"
      ]
     },
     "metadata": {},
     "output_type": "display_data"
    },
    {
     "data": {
      "text/html": [
       "<pre>| 120       | 70.928535    | 0.912091     | 0.880870       |</pre>"
      ],
      "text/plain": [
       "| 120       | 70.928535    | 0.912091     | 0.880870       |"
      ]
     },
     "metadata": {},
     "output_type": "display_data"
    },
    {
     "data": {
      "text/html": [
       "<pre>| 125       | 73.922047    | 0.912097     | 0.880861       |</pre>"
      ],
      "text/plain": [
       "| 125       | 73.922047    | 0.912097     | 0.880861       |"
      ]
     },
     "metadata": {},
     "output_type": "display_data"
    },
    {
     "data": {
      "text/html": [
       "<pre>| 130       | 76.888999    | 0.912162     | 0.880940       |</pre>"
      ],
      "text/plain": [
       "| 130       | 76.888999    | 0.912162     | 0.880940       |"
      ]
     },
     "metadata": {},
     "output_type": "display_data"
    },
    {
     "data": {
      "text/html": [
       "<pre>| 135       | 79.867156    | 0.912198     | 0.880969       |</pre>"
      ],
      "text/plain": [
       "| 135       | 79.867156    | 0.912198     | 0.880969       |"
      ]
     },
     "metadata": {},
     "output_type": "display_data"
    },
    {
     "data": {
      "text/html": [
       "<pre>| 140       | 82.805333    | 0.912126     | 0.880958       |</pre>"
      ],
      "text/plain": [
       "| 140       | 82.805333    | 0.912126     | 0.880958       |"
      ]
     },
     "metadata": {},
     "output_type": "display_data"
    },
    {
     "data": {
      "text/html": [
       "<pre>| 145       | 85.773335    | 0.912173     | 0.880983       |</pre>"
      ],
      "text/plain": [
       "| 145       | 85.773335    | 0.912173     | 0.880983       |"
      ]
     },
     "metadata": {},
     "output_type": "display_data"
    },
    {
     "data": {
      "text/html": [
       "<pre>| 150       | 88.706009    | 0.912145     | 0.880899       |</pre>"
      ],
      "text/plain": [
       "| 150       | 88.706009    | 0.912145     | 0.880899       |"
      ]
     },
     "metadata": {},
     "output_type": "display_data"
    },
    {
     "data": {
      "text/html": [
       "<pre>| 155       | 91.627645    | 0.912177     | 0.880941       |</pre>"
      ],
      "text/plain": [
       "| 155       | 91.627645    | 0.912177     | 0.880941       |"
      ]
     },
     "metadata": {},
     "output_type": "display_data"
    },
    {
     "data": {
      "text/html": [
       "<pre>| 160       | 94.561862    | 0.912095     | 0.880943       |</pre>"
      ],
      "text/plain": [
       "| 160       | 94.561862    | 0.912095     | 0.880943       |"
      ]
     },
     "metadata": {},
     "output_type": "display_data"
    },
    {
     "data": {
      "text/html": [
       "<pre>| 165       | 97.539032    | 0.912132     | 0.880898       |</pre>"
      ],
      "text/plain": [
       "| 165       | 97.539032    | 0.912132     | 0.880898       |"
      ]
     },
     "metadata": {},
     "output_type": "display_data"
    },
    {
     "data": {
      "text/html": [
       "<pre>| 170       | 100.415218   | 0.912055     | 0.880924       |</pre>"
      ],
      "text/plain": [
       "| 170       | 100.415218   | 0.912055     | 0.880924       |"
      ]
     },
     "metadata": {},
     "output_type": "display_data"
    },
    {
     "data": {
      "text/html": [
       "<pre>| 175       | 103.342166   | 0.912047     | 0.881013       |</pre>"
      ],
      "text/plain": [
       "| 175       | 103.342166   | 0.912047     | 0.881013       |"
      ]
     },
     "metadata": {},
     "output_type": "display_data"
    },
    {
     "data": {
      "text/html": [
       "<pre>| 180       | 106.324004   | 0.912119     | 0.881047       |</pre>"
      ],
      "text/plain": [
       "| 180       | 106.324004   | 0.912119     | 0.881047       |"
      ]
     },
     "metadata": {},
     "output_type": "display_data"
    },
    {
     "data": {
      "text/html": [
       "<pre>| 185       | 109.276733   | 0.912126     | 0.881056       |</pre>"
      ],
      "text/plain": [
       "| 185       | 109.276733   | 0.912126     | 0.881056       |"
      ]
     },
     "metadata": {},
     "output_type": "display_data"
    },
    {
     "data": {
      "text/html": [
       "<pre>| 190       | 112.230811   | 0.912185     | 0.881136       |</pre>"
      ],
      "text/plain": [
       "| 190       | 112.230811   | 0.912185     | 0.881136       |"
      ]
     },
     "metadata": {},
     "output_type": "display_data"
    },
    {
     "data": {
      "text/html": [
       "<pre>| 195       | 115.117248   | 0.912165     | 0.881090       |</pre>"
      ],
      "text/plain": [
       "| 195       | 115.117248   | 0.912165     | 0.881090       |"
      ]
     },
     "metadata": {},
     "output_type": "display_data"
    },
    {
     "data": {
      "text/html": [
       "<pre>| 200       | 118.090183   | 0.912192     | 0.881041       |</pre>"
      ],
      "text/plain": [
       "| 200       | 118.090183   | 0.912192     | 0.881041       |"
      ]
     },
     "metadata": {},
     "output_type": "display_data"
    },
    {
     "data": {
      "text/html": [
       "<pre>+-----------+--------------+--------------+----------------+</pre>"
      ],
      "text/plain": [
       "+-----------+--------------+--------------+----------------+"
      ]
     },
     "metadata": {},
     "output_type": "display_data"
    },
    {
     "name": "stdout",
     "output_type": "stream",
     "text": [
      "CPU times: user 9min 30s, sys: 17.7 s, total: 9min 48s\n",
      "Wall time: 2min 9s\n"
     ]
    }
   ],
   "source": [
    "%%time\n",
    "best_model =  random_forest_classifier.create(dataset=X_gl,\n",
    "                                             validation_set = X_val_gl,\n",
    "                                             **params)"
   ]
  },
  {
   "cell_type": "code",
   "execution_count": 117,
   "metadata": {
    "scrolled": false
   },
   "outputs": [
    {
     "data": {
      "text/html": [
       "<div style=\"max-height:1000px;max-width:1500px;overflow:auto;\"><table frame=\"box\" rules=\"cols\">\n",
       "    <tr>\n",
       "        <th style=\"padding-left: 1em; padding-right: 1em; text-align: center\">name</th>\n",
       "        <th style=\"padding-left: 1em; padding-right: 1em; text-align: center\">index</th>\n",
       "        <th style=\"padding-left: 1em; padding-right: 1em; text-align: center\">count</th>\n",
       "    </tr>\n",
       "    <tr>\n",
       "        <td style=\"padding-left: 1em; padding-right: 1em; text-align: center; vertical-align: top\">MOBILITY_DIAMETER</td>\n",
       "        <td style=\"padding-left: 1em; padding-right: 1em; text-align: center; vertical-align: top\">None</td>\n",
       "        <td style=\"padding-left: 1em; padding-right: 1em; text-align: center; vertical-align: top\">7950</td>\n",
       "    </tr>\n",
       "    <tr>\n",
       "        <td style=\"padding-left: 1em; padding-right: 1em; text-align: center; vertical-align: top\">COUNT_0</td>\n",
       "        <td style=\"padding-left: 1em; padding-right: 1em; text-align: center; vertical-align: top\">None</td>\n",
       "        <td style=\"padding-left: 1em; padding-right: 1em; text-align: center; vertical-align: top\">7009</td>\n",
       "    </tr>\n",
       "    <tr>\n",
       "        <td style=\"padding-left: 1em; padding-right: 1em; text-align: center; vertical-align: top\">COUNT_WEEKNIGHT_0</td>\n",
       "        <td style=\"padding-left: 1em; padding-right: 1em; text-align: center; vertical-align: top\">None</td>\n",
       "        <td style=\"padding-left: 1em; padding-right: 1em; text-align: center; vertical-align: top\">6912</td>\n",
       "    </tr>\n",
       "    <tr>\n",
       "        <td style=\"padding-left: 1em; padding-right: 1em; text-align: center; vertical-align: top\">MOBILITY_DIAMETER_WEEKNIG<br>HT ...</td>\n",
       "        <td style=\"padding-left: 1em; padding-right: 1em; text-align: center; vertical-align: top\">None</td>\n",
       "        <td style=\"padding-left: 1em; padding-right: 1em; text-align: center; vertical-align: top\">6333</td>\n",
       "    </tr>\n",
       "    <tr>\n",
       "        <td style=\"padding-left: 1em; padding-right: 1em; text-align: center; vertical-align: top\">COUNT_1</td>\n",
       "        <td style=\"padding-left: 1em; padding-right: 1em; text-align: center; vertical-align: top\">None</td>\n",
       "        <td style=\"padding-left: 1em; padding-right: 1em; text-align: center; vertical-align: top\">4335</td>\n",
       "    </tr>\n",
       "    <tr>\n",
       "        <td style=\"padding-left: 1em; padding-right: 1em; text-align: center; vertical-align: top\">COUNT_2</td>\n",
       "        <td style=\"padding-left: 1em; padding-right: 1em; text-align: center; vertical-align: top\">None</td>\n",
       "        <td style=\"padding-left: 1em; padding-right: 1em; text-align: center; vertical-align: top\">3925</td>\n",
       "    </tr>\n",
       "    <tr>\n",
       "        <td style=\"padding-left: 1em; padding-right: 1em; text-align: center; vertical-align: top\">COUNT_WEEKNIGHT_1</td>\n",
       "        <td style=\"padding-left: 1em; padding-right: 1em; text-align: center; vertical-align: top\">None</td>\n",
       "        <td style=\"padding-left: 1em; padding-right: 1em; text-align: center; vertical-align: top\">2844</td>\n",
       "    </tr>\n",
       "    <tr>\n",
       "        <td style=\"padding-left: 1em; padding-right: 1em; text-align: center; vertical-align: top\">COUNT_3</td>\n",
       "        <td style=\"padding-left: 1em; padding-right: 1em; text-align: center; vertical-align: top\">None</td>\n",
       "        <td style=\"padding-left: 1em; padding-right: 1em; text-align: center; vertical-align: top\">2687</td>\n",
       "    </tr>\n",
       "    <tr>\n",
       "        <td style=\"padding-left: 1em; padding-right: 1em; text-align: center; vertical-align: top\">TimeWeekDay_OUT_08</td>\n",
       "        <td style=\"padding-left: 1em; padding-right: 1em; text-align: center; vertical-align: top\">None</td>\n",
       "        <td style=\"padding-left: 1em; padding-right: 1em; text-align: center; vertical-align: top\">2509</td>\n",
       "    </tr>\n",
       "    <tr>\n",
       "        <td style=\"padding-left: 1em; padding-right: 1em; text-align: center; vertical-align: top\">TimeWeekDay_OUT_12</td>\n",
       "        <td style=\"padding-left: 1em; padding-right: 1em; text-align: center; vertical-align: top\">None</td>\n",
       "        <td style=\"padding-left: 1em; padding-right: 1em; text-align: center; vertical-align: top\">2482</td>\n",
       "    </tr>\n",
       "</table>\n",
       "[20 rows x 3 columns]<br/>Note: Only the head of the SFrame is printed.<br/>You can use print_rows(num_rows=m, num_columns=n) to print more rows and columns.\n",
       "</div>"
      ],
      "text/plain": [
       "Columns:\n",
       "\tname\tstr\n",
       "\tindex\tstr\n",
       "\tcount\tint\n",
       "\n",
       "Rows: 20\n",
       "\n",
       "Data:\n",
       "+-----------------------------+-------+-------+\n",
       "|             name            | index | count |\n",
       "+-----------------------------+-------+-------+\n",
       "|      MOBILITY_DIAMETER      |  None |  7950 |\n",
       "|           COUNT_0           |  None |  7009 |\n",
       "|      COUNT_WEEKNIGHT_0      |  None |  6912 |\n",
       "| MOBILITY_DIAMETER_WEEKNIGHT |  None |  6333 |\n",
       "|           COUNT_1           |  None |  4335 |\n",
       "|           COUNT_2           |  None |  3925 |\n",
       "|      COUNT_WEEKNIGHT_1      |  None |  2844 |\n",
       "|           COUNT_3           |  None |  2687 |\n",
       "|      TimeWeekDay_OUT_08     |  None |  2509 |\n",
       "|      TimeWeekDay_OUT_12     |  None |  2482 |\n",
       "+-----------------------------+-------+-------+\n",
       "[20 rows x 3 columns]\n",
       "Note: Only the head of the SFrame is printed.\n",
       "You can use print_rows(num_rows=m, num_columns=n) to print more rows and columns."
      ]
     },
     "execution_count": 117,
     "metadata": {},
     "output_type": "execute_result"
    }
   ],
   "source": [
    "best_feat = best_model.get_feature_importance()\n",
    "best_feat.head(20)"
   ]
  },
  {
   "cell_type": "code",
   "execution_count": 118,
   "metadata": {
    "collapsed": true
   },
   "outputs": [],
   "source": [
    "# filter_cols"
   ]
  },
  {
   "cell_type": "code",
   "execution_count": 119,
   "metadata": {
    "scrolled": true
   },
   "outputs": [
    {
     "data": {
      "text/plain": [
       "['MOBILITY_DIAMETER',\n",
       " 'COUNT_0',\n",
       " 'COUNT_WEEKNIGHT_0',\n",
       " 'MOBILITY_DIAMETER_WEEKNIGHT',\n",
       " 'COUNT_1',\n",
       " 'COUNT_2',\n",
       " 'COUNT_WEEKNIGHT_1',\n",
       " 'COUNT_3',\n",
       " 'TimeWeekDay_OUT_08',\n",
       " 'TimeWeekDay_OUT_12',\n",
       " 'TimeWeekDay_IN_08',\n",
       " 'COUNT_4',\n",
       " 'COUNT_5',\n",
       " 'TimeWeekDay_IN_09',\n",
       " 'TimeWeekDay_IN_12',\n",
       " 'TimeWeekDay_OUT_09',\n",
       " 'TimeWeekEnd_IN_08',\n",
       " 'TimeWeekDay_OUT_VUL_08',\n",
       " 'CallsWeekDay_OUT_08',\n",
       " 'TimeWeekEnd_OUT_08',\n",
       " 'COUNT_WEEKNIGHT_2',\n",
       " 'COUNT_7',\n",
       " 'CallsWeekDay_OUT_12',\n",
       " 'TimeWeekDay_OUT_11',\n",
       " 'COUNT_6',\n",
       " 'CallsWeekDay_IN_12',\n",
       " 'TimeWeekDay_IN_10',\n",
       " 'TimeWeekDay_OUT_10',\n",
       " 'TimeWeekDay_IN_VUL_08',\n",
       " 'COUNT_8']"
      ]
     },
     "execution_count": 119,
     "metadata": {},
     "output_type": "execute_result"
    }
   ],
   "source": [
    "list(best_feat['name'].head(30))\n",
    "#print_rows(num_rows= 30)"
   ]
  },
  {
   "cell_type": "code",
   "execution_count": 120,
   "metadata": {},
   "outputs": [
    {
     "data": {
      "text/plain": [
       "118.09162"
      ]
     },
     "execution_count": 120,
     "metadata": {},
     "output_type": "execute_result"
    }
   ],
   "source": [
    "best_model.training_time"
   ]
  },
  {
   "cell_type": "code",
   "execution_count": 121,
   "metadata": {
    "scrolled": true
   },
   "outputs": [
    {
     "data": {
      "text/plain": [
       "{'accuracy': 0.8896624070188823,\n",
       " 'auc': 0.8810393712641603,\n",
       " 'confusion_matrix': Columns:\n",
       " \ttarget_label\tint\n",
       " \tpredicted_label\tint\n",
       " \tcount\tint\n",
       " \n",
       " Rows: 4\n",
       " \n",
       " Data:\n",
       " +--------------+-----------------+-------+\n",
       " | target_label | predicted_label | count |\n",
       " +--------------+-----------------+-------+\n",
       " |      0       |        1        |  258  |\n",
       " |      1       |        0        |  899  |\n",
       " |      1       |        1        |  1139 |\n",
       " |      0       |        0        |  8190 |\n",
       " +--------------+-----------------+-------+\n",
       " [4 rows x 3 columns],\n",
       " 'f1_score': 0.6631732168850072,\n",
       " 'log_loss': 0.337038657437402,\n",
       " 'precision': 0.8153185397279885,\n",
       " 'recall': 0.5588812561334642,\n",
       " 'roc_curve': Columns:\n",
       " \tthreshold\tfloat\n",
       " \tfpr\tfloat\n",
       " \ttpr\tfloat\n",
       " \tp\tint\n",
       " \tn\tint\n",
       " \n",
       " Rows: 100001\n",
       " \n",
       " Data:\n",
       " +-----------+-----+-----+------+------+\n",
       " | threshold | fpr | tpr |  p   |  n   |\n",
       " +-----------+-----+-----+------+------+\n",
       " |    0.0    | 1.0 | 1.0 | 2038 | 8448 |\n",
       " |   1e-05   | 1.0 | 1.0 | 2038 | 8448 |\n",
       " |   2e-05   | 1.0 | 1.0 | 2038 | 8448 |\n",
       " |   3e-05   | 1.0 | 1.0 | 2038 | 8448 |\n",
       " |   4e-05   | 1.0 | 1.0 | 2038 | 8448 |\n",
       " |   5e-05   | 1.0 | 1.0 | 2038 | 8448 |\n",
       " |   6e-05   | 1.0 | 1.0 | 2038 | 8448 |\n",
       " |   7e-05   | 1.0 | 1.0 | 2038 | 8448 |\n",
       " |   8e-05   | 1.0 | 1.0 | 2038 | 8448 |\n",
       " |   9e-05   | 1.0 | 1.0 | 2038 | 8448 |\n",
       " +-----------+-----+-----+------+------+\n",
       " [100001 rows x 5 columns]\n",
       " Note: Only the head of the SFrame is printed.\n",
       " You can use print_rows(num_rows=m, num_columns=n) to print more rows and columns.}"
      ]
     },
     "execution_count": 121,
     "metadata": {},
     "output_type": "execute_result"
    }
   ],
   "source": [
    "test_error = best_model.evaluate(X_val_gl)\n",
    "\n",
    "test_error"
   ]
  },
  {
   "cell_type": "code",
   "execution_count": 122,
   "metadata": {},
   "outputs": [
    {
     "data": {
      "text/plain": [
       "<bound method RandomForestClassifier.get_current_options of Class                          : RandomForestClassifier\n",
       "\n",
       "Schema\n",
       "------\n",
       "Number of examples             : 95180\n",
       "Number of feature columns      : 176\n",
       "Number of unpacked features    : 176\n",
       "Number of classes              : 2\n",
       "\n",
       "Settings\n",
       "--------\n",
       "Number of trees                : 200\n",
       "Max tree depth                 : 12\n",
       "Training time (sec)            : 118.0916\n",
       "Training auc                   : 0.9122\n",
       "Validation auc                 : 0.881\n",
       ">"
      ]
     },
     "execution_count": 122,
     "metadata": {},
     "output_type": "execute_result"
    }
   ],
   "source": [
    "best_model.get_current_options"
   ]
  },
  {
   "cell_type": "code",
   "execution_count": null,
   "metadata": {
    "collapsed": true
   },
   "outputs": [],
   "source": []
  },
  {
   "cell_type": "markdown",
   "metadata": {},
   "source": [
    "# Boosted Classifier\n",
    "### HyperParams search"
   ]
  },
  {
   "cell_type": "code",
   "execution_count": 72,
   "metadata": {
    "collapsed": true
   },
   "outputs": [],
   "source": [
    "# Boosted Trees HyperParams\n",
    "\n",
    "# target_col = 'Y'\n",
    "\n",
    "params = {\n",
    "    'target': target_col, ## the target column string name \n",
    "    'max_iterations': [\n",
    "                      200,\n",
    "                       250,\n",
    "#                        90,\n",
    "#                        120,\n",
    "                    300,\n",
    "                      ], #The maximum number of iterations for boosting. Each iteration == extra tree.\n",
    "    'class_weights': [\n",
    "                      None, \n",
    "#                       'auto',\n",
    "    ], #Weights the examples in the training data according to the given class weights.\n",
    "#     'class_weights': [None],\n",
    "    'max_depth': [\n",
    "#         2,\n",
    "#         3,\n",
    "        4,\n",
    "#         6,\n",
    "        9,\n",
    "        15,\n",
    "        20,\n",
    "    ], #Maximum depth of a tree. Must be at least 1.\n",
    "    'step_size': [\n",
    "        1e-1,\n",
    "        0.5,\n",
    "        1e-2,\n",
    "        1,\n",
    "    ], # Step size (shrinkage) used in update to prevents overfitting\n",
    "    'min_loss_reduction': [\n",
    "#         1e-2,\n",
    "        1,\n",
    "        10,\n",
    "    ], #Minimum loss reduction required to make a further partition/split a node during the tree learning\n",
    "    'min_child_weight': [\n",
    "#         1e-2,\n",
    "        2,\n",
    "        5,\n",
    "        10,\n",
    "    ], # Controls the minimum weight of each leaf node . larger values > less overfitting\n",
    "    'row_subsample': [\n",
    "        0.5,\n",
    "        0.75,\n",
    "    ], #Subsample the ratio of the training set in each iteration of tree construction\n",
    "    \n",
    "    'column_subsample': [\n",
    "#         0.01,\n",
    "        0.1,\n",
    "        0.05,\n",
    "        0.8,\n",
    "                        ], # Subsample the ratio of the columns in each iteration of tree construction\n",
    "    #'metric': ['accuracy', 'auc', 'f1_score','recall','precision'], # Performance metric(s) that are tracked during training     \n",
    "    'metric': ['auc'],\n",
    "    'random_seed' : int(abs(hash('im not joking...'))%1e6) \n",
    "}\n",
    "\n",
    "model_factory = boosted_trees_classifier.create"
   ]
  },
  {
   "cell_type": "markdown",
   "metadata": {},
   "source": [
    "### Choose if we want to use random forest's top features result\n"
   ]
  },
  {
   "cell_type": "code",
   "execution_count": 73,
   "metadata": {
    "collapsed": true,
    "scrolled": true
   },
   "outputs": [],
   "source": [
    "n_cols = 30\n",
    "\n",
    "top_rf_features = False\n",
    "# top_rf_features = None\n",
    "\n",
    "if top_rf_features:\n",
    "    filter_cols = list(best_feat['name'].head(n_cols).to_numpy()) + [target_col]\n",
    "\n",
    "    X_val_gl = X_val_gl[filter_cols]\n",
    "    X_gl = X_gl[filter_cols]\n",
    "    \n",
    "    kfold = cross_validation.KFold(\n",
    "    X_gl,num_folds=num_folds)"
   ]
  },
  {
   "cell_type": "markdown",
   "metadata": {},
   "source": [
    "### Grid Search Boosted "
   ]
  },
  {
   "cell_type": "code",
   "execution_count": 74,
   "metadata": {
    "scrolled": true
   },
   "outputs": [
    {
     "name": "stderr",
     "output_type": "stream",
     "text": [
      "[INFO] graphlab.deploy.job: Validating job.\n",
      "[INFO] graphlab.deploy.map_job: Validation complete. Job: 'Model-Parameter-Search-May-28-2017-05-23-0800000' ready for execution\n",
      "[INFO] graphlab.deploy.map_job: Job: 'Model-Parameter-Search-May-28-2017-05-23-0800000' scheduled.\n",
      "[INFO] graphlab.deploy.job: Validating job.\n",
      "[INFO] graphlab.deploy.map_job: A job with name 'Model-Parameter-Search-May-28-2017-05-23-0800000' already exists. Renaming the job to 'Model-Parameter-Search-May-28-2017-05-23-0800000-804e5'.\n",
      "[INFO] graphlab.deploy.map_job: Validation complete. Job: 'Model-Parameter-Search-May-28-2017-05-23-0800000-804e5' ready for execution\n",
      "[INFO] graphlab.deploy.map_job: Job: 'Model-Parameter-Search-May-28-2017-05-23-0800000-804e5' scheduled.\n",
      "[INFO] graphlab.deploy.job: Validating job.\n",
      "[INFO] graphlab.deploy.map_job: Validation complete. Job: 'Model-Parameter-Search-May-28-2017-05-23-0800001' ready for execution\n",
      "[INFO] graphlab.deploy.map_job: Job: 'Model-Parameter-Search-May-28-2017-05-23-0800001' scheduled.\n",
      "[INFO] graphlab.deploy.job: Validating job.\n",
      "[INFO] graphlab.deploy.map_job: Validation complete. Job: 'Model-Parameter-Search-May-28-2017-05-23-0800002' ready for execution\n",
      "[INFO] graphlab.deploy.map_job: Job: 'Model-Parameter-Search-May-28-2017-05-23-0800002' scheduled.\n"
     ]
    },
    {
     "name": "stdout",
     "output_type": "stream",
     "text": [
      "CPU times: user 41.5 s, sys: 9.14 s, total: 50.6 s\n",
      "Wall time: 19min 32s\n"
     ]
    }
   ],
   "source": [
    "%%time\n",
    "start_time = time.time()\n",
    "model_search = model_parameter_search.create( datasets = kfold, \n",
    "                                             #[data, val_set],\n",
    "                                             model_factory = model_factory,\n",
    "                                    model_parameters = params, \n",
    "                                    perform_trial_run = True  )\n",
    "\n",
    "search_results = model_search.get_results()\n",
    "\n",
    "all_time = time.time() - start_time "
   ]
  },
  {
   "cell_type": "code",
   "execution_count": 75,
   "metadata": {},
   "outputs": [
    {
     "data": {
      "text/plain": [
       "(0, 19.53582328557968)"
      ]
     },
     "execution_count": 75,
     "metadata": {},
     "output_type": "execute_result"
    }
   ],
   "source": [
    "# convert duration in seconds to hours and minutes\n",
    "int(abs(all_time)/3600) ,(abs(all_time)/3600 %1)*60"
   ]
  },
  {
   "cell_type": "code",
   "execution_count": 76,
   "metadata": {
    "scrolled": true
   },
   "outputs": [
    {
     "data": {
      "text/html": [
       "<div style=\"max-height:1000px;max-width:1500px;overflow:auto;\"><table frame=\"box\" rules=\"cols\">\n",
       "    <tr>\n",
       "        <th style=\"padding-left: 1em; padding-right: 1em; text-align: center\">task_name</th>\n",
       "        <th style=\"padding-left: 1em; padding-right: 1em; text-align: center\">status</th>\n",
       "        <th style=\"padding-left: 1em; padding-right: 1em; text-align: center\">start_time</th>\n",
       "        <th style=\"padding-left: 1em; padding-right: 1em; text-align: center\">run_time</th>\n",
       "        <th style=\"padding-left: 1em; padding-right: 1em; text-align: center\">exception</th>\n",
       "        <th style=\"padding-left: 1em; padding-right: 1em; text-align: center\">exception_message</th>\n",
       "        <th style=\"padding-left: 1em; padding-right: 1em; text-align: center\">exception_traceback</th>\n",
       "    </tr>\n",
       "    <tr>\n",
       "        <td style=\"padding-left: 1em; padding-right: 1em; text-align: center; vertical-align: top\">_train_test_model-0-0</td>\n",
       "        <td style=\"padding-left: 1em; padding-right: 1em; text-align: center; vertical-align: top\">Completed</td>\n",
       "        <td style=\"padding-left: 1em; padding-right: 1em; text-align: center; vertical-align: top\">2017-05-28 05:24:26</td>\n",
       "        <td style=\"padding-left: 1em; padding-right: 1em; text-align: center; vertical-align: top\">84.0898089409</td>\n",
       "        <td style=\"padding-left: 1em; padding-right: 1em; text-align: center; vertical-align: top\">None</td>\n",
       "        <td style=\"padding-left: 1em; padding-right: 1em; text-align: center; vertical-align: top\">None</td>\n",
       "        <td style=\"padding-left: 1em; padding-right: 1em; text-align: center; vertical-align: top\">None</td>\n",
       "    </tr>\n",
       "    <tr>\n",
       "        <td style=\"padding-left: 1em; padding-right: 1em; text-align: center; vertical-align: top\">_train_test_model-0-1</td>\n",
       "        <td style=\"padding-left: 1em; padding-right: 1em; text-align: center; vertical-align: top\">Completed</td>\n",
       "        <td style=\"padding-left: 1em; padding-right: 1em; text-align: center; vertical-align: top\">2017-05-28 05:25:50</td>\n",
       "        <td style=\"padding-left: 1em; padding-right: 1em; text-align: center; vertical-align: top\">86.6875948906</td>\n",
       "        <td style=\"padding-left: 1em; padding-right: 1em; text-align: center; vertical-align: top\">None</td>\n",
       "        <td style=\"padding-left: 1em; padding-right: 1em; text-align: center; vertical-align: top\">None</td>\n",
       "        <td style=\"padding-left: 1em; padding-right: 1em; text-align: center; vertical-align: top\">None</td>\n",
       "    </tr>\n",
       "    <tr>\n",
       "        <td style=\"padding-left: 1em; padding-right: 1em; text-align: center; vertical-align: top\">_train_test_model-0-2</td>\n",
       "        <td style=\"padding-left: 1em; padding-right: 1em; text-align: center; vertical-align: top\">Completed</td>\n",
       "        <td style=\"padding-left: 1em; padding-right: 1em; text-align: center; vertical-align: top\">2017-05-28 05:27:17</td>\n",
       "        <td style=\"padding-left: 1em; padding-right: 1em; text-align: center; vertical-align: top\">59.9590389729</td>\n",
       "        <td style=\"padding-left: 1em; padding-right: 1em; text-align: center; vertical-align: top\">None</td>\n",
       "        <td style=\"padding-left: 1em; padding-right: 1em; text-align: center; vertical-align: top\">None</td>\n",
       "        <td style=\"padding-left: 1em; padding-right: 1em; text-align: center; vertical-align: top\">None</td>\n",
       "    </tr>\n",
       "    <tr>\n",
       "        <td style=\"padding-left: 1em; padding-right: 1em; text-align: center; vertical-align: top\">_train_test_model-0-3</td>\n",
       "        <td style=\"padding-left: 1em; padding-right: 1em; text-align: center; vertical-align: top\">Completed</td>\n",
       "        <td style=\"padding-left: 1em; padding-right: 1em; text-align: center; vertical-align: top\">2017-05-28 05:28:17</td>\n",
       "        <td style=\"padding-left: 1em; padding-right: 1em; text-align: center; vertical-align: top\">94.800579071</td>\n",
       "        <td style=\"padding-left: 1em; padding-right: 1em; text-align: center; vertical-align: top\">None</td>\n",
       "        <td style=\"padding-left: 1em; padding-right: 1em; text-align: center; vertical-align: top\">None</td>\n",
       "        <td style=\"padding-left: 1em; padding-right: 1em; text-align: center; vertical-align: top\">None</td>\n",
       "    </tr>\n",
       "    <tr>\n",
       "        <td style=\"padding-left: 1em; padding-right: 1em; text-align: center; vertical-align: top\">_train_test_model-0-4</td>\n",
       "        <td style=\"padding-left: 1em; padding-right: 1em; text-align: center; vertical-align: top\">Completed</td>\n",
       "        <td style=\"padding-left: 1em; padding-right: 1em; text-align: center; vertical-align: top\">2017-05-28 05:29:52</td>\n",
       "        <td style=\"padding-left: 1em; padding-right: 1em; text-align: center; vertical-align: top\">138.167016983</td>\n",
       "        <td style=\"padding-left: 1em; padding-right: 1em; text-align: center; vertical-align: top\">None</td>\n",
       "        <td style=\"padding-left: 1em; padding-right: 1em; text-align: center; vertical-align: top\">None</td>\n",
       "        <td style=\"padding-left: 1em; padding-right: 1em; text-align: center; vertical-align: top\">None</td>\n",
       "    </tr>\n",
       "    <tr>\n",
       "        <td style=\"padding-left: 1em; padding-right: 1em; text-align: center; vertical-align: top\">_train_test_model-0-5</td>\n",
       "        <td style=\"padding-left: 1em; padding-right: 1em; text-align: center; vertical-align: top\">Completed</td>\n",
       "        <td style=\"padding-left: 1em; padding-right: 1em; text-align: center; vertical-align: top\">2017-05-28 05:32:10</td>\n",
       "        <td style=\"padding-left: 1em; padding-right: 1em; text-align: center; vertical-align: top\">89.2651269436</td>\n",
       "        <td style=\"padding-left: 1em; padding-right: 1em; text-align: center; vertical-align: top\">None</td>\n",
       "        <td style=\"padding-left: 1em; padding-right: 1em; text-align: center; vertical-align: top\">None</td>\n",
       "        <td style=\"padding-left: 1em; padding-right: 1em; text-align: center; vertical-align: top\">None</td>\n",
       "    </tr>\n",
       "    <tr>\n",
       "        <td style=\"padding-left: 1em; padding-right: 1em; text-align: center; vertical-align: top\">_train_test_model-0-6</td>\n",
       "        <td style=\"padding-left: 1em; padding-right: 1em; text-align: center; vertical-align: top\">Completed</td>\n",
       "        <td style=\"padding-left: 1em; padding-right: 1em; text-align: center; vertical-align: top\">2017-05-28 05:33:40</td>\n",
       "        <td style=\"padding-left: 1em; padding-right: 1em; text-align: center; vertical-align: top\">101.135102987</td>\n",
       "        <td style=\"padding-left: 1em; padding-right: 1em; text-align: center; vertical-align: top\">None</td>\n",
       "        <td style=\"padding-left: 1em; padding-right: 1em; text-align: center; vertical-align: top\">None</td>\n",
       "        <td style=\"padding-left: 1em; padding-right: 1em; text-align: center; vertical-align: top\">None</td>\n",
       "    </tr>\n",
       "    <tr>\n",
       "        <td style=\"padding-left: 1em; padding-right: 1em; text-align: center; vertical-align: top\">_train_test_model-0-7</td>\n",
       "        <td style=\"padding-left: 1em; padding-right: 1em; text-align: center; vertical-align: top\">Completed</td>\n",
       "        <td style=\"padding-left: 1em; padding-right: 1em; text-align: center; vertical-align: top\">2017-05-28 05:35:21</td>\n",
       "        <td style=\"padding-left: 1em; padding-right: 1em; text-align: center; vertical-align: top\">48.8374538422</td>\n",
       "        <td style=\"padding-left: 1em; padding-right: 1em; text-align: center; vertical-align: top\">None</td>\n",
       "        <td style=\"padding-left: 1em; padding-right: 1em; text-align: center; vertical-align: top\">None</td>\n",
       "        <td style=\"padding-left: 1em; padding-right: 1em; text-align: center; vertical-align: top\">None</td>\n",
       "    </tr>\n",
       "    <tr>\n",
       "        <td style=\"padding-left: 1em; padding-right: 1em; text-align: center; vertical-align: top\">_train_test_model-0-8</td>\n",
       "        <td style=\"padding-left: 1em; padding-right: 1em; text-align: center; vertical-align: top\">Completed</td>\n",
       "        <td style=\"padding-left: 1em; padding-right: 1em; text-align: center; vertical-align: top\">2017-05-28 05:36:10</td>\n",
       "        <td style=\"padding-left: 1em; padding-right: 1em; text-align: center; vertical-align: top\">62.6350979805</td>\n",
       "        <td style=\"padding-left: 1em; padding-right: 1em; text-align: center; vertical-align: top\">None</td>\n",
       "        <td style=\"padding-left: 1em; padding-right: 1em; text-align: center; vertical-align: top\">None</td>\n",
       "        <td style=\"padding-left: 1em; padding-right: 1em; text-align: center; vertical-align: top\">None</td>\n",
       "    </tr>\n",
       "    <tr>\n",
       "        <td style=\"padding-left: 1em; padding-right: 1em; text-align: center; vertical-align: top\">_train_test_model-0-9</td>\n",
       "        <td style=\"padding-left: 1em; padding-right: 1em; text-align: center; vertical-align: top\">Completed</td>\n",
       "        <td style=\"padding-left: 1em; padding-right: 1em; text-align: center; vertical-align: top\">2017-05-28 05:37:13</td>\n",
       "        <td style=\"padding-left: 1em; padding-right: 1em; text-align: center; vertical-align: top\">44.2389678955</td>\n",
       "        <td style=\"padding-left: 1em; padding-right: 1em; text-align: center; vertical-align: top\">None</td>\n",
       "        <td style=\"padding-left: 1em; padding-right: 1em; text-align: center; vertical-align: top\">None</td>\n",
       "        <td style=\"padding-left: 1em; padding-right: 1em; text-align: center; vertical-align: top\">None</td>\n",
       "    </tr>\n",
       "</table>\n",
       "<table frame=\"box\" rules=\"cols\">\n",
       "    <tr>\n",
       "        <th style=\"padding-left: 1em; padding-right: 1em; text-align: center\">job_name</th>\n",
       "    </tr>\n",
       "    <tr>\n",
       "        <td style=\"padding-left: 1em; padding-right: 1em; text-align: center; vertical-align: top\">Model-Parameter-Search-Ma<br>y-28-2017-05-23-08000 ...</td>\n",
       "    </tr>\n",
       "    <tr>\n",
       "        <td style=\"padding-left: 1em; padding-right: 1em; text-align: center; vertical-align: top\">Model-Parameter-Search-Ma<br>y-28-2017-05-23-08000 ...</td>\n",
       "    </tr>\n",
       "    <tr>\n",
       "        <td style=\"padding-left: 1em; padding-right: 1em; text-align: center; vertical-align: top\">Model-Parameter-Search-Ma<br>y-28-2017-05-23-08000 ...</td>\n",
       "    </tr>\n",
       "    <tr>\n",
       "        <td style=\"padding-left: 1em; padding-right: 1em; text-align: center; vertical-align: top\">Model-Parameter-Search-Ma<br>y-28-2017-05-23-08000 ...</td>\n",
       "    </tr>\n",
       "    <tr>\n",
       "        <td style=\"padding-left: 1em; padding-right: 1em; text-align: center; vertical-align: top\">Model-Parameter-Search-Ma<br>y-28-2017-05-23-08000 ...</td>\n",
       "    </tr>\n",
       "    <tr>\n",
       "        <td style=\"padding-left: 1em; padding-right: 1em; text-align: center; vertical-align: top\">Model-Parameter-Search-Ma<br>y-28-2017-05-23-08000 ...</td>\n",
       "    </tr>\n",
       "    <tr>\n",
       "        <td style=\"padding-left: 1em; padding-right: 1em; text-align: center; vertical-align: top\">Model-Parameter-Search-Ma<br>y-28-2017-05-23-08000 ...</td>\n",
       "    </tr>\n",
       "    <tr>\n",
       "        <td style=\"padding-left: 1em; padding-right: 1em; text-align: center; vertical-align: top\">Model-Parameter-Search-Ma<br>y-28-2017-05-23-08000 ...</td>\n",
       "    </tr>\n",
       "    <tr>\n",
       "        <td style=\"padding-left: 1em; padding-right: 1em; text-align: center; vertical-align: top\">Model-Parameter-Search-Ma<br>y-28-2017-05-23-08000 ...</td>\n",
       "    </tr>\n",
       "    <tr>\n",
       "        <td style=\"padding-left: 1em; padding-right: 1em; text-align: center; vertical-align: top\">Model-Parameter-Search-Ma<br>y-28-2017-05-23-08000 ...</td>\n",
       "    </tr>\n",
       "</table>\n",
       "[35 rows x 8 columns]<br/>Note: Only the head of the SFrame is printed.<br/>You can use print_rows(num_rows=m, num_columns=n) to print more rows and columns.\n",
       "</div>"
      ],
      "text/plain": [
       "Columns:\n",
       "\ttask_name\tstr\n",
       "\tstatus\tstr\n",
       "\tstart_time\tstr\n",
       "\trun_time\tfloat\n",
       "\texception\tfloat\n",
       "\texception_message\tfloat\n",
       "\texception_traceback\tfloat\n",
       "\tjob_name\tstr\n",
       "\n",
       "Rows: 35\n",
       "\n",
       "Data:\n",
       "+-----------------------+-----------+---------------------+---------------+-----------+\n",
       "|       task_name       |   status  |      start_time     |    run_time   | exception |\n",
       "+-----------------------+-----------+---------------------+---------------+-----------+\n",
       "| _train_test_model-0-0 | Completed | 2017-05-28 05:24:26 | 84.0898089409 |    None   |\n",
       "| _train_test_model-0-1 | Completed | 2017-05-28 05:25:50 | 86.6875948906 |    None   |\n",
       "| _train_test_model-0-2 | Completed | 2017-05-28 05:27:17 | 59.9590389729 |    None   |\n",
       "| _train_test_model-0-3 | Completed | 2017-05-28 05:28:17 |  94.800579071 |    None   |\n",
       "| _train_test_model-0-4 | Completed | 2017-05-28 05:29:52 | 138.167016983 |    None   |\n",
       "| _train_test_model-0-5 | Completed | 2017-05-28 05:32:10 | 89.2651269436 |    None   |\n",
       "| _train_test_model-0-6 | Completed | 2017-05-28 05:33:40 | 101.135102987 |    None   |\n",
       "| _train_test_model-0-7 | Completed | 2017-05-28 05:35:21 | 48.8374538422 |    None   |\n",
       "| _train_test_model-0-8 | Completed | 2017-05-28 05:36:10 | 62.6350979805 |    None   |\n",
       "| _train_test_model-0-9 | Completed | 2017-05-28 05:37:13 | 44.2389678955 |    None   |\n",
       "+-----------------------+-----------+---------------------+---------------+-----------+\n",
       "+-------------------+---------------------+-------------------------------+\n",
       "| exception_message | exception_traceback |            job_name           |\n",
       "+-------------------+---------------------+-------------------------------+\n",
       "|        None       |         None        | Model-Parameter-Search-May... |\n",
       "|        None       |         None        | Model-Parameter-Search-May... |\n",
       "|        None       |         None        | Model-Parameter-Search-May... |\n",
       "|        None       |         None        | Model-Parameter-Search-May... |\n",
       "|        None       |         None        | Model-Parameter-Search-May... |\n",
       "|        None       |         None        | Model-Parameter-Search-May... |\n",
       "|        None       |         None        | Model-Parameter-Search-May... |\n",
       "|        None       |         None        | Model-Parameter-Search-May... |\n",
       "|        None       |         None        | Model-Parameter-Search-May... |\n",
       "|        None       |         None        | Model-Parameter-Search-May... |\n",
       "+-------------------+---------------------+-------------------------------+\n",
       "[35 rows x 8 columns]\n",
       "Note: Only the head of the SFrame is printed.\n",
       "You can use print_rows(num_rows=m, num_columns=n) to print more rows and columns."
      ]
     },
     "execution_count": 76,
     "metadata": {},
     "output_type": "execute_result"
    }
   ],
   "source": [
    "res = model_search.get_metrics()\n",
    "res"
   ]
  },
  {
   "cell_type": "code",
   "execution_count": 77,
   "metadata": {
    "collapsed": true
   },
   "outputs": [],
   "source": [
    "# res['exception_message']"
   ]
  },
  {
   "cell_type": "code",
   "execution_count": 78,
   "metadata": {
    "scrolled": true
   },
   "outputs": [
    {
     "data": {
      "text/html": [
       "<div style=\"max-height:1000px;max-width:1500px;overflow:auto;\"><table frame=\"box\" rules=\"cols\">\n",
       "    <tr>\n",
       "        <th style=\"padding-left: 1em; padding-right: 1em; text-align: center\">task_name</th>\n",
       "        <th style=\"padding-left: 1em; padding-right: 1em; text-align: center\">status</th>\n",
       "        <th style=\"padding-left: 1em; padding-right: 1em; text-align: center\">start_time</th>\n",
       "        <th style=\"padding-left: 1em; padding-right: 1em; text-align: center\">run_time</th>\n",
       "        <th style=\"padding-left: 1em; padding-right: 1em; text-align: center\">exception</th>\n",
       "        <th style=\"padding-left: 1em; padding-right: 1em; text-align: center\">exception_message</th>\n",
       "        <th style=\"padding-left: 1em; padding-right: 1em; text-align: center\">exception_traceback</th>\n",
       "    </tr>\n",
       "    <tr>\n",
       "        <td style=\"padding-left: 1em; padding-right: 1em; text-align: center; vertical-align: top\">_train_test_model-0-0</td>\n",
       "        <td style=\"padding-left: 1em; padding-right: 1em; text-align: center; vertical-align: top\">Completed</td>\n",
       "        <td style=\"padding-left: 1em; padding-right: 1em; text-align: center; vertical-align: top\">2017-05-28 05:24:26</td>\n",
       "        <td style=\"padding-left: 1em; padding-right: 1em; text-align: center; vertical-align: top\">84.0898089409</td>\n",
       "        <td style=\"padding-left: 1em; padding-right: 1em; text-align: center; vertical-align: top\">None</td>\n",
       "        <td style=\"padding-left: 1em; padding-right: 1em; text-align: center; vertical-align: top\">None</td>\n",
       "        <td style=\"padding-left: 1em; padding-right: 1em; text-align: center; vertical-align: top\">None</td>\n",
       "    </tr>\n",
       "    <tr>\n",
       "        <td style=\"padding-left: 1em; padding-right: 1em; text-align: center; vertical-align: top\">_train_test_model-0-1</td>\n",
       "        <td style=\"padding-left: 1em; padding-right: 1em; text-align: center; vertical-align: top\">Completed</td>\n",
       "        <td style=\"padding-left: 1em; padding-right: 1em; text-align: center; vertical-align: top\">2017-05-28 05:25:50</td>\n",
       "        <td style=\"padding-left: 1em; padding-right: 1em; text-align: center; vertical-align: top\">86.6875948906</td>\n",
       "        <td style=\"padding-left: 1em; padding-right: 1em; text-align: center; vertical-align: top\">None</td>\n",
       "        <td style=\"padding-left: 1em; padding-right: 1em; text-align: center; vertical-align: top\">None</td>\n",
       "        <td style=\"padding-left: 1em; padding-right: 1em; text-align: center; vertical-align: top\">None</td>\n",
       "    </tr>\n",
       "    <tr>\n",
       "        <td style=\"padding-left: 1em; padding-right: 1em; text-align: center; vertical-align: top\">_train_test_model-0-2</td>\n",
       "        <td style=\"padding-left: 1em; padding-right: 1em; text-align: center; vertical-align: top\">Completed</td>\n",
       "        <td style=\"padding-left: 1em; padding-right: 1em; text-align: center; vertical-align: top\">2017-05-28 05:27:17</td>\n",
       "        <td style=\"padding-left: 1em; padding-right: 1em; text-align: center; vertical-align: top\">59.9590389729</td>\n",
       "        <td style=\"padding-left: 1em; padding-right: 1em; text-align: center; vertical-align: top\">None</td>\n",
       "        <td style=\"padding-left: 1em; padding-right: 1em; text-align: center; vertical-align: top\">None</td>\n",
       "        <td style=\"padding-left: 1em; padding-right: 1em; text-align: center; vertical-align: top\">None</td>\n",
       "    </tr>\n",
       "    <tr>\n",
       "        <td style=\"padding-left: 1em; padding-right: 1em; text-align: center; vertical-align: top\">_train_test_model-0-3</td>\n",
       "        <td style=\"padding-left: 1em; padding-right: 1em; text-align: center; vertical-align: top\">Completed</td>\n",
       "        <td style=\"padding-left: 1em; padding-right: 1em; text-align: center; vertical-align: top\">2017-05-28 05:28:17</td>\n",
       "        <td style=\"padding-left: 1em; padding-right: 1em; text-align: center; vertical-align: top\">94.800579071</td>\n",
       "        <td style=\"padding-left: 1em; padding-right: 1em; text-align: center; vertical-align: top\">None</td>\n",
       "        <td style=\"padding-left: 1em; padding-right: 1em; text-align: center; vertical-align: top\">None</td>\n",
       "        <td style=\"padding-left: 1em; padding-right: 1em; text-align: center; vertical-align: top\">None</td>\n",
       "    </tr>\n",
       "    <tr>\n",
       "        <td style=\"padding-left: 1em; padding-right: 1em; text-align: center; vertical-align: top\">_train_test_model-0-4</td>\n",
       "        <td style=\"padding-left: 1em; padding-right: 1em; text-align: center; vertical-align: top\">Completed</td>\n",
       "        <td style=\"padding-left: 1em; padding-right: 1em; text-align: center; vertical-align: top\">2017-05-28 05:29:52</td>\n",
       "        <td style=\"padding-left: 1em; padding-right: 1em; text-align: center; vertical-align: top\">138.167016983</td>\n",
       "        <td style=\"padding-left: 1em; padding-right: 1em; text-align: center; vertical-align: top\">None</td>\n",
       "        <td style=\"padding-left: 1em; padding-right: 1em; text-align: center; vertical-align: top\">None</td>\n",
       "        <td style=\"padding-left: 1em; padding-right: 1em; text-align: center; vertical-align: top\">None</td>\n",
       "    </tr>\n",
       "    <tr>\n",
       "        <td style=\"padding-left: 1em; padding-right: 1em; text-align: center; vertical-align: top\">_train_test_model-0-5</td>\n",
       "        <td style=\"padding-left: 1em; padding-right: 1em; text-align: center; vertical-align: top\">Completed</td>\n",
       "        <td style=\"padding-left: 1em; padding-right: 1em; text-align: center; vertical-align: top\">2017-05-28 05:32:10</td>\n",
       "        <td style=\"padding-left: 1em; padding-right: 1em; text-align: center; vertical-align: top\">89.2651269436</td>\n",
       "        <td style=\"padding-left: 1em; padding-right: 1em; text-align: center; vertical-align: top\">None</td>\n",
       "        <td style=\"padding-left: 1em; padding-right: 1em; text-align: center; vertical-align: top\">None</td>\n",
       "        <td style=\"padding-left: 1em; padding-right: 1em; text-align: center; vertical-align: top\">None</td>\n",
       "    </tr>\n",
       "    <tr>\n",
       "        <td style=\"padding-left: 1em; padding-right: 1em; text-align: center; vertical-align: top\">_train_test_model-0-6</td>\n",
       "        <td style=\"padding-left: 1em; padding-right: 1em; text-align: center; vertical-align: top\">Completed</td>\n",
       "        <td style=\"padding-left: 1em; padding-right: 1em; text-align: center; vertical-align: top\">2017-05-28 05:33:40</td>\n",
       "        <td style=\"padding-left: 1em; padding-right: 1em; text-align: center; vertical-align: top\">101.135102987</td>\n",
       "        <td style=\"padding-left: 1em; padding-right: 1em; text-align: center; vertical-align: top\">None</td>\n",
       "        <td style=\"padding-left: 1em; padding-right: 1em; text-align: center; vertical-align: top\">None</td>\n",
       "        <td style=\"padding-left: 1em; padding-right: 1em; text-align: center; vertical-align: top\">None</td>\n",
       "    </tr>\n",
       "    <tr>\n",
       "        <td style=\"padding-left: 1em; padding-right: 1em; text-align: center; vertical-align: top\">_train_test_model-0-7</td>\n",
       "        <td style=\"padding-left: 1em; padding-right: 1em; text-align: center; vertical-align: top\">Completed</td>\n",
       "        <td style=\"padding-left: 1em; padding-right: 1em; text-align: center; vertical-align: top\">2017-05-28 05:35:21</td>\n",
       "        <td style=\"padding-left: 1em; padding-right: 1em; text-align: center; vertical-align: top\">48.8374538422</td>\n",
       "        <td style=\"padding-left: 1em; padding-right: 1em; text-align: center; vertical-align: top\">None</td>\n",
       "        <td style=\"padding-left: 1em; padding-right: 1em; text-align: center; vertical-align: top\">None</td>\n",
       "        <td style=\"padding-left: 1em; padding-right: 1em; text-align: center; vertical-align: top\">None</td>\n",
       "    </tr>\n",
       "    <tr>\n",
       "        <td style=\"padding-left: 1em; padding-right: 1em; text-align: center; vertical-align: top\">_train_test_model-0-8</td>\n",
       "        <td style=\"padding-left: 1em; padding-right: 1em; text-align: center; vertical-align: top\">Completed</td>\n",
       "        <td style=\"padding-left: 1em; padding-right: 1em; text-align: center; vertical-align: top\">2017-05-28 05:36:10</td>\n",
       "        <td style=\"padding-left: 1em; padding-right: 1em; text-align: center; vertical-align: top\">62.6350979805</td>\n",
       "        <td style=\"padding-left: 1em; padding-right: 1em; text-align: center; vertical-align: top\">None</td>\n",
       "        <td style=\"padding-left: 1em; padding-right: 1em; text-align: center; vertical-align: top\">None</td>\n",
       "        <td style=\"padding-left: 1em; padding-right: 1em; text-align: center; vertical-align: top\">None</td>\n",
       "    </tr>\n",
       "    <tr>\n",
       "        <td style=\"padding-left: 1em; padding-right: 1em; text-align: center; vertical-align: top\">_train_test_model-0-9</td>\n",
       "        <td style=\"padding-left: 1em; padding-right: 1em; text-align: center; vertical-align: top\">Completed</td>\n",
       "        <td style=\"padding-left: 1em; padding-right: 1em; text-align: center; vertical-align: top\">2017-05-28 05:37:13</td>\n",
       "        <td style=\"padding-left: 1em; padding-right: 1em; text-align: center; vertical-align: top\">44.2389678955</td>\n",
       "        <td style=\"padding-left: 1em; padding-right: 1em; text-align: center; vertical-align: top\">None</td>\n",
       "        <td style=\"padding-left: 1em; padding-right: 1em; text-align: center; vertical-align: top\">None</td>\n",
       "        <td style=\"padding-left: 1em; padding-right: 1em; text-align: center; vertical-align: top\">None</td>\n",
       "    </tr>\n",
       "</table>\n",
       "<table frame=\"box\" rules=\"cols\">\n",
       "    <tr>\n",
       "        <th style=\"padding-left: 1em; padding-right: 1em; text-align: center\">job_name</th>\n",
       "    </tr>\n",
       "    <tr>\n",
       "        <td style=\"padding-left: 1em; padding-right: 1em; text-align: center; vertical-align: top\">Model-Parameter-Search-Ma<br>y-28-2017-05-23-08000 ...</td>\n",
       "    </tr>\n",
       "    <tr>\n",
       "        <td style=\"padding-left: 1em; padding-right: 1em; text-align: center; vertical-align: top\">Model-Parameter-Search-Ma<br>y-28-2017-05-23-08000 ...</td>\n",
       "    </tr>\n",
       "    <tr>\n",
       "        <td style=\"padding-left: 1em; padding-right: 1em; text-align: center; vertical-align: top\">Model-Parameter-Search-Ma<br>y-28-2017-05-23-08000 ...</td>\n",
       "    </tr>\n",
       "    <tr>\n",
       "        <td style=\"padding-left: 1em; padding-right: 1em; text-align: center; vertical-align: top\">Model-Parameter-Search-Ma<br>y-28-2017-05-23-08000 ...</td>\n",
       "    </tr>\n",
       "    <tr>\n",
       "        <td style=\"padding-left: 1em; padding-right: 1em; text-align: center; vertical-align: top\">Model-Parameter-Search-Ma<br>y-28-2017-05-23-08000 ...</td>\n",
       "    </tr>\n",
       "    <tr>\n",
       "        <td style=\"padding-left: 1em; padding-right: 1em; text-align: center; vertical-align: top\">Model-Parameter-Search-Ma<br>y-28-2017-05-23-08000 ...</td>\n",
       "    </tr>\n",
       "    <tr>\n",
       "        <td style=\"padding-left: 1em; padding-right: 1em; text-align: center; vertical-align: top\">Model-Parameter-Search-Ma<br>y-28-2017-05-23-08000 ...</td>\n",
       "    </tr>\n",
       "    <tr>\n",
       "        <td style=\"padding-left: 1em; padding-right: 1em; text-align: center; vertical-align: top\">Model-Parameter-Search-Ma<br>y-28-2017-05-23-08000 ...</td>\n",
       "    </tr>\n",
       "    <tr>\n",
       "        <td style=\"padding-left: 1em; padding-right: 1em; text-align: center; vertical-align: top\">Model-Parameter-Search-Ma<br>y-28-2017-05-23-08000 ...</td>\n",
       "    </tr>\n",
       "    <tr>\n",
       "        <td style=\"padding-left: 1em; padding-right: 1em; text-align: center; vertical-align: top\">Model-Parameter-Search-Ma<br>y-28-2017-05-23-08000 ...</td>\n",
       "    </tr>\n",
       "</table>\n",
       "[35 rows x 8 columns]<br/>Note: Only the head of the SFrame is printed.<br/>You can use print_rows(num_rows=m, num_columns=n) to print more rows and columns.\n",
       "</div>"
      ],
      "text/plain": [
       "Columns:\n",
       "\ttask_name\tstr\n",
       "\tstatus\tstr\n",
       "\tstart_time\tstr\n",
       "\trun_time\tfloat\n",
       "\texception\tfloat\n",
       "\texception_message\tfloat\n",
       "\texception_traceback\tfloat\n",
       "\tjob_name\tstr\n",
       "\n",
       "Rows: 35\n",
       "\n",
       "Data:\n",
       "+-----------------------+-----------+---------------------+---------------+-----------+\n",
       "|       task_name       |   status  |      start_time     |    run_time   | exception |\n",
       "+-----------------------+-----------+---------------------+---------------+-----------+\n",
       "| _train_test_model-0-0 | Completed | 2017-05-28 05:24:26 | 84.0898089409 |    None   |\n",
       "| _train_test_model-0-1 | Completed | 2017-05-28 05:25:50 | 86.6875948906 |    None   |\n",
       "| _train_test_model-0-2 | Completed | 2017-05-28 05:27:17 | 59.9590389729 |    None   |\n",
       "| _train_test_model-0-3 | Completed | 2017-05-28 05:28:17 |  94.800579071 |    None   |\n",
       "| _train_test_model-0-4 | Completed | 2017-05-28 05:29:52 | 138.167016983 |    None   |\n",
       "| _train_test_model-0-5 | Completed | 2017-05-28 05:32:10 | 89.2651269436 |    None   |\n",
       "| _train_test_model-0-6 | Completed | 2017-05-28 05:33:40 | 101.135102987 |    None   |\n",
       "| _train_test_model-0-7 | Completed | 2017-05-28 05:35:21 | 48.8374538422 |    None   |\n",
       "| _train_test_model-0-8 | Completed | 2017-05-28 05:36:10 | 62.6350979805 |    None   |\n",
       "| _train_test_model-0-9 | Completed | 2017-05-28 05:37:13 | 44.2389678955 |    None   |\n",
       "+-----------------------+-----------+---------------------+---------------+-----------+\n",
       "+-------------------+---------------------+-------------------------------+\n",
       "| exception_message | exception_traceback |            job_name           |\n",
       "+-------------------+---------------------+-------------------------------+\n",
       "|        None       |         None        | Model-Parameter-Search-May... |\n",
       "|        None       |         None        | Model-Parameter-Search-May... |\n",
       "|        None       |         None        | Model-Parameter-Search-May... |\n",
       "|        None       |         None        | Model-Parameter-Search-May... |\n",
       "|        None       |         None        | Model-Parameter-Search-May... |\n",
       "|        None       |         None        | Model-Parameter-Search-May... |\n",
       "|        None       |         None        | Model-Parameter-Search-May... |\n",
       "|        None       |         None        | Model-Parameter-Search-May... |\n",
       "|        None       |         None        | Model-Parameter-Search-May... |\n",
       "|        None       |         None        | Model-Parameter-Search-May... |\n",
       "+-------------------+---------------------+-------------------------------+\n",
       "[35 rows x 8 columns]\n",
       "Note: Only the head of the SFrame is printed.\n",
       "You can use print_rows(num_rows=m, num_columns=n) to print more rows and columns."
      ]
     },
     "execution_count": 78,
     "metadata": {},
     "output_type": "execute_result"
    }
   ],
   "source": [
    "res"
   ]
  },
  {
   "cell_type": "code",
   "execution_count": 79,
   "metadata": {},
   "outputs": [
    {
     "data": {
      "text/plain": [
       "(10, 17)"
      ]
     },
     "execution_count": 79,
     "metadata": {},
     "output_type": "execute_result"
    }
   ],
   "source": [
    "search_results.shape"
   ]
  },
  {
   "cell_type": "code",
   "execution_count": 80,
   "metadata": {
    "scrolled": true
   },
   "outputs": [
    {
     "data": {
      "text/html": [
       "<div style=\"max-height:1000px;max-width:1500px;overflow:auto;\"><table frame=\"box\" rules=\"cols\">\n",
       "    <tr>\n",
       "        <th style=\"padding-left: 1em; padding-right: 1em; text-align: center\">class_weights</th>\n",
       "        <th style=\"padding-left: 1em; padding-right: 1em; text-align: center\">column_subsample</th>\n",
       "        <th style=\"padding-left: 1em; padding-right: 1em; text-align: center\">early_stopping_rounds</th>\n",
       "        <th style=\"padding-left: 1em; padding-right: 1em; text-align: center\">max_depth</th>\n",
       "        <th style=\"padding-left: 1em; padding-right: 1em; text-align: center\">max_iterations</th>\n",
       "        <th style=\"padding-left: 1em; padding-right: 1em; text-align: center\">metric</th>\n",
       "        <th style=\"padding-left: 1em; padding-right: 1em; text-align: center\">min_child_weight</th>\n",
       "        <th style=\"padding-left: 1em; padding-right: 1em; text-align: center\">min_loss_reduction</th>\n",
       "    </tr>\n",
       "    <tr>\n",
       "        <td style=\"padding-left: 1em; padding-right: 1em; text-align: center; vertical-align: top\">None</td>\n",
       "        <td style=\"padding-left: 1em; padding-right: 1em; text-align: center; vertical-align: top\">0.1</td>\n",
       "        <td style=\"padding-left: 1em; padding-right: 1em; text-align: center; vertical-align: top\">5</td>\n",
       "        <td style=\"padding-left: 1em; padding-right: 1em; text-align: center; vertical-align: top\">9</td>\n",
       "        <td style=\"padding-left: 1em; padding-right: 1em; text-align: center; vertical-align: top\">250</td>\n",
       "        <td style=\"padding-left: 1em; padding-right: 1em; text-align: center; vertical-align: top\">auc</td>\n",
       "        <td style=\"padding-left: 1em; padding-right: 1em; text-align: center; vertical-align: top\">2</td>\n",
       "        <td style=\"padding-left: 1em; padding-right: 1em; text-align: center; vertical-align: top\">10</td>\n",
       "    </tr>\n",
       "    <tr>\n",
       "        <td style=\"padding-left: 1em; padding-right: 1em; text-align: center; vertical-align: top\">None</td>\n",
       "        <td style=\"padding-left: 1em; padding-right: 1em; text-align: center; vertical-align: top\">0.8</td>\n",
       "        <td style=\"padding-left: 1em; padding-right: 1em; text-align: center; vertical-align: top\">5</td>\n",
       "        <td style=\"padding-left: 1em; padding-right: 1em; text-align: center; vertical-align: top\">15</td>\n",
       "        <td style=\"padding-left: 1em; padding-right: 1em; text-align: center; vertical-align: top\">200</td>\n",
       "        <td style=\"padding-left: 1em; padding-right: 1em; text-align: center; vertical-align: top\">auc</td>\n",
       "        <td style=\"padding-left: 1em; padding-right: 1em; text-align: center; vertical-align: top\">5</td>\n",
       "        <td style=\"padding-left: 1em; padding-right: 1em; text-align: center; vertical-align: top\">1</td>\n",
       "    </tr>\n",
       "    <tr>\n",
       "        <td style=\"padding-left: 1em; padding-right: 1em; text-align: center; vertical-align: top\">None</td>\n",
       "        <td style=\"padding-left: 1em; padding-right: 1em; text-align: center; vertical-align: top\">0.8</td>\n",
       "        <td style=\"padding-left: 1em; padding-right: 1em; text-align: center; vertical-align: top\">5</td>\n",
       "        <td style=\"padding-left: 1em; padding-right: 1em; text-align: center; vertical-align: top\">15</td>\n",
       "        <td style=\"padding-left: 1em; padding-right: 1em; text-align: center; vertical-align: top\">200</td>\n",
       "        <td style=\"padding-left: 1em; padding-right: 1em; text-align: center; vertical-align: top\">auc</td>\n",
       "        <td style=\"padding-left: 1em; padding-right: 1em; text-align: center; vertical-align: top\">10</td>\n",
       "        <td style=\"padding-left: 1em; padding-right: 1em; text-align: center; vertical-align: top\">10</td>\n",
       "    </tr>\n",
       "    <tr>\n",
       "        <td style=\"padding-left: 1em; padding-right: 1em; text-align: center; vertical-align: top\">None</td>\n",
       "        <td style=\"padding-left: 1em; padding-right: 1em; text-align: center; vertical-align: top\">0.05</td>\n",
       "        <td style=\"padding-left: 1em; padding-right: 1em; text-align: center; vertical-align: top\">5</td>\n",
       "        <td style=\"padding-left: 1em; padding-right: 1em; text-align: center; vertical-align: top\">15</td>\n",
       "        <td style=\"padding-left: 1em; padding-right: 1em; text-align: center; vertical-align: top\">200</td>\n",
       "        <td style=\"padding-left: 1em; padding-right: 1em; text-align: center; vertical-align: top\">auc</td>\n",
       "        <td style=\"padding-left: 1em; padding-right: 1em; text-align: center; vertical-align: top\">5</td>\n",
       "        <td style=\"padding-left: 1em; padding-right: 1em; text-align: center; vertical-align: top\">10</td>\n",
       "    </tr>\n",
       "    <tr>\n",
       "        <td style=\"padding-left: 1em; padding-right: 1em; text-align: center; vertical-align: top\">None</td>\n",
       "        <td style=\"padding-left: 1em; padding-right: 1em; text-align: center; vertical-align: top\">0.05</td>\n",
       "        <td style=\"padding-left: 1em; padding-right: 1em; text-align: center; vertical-align: top\">5</td>\n",
       "        <td style=\"padding-left: 1em; padding-right: 1em; text-align: center; vertical-align: top\">9</td>\n",
       "        <td style=\"padding-left: 1em; padding-right: 1em; text-align: center; vertical-align: top\">200</td>\n",
       "        <td style=\"padding-left: 1em; padding-right: 1em; text-align: center; vertical-align: top\">auc</td>\n",
       "        <td style=\"padding-left: 1em; padding-right: 1em; text-align: center; vertical-align: top\">10</td>\n",
       "        <td style=\"padding-left: 1em; padding-right: 1em; text-align: center; vertical-align: top\">1</td>\n",
       "    </tr>\n",
       "    <tr>\n",
       "        <td style=\"padding-left: 1em; padding-right: 1em; text-align: center; vertical-align: top\">None</td>\n",
       "        <td style=\"padding-left: 1em; padding-right: 1em; text-align: center; vertical-align: top\">0.8</td>\n",
       "        <td style=\"padding-left: 1em; padding-right: 1em; text-align: center; vertical-align: top\">5</td>\n",
       "        <td style=\"padding-left: 1em; padding-right: 1em; text-align: center; vertical-align: top\">9</td>\n",
       "        <td style=\"padding-left: 1em; padding-right: 1em; text-align: center; vertical-align: top\">300</td>\n",
       "        <td style=\"padding-left: 1em; padding-right: 1em; text-align: center; vertical-align: top\">auc</td>\n",
       "        <td style=\"padding-left: 1em; padding-right: 1em; text-align: center; vertical-align: top\">2</td>\n",
       "        <td style=\"padding-left: 1em; padding-right: 1em; text-align: center; vertical-align: top\">10</td>\n",
       "    </tr>\n",
       "    <tr>\n",
       "        <td style=\"padding-left: 1em; padding-right: 1em; text-align: center; vertical-align: top\">None</td>\n",
       "        <td style=\"padding-left: 1em; padding-right: 1em; text-align: center; vertical-align: top\">0.1</td>\n",
       "        <td style=\"padding-left: 1em; padding-right: 1em; text-align: center; vertical-align: top\">5</td>\n",
       "        <td style=\"padding-left: 1em; padding-right: 1em; text-align: center; vertical-align: top\">15</td>\n",
       "        <td style=\"padding-left: 1em; padding-right: 1em; text-align: center; vertical-align: top\">300</td>\n",
       "        <td style=\"padding-left: 1em; padding-right: 1em; text-align: center; vertical-align: top\">auc</td>\n",
       "        <td style=\"padding-left: 1em; padding-right: 1em; text-align: center; vertical-align: top\">2</td>\n",
       "        <td style=\"padding-left: 1em; padding-right: 1em; text-align: center; vertical-align: top\">10</td>\n",
       "    </tr>\n",
       "    <tr>\n",
       "        <td style=\"padding-left: 1em; padding-right: 1em; text-align: center; vertical-align: top\">None</td>\n",
       "        <td style=\"padding-left: 1em; padding-right: 1em; text-align: center; vertical-align: top\">0.8</td>\n",
       "        <td style=\"padding-left: 1em; padding-right: 1em; text-align: center; vertical-align: top\">5</td>\n",
       "        <td style=\"padding-left: 1em; padding-right: 1em; text-align: center; vertical-align: top\">20</td>\n",
       "        <td style=\"padding-left: 1em; padding-right: 1em; text-align: center; vertical-align: top\">250</td>\n",
       "        <td style=\"padding-left: 1em; padding-right: 1em; text-align: center; vertical-align: top\">auc</td>\n",
       "        <td style=\"padding-left: 1em; padding-right: 1em; text-align: center; vertical-align: top\">2</td>\n",
       "        <td style=\"padding-left: 1em; padding-right: 1em; text-align: center; vertical-align: top\">1</td>\n",
       "    </tr>\n",
       "    <tr>\n",
       "        <td style=\"padding-left: 1em; padding-right: 1em; text-align: center; vertical-align: top\">None</td>\n",
       "        <td style=\"padding-left: 1em; padding-right: 1em; text-align: center; vertical-align: top\">0.05</td>\n",
       "        <td style=\"padding-left: 1em; padding-right: 1em; text-align: center; vertical-align: top\">5</td>\n",
       "        <td style=\"padding-left: 1em; padding-right: 1em; text-align: center; vertical-align: top\">9</td>\n",
       "        <td style=\"padding-left: 1em; padding-right: 1em; text-align: center; vertical-align: top\">200</td>\n",
       "        <td style=\"padding-left: 1em; padding-right: 1em; text-align: center; vertical-align: top\">auc</td>\n",
       "        <td style=\"padding-left: 1em; padding-right: 1em; text-align: center; vertical-align: top\">2</td>\n",
       "        <td style=\"padding-left: 1em; padding-right: 1em; text-align: center; vertical-align: top\">10</td>\n",
       "    </tr>\n",
       "    <tr>\n",
       "        <td style=\"padding-left: 1em; padding-right: 1em; text-align: center; vertical-align: top\">None</td>\n",
       "        <td style=\"padding-left: 1em; padding-right: 1em; text-align: center; vertical-align: top\">0.8</td>\n",
       "        <td style=\"padding-left: 1em; padding-right: 1em; text-align: center; vertical-align: top\">5</td>\n",
       "        <td style=\"padding-left: 1em; padding-right: 1em; text-align: center; vertical-align: top\">4</td>\n",
       "        <td style=\"padding-left: 1em; padding-right: 1em; text-align: center; vertical-align: top\">200</td>\n",
       "        <td style=\"padding-left: 1em; padding-right: 1em; text-align: center; vertical-align: top\">auc</td>\n",
       "        <td style=\"padding-left: 1em; padding-right: 1em; text-align: center; vertical-align: top\">10</td>\n",
       "        <td style=\"padding-left: 1em; padding-right: 1em; text-align: center; vertical-align: top\">1</td>\n",
       "    </tr>\n",
       "</table>\n",
       "<table frame=\"box\" rules=\"cols\">\n",
       "    <tr>\n",
       "        <th style=\"padding-left: 1em; padding-right: 1em; text-align: center\">random_seed</th>\n",
       "        <th style=\"padding-left: 1em; padding-right: 1em; text-align: center\">row_subsample</th>\n",
       "        <th style=\"padding-left: 1em; padding-right: 1em; text-align: center\">step_size</th>\n",
       "        <th style=\"padding-left: 1em; padding-right: 1em; text-align: center\">target</th>\n",
       "        <th style=\"padding-left: 1em; padding-right: 1em; text-align: center\">num_folds</th>\n",
       "        <th style=\"padding-left: 1em; padding-right: 1em; text-align: center\">fold_id</th>\n",
       "        <th style=\"padding-left: 1em; padding-right: 1em; text-align: center\">mean_training_accuracy</th>\n",
       "    </tr>\n",
       "    <tr>\n",
       "        <td style=\"padding-left: 1em; padding-right: 1em; text-align: center; vertical-align: top\">415168</td>\n",
       "        <td style=\"padding-left: 1em; padding-right: 1em; text-align: center; vertical-align: top\">0.75</td>\n",
       "        <td style=\"padding-left: 1em; padding-right: 1em; text-align: center; vertical-align: top\">1.0</td>\n",
       "        <td style=\"padding-left: 1em; padding-right: 1em; text-align: center; vertical-align: top\">target</td>\n",
       "        <td style=\"padding-left: 1em; padding-right: 1em; text-align: center; vertical-align: top\">10</td>\n",
       "        <td style=\"padding-left: 1em; padding-right: 1em; text-align: center; vertical-align: top\">[8, 9, 4, 5, 6, 7, 0, 1,<br>2, 3] ...</td>\n",
       "        <td style=\"padding-left: 1em; padding-right: 1em; text-align: center; vertical-align: top\">0.888214143961</td>\n",
       "    </tr>\n",
       "    <tr>\n",
       "        <td style=\"padding-left: 1em; padding-right: 1em; text-align: center; vertical-align: top\">415168</td>\n",
       "        <td style=\"padding-left: 1em; padding-right: 1em; text-align: center; vertical-align: top\">0.75</td>\n",
       "        <td style=\"padding-left: 1em; padding-right: 1em; text-align: center; vertical-align: top\">0.5</td>\n",
       "        <td style=\"padding-left: 1em; padding-right: 1em; text-align: center; vertical-align: top\">target</td>\n",
       "        <td style=\"padding-left: 1em; padding-right: 1em; text-align: center; vertical-align: top\">10</td>\n",
       "        <td style=\"padding-left: 1em; padding-right: 1em; text-align: center; vertical-align: top\">[9, 8, 1, 0, 3, 2, 5, 4,<br>7, 6] ...</td>\n",
       "        <td style=\"padding-left: 1em; padding-right: 1em; text-align: center; vertical-align: top\">0.916128505055</td>\n",
       "    </tr>\n",
       "    <tr>\n",
       "        <td style=\"padding-left: 1em; padding-right: 1em; text-align: center; vertical-align: top\">415168</td>\n",
       "        <td style=\"padding-left: 1em; padding-right: 1em; text-align: center; vertical-align: top\">0.5</td>\n",
       "        <td style=\"padding-left: 1em; padding-right: 1em; text-align: center; vertical-align: top\">1.0</td>\n",
       "        <td style=\"padding-left: 1em; padding-right: 1em; text-align: center; vertical-align: top\">target</td>\n",
       "        <td style=\"padding-left: 1em; padding-right: 1em; text-align: center; vertical-align: top\">10</td>\n",
       "        <td style=\"padding-left: 1em; padding-right: 1em; text-align: center; vertical-align: top\">[1, 8, 9, 4, 5, 6, 7, 0,<br>3, 2] ...</td>\n",
       "        <td style=\"padding-left: 1em; padding-right: 1em; text-align: center; vertical-align: top\">0.886419882795</td>\n",
       "    </tr>\n",
       "    <tr>\n",
       "        <td style=\"padding-left: 1em; padding-right: 1em; text-align: center; vertical-align: top\">415168</td>\n",
       "        <td style=\"padding-left: 1em; padding-right: 1em; text-align: center; vertical-align: top\">0.75</td>\n",
       "        <td style=\"padding-left: 1em; padding-right: 1em; text-align: center; vertical-align: top\">1.0</td>\n",
       "        <td style=\"padding-left: 1em; padding-right: 1em; text-align: center; vertical-align: top\">target</td>\n",
       "        <td style=\"padding-left: 1em; padding-right: 1em; text-align: center; vertical-align: top\">10</td>\n",
       "        <td style=\"padding-left: 1em; padding-right: 1em; text-align: center; vertical-align: top\">[0, 1, 5, 4, 7, 6, 2, 3,<br>9, 8] ...</td>\n",
       "        <td style=\"padding-left: 1em; padding-right: 1em; text-align: center; vertical-align: top\">0.886152553057</td>\n",
       "    </tr>\n",
       "    <tr>\n",
       "        <td style=\"padding-left: 1em; padding-right: 1em; text-align: center; vertical-align: top\">415168</td>\n",
       "        <td style=\"padding-left: 1em; padding-right: 1em; text-align: center; vertical-align: top\">0.5</td>\n",
       "        <td style=\"padding-left: 1em; padding-right: 1em; text-align: center; vertical-align: top\">0.1</td>\n",
       "        <td style=\"padding-left: 1em; padding-right: 1em; text-align: center; vertical-align: top\">target</td>\n",
       "        <td style=\"padding-left: 1em; padding-right: 1em; text-align: center; vertical-align: top\">10</td>\n",
       "        <td style=\"padding-left: 1em; padding-right: 1em; text-align: center; vertical-align: top\">[1, 0, 3, 2, 5, 4, 7, 6,<br>9, 8] ...</td>\n",
       "        <td style=\"padding-left: 1em; padding-right: 1em; text-align: center; vertical-align: top\">0.874481100138</td>\n",
       "    </tr>\n",
       "    <tr>\n",
       "        <td style=\"padding-left: 1em; padding-right: 1em; text-align: center; vertical-align: top\">415168</td>\n",
       "        <td style=\"padding-left: 1em; padding-right: 1em; text-align: center; vertical-align: top\">0.5</td>\n",
       "        <td style=\"padding-left: 1em; padding-right: 1em; text-align: center; vertical-align: top\">1.0</td>\n",
       "        <td style=\"padding-left: 1em; padding-right: 1em; text-align: center; vertical-align: top\">target</td>\n",
       "        <td style=\"padding-left: 1em; padding-right: 1em; text-align: center; vertical-align: top\">10</td>\n",
       "        <td style=\"padding-left: 1em; padding-right: 1em; text-align: center; vertical-align: top\">[8, 9, 1, 0, 3, 2, 5, 4,<br>7, 6] ...</td>\n",
       "        <td style=\"padding-left: 1em; padding-right: 1em; text-align: center; vertical-align: top\">0.888411430973</td>\n",
       "    </tr>\n",
       "    <tr>\n",
       "        <td style=\"padding-left: 1em; padding-right: 1em; text-align: center; vertical-align: top\">415168</td>\n",
       "        <td style=\"padding-left: 1em; padding-right: 1em; text-align: center; vertical-align: top\">0.5</td>\n",
       "        <td style=\"padding-left: 1em; padding-right: 1em; text-align: center; vertical-align: top\">0.1</td>\n",
       "        <td style=\"padding-left: 1em; padding-right: 1em; text-align: center; vertical-align: top\">target</td>\n",
       "        <td style=\"padding-left: 1em; padding-right: 1em; text-align: center; vertical-align: top\">10</td>\n",
       "        <td style=\"padding-left: 1em; padding-right: 1em; text-align: center; vertical-align: top\">[3, 2, 1, 0, 5, 4, 7, 6,<br>9, 8] ...</td>\n",
       "        <td style=\"padding-left: 1em; padding-right: 1em; text-align: center; vertical-align: top\">0.882219653989</td>\n",
       "    </tr>\n",
       "    <tr>\n",
       "        <td style=\"padding-left: 1em; padding-right: 1em; text-align: center; vertical-align: top\">415168</td>\n",
       "        <td style=\"padding-left: 1em; padding-right: 1em; text-align: center; vertical-align: top\">0.5</td>\n",
       "        <td style=\"padding-left: 1em; padding-right: 1em; text-align: center; vertical-align: top\">0.01</td>\n",
       "        <td style=\"padding-left: 1em; padding-right: 1em; text-align: center; vertical-align: top\">target</td>\n",
       "        <td style=\"padding-left: 1em; padding-right: 1em; text-align: center; vertical-align: top\">10</td>\n",
       "        <td style=\"padding-left: 1em; padding-right: 1em; text-align: center; vertical-align: top\">[8, 1, 0, 3, 2, 5, 4, 7,<br>9, 6] ...</td>\n",
       "        <td style=\"padding-left: 1em; padding-right: 1em; text-align: center; vertical-align: top\">0.91135859541</td>\n",
       "    </tr>\n",
       "    <tr>\n",
       "        <td style=\"padding-left: 1em; padding-right: 1em; text-align: center; vertical-align: top\">415168</td>\n",
       "        <td style=\"padding-left: 1em; padding-right: 1em; text-align: center; vertical-align: top\">0.75</td>\n",
       "        <td style=\"padding-left: 1em; padding-right: 1em; text-align: center; vertical-align: top\">0.01</td>\n",
       "        <td style=\"padding-left: 1em; padding-right: 1em; text-align: center; vertical-align: top\">target</td>\n",
       "        <td style=\"padding-left: 1em; padding-right: 1em; text-align: center; vertical-align: top\">10</td>\n",
       "        <td style=\"padding-left: 1em; padding-right: 1em; text-align: center; vertical-align: top\">[3, 4, 5, 0, 1, 9, 8, 6,<br>7, 2] ...</td>\n",
       "        <td style=\"padding-left: 1em; padding-right: 1em; text-align: center; vertical-align: top\">0.869836100021</td>\n",
       "    </tr>\n",
       "    <tr>\n",
       "        <td style=\"padding-left: 1em; padding-right: 1em; text-align: center; vertical-align: top\">415168</td>\n",
       "        <td style=\"padding-left: 1em; padding-right: 1em; text-align: center; vertical-align: top\">0.5</td>\n",
       "        <td style=\"padding-left: 1em; padding-right: 1em; text-align: center; vertical-align: top\">0.5</td>\n",
       "        <td style=\"padding-left: 1em; padding-right: 1em; text-align: center; vertical-align: top\">target</td>\n",
       "        <td style=\"padding-left: 1em; padding-right: 1em; text-align: center; vertical-align: top\">10</td>\n",
       "        <td style=\"padding-left: 1em; padding-right: 1em; text-align: center; vertical-align: top\">[7, 9, 8, 6, 1, 0, 3, 2,<br>5, 4] ...</td>\n",
       "        <td style=\"padding-left: 1em; padding-right: 1em; text-align: center; vertical-align: top\">0.889262450095</td>\n",
       "    </tr>\n",
       "</table>\n",
       "<table frame=\"box\" rules=\"cols\">\n",
       "    <tr>\n",
       "        <th style=\"padding-left: 1em; padding-right: 1em; text-align: center\">mean_validation_accuracy</th>\n",
       "        <th style=\"padding-left: 1em; padding-right: 1em; text-align: center\">model_id</th>\n",
       "    </tr>\n",
       "    <tr>\n",
       "        <td style=\"padding-left: 1em; padding-right: 1em; text-align: center; vertical-align: top\">0.87504727884</td>\n",
       "        <td style=\"padding-left: 1em; padding-right: 1em; text-align: center; vertical-align: top\">[28, 29, 24, 25, 26, 27,<br>20, 21, 22, 23] ...</td>\n",
       "    </tr>\n",
       "    <tr>\n",
       "        <td style=\"padding-left: 1em; padding-right: 1em; text-align: center; vertical-align: top\">0.878976675772</td>\n",
       "        <td style=\"padding-left: 1em; padding-right: 1em; text-align: center; vertical-align: top\">[19, 18, 11, 10, 13, 12,<br>15, 14, 17, 16] ...</td>\n",
       "    </tr>\n",
       "    <tr>\n",
       "        <td style=\"padding-left: 1em; padding-right: 1em; text-align: center; vertical-align: top\">0.877390208027</td>\n",
       "        <td style=\"padding-left: 1em; padding-right: 1em; text-align: center; vertical-align: top\">[51, 58, 59, 54, 55, 56,<br>57, 50, 53, 52] ...</td>\n",
       "    </tr>\n",
       "    <tr>\n",
       "        <td style=\"padding-left: 1em; padding-right: 1em; text-align: center; vertical-align: top\">0.876392099181</td>\n",
       "        <td style=\"padding-left: 1em; padding-right: 1em; text-align: center; vertical-align: top\">[60, 61, 65, 64, 67, 66,<br>62, 63, 69, 68] ...</td>\n",
       "    </tr>\n",
       "    <tr>\n",
       "        <td style=\"padding-left: 1em; padding-right: 1em; text-align: center; vertical-align: top\">0.870487497373</td>\n",
       "        <td style=\"padding-left: 1em; padding-right: 1em; text-align: center; vertical-align: top\">[31, 30, 33, 32, 35, 34,<br>37, 36, 39, 38] ...</td>\n",
       "    </tr>\n",
       "    <tr>\n",
       "        <td style=\"padding-left: 1em; padding-right: 1em; text-align: center; vertical-align: top\">0.877064509351</td>\n",
       "        <td style=\"padding-left: 1em; padding-right: 1em; text-align: center; vertical-align: top\">[88, 89, 81, 80, 83, 82,<br>85, 84, 87, 86] ...</td>\n",
       "    </tr>\n",
       "    <tr>\n",
       "        <td style=\"padding-left: 1em; padding-right: 1em; text-align: center; vertical-align: top\">0.878041605379</td>\n",
       "        <td style=\"padding-left: 1em; padding-right: 1em; text-align: center; vertical-align: top\">[43, 42, 41, 40, 45, 44,<br>47, 46, 49, 48] ...</td>\n",
       "    </tr>\n",
       "    <tr>\n",
       "        <td style=\"padding-left: 1em; padding-right: 1em; text-align: center; vertical-align: top\">0.883441899559</td>\n",
       "        <td style=\"padding-left: 1em; padding-right: 1em; text-align: center; vertical-align: top\">[8, 1, 0, 3, 2, 5, 4, 7,<br>9, 6] ...</td>\n",
       "    </tr>\n",
       "    <tr>\n",
       "        <td style=\"padding-left: 1em; padding-right: 1em; text-align: center; vertical-align: top\">0.866453036352</td>\n",
       "        <td style=\"padding-left: 1em; padding-right: 1em; text-align: center; vertical-align: top\">[93, 94, 95, 90, 91, 99,<br>98, 96, 97, 92] ...</td>\n",
       "    </tr>\n",
       "    <tr>\n",
       "        <td style=\"padding-left: 1em; padding-right: 1em; text-align: center; vertical-align: top\">0.882086572809</td>\n",
       "        <td style=\"padding-left: 1em; padding-right: 1em; text-align: center; vertical-align: top\">[77, 79, 78, 76, 71, 70,<br>73, 72, 75, 74] ...</td>\n",
       "    </tr>\n",
       "</table>\n",
       "[10 rows x 17 columns]<br/>\n",
       "</div>"
      ],
      "text/plain": [
       "Columns:\n",
       "\tclass_weights\tfloat\n",
       "\tcolumn_subsample\tfloat\n",
       "\tearly_stopping_rounds\tint\n",
       "\tmax_depth\tint\n",
       "\tmax_iterations\tint\n",
       "\tmetric\tstr\n",
       "\tmin_child_weight\tint\n",
       "\tmin_loss_reduction\tint\n",
       "\trandom_seed\tint\n",
       "\trow_subsample\tfloat\n",
       "\tstep_size\tfloat\n",
       "\ttarget\tstr\n",
       "\tnum_folds\tint\n",
       "\tfold_id\tlist\n",
       "\tmean_training_accuracy\tfloat\n",
       "\tmean_validation_accuracy\tfloat\n",
       "\tmodel_id\tlist\n",
       "\n",
       "Rows: 10\n",
       "\n",
       "Data:\n",
       "+---------------+------------------+-----------------------+-----------+----------------+\n",
       "| class_weights | column_subsample | early_stopping_rounds | max_depth | max_iterations |\n",
       "+---------------+------------------+-----------------------+-----------+----------------+\n",
       "|      None     |       0.1        |           5           |     9     |      250       |\n",
       "|      None     |       0.8        |           5           |     15    |      200       |\n",
       "|      None     |       0.8        |           5           |     15    |      200       |\n",
       "|      None     |       0.05       |           5           |     15    |      200       |\n",
       "|      None     |       0.05       |           5           |     9     |      200       |\n",
       "|      None     |       0.8        |           5           |     9     |      300       |\n",
       "|      None     |       0.1        |           5           |     15    |      300       |\n",
       "|      None     |       0.8        |           5           |     20    |      250       |\n",
       "|      None     |       0.05       |           5           |     9     |      200       |\n",
       "|      None     |       0.8        |           5           |     4     |      200       |\n",
       "+---------------+------------------+-----------------------+-----------+----------------+\n",
       "+--------+------------------+--------------------+-------------+---------------+\n",
       "| metric | min_child_weight | min_loss_reduction | random_seed | row_subsample |\n",
       "+--------+------------------+--------------------+-------------+---------------+\n",
       "|  auc   |        2         |         10         |    415168   |      0.75     |\n",
       "|  auc   |        5         |         1          |    415168   |      0.75     |\n",
       "|  auc   |        10        |         10         |    415168   |      0.5      |\n",
       "|  auc   |        5         |         10         |    415168   |      0.75     |\n",
       "|  auc   |        10        |         1          |    415168   |      0.5      |\n",
       "|  auc   |        2         |         10         |    415168   |      0.5      |\n",
       "|  auc   |        2         |         10         |    415168   |      0.5      |\n",
       "|  auc   |        2         |         1          |    415168   |      0.5      |\n",
       "|  auc   |        2         |         10         |    415168   |      0.75     |\n",
       "|  auc   |        10        |         1          |    415168   |      0.5      |\n",
       "+--------+------------------+--------------------+-------------+---------------+\n",
       "+-----------+--------+-----------+--------------------------------+\n",
       "| step_size | target | num_folds |            fold_id             |\n",
       "+-----------+--------+-----------+--------------------------------+\n",
       "|    1.0    | target |     10    | [8, 9, 4, 5, 6, 7, 0, 1, 2, 3] |\n",
       "|    0.5    | target |     10    | [9, 8, 1, 0, 3, 2, 5, 4, 7, 6] |\n",
       "|    1.0    | target |     10    | [1, 8, 9, 4, 5, 6, 7, 0, 3, 2] |\n",
       "|    1.0    | target |     10    | [0, 1, 5, 4, 7, 6, 2, 3, 9, 8] |\n",
       "|    0.1    | target |     10    | [1, 0, 3, 2, 5, 4, 7, 6, 9, 8] |\n",
       "|    1.0    | target |     10    | [8, 9, 1, 0, 3, 2, 5, 4, 7, 6] |\n",
       "|    0.1    | target |     10    | [3, 2, 1, 0, 5, 4, 7, 6, 9, 8] |\n",
       "|    0.01   | target |     10    | [8, 1, 0, 3, 2, 5, 4, 7, 9, 6] |\n",
       "|    0.01   | target |     10    | [3, 4, 5, 0, 1, 9, 8, 6, 7, 2] |\n",
       "|    0.5    | target |     10    | [7, 9, 8, 6, 1, 0, 3, 2, 5, 4] |\n",
       "+-----------+--------+-----------+--------------------------------+\n",
       "+------------------------+--------------------------+\n",
       "| mean_training_accuracy | mean_validation_accuracy |\n",
       "+------------------------+--------------------------+\n",
       "|     0.888214143961     |      0.87504727884       |\n",
       "|     0.916128505055     |      0.878976675772      |\n",
       "|     0.886419882795     |      0.877390208027      |\n",
       "|     0.886152553057     |      0.876392099181      |\n",
       "|     0.874481100138     |      0.870487497373      |\n",
       "|     0.888411430973     |      0.877064509351      |\n",
       "|     0.882219653989     |      0.878041605379      |\n",
       "|     0.91135859541      |      0.883441899559      |\n",
       "|     0.869836100021     |      0.866453036352      |\n",
       "|     0.889262450095     |      0.882086572809      |\n",
       "+------------------------+--------------------------+\n",
       "+--------------------------------+\n",
       "|            model_id            |\n",
       "+--------------------------------+\n",
       "| [28, 29, 24, 25, 26, 27, 2...  |\n",
       "| [19, 18, 11, 10, 13, 12, 1...  |\n",
       "| [51, 58, 59, 54, 55, 56, 5...  |\n",
       "| [60, 61, 65, 64, 67, 66, 6...  |\n",
       "| [31, 30, 33, 32, 35, 34, 3...  |\n",
       "| [88, 89, 81, 80, 83, 82, 8...  |\n",
       "| [43, 42, 41, 40, 45, 44, 4...  |\n",
       "| [8, 1, 0, 3, 2, 5, 4, 7, 9, 6] |\n",
       "| [93, 94, 95, 90, 91, 99, 9...  |\n",
       "| [77, 79, 78, 76, 71, 70, 7...  |\n",
       "+--------------------------------+\n",
       "[10 rows x 17 columns]"
      ]
     },
     "execution_count": 80,
     "metadata": {},
     "output_type": "execute_result"
    }
   ],
   "source": [
    "search_results.head()"
   ]
  },
  {
   "cell_type": "code",
   "execution_count": 81,
   "metadata": {
    "scrolled": true
   },
   "outputs": [
    {
     "name": "stdout",
     "output_type": "stream",
     "text": [
      "+---------------+-----------------+----------------+\n",
      "| class_weights |       std       |      mean      |\n",
      "+---------------+-----------------+----------------+\n",
      "|      None     | 0.0136933187101 | 0.889248441549 |\n",
      "+---------------+-----------------+----------------+\n",
      "[1 rows x 3 columns]\n",
      "\n",
      "+------------------+------------------+----------------+\n",
      "| column_subsample |       std        |      mean      |\n",
      "+------------------+------------------+----------------+\n",
      "|       0.05       | 0.00686395965271 | 0.876823251072 |\n",
      "|       0.8        | 0.0127199016447  | 0.898316172865 |\n",
      "|       0.1        | 0.00299724498611 | 0.885216898975 |\n",
      "+------------------+------------------+----------------+\n",
      "[3 rows x 3 columns]\n",
      "\n",
      "+-----------------------+-----------------+----------------+\n",
      "| early_stopping_rounds |       std       |      mean      |\n",
      "+-----------------------+-----------------+----------------+\n",
      "|           5           | 0.0136933187101 | 0.889248441549 |\n",
      "+-----------------------+-----------------+----------------+\n",
      "[1 rows x 3 columns]\n",
      "\n",
      "+-----------+-----------------+----------------+\n",
      "| max_depth |       std       |      mean      |\n",
      "+-----------+-----------------+----------------+\n",
      "|     15    | 0.0136110047333 | 0.892730148724 |\n",
      "|     20    |       0.0       | 0.91135859541  |\n",
      "|     4     |       0.0       | 0.889262450095 |\n",
      "|     9     |  0.008242651944 | 0.880235693773 |\n",
      "+-----------+-----------------+----------------+\n",
      "[4 rows x 3 columns]\n",
      "\n",
      "+----------------+------------------+----------------+\n",
      "| max_iterations |       std        |      mean      |\n",
      "+----------------+------------------+----------------+\n",
      "|      200       | 0.0147532616947  | 0.887046765193 |\n",
      "|      250       | 0.0115722257244  | 0.899786369686 |\n",
      "|      300       | 0.00309588849198 | 0.885315542481 |\n",
      "+----------------+------------------+----------------+\n",
      "[3 rows x 3 columns]\n",
      "\n",
      "+--------+-----------------+----------------+\n",
      "| metric |       std       |      mean      |\n",
      "+--------+-----------------+----------------+\n",
      "|  auc   | 0.0136933187101 | 0.889248441549 |\n",
      "+--------+-----------------+----------------+\n",
      "[1 rows x 3 columns]\n",
      "\n",
      "+------------------+------------------+----------------+\n",
      "| min_child_weight |       std        |      mean      |\n",
      "+------------------+------------------+----------------+\n",
      "|        2         | 0.0134846465009  | 0.888007984871 |\n",
      "|        10        | 0.00640401806801 | 0.883387811009 |\n",
      "|        5         | 0.0149879759987  | 0.901140529056 |\n",
      "+------------------+------------------+----------------+\n",
      "[3 rows x 3 columns]\n",
      "\n",
      "+--------------------+------------------+----------------+\n",
      "| min_loss_reduction |       std        |      mean      |\n",
      "+--------------------+------------------+----------------+\n",
      "|         10         | 0.00645804119592 | 0.883542294133 |\n",
      "|         1          | 0.0168554903617  | 0.897807662674 |\n",
      "+--------------------+------------------+----------------+\n",
      "[2 rows x 3 columns]\n",
      "\n",
      "+---------------+-----------------+----------------+\n",
      "| row_subsample |       std       |      mean      |\n",
      "+---------------+-----------------+----------------+\n",
      "|      0.5      | 0.0112781657339 | 0.888692185567 |\n",
      "|      0.75     | 0.0166376555459 | 0.890082825524 |\n",
      "+---------------+-----------------+----------------+\n",
      "[2 rows x 3 columns]\n",
      "\n",
      "+-----------+------------------+----------------+\n",
      "| step_size |       std        |      mean      |\n",
      "+-----------+------------------+----------------+\n",
      "|    0.5    | 0.0134330274801  | 0.902695477575 |\n",
      "|    0.01   | 0.0207612476944  | 0.890597347715 |\n",
      "|    0.1    | 0.00386927692559 | 0.878350377063 |\n",
      "|    1.0    | 0.00102007080396 | 0.887299502697 |\n",
      "+-----------+------------------+----------------+\n",
      "[4 rows x 3 columns]\n",
      "\n",
      "+--------+-----------------+----------------+\n",
      "| target |       std       |      mean      |\n",
      "+--------+-----------------+----------------+\n",
      "| target | 0.0136933187101 | 0.889248441549 |\n",
      "+--------+-----------------+----------------+\n",
      "[1 rows x 3 columns]\n",
      "\n"
     ]
    }
   ],
   "source": [
    "for col in [col for col in search_results.column_names() if \\\n",
    "            not('accuracy' in col) and col!= 'model_id' and col!= 'random_seed' and col!= 'fold_id' \\\n",
    "                               and col!= 'num_folds']:\n",
    "    print(search_results.groupby(col,\n",
    "                             {'mean':gl.aggregate.MEAN('mean_training_accuracy'),\n",
    "                                'std':gl.aggregate.STD('mean_training_accuracy')}))"
   ]
  },
  {
   "cell_type": "markdown",
   "metadata": {},
   "source": [
    "## hyperparameter results\n",
    "\n",
    "* class_weights: None, gana por afano\n",
    "* column_subsample : algo menor a 1 pero no queda claro si cuanto menos mejor\n",
    "* row_subsample : algo menor a 1 pero no queda claro si cuanto menos mejor, refinar\n",
    "* max_depth: varia mucho, refinar\n",
    "* max_iterations: tampoco queda claro si poquito o mucho es mejor, reprobar\n",
    "* metric: el f1_score es el unico que no parece variar mucho,los demas cambian demasiado\n",
    "* min_child_weight: varia mucho, reprobar con mas\n",
    "* min_loss_reduction: varia mucho, reprobar\n",
    "* step_size: mas grande parece ser mejor> 0.1"
   ]
  },
  {
   "cell_type": "code",
   "execution_count": null,
   "metadata": {
    "collapsed": true
   },
   "outputs": [],
   "source": []
  },
  {
   "cell_type": "markdown",
   "metadata": {
    "collapsed": true
   },
   "source": [
    "### Results\n",
    "\n",
    "* bootstrap  ???= False es 5% mejor\n",
    "* min_samples_leaf ????= mas chico es claramente mejor, pero tmb aumenta el overfitting lo cual me hace caer mucho el valor del recall en el test_set. Sin embargo es un parametro muy sensible en la precision. Resta evaluar asi el tradeoff entre la precision y el volumen de users al cual queremos llegar.\n",
    "* n_estimators ???= mas pareceria mejor, pero depende del app y hay que ver 'cuanto' mejora por app\n",
    "* citerion ???= entropy o gini no cambia. gini podria ser mejor entonces pues entropy usa logs de los valores lo cual es mas computacionalmente costoso\n",
    "* max_features ???= no afecta al score. con auto esta bien\n",
    "* max_depth ??=  mas es mejor. intentaria probar con >15"
   ]
  },
  {
   "cell_type": "markdown",
   "metadata": {
    "collapsed": true
   },
   "source": [
    "## boosted run with best params"
   ]
  },
  {
   "cell_type": "code",
   "execution_count": 82,
   "metadata": {
    "collapsed": true
   },
   "outputs": [],
   "source": [
    "params = model_search.get_best_params()"
   ]
  },
  {
   "cell_type": "code",
   "execution_count": 83,
   "metadata": {},
   "outputs": [
    {
     "data": {
      "text/plain": [
       "{'class_weights': None,\n",
       " 'column_subsample': 0.8,\n",
       " 'early_stopping_rounds': 5,\n",
       " 'max_depth': 20,\n",
       " 'max_iterations': 250,\n",
       " 'metric': 'auc',\n",
       " 'min_child_weight': 2,\n",
       " 'min_loss_reduction': 1,\n",
       " 'random_seed': 415168,\n",
       " 'row_subsample': 0.5,\n",
       " 'step_size': 0.01,\n",
       " 'target': 'target'}"
      ]
     },
     "execution_count": 83,
     "metadata": {},
     "output_type": "execute_result"
    }
   ],
   "source": [
    "params"
   ]
  },
  {
   "cell_type": "code",
   "execution_count": 106,
   "metadata": {
    "collapsed": true
   },
   "outputs": [],
   "source": [
    "params = {'class_weights': None,\n",
    " 'column_subsample': 0.8,\n",
    " 'early_stopping_rounds': 5,\n",
    " 'max_depth': 12,\n",
    " 'max_iterations': 250,\n",
    " 'metric': 'auc',\n",
    " 'min_child_weight': 2,\n",
    " 'min_loss_reduction': 1,\n",
    " 'random_seed': 415168,\n",
    " 'row_subsample': 0.5,\n",
    " 'step_size': 0.01,\n",
    " 'target': 'target'}"
   ]
  },
  {
   "cell_type": "code",
   "execution_count": 107,
   "metadata": {
    "scrolled": true
   },
   "outputs": [
    {
     "data": {
      "text/html": [
       "<pre>Boosted trees classifier:</pre>"
      ],
      "text/plain": [
       "Boosted trees classifier:"
      ]
     },
     "metadata": {},
     "output_type": "display_data"
    },
    {
     "data": {
      "text/html": [
       "<pre>--------------------------------------------------------</pre>"
      ],
      "text/plain": [
       "--------------------------------------------------------"
      ]
     },
     "metadata": {},
     "output_type": "display_data"
    },
    {
     "data": {
      "text/html": [
       "<pre>Number of examples          : 95180</pre>"
      ],
      "text/plain": [
       "Number of examples          : 95180"
      ]
     },
     "metadata": {},
     "output_type": "display_data"
    },
    {
     "data": {
      "text/html": [
       "<pre>Number of classes           : 2</pre>"
      ],
      "text/plain": [
       "Number of classes           : 2"
      ]
     },
     "metadata": {},
     "output_type": "display_data"
    },
    {
     "data": {
      "text/html": [
       "<pre>Number of feature columns   : 176</pre>"
      ],
      "text/plain": [
       "Number of feature columns   : 176"
      ]
     },
     "metadata": {},
     "output_type": "display_data"
    },
    {
     "data": {
      "text/html": [
       "<pre>Number of unpacked features : 176</pre>"
      ],
      "text/plain": [
       "Number of unpacked features : 176"
      ]
     },
     "metadata": {},
     "output_type": "display_data"
    },
    {
     "data": {
      "text/html": [
       "<pre>+-----------+--------------+--------------+----------------+</pre>"
      ],
      "text/plain": [
       "+-----------+--------------+--------------+----------------+"
      ]
     },
     "metadata": {},
     "output_type": "display_data"
    },
    {
     "data": {
      "text/html": [
       "<pre>| Iteration | Elapsed Time | Training-auc | Validation-auc |</pre>"
      ],
      "text/plain": [
       "| Iteration | Elapsed Time | Training-auc | Validation-auc |"
      ]
     },
     "metadata": {},
     "output_type": "display_data"
    },
    {
     "data": {
      "text/html": [
       "<pre>+-----------+--------------+--------------+----------------+</pre>"
      ],
      "text/plain": [
       "+-----------+--------------+--------------+----------------+"
      ]
     },
     "metadata": {},
     "output_type": "display_data"
    },
    {
     "data": {
      "text/html": [
       "<pre>| 1         | 0.792755     | 0.870534     | 0.854229       |</pre>"
      ],
      "text/plain": [
       "| 1         | 0.792755     | 0.870534     | 0.854229       |"
      ]
     },
     "metadata": {},
     "output_type": "display_data"
    },
    {
     "data": {
      "text/html": [
       "<pre>| 2         | 1.599966     | 0.885401     | 0.866128       |</pre>"
      ],
      "text/plain": [
       "| 2         | 1.599966     | 0.885401     | 0.866128       |"
      ]
     },
     "metadata": {},
     "output_type": "display_data"
    },
    {
     "data": {
      "text/html": [
       "<pre>| 3         | 2.415011     | 0.891582     | 0.872199       |</pre>"
      ],
      "text/plain": [
       "| 3         | 2.415011     | 0.891582     | 0.872199       |"
      ]
     },
     "metadata": {},
     "output_type": "display_data"
    },
    {
     "data": {
      "text/html": [
       "<pre>| 4         | 3.172991     | 0.896710     | 0.875075       |</pre>"
      ],
      "text/plain": [
       "| 4         | 3.172991     | 0.896710     | 0.875075       |"
      ]
     },
     "metadata": {},
     "output_type": "display_data"
    },
    {
     "data": {
      "text/html": [
       "<pre>| 5         | 3.932190     | 0.898678     | 0.876098       |</pre>"
      ],
      "text/plain": [
       "| 5         | 3.932190     | 0.898678     | 0.876098       |"
      ]
     },
     "metadata": {},
     "output_type": "display_data"
    },
    {
     "data": {
      "text/html": [
       "<pre>| 6         | 4.718734     | 0.898829     | 0.875404       |</pre>"
      ],
      "text/plain": [
       "| 6         | 4.718734     | 0.898829     | 0.875404       |"
      ]
     },
     "metadata": {},
     "output_type": "display_data"
    },
    {
     "data": {
      "text/html": [
       "<pre>| 10        | 7.827187     | 0.901186     | 0.878331       |</pre>"
      ],
      "text/plain": [
       "| 10        | 7.827187     | 0.901186     | 0.878331       |"
      ]
     },
     "metadata": {},
     "output_type": "display_data"
    },
    {
     "data": {
      "text/html": [
       "<pre>| 11        | 8.619724     | 0.901667     | 0.878403       |</pre>"
      ],
      "text/plain": [
       "| 11        | 8.619724     | 0.901667     | 0.878403       |"
      ]
     },
     "metadata": {},
     "output_type": "display_data"
    },
    {
     "data": {
      "text/html": [
       "<pre>| 15        | 11.739438    | 0.904433     | 0.879636       |</pre>"
      ],
      "text/plain": [
       "| 15        | 11.739438    | 0.904433     | 0.879636       |"
      ]
     },
     "metadata": {},
     "output_type": "display_data"
    },
    {
     "data": {
      "text/html": [
       "<pre>| 20        | 15.623586    | 0.905729     | 0.880089       |</pre>"
      ],
      "text/plain": [
       "| 20        | 15.623586    | 0.905729     | 0.880089       |"
      ]
     },
     "metadata": {},
     "output_type": "display_data"
    },
    {
     "data": {
      "text/html": [
       "<pre>| 25        | 19.480804    | 0.907467     | 0.880335       |</pre>"
      ],
      "text/plain": [
       "| 25        | 19.480804    | 0.907467     | 0.880335       |"
      ]
     },
     "metadata": {},
     "output_type": "display_data"
    },
    {
     "data": {
      "text/html": [
       "<pre>| 30        | 23.432567    | 0.907983     | 0.880966       |</pre>"
      ],
      "text/plain": [
       "| 30        | 23.432567    | 0.907983     | 0.880966       |"
      ]
     },
     "metadata": {},
     "output_type": "display_data"
    },
    {
     "data": {
      "text/html": [
       "<pre>| 35        | 27.363924    | 0.908957     | 0.880943       |</pre>"
      ],
      "text/plain": [
       "| 35        | 27.363924    | 0.908957     | 0.880943       |"
      ]
     },
     "metadata": {},
     "output_type": "display_data"
    },
    {
     "data": {
      "text/html": [
       "<pre>+-----------+--------------+--------------+----------------+</pre>"
      ],
      "text/plain": [
       "+-----------+--------------+--------------+----------------+"
      ]
     },
     "metadata": {},
     "output_type": "display_data"
    },
    {
     "data": {
      "text/html": [
       "<pre>Early stop triggered. Returning the best model at iteration: 30</pre>"
      ],
      "text/plain": [
       "Early stop triggered. Returning the best model at iteration: 30"
      ]
     },
     "metadata": {},
     "output_type": "display_data"
    },
    {
     "name": "stdout",
     "output_type": "stream",
     "text": [
      "CPU times: user 2min 27s, sys: 4.76 s, total: 2min 32s\n",
      "Wall time: 30.9 s\n"
     ]
    }
   ],
   "source": [
    "%%time\n",
    "best_model =  boosted_trees_classifier.create(dataset=X_gl,\n",
    "                                             validation_set = X_val_gl,\n",
    "                                             **params)"
   ]
  },
  {
   "cell_type": "code",
   "execution_count": 109,
   "metadata": {
    "scrolled": true
   },
   "outputs": [
    {
     "data": {
      "text/plain": [
       "['COUNT_0',\n",
       " 'MOBILITY_DIAMETER_WEEKNIGHT',\n",
       " 'MOBILITY_DIAMETER',\n",
       " 'COUNT_WEEKNIGHT_0',\n",
       " 'COUNT_1',\n",
       " 'TimeWeekDay_IN_08',\n",
       " 'COUNT_2',\n",
       " 'TimeWeekDay_OUT_08',\n",
       " 'COUNT_WEEKNIGHT_1',\n",
       " 'TimeWeekDay_OUT_09',\n",
       " 'TimeWeekDay_OUT_12',\n",
       " 'TimeWeekDay_IN_09',\n",
       " 'TimeWeekDay_IN_12',\n",
       " 'TimeWeekDay_OUT_10',\n",
       " 'TimeWeekEnd_OUT_08',\n",
       " 'COUNT_3',\n",
       " 'COUNT_4',\n",
       " 'CallsWeekDay_IN_08',\n",
       " 'TimeWeekDay_OUT_11',\n",
       " 'TimeWeekDay_IN_10']"
      ]
     },
     "execution_count": 109,
     "metadata": {},
     "output_type": "execute_result"
    }
   ],
   "source": [
    "best_feat = best_model.get_feature_importance()\n",
    "best_feat = list(best_feat['name'].head(20))\n",
    "best_feat"
   ]
  },
  {
   "cell_type": "code",
   "execution_count": 87,
   "metadata": {
    "scrolled": true
   },
   "outputs": [
    {
     "data": {
      "text/html": [
       "<div>\n",
       "<style>\n",
       "    .dataframe thead tr:only-child th {\n",
       "        text-align: right;\n",
       "    }\n",
       "\n",
       "    .dataframe thead th {\n",
       "        text-align: left;\n",
       "    }\n",
       "\n",
       "    .dataframe tbody tr th {\n",
       "        vertical-align: top;\n",
       "    }\n",
       "</style>\n",
       "<table border=\"1\" class=\"dataframe\">\n",
       "  <thead>\n",
       "    <tr style=\"text-align: right;\">\n",
       "      <th></th>\n",
       "      <th></th>\n",
       "      <th>LATITUDE</th>\n",
       "      <th>LONGITUDE</th>\n",
       "      <th>CEL_ID</th>\n",
       "    </tr>\n",
       "    <tr>\n",
       "      <th>STATE</th>\n",
       "      <th>EPIDEMIC</th>\n",
       "      <th></th>\n",
       "      <th></th>\n",
       "      <th></th>\n",
       "    </tr>\n",
       "  </thead>\n",
       "  <tbody>\n",
       "    <tr>\n",
       "      <th>Aguascalientes</th>\n",
       "      <th>0</th>\n",
       "      <td>21.856175</td>\n",
       "      <td>-102.352281</td>\n",
       "      <td>37</td>\n",
       "    </tr>\n",
       "    <tr>\n",
       "      <th>Baja_California</th>\n",
       "      <th>0</th>\n",
       "      <td>32.642231</td>\n",
       "      <td>-115.408042</td>\n",
       "      <td>67</td>\n",
       "    </tr>\n",
       "    <tr>\n",
       "      <th>Baja_California_Sur</th>\n",
       "      <th>0</th>\n",
       "      <td>24.142063</td>\n",
       "      <td>-110.294055</td>\n",
       "      <td>1</td>\n",
       "    </tr>\n",
       "    <tr>\n",
       "      <th>Campeche</th>\n",
       "      <th>0</th>\n",
       "      <td>19.814033</td>\n",
       "      <td>-90.508705</td>\n",
       "      <td>49</td>\n",
       "    </tr>\n",
       "    <tr>\n",
       "      <th>Chiapas</th>\n",
       "      <th>0</th>\n",
       "      <td>16.620228</td>\n",
       "      <td>-93.097100</td>\n",
       "      <td>76</td>\n",
       "    </tr>\n",
       "    <tr>\n",
       "      <th>Chihuahua</th>\n",
       "      <th>0</th>\n",
       "      <td>28.694722</td>\n",
       "      <td>-106.108056</td>\n",
       "      <td>55</td>\n",
       "    </tr>\n",
       "    <tr>\n",
       "      <th>Coahuila_de_Zaragoza</th>\n",
       "      <th>0</th>\n",
       "      <td>28.637778</td>\n",
       "      <td>-100.553056</td>\n",
       "      <td>118</td>\n",
       "    </tr>\n",
       "    <tr>\n",
       "      <th>Colima</th>\n",
       "      <th>0</th>\n",
       "      <td>19.052920</td>\n",
       "      <td>-104.320394</td>\n",
       "      <td>87</td>\n",
       "    </tr>\n",
       "    <tr>\n",
       "      <th>Distrito_Federal</th>\n",
       "      <th>0</th>\n",
       "      <td>19.317872</td>\n",
       "      <td>-99.137003</td>\n",
       "      <td>2</td>\n",
       "    </tr>\n",
       "    <tr>\n",
       "      <th>Durango</th>\n",
       "      <th>0</th>\n",
       "      <td>25.553119</td>\n",
       "      <td>-103.489508</td>\n",
       "      <td>35</td>\n",
       "    </tr>\n",
       "    <tr>\n",
       "      <th>Guanajuato</th>\n",
       "      <th>0</th>\n",
       "      <td>21.158572</td>\n",
       "      <td>-100.923861</td>\n",
       "      <td>30</td>\n",
       "    </tr>\n",
       "    <tr>\n",
       "      <th>Guerrero</th>\n",
       "      <th>1</th>\n",
       "      <td>16.831714</td>\n",
       "      <td>-99.778656</td>\n",
       "      <td>57</td>\n",
       "    </tr>\n",
       "    <tr>\n",
       "      <th>Hidalgo</th>\n",
       "      <th>1</th>\n",
       "      <td>19.832881</td>\n",
       "      <td>-98.950172</td>\n",
       "      <td>60</td>\n",
       "    </tr>\n",
       "    <tr>\n",
       "      <th>Jalisco</th>\n",
       "      <th>1</th>\n",
       "      <td>20.581427</td>\n",
       "      <td>-103.432628</td>\n",
       "      <td>10</td>\n",
       "    </tr>\n",
       "    <tr>\n",
       "      <th>Mexico</th>\n",
       "      <th>0</th>\n",
       "      <td>19.490600</td>\n",
       "      <td>-99.271200</td>\n",
       "      <td>9</td>\n",
       "    </tr>\n",
       "    <tr>\n",
       "      <th>Michoacan_de_Ocampo</th>\n",
       "      <th>0</th>\n",
       "      <td>19.699532</td>\n",
       "      <td>-101.211267</td>\n",
       "      <td>102</td>\n",
       "    </tr>\n",
       "    <tr>\n",
       "      <th>Morelos</th>\n",
       "      <th>1</th>\n",
       "      <td>18.828056</td>\n",
       "      <td>-99.244444</td>\n",
       "      <td>6</td>\n",
       "    </tr>\n",
       "    <tr>\n",
       "      <th>Nayarit</th>\n",
       "      <th>0</th>\n",
       "      <td>21.055389</td>\n",
       "      <td>-105.127556</td>\n",
       "      <td>56</td>\n",
       "    </tr>\n",
       "    <tr>\n",
       "      <th>Nuevo_Leon</th>\n",
       "      <th>0</th>\n",
       "      <td>25.806569</td>\n",
       "      <td>-100.325653</td>\n",
       "      <td>8</td>\n",
       "    </tr>\n",
       "    <tr>\n",
       "      <th>Oaxaca</th>\n",
       "      <th>1</th>\n",
       "      <td>17.071125</td>\n",
       "      <td>-96.676006</td>\n",
       "      <td>24</td>\n",
       "    </tr>\n",
       "    <tr>\n",
       "      <th>Puebla</th>\n",
       "      <th>1</th>\n",
       "      <td>19.067444</td>\n",
       "      <td>-98.221000</td>\n",
       "      <td>5</td>\n",
       "    </tr>\n",
       "    <tr>\n",
       "      <th>Queretaro</th>\n",
       "      <th>0</th>\n",
       "      <td>20.594503</td>\n",
       "      <td>-100.393656</td>\n",
       "      <td>17</td>\n",
       "    </tr>\n",
       "    <tr>\n",
       "      <th>Quintana_Roo</th>\n",
       "      <th>0</th>\n",
       "      <td>21.140333</td>\n",
       "      <td>-86.864528</td>\n",
       "      <td>123</td>\n",
       "    </tr>\n",
       "    <tr>\n",
       "      <th>San_Luis_Potosi</th>\n",
       "      <th>0</th>\n",
       "      <td>22.186800</td>\n",
       "      <td>-100.945300</td>\n",
       "      <td>105</td>\n",
       "    </tr>\n",
       "    <tr>\n",
       "      <th>Sinaloa</th>\n",
       "      <th>0</th>\n",
       "      <td>23.278450</td>\n",
       "      <td>-106.448220</td>\n",
       "      <td>86</td>\n",
       "    </tr>\n",
       "    <tr>\n",
       "      <th>Sonora</th>\n",
       "      <th>0</th>\n",
       "      <td>32.444358</td>\n",
       "      <td>-114.771023</td>\n",
       "      <td>38</td>\n",
       "    </tr>\n",
       "    <tr>\n",
       "      <th>Tabasco</th>\n",
       "      <th>1</th>\n",
       "      <td>17.879241</td>\n",
       "      <td>-92.480478</td>\n",
       "      <td>3</td>\n",
       "    </tr>\n",
       "    <tr>\n",
       "      <th>Tamaulipas</th>\n",
       "      <th>0</th>\n",
       "      <td>22.415000</td>\n",
       "      <td>-97.938000</td>\n",
       "      <td>4</td>\n",
       "    </tr>\n",
       "    <tr>\n",
       "      <th>Tlaxcala</th>\n",
       "      <th>0</th>\n",
       "      <td>19.212956</td>\n",
       "      <td>-98.240853</td>\n",
       "      <td>162</td>\n",
       "    </tr>\n",
       "    <tr>\n",
       "      <th>Veracruz</th>\n",
       "      <th>1</th>\n",
       "      <td>17.994111</td>\n",
       "      <td>-94.566444</td>\n",
       "      <td>13</td>\n",
       "    </tr>\n",
       "    <tr>\n",
       "      <th>Yucatan</th>\n",
       "      <th>0</th>\n",
       "      <td>21.016680</td>\n",
       "      <td>-89.607927</td>\n",
       "      <td>12</td>\n",
       "    </tr>\n",
       "    <tr>\n",
       "      <th>Zacatecas</th>\n",
       "      <th>0</th>\n",
       "      <td>22.738691</td>\n",
       "      <td>-102.555193</td>\n",
       "      <td>131</td>\n",
       "    </tr>\n",
       "  </tbody>\n",
       "</table>\n",
       "</div>"
      ],
      "text/plain": [
       "                                LATITUDE   LONGITUDE  CEL_ID\n",
       "STATE                EPIDEMIC                               \n",
       "Aguascalientes       0         21.856175 -102.352281      37\n",
       "Baja_California      0         32.642231 -115.408042      67\n",
       "Baja_California_Sur  0         24.142063 -110.294055       1\n",
       "Campeche             0         19.814033  -90.508705      49\n",
       "Chiapas              0         16.620228  -93.097100      76\n",
       "Chihuahua            0         28.694722 -106.108056      55\n",
       "Coahuila_de_Zaragoza 0         28.637778 -100.553056     118\n",
       "Colima               0         19.052920 -104.320394      87\n",
       "Distrito_Federal     0         19.317872  -99.137003       2\n",
       "Durango              0         25.553119 -103.489508      35\n",
       "Guanajuato           0         21.158572 -100.923861      30\n",
       "Guerrero             1         16.831714  -99.778656      57\n",
       "Hidalgo              1         19.832881  -98.950172      60\n",
       "Jalisco              1         20.581427 -103.432628      10\n",
       "Mexico               0         19.490600  -99.271200       9\n",
       "Michoacan_de_Ocampo  0         19.699532 -101.211267     102\n",
       "Morelos              1         18.828056  -99.244444       6\n",
       "Nayarit              0         21.055389 -105.127556      56\n",
       "Nuevo_Leon           0         25.806569 -100.325653       8\n",
       "Oaxaca               1         17.071125  -96.676006      24\n",
       "Puebla               1         19.067444  -98.221000       5\n",
       "Queretaro            0         20.594503 -100.393656      17\n",
       "Quintana_Roo         0         21.140333  -86.864528     123\n",
       "San_Luis_Potosi      0         22.186800 -100.945300     105\n",
       "Sinaloa              0         23.278450 -106.448220      86\n",
       "Sonora               0         32.444358 -114.771023      38\n",
       "Tabasco              1         17.879241  -92.480478       3\n",
       "Tamaulipas           0         22.415000  -97.938000       4\n",
       "Tlaxcala             0         19.212956  -98.240853     162\n",
       "Veracruz             1         17.994111  -94.566444      13\n",
       "Yucatan              0         21.016680  -89.607927      12\n",
       "Zacatecas            0         22.738691 -102.555193     131"
      ]
     },
     "execution_count": 87,
     "metadata": {},
     "output_type": "execute_result"
    }
   ],
   "source": [
    "# check if best feat states are epidemic or not\n",
    "antennas.groupby(['STATE','EPIDEMIC']).first()"
   ]
  },
  {
   "cell_type": "code",
   "execution_count": 110,
   "metadata": {
    "scrolled": true
   },
   "outputs": [
    {
     "data": {
      "text/plain": [
       "{'accuracy': 0.8897577722677856,\n",
       " 'auc': 0.8809650552848158,\n",
       " 'confusion_matrix': Columns:\n",
       " \ttarget_label\tint\n",
       " \tpredicted_label\tint\n",
       " \tcount\tint\n",
       " \n",
       " Rows: 4\n",
       " \n",
       " Data:\n",
       " +--------------+-----------------+-------+\n",
       " | target_label | predicted_label | count |\n",
       " +--------------+-----------------+-------+\n",
       " |      0       |        1        |  281  |\n",
       " |      1       |        0        |  875  |\n",
       " |      1       |        1        |  1163 |\n",
       " |      0       |        0        |  8167 |\n",
       " +--------------+-----------------+-------+\n",
       " [4 rows x 3 columns],\n",
       " 'f1_score': 0.6680068925904652,\n",
       " 'log_loss': 0.5461287424860415,\n",
       " 'precision': 0.8054016620498615,\n",
       " 'recall': 0.570657507360157,\n",
       " 'roc_curve': Columns:\n",
       " \tthreshold\tfloat\n",
       " \tfpr\tfloat\n",
       " \ttpr\tfloat\n",
       " \tp\tint\n",
       " \tn\tint\n",
       " \n",
       " Rows: 100001\n",
       " \n",
       " Data:\n",
       " +-----------+-----+-----+------+------+\n",
       " | threshold | fpr | tpr |  p   |  n   |\n",
       " +-----------+-----+-----+------+------+\n",
       " |    0.0    | 1.0 | 1.0 | 2038 | 8448 |\n",
       " |   1e-05   | 1.0 | 1.0 | 2038 | 8448 |\n",
       " |   2e-05   | 1.0 | 1.0 | 2038 | 8448 |\n",
       " |   3e-05   | 1.0 | 1.0 | 2038 | 8448 |\n",
       " |   4e-05   | 1.0 | 1.0 | 2038 | 8448 |\n",
       " |   5e-05   | 1.0 | 1.0 | 2038 | 8448 |\n",
       " |   6e-05   | 1.0 | 1.0 | 2038 | 8448 |\n",
       " |   7e-05   | 1.0 | 1.0 | 2038 | 8448 |\n",
       " |   8e-05   | 1.0 | 1.0 | 2038 | 8448 |\n",
       " |   9e-05   | 1.0 | 1.0 | 2038 | 8448 |\n",
       " +-----------+-----+-----+------+------+\n",
       " [100001 rows x 5 columns]\n",
       " Note: Only the head of the SFrame is printed.\n",
       " You can use print_rows(num_rows=m, num_columns=n) to print more rows and columns.}"
      ]
     },
     "execution_count": 110,
     "metadata": {},
     "output_type": "execute_result"
    }
   ],
   "source": [
    "test_error = best_model.evaluate(X_val_gl)\n",
    "test_error"
   ]
  },
  {
   "cell_type": "code",
   "execution_count": 111,
   "metadata": {
    "scrolled": true
   },
   "outputs": [
    {
     "data": {
      "text/plain": [
       "<bound method BoostedTreesClassifier.get_current_options of Class                          : BoostedTreesClassifier\n",
       "\n",
       "Schema\n",
       "------\n",
       "Number of examples             : 95180\n",
       "Number of feature columns      : 176\n",
       "Number of unpacked features    : 176\n",
       "Number of classes              : 2\n",
       "\n",
       "Settings\n",
       "--------\n",
       "Number of trees                : 30\n",
       "Max tree depth                 : 12\n",
       "Training time (sec)            : 27.3684\n",
       "Training auc                   : 0.908\n",
       "Validation auc                 : 0.881\n",
       ">"
      ]
     },
     "execution_count": 111,
     "metadata": {},
     "output_type": "execute_result"
    }
   ],
   "source": [
    "best_model.get_current_options"
   ]
  },
  {
   "cell_type": "code",
   "execution_count": null,
   "metadata": {
    "collapsed": true
   },
   "outputs": [],
   "source": []
  },
  {
   "cell_type": "code",
   "execution_count": null,
   "metadata": {
    "collapsed": true
   },
   "outputs": [],
   "source": []
  },
  {
   "cell_type": "markdown",
   "metadata": {},
   "source": [
    "# Sklearn \n",
    "\n",
    "validation, bias variance, learning curves  and decision tree models"
   ]
  },
  {
   "cell_type": "code",
   "execution_count": 123,
   "metadata": {
    "scrolled": true
   },
   "outputs": [
    {
     "name": "stderr",
     "output_type": "stream",
     "text": [
      "/home/juan/mfixman/venv/local/lib/python2.7/site-packages/sklearn/cross_validation.py:44: DeprecationWarning: This module was deprecated in version 0.18 in favor of the model_selection module into which all the refactored classes and functions are moved. Also note that the interface of the new CV iterators are different from that of this module. This module will be removed in 0.20.\n",
      "  \"This module will be removed in 0.20.\", DeprecationWarning)\n",
      "/home/juan/mfixman/venv/local/lib/python2.7/site-packages/sklearn/grid_search.py:43: DeprecationWarning: This module was deprecated in version 0.18 in favor of the model_selection module into which all the refactored classes and functions are moved. This module will be removed in 0.20.\n",
      "  DeprecationWarning)\n"
     ]
    }
   ],
   "source": [
    "from sklearn.linear_model import *\n",
    "from sklearn.ensemble import *\n",
    "\n",
    "from sklearn import model_selection\n",
    "from sklearn.model_selection import validation_curve\n",
    "\n",
    "from sklearn.multiclass import OneVsRestClassifier\n",
    "\n",
    "from sklearn.utils import *\n",
    "\n",
    "from sklearn.preprocessing import label_binarize, scale, StandardScaler, MinMaxScaler\n",
    "\n",
    "from sklearn.metrics import *\n",
    "\n",
    "from sklearn.tree import *\n",
    "\n",
    "from sklearn.grid_search import *\n",
    "\n",
    "from sklearn.pipeline import Pipeline"
   ]
  },
  {
   "cell_type": "code",
   "execution_count": null,
   "metadata": {
    "collapsed": true
   },
   "outputs": [],
   "source": []
  },
  {
   "cell_type": "markdown",
   "metadata": {},
   "source": [
    "## bias variance trade-off in the number of attributes\n",
    "we first used a random forest to get the best attributes in the model and now will try to overfit the validation set using too many features."
   ]
  },
  {
   "cell_type": "code",
   "execution_count": 124,
   "metadata": {},
   "outputs": [
    {
     "data": {
      "text/plain": [
       "Index([u'MOBILITY_DIAMETER', u'COUNT_0', u'COUNT_WEEKNIGHT_0',\n",
       "       u'MOBILITY_DIAMETER_WEEKNIGHT', u'COUNT_1', u'COUNT_2',\n",
       "       u'COUNT_WEEKNIGHT_1', u'COUNT_3', u'TimeWeekDay_OUT_08',\n",
       "       u'TimeWeekDay_OUT_12',\n",
       "       ...\n",
       "       u'STATE_Yucatan', u'STATE_Aguascalientes', u'STATE_Colima',\n",
       "       u'STATE_Baja_California_Sur', u'STATE_Sinaloa', u'STATE_Sonora',\n",
       "       u'STATE_Tamaulipas', u'STATE_Zacatecas', u'STATE_Durango',\n",
       "       u'STATE_Coahuila_de_Zaragoza'],\n",
       "      dtype='object', length=176)"
      ]
     },
     "execution_count": 124,
     "metadata": {},
     "output_type": "execute_result"
    }
   ],
   "source": [
    "best_columns = best_feat['name'].to_numpy()\n",
    "\n",
    "X[best_columns].columns"
   ]
  },
  {
   "cell_type": "markdown",
   "metadata": {
    "collapsed": true
   },
   "source": [
    "## scale numerical features when necessary"
   ]
  },
  {
   "cell_type": "code",
   "execution_count": 125,
   "metadata": {
    "collapsed": true
   },
   "outputs": [],
   "source": [
    "# by definition any column which is outside of [-1,1]\n",
    "scaling_cols = (X.max()) >1 | (X.min()<-1)"
   ]
  },
  {
   "cell_type": "code",
   "execution_count": 126,
   "metadata": {
    "collapsed": true
   },
   "outputs": [],
   "source": [
    "scaling_cols = scaling_cols[scaling_cols==True].index"
   ]
  },
  {
   "cell_type": "code",
   "execution_count": 127,
   "metadata": {
    "collapsed": true
   },
   "outputs": [],
   "source": [
    "scale = MinMaxScaler(copy=True)"
   ]
  },
  {
   "cell_type": "code",
   "execution_count": 128,
   "metadata": {},
   "outputs": [],
   "source": [
    "X[scaling_cols] = scale.fit_transform(X[scaling_cols])"
   ]
  },
  {
   "cell_type": "code",
   "execution_count": 68,
   "metadata": {
    "scrolled": true
   },
   "outputs": [
    {
     "data": {
      "text/plain": [
       "array([  1.00000000e-03,   1.37382380e-03,   1.88739182e-03,\n",
       "         2.59294380e-03,   3.56224789e-03,   4.89390092e-03,\n",
       "         6.72335754e-03,   9.23670857e-03,   1.26896100e-02,\n",
       "         1.74332882e-02,   2.39502662e-02,   3.29034456e-02,\n",
       "         4.52035366e-02,   6.21016942e-02,   8.53167852e-02,\n",
       "         1.17210230e-01,   1.61026203e-01,   2.21221629e-01,\n",
       "         3.03919538e-01,   4.17531894e-01,   5.73615251e-01,\n",
       "         7.88046282e-01,   1.08263673e+00,   1.48735211e+00,\n",
       "         2.04335972e+00,   2.80721620e+00,   3.85662042e+00,\n",
       "         5.29831691e+00,   7.27895384e+00,   1.00000000e+01])"
      ]
     },
     "execution_count": 68,
     "metadata": {},
     "output_type": "execute_result"
    }
   ],
   "source": [
    "# define our c range to compare\n",
    "inv_c_range = np.logspace(-4, 100, 15)\n",
    "# param_range = 1./inv_c_range\n",
    "param_range = np.linspace(-3,0.5,30)\n",
    "# param_range = np.ceil(param_range)\n",
    "param_range = np.exp((param_range)*np.log(10))\n",
    "param_range\n"
   ]
  },
  {
   "cell_type": "code",
   "execution_count": null,
   "metadata": {
    "scrolled": true
   },
   "outputs": [
    {
     "name": "stderr",
     "output_type": "stream",
     "text": [
      "Process PoolWorker-84:\n",
      "Process PoolWorker-92:\n",
      "Process PoolWorker-93:\n",
      "Process PoolWorker-85:\n",
      "Process PoolWorker-87:\n",
      "Process PoolWorker-95:\n",
      "Process PoolWorker-86:\n",
      "Process PoolWorker-82:\n",
      "Process PoolWorker-96:\n",
      "Process PoolWorker-97:\n",
      "Process PoolWorker-91:\n",
      "Process PoolWorker-83:\n",
      "Process PoolWorker-88:\n",
      "Process PoolWorker-90:\n",
      "Process PoolWorker-94:\n",
      "Process PoolWorker-89:\n",
      "Traceback (most recent call last):\n",
      "Traceback (most recent call last):\n",
      "Traceback (most recent call last):\n",
      "Traceback (most recent call last):\n",
      "Traceback (most recent call last):\n",
      "Traceback (most recent call last):\n",
      "Traceback (most recent call last):\n",
      "Traceback (most recent call last):\n",
      "Traceback (most recent call last):\n",
      "Traceback (most recent call last):\n",
      "Traceback (most recent call last):\n",
      "Traceback (most recent call last):\n",
      "Traceback (most recent call last):\n",
      "  File \"/usr/lib/python2.7/multiprocessing/process.py\", line 258, in _bootstrap\n",
      "  File \"/usr/lib/python2.7/multiprocessing/process.py\", line 258, in _bootstrap\n",
      "  File \"/usr/lib/python2.7/multiprocessing/process.py\", line 258, in _bootstrap\n",
      "Traceback (most recent call last):\n",
      "  File \"/usr/lib/python2.7/multiprocessing/process.py\", line 258, in _bootstrap\n",
      "  File \"/usr/lib/python2.7/multiprocessing/process.py\", line 258, in _bootstrap\n",
      "  File \"/usr/lib/python2.7/multiprocessing/process.py\", line 258, in _bootstrap\n",
      "  File \"/usr/lib/python2.7/multiprocessing/process.py\", line 258, in _bootstrap\n",
      "Traceback (most recent call last):\n",
      "  File \"/usr/lib/python2.7/multiprocessing/process.py\", line 258, in _bootstrap\n",
      "  File \"/usr/lib/python2.7/multiprocessing/process.py\", line 258, in _bootstrap\n",
      "  File \"/usr/lib/python2.7/multiprocessing/process.py\", line 258, in _bootstrap\n",
      "  File \"/usr/lib/python2.7/multiprocessing/process.py\", line 258, in _bootstrap\n",
      "  File \"/usr/lib/python2.7/multiprocessing/process.py\", line 258, in _bootstrap\n",
      "  File \"/usr/lib/python2.7/multiprocessing/process.py\", line 258, in _bootstrap\n",
      "Traceback (most recent call last):\n",
      "  File \"/usr/lib/python2.7/multiprocessing/process.py\", line 258, in _bootstrap\n",
      "  File \"/usr/lib/python2.7/multiprocessing/process.py\", line 258, in _bootstrap\n",
      "  File \"/usr/lib/python2.7/multiprocessing/process.py\", line 258, in _bootstrap\n",
      "    self.run()\n",
      "    self.run()\n",
      "    self.run()\n",
      "    self.run()\n",
      "    self.run()\n",
      "    self.run()\n",
      "    self.run()\n",
      "    self.run()\n",
      "    self.run()\n",
      "    self.run()\n",
      "    self.run()\n",
      "  File \"/usr/lib/python2.7/multiprocessing/process.py\", line 114, in run\n",
      "  File \"/usr/lib/python2.7/multiprocessing/process.py\", line 114, in run\n",
      "    self.run()\n",
      "  File \"/usr/lib/python2.7/multiprocessing/process.py\", line 114, in run\n",
      "    self.run()\n",
      "    self.run()\n",
      "  File \"/usr/lib/python2.7/multiprocessing/process.py\", line 114, in run\n",
      "  File \"/usr/lib/python2.7/multiprocessing/process.py\", line 114, in run\n",
      "    self.run()\n",
      "  File \"/usr/lib/python2.7/multiprocessing/process.py\", line 114, in run\n",
      "    self.run()\n",
      "  File \"/usr/lib/python2.7/multiprocessing/process.py\", line 114, in run\n",
      "  File \"/usr/lib/python2.7/multiprocessing/process.py\", line 114, in run\n",
      "  File \"/usr/lib/python2.7/multiprocessing/process.py\", line 114, in run\n",
      "  File \"/usr/lib/python2.7/multiprocessing/process.py\", line 114, in run\n",
      "  File \"/usr/lib/python2.7/multiprocessing/process.py\", line 114, in run\n",
      "    self._target(*self._args, **self._kwargs)\n",
      "  File \"/usr/lib/python2.7/multiprocessing/process.py\", line 114, in run\n",
      "  File \"/usr/lib/python2.7/multiprocessing/process.py\", line 114, in run\n",
      "    self._target(*self._args, **self._kwargs)\n",
      "    self._target(*self._args, **self._kwargs)\n",
      "    self._target(*self._args, **self._kwargs)\n",
      "  File \"/usr/lib/python2.7/multiprocessing/process.py\", line 114, in run\n",
      "  File \"/usr/lib/python2.7/multiprocessing/process.py\", line 114, in run\n",
      "  File \"/usr/lib/python2.7/multiprocessing/process.py\", line 114, in run\n",
      "    self._target(*self._args, **self._kwargs)\n",
      "    self._target(*self._args, **self._kwargs)\n",
      "    self._target(*self._args, **self._kwargs)\n",
      "    self._target(*self._args, **self._kwargs)\n",
      "    self._target(*self._args, **self._kwargs)\n",
      "    self._target(*self._args, **self._kwargs)\n",
      "    self._target(*self._args, **self._kwargs)\n",
      "    self._target(*self._args, **self._kwargs)\n",
      "  File \"/usr/lib/python2.7/multiprocessing/pool.py\", line 102, in worker\n",
      "    self._target(*self._args, **self._kwargs)\n",
      "  File \"/usr/lib/python2.7/multiprocessing/pool.py\", line 102, in worker\n",
      "    self._target(*self._args, **self._kwargs)\n",
      "  File \"/usr/lib/python2.7/multiprocessing/pool.py\", line 102, in worker\n",
      "    self._target(*self._args, **self._kwargs)\n",
      "    self._target(*self._args, **self._kwargs)\n",
      "  File \"/usr/lib/python2.7/multiprocessing/pool.py\", line 102, in worker\n",
      "  File \"/usr/lib/python2.7/multiprocessing/pool.py\", line 102, in worker\n",
      "  File \"/usr/lib/python2.7/multiprocessing/pool.py\", line 102, in worker\n",
      "  File \"/usr/lib/python2.7/multiprocessing/pool.py\", line 102, in worker\n",
      "  File \"/usr/lib/python2.7/multiprocessing/pool.py\", line 102, in worker\n",
      "  File \"/usr/lib/python2.7/multiprocessing/pool.py\", line 102, in worker\n",
      "  File \"/usr/lib/python2.7/multiprocessing/pool.py\", line 102, in worker\n",
      "  File \"/usr/lib/python2.7/multiprocessing/pool.py\", line 102, in worker\n",
      "  File \"/usr/lib/python2.7/multiprocessing/pool.py\", line 102, in worker\n",
      "    task = get()\n",
      "    task = get()\n",
      "  File \"/usr/lib/python2.7/multiprocessing/pool.py\", line 102, in worker\n",
      "  File \"/usr/lib/python2.7/multiprocessing/pool.py\", line 102, in worker\n",
      "  File \"/usr/lib/python2.7/multiprocessing/pool.py\", line 102, in worker\n",
      "    task = get()\n",
      "    task = get()\n",
      "    task = get()\n",
      "    task = get()\n",
      "    task = get()\n",
      "    task = get()\n",
      "  File \"/home/juan/mfixman/venv/local/lib/python2.7/site-packages/sklearn/externals/joblib/pool.py\", line 360, in get\n",
      "  File \"/usr/lib/python2.7/multiprocessing/pool.py\", line 102, in worker\n",
      "  File \"/home/juan/mfixman/venv/local/lib/python2.7/site-packages/sklearn/externals/joblib/pool.py\", line 360, in get\n",
      "    task = get()\n",
      "    task = get()\n",
      "    task = get()\n",
      "    task = get()\n",
      "    task = get()\n",
      "  File \"/home/juan/mfixman/venv/local/lib/python2.7/site-packages/sklearn/externals/joblib/pool.py\", line 360, in get\n",
      "  File \"/home/juan/mfixman/venv/local/lib/python2.7/site-packages/sklearn/externals/joblib/pool.py\", line 360, in get\n",
      "  File \"/home/juan/mfixman/venv/local/lib/python2.7/site-packages/sklearn/externals/joblib/pool.py\", line 360, in get\n",
      "  File \"/home/juan/mfixman/venv/local/lib/python2.7/site-packages/sklearn/externals/joblib/pool.py\", line 360, in get\n",
      "  File \"/home/juan/mfixman/venv/local/lib/python2.7/site-packages/sklearn/externals/joblib/pool.py\", line 360, in get\n",
      "  File \"/home/juan/mfixman/venv/local/lib/python2.7/site-packages/sklearn/externals/joblib/pool.py\", line 360, in get\n",
      "    task = get()\n",
      "    task = get()\n",
      "  File \"/home/juan/mfixman/venv/local/lib/python2.7/site-packages/sklearn/externals/joblib/pool.py\", line 360, in get\n",
      "  File \"/home/juan/mfixman/venv/local/lib/python2.7/site-packages/sklearn/externals/joblib/pool.py\", line 360, in get\n",
      "  File \"/home/juan/mfixman/venv/local/lib/python2.7/site-packages/sklearn/externals/joblib/pool.py\", line 362, in get\n",
      "  File \"/home/juan/mfixman/venv/local/lib/python2.7/site-packages/sklearn/externals/joblib/pool.py\", line 360, in get\n",
      "  File \"/home/juan/mfixman/venv/local/lib/python2.7/site-packages/sklearn/externals/joblib/pool.py\", line 360, in get\n",
      "  File \"/home/juan/mfixman/venv/local/lib/python2.7/site-packages/sklearn/externals/joblib/pool.py\", line 360, in get\n",
      "  File \"/home/juan/mfixman/venv/local/lib/python2.7/site-packages/sklearn/externals/joblib/pool.py\", line 360, in get\n",
      "    task = get()\n",
      "  File \"/home/juan/mfixman/venv/local/lib/python2.7/site-packages/sklearn/externals/joblib/pool.py\", line 360, in get\n",
      "    racquire()\n",
      "    racquire()\n",
      "    racquire()\n",
      "    racquire()\n",
      "    racquire()\n",
      "    racquire()\n",
      "    racquire()\n",
      "    racquire()\n",
      "KeyboardInterrupt\n",
      "    racquire()\n",
      "    racquire()\n",
      "KeyboardInterrupt\n",
      "    racquire()\n",
      "KeyboardInterrupt\n",
      "    racquire()\n",
      "    return recv()\n",
      "    racquire()\n",
      "KeyboardInterrupt\n",
      "    racquire()\n",
      "    racquire()\n",
      "KeyboardInterrupt\n",
      "KeyboardInterrupt\n",
      "KeyboardInterrupt\n",
      "KeyboardInterrupt\n",
      "KeyboardInterrupt\n",
      "KeyboardInterrupt\n",
      "KeyboardInterrupt\n",
      "KeyboardInterrupt\n",
      "KeyboardInterrupt\n",
      "KeyboardInterrupt\n",
      "KeyboardInterrupt\n"
     ]
    },
    {
     "name": "stderr",
     "output_type": "stream",
     "text": [
      "KeyboardInterrupt\n"
     ]
    }
   ],
   "source": [
    "%%time\n",
    "train_scores, test_scores = validation_curve(\n",
    "    LogisticRegression(solver = 'lbfgs', \n",
    "                       max_iter = 100,\n",
    "                      warm_start=True),\n",
    "    X, Y, \n",
    "    param_name=\"C\", \n",
    "    param_range=param_range,\n",
    "    cv=5, \n",
    "    scoring=\"f1\", \n",
    "    n_jobs=-1)"
   ]
  },
  {
   "cell_type": "code",
   "execution_count": null,
   "metadata": {
    "collapsed": true
   },
   "outputs": [],
   "source": [
    "train_scores_mean = np.mean(train_scores, axis=1)\n",
    "train_scores_std = np.std(train_scores, axis=1)\n",
    "test_scores_mean = np.mean(test_scores, axis=1)\n",
    "test_scores_std = np.std(test_scores, axis=1)"
   ]
  },
  {
   "cell_type": "code",
   "execution_count": null,
   "metadata": {
    "collapsed": true
   },
   "outputs": [],
   "source": [
    "plt.title(\"Validation Curve with Logistic Regression Classifier\")\n",
    "plt.xlabel(\"$Param$\")\n",
    "plt.ylabel(\" Score\")\n",
    "# plt.ylim(0.0, 10.1)\n",
    "\n",
    "lw = 1\n",
    "\n",
    "plt.semilogx(param_range, train_scores_mean, label=\"Training score with std-dev band\",\n",
    "             color=\"navy\", lw=lw)\n",
    "\n",
    "plt.fill_between(param_range, train_scores_mean - train_scores_std,\n",
    "                 train_scores_mean + train_scores_std, alpha=0.2,\n",
    "                 color=\"blue\", lw=lw)\n",
    "\n",
    "plt.semilogx(param_range, test_scores_mean, label=\"Cross-validation score avg\",\n",
    "             color=\"darkorange\", lw=lw)\n",
    "\n",
    "# plt.fill_between(param_range, test_scores_mean - test_scores_std,\n",
    "#                  test_scores_mean + test_scores_std, alpha=0.2,\n",
    "#                  color=\"red\", lw=lw)\n",
    "\n",
    "plt.legend(loc=\"best\")\n"
   ]
  },
  {
   "cell_type": "code",
   "execution_count": null,
   "metadata": {
    "collapsed": true
   },
   "outputs": [],
   "source": [
    "finished = True\n",
    "finished"
   ]
  },
  {
   "cell_type": "code",
   "execution_count": null,
   "metadata": {
    "collapsed": true
   },
   "outputs": [],
   "source": []
  },
  {
   "cell_type": "markdown",
   "metadata": {},
   "source": [
    "## Logistic Regression cross validation\n",
    "\n",
    "show an example of using regularization vs. non-regularizing"
   ]
  },
  {
   "cell_type": "code",
   "execution_count": 133,
   "metadata": {
    "collapsed": true
   },
   "outputs": [],
   "source": [
    "param_grid = {\n",
    "        'penalty': [\n",
    "                    'l1',\n",
    "                    'l2',\n",
    "        ], # type of regularization function norm\n",
    "            'C': [\n",
    "                10,\n",
    "                5,\n",
    "                1,\n",
    "                1e-1,\n",
    "                1e-2,\n",
    "            ], # the regularization param, the smaller the more regulareized\n",
    "            'max_iter': [\n",
    "                        40,\n",
    "                        100,\n",
    "                        200,\n",
    "                        ], # number of descent iterations\n",
    "    \n",
    "            \"fit_intercept\": [ \n",
    "                        False, \n",
    "                        True,\n",
    "                            ],# fit the constante intercept\n",
    "            \n",
    "               \"class_weight\": [\n",
    "                               None,\n",
    "                            'balanced',\n",
    "                           ],# if class ratios are as weighted averge when computing the overall loss fn\n",
    "              }\n"
   ]
  },
  {
   "cell_type": "code",
   "execution_count": 134,
   "metadata": {},
   "outputs": [
    {
     "data": {
      "text/plain": [
       "120"
      ]
     },
     "execution_count": 134,
     "metadata": {},
     "output_type": "execute_result"
    }
   ],
   "source": [
    "cardinality  = 1\n",
    "for key in param_grid.keys():\n",
    "    cardinality = cardinality*len(param_grid[key])\n",
    "cardinality\n"
   ]
  },
  {
   "cell_type": "code",
   "execution_count": 135,
   "metadata": {
    "collapsed": true
   },
   "outputs": [],
   "source": [
    "lr_no_regularization = True\n",
    "if lr_no_regularization:\n",
    "    param_grid['C'] = [1e5]\n",
    "    param_grid['penalty'] = ['l2']"
   ]
  },
  {
   "cell_type": "code",
   "execution_count": 137,
   "metadata": {
    "scrolled": true
   },
   "outputs": [
    {
     "name": "stdout",
     "output_type": "stream",
     "text": [
      "Fitting 3 folds for each of 100 candidates, totalling 300 fits\n"
     ]
    },
    {
     "ename": "ValueError",
     "evalue": "The total space of parameters 12 is smaller than n_iter=100. For exhaustive searches, use GridSearchCV.",
     "output_type": "error",
     "traceback": [
      "\u001b[0;31m---------------------------------------------------------------------------\u001b[0m",
      "\u001b[0;31mValueError\u001b[0m                                Traceback (most recent call last)",
      "\u001b[0;32m<ipython-input-137-56ba90eee4a9>\u001b[0m in \u001b[0;36m<module>\u001b[0;34m()\u001b[0m\n\u001b[0;32m----> 1\u001b[0;31m \u001b[0mget_ipython\u001b[0m\u001b[0;34m(\u001b[0m\u001b[0;34m)\u001b[0m\u001b[0;34m.\u001b[0m\u001b[0mrun_cell_magic\u001b[0m\u001b[0;34m(\u001b[0m\u001b[0;34mu'time'\u001b[0m\u001b[0;34m,\u001b[0m \u001b[0;34mu''\u001b[0m\u001b[0;34m,\u001b[0m \u001b[0;34mu\"\\nstart_time = time.time()\\n\\nnum_jobs = -1\\n# if the training table is too big, fit with a smaller number of CPUs. This in turn\\n# will take a smaller memory footprint as the dataset's memory won't be replicated for each\\n# training job\\nif X.shape[0]>1.5*1e6: num_jobs = 5\\n\\nlogreg  = LogisticRegression( )\\n\\nclf =GridSearchCV( logreg, \\n                  param_grid, \\n                  scoring='roc_auc', \\n                  fit_params=None,\\n                  n_jobs=num_jobs, \\n                  iid=True, \\n                  refit=True, \\n                verbose=0, \\n                pre_dispatch='2*n_jobs', \\n                  error_score='ignore')\\n\\nclf2 = LogisticRegression()\\n\\n\\n# when cardinality of grid search is too big, we randomly search for\\nn_iter_search = 100\\n\\nif n_iter_search < cardinality:\\n    clf = RandomizedSearchCV(logreg, param_distributions=param_grid,\\n                                 n_iter=n_iter_search, n_jobs = num_jobs, verbose=3,\\n                                       iid=True, refit=True, )\\n\\n# X = X\\n# Y = Y.values\\n\\nclf.fit(X,Y)\\n\\nelapsed_time =   time.time() - start_time \\nprint('HyperParam Search took %s seconds to run' % (elapsed_time))\\n\\n\\ncv_result = pd.DataFrame(columns=['mean_score' ] + [key for key, \\n                            value in clf.grid_scores_[0].parameters.items() ] )\\ni=0\\nfor setup in clf.grid_scores_:\\n    row = [clf.grid_scores_[i].mean_validation_score ] + [value for key,\\n                                        value in clf.grid_scores_[i].parameters.items() ]\\n    cv_result.loc[i] = row\\n    i+=1\\n\\n\\n#este flag es basicamente para chequear que hayamos terminado nomas\\nfinished = True\\n\\nprint('\\\\n Best estimator was %s \\\\n' % str(clf.best_estimator_))\\n\\nprint('\\\\n Best estimator was %s \\\\n' % str(clf.best_score_))\\n\\nclf2.set_params(n_jobs = -1,**clf.best_params_)\\nclf2.fit(X,Y)\\n\\nelapsed_time =   time.time() - start_time\\nprint('Last Fit took %s seconds to run' % (elapsed_time))\\n\\n#ojo que esta parte cuando poly ==True no funciona..\"\u001b[0m\u001b[0;34m)\u001b[0m\u001b[0;34m\u001b[0m\u001b[0m\n\u001b[0m",
      "\u001b[0;32m/home/juan/mfixman/venv/local/lib/python2.7/site-packages/IPython/core/interactiveshell.pyc\u001b[0m in \u001b[0;36mrun_cell_magic\u001b[0;34m(self, magic_name, line, cell)\u001b[0m\n\u001b[1;32m   2113\u001b[0m             \u001b[0mmagic_arg_s\u001b[0m \u001b[0;34m=\u001b[0m \u001b[0mself\u001b[0m\u001b[0;34m.\u001b[0m\u001b[0mvar_expand\u001b[0m\u001b[0;34m(\u001b[0m\u001b[0mline\u001b[0m\u001b[0;34m,\u001b[0m \u001b[0mstack_depth\u001b[0m\u001b[0;34m)\u001b[0m\u001b[0;34m\u001b[0m\u001b[0m\n\u001b[1;32m   2114\u001b[0m             \u001b[0;32mwith\u001b[0m \u001b[0mself\u001b[0m\u001b[0;34m.\u001b[0m\u001b[0mbuiltin_trap\u001b[0m\u001b[0;34m:\u001b[0m\u001b[0;34m\u001b[0m\u001b[0m\n\u001b[0;32m-> 2115\u001b[0;31m                 \u001b[0mresult\u001b[0m \u001b[0;34m=\u001b[0m \u001b[0mfn\u001b[0m\u001b[0;34m(\u001b[0m\u001b[0mmagic_arg_s\u001b[0m\u001b[0;34m,\u001b[0m \u001b[0mcell\u001b[0m\u001b[0;34m)\u001b[0m\u001b[0;34m\u001b[0m\u001b[0m\n\u001b[0m\u001b[1;32m   2116\u001b[0m             \u001b[0;32mreturn\u001b[0m \u001b[0mresult\u001b[0m\u001b[0;34m\u001b[0m\u001b[0m\n\u001b[1;32m   2117\u001b[0m \u001b[0;34m\u001b[0m\u001b[0m\n",
      "\u001b[0;32m<decorator-gen-59>\u001b[0m in \u001b[0;36mtime\u001b[0;34m(self, line, cell, local_ns)\u001b[0m\n",
      "\u001b[0;32m/home/juan/mfixman/venv/local/lib/python2.7/site-packages/IPython/core/magic.pyc\u001b[0m in \u001b[0;36m<lambda>\u001b[0;34m(f, *a, **k)\u001b[0m\n\u001b[1;32m    186\u001b[0m     \u001b[0;31m# but it's overkill for just that one bit of state.\u001b[0m\u001b[0;34m\u001b[0m\u001b[0;34m\u001b[0m\u001b[0m\n\u001b[1;32m    187\u001b[0m     \u001b[0;32mdef\u001b[0m \u001b[0mmagic_deco\u001b[0m\u001b[0;34m(\u001b[0m\u001b[0marg\u001b[0m\u001b[0;34m)\u001b[0m\u001b[0;34m:\u001b[0m\u001b[0;34m\u001b[0m\u001b[0m\n\u001b[0;32m--> 188\u001b[0;31m         \u001b[0mcall\u001b[0m \u001b[0;34m=\u001b[0m \u001b[0;32mlambda\u001b[0m \u001b[0mf\u001b[0m\u001b[0;34m,\u001b[0m \u001b[0;34m*\u001b[0m\u001b[0ma\u001b[0m\u001b[0;34m,\u001b[0m \u001b[0;34m**\u001b[0m\u001b[0mk\u001b[0m\u001b[0;34m:\u001b[0m \u001b[0mf\u001b[0m\u001b[0;34m(\u001b[0m\u001b[0;34m*\u001b[0m\u001b[0ma\u001b[0m\u001b[0;34m,\u001b[0m \u001b[0;34m**\u001b[0m\u001b[0mk\u001b[0m\u001b[0;34m)\u001b[0m\u001b[0;34m\u001b[0m\u001b[0m\n\u001b[0m\u001b[1;32m    189\u001b[0m \u001b[0;34m\u001b[0m\u001b[0m\n\u001b[1;32m    190\u001b[0m         \u001b[0;32mif\u001b[0m \u001b[0mcallable\u001b[0m\u001b[0;34m(\u001b[0m\u001b[0marg\u001b[0m\u001b[0;34m)\u001b[0m\u001b[0;34m:\u001b[0m\u001b[0;34m\u001b[0m\u001b[0m\n",
      "\u001b[0;32m/home/juan/mfixman/venv/local/lib/python2.7/site-packages/IPython/core/magics/execution.pyc\u001b[0m in \u001b[0;36mtime\u001b[0;34m(self, line, cell, local_ns)\u001b[0m\n\u001b[1;32m   1183\u001b[0m         \u001b[0;32melse\u001b[0m\u001b[0;34m:\u001b[0m\u001b[0;34m\u001b[0m\u001b[0m\n\u001b[1;32m   1184\u001b[0m             \u001b[0mst\u001b[0m \u001b[0;34m=\u001b[0m \u001b[0mclock2\u001b[0m\u001b[0;34m(\u001b[0m\u001b[0;34m)\u001b[0m\u001b[0;34m\u001b[0m\u001b[0m\n\u001b[0;32m-> 1185\u001b[0;31m             \u001b[0;32mexec\u001b[0m\u001b[0;34m(\u001b[0m\u001b[0mcode\u001b[0m\u001b[0;34m,\u001b[0m \u001b[0mglob\u001b[0m\u001b[0;34m,\u001b[0m \u001b[0mlocal_ns\u001b[0m\u001b[0;34m)\u001b[0m\u001b[0;34m\u001b[0m\u001b[0m\n\u001b[0m\u001b[1;32m   1186\u001b[0m             \u001b[0mend\u001b[0m \u001b[0;34m=\u001b[0m \u001b[0mclock2\u001b[0m\u001b[0;34m(\u001b[0m\u001b[0;34m)\u001b[0m\u001b[0;34m\u001b[0m\u001b[0m\n\u001b[1;32m   1187\u001b[0m             \u001b[0mout\u001b[0m \u001b[0;34m=\u001b[0m \u001b[0mNone\u001b[0m\u001b[0;34m\u001b[0m\u001b[0m\n",
      "\u001b[0;32m<timed exec>\u001b[0m in \u001b[0;36m<module>\u001b[0;34m()\u001b[0m\n",
      "\u001b[0;32m/home/juan/mfixman/venv/local/lib/python2.7/site-packages/sklearn/grid_search.pyc\u001b[0m in \u001b[0;36mfit\u001b[0;34m(self, X, y)\u001b[0m\n\u001b[1;32m   1023\u001b[0m                                           \u001b[0mself\u001b[0m\u001b[0;34m.\u001b[0m\u001b[0mn_iter\u001b[0m\u001b[0;34m,\u001b[0m\u001b[0;34m\u001b[0m\u001b[0m\n\u001b[1;32m   1024\u001b[0m                                           random_state=self.random_state)\n\u001b[0;32m-> 1025\u001b[0;31m         \u001b[0;32mreturn\u001b[0m \u001b[0mself\u001b[0m\u001b[0;34m.\u001b[0m\u001b[0m_fit\u001b[0m\u001b[0;34m(\u001b[0m\u001b[0mX\u001b[0m\u001b[0;34m,\u001b[0m \u001b[0my\u001b[0m\u001b[0;34m,\u001b[0m \u001b[0msampled_params\u001b[0m\u001b[0;34m)\u001b[0m\u001b[0;34m\u001b[0m\u001b[0m\n\u001b[0m",
      "\u001b[0;32m/home/juan/mfixman/venv/local/lib/python2.7/site-packages/sklearn/grid_search.pyc\u001b[0m in \u001b[0;36m_fit\u001b[0;34m(self, X, y, parameter_iterable)\u001b[0m\n\u001b[1;32m    571\u001b[0m                                     \u001b[0mself\u001b[0m\u001b[0;34m.\u001b[0m\u001b[0mfit_params\u001b[0m\u001b[0;34m,\u001b[0m \u001b[0mreturn_parameters\u001b[0m\u001b[0;34m=\u001b[0m\u001b[0mTrue\u001b[0m\u001b[0;34m,\u001b[0m\u001b[0;34m\u001b[0m\u001b[0m\n\u001b[1;32m    572\u001b[0m                                     error_score=self.error_score)\n\u001b[0;32m--> 573\u001b[0;31m                 \u001b[0;32mfor\u001b[0m \u001b[0mparameters\u001b[0m \u001b[0;32min\u001b[0m \u001b[0mparameter_iterable\u001b[0m\u001b[0;34m\u001b[0m\u001b[0m\n\u001b[0m\u001b[1;32m    574\u001b[0m                 for train, test in cv)\n\u001b[1;32m    575\u001b[0m \u001b[0;34m\u001b[0m\u001b[0m\n",
      "\u001b[0;32m/home/juan/mfixman/venv/local/lib/python2.7/site-packages/sklearn/externals/joblib/parallel.pyc\u001b[0m in \u001b[0;36m__call__\u001b[0;34m(self, iterable)\u001b[0m\n\u001b[1;32m    756\u001b[0m             \u001b[0;31m# was dispatched. In particular this covers the edge\u001b[0m\u001b[0;34m\u001b[0m\u001b[0;34m\u001b[0m\u001b[0m\n\u001b[1;32m    757\u001b[0m             \u001b[0;31m# case of Parallel used with an exhausted iterator.\u001b[0m\u001b[0;34m\u001b[0m\u001b[0;34m\u001b[0m\u001b[0m\n\u001b[0;32m--> 758\u001b[0;31m             \u001b[0;32mwhile\u001b[0m \u001b[0mself\u001b[0m\u001b[0;34m.\u001b[0m\u001b[0mdispatch_one_batch\u001b[0m\u001b[0;34m(\u001b[0m\u001b[0miterator\u001b[0m\u001b[0;34m)\u001b[0m\u001b[0;34m:\u001b[0m\u001b[0;34m\u001b[0m\u001b[0m\n\u001b[0m\u001b[1;32m    759\u001b[0m                 \u001b[0mself\u001b[0m\u001b[0;34m.\u001b[0m\u001b[0m_iterating\u001b[0m \u001b[0;34m=\u001b[0m \u001b[0mTrue\u001b[0m\u001b[0;34m\u001b[0m\u001b[0m\n\u001b[1;32m    760\u001b[0m             \u001b[0;32melse\u001b[0m\u001b[0;34m:\u001b[0m\u001b[0;34m\u001b[0m\u001b[0m\n",
      "\u001b[0;32m/home/juan/mfixman/venv/local/lib/python2.7/site-packages/sklearn/externals/joblib/parallel.pyc\u001b[0m in \u001b[0;36mdispatch_one_batch\u001b[0;34m(self, iterator)\u001b[0m\n\u001b[1;32m    601\u001b[0m \u001b[0;34m\u001b[0m\u001b[0m\n\u001b[1;32m    602\u001b[0m         \u001b[0;32mwith\u001b[0m \u001b[0mself\u001b[0m\u001b[0;34m.\u001b[0m\u001b[0m_lock\u001b[0m\u001b[0;34m:\u001b[0m\u001b[0;34m\u001b[0m\u001b[0m\n\u001b[0;32m--> 603\u001b[0;31m             \u001b[0mtasks\u001b[0m \u001b[0;34m=\u001b[0m \u001b[0mBatchedCalls\u001b[0m\u001b[0;34m(\u001b[0m\u001b[0mitertools\u001b[0m\u001b[0;34m.\u001b[0m\u001b[0mislice\u001b[0m\u001b[0;34m(\u001b[0m\u001b[0miterator\u001b[0m\u001b[0;34m,\u001b[0m \u001b[0mbatch_size\u001b[0m\u001b[0;34m)\u001b[0m\u001b[0;34m)\u001b[0m\u001b[0;34m\u001b[0m\u001b[0m\n\u001b[0m\u001b[1;32m    604\u001b[0m             \u001b[0;32mif\u001b[0m \u001b[0mlen\u001b[0m\u001b[0;34m(\u001b[0m\u001b[0mtasks\u001b[0m\u001b[0;34m)\u001b[0m \u001b[0;34m==\u001b[0m \u001b[0;36m0\u001b[0m\u001b[0;34m:\u001b[0m\u001b[0;34m\u001b[0m\u001b[0m\n\u001b[1;32m    605\u001b[0m                 \u001b[0;31m# No more tasks available in the iterator: tell caller to stop.\u001b[0m\u001b[0;34m\u001b[0m\u001b[0;34m\u001b[0m\u001b[0m\n",
      "\u001b[0;32m/home/juan/mfixman/venv/local/lib/python2.7/site-packages/sklearn/externals/joblib/parallel.pyc\u001b[0m in \u001b[0;36m__init__\u001b[0;34m(self, iterator_slice)\u001b[0m\n\u001b[1;32m    125\u001b[0m \u001b[0;34m\u001b[0m\u001b[0m\n\u001b[1;32m    126\u001b[0m     \u001b[0;32mdef\u001b[0m \u001b[0m__init__\u001b[0m\u001b[0;34m(\u001b[0m\u001b[0mself\u001b[0m\u001b[0;34m,\u001b[0m \u001b[0miterator_slice\u001b[0m\u001b[0;34m)\u001b[0m\u001b[0;34m:\u001b[0m\u001b[0;34m\u001b[0m\u001b[0m\n\u001b[0;32m--> 127\u001b[0;31m         \u001b[0mself\u001b[0m\u001b[0;34m.\u001b[0m\u001b[0mitems\u001b[0m \u001b[0;34m=\u001b[0m \u001b[0mlist\u001b[0m\u001b[0;34m(\u001b[0m\u001b[0miterator_slice\u001b[0m\u001b[0;34m)\u001b[0m\u001b[0;34m\u001b[0m\u001b[0m\n\u001b[0m\u001b[1;32m    128\u001b[0m         \u001b[0mself\u001b[0m\u001b[0;34m.\u001b[0m\u001b[0m_size\u001b[0m \u001b[0;34m=\u001b[0m \u001b[0mlen\u001b[0m\u001b[0;34m(\u001b[0m\u001b[0mself\u001b[0m\u001b[0;34m.\u001b[0m\u001b[0mitems\u001b[0m\u001b[0;34m)\u001b[0m\u001b[0;34m\u001b[0m\u001b[0m\n\u001b[1;32m    129\u001b[0m \u001b[0;34m\u001b[0m\u001b[0m\n",
      "\u001b[0;32m/home/juan/mfixman/venv/local/lib/python2.7/site-packages/sklearn/grid_search.pyc\u001b[0m in \u001b[0;36m<genexpr>\u001b[0;34m(***failed resolving arguments***)\u001b[0m\n\u001b[1;32m    567\u001b[0m             \u001b[0mpre_dispatch\u001b[0m\u001b[0;34m=\u001b[0m\u001b[0mpre_dispatch\u001b[0m\u001b[0;34m\u001b[0m\u001b[0m\n\u001b[1;32m    568\u001b[0m         \u001b[0;34m)\u001b[0m\u001b[0;34m(\u001b[0m\u001b[0;34m\u001b[0m\u001b[0m\n\u001b[0;32m--> 569\u001b[0;31m             delayed(_fit_and_score)(clone(base_estimator), X, y, self.scorer_,\n\u001b[0m\u001b[1;32m    570\u001b[0m                                     \u001b[0mtrain\u001b[0m\u001b[0;34m,\u001b[0m \u001b[0mtest\u001b[0m\u001b[0;34m,\u001b[0m \u001b[0mself\u001b[0m\u001b[0;34m.\u001b[0m\u001b[0mverbose\u001b[0m\u001b[0;34m,\u001b[0m \u001b[0mparameters\u001b[0m\u001b[0;34m,\u001b[0m\u001b[0;34m\u001b[0m\u001b[0m\n\u001b[1;32m    571\u001b[0m                                     \u001b[0mself\u001b[0m\u001b[0;34m.\u001b[0m\u001b[0mfit_params\u001b[0m\u001b[0;34m,\u001b[0m \u001b[0mreturn_parameters\u001b[0m\u001b[0;34m=\u001b[0m\u001b[0mTrue\u001b[0m\u001b[0;34m,\u001b[0m\u001b[0;34m\u001b[0m\u001b[0m\n",
      "\u001b[0;32m/home/juan/mfixman/venv/local/lib/python2.7/site-packages/sklearn/grid_search.pyc\u001b[0m in \u001b[0;36m__iter__\u001b[0;34m(self)\u001b[0m\n\u001b[1;32m    248\u001b[0m                     \u001b[0;34m\"The total space of parameters %d is smaller \"\u001b[0m\u001b[0;34m\u001b[0m\u001b[0m\n\u001b[1;32m    249\u001b[0m                     \u001b[0;34m\"than n_iter=%d.\"\u001b[0m \u001b[0;34m%\u001b[0m \u001b[0;34m(\u001b[0m\u001b[0mgrid_size\u001b[0m\u001b[0;34m,\u001b[0m \u001b[0mself\u001b[0m\u001b[0;34m.\u001b[0m\u001b[0mn_iter\u001b[0m\u001b[0;34m)\u001b[0m\u001b[0;34m\u001b[0m\u001b[0m\n\u001b[0;32m--> 250\u001b[0;31m                     + \" For exhaustive searches, use GridSearchCV.\")\n\u001b[0m\u001b[1;32m    251\u001b[0m             for i in sample_without_replacement(grid_size, self.n_iter,\n\u001b[1;32m    252\u001b[0m                                                 random_state=rnd):\n",
      "\u001b[0;31mValueError\u001b[0m: The total space of parameters 12 is smaller than n_iter=100. For exhaustive searches, use GridSearchCV."
     ]
    }
   ],
   "source": [
    "%%time\n",
    "\n",
    "start_time = time.time()\n",
    "\n",
    "num_jobs = -1\n",
    "# if the training table is too big, fit with a smaller number of CPUs. This in turn\n",
    "# will take a smaller memory footprint as the dataset's memory won't be replicated for each\n",
    "# training job\n",
    "if X.shape[0]>1.5*1e6: num_jobs = 5\n",
    "\n",
    "logreg  = LogisticRegression( )\n",
    "\n",
    "clf =GridSearchCV( logreg, \n",
    "                  param_grid, \n",
    "                  scoring='roc_auc', \n",
    "                  fit_params=None,\n",
    "                  n_jobs=num_jobs, \n",
    "                  iid=True, \n",
    "                  refit=True, \n",
    "                verbose=0, \n",
    "                pre_dispatch='2*n_jobs', \n",
    "                  error_score='ignore')\n",
    "\n",
    "clf2 = LogisticRegression()\n",
    "\n",
    "\n",
    "# when cardinality of grid search is too big, we randomly search for\n",
    "n_iter_search = 100\n",
    "\n",
    "if n_iter_search < cardinality:\n",
    "    clf = RandomizedSearchCV(logreg, param_distributions=param_grid,\n",
    "                                 n_iter=n_iter_search, n_jobs = num_jobs, verbose=3,\n",
    "                                       iid=True, refit=True, )\n",
    "\n",
    "# X = X\n",
    "# Y = Y.values\n",
    "\n",
    "clf.fit(X,Y)\n",
    "\n",
    "elapsed_time =   time.time() - start_time \n",
    "print('HyperParam Search took %s seconds to run' % (elapsed_time))\n",
    "\n",
    "\n",
    "cv_result = pd.DataFrame(columns=['mean_score' ] + [key for key, \n",
    "                            value in clf.grid_scores_[0].parameters.items() ] )\n",
    "i=0\n",
    "for setup in clf.grid_scores_:\n",
    "    row = [clf.grid_scores_[i].mean_validation_score ] + [value for key,\n",
    "                                        value in clf.grid_scores_[i].parameters.items() ]\n",
    "    cv_result.loc[i] = row\n",
    "    i+=1\n",
    "\n",
    "\n",
    "#este flag es basicamente para chequear que hayamos terminado nomas\n",
    "finished = True\n",
    "\n",
    "print('\\n Best estimator was %s \\n' % str(clf.best_estimator_))\n",
    "\n",
    "print('\\n Best estimator was %s \\n' % str(clf.best_score_))\n",
    "\n",
    "clf2.set_params(n_jobs = -1,**clf.best_params_)\n",
    "clf2.fit(X,Y)\n",
    "\n",
    "elapsed_time =   time.time() - start_time\n",
    "print('Last Fit took %s seconds to run' % (elapsed_time))\n",
    "\n",
    "#ojo que esta parte cuando poly ==True no funciona.."
   ]
  },
  {
   "cell_type": "code",
   "execution_count": null,
   "metadata": {
    "collapsed": true
   },
   "outputs": [],
   "source": [
    "best_params"
   ]
  },
  {
   "cell_type": "code",
   "execution_count": null,
   "metadata": {
    "collapsed": true
   },
   "outputs": [],
   "source": []
  },
  {
   "cell_type": "code",
   "execution_count": null,
   "metadata": {
    "collapsed": true
   },
   "outputs": [],
   "source": []
  },
  {
   "cell_type": "code",
   "execution_count": null,
   "metadata": {
    "collapsed": true
   },
   "outputs": [],
   "source": []
  },
  {
   "cell_type": "markdown",
   "metadata": {},
   "source": [
    "# REST of shit"
   ]
  },
  {
   "cell_type": "markdown",
   "metadata": {},
   "source": [
    "### Count Featurizer on Antennas\n",
    "nos quedamos con las columnas de antennas y en graphlab aplicamos el algo de CountFeaturizer para cada categoria de\n",
    "Antenna_ID_N\n"
   ]
  },
  {
   "cell_type": "code",
   "execution_count": null,
   "metadata": {
    "collapsed": true
   },
   "outputs": [],
   "source": [
    "%%time\n",
    "import graphlab as gl\n",
    "from graphlab.toolkits.feature_engineering import *\n",
    "ant_cols = [col for col in X_train.columns if \"ANTENNA_ID\" in col]\n",
    "ant_sframe_fit = gl.SFrame(X_fit[ant_cols + ['y']])\n",
    "ant_sframe_train = gl.SFrame(X_train[ant_cols + ['y']])\n",
    "ant_sframe_val = gl.SFrame(X_val[ant_cols + ['y']])"
   ]
  },
  {
   "cell_type": "code",
   "execution_count": null,
   "metadata": {
    "collapsed": true
   },
   "outputs": [],
   "source": [
    "%%time\n",
    "countfeat = gl.feature_engineering.create(ant_sframe_fit, \n",
    "               CountFeaturizer(target='y'))\n",
    "\n",
    "# Transform the train set. This is the dataset I will train my classifier on\n",
    "transformed_ant_train = countfeat.transform(ant_sframe_train)\n",
    "transformed_ant_val = countfeat.transform(ant_sframe_val)\n",
    "\n",
    "del ant_sframe_fit,ant_sframe_train,ant_sframe_val\n",
    "\n",
    "#por alguna razon guarda los valores de probabilidad como una lista de un unico valor\n",
    "for col in [col for col in transformed_ant_train.column_names() if \"prob_\" in col]:\n",
    "    transformed_ant_train[col] = transformed_ant_train[col].apply(lambda x: x[0]) \n",
    "    transformed_ant_val[col] = transformed_ant_val[col].apply(lambda x: x[0]) \n",
    "\n",
    "#me quedo solo con los valores de probabilidad.\n",
    "transformed_ant_train = transformed_ant_train[[col for col in transformed_ant_train.column_names() if \"prob_\" in col]]\n",
    "transformed_ant_val = transformed_ant_val[[col for col in transformed_ant_train.column_names() if \"prob_\" in col]]\n",
    "\n",
    "transformed_ant_val = transformed_ant_val.to_dataframe()\n",
    "transformed_ant_train = transformed_ant_train.to_dataframe()"
   ]
  },
  {
   "cell_type": "code",
   "execution_count": null,
   "metadata": {
    "collapsed": true
   },
   "outputs": [],
   "source": [
    "X_val[ant_cols] = transformed_ant_val.values\n",
    "X_train[ant_cols] = transformed_ant_train.values\n",
    "del transformed_ant_train, transformed_ant_val"
   ]
  },
  {
   "cell_type": "markdown",
   "metadata": {},
   "source": [
    "### Cross Validate SGD"
   ]
  },
  {
   "cell_type": "code",
   "execution_count": null,
   "metadata": {
    "collapsed": true
   },
   "outputs": [],
   "source": [
    "param_grid = [\n",
    "  { 'alpha': [1e-3,5*1e-3,1e-2], 'l1_ratio': [3*1e-2,1e-3,6*1e-4], 'n_iter': [2,3]\n",
    "  }\n",
    "    ]"
   ]
  },
  {
   "cell_type": "code",
   "execution_count": 37,
   "metadata": {
    "scrolled": true
   },
   "outputs": [
    {
     "name": "stdout",
     "output_type": "stream",
     "text": [
      "Fitting 3 folds for each of 18 candidates, totalling 54 fits\n"
     ]
    },
    {
     "name": "stderr",
     "output_type": "stream",
     "text": [
      "/home/ubuntu/Virtualenvs/mateo/lib/python3.4/site-packages/sklearn/externals/joblib/hashing.py:197: DeprecationWarning: Changing the shape of non-C contiguous array by\n",
      "descriptor assignment is deprecated. To maintain\n",
      "the Fortran contiguity of a multidimensional Fortran\n",
      "array, use 'a.T.view(...).T' instead\n",
      "  obj_bytes_view = obj.view(self.np.uint8)\n"
     ]
    },
    {
     "name": "stdout",
     "output_type": "stream",
     "text": [
      "[CV] n_iter=2, alpha=0.001, l1_ratio=0.03 ............................\n"
     ]
    },
    {
     "name": "stderr",
     "output_type": "stream",
     "text": [
      "/home/ubuntu/Virtualenvs/mateo/lib/python3.4/site-packages/sklearn/externals/joblib/hashing.py:197: DeprecationWarning: Changing the shape of non-C contiguous array by\n",
      "descriptor assignment is deprecated. To maintain\n",
      "the Fortran contiguity of a multidimensional Fortran\n",
      "array, use 'a.T.view(...).T' instead\n",
      "  obj_bytes_view = obj.view(self.np.uint8)\n"
     ]
    },
    {
     "name": "stdout",
     "output_type": "stream",
     "text": [
      "[CV] n_iter=2, alpha=0.001, l1_ratio=0.03 ............................\n"
     ]
    },
    {
     "name": "stderr",
     "output_type": "stream",
     "text": [
      "/home/ubuntu/Virtualenvs/mateo/lib/python3.4/site-packages/sklearn/externals/joblib/hashing.py:197: DeprecationWarning: Changing the shape of non-C contiguous array by\n",
      "descriptor assignment is deprecated. To maintain\n",
      "the Fortran contiguity of a multidimensional Fortran\n",
      "array, use 'a.T.view(...).T' instead\n",
      "  obj_bytes_view = obj.view(self.np.uint8)\n"
     ]
    },
    {
     "name": "stdout",
     "output_type": "stream",
     "text": [
      "[CV] ... n_iter=2, alpha=0.001, l1_ratio=0.03, score=0.125354 -   2.5s\n",
      "[CV] n_iter=2, alpha=0.001, l1_ratio=0.03 ............................\n"
     ]
    },
    {
     "name": "stderr",
     "output_type": "stream",
     "text": [
      "/home/ubuntu/Virtualenvs/mateo/lib/python3.4/site-packages/sklearn/externals/joblib/hashing.py:197: DeprecationWarning: Changing the shape of non-C contiguous array by\n",
      "descriptor assignment is deprecated. To maintain\n",
      "the Fortran contiguity of a multidimensional Fortran\n",
      "array, use 'a.T.view(...).T' instead\n",
      "  obj_bytes_view = obj.view(self.np.uint8)\n"
     ]
    },
    {
     "name": "stdout",
     "output_type": "stream",
     "text": [
      "[CV] ... n_iter=2, alpha=0.001, l1_ratio=0.03, score=0.127442 -   2.5s\n",
      "[CV] n_iter=3, alpha=0.001, l1_ratio=0.03 ............................\n"
     ]
    },
    {
     "name": "stderr",
     "output_type": "stream",
     "text": [
      "/home/ubuntu/Virtualenvs/mateo/lib/python3.4/site-packages/sklearn/externals/joblib/hashing.py:197: DeprecationWarning: Changing the shape of non-C contiguous array by\n",
      "descriptor assignment is deprecated. To maintain\n",
      "the Fortran contiguity of a multidimensional Fortran\n",
      "array, use 'a.T.view(...).T' instead\n",
      "  obj_bytes_view = obj.view(self.np.uint8)\n"
     ]
    },
    {
     "name": "stdout",
     "output_type": "stream",
     "text": [
      "[CV] ... n_iter=2, alpha=0.001, l1_ratio=0.03, score=0.119463 -   2.5s\n",
      "[CV] n_iter=3, alpha=0.001, l1_ratio=0.03 ............................\n"
     ]
    },
    {
     "name": "stderr",
     "output_type": "stream",
     "text": [
      "/home/ubuntu/Virtualenvs/mateo/lib/python3.4/site-packages/sklearn/externals/joblib/hashing.py:197: DeprecationWarning: Changing the shape of non-C contiguous array by\n",
      "descriptor assignment is deprecated. To maintain\n",
      "the Fortran contiguity of a multidimensional Fortran\n",
      "array, use 'a.T.view(...).T' instead\n",
      "  obj_bytes_view = obj.view(self.np.uint8)\n"
     ]
    },
    {
     "name": "stdout",
     "output_type": "stream",
     "text": [
      "[CV] ... n_iter=3, alpha=0.001, l1_ratio=0.03, score=0.132910 -   3.1s\n",
      "[CV] n_iter=3, alpha=0.001, l1_ratio=0.03 ............................\n"
     ]
    },
    {
     "name": "stderr",
     "output_type": "stream",
     "text": [
      "/home/ubuntu/Virtualenvs/mateo/lib/python3.4/site-packages/sklearn/externals/joblib/hashing.py:197: DeprecationWarning: Changing the shape of non-C contiguous array by\n",
      "descriptor assignment is deprecated. To maintain\n",
      "the Fortran contiguity of a multidimensional Fortran\n",
      "array, use 'a.T.view(...).T' instead\n",
      "  obj_bytes_view = obj.view(self.np.uint8)\n"
     ]
    },
    {
     "name": "stdout",
     "output_type": "stream",
     "text": [
      "[CV] ... n_iter=3, alpha=0.001, l1_ratio=0.03, score=0.133858 -   3.1s\n",
      "[CV] n_iter=2, alpha=0.001, l1_ratio=0.001 ...........................\n"
     ]
    },
    {
     "name": "stderr",
     "output_type": "stream",
     "text": [
      "/home/ubuntu/Virtualenvs/mateo/lib/python3.4/site-packages/sklearn/externals/joblib/hashing.py:197: DeprecationWarning: Changing the shape of non-C contiguous array by\n",
      "descriptor assignment is deprecated. To maintain\n",
      "the Fortran contiguity of a multidimensional Fortran\n",
      "array, use 'a.T.view(...).T' instead\n",
      "  obj_bytes_view = obj.view(self.np.uint8)\n"
     ]
    },
    {
     "name": "stdout",
     "output_type": "stream",
     "text": [
      "[CV] ... n_iter=3, alpha=0.001, l1_ratio=0.03, score=0.125862 -   3.1s\n",
      "[CV] n_iter=2, alpha=0.001, l1_ratio=0.001 ...........................\n"
     ]
    },
    {
     "name": "stderr",
     "output_type": "stream",
     "text": [
      "/home/ubuntu/Virtualenvs/mateo/lib/python3.4/site-packages/sklearn/externals/joblib/hashing.py:197: DeprecationWarning: Changing the shape of non-C contiguous array by\n",
      "descriptor assignment is deprecated. To maintain\n",
      "the Fortran contiguity of a multidimensional Fortran\n",
      "array, use 'a.T.view(...).T' instead\n",
      "  obj_bytes_view = obj.view(self.np.uint8)\n"
     ]
    },
    {
     "name": "stdout",
     "output_type": "stream",
     "text": [
      "[CV] .. n_iter=2, alpha=0.001, l1_ratio=0.001, score=0.114065 -   2.5s\n",
      "[CV] n_iter=2, alpha=0.001, l1_ratio=0.001 ...........................\n"
     ]
    },
    {
     "name": "stderr",
     "output_type": "stream",
     "text": [
      "/home/ubuntu/Virtualenvs/mateo/lib/python3.4/site-packages/sklearn/externals/joblib/hashing.py:197: DeprecationWarning: Changing the shape of non-C contiguous array by\n",
      "descriptor assignment is deprecated. To maintain\n",
      "the Fortran contiguity of a multidimensional Fortran\n",
      "array, use 'a.T.view(...).T' instead\n",
      "  obj_bytes_view = obj.view(self.np.uint8)\n"
     ]
    },
    {
     "name": "stdout",
     "output_type": "stream",
     "text": [
      "[CV] .. n_iter=2, alpha=0.001, l1_ratio=0.001, score=0.125576 -   2.5s\n",
      "[CV] n_iter=3, alpha=0.001, l1_ratio=0.001 ...........................\n"
     ]
    },
    {
     "name": "stderr",
     "output_type": "stream",
     "text": [
      "/home/ubuntu/Virtualenvs/mateo/lib/python3.4/site-packages/sklearn/externals/joblib/hashing.py:197: DeprecationWarning: Changing the shape of non-C contiguous array by\n",
      "descriptor assignment is deprecated. To maintain\n",
      "the Fortran contiguity of a multidimensional Fortran\n",
      "array, use 'a.T.view(...).T' instead\n",
      "  obj_bytes_view = obj.view(self.np.uint8)\n"
     ]
    },
    {
     "name": "stdout",
     "output_type": "stream",
     "text": [
      "[CV] .. n_iter=2, alpha=0.001, l1_ratio=0.001, score=0.125882 -   2.8s\n",
      "[CV] n_iter=3, alpha=0.001, l1_ratio=0.001 ...........................\n"
     ]
    },
    {
     "name": "stderr",
     "output_type": "stream",
     "text": [
      "/home/ubuntu/Virtualenvs/mateo/lib/python3.4/site-packages/sklearn/externals/joblib/hashing.py:197: DeprecationWarning: Changing the shape of non-C contiguous array by\n",
      "descriptor assignment is deprecated. To maintain\n",
      "the Fortran contiguity of a multidimensional Fortran\n",
      "array, use 'a.T.view(...).T' instead\n",
      "  obj_bytes_view = obj.view(self.np.uint8)\n"
     ]
    },
    {
     "name": "stdout",
     "output_type": "stream",
     "text": [
      "[CV] .. n_iter=3, alpha=0.001, l1_ratio=0.001, score=0.138072 -   3.3s\n",
      "[CV] n_iter=3, alpha=0.001, l1_ratio=0.001 ...........................\n"
     ]
    },
    {
     "name": "stderr",
     "output_type": "stream",
     "text": [
      "/home/ubuntu/Virtualenvs/mateo/lib/python3.4/site-packages/sklearn/externals/joblib/hashing.py:197: DeprecationWarning: Changing the shape of non-C contiguous array by\n",
      "descriptor assignment is deprecated. To maintain\n",
      "the Fortran contiguity of a multidimensional Fortran\n",
      "array, use 'a.T.view(...).T' instead\n",
      "  obj_bytes_view = obj.view(self.np.uint8)\n"
     ]
    },
    {
     "name": "stdout",
     "output_type": "stream",
     "text": [
      "[CV] .. n_iter=3, alpha=0.001, l1_ratio=0.001, score=0.133482 -   3.1s\n",
      "[CV] n_iter=2, alpha=0.001, l1_ratio=0.0006000000000000001 ...........\n"
     ]
    },
    {
     "name": "stderr",
     "output_type": "stream",
     "text": [
      "/home/ubuntu/Virtualenvs/mateo/lib/python3.4/site-packages/sklearn/externals/joblib/hashing.py:197: DeprecationWarning: Changing the shape of non-C contiguous array by\n",
      "descriptor assignment is deprecated. To maintain\n",
      "the Fortran contiguity of a multidimensional Fortran\n",
      "array, use 'a.T.view(...).T' instead\n",
      "  obj_bytes_view = obj.view(self.np.uint8)\n"
     ]
    },
    {
     "name": "stdout",
     "output_type": "stream",
     "text": [
      "[CV] .. n_iter=3, alpha=0.001, l1_ratio=0.001, score=0.133945 -   3.2s\n",
      "[CV] n_iter=2, alpha=0.001, l1_ratio=0.0006000000000000001 ...........\n"
     ]
    },
    {
     "name": "stderr",
     "output_type": "stream",
     "text": [
      "/home/ubuntu/Virtualenvs/mateo/lib/python3.4/site-packages/sklearn/externals/joblib/hashing.py:197: DeprecationWarning: Changing the shape of non-C contiguous array by\n",
      "descriptor assignment is deprecated. To maintain\n",
      "the Fortran contiguity of a multidimensional Fortran\n",
      "array, use 'a.T.view(...).T' instead\n",
      "  obj_bytes_view = obj.view(self.np.uint8)\n"
     ]
    },
    {
     "name": "stdout",
     "output_type": "stream",
     "text": [
      "[CV]  n_iter=2, alpha=0.001, l1_ratio=0.0006000000000000001, score=0.124318 -   2.5s\n",
      "[CV] n_iter=2, alpha=0.001, l1_ratio=0.0006000000000000001 ...........\n"
     ]
    },
    {
     "name": "stderr",
     "output_type": "stream",
     "text": [
      "/home/ubuntu/Virtualenvs/mateo/lib/python3.4/site-packages/sklearn/externals/joblib/hashing.py:197: DeprecationWarning: Changing the shape of non-C contiguous array by\n",
      "descriptor assignment is deprecated. To maintain\n",
      "the Fortran contiguity of a multidimensional Fortran\n",
      "array, use 'a.T.view(...).T' instead\n",
      "  obj_bytes_view = obj.view(self.np.uint8)\n"
     ]
    },
    {
     "name": "stdout",
     "output_type": "stream",
     "text": [
      "[CV]  n_iter=2, alpha=0.001, l1_ratio=0.0006000000000000001, score=0.125224 -   2.5s\n",
      "[CV] n_iter=3, alpha=0.001, l1_ratio=0.0006000000000000001 ...........\n"
     ]
    },
    {
     "name": "stderr",
     "output_type": "stream",
     "text": [
      "/home/ubuntu/Virtualenvs/mateo/lib/python3.4/site-packages/sklearn/externals/joblib/hashing.py:197: DeprecationWarning: Changing the shape of non-C contiguous array by\n",
      "descriptor assignment is deprecated. To maintain\n",
      "the Fortran contiguity of a multidimensional Fortran\n",
      "array, use 'a.T.view(...).T' instead\n",
      "  obj_bytes_view = obj.view(self.np.uint8)\n"
     ]
    },
    {
     "name": "stdout",
     "output_type": "stream",
     "text": [
      "[CV]  n_iter=2, alpha=0.001, l1_ratio=0.0006000000000000001, score=0.129423 -   2.5s\n",
      "[CV] n_iter=3, alpha=0.001, l1_ratio=0.0006000000000000001 ...........\n"
     ]
    },
    {
     "name": "stderr",
     "output_type": "stream",
     "text": [
      "/home/ubuntu/Virtualenvs/mateo/lib/python3.4/site-packages/sklearn/externals/joblib/hashing.py:197: DeprecationWarning: Changing the shape of non-C contiguous array by\n",
      "descriptor assignment is deprecated. To maintain\n",
      "the Fortran contiguity of a multidimensional Fortran\n",
      "array, use 'a.T.view(...).T' instead\n",
      "  obj_bytes_view = obj.view(self.np.uint8)\n"
     ]
    },
    {
     "name": "stdout",
     "output_type": "stream",
     "text": [
      "[CV]  n_iter=3, alpha=0.001, l1_ratio=0.0006000000000000001, score=0.131845 -   3.1s\n",
      "[CV] n_iter=3, alpha=0.001, l1_ratio=0.0006000000000000001 ...........\n"
     ]
    },
    {
     "name": "stderr",
     "output_type": "stream",
     "text": [
      "/home/ubuntu/Virtualenvs/mateo/lib/python3.4/site-packages/sklearn/externals/joblib/hashing.py:197: DeprecationWarning: Changing the shape of non-C contiguous array by\n",
      "descriptor assignment is deprecated. To maintain\n",
      "the Fortran contiguity of a multidimensional Fortran\n",
      "array, use 'a.T.view(...).T' instead\n",
      "  obj_bytes_view = obj.view(self.np.uint8)\n"
     ]
    },
    {
     "name": "stdout",
     "output_type": "stream",
     "text": [
      "[CV]  n_iter=3, alpha=0.001, l1_ratio=0.0006000000000000001, score=0.135827 -   3.1s\n",
      "[CV] n_iter=2, alpha=0.005, l1_ratio=0.03 ............................\n"
     ]
    },
    {
     "name": "stderr",
     "output_type": "stream",
     "text": [
      "/home/ubuntu/Virtualenvs/mateo/lib/python3.4/site-packages/sklearn/externals/joblib/hashing.py:197: DeprecationWarning: Changing the shape of non-C contiguous array by\n",
      "descriptor assignment is deprecated. To maintain\n",
      "the Fortran contiguity of a multidimensional Fortran\n",
      "array, use 'a.T.view(...).T' instead\n",
      "  obj_bytes_view = obj.view(self.np.uint8)\n"
     ]
    },
    {
     "name": "stdout",
     "output_type": "stream",
     "text": [
      "[CV]  n_iter=3, alpha=0.001, l1_ratio=0.0006000000000000001, score=0.128485 -   3.1s\n",
      "[CV] n_iter=2, alpha=0.005, l1_ratio=0.03 ............................\n"
     ]
    },
    {
     "name": "stderr",
     "output_type": "stream",
     "text": [
      "/home/ubuntu/Virtualenvs/mateo/lib/python3.4/site-packages/sklearn/externals/joblib/hashing.py:197: DeprecationWarning: Changing the shape of non-C contiguous array by\n",
      "descriptor assignment is deprecated. To maintain\n",
      "the Fortran contiguity of a multidimensional Fortran\n",
      "array, use 'a.T.view(...).T' instead\n",
      "  obj_bytes_view = obj.view(self.np.uint8)\n"
     ]
    },
    {
     "name": "stdout",
     "output_type": "stream",
     "text": [
      "[CV] ... n_iter=2, alpha=0.005, l1_ratio=0.03, score=0.125477 -   2.4s\n",
      "[CV] n_iter=2, alpha=0.005, l1_ratio=0.03 ............................\n"
     ]
    },
    {
     "name": "stderr",
     "output_type": "stream",
     "text": [
      "/home/ubuntu/Virtualenvs/mateo/lib/python3.4/site-packages/sklearn/externals/joblib/hashing.py:197: DeprecationWarning: Changing the shape of non-C contiguous array by\n",
      "descriptor assignment is deprecated. To maintain\n",
      "the Fortran contiguity of a multidimensional Fortran\n",
      "array, use 'a.T.view(...).T' instead\n",
      "  obj_bytes_view = obj.view(self.np.uint8)\n"
     ]
    },
    {
     "name": "stdout",
     "output_type": "stream",
     "text": [
      "[CV] ... n_iter=2, alpha=0.005, l1_ratio=0.03, score=0.125957 -   2.8s\n",
      "[CV] n_iter=3, alpha=0.005, l1_ratio=0.03 ............................\n"
     ]
    },
    {
     "name": "stderr",
     "output_type": "stream",
     "text": [
      "/home/ubuntu/Virtualenvs/mateo/lib/python3.4/site-packages/sklearn/externals/joblib/hashing.py:197: DeprecationWarning: Changing the shape of non-C contiguous array by\n",
      "descriptor assignment is deprecated. To maintain\n",
      "the Fortran contiguity of a multidimensional Fortran\n",
      "array, use 'a.T.view(...).T' instead\n",
      "  obj_bytes_view = obj.view(self.np.uint8)\n"
     ]
    },
    {
     "name": "stdout",
     "output_type": "stream",
     "text": [
      "[CV] ... n_iter=2, alpha=0.005, l1_ratio=0.03, score=0.127511 -   2.6s\n",
      "[CV] n_iter=3, alpha=0.005, l1_ratio=0.03 ............................\n"
     ]
    },
    {
     "name": "stderr",
     "output_type": "stream",
     "text": [
      "/home/ubuntu/Virtualenvs/mateo/lib/python3.4/site-packages/sklearn/externals/joblib/hashing.py:197: DeprecationWarning: Changing the shape of non-C contiguous array by\n",
      "descriptor assignment is deprecated. To maintain\n",
      "the Fortran contiguity of a multidimensional Fortran\n",
      "array, use 'a.T.view(...).T' instead\n",
      "  obj_bytes_view = obj.view(self.np.uint8)\n"
     ]
    },
    {
     "name": "stdout",
     "output_type": "stream",
     "text": [
      "[CV] ... n_iter=3, alpha=0.005, l1_ratio=0.03, score=0.127618 -   2.8s\n",
      "[CV] n_iter=3, alpha=0.005, l1_ratio=0.03 ............................\n"
     ]
    },
    {
     "name": "stderr",
     "output_type": "stream",
     "text": [
      "/home/ubuntu/Virtualenvs/mateo/lib/python3.4/site-packages/sklearn/externals/joblib/hashing.py:197: DeprecationWarning: Changing the shape of non-C contiguous array by\n",
      "descriptor assignment is deprecated. To maintain\n",
      "the Fortran contiguity of a multidimensional Fortran\n",
      "array, use 'a.T.view(...).T' instead\n",
      "  obj_bytes_view = obj.view(self.np.uint8)\n"
     ]
    },
    {
     "name": "stdout",
     "output_type": "stream",
     "text": [
      "[CV] ... n_iter=3, alpha=0.005, l1_ratio=0.03, score=0.125386 -   2.8s\n",
      "[CV] n_iter=2, alpha=0.005, l1_ratio=0.001 ...........................\n"
     ]
    },
    {
     "name": "stderr",
     "output_type": "stream",
     "text": [
      "/home/ubuntu/Virtualenvs/mateo/lib/python3.4/site-packages/sklearn/externals/joblib/hashing.py:197: DeprecationWarning: Changing the shape of non-C contiguous array by\n",
      "descriptor assignment is deprecated. To maintain\n",
      "the Fortran contiguity of a multidimensional Fortran\n",
      "array, use 'a.T.view(...).T' instead\n",
      "  obj_bytes_view = obj.view(self.np.uint8)\n"
     ]
    },
    {
     "name": "stdout",
     "output_type": "stream",
     "text": [
      "[CV] ... n_iter=3, alpha=0.005, l1_ratio=0.03, score=0.136983 -   3.0s\n"
     ]
    },
    {
     "name": "stderr",
     "output_type": "stream",
     "text": [
      "[Parallel(n_jobs=4)]: Done  24 tasks      | elapsed:   47.9s\n"
     ]
    },
    {
     "name": "stdout",
     "output_type": "stream",
     "text": [
      "[CV] n_iter=2, alpha=0.005, l1_ratio=0.001 ...........................\n"
     ]
    },
    {
     "name": "stderr",
     "output_type": "stream",
     "text": [
      "/home/ubuntu/Virtualenvs/mateo/lib/python3.4/site-packages/sklearn/externals/joblib/hashing.py:197: DeprecationWarning: Changing the shape of non-C contiguous array by\n",
      "descriptor assignment is deprecated. To maintain\n",
      "the Fortran contiguity of a multidimensional Fortran\n",
      "array, use 'a.T.view(...).T' instead\n",
      "  obj_bytes_view = obj.view(self.np.uint8)\n"
     ]
    },
    {
     "name": "stdout",
     "output_type": "stream",
     "text": [
      "[CV] .. n_iter=2, alpha=0.005, l1_ratio=0.001, score=0.120290 -   2.5s\n",
      "[CV] n_iter=2, alpha=0.005, l1_ratio=0.001 ...........................\n"
     ]
    },
    {
     "name": "stderr",
     "output_type": "stream",
     "text": [
      "/home/ubuntu/Virtualenvs/mateo/lib/python3.4/site-packages/sklearn/externals/joblib/hashing.py:197: DeprecationWarning: Changing the shape of non-C contiguous array by\n",
      "descriptor assignment is deprecated. To maintain\n",
      "the Fortran contiguity of a multidimensional Fortran\n",
      "array, use 'a.T.view(...).T' instead\n",
      "  obj_bytes_view = obj.view(self.np.uint8)\n"
     ]
    },
    {
     "name": "stdout",
     "output_type": "stream",
     "text": [
      "[CV] .. n_iter=2, alpha=0.005, l1_ratio=0.001, score=0.118753 -   2.5s\n",
      "[CV] n_iter=3, alpha=0.005, l1_ratio=0.001 ...........................\n"
     ]
    },
    {
     "name": "stderr",
     "output_type": "stream",
     "text": [
      "/home/ubuntu/Virtualenvs/mateo/lib/python3.4/site-packages/sklearn/externals/joblib/hashing.py:197: DeprecationWarning: Changing the shape of non-C contiguous array by\n",
      "descriptor assignment is deprecated. To maintain\n",
      "the Fortran contiguity of a multidimensional Fortran\n",
      "array, use 'a.T.view(...).T' instead\n",
      "  obj_bytes_view = obj.view(self.np.uint8)\n"
     ]
    },
    {
     "name": "stdout",
     "output_type": "stream",
     "text": [
      "[CV] .. n_iter=2, alpha=0.005, l1_ratio=0.001, score=0.127159 -   2.9s\n",
      "[CV] n_iter=3, alpha=0.005, l1_ratio=0.001 ...........................\n"
     ]
    },
    {
     "name": "stderr",
     "output_type": "stream",
     "text": [
      "/home/ubuntu/Virtualenvs/mateo/lib/python3.4/site-packages/sklearn/externals/joblib/hashing.py:197: DeprecationWarning: Changing the shape of non-C contiguous array by\n",
      "descriptor assignment is deprecated. To maintain\n",
      "the Fortran contiguity of a multidimensional Fortran\n",
      "array, use 'a.T.view(...).T' instead\n",
      "  obj_bytes_view = obj.view(self.np.uint8)\n"
     ]
    },
    {
     "name": "stdout",
     "output_type": "stream",
     "text": [
      "[CV] .. n_iter=3, alpha=0.005, l1_ratio=0.001, score=0.127485 -   3.3s\n",
      "[CV] n_iter=3, alpha=0.005, l1_ratio=0.001 ...........................\n"
     ]
    },
    {
     "name": "stderr",
     "output_type": "stream",
     "text": [
      "/home/ubuntu/Virtualenvs/mateo/lib/python3.4/site-packages/sklearn/externals/joblib/hashing.py:197: DeprecationWarning: Changing the shape of non-C contiguous array by\n",
      "descriptor assignment is deprecated. To maintain\n",
      "the Fortran contiguity of a multidimensional Fortran\n",
      "array, use 'a.T.view(...).T' instead\n",
      "  obj_bytes_view = obj.view(self.np.uint8)\n"
     ]
    },
    {
     "name": "stdout",
     "output_type": "stream",
     "text": [
      "[CV] .. n_iter=3, alpha=0.005, l1_ratio=0.001, score=0.139728 -   3.1s\n",
      "[CV] n_iter=2, alpha=0.005, l1_ratio=0.0006000000000000001 ...........\n"
     ]
    },
    {
     "name": "stderr",
     "output_type": "stream",
     "text": [
      "/home/ubuntu/Virtualenvs/mateo/lib/python3.4/site-packages/sklearn/externals/joblib/hashing.py:197: DeprecationWarning: Changing the shape of non-C contiguous array by\n",
      "descriptor assignment is deprecated. To maintain\n",
      "the Fortran contiguity of a multidimensional Fortran\n",
      "array, use 'a.T.view(...).T' instead\n",
      "  obj_bytes_view = obj.view(self.np.uint8)\n"
     ]
    },
    {
     "name": "stdout",
     "output_type": "stream",
     "text": [
      "[CV] .. n_iter=3, alpha=0.005, l1_ratio=0.001, score=0.130469 -   3.1s\n",
      "[CV] n_iter=2, alpha=0.005, l1_ratio=0.0006000000000000001 ...........\n"
     ]
    },
    {
     "name": "stderr",
     "output_type": "stream",
     "text": [
      "/home/ubuntu/Virtualenvs/mateo/lib/python3.4/site-packages/sklearn/externals/joblib/hashing.py:197: DeprecationWarning: Changing the shape of non-C contiguous array by\n",
      "descriptor assignment is deprecated. To maintain\n",
      "the Fortran contiguity of a multidimensional Fortran\n",
      "array, use 'a.T.view(...).T' instead\n",
      "  obj_bytes_view = obj.view(self.np.uint8)\n"
     ]
    },
    {
     "name": "stdout",
     "output_type": "stream",
     "text": [
      "[CV]  n_iter=2, alpha=0.005, l1_ratio=0.0006000000000000001, score=0.129161 -   2.5s\n",
      "[CV] n_iter=2, alpha=0.005, l1_ratio=0.0006000000000000001 ...........\n"
     ]
    },
    {
     "name": "stderr",
     "output_type": "stream",
     "text": [
      "/home/ubuntu/Virtualenvs/mateo/lib/python3.4/site-packages/sklearn/externals/joblib/hashing.py:197: DeprecationWarning: Changing the shape of non-C contiguous array by\n",
      "descriptor assignment is deprecated. To maintain\n",
      "the Fortran contiguity of a multidimensional Fortran\n",
      "array, use 'a.T.view(...).T' instead\n",
      "  obj_bytes_view = obj.view(self.np.uint8)\n"
     ]
    },
    {
     "name": "stdout",
     "output_type": "stream",
     "text": [
      "[CV]  n_iter=2, alpha=0.005, l1_ratio=0.0006000000000000001, score=0.130159 -   2.5s\n",
      "[CV] n_iter=3, alpha=0.005, l1_ratio=0.0006000000000000001 ...........\n"
     ]
    },
    {
     "name": "stderr",
     "output_type": "stream",
     "text": [
      "/home/ubuntu/Virtualenvs/mateo/lib/python3.4/site-packages/sklearn/externals/joblib/hashing.py:197: DeprecationWarning: Changing the shape of non-C contiguous array by\n",
      "descriptor assignment is deprecated. To maintain\n",
      "the Fortran contiguity of a multidimensional Fortran\n",
      "array, use 'a.T.view(...).T' instead\n",
      "  obj_bytes_view = obj.view(self.np.uint8)\n"
     ]
    },
    {
     "name": "stdout",
     "output_type": "stream",
     "text": [
      "[CV]  n_iter=2, alpha=0.005, l1_ratio=0.0006000000000000001, score=0.127613 -   2.5s\n",
      "[CV] n_iter=3, alpha=0.005, l1_ratio=0.0006000000000000001 ...........\n"
     ]
    },
    {
     "name": "stderr",
     "output_type": "stream",
     "text": [
      "/home/ubuntu/Virtualenvs/mateo/lib/python3.4/site-packages/sklearn/externals/joblib/hashing.py:197: DeprecationWarning: Changing the shape of non-C contiguous array by\n",
      "descriptor assignment is deprecated. To maintain\n",
      "the Fortran contiguity of a multidimensional Fortran\n",
      "array, use 'a.T.view(...).T' instead\n",
      "  obj_bytes_view = obj.view(self.np.uint8)\n"
     ]
    },
    {
     "name": "stdout",
     "output_type": "stream",
     "text": [
      "[CV]  n_iter=3, alpha=0.005, l1_ratio=0.0006000000000000001, score=0.132956 -   3.1s\n",
      "[CV] n_iter=3, alpha=0.005, l1_ratio=0.0006000000000000001 ...........\n"
     ]
    },
    {
     "name": "stderr",
     "output_type": "stream",
     "text": [
      "/home/ubuntu/Virtualenvs/mateo/lib/python3.4/site-packages/sklearn/externals/joblib/hashing.py:197: DeprecationWarning: Changing the shape of non-C contiguous array by\n",
      "descriptor assignment is deprecated. To maintain\n",
      "the Fortran contiguity of a multidimensional Fortran\n",
      "array, use 'a.T.view(...).T' instead\n",
      "  obj_bytes_view = obj.view(self.np.uint8)\n"
     ]
    },
    {
     "name": "stdout",
     "output_type": "stream",
     "text": [
      "[CV]  n_iter=3, alpha=0.005, l1_ratio=0.0006000000000000001, score=0.143005 -   3.1s\n",
      "[CV] n_iter=2, alpha=0.01, l1_ratio=0.03 .............................\n"
     ]
    },
    {
     "name": "stderr",
     "output_type": "stream",
     "text": [
      "/home/ubuntu/Virtualenvs/mateo/lib/python3.4/site-packages/sklearn/externals/joblib/hashing.py:197: DeprecationWarning: Changing the shape of non-C contiguous array by\n",
      "descriptor assignment is deprecated. To maintain\n",
      "the Fortran contiguity of a multidimensional Fortran\n",
      "array, use 'a.T.view(...).T' instead\n",
      "  obj_bytes_view = obj.view(self.np.uint8)\n"
     ]
    },
    {
     "name": "stdout",
     "output_type": "stream",
     "text": [
      "[CV]  n_iter=3, alpha=0.005, l1_ratio=0.0006000000000000001, score=0.135926 -   3.1s\n",
      "[CV] n_iter=2, alpha=0.01, l1_ratio=0.03 .............................\n"
     ]
    },
    {
     "name": "stderr",
     "output_type": "stream",
     "text": [
      "/home/ubuntu/Virtualenvs/mateo/lib/python3.4/site-packages/sklearn/externals/joblib/hashing.py:197: DeprecationWarning: Changing the shape of non-C contiguous array by\n",
      "descriptor assignment is deprecated. To maintain\n",
      "the Fortran contiguity of a multidimensional Fortran\n",
      "array, use 'a.T.view(...).T' instead\n",
      "  obj_bytes_view = obj.view(self.np.uint8)\n"
     ]
    },
    {
     "name": "stdout",
     "output_type": "stream",
     "text": [
      "[CV] .... n_iter=2, alpha=0.01, l1_ratio=0.03, score=0.128098 -   2.4s\n",
      "[CV] n_iter=2, alpha=0.01, l1_ratio=0.03 .............................\n"
     ]
    },
    {
     "name": "stderr",
     "output_type": "stream",
     "text": [
      "/home/ubuntu/Virtualenvs/mateo/lib/python3.4/site-packages/sklearn/externals/joblib/hashing.py:197: DeprecationWarning: Changing the shape of non-C contiguous array by\n",
      "descriptor assignment is deprecated. To maintain\n",
      "the Fortran contiguity of a multidimensional Fortran\n",
      "array, use 'a.T.view(...).T' instead\n",
      "  obj_bytes_view = obj.view(self.np.uint8)\n"
     ]
    },
    {
     "name": "stdout",
     "output_type": "stream",
     "text": [
      "[CV] .... n_iter=2, alpha=0.01, l1_ratio=0.03, score=0.127078 -   2.7s\n",
      "[CV] n_iter=3, alpha=0.01, l1_ratio=0.03 .............................\n"
     ]
    },
    {
     "name": "stderr",
     "output_type": "stream",
     "text": [
      "/home/ubuntu/Virtualenvs/mateo/lib/python3.4/site-packages/sklearn/externals/joblib/hashing.py:197: DeprecationWarning: Changing the shape of non-C contiguous array by\n",
      "descriptor assignment is deprecated. To maintain\n",
      "the Fortran contiguity of a multidimensional Fortran\n",
      "array, use 'a.T.view(...).T' instead\n",
      "  obj_bytes_view = obj.view(self.np.uint8)\n"
     ]
    },
    {
     "name": "stdout",
     "output_type": "stream",
     "text": [
      "[CV] .... n_iter=2, alpha=0.01, l1_ratio=0.03, score=0.126921 -   2.5s\n",
      "[CV] n_iter=3, alpha=0.01, l1_ratio=0.03 .............................\n"
     ]
    },
    {
     "name": "stderr",
     "output_type": "stream",
     "text": [
      "/home/ubuntu/Virtualenvs/mateo/lib/python3.4/site-packages/sklearn/externals/joblib/hashing.py:197: DeprecationWarning: Changing the shape of non-C contiguous array by\n",
      "descriptor assignment is deprecated. To maintain\n",
      "the Fortran contiguity of a multidimensional Fortran\n",
      "array, use 'a.T.view(...).T' instead\n",
      "  obj_bytes_view = obj.view(self.np.uint8)\n"
     ]
    },
    {
     "name": "stdout",
     "output_type": "stream",
     "text": [
      "[CV] .... n_iter=3, alpha=0.01, l1_ratio=0.03, score=0.138152 -   3.6s\n",
      "[CV] n_iter=3, alpha=0.01, l1_ratio=0.03 .............................\n"
     ]
    },
    {
     "name": "stderr",
     "output_type": "stream",
     "text": [
      "/home/ubuntu/Virtualenvs/mateo/lib/python3.4/site-packages/sklearn/externals/joblib/hashing.py:197: DeprecationWarning: Changing the shape of non-C contiguous array by\n",
      "descriptor assignment is deprecated. To maintain\n",
      "the Fortran contiguity of a multidimensional Fortran\n",
      "array, use 'a.T.view(...).T' instead\n",
      "  obj_bytes_view = obj.view(self.np.uint8)\n"
     ]
    },
    {
     "name": "stdout",
     "output_type": "stream",
     "text": [
      "[CV] .... n_iter=3, alpha=0.01, l1_ratio=0.03, score=0.106208 -   3.1s\n",
      "[CV] n_iter=2, alpha=0.01, l1_ratio=0.001 ............................\n"
     ]
    },
    {
     "name": "stderr",
     "output_type": "stream",
     "text": [
      "/home/ubuntu/Virtualenvs/mateo/lib/python3.4/site-packages/sklearn/externals/joblib/hashing.py:197: DeprecationWarning: Changing the shape of non-C contiguous array by\n",
      "descriptor assignment is deprecated. To maintain\n",
      "the Fortran contiguity of a multidimensional Fortran\n",
      "array, use 'a.T.view(...).T' instead\n",
      "  obj_bytes_view = obj.view(self.np.uint8)\n"
     ]
    },
    {
     "name": "stdout",
     "output_type": "stream",
     "text": [
      "[CV] .... n_iter=3, alpha=0.01, l1_ratio=0.03, score=0.143076 -   2.8s\n",
      "[CV] n_iter=2, alpha=0.01, l1_ratio=0.001 ............................\n"
     ]
    },
    {
     "name": "stderr",
     "output_type": "stream",
     "text": [
      "/home/ubuntu/Virtualenvs/mateo/lib/python3.4/site-packages/sklearn/externals/joblib/hashing.py:197: DeprecationWarning: Changing the shape of non-C contiguous array by\n",
      "descriptor assignment is deprecated. To maintain\n",
      "the Fortran contiguity of a multidimensional Fortran\n",
      "array, use 'a.T.view(...).T' instead\n",
      "  obj_bytes_view = obj.view(self.np.uint8)\n"
     ]
    },
    {
     "name": "stdout",
     "output_type": "stream",
     "text": [
      "[CV] ... n_iter=2, alpha=0.01, l1_ratio=0.001, score=0.132427 -   2.5s\n",
      "[CV] n_iter=2, alpha=0.01, l1_ratio=0.001 ............................\n"
     ]
    },
    {
     "name": "stderr",
     "output_type": "stream",
     "text": [
      "/home/ubuntu/Virtualenvs/mateo/lib/python3.4/site-packages/sklearn/externals/joblib/hashing.py:197: DeprecationWarning: Changing the shape of non-C contiguous array by\n",
      "descriptor assignment is deprecated. To maintain\n",
      "the Fortran contiguity of a multidimensional Fortran\n",
      "array, use 'a.T.view(...).T' instead\n",
      "  obj_bytes_view = obj.view(self.np.uint8)\n"
     ]
    },
    {
     "name": "stdout",
     "output_type": "stream",
     "text": [
      "[CV] ... n_iter=2, alpha=0.01, l1_ratio=0.001, score=0.125901 -   2.9s\n",
      "[CV] n_iter=3, alpha=0.01, l1_ratio=0.001 ............................\n"
     ]
    },
    {
     "name": "stderr",
     "output_type": "stream",
     "text": [
      "/home/ubuntu/Virtualenvs/mateo/lib/python3.4/site-packages/sklearn/externals/joblib/hashing.py:197: DeprecationWarning: Changing the shape of non-C contiguous array by\n",
      "descriptor assignment is deprecated. To maintain\n",
      "the Fortran contiguity of a multidimensional Fortran\n",
      "array, use 'a.T.view(...).T' instead\n",
      "  obj_bytes_view = obj.view(self.np.uint8)\n"
     ]
    },
    {
     "name": "stdout",
     "output_type": "stream",
     "text": [
      "[CV] ... n_iter=2, alpha=0.01, l1_ratio=0.001, score=0.128001 -   2.7s\n",
      "[CV] n_iter=3, alpha=0.01, l1_ratio=0.001 ............................\n"
     ]
    },
    {
     "name": "stderr",
     "output_type": "stream",
     "text": [
      "/home/ubuntu/Virtualenvs/mateo/lib/python3.4/site-packages/sklearn/externals/joblib/hashing.py:197: DeprecationWarning: Changing the shape of non-C contiguous array by\n",
      "descriptor assignment is deprecated. To maintain\n",
      "the Fortran contiguity of a multidimensional Fortran\n",
      "array, use 'a.T.view(...).T' instead\n",
      "  obj_bytes_view = obj.view(self.np.uint8)\n"
     ]
    },
    {
     "name": "stdout",
     "output_type": "stream",
     "text": [
      "[CV] ... n_iter=3, alpha=0.01, l1_ratio=0.001, score=0.135568 -   3.1s\n",
      "[CV] n_iter=3, alpha=0.01, l1_ratio=0.001 ............................\n"
     ]
    },
    {
     "name": "stderr",
     "output_type": "stream",
     "text": [
      "/home/ubuntu/Virtualenvs/mateo/lib/python3.4/site-packages/sklearn/externals/joblib/hashing.py:197: DeprecationWarning: Changing the shape of non-C contiguous array by\n",
      "descriptor assignment is deprecated. To maintain\n",
      "the Fortran contiguity of a multidimensional Fortran\n",
      "array, use 'a.T.view(...).T' instead\n",
      "  obj_bytes_view = obj.view(self.np.uint8)\n"
     ]
    },
    {
     "name": "stdout",
     "output_type": "stream",
     "text": [
      "[CV] n_iter=2, alpha=0.01, l1_ratio=0.0006000000000000001 ............\n"
     ]
    },
    {
     "name": "stderr",
     "output_type": "stream",
     "text": [
      "/home/ubuntu/Virtualenvs/mateo/lib/python3.4/site-packages/sklearn/externals/joblib/hashing.py:197: DeprecationWarning: Changing the shape of non-C contiguous array by\n",
      "descriptor assignment is deprecated. To maintain\n",
      "the Fortran contiguity of a multidimensional Fortran\n",
      "array, use 'a.T.view(...).T' instead\n",
      "  obj_bytes_view = obj.view(self.np.uint8)\n"
     ]
    },
    {
     "name": "stdout",
     "output_type": "stream",
     "text": [
      "[CV] ... n_iter=3, alpha=0.01, l1_ratio=0.001, score=0.132579 -   4.4s\n",
      "[CV] ... n_iter=3, alpha=0.01, l1_ratio=0.001, score=0.136589 -   3.7s\n",
      "[CV] n_iter=2, alpha=0.01, l1_ratio=0.0006000000000000001 ............\n"
     ]
    },
    {
     "name": "stderr",
     "output_type": "stream",
     "text": [
      "/home/ubuntu/Virtualenvs/mateo/lib/python3.4/site-packages/sklearn/externals/joblib/hashing.py:197: DeprecationWarning: Changing the shape of non-C contiguous array by\n",
      "descriptor assignment is deprecated. To maintain\n",
      "the Fortran contiguity of a multidimensional Fortran\n",
      "array, use 'a.T.view(...).T' instead\n",
      "  obj_bytes_view = obj.view(self.np.uint8)\n"
     ]
    },
    {
     "name": "stdout",
     "output_type": "stream",
     "text": [
      "[CV]  n_iter=2, alpha=0.01, l1_ratio=0.0006000000000000001, score=0.124134 -   2.8s\n",
      "[CV] n_iter=2, alpha=0.01, l1_ratio=0.0006000000000000001 ............\n"
     ]
    },
    {
     "name": "stderr",
     "output_type": "stream",
     "text": [
      "/home/ubuntu/Virtualenvs/mateo/lib/python3.4/site-packages/sklearn/externals/joblib/hashing.py:197: DeprecationWarning: Changing the shape of non-C contiguous array by\n",
      "descriptor assignment is deprecated. To maintain\n",
      "the Fortran contiguity of a multidimensional Fortran\n",
      "array, use 'a.T.view(...).T' instead\n",
      "  obj_bytes_view = obj.view(self.np.uint8)\n"
     ]
    },
    {
     "name": "stdout",
     "output_type": "stream",
     "text": [
      "[CV]  n_iter=2, alpha=0.01, l1_ratio=0.0006000000000000001, score=0.130883 -   2.5s\n",
      "[CV] n_iter=3, alpha=0.01, l1_ratio=0.0006000000000000001 ............\n"
     ]
    },
    {
     "name": "stderr",
     "output_type": "stream",
     "text": [
      "/home/ubuntu/Virtualenvs/mateo/lib/python3.4/site-packages/sklearn/externals/joblib/hashing.py:197: DeprecationWarning: Changing the shape of non-C contiguous array by\n",
      "descriptor assignment is deprecated. To maintain\n",
      "the Fortran contiguity of a multidimensional Fortran\n",
      "array, use 'a.T.view(...).T' instead\n",
      "  obj_bytes_view = obj.view(self.np.uint8)\n"
     ]
    },
    {
     "name": "stdout",
     "output_type": "stream",
     "text": [
      "[CV]  n_iter=2, alpha=0.01, l1_ratio=0.0006000000000000001, score=0.122741 -   3.5s\n",
      "[CV] n_iter=3, alpha=0.01, l1_ratio=0.0006000000000000001 ............\n"
     ]
    },
    {
     "name": "stderr",
     "output_type": "stream",
     "text": [
      "/home/ubuntu/Virtualenvs/mateo/lib/python3.4/site-packages/sklearn/externals/joblib/hashing.py:197: DeprecationWarning: Changing the shape of non-C contiguous array by\n",
      "descriptor assignment is deprecated. To maintain\n",
      "the Fortran contiguity of a multidimensional Fortran\n",
      "array, use 'a.T.view(...).T' instead\n",
      "  obj_bytes_view = obj.view(self.np.uint8)\n"
     ]
    },
    {
     "name": "stdout",
     "output_type": "stream",
     "text": [
      "[CV]  n_iter=3, alpha=0.01, l1_ratio=0.0006000000000000001, score=0.132433 -   3.7s\n",
      "[CV] n_iter=3, alpha=0.01, l1_ratio=0.0006000000000000001 ............\n",
      "[CV]  n_iter=3, alpha=0.01, l1_ratio=0.0006000000000000001, score=0.135111 -   3.4s\n",
      "[CV]  n_iter=3, alpha=0.01, l1_ratio=0.0006000000000000001, score=0.135908 -   3.1s\n"
     ]
    },
    {
     "name": "stderr",
     "output_type": "stream",
     "text": [
      "[Parallel(n_jobs=4)]: Done  54 out of  54 | elapsed:  1.7min finished\n"
     ]
    },
    {
     "name": "stdout",
     "output_type": "stream",
     "text": [
      "             precision    recall  f1-score   support\n",
      "\n",
      "          0       1.00      0.31      0.47    355992\n",
      "          1       0.06      0.99      0.11     15152\n",
      "\n",
      "avg / total       0.96      0.33      0.45    371144\n",
      "\n",
      "This cell took 108.56432461738586 seconds to run\n"
     ]
    }
   ],
   "source": [
    "start_time = time.time()\n",
    "\n",
    "param_grid = [\n",
    "  { 'alpha': [1e-3,5*1e-3,1e-2], 'l1_ratio': [3*1e-2,1e-3,6*1e-4], 'n_iter': [2,3]\n",
    "  }\n",
    "    ]\n",
    "sgd = SGDClassifier(loss='modified_huber', penalty='elasticnet', \n",
    "             fit_intercept=True,  shuffle=True, \n",
    "                    n_jobs=3,learning_rate='optimal', power_t =2, eta0 =5,\n",
    "                    class_weight='balanced', average=40)\n",
    "\n",
    "clf =GridSearchCV(sgd, param_grid, scoring='roc_auc', fit_params=None, n_jobs=4, iid=True, refit=True, \n",
    "verbose=3, pre_dispatch='2*n_jobs', error_score='raise')\n",
    "\n",
    "clf.fit(X_train,y_train)\n",
    "\n",
    "\n",
    "\n",
    "predicted_proba = pd.DataFrame()\n",
    "predicted_proba['prob'] = clf.predict_proba(X_test).max(axis=1)\n",
    "predicted_proba['class'] = clf.predict(X_test)\n",
    "predicted_proba[gt] =  y_test\n",
    "predicted_proba.sort_values(by = 'prob',ascending = False, inplace = True)\n",
    "\n",
    "cut_percentages = [10,20,30,40]\n",
    "#converted = (predicted_proba['class']==1)\n",
    "#me fijo todos los users que van a convertir en el futuro\n",
    "\n",
    "\n",
    "start = 0\n",
    "mobility_dict = {}\n",
    "index_segments = []\n",
    "for i in cut_percentages:\n",
    "    cut_size = int(len(predicted_proba)*i/100.0)    \n",
    "    bool_array = (~np.ones(len(predicted_proba), dtype=bool))\n",
    "    bool_array[start: start + cut_size] = True\n",
    "    index_segments += [bool_array]\n",
    "    start = start + cut_size\n",
    "#    subtable = \n",
    "    #mobility_dict[str(i)] = predicted_proba.loc[index_segments[-1],'ref_hash']\n",
    "    \n",
    "    print(classification_report(predicted_proba.loc[index_segments[-1],gt].values,\n",
    "                            predicted_proba.loc[index_segments[-1],'class'].values ))\n",
    "    \n",
    "    \n",
    "print(classification_report(predicted_proba.loc[:,gt].values,\n",
    "                            predicted_proba.loc[:,'class'].values ))\n",
    "    \n",
    "    \n",
    "cv_result = pd.DataFrame(columns=['mean_score' ] + [key for key, value in clf.grid_scores_[0].parameters.items() ] )\n",
    "i=0\n",
    "for setup in clf.grid_scores_:\n",
    "    row = [clf.grid_scores_[i].mean_validation_score ] + [value for key, value in clf.grid_scores_[i].parameters.items() ]\n",
    "    cv_result.loc[i] = row\n",
    "    i+=1\n",
    "#este flag es basicamente para chequear que hayamos terminado nomas\n",
    "finished = True\n",
    "\n",
    "all_time =   time.time() - start_time\n",
    "\n",
    "#este flag es basicamente para chequear que hayamos terminado nomas\n",
    "finished = True\n",
    "\n",
    "print('This cell took %s seconds to run' % all_time)\n"
   ]
  },
  {
   "cell_type": "code",
   "execution_count": null,
   "metadata": {
    "collapsed": true
   },
   "outputs": [],
   "source": [
    "threshold = 0.7\n",
    "ind = predicted_proba['prob']>threshold\n",
    "print(classification_report(predicted_proba.loc[ind,'y'].values,predicted_proba.loc[ind,'class'].values ))"
   ]
  },
  {
   "cell_type": "code",
   "execution_count": 38,
   "metadata": {},
   "outputs": [
    {
     "data": {
      "text/plain": [
       "SGDClassifier(alpha=0.005, average=40, class_weight='balanced', epsilon=0.1,\n",
       "       eta0=5, fit_intercept=True, l1_ratio=0.0006000000000000001,\n",
       "       learning_rate='optimal', loss='modified_huber', n_iter=3, n_jobs=3,\n",
       "       penalty='elasticnet', power_t=2, random_state=None, shuffle=True,\n",
       "       verbose=0, warm_start=False)"
      ]
     },
     "execution_count": 38,
     "metadata": {},
     "output_type": "execute_result"
    }
   ],
   "source": [
    "clf.best_estimator_"
   ]
  },
  {
   "cell_type": "code",
   "execution_count": 39,
   "metadata": {
    "scrolled": true
   },
   "outputs": [
    {
     "name": "stdout",
     "output_type": "stream",
     "text": [
      "n_iter\n",
      "2.0    0.125741\n",
      "3.0    0.132943\n",
      "Name: mean_score, dtype: float64\n",
      "n_iter\n",
      "2.0    0.002609\n",
      "3.0    0.002703\n",
      "Name: mean_score, dtype: float64\n"
     ]
    }
   ],
   "source": [
    "coln=1\n",
    "print(cv_result.groupby(cv_result.columns[coln])['mean_score'].mean())\n",
    "print(cv_result.groupby(cv_result.columns[coln])['mean_score'].std())"
   ]
  },
  {
   "cell_type": "markdown",
   "metadata": {
    "collapsed": true
   },
   "source": [
    "### Results\n",
    "* l1_ratio = cuanto mas chico mejor con lo cual la perdida l2 parece ser mejor\n",
    "* alpha = 1e-3 es suficiente pues casi no afecta el score\n",
    "* power_t = muy variado, no parece haber correlacion entre el tamanyo y el avg, mean_score\n",
    "* eta0 = no afecta mucho pero parece ser que con ser >1 ya esta\n",
    "* power_t = parecen ser practicamente iguales\n",
    "* n_iter = cuanto mas iter NO mejora el score"
   ]
  },
  {
   "cell_type": "code",
   "execution_count": 51,
   "metadata": {},
   "outputs": [
    {
     "data": {
      "text/plain": [
       "371161"
      ]
     },
     "execution_count": 51,
     "metadata": {},
     "output_type": "execute_result"
    }
   ],
   "source": [
    "len(predicted_proba)"
   ]
  },
  {
   "cell_type": "markdown",
   "metadata": {},
   "source": [
    "## Cross Validate NN"
   ]
  },
  {
   "cell_type": "code",
   "execution_count": 35,
   "metadata": {
    "scrolled": true
   },
   "outputs": [
    {
     "name": "stdout",
     "output_type": "stream",
     "text": [
      "Fitting 3 folds for each of 144 candidates, totalling 432 fits\n",
      "[CV] algorithm=adam, hidden_layer_sizes=(50,), activation=logistic, power_t=0.001, alpha=0.1, learning_rate=adaptive \n",
      "[CV] algorithm=adam, hidden_layer_sizes=(50,), activation=logistic, power_t=0.001, alpha=0.1, learning_rate=adaptive \n",
      "[CV] algorithm=adam, hidden_layer_sizes=(50,), activation=logistic, power_t=0.001, alpha=0.1, learning_rate=adaptive \n",
      "[CV] algorithm=adam, hidden_layer_sizes=(50,), activation=logistic, power_t=0.0005, alpha=0.1, learning_rate=adaptive \n",
      "Iteration 1, loss = 0.20405210\n",
      "Iteration 1, loss = 0.20380843\n",
      "Iteration 1, loss = 0.20378706\n",
      "Iteration 1, loss = 0.20405210\n"
     ]
    },
    {
     "name": "stderr",
     "output_type": "stream",
     "text": [
      "/home/teo/Repositories/scikit-learn/sklearn/metrics/classification.py:1097: UndefinedMetricWarning: F-score is ill-defined and being set to 0.0 due to no predicted samples.\n",
      "  'precision', 'predicted', average, warn_for)\n"
     ]
    },
    {
     "name": "stdout",
     "output_type": "stream",
     "text": [
      "[CV]  algorithm=adam, hidden_layer_sizes=(50,), activation=logistic, power_t=0.0005, alpha=0.1, learning_rate=adaptive, score=0.000000 -   1.5s\n",
      "[CV] algorithm=adam, hidden_layer_sizes=(50,), activation=logistic, power_t=0.0005, alpha=0.1, learning_rate=adaptive \n"
     ]
    },
    {
     "name": "stderr",
     "output_type": "stream",
     "text": [
      "/home/teo/Repositories/scikit-learn/sklearn/metrics/classification.py:1097: UndefinedMetricWarning: F-score is ill-defined and being set to 0.0 due to no predicted samples.\n",
      "  'precision', 'predicted', average, warn_for)\n"
     ]
    },
    {
     "name": "stdout",
     "output_type": "stream",
     "text": [
      "[CV]  algorithm=adam, hidden_layer_sizes=(50,), activation=logistic, power_t=0.001, alpha=0.1, learning_rate=adaptive, score=0.000000 -   1.7s\n"
     ]
    },
    {
     "name": "stderr",
     "output_type": "stream",
     "text": [
      "/home/teo/Repositories/scikit-learn/sklearn/metrics/classification.py:1097: UndefinedMetricWarning: F-score is ill-defined and being set to 0.0 due to no predicted samples.\n",
      "  'precision', 'predicted', average, warn_for)\n"
     ]
    },
    {
     "name": "stdout",
     "output_type": "stream",
     "text": [
      "[CV]  algorithm=adam, hidden_layer_sizes=(50,), activation=logistic, power_t=0.001, alpha=0.1, learning_rate=adaptive, score=0.000000 -   2.1s\n"
     ]
    },
    {
     "name": "stderr",
     "output_type": "stream",
     "text": [
      "/home/teo/Repositories/scikit-learn/sklearn/metrics/classification.py:1097: UndefinedMetricWarning: F-score is ill-defined and being set to 0.0 due to no predicted samples.\n",
      "  'precision', 'predicted', average, warn_for)\n"
     ]
    },
    {
     "name": "stdout",
     "output_type": "stream",
     "text": [
      "[CV]  algorithm=adam, hidden_layer_sizes=(50,), activation=logistic, power_t=0.001, alpha=0.1, learning_rate=adaptive, score=0.000000 -   1.9s\n"
     ]
    },
    {
     "ename": "KeyboardInterrupt",
     "evalue": "",
     "output_type": "error",
     "traceback": [
      "\u001b[1;31m---------------------------------------------------------------------------\u001b[0m",
      "\u001b[1;31mKeyboardInterrupt\u001b[0m                         Traceback (most recent call last)",
      "\u001b[1;32m<ipython-input-35-3491f77d2a02>\u001b[0m in \u001b[0;36m<module>\u001b[1;34m()\u001b[0m\n\u001b[0;32m     16\u001b[0m verbose=3, pre_dispatch='2*n_jobs', error_score='raise')\n\u001b[0;32m     17\u001b[0m \u001b[1;33m\u001b[0m\u001b[0m\n\u001b[1;32m---> 18\u001b[1;33m \u001b[0mclf\u001b[0m\u001b[1;33m.\u001b[0m\u001b[0mfit\u001b[0m\u001b[1;33m(\u001b[0m\u001b[0mX_train\u001b[0m\u001b[1;33m,\u001b[0m\u001b[0my_train\u001b[0m\u001b[1;33m)\u001b[0m\u001b[1;33m\u001b[0m\u001b[0m\n\u001b[0m\u001b[0;32m     19\u001b[0m \u001b[1;33m\u001b[0m\u001b[0m\n\u001b[0;32m     20\u001b[0m \u001b[0mpredicted_proba\u001b[0m \u001b[1;33m=\u001b[0m \u001b[0mpd\u001b[0m\u001b[1;33m.\u001b[0m\u001b[0mDataFrame\u001b[0m\u001b[1;33m(\u001b[0m\u001b[1;33m)\u001b[0m\u001b[1;33m\u001b[0m\u001b[0m\n",
      "\u001b[1;32m/home/teo/Repositories/scikit-learn/sklearn/grid_search.pyc\u001b[0m in \u001b[0;36mfit\u001b[1;34m(self, X, y)\u001b[0m\n\u001b[0;32m    809\u001b[0m \u001b[1;33m\u001b[0m\u001b[0m\n\u001b[0;32m    810\u001b[0m         \"\"\"\n\u001b[1;32m--> 811\u001b[1;33m         \u001b[1;32mreturn\u001b[0m \u001b[0mself\u001b[0m\u001b[1;33m.\u001b[0m\u001b[0m_fit\u001b[0m\u001b[1;33m(\u001b[0m\u001b[0mX\u001b[0m\u001b[1;33m,\u001b[0m \u001b[0my\u001b[0m\u001b[1;33m,\u001b[0m \u001b[0mParameterGrid\u001b[0m\u001b[1;33m(\u001b[0m\u001b[0mself\u001b[0m\u001b[1;33m.\u001b[0m\u001b[0mparam_grid\u001b[0m\u001b[1;33m)\u001b[0m\u001b[1;33m)\u001b[0m\u001b[1;33m\u001b[0m\u001b[0m\n\u001b[0m\u001b[0;32m    812\u001b[0m \u001b[1;33m\u001b[0m\u001b[0m\n\u001b[0;32m    813\u001b[0m \u001b[1;33m\u001b[0m\u001b[0m\n",
      "\u001b[1;32m/home/teo/Repositories/scikit-learn/sklearn/grid_search.pyc\u001b[0m in \u001b[0;36m_fit\u001b[1;34m(self, X, y, parameter_iterable)\u001b[0m\n\u001b[0;32m    558\u001b[0m                                     \u001b[0mself\u001b[0m\u001b[1;33m.\u001b[0m\u001b[0mfit_params\u001b[0m\u001b[1;33m,\u001b[0m \u001b[0mreturn_parameters\u001b[0m\u001b[1;33m=\u001b[0m\u001b[0mTrue\u001b[0m\u001b[1;33m,\u001b[0m\u001b[1;33m\u001b[0m\u001b[0m\n\u001b[0;32m    559\u001b[0m                                     error_score=self.error_score)\n\u001b[1;32m--> 560\u001b[1;33m                 \u001b[1;32mfor\u001b[0m \u001b[0mparameters\u001b[0m \u001b[1;32min\u001b[0m \u001b[0mparameter_iterable\u001b[0m\u001b[1;33m\u001b[0m\u001b[0m\n\u001b[0m\u001b[0;32m    561\u001b[0m                 for train, test in cv)\n\u001b[0;32m    562\u001b[0m \u001b[1;33m\u001b[0m\u001b[0m\n",
      "\u001b[1;32m/home/teo/Repositories/scikit-learn/sklearn/externals/joblib/parallel.pyc\u001b[0m in \u001b[0;36m__call__\u001b[1;34m(self, iterable)\u001b[0m\n\u001b[0;32m    808\u001b[0m                 \u001b[1;31m# consumption.\u001b[0m\u001b[1;33m\u001b[0m\u001b[1;33m\u001b[0m\u001b[0m\n\u001b[0;32m    809\u001b[0m                 \u001b[0mself\u001b[0m\u001b[1;33m.\u001b[0m\u001b[0m_iterating\u001b[0m \u001b[1;33m=\u001b[0m \u001b[0mFalse\u001b[0m\u001b[1;33m\u001b[0m\u001b[0m\n\u001b[1;32m--> 810\u001b[1;33m             \u001b[0mself\u001b[0m\u001b[1;33m.\u001b[0m\u001b[0mretrieve\u001b[0m\u001b[1;33m(\u001b[0m\u001b[1;33m)\u001b[0m\u001b[1;33m\u001b[0m\u001b[0m\n\u001b[0m\u001b[0;32m    811\u001b[0m             \u001b[1;31m# Make sure that we get a last message telling us we are done\u001b[0m\u001b[1;33m\u001b[0m\u001b[1;33m\u001b[0m\u001b[0m\n\u001b[0;32m    812\u001b[0m             \u001b[0melapsed_time\u001b[0m \u001b[1;33m=\u001b[0m \u001b[0mtime\u001b[0m\u001b[1;33m.\u001b[0m\u001b[0mtime\u001b[0m\u001b[1;33m(\u001b[0m\u001b[1;33m)\u001b[0m \u001b[1;33m-\u001b[0m \u001b[0mself\u001b[0m\u001b[1;33m.\u001b[0m\u001b[0m_start_time\u001b[0m\u001b[1;33m\u001b[0m\u001b[0m\n",
      "\u001b[1;32m/home/teo/Repositories/scikit-learn/sklearn/externals/joblib/parallel.pyc\u001b[0m in \u001b[0;36mretrieve\u001b[1;34m(self)\u001b[0m\n\u001b[0;32m    755\u001b[0m                     \u001b[1;31m# a working pool as they expect.\u001b[0m\u001b[1;33m\u001b[0m\u001b[1;33m\u001b[0m\u001b[0m\n\u001b[0;32m    756\u001b[0m                     \u001b[0mself\u001b[0m\u001b[1;33m.\u001b[0m\u001b[0m_initialize_pool\u001b[0m\u001b[1;33m(\u001b[0m\u001b[1;33m)\u001b[0m\u001b[1;33m\u001b[0m\u001b[0m\n\u001b[1;32m--> 757\u001b[1;33m                 \u001b[1;32mraise\u001b[0m \u001b[0mexception\u001b[0m\u001b[1;33m\u001b[0m\u001b[0m\n\u001b[0m\u001b[0;32m    758\u001b[0m \u001b[1;33m\u001b[0m\u001b[0m\n\u001b[0;32m    759\u001b[0m     \u001b[1;32mdef\u001b[0m \u001b[0m__call__\u001b[0m\u001b[1;33m(\u001b[0m\u001b[0mself\u001b[0m\u001b[1;33m,\u001b[0m \u001b[0miterable\u001b[0m\u001b[1;33m)\u001b[0m\u001b[1;33m:\u001b[0m\u001b[1;33m\u001b[0m\u001b[0m\n",
      "\u001b[1;31mKeyboardInterrupt\u001b[0m: "
     ]
    }
   ],
   "source": [
    "start_time = time.time()\n",
    "\n",
    "X_train,X_test,y_train ,y_test = train_test_split(X,y, test_size=0.2, random_state=42)\n",
    "\n",
    "param_grid = { 'alpha': [1e-1,5*1e-2,1e-2],\n",
    "              'hidden_layer_sizes':[(50,),(15,5)],\n",
    "              'learning_rate': ['adaptive',\"invscaling\"],\n",
    "              \"algorithm\": ['adam'],'momentum': [1e-2, 1e-1, 0.5],\n",
    "  'power_t': [1e-3, 5*1e-4, 1e-5], 'activation':['logistic','relu']\n",
    " }\n",
    "\n",
    "mlp = MLPClassifier(shuffle=True, \n",
    "                 verbose=True)\n",
    "\n",
    "clf =GridSearchCV(mlp, param_grid, scoring='roc_auc', fit_params=None, n_jobs=4, iid=True, refit=True, \n",
    "verbose=3, pre_dispatch='2*n_jobs', error_score='raise')\n",
    "\n",
    "clf.fit(X_train,y_train)\n",
    "\n",
    "predicted_proba = pd.DataFrame()\n",
    "predicted_proba['prob'] = clf.predict_proba(X_test).max(axis=1)\n",
    "predicted_proba['gt'] = y_test\n",
    "predicted_proba['class'] = clf.predict(X_test)\n",
    "\n",
    "threshold = 0.7\n",
    "ind = predicted_proba['prob']>threshold\n",
    "\n",
    "all_time =   time.time() - start_time\n",
    "\n",
    "print(classification_report(predicted_proba.loc[ind,'gt'].values,predicted_proba.loc[ind,'class'].values ))\n",
    "\n",
    "cv_result = pd.DataFrame(columns=['mean_score' ] + [key for key, value in clf.grid_scores_[0].parameters.items() ] )\n",
    "i=0\n",
    "for setup in clf.grid_scores_:\n",
    "    row = [clf.grid_scores_[i].mean_validation_score ] + [value for key, value in clf.grid_scores_[i].parameters.items() ]\n",
    "    cv_result.loc[i] = row\n",
    "    i+=1\n",
    "#este flag es basicamente para chequear que hayamos terminado nomas\n",
    "finished = True"
   ]
  },
  {
   "cell_type": "code",
   "execution_count": 1,
   "metadata": {
    "collapsed": true
   },
   "outputs": [
    {
     "ename": "NameError",
     "evalue": "name 'clf' is not defined",
     "output_type": "error",
     "traceback": [
      "\u001b[0;31m---------------------------------------------------------------------------\u001b[0m",
      "\u001b[0;31mNameError\u001b[0m                                 Traceback (most recent call last)",
      "\u001b[0;32m<ipython-input-1-2d39bdb4c6dd>\u001b[0m in \u001b[0;36m<module>\u001b[0;34m()\u001b[0m\n\u001b[0;32m----> 1\u001b[0;31m \u001b[0mclf\u001b[0m\u001b[0;34m.\u001b[0m\u001b[0mbest_estimator_\u001b[0m\u001b[0;34m\u001b[0m\u001b[0m\n\u001b[0m",
      "\u001b[0;31mNameError\u001b[0m: name 'clf' is not defined"
     ]
    }
   ],
   "source": [
    "clf.best_estimator_"
   ]
  },
  {
   "cell_type": "code",
   "execution_count": 52,
   "metadata": {},
   "outputs": [
    {
     "data": {
      "text/plain": [
       "alpha\n",
       "0.00     0.000007\n",
       "0.01     0.000007\n",
       "0.10     0.000007\n",
       "0.50     0.000007\n",
       "1.00     0.000007\n",
       "10.00    0.000007\n",
       "Name: mean_score, dtype: float64"
      ]
     },
     "execution_count": 52,
     "metadata": {},
     "output_type": "execute_result"
    }
   ],
   "source": [
    "# compare best parameters to tune\n",
    "coln=1\n",
    "cv_result.groupby(cv_result.columns[coln])['mean_score'].mean()\n",
    "cv_result.groupby(cv_result.columns[coln])['mean_score'].std()"
   ]
  },
  {
   "cell_type": "markdown",
   "metadata": {
    "collapsed": true
   },
   "source": [
    "### Results\n",
    "* activation = logistic es 10% mejor\n",
    "* alpha = 1e-2 el mejor \n",
    "* power_t = cuanto mas chico mejor, 1e-3 por lo menos\n",
    "* hidden_layer_size = menos layers es mejor..?\n",
    "* power_t = parecen ser practicamente iguales\n",
    "* n_iter = cuanto mas iter NO mejora el score"
   ]
  },
  {
   "cell_type": "code",
   "execution_count": null,
   "metadata": {
    "collapsed": true
   },
   "outputs": [],
   "source": []
  },
  {
   "cell_type": "code",
   "execution_count": null,
   "metadata": {
    "collapsed": true
   },
   "outputs": [],
   "source": []
  },
  {
   "cell_type": "markdown",
   "metadata": {},
   "source": [
    "## Bernoulli RBM features selection & Logit crossval"
   ]
  },
  {
   "cell_type": "code",
   "execution_count": 127,
   "metadata": {
    "scrolled": true
   },
   "outputs": [
    {
     "ename": "KeyboardInterrupt",
     "evalue": "",
     "output_type": "error",
     "traceback": [
      "\u001b[1;31m---------------------------------------------------------------------------\u001b[0m",
      "\u001b[1;31mKeyboardInterrupt\u001b[0m                         Traceback (most recent call last)",
      "\u001b[1;32m<ipython-input-127-8675e4c7d9ab>\u001b[0m in \u001b[0;36m<module>\u001b[1;34m()\u001b[0m\n\u001b[0;32m     39\u001b[0m verbose=0, pre_dispatch='2*n_jobs', error_score='raise')\n\u001b[0;32m     40\u001b[0m \u001b[1;33m\u001b[0m\u001b[0m\n\u001b[1;32m---> 41\u001b[1;33m \u001b[0mclf\u001b[0m\u001b[1;33m.\u001b[0m\u001b[0mfit\u001b[0m\u001b[1;33m(\u001b[0m\u001b[0mX_train\u001b[0m\u001b[1;33m,\u001b[0m\u001b[0my_train\u001b[0m\u001b[1;33m)\u001b[0m\u001b[1;33m\u001b[0m\u001b[0m\n\u001b[0m\u001b[0;32m     42\u001b[0m \u001b[1;33m\u001b[0m\u001b[0m\n\u001b[0;32m     43\u001b[0m \u001b[1;31m#este metodo NO tiene predicted proba, lo que hacemos es recorrer\u001b[0m\u001b[1;33m\u001b[0m\u001b[1;33m\u001b[0m\u001b[0m\n",
      "\u001b[1;32m/home/teo/Repositories/scikit-learn/sklearn/grid_search.pyc\u001b[0m in \u001b[0;36mfit\u001b[1;34m(self, X, y)\u001b[0m\n\u001b[0;32m    809\u001b[0m \u001b[1;33m\u001b[0m\u001b[0m\n\u001b[0;32m    810\u001b[0m         \"\"\"\n\u001b[1;32m--> 811\u001b[1;33m         \u001b[1;32mreturn\u001b[0m \u001b[0mself\u001b[0m\u001b[1;33m.\u001b[0m\u001b[0m_fit\u001b[0m\u001b[1;33m(\u001b[0m\u001b[0mX\u001b[0m\u001b[1;33m,\u001b[0m \u001b[0my\u001b[0m\u001b[1;33m,\u001b[0m \u001b[0mParameterGrid\u001b[0m\u001b[1;33m(\u001b[0m\u001b[0mself\u001b[0m\u001b[1;33m.\u001b[0m\u001b[0mparam_grid\u001b[0m\u001b[1;33m)\u001b[0m\u001b[1;33m)\u001b[0m\u001b[1;33m\u001b[0m\u001b[0m\n\u001b[0m\u001b[0;32m    812\u001b[0m \u001b[1;33m\u001b[0m\u001b[0m\n\u001b[0;32m    813\u001b[0m \u001b[1;33m\u001b[0m\u001b[0m\n",
      "\u001b[1;32m/home/teo/Repositories/scikit-learn/sklearn/grid_search.pyc\u001b[0m in \u001b[0;36m_fit\u001b[1;34m(self, X, y, parameter_iterable)\u001b[0m\n\u001b[0;32m    558\u001b[0m                                     \u001b[0mself\u001b[0m\u001b[1;33m.\u001b[0m\u001b[0mfit_params\u001b[0m\u001b[1;33m,\u001b[0m \u001b[0mreturn_parameters\u001b[0m\u001b[1;33m=\u001b[0m\u001b[0mTrue\u001b[0m\u001b[1;33m,\u001b[0m\u001b[1;33m\u001b[0m\u001b[0m\n\u001b[0;32m    559\u001b[0m                                     error_score=self.error_score)\n\u001b[1;32m--> 560\u001b[1;33m                 \u001b[1;32mfor\u001b[0m \u001b[0mparameters\u001b[0m \u001b[1;32min\u001b[0m \u001b[0mparameter_iterable\u001b[0m\u001b[1;33m\u001b[0m\u001b[0m\n\u001b[0m\u001b[0;32m    561\u001b[0m                 for train, test in cv)\n\u001b[0;32m    562\u001b[0m \u001b[1;33m\u001b[0m\u001b[0m\n",
      "\u001b[1;32m/home/teo/Repositories/scikit-learn/sklearn/externals/joblib/parallel.pyc\u001b[0m in \u001b[0;36m__call__\u001b[1;34m(self, iterable)\u001b[0m\n\u001b[0;32m    808\u001b[0m                 \u001b[1;31m# consumption.\u001b[0m\u001b[1;33m\u001b[0m\u001b[1;33m\u001b[0m\u001b[0m\n\u001b[0;32m    809\u001b[0m                 \u001b[0mself\u001b[0m\u001b[1;33m.\u001b[0m\u001b[0m_iterating\u001b[0m \u001b[1;33m=\u001b[0m \u001b[0mFalse\u001b[0m\u001b[1;33m\u001b[0m\u001b[0m\n\u001b[1;32m--> 810\u001b[1;33m             \u001b[0mself\u001b[0m\u001b[1;33m.\u001b[0m\u001b[0mretrieve\u001b[0m\u001b[1;33m(\u001b[0m\u001b[1;33m)\u001b[0m\u001b[1;33m\u001b[0m\u001b[0m\n\u001b[0m\u001b[0;32m    811\u001b[0m             \u001b[1;31m# Make sure that we get a last message telling us we are done\u001b[0m\u001b[1;33m\u001b[0m\u001b[1;33m\u001b[0m\u001b[0m\n\u001b[0;32m    812\u001b[0m             \u001b[0melapsed_time\u001b[0m \u001b[1;33m=\u001b[0m \u001b[0mtime\u001b[0m\u001b[1;33m.\u001b[0m\u001b[0mtime\u001b[0m\u001b[1;33m(\u001b[0m\u001b[1;33m)\u001b[0m \u001b[1;33m-\u001b[0m \u001b[0mself\u001b[0m\u001b[1;33m.\u001b[0m\u001b[0m_start_time\u001b[0m\u001b[1;33m\u001b[0m\u001b[0m\n",
      "\u001b[1;32m/home/teo/Repositories/scikit-learn/sklearn/externals/joblib/parallel.pyc\u001b[0m in \u001b[0;36mretrieve\u001b[1;34m(self)\u001b[0m\n\u001b[0;32m    755\u001b[0m                     \u001b[1;31m# a working pool as they expect.\u001b[0m\u001b[1;33m\u001b[0m\u001b[1;33m\u001b[0m\u001b[0m\n\u001b[0;32m    756\u001b[0m                     \u001b[0mself\u001b[0m\u001b[1;33m.\u001b[0m\u001b[0m_initialize_pool\u001b[0m\u001b[1;33m(\u001b[0m\u001b[1;33m)\u001b[0m\u001b[1;33m\u001b[0m\u001b[0m\n\u001b[1;32m--> 757\u001b[1;33m                 \u001b[1;32mraise\u001b[0m \u001b[0mexception\u001b[0m\u001b[1;33m\u001b[0m\u001b[0m\n\u001b[0m\u001b[0;32m    758\u001b[0m \u001b[1;33m\u001b[0m\u001b[0m\n\u001b[0;32m    759\u001b[0m     \u001b[1;32mdef\u001b[0m \u001b[0m__call__\u001b[0m\u001b[1;33m(\u001b[0m\u001b[0mself\u001b[0m\u001b[1;33m,\u001b[0m \u001b[0miterable\u001b[0m\u001b[1;33m)\u001b[0m\u001b[1;33m:\u001b[0m\u001b[1;33m\u001b[0m\u001b[0m\n",
      "\u001b[1;31mKeyboardInterrupt\u001b[0m: "
     ]
    }
   ],
   "source": [
    "start_time = time.time()\n",
    "\n",
    "## obs. este metodo es especial y asume que todos los valores son True/False o que \\in [0,1]\n",
    "# luego tengo que pensar en como tomar los features nuevamente.\n",
    "# tampoco 'fittea' en la forma tradicional. Sino que se le puede tomar al y como un feature mas y esta red\n",
    "# va 'modificando' todos los valores del X (minimizando la entropia) para dar un output. Luego corriendo \n",
    "# clf.gibbs(X_test) con el y_test como feature tmb, nos transforma la data para ver el output como la 'prediccion'\n",
    "# obviamente no tiene probabilidades\n",
    "\n",
    "\n",
    "#X = X_train[X_cols].values\n",
    "#y = X_train['ground_truth'].values\n",
    "\n",
    "df = X_train.drop(X_train[X_train[X_train.columns[0:3]].\\\n",
    "                                   sum(axis=1)==0].index)\n",
    "df = df[X_cols + ['ground_truth']]\n",
    "\n",
    "for col in X_train.columns[0:3]:\n",
    "    df[col] = df[col]*1.0/df[df.columns[0:3]].sum(axis=1)\n",
    "\n",
    "df[df.columns[3]] =  df[df.columns[3]]/df[df.columns[3]].max()\n",
    "df[df.columns[4]] =  df[df.columns[4]]/df[df.columns[4]].max()\n",
    "\n",
    "X = df[df.columns[:-1]].values\n",
    "y = df['ground_truth'].values\n",
    "\n",
    "\n",
    "param_grid = {'rbm__n_components': [256, 128,46,10],\n",
    "   'rbm__n_iter':[15,10,5], 'rbm__learning_rate': [1e-4,1e-3,1e-2,1e-1,5*1e-3,5*1e-2,5*1e-1],\n",
    "  'rbm__batch_size': [10e4,3*10e3, 1e3, 300],\"logistic__C\": [1.0, 10.0, 100.0] \n",
    " }\n",
    "\n",
    "rbm = BernoulliRBM(verbose=True)\n",
    "logistic = LogisticRegression()\n",
    "classifier = Pipeline([(\"rbm\", rbm), (\"logistic\", logistic)])\n",
    "\n",
    "X_train,X_test,y_train ,y_test = train_test_split(X,y, test_size=0.2, random_state=42)\n",
    "\n",
    "clf =GridSearchCV(classifier, param_grid, scoring='roc_auc', fit_params=None, n_jobs=4, iid=True, refit=True, \n",
    "verbose=3, pre_dispatch='2*n_jobs', error_score='raise')\n",
    "\n",
    "clf.fit(X_train,y_train)\n",
    "\n",
    "#este metodo NO tiene predicted proba, lo que hacemos es recorrer \n",
    "#predicted_labels = rbm.gibbs(X_test)[:,-1]\n",
    "#real_labels = X_test[:,-1]\n",
    "#print(classification_report(real_labels,predicted_labels ))\n",
    "\n",
    "\n",
    "predicted_proba = pd.DataFrame()\n",
    "predicted_proba['prob'] = clf.predict_proba(X_test).max(axis=1)\n",
    "predicted_proba['gt'] = y_test\n",
    "predicted_proba['class'] = clf.predict(X_test)\n",
    "\n",
    "threshold = 0.7\n",
    "ind = predicted_proba['prob']>threshold\n",
    "print(classification_report(predicted_proba.loc[ind,'gt'].values,predicted_proba.loc[ind,'class'].values ))\n",
    "all_time =   time.time() - start_time\n",
    "\n",
    "finished = True\n",
    "\n",
    "cv_result = pd.DataFrame(columns=['mean_score' ] + [key for key, value in clf.grid_scores_[0].parameters.items() ] )\n",
    "i=0\n",
    "for setup in clf.grid_scores_:\n",
    "    row = [clf.grid_scores_[i].mean_validation_score ] + [value for key, value in clf.grid_scores_[i].parameters.items() ]\n",
    "    cv_result.loc[i] = row\n",
    "    i+=1\n",
    "    \n",
    "print('This cell took %s seconds to run' % all_time)\n"
   ]
  },
  {
   "cell_type": "code",
   "execution_count": null,
   "metadata": {
    "collapsed": true
   },
   "outputs": [],
   "source": [
    "coln=1\n",
    "print(cv_result.groupby(cv_result.columns[coln])['mean_score'].mean())\n",
    "print(cv_result.groupby(cv_result.columns[coln])['mean_score'].std())"
   ]
  },
  {
   "cell_type": "code",
   "execution_count": 23,
   "metadata": {
    "collapsed": true
   },
   "outputs": [
    {
     "name": "stdout",
     "output_type": "stream",
     "text": [
      "criterion\n",
      "gini    0.802919\n",
      "Name: mean_score, dtype: float64\n",
      "criterion\n",
      "gini    0.000598\n",
      "Name: mean_score, dtype: float64\n"
     ]
    }
   ],
   "source": [
    "coln=3\n",
    "print(cv_result.groupby(cv_result.columns[coln])['mean_score'].mean())\n",
    "print(cv_result.groupby(cv_result.columns[coln])['mean_score'].std())\n"
   ]
  },
  {
   "cell_type": "code",
   "execution_count": null,
   "metadata": {
    "collapsed": true
   },
   "outputs": [],
   "source": []
  },
  {
   "cell_type": "markdown",
   "metadata": {},
   "source": [
    "## CrossV SVC"
   ]
  },
  {
   "cell_type": "code",
   "execution_count": null,
   "metadata": {
    "collapsed": true
   },
   "outputs": [],
   "source": [
    "start_time = time.time()\n",
    "\n",
    "param_grid = [{'kernel': ['rbf'], 'gamma': list(10.0 ** np.arange(-2, 3)),\n",
    "                     'C': list(10.0 ** np.arange(0, 4))},\n",
    "                    {'kernel': ['poly'], 'C': list(10.0 ** np.arange(0, 4)), 'degree'[2,3,4]}]\n",
    "\n",
    "svc = SVC(shuffle=True, probability=True,decision_function_shape = 'ovr',\n",
    "           verbose=True, class_weight='balanced'\n",
    "          )\n",
    "\n",
    "clf =GridSearchCV(svc, param_grid, scoring='roc_auc', fit_params=None, n_jobs=4, iid=True, refit=True, \n",
    "verbose=3, pre_dispatch='2*n_jobs', error_score='raise')\n",
    "\n",
    "clf.fit(X_train,y_train)\n",
    "\n",
    "predicted_proba = pd.DataFrame()\n",
    "predicted_proba['prob'] = clf.predict_proba(X_test).max(axis=1)\n",
    "predicted_proba['gt'] = y_test\n",
    "predicted_proba['class'] = clf.predict(X_test)\n",
    "\n",
    "threshold = 0.7\n",
    "ind = predicted_proba['prob']>threshold\n",
    "\n",
    "all_time =   time.time() - start_time\n",
    "\n",
    "print(classification_report(predicted_proba.loc[ind,'gt'].values,predicted_proba.loc[ind,'class'].values ))\n",
    "\n",
    "cv_result = pd.DataFrame(columns=['mean_score' ] + [key for key, value in clf.grid_scores_[0].parameters.items() ] )\n",
    "i=0\n",
    "for setup in clf.grid_scores_:\n",
    "    row = [clf.grid_scores_[i].mean_validation_score ] + [value for key, value in clf.grid_scores_[i].parameters.items() ]\n",
    "    cv_result.loc[i] = row\n",
    "    i+=1\n",
    "#este flag es basicamente para chequear que hayamos terminado nomas\n",
    "finished = True"
   ]
  },
  {
   "cell_type": "code",
   "execution_count": null,
   "metadata": {
    "collapsed": true
   },
   "outputs": [],
   "source": [
    "coln=3\n",
    "print(cv_result.groupby(cv_result.columns[coln])['mean_score'].mean())\n",
    "print(cv_result.groupby(cv_result.columns[coln])['mean_score'].std())\n"
   ]
  },
  {
   "cell_type": "code",
   "execution_count": 214,
   "metadata": {
    "scrolled": true
   },
   "outputs": [
    {
     "name": "stdout",
     "output_type": "stream",
     "text": [
      "GradientBoosting took 117.26272392272949 seconds to run\n",
      "This cell took 117.26284193992615 seconds to run\n"
     ]
    }
   ],
   "source": [
    "#tomo tiempo para saber cuanto tarda fitear el estimador\n",
    "start_time = time.time()\n",
    "\n",
    "#model = model.fit(X,y,sample_weight=W)\n",
    "\n",
    "W = np.array([10 if i == 1 or i ==2  else 1 for i in y_mini])\n",
    "gradboost.fit(X_mini,y_mini, sample_weight=W)\n",
    "\n",
    "elapsed_time =   time.time() - start_time\n",
    "print('GradientBoosting took %s seconds to run' % elapsed_time)\n",
    "\n",
    "#validated =  cross_val_score(gradboost,X,y,cv=5, scoring = \"f1_weighted\")\n",
    "\n",
    "\n",
    "all_time =   time.time() - start_time\n",
    "print('This cell took %s seconds to run' % all_time)"
   ]
  },
  {
   "cell_type": "markdown",
   "metadata": {},
   "source": [
    "## Timings\n",
    "* 5s con  10 n_estimadores, 15 max_depth y X.sample(0.2)\n",
    "* 15s con 10 n_estimadores, 15 max_depth y X.sample(0.2)\n",
    "* 47s con 10 n_estimadores, 15 max_depth y X.sample(0.4)\n",
    "* 35s con 10 n_estimadores, 15 max_depth y X.sample(0.4)\n",
    "* 117 con 20 n_estimadores, 20 max_depth y X.sample(0.4)"
   ]
  },
  {
   "cell_type": "code",
   "execution_count": 31,
   "metadata": {},
   "outputs": [
    {
     "data": {
      "text/plain": [
       "0    128153\n",
       "1      7064\n",
       "Name: ground_truth, dtype: int64"
      ]
     },
     "execution_count": 31,
     "metadata": {},
     "output_type": "execute_result"
    }
   ],
   "source": [
    "X_train['ground_truth'].value_counts()"
   ]
  },
  {
   "cell_type": "code",
   "execution_count": null,
   "metadata": {
    "collapsed": true
   },
   "outputs": [],
   "source": []
  },
  {
   "cell_type": "markdown",
   "metadata": {},
   "source": [
    "### Results\n",
    "* NO escalar (normalizar, restar la media  dividir por la std, etc) los resultados pues REVIENTAN los scores.\n",
    "* bootstrap  = False es 5% mejor\n",
    "* min_samples_leaf = mas chico es claramente mejor, pero tmb aumenta el overfitting lo cual me hace caer mucho el valor del recall en el test_set. Sin embargo es un parametro muy sensible en la precision. Resta evaluar asi el tradeoff entre la precision y el volumen de users al cual queremos llegar.\n",
    "* n_estimators = aumentar mas de 30 no tendria mucho sentido\n",
    "* citerion = entropy o gini no cambia. gini podria ser mejor entonces pues entropy usa logs de los valores lo cual es mas computacionalmente costoso\n",
    "* max_features = no afecta al score. con auto esta bien\n",
    "* max_depth =  mas es mejor. intentaria probar con >15"
   ]
  },
  {
   "cell_type": "code",
   "execution_count": null,
   "metadata": {
    "collapsed": true
   },
   "outputs": [],
   "source": []
  },
  {
   "cell_type": "code",
   "execution_count": null,
   "metadata": {
    "collapsed": true
   },
   "outputs": [],
   "source": [
    "%%time\n",
    "#con decomposicion qr tratamos de ver si existe alguna columna que sea comb linear de las demas\n",
    "linear_test = np.linalg.qr(X_train.sample(1e6))[1]\n",
    "#notar que devuelve la tabla de tamanyo N`columnas x Ncolumnas\n",
    "\n",
    "#sumo a traves de las columnas para que me de el valor absoluto sumado de c/fila\n",
    "linear_test = abs(linear_test.sum(axis=1))<1e-2\n",
    "#si hubiese alguan que sea linearcomb entonces tendria que aparecer que toda la fila es de ceros\n",
    "for i, col in enumerate(X_train.columns):\n",
    "    if linear_test[i] == True:\n",
    "        print(col)"
   ]
  },
  {
   "cell_type": "code",
   "execution_count": null,
   "metadata": {
    "collapsed": true
   },
   "outputs": [],
   "source": []
  },
  {
   "cell_type": "code",
   "execution_count": null,
   "metadata": {
    "collapsed": true
   },
   "outputs": [],
   "source": []
  },
  {
   "cell_type": "markdown",
   "metadata": {
    "collapsed": true
   },
   "source": [
    "# Todo\n",
    "* evaluate hit_rate and \n",
    "* tune adaboost, bernoulliRBM\n",
    "* xgboost\n",
    "* libffm\n",
    "* SVC muy lento.. speed up in AWS\n"
   ]
  }
 ],
 "metadata": {
  "kernelspec": {
   "display_name": "Python 2",
   "language": "python",
   "name": "python2"
  },
  "language_info": {
   "codemirror_mode": {
    "name": "ipython",
    "version": 2
   },
   "file_extension": ".py",
   "mimetype": "text/x-python",
   "name": "python",
   "nbconvert_exporter": "python",
   "pygments_lexer": "ipython2",
   "version": "2.7.3"
  }
 },
 "nbformat": 4,
 "nbformat_minor": 1
}
