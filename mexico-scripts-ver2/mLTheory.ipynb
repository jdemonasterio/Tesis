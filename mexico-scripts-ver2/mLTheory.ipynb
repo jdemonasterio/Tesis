{
 "cells": [
  {
   "cell_type": "markdown",
   "metadata": {},
   "source": [
    "# Ipynb to \n",
    "\n",
    "graph and try out different \n",
    "\n",
    "ML concepts with a sample datasize.\n"
   ]
  },
  {
   "cell_type": "markdown",
   "metadata": {},
   "source": [
    "A partir de las 3 tablas ya procesdas : \n",
    "* homeantennas\n",
    "* sumlinks\n",
    "* groundtruth\n",
    "\n",
    "armames un datset para explorar conceptos de ML"
   ]
  },
  {
   "cell_type": "code",
   "execution_count": 3,
   "metadata": {},
   "outputs": [
    {
     "data": {
      "application/javascript": [
       "IPython.notebook.set_autosave_interval(180000)"
      ]
     },
     "metadata": {},
     "output_type": "display_data"
    },
    {
     "name": "stdout",
     "output_type": "stream",
     "text": [
      "Autosaving every 180 seconds\n"
     ]
    }
   ],
   "source": [
    "## seteamos los parametros del notebook\n",
    "%autosave 180\n",
    "import pandas as pd; \n",
    "import os;\n",
    "import random;\n",
    "import time\n",
    "import matplotlib.pyplot as plt\n",
    "%matplotlib inline\n",
    "import numpy as np; import os;import random;\n",
    "# import graphlab as gl\n",
    "from IPython.display import display # para pretty-print con estetica ipython si es que estamos dentro de  un loop, if, etc\n",
    "#esto es para dibujar directo a la notebook\n",
    "# gl.canvas.set_target('ipynb')\n",
    "\n",
    "# for nice graphics and plots\n",
    "import seaborn as sns\n",
    "palette = sns.color_palette()\n",
    "\n",
    "# for nice long graphic titles\n",
    "from textwrap import wrap\n",
    "\n",
    "#seteamos el lugar de trabajo\n",
    "HOMEDIR=os.path.expanduser('~')\n",
    "\n",
    "PROJECTDIR = os.getcwd().split(os.sep)\n",
    "PROJECTDIR =  os.sep.join(PROJECTDIR[:PROJECTDIR.index('mexico-scripts-ver2') + 1])\n",
    "\n",
    "DATADIR = os.path.join(PROJECTDIR,'datasets')\n",
    "\n",
    "DATADIR2 = os.path.join(PROJECTDIR,'data')\n",
    "# os.chdir(DATADIR)\n"
   ]
  },
  {
   "cell_type": "code",
   "execution_count": 4,
   "metadata": {},
   "outputs": [
    {
     "name": "stdout",
     "output_type": "stream",
     "text": [
      "data_balanced_sample.csv  gtruth_0215_0715  sl\r\n",
      "gtruth_0114_0715\t  homeant\t    sl.csv.gz\r\n"
     ]
    }
   ],
   "source": [
    "!ls $DATADIR"
   ]
  },
  {
   "cell_type": "code",
   "execution_count": 5,
   "metadata": {
    "collapsed": true
   },
   "outputs": [],
   "source": [
    "graphlab_frame = False\n",
    "# graphlab_frame = 'juan' in HOMEDIR\n",
    "\n",
    "def get_input_sframe(ds,graphlab_frame=graphlab_frame):\n",
    "    if graphlab_frame:\n",
    "        if ds == 'home_antenna': url = DATADIR +\"/homeant\"\n",
    "        elif ds == 'sum_links': url  = DATADIR +\"/sl\"\n",
    "        elif ds == 'gtruth_02': url  = DATADIR +\"/gtruth_0215_0715\" # can be near ground truth (previous to july 2015)\n",
    "        elif ds == 'gtruth_01': url  =  DATADIR +\"/gtruth_0114_0715\" # or can be old GT\n",
    "        else: print('type chosen is %s, type should be home_antenna, sum_links, gtruth_02 or gtruth_01' % ds)\n",
    "    else:\n",
    "        url = DATADIR + '/data_balanced_sample.csv'\n",
    "    return url "
   ]
  },
  {
   "cell_type": "code",
   "execution_count": 6,
   "metadata": {
    "collapsed": true
   },
   "outputs": [],
   "source": [
    "#from unbalanced_dataset import UnderSampler, NearMiss, CondensedNearestNeighbour, OneSidedSelection,\\\n",
    "#NeighbourhoodCleaningRule, TomekLinks, ClusterCentroids, OverSampler, SMOTE,\\\n",
    "#SMOTETomek, SMOTEENN, EasyEnsemble, BalanceCascade"
   ]
  },
  {
   "cell_type": "markdown",
   "metadata": {},
   "source": [
    "## decide if load a reduced size dataset"
   ]
  },
  {
   "cell_type": "code",
   "execution_count": 7,
   "metadata": {
    "collapsed": true
   },
   "outputs": [],
   "source": [
    "# set what is the resulting sample we want of the global dataset\n",
    "global_split = 0.25\n",
    "global_split = None\n",
    "\n",
    "# since we have 2 datets that will be later joined and which are going to be previously sampled, in the end this \n",
    "# independent sampling will result in that, after the join, the dataset will have a size of fraction given by \n",
    "# the `global_split` variable\n",
    "if global_split:\n",
    "    \n",
    "    seed = 2015\n",
    "    sample = pd.np.sqrt(global_split)\n",
    "    print(sample)"
   ]
  },
  {
   "cell_type": "code",
   "execution_count": 8,
   "metadata": {
    "scrolled": true
   },
   "outputs": [
    {
     "name": "stdout",
     "output_type": "stream",
     "text": [
      "CPU times: user 3.9 s, sys: 212 ms, total: 4.12 s\n",
      "Wall time: 4.68 s\n"
     ]
    }
   ],
   "source": [
    "%%time\n",
    "\n",
    "if graphlab_frame:\n",
    "    sf_table, _ = gl.load_sframe(get_input_sframe('home_antenna',graphlab_frame))\n",
    "    sl_table, _ = gl.load_sframe(get_input_sframe('sum_links',graphlab_frame))\n",
    "    # no need to sample the gt table since it is very small in memory\n",
    "    gt_table = gl.load_sframe(get_input_sframe('gtruth_01',graphlab_frame))\n",
    "\n",
    "    if global_split:\n",
    "\n",
    "        sf_table, _ = sf_table.random_split(sample,seed=seed)\n",
    "        sl_table, _ = sl_table.random_split(sample,seed=seed)\n",
    "\n",
    "\n",
    "    rename_gt = (dict([(col,col+\"_gt\") for col in gt_table.column_names() if col != 'USER']))\n",
    "\n",
    "    #agrego la etiqueta \"_gt\" a las columnas del ground_truth\n",
    "    gt_table.rename(rename_gt) \n",
    "else:\n",
    "    data = pd.read_csv(get_input_sframe('sum_links',graphlab_frame))"
   ]
  },
  {
   "cell_type": "code",
   "execution_count": 9,
   "metadata": {},
   "outputs": [
    {
     "name": "stdout",
     "output_type": "stream",
     "text": [
      "(153010, 176)\n"
     ]
    }
   ],
   "source": [
    "if graphlab_frame:\n",
    "    print(sf_table.shape, sl_table.shape, gt_table.shape)\n",
    "else:\n",
    "    print(data.shape)"
   ]
  },
  {
   "cell_type": "markdown",
   "metadata": {},
   "source": [
    "## simple format description"
   ]
  },
  {
   "cell_type": "markdown",
   "metadata": {},
   "source": [
    "Aca miramos las top 10 antenas que utilizo un usuario, ordeandas de 0 a 10 segun el uso, en numero de llamados, que el user le daba a c. antenna. _0_ Seria la antenna mas utilizada y _10_ la menos utilizada. El count es la cantidad de veces que utilizo esa antenna. \n",
    "\n",
    "Cuando aparece _WEEKNIGHT_ en el nombre de la columna, es porque cumple la condicion de que los llamados fueron hechos de noche fuera del horario [8,20] y dentro de la semana laboral.\n",
    "\n",
    "Siguiendo las definiciones del trabajo de Caro, un user es _EPIDEMIC_ siii su ANTENNA_WEEKNIGHT_0 (esta es la home_antenna) pertence a la zona epidemica.\n",
    "\n",
    "El mobility_diameter es el radio de las antennas (0 si uso una sola, etc.) utilizadas por este user. Nuevamente el modificador _WEEKNIGHT_ solo aplica para antennas utilizadas en esos horarios."
   ]
  },
  {
   "cell_type": "code",
   "execution_count": 10,
   "metadata": {
    "scrolled": true
   },
   "outputs": [
    {
     "name": "stdout",
     "output_type": "stream",
     "text": [
      "Index([u'USER', u'COUNT_0', u'COUNT_1', u'COUNT_2', u'COUNT_3', u'COUNT_4',\n",
      "       u'COUNT_5', u'COUNT_6', u'COUNT_7', u'COUNT_8',\n",
      "       ...\n",
      "       u'TimeWeekDay_IN_11', u'CallsWeekEnd_IN_11', u'TimeWeekNight_IN_11',\n",
      "       u'TimeWeekEnd_IN_VUL_11', u'CallsWeekDay_IN_VUL_11',\n",
      "       u'CallsWeekNight_IN_VUL_11', u'TimeWeekDay_IN_VUL_11',\n",
      "       u'CallsWeekEnd_IN_VUL_11', u'TimeWeekNight_IN_VUL_11',\n",
      "       u'VULNERABLE_IN_11'],\n",
      "      dtype='object', length=176)\n"
     ]
    }
   ],
   "source": [
    "# column names\n",
    "if graphlab_frame:\n",
    "    print(sf_table.column_names())\n",
    "else:\n",
    "    print(data.columns)"
   ]
  },
  {
   "cell_type": "markdown",
   "metadata": {},
   "source": [
    "## sum links description\n",
    "\n",
    "La tabla sum_links tiene mas atributos y con data mas rica en informacion:\n",
    "    \n",
    "Esencialmente para c/ user miramos la cantidad de llamados y el tiempo que duraron esos llamados pero segmentando con distintos modificadores. `Time` representa la duracion del llamado y Calls el conteo de llamados.\n",
    "\n",
    "Los modficadores/ segmentaciones son:\n",
    "\n",
    "* mes en el cual estamos parados (12 == diciembre, ..., 08 == agosto)\n",
    "* OUT/IN, separa por la direccion de los llamados si salientes u entrantes.\n",
    "* _VULN_ : separa los llamados que fueron realizados hacia/desde un target_user (en una llamada hay 2 usuarios, el origin o el target) viviendo en una zona epidemica. Donde la home antena de un target_user determina su vulnerabilidad segun si es zona epidemica o no.\n",
    "* Weekend, WeekDay y WeekNight son lo que suenan. Weekend el finde, Weeknight la semana pero fuera de horario laboral y Weekday en horario laboral y de lunes a viernes.\n",
    "\n",
    "Hay solo una columna que no entra enteramente en este esquema que es VULNERABLE. Esta columna hace un conteo p/c/ usuario d cuantos target_users viven en una zona epidemica. Tambien se segmenta esta columna con los modficiadores anteriores (el mes y el out/in)."
   ]
  },
  {
   "cell_type": "code",
   "execution_count": 11,
   "metadata": {
    "collapsed": true,
    "scrolled": true
   },
   "outputs": [],
   "source": [
    "# column names\n",
    "if graphlab_frame:\n",
    "    print(sl_table.column_names())"
   ]
  },
  {
   "cell_type": "markdown",
   "metadata": {},
   "source": [
    "# Para la\n",
    "tabla gt (ground_truth) es mas simple la explicacion. Solo se busco el antenna_ID_0 (nuevamente la antenna mas utilizada) por un user"
   ]
  },
  {
   "cell_type": "code",
   "execution_count": 12,
   "metadata": {
    "collapsed": true,
    "scrolled": true
   },
   "outputs": [],
   "source": [
    "if graphlab_frame:\n",
    "    print(gt_table.head())"
   ]
  },
  {
   "cell_type": "code",
   "execution_count": null,
   "metadata": {
    "collapsed": true
   },
   "outputs": [],
   "source": []
  },
  {
   "cell_type": "markdown",
   "metadata": {},
   "source": [
    "# We need antennas metadata\n",
    "to get the epidemicity of each antenna and add that info to the dataset"
   ]
  },
  {
   "cell_type": "code",
   "execution_count": 13,
   "metadata": {},
   "outputs": [
    {
     "data": {
      "text/plain": [
       "'/home/juan/mobility-study/mexico-scripts-ver2/data'"
      ]
     },
     "execution_count": 13,
     "metadata": {},
     "output_type": "execute_result"
    }
   ],
   "source": [
    "DATADIR2"
   ]
  },
  {
   "cell_type": "code",
   "execution_count": 14,
   "metadata": {},
   "outputs": [
    {
     "data": {
      "text/plain": [
       "'/home/juan/mobility-study/mexico-scripts-ver2/datasets'"
      ]
     },
     "execution_count": 14,
     "metadata": {},
     "output_type": "execute_result"
    }
   ],
   "source": [
    "DATADIR"
   ]
  },
  {
   "cell_type": "code",
   "execution_count": 15,
   "metadata": {
    "collapsed": true,
    "scrolled": true
   },
   "outputs": [],
   "source": [
    "#agregamos al gt su info de epidemicidad\n",
    "antennas_file = DATADIR2+'/celdas_limpio.csv'\n",
    "\n",
    "if graphlab_frame:\n",
    "    antennas = gl.SFrame.read_csv(antennas_file, \n",
    "                              delimiter= \"|\", \n",
    "                usecols=['LATITUDE','LONGITUDE','CEL_ID','STATE','EPIDEMIC'],\n",
    "                column_type_hints=[float, float, str,str, bool]\n",
    "                            )\n",
    "else:\n",
    "    antennas = pd.read_csv(antennas_file,sep='|')\n"
   ]
  },
  {
   "cell_type": "code",
   "execution_count": 16,
   "metadata": {},
   "outputs": [
    {
     "name": "stdout",
     "output_type": "stream",
     "text": [
      "CPU times: user 0 ns, sys: 0 ns, total: 0 ns\n",
      "Wall time: 5.01 µs\n"
     ]
    }
   ],
   "source": [
    "%%time\n",
    "# enriquecemos la data de gt con info de epidemicidad\n",
    "if graphlab_frame:\n",
    "    # agrego tambien data de epidemicidad al simpleformat table\n",
    "    sf_table = sf_table.join(antennas['CEL_ID','EPIDEMIC','STATE'], \n",
    "                             on = {'ANTENNA_ID_WEEKNIGHT_0':'CEL_ID'},\n",
    "                             how = 'left')\n",
    "    gt_table = gt_table.join(antennas['CEL_ID','EPIDEMIC','STATE'], \n",
    "                             on = {'ANTENNA_ID_WEEKNIGHT_0_gt':'CEL_ID'},\n",
    "                             how = 'left')\n",
    "\n",
    "    gt_table.rename({'EPIDEMIC':'EPIDEMIC_gt'});"
   ]
  },
  {
   "cell_type": "code",
   "execution_count": null,
   "metadata": {
    "collapsed": true
   },
   "outputs": [],
   "source": []
  },
  {
   "cell_type": "markdown",
   "metadata": {},
   "source": [
    "# create data matrix"
   ]
  },
  {
   "cell_type": "code",
   "execution_count": 17,
   "metadata": {
    "scrolled": true
   },
   "outputs": [
    {
     "name": "stdout",
     "output_type": "stream",
     "text": [
      "(153010, 176)\n",
      "CPU times: user 0 ns, sys: 0 ns, total: 0 ns\n",
      "Wall time: 558 µs\n"
     ]
    }
   ],
   "source": [
    "%%time\n",
    "if graphlab_frame:\n",
    "    data = sl_table.join(gt_table['USER','EPIDEMIC_gt'], on = 'USER', how = 'inner')\n",
    "    data = data.join(sf_table, on = 'USER', how = 'inner')\n",
    "    #no podemos tener nulls en el target asi que dropeamos\n",
    "    data = data.dropna(columns = ['EPIDEMIC_gt'], how='any')\n",
    "    del sl_table, sf_table, gt_table\n",
    "\n",
    "print(data.shape)\n"
   ]
  },
  {
   "cell_type": "code",
   "execution_count": 18,
   "metadata": {},
   "outputs": [
    {
     "data": {
      "text/plain": [
       "(51709, 47344)"
      ]
     },
     "execution_count": 18,
     "metadata": {},
     "output_type": "execute_result"
    }
   ],
   "source": [
    "data['EPIDEMIC_gt'].sum(),data['EPIDEMIC'].sum()"
   ]
  },
  {
   "cell_type": "code",
   "execution_count": 19,
   "metadata": {
    "collapsed": true,
    "scrolled": true
   },
   "outputs": [],
   "source": [
    "# data.query('EPIDEMIC==0  ').STATE.value_counts()"
   ]
  },
  {
   "cell_type": "code",
   "execution_count": null,
   "metadata": {
    "collapsed": true
   },
   "outputs": [],
   "source": []
  },
  {
   "cell_type": "markdown",
   "metadata": {
    "collapsed": true
   },
   "source": [
    "## preparamos los datasets que no pueden tomar valores negativos o categorical vars"
   ]
  },
  {
   "cell_type": "markdown",
   "metadata": {},
   "source": [
    "# train test split as \n",
    "p% of set as validation and the resulting  as train"
   ]
  },
  {
   "cell_type": "code",
   "execution_count": 20,
   "metadata": {
    "collapsed": true
   },
   "outputs": [],
   "source": [
    "split_perc = 0.9\n",
    "mask = pd.np.random.rand(data.shape[0])< split_perc\n",
    "\n",
    "val_set = data[mask==0]\n",
    "data = data[mask==1]\n"
   ]
  },
  {
   "cell_type": "markdown",
   "metadata": {},
   "source": [
    "## define our real X variable and Y vars\n",
    "\n",
    "exclude/include features. Decide our problem (multi-target, single_target)"
   ]
  },
  {
   "cell_type": "markdown",
   "metadata": {},
   "source": [
    "## in our  X features..\n",
    "\n",
    "determine which columns have no meaning.\n",
    "\n",
    "we are going to try different models"
   ]
  },
  {
   "cell_type": "code",
   "execution_count": 21,
   "metadata": {
    "scrolled": true
   },
   "outputs": [
    {
     "data": {
      "text/plain": [
       "['USER',\n",
       " 'ANTENNA_ID_0',\n",
       " 'ANTENNA_ID_1',\n",
       " 'ANTENNA_ID_2',\n",
       " 'ANTENNA_ID_3',\n",
       " 'ANTENNA_ID_4',\n",
       " 'ANTENNA_ID_5',\n",
       " 'ANTENNA_ID_6',\n",
       " 'ANTENNA_ID_7',\n",
       " 'ANTENNA_ID_8',\n",
       " 'ANTENNA_ID_9',\n",
       " 'ANTENNA_ID_WEEKNIGHT_0',\n",
       " 'ANTENNA_ID_WEEKNIGHT_1',\n",
       " 'ANTENNA_ID_WEEKNIGHT_2',\n",
       " 'ANTENNA_ID_WEEKNIGHT_3',\n",
       " 'ANTENNA_ID_WEEKNIGHT_4',\n",
       " 'ANTENNA_ID_WEEKNIGHT_5',\n",
       " 'ANTENNA_ID_WEEKNIGHT_6',\n",
       " 'ANTENNA_ID_WEEKNIGHT_7',\n",
       " 'ANTENNA_ID_WEEKNIGHT_8',\n",
       " 'ANTENNA_ID_WEEKNIGHT_9']"
      ]
     },
     "execution_count": 21,
     "metadata": {},
     "output_type": "execute_result"
    }
   ],
   "source": [
    "if graphlab_frame: iterable=data.column_names()\n",
    "else: iterable=data.columns\n",
    "\n",
    "# this param will *force* the exclusion of these columns in the final X, no matter what.\n",
    "\n",
    "manual_exclude_cols = [     \n",
    "#     'EPIDEMIC',\n",
    "#      'EPIDEMIC_gt',\n",
    "#       'STATE',\n",
    "                ]\n",
    "\n",
    "comprehensive_exclude_cols = [col for col in iterable if col == 'USER' \n",
    "          or ('ANTENNA' in col) ]   \n",
    "                                \n",
    "exclude_cols = manual_exclude_cols + comprehensive_exclude_cols\n",
    "exclude_cols"
   ]
  },
  {
   "cell_type": "markdown",
   "metadata": {},
   "source": [
    "## first our Y vars\n",
    "\n",
    "define them with a set of different possible cases/problems to solve"
   ]
  },
  {
   "cell_type": "code",
   "execution_count": 35,
   "metadata": {
    "collapsed": true,
    "scrolled": true
   },
   "outputs": [],
   "source": [
    "case = 2\n",
    "\n",
    "## people that used to live in the endemic area\n",
    "if case ==0:\n",
    "    case_text = \"people that used to live in the endemic area\"\n",
    "    Y = data['EPIDEMIC_gt'] == 1\n",
    "    Y_val = val_set['EPIDEMIC_gt'] == 1\n",
    "    add_exclusion_cols =[     \n",
    "            #     'EPIDEMIC',\n",
    "                 'EPIDEMIC_gt',\n",
    "                  'STATE',\n",
    "                ]\n",
    "\n",
    "## people that used to live in the endemic area *and* migrated\n",
    "if case ==1:\n",
    "    case_text = \"people that used to live in the endemic area *and* migrated\"\n",
    "    Y = (data['EPIDEMIC_gt'] ==1) & (data['EPIDEMIC'] ==0)\n",
    "    Y_val = (val_set['EPIDEMIC_gt'] ==1) & (val_set['EPIDEMIC'] ==0)\n",
    "    add_exclusion_cols = [\n",
    "                        'EPIDEMIC',\n",
    "                          'STATE',\n",
    "                         'EPIDEMIC_gt',\n",
    "                    ]\n",
    "\n",
    "##  people that migrated in any direction\n",
    "if case ==2:\n",
    "    case_text = \"people that migrated in any direction\"\n",
    "    Y = data['EPIDEMIC_gt'] != data['EPIDEMIC']\n",
    "    Y_val = val_set['EPIDEMIC_gt'] != val_set['EPIDEMIC']\n",
    "    \n",
    "    add_exclusion_cols = [           \n",
    "            #     'EPIDEMIC',\n",
    "#                  'EPIDEMIC_gt',\n",
    "            #       'STATE',\n",
    "]\n",
    "\n",
    "    \n",
    "##  people that migrated in any direction, but are currently non-endemic\n",
    "if case ==3:\n",
    "    case_text = \"currently non_endemic, that used to live in the endemic area\"\n",
    "    \n",
    "    data = data[data['EPIDEMIC'] ==0]\n",
    "    val_set = val_set[val_set['EPIDEMIC'] ==0]\n",
    "\n",
    "    Y = (data['EPIDEMIC_gt'] ==1)\n",
    "    Y_val = (val_set['EPIDEMIC_gt'] ==1) \n",
    "    \n",
    "    add_exclusion_cols = [\n",
    "                'EPIDEMIC'\n",
    "                'EPIDEMIC_gt',\n",
    "            #     'STATE',\n",
    "         \n",
    "                         ]    \n",
    "    \n",
    "## people from the Mexico or DF states\n",
    "if case == 4:\n",
    "    case_text = \"people from the Mexico or DF states\"\n",
    "    Y = (data['STATE'] == 'Distrito_Federal') | (data['STATE'] == 'Mexico')\n",
    "    Y_val = (val_set['STATE'] == 'Distrito_Federal') | (val_set['STATE'] == 'Mexico')\n",
    "    \n",
    "    add_exclusion_cols = [\n",
    "                'EPIDEMIC',\n",
    "                'STATE',\n",
    "                ]\n",
    "                        \n",
    "## people with a HIGH present mobility (>1000 after looking at percentiles of the MOBILITY_DIAMTER)\n",
    "if case == 5:\n",
    "    val = 1000\n",
    "    case_text = \"people with a high mobility during present time (values > {} )\".format(val)\n",
    "    Y = (data['MOBILITY_DIAMETER'] > val) \n",
    "    Y_val = (val_set['MOBILITY_DIAMETER'] > val) \n",
    "    \n",
    "    add_exclusion_cols = [\n",
    "        \n",
    "        'MOBILITY_DIAMETER_WEEKNIGHT',\n",
    "        'MOBILITY_DIAMETER',\n",
    "    ]\n",
    "\n",
    "for col in add_exclusion_cols:\n",
    "    if not col in exclude_cols:\n",
    "        exclude_cols+=[col]"
   ]
  },
  {
   "cell_type": "code",
   "execution_count": 36,
   "metadata": {
    "collapsed": true
   },
   "outputs": [],
   "source": [
    "if graphlab_frame: iterable=data.column_names()\n",
    "else: iterable=data.columns"
   ]
  },
  {
   "cell_type": "code",
   "execution_count": 37,
   "metadata": {},
   "outputs": [
    {
     "data": {
      "text/plain": [
       "Index([u'COUNT_WEEKNIGHT_9', u'ANTENNA_ID_WEEKNIGHT_0',\n",
       "       u'ANTENNA_ID_WEEKNIGHT_1', u'ANTENNA_ID_WEEKNIGHT_2',\n",
       "       u'ANTENNA_ID_WEEKNIGHT_3', u'ANTENNA_ID_WEEKNIGHT_4',\n",
       "       u'ANTENNA_ID_WEEKNIGHT_5', u'ANTENNA_ID_WEEKNIGHT_6',\n",
       "       u'ANTENNA_ID_WEEKNIGHT_7', u'ANTENNA_ID_WEEKNIGHT_8',\n",
       "       u'ANTENNA_ID_WEEKNIGHT_9', u'MOBILITY_DIAMETER',\n",
       "       u'MOBILITY_DIAMETER_WEEKNIGHT', u'EPIDEMIC', u'STATE', u'EPIDEMIC_gt',\n",
       "       u'TimeWeekEnd_OUT_12', u'CallsWeekDay_OUT_12', u'CallsWeekNight_OUT_12',\n",
       "       u'TimeWeekDay_OUT_12', u'CallsWeekEnd_OUT_12', u'TimeWeekNight_OUT_12',\n",
       "       u'TimeWeekEnd_OUT_VUL_12', u'CallsWeekDay_OUT_VUL_12',\n",
       "       u'CallsWeekNight_OUT_VUL_12', u'TimeWeekDay_OUT_VUL_12',\n",
       "       u'CallsWeekEnd_OUT_VUL_12', u'TimeWeekNight_OUT_VUL_12',\n",
       "       u'VULNERABLE_OUT_12', u'TimeWeekEnd_IN_12'],\n",
       "      dtype='object')"
      ]
     },
     "execution_count": 37,
     "metadata": {},
     "output_type": "execute_result"
    }
   ],
   "source": [
    "width = 30\n",
    "N= pd.np.random.randint(1,int(iterable.shape[0]*1.0/width))\n",
    "data.columns[(N)*width: (N+1)*width]"
   ]
  },
  {
   "cell_type": "code",
   "execution_count": 38,
   "metadata": {},
   "outputs": [
    {
     "name": "stderr",
     "output_type": "stream",
     "text": [
      "/home/juan/mfixman/venv/lib/python2.7/site-packages/ipykernel_launcher.py:11: SettingWithCopyWarning: \n",
      "A value is trying to be set on a copy of a slice from a DataFrame.\n",
      "Try using .loc[row_indexer,col_indexer] = value instead\n",
      "\n",
      "See the caveats in the documentation: http://pandas.pydata.org/pandas-docs/stable/indexing.html#indexing-view-versus-copy\n",
      "  # This is added back by InteractiveShellApp.init_path()\n",
      "/home/juan/mfixman/venv/lib/python2.7/site-packages/ipykernel_launcher.py:12: SettingWithCopyWarning: \n",
      "A value is trying to be set on a copy of a slice from a DataFrame.\n",
      "Try using .loc[row_indexer,col_indexer] = value instead\n",
      "\n",
      "See the caveats in the documentation: http://pandas.pydata.org/pandas-docs/stable/indexing.html#indexing-view-versus-copy\n",
      "  if sys.path[0] == '':\n"
     ]
    },
    {
     "name": "stdout",
     "output_type": "stream",
     "text": [
      "CPU times: user 3.46 s, sys: 88 ms, total: 3.55 s\n",
      "Wall time: 3.77 s\n"
     ]
    }
   ],
   "source": [
    "%%time\n",
    "\n",
    "X = data[[col for col in iterable if col not in exclude_cols]]\n",
    "\n",
    "X_val = val_set[[col for col in iterable if col not in exclude_cols]]\n",
    "\n",
    "if graphlab_frame: iterable=X.column_names()\n",
    "else: iterable=X.columns\n",
    "    \n",
    "# clean negative/Null vals in count cols \n",
    "for col in [col for col in iterable if 'COUNT' in col]:\n",
    "    X[col]= X[col].apply(lambda x :  x if x>=0 else 0)\n",
    "    X_val[col]= X_val[col].apply(lambda x :  x if x>=0 else 0)\n",
    "\n"
   ]
  },
  {
   "cell_type": "code",
   "execution_count": 39,
   "metadata": {},
   "outputs": [
    {
     "data": {
      "text/plain": [
       "((137978, 155), (137978,))"
      ]
     },
     "execution_count": 39,
     "metadata": {},
     "output_type": "execute_result"
    }
   ],
   "source": [
    "X.shape, Y.shape"
   ]
  },
  {
   "cell_type": "markdown",
   "metadata": {},
   "source": [
    "## dummy-ize categorical cols\n",
    "if necessary"
   ]
  },
  {
   "cell_type": "code",
   "execution_count": 40,
   "metadata": {
    "collapsed": true
   },
   "outputs": [],
   "source": [
    "if graphlab_frame: iterable=X.column_names()\n",
    "else: iterable=X.columns\n"
   ]
  },
  {
   "cell_type": "code",
   "execution_count": 41,
   "metadata": {
    "collapsed": true
   },
   "outputs": [],
   "source": [
    "# X.columns\n",
    "# [col for col in X.columns if 'STATE' in col]\n",
    "# [col for col in X_val.columns if 'STATE' in col]"
   ]
  },
  {
   "cell_type": "code",
   "execution_count": 42,
   "metadata": {
    "collapsed": true
   },
   "outputs": [],
   "source": [
    "categorical_cols = [\n",
    "    'STATE'\n",
    "]"
   ]
  },
  {
   "cell_type": "code",
   "execution_count": 43,
   "metadata": {
    "scrolled": true
   },
   "outputs": [
    {
     "name": "stdout",
     "output_type": "stream",
     "text": [
      "we are categorizing col STATE\n"
     ]
    },
    {
     "name": "stderr",
     "output_type": "stream",
     "text": [
      "/home/juan/mfixman/venv/lib/python2.7/site-packages/ipykernel_launcher.py:4: SettingWithCopyWarning: \n",
      "A value is trying to be set on a copy of a slice from a DataFrame.\n",
      "Try using .loc[row_indexer,col_indexer] = value instead\n",
      "\n",
      "See the caveats in the documentation: http://pandas.pydata.org/pandas-docs/stable/indexing.html#indexing-view-versus-copy\n",
      "  after removing the cwd from sys.path.\n",
      "/home/juan/mfixman/venv/lib/python2.7/site-packages/ipykernel_launcher.py:16: SettingWithCopyWarning: \n",
      "A value is trying to be set on a copy of a slice from a DataFrame.\n",
      "Try using .loc[row_indexer,col_indexer] = value instead\n",
      "\n",
      "See the caveats in the documentation: http://pandas.pydata.org/pandas-docs/stable/indexing.html#indexing-view-versus-copy\n",
      "  app.launch_new_instance()\n"
     ]
    }
   ],
   "source": [
    "for col in categorical_cols:\n",
    "    if col not in exclude_cols:\n",
    "        print('we are categorizing col %s' %col)\n",
    "        X[col] = X[col].astype('category')\n",
    "    #     if X[col].dtype != 'category':\n",
    "    #         continue \n",
    "        X = pd.concat([X,pd.get_dummies(X[col], \n",
    "                                          prefix= col, \n",
    "                                          prefix_sep='_', \n",
    "                                          #sparse = True,\n",
    "                                          dummy_na=False).astype(pd.np.int8)],\\\n",
    "                  axis=1 ,join = 'inner')\n",
    "        X.drop(col, axis =1 , inplace=True)\n",
    "\n",
    "        # now onto test_table\n",
    "        X_val[col] = X_val[col].astype('category')\n",
    "        X_val = pd.concat([X_val,pd.get_dummies(X_val[col], \n",
    "                                          prefix= col, \n",
    "                                          prefix_sep='_', \n",
    "                                          #sparse = True,\n",
    "                                          dummy_na=False).astype(pd.np.int8)],\\\n",
    "                  axis=1 ,join = 'inner')\n",
    "\n",
    "        X_val.drop(col, axis =1 , inplace=True)\n"
   ]
  },
  {
   "cell_type": "markdown",
   "metadata": {},
   "source": [
    "## explore correlations to target var\n",
    "\n",
    "with current column configuration"
   ]
  },
  {
   "cell_type": "code",
   "execution_count": 44,
   "metadata": {},
   "outputs": [
    {
     "data": {
      "text/plain": [
       "(187, 187)"
      ]
     },
     "execution_count": 44,
     "metadata": {},
     "output_type": "execute_result"
    }
   ],
   "source": [
    "corr = pd.DataFrame(X).copy()\n",
    "target_col = 'target'\n",
    "corr[target_col] = Y\n",
    "corr = corr.corr()\n",
    "corr.shape"
   ]
  },
  {
   "cell_type": "code",
   "execution_count": 45,
   "metadata": {},
   "outputs": [
    {
     "data": {
      "text/html": [
       "<div>\n",
       "<style>\n",
       "    .dataframe thead tr:only-child th {\n",
       "        text-align: right;\n",
       "    }\n",
       "\n",
       "    .dataframe thead th {\n",
       "        text-align: left;\n",
       "    }\n",
       "\n",
       "    .dataframe tbody tr th {\n",
       "        vertical-align: top;\n",
       "    }\n",
       "</style>\n",
       "<table border=\"1\" class=\"dataframe\">\n",
       "  <thead>\n",
       "    <tr style=\"text-align: right;\">\n",
       "      <th></th>\n",
       "      <th>MOBILITY_DIAMETER</th>\n",
       "      <th>MOBILITY_DIAMETER_WEEKNIGHT</th>\n",
       "      <th>EPIDEMIC</th>\n",
       "      <th>EPIDEMIC_gt</th>\n",
       "      <th>VULNERABLE_OUT_12</th>\n",
       "      <th>VULNERABLE_IN_12</th>\n",
       "      <th>VULNERABLE_OUT_08</th>\n",
       "      <th>VULNERABLE_IN_08</th>\n",
       "      <th>VULNERABLE_OUT_09</th>\n",
       "      <th>VULNERABLE_IN_09</th>\n",
       "      <th>VULNERABLE_OUT_10</th>\n",
       "      <th>VULNERABLE_IN_10</th>\n",
       "      <th>VULNERABLE_OUT_11</th>\n",
       "      <th>VULNERABLE_IN_11</th>\n",
       "      <th>target</th>\n",
       "    </tr>\n",
       "  </thead>\n",
       "  <tbody>\n",
       "    <tr>\n",
       "      <th>MOBILITY_DIAMETER</th>\n",
       "      <td>1.000000</td>\n",
       "      <td>0.715785</td>\n",
       "      <td>-0.003945</td>\n",
       "      <td>0.014296</td>\n",
       "      <td>0.037268</td>\n",
       "      <td>0.038297</td>\n",
       "      <td>0.009403</td>\n",
       "      <td>0.011983</td>\n",
       "      <td>0.012433</td>\n",
       "      <td>0.015307</td>\n",
       "      <td>0.023347</td>\n",
       "      <td>0.025225</td>\n",
       "      <td>0.026690</td>\n",
       "      <td>0.029336</td>\n",
       "      <td>0.154510</td>\n",
       "    </tr>\n",
       "    <tr>\n",
       "      <th>MOBILITY_DIAMETER_WEEKNIGHT</th>\n",
       "      <td>0.715785</td>\n",
       "      <td>1.000000</td>\n",
       "      <td>-0.004830</td>\n",
       "      <td>0.015718</td>\n",
       "      <td>0.066160</td>\n",
       "      <td>0.064305</td>\n",
       "      <td>0.037523</td>\n",
       "      <td>0.039123</td>\n",
       "      <td>0.042406</td>\n",
       "      <td>0.043005</td>\n",
       "      <td>0.055744</td>\n",
       "      <td>0.054169</td>\n",
       "      <td>0.058903</td>\n",
       "      <td>0.059001</td>\n",
       "      <td>0.141488</td>\n",
       "    </tr>\n",
       "    <tr>\n",
       "      <th>EPIDEMIC</th>\n",
       "      <td>-0.003945</td>\n",
       "      <td>-0.004830</td>\n",
       "      <td>1.000000</td>\n",
       "      <td>0.439833</td>\n",
       "      <td>0.497319</td>\n",
       "      <td>0.494694</td>\n",
       "      <td>0.536371</td>\n",
       "      <td>0.538411</td>\n",
       "      <td>0.529397</td>\n",
       "      <td>0.527918</td>\n",
       "      <td>0.521953</td>\n",
       "      <td>0.516863</td>\n",
       "      <td>0.517026</td>\n",
       "      <td>0.517551</td>\n",
       "      <td>0.164076</td>\n",
       "    </tr>\n",
       "    <tr>\n",
       "      <th>EPIDEMIC_gt</th>\n",
       "      <td>0.014296</td>\n",
       "      <td>0.015718</td>\n",
       "      <td>0.439833</td>\n",
       "      <td>1.000000</td>\n",
       "      <td>0.503275</td>\n",
       "      <td>0.501030</td>\n",
       "      <td>0.553516</td>\n",
       "      <td>0.556578</td>\n",
       "      <td>0.535707</td>\n",
       "      <td>0.538601</td>\n",
       "      <td>0.520675</td>\n",
       "      <td>0.519689</td>\n",
       "      <td>0.514406</td>\n",
       "      <td>0.518411</td>\n",
       "      <td>0.265702</td>\n",
       "    </tr>\n",
       "    <tr>\n",
       "      <th>VULNERABLE_OUT_12</th>\n",
       "      <td>0.037268</td>\n",
       "      <td>0.066160</td>\n",
       "      <td>0.497319</td>\n",
       "      <td>0.503275</td>\n",
       "      <td>1.000000</td>\n",
       "      <td>0.850494</td>\n",
       "      <td>0.675247</td>\n",
       "      <td>0.668012</td>\n",
       "      <td>0.705926</td>\n",
       "      <td>0.695814</td>\n",
       "      <td>0.746994</td>\n",
       "      <td>0.734306</td>\n",
       "      <td>0.782372</td>\n",
       "      <td>0.770537</td>\n",
       "      <td>0.195114</td>\n",
       "    </tr>\n",
       "    <tr>\n",
       "      <th>VULNERABLE_IN_12</th>\n",
       "      <td>0.038297</td>\n",
       "      <td>0.064305</td>\n",
       "      <td>0.494694</td>\n",
       "      <td>0.501030</td>\n",
       "      <td>0.850494</td>\n",
       "      <td>1.000000</td>\n",
       "      <td>0.667544</td>\n",
       "      <td>0.673078</td>\n",
       "      <td>0.697240</td>\n",
       "      <td>0.704027</td>\n",
       "      <td>0.736680</td>\n",
       "      <td>0.745467</td>\n",
       "      <td>0.769155</td>\n",
       "      <td>0.780544</td>\n",
       "      <td>0.192320</td>\n",
       "    </tr>\n",
       "    <tr>\n",
       "      <th>VULNERABLE_OUT_08</th>\n",
       "      <td>0.009403</td>\n",
       "      <td>0.037523</td>\n",
       "      <td>0.536371</td>\n",
       "      <td>0.553516</td>\n",
       "      <td>0.675247</td>\n",
       "      <td>0.667544</td>\n",
       "      <td>1.000000</td>\n",
       "      <td>0.852876</td>\n",
       "      <td>0.782459</td>\n",
       "      <td>0.766317</td>\n",
       "      <td>0.732880</td>\n",
       "      <td>0.720692</td>\n",
       "      <td>0.707799</td>\n",
       "      <td>0.697568</td>\n",
       "      <td>0.188274</td>\n",
       "    </tr>\n",
       "    <tr>\n",
       "      <th>VULNERABLE_IN_08</th>\n",
       "      <td>0.011983</td>\n",
       "      <td>0.039123</td>\n",
       "      <td>0.538411</td>\n",
       "      <td>0.556578</td>\n",
       "      <td>0.668012</td>\n",
       "      <td>0.673078</td>\n",
       "      <td>0.852876</td>\n",
       "      <td>1.000000</td>\n",
       "      <td>0.765804</td>\n",
       "      <td>0.776070</td>\n",
       "      <td>0.716975</td>\n",
       "      <td>0.726505</td>\n",
       "      <td>0.695999</td>\n",
       "      <td>0.704907</td>\n",
       "      <td>0.189714</td>\n",
       "    </tr>\n",
       "    <tr>\n",
       "      <th>VULNERABLE_OUT_09</th>\n",
       "      <td>0.012433</td>\n",
       "      <td>0.042406</td>\n",
       "      <td>0.529397</td>\n",
       "      <td>0.535707</td>\n",
       "      <td>0.705926</td>\n",
       "      <td>0.697240</td>\n",
       "      <td>0.782459</td>\n",
       "      <td>0.765804</td>\n",
       "      <td>1.000000</td>\n",
       "      <td>0.852478</td>\n",
       "      <td>0.780843</td>\n",
       "      <td>0.766148</td>\n",
       "      <td>0.745492</td>\n",
       "      <td>0.732956</td>\n",
       "      <td>0.180650</td>\n",
       "    </tr>\n",
       "    <tr>\n",
       "      <th>VULNERABLE_IN_09</th>\n",
       "      <td>0.015307</td>\n",
       "      <td>0.043005</td>\n",
       "      <td>0.527918</td>\n",
       "      <td>0.538601</td>\n",
       "      <td>0.695814</td>\n",
       "      <td>0.704027</td>\n",
       "      <td>0.766317</td>\n",
       "      <td>0.776070</td>\n",
       "      <td>0.852478</td>\n",
       "      <td>1.000000</td>\n",
       "      <td>0.763148</td>\n",
       "      <td>0.775414</td>\n",
       "      <td>0.732281</td>\n",
       "      <td>0.741032</td>\n",
       "      <td>0.181837</td>\n",
       "    </tr>\n",
       "  </tbody>\n",
       "</table>\n",
       "</div>"
      ],
      "text/plain": [
       "                             MOBILITY_DIAMETER  MOBILITY_DIAMETER_WEEKNIGHT  \\\n",
       "MOBILITY_DIAMETER                     1.000000                     0.715785   \n",
       "MOBILITY_DIAMETER_WEEKNIGHT           0.715785                     1.000000   \n",
       "EPIDEMIC                             -0.003945                    -0.004830   \n",
       "EPIDEMIC_gt                           0.014296                     0.015718   \n",
       "VULNERABLE_OUT_12                     0.037268                     0.066160   \n",
       "VULNERABLE_IN_12                      0.038297                     0.064305   \n",
       "VULNERABLE_OUT_08                     0.009403                     0.037523   \n",
       "VULNERABLE_IN_08                      0.011983                     0.039123   \n",
       "VULNERABLE_OUT_09                     0.012433                     0.042406   \n",
       "VULNERABLE_IN_09                      0.015307                     0.043005   \n",
       "\n",
       "                             EPIDEMIC  EPIDEMIC_gt  VULNERABLE_OUT_12  \\\n",
       "MOBILITY_DIAMETER           -0.003945     0.014296           0.037268   \n",
       "MOBILITY_DIAMETER_WEEKNIGHT -0.004830     0.015718           0.066160   \n",
       "EPIDEMIC                     1.000000     0.439833           0.497319   \n",
       "EPIDEMIC_gt                  0.439833     1.000000           0.503275   \n",
       "VULNERABLE_OUT_12            0.497319     0.503275           1.000000   \n",
       "VULNERABLE_IN_12             0.494694     0.501030           0.850494   \n",
       "VULNERABLE_OUT_08            0.536371     0.553516           0.675247   \n",
       "VULNERABLE_IN_08             0.538411     0.556578           0.668012   \n",
       "VULNERABLE_OUT_09            0.529397     0.535707           0.705926   \n",
       "VULNERABLE_IN_09             0.527918     0.538601           0.695814   \n",
       "\n",
       "                             VULNERABLE_IN_12  VULNERABLE_OUT_08  \\\n",
       "MOBILITY_DIAMETER                    0.038297           0.009403   \n",
       "MOBILITY_DIAMETER_WEEKNIGHT          0.064305           0.037523   \n",
       "EPIDEMIC                             0.494694           0.536371   \n",
       "EPIDEMIC_gt                          0.501030           0.553516   \n",
       "VULNERABLE_OUT_12                    0.850494           0.675247   \n",
       "VULNERABLE_IN_12                     1.000000           0.667544   \n",
       "VULNERABLE_OUT_08                    0.667544           1.000000   \n",
       "VULNERABLE_IN_08                     0.673078           0.852876   \n",
       "VULNERABLE_OUT_09                    0.697240           0.782459   \n",
       "VULNERABLE_IN_09                     0.704027           0.766317   \n",
       "\n",
       "                             VULNERABLE_IN_08  VULNERABLE_OUT_09  \\\n",
       "MOBILITY_DIAMETER                    0.011983           0.012433   \n",
       "MOBILITY_DIAMETER_WEEKNIGHT          0.039123           0.042406   \n",
       "EPIDEMIC                             0.538411           0.529397   \n",
       "EPIDEMIC_gt                          0.556578           0.535707   \n",
       "VULNERABLE_OUT_12                    0.668012           0.705926   \n",
       "VULNERABLE_IN_12                     0.673078           0.697240   \n",
       "VULNERABLE_OUT_08                    0.852876           0.782459   \n",
       "VULNERABLE_IN_08                     1.000000           0.765804   \n",
       "VULNERABLE_OUT_09                    0.765804           1.000000   \n",
       "VULNERABLE_IN_09                     0.776070           0.852478   \n",
       "\n",
       "                             VULNERABLE_IN_09  VULNERABLE_OUT_10  \\\n",
       "MOBILITY_DIAMETER                    0.015307           0.023347   \n",
       "MOBILITY_DIAMETER_WEEKNIGHT          0.043005           0.055744   \n",
       "EPIDEMIC                             0.527918           0.521953   \n",
       "EPIDEMIC_gt                          0.538601           0.520675   \n",
       "VULNERABLE_OUT_12                    0.695814           0.746994   \n",
       "VULNERABLE_IN_12                     0.704027           0.736680   \n",
       "VULNERABLE_OUT_08                    0.766317           0.732880   \n",
       "VULNERABLE_IN_08                     0.776070           0.716975   \n",
       "VULNERABLE_OUT_09                    0.852478           0.780843   \n",
       "VULNERABLE_IN_09                     1.000000           0.763148   \n",
       "\n",
       "                             VULNERABLE_IN_10  VULNERABLE_OUT_11  \\\n",
       "MOBILITY_DIAMETER                    0.025225           0.026690   \n",
       "MOBILITY_DIAMETER_WEEKNIGHT          0.054169           0.058903   \n",
       "EPIDEMIC                             0.516863           0.517026   \n",
       "EPIDEMIC_gt                          0.519689           0.514406   \n",
       "VULNERABLE_OUT_12                    0.734306           0.782372   \n",
       "VULNERABLE_IN_12                     0.745467           0.769155   \n",
       "VULNERABLE_OUT_08                    0.720692           0.707799   \n",
       "VULNERABLE_IN_08                     0.726505           0.695999   \n",
       "VULNERABLE_OUT_09                    0.766148           0.745492   \n",
       "VULNERABLE_IN_09                     0.775414           0.732281   \n",
       "\n",
       "                             VULNERABLE_IN_11    target  \n",
       "MOBILITY_DIAMETER                    0.029336  0.154510  \n",
       "MOBILITY_DIAMETER_WEEKNIGHT          0.059001  0.141488  \n",
       "EPIDEMIC                             0.517551  0.164076  \n",
       "EPIDEMIC_gt                          0.518411  0.265702  \n",
       "VULNERABLE_OUT_12                    0.770537  0.195114  \n",
       "VULNERABLE_IN_12                     0.780544  0.192320  \n",
       "VULNERABLE_OUT_08                    0.697568  0.188274  \n",
       "VULNERABLE_IN_08                     0.704907  0.189714  \n",
       "VULNERABLE_OUT_09                    0.732956  0.180650  \n",
       "VULNERABLE_IN_09                     0.741032  0.181837  "
      ]
     },
     "execution_count": 45,
     "metadata": {},
     "output_type": "execute_result"
    }
   ],
   "source": [
    "view = corr.query('target>0.1')\n",
    "# show only those columns which \n",
    "corr_columns = view.index.values\n",
    "\n",
    "view[corr_columns].head(10)"
   ]
  },
  {
   "cell_type": "code",
   "execution_count": null,
   "metadata": {
    "collapsed": true
   },
   "outputs": [],
   "source": []
  },
  {
   "cell_type": "code",
   "execution_count": 46,
   "metadata": {
    "scrolled": true
   },
   "outputs": [
    {
     "data": {
      "text/html": [
       "<div>\n",
       "<style>\n",
       "    .dataframe thead tr:only-child th {\n",
       "        text-align: right;\n",
       "    }\n",
       "\n",
       "    .dataframe thead th {\n",
       "        text-align: left;\n",
       "    }\n",
       "\n",
       "    .dataframe tbody tr th {\n",
       "        vertical-align: top;\n",
       "    }\n",
       "</style>\n",
       "<table border=\"1\" class=\"dataframe\">\n",
       "  <thead>\n",
       "    <tr style=\"text-align: right;\">\n",
       "      <th></th>\n",
       "      <th>STATE_Aguascalientes</th>\n",
       "      <th>STATE_Baja_California</th>\n",
       "      <th>STATE_Baja_California_Sur</th>\n",
       "      <th>STATE_Campeche</th>\n",
       "      <th>STATE_Chiapas</th>\n",
       "      <th>STATE_Chihuahua</th>\n",
       "      <th>STATE_Coahuila_de_Zaragoza</th>\n",
       "      <th>STATE_Colima</th>\n",
       "      <th>STATE_Distrito_Federal</th>\n",
       "      <th>STATE_Durango</th>\n",
       "      <th>...</th>\n",
       "      <th>STATE_San_Luis_Potosi</th>\n",
       "      <th>STATE_Sinaloa</th>\n",
       "      <th>STATE_Sonora</th>\n",
       "      <th>STATE_Tabasco</th>\n",
       "      <th>STATE_Tamaulipas</th>\n",
       "      <th>STATE_Tlaxcala</th>\n",
       "      <th>STATE_Veracruz</th>\n",
       "      <th>STATE_Yucatan</th>\n",
       "      <th>STATE_Zacatecas</th>\n",
       "      <th>target</th>\n",
       "    </tr>\n",
       "  </thead>\n",
       "  <tbody>\n",
       "    <tr>\n",
       "      <th>COUNT_WEEKNIGHT_2</th>\n",
       "      <td>0.001858</td>\n",
       "      <td>0.017464</td>\n",
       "      <td>0.010462</td>\n",
       "      <td>0.010913</td>\n",
       "      <td>0.002828</td>\n",
       "      <td>0.010746</td>\n",
       "      <td>0.000414</td>\n",
       "      <td>0.023018</td>\n",
       "      <td>0.021149</td>\n",
       "      <td>-0.000483</td>\n",
       "      <td>...</td>\n",
       "      <td>0.011250</td>\n",
       "      <td>0.016204</td>\n",
       "      <td>0.008146</td>\n",
       "      <td>-0.005059</td>\n",
       "      <td>-0.008536</td>\n",
       "      <td>-0.022472</td>\n",
       "      <td>-0.007995</td>\n",
       "      <td>0.000920</td>\n",
       "      <td>0.002465</td>\n",
       "      <td>0.013574</td>\n",
       "    </tr>\n",
       "    <tr>\n",
       "      <th>COUNT_WEEKNIGHT_3</th>\n",
       "      <td>0.001989</td>\n",
       "      <td>0.010829</td>\n",
       "      <td>0.010054</td>\n",
       "      <td>0.010218</td>\n",
       "      <td>-0.000853</td>\n",
       "      <td>0.008956</td>\n",
       "      <td>-0.000462</td>\n",
       "      <td>0.020948</td>\n",
       "      <td>0.036144</td>\n",
       "      <td>-0.001415</td>\n",
       "      <td>...</td>\n",
       "      <td>0.015895</td>\n",
       "      <td>0.017738</td>\n",
       "      <td>0.009910</td>\n",
       "      <td>-0.006288</td>\n",
       "      <td>-0.008762</td>\n",
       "      <td>-0.026701</td>\n",
       "      <td>-0.011268</td>\n",
       "      <td>0.004046</td>\n",
       "      <td>-0.003612</td>\n",
       "      <td>0.020339</td>\n",
       "    </tr>\n",
       "    <tr>\n",
       "      <th>COUNT_WEEKNIGHT_4</th>\n",
       "      <td>0.002362</td>\n",
       "      <td>0.009248</td>\n",
       "      <td>0.010038</td>\n",
       "      <td>0.006389</td>\n",
       "      <td>-0.001716</td>\n",
       "      <td>0.006701</td>\n",
       "      <td>-0.004008</td>\n",
       "      <td>0.015477</td>\n",
       "      <td>0.053368</td>\n",
       "      <td>-0.003196</td>\n",
       "      <td>...</td>\n",
       "      <td>0.016725</td>\n",
       "      <td>0.017207</td>\n",
       "      <td>0.010034</td>\n",
       "      <td>-0.009539</td>\n",
       "      <td>-0.009958</td>\n",
       "      <td>-0.031832</td>\n",
       "      <td>-0.015481</td>\n",
       "      <td>0.006283</td>\n",
       "      <td>-0.006494</td>\n",
       "      <td>0.023249</td>\n",
       "    </tr>\n",
       "    <tr>\n",
       "      <th>COUNT_WEEKNIGHT_5</th>\n",
       "      <td>0.002514</td>\n",
       "      <td>0.009140</td>\n",
       "      <td>0.007257</td>\n",
       "      <td>0.001450</td>\n",
       "      <td>-0.003555</td>\n",
       "      <td>0.005085</td>\n",
       "      <td>-0.005752</td>\n",
       "      <td>0.011588</td>\n",
       "      <td>0.067628</td>\n",
       "      <td>-0.003591</td>\n",
       "      <td>...</td>\n",
       "      <td>0.017598</td>\n",
       "      <td>0.013512</td>\n",
       "      <td>0.009724</td>\n",
       "      <td>-0.009275</td>\n",
       "      <td>-0.010257</td>\n",
       "      <td>-0.036685</td>\n",
       "      <td>-0.020784</td>\n",
       "      <td>0.007593</td>\n",
       "      <td>-0.011132</td>\n",
       "      <td>0.024684</td>\n",
       "    </tr>\n",
       "    <tr>\n",
       "      <th>COUNT_WEEKNIGHT_6</th>\n",
       "      <td>0.000630</td>\n",
       "      <td>0.005390</td>\n",
       "      <td>0.005871</td>\n",
       "      <td>-0.002301</td>\n",
       "      <td>-0.006009</td>\n",
       "      <td>0.004453</td>\n",
       "      <td>-0.007847</td>\n",
       "      <td>0.008485</td>\n",
       "      <td>0.079762</td>\n",
       "      <td>-0.004916</td>\n",
       "      <td>...</td>\n",
       "      <td>0.017243</td>\n",
       "      <td>0.012980</td>\n",
       "      <td>0.010150</td>\n",
       "      <td>-0.008714</td>\n",
       "      <td>-0.011598</td>\n",
       "      <td>-0.040544</td>\n",
       "      <td>-0.024538</td>\n",
       "      <td>0.007912</td>\n",
       "      <td>-0.014315</td>\n",
       "      <td>0.026258</td>\n",
       "    </tr>\n",
       "    <tr>\n",
       "      <th>COUNT_WEEKNIGHT_7</th>\n",
       "      <td>-0.001530</td>\n",
       "      <td>0.004680</td>\n",
       "      <td>0.003499</td>\n",
       "      <td>-0.008053</td>\n",
       "      <td>-0.008596</td>\n",
       "      <td>0.002837</td>\n",
       "      <td>-0.008421</td>\n",
       "      <td>0.003400</td>\n",
       "      <td>0.091035</td>\n",
       "      <td>-0.006330</td>\n",
       "      <td>...</td>\n",
       "      <td>0.016603</td>\n",
       "      <td>0.010894</td>\n",
       "      <td>0.010091</td>\n",
       "      <td>-0.011306</td>\n",
       "      <td>-0.015316</td>\n",
       "      <td>-0.043402</td>\n",
       "      <td>-0.029444</td>\n",
       "      <td>0.008145</td>\n",
       "      <td>-0.017771</td>\n",
       "      <td>0.027846</td>\n",
       "    </tr>\n",
       "    <tr>\n",
       "      <th>COUNT_WEEKNIGHT_8</th>\n",
       "      <td>-0.003100</td>\n",
       "      <td>0.004055</td>\n",
       "      <td>0.002260</td>\n",
       "      <td>-0.011266</td>\n",
       "      <td>-0.011632</td>\n",
       "      <td>0.002160</td>\n",
       "      <td>-0.010742</td>\n",
       "      <td>0.001750</td>\n",
       "      <td>0.100469</td>\n",
       "      <td>-0.007947</td>\n",
       "      <td>...</td>\n",
       "      <td>0.014271</td>\n",
       "      <td>0.008808</td>\n",
       "      <td>0.009519</td>\n",
       "      <td>-0.012101</td>\n",
       "      <td>-0.016915</td>\n",
       "      <td>-0.045340</td>\n",
       "      <td>-0.033115</td>\n",
       "      <td>0.008182</td>\n",
       "      <td>-0.019009</td>\n",
       "      <td>0.028464</td>\n",
       "    </tr>\n",
       "    <tr>\n",
       "      <th>COUNT_WEEKNIGHT_9</th>\n",
       "      <td>-0.006229</td>\n",
       "      <td>0.003036</td>\n",
       "      <td>0.000089</td>\n",
       "      <td>-0.015504</td>\n",
       "      <td>-0.014553</td>\n",
       "      <td>0.000584</td>\n",
       "      <td>-0.013024</td>\n",
       "      <td>0.000132</td>\n",
       "      <td>0.109838</td>\n",
       "      <td>-0.008881</td>\n",
       "      <td>...</td>\n",
       "      <td>0.011430</td>\n",
       "      <td>0.007838</td>\n",
       "      <td>0.009845</td>\n",
       "      <td>-0.013021</td>\n",
       "      <td>-0.018124</td>\n",
       "      <td>-0.046815</td>\n",
       "      <td>-0.037587</td>\n",
       "      <td>0.007833</td>\n",
       "      <td>-0.020115</td>\n",
       "      <td>0.029678</td>\n",
       "    </tr>\n",
       "    <tr>\n",
       "      <th>MOBILITY_DIAMETER</th>\n",
       "      <td>0.047697</td>\n",
       "      <td>0.144126</td>\n",
       "      <td>0.029463</td>\n",
       "      <td>0.006546</td>\n",
       "      <td>-0.014228</td>\n",
       "      <td>0.022625</td>\n",
       "      <td>-0.002491</td>\n",
       "      <td>-0.007132</td>\n",
       "      <td>-0.137678</td>\n",
       "      <td>-0.009237</td>\n",
       "      <td>...</td>\n",
       "      <td>0.061433</td>\n",
       "      <td>0.050950</td>\n",
       "      <td>0.078405</td>\n",
       "      <td>0.003528</td>\n",
       "      <td>0.005187</td>\n",
       "      <td>-0.020111</td>\n",
       "      <td>0.055373</td>\n",
       "      <td>-0.029631</td>\n",
       "      <td>-0.000281</td>\n",
       "      <td>0.154510</td>\n",
       "    </tr>\n",
       "    <tr>\n",
       "      <th>MOBILITY_DIAMETER_WEEKNIGHT</th>\n",
       "      <td>0.046818</td>\n",
       "      <td>0.143429</td>\n",
       "      <td>0.029630</td>\n",
       "      <td>0.005464</td>\n",
       "      <td>-0.010217</td>\n",
       "      <td>0.023249</td>\n",
       "      <td>-0.001705</td>\n",
       "      <td>-0.005473</td>\n",
       "      <td>-0.118547</td>\n",
       "      <td>-0.009302</td>\n",
       "      <td>...</td>\n",
       "      <td>0.063474</td>\n",
       "      <td>0.054681</td>\n",
       "      <td>0.079987</td>\n",
       "      <td>0.007015</td>\n",
       "      <td>0.006280</td>\n",
       "      <td>-0.026489</td>\n",
       "      <td>0.045077</td>\n",
       "      <td>-0.021358</td>\n",
       "      <td>-0.006317</td>\n",
       "      <td>0.141488</td>\n",
       "    </tr>\n",
       "    <tr>\n",
       "      <th>EPIDEMIC</th>\n",
       "      <td>-0.070369</td>\n",
       "      <td>-0.064011</td>\n",
       "      <td>-0.024981</td>\n",
       "      <td>-0.057637</td>\n",
       "      <td>-0.086685</td>\n",
       "      <td>-0.041358</td>\n",
       "      <td>-0.046465</td>\n",
       "      <td>-0.045250</td>\n",
       "      <td>-0.346650</td>\n",
       "      <td>-0.034179</td>\n",
       "      <td>...</td>\n",
       "      <td>-0.078990</td>\n",
       "      <td>-0.052967</td>\n",
       "      <td>-0.038237</td>\n",
       "      <td>0.223952</td>\n",
       "      <td>-0.052248</td>\n",
       "      <td>-0.088677</td>\n",
       "      <td>0.299250</td>\n",
       "      <td>-0.109611</td>\n",
       "      <td>-0.034794</td>\n",
       "      <td>0.164076</td>\n",
       "    </tr>\n",
       "    <tr>\n",
       "      <th>EPIDEMIC_gt</th>\n",
       "      <td>-0.042092</td>\n",
       "      <td>-0.018679</td>\n",
       "      <td>0.026783</td>\n",
       "      <td>-0.009529</td>\n",
       "      <td>-0.036335</td>\n",
       "      <td>-0.002569</td>\n",
       "      <td>-0.030514</td>\n",
       "      <td>0.015001</td>\n",
       "      <td>-0.138996</td>\n",
       "      <td>-0.021735</td>\n",
       "      <td>...</td>\n",
       "      <td>-0.058760</td>\n",
       "      <td>0.035432</td>\n",
       "      <td>0.033727</td>\n",
       "      <td>0.097361</td>\n",
       "      <td>0.000915</td>\n",
       "      <td>0.018569</td>\n",
       "      <td>0.158318</td>\n",
       "      <td>-0.077202</td>\n",
       "      <td>-0.018218</td>\n",
       "      <td>0.265702</td>\n",
       "    </tr>\n",
       "    <tr>\n",
       "      <th>TimeWeekEnd_OUT_VUL_12</th>\n",
       "      <td>-0.013903</td>\n",
       "      <td>-0.006271</td>\n",
       "      <td>0.008033</td>\n",
       "      <td>-0.000488</td>\n",
       "      <td>-0.011647</td>\n",
       "      <td>-0.006696</td>\n",
       "      <td>-0.012125</td>\n",
       "      <td>0.007212</td>\n",
       "      <td>-0.059115</td>\n",
       "      <td>-0.009559</td>\n",
       "      <td>...</td>\n",
       "      <td>-0.015696</td>\n",
       "      <td>0.009864</td>\n",
       "      <td>0.011210</td>\n",
       "      <td>0.059930</td>\n",
       "      <td>-0.000395</td>\n",
       "      <td>-0.013076</td>\n",
       "      <td>0.026118</td>\n",
       "      <td>-0.024898</td>\n",
       "      <td>-0.004787</td>\n",
       "      <td>0.066856</td>\n",
       "    </tr>\n",
       "    <tr>\n",
       "      <th>CallsWeekDay_OUT_VUL_12</th>\n",
       "      <td>-0.022729</td>\n",
       "      <td>-0.016582</td>\n",
       "      <td>-0.000007</td>\n",
       "      <td>-0.012801</td>\n",
       "      <td>-0.023496</td>\n",
       "      <td>-0.008627</td>\n",
       "      <td>-0.017978</td>\n",
       "      <td>0.007904</td>\n",
       "      <td>-0.095289</td>\n",
       "      <td>-0.013486</td>\n",
       "      <td>...</td>\n",
       "      <td>-0.029212</td>\n",
       "      <td>0.004131</td>\n",
       "      <td>0.007377</td>\n",
       "      <td>0.088268</td>\n",
       "      <td>-0.009238</td>\n",
       "      <td>-0.021836</td>\n",
       "      <td>0.045091</td>\n",
       "      <td>-0.040722</td>\n",
       "      <td>-0.011748</td>\n",
       "      <td>0.056102</td>\n",
       "    </tr>\n",
       "    <tr>\n",
       "      <th>CallsWeekNight_OUT_VUL_12</th>\n",
       "      <td>-0.018719</td>\n",
       "      <td>-0.010042</td>\n",
       "      <td>0.006258</td>\n",
       "      <td>-0.003309</td>\n",
       "      <td>-0.017347</td>\n",
       "      <td>-0.005301</td>\n",
       "      <td>-0.012895</td>\n",
       "      <td>0.006902</td>\n",
       "      <td>-0.065913</td>\n",
       "      <td>-0.010075</td>\n",
       "      <td>...</td>\n",
       "      <td>-0.018689</td>\n",
       "      <td>0.008055</td>\n",
       "      <td>0.009917</td>\n",
       "      <td>0.073576</td>\n",
       "      <td>-0.000378</td>\n",
       "      <td>-0.014012</td>\n",
       "      <td>0.037924</td>\n",
       "      <td>-0.030445</td>\n",
       "      <td>-0.008211</td>\n",
       "      <td>0.064372</td>\n",
       "    </tr>\n",
       "    <tr>\n",
       "      <th>TimeWeekDay_OUT_VUL_12</th>\n",
       "      <td>-0.017553</td>\n",
       "      <td>-0.010648</td>\n",
       "      <td>0.003875</td>\n",
       "      <td>-0.004778</td>\n",
       "      <td>-0.016128</td>\n",
       "      <td>-0.005995</td>\n",
       "      <td>-0.014900</td>\n",
       "      <td>0.013330</td>\n",
       "      <td>-0.071550</td>\n",
       "      <td>-0.011761</td>\n",
       "      <td>...</td>\n",
       "      <td>-0.024868</td>\n",
       "      <td>0.009684</td>\n",
       "      <td>0.012461</td>\n",
       "      <td>0.071719</td>\n",
       "      <td>-0.005967</td>\n",
       "      <td>-0.017661</td>\n",
       "      <td>0.033545</td>\n",
       "      <td>-0.033829</td>\n",
       "      <td>-0.009765</td>\n",
       "      <td>0.071430</td>\n",
       "    </tr>\n",
       "    <tr>\n",
       "      <th>CallsWeekEnd_OUT_VUL_12</th>\n",
       "      <td>-0.020718</td>\n",
       "      <td>-0.014418</td>\n",
       "      <td>0.002557</td>\n",
       "      <td>-0.009829</td>\n",
       "      <td>-0.021284</td>\n",
       "      <td>-0.009290</td>\n",
       "      <td>-0.016709</td>\n",
       "      <td>0.004856</td>\n",
       "      <td>-0.087687</td>\n",
       "      <td>-0.012906</td>\n",
       "      <td>...</td>\n",
       "      <td>-0.025552</td>\n",
       "      <td>0.003966</td>\n",
       "      <td>0.008507</td>\n",
       "      <td>0.083876</td>\n",
       "      <td>-0.007315</td>\n",
       "      <td>-0.018611</td>\n",
       "      <td>0.043837</td>\n",
       "      <td>-0.036358</td>\n",
       "      <td>-0.010151</td>\n",
       "      <td>0.057492</td>\n",
       "    </tr>\n",
       "    <tr>\n",
       "      <th>TimeWeekNight_OUT_VUL_12</th>\n",
       "      <td>-0.011195</td>\n",
       "      <td>-0.002831</td>\n",
       "      <td>0.010893</td>\n",
       "      <td>0.007069</td>\n",
       "      <td>-0.006941</td>\n",
       "      <td>0.000307</td>\n",
       "      <td>-0.006621</td>\n",
       "      <td>0.005087</td>\n",
       "      <td>-0.033505</td>\n",
       "      <td>-0.006106</td>\n",
       "      <td>...</td>\n",
       "      <td>-0.008468</td>\n",
       "      <td>0.013700</td>\n",
       "      <td>0.012363</td>\n",
       "      <td>0.043720</td>\n",
       "      <td>0.003380</td>\n",
       "      <td>-0.006625</td>\n",
       "      <td>0.019073</td>\n",
       "      <td>-0.017836</td>\n",
       "      <td>-0.003488</td>\n",
       "      <td>0.066613</td>\n",
       "    </tr>\n",
       "    <tr>\n",
       "      <th>VULNERABLE_OUT_12</th>\n",
       "      <td>-0.040959</td>\n",
       "      <td>-0.028321</td>\n",
       "      <td>0.008961</td>\n",
       "      <td>-0.016654</td>\n",
       "      <td>-0.039564</td>\n",
       "      <td>-0.016982</td>\n",
       "      <td>-0.033939</td>\n",
       "      <td>0.010742</td>\n",
       "      <td>-0.147497</td>\n",
       "      <td>-0.025169</td>\n",
       "      <td>...</td>\n",
       "      <td>-0.050379</td>\n",
       "      <td>0.016702</td>\n",
       "      <td>0.017947</td>\n",
       "      <td>0.117970</td>\n",
       "      <td>-0.014838</td>\n",
       "      <td>-0.027587</td>\n",
       "      <td>0.134135</td>\n",
       "      <td>-0.074787</td>\n",
       "      <td>-0.018914</td>\n",
       "      <td>0.195114</td>\n",
       "    </tr>\n",
       "    <tr>\n",
       "      <th>TimeWeekEnd_IN_VUL_12</th>\n",
       "      <td>-0.012815</td>\n",
       "      <td>-0.007574</td>\n",
       "      <td>0.006726</td>\n",
       "      <td>-0.000521</td>\n",
       "      <td>-0.008049</td>\n",
       "      <td>-0.002762</td>\n",
       "      <td>-0.011186</td>\n",
       "      <td>0.009232</td>\n",
       "      <td>-0.055550</td>\n",
       "      <td>-0.008656</td>\n",
       "      <td>...</td>\n",
       "      <td>-0.015693</td>\n",
       "      <td>0.008701</td>\n",
       "      <td>0.006479</td>\n",
       "      <td>0.060691</td>\n",
       "      <td>-0.002376</td>\n",
       "      <td>-0.009871</td>\n",
       "      <td>0.027561</td>\n",
       "      <td>-0.020505</td>\n",
       "      <td>-0.005930</td>\n",
       "      <td>0.059171</td>\n",
       "    </tr>\n",
       "    <tr>\n",
       "      <th>CallsWeekDay_IN_VUL_12</th>\n",
       "      <td>-0.022457</td>\n",
       "      <td>-0.017972</td>\n",
       "      <td>-0.000865</td>\n",
       "      <td>-0.014889</td>\n",
       "      <td>-0.024665</td>\n",
       "      <td>-0.007189</td>\n",
       "      <td>-0.018177</td>\n",
       "      <td>0.005136</td>\n",
       "      <td>-0.096553</td>\n",
       "      <td>-0.012183</td>\n",
       "      <td>...</td>\n",
       "      <td>-0.028464</td>\n",
       "      <td>0.003156</td>\n",
       "      <td>0.006578</td>\n",
       "      <td>0.087977</td>\n",
       "      <td>-0.010368</td>\n",
       "      <td>-0.020877</td>\n",
       "      <td>0.045334</td>\n",
       "      <td>-0.040102</td>\n",
       "      <td>-0.011300</td>\n",
       "      <td>0.045735</td>\n",
       "    </tr>\n",
       "    <tr>\n",
       "      <th>CallsWeekNight_IN_VUL_12</th>\n",
       "      <td>-0.018331</td>\n",
       "      <td>-0.012598</td>\n",
       "      <td>0.003360</td>\n",
       "      <td>-0.010111</td>\n",
       "      <td>-0.017924</td>\n",
       "      <td>-0.005440</td>\n",
       "      <td>-0.014144</td>\n",
       "      <td>0.006850</td>\n",
       "      <td>-0.070318</td>\n",
       "      <td>-0.010760</td>\n",
       "      <td>...</td>\n",
       "      <td>-0.021479</td>\n",
       "      <td>0.003239</td>\n",
       "      <td>0.008987</td>\n",
       "      <td>0.079932</td>\n",
       "      <td>-0.006294</td>\n",
       "      <td>-0.012031</td>\n",
       "      <td>0.038929</td>\n",
       "      <td>-0.029646</td>\n",
       "      <td>-0.008444</td>\n",
       "      <td>0.056618</td>\n",
       "    </tr>\n",
       "    <tr>\n",
       "      <th>TimeWeekDay_IN_VUL_12</th>\n",
       "      <td>-0.016058</td>\n",
       "      <td>-0.013013</td>\n",
       "      <td>0.003278</td>\n",
       "      <td>-0.006267</td>\n",
       "      <td>-0.016078</td>\n",
       "      <td>-0.004116</td>\n",
       "      <td>-0.014973</td>\n",
       "      <td>0.010036</td>\n",
       "      <td>-0.071406</td>\n",
       "      <td>-0.009973</td>\n",
       "      <td>...</td>\n",
       "      <td>-0.021959</td>\n",
       "      <td>0.005298</td>\n",
       "      <td>0.011615</td>\n",
       "      <td>0.067899</td>\n",
       "      <td>-0.004141</td>\n",
       "      <td>-0.012841</td>\n",
       "      <td>0.031678</td>\n",
       "      <td>-0.030825</td>\n",
       "      <td>-0.007694</td>\n",
       "      <td>0.056979</td>\n",
       "    </tr>\n",
       "    <tr>\n",
       "      <th>CallsWeekEnd_IN_VUL_12</th>\n",
       "      <td>-0.020846</td>\n",
       "      <td>-0.016506</td>\n",
       "      <td>0.000786</td>\n",
       "      <td>-0.010897</td>\n",
       "      <td>-0.021659</td>\n",
       "      <td>-0.006442</td>\n",
       "      <td>-0.016915</td>\n",
       "      <td>0.004794</td>\n",
       "      <td>-0.089347</td>\n",
       "      <td>-0.012235</td>\n",
       "      <td>...</td>\n",
       "      <td>-0.026426</td>\n",
       "      <td>0.004382</td>\n",
       "      <td>0.004749</td>\n",
       "      <td>0.086885</td>\n",
       "      <td>-0.009541</td>\n",
       "      <td>-0.018201</td>\n",
       "      <td>0.044469</td>\n",
       "      <td>-0.035791</td>\n",
       "      <td>-0.010668</td>\n",
       "      <td>0.051813</td>\n",
       "    </tr>\n",
       "    <tr>\n",
       "      <th>TimeWeekNight_IN_VUL_12</th>\n",
       "      <td>-0.008296</td>\n",
       "      <td>-0.005321</td>\n",
       "      <td>0.007753</td>\n",
       "      <td>-0.001753</td>\n",
       "      <td>-0.005488</td>\n",
       "      <td>-0.003227</td>\n",
       "      <td>-0.007575</td>\n",
       "      <td>0.007875</td>\n",
       "      <td>-0.035170</td>\n",
       "      <td>-0.006676</td>\n",
       "      <td>...</td>\n",
       "      <td>-0.009615</td>\n",
       "      <td>0.003860</td>\n",
       "      <td>0.012613</td>\n",
       "      <td>0.045118</td>\n",
       "      <td>0.000895</td>\n",
       "      <td>-0.003455</td>\n",
       "      <td>0.018321</td>\n",
       "      <td>-0.013248</td>\n",
       "      <td>-0.005159</td>\n",
       "      <td>0.053752</td>\n",
       "    </tr>\n",
       "    <tr>\n",
       "      <th>VULNERABLE_IN_12</th>\n",
       "      <td>-0.041107</td>\n",
       "      <td>-0.027672</td>\n",
       "      <td>0.009459</td>\n",
       "      <td>-0.015403</td>\n",
       "      <td>-0.039487</td>\n",
       "      <td>-0.015858</td>\n",
       "      <td>-0.033841</td>\n",
       "      <td>0.012749</td>\n",
       "      <td>-0.148157</td>\n",
       "      <td>-0.023546</td>\n",
       "      <td>...</td>\n",
       "      <td>-0.048578</td>\n",
       "      <td>0.016454</td>\n",
       "      <td>0.015843</td>\n",
       "      <td>0.122644</td>\n",
       "      <td>-0.015729</td>\n",
       "      <td>-0.025308</td>\n",
       "      <td>0.133612</td>\n",
       "      <td>-0.073859</td>\n",
       "      <td>-0.019445</td>\n",
       "      <td>0.192320</td>\n",
       "    </tr>\n",
       "    <tr>\n",
       "      <th>TimeWeekEnd_OUT_VUL_08</th>\n",
       "      <td>-0.014957</td>\n",
       "      <td>-0.004448</td>\n",
       "      <td>0.013896</td>\n",
       "      <td>-0.001363</td>\n",
       "      <td>-0.009795</td>\n",
       "      <td>-0.004073</td>\n",
       "      <td>-0.009357</td>\n",
       "      <td>0.009206</td>\n",
       "      <td>-0.067427</td>\n",
       "      <td>-0.010476</td>\n",
       "      <td>...</td>\n",
       "      <td>-0.017209</td>\n",
       "      <td>0.008612</td>\n",
       "      <td>0.007103</td>\n",
       "      <td>0.043694</td>\n",
       "      <td>-0.007526</td>\n",
       "      <td>-0.014896</td>\n",
       "      <td>0.027939</td>\n",
       "      <td>-0.028002</td>\n",
       "      <td>-0.009473</td>\n",
       "      <td>0.056637</td>\n",
       "    </tr>\n",
       "    <tr>\n",
       "      <th>CallsWeekDay_OUT_VUL_08</th>\n",
       "      <td>-0.022913</td>\n",
       "      <td>-0.015308</td>\n",
       "      <td>0.000393</td>\n",
       "      <td>-0.013446</td>\n",
       "      <td>-0.024191</td>\n",
       "      <td>-0.009933</td>\n",
       "      <td>-0.017416</td>\n",
       "      <td>0.007667</td>\n",
       "      <td>-0.101383</td>\n",
       "      <td>-0.012788</td>\n",
       "      <td>...</td>\n",
       "      <td>-0.028131</td>\n",
       "      <td>-0.000279</td>\n",
       "      <td>0.001112</td>\n",
       "      <td>0.057443</td>\n",
       "      <td>-0.011762</td>\n",
       "      <td>-0.023200</td>\n",
       "      <td>0.032872</td>\n",
       "      <td>-0.040636</td>\n",
       "      <td>-0.011769</td>\n",
       "      <td>0.040469</td>\n",
       "    </tr>\n",
       "    <tr>\n",
       "      <th>CallsWeekNight_OUT_VUL_08</th>\n",
       "      <td>-0.018699</td>\n",
       "      <td>-0.011335</td>\n",
       "      <td>0.006758</td>\n",
       "      <td>-0.006365</td>\n",
       "      <td>-0.016954</td>\n",
       "      <td>-0.008103</td>\n",
       "      <td>-0.012660</td>\n",
       "      <td>0.011083</td>\n",
       "      <td>-0.077978</td>\n",
       "      <td>-0.012024</td>\n",
       "      <td>...</td>\n",
       "      <td>-0.018589</td>\n",
       "      <td>0.002400</td>\n",
       "      <td>0.000376</td>\n",
       "      <td>0.058175</td>\n",
       "      <td>-0.005336</td>\n",
       "      <td>-0.016747</td>\n",
       "      <td>0.038519</td>\n",
       "      <td>-0.034933</td>\n",
       "      <td>-0.008624</td>\n",
       "      <td>0.047088</td>\n",
       "    </tr>\n",
       "    <tr>\n",
       "      <th>TimeWeekDay_OUT_VUL_08</th>\n",
       "      <td>-0.017566</td>\n",
       "      <td>-0.011165</td>\n",
       "      <td>0.003923</td>\n",
       "      <td>-0.004893</td>\n",
       "      <td>-0.016604</td>\n",
       "      <td>-0.006313</td>\n",
       "      <td>-0.014123</td>\n",
       "      <td>0.009930</td>\n",
       "      <td>-0.080102</td>\n",
       "      <td>-0.011457</td>\n",
       "      <td>...</td>\n",
       "      <td>-0.022973</td>\n",
       "      <td>0.002646</td>\n",
       "      <td>0.001732</td>\n",
       "      <td>0.049214</td>\n",
       "      <td>-0.008458</td>\n",
       "      <td>-0.018948</td>\n",
       "      <td>0.027646</td>\n",
       "      <td>-0.033421</td>\n",
       "      <td>-0.009883</td>\n",
       "      <td>0.058122</td>\n",
       "    </tr>\n",
       "    <tr>\n",
       "      <th>...</th>\n",
       "      <td>...</td>\n",
       "      <td>...</td>\n",
       "      <td>...</td>\n",
       "      <td>...</td>\n",
       "      <td>...</td>\n",
       "      <td>...</td>\n",
       "      <td>...</td>\n",
       "      <td>...</td>\n",
       "      <td>...</td>\n",
       "      <td>...</td>\n",
       "      <td>...</td>\n",
       "      <td>...</td>\n",
       "      <td>...</td>\n",
       "      <td>...</td>\n",
       "      <td>...</td>\n",
       "      <td>...</td>\n",
       "      <td>...</td>\n",
       "      <td>...</td>\n",
       "      <td>...</td>\n",
       "      <td>...</td>\n",
       "      <td>...</td>\n",
       "    </tr>\n",
       "    <tr>\n",
       "      <th>CallsWeekNight_OUT_VUL_11</th>\n",
       "      <td>-0.019018</td>\n",
       "      <td>-0.007404</td>\n",
       "      <td>0.000639</td>\n",
       "      <td>-0.005551</td>\n",
       "      <td>-0.015065</td>\n",
       "      <td>-0.008255</td>\n",
       "      <td>-0.013050</td>\n",
       "      <td>0.008629</td>\n",
       "      <td>-0.066810</td>\n",
       "      <td>-0.010967</td>\n",
       "      <td>...</td>\n",
       "      <td>-0.018093</td>\n",
       "      <td>0.002800</td>\n",
       "      <td>0.005746</td>\n",
       "      <td>0.059549</td>\n",
       "      <td>-0.005530</td>\n",
       "      <td>-0.015929</td>\n",
       "      <td>0.038877</td>\n",
       "      <td>-0.032002</td>\n",
       "      <td>-0.007708</td>\n",
       "      <td>0.057425</td>\n",
       "    </tr>\n",
       "    <tr>\n",
       "      <th>TimeWeekDay_OUT_VUL_11</th>\n",
       "      <td>-0.017407</td>\n",
       "      <td>-0.009035</td>\n",
       "      <td>0.003391</td>\n",
       "      <td>-0.006930</td>\n",
       "      <td>-0.015829</td>\n",
       "      <td>-0.005967</td>\n",
       "      <td>-0.013458</td>\n",
       "      <td>0.008591</td>\n",
       "      <td>-0.075553</td>\n",
       "      <td>-0.011472</td>\n",
       "      <td>...</td>\n",
       "      <td>-0.022519</td>\n",
       "      <td>0.005454</td>\n",
       "      <td>0.008967</td>\n",
       "      <td>0.055378</td>\n",
       "      <td>-0.006377</td>\n",
       "      <td>-0.020304</td>\n",
       "      <td>0.029912</td>\n",
       "      <td>-0.032809</td>\n",
       "      <td>-0.010183</td>\n",
       "      <td>0.066649</td>\n",
       "    </tr>\n",
       "    <tr>\n",
       "      <th>CallsWeekEnd_OUT_VUL_11</th>\n",
       "      <td>-0.022730</td>\n",
       "      <td>-0.014366</td>\n",
       "      <td>0.002723</td>\n",
       "      <td>-0.010726</td>\n",
       "      <td>-0.021539</td>\n",
       "      <td>-0.009630</td>\n",
       "      <td>-0.015850</td>\n",
       "      <td>0.006855</td>\n",
       "      <td>-0.096621</td>\n",
       "      <td>-0.013394</td>\n",
       "      <td>...</td>\n",
       "      <td>-0.026945</td>\n",
       "      <td>-0.000820</td>\n",
       "      <td>0.008018</td>\n",
       "      <td>0.073993</td>\n",
       "      <td>-0.008903</td>\n",
       "      <td>-0.022092</td>\n",
       "      <td>0.046996</td>\n",
       "      <td>-0.040295</td>\n",
       "      <td>-0.012146</td>\n",
       "      <td>0.049032</td>\n",
       "    </tr>\n",
       "    <tr>\n",
       "      <th>TimeWeekNight_OUT_VUL_11</th>\n",
       "      <td>-0.010750</td>\n",
       "      <td>0.001692</td>\n",
       "      <td>0.003391</td>\n",
       "      <td>0.004872</td>\n",
       "      <td>-0.004256</td>\n",
       "      <td>-0.005000</td>\n",
       "      <td>-0.006942</td>\n",
       "      <td>0.008321</td>\n",
       "      <td>-0.030047</td>\n",
       "      <td>-0.007340</td>\n",
       "      <td>...</td>\n",
       "      <td>-0.008341</td>\n",
       "      <td>0.007259</td>\n",
       "      <td>0.007891</td>\n",
       "      <td>0.037977</td>\n",
       "      <td>-0.002081</td>\n",
       "      <td>-0.009624</td>\n",
       "      <td>0.021812</td>\n",
       "      <td>-0.018638</td>\n",
       "      <td>-0.004129</td>\n",
       "      <td>0.066150</td>\n",
       "    </tr>\n",
       "    <tr>\n",
       "      <th>VULNERABLE_OUT_11</th>\n",
       "      <td>-0.040210</td>\n",
       "      <td>-0.028672</td>\n",
       "      <td>0.005511</td>\n",
       "      <td>-0.020553</td>\n",
       "      <td>-0.042658</td>\n",
       "      <td>-0.017134</td>\n",
       "      <td>-0.034379</td>\n",
       "      <td>0.011267</td>\n",
       "      <td>-0.155290</td>\n",
       "      <td>-0.025967</td>\n",
       "      <td>...</td>\n",
       "      <td>-0.052225</td>\n",
       "      <td>0.013658</td>\n",
       "      <td>0.016058</td>\n",
       "      <td>0.115650</td>\n",
       "      <td>-0.018341</td>\n",
       "      <td>-0.027724</td>\n",
       "      <td>0.141215</td>\n",
       "      <td>-0.079442</td>\n",
       "      <td>-0.023083</td>\n",
       "      <td>0.188275</td>\n",
       "    </tr>\n",
       "    <tr>\n",
       "      <th>TimeWeekEnd_IN_VUL_11</th>\n",
       "      <td>-0.015421</td>\n",
       "      <td>-0.006159</td>\n",
       "      <td>0.009940</td>\n",
       "      <td>-0.001356</td>\n",
       "      <td>-0.010575</td>\n",
       "      <td>-0.001549</td>\n",
       "      <td>-0.010403</td>\n",
       "      <td>0.003722</td>\n",
       "      <td>-0.058554</td>\n",
       "      <td>-0.008938</td>\n",
       "      <td>...</td>\n",
       "      <td>-0.014515</td>\n",
       "      <td>0.003848</td>\n",
       "      <td>0.004136</td>\n",
       "      <td>0.050647</td>\n",
       "      <td>-0.007397</td>\n",
       "      <td>-0.010055</td>\n",
       "      <td>0.035241</td>\n",
       "      <td>-0.019520</td>\n",
       "      <td>-0.007869</td>\n",
       "      <td>0.051886</td>\n",
       "    </tr>\n",
       "    <tr>\n",
       "      <th>CallsWeekDay_IN_VUL_11</th>\n",
       "      <td>-0.021256</td>\n",
       "      <td>-0.018500</td>\n",
       "      <td>-0.000636</td>\n",
       "      <td>-0.015335</td>\n",
       "      <td>-0.023914</td>\n",
       "      <td>-0.008257</td>\n",
       "      <td>-0.017190</td>\n",
       "      <td>0.002792</td>\n",
       "      <td>-0.098893</td>\n",
       "      <td>-0.012572</td>\n",
       "      <td>...</td>\n",
       "      <td>-0.027309</td>\n",
       "      <td>-0.001533</td>\n",
       "      <td>0.002638</td>\n",
       "      <td>0.067169</td>\n",
       "      <td>-0.012263</td>\n",
       "      <td>-0.023150</td>\n",
       "      <td>0.038400</td>\n",
       "      <td>-0.038855</td>\n",
       "      <td>-0.011680</td>\n",
       "      <td>0.033627</td>\n",
       "    </tr>\n",
       "    <tr>\n",
       "      <th>CallsWeekNight_IN_VUL_11</th>\n",
       "      <td>-0.018859</td>\n",
       "      <td>-0.010808</td>\n",
       "      <td>0.001258</td>\n",
       "      <td>-0.009396</td>\n",
       "      <td>-0.017210</td>\n",
       "      <td>-0.006741</td>\n",
       "      <td>-0.012355</td>\n",
       "      <td>0.004662</td>\n",
       "      <td>-0.069934</td>\n",
       "      <td>-0.010903</td>\n",
       "      <td>...</td>\n",
       "      <td>-0.019439</td>\n",
       "      <td>0.000220</td>\n",
       "      <td>0.003768</td>\n",
       "      <td>0.065352</td>\n",
       "      <td>-0.008574</td>\n",
       "      <td>-0.014008</td>\n",
       "      <td>0.038536</td>\n",
       "      <td>-0.029306</td>\n",
       "      <td>-0.008704</td>\n",
       "      <td>0.047442</td>\n",
       "    </tr>\n",
       "    <tr>\n",
       "      <th>TimeWeekDay_IN_VUL_11</th>\n",
       "      <td>-0.014360</td>\n",
       "      <td>-0.012172</td>\n",
       "      <td>0.001558</td>\n",
       "      <td>-0.008221</td>\n",
       "      <td>-0.013160</td>\n",
       "      <td>-0.005113</td>\n",
       "      <td>-0.013512</td>\n",
       "      <td>0.005018</td>\n",
       "      <td>-0.070976</td>\n",
       "      <td>-0.010378</td>\n",
       "      <td>...</td>\n",
       "      <td>-0.020598</td>\n",
       "      <td>0.001846</td>\n",
       "      <td>0.003013</td>\n",
       "      <td>0.054572</td>\n",
       "      <td>-0.007039</td>\n",
       "      <td>-0.017137</td>\n",
       "      <td>0.029210</td>\n",
       "      <td>-0.027677</td>\n",
       "      <td>-0.009016</td>\n",
       "      <td>0.048307</td>\n",
       "    </tr>\n",
       "    <tr>\n",
       "      <th>CallsWeekEnd_IN_VUL_11</th>\n",
       "      <td>-0.022765</td>\n",
       "      <td>-0.016996</td>\n",
       "      <td>0.000584</td>\n",
       "      <td>-0.012439</td>\n",
       "      <td>-0.024323</td>\n",
       "      <td>-0.007011</td>\n",
       "      <td>-0.016907</td>\n",
       "      <td>0.000881</td>\n",
       "      <td>-0.097204</td>\n",
       "      <td>-0.013275</td>\n",
       "      <td>...</td>\n",
       "      <td>-0.026949</td>\n",
       "      <td>-0.000607</td>\n",
       "      <td>0.003648</td>\n",
       "      <td>0.074553</td>\n",
       "      <td>-0.013582</td>\n",
       "      <td>-0.020866</td>\n",
       "      <td>0.046481</td>\n",
       "      <td>-0.038301</td>\n",
       "      <td>-0.012095</td>\n",
       "      <td>0.039627</td>\n",
       "    </tr>\n",
       "    <tr>\n",
       "      <th>TimeWeekNight_IN_VUL_11</th>\n",
       "      <td>-0.009674</td>\n",
       "      <td>-0.002396</td>\n",
       "      <td>0.004088</td>\n",
       "      <td>-0.000596</td>\n",
       "      <td>-0.004479</td>\n",
       "      <td>-0.002574</td>\n",
       "      <td>-0.004920</td>\n",
       "      <td>0.003574</td>\n",
       "      <td>-0.029386</td>\n",
       "      <td>-0.006394</td>\n",
       "      <td>...</td>\n",
       "      <td>-0.007047</td>\n",
       "      <td>0.004442</td>\n",
       "      <td>0.005233</td>\n",
       "      <td>0.037523</td>\n",
       "      <td>-0.003595</td>\n",
       "      <td>-0.005174</td>\n",
       "      <td>0.019848</td>\n",
       "      <td>-0.011918</td>\n",
       "      <td>-0.003494</td>\n",
       "      <td>0.047939</td>\n",
       "    </tr>\n",
       "    <tr>\n",
       "      <th>VULNERABLE_IN_11</th>\n",
       "      <td>-0.040535</td>\n",
       "      <td>-0.030162</td>\n",
       "      <td>0.008381</td>\n",
       "      <td>-0.019054</td>\n",
       "      <td>-0.043372</td>\n",
       "      <td>-0.016477</td>\n",
       "      <td>-0.032897</td>\n",
       "      <td>0.010190</td>\n",
       "      <td>-0.154610</td>\n",
       "      <td>-0.025122</td>\n",
       "      <td>...</td>\n",
       "      <td>-0.052281</td>\n",
       "      <td>0.014488</td>\n",
       "      <td>0.014553</td>\n",
       "      <td>0.119650</td>\n",
       "      <td>-0.019492</td>\n",
       "      <td>-0.028566</td>\n",
       "      <td>0.141110</td>\n",
       "      <td>-0.078814</td>\n",
       "      <td>-0.019534</td>\n",
       "      <td>0.188558</td>\n",
       "    </tr>\n",
       "    <tr>\n",
       "      <th>STATE_Baja_California_Sur</th>\n",
       "      <td>-0.003925</td>\n",
       "      <td>-0.003571</td>\n",
       "      <td>1.000000</td>\n",
       "      <td>-0.003215</td>\n",
       "      <td>-0.004835</td>\n",
       "      <td>-0.002307</td>\n",
       "      <td>-0.002592</td>\n",
       "      <td>-0.002524</td>\n",
       "      <td>-0.019337</td>\n",
       "      <td>-0.001907</td>\n",
       "      <td>...</td>\n",
       "      <td>-0.004406</td>\n",
       "      <td>-0.002955</td>\n",
       "      <td>-0.002133</td>\n",
       "      <td>-0.005594</td>\n",
       "      <td>-0.002915</td>\n",
       "      <td>-0.004947</td>\n",
       "      <td>-0.007475</td>\n",
       "      <td>-0.006114</td>\n",
       "      <td>-0.001941</td>\n",
       "      <td>0.037388</td>\n",
       "    </tr>\n",
       "    <tr>\n",
       "      <th>STATE_Chihuahua</th>\n",
       "      <td>-0.006499</td>\n",
       "      <td>-0.005912</td>\n",
       "      <td>-0.002307</td>\n",
       "      <td>-0.005323</td>\n",
       "      <td>-0.008006</td>\n",
       "      <td>1.000000</td>\n",
       "      <td>-0.004291</td>\n",
       "      <td>-0.004179</td>\n",
       "      <td>-0.032014</td>\n",
       "      <td>-0.003157</td>\n",
       "      <td>...</td>\n",
       "      <td>-0.007295</td>\n",
       "      <td>-0.004892</td>\n",
       "      <td>-0.003531</td>\n",
       "      <td>-0.009262</td>\n",
       "      <td>-0.004825</td>\n",
       "      <td>-0.008189</td>\n",
       "      <td>-0.012376</td>\n",
       "      <td>-0.010123</td>\n",
       "      <td>-0.003213</td>\n",
       "      <td>0.010373</td>\n",
       "    </tr>\n",
       "    <tr>\n",
       "      <th>STATE_Colima</th>\n",
       "      <td>-0.007110</td>\n",
       "      <td>-0.006468</td>\n",
       "      <td>-0.002524</td>\n",
       "      <td>-0.005824</td>\n",
       "      <td>-0.008759</td>\n",
       "      <td>-0.004179</td>\n",
       "      <td>-0.004695</td>\n",
       "      <td>1.000000</td>\n",
       "      <td>-0.035027</td>\n",
       "      <td>-0.003454</td>\n",
       "      <td>...</td>\n",
       "      <td>-0.007981</td>\n",
       "      <td>-0.005352</td>\n",
       "      <td>-0.003864</td>\n",
       "      <td>-0.010134</td>\n",
       "      <td>-0.005279</td>\n",
       "      <td>-0.008960</td>\n",
       "      <td>-0.013541</td>\n",
       "      <td>-0.011075</td>\n",
       "      <td>-0.003516</td>\n",
       "      <td>0.030913</td>\n",
       "    </tr>\n",
       "    <tr>\n",
       "      <th>STATE_Guerrero</th>\n",
       "      <td>-0.014047</td>\n",
       "      <td>-0.012778</td>\n",
       "      <td>-0.004987</td>\n",
       "      <td>-0.011505</td>\n",
       "      <td>-0.017304</td>\n",
       "      <td>-0.008256</td>\n",
       "      <td>-0.009275</td>\n",
       "      <td>-0.009033</td>\n",
       "      <td>-0.069197</td>\n",
       "      <td>-0.006823</td>\n",
       "      <td>...</td>\n",
       "      <td>-0.015768</td>\n",
       "      <td>-0.010573</td>\n",
       "      <td>-0.007633</td>\n",
       "      <td>-0.020020</td>\n",
       "      <td>-0.010430</td>\n",
       "      <td>-0.017701</td>\n",
       "      <td>-0.026751</td>\n",
       "      <td>-0.021880</td>\n",
       "      <td>-0.006946</td>\n",
       "      <td>0.069300</td>\n",
       "    </tr>\n",
       "    <tr>\n",
       "      <th>STATE_Hidalgo</th>\n",
       "      <td>-0.023208</td>\n",
       "      <td>-0.021112</td>\n",
       "      <td>-0.008239</td>\n",
       "      <td>-0.019009</td>\n",
       "      <td>-0.028590</td>\n",
       "      <td>-0.013640</td>\n",
       "      <td>-0.015325</td>\n",
       "      <td>-0.014924</td>\n",
       "      <td>-0.114328</td>\n",
       "      <td>-0.011273</td>\n",
       "      <td>...</td>\n",
       "      <td>-0.026052</td>\n",
       "      <td>-0.017469</td>\n",
       "      <td>-0.012611</td>\n",
       "      <td>-0.033077</td>\n",
       "      <td>-0.017232</td>\n",
       "      <td>-0.029246</td>\n",
       "      <td>-0.044198</td>\n",
       "      <td>-0.036151</td>\n",
       "      <td>-0.011475</td>\n",
       "      <td>0.096493</td>\n",
       "    </tr>\n",
       "    <tr>\n",
       "      <th>STATE_Jalisco</th>\n",
       "      <td>-0.034357</td>\n",
       "      <td>-0.031253</td>\n",
       "      <td>-0.012197</td>\n",
       "      <td>-0.028141</td>\n",
       "      <td>-0.042324</td>\n",
       "      <td>-0.020193</td>\n",
       "      <td>-0.022686</td>\n",
       "      <td>-0.022093</td>\n",
       "      <td>-0.169250</td>\n",
       "      <td>-0.016688</td>\n",
       "      <td>...</td>\n",
       "      <td>-0.038567</td>\n",
       "      <td>-0.025861</td>\n",
       "      <td>-0.018669</td>\n",
       "      <td>-0.048967</td>\n",
       "      <td>-0.025510</td>\n",
       "      <td>-0.043296</td>\n",
       "      <td>-0.065431</td>\n",
       "      <td>-0.053517</td>\n",
       "      <td>-0.016988</td>\n",
       "      <td>0.032628</td>\n",
       "    </tr>\n",
       "    <tr>\n",
       "      <th>STATE_Morelos</th>\n",
       "      <td>-0.018556</td>\n",
       "      <td>-0.016880</td>\n",
       "      <td>-0.006587</td>\n",
       "      <td>-0.015199</td>\n",
       "      <td>-0.022859</td>\n",
       "      <td>-0.010906</td>\n",
       "      <td>-0.012253</td>\n",
       "      <td>-0.011932</td>\n",
       "      <td>-0.091412</td>\n",
       "      <td>-0.009013</td>\n",
       "      <td>...</td>\n",
       "      <td>-0.020830</td>\n",
       "      <td>-0.013967</td>\n",
       "      <td>-0.010083</td>\n",
       "      <td>-0.026447</td>\n",
       "      <td>-0.013778</td>\n",
       "      <td>-0.023384</td>\n",
       "      <td>-0.035339</td>\n",
       "      <td>-0.028904</td>\n",
       "      <td>-0.009175</td>\n",
       "      <td>0.057009</td>\n",
       "    </tr>\n",
       "    <tr>\n",
       "      <th>STATE_Nayarit</th>\n",
       "      <td>-0.009555</td>\n",
       "      <td>-0.008692</td>\n",
       "      <td>-0.003392</td>\n",
       "      <td>-0.007826</td>\n",
       "      <td>-0.011771</td>\n",
       "      <td>-0.005616</td>\n",
       "      <td>-0.006309</td>\n",
       "      <td>-0.006144</td>\n",
       "      <td>-0.047071</td>\n",
       "      <td>-0.004641</td>\n",
       "      <td>...</td>\n",
       "      <td>-0.010726</td>\n",
       "      <td>-0.007192</td>\n",
       "      <td>-0.005192</td>\n",
       "      <td>-0.013619</td>\n",
       "      <td>-0.007095</td>\n",
       "      <td>-0.012041</td>\n",
       "      <td>-0.018197</td>\n",
       "      <td>-0.014884</td>\n",
       "      <td>-0.004725</td>\n",
       "      <td>0.032723</td>\n",
       "    </tr>\n",
       "    <tr>\n",
       "      <th>STATE_Oaxaca</th>\n",
       "      <td>-0.011146</td>\n",
       "      <td>-0.010139</td>\n",
       "      <td>-0.003957</td>\n",
       "      <td>-0.009129</td>\n",
       "      <td>-0.013730</td>\n",
       "      <td>-0.006551</td>\n",
       "      <td>-0.007360</td>\n",
       "      <td>-0.007167</td>\n",
       "      <td>-0.054907</td>\n",
       "      <td>-0.005414</td>\n",
       "      <td>...</td>\n",
       "      <td>-0.012512</td>\n",
       "      <td>-0.008390</td>\n",
       "      <td>-0.006056</td>\n",
       "      <td>-0.015886</td>\n",
       "      <td>-0.008276</td>\n",
       "      <td>-0.014046</td>\n",
       "      <td>-0.021227</td>\n",
       "      <td>-0.017362</td>\n",
       "      <td>-0.005511</td>\n",
       "      <td>0.044986</td>\n",
       "    </tr>\n",
       "    <tr>\n",
       "      <th>STATE_Puebla</th>\n",
       "      <td>-0.023362</td>\n",
       "      <td>-0.021251</td>\n",
       "      <td>-0.008293</td>\n",
       "      <td>-0.019135</td>\n",
       "      <td>-0.028779</td>\n",
       "      <td>-0.013730</td>\n",
       "      <td>-0.015426</td>\n",
       "      <td>-0.015023</td>\n",
       "      <td>-0.115084</td>\n",
       "      <td>-0.011347</td>\n",
       "      <td>...</td>\n",
       "      <td>-0.026224</td>\n",
       "      <td>-0.017584</td>\n",
       "      <td>-0.012694</td>\n",
       "      <td>-0.033296</td>\n",
       "      <td>-0.017346</td>\n",
       "      <td>-0.029440</td>\n",
       "      <td>-0.044491</td>\n",
       "      <td>-0.036389</td>\n",
       "      <td>-0.011551</td>\n",
       "      <td>0.061183</td>\n",
       "    </tr>\n",
       "    <tr>\n",
       "      <th>STATE_Quintana_Roo</th>\n",
       "      <td>-0.012629</td>\n",
       "      <td>-0.011488</td>\n",
       "      <td>-0.004483</td>\n",
       "      <td>-0.010344</td>\n",
       "      <td>-0.015558</td>\n",
       "      <td>-0.007423</td>\n",
       "      <td>-0.008339</td>\n",
       "      <td>-0.008121</td>\n",
       "      <td>-0.062214</td>\n",
       "      <td>-0.006134</td>\n",
       "      <td>...</td>\n",
       "      <td>-0.014177</td>\n",
       "      <td>-0.009506</td>\n",
       "      <td>-0.006862</td>\n",
       "      <td>-0.018000</td>\n",
       "      <td>-0.009377</td>\n",
       "      <td>-0.015915</td>\n",
       "      <td>-0.024052</td>\n",
       "      <td>-0.019672</td>\n",
       "      <td>-0.006245</td>\n",
       "      <td>0.024692</td>\n",
       "    </tr>\n",
       "    <tr>\n",
       "      <th>STATE_Sinaloa</th>\n",
       "      <td>-0.008323</td>\n",
       "      <td>-0.007571</td>\n",
       "      <td>-0.002955</td>\n",
       "      <td>-0.006817</td>\n",
       "      <td>-0.010253</td>\n",
       "      <td>-0.004892</td>\n",
       "      <td>-0.005496</td>\n",
       "      <td>-0.005352</td>\n",
       "      <td>-0.041000</td>\n",
       "      <td>-0.004043</td>\n",
       "      <td>...</td>\n",
       "      <td>-0.009343</td>\n",
       "      <td>1.000000</td>\n",
       "      <td>-0.004522</td>\n",
       "      <td>-0.011862</td>\n",
       "      <td>-0.006180</td>\n",
       "      <td>-0.010488</td>\n",
       "      <td>-0.015850</td>\n",
       "      <td>-0.012964</td>\n",
       "      <td>-0.004115</td>\n",
       "      <td>0.055817</td>\n",
       "    </tr>\n",
       "    <tr>\n",
       "      <th>STATE_Sonora</th>\n",
       "      <td>-0.006008</td>\n",
       "      <td>-0.005465</td>\n",
       "      <td>-0.002133</td>\n",
       "      <td>-0.004921</td>\n",
       "      <td>-0.007401</td>\n",
       "      <td>-0.003531</td>\n",
       "      <td>-0.003967</td>\n",
       "      <td>-0.003864</td>\n",
       "      <td>-0.029598</td>\n",
       "      <td>-0.002918</td>\n",
       "      <td>...</td>\n",
       "      <td>-0.006744</td>\n",
       "      <td>-0.004522</td>\n",
       "      <td>1.000000</td>\n",
       "      <td>-0.008563</td>\n",
       "      <td>-0.004461</td>\n",
       "      <td>-0.007571</td>\n",
       "      <td>-0.011442</td>\n",
       "      <td>-0.009359</td>\n",
       "      <td>-0.002971</td>\n",
       "      <td>0.049245</td>\n",
       "    </tr>\n",
       "    <tr>\n",
       "      <th>STATE_Tabasco</th>\n",
       "      <td>-0.015759</td>\n",
       "      <td>-0.014336</td>\n",
       "      <td>-0.005594</td>\n",
       "      <td>-0.012908</td>\n",
       "      <td>-0.019413</td>\n",
       "      <td>-0.009262</td>\n",
       "      <td>-0.010406</td>\n",
       "      <td>-0.010134</td>\n",
       "      <td>-0.077633</td>\n",
       "      <td>-0.007655</td>\n",
       "      <td>...</td>\n",
       "      <td>-0.017690</td>\n",
       "      <td>-0.011862</td>\n",
       "      <td>-0.008563</td>\n",
       "      <td>1.000000</td>\n",
       "      <td>-0.011701</td>\n",
       "      <td>-0.019859</td>\n",
       "      <td>-0.030012</td>\n",
       "      <td>-0.024548</td>\n",
       "      <td>-0.007792</td>\n",
       "      <td>0.037998</td>\n",
       "    </tr>\n",
       "    <tr>\n",
       "      <th>STATE_Tamaulipas</th>\n",
       "      <td>-0.008210</td>\n",
       "      <td>-0.007468</td>\n",
       "      <td>-0.002915</td>\n",
       "      <td>-0.006725</td>\n",
       "      <td>-0.010114</td>\n",
       "      <td>-0.004825</td>\n",
       "      <td>-0.005421</td>\n",
       "      <td>-0.005279</td>\n",
       "      <td>-0.040444</td>\n",
       "      <td>-0.003988</td>\n",
       "      <td>...</td>\n",
       "      <td>-0.009216</td>\n",
       "      <td>-0.006180</td>\n",
       "      <td>-0.004461</td>\n",
       "      <td>-0.011701</td>\n",
       "      <td>1.000000</td>\n",
       "      <td>-0.010346</td>\n",
       "      <td>-0.015635</td>\n",
       "      <td>-0.012788</td>\n",
       "      <td>-0.004059</td>\n",
       "      <td>0.017675</td>\n",
       "    </tr>\n",
       "    <tr>\n",
       "      <th>STATE_Tlaxcala</th>\n",
       "      <td>-0.013934</td>\n",
       "      <td>-0.012675</td>\n",
       "      <td>-0.004947</td>\n",
       "      <td>-0.011413</td>\n",
       "      <td>-0.017165</td>\n",
       "      <td>-0.008189</td>\n",
       "      <td>-0.009201</td>\n",
       "      <td>-0.008960</td>\n",
       "      <td>-0.068642</td>\n",
       "      <td>-0.006768</td>\n",
       "      <td>...</td>\n",
       "      <td>-0.015641</td>\n",
       "      <td>-0.010488</td>\n",
       "      <td>-0.007571</td>\n",
       "      <td>-0.019859</td>\n",
       "      <td>-0.010346</td>\n",
       "      <td>1.000000</td>\n",
       "      <td>-0.026537</td>\n",
       "      <td>-0.021705</td>\n",
       "      <td>-0.006890</td>\n",
       "      <td>0.048688</td>\n",
       "    </tr>\n",
       "    <tr>\n",
       "      <th>STATE_Veracruz</th>\n",
       "      <td>-0.021058</td>\n",
       "      <td>-0.019155</td>\n",
       "      <td>-0.007475</td>\n",
       "      <td>-0.017248</td>\n",
       "      <td>-0.025941</td>\n",
       "      <td>-0.012376</td>\n",
       "      <td>-0.013905</td>\n",
       "      <td>-0.013541</td>\n",
       "      <td>-0.103735</td>\n",
       "      <td>-0.010228</td>\n",
       "      <td>...</td>\n",
       "      <td>-0.023638</td>\n",
       "      <td>-0.015850</td>\n",
       "      <td>-0.011442</td>\n",
       "      <td>-0.030012</td>\n",
       "      <td>-0.015635</td>\n",
       "      <td>-0.026537</td>\n",
       "      <td>1.000000</td>\n",
       "      <td>-0.032801</td>\n",
       "      <td>-0.010412</td>\n",
       "      <td>0.019774</td>\n",
       "    </tr>\n",
       "    <tr>\n",
       "      <th>target</th>\n",
       "      <td>-0.023783</td>\n",
       "      <td>-0.000094</td>\n",
       "      <td>0.037388</td>\n",
       "      <td>0.007922</td>\n",
       "      <td>-0.012255</td>\n",
       "      <td>0.010373</td>\n",
       "      <td>-0.018693</td>\n",
       "      <td>0.030913</td>\n",
       "      <td>-0.042078</td>\n",
       "      <td>-0.012970</td>\n",
       "      <td>...</td>\n",
       "      <td>-0.039341</td>\n",
       "      <td>0.055817</td>\n",
       "      <td>0.049245</td>\n",
       "      <td>0.037998</td>\n",
       "      <td>0.017675</td>\n",
       "      <td>0.048688</td>\n",
       "      <td>0.019774</td>\n",
       "      <td>-0.049829</td>\n",
       "      <td>-0.008910</td>\n",
       "      <td>1.000000</td>\n",
       "    </tr>\n",
       "  </tbody>\n",
       "</table>\n",
       "<p>100 rows × 33 columns</p>\n",
       "</div>"
      ],
      "text/plain": [
       "                             STATE_Aguascalientes  STATE_Baja_California  \\\n",
       "COUNT_WEEKNIGHT_2                        0.001858               0.017464   \n",
       "COUNT_WEEKNIGHT_3                        0.001989               0.010829   \n",
       "COUNT_WEEKNIGHT_4                        0.002362               0.009248   \n",
       "COUNT_WEEKNIGHT_5                        0.002514               0.009140   \n",
       "COUNT_WEEKNIGHT_6                        0.000630               0.005390   \n",
       "COUNT_WEEKNIGHT_7                       -0.001530               0.004680   \n",
       "COUNT_WEEKNIGHT_8                       -0.003100               0.004055   \n",
       "COUNT_WEEKNIGHT_9                       -0.006229               0.003036   \n",
       "MOBILITY_DIAMETER                        0.047697               0.144126   \n",
       "MOBILITY_DIAMETER_WEEKNIGHT              0.046818               0.143429   \n",
       "EPIDEMIC                                -0.070369              -0.064011   \n",
       "EPIDEMIC_gt                             -0.042092              -0.018679   \n",
       "TimeWeekEnd_OUT_VUL_12                  -0.013903              -0.006271   \n",
       "CallsWeekDay_OUT_VUL_12                 -0.022729              -0.016582   \n",
       "CallsWeekNight_OUT_VUL_12               -0.018719              -0.010042   \n",
       "TimeWeekDay_OUT_VUL_12                  -0.017553              -0.010648   \n",
       "CallsWeekEnd_OUT_VUL_12                 -0.020718              -0.014418   \n",
       "TimeWeekNight_OUT_VUL_12                -0.011195              -0.002831   \n",
       "VULNERABLE_OUT_12                       -0.040959              -0.028321   \n",
       "TimeWeekEnd_IN_VUL_12                   -0.012815              -0.007574   \n",
       "CallsWeekDay_IN_VUL_12                  -0.022457              -0.017972   \n",
       "CallsWeekNight_IN_VUL_12                -0.018331              -0.012598   \n",
       "TimeWeekDay_IN_VUL_12                   -0.016058              -0.013013   \n",
       "CallsWeekEnd_IN_VUL_12                  -0.020846              -0.016506   \n",
       "TimeWeekNight_IN_VUL_12                 -0.008296              -0.005321   \n",
       "VULNERABLE_IN_12                        -0.041107              -0.027672   \n",
       "TimeWeekEnd_OUT_VUL_08                  -0.014957              -0.004448   \n",
       "CallsWeekDay_OUT_VUL_08                 -0.022913              -0.015308   \n",
       "CallsWeekNight_OUT_VUL_08               -0.018699              -0.011335   \n",
       "TimeWeekDay_OUT_VUL_08                  -0.017566              -0.011165   \n",
       "...                                           ...                    ...   \n",
       "CallsWeekNight_OUT_VUL_11               -0.019018              -0.007404   \n",
       "TimeWeekDay_OUT_VUL_11                  -0.017407              -0.009035   \n",
       "CallsWeekEnd_OUT_VUL_11                 -0.022730              -0.014366   \n",
       "TimeWeekNight_OUT_VUL_11                -0.010750               0.001692   \n",
       "VULNERABLE_OUT_11                       -0.040210              -0.028672   \n",
       "TimeWeekEnd_IN_VUL_11                   -0.015421              -0.006159   \n",
       "CallsWeekDay_IN_VUL_11                  -0.021256              -0.018500   \n",
       "CallsWeekNight_IN_VUL_11                -0.018859              -0.010808   \n",
       "TimeWeekDay_IN_VUL_11                   -0.014360              -0.012172   \n",
       "CallsWeekEnd_IN_VUL_11                  -0.022765              -0.016996   \n",
       "TimeWeekNight_IN_VUL_11                 -0.009674              -0.002396   \n",
       "VULNERABLE_IN_11                        -0.040535              -0.030162   \n",
       "STATE_Baja_California_Sur               -0.003925              -0.003571   \n",
       "STATE_Chihuahua                         -0.006499              -0.005912   \n",
       "STATE_Colima                            -0.007110              -0.006468   \n",
       "STATE_Guerrero                          -0.014047              -0.012778   \n",
       "STATE_Hidalgo                           -0.023208              -0.021112   \n",
       "STATE_Jalisco                           -0.034357              -0.031253   \n",
       "STATE_Morelos                           -0.018556              -0.016880   \n",
       "STATE_Nayarit                           -0.009555              -0.008692   \n",
       "STATE_Oaxaca                            -0.011146              -0.010139   \n",
       "STATE_Puebla                            -0.023362              -0.021251   \n",
       "STATE_Quintana_Roo                      -0.012629              -0.011488   \n",
       "STATE_Sinaloa                           -0.008323              -0.007571   \n",
       "STATE_Sonora                            -0.006008              -0.005465   \n",
       "STATE_Tabasco                           -0.015759              -0.014336   \n",
       "STATE_Tamaulipas                        -0.008210              -0.007468   \n",
       "STATE_Tlaxcala                          -0.013934              -0.012675   \n",
       "STATE_Veracruz                          -0.021058              -0.019155   \n",
       "target                                  -0.023783              -0.000094   \n",
       "\n",
       "                             STATE_Baja_California_Sur  STATE_Campeche  \\\n",
       "COUNT_WEEKNIGHT_2                             0.010462        0.010913   \n",
       "COUNT_WEEKNIGHT_3                             0.010054        0.010218   \n",
       "COUNT_WEEKNIGHT_4                             0.010038        0.006389   \n",
       "COUNT_WEEKNIGHT_5                             0.007257        0.001450   \n",
       "COUNT_WEEKNIGHT_6                             0.005871       -0.002301   \n",
       "COUNT_WEEKNIGHT_7                             0.003499       -0.008053   \n",
       "COUNT_WEEKNIGHT_8                             0.002260       -0.011266   \n",
       "COUNT_WEEKNIGHT_9                             0.000089       -0.015504   \n",
       "MOBILITY_DIAMETER                             0.029463        0.006546   \n",
       "MOBILITY_DIAMETER_WEEKNIGHT                   0.029630        0.005464   \n",
       "EPIDEMIC                                     -0.024981       -0.057637   \n",
       "EPIDEMIC_gt                                   0.026783       -0.009529   \n",
       "TimeWeekEnd_OUT_VUL_12                        0.008033       -0.000488   \n",
       "CallsWeekDay_OUT_VUL_12                      -0.000007       -0.012801   \n",
       "CallsWeekNight_OUT_VUL_12                     0.006258       -0.003309   \n",
       "TimeWeekDay_OUT_VUL_12                        0.003875       -0.004778   \n",
       "CallsWeekEnd_OUT_VUL_12                       0.002557       -0.009829   \n",
       "TimeWeekNight_OUT_VUL_12                      0.010893        0.007069   \n",
       "VULNERABLE_OUT_12                             0.008961       -0.016654   \n",
       "TimeWeekEnd_IN_VUL_12                         0.006726       -0.000521   \n",
       "CallsWeekDay_IN_VUL_12                       -0.000865       -0.014889   \n",
       "CallsWeekNight_IN_VUL_12                      0.003360       -0.010111   \n",
       "TimeWeekDay_IN_VUL_12                         0.003278       -0.006267   \n",
       "CallsWeekEnd_IN_VUL_12                        0.000786       -0.010897   \n",
       "TimeWeekNight_IN_VUL_12                       0.007753       -0.001753   \n",
       "VULNERABLE_IN_12                              0.009459       -0.015403   \n",
       "TimeWeekEnd_OUT_VUL_08                        0.013896       -0.001363   \n",
       "CallsWeekDay_OUT_VUL_08                       0.000393       -0.013446   \n",
       "CallsWeekNight_OUT_VUL_08                     0.006758       -0.006365   \n",
       "TimeWeekDay_OUT_VUL_08                        0.003923       -0.004893   \n",
       "...                                                ...             ...   \n",
       "CallsWeekNight_OUT_VUL_11                     0.000639       -0.005551   \n",
       "TimeWeekDay_OUT_VUL_11                        0.003391       -0.006930   \n",
       "CallsWeekEnd_OUT_VUL_11                       0.002723       -0.010726   \n",
       "TimeWeekNight_OUT_VUL_11                      0.003391        0.004872   \n",
       "VULNERABLE_OUT_11                             0.005511       -0.020553   \n",
       "TimeWeekEnd_IN_VUL_11                         0.009940       -0.001356   \n",
       "CallsWeekDay_IN_VUL_11                       -0.000636       -0.015335   \n",
       "CallsWeekNight_IN_VUL_11                      0.001258       -0.009396   \n",
       "TimeWeekDay_IN_VUL_11                         0.001558       -0.008221   \n",
       "CallsWeekEnd_IN_VUL_11                        0.000584       -0.012439   \n",
       "TimeWeekNight_IN_VUL_11                       0.004088       -0.000596   \n",
       "VULNERABLE_IN_11                              0.008381       -0.019054   \n",
       "STATE_Baja_California_Sur                     1.000000       -0.003215   \n",
       "STATE_Chihuahua                              -0.002307       -0.005323   \n",
       "STATE_Colima                                 -0.002524       -0.005824   \n",
       "STATE_Guerrero                               -0.004987       -0.011505   \n",
       "STATE_Hidalgo                                -0.008239       -0.019009   \n",
       "STATE_Jalisco                                -0.012197       -0.028141   \n",
       "STATE_Morelos                                -0.006587       -0.015199   \n",
       "STATE_Nayarit                                -0.003392       -0.007826   \n",
       "STATE_Oaxaca                                 -0.003957       -0.009129   \n",
       "STATE_Puebla                                 -0.008293       -0.019135   \n",
       "STATE_Quintana_Roo                           -0.004483       -0.010344   \n",
       "STATE_Sinaloa                                -0.002955       -0.006817   \n",
       "STATE_Sonora                                 -0.002133       -0.004921   \n",
       "STATE_Tabasco                                -0.005594       -0.012908   \n",
       "STATE_Tamaulipas                             -0.002915       -0.006725   \n",
       "STATE_Tlaxcala                               -0.004947       -0.011413   \n",
       "STATE_Veracruz                               -0.007475       -0.017248   \n",
       "target                                        0.037388        0.007922   \n",
       "\n",
       "                             STATE_Chiapas  STATE_Chihuahua  \\\n",
       "COUNT_WEEKNIGHT_2                 0.002828         0.010746   \n",
       "COUNT_WEEKNIGHT_3                -0.000853         0.008956   \n",
       "COUNT_WEEKNIGHT_4                -0.001716         0.006701   \n",
       "COUNT_WEEKNIGHT_5                -0.003555         0.005085   \n",
       "COUNT_WEEKNIGHT_6                -0.006009         0.004453   \n",
       "COUNT_WEEKNIGHT_7                -0.008596         0.002837   \n",
       "COUNT_WEEKNIGHT_8                -0.011632         0.002160   \n",
       "COUNT_WEEKNIGHT_9                -0.014553         0.000584   \n",
       "MOBILITY_DIAMETER                -0.014228         0.022625   \n",
       "MOBILITY_DIAMETER_WEEKNIGHT      -0.010217         0.023249   \n",
       "EPIDEMIC                         -0.086685        -0.041358   \n",
       "EPIDEMIC_gt                      -0.036335        -0.002569   \n",
       "TimeWeekEnd_OUT_VUL_12           -0.011647        -0.006696   \n",
       "CallsWeekDay_OUT_VUL_12          -0.023496        -0.008627   \n",
       "CallsWeekNight_OUT_VUL_12        -0.017347        -0.005301   \n",
       "TimeWeekDay_OUT_VUL_12           -0.016128        -0.005995   \n",
       "CallsWeekEnd_OUT_VUL_12          -0.021284        -0.009290   \n",
       "TimeWeekNight_OUT_VUL_12         -0.006941         0.000307   \n",
       "VULNERABLE_OUT_12                -0.039564        -0.016982   \n",
       "TimeWeekEnd_IN_VUL_12            -0.008049        -0.002762   \n",
       "CallsWeekDay_IN_VUL_12           -0.024665        -0.007189   \n",
       "CallsWeekNight_IN_VUL_12         -0.017924        -0.005440   \n",
       "TimeWeekDay_IN_VUL_12            -0.016078        -0.004116   \n",
       "CallsWeekEnd_IN_VUL_12           -0.021659        -0.006442   \n",
       "TimeWeekNight_IN_VUL_12          -0.005488        -0.003227   \n",
       "VULNERABLE_IN_12                 -0.039487        -0.015858   \n",
       "TimeWeekEnd_OUT_VUL_08           -0.009795        -0.004073   \n",
       "CallsWeekDay_OUT_VUL_08          -0.024191        -0.009933   \n",
       "CallsWeekNight_OUT_VUL_08        -0.016954        -0.008103   \n",
       "TimeWeekDay_OUT_VUL_08           -0.016604        -0.006313   \n",
       "...                                    ...              ...   \n",
       "CallsWeekNight_OUT_VUL_11        -0.015065        -0.008255   \n",
       "TimeWeekDay_OUT_VUL_11           -0.015829        -0.005967   \n",
       "CallsWeekEnd_OUT_VUL_11          -0.021539        -0.009630   \n",
       "TimeWeekNight_OUT_VUL_11         -0.004256        -0.005000   \n",
       "VULNERABLE_OUT_11                -0.042658        -0.017134   \n",
       "TimeWeekEnd_IN_VUL_11            -0.010575        -0.001549   \n",
       "CallsWeekDay_IN_VUL_11           -0.023914        -0.008257   \n",
       "CallsWeekNight_IN_VUL_11         -0.017210        -0.006741   \n",
       "TimeWeekDay_IN_VUL_11            -0.013160        -0.005113   \n",
       "CallsWeekEnd_IN_VUL_11           -0.024323        -0.007011   \n",
       "TimeWeekNight_IN_VUL_11          -0.004479        -0.002574   \n",
       "VULNERABLE_IN_11                 -0.043372        -0.016477   \n",
       "STATE_Baja_California_Sur        -0.004835        -0.002307   \n",
       "STATE_Chihuahua                  -0.008006         1.000000   \n",
       "STATE_Colima                     -0.008759        -0.004179   \n",
       "STATE_Guerrero                   -0.017304        -0.008256   \n",
       "STATE_Hidalgo                    -0.028590        -0.013640   \n",
       "STATE_Jalisco                    -0.042324        -0.020193   \n",
       "STATE_Morelos                    -0.022859        -0.010906   \n",
       "STATE_Nayarit                    -0.011771        -0.005616   \n",
       "STATE_Oaxaca                     -0.013730        -0.006551   \n",
       "STATE_Puebla                     -0.028779        -0.013730   \n",
       "STATE_Quintana_Roo               -0.015558        -0.007423   \n",
       "STATE_Sinaloa                    -0.010253        -0.004892   \n",
       "STATE_Sonora                     -0.007401        -0.003531   \n",
       "STATE_Tabasco                    -0.019413        -0.009262   \n",
       "STATE_Tamaulipas                 -0.010114        -0.004825   \n",
       "STATE_Tlaxcala                   -0.017165        -0.008189   \n",
       "STATE_Veracruz                   -0.025941        -0.012376   \n",
       "target                           -0.012255         0.010373   \n",
       "\n",
       "                             STATE_Coahuila_de_Zaragoza  STATE_Colima  \\\n",
       "COUNT_WEEKNIGHT_2                              0.000414      0.023018   \n",
       "COUNT_WEEKNIGHT_3                             -0.000462      0.020948   \n",
       "COUNT_WEEKNIGHT_4                             -0.004008      0.015477   \n",
       "COUNT_WEEKNIGHT_5                             -0.005752      0.011588   \n",
       "COUNT_WEEKNIGHT_6                             -0.007847      0.008485   \n",
       "COUNT_WEEKNIGHT_7                             -0.008421      0.003400   \n",
       "COUNT_WEEKNIGHT_8                             -0.010742      0.001750   \n",
       "COUNT_WEEKNIGHT_9                             -0.013024      0.000132   \n",
       "MOBILITY_DIAMETER                             -0.002491     -0.007132   \n",
       "MOBILITY_DIAMETER_WEEKNIGHT                   -0.001705     -0.005473   \n",
       "EPIDEMIC                                      -0.046465     -0.045250   \n",
       "EPIDEMIC_gt                                   -0.030514      0.015001   \n",
       "TimeWeekEnd_OUT_VUL_12                        -0.012125      0.007212   \n",
       "CallsWeekDay_OUT_VUL_12                       -0.017978      0.007904   \n",
       "CallsWeekNight_OUT_VUL_12                     -0.012895      0.006902   \n",
       "TimeWeekDay_OUT_VUL_12                        -0.014900      0.013330   \n",
       "CallsWeekEnd_OUT_VUL_12                       -0.016709      0.004856   \n",
       "TimeWeekNight_OUT_VUL_12                      -0.006621      0.005087   \n",
       "VULNERABLE_OUT_12                             -0.033939      0.010742   \n",
       "TimeWeekEnd_IN_VUL_12                         -0.011186      0.009232   \n",
       "CallsWeekDay_IN_VUL_12                        -0.018177      0.005136   \n",
       "CallsWeekNight_IN_VUL_12                      -0.014144      0.006850   \n",
       "TimeWeekDay_IN_VUL_12                         -0.014973      0.010036   \n",
       "CallsWeekEnd_IN_VUL_12                        -0.016915      0.004794   \n",
       "TimeWeekNight_IN_VUL_12                       -0.007575      0.007875   \n",
       "VULNERABLE_IN_12                              -0.033841      0.012749   \n",
       "TimeWeekEnd_OUT_VUL_08                        -0.009357      0.009206   \n",
       "CallsWeekDay_OUT_VUL_08                       -0.017416      0.007667   \n",
       "CallsWeekNight_OUT_VUL_08                     -0.012660      0.011083   \n",
       "TimeWeekDay_OUT_VUL_08                        -0.014123      0.009930   \n",
       "...                                                 ...           ...   \n",
       "CallsWeekNight_OUT_VUL_11                     -0.013050      0.008629   \n",
       "TimeWeekDay_OUT_VUL_11                        -0.013458      0.008591   \n",
       "CallsWeekEnd_OUT_VUL_11                       -0.015850      0.006855   \n",
       "TimeWeekNight_OUT_VUL_11                      -0.006942      0.008321   \n",
       "VULNERABLE_OUT_11                             -0.034379      0.011267   \n",
       "TimeWeekEnd_IN_VUL_11                         -0.010403      0.003722   \n",
       "CallsWeekDay_IN_VUL_11                        -0.017190      0.002792   \n",
       "CallsWeekNight_IN_VUL_11                      -0.012355      0.004662   \n",
       "TimeWeekDay_IN_VUL_11                         -0.013512      0.005018   \n",
       "CallsWeekEnd_IN_VUL_11                        -0.016907      0.000881   \n",
       "TimeWeekNight_IN_VUL_11                       -0.004920      0.003574   \n",
       "VULNERABLE_IN_11                              -0.032897      0.010190   \n",
       "STATE_Baja_California_Sur                     -0.002592     -0.002524   \n",
       "STATE_Chihuahua                               -0.004291     -0.004179   \n",
       "STATE_Colima                                  -0.004695      1.000000   \n",
       "STATE_Guerrero                                -0.009275     -0.009033   \n",
       "STATE_Hidalgo                                 -0.015325     -0.014924   \n",
       "STATE_Jalisco                                 -0.022686     -0.022093   \n",
       "STATE_Morelos                                 -0.012253     -0.011932   \n",
       "STATE_Nayarit                                 -0.006309     -0.006144   \n",
       "STATE_Oaxaca                                  -0.007360     -0.007167   \n",
       "STATE_Puebla                                  -0.015426     -0.015023   \n",
       "STATE_Quintana_Roo                            -0.008339     -0.008121   \n",
       "STATE_Sinaloa                                 -0.005496     -0.005352   \n",
       "STATE_Sonora                                  -0.003967     -0.003864   \n",
       "STATE_Tabasco                                 -0.010406     -0.010134   \n",
       "STATE_Tamaulipas                              -0.005421     -0.005279   \n",
       "STATE_Tlaxcala                                -0.009201     -0.008960   \n",
       "STATE_Veracruz                                -0.013905     -0.013541   \n",
       "target                                        -0.018693      0.030913   \n",
       "\n",
       "                             STATE_Distrito_Federal  STATE_Durango    ...     \\\n",
       "COUNT_WEEKNIGHT_2                          0.021149      -0.000483    ...      \n",
       "COUNT_WEEKNIGHT_3                          0.036144      -0.001415    ...      \n",
       "COUNT_WEEKNIGHT_4                          0.053368      -0.003196    ...      \n",
       "COUNT_WEEKNIGHT_5                          0.067628      -0.003591    ...      \n",
       "COUNT_WEEKNIGHT_6                          0.079762      -0.004916    ...      \n",
       "COUNT_WEEKNIGHT_7                          0.091035      -0.006330    ...      \n",
       "COUNT_WEEKNIGHT_8                          0.100469      -0.007947    ...      \n",
       "COUNT_WEEKNIGHT_9                          0.109838      -0.008881    ...      \n",
       "MOBILITY_DIAMETER                         -0.137678      -0.009237    ...      \n",
       "MOBILITY_DIAMETER_WEEKNIGHT               -0.118547      -0.009302    ...      \n",
       "EPIDEMIC                                  -0.346650      -0.034179    ...      \n",
       "EPIDEMIC_gt                               -0.138996      -0.021735    ...      \n",
       "TimeWeekEnd_OUT_VUL_12                    -0.059115      -0.009559    ...      \n",
       "CallsWeekDay_OUT_VUL_12                   -0.095289      -0.013486    ...      \n",
       "CallsWeekNight_OUT_VUL_12                 -0.065913      -0.010075    ...      \n",
       "TimeWeekDay_OUT_VUL_12                    -0.071550      -0.011761    ...      \n",
       "CallsWeekEnd_OUT_VUL_12                   -0.087687      -0.012906    ...      \n",
       "TimeWeekNight_OUT_VUL_12                  -0.033505      -0.006106    ...      \n",
       "VULNERABLE_OUT_12                         -0.147497      -0.025169    ...      \n",
       "TimeWeekEnd_IN_VUL_12                     -0.055550      -0.008656    ...      \n",
       "CallsWeekDay_IN_VUL_12                    -0.096553      -0.012183    ...      \n",
       "CallsWeekNight_IN_VUL_12                  -0.070318      -0.010760    ...      \n",
       "TimeWeekDay_IN_VUL_12                     -0.071406      -0.009973    ...      \n",
       "CallsWeekEnd_IN_VUL_12                    -0.089347      -0.012235    ...      \n",
       "TimeWeekNight_IN_VUL_12                   -0.035170      -0.006676    ...      \n",
       "VULNERABLE_IN_12                          -0.148157      -0.023546    ...      \n",
       "TimeWeekEnd_OUT_VUL_08                    -0.067427      -0.010476    ...      \n",
       "CallsWeekDay_OUT_VUL_08                   -0.101383      -0.012788    ...      \n",
       "CallsWeekNight_OUT_VUL_08                 -0.077978      -0.012024    ...      \n",
       "TimeWeekDay_OUT_VUL_08                    -0.080102      -0.011457    ...      \n",
       "...                                             ...            ...    ...      \n",
       "CallsWeekNight_OUT_VUL_11                 -0.066810      -0.010967    ...      \n",
       "TimeWeekDay_OUT_VUL_11                    -0.075553      -0.011472    ...      \n",
       "CallsWeekEnd_OUT_VUL_11                   -0.096621      -0.013394    ...      \n",
       "TimeWeekNight_OUT_VUL_11                  -0.030047      -0.007340    ...      \n",
       "VULNERABLE_OUT_11                         -0.155290      -0.025967    ...      \n",
       "TimeWeekEnd_IN_VUL_11                     -0.058554      -0.008938    ...      \n",
       "CallsWeekDay_IN_VUL_11                    -0.098893      -0.012572    ...      \n",
       "CallsWeekNight_IN_VUL_11                  -0.069934      -0.010903    ...      \n",
       "TimeWeekDay_IN_VUL_11                     -0.070976      -0.010378    ...      \n",
       "CallsWeekEnd_IN_VUL_11                    -0.097204      -0.013275    ...      \n",
       "TimeWeekNight_IN_VUL_11                   -0.029386      -0.006394    ...      \n",
       "VULNERABLE_IN_11                          -0.154610      -0.025122    ...      \n",
       "STATE_Baja_California_Sur                 -0.019337      -0.001907    ...      \n",
       "STATE_Chihuahua                           -0.032014      -0.003157    ...      \n",
       "STATE_Colima                              -0.035027      -0.003454    ...      \n",
       "STATE_Guerrero                            -0.069197      -0.006823    ...      \n",
       "STATE_Hidalgo                             -0.114328      -0.011273    ...      \n",
       "STATE_Jalisco                             -0.169250      -0.016688    ...      \n",
       "STATE_Morelos                             -0.091412      -0.009013    ...      \n",
       "STATE_Nayarit                             -0.047071      -0.004641    ...      \n",
       "STATE_Oaxaca                              -0.054907      -0.005414    ...      \n",
       "STATE_Puebla                              -0.115084      -0.011347    ...      \n",
       "STATE_Quintana_Roo                        -0.062214      -0.006134    ...      \n",
       "STATE_Sinaloa                             -0.041000      -0.004043    ...      \n",
       "STATE_Sonora                              -0.029598      -0.002918    ...      \n",
       "STATE_Tabasco                             -0.077633      -0.007655    ...      \n",
       "STATE_Tamaulipas                          -0.040444      -0.003988    ...      \n",
       "STATE_Tlaxcala                            -0.068642      -0.006768    ...      \n",
       "STATE_Veracruz                            -0.103735      -0.010228    ...      \n",
       "target                                    -0.042078      -0.012970    ...      \n",
       "\n",
       "                             STATE_San_Luis_Potosi  STATE_Sinaloa  \\\n",
       "COUNT_WEEKNIGHT_2                         0.011250       0.016204   \n",
       "COUNT_WEEKNIGHT_3                         0.015895       0.017738   \n",
       "COUNT_WEEKNIGHT_4                         0.016725       0.017207   \n",
       "COUNT_WEEKNIGHT_5                         0.017598       0.013512   \n",
       "COUNT_WEEKNIGHT_6                         0.017243       0.012980   \n",
       "COUNT_WEEKNIGHT_7                         0.016603       0.010894   \n",
       "COUNT_WEEKNIGHT_8                         0.014271       0.008808   \n",
       "COUNT_WEEKNIGHT_9                         0.011430       0.007838   \n",
       "MOBILITY_DIAMETER                         0.061433       0.050950   \n",
       "MOBILITY_DIAMETER_WEEKNIGHT               0.063474       0.054681   \n",
       "EPIDEMIC                                 -0.078990      -0.052967   \n",
       "EPIDEMIC_gt                              -0.058760       0.035432   \n",
       "TimeWeekEnd_OUT_VUL_12                   -0.015696       0.009864   \n",
       "CallsWeekDay_OUT_VUL_12                  -0.029212       0.004131   \n",
       "CallsWeekNight_OUT_VUL_12                -0.018689       0.008055   \n",
       "TimeWeekDay_OUT_VUL_12                   -0.024868       0.009684   \n",
       "CallsWeekEnd_OUT_VUL_12                  -0.025552       0.003966   \n",
       "TimeWeekNight_OUT_VUL_12                 -0.008468       0.013700   \n",
       "VULNERABLE_OUT_12                        -0.050379       0.016702   \n",
       "TimeWeekEnd_IN_VUL_12                    -0.015693       0.008701   \n",
       "CallsWeekDay_IN_VUL_12                   -0.028464       0.003156   \n",
       "CallsWeekNight_IN_VUL_12                 -0.021479       0.003239   \n",
       "TimeWeekDay_IN_VUL_12                    -0.021959       0.005298   \n",
       "CallsWeekEnd_IN_VUL_12                   -0.026426       0.004382   \n",
       "TimeWeekNight_IN_VUL_12                  -0.009615       0.003860   \n",
       "VULNERABLE_IN_12                         -0.048578       0.016454   \n",
       "TimeWeekEnd_OUT_VUL_08                   -0.017209       0.008612   \n",
       "CallsWeekDay_OUT_VUL_08                  -0.028131      -0.000279   \n",
       "CallsWeekNight_OUT_VUL_08                -0.018589       0.002400   \n",
       "TimeWeekDay_OUT_VUL_08                   -0.022973       0.002646   \n",
       "...                                            ...            ...   \n",
       "CallsWeekNight_OUT_VUL_11                -0.018093       0.002800   \n",
       "TimeWeekDay_OUT_VUL_11                   -0.022519       0.005454   \n",
       "CallsWeekEnd_OUT_VUL_11                  -0.026945      -0.000820   \n",
       "TimeWeekNight_OUT_VUL_11                 -0.008341       0.007259   \n",
       "VULNERABLE_OUT_11                        -0.052225       0.013658   \n",
       "TimeWeekEnd_IN_VUL_11                    -0.014515       0.003848   \n",
       "CallsWeekDay_IN_VUL_11                   -0.027309      -0.001533   \n",
       "CallsWeekNight_IN_VUL_11                 -0.019439       0.000220   \n",
       "TimeWeekDay_IN_VUL_11                    -0.020598       0.001846   \n",
       "CallsWeekEnd_IN_VUL_11                   -0.026949      -0.000607   \n",
       "TimeWeekNight_IN_VUL_11                  -0.007047       0.004442   \n",
       "VULNERABLE_IN_11                         -0.052281       0.014488   \n",
       "STATE_Baja_California_Sur                -0.004406      -0.002955   \n",
       "STATE_Chihuahua                          -0.007295      -0.004892   \n",
       "STATE_Colima                             -0.007981      -0.005352   \n",
       "STATE_Guerrero                           -0.015768      -0.010573   \n",
       "STATE_Hidalgo                            -0.026052      -0.017469   \n",
       "STATE_Jalisco                            -0.038567      -0.025861   \n",
       "STATE_Morelos                            -0.020830      -0.013967   \n",
       "STATE_Nayarit                            -0.010726      -0.007192   \n",
       "STATE_Oaxaca                             -0.012512      -0.008390   \n",
       "STATE_Puebla                             -0.026224      -0.017584   \n",
       "STATE_Quintana_Roo                       -0.014177      -0.009506   \n",
       "STATE_Sinaloa                            -0.009343       1.000000   \n",
       "STATE_Sonora                             -0.006744      -0.004522   \n",
       "STATE_Tabasco                            -0.017690      -0.011862   \n",
       "STATE_Tamaulipas                         -0.009216      -0.006180   \n",
       "STATE_Tlaxcala                           -0.015641      -0.010488   \n",
       "STATE_Veracruz                           -0.023638      -0.015850   \n",
       "target                                   -0.039341       0.055817   \n",
       "\n",
       "                             STATE_Sonora  STATE_Tabasco  STATE_Tamaulipas  \\\n",
       "COUNT_WEEKNIGHT_2                0.008146      -0.005059         -0.008536   \n",
       "COUNT_WEEKNIGHT_3                0.009910      -0.006288         -0.008762   \n",
       "COUNT_WEEKNIGHT_4                0.010034      -0.009539         -0.009958   \n",
       "COUNT_WEEKNIGHT_5                0.009724      -0.009275         -0.010257   \n",
       "COUNT_WEEKNIGHT_6                0.010150      -0.008714         -0.011598   \n",
       "COUNT_WEEKNIGHT_7                0.010091      -0.011306         -0.015316   \n",
       "COUNT_WEEKNIGHT_8                0.009519      -0.012101         -0.016915   \n",
       "COUNT_WEEKNIGHT_9                0.009845      -0.013021         -0.018124   \n",
       "MOBILITY_DIAMETER                0.078405       0.003528          0.005187   \n",
       "MOBILITY_DIAMETER_WEEKNIGHT      0.079987       0.007015          0.006280   \n",
       "EPIDEMIC                        -0.038237       0.223952         -0.052248   \n",
       "EPIDEMIC_gt                      0.033727       0.097361          0.000915   \n",
       "TimeWeekEnd_OUT_VUL_12           0.011210       0.059930         -0.000395   \n",
       "CallsWeekDay_OUT_VUL_12          0.007377       0.088268         -0.009238   \n",
       "CallsWeekNight_OUT_VUL_12        0.009917       0.073576         -0.000378   \n",
       "TimeWeekDay_OUT_VUL_12           0.012461       0.071719         -0.005967   \n",
       "CallsWeekEnd_OUT_VUL_12          0.008507       0.083876         -0.007315   \n",
       "TimeWeekNight_OUT_VUL_12         0.012363       0.043720          0.003380   \n",
       "VULNERABLE_OUT_12                0.017947       0.117970         -0.014838   \n",
       "TimeWeekEnd_IN_VUL_12            0.006479       0.060691         -0.002376   \n",
       "CallsWeekDay_IN_VUL_12           0.006578       0.087977         -0.010368   \n",
       "CallsWeekNight_IN_VUL_12         0.008987       0.079932         -0.006294   \n",
       "TimeWeekDay_IN_VUL_12            0.011615       0.067899         -0.004141   \n",
       "CallsWeekEnd_IN_VUL_12           0.004749       0.086885         -0.009541   \n",
       "TimeWeekNight_IN_VUL_12          0.012613       0.045118          0.000895   \n",
       "VULNERABLE_IN_12                 0.015843       0.122644         -0.015729   \n",
       "TimeWeekEnd_OUT_VUL_08           0.007103       0.043694         -0.007526   \n",
       "CallsWeekDay_OUT_VUL_08          0.001112       0.057443         -0.011762   \n",
       "CallsWeekNight_OUT_VUL_08        0.000376       0.058175         -0.005336   \n",
       "TimeWeekDay_OUT_VUL_08           0.001732       0.049214         -0.008458   \n",
       "...                                   ...            ...               ...   \n",
       "CallsWeekNight_OUT_VUL_11        0.005746       0.059549         -0.005530   \n",
       "TimeWeekDay_OUT_VUL_11           0.008967       0.055378         -0.006377   \n",
       "CallsWeekEnd_OUT_VUL_11          0.008018       0.073993         -0.008903   \n",
       "TimeWeekNight_OUT_VUL_11         0.007891       0.037977         -0.002081   \n",
       "VULNERABLE_OUT_11                0.016058       0.115650         -0.018341   \n",
       "TimeWeekEnd_IN_VUL_11            0.004136       0.050647         -0.007397   \n",
       "CallsWeekDay_IN_VUL_11           0.002638       0.067169         -0.012263   \n",
       "CallsWeekNight_IN_VUL_11         0.003768       0.065352         -0.008574   \n",
       "TimeWeekDay_IN_VUL_11            0.003013       0.054572         -0.007039   \n",
       "CallsWeekEnd_IN_VUL_11           0.003648       0.074553         -0.013582   \n",
       "TimeWeekNight_IN_VUL_11          0.005233       0.037523         -0.003595   \n",
       "VULNERABLE_IN_11                 0.014553       0.119650         -0.019492   \n",
       "STATE_Baja_California_Sur       -0.002133      -0.005594         -0.002915   \n",
       "STATE_Chihuahua                 -0.003531      -0.009262         -0.004825   \n",
       "STATE_Colima                    -0.003864      -0.010134         -0.005279   \n",
       "STATE_Guerrero                  -0.007633      -0.020020         -0.010430   \n",
       "STATE_Hidalgo                   -0.012611      -0.033077         -0.017232   \n",
       "STATE_Jalisco                   -0.018669      -0.048967         -0.025510   \n",
       "STATE_Morelos                   -0.010083      -0.026447         -0.013778   \n",
       "STATE_Nayarit                   -0.005192      -0.013619         -0.007095   \n",
       "STATE_Oaxaca                    -0.006056      -0.015886         -0.008276   \n",
       "STATE_Puebla                    -0.012694      -0.033296         -0.017346   \n",
       "STATE_Quintana_Roo              -0.006862      -0.018000         -0.009377   \n",
       "STATE_Sinaloa                   -0.004522      -0.011862         -0.006180   \n",
       "STATE_Sonora                     1.000000      -0.008563         -0.004461   \n",
       "STATE_Tabasco                   -0.008563       1.000000         -0.011701   \n",
       "STATE_Tamaulipas                -0.004461      -0.011701          1.000000   \n",
       "STATE_Tlaxcala                  -0.007571      -0.019859         -0.010346   \n",
       "STATE_Veracruz                  -0.011442      -0.030012         -0.015635   \n",
       "target                           0.049245       0.037998          0.017675   \n",
       "\n",
       "                             STATE_Tlaxcala  STATE_Veracruz  STATE_Yucatan  \\\n",
       "COUNT_WEEKNIGHT_2                 -0.022472       -0.007995       0.000920   \n",
       "COUNT_WEEKNIGHT_3                 -0.026701       -0.011268       0.004046   \n",
       "COUNT_WEEKNIGHT_4                 -0.031832       -0.015481       0.006283   \n",
       "COUNT_WEEKNIGHT_5                 -0.036685       -0.020784       0.007593   \n",
       "COUNT_WEEKNIGHT_6                 -0.040544       -0.024538       0.007912   \n",
       "COUNT_WEEKNIGHT_7                 -0.043402       -0.029444       0.008145   \n",
       "COUNT_WEEKNIGHT_8                 -0.045340       -0.033115       0.008182   \n",
       "COUNT_WEEKNIGHT_9                 -0.046815       -0.037587       0.007833   \n",
       "MOBILITY_DIAMETER                 -0.020111        0.055373      -0.029631   \n",
       "MOBILITY_DIAMETER_WEEKNIGHT       -0.026489        0.045077      -0.021358   \n",
       "EPIDEMIC                          -0.088677        0.299250      -0.109611   \n",
       "EPIDEMIC_gt                        0.018569        0.158318      -0.077202   \n",
       "TimeWeekEnd_OUT_VUL_12            -0.013076        0.026118      -0.024898   \n",
       "CallsWeekDay_OUT_VUL_12           -0.021836        0.045091      -0.040722   \n",
       "CallsWeekNight_OUT_VUL_12         -0.014012        0.037924      -0.030445   \n",
       "TimeWeekDay_OUT_VUL_12            -0.017661        0.033545      -0.033829   \n",
       "CallsWeekEnd_OUT_VUL_12           -0.018611        0.043837      -0.036358   \n",
       "TimeWeekNight_OUT_VUL_12          -0.006625        0.019073      -0.017836   \n",
       "VULNERABLE_OUT_12                 -0.027587        0.134135      -0.074787   \n",
       "TimeWeekEnd_IN_VUL_12             -0.009871        0.027561      -0.020505   \n",
       "CallsWeekDay_IN_VUL_12            -0.020877        0.045334      -0.040102   \n",
       "CallsWeekNight_IN_VUL_12          -0.012031        0.038929      -0.029646   \n",
       "TimeWeekDay_IN_VUL_12             -0.012841        0.031678      -0.030825   \n",
       "CallsWeekEnd_IN_VUL_12            -0.018201        0.044469      -0.035791   \n",
       "TimeWeekNight_IN_VUL_12           -0.003455        0.018321      -0.013248   \n",
       "VULNERABLE_IN_12                  -0.025308        0.133612      -0.073859   \n",
       "TimeWeekEnd_OUT_VUL_08            -0.014896        0.027939      -0.028002   \n",
       "CallsWeekDay_OUT_VUL_08           -0.023200        0.032872      -0.040636   \n",
       "CallsWeekNight_OUT_VUL_08         -0.016747        0.038519      -0.034933   \n",
       "TimeWeekDay_OUT_VUL_08            -0.018948        0.027646      -0.033421   \n",
       "...                                     ...             ...            ...   \n",
       "CallsWeekNight_OUT_VUL_11         -0.015929        0.038877      -0.032002   \n",
       "TimeWeekDay_OUT_VUL_11            -0.020304        0.029912      -0.032809   \n",
       "CallsWeekEnd_OUT_VUL_11           -0.022092        0.046996      -0.040295   \n",
       "TimeWeekNight_OUT_VUL_11          -0.009624        0.021812      -0.018638   \n",
       "VULNERABLE_OUT_11                 -0.027724        0.141215      -0.079442   \n",
       "TimeWeekEnd_IN_VUL_11             -0.010055        0.035241      -0.019520   \n",
       "CallsWeekDay_IN_VUL_11            -0.023150        0.038400      -0.038855   \n",
       "CallsWeekNight_IN_VUL_11          -0.014008        0.038536      -0.029306   \n",
       "TimeWeekDay_IN_VUL_11             -0.017137        0.029210      -0.027677   \n",
       "CallsWeekEnd_IN_VUL_11            -0.020866        0.046481      -0.038301   \n",
       "TimeWeekNight_IN_VUL_11           -0.005174        0.019848      -0.011918   \n",
       "VULNERABLE_IN_11                  -0.028566        0.141110      -0.078814   \n",
       "STATE_Baja_California_Sur         -0.004947       -0.007475      -0.006114   \n",
       "STATE_Chihuahua                   -0.008189       -0.012376      -0.010123   \n",
       "STATE_Colima                      -0.008960       -0.013541      -0.011075   \n",
       "STATE_Guerrero                    -0.017701       -0.026751      -0.021880   \n",
       "STATE_Hidalgo                     -0.029246       -0.044198      -0.036151   \n",
       "STATE_Jalisco                     -0.043296       -0.065431      -0.053517   \n",
       "STATE_Morelos                     -0.023384       -0.035339      -0.028904   \n",
       "STATE_Nayarit                     -0.012041       -0.018197      -0.014884   \n",
       "STATE_Oaxaca                      -0.014046       -0.021227      -0.017362   \n",
       "STATE_Puebla                      -0.029440       -0.044491      -0.036389   \n",
       "STATE_Quintana_Roo                -0.015915       -0.024052      -0.019672   \n",
       "STATE_Sinaloa                     -0.010488       -0.015850      -0.012964   \n",
       "STATE_Sonora                      -0.007571       -0.011442      -0.009359   \n",
       "STATE_Tabasco                     -0.019859       -0.030012      -0.024548   \n",
       "STATE_Tamaulipas                  -0.010346       -0.015635      -0.012788   \n",
       "STATE_Tlaxcala                     1.000000       -0.026537      -0.021705   \n",
       "STATE_Veracruz                    -0.026537        1.000000      -0.032801   \n",
       "target                             0.048688        0.019774      -0.049829   \n",
       "\n",
       "                             STATE_Zacatecas    target  \n",
       "COUNT_WEEKNIGHT_2                   0.002465  0.013574  \n",
       "COUNT_WEEKNIGHT_3                  -0.003612  0.020339  \n",
       "COUNT_WEEKNIGHT_4                  -0.006494  0.023249  \n",
       "COUNT_WEEKNIGHT_5                  -0.011132  0.024684  \n",
       "COUNT_WEEKNIGHT_6                  -0.014315  0.026258  \n",
       "COUNT_WEEKNIGHT_7                  -0.017771  0.027846  \n",
       "COUNT_WEEKNIGHT_8                  -0.019009  0.028464  \n",
       "COUNT_WEEKNIGHT_9                  -0.020115  0.029678  \n",
       "MOBILITY_DIAMETER                  -0.000281  0.154510  \n",
       "MOBILITY_DIAMETER_WEEKNIGHT        -0.006317  0.141488  \n",
       "EPIDEMIC                           -0.034794  0.164076  \n",
       "EPIDEMIC_gt                        -0.018218  0.265702  \n",
       "TimeWeekEnd_OUT_VUL_12             -0.004787  0.066856  \n",
       "CallsWeekDay_OUT_VUL_12            -0.011748  0.056102  \n",
       "CallsWeekNight_OUT_VUL_12          -0.008211  0.064372  \n",
       "TimeWeekDay_OUT_VUL_12             -0.009765  0.071430  \n",
       "CallsWeekEnd_OUT_VUL_12            -0.010151  0.057492  \n",
       "TimeWeekNight_OUT_VUL_12           -0.003488  0.066613  \n",
       "VULNERABLE_OUT_12                  -0.018914  0.195114  \n",
       "TimeWeekEnd_IN_VUL_12              -0.005930  0.059171  \n",
       "CallsWeekDay_IN_VUL_12             -0.011300  0.045735  \n",
       "CallsWeekNight_IN_VUL_12           -0.008444  0.056618  \n",
       "TimeWeekDay_IN_VUL_12              -0.007694  0.056979  \n",
       "CallsWeekEnd_IN_VUL_12             -0.010668  0.051813  \n",
       "TimeWeekNight_IN_VUL_12            -0.005159  0.053752  \n",
       "VULNERABLE_IN_12                   -0.019445  0.192320  \n",
       "TimeWeekEnd_OUT_VUL_08             -0.009473  0.056637  \n",
       "CallsWeekDay_OUT_VUL_08            -0.011769  0.040469  \n",
       "CallsWeekNight_OUT_VUL_08          -0.008624  0.047088  \n",
       "TimeWeekDay_OUT_VUL_08             -0.009883  0.058122  \n",
       "...                                      ...       ...  \n",
       "CallsWeekNight_OUT_VUL_11          -0.007708  0.057425  \n",
       "TimeWeekDay_OUT_VUL_11             -0.010183  0.066649  \n",
       "CallsWeekEnd_OUT_VUL_11            -0.012146  0.049032  \n",
       "TimeWeekNight_OUT_VUL_11           -0.004129  0.066150  \n",
       "VULNERABLE_OUT_11                  -0.023083  0.188275  \n",
       "TimeWeekEnd_IN_VUL_11              -0.007869  0.051886  \n",
       "CallsWeekDay_IN_VUL_11             -0.011680  0.033627  \n",
       "CallsWeekNight_IN_VUL_11           -0.008704  0.047442  \n",
       "TimeWeekDay_IN_VUL_11              -0.009016  0.048307  \n",
       "CallsWeekEnd_IN_VUL_11             -0.012095  0.039627  \n",
       "TimeWeekNight_IN_VUL_11            -0.003494  0.047939  \n",
       "VULNERABLE_IN_11                   -0.019534  0.188558  \n",
       "STATE_Baja_California_Sur          -0.001941  0.037388  \n",
       "STATE_Chihuahua                    -0.003213  0.010373  \n",
       "STATE_Colima                       -0.003516  0.030913  \n",
       "STATE_Guerrero                     -0.006946  0.069300  \n",
       "STATE_Hidalgo                      -0.011475  0.096493  \n",
       "STATE_Jalisco                      -0.016988  0.032628  \n",
       "STATE_Morelos                      -0.009175  0.057009  \n",
       "STATE_Nayarit                      -0.004725  0.032723  \n",
       "STATE_Oaxaca                       -0.005511  0.044986  \n",
       "STATE_Puebla                       -0.011551  0.061183  \n",
       "STATE_Quintana_Roo                 -0.006245  0.024692  \n",
       "STATE_Sinaloa                      -0.004115  0.055817  \n",
       "STATE_Sonora                       -0.002971  0.049245  \n",
       "STATE_Tabasco                      -0.007792  0.037998  \n",
       "STATE_Tamaulipas                   -0.004059  0.017675  \n",
       "STATE_Tlaxcala                     -0.006890  0.048688  \n",
       "STATE_Veracruz                     -0.010412  0.019774  \n",
       "target                             -0.008910  1.000000  \n",
       "\n",
       "[100 rows x 33 columns]"
      ]
     },
     "metadata": {},
     "output_type": "display_data"
    }
   ],
   "source": [
    "## show correlation between state and target\n",
    "\n",
    "if not 'STATE' in exclude_cols:    \n",
    "    state_cols = [col for col in corr if 'STATE' in col]\n",
    "    view = corr[state_cols + [target_col]]\n",
    "    display(view.query('target > 0.01'))\n"
   ]
  },
  {
   "cell_type": "code",
   "execution_count": 47,
   "metadata": {},
   "outputs": [
    {
     "data": {
      "text/plain": [
       "0.33775674382872634"
      ]
     },
     "execution_count": 47,
     "metadata": {},
     "output_type": "execute_result"
    }
   ],
   "source": [
    "a=data['EPIDEMIC_gt'].sum();b= data.shape[0]\n",
    "a*1.0/b"
   ]
  },
  {
   "cell_type": "code",
   "execution_count": 48,
   "metadata": {},
   "outputs": [
    {
     "data": {
      "text/plain": [
       "0.31040447046301223"
      ]
     },
     "execution_count": 48,
     "metadata": {},
     "output_type": "execute_result"
    }
   ],
   "source": [
    "a=val_set['EPIDEMIC'].sum();b= val_set.shape[0]\n",
    "a*1.0/b"
   ]
  },
  {
   "cell_type": "markdown",
   "metadata": {},
   "source": [
    "# get metric functions and sklearn model selectors"
   ]
  },
  {
   "cell_type": "code",
   "execution_count": 49,
   "metadata": {
    "collapsed": true
   },
   "outputs": [],
   "source": [
    "from sklearn.metrics import *\n",
    "# from sklearn.cross_validation import *\n",
    "from sklearn.model_selection import (GridSearchCV, RandomizedSearchCV, \n",
    "                                     train_test_split, KFold, cross_val_predict, \n",
    "                                     cross_val_score, learning_curve, validation_curve\n",
    "                                    )"
   ]
  },
  {
   "cell_type": "markdown",
   "metadata": {},
   "source": [
    "# Instance 1st fast model with MNB\n",
    "this is a benchmarking-only process."
   ]
  },
  {
   "cell_type": "code",
   "execution_count": 44,
   "metadata": {
    "collapsed": true
   },
   "outputs": [],
   "source": [
    "from sklearn.naive_bayes import MultinomialNB\n",
    "\n",
    "from sklearn.naive_bayes import *\n"
   ]
  },
  {
   "cell_type": "markdown",
   "metadata": {},
   "source": [
    "# Remember that the Multinomail NB assumes no negative values\n",
    "are present in the dataset as this must be `count` data"
   ]
  },
  {
   "cell_type": "code",
   "execution_count": 44,
   "metadata": {
    "scrolled": true
   },
   "outputs": [
    {
     "name": "stdout",
     "output_type": "stream",
     "text": [
      "Fitting 3 folds for each of 8 candidates, totalling 24 fits\n",
      "[CV] alpha=0.001, fit_prior=True .....................................\n",
      "[CV] alpha=0.001, fit_prior=True .....................................\n",
      "[CV] alpha=0.001, fit_prior=True .....................................\n",
      "[CV] ...... alpha=0.001, fit_prior=True, score=0.704388, total=   0.4s\n",
      "[CV] alpha=0.001, fit_prior=False ....................................\n",
      "[CV] ...... alpha=0.001, fit_prior=True, score=0.768092, total=   0.4s\n",
      "[CV] alpha=0.001, fit_prior=False ....................................\n"
     ]
    },
    {
     "name": "stderr",
     "output_type": "stream",
     "text": [
      "[Parallel(n_jobs=-1)]: Done   2 out of  24 | elapsed:    1.2s remaining:   13.1s\n"
     ]
    },
    {
     "name": "stdout",
     "output_type": "stream",
     "text": [
      "[CV] ...... alpha=0.001, fit_prior=True, score=0.768343, total=   0.4s\n",
      "[CV] alpha=0.001, fit_prior=False ....................................\n",
      "[CV] ..... alpha=0.001, fit_prior=False, score=0.700921, total=   0.4s\n",
      "[CV] alpha=0.1, fit_prior=True .......................................\n",
      "[CV] ..... alpha=0.001, fit_prior=False, score=0.768012, total=   0.4s\n",
      "[CV] alpha=0.1, fit_prior=True .......................................\n",
      "[CV] ..... alpha=0.001, fit_prior=False, score=0.768308, total=   0.4s\n",
      "[CV] alpha=0.1, fit_prior=True .......................................\n",
      "[CV] ........ alpha=0.1, fit_prior=True, score=0.704388, total=   0.4s\n",
      "[CV] alpha=0.1, fit_prior=False ......................................\n",
      "[CV] ........ alpha=0.1, fit_prior=True, score=0.768092, total=   0.4s\n",
      "[CV] alpha=0.1, fit_prior=False ......................................\n",
      "[CV] ........ alpha=0.1, fit_prior=True, score=0.768343, total=   0.5s\n",
      "[CV] alpha=0.1, fit_prior=False ......................................\n",
      "[CV] ....... alpha=0.1, fit_prior=False, score=0.700921, total=   0.4s\n",
      "[CV] alpha=10.0, fit_prior=True ......................................\n",
      "[CV] ....... alpha=0.1, fit_prior=False, score=0.768012, total=   0.4s\n",
      "[CV] alpha=10.0, fit_prior=True ......................................\n"
     ]
    },
    {
     "name": "stderr",
     "output_type": "stream",
     "text": [
      "[Parallel(n_jobs=-1)]: Done  11 out of  24 | elapsed:    3.4s remaining:    4.1s\n"
     ]
    },
    {
     "name": "stdout",
     "output_type": "stream",
     "text": [
      "[CV] ....... alpha=0.1, fit_prior=False, score=0.768308, total=   0.4s\n",
      "[CV] alpha=10.0, fit_prior=True ......................................\n",
      "[CV] ....... alpha=10.0, fit_prior=True, score=0.704269, total=   0.4s\n",
      "[CV] alpha=10.0, fit_prior=False .....................................\n",
      "[CV] ....... alpha=10.0, fit_prior=True, score=0.768092, total=   0.4s\n",
      "[CV] alpha=10.0, fit_prior=False .....................................\n",
      "[CV] ....... alpha=10.0, fit_prior=True, score=0.768323, total=   0.4s\n",
      "[CV] alpha=10.0, fit_prior=False .....................................\n",
      "[CV] ...... alpha=10.0, fit_prior=False, score=0.700681, total=   0.4s\n",
      "[CV] alpha=1.0, fit_prior=True .......................................\n",
      "[CV] ...... alpha=10.0, fit_prior=False, score=0.768012, total=   0.4s\n",
      "[CV] alpha=1.0, fit_prior=True .......................................\n",
      "[CV] ...... alpha=10.0, fit_prior=False, score=0.768308, total=   0.4s\n",
      "[CV] alpha=1.0, fit_prior=True .......................................\n",
      "[CV] ........ alpha=1.0, fit_prior=True, score=0.704412, total=   0.4s\n",
      "[CV] alpha=1.0, fit_prior=False ......................................\n",
      "[CV] ........ alpha=1.0, fit_prior=True, score=0.768092, total=   0.4s\n",
      "[CV] alpha=1.0, fit_prior=False ......................................\n"
     ]
    },
    {
     "name": "stderr",
     "output_type": "stream",
     "text": [
      "[Parallel(n_jobs=-1)]: Done  20 out of  24 | elapsed:    5.6s remaining:    1.1s\n"
     ]
    },
    {
     "name": "stdout",
     "output_type": "stream",
     "text": [
      "[CV] ........ alpha=1.0, fit_prior=True, score=0.768343, total=   0.4s\n",
      "[CV] alpha=1.0, fit_prior=False ......................................\n",
      "[CV] ....... alpha=1.0, fit_prior=False, score=0.700873, total=   0.4s\n",
      "[CV] ....... alpha=1.0, fit_prior=False, score=0.768012, total=   0.4s\n",
      "[CV] ....... alpha=1.0, fit_prior=False, score=0.768308, total=   0.4s\n"
     ]
    },
    {
     "name": "stderr",
     "output_type": "stream",
     "text": [
      "[Parallel(n_jobs=-1)]: Done  24 out of  24 | elapsed:    6.6s finished\n"
     ]
    },
    {
     "name": "stdout",
     "output_type": "stream",
     "text": [
      "Grid Search took 7.40813994408 seconds to run\n",
      "\n",
      " Best estimator was MultinomialNB(alpha=1.0, class_prior=None, fit_prior=True) \n",
      "\n",
      "\n",
      " Best estimator was 0.746948151621 \n",
      "\n"
     ]
    },
    {
     "name": "stderr",
     "output_type": "stream",
     "text": [
      "/home/juan/mfixman/venv/local/lib/python2.7/site-packages/sklearn/model_selection/_search.py:667: DeprecationWarning: The grid_scores_ attribute was deprecated in version 0.18 in favor of the more elaborate cv_results_ attribute. The grid_scores_ attribute will not be available from 0.20\n",
      "  DeprecationWarning)\n",
      "/home/juan/mfixman/venv/local/lib/python2.7/site-packages/sklearn/model_selection/_search.py:667: DeprecationWarning: The grid_scores_ attribute was deprecated in version 0.18 in favor of the more elaborate cv_results_ attribute. The grid_scores_ attribute will not be available from 0.20\n",
      "  DeprecationWarning)\n",
      "/home/juan/mfixman/venv/local/lib/python2.7/site-packages/sklearn/model_selection/_search.py:667: DeprecationWarning: The grid_scores_ attribute was deprecated in version 0.18 in favor of the more elaborate cv_results_ attribute. The grid_scores_ attribute will not be available from 0.20\n",
      "  DeprecationWarning)\n",
      "/home/juan/mfixman/venv/local/lib/python2.7/site-packages/sklearn/model_selection/_search.py:667: DeprecationWarning: The grid_scores_ attribute was deprecated in version 0.18 in favor of the more elaborate cv_results_ attribute. The grid_scores_ attribute will not be available from 0.20\n",
      "  DeprecationWarning)\n",
      "/home/juan/mfixman/venv/local/lib/python2.7/site-packages/sklearn/model_selection/_search.py:667: DeprecationWarning: The grid_scores_ attribute was deprecated in version 0.18 in favor of the more elaborate cv_results_ attribute. The grid_scores_ attribute will not be available from 0.20\n",
      "  DeprecationWarning)\n",
      "/home/juan/mfixman/venv/local/lib/python2.7/site-packages/sklearn/model_selection/_search.py:667: DeprecationWarning: The grid_scores_ attribute was deprecated in version 0.18 in favor of the more elaborate cv_results_ attribute. The grid_scores_ attribute will not be available from 0.20\n",
      "  DeprecationWarning)\n",
      "/home/juan/mfixman/venv/local/lib/python2.7/site-packages/sklearn/model_selection/_search.py:667: DeprecationWarning: The grid_scores_ attribute was deprecated in version 0.18 in favor of the more elaborate cv_results_ attribute. The grid_scores_ attribute will not be available from 0.20\n",
      "  DeprecationWarning)\n",
      "/home/juan/mfixman/venv/local/lib/python2.7/site-packages/sklearn/model_selection/_search.py:667: DeprecationWarning: The grid_scores_ attribute was deprecated in version 0.18 in favor of the more elaborate cv_results_ attribute. The grid_scores_ attribute will not be available from 0.20\n",
      "  DeprecationWarning)\n",
      "/home/juan/mfixman/venv/local/lib/python2.7/site-packages/sklearn/model_selection/_search.py:667: DeprecationWarning: The grid_scores_ attribute was deprecated in version 0.18 in favor of the more elaborate cv_results_ attribute. The grid_scores_ attribute will not be available from 0.20\n",
      "  DeprecationWarning)\n",
      "/home/juan/mfixman/venv/local/lib/python2.7/site-packages/sklearn/model_selection/_search.py:667: DeprecationWarning: The grid_scores_ attribute was deprecated in version 0.18 in favor of the more elaborate cv_results_ attribute. The grid_scores_ attribute will not be available from 0.20\n",
      "  DeprecationWarning)\n",
      "/home/juan/mfixman/venv/local/lib/python2.7/site-packages/sklearn/model_selection/_search.py:667: DeprecationWarning: The grid_scores_ attribute was deprecated in version 0.18 in favor of the more elaborate cv_results_ attribute. The grid_scores_ attribute will not be available from 0.20\n",
      "  DeprecationWarning)\n",
      "/home/juan/mfixman/venv/local/lib/python2.7/site-packages/sklearn/model_selection/_search.py:667: DeprecationWarning: The grid_scores_ attribute was deprecated in version 0.18 in favor of the more elaborate cv_results_ attribute. The grid_scores_ attribute will not be available from 0.20\n",
      "  DeprecationWarning)\n",
      "/home/juan/mfixman/venv/local/lib/python2.7/site-packages/sklearn/model_selection/_search.py:667: DeprecationWarning: The grid_scores_ attribute was deprecated in version 0.18 in favor of the more elaborate cv_results_ attribute. The grid_scores_ attribute will not be available from 0.20\n",
      "  DeprecationWarning)\n",
      "/home/juan/mfixman/venv/local/lib/python2.7/site-packages/sklearn/model_selection/_search.py:667: DeprecationWarning: The grid_scores_ attribute was deprecated in version 0.18 in favor of the more elaborate cv_results_ attribute. The grid_scores_ attribute will not be available from 0.20\n",
      "  DeprecationWarning)\n",
      "/home/juan/mfixman/venv/local/lib/python2.7/site-packages/sklearn/model_selection/_search.py:667: DeprecationWarning: The grid_scores_ attribute was deprecated in version 0.18 in favor of the more elaborate cv_results_ attribute. The grid_scores_ attribute will not be available from 0.20\n",
      "  DeprecationWarning)\n",
      "/home/juan/mfixman/venv/local/lib/python2.7/site-packages/sklearn/model_selection/_search.py:667: DeprecationWarning: The grid_scores_ attribute was deprecated in version 0.18 in favor of the more elaborate cv_results_ attribute. The grid_scores_ attribute will not be available from 0.20\n",
      "  DeprecationWarning)\n",
      "/home/juan/mfixman/venv/local/lib/python2.7/site-packages/sklearn/model_selection/_search.py:667: DeprecationWarning: The grid_scores_ attribute was deprecated in version 0.18 in favor of the more elaborate cv_results_ attribute. The grid_scores_ attribute will not be available from 0.20\n",
      "  DeprecationWarning)\n",
      "/home/juan/mfixman/venv/local/lib/python2.7/site-packages/sklearn/model_selection/_search.py:667: DeprecationWarning: The grid_scores_ attribute was deprecated in version 0.18 in favor of the more elaborate cv_results_ attribute. The grid_scores_ attribute will not be available from 0.20\n",
      "  DeprecationWarning)\n"
     ]
    },
    {
     "name": "stdout",
     "output_type": "stream",
     "text": [
      "             precision    recall  f1-score   support\n",
      "\n",
      "      False       0.86      0.85      0.86      9114\n",
      "       True       0.21      0.22      0.21      1644\n",
      "\n",
      "avg / total       0.76      0.76      0.76     10758\n",
      "\n",
      "CPU times: user 6.43 s, sys: 628 ms, total: 7.06 s\n",
      "Wall time: 7.73 s\n"
     ]
    }
   ],
   "source": [
    "%%time\n",
    "start_time = time.time()\n",
    "param_grid = {\n",
    "    'alpha':[\n",
    "        1e-3,\n",
    "        1e-1,\n",
    "        1e1,\n",
    "        1e0\n",
    "            ], \n",
    "    'fit_prior': [\n",
    "        True,\n",
    "        False\n",
    "                ],\n",
    "             }\n",
    "\n",
    "mnb  = MultinomialNB( )\n",
    "\n",
    "clf = GridSearchCV(mnb, param_grid, scoring='f1_weighted', fit_params=None, n_jobs=-1, iid=True, refit=True, \n",
    "verbose=3, pre_dispatch='2*n_jobs', error_score='raise')\n",
    "\n",
    "clf2 = MultinomialNB( )\n",
    "#how many parameters to randomly search for\n",
    "#n_iter_search = 45\n",
    "\n",
    "#random_search = RandomizedSearchCV(rforest, param_distributions=param_grid,\n",
    "                                 #  n_iter=n_iter_search, n_jobs =8, verbose=3)\n",
    "\n",
    "elapsed_time =  time.time() - start_time\n",
    "\n",
    "#Y = categorical(train_table_target.values, drop=True).astype(int)\n",
    "\n",
    "clf.fit(X,Y)\n",
    "\n",
    "elapsed_time =   time.time() - start_time \n",
    "\n",
    "print('Grid Search took %s seconds to run' % (elapsed_time))\n",
    "\n",
    "cv_result = pd.DataFrame(columns=['mean_score' ] + [key for key, value in clf.grid_scores_[0].parameters.items() ] )\n",
    "i=0\n",
    "for setup in clf.grid_scores_:\n",
    "    row = [clf.grid_scores_[i].mean_validation_score ] + [value for key, value in clf.grid_scores_[i].parameters.items() ]\n",
    "    cv_result.loc[i] = row\n",
    "    i+=1\n",
    "\n",
    "\n",
    "#este flag es basicamente para chequear que hayamos terminado nomas\n",
    "finished = True\n",
    "\n",
    "print('\\n Best estimator was %s \\n' % str(clf.best_estimator_))\n",
    "print('\\n Best estimator was %s \\n' % str(clf.best_score_))\n",
    "\n",
    "clf2.set_params(**clf.best_params_)\n",
    "\n",
    "clf2.fit(X,Y)\n",
    "\n",
    "\n",
    "#converted_dict = evaluation_print(clf, X_val, test_table_target.values, test_table.index.values, \n",
    "#                              test_table_target[test_table_target>0].index.values,start_date,future)\n",
    "\n",
    "print(classification_report(Y_val,clf2.predict(X_val)))"
   ]
  },
  {
   "cell_type": "code",
   "execution_count": 45,
   "metadata": {},
   "outputs": [
    {
     "data": {
      "text/plain": [
       "0.53569666623418843"
      ]
     },
     "execution_count": 45,
     "metadata": {},
     "output_type": "execute_result"
    }
   ],
   "source": [
    "roc_auc_score(Y_val,clf2.predict(X_val))"
   ]
  },
  {
   "cell_type": "code",
   "execution_count": 46,
   "metadata": {},
   "outputs": [
    {
     "data": {
      "text/plain": [
       "((94908,), 14294, {'alpha': 1.0, 'fit_prior': True})"
      ]
     },
     "execution_count": 46,
     "metadata": {},
     "output_type": "execute_result"
    }
   ],
   "source": [
    "Y.shape, Y.sum(), clf.best_params_"
   ]
  },
  {
   "cell_type": "code",
   "execution_count": 47,
   "metadata": {},
   "outputs": [
    {
     "data": {
      "text/plain": [
       "0.15281650864472951"
      ]
     },
     "execution_count": 47,
     "metadata": {},
     "output_type": "execute_result"
    }
   ],
   "source": [
    "Y_val.sum()*1.0/Y_val.size"
   ]
  },
  {
   "cell_type": "code",
   "execution_count": 48,
   "metadata": {},
   "outputs": [
    {
     "data": {
      "text/plain": [
       "0.53569666623418843"
      ]
     },
     "execution_count": 48,
     "metadata": {},
     "output_type": "execute_result"
    }
   ],
   "source": [
    "roc_auc_score(Y_val,clf2.predict(X_val))"
   ]
  },
  {
   "cell_type": "code",
   "execution_count": null,
   "metadata": {
    "collapsed": true
   },
   "outputs": [],
   "source": []
  },
  {
   "cell_type": "code",
   "execution_count": 51,
   "metadata": {},
   "outputs": [
    {
     "data": {
      "text/html": [
       "<div>\n",
       "<style>\n",
       "    .dataframe thead tr:only-child th {\n",
       "        text-align: right;\n",
       "    }\n",
       "\n",
       "    .dataframe thead th {\n",
       "        text-align: left;\n",
       "    }\n",
       "\n",
       "    .dataframe tbody tr th {\n",
       "        vertical-align: top;\n",
       "    }\n",
       "</style>\n",
       "<table border=\"1\" class=\"dataframe\">\n",
       "  <thead>\n",
       "    <tr style=\"text-align: right;\">\n",
       "      <th></th>\n",
       "      <th>mean</th>\n",
       "      <th>std</th>\n",
       "    </tr>\n",
       "    <tr>\n",
       "      <th>alpha</th>\n",
       "      <th></th>\n",
       "      <th></th>\n",
       "    </tr>\n",
       "  </thead>\n",
       "  <tbody>\n",
       "    <tr>\n",
       "      <th>0.001</th>\n",
       "      <td>0.746343</td>\n",
       "      <td>0.000844</td>\n",
       "    </tr>\n",
       "    <tr>\n",
       "      <th>0.100</th>\n",
       "      <td>0.746343</td>\n",
       "      <td>0.000844</td>\n",
       "    </tr>\n",
       "    <tr>\n",
       "      <th>1.000</th>\n",
       "      <td>0.746339</td>\n",
       "      <td>0.000861</td>\n",
       "    </tr>\n",
       "    <tr>\n",
       "      <th>10.000</th>\n",
       "      <td>0.746280</td>\n",
       "      <td>0.000868</td>\n",
       "    </tr>\n",
       "  </tbody>\n",
       "</table>\n",
       "</div>"
      ],
      "text/plain": [
       "            mean       std\n",
       "alpha                     \n",
       "0.001   0.746343  0.000844\n",
       "0.100   0.746343  0.000844\n",
       "1.000   0.746339  0.000861\n",
       "10.000  0.746280  0.000868"
      ]
     },
     "metadata": {},
     "output_type": "display_data"
    },
    {
     "data": {
      "text/html": [
       "<div>\n",
       "<style>\n",
       "    .dataframe thead tr:only-child th {\n",
       "        text-align: right;\n",
       "    }\n",
       "\n",
       "    .dataframe thead th {\n",
       "        text-align: left;\n",
       "    }\n",
       "\n",
       "    .dataframe tbody tr th {\n",
       "        vertical-align: top;\n",
       "    }\n",
       "</style>\n",
       "<table border=\"1\" class=\"dataframe\">\n",
       "  <thead>\n",
       "    <tr style=\"text-align: right;\">\n",
       "      <th></th>\n",
       "      <th>mean</th>\n",
       "      <th>std</th>\n",
       "    </tr>\n",
       "    <tr>\n",
       "      <th>fit_prior</th>\n",
       "      <th></th>\n",
       "      <th></th>\n",
       "    </tr>\n",
       "  </thead>\n",
       "  <tbody>\n",
       "    <tr>\n",
       "      <th>False</th>\n",
       "      <td>0.745722</td>\n",
       "      <td>0.000038</td>\n",
       "    </tr>\n",
       "    <tr>\n",
       "      <th>True</th>\n",
       "      <td>0.746931</td>\n",
       "      <td>0.000025</td>\n",
       "    </tr>\n",
       "  </tbody>\n",
       "</table>\n",
       "</div>"
      ],
      "text/plain": [
       "               mean       std\n",
       "fit_prior                    \n",
       "False      0.745722  0.000038\n",
       "True       0.746931  0.000025"
      ]
     },
     "metadata": {},
     "output_type": "display_data"
    }
   ],
   "source": [
    "for col in cv_result.columns:\n",
    "    if col != 'mean_score':\n",
    "        df = cv_result.groupby(col)['mean_score'].mean().to_frame().copy()\n",
    "        df.columns = ['mean']\n",
    "        df['std'] = cv_result.groupby(col)['mean_score'].std()\n",
    "\n",
    "        display(df)"
   ]
  },
  {
   "cell_type": "code",
   "execution_count": 52,
   "metadata": {},
   "outputs": [
    {
     "data": {
      "text/plain": [
       "False"
      ]
     },
     "execution_count": 52,
     "metadata": {},
     "output_type": "execute_result"
    }
   ],
   "source": [
    " 'EPIDEMIC' in X.columns"
   ]
  },
  {
   "cell_type": "code",
   "execution_count": null,
   "metadata": {
    "collapsed": true
   },
   "outputs": [],
   "source": []
  },
  {
   "cell_type": "code",
   "execution_count": null,
   "metadata": {
    "collapsed": true
   },
   "outputs": [],
   "source": []
  },
  {
   "cell_type": "markdown",
   "metadata": {},
   "source": [
    "## now graphlab models "
   ]
  },
  {
   "cell_type": "code",
   "execution_count": 48,
   "metadata": {
    "collapsed": true
   },
   "outputs": [],
   "source": [
    "from graphlab import random_forest_classifier, boosted_trees_classifier, logistic_classifier, decision_tree_classifier\n",
    "from graphlab.toolkits import cross_validation, model_parameter_search"
   ]
  },
  {
   "cell_type": "markdown",
   "metadata": {},
   "source": [
    "# get kfolds"
   ]
  },
  {
   "cell_type": "code",
   "execution_count": 49,
   "metadata": {
    "scrolled": true
   },
   "outputs": [
    {
     "name": "stdout",
     "output_type": "stream",
     "text": [
      "CPU times: user 6.18 s, sys: 460 ms, total: 6.64 s\n",
      "Wall time: 4.64 s\n"
     ]
    }
   ],
   "source": [
    "%%time\n",
    "num_folds = 10\n",
    "\n",
    "target_col = 'target'\n",
    "if graphlab_frame:   \n",
    "    X[target_col] = Y\n",
    "    X_val[target_col] = Y_val\n",
    "    kfold = cross_validation.KFold(\n",
    "    X,num_folds=num_folds)\n",
    "else:\n",
    "    X_gl= gl.SFrame(X)\n",
    "    Y_gl = gl.SArray(Y)\n",
    "    X_val_gl= gl.SFrame(X_val)\n",
    "    Y_val_gl = gl.SArray(Y_val)\n",
    "    X_gl[target_col] = Y_gl\n",
    "    X_val_gl[target_col] = Y_val_gl\n",
    "    \n",
    "    kfold = cross_validation.KFold(\n",
    "    X_gl,num_folds=num_folds)"
   ]
  },
  {
   "cell_type": "code",
   "execution_count": 51,
   "metadata": {},
   "outputs": [
    {
     "data": {
      "text/plain": [
       "True"
      ]
     },
     "execution_count": 51,
     "metadata": {},
     "output_type": "execute_result"
    }
   ],
   "source": [
    "'target' in X_gl.column_names()"
   ]
  },
  {
   "cell_type": "markdown",
   "metadata": {},
   "source": [
    "## RandomForest \n",
    "HyperParams Grid Search"
   ]
  },
  {
   "cell_type": "code",
   "execution_count": 55,
   "metadata": {
    "collapsed": true
   },
   "outputs": [],
   "source": [
    "\n",
    "param_grid = {\n",
    "    \"target\":target_col,\n",
    "    \n",
    "    'metric': [\n",
    "                'auc',\n",
    "#                 'log_loss',\n",
    "                 ], \n",
    "    \n",
    "    'max_iterations': [\n",
    "#                     50,\n",
    "                    100,\n",
    "                    150,\n",
    "                    200,\n",
    "                    ],\n",
    "    \n",
    "  'column_subsample': [\n",
    "                  pd.np.sqrt(X_gl.shape[1])/X_gl.shape[1],\n",
    "                  pd.np.log2(X_gl.shape[1])/X_gl.shape[1],\n",
    "                  0.5,\n",
    "#                   0.1,\n",
    "                  ], \n",
    "#     \"bootstrap\": [ \n",
    "#                 False,\n",
    "#                 True,\n",
    "#                     ],\n",
    "#     \"min_child_weight\": pd.np.append(pd.np.random.randint(3,15,3),[3]),\n",
    "    'max_depth':[\n",
    "#                  3,\n",
    "                 6,\n",
    "                 9,\n",
    "                 12,\n",
    "                ], \n",
    "   \"class_weights\": [\n",
    "#                    'balanced',\n",
    "                   None,\n",
    "                   ],\n",
    "#     \"validation_set\": X_val_gl,\n",
    "              }\n",
    "\n",
    "model_factory = random_forest_classifier.create"
   ]
  },
  {
   "cell_type": "code",
   "execution_count": null,
   "metadata": {
    "collapsed": true
   },
   "outputs": [],
   "source": []
  },
  {
   "cell_type": "code",
   "execution_count": 56,
   "metadata": {
    "scrolled": true
   },
   "outputs": [
    {
     "name": "stderr",
     "output_type": "stream",
     "text": [
      "[INFO] graphlab.deploy.job: Validating job.\n",
      "[INFO] graphlab.deploy.job: Creating a LocalAsync environment called 'async'.\n",
      "[INFO] graphlab.deploy.map_job: Validation complete. Job: 'Model-Parameter-Search-May-28-2017-04-13-5100000' ready for execution\n",
      "[INFO] graphlab.deploy.map_job: Job: 'Model-Parameter-Search-May-28-2017-04-13-5100000' scheduled.\n",
      "[INFO] graphlab.deploy.job: Validating job.\n",
      "[INFO] graphlab.deploy.map_job: A job with name 'Model-Parameter-Search-May-28-2017-04-13-5100000' already exists. Renaming the job to 'Model-Parameter-Search-May-28-2017-04-13-5100000-62725'.\n",
      "[INFO] graphlab.deploy.map_job: Validation complete. Job: 'Model-Parameter-Search-May-28-2017-04-13-5100000-62725' ready for execution\n",
      "[INFO] graphlab.deploy.map_job: Job: 'Model-Parameter-Search-May-28-2017-04-13-5100000-62725' scheduled.\n",
      "[INFO] graphlab.deploy.job: Validating job.\n",
      "[INFO] graphlab.deploy.map_job: Validation complete. Job: 'Model-Parameter-Search-May-28-2017-04-13-5100001' ready for execution\n",
      "[INFO] graphlab.deploy.map_job: Job: 'Model-Parameter-Search-May-28-2017-04-13-5100001' scheduled.\n",
      "[INFO] graphlab.deploy.job: Validating job.\n",
      "[INFO] graphlab.deploy.map_job: Validation complete. Job: 'Model-Parameter-Search-May-28-2017-04-13-5100002' ready for execution\n",
      "[INFO] graphlab.deploy.map_job: Job: 'Model-Parameter-Search-May-28-2017-04-13-5100002' scheduled.\n"
     ]
    },
    {
     "name": "stdout",
     "output_type": "stream",
     "text": [
      "CPU times: user 1min 36s, sys: 8.24 s, total: 1min 44s\n",
      "Wall time: 1h 7min 3s\n"
     ]
    }
   ],
   "source": [
    "%%time\n",
    "start_time = time.time()\n",
    "model_search = model_parameter_search.create( datasets = kfold, \n",
    "                                             #[data, val_set],\n",
    "                                             model_factory = model_factory,\n",
    "                                            model_parameters = param_grid, \n",
    "                                             perform_trial_run = True,\n",
    "                                            )\n",
    "\n",
    "search_results = model_search.get_results()\n",
    "\n",
    "all_time = time.time() - start_time"
   ]
  },
  {
   "cell_type": "code",
   "execution_count": 57,
   "metadata": {},
   "outputs": [
    {
     "data": {
      "text/plain": [
       "(1, 7.054373967647551)"
      ]
     },
     "execution_count": 57,
     "metadata": {},
     "output_type": "execute_result"
    }
   ],
   "source": [
    "int(abs(all_time)/3600) ,(abs(all_time)/3600 %1)*60"
   ]
  },
  {
   "cell_type": "code",
   "execution_count": 58,
   "metadata": {
    "scrolled": true
   },
   "outputs": [
    {
     "data": {
      "text/html": [
       "<div style=\"max-height:1000px;max-width:1500px;overflow:auto;\"><table frame=\"box\" rules=\"cols\">\n",
       "    <tr>\n",
       "        <th style=\"padding-left: 1em; padding-right: 1em; text-align: center\">task_name</th>\n",
       "        <th style=\"padding-left: 1em; padding-right: 1em; text-align: center\">status</th>\n",
       "        <th style=\"padding-left: 1em; padding-right: 1em; text-align: center\">start_time</th>\n",
       "        <th style=\"padding-left: 1em; padding-right: 1em; text-align: center\">run_time</th>\n",
       "        <th style=\"padding-left: 1em; padding-right: 1em; text-align: center\">exception</th>\n",
       "        <th style=\"padding-left: 1em; padding-right: 1em; text-align: center\">exception_message</th>\n",
       "        <th style=\"padding-left: 1em; padding-right: 1em; text-align: center\">exception_traceback</th>\n",
       "    </tr>\n",
       "    <tr>\n",
       "        <td style=\"padding-left: 1em; padding-right: 1em; text-align: center; vertical-align: top\">_train_test_model-0-0</td>\n",
       "        <td style=\"padding-left: 1em; padding-right: 1em; text-align: center; vertical-align: top\">Completed</td>\n",
       "        <td style=\"padding-left: 1em; padding-right: 1em; text-align: center; vertical-align: top\">2017-05-28 04:15:38</td>\n",
       "        <td style=\"padding-left: 1em; padding-right: 1em; text-align: center; vertical-align: top\">142.217834949</td>\n",
       "        <td style=\"padding-left: 1em; padding-right: 1em; text-align: center; vertical-align: top\">None</td>\n",
       "        <td style=\"padding-left: 1em; padding-right: 1em; text-align: center; vertical-align: top\">None</td>\n",
       "        <td style=\"padding-left: 1em; padding-right: 1em; text-align: center; vertical-align: top\">None</td>\n",
       "    </tr>\n",
       "    <tr>\n",
       "        <td style=\"padding-left: 1em; padding-right: 1em; text-align: center; vertical-align: top\">_train_test_model-0-1</td>\n",
       "        <td style=\"padding-left: 1em; padding-right: 1em; text-align: center; vertical-align: top\">Completed</td>\n",
       "        <td style=\"padding-left: 1em; padding-right: 1em; text-align: center; vertical-align: top\">2017-05-28 04:18:00</td>\n",
       "        <td style=\"padding-left: 1em; padding-right: 1em; text-align: center; vertical-align: top\">147.120588064</td>\n",
       "        <td style=\"padding-left: 1em; padding-right: 1em; text-align: center; vertical-align: top\">None</td>\n",
       "        <td style=\"padding-left: 1em; padding-right: 1em; text-align: center; vertical-align: top\">None</td>\n",
       "        <td style=\"padding-left: 1em; padding-right: 1em; text-align: center; vertical-align: top\">None</td>\n",
       "    </tr>\n",
       "    <tr>\n",
       "        <td style=\"padding-left: 1em; padding-right: 1em; text-align: center; vertical-align: top\">_train_test_model-0-2</td>\n",
       "        <td style=\"padding-left: 1em; padding-right: 1em; text-align: center; vertical-align: top\">Completed</td>\n",
       "        <td style=\"padding-left: 1em; padding-right: 1em; text-align: center; vertical-align: top\">2017-05-28 04:20:28</td>\n",
       "        <td style=\"padding-left: 1em; padding-right: 1em; text-align: center; vertical-align: top\">143.171838999</td>\n",
       "        <td style=\"padding-left: 1em; padding-right: 1em; text-align: center; vertical-align: top\">None</td>\n",
       "        <td style=\"padding-left: 1em; padding-right: 1em; text-align: center; vertical-align: top\">None</td>\n",
       "        <td style=\"padding-left: 1em; padding-right: 1em; text-align: center; vertical-align: top\">None</td>\n",
       "    </tr>\n",
       "    <tr>\n",
       "        <td style=\"padding-left: 1em; padding-right: 1em; text-align: center; vertical-align: top\">_train_test_model-0-3</td>\n",
       "        <td style=\"padding-left: 1em; padding-right: 1em; text-align: center; vertical-align: top\">Completed</td>\n",
       "        <td style=\"padding-left: 1em; padding-right: 1em; text-align: center; vertical-align: top\">2017-05-28 04:22:51</td>\n",
       "        <td style=\"padding-left: 1em; padding-right: 1em; text-align: center; vertical-align: top\">142.518718958</td>\n",
       "        <td style=\"padding-left: 1em; padding-right: 1em; text-align: center; vertical-align: top\">None</td>\n",
       "        <td style=\"padding-left: 1em; padding-right: 1em; text-align: center; vertical-align: top\">None</td>\n",
       "        <td style=\"padding-left: 1em; padding-right: 1em; text-align: center; vertical-align: top\">None</td>\n",
       "    </tr>\n",
       "    <tr>\n",
       "        <td style=\"padding-left: 1em; padding-right: 1em; text-align: center; vertical-align: top\">_train_test_model-0-4</td>\n",
       "        <td style=\"padding-left: 1em; padding-right: 1em; text-align: center; vertical-align: top\">Completed</td>\n",
       "        <td style=\"padding-left: 1em; padding-right: 1em; text-align: center; vertical-align: top\">2017-05-28 04:25:13</td>\n",
       "        <td style=\"padding-left: 1em; padding-right: 1em; text-align: center; vertical-align: top\">144.32323885</td>\n",
       "        <td style=\"padding-left: 1em; padding-right: 1em; text-align: center; vertical-align: top\">None</td>\n",
       "        <td style=\"padding-left: 1em; padding-right: 1em; text-align: center; vertical-align: top\">None</td>\n",
       "        <td style=\"padding-left: 1em; padding-right: 1em; text-align: center; vertical-align: top\">None</td>\n",
       "    </tr>\n",
       "    <tr>\n",
       "        <td style=\"padding-left: 1em; padding-right: 1em; text-align: center; vertical-align: top\">_train_test_model-0-5</td>\n",
       "        <td style=\"padding-left: 1em; padding-right: 1em; text-align: center; vertical-align: top\">Completed</td>\n",
       "        <td style=\"padding-left: 1em; padding-right: 1em; text-align: center; vertical-align: top\">2017-05-28 04:27:38</td>\n",
       "        <td style=\"padding-left: 1em; padding-right: 1em; text-align: center; vertical-align: top\">143.988962889</td>\n",
       "        <td style=\"padding-left: 1em; padding-right: 1em; text-align: center; vertical-align: top\">None</td>\n",
       "        <td style=\"padding-left: 1em; padding-right: 1em; text-align: center; vertical-align: top\">None</td>\n",
       "        <td style=\"padding-left: 1em; padding-right: 1em; text-align: center; vertical-align: top\">None</td>\n",
       "    </tr>\n",
       "    <tr>\n",
       "        <td style=\"padding-left: 1em; padding-right: 1em; text-align: center; vertical-align: top\">_train_test_model-0-6</td>\n",
       "        <td style=\"padding-left: 1em; padding-right: 1em; text-align: center; vertical-align: top\">Completed</td>\n",
       "        <td style=\"padding-left: 1em; padding-right: 1em; text-align: center; vertical-align: top\">2017-05-28 04:30:02</td>\n",
       "        <td style=\"padding-left: 1em; padding-right: 1em; text-align: center; vertical-align: top\">148.018715143</td>\n",
       "        <td style=\"padding-left: 1em; padding-right: 1em; text-align: center; vertical-align: top\">None</td>\n",
       "        <td style=\"padding-left: 1em; padding-right: 1em; text-align: center; vertical-align: top\">None</td>\n",
       "        <td style=\"padding-left: 1em; padding-right: 1em; text-align: center; vertical-align: top\">None</td>\n",
       "    </tr>\n",
       "    <tr>\n",
       "        <td style=\"padding-left: 1em; padding-right: 1em; text-align: center; vertical-align: top\">_train_test_model-0-7</td>\n",
       "        <td style=\"padding-left: 1em; padding-right: 1em; text-align: center; vertical-align: top\">Completed</td>\n",
       "        <td style=\"padding-left: 1em; padding-right: 1em; text-align: center; vertical-align: top\">2017-05-28 04:32:30</td>\n",
       "        <td style=\"padding-left: 1em; padding-right: 1em; text-align: center; vertical-align: top\">145.34139204</td>\n",
       "        <td style=\"padding-left: 1em; padding-right: 1em; text-align: center; vertical-align: top\">None</td>\n",
       "        <td style=\"padding-left: 1em; padding-right: 1em; text-align: center; vertical-align: top\">None</td>\n",
       "        <td style=\"padding-left: 1em; padding-right: 1em; text-align: center; vertical-align: top\">None</td>\n",
       "    </tr>\n",
       "    <tr>\n",
       "        <td style=\"padding-left: 1em; padding-right: 1em; text-align: center; vertical-align: top\">_train_test_model-0-8</td>\n",
       "        <td style=\"padding-left: 1em; padding-right: 1em; text-align: center; vertical-align: top\">Completed</td>\n",
       "        <td style=\"padding-left: 1em; padding-right: 1em; text-align: center; vertical-align: top\">2017-05-28 04:34:55</td>\n",
       "        <td style=\"padding-left: 1em; padding-right: 1em; text-align: center; vertical-align: top\">143.07583499</td>\n",
       "        <td style=\"padding-left: 1em; padding-right: 1em; text-align: center; vertical-align: top\">None</td>\n",
       "        <td style=\"padding-left: 1em; padding-right: 1em; text-align: center; vertical-align: top\">None</td>\n",
       "        <td style=\"padding-left: 1em; padding-right: 1em; text-align: center; vertical-align: top\">None</td>\n",
       "    </tr>\n",
       "    <tr>\n",
       "        <td style=\"padding-left: 1em; padding-right: 1em; text-align: center; vertical-align: top\">_train_test_model-0-9</td>\n",
       "        <td style=\"padding-left: 1em; padding-right: 1em; text-align: center; vertical-align: top\">Completed</td>\n",
       "        <td style=\"padding-left: 1em; padding-right: 1em; text-align: center; vertical-align: top\">2017-05-28 04:37:19</td>\n",
       "        <td style=\"padding-left: 1em; padding-right: 1em; text-align: center; vertical-align: top\">138.991053104</td>\n",
       "        <td style=\"padding-left: 1em; padding-right: 1em; text-align: center; vertical-align: top\">None</td>\n",
       "        <td style=\"padding-left: 1em; padding-right: 1em; text-align: center; vertical-align: top\">None</td>\n",
       "        <td style=\"padding-left: 1em; padding-right: 1em; text-align: center; vertical-align: top\">None</td>\n",
       "    </tr>\n",
       "</table>\n",
       "<table frame=\"box\" rules=\"cols\">\n",
       "    <tr>\n",
       "        <th style=\"padding-left: 1em; padding-right: 1em; text-align: center\">job_name</th>\n",
       "    </tr>\n",
       "    <tr>\n",
       "        <td style=\"padding-left: 1em; padding-right: 1em; text-align: center; vertical-align: top\">Model-Parameter-Search-Ma<br>y-28-2017-04-13-51000 ...</td>\n",
       "    </tr>\n",
       "    <tr>\n",
       "        <td style=\"padding-left: 1em; padding-right: 1em; text-align: center; vertical-align: top\">Model-Parameter-Search-Ma<br>y-28-2017-04-13-51000 ...</td>\n",
       "    </tr>\n",
       "    <tr>\n",
       "        <td style=\"padding-left: 1em; padding-right: 1em; text-align: center; vertical-align: top\">Model-Parameter-Search-Ma<br>y-28-2017-04-13-51000 ...</td>\n",
       "    </tr>\n",
       "    <tr>\n",
       "        <td style=\"padding-left: 1em; padding-right: 1em; text-align: center; vertical-align: top\">Model-Parameter-Search-Ma<br>y-28-2017-04-13-51000 ...</td>\n",
       "    </tr>\n",
       "    <tr>\n",
       "        <td style=\"padding-left: 1em; padding-right: 1em; text-align: center; vertical-align: top\">Model-Parameter-Search-Ma<br>y-28-2017-04-13-51000 ...</td>\n",
       "    </tr>\n",
       "    <tr>\n",
       "        <td style=\"padding-left: 1em; padding-right: 1em; text-align: center; vertical-align: top\">Model-Parameter-Search-Ma<br>y-28-2017-04-13-51000 ...</td>\n",
       "    </tr>\n",
       "    <tr>\n",
       "        <td style=\"padding-left: 1em; padding-right: 1em; text-align: center; vertical-align: top\">Model-Parameter-Search-Ma<br>y-28-2017-04-13-51000 ...</td>\n",
       "    </tr>\n",
       "    <tr>\n",
       "        <td style=\"padding-left: 1em; padding-right: 1em; text-align: center; vertical-align: top\">Model-Parameter-Search-Ma<br>y-28-2017-04-13-51000 ...</td>\n",
       "    </tr>\n",
       "    <tr>\n",
       "        <td style=\"padding-left: 1em; padding-right: 1em; text-align: center; vertical-align: top\">Model-Parameter-Search-Ma<br>y-28-2017-04-13-51000 ...</td>\n",
       "    </tr>\n",
       "    <tr>\n",
       "        <td style=\"padding-left: 1em; padding-right: 1em; text-align: center; vertical-align: top\">Model-Parameter-Search-Ma<br>y-28-2017-04-13-51000 ...</td>\n",
       "    </tr>\n",
       "</table>\n",
       "[35 rows x 8 columns]<br/>Note: Only the head of the SFrame is printed.<br/>You can use print_rows(num_rows=m, num_columns=n) to print more rows and columns.\n",
       "</div>"
      ],
      "text/plain": [
       "Columns:\n",
       "\ttask_name\tstr\n",
       "\tstatus\tstr\n",
       "\tstart_time\tstr\n",
       "\trun_time\tfloat\n",
       "\texception\tfloat\n",
       "\texception_message\tfloat\n",
       "\texception_traceback\tfloat\n",
       "\tjob_name\tstr\n",
       "\n",
       "Rows: 35\n",
       "\n",
       "Data:\n",
       "+-----------------------+-----------+---------------------+---------------+-----------+\n",
       "|       task_name       |   status  |      start_time     |    run_time   | exception |\n",
       "+-----------------------+-----------+---------------------+---------------+-----------+\n",
       "| _train_test_model-0-0 | Completed | 2017-05-28 04:15:38 | 142.217834949 |    None   |\n",
       "| _train_test_model-0-1 | Completed | 2017-05-28 04:18:00 | 147.120588064 |    None   |\n",
       "| _train_test_model-0-2 | Completed | 2017-05-28 04:20:28 | 143.171838999 |    None   |\n",
       "| _train_test_model-0-3 | Completed | 2017-05-28 04:22:51 | 142.518718958 |    None   |\n",
       "| _train_test_model-0-4 | Completed | 2017-05-28 04:25:13 |  144.32323885 |    None   |\n",
       "| _train_test_model-0-5 | Completed | 2017-05-28 04:27:38 | 143.988962889 |    None   |\n",
       "| _train_test_model-0-6 | Completed | 2017-05-28 04:30:02 | 148.018715143 |    None   |\n",
       "| _train_test_model-0-7 | Completed | 2017-05-28 04:32:30 |  145.34139204 |    None   |\n",
       "| _train_test_model-0-8 | Completed | 2017-05-28 04:34:55 |  143.07583499 |    None   |\n",
       "| _train_test_model-0-9 | Completed | 2017-05-28 04:37:19 | 138.991053104 |    None   |\n",
       "+-----------------------+-----------+---------------------+---------------+-----------+\n",
       "+-------------------+---------------------+-------------------------------+\n",
       "| exception_message | exception_traceback |            job_name           |\n",
       "+-------------------+---------------------+-------------------------------+\n",
       "|        None       |         None        | Model-Parameter-Search-May... |\n",
       "|        None       |         None        | Model-Parameter-Search-May... |\n",
       "|        None       |         None        | Model-Parameter-Search-May... |\n",
       "|        None       |         None        | Model-Parameter-Search-May... |\n",
       "|        None       |         None        | Model-Parameter-Search-May... |\n",
       "|        None       |         None        | Model-Parameter-Search-May... |\n",
       "|        None       |         None        | Model-Parameter-Search-May... |\n",
       "|        None       |         None        | Model-Parameter-Search-May... |\n",
       "|        None       |         None        | Model-Parameter-Search-May... |\n",
       "|        None       |         None        | Model-Parameter-Search-May... |\n",
       "+-------------------+---------------------+-------------------------------+\n",
       "[35 rows x 8 columns]\n",
       "Note: Only the head of the SFrame is printed.\n",
       "You can use print_rows(num_rows=m, num_columns=n) to print more rows and columns."
      ]
     },
     "execution_count": 58,
     "metadata": {},
     "output_type": "execute_result"
    }
   ],
   "source": [
    "res = model_search.get_metrics()\n",
    "res"
   ]
  },
  {
   "cell_type": "code",
   "execution_count": 59,
   "metadata": {},
   "outputs": [
    {
     "data": {
      "text/plain": [
       "(10, 14)"
      ]
     },
     "execution_count": 59,
     "metadata": {},
     "output_type": "execute_result"
    }
   ],
   "source": [
    "search_results.shape"
   ]
  },
  {
   "cell_type": "code",
   "execution_count": 60,
   "metadata": {
    "scrolled": true
   },
   "outputs": [
    {
     "name": "stdout",
     "output_type": "stream",
     "text": [
      "+---------------+-----------------+----------------+\n",
      "| class_weights |       std       |      mean      |\n",
      "+---------------+-----------------+----------------+\n",
      "|      None     | 0.0159401641879 | 0.889271322173 |\n",
      "+---------------+-----------------+----------------+\n",
      "[1 rows x 3 columns]\n",
      "\n",
      "+------------------+------------------+----------------+\n",
      "| column_subsample |       std        |      mean      |\n",
      "+------------------+------------------+----------------+\n",
      "| 0.0421898618649  |       0.0        | 0.862865681399 |\n",
      "|       0.5        | 0.0127577258664  | 0.900803623544 |\n",
      "| 0.0751646028003  | 0.00549159509322 | 0.881457355654 |\n",
      "+------------------+------------------+----------------+\n",
      "[3 rows x 3 columns]\n",
      "\n",
      "+-----------+----------------+----------------+\n",
      "| max_depth |      std       |      mean      |\n",
      "+-----------+----------------+----------------+\n",
      "|     6     |      0.0       | 0.884267236348 |\n",
      "|     12    | 0.016513145653 | 0.896034414326 |\n",
      "|     9     | 0.013381018859 | 0.882068478439 |\n",
      "+-----------+----------------+----------------+\n",
      "[3 rows x 3 columns]\n",
      "\n",
      "+----------------+------------------+----------------+\n",
      "| max_iterations |       std        |      mean      |\n",
      "+----------------+------------------+----------------+\n",
      "|      200       | 0.0139737979744  | 0.89786836637  |\n",
      "|      150       | 0.00240040371231 | 0.880879114037 |\n",
      "|      100       |       0.0        | 0.862865681399 |\n",
      "+----------------+------------------+----------------+\n",
      "[3 rows x 3 columns]\n",
      "\n",
      "+--------+-----------------+----------------+\n",
      "| metric |       std       |      mean      |\n",
      "+--------+-----------------+----------------+\n",
      "|  auc   | 0.0159401641879 | 0.889271322173 |\n",
      "+--------+-----------------+----------------+\n",
      "[1 rows x 3 columns]\n",
      "\n",
      "+------------------+------------------+----------------+\n",
      "| min_child_weight |       std        |      mean      |\n",
      "+------------------+------------------+----------------+\n",
      "|        2         |       0.0        | 0.913250916392 |\n",
      "|        16        |       0.0        | 0.862865681399 |\n",
      "|        8         | 0.00119880686648 | 0.87834395648  |\n",
      "|        1         | 0.0128187286724  | 0.896103873363 |\n",
      "|        4         |       0.0        | 0.897149261049 |\n",
      "+------------------+------------------+----------------+\n",
      "[5 rows x 3 columns]\n",
      "\n",
      "+--------------------+------------------+----------------+\n",
      "| min_loss_reduction |       std        |      mean      |\n",
      "+--------------------+------------------+----------------+\n",
      "|         10         | 0.0143657631155  | 0.877231444514 |\n",
      "|         0          | 0.00834433680765 | 0.88599408139  |\n",
      "|         1          | 0.0171099202572  | 0.898568501786 |\n",
      "+--------------------+------------------+----------------+\n",
      "[3 rows x 3 columns]\n",
      "\n",
      "+---------------+------------------+----------------+\n",
      "| row_subsample |       std        |      mean      |\n",
      "+---------------+------------------+----------------+\n",
      "|      0.9      | 0.0209762076874  | 0.892265882188 |\n",
      "|      1.0      | 0.00708813094983 | 0.886276762158 |\n",
      "+---------------+------------------+----------------+\n",
      "[2 rows x 3 columns]\n",
      "\n",
      "+--------+-----------------+----------------+\n",
      "| target |       std       |      mean      |\n",
      "+--------+-----------------+----------------+\n",
      "| target | 0.0159401641879 | 0.889271322173 |\n",
      "+--------+-----------------+----------------+\n",
      "[1 rows x 3 columns]\n",
      "\n"
     ]
    }
   ],
   "source": [
    "for col in [col for col in search_results.column_names() if \\\n",
    "            not('accuracy' in col) and col!= 'model_id' and col!= 'random_seed' and col!= 'fold_id' \\\n",
    "                               and col!= 'num_folds']:\n",
    "    print(search_results.groupby(col,\n",
    "                             {'mean':gl.aggregate.MEAN('mean_training_accuracy'),\n",
    "                                'std':gl.aggregate.STD('mean_training_accuracy')}))"
   ]
  },
  {
   "cell_type": "markdown",
   "metadata": {},
   "source": [
    "### Refit best model for feature importance"
   ]
  },
  {
   "cell_type": "code",
   "execution_count": 93,
   "metadata": {},
   "outputs": [
    {
     "data": {
      "text/plain": [
       "(3, 'currently non_endemic, that used to live in the endemic area')"
      ]
     },
     "execution_count": 93,
     "metadata": {},
     "output_type": "execute_result"
    }
   ],
   "source": [
    "case, case_text"
   ]
  },
  {
   "cell_type": "code",
   "execution_count": 61,
   "metadata": {
    "collapsed": true
   },
   "outputs": [],
   "source": [
    "params = model_search.get_best_params()"
   ]
  },
  {
   "cell_type": "code",
   "execution_count": 97,
   "metadata": {
    "scrolled": true
   },
   "outputs": [
    {
     "data": {
      "text/plain": [
       "{'class_weights': None,\n",
       " 'column_subsample': 0.5,\n",
       " 'max_depth': 12,\n",
       " 'max_iterations': 200,\n",
       " 'metric': 'auc',\n",
       " 'min_child_weight': 1,\n",
       " 'min_loss_reduction': 1,\n",
       " 'row_subsample': 0.9,\n",
       " 'target': 'target'}"
      ]
     },
     "execution_count": 97,
     "metadata": {},
     "output_type": "execute_result"
    }
   ],
   "source": [
    "params"
   ]
  },
  {
   "cell_type": "code",
   "execution_count": 115,
   "metadata": {
    "collapsed": true
   },
   "outputs": [],
   "source": [
    "# ## manually insert params if needed\n",
    "params = {'class_weights': None,\n",
    " 'column_subsample': 0.5,\n",
    " 'max_depth': 12,\n",
    " 'max_iterations': 200,\n",
    " 'metric': 'auc',\n",
    " 'min_child_weight': 1,\n",
    " 'min_loss_reduction': 1,\n",
    " 'row_subsample': 0.9,\n",
    " 'target': 'target'}"
   ]
  },
  {
   "cell_type": "code",
   "execution_count": 116,
   "metadata": {
    "scrolled": true
   },
   "outputs": [
    {
     "data": {
      "text/html": [
       "<pre>Random forest classifier:</pre>"
      ],
      "text/plain": [
       "Random forest classifier:"
      ]
     },
     "metadata": {},
     "output_type": "display_data"
    },
    {
     "data": {
      "text/html": [
       "<pre>--------------------------------------------------------</pre>"
      ],
      "text/plain": [
       "--------------------------------------------------------"
      ]
     },
     "metadata": {},
     "output_type": "display_data"
    },
    {
     "data": {
      "text/html": [
       "<pre>Number of examples          : 95180</pre>"
      ],
      "text/plain": [
       "Number of examples          : 95180"
      ]
     },
     "metadata": {},
     "output_type": "display_data"
    },
    {
     "data": {
      "text/html": [
       "<pre>Number of classes           : 2</pre>"
      ],
      "text/plain": [
       "Number of classes           : 2"
      ]
     },
     "metadata": {},
     "output_type": "display_data"
    },
    {
     "data": {
      "text/html": [
       "<pre>Number of feature columns   : 176</pre>"
      ],
      "text/plain": [
       "Number of feature columns   : 176"
      ]
     },
     "metadata": {},
     "output_type": "display_data"
    },
    {
     "data": {
      "text/html": [
       "<pre>Number of unpacked features : 176</pre>"
      ],
      "text/plain": [
       "Number of unpacked features : 176"
      ]
     },
     "metadata": {},
     "output_type": "display_data"
    },
    {
     "data": {
      "text/html": [
       "<pre>+-----------+--------------+--------------+----------------+</pre>"
      ],
      "text/plain": [
       "+-----------+--------------+--------------+----------------+"
      ]
     },
     "metadata": {},
     "output_type": "display_data"
    },
    {
     "data": {
      "text/html": [
       "<pre>| Iteration | Elapsed Time | Training-auc | Validation-auc |</pre>"
      ],
      "text/plain": [
       "| Iteration | Elapsed Time | Training-auc | Validation-auc |"
      ]
     },
     "metadata": {},
     "output_type": "display_data"
    },
    {
     "data": {
      "text/html": [
       "<pre>+-----------+--------------+--------------+----------------+</pre>"
      ],
      "text/plain": [
       "+-----------+--------------+--------------+----------------+"
      ]
     },
     "metadata": {},
     "output_type": "display_data"
    },
    {
     "data": {
      "text/html": [
       "<pre>| 1         | 0.652321     | 0.887324     | 0.857103       |</pre>"
      ],
      "text/plain": [
       "| 1         | 0.652321     | 0.887324     | 0.857103       |"
      ]
     },
     "metadata": {},
     "output_type": "display_data"
    },
    {
     "data": {
      "text/html": [
       "<pre>| 2         | 1.246490     | 0.901957     | 0.867521       |</pre>"
      ],
      "text/plain": [
       "| 2         | 1.246490     | 0.901957     | 0.867521       |"
      ]
     },
     "metadata": {},
     "output_type": "display_data"
    },
    {
     "data": {
      "text/html": [
       "<pre>| 3         | 1.806583     | 0.905375     | 0.872422       |</pre>"
      ],
      "text/plain": [
       "| 3         | 1.806583     | 0.905375     | 0.872422       |"
      ]
     },
     "metadata": {},
     "output_type": "display_data"
    },
    {
     "data": {
      "text/html": [
       "<pre>| 4         | 2.413643     | 0.907046     | 0.874334       |</pre>"
      ],
      "text/plain": [
       "| 4         | 2.413643     | 0.907046     | 0.874334       |"
      ]
     },
     "metadata": {},
     "output_type": "display_data"
    },
    {
     "data": {
      "text/html": [
       "<pre>| 5         | 2.997941     | 0.907899     | 0.877066       |</pre>"
      ],
      "text/plain": [
       "| 5         | 2.997941     | 0.907899     | 0.877066       |"
      ]
     },
     "metadata": {},
     "output_type": "display_data"
    },
    {
     "data": {
      "text/html": [
       "<pre>| 6         | 3.560141     | 0.909016     | 0.877600       |</pre>"
      ],
      "text/plain": [
       "| 6         | 3.560141     | 0.909016     | 0.877600       |"
      ]
     },
     "metadata": {},
     "output_type": "display_data"
    },
    {
     "data": {
      "text/html": [
       "<pre>| 10        | 5.866732     | 0.910702     | 0.878135       |</pre>"
      ],
      "text/plain": [
       "| 10        | 5.866732     | 0.910702     | 0.878135       |"
      ]
     },
     "metadata": {},
     "output_type": "display_data"
    },
    {
     "data": {
      "text/html": [
       "<pre>| 11        | 6.437765     | 0.911047     | 0.878510       |</pre>"
      ],
      "text/plain": [
       "| 11        | 6.437765     | 0.911047     | 0.878510       |"
      ]
     },
     "metadata": {},
     "output_type": "display_data"
    },
    {
     "data": {
      "text/html": [
       "<pre>| 15        | 8.785547     | 0.910084     | 0.878787       |</pre>"
      ],
      "text/plain": [
       "| 15        | 8.785547     | 0.910084     | 0.878787       |"
      ]
     },
     "metadata": {},
     "output_type": "display_data"
    },
    {
     "data": {
      "text/html": [
       "<pre>| 20        | 11.807212    | 0.909904     | 0.878865       |</pre>"
      ],
      "text/plain": [
       "| 20        | 11.807212    | 0.909904     | 0.878865       |"
      ]
     },
     "metadata": {},
     "output_type": "display_data"
    },
    {
     "data": {
      "text/html": [
       "<pre>| 25        | 14.744240    | 0.910098     | 0.879282       |</pre>"
      ],
      "text/plain": [
       "| 25        | 14.744240    | 0.910098     | 0.879282       |"
      ]
     },
     "metadata": {},
     "output_type": "display_data"
    },
    {
     "data": {
      "text/html": [
       "<pre>| 30        | 17.685828    | 0.910600     | 0.879573       |</pre>"
      ],
      "text/plain": [
       "| 30        | 17.685828    | 0.910600     | 0.879573       |"
      ]
     },
     "metadata": {},
     "output_type": "display_data"
    },
    {
     "data": {
      "text/html": [
       "<pre>| 35        | 20.626458    | 0.910753     | 0.879844       |</pre>"
      ],
      "text/plain": [
       "| 35        | 20.626458    | 0.910753     | 0.879844       |"
      ]
     },
     "metadata": {},
     "output_type": "display_data"
    },
    {
     "data": {
      "text/html": [
       "<pre>| 40        | 23.548323    | 0.911700     | 0.880033       |</pre>"
      ],
      "text/plain": [
       "| 40        | 23.548323    | 0.911700     | 0.880033       |"
      ]
     },
     "metadata": {},
     "output_type": "display_data"
    },
    {
     "data": {
      "text/html": [
       "<pre>| 45        | 26.465986    | 0.911888     | 0.880170       |</pre>"
      ],
      "text/plain": [
       "| 45        | 26.465986    | 0.911888     | 0.880170       |"
      ]
     },
     "metadata": {},
     "output_type": "display_data"
    },
    {
     "data": {
      "text/html": [
       "<pre>| 50        | 29.398379    | 0.911304     | 0.880063       |</pre>"
      ],
      "text/plain": [
       "| 50        | 29.398379    | 0.911304     | 0.880063       |"
      ]
     },
     "metadata": {},
     "output_type": "display_data"
    },
    {
     "data": {
      "text/html": [
       "<pre>| 51        | 29.978672    | 0.911127     | 0.879940       |</pre>"
      ],
      "text/plain": [
       "| 51        | 29.978672    | 0.911127     | 0.879940       |"
      ]
     },
     "metadata": {},
     "output_type": "display_data"
    },
    {
     "data": {
      "text/html": [
       "<pre>| 55        | 32.421343    | 0.911586     | 0.880214       |</pre>"
      ],
      "text/plain": [
       "| 55        | 32.421343    | 0.911586     | 0.880214       |"
      ]
     },
     "metadata": {},
     "output_type": "display_data"
    },
    {
     "data": {
      "text/html": [
       "<pre>| 60        | 35.351890    | 0.911719     | 0.880223       |</pre>"
      ],
      "text/plain": [
       "| 60        | 35.351890    | 0.911719     | 0.880223       |"
      ]
     },
     "metadata": {},
     "output_type": "display_data"
    },
    {
     "data": {
      "text/html": [
       "<pre>| 65        | 38.301109    | 0.911431     | 0.880264       |</pre>"
      ],
      "text/plain": [
       "| 65        | 38.301109    | 0.911431     | 0.880264       |"
      ]
     },
     "metadata": {},
     "output_type": "display_data"
    },
    {
     "data": {
      "text/html": [
       "<pre>| 70        | 41.233651    | 0.911672     | 0.880431       |</pre>"
      ],
      "text/plain": [
       "| 70        | 41.233651    | 0.911672     | 0.880431       |"
      ]
     },
     "metadata": {},
     "output_type": "display_data"
    },
    {
     "data": {
      "text/html": [
       "<pre>| 75        | 44.202491    | 0.911783     | 0.880531       |</pre>"
      ],
      "text/plain": [
       "| 75        | 44.202491    | 0.911783     | 0.880531       |"
      ]
     },
     "metadata": {},
     "output_type": "display_data"
    },
    {
     "data": {
      "text/html": [
       "<pre>| 80        | 47.131820    | 0.911876     | 0.880787       |</pre>"
      ],
      "text/plain": [
       "| 80        | 47.131820    | 0.911876     | 0.880787       |"
      ]
     },
     "metadata": {},
     "output_type": "display_data"
    },
    {
     "data": {
      "text/html": [
       "<pre>| 85        | 50.115690    | 0.911692     | 0.880654       |</pre>"
      ],
      "text/plain": [
       "| 85        | 50.115690    | 0.911692     | 0.880654       |"
      ]
     },
     "metadata": {},
     "output_type": "display_data"
    },
    {
     "data": {
      "text/html": [
       "<pre>| 90        | 53.037312    | 0.911642     | 0.880638       |</pre>"
      ],
      "text/plain": [
       "| 90        | 53.037312    | 0.911642     | 0.880638       |"
      ]
     },
     "metadata": {},
     "output_type": "display_data"
    },
    {
     "data": {
      "text/html": [
       "<pre>| 95        | 55.982949    | 0.911761     | 0.880594       |</pre>"
      ],
      "text/plain": [
       "| 95        | 55.982949    | 0.911761     | 0.880594       |"
      ]
     },
     "metadata": {},
     "output_type": "display_data"
    },
    {
     "data": {
      "text/html": [
       "<pre>| 100       | 58.942501    | 0.911896     | 0.880770       |</pre>"
      ],
      "text/plain": [
       "| 100       | 58.942501    | 0.911896     | 0.880770       |"
      ]
     },
     "metadata": {},
     "output_type": "display_data"
    },
    {
     "data": {
      "text/html": [
       "<pre>| 101       | 59.543678    | 0.911917     | 0.880809       |</pre>"
      ],
      "text/plain": [
       "| 101       | 59.543678    | 0.911917     | 0.880809       |"
      ]
     },
     "metadata": {},
     "output_type": "display_data"
    },
    {
     "data": {
      "text/html": [
       "<pre>| 105       | 61.956159    | 0.912024     | 0.880812       |</pre>"
      ],
      "text/plain": [
       "| 105       | 61.956159    | 0.912024     | 0.880812       |"
      ]
     },
     "metadata": {},
     "output_type": "display_data"
    },
    {
     "data": {
      "text/html": [
       "<pre>| 110       | 64.997207    | 0.912055     | 0.880836       |</pre>"
      ],
      "text/plain": [
       "| 110       | 64.997207    | 0.912055     | 0.880836       |"
      ]
     },
     "metadata": {},
     "output_type": "display_data"
    },
    {
     "data": {
      "text/html": [
       "<pre>| 115       | 68.007296    | 0.912050     | 0.880840       |</pre>"
      ],
      "text/plain": [
       "| 115       | 68.007296    | 0.912050     | 0.880840       |"
      ]
     },
     "metadata": {},
     "output_type": "display_data"
    },
    {
     "data": {
      "text/html": [
       "<pre>| 120       | 70.928535    | 0.912091     | 0.880870       |</pre>"
      ],
      "text/plain": [
       "| 120       | 70.928535    | 0.912091     | 0.880870       |"
      ]
     },
     "metadata": {},
     "output_type": "display_data"
    },
    {
     "data": {
      "text/html": [
       "<pre>| 125       | 73.922047    | 0.912097     | 0.880861       |</pre>"
      ],
      "text/plain": [
       "| 125       | 73.922047    | 0.912097     | 0.880861       |"
      ]
     },
     "metadata": {},
     "output_type": "display_data"
    },
    {
     "data": {
      "text/html": [
       "<pre>| 130       | 76.888999    | 0.912162     | 0.880940       |</pre>"
      ],
      "text/plain": [
       "| 130       | 76.888999    | 0.912162     | 0.880940       |"
      ]
     },
     "metadata": {},
     "output_type": "display_data"
    },
    {
     "data": {
      "text/html": [
       "<pre>| 135       | 79.867156    | 0.912198     | 0.880969       |</pre>"
      ],
      "text/plain": [
       "| 135       | 79.867156    | 0.912198     | 0.880969       |"
      ]
     },
     "metadata": {},
     "output_type": "display_data"
    },
    {
     "data": {
      "text/html": [
       "<pre>| 140       | 82.805333    | 0.912126     | 0.880958       |</pre>"
      ],
      "text/plain": [
       "| 140       | 82.805333    | 0.912126     | 0.880958       |"
      ]
     },
     "metadata": {},
     "output_type": "display_data"
    },
    {
     "data": {
      "text/html": [
       "<pre>| 145       | 85.773335    | 0.912173     | 0.880983       |</pre>"
      ],
      "text/plain": [
       "| 145       | 85.773335    | 0.912173     | 0.880983       |"
      ]
     },
     "metadata": {},
     "output_type": "display_data"
    },
    {
     "data": {
      "text/html": [
       "<pre>| 150       | 88.706009    | 0.912145     | 0.880899       |</pre>"
      ],
      "text/plain": [
       "| 150       | 88.706009    | 0.912145     | 0.880899       |"
      ]
     },
     "metadata": {},
     "output_type": "display_data"
    },
    {
     "data": {
      "text/html": [
       "<pre>| 155       | 91.627645    | 0.912177     | 0.880941       |</pre>"
      ],
      "text/plain": [
       "| 155       | 91.627645    | 0.912177     | 0.880941       |"
      ]
     },
     "metadata": {},
     "output_type": "display_data"
    },
    {
     "data": {
      "text/html": [
       "<pre>| 160       | 94.561862    | 0.912095     | 0.880943       |</pre>"
      ],
      "text/plain": [
       "| 160       | 94.561862    | 0.912095     | 0.880943       |"
      ]
     },
     "metadata": {},
     "output_type": "display_data"
    },
    {
     "data": {
      "text/html": [
       "<pre>| 165       | 97.539032    | 0.912132     | 0.880898       |</pre>"
      ],
      "text/plain": [
       "| 165       | 97.539032    | 0.912132     | 0.880898       |"
      ]
     },
     "metadata": {},
     "output_type": "display_data"
    },
    {
     "data": {
      "text/html": [
       "<pre>| 170       | 100.415218   | 0.912055     | 0.880924       |</pre>"
      ],
      "text/plain": [
       "| 170       | 100.415218   | 0.912055     | 0.880924       |"
      ]
     },
     "metadata": {},
     "output_type": "display_data"
    },
    {
     "data": {
      "text/html": [
       "<pre>| 175       | 103.342166   | 0.912047     | 0.881013       |</pre>"
      ],
      "text/plain": [
       "| 175       | 103.342166   | 0.912047     | 0.881013       |"
      ]
     },
     "metadata": {},
     "output_type": "display_data"
    },
    {
     "data": {
      "text/html": [
       "<pre>| 180       | 106.324004   | 0.912119     | 0.881047       |</pre>"
      ],
      "text/plain": [
       "| 180       | 106.324004   | 0.912119     | 0.881047       |"
      ]
     },
     "metadata": {},
     "output_type": "display_data"
    },
    {
     "data": {
      "text/html": [
       "<pre>| 185       | 109.276733   | 0.912126     | 0.881056       |</pre>"
      ],
      "text/plain": [
       "| 185       | 109.276733   | 0.912126     | 0.881056       |"
      ]
     },
     "metadata": {},
     "output_type": "display_data"
    },
    {
     "data": {
      "text/html": [
       "<pre>| 190       | 112.230811   | 0.912185     | 0.881136       |</pre>"
      ],
      "text/plain": [
       "| 190       | 112.230811   | 0.912185     | 0.881136       |"
      ]
     },
     "metadata": {},
     "output_type": "display_data"
    },
    {
     "data": {
      "text/html": [
       "<pre>| 195       | 115.117248   | 0.912165     | 0.881090       |</pre>"
      ],
      "text/plain": [
       "| 195       | 115.117248   | 0.912165     | 0.881090       |"
      ]
     },
     "metadata": {},
     "output_type": "display_data"
    },
    {
     "data": {
      "text/html": [
       "<pre>| 200       | 118.090183   | 0.912192     | 0.881041       |</pre>"
      ],
      "text/plain": [
       "| 200       | 118.090183   | 0.912192     | 0.881041       |"
      ]
     },
     "metadata": {},
     "output_type": "display_data"
    },
    {
     "data": {
      "text/html": [
       "<pre>+-----------+--------------+--------------+----------------+</pre>"
      ],
      "text/plain": [
       "+-----------+--------------+--------------+----------------+"
      ]
     },
     "metadata": {},
     "output_type": "display_data"
    },
    {
     "name": "stdout",
     "output_type": "stream",
     "text": [
      "CPU times: user 9min 30s, sys: 17.7 s, total: 9min 48s\n",
      "Wall time: 2min 9s\n"
     ]
    }
   ],
   "source": [
    "%%time\n",
    "best_model =  random_forest_classifier.create(dataset=X_gl,\n",
    "                                             validation_set = X_val_gl,\n",
    "                                             **params)"
   ]
  },
  {
   "cell_type": "code",
   "execution_count": 117,
   "metadata": {
    "scrolled": false
   },
   "outputs": [
    {
     "data": {
      "text/html": [
       "<div style=\"max-height:1000px;max-width:1500px;overflow:auto;\"><table frame=\"box\" rules=\"cols\">\n",
       "    <tr>\n",
       "        <th style=\"padding-left: 1em; padding-right: 1em; text-align: center\">name</th>\n",
       "        <th style=\"padding-left: 1em; padding-right: 1em; text-align: center\">index</th>\n",
       "        <th style=\"padding-left: 1em; padding-right: 1em; text-align: center\">count</th>\n",
       "    </tr>\n",
       "    <tr>\n",
       "        <td style=\"padding-left: 1em; padding-right: 1em; text-align: center; vertical-align: top\">MOBILITY_DIAMETER</td>\n",
       "        <td style=\"padding-left: 1em; padding-right: 1em; text-align: center; vertical-align: top\">None</td>\n",
       "        <td style=\"padding-left: 1em; padding-right: 1em; text-align: center; vertical-align: top\">7950</td>\n",
       "    </tr>\n",
       "    <tr>\n",
       "        <td style=\"padding-left: 1em; padding-right: 1em; text-align: center; vertical-align: top\">COUNT_0</td>\n",
       "        <td style=\"padding-left: 1em; padding-right: 1em; text-align: center; vertical-align: top\">None</td>\n",
       "        <td style=\"padding-left: 1em; padding-right: 1em; text-align: center; vertical-align: top\">7009</td>\n",
       "    </tr>\n",
       "    <tr>\n",
       "        <td style=\"padding-left: 1em; padding-right: 1em; text-align: center; vertical-align: top\">COUNT_WEEKNIGHT_0</td>\n",
       "        <td style=\"padding-left: 1em; padding-right: 1em; text-align: center; vertical-align: top\">None</td>\n",
       "        <td style=\"padding-left: 1em; padding-right: 1em; text-align: center; vertical-align: top\">6912</td>\n",
       "    </tr>\n",
       "    <tr>\n",
       "        <td style=\"padding-left: 1em; padding-right: 1em; text-align: center; vertical-align: top\">MOBILITY_DIAMETER_WEEKNIG<br>HT ...</td>\n",
       "        <td style=\"padding-left: 1em; padding-right: 1em; text-align: center; vertical-align: top\">None</td>\n",
       "        <td style=\"padding-left: 1em; padding-right: 1em; text-align: center; vertical-align: top\">6333</td>\n",
       "    </tr>\n",
       "    <tr>\n",
       "        <td style=\"padding-left: 1em; padding-right: 1em; text-align: center; vertical-align: top\">COUNT_1</td>\n",
       "        <td style=\"padding-left: 1em; padding-right: 1em; text-align: center; vertical-align: top\">None</td>\n",
       "        <td style=\"padding-left: 1em; padding-right: 1em; text-align: center; vertical-align: top\">4335</td>\n",
       "    </tr>\n",
       "    <tr>\n",
       "        <td style=\"padding-left: 1em; padding-right: 1em; text-align: center; vertical-align: top\">COUNT_2</td>\n",
       "        <td style=\"padding-left: 1em; padding-right: 1em; text-align: center; vertical-align: top\">None</td>\n",
       "        <td style=\"padding-left: 1em; padding-right: 1em; text-align: center; vertical-align: top\">3925</td>\n",
       "    </tr>\n",
       "    <tr>\n",
       "        <td style=\"padding-left: 1em; padding-right: 1em; text-align: center; vertical-align: top\">COUNT_WEEKNIGHT_1</td>\n",
       "        <td style=\"padding-left: 1em; padding-right: 1em; text-align: center; vertical-align: top\">None</td>\n",
       "        <td style=\"padding-left: 1em; padding-right: 1em; text-align: center; vertical-align: top\">2844</td>\n",
       "    </tr>\n",
       "    <tr>\n",
       "        <td style=\"padding-left: 1em; padding-right: 1em; text-align: center; vertical-align: top\">COUNT_3</td>\n",
       "        <td style=\"padding-left: 1em; padding-right: 1em; text-align: center; vertical-align: top\">None</td>\n",
       "        <td style=\"padding-left: 1em; padding-right: 1em; text-align: center; vertical-align: top\">2687</td>\n",
       "    </tr>\n",
       "    <tr>\n",
       "        <td style=\"padding-left: 1em; padding-right: 1em; text-align: center; vertical-align: top\">TimeWeekDay_OUT_08</td>\n",
       "        <td style=\"padding-left: 1em; padding-right: 1em; text-align: center; vertical-align: top\">None</td>\n",
       "        <td style=\"padding-left: 1em; padding-right: 1em; text-align: center; vertical-align: top\">2509</td>\n",
       "    </tr>\n",
       "    <tr>\n",
       "        <td style=\"padding-left: 1em; padding-right: 1em; text-align: center; vertical-align: top\">TimeWeekDay_OUT_12</td>\n",
       "        <td style=\"padding-left: 1em; padding-right: 1em; text-align: center; vertical-align: top\">None</td>\n",
       "        <td style=\"padding-left: 1em; padding-right: 1em; text-align: center; vertical-align: top\">2482</td>\n",
       "    </tr>\n",
       "</table>\n",
       "[20 rows x 3 columns]<br/>Note: Only the head of the SFrame is printed.<br/>You can use print_rows(num_rows=m, num_columns=n) to print more rows and columns.\n",
       "</div>"
      ],
      "text/plain": [
       "Columns:\n",
       "\tname\tstr\n",
       "\tindex\tstr\n",
       "\tcount\tint\n",
       "\n",
       "Rows: 20\n",
       "\n",
       "Data:\n",
       "+-----------------------------+-------+-------+\n",
       "|             name            | index | count |\n",
       "+-----------------------------+-------+-------+\n",
       "|      MOBILITY_DIAMETER      |  None |  7950 |\n",
       "|           COUNT_0           |  None |  7009 |\n",
       "|      COUNT_WEEKNIGHT_0      |  None |  6912 |\n",
       "| MOBILITY_DIAMETER_WEEKNIGHT |  None |  6333 |\n",
       "|           COUNT_1           |  None |  4335 |\n",
       "|           COUNT_2           |  None |  3925 |\n",
       "|      COUNT_WEEKNIGHT_1      |  None |  2844 |\n",
       "|           COUNT_3           |  None |  2687 |\n",
       "|      TimeWeekDay_OUT_08     |  None |  2509 |\n",
       "|      TimeWeekDay_OUT_12     |  None |  2482 |\n",
       "+-----------------------------+-------+-------+\n",
       "[20 rows x 3 columns]\n",
       "Note: Only the head of the SFrame is printed.\n",
       "You can use print_rows(num_rows=m, num_columns=n) to print more rows and columns."
      ]
     },
     "execution_count": 117,
     "metadata": {},
     "output_type": "execute_result"
    }
   ],
   "source": [
    "best_feat = best_model.get_feature_importance()\n",
    "best_feat.head(20)"
   ]
  },
  {
   "cell_type": "code",
   "execution_count": 118,
   "metadata": {
    "collapsed": true
   },
   "outputs": [],
   "source": [
    "# filter_cols"
   ]
  },
  {
   "cell_type": "code",
   "execution_count": 119,
   "metadata": {
    "scrolled": true
   },
   "outputs": [
    {
     "data": {
      "text/plain": [
       "['MOBILITY_DIAMETER',\n",
       " 'COUNT_0',\n",
       " 'COUNT_WEEKNIGHT_0',\n",
       " 'MOBILITY_DIAMETER_WEEKNIGHT',\n",
       " 'COUNT_1',\n",
       " 'COUNT_2',\n",
       " 'COUNT_WEEKNIGHT_1',\n",
       " 'COUNT_3',\n",
       " 'TimeWeekDay_OUT_08',\n",
       " 'TimeWeekDay_OUT_12',\n",
       " 'TimeWeekDay_IN_08',\n",
       " 'COUNT_4',\n",
       " 'COUNT_5',\n",
       " 'TimeWeekDay_IN_09',\n",
       " 'TimeWeekDay_IN_12',\n",
       " 'TimeWeekDay_OUT_09',\n",
       " 'TimeWeekEnd_IN_08',\n",
       " 'TimeWeekDay_OUT_VUL_08',\n",
       " 'CallsWeekDay_OUT_08',\n",
       " 'TimeWeekEnd_OUT_08',\n",
       " 'COUNT_WEEKNIGHT_2',\n",
       " 'COUNT_7',\n",
       " 'CallsWeekDay_OUT_12',\n",
       " 'TimeWeekDay_OUT_11',\n",
       " 'COUNT_6',\n",
       " 'CallsWeekDay_IN_12',\n",
       " 'TimeWeekDay_IN_10',\n",
       " 'TimeWeekDay_OUT_10',\n",
       " 'TimeWeekDay_IN_VUL_08',\n",
       " 'COUNT_8']"
      ]
     },
     "execution_count": 119,
     "metadata": {},
     "output_type": "execute_result"
    }
   ],
   "source": [
    "list(best_feat['name'].head(30))\n",
    "#print_rows(num_rows= 30)"
   ]
  },
  {
   "cell_type": "code",
   "execution_count": 120,
   "metadata": {},
   "outputs": [
    {
     "data": {
      "text/plain": [
       "118.09162"
      ]
     },
     "execution_count": 120,
     "metadata": {},
     "output_type": "execute_result"
    }
   ],
   "source": [
    "best_model.training_time"
   ]
  },
  {
   "cell_type": "code",
   "execution_count": 121,
   "metadata": {
    "scrolled": true
   },
   "outputs": [
    {
     "data": {
      "text/plain": [
       "{'accuracy': 0.8896624070188823,\n",
       " 'auc': 0.8810393712641603,\n",
       " 'confusion_matrix': Columns:\n",
       " \ttarget_label\tint\n",
       " \tpredicted_label\tint\n",
       " \tcount\tint\n",
       " \n",
       " Rows: 4\n",
       " \n",
       " Data:\n",
       " +--------------+-----------------+-------+\n",
       " | target_label | predicted_label | count |\n",
       " +--------------+-----------------+-------+\n",
       " |      0       |        1        |  258  |\n",
       " |      1       |        0        |  899  |\n",
       " |      1       |        1        |  1139 |\n",
       " |      0       |        0        |  8190 |\n",
       " +--------------+-----------------+-------+\n",
       " [4 rows x 3 columns],\n",
       " 'f1_score': 0.6631732168850072,\n",
       " 'log_loss': 0.337038657437402,\n",
       " 'precision': 0.8153185397279885,\n",
       " 'recall': 0.5588812561334642,\n",
       " 'roc_curve': Columns:\n",
       " \tthreshold\tfloat\n",
       " \tfpr\tfloat\n",
       " \ttpr\tfloat\n",
       " \tp\tint\n",
       " \tn\tint\n",
       " \n",
       " Rows: 100001\n",
       " \n",
       " Data:\n",
       " +-----------+-----+-----+------+------+\n",
       " | threshold | fpr | tpr |  p   |  n   |\n",
       " +-----------+-----+-----+------+------+\n",
       " |    0.0    | 1.0 | 1.0 | 2038 | 8448 |\n",
       " |   1e-05   | 1.0 | 1.0 | 2038 | 8448 |\n",
       " |   2e-05   | 1.0 | 1.0 | 2038 | 8448 |\n",
       " |   3e-05   | 1.0 | 1.0 | 2038 | 8448 |\n",
       " |   4e-05   | 1.0 | 1.0 | 2038 | 8448 |\n",
       " |   5e-05   | 1.0 | 1.0 | 2038 | 8448 |\n",
       " |   6e-05   | 1.0 | 1.0 | 2038 | 8448 |\n",
       " |   7e-05   | 1.0 | 1.0 | 2038 | 8448 |\n",
       " |   8e-05   | 1.0 | 1.0 | 2038 | 8448 |\n",
       " |   9e-05   | 1.0 | 1.0 | 2038 | 8448 |\n",
       " +-----------+-----+-----+------+------+\n",
       " [100001 rows x 5 columns]\n",
       " Note: Only the head of the SFrame is printed.\n",
       " You can use print_rows(num_rows=m, num_columns=n) to print more rows and columns.}"
      ]
     },
     "execution_count": 121,
     "metadata": {},
     "output_type": "execute_result"
    }
   ],
   "source": [
    "test_error = best_model.evaluate(X_val_gl)\n",
    "\n",
    "test_error"
   ]
  },
  {
   "cell_type": "code",
   "execution_count": 122,
   "metadata": {},
   "outputs": [
    {
     "data": {
      "text/plain": [
       "<bound method RandomForestClassifier.get_current_options of Class                          : RandomForestClassifier\n",
       "\n",
       "Schema\n",
       "------\n",
       "Number of examples             : 95180\n",
       "Number of feature columns      : 176\n",
       "Number of unpacked features    : 176\n",
       "Number of classes              : 2\n",
       "\n",
       "Settings\n",
       "--------\n",
       "Number of trees                : 200\n",
       "Max tree depth                 : 12\n",
       "Training time (sec)            : 118.0916\n",
       "Training auc                   : 0.9122\n",
       "Validation auc                 : 0.881\n",
       ">"
      ]
     },
     "execution_count": 122,
     "metadata": {},
     "output_type": "execute_result"
    }
   ],
   "source": [
    "best_model.get_current_options"
   ]
  },
  {
   "cell_type": "code",
   "execution_count": null,
   "metadata": {
    "collapsed": true
   },
   "outputs": [],
   "source": []
  },
  {
   "cell_type": "markdown",
   "metadata": {},
   "source": [
    "# Boosted Classifier\n",
    "### HyperParams search"
   ]
  },
  {
   "cell_type": "code",
   "execution_count": 72,
   "metadata": {
    "collapsed": true
   },
   "outputs": [],
   "source": [
    "# Boosted Trees HyperParams\n",
    "\n",
    "# target_col = 'Y'\n",
    "\n",
    "params = {\n",
    "    'target': target_col, ## the target column string name \n",
    "    'max_iterations': [\n",
    "                      200,\n",
    "                       250,\n",
    "#                        90,\n",
    "#                        120,\n",
    "                    300,\n",
    "                      ], #The maximum number of iterations for boosting. Each iteration == extra tree.\n",
    "    'class_weights': [\n",
    "                      None, \n",
    "#                       'auto',\n",
    "    ], #Weights the examples in the training data according to the given class weights.\n",
    "#     'class_weights': [None],\n",
    "    'max_depth': [\n",
    "#         2,\n",
    "#         3,\n",
    "        4,\n",
    "#         6,\n",
    "        9,\n",
    "        15,\n",
    "        20,\n",
    "    ], #Maximum depth of a tree. Must be at least 1.\n",
    "    'step_size': [\n",
    "        1e-1,\n",
    "        0.5,\n",
    "        1e-2,\n",
    "        1,\n",
    "    ], # Step size (shrinkage) used in update to prevents overfitting\n",
    "    'min_loss_reduction': [\n",
    "#         1e-2,\n",
    "        1,\n",
    "        10,\n",
    "    ], #Minimum loss reduction required to make a further partition/split a node during the tree learning\n",
    "    'min_child_weight': [\n",
    "#         1e-2,\n",
    "        2,\n",
    "        5,\n",
    "        10,\n",
    "    ], # Controls the minimum weight of each leaf node . larger values > less overfitting\n",
    "    'row_subsample': [\n",
    "        0.5,\n",
    "        0.75,\n",
    "    ], #Subsample the ratio of the training set in each iteration of tree construction\n",
    "    \n",
    "    'column_subsample': [\n",
    "#         0.01,\n",
    "        0.1,\n",
    "        0.05,\n",
    "        0.8,\n",
    "                        ], # Subsample the ratio of the columns in each iteration of tree construction\n",
    "    #'metric': ['accuracy', 'auc', 'f1_score','recall','precision'], # Performance metric(s) that are tracked during training     \n",
    "    'metric': ['auc'],\n",
    "    'random_seed' : int(abs(hash('im not joking...'))%1e6) \n",
    "}\n",
    "\n",
    "model_factory = boosted_trees_classifier.create"
   ]
  },
  {
   "cell_type": "markdown",
   "metadata": {},
   "source": [
    "### Choose if we want to use random forest's top features result\n"
   ]
  },
  {
   "cell_type": "code",
   "execution_count": 73,
   "metadata": {
    "collapsed": true,
    "scrolled": true
   },
   "outputs": [],
   "source": [
    "n_cols = 30\n",
    "\n",
    "top_rf_features = False\n",
    "# top_rf_features = None\n",
    "\n",
    "if top_rf_features:\n",
    "    filter_cols = list(best_feat['name'].head(n_cols).to_numpy()) + [target_col]\n",
    "\n",
    "    X_val_gl = X_val_gl[filter_cols]\n",
    "    X_gl = X_gl[filter_cols]\n",
    "    \n",
    "    kfold = cross_validation.KFold(\n",
    "    X_gl,num_folds=num_folds)"
   ]
  },
  {
   "cell_type": "markdown",
   "metadata": {},
   "source": [
    "### Grid Search Boosted "
   ]
  },
  {
   "cell_type": "code",
   "execution_count": 74,
   "metadata": {
    "scrolled": true
   },
   "outputs": [
    {
     "name": "stderr",
     "output_type": "stream",
     "text": [
      "[INFO] graphlab.deploy.job: Validating job.\n",
      "[INFO] graphlab.deploy.map_job: Validation complete. Job: 'Model-Parameter-Search-May-28-2017-05-23-0800000' ready for execution\n",
      "[INFO] graphlab.deploy.map_job: Job: 'Model-Parameter-Search-May-28-2017-05-23-0800000' scheduled.\n",
      "[INFO] graphlab.deploy.job: Validating job.\n",
      "[INFO] graphlab.deploy.map_job: A job with name 'Model-Parameter-Search-May-28-2017-05-23-0800000' already exists. Renaming the job to 'Model-Parameter-Search-May-28-2017-05-23-0800000-804e5'.\n",
      "[INFO] graphlab.deploy.map_job: Validation complete. Job: 'Model-Parameter-Search-May-28-2017-05-23-0800000-804e5' ready for execution\n",
      "[INFO] graphlab.deploy.map_job: Job: 'Model-Parameter-Search-May-28-2017-05-23-0800000-804e5' scheduled.\n",
      "[INFO] graphlab.deploy.job: Validating job.\n",
      "[INFO] graphlab.deploy.map_job: Validation complete. Job: 'Model-Parameter-Search-May-28-2017-05-23-0800001' ready for execution\n",
      "[INFO] graphlab.deploy.map_job: Job: 'Model-Parameter-Search-May-28-2017-05-23-0800001' scheduled.\n",
      "[INFO] graphlab.deploy.job: Validating job.\n",
      "[INFO] graphlab.deploy.map_job: Validation complete. Job: 'Model-Parameter-Search-May-28-2017-05-23-0800002' ready for execution\n",
      "[INFO] graphlab.deploy.map_job: Job: 'Model-Parameter-Search-May-28-2017-05-23-0800002' scheduled.\n"
     ]
    },
    {
     "name": "stdout",
     "output_type": "stream",
     "text": [
      "CPU times: user 41.5 s, sys: 9.14 s, total: 50.6 s\n",
      "Wall time: 19min 32s\n"
     ]
    }
   ],
   "source": [
    "%%time\n",
    "start_time = time.time()\n",
    "model_search = model_parameter_search.create( datasets = kfold, \n",
    "                                             #[data, val_set],\n",
    "                                             model_factory = model_factory,\n",
    "                                    model_parameters = params, \n",
    "                                    perform_trial_run = True  )\n",
    "\n",
    "search_results = model_search.get_results()\n",
    "\n",
    "all_time = time.time() - start_time "
   ]
  },
  {
   "cell_type": "code",
   "execution_count": 75,
   "metadata": {},
   "outputs": [
    {
     "data": {
      "text/plain": [
       "(0, 19.53582328557968)"
      ]
     },
     "execution_count": 75,
     "metadata": {},
     "output_type": "execute_result"
    }
   ],
   "source": [
    "# convert duration in seconds to hours and minutes\n",
    "int(abs(all_time)/3600) ,(abs(all_time)/3600 %1)*60"
   ]
  },
  {
   "cell_type": "code",
   "execution_count": 76,
   "metadata": {
    "scrolled": true
   },
   "outputs": [
    {
     "data": {
      "text/html": [
       "<div style=\"max-height:1000px;max-width:1500px;overflow:auto;\"><table frame=\"box\" rules=\"cols\">\n",
       "    <tr>\n",
       "        <th style=\"padding-left: 1em; padding-right: 1em; text-align: center\">task_name</th>\n",
       "        <th style=\"padding-left: 1em; padding-right: 1em; text-align: center\">status</th>\n",
       "        <th style=\"padding-left: 1em; padding-right: 1em; text-align: center\">start_time</th>\n",
       "        <th style=\"padding-left: 1em; padding-right: 1em; text-align: center\">run_time</th>\n",
       "        <th style=\"padding-left: 1em; padding-right: 1em; text-align: center\">exception</th>\n",
       "        <th style=\"padding-left: 1em; padding-right: 1em; text-align: center\">exception_message</th>\n",
       "        <th style=\"padding-left: 1em; padding-right: 1em; text-align: center\">exception_traceback</th>\n",
       "    </tr>\n",
       "    <tr>\n",
       "        <td style=\"padding-left: 1em; padding-right: 1em; text-align: center; vertical-align: top\">_train_test_model-0-0</td>\n",
       "        <td style=\"padding-left: 1em; padding-right: 1em; text-align: center; vertical-align: top\">Completed</td>\n",
       "        <td style=\"padding-left: 1em; padding-right: 1em; text-align: center; vertical-align: top\">2017-05-28 05:24:26</td>\n",
       "        <td style=\"padding-left: 1em; padding-right: 1em; text-align: center; vertical-align: top\">84.0898089409</td>\n",
       "        <td style=\"padding-left: 1em; padding-right: 1em; text-align: center; vertical-align: top\">None</td>\n",
       "        <td style=\"padding-left: 1em; padding-right: 1em; text-align: center; vertical-align: top\">None</td>\n",
       "        <td style=\"padding-left: 1em; padding-right: 1em; text-align: center; vertical-align: top\">None</td>\n",
       "    </tr>\n",
       "    <tr>\n",
       "        <td style=\"padding-left: 1em; padding-right: 1em; text-align: center; vertical-align: top\">_train_test_model-0-1</td>\n",
       "        <td style=\"padding-left: 1em; padding-right: 1em; text-align: center; vertical-align: top\">Completed</td>\n",
       "        <td style=\"padding-left: 1em; padding-right: 1em; text-align: center; vertical-align: top\">2017-05-28 05:25:50</td>\n",
       "        <td style=\"padding-left: 1em; padding-right: 1em; text-align: center; vertical-align: top\">86.6875948906</td>\n",
       "        <td style=\"padding-left: 1em; padding-right: 1em; text-align: center; vertical-align: top\">None</td>\n",
       "        <td style=\"padding-left: 1em; padding-right: 1em; text-align: center; vertical-align: top\">None</td>\n",
       "        <td style=\"padding-left: 1em; padding-right: 1em; text-align: center; vertical-align: top\">None</td>\n",
       "    </tr>\n",
       "    <tr>\n",
       "        <td style=\"padding-left: 1em; padding-right: 1em; text-align: center; vertical-align: top\">_train_test_model-0-2</td>\n",
       "        <td style=\"padding-left: 1em; padding-right: 1em; text-align: center; vertical-align: top\">Completed</td>\n",
       "        <td style=\"padding-left: 1em; padding-right: 1em; text-align: center; vertical-align: top\">2017-05-28 05:27:17</td>\n",
       "        <td style=\"padding-left: 1em; padding-right: 1em; text-align: center; vertical-align: top\">59.9590389729</td>\n",
       "        <td style=\"padding-left: 1em; padding-right: 1em; text-align: center; vertical-align: top\">None</td>\n",
       "        <td style=\"padding-left: 1em; padding-right: 1em; text-align: center; vertical-align: top\">None</td>\n",
       "        <td style=\"padding-left: 1em; padding-right: 1em; text-align: center; vertical-align: top\">None</td>\n",
       "    </tr>\n",
       "    <tr>\n",
       "        <td style=\"padding-left: 1em; padding-right: 1em; text-align: center; vertical-align: top\">_train_test_model-0-3</td>\n",
       "        <td style=\"padding-left: 1em; padding-right: 1em; text-align: center; vertical-align: top\">Completed</td>\n",
       "        <td style=\"padding-left: 1em; padding-right: 1em; text-align: center; vertical-align: top\">2017-05-28 05:28:17</td>\n",
       "        <td style=\"padding-left: 1em; padding-right: 1em; text-align: center; vertical-align: top\">94.800579071</td>\n",
       "        <td style=\"padding-left: 1em; padding-right: 1em; text-align: center; vertical-align: top\">None</td>\n",
       "        <td style=\"padding-left: 1em; padding-right: 1em; text-align: center; vertical-align: top\">None</td>\n",
       "        <td style=\"padding-left: 1em; padding-right: 1em; text-align: center; vertical-align: top\">None</td>\n",
       "    </tr>\n",
       "    <tr>\n",
       "        <td style=\"padding-left: 1em; padding-right: 1em; text-align: center; vertical-align: top\">_train_test_model-0-4</td>\n",
       "        <td style=\"padding-left: 1em; padding-right: 1em; text-align: center; vertical-align: top\">Completed</td>\n",
       "        <td style=\"padding-left: 1em; padding-right: 1em; text-align: center; vertical-align: top\">2017-05-28 05:29:52</td>\n",
       "        <td style=\"padding-left: 1em; padding-right: 1em; text-align: center; vertical-align: top\">138.167016983</td>\n",
       "        <td style=\"padding-left: 1em; padding-right: 1em; text-align: center; vertical-align: top\">None</td>\n",
       "        <td style=\"padding-left: 1em; padding-right: 1em; text-align: center; vertical-align: top\">None</td>\n",
       "        <td style=\"padding-left: 1em; padding-right: 1em; text-align: center; vertical-align: top\">None</td>\n",
       "    </tr>\n",
       "    <tr>\n",
       "        <td style=\"padding-left: 1em; padding-right: 1em; text-align: center; vertical-align: top\">_train_test_model-0-5</td>\n",
       "        <td style=\"padding-left: 1em; padding-right: 1em; text-align: center; vertical-align: top\">Completed</td>\n",
       "        <td style=\"padding-left: 1em; padding-right: 1em; text-align: center; vertical-align: top\">2017-05-28 05:32:10</td>\n",
       "        <td style=\"padding-left: 1em; padding-right: 1em; text-align: center; vertical-align: top\">89.2651269436</td>\n",
       "        <td style=\"padding-left: 1em; padding-right: 1em; text-align: center; vertical-align: top\">None</td>\n",
       "        <td style=\"padding-left: 1em; padding-right: 1em; text-align: center; vertical-align: top\">None</td>\n",
       "        <td style=\"padding-left: 1em; padding-right: 1em; text-align: center; vertical-align: top\">None</td>\n",
       "    </tr>\n",
       "    <tr>\n",
       "        <td style=\"padding-left: 1em; padding-right: 1em; text-align: center; vertical-align: top\">_train_test_model-0-6</td>\n",
       "        <td style=\"padding-left: 1em; padding-right: 1em; text-align: center; vertical-align: top\">Completed</td>\n",
       "        <td style=\"padding-left: 1em; padding-right: 1em; text-align: center; vertical-align: top\">2017-05-28 05:33:40</td>\n",
       "        <td style=\"padding-left: 1em; padding-right: 1em; text-align: center; vertical-align: top\">101.135102987</td>\n",
       "        <td style=\"padding-left: 1em; padding-right: 1em; text-align: center; vertical-align: top\">None</td>\n",
       "        <td style=\"padding-left: 1em; padding-right: 1em; text-align: center; vertical-align: top\">None</td>\n",
       "        <td style=\"padding-left: 1em; padding-right: 1em; text-align: center; vertical-align: top\">None</td>\n",
       "    </tr>\n",
       "    <tr>\n",
       "        <td style=\"padding-left: 1em; padding-right: 1em; text-align: center; vertical-align: top\">_train_test_model-0-7</td>\n",
       "        <td style=\"padding-left: 1em; padding-right: 1em; text-align: center; vertical-align: top\">Completed</td>\n",
       "        <td style=\"padding-left: 1em; padding-right: 1em; text-align: center; vertical-align: top\">2017-05-28 05:35:21</td>\n",
       "        <td style=\"padding-left: 1em; padding-right: 1em; text-align: center; vertical-align: top\">48.8374538422</td>\n",
       "        <td style=\"padding-left: 1em; padding-right: 1em; text-align: center; vertical-align: top\">None</td>\n",
       "        <td style=\"padding-left: 1em; padding-right: 1em; text-align: center; vertical-align: top\">None</td>\n",
       "        <td style=\"padding-left: 1em; padding-right: 1em; text-align: center; vertical-align: top\">None</td>\n",
       "    </tr>\n",
       "    <tr>\n",
       "        <td style=\"padding-left: 1em; padding-right: 1em; text-align: center; vertical-align: top\">_train_test_model-0-8</td>\n",
       "        <td style=\"padding-left: 1em; padding-right: 1em; text-align: center; vertical-align: top\">Completed</td>\n",
       "        <td style=\"padding-left: 1em; padding-right: 1em; text-align: center; vertical-align: top\">2017-05-28 05:36:10</td>\n",
       "        <td style=\"padding-left: 1em; padding-right: 1em; text-align: center; vertical-align: top\">62.6350979805</td>\n",
       "        <td style=\"padding-left: 1em; padding-right: 1em; text-align: center; vertical-align: top\">None</td>\n",
       "        <td style=\"padding-left: 1em; padding-right: 1em; text-align: center; vertical-align: top\">None</td>\n",
       "        <td style=\"padding-left: 1em; padding-right: 1em; text-align: center; vertical-align: top\">None</td>\n",
       "    </tr>\n",
       "    <tr>\n",
       "        <td style=\"padding-left: 1em; padding-right: 1em; text-align: center; vertical-align: top\">_train_test_model-0-9</td>\n",
       "        <td style=\"padding-left: 1em; padding-right: 1em; text-align: center; vertical-align: top\">Completed</td>\n",
       "        <td style=\"padding-left: 1em; padding-right: 1em; text-align: center; vertical-align: top\">2017-05-28 05:37:13</td>\n",
       "        <td style=\"padding-left: 1em; padding-right: 1em; text-align: center; vertical-align: top\">44.2389678955</td>\n",
       "        <td style=\"padding-left: 1em; padding-right: 1em; text-align: center; vertical-align: top\">None</td>\n",
       "        <td style=\"padding-left: 1em; padding-right: 1em; text-align: center; vertical-align: top\">None</td>\n",
       "        <td style=\"padding-left: 1em; padding-right: 1em; text-align: center; vertical-align: top\">None</td>\n",
       "    </tr>\n",
       "</table>\n",
       "<table frame=\"box\" rules=\"cols\">\n",
       "    <tr>\n",
       "        <th style=\"padding-left: 1em; padding-right: 1em; text-align: center\">job_name</th>\n",
       "    </tr>\n",
       "    <tr>\n",
       "        <td style=\"padding-left: 1em; padding-right: 1em; text-align: center; vertical-align: top\">Model-Parameter-Search-Ma<br>y-28-2017-05-23-08000 ...</td>\n",
       "    </tr>\n",
       "    <tr>\n",
       "        <td style=\"padding-left: 1em; padding-right: 1em; text-align: center; vertical-align: top\">Model-Parameter-Search-Ma<br>y-28-2017-05-23-08000 ...</td>\n",
       "    </tr>\n",
       "    <tr>\n",
       "        <td style=\"padding-left: 1em; padding-right: 1em; text-align: center; vertical-align: top\">Model-Parameter-Search-Ma<br>y-28-2017-05-23-08000 ...</td>\n",
       "    </tr>\n",
       "    <tr>\n",
       "        <td style=\"padding-left: 1em; padding-right: 1em; text-align: center; vertical-align: top\">Model-Parameter-Search-Ma<br>y-28-2017-05-23-08000 ...</td>\n",
       "    </tr>\n",
       "    <tr>\n",
       "        <td style=\"padding-left: 1em; padding-right: 1em; text-align: center; vertical-align: top\">Model-Parameter-Search-Ma<br>y-28-2017-05-23-08000 ...</td>\n",
       "    </tr>\n",
       "    <tr>\n",
       "        <td style=\"padding-left: 1em; padding-right: 1em; text-align: center; vertical-align: top\">Model-Parameter-Search-Ma<br>y-28-2017-05-23-08000 ...</td>\n",
       "    </tr>\n",
       "    <tr>\n",
       "        <td style=\"padding-left: 1em; padding-right: 1em; text-align: center; vertical-align: top\">Model-Parameter-Search-Ma<br>y-28-2017-05-23-08000 ...</td>\n",
       "    </tr>\n",
       "    <tr>\n",
       "        <td style=\"padding-left: 1em; padding-right: 1em; text-align: center; vertical-align: top\">Model-Parameter-Search-Ma<br>y-28-2017-05-23-08000 ...</td>\n",
       "    </tr>\n",
       "    <tr>\n",
       "        <td style=\"padding-left: 1em; padding-right: 1em; text-align: center; vertical-align: top\">Model-Parameter-Search-Ma<br>y-28-2017-05-23-08000 ...</td>\n",
       "    </tr>\n",
       "    <tr>\n",
       "        <td style=\"padding-left: 1em; padding-right: 1em; text-align: center; vertical-align: top\">Model-Parameter-Search-Ma<br>y-28-2017-05-23-08000 ...</td>\n",
       "    </tr>\n",
       "</table>\n",
       "[35 rows x 8 columns]<br/>Note: Only the head of the SFrame is printed.<br/>You can use print_rows(num_rows=m, num_columns=n) to print more rows and columns.\n",
       "</div>"
      ],
      "text/plain": [
       "Columns:\n",
       "\ttask_name\tstr\n",
       "\tstatus\tstr\n",
       "\tstart_time\tstr\n",
       "\trun_time\tfloat\n",
       "\texception\tfloat\n",
       "\texception_message\tfloat\n",
       "\texception_traceback\tfloat\n",
       "\tjob_name\tstr\n",
       "\n",
       "Rows: 35\n",
       "\n",
       "Data:\n",
       "+-----------------------+-----------+---------------------+---------------+-----------+\n",
       "|       task_name       |   status  |      start_time     |    run_time   | exception |\n",
       "+-----------------------+-----------+---------------------+---------------+-----------+\n",
       "| _train_test_model-0-0 | Completed | 2017-05-28 05:24:26 | 84.0898089409 |    None   |\n",
       "| _train_test_model-0-1 | Completed | 2017-05-28 05:25:50 | 86.6875948906 |    None   |\n",
       "| _train_test_model-0-2 | Completed | 2017-05-28 05:27:17 | 59.9590389729 |    None   |\n",
       "| _train_test_model-0-3 | Completed | 2017-05-28 05:28:17 |  94.800579071 |    None   |\n",
       "| _train_test_model-0-4 | Completed | 2017-05-28 05:29:52 | 138.167016983 |    None   |\n",
       "| _train_test_model-0-5 | Completed | 2017-05-28 05:32:10 | 89.2651269436 |    None   |\n",
       "| _train_test_model-0-6 | Completed | 2017-05-28 05:33:40 | 101.135102987 |    None   |\n",
       "| _train_test_model-0-7 | Completed | 2017-05-28 05:35:21 | 48.8374538422 |    None   |\n",
       "| _train_test_model-0-8 | Completed | 2017-05-28 05:36:10 | 62.6350979805 |    None   |\n",
       "| _train_test_model-0-9 | Completed | 2017-05-28 05:37:13 | 44.2389678955 |    None   |\n",
       "+-----------------------+-----------+---------------------+---------------+-----------+\n",
       "+-------------------+---------------------+-------------------------------+\n",
       "| exception_message | exception_traceback |            job_name           |\n",
       "+-------------------+---------------------+-------------------------------+\n",
       "|        None       |         None        | Model-Parameter-Search-May... |\n",
       "|        None       |         None        | Model-Parameter-Search-May... |\n",
       "|        None       |         None        | Model-Parameter-Search-May... |\n",
       "|        None       |         None        | Model-Parameter-Search-May... |\n",
       "|        None       |         None        | Model-Parameter-Search-May... |\n",
       "|        None       |         None        | Model-Parameter-Search-May... |\n",
       "|        None       |         None        | Model-Parameter-Search-May... |\n",
       "|        None       |         None        | Model-Parameter-Search-May... |\n",
       "|        None       |         None        | Model-Parameter-Search-May... |\n",
       "|        None       |         None        | Model-Parameter-Search-May... |\n",
       "+-------------------+---------------------+-------------------------------+\n",
       "[35 rows x 8 columns]\n",
       "Note: Only the head of the SFrame is printed.\n",
       "You can use print_rows(num_rows=m, num_columns=n) to print more rows and columns."
      ]
     },
     "execution_count": 76,
     "metadata": {},
     "output_type": "execute_result"
    }
   ],
   "source": [
    "res = model_search.get_metrics()\n",
    "res"
   ]
  },
  {
   "cell_type": "code",
   "execution_count": 77,
   "metadata": {
    "collapsed": true
   },
   "outputs": [],
   "source": [
    "# res['exception_message']"
   ]
  },
  {
   "cell_type": "code",
   "execution_count": 78,
   "metadata": {
    "scrolled": true
   },
   "outputs": [
    {
     "data": {
      "text/html": [
       "<div style=\"max-height:1000px;max-width:1500px;overflow:auto;\"><table frame=\"box\" rules=\"cols\">\n",
       "    <tr>\n",
       "        <th style=\"padding-left: 1em; padding-right: 1em; text-align: center\">task_name</th>\n",
       "        <th style=\"padding-left: 1em; padding-right: 1em; text-align: center\">status</th>\n",
       "        <th style=\"padding-left: 1em; padding-right: 1em; text-align: center\">start_time</th>\n",
       "        <th style=\"padding-left: 1em; padding-right: 1em; text-align: center\">run_time</th>\n",
       "        <th style=\"padding-left: 1em; padding-right: 1em; text-align: center\">exception</th>\n",
       "        <th style=\"padding-left: 1em; padding-right: 1em; text-align: center\">exception_message</th>\n",
       "        <th style=\"padding-left: 1em; padding-right: 1em; text-align: center\">exception_traceback</th>\n",
       "    </tr>\n",
       "    <tr>\n",
       "        <td style=\"padding-left: 1em; padding-right: 1em; text-align: center; vertical-align: top\">_train_test_model-0-0</td>\n",
       "        <td style=\"padding-left: 1em; padding-right: 1em; text-align: center; vertical-align: top\">Completed</td>\n",
       "        <td style=\"padding-left: 1em; padding-right: 1em; text-align: center; vertical-align: top\">2017-05-28 05:24:26</td>\n",
       "        <td style=\"padding-left: 1em; padding-right: 1em; text-align: center; vertical-align: top\">84.0898089409</td>\n",
       "        <td style=\"padding-left: 1em; padding-right: 1em; text-align: center; vertical-align: top\">None</td>\n",
       "        <td style=\"padding-left: 1em; padding-right: 1em; text-align: center; vertical-align: top\">None</td>\n",
       "        <td style=\"padding-left: 1em; padding-right: 1em; text-align: center; vertical-align: top\">None</td>\n",
       "    </tr>\n",
       "    <tr>\n",
       "        <td style=\"padding-left: 1em; padding-right: 1em; text-align: center; vertical-align: top\">_train_test_model-0-1</td>\n",
       "        <td style=\"padding-left: 1em; padding-right: 1em; text-align: center; vertical-align: top\">Completed</td>\n",
       "        <td style=\"padding-left: 1em; padding-right: 1em; text-align: center; vertical-align: top\">2017-05-28 05:25:50</td>\n",
       "        <td style=\"padding-left: 1em; padding-right: 1em; text-align: center; vertical-align: top\">86.6875948906</td>\n",
       "        <td style=\"padding-left: 1em; padding-right: 1em; text-align: center; vertical-align: top\">None</td>\n",
       "        <td style=\"padding-left: 1em; padding-right: 1em; text-align: center; vertical-align: top\">None</td>\n",
       "        <td style=\"padding-left: 1em; padding-right: 1em; text-align: center; vertical-align: top\">None</td>\n",
       "    </tr>\n",
       "    <tr>\n",
       "        <td style=\"padding-left: 1em; padding-right: 1em; text-align: center; vertical-align: top\">_train_test_model-0-2</td>\n",
       "        <td style=\"padding-left: 1em; padding-right: 1em; text-align: center; vertical-align: top\">Completed</td>\n",
       "        <td style=\"padding-left: 1em; padding-right: 1em; text-align: center; vertical-align: top\">2017-05-28 05:27:17</td>\n",
       "        <td style=\"padding-left: 1em; padding-right: 1em; text-align: center; vertical-align: top\">59.9590389729</td>\n",
       "        <td style=\"padding-left: 1em; padding-right: 1em; text-align: center; vertical-align: top\">None</td>\n",
       "        <td style=\"padding-left: 1em; padding-right: 1em; text-align: center; vertical-align: top\">None</td>\n",
       "        <td style=\"padding-left: 1em; padding-right: 1em; text-align: center; vertical-align: top\">None</td>\n",
       "    </tr>\n",
       "    <tr>\n",
       "        <td style=\"padding-left: 1em; padding-right: 1em; text-align: center; vertical-align: top\">_train_test_model-0-3</td>\n",
       "        <td style=\"padding-left: 1em; padding-right: 1em; text-align: center; vertical-align: top\">Completed</td>\n",
       "        <td style=\"padding-left: 1em; padding-right: 1em; text-align: center; vertical-align: top\">2017-05-28 05:28:17</td>\n",
       "        <td style=\"padding-left: 1em; padding-right: 1em; text-align: center; vertical-align: top\">94.800579071</td>\n",
       "        <td style=\"padding-left: 1em; padding-right: 1em; text-align: center; vertical-align: top\">None</td>\n",
       "        <td style=\"padding-left: 1em; padding-right: 1em; text-align: center; vertical-align: top\">None</td>\n",
       "        <td style=\"padding-left: 1em; padding-right: 1em; text-align: center; vertical-align: top\">None</td>\n",
       "    </tr>\n",
       "    <tr>\n",
       "        <td style=\"padding-left: 1em; padding-right: 1em; text-align: center; vertical-align: top\">_train_test_model-0-4</td>\n",
       "        <td style=\"padding-left: 1em; padding-right: 1em; text-align: center; vertical-align: top\">Completed</td>\n",
       "        <td style=\"padding-left: 1em; padding-right: 1em; text-align: center; vertical-align: top\">2017-05-28 05:29:52</td>\n",
       "        <td style=\"padding-left: 1em; padding-right: 1em; text-align: center; vertical-align: top\">138.167016983</td>\n",
       "        <td style=\"padding-left: 1em; padding-right: 1em; text-align: center; vertical-align: top\">None</td>\n",
       "        <td style=\"padding-left: 1em; padding-right: 1em; text-align: center; vertical-align: top\">None</td>\n",
       "        <td style=\"padding-left: 1em; padding-right: 1em; text-align: center; vertical-align: top\">None</td>\n",
       "    </tr>\n",
       "    <tr>\n",
       "        <td style=\"padding-left: 1em; padding-right: 1em; text-align: center; vertical-align: top\">_train_test_model-0-5</td>\n",
       "        <td style=\"padding-left: 1em; padding-right: 1em; text-align: center; vertical-align: top\">Completed</td>\n",
       "        <td style=\"padding-left: 1em; padding-right: 1em; text-align: center; vertical-align: top\">2017-05-28 05:32:10</td>\n",
       "        <td style=\"padding-left: 1em; padding-right: 1em; text-align: center; vertical-align: top\">89.2651269436</td>\n",
       "        <td style=\"padding-left: 1em; padding-right: 1em; text-align: center; vertical-align: top\">None</td>\n",
       "        <td style=\"padding-left: 1em; padding-right: 1em; text-align: center; vertical-align: top\">None</td>\n",
       "        <td style=\"padding-left: 1em; padding-right: 1em; text-align: center; vertical-align: top\">None</td>\n",
       "    </tr>\n",
       "    <tr>\n",
       "        <td style=\"padding-left: 1em; padding-right: 1em; text-align: center; vertical-align: top\">_train_test_model-0-6</td>\n",
       "        <td style=\"padding-left: 1em; padding-right: 1em; text-align: center; vertical-align: top\">Completed</td>\n",
       "        <td style=\"padding-left: 1em; padding-right: 1em; text-align: center; vertical-align: top\">2017-05-28 05:33:40</td>\n",
       "        <td style=\"padding-left: 1em; padding-right: 1em; text-align: center; vertical-align: top\">101.135102987</td>\n",
       "        <td style=\"padding-left: 1em; padding-right: 1em; text-align: center; vertical-align: top\">None</td>\n",
       "        <td style=\"padding-left: 1em; padding-right: 1em; text-align: center; vertical-align: top\">None</td>\n",
       "        <td style=\"padding-left: 1em; padding-right: 1em; text-align: center; vertical-align: top\">None</td>\n",
       "    </tr>\n",
       "    <tr>\n",
       "        <td style=\"padding-left: 1em; padding-right: 1em; text-align: center; vertical-align: top\">_train_test_model-0-7</td>\n",
       "        <td style=\"padding-left: 1em; padding-right: 1em; text-align: center; vertical-align: top\">Completed</td>\n",
       "        <td style=\"padding-left: 1em; padding-right: 1em; text-align: center; vertical-align: top\">2017-05-28 05:35:21</td>\n",
       "        <td style=\"padding-left: 1em; padding-right: 1em; text-align: center; vertical-align: top\">48.8374538422</td>\n",
       "        <td style=\"padding-left: 1em; padding-right: 1em; text-align: center; vertical-align: top\">None</td>\n",
       "        <td style=\"padding-left: 1em; padding-right: 1em; text-align: center; vertical-align: top\">None</td>\n",
       "        <td style=\"padding-left: 1em; padding-right: 1em; text-align: center; vertical-align: top\">None</td>\n",
       "    </tr>\n",
       "    <tr>\n",
       "        <td style=\"padding-left: 1em; padding-right: 1em; text-align: center; vertical-align: top\">_train_test_model-0-8</td>\n",
       "        <td style=\"padding-left: 1em; padding-right: 1em; text-align: center; vertical-align: top\">Completed</td>\n",
       "        <td style=\"padding-left: 1em; padding-right: 1em; text-align: center; vertical-align: top\">2017-05-28 05:36:10</td>\n",
       "        <td style=\"padding-left: 1em; padding-right: 1em; text-align: center; vertical-align: top\">62.6350979805</td>\n",
       "        <td style=\"padding-left: 1em; padding-right: 1em; text-align: center; vertical-align: top\">None</td>\n",
       "        <td style=\"padding-left: 1em; padding-right: 1em; text-align: center; vertical-align: top\">None</td>\n",
       "        <td style=\"padding-left: 1em; padding-right: 1em; text-align: center; vertical-align: top\">None</td>\n",
       "    </tr>\n",
       "    <tr>\n",
       "        <td style=\"padding-left: 1em; padding-right: 1em; text-align: center; vertical-align: top\">_train_test_model-0-9</td>\n",
       "        <td style=\"padding-left: 1em; padding-right: 1em; text-align: center; vertical-align: top\">Completed</td>\n",
       "        <td style=\"padding-left: 1em; padding-right: 1em; text-align: center; vertical-align: top\">2017-05-28 05:37:13</td>\n",
       "        <td style=\"padding-left: 1em; padding-right: 1em; text-align: center; vertical-align: top\">44.2389678955</td>\n",
       "        <td style=\"padding-left: 1em; padding-right: 1em; text-align: center; vertical-align: top\">None</td>\n",
       "        <td style=\"padding-left: 1em; padding-right: 1em; text-align: center; vertical-align: top\">None</td>\n",
       "        <td style=\"padding-left: 1em; padding-right: 1em; text-align: center; vertical-align: top\">None</td>\n",
       "    </tr>\n",
       "</table>\n",
       "<table frame=\"box\" rules=\"cols\">\n",
       "    <tr>\n",
       "        <th style=\"padding-left: 1em; padding-right: 1em; text-align: center\">job_name</th>\n",
       "    </tr>\n",
       "    <tr>\n",
       "        <td style=\"padding-left: 1em; padding-right: 1em; text-align: center; vertical-align: top\">Model-Parameter-Search-Ma<br>y-28-2017-05-23-08000 ...</td>\n",
       "    </tr>\n",
       "    <tr>\n",
       "        <td style=\"padding-left: 1em; padding-right: 1em; text-align: center; vertical-align: top\">Model-Parameter-Search-Ma<br>y-28-2017-05-23-08000 ...</td>\n",
       "    </tr>\n",
       "    <tr>\n",
       "        <td style=\"padding-left: 1em; padding-right: 1em; text-align: center; vertical-align: top\">Model-Parameter-Search-Ma<br>y-28-2017-05-23-08000 ...</td>\n",
       "    </tr>\n",
       "    <tr>\n",
       "        <td style=\"padding-left: 1em; padding-right: 1em; text-align: center; vertical-align: top\">Model-Parameter-Search-Ma<br>y-28-2017-05-23-08000 ...</td>\n",
       "    </tr>\n",
       "    <tr>\n",
       "        <td style=\"padding-left: 1em; padding-right: 1em; text-align: center; vertical-align: top\">Model-Parameter-Search-Ma<br>y-28-2017-05-23-08000 ...</td>\n",
       "    </tr>\n",
       "    <tr>\n",
       "        <td style=\"padding-left: 1em; padding-right: 1em; text-align: center; vertical-align: top\">Model-Parameter-Search-Ma<br>y-28-2017-05-23-08000 ...</td>\n",
       "    </tr>\n",
       "    <tr>\n",
       "        <td style=\"padding-left: 1em; padding-right: 1em; text-align: center; vertical-align: top\">Model-Parameter-Search-Ma<br>y-28-2017-05-23-08000 ...</td>\n",
       "    </tr>\n",
       "    <tr>\n",
       "        <td style=\"padding-left: 1em; padding-right: 1em; text-align: center; vertical-align: top\">Model-Parameter-Search-Ma<br>y-28-2017-05-23-08000 ...</td>\n",
       "    </tr>\n",
       "    <tr>\n",
       "        <td style=\"padding-left: 1em; padding-right: 1em; text-align: center; vertical-align: top\">Model-Parameter-Search-Ma<br>y-28-2017-05-23-08000 ...</td>\n",
       "    </tr>\n",
       "    <tr>\n",
       "        <td style=\"padding-left: 1em; padding-right: 1em; text-align: center; vertical-align: top\">Model-Parameter-Search-Ma<br>y-28-2017-05-23-08000 ...</td>\n",
       "    </tr>\n",
       "</table>\n",
       "[35 rows x 8 columns]<br/>Note: Only the head of the SFrame is printed.<br/>You can use print_rows(num_rows=m, num_columns=n) to print more rows and columns.\n",
       "</div>"
      ],
      "text/plain": [
       "Columns:\n",
       "\ttask_name\tstr\n",
       "\tstatus\tstr\n",
       "\tstart_time\tstr\n",
       "\trun_time\tfloat\n",
       "\texception\tfloat\n",
       "\texception_message\tfloat\n",
       "\texception_traceback\tfloat\n",
       "\tjob_name\tstr\n",
       "\n",
       "Rows: 35\n",
       "\n",
       "Data:\n",
       "+-----------------------+-----------+---------------------+---------------+-----------+\n",
       "|       task_name       |   status  |      start_time     |    run_time   | exception |\n",
       "+-----------------------+-----------+---------------------+---------------+-----------+\n",
       "| _train_test_model-0-0 | Completed | 2017-05-28 05:24:26 | 84.0898089409 |    None   |\n",
       "| _train_test_model-0-1 | Completed | 2017-05-28 05:25:50 | 86.6875948906 |    None   |\n",
       "| _train_test_model-0-2 | Completed | 2017-05-28 05:27:17 | 59.9590389729 |    None   |\n",
       "| _train_test_model-0-3 | Completed | 2017-05-28 05:28:17 |  94.800579071 |    None   |\n",
       "| _train_test_model-0-4 | Completed | 2017-05-28 05:29:52 | 138.167016983 |    None   |\n",
       "| _train_test_model-0-5 | Completed | 2017-05-28 05:32:10 | 89.2651269436 |    None   |\n",
       "| _train_test_model-0-6 | Completed | 2017-05-28 05:33:40 | 101.135102987 |    None   |\n",
       "| _train_test_model-0-7 | Completed | 2017-05-28 05:35:21 | 48.8374538422 |    None   |\n",
       "| _train_test_model-0-8 | Completed | 2017-05-28 05:36:10 | 62.6350979805 |    None   |\n",
       "| _train_test_model-0-9 | Completed | 2017-05-28 05:37:13 | 44.2389678955 |    None   |\n",
       "+-----------------------+-----------+---------------------+---------------+-----------+\n",
       "+-------------------+---------------------+-------------------------------+\n",
       "| exception_message | exception_traceback |            job_name           |\n",
       "+-------------------+---------------------+-------------------------------+\n",
       "|        None       |         None        | Model-Parameter-Search-May... |\n",
       "|        None       |         None        | Model-Parameter-Search-May... |\n",
       "|        None       |         None        | Model-Parameter-Search-May... |\n",
       "|        None       |         None        | Model-Parameter-Search-May... |\n",
       "|        None       |         None        | Model-Parameter-Search-May... |\n",
       "|        None       |         None        | Model-Parameter-Search-May... |\n",
       "|        None       |         None        | Model-Parameter-Search-May... |\n",
       "|        None       |         None        | Model-Parameter-Search-May... |\n",
       "|        None       |         None        | Model-Parameter-Search-May... |\n",
       "|        None       |         None        | Model-Parameter-Search-May... |\n",
       "+-------------------+---------------------+-------------------------------+\n",
       "[35 rows x 8 columns]\n",
       "Note: Only the head of the SFrame is printed.\n",
       "You can use print_rows(num_rows=m, num_columns=n) to print more rows and columns."
      ]
     },
     "execution_count": 78,
     "metadata": {},
     "output_type": "execute_result"
    }
   ],
   "source": [
    "res"
   ]
  },
  {
   "cell_type": "code",
   "execution_count": 79,
   "metadata": {},
   "outputs": [
    {
     "data": {
      "text/plain": [
       "(10, 17)"
      ]
     },
     "execution_count": 79,
     "metadata": {},
     "output_type": "execute_result"
    }
   ],
   "source": [
    "search_results.shape"
   ]
  },
  {
   "cell_type": "code",
   "execution_count": 80,
   "metadata": {
    "scrolled": true
   },
   "outputs": [
    {
     "data": {
      "text/html": [
       "<div style=\"max-height:1000px;max-width:1500px;overflow:auto;\"><table frame=\"box\" rules=\"cols\">\n",
       "    <tr>\n",
       "        <th style=\"padding-left: 1em; padding-right: 1em; text-align: center\">class_weights</th>\n",
       "        <th style=\"padding-left: 1em; padding-right: 1em; text-align: center\">column_subsample</th>\n",
       "        <th style=\"padding-left: 1em; padding-right: 1em; text-align: center\">early_stopping_rounds</th>\n",
       "        <th style=\"padding-left: 1em; padding-right: 1em; text-align: center\">max_depth</th>\n",
       "        <th style=\"padding-left: 1em; padding-right: 1em; text-align: center\">max_iterations</th>\n",
       "        <th style=\"padding-left: 1em; padding-right: 1em; text-align: center\">metric</th>\n",
       "        <th style=\"padding-left: 1em; padding-right: 1em; text-align: center\">min_child_weight</th>\n",
       "        <th style=\"padding-left: 1em; padding-right: 1em; text-align: center\">min_loss_reduction</th>\n",
       "    </tr>\n",
       "    <tr>\n",
       "        <td style=\"padding-left: 1em; padding-right: 1em; text-align: center; vertical-align: top\">None</td>\n",
       "        <td style=\"padding-left: 1em; padding-right: 1em; text-align: center; vertical-align: top\">0.1</td>\n",
       "        <td style=\"padding-left: 1em; padding-right: 1em; text-align: center; vertical-align: top\">5</td>\n",
       "        <td style=\"padding-left: 1em; padding-right: 1em; text-align: center; vertical-align: top\">9</td>\n",
       "        <td style=\"padding-left: 1em; padding-right: 1em; text-align: center; vertical-align: top\">250</td>\n",
       "        <td style=\"padding-left: 1em; padding-right: 1em; text-align: center; vertical-align: top\">auc</td>\n",
       "        <td style=\"padding-left: 1em; padding-right: 1em; text-align: center; vertical-align: top\">2</td>\n",
       "        <td style=\"padding-left: 1em; padding-right: 1em; text-align: center; vertical-align: top\">10</td>\n",
       "    </tr>\n",
       "    <tr>\n",
       "        <td style=\"padding-left: 1em; padding-right: 1em; text-align: center; vertical-align: top\">None</td>\n",
       "        <td style=\"padding-left: 1em; padding-right: 1em; text-align: center; vertical-align: top\">0.8</td>\n",
       "        <td style=\"padding-left: 1em; padding-right: 1em; text-align: center; vertical-align: top\">5</td>\n",
       "        <td style=\"padding-left: 1em; padding-right: 1em; text-align: center; vertical-align: top\">15</td>\n",
       "        <td style=\"padding-left: 1em; padding-right: 1em; text-align: center; vertical-align: top\">200</td>\n",
       "        <td style=\"padding-left: 1em; padding-right: 1em; text-align: center; vertical-align: top\">auc</td>\n",
       "        <td style=\"padding-left: 1em; padding-right: 1em; text-align: center; vertical-align: top\">5</td>\n",
       "        <td style=\"padding-left: 1em; padding-right: 1em; text-align: center; vertical-align: top\">1</td>\n",
       "    </tr>\n",
       "    <tr>\n",
       "        <td style=\"padding-left: 1em; padding-right: 1em; text-align: center; vertical-align: top\">None</td>\n",
       "        <td style=\"padding-left: 1em; padding-right: 1em; text-align: center; vertical-align: top\">0.8</td>\n",
       "        <td style=\"padding-left: 1em; padding-right: 1em; text-align: center; vertical-align: top\">5</td>\n",
       "        <td style=\"padding-left: 1em; padding-right: 1em; text-align: center; vertical-align: top\">15</td>\n",
       "        <td style=\"padding-left: 1em; padding-right: 1em; text-align: center; vertical-align: top\">200</td>\n",
       "        <td style=\"padding-left: 1em; padding-right: 1em; text-align: center; vertical-align: top\">auc</td>\n",
       "        <td style=\"padding-left: 1em; padding-right: 1em; text-align: center; vertical-align: top\">10</td>\n",
       "        <td style=\"padding-left: 1em; padding-right: 1em; text-align: center; vertical-align: top\">10</td>\n",
       "    </tr>\n",
       "    <tr>\n",
       "        <td style=\"padding-left: 1em; padding-right: 1em; text-align: center; vertical-align: top\">None</td>\n",
       "        <td style=\"padding-left: 1em; padding-right: 1em; text-align: center; vertical-align: top\">0.05</td>\n",
       "        <td style=\"padding-left: 1em; padding-right: 1em; text-align: center; vertical-align: top\">5</td>\n",
       "        <td style=\"padding-left: 1em; padding-right: 1em; text-align: center; vertical-align: top\">15</td>\n",
       "        <td style=\"padding-left: 1em; padding-right: 1em; text-align: center; vertical-align: top\">200</td>\n",
       "        <td style=\"padding-left: 1em; padding-right: 1em; text-align: center; vertical-align: top\">auc</td>\n",
       "        <td style=\"padding-left: 1em; padding-right: 1em; text-align: center; vertical-align: top\">5</td>\n",
       "        <td style=\"padding-left: 1em; padding-right: 1em; text-align: center; vertical-align: top\">10</td>\n",
       "    </tr>\n",
       "    <tr>\n",
       "        <td style=\"padding-left: 1em; padding-right: 1em; text-align: center; vertical-align: top\">None</td>\n",
       "        <td style=\"padding-left: 1em; padding-right: 1em; text-align: center; vertical-align: top\">0.05</td>\n",
       "        <td style=\"padding-left: 1em; padding-right: 1em; text-align: center; vertical-align: top\">5</td>\n",
       "        <td style=\"padding-left: 1em; padding-right: 1em; text-align: center; vertical-align: top\">9</td>\n",
       "        <td style=\"padding-left: 1em; padding-right: 1em; text-align: center; vertical-align: top\">200</td>\n",
       "        <td style=\"padding-left: 1em; padding-right: 1em; text-align: center; vertical-align: top\">auc</td>\n",
       "        <td style=\"padding-left: 1em; padding-right: 1em; text-align: center; vertical-align: top\">10</td>\n",
       "        <td style=\"padding-left: 1em; padding-right: 1em; text-align: center; vertical-align: top\">1</td>\n",
       "    </tr>\n",
       "    <tr>\n",
       "        <td style=\"padding-left: 1em; padding-right: 1em; text-align: center; vertical-align: top\">None</td>\n",
       "        <td style=\"padding-left: 1em; padding-right: 1em; text-align: center; vertical-align: top\">0.8</td>\n",
       "        <td style=\"padding-left: 1em; padding-right: 1em; text-align: center; vertical-align: top\">5</td>\n",
       "        <td style=\"padding-left: 1em; padding-right: 1em; text-align: center; vertical-align: top\">9</td>\n",
       "        <td style=\"padding-left: 1em; padding-right: 1em; text-align: center; vertical-align: top\">300</td>\n",
       "        <td style=\"padding-left: 1em; padding-right: 1em; text-align: center; vertical-align: top\">auc</td>\n",
       "        <td style=\"padding-left: 1em; padding-right: 1em; text-align: center; vertical-align: top\">2</td>\n",
       "        <td style=\"padding-left: 1em; padding-right: 1em; text-align: center; vertical-align: top\">10</td>\n",
       "    </tr>\n",
       "    <tr>\n",
       "        <td style=\"padding-left: 1em; padding-right: 1em; text-align: center; vertical-align: top\">None</td>\n",
       "        <td style=\"padding-left: 1em; padding-right: 1em; text-align: center; vertical-align: top\">0.1</td>\n",
       "        <td style=\"padding-left: 1em; padding-right: 1em; text-align: center; vertical-align: top\">5</td>\n",
       "        <td style=\"padding-left: 1em; padding-right: 1em; text-align: center; vertical-align: top\">15</td>\n",
       "        <td style=\"padding-left: 1em; padding-right: 1em; text-align: center; vertical-align: top\">300</td>\n",
       "        <td style=\"padding-left: 1em; padding-right: 1em; text-align: center; vertical-align: top\">auc</td>\n",
       "        <td style=\"padding-left: 1em; padding-right: 1em; text-align: center; vertical-align: top\">2</td>\n",
       "        <td style=\"padding-left: 1em; padding-right: 1em; text-align: center; vertical-align: top\">10</td>\n",
       "    </tr>\n",
       "    <tr>\n",
       "        <td style=\"padding-left: 1em; padding-right: 1em; text-align: center; vertical-align: top\">None</td>\n",
       "        <td style=\"padding-left: 1em; padding-right: 1em; text-align: center; vertical-align: top\">0.8</td>\n",
       "        <td style=\"padding-left: 1em; padding-right: 1em; text-align: center; vertical-align: top\">5</td>\n",
       "        <td style=\"padding-left: 1em; padding-right: 1em; text-align: center; vertical-align: top\">20</td>\n",
       "        <td style=\"padding-left: 1em; padding-right: 1em; text-align: center; vertical-align: top\">250</td>\n",
       "        <td style=\"padding-left: 1em; padding-right: 1em; text-align: center; vertical-align: top\">auc</td>\n",
       "        <td style=\"padding-left: 1em; padding-right: 1em; text-align: center; vertical-align: top\">2</td>\n",
       "        <td style=\"padding-left: 1em; padding-right: 1em; text-align: center; vertical-align: top\">1</td>\n",
       "    </tr>\n",
       "    <tr>\n",
       "        <td style=\"padding-left: 1em; padding-right: 1em; text-align: center; vertical-align: top\">None</td>\n",
       "        <td style=\"padding-left: 1em; padding-right: 1em; text-align: center; vertical-align: top\">0.05</td>\n",
       "        <td style=\"padding-left: 1em; padding-right: 1em; text-align: center; vertical-align: top\">5</td>\n",
       "        <td style=\"padding-left: 1em; padding-right: 1em; text-align: center; vertical-align: top\">9</td>\n",
       "        <td style=\"padding-left: 1em; padding-right: 1em; text-align: center; vertical-align: top\">200</td>\n",
       "        <td style=\"padding-left: 1em; padding-right: 1em; text-align: center; vertical-align: top\">auc</td>\n",
       "        <td style=\"padding-left: 1em; padding-right: 1em; text-align: center; vertical-align: top\">2</td>\n",
       "        <td style=\"padding-left: 1em; padding-right: 1em; text-align: center; vertical-align: top\">10</td>\n",
       "    </tr>\n",
       "    <tr>\n",
       "        <td style=\"padding-left: 1em; padding-right: 1em; text-align: center; vertical-align: top\">None</td>\n",
       "        <td style=\"padding-left: 1em; padding-right: 1em; text-align: center; vertical-align: top\">0.8</td>\n",
       "        <td style=\"padding-left: 1em; padding-right: 1em; text-align: center; vertical-align: top\">5</td>\n",
       "        <td style=\"padding-left: 1em; padding-right: 1em; text-align: center; vertical-align: top\">4</td>\n",
       "        <td style=\"padding-left: 1em; padding-right: 1em; text-align: center; vertical-align: top\">200</td>\n",
       "        <td style=\"padding-left: 1em; padding-right: 1em; text-align: center; vertical-align: top\">auc</td>\n",
       "        <td style=\"padding-left: 1em; padding-right: 1em; text-align: center; vertical-align: top\">10</td>\n",
       "        <td style=\"padding-left: 1em; padding-right: 1em; text-align: center; vertical-align: top\">1</td>\n",
       "    </tr>\n",
       "</table>\n",
       "<table frame=\"box\" rules=\"cols\">\n",
       "    <tr>\n",
       "        <th style=\"padding-left: 1em; padding-right: 1em; text-align: center\">random_seed</th>\n",
       "        <th style=\"padding-left: 1em; padding-right: 1em; text-align: center\">row_subsample</th>\n",
       "        <th style=\"padding-left: 1em; padding-right: 1em; text-align: center\">step_size</th>\n",
       "        <th style=\"padding-left: 1em; padding-right: 1em; text-align: center\">target</th>\n",
       "        <th style=\"padding-left: 1em; padding-right: 1em; text-align: center\">num_folds</th>\n",
       "        <th style=\"padding-left: 1em; padding-right: 1em; text-align: center\">fold_id</th>\n",
       "        <th style=\"padding-left: 1em; padding-right: 1em; text-align: center\">mean_training_accuracy</th>\n",
       "    </tr>\n",
       "    <tr>\n",
       "        <td style=\"padding-left: 1em; padding-right: 1em; text-align: center; vertical-align: top\">415168</td>\n",
       "        <td style=\"padding-left: 1em; padding-right: 1em; text-align: center; vertical-align: top\">0.75</td>\n",
       "        <td style=\"padding-left: 1em; padding-right: 1em; text-align: center; vertical-align: top\">1.0</td>\n",
       "        <td style=\"padding-left: 1em; padding-right: 1em; text-align: center; vertical-align: top\">target</td>\n",
       "        <td style=\"padding-left: 1em; padding-right: 1em; text-align: center; vertical-align: top\">10</td>\n",
       "        <td style=\"padding-left: 1em; padding-right: 1em; text-align: center; vertical-align: top\">[8, 9, 4, 5, 6, 7, 0, 1,<br>2, 3] ...</td>\n",
       "        <td style=\"padding-left: 1em; padding-right: 1em; text-align: center; vertical-align: top\">0.888214143961</td>\n",
       "    </tr>\n",
       "    <tr>\n",
       "        <td style=\"padding-left: 1em; padding-right: 1em; text-align: center; vertical-align: top\">415168</td>\n",
       "        <td style=\"padding-left: 1em; padding-right: 1em; text-align: center; vertical-align: top\">0.75</td>\n",
       "        <td style=\"padding-left: 1em; padding-right: 1em; text-align: center; vertical-align: top\">0.5</td>\n",
       "        <td style=\"padding-left: 1em; padding-right: 1em; text-align: center; vertical-align: top\">target</td>\n",
       "        <td style=\"padding-left: 1em; padding-right: 1em; text-align: center; vertical-align: top\">10</td>\n",
       "        <td style=\"padding-left: 1em; padding-right: 1em; text-align: center; vertical-align: top\">[9, 8, 1, 0, 3, 2, 5, 4,<br>7, 6] ...</td>\n",
       "        <td style=\"padding-left: 1em; padding-right: 1em; text-align: center; vertical-align: top\">0.916128505055</td>\n",
       "    </tr>\n",
       "    <tr>\n",
       "        <td style=\"padding-left: 1em; padding-right: 1em; text-align: center; vertical-align: top\">415168</td>\n",
       "        <td style=\"padding-left: 1em; padding-right: 1em; text-align: center; vertical-align: top\">0.5</td>\n",
       "        <td style=\"padding-left: 1em; padding-right: 1em; text-align: center; vertical-align: top\">1.0</td>\n",
       "        <td style=\"padding-left: 1em; padding-right: 1em; text-align: center; vertical-align: top\">target</td>\n",
       "        <td style=\"padding-left: 1em; padding-right: 1em; text-align: center; vertical-align: top\">10</td>\n",
       "        <td style=\"padding-left: 1em; padding-right: 1em; text-align: center; vertical-align: top\">[1, 8, 9, 4, 5, 6, 7, 0,<br>3, 2] ...</td>\n",
       "        <td style=\"padding-left: 1em; padding-right: 1em; text-align: center; vertical-align: top\">0.886419882795</td>\n",
       "    </tr>\n",
       "    <tr>\n",
       "        <td style=\"padding-left: 1em; padding-right: 1em; text-align: center; vertical-align: top\">415168</td>\n",
       "        <td style=\"padding-left: 1em; padding-right: 1em; text-align: center; vertical-align: top\">0.75</td>\n",
       "        <td style=\"padding-left: 1em; padding-right: 1em; text-align: center; vertical-align: top\">1.0</td>\n",
       "        <td style=\"padding-left: 1em; padding-right: 1em; text-align: center; vertical-align: top\">target</td>\n",
       "        <td style=\"padding-left: 1em; padding-right: 1em; text-align: center; vertical-align: top\">10</td>\n",
       "        <td style=\"padding-left: 1em; padding-right: 1em; text-align: center; vertical-align: top\">[0, 1, 5, 4, 7, 6, 2, 3,<br>9, 8] ...</td>\n",
       "        <td style=\"padding-left: 1em; padding-right: 1em; text-align: center; vertical-align: top\">0.886152553057</td>\n",
       "    </tr>\n",
       "    <tr>\n",
       "        <td style=\"padding-left: 1em; padding-right: 1em; text-align: center; vertical-align: top\">415168</td>\n",
       "        <td style=\"padding-left: 1em; padding-right: 1em; text-align: center; vertical-align: top\">0.5</td>\n",
       "        <td style=\"padding-left: 1em; padding-right: 1em; text-align: center; vertical-align: top\">0.1</td>\n",
       "        <td style=\"padding-left: 1em; padding-right: 1em; text-align: center; vertical-align: top\">target</td>\n",
       "        <td style=\"padding-left: 1em; padding-right: 1em; text-align: center; vertical-align: top\">10</td>\n",
       "        <td style=\"padding-left: 1em; padding-right: 1em; text-align: center; vertical-align: top\">[1, 0, 3, 2, 5, 4, 7, 6,<br>9, 8] ...</td>\n",
       "        <td style=\"padding-left: 1em; padding-right: 1em; text-align: center; vertical-align: top\">0.874481100138</td>\n",
       "    </tr>\n",
       "    <tr>\n",
       "        <td style=\"padding-left: 1em; padding-right: 1em; text-align: center; vertical-align: top\">415168</td>\n",
       "        <td style=\"padding-left: 1em; padding-right: 1em; text-align: center; vertical-align: top\">0.5</td>\n",
       "        <td style=\"padding-left: 1em; padding-right: 1em; text-align: center; vertical-align: top\">1.0</td>\n",
       "        <td style=\"padding-left: 1em; padding-right: 1em; text-align: center; vertical-align: top\">target</td>\n",
       "        <td style=\"padding-left: 1em; padding-right: 1em; text-align: center; vertical-align: top\">10</td>\n",
       "        <td style=\"padding-left: 1em; padding-right: 1em; text-align: center; vertical-align: top\">[8, 9, 1, 0, 3, 2, 5, 4,<br>7, 6] ...</td>\n",
       "        <td style=\"padding-left: 1em; padding-right: 1em; text-align: center; vertical-align: top\">0.888411430973</td>\n",
       "    </tr>\n",
       "    <tr>\n",
       "        <td style=\"padding-left: 1em; padding-right: 1em; text-align: center; vertical-align: top\">415168</td>\n",
       "        <td style=\"padding-left: 1em; padding-right: 1em; text-align: center; vertical-align: top\">0.5</td>\n",
       "        <td style=\"padding-left: 1em; padding-right: 1em; text-align: center; vertical-align: top\">0.1</td>\n",
       "        <td style=\"padding-left: 1em; padding-right: 1em; text-align: center; vertical-align: top\">target</td>\n",
       "        <td style=\"padding-left: 1em; padding-right: 1em; text-align: center; vertical-align: top\">10</td>\n",
       "        <td style=\"padding-left: 1em; padding-right: 1em; text-align: center; vertical-align: top\">[3, 2, 1, 0, 5, 4, 7, 6,<br>9, 8] ...</td>\n",
       "        <td style=\"padding-left: 1em; padding-right: 1em; text-align: center; vertical-align: top\">0.882219653989</td>\n",
       "    </tr>\n",
       "    <tr>\n",
       "        <td style=\"padding-left: 1em; padding-right: 1em; text-align: center; vertical-align: top\">415168</td>\n",
       "        <td style=\"padding-left: 1em; padding-right: 1em; text-align: center; vertical-align: top\">0.5</td>\n",
       "        <td style=\"padding-left: 1em; padding-right: 1em; text-align: center; vertical-align: top\">0.01</td>\n",
       "        <td style=\"padding-left: 1em; padding-right: 1em; text-align: center; vertical-align: top\">target</td>\n",
       "        <td style=\"padding-left: 1em; padding-right: 1em; text-align: center; vertical-align: top\">10</td>\n",
       "        <td style=\"padding-left: 1em; padding-right: 1em; text-align: center; vertical-align: top\">[8, 1, 0, 3, 2, 5, 4, 7,<br>9, 6] ...</td>\n",
       "        <td style=\"padding-left: 1em; padding-right: 1em; text-align: center; vertical-align: top\">0.91135859541</td>\n",
       "    </tr>\n",
       "    <tr>\n",
       "        <td style=\"padding-left: 1em; padding-right: 1em; text-align: center; vertical-align: top\">415168</td>\n",
       "        <td style=\"padding-left: 1em; padding-right: 1em; text-align: center; vertical-align: top\">0.75</td>\n",
       "        <td style=\"padding-left: 1em; padding-right: 1em; text-align: center; vertical-align: top\">0.01</td>\n",
       "        <td style=\"padding-left: 1em; padding-right: 1em; text-align: center; vertical-align: top\">target</td>\n",
       "        <td style=\"padding-left: 1em; padding-right: 1em; text-align: center; vertical-align: top\">10</td>\n",
       "        <td style=\"padding-left: 1em; padding-right: 1em; text-align: center; vertical-align: top\">[3, 4, 5, 0, 1, 9, 8, 6,<br>7, 2] ...</td>\n",
       "        <td style=\"padding-left: 1em; padding-right: 1em; text-align: center; vertical-align: top\">0.869836100021</td>\n",
       "    </tr>\n",
       "    <tr>\n",
       "        <td style=\"padding-left: 1em; padding-right: 1em; text-align: center; vertical-align: top\">415168</td>\n",
       "        <td style=\"padding-left: 1em; padding-right: 1em; text-align: center; vertical-align: top\">0.5</td>\n",
       "        <td style=\"padding-left: 1em; padding-right: 1em; text-align: center; vertical-align: top\">0.5</td>\n",
       "        <td style=\"padding-left: 1em; padding-right: 1em; text-align: center; vertical-align: top\">target</td>\n",
       "        <td style=\"padding-left: 1em; padding-right: 1em; text-align: center; vertical-align: top\">10</td>\n",
       "        <td style=\"padding-left: 1em; padding-right: 1em; text-align: center; vertical-align: top\">[7, 9, 8, 6, 1, 0, 3, 2,<br>5, 4] ...</td>\n",
       "        <td style=\"padding-left: 1em; padding-right: 1em; text-align: center; vertical-align: top\">0.889262450095</td>\n",
       "    </tr>\n",
       "</table>\n",
       "<table frame=\"box\" rules=\"cols\">\n",
       "    <tr>\n",
       "        <th style=\"padding-left: 1em; padding-right: 1em; text-align: center\">mean_validation_accuracy</th>\n",
       "        <th style=\"padding-left: 1em; padding-right: 1em; text-align: center\">model_id</th>\n",
       "    </tr>\n",
       "    <tr>\n",
       "        <td style=\"padding-left: 1em; padding-right: 1em; text-align: center; vertical-align: top\">0.87504727884</td>\n",
       "        <td style=\"padding-left: 1em; padding-right: 1em; text-align: center; vertical-align: top\">[28, 29, 24, 25, 26, 27,<br>20, 21, 22, 23] ...</td>\n",
       "    </tr>\n",
       "    <tr>\n",
       "        <td style=\"padding-left: 1em; padding-right: 1em; text-align: center; vertical-align: top\">0.878976675772</td>\n",
       "        <td style=\"padding-left: 1em; padding-right: 1em; text-align: center; vertical-align: top\">[19, 18, 11, 10, 13, 12,<br>15, 14, 17, 16] ...</td>\n",
       "    </tr>\n",
       "    <tr>\n",
       "        <td style=\"padding-left: 1em; padding-right: 1em; text-align: center; vertical-align: top\">0.877390208027</td>\n",
       "        <td style=\"padding-left: 1em; padding-right: 1em; text-align: center; vertical-align: top\">[51, 58, 59, 54, 55, 56,<br>57, 50, 53, 52] ...</td>\n",
       "    </tr>\n",
       "    <tr>\n",
       "        <td style=\"padding-left: 1em; padding-right: 1em; text-align: center; vertical-align: top\">0.876392099181</td>\n",
       "        <td style=\"padding-left: 1em; padding-right: 1em; text-align: center; vertical-align: top\">[60, 61, 65, 64, 67, 66,<br>62, 63, 69, 68] ...</td>\n",
       "    </tr>\n",
       "    <tr>\n",
       "        <td style=\"padding-left: 1em; padding-right: 1em; text-align: center; vertical-align: top\">0.870487497373</td>\n",
       "        <td style=\"padding-left: 1em; padding-right: 1em; text-align: center; vertical-align: top\">[31, 30, 33, 32, 35, 34,<br>37, 36, 39, 38] ...</td>\n",
       "    </tr>\n",
       "    <tr>\n",
       "        <td style=\"padding-left: 1em; padding-right: 1em; text-align: center; vertical-align: top\">0.877064509351</td>\n",
       "        <td style=\"padding-left: 1em; padding-right: 1em; text-align: center; vertical-align: top\">[88, 89, 81, 80, 83, 82,<br>85, 84, 87, 86] ...</td>\n",
       "    </tr>\n",
       "    <tr>\n",
       "        <td style=\"padding-left: 1em; padding-right: 1em; text-align: center; vertical-align: top\">0.878041605379</td>\n",
       "        <td style=\"padding-left: 1em; padding-right: 1em; text-align: center; vertical-align: top\">[43, 42, 41, 40, 45, 44,<br>47, 46, 49, 48] ...</td>\n",
       "    </tr>\n",
       "    <tr>\n",
       "        <td style=\"padding-left: 1em; padding-right: 1em; text-align: center; vertical-align: top\">0.883441899559</td>\n",
       "        <td style=\"padding-left: 1em; padding-right: 1em; text-align: center; vertical-align: top\">[8, 1, 0, 3, 2, 5, 4, 7,<br>9, 6] ...</td>\n",
       "    </tr>\n",
       "    <tr>\n",
       "        <td style=\"padding-left: 1em; padding-right: 1em; text-align: center; vertical-align: top\">0.866453036352</td>\n",
       "        <td style=\"padding-left: 1em; padding-right: 1em; text-align: center; vertical-align: top\">[93, 94, 95, 90, 91, 99,<br>98, 96, 97, 92] ...</td>\n",
       "    </tr>\n",
       "    <tr>\n",
       "        <td style=\"padding-left: 1em; padding-right: 1em; text-align: center; vertical-align: top\">0.882086572809</td>\n",
       "        <td style=\"padding-left: 1em; padding-right: 1em; text-align: center; vertical-align: top\">[77, 79, 78, 76, 71, 70,<br>73, 72, 75, 74] ...</td>\n",
       "    </tr>\n",
       "</table>\n",
       "[10 rows x 17 columns]<br/>\n",
       "</div>"
      ],
      "text/plain": [
       "Columns:\n",
       "\tclass_weights\tfloat\n",
       "\tcolumn_subsample\tfloat\n",
       "\tearly_stopping_rounds\tint\n",
       "\tmax_depth\tint\n",
       "\tmax_iterations\tint\n",
       "\tmetric\tstr\n",
       "\tmin_child_weight\tint\n",
       "\tmin_loss_reduction\tint\n",
       "\trandom_seed\tint\n",
       "\trow_subsample\tfloat\n",
       "\tstep_size\tfloat\n",
       "\ttarget\tstr\n",
       "\tnum_folds\tint\n",
       "\tfold_id\tlist\n",
       "\tmean_training_accuracy\tfloat\n",
       "\tmean_validation_accuracy\tfloat\n",
       "\tmodel_id\tlist\n",
       "\n",
       "Rows: 10\n",
       "\n",
       "Data:\n",
       "+---------------+------------------+-----------------------+-----------+----------------+\n",
       "| class_weights | column_subsample | early_stopping_rounds | max_depth | max_iterations |\n",
       "+---------------+------------------+-----------------------+-----------+----------------+\n",
       "|      None     |       0.1        |           5           |     9     |      250       |\n",
       "|      None     |       0.8        |           5           |     15    |      200       |\n",
       "|      None     |       0.8        |           5           |     15    |      200       |\n",
       "|      None     |       0.05       |           5           |     15    |      200       |\n",
       "|      None     |       0.05       |           5           |     9     |      200       |\n",
       "|      None     |       0.8        |           5           |     9     |      300       |\n",
       "|      None     |       0.1        |           5           |     15    |      300       |\n",
       "|      None     |       0.8        |           5           |     20    |      250       |\n",
       "|      None     |       0.05       |           5           |     9     |      200       |\n",
       "|      None     |       0.8        |           5           |     4     |      200       |\n",
       "+---------------+------------------+-----------------------+-----------+----------------+\n",
       "+--------+------------------+--------------------+-------------+---------------+\n",
       "| metric | min_child_weight | min_loss_reduction | random_seed | row_subsample |\n",
       "+--------+------------------+--------------------+-------------+---------------+\n",
       "|  auc   |        2         |         10         |    415168   |      0.75     |\n",
       "|  auc   |        5         |         1          |    415168   |      0.75     |\n",
       "|  auc   |        10        |         10         |    415168   |      0.5      |\n",
       "|  auc   |        5         |         10         |    415168   |      0.75     |\n",
       "|  auc   |        10        |         1          |    415168   |      0.5      |\n",
       "|  auc   |        2         |         10         |    415168   |      0.5      |\n",
       "|  auc   |        2         |         10         |    415168   |      0.5      |\n",
       "|  auc   |        2         |         1          |    415168   |      0.5      |\n",
       "|  auc   |        2         |         10         |    415168   |      0.75     |\n",
       "|  auc   |        10        |         1          |    415168   |      0.5      |\n",
       "+--------+------------------+--------------------+-------------+---------------+\n",
       "+-----------+--------+-----------+--------------------------------+\n",
       "| step_size | target | num_folds |            fold_id             |\n",
       "+-----------+--------+-----------+--------------------------------+\n",
       "|    1.0    | target |     10    | [8, 9, 4, 5, 6, 7, 0, 1, 2, 3] |\n",
       "|    0.5    | target |     10    | [9, 8, 1, 0, 3, 2, 5, 4, 7, 6] |\n",
       "|    1.0    | target |     10    | [1, 8, 9, 4, 5, 6, 7, 0, 3, 2] |\n",
       "|    1.0    | target |     10    | [0, 1, 5, 4, 7, 6, 2, 3, 9, 8] |\n",
       "|    0.1    | target |     10    | [1, 0, 3, 2, 5, 4, 7, 6, 9, 8] |\n",
       "|    1.0    | target |     10    | [8, 9, 1, 0, 3, 2, 5, 4, 7, 6] |\n",
       "|    0.1    | target |     10    | [3, 2, 1, 0, 5, 4, 7, 6, 9, 8] |\n",
       "|    0.01   | target |     10    | [8, 1, 0, 3, 2, 5, 4, 7, 9, 6] |\n",
       "|    0.01   | target |     10    | [3, 4, 5, 0, 1, 9, 8, 6, 7, 2] |\n",
       "|    0.5    | target |     10    | [7, 9, 8, 6, 1, 0, 3, 2, 5, 4] |\n",
       "+-----------+--------+-----------+--------------------------------+\n",
       "+------------------------+--------------------------+\n",
       "| mean_training_accuracy | mean_validation_accuracy |\n",
       "+------------------------+--------------------------+\n",
       "|     0.888214143961     |      0.87504727884       |\n",
       "|     0.916128505055     |      0.878976675772      |\n",
       "|     0.886419882795     |      0.877390208027      |\n",
       "|     0.886152553057     |      0.876392099181      |\n",
       "|     0.874481100138     |      0.870487497373      |\n",
       "|     0.888411430973     |      0.877064509351      |\n",
       "|     0.882219653989     |      0.878041605379      |\n",
       "|     0.91135859541      |      0.883441899559      |\n",
       "|     0.869836100021     |      0.866453036352      |\n",
       "|     0.889262450095     |      0.882086572809      |\n",
       "+------------------------+--------------------------+\n",
       "+--------------------------------+\n",
       "|            model_id            |\n",
       "+--------------------------------+\n",
       "| [28, 29, 24, 25, 26, 27, 2...  |\n",
       "| [19, 18, 11, 10, 13, 12, 1...  |\n",
       "| [51, 58, 59, 54, 55, 56, 5...  |\n",
       "| [60, 61, 65, 64, 67, 66, 6...  |\n",
       "| [31, 30, 33, 32, 35, 34, 3...  |\n",
       "| [88, 89, 81, 80, 83, 82, 8...  |\n",
       "| [43, 42, 41, 40, 45, 44, 4...  |\n",
       "| [8, 1, 0, 3, 2, 5, 4, 7, 9, 6] |\n",
       "| [93, 94, 95, 90, 91, 99, 9...  |\n",
       "| [77, 79, 78, 76, 71, 70, 7...  |\n",
       "+--------------------------------+\n",
       "[10 rows x 17 columns]"
      ]
     },
     "execution_count": 80,
     "metadata": {},
     "output_type": "execute_result"
    }
   ],
   "source": [
    "search_results.head()"
   ]
  },
  {
   "cell_type": "code",
   "execution_count": 81,
   "metadata": {
    "scrolled": true
   },
   "outputs": [
    {
     "name": "stdout",
     "output_type": "stream",
     "text": [
      "+---------------+-----------------+----------------+\n",
      "| class_weights |       std       |      mean      |\n",
      "+---------------+-----------------+----------------+\n",
      "|      None     | 0.0136933187101 | 0.889248441549 |\n",
      "+---------------+-----------------+----------------+\n",
      "[1 rows x 3 columns]\n",
      "\n",
      "+------------------+------------------+----------------+\n",
      "| column_subsample |       std        |      mean      |\n",
      "+------------------+------------------+----------------+\n",
      "|       0.05       | 0.00686395965271 | 0.876823251072 |\n",
      "|       0.8        | 0.0127199016447  | 0.898316172865 |\n",
      "|       0.1        | 0.00299724498611 | 0.885216898975 |\n",
      "+------------------+------------------+----------------+\n",
      "[3 rows x 3 columns]\n",
      "\n",
      "+-----------------------+-----------------+----------------+\n",
      "| early_stopping_rounds |       std       |      mean      |\n",
      "+-----------------------+-----------------+----------------+\n",
      "|           5           | 0.0136933187101 | 0.889248441549 |\n",
      "+-----------------------+-----------------+----------------+\n",
      "[1 rows x 3 columns]\n",
      "\n",
      "+-----------+-----------------+----------------+\n",
      "| max_depth |       std       |      mean      |\n",
      "+-----------+-----------------+----------------+\n",
      "|     15    | 0.0136110047333 | 0.892730148724 |\n",
      "|     20    |       0.0       | 0.91135859541  |\n",
      "|     4     |       0.0       | 0.889262450095 |\n",
      "|     9     |  0.008242651944 | 0.880235693773 |\n",
      "+-----------+-----------------+----------------+\n",
      "[4 rows x 3 columns]\n",
      "\n",
      "+----------------+------------------+----------------+\n",
      "| max_iterations |       std        |      mean      |\n",
      "+----------------+------------------+----------------+\n",
      "|      200       | 0.0147532616947  | 0.887046765193 |\n",
      "|      250       | 0.0115722257244  | 0.899786369686 |\n",
      "|      300       | 0.00309588849198 | 0.885315542481 |\n",
      "+----------------+------------------+----------------+\n",
      "[3 rows x 3 columns]\n",
      "\n",
      "+--------+-----------------+----------------+\n",
      "| metric |       std       |      mean      |\n",
      "+--------+-----------------+----------------+\n",
      "|  auc   | 0.0136933187101 | 0.889248441549 |\n",
      "+--------+-----------------+----------------+\n",
      "[1 rows x 3 columns]\n",
      "\n",
      "+------------------+------------------+----------------+\n",
      "| min_child_weight |       std        |      mean      |\n",
      "+------------------+------------------+----------------+\n",
      "|        2         | 0.0134846465009  | 0.888007984871 |\n",
      "|        10        | 0.00640401806801 | 0.883387811009 |\n",
      "|        5         | 0.0149879759987  | 0.901140529056 |\n",
      "+------------------+------------------+----------------+\n",
      "[3 rows x 3 columns]\n",
      "\n",
      "+--------------------+------------------+----------------+\n",
      "| min_loss_reduction |       std        |      mean      |\n",
      "+--------------------+------------------+----------------+\n",
      "|         10         | 0.00645804119592 | 0.883542294133 |\n",
      "|         1          | 0.0168554903617  | 0.897807662674 |\n",
      "+--------------------+------------------+----------------+\n",
      "[2 rows x 3 columns]\n",
      "\n",
      "+---------------+-----------------+----------------+\n",
      "| row_subsample |       std       |      mean      |\n",
      "+---------------+-----------------+----------------+\n",
      "|      0.5      | 0.0112781657339 | 0.888692185567 |\n",
      "|      0.75     | 0.0166376555459 | 0.890082825524 |\n",
      "+---------------+-----------------+----------------+\n",
      "[2 rows x 3 columns]\n",
      "\n",
      "+-----------+------------------+----------------+\n",
      "| step_size |       std        |      mean      |\n",
      "+-----------+------------------+----------------+\n",
      "|    0.5    | 0.0134330274801  | 0.902695477575 |\n",
      "|    0.01   | 0.0207612476944  | 0.890597347715 |\n",
      "|    0.1    | 0.00386927692559 | 0.878350377063 |\n",
      "|    1.0    | 0.00102007080396 | 0.887299502697 |\n",
      "+-----------+------------------+----------------+\n",
      "[4 rows x 3 columns]\n",
      "\n",
      "+--------+-----------------+----------------+\n",
      "| target |       std       |      mean      |\n",
      "+--------+-----------------+----------------+\n",
      "| target | 0.0136933187101 | 0.889248441549 |\n",
      "+--------+-----------------+----------------+\n",
      "[1 rows x 3 columns]\n",
      "\n"
     ]
    }
   ],
   "source": [
    "for col in [col for col in search_results.column_names() if \\\n",
    "            not('accuracy' in col) and col!= 'model_id' and col!= 'random_seed' and col!= 'fold_id' \\\n",
    "                               and col!= 'num_folds']:\n",
    "    print(search_results.groupby(col,\n",
    "                             {'mean':gl.aggregate.MEAN('mean_training_accuracy'),\n",
    "                                'std':gl.aggregate.STD('mean_training_accuracy')}))"
   ]
  },
  {
   "cell_type": "markdown",
   "metadata": {},
   "source": [
    "## hyperparameter results\n",
    "\n",
    "* class_weights: None, gana por afano\n",
    "* column_subsample : algo menor a 1 pero no queda claro si cuanto menos mejor\n",
    "* row_subsample : algo menor a 1 pero no queda claro si cuanto menos mejor, refinar\n",
    "* max_depth: varia mucho, refinar\n",
    "* max_iterations: tampoco queda claro si poquito o mucho es mejor, reprobar\n",
    "* metric: el f1_score es el unico que no parece variar mucho,los demas cambian demasiado\n",
    "* min_child_weight: varia mucho, reprobar con mas\n",
    "* min_loss_reduction: varia mucho, reprobar\n",
    "* step_size: mas grande parece ser mejor> 0.1"
   ]
  },
  {
   "cell_type": "code",
   "execution_count": null,
   "metadata": {
    "collapsed": true
   },
   "outputs": [],
   "source": []
  },
  {
   "cell_type": "markdown",
   "metadata": {
    "collapsed": true
   },
   "source": [
    "### Results\n",
    "\n",
    "* bootstrap  ???= False es 5% mejor\n",
    "* min_samples_leaf ????= mas chico es claramente mejor, pero tmb aumenta el overfitting lo cual me hace caer mucho el valor del recall en el test_set. Sin embargo es un parametro muy sensible en la precision. Resta evaluar asi el tradeoff entre la precision y el volumen de users al cual queremos llegar.\n",
    "* n_estimators ???= mas pareceria mejor, pero depende del app y hay que ver 'cuanto' mejora por app\n",
    "* citerion ???= entropy o gini no cambia. gini podria ser mejor entonces pues entropy usa logs de los valores lo cual es mas computacionalmente costoso\n",
    "* max_features ???= no afecta al score. con auto esta bien\n",
    "* max_depth ??=  mas es mejor. intentaria probar con >15"
   ]
  },
  {
   "cell_type": "markdown",
   "metadata": {
    "collapsed": true
   },
   "source": [
    "## boosted run with best params"
   ]
  },
  {
   "cell_type": "code",
   "execution_count": 82,
   "metadata": {
    "collapsed": true
   },
   "outputs": [],
   "source": [
    "params = model_search.get_best_params()"
   ]
  },
  {
   "cell_type": "code",
   "execution_count": 83,
   "metadata": {},
   "outputs": [
    {
     "data": {
      "text/plain": [
       "{'class_weights': None,\n",
       " 'column_subsample': 0.8,\n",
       " 'early_stopping_rounds': 5,\n",
       " 'max_depth': 20,\n",
       " 'max_iterations': 250,\n",
       " 'metric': 'auc',\n",
       " 'min_child_weight': 2,\n",
       " 'min_loss_reduction': 1,\n",
       " 'random_seed': 415168,\n",
       " 'row_subsample': 0.5,\n",
       " 'step_size': 0.01,\n",
       " 'target': 'target'}"
      ]
     },
     "execution_count": 83,
     "metadata": {},
     "output_type": "execute_result"
    }
   ],
   "source": [
    "params"
   ]
  },
  {
   "cell_type": "code",
   "execution_count": 106,
   "metadata": {
    "collapsed": true
   },
   "outputs": [],
   "source": [
    "params = {'class_weights': None,\n",
    " 'column_subsample': 0.8,\n",
    " 'early_stopping_rounds': 5,\n",
    " 'max_depth': 12,\n",
    " 'max_iterations': 250,\n",
    " 'metric': 'auc',\n",
    " 'min_child_weight': 2,\n",
    " 'min_loss_reduction': 1,\n",
    " 'random_seed': 415168,\n",
    " 'row_subsample': 0.5,\n",
    " 'step_size': 0.01,\n",
    " 'target': 'target'}"
   ]
  },
  {
   "cell_type": "code",
   "execution_count": 107,
   "metadata": {
    "scrolled": true
   },
   "outputs": [
    {
     "data": {
      "text/html": [
       "<pre>Boosted trees classifier:</pre>"
      ],
      "text/plain": [
       "Boosted trees classifier:"
      ]
     },
     "metadata": {},
     "output_type": "display_data"
    },
    {
     "data": {
      "text/html": [
       "<pre>--------------------------------------------------------</pre>"
      ],
      "text/plain": [
       "--------------------------------------------------------"
      ]
     },
     "metadata": {},
     "output_type": "display_data"
    },
    {
     "data": {
      "text/html": [
       "<pre>Number of examples          : 95180</pre>"
      ],
      "text/plain": [
       "Number of examples          : 95180"
      ]
     },
     "metadata": {},
     "output_type": "display_data"
    },
    {
     "data": {
      "text/html": [
       "<pre>Number of classes           : 2</pre>"
      ],
      "text/plain": [
       "Number of classes           : 2"
      ]
     },
     "metadata": {},
     "output_type": "display_data"
    },
    {
     "data": {
      "text/html": [
       "<pre>Number of feature columns   : 176</pre>"
      ],
      "text/plain": [
       "Number of feature columns   : 176"
      ]
     },
     "metadata": {},
     "output_type": "display_data"
    },
    {
     "data": {
      "text/html": [
       "<pre>Number of unpacked features : 176</pre>"
      ],
      "text/plain": [
       "Number of unpacked features : 176"
      ]
     },
     "metadata": {},
     "output_type": "display_data"
    },
    {
     "data": {
      "text/html": [
       "<pre>+-----------+--------------+--------------+----------------+</pre>"
      ],
      "text/plain": [
       "+-----------+--------------+--------------+----------------+"
      ]
     },
     "metadata": {},
     "output_type": "display_data"
    },
    {
     "data": {
      "text/html": [
       "<pre>| Iteration | Elapsed Time | Training-auc | Validation-auc |</pre>"
      ],
      "text/plain": [
       "| Iteration | Elapsed Time | Training-auc | Validation-auc |"
      ]
     },
     "metadata": {},
     "output_type": "display_data"
    },
    {
     "data": {
      "text/html": [
       "<pre>+-----------+--------------+--------------+----------------+</pre>"
      ],
      "text/plain": [
       "+-----------+--------------+--------------+----------------+"
      ]
     },
     "metadata": {},
     "output_type": "display_data"
    },
    {
     "data": {
      "text/html": [
       "<pre>| 1         | 0.792755     | 0.870534     | 0.854229       |</pre>"
      ],
      "text/plain": [
       "| 1         | 0.792755     | 0.870534     | 0.854229       |"
      ]
     },
     "metadata": {},
     "output_type": "display_data"
    },
    {
     "data": {
      "text/html": [
       "<pre>| 2         | 1.599966     | 0.885401     | 0.866128       |</pre>"
      ],
      "text/plain": [
       "| 2         | 1.599966     | 0.885401     | 0.866128       |"
      ]
     },
     "metadata": {},
     "output_type": "display_data"
    },
    {
     "data": {
      "text/html": [
       "<pre>| 3         | 2.415011     | 0.891582     | 0.872199       |</pre>"
      ],
      "text/plain": [
       "| 3         | 2.415011     | 0.891582     | 0.872199       |"
      ]
     },
     "metadata": {},
     "output_type": "display_data"
    },
    {
     "data": {
      "text/html": [
       "<pre>| 4         | 3.172991     | 0.896710     | 0.875075       |</pre>"
      ],
      "text/plain": [
       "| 4         | 3.172991     | 0.896710     | 0.875075       |"
      ]
     },
     "metadata": {},
     "output_type": "display_data"
    },
    {
     "data": {
      "text/html": [
       "<pre>| 5         | 3.932190     | 0.898678     | 0.876098       |</pre>"
      ],
      "text/plain": [
       "| 5         | 3.932190     | 0.898678     | 0.876098       |"
      ]
     },
     "metadata": {},
     "output_type": "display_data"
    },
    {
     "data": {
      "text/html": [
       "<pre>| 6         | 4.718734     | 0.898829     | 0.875404       |</pre>"
      ],
      "text/plain": [
       "| 6         | 4.718734     | 0.898829     | 0.875404       |"
      ]
     },
     "metadata": {},
     "output_type": "display_data"
    },
    {
     "data": {
      "text/html": [
       "<pre>| 10        | 7.827187     | 0.901186     | 0.878331       |</pre>"
      ],
      "text/plain": [
       "| 10        | 7.827187     | 0.901186     | 0.878331       |"
      ]
     },
     "metadata": {},
     "output_type": "display_data"
    },
    {
     "data": {
      "text/html": [
       "<pre>| 11        | 8.619724     | 0.901667     | 0.878403       |</pre>"
      ],
      "text/plain": [
       "| 11        | 8.619724     | 0.901667     | 0.878403       |"
      ]
     },
     "metadata": {},
     "output_type": "display_data"
    },
    {
     "data": {
      "text/html": [
       "<pre>| 15        | 11.739438    | 0.904433     | 0.879636       |</pre>"
      ],
      "text/plain": [
       "| 15        | 11.739438    | 0.904433     | 0.879636       |"
      ]
     },
     "metadata": {},
     "output_type": "display_data"
    },
    {
     "data": {
      "text/html": [
       "<pre>| 20        | 15.623586    | 0.905729     | 0.880089       |</pre>"
      ],
      "text/plain": [
       "| 20        | 15.623586    | 0.905729     | 0.880089       |"
      ]
     },
     "metadata": {},
     "output_type": "display_data"
    },
    {
     "data": {
      "text/html": [
       "<pre>| 25        | 19.480804    | 0.907467     | 0.880335       |</pre>"
      ],
      "text/plain": [
       "| 25        | 19.480804    | 0.907467     | 0.880335       |"
      ]
     },
     "metadata": {},
     "output_type": "display_data"
    },
    {
     "data": {
      "text/html": [
       "<pre>| 30        | 23.432567    | 0.907983     | 0.880966       |</pre>"
      ],
      "text/plain": [
       "| 30        | 23.432567    | 0.907983     | 0.880966       |"
      ]
     },
     "metadata": {},
     "output_type": "display_data"
    },
    {
     "data": {
      "text/html": [
       "<pre>| 35        | 27.363924    | 0.908957     | 0.880943       |</pre>"
      ],
      "text/plain": [
       "| 35        | 27.363924    | 0.908957     | 0.880943       |"
      ]
     },
     "metadata": {},
     "output_type": "display_data"
    },
    {
     "data": {
      "text/html": [
       "<pre>+-----------+--------------+--------------+----------------+</pre>"
      ],
      "text/plain": [
       "+-----------+--------------+--------------+----------------+"
      ]
     },
     "metadata": {},
     "output_type": "display_data"
    },
    {
     "data": {
      "text/html": [
       "<pre>Early stop triggered. Returning the best model at iteration: 30</pre>"
      ],
      "text/plain": [
       "Early stop triggered. Returning the best model at iteration: 30"
      ]
     },
     "metadata": {},
     "output_type": "display_data"
    },
    {
     "name": "stdout",
     "output_type": "stream",
     "text": [
      "CPU times: user 2min 27s, sys: 4.76 s, total: 2min 32s\n",
      "Wall time: 30.9 s\n"
     ]
    }
   ],
   "source": [
    "%%time\n",
    "best_model =  boosted_trees_classifier.create(dataset=X_gl,\n",
    "                                             validation_set = X_val_gl,\n",
    "                                             **params)"
   ]
  },
  {
   "cell_type": "code",
   "execution_count": 109,
   "metadata": {
    "scrolled": true
   },
   "outputs": [
    {
     "data": {
      "text/plain": [
       "['COUNT_0',\n",
       " 'MOBILITY_DIAMETER_WEEKNIGHT',\n",
       " 'MOBILITY_DIAMETER',\n",
       " 'COUNT_WEEKNIGHT_0',\n",
       " 'COUNT_1',\n",
       " 'TimeWeekDay_IN_08',\n",
       " 'COUNT_2',\n",
       " 'TimeWeekDay_OUT_08',\n",
       " 'COUNT_WEEKNIGHT_1',\n",
       " 'TimeWeekDay_OUT_09',\n",
       " 'TimeWeekDay_OUT_12',\n",
       " 'TimeWeekDay_IN_09',\n",
       " 'TimeWeekDay_IN_12',\n",
       " 'TimeWeekDay_OUT_10',\n",
       " 'TimeWeekEnd_OUT_08',\n",
       " 'COUNT_3',\n",
       " 'COUNT_4',\n",
       " 'CallsWeekDay_IN_08',\n",
       " 'TimeWeekDay_OUT_11',\n",
       " 'TimeWeekDay_IN_10']"
      ]
     },
     "execution_count": 109,
     "metadata": {},
     "output_type": "execute_result"
    }
   ],
   "source": [
    "best_feat = best_model.get_feature_importance()\n",
    "best_feat = list(best_feat['name'].head(20))\n",
    "best_feat"
   ]
  },
  {
   "cell_type": "code",
   "execution_count": 87,
   "metadata": {
    "scrolled": true
   },
   "outputs": [
    {
     "data": {
      "text/html": [
       "<div>\n",
       "<style>\n",
       "    .dataframe thead tr:only-child th {\n",
       "        text-align: right;\n",
       "    }\n",
       "\n",
       "    .dataframe thead th {\n",
       "        text-align: left;\n",
       "    }\n",
       "\n",
       "    .dataframe tbody tr th {\n",
       "        vertical-align: top;\n",
       "    }\n",
       "</style>\n",
       "<table border=\"1\" class=\"dataframe\">\n",
       "  <thead>\n",
       "    <tr style=\"text-align: right;\">\n",
       "      <th></th>\n",
       "      <th></th>\n",
       "      <th>LATITUDE</th>\n",
       "      <th>LONGITUDE</th>\n",
       "      <th>CEL_ID</th>\n",
       "    </tr>\n",
       "    <tr>\n",
       "      <th>STATE</th>\n",
       "      <th>EPIDEMIC</th>\n",
       "      <th></th>\n",
       "      <th></th>\n",
       "      <th></th>\n",
       "    </tr>\n",
       "  </thead>\n",
       "  <tbody>\n",
       "    <tr>\n",
       "      <th>Aguascalientes</th>\n",
       "      <th>0</th>\n",
       "      <td>21.856175</td>\n",
       "      <td>-102.352281</td>\n",
       "      <td>37</td>\n",
       "    </tr>\n",
       "    <tr>\n",
       "      <th>Baja_California</th>\n",
       "      <th>0</th>\n",
       "      <td>32.642231</td>\n",
       "      <td>-115.408042</td>\n",
       "      <td>67</td>\n",
       "    </tr>\n",
       "    <tr>\n",
       "      <th>Baja_California_Sur</th>\n",
       "      <th>0</th>\n",
       "      <td>24.142063</td>\n",
       "      <td>-110.294055</td>\n",
       "      <td>1</td>\n",
       "    </tr>\n",
       "    <tr>\n",
       "      <th>Campeche</th>\n",
       "      <th>0</th>\n",
       "      <td>19.814033</td>\n",
       "      <td>-90.508705</td>\n",
       "      <td>49</td>\n",
       "    </tr>\n",
       "    <tr>\n",
       "      <th>Chiapas</th>\n",
       "      <th>0</th>\n",
       "      <td>16.620228</td>\n",
       "      <td>-93.097100</td>\n",
       "      <td>76</td>\n",
       "    </tr>\n",
       "    <tr>\n",
       "      <th>Chihuahua</th>\n",
       "      <th>0</th>\n",
       "      <td>28.694722</td>\n",
       "      <td>-106.108056</td>\n",
       "      <td>55</td>\n",
       "    </tr>\n",
       "    <tr>\n",
       "      <th>Coahuila_de_Zaragoza</th>\n",
       "      <th>0</th>\n",
       "      <td>28.637778</td>\n",
       "      <td>-100.553056</td>\n",
       "      <td>118</td>\n",
       "    </tr>\n",
       "    <tr>\n",
       "      <th>Colima</th>\n",
       "      <th>0</th>\n",
       "      <td>19.052920</td>\n",
       "      <td>-104.320394</td>\n",
       "      <td>87</td>\n",
       "    </tr>\n",
       "    <tr>\n",
       "      <th>Distrito_Federal</th>\n",
       "      <th>0</th>\n",
       "      <td>19.317872</td>\n",
       "      <td>-99.137003</td>\n",
       "      <td>2</td>\n",
       "    </tr>\n",
       "    <tr>\n",
       "      <th>Durango</th>\n",
       "      <th>0</th>\n",
       "      <td>25.553119</td>\n",
       "      <td>-103.489508</td>\n",
       "      <td>35</td>\n",
       "    </tr>\n",
       "    <tr>\n",
       "      <th>Guanajuato</th>\n",
       "      <th>0</th>\n",
       "      <td>21.158572</td>\n",
       "      <td>-100.923861</td>\n",
       "      <td>30</td>\n",
       "    </tr>\n",
       "    <tr>\n",
       "      <th>Guerrero</th>\n",
       "      <th>1</th>\n",
       "      <td>16.831714</td>\n",
       "      <td>-99.778656</td>\n",
       "      <td>57</td>\n",
       "    </tr>\n",
       "    <tr>\n",
       "      <th>Hidalgo</th>\n",
       "      <th>1</th>\n",
       "      <td>19.832881</td>\n",
       "      <td>-98.950172</td>\n",
       "      <td>60</td>\n",
       "    </tr>\n",
       "    <tr>\n",
       "      <th>Jalisco</th>\n",
       "      <th>1</th>\n",
       "      <td>20.581427</td>\n",
       "      <td>-103.432628</td>\n",
       "      <td>10</td>\n",
       "    </tr>\n",
       "    <tr>\n",
       "      <th>Mexico</th>\n",
       "      <th>0</th>\n",
       "      <td>19.490600</td>\n",
       "      <td>-99.271200</td>\n",
       "      <td>9</td>\n",
       "    </tr>\n",
       "    <tr>\n",
       "      <th>Michoacan_de_Ocampo</th>\n",
       "      <th>0</th>\n",
       "      <td>19.699532</td>\n",
       "      <td>-101.211267</td>\n",
       "      <td>102</td>\n",
       "    </tr>\n",
       "    <tr>\n",
       "      <th>Morelos</th>\n",
       "      <th>1</th>\n",
       "      <td>18.828056</td>\n",
       "      <td>-99.244444</td>\n",
       "      <td>6</td>\n",
       "    </tr>\n",
       "    <tr>\n",
       "      <th>Nayarit</th>\n",
       "      <th>0</th>\n",
       "      <td>21.055389</td>\n",
       "      <td>-105.127556</td>\n",
       "      <td>56</td>\n",
       "    </tr>\n",
       "    <tr>\n",
       "      <th>Nuevo_Leon</th>\n",
       "      <th>0</th>\n",
       "      <td>25.806569</td>\n",
       "      <td>-100.325653</td>\n",
       "      <td>8</td>\n",
       "    </tr>\n",
       "    <tr>\n",
       "      <th>Oaxaca</th>\n",
       "      <th>1</th>\n",
       "      <td>17.071125</td>\n",
       "      <td>-96.676006</td>\n",
       "      <td>24</td>\n",
       "    </tr>\n",
       "    <tr>\n",
       "      <th>Puebla</th>\n",
       "      <th>1</th>\n",
       "      <td>19.067444</td>\n",
       "      <td>-98.221000</td>\n",
       "      <td>5</td>\n",
       "    </tr>\n",
       "    <tr>\n",
       "      <th>Queretaro</th>\n",
       "      <th>0</th>\n",
       "      <td>20.594503</td>\n",
       "      <td>-100.393656</td>\n",
       "      <td>17</td>\n",
       "    </tr>\n",
       "    <tr>\n",
       "      <th>Quintana_Roo</th>\n",
       "      <th>0</th>\n",
       "      <td>21.140333</td>\n",
       "      <td>-86.864528</td>\n",
       "      <td>123</td>\n",
       "    </tr>\n",
       "    <tr>\n",
       "      <th>San_Luis_Potosi</th>\n",
       "      <th>0</th>\n",
       "      <td>22.186800</td>\n",
       "      <td>-100.945300</td>\n",
       "      <td>105</td>\n",
       "    </tr>\n",
       "    <tr>\n",
       "      <th>Sinaloa</th>\n",
       "      <th>0</th>\n",
       "      <td>23.278450</td>\n",
       "      <td>-106.448220</td>\n",
       "      <td>86</td>\n",
       "    </tr>\n",
       "    <tr>\n",
       "      <th>Sonora</th>\n",
       "      <th>0</th>\n",
       "      <td>32.444358</td>\n",
       "      <td>-114.771023</td>\n",
       "      <td>38</td>\n",
       "    </tr>\n",
       "    <tr>\n",
       "      <th>Tabasco</th>\n",
       "      <th>1</th>\n",
       "      <td>17.879241</td>\n",
       "      <td>-92.480478</td>\n",
       "      <td>3</td>\n",
       "    </tr>\n",
       "    <tr>\n",
       "      <th>Tamaulipas</th>\n",
       "      <th>0</th>\n",
       "      <td>22.415000</td>\n",
       "      <td>-97.938000</td>\n",
       "      <td>4</td>\n",
       "    </tr>\n",
       "    <tr>\n",
       "      <th>Tlaxcala</th>\n",
       "      <th>0</th>\n",
       "      <td>19.212956</td>\n",
       "      <td>-98.240853</td>\n",
       "      <td>162</td>\n",
       "    </tr>\n",
       "    <tr>\n",
       "      <th>Veracruz</th>\n",
       "      <th>1</th>\n",
       "      <td>17.994111</td>\n",
       "      <td>-94.566444</td>\n",
       "      <td>13</td>\n",
       "    </tr>\n",
       "    <tr>\n",
       "      <th>Yucatan</th>\n",
       "      <th>0</th>\n",
       "      <td>21.016680</td>\n",
       "      <td>-89.607927</td>\n",
       "      <td>12</td>\n",
       "    </tr>\n",
       "    <tr>\n",
       "      <th>Zacatecas</th>\n",
       "      <th>0</th>\n",
       "      <td>22.738691</td>\n",
       "      <td>-102.555193</td>\n",
       "      <td>131</td>\n",
       "    </tr>\n",
       "  </tbody>\n",
       "</table>\n",
       "</div>"
      ],
      "text/plain": [
       "                                LATITUDE   LONGITUDE  CEL_ID\n",
       "STATE                EPIDEMIC                               \n",
       "Aguascalientes       0         21.856175 -102.352281      37\n",
       "Baja_California      0         32.642231 -115.408042      67\n",
       "Baja_California_Sur  0         24.142063 -110.294055       1\n",
       "Campeche             0         19.814033  -90.508705      49\n",
       "Chiapas              0         16.620228  -93.097100      76\n",
       "Chihuahua            0         28.694722 -106.108056      55\n",
       "Coahuila_de_Zaragoza 0         28.637778 -100.553056     118\n",
       "Colima               0         19.052920 -104.320394      87\n",
       "Distrito_Federal     0         19.317872  -99.137003       2\n",
       "Durango              0         25.553119 -103.489508      35\n",
       "Guanajuato           0         21.158572 -100.923861      30\n",
       "Guerrero             1         16.831714  -99.778656      57\n",
       "Hidalgo              1         19.832881  -98.950172      60\n",
       "Jalisco              1         20.581427 -103.432628      10\n",
       "Mexico               0         19.490600  -99.271200       9\n",
       "Michoacan_de_Ocampo  0         19.699532 -101.211267     102\n",
       "Morelos              1         18.828056  -99.244444       6\n",
       "Nayarit              0         21.055389 -105.127556      56\n",
       "Nuevo_Leon           0         25.806569 -100.325653       8\n",
       "Oaxaca               1         17.071125  -96.676006      24\n",
       "Puebla               1         19.067444  -98.221000       5\n",
       "Queretaro            0         20.594503 -100.393656      17\n",
       "Quintana_Roo         0         21.140333  -86.864528     123\n",
       "San_Luis_Potosi      0         22.186800 -100.945300     105\n",
       "Sinaloa              0         23.278450 -106.448220      86\n",
       "Sonora               0         32.444358 -114.771023      38\n",
       "Tabasco              1         17.879241  -92.480478       3\n",
       "Tamaulipas           0         22.415000  -97.938000       4\n",
       "Tlaxcala             0         19.212956  -98.240853     162\n",
       "Veracruz             1         17.994111  -94.566444      13\n",
       "Yucatan              0         21.016680  -89.607927      12\n",
       "Zacatecas            0         22.738691 -102.555193     131"
      ]
     },
     "execution_count": 87,
     "metadata": {},
     "output_type": "execute_result"
    }
   ],
   "source": [
    "# check if best feat states are epidemic or not\n",
    "antennas.groupby(['STATE','EPIDEMIC']).first()"
   ]
  },
  {
   "cell_type": "code",
   "execution_count": 110,
   "metadata": {
    "scrolled": true
   },
   "outputs": [
    {
     "data": {
      "text/plain": [
       "{'accuracy': 0.8897577722677856,\n",
       " 'auc': 0.8809650552848158,\n",
       " 'confusion_matrix': Columns:\n",
       " \ttarget_label\tint\n",
       " \tpredicted_label\tint\n",
       " \tcount\tint\n",
       " \n",
       " Rows: 4\n",
       " \n",
       " Data:\n",
       " +--------------+-----------------+-------+\n",
       " | target_label | predicted_label | count |\n",
       " +--------------+-----------------+-------+\n",
       " |      0       |        1        |  281  |\n",
       " |      1       |        0        |  875  |\n",
       " |      1       |        1        |  1163 |\n",
       " |      0       |        0        |  8167 |\n",
       " +--------------+-----------------+-------+\n",
       " [4 rows x 3 columns],\n",
       " 'f1_score': 0.6680068925904652,\n",
       " 'log_loss': 0.5461287424860415,\n",
       " 'precision': 0.8054016620498615,\n",
       " 'recall': 0.570657507360157,\n",
       " 'roc_curve': Columns:\n",
       " \tthreshold\tfloat\n",
       " \tfpr\tfloat\n",
       " \ttpr\tfloat\n",
       " \tp\tint\n",
       " \tn\tint\n",
       " \n",
       " Rows: 100001\n",
       " \n",
       " Data:\n",
       " +-----------+-----+-----+------+------+\n",
       " | threshold | fpr | tpr |  p   |  n   |\n",
       " +-----------+-----+-----+------+------+\n",
       " |    0.0    | 1.0 | 1.0 | 2038 | 8448 |\n",
       " |   1e-05   | 1.0 | 1.0 | 2038 | 8448 |\n",
       " |   2e-05   | 1.0 | 1.0 | 2038 | 8448 |\n",
       " |   3e-05   | 1.0 | 1.0 | 2038 | 8448 |\n",
       " |   4e-05   | 1.0 | 1.0 | 2038 | 8448 |\n",
       " |   5e-05   | 1.0 | 1.0 | 2038 | 8448 |\n",
       " |   6e-05   | 1.0 | 1.0 | 2038 | 8448 |\n",
       " |   7e-05   | 1.0 | 1.0 | 2038 | 8448 |\n",
       " |   8e-05   | 1.0 | 1.0 | 2038 | 8448 |\n",
       " |   9e-05   | 1.0 | 1.0 | 2038 | 8448 |\n",
       " +-----------+-----+-----+------+------+\n",
       " [100001 rows x 5 columns]\n",
       " Note: Only the head of the SFrame is printed.\n",
       " You can use print_rows(num_rows=m, num_columns=n) to print more rows and columns.}"
      ]
     },
     "execution_count": 110,
     "metadata": {},
     "output_type": "execute_result"
    }
   ],
   "source": [
    "test_error = best_model.evaluate(X_val_gl)\n",
    "test_error"
   ]
  },
  {
   "cell_type": "code",
   "execution_count": 111,
   "metadata": {
    "scrolled": true
   },
   "outputs": [
    {
     "data": {
      "text/plain": [
       "<bound method BoostedTreesClassifier.get_current_options of Class                          : BoostedTreesClassifier\n",
       "\n",
       "Schema\n",
       "------\n",
       "Number of examples             : 95180\n",
       "Number of feature columns      : 176\n",
       "Number of unpacked features    : 176\n",
       "Number of classes              : 2\n",
       "\n",
       "Settings\n",
       "--------\n",
       "Number of trees                : 30\n",
       "Max tree depth                 : 12\n",
       "Training time (sec)            : 27.3684\n",
       "Training auc                   : 0.908\n",
       "Validation auc                 : 0.881\n",
       ">"
      ]
     },
     "execution_count": 111,
     "metadata": {},
     "output_type": "execute_result"
    }
   ],
   "source": [
    "best_model.get_current_options"
   ]
  },
  {
   "cell_type": "code",
   "execution_count": null,
   "metadata": {
    "collapsed": true
   },
   "outputs": [],
   "source": []
  },
  {
   "cell_type": "code",
   "execution_count": null,
   "metadata": {
    "collapsed": true
   },
   "outputs": [],
   "source": []
  },
  {
   "cell_type": "markdown",
   "metadata": {},
   "source": [
    "# Sklearn \n",
    "\n",
    "validation, bias variance, learning curves  and decision tree models"
   ]
  },
  {
   "cell_type": "code",
   "execution_count": 28,
   "metadata": {
    "scrolled": true
   },
   "outputs": [
    {
     "name": "stderr",
     "output_type": "stream",
     "text": [
      "/home/juan/mfixman/venv/local/lib/python2.7/site-packages/sklearn/cross_validation.py:44: DeprecationWarning: This module was deprecated in version 0.18 in favor of the model_selection module into which all the refactored classes and functions are moved. Also note that the interface of the new CV iterators are different from that of this module. This module will be removed in 0.20.\n",
      "  \"This module will be removed in 0.20.\", DeprecationWarning)\n",
      "/home/juan/mfixman/venv/local/lib/python2.7/site-packages/sklearn/grid_search.py:43: DeprecationWarning: This module was deprecated in version 0.18 in favor of the model_selection module into which all the refactored classes and functions are moved. This module will be removed in 0.20.\n",
      "  DeprecationWarning)\n"
     ]
    }
   ],
   "source": [
    "from sklearn.linear_model import *\n",
    "from sklearn.ensemble import *\n",
    "\n",
    "from sklearn import model_selection\n",
    "from sklearn.model_selection import validation_curve\n",
    "\n",
    "from sklearn.multiclass import OneVsRestClassifier\n",
    "\n",
    "from sklearn.utils import *\n",
    "\n",
    "from sklearn.preprocessing import label_binarize, scale, StandardScaler, MinMaxScaler\n",
    "\n",
    "from sklearn.metrics import *\n",
    "\n",
    "from sklearn.tree import *\n",
    "\n",
    "from sklearn.grid_search import *\n",
    "\n",
    "from sklearn.pipeline import Pipeline\n",
    "\n",
    "# dimensionality reduction  with SVD might improve the fit\n",
    "from sklearn.decomposition import TruncatedSVD"
   ]
  },
  {
   "cell_type": "code",
   "execution_count": null,
   "metadata": {
    "collapsed": true
   },
   "outputs": [],
   "source": []
  },
  {
   "cell_type": "markdown",
   "metadata": {},
   "source": [
    "## bias variance trade-off in the number of attributes\n",
    "we first used a random forest to get the best attributes in the model and now will try to overfit the validation set using too many features."
   ]
  },
  {
   "cell_type": "code",
   "execution_count": 29,
   "metadata": {
    "collapsed": true
   },
   "outputs": [],
   "source": [
    "# best_columns = best_feat['name'].to_numpy()\n",
    "# X[best_columns].columns"
   ]
  },
  {
   "cell_type": "markdown",
   "metadata": {
    "collapsed": true
   },
   "source": [
    "## scale numerical features when necessary"
   ]
  },
  {
   "cell_type": "code",
   "execution_count": 47,
   "metadata": {
    "collapsed": true
   },
   "outputs": [],
   "source": [
    "scale_cols = None\n",
    "# scale_cols = True\n",
    "if scale_cols:\n",
    "\n",
    "    # by definition any column which is outside of [-1,1]\n",
    "    scaling_cols = (X.max()) >1 | (X.min()<-1)\n",
    "\n",
    "    scaling_cols = scaling_cols[scaling_cols==True].index\n",
    "\n",
    "    scale = MinMaxScaler(copy=True)\n",
    "    \n",
    "    X[scaling_cols] = scale.fit_transform(X[scaling_cols])\n",
    "    "
   ]
  },
  {
   "cell_type": "markdown",
   "metadata": {},
   "source": [
    "# Make validation curve\n",
    "with DecisionTreeClassifier to overfit and compare without cross validation"
   ]
  },
  {
   "cell_type": "code",
   "execution_count": 48,
   "metadata": {},
   "outputs": [
    {
     "data": {
      "text/plain": [
       "17"
      ]
     },
     "execution_count": 48,
     "metadata": {},
     "output_type": "execute_result"
    }
   ],
   "source": [
    "# we can't have more binary splits in a tree than the data we train with\n",
    "max_tree_depth = int(pd.np.log2(X.shape[0]))\n",
    "max_tree_depth"
   ]
  },
  {
   "cell_type": "code",
   "execution_count": 30,
   "metadata": {},
   "outputs": [
    {
     "data": {
      "text/plain": [
       "array([ 2,  3,  4,  5,  6,  7,  8,  9, 10, 11, 12, 13, 14, 15, 16])"
      ]
     },
     "execution_count": 30,
     "metadata": {},
     "output_type": "execute_result"
    }
   ],
   "source": [
    "# define our tree_depth range to compare in cross validation\n",
    "\n",
    "param_range = pd.np.arange(2,17,)\n",
    "param_range"
   ]
  },
  {
   "cell_type": "code",
   "execution_count": 73,
   "metadata": {
    "scrolled": true
   },
   "outputs": [
    {
     "name": "stderr",
     "output_type": "stream",
     "text": [
      "/home/juan/mfixman/venv/local/lib/python2.7/site-packages/sklearn/metrics/classification.py:1113: UndefinedMetricWarning: F-score is ill-defined and being set to 0.0 in labels with no predicted samples.\n",
      "  'precision', 'predicted', average, warn_for)\n",
      "/home/juan/mfixman/venv/local/lib/python2.7/site-packages/sklearn/metrics/classification.py:1113: UndefinedMetricWarning: F-score is ill-defined and being set to 0.0 in labels with no predicted samples.\n",
      "  'precision', 'predicted', average, warn_for)\n"
     ]
    },
    {
     "name": "stdout",
     "output_type": "stream",
     "text": [
      "CPU times: user 48.8 s, sys: 564 ms, total: 49.3 s\n",
      "Wall time: 1min 43s\n"
     ]
    }
   ],
   "source": [
    "%%time\n",
    "train_scores, test_scores = validation_curve(\n",
    "    DecisionTreeClassifier(\n",
    "                       # max_depth = 100,\n",
    "                      criterion='gini'\n",
    "    ),\n",
    "    X, Y, \n",
    "    param_name=\"max_depth\", \n",
    "        param_range=param_range,\n",
    "\n",
    "        cv=10, \n",
    "    scoring='f1_weighted', \n",
    "    n_jobs=-1)"
   ]
  },
  {
   "cell_type": "markdown",
   "metadata": {},
   "source": [
    "### check results by standarizing scores"
   ]
  },
  {
   "cell_type": "code",
   "execution_count": 74,
   "metadata": {
    "collapsed": true
   },
   "outputs": [],
   "source": [
    "reverse_scores_train = 1 - train_scores\n",
    "reverse_scores_test = 1 - test_scores\n",
    "\n",
    "train_scores_mean = pd.np.mean(reverse_scores_train, axis=1)\n",
    "train_scores_std = pd.np.std(reverse_scores_train, axis=1)\n",
    "test_scores_mean = pd.np.mean(reverse_scores_test, axis=1)\n",
    "test_scores_std = pd.np.std(reverse_scores_test, axis=1)"
   ]
  },
  {
   "cell_type": "code",
   "execution_count": 75,
   "metadata": {},
   "outputs": [
    {
     "data": {
      "text/plain": [
       "<matplotlib.legend.Legend at 0x7f7640032d10>"
      ]
     },
     "execution_count": 75,
     "metadata": {},
     "output_type": "execute_result"
    },
    {
     "data": {
      "image/png": "[encoded data removed]",
      "text/plain": [
       "<matplotlib.figure.Figure at 0x7544fd0>"
      ]
     },
     "metadata": {},
     "output_type": "display_data"
    }
   ],
   "source": [
    "fig, ax = plt.subplots(figsize=(8, 6)) \n",
    "plt.title(\"Validation Curve with Decision Tree Classifier\")\n",
    "plt.xlabel(\"$Max Depth$ value\".format())\n",
    "plt.ylabel(\"1 - Score\")\n",
    "plt.ylim(0.0, 0.5)\n",
    "\n",
    "lw = 1\n",
    "\n",
    "plt.plot(param_range, train_scores_mean, label=\"Training score with std-dev band\",\n",
    "             color=\"navy\", lw=lw)\n",
    "\n",
    "plt.fill_between(param_range, train_scores_mean - train_scores_std,\n",
    "                 train_scores_mean + train_scores_std, alpha=0.2,\n",
    "                 color=\"blue\", lw=lw)\n",
    "\n",
    "plt.plot(param_range, test_scores_mean, label=\"Cross-validation score avg\",\n",
    "             color=\"darkorange\", lw=lw)\n",
    "\n",
    "plt.fill_between(param_range, test_scores_mean - test_scores_std,\n",
    "                 test_scores_mean + test_scores_std, alpha=0.2,\n",
    "                 color=\"red\", lw=lw)\n",
    "\n",
    "plt.legend(loc=\"best\")\n"
   ]
  },
  {
   "cell_type": "markdown",
   "metadata": {},
   "source": [
    "### now build decision tree \n",
    "and draw with graphviz"
   ]
  },
  {
   "cell_type": "code",
   "execution_count": 70,
   "metadata": {
    "collapsed": true
   },
   "outputs": [],
   "source": [
    "param_grid = {\n",
    "        'max_leaf_nodes': [\n",
    "                    15,\n",
    "                    20,\n",
    "                    ], # number of final count of leaf nodes\n",
    "    \n",
    "            'class_weight': [\n",
    "                        None,\n",
    "#                         'balanced',\n",
    "                        ], # with imbalanced taret classes\n",
    "            'criterion': [\n",
    "                        'gini',\n",
    "                        ], # the split criterion   \n",
    "            \"max_depth\": [ \n",
    "                        4,\n",
    "                6,\n",
    "                5,\n",
    "                            ],# max tree depth            \n",
    "              \"max_features\": [\n",
    "                               None,\n",
    "#                                 'auto',\n",
    "#                                20,\n",
    "#                                0.75,\n",
    "                           ],# number of features to consider at each split\n",
    "              }"
   ]
  },
  {
   "cell_type": "code",
   "execution_count": 71,
   "metadata": {
    "collapsed": true
   },
   "outputs": [],
   "source": [
    "# define loss function\n",
    "\n",
    "# scoring = 'f1'\n",
    "scoring = 'roc_auc'\n",
    "# scoring = 'neg_log_loss'"
   ]
  },
  {
   "cell_type": "code",
   "execution_count": 72,
   "metadata": {},
   "outputs": [
    {
     "name": "stdout",
     "output_type": "stream",
     "text": [
      "HyperParam Search took 14.59469223022461 seconds to run\n",
      "CPU times: user 11.1 s, sys: 268 ms, total: 11.4 s\n",
      "Wall time: 17.4 s\n"
     ]
    }
   ],
   "source": [
    "%%time\n",
    "start_time = time.time()\n",
    "\n",
    "num_jobs = -1\n",
    "\n",
    "dtree  = DecisionTreeClassifier( )\n",
    "clf =GridSearchCV( dtree, \n",
    "                  param_grid, \n",
    "                  scoring=scoring, \n",
    "                  fit_params=None,\n",
    "                  n_jobs=num_jobs, \n",
    "                  iid=True, \n",
    "                  refit=True, \n",
    "                verbose=0, \n",
    "                pre_dispatch='2*n_jobs', \n",
    "                  error_score='ignore')\n",
    "\n",
    "clf2 = DecisionTreeClassifier( )\n",
    "\n",
    "clf.fit(X, Y)\n",
    "\n",
    "elapsed_time =   time.time() - start_time \n",
    "print('HyperParam Search took %s seconds to run' % (elapsed_time))\n",
    "\n",
    "\n",
    "cv_result = pd.DataFrame(columns=['mean_score' ] + [key for key, \n",
    "                            value in clf.grid_scores_[0].parameters.items() ] )\n",
    "i=0\n",
    "for setup in clf.grid_scores_:\n",
    "    row = [clf.grid_scores_[i].mean_validation_score ] + [value for key,\n",
    "                                        value in clf.grid_scores_[i].parameters.items() ]\n",
    "    cv_result.loc[i] = row\n",
    "    i+=1\n",
    "\n",
    "elapsed_time =   time.time() - start_time\n",
    "\n",
    "clf2.set_params(**clf.best_params_)\n",
    "clf2.fit(X,Y)\n",
    "\n",
    "#este flag es basicamente para chequear que hayamos terminado nomas\n",
    "finished = True"
   ]
  },
  {
   "cell_type": "code",
   "execution_count": 73,
   "metadata": {},
   "outputs": [
    {
     "data": {
      "text/plain": [
       "True"
      ]
     },
     "execution_count": 73,
     "metadata": {},
     "output_type": "execute_result"
    }
   ],
   "source": [
    "finished"
   ]
  },
  {
   "cell_type": "code",
   "execution_count": 74,
   "metadata": {},
   "outputs": [
    {
     "name": "stdout",
     "output_type": "stream",
     "text": [
      "\n",
      " Best estimator was DecisionTreeClassifier(class_weight=None, criterion='gini', max_depth=4,\n",
      "            max_features=None, max_leaf_nodes=20, min_impurity_split=1e-07,\n",
      "            min_samples_leaf=1, min_samples_split=2,\n",
      "            min_weight_fraction_leaf=0.0, presort=False, random_state=None,\n",
      "            splitter='best') \n",
      "\n",
      "\n",
      " Best estimator was 0.823 in \"roc_auc\" metric \n",
      "\n",
      "\n",
      "Best estimator's performance with \"roc_auc\" metric on the test set is: 0.880\n",
      "\n",
      "Param exploration Search took 14.612095355987549 seconds to run\n",
      "Our problem type id is 0 which means \"People that used to live in the endemic area\"\n"
     ]
    }
   ],
   "source": [
    "print('\\n Best estimator was %s \\n' % str(clf.best_estimator_))\n",
    "\n",
    "print('\\n Best estimator was {:.3f} in \"{}\" metric \\n'.format( clf.best_score_,\n",
    "                                                    scoring\n",
    "                                                   )\n",
    "     )\n",
    "\n",
    "\n",
    "## get testing score with the score used inour function\n",
    "scoring_fun = SCORERS[scoring]\n",
    "test_score = scoring_fun(clf,X_val,Y_val)\n",
    "\n",
    "print('\\nBest estimator\\'s performance with \\\n",
    "\"{}\" metric on the test set is: {:.3f}\\n'.format( scoring,\n",
    "                                                 test_score,  \n",
    "                                            )\n",
    "     )\n",
    "\n",
    "\n",
    "\n",
    "print('Param exploration Search took %s seconds to run' % (elapsed_time))\n",
    "\n",
    "print('Our problem type id is {} which means \\\"{}\\\"'.format(case,case_text.capitalize()))\n",
    "\n",
    "#ojo que esta parte cuando poly ==True no funciona.."
   ]
  },
  {
   "cell_type": "markdown",
   "metadata": {},
   "source": [
    "## now draw tree"
   ]
  },
  {
   "cell_type": "code",
   "execution_count": 75,
   "metadata": {
    "collapsed": true
   },
   "outputs": [],
   "source": [
    "from sklearn import tree"
   ]
  },
  {
   "cell_type": "code",
   "execution_count": 76,
   "metadata": {},
   "outputs": [
    {
     "name": "stdout",
     "output_type": "stream",
     "text": [
      "dot -Tps tree.dot -o tree.ps \n"
     ]
    }
   ],
   "source": [
    "file_tree = 'tree.dot'\n",
    "outf = os.path.join(DATADIR,file_tree)\n",
    "\n",
    "tree.export_graphviz(clf2,\n",
    "                    max_depth = 7,\n",
    "                        impurity = True,\n",
    "                        proportion = True,\n",
    "                     feature_names = X.columns,\n",
    "                    out_file=outf)\n",
    "\n",
    "sub_call = 'dot -Tps {} -o {} '.format(file_tree, file_tree.replace('.dot','.ps'))\n",
    "print(sub_call)"
   ]
  },
  {
   "cell_type": "markdown",
   "metadata": {},
   "source": [
    "# Show the importance of cross validation and regularization using the logistic regression. \n",
    "\n",
    "try with different \n",
    "\n",
    "* cv values: (1, 3, 10 and 20)\n",
    "\n",
    "* C regularization values (L2): (1/10, 1, 10000,20000 ,etc. - high values)\n"
   ]
  },
  {
   "cell_type": "code",
   "execution_count": 43,
   "metadata": {},
   "outputs": [
    {
     "data": {
      "text/plain": [
       "array([  1.001,   2.112,   3.223,   4.334,   5.445,   6.556,   7.667,\n",
       "         8.778,   9.889,  11.   ])"
      ]
     },
     "execution_count": 43,
     "metadata": {},
     "output_type": "execute_result"
    }
   ],
   "source": []
  },
  {
   "cell_type": "code",
   "execution_count": 57,
   "metadata": {
    "scrolled": true
   },
   "outputs": [
    {
     "data": {
      "text/plain": [
       "(array([  1.00000000e-05,   1.21348277e-05,   1.47254043e-05,\n",
       "          1.78690243e-05,   2.16837531e-05,   2.63128607e-05,\n",
       "          3.19302031e-05,   3.87467512e-05,   4.70185149e-05,\n",
       "          5.70561576e-05,   6.92366640e-05,   8.40174987e-05,\n",
       "          1.01953787e-04,   1.23719163e-04,   1.50131073e-04,\n",
       "          1.82181470e-04,   2.21074074e-04,   2.68269580e-04,\n",
       "          3.25540512e-04,   3.95037801e-04]),\n",
       " array([   2531.40331524,    3071.81430127,    3727.59372031,\n",
       "           4523.37074477,    5489.03245092,    6660.84629081,\n",
       "           8082.82219252,    9808.36544541,   11902.28244779,\n",
       "          14443.21464727,   17526.59208537,   21268.21747296,\n",
       "          25808.61540418,   31318.31005244,   38004.22956366,\n",
       "          46117.47767708,   55962.7644532 ,   67909.85029956,\n",
       "          82407.43309894,  100000.        ]))"
      ]
     },
     "execution_count": 57,
     "metadata": {},
     "output_type": "execute_result"
    }
   ],
   "source": [
    "# # define our c range to compare\n",
    "# inv_c_range = pd.np.logspace(-4, 100, 15)\n",
    "\n",
    "# # param_range = 1./inv_c_range\n",
    "# param_range = pd.np.linspace(-3,0.5,30)\n",
    "# # param_range = pd.np.ceil(param_range)\n",
    "# param_range = pd.np.exp((param_range)*pd.np.log(10))\n",
    "\n",
    "# low_values = pd.np.linspace(0.001,1,10) \n",
    "# high_values = pd.np.linspace(10000,20000,10)\n",
    "# param_range = pd.np.concatenate([low_values,high_values])\n",
    "\n",
    "param_range = pd.np.logspace(-5, 5, 120)\n",
    "\n",
    "param_range[:20],param_range[-20:]"
   ]
  },
  {
   "cell_type": "markdown",
   "metadata": {},
   "source": [
    "## with no cv, high and low regularization comparison"
   ]
  },
  {
   "cell_type": "code",
   "execution_count": null,
   "metadata": {
    "collapsed": true
   },
   "outputs": [],
   "source": []
  },
  {
   "cell_type": "code",
   "execution_count": 50,
   "metadata": {
    "collapsed": true
   },
   "outputs": [],
   "source": [
    "# make this algorithm nilpotent (copy the data from the original case's X)\n",
    "# in case we want to run this again without re-building the whole X\n",
    "X_lreg = X.copy()\n",
    "X_val_lreg = X_val.copy()"
   ]
  },
  {
   "cell_type": "markdown",
   "metadata": {},
   "source": [
    "### check if we want SVD"
   ]
  },
  {
   "cell_type": "code",
   "execution_count": 51,
   "metadata": {
    "scrolled": true
   },
   "outputs": [
    {
     "name": "stdout",
     "output_type": "stream",
     "text": [
      "CPU times: user 0 ns, sys: 0 ns, total: 0 ns\n",
      "Wall time: 16 µs\n"
     ]
    }
   ],
   "source": [
    "%%time\n",
    "\n",
    "svd_features = False\n",
    "num_features_limit = 30\n",
    "\n",
    "#note that some svd algorithms are non-deterministic and thus results will vary if random state is not specified\n",
    "svd = TruncatedSVD(\n",
    "    n_components=num_features_limit, \n",
    "    n_iter=100, \n",
    "    random_state=42 ,\n",
    "    \n",
    "                )\n",
    "if svd_features: # only for train and test\n",
    "    svd.fit(X_lreg) \n",
    "    X_lreg = pd.DataFrame(svd.transform(X_lreg), index = X_lreg.index.values)\n",
    "    X_val_lreg = pd.DataFrame(svd.transform(X_val_lreg), index = X_val_lreg.index.values)"
   ]
  },
  {
   "cell_type": "code",
   "execution_count": 52,
   "metadata": {},
   "outputs": [
    {
     "data": {
      "text/plain": [
       "((137978, 186), (137978, 186))"
      ]
     },
     "execution_count": 52,
     "metadata": {},
     "output_type": "execute_result"
    }
   ],
   "source": [
    "X_lreg.shape, X.shape"
   ]
  },
  {
   "cell_type": "code",
   "execution_count": 53,
   "metadata": {
    "collapsed": true
   },
   "outputs": [],
   "source": [
    "# define loss function\n",
    "\n",
    "scoring = 'f1'\n",
    "# scoring = 'roc_auc'\n",
    "# scoring = 'neg_log_loss'"
   ]
  },
  {
   "cell_type": "markdown",
   "metadata": {},
   "source": [
    "## NO CV\n",
    "LOGREG"
   ]
  },
  {
   "cell_type": "code",
   "execution_count": 52,
   "metadata": {},
   "outputs": [
    {
     "name": "stdout",
     "output_type": "stream",
     "text": [
      "CPU times: user 1min 16s, sys: 3min 55s, total: 5min 12s\n",
      "Wall time: 14min 32s\n"
     ]
    }
   ],
   "source": [
    "%%time\n",
    "\n",
    "start_time = time.time()\n",
    "\n",
    "num_jobs = -1\n",
    "\n",
    "logreg  =  LogisticRegression(solver = 'lbfgs', \n",
    "                       max_iter = 250,\n",
    "                      warm_start=False,\n",
    "                              verbose = 0,\n",
    "                              n_jobs =-1,\n",
    "                        )\n",
    "# init fit over a range of parameters and load these into the\n",
    "# test and train scoring lists\n",
    "scores = []\n",
    "scores_val = []\n",
    "\n",
    "## get testing score fun with our defined str score\n",
    "scoring_fun = SCORERS[scoring]\n",
    "\n",
    "for param in param_range:\n",
    "\n",
    "    logreg.set_params(C=param)\n",
    "    logreg.fit(X_lreg, Y)\n",
    "    \n",
    "    # get train and \"test\" errors without CV\n",
    "    error = scoring_fun(logreg,X_lreg,Y)\n",
    "\n",
    "    scores.append(error)\n",
    "    error_val = scoring_fun(logreg,\n",
    "                            X_val_lreg,\n",
    "                            Y_val)\n",
    "    scores_val.append(error_val)\n",
    "\n",
    "# cast to numpy arrays type\n",
    "scores = pd.np.asarray(scores)\n",
    "scores_val = pd.np.asarray(scores_val)\n",
    "\n",
    "elapsed_time =   time.time() - start_time \n",
    "#este flag es basicamente para chequear que hayamos terminado nomas\n",
    "finished = True"
   ]
  },
  {
   "cell_type": "code",
   "execution_count": 53,
   "metadata": {},
   "outputs": [
    {
     "data": {
      "text/plain": [
       "True"
      ]
     },
     "execution_count": 53,
     "metadata": {},
     "output_type": "execute_result"
    }
   ],
   "source": [
    "finished"
   ]
  },
  {
   "cell_type": "code",
   "execution_count": 56,
   "metadata": {
    "scrolled": true
   },
   "outputs": [
    {
     "name": "stdout",
     "output_type": "stream",
     "text": [
      "Param exploration Search took 872.792695045 seconds to run\n",
      "\n",
      " Best estimator had (-0.547,-0.535) error and error_val scorewith scoring metric neg_log_loss \n",
      "\n",
      "\n",
      " Best param found with this metric was (1.0000000000000001e-05, 0.0048873746316244271) \n",
      "\n",
      "Our problem type id is 0 which means \"People that used to live in the endemic area\"\n"
     ]
    }
   ],
   "source": [
    "print('Param exploration Search took %s seconds to run' % (elapsed_time))\n",
    "\n",
    "max_score_index = pd.np.nonzero(scores == scores.max())[0][0]\n",
    "\n",
    "max_val_score_index = pd.np.nonzero(scores_val == scores_val.max())[0][0]\n",
    "\n",
    "print('\\n Best estimator had ({:.3f},{:.3f}) error and error_val score\\\n",
    "with scoring metric {} \\n'.format(\n",
    "                                 scores[max_score_index] ,\n",
    "                                 scores_val[max_val_score_index],\n",
    "                                scoring,\n",
    "                               )\n",
    "    )\n",
    "\n",
    "print('\\n Best param found with this metric was {} \\n'.format( str( (param_range[max_score_index],\n",
    "                                           param_range[max_val_score_index])\n",
    "                                           )\n",
    "                                      )\n",
    "     )\n",
    "\n",
    "print('Our problem type id is {} which means \\\"{}\\\"'.format(case,case_text.capitalize()))"
   ]
  },
  {
   "cell_type": "code",
   "execution_count": 61,
   "metadata": {},
   "outputs": [
    {
     "data": {
      "text/plain": [
       "(0.24244241529040866, True)"
      ]
     },
     "execution_count": 61,
     "metadata": {},
     "output_type": "execute_result"
    }
   ],
   "source": [
    "# get elapsed time in hours\n",
    "elapsed_time/3600, finished"
   ]
  },
  {
   "cell_type": "code",
   "execution_count": 64,
   "metadata": {
    "collapsed": true,
    "scrolled": true
   },
   "outputs": [],
   "source": [
    "# reverse_scores_train = 1 - train_scores\n",
    "# reverse_scores_test = 1 - test_scores\n",
    "\n",
    "train_scores_mean = scores\n",
    "train_scores_std = pd.np.std(scores)\n",
    "test_scores_mean = scores_val\n",
    "test_scores_std = pd.np.std(scores_val)"
   ]
  },
  {
   "cell_type": "code",
   "execution_count": 65,
   "metadata": {},
   "outputs": [
    {
     "data": {
      "text/plain": [
       "(6.8053344896406231e-08, (120,), (120,), (120,), ())"
      ]
     },
     "execution_count": 65,
     "metadata": {},
     "output_type": "execute_result"
    }
   ],
   "source": [
    "pd.np.std(scores), param_range.shape, train_scores_mean.shape, test_scores_mean.shape, train_scores_std.shape"
   ]
  },
  {
   "cell_type": "code",
   "execution_count": 72,
   "metadata": {},
   "outputs": [
    {
     "data": {
      "text/plain": [
       "(-0.54674996288044209, -0.54675060857410918)"
      ]
     },
     "execution_count": 72,
     "metadata": {},
     "output_type": "execute_result"
    }
   ],
   "source": [
    "train_scores_mean.max(), train_scores_mean.min()"
   ]
  },
  {
   "cell_type": "code",
   "execution_count": 66,
   "metadata": {
    "scrolled": true
   },
   "outputs": [
    {
     "data": {
      "text/plain": [
       "120"
      ]
     },
     "execution_count": 66,
     "metadata": {},
     "output_type": "execute_result"
    }
   ],
   "source": [
    "size = param_range.shape[0]\n",
    "#i = 0.002\n",
    "#pd.np.linspace(1+i,1,size)\n",
    "size"
   ]
  },
  {
   "cell_type": "code",
   "execution_count": 70,
   "metadata": {
    "scrolled": true
   },
   "outputs": [
    {
     "data": {
      "text/plain": [
       "<matplotlib.legend.Legend at 0x7effb2a8e6d0>"
      ]
     },
     "execution_count": 70,
     "metadata": {},
     "output_type": "execute_result"
    },
    {
     "data": {
      "image/png": "[encoded data removed]",
      "text/plain": [
       "<matplotlib.figure.Figure at 0xd505310>"
      ]
     },
     "metadata": {},
     "output_type": "display_data"
    }
   ],
   "source": [
    "ax, fig = plt.subplots(figsize=(8,6))\n",
    "plt.title(\"Validation Curve with Logistic Regression Classifier\")\n",
    "plt.xlabel(\"Regularization $C$ Param\")\n",
    "plt.ylabel(\"{}\".format(scoring))\n",
    "# plt.ylim(0.0, 10.1)\n",
    "\n",
    "lw = 1\n",
    "\n",
    "plt.semilogx(param_range, -train_scores_mean,#\n",
    "                          label=\"Training score\",\n",
    "             color=\"navy\", lw=lw)\n",
    "\n",
    "# plt.fill_between(param_range, train_scores_mean - train_scores_std,\n",
    "#                  train_scores_mean + train_scores_std, alpha=0.2,\n",
    "#                  color=\"blue\", lw=lw)\n",
    "\n",
    "plt.semilogx(param_range, -test_scores_mean,#\n",
    "             label=\"score for test set\",\n",
    "             color=\"darkorange\", lw=lw)\n",
    "\n",
    "# plt.fill_between(param_range, test_scores_mean - test_scores_std,\n",
    "#                  test_scores_mean + test_scores_std, alpha=0.2,\n",
    "#                  color=\"red\", lw=lw)\n",
    "\n",
    "plt.legend(loc=\"best\")\n"
   ]
  },
  {
   "cell_type": "code",
   "execution_count": 173,
   "metadata": {},
   "outputs": [
    {
     "data": {
      "text/plain": [
       "0.007843137254901968"
      ]
     },
     "execution_count": 173,
     "metadata": {},
     "output_type": "execute_result"
    }
   ],
   "source": [
    "a =0.51\n",
    "b= 0.506\n",
    "(a-b)/a\n"
   ]
  },
  {
   "cell_type": "code",
   "execution_count": null,
   "metadata": {
    "collapsed": true
   },
   "outputs": [],
   "source": []
  },
  {
   "cell_type": "markdown",
   "metadata": {
    "collapsed": true
   },
   "source": [
    "## YES CV\n",
    "LOGREG"
   ]
  },
  {
   "cell_type": "markdown",
   "metadata": {},
   "source": [
    "## now add cross validation to the problem\n",
    "\n",
    "show different instances of l1 and l2 regularization (low C) vs. non-regularizing (high C)"
   ]
  },
  {
   "cell_type": "code",
   "execution_count": 118,
   "metadata": {},
   "outputs": [
    {
     "data": {
      "text/plain": [
       "array([-7.        , -6.86956522, -6.73913043, -6.60869565, -6.47826087,\n",
       "       -6.34782609, -6.2173913 , -6.08695652, -5.95652174, -5.82608696,\n",
       "       -5.69565217, -5.56521739, -5.43478261, -5.30434783, -5.17391304,\n",
       "       -5.04347826, -4.91304348, -4.7826087 , -4.65217391, -4.52173913,\n",
       "       -4.39130435, -4.26086957, -4.13043478, -4.        , -3.86956522,\n",
       "       -3.73913043, -3.60869565, -3.47826087, -3.34782609, -3.2173913 ,\n",
       "       -3.08695652, -2.95652174, -2.82608696, -2.69565217, -2.56521739,\n",
       "       -2.43478261, -2.30434783, -2.17391304, -2.04347826, -1.91304348,\n",
       "       -1.7826087 , -1.65217391, -1.52173913, -1.39130435, -1.26086957,\n",
       "       -1.13043478, -1.        , -0.86956522, -0.73913043, -0.60869565,\n",
       "       -0.47826087, -0.34782609, -0.2173913 , -0.08695652,  0.04347826,\n",
       "        0.17391304,  0.30434783,  0.43478261,  0.56521739,  0.69565217,\n",
       "        0.82608696,  0.95652174,  1.08695652,  1.2173913 ,  1.34782609,\n",
       "        1.47826087,  1.60869565,  1.73913043,  1.86956522,  2.        ])"
      ]
     },
     "execution_count": 118,
     "metadata": {},
     "output_type": "execute_result"
    }
   ],
   "source": []
  },
  {
   "cell_type": "code",
   "execution_count": 122,
   "metadata": {
    "collapsed": true
   },
   "outputs": [],
   "source": [
    "min_val = -7; max_val = 2 ; n_points = 70\n",
    "param_range = pd.np.logspace(min_val,max_val,n_points)"
   ]
  },
  {
   "cell_type": "code",
   "execution_count": 123,
   "metadata": {
    "scrolled": true
   },
   "outputs": [
    {
     "data": {
      "text/plain": [
       "array([  1.00000000e-07,   1.35031404e-07,   1.82334800e-07,\n",
       "         2.46209240e-07,   3.32459793e-07,   4.48925126e-07,\n",
       "         6.06189899e-07,   8.18546731e-07,   1.10529514e-06,\n",
       "         1.49249555e-06,   2.01533769e-06,   2.72133877e-06,\n",
       "         3.67466194e-06,   4.96194760e-06,   6.70018750e-06,\n",
       "         9.04735724e-06,   1.22167735e-05,   1.64964807e-05,\n",
       "         2.22754295e-05,   3.00788252e-05,   4.06158599e-05,\n",
       "         5.48441658e-05,   7.40568469e-05,   1.00000000e-04,\n",
       "         1.35031404e-04,   1.82334800e-04,   2.46209240e-04,\n",
       "         3.32459793e-04,   4.48925126e-04,   6.06189899e-04,\n",
       "         8.18546731e-04,   1.10529514e-03,   1.49249555e-03,\n",
       "         2.01533769e-03,   2.72133877e-03,   3.67466194e-03,\n",
       "         4.96194760e-03,   6.70018750e-03,   9.04735724e-03,\n",
       "         1.22167735e-02,   1.64964807e-02,   2.22754295e-02,\n",
       "         3.00788252e-02,   4.06158599e-02,   5.48441658e-02,\n",
       "         7.40568469e-02,   1.00000000e-01,   1.35031404e-01,\n",
       "         1.82334800e-01,   2.46209240e-01,   3.32459793e-01,\n",
       "         4.48925126e-01,   6.06189899e-01,   8.18546731e-01,\n",
       "         1.10529514e+00,   1.49249555e+00,   2.01533769e+00,\n",
       "         2.72133877e+00,   3.67466194e+00,   4.96194760e+00,\n",
       "         6.70018750e+00,   9.04735724e+00,   1.22167735e+01,\n",
       "         1.64964807e+01,   2.22754295e+01,   3.00788252e+01,\n",
       "         4.06158599e+01,   5.48441658e+01,   7.40568469e+01,\n",
       "         1.00000000e+02])"
      ]
     },
     "execution_count": 123,
     "metadata": {},
     "output_type": "execute_result"
    }
   ],
   "source": [
    "param_range"
   ]
  },
  {
   "cell_type": "code",
   "execution_count": 93,
   "metadata": {
    "collapsed": true
   },
   "outputs": [],
   "source": [
    "# define thos hyper params of the model which will be fixed\n",
    "fixed_params = {\n",
    "        'penalty': [\n",
    "                    'l1',\n",
    "#                     'l2',\n",
    "        ], # type of regularization function norm\n",
    "            'max_iter': [\n",
    "#                         40,\n",
    "                        150,\n",
    "#                         200,\n",
    "                        ], # number of descent iterations\n",
    "    \n",
    "            \"fit_intercept\": [ \n",
    "#                         False, \n",
    "                        True,\n",
    "                            ],# fit the constante intercept\n",
    "            \n",
    "               \"class_weight\": [\n",
    "#                                None,\n",
    "                            'balanced',\n",
    "                           ],# if class ratios are as weighted averge when computing the overall loss fn\n",
    "              }\n",
    "\n",
    "# convert all values to scalars and not lists\n",
    "fixed_params = {key:value[0] for key, value in fixed_params.items()}"
   ]
  },
  {
   "cell_type": "code",
   "execution_count": 95,
   "metadata": {},
   "outputs": [
    {
     "data": {
      "text/plain": [
       "{'class_weight': 'balanced',\n",
       " 'fit_intercept': True,\n",
       " 'max_iter': 150,\n",
       " 'penalty': 'l1'}"
      ]
     },
     "execution_count": 95,
     "metadata": {},
     "output_type": "execute_result"
    }
   ],
   "source": [
    "fixed_params"
   ]
  },
  {
   "cell_type": "code",
   "execution_count": 96,
   "metadata": {
    "collapsed": true
   },
   "outputs": [],
   "source": [
    "# define those hyperparams of the model which we will be changing/iterating\n",
    "dynamic_params = {'C': param_range}# the regularization param, the smaller the more regulareized"
   ]
  },
  {
   "cell_type": "code",
   "execution_count": 97,
   "metadata": {
    "collapsed": true
   },
   "outputs": [],
   "source": [
    "# define loss function\n",
    "\n",
    "# scoring = 'f1'\n",
    "scoring = 'roc_auc'"
   ]
  },
  {
   "cell_type": "markdown",
   "metadata": {},
   "source": [
    "# manually CV\n",
    "over a range of param values for one single hyperparam argument"
   ]
  },
  {
   "cell_type": "code",
   "execution_count": null,
   "metadata": {
    "collapsed": true
   },
   "outputs": [],
   "source": [
    "%%time\n",
    "\n",
    "start_time = time.time()\n",
    "\n",
    "num_jobs = -1\n",
    "\n",
    "logreg  = LogisticRegression(**fixed_params)\n",
    "scoring_fun = SCORERS[scoring]\n",
    "\n",
    "scores_test = []\n",
    "cv_scores_mean = []\n",
    "cv_scores_std = []\n",
    "\n",
    "key = 'C'\n",
    "\n",
    "for val in param_range:\n",
    "    # first init a logistic Regression model with param set\n",
    "    kw = {key:val}\n",
    "    logreg.set_params(**kw)\n",
    "    # get CV error first, doing N folds on the training set\n",
    "    cv_scores = cross_val_score(logreg,\n",
    "                                X_lreg,\n",
    "                                Y,\n",
    "                                cv=12,\n",
    "                                n_jobs=num_jobs,\n",
    "                                scoring = scoring_fun,\n",
    "                                pre_dispatch='4*n_jobs',)\n",
    "    # get folds mean cv score and std score\n",
    "    mean_cv_score, std_cv_score  = (cv_scores.mean(), cv_scores.std())\n",
    "    cv_scores_mean.append(mean_cv_score)\n",
    "    cv_scores_std.append(std_cv_score)    \n",
    "    \n",
    "    # now get test error by fitting the logReg model on the whole training set\n",
    "    # and scoring on the testing set\n",
    "    logreg.fit(X_lreg, Y)\n",
    "    test_error = scoring_fun(logreg,\n",
    "                             X_val_lreg,\n",
    "                             Y_val)\n",
    "    # save test score\n",
    "    scores_test.append(test_error)\n",
    "\n",
    "\n",
    "# capture the test error for each model\n",
    "errors_df = {key : param_range,\n",
    "             'test_error' : scores_test,\n",
    "            'std_cv_error' : cv_scores_std,\n",
    "             'mean_cv_error' : cv_scores_mean,\n",
    "            }\n",
    "errors_df = pd.DataFrame(errors_df)\n",
    "\n",
    "\n",
    "elapsed_time =   time.time() - start_time "
   ]
  },
  {
   "cell_type": "code",
   "execution_count": 126,
   "metadata": {},
   "outputs": [
    {
     "data": {
      "text/plain": [
       "2"
      ]
     },
     "execution_count": 126,
     "metadata": {},
     "output_type": "execute_result"
    }
   ],
   "source": [
    "max_val"
   ]
  },
  {
   "cell_type": "code",
   "execution_count": 130,
   "metadata": {
    "collapsed": true,
    "scrolled": true
   },
   "outputs": [],
   "source": [
    "# the key column values were extracted by transforming linear space to an exponent.\n",
    "# thus to come back to the linear space we have to take the natural logarithm\n",
    "#  and add it to the DF\n",
    "log_key = 'log_{}'.format(key)\n",
    "errors_df[log_key] = pd.np.linspace(min_val,max_val,n_points)\n"
   ]
  },
  {
   "cell_type": "code",
   "execution_count": 132,
   "metadata": {
    "scrolled": true
   },
   "outputs": [
    {
     "name": "stdout",
     "output_type": "stream",
     "text": [
      "CV vs. Test Error Search took 8559.10971093 seconds to run\n"
     ]
    },
    {
     "data": {
      "text/plain": [
       "(True, 2.377530475258827)"
      ]
     },
     "execution_count": 132,
     "metadata": {},
     "output_type": "execute_result"
    }
   ],
   "source": [
    "print('CV vs. Test Error Search took %s seconds to run' % (elapsed_time))\n",
    "\n",
    "# este flag es basicamente para chequear que hayamos terminado nomas\n",
    "# we also get elapsed time in hours\n",
    "finished = True\n",
    "finished, elapsed_time/3600"
   ]
  },
  {
   "cell_type": "code",
   "execution_count": 107,
   "metadata": {
    "scrolled": true
   },
   "outputs": [
    {
     "name": "stdout",
     "output_type": "stream",
     "text": [
      "\n",
      " Best CV estimator was C:1.10529514113 \n",
      "\n",
      "\n",
      " Best CV error was 0.756 in \"'roc_auc'\" metric \n",
      "\n",
      "\n",
      " Best estimator for test set was C:2.01533768594 \n",
      "\n",
      "\n",
      " Best Test error was 0.783 in \"'roc_auc'\" metric \n",
      "\n",
      "Param exploration Search took 8559.10971093 seconds to run\n",
      "Our problem type id is 2 which means \"People that migrated in any direction\"\n"
     ]
    }
   ],
   "source": [
    "max_test_error = errors_df['test_error'].max()\n",
    "max_cv_error = errors_df['mean_cv_error'].max()\n",
    "\n",
    "best_estim_test = errors_df.loc[errors_df['test_error'].argmax(),key]#.values[0]\n",
    "best_estim_cv = errors_df.loc[errors_df['mean_cv_error'].argmax(),key]#.values[0]\n",
    "# best_score = errors_df.loc[errors_df['test_error'].argmax(),key].values[0]\n",
    "\n",
    "print('\\n Best CV estimator was {}:{!s} \\n'.format(key,best_estim_cv))\n",
    "print('\\n Best CV error was {:.3f} in \"{!r}\" metric \\n'.format( max_cv_error,\n",
    "                                                    scoring\n",
    "                                                   )\n",
    "     )\n",
    "\n",
    "print('\\n Best estimator for test set was {}:{!s} \\n'.format(key, best_estim_test))\n",
    "print('\\n Best Test error was {:.3f} in \"{!r}\" metric \\n'.format( max_test_error,\n",
    "                                                    scoring\n",
    "                                                   )\n",
    "     )\n",
    "\n",
    "print('Param exploration Search took %s seconds to run' % (elapsed_time))\n",
    "\n",
    "print('Our problem type id is {} which means \\\"{}\\\"'.format(case,case_text.capitalize()))\n",
    "\n",
    "#ojo que esta parte cuando poly ==True no funciona.."
   ]
  },
  {
   "cell_type": "code",
   "execution_count": 110,
   "metadata": {},
   "outputs": [
    {
     "data": {
      "text/plain": [
       "Index([u'C', u'mean_cv_error', u'std_cv_error', u'test_error'], dtype='object')"
      ]
     },
     "execution_count": 110,
     "metadata": {},
     "output_type": "execute_result"
    }
   ],
   "source": [
    "errors_df.columns"
   ]
  },
  {
   "cell_type": "code",
   "execution_count": null,
   "metadata": {
    "collapsed": true
   },
   "outputs": [],
   "source": []
  },
  {
   "cell_type": "code",
   "execution_count": 137,
   "metadata": {
    "collapsed": true
   },
   "outputs": [],
   "source": [
    "error_cols = ['mean_cv_error', 'test_error' ]\n",
    "rev_error_cols = []\n",
    "for col in error_cols:\n",
    "    rev_col = 'rev_'+col\n",
    "    errors_df[rev_col] = 1- errors_df[col]\n",
    "    rev_error_cols+=[rev_col]"
   ]
  },
  {
   "cell_type": "code",
   "execution_count": 138,
   "metadata": {},
   "outputs": [
    {
     "data": {
      "text/plain": [
       "['rev_mean_cv_error', 'rev_test_error']"
      ]
     },
     "execution_count": 138,
     "metadata": {},
     "output_type": "execute_result"
    }
   ],
   "source": [
    "rev_error_cols "
   ]
  },
  {
   "cell_type": "code",
   "execution_count": 147,
   "metadata": {},
   "outputs": [
    {
     "data": {
      "text/plain": [
       "<matplotlib.text.Text at 0x7f9a58f63290>"
      ]
     },
     "execution_count": 147,
     "metadata": {},
     "output_type": "execute_result"
    },
    {
     "data": {
      "image/png": "[encoded data removed]",
      "text/plain": [
       "<matplotlib.figure.Figure at 0x7f9a8aea1dd0>"
      ]
     },
     "metadata": {},
     "output_type": "display_data"
    }
   ],
   "source": [
    "fig, ax = plt.subplots(figsize=(8, 6))\n",
    "\n",
    "\n",
    "x_col = log_key\n",
    "labels = error_cols\n",
    "# plot series\n",
    "# view[an_col].hist()\n",
    "\n",
    "colors = ['g','b']\n",
    "smoother = 7\n",
    "lw = 1\n",
    "for i,col in enumerate(rev_error_cols):\n",
    "    \n",
    "    errors_df.plot(x = x_col, y = col,ax=ax, \n",
    "                   kind = 'line',color = colors[i],\n",
    "                  label = error_cols[1-i])\n",
    "    \n",
    "    \n",
    "\n",
    "plt.fill_between(errors_df[log_key], errors_df['rev_test_error'] - errors_df['std_cv_error']/smoother,\n",
    "                 errors_df['rev_test_error'] + errors_df['std_cv_error']/smoother, alpha=0.2,\n",
    "                 color=colors[1], lw=lw)\n",
    "\n",
    "# sup_title_str = \"\"\n",
    "\n",
    "# plt.suptitle(\"\\n\".join(wrap(sup_title_str)),\n",
    "#          y=1.03,# otherwise twiny and title will overlap\n",
    "#          fontsize=18,\n",
    "#             )\n",
    "\n",
    "title_str = \"Series of CV scores vs. Test scores for different \\\n",
    " parameter values.\"\n",
    "\n",
    "plt.title(title_str, fontsize=10)\n",
    "\n",
    "plt.xlabel(\"$C$ Param value\")\n",
    "plt.ylabel(\"Score\".format(scoring.capitalize()))\n",
    "# plt.ylabel(\"{} Score\".format(scoring.capitalize()))\n"
   ]
  },
  {
   "cell_type": "code",
   "execution_count": 115,
   "metadata": {
    "scrolled": true
   },
   "outputs": [
    {
     "data": {
      "text/html": [
       "<div>\n",
       "<style>\n",
       "    .dataframe thead tr:only-child th {\n",
       "        text-align: right;\n",
       "    }\n",
       "\n",
       "    .dataframe thead th {\n",
       "        text-align: left;\n",
       "    }\n",
       "\n",
       "    .dataframe tbody tr th {\n",
       "        vertical-align: top;\n",
       "    }\n",
       "</style>\n",
       "<table border=\"1\" class=\"dataframe\">\n",
       "  <thead>\n",
       "    <tr style=\"text-align: right;\">\n",
       "      <th></th>\n",
       "      <th>C</th>\n",
       "      <th>mean_cv_error</th>\n",
       "      <th>std_cv_error</th>\n",
       "      <th>test_error</th>\n",
       "    </tr>\n",
       "  </thead>\n",
       "  <tbody>\n",
       "    <tr>\n",
       "      <th>0</th>\n",
       "      <td>1.000000e-07</td>\n",
       "      <td>0.580319</td>\n",
       "      <td>0.123133</td>\n",
       "      <td>0.603903</td>\n",
       "    </tr>\n",
       "    <tr>\n",
       "      <th>1</th>\n",
       "      <td>1.350314e-07</td>\n",
       "      <td>0.596025</td>\n",
       "      <td>0.136668</td>\n",
       "      <td>0.616239</td>\n",
       "    </tr>\n",
       "    <tr>\n",
       "      <th>2</th>\n",
       "      <td>1.823348e-07</td>\n",
       "      <td>0.640106</td>\n",
       "      <td>0.098702</td>\n",
       "      <td>0.641226</td>\n",
       "    </tr>\n",
       "    <tr>\n",
       "      <th>3</th>\n",
       "      <td>2.462092e-07</td>\n",
       "      <td>0.653556</td>\n",
       "      <td>0.084641</td>\n",
       "      <td>0.664021</td>\n",
       "    </tr>\n",
       "    <tr>\n",
       "      <th>4</th>\n",
       "      <td>3.324598e-07</td>\n",
       "      <td>0.685450</td>\n",
       "      <td>0.055235</td>\n",
       "      <td>0.686344</td>\n",
       "    </tr>\n",
       "    <tr>\n",
       "      <th>5</th>\n",
       "      <td>4.489251e-07</td>\n",
       "      <td>0.694925</td>\n",
       "      <td>0.042020</td>\n",
       "      <td>0.693570</td>\n",
       "    </tr>\n",
       "    <tr>\n",
       "      <th>6</th>\n",
       "      <td>6.061899e-07</td>\n",
       "      <td>0.699042</td>\n",
       "      <td>0.036363</td>\n",
       "      <td>0.696540</td>\n",
       "    </tr>\n",
       "    <tr>\n",
       "      <th>7</th>\n",
       "      <td>8.185467e-07</td>\n",
       "      <td>0.701011</td>\n",
       "      <td>0.033385</td>\n",
       "      <td>0.698361</td>\n",
       "    </tr>\n",
       "    <tr>\n",
       "      <th>8</th>\n",
       "      <td>1.105295e-06</td>\n",
       "      <td>0.701964</td>\n",
       "      <td>0.031540</td>\n",
       "      <td>0.699700</td>\n",
       "    </tr>\n",
       "    <tr>\n",
       "      <th>9</th>\n",
       "      <td>1.492496e-06</td>\n",
       "      <td>0.702533</td>\n",
       "      <td>0.030400</td>\n",
       "      <td>0.700434</td>\n",
       "    </tr>\n",
       "    <tr>\n",
       "      <th>10</th>\n",
       "      <td>2.015338e-06</td>\n",
       "      <td>0.702853</td>\n",
       "      <td>0.029677</td>\n",
       "      <td>0.700851</td>\n",
       "    </tr>\n",
       "    <tr>\n",
       "      <th>11</th>\n",
       "      <td>2.721339e-06</td>\n",
       "      <td>0.703000</td>\n",
       "      <td>0.029199</td>\n",
       "      <td>0.701116</td>\n",
       "    </tr>\n",
       "    <tr>\n",
       "      <th>12</th>\n",
       "      <td>3.674662e-06</td>\n",
       "      <td>0.703041</td>\n",
       "      <td>0.028890</td>\n",
       "      <td>0.701248</td>\n",
       "    </tr>\n",
       "    <tr>\n",
       "      <th>13</th>\n",
       "      <td>4.961948e-06</td>\n",
       "      <td>0.703010</td>\n",
       "      <td>0.028642</td>\n",
       "      <td>0.701308</td>\n",
       "    </tr>\n",
       "    <tr>\n",
       "      <th>14</th>\n",
       "      <td>6.700188e-06</td>\n",
       "      <td>0.702957</td>\n",
       "      <td>0.028498</td>\n",
       "      <td>0.701340</td>\n",
       "    </tr>\n",
       "    <tr>\n",
       "      <th>15</th>\n",
       "      <td>9.047357e-06</td>\n",
       "      <td>0.702876</td>\n",
       "      <td>0.028379</td>\n",
       "      <td>0.701297</td>\n",
       "    </tr>\n",
       "    <tr>\n",
       "      <th>16</th>\n",
       "      <td>1.221677e-05</td>\n",
       "      <td>0.702771</td>\n",
       "      <td>0.028269</td>\n",
       "      <td>0.701305</td>\n",
       "    </tr>\n",
       "    <tr>\n",
       "      <th>17</th>\n",
       "      <td>1.649648e-05</td>\n",
       "      <td>0.703109</td>\n",
       "      <td>0.028082</td>\n",
       "      <td>0.702457</td>\n",
       "    </tr>\n",
       "    <tr>\n",
       "      <th>18</th>\n",
       "      <td>2.227543e-05</td>\n",
       "      <td>0.703925</td>\n",
       "      <td>0.027809</td>\n",
       "      <td>0.704348</td>\n",
       "    </tr>\n",
       "    <tr>\n",
       "      <th>19</th>\n",
       "      <td>3.007883e-05</td>\n",
       "      <td>0.706089</td>\n",
       "      <td>0.027246</td>\n",
       "      <td>0.706993</td>\n",
       "    </tr>\n",
       "    <tr>\n",
       "      <th>20</th>\n",
       "      <td>4.061586e-05</td>\n",
       "      <td>0.708037</td>\n",
       "      <td>0.027205</td>\n",
       "      <td>0.708671</td>\n",
       "    </tr>\n",
       "    <tr>\n",
       "      <th>21</th>\n",
       "      <td>5.484417e-05</td>\n",
       "      <td>0.709145</td>\n",
       "      <td>0.027279</td>\n",
       "      <td>0.709408</td>\n",
       "    </tr>\n",
       "    <tr>\n",
       "      <th>22</th>\n",
       "      <td>7.405685e-05</td>\n",
       "      <td>0.709528</td>\n",
       "      <td>0.027822</td>\n",
       "      <td>0.710168</td>\n",
       "    </tr>\n",
       "    <tr>\n",
       "      <th>23</th>\n",
       "      <td>1.000000e-04</td>\n",
       "      <td>0.710008</td>\n",
       "      <td>0.029333</td>\n",
       "      <td>0.710971</td>\n",
       "    </tr>\n",
       "    <tr>\n",
       "      <th>24</th>\n",
       "      <td>1.350314e-04</td>\n",
       "      <td>0.705694</td>\n",
       "      <td>0.046794</td>\n",
       "      <td>0.724026</td>\n",
       "    </tr>\n",
       "    <tr>\n",
       "      <th>25</th>\n",
       "      <td>1.823348e-04</td>\n",
       "      <td>0.720327</td>\n",
       "      <td>0.076028</td>\n",
       "      <td>0.734395</td>\n",
       "    </tr>\n",
       "    <tr>\n",
       "      <th>26</th>\n",
       "      <td>2.462092e-04</td>\n",
       "      <td>0.719724</td>\n",
       "      <td>0.108067</td>\n",
       "      <td>0.743688</td>\n",
       "    </tr>\n",
       "    <tr>\n",
       "      <th>27</th>\n",
       "      <td>3.324598e-04</td>\n",
       "      <td>0.724182</td>\n",
       "      <td>0.142155</td>\n",
       "      <td>0.751340</td>\n",
       "    </tr>\n",
       "    <tr>\n",
       "      <th>28</th>\n",
       "      <td>4.489251e-04</td>\n",
       "      <td>0.723998</td>\n",
       "      <td>0.175801</td>\n",
       "      <td>0.759742</td>\n",
       "    </tr>\n",
       "    <tr>\n",
       "      <th>29</th>\n",
       "      <td>6.061899e-04</td>\n",
       "      <td>0.731007</td>\n",
       "      <td>0.198505</td>\n",
       "      <td>0.765270</td>\n",
       "    </tr>\n",
       "    <tr>\n",
       "      <th>...</th>\n",
       "      <td>...</td>\n",
       "      <td>...</td>\n",
       "      <td>...</td>\n",
       "      <td>...</td>\n",
       "    </tr>\n",
       "    <tr>\n",
       "      <th>40</th>\n",
       "      <td>1.649648e-02</td>\n",
       "      <td>0.754285</td>\n",
       "      <td>0.221370</td>\n",
       "      <td>0.781800</td>\n",
       "    </tr>\n",
       "    <tr>\n",
       "      <th>41</th>\n",
       "      <td>2.227543e-02</td>\n",
       "      <td>0.754831</td>\n",
       "      <td>0.220088</td>\n",
       "      <td>0.782245</td>\n",
       "    </tr>\n",
       "    <tr>\n",
       "      <th>42</th>\n",
       "      <td>3.007883e-02</td>\n",
       "      <td>0.755316</td>\n",
       "      <td>0.218927</td>\n",
       "      <td>0.782556</td>\n",
       "    </tr>\n",
       "    <tr>\n",
       "      <th>43</th>\n",
       "      <td>4.061586e-02</td>\n",
       "      <td>0.755683</td>\n",
       "      <td>0.217877</td>\n",
       "      <td>0.782716</td>\n",
       "    </tr>\n",
       "    <tr>\n",
       "      <th>44</th>\n",
       "      <td>5.484417e-02</td>\n",
       "      <td>0.755917</td>\n",
       "      <td>0.217068</td>\n",
       "      <td>0.782817</td>\n",
       "    </tr>\n",
       "    <tr>\n",
       "      <th>45</th>\n",
       "      <td>7.405685e-02</td>\n",
       "      <td>0.756071</td>\n",
       "      <td>0.216424</td>\n",
       "      <td>0.782876</td>\n",
       "    </tr>\n",
       "    <tr>\n",
       "      <th>46</th>\n",
       "      <td>1.000000e-01</td>\n",
       "      <td>0.756173</td>\n",
       "      <td>0.215939</td>\n",
       "      <td>0.782913</td>\n",
       "    </tr>\n",
       "    <tr>\n",
       "      <th>47</th>\n",
       "      <td>1.350314e-01</td>\n",
       "      <td>0.756238</td>\n",
       "      <td>0.215576</td>\n",
       "      <td>0.782930</td>\n",
       "    </tr>\n",
       "    <tr>\n",
       "      <th>48</th>\n",
       "      <td>1.823348e-01</td>\n",
       "      <td>0.756283</td>\n",
       "      <td>0.215291</td>\n",
       "      <td>0.782941</td>\n",
       "    </tr>\n",
       "    <tr>\n",
       "      <th>49</th>\n",
       "      <td>2.462092e-01</td>\n",
       "      <td>0.756304</td>\n",
       "      <td>0.215107</td>\n",
       "      <td>0.782948</td>\n",
       "    </tr>\n",
       "    <tr>\n",
       "      <th>50</th>\n",
       "      <td>3.324598e-01</td>\n",
       "      <td>0.756322</td>\n",
       "      <td>0.214942</td>\n",
       "      <td>0.782972</td>\n",
       "    </tr>\n",
       "    <tr>\n",
       "      <th>51</th>\n",
       "      <td>4.489251e-01</td>\n",
       "      <td>0.756341</td>\n",
       "      <td>0.214827</td>\n",
       "      <td>0.782973</td>\n",
       "    </tr>\n",
       "    <tr>\n",
       "      <th>52</th>\n",
       "      <td>6.061899e-01</td>\n",
       "      <td>0.756351</td>\n",
       "      <td>0.214746</td>\n",
       "      <td>0.782979</td>\n",
       "    </tr>\n",
       "    <tr>\n",
       "      <th>53</th>\n",
       "      <td>8.185467e-01</td>\n",
       "      <td>0.756343</td>\n",
       "      <td>0.214697</td>\n",
       "      <td>0.782983</td>\n",
       "    </tr>\n",
       "    <tr>\n",
       "      <th>54</th>\n",
       "      <td>1.105295e+00</td>\n",
       "      <td>0.756379</td>\n",
       "      <td>0.214579</td>\n",
       "      <td>0.782984</td>\n",
       "    </tr>\n",
       "    <tr>\n",
       "      <th>55</th>\n",
       "      <td>1.492496e+00</td>\n",
       "      <td>0.756360</td>\n",
       "      <td>0.214590</td>\n",
       "      <td>0.782990</td>\n",
       "    </tr>\n",
       "    <tr>\n",
       "      <th>56</th>\n",
       "      <td>2.015338e+00</td>\n",
       "      <td>0.756362</td>\n",
       "      <td>0.214558</td>\n",
       "      <td>0.782991</td>\n",
       "    </tr>\n",
       "    <tr>\n",
       "      <th>57</th>\n",
       "      <td>2.721339e+00</td>\n",
       "      <td>0.756362</td>\n",
       "      <td>0.214556</td>\n",
       "      <td>0.782990</td>\n",
       "    </tr>\n",
       "    <tr>\n",
       "      <th>58</th>\n",
       "      <td>3.674662e+00</td>\n",
       "      <td>0.756355</td>\n",
       "      <td>0.214562</td>\n",
       "      <td>0.782987</td>\n",
       "    </tr>\n",
       "    <tr>\n",
       "      <th>59</th>\n",
       "      <td>4.961948e+00</td>\n",
       "      <td>0.756364</td>\n",
       "      <td>0.214540</td>\n",
       "      <td>0.782989</td>\n",
       "    </tr>\n",
       "    <tr>\n",
       "      <th>60</th>\n",
       "      <td>6.700188e+00</td>\n",
       "      <td>0.756360</td>\n",
       "      <td>0.214548</td>\n",
       "      <td>0.782985</td>\n",
       "    </tr>\n",
       "    <tr>\n",
       "      <th>61</th>\n",
       "      <td>9.047357e+00</td>\n",
       "      <td>0.756364</td>\n",
       "      <td>0.214534</td>\n",
       "      <td>0.782985</td>\n",
       "    </tr>\n",
       "    <tr>\n",
       "      <th>62</th>\n",
       "      <td>1.221677e+01</td>\n",
       "      <td>0.756358</td>\n",
       "      <td>0.214548</td>\n",
       "      <td>0.782984</td>\n",
       "    </tr>\n",
       "    <tr>\n",
       "      <th>63</th>\n",
       "      <td>1.649648e+01</td>\n",
       "      <td>0.756358</td>\n",
       "      <td>0.214546</td>\n",
       "      <td>0.782984</td>\n",
       "    </tr>\n",
       "    <tr>\n",
       "      <th>64</th>\n",
       "      <td>2.227543e+01</td>\n",
       "      <td>0.756357</td>\n",
       "      <td>0.214547</td>\n",
       "      <td>0.782983</td>\n",
       "    </tr>\n",
       "    <tr>\n",
       "      <th>65</th>\n",
       "      <td>3.007883e+01</td>\n",
       "      <td>0.756357</td>\n",
       "      <td>0.214548</td>\n",
       "      <td>0.782982</td>\n",
       "    </tr>\n",
       "    <tr>\n",
       "      <th>66</th>\n",
       "      <td>4.061586e+01</td>\n",
       "      <td>0.756357</td>\n",
       "      <td>0.214549</td>\n",
       "      <td>0.782986</td>\n",
       "    </tr>\n",
       "    <tr>\n",
       "      <th>67</th>\n",
       "      <td>5.484417e+01</td>\n",
       "      <td>0.756356</td>\n",
       "      <td>0.214550</td>\n",
       "      <td>0.782983</td>\n",
       "    </tr>\n",
       "    <tr>\n",
       "      <th>68</th>\n",
       "      <td>7.405685e+01</td>\n",
       "      <td>0.756356</td>\n",
       "      <td>0.214551</td>\n",
       "      <td>0.782983</td>\n",
       "    </tr>\n",
       "    <tr>\n",
       "      <th>69</th>\n",
       "      <td>1.000000e+02</td>\n",
       "      <td>0.756356</td>\n",
       "      <td>0.214550</td>\n",
       "      <td>0.782980</td>\n",
       "    </tr>\n",
       "  </tbody>\n",
       "</table>\n",
       "<p>70 rows × 4 columns</p>\n",
       "</div>"
      ],
      "text/plain": [
       "               C  mean_cv_error  std_cv_error  test_error\n",
       "0   1.000000e-07       0.580319      0.123133    0.603903\n",
       "1   1.350314e-07       0.596025      0.136668    0.616239\n",
       "2   1.823348e-07       0.640106      0.098702    0.641226\n",
       "3   2.462092e-07       0.653556      0.084641    0.664021\n",
       "4   3.324598e-07       0.685450      0.055235    0.686344\n",
       "5   4.489251e-07       0.694925      0.042020    0.693570\n",
       "6   6.061899e-07       0.699042      0.036363    0.696540\n",
       "7   8.185467e-07       0.701011      0.033385    0.698361\n",
       "8   1.105295e-06       0.701964      0.031540    0.699700\n",
       "9   1.492496e-06       0.702533      0.030400    0.700434\n",
       "10  2.015338e-06       0.702853      0.029677    0.700851\n",
       "11  2.721339e-06       0.703000      0.029199    0.701116\n",
       "12  3.674662e-06       0.703041      0.028890    0.701248\n",
       "13  4.961948e-06       0.703010      0.028642    0.701308\n",
       "14  6.700188e-06       0.702957      0.028498    0.701340\n",
       "15  9.047357e-06       0.702876      0.028379    0.701297\n",
       "16  1.221677e-05       0.702771      0.028269    0.701305\n",
       "17  1.649648e-05       0.703109      0.028082    0.702457\n",
       "18  2.227543e-05       0.703925      0.027809    0.704348\n",
       "19  3.007883e-05       0.706089      0.027246    0.706993\n",
       "20  4.061586e-05       0.708037      0.027205    0.708671\n",
       "21  5.484417e-05       0.709145      0.027279    0.709408\n",
       "22  7.405685e-05       0.709528      0.027822    0.710168\n",
       "23  1.000000e-04       0.710008      0.029333    0.710971\n",
       "24  1.350314e-04       0.705694      0.046794    0.724026\n",
       "25  1.823348e-04       0.720327      0.076028    0.734395\n",
       "26  2.462092e-04       0.719724      0.108067    0.743688\n",
       "27  3.324598e-04       0.724182      0.142155    0.751340\n",
       "28  4.489251e-04       0.723998      0.175801    0.759742\n",
       "29  6.061899e-04       0.731007      0.198505    0.765270\n",
       "..           ...            ...           ...         ...\n",
       "40  1.649648e-02       0.754285      0.221370    0.781800\n",
       "41  2.227543e-02       0.754831      0.220088    0.782245\n",
       "42  3.007883e-02       0.755316      0.218927    0.782556\n",
       "43  4.061586e-02       0.755683      0.217877    0.782716\n",
       "44  5.484417e-02       0.755917      0.217068    0.782817\n",
       "45  7.405685e-02       0.756071      0.216424    0.782876\n",
       "46  1.000000e-01       0.756173      0.215939    0.782913\n",
       "47  1.350314e-01       0.756238      0.215576    0.782930\n",
       "48  1.823348e-01       0.756283      0.215291    0.782941\n",
       "49  2.462092e-01       0.756304      0.215107    0.782948\n",
       "50  3.324598e-01       0.756322      0.214942    0.782972\n",
       "51  4.489251e-01       0.756341      0.214827    0.782973\n",
       "52  6.061899e-01       0.756351      0.214746    0.782979\n",
       "53  8.185467e-01       0.756343      0.214697    0.782983\n",
       "54  1.105295e+00       0.756379      0.214579    0.782984\n",
       "55  1.492496e+00       0.756360      0.214590    0.782990\n",
       "56  2.015338e+00       0.756362      0.214558    0.782991\n",
       "57  2.721339e+00       0.756362      0.214556    0.782990\n",
       "58  3.674662e+00       0.756355      0.214562    0.782987\n",
       "59  4.961948e+00       0.756364      0.214540    0.782989\n",
       "60  6.700188e+00       0.756360      0.214548    0.782985\n",
       "61  9.047357e+00       0.756364      0.214534    0.782985\n",
       "62  1.221677e+01       0.756358      0.214548    0.782984\n",
       "63  1.649648e+01       0.756358      0.214546    0.782984\n",
       "64  2.227543e+01       0.756357      0.214547    0.782983\n",
       "65  3.007883e+01       0.756357      0.214548    0.782982\n",
       "66  4.061586e+01       0.756357      0.214549    0.782986\n",
       "67  5.484417e+01       0.756356      0.214550    0.782983\n",
       "68  7.405685e+01       0.756356      0.214551    0.782983\n",
       "69  1.000000e+02       0.756356      0.214550    0.782980\n",
       "\n",
       "[70 rows x 4 columns]"
      ]
     },
     "execution_count": 115,
     "metadata": {},
     "output_type": "execute_result"
    }
   ],
   "source": [
    "errors_df"
   ]
  },
  {
   "cell_type": "code",
   "execution_count": null,
   "metadata": {
    "collapsed": true
   },
   "outputs": [],
   "source": []
  },
  {
   "cell_type": "code",
   "execution_count": 200,
   "metadata": {
    "collapsed": true
   },
   "outputs": [],
   "source": [
    "group_cols = [\n",
    "        'penalty',\n",
    "              'C',\n",
    "]\n",
    "\n",
    "an_col = 'mean_score'\n",
    "param_col = 'C'\n",
    "#.groupby(group_cols)['mean_score'].first()\n",
    "filter_col = 'penalty'\n",
    "filter_val = 'l1'\n",
    "view = (cv_result\n",
    "        .query('{}==@filter_val'.format(filter_col))\n",
    "        [[ param_col,filter_col,an_col]]\n",
    "        #.sort_values('mean_score',ascending=False)\n",
    "       )"
   ]
  },
  {
   "cell_type": "code",
   "execution_count": 201,
   "metadata": {},
   "outputs": [
    {
     "data": {
      "text/plain": [
       "count    200.000000\n",
       "mean       0.802970\n",
       "std        0.001776\n",
       "min        0.802210\n",
       "25%        0.802213\n",
       "50%        0.802226\n",
       "75%        0.802275\n",
       "max        0.809081\n",
       "Name: mean_score, dtype: float64"
      ]
     },
     "execution_count": 201,
     "metadata": {},
     "output_type": "execute_result"
    }
   ],
   "source": [
    "view[an_col].describe()"
   ]
  },
  {
   "cell_type": "code",
   "execution_count": 202,
   "metadata": {},
   "outputs": [
    {
     "data": {
      "text/plain": [
       "<matplotlib.text.Text at 0x10904950>"
      ]
     },
     "execution_count": 202,
     "metadata": {},
     "output_type": "execute_result"
    },
    {
     "data": {
      "image/png": "[encoded data removed]",
      "text/plain": [
       "<matplotlib.figure.Figure at 0x7fc683a94b10>"
      ]
     },
     "metadata": {},
     "output_type": "display_data"
    }
   ],
   "source": [
    "fig, ax = plt.subplots(figsize=(8, 6))\n",
    "# plot histogram on cross validated scores\n",
    "view[an_col].hist()\n",
    "\n",
    "sup_title_str = \"Histogram of CV training scores for different \\\n",
    "parameter values.\"\n",
    "\n",
    "plt.suptitle(\"\\n\".join(wrap(sup_title_str)),\n",
    "         y=1.03,# otherwise twiny and title will overlap\n",
    "         fontsize=18,\n",
    "            )\n",
    "\n",
    "title_str = \"Different $C$ params \\\n",
    "for a Logistic Regression Classifier\\'s with \\\n",
    "{} regularization\".format(\n",
    "    filter_val)\n",
    "\n",
    "plt.title(title_str, fontsize=10)\n",
    "\n",
    "plt.xlabel(\"$C$ Param value\".format(filter_val))\n",
    "plt.ylabel(\"CV {} Score\".format(scoring.capitalize()))\n",
    "\n",
    "\n"
   ]
  },
  {
   "cell_type": "code",
   "execution_count": 203,
   "metadata": {
    "collapsed": true
   },
   "outputs": [],
   "source": [
    "# view = view.sort_values(param_col)\n",
    "# x_vals = view[param_col]\n",
    "# y_vals = view[param_col]\n"
   ]
  },
  {
   "cell_type": "code",
   "execution_count": 204,
   "metadata": {},
   "outputs": [
    {
     "data": {
      "text/plain": [
       "<matplotlib.text.Text at 0x109a7750>"
      ]
     },
     "execution_count": 204,
     "metadata": {},
     "output_type": "execute_result"
    },
    {
     "data": {
      "image/png": "[encoded data removed]",
      "text/plain": [
       "<matplotlib.figure.Figure at 0x1099de90>"
      ]
     },
     "metadata": {},
     "output_type": "display_data"
    }
   ],
   "source": [
    "ax, fig = plt.subplots(figsize=(8,6))\n",
    "# plt.title(\"Validation Curve with Logistic Regression Classifier\")\n",
    "# plt.xlabel(\"Regularization $C$ Param\")\n",
    "# plt.ylabel(\"AUC Score\")\n",
    "# plt.ylim(0.0, 10.1)\n",
    "\n",
    "lw = 1\n",
    "\n",
    "plt.semilogx(\n",
    "    view[param_col], \n",
    "    view[an_col],#\n",
    "                          label=\"Training score\",\n",
    "             color=\"navy\", lw=lw)\n",
    "\n",
    "\n",
    "title_str = \"Cross-validated Training Score \\\n",
    "for a Logistic Regression Classifier\\'s $C$ \\\n",
    "param with {} regularization\".format(\n",
    "    filter_val)\n",
    "\n",
    "plt.title(\"\\n\".join(wrap(title_str)),\n",
    "         y=1,# otherwise twiny and title will overlap\n",
    "         )\n",
    "\n",
    "\n",
    "plt.xlabel(\"$C$ Param\".format(filter_val))\n",
    "plt.ylabel(\"{} Score\".format(scoring.capitalize()))\n"
   ]
  },
  {
   "cell_type": "markdown",
   "metadata": {},
   "source": [
    "## other linspace plot with double axis\n"
   ]
  },
  {
   "cell_type": "code",
   "execution_count": 205,
   "metadata": {},
   "outputs": [
    {
     "data": {
      "text/plain": [
       "<matplotlib.text.Text at 0xe371dd0>"
      ]
     },
     "execution_count": 205,
     "metadata": {},
     "output_type": "execute_result"
    },
    {
     "data": {
      "image/png": "[encoded data removed]",
      "text/plain": [
       "<matplotlib.figure.Figure at 0xe33d110>"
      ]
     },
     "metadata": {},
     "output_type": "display_data"
    }
   ],
   "source": [
    "fig, ax = plt.subplots(figsize=(8, 6))\n",
    "\n",
    "N=50\n",
    "\n",
    "labels = ['Smallest {} $C$ values '.format(N), 'Biggest {} $C$ values '.format(N)]\n",
    "\n",
    "c = palette[0]\n",
    "view.head(N).set_index(param_col)[an_col].plot(\n",
    "    ax=ax,\n",
    "    kind = 'line',\n",
    "    color='b',\n",
    "#     legend=True,\n",
    "    label =labels[0],\n",
    ")\n",
    "\n",
    "# set xlabel \n",
    "# ax.set_xlabel(labels[0])\n",
    "# set series legend\n",
    "# ax.legend(loc=0)\n",
    "\n",
    "# get a new axis to plot on with new color\n",
    "ax2 = ax.twiny()\n",
    "c = palette[1]\n",
    "view.tail(N).set_index(param_col)[an_col].plot(\n",
    "    ax=ax2,\n",
    "    kind = 'line',\n",
    "    color='r',\n",
    "#     legend=True,\n",
    "    label =labels[1],\n",
    "                                               \n",
    "         )\n",
    "\n",
    "ax.set_xlabel(labels[0])\n",
    "ax2.set_xlabel(labels[1])\n",
    "\n",
    "# get all plotted line objects\n",
    "lines = ax.get_lines() + ax2.get_lines()\n",
    "# set a common legend\n",
    "ax.legend(lines, [l.get_label() for l in lines], loc='upper center')\n",
    "\n",
    "# pass those lines legends\n",
    "\n",
    "# # set series legend\n",
    "# ax2.legend(loc='best')\n",
    "\n",
    "\n",
    "title_str = \"Cross-validated Training Score \\\n",
    "for a Logistic Regression Classifier\\'s $C$ \\\n",
    "param with {} regularization\".format(\n",
    "    filter_val)\n",
    "\n",
    "plt.title(\"\\n\".join(wrap(title_str)),\n",
    "         y=1.15,# otherwise twiny and title will overlap\n",
    "         )\n",
    "\n",
    "\n",
    "plt.xlabel(\"$C$ Param\".format(filter_val))\n",
    "plt.ylabel(\"{} Score\".format(scoring.capitalize()))\n",
    "\n",
    "\n"
   ]
  },
  {
   "cell_type": "code",
   "execution_count": null,
   "metadata": {
    "collapsed": true
   },
   "outputs": [],
   "source": []
  },
  {
   "cell_type": "code",
   "execution_count": 108,
   "metadata": {
    "scrolled": true
   },
   "outputs": [
    {
     "data": {
      "text/html": [
       "<div>\n",
       "<style>\n",
       "    .dataframe thead tr:only-child th {\n",
       "        text-align: right;\n",
       "    }\n",
       "\n",
       "    .dataframe thead th {\n",
       "        text-align: left;\n",
       "    }\n",
       "\n",
       "    .dataframe tbody tr th {\n",
       "        vertical-align: top;\n",
       "    }\n",
       "</style>\n",
       "<table border=\"1\" class=\"dataframe\">\n",
       "  <thead>\n",
       "    <tr style=\"text-align: right;\">\n",
       "      <th></th>\n",
       "      <th>C</th>\n",
       "      <th>penalty</th>\n",
       "      <th>mean_score</th>\n",
       "    </tr>\n",
       "  </thead>\n",
       "  <tbody>\n",
       "    <tr>\n",
       "      <th>281</th>\n",
       "      <td>108.436597</td>\n",
       "      <td>l2</td>\n",
       "      <td>0.399861</td>\n",
       "    </tr>\n",
       "    <tr>\n",
       "      <th>283</th>\n",
       "      <td>121.738273</td>\n",
       "      <td>l2</td>\n",
       "      <td>0.401293</td>\n",
       "    </tr>\n",
       "    <tr>\n",
       "      <th>285</th>\n",
       "      <td>136.671636</td>\n",
       "      <td>l2</td>\n",
       "      <td>0.395969</td>\n",
       "    </tr>\n",
       "    <tr>\n",
       "      <th>287</th>\n",
       "      <td>153.436841</td>\n",
       "      <td>l2</td>\n",
       "      <td>0.389284</td>\n",
       "    </tr>\n",
       "    <tr>\n",
       "      <th>289</th>\n",
       "      <td>172.258597</td>\n",
       "      <td>l2</td>\n",
       "      <td>0.385560</td>\n",
       "    </tr>\n",
       "    <tr>\n",
       "      <th>291</th>\n",
       "      <td>193.389175</td>\n",
       "      <td>l2</td>\n",
       "      <td>0.407473</td>\n",
       "    </tr>\n",
       "    <tr>\n",
       "      <th>293</th>\n",
       "      <td>217.111795</td>\n",
       "      <td>l2</td>\n",
       "      <td>0.380661</td>\n",
       "    </tr>\n",
       "    <tr>\n",
       "      <th>295</th>\n",
       "      <td>243.744415</td>\n",
       "      <td>l2</td>\n",
       "      <td>0.380432</td>\n",
       "    </tr>\n",
       "    <tr>\n",
       "      <th>297</th>\n",
       "      <td>273.644000</td>\n",
       "      <td>l2</td>\n",
       "      <td>0.387889</td>\n",
       "    </tr>\n",
       "    <tr>\n",
       "      <th>299</th>\n",
       "      <td>307.211300</td>\n",
       "      <td>l2</td>\n",
       "      <td>0.398666</td>\n",
       "    </tr>\n",
       "    <tr>\n",
       "      <th>301</th>\n",
       "      <td>344.896226</td>\n",
       "      <td>l2</td>\n",
       "      <td>0.377651</td>\n",
       "    </tr>\n",
       "    <tr>\n",
       "      <th>303</th>\n",
       "      <td>387.203878</td>\n",
       "      <td>l2</td>\n",
       "      <td>0.404169</td>\n",
       "    </tr>\n",
       "    <tr>\n",
       "      <th>305</th>\n",
       "      <td>434.701316</td>\n",
       "      <td>l2</td>\n",
       "      <td>0.384196</td>\n",
       "    </tr>\n",
       "    <tr>\n",
       "      <th>307</th>\n",
       "      <td>488.025158</td>\n",
       "      <td>l2</td>\n",
       "      <td>0.383940</td>\n",
       "    </tr>\n",
       "    <tr>\n",
       "      <th>309</th>\n",
       "      <td>547.890118</td>\n",
       "      <td>l2</td>\n",
       "      <td>0.406795</td>\n",
       "    </tr>\n",
       "    <tr>\n",
       "      <th>311</th>\n",
       "      <td>615.098579</td>\n",
       "      <td>l2</td>\n",
       "      <td>0.380244</td>\n",
       "    </tr>\n",
       "    <tr>\n",
       "      <th>313</th>\n",
       "      <td>690.551352</td>\n",
       "      <td>l2</td>\n",
       "      <td>0.377829</td>\n",
       "    </tr>\n",
       "    <tr>\n",
       "      <th>315</th>\n",
       "      <td>775.259749</td>\n",
       "      <td>l2</td>\n",
       "      <td>0.405910</td>\n",
       "    </tr>\n",
       "    <tr>\n",
       "      <th>317</th>\n",
       "      <td>870.359136</td>\n",
       "      <td>l2</td>\n",
       "      <td>0.413266</td>\n",
       "    </tr>\n",
       "    <tr>\n",
       "      <th>319</th>\n",
       "      <td>977.124154</td>\n",
       "      <td>l2</td>\n",
       "      <td>0.385185</td>\n",
       "    </tr>\n",
       "    <tr>\n",
       "      <th>321</th>\n",
       "      <td>1096.985798</td>\n",
       "      <td>l2</td>\n",
       "      <td>0.391688</td>\n",
       "    </tr>\n",
       "    <tr>\n",
       "      <th>323</th>\n",
       "      <td>1231.550603</td>\n",
       "      <td>l2</td>\n",
       "      <td>0.406648</td>\n",
       "    </tr>\n",
       "    <tr>\n",
       "      <th>325</th>\n",
       "      <td>1382.622174</td>\n",
       "      <td>l2</td>\n",
       "      <td>0.395450</td>\n",
       "    </tr>\n",
       "    <tr>\n",
       "      <th>327</th>\n",
       "      <td>1552.225357</td>\n",
       "      <td>l2</td>\n",
       "      <td>0.405521</td>\n",
       "    </tr>\n",
       "    <tr>\n",
       "      <th>329</th>\n",
       "      <td>1742.633386</td>\n",
       "      <td>l2</td>\n",
       "      <td>0.377643</td>\n",
       "    </tr>\n",
       "    <tr>\n",
       "      <th>331</th>\n",
       "      <td>1956.398344</td>\n",
       "      <td>l2</td>\n",
       "      <td>0.409521</td>\n",
       "    </tr>\n",
       "    <tr>\n",
       "      <th>333</th>\n",
       "      <td>2196.385372</td>\n",
       "      <td>l2</td>\n",
       "      <td>0.377190</td>\n",
       "    </tr>\n",
       "    <tr>\n",
       "      <th>335</th>\n",
       "      <td>2465.811076</td>\n",
       "      <td>l2</td>\n",
       "      <td>0.391630</td>\n",
       "    </tr>\n",
       "    <tr>\n",
       "      <th>337</th>\n",
       "      <td>2768.286630</td>\n",
       "      <td>l2</td>\n",
       "      <td>0.405797</td>\n",
       "    </tr>\n",
       "    <tr>\n",
       "      <th>339</th>\n",
       "      <td>3107.866188</td>\n",
       "      <td>l2</td>\n",
       "      <td>0.387168</td>\n",
       "    </tr>\n",
       "    <tr>\n",
       "      <th>341</th>\n",
       "      <td>3489.101213</td>\n",
       "      <td>l2</td>\n",
       "      <td>0.383911</td>\n",
       "    </tr>\n",
       "    <tr>\n",
       "      <th>343</th>\n",
       "      <td>3917.101491</td>\n",
       "      <td>l2</td>\n",
       "      <td>0.378653</td>\n",
       "    </tr>\n",
       "    <tr>\n",
       "      <th>345</th>\n",
       "      <td>4397.603609</td>\n",
       "      <td>l2</td>\n",
       "      <td>0.380389</td>\n",
       "    </tr>\n",
       "    <tr>\n",
       "      <th>347</th>\n",
       "      <td>4937.047853</td>\n",
       "      <td>l2</td>\n",
       "      <td>0.411112</td>\n",
       "    </tr>\n",
       "    <tr>\n",
       "      <th>349</th>\n",
       "      <td>5542.664521</td>\n",
       "      <td>l2</td>\n",
       "      <td>0.408103</td>\n",
       "    </tr>\n",
       "    <tr>\n",
       "      <th>351</th>\n",
       "      <td>6222.570837</td>\n",
       "      <td>l2</td>\n",
       "      <td>0.389446</td>\n",
       "    </tr>\n",
       "    <tr>\n",
       "      <th>353</th>\n",
       "      <td>6985.879747</td>\n",
       "      <td>l2</td>\n",
       "      <td>0.378755</td>\n",
       "    </tr>\n",
       "    <tr>\n",
       "      <th>355</th>\n",
       "      <td>7842.822061</td>\n",
       "      <td>l2</td>\n",
       "      <td>0.381505</td>\n",
       "    </tr>\n",
       "    <tr>\n",
       "      <th>357</th>\n",
       "      <td>8804.883582</td>\n",
       "      <td>l2</td>\n",
       "      <td>0.377421</td>\n",
       "    </tr>\n",
       "    <tr>\n",
       "      <th>359</th>\n",
       "      <td>9884.959047</td>\n",
       "      <td>l2</td>\n",
       "      <td>0.385547</td>\n",
       "    </tr>\n",
       "    <tr>\n",
       "      <th>361</th>\n",
       "      <td>11097.524964</td>\n",
       "      <td>l2</td>\n",
       "      <td>0.400973</td>\n",
       "    </tr>\n",
       "    <tr>\n",
       "      <th>363</th>\n",
       "      <td>12458.833643</td>\n",
       "      <td>l2</td>\n",
       "      <td>0.410306</td>\n",
       "    </tr>\n",
       "    <tr>\n",
       "      <th>365</th>\n",
       "      <td>13987.131026</td>\n",
       "      <td>l2</td>\n",
       "      <td>0.394954</td>\n",
       "    </tr>\n",
       "    <tr>\n",
       "      <th>367</th>\n",
       "      <td>15702.901247</td>\n",
       "      <td>l2</td>\n",
       "      <td>0.386756</td>\n",
       "    </tr>\n",
       "    <tr>\n",
       "      <th>369</th>\n",
       "      <td>17629.141181</td>\n",
       "      <td>l2</td>\n",
       "      <td>0.393072</td>\n",
       "    </tr>\n",
       "    <tr>\n",
       "      <th>371</th>\n",
       "      <td>19791.668679</td>\n",
       "      <td>l2</td>\n",
       "      <td>0.384939</td>\n",
       "    </tr>\n",
       "    <tr>\n",
       "      <th>373</th>\n",
       "      <td>22219.468609</td>\n",
       "      <td>l2</td>\n",
       "      <td>0.401353</td>\n",
       "    </tr>\n",
       "    <tr>\n",
       "      <th>375</th>\n",
       "      <td>24945.081352</td>\n",
       "      <td>l2</td>\n",
       "      <td>0.425352</td>\n",
       "    </tr>\n",
       "    <tr>\n",
       "      <th>377</th>\n",
       "      <td>28005.038942</td>\n",
       "      <td>l2</td>\n",
       "      <td>0.390488</td>\n",
       "    </tr>\n",
       "    <tr>\n",
       "      <th>379</th>\n",
       "      <td>31440.354716</td>\n",
       "      <td>l2</td>\n",
       "      <td>0.407668</td>\n",
       "    </tr>\n",
       "    <tr>\n",
       "      <th>381</th>\n",
       "      <td>35297.073027</td>\n",
       "      <td>l2</td>\n",
       "      <td>0.418337</td>\n",
       "    </tr>\n",
       "    <tr>\n",
       "      <th>383</th>\n",
       "      <td>39626.886387</td>\n",
       "      <td>l2</td>\n",
       "      <td>0.380862</td>\n",
       "    </tr>\n",
       "    <tr>\n",
       "      <th>385</th>\n",
       "      <td>44487.828311</td>\n",
       "      <td>l2</td>\n",
       "      <td>0.389284</td>\n",
       "    </tr>\n",
       "    <tr>\n",
       "      <th>387</th>\n",
       "      <td>49945.051159</td>\n",
       "      <td>l2</td>\n",
       "      <td>0.389927</td>\n",
       "    </tr>\n",
       "    <tr>\n",
       "      <th>389</th>\n",
       "      <td>56071.699382</td>\n",
       "      <td>l2</td>\n",
       "      <td>0.376942</td>\n",
       "    </tr>\n",
       "    <tr>\n",
       "      <th>391</th>\n",
       "      <td>62949.889902</td>\n",
       "      <td>l2</td>\n",
       "      <td>0.405721</td>\n",
       "    </tr>\n",
       "    <tr>\n",
       "      <th>393</th>\n",
       "      <td>70671.812739</td>\n",
       "      <td>l2</td>\n",
       "      <td>0.386395</td>\n",
       "    </tr>\n",
       "    <tr>\n",
       "      <th>395</th>\n",
       "      <td>79340.966658</td>\n",
       "      <td>l2</td>\n",
       "      <td>0.385966</td>\n",
       "    </tr>\n",
       "    <tr>\n",
       "      <th>397</th>\n",
       "      <td>89073.546386</td>\n",
       "      <td>l2</td>\n",
       "      <td>0.398113</td>\n",
       "    </tr>\n",
       "    <tr>\n",
       "      <th>399</th>\n",
       "      <td>100000.000000</td>\n",
       "      <td>l2</td>\n",
       "      <td>0.395078</td>\n",
       "    </tr>\n",
       "  </tbody>\n",
       "</table>\n",
       "</div>"
      ],
      "text/plain": [
       "                 C penalty  mean_score\n",
       "281     108.436597      l2    0.399861\n",
       "283     121.738273      l2    0.401293\n",
       "285     136.671636      l2    0.395969\n",
       "287     153.436841      l2    0.389284\n",
       "289     172.258597      l2    0.385560\n",
       "291     193.389175      l2    0.407473\n",
       "293     217.111795      l2    0.380661\n",
       "295     243.744415      l2    0.380432\n",
       "297     273.644000      l2    0.387889\n",
       "299     307.211300      l2    0.398666\n",
       "301     344.896226      l2    0.377651\n",
       "303     387.203878      l2    0.404169\n",
       "305     434.701316      l2    0.384196\n",
       "307     488.025158      l2    0.383940\n",
       "309     547.890118      l2    0.406795\n",
       "311     615.098579      l2    0.380244\n",
       "313     690.551352      l2    0.377829\n",
       "315     775.259749      l2    0.405910\n",
       "317     870.359136      l2    0.413266\n",
       "319     977.124154      l2    0.385185\n",
       "321    1096.985798      l2    0.391688\n",
       "323    1231.550603      l2    0.406648\n",
       "325    1382.622174      l2    0.395450\n",
       "327    1552.225357      l2    0.405521\n",
       "329    1742.633386      l2    0.377643\n",
       "331    1956.398344      l2    0.409521\n",
       "333    2196.385372      l2    0.377190\n",
       "335    2465.811076      l2    0.391630\n",
       "337    2768.286630      l2    0.405797\n",
       "339    3107.866188      l2    0.387168\n",
       "341    3489.101213      l2    0.383911\n",
       "343    3917.101491      l2    0.378653\n",
       "345    4397.603609      l2    0.380389\n",
       "347    4937.047853      l2    0.411112\n",
       "349    5542.664521      l2    0.408103\n",
       "351    6222.570837      l2    0.389446\n",
       "353    6985.879747      l2    0.378755\n",
       "355    7842.822061      l2    0.381505\n",
       "357    8804.883582      l2    0.377421\n",
       "359    9884.959047      l2    0.385547\n",
       "361   11097.524964      l2    0.400973\n",
       "363   12458.833643      l2    0.410306\n",
       "365   13987.131026      l2    0.394954\n",
       "367   15702.901247      l2    0.386756\n",
       "369   17629.141181      l2    0.393072\n",
       "371   19791.668679      l2    0.384939\n",
       "373   22219.468609      l2    0.401353\n",
       "375   24945.081352      l2    0.425352\n",
       "377   28005.038942      l2    0.390488\n",
       "379   31440.354716      l2    0.407668\n",
       "381   35297.073027      l2    0.418337\n",
       "383   39626.886387      l2    0.380862\n",
       "385   44487.828311      l2    0.389284\n",
       "387   49945.051159      l2    0.389927\n",
       "389   56071.699382      l2    0.376942\n",
       "391   62949.889902      l2    0.405721\n",
       "393   70671.812739      l2    0.386395\n",
       "395   79340.966658      l2    0.385966\n",
       "397   89073.546386      l2    0.398113\n",
       "399  100000.000000      l2    0.395078"
      ]
     },
     "execution_count": 108,
     "metadata": {},
     "output_type": "execute_result"
    }
   ],
   "source": [
    "view.tail(60)"
   ]
  },
  {
   "cell_type": "code",
   "execution_count": null,
   "metadata": {
    "collapsed": true
   },
   "outputs": [],
   "source": []
  },
  {
   "cell_type": "code",
   "execution_count": null,
   "metadata": {
    "collapsed": true
   },
   "outputs": [],
   "source": []
  },
  {
   "cell_type": "markdown",
   "metadata": {},
   "source": [
    "## now get erros along the cv procedure and plot"
   ]
  },
  {
   "cell_type": "code",
   "execution_count": null,
   "metadata": {
    "collapsed": true
   },
   "outputs": [],
   "source": [
    "# reverse_scores_train = 1 - train_scores\n",
    "# reverse_scores_test = 1 - test_scores\n",
    "\n",
    "train_scores_mean = errors\n",
    "train_scores_std = pd.np.std(errors)\n",
    "test_scores_mean = errors_val\n",
    "test_scores_std = pd.np.std(errors_val)"
   ]
  },
  {
   "cell_type": "code",
   "execution_count": null,
   "metadata": {
    "collapsed": true
   },
   "outputs": [],
   "source": [
    "pd.np.std(errors), param_range.shape, train_scores_mean.shape, test_scores_mean.shape, train_scores_std.shape"
   ]
  },
  {
   "cell_type": "code",
   "execution_count": null,
   "metadata": {
    "collapsed": true
   },
   "outputs": [],
   "source": [
    "size = param_range.shape[0]\n",
    "#i = 0.002\n",
    "#pd.np.linspace(1+i,1,size)"
   ]
  },
  {
   "cell_type": "code",
   "execution_count": null,
   "metadata": {
    "collapsed": true
   },
   "outputs": [],
   "source": [
    "ax, fig = plt.subplots(figsize=(8,6))\n",
    "plt.title(\"Validation Curve with Logistic Regression Classifier\")\n",
    "plt.xlabel(\"Regularization $C$ Param\")\n",
    "plt.ylabel(\"AUC Score\")\n",
    "# plt.ylim(0.0, 10.1)\n",
    "\n",
    "lw = 1\n",
    "\n",
    "plt.semilogx(param_range, train_scores_mean,#\n",
    "                          label=\"Training score\",\n",
    "             color=\"navy\", lw=lw)\n",
    "\n",
    "# plt.fill_between(param_range, train_scores_mean - train_scores_std,\n",
    "#                  train_scores_mean + train_scores_std, alpha=0.2,\n",
    "#                  color=\"blue\", lw=lw)\n",
    "\n",
    "plt.semilogx(param_range, test_scores_mean,#\n",
    "             label=\"score for test set\",\n",
    "             color=\"darkorange\", lw=lw)\n",
    "\n",
    "# plt.fill_between(param_range, test_scores_mean - test_scores_std,\n",
    "#                  test_scores_mean + test_scores_std, alpha=0.2,\n",
    "#                  color=\"red\", lw=lw)\n",
    "\n",
    "plt.legend(loc=\"best\")"
   ]
  },
  {
   "cell_type": "code",
   "execution_count": null,
   "metadata": {
    "collapsed": true
   },
   "outputs": [],
   "source": []
  },
  {
   "cell_type": "markdown",
   "metadata": {},
   "source": [
    "# REST of shit"
   ]
  },
  {
   "cell_type": "markdown",
   "metadata": {},
   "source": [
    "### Count Featurizer on Antennas\n",
    "nos quedamos con las columnas de antennas y en graphlab aplicamos el algo de CountFeaturizer para cada categoria de\n",
    "Antenna_ID_N\n"
   ]
  },
  {
   "cell_type": "code",
   "execution_count": null,
   "metadata": {
    "collapsed": true
   },
   "outputs": [],
   "source": [
    "%%time\n",
    "import graphlab as gl\n",
    "from graphlab.toolkits.feature_engineering import *\n",
    "ant_cols = [col for col in X_train.columns if \"ANTENNA_ID\" in col]\n",
    "ant_sframe_fit = gl.SFrame(X_fit[ant_cols + ['y']])\n",
    "ant_sframe_train = gl.SFrame(X_train[ant_cols + ['y']])\n",
    "ant_sframe_val = gl.SFrame(X_val[ant_cols + ['y']])"
   ]
  },
  {
   "cell_type": "code",
   "execution_count": null,
   "metadata": {
    "collapsed": true
   },
   "outputs": [],
   "source": [
    "%%time\n",
    "countfeat = gl.feature_engineering.create(ant_sframe_fit, \n",
    "               CountFeaturizer(target='y'))\n",
    "\n",
    "# Transform the train set. This is the dataset I will train my classifier on\n",
    "transformed_ant_train = countfeat.transform(ant_sframe_train)\n",
    "transformed_ant_val = countfeat.transform(ant_sframe_val)\n",
    "\n",
    "del ant_sframe_fit,ant_sframe_train,ant_sframe_val\n",
    "\n",
    "#por alguna razon guarda los valores de probabilidad como una lista de un unico valor\n",
    "for col in [col for col in transformed_ant_train.column_names() if \"prob_\" in col]:\n",
    "    transformed_ant_train[col] = transformed_ant_train[col].apply(lambda x: x[0]) \n",
    "    transformed_ant_val[col] = transformed_ant_val[col].apply(lambda x: x[0]) \n",
    "\n",
    "#me quedo solo con los valores de probabilidad.\n",
    "transformed_ant_train = transformed_ant_train[[col for col in transformed_ant_train.column_names() if \"prob_\" in col]]\n",
    "transformed_ant_val = transformed_ant_val[[col for col in transformed_ant_train.column_names() if \"prob_\" in col]]\n",
    "\n",
    "transformed_ant_val = transformed_ant_val.to_dataframe()\n",
    "transformed_ant_train = transformed_ant_train.to_dataframe()"
   ]
  },
  {
   "cell_type": "code",
   "execution_count": null,
   "metadata": {
    "collapsed": true
   },
   "outputs": [],
   "source": [
    "X_val[ant_cols] = transformed_ant_val.values\n",
    "X_train[ant_cols] = transformed_ant_train.values\n",
    "del transformed_ant_train, transformed_ant_val"
   ]
  },
  {
   "cell_type": "markdown",
   "metadata": {},
   "source": [
    "### Cross Validate SGD"
   ]
  },
  {
   "cell_type": "code",
   "execution_count": null,
   "metadata": {
    "collapsed": true
   },
   "outputs": [],
   "source": [
    "param_grid = [\n",
    "  { 'alpha': [1e-3,5*1e-3,1e-2], 'l1_ratio': [3*1e-2,1e-3,6*1e-4], 'n_iter': [2,3]\n",
    "  }\n",
    "    ]"
   ]
  },
  {
   "cell_type": "code",
   "execution_count": 37,
   "metadata": {
    "scrolled": true
   },
   "outputs": [
    {
     "name": "stdout",
     "output_type": "stream",
     "text": [
      "Fitting 3 folds for each of 18 candidates, totalling 54 fits\n"
     ]
    },
    {
     "name": "stderr",
     "output_type": "stream",
     "text": [
      "/home/ubuntu/Virtualenvs/mateo/lib/python3.4/site-packages/sklearn/externals/joblib/hashing.py:197: DeprecationWarning: Changing the shape of non-C contiguous array by\n",
      "descriptor assignment is deprecated. To maintain\n",
      "the Fortran contiguity of a multidimensional Fortran\n",
      "array, use 'a.T.view(...).T' instead\n",
      "  obj_bytes_view = obj.view(self.np.uint8)\n"
     ]
    },
    {
     "name": "stdout",
     "output_type": "stream",
     "text": [
      "[CV] n_iter=2, alpha=0.001, l1_ratio=0.03 ............................\n"
     ]
    },
    {
     "name": "stderr",
     "output_type": "stream",
     "text": [
      "/home/ubuntu/Virtualenvs/mateo/lib/python3.4/site-packages/sklearn/externals/joblib/hashing.py:197: DeprecationWarning: Changing the shape of non-C contiguous array by\n",
      "descriptor assignment is deprecated. To maintain\n",
      "the Fortran contiguity of a multidimensional Fortran\n",
      "array, use 'a.T.view(...).T' instead\n",
      "  obj_bytes_view = obj.view(self.np.uint8)\n"
     ]
    },
    {
     "name": "stdout",
     "output_type": "stream",
     "text": [
      "[CV] n_iter=2, alpha=0.001, l1_ratio=0.03 ............................\n"
     ]
    },
    {
     "name": "stderr",
     "output_type": "stream",
     "text": [
      "/home/ubuntu/Virtualenvs/mateo/lib/python3.4/site-packages/sklearn/externals/joblib/hashing.py:197: DeprecationWarning: Changing the shape of non-C contiguous array by\n",
      "descriptor assignment is deprecated. To maintain\n",
      "the Fortran contiguity of a multidimensional Fortran\n",
      "array, use 'a.T.view(...).T' instead\n",
      "  obj_bytes_view = obj.view(self.np.uint8)\n"
     ]
    },
    {
     "name": "stdout",
     "output_type": "stream",
     "text": [
      "[CV] ... n_iter=2, alpha=0.001, l1_ratio=0.03, score=0.125354 -   2.5s\n",
      "[CV] n_iter=2, alpha=0.001, l1_ratio=0.03 ............................\n"
     ]
    },
    {
     "name": "stderr",
     "output_type": "stream",
     "text": [
      "/home/ubuntu/Virtualenvs/mateo/lib/python3.4/site-packages/sklearn/externals/joblib/hashing.py:197: DeprecationWarning: Changing the shape of non-C contiguous array by\n",
      "descriptor assignment is deprecated. To maintain\n",
      "the Fortran contiguity of a multidimensional Fortran\n",
      "array, use 'a.T.view(...).T' instead\n",
      "  obj_bytes_view = obj.view(self.np.uint8)\n"
     ]
    },
    {
     "name": "stdout",
     "output_type": "stream",
     "text": [
      "[CV] ... n_iter=2, alpha=0.001, l1_ratio=0.03, score=0.127442 -   2.5s\n",
      "[CV] n_iter=3, alpha=0.001, l1_ratio=0.03 ............................\n"
     ]
    },
    {
     "name": "stderr",
     "output_type": "stream",
     "text": [
      "/home/ubuntu/Virtualenvs/mateo/lib/python3.4/site-packages/sklearn/externals/joblib/hashing.py:197: DeprecationWarning: Changing the shape of non-C contiguous array by\n",
      "descriptor assignment is deprecated. To maintain\n",
      "the Fortran contiguity of a multidimensional Fortran\n",
      "array, use 'a.T.view(...).T' instead\n",
      "  obj_bytes_view = obj.view(self.np.uint8)\n"
     ]
    },
    {
     "name": "stdout",
     "output_type": "stream",
     "text": [
      "[CV] ... n_iter=2, alpha=0.001, l1_ratio=0.03, score=0.119463 -   2.5s\n",
      "[CV] n_iter=3, alpha=0.001, l1_ratio=0.03 ............................\n"
     ]
    },
    {
     "name": "stderr",
     "output_type": "stream",
     "text": [
      "/home/ubuntu/Virtualenvs/mateo/lib/python3.4/site-packages/sklearn/externals/joblib/hashing.py:197: DeprecationWarning: Changing the shape of non-C contiguous array by\n",
      "descriptor assignment is deprecated. To maintain\n",
      "the Fortran contiguity of a multidimensional Fortran\n",
      "array, use 'a.T.view(...).T' instead\n",
      "  obj_bytes_view = obj.view(self.np.uint8)\n"
     ]
    },
    {
     "name": "stdout",
     "output_type": "stream",
     "text": [
      "[CV] ... n_iter=3, alpha=0.001, l1_ratio=0.03, score=0.132910 -   3.1s\n",
      "[CV] n_iter=3, alpha=0.001, l1_ratio=0.03 ............................\n"
     ]
    },
    {
     "name": "stderr",
     "output_type": "stream",
     "text": [
      "/home/ubuntu/Virtualenvs/mateo/lib/python3.4/site-packages/sklearn/externals/joblib/hashing.py:197: DeprecationWarning: Changing the shape of non-C contiguous array by\n",
      "descriptor assignment is deprecated. To maintain\n",
      "the Fortran contiguity of a multidimensional Fortran\n",
      "array, use 'a.T.view(...).T' instead\n",
      "  obj_bytes_view = obj.view(self.np.uint8)\n"
     ]
    },
    {
     "name": "stdout",
     "output_type": "stream",
     "text": [
      "[CV] ... n_iter=3, alpha=0.001, l1_ratio=0.03, score=0.133858 -   3.1s\n",
      "[CV] n_iter=2, alpha=0.001, l1_ratio=0.001 ...........................\n"
     ]
    },
    {
     "name": "stderr",
     "output_type": "stream",
     "text": [
      "/home/ubuntu/Virtualenvs/mateo/lib/python3.4/site-packages/sklearn/externals/joblib/hashing.py:197: DeprecationWarning: Changing the shape of non-C contiguous array by\n",
      "descriptor assignment is deprecated. To maintain\n",
      "the Fortran contiguity of a multidimensional Fortran\n",
      "array, use 'a.T.view(...).T' instead\n",
      "  obj_bytes_view = obj.view(self.np.uint8)\n"
     ]
    },
    {
     "name": "stdout",
     "output_type": "stream",
     "text": [
      "[CV] ... n_iter=3, alpha=0.001, l1_ratio=0.03, score=0.125862 -   3.1s\n",
      "[CV] n_iter=2, alpha=0.001, l1_ratio=0.001 ...........................\n"
     ]
    },
    {
     "name": "stderr",
     "output_type": "stream",
     "text": [
      "/home/ubuntu/Virtualenvs/mateo/lib/python3.4/site-packages/sklearn/externals/joblib/hashing.py:197: DeprecationWarning: Changing the shape of non-C contiguous array by\n",
      "descriptor assignment is deprecated. To maintain\n",
      "the Fortran contiguity of a multidimensional Fortran\n",
      "array, use 'a.T.view(...).T' instead\n",
      "  obj_bytes_view = obj.view(self.np.uint8)\n"
     ]
    },
    {
     "name": "stdout",
     "output_type": "stream",
     "text": [
      "[CV] .. n_iter=2, alpha=0.001, l1_ratio=0.001, score=0.114065 -   2.5s\n",
      "[CV] n_iter=2, alpha=0.001, l1_ratio=0.001 ...........................\n"
     ]
    },
    {
     "name": "stderr",
     "output_type": "stream",
     "text": [
      "/home/ubuntu/Virtualenvs/mateo/lib/python3.4/site-packages/sklearn/externals/joblib/hashing.py:197: DeprecationWarning: Changing the shape of non-C contiguous array by\n",
      "descriptor assignment is deprecated. To maintain\n",
      "the Fortran contiguity of a multidimensional Fortran\n",
      "array, use 'a.T.view(...).T' instead\n",
      "  obj_bytes_view = obj.view(self.np.uint8)\n"
     ]
    },
    {
     "name": "stdout",
     "output_type": "stream",
     "text": [
      "[CV] .. n_iter=2, alpha=0.001, l1_ratio=0.001, score=0.125576 -   2.5s\n",
      "[CV] n_iter=3, alpha=0.001, l1_ratio=0.001 ...........................\n"
     ]
    },
    {
     "name": "stderr",
     "output_type": "stream",
     "text": [
      "/home/ubuntu/Virtualenvs/mateo/lib/python3.4/site-packages/sklearn/externals/joblib/hashing.py:197: DeprecationWarning: Changing the shape of non-C contiguous array by\n",
      "descriptor assignment is deprecated. To maintain\n",
      "the Fortran contiguity of a multidimensional Fortran\n",
      "array, use 'a.T.view(...).T' instead\n",
      "  obj_bytes_view = obj.view(self.np.uint8)\n"
     ]
    },
    {
     "name": "stdout",
     "output_type": "stream",
     "text": [
      "[CV] .. n_iter=2, alpha=0.001, l1_ratio=0.001, score=0.125882 -   2.8s\n",
      "[CV] n_iter=3, alpha=0.001, l1_ratio=0.001 ...........................\n"
     ]
    },
    {
     "name": "stderr",
     "output_type": "stream",
     "text": [
      "/home/ubuntu/Virtualenvs/mateo/lib/python3.4/site-packages/sklearn/externals/joblib/hashing.py:197: DeprecationWarning: Changing the shape of non-C contiguous array by\n",
      "descriptor assignment is deprecated. To maintain\n",
      "the Fortran contiguity of a multidimensional Fortran\n",
      "array, use 'a.T.view(...).T' instead\n",
      "  obj_bytes_view = obj.view(self.np.uint8)\n"
     ]
    },
    {
     "name": "stdout",
     "output_type": "stream",
     "text": [
      "[CV] .. n_iter=3, alpha=0.001, l1_ratio=0.001, score=0.138072 -   3.3s\n",
      "[CV] n_iter=3, alpha=0.001, l1_ratio=0.001 ...........................\n"
     ]
    },
    {
     "name": "stderr",
     "output_type": "stream",
     "text": [
      "/home/ubuntu/Virtualenvs/mateo/lib/python3.4/site-packages/sklearn/externals/joblib/hashing.py:197: DeprecationWarning: Changing the shape of non-C contiguous array by\n",
      "descriptor assignment is deprecated. To maintain\n",
      "the Fortran contiguity of a multidimensional Fortran\n",
      "array, use 'a.T.view(...).T' instead\n",
      "  obj_bytes_view = obj.view(self.np.uint8)\n"
     ]
    },
    {
     "name": "stdout",
     "output_type": "stream",
     "text": [
      "[CV] .. n_iter=3, alpha=0.001, l1_ratio=0.001, score=0.133482 -   3.1s\n",
      "[CV] n_iter=2, alpha=0.001, l1_ratio=0.0006000000000000001 ...........\n"
     ]
    },
    {
     "name": "stderr",
     "output_type": "stream",
     "text": [
      "/home/ubuntu/Virtualenvs/mateo/lib/python3.4/site-packages/sklearn/externals/joblib/hashing.py:197: DeprecationWarning: Changing the shape of non-C contiguous array by\n",
      "descriptor assignment is deprecated. To maintain\n",
      "the Fortran contiguity of a multidimensional Fortran\n",
      "array, use 'a.T.view(...).T' instead\n",
      "  obj_bytes_view = obj.view(self.np.uint8)\n"
     ]
    },
    {
     "name": "stdout",
     "output_type": "stream",
     "text": [
      "[CV] .. n_iter=3, alpha=0.001, l1_ratio=0.001, score=0.133945 -   3.2s\n",
      "[CV] n_iter=2, alpha=0.001, l1_ratio=0.0006000000000000001 ...........\n"
     ]
    },
    {
     "name": "stderr",
     "output_type": "stream",
     "text": [
      "/home/ubuntu/Virtualenvs/mateo/lib/python3.4/site-packages/sklearn/externals/joblib/hashing.py:197: DeprecationWarning: Changing the shape of non-C contiguous array by\n",
      "descriptor assignment is deprecated. To maintain\n",
      "the Fortran contiguity of a multidimensional Fortran\n",
      "array, use 'a.T.view(...).T' instead\n",
      "  obj_bytes_view = obj.view(self.np.uint8)\n"
     ]
    },
    {
     "name": "stdout",
     "output_type": "stream",
     "text": [
      "[CV]  n_iter=2, alpha=0.001, l1_ratio=0.0006000000000000001, score=0.124318 -   2.5s\n",
      "[CV] n_iter=2, alpha=0.001, l1_ratio=0.0006000000000000001 ...........\n"
     ]
    },
    {
     "name": "stderr",
     "output_type": "stream",
     "text": [
      "/home/ubuntu/Virtualenvs/mateo/lib/python3.4/site-packages/sklearn/externals/joblib/hashing.py:197: DeprecationWarning: Changing the shape of non-C contiguous array by\n",
      "descriptor assignment is deprecated. To maintain\n",
      "the Fortran contiguity of a multidimensional Fortran\n",
      "array, use 'a.T.view(...).T' instead\n",
      "  obj_bytes_view = obj.view(self.np.uint8)\n"
     ]
    },
    {
     "name": "stdout",
     "output_type": "stream",
     "text": [
      "[CV]  n_iter=2, alpha=0.001, l1_ratio=0.0006000000000000001, score=0.125224 -   2.5s\n",
      "[CV] n_iter=3, alpha=0.001, l1_ratio=0.0006000000000000001 ...........\n"
     ]
    },
    {
     "name": "stderr",
     "output_type": "stream",
     "text": [
      "/home/ubuntu/Virtualenvs/mateo/lib/python3.4/site-packages/sklearn/externals/joblib/hashing.py:197: DeprecationWarning: Changing the shape of non-C contiguous array by\n",
      "descriptor assignment is deprecated. To maintain\n",
      "the Fortran contiguity of a multidimensional Fortran\n",
      "array, use 'a.T.view(...).T' instead\n",
      "  obj_bytes_view = obj.view(self.np.uint8)\n"
     ]
    },
    {
     "name": "stdout",
     "output_type": "stream",
     "text": [
      "[CV]  n_iter=2, alpha=0.001, l1_ratio=0.0006000000000000001, score=0.129423 -   2.5s\n",
      "[CV] n_iter=3, alpha=0.001, l1_ratio=0.0006000000000000001 ...........\n"
     ]
    },
    {
     "name": "stderr",
     "output_type": "stream",
     "text": [
      "/home/ubuntu/Virtualenvs/mateo/lib/python3.4/site-packages/sklearn/externals/joblib/hashing.py:197: DeprecationWarning: Changing the shape of non-C contiguous array by\n",
      "descriptor assignment is deprecated. To maintain\n",
      "the Fortran contiguity of a multidimensional Fortran\n",
      "array, use 'a.T.view(...).T' instead\n",
      "  obj_bytes_view = obj.view(self.np.uint8)\n"
     ]
    },
    {
     "name": "stdout",
     "output_type": "stream",
     "text": [
      "[CV]  n_iter=3, alpha=0.001, l1_ratio=0.0006000000000000001, score=0.131845 -   3.1s\n",
      "[CV] n_iter=3, alpha=0.001, l1_ratio=0.0006000000000000001 ...........\n"
     ]
    },
    {
     "name": "stderr",
     "output_type": "stream",
     "text": [
      "/home/ubuntu/Virtualenvs/mateo/lib/python3.4/site-packages/sklearn/externals/joblib/hashing.py:197: DeprecationWarning: Changing the shape of non-C contiguous array by\n",
      "descriptor assignment is deprecated. To maintain\n",
      "the Fortran contiguity of a multidimensional Fortran\n",
      "array, use 'a.T.view(...).T' instead\n",
      "  obj_bytes_view = obj.view(self.np.uint8)\n"
     ]
    },
    {
     "name": "stdout",
     "output_type": "stream",
     "text": [
      "[CV]  n_iter=3, alpha=0.001, l1_ratio=0.0006000000000000001, score=0.135827 -   3.1s\n",
      "[CV] n_iter=2, alpha=0.005, l1_ratio=0.03 ............................\n"
     ]
    },
    {
     "name": "stderr",
     "output_type": "stream",
     "text": [
      "/home/ubuntu/Virtualenvs/mateo/lib/python3.4/site-packages/sklearn/externals/joblib/hashing.py:197: DeprecationWarning: Changing the shape of non-C contiguous array by\n",
      "descriptor assignment is deprecated. To maintain\n",
      "the Fortran contiguity of a multidimensional Fortran\n",
      "array, use 'a.T.view(...).T' instead\n",
      "  obj_bytes_view = obj.view(self.np.uint8)\n"
     ]
    },
    {
     "name": "stdout",
     "output_type": "stream",
     "text": [
      "[CV]  n_iter=3, alpha=0.001, l1_ratio=0.0006000000000000001, score=0.128485 -   3.1s\n",
      "[CV] n_iter=2, alpha=0.005, l1_ratio=0.03 ............................\n"
     ]
    },
    {
     "name": "stderr",
     "output_type": "stream",
     "text": [
      "/home/ubuntu/Virtualenvs/mateo/lib/python3.4/site-packages/sklearn/externals/joblib/hashing.py:197: DeprecationWarning: Changing the shape of non-C contiguous array by\n",
      "descriptor assignment is deprecated. To maintain\n",
      "the Fortran contiguity of a multidimensional Fortran\n",
      "array, use 'a.T.view(...).T' instead\n",
      "  obj_bytes_view = obj.view(self.np.uint8)\n"
     ]
    },
    {
     "name": "stdout",
     "output_type": "stream",
     "text": [
      "[CV] ... n_iter=2, alpha=0.005, l1_ratio=0.03, score=0.125477 -   2.4s\n",
      "[CV] n_iter=2, alpha=0.005, l1_ratio=0.03 ............................\n"
     ]
    },
    {
     "name": "stderr",
     "output_type": "stream",
     "text": [
      "/home/ubuntu/Virtualenvs/mateo/lib/python3.4/site-packages/sklearn/externals/joblib/hashing.py:197: DeprecationWarning: Changing the shape of non-C contiguous array by\n",
      "descriptor assignment is deprecated. To maintain\n",
      "the Fortran contiguity of a multidimensional Fortran\n",
      "array, use 'a.T.view(...).T' instead\n",
      "  obj_bytes_view = obj.view(self.np.uint8)\n"
     ]
    },
    {
     "name": "stdout",
     "output_type": "stream",
     "text": [
      "[CV] ... n_iter=2, alpha=0.005, l1_ratio=0.03, score=0.125957 -   2.8s\n",
      "[CV] n_iter=3, alpha=0.005, l1_ratio=0.03 ............................\n"
     ]
    },
    {
     "name": "stderr",
     "output_type": "stream",
     "text": [
      "/home/ubuntu/Virtualenvs/mateo/lib/python3.4/site-packages/sklearn/externals/joblib/hashing.py:197: DeprecationWarning: Changing the shape of non-C contiguous array by\n",
      "descriptor assignment is deprecated. To maintain\n",
      "the Fortran contiguity of a multidimensional Fortran\n",
      "array, use 'a.T.view(...).T' instead\n",
      "  obj_bytes_view = obj.view(self.np.uint8)\n"
     ]
    },
    {
     "name": "stdout",
     "output_type": "stream",
     "text": [
      "[CV] ... n_iter=2, alpha=0.005, l1_ratio=0.03, score=0.127511 -   2.6s\n",
      "[CV] n_iter=3, alpha=0.005, l1_ratio=0.03 ............................\n"
     ]
    },
    {
     "name": "stderr",
     "output_type": "stream",
     "text": [
      "/home/ubuntu/Virtualenvs/mateo/lib/python3.4/site-packages/sklearn/externals/joblib/hashing.py:197: DeprecationWarning: Changing the shape of non-C contiguous array by\n",
      "descriptor assignment is deprecated. To maintain\n",
      "the Fortran contiguity of a multidimensional Fortran\n",
      "array, use 'a.T.view(...).T' instead\n",
      "  obj_bytes_view = obj.view(self.np.uint8)\n"
     ]
    },
    {
     "name": "stdout",
     "output_type": "stream",
     "text": [
      "[CV] ... n_iter=3, alpha=0.005, l1_ratio=0.03, score=0.127618 -   2.8s\n",
      "[CV] n_iter=3, alpha=0.005, l1_ratio=0.03 ............................\n"
     ]
    },
    {
     "name": "stderr",
     "output_type": "stream",
     "text": [
      "/home/ubuntu/Virtualenvs/mateo/lib/python3.4/site-packages/sklearn/externals/joblib/hashing.py:197: DeprecationWarning: Changing the shape of non-C contiguous array by\n",
      "descriptor assignment is deprecated. To maintain\n",
      "the Fortran contiguity of a multidimensional Fortran\n",
      "array, use 'a.T.view(...).T' instead\n",
      "  obj_bytes_view = obj.view(self.np.uint8)\n"
     ]
    },
    {
     "name": "stdout",
     "output_type": "stream",
     "text": [
      "[CV] ... n_iter=3, alpha=0.005, l1_ratio=0.03, score=0.125386 -   2.8s\n",
      "[CV] n_iter=2, alpha=0.005, l1_ratio=0.001 ...........................\n"
     ]
    },
    {
     "name": "stderr",
     "output_type": "stream",
     "text": [
      "/home/ubuntu/Virtualenvs/mateo/lib/python3.4/site-packages/sklearn/externals/joblib/hashing.py:197: DeprecationWarning: Changing the shape of non-C contiguous array by\n",
      "descriptor assignment is deprecated. To maintain\n",
      "the Fortran contiguity of a multidimensional Fortran\n",
      "array, use 'a.T.view(...).T' instead\n",
      "  obj_bytes_view = obj.view(self.np.uint8)\n"
     ]
    },
    {
     "name": "stdout",
     "output_type": "stream",
     "text": [
      "[CV] ... n_iter=3, alpha=0.005, l1_ratio=0.03, score=0.136983 -   3.0s\n"
     ]
    },
    {
     "name": "stderr",
     "output_type": "stream",
     "text": [
      "[Parallel(n_jobs=4)]: Done  24 tasks      | elapsed:   47.9s\n"
     ]
    },
    {
     "name": "stdout",
     "output_type": "stream",
     "text": [
      "[CV] n_iter=2, alpha=0.005, l1_ratio=0.001 ...........................\n"
     ]
    },
    {
     "name": "stderr",
     "output_type": "stream",
     "text": [
      "/home/ubuntu/Virtualenvs/mateo/lib/python3.4/site-packages/sklearn/externals/joblib/hashing.py:197: DeprecationWarning: Changing the shape of non-C contiguous array by\n",
      "descriptor assignment is deprecated. To maintain\n",
      "the Fortran contiguity of a multidimensional Fortran\n",
      "array, use 'a.T.view(...).T' instead\n",
      "  obj_bytes_view = obj.view(self.np.uint8)\n"
     ]
    },
    {
     "name": "stdout",
     "output_type": "stream",
     "text": [
      "[CV] .. n_iter=2, alpha=0.005, l1_ratio=0.001, score=0.120290 -   2.5s\n",
      "[CV] n_iter=2, alpha=0.005, l1_ratio=0.001 ...........................\n"
     ]
    },
    {
     "name": "stderr",
     "output_type": "stream",
     "text": [
      "/home/ubuntu/Virtualenvs/mateo/lib/python3.4/site-packages/sklearn/externals/joblib/hashing.py:197: DeprecationWarning: Changing the shape of non-C contiguous array by\n",
      "descriptor assignment is deprecated. To maintain\n",
      "the Fortran contiguity of a multidimensional Fortran\n",
      "array, use 'a.T.view(...).T' instead\n",
      "  obj_bytes_view = obj.view(self.np.uint8)\n"
     ]
    },
    {
     "name": "stdout",
     "output_type": "stream",
     "text": [
      "[CV] .. n_iter=2, alpha=0.005, l1_ratio=0.001, score=0.118753 -   2.5s\n",
      "[CV] n_iter=3, alpha=0.005, l1_ratio=0.001 ...........................\n"
     ]
    },
    {
     "name": "stderr",
     "output_type": "stream",
     "text": [
      "/home/ubuntu/Virtualenvs/mateo/lib/python3.4/site-packages/sklearn/externals/joblib/hashing.py:197: DeprecationWarning: Changing the shape of non-C contiguous array by\n",
      "descriptor assignment is deprecated. To maintain\n",
      "the Fortran contiguity of a multidimensional Fortran\n",
      "array, use 'a.T.view(...).T' instead\n",
      "  obj_bytes_view = obj.view(self.np.uint8)\n"
     ]
    },
    {
     "name": "stdout",
     "output_type": "stream",
     "text": [
      "[CV] .. n_iter=2, alpha=0.005, l1_ratio=0.001, score=0.127159 -   2.9s\n",
      "[CV] n_iter=3, alpha=0.005, l1_ratio=0.001 ...........................\n"
     ]
    },
    {
     "name": "stderr",
     "output_type": "stream",
     "text": [
      "/home/ubuntu/Virtualenvs/mateo/lib/python3.4/site-packages/sklearn/externals/joblib/hashing.py:197: DeprecationWarning: Changing the shape of non-C contiguous array by\n",
      "descriptor assignment is deprecated. To maintain\n",
      "the Fortran contiguity of a multidimensional Fortran\n",
      "array, use 'a.T.view(...).T' instead\n",
      "  obj_bytes_view = obj.view(self.np.uint8)\n"
     ]
    },
    {
     "name": "stdout",
     "output_type": "stream",
     "text": [
      "[CV] .. n_iter=3, alpha=0.005, l1_ratio=0.001, score=0.127485 -   3.3s\n",
      "[CV] n_iter=3, alpha=0.005, l1_ratio=0.001 ...........................\n"
     ]
    },
    {
     "name": "stderr",
     "output_type": "stream",
     "text": [
      "/home/ubuntu/Virtualenvs/mateo/lib/python3.4/site-packages/sklearn/externals/joblib/hashing.py:197: DeprecationWarning: Changing the shape of non-C contiguous array by\n",
      "descriptor assignment is deprecated. To maintain\n",
      "the Fortran contiguity of a multidimensional Fortran\n",
      "array, use 'a.T.view(...).T' instead\n",
      "  obj_bytes_view = obj.view(self.np.uint8)\n"
     ]
    },
    {
     "name": "stdout",
     "output_type": "stream",
     "text": [
      "[CV] .. n_iter=3, alpha=0.005, l1_ratio=0.001, score=0.139728 -   3.1s\n",
      "[CV] n_iter=2, alpha=0.005, l1_ratio=0.0006000000000000001 ...........\n"
     ]
    },
    {
     "name": "stderr",
     "output_type": "stream",
     "text": [
      "/home/ubuntu/Virtualenvs/mateo/lib/python3.4/site-packages/sklearn/externals/joblib/hashing.py:197: DeprecationWarning: Changing the shape of non-C contiguous array by\n",
      "descriptor assignment is deprecated. To maintain\n",
      "the Fortran contiguity of a multidimensional Fortran\n",
      "array, use 'a.T.view(...).T' instead\n",
      "  obj_bytes_view = obj.view(self.np.uint8)\n"
     ]
    },
    {
     "name": "stdout",
     "output_type": "stream",
     "text": [
      "[CV] .. n_iter=3, alpha=0.005, l1_ratio=0.001, score=0.130469 -   3.1s\n",
      "[CV] n_iter=2, alpha=0.005, l1_ratio=0.0006000000000000001 ...........\n"
     ]
    },
    {
     "name": "stderr",
     "output_type": "stream",
     "text": [
      "/home/ubuntu/Virtualenvs/mateo/lib/python3.4/site-packages/sklearn/externals/joblib/hashing.py:197: DeprecationWarning: Changing the shape of non-C contiguous array by\n",
      "descriptor assignment is deprecated. To maintain\n",
      "the Fortran contiguity of a multidimensional Fortran\n",
      "array, use 'a.T.view(...).T' instead\n",
      "  obj_bytes_view = obj.view(self.np.uint8)\n"
     ]
    },
    {
     "name": "stdout",
     "output_type": "stream",
     "text": [
      "[CV]  n_iter=2, alpha=0.005, l1_ratio=0.0006000000000000001, score=0.129161 -   2.5s\n",
      "[CV] n_iter=2, alpha=0.005, l1_ratio=0.0006000000000000001 ...........\n"
     ]
    },
    {
     "name": "stderr",
     "output_type": "stream",
     "text": [
      "/home/ubuntu/Virtualenvs/mateo/lib/python3.4/site-packages/sklearn/externals/joblib/hashing.py:197: DeprecationWarning: Changing the shape of non-C contiguous array by\n",
      "descriptor assignment is deprecated. To maintain\n",
      "the Fortran contiguity of a multidimensional Fortran\n",
      "array, use 'a.T.view(...).T' instead\n",
      "  obj_bytes_view = obj.view(self.np.uint8)\n"
     ]
    },
    {
     "name": "stdout",
     "output_type": "stream",
     "text": [
      "[CV]  n_iter=2, alpha=0.005, l1_ratio=0.0006000000000000001, score=0.130159 -   2.5s\n",
      "[CV] n_iter=3, alpha=0.005, l1_ratio=0.0006000000000000001 ...........\n"
     ]
    },
    {
     "name": "stderr",
     "output_type": "stream",
     "text": [
      "/home/ubuntu/Virtualenvs/mateo/lib/python3.4/site-packages/sklearn/externals/joblib/hashing.py:197: DeprecationWarning: Changing the shape of non-C contiguous array by\n",
      "descriptor assignment is deprecated. To maintain\n",
      "the Fortran contiguity of a multidimensional Fortran\n",
      "array, use 'a.T.view(...).T' instead\n",
      "  obj_bytes_view = obj.view(self.np.uint8)\n"
     ]
    },
    {
     "name": "stdout",
     "output_type": "stream",
     "text": [
      "[CV]  n_iter=2, alpha=0.005, l1_ratio=0.0006000000000000001, score=0.127613 -   2.5s\n",
      "[CV] n_iter=3, alpha=0.005, l1_ratio=0.0006000000000000001 ...........\n"
     ]
    },
    {
     "name": "stderr",
     "output_type": "stream",
     "text": [
      "/home/ubuntu/Virtualenvs/mateo/lib/python3.4/site-packages/sklearn/externals/joblib/hashing.py:197: DeprecationWarning: Changing the shape of non-C contiguous array by\n",
      "descriptor assignment is deprecated. To maintain\n",
      "the Fortran contiguity of a multidimensional Fortran\n",
      "array, use 'a.T.view(...).T' instead\n",
      "  obj_bytes_view = obj.view(self.np.uint8)\n"
     ]
    },
    {
     "name": "stdout",
     "output_type": "stream",
     "text": [
      "[CV]  n_iter=3, alpha=0.005, l1_ratio=0.0006000000000000001, score=0.132956 -   3.1s\n",
      "[CV] n_iter=3, alpha=0.005, l1_ratio=0.0006000000000000001 ...........\n"
     ]
    },
    {
     "name": "stderr",
     "output_type": "stream",
     "text": [
      "/home/ubuntu/Virtualenvs/mateo/lib/python3.4/site-packages/sklearn/externals/joblib/hashing.py:197: DeprecationWarning: Changing the shape of non-C contiguous array by\n",
      "descriptor assignment is deprecated. To maintain\n",
      "the Fortran contiguity of a multidimensional Fortran\n",
      "array, use 'a.T.view(...).T' instead\n",
      "  obj_bytes_view = obj.view(self.np.uint8)\n"
     ]
    },
    {
     "name": "stdout",
     "output_type": "stream",
     "text": [
      "[CV]  n_iter=3, alpha=0.005, l1_ratio=0.0006000000000000001, score=0.143005 -   3.1s\n",
      "[CV] n_iter=2, alpha=0.01, l1_ratio=0.03 .............................\n"
     ]
    },
    {
     "name": "stderr",
     "output_type": "stream",
     "text": [
      "/home/ubuntu/Virtualenvs/mateo/lib/python3.4/site-packages/sklearn/externals/joblib/hashing.py:197: DeprecationWarning: Changing the shape of non-C contiguous array by\n",
      "descriptor assignment is deprecated. To maintain\n",
      "the Fortran contiguity of a multidimensional Fortran\n",
      "array, use 'a.T.view(...).T' instead\n",
      "  obj_bytes_view = obj.view(self.np.uint8)\n"
     ]
    },
    {
     "name": "stdout",
     "output_type": "stream",
     "text": [
      "[CV]  n_iter=3, alpha=0.005, l1_ratio=0.0006000000000000001, score=0.135926 -   3.1s\n",
      "[CV] n_iter=2, alpha=0.01, l1_ratio=0.03 .............................\n"
     ]
    },
    {
     "name": "stderr",
     "output_type": "stream",
     "text": [
      "/home/ubuntu/Virtualenvs/mateo/lib/python3.4/site-packages/sklearn/externals/joblib/hashing.py:197: DeprecationWarning: Changing the shape of non-C contiguous array by\n",
      "descriptor assignment is deprecated. To maintain\n",
      "the Fortran contiguity of a multidimensional Fortran\n",
      "array, use 'a.T.view(...).T' instead\n",
      "  obj_bytes_view = obj.view(self.np.uint8)\n"
     ]
    },
    {
     "name": "stdout",
     "output_type": "stream",
     "text": [
      "[CV] .... n_iter=2, alpha=0.01, l1_ratio=0.03, score=0.128098 -   2.4s\n",
      "[CV] n_iter=2, alpha=0.01, l1_ratio=0.03 .............................\n"
     ]
    },
    {
     "name": "stderr",
     "output_type": "stream",
     "text": [
      "/home/ubuntu/Virtualenvs/mateo/lib/python3.4/site-packages/sklearn/externals/joblib/hashing.py:197: DeprecationWarning: Changing the shape of non-C contiguous array by\n",
      "descriptor assignment is deprecated. To maintain\n",
      "the Fortran contiguity of a multidimensional Fortran\n",
      "array, use 'a.T.view(...).T' instead\n",
      "  obj_bytes_view = obj.view(self.np.uint8)\n"
     ]
    },
    {
     "name": "stdout",
     "output_type": "stream",
     "text": [
      "[CV] .... n_iter=2, alpha=0.01, l1_ratio=0.03, score=0.127078 -   2.7s\n",
      "[CV] n_iter=3, alpha=0.01, l1_ratio=0.03 .............................\n"
     ]
    },
    {
     "name": "stderr",
     "output_type": "stream",
     "text": [
      "/home/ubuntu/Virtualenvs/mateo/lib/python3.4/site-packages/sklearn/externals/joblib/hashing.py:197: DeprecationWarning: Changing the shape of non-C contiguous array by\n",
      "descriptor assignment is deprecated. To maintain\n",
      "the Fortran contiguity of a multidimensional Fortran\n",
      "array, use 'a.T.view(...).T' instead\n",
      "  obj_bytes_view = obj.view(self.np.uint8)\n"
     ]
    },
    {
     "name": "stdout",
     "output_type": "stream",
     "text": [
      "[CV] .... n_iter=2, alpha=0.01, l1_ratio=0.03, score=0.126921 -   2.5s\n",
      "[CV] n_iter=3, alpha=0.01, l1_ratio=0.03 .............................\n"
     ]
    },
    {
     "name": "stderr",
     "output_type": "stream",
     "text": [
      "/home/ubuntu/Virtualenvs/mateo/lib/python3.4/site-packages/sklearn/externals/joblib/hashing.py:197: DeprecationWarning: Changing the shape of non-C contiguous array by\n",
      "descriptor assignment is deprecated. To maintain\n",
      "the Fortran contiguity of a multidimensional Fortran\n",
      "array, use 'a.T.view(...).T' instead\n",
      "  obj_bytes_view = obj.view(self.np.uint8)\n"
     ]
    },
    {
     "name": "stdout",
     "output_type": "stream",
     "text": [
      "[CV] .... n_iter=3, alpha=0.01, l1_ratio=0.03, score=0.138152 -   3.6s\n",
      "[CV] n_iter=3, alpha=0.01, l1_ratio=0.03 .............................\n"
     ]
    },
    {
     "name": "stderr",
     "output_type": "stream",
     "text": [
      "/home/ubuntu/Virtualenvs/mateo/lib/python3.4/site-packages/sklearn/externals/joblib/hashing.py:197: DeprecationWarning: Changing the shape of non-C contiguous array by\n",
      "descriptor assignment is deprecated. To maintain\n",
      "the Fortran contiguity of a multidimensional Fortran\n",
      "array, use 'a.T.view(...).T' instead\n",
      "  obj_bytes_view = obj.view(self.np.uint8)\n"
     ]
    },
    {
     "name": "stdout",
     "output_type": "stream",
     "text": [
      "[CV] .... n_iter=3, alpha=0.01, l1_ratio=0.03, score=0.106208 -   3.1s\n",
      "[CV] n_iter=2, alpha=0.01, l1_ratio=0.001 ............................\n"
     ]
    },
    {
     "name": "stderr",
     "output_type": "stream",
     "text": [
      "/home/ubuntu/Virtualenvs/mateo/lib/python3.4/site-packages/sklearn/externals/joblib/hashing.py:197: DeprecationWarning: Changing the shape of non-C contiguous array by\n",
      "descriptor assignment is deprecated. To maintain\n",
      "the Fortran contiguity of a multidimensional Fortran\n",
      "array, use 'a.T.view(...).T' instead\n",
      "  obj_bytes_view = obj.view(self.np.uint8)\n"
     ]
    },
    {
     "name": "stdout",
     "output_type": "stream",
     "text": [
      "[CV] .... n_iter=3, alpha=0.01, l1_ratio=0.03, score=0.143076 -   2.8s\n",
      "[CV] n_iter=2, alpha=0.01, l1_ratio=0.001 ............................\n"
     ]
    },
    {
     "name": "stderr",
     "output_type": "stream",
     "text": [
      "/home/ubuntu/Virtualenvs/mateo/lib/python3.4/site-packages/sklearn/externals/joblib/hashing.py:197: DeprecationWarning: Changing the shape of non-C contiguous array by\n",
      "descriptor assignment is deprecated. To maintain\n",
      "the Fortran contiguity of a multidimensional Fortran\n",
      "array, use 'a.T.view(...).T' instead\n",
      "  obj_bytes_view = obj.view(self.np.uint8)\n"
     ]
    },
    {
     "name": "stdout",
     "output_type": "stream",
     "text": [
      "[CV] ... n_iter=2, alpha=0.01, l1_ratio=0.001, score=0.132427 -   2.5s\n",
      "[CV] n_iter=2, alpha=0.01, l1_ratio=0.001 ............................\n"
     ]
    },
    {
     "name": "stderr",
     "output_type": "stream",
     "text": [
      "/home/ubuntu/Virtualenvs/mateo/lib/python3.4/site-packages/sklearn/externals/joblib/hashing.py:197: DeprecationWarning: Changing the shape of non-C contiguous array by\n",
      "descriptor assignment is deprecated. To maintain\n",
      "the Fortran contiguity of a multidimensional Fortran\n",
      "array, use 'a.T.view(...).T' instead\n",
      "  obj_bytes_view = obj.view(self.np.uint8)\n"
     ]
    },
    {
     "name": "stdout",
     "output_type": "stream",
     "text": [
      "[CV] ... n_iter=2, alpha=0.01, l1_ratio=0.001, score=0.125901 -   2.9s\n",
      "[CV] n_iter=3, alpha=0.01, l1_ratio=0.001 ............................\n"
     ]
    },
    {
     "name": "stderr",
     "output_type": "stream",
     "text": [
      "/home/ubuntu/Virtualenvs/mateo/lib/python3.4/site-packages/sklearn/externals/joblib/hashing.py:197: DeprecationWarning: Changing the shape of non-C contiguous array by\n",
      "descriptor assignment is deprecated. To maintain\n",
      "the Fortran contiguity of a multidimensional Fortran\n",
      "array, use 'a.T.view(...).T' instead\n",
      "  obj_bytes_view = obj.view(self.np.uint8)\n"
     ]
    },
    {
     "name": "stdout",
     "output_type": "stream",
     "text": [
      "[CV] ... n_iter=2, alpha=0.01, l1_ratio=0.001, score=0.128001 -   2.7s\n",
      "[CV] n_iter=3, alpha=0.01, l1_ratio=0.001 ............................\n"
     ]
    },
    {
     "name": "stderr",
     "output_type": "stream",
     "text": [
      "/home/ubuntu/Virtualenvs/mateo/lib/python3.4/site-packages/sklearn/externals/joblib/hashing.py:197: DeprecationWarning: Changing the shape of non-C contiguous array by\n",
      "descriptor assignment is deprecated. To maintain\n",
      "the Fortran contiguity of a multidimensional Fortran\n",
      "array, use 'a.T.view(...).T' instead\n",
      "  obj_bytes_view = obj.view(self.np.uint8)\n"
     ]
    },
    {
     "name": "stdout",
     "output_type": "stream",
     "text": [
      "[CV] ... n_iter=3, alpha=0.01, l1_ratio=0.001, score=0.135568 -   3.1s\n",
      "[CV] n_iter=3, alpha=0.01, l1_ratio=0.001 ............................\n"
     ]
    },
    {
     "name": "stderr",
     "output_type": "stream",
     "text": [
      "/home/ubuntu/Virtualenvs/mateo/lib/python3.4/site-packages/sklearn/externals/joblib/hashing.py:197: DeprecationWarning: Changing the shape of non-C contiguous array by\n",
      "descriptor assignment is deprecated. To maintain\n",
      "the Fortran contiguity of a multidimensional Fortran\n",
      "array, use 'a.T.view(...).T' instead\n",
      "  obj_bytes_view = obj.view(self.np.uint8)\n"
     ]
    },
    {
     "name": "stdout",
     "output_type": "stream",
     "text": [
      "[CV] n_iter=2, alpha=0.01, l1_ratio=0.0006000000000000001 ............\n"
     ]
    },
    {
     "name": "stderr",
     "output_type": "stream",
     "text": [
      "/home/ubuntu/Virtualenvs/mateo/lib/python3.4/site-packages/sklearn/externals/joblib/hashing.py:197: DeprecationWarning: Changing the shape of non-C contiguous array by\n",
      "descriptor assignment is deprecated. To maintain\n",
      "the Fortran contiguity of a multidimensional Fortran\n",
      "array, use 'a.T.view(...).T' instead\n",
      "  obj_bytes_view = obj.view(self.np.uint8)\n"
     ]
    },
    {
     "name": "stdout",
     "output_type": "stream",
     "text": [
      "[CV] ... n_iter=3, alpha=0.01, l1_ratio=0.001, score=0.132579 -   4.4s\n",
      "[CV] ... n_iter=3, alpha=0.01, l1_ratio=0.001, score=0.136589 -   3.7s\n",
      "[CV] n_iter=2, alpha=0.01, l1_ratio=0.0006000000000000001 ............\n"
     ]
    },
    {
     "name": "stderr",
     "output_type": "stream",
     "text": [
      "/home/ubuntu/Virtualenvs/mateo/lib/python3.4/site-packages/sklearn/externals/joblib/hashing.py:197: DeprecationWarning: Changing the shape of non-C contiguous array by\n",
      "descriptor assignment is deprecated. To maintain\n",
      "the Fortran contiguity of a multidimensional Fortran\n",
      "array, use 'a.T.view(...).T' instead\n",
      "  obj_bytes_view = obj.view(self.np.uint8)\n"
     ]
    },
    {
     "name": "stdout",
     "output_type": "stream",
     "text": [
      "[CV]  n_iter=2, alpha=0.01, l1_ratio=0.0006000000000000001, score=0.124134 -   2.8s\n",
      "[CV] n_iter=2, alpha=0.01, l1_ratio=0.0006000000000000001 ............\n"
     ]
    },
    {
     "name": "stderr",
     "output_type": "stream",
     "text": [
      "/home/ubuntu/Virtualenvs/mateo/lib/python3.4/site-packages/sklearn/externals/joblib/hashing.py:197: DeprecationWarning: Changing the shape of non-C contiguous array by\n",
      "descriptor assignment is deprecated. To maintain\n",
      "the Fortran contiguity of a multidimensional Fortran\n",
      "array, use 'a.T.view(...).T' instead\n",
      "  obj_bytes_view = obj.view(self.np.uint8)\n"
     ]
    },
    {
     "name": "stdout",
     "output_type": "stream",
     "text": [
      "[CV]  n_iter=2, alpha=0.01, l1_ratio=0.0006000000000000001, score=0.130883 -   2.5s\n",
      "[CV] n_iter=3, alpha=0.01, l1_ratio=0.0006000000000000001 ............\n"
     ]
    },
    {
     "name": "stderr",
     "output_type": "stream",
     "text": [
      "/home/ubuntu/Virtualenvs/mateo/lib/python3.4/site-packages/sklearn/externals/joblib/hashing.py:197: DeprecationWarning: Changing the shape of non-C contiguous array by\n",
      "descriptor assignment is deprecated. To maintain\n",
      "the Fortran contiguity of a multidimensional Fortran\n",
      "array, use 'a.T.view(...).T' instead\n",
      "  obj_bytes_view = obj.view(self.np.uint8)\n"
     ]
    },
    {
     "name": "stdout",
     "output_type": "stream",
     "text": [
      "[CV]  n_iter=2, alpha=0.01, l1_ratio=0.0006000000000000001, score=0.122741 -   3.5s\n",
      "[CV] n_iter=3, alpha=0.01, l1_ratio=0.0006000000000000001 ............\n"
     ]
    },
    {
     "name": "stderr",
     "output_type": "stream",
     "text": [
      "/home/ubuntu/Virtualenvs/mateo/lib/python3.4/site-packages/sklearn/externals/joblib/hashing.py:197: DeprecationWarning: Changing the shape of non-C contiguous array by\n",
      "descriptor assignment is deprecated. To maintain\n",
      "the Fortran contiguity of a multidimensional Fortran\n",
      "array, use 'a.T.view(...).T' instead\n",
      "  obj_bytes_view = obj.view(self.np.uint8)\n"
     ]
    },
    {
     "name": "stdout",
     "output_type": "stream",
     "text": [
      "[CV]  n_iter=3, alpha=0.01, l1_ratio=0.0006000000000000001, score=0.132433 -   3.7s\n",
      "[CV] n_iter=3, alpha=0.01, l1_ratio=0.0006000000000000001 ............\n",
      "[CV]  n_iter=3, alpha=0.01, l1_ratio=0.0006000000000000001, score=0.135111 -   3.4s\n",
      "[CV]  n_iter=3, alpha=0.01, l1_ratio=0.0006000000000000001, score=0.135908 -   3.1s\n"
     ]
    },
    {
     "name": "stderr",
     "output_type": "stream",
     "text": [
      "[Parallel(n_jobs=4)]: Done  54 out of  54 | elapsed:  1.7min finished\n"
     ]
    },
    {
     "name": "stdout",
     "output_type": "stream",
     "text": [
      "             precision    recall  f1-score   support\n",
      "\n",
      "          0       1.00      0.31      0.47    355992\n",
      "          1       0.06      0.99      0.11     15152\n",
      "\n",
      "avg / total       0.96      0.33      0.45    371144\n",
      "\n",
      "This cell took 108.56432461738586 seconds to run\n"
     ]
    }
   ],
   "source": [
    "start_time = time.time()\n",
    "\n",
    "param_grid = [\n",
    "  { 'alpha': [1e-3,5*1e-3,1e-2], 'l1_ratio': [3*1e-2,1e-3,6*1e-4], 'n_iter': [2,3]\n",
    "  }\n",
    "    ]\n",
    "sgd = SGDClassifier(loss='modified_huber', penalty='elasticnet', \n",
    "             fit_intercept=True,  shuffle=True, \n",
    "                    n_jobs=3,learning_rate='optimal', power_t =2, eta0 =5,\n",
    "                    class_weight='balanced', average=40)\n",
    "\n",
    "clf =GridSearchCV(sgd, param_grid, scoring='roc_auc', fit_params=None, n_jobs=4, iid=True, refit=True, \n",
    "verbose=3, pre_dispatch='2*n_jobs', error_score='raise')\n",
    "\n",
    "clf.fit(X_train,y_train)\n",
    "\n",
    "\n",
    "\n",
    "predicted_proba = pd.DataFrame()\n",
    "predicted_proba['prob'] = clf.predict_proba(X_test).max(axis=1)\n",
    "predicted_proba['class'] = clf.predict(X_test)\n",
    "predicted_proba[gt] =  y_test\n",
    "predicted_proba.sort_values(by = 'prob',ascending = False, inplace = True)\n",
    "\n",
    "cut_percentages = [10,20,30,40]\n",
    "#converted = (predicted_proba['class']==1)\n",
    "#me fijo todos los users que van a convertir en el futuro\n",
    "\n",
    "\n",
    "start = 0\n",
    "mobility_dict = {}\n",
    "index_segments = []\n",
    "for i in cut_percentages:\n",
    "    cut_size = int(len(predicted_proba)*i/100.0)    \n",
    "    bool_array = (~pd.np.ones(len(predicted_proba), dtype=bool))\n",
    "    bool_array[start: start + cut_size] = True\n",
    "    index_segments += [bool_array]\n",
    "    start = start + cut_size\n",
    "#    subtable = \n",
    "    #mobility_dict[str(i)] = predicted_proba.loc[index_segments[-1],'ref_hash']\n",
    "    \n",
    "    print(classification_report(predicted_proba.loc[index_segments[-1],gt].values,\n",
    "                            predicted_proba.loc[index_segments[-1],'class'].values ))\n",
    "    \n",
    "    \n",
    "print(classification_report(predicted_proba.loc[:,gt].values,\n",
    "                            predicted_proba.loc[:,'class'].values ))\n",
    "    \n",
    "    \n",
    "cv_result = pd.DataFrame(columns=['mean_score' ] + [key for key, value in clf.grid_scores_[0].parameters.items() ] )\n",
    "i=0\n",
    "for setup in clf.grid_scores_:\n",
    "    row = [clf.grid_scores_[i].mean_validation_score ] + [value for key, value in clf.grid_scores_[i].parameters.items() ]\n",
    "    cv_result.loc[i] = row\n",
    "    i+=1\n",
    "#este flag es basicamente para chequear que hayamos terminado nomas\n",
    "finished = True\n",
    "\n",
    "all_time =   time.time() - start_time\n",
    "\n",
    "#este flag es basicamente para chequear que hayamos terminado nomas\n",
    "finished = True\n",
    "\n",
    "print('This cell took %s seconds to run' % all_time)\n"
   ]
  },
  {
   "cell_type": "code",
   "execution_count": null,
   "metadata": {
    "collapsed": true
   },
   "outputs": [],
   "source": [
    "threshold = 0.7\n",
    "ind = predicted_proba['prob']>threshold\n",
    "print(classification_report(predicted_proba.loc[ind,'y'].values,predicted_proba.loc[ind,'class'].values ))"
   ]
  },
  {
   "cell_type": "code",
   "execution_count": 38,
   "metadata": {},
   "outputs": [
    {
     "data": {
      "text/plain": [
       "SGDClassifier(alpha=0.005, average=40, class_weight='balanced', epsilon=0.1,\n",
       "       eta0=5, fit_intercept=True, l1_ratio=0.0006000000000000001,\n",
       "       learning_rate='optimal', loss='modified_huber', n_iter=3, n_jobs=3,\n",
       "       penalty='elasticnet', power_t=2, random_state=None, shuffle=True,\n",
       "       verbose=0, warm_start=False)"
      ]
     },
     "execution_count": 38,
     "metadata": {},
     "output_type": "execute_result"
    }
   ],
   "source": [
    "clf.best_estimator_"
   ]
  },
  {
   "cell_type": "code",
   "execution_count": 39,
   "metadata": {
    "scrolled": true
   },
   "outputs": [
    {
     "name": "stdout",
     "output_type": "stream",
     "text": [
      "n_iter\n",
      "2.0    0.125741\n",
      "3.0    0.132943\n",
      "Name: mean_score, dtype: float64\n",
      "n_iter\n",
      "2.0    0.002609\n",
      "3.0    0.002703\n",
      "Name: mean_score, dtype: float64\n"
     ]
    }
   ],
   "source": [
    "coln=1\n",
    "print(cv_result.groupby(cv_result.columns[coln])['mean_score'].mean())\n",
    "print(cv_result.groupby(cv_result.columns[coln])['mean_score'].std())"
   ]
  },
  {
   "cell_type": "markdown",
   "metadata": {
    "collapsed": true
   },
   "source": [
    "### Results\n",
    "* l1_ratio = cuanto mas chico mejor con lo cual la perdida l2 parece ser mejor\n",
    "* alpha = 1e-3 es suficiente pues casi no afecta el score\n",
    "* power_t = muy variado, no parece haber correlacion entre el tamanyo y el avg, mean_score\n",
    "* eta0 = no afecta mucho pero parece ser que con ser >1 ya esta\n",
    "* power_t = parecen ser practicamente iguales\n",
    "* n_iter = cuanto mas iter NO mejora el score"
   ]
  },
  {
   "cell_type": "code",
   "execution_count": 51,
   "metadata": {},
   "outputs": [
    {
     "data": {
      "text/plain": [
       "371161"
      ]
     },
     "execution_count": 51,
     "metadata": {},
     "output_type": "execute_result"
    }
   ],
   "source": [
    "len(predicted_proba)"
   ]
  },
  {
   "cell_type": "markdown",
   "metadata": {},
   "source": [
    "## Cross Validate NN"
   ]
  },
  {
   "cell_type": "code",
   "execution_count": 35,
   "metadata": {
    "scrolled": true
   },
   "outputs": [
    {
     "name": "stdout",
     "output_type": "stream",
     "text": [
      "Fitting 3 folds for each of 144 candidates, totalling 432 fits\n",
      "[CV] algorithm=adam, hidden_layer_sizes=(50,), activation=logistic, power_t=0.001, alpha=0.1, learning_rate=adaptive \n",
      "[CV] algorithm=adam, hidden_layer_sizes=(50,), activation=logistic, power_t=0.001, alpha=0.1, learning_rate=adaptive \n",
      "[CV] algorithm=adam, hidden_layer_sizes=(50,), activation=logistic, power_t=0.001, alpha=0.1, learning_rate=adaptive \n",
      "[CV] algorithm=adam, hidden_layer_sizes=(50,), activation=logistic, power_t=0.0005, alpha=0.1, learning_rate=adaptive \n",
      "Iteration 1, loss = 0.20405210\n",
      "Iteration 1, loss = 0.20380843\n",
      "Iteration 1, loss = 0.20378706\n",
      "Iteration 1, loss = 0.20405210\n"
     ]
    },
    {
     "name": "stderr",
     "output_type": "stream",
     "text": [
      "/home/teo/Repositories/scikit-learn/sklearn/metrics/classification.py:1097: UndefinedMetricWarning: F-score is ill-defined and being set to 0.0 due to no predicted samples.\n",
      "  'precision', 'predicted', average, warn_for)\n"
     ]
    },
    {
     "name": "stdout",
     "output_type": "stream",
     "text": [
      "[CV]  algorithm=adam, hidden_layer_sizes=(50,), activation=logistic, power_t=0.0005, alpha=0.1, learning_rate=adaptive, score=0.000000 -   1.5s\n",
      "[CV] algorithm=adam, hidden_layer_sizes=(50,), activation=logistic, power_t=0.0005, alpha=0.1, learning_rate=adaptive \n"
     ]
    },
    {
     "name": "stderr",
     "output_type": "stream",
     "text": [
      "/home/teo/Repositories/scikit-learn/sklearn/metrics/classification.py:1097: UndefinedMetricWarning: F-score is ill-defined and being set to 0.0 due to no predicted samples.\n",
      "  'precision', 'predicted', average, warn_for)\n"
     ]
    },
    {
     "name": "stdout",
     "output_type": "stream",
     "text": [
      "[CV]  algorithm=adam, hidden_layer_sizes=(50,), activation=logistic, power_t=0.001, alpha=0.1, learning_rate=adaptive, score=0.000000 -   1.7s\n"
     ]
    },
    {
     "name": "stderr",
     "output_type": "stream",
     "text": [
      "/home/teo/Repositories/scikit-learn/sklearn/metrics/classification.py:1097: UndefinedMetricWarning: F-score is ill-defined and being set to 0.0 due to no predicted samples.\n",
      "  'precision', 'predicted', average, warn_for)\n"
     ]
    },
    {
     "name": "stdout",
     "output_type": "stream",
     "text": [
      "[CV]  algorithm=adam, hidden_layer_sizes=(50,), activation=logistic, power_t=0.001, alpha=0.1, learning_rate=adaptive, score=0.000000 -   2.1s\n"
     ]
    },
    {
     "name": "stderr",
     "output_type": "stream",
     "text": [
      "/home/teo/Repositories/scikit-learn/sklearn/metrics/classification.py:1097: UndefinedMetricWarning: F-score is ill-defined and being set to 0.0 due to no predicted samples.\n",
      "  'precision', 'predicted', average, warn_for)\n"
     ]
    },
    {
     "name": "stdout",
     "output_type": "stream",
     "text": [
      "[CV]  algorithm=adam, hidden_layer_sizes=(50,), activation=logistic, power_t=0.001, alpha=0.1, learning_rate=adaptive, score=0.000000 -   1.9s\n"
     ]
    },
    {
     "ename": "KeyboardInterrupt",
     "evalue": "",
     "output_type": "error",
     "traceback": [
      "\u001b[1;31m---------------------------------------------------------------------------\u001b[0m",
      "\u001b[1;31mKeyboardInterrupt\u001b[0m                         Traceback (most recent call last)",
      "\u001b[1;32m<ipython-input-35-3491f77d2a02>\u001b[0m in \u001b[0;36m<module>\u001b[1;34m()\u001b[0m\n\u001b[0;32m     16\u001b[0m verbose=3, pre_dispatch='2*n_jobs', error_score='raise')\n\u001b[0;32m     17\u001b[0m \u001b[1;33m\u001b[0m\u001b[0m\n\u001b[1;32m---> 18\u001b[1;33m \u001b[0mclf\u001b[0m\u001b[1;33m.\u001b[0m\u001b[0mfit\u001b[0m\u001b[1;33m(\u001b[0m\u001b[0mX_train\u001b[0m\u001b[1;33m,\u001b[0m\u001b[0my_train\u001b[0m\u001b[1;33m)\u001b[0m\u001b[1;33m\u001b[0m\u001b[0m\n\u001b[0m\u001b[0;32m     19\u001b[0m \u001b[1;33m\u001b[0m\u001b[0m\n\u001b[0;32m     20\u001b[0m \u001b[0mpredicted_proba\u001b[0m \u001b[1;33m=\u001b[0m \u001b[0mpd\u001b[0m\u001b[1;33m.\u001b[0m\u001b[0mDataFrame\u001b[0m\u001b[1;33m(\u001b[0m\u001b[1;33m)\u001b[0m\u001b[1;33m\u001b[0m\u001b[0m\n",
      "\u001b[1;32m/home/teo/Repositories/scikit-learn/sklearn/grid_search.pyc\u001b[0m in \u001b[0;36mfit\u001b[1;34m(self, X, y)\u001b[0m\n\u001b[0;32m    809\u001b[0m \u001b[1;33m\u001b[0m\u001b[0m\n\u001b[0;32m    810\u001b[0m         \"\"\"\n\u001b[1;32m--> 811\u001b[1;33m         \u001b[1;32mreturn\u001b[0m \u001b[0mself\u001b[0m\u001b[1;33m.\u001b[0m\u001b[0m_fit\u001b[0m\u001b[1;33m(\u001b[0m\u001b[0mX\u001b[0m\u001b[1;33m,\u001b[0m \u001b[0my\u001b[0m\u001b[1;33m,\u001b[0m \u001b[0mParameterGrid\u001b[0m\u001b[1;33m(\u001b[0m\u001b[0mself\u001b[0m\u001b[1;33m.\u001b[0m\u001b[0mparam_grid\u001b[0m\u001b[1;33m)\u001b[0m\u001b[1;33m)\u001b[0m\u001b[1;33m\u001b[0m\u001b[0m\n\u001b[0m\u001b[0;32m    812\u001b[0m \u001b[1;33m\u001b[0m\u001b[0m\n\u001b[0;32m    813\u001b[0m \u001b[1;33m\u001b[0m\u001b[0m\n",
      "\u001b[1;32m/home/teo/Repositories/scikit-learn/sklearn/grid_search.pyc\u001b[0m in \u001b[0;36m_fit\u001b[1;34m(self, X, y, parameter_iterable)\u001b[0m\n\u001b[0;32m    558\u001b[0m                                     \u001b[0mself\u001b[0m\u001b[1;33m.\u001b[0m\u001b[0mfit_params\u001b[0m\u001b[1;33m,\u001b[0m \u001b[0mreturn_parameters\u001b[0m\u001b[1;33m=\u001b[0m\u001b[0mTrue\u001b[0m\u001b[1;33m,\u001b[0m\u001b[1;33m\u001b[0m\u001b[0m\n\u001b[0;32m    559\u001b[0m                                     error_score=self.error_score)\n\u001b[1;32m--> 560\u001b[1;33m                 \u001b[1;32mfor\u001b[0m \u001b[0mparameters\u001b[0m \u001b[1;32min\u001b[0m \u001b[0mparameter_iterable\u001b[0m\u001b[1;33m\u001b[0m\u001b[0m\n\u001b[0m\u001b[0;32m    561\u001b[0m                 for train, test in cv)\n\u001b[0;32m    562\u001b[0m \u001b[1;33m\u001b[0m\u001b[0m\n",
      "\u001b[1;32m/home/teo/Repositories/scikit-learn/sklearn/externals/joblib/parallel.pyc\u001b[0m in \u001b[0;36m__call__\u001b[1;34m(self, iterable)\u001b[0m\n\u001b[0;32m    808\u001b[0m                 \u001b[1;31m# consumption.\u001b[0m\u001b[1;33m\u001b[0m\u001b[1;33m\u001b[0m\u001b[0m\n\u001b[0;32m    809\u001b[0m                 \u001b[0mself\u001b[0m\u001b[1;33m.\u001b[0m\u001b[0m_iterating\u001b[0m \u001b[1;33m=\u001b[0m \u001b[0mFalse\u001b[0m\u001b[1;33m\u001b[0m\u001b[0m\n\u001b[1;32m--> 810\u001b[1;33m             \u001b[0mself\u001b[0m\u001b[1;33m.\u001b[0m\u001b[0mretrieve\u001b[0m\u001b[1;33m(\u001b[0m\u001b[1;33m)\u001b[0m\u001b[1;33m\u001b[0m\u001b[0m\n\u001b[0m\u001b[0;32m    811\u001b[0m             \u001b[1;31m# Make sure that we get a last message telling us we are done\u001b[0m\u001b[1;33m\u001b[0m\u001b[1;33m\u001b[0m\u001b[0m\n\u001b[0;32m    812\u001b[0m             \u001b[0melapsed_time\u001b[0m \u001b[1;33m=\u001b[0m \u001b[0mtime\u001b[0m\u001b[1;33m.\u001b[0m\u001b[0mtime\u001b[0m\u001b[1;33m(\u001b[0m\u001b[1;33m)\u001b[0m \u001b[1;33m-\u001b[0m \u001b[0mself\u001b[0m\u001b[1;33m.\u001b[0m\u001b[0m_start_time\u001b[0m\u001b[1;33m\u001b[0m\u001b[0m\n",
      "\u001b[1;32m/home/teo/Repositories/scikit-learn/sklearn/externals/joblib/parallel.pyc\u001b[0m in \u001b[0;36mretrieve\u001b[1;34m(self)\u001b[0m\n\u001b[0;32m    755\u001b[0m                     \u001b[1;31m# a working pool as they expect.\u001b[0m\u001b[1;33m\u001b[0m\u001b[1;33m\u001b[0m\u001b[0m\n\u001b[0;32m    756\u001b[0m                     \u001b[0mself\u001b[0m\u001b[1;33m.\u001b[0m\u001b[0m_initialize_pool\u001b[0m\u001b[1;33m(\u001b[0m\u001b[1;33m)\u001b[0m\u001b[1;33m\u001b[0m\u001b[0m\n\u001b[1;32m--> 757\u001b[1;33m                 \u001b[1;32mraise\u001b[0m \u001b[0mexception\u001b[0m\u001b[1;33m\u001b[0m\u001b[0m\n\u001b[0m\u001b[0;32m    758\u001b[0m \u001b[1;33m\u001b[0m\u001b[0m\n\u001b[0;32m    759\u001b[0m     \u001b[1;32mdef\u001b[0m \u001b[0m__call__\u001b[0m\u001b[1;33m(\u001b[0m\u001b[0mself\u001b[0m\u001b[1;33m,\u001b[0m \u001b[0miterable\u001b[0m\u001b[1;33m)\u001b[0m\u001b[1;33m:\u001b[0m\u001b[1;33m\u001b[0m\u001b[0m\n",
      "\u001b[1;31mKeyboardInterrupt\u001b[0m: "
     ]
    }
   ],
   "source": [
    "start_time = time.time()\n",
    "\n",
    "X_train,X_test,y_train ,y_test = train_test_split(X,y, test_size=0.2, random_state=42)\n",
    "\n",
    "param_grid = { 'alpha': [1e-1,5*1e-2,1e-2],\n",
    "              'hidden_layer_sizes':[(50,),(15,5)],\n",
    "              'learning_rate': ['adaptive',\"invscaling\"],\n",
    "              \"algorithm\": ['adam'],'momentum': [1e-2, 1e-1, 0.5],\n",
    "  'power_t': [1e-3, 5*1e-4, 1e-5], 'activation':['logistic','relu']\n",
    " }\n",
    "\n",
    "mlp = MLPClassifier(shuffle=True, \n",
    "                 verbose=True)\n",
    "\n",
    "clf =GridSearchCV(mlp, param_grid, scoring='roc_auc', fit_params=None, n_jobs=4, iid=True, refit=True, \n",
    "verbose=3, pre_dispatch='2*n_jobs', error_score='raise')\n",
    "\n",
    "clf.fit(X_train,y_train)\n",
    "\n",
    "predicted_proba = pd.DataFrame()\n",
    "predicted_proba['prob'] = clf.predict_proba(X_test).max(axis=1)\n",
    "predicted_proba['gt'] = y_test\n",
    "predicted_proba['class'] = clf.predict(X_test)\n",
    "\n",
    "threshold = 0.7\n",
    "ind = predicted_proba['prob']>threshold\n",
    "\n",
    "all_time =   time.time() - start_time\n",
    "\n",
    "print(classification_report(predicted_proba.loc[ind,'gt'].values,predicted_proba.loc[ind,'class'].values ))\n",
    "\n",
    "cv_result = pd.DataFrame(columns=['mean_score' ] + [key for key, value in clf.grid_scores_[0].parameters.items() ] )\n",
    "i=0\n",
    "for setup in clf.grid_scores_:\n",
    "    row = [clf.grid_scores_[i].mean_validation_score ] + [value for key, value in clf.grid_scores_[i].parameters.items() ]\n",
    "    cv_result.loc[i] = row\n",
    "    i+=1\n",
    "#este flag es basicamente para chequear que hayamos terminado nomas\n",
    "finished = True"
   ]
  },
  {
   "cell_type": "code",
   "execution_count": 1,
   "metadata": {
    "collapsed": true
   },
   "outputs": [
    {
     "ename": "NameError",
     "evalue": "name 'clf' is not defined",
     "output_type": "error",
     "traceback": [
      "\u001b[0;31m---------------------------------------------------------------------------\u001b[0m",
      "\u001b[0;31mNameError\u001b[0m                                 Traceback (most recent call last)",
      "\u001b[0;32m<ipython-input-1-2d39bdb4c6dd>\u001b[0m in \u001b[0;36m<module>\u001b[0;34m()\u001b[0m\n\u001b[0;32m----> 1\u001b[0;31m \u001b[0mclf\u001b[0m\u001b[0;34m.\u001b[0m\u001b[0mbest_estimator_\u001b[0m\u001b[0;34m\u001b[0m\u001b[0m\n\u001b[0m",
      "\u001b[0;31mNameError\u001b[0m: name 'clf' is not defined"
     ]
    }
   ],
   "source": [
    "clf.best_estimator_"
   ]
  },
  {
   "cell_type": "code",
   "execution_count": 52,
   "metadata": {},
   "outputs": [
    {
     "data": {
      "text/plain": [
       "alpha\n",
       "0.00     0.000007\n",
       "0.01     0.000007\n",
       "0.10     0.000007\n",
       "0.50     0.000007\n",
       "1.00     0.000007\n",
       "10.00    0.000007\n",
       "Name: mean_score, dtype: float64"
      ]
     },
     "execution_count": 52,
     "metadata": {},
     "output_type": "execute_result"
    }
   ],
   "source": [
    "# compare best parameters to tune\n",
    "coln=1\n",
    "cv_result.groupby(cv_result.columns[coln])['mean_score'].mean()\n",
    "cv_result.groupby(cv_result.columns[coln])['mean_score'].std()"
   ]
  },
  {
   "cell_type": "markdown",
   "metadata": {
    "collapsed": true
   },
   "source": [
    "### Results\n",
    "* activation = logistic es 10% mejor\n",
    "* alpha = 1e-2 el mejor \n",
    "* power_t = cuanto mas chico mejor, 1e-3 por lo menos\n",
    "* hidden_layer_size = menos layers es mejor..?\n",
    "* power_t = parecen ser practicamente iguales\n",
    "* n_iter = cuanto mas iter NO mejora el score"
   ]
  },
  {
   "cell_type": "code",
   "execution_count": null,
   "metadata": {
    "collapsed": true
   },
   "outputs": [],
   "source": []
  },
  {
   "cell_type": "code",
   "execution_count": null,
   "metadata": {
    "collapsed": true
   },
   "outputs": [],
   "source": []
  },
  {
   "cell_type": "markdown",
   "metadata": {},
   "source": [
    "## Bernoulli RBM features selection & Logit crossval"
   ]
  },
  {
   "cell_type": "code",
   "execution_count": 127,
   "metadata": {
    "scrolled": true
   },
   "outputs": [
    {
     "ename": "KeyboardInterrupt",
     "evalue": "",
     "output_type": "error",
     "traceback": [
      "\u001b[1;31m---------------------------------------------------------------------------\u001b[0m",
      "\u001b[1;31mKeyboardInterrupt\u001b[0m                         Traceback (most recent call last)",
      "\u001b[1;32m<ipython-input-127-8675e4c7d9ab>\u001b[0m in \u001b[0;36m<module>\u001b[1;34m()\u001b[0m\n\u001b[0;32m     39\u001b[0m verbose=0, pre_dispatch='2*n_jobs', error_score='raise')\n\u001b[0;32m     40\u001b[0m \u001b[1;33m\u001b[0m\u001b[0m\n\u001b[1;32m---> 41\u001b[1;33m \u001b[0mclf\u001b[0m\u001b[1;33m.\u001b[0m\u001b[0mfit\u001b[0m\u001b[1;33m(\u001b[0m\u001b[0mX_train\u001b[0m\u001b[1;33m,\u001b[0m\u001b[0my_train\u001b[0m\u001b[1;33m)\u001b[0m\u001b[1;33m\u001b[0m\u001b[0m\n\u001b[0m\u001b[0;32m     42\u001b[0m \u001b[1;33m\u001b[0m\u001b[0m\n\u001b[0;32m     43\u001b[0m \u001b[1;31m#este metodo NO tiene predicted proba, lo que hacemos es recorrer\u001b[0m\u001b[1;33m\u001b[0m\u001b[1;33m\u001b[0m\u001b[0m\n",
      "\u001b[1;32m/home/teo/Repositories/scikit-learn/sklearn/grid_search.pyc\u001b[0m in \u001b[0;36mfit\u001b[1;34m(self, X, y)\u001b[0m\n\u001b[0;32m    809\u001b[0m \u001b[1;33m\u001b[0m\u001b[0m\n\u001b[0;32m    810\u001b[0m         \"\"\"\n\u001b[1;32m--> 811\u001b[1;33m         \u001b[1;32mreturn\u001b[0m \u001b[0mself\u001b[0m\u001b[1;33m.\u001b[0m\u001b[0m_fit\u001b[0m\u001b[1;33m(\u001b[0m\u001b[0mX\u001b[0m\u001b[1;33m,\u001b[0m \u001b[0my\u001b[0m\u001b[1;33m,\u001b[0m \u001b[0mParameterGrid\u001b[0m\u001b[1;33m(\u001b[0m\u001b[0mself\u001b[0m\u001b[1;33m.\u001b[0m\u001b[0mparam_grid\u001b[0m\u001b[1;33m)\u001b[0m\u001b[1;33m)\u001b[0m\u001b[1;33m\u001b[0m\u001b[0m\n\u001b[0m\u001b[0;32m    812\u001b[0m \u001b[1;33m\u001b[0m\u001b[0m\n\u001b[0;32m    813\u001b[0m \u001b[1;33m\u001b[0m\u001b[0m\n",
      "\u001b[1;32m/home/teo/Repositories/scikit-learn/sklearn/grid_search.pyc\u001b[0m in \u001b[0;36m_fit\u001b[1;34m(self, X, y, parameter_iterable)\u001b[0m\n\u001b[0;32m    558\u001b[0m                                     \u001b[0mself\u001b[0m\u001b[1;33m.\u001b[0m\u001b[0mfit_params\u001b[0m\u001b[1;33m,\u001b[0m \u001b[0mreturn_parameters\u001b[0m\u001b[1;33m=\u001b[0m\u001b[0mTrue\u001b[0m\u001b[1;33m,\u001b[0m\u001b[1;33m\u001b[0m\u001b[0m\n\u001b[0;32m    559\u001b[0m                                     error_score=self.error_score)\n\u001b[1;32m--> 560\u001b[1;33m                 \u001b[1;32mfor\u001b[0m \u001b[0mparameters\u001b[0m \u001b[1;32min\u001b[0m \u001b[0mparameter_iterable\u001b[0m\u001b[1;33m\u001b[0m\u001b[0m\n\u001b[0m\u001b[0;32m    561\u001b[0m                 for train, test in cv)\n\u001b[0;32m    562\u001b[0m \u001b[1;33m\u001b[0m\u001b[0m\n",
      "\u001b[1;32m/home/teo/Repositories/scikit-learn/sklearn/externals/joblib/parallel.pyc\u001b[0m in \u001b[0;36m__call__\u001b[1;34m(self, iterable)\u001b[0m\n\u001b[0;32m    808\u001b[0m                 \u001b[1;31m# consumption.\u001b[0m\u001b[1;33m\u001b[0m\u001b[1;33m\u001b[0m\u001b[0m\n\u001b[0;32m    809\u001b[0m                 \u001b[0mself\u001b[0m\u001b[1;33m.\u001b[0m\u001b[0m_iterating\u001b[0m \u001b[1;33m=\u001b[0m \u001b[0mFalse\u001b[0m\u001b[1;33m\u001b[0m\u001b[0m\n\u001b[1;32m--> 810\u001b[1;33m             \u001b[0mself\u001b[0m\u001b[1;33m.\u001b[0m\u001b[0mretrieve\u001b[0m\u001b[1;33m(\u001b[0m\u001b[1;33m)\u001b[0m\u001b[1;33m\u001b[0m\u001b[0m\n\u001b[0m\u001b[0;32m    811\u001b[0m             \u001b[1;31m# Make sure that we get a last message telling us we are done\u001b[0m\u001b[1;33m\u001b[0m\u001b[1;33m\u001b[0m\u001b[0m\n\u001b[0;32m    812\u001b[0m             \u001b[0melapsed_time\u001b[0m \u001b[1;33m=\u001b[0m \u001b[0mtime\u001b[0m\u001b[1;33m.\u001b[0m\u001b[0mtime\u001b[0m\u001b[1;33m(\u001b[0m\u001b[1;33m)\u001b[0m \u001b[1;33m-\u001b[0m \u001b[0mself\u001b[0m\u001b[1;33m.\u001b[0m\u001b[0m_start_time\u001b[0m\u001b[1;33m\u001b[0m\u001b[0m\n",
      "\u001b[1;32m/home/teo/Repositories/scikit-learn/sklearn/externals/joblib/parallel.pyc\u001b[0m in \u001b[0;36mretrieve\u001b[1;34m(self)\u001b[0m\n\u001b[0;32m    755\u001b[0m                     \u001b[1;31m# a working pool as they expect.\u001b[0m\u001b[1;33m\u001b[0m\u001b[1;33m\u001b[0m\u001b[0m\n\u001b[0;32m    756\u001b[0m                     \u001b[0mself\u001b[0m\u001b[1;33m.\u001b[0m\u001b[0m_initialize_pool\u001b[0m\u001b[1;33m(\u001b[0m\u001b[1;33m)\u001b[0m\u001b[1;33m\u001b[0m\u001b[0m\n\u001b[1;32m--> 757\u001b[1;33m                 \u001b[1;32mraise\u001b[0m \u001b[0mexception\u001b[0m\u001b[1;33m\u001b[0m\u001b[0m\n\u001b[0m\u001b[0;32m    758\u001b[0m \u001b[1;33m\u001b[0m\u001b[0m\n\u001b[0;32m    759\u001b[0m     \u001b[1;32mdef\u001b[0m \u001b[0m__call__\u001b[0m\u001b[1;33m(\u001b[0m\u001b[0mself\u001b[0m\u001b[1;33m,\u001b[0m \u001b[0miterable\u001b[0m\u001b[1;33m)\u001b[0m\u001b[1;33m:\u001b[0m\u001b[1;33m\u001b[0m\u001b[0m\n",
      "\u001b[1;31mKeyboardInterrupt\u001b[0m: "
     ]
    }
   ],
   "source": [
    "start_time = time.time()\n",
    "\n",
    "## obs. este metodo es especial y asume que todos los valores son True/False o que \\in [0,1]\n",
    "# luego tengo que pensar en como tomar los features nuevamente.\n",
    "# tampoco 'fittea' en la forma tradicional. Sino que se le puede tomar al y como un feature mas y esta red\n",
    "# va 'modificando' todos los valores del X (minimizando la entropia) para dar un output. Luego corriendo \n",
    "# clf.gibbs(X_test) con el y_test como feature tmb, nos transforma la data para ver el output como la 'prediccion'\n",
    "# obviamente no tiene probabilidades\n",
    "\n",
    "\n",
    "#X = X_train[X_cols].values\n",
    "#y = X_train['ground_truth'].values\n",
    "\n",
    "df = X_train.drop(X_train[X_train[X_train.columns[0:3]].\\\n",
    "                                   sum(axis=1)==0].index)\n",
    "df = df[X_cols + ['ground_truth']]\n",
    "\n",
    "for col in X_train.columns[0:3]:\n",
    "    df[col] = df[col]*1.0/df[df.columns[0:3]].sum(axis=1)\n",
    "\n",
    "df[df.columns[3]] =  df[df.columns[3]]/df[df.columns[3]].max()\n",
    "df[df.columns[4]] =  df[df.columns[4]]/df[df.columns[4]].max()\n",
    "\n",
    "X = df[df.columns[:-1]].values\n",
    "y = df['ground_truth'].values\n",
    "\n",
    "\n",
    "param_grid = {'rbm__n_components': [256, 128,46,10],\n",
    "   'rbm__n_iter':[15,10,5], 'rbm__learning_rate': [1e-4,1e-3,1e-2,1e-1,5*1e-3,5*1e-2,5*1e-1],\n",
    "  'rbm__batch_size': [10e4,3*10e3, 1e3, 300],\"logistic__C\": [1.0, 10.0, 100.0] \n",
    " }\n",
    "\n",
    "rbm = BernoulliRBM(verbose=True)\n",
    "logistic = LogisticRegression()\n",
    "classifier = Pipeline([(\"rbm\", rbm), (\"logistic\", logistic)])\n",
    "\n",
    "X_train,X_test,y_train ,y_test = train_test_split(X,y, test_size=0.2, random_state=42)\n",
    "\n",
    "clf =GridSearchCV(classifier, param_grid, scoring='roc_auc', fit_params=None, n_jobs=4, iid=True, refit=True, \n",
    "verbose=3, pre_dispatch='2*n_jobs', error_score='raise')\n",
    "\n",
    "clf.fit(X_train,y_train)\n",
    "\n",
    "#este metodo NO tiene predicted proba, lo que hacemos es recorrer \n",
    "#predicted_labels = rbm.gibbs(X_test)[:,-1]\n",
    "#real_labels = X_test[:,-1]\n",
    "#print(classification_report(real_labels,predicted_labels ))\n",
    "\n",
    "\n",
    "predicted_proba = pd.DataFrame()\n",
    "predicted_proba['prob'] = clf.predict_proba(X_test).max(axis=1)\n",
    "predicted_proba['gt'] = y_test\n",
    "predicted_proba['class'] = clf.predict(X_test)\n",
    "\n",
    "threshold = 0.7\n",
    "ind = predicted_proba['prob']>threshold\n",
    "print(classification_report(predicted_proba.loc[ind,'gt'].values,predicted_proba.loc[ind,'class'].values ))\n",
    "all_time =   time.time() - start_time\n",
    "\n",
    "finished = True\n",
    "\n",
    "cv_result = pd.DataFrame(columns=['mean_score' ] + [key for key, value in clf.grid_scores_[0].parameters.items() ] )\n",
    "i=0\n",
    "for setup in clf.grid_scores_:\n",
    "    row = [clf.grid_scores_[i].mean_validation_score ] + [value for key, value in clf.grid_scores_[i].parameters.items() ]\n",
    "    cv_result.loc[i] = row\n",
    "    i+=1\n",
    "    \n",
    "print('This cell took %s seconds to run' % all_time)\n"
   ]
  },
  {
   "cell_type": "code",
   "execution_count": null,
   "metadata": {
    "collapsed": true
   },
   "outputs": [],
   "source": [
    "coln=1\n",
    "print(cv_result.groupby(cv_result.columns[coln])['mean_score'].mean())\n",
    "print(cv_result.groupby(cv_result.columns[coln])['mean_score'].std())"
   ]
  },
  {
   "cell_type": "code",
   "execution_count": 23,
   "metadata": {
    "collapsed": true
   },
   "outputs": [
    {
     "name": "stdout",
     "output_type": "stream",
     "text": [
      "criterion\n",
      "gini    0.802919\n",
      "Name: mean_score, dtype: float64\n",
      "criterion\n",
      "gini    0.000598\n",
      "Name: mean_score, dtype: float64\n"
     ]
    }
   ],
   "source": [
    "coln=3\n",
    "print(cv_result.groupby(cv_result.columns[coln])['mean_score'].mean())\n",
    "print(cv_result.groupby(cv_result.columns[coln])['mean_score'].std())\n"
   ]
  },
  {
   "cell_type": "code",
   "execution_count": null,
   "metadata": {
    "collapsed": true
   },
   "outputs": [],
   "source": []
  },
  {
   "cell_type": "markdown",
   "metadata": {},
   "source": [
    "## CrossV SVC"
   ]
  },
  {
   "cell_type": "code",
   "execution_count": null,
   "metadata": {
    "collapsed": true
   },
   "outputs": [],
   "source": [
    "start_time = time.time()\n",
    "\n",
    "param_grid = [{'kernel': ['rbf'], 'gamma': list(10.0 ** pd.np.arange(-2, 3)),\n",
    "                     'C': list(10.0 ** pd.np.arange(0, 4))},\n",
    "                    {'kernel': ['poly'], 'C': list(10.0 ** pd.np.arange(0, 4)), 'degree'[2,3,4]}]\n",
    "\n",
    "svc = SVC(shuffle=True, probability=True,decision_function_shape = 'ovr',\n",
    "           verbose=True, class_weight='balanced'\n",
    "          )\n",
    "\n",
    "clf =GridSearchCV(svc, param_grid, scoring='roc_auc', fit_params=None, n_jobs=4, iid=True, refit=True, \n",
    "verbose=3, pre_dispatch='2*n_jobs', error_score='raise')\n",
    "\n",
    "clf.fit(X_train,y_train)\n",
    "\n",
    "predicted_proba = pd.DataFrame()\n",
    "predicted_proba['prob'] = clf.predict_proba(X_test).max(axis=1)\n",
    "predicted_proba['gt'] = y_test\n",
    "predicted_proba['class'] = clf.predict(X_test)\n",
    "\n",
    "threshold = 0.7\n",
    "ind = predicted_proba['prob']>threshold\n",
    "\n",
    "all_time =   time.time() - start_time\n",
    "\n",
    "print(classification_report(predicted_proba.loc[ind,'gt'].values,predicted_proba.loc[ind,'class'].values ))\n",
    "\n",
    "cv_result = pd.DataFrame(columns=['mean_score' ] + [key for key, value in clf.grid_scores_[0].parameters.items() ] )\n",
    "i=0\n",
    "for setup in clf.grid_scores_:\n",
    "    row = [clf.grid_scores_[i].mean_validation_score ] + [value for key, value in clf.grid_scores_[i].parameters.items() ]\n",
    "    cv_result.loc[i] = row\n",
    "    i+=1\n",
    "#este flag es basicamente para chequear que hayamos terminado nomas\n",
    "finished = True"
   ]
  },
  {
   "cell_type": "code",
   "execution_count": null,
   "metadata": {
    "collapsed": true
   },
   "outputs": [],
   "source": [
    "coln=3\n",
    "print(cv_result.groupby(cv_result.columns[coln])['mean_score'].mean())\n",
    "print(cv_result.groupby(cv_result.columns[coln])['mean_score'].std())\n"
   ]
  },
  {
   "cell_type": "code",
   "execution_count": 214,
   "metadata": {
    "scrolled": true
   },
   "outputs": [
    {
     "name": "stdout",
     "output_type": "stream",
     "text": [
      "GradientBoosting took 117.26272392272949 seconds to run\n",
      "This cell took 117.26284193992615 seconds to run\n"
     ]
    }
   ],
   "source": [
    "#tomo tiempo para saber cuanto tarda fitear el estimador\n",
    "start_time = time.time()\n",
    "\n",
    "#model = model.fit(X,y,sample_weight=W)\n",
    "\n",
    "W = pd.np.array([10 if i == 1 or i ==2  else 1 for i in y_mini])\n",
    "gradboost.fit(X_mini,y_mini, sample_weight=W)\n",
    "\n",
    "elapsed_time =   time.time() - start_time\n",
    "print('GradientBoosting took %s seconds to run' % elapsed_time)\n",
    "\n",
    "#validated =  cross_val_score(gradboost,X,y,cv=5, scoring = \"f1_weighted\")\n",
    "\n",
    "\n",
    "all_time =   time.time() - start_time\n",
    "print('This cell took %s seconds to run' % all_time)"
   ]
  },
  {
   "cell_type": "markdown",
   "metadata": {},
   "source": [
    "## Timings\n",
    "* 5s con  10 n_estimadores, 15 max_depth y X.sample(0.2)\n",
    "* 15s con 10 n_estimadores, 15 max_depth y X.sample(0.2)\n",
    "* 47s con 10 n_estimadores, 15 max_depth y X.sample(0.4)\n",
    "* 35s con 10 n_estimadores, 15 max_depth y X.sample(0.4)\n",
    "* 117 con 20 n_estimadores, 20 max_depth y X.sample(0.4)"
   ]
  },
  {
   "cell_type": "code",
   "execution_count": 31,
   "metadata": {},
   "outputs": [
    {
     "data": {
      "text/plain": [
       "0    128153\n",
       "1      7064\n",
       "Name: ground_truth, dtype: int64"
      ]
     },
     "execution_count": 31,
     "metadata": {},
     "output_type": "execute_result"
    }
   ],
   "source": [
    "X_train['ground_truth'].value_counts()"
   ]
  },
  {
   "cell_type": "code",
   "execution_count": null,
   "metadata": {
    "collapsed": true
   },
   "outputs": [],
   "source": []
  },
  {
   "cell_type": "markdown",
   "metadata": {},
   "source": [
    "### Results\n",
    "* NO escalar (normalizar, restar la media  dividir por la std, etc) los resultados pues REVIENTAN los scores.\n",
    "* bootstrap  = False es 5% mejor\n",
    "* min_samples_leaf = mas chico es claramente mejor, pero tmb aumenta el overfitting lo cual me hace caer mucho el valor del recall en el test_set. Sin embargo es un parametro muy sensible en la precision. Resta evaluar asi el tradeoff entre la precision y el volumen de users al cual queremos llegar.\n",
    "* n_estimators = aumentar mas de 30 no tendria mucho sentido\n",
    "* citerion = entropy o gini no cambia. gini podria ser mejor entonces pues entropy usa logs de los valores lo cual es mas computacionalmente costoso\n",
    "* max_features = no afecta al score. con auto esta bien\n",
    "* max_depth =  mas es mejor. intentaria probar con >15"
   ]
  },
  {
   "cell_type": "code",
   "execution_count": null,
   "metadata": {
    "collapsed": true
   },
   "outputs": [],
   "source": []
  },
  {
   "cell_type": "code",
   "execution_count": null,
   "metadata": {
    "collapsed": true
   },
   "outputs": [],
   "source": [
    "%%time\n",
    "#con decomposicion qr tratamos de ver si existe alguna columna que sea comb linear de las demas\n",
    "linear_test = pd.np.linalg.qr(X_train.sample(1e6))[1]\n",
    "#notar que devuelve la tabla de tamanyo N`columnas x Ncolumnas\n",
    "\n",
    "#sumo a traves de las columnas para que me de el valor absoluto sumado de c/fila\n",
    "linear_test = abs(linear_test.sum(axis=1))<1e-2\n",
    "#si hubiese alguan que sea linearcomb entonces tendria que aparecer que toda la fila es de ceros\n",
    "for i, col in enumerate(X_train.columns):\n",
    "    if linear_test[i] == True:\n",
    "        print(col)"
   ]
  },
  {
   "cell_type": "code",
   "execution_count": null,
   "metadata": {
    "collapsed": true
   },
   "outputs": [],
   "source": []
  },
  {
   "cell_type": "code",
   "execution_count": null,
   "metadata": {
    "collapsed": true
   },
   "outputs": [],
   "source": []
  },
  {
   "cell_type": "markdown",
   "metadata": {
    "collapsed": true
   },
   "source": [
    "# Todo\n",
    "* evaluate hit_rate and \n",
    "* tune adaboost, bernoulliRBM\n",
    "* xgboost\n",
    "* libffm\n",
    "* SVC muy lento.. speed up in AWS\n"
   ]
  }
 ],
 "metadata": {
  "kernelspec": {
   "display_name": "Python 2",
   "language": "python",
   "name": "python2"
  },
  "language_info": {
   "codemirror_mode": {
    "name": "ipython",
    "version": 2
   },
   "file_extension": ".py",
   "mimetype": "text/x-python",
   "name": "python",
   "nbconvert_exporter": "python",
   "pygments_lexer": "ipython2",
   "version": "2.7.3"
  }
 },
 "nbformat": 4,
 "nbformat_minor": 1
}
