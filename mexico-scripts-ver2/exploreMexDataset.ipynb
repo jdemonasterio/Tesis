{
 "cells": [
  {
   "cell_type": "markdown",
   "metadata": {},
   "source": [
    "A partir de las 3 tablas ya procesdas : \n",
    "* homeantennas\n",
    "* sumlinks\n",
    "* groundtruth\n",
    "\n",
    "Procedemos a utilizar los clasificadores para ver prediccion"
   ]
  },
  {
   "cell_type": "code",
   "execution_count": 1,
   "metadata": {},
   "outputs": [
    {
     "data": {
      "application/javascript": [
       "IPython.notebook.set_autosave_interval(180000)"
      ]
     },
     "metadata": {},
     "output_type": "display_data"
    },
    {
     "name": "stdout",
     "output_type": "stream",
     "text": [
      "Autosaving every 180 seconds\n"
     ]
    }
   ],
   "source": [
    "## seteamos los parametros del notebook\n",
    "%autosave 180\n",
    "import pandas as pd; \n",
    "import numpy as np; \n",
    "import os;\n",
    "import random;\n",
    "import time\n",
    "%matplotlib inline\n",
    "import numpy as np; import os;import random;\n",
    "import graphlab as gl\n",
    "#esto es para dibujar directo a la notebook\n",
    "gl.canvas.set_target('ipynb')\n",
    "\n",
    "#seteamos el lugar de trabajo\n",
    "#seteamos el lugar de trabajo\n",
    "HOMEDIR=os.path.expanduser('~')\n",
    "\n",
    "PROJECTDIR = os.getcwd().split(os.sep)\n",
    "PROJECTDIR =  os.sep.join(PROJECTDIR[:PROJECTDIR.index('mexico-scripts-ver2') + 1])\n",
    "\n",
    "DATADIR = os.path.join(PROJECTDIR,'datasets')\n",
    "\n",
    "DATADIR2 = os.path.join(PROJECTDIR,'data')\n",
    "\n",
    "# os.chdir(DATADIR)\n"
   ]
  },
  {
   "cell_type": "code",
   "execution_count": 31,
   "metadata": {},
   "outputs": [
    {
     "name": "stdout",
     "output_type": "stream",
     "text": [
      "gtruth_0114_0715  gtruth_0215_0715  homeant  sl  sl.csv.gz\r\n"
     ]
    }
   ],
   "source": [
    "!ls $DATADIR"
   ]
  },
  {
   "cell_type": "code",
   "execution_count": 2,
   "metadata": {
    "collapsed": true
   },
   "outputs": [],
   "source": [
    "def get_input_sframe(ds):\n",
    "    if ds == 'home_antenna': url = DATADIR +\"/homeant\"\n",
    "    elif ds == 'sum_links': url  = DATADIR +\"/sl\"\n",
    "    elif ds == 'gtruth_02': url  = DATADIR +\"/gtruth_0215_0715\" # can be near ground truth (previous to july 2015)\n",
    "    elif ds == 'gtruth_01': url  =  DATADIR +\"/gtruth_0114_0715\" # or can be old GT\n",
    "    else: print('type chosen is %s, type should be home_antenna, sum_links, gtruth_02 or gtruth_01' % ds)\n",
    "    return url "
   ]
  },
  {
   "cell_type": "code",
   "execution_count": 3,
   "metadata": {},
   "outputs": [
    {
     "name": "stdout",
     "output_type": "stream",
     "text": [
      "92M\t/home/juan/mobility-study/mexico-scripts-ver2/datasets/gtruth_0114_0715\r\n"
     ]
    }
   ],
   "source": [
    "url = get_input_sframe('gtruth_01')\n",
    "!du -sh $url"
   ]
  },
  {
   "cell_type": "code",
   "execution_count": 4,
   "metadata": {
    "collapsed": true
   },
   "outputs": [],
   "source": [
    "#from unbalanced_dataset import UnderSampler, NearMiss, CondensedNearestNeighbour, OneSidedSelection,\\\n",
    "#NeighbourhoodCleaningRule, TomekLinks, ClusterCentroids, OverSampler, SMOTE,\\\n",
    "#SMOTETomek, SMOTEENN, EasyEnsemble, BalanceCascade"
   ]
  },
  {
   "cell_type": "code",
   "execution_count": null,
   "metadata": {
    "collapsed": true
   },
   "outputs": [],
   "source": [
    "## load a reduced sized"
   ]
  },
  {
   "cell_type": "code",
   "execution_count": 1,
   "metadata": {
    "collapsed": true
   },
   "outputs": [],
   "source": [
    "# set what is the resulting sample we want of the global dataset\n",
    "global_split = 0.25\n",
    "global_split = None\n",
    "# since we have 2 datseets that will be later joined and which are going to be previously sampled, in the end this \n",
    "# independent sampling will result in that, after the join, the dataset will have a size of fraction given by \n",
    "# the `global_split` variable\n",
    "\n",
    "seed = 2015\n",
    "if global_split:\n",
    "    sample = np.sqrt(global_split)\n",
    "    print(sample)"
   ]
  },
  {
   "cell_type": "code",
   "execution_count": 9,
   "metadata": {
    "scrolled": true
   },
   "outputs": [
    {
     "name": "stdout",
     "output_type": "stream",
     "text": [
      "CPU times: user 20 ms, sys: 4 ms, total: 24 ms\n",
      "Wall time: 207 ms\n"
     ]
    }
   ],
   "source": [
    "%%time\n",
    "\n",
    "sf_table = gl.load_sframe(get_input_sframe('home_antenna'))\n",
    "sl_table = gl.load_sframe(get_input_sframe('sum_links'))\n",
    "gt_table = gl.load_sframe(get_input_sframe('gtruth_01'))\n",
    "\n",
    "\n",
    "if global_split:\n",
    "    sf_table, _ = sf_table.random_split(sample,seed=seed)\n",
    "    sl_table, _ = sl_table.random_split(sample,seed=seed)\n",
    "    gt_table, _ = gt_table.random_split(sample,seed=seed)\n",
    "\n",
    "rename_gt = (dict([(col,col+\"_gt\") for col in gt_table.column_names() if col != 'USER']))\n",
    "\n",
    "#agrego la etiqueta \"_gt\" a las columnas del ground_truth\n",
    "gt_table.rename(rename_gt) "
   ]
  },
  {
   "cell_type": "markdown",
   "metadata": {},
   "source": [
    "# checking table consistency\n",
    "i.e. that users intersect across datasets"
   ]
  },
  {
   "cell_type": "code",
   "execution_count": 10,
   "metadata": {},
   "outputs": [
    {
     "name": "stdout",
     "output_type": "stream",
     "text": [
      "CPU times: user 42.8 s, sys: 3.93 s, total: 46.7 s\n",
      "Wall time: 1min 16s\n"
     ]
    }
   ],
   "source": [
    "%%time\n",
    "gt_users = set(gt_table['USER'].to_numpy())\n",
    "sl_users = set(sl_table['USER'].to_numpy())\n",
    "sf_users = set(sf_table['USER'].to_numpy())"
   ]
  },
  {
   "cell_type": "code",
   "execution_count": 11,
   "metadata": {},
   "outputs": [
    {
     "name": "stdout",
     "output_type": "stream",
     "text": [
      "((2035391, 43), (1787143, 131), (2341136, 3))\n",
      "(2341136, 1787143, 2035391)\n",
      "CPU times: user 4 ms, sys: 0 ns, total: 4 ms\n",
      "Wall time: 6.54 ms\n"
     ]
    }
   ],
   "source": [
    "%%time\n",
    "print(sf_table.shape, sl_table.shape, gt_table.shape)\n",
    "print(len(gt_users), len(sl_users), len(sf_users))"
   ]
  },
  {
   "cell_type": "code",
   "execution_count": 12,
   "metadata": {},
   "outputs": [
    {
     "name": "stdout",
     "output_type": "stream",
     "text": [
      "CPU times: user 4.32 s, sys: 176 ms, total: 4.49 s\n",
      "Wall time: 6.48 s\n"
     ]
    },
    {
     "data": {
      "text/plain": [
       "(1483010, 1628968, 1787143)"
      ]
     },
     "execution_count": 12,
     "metadata": {},
     "output_type": "execute_result"
    }
   ],
   "source": [
    "%%time\n",
    "len(gt_users & sl_users), len(gt_users & sf_users), len(sf_users & sl_users)"
   ]
  },
  {
   "cell_type": "markdown",
   "metadata": {},
   "source": [
    "## simple format description"
   ]
  },
  {
   "cell_type": "markdown",
   "metadata": {},
   "source": [
    "Aca miramos las top 10 antenas que utilizo un usuario, ordeandas de 0 a 10 segun el uso, en numero de llamados, que el user le daba a c. antenna. _0_ Seria la antenna mas utilizada y _10_ la menos utilizada. El count es la cantidad de veces que utilizo esa antenna. \n",
    "\n",
    "Cuando aparece _WEEKNIGHT_ en el nombre de la columna, es porque cumple la condicion de que los llamados fueron hechos de noche fuera del horario [8,20] y dentro de la semana laboral.\n",
    "\n",
    "Siguiendo las definiciones del trabajo de Caro, un user es _EPIDEMIC_ siii su ANTENNA_WEEKNIGHT_0 (esta es la home_antenna) pertence a la zona epidemica.\n",
    "\n",
    "El mobility_diameter es el radio de las antennas (0 si uso una sola, etc.) utilizadas por este user. Nuevamente el modificador _WEEKNIGHT_ solo aplica para antennas utilizadas en esos horarios."
   ]
  },
  {
   "cell_type": "code",
   "execution_count": 13,
   "metadata": {
    "scrolled": true
   },
   "outputs": [
    {
     "data": {
      "text/plain": [
       "['USER',\n",
       " 'COUNT_0',\n",
       " 'COUNT_1',\n",
       " 'COUNT_2',\n",
       " 'COUNT_3',\n",
       " 'COUNT_4',\n",
       " 'COUNT_5',\n",
       " 'COUNT_6',\n",
       " 'COUNT_7',\n",
       " 'COUNT_8',\n",
       " 'COUNT_9',\n",
       " 'ANTENNA_ID_0',\n",
       " 'ANTENNA_ID_1',\n",
       " 'ANTENNA_ID_2',\n",
       " 'ANTENNA_ID_3',\n",
       " 'ANTENNA_ID_4',\n",
       " 'ANTENNA_ID_5',\n",
       " 'ANTENNA_ID_6',\n",
       " 'ANTENNA_ID_7',\n",
       " 'ANTENNA_ID_8',\n",
       " 'ANTENNA_ID_9',\n",
       " 'COUNT_WEEKNIGHT_0',\n",
       " 'COUNT_WEEKNIGHT_1',\n",
       " 'COUNT_WEEKNIGHT_2',\n",
       " 'COUNT_WEEKNIGHT_3',\n",
       " 'COUNT_WEEKNIGHT_4',\n",
       " 'COUNT_WEEKNIGHT_5',\n",
       " 'COUNT_WEEKNIGHT_6',\n",
       " 'COUNT_WEEKNIGHT_7',\n",
       " 'COUNT_WEEKNIGHT_8',\n",
       " 'COUNT_WEEKNIGHT_9',\n",
       " 'ANTENNA_ID_WEEKNIGHT_0',\n",
       " 'ANTENNA_ID_WEEKNIGHT_1',\n",
       " 'ANTENNA_ID_WEEKNIGHT_2',\n",
       " 'ANTENNA_ID_WEEKNIGHT_3',\n",
       " 'ANTENNA_ID_WEEKNIGHT_4',\n",
       " 'ANTENNA_ID_WEEKNIGHT_5',\n",
       " 'ANTENNA_ID_WEEKNIGHT_6',\n",
       " 'ANTENNA_ID_WEEKNIGHT_7',\n",
       " 'ANTENNA_ID_WEEKNIGHT_8',\n",
       " 'ANTENNA_ID_WEEKNIGHT_9',\n",
       " 'MOBILITY_DIAMETER',\n",
       " 'MOBILITY_DIAMETER_WEEKNIGHT']"
      ]
     },
     "execution_count": 13,
     "metadata": {},
     "output_type": "execute_result"
    }
   ],
   "source": [
    "# column names\n",
    "sf_table.column_names()"
   ]
  },
  {
   "cell_type": "markdown",
   "metadata": {},
   "source": [
    "## sum links description\n",
    "\n",
    "La tabla sum_links tiene mas atributos y con data mas rica en informacion:\n",
    "    \n",
    "Esencialmente para c/ user miramos la cantidad de llamados y el tiempo que duraron esos llamados pero segmentando con distintos modificadores. `Time` representa la duracion del llamado y Calls el conteo de llamados.\n",
    "\n",
    "Los modficadores/ segmentaciones son:\n",
    "\n",
    "* mes en el cual estamos parados (12 == diciembre, ..., 08 == agosto)\n",
    "* OUT/IN, separa por la direccion de los llamados si salientes u entrantes.\n",
    "* _VULN_ : separa los llamados que fueron realizados hacia/desde un target_user (en una llamada hay 2 usuarios, el origin o el target) viviendo en una zona epidemica. Donde la home antena de un target_user determina su vulnerabilidad segun si es zona epidemica o no.\n",
    "* Weekend, WeekDay y WeekNight son lo que suenan. Weekend el finde, Weeknight la semana pero fuera de horario laboral y Weekday en horario laboral y de lunes a viernes.\n",
    "\n",
    "Hay solo una columna que no entra enteramente en este esquema que es VULNERABLE. Esta columna hace un conteo p/c/ usuario d cuantos target_users viven en una zona epidemica. Tambien se segmenta esta columna con los modficiadores anteriores (el mes y el out/in)."
   ]
  },
  {
   "cell_type": "code",
   "execution_count": 14,
   "metadata": {
    "scrolled": true
   },
   "outputs": [
    {
     "data": {
      "text/plain": [
       "['USER',\n",
       " 'TimeWeekEnd_OUT_12',\n",
       " 'CallsWeekDay_OUT_12',\n",
       " 'CallsWeekNight_OUT_12',\n",
       " 'TimeWeekDay_OUT_12',\n",
       " 'CallsWeekEnd_OUT_12',\n",
       " 'TimeWeekNight_OUT_12',\n",
       " 'TimeWeekEnd_OUT_VUL_12',\n",
       " 'CallsWeekDay_OUT_VUL_12',\n",
       " 'CallsWeekNight_OUT_VUL_12',\n",
       " 'TimeWeekDay_OUT_VUL_12',\n",
       " 'CallsWeekEnd_OUT_VUL_12',\n",
       " 'TimeWeekNight_OUT_VUL_12',\n",
       " 'VULNERABLE_OUT_12',\n",
       " 'TimeWeekEnd_IN_12',\n",
       " 'CallsWeekDay_IN_12',\n",
       " 'CallsWeekNight_IN_12',\n",
       " 'TimeWeekDay_IN_12',\n",
       " 'CallsWeekEnd_IN_12',\n",
       " 'TimeWeekNight_IN_12',\n",
       " 'TimeWeekEnd_IN_VUL_12',\n",
       " 'CallsWeekDay_IN_VUL_12',\n",
       " 'CallsWeekNight_IN_VUL_12',\n",
       " 'TimeWeekDay_IN_VUL_12',\n",
       " 'CallsWeekEnd_IN_VUL_12',\n",
       " 'TimeWeekNight_IN_VUL_12',\n",
       " 'VULNERABLE_IN_12',\n",
       " 'TimeWeekEnd_OUT_08',\n",
       " 'CallsWeekDay_OUT_08',\n",
       " 'CallsWeekNight_OUT_08',\n",
       " 'TimeWeekDay_OUT_08',\n",
       " 'CallsWeekEnd_OUT_08',\n",
       " 'TimeWeekNight_OUT_08',\n",
       " 'TimeWeekEnd_OUT_VUL_08',\n",
       " 'CallsWeekDay_OUT_VUL_08',\n",
       " 'CallsWeekNight_OUT_VUL_08',\n",
       " 'TimeWeekDay_OUT_VUL_08',\n",
       " 'CallsWeekEnd_OUT_VUL_08',\n",
       " 'TimeWeekNight_OUT_VUL_08',\n",
       " 'VULNERABLE_OUT_08',\n",
       " 'TimeWeekEnd_IN_08',\n",
       " 'CallsWeekDay_IN_08',\n",
       " 'CallsWeekNight_IN_08',\n",
       " 'TimeWeekDay_IN_08',\n",
       " 'CallsWeekEnd_IN_08',\n",
       " 'TimeWeekNight_IN_08',\n",
       " 'TimeWeekEnd_IN_VUL_08',\n",
       " 'CallsWeekDay_IN_VUL_08',\n",
       " 'CallsWeekNight_IN_VUL_08',\n",
       " 'TimeWeekDay_IN_VUL_08',\n",
       " 'CallsWeekEnd_IN_VUL_08',\n",
       " 'TimeWeekNight_IN_VUL_08',\n",
       " 'VULNERABLE_IN_08',\n",
       " 'TimeWeekEnd_OUT_09',\n",
       " 'CallsWeekDay_OUT_09',\n",
       " 'CallsWeekNight_OUT_09',\n",
       " 'TimeWeekDay_OUT_09',\n",
       " 'CallsWeekEnd_OUT_09',\n",
       " 'TimeWeekNight_OUT_09',\n",
       " 'TimeWeekEnd_OUT_VUL_09',\n",
       " 'CallsWeekDay_OUT_VUL_09',\n",
       " 'CallsWeekNight_OUT_VUL_09',\n",
       " 'TimeWeekDay_OUT_VUL_09',\n",
       " 'CallsWeekEnd_OUT_VUL_09',\n",
       " 'TimeWeekNight_OUT_VUL_09',\n",
       " 'VULNERABLE_OUT_09',\n",
       " 'TimeWeekEnd_IN_09',\n",
       " 'CallsWeekDay_IN_09',\n",
       " 'CallsWeekNight_IN_09',\n",
       " 'TimeWeekDay_IN_09',\n",
       " 'CallsWeekEnd_IN_09',\n",
       " 'TimeWeekNight_IN_09',\n",
       " 'TimeWeekEnd_IN_VUL_09',\n",
       " 'CallsWeekDay_IN_VUL_09',\n",
       " 'CallsWeekNight_IN_VUL_09',\n",
       " 'TimeWeekDay_IN_VUL_09',\n",
       " 'CallsWeekEnd_IN_VUL_09',\n",
       " 'TimeWeekNight_IN_VUL_09',\n",
       " 'VULNERABLE_IN_09',\n",
       " 'TimeWeekEnd_OUT_10',\n",
       " 'CallsWeekDay_OUT_10',\n",
       " 'CallsWeekNight_OUT_10',\n",
       " 'TimeWeekDay_OUT_10',\n",
       " 'CallsWeekEnd_OUT_10',\n",
       " 'TimeWeekNight_OUT_10',\n",
       " 'TimeWeekEnd_OUT_VUL_10',\n",
       " 'CallsWeekDay_OUT_VUL_10',\n",
       " 'CallsWeekNight_OUT_VUL_10',\n",
       " 'TimeWeekDay_OUT_VUL_10',\n",
       " 'CallsWeekEnd_OUT_VUL_10',\n",
       " 'TimeWeekNight_OUT_VUL_10',\n",
       " 'VULNERABLE_OUT_10',\n",
       " 'TimeWeekEnd_IN_10',\n",
       " 'CallsWeekDay_IN_10',\n",
       " 'CallsWeekNight_IN_10',\n",
       " 'TimeWeekDay_IN_10',\n",
       " 'CallsWeekEnd_IN_10',\n",
       " 'TimeWeekNight_IN_10',\n",
       " 'TimeWeekEnd_IN_VUL_10',\n",
       " 'CallsWeekDay_IN_VUL_10',\n",
       " 'CallsWeekNight_IN_VUL_10',\n",
       " 'TimeWeekDay_IN_VUL_10',\n",
       " 'CallsWeekEnd_IN_VUL_10',\n",
       " 'TimeWeekNight_IN_VUL_10',\n",
       " 'VULNERABLE_IN_10',\n",
       " 'TimeWeekEnd_OUT_11',\n",
       " 'CallsWeekDay_OUT_11',\n",
       " 'CallsWeekNight_OUT_11',\n",
       " 'TimeWeekDay_OUT_11',\n",
       " 'CallsWeekEnd_OUT_11',\n",
       " 'TimeWeekNight_OUT_11',\n",
       " 'TimeWeekEnd_OUT_VUL_11',\n",
       " 'CallsWeekDay_OUT_VUL_11',\n",
       " 'CallsWeekNight_OUT_VUL_11',\n",
       " 'TimeWeekDay_OUT_VUL_11',\n",
       " 'CallsWeekEnd_OUT_VUL_11',\n",
       " 'TimeWeekNight_OUT_VUL_11',\n",
       " 'VULNERABLE_OUT_11',\n",
       " 'TimeWeekEnd_IN_11',\n",
       " 'CallsWeekDay_IN_11',\n",
       " 'CallsWeekNight_IN_11',\n",
       " 'TimeWeekDay_IN_11',\n",
       " 'CallsWeekEnd_IN_11',\n",
       " 'TimeWeekNight_IN_11',\n",
       " 'TimeWeekEnd_IN_VUL_11',\n",
       " 'CallsWeekDay_IN_VUL_11',\n",
       " 'CallsWeekNight_IN_VUL_11',\n",
       " 'TimeWeekDay_IN_VUL_11',\n",
       " 'CallsWeekEnd_IN_VUL_11',\n",
       " 'TimeWeekNight_IN_VUL_11',\n",
       " 'VULNERABLE_IN_11']"
      ]
     },
     "execution_count": 14,
     "metadata": {},
     "output_type": "execute_result"
    }
   ],
   "source": [
    "# column names\n",
    "sl_table.column_names()"
   ]
  },
  {
   "cell_type": "markdown",
   "metadata": {},
   "source": [
    "# Para la\n",
    "tabla gt (ground_truth) es mas simple la explicacion. Solo se busco el antenna_ID_0 (nuevamente la antenna mas utilizada) por un user"
   ]
  },
  {
   "cell_type": "code",
   "execution_count": 15,
   "metadata": {
    "scrolled": true
   },
   "outputs": [
    {
     "data": {
      "text/html": [
       "<div style=\"max-height:1000px;max-width:1500px;overflow:auto;\"><table frame=\"box\" rules=\"cols\">\n",
       "    <tr>\n",
       "        <th style=\"padding-left: 1em; padding-right: 1em; text-align: center\">USER</th>\n",
       "        <th style=\"padding-left: 1em; padding-right: 1em; text-align: center\">ANTENNA_ID_0_gt</th>\n",
       "        <th style=\"padding-left: 1em; padding-right: 1em; text-align: center\">ANTENNA_ID_WEEKNIGHT_0_gt</th>\n",
       "    </tr>\n",
       "    <tr>\n",
       "        <td style=\"padding-left: 1em; padding-right: 1em; text-align: center; vertical-align: top\">41D91B8CB8747902A80D6108D<br>548A8AF ...</td>\n",
       "        <td style=\"padding-left: 1em; padding-right: 1em; text-align: center; vertical-align: top\">2898</td>\n",
       "        <td style=\"padding-left: 1em; padding-right: 1em; text-align: center; vertical-align: top\">2898</td>\n",
       "    </tr>\n",
       "    <tr>\n",
       "        <td style=\"padding-left: 1em; padding-right: 1em; text-align: center; vertical-align: top\">24A624FC979DF41830A31C7CE<br>D65E2D2 ...</td>\n",
       "        <td style=\"padding-left: 1em; padding-right: 1em; text-align: center; vertical-align: top\">4285</td>\n",
       "        <td style=\"padding-left: 1em; padding-right: 1em; text-align: center; vertical-align: top\">4285</td>\n",
       "    </tr>\n",
       "    <tr>\n",
       "        <td style=\"padding-left: 1em; padding-right: 1em; text-align: center; vertical-align: top\">C3FF4C9281746CAC6C09802C2<br>54BDE71 ...</td>\n",
       "        <td style=\"padding-left: 1em; padding-right: 1em; text-align: center; vertical-align: top\">4336</td>\n",
       "        <td style=\"padding-left: 1em; padding-right: 1em; text-align: center; vertical-align: top\">4336</td>\n",
       "    </tr>\n",
       "    <tr>\n",
       "        <td style=\"padding-left: 1em; padding-right: 1em; text-align: center; vertical-align: top\">212D3A9745F13470632678443<br>11B31FF ...</td>\n",
       "        <td style=\"padding-left: 1em; padding-right: 1em; text-align: center; vertical-align: top\">1200</td>\n",
       "        <td style=\"padding-left: 1em; padding-right: 1em; text-align: center; vertical-align: top\">884</td>\n",
       "    </tr>\n",
       "    <tr>\n",
       "        <td style=\"padding-left: 1em; padding-right: 1em; text-align: center; vertical-align: top\">544695294E816F26691C4D015<br>16ABF9B ...</td>\n",
       "        <td style=\"padding-left: 1em; padding-right: 1em; text-align: center; vertical-align: top\">195</td>\n",
       "        <td style=\"padding-left: 1em; padding-right: 1em; text-align: center; vertical-align: top\">195</td>\n",
       "    </tr>\n",
       "    <tr>\n",
       "        <td style=\"padding-left: 1em; padding-right: 1em; text-align: center; vertical-align: top\">FEC4BD059A42FB5283E07539C<br>1FD2CB1 ...</td>\n",
       "        <td style=\"padding-left: 1em; padding-right: 1em; text-align: center; vertical-align: top\">262</td>\n",
       "        <td style=\"padding-left: 1em; padding-right: 1em; text-align: center; vertical-align: top\">262</td>\n",
       "    </tr>\n",
       "    <tr>\n",
       "        <td style=\"padding-left: 1em; padding-right: 1em; text-align: center; vertical-align: top\">BDEF57DB3EF1035FF3F210B47<br>FC2A5B0 ...</td>\n",
       "        <td style=\"padding-left: 1em; padding-right: 1em; text-align: center; vertical-align: top\">1557</td>\n",
       "        <td style=\"padding-left: 1em; padding-right: 1em; text-align: center; vertical-align: top\">4021</td>\n",
       "    </tr>\n",
       "    <tr>\n",
       "        <td style=\"padding-left: 1em; padding-right: 1em; text-align: center; vertical-align: top\">3AE1DCA333E55CA87E4F53310<br>35DB600 ...</td>\n",
       "        <td style=\"padding-left: 1em; padding-right: 1em; text-align: center; vertical-align: top\">608</td>\n",
       "        <td style=\"padding-left: 1em; padding-right: 1em; text-align: center; vertical-align: top\">608</td>\n",
       "    </tr>\n",
       "    <tr>\n",
       "        <td style=\"padding-left: 1em; padding-right: 1em; text-align: center; vertical-align: top\">2A72E07E48667A6289D93874A<br>623C152 ...</td>\n",
       "        <td style=\"padding-left: 1em; padding-right: 1em; text-align: center; vertical-align: top\">2302</td>\n",
       "        <td style=\"padding-left: 1em; padding-right: 1em; text-align: center; vertical-align: top\">2302</td>\n",
       "    </tr>\n",
       "    <tr>\n",
       "        <td style=\"padding-left: 1em; padding-right: 1em; text-align: center; vertical-align: top\">C5287E4004BE8F3A12AD489FE<br>8204056 ...</td>\n",
       "        <td style=\"padding-left: 1em; padding-right: 1em; text-align: center; vertical-align: top\">2644</td>\n",
       "        <td style=\"padding-left: 1em; padding-right: 1em; text-align: center; vertical-align: top\">828</td>\n",
       "    </tr>\n",
       "</table>\n",
       "[10 rows x 3 columns]<br/>\n",
       "</div>"
      ],
      "text/plain": [
       "Columns:\n",
       "\tUSER\tstr\n",
       "\tANTENNA_ID_0_gt\tstr\n",
       "\tANTENNA_ID_WEEKNIGHT_0_gt\tstr\n",
       "\n",
       "Rows: 10\n",
       "\n",
       "Data:\n",
       "+-------------------------------+-----------------+---------------------------+\n",
       "|              USER             | ANTENNA_ID_0_gt | ANTENNA_ID_WEEKNIGHT_0_gt |\n",
       "+-------------------------------+-----------------+---------------------------+\n",
       "| 41D91B8CB8747902A80D6108D5... |       2898      |            2898           |\n",
       "| 24A624FC979DF41830A31C7CED... |       4285      |            4285           |\n",
       "| C3FF4C9281746CAC6C09802C25... |       4336      |            4336           |\n",
       "| 212D3A9745F134706326784431... |       1200      |            884            |\n",
       "| 544695294E816F26691C4D0151... |       195       |            195            |\n",
       "| FEC4BD059A42FB5283E07539C1... |       262       |            262            |\n",
       "| BDEF57DB3EF1035FF3F210B47F... |       1557      |            4021           |\n",
       "| 3AE1DCA333E55CA87E4F533103... |       608       |            608            |\n",
       "| 2A72E07E48667A6289D93874A6... |       2302      |            2302           |\n",
       "| C5287E4004BE8F3A12AD489FE8... |       2644      |            828            |\n",
       "+-------------------------------+-----------------+---------------------------+\n",
       "[10 rows x 3 columns]"
      ]
     },
     "execution_count": 15,
     "metadata": {},
     "output_type": "execute_result"
    }
   ],
   "source": [
    "gt_table.head()"
   ]
  },
  {
   "cell_type": "markdown",
   "metadata": {},
   "source": [
    "# Sanity Checks \n",
    "\n",
    "not all users are moving away from the epidemic zone.."
   ]
  },
  {
   "cell_type": "markdown",
   "metadata": {},
   "source": [
    "## Sanity check data Consistency\n",
    "Let $X$ be the matrix describing the features of our models and $Y$ our ground truth.\n",
    "\n",
    "* Do we have the same antenna_id between X and Y?\n",
    "* How much are users 'swapping' past/present home_antennas? swapping past/present epidemic status?"
   ]
  },
  {
   "cell_type": "markdown",
   "metadata": {},
   "source": [
    "### matriz de confusion (contingencia)\n",
    "http://scikit-learn.org/stable/modules/generated/sklearn.metrics.confusion_matrix.html\n",
    "\n",
    "\n",
    "By definition a confusion matrix $C$ is such that $C_{i, j}$\n",
    "\n",
    "is equal to the number of observations known to be in group $i $ but\n",
    "predicted to be in group $j$.\n",
    "    \n",
    "Como leer:\n",
    "* da el # de elementos en una categoria \n",
    "* La Prediccion va como columnas (eje 1)\n",
    "* La condicion real corre como filas (eje 0)\n",
    "\n",
    "|  \t| No Pred \t| Yes Pred \t|\n",
    "|:-------:\t|----------------\t|----------------\t|\n",
    "| Actual No \t| True Negative \t| False Negative \t|\n",
    "| Actual Yes \t| False Positive \t| True Positve \t|\n"
   ]
  },
  {
   "cell_type": "markdown",
   "metadata": {},
   "source": [
    "# We need antennas metadata"
   ]
  },
  {
   "cell_type": "code",
   "execution_count": null,
   "metadata": {
    "collapsed": true
   },
   "outputs": [],
   "source": []
  },
  {
   "cell_type": "code",
   "execution_count": 16,
   "metadata": {},
   "outputs": [
    {
     "data": {
      "text/html": [
       "<pre>Finished parsing file /home/juan/mobility-study/mexico-scripts-ver2/data/celdas_limpio.csv</pre>"
      ],
      "text/plain": [
       "Finished parsing file /home/juan/mobility-study/mexico-scripts-ver2/data/celdas_limpio.csv"
      ]
     },
     "metadata": {},
     "output_type": "display_data"
    },
    {
     "data": {
      "text/html": [
       "<pre>Parsing completed. Parsed 4415 lines in 0.11035 secs.</pre>"
      ],
      "text/plain": [
       "Parsing completed. Parsed 4415 lines in 0.11035 secs."
      ]
     },
     "metadata": {},
     "output_type": "display_data"
    }
   ],
   "source": [
    "#agregamos al gt su info de epidemicidad\n",
    "antennas_file = DATADIR2+'/celdas_limpio.csv'\n",
    "antennas = gl.SFrame.read_csv(antennas_file, \n",
    "                              delimiter= \"|\", \n",
    "                              usecols=['LATITUDE','LONGITUDE','CEL_ID','STATE','EPIDEMIC'],\n",
    "                              column_type_hints=[float, float, str,str, bool])"
   ]
  },
  {
   "cell_type": "code",
   "execution_count": 17,
   "metadata": {
    "collapsed": true
   },
   "outputs": [],
   "source": [
    "# agrego tambien data de epidemicidad al simpleformat table\n",
    "sf_table = sf_table.join(antennas['CEL_ID','EPIDEMIC','STATE'], \n",
    "                                     on = {'ANTENNA_ID_WEEKNIGHT_0':'CEL_ID'},\n",
    "                                     how = 'left')"
   ]
  },
  {
   "cell_type": "code",
   "execution_count": 18,
   "metadata": {},
   "outputs": [
    {
     "name": "stdout",
     "output_type": "stream",
     "text": [
      "CPU times: user 17.9 s, sys: 284 ms, total: 18.2 s\n",
      "Wall time: 4.51 s\n"
     ]
    }
   ],
   "source": [
    "%%time\n",
    "# enriquecemos la data de gt con info de epidemicidad\n",
    "gt_table = gt_table.join(antennas['CEL_ID','EPIDEMIC','STATE'], \n",
    "                         on = {'ANTENNA_ID_WEEKNIGHT_0_gt':'CEL_ID'},\n",
    "                         how = 'left')\n",
    "\n",
    "gt_table.rename({'EPIDEMIC':'EPIDEMIC_gt'})"
   ]
  },
  {
   "cell_type": "code",
   "execution_count": 20,
   "metadata": {},
   "outputs": [
    {
     "data": {
      "text/plain": [
       "Distrito_Federal    0.282549\n",
       "Mexico              0.212679\n",
       "Jalisco             0.107703\n",
       "Nuevo_Leon          0.096796\n",
       "Guanajuato          0.060668\n",
       "Puebla              0.058623\n",
       "Veracruz            0.054192\n",
       "Baja_California     0.043286\n",
       "Yucatan             0.041922\n",
       "Sinaloa             0.041581\n",
       "Name: STATE, dtype: float64"
      ]
     },
     "execution_count": 20,
     "metadata": {},
     "output_type": "execute_result"
    }
   ],
   "source": [
    "# count antenna distribution per state\n",
    "a = antennas.to_dataframe()['STATE'].value_counts().head(10)\n",
    "(a/a.sum()).head(15)"
   ]
  },
  {
   "cell_type": "code",
   "execution_count": 21,
   "metadata": {
    "scrolled": false
   },
   "outputs": [
    {
     "data": {
      "text/html": [
       "<div style=\"max-height:1000px;max-width:1500px;overflow:auto;\"><table frame=\"box\" rules=\"cols\">\n",
       "    <tr>\n",
       "        <th style=\"padding-left: 1em; padding-right: 1em; text-align: center\">LATITUDE</th>\n",
       "        <th style=\"padding-left: 1em; padding-right: 1em; text-align: center\">LONGITUDE</th>\n",
       "        <th style=\"padding-left: 1em; padding-right: 1em; text-align: center\">CEL_ID</th>\n",
       "        <th style=\"padding-left: 1em; padding-right: 1em; text-align: center\">STATE</th>\n",
       "        <th style=\"padding-left: 1em; padding-right: 1em; text-align: center\">EPIDEMIC</th>\n",
       "    </tr>\n",
       "    <tr>\n",
       "        <td style=\"padding-left: 1em; padding-right: 1em; text-align: center; vertical-align: top\">24.14206333</td>\n",
       "        <td style=\"padding-left: 1em; padding-right: 1em; text-align: center; vertical-align: top\">-110.2940553</td>\n",
       "        <td style=\"padding-left: 1em; padding-right: 1em; text-align: center; vertical-align: top\">1</td>\n",
       "        <td style=\"padding-left: 1em; padding-right: 1em; text-align: center; vertical-align: top\">Baja_California_Sur</td>\n",
       "        <td style=\"padding-left: 1em; padding-right: 1em; text-align: center; vertical-align: top\">0</td>\n",
       "    </tr>\n",
       "    <tr>\n",
       "        <td style=\"padding-left: 1em; padding-right: 1em; text-align: center; vertical-align: top\">19.31787222</td>\n",
       "        <td style=\"padding-left: 1em; padding-right: 1em; text-align: center; vertical-align: top\">-99.13700278</td>\n",
       "        <td style=\"padding-left: 1em; padding-right: 1em; text-align: center; vertical-align: top\">2</td>\n",
       "        <td style=\"padding-left: 1em; padding-right: 1em; text-align: center; vertical-align: top\">Distrito_Federal</td>\n",
       "        <td style=\"padding-left: 1em; padding-right: 1em; text-align: center; vertical-align: top\">0</td>\n",
       "    </tr>\n",
       "    <tr>\n",
       "        <td style=\"padding-left: 1em; padding-right: 1em; text-align: center; vertical-align: top\">17.87924083</td>\n",
       "        <td style=\"padding-left: 1em; padding-right: 1em; text-align: center; vertical-align: top\">-92.48047778</td>\n",
       "        <td style=\"padding-left: 1em; padding-right: 1em; text-align: center; vertical-align: top\">3</td>\n",
       "        <td style=\"padding-left: 1em; padding-right: 1em; text-align: center; vertical-align: top\">Tabasco</td>\n",
       "        <td style=\"padding-left: 1em; padding-right: 1em; text-align: center; vertical-align: top\">1</td>\n",
       "    </tr>\n",
       "    <tr>\n",
       "        <td style=\"padding-left: 1em; padding-right: 1em; text-align: center; vertical-align: top\">22.415</td>\n",
       "        <td style=\"padding-left: 1em; padding-right: 1em; text-align: center; vertical-align: top\">-97.938</td>\n",
       "        <td style=\"padding-left: 1em; padding-right: 1em; text-align: center; vertical-align: top\">4</td>\n",
       "        <td style=\"padding-left: 1em; padding-right: 1em; text-align: center; vertical-align: top\">Tamaulipas</td>\n",
       "        <td style=\"padding-left: 1em; padding-right: 1em; text-align: center; vertical-align: top\">0</td>\n",
       "    </tr>\n",
       "    <tr>\n",
       "        <td style=\"padding-left: 1em; padding-right: 1em; text-align: center; vertical-align: top\">19.06744444</td>\n",
       "        <td style=\"padding-left: 1em; padding-right: 1em; text-align: center; vertical-align: top\">-98.221</td>\n",
       "        <td style=\"padding-left: 1em; padding-right: 1em; text-align: center; vertical-align: top\">5</td>\n",
       "        <td style=\"padding-left: 1em; padding-right: 1em; text-align: center; vertical-align: top\">Puebla</td>\n",
       "        <td style=\"padding-left: 1em; padding-right: 1em; text-align: center; vertical-align: top\">1</td>\n",
       "    </tr>\n",
       "    <tr>\n",
       "        <td style=\"padding-left: 1em; padding-right: 1em; text-align: center; vertical-align: top\">18.82805556</td>\n",
       "        <td style=\"padding-left: 1em; padding-right: 1em; text-align: center; vertical-align: top\">-99.24444444</td>\n",
       "        <td style=\"padding-left: 1em; padding-right: 1em; text-align: center; vertical-align: top\">6</td>\n",
       "        <td style=\"padding-left: 1em; padding-right: 1em; text-align: center; vertical-align: top\">Morelos</td>\n",
       "        <td style=\"padding-left: 1em; padding-right: 1em; text-align: center; vertical-align: top\">1</td>\n",
       "    </tr>\n",
       "    <tr>\n",
       "        <td style=\"padding-left: 1em; padding-right: 1em; text-align: center; vertical-align: top\">17.9997</td>\n",
       "        <td style=\"padding-left: 1em; padding-right: 1em; text-align: center; vertical-align: top\">-92.9282</td>\n",
       "        <td style=\"padding-left: 1em; padding-right: 1em; text-align: center; vertical-align: top\">7</td>\n",
       "        <td style=\"padding-left: 1em; padding-right: 1em; text-align: center; vertical-align: top\">Tabasco</td>\n",
       "        <td style=\"padding-left: 1em; padding-right: 1em; text-align: center; vertical-align: top\">1</td>\n",
       "    </tr>\n",
       "    <tr>\n",
       "        <td style=\"padding-left: 1em; padding-right: 1em; text-align: center; vertical-align: top\">25.80656932</td>\n",
       "        <td style=\"padding-left: 1em; padding-right: 1em; text-align: center; vertical-align: top\">-100.3256526</td>\n",
       "        <td style=\"padding-left: 1em; padding-right: 1em; text-align: center; vertical-align: top\">8</td>\n",
       "        <td style=\"padding-left: 1em; padding-right: 1em; text-align: center; vertical-align: top\">Nuevo_Leon</td>\n",
       "        <td style=\"padding-left: 1em; padding-right: 1em; text-align: center; vertical-align: top\">0</td>\n",
       "    </tr>\n",
       "    <tr>\n",
       "        <td style=\"padding-left: 1em; padding-right: 1em; text-align: center; vertical-align: top\">19.4906</td>\n",
       "        <td style=\"padding-left: 1em; padding-right: 1em; text-align: center; vertical-align: top\">-99.2712</td>\n",
       "        <td style=\"padding-left: 1em; padding-right: 1em; text-align: center; vertical-align: top\">9</td>\n",
       "        <td style=\"padding-left: 1em; padding-right: 1em; text-align: center; vertical-align: top\">Mexico</td>\n",
       "        <td style=\"padding-left: 1em; padding-right: 1em; text-align: center; vertical-align: top\">0</td>\n",
       "    </tr>\n",
       "    <tr>\n",
       "        <td style=\"padding-left: 1em; padding-right: 1em; text-align: center; vertical-align: top\">20.58142655</td>\n",
       "        <td style=\"padding-left: 1em; padding-right: 1em; text-align: center; vertical-align: top\">-103.4326277</td>\n",
       "        <td style=\"padding-left: 1em; padding-right: 1em; text-align: center; vertical-align: top\">10</td>\n",
       "        <td style=\"padding-left: 1em; padding-right: 1em; text-align: center; vertical-align: top\">Jalisco</td>\n",
       "        <td style=\"padding-left: 1em; padding-right: 1em; text-align: center; vertical-align: top\">1</td>\n",
       "    </tr>\n",
       "</table>\n",
       "[10 rows x 5 columns]<br/>\n",
       "</div>"
      ],
      "text/plain": [
       "Columns:\n",
       "\tLATITUDE\tfloat\n",
       "\tLONGITUDE\tfloat\n",
       "\tCEL_ID\tstr\n",
       "\tSTATE\tstr\n",
       "\tEPIDEMIC\tint\n",
       "\n",
       "Rows: 10\n",
       "\n",
       "Data:\n",
       "+-------------+--------------+--------+---------------------+----------+\n",
       "|   LATITUDE  |  LONGITUDE   | CEL_ID |        STATE        | EPIDEMIC |\n",
       "+-------------+--------------+--------+---------------------+----------+\n",
       "| 24.14206333 | -110.2940553 |   1    | Baja_California_Sur |    0     |\n",
       "| 19.31787222 | -99.13700278 |   2    |   Distrito_Federal  |    0     |\n",
       "| 17.87924083 | -92.48047778 |   3    |       Tabasco       |    1     |\n",
       "|    22.415   |   -97.938    |   4    |      Tamaulipas     |    0     |\n",
       "| 19.06744444 |   -98.221    |   5    |        Puebla       |    1     |\n",
       "| 18.82805556 | -99.24444444 |   6    |       Morelos       |    1     |\n",
       "|   17.9997   |   -92.9282   |   7    |       Tabasco       |    1     |\n",
       "| 25.80656932 | -100.3256526 |   8    |      Nuevo_Leon     |    0     |\n",
       "|   19.4906   |   -99.2712   |   9    |        Mexico       |    0     |\n",
       "| 20.58142655 | -103.4326277 |   10   |       Jalisco       |    1     |\n",
       "+-------------+--------------+--------+---------------------+----------+\n",
       "[10 rows x 5 columns]"
      ]
     },
     "execution_count": 21,
     "metadata": {},
     "output_type": "execute_result"
    }
   ],
   "source": [
    "antennas.head()"
   ]
  },
  {
   "cell_type": "code",
   "execution_count": 22,
   "metadata": {
    "scrolled": true
   },
   "outputs": [
    {
     "data": {
      "text/plain": [
       "['USER',\n",
       " 'ANTENNA_ID_0_gt',\n",
       " 'ANTENNA_ID_WEEKNIGHT_0_gt',\n",
       " 'EPIDEMIC_gt',\n",
       " 'STATE']"
      ]
     },
     "execution_count": 22,
     "metadata": {},
     "output_type": "execute_result"
    }
   ],
   "source": [
    "gt_table.column_names()"
   ]
  },
  {
   "cell_type": "code",
   "execution_count": 23,
   "metadata": {
    "scrolled": true
   },
   "outputs": [
    {
     "data": {
      "text/html": [
       "<div>\n",
       "<style>\n",
       "    .dataframe thead tr:only-child th {\n",
       "        text-align: right;\n",
       "    }\n",
       "\n",
       "    .dataframe thead th {\n",
       "        text-align: left;\n",
       "    }\n",
       "\n",
       "    .dataframe tbody tr th {\n",
       "        vertical-align: top;\n",
       "    }\n",
       "</style>\n",
       "<table border=\"1\" class=\"dataframe\">\n",
       "  <thead>\n",
       "    <tr style=\"text-align: right;\">\n",
       "      <th></th>\n",
       "      <th>STATE</th>\n",
       "      <th>USERS</th>\n",
       "    </tr>\n",
       "  </thead>\n",
       "  <tbody>\n",
       "    <tr>\n",
       "      <th>3</th>\n",
       "      <td>Mexico</td>\n",
       "      <td>0.238536</td>\n",
       "    </tr>\n",
       "    <tr>\n",
       "      <th>27</th>\n",
       "      <td>Distrito_Federal</td>\n",
       "      <td>0.200632</td>\n",
       "    </tr>\n",
       "    <tr>\n",
       "      <th>29</th>\n",
       "      <td>Jalisco</td>\n",
       "      <td>0.083018</td>\n",
       "    </tr>\n",
       "    <tr>\n",
       "      <th>22</th>\n",
       "      <td>Guanajuato</td>\n",
       "      <td>0.059031</td>\n",
       "    </tr>\n",
       "    <tr>\n",
       "      <th>12</th>\n",
       "      <td>Puebla</td>\n",
       "      <td>0.043403</td>\n",
       "    </tr>\n",
       "    <tr>\n",
       "      <th>5</th>\n",
       "      <td>Veracruz</td>\n",
       "      <td>0.042567</td>\n",
       "    </tr>\n",
       "    <tr>\n",
       "      <th>24</th>\n",
       "      <td>Hidalgo</td>\n",
       "      <td>0.033181</td>\n",
       "    </tr>\n",
       "    <tr>\n",
       "      <th>11</th>\n",
       "      <td>Yucatan</td>\n",
       "      <td>0.029301</td>\n",
       "    </tr>\n",
       "    <tr>\n",
       "      <th>17</th>\n",
       "      <td>Nuevo_Leon</td>\n",
       "      <td>0.029050</td>\n",
       "    </tr>\n",
       "    <tr>\n",
       "      <th>18</th>\n",
       "      <td>Morelos</td>\n",
       "      <td>0.027125</td>\n",
       "    </tr>\n",
       "    <tr>\n",
       "      <th>4</th>\n",
       "      <td>Tabasco</td>\n",
       "      <td>0.019230</td>\n",
       "    </tr>\n",
       "    <tr>\n",
       "      <th>0</th>\n",
       "      <td>Chiapas</td>\n",
       "      <td>0.018640</td>\n",
       "    </tr>\n",
       "    <tr>\n",
       "      <th>25</th>\n",
       "      <td>Queretaro</td>\n",
       "      <td>0.017950</td>\n",
       "    </tr>\n",
       "    <tr>\n",
       "      <th>7</th>\n",
       "      <td>San_Luis_Potosi</td>\n",
       "      <td>0.016896</td>\n",
       "    </tr>\n",
       "    <tr>\n",
       "      <th>20</th>\n",
       "      <td>Guerrero</td>\n",
       "      <td>0.014830</td>\n",
       "    </tr>\n",
       "    <tr>\n",
       "      <th>21</th>\n",
       "      <td>Tlaxcala</td>\n",
       "      <td>0.014815</td>\n",
       "    </tr>\n",
       "    <tr>\n",
       "      <th>23</th>\n",
       "      <td>Michoacan_de_Ocampo</td>\n",
       "      <td>0.013011</td>\n",
       "    </tr>\n",
       "    <tr>\n",
       "      <th>19</th>\n",
       "      <td>Quintana_Roo</td>\n",
       "      <td>0.012798</td>\n",
       "    </tr>\n",
       "    <tr>\n",
       "      <th>31</th>\n",
       "      <td>Oaxaca</td>\n",
       "      <td>0.011790</td>\n",
       "    </tr>\n",
       "    <tr>\n",
       "      <th>13</th>\n",
       "      <td>Aguascalientes</td>\n",
       "      <td>0.011333</td>\n",
       "    </tr>\n",
       "    <tr>\n",
       "      <th>30</th>\n",
       "      <td>Baja_California</td>\n",
       "      <td>0.010727</td>\n",
       "    </tr>\n",
       "    <tr>\n",
       "      <th>6</th>\n",
       "      <td>Tamaulipas</td>\n",
       "      <td>0.008069</td>\n",
       "    </tr>\n",
       "    <tr>\n",
       "      <th>14</th>\n",
       "      <td>Nayarit</td>\n",
       "      <td>0.007156</td>\n",
       "    </tr>\n",
       "    <tr>\n",
       "      <th>28</th>\n",
       "      <td>Campeche</td>\n",
       "      <td>0.007112</td>\n",
       "    </tr>\n",
       "    <tr>\n",
       "      <th>2</th>\n",
       "      <td>Coahuila_de_Zaragoza</td>\n",
       "      <td>0.006270</td>\n",
       "    </tr>\n",
       "    <tr>\n",
       "      <th>26</th>\n",
       "      <td>Chihuahua</td>\n",
       "      <td>0.005333</td>\n",
       "    </tr>\n",
       "    <tr>\n",
       "      <th>10</th>\n",
       "      <td>Sinaloa</td>\n",
       "      <td>0.003849</td>\n",
       "    </tr>\n",
       "    <tr>\n",
       "      <th>9</th>\n",
       "      <td>Colima</td>\n",
       "      <td>0.003630</td>\n",
       "    </tr>\n",
       "    <tr>\n",
       "      <th>15</th>\n",
       "      <td>Zacatecas</td>\n",
       "      <td>0.003526</td>\n",
       "    </tr>\n",
       "    <tr>\n",
       "      <th>8</th>\n",
       "      <td>Durango</td>\n",
       "      <td>0.003479</td>\n",
       "    </tr>\n",
       "  </tbody>\n",
       "</table>\n",
       "</div>"
      ],
      "text/plain": [
       "                   STATE     USERS\n",
       "3                 Mexico  0.238536\n",
       "27      Distrito_Federal  0.200632\n",
       "29               Jalisco  0.083018\n",
       "22            Guanajuato  0.059031\n",
       "12                Puebla  0.043403\n",
       "5               Veracruz  0.042567\n",
       "24               Hidalgo  0.033181\n",
       "11               Yucatan  0.029301\n",
       "17            Nuevo_Leon  0.029050\n",
       "18               Morelos  0.027125\n",
       "4                Tabasco  0.019230\n",
       "0                Chiapas  0.018640\n",
       "25             Queretaro  0.017950\n",
       "7        San_Luis_Potosi  0.016896\n",
       "20              Guerrero  0.014830\n",
       "21              Tlaxcala  0.014815\n",
       "23   Michoacan_de_Ocampo  0.013011\n",
       "19          Quintana_Roo  0.012798\n",
       "31                Oaxaca  0.011790\n",
       "13        Aguascalientes  0.011333\n",
       "30       Baja_California  0.010727\n",
       "6             Tamaulipas  0.008069\n",
       "14               Nayarit  0.007156\n",
       "28              Campeche  0.007112\n",
       "2   Coahuila_de_Zaragoza  0.006270\n",
       "26             Chihuahua  0.005333\n",
       "10               Sinaloa  0.003849\n",
       "9                 Colima  0.003630\n",
       "15             Zacatecas  0.003526\n",
       "8                Durango  0.003479"
      ]
     },
     "execution_count": 23,
     "metadata": {},
     "output_type": "execute_result"
    }
   ],
   "source": [
    "# percentage of users per state\n",
    "a = gt_table['USER','STATE'].groupby('STATE', \n",
    "                        {'USERS':gl.aggregate.COUNT('USER')}).to_dataframe()\n",
    "a['USERS'] = a['USERS']/a['USERS'].sum()\n",
    "a.sort_values('USERS',ascending=False).head(30)"
   ]
  },
  {
   "cell_type": "code",
   "execution_count": 24,
   "metadata": {
    "scrolled": true
   },
   "outputs": [
    {
     "data": {
      "text/html": [
       "<div style=\"max-height:1000px;max-width:1500px;overflow:auto;\"><table frame=\"box\" rules=\"cols\">\n",
       "    <tr>\n",
       "        <th style=\"padding-left: 1em; padding-right: 1em; text-align: center\">USER</th>\n",
       "        <th style=\"padding-left: 1em; padding-right: 1em; text-align: center\">ANTENNA_ID_0_gt</th>\n",
       "        <th style=\"padding-left: 1em; padding-right: 1em; text-align: center\">ANTENNA_ID_WEEKNIGHT_0_gt</th>\n",
       "        <th style=\"padding-left: 1em; padding-right: 1em; text-align: center\">EPIDEMIC_gt</th>\n",
       "        <th style=\"padding-left: 1em; padding-right: 1em; text-align: center\">STATE</th>\n",
       "    </tr>\n",
       "    <tr>\n",
       "        <td style=\"padding-left: 1em; padding-right: 1em; text-align: center; vertical-align: top\">41D91B8CB8747902A80D6108D<br>548A8AF ...</td>\n",
       "        <td style=\"padding-left: 1em; padding-right: 1em; text-align: center; vertical-align: top\">2898</td>\n",
       "        <td style=\"padding-left: 1em; padding-right: 1em; text-align: center; vertical-align: top\">2898</td>\n",
       "        <td style=\"padding-left: 1em; padding-right: 1em; text-align: center; vertical-align: top\">1</td>\n",
       "        <td style=\"padding-left: 1em; padding-right: 1em; text-align: center; vertical-align: top\">Oaxaca</td>\n",
       "    </tr>\n",
       "    <tr>\n",
       "        <td style=\"padding-left: 1em; padding-right: 1em; text-align: center; vertical-align: top\">24A624FC979DF41830A31C7CE<br>D65E2D2 ...</td>\n",
       "        <td style=\"padding-left: 1em; padding-right: 1em; text-align: center; vertical-align: top\">4285</td>\n",
       "        <td style=\"padding-left: 1em; padding-right: 1em; text-align: center; vertical-align: top\">4285</td>\n",
       "        <td style=\"padding-left: 1em; padding-right: 1em; text-align: center; vertical-align: top\">0</td>\n",
       "        <td style=\"padding-left: 1em; padding-right: 1em; text-align: center; vertical-align: top\">Mexico</td>\n",
       "    </tr>\n",
       "    <tr>\n",
       "        <td style=\"padding-left: 1em; padding-right: 1em; text-align: center; vertical-align: top\">C3FF4C9281746CAC6C09802C2<br>54BDE71 ...</td>\n",
       "        <td style=\"padding-left: 1em; padding-right: 1em; text-align: center; vertical-align: top\">4336</td>\n",
       "        <td style=\"padding-left: 1em; padding-right: 1em; text-align: center; vertical-align: top\">4336</td>\n",
       "        <td style=\"padding-left: 1em; padding-right: 1em; text-align: center; vertical-align: top\">0</td>\n",
       "        <td style=\"padding-left: 1em; padding-right: 1em; text-align: center; vertical-align: top\">Mexico</td>\n",
       "    </tr>\n",
       "    <tr>\n",
       "        <td style=\"padding-left: 1em; padding-right: 1em; text-align: center; vertical-align: top\">212D3A9745F13470632678443<br>11B31FF ...</td>\n",
       "        <td style=\"padding-left: 1em; padding-right: 1em; text-align: center; vertical-align: top\">1200</td>\n",
       "        <td style=\"padding-left: 1em; padding-right: 1em; text-align: center; vertical-align: top\">884</td>\n",
       "        <td style=\"padding-left: 1em; padding-right: 1em; text-align: center; vertical-align: top\">1</td>\n",
       "        <td style=\"padding-left: 1em; padding-right: 1em; text-align: center; vertical-align: top\">Jalisco</td>\n",
       "    </tr>\n",
       "    <tr>\n",
       "        <td style=\"padding-left: 1em; padding-right: 1em; text-align: center; vertical-align: top\">544695294E816F26691C4D015<br>16ABF9B ...</td>\n",
       "        <td style=\"padding-left: 1em; padding-right: 1em; text-align: center; vertical-align: top\">195</td>\n",
       "        <td style=\"padding-left: 1em; padding-right: 1em; text-align: center; vertical-align: top\">195</td>\n",
       "        <td style=\"padding-left: 1em; padding-right: 1em; text-align: center; vertical-align: top\">0</td>\n",
       "        <td style=\"padding-left: 1em; padding-right: 1em; text-align: center; vertical-align: top\">Chihuahua</td>\n",
       "    </tr>\n",
       "    <tr>\n",
       "        <td style=\"padding-left: 1em; padding-right: 1em; text-align: center; vertical-align: top\">FEC4BD059A42FB5283E07539C<br>1FD2CB1 ...</td>\n",
       "        <td style=\"padding-left: 1em; padding-right: 1em; text-align: center; vertical-align: top\">262</td>\n",
       "        <td style=\"padding-left: 1em; padding-right: 1em; text-align: center; vertical-align: top\">262</td>\n",
       "        <td style=\"padding-left: 1em; padding-right: 1em; text-align: center; vertical-align: top\">0</td>\n",
       "        <td style=\"padding-left: 1em; padding-right: 1em; text-align: center; vertical-align: top\">Guanajuato</td>\n",
       "    </tr>\n",
       "    <tr>\n",
       "        <td style=\"padding-left: 1em; padding-right: 1em; text-align: center; vertical-align: top\">BDEF57DB3EF1035FF3F210B47<br>FC2A5B0 ...</td>\n",
       "        <td style=\"padding-left: 1em; padding-right: 1em; text-align: center; vertical-align: top\">1557</td>\n",
       "        <td style=\"padding-left: 1em; padding-right: 1em; text-align: center; vertical-align: top\">4021</td>\n",
       "        <td style=\"padding-left: 1em; padding-right: 1em; text-align: center; vertical-align: top\">1</td>\n",
       "        <td style=\"padding-left: 1em; padding-right: 1em; text-align: center; vertical-align: top\">Tabasco</td>\n",
       "    </tr>\n",
       "    <tr>\n",
       "        <td style=\"padding-left: 1em; padding-right: 1em; text-align: center; vertical-align: top\">3AE1DCA333E55CA87E4F53310<br>35DB600 ...</td>\n",
       "        <td style=\"padding-left: 1em; padding-right: 1em; text-align: center; vertical-align: top\">608</td>\n",
       "        <td style=\"padding-left: 1em; padding-right: 1em; text-align: center; vertical-align: top\">608</td>\n",
       "        <td style=\"padding-left: 1em; padding-right: 1em; text-align: center; vertical-align: top\">0</td>\n",
       "        <td style=\"padding-left: 1em; padding-right: 1em; text-align: center; vertical-align: top\">Mexico</td>\n",
       "    </tr>\n",
       "    <tr>\n",
       "        <td style=\"padding-left: 1em; padding-right: 1em; text-align: center; vertical-align: top\">2A72E07E48667A6289D93874A<br>623C152 ...</td>\n",
       "        <td style=\"padding-left: 1em; padding-right: 1em; text-align: center; vertical-align: top\">2302</td>\n",
       "        <td style=\"padding-left: 1em; padding-right: 1em; text-align: center; vertical-align: top\">2302</td>\n",
       "        <td style=\"padding-left: 1em; padding-right: 1em; text-align: center; vertical-align: top\">0</td>\n",
       "        <td style=\"padding-left: 1em; padding-right: 1em; text-align: center; vertical-align: top\">Distrito_Federal</td>\n",
       "    </tr>\n",
       "    <tr>\n",
       "        <td style=\"padding-left: 1em; padding-right: 1em; text-align: center; vertical-align: top\">C5287E4004BE8F3A12AD489FE<br>8204056 ...</td>\n",
       "        <td style=\"padding-left: 1em; padding-right: 1em; text-align: center; vertical-align: top\">2644</td>\n",
       "        <td style=\"padding-left: 1em; padding-right: 1em; text-align: center; vertical-align: top\">828</td>\n",
       "        <td style=\"padding-left: 1em; padding-right: 1em; text-align: center; vertical-align: top\">0</td>\n",
       "        <td style=\"padding-left: 1em; padding-right: 1em; text-align: center; vertical-align: top\">Queretaro</td>\n",
       "    </tr>\n",
       "</table>\n",
       "[10 rows x 5 columns]<br/>\n",
       "</div>"
      ],
      "text/plain": [
       "Columns:\n",
       "\tUSER\tstr\n",
       "\tANTENNA_ID_0_gt\tstr\n",
       "\tANTENNA_ID_WEEKNIGHT_0_gt\tstr\n",
       "\tEPIDEMIC_gt\tint\n",
       "\tSTATE\tstr\n",
       "\n",
       "Rows: 10\n",
       "\n",
       "Data:\n",
       "+-------------------------------+-----------------+---------------------------+\n",
       "|              USER             | ANTENNA_ID_0_gt | ANTENNA_ID_WEEKNIGHT_0_gt |\n",
       "+-------------------------------+-----------------+---------------------------+\n",
       "| 41D91B8CB8747902A80D6108D5... |       2898      |            2898           |\n",
       "| 24A624FC979DF41830A31C7CED... |       4285      |            4285           |\n",
       "| C3FF4C9281746CAC6C09802C25... |       4336      |            4336           |\n",
       "| 212D3A9745F134706326784431... |       1200      |            884            |\n",
       "| 544695294E816F26691C4D0151... |       195       |            195            |\n",
       "| FEC4BD059A42FB5283E07539C1... |       262       |            262            |\n",
       "| BDEF57DB3EF1035FF3F210B47F... |       1557      |            4021           |\n",
       "| 3AE1DCA333E55CA87E4F533103... |       608       |            608            |\n",
       "| 2A72E07E48667A6289D93874A6... |       2302      |            2302           |\n",
       "| C5287E4004BE8F3A12AD489FE8... |       2644      |            828            |\n",
       "+-------------------------------+-----------------+---------------------------+\n",
       "+-------------+------------------+\n",
       "| EPIDEMIC_gt |      STATE       |\n",
       "+-------------+------------------+\n",
       "|      1      |      Oaxaca      |\n",
       "|      0      |      Mexico      |\n",
       "|      0      |      Mexico      |\n",
       "|      1      |     Jalisco      |\n",
       "|      0      |    Chihuahua     |\n",
       "|      0      |    Guanajuato    |\n",
       "|      1      |     Tabasco      |\n",
       "|      0      |      Mexico      |\n",
       "|      0      | Distrito_Federal |\n",
       "|      0      |    Queretaro     |\n",
       "+-------------+------------------+\n",
       "[10 rows x 5 columns]"
      ]
     },
     "execution_count": 24,
     "metadata": {},
     "output_type": "execute_result"
    }
   ],
   "source": [
    "gt_table.head()"
   ]
  },
  {
   "cell_type": "markdown",
   "metadata": {},
   "source": [
    "# fast check how many users have same/different antennas in the past"
   ]
  },
  {
   "cell_type": "code",
   "execution_count": 25,
   "metadata": {
    "collapsed": true,
    "scrolled": false
   },
   "outputs": [],
   "source": [
    "past_user_data = sf_table['USER','ANTENNA_ID_WEEKNIGHT_0', 'ANTENNA_ID_0','EPIDEMIC'].join(\\\n",
    "                            gt_table['USER','ANTENNA_ID_WEEKNIGHT_0_gt', 'ANTENNA_ID_0_gt','EPIDEMIC_gt'], \n",
    "                            on= 'USER')"
   ]
  },
  {
   "cell_type": "code",
   "execution_count": 26,
   "metadata": {},
   "outputs": [
    {
     "name": "stdout",
     "output_type": "stream",
     "text": [
      "(1628968, 7)\n",
      "(1592841, 7)\n"
     ]
    }
   ],
   "source": [
    "#inherentemente vamos a perder algunos users sin past data del home_antenna\n",
    "print(past_user_data.shape)\n",
    "past_user_data = past_user_data[past_user_data['ANTENNA_ID_WEEKNIGHT_0','ANTENNA_ID_WEEKNIGHT_0_gt'].\\\n",
    "                                apply(lambda x: x['ANTENNA_ID_WEEKNIGHT_0'] != \"-1\" and \\\n",
    "                                    x['ANTENNA_ID_WEEKNIGHT_0_gt'] != \"-1\" )]\n",
    "\n",
    "past_user_data = past_user_data.dropna(columns = ['EPIDEMIC', 'EPIDEMIC_gt'],\n",
    "                                       how='any')\n",
    "print(past_user_data.shape)"
   ]
  },
  {
   "cell_type": "code",
   "execution_count": 45,
   "metadata": {},
   "outputs": [
    {
     "data": {
      "text/plain": [
       "('EPIDEMIC_gt', 'EPIDEMIC')"
      ]
     },
     "execution_count": 45,
     "metadata": {},
     "output_type": "execute_result"
    }
   ],
   "source": [
    "comparison_dict = {\n",
    "    'top_antenna':{\n",
    "            'col1':'ANTENNA_ID_0_gt',\n",
    "            'col2':'ANTENNA_ID_0',\n",
    "    },\n",
    "    'top_week_antenna':{\n",
    "            'col1':'ANTENNA_ID_WEEKNIGHT_0_gt',\n",
    "            'col2':'ANTENNA_ID_WEEKNIGHT_0',\n",
    "    },\n",
    "    'epidemic':{\n",
    "            'col1':'EPIDEMIC_gt',\n",
    "            'col2':'EPIDEMIC',\n",
    "    },\n",
    "    \n",
    "}\n",
    "\n",
    "# compare = 'top_week_antenna'\n",
    "compare = 'epidemic'\n",
    "\n",
    "\n",
    "col1 = comparison_dict[compare]['col1']\n",
    "col2 = comparison_dict[compare]['col2']\n",
    "col1,col2"
   ]
  },
  {
   "cell_type": "code",
   "execution_count": 50,
   "metadata": {},
   "outputs": [
    {
     "data": {
      "text/plain": [
       "(1551560, 41281)"
      ]
     },
     "execution_count": 50,
     "metadata": {},
     "output_type": "execute_result"
    }
   ],
   "source": [
    "(past_user_data[col1] == past_user_data[col2]).sum(), (past_user_data[col1] != past_user_data[col2]).sum()"
   ]
  },
  {
   "cell_type": "code",
   "execution_count": 51,
   "metadata": {},
   "outputs": [
    {
     "data": {
      "text/plain": [
       "(1592841, 7)"
      ]
     },
     "execution_count": 51,
     "metadata": {},
     "output_type": "execute_result"
    }
   ],
   "source": [
    "past_user_data.shape"
   ]
  },
  {
   "cell_type": "code",
   "execution_count": 52,
   "metadata": {
    "scrolled": true
   },
   "outputs": [
    {
     "name": "stdout",
     "output_type": "stream",
     "text": [
      "Confusion matrix\n",
      "[[1140360   18330]\n",
      " [  22951  411200]]\n"
     ]
    }
   ],
   "source": [
    "from sklearn.metrics import confusion_matrix\n",
    "\n",
    "y_true = past_user_data[col1].to_numpy()\n",
    "y_pred = past_user_data[col2].to_numpy()\n",
    "cm = confusion_matrix(y_true = y_true, y_pred = y_pred  )\n",
    "\n",
    "print('Confusion matrix')\n",
    "print(cm)\n"
   ]
  },
  {
   "cell_type": "markdown",
   "metadata": {},
   "source": [
    "# Results: :)"
   ]
  },
  {
   "cell_type": "code",
   "execution_count": 53,
   "metadata": {},
   "outputs": [
    {
     "data": {
      "text/plain": [
       "0.015819589363850556"
      ]
     },
     "execution_count": 53,
     "metadata": {},
     "output_type": "execute_result"
    }
   ],
   "source": [
    "# percentage of people actual non vulnerable that were vulnerable before?\n",
    "(cm[0,1])*1.0/ cm[0,:].sum()"
   ]
  },
  {
   "cell_type": "code",
   "execution_count": 54,
   "metadata": {},
   "outputs": [
    {
     "data": {
      "text/plain": [
       "0.02591658552234655"
      ]
     },
     "execution_count": 54,
     "metadata": {},
     "output_type": "execute_result"
    }
   ],
   "source": [
    "# percentage of people that migrated?\n",
    "(cm[0,1] + cm[1,0])*1.0/ cm.sum().sum()"
   ]
  },
  {
   "cell_type": "markdown",
   "metadata": {},
   "source": [
    "## construct a full sized dataset"
   ]
  },
  {
   "cell_type": "code",
   "execution_count": null,
   "metadata": {
    "collapsed": true
   },
   "outputs": [],
   "source": [
    "%%time\n",
    "## integrate target to single frame\n",
    "data = sf_table.join(gt_table['USER','EPIDEMIC_gt'], \n",
    "                     on = 'USER', \n",
    "                     how = 'inner')\n",
    "\n",
    "data = data.join(sl_table, \n",
    "                 on = 'USER', \n",
    "                 how = 'inner')\n",
    "\n",
    "#no podemos tener nulls en el target asi que dropeamos\n",
    "data = data.dropna(columns = ['EPIDEMIC_gt'], \n",
    "                   how='any')\n",
    "\n",
    "print(data.shape)\n",
    "del sl_table, sf_table, gt_table"
   ]
  },
  {
   "cell_type": "code",
   "execution_count": null,
   "metadata": {
    "collapsed": true
   },
   "outputs": [],
   "source": [
    "# check certain columns\n",
    "data.column_names().sample(0.15)"
   ]
  },
  {
   "cell_type": "markdown",
   "metadata": {
    "collapsed": true
   },
   "source": [
    "## check correlation and null variance\n",
    "\n",
    "as a simple method to delete noisy/bad cols"
   ]
  },
  {
   "cell_type": "code",
   "execution_count": null,
   "metadata": {
    "collapsed": true
   },
   "outputs": [],
   "source": [
    "corr_matrix = abs(data.to_dataframe().corr())\n",
    "corr_matrix.head()"
   ]
  },
  {
   "cell_type": "code",
   "execution_count": null,
   "metadata": {
    "collapsed": true
   },
   "outputs": [],
   "source": [
    "view = corr_matrix[corr_matrix['EPIDEMIC_gt']>0.25]['EPIDEMIC_gt'].sort_values(ascending=False)\n",
    "view"
   ]
  },
  {
   "cell_type": "code",
   "execution_count": null,
   "metadata": {
    "collapsed": true
   },
   "outputs": [],
   "source": []
  },
  {
   "cell_type": "code",
   "execution_count": null,
   "metadata": {
    "collapsed": true
   },
   "outputs": [],
   "source": []
  },
  {
   "cell_type": "code",
   "execution_count": null,
   "metadata": {
    "collapsed": true
   },
   "outputs": [],
   "source": []
  },
  {
   "cell_type": "code",
   "execution_count": null,
   "metadata": {
    "collapsed": true
   },
   "outputs": [],
   "source": []
  }
 ],
 "metadata": {
  "kernelspec": {
   "display_name": "Python 2",
   "language": "python",
   "name": "python2"
  },
  "language_info": {
   "codemirror_mode": {
    "name": "ipython",
    "version": 2
   },
   "file_extension": ".py",
   "mimetype": "text/x-python",
   "name": "python",
   "nbconvert_exporter": "python",
   "pygments_lexer": "ipython2",
   "version": "2.7.12"
  }
 },
 "nbformat": 4,
 "nbformat_minor": 1
}
