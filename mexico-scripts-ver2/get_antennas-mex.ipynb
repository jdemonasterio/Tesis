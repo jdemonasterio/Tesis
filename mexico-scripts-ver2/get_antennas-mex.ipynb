{
 "cells": [
  {
   "cell_type": "markdown",
   "metadata": {},
   "source": [
    "# 01/07"
   ]
  },
  {
   "cell_type": "markdown",
   "metadata": {
    "collapsed": true
   },
   "source": [
    "# get_antennas para mexico\n",
    "Solo voy a mirar la data procesada Pospaga!\n",
    "\n",
    "En los raw CDRs sucede que las antennas no tienen otra identificacion mas que por su lat/long. Luego hay que extraer todos los pares de lat/long para analizar la \"viabilidad\" del par i.e. ver que esten dentor de mexico y que no se caigan al mar por ejemplo, para luego aplicar eso en el dataset. El id de la antenna seguira siendo su propiedad (el par lat/long), solamente que en algun momento se hara la transformacion.\n",
    "\n",
    "La idea es recorrer TODOS los raw cdr\n",
    "## definiciones utilizadas\n",
    "\n",
    "* la fecha viene dado en DD/MM/YYY HH:MM:SS (am/pm)\n",
    "* *Time* columns are measured in seconds.\n",
    "\n",
    "### el sframe procesado vendria con este header\n",
    "    USER OTHER_USER DIRECTION DURATION\tLATITUDE\tLONGITUDE DATE\n",
    "\n",
    "Direction es quien llama a quien (saliente es 1-->2, viceversa entrante). Duracion medido en segundos y lat long estan en float datatype"
   ]
  },
  {
   "cell_type": "code",
   "execution_count": 3,
   "metadata": {
    "collapsed": false,
    "scrolled": false
   },
   "outputs": [
    {
     "data": {
      "application/javascript": [
       "IPython.notebook.set_autosave_interval(180000)"
      ]
     },
     "metadata": {},
     "output_type": "display_data"
    },
    {
     "name": "stdout",
     "output_type": "stream",
     "text": [
      "Autosaving every 180 seconds\n"
     ]
    }
   ],
   "source": [
    "%autosave 180\n",
    "import numpy as np; import os;import random;\n",
    "import graphlab as gl\n",
    "#esto es para dibujar directo a la notebook\n",
    "gl.canvas.set_target('ipynb')\n",
    "\n",
    "#from matplotlib import pyplot as plt\n",
    "#%matplotlib inline\n",
    "import time\n",
    "import os\n",
    "np.random.seed(2016)\n",
    "\n",
    "rootdir=\"/home/juan/mobility-study/mexico-scripts-ver2/sframe_cdrs/\"\n",
    "os.chdir(rootdir)"
   ]
  },
  {
   "cell_type": "code",
   "execution_count": 4,
   "metadata": {
    "collapsed": false
   },
   "outputs": [
    {
     "name": "stdout",
     "output_type": "stream",
     "text": [
      "2015\n",
      "191G\t/home/juan/mobility-study/mexico-scripts-ver2/sframe_cdrs/\n"
     ]
    }
   ],
   "source": [
    "direc = rootdir\n",
    "!ls $direc\n",
    "!du -sh $direc"
   ]
  },
  {
   "cell_type": "code",
   "execution_count": null,
   "metadata": {
    "collapsed": true
   },
   "outputs": [],
   "source": [
    "cd \"2015/\""
   ]
  },
  {
   "cell_type": "code",
   "execution_count": 9,
   "metadata": {
    "collapsed": false
   },
   "outputs": [],
   "source": [
    "#ejemplo  /grandata/voice/201505_geo/Geo_Voz_Pospago_27-280515.txt.gz\"\n",
    "#seteamos el lugar de trabajo\n",
    "\n",
    "year = 2015; \n",
    "months= [5,6,7];\n",
    "\n",
    "def get_input_file(month,year = 2015,plan = \"Pospago\"):\n",
    "    return rootdir +\"{y}/{m:0=2d}/{pl}\"\\\n",
    "                .format(y=year, m=month, pl = plan)\n",
    "    \n",
    "def get_output_file(plan = \"Prepago\"):\n",
    "    output = \"/home/juan/mobility-study/mexico-scripts-ver2/output/raw_antennas.csv\"\n",
    "    return output\n"
   ]
  },
  {
   "cell_type": "markdown",
   "metadata": {},
   "source": [
    "## small test"
   ]
  },
  {
   "cell_type": "code",
   "execution_count": 25,
   "metadata": {
    "collapsed": false
   },
   "outputs": [
    {
     "name": "stdout",
     "output_type": "stream",
     "text": [
      "4\n"
     ]
    },
    {
     "data": {
      "text/plain": [
       "'/home/juan/mobility-study/mexico-scripts-ver2/sframe_cdrs/2015/05/Pospago'"
      ]
     },
     "execution_count": 25,
     "metadata": {},
     "output_type": "execute_result"
    }
   ],
   "source": [
    "months = range(1,6)\n",
    "month = random.choice(months)\n",
    "print(month)\n",
    "\n",
    "sframe_dir = get_input_file(m,plan=\"Pospago\")\n",
    "sframe_dir"
   ]
  },
  {
   "cell_type": "code",
   "execution_count": 17,
   "metadata": {
    "collapsed": true
   },
   "outputs": [],
   "source": [
    "# aca voy a ir guardando las antennas ya separadas\n",
    "output_antennas = gl.SFrame()"
   ]
  },
  {
   "cell_type": "code",
   "execution_count": 15,
   "metadata": {
    "collapsed": false,
    "scrolled": true
   },
   "outputs": [
    {
     "data": {
      "text/html": [
       "<div style=\"max-height:1000px;max-width:1500px;overflow:auto;\"><table frame=\"box\" rules=\"cols\">\n",
       "    <tr>\n",
       "        <th style=\"padding-left: 1em; padding-right: 1em; text-align: center\">LATITUDE</th>\n",
       "        <th style=\"padding-left: 1em; padding-right: 1em; text-align: center\">LONGITUDE</th>\n",
       "    </tr>\n",
       "    <tr>\n",
       "        <td style=\"padding-left: 1em; padding-right: 1em; text-align: center; vertical-align: top\">19.515481</td>\n",
       "        <td style=\"padding-left: 1em; padding-right: 1em; text-align: center; vertical-align: top\">-98.8714</td>\n",
       "    </tr>\n",
       "    <tr>\n",
       "        <td style=\"padding-left: 1em; padding-right: 1em; text-align: center; vertical-align: top\">21.1622</td>\n",
       "        <td style=\"padding-left: 1em; padding-right: 1em; text-align: center; vertical-align: top\">-100.9297</td>\n",
       "    </tr>\n",
       "    <tr>\n",
       "        <td style=\"padding-left: 1em; padding-right: 1em; text-align: center; vertical-align: top\">19.07394444</td>\n",
       "        <td style=\"padding-left: 1em; padding-right: 1em; text-align: center; vertical-align: top\">-98.16555556</td>\n",
       "    </tr>\n",
       "    <tr>\n",
       "        <td style=\"padding-left: 1em; padding-right: 1em; text-align: center; vertical-align: top\">19.45922222</td>\n",
       "        <td style=\"padding-left: 1em; padding-right: 1em; text-align: center; vertical-align: top\">-99.18736111</td>\n",
       "    </tr>\n",
       "    <tr>\n",
       "        <td style=\"padding-left: 1em; padding-right: 1em; text-align: center; vertical-align: top\">32.412658</td>\n",
       "        <td style=\"padding-left: 1em; padding-right: 1em; text-align: center; vertical-align: top\">-116.960317</td>\n",
       "    </tr>\n",
       "    <tr>\n",
       "        <td style=\"padding-left: 1em; padding-right: 1em; text-align: center; vertical-align: top\">19.26961219</td>\n",
       "        <td style=\"padding-left: 1em; padding-right: 1em; text-align: center; vertical-align: top\">-103.7188352</td>\n",
       "    </tr>\n",
       "    <tr>\n",
       "        <td style=\"padding-left: 1em; padding-right: 1em; text-align: center; vertical-align: top\">19.64177778</td>\n",
       "        <td style=\"padding-left: 1em; padding-right: 1em; text-align: center; vertical-align: top\">-99.09097222</td>\n",
       "    </tr>\n",
       "    <tr>\n",
       "        <td style=\"padding-left: 1em; padding-right: 1em; text-align: center; vertical-align: top\">21.03872472</td>\n",
       "        <td style=\"padding-left: 1em; padding-right: 1em; text-align: center; vertical-align: top\">-89.56379139</td>\n",
       "    </tr>\n",
       "    <tr>\n",
       "        <td style=\"padding-left: 1em; padding-right: 1em; text-align: center; vertical-align: top\">19.533931</td>\n",
       "        <td style=\"padding-left: 1em; padding-right: 1em; text-align: center; vertical-align: top\">-99.174701</td>\n",
       "    </tr>\n",
       "    <tr>\n",
       "        <td style=\"padding-left: 1em; padding-right: 1em; text-align: center; vertical-align: top\">19.50204167</td>\n",
       "        <td style=\"padding-left: 1em; padding-right: 1em; text-align: center; vertical-align: top\">-99.12666667</td>\n",
       "    </tr>\n",
       "</table>\n",
       "[265201623 rows x 2 columns]<br/>Note: Only the head of the SFrame is printed.<br/>You can use print_rows(num_rows=m, num_columns=n) to print more rows and columns.\n",
       "</div>"
      ],
      "text/plain": [
       "Columns:\n",
       "\tLATITUDE\tfloat\n",
       "\tLONGITUDE\tfloat\n",
       "\n",
       "Rows: 265201623\n",
       "\n",
       "Data:\n",
       "+-------------+--------------+\n",
       "|   LATITUDE  |  LONGITUDE   |\n",
       "+-------------+--------------+\n",
       "|  19.515481  |   -98.8714   |\n",
       "|   21.1622   |  -100.9297   |\n",
       "| 19.07394444 | -98.16555556 |\n",
       "| 19.45922222 | -99.18736111 |\n",
       "|  32.412658  | -116.960317  |\n",
       "| 19.26961219 | -103.7188352 |\n",
       "| 19.64177778 | -99.09097222 |\n",
       "| 21.03872472 | -89.56379139 |\n",
       "|  19.533931  |  -99.174701  |\n",
       "| 19.50204167 | -99.12666667 |\n",
       "+-------------+--------------+\n",
       "[265201623 rows x 2 columns]\n",
       "Note: Only the head of the SFrame is printed.\n",
       "You can use print_rows(num_rows=m, num_columns=n) to print more rows and columns."
      ]
     },
     "execution_count": 15,
     "metadata": {},
     "output_type": "execute_result"
    }
   ],
   "source": [
    "test =  gl.load_sframe(sframe_dir)\n",
    "test.remove_columns(['USER','OTHER_USER','DURATION','DURATION','DATE'])"
   ]
  },
  {
   "cell_type": "code",
   "execution_count": 13,
   "metadata": {
    "collapsed": false
   },
   "outputs": [
    {
     "data": {
      "text/plain": [
       "(265201623, 7)"
      ]
     },
     "execution_count": 13,
     "metadata": {},
     "output_type": "execute_result"
    }
   ],
   "source": [
    "test.shape"
   ]
  },
  {
   "cell_type": "code",
   "execution_count": 19,
   "metadata": {
    "collapsed": false,
    "scrolled": true
   },
   "outputs": [
    {
     "name": "stdout",
     "output_type": "stream",
     "text": [
      "CPU times: user 7min 22s, sys: 3.84 s, total: 7min 26s\n",
      "Wall time: 52.1 s\n"
     ]
    }
   ],
   "source": [
    "%%time\n",
    "#hago una agrupacion estupida pero en verdad esto es \n",
    "test2 = test.groupby(['LATITUDE','LONGITUDE'],  {'CEL_ID':gl.aggregate.COUNT('LONGITUDE')})"
   ]
  },
  {
   "cell_type": "code",
   "execution_count": 22,
   "metadata": {
    "collapsed": false
   },
   "outputs": [
    {
     "data": {
      "text/html": [
       "<div style=\"max-height:1000px;max-width:1500px;overflow:auto;\"><table frame=\"box\" rules=\"cols\">\n",
       "    <tr>\n",
       "        <th style=\"padding-left: 1em; padding-right: 1em; text-align: center\">LATITUDE</th>\n",
       "        <th style=\"padding-left: 1em; padding-right: 1em; text-align: center\">LONGITUDE</th>\n",
       "        <th style=\"padding-left: 1em; padding-right: 1em; text-align: center\">CEL_ID</th>\n",
       "    </tr>\n",
       "    <tr>\n",
       "        <td style=\"padding-left: 1em; padding-right: 1em; text-align: center; vertical-align: top\">24.14206333</td>\n",
       "        <td style=\"padding-left: 1em; padding-right: 1em; text-align: center; vertical-align: top\">-110.2940553</td>\n",
       "        <td style=\"padding-left: 1em; padding-right: 1em; text-align: center; vertical-align: top\">4778</td>\n",
       "    </tr>\n",
       "    <tr>\n",
       "        <td style=\"padding-left: 1em; padding-right: 1em; text-align: center; vertical-align: top\">19.31787222</td>\n",
       "        <td style=\"padding-left: 1em; padding-right: 1em; text-align: center; vertical-align: top\">-99.13700278</td>\n",
       "        <td style=\"padding-left: 1em; padding-right: 1em; text-align: center; vertical-align: top\">77916</td>\n",
       "    </tr>\n",
       "    <tr>\n",
       "        <td style=\"padding-left: 1em; padding-right: 1em; text-align: center; vertical-align: top\">17.87924083</td>\n",
       "        <td style=\"padding-left: 1em; padding-right: 1em; text-align: center; vertical-align: top\">-92.48047778</td>\n",
       "        <td style=\"padding-left: 1em; padding-right: 1em; text-align: center; vertical-align: top\">100754</td>\n",
       "    </tr>\n",
       "    <tr>\n",
       "        <td style=\"padding-left: 1em; padding-right: 1em; text-align: center; vertical-align: top\">22.415</td>\n",
       "        <td style=\"padding-left: 1em; padding-right: 1em; text-align: center; vertical-align: top\">-97.938</td>\n",
       "        <td style=\"padding-left: 1em; padding-right: 1em; text-align: center; vertical-align: top\">2254</td>\n",
       "    </tr>\n",
       "    <tr>\n",
       "        <td style=\"padding-left: 1em; padding-right: 1em; text-align: center; vertical-align: top\">19.06744444</td>\n",
       "        <td style=\"padding-left: 1em; padding-right: 1em; text-align: center; vertical-align: top\">-98.221</td>\n",
       "        <td style=\"padding-left: 1em; padding-right: 1em; text-align: center; vertical-align: top\">24089</td>\n",
       "    </tr>\n",
       "    <tr>\n",
       "        <td style=\"padding-left: 1em; padding-right: 1em; text-align: center; vertical-align: top\">18.82805556</td>\n",
       "        <td style=\"padding-left: 1em; padding-right: 1em; text-align: center; vertical-align: top\">-99.24444444</td>\n",
       "        <td style=\"padding-left: 1em; padding-right: 1em; text-align: center; vertical-align: top\">150600</td>\n",
       "    </tr>\n",
       "    <tr>\n",
       "        <td style=\"padding-left: 1em; padding-right: 1em; text-align: center; vertical-align: top\">17.9997</td>\n",
       "        <td style=\"padding-left: 1em; padding-right: 1em; text-align: center; vertical-align: top\">-92.9282</td>\n",
       "        <td style=\"padding-left: 1em; padding-right: 1em; text-align: center; vertical-align: top\">163058</td>\n",
       "    </tr>\n",
       "    <tr>\n",
       "        <td style=\"padding-left: 1em; padding-right: 1em; text-align: center; vertical-align: top\">25.80656932</td>\n",
       "        <td style=\"padding-left: 1em; padding-right: 1em; text-align: center; vertical-align: top\">-100.3256526</td>\n",
       "        <td style=\"padding-left: 1em; padding-right: 1em; text-align: center; vertical-align: top\">49045</td>\n",
       "    </tr>\n",
       "    <tr>\n",
       "        <td style=\"padding-left: 1em; padding-right: 1em; text-align: center; vertical-align: top\">19.4906</td>\n",
       "        <td style=\"padding-left: 1em; padding-right: 1em; text-align: center; vertical-align: top\">-99.2712</td>\n",
       "        <td style=\"padding-left: 1em; padding-right: 1em; text-align: center; vertical-align: top\">179225</td>\n",
       "    </tr>\n",
       "    <tr>\n",
       "        <td style=\"padding-left: 1em; padding-right: 1em; text-align: center; vertical-align: top\">20.58142655</td>\n",
       "        <td style=\"padding-left: 1em; padding-right: 1em; text-align: center; vertical-align: top\">-103.4326277</td>\n",
       "        <td style=\"padding-left: 1em; padding-right: 1em; text-align: center; vertical-align: top\">109406</td>\n",
       "    </tr>\n",
       "</table>\n",
       "[4252 rows x 3 columns]<br/>Note: Only the head of the SFrame is printed.<br/>You can use print_rows(num_rows=m, num_columns=n) to print more rows and columns.\n",
       "</div>"
      ],
      "text/plain": [
       "Columns:\n",
       "\tLATITUDE\tfloat\n",
       "\tLONGITUDE\tfloat\n",
       "\tCEL_ID\tint\n",
       "\n",
       "Rows: 4252\n",
       "\n",
       "Data:\n",
       "+-------------+--------------+--------+\n",
       "|   LATITUDE  |  LONGITUDE   | CEL_ID |\n",
       "+-------------+--------------+--------+\n",
       "| 24.14206333 | -110.2940553 |  4778  |\n",
       "| 19.31787222 | -99.13700278 | 77916  |\n",
       "| 17.87924083 | -92.48047778 | 100754 |\n",
       "|    22.415   |   -97.938    |  2254  |\n",
       "| 19.06744444 |   -98.221    | 24089  |\n",
       "| 18.82805556 | -99.24444444 | 150600 |\n",
       "|   17.9997   |   -92.9282   | 163058 |\n",
       "| 25.80656932 | -100.3256526 | 49045  |\n",
       "|   19.4906   |   -99.2712   | 179225 |\n",
       "| 20.58142655 | -103.4326277 | 109406 |\n",
       "+-------------+--------------+--------+\n",
       "[4252 rows x 3 columns]\n",
       "Note: Only the head of the SFrame is printed.\n",
       "You can use print_rows(num_rows=m, num_columns=n) to print more rows and columns."
      ]
     },
     "execution_count": 22,
     "metadata": {},
     "output_type": "execute_result"
    }
   ],
   "source": [
    "output_antennas = output_antennas.append(test2)"
   ]
  },
  {
   "cell_type": "markdown",
   "metadata": {},
   "source": [
    "# ahora iteramos sobre todos los meses del 2015"
   ]
  },
  {
   "cell_type": "code",
   "execution_count": 32,
   "metadata": {
    "collapsed": false
   },
   "outputs": [
    {
     "data": {
      "text/plain": [
       "([1, 2, 3, 4, 5, 6, 7, 8, 9, 10, 11, 12], 2015, 'Pospago')"
      ]
     },
     "execution_count": 32,
     "metadata": {},
     "output_type": "execute_result"
    }
   ],
   "source": [
    "#params\n",
    "months = range(1,13)\n",
    "plan = \"Pospago\"\n",
    "months,year , plan"
   ]
  },
  {
   "cell_type": "code",
   "execution_count": 33,
   "metadata": {
    "collapsed": false,
    "scrolled": true
   },
   "outputs": [
    {
     "name": "stdout",
     "output_type": "stream",
     "text": [
      "Read all Sframe dirs and groupby and append to one antennas table, time elapsed is 0.00118684768677  localtime is 2:16\n",
      "Process month 1, time elapsed is 0.00141382217407  localtime is 2:16\n",
      "/home/juan/mobility-study/mexico-scripts-ver2/sframe_cdrs/2015/01/Pospago\n",
      "Group sframe table time elapsed is 0.0423078536987  localtime is 2:16\n",
      "Append processed month 1, time elapsed is 255.074151993  localtime is 2:20\n",
      "Process month 2, time elapsed is 255.077152967  localtime is 2:20\n",
      "/home/juan/mobility-study/mexico-scripts-ver2/sframe_cdrs/2015/02/Pospago\n",
      "Group sframe table time elapsed is 255.109897852  localtime is 2:20\n",
      "Append processed month 2, time elapsed is 504.548683882  localtime is 2:24\n",
      "Process month 3, time elapsed is 504.55141902  localtime is 2:24\n",
      "/home/juan/mobility-study/mexico-scripts-ver2/sframe_cdrs/2015/03/Pospago\n",
      "Group sframe table time elapsed is 504.586169004  localtime is 2:24\n",
      "Append processed month 3, time elapsed is 879.284766912  localtime is 2:30\n",
      "Process month 4, time elapsed is 879.287598848  localtime is 2:30\n",
      "/home/juan/mobility-study/mexico-scripts-ver2/sframe_cdrs/2015/04/Pospago\n",
      "Group sframe table time elapsed is 879.315912962  localtime is 2:30\n",
      "Append processed month 4, time elapsed is 1155.63094497  localtime is 2:35\n",
      "Process month 5, time elapsed is 1155.63375092  localtime is 2:35\n",
      "/home/juan/mobility-study/mexico-scripts-ver2/sframe_cdrs/2015/05/Pospago\n",
      "Group sframe table time elapsed is 1155.63880992  localtime is 2:35\n",
      "Append processed month 5, time elapsed is 1206.96926188  localtime is 2:36\n",
      "Process month 6, time elapsed is 1206.9723959  localtime is 2:36\n",
      "/home/juan/mobility-study/mexico-scripts-ver2/sframe_cdrs/2015/06/Pospago\n",
      "Group sframe table time elapsed is 1207.03048587  localtime is 2:36\n",
      "Append processed month 6, time elapsed is 1691.93100691  localtime is 2:44\n",
      "Process month 7, time elapsed is 1691.93392086  localtime is 2:44\n",
      "/home/juan/mobility-study/mexico-scripts-ver2/sframe_cdrs/2015/07/Pospago\n",
      "Group sframe table time elapsed is 1691.96876693  localtime is 2:44\n",
      "Append processed month 7, time elapsed is 2137.42084289  localtime is 2:51\n",
      "Process month 8, time elapsed is 2137.42383289  localtime is 2:51\n",
      "/home/juan/mobility-study/mexico-scripts-ver2/sframe_cdrs/2015/08/Pospago\n",
      "Group sframe table time elapsed is 2137.46469998  localtime is 2:51\n",
      "Append processed month 8, time elapsed is 2648.76922202  localtime is 3:00\n",
      "Process month 9, time elapsed is 2648.77222204  localtime is 3:00\n",
      "/home/juan/mobility-study/mexico-scripts-ver2/sframe_cdrs/2015/09/Pospago\n",
      "Group sframe table time elapsed is 2648.79631281  localtime is 3:00\n",
      "Append processed month 9, time elapsed is 3128.47781491  localtime is 3:08\n",
      "Process month 10, time elapsed is 3128.48009181  localtime is 3:08\n",
      "/home/juan/mobility-study/mexico-scripts-ver2/sframe_cdrs/2015/10/Pospago\n",
      "Group sframe table time elapsed is 3128.51301885  localtime is 3:08\n",
      "Append processed month 10, time elapsed is 3713.08419085  localtime is 3:17\n",
      "Process month 11, time elapsed is 3713.08735585  localtime is 3:17\n",
      "/home/juan/mobility-study/mexico-scripts-ver2/sframe_cdrs/2015/11/Pospago\n",
      "Group sframe table time elapsed is 3713.11059403  localtime is 3:17\n",
      "Append processed month 11, time elapsed is 4251.60779381  localtime is 3:26\n",
      "Process month 12, time elapsed is 4251.61107397  localtime is 3:26\n",
      "/home/juan/mobility-study/mexico-scripts-ver2/sframe_cdrs/2015/12/Pospago\n",
      "Group sframe table time elapsed is 4251.64572787  localtime is 3:26\n",
      "Append processed month 12, time elapsed is 4808.91417193  localtime is 3:36\n",
      "CPU times: user 32min 39s, sys: 1min 10s, total: 33min 50s\n",
      "Wall time: 1h 20min 8s\n"
     ]
    }
   ],
   "source": [
    "%%time\n",
    "start_time = time.time()\n",
    "local_time = time.localtime()\n",
    "\n",
    "# aca voy a ir guardando las antennas ya separadas\n",
    "output_antennas = gl.SFrame()\n",
    "\n",
    "print(\"Read all Sframe dirs and groupby and append to one antennas table, time elapsed is {t}  localtime is {ho}:{mi:0=2d}\"\\\n",
    "          .format(t=(time.time()-start_time), ho = local_time.tm_hour , mi = local_time.tm_min ))\n",
    "\n",
    "for m in months:\n",
    "    \n",
    "    local_time = time.localtime()\n",
    "    print(\"Process month {m}, time elapsed is {t}  localtime is {ho}:{mi:0=2d}\"\\\n",
    "          .format(m = m,t=(time.time()-start_time), ho = local_time.tm_hour , mi = local_time.tm_min ))\n",
    "    sframe_dir = get_input_file(m,plan=\"Pospago\")\n",
    "    print(sframe_dir)\n",
    "    #hago una agrupacion estupida pero en verdad esto es \n",
    "    \n",
    "    monthly_table =  gl.load_sframe(sframe_dir)\n",
    "    monthly_table.remove_columns(['USER','OTHER_USER','DURATION','DURATION','DATE'])\n",
    "    \n",
    "    local_time = time.localtime()\n",
    "    print(\"Group sframe table time elapsed is {t}  localtime is {ho}:{mi:0=2d}\"\\\n",
    "          .format(t=(time.time()-start_time), ho = local_time.tm_hour , mi = local_time.tm_min ))\n",
    "    monthly_table = monthly_table.groupby(['LATITUDE','LONGITUDE'],  {'CEL_ID':gl.aggregate.COUNT('LONGITUDE')})\n",
    "\n",
    "    local_time = time.localtime()\n",
    "    print(\"Append processed month {m}, time elapsed is {t}  localtime is {ho}:{mi:0=2d}\"\\\n",
    "          .format(m = m,t=(time.time()-start_time), ho = local_time.tm_hour , mi = local_time.tm_min ))\n",
    "    output_antennas = output_antennas.append(monthly_table)\n",
    "    \n",
    "#tomo la agrupac"
   ]
  },
  {
   "cell_type": "code",
   "execution_count": 34,
   "metadata": {
    "collapsed": false
   },
   "outputs": [
    {
     "name": "stdout",
     "output_type": "stream",
     "text": [
      "(51107, 3)\n"
     ]
    }
   ],
   "source": [
    "print(output_antennas.shape)"
   ]
  },
  {
   "cell_type": "markdown",
   "metadata": {},
   "source": [
    "# hago analytics simple antes de agrupar"
   ]
  },
  {
   "cell_type": "code",
   "execution_count": 35,
   "metadata": {
    "collapsed": false
   },
   "outputs": [
    {
     "data": {
      "text/html": [
       "<div style=\"max-height:1000px;max-width:1500px;overflow:auto;\"><table frame=\"box\" rules=\"cols\">\n",
       "    <tr>\n",
       "        <th style=\"padding-left: 1em; padding-right: 1em; text-align: center\">LATITUDE</th>\n",
       "        <th style=\"padding-left: 1em; padding-right: 1em; text-align: center\">LONGITUDE</th>\n",
       "        <th style=\"padding-left: 1em; padding-right: 1em; text-align: center\">CEL_ID</th>\n",
       "    </tr>\n",
       "    <tr>\n",
       "        <td style=\"padding-left: 1em; padding-right: 1em; text-align: center; vertical-align: top\">24.14206333</td>\n",
       "        <td style=\"padding-left: 1em; padding-right: 1em; text-align: center; vertical-align: top\">-110.2940553</td>\n",
       "        <td style=\"padding-left: 1em; padding-right: 1em; text-align: center; vertical-align: top\">6418</td>\n",
       "    </tr>\n",
       "    <tr>\n",
       "        <td style=\"padding-left: 1em; padding-right: 1em; text-align: center; vertical-align: top\">19.31787222</td>\n",
       "        <td style=\"padding-left: 1em; padding-right: 1em; text-align: center; vertical-align: top\">-99.13700278</td>\n",
       "        <td style=\"padding-left: 1em; padding-right: 1em; text-align: center; vertical-align: top\">70792</td>\n",
       "    </tr>\n",
       "    <tr>\n",
       "        <td style=\"padding-left: 1em; padding-right: 1em; text-align: center; vertical-align: top\">17.87924083</td>\n",
       "        <td style=\"padding-left: 1em; padding-right: 1em; text-align: center; vertical-align: top\">-92.48047778</td>\n",
       "        <td style=\"padding-left: 1em; padding-right: 1em; text-align: center; vertical-align: top\">95416</td>\n",
       "    </tr>\n",
       "    <tr>\n",
       "        <td style=\"padding-left: 1em; padding-right: 1em; text-align: center; vertical-align: top\">22.415</td>\n",
       "        <td style=\"padding-left: 1em; padding-right: 1em; text-align: center; vertical-align: top\">-97.938</td>\n",
       "        <td style=\"padding-left: 1em; padding-right: 1em; text-align: center; vertical-align: top\">2286</td>\n",
       "    </tr>\n",
       "    <tr>\n",
       "        <td style=\"padding-left: 1em; padding-right: 1em; text-align: center; vertical-align: top\">19.06744444</td>\n",
       "        <td style=\"padding-left: 1em; padding-right: 1em; text-align: center; vertical-align: top\">-98.221</td>\n",
       "        <td style=\"padding-left: 1em; padding-right: 1em; text-align: center; vertical-align: top\">20494</td>\n",
       "    </tr>\n",
       "    <tr>\n",
       "        <td style=\"padding-left: 1em; padding-right: 1em; text-align: center; vertical-align: top\">18.82805556</td>\n",
       "        <td style=\"padding-left: 1em; padding-right: 1em; text-align: center; vertical-align: top\">-99.24444444</td>\n",
       "        <td style=\"padding-left: 1em; padding-right: 1em; text-align: center; vertical-align: top\">138004</td>\n",
       "    </tr>\n",
       "    <tr>\n",
       "        <td style=\"padding-left: 1em; padding-right: 1em; text-align: center; vertical-align: top\">17.9997</td>\n",
       "        <td style=\"padding-left: 1em; padding-right: 1em; text-align: center; vertical-align: top\">-92.9282</td>\n",
       "        <td style=\"padding-left: 1em; padding-right: 1em; text-align: center; vertical-align: top\">148980</td>\n",
       "    </tr>\n",
       "    <tr>\n",
       "        <td style=\"padding-left: 1em; padding-right: 1em; text-align: center; vertical-align: top\">25.80656932</td>\n",
       "        <td style=\"padding-left: 1em; padding-right: 1em; text-align: center; vertical-align: top\">-100.3256526</td>\n",
       "        <td style=\"padding-left: 1em; padding-right: 1em; text-align: center; vertical-align: top\">59709</td>\n",
       "    </tr>\n",
       "    <tr>\n",
       "        <td style=\"padding-left: 1em; padding-right: 1em; text-align: center; vertical-align: top\">19.4906</td>\n",
       "        <td style=\"padding-left: 1em; padding-right: 1em; text-align: center; vertical-align: top\">-99.2712</td>\n",
       "        <td style=\"padding-left: 1em; padding-right: 1em; text-align: center; vertical-align: top\">157177</td>\n",
       "    </tr>\n",
       "    <tr>\n",
       "        <td style=\"padding-left: 1em; padding-right: 1em; text-align: center; vertical-align: top\">20.58142655</td>\n",
       "        <td style=\"padding-left: 1em; padding-right: 1em; text-align: center; vertical-align: top\">-103.4326277</td>\n",
       "        <td style=\"padding-left: 1em; padding-right: 1em; text-align: center; vertical-align: top\">95170</td>\n",
       "    </tr>\n",
       "</table>\n",
       "[10 rows x 3 columns]<br/>\n",
       "</div>"
      ],
      "text/plain": [
       "Columns:\n",
       "\tLATITUDE\tfloat\n",
       "\tLONGITUDE\tfloat\n",
       "\tCEL_ID\tint\n",
       "\n",
       "Rows: 10\n",
       "\n",
       "Data:\n",
       "+-------------+--------------+--------+\n",
       "|   LATITUDE  |  LONGITUDE   | CEL_ID |\n",
       "+-------------+--------------+--------+\n",
       "| 24.14206333 | -110.2940553 |  6418  |\n",
       "| 19.31787222 | -99.13700278 | 70792  |\n",
       "| 17.87924083 | -92.48047778 | 95416  |\n",
       "|    22.415   |   -97.938    |  2286  |\n",
       "| 19.06744444 |   -98.221    | 20494  |\n",
       "| 18.82805556 | -99.24444444 | 138004 |\n",
       "|   17.9997   |   -92.9282   | 148980 |\n",
       "| 25.80656932 | -100.3256526 | 59709  |\n",
       "|   19.4906   |   -99.2712   | 157177 |\n",
       "| 20.58142655 | -103.4326277 | 95170  |\n",
       "+-------------+--------------+--------+\n",
       "[10 rows x 3 columns]"
      ]
     },
     "execution_count": 35,
     "metadata": {},
     "output_type": "execute_result"
    }
   ],
   "source": [
    "output_antennas.head()"
   ]
  },
  {
   "cell_type": "code",
   "execution_count": 36,
   "metadata": {
    "collapsed": false
   },
   "outputs": [
    {
     "name": "stdout",
     "output_type": "stream",
     "text": [
      "(0, 3)\n",
      "CPU times: user 328 ms, sys: 168 ms, total: 496 ms\n",
      "Wall time: 502 ms\n"
     ]
    }
   ],
   "source": [
    "%%time\n",
    "count_nulls = output_antennas[ output_antennas['CEL_ID'] == None ]\n",
    "print(count_nulls.shape)"
   ]
  },
  {
   "cell_type": "code",
   "execution_count": 37,
   "metadata": {
    "collapsed": false
   },
   "outputs": [
    {
     "name": "stdout",
     "output_type": "stream",
     "text": [
      "(0, 3)\n"
     ]
    }
   ],
   "source": [
    "#count same lat/long\n",
    "count_same = output_antennas[ output_antennas['LONGITUDE'] == output_antennas['LATITUDE'] ]\n",
    "print(count_same.shape)"
   ]
  },
  {
   "cell_type": "code",
   "execution_count": null,
   "metadata": {
    "collapsed": true
   },
   "outputs": [],
   "source": []
  },
  {
   "cell_type": "markdown",
   "metadata": {},
   "source": [
    "# Finalmente agrupo y surrogo las antennas"
   ]
  },
  {
   "cell_type": "code",
   "execution_count": 38,
   "metadata": {
    "collapsed": true
   },
   "outputs": [],
   "source": [
    "output_antennas = output_antennas.groupby(['LATITUDE','LONGITUDE'],  {'CEL_ID':gl.aggregate.COUNT('LONGITUDE')})\n",
    "output_antennas['CEL_ID'] = range(1,output_antennas.shape[0]+1)"
   ]
  },
  {
   "cell_type": "code",
   "execution_count": 39,
   "metadata": {
    "collapsed": false
   },
   "outputs": [
    {
     "data": {
      "text/plain": [
       "(4415, 3)"
      ]
     },
     "execution_count": 39,
     "metadata": {},
     "output_type": "execute_result"
    }
   ],
   "source": [
    "output_antennas.shape"
   ]
  },
  {
   "cell_type": "code",
   "execution_count": 42,
   "metadata": {
    "collapsed": false
   },
   "outputs": [
    {
     "data": {
      "text/html": [
       "<div style=\"max-height:1000px;max-width:1500px;overflow:auto;\"><table frame=\"box\" rules=\"cols\">\n",
       "    <tr>\n",
       "        <th style=\"padding-left: 1em; padding-right: 1em; text-align: center\">LATITUDE</th>\n",
       "        <th style=\"padding-left: 1em; padding-right: 1em; text-align: center\">LONGITUDE</th>\n",
       "        <th style=\"padding-left: 1em; padding-right: 1em; text-align: center\">CEL_ID</th>\n",
       "    </tr>\n",
       "    <tr>\n",
       "        <td style=\"padding-left: 1em; padding-right: 1em; text-align: center; vertical-align: top\">28.69472222</td>\n",
       "        <td style=\"padding-left: 1em; padding-right: 1em; text-align: center; vertical-align: top\">-106.1080556</td>\n",
       "        <td style=\"padding-left: 1em; padding-right: 1em; text-align: center; vertical-align: top\">55</td>\n",
       "    </tr>\n",
       "    <tr>\n",
       "        <td style=\"padding-left: 1em; padding-right: 1em; text-align: center; vertical-align: top\">27.45688333</td>\n",
       "        <td style=\"padding-left: 1em; padding-right: 1em; text-align: center; vertical-align: top\">-99.50775</td>\n",
       "        <td style=\"padding-left: 1em; padding-right: 1em; text-align: center; vertical-align: top\">331</td>\n",
       "    </tr>\n",
       "    <tr>\n",
       "        <td style=\"padding-left: 1em; padding-right: 1em; text-align: center; vertical-align: top\">19.49628056</td>\n",
       "        <td style=\"padding-left: 1em; padding-right: 1em; text-align: center; vertical-align: top\">-98.83612222</td>\n",
       "        <td style=\"padding-left: 1em; padding-right: 1em; text-align: center; vertical-align: top\">372</td>\n",
       "    </tr>\n",
       "    <tr>\n",
       "        <td style=\"padding-left: 1em; padding-right: 1em; text-align: center; vertical-align: top\">25.588897</td>\n",
       "        <td style=\"padding-left: 1em; padding-right: 1em; text-align: center; vertical-align: top\">-100.280822</td>\n",
       "        <td style=\"padding-left: 1em; padding-right: 1em; text-align: center; vertical-align: top\">382</td>\n",
       "    </tr>\n",
       "    <tr>\n",
       "        <td style=\"padding-left: 1em; padding-right: 1em; text-align: center; vertical-align: top\">19.45413889</td>\n",
       "        <td style=\"padding-left: 1em; padding-right: 1em; text-align: center; vertical-align: top\">-99.20716667</td>\n",
       "        <td style=\"padding-left: 1em; padding-right: 1em; text-align: center; vertical-align: top\">386</td>\n",
       "    </tr>\n",
       "    <tr>\n",
       "        <td style=\"padding-left: 1em; padding-right: 1em; text-align: center; vertical-align: top\">19.226222</td>\n",
       "        <td style=\"padding-left: 1em; padding-right: 1em; text-align: center; vertical-align: top\">-96.217667</td>\n",
       "        <td style=\"padding-left: 1em; padding-right: 1em; text-align: center; vertical-align: top\">414</td>\n",
       "    </tr>\n",
       "    <tr>\n",
       "        <td style=\"padding-left: 1em; padding-right: 1em; text-align: center; vertical-align: top\">19.408472</td>\n",
       "        <td style=\"padding-left: 1em; padding-right: 1em; text-align: center; vertical-align: top\">-99.171889</td>\n",
       "        <td style=\"padding-left: 1em; padding-right: 1em; text-align: center; vertical-align: top\">506</td>\n",
       "    </tr>\n",
       "    <tr>\n",
       "        <td style=\"padding-left: 1em; padding-right: 1em; text-align: center; vertical-align: top\">24.76055556</td>\n",
       "        <td style=\"padding-left: 1em; padding-right: 1em; text-align: center; vertical-align: top\">-107.4358333</td>\n",
       "        <td style=\"padding-left: 1em; padding-right: 1em; text-align: center; vertical-align: top\">627</td>\n",
       "    </tr>\n",
       "    <tr>\n",
       "        <td style=\"padding-left: 1em; padding-right: 1em; text-align: center; vertical-align: top\">25.78763889</td>\n",
       "        <td style=\"padding-left: 1em; padding-right: 1em; text-align: center; vertical-align: top\">-100.1445806</td>\n",
       "        <td style=\"padding-left: 1em; padding-right: 1em; text-align: center; vertical-align: top\">634</td>\n",
       "    </tr>\n",
       "    <tr>\n",
       "        <td style=\"padding-left: 1em; padding-right: 1em; text-align: center; vertical-align: top\">19.435722</td>\n",
       "        <td style=\"padding-left: 1em; padding-right: 1em; text-align: center; vertical-align: top\">-99.231778</td>\n",
       "        <td style=\"padding-left: 1em; padding-right: 1em; text-align: center; vertical-align: top\">692</td>\n",
       "    </tr>\n",
       "</table>\n",
       "[? rows x 3 columns]<br/>Note: Only the head of the SFrame is printed. This SFrame is lazily evaluated.<br/>You can use len(sf) to force materialization.\n",
       "</div>"
      ],
      "text/plain": [
       "Columns:\n",
       "\tLATITUDE\tfloat\n",
       "\tLONGITUDE\tfloat\n",
       "\tCEL_ID\tint\n",
       "\n",
       "Rows: Unknown\n",
       "\n",
       "Data:\n",
       "+-------------+--------------+--------+\n",
       "|   LATITUDE  |  LONGITUDE   | CEL_ID |\n",
       "+-------------+--------------+--------+\n",
       "| 28.69472222 | -106.1080556 |   55   |\n",
       "| 27.45688333 |  -99.50775   |  331   |\n",
       "| 19.49628056 | -98.83612222 |  372   |\n",
       "|  25.588897  | -100.280822  |  382   |\n",
       "| 19.45413889 | -99.20716667 |  386   |\n",
       "|  19.226222  |  -96.217667  |  414   |\n",
       "|  19.408472  |  -99.171889  |  506   |\n",
       "| 24.76055556 | -107.4358333 |  627   |\n",
       "| 25.78763889 | -100.1445806 |  634   |\n",
       "|  19.435722  |  -99.231778  |  692   |\n",
       "+-------------+--------------+--------+\n",
       "[? rows x 3 columns]\n",
       "Note: Only the head of the SFrame is printed. This SFrame is lazily evaluated.\n",
       "You can use len(sf) to force materialization."
      ]
     },
     "execution_count": 42,
     "metadata": {},
     "output_type": "execute_result"
    }
   ],
   "source": [
    "output_antennas.sample(0.01)"
   ]
  },
  {
   "cell_type": "markdown",
   "metadata": {},
   "source": [
    "# save to output"
   ]
  },
  {
   "cell_type": "code",
   "execution_count": 46,
   "metadata": {
    "collapsed": false
   },
   "outputs": [],
   "source": [
    "output_file = get_output_file(\"Pospago\")\n",
    "output_antennas.export_csv(output_file, delimiter=\"|\")"
   ]
  },
  {
   "cell_type": "code",
   "execution_count": 47,
   "metadata": {
    "collapsed": false
   },
   "outputs": [
    {
     "name": "stdout",
     "output_type": "stream",
     "text": [
      "4416 /home/juan/mobility-study/mexico-scripts-ver2/output/raw_antennas.csv\n",
      "96K\t/home/juan/mobility-study/mexico-scripts-ver2/output/raw_antennas.csv\n",
      "LATITUDE|LONGITUDE|CEL_ID\n",
      "24.1421|-110.294|1\n",
      "19.3179|-99.137|2\n",
      "17.8792|-92.4805|3\n",
      "22.415|-97.938|4\n",
      "19.0674|-98.221|5\n",
      "18.8281|-99.2444|6\n",
      "17.9997|-92.9282|7\n",
      "25.8066|-100.326|8\n",
      "19.4906|-99.2712|9\n"
     ]
    }
   ],
   "source": [
    "!wc -l $output_file\n",
    "!du -ha $output_file\n",
    "!head $output_file"
   ]
  },
  {
   "cell_type": "markdown",
   "metadata": {},
   "source": [
    "## Mata las colas de los floats, pruebo con pandas"
   ]
  },
  {
   "cell_type": "code",
   "execution_count": 50,
   "metadata": {
    "collapsed": true
   },
   "outputs": [],
   "source": [
    "import pandas as pd\n",
    "output_antennas2 =  output_antennas.to_dataframe()"
   ]
  },
  {
   "cell_type": "code",
   "execution_count": 51,
   "metadata": {
    "collapsed": false
   },
   "outputs": [
    {
     "data": {
      "text/html": [
       "<div>\n",
       "<table border=\"1\" class=\"dataframe\">\n",
       "  <thead>\n",
       "    <tr style=\"text-align: right;\">\n",
       "      <th></th>\n",
       "      <th>LATITUDE</th>\n",
       "      <th>LONGITUDE</th>\n",
       "      <th>CEL_ID</th>\n",
       "    </tr>\n",
       "  </thead>\n",
       "  <tbody>\n",
       "    <tr>\n",
       "      <th>0</th>\n",
       "      <td>24.142063</td>\n",
       "      <td>-110.294055</td>\n",
       "      <td>1</td>\n",
       "    </tr>\n",
       "    <tr>\n",
       "      <th>1</th>\n",
       "      <td>19.317872</td>\n",
       "      <td>-99.137003</td>\n",
       "      <td>2</td>\n",
       "    </tr>\n",
       "    <tr>\n",
       "      <th>2</th>\n",
       "      <td>17.879241</td>\n",
       "      <td>-92.480478</td>\n",
       "      <td>3</td>\n",
       "    </tr>\n",
       "    <tr>\n",
       "      <th>3</th>\n",
       "      <td>22.415000</td>\n",
       "      <td>-97.938000</td>\n",
       "      <td>4</td>\n",
       "    </tr>\n",
       "    <tr>\n",
       "      <th>4</th>\n",
       "      <td>19.067444</td>\n",
       "      <td>-98.221000</td>\n",
       "      <td>5</td>\n",
       "    </tr>\n",
       "  </tbody>\n",
       "</table>\n",
       "</div>"
      ],
      "text/plain": [
       "    LATITUDE   LONGITUDE  CEL_ID\n",
       "0  24.142063 -110.294055       1\n",
       "1  19.317872  -99.137003       2\n",
       "2  17.879241  -92.480478       3\n",
       "3  22.415000  -97.938000       4\n",
       "4  19.067444  -98.221000       5"
      ]
     },
     "execution_count": 51,
     "metadata": {},
     "output_type": "execute_result"
    }
   ],
   "source": [
    "output_antennas2.head()"
   ]
  },
  {
   "cell_type": "code",
   "execution_count": 53,
   "metadata": {
    "collapsed": true
   },
   "outputs": [],
   "source": [
    "output_antennas2.to_csv(output_file, sep=\"|\",index=False,header=True)"
   ]
  },
  {
   "cell_type": "code",
   "execution_count": 54,
   "metadata": {
    "collapsed": false
   },
   "outputs": [
    {
     "name": "stdout",
     "output_type": "stream",
     "text": [
      "4416 /home/juan/mobility-study/mexico-scripts-ver2/output/raw_antennas.csv\n",
      "120K\t/home/juan/mobility-study/mexico-scripts-ver2/output/raw_antennas.csv\n",
      "LATITUDE|LONGITUDE|CEL_ID\n",
      "24.14206333|-110.2940553|1\n",
      "19.31787222|-99.13700278|2\n",
      "17.87924083|-92.48047778|3\n",
      "22.415|-97.938|4\n",
      "19.06744444|-98.221|5\n",
      "18.82805556|-99.24444444|6\n",
      "17.9997|-92.9282|7\n",
      "25.80656932|-100.3256526|8\n",
      "19.4906|-99.2712|9\n"
     ]
    }
   ],
   "source": [
    "!wc -l $output_file\n",
    "!du -ha $output_file\n",
    "!head $output_file"
   ]
  },
  {
   "cell_type": "code",
   "execution_count": null,
   "metadata": {
    "collapsed": true
   },
   "outputs": [],
   "source": []
  },
  {
   "cell_type": "code",
   "execution_count": null,
   "metadata": {
    "collapsed": true
   },
   "outputs": [],
   "source": []
  }
 ],
 "metadata": {
  "kernelspec": {
   "display_name": "Python 2",
   "language": "python",
   "name": "python2"
  },
  "language_info": {
   "codemirror_mode": {
    "name": "ipython",
    "version": 2
   },
   "file_extension": ".py",
   "mimetype": "text/x-python",
   "name": "python",
   "nbconvert_exporter": "python",
   "pygments_lexer": "ipython2",
   "version": "2.7.12"
  }
 },
 "nbformat": 4,
 "nbformat_minor": 0
}
