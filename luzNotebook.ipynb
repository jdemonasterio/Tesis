{
 "cells": [
  {
   "cell_type": "markdown",
   "metadata": {},
   "source": [
    "# Ejemplos\n",
    "for light <3\n"
   ]
  },
  {
   "cell_type": "markdown",
   "metadata": {},
   "source": [
    "## First\n",
    "* crear 100 arrays de igual largo con random strings de elementos (strings de 12 chars)\n",
    "* concatenar todo en una matriz"
   ]
  },
  {
   "cell_type": "code",
   "execution_count": 1,
   "metadata": {
    "collapsed": false
   },
   "outputs": [
    {
     "name": "stdout",
     "output_type": "stream",
     "text": [
      "DYRMFGRFNNFP\n"
     ]
    }
   ],
   "source": [
    "from random import choice\n",
    "from string import ascii_uppercase\n",
    "#con esto creamos el random string\n",
    "print(''.join(choice(ascii_uppercase) for i in range(10)))"
   ]
  },
  {
   "cell_type": "code",
   "execution_count": 55,
   "metadata": {
    "collapsed": false
   },
   "outputs": [
    {
     "data": {
      "text/plain": [
       "50"
      ]
     },
     "execution_count": 55,
     "metadata": {},
     "output_type": "execute_result"
    }
   ],
   "source": [
    "import numpy as np\n",
    "m=50\n",
    "arr = np.empty(shape = (m), dtype=object )\n",
    "len(arr)"
   ]
  },
  {
   "cell_type": "code",
   "execution_count": 65,
   "metadata": {
    "collapsed": true
   },
   "outputs": [],
   "source": [
    "arr[9] = ''.join(choice(ascii_uppercase) for i in range(10))\n",
    "arr[7] = ''.join(choice(ascii_uppercase) for i in range(10))"
   ]
  },
  {
   "cell_type": "code",
   "execution_count": 66,
   "metadata": {
    "collapsed": false
   },
   "outputs": [
    {
     "name": "stdout",
     "output_type": "stream",
     "text": [
      "[None None None None None None None 'AWOHXQYPJC' None 'QYAPIUIYDO' None\n",
      " None None None None None None None None None None None None None None None\n",
      " None None None None None None None None None None None None None None None\n",
      " None None None None None None None None None]\n"
     ]
    }
   ],
   "source": [
    "print(arr)"
   ]
  },
  {
   "cell_type": "code",
   "execution_count": 62,
   "metadata": {
    "collapsed": false
   },
   "outputs": [],
   "source": []
  },
  {
   "cell_type": "code",
   "execution_count": 87,
   "metadata": {
    "collapsed": true
   },
   "outputs": [],
   "source": [
    "#entra un n, la cantidad de arrays, devuelve una lista de n arrays\n",
    "def get_random_array_list(n=100,m=50):\n",
    "    out_list = [0]*n\n",
    "    for j in range(n): \n",
    "        arr = np.empty(shape = (m), dtype=object )\n",
    "    \n",
    "        for i, elem in enumerate(arr):\n",
    "            arr[i] = ''.join(choice(ascii_uppercase) for i in range(10))\n",
    "            \n",
    "        out_list[j] =  arr\n",
    "    \n",
    "    return out_list"
   ]
  },
  {
   "cell_type": "code",
   "execution_count": 88,
   "metadata": {
    "collapsed": false
   },
   "outputs": [],
   "source": [
    "test = get_random_array_list()"
   ]
  },
  {
   "cell_type": "code",
   "execution_count": 89,
   "metadata": {
    "collapsed": false,
    "scrolled": true
   },
   "outputs": [
    {
     "data": {
      "text/plain": [
       "[array(['VPYRIXIVFI', 'SKXDLRGUQV', 'VILOVQJLRF', 'JXESVGEODH',\n",
       "        'RJALUHWXTQ', 'MJAOTEXLMY', 'HCYVRJUPLC', 'OZSDVXBXBD',\n",
       "        'LWIFJFTGVO', 'ZJZMEVVRSA', 'KNHNNQXXLP', 'QQUEXLUXXY',\n",
       "        'KNHMANXOBE', 'KINMAAPYBG', 'LSHIRIUULP', 'XIVHIPEAGF',\n",
       "        'FEWSAIQQGM', 'WPKVQJZZUD', 'MEZJFJWCDS', 'DAAXPHBXWQ',\n",
       "        'LETEYDDPNJ', 'OROKXGLSOZ', 'KDORZLXZGJ', 'WJVMHZRHHI',\n",
       "        'UXDCDSRMCN', 'TYQDKIULMF', 'PGZACYCWXF', 'LOZFXVGRTV',\n",
       "        'UQBSYJCHLA', 'KPEQFYTOPQ', 'QPHMNEJEPZ', 'COTGHLSTRE',\n",
       "        'QRKZUFDVOI', 'IJYMYRJBHW', 'FTQFVKDMXW', 'MKBYTDIYBU',\n",
       "        'ARCGPLKHTC', 'JOUAVFFXGV', 'CQKHMZRACY', 'HOYDOQSUWF',\n",
       "        'GCJJGXJRTK', 'CVWESOBRCW', 'INABBULWRJ', 'WMJWPCYKLJ',\n",
       "        'NIDYGNJCDW', 'VSJTXZFGGJ', 'HKBANQDLLV', 'YIGKIUIZQN',\n",
       "        'DYNEWURWSA', 'NTSXKFXIWC'], dtype=object),\n",
       " array(['BPVMNRQPIH', 'ZYGPYVBWAP', 'KRXFUGLQBB', 'CXPDGHLHFJ',\n",
       "        'SKKPMANNPR', 'RVCTSTACTN', 'OMZWWNHJLN', 'LKOJYBBCFU',\n",
       "        'RTOXTLQEZH', 'TBYYPQRKXL', 'GGUKMUZASQ', 'DJPUGMEQRA',\n",
       "        'NKTETXZZXA', 'QTPAOQTYKF', 'ANGSRRERIC', 'NGJXRCKJMI',\n",
       "        'TRYPPWKFFA', 'ZQDJLPYYFQ', 'TUBKNBFPTY', 'UOQIUPLKRG',\n",
       "        'CEUWGLWZBQ', 'XMKHUBIHIF', 'LFUALUFXZV', 'FNEYSAUTJZ',\n",
       "        'KLMIYYCKAV', 'SUDQKMZKUS', 'YZUVLZKOLG', 'COHNXHVVRK',\n",
       "        'VYUEUCVREM', 'IVRDQETYJH', 'VLMRHPQDUK', 'CDPVDCNEWY',\n",
       "        'NTLVPKTRCW', 'RLAPFBHBUE', 'WJXLEVEYFY', 'ROYHFNUEFX',\n",
       "        'QMHVYHFHYI', 'WCVPKBDRXS', 'SDFTOVAOCT', 'BVXOUNKLAH',\n",
       "        'WSZPSLQTZN', 'TKPHRREXBI', 'MWYECNQOLA', 'MWEOGVBMSI',\n",
       "        'ORGSSQODOK', 'MYFKIFSWDB', 'TUJUOXONEY', 'ULRISYQHEG',\n",
       "        'MCWYAQZPDN', 'EBUNZNFYRR'], dtype=object),\n",
       " array(['XDFEGIOQOX', 'MECJFRHLMX', 'QUUYGRJGPH', 'VVFTCJLTIV',\n",
       "        'YBYLZQUXWP', 'LRSLTTTYYA', 'RIHEKMZXEP', 'GOZKALYSEG',\n",
       "        'PDQUESSMAH', 'NCLYFYMCQE', 'SIGFWQTBII', 'JNOPTNKMDY',\n",
       "        'XCFKWNTGSZ', 'DZGYQLPPUD', 'VHIYSYAFLS', 'UREHRMIIDW',\n",
       "        'QBBJIZRWQH', 'WSVJVNDZQJ', 'PKCLLOXNFH', 'JBXYSKOGCP',\n",
       "        'BZCKEVAEEV', 'QSOHIHJHFD', 'SMRSQELQZQ', 'XKBJGEFVDV',\n",
       "        'AFTGWWSXNO', 'LBEXAYKLSB', 'XPFMBGFCTZ', 'DCTDKYWKAU',\n",
       "        'XQYQBMTVOL', 'XZTXLSWRBO', 'ALAVOFYRHC', 'VVCFHOJDKI',\n",
       "        'AHDTMHSXQW', 'BOYTZUIROV', 'ZCFWRDPLED', 'QMHWQNQMJL',\n",
       "        'FUPXAMBQPQ', 'EVYDOQKBJT', 'QSRNHIKFQB', 'EKRJUFQEMR',\n",
       "        'ZPXSEGIAGI', 'KKZEURCSWH', 'NGBKRVZMNL', 'YTNCQCJAMR',\n",
       "        'SDATOBZQNM', 'QQPSPRTIAB', 'WVXWIRIPOP', 'XZLAAIYOYN',\n",
       "        'GOINDKUGAU', 'FIPVWHHGAQ'], dtype=object)]"
      ]
     },
     "execution_count": 89,
     "metadata": {},
     "output_type": "execute_result"
    }
   ],
   "source": [
    "test[0:3]"
   ]
  },
  {
   "cell_type": "code",
   "execution_count": 90,
   "metadata": {
    "collapsed": false
   },
   "outputs": [
    {
     "name": "stdout",
     "output_type": "stream",
     "text": [
      "100\n",
      "(50,)\n"
     ]
    }
   ],
   "source": [
    "print(len(test))\n",
    "print(test[0].shape)"
   ]
  },
  {
   "cell_type": "code",
   "execution_count": 92,
   "metadata": {
    "collapsed": false
   },
   "outputs": [
    {
     "data": {
      "text/plain": [
       "(100, 50)"
      ]
     },
     "execution_count": 92,
     "metadata": {},
     "output_type": "execute_result"
    }
   ],
   "source": [
    "result = np.asmatrix(test)\n",
    "result.shape"
   ]
  },
  {
   "cell_type": "code",
   "execution_count": 94,
   "metadata": {
    "collapsed": false
   },
   "outputs": [
    {
     "data": {
      "text/plain": [
       "'VPYRIXIVFI'"
      ]
     },
     "execution_count": 94,
     "metadata": {},
     "output_type": "execute_result"
    }
   ],
   "source": [
    "result[0,0]"
   ]
  },
  {
   "cell_type": "code",
   "execution_count": 95,
   "metadata": {
    "collapsed": false
   },
   "outputs": [
    {
     "data": {
      "text/plain": [
       "matrix([['VPYRIXIVFI', 'SKXDLRGUQV', 'VILOVQJLRF', ..., 'YIGKIUIZQN',\n",
       "         'DYNEWURWSA', 'NTSXKFXIWC'],\n",
       "        ['BPVMNRQPIH', 'ZYGPYVBWAP', 'KRXFUGLQBB', ..., 'ULRISYQHEG',\n",
       "         'MCWYAQZPDN', 'EBUNZNFYRR'],\n",
       "        ['XDFEGIOQOX', 'MECJFRHLMX', 'QUUYGRJGPH', ..., 'XZLAAIYOYN',\n",
       "         'GOINDKUGAU', 'FIPVWHHGAQ'],\n",
       "        ..., \n",
       "        ['EISDUMXGNY', 'WBIWHUNKET', 'LKIXSJYYGE', ..., 'KITNRUCVMY',\n",
       "         'SOAEJQHPLI', 'MIZXNNFEYW'],\n",
       "        ['WANXOHHOLJ', 'OSVTXJDPYW', 'UGFWWDIUXJ', ..., 'SEDGRNQCYA',\n",
       "         'MQJJVCAGJE', 'JACLTGUXLU'],\n",
       "        ['ROEOONIVGL', 'PMZXHYZCQQ', 'CHTYBERHHV', ..., 'KNHNZYTZPZ',\n",
       "         'FLAVPTBWSC', 'OUROZLLYZJ']], dtype=object)"
      ]
     },
     "execution_count": 95,
     "metadata": {},
     "output_type": "execute_result"
    }
   ],
   "source": [
    "result"
   ]
  },
  {
   "cell_type": "code",
   "execution_count": null,
   "metadata": {
    "collapsed": true
   },
   "outputs": [],
   "source": []
  }
 ],
 "metadata": {
  "kernelspec": {
   "display_name": "Python 2",
   "language": "python",
   "name": "python2"
  },
  "language_info": {
   "codemirror_mode": {
    "name": "ipython",
    "version": 2
   },
   "file_extension": ".py",
   "mimetype": "text/x-python",
   "name": "python",
   "nbconvert_exporter": "python",
   "pygments_lexer": "ipython2",
   "version": "2.7.10"
  }
 },
 "nbformat": 4,
 "nbformat_minor": 0
}
