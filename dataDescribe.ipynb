{
 "cells": [
  {
   "cell_type": "markdown",
   "metadata": {},
   "source": [
    "# Objective:\n",
    "\n",
    "Predict past mobility patterns for Mexican Telco users using approximately 9bn CDRs (call detail records) from January 2014 to September 2015.\n",
    "\n",
    "Input data comes in *SimpleFormat* which has following header:\n",
    " {'USER':np.int32 \\\\\\  'OTHER_USER':np.uint32 \\\\\\ 'DIRECTION':np.bool \\\\\\  'TimeStamp':np.uint32 \\\\\\   'Duration':np.uint16 \\\\\\  'AntennaID':np.uint16}"
   ]
  },
  {
   "cell_type": "code",
   "execution_count": 2,
   "metadata": {
    "collapsed": false
   },
   "outputs": [
    {
     "name": "stdout",
     "output_type": "stream",
     "text": [
      "/bin/bash: warning: setlocale: LC_ALL: cannot change locale (en_US.UTF-8)\n",
      "USER OTHER_USER DIRECTION TIMESTAMP DURATION ANTENNA_ID\n",
      "216E0E920C0B51093276E270CC36CB72 BA694194F2CF7978466AA9602DD38F36 O 63161302 56 1\n",
      "216E0E920C0B51093276E270CC36CB72 BA694194F2CF7978466AA9602DD38F36 O 63162373 88 1\n",
      "216E0E920C0B51093276E270CC36CB72 BCE827A6E83B59F75031D4FCEC36B7DD I 63217965 600 2\n",
      "216E0E920C0B51093276E270CC36CB72 BCE827A6E83B59F75031D4FCEC36B7DD I 63218508 63 2\n",
      "216E0E920C0B51093276E270CC36CB72 BCE827A6E83B59F75031D4FCEC36B7DD I 63217516 93 2\n",
      "216E0E920C0B51093276E270CC36CB72 EADDE544AB1EC4B975AE41337ACFB5B5 I 63228387 35 2\n",
      "73C2C1F8233884659CC65DF58BA2D031 39ABF1E2D91107D64EE4B6719C2D6C60 O 63286717 342 3\n",
      "73C2C1F8233884659CC65DF58BA2D031 995362BDBB319FB4E367EB52E2540CC7 O 63280397 33 4\n",
      "73C2C1F8233884659CC65DF58BA2D031 9D0AFC1877F147C63E235CF25B42CC0B O 63307690 38 4\n",
      "\n",
      "gzip: stdout: Broken pipe\n"
     ]
    }
   ],
   "source": [
    "!zcat /grandata/simple_format/simple_format_201401.txt.gz | head"
   ]
  },
  {
   "cell_type": "markdown",
   "metadata": {},
   "source": [
    "### Some observations on SimpleFormat:\n",
    "* Timestamp is measured in seconds sinc 01/01/2012 00:00am\n",
    "* For each call, the hash in the USER column is the one using that specific ANTENNA_ID. This means that the USER columns is only for Telco Users.\n",
    "* Direction is relative to the first column too."
   ]
  },
  {
   "cell_type": "markdown",
   "metadata": {},
   "source": [
    "## SumLinks processing:\n",
    "SimpleFormat data is processed to another more graph-oriented representation called SumLinks.\n",
    "It's head is:"
   ]
  },
  {
   "cell_type": "code",
   "execution_count": 3,
   "metadata": {
    "collapsed": false
   },
   "outputs": [
    {
     "name": "stdout",
     "output_type": "stream",
     "text": [
      "/bin/bash: warning: setlocale: LC_ALL: cannot change locale (en_US.UTF-8)\n",
      "LineKeyOrigin|LineKeyTarget|CallsWeekDaylight|CallsWeekNight|CallsWeekend|TimeWeekDaylight|TimeWeekNight|TimeWeekend|SmsWeekDaylight|SmsWeekNight|SmsWeekend\n",
      "BA3439E244F09BFA85F03750D84DB1B7|5AA26ADB35AF1A26A635B7747320732F|1|0|0|44|0|0|0|0|0\n",
      "BA3439E244F09BFA85F03750D84DB1B7|503D0DC95765D42BE5CFB3C50075214A|1|1|0|78|313|0|0|0|0\n",
      "BA3439E244F09BFA85F03750D84DB1B7|EA6C583D0F31F6D2A1E23B55334DF494|0|0|2|0|0|98|0|0|0\n",
      "73F169CBB3B6E443B896017C51B1C600|9D0AFC1877F147C63E235CF25B42CC0B|1|4|4|6|85|55|0|0|0\n",
      "7A0B5B991DD1B3C6E1498C07EF02FD31|9D0AFC1877F147C63E235CF25B42CC0B|0|2|5|0|146|268|0|0|0\n",
      "EA23ADE2371B8D5FB02A8DDBAF5A53B2|9D0AFC1877F147C63E235CF25B42CC0B|2|1|0|147|46|0|0|0|0\n",
      "BC834644645F540C1BD72307A5BD5B96|9D0AFC1877F147C63E235CF25B42CC0B|0|0|1|0|0|9|0|0|0\n",
      "3C43E7D3B99947C9C0C21BA7D387F26A|9D0AFC1877F147C63E235CF25B42CC0B|1|2|0|7|142|0|0|0|0\n",
      "97B89BED4B7123F6F6F47B41403C4DF1|9D0AFC1877F147C63E235CF25B42CC0B|0|1|0|0|48|0|0|0|0\n",
      "\n",
      "gzip: stdout: Broken pipe\n"
     ]
    }
   ],
   "source": [
    "!zcat /grandata/voice/sum_links/sum_links_201401_201403.txt.gz | head"
   ]
  },
  {
   "cell_type": "markdown",
   "metadata": {},
   "source": [
    "### Some observations on SumLinks:\n",
    "* Each row represents a pair of interacting users where the communication direction is taken into account i.e. interactions from USER i to USER j (i --> j) are in most cases different to those from j --> i.\n",
    "* All *Calls* columns are counts of communications made during different weekly or daily timespans. \n",
    "* *Time* columns are measured in seconds.\n",
    "* SMS columns where not taken into account later during the data processing.\n",
    "* Daylight corresponds to the [8 19) timeframe (using Mexico's central timezone)\n",
    "* Telco Users are not exclusive to any of the first two columns. This means that hash pairs can or not be Telco Users."
   ]
  },
  {
   "cell_type": "markdown",
   "metadata": {},
   "source": [
    "## Antenna Tagging:\n",
    "\n",
    "Predicting mobility patterns means that users' must be geolocated in some way. The CDRs enables us to approximately geolocate TelCo users in space every time a call is made taking into account the antenna's geolocation. \n",
    "\n",
    "Now if we want to predict mobility patterns from area A to B, we must then tag antennas as belonging to one of the corresponding areas. For this particular project we relied on epidemiological data to select those mexican states with highest Chagas prevalence. These were tagged as the \"epidemic\" states."
   ]
  },
  {
   "cell_type": "markdown",
   "metadata": {},
   "source": [
    "# SimpleFormat Data Processing:\n",
    "Considering the previous details, we ran scripts through the whole dataset looking for features which will be later fed to the Machine Learning models. The idea is to construct a dataframe which has TelCo users as rows and different communication patterns as features.\n",
    "\n",
    "To do so, we considered users on the last five months of the dataset (May through September) who used the phone in between 25 and 2000 times during this time period.\n",
    "\n",
    "Scooping the SimpleFormat to get the following data:\n",
    "* Which are the 10 most frequently used antennas for each TelcoUser, measured by counts usage. The most used antenna will be then considered the user's home antenna.\n",
    "* Tag a users as EPIDEMIC (boolean data structure) if his home antenna is from the epidemic region and EXPOSED if he has been seen at least once using an EPIDEMIC antenna.\n",
    "* Given the convex hull formed by the geolocations of his 10 most used antennas, get the MOBILITY_DIAMETER as the hull's diameter.\n"
   ]
  },
  {
   "cell_type": "markdown",
   "metadata": {},
   "source": [
    "# SumLinks Data Processing:\n",
    "\n",
    "We'd like to know how many of each users' interactions are vulnerable(epidemic) vs the total interactions. To do so, it's convenient to view antennas as partitions in the graph of user interactions considering that each user is mapped to his home antenna. In this graph, users are nodes and edges mean that at least 1 interaction is present between those 2 users.\n",
    "\n",
    "Here we can also extract information at the antenna level. \n",
    "* Having Total_Origin_USERS as the number of nodes in that antenna, \n",
    "* Total_Target_USERS as the number of nodes from other antennas which are connected to this antenna,\n",
    "* EPIDEMIC_Target_users as the amount of outer-edges (where one of the edge's nodes is from a different antenna) coming from EPIDEMIC antennas,\n",
    "* EXPOSED_Target_users which is similar to the case before but where other users are EXPOSED only.\n",
    "* \n",
    "\n",
    "At the user level exctracted the following information from the SumLinks files:\n",
    "* Get count of total Calls and Time of phone usage per user. Also get count of total EPIDEMIC Calls and Time of phone usage per user.\n",
    "* Get the number of nodes interacting with this user, with specific disaggregation for epidemic and exposed nodes."
   ]
  },
  {
   "cell_type": "markdown",
   "metadata": {},
   "source": [
    "# Ground Truth\n",
    "\n",
    "We're intending to predict if a user has been living in a certain area during the past period (January 2014 to April 2015). Specifically looking for users that used to live in epidemic areas during the past i.e. we're trying to label users as having lived in epidemic areas during the past period. \n",
    "\n",
    "As such, we need to identify the most frequently used antenna for each user during the past period in order to target its \"epidemicity\". As knowing if a user was exposed in the past directly followed from this same analysis, this information was recorded as well\n",
    "\n",
    "## Below\n",
    "are the output files for the different processing scripts"
   ]
  },
  {
   "cell_type": "code",
   "execution_count": 4,
   "metadata": {
    "collapsed": false
   },
   "outputs": [
    {
     "data": {
      "application/javascript": [
       "IPython.notebook.set_autosave_interval(180000)"
      ]
     },
     "metadata": {},
     "output_type": "display_data"
    },
    {
     "name": "stderr",
     "output_type": "stream",
     "text": [
      "/home/juan/anaconda2/lib/python2.7/site-packages/pandas/computation/__init__.py:19: UserWarning: The installed version of numexpr 2.4.4 is not supported in pandas and will be not be used\n",
      "\n",
      "  UserWarning)\n",
      "/home/juan/mobility-study/scikit-learn/sklearn/externals/joblib/_multiprocessing_helpers.py:29: UserWarning: [Errno 38] Function not implemented.  joblib will operate in serial mode\n",
      "  warnings.warn('%s.  joblib will operate in serial mode' % (e,))\n"
     ]
    },
    {
     "name": "stdout",
     "output_type": "stream",
     "text": [
      "Autosaving every 180 seconds\n"
     ]
    }
   ],
   "source": [
    "## seteamos los parametros del notebook\n",
    "%autosave 180\n",
    "\n",
    "import pandas as pd; \n",
    "import numpy as np; \n",
    "import os;\n",
    "import random;\n",
    "import time\n",
    "#%matplotlib inline\n",
    "import sys\n",
    "\n",
    "# Import/Export data from Pandas\n",
    "import graphlab as gl\n",
    "\n",
    "np.random.seed(2015)\n",
    "rootdir=os.getcwd()\n",
    "rootdir+= \"/datasets\"\n",
    "os.chdir(rootdir)"
   ]
  },
  {
   "cell_type": "code",
   "execution_count": 5,
   "metadata": {
    "collapsed": false
   },
   "outputs": [
    {
     "name": "stdout",
     "output_type": "stream",
     "text": [
      "This cell took 0.0573000907898 seconds to run\n"
     ]
    }
   ],
   "source": [
    "start_time = time.time()\n",
    "\n",
    "file_sf = \"sf_output.txt.gz\"\n",
    "file_sl = \"sl_output.txt.gz\"\n",
    "file_gt = \"ground_truth.csv.gz\"\n",
    "\n",
    "sf_sframe = pd.read_csv(file_sf,sep = \",\",\n",
    "                   header = 0,\n",
    "                     index_col =None,\n",
    "                       nrows =10)\n",
    "sl_sframe = pd.read_csv(file_sl,sep = \"|\",\n",
    "                   header = 0,\n",
    "                     index_col = None,\n",
    "                       nrows =10)\n",
    "sl_sframe.columns = [\"USER\" if (\"LineKeyOrigin\" in col) else col for col in sl_sframe.columns  ]\n",
    "\n",
    "gt_sframe = pd.read_csv(file_gt,sep = \"|\",\n",
    "                   header = 0,\n",
    "                     index_col = None,\n",
    "                       nrows =10)\n",
    "\n",
    "#agrego la etiqueta \"_gt\" a las columnas del ground_truth\n",
    "gt_sframe.columns = [col+\"_gt\" if not(\"USER\" in col) else col for col in gt_sframe.columns  ]\n",
    "\n",
    "all_time =   time.time() - start_time\n",
    "\n",
    "print('This cell took %s seconds to run' % all_time)"
   ]
  },
  {
   "cell_type": "markdown",
   "metadata": {},
   "source": [
    "# SF output Head"
   ]
  },
  {
   "cell_type": "code",
   "execution_count": 7,
   "metadata": {
    "collapsed": false
   },
   "outputs": [
    {
     "data": {
      "text/html": [
       "<div>\n",
       "<table border=\"1\" class=\"dataframe\">\n",
       "  <thead>\n",
       "    <tr style=\"text-align: right;\">\n",
       "      <th></th>\n",
       "      <th>USER</th>\n",
       "      <th>EXPOSED</th>\n",
       "      <th>ANTENNA_ID_0</th>\n",
       "      <th>COUNT_0</th>\n",
       "      <th>ANTENNA_ID_1</th>\n",
       "      <th>COUNT_1</th>\n",
       "      <th>ANTENNA_ID_2</th>\n",
       "      <th>COUNT_2</th>\n",
       "      <th>ANTENNA_ID_3</th>\n",
       "      <th>COUNT_3</th>\n",
       "      <th>...</th>\n",
       "      <th>ANTENNA_ID_6</th>\n",
       "      <th>COUNT_6</th>\n",
       "      <th>ANTENNA_ID_7</th>\n",
       "      <th>COUNT_7</th>\n",
       "      <th>ANTENNA_ID_8</th>\n",
       "      <th>COUNT_8</th>\n",
       "      <th>ANTENNA_ID_9</th>\n",
       "      <th>COUNT_9</th>\n",
       "      <th>EPIDEMIC</th>\n",
       "      <th>MOBILITY_DIAMETER</th>\n",
       "    </tr>\n",
       "  </thead>\n",
       "  <tbody>\n",
       "    <tr>\n",
       "      <th>0</th>\n",
       "      <td>FFFF78CB080636632B2D1DE7A7BFAB03</td>\n",
       "      <td>False</td>\n",
       "      <td>3415</td>\n",
       "      <td>21</td>\n",
       "      <td>2969</td>\n",
       "      <td>5</td>\n",
       "      <td>1320</td>\n",
       "      <td>3</td>\n",
       "      <td>2471</td>\n",
       "      <td>3</td>\n",
       "      <td>...</td>\n",
       "      <td>-1</td>\n",
       "      <td>65535</td>\n",
       "      <td>-1</td>\n",
       "      <td>65535</td>\n",
       "      <td>-1</td>\n",
       "      <td>65535</td>\n",
       "      <td>-1</td>\n",
       "      <td>65535</td>\n",
       "      <td>False</td>\n",
       "      <td>1063.140535</td>\n",
       "    </tr>\n",
       "    <tr>\n",
       "      <th>1</th>\n",
       "      <td>FFFF51FDDD55A2E24D074DE30C4798E9</td>\n",
       "      <td>True</td>\n",
       "      <td>1207</td>\n",
       "      <td>15</td>\n",
       "      <td>1171</td>\n",
       "      <td>14</td>\n",
       "      <td>1820</td>\n",
       "      <td>9</td>\n",
       "      <td>583</td>\n",
       "      <td>8</td>\n",
       "      <td>...</td>\n",
       "      <td>1831</td>\n",
       "      <td>4</td>\n",
       "      <td>1625</td>\n",
       "      <td>2</td>\n",
       "      <td>401</td>\n",
       "      <td>1</td>\n",
       "      <td>825</td>\n",
       "      <td>1</td>\n",
       "      <td>False</td>\n",
       "      <td>520.065959</td>\n",
       "    </tr>\n",
       "    <tr>\n",
       "      <th>2</th>\n",
       "      <td>FFFE1EDDA25369CBC467536FA6A787FD</td>\n",
       "      <td>True</td>\n",
       "      <td>1847</td>\n",
       "      <td>22</td>\n",
       "      <td>1753</td>\n",
       "      <td>14</td>\n",
       "      <td>1422</td>\n",
       "      <td>11</td>\n",
       "      <td>1028</td>\n",
       "      <td>10</td>\n",
       "      <td>...</td>\n",
       "      <td>862</td>\n",
       "      <td>8</td>\n",
       "      <td>2463</td>\n",
       "      <td>7</td>\n",
       "      <td>1416</td>\n",
       "      <td>6</td>\n",
       "      <td>871</td>\n",
       "      <td>5</td>\n",
       "      <td>True</td>\n",
       "      <td>989.597851</td>\n",
       "    </tr>\n",
       "    <tr>\n",
       "      <th>3</th>\n",
       "      <td>FFFD0A912A959CDFCFFAB2F93BFBA435</td>\n",
       "      <td>True</td>\n",
       "      <td>1407</td>\n",
       "      <td>18</td>\n",
       "      <td>1702</td>\n",
       "      <td>8</td>\n",
       "      <td>1613</td>\n",
       "      <td>6</td>\n",
       "      <td>1704</td>\n",
       "      <td>5</td>\n",
       "      <td>...</td>\n",
       "      <td>818</td>\n",
       "      <td>2</td>\n",
       "      <td>958</td>\n",
       "      <td>2</td>\n",
       "      <td>726</td>\n",
       "      <td>1</td>\n",
       "      <td>848</td>\n",
       "      <td>1</td>\n",
       "      <td>False</td>\n",
       "      <td>490.585382</td>\n",
       "    </tr>\n",
       "    <tr>\n",
       "      <th>4</th>\n",
       "      <td>FFFCB235D6D917DDF350F5B11CCB0EE8</td>\n",
       "      <td>True</td>\n",
       "      <td>17</td>\n",
       "      <td>74</td>\n",
       "      <td>174</td>\n",
       "      <td>33</td>\n",
       "      <td>1123</td>\n",
       "      <td>4</td>\n",
       "      <td>1178</td>\n",
       "      <td>4</td>\n",
       "      <td>...</td>\n",
       "      <td>503</td>\n",
       "      <td>1</td>\n",
       "      <td>1039</td>\n",
       "      <td>1</td>\n",
       "      <td>1228</td>\n",
       "      <td>1</td>\n",
       "      <td>1327</td>\n",
       "      <td>1</td>\n",
       "      <td>True</td>\n",
       "      <td>1613.225606</td>\n",
       "    </tr>\n",
       "  </tbody>\n",
       "</table>\n",
       "<p>5 rows × 24 columns</p>\n",
       "</div>"
      ],
      "text/plain": [
       "                               USER EXPOSED  ANTENNA_ID_0  COUNT_0  \\\n",
       "0  FFFF78CB080636632B2D1DE7A7BFAB03   False          3415       21   \n",
       "1  FFFF51FDDD55A2E24D074DE30C4798E9    True          1207       15   \n",
       "2  FFFE1EDDA25369CBC467536FA6A787FD    True          1847       22   \n",
       "3  FFFD0A912A959CDFCFFAB2F93BFBA435    True          1407       18   \n",
       "4  FFFCB235D6D917DDF350F5B11CCB0EE8    True            17       74   \n",
       "\n",
       "   ANTENNA_ID_1  COUNT_1  ANTENNA_ID_2  COUNT_2  ANTENNA_ID_3  COUNT_3  \\\n",
       "0          2969        5          1320        3          2471        3   \n",
       "1          1171       14          1820        9           583        8   \n",
       "2          1753       14          1422       11          1028       10   \n",
       "3          1702        8          1613        6          1704        5   \n",
       "4           174       33          1123        4          1178        4   \n",
       "\n",
       "         ...          ANTENNA_ID_6  COUNT_6  ANTENNA_ID_7  COUNT_7  \\\n",
       "0        ...                    -1    65535            -1    65535   \n",
       "1        ...                  1831        4          1625        2   \n",
       "2        ...                   862        8          2463        7   \n",
       "3        ...                   818        2           958        2   \n",
       "4        ...                   503        1          1039        1   \n",
       "\n",
       "   ANTENNA_ID_8  COUNT_8  ANTENNA_ID_9  COUNT_9  EPIDEMIC  MOBILITY_DIAMETER  \n",
       "0            -1    65535            -1    65535     False        1063.140535  \n",
       "1           401        1           825        1     False         520.065959  \n",
       "2          1416        6           871        5      True         989.597851  \n",
       "3           726        1           848        1     False         490.585382  \n",
       "4          1228        1          1327        1      True        1613.225606  \n",
       "\n",
       "[5 rows x 24 columns]"
      ]
     },
     "execution_count": 7,
     "metadata": {},
     "output_type": "execute_result"
    }
   ],
   "source": [
    "sf_sframe.head()"
   ]
  },
  {
   "cell_type": "markdown",
   "metadata": {},
   "source": [
    "# SL output Head"
   ]
  },
  {
   "cell_type": "code",
   "execution_count": 6,
   "metadata": {
    "collapsed": false
   },
   "outputs": [
    {
     "data": {
      "text/html": [
       "<div>\n",
       "<table border=\"1\" class=\"dataframe\">\n",
       "  <thead>\n",
       "    <tr style=\"text-align: right;\">\n",
       "      <th></th>\n",
       "      <th>USER</th>\n",
       "      <th>CallsWeekDaylight</th>\n",
       "      <th>CallsWeekDaylight_EPI</th>\n",
       "      <th>CallsWeekNight</th>\n",
       "      <th>CallsWeekNight_EPI</th>\n",
       "      <th>CallsWeekend</th>\n",
       "      <th>CallsWeekend_EPI</th>\n",
       "      <th>TimeWeekDaylight</th>\n",
       "      <th>TimeWeekDaylight_EPI</th>\n",
       "      <th>TimeWeekNight</th>\n",
       "      <th>TimeWeekNight_EPI</th>\n",
       "      <th>TimeWeekend</th>\n",
       "      <th>TimeWeekend_EPI</th>\n",
       "      <th>TOTAL_USERS</th>\n",
       "      <th>EPI_USERS</th>\n",
       "      <th>EXP_USERS</th>\n",
       "    </tr>\n",
       "  </thead>\n",
       "  <tbody>\n",
       "    <tr>\n",
       "      <th>0</th>\n",
       "      <td>000004F96010462FA7A71C7784E27476</td>\n",
       "      <td>0</td>\n",
       "      <td>0</td>\n",
       "      <td>0</td>\n",
       "      <td>0</td>\n",
       "      <td>0</td>\n",
       "      <td>1</td>\n",
       "      <td>0</td>\n",
       "      <td>0</td>\n",
       "      <td>0</td>\n",
       "      <td>0</td>\n",
       "      <td>0</td>\n",
       "      <td>34</td>\n",
       "      <td>1</td>\n",
       "      <td>0</td>\n",
       "      <td>1</td>\n",
       "    </tr>\n",
       "    <tr>\n",
       "      <th>1</th>\n",
       "      <td>000007EEE7895E17937CFF86379C8E17</td>\n",
       "      <td>0</td>\n",
       "      <td>2</td>\n",
       "      <td>0</td>\n",
       "      <td>0</td>\n",
       "      <td>0</td>\n",
       "      <td>0</td>\n",
       "      <td>0</td>\n",
       "      <td>144</td>\n",
       "      <td>0</td>\n",
       "      <td>0</td>\n",
       "      <td>0</td>\n",
       "      <td>0</td>\n",
       "      <td>1</td>\n",
       "      <td>1</td>\n",
       "      <td>1</td>\n",
       "    </tr>\n",
       "    <tr>\n",
       "      <th>2</th>\n",
       "      <td>00000837B868F926F67BD440A0845C1D</td>\n",
       "      <td>1</td>\n",
       "      <td>0</td>\n",
       "      <td>2</td>\n",
       "      <td>4</td>\n",
       "      <td>3</td>\n",
       "      <td>0</td>\n",
       "      <td>47</td>\n",
       "      <td>0</td>\n",
       "      <td>74</td>\n",
       "      <td>86</td>\n",
       "      <td>109</td>\n",
       "      <td>0</td>\n",
       "      <td>3</td>\n",
       "      <td>0</td>\n",
       "      <td>2</td>\n",
       "    </tr>\n",
       "    <tr>\n",
       "      <th>3</th>\n",
       "      <td>00000C5D3BFBEBD919F6F68386C3DD5E</td>\n",
       "      <td>4</td>\n",
       "      <td>0</td>\n",
       "      <td>0</td>\n",
       "      <td>0</td>\n",
       "      <td>0</td>\n",
       "      <td>0</td>\n",
       "      <td>281</td>\n",
       "      <td>0</td>\n",
       "      <td>0</td>\n",
       "      <td>0</td>\n",
       "      <td>0</td>\n",
       "      <td>0</td>\n",
       "      <td>1</td>\n",
       "      <td>0</td>\n",
       "      <td>1</td>\n",
       "    </tr>\n",
       "    <tr>\n",
       "      <th>4</th>\n",
       "      <td>0000129F4191FFD0963774D2307C7510</td>\n",
       "      <td>2</td>\n",
       "      <td>0</td>\n",
       "      <td>0</td>\n",
       "      <td>0</td>\n",
       "      <td>0</td>\n",
       "      <td>0</td>\n",
       "      <td>66</td>\n",
       "      <td>0</td>\n",
       "      <td>0</td>\n",
       "      <td>0</td>\n",
       "      <td>0</td>\n",
       "      <td>0</td>\n",
       "      <td>2</td>\n",
       "      <td>0</td>\n",
       "      <td>2</td>\n",
       "    </tr>\n",
       "  </tbody>\n",
       "</table>\n",
       "</div>"
      ],
      "text/plain": [
       "                               USER  CallsWeekDaylight  CallsWeekDaylight_EPI  \\\n",
       "0  000004F96010462FA7A71C7784E27476                  0                      0   \n",
       "1  000007EEE7895E17937CFF86379C8E17                  0                      2   \n",
       "2  00000837B868F926F67BD440A0845C1D                  1                      0   \n",
       "3  00000C5D3BFBEBD919F6F68386C3DD5E                  4                      0   \n",
       "4  0000129F4191FFD0963774D2307C7510                  2                      0   \n",
       "\n",
       "   CallsWeekNight  CallsWeekNight_EPI  CallsWeekend  CallsWeekend_EPI  \\\n",
       "0               0                   0             0                 1   \n",
       "1               0                   0             0                 0   \n",
       "2               2                   4             3                 0   \n",
       "3               0                   0             0                 0   \n",
       "4               0                   0             0                 0   \n",
       "\n",
       "   TimeWeekDaylight  TimeWeekDaylight_EPI  TimeWeekNight  TimeWeekNight_EPI  \\\n",
       "0                 0                     0              0                  0   \n",
       "1                 0                   144              0                  0   \n",
       "2                47                     0             74                 86   \n",
       "3               281                     0              0                  0   \n",
       "4                66                     0              0                  0   \n",
       "\n",
       "   TimeWeekend  TimeWeekend_EPI  TOTAL_USERS  EPI_USERS  EXP_USERS  \n",
       "0            0               34            1          0          1  \n",
       "1            0                0            1          1          1  \n",
       "2          109                0            3          0          2  \n",
       "3            0                0            1          0          1  \n",
       "4            0                0            2          0          2  "
      ]
     },
     "execution_count": 6,
     "metadata": {},
     "output_type": "execute_result"
    }
   ],
   "source": [
    "sl_sframe.head()"
   ]
  },
  {
   "cell_type": "code",
   "execution_count": 8,
   "metadata": {
    "collapsed": true
   },
   "outputs": [],
   "source": [
    "# para poder usar el estimador MultionmialNB, paso todos los valores negativos en las antenna_ids de sf_table a 0\n",
    "for col in [col for col in sf_sframe.columns.values if \"_ID\" in col]:\n",
    "    sf_sframe[col] = sf_sframe[col].replace(-1,0)"
   ]
  },
  {
   "cell_type": "markdown",
   "metadata": {},
   "source": [
    "# Ground Truth Head"
   ]
  },
  {
   "cell_type": "code",
   "execution_count": 24,
   "metadata": {
    "collapsed": false
   },
   "outputs": [
    {
     "data": {
      "text/html": [
       "<div>\n",
       "<table border=\"1\" class=\"dataframe\">\n",
       "  <thead>\n",
       "    <tr style=\"text-align: right;\">\n",
       "      <th></th>\n",
       "      <th>USER</th>\n",
       "      <th>ANTENNA_ID_gt</th>\n",
       "      <th>EPIDEMIC_gt</th>\n",
       "      <th>EXPOSED_gt</th>\n",
       "    </tr>\n",
       "  </thead>\n",
       "  <tbody>\n",
       "    <tr>\n",
       "      <th>0</th>\n",
       "      <td>FFFF51FDDD55A2E24D074DE30C4798E9</td>\n",
       "      <td>470</td>\n",
       "      <td>0</td>\n",
       "      <td>0</td>\n",
       "    </tr>\n",
       "    <tr>\n",
       "      <th>1</th>\n",
       "      <td>FFFC3133FAEF588B9FA75487C864F774</td>\n",
       "      <td>1036</td>\n",
       "      <td>0</td>\n",
       "      <td>1</td>\n",
       "    </tr>\n",
       "    <tr>\n",
       "      <th>2</th>\n",
       "      <td>FFFB2F18F4CCF253C06B581EA518A7A5</td>\n",
       "      <td>497</td>\n",
       "      <td>1</td>\n",
       "      <td>1</td>\n",
       "    </tr>\n",
       "    <tr>\n",
       "      <th>3</th>\n",
       "      <td>FFFB2C0FEE677EE733DDD85F11C5A14C</td>\n",
       "      <td>214</td>\n",
       "      <td>0</td>\n",
       "      <td>1</td>\n",
       "    </tr>\n",
       "    <tr>\n",
       "      <th>4</th>\n",
       "      <td>FFFB27D77413E57C38D14D876C3DE8CF</td>\n",
       "      <td>2946</td>\n",
       "      <td>0</td>\n",
       "      <td>1</td>\n",
       "    </tr>\n",
       "  </tbody>\n",
       "</table>\n",
       "</div>"
      ],
      "text/plain": [
       "                               USER  ANTENNA_ID_gt  EPIDEMIC_gt  EXPOSED_gt\n",
       "0  FFFF51FDDD55A2E24D074DE30C4798E9            470            0           0\n",
       "1  FFFC3133FAEF588B9FA75487C864F774           1036            0           1\n",
       "2  FFFB2F18F4CCF253C06B581EA518A7A5            497            1           1\n",
       "3  FFFB2C0FEE677EE733DDD85F11C5A14C            214            0           1\n",
       "4  FFFB27D77413E57C38D14D876C3DE8CF           2946            0           1"
      ]
     },
     "execution_count": 24,
     "metadata": {},
     "output_type": "execute_result"
    }
   ],
   "source": [
    "gt_sframe.head()"
   ]
  }
 ],
 "metadata": {
  "kernelspec": {
   "display_name": "Python 2",
   "language": "python",
   "name": "python2"
  },
  "language_info": {
   "codemirror_mode": {
    "name": "ipython",
    "version": 2
   },
   "file_extension": ".py",
   "mimetype": "text/x-python",
   "name": "python",
   "nbconvert_exporter": "python",
   "pygments_lexer": "ipython2",
   "version": "2.7.11"
  }
 },
 "nbformat": 4,
 "nbformat_minor": 0
}
