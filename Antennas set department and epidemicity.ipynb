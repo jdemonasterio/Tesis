{
 "cells": [
  {
   "cell_type": "markdown",
   "metadata": {},
   "source": [
    "# Mexico Antenna exploration and processing\n",
    "La idea es\n",
    "\n",
    "* Catalogar antenas por sus provincias \n",
    "* Graficar el mapa de Mexico con sus antennas\n",
    "* limpiar aquellas que caigan \"al agua\"\n",
    "* Catalogar las antenas como pertenecientes o no a regiones del *\"Gran Chaco\"* mejicano\n",
    "\n",
    "## definicion utilizada"
   ]
  },
  {
   "cell_type": "code",
   "execution_count": null,
   "metadata": {
    "collapsed": false,
    "scrolled": true
   },
   "outputs": [],
   "source": [
    "import pandas as pd; import numpy as np; import os;import random;\n",
    "pd.set_option('display.max_rows', 300)\n",
    "#from matplotlib import pyplot as plt\n",
    "#%matplotlib inline\n",
    "import unicodedata\n",
    "import gzip"
   ]
  },
  {
   "cell_type": "code",
   "execution_count": null,
   "metadata": {
    "collapsed": true
   },
   "outputs": [],
   "source": [
    "import geopandas as gpd;\n",
    "from geopandas.geoseries import *\n",
    "import shapely"
   ]
  },
  {
   "cell_type": "code",
   "execution_count": 3,
   "metadata": {
    "collapsed": true
   },
   "outputs": [],
   "source": [
    "np.random.seed(2015)"
   ]
  },
  {
   "cell_type": "code",
   "execution_count": 4,
   "metadata": {
    "collapsed": true
   },
   "outputs": [],
   "source": [
    "global mapa"
   ]
  },
  {
   "cell_type": "code",
   "execution_count": 6,
   "metadata": {
    "collapsed": false
   },
   "outputs": [],
   "source": [
    "rootdir = '/home/juan/mobility-study'"
   ]
  },
  {
   "cell_type": "code",
   "execution_count": 7,
   "metadata": {
    "collapsed": false
   },
   "outputs": [],
   "source": [
    "mapa = gpd.GeoDataFrame.from_file(rootdir+'/mapas/national_estatal.geojson')"
   ]
  },
  {
   "cell_type": "code",
   "execution_count": 8,
   "metadata": {
    "collapsed": false
   },
   "outputs": [
    {
     "data": {
      "text/html": [
       "<div>\n",
       "<table border=\"1\" class=\"dataframe\">\n",
       "  <thead>\n",
       "    <tr style=\"text-align: right;\">\n",
       "      <th></th>\n",
       "      <th>CVEGEO</th>\n",
       "      <th>NOMBRE</th>\n",
       "      <th>OID</th>\n",
       "      <th>POB1</th>\n",
       "      <th>POB10</th>\n",
       "      <th>POB10_R</th>\n",
       "      <th>POB11</th>\n",
       "      <th>POB11_R</th>\n",
       "      <th>POB12</th>\n",
       "      <th>POB12_R</th>\n",
       "      <th>...</th>\n",
       "      <th>POB7_R</th>\n",
       "      <th>POB8</th>\n",
       "      <th>POB80</th>\n",
       "      <th>POB80_R</th>\n",
       "      <th>POB81</th>\n",
       "      <th>POB81_R</th>\n",
       "      <th>POB8_R</th>\n",
       "      <th>POB9</th>\n",
       "      <th>POB9_R</th>\n",
       "      <th>geometry</th>\n",
       "    </tr>\n",
       "  </thead>\n",
       "  <tbody>\n",
       "    <tr>\n",
       "      <th>6</th>\n",
       "      <td>07</td>\n",
       "      <td>Chiapas</td>\n",
       "      <td>7</td>\n",
       "      <td>4796580</td>\n",
       "      <td>968252</td>\n",
       "      <td>20.2</td>\n",
       "      <td>1334789</td>\n",
       "      <td>27.8</td>\n",
       "      <td>2860151</td>\n",
       "      <td>59.6</td>\n",
       "      <td>...</td>\n",
       "      <td>6.9</td>\n",
       "      <td>1645047</td>\n",
       "      <td>116587</td>\n",
       "      <td>5</td>\n",
       "      <td>78285</td>\n",
       "      <td>3.3</td>\n",
       "      <td>34.3</td>\n",
       "      <td>326491</td>\n",
       "      <td>6.8</td>\n",
       "      <td>POLYGON ((-91.97363681088724 17.91143118947898...</td>\n",
       "    </tr>\n",
       "  </tbody>\n",
       "</table>\n",
       "<p>1 rows × 160 columns</p>\n",
       "</div>"
      ],
      "text/plain": [
       "  CVEGEO   NOMBRE  OID     POB1   POB10  POB10_R    POB11  POB11_R    POB12  \\\n",
       "6     07  Chiapas    7  4796580  968252     20.2  1334789     27.8  2860151   \n",
       "\n",
       "   POB12_R                        ...                          POB7_R  \\\n",
       "6     59.6                        ...                             6.9   \n",
       "\n",
       "      POB8   POB80  POB80_R  POB81  POB81_R  POB8_R    POB9  POB9_R  \\\n",
       "6  1645047  116587        5  78285      3.3    34.3  326491     6.8   \n",
       "\n",
       "                                            geometry  \n",
       "6  POLYGON ((-91.97363681088724 17.91143118947898...  \n",
       "\n",
       "[1 rows x 160 columns]"
      ]
     },
     "execution_count": 8,
     "metadata": {},
     "output_type": "execute_result"
    }
   ],
   "source": [
    "mapa[mapa['NOMBRE']==u'Chiapas']"
   ]
  },
  {
   "cell_type": "code",
   "execution_count": 43,
   "metadata": {
    "collapsed": false,
    "scrolled": true
   },
   "outputs": [
    {
     "data": {
      "text/html": [
       "<div>\n",
       "<table border=\"1\" class=\"dataframe\">\n",
       "  <thead>\n",
       "    <tr style=\"text-align: right;\">\n",
       "      <th></th>\n",
       "      <th>ID</th>\n",
       "      <th>LATITUDE</th>\n",
       "      <th>LONGITUDE</th>\n",
       "    </tr>\n",
       "  </thead>\n",
       "  <tbody>\n",
       "    <tr>\n",
       "      <th>2291</th>\n",
       "      <td>2722</td>\n",
       "      <td>19.686</td>\n",
       "      <td>-99.049</td>\n",
       "    </tr>\n",
       "    <tr>\n",
       "      <th>1998</th>\n",
       "      <td>2445</td>\n",
       "      <td>19.504</td>\n",
       "      <td>-99.081</td>\n",
       "    </tr>\n",
       "    <tr>\n",
       "      <th>3852</th>\n",
       "      <td>4455</td>\n",
       "      <td>25.663</td>\n",
       "      <td>-100.359</td>\n",
       "    </tr>\n",
       "    <tr>\n",
       "      <th>1660</th>\n",
       "      <td>3269</td>\n",
       "      <td>19.427</td>\n",
       "      <td>-99.220</td>\n",
       "    </tr>\n",
       "    <tr>\n",
       "      <th>71</th>\n",
       "      <td>2068</td>\n",
       "      <td>16.746</td>\n",
       "      <td>-93.120</td>\n",
       "    </tr>\n",
       "    <tr>\n",
       "      <th>2881</th>\n",
       "      <td>1843</td>\n",
       "      <td>20.697</td>\n",
       "      <td>-103.358</td>\n",
       "    </tr>\n",
       "    <tr>\n",
       "      <th>3430</th>\n",
       "      <td>3577</td>\n",
       "      <td>22.283</td>\n",
       "      <td>-97.828</td>\n",
       "    </tr>\n",
       "    <tr>\n",
       "      <th>2214</th>\n",
       "      <td>1100</td>\n",
       "      <td>19.627</td>\n",
       "      <td>-99.417</td>\n",
       "    </tr>\n",
       "    <tr>\n",
       "      <th>2707</th>\n",
       "      <td>1826</td>\n",
       "      <td>20.622</td>\n",
       "      <td>-100.188</td>\n",
       "    </tr>\n",
       "    <tr>\n",
       "      <th>2921</th>\n",
       "      <td>1814</td>\n",
       "      <td>20.716</td>\n",
       "      <td>-103.392</td>\n",
       "    </tr>\n",
       "    <tr>\n",
       "      <th>4219</th>\n",
       "      <td>4164</td>\n",
       "      <td>28.628</td>\n",
       "      <td>-106.080</td>\n",
       "    </tr>\n",
       "    <tr>\n",
       "      <th>4038</th>\n",
       "      <td>3748</td>\n",
       "      <td>25.882</td>\n",
       "      <td>-97.505</td>\n",
       "    </tr>\n",
       "    <tr>\n",
       "      <th>3089</th>\n",
       "      <td>2403</td>\n",
       "      <td>21.009</td>\n",
       "      <td>-89.695</td>\n",
       "    </tr>\n",
       "    <tr>\n",
       "      <th>896</th>\n",
       "      <td>2763</td>\n",
       "      <td>19.278</td>\n",
       "      <td>-98.949</td>\n",
       "    </tr>\n",
       "    <tr>\n",
       "      <th>3866</th>\n",
       "      <td>3960</td>\n",
       "      <td>25.671</td>\n",
       "      <td>-100.348</td>\n",
       "    </tr>\n",
       "    <tr>\n",
       "      <th>787</th>\n",
       "      <td>2246</td>\n",
       "      <td>19.214</td>\n",
       "      <td>-99.210</td>\n",
       "    </tr>\n",
       "    <tr>\n",
       "      <th>3867</th>\n",
       "      <td>3947</td>\n",
       "      <td>25.672</td>\n",
       "      <td>-100.376</td>\n",
       "    </tr>\n",
       "    <tr>\n",
       "      <th>1610</th>\n",
       "      <td>1580</td>\n",
       "      <td>19.421</td>\n",
       "      <td>-99.262</td>\n",
       "    </tr>\n",
       "    <tr>\n",
       "      <th>271</th>\n",
       "      <td>2869</td>\n",
       "      <td>17.998</td>\n",
       "      <td>-92.942</td>\n",
       "    </tr>\n",
       "    <tr>\n",
       "      <th>316</th>\n",
       "      <td>1185</td>\n",
       "      <td>18.135</td>\n",
       "      <td>-94.502</td>\n",
       "    </tr>\n",
       "    <tr>\n",
       "      <th>3781</th>\n",
       "      <td>3815</td>\n",
       "      <td>25.609</td>\n",
       "      <td>-100.269</td>\n",
       "    </tr>\n",
       "    <tr>\n",
       "      <th>500</th>\n",
       "      <td>4127</td>\n",
       "      <td>18.912</td>\n",
       "      <td>-99.493</td>\n",
       "    </tr>\n",
       "    <tr>\n",
       "      <th>1308</th>\n",
       "      <td>377</td>\n",
       "      <td>19.372</td>\n",
       "      <td>-99.172</td>\n",
       "    </tr>\n",
       "    <tr>\n",
       "      <th>2469</th>\n",
       "      <td>1182</td>\n",
       "      <td>20.084</td>\n",
       "      <td>-98.771</td>\n",
       "    </tr>\n",
       "    <tr>\n",
       "      <th>1015</th>\n",
       "      <td>4059</td>\n",
       "      <td>19.306</td>\n",
       "      <td>-99.556</td>\n",
       "    </tr>\n",
       "    <tr>\n",
       "      <th>667</th>\n",
       "      <td>220</td>\n",
       "      <td>19.069</td>\n",
       "      <td>-98.205</td>\n",
       "    </tr>\n",
       "    <tr>\n",
       "      <th>392</th>\n",
       "      <td>4052</td>\n",
       "      <td>18.647</td>\n",
       "      <td>-98.605</td>\n",
       "    </tr>\n",
       "    <tr>\n",
       "      <th>3640</th>\n",
       "      <td>3480</td>\n",
       "      <td>24.796</td>\n",
       "      <td>-107.384</td>\n",
       "    </tr>\n",
       "    <tr>\n",
       "      <th>1755</th>\n",
       "      <td>181</td>\n",
       "      <td>19.436</td>\n",
       "      <td>-99.201</td>\n",
       "    </tr>\n",
       "    <tr>\n",
       "      <th>1964</th>\n",
       "      <td>2388</td>\n",
       "      <td>19.492</td>\n",
       "      <td>-99.058</td>\n",
       "    </tr>\n",
       "    <tr>\n",
       "      <th>2344</th>\n",
       "      <td>152</td>\n",
       "      <td>19.796</td>\n",
       "      <td>-99.872</td>\n",
       "    </tr>\n",
       "    <tr>\n",
       "      <th>3485</th>\n",
       "      <td>2784</td>\n",
       "      <td>22.908</td>\n",
       "      <td>-109.956</td>\n",
       "    </tr>\n",
       "    <tr>\n",
       "      <th>285</th>\n",
       "      <td>1984</td>\n",
       "      <td>18.018</td>\n",
       "      <td>-102.213</td>\n",
       "    </tr>\n",
       "    <tr>\n",
       "      <th>3033</th>\n",
       "      <td>2537</td>\n",
       "      <td>20.960</td>\n",
       "      <td>-89.604</td>\n",
       "    </tr>\n",
       "    <tr>\n",
       "      <th>1985</th>\n",
       "      <td>2805</td>\n",
       "      <td>19.499</td>\n",
       "      <td>-99.171</td>\n",
       "    </tr>\n",
       "    <tr>\n",
       "      <th>3731</th>\n",
       "      <td>4161</td>\n",
       "      <td>25.523</td>\n",
       "      <td>-103.454</td>\n",
       "    </tr>\n",
       "    <tr>\n",
       "      <th>3993</th>\n",
       "      <td>3819</td>\n",
       "      <td>25.780</td>\n",
       "      <td>-108.983</td>\n",
       "    </tr>\n",
       "    <tr>\n",
       "      <th>3149</th>\n",
       "      <td>2157</td>\n",
       "      <td>21.078</td>\n",
       "      <td>-101.188</td>\n",
       "    </tr>\n",
       "    <tr>\n",
       "      <th>3625</th>\n",
       "      <td>3586</td>\n",
       "      <td>24.746</td>\n",
       "      <td>-107.455</td>\n",
       "    </tr>\n",
       "    <tr>\n",
       "      <th>1183</th>\n",
       "      <td>375</td>\n",
       "      <td>19.351</td>\n",
       "      <td>-99.145</td>\n",
       "    </tr>\n",
       "    <tr>\n",
       "      <th>3582</th>\n",
       "      <td>2844</td>\n",
       "      <td>24.022</td>\n",
       "      <td>-104.670</td>\n",
       "    </tr>\n",
       "    <tr>\n",
       "      <th>3302</th>\n",
       "      <td>1158</td>\n",
       "      <td>21.470</td>\n",
       "      <td>-104.854</td>\n",
       "    </tr>\n",
       "    <tr>\n",
       "      <th>2418</th>\n",
       "      <td>2414</td>\n",
       "      <td>19.950</td>\n",
       "      <td>-103.723</td>\n",
       "    </tr>\n",
       "    <tr>\n",
       "      <th>2245</th>\n",
       "      <td>3680</td>\n",
       "      <td>19.649</td>\n",
       "      <td>-99.247</td>\n",
       "    </tr>\n",
       "    <tr>\n",
       "      <th>3278</th>\n",
       "      <td>264</td>\n",
       "      <td>21.236</td>\n",
       "      <td>-102.338</td>\n",
       "    </tr>\n",
       "    <tr>\n",
       "      <th>187</th>\n",
       "      <td>28</td>\n",
       "      <td>17.519</td>\n",
       "      <td>-99.486</td>\n",
       "    </tr>\n",
       "    <tr>\n",
       "      <th>4149</th>\n",
       "      <td>4362</td>\n",
       "      <td>27.519</td>\n",
       "      <td>-109.927</td>\n",
       "    </tr>\n",
       "    <tr>\n",
       "      <th>1995</th>\n",
       "      <td>1062</td>\n",
       "      <td>19.503</td>\n",
       "      <td>-99.031</td>\n",
       "    </tr>\n",
       "    <tr>\n",
       "      <th>3981</th>\n",
       "      <td>3692</td>\n",
       "      <td>25.769</td>\n",
       "      <td>-100.274</td>\n",
       "    </tr>\n",
       "    <tr>\n",
       "      <th>908</th>\n",
       "      <td>4027</td>\n",
       "      <td>19.282</td>\n",
       "      <td>-103.582</td>\n",
       "    </tr>\n",
       "    <tr>\n",
       "      <th>4246</th>\n",
       "      <td>4348</td>\n",
       "      <td>28.707</td>\n",
       "      <td>-100.531</td>\n",
       "    </tr>\n",
       "    <tr>\n",
       "      <th>3856</th>\n",
       "      <td>4428</td>\n",
       "      <td>25.665</td>\n",
       "      <td>-100.380</td>\n",
       "    </tr>\n",
       "    <tr>\n",
       "      <th>3842</th>\n",
       "      <td>3773</td>\n",
       "      <td>25.657</td>\n",
       "      <td>-100.217</td>\n",
       "    </tr>\n",
       "    <tr>\n",
       "      <th>3789</th>\n",
       "      <td>4376</td>\n",
       "      <td>25.626</td>\n",
       "      <td>-100.369</td>\n",
       "    </tr>\n",
       "    <tr>\n",
       "      <th>1062</th>\n",
       "      <td>1664</td>\n",
       "      <td>19.318</td>\n",
       "      <td>-99.221</td>\n",
       "    </tr>\n",
       "    <tr>\n",
       "      <th>3175</th>\n",
       "      <td>716</td>\n",
       "      <td>21.111</td>\n",
       "      <td>-101.654</td>\n",
       "    </tr>\n",
       "    <tr>\n",
       "      <th>492</th>\n",
       "      <td>1421</td>\n",
       "      <td>18.905</td>\n",
       "      <td>-96.995</td>\n",
       "    </tr>\n",
       "    <tr>\n",
       "      <th>4074</th>\n",
       "      <td>4285</td>\n",
       "      <td>26.504</td>\n",
       "      <td>-100.009</td>\n",
       "    </tr>\n",
       "    <tr>\n",
       "      <th>2759</th>\n",
       "      <td>2083</td>\n",
       "      <td>20.650</td>\n",
       "      <td>-103.418</td>\n",
       "    </tr>\n",
       "    <tr>\n",
       "      <th>3436</th>\n",
       "      <td>2989</td>\n",
       "      <td>22.331</td>\n",
       "      <td>-97.870</td>\n",
       "    </tr>\n",
       "    <tr>\n",
       "      <th>1863</th>\n",
       "      <td>960</td>\n",
       "      <td>19.459</td>\n",
       "      <td>-99.187</td>\n",
       "    </tr>\n",
       "    <tr>\n",
       "      <th>4309</th>\n",
       "      <td>3806</td>\n",
       "      <td>31.660</td>\n",
       "      <td>-106.406</td>\n",
       "    </tr>\n",
       "    <tr>\n",
       "      <th>1899</th>\n",
       "      <td>2443</td>\n",
       "      <td>19.470</td>\n",
       "      <td>-99.109</td>\n",
       "    </tr>\n",
       "    <tr>\n",
       "      <th>1484</th>\n",
       "      <td>712</td>\n",
       "      <td>19.402</td>\n",
       "      <td>-99.113</td>\n",
       "    </tr>\n",
       "    <tr>\n",
       "      <th>1432</th>\n",
       "      <td>4206</td>\n",
       "      <td>19.394</td>\n",
       "      <td>-99.239</td>\n",
       "    </tr>\n",
       "    <tr>\n",
       "      <th>2299</th>\n",
       "      <td>795</td>\n",
       "      <td>19.695</td>\n",
       "      <td>-99.204</td>\n",
       "    </tr>\n",
       "    <tr>\n",
       "      <th>4066</th>\n",
       "      <td>4167</td>\n",
       "      <td>26.065</td>\n",
       "      <td>-98.338</td>\n",
       "    </tr>\n",
       "    <tr>\n",
       "      <th>421</th>\n",
       "      <td>918</td>\n",
       "      <td>18.808</td>\n",
       "      <td>-99.666</td>\n",
       "    </tr>\n",
       "    <tr>\n",
       "      <th>1898</th>\n",
       "      <td>36</td>\n",
       "      <td>19.469</td>\n",
       "      <td>-96.781</td>\n",
       "    </tr>\n",
       "    <tr>\n",
       "      <th>2237</th>\n",
       "      <td>2385</td>\n",
       "      <td>19.643</td>\n",
       "      <td>-99.200</td>\n",
       "    </tr>\n",
       "    <tr>\n",
       "      <th>2211</th>\n",
       "      <td>1547</td>\n",
       "      <td>19.623</td>\n",
       "      <td>-99.197</td>\n",
       "    </tr>\n",
       "    <tr>\n",
       "      <th>2508</th>\n",
       "      <td>3272</td>\n",
       "      <td>20.191</td>\n",
       "      <td>-99.272</td>\n",
       "    </tr>\n",
       "    <tr>\n",
       "      <th>1391</th>\n",
       "      <td>4273</td>\n",
       "      <td>19.387</td>\n",
       "      <td>-99.250</td>\n",
       "    </tr>\n",
       "    <tr>\n",
       "      <th>3694</th>\n",
       "      <td>3823</td>\n",
       "      <td>25.422</td>\n",
       "      <td>-101.001</td>\n",
       "    </tr>\n",
       "    <tr>\n",
       "      <th>803</th>\n",
       "      <td>3888</td>\n",
       "      <td>19.235</td>\n",
       "      <td>-99.548</td>\n",
       "    </tr>\n",
       "    <tr>\n",
       "      <th>2494</th>\n",
       "      <td>1362</td>\n",
       "      <td>20.127</td>\n",
       "      <td>-98.735</td>\n",
       "    </tr>\n",
       "    <tr>\n",
       "      <th>1152</th>\n",
       "      <td>977</td>\n",
       "      <td>19.345</td>\n",
       "      <td>-99.153</td>\n",
       "    </tr>\n",
       "    <tr>\n",
       "      <th>4132</th>\n",
       "      <td>4352</td>\n",
       "      <td>27.479</td>\n",
       "      <td>-109.930</td>\n",
       "    </tr>\n",
       "    <tr>\n",
       "      <th>1335</th>\n",
       "      <td>1700</td>\n",
       "      <td>19.378</td>\n",
       "      <td>-99.258</td>\n",
       "    </tr>\n",
       "    <tr>\n",
       "      <th>1959</th>\n",
       "      <td>4007</td>\n",
       "      <td>19.491</td>\n",
       "      <td>-99.335</td>\n",
       "    </tr>\n",
       "    <tr>\n",
       "      <th>4168</th>\n",
       "      <td>4289</td>\n",
       "      <td>27.899</td>\n",
       "      <td>-110.916</td>\n",
       "    </tr>\n",
       "    <tr>\n",
       "      <th>3750</th>\n",
       "      <td>3932</td>\n",
       "      <td>25.555</td>\n",
       "      <td>-103.377</td>\n",
       "    </tr>\n",
       "    <tr>\n",
       "      <th>1390</th>\n",
       "      <td>4413</td>\n",
       "      <td>19.387</td>\n",
       "      <td>-99.251</td>\n",
       "    </tr>\n",
       "    <tr>\n",
       "      <th>3915</th>\n",
       "      <td>3900</td>\n",
       "      <td>25.700</td>\n",
       "      <td>-100.176</td>\n",
       "    </tr>\n",
       "    <tr>\n",
       "      <th>2651</th>\n",
       "      <td>192</td>\n",
       "      <td>20.563</td>\n",
       "      <td>-100.389</td>\n",
       "    </tr>\n",
       "    <tr>\n",
       "      <th>389</th>\n",
       "      <td>587</td>\n",
       "      <td>18.639</td>\n",
       "      <td>-99.164</td>\n",
       "    </tr>\n",
       "    <tr>\n",
       "      <th>4399</th>\n",
       "      <td>4105</td>\n",
       "      <td>32.507</td>\n",
       "      <td>-116.955</td>\n",
       "    </tr>\n",
       "    <tr>\n",
       "      <th>147</th>\n",
       "      <td>3038</td>\n",
       "      <td>16.963</td>\n",
       "      <td>-96.470</td>\n",
       "    </tr>\n",
       "    <tr>\n",
       "      <th>1919</th>\n",
       "      <td>340</td>\n",
       "      <td>19.477</td>\n",
       "      <td>-99.102</td>\n",
       "    </tr>\n",
       "    <tr>\n",
       "      <th>2661</th>\n",
       "      <td>1235</td>\n",
       "      <td>20.579</td>\n",
       "      <td>-103.361</td>\n",
       "    </tr>\n",
       "    <tr>\n",
       "      <th>2239</th>\n",
       "      <td>3450</td>\n",
       "      <td>19.645</td>\n",
       "      <td>-101.236</td>\n",
       "    </tr>\n",
       "    <tr>\n",
       "      <th>4141</th>\n",
       "      <td>4155</td>\n",
       "      <td>27.490</td>\n",
       "      <td>-109.928</td>\n",
       "    </tr>\n",
       "    <tr>\n",
       "      <th>184</th>\n",
       "      <td>3110</td>\n",
       "      <td>17.467</td>\n",
       "      <td>-97.215</td>\n",
       "    </tr>\n",
       "    <tr>\n",
       "      <th>4296</th>\n",
       "      <td>4173</td>\n",
       "      <td>31.581</td>\n",
       "      <td>-106.370</td>\n",
       "    </tr>\n",
       "    <tr>\n",
       "      <th>2034</th>\n",
       "      <td>2884</td>\n",
       "      <td>19.517</td>\n",
       "      <td>-99.162</td>\n",
       "    </tr>\n",
       "    <tr>\n",
       "      <th>1641</th>\n",
       "      <td>1478</td>\n",
       "      <td>19.425</td>\n",
       "      <td>-99.193</td>\n",
       "    </tr>\n",
       "    <tr>\n",
       "      <th>2846</th>\n",
       "      <td>144</td>\n",
       "      <td>20.683</td>\n",
       "      <td>-101.355</td>\n",
       "    </tr>\n",
       "    <tr>\n",
       "      <th>4198</th>\n",
       "      <td>3886</td>\n",
       "      <td>28.396</td>\n",
       "      <td>-106.895</td>\n",
       "    </tr>\n",
       "    <tr>\n",
       "      <th>4248</th>\n",
       "      <td>4096</td>\n",
       "      <td>28.724</td>\n",
       "      <td>-106.110</td>\n",
       "    </tr>\n",
       "    <tr>\n",
       "      <th>3928</th>\n",
       "      <td>3673</td>\n",
       "      <td>25.714</td>\n",
       "      <td>-100.258</td>\n",
       "    </tr>\n",
       "  </tbody>\n",
       "</table>\n",
       "</div>"
      ],
      "text/plain": [
       "        ID  LATITUDE  LONGITUDE\n",
       "2291  2722    19.686    -99.049\n",
       "1998  2445    19.504    -99.081\n",
       "3852  4455    25.663   -100.359\n",
       "1660  3269    19.427    -99.220\n",
       "71    2068    16.746    -93.120\n",
       "2881  1843    20.697   -103.358\n",
       "3430  3577    22.283    -97.828\n",
       "2214  1100    19.627    -99.417\n",
       "2707  1826    20.622   -100.188\n",
       "2921  1814    20.716   -103.392\n",
       "4219  4164    28.628   -106.080\n",
       "4038  3748    25.882    -97.505\n",
       "3089  2403    21.009    -89.695\n",
       "896   2763    19.278    -98.949\n",
       "3866  3960    25.671   -100.348\n",
       "787   2246    19.214    -99.210\n",
       "3867  3947    25.672   -100.376\n",
       "1610  1580    19.421    -99.262\n",
       "271   2869    17.998    -92.942\n",
       "316   1185    18.135    -94.502\n",
       "3781  3815    25.609   -100.269\n",
       "500   4127    18.912    -99.493\n",
       "1308   377    19.372    -99.172\n",
       "2469  1182    20.084    -98.771\n",
       "1015  4059    19.306    -99.556\n",
       "667    220    19.069    -98.205\n",
       "392   4052    18.647    -98.605\n",
       "3640  3480    24.796   -107.384\n",
       "1755   181    19.436    -99.201\n",
       "1964  2388    19.492    -99.058\n",
       "2344   152    19.796    -99.872\n",
       "3485  2784    22.908   -109.956\n",
       "285   1984    18.018   -102.213\n",
       "3033  2537    20.960    -89.604\n",
       "1985  2805    19.499    -99.171\n",
       "3731  4161    25.523   -103.454\n",
       "3993  3819    25.780   -108.983\n",
       "3149  2157    21.078   -101.188\n",
       "3625  3586    24.746   -107.455\n",
       "1183   375    19.351    -99.145\n",
       "3582  2844    24.022   -104.670\n",
       "3302  1158    21.470   -104.854\n",
       "2418  2414    19.950   -103.723\n",
       "2245  3680    19.649    -99.247\n",
       "3278   264    21.236   -102.338\n",
       "187     28    17.519    -99.486\n",
       "4149  4362    27.519   -109.927\n",
       "1995  1062    19.503    -99.031\n",
       "3981  3692    25.769   -100.274\n",
       "908   4027    19.282   -103.582\n",
       "4246  4348    28.707   -100.531\n",
       "3856  4428    25.665   -100.380\n",
       "3842  3773    25.657   -100.217\n",
       "3789  4376    25.626   -100.369\n",
       "1062  1664    19.318    -99.221\n",
       "3175   716    21.111   -101.654\n",
       "492   1421    18.905    -96.995\n",
       "4074  4285    26.504   -100.009\n",
       "2759  2083    20.650   -103.418\n",
       "3436  2989    22.331    -97.870\n",
       "1863   960    19.459    -99.187\n",
       "4309  3806    31.660   -106.406\n",
       "1899  2443    19.470    -99.109\n",
       "1484   712    19.402    -99.113\n",
       "1432  4206    19.394    -99.239\n",
       "2299   795    19.695    -99.204\n",
       "4066  4167    26.065    -98.338\n",
       "421    918    18.808    -99.666\n",
       "1898    36    19.469    -96.781\n",
       "2237  2385    19.643    -99.200\n",
       "2211  1547    19.623    -99.197\n",
       "2508  3272    20.191    -99.272\n",
       "1391  4273    19.387    -99.250\n",
       "3694  3823    25.422   -101.001\n",
       "803   3888    19.235    -99.548\n",
       "2494  1362    20.127    -98.735\n",
       "1152   977    19.345    -99.153\n",
       "4132  4352    27.479   -109.930\n",
       "1335  1700    19.378    -99.258\n",
       "1959  4007    19.491    -99.335\n",
       "4168  4289    27.899   -110.916\n",
       "3750  3932    25.555   -103.377\n",
       "1390  4413    19.387    -99.251\n",
       "3915  3900    25.700   -100.176\n",
       "2651   192    20.563   -100.389\n",
       "389    587    18.639    -99.164\n",
       "4399  4105    32.507   -116.955\n",
       "147   3038    16.963    -96.470\n",
       "1919   340    19.477    -99.102\n",
       "2661  1235    20.579   -103.361\n",
       "2239  3450    19.645   -101.236\n",
       "4141  4155    27.490   -109.928\n",
       "184   3110    17.467    -97.215\n",
       "4296  4173    31.581   -106.370\n",
       "2034  2884    19.517    -99.162\n",
       "1641  1478    19.425    -99.193\n",
       "2846   144    20.683   -101.355\n",
       "4198  3886    28.396   -106.895\n",
       "4248  4096    28.724   -106.110\n",
       "3928  3673    25.714   -100.258"
      ]
     },
     "execution_count": 43,
     "metadata": {},
     "output_type": "execute_result"
    }
   ],
   "source": [
    "antenas = pd.read_csv(gzip.open(\"surrogated_antennas.txt.gz\"),sep=\" \")\n",
    "#paso lat y long a su forma decimal\n",
    "antenas['LATITUDE']=antenas['LATITUDE']*1.0/1000\n",
    "antenas['LONGITUDE']=antenas['LONGITUDE']*1.0/1000\n",
    "\n",
    "#chequeo resultados rapido\n",
    "antenas.loc[np.random.permutation(antenas.index)[:100]]"
   ]
  },
  {
   "cell_type": "code",
   "execution_count": 34,
   "metadata": {
    "collapsed": false
   },
   "outputs": [
    {
     "data": {
      "text/html": [
       "<div>\n",
       "<table border=\"1\" class=\"dataframe\">\n",
       "  <thead>\n",
       "    <tr style=\"text-align: right;\">\n",
       "      <th></th>\n",
       "      <th>ID</th>\n",
       "      <th>LATITUDE</th>\n",
       "      <th>LONGITUDE</th>\n",
       "    </tr>\n",
       "  </thead>\n",
       "  <tbody>\n",
       "  </tbody>\n",
       "</table>\n",
       "</div>"
      ],
      "text/plain": [
       "Empty DataFrame\n",
       "Columns: [ID, LATITUDE, LONGITUDE]\n",
       "Index: []"
      ]
     },
     "execution_count": 34,
     "metadata": {},
     "output_type": "execute_result"
    }
   ],
   "source": [
    "#chequeo si hay info faltante\n",
    "antenas[pd.isnull(antenas).any(axis=1)]"
   ]
  },
  {
   "cell_type": "code",
   "execution_count": 34,
   "metadata": {
    "collapsed": false
   },
   "outputs": [
    {
     "data": {
      "text/plain": [
       "<matplotlib.axes._subplots.AxesSubplot at 0x7f08fde8c410>"
      ]
     },
     "execution_count": 34,
     "metadata": {},
     "output_type": "execute_result"
    },
    {
     "data": {
      "image/png": "[encoded data removed]",
      "text/plain": [
       "<matplotlib.figure.Figure at 0x7f08fdec1fd0>"
      ]
     },
     "metadata": {},
     "output_type": "display_data"
    }
   ],
   "source": [
    "mapa.plot()"
   ]
  },
  {
   "cell_type": "markdown",
   "metadata": {},
   "source": [
    "# Muy importante!\n",
    " \n",
    "Las coordenadas en un mapa se dan en (lat, long) que no corresponden a las coordenadas cartesianas sino a (y,x) con lo cual es importante armar los **Point** con (long,lat), sino imposible comprarar quien esta dentro de que.."
   ]
  },
  {
   "cell_type": "code",
   "execution_count": 44,
   "metadata": {
    "collapsed": false
   },
   "outputs": [],
   "source": [
    "subset =  antenas[['LONGITUDE','LATITUDE']]\n",
    "tuples = [shapely.geometry.Point(x) for x in subset.values] \n",
    "global antenas_gpd \n",
    "antenas_gpd =  gpd.GeoSeries(tuples)"
   ]
  },
  {
   "cell_type": "code",
   "execution_count": 36,
   "metadata": {
    "collapsed": false
   },
   "outputs": [
    {
     "data": {
      "text/plain": [
       "True"
      ]
     },
     "execution_count": 36,
     "metadata": {},
     "output_type": "execute_result"
    }
   ],
   "source": [
    "multipoligono = mapa['geometry'].ix[6]\n",
    "multipoligono.contains(antenas_gpd.ix[2])"
   ]
  },
  {
   "cell_type": "code",
   "execution_count": 15,
   "metadata": {
    "collapsed": false
   },
   "outputs": [],
   "source": [
    "def preparar_nombre(s):\n",
    "        #esta linea elimina las tildes espacios puntos y similar\"\n",
    "        sin_tilde = ''.join((c for c in unicodedata.normalize('NFD', s) if unicodedata.category(c) != 'Mn'))\n",
    "        limpio = sin_tilde.replace(\" \",\"_\").replace(\".\",\"\")\n",
    "        #me quedo con el nombre corto de Veracruz\n",
    "        if limpio == u'Veracruz_de_Ignacio_de_la_Llave':\n",
    "            limpio = u'Veracruz'\n",
    "        return limpio"
   ]
  },
  {
   "cell_type": "code",
   "execution_count": 37,
   "metadata": {
    "collapsed": false,
    "scrolled": true
   },
   "outputs": [],
   "source": [
    "mapa['NOMBRE'] = mapa['NOMBRE'].apply(lambda s: preparar_nombre(s))"
   ]
  },
  {
   "cell_type": "code",
   "execution_count": 17,
   "metadata": {
    "collapsed": false
   },
   "outputs": [],
   "source": [
    "def get_state_name(ant,lista_de_geometrias,lista_de_nombres):\n",
    "        sol =\"Error\";\n",
    "        for i in range(len(lista_de_geometrias)):\n",
    "            if lista_de_geometrias.ix[i].contains(ant):\n",
    "                sol = lista_de_nombres[i]\n",
    "                break\n",
    "        return sol"
   ]
  },
  {
   "cell_type": "code",
   "execution_count": 38,
   "metadata": {
    "collapsed": false
   },
   "outputs": [
    {
     "data": {
      "text/plain": [
       "4464"
      ]
     },
     "execution_count": 38,
     "metadata": {},
     "output_type": "execute_result"
    }
   ],
   "source": [
    "len(antenas_gpd)"
   ]
  },
  {
   "cell_type": "code",
   "execution_count": 53,
   "metadata": {
    "collapsed": false
   },
   "outputs": [
    {
     "name": "stdout",
     "output_type": "stream",
     "text": [
      "1 loops, best of 3: 1.51 s per loop\n"
     ]
    }
   ],
   "source": [
    "%timeit antenas_gpd.ix[1:100].apply(lambda ant: get_state_name(ant, mapa['geometry'],mapa.NOMBRE.values))\n"
   ]
  },
  {
   "cell_type": "code",
   "execution_count": 45,
   "metadata": {
    "collapsed": true
   },
   "outputs": [],
   "source": [
    "antenas['STATE'] = antenas_gpd.apply(lambda ant: get_state_name(ant, mapa['geometry'],mapa.NOMBRE.values))"
   ]
  },
  {
   "cell_type": "code",
   "execution_count": 40,
   "metadata": {
    "collapsed": false,
    "scrolled": true
   },
   "outputs": [
    {
     "data": {
      "text/html": [
       "<div>\n",
       "<table border=\"1\" class=\"dataframe\">\n",
       "  <thead>\n",
       "    <tr style=\"text-align: right;\">\n",
       "      <th></th>\n",
       "      <th>ID</th>\n",
       "      <th>LATITUDE</th>\n",
       "      <th>LONGITUDE</th>\n",
       "      <th>STATE</th>\n",
       "    </tr>\n",
       "  </thead>\n",
       "  <tbody>\n",
       "    <tr>\n",
       "      <th>3267</th>\n",
       "      <td>2614</td>\n",
       "      <td>21.183</td>\n",
       "      <td>-86.807</td>\n",
       "      <td>Error</td>\n",
       "    </tr>\n",
       "    <tr>\n",
       "      <th>3500</th>\n",
       "      <td>4293</td>\n",
       "      <td>23.005</td>\n",
       "      <td>-109.714</td>\n",
       "      <td>Error</td>\n",
       "    </tr>\n",
       "    <tr>\n",
       "      <th>3537</th>\n",
       "      <td>1974</td>\n",
       "      <td>23.258</td>\n",
       "      <td>-106.463</td>\n",
       "      <td>Error</td>\n",
       "    </tr>\n",
       "  </tbody>\n",
       "</table>\n",
       "</div>"
      ],
      "text/plain": [
       "        ID  LATITUDE  LONGITUDE  STATE\n",
       "3267  2614    21.183    -86.807  Error\n",
       "3500  4293    23.005   -109.714  Error\n",
       "3537  1974    23.258   -106.463  Error"
      ]
     },
     "execution_count": 40,
     "metadata": {},
     "output_type": "execute_result"
    }
   ],
   "source": [
    "#miro aquellas que no pude hacerlo sistematicamente y veo si las elimino o las \"corro\"\n",
    "antenas[antenas['STATE']==\"Error\"]"
   ]
  },
  {
   "cell_type": "code",
   "execution_count": 27,
   "metadata": {
    "collapsed": false,
    "scrolled": true
   },
   "outputs": [
    {
     "data": {
      "text/plain": [
       "{u'Aguascalientes',\n",
       " u'Baja_California',\n",
       " u'Baja_California_Sur',\n",
       " u'Campeche',\n",
       " u'Chiapas',\n",
       " u'Chihuahua',\n",
       " u'Coahuila_de_Zaragoza',\n",
       " u'Colima',\n",
       " u'Distrito_Federal',\n",
       " u'Durango',\n",
       " 'Error',\n",
       " u'Guanajuato',\n",
       " u'Guerrero',\n",
       " u'Hidalgo',\n",
       " u'Jalisco',\n",
       " u'Mexico',\n",
       " u'Michoacan_de_Ocampo',\n",
       " u'Morelos',\n",
       " u'Nayarit',\n",
       " u'Nuevo_Leon',\n",
       " u'Oaxaca',\n",
       " u'Puebla',\n",
       " u'Queretaro',\n",
       " u'Quintana_Roo',\n",
       " u'San_Luis_Potosi',\n",
       " u'Sinaloa',\n",
       " u'Sonora',\n",
       " u'Tabasco',\n",
       " u'Tamaulipas',\n",
       " u'Tlaxcala',\n",
       " u'Veracruz',\n",
       " u'Yucatan',\n",
       " u'Zacatecas'}"
      ]
     },
     "execution_count": 27,
     "metadata": {},
     "output_type": "execute_result"
    }
   ],
   "source": [
    "set(antenas.STATE.values.tolist())"
   ]
  },
  {
   "cell_type": "code",
   "execution_count": 52,
   "metadata": {
    "collapsed": false
   },
   "outputs": [
    {
     "data": {
      "text/html": [
       "<div>\n",
       "<table border=\"1\" class=\"dataframe\">\n",
       "  <thead>\n",
       "    <tr style=\"text-align: right;\">\n",
       "      <th></th>\n",
       "      <th>ID</th>\n",
       "      <th>LATITUDE</th>\n",
       "      <th>LONGITUDE</th>\n",
       "      <th>STATE</th>\n",
       "    </tr>\n",
       "  </thead>\n",
       "  <tbody>\n",
       "  </tbody>\n",
       "</table>\n",
       "</div>"
      ],
      "text/plain": [
       "Empty DataFrame\n",
       "Columns: [ID, LATITUDE, LONGITUDE, STATE]\n",
       "Index: []"
      ]
     },
     "execution_count": 52,
     "metadata": {},
     "output_type": "execute_result"
    }
   ],
   "source": [
    "#chequeo nuevamente\n",
    "antenas[antenas['STATE']==\"Error\"]"
   ]
  },
  {
   "cell_type": "code",
   "execution_count": 53,
   "metadata": {
    "collapsed": true
   },
   "outputs": [],
   "source": [
    "antenas.at[antenas['STATE']==u'Veracruz_de_Ignacio_de_la_Llave','STATE']=u'Veracruz'"
   ]
  },
  {
   "cell_type": "code",
   "execution_count": 54,
   "metadata": {
    "collapsed": false
   },
   "outputs": [],
   "source": [
    "#asigno a mano aquellas que me habin quedado un toque afuera\n",
    "antenas.at[3267,'LONGITUDE']=-86.857\n",
    "antenas.at[3267,'STATE']=u'Quintana_Roo'\n",
    "antenas.at[3500,'LATITUDE']=23.055\n",
    "antenas.at[3500,'STATE']=u'Baja_California_Sur'\n",
    "antenas.at[3537,'LONGITUDE']=-106.403\n",
    "antenas.at[3537,'STATE']=u'Sinaloa'"
   ]
  },
  {
   "cell_type": "markdown",
   "metadata": {},
   "source": [
    "## Ahora vemos cuales son del Gran Chaco\n",
    "\n",
    "recordar que estas son las que estan en los estados de Jalisco, Oaxaca, Veracruz, Guerrero,Morelos, Yucatan, Queretaro, Chiapas, Puebla, Nayarit, Hidalgo y Tabasco."
   ]
  },
  {
   "cell_type": "code",
   "execution_count": 55,
   "metadata": {
    "collapsed": false
   },
   "outputs": [],
   "source": [
    "def get_epidemic_state(estado):\n",
    "    sol=0\n",
    "    epidemicos =  [u'Jalisco', u'Oaxaca', u'Puebla', u'Queretaro',u'Veracruz', u'Guerrero',u'Morelos', \\\n",
    "                     u'Nayarit',u'Yucatan',u'Chiapas',u'Tabasco',u'Hidalgo']\n",
    "    if estado in epidemicos:\n",
    "        sol =1\n",
    "    return sol    "
   ]
  },
  {
   "cell_type": "code",
   "execution_count": 56,
   "metadata": {
    "collapsed": true
   },
   "outputs": [],
   "source": [
    "antenas['EPIDEMIC']=antenas['STATE'].apply(lambda k: get_epidemic_state(k))"
   ]
  },
  {
   "cell_type": "code",
   "execution_count": 57,
   "metadata": {
    "collapsed": false,
    "scrolled": true
   },
   "outputs": [
    {
     "data": {
      "text/html": [
       "<div>\n",
       "<table border=\"1\" class=\"dataframe\">\n",
       "  <thead>\n",
       "    <tr style=\"text-align: right;\">\n",
       "      <th></th>\n",
       "      <th>ID</th>\n",
       "      <th>LATITUDE</th>\n",
       "      <th>LONGITUDE</th>\n",
       "      <th>STATE</th>\n",
       "      <th>EPIDEMIC</th>\n",
       "    </tr>\n",
       "  </thead>\n",
       "  <tbody>\n",
       "    <tr>\n",
       "      <th>280</th>\n",
       "      <td>2458</td>\n",
       "      <td>18.011</td>\n",
       "      <td>-92.947</td>\n",
       "      <td>Tabasco</td>\n",
       "      <td>1</td>\n",
       "    </tr>\n",
       "    <tr>\n",
       "      <th>630</th>\n",
       "      <td>147</td>\n",
       "      <td>19.046</td>\n",
       "      <td>-100.064</td>\n",
       "      <td>Mexico</td>\n",
       "      <td>0</td>\n",
       "    </tr>\n",
       "    <tr>\n",
       "      <th>958</th>\n",
       "      <td>1739</td>\n",
       "      <td>19.294</td>\n",
       "      <td>-99.669</td>\n",
       "      <td>Mexico</td>\n",
       "      <td>0</td>\n",
       "    </tr>\n",
       "    <tr>\n",
       "      <th>1398</th>\n",
       "      <td>1489</td>\n",
       "      <td>19.388</td>\n",
       "      <td>-99.240</td>\n",
       "      <td>Distrito_Federal</td>\n",
       "      <td>0</td>\n",
       "    </tr>\n",
       "    <tr>\n",
       "      <th>1912</th>\n",
       "      <td>4425</td>\n",
       "      <td>19.475</td>\n",
       "      <td>-99.225</td>\n",
       "      <td>Mexico</td>\n",
       "      <td>0</td>\n",
       "    </tr>\n",
       "    <tr>\n",
       "      <th>1154</th>\n",
       "      <td>872</td>\n",
       "      <td>19.346</td>\n",
       "      <td>-99.590</td>\n",
       "      <td>Mexico</td>\n",
       "      <td>0</td>\n",
       "    </tr>\n",
       "    <tr>\n",
       "      <th>3955</th>\n",
       "      <td>4073</td>\n",
       "      <td>25.740</td>\n",
       "      <td>-100.404</td>\n",
       "      <td>Nuevo_Leon</td>\n",
       "      <td>0</td>\n",
       "    </tr>\n",
       "    <tr>\n",
       "      <th>2117</th>\n",
       "      <td>1717</td>\n",
       "      <td>19.550</td>\n",
       "      <td>-99.030</td>\n",
       "      <td>Mexico</td>\n",
       "      <td>0</td>\n",
       "    </tr>\n",
       "    <tr>\n",
       "      <th>2995</th>\n",
       "      <td>3021</td>\n",
       "      <td>20.904</td>\n",
       "      <td>-100.416</td>\n",
       "      <td>Guanajuato</td>\n",
       "      <td>0</td>\n",
       "    </tr>\n",
       "    <tr>\n",
       "      <th>622</th>\n",
       "      <td>1681</td>\n",
       "      <td>19.043</td>\n",
       "      <td>-98.055</td>\n",
       "      <td>Puebla</td>\n",
       "      <td>1</td>\n",
       "    </tr>\n",
       "    <tr>\n",
       "      <th>695</th>\n",
       "      <td>884</td>\n",
       "      <td>19.102</td>\n",
       "      <td>-104.308</td>\n",
       "      <td>Colima</td>\n",
       "      <td>0</td>\n",
       "    </tr>\n",
       "    <tr>\n",
       "      <th>2853</th>\n",
       "      <td>1041</td>\n",
       "      <td>20.685</td>\n",
       "      <td>-103.414</td>\n",
       "      <td>Jalisco</td>\n",
       "      <td>1</td>\n",
       "    </tr>\n",
       "    <tr>\n",
       "      <th>3436</th>\n",
       "      <td>2989</td>\n",
       "      <td>22.331</td>\n",
       "      <td>-97.870</td>\n",
       "      <td>Tamaulipas</td>\n",
       "      <td>0</td>\n",
       "    </tr>\n",
       "    <tr>\n",
       "      <th>185</th>\n",
       "      <td>1699</td>\n",
       "      <td>17.469</td>\n",
       "      <td>-91.426</td>\n",
       "      <td>Tabasco</td>\n",
       "      <td>1</td>\n",
       "    </tr>\n",
       "    <tr>\n",
       "      <th>1919</th>\n",
       "      <td>340</td>\n",
       "      <td>19.477</td>\n",
       "      <td>-99.102</td>\n",
       "      <td>Distrito_Federal</td>\n",
       "      <td>0</td>\n",
       "    </tr>\n",
       "    <tr>\n",
       "      <th>882</th>\n",
       "      <td>272</td>\n",
       "      <td>19.273</td>\n",
       "      <td>-99.588</td>\n",
       "      <td>Mexico</td>\n",
       "      <td>0</td>\n",
       "    </tr>\n",
       "    <tr>\n",
       "      <th>1563</th>\n",
       "      <td>906</td>\n",
       "      <td>19.414</td>\n",
       "      <td>-99.299</td>\n",
       "      <td>Mexico</td>\n",
       "      <td>0</td>\n",
       "    </tr>\n",
       "    <tr>\n",
       "      <th>504</th>\n",
       "      <td>2071</td>\n",
       "      <td>18.917</td>\n",
       "      <td>-99.237</td>\n",
       "      <td>Morelos</td>\n",
       "      <td>1</td>\n",
       "    </tr>\n",
       "    <tr>\n",
       "      <th>3722</th>\n",
       "      <td>4432</td>\n",
       "      <td>25.482</td>\n",
       "      <td>-108.517</td>\n",
       "      <td>Sinaloa</td>\n",
       "      <td>0</td>\n",
       "    </tr>\n",
       "    <tr>\n",
       "      <th>207</th>\n",
       "      <td>3200</td>\n",
       "      <td>17.661</td>\n",
       "      <td>-101.591</td>\n",
       "      <td>Guerrero</td>\n",
       "      <td>1</td>\n",
       "    </tr>\n",
       "    <tr>\n",
       "      <th>939</th>\n",
       "      <td>1722</td>\n",
       "      <td>19.289</td>\n",
       "      <td>-99.006</td>\n",
       "      <td>Distrito_Federal</td>\n",
       "      <td>0</td>\n",
       "    </tr>\n",
       "    <tr>\n",
       "      <th>585</th>\n",
       "      <td>1236</td>\n",
       "      <td>19.010</td>\n",
       "      <td>-98.217</td>\n",
       "      <td>Puebla</td>\n",
       "      <td>1</td>\n",
       "    </tr>\n",
       "    <tr>\n",
       "      <th>217</th>\n",
       "      <td>3346</td>\n",
       "      <td>17.806</td>\n",
       "      <td>-99.634</td>\n",
       "      <td>Guerrero</td>\n",
       "      <td>1</td>\n",
       "    </tr>\n",
       "    <tr>\n",
       "      <th>1155</th>\n",
       "      <td>705</td>\n",
       "      <td>19.346</td>\n",
       "      <td>-99.236</td>\n",
       "      <td>Distrito_Federal</td>\n",
       "      <td>0</td>\n",
       "    </tr>\n",
       "    <tr>\n",
       "      <th>1958</th>\n",
       "      <td>3122</td>\n",
       "      <td>19.490</td>\n",
       "      <td>-98.864</td>\n",
       "      <td>Mexico</td>\n",
       "      <td>0</td>\n",
       "    </tr>\n",
       "    <tr>\n",
       "      <th>3532</th>\n",
       "      <td>3883</td>\n",
       "      <td>23.239</td>\n",
       "      <td>-106.439</td>\n",
       "      <td>Sinaloa</td>\n",
       "      <td>0</td>\n",
       "    </tr>\n",
       "    <tr>\n",
       "      <th>2309</th>\n",
       "      <td>651</td>\n",
       "      <td>19.708</td>\n",
       "      <td>-99.208</td>\n",
       "      <td>Mexico</td>\n",
       "      <td>0</td>\n",
       "    </tr>\n",
       "    <tr>\n",
       "      <th>2443</th>\n",
       "      <td>527</td>\n",
       "      <td>20.050</td>\n",
       "      <td>-98.740</td>\n",
       "      <td>Hidalgo</td>\n",
       "      <td>1</td>\n",
       "    </tr>\n",
       "    <tr>\n",
       "      <th>3470</th>\n",
       "      <td>1954</td>\n",
       "      <td>22.785</td>\n",
       "      <td>-102.570</td>\n",
       "      <td>Zacatecas</td>\n",
       "      <td>0</td>\n",
       "    </tr>\n",
       "    <tr>\n",
       "      <th>2998</th>\n",
       "      <td>3028</td>\n",
       "      <td>20.909</td>\n",
       "      <td>-89.467</td>\n",
       "      <td>Yucatan</td>\n",
       "      <td>1</td>\n",
       "    </tr>\n",
       "  </tbody>\n",
       "</table>\n",
       "</div>"
      ],
      "text/plain": [
       "        ID  LATITUDE  LONGITUDE             STATE  EPIDEMIC\n",
       "280   2458    18.011    -92.947           Tabasco         1\n",
       "630    147    19.046   -100.064            Mexico         0\n",
       "958   1739    19.294    -99.669            Mexico         0\n",
       "1398  1489    19.388    -99.240  Distrito_Federal         0\n",
       "1912  4425    19.475    -99.225            Mexico         0\n",
       "1154   872    19.346    -99.590            Mexico         0\n",
       "3955  4073    25.740   -100.404        Nuevo_Leon         0\n",
       "2117  1717    19.550    -99.030            Mexico         0\n",
       "2995  3021    20.904   -100.416        Guanajuato         0\n",
       "622   1681    19.043    -98.055            Puebla         1\n",
       "695    884    19.102   -104.308            Colima         0\n",
       "2853  1041    20.685   -103.414           Jalisco         1\n",
       "3436  2989    22.331    -97.870        Tamaulipas         0\n",
       "185   1699    17.469    -91.426           Tabasco         1\n",
       "1919   340    19.477    -99.102  Distrito_Federal         0\n",
       "882    272    19.273    -99.588            Mexico         0\n",
       "1563   906    19.414    -99.299            Mexico         0\n",
       "504   2071    18.917    -99.237           Morelos         1\n",
       "3722  4432    25.482   -108.517           Sinaloa         0\n",
       "207   3200    17.661   -101.591          Guerrero         1\n",
       "939   1722    19.289    -99.006  Distrito_Federal         0\n",
       "585   1236    19.010    -98.217            Puebla         1\n",
       "217   3346    17.806    -99.634          Guerrero         1\n",
       "1155   705    19.346    -99.236  Distrito_Federal         0\n",
       "1958  3122    19.490    -98.864            Mexico         0\n",
       "3532  3883    23.239   -106.439           Sinaloa         0\n",
       "2309   651    19.708    -99.208            Mexico         0\n",
       "2443   527    20.050    -98.740           Hidalgo         1\n",
       "3470  1954    22.785   -102.570         Zacatecas         0\n",
       "2998  3028    20.909    -89.467           Yucatan         1"
      ]
     },
     "execution_count": 57,
     "metadata": {},
     "output_type": "execute_result"
    }
   ],
   "source": [
    "antenas.loc[np.random.permutation(antenas.index)[:30]]"
   ]
  },
  {
   "cell_type": "code",
   "execution_count": 60,
   "metadata": {
    "collapsed": false
   },
   "outputs": [
    {
     "data": {
      "text/plain": [
       "1386"
      ]
     },
     "execution_count": 60,
     "metadata": {},
     "output_type": "execute_result"
    }
   ],
   "source": [
    "antenas.EPIDEMIC.sum()"
   ]
  },
  {
   "cell_type": "code",
   "execution_count": 64,
   "metadata": {
    "collapsed": false
   },
   "outputs": [
    {
     "data": {
      "text/plain": [
       "(4464, 1386, 0.31048387096774194)"
      ]
     },
     "execution_count": 64,
     "metadata": {},
     "output_type": "execute_result"
    }
   ],
   "source": [
    "len(antenas),antenas.EPIDEMIC.sum(),antenas.EPIDEMIC.sum()*1.0/len(antenas)"
   ]
  },
  {
   "cell_type": "code",
   "execution_count": 25,
   "metadata": {
    "collapsed": false
   },
   "outputs": [
    {
     "data": {
      "text/plain": [
       "<matplotlib.axes._subplots.AxesSubplot at 0x7feff8a5d690>"
      ]
     },
     "execution_count": 25,
     "metadata": {},
     "output_type": "execute_result"
    },
    {
     "data": {
      "image/png": "[encoded data removed]",
      "text/plain": [
       "<matplotlib.figure.Figure at 0x7feff8edbb10>"
      ]
     },
     "metadata": {},
     "output_type": "display_data"
    }
   ],
   "source": [
    "fig = plt.figure(figsize=(5,5),dpi=300)"
   ]
  },
  {
   "cell_type": "code",
   "execution_count": 28,
   "metadata": {
    "collapsed": false
   },
   "outputs": [
    {
     "ename": "TypeError",
     "evalue": "plot_dataframe() got an unexpected keyword argument 'figsize'",
     "output_type": "error",
     "traceback": [
      "\u001b[1;31m---------------------------------------------------------------------------\u001b[0m",
      "\u001b[1;31mTypeError\u001b[0m                                 Traceback (most recent call last)",
      "\u001b[1;32m<ipython-input-28-2b8b62c7eb1b>\u001b[0m in \u001b[0;36m<module>\u001b[1;34m()\u001b[0m\n\u001b[1;32m----> 1\u001b[1;33m \u001b[0mmapa\u001b[0m\u001b[1;33m[\u001b[0m\u001b[1;33m[\u001b[0m\u001b[1;34m'geometry'\u001b[0m\u001b[1;33m,\u001b[0m\u001b[1;34m'NOMBRE'\u001b[0m\u001b[1;33m]\u001b[0m\u001b[1;33m]\u001b[0m\u001b[1;33m.\u001b[0m\u001b[0mplot\u001b[0m\u001b[1;33m(\u001b[0m\u001b[0mcolormap\u001b[0m\u001b[1;33m=\u001b[0m\u001b[1;34m'Accent'\u001b[0m\u001b[1;33m,\u001b[0m \u001b[0malpha\u001b[0m\u001b[1;33m=\u001b[0m\u001b[1;36m0.7\u001b[0m\u001b[1;33m,\u001b[0m\u001b[0mfigsize\u001b[0m\u001b[1;33m=\u001b[0m\u001b[1;33m(\u001b[0m\u001b[1;36m10\u001b[0m\u001b[1;33m,\u001b[0m\u001b[1;36m10\u001b[0m\u001b[1;33m)\u001b[0m\u001b[1;33m,\u001b[0m\u001b[0mdpi\u001b[0m\u001b[1;33m=\u001b[0m\u001b[1;36m300\u001b[0m\u001b[1;33m)\u001b[0m\u001b[1;33m\u001b[0m\u001b[0m\n\u001b[0m",
      "\u001b[1;32m/home/juan/anaconda2/lib/python2.7/site-packages/geopandas/geodataframe.pyc\u001b[0m in \u001b[0;36mplot\u001b[1;34m(self, *args, **kwargs)\u001b[0m\n\u001b[0;32m    379\u001b[0m \u001b[1;33m\u001b[0m\u001b[0m\n\u001b[0;32m    380\u001b[0m     \u001b[1;32mdef\u001b[0m \u001b[0mplot\u001b[0m\u001b[1;33m(\u001b[0m\u001b[0mself\u001b[0m\u001b[1;33m,\u001b[0m \u001b[1;33m*\u001b[0m\u001b[0margs\u001b[0m\u001b[1;33m,\u001b[0m \u001b[1;33m**\u001b[0m\u001b[0mkwargs\u001b[0m\u001b[1;33m)\u001b[0m\u001b[1;33m:\u001b[0m\u001b[1;33m\u001b[0m\u001b[0m\n\u001b[1;32m--> 381\u001b[1;33m         \u001b[1;32mreturn\u001b[0m \u001b[0mplot_dataframe\u001b[0m\u001b[1;33m(\u001b[0m\u001b[0mself\u001b[0m\u001b[1;33m,\u001b[0m \u001b[1;33m*\u001b[0m\u001b[0margs\u001b[0m\u001b[1;33m,\u001b[0m \u001b[1;33m**\u001b[0m\u001b[0mkwargs\u001b[0m\u001b[1;33m)\u001b[0m\u001b[1;33m\u001b[0m\u001b[0m\n\u001b[0m\u001b[0;32m    382\u001b[0m \u001b[1;33m\u001b[0m\u001b[0m\n\u001b[0;32m    383\u001b[0m \u001b[1;32mdef\u001b[0m \u001b[0m_dataframe_set_geometry\u001b[0m\u001b[1;33m(\u001b[0m\u001b[0mself\u001b[0m\u001b[1;33m,\u001b[0m \u001b[0mcol\u001b[0m\u001b[1;33m,\u001b[0m \u001b[0mdrop\u001b[0m\u001b[1;33m=\u001b[0m\u001b[0mFalse\u001b[0m\u001b[1;33m,\u001b[0m \u001b[0minplace\u001b[0m\u001b[1;33m=\u001b[0m\u001b[0mFalse\u001b[0m\u001b[1;33m,\u001b[0m \u001b[0mcrs\u001b[0m\u001b[1;33m=\u001b[0m\u001b[0mNone\u001b[0m\u001b[1;33m)\u001b[0m\u001b[1;33m:\u001b[0m\u001b[1;33m\u001b[0m\u001b[0m\n",
      "\u001b[1;31mTypeError\u001b[0m: plot_dataframe() got an unexpected keyword argument 'figsize'"
     ]
    }
   ],
   "source": [
    " mapa[['geometry','NOMBRE']].plot(colormap='Accent', alpha=0.7,figsize=(10,10),dpi=300)"
   ]
  },
  {
   "cell_type": "code",
   "execution_count": 69,
   "metadata": {
    "collapsed": false
   },
   "outputs": [],
   "source": [
    "antenas.to_csv(rootdir +\"/surrogated_antennas_complete.txt\",index=False,sep=\"|\")"
   ]
  },
  {
   "cell_type": "code",
   "execution_count": 82,
   "metadata": {
    "collapsed": true
   },
   "outputs": [],
   "source": [
    "epidemic_antennas = antenas[antenas['EPIDEMIC'] ==1]['ID']"
   ]
  },
  {
   "cell_type": "code",
   "execution_count": 84,
   "metadata": {
    "collapsed": false
   },
   "outputs": [
    {
     "data": {
      "text/plain": [
       "pandas.core.series.Series"
      ]
     },
     "execution_count": 84,
     "metadata": {},
     "output_type": "execute_result"
    }
   ],
   "source": [
    "type(epidemic_antennas)"
   ]
  },
  {
   "cell_type": "code",
   "execution_count": 85,
   "metadata": {
    "collapsed": true
   },
   "outputs": [],
   "source": [
    "epidemic_antennas.to_csv(rootdir +\"/surrogated_antennas_epidemic.txt\",index=False)"
   ]
  }
 ],
 "metadata": {
  "kernelspec": {
   "display_name": "Python 2",
   "language": "python",
   "name": "python2"
  },
  "language_info": {
   "codemirror_mode": {
    "name": "ipython",
    "version": 2
   },
   "file_extension": ".py",
   "mimetype": "text/x-python",
   "name": "python",
   "nbconvert_exporter": "python",
   "pygments_lexer": "ipython2",
   "version": "2.7.3"
  }
 },
 "nbformat": 4,
 "nbformat_minor": 0
}
