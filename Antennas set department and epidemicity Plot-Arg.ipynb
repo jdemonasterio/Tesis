{
 "cells": [
  {
   "cell_type": "markdown",
   "metadata": {},
   "source": [
    "# Arg Antenna exploration and processing\n",
    "La idea es\n",
    "\n",
    "* Catalogar antenas por sus provincias \n",
    "* Graficar el mapa de Arg con sus antennas\n",
    "* Graficar el mapa de GC\n",
    "* limpiar aquellas que caigan \"al agua\"\n",
    "* Catalogar las antenas como pertenecientes o no a regiones del *\"Gran Chaco\"* arg\n",
    "* dibujar la zona epidemica\n",
    "\n",
    "# Comparar con el file surrogado\n",
    "\n",
    "\n",
    "## definicion utilizada\n",
    "CEL_ID es el hash de la antenna, cel_description es el \"barrio de la antenna\" y lat, long as usual"
   ]
  },
  {
   "cell_type": "markdown",
   "metadata": {},
   "source": [
    "### input head"
   ]
  },
  {
   "cell_type": "code",
   "execution_count": 1,
   "metadata": {
    "collapsed": false
   },
   "outputs": [
    {
     "name": "stdout",
     "output_type": "stream",
     "text": [
      "CEL_ID,CEL_DESCRIPTION,LATITUD,LONGITUD\r\n",
      "CO534D,CHATEAU - VILLA AGUR,-31.3703,-64.2403\r\n",
      "CO534F,CHATEAU - VILLA AGUR,-31.3703,-64.2403\r\n",
      "CO534X,CHATEAU - VILLA AGUR,-31.3703,-64.2403\r\n",
      "CO535A,BARRIO EL ROSEDAL,-31.4353,-64.2248\r\n",
      "CO535B,BARRIO EL ROSEDAL,-31.4353,-64.2248\r\n",
      "CO535C,BARRIO EL ROSEDAL,-31.4353,-64.2248\r\n",
      "CO535D,BARRIO EL ROSEDAL,-31.4353,-64.2248\r\n",
      "CO535E,BARRIO EL ROSEDAL,-31.4353,-64.2248\r\n",
      "CO535X,BARRIO EL ROSEDAL,-31.4353,-64.2248\r\n"
     ]
    }
   ],
   "source": [
    "!head data/celdas.csv"
   ]
  },
  {
   "cell_type": "code",
   "execution_count": 2,
   "metadata": {
    "collapsed": true
   },
   "outputs": [],
   "source": [
    "import numpy as np; \n",
    "import pandas as pd; \n",
    "import unicodedata;\n",
    "import matplotlib;\n",
    "import os\n",
    "import random\n",
    "pd.set_option('display.max_rows', 500)\n",
    "%matplotlib inline\n",
    "import unicodedata\n",
    "import geopandas as gpd;\n",
    "from geopandas.geoseries import *\n",
    "import shapely\n"
   ]
  },
  {
   "cell_type": "code",
   "execution_count": 3,
   "metadata": {
    "collapsed": false,
    "scrolled": true
   },
   "outputs": [],
   "source": [
    "rootdir=os.getcwd()\n",
    "rootdir = os.path.expanduser('/home/teo/Repositories/Tesis/')"
   ]
  },
  {
   "cell_type": "code",
   "execution_count": 4,
   "metadata": {
    "collapsed": true
   },
   "outputs": [],
   "source": [
    "global mapa"
   ]
  },
  {
   "cell_type": "code",
   "execution_count": 5,
   "metadata": {
    "collapsed": true
   },
   "outputs": [],
   "source": [
    "dropped_file = \"data/celdas_dropped.csv\"\n",
    "dropped_antennas = pd.read_csv(dropped_file,header=None)\n",
    "dropped_antennas = dropped_antennas.values.flatten()"
   ]
  },
  {
   "cell_type": "code",
   "execution_count": 6,
   "metadata": {
    "collapsed": false,
    "scrolled": true
   },
   "outputs": [
    {
     "name": "stderr",
     "output_type": "stream",
     "text": [
      "Skipping line 5040: expected 4 fields, saw 9\n",
      "Skipping line 5041: expected 4 fields, saw 9\n",
      "Skipping line 5042: expected 4 fields, saw 9\n",
      "Skipping line 5401: expected 4 fields, saw 9\n",
      "Skipping line 5402: expected 4 fields, saw 9\n",
      "Skipping line 5403: expected 4 fields, saw 9\n",
      "Skipping line 11626: expected 4 fields, saw 5\n",
      "Skipping line 11627: expected 4 fields, saw 5\n",
      "Skipping line 11628: expected 4 fields, saw 5\n",
      "Skipping line 11629: expected 4 fields, saw 5\n",
      "Skipping line 11630: expected 4 fields, saw 5\n",
      "Skipping line 11631: expected 4 fields, saw 5\n",
      "Skipping line 11632: expected 4 fields, saw 5\n",
      "Skipping line 25496: expected 4 fields, saw 9\n",
      "Skipping line 25819: expected 4 fields, saw 5\n",
      "Skipping line 25820: expected 4 fields, saw 5\n",
      "Skipping line 45046: expected 4 fields, saw 7\n",
      "Skipping line 45047: expected 4 fields, saw 7\n",
      "Skipping line 45048: expected 4 fields, saw 7\n",
      "Skipping line 45049: expected 4 fields, saw 7\n",
      "Skipping line 45050: expected 4 fields, saw 7\n",
      "Skipping line 45051: expected 4 fields, saw 7\n",
      "Skipping line 45052: expected 4 fields, saw 7\n",
      "Skipping line 51932: expected 4 fields, saw 8\n",
      "Skipping line 51933: expected 4 fields, saw 8\n",
      "Skipping line 51934: expected 4 fields, saw 8\n",
      "Skipping line 51935: expected 4 fields, saw 8\n",
      "Skipping line 51936: expected 4 fields, saw 8\n",
      "Skipping line 51937: expected 4 fields, saw 8\n",
      "Skipping line 51938: expected 4 fields, saw 8\n",
      "Skipping line 54418: expected 4 fields, saw 8\n",
      "Skipping line 54419: expected 4 fields, saw 8\n",
      "Skipping line 54420: expected 4 fields, saw 8\n",
      "Skipping line 54421: expected 4 fields, saw 8\n",
      "Skipping line 54422: expected 4 fields, saw 8\n",
      "Skipping line 54423: expected 4 fields, saw 8\n",
      "Skipping line 54424: expected 4 fields, saw 8\n",
      "Skipping line 57409: expected 4 fields, saw 5\n",
      "Skipping line 57857: expected 4 fields, saw 5\n",
      "Skipping line 57858: expected 4 fields, saw 5\n",
      "Skipping line 57859: expected 4 fields, saw 5\n",
      "Skipping line 57860: expected 4 fields, saw 5\n",
      "Skipping line 57861: expected 4 fields, saw 5\n",
      "\n"
     ]
    }
   ],
   "source": [
    "antennas_file = 'data/celdas.csv'\n",
    "antennas_file_out = 'data/celdas_limpio.csv'\n",
    "raw_antennas =  pd.read_csv(antennas_file, \n",
    "                            #engine = 'python',\n",
    "                            error_bad_lines=False, \n",
    "                           warn_bad_lines=True)"
   ]
  },
  {
   "cell_type": "markdown",
   "metadata": {},
   "source": [
    "# miramos a mano \n",
    "las filas rotas y guardamos el output para mirarlas a mano"
   ]
  },
  {
   "cell_type": "code",
   "execution_count": 7,
   "metadata": {
    "collapsed": true
   },
   "outputs": [],
   "source": [
    "idle_lines = [25496,25819,25820,57409]\n",
    "error_lines = idle_lines + range(5040,5043) + range(5401,5404) + range(11626,11633) + range(11626,11633) +\\\n",
    "                range(45046,45053) + range(51932,51939) + range(54418,54425)  + range(57857,57862) \n",
    "\n",
    "lines = []\n",
    "for num in error_lines:\n",
    "    out = !tail -n+$num $antennas_file | head -n1\n",
    "    lines += [out[0]]"
   ]
  },
  {
   "cell_type": "code",
   "execution_count": 8,
   "metadata": {
    "collapsed": false,
    "scrolled": true
   },
   "outputs": [
    {
     "data": {
      "text/plain": [
       "{\"BA784G,CHASCOM\\xc3\\x9aS 3,'-35,566,667.0000','-579,935.0000'\",\n",
       " \"BA784H,CHASCOM\\xc3\\x9aS 3,'-35,566,667.0000','-579,935.0000'\",\n",
       " \"BA784I,CHASCOM\\xc3\\x9aS 3,'-35,566,667.0000','-579,935.0000'\",\n",
       " \"BA784J,CHASCOM\\xc3\\x9aS 3,'-35,566,667.0000','-579,935.0000'\",\n",
       " \"BA784K,CHASCOM\\xc3\\x9aS 3,'-35,566,667.0000','-579,935.0000'\",\n",
       " \"BA784L,CHASCOM\\xc3\\x9aS 3,'-35,566,667.0000','-579,935.0000'\",\n",
       " \"BA784Z,CHASCOM\\xc3\\x9aS 3,'-35,566,667.0000','-579,935.0000'\",\n",
       " \"CF378G,GALERIAS PACIFICO,'-34,599,091.0000','-58,375,082.0000'\",\n",
       " \"CF378H,GALERIAS PACIFICO,'-34,599,091.0000','-58,375,082.0000'\",\n",
       " \"CF378I,GALERIAS PACIFICO,'-34,599,091.0000','-58,375,082.0000'\",\n",
       " \"CF378J,GALERIAS PACIFICO,'-34,599,091.0000','-58,375,082.0000'\",\n",
       " \"CF378K,GALERIAS PACIFICO,'-34,599,091.0000','-58,375,082.0000'\",\n",
       " \"CF378L,GALERIAS PACIFICO,'-34,599,091.0000','-58,375,082.0000'\",\n",
       " \"CF378Z,GALERIAS PACIFICO,'-34,599,091.0000','-58,375,082.0000'\",\n",
       " \"ME194A,SAN RAFAEL 13,'-34,609,869.0000','-68,311,548.0000'\",\n",
       " \"ME194B,SAN RAFAEL 13,'-34,609,869.0000','-68,311,548.0000'\",\n",
       " \"ME194C,SAN RAFAEL 13,'-34,609,869.0000','-68,311,548.0000'\",\n",
       " \"ME194D,SAN RAFAEL 13,'-34,609,869.0000','-68,311,548.0000'\",\n",
       " \"ME194E,SAN RAFAEL 13,'-34,609,869.0000','-68,311,548.0000'\",\n",
       " \"ME194F,SAN RAFAEL 13,'-34,609,869.0000','-68,311,548.0000'\",\n",
       " \"ME194X,SAN RAFAEL 13,'-34,609,869.0000','-68,311,548.0000'\",\n",
       " \"NQ047A,'CERRO BANDERA, PIONE',-38.9587,-69.5138\",\n",
       " \"NQ047B,'CERRO BANDERA, PIONE',-38.9587,-69.5138\",\n",
       " \"NQ047C,'CERRO BANDERA, PIONE',-38.9587,-69.5138\",\n",
       " \"NQ047D,'CERRO BANDERA, PIONE',-38.9587,-69.5138\",\n",
       " \"NQ047E,'CERRO BANDERA, PIONE',-38.9587,-69.5138\",\n",
       " \"NQ047F,'CERRO BANDERA, PIONE',-38.9587,-69.5138\",\n",
       " \"NQ047X,'CERRO BANDERA, PIONE',-38.9587,-69.5138\",\n",
       " \"SC029A,Avda Rivadavia y Med,'-346,112,709.0000','-5,842,071,533.0000'\",\n",
       " \"SC029B,Avda Rivadavia y Med,'-346,112,709.0000','-5,842,071,533.0000'\",\n",
       " \"SC029C,Avda Rivadavia y Med,'-346,112,709.0000','-5,842,071,533.0000'\",\n",
       " \"SC029D,Avda Rivadavia y Med,'-346,112,709.0000','-5,842,071,533.0000'\",\n",
       " \"SC029E,Avda Rivadavia y Med,'-346,112,709.0000','-5,842,071,533.0000'\",\n",
       " \"SC029F,Avda Rivadavia y Med,'-346,112,709.0000','-5,842,071,533.0000'\",\n",
       " \"SC029X,Avda Rivadavia y Med,'-346,112,709.0000','-5,842,071,533.0000'\",\n",
       " \"SE062,'TAPSO,LAVASLLE',-28.2777,-65.0980\",\n",
       " \"SE062A,'TAPSO,LAVASLLE',-28.2777,-65.0980\",\n",
       " \"SE062B,'TAPSO,LAVASLLE',-28.2777,-65.0980\",\n",
       " \"SE062C,'TAPSO,LAVASLLE',-28.2777,-65.0980\",\n",
       " \"SE062D,'TAPSO,LAVASLLE',-28.2777,-65.0980\",\n",
       " \"SE062E,'TAPSO,LAVASLLE',-28.2777,-65.0980\",\n",
       " \"SE062F,'TAPSO,LAVASLLE',-28.2777,-65.0980\",\n",
       " \"SE062X,'TAPSO,LAVASLLE',-28.2777,-65.0980\"}"
      ]
     },
     "execution_count": 8,
     "metadata": {},
     "output_type": "execute_result"
    }
   ],
   "source": [
    "#nos quedamos con la lista unica\n",
    "lines_set = set(lines)\n",
    "lines_set"
   ]
  },
  {
   "cell_type": "code",
   "execution_count": 9,
   "metadata": {
    "collapsed": true
   },
   "outputs": [],
   "source": [
    "#agregamos estas antennas a mano\n",
    "#pd.concat()\n",
    "\n",
    "df = [['SE062C','TAPSO, LAVALLE',-27.777,-65.0980],\n",
    "     ['SC029X','Avda Rivadavia y Med',-34.112,-58.4207],\n",
    "     ['NQ047X','CERRO BANDERA, PIONE',-38.9587,-69.5138],\n",
    "     ['ME194C','SAN RAFAEL 13',-38.609,-68.311],\n",
    "     ['CF378L','GALERIAS PACIFICO',-34.599,-58.375],\n",
    "     ['BA784L','CHASCOMUS 3',-35.566,-57.993]]\n",
    "df = pd.DataFrame(df)\n",
    "df.columns = raw_antennas.columns\n",
    "\n",
    "raw_antennas = pd.concat([raw_antennas,df],axis=0,ignore_index=True)"
   ]
  },
  {
   "cell_type": "code",
   "execution_count": 10,
   "metadata": {
    "collapsed": false
   },
   "outputs": [
    {
     "data": {
      "text/plain": [
       "CEL_ID                      CEL_ID\n",
       "CEL_DESCRIPTION    CEL_DESCRIPTION\n",
       "LATITUD                    LATITUD\n",
       "LONGITUD                  LONGITUD\n",
       "Name: 64965, dtype: object"
      ]
     },
     "execution_count": 10,
     "metadata": {},
     "output_type": "execute_result"
    }
   ],
   "source": [
    "# se colo una fila que es una repeticion del header\n",
    "raw_antennas[raw_antennas['CEL_ID'].str.contains('CEL_I')].index\n",
    "\n",
    "raw_antennas.ix[64965]"
   ]
  },
  {
   "cell_type": "code",
   "execution_count": 11,
   "metadata": {
    "collapsed": false
   },
   "outputs": [],
   "source": [
    "raw_antennas.drop(64965,axis=0,inplace=True)"
   ]
  },
  {
   "cell_type": "markdown",
   "metadata": {},
   "source": [
    "## este es el file de la surrogacion de hash de antennas a numeric que usaba caro\n"
   ]
  },
  {
   "cell_type": "code",
   "execution_count": 12,
   "metadata": {
    "collapsed": false,
    "scrolled": true
   },
   "outputs": [
    {
     "name": "stdout",
     "output_type": "stream",
     "text": [
      "AA001 3416\n",
      "B1061 4371\n",
      "BA001 3020\n",
      "BA003 1665\n",
      "BA004 1078\n",
      "BA006 2679\n",
      "BA007 778\n",
      "BA010 3255\n",
      "BA013 3413\n",
      "BA015 3169\n",
      "4520 data/surrogated_antennas.txt\n"
     ]
    }
   ],
   "source": [
    "## este es el file de la surrogacion de hash de antennas a numeric que usaba caro\n",
    "antenna_hash_map_file = 'data/surrogated_antennas.txt'\n",
    "!head $antenna_hash_map_file\n",
    "!wc -l $antenna_hash_map_file"
   ]
  },
  {
   "cell_type": "code",
   "execution_count": 13,
   "metadata": {
    "collapsed": false
   },
   "outputs": [],
   "source": [
    "antenna_hash_map =  pd.read_csv(antenna_hash_map_file, sep = \" \" ,\n",
    "                            #engine = 'python',\n",
    "                            header=None, index_col = None )\n",
    "antenna_hash_map.columns = ['CEL_ID', 'SURR_ID']"
   ]
  },
  {
   "cell_type": "code",
   "execution_count": 14,
   "metadata": {
    "collapsed": false
   },
   "outputs": [
    {
     "data": {
      "text/plain": [
       "((4520, 2), (69834, 4))"
      ]
     },
     "execution_count": 14,
     "metadata": {},
     "output_type": "execute_result"
    }
   ],
   "source": [
    "antenna_hash_map.shape, raw_antennas.shape"
   ]
  },
  {
   "cell_type": "markdown",
   "metadata": {},
   "source": [
    "## NULL check - Raw file\n",
    "resulta que esta lleno de antennas que no tienen lat/long pues son las antennas que vienen de \"afuera\" i.e. los usuarios de la TelCo realizan un llamado del exterior y el sistema sabe que es su usuario, pero al estar en otro pais, se loggea como la antenna de la compania donde se realizo el llamado, luego no tienen lat/long y son llamados hechos en el exterior veraderamente\n",
    "\n",
    "Ojo tmb hay antennas locales dropeadas y algunas tipo antennas de 'testeo' o especiales por algun evento masivo"
   ]
  },
  {
   "cell_type": "code",
   "execution_count": 15,
   "metadata": {
    "collapsed": false
   },
   "outputs": [],
   "source": [
    "#pasamos columnas lat long a float\n",
    "ind = pd.to_numeric(raw_antennas['LATITUD'],errors='ignore').isnull()\n",
    "ind2 = pd.to_numeric(raw_antennas['LONGITUD'],errors='ignore').isnull()\n",
    "ind3 = raw_antennas['CEL_DESCRIPTION'].isnull()\n",
    "# raw_antennas[['LONGITUD','LATITUD']].isnull().all(axis=1)\n",
    "ind4 = ~ind & ind2"
   ]
  },
  {
   "cell_type": "code",
   "execution_count": 16,
   "metadata": {
    "collapsed": false,
    "scrolled": true
   },
   "outputs": [],
   "source": [
    "test = raw_antennas[ind]\n",
    "test2 = raw_antennas[ind2]\n",
    "test3 = raw_antennas[ind3]\n",
    "test4 = raw_antennas[ind4]"
   ]
  },
  {
   "cell_type": "code",
   "execution_count": 17,
   "metadata": {
    "collapsed": false,
    "scrolled": true
   },
   "outputs": [
    {
     "data": {
      "text/html": [
       "<div>\n",
       "<table border=\"1\" class=\"dataframe\">\n",
       "  <thead>\n",
       "    <tr style=\"text-align: right;\">\n",
       "      <th></th>\n",
       "      <th>CEL_ID</th>\n",
       "      <th>CEL_DESCRIPTION</th>\n",
       "      <th>LATITUD</th>\n",
       "      <th>LONGITUD</th>\n",
       "    </tr>\n",
       "  </thead>\n",
       "  <tbody>\n",
       "    <tr>\n",
       "      <th>33556</th>\n",
       "      <td>TETORF</td>\n",
       "      <td>TEST TORCUATO 2</td>\n",
       "      <td>NaN</td>\n",
       "      <td>NaN</td>\n",
       "    </tr>\n",
       "    <tr>\n",
       "      <th>59722</th>\n",
       "      <td>RG026</td>\n",
       "      <td>BTL BELICE</td>\n",
       "      <td>NaN</td>\n",
       "      <td>NaN</td>\n",
       "    </tr>\n",
       "    <tr>\n",
       "      <th>38606</th>\n",
       "      <td>RG480</td>\n",
       "      <td>Tele Talk</td>\n",
       "      <td>NaN</td>\n",
       "      <td>NaN</td>\n",
       "    </tr>\n",
       "    <tr>\n",
       "      <th>11751</th>\n",
       "      <td>RG385</td>\n",
       "      <td>TELE-RING</td>\n",
       "      <td>NaN</td>\n",
       "      <td>NaN</td>\n",
       "    </tr>\n",
       "    <tr>\n",
       "      <th>31541</th>\n",
       "      <td>PPR4T</td>\n",
       "      <td>PREPAGO RIO CUARTO</td>\n",
       "      <td>NaN</td>\n",
       "      <td>NaN</td>\n",
       "    </tr>\n",
       "    <tr>\n",
       "      <th>26836</th>\n",
       "      <td>TEGYNX</td>\n",
       "      <td>TEST GUAYMALLEN</td>\n",
       "      <td>NaN</td>\n",
       "      <td>NaN</td>\n",
       "    </tr>\n",
       "    <tr>\n",
       "      <th>10518</th>\n",
       "      <td>TEBSCA</td>\n",
       "      <td>TEST BSCTLAUQ</td>\n",
       "      <td>NaN</td>\n",
       "      <td>NaN</td>\n",
       "    </tr>\n",
       "    <tr>\n",
       "      <th>62249</th>\n",
       "      <td>CO438</td>\n",
       "      <td>BIALET MASSE</td>\n",
       "      <td>NaN</td>\n",
       "      <td>NaN</td>\n",
       "    </tr>\n",
       "    <tr>\n",
       "      <th>62750</th>\n",
       "      <td>RG271</td>\n",
       "      <td>C&amp;W Dominica</td>\n",
       "      <td>NaN</td>\n",
       "      <td>NaN</td>\n",
       "    </tr>\n",
       "    <tr>\n",
       "      <th>32002</th>\n",
       "      <td>RG079</td>\n",
       "      <td>CELL COM MALASIA</td>\n",
       "      <td>NaN</td>\n",
       "      <td>NaN</td>\n",
       "    </tr>\n",
       "    <tr>\n",
       "      <th>55471</th>\n",
       "      <td>PPTLQ</td>\n",
       "      <td>PREPAGO T. LAUQUEN</td>\n",
       "      <td>NaN</td>\n",
       "      <td>NaN</td>\n",
       "    </tr>\n",
       "    <tr>\n",
       "      <th>69253</th>\n",
       "      <td>BA460D</td>\n",
       "      <td>RIO TALA</td>\n",
       "      <td>NaN</td>\n",
       "      <td>NaN</td>\n",
       "    </tr>\n",
       "    <tr>\n",
       "      <th>11358</th>\n",
       "      <td>TEJONF</td>\n",
       "      <td>TEST JONTE</td>\n",
       "      <td>NaN</td>\n",
       "      <td>NaN</td>\n",
       "    </tr>\n",
       "    <tr>\n",
       "      <th>4217</th>\n",
       "      <td>COW32C</td>\n",
       "      <td>AGROACTIVA BALLESTER</td>\n",
       "      <td>NaN</td>\n",
       "      <td>NaN</td>\n",
       "    </tr>\n",
       "    <tr>\n",
       "      <th>27059</th>\n",
       "      <td>RG453</td>\n",
       "      <td>MOVILNET</td>\n",
       "      <td>NaN</td>\n",
       "      <td>NaN</td>\n",
       "    </tr>\n",
       "    <tr>\n",
       "      <th>55514</th>\n",
       "      <td>COW11</td>\n",
       "      <td>NaN</td>\n",
       "      <td>NaN</td>\n",
       "      <td>NaN</td>\n",
       "    </tr>\n",
       "    <tr>\n",
       "      <th>68734</th>\n",
       "      <td>CF996C</td>\n",
       "      <td>PRUEBA TORCUATO</td>\n",
       "      <td>NaN</td>\n",
       "      <td>NaN</td>\n",
       "    </tr>\n",
       "    <tr>\n",
       "      <th>60778</th>\n",
       "      <td>RG108</td>\n",
       "      <td>WATANIYA KUWAIT</td>\n",
       "      <td>NaN</td>\n",
       "      <td>NaN</td>\n",
       "    </tr>\n",
       "    <tr>\n",
       "      <th>50976</th>\n",
       "      <td>PPVIE</td>\n",
       "      <td>Celda PP Arg en Vie</td>\n",
       "      <td>NaN</td>\n",
       "      <td>NaN</td>\n",
       "    </tr>\n",
       "    <tr>\n",
       "      <th>62540</th>\n",
       "      <td>CO992</td>\n",
       "      <td>CELDA DE PRUEBA 3</td>\n",
       "      <td>NaN</td>\n",
       "      <td>NaN</td>\n",
       "    </tr>\n",
       "    <tr>\n",
       "      <th>31500</th>\n",
       "      <td>PR005</td>\n",
       "      <td>PRUEBA MAR DEL PLATA</td>\n",
       "      <td>NaN</td>\n",
       "      <td>NaN</td>\n",
       "    </tr>\n",
       "    <tr>\n",
       "      <th>7594</th>\n",
       "      <td>TEFR2D</td>\n",
       "      <td>TEST JONTE2</td>\n",
       "      <td>NaN</td>\n",
       "      <td>NaN</td>\n",
       "    </tr>\n",
       "    <tr>\n",
       "      <th>30980</th>\n",
       "      <td>CB008</td>\n",
       "      <td>EL MAITEN</td>\n",
       "      <td>NaN</td>\n",
       "      <td>NaN</td>\n",
       "    </tr>\n",
       "    <tr>\n",
       "      <th>11769</th>\n",
       "      <td>TEBHBA</td>\n",
       "      <td>TEST BSC B BLANCA</td>\n",
       "      <td>NaN</td>\n",
       "      <td>NaN</td>\n",
       "    </tr>\n",
       "    <tr>\n",
       "      <th>35095</th>\n",
       "      <td>RG443</td>\n",
       "      <td>MTN</td>\n",
       "      <td>NaN</td>\n",
       "      <td>NaN</td>\n",
       "    </tr>\n",
       "    <tr>\n",
       "      <th>62767</th>\n",
       "      <td>RN069</td>\n",
       "      <td>VALCHETA</td>\n",
       "      <td>NaN</td>\n",
       "      <td>NaN</td>\n",
       "    </tr>\n",
       "    <tr>\n",
       "      <th>10832</th>\n",
       "      <td>RG261</td>\n",
       "      <td>Peoples</td>\n",
       "      <td>NaN</td>\n",
       "      <td>NaN</td>\n",
       "    </tr>\n",
       "    <tr>\n",
       "      <th>59756</th>\n",
       "      <td>RG064</td>\n",
       "      <td>VODAFONE ESPAÑA</td>\n",
       "      <td>NaN</td>\n",
       "      <td>NaN</td>\n",
       "    </tr>\n",
       "    <tr>\n",
       "      <th>32009</th>\n",
       "      <td>RG117</td>\n",
       "      <td>ZAO SMARTS RUSIA</td>\n",
       "      <td>NaN</td>\n",
       "      <td>NaN</td>\n",
       "    </tr>\n",
       "    <tr>\n",
       "      <th>60777</th>\n",
       "      <td>RG107</td>\n",
       "      <td>CENTERTEL POLONIA</td>\n",
       "      <td>NaN</td>\n",
       "      <td>NaN</td>\n",
       "    </tr>\n",
       "    <tr>\n",
       "      <th>67988</th>\n",
       "      <td>BA421D</td>\n",
       "      <td>BARADERO</td>\n",
       "      <td>NaN</td>\n",
       "      <td>NaN</td>\n",
       "    </tr>\n",
       "    <tr>\n",
       "      <th>62673</th>\n",
       "      <td>CF839</td>\n",
       "      <td>AVDA 7 Y CALLE 48</td>\n",
       "      <td>NaN</td>\n",
       "      <td>NaN</td>\n",
       "    </tr>\n",
       "    <tr>\n",
       "      <th>31551</th>\n",
       "      <td>PPRSR</td>\n",
       "      <td>PREPAGO ROSARIO</td>\n",
       "      <td>NaN</td>\n",
       "      <td>NaN</td>\n",
       "    </tr>\n",
       "    <tr>\n",
       "      <th>62218</th>\n",
       "      <td>CF698</td>\n",
       "      <td>BTS TEST2</td>\n",
       "      <td>NaN</td>\n",
       "      <td>NaN</td>\n",
       "    </tr>\n",
       "    <tr>\n",
       "      <th>1228</th>\n",
       "      <td>CF699X</td>\n",
       "      <td>BTS TEST1</td>\n",
       "      <td>NaN</td>\n",
       "      <td>NaN</td>\n",
       "    </tr>\n",
       "    <tr>\n",
       "      <th>62555</th>\n",
       "      <td>ER042</td>\n",
       "      <td>EL PINGO</td>\n",
       "      <td>NaN</td>\n",
       "      <td>NaN</td>\n",
       "    </tr>\n",
       "    <tr>\n",
       "      <th>45996</th>\n",
       "      <td>RG489</td>\n",
       "      <td>PRADESH</td>\n",
       "      <td>NaN</td>\n",
       "      <td>NaN</td>\n",
       "    </tr>\n",
       "    <tr>\n",
       "      <th>61751</th>\n",
       "      <td>RG192</td>\n",
       "      <td>Telstra</td>\n",
       "      <td>NaN</td>\n",
       "      <td>NaN</td>\n",
       "    </tr>\n",
       "    <tr>\n",
       "      <th>30981</th>\n",
       "      <td>CB009</td>\n",
       "      <td>RIO MAYO</td>\n",
       "      <td>NaN</td>\n",
       "      <td>NaN</td>\n",
       "    </tr>\n",
       "    <tr>\n",
       "      <th>62685</th>\n",
       "      <td>CO552</td>\n",
       "      <td>PLAZA CISNEROS</td>\n",
       "      <td>NaN</td>\n",
       "      <td>NaN</td>\n",
       "    </tr>\n",
       "  </tbody>\n",
       "</table>\n",
       "</div>"
      ],
      "text/plain": [
       "       CEL_ID       CEL_DESCRIPTION LATITUD LONGITUD\n",
       "33556  TETORF       TEST TORCUATO 2     NaN      NaN\n",
       "59722   RG026            BTL BELICE     NaN      NaN\n",
       "38606   RG480             Tele Talk     NaN      NaN\n",
       "11751   RG385             TELE-RING     NaN      NaN\n",
       "31541   PPR4T    PREPAGO RIO CUARTO     NaN      NaN\n",
       "26836  TEGYNX       TEST GUAYMALLEN     NaN      NaN\n",
       "10518  TEBSCA         TEST BSCTLAUQ     NaN      NaN\n",
       "62249   CO438          BIALET MASSE     NaN      NaN\n",
       "62750   RG271          C&W Dominica     NaN      NaN\n",
       "32002   RG079      CELL COM MALASIA     NaN      NaN\n",
       "55471   PPTLQ    PREPAGO T. LAUQUEN     NaN      NaN\n",
       "69253  BA460D              RIO TALA     NaN      NaN\n",
       "11358  TEJONF            TEST JONTE     NaN      NaN\n",
       "4217   COW32C  AGROACTIVA BALLESTER     NaN      NaN\n",
       "27059   RG453              MOVILNET     NaN      NaN\n",
       "55514   COW11                   NaN     NaN      NaN\n",
       "68734  CF996C       PRUEBA TORCUATO     NaN      NaN\n",
       "60778   RG108       WATANIYA KUWAIT     NaN      NaN\n",
       "50976   PPVIE   Celda PP Arg en Vie     NaN      NaN\n",
       "62540   CO992     CELDA DE PRUEBA 3     NaN      NaN\n",
       "31500   PR005  PRUEBA MAR DEL PLATA     NaN      NaN\n",
       "7594   TEFR2D           TEST JONTE2     NaN      NaN\n",
       "30980   CB008             EL MAITEN     NaN      NaN\n",
       "11769  TEBHBA     TEST BSC B BLANCA     NaN      NaN\n",
       "35095   RG443                   MTN     NaN      NaN\n",
       "62767   RN069              VALCHETA     NaN      NaN\n",
       "10832   RG261               Peoples     NaN      NaN\n",
       "59756   RG064      VODAFONE ESPAÑA      NaN      NaN\n",
       "32009   RG117      ZAO SMARTS RUSIA     NaN      NaN\n",
       "60777   RG107     CENTERTEL POLONIA     NaN      NaN\n",
       "67988  BA421D              BARADERO     NaN      NaN\n",
       "62673   CF839     AVDA 7 Y CALLE 48     NaN      NaN\n",
       "31551   PPRSR       PREPAGO ROSARIO     NaN      NaN\n",
       "62218   CF698             BTS TEST2     NaN      NaN\n",
       "1228   CF699X             BTS TEST1     NaN      NaN\n",
       "62555   ER042              EL PINGO     NaN      NaN\n",
       "45996   RG489               PRADESH     NaN      NaN\n",
       "61751   RG192               Telstra     NaN      NaN\n",
       "30981   CB009              RIO MAYO     NaN      NaN\n",
       "62685   CO552        PLAZA CISNEROS     NaN      NaN"
      ]
     },
     "execution_count": 17,
     "metadata": {},
     "output_type": "execute_result"
    }
   ],
   "source": [
    "test.sample(40)"
   ]
  },
  {
   "cell_type": "code",
   "execution_count": 18,
   "metadata": {
    "collapsed": false,
    "scrolled": true
   },
   "outputs": [
    {
     "data": {
      "text/html": [
       "<div>\n",
       "<table border=\"1\" class=\"dataframe\">\n",
       "  <thead>\n",
       "    <tr style=\"text-align: right;\">\n",
       "      <th></th>\n",
       "      <th>CEL_ID</th>\n",
       "      <th>CEL_DESCRIPTION</th>\n",
       "      <th>LATITUD</th>\n",
       "      <th>LONGITUD</th>\n",
       "    </tr>\n",
       "  </thead>\n",
       "  <tbody>\n",
       "    <tr>\n",
       "      <th>30976</th>\n",
       "      <td>BELCH</td>\n",
       "      <td>BELLSOUTH</td>\n",
       "      <td>NaN</td>\n",
       "      <td>NaN</td>\n",
       "    </tr>\n",
       "    <tr>\n",
       "      <th>13008</th>\n",
       "      <td>RG336</td>\n",
       "      <td>ASIACELL</td>\n",
       "      <td>NaN</td>\n",
       "      <td>NaN</td>\n",
       "    </tr>\n",
       "    <tr>\n",
       "      <th>45250</th>\n",
       "      <td>TEBBLA</td>\n",
       "      <td>TEST BAHIA BLANCA</td>\n",
       "      <td>NaN</td>\n",
       "      <td>NaN</td>\n",
       "    </tr>\n",
       "    <tr>\n",
       "      <th>60314</th>\n",
       "      <td>COW3</td>\n",
       "      <td>COW VILLA GESELL</td>\n",
       "      <td>NaN</td>\n",
       "      <td>NaN</td>\n",
       "    </tr>\n",
       "    <tr>\n",
       "      <th>11773</th>\n",
       "      <td>TEBHBE</td>\n",
       "      <td>TEST BSC B BLANCA</td>\n",
       "      <td>NaN</td>\n",
       "      <td>NaN</td>\n",
       "    </tr>\n",
       "    <tr>\n",
       "      <th>11299</th>\n",
       "      <td>COW35E</td>\n",
       "      <td>COW MOGOTES</td>\n",
       "      <td>NaN</td>\n",
       "      <td>NaN</td>\n",
       "    </tr>\n",
       "    <tr>\n",
       "      <th>30966</th>\n",
       "      <td>BA149</td>\n",
       "      <td>ESPARTILLAR</td>\n",
       "      <td>NaN</td>\n",
       "      <td>NaN</td>\n",
       "    </tr>\n",
       "    <tr>\n",
       "      <th>31609</th>\n",
       "      <td>COW15</td>\n",
       "      <td>FERIAGRO 2003.JUNIN</td>\n",
       "      <td>NaN</td>\n",
       "      <td>NaN</td>\n",
       "    </tr>\n",
       "    <tr>\n",
       "      <th>62778</th>\n",
       "      <td>CF359</td>\n",
       "      <td>LA PLATA 11</td>\n",
       "      <td>NaN</td>\n",
       "      <td>NaN</td>\n",
       "    </tr>\n",
       "    <tr>\n",
       "      <th>31500</th>\n",
       "      <td>PR005</td>\n",
       "      <td>PRUEBA MAR DEL PLATA</td>\n",
       "      <td>NaN</td>\n",
       "      <td>NaN</td>\n",
       "    </tr>\n",
       "    <tr>\n",
       "      <th>59771</th>\n",
       "      <td>RG082</td>\n",
       "      <td>CELL TELL SRI LANKA</td>\n",
       "      <td>NaN</td>\n",
       "      <td>NaN</td>\n",
       "    </tr>\n",
       "    <tr>\n",
       "      <th>39239</th>\n",
       "      <td>RG482</td>\n",
       "      <td>AIS</td>\n",
       "      <td>NaN</td>\n",
       "      <td>NaN</td>\n",
       "    </tr>\n",
       "    <tr>\n",
       "      <th>30978</th>\n",
       "      <td>CB002</td>\n",
       "      <td>TRELEW</td>\n",
       "      <td>NaN</td>\n",
       "      <td>NaN</td>\n",
       "    </tr>\n",
       "    <tr>\n",
       "      <th>31499</th>\n",
       "      <td>TELEC</td>\n",
       "      <td>TELECEL</td>\n",
       "      <td>NaN</td>\n",
       "      <td>NaN</td>\n",
       "    </tr>\n",
       "    <tr>\n",
       "      <th>26883</th>\n",
       "      <td>RG441</td>\n",
       "      <td>TMOBILE</td>\n",
       "      <td>NaN</td>\n",
       "      <td>NaN</td>\n",
       "    </tr>\n",
       "    <tr>\n",
       "      <th>62231</th>\n",
       "      <td>CF872</td>\n",
       "      <td>FRENCH Y BUSTAMANTE</td>\n",
       "      <td>NaN</td>\n",
       "      <td>NaN</td>\n",
       "    </tr>\n",
       "    <tr>\n",
       "      <th>16334</th>\n",
       "      <td>TERGRC</td>\n",
       "      <td>TEST RIO GRANDE</td>\n",
       "      <td>NaN</td>\n",
       "      <td>NaN</td>\n",
       "    </tr>\n",
       "    <tr>\n",
       "      <th>32034</th>\n",
       "      <td>CB038</td>\n",
       "      <td>DOLAVON CIUDAD</td>\n",
       "      <td>NaN</td>\n",
       "      <td>NaN</td>\n",
       "    </tr>\n",
       "    <tr>\n",
       "      <th>68737</th>\n",
       "      <td>CF996X</td>\n",
       "      <td>PRUEBA TORCUATO</td>\n",
       "      <td>NaN</td>\n",
       "      <td>NaN</td>\n",
       "    </tr>\n",
       "    <tr>\n",
       "      <th>31439</th>\n",
       "      <td>SE050</td>\n",
       "      <td>LA AURORA</td>\n",
       "      <td>NaN</td>\n",
       "      <td>NaN</td>\n",
       "    </tr>\n",
       "    <tr>\n",
       "      <th>55629</th>\n",
       "      <td>RG264</td>\n",
       "      <td>Swisscom Mobile</td>\n",
       "      <td>NaN</td>\n",
       "      <td>NaN</td>\n",
       "    </tr>\n",
       "    <tr>\n",
       "      <th>62186</th>\n",
       "      <td>CF288</td>\n",
       "      <td>ABASTO SHOPPING</td>\n",
       "      <td>NaN</td>\n",
       "      <td>NaN</td>\n",
       "    </tr>\n",
       "    <tr>\n",
       "      <th>55469</th>\n",
       "      <td>PPCCM</td>\n",
       "      <td>PREPAGO S. VICENTE</td>\n",
       "      <td>NaN</td>\n",
       "      <td>NaN</td>\n",
       "    </tr>\n",
       "    <tr>\n",
       "      <th>38741</th>\n",
       "      <td>SC046D</td>\n",
       "      <td>RIO GALLEGOS 5</td>\n",
       "      <td>NaN</td>\n",
       "      <td>NaN</td>\n",
       "    </tr>\n",
       "    <tr>\n",
       "      <th>62512</th>\n",
       "      <td>BA165</td>\n",
       "      <td>TANDIL</td>\n",
       "      <td>NaN</td>\n",
       "      <td>NaN</td>\n",
       "    </tr>\n",
       "    <tr>\n",
       "      <th>11300</th>\n",
       "      <td>COW35F</td>\n",
       "      <td>COW MOGOTES</td>\n",
       "      <td>NaN</td>\n",
       "      <td>NaN</td>\n",
       "    </tr>\n",
       "    <tr>\n",
       "      <th>62645</th>\n",
       "      <td>RJ998</td>\n",
       "      <td>ST-PLX CHILECITO</td>\n",
       "      <td>NaN</td>\n",
       "      <td>NaN</td>\n",
       "    </tr>\n",
       "    <tr>\n",
       "      <th>62211</th>\n",
       "      <td>SF960</td>\n",
       "      <td>FUNES 2 (MOVISTAR)</td>\n",
       "      <td>NaN</td>\n",
       "      <td>NaN</td>\n",
       "    </tr>\n",
       "    <tr>\n",
       "      <th>19725</th>\n",
       "      <td>TEBARC</td>\n",
       "      <td>TEST BARILOCHE</td>\n",
       "      <td>NaN</td>\n",
       "      <td>NaN</td>\n",
       "    </tr>\n",
       "    <tr>\n",
       "      <th>55472</th>\n",
       "      <td>PPSJN</td>\n",
       "      <td>PREPAGO S. JUAN</td>\n",
       "      <td>NaN</td>\n",
       "      <td>NaN</td>\n",
       "    </tr>\n",
       "    <tr>\n",
       "      <th>62165</th>\n",
       "      <td>MI048</td>\n",
       "      <td>APOSTOLES 2</td>\n",
       "      <td>NaN</td>\n",
       "      <td>NaN</td>\n",
       "    </tr>\n",
       "    <tr>\n",
       "      <th>45509</th>\n",
       "      <td>C9999L</td>\n",
       "      <td>CELDA TEST 3G</td>\n",
       "      <td>NaN</td>\n",
       "      <td>NaN</td>\n",
       "    </tr>\n",
       "    <tr>\n",
       "      <th>59715</th>\n",
       "      <td>RG018</td>\n",
       "      <td>O2.2 ALEMANIA</td>\n",
       "      <td>NaN</td>\n",
       "      <td>NaN</td>\n",
       "    </tr>\n",
       "    <tr>\n",
       "      <th>30977</th>\n",
       "      <td>CB001</td>\n",
       "      <td>COMODORO RIVADAVIA 1</td>\n",
       "      <td>NaN</td>\n",
       "      <td>NaN</td>\n",
       "    </tr>\n",
       "    <tr>\n",
       "      <th>27318</th>\n",
       "      <td>RG405</td>\n",
       "      <td>TELECOM</td>\n",
       "      <td>NaN</td>\n",
       "      <td>NaN</td>\n",
       "    </tr>\n",
       "    <tr>\n",
       "      <th>60774</th>\n",
       "      <td>RG104</td>\n",
       "      <td>BITE LITUANIA</td>\n",
       "      <td>NaN</td>\n",
       "      <td>NaN</td>\n",
       "    </tr>\n",
       "    <tr>\n",
       "      <th>62139</th>\n",
       "      <td>RJ204</td>\n",
       "      <td>LA RIOJA 6</td>\n",
       "      <td>NaN</td>\n",
       "      <td>NaN</td>\n",
       "    </tr>\n",
       "    <tr>\n",
       "      <th>60232</th>\n",
       "      <td>CO900</td>\n",
       "      <td>ACHAVAL NORTEL PRUEB</td>\n",
       "      <td>NaN</td>\n",
       "      <td>NaN</td>\n",
       "    </tr>\n",
       "    <tr>\n",
       "      <th>5269</th>\n",
       "      <td>CO998F</td>\n",
       "      <td>CELDA PRUEBA CBA</td>\n",
       "      <td>NaN</td>\n",
       "      <td>NaN</td>\n",
       "    </tr>\n",
       "    <tr>\n",
       "      <th>31522</th>\n",
       "      <td>CW502</td>\n",
       "      <td>COW5 CELDA MOVIL BHB</td>\n",
       "      <td>NaN</td>\n",
       "      <td>NaN</td>\n",
       "    </tr>\n",
       "  </tbody>\n",
       "</table>\n",
       "</div>"
      ],
      "text/plain": [
       "       CEL_ID       CEL_DESCRIPTION LATITUD LONGITUD\n",
       "30976   BELCH             BELLSOUTH     NaN      NaN\n",
       "13008   RG336              ASIACELL     NaN      NaN\n",
       "45250  TEBBLA     TEST BAHIA BLANCA     NaN      NaN\n",
       "60314    COW3      COW VILLA GESELL     NaN      NaN\n",
       "11773  TEBHBE     TEST BSC B BLANCA     NaN      NaN\n",
       "11299  COW35E           COW MOGOTES     NaN      NaN\n",
       "30966   BA149           ESPARTILLAR     NaN      NaN\n",
       "31609   COW15   FERIAGRO 2003.JUNIN     NaN      NaN\n",
       "62778   CF359           LA PLATA 11     NaN      NaN\n",
       "31500   PR005  PRUEBA MAR DEL PLATA     NaN      NaN\n",
       "59771   RG082   CELL TELL SRI LANKA     NaN      NaN\n",
       "39239   RG482                   AIS     NaN      NaN\n",
       "30978   CB002                TRELEW     NaN      NaN\n",
       "31499   TELEC               TELECEL     NaN      NaN\n",
       "26883   RG441               TMOBILE     NaN      NaN\n",
       "62231   CF872   FRENCH Y BUSTAMANTE     NaN      NaN\n",
       "16334  TERGRC       TEST RIO GRANDE     NaN      NaN\n",
       "32034   CB038        DOLAVON CIUDAD     NaN      NaN\n",
       "68737  CF996X       PRUEBA TORCUATO     NaN      NaN\n",
       "31439   SE050             LA AURORA     NaN      NaN\n",
       "55629   RG264       Swisscom Mobile     NaN      NaN\n",
       "62186   CF288       ABASTO SHOPPING     NaN      NaN\n",
       "55469   PPCCM    PREPAGO S. VICENTE     NaN      NaN\n",
       "38741  SC046D        RIO GALLEGOS 5     NaN      NaN\n",
       "62512   BA165                TANDIL     NaN      NaN\n",
       "11300  COW35F           COW MOGOTES     NaN      NaN\n",
       "62645   RJ998      ST-PLX CHILECITO     NaN      NaN\n",
       "62211   SF960    FUNES 2 (MOVISTAR)     NaN      NaN\n",
       "19725  TEBARC        TEST BARILOCHE     NaN      NaN\n",
       "55472   PPSJN       PREPAGO S. JUAN     NaN      NaN\n",
       "62165   MI048           APOSTOLES 2     NaN      NaN\n",
       "45509  C9999L         CELDA TEST 3G     NaN      NaN\n",
       "59715   RG018       O2.2 ALEMANIA       NaN      NaN\n",
       "30977   CB001  COMODORO RIVADAVIA 1     NaN      NaN\n",
       "27318   RG405               TELECOM     NaN      NaN\n",
       "60774   RG104         BITE LITUANIA     NaN      NaN\n",
       "62139   RJ204            LA RIOJA 6     NaN      NaN\n",
       "60232   CO900  ACHAVAL NORTEL PRUEB     NaN      NaN\n",
       "5269   CO998F      CELDA PRUEBA CBA     NaN      NaN\n",
       "31522   CW502  COW5 CELDA MOVIL BHB     NaN      NaN"
      ]
     },
     "execution_count": 18,
     "metadata": {},
     "output_type": "execute_result"
    }
   ],
   "source": [
    "test2.sample(40)"
   ]
  },
  {
   "cell_type": "code",
   "execution_count": 19,
   "metadata": {
    "collapsed": false
   },
   "outputs": [
    {
     "data": {
      "text/plain": [
       "((3, 4), (7, 4))"
      ]
     },
     "execution_count": 19,
     "metadata": {},
     "output_type": "execute_result"
    }
   ],
   "source": [
    "test3.shape, test4.shape"
   ]
  },
  {
   "cell_type": "code",
   "execution_count": 20,
   "metadata": {
    "collapsed": false
   },
   "outputs": [
    {
     "data": {
      "text/html": [
       "<div>\n",
       "<table border=\"1\" class=\"dataframe\">\n",
       "  <thead>\n",
       "    <tr style=\"text-align: right;\">\n",
       "      <th></th>\n",
       "      <th>CEL_ID</th>\n",
       "      <th>CEL_DESCRIPTION</th>\n",
       "      <th>LATITUD</th>\n",
       "      <th>LONGITUD</th>\n",
       "    </tr>\n",
       "  </thead>\n",
       "  <tbody>\n",
       "    <tr>\n",
       "      <th>31604</th>\n",
       "      <td>'</td>\n",
       "      <td>NaN</td>\n",
       "      <td>NaN</td>\n",
       "      <td>NaN</td>\n",
       "    </tr>\n",
       "    <tr>\n",
       "      <th>31616</th>\n",
       "      <td>'</td>\n",
       "      <td>NaN</td>\n",
       "      <td>NaN</td>\n",
       "      <td>NaN</td>\n",
       "    </tr>\n",
       "    <tr>\n",
       "      <th>55514</th>\n",
       "      <td>COW11</td>\n",
       "      <td>NaN</td>\n",
       "      <td>NaN</td>\n",
       "      <td>NaN</td>\n",
       "    </tr>\n",
       "  </tbody>\n",
       "</table>\n",
       "</div>"
      ],
      "text/plain": [
       "      CEL_ID CEL_DESCRIPTION LATITUD LONGITUD\n",
       "31604      '             NaN     NaN      NaN\n",
       "31616      '             NaN     NaN      NaN\n",
       "55514  COW11             NaN     NaN      NaN"
      ]
     },
     "execution_count": 20,
     "metadata": {},
     "output_type": "execute_result"
    }
   ],
   "source": [
    "test3"
   ]
  },
  {
   "cell_type": "code",
   "execution_count": 21,
   "metadata": {
    "collapsed": false
   },
   "outputs": [
    {
     "data": {
      "text/html": [
       "<div>\n",
       "<table border=\"1\" class=\"dataframe\">\n",
       "  <thead>\n",
       "    <tr style=\"text-align: right;\">\n",
       "      <th></th>\n",
       "      <th>CEL_ID</th>\n",
       "      <th>CEL_DESCRIPTION</th>\n",
       "      <th>LATITUD</th>\n",
       "      <th>LONGITUD</th>\n",
       "    </tr>\n",
       "  </thead>\n",
       "  <tbody>\n",
       "    <tr>\n",
       "      <th>17191</th>\n",
       "      <td>'</td>\n",
       "      <td>-31.6477</td>\n",
       "      <td>-60.7070</td>\n",
       "      <td>NaN</td>\n",
       "    </tr>\n",
       "    <tr>\n",
       "      <th>17193</th>\n",
       "      <td>'</td>\n",
       "      <td>-31.6477</td>\n",
       "      <td>-60.7070</td>\n",
       "      <td>NaN</td>\n",
       "    </tr>\n",
       "    <tr>\n",
       "      <th>17195</th>\n",
       "      <td>'</td>\n",
       "      <td>-31.6477</td>\n",
       "      <td>-60.7070</td>\n",
       "      <td>NaN</td>\n",
       "    </tr>\n",
       "    <tr>\n",
       "      <th>17197</th>\n",
       "      <td>'</td>\n",
       "      <td>-31.6477</td>\n",
       "      <td>-60.7070</td>\n",
       "      <td>NaN</td>\n",
       "    </tr>\n",
       "    <tr>\n",
       "      <th>17199</th>\n",
       "      <td>'</td>\n",
       "      <td>-31.6477</td>\n",
       "      <td>-60.7070</td>\n",
       "      <td>NaN</td>\n",
       "    </tr>\n",
       "    <tr>\n",
       "      <th>17201</th>\n",
       "      <td>'</td>\n",
       "      <td>-31.6477</td>\n",
       "      <td>-60.7070</td>\n",
       "      <td>NaN</td>\n",
       "    </tr>\n",
       "    <tr>\n",
       "      <th>26412</th>\n",
       "      <td>'</td>\n",
       "      <td>-31.6477</td>\n",
       "      <td>-60.7070</td>\n",
       "      <td>NaN</td>\n",
       "    </tr>\n",
       "  </tbody>\n",
       "</table>\n",
       "</div>"
      ],
      "text/plain": [
       "      CEL_ID CEL_DESCRIPTION   LATITUD LONGITUD\n",
       "17191      '        -31.6477  -60.7070      NaN\n",
       "17193      '        -31.6477  -60.7070      NaN\n",
       "17195      '        -31.6477  -60.7070      NaN\n",
       "17197      '        -31.6477  -60.7070      NaN\n",
       "17199      '        -31.6477  -60.7070      NaN\n",
       "17201      '        -31.6477  -60.7070      NaN\n",
       "26412      '        -31.6477  -60.7070      NaN"
      ]
     },
     "execution_count": 21,
     "metadata": {},
     "output_type": "execute_result"
    }
   ],
   "source": [
    "test4"
   ]
  },
  {
   "cell_type": "code",
   "execution_count": 22,
   "metadata": {
    "collapsed": false
   },
   "outputs": [
    {
     "name": "stdout",
     "output_type": "stream",
     "text": [
      "(1574, 1574)\n",
      "(1581, 1581)\n"
     ]
    }
   ],
   "source": [
    "print(test['LATITUD'].isnull().sum(),test.shape[0])\n",
    "print(test2['LONGITUD'].isnull().sum(),test2.shape[0])"
   ]
  },
  {
   "cell_type": "code",
   "execution_count": 23,
   "metadata": {
    "collapsed": false
   },
   "outputs": [
    {
     "data": {
      "text/plain": [
       "1573"
      ]
     },
     "execution_count": 23,
     "metadata": {},
     "output_type": "execute_result"
    }
   ],
   "source": [
    "#dropeamos filas con null en lat o long y guardamos las antennas droppeadas\n",
    "dropped_antennas  = list(set(test.CEL_ID.values) | set(test2.CEL_ID.values))\n",
    "len(dropped_antennas)"
   ]
  },
  {
   "cell_type": "code",
   "execution_count": 35,
   "metadata": {
    "collapsed": false,
    "scrolled": true
   },
   "outputs": [
    {
     "data": {
      "text/plain": [
       "array(['TF999', 'ERTST', 'C9999A', 'BELCH', 'COW51C', 'CT516', 'TEGYND',\n",
       "       'RG245', 'TEJJYC', 'RG395', 'CO453', 'CTNN1C', 'RG043', 'RG025',\n",
       "       'RG081', 'TMIG', 'TCEN', 'RG195', 'RG096', 'COW5E', 'RG433',\n",
       "       'RG368', 'SC007', 'RN009', 'BA671C', 'CF667', 'RG402', 'BA184',\n",
       "       'CF999A', 'COW18', 'CH009', 'RG502', 'BA998X', 'NQ998C', 'CR039',\n",
       "       'BA998F', 'JU041', 'RG430', 'RG027', 'RG488', 'RG506', 'CO465',\n",
       "       'CO900', 'PPCTM', 'RN023', 'CF862', 'CTNN2B', 'RG461', 'SE092',\n",
       "       'RG049'], \n",
       "      dtype='|S6')"
      ]
     },
     "execution_count": 35,
     "metadata": {},
     "output_type": "execute_result"
    }
   ],
   "source": [
    "np.random.choice(dropped_antennas,size = 50, replace = False)"
   ]
  },
  {
   "cell_type": "code",
   "execution_count": 36,
   "metadata": {
    "collapsed": false
   },
   "outputs": [
    {
     "data": {
      "text/html": [
       "<div>\n",
       "<table border=\"1\" class=\"dataframe\">\n",
       "  <thead>\n",
       "    <tr style=\"text-align: right;\">\n",
       "      <th></th>\n",
       "      <th>CEL_ID</th>\n",
       "      <th>CEL_DESCRIPTION</th>\n",
       "      <th>LATITUD</th>\n",
       "      <th>LONGITUD</th>\n",
       "    </tr>\n",
       "  </thead>\n",
       "  <tbody>\n",
       "  </tbody>\n",
       "</table>\n",
       "</div>"
      ],
      "text/plain": [
       "Empty DataFrame\n",
       "Columns: [CEL_ID, CEL_DESCRIPTION, LATITUD, LONGITUD]\n",
       "Index: []"
      ]
     },
     "execution_count": 36,
     "metadata": {},
     "output_type": "execute_result"
    }
   ],
   "source": [
    "ant = 'CO998C'\n",
    "raw_antennas[raw_antennas['CEL_ID'] == ant]"
   ]
  },
  {
   "cell_type": "code",
   "execution_count": 26,
   "metadata": {
    "collapsed": false
   },
   "outputs": [
    {
     "data": {
      "text/plain": [
       "1573"
      ]
     },
     "execution_count": 26,
     "metadata": {},
     "output_type": "execute_result"
    }
   ],
   "source": [
    "#para ver cuantas voy a dropear\n",
    "a = raw_antennas[raw_antennas.isnull().any(axis=1)]\n",
    "len(a.CEL_ID.unique())"
   ]
  },
  {
   "cell_type": "code",
   "execution_count": 27,
   "metadata": {
    "collapsed": false
   },
   "outputs": [
    {
     "name": "stdout",
     "output_type": "stream",
     "text": [
      "(69834, 4)\n",
      "(68253, 4)\n"
     ]
    }
   ],
   "source": [
    "print(raw_antennas.shape)\n",
    "raw_antennas.dropna(inplace=True)\n",
    "print(raw_antennas.shape)"
   ]
  },
  {
   "cell_type": "markdown",
   "metadata": {},
   "source": [
    "## Falta droppear las antennas que tienen lat == long"
   ]
  },
  {
   "cell_type": "code",
   "execution_count": 28,
   "metadata": {
    "collapsed": false,
    "scrolled": true
   },
   "outputs": [
    {
     "name": "stdout",
     "output_type": "stream",
     "text": [
      "(640, 4)\n"
     ]
    },
    {
     "data": {
      "text/html": [
       "<div>\n",
       "<table border=\"1\" class=\"dataframe\">\n",
       "  <thead>\n",
       "    <tr style=\"text-align: right;\">\n",
       "      <th></th>\n",
       "      <th>CEL_ID</th>\n",
       "      <th>CEL_DESCRIPTION</th>\n",
       "      <th>LATITUD</th>\n",
       "      <th>LONGITUD</th>\n",
       "    </tr>\n",
       "  </thead>\n",
       "  <tbody>\n",
       "    <tr>\n",
       "      <th>43386</th>\n",
       "      <td>C2098K</td>\n",
       "      <td>JAUREGUI 2</td>\n",
       "      <td>-34.5850</td>\n",
       "      <td>-34.5850</td>\n",
       "    </tr>\n",
       "    <tr>\n",
       "      <th>55204</th>\n",
       "      <td>COX05</td>\n",
       "      <td>LA FALDA POI</td>\n",
       "      <td>0.0000</td>\n",
       "      <td>0.0000</td>\n",
       "    </tr>\n",
       "    <tr>\n",
       "      <th>43833</th>\n",
       "      <td>C2250L</td>\n",
       "      <td>EL LAUQUEN</td>\n",
       "      <td>-34.9272</td>\n",
       "      <td>-34.9272</td>\n",
       "    </tr>\n",
       "    <tr>\n",
       "      <th>43861</th>\n",
       "      <td>C2270E</td>\n",
       "      <td>ESTACION VILLEG</td>\n",
       "      <td>-34.7033</td>\n",
       "      <td>-34.7033</td>\n",
       "    </tr>\n",
       "    <tr>\n",
       "      <th>44281</th>\n",
       "      <td>C2311L</td>\n",
       "      <td>CARREFOUR MOREN</td>\n",
       "      <td>-34.6337</td>\n",
       "      <td>-34.6337</td>\n",
       "    </tr>\n",
       "    <tr>\n",
       "      <th>39175</th>\n",
       "      <td>ME270</td>\n",
       "      <td>HOTEL HYATT MZA</td>\n",
       "      <td>0.0000</td>\n",
       "      <td>0.0000</td>\n",
       "    </tr>\n",
       "    <tr>\n",
       "      <th>44344</th>\n",
       "      <td>JU035K</td>\n",
       "      <td>CAIMANCITO REPE</td>\n",
       "      <td>-23.7383</td>\n",
       "      <td>-23.7383</td>\n",
       "    </tr>\n",
       "    <tr>\n",
       "      <th>32038</th>\n",
       "      <td>CT208</td>\n",
       "      <td>CATAMARCA 8</td>\n",
       "      <td>0.0000</td>\n",
       "      <td>0.0000</td>\n",
       "    </tr>\n",
       "    <tr>\n",
       "      <th>55176</th>\n",
       "      <td>ST108</td>\n",
       "      <td>CABRA CORRAL</td>\n",
       "      <td>0.0000</td>\n",
       "      <td>0.0000</td>\n",
       "    </tr>\n",
       "    <tr>\n",
       "      <th>25708</th>\n",
       "      <td>CF959</td>\n",
       "      <td>PERON Y RECONQUISTA</td>\n",
       "      <td>0.0000</td>\n",
       "      <td>0.0000</td>\n",
       "    </tr>\n",
       "    <tr>\n",
       "      <th>44315</th>\n",
       "      <td>CO319J</td>\n",
       "      <td>SANTIAGO TEMPLE</td>\n",
       "      <td>-31.3841</td>\n",
       "      <td>-31.3841</td>\n",
       "    </tr>\n",
       "    <tr>\n",
       "      <th>43898</th>\n",
       "      <td>C2289G</td>\n",
       "      <td>PARQUE IND PILA</td>\n",
       "      <td>-34.4224</td>\n",
       "      <td>-34.4224</td>\n",
       "    </tr>\n",
       "    <tr>\n",
       "      <th>43815</th>\n",
       "      <td>C2233H</td>\n",
       "      <td>COSTANERA NORTE</td>\n",
       "      <td>-34.5503</td>\n",
       "      <td>-34.5503</td>\n",
       "    </tr>\n",
       "    <tr>\n",
       "      <th>44767</th>\n",
       "      <td>SF291G</td>\n",
       "      <td>RINCON 2</td>\n",
       "      <td>-31.6049</td>\n",
       "      <td>-31.6049</td>\n",
       "    </tr>\n",
       "    <tr>\n",
       "      <th>44813</th>\n",
       "      <td>ST109K</td>\n",
       "      <td>CAMPO QUIJANO</td>\n",
       "      <td>-24.9069</td>\n",
       "      <td>-24.9069</td>\n",
       "    </tr>\n",
       "    <tr>\n",
       "      <th>44805</th>\n",
       "      <td>ST104J</td>\n",
       "      <td>EL CARRIL</td>\n",
       "      <td>-25.0707</td>\n",
       "      <td>-25.0707</td>\n",
       "    </tr>\n",
       "    <tr>\n",
       "      <th>62787</th>\n",
       "      <td>BA469</td>\n",
       "      <td>9 DE JULIO 2</td>\n",
       "      <td>0.0000</td>\n",
       "      <td>0.0000</td>\n",
       "    </tr>\n",
       "    <tr>\n",
       "      <th>55210</th>\n",
       "      <td>BA659</td>\n",
       "      <td>MDP 32 EDISON</td>\n",
       "      <td>0.0000</td>\n",
       "      <td>0.0000</td>\n",
       "    </tr>\n",
       "    <tr>\n",
       "      <th>44806</th>\n",
       "      <td>ST104K</td>\n",
       "      <td>EL CARRIL</td>\n",
       "      <td>-25.0707</td>\n",
       "      <td>-25.0707</td>\n",
       "    </tr>\n",
       "    <tr>\n",
       "      <th>44346</th>\n",
       "      <td>JU035Z</td>\n",
       "      <td>CAIMANCITO REPE</td>\n",
       "      <td>-23.7383</td>\n",
       "      <td>-23.7383</td>\n",
       "    </tr>\n",
       "    <tr>\n",
       "      <th>44818</th>\n",
       "      <td>ST110I</td>\n",
       "      <td>CHICOANA</td>\n",
       "      <td>-25.1019</td>\n",
       "      <td>-25.1019</td>\n",
       "    </tr>\n",
       "    <tr>\n",
       "      <th>55191</th>\n",
       "      <td>MI999</td>\n",
       "      <td>CELDA DE PRUEBA</td>\n",
       "      <td>-50.0000</td>\n",
       "      <td>-50.0000</td>\n",
       "    </tr>\n",
       "    <tr>\n",
       "      <th>55714</th>\n",
       "      <td>SF970</td>\n",
       "      <td>ROS OROÑO NVO</td>\n",
       "      <td>0.0000</td>\n",
       "      <td>0.0000</td>\n",
       "    </tr>\n",
       "    <tr>\n",
       "      <th>31966</th>\n",
       "      <td>MI210X</td>\n",
       "      <td>POSADAS E-CELL SHOPP</td>\n",
       "      <td>0.0000</td>\n",
       "      <td>0.0000</td>\n",
       "    </tr>\n",
       "    <tr>\n",
       "      <th>44325</th>\n",
       "      <td>CO640Z</td>\n",
       "      <td>VILLA DE SOTO N</td>\n",
       "      <td>-30.8706</td>\n",
       "      <td>-30.8706</td>\n",
       "    </tr>\n",
       "    <tr>\n",
       "      <th>55704</th>\n",
       "      <td>CF268</td>\n",
       "      <td>BOEDO 2</td>\n",
       "      <td>0.0000</td>\n",
       "      <td>0.0000</td>\n",
       "    </tr>\n",
       "    <tr>\n",
       "      <th>44800</th>\n",
       "      <td>ST087L</td>\n",
       "      <td>LA CALDERA</td>\n",
       "      <td>-24.5988</td>\n",
       "      <td>-24.5988</td>\n",
       "    </tr>\n",
       "    <tr>\n",
       "      <th>44364</th>\n",
       "      <td>JU068J</td>\n",
       "      <td>PAMPA BLANCA</td>\n",
       "      <td>-24.5304</td>\n",
       "      <td>-24.5304</td>\n",
       "    </tr>\n",
       "    <tr>\n",
       "      <th>43904</th>\n",
       "      <td>C2289X</td>\n",
       "      <td>PARQUE IND PILA</td>\n",
       "      <td>-34.4224</td>\n",
       "      <td>-34.4224</td>\n",
       "    </tr>\n",
       "    <tr>\n",
       "      <th>43331</th>\n",
       "      <td>C1492L</td>\n",
       "      <td>SAN CRISTOBAL 3</td>\n",
       "      <td>-34.6258</td>\n",
       "      <td>-34.6258</td>\n",
       "    </tr>\n",
       "    <tr>\n",
       "      <th>44825</th>\n",
       "      <td>C2129C</td>\n",
       "      <td>MASCHWITZ 4</td>\n",
       "      <td>-34.4051</td>\n",
       "      <td>-34.4051</td>\n",
       "    </tr>\n",
       "    <tr>\n",
       "      <th>44323</th>\n",
       "      <td>CO640K</td>\n",
       "      <td>VILLA DE SOTO N</td>\n",
       "      <td>-30.8706</td>\n",
       "      <td>-30.8706</td>\n",
       "    </tr>\n",
       "    <tr>\n",
       "      <th>44793</th>\n",
       "      <td>SF984L</td>\n",
       "      <td>ESTACION BUENOS</td>\n",
       "      <td>-32.9717</td>\n",
       "      <td>-32.9717</td>\n",
       "    </tr>\n",
       "    <tr>\n",
       "      <th>43879</th>\n",
       "      <td>C2276B</td>\n",
       "      <td>OLIVOS CEMENTER</td>\n",
       "      <td>-34.5142</td>\n",
       "      <td>-34.5142</td>\n",
       "    </tr>\n",
       "    <tr>\n",
       "      <th>55609</th>\n",
       "      <td>CF631</td>\n",
       "      <td>PALERMO 4</td>\n",
       "      <td>0.0000</td>\n",
       "      <td>0.0000</td>\n",
       "    </tr>\n",
       "    <tr>\n",
       "      <th>43396</th>\n",
       "      <td>C2163A</td>\n",
       "      <td>LIBERTAD 4 GOLF</td>\n",
       "      <td>-34.6969</td>\n",
       "      <td>-34.6969</td>\n",
       "    </tr>\n",
       "    <tr>\n",
       "      <th>44386</th>\n",
       "      <td>JU104K</td>\n",
       "      <td>EL PIQUETE</td>\n",
       "      <td>-24.1782</td>\n",
       "      <td>-24.1782</td>\n",
       "    </tr>\n",
       "    <tr>\n",
       "      <th>43878</th>\n",
       "      <td>C2276A</td>\n",
       "      <td>OLIVOS CEMENTER</td>\n",
       "      <td>-34.5142</td>\n",
       "      <td>-34.5142</td>\n",
       "    </tr>\n",
       "    <tr>\n",
       "      <th>55701</th>\n",
       "      <td>BA451</td>\n",
       "      <td>GENERAL VILLEGAS 2</td>\n",
       "      <td>0.0000</td>\n",
       "      <td>0.0000</td>\n",
       "    </tr>\n",
       "    <tr>\n",
       "      <th>55172</th>\n",
       "      <td>SJ037</td>\n",
       "      <td>VILLA BORJAS</td>\n",
       "      <td>0.0000</td>\n",
       "      <td>0.0000</td>\n",
       "    </tr>\n",
       "    <tr>\n",
       "      <th>44354</th>\n",
       "      <td>JU050G</td>\n",
       "      <td>PUESTO VIEJO</td>\n",
       "      <td>-24.4809</td>\n",
       "      <td>-24.4809</td>\n",
       "    </tr>\n",
       "    <tr>\n",
       "      <th>55124</th>\n",
       "      <td>PA201</td>\n",
       "      <td>STR 5 COLONIA LAGOS</td>\n",
       "      <td>0.0000</td>\n",
       "      <td>0.0000</td>\n",
       "    </tr>\n",
       "    <tr>\n",
       "      <th>7566</th>\n",
       "      <td>T0990A</td>\n",
       "      <td>BTS TEST M13</td>\n",
       "      <td>0.0000</td>\n",
       "      <td>0.0000</td>\n",
       "    </tr>\n",
       "    <tr>\n",
       "      <th>55102</th>\n",
       "      <td>CB222</td>\n",
       "      <td>COMODORO 9</td>\n",
       "      <td>0.0000</td>\n",
       "      <td>0.0000</td>\n",
       "    </tr>\n",
       "    <tr>\n",
       "      <th>44820</th>\n",
       "      <td>ST110K</td>\n",
       "      <td>CHICOANA</td>\n",
       "      <td>-25.1019</td>\n",
       "      <td>-25.1019</td>\n",
       "    </tr>\n",
       "    <tr>\n",
       "      <th>55715</th>\n",
       "      <td>CR215</td>\n",
       "      <td>LORETO</td>\n",
       "      <td>0.0000</td>\n",
       "      <td>0.0000</td>\n",
       "    </tr>\n",
       "    <tr>\n",
       "      <th>55138</th>\n",
       "      <td>BA477</td>\n",
       "      <td>PALEMON HUERGO</td>\n",
       "      <td>0.0000</td>\n",
       "      <td>0.0000</td>\n",
       "    </tr>\n",
       "    <tr>\n",
       "      <th>44779</th>\n",
       "      <td>SF432L</td>\n",
       "      <td>COMBATIENTES DE</td>\n",
       "      <td>-31.5691</td>\n",
       "      <td>-31.5691</td>\n",
       "    </tr>\n",
       "    <tr>\n",
       "      <th>44765</th>\n",
       "      <td>RJ209L</td>\n",
       "      <td>LA RIOJA 9</td>\n",
       "      <td>-29.4174</td>\n",
       "      <td>-29.4174</td>\n",
       "    </tr>\n",
       "    <tr>\n",
       "      <th>55608</th>\n",
       "      <td>CF816</td>\n",
       "      <td>CORRIENTES Y URIBURU</td>\n",
       "      <td>0.0000</td>\n",
       "      <td>0.0000</td>\n",
       "    </tr>\n",
       "  </tbody>\n",
       "</table>\n",
       "</div>"
      ],
      "text/plain": [
       "       CEL_ID       CEL_DESCRIPTION   LATITUD  LONGITUD\n",
       "43386  C2098K            JAUREGUI 2  -34.5850  -34.5850\n",
       "55204   COX05          LA FALDA POI    0.0000    0.0000\n",
       "43833  C2250L            EL LAUQUEN  -34.9272  -34.9272\n",
       "43861  C2270E       ESTACION VILLEG  -34.7033  -34.7033\n",
       "44281  C2311L       CARREFOUR MOREN  -34.6337  -34.6337\n",
       "39175   ME270       HOTEL HYATT MZA    0.0000    0.0000\n",
       "44344  JU035K       CAIMANCITO REPE  -23.7383  -23.7383\n",
       "32038   CT208           CATAMARCA 8    0.0000    0.0000\n",
       "55176   ST108          CABRA CORRAL    0.0000    0.0000\n",
       "25708   CF959   PERON Y RECONQUISTA    0.0000    0.0000\n",
       "44315  CO319J       SANTIAGO TEMPLE  -31.3841  -31.3841\n",
       "43898  C2289G       PARQUE IND PILA  -34.4224  -34.4224\n",
       "43815  C2233H       COSTANERA NORTE  -34.5503  -34.5503\n",
       "44767  SF291G              RINCON 2  -31.6049  -31.6049\n",
       "44813  ST109K         CAMPO QUIJANO  -24.9069  -24.9069\n",
       "44805  ST104J             EL CARRIL  -25.0707  -25.0707\n",
       "62787   BA469          9 DE JULIO 2    0.0000    0.0000\n",
       "55210   BA659         MDP 32 EDISON    0.0000    0.0000\n",
       "44806  ST104K             EL CARRIL  -25.0707  -25.0707\n",
       "44346  JU035Z       CAIMANCITO REPE  -23.7383  -23.7383\n",
       "44818  ST110I              CHICOANA  -25.1019  -25.1019\n",
       "55191   MI999       CELDA DE PRUEBA  -50.0000  -50.0000\n",
       "55714   SF970         ROS OROÑO NVO    0.0000    0.0000\n",
       "31966  MI210X  POSADAS E-CELL SHOPP    0.0000    0.0000\n",
       "44325  CO640Z       VILLA DE SOTO N  -30.8706  -30.8706\n",
       "55704   CF268               BOEDO 2    0.0000    0.0000\n",
       "44800  ST087L            LA CALDERA  -24.5988  -24.5988\n",
       "44364  JU068J          PAMPA BLANCA  -24.5304  -24.5304\n",
       "43904  C2289X       PARQUE IND PILA  -34.4224  -34.4224\n",
       "43331  C1492L       SAN CRISTOBAL 3  -34.6258  -34.6258\n",
       "44825  C2129C           MASCHWITZ 4  -34.4051  -34.4051\n",
       "44323  CO640K       VILLA DE SOTO N  -30.8706  -30.8706\n",
       "44793  SF984L       ESTACION BUENOS  -32.9717  -32.9717\n",
       "43879  C2276B       OLIVOS CEMENTER  -34.5142  -34.5142\n",
       "55609   CF631             PALERMO 4    0.0000    0.0000\n",
       "43396  C2163A       LIBERTAD 4 GOLF  -34.6969  -34.6969\n",
       "44386  JU104K            EL PIQUETE  -24.1782  -24.1782\n",
       "43878  C2276A       OLIVOS CEMENTER  -34.5142  -34.5142\n",
       "55701   BA451    GENERAL VILLEGAS 2    0.0000    0.0000\n",
       "55172   SJ037          VILLA BORJAS    0.0000    0.0000\n",
       "44354  JU050G          PUESTO VIEJO  -24.4809  -24.4809\n",
       "55124   PA201   STR 5 COLONIA LAGOS    0.0000    0.0000\n",
       "7566   T0990A          BTS TEST M13    0.0000    0.0000\n",
       "55102   CB222            COMODORO 9    0.0000    0.0000\n",
       "44820  ST110K              CHICOANA  -25.1019  -25.1019\n",
       "55715   CR215                LORETO    0.0000    0.0000\n",
       "55138   BA477        PALEMON HUERGO    0.0000    0.0000\n",
       "44779  SF432L       COMBATIENTES DE  -31.5691  -31.5691\n",
       "44765  RJ209L            LA RIOJA 9  -29.4174  -29.4174\n",
       "55608   CF816  CORRIENTES Y URIBURU    0.0000    0.0000"
      ]
     },
     "execution_count": 28,
     "metadata": {},
     "output_type": "execute_result"
    }
   ],
   "source": [
    "print(raw_antennas[raw_antennas['LATITUD']==raw_antennas['LONGITUD']].shape)\n",
    "raw_antennas[raw_antennas['LATITUD']==raw_antennas['LONGITUD']].sample(50)"
   ]
  },
  {
   "cell_type": "code",
   "execution_count": 45,
   "metadata": {
    "collapsed": false,
    "scrolled": true
   },
   "outputs": [
    {
     "data": {
      "text/plain": [
       "('will drop 20 raw ants',\n",
       " array(['SE083', 'SF432H', 'C2289J', 'JU048H', 'C1545H', 'CO581', 'T0990E',\n",
       "        'RJ045', 'CO640L', 'CO319J', 'ME266', 'RJ057J', 'RN104H', 'SE095',\n",
       "        'ME273', 'C2311E', 'ST110', 'CO622', 'MI210D', 'C2173K'], dtype=object))"
      ]
     },
     "execution_count": 45,
     "metadata": {},
     "output_type": "execute_result"
    }
   ],
   "source": [
    "to_drop = raw_antennas[raw_antennas['LATITUD']==raw_antennas['LONGITUD']]\n",
    "to_drop  = to_drop['CEL_ID'].sample(20).values\n",
    "\"will drop %s raw ants\" % len(to_drop), to_drop"
   ]
  },
  {
   "cell_type": "code",
   "execution_count": 47,
   "metadata": {
    "collapsed": false
   },
   "outputs": [
    {
     "data": {
      "text/plain": [
       "array(['SE083', 'SF432H', 'C2289J', 'JU048H', 'C1545H', 'CO581', 'T0990E',\n",
       "       'RJ045', 'CO640L', 'CO319J', 'ME266', 'RJ057J', 'RN104H', 'SE095',\n",
       "       'ME273', 'C2311E', 'ST110', 'CO622', 'MI210D', 'C2173K'], dtype=object)"
      ]
     },
     "execution_count": 47,
     "metadata": {},
     "output_type": "execute_result"
    }
   ],
   "source": [
    "to_drop"
   ]
  },
  {
   "cell_type": "code",
   "execution_count": 48,
   "metadata": {
    "collapsed": false
   },
   "outputs": [],
   "source": [
    "raw_antennas = raw_antennas[~(raw_antennas['LATITUD']==raw_antennas['LONGITUD'])]\n",
    "to_drop = list(set(raw_antennas[raw_antennas['LATITUD']==raw_antennas['LONGITUD']]['CEL_ID'].values))\n",
    "dropped_antennas += to_drop\n",
    "dropped_antennas = list(set(dropped_antennas))"
   ]
  },
  {
   "cell_type": "code",
   "execution_count": 49,
   "metadata": {
    "collapsed": false,
    "scrolled": true
   },
   "outputs": [
    {
     "data": {
      "text/plain": [
       "array(['ST216B', 'TEGNQX', 'CF491', 'C9690Z', 'MI048', 'TU999', 'RG096',\n",
       "       'RG330', 'RG087', 'GLOB', 'FO005', 'RG077', 'BA446', 'PPGYA',\n",
       "       'TEGYNX', 'RG067', 'BA460', 'ME081', 'TIMSU', 'RG361', 'RG410',\n",
       "       'PPPSD', 'CF978', 'RJ210', 'RG241', 'SL026', 'CO998D', 'RG181',\n",
       "       'CF922', 'PPZPL', 'SC046E', 'RG074', 'RG210', 'MI002', 'RG132',\n",
       "       'CF995A', 'RG415', 'PPGLP', 'RG448', 'PPVDM', 'CO991', 'TECR2C',\n",
       "       'SFTSTX', 'TECDBE', 'RG278', 'RG376', 'RG497', 'PPCCD', 'BA169',\n",
       "       'RG362'], \n",
       "      dtype='|S6')"
      ]
     },
     "execution_count": 49,
     "metadata": {},
     "output_type": "execute_result"
    }
   ],
   "source": [
    "np.random.choice(dropped_antennas,size = 50, replace = False)"
   ]
  },
  {
   "cell_type": "markdown",
   "metadata": {},
   "source": [
    "## Delete last char???\n",
    "from raw_antennas CEL_ID hash since those are in fact equal antennas "
   ]
  },
  {
   "cell_type": "code",
   "execution_count": 52,
   "metadata": {
    "collapsed": false
   },
   "outputs": [
    {
     "data": {
      "text/plain": [
       "(5    4520\n",
       " Name: CEL_ID, dtype: int64, 6    5384\n",
       " 5     429\n",
       " Name: len, dtype: int64)"
      ]
     },
     "execution_count": 52,
     "metadata": {},
     "output_type": "execute_result"
    }
   ],
   "source": [
    "# como caro hablo de filtrar el ultimo caracter del hash_name, sospecho que NO todas las antennas tienen este problema\n",
    "# y que hay algunas \"ya\" filtradas del ultimo dataset, i.e. tienen char_length == 5\n",
    "\n",
    "test = antenna_hash_map['CEL_ID'].apply(lambda x: len(x))\n",
    "\n",
    "test2 = raw_antennas.copy()\n",
    "test2['name'] = test2['CEL_ID'].apply(lambda x: x[:-1] if len(x) == 6 else x)\n",
    "#me quedo con aquellas de len --> 5\n",
    "test2 = test2[(test2['name'].apply(lambda x: len(x) == 5)).values]\n",
    "test2 = test2.groupby('name' ).first()\n",
    "test2['len'] = test2.CEL_ID.map(lambda x: len(x))\n",
    "\n",
    "test.value_counts(), test2['len'].value_counts()"
   ]
  },
  {
   "cell_type": "code",
   "execution_count": 53,
   "metadata": {
    "collapsed": false
   },
   "outputs": [
    {
     "data": {
      "text/html": [
       "<div>\n",
       "<table border=\"1\" class=\"dataframe\">\n",
       "  <thead>\n",
       "    <tr style=\"text-align: right;\">\n",
       "      <th></th>\n",
       "      <th>CEL_ID</th>\n",
       "      <th>SURR_ID</th>\n",
       "    </tr>\n",
       "  </thead>\n",
       "  <tbody>\n",
       "    <tr>\n",
       "      <th>0</th>\n",
       "      <td>AA001</td>\n",
       "      <td>3416</td>\n",
       "    </tr>\n",
       "    <tr>\n",
       "      <th>1</th>\n",
       "      <td>B1061</td>\n",
       "      <td>4371</td>\n",
       "    </tr>\n",
       "    <tr>\n",
       "      <th>2</th>\n",
       "      <td>BA001</td>\n",
       "      <td>3020</td>\n",
       "    </tr>\n",
       "    <tr>\n",
       "      <th>3</th>\n",
       "      <td>BA003</td>\n",
       "      <td>1665</td>\n",
       "    </tr>\n",
       "    <tr>\n",
       "      <th>4</th>\n",
       "      <td>BA004</td>\n",
       "      <td>1078</td>\n",
       "    </tr>\n",
       "  </tbody>\n",
       "</table>\n",
       "</div>"
      ],
      "text/plain": [
       "  CEL_ID  SURR_ID\n",
       "0  AA001     3416\n",
       "1  B1061     4371\n",
       "2  BA001     3020\n",
       "3  BA003     1665\n",
       "4  BA004     1078"
      ]
     },
     "execution_count": 53,
     "metadata": {},
     "output_type": "execute_result"
    }
   ],
   "source": [
    "antenna_hash_map.head()"
   ]
  },
  {
   "cell_type": "code",
   "execution_count": 54,
   "metadata": {
    "collapsed": false
   },
   "outputs": [
    {
     "data": {
      "text/html": [
       "<div>\n",
       "<table border=\"1\" class=\"dataframe\">\n",
       "  <thead>\n",
       "    <tr style=\"text-align: right;\">\n",
       "      <th></th>\n",
       "      <th>CEL_ID</th>\n",
       "      <th>CEL_DESCRIPTION</th>\n",
       "      <th>LATITUD</th>\n",
       "      <th>LONGITUD</th>\n",
       "      <th>len</th>\n",
       "    </tr>\n",
       "    <tr>\n",
       "      <th>name</th>\n",
       "      <th></th>\n",
       "      <th></th>\n",
       "      <th></th>\n",
       "      <th></th>\n",
       "      <th></th>\n",
       "    </tr>\n",
       "  </thead>\n",
       "  <tbody>\n",
       "    <tr>\n",
       "      <th>AA001</th>\n",
       "      <td>AA001A</td>\n",
       "      <td>ANTARTIDA ARGENTINA</td>\n",
       "      <td>-64.2544</td>\n",
       "      <td>-56.6488</td>\n",
       "      <td>6</td>\n",
       "    </tr>\n",
       "    <tr>\n",
       "      <th>B1061</th>\n",
       "      <td>B1061A</td>\n",
       "      <td>MUNDO MARNO</td>\n",
       "      <td>-36.3390</td>\n",
       "      <td>-56.7468</td>\n",
       "      <td>6</td>\n",
       "    </tr>\n",
       "    <tr>\n",
       "      <th>B1062</th>\n",
       "      <td>B1062A</td>\n",
       "      <td>BUNGE RAMALLO</td>\n",
       "      <td>-33.4578</td>\n",
       "      <td>-60.0522</td>\n",
       "      <td>6</td>\n",
       "    </tr>\n",
       "    <tr>\n",
       "      <th>BA001</th>\n",
       "      <td>BA001</td>\n",
       "      <td>GOBERNADOR UGARTE</td>\n",
       "      <td>-35.1641</td>\n",
       "      <td>-60.0866</td>\n",
       "      <td>5</td>\n",
       "    </tr>\n",
       "    <tr>\n",
       "      <th>BA003</th>\n",
       "      <td>BA003G</td>\n",
       "      <td>25 DE MAYO</td>\n",
       "      <td>-35.4275</td>\n",
       "      <td>-60.1538</td>\n",
       "      <td>6</td>\n",
       "    </tr>\n",
       "  </tbody>\n",
       "</table>\n",
       "</div>"
      ],
      "text/plain": [
       "       CEL_ID      CEL_DESCRIPTION   LATITUD  LONGITUD  len\n",
       "name                                                       \n",
       "AA001  AA001A  ANTARTIDA ARGENTINA  -64.2544  -56.6488    6\n",
       "B1061  B1061A          MUNDO MARNO  -36.3390  -56.7468    6\n",
       "B1062  B1062A        BUNGE RAMALLO  -33.4578  -60.0522    6\n",
       "BA001   BA001    GOBERNADOR UGARTE  -35.1641  -60.0866    5\n",
       "BA003  BA003G           25 DE MAYO  -35.4275  -60.1538    6"
      ]
     },
     "execution_count": 54,
     "metadata": {},
     "output_type": "execute_result"
    }
   ],
   "source": [
    "test2.head()"
   ]
  },
  {
   "cell_type": "code",
   "execution_count": 55,
   "metadata": {
    "collapsed": false
   },
   "outputs": [
    {
     "data": {
      "text/plain": [
       "(5820, 4513)"
      ]
     },
     "execution_count": 55,
     "metadata": {},
     "output_type": "execute_result"
    }
   ],
   "source": [
    "# algunos chequeos de rigor a ve cuanto se intersecan y cuanto es la union de las 2\n",
    "len(set(test2.index.values) | set(antenna_hash_map['CEL_ID'])) , len(set(test2.index.values) & set(antenna_hash_map['CEL_ID']))"
   ]
  },
  {
   "cell_type": "code",
   "execution_count": 56,
   "metadata": {
    "collapsed": false
   },
   "outputs": [
    {
     "data": {
      "text/plain": [
       "(5813, 4520)"
      ]
     },
     "execution_count": 56,
     "metadata": {},
     "output_type": "execute_result"
    }
   ],
   "source": [
    "len(set(test2.index.values)) , len(set(antenna_hash_map['CEL_ID']))"
   ]
  },
  {
   "cell_type": "markdown",
   "metadata": {},
   "source": [
    "# Problema\n",
    "Diferencia en el count de c/ datset, entre el raw y el de caro"
   ]
  },
  {
   "cell_type": "code",
   "execution_count": 57,
   "metadata": {
    "collapsed": false,
    "scrolled": true
   },
   "outputs": [
    {
     "name": "stdout",
     "output_type": "stream",
     "text": [
      "Dropping 2 badly hashed ants\n"
     ]
    }
   ],
   "source": [
    "to_drop = raw_antennas[raw_antennas['CEL_ID'].apply(lambda x : len(x)<5)]['CEL_ID'].values\n",
    "to_drop  = list(set(to_drop))\n",
    "print('Dropping %s badly hashed ants' %len(to_drop))\n",
    "\n",
    "raw_antennas = raw_antennas[~raw_antennas['CEL_ID'].isin(to_drop)]\n",
    "\n",
    "dropped_antennas += (to_drop)"
   ]
  },
  {
   "cell_type": "code",
   "execution_count": 58,
   "metadata": {
    "collapsed": false
   },
   "outputs": [
    {
     "data": {
      "text/plain": [
       "['CF25', 'MROS']"
      ]
     },
     "execution_count": 58,
     "metadata": {},
     "output_type": "execute_result"
    }
   ],
   "source": [
    "to_drop"
   ]
  },
  {
   "cell_type": "markdown",
   "metadata": {},
   "source": [
    "# IMPORTANTE\n",
    "Los resultados de esta parte son muy importantes para determinar que como agrupar las antennas y para determinar posibles errores futuros en el procesamiento. Pues la *hipotesis* es que el hash de las antenas esta extendido en un caracter por lo cual la base es esencialmente una base con multiples duplicaiciones de antenas (una por c/ caracter excedente) "
   ]
  },
  {
   "cell_type": "code",
   "execution_count": 59,
   "metadata": {
    "collapsed": true
   },
   "outputs": [],
   "source": [
    "raw_antennas['CEL_ID1'] = raw_antennas['CEL_ID'].apply(lambda x: x[:-1] if len(x) == 6 else x)\n",
    "\n",
    "grouped = raw_antennas.groupby('CEL_ID1')"
   ]
  },
  {
   "cell_type": "code",
   "execution_count": 60,
   "metadata": {
    "collapsed": false,
    "scrolled": true
   },
   "outputs": [
    {
     "name": "stdout",
     "output_type": "stream",
     "text": [
      "Of 200 antennas 66.0 were \"bad\", ratio is 0.33 \n",
      " A sample of 10 bad hashes is shown:\n"
     ]
    },
    {
     "data": {
      "text/plain": [
       "['SF275A',\n",
       " 'SF275',\n",
       " 'RJ001K',\n",
       " 'RJ001',\n",
       " 'ME231H',\n",
       " 'ME231',\n",
       " 'CR017I',\n",
       " 'CR017',\n",
       " 'C1145Z',\n",
       " 'C1145',\n",
       " 'CF318X',\n",
       " 'CF318',\n",
       " 'C1454B',\n",
       " 'C1454',\n",
       " 'BA643L',\n",
       " 'BA643',\n",
       " 'C1473Z',\n",
       " 'C1473',\n",
       " 'ST124C',\n",
       " 'ST124']"
      ]
     },
     "execution_count": 60,
     "metadata": {},
     "output_type": "execute_result"
    }
   ],
   "source": [
    "#a random ant is stripped from its last char and tested to see if its lat/long always matches\n",
    "total_analyzed = 200\n",
    "bad_antenna_list = []\n",
    "for i in range(total_analyzed):\n",
    "    ant = raw_antennas.sample(1)['CEL_ID'].values[0]\n",
    "    if len(ant) == 6:\n",
    "        ant2 = ant[:-1]\n",
    "    group1 = grouped.get_group(ant2)\n",
    "    res = ((group1['LATITUD'] == group1.iloc[0]['LATITUD']) & (group1['LONGITUD'] == group1.iloc[0]['LONGITUD'])).all()\n",
    "    if not(res):\n",
    "        bad_antenna_list+= [ant,ant2]\n",
    "\n",
    "bad_antennas=len(bad_antenna_list)*0.5        \n",
    "print('Of {1} antennas {0} were \"bad\", ratio is {2} \\n A sample of 10 bad hashes is shown:'.format(bad_antennas,total_analyzed,\n",
    "                                                            bad_antennas/total_analyzed))\n",
    "bad_antenna_list[0:20]"
   ]
  },
  {
   "cell_type": "code",
   "execution_count": 61,
   "metadata": {
    "collapsed": false,
    "scrolled": true
   },
   "outputs": [
    {
     "data": {
      "text/plain": [
       "49252    True\n",
       "49253    True\n",
       "49254    True\n",
       "49255    True\n",
       "49256    True\n",
       "49257    True\n",
       "49258    True\n",
       "53982    True\n",
       "53983    True\n",
       "53984    True\n",
       "53985    True\n",
       "53986    True\n",
       "53987    True\n",
       "53988    True\n",
       "dtype: bool"
      ]
     },
     "execution_count": 61,
     "metadata": {},
     "output_type": "execute_result"
    }
   ],
   "source": [
    "#TEST IF lat/longs along stripped antenna hashes are consistent in a random group i.e. all equal to the first row\n",
    "(group1['LATITUD'] == group1.iloc[0]['LATITUD']) & (group1['LONGITUD'] == group1.iloc[0]['LONGITUD'])"
   ]
  },
  {
   "cell_type": "code",
   "execution_count": 62,
   "metadata": {
    "collapsed": false,
    "scrolled": true
   },
   "outputs": [
    {
     "name": "stdout",
     "output_type": "stream",
     "text": [
      "SL104H\n"
     ]
    },
    {
     "data": {
      "text/html": [
       "<div>\n",
       "<table border=\"1\" class=\"dataframe\">\n",
       "  <thead>\n",
       "    <tr style=\"text-align: right;\">\n",
       "      <th></th>\n",
       "      <th>CEL_ID</th>\n",
       "      <th>CEL_DESCRIPTION</th>\n",
       "      <th>LATITUD</th>\n",
       "      <th>LONGITUD</th>\n",
       "      <th>CEL_ID1</th>\n",
       "    </tr>\n",
       "  </thead>\n",
       "  <tbody>\n",
       "    <tr>\n",
       "      <th>53983</th>\n",
       "      <td>SL104H</td>\n",
       "      <td>AERÓDROMO VILLA MERC</td>\n",
       "      <td>-33.6522</td>\n",
       "      <td>-65.4304</td>\n",
       "      <td>SL104</td>\n",
       "    </tr>\n",
       "  </tbody>\n",
       "</table>\n",
       "</div>"
      ],
      "text/plain": [
       "       CEL_ID       CEL_DESCRIPTION   LATITUD  LONGITUD CEL_ID1\n",
       "53983  SL104H  AERÓDROMO VILLA MERC  -33.6522  -65.4304   SL104"
      ]
     },
     "execution_count": 62,
     "metadata": {},
     "output_type": "execute_result"
    }
   ],
   "source": [
    "print(ant)\n",
    "raw_antennas[raw_antennas['CEL_ID'].str.contains(ant)]"
   ]
  },
  {
   "cell_type": "markdown",
   "metadata": {},
   "source": [
    "## We proceed\n",
    "with antenna hash last char stripping anyways"
   ]
  },
  {
   "cell_type": "code",
   "execution_count": 63,
   "metadata": {
    "collapsed": false
   },
   "outputs": [],
   "source": [
    "raw_antennas.drop('CEL_ID',axis = 1, inplace = True)\n",
    "raw_antennas.rename(columns={'CEL_ID1':'CEL_ID'},inplace=True)"
   ]
  },
  {
   "cell_type": "code",
   "execution_count": 64,
   "metadata": {
    "collapsed": false
   },
   "outputs": [
    {
     "data": {
      "text/html": [
       "<div>\n",
       "<table border=\"1\" class=\"dataframe\">\n",
       "  <thead>\n",
       "    <tr style=\"text-align: right;\">\n",
       "      <th></th>\n",
       "      <th>CEL_DESCRIPTION</th>\n",
       "      <th>LATITUD</th>\n",
       "      <th>LONGITUD</th>\n",
       "      <th>CEL_ID</th>\n",
       "    </tr>\n",
       "  </thead>\n",
       "  <tbody>\n",
       "    <tr>\n",
       "      <th>0</th>\n",
       "      <td>CHATEAU - VILLA AGUR</td>\n",
       "      <td>-31.3703</td>\n",
       "      <td>-64.2403</td>\n",
       "      <td>CO534</td>\n",
       "    </tr>\n",
       "    <tr>\n",
       "      <th>1</th>\n",
       "      <td>CHATEAU - VILLA AGUR</td>\n",
       "      <td>-31.3703</td>\n",
       "      <td>-64.2403</td>\n",
       "      <td>CO534</td>\n",
       "    </tr>\n",
       "    <tr>\n",
       "      <th>2</th>\n",
       "      <td>CHATEAU - VILLA AGUR</td>\n",
       "      <td>-31.3703</td>\n",
       "      <td>-64.2403</td>\n",
       "      <td>CO534</td>\n",
       "    </tr>\n",
       "    <tr>\n",
       "      <th>3</th>\n",
       "      <td>BARRIO EL ROSEDAL</td>\n",
       "      <td>-31.4353</td>\n",
       "      <td>-64.2248</td>\n",
       "      <td>CO535</td>\n",
       "    </tr>\n",
       "    <tr>\n",
       "      <th>4</th>\n",
       "      <td>BARRIO EL ROSEDAL</td>\n",
       "      <td>-31.4353</td>\n",
       "      <td>-64.2248</td>\n",
       "      <td>CO535</td>\n",
       "    </tr>\n",
       "  </tbody>\n",
       "</table>\n",
       "</div>"
      ],
      "text/plain": [
       "        CEL_DESCRIPTION   LATITUD  LONGITUD CEL_ID\n",
       "0  CHATEAU - VILLA AGUR  -31.3703  -64.2403  CO534\n",
       "1  CHATEAU - VILLA AGUR  -31.3703  -64.2403  CO534\n",
       "2  CHATEAU - VILLA AGUR  -31.3703  -64.2403  CO534\n",
       "3     BARRIO EL ROSEDAL  -31.4353  -64.2248  CO535\n",
       "4     BARRIO EL ROSEDAL  -31.4353  -64.2248  CO535"
      ]
     },
     "execution_count": 64,
     "metadata": {},
     "output_type": "execute_result"
    }
   ],
   "source": [
    "raw_antennas.head()"
   ]
  },
  {
   "cell_type": "code",
   "execution_count": 65,
   "metadata": {
    "collapsed": false
   },
   "outputs": [
    {
     "name": "stdout",
     "output_type": "stream",
     "text": [
      "(67611, 4)\n",
      "(5813, 3)\n"
     ]
    }
   ],
   "source": [
    "# since all rows are \"almost\" equal per CEL_ID group, we aggregate that info per antenna\n",
    "print(raw_antennas.shape)\n",
    "raw_antennas = raw_antennas.groupby('CEL_ID').first()\n",
    "print(raw_antennas.shape)"
   ]
  },
  {
   "cell_type": "code",
   "execution_count": null,
   "metadata": {
    "collapsed": true
   },
   "outputs": [],
   "source": []
  },
  {
   "cell_type": "markdown",
   "metadata": {},
   "source": [
    "### testeamos el join de las antennas en hash con las surrogadas por caro\n",
    "para ver cuantas antennas se quedan afuera, o no tenemos mas"
   ]
  },
  {
   "cell_type": "code",
   "execution_count": 66,
   "metadata": {
    "collapsed": false,
    "scrolled": true
   },
   "outputs": [
    {
     "data": {
      "text/plain": [
       "(5820, 5)"
      ]
     },
     "execution_count": 66,
     "metadata": {},
     "output_type": "execute_result"
    }
   ],
   "source": [
    "# testeamos el join de las antennas en hash con las surrogadas\n",
    "test = pd.merge(raw_antennas.reset_index(level=0),antenna_hash_map,on = 'CEL_ID', how='outer')\n",
    "\n",
    "test.shape"
   ]
  },
  {
   "cell_type": "code",
   "execution_count": 67,
   "metadata": {
    "collapsed": false
   },
   "outputs": [
    {
     "data": {
      "text/html": [
       "<div>\n",
       "<table border=\"1\" class=\"dataframe\">\n",
       "  <thead>\n",
       "    <tr style=\"text-align: right;\">\n",
       "      <th></th>\n",
       "      <th>CEL_ID</th>\n",
       "      <th>CEL_DESCRIPTION</th>\n",
       "      <th>LATITUD</th>\n",
       "      <th>LONGITUD</th>\n",
       "      <th>SURR_ID</th>\n",
       "    </tr>\n",
       "  </thead>\n",
       "  <tbody>\n",
       "  </tbody>\n",
       "</table>\n",
       "</div>"
      ],
      "text/plain": [
       "Empty DataFrame\n",
       "Columns: [CEL_ID, CEL_DESCRIPTION, LATITUD, LONGITUD, SURR_ID]\n",
       "Index: []"
      ]
     },
     "execution_count": 67,
     "metadata": {},
     "output_type": "execute_result"
    }
   ],
   "source": [
    "test[test['CEL_ID'].isnull()]"
   ]
  },
  {
   "cell_type": "code",
   "execution_count": 68,
   "metadata": {
    "collapsed": false,
    "scrolled": true
   },
   "outputs": [
    {
     "data": {
      "text/plain": [
       "(1300, 5)"
      ]
     },
     "execution_count": 68,
     "metadata": {},
     "output_type": "execute_result"
    }
   ],
   "source": [
    "test[test['SURR_ID'].isnull()].shape"
   ]
  },
  {
   "cell_type": "code",
   "execution_count": 71,
   "metadata": {
    "collapsed": false,
    "scrolled": true
   },
   "outputs": [
    {
     "data": {
      "text/html": [
       "<div>\n",
       "<table border=\"1\" class=\"dataframe\">\n",
       "  <thead>\n",
       "    <tr style=\"text-align: right;\">\n",
       "      <th></th>\n",
       "      <th>CEL_ID</th>\n",
       "      <th>CEL_DESCRIPTION</th>\n",
       "      <th>LATITUD</th>\n",
       "      <th>LONGITUD</th>\n",
       "      <th>SURR_ID</th>\n",
       "    </tr>\n",
       "  </thead>\n",
       "  <tbody>\n",
       "    <tr>\n",
       "      <th>1353</th>\n",
       "      <td>C1762</td>\n",
       "      <td>V BERNAL OE 1</td>\n",
       "      <td>-34.7261</td>\n",
       "      <td>-58.3252</td>\n",
       "      <td>NaN</td>\n",
       "    </tr>\n",
       "    <tr>\n",
       "      <th>2194</th>\n",
       "      <td>CF101</td>\n",
       "      <td>LOS PINOS</td>\n",
       "      <td>-34.6648</td>\n",
       "      <td>-58.5903</td>\n",
       "      <td>NaN</td>\n",
       "    </tr>\n",
       "    <tr>\n",
       "      <th>1728</th>\n",
       "      <td>C2221</td>\n",
       "      <td>ALSINA Y VIRREY CEBA</td>\n",
       "      <td>-34.6113</td>\n",
       "      <td>-58.3889</td>\n",
       "      <td>NaN</td>\n",
       "    </tr>\n",
       "    <tr>\n",
       "      <th>5587</th>\n",
       "      <td>ST140</td>\n",
       "      <td>PAYOGASTA</td>\n",
       "      <td>-25.0500</td>\n",
       "      <td>-66.1000</td>\n",
       "      <td>NaN</td>\n",
       "    </tr>\n",
       "    <tr>\n",
       "      <th>5613</th>\n",
       "      <td>ST166</td>\n",
       "      <td>LESSER</td>\n",
       "      <td>-24.6970</td>\n",
       "      <td>-65.4799</td>\n",
       "      <td>NaN</td>\n",
       "    </tr>\n",
       "    <tr>\n",
       "      <th>4994</th>\n",
       "      <td>SF212</td>\n",
       "      <td>MARIA JUANA</td>\n",
       "      <td>-31.6727</td>\n",
       "      <td>-61.7625</td>\n",
       "      <td>NaN</td>\n",
       "    </tr>\n",
       "    <tr>\n",
       "      <th>3118</th>\n",
       "      <td>CO231</td>\n",
       "      <td>V.MARIA DE RIO SECO</td>\n",
       "      <td>-29.9097</td>\n",
       "      <td>-63.7219</td>\n",
       "      <td>NaN</td>\n",
       "    </tr>\n",
       "    <tr>\n",
       "      <th>1370</th>\n",
       "      <td>C1780</td>\n",
       "      <td>AV UNIDAD NAC 2</td>\n",
       "      <td>-34.4905</td>\n",
       "      <td>-58.5135</td>\n",
       "      <td>NaN</td>\n",
       "    </tr>\n",
       "    <tr>\n",
       "      <th>495</th>\n",
       "      <td>BA759</td>\n",
       "      <td>ESCONDIDO B°</td>\n",
       "      <td>-37.3760</td>\n",
       "      <td>-59.0935</td>\n",
       "      <td>NaN</td>\n",
       "    </tr>\n",
       "    <tr>\n",
       "      <th>4974</th>\n",
       "      <td>SF135</td>\n",
       "      <td>ROMANG NUEVO</td>\n",
       "      <td>-29.4988</td>\n",
       "      <td>-59.7513</td>\n",
       "      <td>NaN</td>\n",
       "    </tr>\n",
       "    <tr>\n",
       "      <th>566</th>\n",
       "      <td>BA841</td>\n",
       "      <td>SOLIS</td>\n",
       "      <td>-34.3000</td>\n",
       "      <td>-59.3200</td>\n",
       "      <td>NaN</td>\n",
       "    </tr>\n",
       "    <tr>\n",
       "      <th>5729</th>\n",
       "      <td>TU077</td>\n",
       "      <td>TUCUMAN 22</td>\n",
       "      <td>-26.8342</td>\n",
       "      <td>-65.2081</td>\n",
       "      <td>NaN</td>\n",
       "    </tr>\n",
       "    <tr>\n",
       "      <th>1685</th>\n",
       "      <td>C2174</td>\n",
       "      <td>CIUDADELA 3 NUEVO</td>\n",
       "      <td>-34.6540</td>\n",
       "      <td>-58.5297</td>\n",
       "      <td>NaN</td>\n",
       "    </tr>\n",
       "    <tr>\n",
       "      <th>4010</th>\n",
       "      <td>FO044</td>\n",
       "      <td>LAGUNA BLANCA NUEVO</td>\n",
       "      <td>-25.1325</td>\n",
       "      <td>-58.2444</td>\n",
       "      <td>NaN</td>\n",
       "    </tr>\n",
       "    <tr>\n",
       "      <th>5085</th>\n",
       "      <td>SF319</td>\n",
       "      <td>ARMSTRONG 2</td>\n",
       "      <td>-32.7732</td>\n",
       "      <td>-61.6071</td>\n",
       "      <td>NaN</td>\n",
       "    </tr>\n",
       "    <tr>\n",
       "      <th>1722</th>\n",
       "      <td>C2212</td>\n",
       "      <td>LANUS NORTE 2 NUEVO</td>\n",
       "      <td>-34.6946</td>\n",
       "      <td>-58.3751</td>\n",
       "      <td>NaN</td>\n",
       "    </tr>\n",
       "    <tr>\n",
       "      <th>4714</th>\n",
       "      <td>RN084</td>\n",
       "      <td>GENERAL ROCA 6</td>\n",
       "      <td>-39.0279</td>\n",
       "      <td>-67.5586</td>\n",
       "      <td>NaN</td>\n",
       "    </tr>\n",
       "    <tr>\n",
       "      <th>789</th>\n",
       "      <td>C1169</td>\n",
       "      <td>ALTOS DEL TALAR</td>\n",
       "      <td>-34.4511</td>\n",
       "      <td>-58.6563</td>\n",
       "      <td>NaN</td>\n",
       "    </tr>\n",
       "    <tr>\n",
       "      <th>2786</th>\n",
       "      <td>CF833</td>\n",
       "      <td>AVDA 13 Y CALLE 56</td>\n",
       "      <td>-34.9240</td>\n",
       "      <td>-57.9513</td>\n",
       "      <td>NaN</td>\n",
       "    </tr>\n",
       "    <tr>\n",
       "      <th>1121</th>\n",
       "      <td>C1528</td>\n",
       "      <td>LP TOLOSA 2</td>\n",
       "      <td>-34.8952</td>\n",
       "      <td>-57.9599</td>\n",
       "      <td>NaN</td>\n",
       "    </tr>\n",
       "    <tr>\n",
       "      <th>58</th>\n",
       "      <td>BA082</td>\n",
       "      <td>GENERAL VIAMONTE (LO</td>\n",
       "      <td>-35.0005</td>\n",
       "      <td>-61.0369</td>\n",
       "      <td>NaN</td>\n",
       "    </tr>\n",
       "    <tr>\n",
       "      <th>3040</th>\n",
       "      <td>CO070</td>\n",
       "      <td>VIAMONTE</td>\n",
       "      <td>-33.7480</td>\n",
       "      <td>-63.0950</td>\n",
       "      <td>NaN</td>\n",
       "    </tr>\n",
       "    <tr>\n",
       "      <th>3906</th>\n",
       "      <td>ER124</td>\n",
       "      <td>PARANÁ COSTANERA</td>\n",
       "      <td>-31.7226</td>\n",
       "      <td>-60.5244</td>\n",
       "      <td>NaN</td>\n",
       "    </tr>\n",
       "    <tr>\n",
       "      <th>1980</th>\n",
       "      <td>C2981</td>\n",
       "      <td>WICAP 3FEB11</td>\n",
       "      <td>-34.5773</td>\n",
       "      <td>-58.6034</td>\n",
       "      <td>NaN</td>\n",
       "    </tr>\n",
       "    <tr>\n",
       "      <th>5232</th>\n",
       "      <td>SF494</td>\n",
       "      <td>SFE - WALLMART</td>\n",
       "      <td>-31.6390</td>\n",
       "      <td>-60.6540</td>\n",
       "      <td>NaN</td>\n",
       "    </tr>\n",
       "    <tr>\n",
       "      <th>5185</th>\n",
       "      <td>SF431</td>\n",
       "      <td>SAN JERONIMO -</td>\n",
       "      <td>-31.6486</td>\n",
       "      <td>-60.7085</td>\n",
       "      <td>NaN</td>\n",
       "    </tr>\n",
       "    <tr>\n",
       "      <th>2117</th>\n",
       "      <td>CF024</td>\n",
       "      <td>SAN JUAN</td>\n",
       "      <td>-34.6236</td>\n",
       "      <td>-58.3757</td>\n",
       "      <td>NaN</td>\n",
       "    </tr>\n",
       "    <tr>\n",
       "      <th>5251</th>\n",
       "      <td>SF810</td>\n",
       "      <td>CÓRDOBA Y MITRE</td>\n",
       "      <td>-32.9461</td>\n",
       "      <td>-60.6398</td>\n",
       "      <td>NaN</td>\n",
       "    </tr>\n",
       "    <tr>\n",
       "      <th>2188</th>\n",
       "      <td>CF095</td>\n",
       "      <td>RANELAGH</td>\n",
       "      <td>-34.7906</td>\n",
       "      <td>-58.1992</td>\n",
       "      <td>NaN</td>\n",
       "    </tr>\n",
       "    <tr>\n",
       "      <th>1572</th>\n",
       "      <td>C2055</td>\n",
       "      <td>LA PLATA SUR 3</td>\n",
       "      <td>-34.9763</td>\n",
       "      <td>-57.9949</td>\n",
       "      <td>NaN</td>\n",
       "    </tr>\n",
       "    <tr>\n",
       "      <th>5027</th>\n",
       "      <td>SF249</td>\n",
       "      <td>SANTA FE (RECREO)</td>\n",
       "      <td>-31.4833</td>\n",
       "      <td>-60.7333</td>\n",
       "      <td>NaN</td>\n",
       "    </tr>\n",
       "    <tr>\n",
       "      <th>1851</th>\n",
       "      <td>C2357</td>\n",
       "      <td>AU EZEIZA CAÑUELAS 2</td>\n",
       "      <td>-34.8772</td>\n",
       "      <td>-58.5857</td>\n",
       "      <td>NaN</td>\n",
       "    </tr>\n",
       "    <tr>\n",
       "      <th>4907</th>\n",
       "      <td>SF013</td>\n",
       "      <td>BIGAND</td>\n",
       "      <td>-33.3691</td>\n",
       "      <td>-61.1836</td>\n",
       "      <td>NaN</td>\n",
       "    </tr>\n",
       "    <tr>\n",
       "      <th>1653</th>\n",
       "      <td>C2140</td>\n",
       "      <td>QUILMES SUR 5</td>\n",
       "      <td>-34.7335</td>\n",
       "      <td>-58.2604</td>\n",
       "      <td>NaN</td>\n",
       "    </tr>\n",
       "    <tr>\n",
       "      <th>1358</th>\n",
       "      <td>C1767</td>\n",
       "      <td>HAEDO 7</td>\n",
       "      <td>-34.6326</td>\n",
       "      <td>-58.5867</td>\n",
       "      <td>NaN</td>\n",
       "    </tr>\n",
       "    <tr>\n",
       "      <th>5654</th>\n",
       "      <td>TETLW</td>\n",
       "      <td>TEST NUEVOS SW TLW</td>\n",
       "      <td>-42.7744</td>\n",
       "      <td>-65.0319</td>\n",
       "      <td>NaN</td>\n",
       "    </tr>\n",
       "    <tr>\n",
       "      <th>4973</th>\n",
       "      <td>SF134</td>\n",
       "      <td>SAN VICENTE</td>\n",
       "      <td>-31.7005</td>\n",
       "      <td>-61.5605</td>\n",
       "      <td>NaN</td>\n",
       "    </tr>\n",
       "    <tr>\n",
       "      <th>3597</th>\n",
       "      <td>COW01</td>\n",
       "      <td>Punta Mogotes</td>\n",
       "      <td>-38.0841</td>\n",
       "      <td>-57.5508</td>\n",
       "      <td>NaN</td>\n",
       "    </tr>\n",
       "    <tr>\n",
       "      <th>680</th>\n",
       "      <td>C1050</td>\n",
       "      <td>CALCHAQUÍ 2</td>\n",
       "      <td>-34.7548</td>\n",
       "      <td>-58.2981</td>\n",
       "      <td>NaN</td>\n",
       "    </tr>\n",
       "    <tr>\n",
       "      <th>511</th>\n",
       "      <td>BA777</td>\n",
       "      <td>AYACUCHO 2</td>\n",
       "      <td>-37.1534</td>\n",
       "      <td>-58.4849</td>\n",
       "      <td>NaN</td>\n",
       "    </tr>\n",
       "    <tr>\n",
       "      <th>4176</th>\n",
       "      <td>ME106</td>\n",
       "      <td>CERRO DIAMANTE</td>\n",
       "      <td>-34.6297</td>\n",
       "      <td>-69.0699</td>\n",
       "      <td>NaN</td>\n",
       "    </tr>\n",
       "    <tr>\n",
       "      <th>3904</th>\n",
       "      <td>ER122</td>\n",
       "      <td>GUALEGUAYCHU 5</td>\n",
       "      <td>-33.0000</td>\n",
       "      <td>-58.5192</td>\n",
       "      <td>NaN</td>\n",
       "    </tr>\n",
       "    <tr>\n",
       "      <th>625</th>\n",
       "      <td>BA997</td>\n",
       "      <td>TEST SAN VICENTE</td>\n",
       "      <td>-64.0000</td>\n",
       "      <td>-43.0000</td>\n",
       "      <td>NaN</td>\n",
       "    </tr>\n",
       "    <tr>\n",
       "      <th>873</th>\n",
       "      <td>C1254</td>\n",
       "      <td>RIVADAVIA Y GAVILAN</td>\n",
       "      <td>-34.6276</td>\n",
       "      <td>-58.4597</td>\n",
       "      <td>NaN</td>\n",
       "    </tr>\n",
       "    <tr>\n",
       "      <th>1260</th>\n",
       "      <td>C1669</td>\n",
       "      <td>SARANDI OESTE</td>\n",
       "      <td>-34.6863</td>\n",
       "      <td>-58.3566</td>\n",
       "      <td>NaN</td>\n",
       "    </tr>\n",
       "    <tr>\n",
       "      <th>4177</th>\n",
       "      <td>ME108</td>\n",
       "      <td>LOS CAMPAMENTOS</td>\n",
       "      <td>-33.3079</td>\n",
       "      <td>-68.3830</td>\n",
       "      <td>NaN</td>\n",
       "    </tr>\n",
       "    <tr>\n",
       "      <th>881</th>\n",
       "      <td>C1262</td>\n",
       "      <td>BELGRANO Y ACASUSSO</td>\n",
       "      <td>-34.4704</td>\n",
       "      <td>-58.5106</td>\n",
       "      <td>NaN</td>\n",
       "    </tr>\n",
       "    <tr>\n",
       "      <th>905</th>\n",
       "      <td>C1286</td>\n",
       "      <td>CÓRDOBA Y PRINGLES</td>\n",
       "      <td>-34.5960</td>\n",
       "      <td>-58.4262</td>\n",
       "      <td>NaN</td>\n",
       "    </tr>\n",
       "    <tr>\n",
       "      <th>1665</th>\n",
       "      <td>C2152</td>\n",
       "      <td>QUILMES FACTORY 2 NU</td>\n",
       "      <td>-34.7603</td>\n",
       "      <td>-58.2713</td>\n",
       "      <td>NaN</td>\n",
       "    </tr>\n",
       "    <tr>\n",
       "      <th>1241</th>\n",
       "      <td>C1650</td>\n",
       "      <td>DON BOSCO 2</td>\n",
       "      <td>-34.7168</td>\n",
       "      <td>-58.3045</td>\n",
       "      <td>NaN</td>\n",
       "    </tr>\n",
       "  </tbody>\n",
       "</table>\n",
       "</div>"
      ],
      "text/plain": [
       "     CEL_ID       CEL_DESCRIPTION   LATITUD  LONGITUD  SURR_ID\n",
       "1353  C1762         V BERNAL OE 1  -34.7261  -58.3252      NaN\n",
       "2194  CF101             LOS PINOS  -34.6648  -58.5903      NaN\n",
       "1728  C2221  ALSINA Y VIRREY CEBA  -34.6113  -58.3889      NaN\n",
       "5587  ST140             PAYOGASTA  -25.0500  -66.1000      NaN\n",
       "5613  ST166                LESSER  -24.6970  -65.4799      NaN\n",
       "4994  SF212           MARIA JUANA  -31.6727  -61.7625      NaN\n",
       "3118  CO231   V.MARIA DE RIO SECO  -29.9097  -63.7219      NaN\n",
       "1370  C1780       AV UNIDAD NAC 2  -34.4905  -58.5135      NaN\n",
       "495   BA759          ESCONDIDO B°  -37.3760  -59.0935      NaN\n",
       "4974  SF135          ROMANG NUEVO  -29.4988  -59.7513      NaN\n",
       "566   BA841                 SOLIS  -34.3000  -59.3200      NaN\n",
       "5729  TU077            TUCUMAN 22  -26.8342  -65.2081      NaN\n",
       "1685  C2174     CIUDADELA 3 NUEVO  -34.6540  -58.5297      NaN\n",
       "4010  FO044   LAGUNA BLANCA NUEVO  -25.1325  -58.2444      NaN\n",
       "5085  SF319           ARMSTRONG 2  -32.7732  -61.6071      NaN\n",
       "1722  C2212   LANUS NORTE 2 NUEVO  -34.6946  -58.3751      NaN\n",
       "4714  RN084        GENERAL ROCA 6  -39.0279  -67.5586      NaN\n",
       "789   C1169       ALTOS DEL TALAR  -34.4511  -58.6563      NaN\n",
       "2786  CF833    AVDA 13 Y CALLE 56  -34.9240  -57.9513      NaN\n",
       "1121  C1528           LP TOLOSA 2  -34.8952  -57.9599      NaN\n",
       "58    BA082  GENERAL VIAMONTE (LO  -35.0005  -61.0369      NaN\n",
       "3040  CO070              VIAMONTE  -33.7480  -63.0950      NaN\n",
       "3906  ER124      PARANÁ COSTANERA  -31.7226  -60.5244      NaN\n",
       "1980  C2981          WICAP 3FEB11  -34.5773  -58.6034      NaN\n",
       "5232  SF494        SFE - WALLMART  -31.6390  -60.6540      NaN\n",
       "5185  SF431       SAN JERONIMO -   -31.6486  -60.7085      NaN\n",
       "2117  CF024              SAN JUAN  -34.6236  -58.3757      NaN\n",
       "5251  SF810       CÓRDOBA Y MITRE  -32.9461  -60.6398      NaN\n",
       "2188  CF095              RANELAGH  -34.7906  -58.1992      NaN\n",
       "1572  C2055        LA PLATA SUR 3  -34.9763  -57.9949      NaN\n",
       "5027  SF249     SANTA FE (RECREO)  -31.4833  -60.7333      NaN\n",
       "1851  C2357  AU EZEIZA CAÑUELAS 2  -34.8772  -58.5857      NaN\n",
       "4907  SF013                BIGAND  -33.3691  -61.1836      NaN\n",
       "1653  C2140         QUILMES SUR 5  -34.7335  -58.2604      NaN\n",
       "1358  C1767               HAEDO 7  -34.6326  -58.5867      NaN\n",
       "5654  TETLW    TEST NUEVOS SW TLW  -42.7744  -65.0319      NaN\n",
       "4973  SF134           SAN VICENTE  -31.7005  -61.5605      NaN\n",
       "3597  COW01         Punta Mogotes  -38.0841  -57.5508      NaN\n",
       "680   C1050           CALCHAQUÍ 2  -34.7548  -58.2981      NaN\n",
       "511   BA777            AYACUCHO 2  -37.1534  -58.4849      NaN\n",
       "4176  ME106        CERRO DIAMANTE  -34.6297  -69.0699      NaN\n",
       "3904  ER122        GUALEGUAYCHU 5  -33.0000  -58.5192      NaN\n",
       "625   BA997      TEST SAN VICENTE  -64.0000  -43.0000      NaN\n",
       "873   C1254   RIVADAVIA Y GAVILAN  -34.6276  -58.4597      NaN\n",
       "1260  C1669         SARANDI OESTE  -34.6863  -58.3566      NaN\n",
       "4177  ME108       LOS CAMPAMENTOS  -33.3079  -68.3830      NaN\n",
       "881   C1262   BELGRANO Y ACASUSSO  -34.4704  -58.5106      NaN\n",
       "905   C1286    CÓRDOBA Y PRINGLES  -34.5960  -58.4262      NaN\n",
       "1665  C2152  QUILMES FACTORY 2 NU  -34.7603  -58.2713      NaN\n",
       "1241  C1650           DON BOSCO 2  -34.7168  -58.3045      NaN"
      ]
     },
     "execution_count": 71,
     "metadata": {},
     "output_type": "execute_result"
    }
   ],
   "source": [
    "test[test['SURR_ID'].isnull()].sample(50)"
   ]
  },
  {
   "cell_type": "markdown",
   "metadata": {},
   "source": [
    "## PROBLEMA\n",
    "Muchas antennas sin surr_id, i.e. se quedan afuera de la db"
   ]
  },
  {
   "cell_type": "code",
   "execution_count": 73,
   "metadata": {
    "collapsed": false,
    "scrolled": true
   },
   "outputs": [],
   "source": [
    "# finalmente limpiamos la columan cel_description con algo mas manejable computacionalmente\n",
    "#funcion que le saca las tildes, los puntos y cambia espacios por '_'\n",
    "def preparar_nombre(s):\n",
    "    #decodificamos el string con utf8 a unicode\n",
    "    try:\n",
    "        s =  s.decode('utf8')\n",
    "    except:\n",
    "        print(s)\n",
    "    #esta linea elimina las tildes\n",
    "    sin_tilde = ''.join((c for c in unicodedata.normalize('NFKD', s) if unicodedata.category(c) != 'Mn')) \n",
    "    sin_punto = sin_tilde.replace(\".\", \"\")\n",
    "    limpio = sin_punto.replace(\" \", \"_\")\n",
    "    return limpio"
   ]
  },
  {
   "cell_type": "code",
   "execution_count": 74,
   "metadata": {
    "collapsed": true
   },
   "outputs": [],
   "source": [
    "raw_antennas['CEL_DESCRIPTION'] = raw_antennas['CEL_DESCRIPTION'].apply(lambda x: preparar_nombre(x))"
   ]
  },
  {
   "cell_type": "code",
   "execution_count": 75,
   "metadata": {
    "collapsed": false
   },
   "outputs": [],
   "source": [
    "#pasamos los strings de lat/long a float\n",
    "raw_antennas['LATITUD'] = pd.to_numeric(raw_antennas['LATITUD'])\n",
    "raw_antennas['LONGITUD'] = pd.to_numeric(raw_antennas['LONGITUD'])\n"
   ]
  },
  {
   "cell_type": "code",
   "execution_count": null,
   "metadata": {
    "collapsed": true
   },
   "outputs": [],
   "source": []
  },
  {
   "cell_type": "code",
   "execution_count": null,
   "metadata": {
    "collapsed": true
   },
   "outputs": [],
   "source": []
  },
  {
   "cell_type": "markdown",
   "metadata": {},
   "source": [
    "## LOAD MAP department files"
   ]
  },
  {
   "cell_type": "code",
   "execution_count": 76,
   "metadata": {
    "collapsed": false
   },
   "outputs": [],
   "source": [
    "departamentos = gpd.GeoDataFrame.from_file(rootdir+'data/ARG_adm2.shp')\n",
    "#saco las variables que no voy a utilizar\n",
    "departamentos.drop(['ENGTYPE_2','ISO','ID_0','ID_2','NAME_0','VARNAME_2'],axis=1,inplace=True)\n",
    "departamentos.drop(['ID_1','TYPE_2','NL_NAME_2'],axis=1,inplace=True)\n",
    "departamentos.rename(columns={'NAME_1': 'PROVINCIA','NAME_2':'DEPARTAMENTO'}, inplace=True)"
   ]
  },
  {
   "cell_type": "code",
   "execution_count": 77,
   "metadata": {
    "collapsed": true
   },
   "outputs": [],
   "source": [
    "# delete accents and replace special characters with ASCII\n",
    "def preparar_depto(s):\n",
    "    #esta linea elimina las tildes\n",
    "    sin_tilde = ''.join((c for c in unicodedata.normalize('NFD', s) if unicodedata.category(c) != 'Mn')) \n",
    "    sin_punto = sin_tilde.replace(\".\", \"\")\n",
    "    limpio = sin_punto.replace(\" \", \"_\")\n",
    "    return limpio"
   ]
  },
  {
   "cell_type": "code",
   "execution_count": 78,
   "metadata": {
    "collapsed": false
   },
   "outputs": [],
   "source": [
    "departamentos['PROVINCIA']=departamentos['PROVINCIA'].apply(preparar_depto)\n",
    "departamentos['DEPARTAMENTO']=departamentos['DEPARTAMENTO'].apply(preparar_depto)\n",
    "departamentos['FILENAME']=departamentos.apply(lambda x: x['PROVINCIA'] + '-'+ x['DEPARTAMENTO'], axis =1)\n",
    "departamentos = departamentos[['PROVINCIA','DEPARTAMENTO','FILENAME','geometry']]\n"
   ]
  },
  {
   "cell_type": "code",
   "execution_count": 79,
   "metadata": {
    "collapsed": false
   },
   "outputs": [
    {
     "data": {
      "text/html": [
       "<div>\n",
       "<table border=\"1\" class=\"dataframe\">\n",
       "  <thead>\n",
       "    <tr style=\"text-align: right;\">\n",
       "      <th></th>\n",
       "      <th>PROVINCIA</th>\n",
       "      <th>DEPARTAMENTO</th>\n",
       "      <th>FILENAME</th>\n",
       "      <th>geometry</th>\n",
       "    </tr>\n",
       "  </thead>\n",
       "  <tbody>\n",
       "    <tr>\n",
       "      <th>0</th>\n",
       "      <td>Buenos_Aires</td>\n",
       "      <td>Adolfo_Alsina</td>\n",
       "      <td>Buenos_Aires-Adolfo_Alsina</td>\n",
       "      <td>POLYGON ((-63.28128433227539 -36.6123085021972...</td>\n",
       "    </tr>\n",
       "    <tr>\n",
       "      <th>1</th>\n",
       "      <td>Buenos_Aires</td>\n",
       "      <td>Adolfo_Gonzales_Chaves</td>\n",
       "      <td>Buenos_Aires-Adolfo_Gonzales_Chaves</td>\n",
       "      <td>POLYGON ((-60.45724487304688 -37.6021881103515...</td>\n",
       "    </tr>\n",
       "    <tr>\n",
       "      <th>2</th>\n",
       "      <td>Buenos_Aires</td>\n",
       "      <td>Alberti</td>\n",
       "      <td>Buenos_Aires-Alberti</td>\n",
       "      <td>POLYGON ((-60.24544143676758 -34.8256492614746...</td>\n",
       "    </tr>\n",
       "    <tr>\n",
       "      <th>3</th>\n",
       "      <td>Buenos_Aires</td>\n",
       "      <td>Almirante_Brown</td>\n",
       "      <td>Buenos_Aires-Almirante_Brown</td>\n",
       "      <td>POLYGON ((-58.33725738525385 -34.7585868835449...</td>\n",
       "    </tr>\n",
       "    <tr>\n",
       "      <th>4</th>\n",
       "      <td>Buenos_Aires</td>\n",
       "      <td>Ameghino</td>\n",
       "      <td>Buenos_Aires-Ameghino</td>\n",
       "      <td>POLYGON ((-62.0881614685058 -34.9758415222168,...</td>\n",
       "    </tr>\n",
       "  </tbody>\n",
       "</table>\n",
       "</div>"
      ],
      "text/plain": [
       "      PROVINCIA            DEPARTAMENTO                             FILENAME  \\\n",
       "0  Buenos_Aires           Adolfo_Alsina           Buenos_Aires-Adolfo_Alsina   \n",
       "1  Buenos_Aires  Adolfo_Gonzales_Chaves  Buenos_Aires-Adolfo_Gonzales_Chaves   \n",
       "2  Buenos_Aires                 Alberti                 Buenos_Aires-Alberti   \n",
       "3  Buenos_Aires         Almirante_Brown         Buenos_Aires-Almirante_Brown   \n",
       "4  Buenos_Aires                Ameghino                Buenos_Aires-Ameghino   \n",
       "\n",
       "                                            geometry  \n",
       "0  POLYGON ((-63.28128433227539 -36.6123085021972...  \n",
       "1  POLYGON ((-60.45724487304688 -37.6021881103515...  \n",
       "2  POLYGON ((-60.24544143676758 -34.8256492614746...  \n",
       "3  POLYGON ((-58.33725738525385 -34.7585868835449...  \n",
       "4  POLYGON ((-62.0881614685058 -34.9758415222168,...  "
      ]
     },
     "execution_count": 79,
     "metadata": {},
     "output_type": "execute_result"
    }
   ],
   "source": [
    "departamentos.head()"
   ]
  },
  {
   "cell_type": "code",
   "execution_count": 80,
   "metadata": {
    "collapsed": true
   },
   "outputs": [],
   "source": [
    "#esta funcion es para mantener la consistencia de los nombres de los departamentos a lo largo de todos\n",
    "#los datasets que hay, para cualquier tipo de dato.\n",
    "def preparar_nombre_departamental(s):\n",
    "    #esta linea elimina las tildes\n",
    "    s = s.replace(\"Entre_Rios\",\"Entre_rios\").replace(\"La_Rioja\",\"La_rioja\").replace(\"San_Juan\",\"San_juan\")\n",
    "    s=s.replace(\"Rio_Negro\",\"Rio_negro\").replace(\"San_Luis\",\"San_luis\").replace(\"Santa_Fe\",\"Santa_fe\")\n",
    "    s=s.replace(\"Santa_Cruz\",\"Santa_cruz\").replace(\"Santiago_del_Estero\",\"Santiago_del_estero\")\n",
    "    s=s.replace(\"La_Pampa\",\"La_pampa\").replace(\"Tierra_del_Fuego\",\"Tierra_del_fuego\").replace(\"rio_negro\",\"Rio_negro\")\n",
    "    s = s.replace(\".\", \"\").replace(\" \", \"_\")\n",
    "    return s"
   ]
  },
  {
   "cell_type": "code",
   "execution_count": 81,
   "metadata": {
    "collapsed": false
   },
   "outputs": [
    {
     "data": {
      "text/plain": [
       "<matplotlib.axes._subplots.AxesSubplot at 0x7fdbef377b50>"
      ]
     },
     "execution_count": 81,
     "metadata": {},
     "output_type": "execute_result"
    },
    {
     "data": {
      "image/png": "[encoded data removed]",
      "text/plain": [
       "<matplotlib.figure.Figure at 0x7fdbef98ad50>"
      ]
     },
     "metadata": {},
     "output_type": "display_data"
    }
   ],
   "source": [
    "#dibujamos este mapa a modo de ejemplo\n",
    "departamentos[departamentos['PROVINCIA']=='Buenos_Aires'].plot()"
   ]
  },
  {
   "cell_type": "markdown",
   "metadata": {},
   "source": [
    "# Muy importante!\n",
    " \n",
    "Las coordenadas en un mapa se dan en (lat, long) que no corresponden a las coordenadas cartesianas sino a (y,x) con lo cual es importante armar los **Point** con (long,lat), sino imposible comprarar quien esta dentro de que.."
   ]
  },
  {
   "cell_type": "code",
   "execution_count": 82,
   "metadata": {
    "collapsed": true
   },
   "outputs": [],
   "source": [
    "#es importante el orden long/lat\n",
    "antenas_gpd =  raw_antennas[['LONGITUD','LATITUD']]\n",
    "antenas_gpd = [shapely.geometry.Point(x) for x in antenas_gpd.values] \n",
    "global antenas_gpd \n",
    "antenas_gpd =  gpd.GeoSeries(antenas_gpd)\n",
    "\n",
    "def point_intersects_geoseries(geo_point,geoseries):\n",
    "    #entra la geotabla de deptos y un punto y hace un point in Poly p/ el punto contra todos los posibles poligonos\n",
    "    \n",
    "    ind = geoseries['geometry'].apply(lambda x: geo_point.intersects(x))\n",
    "    #el resultante\n",
    "    dep = geoseries[ind]\n",
    "    #si no interseca nada\n",
    "    if dep.shape[0]==0:\n",
    "        rv0,rv1 = [[None],[None]]\n",
    "    else:\n",
    "        rv0 = dep['PROVINCIA'].values \n",
    "        rv1 = dep['DEPARTAMENTO'].values \n",
    "    \n",
    "    rv = pd.Series({'PROVINCIA':rv0[0], 'DEPARTAMENTO':rv1[0]})\n",
    "        \n",
    "        #pd.Series({'feature1':s+1, 'feature2':s-1})\n",
    "    return rv"
   ]
  },
  {
   "cell_type": "code",
   "execution_count": 83,
   "metadata": {
    "collapsed": false
   },
   "outputs": [
    {
     "name": "stdout",
     "output_type": "stream",
     "text": [
      "CPU times: user 32 s, sys: 24 ms, total: 32 s\n",
      "Wall time: 33.3 s\n"
     ]
    }
   ],
   "source": [
    "%%time\n",
    "df = antenas_gpd.apply(lambda point : \\\n",
    "                                                                point_intersects_geoseries(point,departamentos) )"
   ]
  },
  {
   "cell_type": "code",
   "execution_count": 84,
   "metadata": {
    "collapsed": false,
    "scrolled": true
   },
   "outputs": [
    {
     "data": {
      "text/html": [
       "<div>\n",
       "<table border=\"1\" class=\"dataframe\">\n",
       "  <thead>\n",
       "    <tr style=\"text-align: right;\">\n",
       "      <th></th>\n",
       "      <th>DEPARTAMENTO</th>\n",
       "      <th>PROVINCIA</th>\n",
       "    </tr>\n",
       "  </thead>\n",
       "  <tbody>\n",
       "    <tr>\n",
       "      <th>0</th>\n",
       "      <td>None</td>\n",
       "      <td>None</td>\n",
       "    </tr>\n",
       "    <tr>\n",
       "      <th>1</th>\n",
       "      <td>La_Costa</td>\n",
       "      <td>Buenos_Aires</td>\n",
       "    </tr>\n",
       "    <tr>\n",
       "      <th>2</th>\n",
       "      <td>Ramallo</td>\n",
       "      <td>Buenos_Aires</td>\n",
       "    </tr>\n",
       "    <tr>\n",
       "      <th>3</th>\n",
       "      <td>Veinticinco_de_Mayo</td>\n",
       "      <td>Buenos_Aires</td>\n",
       "    </tr>\n",
       "    <tr>\n",
       "      <th>4</th>\n",
       "      <td>Veinticinco_de_Mayo</td>\n",
       "      <td>Buenos_Aires</td>\n",
       "    </tr>\n",
       "    <tr>\n",
       "      <th>5</th>\n",
       "      <td>Veinticinco_de_Mayo</td>\n",
       "      <td>Buenos_Aires</td>\n",
       "    </tr>\n",
       "    <tr>\n",
       "      <th>6</th>\n",
       "      <td>Nueve_de_Julio</td>\n",
       "      <td>Buenos_Aires</td>\n",
       "    </tr>\n",
       "    <tr>\n",
       "      <th>7</th>\n",
       "      <td>Nueve_de_Julio</td>\n",
       "      <td>Buenos_Aires</td>\n",
       "    </tr>\n",
       "    <tr>\n",
       "      <th>8</th>\n",
       "      <td>Nueve_de_Julio</td>\n",
       "      <td>Buenos_Aires</td>\n",
       "    </tr>\n",
       "    <tr>\n",
       "      <th>9</th>\n",
       "      <td>Adolfo_Alsina</td>\n",
       "      <td>Buenos_Aires</td>\n",
       "    </tr>\n",
       "  </tbody>\n",
       "</table>\n",
       "</div>"
      ],
      "text/plain": [
       "          DEPARTAMENTO     PROVINCIA\n",
       "0                 None          None\n",
       "1             La_Costa  Buenos_Aires\n",
       "2              Ramallo  Buenos_Aires\n",
       "3  Veinticinco_de_Mayo  Buenos_Aires\n",
       "4  Veinticinco_de_Mayo  Buenos_Aires\n",
       "5  Veinticinco_de_Mayo  Buenos_Aires\n",
       "6       Nueve_de_Julio  Buenos_Aires\n",
       "7       Nueve_de_Julio  Buenos_Aires\n",
       "8       Nueve_de_Julio  Buenos_Aires\n",
       "9        Adolfo_Alsina  Buenos_Aires"
      ]
     },
     "execution_count": 84,
     "metadata": {},
     "output_type": "execute_result"
    }
   ],
   "source": [
    "df.head(10)"
   ]
  },
  {
   "cell_type": "code",
   "execution_count": 85,
   "metadata": {
    "collapsed": false,
    "scrolled": true
   },
   "outputs": [
    {
     "data": {
      "text/html": [
       "<div>\n",
       "<table border=\"1\" class=\"dataframe\">\n",
       "  <thead>\n",
       "    <tr style=\"text-align: right;\">\n",
       "      <th></th>\n",
       "      <th>CEL_DESCRIPTION</th>\n",
       "      <th>LATITUD</th>\n",
       "      <th>LONGITUD</th>\n",
       "    </tr>\n",
       "    <tr>\n",
       "      <th>CEL_ID</th>\n",
       "      <th></th>\n",
       "      <th></th>\n",
       "      <th></th>\n",
       "    </tr>\n",
       "  </thead>\n",
       "  <tbody>\n",
       "    <tr>\n",
       "      <th>AA001</th>\n",
       "      <td>ANTARTIDA_ARGENTINA</td>\n",
       "      <td>-64.2544</td>\n",
       "      <td>-56.6488</td>\n",
       "    </tr>\n",
       "    <tr>\n",
       "      <th>B1061</th>\n",
       "      <td>MUNDO_MARNO</td>\n",
       "      <td>-36.3390</td>\n",
       "      <td>-56.7468</td>\n",
       "    </tr>\n",
       "    <tr>\n",
       "      <th>B1062</th>\n",
       "      <td>BUNGE_RAMALLO</td>\n",
       "      <td>-33.4578</td>\n",
       "      <td>-60.0522</td>\n",
       "    </tr>\n",
       "    <tr>\n",
       "      <th>BA001</th>\n",
       "      <td>GOBERNADOR_UGARTE</td>\n",
       "      <td>-35.1641</td>\n",
       "      <td>-60.0866</td>\n",
       "    </tr>\n",
       "    <tr>\n",
       "      <th>BA003</th>\n",
       "      <td>25_DE_MAYO</td>\n",
       "      <td>-35.4275</td>\n",
       "      <td>-60.1538</td>\n",
       "    </tr>\n",
       "    <tr>\n",
       "      <th>BA004</th>\n",
       "      <td>DEL_VALLE</td>\n",
       "      <td>-35.9000</td>\n",
       "      <td>-60.7275</td>\n",
       "    </tr>\n",
       "    <tr>\n",
       "      <th>BA006</th>\n",
       "      <td>CARLOS_M_NAON</td>\n",
       "      <td>-35.2355</td>\n",
       "      <td>-60.8283</td>\n",
       "    </tr>\n",
       "    <tr>\n",
       "      <th>BA007</th>\n",
       "      <td>ADEMARCHI_(ESTQUIR</td>\n",
       "      <td>-35.2894</td>\n",
       "      <td>-61.3972</td>\n",
       "    </tr>\n",
       "    <tr>\n",
       "      <th>BA010</th>\n",
       "      <td>DUDIGNAC</td>\n",
       "      <td>-35.6458</td>\n",
       "      <td>-60.7036</td>\n",
       "    </tr>\n",
       "    <tr>\n",
       "      <th>BA013</th>\n",
       "      <td>RIVERA</td>\n",
       "      <td>-37.1577</td>\n",
       "      <td>-63.2363</td>\n",
       "    </tr>\n",
       "  </tbody>\n",
       "</table>\n",
       "</div>"
      ],
      "text/plain": [
       "            CEL_DESCRIPTION  LATITUD  LONGITUD\n",
       "CEL_ID                                        \n",
       "AA001   ANTARTIDA_ARGENTINA -64.2544  -56.6488\n",
       "B1061           MUNDO_MARNO -36.3390  -56.7468\n",
       "B1062         BUNGE_RAMALLO -33.4578  -60.0522\n",
       "BA001     GOBERNADOR_UGARTE -35.1641  -60.0866\n",
       "BA003            25_DE_MAYO -35.4275  -60.1538\n",
       "BA004             DEL_VALLE -35.9000  -60.7275\n",
       "BA006         CARLOS_M_NAON -35.2355  -60.8283\n",
       "BA007    ADEMARCHI_(ESTQUIR -35.2894  -61.3972\n",
       "BA010              DUDIGNAC -35.6458  -60.7036\n",
       "BA013                RIVERA -37.1577  -63.2363"
      ]
     },
     "execution_count": 85,
     "metadata": {},
     "output_type": "execute_result"
    }
   ],
   "source": [
    "raw_antennas.head(10)"
   ]
  },
  {
   "cell_type": "code",
   "execution_count": 86,
   "metadata": {
    "collapsed": false
   },
   "outputs": [
    {
     "data": {
      "text/html": [
       "<div>\n",
       "<table border=\"1\" class=\"dataframe\">\n",
       "  <thead>\n",
       "    <tr style=\"text-align: right;\">\n",
       "      <th></th>\n",
       "      <th>PROVINCIA</th>\n",
       "      <th>DEPARTAMENTO</th>\n",
       "      <th>FILENAME</th>\n",
       "      <th>geometry</th>\n",
       "    </tr>\n",
       "  </thead>\n",
       "  <tbody>\n",
       "    <tr>\n",
       "      <th>0</th>\n",
       "      <td>Buenos_Aires</td>\n",
       "      <td>Adolfo_Alsina</td>\n",
       "      <td>Buenos_Aires-Adolfo_Alsina</td>\n",
       "      <td>POLYGON ((-63.28128433227539 -36.6123085021972...</td>\n",
       "    </tr>\n",
       "    <tr>\n",
       "      <th>1</th>\n",
       "      <td>Buenos_Aires</td>\n",
       "      <td>Adolfo_Gonzales_Chaves</td>\n",
       "      <td>Buenos_Aires-Adolfo_Gonzales_Chaves</td>\n",
       "      <td>POLYGON ((-60.45724487304688 -37.6021881103515...</td>\n",
       "    </tr>\n",
       "    <tr>\n",
       "      <th>2</th>\n",
       "      <td>Buenos_Aires</td>\n",
       "      <td>Alberti</td>\n",
       "      <td>Buenos_Aires-Alberti</td>\n",
       "      <td>POLYGON ((-60.24544143676758 -34.8256492614746...</td>\n",
       "    </tr>\n",
       "    <tr>\n",
       "      <th>3</th>\n",
       "      <td>Buenos_Aires</td>\n",
       "      <td>Almirante_Brown</td>\n",
       "      <td>Buenos_Aires-Almirante_Brown</td>\n",
       "      <td>POLYGON ((-58.33725738525385 -34.7585868835449...</td>\n",
       "    </tr>\n",
       "    <tr>\n",
       "      <th>4</th>\n",
       "      <td>Buenos_Aires</td>\n",
       "      <td>Ameghino</td>\n",
       "      <td>Buenos_Aires-Ameghino</td>\n",
       "      <td>POLYGON ((-62.0881614685058 -34.9758415222168,...</td>\n",
       "    </tr>\n",
       "  </tbody>\n",
       "</table>\n",
       "</div>"
      ],
      "text/plain": [
       "      PROVINCIA            DEPARTAMENTO                             FILENAME  \\\n",
       "0  Buenos_Aires           Adolfo_Alsina           Buenos_Aires-Adolfo_Alsina   \n",
       "1  Buenos_Aires  Adolfo_Gonzales_Chaves  Buenos_Aires-Adolfo_Gonzales_Chaves   \n",
       "2  Buenos_Aires                 Alberti                 Buenos_Aires-Alberti   \n",
       "3  Buenos_Aires         Almirante_Brown         Buenos_Aires-Almirante_Brown   \n",
       "4  Buenos_Aires                Ameghino                Buenos_Aires-Ameghino   \n",
       "\n",
       "                                            geometry  \n",
       "0  POLYGON ((-63.28128433227539 -36.6123085021972...  \n",
       "1  POLYGON ((-60.45724487304688 -37.6021881103515...  \n",
       "2  POLYGON ((-60.24544143676758 -34.8256492614746...  \n",
       "3  POLYGON ((-58.33725738525385 -34.7585868835449...  \n",
       "4  POLYGON ((-62.0881614685058 -34.9758415222168,...  "
      ]
     },
     "execution_count": 86,
     "metadata": {},
     "output_type": "execute_result"
    }
   ],
   "source": [
    "departamentos.head()"
   ]
  },
  {
   "cell_type": "code",
   "execution_count": 87,
   "metadata": {
    "collapsed": false
   },
   "outputs": [
    {
     "data": {
      "text/plain": [
       "((5813, 3), (5813, 2))"
      ]
     },
     "execution_count": 87,
     "metadata": {},
     "output_type": "execute_result"
    }
   ],
   "source": [
    "raw_antennas.shape,df.shape"
   ]
  },
  {
   "cell_type": "code",
   "execution_count": 88,
   "metadata": {
    "collapsed": false,
    "scrolled": true
   },
   "outputs": [],
   "source": [
    "df.index = raw_antennas.index\n",
    "test = pd.concat([raw_antennas,df],axis=1)"
   ]
  },
  {
   "cell_type": "code",
   "execution_count": 89,
   "metadata": {
    "collapsed": false
   },
   "outputs": [
    {
     "data": {
      "text/plain": [
       "18"
      ]
     },
     "execution_count": 89,
     "metadata": {},
     "output_type": "execute_result"
    }
   ],
   "source": [
    "(test['DEPARTAMENTO'].isnull()).sum()"
   ]
  },
  {
   "cell_type": "code",
   "execution_count": 90,
   "metadata": {
    "collapsed": false,
    "scrolled": true
   },
   "outputs": [
    {
     "data": {
      "text/html": [
       "<div>\n",
       "<table border=\"1\" class=\"dataframe\">\n",
       "  <thead>\n",
       "    <tr style=\"text-align: right;\">\n",
       "      <th></th>\n",
       "      <th>CEL_DESCRIPTION</th>\n",
       "      <th>LATITUD</th>\n",
       "      <th>LONGITUD</th>\n",
       "      <th>DEPARTAMENTO</th>\n",
       "      <th>PROVINCIA</th>\n",
       "    </tr>\n",
       "    <tr>\n",
       "      <th>CEL_ID</th>\n",
       "      <th></th>\n",
       "      <th></th>\n",
       "      <th></th>\n",
       "      <th></th>\n",
       "      <th></th>\n",
       "    </tr>\n",
       "  </thead>\n",
       "  <tbody>\n",
       "    <tr>\n",
       "      <th>AA001</th>\n",
       "      <td>ANTARTIDA_ARGENTINA</td>\n",
       "      <td>-64.2544</td>\n",
       "      <td>-56.6488</td>\n",
       "      <td>None</td>\n",
       "      <td>None</td>\n",
       "    </tr>\n",
       "    <tr>\n",
       "      <th>BA346</th>\n",
       "      <td>SAN_CLEMENTE_2</td>\n",
       "      <td>-36.3580</td>\n",
       "      <td>-56.7130</td>\n",
       "      <td>None</td>\n",
       "      <td>None</td>\n",
       "    </tr>\n",
       "    <tr>\n",
       "      <th>BA997</th>\n",
       "      <td>TEST_SAN_VICENTE</td>\n",
       "      <td>-64.0000</td>\n",
       "      <td>-43.0000</td>\n",
       "      <td>None</td>\n",
       "      <td>None</td>\n",
       "    </tr>\n",
       "    <tr>\n",
       "      <th>C2159</th>\n",
       "      <td>ISLA_MARTIN_GARCIA</td>\n",
       "      <td>-34.2634</td>\n",
       "      <td>-58.1953</td>\n",
       "      <td>None</td>\n",
       "      <td>None</td>\n",
       "    </tr>\n",
       "    <tr>\n",
       "      <th>CB072</th>\n",
       "      <td>POLO_INGENTIS</td>\n",
       "      <td>-43.3666</td>\n",
       "      <td>-65.0000</td>\n",
       "      <td>None</td>\n",
       "      <td>None</td>\n",
       "    </tr>\n",
       "    <tr>\n",
       "      <th>CF257</th>\n",
       "      <td>COTO_MONTE_GRANDE</td>\n",
       "      <td>-58.4805</td>\n",
       "      <td>-34.7735</td>\n",
       "      <td>None</td>\n",
       "      <td>None</td>\n",
       "    </tr>\n",
       "    <tr>\n",
       "      <th>CF360</th>\n",
       "      <td>LIBERTAD_POI</td>\n",
       "      <td>-34.4116</td>\n",
       "      <td>-58.4116</td>\n",
       "      <td>None</td>\n",
       "      <td>None</td>\n",
       "    </tr>\n",
       "    <tr>\n",
       "      <th>CF365</th>\n",
       "      <td>ESTACION_MARINA</td>\n",
       "      <td>-58.3219</td>\n",
       "      <td>-34.2640</td>\n",
       "      <td>None</td>\n",
       "      <td>None</td>\n",
       "    </tr>\n",
       "    <tr>\n",
       "      <th>CF625</th>\n",
       "      <td>ESTACION_PADUA</td>\n",
       "      <td>-34.3952</td>\n",
       "      <td>-58.4220</td>\n",
       "      <td>None</td>\n",
       "      <td>None</td>\n",
       "    </tr>\n",
       "    <tr>\n",
       "      <th>CF653</th>\n",
       "      <td>LOS_TRONCOS</td>\n",
       "      <td>-58.6206</td>\n",
       "      <td>-34.4522</td>\n",
       "      <td>None</td>\n",
       "      <td>None</td>\n",
       "    </tr>\n",
       "    <tr>\n",
       "      <th>CF686</th>\n",
       "      <td>ABRIL</td>\n",
       "      <td>-58.1534</td>\n",
       "      <td>-34.8149</td>\n",
       "      <td>None</td>\n",
       "      <td>None</td>\n",
       "    </tr>\n",
       "    <tr>\n",
       "      <th>CF962</th>\n",
       "      <td>IMPRIPOST</td>\n",
       "      <td>-34.2620</td>\n",
       "      <td>-58.4111</td>\n",
       "      <td>None</td>\n",
       "      <td>None</td>\n",
       "    </tr>\n",
       "    <tr>\n",
       "      <th>CF977</th>\n",
       "      <td>ARCOS_Y_SUCRE</td>\n",
       "      <td>-34.5619</td>\n",
       "      <td>-58.3868</td>\n",
       "      <td>None</td>\n",
       "      <td>None</td>\n",
       "    </tr>\n",
       "    <tr>\n",
       "      <th>CR078</th>\n",
       "      <td>SANTA_ANA</td>\n",
       "      <td>-27.2707</td>\n",
       "      <td>-58.3881</td>\n",
       "      <td>None</td>\n",
       "      <td>None</td>\n",
       "    </tr>\n",
       "    <tr>\n",
       "      <th>JU086</th>\n",
       "      <td>PASO_DE_JAMA</td>\n",
       "      <td>-23.2212</td>\n",
       "      <td>-67.0716</td>\n",
       "      <td>None</td>\n",
       "      <td>None</td>\n",
       "    </tr>\n",
       "    <tr>\n",
       "      <th>MI028</th>\n",
       "      <td>HOTEL_INTERNACIONAL</td>\n",
       "      <td>-25.6798</td>\n",
       "      <td>-54.4454</td>\n",
       "      <td>None</td>\n",
       "      <td>None</td>\n",
       "    </tr>\n",
       "    <tr>\n",
       "      <th>MI208</th>\n",
       "      <td>AEROPUERTO_IGUAZU</td>\n",
       "      <td>-25.4413</td>\n",
       "      <td>-54.2820</td>\n",
       "      <td>None</td>\n",
       "      <td>None</td>\n",
       "    </tr>\n",
       "    <tr>\n",
       "      <th>TF023</th>\n",
       "      <td>CULLEN</td>\n",
       "      <td>-52.0000</td>\n",
       "      <td>-68.4660</td>\n",
       "      <td>None</td>\n",
       "      <td>None</td>\n",
       "    </tr>\n",
       "  </tbody>\n",
       "</table>\n",
       "</div>"
      ],
      "text/plain": [
       "            CEL_DESCRIPTION  LATITUD  LONGITUD DEPARTAMENTO PROVINCIA\n",
       "CEL_ID                                                               \n",
       "AA001   ANTARTIDA_ARGENTINA -64.2544  -56.6488         None      None\n",
       "BA346        SAN_CLEMENTE_2 -36.3580  -56.7130         None      None\n",
       "BA997      TEST_SAN_VICENTE -64.0000  -43.0000         None      None\n",
       "C2159    ISLA_MARTIN_GARCIA -34.2634  -58.1953         None      None\n",
       "CB072         POLO_INGENTIS -43.3666  -65.0000         None      None\n",
       "CF257     COTO_MONTE_GRANDE -58.4805  -34.7735         None      None\n",
       "CF360          LIBERTAD_POI -34.4116  -58.4116         None      None\n",
       "CF365       ESTACION_MARINA -58.3219  -34.2640         None      None\n",
       "CF625        ESTACION_PADUA -34.3952  -58.4220         None      None\n",
       "CF653           LOS_TRONCOS -58.6206  -34.4522         None      None\n",
       "CF686                 ABRIL -58.1534  -34.8149         None      None\n",
       "CF962             IMPRIPOST -34.2620  -58.4111         None      None\n",
       "CF977         ARCOS_Y_SUCRE -34.5619  -58.3868         None      None\n",
       "CR078             SANTA_ANA -27.2707  -58.3881         None      None\n",
       "JU086          PASO_DE_JAMA -23.2212  -67.0716         None      None\n",
       "MI028   HOTEL_INTERNACIONAL -25.6798  -54.4454         None      None\n",
       "MI208     AEROPUERTO_IGUAZU -25.4413  -54.2820         None      None\n",
       "TF023                CULLEN -52.0000  -68.4660         None      None"
      ]
     },
     "execution_count": 90,
     "metadata": {},
     "output_type": "execute_result"
    }
   ],
   "source": [
    "test[test['DEPARTAMENTO'].isnull()]"
   ]
  },
  {
   "cell_type": "markdown",
   "metadata": {},
   "source": [
    "## Estamos en el caso\n",
    "* de las antenas \"ficticias\" o de prueba (x ejemplo para algun evento especial)\n",
    "* de antennas que viven en islas o similar\n",
    "* de \"las que se caen al agua\""
   ]
  },
  {
   "cell_type": "code",
   "execution_count": 91,
   "metadata": {
    "collapsed": false,
    "scrolled": true
   },
   "outputs": [
    {
     "data": {
      "text/plain": [
       "(18, 5)"
      ]
     },
     "execution_count": 91,
     "metadata": {},
     "output_type": "execute_result"
    }
   ],
   "source": [
    "test[test['DEPARTAMENTO'].isnull()].shape"
   ]
  },
  {
   "cell_type": "code",
   "execution_count": 92,
   "metadata": {
    "collapsed": false
   },
   "outputs": [],
   "source": [
    "# eliminamos a mano las ants de islas etc.\n",
    "drops = ['AA001', 'BA346','BA997','C2159', 'CF257', 'CF365','TF023']\n",
    "dropped_antennas += (drops)\n",
    "#antartida, marambio, TEST antenna, TEST, isla m garcia, ocean point, ocean point , agua\n",
    "for ant in drops:\n",
    "    raw_antennas.drop(ant, axis=0,inplace=True) \n"
   ]
  },
  {
   "cell_type": "code",
   "execution_count": 93,
   "metadata": {
    "collapsed": false
   },
   "outputs": [
    {
     "data": {
      "text/plain": [
       "1582"
      ]
     },
     "execution_count": 93,
     "metadata": {},
     "output_type": "execute_result"
    }
   ],
   "source": [
    "dropped_antennas = list(set(dropped_antennas))\n",
    "\n",
    "len(dropped_antennas)"
   ]
  },
  {
   "cell_type": "code",
   "execution_count": 95,
   "metadata": {
    "collapsed": true
   },
   "outputs": [],
   "source": [
    "dropped_file = 'data/celdas_dropped.csv'\n",
    "dropped_antennas = pd.Series(dropped_antennas)\n",
    "dropped_antennas.to_csv(dropped_file, index=False)"
   ]
  },
  {
   "cell_type": "code",
   "execution_count": 96,
   "metadata": {
    "collapsed": true
   },
   "outputs": [],
   "source": [
    "#los demas puntos los acomodamos\n",
    "\n",
    "raw_antennas = raw_antennas.set_value(\"CB072\",'LATITUD',-43.3766) #agua\n",
    "raw_antennas = raw_antennas.set_value(\"CB072\",'LONGITUD',-65.3000) #agua\n",
    "raw_antennas = raw_antennas.set_value(\"CF360\",'LATITUD',-34.4116) #agua\n",
    "raw_antennas = raw_antennas.set_value(\"CF360\",'LONGITUD',-58.5116) #agua\n",
    "\n",
    "raw_antennas = raw_antennas.set_value(\"CF625\",'LATITUD',-34.3952) #agua\n",
    "raw_antennas = raw_antennas.set_value(\"CF625\",'LONGITUD',-58.6220) #agua\n",
    "\n",
    "raw_antennas = raw_antennas.set_value(\"CF653\",'LATITUD',-34.4522) #rotado lat long\n",
    "raw_antennas = raw_antennas.set_value(\"CF653\",'LONGITUD',-58.6206) #rotado lat long\n",
    "\n",
    "raw_antennas = raw_antennas.set_value(\"CF686\",'LATITUD',-34.8149) #rotado lat long\n",
    "raw_antennas = raw_antennas.set_value(\"CF686\",'LONGITUD',-58.1534 ) #rotado lat long\n",
    "\n",
    "raw_antennas = raw_antennas.set_value(\"CF977\",'LATITUD',-34.5619) #agua\n",
    "raw_antennas = raw_antennas.set_value(\"CF977\",'LONGITUD',-58.468) #agua\n",
    "\n",
    "raw_antennas = raw_antennas.set_value(\"CF962\",'LATITUD',-34.3620) #agua\n",
    "raw_antennas = raw_antennas.set_value(\"CF962\",'LONGITUD',-58.7111) #agua\n",
    "raw_antennas = raw_antennas.set_value(\"CR078\",'LATITUD',-27.4707) #agua\n",
    "raw_antennas = raw_antennas.set_value(\"CR078\",'LONGITUD',-58.3881) #agua\n",
    "\n",
    "raw_antennas = raw_antennas.set_value(\"JU086\",'LATITUD',-23.2212) # frontera\n",
    "raw_antennas = raw_antennas.set_value(\"JU086\",'LONGITUD',-66.8716) # frontera\n",
    "raw_antennas = raw_antennas.set_value(\"MI028\",'LATITUD',-25.7798) # frontera\n",
    "raw_antennas = raw_antennas.set_value(\"MI028\",'LONGITUD',-54.5454) # frontera\n",
    "\n",
    "raw_antennas = raw_antennas.set_value(\"MI208\",'LATITUD',-25.7798) # frontera\n",
    "raw_antennas = raw_antennas.set_value(\"MI208\",'LONGITUD',-54.5454) # frontera\n",
    "\n",
    "#raw_antennas = raw_antennas.set_value(\"\",'LONGITUD', ) \n",
    "#raw_antennas = raw_antennas.set_value(\"\",'LATITUD', ) "
   ]
  },
  {
   "cell_type": "code",
   "execution_count": 97,
   "metadata": {
    "collapsed": false
   },
   "outputs": [
    {
     "data": {
      "text/plain": [
       "CEL_DESCRIPTION      ABRIL\n",
       "LATITUD           -34.8149\n",
       "LONGITUD          -58.1534\n",
       "Name: CF686, dtype: object"
      ]
     },
     "execution_count": 97,
     "metadata": {},
     "output_type": "execute_result"
    }
   ],
   "source": [
    "raw_antennas.loc[\"CF686\"]"
   ]
  },
  {
   "cell_type": "markdown",
   "metadata": {},
   "source": [
    "## recorremos\n",
    "el df resultante p/detectar las null Ants"
   ]
  },
  {
   "cell_type": "code",
   "execution_count": 98,
   "metadata": {
    "collapsed": false
   },
   "outputs": [
    {
     "name": "stdout",
     "output_type": "stream",
     "text": [
      "CPU times: user 34 s, sys: 20 ms, total: 34 s\n",
      "Wall time: 34 s\n"
     ]
    }
   ],
   "source": [
    "%%time\n",
    "\n",
    "#es importante el orden long/lat\n",
    "global antenas_gpd \n",
    "antenas_gpd =  raw_antennas[['LONGITUD','LATITUD']]\n",
    "antenas_gpd = [shapely.geometry.Point(x) for x in antenas_gpd.values] \n",
    "\n",
    "antenas_gpd =  gpd.GeoSeries(antenas_gpd)\n",
    "\n",
    "df = antenas_gpd.apply(lambda point : \\\n",
    "                                                                point_intersects_geoseries(point,departamentos) )"
   ]
  },
  {
   "cell_type": "code",
   "execution_count": 99,
   "metadata": {
    "collapsed": true
   },
   "outputs": [],
   "source": [
    "df.index = raw_antennas.index\n",
    "test = pd.concat([raw_antennas,df],axis=1)"
   ]
  },
  {
   "cell_type": "code",
   "execution_count": 100,
   "metadata": {
    "collapsed": false,
    "scrolled": true
   },
   "outputs": [
    {
     "data": {
      "text/html": [
       "<div>\n",
       "<table border=\"1\" class=\"dataframe\">\n",
       "  <thead>\n",
       "    <tr style=\"text-align: right;\">\n",
       "      <th></th>\n",
       "      <th>CEL_DESCRIPTION</th>\n",
       "      <th>LATITUD</th>\n",
       "      <th>LONGITUD</th>\n",
       "      <th>DEPARTAMENTO</th>\n",
       "      <th>PROVINCIA</th>\n",
       "    </tr>\n",
       "    <tr>\n",
       "      <th>CEL_ID</th>\n",
       "      <th></th>\n",
       "      <th></th>\n",
       "      <th></th>\n",
       "      <th></th>\n",
       "      <th></th>\n",
       "    </tr>\n",
       "  </thead>\n",
       "  <tbody>\n",
       "  </tbody>\n",
       "</table>\n",
       "</div>"
      ],
      "text/plain": [
       "Empty DataFrame\n",
       "Columns: [CEL_DESCRIPTION, LATITUD, LONGITUD, DEPARTAMENTO, PROVINCIA]\n",
       "Index: []"
      ]
     },
     "execution_count": 100,
     "metadata": {},
     "output_type": "execute_result"
    }
   ],
   "source": [
    "test[test['DEPARTAMENTO'].isnull()]"
   ]
  },
  {
   "cell_type": "code",
   "execution_count": 101,
   "metadata": {
    "collapsed": true
   },
   "outputs": [],
   "source": [
    "#salvo con las antenas filtradas\n",
    "df.index = raw_antennas.index\n",
    "antennas = pd.concat([raw_antennas,df],axis=1)"
   ]
  },
  {
   "cell_type": "code",
   "execution_count": 102,
   "metadata": {
    "collapsed": false
   },
   "outputs": [
    {
     "data": {
      "text/html": [
       "<div>\n",
       "<table border=\"1\" class=\"dataframe\">\n",
       "  <thead>\n",
       "    <tr style=\"text-align: right;\">\n",
       "      <th></th>\n",
       "      <th>CEL_DESCRIPTION</th>\n",
       "      <th>LATITUD</th>\n",
       "      <th>LONGITUD</th>\n",
       "      <th>DEPARTAMENTO</th>\n",
       "      <th>PROVINCIA</th>\n",
       "    </tr>\n",
       "    <tr>\n",
       "      <th>CEL_ID</th>\n",
       "      <th></th>\n",
       "      <th></th>\n",
       "      <th></th>\n",
       "      <th></th>\n",
       "      <th></th>\n",
       "    </tr>\n",
       "  </thead>\n",
       "  <tbody>\n",
       "    <tr>\n",
       "      <th>ST168</th>\n",
       "      <td>JOAQUIN_V_GONZALES</td>\n",
       "      <td>-25.1174</td>\n",
       "      <td>-64.1265</td>\n",
       "      <td>Anta</td>\n",
       "      <td>Salta</td>\n",
       "    </tr>\n",
       "    <tr>\n",
       "      <th>CR212</th>\n",
       "      <td>CORRIENTES_10</td>\n",
       "      <td>-27.4808</td>\n",
       "      <td>-58.8167</td>\n",
       "      <td>Capital</td>\n",
       "      <td>Corrientes</td>\n",
       "    </tr>\n",
       "    <tr>\n",
       "      <th>TU016</th>\n",
       "      <td>INGIO_SANTA_BARBARA</td>\n",
       "      <td>-27.4594</td>\n",
       "      <td>-65.6152</td>\n",
       "      <td>Rio_Chico</td>\n",
       "      <td>Tucuman</td>\n",
       "    </tr>\n",
       "    <tr>\n",
       "      <th>ME092</th>\n",
       "      <td>MAIPU_NORTE</td>\n",
       "      <td>-32.9677</td>\n",
       "      <td>-68.7866</td>\n",
       "      <td>Maipu</td>\n",
       "      <td>Mendoza</td>\n",
       "    </tr>\n",
       "    <tr>\n",
       "      <th>CF718</th>\n",
       "      <td>SW-SOUTHERN_WINDS</td>\n",
       "      <td>-34.5949</td>\n",
       "      <td>-58.3800</td>\n",
       "      <td>Distrito_Federal</td>\n",
       "      <td>Ciudad_de_Buenos_Aires</td>\n",
       "    </tr>\n",
       "  </tbody>\n",
       "</table>\n",
       "</div>"
      ],
      "text/plain": [
       "            CEL_DESCRIPTION  LATITUD  LONGITUD      DEPARTAMENTO  \\\n",
       "CEL_ID                                                             \n",
       "ST168    JOAQUIN_V_GONZALES -25.1174  -64.1265              Anta   \n",
       "CR212         CORRIENTES_10 -27.4808  -58.8167           Capital   \n",
       "TU016   INGIO_SANTA_BARBARA -27.4594  -65.6152         Rio_Chico   \n",
       "ME092           MAIPU_NORTE -32.9677  -68.7866             Maipu   \n",
       "CF718     SW-SOUTHERN_WINDS -34.5949  -58.3800  Distrito_Federal   \n",
       "\n",
       "                     PROVINCIA  \n",
       "CEL_ID                          \n",
       "ST168                    Salta  \n",
       "CR212               Corrientes  \n",
       "TU016                  Tucuman  \n",
       "ME092                  Mendoza  \n",
       "CF718   Ciudad_de_Buenos_Aires  "
      ]
     },
     "execution_count": 102,
     "metadata": {},
     "output_type": "execute_result"
    }
   ],
   "source": [
    "antennas.sample(5)"
   ]
  },
  {
   "cell_type": "code",
   "execution_count": 103,
   "metadata": {
    "collapsed": false,
    "scrolled": true
   },
   "outputs": [
    {
     "data": {
      "text/html": [
       "<div>\n",
       "<table border=\"1\" class=\"dataframe\">\n",
       "  <thead>\n",
       "    <tr style=\"text-align: right;\">\n",
       "      <th></th>\n",
       "      <th>CEL_DESCRIPTION</th>\n",
       "      <th>LATITUD</th>\n",
       "      <th>LONGITUD</th>\n",
       "      <th>DEPARTAMENTO</th>\n",
       "      <th>PROVINCIA</th>\n",
       "    </tr>\n",
       "    <tr>\n",
       "      <th>CEL_ID</th>\n",
       "      <th></th>\n",
       "      <th></th>\n",
       "      <th></th>\n",
       "      <th></th>\n",
       "      <th></th>\n",
       "    </tr>\n",
       "  </thead>\n",
       "  <tbody>\n",
       "  </tbody>\n",
       "</table>\n",
       "</div>"
      ],
      "text/plain": [
       "Empty DataFrame\n",
       "Columns: [CEL_DESCRIPTION, LATITUD, LONGITUD, DEPARTAMENTO, PROVINCIA]\n",
       "Index: []"
      ]
     },
     "execution_count": 103,
     "metadata": {},
     "output_type": "execute_result"
    }
   ],
   "source": [
    "antennas[antennas.isnull().any(axis=1)]"
   ]
  },
  {
   "cell_type": "code",
   "execution_count": 104,
   "metadata": {
    "collapsed": false
   },
   "outputs": [
    {
     "data": {
      "text/plain": [
       "(5806, 5)"
      ]
     },
     "execution_count": 104,
     "metadata": {},
     "output_type": "execute_result"
    }
   ],
   "source": [
    "antennas.shape"
   ]
  },
  {
   "cell_type": "markdown",
   "metadata": {},
   "source": [
    "## Ahora vemos cuales son del Gran Chaco\n",
    "\n",
    "recordar que estas son las que estan en los estados de Jalisco, Oaxaca, Veracruz, Guerrero,Morelos, Yucatan, Queretaro, Chiapas, Puebla, Nayarit, Hidalgo y Tabasco."
   ]
  },
  {
   "cell_type": "code",
   "execution_count": 105,
   "metadata": {
    "collapsed": true
   },
   "outputs": [],
   "source": [
    "granchaco = gpd.GeoDataFrame.from_file(rootdir+'data/ambientes-gc.geojson')"
   ]
  },
  {
   "cell_type": "code",
   "execution_count": 106,
   "metadata": {
    "collapsed": false
   },
   "outputs": [],
   "source": [
    "granchaco['Name'] = granchaco['Name'].apply(lambda x :preparar_depto(x))"
   ]
  },
  {
   "cell_type": "code",
   "execution_count": 107,
   "metadata": {
    "collapsed": false
   },
   "outputs": [
    {
     "data": {
      "text/html": [
       "<div>\n",
       "<table border=\"1\" class=\"dataframe\">\n",
       "  <thead>\n",
       "    <tr style=\"text-align: right;\">\n",
       "      <th></th>\n",
       "      <th>Name</th>\n",
       "      <th>geometry</th>\n",
       "    </tr>\n",
       "  </thead>\n",
       "  <tbody>\n",
       "    <tr>\n",
       "      <th>0</th>\n",
       "      <td>De_Ypoa</td>\n",
       "      <td>(POLYGON Z ((-57.34032646299994 -26.1691885919...</td>\n",
       "    </tr>\n",
       "    <tr>\n",
       "      <th>1</th>\n",
       "      <td>Esteros_del_Ibera</td>\n",
       "      <td>(POLYGON Z ((-58.48979397799991 -28.9349022039...</td>\n",
       "    </tr>\n",
       "    <tr>\n",
       "      <th>2</th>\n",
       "      <td>Parque_Chaqueno_Correntino</td>\n",
       "      <td>(POLYGON Z ((-58.89141810099994 -29.52623415 0...</td>\n",
       "    </tr>\n",
       "    <tr>\n",
       "      <th>3</th>\n",
       "      <td>Transicion_Chaco_Pantanal</td>\n",
       "      <td>(POLYGON Z ((-58.0025808179999 -19.23088413899...</td>\n",
       "    </tr>\n",
       "    <tr>\n",
       "      <th>4</th>\n",
       "      <td>Valle_fluvial_de_los_Rios_Parana_y_Paraguay</td>\n",
       "      <td>(POLYGON Z ((-59.39807189299995 -29.4095258589...</td>\n",
       "    </tr>\n",
       "  </tbody>\n",
       "</table>\n",
       "</div>"
      ],
      "text/plain": [
       "                                          Name  \\\n",
       "0                                      De_Ypoa   \n",
       "1                            Esteros_del_Ibera   \n",
       "2                   Parque_Chaqueno_Correntino   \n",
       "3                    Transicion_Chaco_Pantanal   \n",
       "4  Valle_fluvial_de_los_Rios_Parana_y_Paraguay   \n",
       "\n",
       "                                            geometry  \n",
       "0  (POLYGON Z ((-57.34032646299994 -26.1691885919...  \n",
       "1  (POLYGON Z ((-58.48979397799991 -28.9349022039...  \n",
       "2  (POLYGON Z ((-58.89141810099994 -29.52623415 0...  \n",
       "3  (POLYGON Z ((-58.0025808179999 -19.23088413899...  \n",
       "4  (POLYGON Z ((-59.39807189299995 -29.4095258589...  "
      ]
     },
     "execution_count": 107,
     "metadata": {},
     "output_type": "execute_result"
    }
   ],
   "source": [
    "granchaco.head()"
   ]
  },
  {
   "cell_type": "code",
   "execution_count": 108,
   "metadata": {
    "collapsed": true
   },
   "outputs": [],
   "source": [
    "def geom_intersects_granchaco_series(geom,geoseries):\n",
    "    #entra la geotabla de deptos y un punto y hace un point in Poly p/ el punto contra todos los posibles poligonos\n",
    "    \n",
    "    ind = geoseries['geometry'].apply(lambda x: geom.intersects(x))\n",
    "    #el resultante\n",
    "    dep = geoseries[ind]\n",
    "    #si no interseca nada\n",
    "    if dep.shape[0]==0:\n",
    "        rv = \"NOT_GC\"\n",
    "    else:\n",
    "        rv = dep['Name'].values[0]\n",
    "    \n",
    "    rv = pd.Series({'GC_AREA':rv})\n",
    "        \n",
    "        #pd.Series({'feature1':s+1, 'feature2':s-1})\n",
    "    return rv"
   ]
  },
  {
   "cell_type": "code",
   "execution_count": 109,
   "metadata": {
    "collapsed": false
   },
   "outputs": [
    {
     "name": "stdout",
     "output_type": "stream",
     "text": [
      "CPU times: user 8.4 s, sys: 8 ms, total: 8.4 s\n",
      "Wall time: 8.39 s\n"
     ]
    }
   ],
   "source": [
    "%%time\n",
    "\n",
    "#es importante el orden long/lat\n",
    "global antenas_gpd \n",
    "antenas_gpd =  antennas[['LONGITUD','LATITUD']]\n",
    "antenas_gpd = [shapely.geometry.Point(x) for x in antenas_gpd.values] \n",
    "\n",
    "antenas_gpd =  gpd.GeoSeries(antenas_gpd)\n",
    "\n",
    "antennas['GC_AREA'] = (antenas_gpd.apply(lambda point : \\\n",
    "                                                        geom_intersects_granchaco_series(point,granchaco) )).values"
   ]
  },
  {
   "cell_type": "code",
   "execution_count": 110,
   "metadata": {
    "collapsed": false
   },
   "outputs": [
    {
     "data": {
      "text/plain": [
       "(5806, 6)"
      ]
     },
     "execution_count": 110,
     "metadata": {},
     "output_type": "execute_result"
    }
   ],
   "source": [
    "antennas.shape"
   ]
  },
  {
   "cell_type": "code",
   "execution_count": 111,
   "metadata": {
    "collapsed": false,
    "scrolled": true
   },
   "outputs": [
    {
     "data": {
      "text/plain": [
       "NOT_GC                                                                  4968\n",
       "Bosques_arbustales_del_centro_(con_jarilla_Larrea)                       190\n",
       "Chaco_Serrano_Puntano_Cordobes                                           106\n",
       "Chaco_de_los_Llanos_y_Valles_Interserranos                                87\n",
       "Parque_Chaqueno_Correntino                                                74\n",
       "Transicion_Chaco_Monte                                                    60\n",
       "Del_Chaco_oriental_del_Bajo_Rio_Paraguay                                  59\n",
       "Bosque_austral_de_dos_quebrachos                                          50\n",
       "Chaco_sub_humedo_central                                                  42\n",
       "Del_Dorsal_Oriental                                                       35\n",
       "Chaco_de_canadas_y_bosques                                                28\n",
       "Antiguos_cauces_del_Juramento_Salado                                      16\n",
       "Interfluvio_del_Bermejo-Pilcomayo                                         16\n",
       "Cuna_boscosa                                                              14\n",
       "Del_Rio_Dulce                                                             12\n",
       "Valle_fluvial_de_los_Rios_Parana_y_Paraguay                               10\n",
       "Bajos_submeridionales_zonas_de_inundacion_y_humedales                      8\n",
       "Teuquito-Bermejo-Bermejito                                                 7\n",
       "Del_Rio_Salado                                                             7\n",
       "Otros_complejos_de_salinas_menos_diversos                                  5\n",
       "Del_Rio_Pilcomayo                                                          3\n",
       "Terraza_del_Rio_San_Francisco                                              2\n",
       "Transicion_Chaco_Yungas                                                    2\n",
       "Abanico_del_Itiyuro                                                        2\n",
       "Lomas_de_Olmedo_y_pendiente_oriental_de_serranias_de_Maiz_Gordo_Sant       1\n",
       "Esteros_del_Ibera                                                          1\n",
       "Yungas                                                                     1\n",
       "Name: GC_AREA, dtype: int64"
      ]
     },
     "execution_count": 111,
     "metadata": {},
     "output_type": "execute_result"
    }
   ],
   "source": [
    "# vemos la frecuencia de las antennas en estas areas epidemicas\n",
    "antennas['GC_AREA'].value_counts()"
   ]
  },
  {
   "cell_type": "code",
   "execution_count": 112,
   "metadata": {
    "collapsed": false,
    "scrolled": false
   },
   "outputs": [
    {
     "data": {
      "text/html": [
       "<div>\n",
       "<table border=\"1\" class=\"dataframe\">\n",
       "  <thead>\n",
       "    <tr style=\"text-align: right;\">\n",
       "      <th></th>\n",
       "      <th>CEL_DESCRIPTION</th>\n",
       "      <th>LATITUD</th>\n",
       "      <th>LONGITUD</th>\n",
       "      <th>DEPARTAMENTO</th>\n",
       "      <th>PROVINCIA</th>\n",
       "      <th>GC_AREA</th>\n",
       "      <th>EPIDEMIC</th>\n",
       "    </tr>\n",
       "    <tr>\n",
       "      <th>CEL_ID</th>\n",
       "      <th></th>\n",
       "      <th></th>\n",
       "      <th></th>\n",
       "      <th></th>\n",
       "      <th></th>\n",
       "      <th></th>\n",
       "      <th></th>\n",
       "    </tr>\n",
       "  </thead>\n",
       "  <tbody>\n",
       "    <tr>\n",
       "      <th>ME231</th>\n",
       "      <td>ZANJON_DE_LOS_C</td>\n",
       "      <td>-32.8613</td>\n",
       "      <td>-68.8548</td>\n",
       "      <td>Capital</td>\n",
       "      <td>Mendoza</td>\n",
       "      <td>NOT_GC</td>\n",
       "      <td>0</td>\n",
       "    </tr>\n",
       "    <tr>\n",
       "      <th>SJ064</th>\n",
       "      <td>SAN_JUAN_UMTS_4</td>\n",
       "      <td>-31.5285</td>\n",
       "      <td>-68.5217</td>\n",
       "      <td>Capital</td>\n",
       "      <td>San_Juan</td>\n",
       "      <td>NOT_GC</td>\n",
       "      <td>0</td>\n",
       "    </tr>\n",
       "    <tr>\n",
       "      <th>CF001</th>\n",
       "      <td>SANTA_FE</td>\n",
       "      <td>-34.5956</td>\n",
       "      <td>-58.3890</td>\n",
       "      <td>Distrito_Federal</td>\n",
       "      <td>Ciudad_de_Buenos_Aires</td>\n",
       "      <td>NOT_GC</td>\n",
       "      <td>0</td>\n",
       "    </tr>\n",
       "    <tr>\n",
       "      <th>BA716</th>\n",
       "      <td>MELCHOR_ROMERO</td>\n",
       "      <td>-34.9936</td>\n",
       "      <td>-58.0346</td>\n",
       "      <td>La_Plata</td>\n",
       "      <td>Buenos_Aires</td>\n",
       "      <td>NOT_GC</td>\n",
       "      <td>0</td>\n",
       "    </tr>\n",
       "    <tr>\n",
       "      <th>C1129</th>\n",
       "      <td>HURLINGHAM_3</td>\n",
       "      <td>-34.6041</td>\n",
       "      <td>-58.6370</td>\n",
       "      <td>Moron</td>\n",
       "      <td>Buenos_Aires</td>\n",
       "      <td>NOT_GC</td>\n",
       "      <td>0</td>\n",
       "    </tr>\n",
       "    <tr>\n",
       "      <th>ME065</th>\n",
       "      <td>PUNTA_DE_VACAS</td>\n",
       "      <td>-32.8550</td>\n",
       "      <td>-69.7616</td>\n",
       "      <td>Lujan_de_Cuyo</td>\n",
       "      <td>Mendoza</td>\n",
       "      <td>NOT_GC</td>\n",
       "      <td>0</td>\n",
       "    </tr>\n",
       "    <tr>\n",
       "      <th>ER007</th>\n",
       "      <td>DIAMANTE</td>\n",
       "      <td>-32.0744</td>\n",
       "      <td>-60.6180</td>\n",
       "      <td>Diamante</td>\n",
       "      <td>Entre_Rios</td>\n",
       "      <td>NOT_GC</td>\n",
       "      <td>0</td>\n",
       "    </tr>\n",
       "    <tr>\n",
       "      <th>C1715</th>\n",
       "      <td>AVDA_SAENZ_2</td>\n",
       "      <td>-34.6419</td>\n",
       "      <td>-58.4115</td>\n",
       "      <td>Distrito_Federal</td>\n",
       "      <td>Ciudad_de_Buenos_Aires</td>\n",
       "      <td>NOT_GC</td>\n",
       "      <td>0</td>\n",
       "    </tr>\n",
       "    <tr>\n",
       "      <th>TU094</th>\n",
       "      <td>FAMAILLA_2</td>\n",
       "      <td>-27.0630</td>\n",
       "      <td>-65.4029</td>\n",
       "      <td>Famailla</td>\n",
       "      <td>Tucuman</td>\n",
       "      <td>Bosques_arbustales_del_centro_(con_jarilla_Lar...</td>\n",
       "      <td>1</td>\n",
       "    </tr>\n",
       "    <tr>\n",
       "      <th>CF320</th>\n",
       "      <td>COSTA_SALGUERO</td>\n",
       "      <td>-34.5713</td>\n",
       "      <td>-58.3958</td>\n",
       "      <td>Distrito_Federal</td>\n",
       "      <td>Ciudad_de_Buenos_Aires</td>\n",
       "      <td>NOT_GC</td>\n",
       "      <td>0</td>\n",
       "    </tr>\n",
       "  </tbody>\n",
       "</table>\n",
       "</div>"
      ],
      "text/plain": [
       "        CEL_DESCRIPTION  LATITUD  LONGITUD      DEPARTAMENTO  \\\n",
       "CEL_ID                                                         \n",
       "ME231   ZANJON_DE_LOS_C -32.8613  -68.8548           Capital   \n",
       "SJ064   SAN_JUAN_UMTS_4 -31.5285  -68.5217           Capital   \n",
       "CF001          SANTA_FE -34.5956  -58.3890  Distrito_Federal   \n",
       "BA716    MELCHOR_ROMERO -34.9936  -58.0346          La_Plata   \n",
       "C1129      HURLINGHAM_3 -34.6041  -58.6370             Moron   \n",
       "ME065    PUNTA_DE_VACAS -32.8550  -69.7616     Lujan_de_Cuyo   \n",
       "ER007          DIAMANTE -32.0744  -60.6180          Diamante   \n",
       "C1715      AVDA_SAENZ_2 -34.6419  -58.4115  Distrito_Federal   \n",
       "TU094        FAMAILLA_2 -27.0630  -65.4029          Famailla   \n",
       "CF320    COSTA_SALGUERO -34.5713  -58.3958  Distrito_Federal   \n",
       "\n",
       "                     PROVINCIA  \\\n",
       "CEL_ID                           \n",
       "ME231                  Mendoza   \n",
       "SJ064                 San_Juan   \n",
       "CF001   Ciudad_de_Buenos_Aires   \n",
       "BA716             Buenos_Aires   \n",
       "C1129             Buenos_Aires   \n",
       "ME065                  Mendoza   \n",
       "ER007               Entre_Rios   \n",
       "C1715   Ciudad_de_Buenos_Aires   \n",
       "TU094                  Tucuman   \n",
       "CF320   Ciudad_de_Buenos_Aires   \n",
       "\n",
       "                                                  GC_AREA  EPIDEMIC  \n",
       "CEL_ID                                                               \n",
       "ME231                                              NOT_GC         0  \n",
       "SJ064                                              NOT_GC         0  \n",
       "CF001                                              NOT_GC         0  \n",
       "BA716                                              NOT_GC         0  \n",
       "C1129                                              NOT_GC         0  \n",
       "ME065                                              NOT_GC         0  \n",
       "ER007                                              NOT_GC         0  \n",
       "C1715                                              NOT_GC         0  \n",
       "TU094   Bosques_arbustales_del_centro_(con_jarilla_Lar...         1  \n",
       "CF320                                              NOT_GC         0  "
      ]
     },
     "execution_count": 112,
     "metadata": {},
     "output_type": "execute_result"
    }
   ],
   "source": [
    "antennas['EPIDEMIC'] = (~(antennas['GC_AREA'] == \"NOT_GC\")).astype(int)\n",
    "\n",
    "antennas.sample(10)"
   ]
  },
  {
   "cell_type": "code",
   "execution_count": 113,
   "metadata": {
    "collapsed": false
   },
   "outputs": [
    {
     "data": {
      "text/plain": [
       "<matplotlib.axes._subplots.AxesSubplot at 0x7fdbd28c7890>"
      ]
     },
     "execution_count": 113,
     "metadata": {},
     "output_type": "execute_result"
    },
    {
     "data": {
      "image/png": "[encoded data removed]",
      "text/plain": [
       "<matplotlib.figure.Figure at 0x7fdbd3324750>"
      ]
     },
     "metadata": {},
     "output_type": "display_data"
    }
   ],
   "source": [
    "departamentos[departamentos['PROVINCIA']=='Buenos_Aires'].plot()"
   ]
  },
  {
   "cell_type": "code",
   "execution_count": 114,
   "metadata": {
    "collapsed": false
   },
   "outputs": [
    {
     "data": {
      "text/plain": [
       "True"
      ]
     },
     "execution_count": 114,
     "metadata": {},
     "output_type": "execute_result"
    }
   ],
   "source": [
    "#chequeo que no haya antenas repetidas\n",
    "len(np.unique(antennas.index.values))==len(antennas.index.values)"
   ]
  },
  {
   "cell_type": "code",
   "execution_count": 554,
   "metadata": {
    "collapsed": false
   },
   "outputs": [
    {
     "data": {
      "text/plain": [
       "<matplotlib.axes._subplots.AxesSubplot at 0x7f5422aea9d0>"
      ]
     },
     "execution_count": 554,
     "metadata": {},
     "output_type": "execute_result"
    },
    {
     "data": {
      "image/png": "[encoded data removed]",
      "text/plain": [
       "<matplotlib.figure.Figure at 0x7f5423c9fa50>"
      ]
     },
     "metadata": {},
     "output_type": "display_data"
    }
   ],
   "source": [
    "departamentos.plot()"
   ]
  },
  {
   "cell_type": "code",
   "execution_count": 115,
   "metadata": {
    "collapsed": false,
    "scrolled": true
   },
   "outputs": [
    {
     "name": "stdout",
     "output_type": "stream",
     "text": [
      "CEL_ID|CEL_DESCRIPTION|LATITUD|LONGITUD|DEPARTAMENTO|PROVINCIA|GC_AREA|EPIDEMIC\r\n",
      "B1061|MUNDO_MARNO|-36.339|-56.7468|La_Costa|Buenos_Aires|NOT_GC|0\r\n",
      "B1062|BUNGE_RAMALLO|-33.4578|-60.0522|Ramallo|Buenos_Aires|NOT_GC|0\r\n",
      "BA001|GOBERNADOR_UGARTE|-35.1641|-60.0866|Veinticinco_de_Mayo|Buenos_Aires|NOT_GC|0\r\n",
      "BA003|25_DE_MAYO|-35.4275|-60.1538|Veinticinco_de_Mayo|Buenos_Aires|NOT_GC|0\r\n",
      "BA004|DEL_VALLE|-35.9|-60.7275|Veinticinco_de_Mayo|Buenos_Aires|NOT_GC|0\r\n",
      "BA006|CARLOS_M_NAON|-35.2355|-60.8283|Nueve_de_Julio|Buenos_Aires|NOT_GC|0\r\n",
      "BA007|ADEMARCHI_(ESTQUIR|-35.2894|-61.3972|Nueve_de_Julio|Buenos_Aires|NOT_GC|0\r\n",
      "BA010|DUDIGNAC|-35.6458|-60.7036|Nueve_de_Julio|Buenos_Aires|NOT_GC|0\r\n",
      "BA013|RIVERA|-37.1577|-63.2363|Adolfo_Alsina|Buenos_Aires|NOT_GC|0\r\n"
     ]
    }
   ],
   "source": [
    "antennas_file_out\n",
    "antennas.to_csv(antennas_file_out,index=True,sep=\"|\", encoding='utf-8')\n",
    "!head -n10 $antennas_file_out"
   ]
  },
  {
   "cell_type": "code",
   "execution_count": 116,
   "metadata": {
    "collapsed": false,
    "scrolled": true
   },
   "outputs": [],
   "source": [
    "#set endemicity per department\n",
    "a = (departamentos['geometry'].apply(lambda point : \\\n",
    "                                          geom_intersects_granchaco_series(point,granchaco) ).values) \n",
    "a = a.flatten()\n",
    "\n",
    "departamentos['EPIDEMIC'] = (a!= \"NOT_GC\")\n"
   ]
  },
  {
   "cell_type": "code",
   "execution_count": 557,
   "metadata": {
    "collapsed": false,
    "scrolled": true
   },
   "outputs": [
    {
     "data": {
      "text/plain": [
       "<matplotlib.axes._subplots.AxesSubplot at 0x7f5420dac510>"
      ]
     },
     "execution_count": 557,
     "metadata": {},
     "output_type": "execute_result"
    },
    {
     "data": {
      "image/png": "[encoded data removed]",
      "text/plain": [
       "<matplotlib.figure.Figure at 0x7f5420e101d0>"
      ]
     },
     "metadata": {},
     "output_type": "display_data"
    }
   ],
   "source": [
    "from matplotlib import pyplot as plt\n",
    "\n",
    "fig = plt.figure(figsize=(18,18),dpi=300)\n",
    "fig.suptitle('Departamentos del Gran Chaco', fontsize=14, fontweight='bold')\n",
    "\n",
    "kw = dict(column=\"EPIDEMIC\",k=6,colormap='YlOrRd')\n",
    "departamentos.plot(scheme = \"Quantiles\",**kw)\n",
    "\n"
   ]
  },
  {
   "cell_type": "markdown",
   "metadata": {},
   "source": [
    "## Agrego \n",
    "lat/long a c/ antenna del file de caro"
   ]
  },
  {
   "cell_type": "code",
   "execution_count": 117,
   "metadata": {
    "collapsed": false
   },
   "outputs": [
    {
     "name": "stdout",
     "output_type": "stream",
     "text": [
      "surr_id|latitude|longitude|subregion|departamento\r\n",
      "2057|-32.0161|-61.23||453\r\n",
      "2989|-31.2539|-60.7594||447\r\n",
      "3347|-28.8316|-59.6502|Del Dorsal Oriental|445\r\n",
      "3057|-30.9383|-61.57||441\r\n",
      "3762|-31.093|-61.9055||441\r\n",
      "4345|-34.602|-58.3752||184\r\n",
      "2095|-34.8921|-57.9101||15\r\n",
      "1705|-32.692|-63.4349||190\r\n",
      "82|-34.4956|-58.498||110\r\n"
     ]
    }
   ],
   "source": [
    "arg_dir = \"../mobility-study/mapa/data/antenna_data.csv\"\n",
    "\n",
    "!head $arg_dir"
   ]
  },
  {
   "cell_type": "code",
   "execution_count": 118,
   "metadata": {
    "collapsed": false,
    "scrolled": true
   },
   "outputs": [],
   "source": [
    "### ADD surrogate antennas latitude/longitude info from caro's processed dataset\n",
    "\n",
    "# read files\n",
    "\n",
    "old_antennas = pd.read_csv(arg_dir, sep=\"|\",\n",
    "                            #engine = 'python',\n",
    "                           header = 0\n",
    "                            )\n",
    "\n",
    "antennas = pd.read_csv(antennas_file_out, sep = \"|\",\n",
    "                            #engine = 'python', \n",
    "                            )\n",
    "old_antennas.columns = old_antennas.columns.str.upper()\n",
    "#old_antennas.drop('EPIDEMIC',axis=1,inplace=True)\n",
    "old_antennas['SURR_ID'] = old_antennas['SURR_ID'].astype(np.uint32)\n",
    "#old_antennas['DEPARTAMENTO'] = old_antennas['DEPARTAMENTO'].astype(np.uint32)\n",
    "old_antennas.rename(columns={'LATITUDE':'LATITUD','LONGITUDE':'LONGITUD'},inplace=True)"
   ]
  },
  {
   "cell_type": "code",
   "execution_count": 119,
   "metadata": {
    "collapsed": false
   },
   "outputs": [
    {
     "data": {
      "text/html": [
       "<div>\n",
       "<table border=\"1\" class=\"dataframe\">\n",
       "  <thead>\n",
       "    <tr style=\"text-align: right;\">\n",
       "      <th></th>\n",
       "      <th>CEL_ID</th>\n",
       "      <th>CEL_DESCRIPTION</th>\n",
       "      <th>LATITUD</th>\n",
       "      <th>LONGITUD</th>\n",
       "      <th>DEPARTAMENTO</th>\n",
       "      <th>PROVINCIA</th>\n",
       "      <th>GC_AREA</th>\n",
       "      <th>EPIDEMIC</th>\n",
       "    </tr>\n",
       "  </thead>\n",
       "  <tbody>\n",
       "    <tr>\n",
       "      <th>0</th>\n",
       "      <td>B1061</td>\n",
       "      <td>MUNDO_MARNO</td>\n",
       "      <td>-36.3390</td>\n",
       "      <td>-56.7468</td>\n",
       "      <td>La_Costa</td>\n",
       "      <td>Buenos_Aires</td>\n",
       "      <td>NOT_GC</td>\n",
       "      <td>0</td>\n",
       "    </tr>\n",
       "    <tr>\n",
       "      <th>1</th>\n",
       "      <td>B1062</td>\n",
       "      <td>BUNGE_RAMALLO</td>\n",
       "      <td>-33.4578</td>\n",
       "      <td>-60.0522</td>\n",
       "      <td>Ramallo</td>\n",
       "      <td>Buenos_Aires</td>\n",
       "      <td>NOT_GC</td>\n",
       "      <td>0</td>\n",
       "    </tr>\n",
       "    <tr>\n",
       "      <th>2</th>\n",
       "      <td>BA001</td>\n",
       "      <td>GOBERNADOR_UGARTE</td>\n",
       "      <td>-35.1641</td>\n",
       "      <td>-60.0866</td>\n",
       "      <td>Veinticinco_de_Mayo</td>\n",
       "      <td>Buenos_Aires</td>\n",
       "      <td>NOT_GC</td>\n",
       "      <td>0</td>\n",
       "    </tr>\n",
       "    <tr>\n",
       "      <th>3</th>\n",
       "      <td>BA003</td>\n",
       "      <td>25_DE_MAYO</td>\n",
       "      <td>-35.4275</td>\n",
       "      <td>-60.1538</td>\n",
       "      <td>Veinticinco_de_Mayo</td>\n",
       "      <td>Buenos_Aires</td>\n",
       "      <td>NOT_GC</td>\n",
       "      <td>0</td>\n",
       "    </tr>\n",
       "    <tr>\n",
       "      <th>4</th>\n",
       "      <td>BA004</td>\n",
       "      <td>DEL_VALLE</td>\n",
       "      <td>-35.9000</td>\n",
       "      <td>-60.7275</td>\n",
       "      <td>Veinticinco_de_Mayo</td>\n",
       "      <td>Buenos_Aires</td>\n",
       "      <td>NOT_GC</td>\n",
       "      <td>0</td>\n",
       "    </tr>\n",
       "  </tbody>\n",
       "</table>\n",
       "</div>"
      ],
      "text/plain": [
       "  CEL_ID    CEL_DESCRIPTION  LATITUD  LONGITUD         DEPARTAMENTO  \\\n",
       "0  B1061        MUNDO_MARNO -36.3390  -56.7468             La_Costa   \n",
       "1  B1062      BUNGE_RAMALLO -33.4578  -60.0522              Ramallo   \n",
       "2  BA001  GOBERNADOR_UGARTE -35.1641  -60.0866  Veinticinco_de_Mayo   \n",
       "3  BA003         25_DE_MAYO -35.4275  -60.1538  Veinticinco_de_Mayo   \n",
       "4  BA004          DEL_VALLE -35.9000  -60.7275  Veinticinco_de_Mayo   \n",
       "\n",
       "      PROVINCIA GC_AREA  EPIDEMIC  \n",
       "0  Buenos_Aires  NOT_GC         0  \n",
       "1  Buenos_Aires  NOT_GC         0  \n",
       "2  Buenos_Aires  NOT_GC         0  \n",
       "3  Buenos_Aires  NOT_GC         0  \n",
       "4  Buenos_Aires  NOT_GC         0  "
      ]
     },
     "execution_count": 119,
     "metadata": {},
     "output_type": "execute_result"
    }
   ],
   "source": [
    "antennas.head()"
   ]
  },
  {
   "cell_type": "code",
   "execution_count": 120,
   "metadata": {
    "collapsed": false
   },
   "outputs": [
    {
     "data": {
      "text/html": [
       "<div>\n",
       "<table border=\"1\" class=\"dataframe\">\n",
       "  <thead>\n",
       "    <tr style=\"text-align: right;\">\n",
       "      <th></th>\n",
       "      <th>SURR_ID</th>\n",
       "      <th>LATITUD</th>\n",
       "      <th>LONGITUD</th>\n",
       "      <th>SUBREGION</th>\n",
       "      <th>DEPARTAMENTO</th>\n",
       "    </tr>\n",
       "  </thead>\n",
       "  <tbody>\n",
       "    <tr>\n",
       "      <th>0</th>\n",
       "      <td>2057</td>\n",
       "      <td>-32.0161</td>\n",
       "      <td>-61.2300</td>\n",
       "      <td>NaN</td>\n",
       "      <td>453.0</td>\n",
       "    </tr>\n",
       "    <tr>\n",
       "      <th>1</th>\n",
       "      <td>2989</td>\n",
       "      <td>-31.2539</td>\n",
       "      <td>-60.7594</td>\n",
       "      <td>NaN</td>\n",
       "      <td>447.0</td>\n",
       "    </tr>\n",
       "    <tr>\n",
       "      <th>2</th>\n",
       "      <td>3347</td>\n",
       "      <td>-28.8316</td>\n",
       "      <td>-59.6502</td>\n",
       "      <td>Del Dorsal Oriental</td>\n",
       "      <td>445.0</td>\n",
       "    </tr>\n",
       "    <tr>\n",
       "      <th>3</th>\n",
       "      <td>3057</td>\n",
       "      <td>-30.9383</td>\n",
       "      <td>-61.5700</td>\n",
       "      <td>NaN</td>\n",
       "      <td>441.0</td>\n",
       "    </tr>\n",
       "    <tr>\n",
       "      <th>4</th>\n",
       "      <td>3762</td>\n",
       "      <td>-31.0930</td>\n",
       "      <td>-61.9055</td>\n",
       "      <td>NaN</td>\n",
       "      <td>441.0</td>\n",
       "    </tr>\n",
       "  </tbody>\n",
       "</table>\n",
       "</div>"
      ],
      "text/plain": [
       "   SURR_ID  LATITUD  LONGITUD            SUBREGION  DEPARTAMENTO\n",
       "0     2057 -32.0161  -61.2300                  NaN         453.0\n",
       "1     2989 -31.2539  -60.7594                  NaN         447.0\n",
       "2     3347 -28.8316  -59.6502  Del Dorsal Oriental         445.0\n",
       "3     3057 -30.9383  -61.5700                  NaN         441.0\n",
       "4     3762 -31.0930  -61.9055                  NaN         441.0"
      ]
     },
     "execution_count": 120,
     "metadata": {},
     "output_type": "execute_result"
    }
   ],
   "source": [
    "old_antennas.head()"
   ]
  },
  {
   "cell_type": "code",
   "execution_count": 121,
   "metadata": {
    "collapsed": false
   },
   "outputs": [
    {
     "data": {
      "text/plain": [
       "((4501, 2), (4520, 2))"
      ]
     },
     "execution_count": 121,
     "metadata": {},
     "output_type": "execute_result"
    }
   ],
   "source": [
    "# a modo de ejemplo vemos cuantas veces se repiten los pares (long, lat)\n",
    "\n",
    "a = old_antennas[['LATITUD','LONGITUD']].values\n",
    "b = np.ascontiguousarray(a).view(np.dtype((np.void, a.dtype.itemsize * a.shape[1])))\n",
    "unique_a = np.unique(b).view(a.dtype).reshape(-1, a.shape[1])\n",
    "unique_a.shape, a.shape"
   ]
  },
  {
   "cell_type": "code",
   "execution_count": 122,
   "metadata": {
    "collapsed": false
   },
   "outputs": [
    {
     "data": {
      "text/plain": [
       "((5691, 2), (5806, 2))"
      ]
     },
     "execution_count": 122,
     "metadata": {},
     "output_type": "execute_result"
    }
   ],
   "source": [
    "a = antennas[['LATITUD','LONGITUD']].values\n",
    "b = np.ascontiguousarray(a).view(np.dtype((np.void, a.dtype.itemsize * a.shape[1])))\n",
    "unique_a = np.unique(b).view(a.dtype).reshape(-1, a.shape[1])\n",
    "unique_a.shape, a.shape"
   ]
  },
  {
   "cell_type": "code",
   "execution_count": 123,
   "metadata": {
    "collapsed": false,
    "scrolled": true
   },
   "outputs": [],
   "source": [
    "# suponiendo que el lat/long es un buen \"id\" de c/ antenna, los mergeo sobre estos 2 valores\n",
    "test =  pd.merge(antennas,old_antennas,on = ['LATITUD','LONGITUD'],how='outer')\n"
   ]
  },
  {
   "cell_type": "code",
   "execution_count": 124,
   "metadata": {
    "collapsed": false,
    "scrolled": false
   },
   "outputs": [
    {
     "data": {
      "text/html": [
       "<div>\n",
       "<table border=\"1\" class=\"dataframe\">\n",
       "  <thead>\n",
       "    <tr style=\"text-align: right;\">\n",
       "      <th></th>\n",
       "      <th>CEL_ID</th>\n",
       "      <th>CEL_DESCRIPTION</th>\n",
       "      <th>LATITUD</th>\n",
       "      <th>LONGITUD</th>\n",
       "      <th>DEPARTAMENTO_x</th>\n",
       "      <th>PROVINCIA</th>\n",
       "      <th>GC_AREA</th>\n",
       "      <th>EPIDEMIC</th>\n",
       "      <th>SURR_ID</th>\n",
       "      <th>SUBREGION</th>\n",
       "      <th>DEPARTAMENTO_y</th>\n",
       "    </tr>\n",
       "  </thead>\n",
       "  <tbody>\n",
       "    <tr>\n",
       "      <th>3540</th>\n",
       "      <td>COXXX</td>\n",
       "      <td>VILLA_MARIA_DE_</td>\n",
       "      <td>-29.9054</td>\n",
       "      <td>-63.7208</td>\n",
       "      <td>Rio_Seco</td>\n",
       "      <td>Cordoba</td>\n",
       "      <td>Bosque_austral_de_dos_quebrachos</td>\n",
       "      <td>1.0</td>\n",
       "      <td>3710.0</td>\n",
       "      <td>Bosque austral de dos quebrachos</td>\n",
       "      <td>200.0</td>\n",
       "    </tr>\n",
       "    <tr>\n",
       "      <th>3099</th>\n",
       "      <td>CO136</td>\n",
       "      <td>CORRAL_DE_BUSTOS</td>\n",
       "      <td>-33.2844</td>\n",
       "      <td>-62.1986</td>\n",
       "      <td>Marcos_Juarez</td>\n",
       "      <td>Cordoba</td>\n",
       "      <td>NOT_GC</td>\n",
       "      <td>0.0</td>\n",
       "      <td>1066.0</td>\n",
       "      <td>NaN</td>\n",
       "      <td>193.0</td>\n",
       "    </tr>\n",
       "    <tr>\n",
       "      <th>5864</th>\n",
       "      <td>NaN</td>\n",
       "      <td>NaN</td>\n",
       "      <td>-31.4168</td>\n",
       "      <td>-64.4380</td>\n",
       "      <td>NaN</td>\n",
       "      <td>NaN</td>\n",
       "      <td>NaN</td>\n",
       "      <td>NaN</td>\n",
       "      <td>368.0</td>\n",
       "      <td>Chaco Serrano Puntano Cordobes</td>\n",
       "      <td>205.0</td>\n",
       "    </tr>\n",
       "    <tr>\n",
       "      <th>1345</th>\n",
       "      <td>C1741</td>\n",
       "      <td>SAN_JUSTO_2_NUE</td>\n",
       "      <td>-34.6665</td>\n",
       "      <td>-58.5741</td>\n",
       "      <td>La_Matanza</td>\n",
       "      <td>Buenos_Aires</td>\n",
       "      <td>NOT_GC</td>\n",
       "      <td>0.0</td>\n",
       "      <td>NaN</td>\n",
       "      <td>NaN</td>\n",
       "      <td>NaN</td>\n",
       "    </tr>\n",
       "    <tr>\n",
       "      <th>1086</th>\n",
       "      <td>C1484</td>\n",
       "      <td>PARQUE_LAS_HERAS_2</td>\n",
       "      <td>-34.5875</td>\n",
       "      <td>-58.4091</td>\n",
       "      <td>Distrito_Federal</td>\n",
       "      <td>Ciudad_de_Buenos_Aires</td>\n",
       "      <td>NOT_GC</td>\n",
       "      <td>0.0</td>\n",
       "      <td>NaN</td>\n",
       "      <td>NaN</td>\n",
       "      <td>NaN</td>\n",
       "    </tr>\n",
       "    <tr>\n",
       "      <th>1204</th>\n",
       "      <td>C1604</td>\n",
       "      <td>HOTEL_PESTANA_(</td>\n",
       "      <td>-34.5970</td>\n",
       "      <td>-58.3810</td>\n",
       "      <td>Distrito_Federal</td>\n",
       "      <td>Ciudad_de_Buenos_Aires</td>\n",
       "      <td>NOT_GC</td>\n",
       "      <td>0.0</td>\n",
       "      <td>NaN</td>\n",
       "      <td>NaN</td>\n",
       "      <td>NaN</td>\n",
       "    </tr>\n",
       "    <tr>\n",
       "      <th>3518</th>\n",
       "      <td>CO751</td>\n",
       "      <td>VILLA_DE_SOTO_2</td>\n",
       "      <td>-30.7964</td>\n",
       "      <td>-64.9038</td>\n",
       "      <td>Cruz_del_Eje</td>\n",
       "      <td>Cordoba</td>\n",
       "      <td>Bosques_arbustales_del_centro_(con_jarilla_Lar...</td>\n",
       "      <td>1.0</td>\n",
       "      <td>NaN</td>\n",
       "      <td>NaN</td>\n",
       "      <td>NaN</td>\n",
       "    </tr>\n",
       "    <tr>\n",
       "      <th>3637</th>\n",
       "      <td>COW16</td>\n",
       "      <td>SONANDO_POR_BAILAR</td>\n",
       "      <td>-34.6708</td>\n",
       "      <td>-59.0478</td>\n",
       "      <td>General_Rodriguez</td>\n",
       "      <td>Buenos_Aires</td>\n",
       "      <td>NOT_GC</td>\n",
       "      <td>0.0</td>\n",
       "      <td>4390.0</td>\n",
       "      <td>NaN</td>\n",
       "      <td>53.0</td>\n",
       "    </tr>\n",
       "    <tr>\n",
       "      <th>527</th>\n",
       "      <td>BA784</td>\n",
       "      <td>CHASCOMUS_3</td>\n",
       "      <td>-35.5666</td>\n",
       "      <td>-57.9935</td>\n",
       "      <td>Chascomus</td>\n",
       "      <td>Buenos_Aires</td>\n",
       "      <td>NOT_GC</td>\n",
       "      <td>0.0</td>\n",
       "      <td>NaN</td>\n",
       "      <td>NaN</td>\n",
       "      <td>NaN</td>\n",
       "    </tr>\n",
       "    <tr>\n",
       "      <th>1463</th>\n",
       "      <td>C1933</td>\n",
       "      <td>BQS_DE_PALERMO_2</td>\n",
       "      <td>-34.5742</td>\n",
       "      <td>-58.4202</td>\n",
       "      <td>Distrito_Federal</td>\n",
       "      <td>Ciudad_de_Buenos_Aires</td>\n",
       "      <td>NOT_GC</td>\n",
       "      <td>0.0</td>\n",
       "      <td>NaN</td>\n",
       "      <td>NaN</td>\n",
       "      <td>NaN</td>\n",
       "    </tr>\n",
       "    <tr>\n",
       "      <th>6605</th>\n",
       "      <td>NaN</td>\n",
       "      <td>NaN</td>\n",
       "      <td>-31.3941</td>\n",
       "      <td>-58.0277</td>\n",
       "      <td>NaN</td>\n",
       "      <td>NaN</td>\n",
       "      <td>NaN</td>\n",
       "      <td>NaN</td>\n",
       "      <td>1002.0</td>\n",
       "      <td>NaN</td>\n",
       "      <td>237.0</td>\n",
       "    </tr>\n",
       "    <tr>\n",
       "      <th>6562</th>\n",
       "      <td>NaN</td>\n",
       "      <td>NaN</td>\n",
       "      <td>-34.6151</td>\n",
       "      <td>-58.4509</td>\n",
       "      <td>NaN</td>\n",
       "      <td>NaN</td>\n",
       "      <td>NaN</td>\n",
       "      <td>NaN</td>\n",
       "      <td>1260.0</td>\n",
       "      <td>NaN</td>\n",
       "      <td>184.0</td>\n",
       "    </tr>\n",
       "    <tr>\n",
       "      <th>5781</th>\n",
       "      <td>TU107</td>\n",
       "      <td>TACO_RALO</td>\n",
       "      <td>-27.8336</td>\n",
       "      <td>-65.1961</td>\n",
       "      <td>Graneros</td>\n",
       "      <td>Tucuman</td>\n",
       "      <td>Bosques_arbustales_del_centro_(con_jarilla_Lar...</td>\n",
       "      <td>1.0</td>\n",
       "      <td>3853.0</td>\n",
       "      <td>Bosques arbustales del centro (con jarilla Lar...</td>\n",
       "      <td>492.0</td>\n",
       "    </tr>\n",
       "    <tr>\n",
       "      <th>584</th>\n",
       "      <td>BA856</td>\n",
       "      <td>SAN_NICOLAS_10</td>\n",
       "      <td>-33.3429</td>\n",
       "      <td>-60.2214</td>\n",
       "      <td>San_Nicolas</td>\n",
       "      <td>Buenos_Aires</td>\n",
       "      <td>NOT_GC</td>\n",
       "      <td>0.0</td>\n",
       "      <td>1009.0</td>\n",
       "      <td>NaN</td>\n",
       "      <td>111.0</td>\n",
       "    </tr>\n",
       "    <tr>\n",
       "      <th>3430</th>\n",
       "      <td>CO640</td>\n",
       "      <td>VILLA_DE_SOTO_NUEVO</td>\n",
       "      <td>-30.8597</td>\n",
       "      <td>-64.9959</td>\n",
       "      <td>Cruz_del_Eje</td>\n",
       "      <td>Cordoba</td>\n",
       "      <td>Bosques_arbustales_del_centro_(con_jarilla_Lar...</td>\n",
       "      <td>1.0</td>\n",
       "      <td>NaN</td>\n",
       "      <td>NaN</td>\n",
       "      <td>NaN</td>\n",
       "    </tr>\n",
       "    <tr>\n",
       "      <th>3451</th>\n",
       "      <td>CO664</td>\n",
       "      <td>LAS_VARILLAS_2</td>\n",
       "      <td>-31.8717</td>\n",
       "      <td>-62.7179</td>\n",
       "      <td>San_Justo</td>\n",
       "      <td>Cordoba</td>\n",
       "      <td>NOT_GC</td>\n",
       "      <td>0.0</td>\n",
       "      <td>NaN</td>\n",
       "      <td>NaN</td>\n",
       "      <td>NaN</td>\n",
       "    </tr>\n",
       "    <tr>\n",
       "      <th>1037</th>\n",
       "      <td>C1433</td>\n",
       "      <td>BECCAR_2</td>\n",
       "      <td>-34.4808</td>\n",
       "      <td>-58.5370</td>\n",
       "      <td>San_Isidro</td>\n",
       "      <td>Buenos_Aires</td>\n",
       "      <td>NOT_GC</td>\n",
       "      <td>0.0</td>\n",
       "      <td>2467.0</td>\n",
       "      <td>NaN</td>\n",
       "      <td>110.0</td>\n",
       "    </tr>\n",
       "    <tr>\n",
       "      <th>2069</th>\n",
       "      <td>CB076</td>\n",
       "      <td>TECKA</td>\n",
       "      <td>-43.4944</td>\n",
       "      <td>-70.8095</td>\n",
       "      <td>Languineo</td>\n",
       "      <td>Chubut</td>\n",
       "      <td>NOT_GC</td>\n",
       "      <td>0.0</td>\n",
       "      <td>3660.0</td>\n",
       "      <td>NaN</td>\n",
       "      <td>176.0</td>\n",
       "    </tr>\n",
       "    <tr>\n",
       "      <th>3663</th>\n",
       "      <td>CR024</td>\n",
       "      <td>YAPEYU</td>\n",
       "      <td>-29.4250</td>\n",
       "      <td>-56.8463</td>\n",
       "      <td>San_Martin</td>\n",
       "      <td>Corrientes</td>\n",
       "      <td>NOT_GC</td>\n",
       "      <td>0.0</td>\n",
       "      <td>4086.0</td>\n",
       "      <td>NaN</td>\n",
       "      <td>231.0</td>\n",
       "    </tr>\n",
       "    <tr>\n",
       "      <th>6777</th>\n",
       "      <td>NaN</td>\n",
       "      <td>NaN</td>\n",
       "      <td>-32.8860</td>\n",
       "      <td>-68.8414</td>\n",
       "      <td>NaN</td>\n",
       "      <td>NaN</td>\n",
       "      <td>NaN</td>\n",
       "      <td>NaN</td>\n",
       "      <td>2094.0</td>\n",
       "      <td>NaN</td>\n",
       "      <td>318.0</td>\n",
       "    </tr>\n",
       "  </tbody>\n",
       "</table>\n",
       "</div>"
      ],
      "text/plain": [
       "     CEL_ID      CEL_DESCRIPTION  LATITUD  LONGITUD     DEPARTAMENTO_x  \\\n",
       "3540  COXXX      VILLA_MARIA_DE_ -29.9054  -63.7208           Rio_Seco   \n",
       "3099  CO136     CORRAL_DE_BUSTOS -33.2844  -62.1986      Marcos_Juarez   \n",
       "5864    NaN                  NaN -31.4168  -64.4380                NaN   \n",
       "1345  C1741      SAN_JUSTO_2_NUE -34.6665  -58.5741         La_Matanza   \n",
       "1086  C1484   PARQUE_LAS_HERAS_2 -34.5875  -58.4091   Distrito_Federal   \n",
       "1204  C1604      HOTEL_PESTANA_( -34.5970  -58.3810   Distrito_Federal   \n",
       "3518  CO751      VILLA_DE_SOTO_2 -30.7964  -64.9038       Cruz_del_Eje   \n",
       "3637  COW16   SONANDO_POR_BAILAR -34.6708  -59.0478  General_Rodriguez   \n",
       "527   BA784          CHASCOMUS_3 -35.5666  -57.9935          Chascomus   \n",
       "1463  C1933     BQS_DE_PALERMO_2 -34.5742  -58.4202   Distrito_Federal   \n",
       "6605    NaN                  NaN -31.3941  -58.0277                NaN   \n",
       "6562    NaN                  NaN -34.6151  -58.4509                NaN   \n",
       "5781  TU107            TACO_RALO -27.8336  -65.1961           Graneros   \n",
       "584   BA856       SAN_NICOLAS_10 -33.3429  -60.2214        San_Nicolas   \n",
       "3430  CO640  VILLA_DE_SOTO_NUEVO -30.8597  -64.9959       Cruz_del_Eje   \n",
       "3451  CO664       LAS_VARILLAS_2 -31.8717  -62.7179          San_Justo   \n",
       "1037  C1433             BECCAR_2 -34.4808  -58.5370         San_Isidro   \n",
       "2069  CB076                TECKA -43.4944  -70.8095          Languineo   \n",
       "3663  CR024               YAPEYU -29.4250  -56.8463         San_Martin   \n",
       "6777    NaN                  NaN -32.8860  -68.8414                NaN   \n",
       "\n",
       "                   PROVINCIA  \\\n",
       "3540                 Cordoba   \n",
       "3099                 Cordoba   \n",
       "5864                     NaN   \n",
       "1345            Buenos_Aires   \n",
       "1086  Ciudad_de_Buenos_Aires   \n",
       "1204  Ciudad_de_Buenos_Aires   \n",
       "3518                 Cordoba   \n",
       "3637            Buenos_Aires   \n",
       "527             Buenos_Aires   \n",
       "1463  Ciudad_de_Buenos_Aires   \n",
       "6605                     NaN   \n",
       "6562                     NaN   \n",
       "5781                 Tucuman   \n",
       "584             Buenos_Aires   \n",
       "3430                 Cordoba   \n",
       "3451                 Cordoba   \n",
       "1037            Buenos_Aires   \n",
       "2069                  Chubut   \n",
       "3663              Corrientes   \n",
       "6777                     NaN   \n",
       "\n",
       "                                                GC_AREA  EPIDEMIC  SURR_ID  \\\n",
       "3540                   Bosque_austral_de_dos_quebrachos       1.0   3710.0   \n",
       "3099                                             NOT_GC       0.0   1066.0   \n",
       "5864                                                NaN       NaN    368.0   \n",
       "1345                                             NOT_GC       0.0      NaN   \n",
       "1086                                             NOT_GC       0.0      NaN   \n",
       "1204                                             NOT_GC       0.0      NaN   \n",
       "3518  Bosques_arbustales_del_centro_(con_jarilla_Lar...       1.0      NaN   \n",
       "3637                                             NOT_GC       0.0   4390.0   \n",
       "527                                              NOT_GC       0.0      NaN   \n",
       "1463                                             NOT_GC       0.0      NaN   \n",
       "6605                                                NaN       NaN   1002.0   \n",
       "6562                                                NaN       NaN   1260.0   \n",
       "5781  Bosques_arbustales_del_centro_(con_jarilla_Lar...       1.0   3853.0   \n",
       "584                                              NOT_GC       0.0   1009.0   \n",
       "3430  Bosques_arbustales_del_centro_(con_jarilla_Lar...       1.0      NaN   \n",
       "3451                                             NOT_GC       0.0      NaN   \n",
       "1037                                             NOT_GC       0.0   2467.0   \n",
       "2069                                             NOT_GC       0.0   3660.0   \n",
       "3663                                             NOT_GC       0.0   4086.0   \n",
       "6777                                                NaN       NaN   2094.0   \n",
       "\n",
       "                                              SUBREGION  DEPARTAMENTO_y  \n",
       "3540                   Bosque austral de dos quebrachos           200.0  \n",
       "3099                                                NaN           193.0  \n",
       "5864                     Chaco Serrano Puntano Cordobes           205.0  \n",
       "1345                                                NaN             NaN  \n",
       "1086                                                NaN             NaN  \n",
       "1204                                                NaN             NaN  \n",
       "3518                                                NaN             NaN  \n",
       "3637                                                NaN            53.0  \n",
       "527                                                 NaN             NaN  \n",
       "1463                                                NaN             NaN  \n",
       "6605                                                NaN           237.0  \n",
       "6562                                                NaN           184.0  \n",
       "5781  Bosques arbustales del centro (con jarilla Lar...           492.0  \n",
       "584                                                 NaN           111.0  \n",
       "3430                                                NaN             NaN  \n",
       "3451                                                NaN             NaN  \n",
       "1037                                                NaN           110.0  \n",
       "2069                                                NaN           176.0  \n",
       "3663                                                NaN           231.0  \n",
       "6777                                                NaN           318.0  "
      ]
     },
     "execution_count": 124,
     "metadata": {},
     "output_type": "execute_result"
    }
   ],
   "source": [
    "test.sample(20)"
   ]
  },
  {
   "cell_type": "code",
   "execution_count": 125,
   "metadata": {
    "collapsed": false
   },
   "outputs": [
    {
     "data": {
      "text/plain": [
       "((6893, 11), (5806, 8))"
      ]
     },
     "execution_count": 125,
     "metadata": {},
     "output_type": "execute_result"
    }
   ],
   "source": [
    "test.shape, antennas.shape"
   ]
  },
  {
   "cell_type": "code",
   "execution_count": 126,
   "metadata": {
    "collapsed": false
   },
   "outputs": [
    {
     "data": {
      "text/plain": [
       "(1056, 11)"
      ]
     },
     "execution_count": 126,
     "metadata": {},
     "output_type": "execute_result"
    }
   ],
   "source": [
    "# cuantas antennas estan en la base de caro y no en la cruda\n",
    "test[test['CEL_ID'].isnull()].shape"
   ]
  },
  {
   "cell_type": "code",
   "execution_count": 128,
   "metadata": {
    "collapsed": false,
    "scrolled": true
   },
   "outputs": [
    {
     "data": {
      "text/html": [
       "<div>\n",
       "<table border=\"1\" class=\"dataframe\">\n",
       "  <thead>\n",
       "    <tr style=\"text-align: right;\">\n",
       "      <th></th>\n",
       "      <th>CEL_ID</th>\n",
       "      <th>CEL_DESCRIPTION</th>\n",
       "      <th>LATITUD</th>\n",
       "      <th>LONGITUD</th>\n",
       "      <th>DEPARTAMENTO_x</th>\n",
       "      <th>PROVINCIA</th>\n",
       "      <th>GC_AREA</th>\n",
       "      <th>EPIDEMIC</th>\n",
       "      <th>SURR_ID</th>\n",
       "      <th>SUBREGION</th>\n",
       "      <th>DEPARTAMENTO_y</th>\n",
       "    </tr>\n",
       "  </thead>\n",
       "  <tbody>\n",
       "    <tr>\n",
       "      <th>6296</th>\n",
       "      <td>NaN</td>\n",
       "      <td>NaN</td>\n",
       "      <td>-32.8730</td>\n",
       "      <td>-68.8277</td>\n",
       "      <td>NaN</td>\n",
       "      <td>NaN</td>\n",
       "      <td>NaN</td>\n",
       "      <td>NaN</td>\n",
       "      <td>2574.0</td>\n",
       "      <td>NaN</td>\n",
       "      <td>318.0</td>\n",
       "    </tr>\n",
       "    <tr>\n",
       "      <th>6650</th>\n",
       "      <td>NaN</td>\n",
       "      <td>NaN</td>\n",
       "      <td>-27.0828</td>\n",
       "      <td>-61.0978</td>\n",
       "      <td>NaN</td>\n",
       "      <td>NaN</td>\n",
       "      <td>NaN</td>\n",
       "      <td>NaN</td>\n",
       "      <td>3428.0</td>\n",
       "      <td>Chaco sub humedo central</td>\n",
       "      <td>159.0</td>\n",
       "    </tr>\n",
       "    <tr>\n",
       "      <th>6082</th>\n",
       "      <td>NaN</td>\n",
       "      <td>NaN</td>\n",
       "      <td>-34.9223</td>\n",
       "      <td>-58.3923</td>\n",
       "      <td>NaN</td>\n",
       "      <td>NaN</td>\n",
       "      <td>NaN</td>\n",
       "      <td>NaN</td>\n",
       "      <td>1478.0</td>\n",
       "      <td>NaN</td>\n",
       "      <td>113.0</td>\n",
       "    </tr>\n",
       "    <tr>\n",
       "      <th>6771</th>\n",
       "      <td>NaN</td>\n",
       "      <td>NaN</td>\n",
       "      <td>-40.1916</td>\n",
       "      <td>-62.6125</td>\n",
       "      <td>NaN</td>\n",
       "      <td>NaN</td>\n",
       "      <td>NaN</td>\n",
       "      <td>NaN</td>\n",
       "      <td>3587.0</td>\n",
       "      <td>NaN</td>\n",
       "      <td>87.0</td>\n",
       "    </tr>\n",
       "    <tr>\n",
       "      <th>6043</th>\n",
       "      <td>NaN</td>\n",
       "      <td>NaN</td>\n",
       "      <td>-34.7042</td>\n",
       "      <td>-58.3222</td>\n",
       "      <td>NaN</td>\n",
       "      <td>NaN</td>\n",
       "      <td>NaN</td>\n",
       "      <td>NaN</td>\n",
       "      <td>310.0</td>\n",
       "      <td>NaN</td>\n",
       "      <td>7.0</td>\n",
       "    </tr>\n",
       "    <tr>\n",
       "      <th>5864</th>\n",
       "      <td>NaN</td>\n",
       "      <td>NaN</td>\n",
       "      <td>-31.4168</td>\n",
       "      <td>-64.4380</td>\n",
       "      <td>NaN</td>\n",
       "      <td>NaN</td>\n",
       "      <td>NaN</td>\n",
       "      <td>NaN</td>\n",
       "      <td>368.0</td>\n",
       "      <td>Chaco Serrano Puntano Cordobes</td>\n",
       "      <td>205.0</td>\n",
       "    </tr>\n",
       "    <tr>\n",
       "      <th>6044</th>\n",
       "      <td>NaN</td>\n",
       "      <td>NaN</td>\n",
       "      <td>-34.8014</td>\n",
       "      <td>-58.2383</td>\n",
       "      <td>NaN</td>\n",
       "      <td>NaN</td>\n",
       "      <td>NaN</td>\n",
       "      <td>NaN</td>\n",
       "      <td>4517.0</td>\n",
       "      <td>NaN</td>\n",
       "      <td>14.0</td>\n",
       "    </tr>\n",
       "    <tr>\n",
       "      <th>5987</th>\n",
       "      <td>NaN</td>\n",
       "      <td>NaN</td>\n",
       "      <td>-32.8883</td>\n",
       "      <td>-60.7303</td>\n",
       "      <td>NaN</td>\n",
       "      <td>NaN</td>\n",
       "      <td>NaN</td>\n",
       "      <td>NaN</td>\n",
       "      <td>189.0</td>\n",
       "      <td>NaN</td>\n",
       "      <td>450.0</td>\n",
       "    </tr>\n",
       "    <tr>\n",
       "      <th>6553</th>\n",
       "      <td>NaN</td>\n",
       "      <td>NaN</td>\n",
       "      <td>-33.9969</td>\n",
       "      <td>-61.6244</td>\n",
       "      <td>NaN</td>\n",
       "      <td>NaN</td>\n",
       "      <td>NaN</td>\n",
       "      <td>NaN</td>\n",
       "      <td>980.0</td>\n",
       "      <td>NaN</td>\n",
       "      <td>444.0</td>\n",
       "    </tr>\n",
       "    <tr>\n",
       "      <th>5982</th>\n",
       "      <td>NaN</td>\n",
       "      <td>NaN</td>\n",
       "      <td>-29.1464</td>\n",
       "      <td>-59.6464</td>\n",
       "      <td>NaN</td>\n",
       "      <td>NaN</td>\n",
       "      <td>NaN</td>\n",
       "      <td>NaN</td>\n",
       "      <td>1193.0</td>\n",
       "      <td>Del Dorsal Oriental</td>\n",
       "      <td>445.0</td>\n",
       "    </tr>\n",
       "    <tr>\n",
       "      <th>6424</th>\n",
       "      <td>NaN</td>\n",
       "      <td>NaN</td>\n",
       "      <td>-33.6351</td>\n",
       "      <td>-65.5006</td>\n",
       "      <td>NaN</td>\n",
       "      <td>NaN</td>\n",
       "      <td>NaN</td>\n",
       "      <td>NaN</td>\n",
       "      <td>1047.0</td>\n",
       "      <td>NaN</td>\n",
       "      <td>427.0</td>\n",
       "    </tr>\n",
       "    <tr>\n",
       "      <th>6249</th>\n",
       "      <td>NaN</td>\n",
       "      <td>NaN</td>\n",
       "      <td>-32.9878</td>\n",
       "      <td>-68.8705</td>\n",
       "      <td>NaN</td>\n",
       "      <td>NaN</td>\n",
       "      <td>NaN</td>\n",
       "      <td>NaN</td>\n",
       "      <td>269.0</td>\n",
       "      <td>NaN</td>\n",
       "      <td>326.0</td>\n",
       "    </tr>\n",
       "    <tr>\n",
       "      <th>6837</th>\n",
       "      <td>NaN</td>\n",
       "      <td>NaN</td>\n",
       "      <td>-33.2143</td>\n",
       "      <td>-62.6068</td>\n",
       "      <td>NaN</td>\n",
       "      <td>NaN</td>\n",
       "      <td>NaN</td>\n",
       "      <td>NaN</td>\n",
       "      <td>1068.0</td>\n",
       "      <td>NaN</td>\n",
       "      <td>210.0</td>\n",
       "    </tr>\n",
       "    <tr>\n",
       "      <th>5917</th>\n",
       "      <td>NaN</td>\n",
       "      <td>NaN</td>\n",
       "      <td>-38.1511</td>\n",
       "      <td>-58.2178</td>\n",
       "      <td>NaN</td>\n",
       "      <td>NaN</td>\n",
       "      <td>NaN</td>\n",
       "      <td>NaN</td>\n",
       "      <td>694.0</td>\n",
       "      <td>NaN</td>\n",
       "      <td>41.0</td>\n",
       "    </tr>\n",
       "    <tr>\n",
       "      <th>6388</th>\n",
       "      <td>NaN</td>\n",
       "      <td>NaN</td>\n",
       "      <td>-33.8883</td>\n",
       "      <td>-69.0727</td>\n",
       "      <td>NaN</td>\n",
       "      <td>NaN</td>\n",
       "      <td>NaN</td>\n",
       "      <td>NaN</td>\n",
       "      <td>2748.0</td>\n",
       "      <td>NaN</td>\n",
       "      <td>330.0</td>\n",
       "    </tr>\n",
       "    <tr>\n",
       "      <th>6802</th>\n",
       "      <td>NaN</td>\n",
       "      <td>NaN</td>\n",
       "      <td>-27.4159</td>\n",
       "      <td>-55.9476</td>\n",
       "      <td>NaN</td>\n",
       "      <td>NaN</td>\n",
       "      <td>NaN</td>\n",
       "      <td>NaN</td>\n",
       "      <td>2758.0</td>\n",
       "      <td>NaN</td>\n",
       "      <td>339.0</td>\n",
       "    </tr>\n",
       "    <tr>\n",
       "      <th>6092</th>\n",
       "      <td>NaN</td>\n",
       "      <td>NaN</td>\n",
       "      <td>-34.1928</td>\n",
       "      <td>-58.9414</td>\n",
       "      <td>NaN</td>\n",
       "      <td>NaN</td>\n",
       "      <td>NaN</td>\n",
       "      <td>NaN</td>\n",
       "      <td>588.0</td>\n",
       "      <td>NaN</td>\n",
       "      <td>19.0</td>\n",
       "    </tr>\n",
       "    <tr>\n",
       "      <th>6404</th>\n",
       "      <td>NaN</td>\n",
       "      <td>NaN</td>\n",
       "      <td>-38.0997</td>\n",
       "      <td>-57.5588</td>\n",
       "      <td>NaN</td>\n",
       "      <td>NaN</td>\n",
       "      <td>NaN</td>\n",
       "      <td>NaN</td>\n",
       "      <td>1786.0</td>\n",
       "      <td>NaN</td>\n",
       "      <td>52.0</td>\n",
       "    </tr>\n",
       "    <tr>\n",
       "      <th>6728</th>\n",
       "      <td>NaN</td>\n",
       "      <td>NaN</td>\n",
       "      <td>-34.6256</td>\n",
       "      <td>-58.4539</td>\n",
       "      <td>NaN</td>\n",
       "      <td>NaN</td>\n",
       "      <td>NaN</td>\n",
       "      <td>NaN</td>\n",
       "      <td>1414.0</td>\n",
       "      <td>NaN</td>\n",
       "      <td>184.0</td>\n",
       "    </tr>\n",
       "    <tr>\n",
       "      <th>6777</th>\n",
       "      <td>NaN</td>\n",
       "      <td>NaN</td>\n",
       "      <td>-32.8860</td>\n",
       "      <td>-68.8414</td>\n",
       "      <td>NaN</td>\n",
       "      <td>NaN</td>\n",
       "      <td>NaN</td>\n",
       "      <td>NaN</td>\n",
       "      <td>2094.0</td>\n",
       "      <td>NaN</td>\n",
       "      <td>318.0</td>\n",
       "    </tr>\n",
       "    <tr>\n",
       "      <th>6001</th>\n",
       "      <td>NaN</td>\n",
       "      <td>NaN</td>\n",
       "      <td>-34.4837</td>\n",
       "      <td>-58.7599</td>\n",
       "      <td>NaN</td>\n",
       "      <td>NaN</td>\n",
       "      <td>NaN</td>\n",
       "      <td>NaN</td>\n",
       "      <td>3497.0</td>\n",
       "      <td>NaN</td>\n",
       "      <td>55.0</td>\n",
       "    </tr>\n",
       "    <tr>\n",
       "      <th>5961</th>\n",
       "      <td>NaN</td>\n",
       "      <td>NaN</td>\n",
       "      <td>-27.5083</td>\n",
       "      <td>-58.5501</td>\n",
       "      <td>NaN</td>\n",
       "      <td>NaN</td>\n",
       "      <td>NaN</td>\n",
       "      <td>NaN</td>\n",
       "      <td>3131.0</td>\n",
       "      <td>Parque Chaqueno Correntino</td>\n",
       "      <td>230.0</td>\n",
       "    </tr>\n",
       "    <tr>\n",
       "      <th>6590</th>\n",
       "      <td>NaN</td>\n",
       "      <td>NaN</td>\n",
       "      <td>-31.4150</td>\n",
       "      <td>-64.1264</td>\n",
       "      <td>NaN</td>\n",
       "      <td>NaN</td>\n",
       "      <td>NaN</td>\n",
       "      <td>NaN</td>\n",
       "      <td>3534.0</td>\n",
       "      <td>NaN</td>\n",
       "      <td>186.0</td>\n",
       "    </tr>\n",
       "    <tr>\n",
       "      <th>6183</th>\n",
       "      <td>NaN</td>\n",
       "      <td>NaN</td>\n",
       "      <td>-26.8266</td>\n",
       "      <td>-65.2178</td>\n",
       "      <td>NaN</td>\n",
       "      <td>NaN</td>\n",
       "      <td>NaN</td>\n",
       "      <td>NaN</td>\n",
       "      <td>2655.0</td>\n",
       "      <td>Bosques arbustales del centro (con jarilla Lar...</td>\n",
       "      <td>488.0</td>\n",
       "    </tr>\n",
       "    <tr>\n",
       "      <th>6843</th>\n",
       "      <td>NaN</td>\n",
       "      <td>NaN</td>\n",
       "      <td>-34.6021</td>\n",
       "      <td>-34.6021</td>\n",
       "      <td>NaN</td>\n",
       "      <td>NaN</td>\n",
       "      <td>NaN</td>\n",
       "      <td>NaN</td>\n",
       "      <td>1734.0</td>\n",
       "      <td>NaN</td>\n",
       "      <td>NaN</td>\n",
       "    </tr>\n",
       "    <tr>\n",
       "      <th>6703</th>\n",
       "      <td>NaN</td>\n",
       "      <td>NaN</td>\n",
       "      <td>-33.4414</td>\n",
       "      <td>-61.5227</td>\n",
       "      <td>NaN</td>\n",
       "      <td>NaN</td>\n",
       "      <td>NaN</td>\n",
       "      <td>NaN</td>\n",
       "      <td>205.0</td>\n",
       "      <td>NaN</td>\n",
       "      <td>444.0</td>\n",
       "    </tr>\n",
       "    <tr>\n",
       "      <th>6836</th>\n",
       "      <td>NaN</td>\n",
       "      <td>NaN</td>\n",
       "      <td>-32.6653</td>\n",
       "      <td>-60.7942</td>\n",
       "      <td>NaN</td>\n",
       "      <td>NaN</td>\n",
       "      <td>NaN</td>\n",
       "      <td>NaN</td>\n",
       "      <td>3308.0</td>\n",
       "      <td>NaN</td>\n",
       "      <td>455.0</td>\n",
       "    </tr>\n",
       "    <tr>\n",
       "      <th>6656</th>\n",
       "      <td>NaN</td>\n",
       "      <td>NaN</td>\n",
       "      <td>-34.5619</td>\n",
       "      <td>-34.5619</td>\n",
       "      <td>NaN</td>\n",
       "      <td>NaN</td>\n",
       "      <td>NaN</td>\n",
       "      <td>NaN</td>\n",
       "      <td>2291.0</td>\n",
       "      <td>NaN</td>\n",
       "      <td>NaN</td>\n",
       "    </tr>\n",
       "    <tr>\n",
       "      <th>6695</th>\n",
       "      <td>NaN</td>\n",
       "      <td>NaN</td>\n",
       "      <td>-37.3157</td>\n",
       "      <td>-59.1357</td>\n",
       "      <td>NaN</td>\n",
       "      <td>NaN</td>\n",
       "      <td>NaN</td>\n",
       "      <td>NaN</td>\n",
       "      <td>4392.0</td>\n",
       "      <td>NaN</td>\n",
       "      <td>115.0</td>\n",
       "    </tr>\n",
       "    <tr>\n",
       "      <th>5902</th>\n",
       "      <td>NaN</td>\n",
       "      <td>NaN</td>\n",
       "      <td>-34.4224</td>\n",
       "      <td>-34.4224</td>\n",
       "      <td>NaN</td>\n",
       "      <td>NaN</td>\n",
       "      <td>NaN</td>\n",
       "      <td>NaN</td>\n",
       "      <td>1367.0</td>\n",
       "      <td>NaN</td>\n",
       "      <td>NaN</td>\n",
       "    </tr>\n",
       "    <tr>\n",
       "      <th>6346</th>\n",
       "      <td>NaN</td>\n",
       "      <td>NaN</td>\n",
       "      <td>-34.7600</td>\n",
       "      <td>-58.3982</td>\n",
       "      <td>NaN</td>\n",
       "      <td>NaN</td>\n",
       "      <td>NaN</td>\n",
       "      <td>NaN</td>\n",
       "      <td>3248.0</td>\n",
       "      <td>NaN</td>\n",
       "      <td>71.0</td>\n",
       "    </tr>\n",
       "    <tr>\n",
       "      <th>5971</th>\n",
       "      <td>NaN</td>\n",
       "      <td>NaN</td>\n",
       "      <td>-32.9891</td>\n",
       "      <td>-68.7883</td>\n",
       "      <td>NaN</td>\n",
       "      <td>NaN</td>\n",
       "      <td>NaN</td>\n",
       "      <td>NaN</td>\n",
       "      <td>2945.0</td>\n",
       "      <td>NaN</td>\n",
       "      <td>327.0</td>\n",
       "    </tr>\n",
       "    <tr>\n",
       "      <th>6890</th>\n",
       "      <td>NaN</td>\n",
       "      <td>NaN</td>\n",
       "      <td>-34.1986</td>\n",
       "      <td>-60.7322</td>\n",
       "      <td>NaN</td>\n",
       "      <td>NaN</td>\n",
       "      <td>NaN</td>\n",
       "      <td>NaN</td>\n",
       "      <td>724.0</td>\n",
       "      <td>NaN</td>\n",
       "      <td>99.0</td>\n",
       "    </tr>\n",
       "    <tr>\n",
       "      <th>6108</th>\n",
       "      <td>NaN</td>\n",
       "      <td>NaN</td>\n",
       "      <td>-37.9887</td>\n",
       "      <td>-57.5483</td>\n",
       "      <td>NaN</td>\n",
       "      <td>NaN</td>\n",
       "      <td>NaN</td>\n",
       "      <td>NaN</td>\n",
       "      <td>1261.0</td>\n",
       "      <td>NaN</td>\n",
       "      <td>52.0</td>\n",
       "    </tr>\n",
       "    <tr>\n",
       "      <th>6465</th>\n",
       "      <td>NaN</td>\n",
       "      <td>NaN</td>\n",
       "      <td>-33.3136</td>\n",
       "      <td>-60.2379</td>\n",
       "      <td>NaN</td>\n",
       "      <td>NaN</td>\n",
       "      <td>NaN</td>\n",
       "      <td>NaN</td>\n",
       "      <td>501.0</td>\n",
       "      <td>NaN</td>\n",
       "      <td>111.0</td>\n",
       "    </tr>\n",
       "    <tr>\n",
       "      <th>6790</th>\n",
       "      <td>NaN</td>\n",
       "      <td>NaN</td>\n",
       "      <td>-36.8886</td>\n",
       "      <td>-60.3144</td>\n",
       "      <td>NaN</td>\n",
       "      <td>NaN</td>\n",
       "      <td>NaN</td>\n",
       "      <td>NaN</td>\n",
       "      <td>494.0</td>\n",
       "      <td>NaN</td>\n",
       "      <td>86.0</td>\n",
       "    </tr>\n",
       "    <tr>\n",
       "      <th>6733</th>\n",
       "      <td>NaN</td>\n",
       "      <td>NaN</td>\n",
       "      <td>-32.9188</td>\n",
       "      <td>-68.8225</td>\n",
       "      <td>NaN</td>\n",
       "      <td>NaN</td>\n",
       "      <td>NaN</td>\n",
       "      <td>NaN</td>\n",
       "      <td>824.0</td>\n",
       "      <td>NaN</td>\n",
       "      <td>320.0</td>\n",
       "    </tr>\n",
       "    <tr>\n",
       "      <th>6378</th>\n",
       "      <td>NaN</td>\n",
       "      <td>NaN</td>\n",
       "      <td>-39.2951</td>\n",
       "      <td>-65.6578</td>\n",
       "      <td>NaN</td>\n",
       "      <td>NaN</td>\n",
       "      <td>NaN</td>\n",
       "      <td>NaN</td>\n",
       "      <td>157.0</td>\n",
       "      <td>NaN</td>\n",
       "      <td>370.0</td>\n",
       "    </tr>\n",
       "    <tr>\n",
       "      <th>6816</th>\n",
       "      <td>NaN</td>\n",
       "      <td>NaN</td>\n",
       "      <td>-32.8176</td>\n",
       "      <td>-61.3865</td>\n",
       "      <td>NaN</td>\n",
       "      <td>NaN</td>\n",
       "      <td>NaN</td>\n",
       "      <td>NaN</td>\n",
       "      <td>180.0</td>\n",
       "      <td>NaN</td>\n",
       "      <td>446.0</td>\n",
       "    </tr>\n",
       "    <tr>\n",
       "      <th>5926</th>\n",
       "      <td>NaN</td>\n",
       "      <td>NaN</td>\n",
       "      <td>-34.6041</td>\n",
       "      <td>-58.3805</td>\n",
       "      <td>NaN</td>\n",
       "      <td>NaN</td>\n",
       "      <td>NaN</td>\n",
       "      <td>NaN</td>\n",
       "      <td>3214.0</td>\n",
       "      <td>NaN</td>\n",
       "      <td>184.0</td>\n",
       "    </tr>\n",
       "    <tr>\n",
       "      <th>6392</th>\n",
       "      <td>NaN</td>\n",
       "      <td>NaN</td>\n",
       "      <td>-30.8582</td>\n",
       "      <td>-62.0343</td>\n",
       "      <td>NaN</td>\n",
       "      <td>NaN</td>\n",
       "      <td>NaN</td>\n",
       "      <td>NaN</td>\n",
       "      <td>1791.0</td>\n",
       "      <td>NaN</td>\n",
       "      <td>204.0</td>\n",
       "    </tr>\n",
       "    <tr>\n",
       "      <th>6645</th>\n",
       "      <td>NaN</td>\n",
       "      <td>NaN</td>\n",
       "      <td>-27.3813</td>\n",
       "      <td>-55.8970</td>\n",
       "      <td>NaN</td>\n",
       "      <td>NaN</td>\n",
       "      <td>NaN</td>\n",
       "      <td>NaN</td>\n",
       "      <td>2020.0</td>\n",
       "      <td>NaN</td>\n",
       "      <td>339.0</td>\n",
       "    </tr>\n",
       "    <tr>\n",
       "      <th>6800</th>\n",
       "      <td>NaN</td>\n",
       "      <td>NaN</td>\n",
       "      <td>-31.7398</td>\n",
       "      <td>-60.5143</td>\n",
       "      <td>NaN</td>\n",
       "      <td>NaN</td>\n",
       "      <td>NaN</td>\n",
       "      <td>NaN</td>\n",
       "      <td>1258.0</td>\n",
       "      <td>NaN</td>\n",
       "      <td>248.0</td>\n",
       "    </tr>\n",
       "    <tr>\n",
       "      <th>6432</th>\n",
       "      <td>NaN</td>\n",
       "      <td>NaN</td>\n",
       "      <td>-33.0778</td>\n",
       "      <td>-68.4818</td>\n",
       "      <td>NaN</td>\n",
       "      <td>NaN</td>\n",
       "      <td>NaN</td>\n",
       "      <td>NaN</td>\n",
       "      <td>2018.0</td>\n",
       "      <td>NaN</td>\n",
       "      <td>331.0</td>\n",
       "    </tr>\n",
       "    <tr>\n",
       "      <th>6298</th>\n",
       "      <td>NaN</td>\n",
       "      <td>NaN</td>\n",
       "      <td>-32.9566</td>\n",
       "      <td>-68.8597</td>\n",
       "      <td>NaN</td>\n",
       "      <td>NaN</td>\n",
       "      <td>NaN</td>\n",
       "      <td>NaN</td>\n",
       "      <td>816.0</td>\n",
       "      <td>NaN</td>\n",
       "      <td>320.0</td>\n",
       "    </tr>\n",
       "    <tr>\n",
       "      <th>6639</th>\n",
       "      <td>NaN</td>\n",
       "      <td>NaN</td>\n",
       "      <td>-31.4477</td>\n",
       "      <td>-64.3477</td>\n",
       "      <td>NaN</td>\n",
       "      <td>NaN</td>\n",
       "      <td>NaN</td>\n",
       "      <td>NaN</td>\n",
       "      <td>1817.0</td>\n",
       "      <td>NaN</td>\n",
       "      <td>205.0</td>\n",
       "    </tr>\n",
       "    <tr>\n",
       "      <th>6593</th>\n",
       "      <td>NaN</td>\n",
       "      <td>NaN</td>\n",
       "      <td>-34.0783</td>\n",
       "      <td>-59.0580</td>\n",
       "      <td>NaN</td>\n",
       "      <td>NaN</td>\n",
       "      <td>NaN</td>\n",
       "      <td>NaN</td>\n",
       "      <td>803.0</td>\n",
       "      <td>NaN</td>\n",
       "      <td>128.0</td>\n",
       "    </tr>\n",
       "    <tr>\n",
       "      <th>6462</th>\n",
       "      <td>NaN</td>\n",
       "      <td>NaN</td>\n",
       "      <td>-34.7266</td>\n",
       "      <td>-68.2485</td>\n",
       "      <td>NaN</td>\n",
       "      <td>NaN</td>\n",
       "      <td>NaN</td>\n",
       "      <td>NaN</td>\n",
       "      <td>826.0</td>\n",
       "      <td>NaN</td>\n",
       "      <td>332.0</td>\n",
       "    </tr>\n",
       "    <tr>\n",
       "      <th>6751</th>\n",
       "      <td>NaN</td>\n",
       "      <td>NaN</td>\n",
       "      <td>-34.5844</td>\n",
       "      <td>-58.8312</td>\n",
       "      <td>NaN</td>\n",
       "      <td>NaN</td>\n",
       "      <td>NaN</td>\n",
       "      <td>NaN</td>\n",
       "      <td>1953.0</td>\n",
       "      <td>NaN</td>\n",
       "      <td>81.0</td>\n",
       "    </tr>\n",
       "    <tr>\n",
       "      <th>6481</th>\n",
       "      <td>NaN</td>\n",
       "      <td>NaN</td>\n",
       "      <td>-31.5276</td>\n",
       "      <td>-64.2887</td>\n",
       "      <td>NaN</td>\n",
       "      <td>NaN</td>\n",
       "      <td>NaN</td>\n",
       "      <td>NaN</td>\n",
       "      <td>1116.0</td>\n",
       "      <td>NaN</td>\n",
       "      <td>205.0</td>\n",
       "    </tr>\n",
       "  </tbody>\n",
       "</table>\n",
       "</div>"
      ],
      "text/plain": [
       "     CEL_ID CEL_DESCRIPTION  LATITUD  LONGITUD DEPARTAMENTO_x PROVINCIA  \\\n",
       "6296    NaN             NaN -32.8730  -68.8277            NaN       NaN   \n",
       "6650    NaN             NaN -27.0828  -61.0978            NaN       NaN   \n",
       "6082    NaN             NaN -34.9223  -58.3923            NaN       NaN   \n",
       "6771    NaN             NaN -40.1916  -62.6125            NaN       NaN   \n",
       "6043    NaN             NaN -34.7042  -58.3222            NaN       NaN   \n",
       "5864    NaN             NaN -31.4168  -64.4380            NaN       NaN   \n",
       "6044    NaN             NaN -34.8014  -58.2383            NaN       NaN   \n",
       "5987    NaN             NaN -32.8883  -60.7303            NaN       NaN   \n",
       "6553    NaN             NaN -33.9969  -61.6244            NaN       NaN   \n",
       "5982    NaN             NaN -29.1464  -59.6464            NaN       NaN   \n",
       "6424    NaN             NaN -33.6351  -65.5006            NaN       NaN   \n",
       "6249    NaN             NaN -32.9878  -68.8705            NaN       NaN   \n",
       "6837    NaN             NaN -33.2143  -62.6068            NaN       NaN   \n",
       "5917    NaN             NaN -38.1511  -58.2178            NaN       NaN   \n",
       "6388    NaN             NaN -33.8883  -69.0727            NaN       NaN   \n",
       "6802    NaN             NaN -27.4159  -55.9476            NaN       NaN   \n",
       "6092    NaN             NaN -34.1928  -58.9414            NaN       NaN   \n",
       "6404    NaN             NaN -38.0997  -57.5588            NaN       NaN   \n",
       "6728    NaN             NaN -34.6256  -58.4539            NaN       NaN   \n",
       "6777    NaN             NaN -32.8860  -68.8414            NaN       NaN   \n",
       "6001    NaN             NaN -34.4837  -58.7599            NaN       NaN   \n",
       "5961    NaN             NaN -27.5083  -58.5501            NaN       NaN   \n",
       "6590    NaN             NaN -31.4150  -64.1264            NaN       NaN   \n",
       "6183    NaN             NaN -26.8266  -65.2178            NaN       NaN   \n",
       "6843    NaN             NaN -34.6021  -34.6021            NaN       NaN   \n",
       "6703    NaN             NaN -33.4414  -61.5227            NaN       NaN   \n",
       "6836    NaN             NaN -32.6653  -60.7942            NaN       NaN   \n",
       "6656    NaN             NaN -34.5619  -34.5619            NaN       NaN   \n",
       "6695    NaN             NaN -37.3157  -59.1357            NaN       NaN   \n",
       "5902    NaN             NaN -34.4224  -34.4224            NaN       NaN   \n",
       "6346    NaN             NaN -34.7600  -58.3982            NaN       NaN   \n",
       "5971    NaN             NaN -32.9891  -68.7883            NaN       NaN   \n",
       "6890    NaN             NaN -34.1986  -60.7322            NaN       NaN   \n",
       "6108    NaN             NaN -37.9887  -57.5483            NaN       NaN   \n",
       "6465    NaN             NaN -33.3136  -60.2379            NaN       NaN   \n",
       "6790    NaN             NaN -36.8886  -60.3144            NaN       NaN   \n",
       "6733    NaN             NaN -32.9188  -68.8225            NaN       NaN   \n",
       "6378    NaN             NaN -39.2951  -65.6578            NaN       NaN   \n",
       "6816    NaN             NaN -32.8176  -61.3865            NaN       NaN   \n",
       "5926    NaN             NaN -34.6041  -58.3805            NaN       NaN   \n",
       "6392    NaN             NaN -30.8582  -62.0343            NaN       NaN   \n",
       "6645    NaN             NaN -27.3813  -55.8970            NaN       NaN   \n",
       "6800    NaN             NaN -31.7398  -60.5143            NaN       NaN   \n",
       "6432    NaN             NaN -33.0778  -68.4818            NaN       NaN   \n",
       "6298    NaN             NaN -32.9566  -68.8597            NaN       NaN   \n",
       "6639    NaN             NaN -31.4477  -64.3477            NaN       NaN   \n",
       "6593    NaN             NaN -34.0783  -59.0580            NaN       NaN   \n",
       "6462    NaN             NaN -34.7266  -68.2485            NaN       NaN   \n",
       "6751    NaN             NaN -34.5844  -58.8312            NaN       NaN   \n",
       "6481    NaN             NaN -31.5276  -64.2887            NaN       NaN   \n",
       "\n",
       "     GC_AREA  EPIDEMIC  SURR_ID  \\\n",
       "6296     NaN       NaN   2574.0   \n",
       "6650     NaN       NaN   3428.0   \n",
       "6082     NaN       NaN   1478.0   \n",
       "6771     NaN       NaN   3587.0   \n",
       "6043     NaN       NaN    310.0   \n",
       "5864     NaN       NaN    368.0   \n",
       "6044     NaN       NaN   4517.0   \n",
       "5987     NaN       NaN    189.0   \n",
       "6553     NaN       NaN    980.0   \n",
       "5982     NaN       NaN   1193.0   \n",
       "6424     NaN       NaN   1047.0   \n",
       "6249     NaN       NaN    269.0   \n",
       "6837     NaN       NaN   1068.0   \n",
       "5917     NaN       NaN    694.0   \n",
       "6388     NaN       NaN   2748.0   \n",
       "6802     NaN       NaN   2758.0   \n",
       "6092     NaN       NaN    588.0   \n",
       "6404     NaN       NaN   1786.0   \n",
       "6728     NaN       NaN   1414.0   \n",
       "6777     NaN       NaN   2094.0   \n",
       "6001     NaN       NaN   3497.0   \n",
       "5961     NaN       NaN   3131.0   \n",
       "6590     NaN       NaN   3534.0   \n",
       "6183     NaN       NaN   2655.0   \n",
       "6843     NaN       NaN   1734.0   \n",
       "6703     NaN       NaN    205.0   \n",
       "6836     NaN       NaN   3308.0   \n",
       "6656     NaN       NaN   2291.0   \n",
       "6695     NaN       NaN   4392.0   \n",
       "5902     NaN       NaN   1367.0   \n",
       "6346     NaN       NaN   3248.0   \n",
       "5971     NaN       NaN   2945.0   \n",
       "6890     NaN       NaN    724.0   \n",
       "6108     NaN       NaN   1261.0   \n",
       "6465     NaN       NaN    501.0   \n",
       "6790     NaN       NaN    494.0   \n",
       "6733     NaN       NaN    824.0   \n",
       "6378     NaN       NaN    157.0   \n",
       "6816     NaN       NaN    180.0   \n",
       "5926     NaN       NaN   3214.0   \n",
       "6392     NaN       NaN   1791.0   \n",
       "6645     NaN       NaN   2020.0   \n",
       "6800     NaN       NaN   1258.0   \n",
       "6432     NaN       NaN   2018.0   \n",
       "6298     NaN       NaN    816.0   \n",
       "6639     NaN       NaN   1817.0   \n",
       "6593     NaN       NaN    803.0   \n",
       "6462     NaN       NaN    826.0   \n",
       "6751     NaN       NaN   1953.0   \n",
       "6481     NaN       NaN   1116.0   \n",
       "\n",
       "                                              SUBREGION  DEPARTAMENTO_y  \n",
       "6296                                                NaN           318.0  \n",
       "6650                           Chaco sub humedo central           159.0  \n",
       "6082                                                NaN           113.0  \n",
       "6771                                                NaN            87.0  \n",
       "6043                                                NaN             7.0  \n",
       "5864                     Chaco Serrano Puntano Cordobes           205.0  \n",
       "6044                                                NaN            14.0  \n",
       "5987                                                NaN           450.0  \n",
       "6553                                                NaN           444.0  \n",
       "5982                                Del Dorsal Oriental           445.0  \n",
       "6424                                                NaN           427.0  \n",
       "6249                                                NaN           326.0  \n",
       "6837                                                NaN           210.0  \n",
       "5917                                                NaN            41.0  \n",
       "6388                                                NaN           330.0  \n",
       "6802                                                NaN           339.0  \n",
       "6092                                                NaN            19.0  \n",
       "6404                                                NaN            52.0  \n",
       "6728                                                NaN           184.0  \n",
       "6777                                                NaN           318.0  \n",
       "6001                                                NaN            55.0  \n",
       "5961                         Parque Chaqueno Correntino           230.0  \n",
       "6590                                                NaN           186.0  \n",
       "6183  Bosques arbustales del centro (con jarilla Lar...           488.0  \n",
       "6843                                                NaN             NaN  \n",
       "6703                                                NaN           444.0  \n",
       "6836                                                NaN           455.0  \n",
       "6656                                                NaN             NaN  \n",
       "6695                                                NaN           115.0  \n",
       "5902                                                NaN             NaN  \n",
       "6346                                                NaN            71.0  \n",
       "5971                                                NaN           327.0  \n",
       "6890                                                NaN            99.0  \n",
       "6108                                                NaN            52.0  \n",
       "6465                                                NaN           111.0  \n",
       "6790                                                NaN            86.0  \n",
       "6733                                                NaN           320.0  \n",
       "6378                                                NaN           370.0  \n",
       "6816                                                NaN           446.0  \n",
       "5926                                                NaN           184.0  \n",
       "6392                                                NaN           204.0  \n",
       "6645                                                NaN           339.0  \n",
       "6800                                                NaN           248.0  \n",
       "6432                                                NaN           331.0  \n",
       "6298                                                NaN           320.0  \n",
       "6639                                                NaN           205.0  \n",
       "6593                                                NaN           128.0  \n",
       "6462                                                NaN           332.0  \n",
       "6751                                                NaN            81.0  \n",
       "6481                                                NaN           205.0  "
      ]
     },
     "execution_count": 128,
     "metadata": {},
     "output_type": "execute_result"
    }
   ],
   "source": [
    "test[test['CEL_ID'].isnull()].sample(50)"
   ]
  },
  {
   "cell_type": "code",
   "execution_count": 129,
   "metadata": {
    "collapsed": false
   },
   "outputs": [
    {
     "data": {
      "text/plain": [
       "(4521, 4520)"
      ]
     },
     "execution_count": 129,
     "metadata": {},
     "output_type": "execute_result"
    }
   ],
   "source": [
    "len(test['SURR_ID'].unique()) ,len(old_antennas)"
   ]
  },
  {
   "cell_type": "code",
   "execution_count": 130,
   "metadata": {
    "collapsed": false
   },
   "outputs": [
    {
     "data": {
      "text/plain": [
       "((2281, 11), (1056, 11))"
      ]
     },
     "execution_count": 130,
     "metadata": {},
     "output_type": "execute_result"
    }
   ],
   "source": [
    "test[test['SURR_ID'].isnull()].shape, test[test['CEL_ID'].isnull()].shape"
   ]
  },
  {
   "cell_type": "code",
   "execution_count": null,
   "metadata": {
    "collapsed": true
   },
   "outputs": [],
   "source": []
  }
 ],
 "metadata": {
  "kernelspec": {
   "display_name": "Python 2",
   "language": "python",
   "name": "python2"
  },
  "language_info": {
   "codemirror_mode": {
    "name": "ipython",
    "version": 2
   },
   "file_extension": ".py",
   "mimetype": "text/x-python",
   "name": "python",
   "nbconvert_exporter": "python",
   "pygments_lexer": "ipython2",
   "version": "2.7.10"
  }
 },
 "nbformat": 4,
 "nbformat_minor": 0
}
