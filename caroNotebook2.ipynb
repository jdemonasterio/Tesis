{
 "cells": [
  {
   "cell_type": "markdown",
   "metadata": {
    "collapsed": true
   },
   "source": [
    "# Epidemic tagging\n",
    "Ya habiendo procesado los simple_fromat files para saber cuales son las top 10 antennas utilizadas por c/user ahora falta agregar la inforamcion epidemica/de exposicion (EPIDEMIC/EXPOSED) p/c/user.\n",
    "\n",
    "* Se define epidemico si su Antenna_ID_0 es una antenna taggeada como epidemica (la 0 es la mas frecuentemente utilizada)\n",
    "* Se define exposed si utlizo alguna vez una antenna taggeada como epidemica (obs. hay mas usuarios expuestos que epidemicos)"
   ]
  },
  {
   "cell_type": "code",
   "execution_count": 47,
   "metadata": {
    "collapsed": false
   },
   "outputs": [
    {
     "data": {
      "application/javascript": [
       "IPython.notebook.set_autosave_interval(180000)"
      ]
     },
     "metadata": {},
     "output_type": "display_data"
    },
    {
     "name": "stdout",
     "output_type": "stream",
     "text": [
      "Autosaving every 180 seconds\n"
     ]
    }
   ],
   "source": [
    "%autosave 180\n",
    "import pandas as pd; import numpy as np; import os;import random;\n",
    "pd.set_option('display.max_rows', 300)\n",
    "#from matplotlib import pyplot as plt\n",
    "#%matplotlib inline\n",
    "import time\n",
    "import os\n",
    "np.random.seed(2016)"
   ]
  },
  {
   "cell_type": "markdown",
   "metadata": {},
   "source": [
    "### el dataset de input vendria con este header"
   ]
  },
  {
   "cell_type": "code",
   "execution_count": 48,
   "metadata": {
    "collapsed": false
   },
   "outputs": [
    {
     "name": "stdout",
     "output_type": "stream",
     "text": [
      "173M\t/home/juan/mobility-study/play_ants/sf_crude.txt.gz\n",
      "USER|ANTENNA_ID_0|COUNT_0|ANTENNA_ID_1|COUNT_1|ANTENNA_ID_2|COUNT_2|ANTENNA_ID_3|COUNT_3|ANTENNA_ID_4|COUNT_4|ANTENNA_ID_5|COUNT_5|ANTENNA_ID_6|COUNT_6|ANTENNA_ID_7|COUNT_7|ANTENNA_ID_8|COUNT_8|ANTENNA_ID_9|COUNT_9|MOBILITY_DIAMETER|EPIDEMIC|EXPOSED\n",
      "FFFF78CB080636632B2D1DE7A7BFAB03|3415|21|2969|5|1320|3|2471|3|1115|2|-1|65535|-1|65535|-1|65535|-1|65535|-1|65535|1063|0|1\n",
      "FFFF51FDDD55A2E24D074DE30C4798E9|1207|15|1171|14|1820|9|583|8|2026|5|1066|4|1831|4|1625|2|401|1|825|1|520|0|1\n",
      "FFFE1EDDA25369CBC467536FA6A787FD|1847|22|1753|14|1422|11|1028|10|765|9|3072|9|862|8|2463|7|1416|6|871|5|990|0|1\n",
      "FFFD0A912A959CDFCFFAB2F93BFBA435|1407|18|1702|8|1613|6|1704|5|1394|3|1398|3|818|2|958|2|726|1|848|1|491|1|0\n",
      "FFFCB235D6D917DDF350F5B11CCB0EE8|17|74|174|33|1123|4|1178|4|173|3|890|2|503|1|1039|1|1228|1|1327|1|1613|0|1\n",
      "FFFC9EC4F662C44D3006BA69C9F0DE85|876|19|1737|6|1744|5|326|1|378|1|503|1|1118|1|2216|1|2477|1|2962|1|3004|0|1\n",
      "FFFB2F18F4CCF253C06B581EA518A7A5|2543|13|704|7|2540|7|1453|6|1642|5|45|4|2393|4|1841|3|3031|3|1009|2|2895|0|1\n",
      "FFFA147CB2B23AD12F207F0EFBEB14D0|1857|103|2959|19|1344|2|2309|2|1511|1|2858|1|-1|65535|-1|65535|-1|65535|-1|65535|1633|0|0\n",
      "FFFA0736F66FB09200CE1D13E081A946|266|63|1799|46|1790|29|2716|29|537|21|3377|21|1439|18|2715|16|1720|15|2000|14|2558|1|1\n",
      "\n",
      "gzip: stdout: Broken pipe\n"
     ]
    }
   ],
   "source": [
    "#ejemplo  \"/grandata/simple_format/01-02012014.txt.gz\"\n",
    "#seteamos el lugar de trabajo\n",
    "input_file = \"/home/juan/mobility-study/play_ants/sf_crude.txt.gz\"\n",
    "\n",
    "user_table = \"/home/juan/mobility-study/play_ants/sf_user_table\"\n",
    "\n",
    "!du -ha {input_file}\n",
    "\n",
    "!zcat $input_file | head"
   ]
  },
  {
   "cell_type": "code",
   "execution_count": 79,
   "metadata": {
    "collapsed": false
   },
   "outputs": [],
   "source": [
    "#para enriquecer el dataset de CDRs con info acerca de la zona epidemica etc.\n",
    "antennas = pd.read_csv('/home/juan/mobility-study/play_ants/antennas_mexico.csv',\n",
    "                      sep = \"|\",\n",
    "                      header=0,\n",
    "                      index_col=0)\n",
    "antennas.index.rename(\"ANTENNA_ID_0\",inplace=True)"
   ]
  },
  {
   "cell_type": "code",
   "execution_count": 74,
   "metadata": {
    "collapsed": false
   },
   "outputs": [],
   "source": [
    "#levanto la tabla de users hash_map.\n",
    "user_epidemic = pd.read_csv(input_file,\n",
    "                    sep=\"|\",\n",
    "                    index_col=0,\n",
    "                    header=0,\n",
    "                    usecols = [\"USER\",\"ANTENNA_ID_0\",\"ANTENNA_ID_1\",\"ANTENNA_ID_2\",\"ANTENNA_ID_3\",\"ANTENNA_ID_4\",\n",
    "                                \"ANTENNA_ID_5\",\"ANTENNA_ID_6\",\"ANTENNA_ID_7\",\n",
    "                        \"ANTENNA_ID_8\",\"ANTENNA_ID_9\"]\n",
    "                    \n",
    "                )"
   ]
  },
  {
   "cell_type": "code",
   "execution_count": 80,
   "metadata": {
    "collapsed": false
   },
   "outputs": [
    {
     "data": {
      "text/html": [
       "<div>\n",
       "<table border=\"1\" class=\"dataframe\">\n",
       "  <thead>\n",
       "    <tr style=\"text-align: right;\">\n",
       "      <th></th>\n",
       "      <th>LATITUDE</th>\n",
       "      <th>LONGITUDE</th>\n",
       "      <th>STATE</th>\n",
       "      <th>EPIDEMIC</th>\n",
       "    </tr>\n",
       "    <tr>\n",
       "      <th>ANTENNA_ID_0</th>\n",
       "      <th></th>\n",
       "      <th></th>\n",
       "      <th></th>\n",
       "      <th></th>\n",
       "    </tr>\n",
       "  </thead>\n",
       "  <tbody>\n",
       "    <tr>\n",
       "      <th>2797</th>\n",
       "      <td>14.671</td>\n",
       "      <td>-92.372</td>\n",
       "      <td>Chiapas</td>\n",
       "      <td>0</td>\n",
       "    </tr>\n",
       "    <tr>\n",
       "      <th>3060</th>\n",
       "      <td>14.682</td>\n",
       "      <td>-92.155</td>\n",
       "      <td>Chiapas</td>\n",
       "      <td>0</td>\n",
       "    </tr>\n",
       "    <tr>\n",
       "      <th>3344</th>\n",
       "      <td>14.721</td>\n",
       "      <td>-92.424</td>\n",
       "      <td>Chiapas</td>\n",
       "      <td>0</td>\n",
       "    </tr>\n",
       "    <tr>\n",
       "      <th>3487</th>\n",
       "      <td>14.778</td>\n",
       "      <td>-92.179</td>\n",
       "      <td>Chiapas</td>\n",
       "      <td>0</td>\n",
       "    </tr>\n",
       "    <tr>\n",
       "      <th>1924</th>\n",
       "      <td>14.786</td>\n",
       "      <td>-92.366</td>\n",
       "      <td>Chiapas</td>\n",
       "      <td>0</td>\n",
       "    </tr>\n",
       "  </tbody>\n",
       "</table>\n",
       "</div>"
      ],
      "text/plain": [
       "              LATITUDE  LONGITUDE    STATE  EPIDEMIC\n",
       "ANTENNA_ID_0                                        \n",
       "2797            14.671    -92.372  Chiapas         0\n",
       "3060            14.682    -92.155  Chiapas         0\n",
       "3344            14.721    -92.424  Chiapas         0\n",
       "3487            14.778    -92.179  Chiapas         0\n",
       "1924            14.786    -92.366  Chiapas         0"
      ]
     },
     "execution_count": 80,
     "metadata": {},
     "output_type": "execute_result"
    }
   ],
   "source": [
    "antennas.head()"
   ]
  },
  {
   "cell_type": "code",
   "execution_count": 82,
   "metadata": {
    "collapsed": false
   },
   "outputs": [
    {
     "data": {
      "text/plain": [
       "True"
      ]
     },
     "execution_count": 82,
     "metadata": {},
     "output_type": "execute_result"
    }
   ],
   "source": [
    "user_epidemic.columns[0] == antennas.index.name"
   ]
  },
  {
   "cell_type": "code",
   "execution_count": 62,
   "metadata": {
    "collapsed": false
   },
   "outputs": [
    {
     "data": {
      "text/plain": [
       "ANTENNA_ID_0      int64\n",
       "LATITUDE        float64\n",
       "LONGITUDE       float64\n",
       "STATE            object\n",
       "EPIDEMIC          int64\n",
       "dtype: object"
      ]
     },
     "execution_count": 62,
     "metadata": {},
     "output_type": "execute_result"
    }
   ],
   "source": [
    "antennas.dtypes"
   ]
  },
  {
   "cell_type": "markdown",
   "metadata": {},
   "source": [
    "# Mega bug 02/05\n",
    "en este merge donde el left merge me agranda (!!) la tabla original y ademas vemos que aparecen nans pues hay keys que no matchean i.e. hay users que vivirian en antennas que no existen en nuestra db de antennas.\n",
    "\n",
    "Sin embargo cuando sampleamos a estas antennas \"fantasmas\", resulta que no podemos encontrar alguna que falte. i.e. siempre estan todas"
   ]
  },
  {
   "cell_type": "code",
   "execution_count": 63,
   "metadata": {
    "collapsed": false
   },
   "outputs": [
    {
     "data": {
      "text/plain": [
       "(4185, 4185, 4429, 4185)"
      ]
     },
     "execution_count": 63,
     "metadata": {},
     "output_type": "execute_result"
    }
   ],
   "source": [
    "user_ants = np.unique(user_epidemic.ANTENNA_ID_0.values)\n",
    "db_ants = np.unique(antennas.ANTENNA_ID_0.values)\n",
    "sanity = np.in1d(user_ants , db_ants)\n",
    "sanity2 = np.in1d(db_ants ,user_ants )\n",
    "len(user_ants), sanity.sum(), len(db_ants), sanity2.sum()"
   ]
  },
  {
   "cell_type": "markdown",
   "metadata": {},
   "source": [
    "## Result\n",
    "No habiamos cambiado los files viejos de surrogate_antennas"
   ]
  },
  {
   "cell_type": "code",
   "execution_count": 83,
   "metadata": {
    "collapsed": false
   },
   "outputs": [
    {
     "data": {
      "text/html": [
       "<div>\n",
       "<table border=\"1\" class=\"dataframe\">\n",
       "  <thead>\n",
       "    <tr style=\"text-align: right;\">\n",
       "      <th></th>\n",
       "      <th>LATITUDE</th>\n",
       "      <th>LONGITUDE</th>\n",
       "      <th>STATE</th>\n",
       "      <th>EPIDEMIC</th>\n",
       "    </tr>\n",
       "    <tr>\n",
       "      <th>ANTENNA_ID_0</th>\n",
       "      <th></th>\n",
       "      <th></th>\n",
       "      <th></th>\n",
       "      <th></th>\n",
       "    </tr>\n",
       "  </thead>\n",
       "  <tbody>\n",
       "    <tr>\n",
       "      <th>2797</th>\n",
       "      <td>14.671</td>\n",
       "      <td>-92.372</td>\n",
       "      <td>Chiapas</td>\n",
       "      <td>0</td>\n",
       "    </tr>\n",
       "    <tr>\n",
       "      <th>3060</th>\n",
       "      <td>14.682</td>\n",
       "      <td>-92.155</td>\n",
       "      <td>Chiapas</td>\n",
       "      <td>0</td>\n",
       "    </tr>\n",
       "    <tr>\n",
       "      <th>3344</th>\n",
       "      <td>14.721</td>\n",
       "      <td>-92.424</td>\n",
       "      <td>Chiapas</td>\n",
       "      <td>0</td>\n",
       "    </tr>\n",
       "    <tr>\n",
       "      <th>3487</th>\n",
       "      <td>14.778</td>\n",
       "      <td>-92.179</td>\n",
       "      <td>Chiapas</td>\n",
       "      <td>0</td>\n",
       "    </tr>\n",
       "    <tr>\n",
       "      <th>1924</th>\n",
       "      <td>14.786</td>\n",
       "      <td>-92.366</td>\n",
       "      <td>Chiapas</td>\n",
       "      <td>0</td>\n",
       "    </tr>\n",
       "  </tbody>\n",
       "</table>\n",
       "</div>"
      ],
      "text/plain": [
       "              LATITUDE  LONGITUDE    STATE  EPIDEMIC\n",
       "ANTENNA_ID_0                                        \n",
       "2797            14.671    -92.372  Chiapas         0\n",
       "3060            14.682    -92.155  Chiapas         0\n",
       "3344            14.721    -92.424  Chiapas         0\n",
       "3487            14.778    -92.179  Chiapas         0\n",
       "1924            14.786    -92.366  Chiapas         0"
      ]
     },
     "execution_count": 83,
     "metadata": {},
     "output_type": "execute_result"
    }
   ],
   "source": [
    "antennas.head()"
   ]
  },
  {
   "cell_type": "code",
   "execution_count": 69,
   "metadata": {
    "collapsed": false
   },
   "outputs": [
    {
     "name": "stdout",
     "output_type": "stream",
     "text": [
      "ID LATITUDE LONGITUDE\r\n",
      "2797 14671 -92372\r\n",
      "3060 14682 -92155\r\n",
      "3344 14721 -92424\r\n",
      "3487 14778 -92179\r\n",
      "1924 14786 -92366\r\n",
      "1001 14870 -92285\r\n",
      "2914 14882 -92265\r\n",
      "2094 14888 -92283\r\n",
      "2055 14888 -92250\r\n",
      "\r\n",
      "gzip: stdout: Broken pipe\r\n"
     ]
    }
   ],
   "source": [
    "!zcat /home/juan/mobility-study/surrogated_antennas.txt.gz | head"
   ]
  },
  {
   "cell_type": "code",
   "execution_count": 84,
   "metadata": {
    "collapsed": false,
    "scrolled": true
   },
   "outputs": [
    {
     "name": "stdout",
     "output_type": "stream",
     "text": [
      "(3667451, 10)\n",
      "(3667451, 11)\n"
     ]
    }
   ],
   "source": [
    "print(user_epidemic.shape)\n",
    "test = user_epidemic.join(antennas['EPIDEMIC'], on = user_epidemic.columns[0],\n",
    "           how='left', sort=False,rsuffix=\"_r\")\n",
    "\n",
    "print(test.shape)"
   ]
  },
  {
   "cell_type": "code",
   "execution_count": 88,
   "metadata": {
    "collapsed": false,
    "scrolled": false
   },
   "outputs": [
    {
     "name": "stdout",
     "output_type": "stream",
     "text": [
      "ANTENNA_ID_0\n",
      "(3667451, 11)\n",
      "ANTENNA_ID_1\n",
      "(3667451, 12)\n",
      "ANTENNA_ID_2\n",
      "(3667451, 13)\n",
      "ANTENNA_ID_3\n",
      "(3667451, 14)\n",
      "ANTENNA_ID_4\n",
      "(3667451, 15)\n",
      "ANTENNA_ID_5\n",
      "(3667451, 16)\n",
      "ANTENNA_ID_6\n",
      "(3667451, 17)\n",
      "ANTENNA_ID_7\n",
      "(3667451, 18)\n",
      "ANTENNA_ID_8\n",
      "(3667451, 19)\n",
      "ANTENNA_ID_9\n",
      "(3667451, 20)\n"
     ]
    }
   ],
   "source": [
    "for col in user_epidemic.columns:\n",
    "    antennas.index.name = col\n",
    "    user_epidemic = user_epidemic.join(antennas['EPIDEMIC'],on = col,how = 'left',rsuffix= col.replace(\"ANTENNA_ID_\",\"\")).fillna(0)\n",
    "    print(col)\n",
    "    print(user_epidemic.shape)\n",
    "    #user_epidemic[col.replace(\"ANTENNA_ID_\",\"EPIDEMIC_\")] = (user_epidemic[col]>0).astype(int)"
   ]
  },
  {
   "cell_type": "code",
   "execution_count": 86,
   "metadata": {
    "collapsed": false
   },
   "outputs": [
    {
     "name": "stdout",
     "output_type": "stream",
     "text": [
      "3667451\n",
      "(3667451, 10)\n"
     ]
    }
   ],
   "source": [
    "print(len(np.unique(user_epidemic.index.values)))\n",
    "print(user_epidemic.shape)"
   ]
  },
  {
   "cell_type": "code",
   "execution_count": 90,
   "metadata": {
    "collapsed": false,
    "scrolled": true
   },
   "outputs": [],
   "source": [
    "#agrego la definicion de expuesto que es fijarme si uso alguna vez alguna antenna epidemica\n",
    "user_epidemic['EXPOSED'] = (user_epidemic[[col for col in user_epidemic.columns if \"EPIDEMIC\" in col]].sum(axis=1)>0).astype(int)\n",
    "\n",
    "drop_cols = [\"EPIDEMIC\"+str(col) for col in range(1,10)]\n",
    "user_epidemic.drop(drop_cols,axis=1,inplace=True)\n",
    "#necesito este cambio de nombre para despues\n",
    "user_epidemic.index.name = 'LineKeyOrigin'\n",
    "#por temas de memoria dropeo las columnas que no voy a usar\n",
    "user_epidemic = user_epidemic[['ANTENNA_ID_0',\"EPIDEMIC\",\"EXPOSED\"]]"
   ]
  },
  {
   "cell_type": "code",
   "execution_count": 91,
   "metadata": {
    "collapsed": false
   },
   "outputs": [
    {
     "data": {
      "text/html": [
       "<div>\n",
       "<table border=\"1\" class=\"dataframe\">\n",
       "  <thead>\n",
       "    <tr style=\"text-align: right;\">\n",
       "      <th></th>\n",
       "      <th>ANTENNA_ID_0</th>\n",
       "      <th>EPIDEMIC</th>\n",
       "      <th>EXPOSED</th>\n",
       "    </tr>\n",
       "    <tr>\n",
       "      <th>LineKeyOrigin</th>\n",
       "      <th></th>\n",
       "      <th></th>\n",
       "      <th></th>\n",
       "    </tr>\n",
       "  </thead>\n",
       "  <tbody>\n",
       "    <tr>\n",
       "      <th>FFFF78CB080636632B2D1DE7A7BFAB03</th>\n",
       "      <td>3415</td>\n",
       "      <td>0</td>\n",
       "      <td>0</td>\n",
       "    </tr>\n",
       "    <tr>\n",
       "      <th>FFFF51FDDD55A2E24D074DE30C4798E9</th>\n",
       "      <td>1207</td>\n",
       "      <td>0</td>\n",
       "      <td>1</td>\n",
       "    </tr>\n",
       "    <tr>\n",
       "      <th>FFFE1EDDA25369CBC467536FA6A787FD</th>\n",
       "      <td>1847</td>\n",
       "      <td>0</td>\n",
       "      <td>1</td>\n",
       "    </tr>\n",
       "    <tr>\n",
       "      <th>FFFD0A912A959CDFCFFAB2F93BFBA435</th>\n",
       "      <td>1407</td>\n",
       "      <td>0</td>\n",
       "      <td>1</td>\n",
       "    </tr>\n",
       "    <tr>\n",
       "      <th>FFFCB235D6D917DDF350F5B11CCB0EE8</th>\n",
       "      <td>17</td>\n",
       "      <td>0</td>\n",
       "      <td>1</td>\n",
       "    </tr>\n",
       "  </tbody>\n",
       "</table>\n",
       "</div>"
      ],
      "text/plain": [
       "                                  ANTENNA_ID_0  EPIDEMIC  EXPOSED\n",
       "LineKeyOrigin                                                    \n",
       "FFFF78CB080636632B2D1DE7A7BFAB03          3415         0        0\n",
       "FFFF51FDDD55A2E24D074DE30C4798E9          1207         0        1\n",
       "FFFE1EDDA25369CBC467536FA6A787FD          1847         0        1\n",
       "FFFD0A912A959CDFCFFAB2F93BFBA435          1407         0        1\n",
       "FFFCB235D6D917DDF350F5B11CCB0EE8            17         0        1"
      ]
     },
     "execution_count": 91,
     "metadata": {},
     "output_type": "execute_result"
    }
   ],
   "source": [
    "user_epidemic.head()"
   ]
  },
  {
   "cell_type": "code",
   "execution_count": 92,
   "metadata": {
    "collapsed": false
   },
   "outputs": [],
   "source": [
    "table = pd.read_csv( \"/home/juan/mobility-study/play_ants/sl_crude.txt.gz\",\n",
    "                              header =0,\n",
    "                              index_col=None,\n",
    "                              engine=\"c\",\n",
    "                              sep=\"|\",\n",
    "                               #dtype = {'CallsWeekDaylight':np.uint16,'CallsWeekNight':np.uint16,'CallsWeekend':np.uint16,\n",
    "                                #          'TimeWeekDaylight':np.uint16,'TimeWeekNight':np.uint16,'TimeWeekend':np.uint16}                          \n",
    "                                )\n",
    "\n",
    "cols = [col for col in table.columns if not('Line' in col) ]\n",
    "#levanto todo en float, lo paso a int (excepto los hashes)\n",
    "table[cols] = table[cols].astype(int)\n",
    "\n",
    "#agrego la info de epidemicidad de los targets.\n",
    "table = table.join(user_epidemic[['EPIDEMIC','ANTENNA_ID_0']], on='LineKeyOrigin',how='left',rsuffix='_Origin')\n",
    "table = table.join(user_epidemic[['EPIDEMIC','ANTENNA_ID_0']], on='LineKeyTarget',how='left',rsuffix='_Target')\n",
    "table.rename(columns={'EPIDEMIC':\"EPIDEMIC_Origin\", 'ANTENNA_ID_0':\"ANTENNA_ID_0_Origin\"},inplace=True)\n",
    "#del user_epidemic"
   ]
  },
  {
   "cell_type": "code",
   "execution_count": 93,
   "metadata": {
    "collapsed": false
   },
   "outputs": [
    {
     "data": {
      "text/plain": [
       "array([[2, 1],\n",
       "       [1, 2],\n",
       "       [1, 3],\n",
       "       [1, 5]])"
      ]
     },
     "execution_count": 93,
     "metadata": {},
     "output_type": "execute_result"
    }
   ],
   "source": [
    "#este helper es para contar \"lexicograficamente\" valores unicos en un array de 2 columnas\n",
    "def unique(array):\n",
    "    order = np.lexsort(array.T)\n",
    "    array = array[order]\n",
    "    diff = np.diff(array, axis=0)\n",
    "    ui = np.ones(len(array), 'bool')\n",
    "    ui[1:] = (diff != 0).any(axis=1) \n",
    "    return array[ui]\n",
    "\n",
    "prueba = np.array([[1,2],[1,3],[1,3],[1,5],[2,1],[2,1]]) \n",
    "unique(prueba)"
   ]
  },
  {
   "cell_type": "code",
   "execution_count": 94,
   "metadata": {
    "collapsed": false
   },
   "outputs": [
    {
     "name": "stdout",
     "output_type": "stream",
     "text": [
      "0\n",
      "CPU times: user 7.21 s, sys: 1.41 s, total: 8.62 s\n",
      "Wall time: 8.67 s\n"
     ]
    }
   ],
   "source": [
    "%%time\n",
    "#relevant columns\n",
    "rel_cols = ['LineKeyOrigin'] + [col for col in table.columns if ('Calls' in col) or ('Time' in col) ] \n",
    "#toda la info de llamados\n",
    "all_info = table[rel_cols].groupby('LineKeyOrigin').sum()\n",
    "#solo los llamados \"epi\"\n",
    "epi_info = table[table['EPIDEMIC_Target']==1][rel_cols].groupby('LineKeyOrigin').sum()\n",
    "epi_info.columns = [col+\"_EPI\" for col in epi_info.columns]\n",
    "\n",
    "result = pd.concat([all_info, epi_info], axis=1)\n",
    "del all_info, epi_info\n",
    "#ojo que este concat introduce nulls donde no hay index compartido entre los dataframes pues el join es 'outer'\n",
    "\n",
    "#reagrego la columna linekeyorigin\n",
    "result.index.name=rel_cols[0]\n",
    "#result.reset_index(level =0, inplace=True)\n",
    "# sin embargo no esperamos que haya nulls en las columnas relevantes\n",
    "print(result[rel_cols[1:]].isnull().sum().sum())\n",
    "#entonces rellenamos los valores faltantes con 0..\n",
    "result = result.fillna(0)"
   ]
  },
  {
   "cell_type": "markdown",
   "metadata": {},
   "source": [
    "## Direccion de llamado\n",
    "SumLinks tiene en cuenta la direccion del llamado pero en eseta celda vamos a agregar esta informacion, luego debemos rotar la informacion de la dataframe de sum_links i.e. swapear origin con target y toda esa info relevante para correr el mismo algoritmo."
   ]
  },
  {
   "cell_type": "code",
   "execution_count": 95,
   "metadata": {
    "collapsed": false
   },
   "outputs": [
    {
     "data": {
      "text/html": [
       "<div>\n",
       "<table border=\"1\" class=\"dataframe\">\n",
       "  <thead>\n",
       "    <tr style=\"text-align: right;\">\n",
       "      <th></th>\n",
       "      <th>LineKeyOrigin</th>\n",
       "      <th>LineKeyTarget</th>\n",
       "      <th>CallsWeekDaylight</th>\n",
       "      <th>CallsWeekNight</th>\n",
       "      <th>CallsWeekend</th>\n",
       "      <th>TimeWeekDaylight</th>\n",
       "      <th>TimeWeekNight</th>\n",
       "      <th>TimeWeekend</th>\n",
       "      <th>EPIDEMIC_Origin</th>\n",
       "      <th>ANTENNA_ID_0_Origin</th>\n",
       "      <th>EPIDEMIC_Target</th>\n",
       "      <th>ANTENNA_ID_0_Target</th>\n",
       "    </tr>\n",
       "  </thead>\n",
       "  <tbody>\n",
       "    <tr>\n",
       "      <th>0</th>\n",
       "      <td>00000837B868F926F67BD440A0845C1D</td>\n",
       "      <td>5350FBED91E7DA465D7D436ADD1C48F3</td>\n",
       "      <td>0</td>\n",
       "      <td>0</td>\n",
       "      <td>2</td>\n",
       "      <td>0</td>\n",
       "      <td>0</td>\n",
       "      <td>45</td>\n",
       "      <td>0</td>\n",
       "      <td>650</td>\n",
       "      <td>0</td>\n",
       "      <td>650</td>\n",
       "    </tr>\n",
       "    <tr>\n",
       "      <th>1</th>\n",
       "      <td>00000837B868F926F67BD440A0845C1D</td>\n",
       "      <td>C88DD6FDDF73AF80517291EEA7339B32</td>\n",
       "      <td>1</td>\n",
       "      <td>2</td>\n",
       "      <td>1</td>\n",
       "      <td>47</td>\n",
       "      <td>74</td>\n",
       "      <td>64</td>\n",
       "      <td>0</td>\n",
       "      <td>650</td>\n",
       "      <td>0</td>\n",
       "      <td>650</td>\n",
       "    </tr>\n",
       "  </tbody>\n",
       "</table>\n",
       "</div>"
      ],
      "text/plain": [
       "                      LineKeyOrigin                     LineKeyTarget  \\\n",
       "0  00000837B868F926F67BD440A0845C1D  5350FBED91E7DA465D7D436ADD1C48F3   \n",
       "1  00000837B868F926F67BD440A0845C1D  C88DD6FDDF73AF80517291EEA7339B32   \n",
       "\n",
       "   CallsWeekDaylight  CallsWeekNight  CallsWeekend  TimeWeekDaylight  \\\n",
       "0                  0               0             2                 0   \n",
       "1                  1               2             1                47   \n",
       "\n",
       "   TimeWeekNight  TimeWeekend  EPIDEMIC_Origin  ANTENNA_ID_0_Origin  \\\n",
       "0              0           45                0                  650   \n",
       "1             74           64                0                  650   \n",
       "\n",
       "   EPIDEMIC_Target  ANTENNA_ID_0_Target  \n",
       "0                0                  650  \n",
       "1                0                  650  "
      ]
     },
     "execution_count": 95,
     "metadata": {},
     "output_type": "execute_result"
    }
   ],
   "source": [
    "table.head(2)"
   ]
  },
  {
   "cell_type": "code",
   "execution_count": 96,
   "metadata": {
    "collapsed": true
   },
   "outputs": [],
   "source": [
    "#swapeo los nombres de las columnas, dropeo epidemic y lo vuelvo a agregar para los nuevos users swappeados\n",
    "table=table.rename(columns = {'LineKeyOrigin':'LineKeyTarget',\n",
    "                        'LineKeyTarget':'LineKeyOrigin',\n",
    "                             'EPIDEMIC_Origin':'EPIDEMIC_Target',\n",
    "                              'EPIDEMIC_Target':'EPIDEMIC_Origin'})"
   ]
  },
  {
   "cell_type": "code",
   "execution_count": 97,
   "metadata": {
    "collapsed": false
   },
   "outputs": [
    {
     "data": {
      "text/html": [
       "<div>\n",
       "<table border=\"1\" class=\"dataframe\">\n",
       "  <thead>\n",
       "    <tr style=\"text-align: right;\">\n",
       "      <th></th>\n",
       "      <th>LineKeyTarget</th>\n",
       "      <th>LineKeyOrigin</th>\n",
       "      <th>CallsWeekDaylight</th>\n",
       "      <th>CallsWeekNight</th>\n",
       "      <th>CallsWeekend</th>\n",
       "      <th>TimeWeekDaylight</th>\n",
       "      <th>TimeWeekNight</th>\n",
       "      <th>TimeWeekend</th>\n",
       "      <th>EPIDEMIC_Target</th>\n",
       "      <th>ANTENNA_ID_0_Origin</th>\n",
       "      <th>EPIDEMIC_Origin</th>\n",
       "      <th>ANTENNA_ID_0_Target</th>\n",
       "    </tr>\n",
       "  </thead>\n",
       "  <tbody>\n",
       "    <tr>\n",
       "      <th>0</th>\n",
       "      <td>00000837B868F926F67BD440A0845C1D</td>\n",
       "      <td>5350FBED91E7DA465D7D436ADD1C48F3</td>\n",
       "      <td>0</td>\n",
       "      <td>0</td>\n",
       "      <td>2</td>\n",
       "      <td>0</td>\n",
       "      <td>0</td>\n",
       "      <td>45</td>\n",
       "      <td>0</td>\n",
       "      <td>650</td>\n",
       "      <td>0</td>\n",
       "      <td>650</td>\n",
       "    </tr>\n",
       "    <tr>\n",
       "      <th>1</th>\n",
       "      <td>00000837B868F926F67BD440A0845C1D</td>\n",
       "      <td>C88DD6FDDF73AF80517291EEA7339B32</td>\n",
       "      <td>1</td>\n",
       "      <td>2</td>\n",
       "      <td>1</td>\n",
       "      <td>47</td>\n",
       "      <td>74</td>\n",
       "      <td>64</td>\n",
       "      <td>0</td>\n",
       "      <td>650</td>\n",
       "      <td>0</td>\n",
       "      <td>650</td>\n",
       "    </tr>\n",
       "  </tbody>\n",
       "</table>\n",
       "</div>"
      ],
      "text/plain": [
       "                      LineKeyTarget                     LineKeyOrigin  \\\n",
       "0  00000837B868F926F67BD440A0845C1D  5350FBED91E7DA465D7D436ADD1C48F3   \n",
       "1  00000837B868F926F67BD440A0845C1D  C88DD6FDDF73AF80517291EEA7339B32   \n",
       "\n",
       "   CallsWeekDaylight  CallsWeekNight  CallsWeekend  TimeWeekDaylight  \\\n",
       "0                  0               0             2                 0   \n",
       "1                  1               2             1                47   \n",
       "\n",
       "   TimeWeekNight  TimeWeekend  EPIDEMIC_Target  ANTENNA_ID_0_Origin  \\\n",
       "0              0           45                0                  650   \n",
       "1             74           64                0                  650   \n",
       "\n",
       "   EPIDEMIC_Origin  ANTENNA_ID_0_Target  \n",
       "0                0                  650  \n",
       "1                0                  650  "
      ]
     },
     "execution_count": 97,
     "metadata": {},
     "output_type": "execute_result"
    }
   ],
   "source": [
    "table.head(2)"
   ]
  },
  {
   "cell_type": "code",
   "execution_count": 98,
   "metadata": {
    "collapsed": false
   },
   "outputs": [
    {
     "name": "stdout",
     "output_type": "stream",
     "text": [
      "0\n"
     ]
    }
   ],
   "source": [
    "rel_cols = ['LineKeyOrigin'] + [col for col in table.columns if ('Calls' in col) or ('Time' in col) ] \n",
    "all_info = table[rel_cols].groupby('LineKeyOrigin').sum()\n",
    "epi_info = table[table['EPIDEMIC_Target']==1][rel_cols].groupby('LineKeyOrigin').sum()\n",
    "epi_info.columns = [col+\"_EPI\" for col in epi_info.columns]\n",
    "\n",
    "user_table = pd.concat([all_info, epi_info], axis=1)\n",
    "#ojo que este concat introduce nulls donde no hay index compartido entre los dataframes pues el join es 'outer'\n",
    "del all_info, epi_info\n",
    "#reagrego la columna linekeyorigin\n",
    "user_table.index.name=rel_cols[0]\n",
    "#user_table.reset_index(level =0, inplace=True)\n",
    "# sin embargo no esperamos que haya nulls en las columnas relevantes\n",
    "print(user_table[rel_cols[1:]].isnull().sum().sum())\n",
    "#entonces rellenamos los valores faltantes con 0..\n",
    "user_table = user_table.fillna(0)"
   ]
  },
  {
   "cell_type": "code",
   "execution_count": 99,
   "metadata": {
    "collapsed": true
   },
   "outputs": [],
   "source": [
    "#junto las dos tablas sumando la info\n",
    "user_table = result.add(user_table,fill_value=0)\n",
    "user_table = user_table.astype(int)\n",
    "del result"
   ]
  },
  {
   "cell_type": "code",
   "execution_count": 100,
   "metadata": {
    "collapsed": false
   },
   "outputs": [
    {
     "name": "stdout",
     "output_type": "stream",
     "text": [
      "col CallsWeekDaylight_EPI is <= than col CallsWeekDaylight: True\n",
      "col CallsWeekNight_EPI is <= than col CallsWeekNight: True\n",
      "col CallsWeekend_EPI is <= than col CallsWeekend: True\n",
      "col TimeWeekDaylight_EPI is <= than col TimeWeekDaylight: True\n",
      "col TimeWeekNight_EPI is <= than col TimeWeekNight: True\n",
      "col TimeWeekend_EPI is <= than col TimeWeekend: True\n",
      "True\n",
      "(2449242, 2449242)\n"
     ]
    }
   ],
   "source": [
    "#checking that all \"_EPI\" should be smaller or equal then their non_EPI column\n",
    "for col in rel_cols:\n",
    "    if col == 'LineKeyOrigin':\n",
    "        continue\n",
    "    epi_col = col+\"_EPI\"\n",
    "    print(\"col {0} is <= than col {1}: {2}\".format(epi_col,col,\n",
    "                                (user_table[epi_col] <= user_table[col]).all()  ))\n",
    "\n",
    "table_hashes = set(table.LineKeyOrigin.values) | set(table.LineKeyTarget.values)\n",
    "\n",
    "print(np.in1d(table.LineKeyOrigin.values, user_table.index.values ).all())\n",
    "print( len(table_hashes),len(user_table) )"
   ]
  },
  {
   "cell_type": "code",
   "execution_count": 101,
   "metadata": {
    "collapsed": false
   },
   "outputs": [
    {
     "name": "stdout",
     "output_type": "stream",
     "text": [
      "(5015519, 12)\n"
     ]
    }
   ],
   "source": [
    "print(table.shape)"
   ]
  },
  {
   "cell_type": "code",
   "execution_count": 102,
   "metadata": {
    "collapsed": true
   },
   "outputs": [],
   "source": [
    "# me genero la tabla con los pares (i,j) y concateno con la tabla pero swappeando en (j,i) para lograr hacer los counts apropiados\n",
    "\n",
    "user_pair = table[['LineKeyOrigin','LineKeyTarget']].copy()\n",
    "#no necesitamos mas esta info\n",
    "del table"
   ]
  },
  {
   "cell_type": "code",
   "execution_count": 103,
   "metadata": {
    "collapsed": false
   },
   "outputs": [
    {
     "name": "stdout",
     "output_type": "stream",
     "text": [
      "(5015519, 2)\n"
     ]
    }
   ],
   "source": [
    "print(user_pair.shape)"
   ]
  },
  {
   "cell_type": "markdown",
   "metadata": {},
   "source": [
    "## OJO\n",
    "el proximo join puede reventar facilmente la memoria del server\n",
    "\n",
    "tal vez sea mejor guardar el file al disco para restartear el kernel, liberar memoria y volver a arrancar"
   ]
  },
  {
   "cell_type": "code",
   "execution_count": null,
   "metadata": {
    "collapsed": true
   },
   "outputs": [],
   "source": []
  },
  {
   "cell_type": "code",
   "execution_count": 105,
   "metadata": {
    "collapsed": false
   },
   "outputs": [
    {
     "data": {
      "text/plain": [
       "(2101406, 1927239, 2101406, 1927239)"
      ]
     },
     "execution_count": 105,
     "metadata": {},
     "output_type": "execute_result"
    }
   ],
   "source": [
    "users1 = np.unique(user_pair.LineKeyOrigin.values)\n",
    "users2 = np.unique(user_pair.LineKeyTarget.values)\n",
    "sanity1 = np.in1d(users1,user_epidemic.index.values)\n",
    "sanity2 = np.in1d(users2,user_epidemic.index.values)\n",
    "len(users1), len(users2), sanity1.sum(), sanity2.sum()"
   ]
  },
  {
   "cell_type": "code",
   "execution_count": 108,
   "metadata": {
    "collapsed": true
   },
   "outputs": [],
   "source": [
    "#agrego la informacion epidemica y de exposicion\n",
    "user_pair = user_pair.join(user_epidemic[['EPIDEMIC','EXPOSED']].astype(int),on = 'LineKeyTarget',\n",
    "                           how = 'left',rsuffix='_Target')"
   ]
  },
  {
   "cell_type": "code",
   "execution_count": 109,
   "metadata": {
    "collapsed": false
   },
   "outputs": [
    {
     "data": {
      "text/html": [
       "<div>\n",
       "<table border=\"1\" class=\"dataframe\">\n",
       "  <thead>\n",
       "    <tr style=\"text-align: right;\">\n",
       "      <th></th>\n",
       "      <th>ANTENNA_ID_0</th>\n",
       "      <th>EPIDEMIC</th>\n",
       "      <th>EXPOSED</th>\n",
       "    </tr>\n",
       "    <tr>\n",
       "      <th>LineKeyOrigin</th>\n",
       "      <th></th>\n",
       "      <th></th>\n",
       "      <th></th>\n",
       "    </tr>\n",
       "  </thead>\n",
       "  <tbody>\n",
       "    <tr>\n",
       "      <th>FFFF78CB080636632B2D1DE7A7BFAB03</th>\n",
       "      <td>3415</td>\n",
       "      <td>0</td>\n",
       "      <td>0</td>\n",
       "    </tr>\n",
       "    <tr>\n",
       "      <th>FFFF51FDDD55A2E24D074DE30C4798E9</th>\n",
       "      <td>1207</td>\n",
       "      <td>0</td>\n",
       "      <td>1</td>\n",
       "    </tr>\n",
       "    <tr>\n",
       "      <th>FFFE1EDDA25369CBC467536FA6A787FD</th>\n",
       "      <td>1847</td>\n",
       "      <td>0</td>\n",
       "      <td>1</td>\n",
       "    </tr>\n",
       "    <tr>\n",
       "      <th>FFFD0A912A959CDFCFFAB2F93BFBA435</th>\n",
       "      <td>1407</td>\n",
       "      <td>0</td>\n",
       "      <td>1</td>\n",
       "    </tr>\n",
       "    <tr>\n",
       "      <th>FFFCB235D6D917DDF350F5B11CCB0EE8</th>\n",
       "      <td>17</td>\n",
       "      <td>0</td>\n",
       "      <td>1</td>\n",
       "    </tr>\n",
       "  </tbody>\n",
       "</table>\n",
       "</div>"
      ],
      "text/plain": [
       "                                  ANTENNA_ID_0  EPIDEMIC  EXPOSED\n",
       "LineKeyOrigin                                                    \n",
       "FFFF78CB080636632B2D1DE7A7BFAB03          3415         0        0\n",
       "FFFF51FDDD55A2E24D074DE30C4798E9          1207         0        1\n",
       "FFFE1EDDA25369CBC467536FA6A787FD          1847         0        1\n",
       "FFFD0A912A959CDFCFFAB2F93BFBA435          1407         0        1\n",
       "FFFCB235D6D917DDF350F5B11CCB0EE8            17         0        1"
      ]
     },
     "execution_count": 109,
     "metadata": {},
     "output_type": "execute_result"
    }
   ],
   "source": [
    "user_epidemic.head()"
   ]
  },
  {
   "cell_type": "code",
   "execution_count": 110,
   "metadata": {
    "collapsed": false
   },
   "outputs": [
    {
     "name": "stdout",
     "output_type": "stream",
     "text": [
      "3667451\n",
      "(3667451, 3)\n"
     ]
    }
   ],
   "source": [
    "print(len(np.unique(user_epidemic.index.values)))\n",
    "print(user_epidemic.shape)"
   ]
  },
  {
   "cell_type": "code",
   "execution_count": 111,
   "metadata": {
    "collapsed": false
   },
   "outputs": [
    {
     "data": {
      "text/html": [
       "<div>\n",
       "<table border=\"1\" class=\"dataframe\">\n",
       "  <thead>\n",
       "    <tr style=\"text-align: right;\">\n",
       "      <th></th>\n",
       "      <th>LineKeyOrigin</th>\n",
       "      <th>LineKeyTarget</th>\n",
       "      <th>EPIDEMIC</th>\n",
       "      <th>EXPOSED</th>\n",
       "    </tr>\n",
       "  </thead>\n",
       "  <tbody>\n",
       "    <tr>\n",
       "      <th>0</th>\n",
       "      <td>5350FBED91E7DA465D7D436ADD1C48F3</td>\n",
       "      <td>00000837B868F926F67BD440A0845C1D</td>\n",
       "      <td>0</td>\n",
       "      <td>1</td>\n",
       "    </tr>\n",
       "    <tr>\n",
       "      <th>1</th>\n",
       "      <td>C88DD6FDDF73AF80517291EEA7339B32</td>\n",
       "      <td>00000837B868F926F67BD440A0845C1D</td>\n",
       "      <td>0</td>\n",
       "      <td>1</td>\n",
       "    </tr>\n",
       "    <tr>\n",
       "      <th>2</th>\n",
       "      <td>11509D6701C5280D0D0B2271246424B0</td>\n",
       "      <td>000017368A8964F8C71A9F3A1EAF6160</td>\n",
       "      <td>1</td>\n",
       "      <td>1</td>\n",
       "    </tr>\n",
       "    <tr>\n",
       "      <th>3</th>\n",
       "      <td>651D2B4E897DB722F28EDB856F4909FE</td>\n",
       "      <td>000017368A8964F8C71A9F3A1EAF6160</td>\n",
       "      <td>1</td>\n",
       "      <td>1</td>\n",
       "    </tr>\n",
       "    <tr>\n",
       "      <th>4</th>\n",
       "      <td>FB36428E265F633EC2227140BDDCCB4D</td>\n",
       "      <td>000017368A8964F8C71A9F3A1EAF6160</td>\n",
       "      <td>1</td>\n",
       "      <td>1</td>\n",
       "    </tr>\n",
       "  </tbody>\n",
       "</table>\n",
       "</div>"
      ],
      "text/plain": [
       "                      LineKeyOrigin                     LineKeyTarget  \\\n",
       "0  5350FBED91E7DA465D7D436ADD1C48F3  00000837B868F926F67BD440A0845C1D   \n",
       "1  C88DD6FDDF73AF80517291EEA7339B32  00000837B868F926F67BD440A0845C1D   \n",
       "2  11509D6701C5280D0D0B2271246424B0  000017368A8964F8C71A9F3A1EAF6160   \n",
       "3  651D2B4E897DB722F28EDB856F4909FE  000017368A8964F8C71A9F3A1EAF6160   \n",
       "4  FB36428E265F633EC2227140BDDCCB4D  000017368A8964F8C71A9F3A1EAF6160   \n",
       "\n",
       "   EPIDEMIC  EXPOSED  \n",
       "0         0        1  \n",
       "1         0        1  \n",
       "2         1        1  \n",
       "3         1        1  \n",
       "4         1        1  "
      ]
     },
     "execution_count": 111,
     "metadata": {},
     "output_type": "execute_result"
    }
   ],
   "source": [
    "user_pair.head()"
   ]
  },
  {
   "cell_type": "code",
   "execution_count": 112,
   "metadata": {
    "collapsed": false
   },
   "outputs": [
    {
     "name": "stdout",
     "output_type": "stream",
     "text": [
      "(5015519, 4)\n"
     ]
    }
   ],
   "source": [
    "print(user_pair.shape)"
   ]
  },
  {
   "cell_type": "code",
   "execution_count": 113,
   "metadata": {
    "collapsed": false,
    "scrolled": true
   },
   "outputs": [],
   "source": [
    "user_pair2 = user_pair[['LineKeyOrigin','LineKeyTarget']].copy()\n",
    "#reordeno las columnas\n",
    "user_pair2.columns = ['LineKeyOrigin','LineKeyTarget']\n",
    "user_pair = pd.concat([user_pair,user_pair2])\n",
    "del user_pair2"
   ]
  },
  {
   "cell_type": "code",
   "execution_count": 114,
   "metadata": {
    "collapsed": false
   },
   "outputs": [
    {
     "name": "stdout",
     "output_type": "stream",
     "text": [
      "CPU times: user 56.4 s, sys: 2.73 s, total: 59.1 s\n",
      "Wall time: 59.5 s\n"
     ]
    }
   ],
   "source": [
    "%%time\n",
    "\n",
    "# UNIQUE # of users count\n",
    "\n",
    "#primero agrupo por el par (i,j) para no tener dos veces el par y agrupo \n",
    "#(el agregador es \"bobo\" no voy a estar usando la info de esta agrupacion)\n",
    "total_users = user_pair.groupby(['LineKeyOrigin','LineKeyTarget']).count()\n",
    "total_users = total_users.reset_index()\n",
    "total_users.rename(columns={'EPIDEMIC':'TOTAL_USERS'},inplace=True)\n",
    "# ahora conteo los usuarios unicos\n",
    "total_users = total_users.groupby('LineKeyOrigin')['TOTAL_USERS'].count()\n",
    "total_users = total_users.to_frame()\n",
    "total_users = total_users.reset_index()\n",
    "\n",
    "# EPIDEMIC & EXPOSED count\n",
    "#primero agrupo por el par (i,j) para no tener dos veces el par y agrupo \n",
    "#(el agregador es \"bobo\" no voy a estar usando la info de esta agrupacion)\n",
    "\n",
    "epidemic_count = user_pair[user_pair['EPIDEMIC']==1]\\\n",
    "                .groupby(['LineKeyOrigin','LineKeyTarget'])['EPIDEMIC'].count()\n",
    "epidemic_count = epidemic_count.reset_index()\n",
    "epidemic_count.rename(columns={'EPIDEMIC':'EPI_USERS'},inplace=True)\n",
    "\n",
    "exposed_count = user_pair[user_pair['EXPOSED']==1]\\\n",
    "                .groupby(['LineKeyOrigin','LineKeyTarget'])['EXPOSED'].count()\n",
    "exposed_count = exposed_count.reset_index()\n",
    "exposed_count.rename(columns={'EXPOSED':'EXP_USERS'},inplace=True)\n",
    "\n",
    "#reseteo el indice\n",
    "#epidemic_count = epidemic_count.reset_index()\n",
    "#exposed_count = exposed_count.reset_index()\n",
    "\n",
    "#ahora si agrupo y cuento c/ par unico (Origin,Target)\n",
    "epidemic_count = epidemic_count.groupby(['LineKeyOrigin'])['EPI_USERS'].count()\n",
    "exposed_count = exposed_count.groupby(['LineKeyOrigin'])['EXP_USERS'].count()\n",
    "\n",
    "epidemic_count = epidemic_count.to_frame()\n",
    "exposed_count = exposed_count.to_frame()\n",
    "del user_pair"
   ]
  },
  {
   "cell_type": "code",
   "execution_count": 115,
   "metadata": {
    "collapsed": false,
    "scrolled": true
   },
   "outputs": [
    {
     "name": "stdout",
     "output_type": "stream",
     "text": [
      "total algo time for 2101406 users is \n"
     ]
    }
   ],
   "source": [
    "#agrego la informacion epidemica y de exposicion en total_users y relleno los NaNs con 0s i.e. ausencia de conteos\n",
    "total_users = total_users.join(epidemic_count['EPI_USERS'],on = 'LineKeyOrigin', how = 'left').fillna(0)\n",
    "total_users = total_users.join(exposed_count['EXP_USERS'],on = 'LineKeyOrigin', how = 'left').fillna(0)\n",
    "\n",
    "del exposed_count, epidemic_count\n",
    "\n",
    "total_users.set_index('LineKeyOrigin',inplace=True)\n",
    "\n",
    "print(\"total algo time for {n} users is \".format(n=(len(total_users))))"
   ]
  },
  {
   "cell_type": "code",
   "execution_count": 116,
   "metadata": {
    "collapsed": false
   },
   "outputs": [
    {
     "name": "stdout",
     "output_type": "stream",
     "text": [
      "col TOTAL_USERS is >= than col EPI_USERS: True\n",
      "col TOTAL_USERS is >= than col EXP_USERS: True\n",
      "col EXP_USERS is >= than col EPI_USERS: True\n"
     ]
    }
   ],
   "source": [
    "#check that all \"_EPI\" should be smaller or equal then their non_EPI column\n",
    "tot_cols =['TOTAL_USERS','EPI_USERS','EXP_USERS']\n",
    "print(\"col {0} is >= than col {1}: {2}\".format(tot_cols[0],tot_cols[1],\n",
    "                                (total_users[tot_cols[0]] >= total_users[tot_cols[1]]).all()  ))\n",
    "print(\"col {0} is >= than col {1}: {2}\".format(tot_cols[0],tot_cols[2],\n",
    "                                (total_users[tot_cols[0]] >= total_users[tot_cols[2]]).all()  ))\n",
    "print(\"col {0} is >= than col {1}: {2}\".format(tot_cols[2],tot_cols[1],\n",
    "                                (total_users[tot_cols[2]] >= total_users[tot_cols[1]]).all()  ))"
   ]
  },
  {
   "cell_type": "code",
   "execution_count": 117,
   "metadata": {
    "collapsed": true
   },
   "outputs": [],
   "source": [
    "#add info to user_table table\n",
    "user_table = pd.merge(user_table,total_users,how='inner',right_index=True,left_index=True).astype(int)\n",
    "del total_users"
   ]
  },
  {
   "cell_type": "code",
   "execution_count": 118,
   "metadata": {
    "collapsed": true
   },
   "outputs": [],
   "source": [
    "#aggregating total_users, total_epi_users and total_exposed_users info\n",
    "\n",
    "user_table = user_table.join(user_epidemic['ANTENNA_ID_0'],how='left',rsuffix='_Origin')\n",
    "calls_cols = [col for col in user_table.columns if \"Calls\" in col]\n",
    "time_cols =  [col for col in user_table.columns if \"Time\" in col]\n",
    "\n",
    "epi_calls_cols = [col for col in user_table.columns if (\"Calls\" in col and \"EPI\" in col)]\n",
    "epi_time_cols =  [col for col in user_table.columns if (\"Time\" in col and \"EPI\" in col)]\n",
    "\n",
    "user_table['TOTAL_Calls'] = user_table[calls_cols].sum(axis =1).values\n",
    "user_table['TOTAL_Time'] = user_table[time_cols].sum(axis =1).values\n",
    "\n",
    "user_table['TOTAL_EPI_Calls'] = user_table[epi_calls_cols].sum(axis = 1).values\n",
    "user_table['TOTAL_EPI_Time'] = user_table[epi_time_cols].sum(axis = 1).values\n",
    "\n",
    "calls_cols = [col for col in user_table.columns if \"Calls\" in col]\n",
    "time_cols =  [col for col in user_table.columns if \"Time\" in col]\n",
    "\n",
    "antenna2vuln = user_table.groupby('ANTENNA_ID_0')[calls_cols + time_cols].sum()\n",
    "\n",
    "# 1EPI_USER vendria a ser como if USER Interacted with at least 1 epidemic user in that month \n",
    "user_table['1EPI_USER'] = (user_table['EPI_USERS']>=1).astype(int).values\n",
    "user_table['1EXP_USER'] = (user_table['EXP_USERS']>=1).astype(int).values\n",
    "\n",
    "# como el groupby es sorted by default, no tengo el problema del desorden aca.\n",
    "antenna2vuln['EXP_USERS'] = user_table.groupby('ANTENNA_ID_0')['1EXP_USER'].sum()\n",
    "antenna2vuln['EPI_USERS'] = user_table.groupby('ANTENNA_ID_0')['1EPI_USER'].sum()\n",
    "antenna2vuln['TOTAL_USERS'] = user_table.groupby('ANTENNA_ID_0')['TOTAL_USERS'].count()"
   ]
  },
  {
   "cell_type": "code",
   "execution_count": 119,
   "metadata": {
    "collapsed": false
   },
   "outputs": [
    {
     "name": "stdout",
     "output_type": "stream",
     "text": [
      "((4178, 19), (4178, 19))\n"
     ]
    }
   ],
   "source": [
    "#reordenamos las columnas como querriamos\n",
    "old_cols = \"\"\"TOTAL_USERS,EPI_USERS,EXP_USERS,\n",
    "CallsWeekDaylight,CallsWeekNight,CallsWeekend,TimeWeekDaylight,TimeWeekNight,TimeWeekend,\n",
    "CallsWeekDaylight_EPI,CallsWeekNight_EPI,CallsWeekend_EPI,TOTAL_Calls,TOTAL_EPI_Calls,TimeWeekDaylight_EPI,\n",
    "TimeWeekNight_EPI,TimeWeekend_EPI,TOTAL_Time,TOTAL_EPI_Time\"\"\"\n",
    "new_cols =old_cols.replace(\"\\n\",\"\").replace(\" \",\"\").split(\",\")\n",
    "\n",
    "# chequeo consistencia del reorden\n",
    "print(antenna2vuln[new_cols].shape, antenna2vuln.shape)\n",
    "\n",
    "antenna2vuln = antenna2vuln[new_cols]"
   ]
  },
  {
   "cell_type": "code",
   "execution_count": 120,
   "metadata": {
    "collapsed": true
   },
   "outputs": [],
   "source": [
    "ant_file = \"/home/juan/mobility-study/play_ants/ant_vuln_info.txt\"\n",
    "antenna2vuln.to_csv(ant_file, \n",
    "             index = True, \n",
    "             header = True,\n",
    "             float_format='%.0f',\n",
    "             sep=\"|\")"
   ]
  }
 ],
 "metadata": {
  "kernelspec": {
   "display_name": "Python 2",
   "language": "python",
   "name": "python2"
  },
  "language_info": {
   "codemirror_mode": {
    "name": "ipython",
    "version": 2
   },
   "file_extension": ".py",
   "mimetype": "text/x-python",
   "name": "python",
   "nbconvert_exporter": "python",
   "pygments_lexer": "ipython2",
   "version": "2.7.10"
  }
 },
 "nbformat": 4,
 "nbformat_minor": 0
}
