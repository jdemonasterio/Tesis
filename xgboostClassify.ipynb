{
 "cells": [
  {
   "cell_type": "markdown",
   "metadata": {
    "collapsed": false
   },
   "source": [
    "A partir de una tabla de datos ya procesada para utilizar con los modelos teoricos, \n",
    "en este nb buscamos optimizar"
   ]
  },
  {
   "cell_type": "code",
   "execution_count": 1,
   "metadata": {
    "collapsed": false
   },
   "outputs": [
    {
     "data": {
      "application/javascript": [
       "IPython.notebook.set_autosave_interval(180000)"
      ]
     },
     "metadata": {},
     "output_type": "display_data"
    },
    {
     "name": "stdout",
     "output_type": "stream",
     "text": [
      "Autosaving every 180 seconds\n"
     ]
    }
   ],
   "source": [
    "## seteamos los parametros del notebook\n",
    "%autosave 180"
   ]
  },
  {
   "cell_type": "code",
   "execution_count": 2,
   "metadata": {
    "collapsed": false
   },
   "outputs": [],
   "source": [
    "import pandas as pd; \n",
    "import numpy as np; \n",
    "import os;\n",
    "import random;\n",
    "import time\n",
    "#%matplotlib inline"
   ]
  },
  {
   "cell_type": "code",
   "execution_count": 3,
   "metadata": {
    "collapsed": false
   },
   "outputs": [],
   "source": [
    "#from utils.partitions import *\n",
    "#import utils.presto_connection as p_c"
   ]
  },
  {
   "cell_type": "code",
   "execution_count": 4,
   "metadata": {
    "collapsed": false
   },
   "outputs": [],
   "source": [
    "np.random.seed(2015)\n",
    "#rootdir=os.getcwd()\n",
    "rootdir = os.path.expanduser('~/Repositories/user-analytics/clustering')\n",
    "os.chdir(rootdir)\n",
    "\n",
    "#hdf5_file = \"LTV_results.h5\"\n",
    "#store = pd.HDFStore(hdf5_file, mode='a', complevel = 9, complib='blosc')\n",
    "run_number = 0"
   ]
  },
  {
   "cell_type": "code",
   "execution_count": 4,
   "metadata": {
    "collapsed": false
   },
   "outputs": [],
   "source": [
    "#from unbalanced_dataset import UnderSampler, NearMiss, CondensedNearestNeighbour, OneSidedSelection,\\\n",
    "#NeighbourhoodCleaningRule, TomekLinks, ClusterCentroids, OverSampler, SMOTE,\\\n",
    "#SMOTETomek, SMOTEENN, EasyEnsemble, BalanceCascade"
   ]
  },
  {
   "cell_type": "markdown",
   "metadata": {},
   "source": [
    "# Data queries  Params\n",
    "Para tener rapidamente parametrizadas las distintas queries y correrla en fault a mano o con Pyhive"
   ]
  },
  {
   "cell_type": "markdown",
   "metadata": {},
   "source": [
    "## Dafiti  android 189\n",
    "Dafiti me da mas informacion de \"social sharing\" events que tal vez me sirvan para ver el componente de virality en LTV.\n",
    "\n",
    "Miramos key_events como\n",
    "{363:\"view_product\",35:\"sale\",372:\"product_rate\",369:\"social_share\"}\n"
   ]
  },
  {
   "cell_type": "markdown",
   "metadata": {},
   "source": [
    "### Lieferheld Case: android 889\n",
    "Miramos como key_events: {2350:order_rate, 2296: in_app_acquisition, 2143: view_product}"
   ]
  },
  {
   "cell_type": "markdown",
   "metadata": {},
   "source": [
    "### FoodPanda : android 545 e ios 544\n",
    "\n",
    "**Obs** No tengo info de social_share en este advertiser ni info de product_rate\n",
    "\n",
    "Miramos los key_events: {1149:\"restaurant_view\",184:\"400_Add_to_Cart\",187:\"500_sale\"}"
   ]
  },
  {
   "cell_type": "markdown",
   "metadata": {},
   "source": [
    "### BoxedWholesale : android 1394 e ios  1395\n",
    "**Obs** No tengo info de social_share en este advertiser ni info de product_rate **NI DE** product_view\n",
    "\n",
    "Miramos key_events: {24:\"open\", 251: \"add_to_cart\", 8: \"purchased\"}"
   ]
  },
  {
   "cell_type": "markdown",
   "metadata": {},
   "source": [
    "### Netshoes : android 1289 e ios 1325\n",
    "**Obs:** No tengo info de social_share en este advertiser ni info de product_rate\n",
    "\n",
    "Miramos key_events: key_evs = {1912:\"product_view\",251:\"add_to_cart\", 2393:\"trackTransaction\"}\n"
   ]
  },
  {
   "cell_type": "code",
   "execution_count": 5,
   "metadata": {
    "collapsed": false
   },
   "outputs": [
    {
     "ename": "NameError",
     "evalue": "name 'get_os_partitions' is not defined",
     "output_type": "error",
     "traceback": [
      "\u001b[1;31m---------------------------------------------------------------------------\u001b[0m",
      "\u001b[1;31mNameError\u001b[0m                                 Traceback (most recent call last)",
      "\u001b[1;32m<ipython-input-5-93794c8b9a1b>\u001b[0m in \u001b[0;36m<module>\u001b[1;34m()\u001b[0m\n\u001b[0;32m     48\u001b[0m \u001b[1;31m#application_id= 1395; osp =\"ios\";\u001b[0m\u001b[1;33m\u001b[0m\u001b[1;33m\u001b[0m\u001b[0m\n\u001b[0;32m     49\u001b[0m \u001b[1;33m\u001b[0m\u001b[0m\n\u001b[1;32m---> 50\u001b[1;33m \u001b[0mos_partitions\u001b[0m \u001b[1;33m=\u001b[0m \u001b[0mget_os_partitions\u001b[0m\u001b[1;33m(\u001b[0m\u001b[0mosp\u001b[0m\u001b[1;33m)\u001b[0m\u001b[1;33m\u001b[0m\u001b[0m\n\u001b[0m\u001b[0;32m     51\u001b[0m \u001b[0mmonth_partitions\u001b[0m \u001b[1;33m=\u001b[0m         \u001b[0mget_month_partitions\u001b[0m\u001b[1;33m(\u001b[0m\u001b[0myear_start\u001b[0m\u001b[1;33m,\u001b[0m \u001b[0mmonth_start\u001b[0m\u001b[1;33m,\u001b[0m \u001b[0myear_end\u001b[0m\u001b[1;33m,\u001b[0m \u001b[0mmonth_end\u001b[0m\u001b[1;33m)\u001b[0m\u001b[1;33m\u001b[0m\u001b[0m\n\u001b[0;32m     52\u001b[0m \u001b[0mos_partitions\u001b[0m\u001b[1;33m,\u001b[0m \u001b[0mmonth_partitions\u001b[0m\u001b[1;33m\u001b[0m\u001b[0m\n",
      "\u001b[1;31mNameError\u001b[0m: name 'get_os_partitions' is not defined"
     ]
    }
   ],
   "source": [
    "# query params\n",
    "year_start=2016; month_start=3;day_start=25;\n",
    "year_end= 2016;month_end= 3;day_end= 31;\n",
    "#event_id = 136\n",
    "\n",
    "#key events de lieferheld \n",
    "#evs_ids = [2143,2350,2296]\n",
    "#evs_names =[\"rt_view_product\",\"order_rate\",\"in_app_acqusition\"]\n",
    "#application_id=889; osp = \"android\"\n",
    "#social_share = False\n",
    "\n",
    "#key events de dafiti android 189\n",
    "# tomo el perc count en 1e-3\n",
    "evs_names =[\"view_listing\",\"app_open\",\"Search\", \"add_to_cart\", \"remove_from_cart\", \"add_to_wishlist\"]\n",
    "evs_ids = [362,372,366, 104, 90, 364, 368]\n",
    "sale_event = 'sale'\n",
    "sale_id = 35\n",
    "application_id=189; osp =\"android\";\n",
    "other_params = ['device_country','device_model','device_manufacturer',\n",
    "                'device_countrycode','device_os_version','display_size','shop_countrycode']\n",
    "\n",
    "#key events de netshoes 1289 android e ios 1325\n",
    "#evs_names = [\"product_view\",\"add_to_cart\", \"trackTransaction\"]\n",
    "#evs_ids = [1912,251,2393]\n",
    "#social_share = False\n",
    "#application_id= 1289; osp=\"android\";\n",
    "#application_id= 1325; osp=\"ios\";\n",
    "\n",
    "# events de foodpandas android 545 ios 544 a mano\n",
    "# tomo el perc en 1e-2\n",
    "#evs_names =[\"Restaurant_view\",\"Dish_view\",\"add_To_Cart\",\"restaurant_listing\" ,\"Launch\" ,\"Search_query\" ,\n",
    "#            \"Voucher_checkout\",\"remove_from_cart\",\"Deal_view\",\"Login\"]\n",
    "#evs_ids = [1149,778,184, 592,185 ,555, 186, 1704, 1709 ,189 ]\n",
    "#sale_event = '500_sale'\n",
    "#sale_id = 187\n",
    "#social_share = False\n",
    "#application_id= 545; osp=\"android\";\n",
    "#application_id= 544; osp=\"ios\";\n",
    "#other_params = ['device_countrycode','device_os_version',\"price\", \"city\"]\n",
    "\n",
    "#key events de BoxedWholesale android 1394  ios 1395\n",
    "#evs_names = [\"open\",\"add_to_cart\",\"purchased\"]\n",
    "#evs_ids = [24, 251, 8]\n",
    "#social_share = False\n",
    "#application_id= 1394; osp=\"android\";\n",
    "#application_id= 1395; osp =\"ios\";"
   ]
  },
  {
   "cell_type": "code",
   "execution_count": 6,
   "metadata": {
    "collapsed": true
   },
   "outputs": [],
   "source": [
    "appid_name = {545:'foodpandas',189:'dafiti'}"
   ]
  },
  {
   "cell_type": "code",
   "execution_count": 7,
   "metadata": {
    "collapsed": false,
    "scrolled": true
   },
   "outputs": [],
   "source": [
    "train_file = \"datasets/{name}_{ds:0=2d}{ms:0=2d}{de:0=2d}{me:0=2d}.csv.gz\".format( ds=1,ms=3, \n",
    "             de = 15, me = 3,name = appid_name[application_id])\n",
    "train_table = pd.read_csv(train_file,sep = \"|\",\n",
    "                   header =0,\n",
    "                     index_col =0)\n",
    "for col in [col for col in train_table.columns if (\"count_\" in col )]:\n",
    "    train_table[col] = train_table[col].astype(int)\n",
    "    \n",
    "for col in [col for col in train_table.columns if  \"time_\" in col]:\n",
    "    train_table[col] = train_table[col].astype(float)\n",
    "\n",
    "X_train = train_table[train_table.columns[:-1]].values\n",
    "y_train = train_table[train_table.columns[-1:]].values.flatten()"
   ]
  },
  {
   "cell_type": "code",
   "execution_count": 8,
   "metadata": {
    "collapsed": false
   },
   "outputs": [],
   "source": [
    "test_file = \"datasets/{name}_{ds:0=2d}{ms:0=2d}{de:0=2d}{me:0=2d}.csv.gz\".format(  ds=15,ms=3,\n",
    "            de = 31, me = 3,name=appid_name[application_id])\n",
    "test_table = pd.read_csv(test_file,sep = \"|\",\n",
    "                   header =0,\n",
    "                     index_col =0)\n",
    "for col in [col for col in test_table.columns if (\"count_\" in col )]:\n",
    "    test_table[col] = test_table[col].astype(int)\n",
    "    \n",
    "for col in [col for col in test_table.columns if  \"time_\" in col]:\n",
    "    test_table[col] = test_table[col].astype(float)\n",
    "\n",
    "X_test = test_table[test_table.columns[:-1]].values\n",
    "y_test = test_table[test_table.columns[-1:]].values.flatten()\n",
    "\n",
    "test_table.reset_index(inplace=True)\n",
    "test_table = test_table[['ref_hash','y']]"
   ]
  },
  {
   "cell_type": "markdown",
   "metadata": {},
   "source": [
    "## Load sklearn utlities"
   ]
  },
  {
   "cell_type": "code",
   "execution_count": 19,
   "metadata": {
    "collapsed": true
   },
   "outputs": [],
   "source": [
    "import sklearn"
   ]
  },
  {
   "cell_type": "code",
   "execution_count": null,
   "metadata": {
    "collapsed": true
   },
   "outputs": [],
   "source": [
    "sklearn.cross_validation.StratifiedKFold"
   ]
  },
  {
   "cell_type": "code",
   "execution_count": 20,
   "metadata": {
    "collapsed": false,
    "scrolled": true
   },
   "outputs": [],
   "source": [
    "from sklearn.multiclass import OneVsRestClassifier\n",
    "from sklearn.utils import *\n",
    "from sklearn.preprocessing import label_binarize, scale, StandardScaler\n",
    "from sklearn.metrics import *\n",
    "from sklearn.grid_search import *\n",
    "from sklearn.pipeline import Pipeline\n",
    "from sklearn.cross_validation import StratifiedKFold"
   ]
  },
  {
   "cell_type": "code",
   "execution_count": 10,
   "metadata": {
    "collapsed": false,
    "scrolled": false
   },
   "outputs": [],
   "source": [
    "#elegimos algunas variantes del dataset original\n",
    "scaler = StandardScaler().fit(X_train)\n",
    "X_scaled = scaler.transform(X_train)\n",
    "\n",
    "perc = 0.2\n",
    "mini_ind = np.random.choice(X_train.shape[0],int(perc*X_train.shape[0]),replace=False)\n",
    "X_mini =  X_train[mini_ind,:]\n",
    "y_mini = y_train[mini_ind]"
   ]
  },
  {
   "cell_type": "code",
   "execution_count": 19,
   "metadata": {
    "collapsed": false
   },
   "outputs": [
    {
     "data": {
      "text/plain": [
       "((354580, 281), (354580,), (371161, 281), (371161,))"
      ]
     },
     "execution_count": 19,
     "metadata": {},
     "output_type": "execute_result"
    }
   ],
   "source": [
    "X_train.shape, y_train.shape, X_test.shape, y_test.shape"
   ]
  },
  {
   "cell_type": "markdown",
   "metadata": {
    "collapsed": true
   },
   "source": [
    "## Set XGBoost \n",
    "Gradient boosting using xgboost dmlc tested library \n",
    "(google and kaggle.com)"
   ]
  },
  {
   "cell_type": "code",
   "execution_count": 12,
   "metadata": {
    "collapsed": true
   },
   "outputs": [],
   "source": [
    "#Parameter grid search with xgboost\n",
    "#feature engineering is not so useful and the LB is so overfitted/underfitted\n",
    "#so it is good to trust your CV\n",
    "import xgboost as xgb\n",
    "from sklearn import preprocessing\n",
    "from sklearn.grid_search import *\n",
    "\n",
    "\n",
    "msk = np.random.rand(len(X_train)) < 0.75\n",
    "\n",
    "train = X_train[msk,:].copy()\n",
    "train = np.c_[ y_train[msk], train ] \n",
    "\n",
    "test = X_train[~msk,:].copy()\n",
    "test = np.c_[ y_train[~msk], test ] \n"
   ]
  },
  {
   "cell_type": "code",
   "execution_count": 14,
   "metadata": {
    "collapsed": false
   },
   "outputs": [
    {
     "data": {
      "text/plain": [
       "((354580,), (266121,), (88459,), (266121, 281), (88459, 281))"
      ]
     },
     "execution_count": 14,
     "metadata": {},
     "output_type": "execute_result"
    }
   ],
   "source": [
    "msk.shape, y_train[msk].shape, y_train[~msk].shape, X_train[msk,:].shape, X_train[~msk,:].shape"
   ]
  },
  {
   "cell_type": "code",
   "execution_count": 16,
   "metadata": {
    "collapsed": false
   },
   "outputs": [
    {
     "name": "stdout",
     "output_type": "stream",
     "text": [
      "Index(['count_362_362', 'time_362_362', 'count_362_372', 'time_362_372',\n",
      "       'count_362_366', 'time_362_366', 'count_362_104', 'time_362_104',\n",
      "       'count_362_90', 'time_362_90',\n",
      "       ...\n",
      "       'display_size_6.2', 'display_size_6.8', 'display_size_7.0',\n",
      "       'display_size_7.1', 'shop_country_AR', 'shop_country_BR',\n",
      "       'shop_country_CL', 'shop_country_CO', 'shop_country_MX', 'y'],\n",
      "      dtype='object', length=282)\n"
     ]
    }
   ],
   "source": [
    "\n",
    "features = train_table.columns  #la colonne 0 est le quote_conversionflag  \n",
    "print(features)\n",
    "\n",
    "\n",
    "for f in range(train.shape[1]):\n",
    "    if train_table[train_table.columns[f]].dtype=='object':\n",
    "        print(train_table.columns[f])\n",
    "        lbl = preprocessing.LabelEncoder()\n",
    "        lbl.fit(np.r_[train[:,f] ,test[:,f]])\n",
    "        train[:,f] = lbl.transform(list(train[:,f]))\n",
    "        test[:,f] = lbl.transform(list(test[:,f]))\n"
   ]
  },
  {
   "cell_type": "code",
   "execution_count": 50,
   "metadata": {
    "collapsed": false
   },
   "outputs": [
    {
     "name": "stdout",
     "output_type": "stream",
     "text": [
      "11664\n"
     ]
    }
   ],
   "source": [
    "#brute force scan for all parameters, here are the tricks\n",
    "\n",
    "#usually max_depth is 6,7,8\n",
    "#learning rate is around 0.05, but small changes may make big diff\n",
    "#tuning min_child_weight subsample colsample_bytree can have \n",
    "#much fun of fighting against overfit \n",
    "#n_estimators is how many round of boosting\n",
    "#finally, ensemble xgboost with multiple seeds may reduce variance\n",
    "parameters = {'nthread':[4], #when use hyperthread, xgboost may become slower\n",
    "              'objective':['binary:logistic'],\n",
    "              'learning_rate':list(10.0 ** np.arange(-3, 0)),\n",
    "              'max_depth': [5,15,25],\n",
    "              'reg_alpha': list(10.0 ** np.arange(-2, 1)),\n",
    "              #'lambda': [1,0],\n",
    "              'gamma': [1,2],\n",
    "              'base_score': list(10.0 ** np.arange(-2, 0)),\n",
    "              'gamma': list(10.0 ** np.arange(-2, 1)),\n",
    "\n",
    "              'min_child_weight': [15,10,5,2],\n",
    "              'silent': [1],\n",
    "              'subsample': [0.8,0.5,0.3],\n",
    "              'colsample_bytree':[1,0.8,0.5],\n",
    "              'n_estimators': [30,50,80], #number of trees, change it to 1000 for better results\n",
    "              #'missing':[-999],\n",
    "              'n_estimators': [15,30],\n",
    "              'seed': [1337]}\n",
    "\n",
    "# cuento la cantidad de parametros que tengo\n",
    "total =1\n",
    "for key, value in parameters.items():\n",
    "    total = total*len(value)\n",
    "print(total)"
   ]
  },
  {
   "cell_type": "code",
   "execution_count": 47,
   "metadata": {
    "collapsed": false
   },
   "outputs": [
    {
     "data": {
      "text/plain": [
       "dict_keys(['base_score', 'gamma', 'reg_alpha', 'max_delta_step', 'objective', 'max_depth', 'reg_lambda', 'seed', 'scale_pos_weight', 'learning_rate', 'n_estimators', 'subsample', 'colsample_bytree', 'silent', 'nthread', 'min_child_weight', 'colsample_bylevel', 'missing'])"
      ]
     },
     "execution_count": 47,
     "metadata": {},
     "output_type": "execute_result"
    }
   ],
   "source": [
    "xgb_model.get_params().keys()"
   ]
  },
  {
   "cell_type": "markdown",
   "metadata": {},
   "source": [
    "##  Best_Params\n",
    "* learning_rate: betwween 0.01 to 0.1\n",
    "* min_child_weight: >5 is better std error\n",
    "* n_estimators: <30 is better std error\n",
    "* max_depth: >15 is slightly slightly better in mean but slightly worse in std.\n"
   ]
  },
  {
   "cell_type": "code",
   "execution_count": 51,
   "metadata": {
    "collapsed": false,
    "scrolled": true
   },
   "outputs": [
    {
     "name": "stdout",
     "output_type": "stream",
     "text": [
      "Fitting 3 folds for each of 11664 candidates, totalling 34992 fits\n"
     ]
    },
    {
     "name": "stderr",
     "output_type": "stream",
     "text": [
      "/home/ubuntu/Virtualenvs/mateo/lib/python3.4/site-packages/sklearn/externals/joblib/hashing.py:197: DeprecationWarning: Changing the shape of non-C contiguous array by\n",
      "descriptor assignment is deprecated. To maintain\n",
      "the Fortran contiguity of a multidimensional Fortran\n",
      "array, use 'a.T.view(...).T' instead\n",
      "  obj_bytes_view = obj.view(self.np.uint8)\n"
     ]
    },
    {
     "name": "stdout",
     "output_type": "stream",
     "text": [
      "[CV] base_score=0.01, gamma=0.01, reg_alpha=0.01, n_estimators=15, objective=binary:logistic, max_depth=5, seed=1337, min_child_weight=15, learning_rate=0.001, subsample=0.8, colsample_bytree=1, silent=1, nthread=4 \n"
     ]
    },
    {
     "name": "stderr",
     "output_type": "stream",
     "text": [
      "/home/ubuntu/Virtualenvs/mateo/lib/python3.4/site-packages/sklearn/externals/joblib/hashing.py:197: DeprecationWarning: Changing the shape of non-C contiguous array by\n",
      "descriptor assignment is deprecated. To maintain\n",
      "the Fortran contiguity of a multidimensional Fortran\n",
      "array, use 'a.T.view(...).T' instead\n",
      "  obj_bytes_view = obj.view(self.np.uint8)\n"
     ]
    },
    {
     "name": "stdout",
     "output_type": "stream",
     "text": [
      "[CV] base_score=0.01, gamma=0.01, reg_alpha=0.01, n_estimators=15, objective=binary:logistic, max_depth=5, seed=1337, min_child_weight=15, learning_rate=0.001, subsample=0.8, colsample_bytree=1, silent=1, nthread=4 \n"
     ]
    },
    {
     "name": "stderr",
     "output_type": "stream",
     "text": [
      "/home/ubuntu/Virtualenvs/mateo/lib/python3.4/site-packages/sklearn/externals/joblib/hashing.py:197: DeprecationWarning: Changing the shape of non-C contiguous array by\n",
      "descriptor assignment is deprecated. To maintain\n",
      "the Fortran contiguity of a multidimensional Fortran\n",
      "array, use 'a.T.view(...).T' instead\n",
      "  obj_bytes_view = obj.view(self.np.uint8)\n"
     ]
    },
    {
     "name": "stdout",
     "output_type": "stream",
     "text": [
      "[CV] base_score=0.01, gamma=0.01, reg_alpha=0.01, n_estimators=15, objective=binary:logistic, max_depth=5, seed=1337, min_child_weight=15, learning_rate=0.001, subsample=0.8, colsample_bytree=1, silent=1, nthread=4 \n"
     ]
    },
    {
     "name": "stderr",
     "output_type": "stream",
     "text": [
      "/home/ubuntu/Virtualenvs/mateo/lib/python3.4/site-packages/sklearn/externals/joblib/hashing.py:197: DeprecationWarning: Changing the shape of non-C contiguous array by\n",
      "descriptor assignment is deprecated. To maintain\n",
      "the Fortran contiguity of a multidimensional Fortran\n",
      "array, use 'a.T.view(...).T' instead\n",
      "  obj_bytes_view = obj.view(self.np.uint8)\n",
      "/home/ubuntu/Virtualenvs/mateo/lib/python3.4/site-packages/sklearn/metrics/classification.py:1117: UndefinedMetricWarning: F-score is ill-defined and being set to 0.0 due to no predicted samples.\n",
      "  'precision', 'predicted', average, warn_for)\n"
     ]
    },
    {
     "name": "stdout",
     "output_type": "stream",
     "text": [
      "[CV]  base_score=0.01, gamma=0.01, reg_alpha=0.01, n_estimators=15, objective=binary:logistic, max_depth=5, seed=1337, min_child_weight=15, learning_rate=0.001, subsample=0.8, colsample_bytree=1, silent=1, nthread=4 -  23.6s\n",
      "[CV] base_score=0.01, gamma=0.01, reg_alpha=0.01, n_estimators=15, objective=binary:logistic, max_depth=5, seed=1337, min_child_weight=15, learning_rate=0.001, subsample=0.5, colsample_bytree=1, silent=1, nthread=4 \n"
     ]
    },
    {
     "name": "stderr",
     "output_type": "stream",
     "text": [
      "/home/ubuntu/Virtualenvs/mateo/lib/python3.4/site-packages/sklearn/externals/joblib/hashing.py:197: DeprecationWarning: Changing the shape of non-C contiguous array by\n",
      "descriptor assignment is deprecated. To maintain\n",
      "the Fortran contiguity of a multidimensional Fortran\n",
      "array, use 'a.T.view(...).T' instead\n",
      "  obj_bytes_view = obj.view(self.np.uint8)\n",
      "/home/ubuntu/Virtualenvs/mateo/lib/python3.4/site-packages/sklearn/metrics/classification.py:1117: UndefinedMetricWarning: F-score is ill-defined and being set to 0.0 due to no predicted samples.\n",
      "  'precision', 'predicted', average, warn_for)\n"
     ]
    },
    {
     "name": "stdout",
     "output_type": "stream",
     "text": [
      "[CV]  base_score=0.01, gamma=0.01, reg_alpha=0.01, n_estimators=15, objective=binary:logistic, max_depth=5, seed=1337, min_child_weight=15, learning_rate=0.001, subsample=0.8, colsample_bytree=1, silent=1, nthread=4 -  24.9s\n",
      "[CV] base_score=0.01, gamma=0.01, reg_alpha=0.01, n_estimators=15, objective=binary:logistic, max_depth=5, seed=1337, min_child_weight=15, learning_rate=0.001, subsample=0.5, colsample_bytree=1, silent=1, nthread=4 \n"
     ]
    },
    {
     "name": "stderr",
     "output_type": "stream",
     "text": [
      "/home/ubuntu/Virtualenvs/mateo/lib/python3.4/site-packages/sklearn/externals/joblib/hashing.py:197: DeprecationWarning: Changing the shape of non-C contiguous array by\n",
      "descriptor assignment is deprecated. To maintain\n",
      "the Fortran contiguity of a multidimensional Fortran\n",
      "array, use 'a.T.view(...).T' instead\n",
      "  obj_bytes_view = obj.view(self.np.uint8)\n",
      "/home/ubuntu/Virtualenvs/mateo/lib/python3.4/site-packages/sklearn/metrics/classification.py:1117: UndefinedMetricWarning: F-score is ill-defined and being set to 0.0 due to no predicted samples.\n",
      "  'precision', 'predicted', average, warn_for)\n"
     ]
    },
    {
     "name": "stdout",
     "output_type": "stream",
     "text": [
      "[CV]  base_score=0.01, gamma=0.01, reg_alpha=0.01, n_estimators=15, objective=binary:logistic, max_depth=5, seed=1337, min_child_weight=15, learning_rate=0.001, subsample=0.8, colsample_bytree=1, silent=1, nthread=4 -  25.8s\n",
      "[CV] base_score=0.01, gamma=0.01, reg_alpha=0.01, n_estimators=15, objective=binary:logistic, max_depth=5, seed=1337, min_child_weight=15, learning_rate=0.001, subsample=0.5, colsample_bytree=1, silent=1, nthread=4 \n"
     ]
    },
    {
     "name": "stderr",
     "output_type": "stream",
     "text": [
      "/home/ubuntu/Virtualenvs/mateo/lib/python3.4/site-packages/sklearn/externals/joblib/hashing.py:197: DeprecationWarning: Changing the shape of non-C contiguous array by\n",
      "descriptor assignment is deprecated. To maintain\n",
      "the Fortran contiguity of a multidimensional Fortran\n",
      "array, use 'a.T.view(...).T' instead\n",
      "  obj_bytes_view = obj.view(self.np.uint8)\n",
      "/home/ubuntu/Virtualenvs/mateo/lib/python3.4/site-packages/sklearn/metrics/classification.py:1117: UndefinedMetricWarning: F-score is ill-defined and being set to 0.0 due to no predicted samples.\n",
      "  'precision', 'predicted', average, warn_for)\n"
     ]
    },
    {
     "name": "stdout",
     "output_type": "stream",
     "text": [
      "[CV]  base_score=0.01, gamma=0.01, reg_alpha=0.01, n_estimators=15, objective=binary:logistic, max_depth=5, seed=1337, min_child_weight=15, learning_rate=0.001, subsample=0.5, colsample_bytree=1, silent=1, nthread=4 -  26.9s\n",
      "[CV] base_score=0.01, gamma=0.01, reg_alpha=0.01, n_estimators=15, objective=binary:logistic, max_depth=5, seed=1337, min_child_weight=15, learning_rate=0.001, subsample=0.3, colsample_bytree=1, silent=1, nthread=4 \n"
     ]
    },
    {
     "name": "stderr",
     "output_type": "stream",
     "text": [
      "/home/ubuntu/Virtualenvs/mateo/lib/python3.4/site-packages/sklearn/externals/joblib/hashing.py:197: DeprecationWarning: Changing the shape of non-C contiguous array by\n",
      "descriptor assignment is deprecated. To maintain\n",
      "the Fortran contiguity of a multidimensional Fortran\n",
      "array, use 'a.T.view(...).T' instead\n",
      "  obj_bytes_view = obj.view(self.np.uint8)\n",
      "/home/ubuntu/Virtualenvs/mateo/lib/python3.4/site-packages/sklearn/metrics/classification.py:1117: UndefinedMetricWarning: F-score is ill-defined and being set to 0.0 due to no predicted samples.\n",
      "  'precision', 'predicted', average, warn_for)\n"
     ]
    },
    {
     "name": "stdout",
     "output_type": "stream",
     "text": [
      "[CV]  base_score=0.01, gamma=0.01, reg_alpha=0.01, n_estimators=15, objective=binary:logistic, max_depth=5, seed=1337, min_child_weight=15, learning_rate=0.001, subsample=0.5, colsample_bytree=1, silent=1, nthread=4 -  26.7s\n",
      "[CV] base_score=0.01, gamma=0.01, reg_alpha=0.01, n_estimators=15, objective=binary:logistic, max_depth=5, seed=1337, min_child_weight=15, learning_rate=0.001, subsample=0.3, colsample_bytree=1, silent=1, nthread=4 \n"
     ]
    },
    {
     "name": "stderr",
     "output_type": "stream",
     "text": [
      "/home/ubuntu/Virtualenvs/mateo/lib/python3.4/site-packages/sklearn/externals/joblib/hashing.py:197: DeprecationWarning: Changing the shape of non-C contiguous array by\n",
      "descriptor assignment is deprecated. To maintain\n",
      "the Fortran contiguity of a multidimensional Fortran\n",
      "array, use 'a.T.view(...).T' instead\n",
      "  obj_bytes_view = obj.view(self.np.uint8)\n",
      "/home/ubuntu/Virtualenvs/mateo/lib/python3.4/site-packages/sklearn/metrics/classification.py:1117: UndefinedMetricWarning: F-score is ill-defined and being set to 0.0 due to no predicted samples.\n",
      "  'precision', 'predicted', average, warn_for)\n"
     ]
    },
    {
     "name": "stdout",
     "output_type": "stream",
     "text": [
      "[CV]  base_score=0.01, gamma=0.01, reg_alpha=0.01, n_estimators=15, objective=binary:logistic, max_depth=5, seed=1337, min_child_weight=15, learning_rate=0.001, subsample=0.5, colsample_bytree=1, silent=1, nthread=4 -  26.3s\n",
      "[CV] base_score=0.01, gamma=0.01, reg_alpha=0.01, n_estimators=15, objective=binary:logistic, max_depth=5, seed=1337, min_child_weight=15, learning_rate=0.001, subsample=0.3, colsample_bytree=1, silent=1, nthread=4 \n"
     ]
    },
    {
     "name": "stderr",
     "output_type": "stream",
     "text": [
      "/home/ubuntu/Virtualenvs/mateo/lib/python3.4/site-packages/sklearn/externals/joblib/hashing.py:197: DeprecationWarning: Changing the shape of non-C contiguous array by\n",
      "descriptor assignment is deprecated. To maintain\n",
      "the Fortran contiguity of a multidimensional Fortran\n",
      "array, use 'a.T.view(...).T' instead\n",
      "  obj_bytes_view = obj.view(self.np.uint8)\n",
      "/home/ubuntu/Virtualenvs/mateo/lib/python3.4/site-packages/sklearn/metrics/classification.py:1117: UndefinedMetricWarning: F-score is ill-defined and being set to 0.0 due to no predicted samples.\n",
      "  'precision', 'predicted', average, warn_for)\n"
     ]
    },
    {
     "name": "stdout",
     "output_type": "stream",
     "text": [
      "[CV]  base_score=0.01, gamma=0.01, reg_alpha=0.01, n_estimators=15, objective=binary:logistic, max_depth=5, seed=1337, min_child_weight=15, learning_rate=0.001, subsample=0.3, colsample_bytree=1, silent=1, nthread=4 -  21.2s\n",
      "[CV] base_score=0.01, gamma=0.01, reg_alpha=0.1, n_estimators=15, objective=binary:logistic, max_depth=5, seed=1337, min_child_weight=15, learning_rate=0.001, subsample=0.8, colsample_bytree=1, silent=1, nthread=4 \n"
     ]
    },
    {
     "name": "stderr",
     "output_type": "stream",
     "text": [
      "/home/ubuntu/Virtualenvs/mateo/lib/python3.4/site-packages/sklearn/externals/joblib/hashing.py:197: DeprecationWarning: Changing the shape of non-C contiguous array by\n",
      "descriptor assignment is deprecated. To maintain\n",
      "the Fortran contiguity of a multidimensional Fortran\n",
      "array, use 'a.T.view(...).T' instead\n",
      "  obj_bytes_view = obj.view(self.np.uint8)\n",
      "/home/ubuntu/Virtualenvs/mateo/lib/python3.4/site-packages/sklearn/metrics/classification.py:1117: UndefinedMetricWarning: F-score is ill-defined and being set to 0.0 due to no predicted samples.\n",
      "  'precision', 'predicted', average, warn_for)\n"
     ]
    },
    {
     "name": "stdout",
     "output_type": "stream",
     "text": [
      "[CV]  base_score=0.01, gamma=0.01, reg_alpha=0.01, n_estimators=15, objective=binary:logistic, max_depth=5, seed=1337, min_child_weight=15, learning_rate=0.001, subsample=0.3, colsample_bytree=1, silent=1, nthread=4 -  21.6s\n",
      "[CV] base_score=0.01, gamma=0.01, reg_alpha=0.1, n_estimators=15, objective=binary:logistic, max_depth=5, seed=1337, min_child_weight=15, learning_rate=0.001, subsample=0.8, colsample_bytree=1, silent=1, nthread=4 \n"
     ]
    },
    {
     "name": "stderr",
     "output_type": "stream",
     "text": [
      "/home/ubuntu/Virtualenvs/mateo/lib/python3.4/site-packages/sklearn/externals/joblib/hashing.py:197: DeprecationWarning: Changing the shape of non-C contiguous array by\n",
      "descriptor assignment is deprecated. To maintain\n",
      "the Fortran contiguity of a multidimensional Fortran\n",
      "array, use 'a.T.view(...).T' instead\n",
      "  obj_bytes_view = obj.view(self.np.uint8)\n",
      "/home/ubuntu/Virtualenvs/mateo/lib/python3.4/site-packages/sklearn/metrics/classification.py:1117: UndefinedMetricWarning: F-score is ill-defined and being set to 0.0 due to no predicted samples.\n",
      "  'precision', 'predicted', average, warn_for)\n"
     ]
    },
    {
     "name": "stdout",
     "output_type": "stream",
     "text": [
      "[CV]  base_score=0.01, gamma=0.01, reg_alpha=0.01, n_estimators=15, objective=binary:logistic, max_depth=5, seed=1337, min_child_weight=15, learning_rate=0.001, subsample=0.3, colsample_bytree=1, silent=1, nthread=4 -  21.0s\n",
      "[CV] base_score=0.01, gamma=0.01, reg_alpha=0.1, n_estimators=15, objective=binary:logistic, max_depth=5, seed=1337, min_child_weight=15, learning_rate=0.001, subsample=0.8, colsample_bytree=1, silent=1, nthread=4 \n"
     ]
    },
    {
     "name": "stderr",
     "output_type": "stream",
     "text": [
      "/home/ubuntu/Virtualenvs/mateo/lib/python3.4/site-packages/sklearn/externals/joblib/hashing.py:197: DeprecationWarning: Changing the shape of non-C contiguous array by\n",
      "descriptor assignment is deprecated. To maintain\n",
      "the Fortran contiguity of a multidimensional Fortran\n",
      "array, use 'a.T.view(...).T' instead\n",
      "  obj_bytes_view = obj.view(self.np.uint8)\n",
      "/home/ubuntu/Virtualenvs/mateo/lib/python3.4/site-packages/sklearn/metrics/classification.py:1117: UndefinedMetricWarning: F-score is ill-defined and being set to 0.0 due to no predicted samples.\n",
      "  'precision', 'predicted', average, warn_for)\n"
     ]
    },
    {
     "name": "stdout",
     "output_type": "stream",
     "text": [
      "[CV]  base_score=0.01, gamma=0.01, reg_alpha=0.1, n_estimators=15, objective=binary:logistic, max_depth=5, seed=1337, min_child_weight=15, learning_rate=0.001, subsample=0.8, colsample_bytree=1, silent=1, nthread=4 -  24.2s\n",
      "[CV] base_score=0.01, gamma=0.01, reg_alpha=0.1, n_estimators=15, objective=binary:logistic, max_depth=5, seed=1337, min_child_weight=15, learning_rate=0.001, subsample=0.5, colsample_bytree=1, silent=1, nthread=4 \n"
     ]
    },
    {
     "name": "stderr",
     "output_type": "stream",
     "text": [
      "/home/ubuntu/Virtualenvs/mateo/lib/python3.4/site-packages/sklearn/externals/joblib/hashing.py:197: DeprecationWarning: Changing the shape of non-C contiguous array by\n",
      "descriptor assignment is deprecated. To maintain\n",
      "the Fortran contiguity of a multidimensional Fortran\n",
      "array, use 'a.T.view(...).T' instead\n",
      "  obj_bytes_view = obj.view(self.np.uint8)\n",
      "/home/ubuntu/Virtualenvs/mateo/lib/python3.4/site-packages/sklearn/metrics/classification.py:1117: UndefinedMetricWarning: F-score is ill-defined and being set to 0.0 due to no predicted samples.\n",
      "  'precision', 'predicted', average, warn_for)\n"
     ]
    },
    {
     "name": "stdout",
     "output_type": "stream",
     "text": [
      "[CV]  base_score=0.01, gamma=0.01, reg_alpha=0.1, n_estimators=15, objective=binary:logistic, max_depth=5, seed=1337, min_child_weight=15, learning_rate=0.001, subsample=0.8, colsample_bytree=1, silent=1, nthread=4 -  25.2s\n",
      "[CV] base_score=0.01, gamma=0.01, reg_alpha=0.1, n_estimators=15, objective=binary:logistic, max_depth=5, seed=1337, min_child_weight=15, learning_rate=0.001, subsample=0.5, colsample_bytree=1, silent=1, nthread=4 \n"
     ]
    },
    {
     "name": "stderr",
     "output_type": "stream",
     "text": [
      "/home/ubuntu/Virtualenvs/mateo/lib/python3.4/site-packages/sklearn/externals/joblib/hashing.py:197: DeprecationWarning: Changing the shape of non-C contiguous array by\n",
      "descriptor assignment is deprecated. To maintain\n",
      "the Fortran contiguity of a multidimensional Fortran\n",
      "array, use 'a.T.view(...).T' instead\n",
      "  obj_bytes_view = obj.view(self.np.uint8)\n",
      "/home/ubuntu/Virtualenvs/mateo/lib/python3.4/site-packages/sklearn/metrics/classification.py:1117: UndefinedMetricWarning: F-score is ill-defined and being set to 0.0 due to no predicted samples.\n",
      "  'precision', 'predicted', average, warn_for)\n"
     ]
    },
    {
     "name": "stdout",
     "output_type": "stream",
     "text": [
      "[CV]  base_score=0.01, gamma=0.01, reg_alpha=0.1, n_estimators=15, objective=binary:logistic, max_depth=5, seed=1337, min_child_weight=15, learning_rate=0.001, subsample=0.8, colsample_bytree=1, silent=1, nthread=4 -  25.4s\n",
      "[CV] base_score=0.01, gamma=0.01, reg_alpha=0.1, n_estimators=15, objective=binary:logistic, max_depth=5, seed=1337, min_child_weight=15, learning_rate=0.001, subsample=0.5, colsample_bytree=1, silent=1, nthread=4 \n"
     ]
    },
    {
     "name": "stderr",
     "output_type": "stream",
     "text": [
      "/home/ubuntu/Virtualenvs/mateo/lib/python3.4/site-packages/sklearn/externals/joblib/hashing.py:197: DeprecationWarning: Changing the shape of non-C contiguous array by\n",
      "descriptor assignment is deprecated. To maintain\n",
      "the Fortran contiguity of a multidimensional Fortran\n",
      "array, use 'a.T.view(...).T' instead\n",
      "  obj_bytes_view = obj.view(self.np.uint8)\n",
      "/home/ubuntu/Virtualenvs/mateo/lib/python3.4/site-packages/sklearn/metrics/classification.py:1117: UndefinedMetricWarning: F-score is ill-defined and being set to 0.0 due to no predicted samples.\n",
      "  'precision', 'predicted', average, warn_for)\n"
     ]
    },
    {
     "name": "stdout",
     "output_type": "stream",
     "text": [
      "[CV]  base_score=0.01, gamma=0.01, reg_alpha=0.1, n_estimators=15, objective=binary:logistic, max_depth=5, seed=1337, min_child_weight=15, learning_rate=0.001, subsample=0.5, colsample_bytree=1, silent=1, nthread=4 -  26.7s\n",
      "[CV] base_score=0.01, gamma=0.01, reg_alpha=0.1, n_estimators=15, objective=binary:logistic, max_depth=5, seed=1337, min_child_weight=15, learning_rate=0.001, subsample=0.3, colsample_bytree=1, silent=1, nthread=4 \n"
     ]
    },
    {
     "name": "stderr",
     "output_type": "stream",
     "text": [
      "/home/ubuntu/Virtualenvs/mateo/lib/python3.4/site-packages/sklearn/externals/joblib/hashing.py:197: DeprecationWarning: Changing the shape of non-C contiguous array by\n",
      "descriptor assignment is deprecated. To maintain\n",
      "the Fortran contiguity of a multidimensional Fortran\n",
      "array, use 'a.T.view(...).T' instead\n",
      "  obj_bytes_view = obj.view(self.np.uint8)\n",
      "/home/ubuntu/Virtualenvs/mateo/lib/python3.4/site-packages/sklearn/metrics/classification.py:1117: UndefinedMetricWarning: F-score is ill-defined and being set to 0.0 due to no predicted samples.\n",
      "  'precision', 'predicted', average, warn_for)\n"
     ]
    },
    {
     "name": "stdout",
     "output_type": "stream",
     "text": [
      "[CV]  base_score=0.01, gamma=0.01, reg_alpha=0.1, n_estimators=15, objective=binary:logistic, max_depth=5, seed=1337, min_child_weight=15, learning_rate=0.001, subsample=0.5, colsample_bytree=1, silent=1, nthread=4 -  26.4s\n",
      "[CV] base_score=0.01, gamma=0.01, reg_alpha=0.1, n_estimators=15, objective=binary:logistic, max_depth=5, seed=1337, min_child_weight=15, learning_rate=0.001, subsample=0.3, colsample_bytree=1, silent=1, nthread=4 \n"
     ]
    },
    {
     "name": "stderr",
     "output_type": "stream",
     "text": [
      "/home/ubuntu/Virtualenvs/mateo/lib/python3.4/site-packages/sklearn/externals/joblib/hashing.py:197: DeprecationWarning: Changing the shape of non-C contiguous array by\n",
      "descriptor assignment is deprecated. To maintain\n",
      "the Fortran contiguity of a multidimensional Fortran\n",
      "array, use 'a.T.view(...).T' instead\n",
      "  obj_bytes_view = obj.view(self.np.uint8)\n",
      "/home/ubuntu/Virtualenvs/mateo/lib/python3.4/site-packages/sklearn/metrics/classification.py:1117: UndefinedMetricWarning: F-score is ill-defined and being set to 0.0 due to no predicted samples.\n",
      "  'precision', 'predicted', average, warn_for)\n"
     ]
    },
    {
     "name": "stdout",
     "output_type": "stream",
     "text": [
      "[CV]  base_score=0.01, gamma=0.01, reg_alpha=0.1, n_estimators=15, objective=binary:logistic, max_depth=5, seed=1337, min_child_weight=15, learning_rate=0.001, subsample=0.5, colsample_bytree=1, silent=1, nthread=4 -  26.8s\n",
      "[CV] base_score=0.01, gamma=0.01, reg_alpha=0.1, n_estimators=15, objective=binary:logistic, max_depth=5, seed=1337, min_child_weight=15, learning_rate=0.001, subsample=0.3, colsample_bytree=1, silent=1, nthread=4 \n"
     ]
    },
    {
     "name": "stderr",
     "output_type": "stream",
     "text": [
      "/home/ubuntu/Virtualenvs/mateo/lib/python3.4/site-packages/sklearn/externals/joblib/hashing.py:197: DeprecationWarning: Changing the shape of non-C contiguous array by\n",
      "descriptor assignment is deprecated. To maintain\n",
      "the Fortran contiguity of a multidimensional Fortran\n",
      "array, use 'a.T.view(...).T' instead\n",
      "  obj_bytes_view = obj.view(self.np.uint8)\n",
      "/home/ubuntu/Virtualenvs/mateo/lib/python3.4/site-packages/sklearn/metrics/classification.py:1117: UndefinedMetricWarning: F-score is ill-defined and being set to 0.0 due to no predicted samples.\n",
      "  'precision', 'predicted', average, warn_for)\n"
     ]
    },
    {
     "name": "stdout",
     "output_type": "stream",
     "text": [
      "[CV]  base_score=0.01, gamma=0.01, reg_alpha=0.1, n_estimators=15, objective=binary:logistic, max_depth=5, seed=1337, min_child_weight=15, learning_rate=0.001, subsample=0.3, colsample_bytree=1, silent=1, nthread=4 -  21.5s\n",
      "[CV] base_score=0.01, gamma=0.01, reg_alpha=1.0, n_estimators=15, objective=binary:logistic, max_depth=5, seed=1337, min_child_weight=15, learning_rate=0.001, subsample=0.8, colsample_bytree=1, silent=1, nthread=4 \n"
     ]
    },
    {
     "name": "stderr",
     "output_type": "stream",
     "text": [
      "/home/ubuntu/Virtualenvs/mateo/lib/python3.4/site-packages/sklearn/externals/joblib/hashing.py:197: DeprecationWarning: Changing the shape of non-C contiguous array by\n",
      "descriptor assignment is deprecated. To maintain\n",
      "the Fortran contiguity of a multidimensional Fortran\n",
      "array, use 'a.T.view(...).T' instead\n",
      "  obj_bytes_view = obj.view(self.np.uint8)\n",
      "/home/ubuntu/Virtualenvs/mateo/lib/python3.4/site-packages/sklearn/metrics/classification.py:1117: UndefinedMetricWarning: F-score is ill-defined and being set to 0.0 due to no predicted samples.\n",
      "  'precision', 'predicted', average, warn_for)\n"
     ]
    },
    {
     "name": "stdout",
     "output_type": "stream",
     "text": [
      "[CV]  base_score=0.01, gamma=0.01, reg_alpha=0.1, n_estimators=15, objective=binary:logistic, max_depth=5, seed=1337, min_child_weight=15, learning_rate=0.001, subsample=0.3, colsample_bytree=1, silent=1, nthread=4 -  20.6s\n",
      "[CV] base_score=0.01, gamma=0.01, reg_alpha=1.0, n_estimators=15, objective=binary:logistic, max_depth=5, seed=1337, min_child_weight=15, learning_rate=0.001, subsample=0.8, colsample_bytree=1, silent=1, nthread=4 \n"
     ]
    },
    {
     "name": "stderr",
     "output_type": "stream",
     "text": [
      "/home/ubuntu/Virtualenvs/mateo/lib/python3.4/site-packages/sklearn/externals/joblib/hashing.py:197: DeprecationWarning: Changing the shape of non-C contiguous array by\n",
      "descriptor assignment is deprecated. To maintain\n",
      "the Fortran contiguity of a multidimensional Fortran\n",
      "array, use 'a.T.view(...).T' instead\n",
      "  obj_bytes_view = obj.view(self.np.uint8)\n",
      "/home/ubuntu/Virtualenvs/mateo/lib/python3.4/site-packages/sklearn/metrics/classification.py:1117: UndefinedMetricWarning: F-score is ill-defined and being set to 0.0 due to no predicted samples.\n",
      "  'precision', 'predicted', average, warn_for)\n"
     ]
    },
    {
     "name": "stdout",
     "output_type": "stream",
     "text": [
      "[CV]  base_score=0.01, gamma=0.01, reg_alpha=0.1, n_estimators=15, objective=binary:logistic, max_depth=5, seed=1337, min_child_weight=15, learning_rate=0.001, subsample=0.3, colsample_bytree=1, silent=1, nthread=4 -  21.6s\n",
      "[CV] base_score=0.01, gamma=0.01, reg_alpha=1.0, n_estimators=15, objective=binary:logistic, max_depth=5, seed=1337, min_child_weight=15, learning_rate=0.001, subsample=0.8, colsample_bytree=1, silent=1, nthread=4 \n"
     ]
    },
    {
     "name": "stderr",
     "output_type": "stream",
     "text": [
      "/home/ubuntu/Virtualenvs/mateo/lib/python3.4/site-packages/sklearn/externals/joblib/hashing.py:197: DeprecationWarning: Changing the shape of non-C contiguous array by\n",
      "descriptor assignment is deprecated. To maintain\n",
      "the Fortran contiguity of a multidimensional Fortran\n",
      "array, use 'a.T.view(...).T' instead\n",
      "  obj_bytes_view = obj.view(self.np.uint8)\n",
      "/home/ubuntu/Virtualenvs/mateo/lib/python3.4/site-packages/sklearn/metrics/classification.py:1117: UndefinedMetricWarning: F-score is ill-defined and being set to 0.0 due to no predicted samples.\n",
      "  'precision', 'predicted', average, warn_for)\n"
     ]
    },
    {
     "name": "stdout",
     "output_type": "stream",
     "text": [
      "[CV]  base_score=0.01, gamma=0.01, reg_alpha=1.0, n_estimators=15, objective=binary:logistic, max_depth=5, seed=1337, min_child_weight=15, learning_rate=0.001, subsample=0.8, colsample_bytree=1, silent=1, nthread=4 -  25.2s\n",
      "[CV] base_score=0.01, gamma=0.01, reg_alpha=1.0, n_estimators=15, objective=binary:logistic, max_depth=5, seed=1337, min_child_weight=15, learning_rate=0.001, subsample=0.5, colsample_bytree=1, silent=1, nthread=4 \n"
     ]
    },
    {
     "name": "stderr",
     "output_type": "stream",
     "text": [
      "/home/ubuntu/Virtualenvs/mateo/lib/python3.4/site-packages/sklearn/externals/joblib/hashing.py:197: DeprecationWarning: Changing the shape of non-C contiguous array by\n",
      "descriptor assignment is deprecated. To maintain\n",
      "the Fortran contiguity of a multidimensional Fortran\n",
      "array, use 'a.T.view(...).T' instead\n",
      "  obj_bytes_view = obj.view(self.np.uint8)\n",
      "/home/ubuntu/Virtualenvs/mateo/lib/python3.4/site-packages/sklearn/metrics/classification.py:1117: UndefinedMetricWarning: F-score is ill-defined and being set to 0.0 due to no predicted samples.\n",
      "  'precision', 'predicted', average, warn_for)\n"
     ]
    },
    {
     "name": "stdout",
     "output_type": "stream",
     "text": [
      "[CV]  base_score=0.01, gamma=0.01, reg_alpha=1.0, n_estimators=15, objective=binary:logistic, max_depth=5, seed=1337, min_child_weight=15, learning_rate=0.001, subsample=0.8, colsample_bytree=1, silent=1, nthread=4 -  25.0s\n",
      "[CV] base_score=0.01, gamma=0.01, reg_alpha=1.0, n_estimators=15, objective=binary:logistic, max_depth=5, seed=1337, min_child_weight=15, learning_rate=0.001, subsample=0.5, colsample_bytree=1, silent=1, nthread=4 \n"
     ]
    },
    {
     "name": "stderr",
     "output_type": "stream",
     "text": [
      "/home/ubuntu/Virtualenvs/mateo/lib/python3.4/site-packages/sklearn/externals/joblib/hashing.py:197: DeprecationWarning: Changing the shape of non-C contiguous array by\n",
      "descriptor assignment is deprecated. To maintain\n",
      "the Fortran contiguity of a multidimensional Fortran\n",
      "array, use 'a.T.view(...).T' instead\n",
      "  obj_bytes_view = obj.view(self.np.uint8)\n",
      "/home/ubuntu/Virtualenvs/mateo/lib/python3.4/site-packages/sklearn/metrics/classification.py:1117: UndefinedMetricWarning: F-score is ill-defined and being set to 0.0 due to no predicted samples.\n",
      "  'precision', 'predicted', average, warn_for)\n"
     ]
    },
    {
     "name": "stdout",
     "output_type": "stream",
     "text": [
      "[CV]  base_score=0.01, gamma=0.01, reg_alpha=1.0, n_estimators=15, objective=binary:logistic, max_depth=5, seed=1337, min_child_weight=15, learning_rate=0.001, subsample=0.8, colsample_bytree=1, silent=1, nthread=4 -  24.8s\n",
      "[CV] base_score=0.01, gamma=0.01, reg_alpha=1.0, n_estimators=15, objective=binary:logistic, max_depth=5, seed=1337, min_child_weight=15, learning_rate=0.001, subsample=0.5, colsample_bytree=1, silent=1, nthread=4 \n"
     ]
    },
    {
     "name": "stderr",
     "output_type": "stream",
     "text": [
      "/home/ubuntu/Virtualenvs/mateo/lib/python3.4/site-packages/sklearn/externals/joblib/hashing.py:197: DeprecationWarning: Changing the shape of non-C contiguous array by\n",
      "descriptor assignment is deprecated. To maintain\n",
      "the Fortran contiguity of a multidimensional Fortran\n",
      "array, use 'a.T.view(...).T' instead\n",
      "  obj_bytes_view = obj.view(self.np.uint8)\n",
      "/home/ubuntu/Virtualenvs/mateo/lib/python3.4/site-packages/sklearn/metrics/classification.py:1117: UndefinedMetricWarning: F-score is ill-defined and being set to 0.0 due to no predicted samples.\n",
      "  'precision', 'predicted', average, warn_for)\n"
     ]
    },
    {
     "name": "stdout",
     "output_type": "stream",
     "text": [
      "[CV]  base_score=0.01, gamma=0.01, reg_alpha=1.0, n_estimators=15, objective=binary:logistic, max_depth=5, seed=1337, min_child_weight=15, learning_rate=0.001, subsample=0.5, colsample_bytree=1, silent=1, nthread=4 -  26.5s\n",
      "[CV] base_score=0.01, gamma=0.01, reg_alpha=1.0, n_estimators=15, objective=binary:logistic, max_depth=5, seed=1337, min_child_weight=15, learning_rate=0.001, subsample=0.3, colsample_bytree=1, silent=1, nthread=4 \n"
     ]
    },
    {
     "name": "stderr",
     "output_type": "stream",
     "text": [
      "/home/ubuntu/Virtualenvs/mateo/lib/python3.4/site-packages/sklearn/externals/joblib/hashing.py:197: DeprecationWarning: Changing the shape of non-C contiguous array by\n",
      "descriptor assignment is deprecated. To maintain\n",
      "the Fortran contiguity of a multidimensional Fortran\n",
      "array, use 'a.T.view(...).T' instead\n",
      "  obj_bytes_view = obj.view(self.np.uint8)\n",
      "/home/ubuntu/Virtualenvs/mateo/lib/python3.4/site-packages/sklearn/metrics/classification.py:1117: UndefinedMetricWarning: F-score is ill-defined and being set to 0.0 due to no predicted samples.\n",
      "  'precision', 'predicted', average, warn_for)\n"
     ]
    },
    {
     "name": "stdout",
     "output_type": "stream",
     "text": [
      "[CV]  base_score=0.01, gamma=0.01, reg_alpha=1.0, n_estimators=15, objective=binary:logistic, max_depth=5, seed=1337, min_child_weight=15, learning_rate=0.001, subsample=0.5, colsample_bytree=1, silent=1, nthread=4 -  26.6s\n",
      "[CV] base_score=0.01, gamma=0.01, reg_alpha=1.0, n_estimators=15, objective=binary:logistic, max_depth=5, seed=1337, min_child_weight=15, learning_rate=0.001, subsample=0.3, colsample_bytree=1, silent=1, nthread=4 \n"
     ]
    },
    {
     "name": "stderr",
     "output_type": "stream",
     "text": [
      "/home/ubuntu/Virtualenvs/mateo/lib/python3.4/site-packages/sklearn/externals/joblib/hashing.py:197: DeprecationWarning: Changing the shape of non-C contiguous array by\n",
      "descriptor assignment is deprecated. To maintain\n",
      "the Fortran contiguity of a multidimensional Fortran\n",
      "array, use 'a.T.view(...).T' instead\n",
      "  obj_bytes_view = obj.view(self.np.uint8)\n",
      "/home/ubuntu/Virtualenvs/mateo/lib/python3.4/site-packages/sklearn/metrics/classification.py:1117: UndefinedMetricWarning: F-score is ill-defined and being set to 0.0 due to no predicted samples.\n",
      "  'precision', 'predicted', average, warn_for)\n"
     ]
    },
    {
     "name": "stdout",
     "output_type": "stream",
     "text": [
      "[CV]  base_score=0.01, gamma=0.01, reg_alpha=1.0, n_estimators=15, objective=binary:logistic, max_depth=5, seed=1337, min_child_weight=15, learning_rate=0.001, subsample=0.5, colsample_bytree=1, silent=1, nthread=4 -  26.9s\n",
      "[CV] base_score=0.01, gamma=0.01, reg_alpha=1.0, n_estimators=15, objective=binary:logistic, max_depth=5, seed=1337, min_child_weight=15, learning_rate=0.001, subsample=0.3, colsample_bytree=1, silent=1, nthread=4 \n"
     ]
    },
    {
     "name": "stderr",
     "output_type": "stream",
     "text": [
      "/home/ubuntu/Virtualenvs/mateo/lib/python3.4/site-packages/sklearn/externals/joblib/hashing.py:197: DeprecationWarning: Changing the shape of non-C contiguous array by\n",
      "descriptor assignment is deprecated. To maintain\n",
      "the Fortran contiguity of a multidimensional Fortran\n",
      "array, use 'a.T.view(...).T' instead\n",
      "  obj_bytes_view = obj.view(self.np.uint8)\n",
      "/home/ubuntu/Virtualenvs/mateo/lib/python3.4/site-packages/sklearn/metrics/classification.py:1117: UndefinedMetricWarning: F-score is ill-defined and being set to 0.0 due to no predicted samples.\n",
      "  'precision', 'predicted', average, warn_for)\n"
     ]
    },
    {
     "name": "stdout",
     "output_type": "stream",
     "text": [
      "[CV]  base_score=0.01, gamma=0.01, reg_alpha=1.0, n_estimators=15, objective=binary:logistic, max_depth=5, seed=1337, min_child_weight=15, learning_rate=0.001, subsample=0.3, colsample_bytree=1, silent=1, nthread=4 -  20.7s\n",
      "[CV] base_score=0.01, gamma=0.01, reg_alpha=0.01, n_estimators=30, objective=binary:logistic, max_depth=5, seed=1337, min_child_weight=15, learning_rate=0.001, subsample=0.8, colsample_bytree=1, silent=1, nthread=4 \n"
     ]
    },
    {
     "name": "stderr",
     "output_type": "stream",
     "text": [
      "/home/ubuntu/Virtualenvs/mateo/lib/python3.4/site-packages/sklearn/externals/joblib/hashing.py:197: DeprecationWarning: Changing the shape of non-C contiguous array by\n",
      "descriptor assignment is deprecated. To maintain\n",
      "the Fortran contiguity of a multidimensional Fortran\n",
      "array, use 'a.T.view(...).T' instead\n",
      "  obj_bytes_view = obj.view(self.np.uint8)\n",
      "/home/ubuntu/Virtualenvs/mateo/lib/python3.4/site-packages/sklearn/metrics/classification.py:1117: UndefinedMetricWarning: F-score is ill-defined and being set to 0.0 due to no predicted samples.\n",
      "  'precision', 'predicted', average, warn_for)\n"
     ]
    },
    {
     "name": "stdout",
     "output_type": "stream",
     "text": [
      "[CV]  base_score=0.01, gamma=0.01, reg_alpha=1.0, n_estimators=15, objective=binary:logistic, max_depth=5, seed=1337, min_child_weight=15, learning_rate=0.001, subsample=0.3, colsample_bytree=1, silent=1, nthread=4 -  21.0s\n",
      "[CV] base_score=0.01, gamma=0.01, reg_alpha=0.01, n_estimators=30, objective=binary:logistic, max_depth=5, seed=1337, min_child_weight=15, learning_rate=0.001, subsample=0.8, colsample_bytree=1, silent=1, nthread=4 \n"
     ]
    },
    {
     "name": "stderr",
     "output_type": "stream",
     "text": [
      "/home/ubuntu/Virtualenvs/mateo/lib/python3.4/site-packages/sklearn/externals/joblib/hashing.py:197: DeprecationWarning: Changing the shape of non-C contiguous array by\n",
      "descriptor assignment is deprecated. To maintain\n",
      "the Fortran contiguity of a multidimensional Fortran\n",
      "array, use 'a.T.view(...).T' instead\n",
      "  obj_bytes_view = obj.view(self.np.uint8)\n",
      "/home/ubuntu/Virtualenvs/mateo/lib/python3.4/site-packages/sklearn/metrics/classification.py:1117: UndefinedMetricWarning: F-score is ill-defined and being set to 0.0 due to no predicted samples.\n",
      "  'precision', 'predicted', average, warn_for)\n"
     ]
    },
    {
     "name": "stdout",
     "output_type": "stream",
     "text": [
      "[CV]  base_score=0.01, gamma=0.01, reg_alpha=1.0, n_estimators=15, objective=binary:logistic, max_depth=5, seed=1337, min_child_weight=15, learning_rate=0.001, subsample=0.3, colsample_bytree=1, silent=1, nthread=4 -  21.4s\n",
      "[CV] base_score=0.01, gamma=0.01, reg_alpha=0.01, n_estimators=30, objective=binary:logistic, max_depth=5, seed=1337, min_child_weight=15, learning_rate=0.001, subsample=0.8, colsample_bytree=1, silent=1, nthread=4 \n"
     ]
    },
    {
     "name": "stderr",
     "output_type": "stream",
     "text": [
      "/home/ubuntu/Virtualenvs/mateo/lib/python3.4/site-packages/sklearn/externals/joblib/hashing.py:197: DeprecationWarning: Changing the shape of non-C contiguous array by\n",
      "descriptor assignment is deprecated. To maintain\n",
      "the Fortran contiguity of a multidimensional Fortran\n",
      "array, use 'a.T.view(...).T' instead\n",
      "  obj_bytes_view = obj.view(self.np.uint8)\n",
      "/home/ubuntu/Virtualenvs/mateo/lib/python3.4/site-packages/sklearn/metrics/classification.py:1117: UndefinedMetricWarning: F-score is ill-defined and being set to 0.0 due to no predicted samples.\n",
      "  'precision', 'predicted', average, warn_for)\n"
     ]
    },
    {
     "name": "stdout",
     "output_type": "stream",
     "text": [
      "[CV]  base_score=0.01, gamma=0.01, reg_alpha=0.01, n_estimators=30, objective=binary:logistic, max_depth=5, seed=1337, min_child_weight=15, learning_rate=0.001, subsample=0.8, colsample_bytree=1, silent=1, nthread=4 -  45.9s\n",
      "[CV] base_score=0.01, gamma=0.01, reg_alpha=0.01, n_estimators=30, objective=binary:logistic, max_depth=5, seed=1337, min_child_weight=15, learning_rate=0.001, subsample=0.5, colsample_bytree=1, silent=1, nthread=4 \n"
     ]
    },
    {
     "name": "stderr",
     "output_type": "stream",
     "text": [
      "/home/ubuntu/Virtualenvs/mateo/lib/python3.4/site-packages/sklearn/externals/joblib/hashing.py:197: DeprecationWarning: Changing the shape of non-C contiguous array by\n",
      "descriptor assignment is deprecated. To maintain\n",
      "the Fortran contiguity of a multidimensional Fortran\n",
      "array, use 'a.T.view(...).T' instead\n",
      "  obj_bytes_view = obj.view(self.np.uint8)\n",
      "/home/ubuntu/Virtualenvs/mateo/lib/python3.4/site-packages/sklearn/metrics/classification.py:1117: UndefinedMetricWarning: F-score is ill-defined and being set to 0.0 due to no predicted samples.\n",
      "  'precision', 'predicted', average, warn_for)\n"
     ]
    },
    {
     "name": "stdout",
     "output_type": "stream",
     "text": [
      "[CV]  base_score=0.01, gamma=0.01, reg_alpha=0.01, n_estimators=30, objective=binary:logistic, max_depth=5, seed=1337, min_child_weight=15, learning_rate=0.001, subsample=0.8, colsample_bytree=1, silent=1, nthread=4 -  48.0s\n",
      "[CV] base_score=0.01, gamma=0.01, reg_alpha=0.01, n_estimators=30, objective=binary:logistic, max_depth=5, seed=1337, min_child_weight=15, learning_rate=0.001, subsample=0.5, colsample_bytree=1, silent=1, nthread=4 \n"
     ]
    },
    {
     "name": "stderr",
     "output_type": "stream",
     "text": [
      "/home/ubuntu/Virtualenvs/mateo/lib/python3.4/site-packages/sklearn/externals/joblib/hashing.py:197: DeprecationWarning: Changing the shape of non-C contiguous array by\n",
      "descriptor assignment is deprecated. To maintain\n",
      "the Fortran contiguity of a multidimensional Fortran\n",
      "array, use 'a.T.view(...).T' instead\n",
      "  obj_bytes_view = obj.view(self.np.uint8)\n",
      "/home/ubuntu/Virtualenvs/mateo/lib/python3.4/site-packages/sklearn/metrics/classification.py:1117: UndefinedMetricWarning: F-score is ill-defined and being set to 0.0 due to no predicted samples.\n",
      "  'precision', 'predicted', average, warn_for)\n"
     ]
    },
    {
     "name": "stdout",
     "output_type": "stream",
     "text": [
      "[CV]  base_score=0.01, gamma=0.01, reg_alpha=0.01, n_estimators=30, objective=binary:logistic, max_depth=5, seed=1337, min_child_weight=15, learning_rate=0.001, subsample=0.8, colsample_bytree=1, silent=1, nthread=4 -  46.7s\n",
      "[CV] base_score=0.01, gamma=0.01, reg_alpha=0.01, n_estimators=30, objective=binary:logistic, max_depth=5, seed=1337, min_child_weight=15, learning_rate=0.001, subsample=0.5, colsample_bytree=1, silent=1, nthread=4 \n"
     ]
    },
    {
     "name": "stderr",
     "output_type": "stream",
     "text": [
      "/home/ubuntu/Virtualenvs/mateo/lib/python3.4/site-packages/sklearn/externals/joblib/hashing.py:197: DeprecationWarning: Changing the shape of non-C contiguous array by\n",
      "descriptor assignment is deprecated. To maintain\n",
      "the Fortran contiguity of a multidimensional Fortran\n",
      "array, use 'a.T.view(...).T' instead\n",
      "  obj_bytes_view = obj.view(self.np.uint8)\n",
      "/home/ubuntu/Virtualenvs/mateo/lib/python3.4/site-packages/sklearn/metrics/classification.py:1117: UndefinedMetricWarning: F-score is ill-defined and being set to 0.0 due to no predicted samples.\n",
      "  'precision', 'predicted', average, warn_for)\n"
     ]
    },
    {
     "name": "stdout",
     "output_type": "stream",
     "text": [
      "[CV]  base_score=0.01, gamma=0.01, reg_alpha=0.01, n_estimators=30, objective=binary:logistic, max_depth=5, seed=1337, min_child_weight=15, learning_rate=0.001, subsample=0.5, colsample_bytree=1, silent=1, nthread=4 -  50.3s\n",
      "[CV] base_score=0.01, gamma=0.01, reg_alpha=0.01, n_estimators=30, objective=binary:logistic, max_depth=5, seed=1337, min_child_weight=15, learning_rate=0.001, subsample=0.3, colsample_bytree=1, silent=1, nthread=4 \n"
     ]
    },
    {
     "name": "stderr",
     "output_type": "stream",
     "text": [
      "/home/ubuntu/Virtualenvs/mateo/lib/python3.4/site-packages/sklearn/externals/joblib/hashing.py:197: DeprecationWarning: Changing the shape of non-C contiguous array by\n",
      "descriptor assignment is deprecated. To maintain\n",
      "the Fortran contiguity of a multidimensional Fortran\n",
      "array, use 'a.T.view(...).T' instead\n",
      "  obj_bytes_view = obj.view(self.np.uint8)\n",
      "/home/ubuntu/Virtualenvs/mateo/lib/python3.4/site-packages/sklearn/metrics/classification.py:1117: UndefinedMetricWarning: F-score is ill-defined and being set to 0.0 due to no predicted samples.\n",
      "  'precision', 'predicted', average, warn_for)\n"
     ]
    },
    {
     "name": "stdout",
     "output_type": "stream",
     "text": [
      "[CV]  base_score=0.01, gamma=0.01, reg_alpha=0.01, n_estimators=30, objective=binary:logistic, max_depth=5, seed=1337, min_child_weight=15, learning_rate=0.001, subsample=0.5, colsample_bytree=1, silent=1, nthread=4 -  49.9s\n",
      "[CV] base_score=0.01, gamma=0.01, reg_alpha=0.01, n_estimators=30, objective=binary:logistic, max_depth=5, seed=1337, min_child_weight=15, learning_rate=0.001, subsample=0.3, colsample_bytree=1, silent=1, nthread=4 \n"
     ]
    },
    {
     "name": "stderr",
     "output_type": "stream",
     "text": [
      "/home/ubuntu/Virtualenvs/mateo/lib/python3.4/site-packages/sklearn/externals/joblib/hashing.py:197: DeprecationWarning: Changing the shape of non-C contiguous array by\n",
      "descriptor assignment is deprecated. To maintain\n",
      "the Fortran contiguity of a multidimensional Fortran\n",
      "array, use 'a.T.view(...).T' instead\n",
      "  obj_bytes_view = obj.view(self.np.uint8)\n",
      "/home/ubuntu/Virtualenvs/mateo/lib/python3.4/site-packages/sklearn/metrics/classification.py:1117: UndefinedMetricWarning: F-score is ill-defined and being set to 0.0 due to no predicted samples.\n",
      "  'precision', 'predicted', average, warn_for)\n"
     ]
    },
    {
     "name": "stdout",
     "output_type": "stream",
     "text": [
      "[CV]  base_score=0.01, gamma=0.01, reg_alpha=0.01, n_estimators=30, objective=binary:logistic, max_depth=5, seed=1337, min_child_weight=15, learning_rate=0.001, subsample=0.5, colsample_bytree=1, silent=1, nthread=4 -  50.4s\n",
      "[CV] base_score=0.01, gamma=0.01, reg_alpha=0.01, n_estimators=30, objective=binary:logistic, max_depth=5, seed=1337, min_child_weight=15, learning_rate=0.001, subsample=0.3, colsample_bytree=1, silent=1, nthread=4 \n"
     ]
    },
    {
     "name": "stderr",
     "output_type": "stream",
     "text": [
      "/home/ubuntu/Virtualenvs/mateo/lib/python3.4/site-packages/sklearn/externals/joblib/hashing.py:197: DeprecationWarning: Changing the shape of non-C contiguous array by\n",
      "descriptor assignment is deprecated. To maintain\n",
      "the Fortran contiguity of a multidimensional Fortran\n",
      "array, use 'a.T.view(...).T' instead\n",
      "  obj_bytes_view = obj.view(self.np.uint8)\n",
      "/home/ubuntu/Virtualenvs/mateo/lib/python3.4/site-packages/sklearn/metrics/classification.py:1117: UndefinedMetricWarning: F-score is ill-defined and being set to 0.0 due to no predicted samples.\n",
      "  'precision', 'predicted', average, warn_for)\n"
     ]
    },
    {
     "name": "stdout",
     "output_type": "stream",
     "text": [
      "[CV]  base_score=0.01, gamma=0.01, reg_alpha=0.01, n_estimators=30, objective=binary:logistic, max_depth=5, seed=1337, min_child_weight=15, learning_rate=0.001, subsample=0.3, colsample_bytree=1, silent=1, nthread=4 -  38.9s\n",
      "[CV] base_score=0.01, gamma=0.01, reg_alpha=0.1, n_estimators=30, objective=binary:logistic, max_depth=5, seed=1337, min_child_weight=15, learning_rate=0.001, subsample=0.8, colsample_bytree=1, silent=1, nthread=4 \n"
     ]
    },
    {
     "name": "stderr",
     "output_type": "stream",
     "text": [
      "/home/ubuntu/Virtualenvs/mateo/lib/python3.4/site-packages/sklearn/externals/joblib/hashing.py:197: DeprecationWarning: Changing the shape of non-C contiguous array by\n",
      "descriptor assignment is deprecated. To maintain\n",
      "the Fortran contiguity of a multidimensional Fortran\n",
      "array, use 'a.T.view(...).T' instead\n",
      "  obj_bytes_view = obj.view(self.np.uint8)\n",
      "/home/ubuntu/Virtualenvs/mateo/lib/python3.4/site-packages/sklearn/metrics/classification.py:1117: UndefinedMetricWarning: F-score is ill-defined and being set to 0.0 due to no predicted samples.\n",
      "  'precision', 'predicted', average, warn_for)\n"
     ]
    },
    {
     "name": "stdout",
     "output_type": "stream",
     "text": [
      "[CV]  base_score=0.01, gamma=0.01, reg_alpha=0.01, n_estimators=30, objective=binary:logistic, max_depth=5, seed=1337, min_child_weight=15, learning_rate=0.001, subsample=0.3, colsample_bytree=1, silent=1, nthread=4 -  39.0s\n",
      "[CV] base_score=0.01, gamma=0.01, reg_alpha=0.1, n_estimators=30, objective=binary:logistic, max_depth=5, seed=1337, min_child_weight=15, learning_rate=0.001, subsample=0.8, colsample_bytree=1, silent=1, nthread=4 \n"
     ]
    },
    {
     "name": "stderr",
     "output_type": "stream",
     "text": [
      "[Parallel(n_jobs=3)]: Done  35 tasks      | elapsed:  6.0min\n",
      "/home/ubuntu/Virtualenvs/mateo/lib/python3.4/site-packages/sklearn/externals/joblib/hashing.py:197: DeprecationWarning: Changing the shape of non-C contiguous array by\n",
      "descriptor assignment is deprecated. To maintain\n",
      "the Fortran contiguity of a multidimensional Fortran\n",
      "array, use 'a.T.view(...).T' instead\n",
      "  obj_bytes_view = obj.view(self.np.uint8)\n",
      "/home/ubuntu/Virtualenvs/mateo/lib/python3.4/site-packages/sklearn/metrics/classification.py:1117: UndefinedMetricWarning: F-score is ill-defined and being set to 0.0 due to no predicted samples.\n",
      "  'precision', 'predicted', average, warn_for)\n"
     ]
    },
    {
     "name": "stdout",
     "output_type": "stream",
     "text": [
      "[CV]  base_score=0.01, gamma=0.01, reg_alpha=0.01, n_estimators=30, objective=binary:logistic, max_depth=5, seed=1337, min_child_weight=15, learning_rate=0.001, subsample=0.3, colsample_bytree=1, silent=1, nthread=4 -  39.1s\n",
      "[CV] base_score=0.01, gamma=0.01, reg_alpha=0.1, n_estimators=30, objective=binary:logistic, max_depth=5, seed=1337, min_child_weight=15, learning_rate=0.001, subsample=0.8, colsample_bytree=1, silent=1, nthread=4 \n"
     ]
    },
    {
     "name": "stderr",
     "output_type": "stream",
     "text": [
      "/home/ubuntu/Virtualenvs/mateo/lib/python3.4/site-packages/sklearn/externals/joblib/hashing.py:197: DeprecationWarning: Changing the shape of non-C contiguous array by\n",
      "descriptor assignment is deprecated. To maintain\n",
      "the Fortran contiguity of a multidimensional Fortran\n",
      "array, use 'a.T.view(...).T' instead\n",
      "  obj_bytes_view = obj.view(self.np.uint8)\n",
      "/home/ubuntu/Virtualenvs/mateo/lib/python3.4/site-packages/sklearn/metrics/classification.py:1117: UndefinedMetricWarning: F-score is ill-defined and being set to 0.0 due to no predicted samples.\n",
      "  'precision', 'predicted', average, warn_for)\n"
     ]
    },
    {
     "name": "stdout",
     "output_type": "stream",
     "text": [
      "[CV]  base_score=0.01, gamma=0.01, reg_alpha=0.1, n_estimators=30, objective=binary:logistic, max_depth=5, seed=1337, min_child_weight=15, learning_rate=0.001, subsample=0.8, colsample_bytree=1, silent=1, nthread=4 -  46.1s\n",
      "[CV] base_score=0.01, gamma=0.01, reg_alpha=0.1, n_estimators=30, objective=binary:logistic, max_depth=5, seed=1337, min_child_weight=15, learning_rate=0.001, subsample=0.5, colsample_bytree=1, silent=1, nthread=4 \n"
     ]
    },
    {
     "name": "stderr",
     "output_type": "stream",
     "text": [
      "/home/ubuntu/Virtualenvs/mateo/lib/python3.4/site-packages/sklearn/externals/joblib/hashing.py:197: DeprecationWarning: Changing the shape of non-C contiguous array by\n",
      "descriptor assignment is deprecated. To maintain\n",
      "the Fortran contiguity of a multidimensional Fortran\n",
      "array, use 'a.T.view(...).T' instead\n",
      "  obj_bytes_view = obj.view(self.np.uint8)\n",
      "/home/ubuntu/Virtualenvs/mateo/lib/python3.4/site-packages/sklearn/metrics/classification.py:1117: UndefinedMetricWarning: F-score is ill-defined and being set to 0.0 due to no predicted samples.\n",
      "  'precision', 'predicted', average, warn_for)\n"
     ]
    },
    {
     "name": "stdout",
     "output_type": "stream",
     "text": [
      "[CV]  base_score=0.01, gamma=0.01, reg_alpha=0.1, n_estimators=30, objective=binary:logistic, max_depth=5, seed=1337, min_child_weight=15, learning_rate=0.001, subsample=0.8, colsample_bytree=1, silent=1, nthread=4 -  47.8s\n",
      "[CV] base_score=0.01, gamma=0.01, reg_alpha=0.1, n_estimators=30, objective=binary:logistic, max_depth=5, seed=1337, min_child_weight=15, learning_rate=0.001, subsample=0.5, colsample_bytree=1, silent=1, nthread=4 \n"
     ]
    },
    {
     "name": "stderr",
     "output_type": "stream",
     "text": [
      "/home/ubuntu/Virtualenvs/mateo/lib/python3.4/site-packages/sklearn/externals/joblib/hashing.py:197: DeprecationWarning: Changing the shape of non-C contiguous array by\n",
      "descriptor assignment is deprecated. To maintain\n",
      "the Fortran contiguity of a multidimensional Fortran\n",
      "array, use 'a.T.view(...).T' instead\n",
      "  obj_bytes_view = obj.view(self.np.uint8)\n",
      "/home/ubuntu/Virtualenvs/mateo/lib/python3.4/site-packages/sklearn/metrics/classification.py:1117: UndefinedMetricWarning: F-score is ill-defined and being set to 0.0 due to no predicted samples.\n",
      "  'precision', 'predicted', average, warn_for)\n"
     ]
    },
    {
     "name": "stdout",
     "output_type": "stream",
     "text": [
      "[CV]  base_score=0.01, gamma=0.01, reg_alpha=0.1, n_estimators=30, objective=binary:logistic, max_depth=5, seed=1337, min_child_weight=15, learning_rate=0.001, subsample=0.8, colsample_bytree=1, silent=1, nthread=4 -  46.8s\n",
      "[CV] base_score=0.01, gamma=0.01, reg_alpha=0.1, n_estimators=30, objective=binary:logistic, max_depth=5, seed=1337, min_child_weight=15, learning_rate=0.001, subsample=0.5, colsample_bytree=1, silent=1, nthread=4 \n"
     ]
    },
    {
     "name": "stderr",
     "output_type": "stream",
     "text": [
      "/home/ubuntu/Virtualenvs/mateo/lib/python3.4/site-packages/sklearn/externals/joblib/hashing.py:197: DeprecationWarning: Changing the shape of non-C contiguous array by\n",
      "descriptor assignment is deprecated. To maintain\n",
      "the Fortran contiguity of a multidimensional Fortran\n",
      "array, use 'a.T.view(...).T' instead\n",
      "  obj_bytes_view = obj.view(self.np.uint8)\n",
      "/home/ubuntu/Virtualenvs/mateo/lib/python3.4/site-packages/sklearn/metrics/classification.py:1117: UndefinedMetricWarning: F-score is ill-defined and being set to 0.0 due to no predicted samples.\n",
      "  'precision', 'predicted', average, warn_for)\n"
     ]
    },
    {
     "name": "stdout",
     "output_type": "stream",
     "text": [
      "[CV]  base_score=0.01, gamma=0.01, reg_alpha=0.1, n_estimators=30, objective=binary:logistic, max_depth=5, seed=1337, min_child_weight=15, learning_rate=0.001, subsample=0.5, colsample_bytree=1, silent=1, nthread=4 -  49.9s\n",
      "[CV] base_score=0.01, gamma=0.01, reg_alpha=0.1, n_estimators=30, objective=binary:logistic, max_depth=5, seed=1337, min_child_weight=15, learning_rate=0.001, subsample=0.3, colsample_bytree=1, silent=1, nthread=4 \n"
     ]
    },
    {
     "name": "stderr",
     "output_type": "stream",
     "text": [
      "/home/ubuntu/Virtualenvs/mateo/lib/python3.4/site-packages/sklearn/externals/joblib/hashing.py:197: DeprecationWarning: Changing the shape of non-C contiguous array by\n",
      "descriptor assignment is deprecated. To maintain\n",
      "the Fortran contiguity of a multidimensional Fortran\n",
      "array, use 'a.T.view(...).T' instead\n",
      "  obj_bytes_view = obj.view(self.np.uint8)\n",
      "/home/ubuntu/Virtualenvs/mateo/lib/python3.4/site-packages/sklearn/metrics/classification.py:1117: UndefinedMetricWarning: F-score is ill-defined and being set to 0.0 due to no predicted samples.\n",
      "  'precision', 'predicted', average, warn_for)\n"
     ]
    },
    {
     "name": "stdout",
     "output_type": "stream",
     "text": [
      "[CV]  base_score=0.01, gamma=0.01, reg_alpha=0.1, n_estimators=30, objective=binary:logistic, max_depth=5, seed=1337, min_child_weight=15, learning_rate=0.001, subsample=0.5, colsample_bytree=1, silent=1, nthread=4 -  49.1s\n",
      "[CV] base_score=0.01, gamma=0.01, reg_alpha=0.1, n_estimators=30, objective=binary:logistic, max_depth=5, seed=1337, min_child_weight=15, learning_rate=0.001, subsample=0.3, colsample_bytree=1, silent=1, nthread=4 \n"
     ]
    },
    {
     "name": "stderr",
     "output_type": "stream",
     "text": [
      "/home/ubuntu/Virtualenvs/mateo/lib/python3.4/site-packages/sklearn/externals/joblib/hashing.py:197: DeprecationWarning: Changing the shape of non-C contiguous array by\n",
      "descriptor assignment is deprecated. To maintain\n",
      "the Fortran contiguity of a multidimensional Fortran\n",
      "array, use 'a.T.view(...).T' instead\n",
      "  obj_bytes_view = obj.view(self.np.uint8)\n",
      "/home/ubuntu/Virtualenvs/mateo/lib/python3.4/site-packages/sklearn/metrics/classification.py:1117: UndefinedMetricWarning: F-score is ill-defined and being set to 0.0 due to no predicted samples.\n",
      "  'precision', 'predicted', average, warn_for)\n"
     ]
    },
    {
     "name": "stdout",
     "output_type": "stream",
     "text": [
      "[CV]  base_score=0.01, gamma=0.01, reg_alpha=0.1, n_estimators=30, objective=binary:logistic, max_depth=5, seed=1337, min_child_weight=15, learning_rate=0.001, subsample=0.5, colsample_bytree=1, silent=1, nthread=4 -  51.0s\n",
      "[CV] base_score=0.01, gamma=0.01, reg_alpha=0.1, n_estimators=30, objective=binary:logistic, max_depth=5, seed=1337, min_child_weight=15, learning_rate=0.001, subsample=0.3, colsample_bytree=1, silent=1, nthread=4 \n"
     ]
    },
    {
     "name": "stderr",
     "output_type": "stream",
     "text": [
      "/home/ubuntu/Virtualenvs/mateo/lib/python3.4/site-packages/sklearn/externals/joblib/hashing.py:197: DeprecationWarning: Changing the shape of non-C contiguous array by\n",
      "descriptor assignment is deprecated. To maintain\n",
      "the Fortran contiguity of a multidimensional Fortran\n",
      "array, use 'a.T.view(...).T' instead\n",
      "  obj_bytes_view = obj.view(self.np.uint8)\n",
      "/home/ubuntu/Virtualenvs/mateo/lib/python3.4/site-packages/sklearn/metrics/classification.py:1117: UndefinedMetricWarning: F-score is ill-defined and being set to 0.0 due to no predicted samples.\n",
      "  'precision', 'predicted', average, warn_for)\n"
     ]
    },
    {
     "name": "stdout",
     "output_type": "stream",
     "text": [
      "[CV]  base_score=0.01, gamma=0.01, reg_alpha=0.1, n_estimators=30, objective=binary:logistic, max_depth=5, seed=1337, min_child_weight=15, learning_rate=0.001, subsample=0.3, colsample_bytree=1, silent=1, nthread=4 -  39.1s\n",
      "[CV] base_score=0.01, gamma=0.01, reg_alpha=1.0, n_estimators=30, objective=binary:logistic, max_depth=5, seed=1337, min_child_weight=15, learning_rate=0.001, subsample=0.8, colsample_bytree=1, silent=1, nthread=4 \n"
     ]
    },
    {
     "name": "stderr",
     "output_type": "stream",
     "text": [
      "/home/ubuntu/Virtualenvs/mateo/lib/python3.4/site-packages/sklearn/externals/joblib/hashing.py:197: DeprecationWarning: Changing the shape of non-C contiguous array by\n",
      "descriptor assignment is deprecated. To maintain\n",
      "the Fortran contiguity of a multidimensional Fortran\n",
      "array, use 'a.T.view(...).T' instead\n",
      "  obj_bytes_view = obj.view(self.np.uint8)\n",
      "/home/ubuntu/Virtualenvs/mateo/lib/python3.4/site-packages/sklearn/metrics/classification.py:1117: UndefinedMetricWarning: F-score is ill-defined and being set to 0.0 due to no predicted samples.\n",
      "  'precision', 'predicted', average, warn_for)\n"
     ]
    },
    {
     "name": "stdout",
     "output_type": "stream",
     "text": [
      "[CV]  base_score=0.01, gamma=0.01, reg_alpha=0.1, n_estimators=30, objective=binary:logistic, max_depth=5, seed=1337, min_child_weight=15, learning_rate=0.001, subsample=0.3, colsample_bytree=1, silent=1, nthread=4 -  39.7s\n",
      "[CV] base_score=0.01, gamma=0.01, reg_alpha=1.0, n_estimators=30, objective=binary:logistic, max_depth=5, seed=1337, min_child_weight=15, learning_rate=0.001, subsample=0.8, colsample_bytree=1, silent=1, nthread=4 \n"
     ]
    },
    {
     "name": "stderr",
     "output_type": "stream",
     "text": [
      "/home/ubuntu/Virtualenvs/mateo/lib/python3.4/site-packages/sklearn/externals/joblib/hashing.py:197: DeprecationWarning: Changing the shape of non-C contiguous array by\n",
      "descriptor assignment is deprecated. To maintain\n",
      "the Fortran contiguity of a multidimensional Fortran\n",
      "array, use 'a.T.view(...).T' instead\n",
      "  obj_bytes_view = obj.view(self.np.uint8)\n",
      "/home/ubuntu/Virtualenvs/mateo/lib/python3.4/site-packages/sklearn/metrics/classification.py:1117: UndefinedMetricWarning: F-score is ill-defined and being set to 0.0 due to no predicted samples.\n",
      "  'precision', 'predicted', average, warn_for)\n"
     ]
    },
    {
     "name": "stdout",
     "output_type": "stream",
     "text": [
      "[CV]  base_score=0.01, gamma=0.01, reg_alpha=0.1, n_estimators=30, objective=binary:logistic, max_depth=5, seed=1337, min_child_weight=15, learning_rate=0.001, subsample=0.3, colsample_bytree=1, silent=1, nthread=4 -  39.4s\n",
      "[CV] base_score=0.01, gamma=0.01, reg_alpha=1.0, n_estimators=30, objective=binary:logistic, max_depth=5, seed=1337, min_child_weight=15, learning_rate=0.001, subsample=0.8, colsample_bytree=1, silent=1, nthread=4 \n"
     ]
    },
    {
     "name": "stderr",
     "output_type": "stream",
     "text": [
      "/home/ubuntu/Virtualenvs/mateo/lib/python3.4/site-packages/sklearn/externals/joblib/hashing.py:197: DeprecationWarning: Changing the shape of non-C contiguous array by\n",
      "descriptor assignment is deprecated. To maintain\n",
      "the Fortran contiguity of a multidimensional Fortran\n",
      "array, use 'a.T.view(...).T' instead\n",
      "  obj_bytes_view = obj.view(self.np.uint8)\n",
      "/home/ubuntu/Virtualenvs/mateo/lib/python3.4/site-packages/sklearn/metrics/classification.py:1117: UndefinedMetricWarning: F-score is ill-defined and being set to 0.0 due to no predicted samples.\n",
      "  'precision', 'predicted', average, warn_for)\n"
     ]
    },
    {
     "name": "stdout",
     "output_type": "stream",
     "text": [
      "[CV]  base_score=0.01, gamma=0.01, reg_alpha=1.0, n_estimators=30, objective=binary:logistic, max_depth=5, seed=1337, min_child_weight=15, learning_rate=0.001, subsample=0.8, colsample_bytree=1, silent=1, nthread=4 -  46.3s\n",
      "[CV] base_score=0.01, gamma=0.01, reg_alpha=1.0, n_estimators=30, objective=binary:logistic, max_depth=5, seed=1337, min_child_weight=15, learning_rate=0.001, subsample=0.5, colsample_bytree=1, silent=1, nthread=4 \n"
     ]
    },
    {
     "name": "stderr",
     "output_type": "stream",
     "text": [
      "/home/ubuntu/Virtualenvs/mateo/lib/python3.4/site-packages/sklearn/externals/joblib/hashing.py:197: DeprecationWarning: Changing the shape of non-C contiguous array by\n",
      "descriptor assignment is deprecated. To maintain\n",
      "the Fortran contiguity of a multidimensional Fortran\n",
      "array, use 'a.T.view(...).T' instead\n",
      "  obj_bytes_view = obj.view(self.np.uint8)\n",
      "/home/ubuntu/Virtualenvs/mateo/lib/python3.4/site-packages/sklearn/metrics/classification.py:1117: UndefinedMetricWarning: F-score is ill-defined and being set to 0.0 due to no predicted samples.\n",
      "  'precision', 'predicted', average, warn_for)\n"
     ]
    },
    {
     "name": "stdout",
     "output_type": "stream",
     "text": [
      "[CV]  base_score=0.01, gamma=0.01, reg_alpha=1.0, n_estimators=30, objective=binary:logistic, max_depth=5, seed=1337, min_child_weight=15, learning_rate=0.001, subsample=0.8, colsample_bytree=1, silent=1, nthread=4 -  47.0s\n",
      "[CV] base_score=0.01, gamma=0.01, reg_alpha=1.0, n_estimators=30, objective=binary:logistic, max_depth=5, seed=1337, min_child_weight=15, learning_rate=0.001, subsample=0.5, colsample_bytree=1, silent=1, nthread=4 \n"
     ]
    },
    {
     "name": "stderr",
     "output_type": "stream",
     "text": [
      "/home/ubuntu/Virtualenvs/mateo/lib/python3.4/site-packages/sklearn/externals/joblib/hashing.py:197: DeprecationWarning: Changing the shape of non-C contiguous array by\n",
      "descriptor assignment is deprecated. To maintain\n",
      "the Fortran contiguity of a multidimensional Fortran\n",
      "array, use 'a.T.view(...).T' instead\n",
      "  obj_bytes_view = obj.view(self.np.uint8)\n",
      "/home/ubuntu/Virtualenvs/mateo/lib/python3.4/site-packages/sklearn/metrics/classification.py:1117: UndefinedMetricWarning: F-score is ill-defined and being set to 0.0 due to no predicted samples.\n",
      "  'precision', 'predicted', average, warn_for)\n"
     ]
    },
    {
     "name": "stdout",
     "output_type": "stream",
     "text": [
      "[CV]  base_score=0.01, gamma=0.01, reg_alpha=1.0, n_estimators=30, objective=binary:logistic, max_depth=5, seed=1337, min_child_weight=15, learning_rate=0.001, subsample=0.8, colsample_bytree=1, silent=1, nthread=4 -  46.6s\n",
      "[CV] base_score=0.01, gamma=0.01, reg_alpha=1.0, n_estimators=30, objective=binary:logistic, max_depth=5, seed=1337, min_child_weight=15, learning_rate=0.001, subsample=0.5, colsample_bytree=1, silent=1, nthread=4 \n"
     ]
    },
    {
     "name": "stderr",
     "output_type": "stream",
     "text": [
      "/home/ubuntu/Virtualenvs/mateo/lib/python3.4/site-packages/sklearn/externals/joblib/hashing.py:197: DeprecationWarning: Changing the shape of non-C contiguous array by\n",
      "descriptor assignment is deprecated. To maintain\n",
      "the Fortran contiguity of a multidimensional Fortran\n",
      "array, use 'a.T.view(...).T' instead\n",
      "  obj_bytes_view = obj.view(self.np.uint8)\n",
      "/home/ubuntu/Virtualenvs/mateo/lib/python3.4/site-packages/sklearn/metrics/classification.py:1117: UndefinedMetricWarning: F-score is ill-defined and being set to 0.0 due to no predicted samples.\n",
      "  'precision', 'predicted', average, warn_for)\n"
     ]
    },
    {
     "name": "stdout",
     "output_type": "stream",
     "text": [
      "[CV]  base_score=0.01, gamma=0.01, reg_alpha=1.0, n_estimators=30, objective=binary:logistic, max_depth=5, seed=1337, min_child_weight=15, learning_rate=0.001, subsample=0.5, colsample_bytree=1, silent=1, nthread=4 -  50.0s\n",
      "[CV] base_score=0.01, gamma=0.01, reg_alpha=1.0, n_estimators=30, objective=binary:logistic, max_depth=5, seed=1337, min_child_weight=15, learning_rate=0.001, subsample=0.3, colsample_bytree=1, silent=1, nthread=4 \n"
     ]
    },
    {
     "name": "stderr",
     "output_type": "stream",
     "text": [
      "/home/ubuntu/Virtualenvs/mateo/lib/python3.4/site-packages/sklearn/externals/joblib/hashing.py:197: DeprecationWarning: Changing the shape of non-C contiguous array by\n",
      "descriptor assignment is deprecated. To maintain\n",
      "the Fortran contiguity of a multidimensional Fortran\n",
      "array, use 'a.T.view(...).T' instead\n",
      "  obj_bytes_view = obj.view(self.np.uint8)\n",
      "/home/ubuntu/Virtualenvs/mateo/lib/python3.4/site-packages/sklearn/metrics/classification.py:1117: UndefinedMetricWarning: F-score is ill-defined and being set to 0.0 due to no predicted samples.\n",
      "  'precision', 'predicted', average, warn_for)\n"
     ]
    },
    {
     "name": "stdout",
     "output_type": "stream",
     "text": [
      "[CV]  base_score=0.01, gamma=0.01, reg_alpha=1.0, n_estimators=30, objective=binary:logistic, max_depth=5, seed=1337, min_child_weight=15, learning_rate=0.001, subsample=0.5, colsample_bytree=1, silent=1, nthread=4 -  50.1s\n",
      "[CV] base_score=0.01, gamma=0.01, reg_alpha=1.0, n_estimators=30, objective=binary:logistic, max_depth=5, seed=1337, min_child_weight=15, learning_rate=0.001, subsample=0.3, colsample_bytree=1, silent=1, nthread=4 \n"
     ]
    },
    {
     "name": "stderr",
     "output_type": "stream",
     "text": [
      "/home/ubuntu/Virtualenvs/mateo/lib/python3.4/site-packages/sklearn/externals/joblib/hashing.py:197: DeprecationWarning: Changing the shape of non-C contiguous array by\n",
      "descriptor assignment is deprecated. To maintain\n",
      "the Fortran contiguity of a multidimensional Fortran\n",
      "array, use 'a.T.view(...).T' instead\n",
      "  obj_bytes_view = obj.view(self.np.uint8)\n",
      "/home/ubuntu/Virtualenvs/mateo/lib/python3.4/site-packages/sklearn/metrics/classification.py:1117: UndefinedMetricWarning: F-score is ill-defined and being set to 0.0 due to no predicted samples.\n",
      "  'precision', 'predicted', average, warn_for)\n"
     ]
    },
    {
     "name": "stdout",
     "output_type": "stream",
     "text": [
      "[CV]  base_score=0.01, gamma=0.01, reg_alpha=1.0, n_estimators=30, objective=binary:logistic, max_depth=5, seed=1337, min_child_weight=15, learning_rate=0.001, subsample=0.5, colsample_bytree=1, silent=1, nthread=4 -  49.3s\n",
      "[CV] base_score=0.01, gamma=0.01, reg_alpha=1.0, n_estimators=30, objective=binary:logistic, max_depth=5, seed=1337, min_child_weight=15, learning_rate=0.001, subsample=0.3, colsample_bytree=1, silent=1, nthread=4 \n"
     ]
    },
    {
     "name": "stderr",
     "output_type": "stream",
     "text": [
      "/home/ubuntu/Virtualenvs/mateo/lib/python3.4/site-packages/sklearn/externals/joblib/hashing.py:197: DeprecationWarning: Changing the shape of non-C contiguous array by\n",
      "descriptor assignment is deprecated. To maintain\n",
      "the Fortran contiguity of a multidimensional Fortran\n",
      "array, use 'a.T.view(...).T' instead\n",
      "  obj_bytes_view = obj.view(self.np.uint8)\n",
      "/home/ubuntu/Virtualenvs/mateo/lib/python3.4/site-packages/sklearn/metrics/classification.py:1117: UndefinedMetricWarning: F-score is ill-defined and being set to 0.0 due to no predicted samples.\n",
      "  'precision', 'predicted', average, warn_for)\n"
     ]
    },
    {
     "name": "stdout",
     "output_type": "stream",
     "text": [
      "[CV]  base_score=0.01, gamma=0.01, reg_alpha=1.0, n_estimators=30, objective=binary:logistic, max_depth=5, seed=1337, min_child_weight=15, learning_rate=0.001, subsample=0.3, colsample_bytree=1, silent=1, nthread=4 -  39.0s\n",
      "[CV] base_score=0.01, gamma=0.01, reg_alpha=0.01, n_estimators=15, objective=binary:logistic, max_depth=5, seed=1337, min_child_weight=10, learning_rate=0.001, subsample=0.8, colsample_bytree=1, silent=1, nthread=4 \n"
     ]
    },
    {
     "name": "stderr",
     "output_type": "stream",
     "text": [
      "/home/ubuntu/Virtualenvs/mateo/lib/python3.4/site-packages/sklearn/externals/joblib/hashing.py:197: DeprecationWarning: Changing the shape of non-C contiguous array by\n",
      "descriptor assignment is deprecated. To maintain\n",
      "the Fortran contiguity of a multidimensional Fortran\n",
      "array, use 'a.T.view(...).T' instead\n",
      "  obj_bytes_view = obj.view(self.np.uint8)\n",
      "/home/ubuntu/Virtualenvs/mateo/lib/python3.4/site-packages/sklearn/metrics/classification.py:1117: UndefinedMetricWarning: F-score is ill-defined and being set to 0.0 due to no predicted samples.\n",
      "  'precision', 'predicted', average, warn_for)\n"
     ]
    },
    {
     "name": "stdout",
     "output_type": "stream",
     "text": [
      "[CV]  base_score=0.01, gamma=0.01, reg_alpha=1.0, n_estimators=30, objective=binary:logistic, max_depth=5, seed=1337, min_child_weight=15, learning_rate=0.001, subsample=0.3, colsample_bytree=1, silent=1, nthread=4 -  39.0s\n",
      "[CV] base_score=0.01, gamma=0.01, reg_alpha=0.01, n_estimators=15, objective=binary:logistic, max_depth=5, seed=1337, min_child_weight=10, learning_rate=0.001, subsample=0.8, colsample_bytree=1, silent=1, nthread=4 \n"
     ]
    },
    {
     "name": "stderr",
     "output_type": "stream",
     "text": [
      "/home/ubuntu/Virtualenvs/mateo/lib/python3.4/site-packages/sklearn/externals/joblib/hashing.py:197: DeprecationWarning: Changing the shape of non-C contiguous array by\n",
      "descriptor assignment is deprecated. To maintain\n",
      "the Fortran contiguity of a multidimensional Fortran\n",
      "array, use 'a.T.view(...).T' instead\n",
      "  obj_bytes_view = obj.view(self.np.uint8)\n",
      "/home/ubuntu/Virtualenvs/mateo/lib/python3.4/site-packages/sklearn/metrics/classification.py:1117: UndefinedMetricWarning: F-score is ill-defined and being set to 0.0 due to no predicted samples.\n",
      "  'precision', 'predicted', average, warn_for)\n"
     ]
    },
    {
     "name": "stdout",
     "output_type": "stream",
     "text": [
      "[CV]  base_score=0.01, gamma=0.01, reg_alpha=1.0, n_estimators=30, objective=binary:logistic, max_depth=5, seed=1337, min_child_weight=15, learning_rate=0.001, subsample=0.3, colsample_bytree=1, silent=1, nthread=4 -  39.7s\n",
      "[CV] base_score=0.01, gamma=0.01, reg_alpha=0.01, n_estimators=15, objective=binary:logistic, max_depth=5, seed=1337, min_child_weight=10, learning_rate=0.001, subsample=0.8, colsample_bytree=1, silent=1, nthread=4 \n"
     ]
    },
    {
     "name": "stderr",
     "output_type": "stream",
     "text": [
      "/home/ubuntu/Virtualenvs/mateo/lib/python3.4/site-packages/sklearn/externals/joblib/hashing.py:197: DeprecationWarning: Changing the shape of non-C contiguous array by\n",
      "descriptor assignment is deprecated. To maintain\n",
      "the Fortran contiguity of a multidimensional Fortran\n",
      "array, use 'a.T.view(...).T' instead\n",
      "  obj_bytes_view = obj.view(self.np.uint8)\n",
      "/home/ubuntu/Virtualenvs/mateo/lib/python3.4/site-packages/sklearn/metrics/classification.py:1117: UndefinedMetricWarning: F-score is ill-defined and being set to 0.0 due to no predicted samples.\n",
      "  'precision', 'predicted', average, warn_for)\n"
     ]
    },
    {
     "name": "stdout",
     "output_type": "stream",
     "text": [
      "[CV]  base_score=0.01, gamma=0.01, reg_alpha=0.01, n_estimators=15, objective=binary:logistic, max_depth=5, seed=1337, min_child_weight=10, learning_rate=0.001, subsample=0.8, colsample_bytree=1, silent=1, nthread=4 -  24.9s\n",
      "[CV] base_score=0.01, gamma=0.01, reg_alpha=0.01, n_estimators=15, objective=binary:logistic, max_depth=5, seed=1337, min_child_weight=10, learning_rate=0.001, subsample=0.5, colsample_bytree=1, silent=1, nthread=4 \n"
     ]
    },
    {
     "name": "stderr",
     "output_type": "stream",
     "text": [
      "/home/ubuntu/Virtualenvs/mateo/lib/python3.4/site-packages/sklearn/externals/joblib/hashing.py:197: DeprecationWarning: Changing the shape of non-C contiguous array by\n",
      "descriptor assignment is deprecated. To maintain\n",
      "the Fortran contiguity of a multidimensional Fortran\n",
      "array, use 'a.T.view(...).T' instead\n",
      "  obj_bytes_view = obj.view(self.np.uint8)\n",
      "/home/ubuntu/Virtualenvs/mateo/lib/python3.4/site-packages/sklearn/metrics/classification.py:1117: UndefinedMetricWarning: F-score is ill-defined and being set to 0.0 due to no predicted samples.\n",
      "  'precision', 'predicted', average, warn_for)\n"
     ]
    },
    {
     "name": "stdout",
     "output_type": "stream",
     "text": [
      "[CV]  base_score=0.01, gamma=0.01, reg_alpha=0.01, n_estimators=15, objective=binary:logistic, max_depth=5, seed=1337, min_child_weight=10, learning_rate=0.001, subsample=0.8, colsample_bytree=1, silent=1, nthread=4 -  25.4s\n",
      "[CV] base_score=0.01, gamma=0.01, reg_alpha=0.01, n_estimators=15, objective=binary:logistic, max_depth=5, seed=1337, min_child_weight=10, learning_rate=0.001, subsample=0.5, colsample_bytree=1, silent=1, nthread=4 \n"
     ]
    },
    {
     "name": "stderr",
     "output_type": "stream",
     "text": [
      "/home/ubuntu/Virtualenvs/mateo/lib/python3.4/site-packages/sklearn/externals/joblib/hashing.py:197: DeprecationWarning: Changing the shape of non-C contiguous array by\n",
      "descriptor assignment is deprecated. To maintain\n",
      "the Fortran contiguity of a multidimensional Fortran\n",
      "array, use 'a.T.view(...).T' instead\n",
      "  obj_bytes_view = obj.view(self.np.uint8)\n",
      "/home/ubuntu/Virtualenvs/mateo/lib/python3.4/site-packages/sklearn/metrics/classification.py:1117: UndefinedMetricWarning: F-score is ill-defined and being set to 0.0 due to no predicted samples.\n",
      "  'precision', 'predicted', average, warn_for)\n"
     ]
    },
    {
     "name": "stdout",
     "output_type": "stream",
     "text": [
      "[CV]  base_score=0.01, gamma=0.01, reg_alpha=0.01, n_estimators=15, objective=binary:logistic, max_depth=5, seed=1337, min_child_weight=10, learning_rate=0.001, subsample=0.8, colsample_bytree=1, silent=1, nthread=4 -  25.3s\n",
      "[CV] base_score=0.01, gamma=0.01, reg_alpha=0.01, n_estimators=15, objective=binary:logistic, max_depth=5, seed=1337, min_child_weight=10, learning_rate=0.001, subsample=0.5, colsample_bytree=1, silent=1, nthread=4 \n"
     ]
    },
    {
     "name": "stderr",
     "output_type": "stream",
     "text": [
      "/home/ubuntu/Virtualenvs/mateo/lib/python3.4/site-packages/sklearn/externals/joblib/hashing.py:197: DeprecationWarning: Changing the shape of non-C contiguous array by\n",
      "descriptor assignment is deprecated. To maintain\n",
      "the Fortran contiguity of a multidimensional Fortran\n",
      "array, use 'a.T.view(...).T' instead\n",
      "  obj_bytes_view = obj.view(self.np.uint8)\n",
      "/home/ubuntu/Virtualenvs/mateo/lib/python3.4/site-packages/sklearn/metrics/classification.py:1117: UndefinedMetricWarning: F-score is ill-defined and being set to 0.0 due to no predicted samples.\n",
      "  'precision', 'predicted', average, warn_for)\n"
     ]
    },
    {
     "name": "stdout",
     "output_type": "stream",
     "text": [
      "[CV]  base_score=0.01, gamma=0.01, reg_alpha=0.01, n_estimators=15, objective=binary:logistic, max_depth=5, seed=1337, min_child_weight=10, learning_rate=0.001, subsample=0.5, colsample_bytree=1, silent=1, nthread=4 -  26.0s\n",
      "[CV] base_score=0.01, gamma=0.01, reg_alpha=0.01, n_estimators=15, objective=binary:logistic, max_depth=5, seed=1337, min_child_weight=10, learning_rate=0.001, subsample=0.3, colsample_bytree=1, silent=1, nthread=4 \n"
     ]
    },
    {
     "name": "stderr",
     "output_type": "stream",
     "text": [
      "/home/ubuntu/Virtualenvs/mateo/lib/python3.4/site-packages/sklearn/externals/joblib/hashing.py:197: DeprecationWarning: Changing the shape of non-C contiguous array by\n",
      "descriptor assignment is deprecated. To maintain\n",
      "the Fortran contiguity of a multidimensional Fortran\n",
      "array, use 'a.T.view(...).T' instead\n",
      "  obj_bytes_view = obj.view(self.np.uint8)\n",
      "/home/ubuntu/Virtualenvs/mateo/lib/python3.4/site-packages/sklearn/metrics/classification.py:1117: UndefinedMetricWarning: F-score is ill-defined and being set to 0.0 due to no predicted samples.\n",
      "  'precision', 'predicted', average, warn_for)\n"
     ]
    },
    {
     "name": "stdout",
     "output_type": "stream",
     "text": [
      "[CV]  base_score=0.01, gamma=0.01, reg_alpha=0.01, n_estimators=15, objective=binary:logistic, max_depth=5, seed=1337, min_child_weight=10, learning_rate=0.001, subsample=0.5, colsample_bytree=1, silent=1, nthread=4 -  27.0s\n",
      "[CV] base_score=0.01, gamma=0.01, reg_alpha=0.01, n_estimators=15, objective=binary:logistic, max_depth=5, seed=1337, min_child_weight=10, learning_rate=0.001, subsample=0.3, colsample_bytree=1, silent=1, nthread=4 \n"
     ]
    },
    {
     "name": "stderr",
     "output_type": "stream",
     "text": [
      "/home/ubuntu/Virtualenvs/mateo/lib/python3.4/site-packages/sklearn/externals/joblib/hashing.py:197: DeprecationWarning: Changing the shape of non-C contiguous array by\n",
      "descriptor assignment is deprecated. To maintain\n",
      "the Fortran contiguity of a multidimensional Fortran\n",
      "array, use 'a.T.view(...).T' instead\n",
      "  obj_bytes_view = obj.view(self.np.uint8)\n",
      "/home/ubuntu/Virtualenvs/mateo/lib/python3.4/site-packages/sklearn/metrics/classification.py:1117: UndefinedMetricWarning: F-score is ill-defined and being set to 0.0 due to no predicted samples.\n",
      "  'precision', 'predicted', average, warn_for)\n"
     ]
    },
    {
     "name": "stdout",
     "output_type": "stream",
     "text": [
      "[CV]  base_score=0.01, gamma=0.01, reg_alpha=0.01, n_estimators=15, objective=binary:logistic, max_depth=5, seed=1337, min_child_weight=10, learning_rate=0.001, subsample=0.5, colsample_bytree=1, silent=1, nthread=4 -  26.4s\n",
      "[CV] base_score=0.01, gamma=0.01, reg_alpha=0.01, n_estimators=15, objective=binary:logistic, max_depth=5, seed=1337, min_child_weight=10, learning_rate=0.001, subsample=0.3, colsample_bytree=1, silent=1, nthread=4 \n"
     ]
    },
    {
     "name": "stderr",
     "output_type": "stream",
     "text": [
      "/home/ubuntu/Virtualenvs/mateo/lib/python3.4/site-packages/sklearn/externals/joblib/hashing.py:197: DeprecationWarning: Changing the shape of non-C contiguous array by\n",
      "descriptor assignment is deprecated. To maintain\n",
      "the Fortran contiguity of a multidimensional Fortran\n",
      "array, use 'a.T.view(...).T' instead\n",
      "  obj_bytes_view = obj.view(self.np.uint8)\n",
      "/home/ubuntu/Virtualenvs/mateo/lib/python3.4/site-packages/sklearn/metrics/classification.py:1117: UndefinedMetricWarning: F-score is ill-defined and being set to 0.0 due to no predicted samples.\n",
      "  'precision', 'predicted', average, warn_for)\n"
     ]
    },
    {
     "name": "stdout",
     "output_type": "stream",
     "text": [
      "[CV]  base_score=0.01, gamma=0.01, reg_alpha=0.01, n_estimators=15, objective=binary:logistic, max_depth=5, seed=1337, min_child_weight=10, learning_rate=0.001, subsample=0.3, colsample_bytree=1, silent=1, nthread=4 -  21.6s\n",
      "[CV] base_score=0.01, gamma=0.01, reg_alpha=0.1, n_estimators=15, objective=binary:logistic, max_depth=5, seed=1337, min_child_weight=10, learning_rate=0.001, subsample=0.8, colsample_bytree=1, silent=1, nthread=4 \n"
     ]
    },
    {
     "name": "stderr",
     "output_type": "stream",
     "text": [
      "/home/ubuntu/Virtualenvs/mateo/lib/python3.4/site-packages/sklearn/externals/joblib/hashing.py:197: DeprecationWarning: Changing the shape of non-C contiguous array by\n",
      "descriptor assignment is deprecated. To maintain\n",
      "the Fortran contiguity of a multidimensional Fortran\n",
      "array, use 'a.T.view(...).T' instead\n",
      "  obj_bytes_view = obj.view(self.np.uint8)\n",
      "/home/ubuntu/Virtualenvs/mateo/lib/python3.4/site-packages/sklearn/metrics/classification.py:1117: UndefinedMetricWarning: F-score is ill-defined and being set to 0.0 due to no predicted samples.\n",
      "  'precision', 'predicted', average, warn_for)\n"
     ]
    },
    {
     "name": "stdout",
     "output_type": "stream",
     "text": [
      "[CV]  base_score=0.01, gamma=0.01, reg_alpha=0.01, n_estimators=15, objective=binary:logistic, max_depth=5, seed=1337, min_child_weight=10, learning_rate=0.001, subsample=0.3, colsample_bytree=1, silent=1, nthread=4 -  21.1s\n",
      "[CV] base_score=0.01, gamma=0.01, reg_alpha=0.1, n_estimators=15, objective=binary:logistic, max_depth=5, seed=1337, min_child_weight=10, learning_rate=0.001, subsample=0.8, colsample_bytree=1, silent=1, nthread=4 \n"
     ]
    },
    {
     "name": "stderr",
     "output_type": "stream",
     "text": [
      "/home/ubuntu/Virtualenvs/mateo/lib/python3.4/site-packages/sklearn/externals/joblib/hashing.py:197: DeprecationWarning: Changing the shape of non-C contiguous array by\n",
      "descriptor assignment is deprecated. To maintain\n",
      "the Fortran contiguity of a multidimensional Fortran\n",
      "array, use 'a.T.view(...).T' instead\n",
      "  obj_bytes_view = obj.view(self.np.uint8)\n",
      "/home/ubuntu/Virtualenvs/mateo/lib/python3.4/site-packages/sklearn/metrics/classification.py:1117: UndefinedMetricWarning: F-score is ill-defined and being set to 0.0 due to no predicted samples.\n",
      "  'precision', 'predicted', average, warn_for)\n"
     ]
    },
    {
     "name": "stdout",
     "output_type": "stream",
     "text": [
      "[CV]  base_score=0.01, gamma=0.01, reg_alpha=0.01, n_estimators=15, objective=binary:logistic, max_depth=5, seed=1337, min_child_weight=10, learning_rate=0.001, subsample=0.3, colsample_bytree=1, silent=1, nthread=4 -  21.9s\n",
      "[CV] base_score=0.01, gamma=0.01, reg_alpha=0.1, n_estimators=15, objective=binary:logistic, max_depth=5, seed=1337, min_child_weight=10, learning_rate=0.001, subsample=0.8, colsample_bytree=1, silent=1, nthread=4 \n"
     ]
    },
    {
     "name": "stderr",
     "output_type": "stream",
     "text": [
      "/home/ubuntu/Virtualenvs/mateo/lib/python3.4/site-packages/sklearn/externals/joblib/hashing.py:197: DeprecationWarning: Changing the shape of non-C contiguous array by\n",
      "descriptor assignment is deprecated. To maintain\n",
      "the Fortran contiguity of a multidimensional Fortran\n",
      "array, use 'a.T.view(...).T' instead\n",
      "  obj_bytes_view = obj.view(self.np.uint8)\n",
      "/home/ubuntu/Virtualenvs/mateo/lib/python3.4/site-packages/sklearn/metrics/classification.py:1117: UndefinedMetricWarning: F-score is ill-defined and being set to 0.0 due to no predicted samples.\n",
      "  'precision', 'predicted', average, warn_for)\n"
     ]
    },
    {
     "name": "stdout",
     "output_type": "stream",
     "text": [
      "[CV]  base_score=0.01, gamma=0.01, reg_alpha=0.1, n_estimators=15, objective=binary:logistic, max_depth=5, seed=1337, min_child_weight=10, learning_rate=0.001, subsample=0.8, colsample_bytree=1, silent=1, nthread=4 -  24.8s\n",
      "[CV] base_score=0.01, gamma=0.01, reg_alpha=0.1, n_estimators=15, objective=binary:logistic, max_depth=5, seed=1337, min_child_weight=10, learning_rate=0.001, subsample=0.5, colsample_bytree=1, silent=1, nthread=4 \n"
     ]
    },
    {
     "name": "stderr",
     "output_type": "stream",
     "text": [
      "/home/ubuntu/Virtualenvs/mateo/lib/python3.4/site-packages/sklearn/externals/joblib/hashing.py:197: DeprecationWarning: Changing the shape of non-C contiguous array by\n",
      "descriptor assignment is deprecated. To maintain\n",
      "the Fortran contiguity of a multidimensional Fortran\n",
      "array, use 'a.T.view(...).T' instead\n",
      "  obj_bytes_view = obj.view(self.np.uint8)\n",
      "/home/ubuntu/Virtualenvs/mateo/lib/python3.4/site-packages/sklearn/metrics/classification.py:1117: UndefinedMetricWarning: F-score is ill-defined and being set to 0.0 due to no predicted samples.\n",
      "  'precision', 'predicted', average, warn_for)\n"
     ]
    },
    {
     "name": "stdout",
     "output_type": "stream",
     "text": [
      "[CV]  base_score=0.01, gamma=0.01, reg_alpha=0.1, n_estimators=15, objective=binary:logistic, max_depth=5, seed=1337, min_child_weight=10, learning_rate=0.001, subsample=0.8, colsample_bytree=1, silent=1, nthread=4 -  25.5s\n",
      "[CV] base_score=0.01, gamma=0.01, reg_alpha=0.1, n_estimators=15, objective=binary:logistic, max_depth=5, seed=1337, min_child_weight=10, learning_rate=0.001, subsample=0.5, colsample_bytree=1, silent=1, nthread=4 \n"
     ]
    },
    {
     "name": "stderr",
     "output_type": "stream",
     "text": [
      "/home/ubuntu/Virtualenvs/mateo/lib/python3.4/site-packages/sklearn/externals/joblib/hashing.py:197: DeprecationWarning: Changing the shape of non-C contiguous array by\n",
      "descriptor assignment is deprecated. To maintain\n",
      "the Fortran contiguity of a multidimensional Fortran\n",
      "array, use 'a.T.view(...).T' instead\n",
      "  obj_bytes_view = obj.view(self.np.uint8)\n",
      "/home/ubuntu/Virtualenvs/mateo/lib/python3.4/site-packages/sklearn/metrics/classification.py:1117: UndefinedMetricWarning: F-score is ill-defined and being set to 0.0 due to no predicted samples.\n",
      "  'precision', 'predicted', average, warn_for)\n"
     ]
    },
    {
     "name": "stdout",
     "output_type": "stream",
     "text": [
      "[CV]  base_score=0.01, gamma=0.01, reg_alpha=0.1, n_estimators=15, objective=binary:logistic, max_depth=5, seed=1337, min_child_weight=10, learning_rate=0.001, subsample=0.8, colsample_bytree=1, silent=1, nthread=4 -  24.6s\n",
      "[CV] base_score=0.01, gamma=0.01, reg_alpha=0.1, n_estimators=15, objective=binary:logistic, max_depth=5, seed=1337, min_child_weight=10, learning_rate=0.001, subsample=0.5, colsample_bytree=1, silent=1, nthread=4 \n"
     ]
    },
    {
     "name": "stderr",
     "output_type": "stream",
     "text": [
      "/home/ubuntu/Virtualenvs/mateo/lib/python3.4/site-packages/sklearn/externals/joblib/hashing.py:197: DeprecationWarning: Changing the shape of non-C contiguous array by\n",
      "descriptor assignment is deprecated. To maintain\n",
      "the Fortran contiguity of a multidimensional Fortran\n",
      "array, use 'a.T.view(...).T' instead\n",
      "  obj_bytes_view = obj.view(self.np.uint8)\n",
      "/home/ubuntu/Virtualenvs/mateo/lib/python3.4/site-packages/sklearn/metrics/classification.py:1117: UndefinedMetricWarning: F-score is ill-defined and being set to 0.0 due to no predicted samples.\n",
      "  'precision', 'predicted', average, warn_for)\n"
     ]
    },
    {
     "name": "stdout",
     "output_type": "stream",
     "text": [
      "[CV]  base_score=0.01, gamma=0.01, reg_alpha=0.1, n_estimators=15, objective=binary:logistic, max_depth=5, seed=1337, min_child_weight=10, learning_rate=0.001, subsample=0.5, colsample_bytree=1, silent=1, nthread=4 -  26.8s\n",
      "[CV] base_score=0.01, gamma=0.01, reg_alpha=0.1, n_estimators=15, objective=binary:logistic, max_depth=5, seed=1337, min_child_weight=10, learning_rate=0.001, subsample=0.3, colsample_bytree=1, silent=1, nthread=4 \n"
     ]
    },
    {
     "name": "stderr",
     "output_type": "stream",
     "text": [
      "/home/ubuntu/Virtualenvs/mateo/lib/python3.4/site-packages/sklearn/externals/joblib/hashing.py:197: DeprecationWarning: Changing the shape of non-C contiguous array by\n",
      "descriptor assignment is deprecated. To maintain\n",
      "the Fortran contiguity of a multidimensional Fortran\n",
      "array, use 'a.T.view(...).T' instead\n",
      "  obj_bytes_view = obj.view(self.np.uint8)\n",
      "/home/ubuntu/Virtualenvs/mateo/lib/python3.4/site-packages/sklearn/metrics/classification.py:1117: UndefinedMetricWarning: F-score is ill-defined and being set to 0.0 due to no predicted samples.\n",
      "  'precision', 'predicted', average, warn_for)\n"
     ]
    },
    {
     "name": "stdout",
     "output_type": "stream",
     "text": [
      "[CV]  base_score=0.01, gamma=0.01, reg_alpha=0.1, n_estimators=15, objective=binary:logistic, max_depth=5, seed=1337, min_child_weight=10, learning_rate=0.001, subsample=0.5, colsample_bytree=1, silent=1, nthread=4 -  26.8s\n",
      "[CV] base_score=0.01, gamma=0.01, reg_alpha=0.1, n_estimators=15, objective=binary:logistic, max_depth=5, seed=1337, min_child_weight=10, learning_rate=0.001, subsample=0.3, colsample_bytree=1, silent=1, nthread=4 \n"
     ]
    },
    {
     "name": "stderr",
     "output_type": "stream",
     "text": [
      "/home/ubuntu/Virtualenvs/mateo/lib/python3.4/site-packages/sklearn/externals/joblib/hashing.py:197: DeprecationWarning: Changing the shape of non-C contiguous array by\n",
      "descriptor assignment is deprecated. To maintain\n",
      "the Fortran contiguity of a multidimensional Fortran\n",
      "array, use 'a.T.view(...).T' instead\n",
      "  obj_bytes_view = obj.view(self.np.uint8)\n",
      "/home/ubuntu/Virtualenvs/mateo/lib/python3.4/site-packages/sklearn/metrics/classification.py:1117: UndefinedMetricWarning: F-score is ill-defined and being set to 0.0 due to no predicted samples.\n",
      "  'precision', 'predicted', average, warn_for)\n"
     ]
    },
    {
     "name": "stdout",
     "output_type": "stream",
     "text": [
      "[CV]  base_score=0.01, gamma=0.01, reg_alpha=0.1, n_estimators=15, objective=binary:logistic, max_depth=5, seed=1337, min_child_weight=10, learning_rate=0.001, subsample=0.5, colsample_bytree=1, silent=1, nthread=4 -  26.6s\n",
      "[CV] base_score=0.01, gamma=0.01, reg_alpha=0.1, n_estimators=15, objective=binary:logistic, max_depth=5, seed=1337, min_child_weight=10, learning_rate=0.001, subsample=0.3, colsample_bytree=1, silent=1, nthread=4 \n"
     ]
    },
    {
     "name": "stderr",
     "output_type": "stream",
     "text": [
      "/home/ubuntu/Virtualenvs/mateo/lib/python3.4/site-packages/sklearn/externals/joblib/hashing.py:197: DeprecationWarning: Changing the shape of non-C contiguous array by\n",
      "descriptor assignment is deprecated. To maintain\n",
      "the Fortran contiguity of a multidimensional Fortran\n",
      "array, use 'a.T.view(...).T' instead\n",
      "  obj_bytes_view = obj.view(self.np.uint8)\n",
      "/home/ubuntu/Virtualenvs/mateo/lib/python3.4/site-packages/sklearn/metrics/classification.py:1117: UndefinedMetricWarning: F-score is ill-defined and being set to 0.0 due to no predicted samples.\n",
      "  'precision', 'predicted', average, warn_for)\n"
     ]
    },
    {
     "name": "stdout",
     "output_type": "stream",
     "text": [
      "[CV]  base_score=0.01, gamma=0.01, reg_alpha=0.1, n_estimators=15, objective=binary:logistic, max_depth=5, seed=1337, min_child_weight=10, learning_rate=0.001, subsample=0.3, colsample_bytree=1, silent=1, nthread=4 -  21.5s\n",
      "[CV] base_score=0.01, gamma=0.01, reg_alpha=1.0, n_estimators=15, objective=binary:logistic, max_depth=5, seed=1337, min_child_weight=10, learning_rate=0.001, subsample=0.8, colsample_bytree=1, silent=1, nthread=4 \n"
     ]
    },
    {
     "name": "stderr",
     "output_type": "stream",
     "text": [
      "/home/ubuntu/Virtualenvs/mateo/lib/python3.4/site-packages/sklearn/externals/joblib/hashing.py:197: DeprecationWarning: Changing the shape of non-C contiguous array by\n",
      "descriptor assignment is deprecated. To maintain\n",
      "the Fortran contiguity of a multidimensional Fortran\n",
      "array, use 'a.T.view(...).T' instead\n",
      "  obj_bytes_view = obj.view(self.np.uint8)\n",
      "/home/ubuntu/Virtualenvs/mateo/lib/python3.4/site-packages/sklearn/metrics/classification.py:1117: UndefinedMetricWarning: F-score is ill-defined and being set to 0.0 due to no predicted samples.\n",
      "  'precision', 'predicted', average, warn_for)\n"
     ]
    },
    {
     "name": "stdout",
     "output_type": "stream",
     "text": [
      "[CV]  base_score=0.01, gamma=0.01, reg_alpha=0.1, n_estimators=15, objective=binary:logistic, max_depth=5, seed=1337, min_child_weight=10, learning_rate=0.001, subsample=0.3, colsample_bytree=1, silent=1, nthread=4 -  21.5s\n",
      "[CV] base_score=0.01, gamma=0.01, reg_alpha=1.0, n_estimators=15, objective=binary:logistic, max_depth=5, seed=1337, min_child_weight=10, learning_rate=0.001, subsample=0.8, colsample_bytree=1, silent=1, nthread=4 \n"
     ]
    },
    {
     "name": "stderr",
     "output_type": "stream",
     "text": [
      "/home/ubuntu/Virtualenvs/mateo/lib/python3.4/site-packages/sklearn/externals/joblib/hashing.py:197: DeprecationWarning: Changing the shape of non-C contiguous array by\n",
      "descriptor assignment is deprecated. To maintain\n",
      "the Fortran contiguity of a multidimensional Fortran\n",
      "array, use 'a.T.view(...).T' instead\n",
      "  obj_bytes_view = obj.view(self.np.uint8)\n",
      "/home/ubuntu/Virtualenvs/mateo/lib/python3.4/site-packages/sklearn/metrics/classification.py:1117: UndefinedMetricWarning: F-score is ill-defined and being set to 0.0 due to no predicted samples.\n",
      "  'precision', 'predicted', average, warn_for)\n"
     ]
    },
    {
     "name": "stdout",
     "output_type": "stream",
     "text": [
      "[CV]  base_score=0.01, gamma=0.01, reg_alpha=0.1, n_estimators=15, objective=binary:logistic, max_depth=5, seed=1337, min_child_weight=10, learning_rate=0.001, subsample=0.3, colsample_bytree=1, silent=1, nthread=4 -  21.1s\n",
      "[CV] base_score=0.01, gamma=0.01, reg_alpha=1.0, n_estimators=15, objective=binary:logistic, max_depth=5, seed=1337, min_child_weight=10, learning_rate=0.001, subsample=0.8, colsample_bytree=1, silent=1, nthread=4 \n"
     ]
    },
    {
     "name": "stderr",
     "output_type": "stream",
     "text": [
      "/home/ubuntu/Virtualenvs/mateo/lib/python3.4/site-packages/sklearn/externals/joblib/hashing.py:197: DeprecationWarning: Changing the shape of non-C contiguous array by\n",
      "descriptor assignment is deprecated. To maintain\n",
      "the Fortran contiguity of a multidimensional Fortran\n",
      "array, use 'a.T.view(...).T' instead\n",
      "  obj_bytes_view = obj.view(self.np.uint8)\n",
      "/home/ubuntu/Virtualenvs/mateo/lib/python3.4/site-packages/sklearn/metrics/classification.py:1117: UndefinedMetricWarning: F-score is ill-defined and being set to 0.0 due to no predicted samples.\n",
      "  'precision', 'predicted', average, warn_for)\n"
     ]
    },
    {
     "name": "stdout",
     "output_type": "stream",
     "text": [
      "[CV]  base_score=0.01, gamma=0.01, reg_alpha=1.0, n_estimators=15, objective=binary:logistic, max_depth=5, seed=1337, min_child_weight=10, learning_rate=0.001, subsample=0.8, colsample_bytree=1, silent=1, nthread=4 -  25.1s\n",
      "[CV] base_score=0.01, gamma=0.01, reg_alpha=1.0, n_estimators=15, objective=binary:logistic, max_depth=5, seed=1337, min_child_weight=10, learning_rate=0.001, subsample=0.5, colsample_bytree=1, silent=1, nthread=4 \n"
     ]
    },
    {
     "name": "stderr",
     "output_type": "stream",
     "text": [
      "/home/ubuntu/Virtualenvs/mateo/lib/python3.4/site-packages/sklearn/externals/joblib/hashing.py:197: DeprecationWarning: Changing the shape of non-C contiguous array by\n",
      "descriptor assignment is deprecated. To maintain\n",
      "the Fortran contiguity of a multidimensional Fortran\n",
      "array, use 'a.T.view(...).T' instead\n",
      "  obj_bytes_view = obj.view(self.np.uint8)\n",
      "/home/ubuntu/Virtualenvs/mateo/lib/python3.4/site-packages/sklearn/metrics/classification.py:1117: UndefinedMetricWarning: F-score is ill-defined and being set to 0.0 due to no predicted samples.\n",
      "  'precision', 'predicted', average, warn_for)\n"
     ]
    },
    {
     "name": "stdout",
     "output_type": "stream",
     "text": [
      "[CV]  base_score=0.01, gamma=0.01, reg_alpha=1.0, n_estimators=15, objective=binary:logistic, max_depth=5, seed=1337, min_child_weight=10, learning_rate=0.001, subsample=0.8, colsample_bytree=1, silent=1, nthread=4 -  25.7s\n",
      "[CV] base_score=0.01, gamma=0.01, reg_alpha=1.0, n_estimators=15, objective=binary:logistic, max_depth=5, seed=1337, min_child_weight=10, learning_rate=0.001, subsample=0.5, colsample_bytree=1, silent=1, nthread=4 \n"
     ]
    },
    {
     "name": "stderr",
     "output_type": "stream",
     "text": [
      "/home/ubuntu/Virtualenvs/mateo/lib/python3.4/site-packages/sklearn/externals/joblib/hashing.py:197: DeprecationWarning: Changing the shape of non-C contiguous array by\n",
      "descriptor assignment is deprecated. To maintain\n",
      "the Fortran contiguity of a multidimensional Fortran\n",
      "array, use 'a.T.view(...).T' instead\n",
      "  obj_bytes_view = obj.view(self.np.uint8)\n",
      "/home/ubuntu/Virtualenvs/mateo/lib/python3.4/site-packages/sklearn/metrics/classification.py:1117: UndefinedMetricWarning: F-score is ill-defined and being set to 0.0 due to no predicted samples.\n",
      "  'precision', 'predicted', average, warn_for)\n"
     ]
    },
    {
     "name": "stdout",
     "output_type": "stream",
     "text": [
      "[CV]  base_score=0.01, gamma=0.01, reg_alpha=1.0, n_estimators=15, objective=binary:logistic, max_depth=5, seed=1337, min_child_weight=10, learning_rate=0.001, subsample=0.8, colsample_bytree=1, silent=1, nthread=4 -  25.3s\n",
      "[CV] base_score=0.01, gamma=0.01, reg_alpha=1.0, n_estimators=15, objective=binary:logistic, max_depth=5, seed=1337, min_child_weight=10, learning_rate=0.001, subsample=0.5, colsample_bytree=1, silent=1, nthread=4 \n"
     ]
    },
    {
     "name": "stderr",
     "output_type": "stream",
     "text": [
      "/home/ubuntu/Virtualenvs/mateo/lib/python3.4/site-packages/sklearn/externals/joblib/hashing.py:197: DeprecationWarning: Changing the shape of non-C contiguous array by\n",
      "descriptor assignment is deprecated. To maintain\n",
      "the Fortran contiguity of a multidimensional Fortran\n",
      "array, use 'a.T.view(...).T' instead\n",
      "  obj_bytes_view = obj.view(self.np.uint8)\n",
      "/home/ubuntu/Virtualenvs/mateo/lib/python3.4/site-packages/sklearn/metrics/classification.py:1117: UndefinedMetricWarning: F-score is ill-defined and being set to 0.0 due to no predicted samples.\n",
      "  'precision', 'predicted', average, warn_for)\n"
     ]
    },
    {
     "name": "stdout",
     "output_type": "stream",
     "text": [
      "[CV]  base_score=0.01, gamma=0.01, reg_alpha=1.0, n_estimators=15, objective=binary:logistic, max_depth=5, seed=1337, min_child_weight=10, learning_rate=0.001, subsample=0.5, colsample_bytree=1, silent=1, nthread=4 -  26.1s\n",
      "[CV] base_score=0.01, gamma=0.01, reg_alpha=1.0, n_estimators=15, objective=binary:logistic, max_depth=5, seed=1337, min_child_weight=10, learning_rate=0.001, subsample=0.3, colsample_bytree=1, silent=1, nthread=4 \n"
     ]
    },
    {
     "name": "stderr",
     "output_type": "stream",
     "text": [
      "/home/ubuntu/Virtualenvs/mateo/lib/python3.4/site-packages/sklearn/externals/joblib/hashing.py:197: DeprecationWarning: Changing the shape of non-C contiguous array by\n",
      "descriptor assignment is deprecated. To maintain\n",
      "the Fortran contiguity of a multidimensional Fortran\n",
      "array, use 'a.T.view(...).T' instead\n",
      "  obj_bytes_view = obj.view(self.np.uint8)\n",
      "/home/ubuntu/Virtualenvs/mateo/lib/python3.4/site-packages/sklearn/metrics/classification.py:1117: UndefinedMetricWarning: F-score is ill-defined and being set to 0.0 due to no predicted samples.\n",
      "  'precision', 'predicted', average, warn_for)\n"
     ]
    },
    {
     "name": "stdout",
     "output_type": "stream",
     "text": [
      "[CV]  base_score=0.01, gamma=0.01, reg_alpha=1.0, n_estimators=15, objective=binary:logistic, max_depth=5, seed=1337, min_child_weight=10, learning_rate=0.001, subsample=0.5, colsample_bytree=1, silent=1, nthread=4 -  26.7s\n",
      "[CV] base_score=0.01, gamma=0.01, reg_alpha=1.0, n_estimators=15, objective=binary:logistic, max_depth=5, seed=1337, min_child_weight=10, learning_rate=0.001, subsample=0.3, colsample_bytree=1, silent=1, nthread=4 \n"
     ]
    },
    {
     "name": "stderr",
     "output_type": "stream",
     "text": [
      "/home/ubuntu/Virtualenvs/mateo/lib/python3.4/site-packages/sklearn/externals/joblib/hashing.py:197: DeprecationWarning: Changing the shape of non-C contiguous array by\n",
      "descriptor assignment is deprecated. To maintain\n",
      "the Fortran contiguity of a multidimensional Fortran\n",
      "array, use 'a.T.view(...).T' instead\n",
      "  obj_bytes_view = obj.view(self.np.uint8)\n",
      "/home/ubuntu/Virtualenvs/mateo/lib/python3.4/site-packages/sklearn/metrics/classification.py:1117: UndefinedMetricWarning: F-score is ill-defined and being set to 0.0 due to no predicted samples.\n",
      "  'precision', 'predicted', average, warn_for)\n"
     ]
    },
    {
     "name": "stdout",
     "output_type": "stream",
     "text": [
      "[CV]  base_score=0.01, gamma=0.01, reg_alpha=1.0, n_estimators=15, objective=binary:logistic, max_depth=5, seed=1337, min_child_weight=10, learning_rate=0.001, subsample=0.5, colsample_bytree=1, silent=1, nthread=4 -  27.2s\n",
      "[CV] base_score=0.01, gamma=0.01, reg_alpha=1.0, n_estimators=15, objective=binary:logistic, max_depth=5, seed=1337, min_child_weight=10, learning_rate=0.001, subsample=0.3, colsample_bytree=1, silent=1, nthread=4 \n"
     ]
    },
    {
     "name": "stderr",
     "output_type": "stream",
     "text": [
      "/home/ubuntu/Virtualenvs/mateo/lib/python3.4/site-packages/sklearn/externals/joblib/hashing.py:197: DeprecationWarning: Changing the shape of non-C contiguous array by\n",
      "descriptor assignment is deprecated. To maintain\n",
      "the Fortran contiguity of a multidimensional Fortran\n",
      "array, use 'a.T.view(...).T' instead\n",
      "  obj_bytes_view = obj.view(self.np.uint8)\n",
      "/home/ubuntu/Virtualenvs/mateo/lib/python3.4/site-packages/sklearn/metrics/classification.py:1117: UndefinedMetricWarning: F-score is ill-defined and being set to 0.0 due to no predicted samples.\n",
      "  'precision', 'predicted', average, warn_for)\n"
     ]
    },
    {
     "name": "stdout",
     "output_type": "stream",
     "text": [
      "[CV]  base_score=0.01, gamma=0.01, reg_alpha=1.0, n_estimators=15, objective=binary:logistic, max_depth=5, seed=1337, min_child_weight=10, learning_rate=0.001, subsample=0.3, colsample_bytree=1, silent=1, nthread=4 -  21.2s\n",
      "[CV] base_score=0.01, gamma=0.01, reg_alpha=0.01, n_estimators=30, objective=binary:logistic, max_depth=5, seed=1337, min_child_weight=10, learning_rate=0.001, subsample=0.8, colsample_bytree=1, silent=1, nthread=4 \n"
     ]
    },
    {
     "name": "stderr",
     "output_type": "stream",
     "text": [
      "/home/ubuntu/Virtualenvs/mateo/lib/python3.4/site-packages/sklearn/externals/joblib/hashing.py:197: DeprecationWarning: Changing the shape of non-C contiguous array by\n",
      "descriptor assignment is deprecated. To maintain\n",
      "the Fortran contiguity of a multidimensional Fortran\n",
      "array, use 'a.T.view(...).T' instead\n",
      "  obj_bytes_view = obj.view(self.np.uint8)\n",
      "/home/ubuntu/Virtualenvs/mateo/lib/python3.4/site-packages/sklearn/metrics/classification.py:1117: UndefinedMetricWarning: F-score is ill-defined and being set to 0.0 due to no predicted samples.\n",
      "  'precision', 'predicted', average, warn_for)\n"
     ]
    },
    {
     "name": "stdout",
     "output_type": "stream",
     "text": [
      "[CV]  base_score=0.01, gamma=0.01, reg_alpha=1.0, n_estimators=15, objective=binary:logistic, max_depth=5, seed=1337, min_child_weight=10, learning_rate=0.001, subsample=0.3, colsample_bytree=1, silent=1, nthread=4 -  22.1s\n",
      "[CV] base_score=0.01, gamma=0.01, reg_alpha=0.01, n_estimators=30, objective=binary:logistic, max_depth=5, seed=1337, min_child_weight=10, learning_rate=0.001, subsample=0.8, colsample_bytree=1, silent=1, nthread=4 \n"
     ]
    },
    {
     "name": "stderr",
     "output_type": "stream",
     "text": [
      "/home/ubuntu/Virtualenvs/mateo/lib/python3.4/site-packages/sklearn/externals/joblib/hashing.py:197: DeprecationWarning: Changing the shape of non-C contiguous array by\n",
      "descriptor assignment is deprecated. To maintain\n",
      "the Fortran contiguity of a multidimensional Fortran\n",
      "array, use 'a.T.view(...).T' instead\n",
      "  obj_bytes_view = obj.view(self.np.uint8)\n",
      "/home/ubuntu/Virtualenvs/mateo/lib/python3.4/site-packages/sklearn/metrics/classification.py:1117: UndefinedMetricWarning: F-score is ill-defined and being set to 0.0 due to no predicted samples.\n",
      "  'precision', 'predicted', average, warn_for)\n"
     ]
    },
    {
     "name": "stdout",
     "output_type": "stream",
     "text": [
      "[CV]  base_score=0.01, gamma=0.01, reg_alpha=1.0, n_estimators=15, objective=binary:logistic, max_depth=5, seed=1337, min_child_weight=10, learning_rate=0.001, subsample=0.3, colsample_bytree=1, silent=1, nthread=4 -  21.7s\n",
      "[CV] base_score=0.01, gamma=0.01, reg_alpha=0.01, n_estimators=30, objective=binary:logistic, max_depth=5, seed=1337, min_child_weight=10, learning_rate=0.001, subsample=0.8, colsample_bytree=1, silent=1, nthread=4 \n"
     ]
    },
    {
     "name": "stderr",
     "output_type": "stream",
     "text": [
      "/home/ubuntu/Virtualenvs/mateo/lib/python3.4/site-packages/sklearn/externals/joblib/hashing.py:197: DeprecationWarning: Changing the shape of non-C contiguous array by\n",
      "descriptor assignment is deprecated. To maintain\n",
      "the Fortran contiguity of a multidimensional Fortran\n",
      "array, use 'a.T.view(...).T' instead\n",
      "  obj_bytes_view = obj.view(self.np.uint8)\n",
      "/home/ubuntu/Virtualenvs/mateo/lib/python3.4/site-packages/sklearn/metrics/classification.py:1117: UndefinedMetricWarning: F-score is ill-defined and being set to 0.0 due to no predicted samples.\n",
      "  'precision', 'predicted', average, warn_for)\n"
     ]
    },
    {
     "name": "stdout",
     "output_type": "stream",
     "text": [
      "[CV]  base_score=0.01, gamma=0.01, reg_alpha=0.01, n_estimators=30, objective=binary:logistic, max_depth=5, seed=1337, min_child_weight=10, learning_rate=0.001, subsample=0.8, colsample_bytree=1, silent=1, nthread=4 -  45.9s\n",
      "[CV] base_score=0.01, gamma=0.01, reg_alpha=0.01, n_estimators=30, objective=binary:logistic, max_depth=5, seed=1337, min_child_weight=10, learning_rate=0.001, subsample=0.5, colsample_bytree=1, silent=1, nthread=4 \n"
     ]
    },
    {
     "name": "stderr",
     "output_type": "stream",
     "text": [
      "/home/ubuntu/Virtualenvs/mateo/lib/python3.4/site-packages/sklearn/externals/joblib/hashing.py:197: DeprecationWarning: Changing the shape of non-C contiguous array by\n",
      "descriptor assignment is deprecated. To maintain\n",
      "the Fortran contiguity of a multidimensional Fortran\n",
      "array, use 'a.T.view(...).T' instead\n",
      "  obj_bytes_view = obj.view(self.np.uint8)\n",
      "/home/ubuntu/Virtualenvs/mateo/lib/python3.4/site-packages/sklearn/metrics/classification.py:1117: UndefinedMetricWarning: F-score is ill-defined and being set to 0.0 due to no predicted samples.\n",
      "  'precision', 'predicted', average, warn_for)\n"
     ]
    },
    {
     "name": "stdout",
     "output_type": "stream",
     "text": [
      "[CV]  base_score=0.01, gamma=0.01, reg_alpha=0.01, n_estimators=30, objective=binary:logistic, max_depth=5, seed=1337, min_child_weight=10, learning_rate=0.001, subsample=0.8, colsample_bytree=1, silent=1, nthread=4 -  47.0s\n",
      "[CV] base_score=0.01, gamma=0.01, reg_alpha=0.01, n_estimators=30, objective=binary:logistic, max_depth=5, seed=1337, min_child_weight=10, learning_rate=0.001, subsample=0.5, colsample_bytree=1, silent=1, nthread=4 \n"
     ]
    },
    {
     "name": "stderr",
     "output_type": "stream",
     "text": [
      "/home/ubuntu/Virtualenvs/mateo/lib/python3.4/site-packages/sklearn/externals/joblib/hashing.py:197: DeprecationWarning: Changing the shape of non-C contiguous array by\n",
      "descriptor assignment is deprecated. To maintain\n",
      "the Fortran contiguity of a multidimensional Fortran\n",
      "array, use 'a.T.view(...).T' instead\n",
      "  obj_bytes_view = obj.view(self.np.uint8)\n",
      "/home/ubuntu/Virtualenvs/mateo/lib/python3.4/site-packages/sklearn/metrics/classification.py:1117: UndefinedMetricWarning: F-score is ill-defined and being set to 0.0 due to no predicted samples.\n",
      "  'precision', 'predicted', average, warn_for)\n"
     ]
    },
    {
     "name": "stdout",
     "output_type": "stream",
     "text": [
      "[CV]  base_score=0.01, gamma=0.01, reg_alpha=0.01, n_estimators=30, objective=binary:logistic, max_depth=5, seed=1337, min_child_weight=10, learning_rate=0.001, subsample=0.8, colsample_bytree=1, silent=1, nthread=4 -  47.0s\n",
      "[CV] base_score=0.01, gamma=0.01, reg_alpha=0.01, n_estimators=30, objective=binary:logistic, max_depth=5, seed=1337, min_child_weight=10, learning_rate=0.001, subsample=0.5, colsample_bytree=1, silent=1, nthread=4 \n"
     ]
    },
    {
     "name": "stderr",
     "output_type": "stream",
     "text": [
      "/home/ubuntu/Virtualenvs/mateo/lib/python3.4/site-packages/sklearn/externals/joblib/hashing.py:197: DeprecationWarning: Changing the shape of non-C contiguous array by\n",
      "descriptor assignment is deprecated. To maintain\n",
      "the Fortran contiguity of a multidimensional Fortran\n",
      "array, use 'a.T.view(...).T' instead\n",
      "  obj_bytes_view = obj.view(self.np.uint8)\n",
      "/home/ubuntu/Virtualenvs/mateo/lib/python3.4/site-packages/sklearn/metrics/classification.py:1117: UndefinedMetricWarning: F-score is ill-defined and being set to 0.0 due to no predicted samples.\n",
      "  'precision', 'predicted', average, warn_for)\n"
     ]
    },
    {
     "name": "stdout",
     "output_type": "stream",
     "text": [
      "[CV]  base_score=0.01, gamma=0.01, reg_alpha=0.01, n_estimators=30, objective=binary:logistic, max_depth=5, seed=1337, min_child_weight=10, learning_rate=0.001, subsample=0.5, colsample_bytree=1, silent=1, nthread=4 -  50.3s\n",
      "[CV] base_score=0.01, gamma=0.01, reg_alpha=0.01, n_estimators=30, objective=binary:logistic, max_depth=5, seed=1337, min_child_weight=10, learning_rate=0.001, subsample=0.3, colsample_bytree=1, silent=1, nthread=4 \n"
     ]
    },
    {
     "name": "stderr",
     "output_type": "stream",
     "text": [
      "/home/ubuntu/Virtualenvs/mateo/lib/python3.4/site-packages/sklearn/externals/joblib/hashing.py:197: DeprecationWarning: Changing the shape of non-C contiguous array by\n",
      "descriptor assignment is deprecated. To maintain\n",
      "the Fortran contiguity of a multidimensional Fortran\n",
      "array, use 'a.T.view(...).T' instead\n",
      "  obj_bytes_view = obj.view(self.np.uint8)\n",
      "/home/ubuntu/Virtualenvs/mateo/lib/python3.4/site-packages/sklearn/metrics/classification.py:1117: UndefinedMetricWarning: F-score is ill-defined and being set to 0.0 due to no predicted samples.\n",
      "  'precision', 'predicted', average, warn_for)\n"
     ]
    },
    {
     "name": "stdout",
     "output_type": "stream",
     "text": [
      "[CV]  base_score=0.01, gamma=0.01, reg_alpha=0.01, n_estimators=30, objective=binary:logistic, max_depth=5, seed=1337, min_child_weight=10, learning_rate=0.001, subsample=0.5, colsample_bytree=1, silent=1, nthread=4 -  50.1s\n",
      "[CV] base_score=0.01, gamma=0.01, reg_alpha=0.01, n_estimators=30, objective=binary:logistic, max_depth=5, seed=1337, min_child_weight=10, learning_rate=0.001, subsample=0.3, colsample_bytree=1, silent=1, nthread=4 \n"
     ]
    },
    {
     "name": "stderr",
     "output_type": "stream",
     "text": [
      "/home/ubuntu/Virtualenvs/mateo/lib/python3.4/site-packages/sklearn/externals/joblib/hashing.py:197: DeprecationWarning: Changing the shape of non-C contiguous array by\n",
      "descriptor assignment is deprecated. To maintain\n",
      "the Fortran contiguity of a multidimensional Fortran\n",
      "array, use 'a.T.view(...).T' instead\n",
      "  obj_bytes_view = obj.view(self.np.uint8)\n",
      "/home/ubuntu/Virtualenvs/mateo/lib/python3.4/site-packages/sklearn/metrics/classification.py:1117: UndefinedMetricWarning: F-score is ill-defined and being set to 0.0 due to no predicted samples.\n",
      "  'precision', 'predicted', average, warn_for)\n"
     ]
    },
    {
     "name": "stdout",
     "output_type": "stream",
     "text": [
      "[CV]  base_score=0.01, gamma=0.01, reg_alpha=0.01, n_estimators=30, objective=binary:logistic, max_depth=5, seed=1337, min_child_weight=10, learning_rate=0.001, subsample=0.5, colsample_bytree=1, silent=1, nthread=4 -  50.9s\n",
      "[CV] base_score=0.01, gamma=0.01, reg_alpha=0.01, n_estimators=30, objective=binary:logistic, max_depth=5, seed=1337, min_child_weight=10, learning_rate=0.001, subsample=0.3, colsample_bytree=1, silent=1, nthread=4 \n"
     ]
    },
    {
     "name": "stderr",
     "output_type": "stream",
     "text": [
      "/home/ubuntu/Virtualenvs/mateo/lib/python3.4/site-packages/sklearn/externals/joblib/hashing.py:197: DeprecationWarning: Changing the shape of non-C contiguous array by\n",
      "descriptor assignment is deprecated. To maintain\n",
      "the Fortran contiguity of a multidimensional Fortran\n",
      "array, use 'a.T.view(...).T' instead\n",
      "  obj_bytes_view = obj.view(self.np.uint8)\n",
      "/home/ubuntu/Virtualenvs/mateo/lib/python3.4/site-packages/sklearn/metrics/classification.py:1117: UndefinedMetricWarning: F-score is ill-defined and being set to 0.0 due to no predicted samples.\n",
      "  'precision', 'predicted', average, warn_for)\n"
     ]
    },
    {
     "name": "stdout",
     "output_type": "stream",
     "text": [
      "[CV]  base_score=0.01, gamma=0.01, reg_alpha=0.01, n_estimators=30, objective=binary:logistic, max_depth=5, seed=1337, min_child_weight=10, learning_rate=0.001, subsample=0.3, colsample_bytree=1, silent=1, nthread=4 -  39.7s\n",
      "[CV] base_score=0.01, gamma=0.01, reg_alpha=0.1, n_estimators=30, objective=binary:logistic, max_depth=5, seed=1337, min_child_weight=10, learning_rate=0.001, subsample=0.8, colsample_bytree=1, silent=1, nthread=4 \n"
     ]
    },
    {
     "name": "stderr",
     "output_type": "stream",
     "text": [
      "/home/ubuntu/Virtualenvs/mateo/lib/python3.4/site-packages/sklearn/externals/joblib/hashing.py:197: DeprecationWarning: Changing the shape of non-C contiguous array by\n",
      "descriptor assignment is deprecated. To maintain\n",
      "the Fortran contiguity of a multidimensional Fortran\n",
      "array, use 'a.T.view(...).T' instead\n",
      "  obj_bytes_view = obj.view(self.np.uint8)\n",
      "/home/ubuntu/Virtualenvs/mateo/lib/python3.4/site-packages/sklearn/metrics/classification.py:1117: UndefinedMetricWarning: F-score is ill-defined and being set to 0.0 due to no predicted samples.\n",
      "  'precision', 'predicted', average, warn_for)\n"
     ]
    },
    {
     "name": "stdout",
     "output_type": "stream",
     "text": [
      "[CV]  base_score=0.01, gamma=0.01, reg_alpha=0.01, n_estimators=30, objective=binary:logistic, max_depth=5, seed=1337, min_child_weight=10, learning_rate=0.001, subsample=0.3, colsample_bytree=1, silent=1, nthread=4 -  39.3s\n",
      "[CV] base_score=0.01, gamma=0.01, reg_alpha=0.1, n_estimators=30, objective=binary:logistic, max_depth=5, seed=1337, min_child_weight=10, learning_rate=0.001, subsample=0.8, colsample_bytree=1, silent=1, nthread=4 \n"
     ]
    },
    {
     "name": "stderr",
     "output_type": "stream",
     "text": [
      "/home/ubuntu/Virtualenvs/mateo/lib/python3.4/site-packages/sklearn/externals/joblib/hashing.py:197: DeprecationWarning: Changing the shape of non-C contiguous array by\n",
      "descriptor assignment is deprecated. To maintain\n",
      "the Fortran contiguity of a multidimensional Fortran\n",
      "array, use 'a.T.view(...).T' instead\n",
      "  obj_bytes_view = obj.view(self.np.uint8)\n",
      "/home/ubuntu/Virtualenvs/mateo/lib/python3.4/site-packages/sklearn/metrics/classification.py:1117: UndefinedMetricWarning: F-score is ill-defined and being set to 0.0 due to no predicted samples.\n",
      "  'precision', 'predicted', average, warn_for)\n"
     ]
    },
    {
     "name": "stdout",
     "output_type": "stream",
     "text": [
      "[CV]  base_score=0.01, gamma=0.01, reg_alpha=0.01, n_estimators=30, objective=binary:logistic, max_depth=5, seed=1337, min_child_weight=10, learning_rate=0.001, subsample=0.3, colsample_bytree=1, silent=1, nthread=4 -  39.3s\n",
      "[CV] base_score=0.01, gamma=0.01, reg_alpha=0.1, n_estimators=30, objective=binary:logistic, max_depth=5, seed=1337, min_child_weight=10, learning_rate=0.001, subsample=0.8, colsample_bytree=1, silent=1, nthread=4 \n"
     ]
    },
    {
     "name": "stderr",
     "output_type": "stream",
     "text": [
      "/home/ubuntu/Virtualenvs/mateo/lib/python3.4/site-packages/sklearn/externals/joblib/hashing.py:197: DeprecationWarning: Changing the shape of non-C contiguous array by\n",
      "descriptor assignment is deprecated. To maintain\n",
      "the Fortran contiguity of a multidimensional Fortran\n",
      "array, use 'a.T.view(...).T' instead\n",
      "  obj_bytes_view = obj.view(self.np.uint8)\n",
      "/home/ubuntu/Virtualenvs/mateo/lib/python3.4/site-packages/sklearn/metrics/classification.py:1117: UndefinedMetricWarning: F-score is ill-defined and being set to 0.0 due to no predicted samples.\n",
      "  'precision', 'predicted', average, warn_for)\n"
     ]
    },
    {
     "name": "stdout",
     "output_type": "stream",
     "text": [
      "[CV]  base_score=0.01, gamma=0.01, reg_alpha=0.1, n_estimators=30, objective=binary:logistic, max_depth=5, seed=1337, min_child_weight=10, learning_rate=0.001, subsample=0.8, colsample_bytree=1, silent=1, nthread=4 -  48.7s\n",
      "[CV] base_score=0.01, gamma=0.01, reg_alpha=0.1, n_estimators=30, objective=binary:logistic, max_depth=5, seed=1337, min_child_weight=10, learning_rate=0.001, subsample=0.5, colsample_bytree=1, silent=1, nthread=4 \n"
     ]
    },
    {
     "name": "stderr",
     "output_type": "stream",
     "text": [
      "/home/ubuntu/Virtualenvs/mateo/lib/python3.4/site-packages/sklearn/externals/joblib/hashing.py:197: DeprecationWarning: Changing the shape of non-C contiguous array by\n",
      "descriptor assignment is deprecated. To maintain\n",
      "the Fortran contiguity of a multidimensional Fortran\n",
      "array, use 'a.T.view(...).T' instead\n",
      "  obj_bytes_view = obj.view(self.np.uint8)\n",
      "/home/ubuntu/Virtualenvs/mateo/lib/python3.4/site-packages/sklearn/metrics/classification.py:1117: UndefinedMetricWarning: F-score is ill-defined and being set to 0.0 due to no predicted samples.\n",
      "  'precision', 'predicted', average, warn_for)\n"
     ]
    },
    {
     "name": "stdout",
     "output_type": "stream",
     "text": [
      "[CV]  base_score=0.01, gamma=0.01, reg_alpha=0.1, n_estimators=30, objective=binary:logistic, max_depth=5, seed=1337, min_child_weight=10, learning_rate=0.001, subsample=0.8, colsample_bytree=1, silent=1, nthread=4 -  55.1s\n",
      "[CV] base_score=0.01, gamma=0.01, reg_alpha=0.1, n_estimators=30, objective=binary:logistic, max_depth=5, seed=1337, min_child_weight=10, learning_rate=0.001, subsample=0.5, colsample_bytree=1, silent=1, nthread=4 \n"
     ]
    },
    {
     "name": "stderr",
     "output_type": "stream",
     "text": [
      "/home/ubuntu/Virtualenvs/mateo/lib/python3.4/site-packages/sklearn/externals/joblib/hashing.py:197: DeprecationWarning: Changing the shape of non-C contiguous array by\n",
      "descriptor assignment is deprecated. To maintain\n",
      "the Fortran contiguity of a multidimensional Fortran\n",
      "array, use 'a.T.view(...).T' instead\n",
      "  obj_bytes_view = obj.view(self.np.uint8)\n",
      "/home/ubuntu/Virtualenvs/mateo/lib/python3.4/site-packages/sklearn/metrics/classification.py:1117: UndefinedMetricWarning: F-score is ill-defined and being set to 0.0 due to no predicted samples.\n",
      "  'precision', 'predicted', average, warn_for)\n"
     ]
    },
    {
     "name": "stdout",
     "output_type": "stream",
     "text": [
      "[CV]  base_score=0.01, gamma=0.01, reg_alpha=0.1, n_estimators=30, objective=binary:logistic, max_depth=5, seed=1337, min_child_weight=10, learning_rate=0.001, subsample=0.8, colsample_bytree=1, silent=1, nthread=4 -  54.1s\n",
      "[CV] base_score=0.01, gamma=0.01, reg_alpha=0.1, n_estimators=30, objective=binary:logistic, max_depth=5, seed=1337, min_child_weight=10, learning_rate=0.001, subsample=0.5, colsample_bytree=1, silent=1, nthread=4 \n"
     ]
    },
    {
     "name": "stderr",
     "output_type": "stream",
     "text": [
      "/home/ubuntu/Virtualenvs/mateo/lib/python3.4/site-packages/sklearn/externals/joblib/hashing.py:197: DeprecationWarning: Changing the shape of non-C contiguous array by\n",
      "descriptor assignment is deprecated. To maintain\n",
      "the Fortran contiguity of a multidimensional Fortran\n",
      "array, use 'a.T.view(...).T' instead\n",
      "  obj_bytes_view = obj.view(self.np.uint8)\n",
      "/home/ubuntu/Virtualenvs/mateo/lib/python3.4/site-packages/sklearn/metrics/classification.py:1117: UndefinedMetricWarning: F-score is ill-defined and being set to 0.0 due to no predicted samples.\n",
      "  'precision', 'predicted', average, warn_for)\n"
     ]
    },
    {
     "name": "stdout",
     "output_type": "stream",
     "text": [
      "[CV]  base_score=0.01, gamma=0.01, reg_alpha=0.1, n_estimators=30, objective=binary:logistic, max_depth=5, seed=1337, min_child_weight=10, learning_rate=0.001, subsample=0.5, colsample_bytree=1, silent=1, nthread=4 -  52.5s\n",
      "[CV] base_score=0.01, gamma=0.01, reg_alpha=0.1, n_estimators=30, objective=binary:logistic, max_depth=5, seed=1337, min_child_weight=10, learning_rate=0.001, subsample=0.3, colsample_bytree=1, silent=1, nthread=4 \n"
     ]
    },
    {
     "name": "stderr",
     "output_type": "stream",
     "text": [
      "/home/ubuntu/Virtualenvs/mateo/lib/python3.4/site-packages/sklearn/externals/joblib/hashing.py:197: DeprecationWarning: Changing the shape of non-C contiguous array by\n",
      "descriptor assignment is deprecated. To maintain\n",
      "the Fortran contiguity of a multidimensional Fortran\n",
      "array, use 'a.T.view(...).T' instead\n",
      "  obj_bytes_view = obj.view(self.np.uint8)\n",
      "/home/ubuntu/Virtualenvs/mateo/lib/python3.4/site-packages/sklearn/metrics/classification.py:1117: UndefinedMetricWarning: F-score is ill-defined and being set to 0.0 due to no predicted samples.\n",
      "  'precision', 'predicted', average, warn_for)\n"
     ]
    },
    {
     "name": "stdout",
     "output_type": "stream",
     "text": [
      "[CV]  base_score=0.01, gamma=0.01, reg_alpha=0.1, n_estimators=30, objective=binary:logistic, max_depth=5, seed=1337, min_child_weight=10, learning_rate=0.001, subsample=0.5, colsample_bytree=1, silent=1, nthread=4 -  49.5s\n",
      "[CV] base_score=0.01, gamma=0.01, reg_alpha=0.1, n_estimators=30, objective=binary:logistic, max_depth=5, seed=1337, min_child_weight=10, learning_rate=0.001, subsample=0.3, colsample_bytree=1, silent=1, nthread=4 \n"
     ]
    },
    {
     "name": "stderr",
     "output_type": "stream",
     "text": [
      "/home/ubuntu/Virtualenvs/mateo/lib/python3.4/site-packages/sklearn/externals/joblib/hashing.py:197: DeprecationWarning: Changing the shape of non-C contiguous array by\n",
      "descriptor assignment is deprecated. To maintain\n",
      "the Fortran contiguity of a multidimensional Fortran\n",
      "array, use 'a.T.view(...).T' instead\n",
      "  obj_bytes_view = obj.view(self.np.uint8)\n",
      "/home/ubuntu/Virtualenvs/mateo/lib/python3.4/site-packages/sklearn/metrics/classification.py:1117: UndefinedMetricWarning: F-score is ill-defined and being set to 0.0 due to no predicted samples.\n",
      "  'precision', 'predicted', average, warn_for)\n"
     ]
    },
    {
     "name": "stdout",
     "output_type": "stream",
     "text": [
      "[CV]  base_score=0.01, gamma=0.01, reg_alpha=0.1, n_estimators=30, objective=binary:logistic, max_depth=5, seed=1337, min_child_weight=10, learning_rate=0.001, subsample=0.5, colsample_bytree=1, silent=1, nthread=4 -  51.0s\n",
      "[CV] base_score=0.01, gamma=0.01, reg_alpha=0.1, n_estimators=30, objective=binary:logistic, max_depth=5, seed=1337, min_child_weight=10, learning_rate=0.001, subsample=0.3, colsample_bytree=1, silent=1, nthread=4 \n"
     ]
    },
    {
     "name": "stderr",
     "output_type": "stream",
     "text": [
      "/home/ubuntu/Virtualenvs/mateo/lib/python3.4/site-packages/sklearn/externals/joblib/hashing.py:197: DeprecationWarning: Changing the shape of non-C contiguous array by\n",
      "descriptor assignment is deprecated. To maintain\n",
      "the Fortran contiguity of a multidimensional Fortran\n",
      "array, use 'a.T.view(...).T' instead\n",
      "  obj_bytes_view = obj.view(self.np.uint8)\n",
      "/home/ubuntu/Virtualenvs/mateo/lib/python3.4/site-packages/sklearn/metrics/classification.py:1117: UndefinedMetricWarning: F-score is ill-defined and being set to 0.0 due to no predicted samples.\n",
      "  'precision', 'predicted', average, warn_for)\n"
     ]
    },
    {
     "name": "stdout",
     "output_type": "stream",
     "text": [
      "[CV]  base_score=0.01, gamma=0.01, reg_alpha=0.1, n_estimators=30, objective=binary:logistic, max_depth=5, seed=1337, min_child_weight=10, learning_rate=0.001, subsample=0.3, colsample_bytree=1, silent=1, nthread=4 -  39.6s\n",
      "[CV] base_score=0.01, gamma=0.01, reg_alpha=1.0, n_estimators=30, objective=binary:logistic, max_depth=5, seed=1337, min_child_weight=10, learning_rate=0.001, subsample=0.8, colsample_bytree=1, silent=1, nthread=4 \n"
     ]
    },
    {
     "name": "stderr",
     "output_type": "stream",
     "text": [
      "/home/ubuntu/Virtualenvs/mateo/lib/python3.4/site-packages/sklearn/externals/joblib/hashing.py:197: DeprecationWarning: Changing the shape of non-C contiguous array by\n",
      "descriptor assignment is deprecated. To maintain\n",
      "the Fortran contiguity of a multidimensional Fortran\n",
      "array, use 'a.T.view(...).T' instead\n",
      "  obj_bytes_view = obj.view(self.np.uint8)\n",
      "/home/ubuntu/Virtualenvs/mateo/lib/python3.4/site-packages/sklearn/metrics/classification.py:1117: UndefinedMetricWarning: F-score is ill-defined and being set to 0.0 due to no predicted samples.\n",
      "  'precision', 'predicted', average, warn_for)\n"
     ]
    },
    {
     "name": "stdout",
     "output_type": "stream",
     "text": [
      "[CV]  base_score=0.01, gamma=0.01, reg_alpha=0.1, n_estimators=30, objective=binary:logistic, max_depth=5, seed=1337, min_child_weight=10, learning_rate=0.001, subsample=0.3, colsample_bytree=1, silent=1, nthread=4 -  40.1s\n",
      "[CV] base_score=0.01, gamma=0.01, reg_alpha=1.0, n_estimators=30, objective=binary:logistic, max_depth=5, seed=1337, min_child_weight=10, learning_rate=0.001, subsample=0.8, colsample_bytree=1, silent=1, nthread=4 \n"
     ]
    },
    {
     "name": "stderr",
     "output_type": "stream",
     "text": [
      "/home/ubuntu/Virtualenvs/mateo/lib/python3.4/site-packages/sklearn/externals/joblib/hashing.py:197: DeprecationWarning: Changing the shape of non-C contiguous array by\n",
      "descriptor assignment is deprecated. To maintain\n",
      "the Fortran contiguity of a multidimensional Fortran\n",
      "array, use 'a.T.view(...).T' instead\n",
      "  obj_bytes_view = obj.view(self.np.uint8)\n",
      "/home/ubuntu/Virtualenvs/mateo/lib/python3.4/site-packages/sklearn/metrics/classification.py:1117: UndefinedMetricWarning: F-score is ill-defined and being set to 0.0 due to no predicted samples.\n",
      "  'precision', 'predicted', average, warn_for)\n"
     ]
    },
    {
     "name": "stdout",
     "output_type": "stream",
     "text": [
      "[CV]  base_score=0.01, gamma=0.01, reg_alpha=0.1, n_estimators=30, objective=binary:logistic, max_depth=5, seed=1337, min_child_weight=10, learning_rate=0.001, subsample=0.3, colsample_bytree=1, silent=1, nthread=4 -  40.1s\n",
      "[CV] base_score=0.01, gamma=0.01, reg_alpha=1.0, n_estimators=30, objective=binary:logistic, max_depth=5, seed=1337, min_child_weight=10, learning_rate=0.001, subsample=0.8, colsample_bytree=1, silent=1, nthread=4 \n"
     ]
    },
    {
     "name": "stderr",
     "output_type": "stream",
     "text": [
      "/home/ubuntu/Virtualenvs/mateo/lib/python3.4/site-packages/sklearn/externals/joblib/hashing.py:197: DeprecationWarning: Changing the shape of non-C contiguous array by\n",
      "descriptor assignment is deprecated. To maintain\n",
      "the Fortran contiguity of a multidimensional Fortran\n",
      "array, use 'a.T.view(...).T' instead\n",
      "  obj_bytes_view = obj.view(self.np.uint8)\n",
      "/home/ubuntu/Virtualenvs/mateo/lib/python3.4/site-packages/sklearn/metrics/classification.py:1117: UndefinedMetricWarning: F-score is ill-defined and being set to 0.0 due to no predicted samples.\n",
      "  'precision', 'predicted', average, warn_for)\n"
     ]
    },
    {
     "name": "stdout",
     "output_type": "stream",
     "text": [
      "[CV]  base_score=0.01, gamma=0.01, reg_alpha=1.0, n_estimators=30, objective=binary:logistic, max_depth=5, seed=1337, min_child_weight=10, learning_rate=0.001, subsample=0.8, colsample_bytree=1, silent=1, nthread=4 -  47.7s\n",
      "[CV] base_score=0.01, gamma=0.01, reg_alpha=1.0, n_estimators=30, objective=binary:logistic, max_depth=5, seed=1337, min_child_weight=10, learning_rate=0.001, subsample=0.5, colsample_bytree=1, silent=1, nthread=4 \n"
     ]
    },
    {
     "name": "stderr",
     "output_type": "stream",
     "text": [
      "/home/ubuntu/Virtualenvs/mateo/lib/python3.4/site-packages/sklearn/externals/joblib/hashing.py:197: DeprecationWarning: Changing the shape of non-C contiguous array by\n",
      "descriptor assignment is deprecated. To maintain\n",
      "the Fortran contiguity of a multidimensional Fortran\n",
      "array, use 'a.T.view(...).T' instead\n",
      "  obj_bytes_view = obj.view(self.np.uint8)\n",
      "/home/ubuntu/Virtualenvs/mateo/lib/python3.4/site-packages/sklearn/metrics/classification.py:1117: UndefinedMetricWarning: F-score is ill-defined and being set to 0.0 due to no predicted samples.\n",
      "  'precision', 'predicted', average, warn_for)\n"
     ]
    },
    {
     "name": "stdout",
     "output_type": "stream",
     "text": [
      "[CV]  base_score=0.01, gamma=0.01, reg_alpha=1.0, n_estimators=30, objective=binary:logistic, max_depth=5, seed=1337, min_child_weight=10, learning_rate=0.001, subsample=0.8, colsample_bytree=1, silent=1, nthread=4 -  48.2s\n",
      "[CV] base_score=0.01, gamma=0.01, reg_alpha=1.0, n_estimators=30, objective=binary:logistic, max_depth=5, seed=1337, min_child_weight=10, learning_rate=0.001, subsample=0.5, colsample_bytree=1, silent=1, nthread=4 \n"
     ]
    },
    {
     "name": "stderr",
     "output_type": "stream",
     "text": [
      "/home/ubuntu/Virtualenvs/mateo/lib/python3.4/site-packages/sklearn/externals/joblib/hashing.py:197: DeprecationWarning: Changing the shape of non-C contiguous array by\n",
      "descriptor assignment is deprecated. To maintain\n",
      "the Fortran contiguity of a multidimensional Fortran\n",
      "array, use 'a.T.view(...).T' instead\n",
      "  obj_bytes_view = obj.view(self.np.uint8)\n",
      "/home/ubuntu/Virtualenvs/mateo/lib/python3.4/site-packages/sklearn/metrics/classification.py:1117: UndefinedMetricWarning: F-score is ill-defined and being set to 0.0 due to no predicted samples.\n",
      "  'precision', 'predicted', average, warn_for)\n"
     ]
    },
    {
     "name": "stdout",
     "output_type": "stream",
     "text": [
      "[CV]  base_score=0.01, gamma=0.01, reg_alpha=1.0, n_estimators=30, objective=binary:logistic, max_depth=5, seed=1337, min_child_weight=10, learning_rate=0.001, subsample=0.8, colsample_bytree=1, silent=1, nthread=4 -  46.3s\n",
      "[CV] base_score=0.01, gamma=0.01, reg_alpha=1.0, n_estimators=30, objective=binary:logistic, max_depth=5, seed=1337, min_child_weight=10, learning_rate=0.001, subsample=0.5, colsample_bytree=1, silent=1, nthread=4 \n"
     ]
    },
    {
     "name": "stderr",
     "output_type": "stream",
     "text": [
      "/home/ubuntu/Virtualenvs/mateo/lib/python3.4/site-packages/sklearn/externals/joblib/hashing.py:197: DeprecationWarning: Changing the shape of non-C contiguous array by\n",
      "descriptor assignment is deprecated. To maintain\n",
      "the Fortran contiguity of a multidimensional Fortran\n",
      "array, use 'a.T.view(...).T' instead\n",
      "  obj_bytes_view = obj.view(self.np.uint8)\n",
      "/home/ubuntu/Virtualenvs/mateo/lib/python3.4/site-packages/sklearn/metrics/classification.py:1117: UndefinedMetricWarning: F-score is ill-defined and being set to 0.0 due to no predicted samples.\n",
      "  'precision', 'predicted', average, warn_for)\n"
     ]
    },
    {
     "name": "stdout",
     "output_type": "stream",
     "text": [
      "[CV]  base_score=0.01, gamma=0.01, reg_alpha=1.0, n_estimators=30, objective=binary:logistic, max_depth=5, seed=1337, min_child_weight=10, learning_rate=0.001, subsample=0.5, colsample_bytree=1, silent=1, nthread=4 -  49.1s\n",
      "[CV] base_score=0.01, gamma=0.01, reg_alpha=1.0, n_estimators=30, objective=binary:logistic, max_depth=5, seed=1337, min_child_weight=10, learning_rate=0.001, subsample=0.3, colsample_bytree=1, silent=1, nthread=4 \n"
     ]
    },
    {
     "name": "stderr",
     "output_type": "stream",
     "text": [
      "/home/ubuntu/Virtualenvs/mateo/lib/python3.4/site-packages/sklearn/externals/joblib/hashing.py:197: DeprecationWarning: Changing the shape of non-C contiguous array by\n",
      "descriptor assignment is deprecated. To maintain\n",
      "the Fortran contiguity of a multidimensional Fortran\n",
      "array, use 'a.T.view(...).T' instead\n",
      "  obj_bytes_view = obj.view(self.np.uint8)\n",
      "/home/ubuntu/Virtualenvs/mateo/lib/python3.4/site-packages/sklearn/metrics/classification.py:1117: UndefinedMetricWarning: F-score is ill-defined and being set to 0.0 due to no predicted samples.\n",
      "  'precision', 'predicted', average, warn_for)\n"
     ]
    },
    {
     "name": "stdout",
     "output_type": "stream",
     "text": [
      "[CV]  base_score=0.01, gamma=0.01, reg_alpha=1.0, n_estimators=30, objective=binary:logistic, max_depth=5, seed=1337, min_child_weight=10, learning_rate=0.001, subsample=0.5, colsample_bytree=1, silent=1, nthread=4 -  51.5s\n",
      "[CV] base_score=0.01, gamma=0.01, reg_alpha=1.0, n_estimators=30, objective=binary:logistic, max_depth=5, seed=1337, min_child_weight=10, learning_rate=0.001, subsample=0.3, colsample_bytree=1, silent=1, nthread=4 \n"
     ]
    },
    {
     "name": "stderr",
     "output_type": "stream",
     "text": [
      "/home/ubuntu/Virtualenvs/mateo/lib/python3.4/site-packages/sklearn/externals/joblib/hashing.py:197: DeprecationWarning: Changing the shape of non-C contiguous array by\n",
      "descriptor assignment is deprecated. To maintain\n",
      "the Fortran contiguity of a multidimensional Fortran\n",
      "array, use 'a.T.view(...).T' instead\n",
      "  obj_bytes_view = obj.view(self.np.uint8)\n",
      "/home/ubuntu/Virtualenvs/mateo/lib/python3.4/site-packages/sklearn/metrics/classification.py:1117: UndefinedMetricWarning: F-score is ill-defined and being set to 0.0 due to no predicted samples.\n",
      "  'precision', 'predicted', average, warn_for)\n"
     ]
    },
    {
     "name": "stdout",
     "output_type": "stream",
     "text": [
      "[CV]  base_score=0.01, gamma=0.01, reg_alpha=1.0, n_estimators=30, objective=binary:logistic, max_depth=5, seed=1337, min_child_weight=10, learning_rate=0.001, subsample=0.5, colsample_bytree=1, silent=1, nthread=4 -  49.8s\n",
      "[CV] base_score=0.01, gamma=0.01, reg_alpha=1.0, n_estimators=30, objective=binary:logistic, max_depth=5, seed=1337, min_child_weight=10, learning_rate=0.001, subsample=0.3, colsample_bytree=1, silent=1, nthread=4 \n"
     ]
    },
    {
     "name": "stderr",
     "output_type": "stream",
     "text": [
      "/home/ubuntu/Virtualenvs/mateo/lib/python3.4/site-packages/sklearn/externals/joblib/hashing.py:197: DeprecationWarning: Changing the shape of non-C contiguous array by\n",
      "descriptor assignment is deprecated. To maintain\n",
      "the Fortran contiguity of a multidimensional Fortran\n",
      "array, use 'a.T.view(...).T' instead\n",
      "  obj_bytes_view = obj.view(self.np.uint8)\n",
      "/home/ubuntu/Virtualenvs/mateo/lib/python3.4/site-packages/sklearn/metrics/classification.py:1117: UndefinedMetricWarning: F-score is ill-defined and being set to 0.0 due to no predicted samples.\n",
      "  'precision', 'predicted', average, warn_for)\n"
     ]
    },
    {
     "name": "stdout",
     "output_type": "stream",
     "text": [
      "[CV]  base_score=0.01, gamma=0.01, reg_alpha=1.0, n_estimators=30, objective=binary:logistic, max_depth=5, seed=1337, min_child_weight=10, learning_rate=0.001, subsample=0.3, colsample_bytree=1, silent=1, nthread=4 -  40.6s\n",
      "[CV] base_score=0.01, gamma=0.01, reg_alpha=0.01, n_estimators=15, objective=binary:logistic, max_depth=5, seed=1337, min_child_weight=5, learning_rate=0.001, subsample=0.8, colsample_bytree=1, silent=1, nthread=4 \n"
     ]
    },
    {
     "name": "stderr",
     "output_type": "stream",
     "text": [
      "/home/ubuntu/Virtualenvs/mateo/lib/python3.4/site-packages/sklearn/externals/joblib/hashing.py:197: DeprecationWarning: Changing the shape of non-C contiguous array by\n",
      "descriptor assignment is deprecated. To maintain\n",
      "the Fortran contiguity of a multidimensional Fortran\n",
      "array, use 'a.T.view(...).T' instead\n",
      "  obj_bytes_view = obj.view(self.np.uint8)\n",
      "/home/ubuntu/Virtualenvs/mateo/lib/python3.4/site-packages/sklearn/metrics/classification.py:1117: UndefinedMetricWarning: F-score is ill-defined and being set to 0.0 due to no predicted samples.\n",
      "  'precision', 'predicted', average, warn_for)\n"
     ]
    },
    {
     "name": "stdout",
     "output_type": "stream",
     "text": [
      "[CV]  base_score=0.01, gamma=0.01, reg_alpha=1.0, n_estimators=30, objective=binary:logistic, max_depth=5, seed=1337, min_child_weight=10, learning_rate=0.001, subsample=0.3, colsample_bytree=1, silent=1, nthread=4 -  39.3s\n",
      "[CV] base_score=0.01, gamma=0.01, reg_alpha=0.01, n_estimators=15, objective=binary:logistic, max_depth=5, seed=1337, min_child_weight=5, learning_rate=0.001, subsample=0.8, colsample_bytree=1, silent=1, nthread=4 \n"
     ]
    },
    {
     "name": "stderr",
     "output_type": "stream",
     "text": [
      "/home/ubuntu/Virtualenvs/mateo/lib/python3.4/site-packages/sklearn/externals/joblib/hashing.py:197: DeprecationWarning: Changing the shape of non-C contiguous array by\n",
      "descriptor assignment is deprecated. To maintain\n",
      "the Fortran contiguity of a multidimensional Fortran\n",
      "array, use 'a.T.view(...).T' instead\n",
      "  obj_bytes_view = obj.view(self.np.uint8)\n",
      "/home/ubuntu/Virtualenvs/mateo/lib/python3.4/site-packages/sklearn/metrics/classification.py:1117: UndefinedMetricWarning: F-score is ill-defined and being set to 0.0 due to no predicted samples.\n",
      "  'precision', 'predicted', average, warn_for)\n"
     ]
    },
    {
     "name": "stdout",
     "output_type": "stream",
     "text": [
      "[CV]  base_score=0.01, gamma=0.01, reg_alpha=1.0, n_estimators=30, objective=binary:logistic, max_depth=5, seed=1337, min_child_weight=10, learning_rate=0.001, subsample=0.3, colsample_bytree=1, silent=1, nthread=4 -  40.4s\n",
      "[CV] base_score=0.01, gamma=0.01, reg_alpha=0.01, n_estimators=15, objective=binary:logistic, max_depth=5, seed=1337, min_child_weight=5, learning_rate=0.001, subsample=0.8, colsample_bytree=1, silent=1, nthread=4 \n"
     ]
    },
    {
     "name": "stderr",
     "output_type": "stream",
     "text": [
      "/home/ubuntu/Virtualenvs/mateo/lib/python3.4/site-packages/sklearn/externals/joblib/hashing.py:197: DeprecationWarning: Changing the shape of non-C contiguous array by\n",
      "descriptor assignment is deprecated. To maintain\n",
      "the Fortran contiguity of a multidimensional Fortran\n",
      "array, use 'a.T.view(...).T' instead\n",
      "  obj_bytes_view = obj.view(self.np.uint8)\n",
      "/home/ubuntu/Virtualenvs/mateo/lib/python3.4/site-packages/sklearn/metrics/classification.py:1117: UndefinedMetricWarning: F-score is ill-defined and being set to 0.0 due to no predicted samples.\n",
      "  'precision', 'predicted', average, warn_for)\n"
     ]
    },
    {
     "name": "stdout",
     "output_type": "stream",
     "text": [
      "[CV]  base_score=0.01, gamma=0.01, reg_alpha=0.01, n_estimators=15, objective=binary:logistic, max_depth=5, seed=1337, min_child_weight=5, learning_rate=0.001, subsample=0.8, colsample_bytree=1, silent=1, nthread=4 -  25.2s\n",
      "[CV] base_score=0.01, gamma=0.01, reg_alpha=0.01, n_estimators=15, objective=binary:logistic, max_depth=5, seed=1337, min_child_weight=5, learning_rate=0.001, subsample=0.5, colsample_bytree=1, silent=1, nthread=4 \n"
     ]
    },
    {
     "name": "stderr",
     "output_type": "stream",
     "text": [
      "/home/ubuntu/Virtualenvs/mateo/lib/python3.4/site-packages/sklearn/externals/joblib/hashing.py:197: DeprecationWarning: Changing the shape of non-C contiguous array by\n",
      "descriptor assignment is deprecated. To maintain\n",
      "the Fortran contiguity of a multidimensional Fortran\n",
      "array, use 'a.T.view(...).T' instead\n",
      "  obj_bytes_view = obj.view(self.np.uint8)\n",
      "/home/ubuntu/Virtualenvs/mateo/lib/python3.4/site-packages/sklearn/metrics/classification.py:1117: UndefinedMetricWarning: F-score is ill-defined and being set to 0.0 due to no predicted samples.\n",
      "  'precision', 'predicted', average, warn_for)\n"
     ]
    },
    {
     "name": "stdout",
     "output_type": "stream",
     "text": [
      "[CV]  base_score=0.01, gamma=0.01, reg_alpha=0.01, n_estimators=15, objective=binary:logistic, max_depth=5, seed=1337, min_child_weight=5, learning_rate=0.001, subsample=0.8, colsample_bytree=1, silent=1, nthread=4 -  25.9s\n",
      "[CV] base_score=0.01, gamma=0.01, reg_alpha=0.01, n_estimators=15, objective=binary:logistic, max_depth=5, seed=1337, min_child_weight=5, learning_rate=0.001, subsample=0.5, colsample_bytree=1, silent=1, nthread=4 \n"
     ]
    },
    {
     "name": "stderr",
     "output_type": "stream",
     "text": [
      "/home/ubuntu/Virtualenvs/mateo/lib/python3.4/site-packages/sklearn/externals/joblib/hashing.py:197: DeprecationWarning: Changing the shape of non-C contiguous array by\n",
      "descriptor assignment is deprecated. To maintain\n",
      "the Fortran contiguity of a multidimensional Fortran\n",
      "array, use 'a.T.view(...).T' instead\n",
      "  obj_bytes_view = obj.view(self.np.uint8)\n",
      "/home/ubuntu/Virtualenvs/mateo/lib/python3.4/site-packages/sklearn/metrics/classification.py:1117: UndefinedMetricWarning: F-score is ill-defined and being set to 0.0 due to no predicted samples.\n",
      "  'precision', 'predicted', average, warn_for)\n"
     ]
    },
    {
     "name": "stdout",
     "output_type": "stream",
     "text": [
      "[CV]  base_score=0.01, gamma=0.01, reg_alpha=0.01, n_estimators=15, objective=binary:logistic, max_depth=5, seed=1337, min_child_weight=5, learning_rate=0.001, subsample=0.8, colsample_bytree=1, silent=1, nthread=4 -  25.4s\n",
      "[CV] base_score=0.01, gamma=0.01, reg_alpha=0.01, n_estimators=15, objective=binary:logistic, max_depth=5, seed=1337, min_child_weight=5, learning_rate=0.001, subsample=0.5, colsample_bytree=1, silent=1, nthread=4 \n"
     ]
    },
    {
     "name": "stderr",
     "output_type": "stream",
     "text": [
      "/home/ubuntu/Virtualenvs/mateo/lib/python3.4/site-packages/sklearn/externals/joblib/hashing.py:197: DeprecationWarning: Changing the shape of non-C contiguous array by\n",
      "descriptor assignment is deprecated. To maintain\n",
      "the Fortran contiguity of a multidimensional Fortran\n",
      "array, use 'a.T.view(...).T' instead\n",
      "  obj_bytes_view = obj.view(self.np.uint8)\n",
      "/home/ubuntu/Virtualenvs/mateo/lib/python3.4/site-packages/sklearn/metrics/classification.py:1117: UndefinedMetricWarning: F-score is ill-defined and being set to 0.0 due to no predicted samples.\n",
      "  'precision', 'predicted', average, warn_for)\n"
     ]
    },
    {
     "name": "stdout",
     "output_type": "stream",
     "text": [
      "[CV]  base_score=0.01, gamma=0.01, reg_alpha=0.01, n_estimators=15, objective=binary:logistic, max_depth=5, seed=1337, min_child_weight=5, learning_rate=0.001, subsample=0.5, colsample_bytree=1, silent=1, nthread=4 -  27.2s\n",
      "[CV] base_score=0.01, gamma=0.01, reg_alpha=0.01, n_estimators=15, objective=binary:logistic, max_depth=5, seed=1337, min_child_weight=5, learning_rate=0.001, subsample=0.3, colsample_bytree=1, silent=1, nthread=4 \n"
     ]
    },
    {
     "name": "stderr",
     "output_type": "stream",
     "text": [
      "/home/ubuntu/Virtualenvs/mateo/lib/python3.4/site-packages/sklearn/externals/joblib/hashing.py:197: DeprecationWarning: Changing the shape of non-C contiguous array by\n",
      "descriptor assignment is deprecated. To maintain\n",
      "the Fortran contiguity of a multidimensional Fortran\n",
      "array, use 'a.T.view(...).T' instead\n",
      "  obj_bytes_view = obj.view(self.np.uint8)\n",
      "/home/ubuntu/Virtualenvs/mateo/lib/python3.4/site-packages/sklearn/metrics/classification.py:1117: UndefinedMetricWarning: F-score is ill-defined and being set to 0.0 due to no predicted samples.\n",
      "  'precision', 'predicted', average, warn_for)\n"
     ]
    },
    {
     "name": "stdout",
     "output_type": "stream",
     "text": [
      "[CV]  base_score=0.01, gamma=0.01, reg_alpha=0.01, n_estimators=15, objective=binary:logistic, max_depth=5, seed=1337, min_child_weight=5, learning_rate=0.001, subsample=0.5, colsample_bytree=1, silent=1, nthread=4 -  25.7s\n",
      "[CV] base_score=0.01, gamma=0.01, reg_alpha=0.01, n_estimators=15, objective=binary:logistic, max_depth=5, seed=1337, min_child_weight=5, learning_rate=0.001, subsample=0.3, colsample_bytree=1, silent=1, nthread=4 \n"
     ]
    },
    {
     "name": "stderr",
     "output_type": "stream",
     "text": [
      "/home/ubuntu/Virtualenvs/mateo/lib/python3.4/site-packages/sklearn/externals/joblib/hashing.py:197: DeprecationWarning: Changing the shape of non-C contiguous array by\n",
      "descriptor assignment is deprecated. To maintain\n",
      "the Fortran contiguity of a multidimensional Fortran\n",
      "array, use 'a.T.view(...).T' instead\n",
      "  obj_bytes_view = obj.view(self.np.uint8)\n",
      "/home/ubuntu/Virtualenvs/mateo/lib/python3.4/site-packages/sklearn/metrics/classification.py:1117: UndefinedMetricWarning: F-score is ill-defined and being set to 0.0 due to no predicted samples.\n",
      "  'precision', 'predicted', average, warn_for)\n"
     ]
    },
    {
     "name": "stdout",
     "output_type": "stream",
     "text": [
      "[CV]  base_score=0.01, gamma=0.01, reg_alpha=0.01, n_estimators=15, objective=binary:logistic, max_depth=5, seed=1337, min_child_weight=5, learning_rate=0.001, subsample=0.5, colsample_bytree=1, silent=1, nthread=4 -  27.3s\n",
      "[CV] base_score=0.01, gamma=0.01, reg_alpha=0.01, n_estimators=15, objective=binary:logistic, max_depth=5, seed=1337, min_child_weight=5, learning_rate=0.001, subsample=0.3, colsample_bytree=1, silent=1, nthread=4 \n"
     ]
    },
    {
     "name": "stderr",
     "output_type": "stream",
     "text": [
      "/home/ubuntu/Virtualenvs/mateo/lib/python3.4/site-packages/sklearn/externals/joblib/hashing.py:197: DeprecationWarning: Changing the shape of non-C contiguous array by\n",
      "descriptor assignment is deprecated. To maintain\n",
      "the Fortran contiguity of a multidimensional Fortran\n",
      "array, use 'a.T.view(...).T' instead\n",
      "  obj_bytes_view = obj.view(self.np.uint8)\n",
      "/home/ubuntu/Virtualenvs/mateo/lib/python3.4/site-packages/sklearn/metrics/classification.py:1117: UndefinedMetricWarning: F-score is ill-defined and being set to 0.0 due to no predicted samples.\n",
      "  'precision', 'predicted', average, warn_for)\n"
     ]
    },
    {
     "name": "stdout",
     "output_type": "stream",
     "text": [
      "[CV]  base_score=0.01, gamma=0.01, reg_alpha=0.01, n_estimators=15, objective=binary:logistic, max_depth=5, seed=1337, min_child_weight=5, learning_rate=0.001, subsample=0.3, colsample_bytree=1, silent=1, nthread=4 -  22.5s\n",
      "[CV] base_score=0.01, gamma=0.01, reg_alpha=0.1, n_estimators=15, objective=binary:logistic, max_depth=5, seed=1337, min_child_weight=5, learning_rate=0.001, subsample=0.8, colsample_bytree=1, silent=1, nthread=4 \n"
     ]
    },
    {
     "name": "stderr",
     "output_type": "stream",
     "text": [
      "/home/ubuntu/Virtualenvs/mateo/lib/python3.4/site-packages/sklearn/externals/joblib/hashing.py:197: DeprecationWarning: Changing the shape of non-C contiguous array by\n",
      "descriptor assignment is deprecated. To maintain\n",
      "the Fortran contiguity of a multidimensional Fortran\n",
      "array, use 'a.T.view(...).T' instead\n",
      "  obj_bytes_view = obj.view(self.np.uint8)\n",
      "/home/ubuntu/Virtualenvs/mateo/lib/python3.4/site-packages/sklearn/metrics/classification.py:1117: UndefinedMetricWarning: F-score is ill-defined and being set to 0.0 due to no predicted samples.\n",
      "  'precision', 'predicted', average, warn_for)\n"
     ]
    },
    {
     "name": "stdout",
     "output_type": "stream",
     "text": [
      "[CV]  base_score=0.01, gamma=0.01, reg_alpha=0.01, n_estimators=15, objective=binary:logistic, max_depth=5, seed=1337, min_child_weight=5, learning_rate=0.001, subsample=0.3, colsample_bytree=1, silent=1, nthread=4 -  21.3s\n",
      "[CV] base_score=0.01, gamma=0.01, reg_alpha=0.1, n_estimators=15, objective=binary:logistic, max_depth=5, seed=1337, min_child_weight=5, learning_rate=0.001, subsample=0.8, colsample_bytree=1, silent=1, nthread=4 \n"
     ]
    },
    {
     "name": "stderr",
     "output_type": "stream",
     "text": [
      "/home/ubuntu/Virtualenvs/mateo/lib/python3.4/site-packages/sklearn/externals/joblib/hashing.py:197: DeprecationWarning: Changing the shape of non-C contiguous array by\n",
      "descriptor assignment is deprecated. To maintain\n",
      "the Fortran contiguity of a multidimensional Fortran\n",
      "array, use 'a.T.view(...).T' instead\n",
      "  obj_bytes_view = obj.view(self.np.uint8)\n",
      "/home/ubuntu/Virtualenvs/mateo/lib/python3.4/site-packages/sklearn/metrics/classification.py:1117: UndefinedMetricWarning: F-score is ill-defined and being set to 0.0 due to no predicted samples.\n",
      "  'precision', 'predicted', average, warn_for)\n"
     ]
    },
    {
     "name": "stdout",
     "output_type": "stream",
     "text": [
      "[CV]  base_score=0.01, gamma=0.01, reg_alpha=0.01, n_estimators=15, objective=binary:logistic, max_depth=5, seed=1337, min_child_weight=5, learning_rate=0.001, subsample=0.3, colsample_bytree=1, silent=1, nthread=4 -  22.4s\n",
      "[CV] base_score=0.01, gamma=0.01, reg_alpha=0.1, n_estimators=15, objective=binary:logistic, max_depth=5, seed=1337, min_child_weight=5, learning_rate=0.001, subsample=0.8, colsample_bytree=1, silent=1, nthread=4 \n"
     ]
    },
    {
     "name": "stderr",
     "output_type": "stream",
     "text": [
      "/home/ubuntu/Virtualenvs/mateo/lib/python3.4/site-packages/sklearn/externals/joblib/hashing.py:197: DeprecationWarning: Changing the shape of non-C contiguous array by\n",
      "descriptor assignment is deprecated. To maintain\n",
      "the Fortran contiguity of a multidimensional Fortran\n",
      "array, use 'a.T.view(...).T' instead\n",
      "  obj_bytes_view = obj.view(self.np.uint8)\n",
      "/home/ubuntu/Virtualenvs/mateo/lib/python3.4/site-packages/sklearn/metrics/classification.py:1117: UndefinedMetricWarning: F-score is ill-defined and being set to 0.0 due to no predicted samples.\n",
      "  'precision', 'predicted', average, warn_for)\n"
     ]
    },
    {
     "name": "stdout",
     "output_type": "stream",
     "text": [
      "[CV]  base_score=0.01, gamma=0.01, reg_alpha=0.1, n_estimators=15, objective=binary:logistic, max_depth=5, seed=1337, min_child_weight=5, learning_rate=0.001, subsample=0.8, colsample_bytree=1, silent=1, nthread=4 -  25.2s\n",
      "[CV] base_score=0.01, gamma=0.01, reg_alpha=0.1, n_estimators=15, objective=binary:logistic, max_depth=5, seed=1337, min_child_weight=5, learning_rate=0.001, subsample=0.5, colsample_bytree=1, silent=1, nthread=4 \n"
     ]
    },
    {
     "name": "stderr",
     "output_type": "stream",
     "text": [
      "/home/ubuntu/Virtualenvs/mateo/lib/python3.4/site-packages/sklearn/externals/joblib/hashing.py:197: DeprecationWarning: Changing the shape of non-C contiguous array by\n",
      "descriptor assignment is deprecated. To maintain\n",
      "the Fortran contiguity of a multidimensional Fortran\n",
      "array, use 'a.T.view(...).T' instead\n",
      "  obj_bytes_view = obj.view(self.np.uint8)\n",
      "/home/ubuntu/Virtualenvs/mateo/lib/python3.4/site-packages/sklearn/metrics/classification.py:1117: UndefinedMetricWarning: F-score is ill-defined and being set to 0.0 due to no predicted samples.\n",
      "  'precision', 'predicted', average, warn_for)\n"
     ]
    },
    {
     "name": "stdout",
     "output_type": "stream",
     "text": [
      "[CV]  base_score=0.01, gamma=0.01, reg_alpha=0.1, n_estimators=15, objective=binary:logistic, max_depth=5, seed=1337, min_child_weight=5, learning_rate=0.001, subsample=0.8, colsample_bytree=1, silent=1, nthread=4 -  26.0s\n",
      "[CV] base_score=0.01, gamma=0.01, reg_alpha=0.1, n_estimators=15, objective=binary:logistic, max_depth=5, seed=1337, min_child_weight=5, learning_rate=0.001, subsample=0.5, colsample_bytree=1, silent=1, nthread=4 \n"
     ]
    },
    {
     "name": "stderr",
     "output_type": "stream",
     "text": [
      "/home/ubuntu/Virtualenvs/mateo/lib/python3.4/site-packages/sklearn/externals/joblib/hashing.py:197: DeprecationWarning: Changing the shape of non-C contiguous array by\n",
      "descriptor assignment is deprecated. To maintain\n",
      "the Fortran contiguity of a multidimensional Fortran\n",
      "array, use 'a.T.view(...).T' instead\n",
      "  obj_bytes_view = obj.view(self.np.uint8)\n",
      "/home/ubuntu/Virtualenvs/mateo/lib/python3.4/site-packages/sklearn/metrics/classification.py:1117: UndefinedMetricWarning: F-score is ill-defined and being set to 0.0 due to no predicted samples.\n",
      "  'precision', 'predicted', average, warn_for)\n"
     ]
    },
    {
     "name": "stdout",
     "output_type": "stream",
     "text": [
      "[CV]  base_score=0.01, gamma=0.01, reg_alpha=0.1, n_estimators=15, objective=binary:logistic, max_depth=5, seed=1337, min_child_weight=5, learning_rate=0.001, subsample=0.8, colsample_bytree=1, silent=1, nthread=4 -  24.8s\n",
      "[CV] base_score=0.01, gamma=0.01, reg_alpha=0.1, n_estimators=15, objective=binary:logistic, max_depth=5, seed=1337, min_child_weight=5, learning_rate=0.001, subsample=0.5, colsample_bytree=1, silent=1, nthread=4 \n"
     ]
    },
    {
     "name": "stderr",
     "output_type": "stream",
     "text": [
      "/home/ubuntu/Virtualenvs/mateo/lib/python3.4/site-packages/sklearn/externals/joblib/hashing.py:197: DeprecationWarning: Changing the shape of non-C contiguous array by\n",
      "descriptor assignment is deprecated. To maintain\n",
      "the Fortran contiguity of a multidimensional Fortran\n",
      "array, use 'a.T.view(...).T' instead\n",
      "  obj_bytes_view = obj.view(self.np.uint8)\n",
      "/home/ubuntu/Virtualenvs/mateo/lib/python3.4/site-packages/sklearn/metrics/classification.py:1117: UndefinedMetricWarning: F-score is ill-defined and being set to 0.0 due to no predicted samples.\n",
      "  'precision', 'predicted', average, warn_for)\n"
     ]
    },
    {
     "name": "stdout",
     "output_type": "stream",
     "text": [
      "[CV]  base_score=0.01, gamma=0.01, reg_alpha=0.1, n_estimators=15, objective=binary:logistic, max_depth=5, seed=1337, min_child_weight=5, learning_rate=0.001, subsample=0.5, colsample_bytree=1, silent=1, nthread=4 -  26.2s\n",
      "[CV] base_score=0.01, gamma=0.01, reg_alpha=0.1, n_estimators=15, objective=binary:logistic, max_depth=5, seed=1337, min_child_weight=5, learning_rate=0.001, subsample=0.3, colsample_bytree=1, silent=1, nthread=4 \n"
     ]
    },
    {
     "name": "stderr",
     "output_type": "stream",
     "text": [
      "/home/ubuntu/Virtualenvs/mateo/lib/python3.4/site-packages/sklearn/externals/joblib/hashing.py:197: DeprecationWarning: Changing the shape of non-C contiguous array by\n",
      "descriptor assignment is deprecated. To maintain\n",
      "the Fortran contiguity of a multidimensional Fortran\n",
      "array, use 'a.T.view(...).T' instead\n",
      "  obj_bytes_view = obj.view(self.np.uint8)\n",
      "/home/ubuntu/Virtualenvs/mateo/lib/python3.4/site-packages/sklearn/metrics/classification.py:1117: UndefinedMetricWarning: F-score is ill-defined and being set to 0.0 due to no predicted samples.\n",
      "  'precision', 'predicted', average, warn_for)\n"
     ]
    },
    {
     "name": "stdout",
     "output_type": "stream",
     "text": [
      "[CV]  base_score=0.01, gamma=0.01, reg_alpha=0.1, n_estimators=15, objective=binary:logistic, max_depth=5, seed=1337, min_child_weight=5, learning_rate=0.001, subsample=0.5, colsample_bytree=1, silent=1, nthread=4 -  27.8s\n",
      "[CV] base_score=0.01, gamma=0.01, reg_alpha=0.1, n_estimators=15, objective=binary:logistic, max_depth=5, seed=1337, min_child_weight=5, learning_rate=0.001, subsample=0.3, colsample_bytree=1, silent=1, nthread=4 \n"
     ]
    },
    {
     "name": "stderr",
     "output_type": "stream",
     "text": [
      "/home/ubuntu/Virtualenvs/mateo/lib/python3.4/site-packages/sklearn/externals/joblib/hashing.py:197: DeprecationWarning: Changing the shape of non-C contiguous array by\n",
      "descriptor assignment is deprecated. To maintain\n",
      "the Fortran contiguity of a multidimensional Fortran\n",
      "array, use 'a.T.view(...).T' instead\n",
      "  obj_bytes_view = obj.view(self.np.uint8)\n",
      "/home/ubuntu/Virtualenvs/mateo/lib/python3.4/site-packages/sklearn/metrics/classification.py:1117: UndefinedMetricWarning: F-score is ill-defined and being set to 0.0 due to no predicted samples.\n",
      "  'precision', 'predicted', average, warn_for)\n"
     ]
    },
    {
     "name": "stdout",
     "output_type": "stream",
     "text": [
      "[CV]  base_score=0.01, gamma=0.01, reg_alpha=0.1, n_estimators=15, objective=binary:logistic, max_depth=5, seed=1337, min_child_weight=5, learning_rate=0.001, subsample=0.5, colsample_bytree=1, silent=1, nthread=4 -  26.3s\n",
      "[CV] base_score=0.01, gamma=0.01, reg_alpha=0.1, n_estimators=15, objective=binary:logistic, max_depth=5, seed=1337, min_child_weight=5, learning_rate=0.001, subsample=0.3, colsample_bytree=1, silent=1, nthread=4 \n"
     ]
    },
    {
     "name": "stderr",
     "output_type": "stream",
     "text": [
      "/home/ubuntu/Virtualenvs/mateo/lib/python3.4/site-packages/sklearn/externals/joblib/hashing.py:197: DeprecationWarning: Changing the shape of non-C contiguous array by\n",
      "descriptor assignment is deprecated. To maintain\n",
      "the Fortran contiguity of a multidimensional Fortran\n",
      "array, use 'a.T.view(...).T' instead\n",
      "  obj_bytes_view = obj.view(self.np.uint8)\n",
      "/home/ubuntu/Virtualenvs/mateo/lib/python3.4/site-packages/sklearn/metrics/classification.py:1117: UndefinedMetricWarning: F-score is ill-defined and being set to 0.0 due to no predicted samples.\n",
      "  'precision', 'predicted', average, warn_for)\n"
     ]
    },
    {
     "name": "stdout",
     "output_type": "stream",
     "text": [
      "[CV]  base_score=0.01, gamma=0.01, reg_alpha=0.1, n_estimators=15, objective=binary:logistic, max_depth=5, seed=1337, min_child_weight=5, learning_rate=0.001, subsample=0.3, colsample_bytree=1, silent=1, nthread=4 -  22.1s\n",
      "[CV] base_score=0.01, gamma=0.01, reg_alpha=1.0, n_estimators=15, objective=binary:logistic, max_depth=5, seed=1337, min_child_weight=5, learning_rate=0.001, subsample=0.8, colsample_bytree=1, silent=1, nthread=4 \n"
     ]
    },
    {
     "name": "stderr",
     "output_type": "stream",
     "text": [
      "/home/ubuntu/Virtualenvs/mateo/lib/python3.4/site-packages/sklearn/externals/joblib/hashing.py:197: DeprecationWarning: Changing the shape of non-C contiguous array by\n",
      "descriptor assignment is deprecated. To maintain\n",
      "the Fortran contiguity of a multidimensional Fortran\n",
      "array, use 'a.T.view(...).T' instead\n",
      "  obj_bytes_view = obj.view(self.np.uint8)\n",
      "/home/ubuntu/Virtualenvs/mateo/lib/python3.4/site-packages/sklearn/metrics/classification.py:1117: UndefinedMetricWarning: F-score is ill-defined and being set to 0.0 due to no predicted samples.\n",
      "  'precision', 'predicted', average, warn_for)\n"
     ]
    },
    {
     "name": "stdout",
     "output_type": "stream",
     "text": [
      "[CV]  base_score=0.01, gamma=0.01, reg_alpha=0.1, n_estimators=15, objective=binary:logistic, max_depth=5, seed=1337, min_child_weight=5, learning_rate=0.001, subsample=0.3, colsample_bytree=1, silent=1, nthread=4 -  22.1s\n",
      "[CV] base_score=0.01, gamma=0.01, reg_alpha=1.0, n_estimators=15, objective=binary:logistic, max_depth=5, seed=1337, min_child_weight=5, learning_rate=0.001, subsample=0.8, colsample_bytree=1, silent=1, nthread=4 \n"
     ]
    },
    {
     "name": "stderr",
     "output_type": "stream",
     "text": [
      "/home/ubuntu/Virtualenvs/mateo/lib/python3.4/site-packages/sklearn/externals/joblib/hashing.py:197: DeprecationWarning: Changing the shape of non-C contiguous array by\n",
      "descriptor assignment is deprecated. To maintain\n",
      "the Fortran contiguity of a multidimensional Fortran\n",
      "array, use 'a.T.view(...).T' instead\n",
      "  obj_bytes_view = obj.view(self.np.uint8)\n",
      "/home/ubuntu/Virtualenvs/mateo/lib/python3.4/site-packages/sklearn/metrics/classification.py:1117: UndefinedMetricWarning: F-score is ill-defined and being set to 0.0 due to no predicted samples.\n",
      "  'precision', 'predicted', average, warn_for)\n"
     ]
    },
    {
     "name": "stdout",
     "output_type": "stream",
     "text": [
      "[CV]  base_score=0.01, gamma=0.01, reg_alpha=0.1, n_estimators=15, objective=binary:logistic, max_depth=5, seed=1337, min_child_weight=5, learning_rate=0.001, subsample=0.3, colsample_bytree=1, silent=1, nthread=4 -  22.5s\n",
      "[CV] base_score=0.01, gamma=0.01, reg_alpha=1.0, n_estimators=15, objective=binary:logistic, max_depth=5, seed=1337, min_child_weight=5, learning_rate=0.001, subsample=0.8, colsample_bytree=1, silent=1, nthread=4 \n"
     ]
    },
    {
     "name": "stderr",
     "output_type": "stream",
     "text": [
      "/home/ubuntu/Virtualenvs/mateo/lib/python3.4/site-packages/sklearn/externals/joblib/hashing.py:197: DeprecationWarning: Changing the shape of non-C contiguous array by\n",
      "descriptor assignment is deprecated. To maintain\n",
      "the Fortran contiguity of a multidimensional Fortran\n",
      "array, use 'a.T.view(...).T' instead\n",
      "  obj_bytes_view = obj.view(self.np.uint8)\n",
      "/home/ubuntu/Virtualenvs/mateo/lib/python3.4/site-packages/sklearn/metrics/classification.py:1117: UndefinedMetricWarning: F-score is ill-defined and being set to 0.0 due to no predicted samples.\n",
      "  'precision', 'predicted', average, warn_for)\n"
     ]
    },
    {
     "name": "stdout",
     "output_type": "stream",
     "text": [
      "[CV]  base_score=0.01, gamma=0.01, reg_alpha=1.0, n_estimators=15, objective=binary:logistic, max_depth=5, seed=1337, min_child_weight=5, learning_rate=0.001, subsample=0.8, colsample_bytree=1, silent=1, nthread=4 -  24.7s\n",
      "[CV] base_score=0.01, gamma=0.01, reg_alpha=1.0, n_estimators=15, objective=binary:logistic, max_depth=5, seed=1337, min_child_weight=5, learning_rate=0.001, subsample=0.5, colsample_bytree=1, silent=1, nthread=4 \n"
     ]
    },
    {
     "name": "stderr",
     "output_type": "stream",
     "text": [
      "/home/ubuntu/Virtualenvs/mateo/lib/python3.4/site-packages/sklearn/externals/joblib/hashing.py:197: DeprecationWarning: Changing the shape of non-C contiguous array by\n",
      "descriptor assignment is deprecated. To maintain\n",
      "the Fortran contiguity of a multidimensional Fortran\n",
      "array, use 'a.T.view(...).T' instead\n",
      "  obj_bytes_view = obj.view(self.np.uint8)\n",
      "/home/ubuntu/Virtualenvs/mateo/lib/python3.4/site-packages/sklearn/metrics/classification.py:1117: UndefinedMetricWarning: F-score is ill-defined and being set to 0.0 due to no predicted samples.\n",
      "  'precision', 'predicted', average, warn_for)\n"
     ]
    },
    {
     "name": "stdout",
     "output_type": "stream",
     "text": [
      "[CV]  base_score=0.01, gamma=0.01, reg_alpha=1.0, n_estimators=15, objective=binary:logistic, max_depth=5, seed=1337, min_child_weight=5, learning_rate=0.001, subsample=0.8, colsample_bytree=1, silent=1, nthread=4 -  24.5s\n",
      "[CV] base_score=0.01, gamma=0.01, reg_alpha=1.0, n_estimators=15, objective=binary:logistic, max_depth=5, seed=1337, min_child_weight=5, learning_rate=0.001, subsample=0.5, colsample_bytree=1, silent=1, nthread=4 \n"
     ]
    },
    {
     "name": "stderr",
     "output_type": "stream",
     "text": [
      "/home/ubuntu/Virtualenvs/mateo/lib/python3.4/site-packages/sklearn/externals/joblib/hashing.py:197: DeprecationWarning: Changing the shape of non-C contiguous array by\n",
      "descriptor assignment is deprecated. To maintain\n",
      "the Fortran contiguity of a multidimensional Fortran\n",
      "array, use 'a.T.view(...).T' instead\n",
      "  obj_bytes_view = obj.view(self.np.uint8)\n",
      "/home/ubuntu/Virtualenvs/mateo/lib/python3.4/site-packages/sklearn/metrics/classification.py:1117: UndefinedMetricWarning: F-score is ill-defined and being set to 0.0 due to no predicted samples.\n",
      "  'precision', 'predicted', average, warn_for)\n"
     ]
    },
    {
     "name": "stdout",
     "output_type": "stream",
     "text": [
      "[CV]  base_score=0.01, gamma=0.01, reg_alpha=1.0, n_estimators=15, objective=binary:logistic, max_depth=5, seed=1337, min_child_weight=5, learning_rate=0.001, subsample=0.8, colsample_bytree=1, silent=1, nthread=4 -  25.5s\n",
      "[CV] base_score=0.01, gamma=0.01, reg_alpha=1.0, n_estimators=15, objective=binary:logistic, max_depth=5, seed=1337, min_child_weight=5, learning_rate=0.001, subsample=0.5, colsample_bytree=1, silent=1, nthread=4 \n"
     ]
    },
    {
     "name": "stderr",
     "output_type": "stream",
     "text": [
      "/home/ubuntu/Virtualenvs/mateo/lib/python3.4/site-packages/sklearn/externals/joblib/hashing.py:197: DeprecationWarning: Changing the shape of non-C contiguous array by\n",
      "descriptor assignment is deprecated. To maintain\n",
      "the Fortran contiguity of a multidimensional Fortran\n",
      "array, use 'a.T.view(...).T' instead\n",
      "  obj_bytes_view = obj.view(self.np.uint8)\n",
      "/home/ubuntu/Virtualenvs/mateo/lib/python3.4/site-packages/sklearn/metrics/classification.py:1117: UndefinedMetricWarning: F-score is ill-defined and being set to 0.0 due to no predicted samples.\n",
      "  'precision', 'predicted', average, warn_for)\n"
     ]
    },
    {
     "name": "stdout",
     "output_type": "stream",
     "text": [
      "[CV]  base_score=0.01, gamma=0.01, reg_alpha=1.0, n_estimators=15, objective=binary:logistic, max_depth=5, seed=1337, min_child_weight=5, learning_rate=0.001, subsample=0.5, colsample_bytree=1, silent=1, nthread=4 -  27.0s\n",
      "[CV] base_score=0.01, gamma=0.01, reg_alpha=1.0, n_estimators=15, objective=binary:logistic, max_depth=5, seed=1337, min_child_weight=5, learning_rate=0.001, subsample=0.3, colsample_bytree=1, silent=1, nthread=4 \n"
     ]
    },
    {
     "name": "stderr",
     "output_type": "stream",
     "text": [
      "/home/ubuntu/Virtualenvs/mateo/lib/python3.4/site-packages/sklearn/externals/joblib/hashing.py:197: DeprecationWarning: Changing the shape of non-C contiguous array by\n",
      "descriptor assignment is deprecated. To maintain\n",
      "the Fortran contiguity of a multidimensional Fortran\n",
      "array, use 'a.T.view(...).T' instead\n",
      "  obj_bytes_view = obj.view(self.np.uint8)\n",
      "/home/ubuntu/Virtualenvs/mateo/lib/python3.4/site-packages/sklearn/metrics/classification.py:1117: UndefinedMetricWarning: F-score is ill-defined and being set to 0.0 due to no predicted samples.\n",
      "  'precision', 'predicted', average, warn_for)\n"
     ]
    },
    {
     "name": "stdout",
     "output_type": "stream",
     "text": [
      "[CV]  base_score=0.01, gamma=0.01, reg_alpha=1.0, n_estimators=15, objective=binary:logistic, max_depth=5, seed=1337, min_child_weight=5, learning_rate=0.001, subsample=0.5, colsample_bytree=1, silent=1, nthread=4 -  27.5s\n",
      "[CV] base_score=0.01, gamma=0.01, reg_alpha=1.0, n_estimators=15, objective=binary:logistic, max_depth=5, seed=1337, min_child_weight=5, learning_rate=0.001, subsample=0.3, colsample_bytree=1, silent=1, nthread=4 \n"
     ]
    },
    {
     "name": "stderr",
     "output_type": "stream",
     "text": [
      "/home/ubuntu/Virtualenvs/mateo/lib/python3.4/site-packages/sklearn/externals/joblib/hashing.py:197: DeprecationWarning: Changing the shape of non-C contiguous array by\n",
      "descriptor assignment is deprecated. To maintain\n",
      "the Fortran contiguity of a multidimensional Fortran\n",
      "array, use 'a.T.view(...).T' instead\n",
      "  obj_bytes_view = obj.view(self.np.uint8)\n",
      "/home/ubuntu/Virtualenvs/mateo/lib/python3.4/site-packages/sklearn/metrics/classification.py:1117: UndefinedMetricWarning: F-score is ill-defined and being set to 0.0 due to no predicted samples.\n",
      "  'precision', 'predicted', average, warn_for)\n"
     ]
    },
    {
     "name": "stdout",
     "output_type": "stream",
     "text": [
      "[CV]  base_score=0.01, gamma=0.01, reg_alpha=1.0, n_estimators=15, objective=binary:logistic, max_depth=5, seed=1337, min_child_weight=5, learning_rate=0.001, subsample=0.5, colsample_bytree=1, silent=1, nthread=4 -  25.8s\n",
      "[CV] base_score=0.01, gamma=0.01, reg_alpha=1.0, n_estimators=15, objective=binary:logistic, max_depth=5, seed=1337, min_child_weight=5, learning_rate=0.001, subsample=0.3, colsample_bytree=1, silent=1, nthread=4 \n"
     ]
    },
    {
     "name": "stderr",
     "output_type": "stream",
     "text": [
      "/home/ubuntu/Virtualenvs/mateo/lib/python3.4/site-packages/sklearn/externals/joblib/hashing.py:197: DeprecationWarning: Changing the shape of non-C contiguous array by\n",
      "descriptor assignment is deprecated. To maintain\n",
      "the Fortran contiguity of a multidimensional Fortran\n",
      "array, use 'a.T.view(...).T' instead\n",
      "  obj_bytes_view = obj.view(self.np.uint8)\n",
      "/home/ubuntu/Virtualenvs/mateo/lib/python3.4/site-packages/sklearn/metrics/classification.py:1117: UndefinedMetricWarning: F-score is ill-defined and being set to 0.0 due to no predicted samples.\n",
      "  'precision', 'predicted', average, warn_for)\n"
     ]
    },
    {
     "name": "stdout",
     "output_type": "stream",
     "text": [
      "[CV]  base_score=0.01, gamma=0.01, reg_alpha=1.0, n_estimators=15, objective=binary:logistic, max_depth=5, seed=1337, min_child_weight=5, learning_rate=0.001, subsample=0.3, colsample_bytree=1, silent=1, nthread=4 -  22.4s\n",
      "[CV] base_score=0.01, gamma=0.01, reg_alpha=0.01, n_estimators=30, objective=binary:logistic, max_depth=5, seed=1337, min_child_weight=5, learning_rate=0.001, subsample=0.8, colsample_bytree=1, silent=1, nthread=4 \n"
     ]
    },
    {
     "name": "stderr",
     "output_type": "stream",
     "text": [
      "/home/ubuntu/Virtualenvs/mateo/lib/python3.4/site-packages/sklearn/externals/joblib/hashing.py:197: DeprecationWarning: Changing the shape of non-C contiguous array by\n",
      "descriptor assignment is deprecated. To maintain\n",
      "the Fortran contiguity of a multidimensional Fortran\n",
      "array, use 'a.T.view(...).T' instead\n",
      "  obj_bytes_view = obj.view(self.np.uint8)\n",
      "/home/ubuntu/Virtualenvs/mateo/lib/python3.4/site-packages/sklearn/metrics/classification.py:1117: UndefinedMetricWarning: F-score is ill-defined and being set to 0.0 due to no predicted samples.\n",
      "  'precision', 'predicted', average, warn_for)\n"
     ]
    },
    {
     "name": "stdout",
     "output_type": "stream",
     "text": [
      "[CV]  base_score=0.01, gamma=0.01, reg_alpha=1.0, n_estimators=15, objective=binary:logistic, max_depth=5, seed=1337, min_child_weight=5, learning_rate=0.001, subsample=0.3, colsample_bytree=1, silent=1, nthread=4 -  22.3s\n",
      "[CV] base_score=0.01, gamma=0.01, reg_alpha=0.01, n_estimators=30, objective=binary:logistic, max_depth=5, seed=1337, min_child_weight=5, learning_rate=0.001, subsample=0.8, colsample_bytree=1, silent=1, nthread=4 \n"
     ]
    },
    {
     "name": "stderr",
     "output_type": "stream",
     "text": [
      "/home/ubuntu/Virtualenvs/mateo/lib/python3.4/site-packages/sklearn/externals/joblib/hashing.py:197: DeprecationWarning: Changing the shape of non-C contiguous array by\n",
      "descriptor assignment is deprecated. To maintain\n",
      "the Fortran contiguity of a multidimensional Fortran\n",
      "array, use 'a.T.view(...).T' instead\n",
      "  obj_bytes_view = obj.view(self.np.uint8)\n",
      "/home/ubuntu/Virtualenvs/mateo/lib/python3.4/site-packages/sklearn/metrics/classification.py:1117: UndefinedMetricWarning: F-score is ill-defined and being set to 0.0 due to no predicted samples.\n",
      "  'precision', 'predicted', average, warn_for)\n"
     ]
    },
    {
     "name": "stdout",
     "output_type": "stream",
     "text": [
      "[CV]  base_score=0.01, gamma=0.01, reg_alpha=1.0, n_estimators=15, objective=binary:logistic, max_depth=5, seed=1337, min_child_weight=5, learning_rate=0.001, subsample=0.3, colsample_bytree=1, silent=1, nthread=4 -  22.3s\n",
      "[CV] base_score=0.01, gamma=0.01, reg_alpha=0.01, n_estimators=30, objective=binary:logistic, max_depth=5, seed=1337, min_child_weight=5, learning_rate=0.001, subsample=0.8, colsample_bytree=1, silent=1, nthread=4 \n"
     ]
    },
    {
     "name": "stderr",
     "output_type": "stream",
     "text": [
      "/home/ubuntu/Virtualenvs/mateo/lib/python3.4/site-packages/sklearn/externals/joblib/hashing.py:197: DeprecationWarning: Changing the shape of non-C contiguous array by\n",
      "descriptor assignment is deprecated. To maintain\n",
      "the Fortran contiguity of a multidimensional Fortran\n",
      "array, use 'a.T.view(...).T' instead\n",
      "  obj_bytes_view = obj.view(self.np.uint8)\n",
      "/home/ubuntu/Virtualenvs/mateo/lib/python3.4/site-packages/sklearn/metrics/classification.py:1117: UndefinedMetricWarning: F-score is ill-defined and being set to 0.0 due to no predicted samples.\n",
      "  'precision', 'predicted', average, warn_for)\n"
     ]
    },
    {
     "name": "stdout",
     "output_type": "stream",
     "text": [
      "[CV]  base_score=0.01, gamma=0.01, reg_alpha=0.01, n_estimators=30, objective=binary:logistic, max_depth=5, seed=1337, min_child_weight=5, learning_rate=0.001, subsample=0.8, colsample_bytree=1, silent=1, nthread=4 -  45.8s\n",
      "[CV] base_score=0.01, gamma=0.01, reg_alpha=0.01, n_estimators=30, objective=binary:logistic, max_depth=5, seed=1337, min_child_weight=5, learning_rate=0.001, subsample=0.5, colsample_bytree=1, silent=1, nthread=4 \n"
     ]
    },
    {
     "name": "stderr",
     "output_type": "stream",
     "text": [
      "/home/ubuntu/Virtualenvs/mateo/lib/python3.4/site-packages/sklearn/externals/joblib/hashing.py:197: DeprecationWarning: Changing the shape of non-C contiguous array by\n",
      "descriptor assignment is deprecated. To maintain\n",
      "the Fortran contiguity of a multidimensional Fortran\n",
      "array, use 'a.T.view(...).T' instead\n",
      "  obj_bytes_view = obj.view(self.np.uint8)\n",
      "/home/ubuntu/Virtualenvs/mateo/lib/python3.4/site-packages/sklearn/metrics/classification.py:1117: UndefinedMetricWarning: F-score is ill-defined and being set to 0.0 due to no predicted samples.\n",
      "  'precision', 'predicted', average, warn_for)\n"
     ]
    },
    {
     "name": "stdout",
     "output_type": "stream",
     "text": [
      "[CV]  base_score=0.01, gamma=0.01, reg_alpha=0.01, n_estimators=30, objective=binary:logistic, max_depth=5, seed=1337, min_child_weight=5, learning_rate=0.001, subsample=0.8, colsample_bytree=1, silent=1, nthread=4 -  47.3s\n",
      "[CV] base_score=0.01, gamma=0.01, reg_alpha=0.01, n_estimators=30, objective=binary:logistic, max_depth=5, seed=1337, min_child_weight=5, learning_rate=0.001, subsample=0.5, colsample_bytree=1, silent=1, nthread=4 \n"
     ]
    },
    {
     "name": "stderr",
     "output_type": "stream",
     "text": [
      "/home/ubuntu/Virtualenvs/mateo/lib/python3.4/site-packages/sklearn/externals/joblib/hashing.py:197: DeprecationWarning: Changing the shape of non-C contiguous array by\n",
      "descriptor assignment is deprecated. To maintain\n",
      "the Fortran contiguity of a multidimensional Fortran\n",
      "array, use 'a.T.view(...).T' instead\n",
      "  obj_bytes_view = obj.view(self.np.uint8)\n",
      "/home/ubuntu/Virtualenvs/mateo/lib/python3.4/site-packages/sklearn/metrics/classification.py:1117: UndefinedMetricWarning: F-score is ill-defined and being set to 0.0 due to no predicted samples.\n",
      "  'precision', 'predicted', average, warn_for)\n"
     ]
    },
    {
     "name": "stdout",
     "output_type": "stream",
     "text": [
      "[CV]  base_score=0.01, gamma=0.01, reg_alpha=0.01, n_estimators=30, objective=binary:logistic, max_depth=5, seed=1337, min_child_weight=5, learning_rate=0.001, subsample=0.8, colsample_bytree=1, silent=1, nthread=4 -  47.9s\n",
      "[CV] base_score=0.01, gamma=0.01, reg_alpha=0.01, n_estimators=30, objective=binary:logistic, max_depth=5, seed=1337, min_child_weight=5, learning_rate=0.001, subsample=0.5, colsample_bytree=1, silent=1, nthread=4 \n"
     ]
    },
    {
     "name": "stderr",
     "output_type": "stream",
     "text": [
      "/home/ubuntu/Virtualenvs/mateo/lib/python3.4/site-packages/sklearn/externals/joblib/hashing.py:197: DeprecationWarning: Changing the shape of non-C contiguous array by\n",
      "descriptor assignment is deprecated. To maintain\n",
      "the Fortran contiguity of a multidimensional Fortran\n",
      "array, use 'a.T.view(...).T' instead\n",
      "  obj_bytes_view = obj.view(self.np.uint8)\n",
      "/home/ubuntu/Virtualenvs/mateo/lib/python3.4/site-packages/sklearn/metrics/classification.py:1117: UndefinedMetricWarning: F-score is ill-defined and being set to 0.0 due to no predicted samples.\n",
      "  'precision', 'predicted', average, warn_for)\n"
     ]
    },
    {
     "name": "stdout",
     "output_type": "stream",
     "text": [
      "[CV]  base_score=0.01, gamma=0.01, reg_alpha=0.01, n_estimators=30, objective=binary:logistic, max_depth=5, seed=1337, min_child_weight=5, learning_rate=0.001, subsample=0.5, colsample_bytree=1, silent=1, nthread=4 -  50.8s\n",
      "[CV] base_score=0.01, gamma=0.01, reg_alpha=0.01, n_estimators=30, objective=binary:logistic, max_depth=5, seed=1337, min_child_weight=5, learning_rate=0.001, subsample=0.3, colsample_bytree=1, silent=1, nthread=4 \n"
     ]
    },
    {
     "name": "stderr",
     "output_type": "stream",
     "text": [
      "/home/ubuntu/Virtualenvs/mateo/lib/python3.4/site-packages/sklearn/externals/joblib/hashing.py:197: DeprecationWarning: Changing the shape of non-C contiguous array by\n",
      "descriptor assignment is deprecated. To maintain\n",
      "the Fortran contiguity of a multidimensional Fortran\n",
      "array, use 'a.T.view(...).T' instead\n",
      "  obj_bytes_view = obj.view(self.np.uint8)\n",
      "/home/ubuntu/Virtualenvs/mateo/lib/python3.4/site-packages/sklearn/metrics/classification.py:1117: UndefinedMetricWarning: F-score is ill-defined and being set to 0.0 due to no predicted samples.\n",
      "  'precision', 'predicted', average, warn_for)\n"
     ]
    },
    {
     "name": "stdout",
     "output_type": "stream",
     "text": [
      "[CV]  base_score=0.01, gamma=0.01, reg_alpha=0.01, n_estimators=30, objective=binary:logistic, max_depth=5, seed=1337, min_child_weight=5, learning_rate=0.001, subsample=0.5, colsample_bytree=1, silent=1, nthread=4 -  50.0s\n",
      "[CV] base_score=0.01, gamma=0.01, reg_alpha=0.01, n_estimators=30, objective=binary:logistic, max_depth=5, seed=1337, min_child_weight=5, learning_rate=0.001, subsample=0.3, colsample_bytree=1, silent=1, nthread=4 \n"
     ]
    },
    {
     "name": "stderr",
     "output_type": "stream",
     "text": [
      "/home/ubuntu/Virtualenvs/mateo/lib/python3.4/site-packages/sklearn/externals/joblib/hashing.py:197: DeprecationWarning: Changing the shape of non-C contiguous array by\n",
      "descriptor assignment is deprecated. To maintain\n",
      "the Fortran contiguity of a multidimensional Fortran\n",
      "array, use 'a.T.view(...).T' instead\n",
      "  obj_bytes_view = obj.view(self.np.uint8)\n",
      "/home/ubuntu/Virtualenvs/mateo/lib/python3.4/site-packages/sklearn/metrics/classification.py:1117: UndefinedMetricWarning: F-score is ill-defined and being set to 0.0 due to no predicted samples.\n",
      "  'precision', 'predicted', average, warn_for)\n"
     ]
    },
    {
     "name": "stdout",
     "output_type": "stream",
     "text": [
      "[CV]  base_score=0.01, gamma=0.01, reg_alpha=0.01, n_estimators=30, objective=binary:logistic, max_depth=5, seed=1337, min_child_weight=5, learning_rate=0.001, subsample=0.5, colsample_bytree=1, silent=1, nthread=4 -  49.7s\n",
      "[CV] base_score=0.01, gamma=0.01, reg_alpha=0.01, n_estimators=30, objective=binary:logistic, max_depth=5, seed=1337, min_child_weight=5, learning_rate=0.001, subsample=0.3, colsample_bytree=1, silent=1, nthread=4 \n"
     ]
    },
    {
     "name": "stderr",
     "output_type": "stream",
     "text": [
      "/home/ubuntu/Virtualenvs/mateo/lib/python3.4/site-packages/sklearn/externals/joblib/hashing.py:197: DeprecationWarning: Changing the shape of non-C contiguous array by\n",
      "descriptor assignment is deprecated. To maintain\n",
      "the Fortran contiguity of a multidimensional Fortran\n",
      "array, use 'a.T.view(...).T' instead\n",
      "  obj_bytes_view = obj.view(self.np.uint8)\n",
      "/home/ubuntu/Virtualenvs/mateo/lib/python3.4/site-packages/sklearn/metrics/classification.py:1117: UndefinedMetricWarning: F-score is ill-defined and being set to 0.0 due to no predicted samples.\n",
      "  'precision', 'predicted', average, warn_for)\n"
     ]
    },
    {
     "name": "stdout",
     "output_type": "stream",
     "text": [
      "[CV]  base_score=0.01, gamma=0.01, reg_alpha=0.01, n_estimators=30, objective=binary:logistic, max_depth=5, seed=1337, min_child_weight=5, learning_rate=0.001, subsample=0.3, colsample_bytree=1, silent=1, nthread=4 -  41.8s\n",
      "[CV] base_score=0.01, gamma=0.01, reg_alpha=0.1, n_estimators=30, objective=binary:logistic, max_depth=5, seed=1337, min_child_weight=5, learning_rate=0.001, subsample=0.8, colsample_bytree=1, silent=1, nthread=4 \n"
     ]
    },
    {
     "name": "stderr",
     "output_type": "stream",
     "text": [
      "/home/ubuntu/Virtualenvs/mateo/lib/python3.4/site-packages/sklearn/externals/joblib/hashing.py:197: DeprecationWarning: Changing the shape of non-C contiguous array by\n",
      "descriptor assignment is deprecated. To maintain\n",
      "the Fortran contiguity of a multidimensional Fortran\n",
      "array, use 'a.T.view(...).T' instead\n",
      "  obj_bytes_view = obj.view(self.np.uint8)\n",
      "/home/ubuntu/Virtualenvs/mateo/lib/python3.4/site-packages/sklearn/metrics/classification.py:1117: UndefinedMetricWarning: F-score is ill-defined and being set to 0.0 due to no predicted samples.\n",
      "  'precision', 'predicted', average, warn_for)\n"
     ]
    },
    {
     "name": "stdout",
     "output_type": "stream",
     "text": [
      "[CV]  base_score=0.01, gamma=0.01, reg_alpha=0.01, n_estimators=30, objective=binary:logistic, max_depth=5, seed=1337, min_child_weight=5, learning_rate=0.001, subsample=0.3, colsample_bytree=1, silent=1, nthread=4 -  39.4s\n",
      "[CV] base_score=0.01, gamma=0.01, reg_alpha=0.1, n_estimators=30, objective=binary:logistic, max_depth=5, seed=1337, min_child_weight=5, learning_rate=0.001, subsample=0.8, colsample_bytree=1, silent=1, nthread=4 \n"
     ]
    },
    {
     "name": "stderr",
     "output_type": "stream",
     "text": [
      "/home/ubuntu/Virtualenvs/mateo/lib/python3.4/site-packages/sklearn/externals/joblib/hashing.py:197: DeprecationWarning: Changing the shape of non-C contiguous array by\n",
      "descriptor assignment is deprecated. To maintain\n",
      "the Fortran contiguity of a multidimensional Fortran\n",
      "array, use 'a.T.view(...).T' instead\n",
      "  obj_bytes_view = obj.view(self.np.uint8)\n",
      "/home/ubuntu/Virtualenvs/mateo/lib/python3.4/site-packages/sklearn/metrics/classification.py:1117: UndefinedMetricWarning: F-score is ill-defined and being set to 0.0 due to no predicted samples.\n",
      "  'precision', 'predicted', average, warn_for)\n"
     ]
    },
    {
     "name": "stdout",
     "output_type": "stream",
     "text": [
      "[CV]  base_score=0.01, gamma=0.01, reg_alpha=0.01, n_estimators=30, objective=binary:logistic, max_depth=5, seed=1337, min_child_weight=5, learning_rate=0.001, subsample=0.3, colsample_bytree=1, silent=1, nthread=4 -  39.8s\n",
      "[CV] base_score=0.01, gamma=0.01, reg_alpha=0.1, n_estimators=30, objective=binary:logistic, max_depth=5, seed=1337, min_child_weight=5, learning_rate=0.001, subsample=0.8, colsample_bytree=1, silent=1, nthread=4 \n"
     ]
    },
    {
     "name": "stderr",
     "output_type": "stream",
     "text": [
      "/home/ubuntu/Virtualenvs/mateo/lib/python3.4/site-packages/sklearn/externals/joblib/hashing.py:197: DeprecationWarning: Changing the shape of non-C contiguous array by\n",
      "descriptor assignment is deprecated. To maintain\n",
      "the Fortran contiguity of a multidimensional Fortran\n",
      "array, use 'a.T.view(...).T' instead\n",
      "  obj_bytes_view = obj.view(self.np.uint8)\n",
      "/home/ubuntu/Virtualenvs/mateo/lib/python3.4/site-packages/sklearn/metrics/classification.py:1117: UndefinedMetricWarning: F-score is ill-defined and being set to 0.0 due to no predicted samples.\n",
      "  'precision', 'predicted', average, warn_for)\n"
     ]
    },
    {
     "name": "stdout",
     "output_type": "stream",
     "text": [
      "[CV]  base_score=0.01, gamma=0.01, reg_alpha=0.1, n_estimators=30, objective=binary:logistic, max_depth=5, seed=1337, min_child_weight=5, learning_rate=0.001, subsample=0.8, colsample_bytree=1, silent=1, nthread=4 -  47.4s\n",
      "[CV] base_score=0.01, gamma=0.01, reg_alpha=0.1, n_estimators=30, objective=binary:logistic, max_depth=5, seed=1337, min_child_weight=5, learning_rate=0.001, subsample=0.5, colsample_bytree=1, silent=1, nthread=4 \n"
     ]
    },
    {
     "name": "stderr",
     "output_type": "stream",
     "text": [
      "/home/ubuntu/Virtualenvs/mateo/lib/python3.4/site-packages/sklearn/externals/joblib/hashing.py:197: DeprecationWarning: Changing the shape of non-C contiguous array by\n",
      "descriptor assignment is deprecated. To maintain\n",
      "the Fortran contiguity of a multidimensional Fortran\n",
      "array, use 'a.T.view(...).T' instead\n",
      "  obj_bytes_view = obj.view(self.np.uint8)\n",
      "/home/ubuntu/Virtualenvs/mateo/lib/python3.4/site-packages/sklearn/metrics/classification.py:1117: UndefinedMetricWarning: F-score is ill-defined and being set to 0.0 due to no predicted samples.\n",
      "  'precision', 'predicted', average, warn_for)\n"
     ]
    },
    {
     "name": "stdout",
     "output_type": "stream",
     "text": [
      "[CV]  base_score=0.01, gamma=0.01, reg_alpha=0.1, n_estimators=30, objective=binary:logistic, max_depth=5, seed=1337, min_child_weight=5, learning_rate=0.001, subsample=0.8, colsample_bytree=1, silent=1, nthread=4 -  46.0s\n",
      "[CV] base_score=0.01, gamma=0.01, reg_alpha=0.1, n_estimators=30, objective=binary:logistic, max_depth=5, seed=1337, min_child_weight=5, learning_rate=0.001, subsample=0.5, colsample_bytree=1, silent=1, nthread=4 \n"
     ]
    },
    {
     "name": "stderr",
     "output_type": "stream",
     "text": [
      "/home/ubuntu/Virtualenvs/mateo/lib/python3.4/site-packages/sklearn/externals/joblib/hashing.py:197: DeprecationWarning: Changing the shape of non-C contiguous array by\n",
      "descriptor assignment is deprecated. To maintain\n",
      "the Fortran contiguity of a multidimensional Fortran\n",
      "array, use 'a.T.view(...).T' instead\n",
      "  obj_bytes_view = obj.view(self.np.uint8)\n",
      "/home/ubuntu/Virtualenvs/mateo/lib/python3.4/site-packages/sklearn/metrics/classification.py:1117: UndefinedMetricWarning: F-score is ill-defined and being set to 0.0 due to no predicted samples.\n",
      "  'precision', 'predicted', average, warn_for)\n"
     ]
    },
    {
     "name": "stdout",
     "output_type": "stream",
     "text": [
      "[CV]  base_score=0.01, gamma=0.01, reg_alpha=0.1, n_estimators=30, objective=binary:logistic, max_depth=5, seed=1337, min_child_weight=5, learning_rate=0.001, subsample=0.8, colsample_bytree=1, silent=1, nthread=4 -  47.6s\n",
      "[CV] base_score=0.01, gamma=0.01, reg_alpha=0.1, n_estimators=30, objective=binary:logistic, max_depth=5, seed=1337, min_child_weight=5, learning_rate=0.001, subsample=0.5, colsample_bytree=1, silent=1, nthread=4 \n"
     ]
    },
    {
     "name": "stderr",
     "output_type": "stream",
     "text": [
      "/home/ubuntu/Virtualenvs/mateo/lib/python3.4/site-packages/sklearn/externals/joblib/hashing.py:197: DeprecationWarning: Changing the shape of non-C contiguous array by\n",
      "descriptor assignment is deprecated. To maintain\n",
      "the Fortran contiguity of a multidimensional Fortran\n",
      "array, use 'a.T.view(...).T' instead\n",
      "  obj_bytes_view = obj.view(self.np.uint8)\n",
      "/home/ubuntu/Virtualenvs/mateo/lib/python3.4/site-packages/sklearn/metrics/classification.py:1117: UndefinedMetricWarning: F-score is ill-defined and being set to 0.0 due to no predicted samples.\n",
      "  'precision', 'predicted', average, warn_for)\n"
     ]
    },
    {
     "name": "stdout",
     "output_type": "stream",
     "text": [
      "[CV]  base_score=0.01, gamma=0.01, reg_alpha=0.1, n_estimators=30, objective=binary:logistic, max_depth=5, seed=1337, min_child_weight=5, learning_rate=0.001, subsample=0.5, colsample_bytree=1, silent=1, nthread=4 -  51.5s\n",
      "[CV] base_score=0.01, gamma=0.01, reg_alpha=0.1, n_estimators=30, objective=binary:logistic, max_depth=5, seed=1337, min_child_weight=5, learning_rate=0.001, subsample=0.3, colsample_bytree=1, silent=1, nthread=4 \n"
     ]
    },
    {
     "name": "stderr",
     "output_type": "stream",
     "text": [
      "/home/ubuntu/Virtualenvs/mateo/lib/python3.4/site-packages/sklearn/externals/joblib/hashing.py:197: DeprecationWarning: Changing the shape of non-C contiguous array by\n",
      "descriptor assignment is deprecated. To maintain\n",
      "the Fortran contiguity of a multidimensional Fortran\n",
      "array, use 'a.T.view(...).T' instead\n",
      "  obj_bytes_view = obj.view(self.np.uint8)\n",
      "/home/ubuntu/Virtualenvs/mateo/lib/python3.4/site-packages/sklearn/metrics/classification.py:1117: UndefinedMetricWarning: F-score is ill-defined and being set to 0.0 due to no predicted samples.\n",
      "  'precision', 'predicted', average, warn_for)\n"
     ]
    },
    {
     "name": "stdout",
     "output_type": "stream",
     "text": [
      "[CV]  base_score=0.01, gamma=0.01, reg_alpha=0.1, n_estimators=30, objective=binary:logistic, max_depth=5, seed=1337, min_child_weight=5, learning_rate=0.001, subsample=0.5, colsample_bytree=1, silent=1, nthread=4 -  50.1s\n",
      "[CV] base_score=0.01, gamma=0.01, reg_alpha=0.1, n_estimators=30, objective=binary:logistic, max_depth=5, seed=1337, min_child_weight=5, learning_rate=0.001, subsample=0.3, colsample_bytree=1, silent=1, nthread=4 \n"
     ]
    },
    {
     "name": "stderr",
     "output_type": "stream",
     "text": [
      "/home/ubuntu/Virtualenvs/mateo/lib/python3.4/site-packages/sklearn/externals/joblib/hashing.py:197: DeprecationWarning: Changing the shape of non-C contiguous array by\n",
      "descriptor assignment is deprecated. To maintain\n",
      "the Fortran contiguity of a multidimensional Fortran\n",
      "array, use 'a.T.view(...).T' instead\n",
      "  obj_bytes_view = obj.view(self.np.uint8)\n",
      "/home/ubuntu/Virtualenvs/mateo/lib/python3.4/site-packages/sklearn/metrics/classification.py:1117: UndefinedMetricWarning: F-score is ill-defined and being set to 0.0 due to no predicted samples.\n",
      "  'precision', 'predicted', average, warn_for)\n"
     ]
    },
    {
     "name": "stdout",
     "output_type": "stream",
     "text": [
      "[CV]  base_score=0.01, gamma=0.01, reg_alpha=0.1, n_estimators=30, objective=binary:logistic, max_depth=5, seed=1337, min_child_weight=5, learning_rate=0.001, subsample=0.5, colsample_bytree=1, silent=1, nthread=4 -  50.3s\n",
      "[CV] base_score=0.01, gamma=0.01, reg_alpha=0.1, n_estimators=30, objective=binary:logistic, max_depth=5, seed=1337, min_child_weight=5, learning_rate=0.001, subsample=0.3, colsample_bytree=1, silent=1, nthread=4 \n"
     ]
    },
    {
     "name": "stderr",
     "output_type": "stream",
     "text": [
      "/home/ubuntu/Virtualenvs/mateo/lib/python3.4/site-packages/sklearn/externals/joblib/hashing.py:197: DeprecationWarning: Changing the shape of non-C contiguous array by\n",
      "descriptor assignment is deprecated. To maintain\n",
      "the Fortran contiguity of a multidimensional Fortran\n",
      "array, use 'a.T.view(...).T' instead\n",
      "  obj_bytes_view = obj.view(self.np.uint8)\n",
      "/home/ubuntu/Virtualenvs/mateo/lib/python3.4/site-packages/sklearn/metrics/classification.py:1117: UndefinedMetricWarning: F-score is ill-defined and being set to 0.0 due to no predicted samples.\n",
      "  'precision', 'predicted', average, warn_for)\n"
     ]
    },
    {
     "name": "stdout",
     "output_type": "stream",
     "text": [
      "[CV]  base_score=0.01, gamma=0.01, reg_alpha=0.1, n_estimators=30, objective=binary:logistic, max_depth=5, seed=1337, min_child_weight=5, learning_rate=0.001, subsample=0.3, colsample_bytree=1, silent=1, nthread=4 -  40.3s\n",
      "[CV] base_score=0.01, gamma=0.01, reg_alpha=1.0, n_estimators=30, objective=binary:logistic, max_depth=5, seed=1337, min_child_weight=5, learning_rate=0.001, subsample=0.8, colsample_bytree=1, silent=1, nthread=4 \n"
     ]
    },
    {
     "name": "stderr",
     "output_type": "stream",
     "text": [
      "/home/ubuntu/Virtualenvs/mateo/lib/python3.4/site-packages/sklearn/externals/joblib/hashing.py:197: DeprecationWarning: Changing the shape of non-C contiguous array by\n",
      "descriptor assignment is deprecated. To maintain\n",
      "the Fortran contiguity of a multidimensional Fortran\n",
      "array, use 'a.T.view(...).T' instead\n",
      "  obj_bytes_view = obj.view(self.np.uint8)\n",
      "/home/ubuntu/Virtualenvs/mateo/lib/python3.4/site-packages/sklearn/metrics/classification.py:1117: UndefinedMetricWarning: F-score is ill-defined and being set to 0.0 due to no predicted samples.\n",
      "  'precision', 'predicted', average, warn_for)\n"
     ]
    },
    {
     "name": "stdout",
     "output_type": "stream",
     "text": [
      "[CV]  base_score=0.01, gamma=0.01, reg_alpha=0.1, n_estimators=30, objective=binary:logistic, max_depth=5, seed=1337, min_child_weight=5, learning_rate=0.001, subsample=0.3, colsample_bytree=1, silent=1, nthread=4 -  39.7s\n",
      "[CV] base_score=0.01, gamma=0.01, reg_alpha=1.0, n_estimators=30, objective=binary:logistic, max_depth=5, seed=1337, min_child_weight=5, learning_rate=0.001, subsample=0.8, colsample_bytree=1, silent=1, nthread=4 \n"
     ]
    },
    {
     "name": "stderr",
     "output_type": "stream",
     "text": [
      "/home/ubuntu/Virtualenvs/mateo/lib/python3.4/site-packages/sklearn/externals/joblib/hashing.py:197: DeprecationWarning: Changing the shape of non-C contiguous array by\n",
      "descriptor assignment is deprecated. To maintain\n",
      "the Fortran contiguity of a multidimensional Fortran\n",
      "array, use 'a.T.view(...).T' instead\n",
      "  obj_bytes_view = obj.view(self.np.uint8)\n",
      "/home/ubuntu/Virtualenvs/mateo/lib/python3.4/site-packages/sklearn/metrics/classification.py:1117: UndefinedMetricWarning: F-score is ill-defined and being set to 0.0 due to no predicted samples.\n",
      "  'precision', 'predicted', average, warn_for)\n"
     ]
    },
    {
     "name": "stdout",
     "output_type": "stream",
     "text": [
      "[CV]  base_score=0.01, gamma=0.01, reg_alpha=0.1, n_estimators=30, objective=binary:logistic, max_depth=5, seed=1337, min_child_weight=5, learning_rate=0.001, subsample=0.3, colsample_bytree=1, silent=1, nthread=4 -  39.5s\n",
      "[CV] base_score=0.01, gamma=0.01, reg_alpha=1.0, n_estimators=30, objective=binary:logistic, max_depth=5, seed=1337, min_child_weight=5, learning_rate=0.001, subsample=0.8, colsample_bytree=1, silent=1, nthread=4 \n"
     ]
    },
    {
     "name": "stderr",
     "output_type": "stream",
     "text": [
      "/home/ubuntu/Virtualenvs/mateo/lib/python3.4/site-packages/sklearn/externals/joblib/hashing.py:197: DeprecationWarning: Changing the shape of non-C contiguous array by\n",
      "descriptor assignment is deprecated. To maintain\n",
      "the Fortran contiguity of a multidimensional Fortran\n",
      "array, use 'a.T.view(...).T' instead\n",
      "  obj_bytes_view = obj.view(self.np.uint8)\n",
      "/home/ubuntu/Virtualenvs/mateo/lib/python3.4/site-packages/sklearn/metrics/classification.py:1117: UndefinedMetricWarning: F-score is ill-defined and being set to 0.0 due to no predicted samples.\n",
      "  'precision', 'predicted', average, warn_for)\n"
     ]
    },
    {
     "name": "stdout",
     "output_type": "stream",
     "text": [
      "[CV]  base_score=0.01, gamma=0.01, reg_alpha=1.0, n_estimators=30, objective=binary:logistic, max_depth=5, seed=1337, min_child_weight=5, learning_rate=0.001, subsample=0.8, colsample_bytree=1, silent=1, nthread=4 -  46.9s\n",
      "[CV] base_score=0.01, gamma=0.01, reg_alpha=1.0, n_estimators=30, objective=binary:logistic, max_depth=5, seed=1337, min_child_weight=5, learning_rate=0.001, subsample=0.5, colsample_bytree=1, silent=1, nthread=4 \n"
     ]
    },
    {
     "name": "stderr",
     "output_type": "stream",
     "text": [
      "/home/ubuntu/Virtualenvs/mateo/lib/python3.4/site-packages/sklearn/externals/joblib/hashing.py:197: DeprecationWarning: Changing the shape of non-C contiguous array by\n",
      "descriptor assignment is deprecated. To maintain\n",
      "the Fortran contiguity of a multidimensional Fortran\n",
      "array, use 'a.T.view(...).T' instead\n",
      "  obj_bytes_view = obj.view(self.np.uint8)\n",
      "/home/ubuntu/Virtualenvs/mateo/lib/python3.4/site-packages/sklearn/metrics/classification.py:1117: UndefinedMetricWarning: F-score is ill-defined and being set to 0.0 due to no predicted samples.\n",
      "  'precision', 'predicted', average, warn_for)\n"
     ]
    },
    {
     "name": "stdout",
     "output_type": "stream",
     "text": [
      "[CV]  base_score=0.01, gamma=0.01, reg_alpha=1.0, n_estimators=30, objective=binary:logistic, max_depth=5, seed=1337, min_child_weight=5, learning_rate=0.001, subsample=0.8, colsample_bytree=1, silent=1, nthread=4 -  47.5s\n",
      "[CV] base_score=0.01, gamma=0.01, reg_alpha=1.0, n_estimators=30, objective=binary:logistic, max_depth=5, seed=1337, min_child_weight=5, learning_rate=0.001, subsample=0.5, colsample_bytree=1, silent=1, nthread=4 \n"
     ]
    },
    {
     "name": "stderr",
     "output_type": "stream",
     "text": [
      "/home/ubuntu/Virtualenvs/mateo/lib/python3.4/site-packages/sklearn/externals/joblib/hashing.py:197: DeprecationWarning: Changing the shape of non-C contiguous array by\n",
      "descriptor assignment is deprecated. To maintain\n",
      "the Fortran contiguity of a multidimensional Fortran\n",
      "array, use 'a.T.view(...).T' instead\n",
      "  obj_bytes_view = obj.view(self.np.uint8)\n",
      "/home/ubuntu/Virtualenvs/mateo/lib/python3.4/site-packages/sklearn/metrics/classification.py:1117: UndefinedMetricWarning: F-score is ill-defined and being set to 0.0 due to no predicted samples.\n",
      "  'precision', 'predicted', average, warn_for)\n"
     ]
    },
    {
     "name": "stdout",
     "output_type": "stream",
     "text": [
      "[CV]  base_score=0.01, gamma=0.01, reg_alpha=1.0, n_estimators=30, objective=binary:logistic, max_depth=5, seed=1337, min_child_weight=5, learning_rate=0.001, subsample=0.8, colsample_bytree=1, silent=1, nthread=4 -  46.5s\n",
      "[CV] base_score=0.01, gamma=0.01, reg_alpha=1.0, n_estimators=30, objective=binary:logistic, max_depth=5, seed=1337, min_child_weight=5, learning_rate=0.001, subsample=0.5, colsample_bytree=1, silent=1, nthread=4 \n"
     ]
    },
    {
     "name": "stderr",
     "output_type": "stream",
     "text": [
      "[Parallel(n_jobs=3)]: Done 156 tasks      | elapsed: 30.4min\n",
      "/home/ubuntu/Virtualenvs/mateo/lib/python3.4/site-packages/sklearn/externals/joblib/hashing.py:197: DeprecationWarning: Changing the shape of non-C contiguous array by\n",
      "descriptor assignment is deprecated. To maintain\n",
      "the Fortran contiguity of a multidimensional Fortran\n",
      "array, use 'a.T.view(...).T' instead\n",
      "  obj_bytes_view = obj.view(self.np.uint8)\n",
      "/home/ubuntu/Virtualenvs/mateo/lib/python3.4/site-packages/sklearn/metrics/classification.py:1117: UndefinedMetricWarning: F-score is ill-defined and being set to 0.0 due to no predicted samples.\n",
      "  'precision', 'predicted', average, warn_for)\n"
     ]
    },
    {
     "name": "stdout",
     "output_type": "stream",
     "text": [
      "[CV]  base_score=0.01, gamma=0.01, reg_alpha=1.0, n_estimators=30, objective=binary:logistic, max_depth=5, seed=1337, min_child_weight=5, learning_rate=0.001, subsample=0.5, colsample_bytree=1, silent=1, nthread=4 -  51.1s\n",
      "[CV] base_score=0.01, gamma=0.01, reg_alpha=1.0, n_estimators=30, objective=binary:logistic, max_depth=5, seed=1337, min_child_weight=5, learning_rate=0.001, subsample=0.3, colsample_bytree=1, silent=1, nthread=4 \n"
     ]
    },
    {
     "name": "stderr",
     "output_type": "stream",
     "text": [
      "/home/ubuntu/Virtualenvs/mateo/lib/python3.4/site-packages/sklearn/externals/joblib/hashing.py:197: DeprecationWarning: Changing the shape of non-C contiguous array by\n",
      "descriptor assignment is deprecated. To maintain\n",
      "the Fortran contiguity of a multidimensional Fortran\n",
      "array, use 'a.T.view(...).T' instead\n",
      "  obj_bytes_view = obj.view(self.np.uint8)\n",
      "/home/ubuntu/Virtualenvs/mateo/lib/python3.4/site-packages/sklearn/metrics/classification.py:1117: UndefinedMetricWarning: F-score is ill-defined and being set to 0.0 due to no predicted samples.\n",
      "  'precision', 'predicted', average, warn_for)\n"
     ]
    },
    {
     "name": "stdout",
     "output_type": "stream",
     "text": [
      "[CV]  base_score=0.01, gamma=0.01, reg_alpha=1.0, n_estimators=30, objective=binary:logistic, max_depth=5, seed=1337, min_child_weight=5, learning_rate=0.001, subsample=0.5, colsample_bytree=1, silent=1, nthread=4 -  48.7s\n",
      "[CV] base_score=0.01, gamma=0.01, reg_alpha=1.0, n_estimators=30, objective=binary:logistic, max_depth=5, seed=1337, min_child_weight=5, learning_rate=0.001, subsample=0.3, colsample_bytree=1, silent=1, nthread=4 \n"
     ]
    },
    {
     "name": "stderr",
     "output_type": "stream",
     "text": [
      "/home/ubuntu/Virtualenvs/mateo/lib/python3.4/site-packages/sklearn/externals/joblib/hashing.py:197: DeprecationWarning: Changing the shape of non-C contiguous array by\n",
      "descriptor assignment is deprecated. To maintain\n",
      "the Fortran contiguity of a multidimensional Fortran\n",
      "array, use 'a.T.view(...).T' instead\n",
      "  obj_bytes_view = obj.view(self.np.uint8)\n",
      "/home/ubuntu/Virtualenvs/mateo/lib/python3.4/site-packages/sklearn/metrics/classification.py:1117: UndefinedMetricWarning: F-score is ill-defined and being set to 0.0 due to no predicted samples.\n",
      "  'precision', 'predicted', average, warn_for)\n"
     ]
    },
    {
     "name": "stdout",
     "output_type": "stream",
     "text": [
      "[CV]  base_score=0.01, gamma=0.01, reg_alpha=1.0, n_estimators=30, objective=binary:logistic, max_depth=5, seed=1337, min_child_weight=5, learning_rate=0.001, subsample=0.5, colsample_bytree=1, silent=1, nthread=4 -  50.8s\n",
      "[CV] base_score=0.01, gamma=0.01, reg_alpha=1.0, n_estimators=30, objective=binary:logistic, max_depth=5, seed=1337, min_child_weight=5, learning_rate=0.001, subsample=0.3, colsample_bytree=1, silent=1, nthread=4 \n"
     ]
    },
    {
     "name": "stderr",
     "output_type": "stream",
     "text": [
      "/home/ubuntu/Virtualenvs/mateo/lib/python3.4/site-packages/sklearn/externals/joblib/hashing.py:197: DeprecationWarning: Changing the shape of non-C contiguous array by\n",
      "descriptor assignment is deprecated. To maintain\n",
      "the Fortran contiguity of a multidimensional Fortran\n",
      "array, use 'a.T.view(...).T' instead\n",
      "  obj_bytes_view = obj.view(self.np.uint8)\n",
      "/home/ubuntu/Virtualenvs/mateo/lib/python3.4/site-packages/sklearn/metrics/classification.py:1117: UndefinedMetricWarning: F-score is ill-defined and being set to 0.0 due to no predicted samples.\n",
      "  'precision', 'predicted', average, warn_for)\n"
     ]
    },
    {
     "name": "stdout",
     "output_type": "stream",
     "text": [
      "[CV]  base_score=0.01, gamma=0.01, reg_alpha=1.0, n_estimators=30, objective=binary:logistic, max_depth=5, seed=1337, min_child_weight=5, learning_rate=0.001, subsample=0.3, colsample_bytree=1, silent=1, nthread=4 -  40.1s\n",
      "[CV] base_score=0.01, gamma=0.01, reg_alpha=0.01, n_estimators=15, objective=binary:logistic, max_depth=5, seed=1337, min_child_weight=2, learning_rate=0.001, subsample=0.8, colsample_bytree=1, silent=1, nthread=4 \n"
     ]
    },
    {
     "name": "stderr",
     "output_type": "stream",
     "text": [
      "/home/ubuntu/Virtualenvs/mateo/lib/python3.4/site-packages/sklearn/externals/joblib/hashing.py:197: DeprecationWarning: Changing the shape of non-C contiguous array by\n",
      "descriptor assignment is deprecated. To maintain\n",
      "the Fortran contiguity of a multidimensional Fortran\n",
      "array, use 'a.T.view(...).T' instead\n",
      "  obj_bytes_view = obj.view(self.np.uint8)\n",
      "/home/ubuntu/Virtualenvs/mateo/lib/python3.4/site-packages/sklearn/metrics/classification.py:1117: UndefinedMetricWarning: F-score is ill-defined and being set to 0.0 due to no predicted samples.\n",
      "  'precision', 'predicted', average, warn_for)\n"
     ]
    },
    {
     "name": "stdout",
     "output_type": "stream",
     "text": [
      "[CV]  base_score=0.01, gamma=0.01, reg_alpha=1.0, n_estimators=30, objective=binary:logistic, max_depth=5, seed=1337, min_child_weight=5, learning_rate=0.001, subsample=0.3, colsample_bytree=1, silent=1, nthread=4 -  39.9s\n",
      "[CV] base_score=0.01, gamma=0.01, reg_alpha=0.01, n_estimators=15, objective=binary:logistic, max_depth=5, seed=1337, min_child_weight=2, learning_rate=0.001, subsample=0.8, colsample_bytree=1, silent=1, nthread=4 \n"
     ]
    },
    {
     "name": "stderr",
     "output_type": "stream",
     "text": [
      "/home/ubuntu/Virtualenvs/mateo/lib/python3.4/site-packages/sklearn/externals/joblib/hashing.py:197: DeprecationWarning: Changing the shape of non-C contiguous array by\n",
      "descriptor assignment is deprecated. To maintain\n",
      "the Fortran contiguity of a multidimensional Fortran\n",
      "array, use 'a.T.view(...).T' instead\n",
      "  obj_bytes_view = obj.view(self.np.uint8)\n",
      "/home/ubuntu/Virtualenvs/mateo/lib/python3.4/site-packages/sklearn/metrics/classification.py:1117: UndefinedMetricWarning: F-score is ill-defined and being set to 0.0 due to no predicted samples.\n",
      "  'precision', 'predicted', average, warn_for)\n"
     ]
    },
    {
     "name": "stdout",
     "output_type": "stream",
     "text": [
      "[CV]  base_score=0.01, gamma=0.01, reg_alpha=1.0, n_estimators=30, objective=binary:logistic, max_depth=5, seed=1337, min_child_weight=5, learning_rate=0.001, subsample=0.3, colsample_bytree=1, silent=1, nthread=4 -  40.1s\n",
      "[CV] base_score=0.01, gamma=0.01, reg_alpha=0.01, n_estimators=15, objective=binary:logistic, max_depth=5, seed=1337, min_child_weight=2, learning_rate=0.001, subsample=0.8, colsample_bytree=1, silent=1, nthread=4 \n"
     ]
    },
    {
     "name": "stderr",
     "output_type": "stream",
     "text": [
      "/home/ubuntu/Virtualenvs/mateo/lib/python3.4/site-packages/sklearn/externals/joblib/hashing.py:197: DeprecationWarning: Changing the shape of non-C contiguous array by\n",
      "descriptor assignment is deprecated. To maintain\n",
      "the Fortran contiguity of a multidimensional Fortran\n",
      "array, use 'a.T.view(...).T' instead\n",
      "  obj_bytes_view = obj.view(self.np.uint8)\n",
      "/home/ubuntu/Virtualenvs/mateo/lib/python3.4/site-packages/sklearn/metrics/classification.py:1117: UndefinedMetricWarning: F-score is ill-defined and being set to 0.0 due to no predicted samples.\n",
      "  'precision', 'predicted', average, warn_for)\n"
     ]
    },
    {
     "name": "stdout",
     "output_type": "stream",
     "text": [
      "[CV]  base_score=0.01, gamma=0.01, reg_alpha=0.01, n_estimators=15, objective=binary:logistic, max_depth=5, seed=1337, min_child_weight=2, learning_rate=0.001, subsample=0.8, colsample_bytree=1, silent=1, nthread=4 -  25.3s\n",
      "[CV] base_score=0.01, gamma=0.01, reg_alpha=0.01, n_estimators=15, objective=binary:logistic, max_depth=5, seed=1337, min_child_weight=2, learning_rate=0.001, subsample=0.5, colsample_bytree=1, silent=1, nthread=4 \n"
     ]
    },
    {
     "name": "stderr",
     "output_type": "stream",
     "text": [
      "/home/ubuntu/Virtualenvs/mateo/lib/python3.4/site-packages/sklearn/externals/joblib/hashing.py:197: DeprecationWarning: Changing the shape of non-C contiguous array by\n",
      "descriptor assignment is deprecated. To maintain\n",
      "the Fortran contiguity of a multidimensional Fortran\n",
      "array, use 'a.T.view(...).T' instead\n",
      "  obj_bytes_view = obj.view(self.np.uint8)\n",
      "/home/ubuntu/Virtualenvs/mateo/lib/python3.4/site-packages/sklearn/metrics/classification.py:1117: UndefinedMetricWarning: F-score is ill-defined and being set to 0.0 due to no predicted samples.\n",
      "  'precision', 'predicted', average, warn_for)\n"
     ]
    },
    {
     "name": "stdout",
     "output_type": "stream",
     "text": [
      "[CV]  base_score=0.01, gamma=0.01, reg_alpha=0.01, n_estimators=15, objective=binary:logistic, max_depth=5, seed=1337, min_child_weight=2, learning_rate=0.001, subsample=0.8, colsample_bytree=1, silent=1, nthread=4 -  24.9s\n",
      "[CV] base_score=0.01, gamma=0.01, reg_alpha=0.01, n_estimators=15, objective=binary:logistic, max_depth=5, seed=1337, min_child_weight=2, learning_rate=0.001, subsample=0.5, colsample_bytree=1, silent=1, nthread=4 \n"
     ]
    },
    {
     "name": "stderr",
     "output_type": "stream",
     "text": [
      "/home/ubuntu/Virtualenvs/mateo/lib/python3.4/site-packages/sklearn/externals/joblib/hashing.py:197: DeprecationWarning: Changing the shape of non-C contiguous array by\n",
      "descriptor assignment is deprecated. To maintain\n",
      "the Fortran contiguity of a multidimensional Fortran\n",
      "array, use 'a.T.view(...).T' instead\n",
      "  obj_bytes_view = obj.view(self.np.uint8)\n",
      "/home/ubuntu/Virtualenvs/mateo/lib/python3.4/site-packages/sklearn/metrics/classification.py:1117: UndefinedMetricWarning: F-score is ill-defined and being set to 0.0 due to no predicted samples.\n",
      "  'precision', 'predicted', average, warn_for)\n"
     ]
    },
    {
     "name": "stdout",
     "output_type": "stream",
     "text": [
      "[CV]  base_score=0.01, gamma=0.01, reg_alpha=0.01, n_estimators=15, objective=binary:logistic, max_depth=5, seed=1337, min_child_weight=2, learning_rate=0.001, subsample=0.8, colsample_bytree=1, silent=1, nthread=4 -  25.8s\n",
      "[CV] base_score=0.01, gamma=0.01, reg_alpha=0.01, n_estimators=15, objective=binary:logistic, max_depth=5, seed=1337, min_child_weight=2, learning_rate=0.001, subsample=0.5, colsample_bytree=1, silent=1, nthread=4 \n"
     ]
    },
    {
     "name": "stderr",
     "output_type": "stream",
     "text": [
      "/home/ubuntu/Virtualenvs/mateo/lib/python3.4/site-packages/sklearn/externals/joblib/hashing.py:197: DeprecationWarning: Changing the shape of non-C contiguous array by\n",
      "descriptor assignment is deprecated. To maintain\n",
      "the Fortran contiguity of a multidimensional Fortran\n",
      "array, use 'a.T.view(...).T' instead\n",
      "  obj_bytes_view = obj.view(self.np.uint8)\n",
      "/home/ubuntu/Virtualenvs/mateo/lib/python3.4/site-packages/sklearn/metrics/classification.py:1117: UndefinedMetricWarning: F-score is ill-defined and being set to 0.0 due to no predicted samples.\n",
      "  'precision', 'predicted', average, warn_for)\n"
     ]
    },
    {
     "name": "stdout",
     "output_type": "stream",
     "text": [
      "[CV]  base_score=0.01, gamma=0.01, reg_alpha=0.01, n_estimators=15, objective=binary:logistic, max_depth=5, seed=1337, min_child_weight=2, learning_rate=0.001, subsample=0.5, colsample_bytree=1, silent=1, nthread=4 -  27.2s\n",
      "[CV] base_score=0.01, gamma=0.01, reg_alpha=0.01, n_estimators=15, objective=binary:logistic, max_depth=5, seed=1337, min_child_weight=2, learning_rate=0.001, subsample=0.3, colsample_bytree=1, silent=1, nthread=4 \n"
     ]
    },
    {
     "name": "stderr",
     "output_type": "stream",
     "text": [
      "/home/ubuntu/Virtualenvs/mateo/lib/python3.4/site-packages/sklearn/externals/joblib/hashing.py:197: DeprecationWarning: Changing the shape of non-C contiguous array by\n",
      "descriptor assignment is deprecated. To maintain\n",
      "the Fortran contiguity of a multidimensional Fortran\n",
      "array, use 'a.T.view(...).T' instead\n",
      "  obj_bytes_view = obj.view(self.np.uint8)\n",
      "/home/ubuntu/Virtualenvs/mateo/lib/python3.4/site-packages/sklearn/metrics/classification.py:1117: UndefinedMetricWarning: F-score is ill-defined and being set to 0.0 due to no predicted samples.\n",
      "  'precision', 'predicted', average, warn_for)\n"
     ]
    },
    {
     "name": "stdout",
     "output_type": "stream",
     "text": [
      "[CV]  base_score=0.01, gamma=0.01, reg_alpha=0.01, n_estimators=15, objective=binary:logistic, max_depth=5, seed=1337, min_child_weight=2, learning_rate=0.001, subsample=0.5, colsample_bytree=1, silent=1, nthread=4 -  27.4s\n",
      "[CV] base_score=0.01, gamma=0.01, reg_alpha=0.01, n_estimators=15, objective=binary:logistic, max_depth=5, seed=1337, min_child_weight=2, learning_rate=0.001, subsample=0.3, colsample_bytree=1, silent=1, nthread=4 \n"
     ]
    },
    {
     "name": "stderr",
     "output_type": "stream",
     "text": [
      "/home/ubuntu/Virtualenvs/mateo/lib/python3.4/site-packages/sklearn/externals/joblib/hashing.py:197: DeprecationWarning: Changing the shape of non-C contiguous array by\n",
      "descriptor assignment is deprecated. To maintain\n",
      "the Fortran contiguity of a multidimensional Fortran\n",
      "array, use 'a.T.view(...).T' instead\n",
      "  obj_bytes_view = obj.view(self.np.uint8)\n",
      "/home/ubuntu/Virtualenvs/mateo/lib/python3.4/site-packages/sklearn/metrics/classification.py:1117: UndefinedMetricWarning: F-score is ill-defined and being set to 0.0 due to no predicted samples.\n",
      "  'precision', 'predicted', average, warn_for)\n"
     ]
    },
    {
     "name": "stdout",
     "output_type": "stream",
     "text": [
      "[CV]  base_score=0.01, gamma=0.01, reg_alpha=0.01, n_estimators=15, objective=binary:logistic, max_depth=5, seed=1337, min_child_weight=2, learning_rate=0.001, subsample=0.5, colsample_bytree=1, silent=1, nthread=4 -  26.7s\n",
      "[CV] base_score=0.01, gamma=0.01, reg_alpha=0.01, n_estimators=15, objective=binary:logistic, max_depth=5, seed=1337, min_child_weight=2, learning_rate=0.001, subsample=0.3, colsample_bytree=1, silent=1, nthread=4 \n"
     ]
    },
    {
     "name": "stderr",
     "output_type": "stream",
     "text": [
      "/home/ubuntu/Virtualenvs/mateo/lib/python3.4/site-packages/sklearn/externals/joblib/hashing.py:197: DeprecationWarning: Changing the shape of non-C contiguous array by\n",
      "descriptor assignment is deprecated. To maintain\n",
      "the Fortran contiguity of a multidimensional Fortran\n",
      "array, use 'a.T.view(...).T' instead\n",
      "  obj_bytes_view = obj.view(self.np.uint8)\n",
      "/home/ubuntu/Virtualenvs/mateo/lib/python3.4/site-packages/sklearn/metrics/classification.py:1117: UndefinedMetricWarning: F-score is ill-defined and being set to 0.0 due to no predicted samples.\n",
      "  'precision', 'predicted', average, warn_for)\n"
     ]
    },
    {
     "name": "stdout",
     "output_type": "stream",
     "text": [
      "[CV]  base_score=0.01, gamma=0.01, reg_alpha=0.01, n_estimators=15, objective=binary:logistic, max_depth=5, seed=1337, min_child_weight=2, learning_rate=0.001, subsample=0.3, colsample_bytree=1, silent=1, nthread=4 -  21.7s\n",
      "[CV] base_score=0.01, gamma=0.01, reg_alpha=0.1, n_estimators=15, objective=binary:logistic, max_depth=5, seed=1337, min_child_weight=2, learning_rate=0.001, subsample=0.8, colsample_bytree=1, silent=1, nthread=4 \n"
     ]
    },
    {
     "name": "stderr",
     "output_type": "stream",
     "text": [
      "/home/ubuntu/Virtualenvs/mateo/lib/python3.4/site-packages/sklearn/externals/joblib/hashing.py:197: DeprecationWarning: Changing the shape of non-C contiguous array by\n",
      "descriptor assignment is deprecated. To maintain\n",
      "the Fortran contiguity of a multidimensional Fortran\n",
      "array, use 'a.T.view(...).T' instead\n",
      "  obj_bytes_view = obj.view(self.np.uint8)\n",
      "/home/ubuntu/Virtualenvs/mateo/lib/python3.4/site-packages/sklearn/metrics/classification.py:1117: UndefinedMetricWarning: F-score is ill-defined and being set to 0.0 due to no predicted samples.\n",
      "  'precision', 'predicted', average, warn_for)\n"
     ]
    },
    {
     "name": "stdout",
     "output_type": "stream",
     "text": [
      "[CV]  base_score=0.01, gamma=0.01, reg_alpha=0.01, n_estimators=15, objective=binary:logistic, max_depth=5, seed=1337, min_child_weight=2, learning_rate=0.001, subsample=0.3, colsample_bytree=1, silent=1, nthread=4 -  22.5s\n",
      "[CV] base_score=0.01, gamma=0.01, reg_alpha=0.1, n_estimators=15, objective=binary:logistic, max_depth=5, seed=1337, min_child_weight=2, learning_rate=0.001, subsample=0.8, colsample_bytree=1, silent=1, nthread=4 \n"
     ]
    },
    {
     "name": "stderr",
     "output_type": "stream",
     "text": [
      "/home/ubuntu/Virtualenvs/mateo/lib/python3.4/site-packages/sklearn/externals/joblib/hashing.py:197: DeprecationWarning: Changing the shape of non-C contiguous array by\n",
      "descriptor assignment is deprecated. To maintain\n",
      "the Fortran contiguity of a multidimensional Fortran\n",
      "array, use 'a.T.view(...).T' instead\n",
      "  obj_bytes_view = obj.view(self.np.uint8)\n",
      "/home/ubuntu/Virtualenvs/mateo/lib/python3.4/site-packages/sklearn/metrics/classification.py:1117: UndefinedMetricWarning: F-score is ill-defined and being set to 0.0 due to no predicted samples.\n",
      "  'precision', 'predicted', average, warn_for)\n"
     ]
    },
    {
     "name": "stdout",
     "output_type": "stream",
     "text": [
      "[CV]  base_score=0.01, gamma=0.01, reg_alpha=0.01, n_estimators=15, objective=binary:logistic, max_depth=5, seed=1337, min_child_weight=2, learning_rate=0.001, subsample=0.3, colsample_bytree=1, silent=1, nthread=4 -  21.4s\n",
      "[CV] base_score=0.01, gamma=0.01, reg_alpha=0.1, n_estimators=15, objective=binary:logistic, max_depth=5, seed=1337, min_child_weight=2, learning_rate=0.001, subsample=0.8, colsample_bytree=1, silent=1, nthread=4 \n"
     ]
    },
    {
     "name": "stderr",
     "output_type": "stream",
     "text": [
      "/home/ubuntu/Virtualenvs/mateo/lib/python3.4/site-packages/sklearn/externals/joblib/hashing.py:197: DeprecationWarning: Changing the shape of non-C contiguous array by\n",
      "descriptor assignment is deprecated. To maintain\n",
      "the Fortran contiguity of a multidimensional Fortran\n",
      "array, use 'a.T.view(...).T' instead\n",
      "  obj_bytes_view = obj.view(self.np.uint8)\n",
      "/home/ubuntu/Virtualenvs/mateo/lib/python3.4/site-packages/sklearn/metrics/classification.py:1117: UndefinedMetricWarning: F-score is ill-defined and being set to 0.0 due to no predicted samples.\n",
      "  'precision', 'predicted', average, warn_for)\n"
     ]
    },
    {
     "name": "stdout",
     "output_type": "stream",
     "text": [
      "[CV]  base_score=0.01, gamma=0.01, reg_alpha=0.1, n_estimators=15, objective=binary:logistic, max_depth=5, seed=1337, min_child_weight=2, learning_rate=0.001, subsample=0.8, colsample_bytree=1, silent=1, nthread=4 -  26.0s\n",
      "[CV] base_score=0.01, gamma=0.01, reg_alpha=0.1, n_estimators=15, objective=binary:logistic, max_depth=5, seed=1337, min_child_weight=2, learning_rate=0.001, subsample=0.5, colsample_bytree=1, silent=1, nthread=4 \n"
     ]
    },
    {
     "name": "stderr",
     "output_type": "stream",
     "text": [
      "/home/ubuntu/Virtualenvs/mateo/lib/python3.4/site-packages/sklearn/externals/joblib/hashing.py:197: DeprecationWarning: Changing the shape of non-C contiguous array by\n",
      "descriptor assignment is deprecated. To maintain\n",
      "the Fortran contiguity of a multidimensional Fortran\n",
      "array, use 'a.T.view(...).T' instead\n",
      "  obj_bytes_view = obj.view(self.np.uint8)\n",
      "/home/ubuntu/Virtualenvs/mateo/lib/python3.4/site-packages/sklearn/metrics/classification.py:1117: UndefinedMetricWarning: F-score is ill-defined and being set to 0.0 due to no predicted samples.\n",
      "  'precision', 'predicted', average, warn_for)\n"
     ]
    },
    {
     "name": "stdout",
     "output_type": "stream",
     "text": [
      "[CV]  base_score=0.01, gamma=0.01, reg_alpha=0.1, n_estimators=15, objective=binary:logistic, max_depth=5, seed=1337, min_child_weight=2, learning_rate=0.001, subsample=0.8, colsample_bytree=1, silent=1, nthread=4 -  24.4s\n",
      "[CV] base_score=0.01, gamma=0.01, reg_alpha=0.1, n_estimators=15, objective=binary:logistic, max_depth=5, seed=1337, min_child_weight=2, learning_rate=0.001, subsample=0.5, colsample_bytree=1, silent=1, nthread=4 \n"
     ]
    },
    {
     "name": "stderr",
     "output_type": "stream",
     "text": [
      "/home/ubuntu/Virtualenvs/mateo/lib/python3.4/site-packages/sklearn/externals/joblib/hashing.py:197: DeprecationWarning: Changing the shape of non-C contiguous array by\n",
      "descriptor assignment is deprecated. To maintain\n",
      "the Fortran contiguity of a multidimensional Fortran\n",
      "array, use 'a.T.view(...).T' instead\n",
      "  obj_bytes_view = obj.view(self.np.uint8)\n",
      "/home/ubuntu/Virtualenvs/mateo/lib/python3.4/site-packages/sklearn/metrics/classification.py:1117: UndefinedMetricWarning: F-score is ill-defined and being set to 0.0 due to no predicted samples.\n",
      "  'precision', 'predicted', average, warn_for)\n"
     ]
    },
    {
     "name": "stdout",
     "output_type": "stream",
     "text": [
      "[CV]  base_score=0.01, gamma=0.01, reg_alpha=0.1, n_estimators=15, objective=binary:logistic, max_depth=5, seed=1337, min_child_weight=2, learning_rate=0.001, subsample=0.8, colsample_bytree=1, silent=1, nthread=4 -  25.9s\n",
      "[CV] base_score=0.01, gamma=0.01, reg_alpha=0.1, n_estimators=15, objective=binary:logistic, max_depth=5, seed=1337, min_child_weight=2, learning_rate=0.001, subsample=0.5, colsample_bytree=1, silent=1, nthread=4 \n"
     ]
    },
    {
     "name": "stderr",
     "output_type": "stream",
     "text": [
      "/home/ubuntu/Virtualenvs/mateo/lib/python3.4/site-packages/sklearn/externals/joblib/hashing.py:197: DeprecationWarning: Changing the shape of non-C contiguous array by\n",
      "descriptor assignment is deprecated. To maintain\n",
      "the Fortran contiguity of a multidimensional Fortran\n",
      "array, use 'a.T.view(...).T' instead\n",
      "  obj_bytes_view = obj.view(self.np.uint8)\n",
      "/home/ubuntu/Virtualenvs/mateo/lib/python3.4/site-packages/sklearn/metrics/classification.py:1117: UndefinedMetricWarning: F-score is ill-defined and being set to 0.0 due to no predicted samples.\n",
      "  'precision', 'predicted', average, warn_for)\n"
     ]
    },
    {
     "name": "stdout",
     "output_type": "stream",
     "text": [
      "[CV]  base_score=0.01, gamma=0.01, reg_alpha=0.1, n_estimators=15, objective=binary:logistic, max_depth=5, seed=1337, min_child_weight=2, learning_rate=0.001, subsample=0.5, colsample_bytree=1, silent=1, nthread=4 -  27.1s\n",
      "[CV] base_score=0.01, gamma=0.01, reg_alpha=0.1, n_estimators=15, objective=binary:logistic, max_depth=5, seed=1337, min_child_weight=2, learning_rate=0.001, subsample=0.3, colsample_bytree=1, silent=1, nthread=4 \n"
     ]
    },
    {
     "name": "stderr",
     "output_type": "stream",
     "text": [
      "/home/ubuntu/Virtualenvs/mateo/lib/python3.4/site-packages/sklearn/externals/joblib/hashing.py:197: DeprecationWarning: Changing the shape of non-C contiguous array by\n",
      "descriptor assignment is deprecated. To maintain\n",
      "the Fortran contiguity of a multidimensional Fortran\n",
      "array, use 'a.T.view(...).T' instead\n",
      "  obj_bytes_view = obj.view(self.np.uint8)\n",
      "/home/ubuntu/Virtualenvs/mateo/lib/python3.4/site-packages/sklearn/metrics/classification.py:1117: UndefinedMetricWarning: F-score is ill-defined and being set to 0.0 due to no predicted samples.\n",
      "  'precision', 'predicted', average, warn_for)\n"
     ]
    },
    {
     "name": "stdout",
     "output_type": "stream",
     "text": [
      "[CV]  base_score=0.01, gamma=0.01, reg_alpha=0.1, n_estimators=15, objective=binary:logistic, max_depth=5, seed=1337, min_child_weight=2, learning_rate=0.001, subsample=0.5, colsample_bytree=1, silent=1, nthread=4 -  26.6s\n",
      "[CV] base_score=0.01, gamma=0.01, reg_alpha=0.1, n_estimators=15, objective=binary:logistic, max_depth=5, seed=1337, min_child_weight=2, learning_rate=0.001, subsample=0.3, colsample_bytree=1, silent=1, nthread=4 \n"
     ]
    },
    {
     "name": "stderr",
     "output_type": "stream",
     "text": [
      "/home/ubuntu/Virtualenvs/mateo/lib/python3.4/site-packages/sklearn/externals/joblib/hashing.py:197: DeprecationWarning: Changing the shape of non-C contiguous array by\n",
      "descriptor assignment is deprecated. To maintain\n",
      "the Fortran contiguity of a multidimensional Fortran\n",
      "array, use 'a.T.view(...).T' instead\n",
      "  obj_bytes_view = obj.view(self.np.uint8)\n",
      "/home/ubuntu/Virtualenvs/mateo/lib/python3.4/site-packages/sklearn/metrics/classification.py:1117: UndefinedMetricWarning: F-score is ill-defined and being set to 0.0 due to no predicted samples.\n",
      "  'precision', 'predicted', average, warn_for)\n"
     ]
    },
    {
     "name": "stdout",
     "output_type": "stream",
     "text": [
      "[CV]  base_score=0.01, gamma=0.01, reg_alpha=0.1, n_estimators=15, objective=binary:logistic, max_depth=5, seed=1337, min_child_weight=2, learning_rate=0.001, subsample=0.5, colsample_bytree=1, silent=1, nthread=4 -  26.5s\n",
      "[CV] base_score=0.01, gamma=0.01, reg_alpha=0.1, n_estimators=15, objective=binary:logistic, max_depth=5, seed=1337, min_child_weight=2, learning_rate=0.001, subsample=0.3, colsample_bytree=1, silent=1, nthread=4 \n"
     ]
    },
    {
     "name": "stderr",
     "output_type": "stream",
     "text": [
      "/home/ubuntu/Virtualenvs/mateo/lib/python3.4/site-packages/sklearn/externals/joblib/hashing.py:197: DeprecationWarning: Changing the shape of non-C contiguous array by\n",
      "descriptor assignment is deprecated. To maintain\n",
      "the Fortran contiguity of a multidimensional Fortran\n",
      "array, use 'a.T.view(...).T' instead\n",
      "  obj_bytes_view = obj.view(self.np.uint8)\n",
      "/home/ubuntu/Virtualenvs/mateo/lib/python3.4/site-packages/sklearn/metrics/classification.py:1117: UndefinedMetricWarning: F-score is ill-defined and being set to 0.0 due to no predicted samples.\n",
      "  'precision', 'predicted', average, warn_for)\n"
     ]
    },
    {
     "name": "stdout",
     "output_type": "stream",
     "text": [
      "[CV]  base_score=0.01, gamma=0.01, reg_alpha=0.1, n_estimators=15, objective=binary:logistic, max_depth=5, seed=1337, min_child_weight=2, learning_rate=0.001, subsample=0.3, colsample_bytree=1, silent=1, nthread=4 -  22.6s\n",
      "[CV] base_score=0.01, gamma=0.01, reg_alpha=1.0, n_estimators=15, objective=binary:logistic, max_depth=5, seed=1337, min_child_weight=2, learning_rate=0.001, subsample=0.8, colsample_bytree=1, silent=1, nthread=4 \n"
     ]
    },
    {
     "name": "stderr",
     "output_type": "stream",
     "text": [
      "/home/ubuntu/Virtualenvs/mateo/lib/python3.4/site-packages/sklearn/externals/joblib/hashing.py:197: DeprecationWarning: Changing the shape of non-C contiguous array by\n",
      "descriptor assignment is deprecated. To maintain\n",
      "the Fortran contiguity of a multidimensional Fortran\n",
      "array, use 'a.T.view(...).T' instead\n",
      "  obj_bytes_view = obj.view(self.np.uint8)\n",
      "/home/ubuntu/Virtualenvs/mateo/lib/python3.4/site-packages/sklearn/metrics/classification.py:1117: UndefinedMetricWarning: F-score is ill-defined and being set to 0.0 due to no predicted samples.\n",
      "  'precision', 'predicted', average, warn_for)\n"
     ]
    },
    {
     "name": "stdout",
     "output_type": "stream",
     "text": [
      "[CV]  base_score=0.01, gamma=0.01, reg_alpha=0.1, n_estimators=15, objective=binary:logistic, max_depth=5, seed=1337, min_child_weight=2, learning_rate=0.001, subsample=0.3, colsample_bytree=1, silent=1, nthread=4 -  21.9s\n",
      "[CV] base_score=0.01, gamma=0.01, reg_alpha=1.0, n_estimators=15, objective=binary:logistic, max_depth=5, seed=1337, min_child_weight=2, learning_rate=0.001, subsample=0.8, colsample_bytree=1, silent=1, nthread=4 \n"
     ]
    },
    {
     "name": "stderr",
     "output_type": "stream",
     "text": [
      "/home/ubuntu/Virtualenvs/mateo/lib/python3.4/site-packages/sklearn/externals/joblib/hashing.py:197: DeprecationWarning: Changing the shape of non-C contiguous array by\n",
      "descriptor assignment is deprecated. To maintain\n",
      "the Fortran contiguity of a multidimensional Fortran\n",
      "array, use 'a.T.view(...).T' instead\n",
      "  obj_bytes_view = obj.view(self.np.uint8)\n",
      "/home/ubuntu/Virtualenvs/mateo/lib/python3.4/site-packages/sklearn/metrics/classification.py:1117: UndefinedMetricWarning: F-score is ill-defined and being set to 0.0 due to no predicted samples.\n",
      "  'precision', 'predicted', average, warn_for)\n"
     ]
    },
    {
     "name": "stdout",
     "output_type": "stream",
     "text": [
      "[CV]  base_score=0.01, gamma=0.01, reg_alpha=0.1, n_estimators=15, objective=binary:logistic, max_depth=5, seed=1337, min_child_weight=2, learning_rate=0.001, subsample=0.3, colsample_bytree=1, silent=1, nthread=4 -  21.7s\n",
      "[CV] base_score=0.01, gamma=0.01, reg_alpha=1.0, n_estimators=15, objective=binary:logistic, max_depth=5, seed=1337, min_child_weight=2, learning_rate=0.001, subsample=0.8, colsample_bytree=1, silent=1, nthread=4 \n"
     ]
    },
    {
     "name": "stderr",
     "output_type": "stream",
     "text": [
      "/home/ubuntu/Virtualenvs/mateo/lib/python3.4/site-packages/sklearn/externals/joblib/hashing.py:197: DeprecationWarning: Changing the shape of non-C contiguous array by\n",
      "descriptor assignment is deprecated. To maintain\n",
      "the Fortran contiguity of a multidimensional Fortran\n",
      "array, use 'a.T.view(...).T' instead\n",
      "  obj_bytes_view = obj.view(self.np.uint8)\n",
      "/home/ubuntu/Virtualenvs/mateo/lib/python3.4/site-packages/sklearn/metrics/classification.py:1117: UndefinedMetricWarning: F-score is ill-defined and being set to 0.0 due to no predicted samples.\n",
      "  'precision', 'predicted', average, warn_for)\n"
     ]
    },
    {
     "name": "stdout",
     "output_type": "stream",
     "text": [
      "[CV]  base_score=0.01, gamma=0.01, reg_alpha=1.0, n_estimators=15, objective=binary:logistic, max_depth=5, seed=1337, min_child_weight=2, learning_rate=0.001, subsample=0.8, colsample_bytree=1, silent=1, nthread=4 -  25.2s\n",
      "[CV] base_score=0.01, gamma=0.01, reg_alpha=1.0, n_estimators=15, objective=binary:logistic, max_depth=5, seed=1337, min_child_weight=2, learning_rate=0.001, subsample=0.5, colsample_bytree=1, silent=1, nthread=4 \n"
     ]
    },
    {
     "name": "stderr",
     "output_type": "stream",
     "text": [
      "/home/ubuntu/Virtualenvs/mateo/lib/python3.4/site-packages/sklearn/externals/joblib/hashing.py:197: DeprecationWarning: Changing the shape of non-C contiguous array by\n",
      "descriptor assignment is deprecated. To maintain\n",
      "the Fortran contiguity of a multidimensional Fortran\n",
      "array, use 'a.T.view(...).T' instead\n",
      "  obj_bytes_view = obj.view(self.np.uint8)\n",
      "/home/ubuntu/Virtualenvs/mateo/lib/python3.4/site-packages/sklearn/metrics/classification.py:1117: UndefinedMetricWarning: F-score is ill-defined and being set to 0.0 due to no predicted samples.\n",
      "  'precision', 'predicted', average, warn_for)\n"
     ]
    },
    {
     "name": "stdout",
     "output_type": "stream",
     "text": [
      "[CV]  base_score=0.01, gamma=0.01, reg_alpha=1.0, n_estimators=15, objective=binary:logistic, max_depth=5, seed=1337, min_child_weight=2, learning_rate=0.001, subsample=0.8, colsample_bytree=1, silent=1, nthread=4 -  25.7s\n",
      "[CV] base_score=0.01, gamma=0.01, reg_alpha=1.0, n_estimators=15, objective=binary:logistic, max_depth=5, seed=1337, min_child_weight=2, learning_rate=0.001, subsample=0.5, colsample_bytree=1, silent=1, nthread=4 \n"
     ]
    },
    {
     "name": "stderr",
     "output_type": "stream",
     "text": [
      "/home/ubuntu/Virtualenvs/mateo/lib/python3.4/site-packages/sklearn/externals/joblib/hashing.py:197: DeprecationWarning: Changing the shape of non-C contiguous array by\n",
      "descriptor assignment is deprecated. To maintain\n",
      "the Fortran contiguity of a multidimensional Fortran\n",
      "array, use 'a.T.view(...).T' instead\n",
      "  obj_bytes_view = obj.view(self.np.uint8)\n",
      "/home/ubuntu/Virtualenvs/mateo/lib/python3.4/site-packages/sklearn/metrics/classification.py:1117: UndefinedMetricWarning: F-score is ill-defined and being set to 0.0 due to no predicted samples.\n",
      "  'precision', 'predicted', average, warn_for)\n"
     ]
    },
    {
     "name": "stdout",
     "output_type": "stream",
     "text": [
      "[CV]  base_score=0.01, gamma=0.01, reg_alpha=1.0, n_estimators=15, objective=binary:logistic, max_depth=5, seed=1337, min_child_weight=2, learning_rate=0.001, subsample=0.8, colsample_bytree=1, silent=1, nthread=4 -  24.7s\n",
      "[CV] base_score=0.01, gamma=0.01, reg_alpha=1.0, n_estimators=15, objective=binary:logistic, max_depth=5, seed=1337, min_child_weight=2, learning_rate=0.001, subsample=0.5, colsample_bytree=1, silent=1, nthread=4 \n"
     ]
    },
    {
     "name": "stderr",
     "output_type": "stream",
     "text": [
      "/home/ubuntu/Virtualenvs/mateo/lib/python3.4/site-packages/sklearn/externals/joblib/hashing.py:197: DeprecationWarning: Changing the shape of non-C contiguous array by\n",
      "descriptor assignment is deprecated. To maintain\n",
      "the Fortran contiguity of a multidimensional Fortran\n",
      "array, use 'a.T.view(...).T' instead\n",
      "  obj_bytes_view = obj.view(self.np.uint8)\n",
      "/home/ubuntu/Virtualenvs/mateo/lib/python3.4/site-packages/sklearn/metrics/classification.py:1117: UndefinedMetricWarning: F-score is ill-defined and being set to 0.0 due to no predicted samples.\n",
      "  'precision', 'predicted', average, warn_for)\n"
     ]
    },
    {
     "name": "stdout",
     "output_type": "stream",
     "text": [
      "[CV]  base_score=0.01, gamma=0.01, reg_alpha=1.0, n_estimators=15, objective=binary:logistic, max_depth=5, seed=1337, min_child_weight=2, learning_rate=0.001, subsample=0.5, colsample_bytree=1, silent=1, nthread=4 -  26.3s\n",
      "[CV] base_score=0.01, gamma=0.01, reg_alpha=1.0, n_estimators=15, objective=binary:logistic, max_depth=5, seed=1337, min_child_weight=2, learning_rate=0.001, subsample=0.3, colsample_bytree=1, silent=1, nthread=4 \n"
     ]
    },
    {
     "name": "stderr",
     "output_type": "stream",
     "text": [
      "/home/ubuntu/Virtualenvs/mateo/lib/python3.4/site-packages/sklearn/externals/joblib/hashing.py:197: DeprecationWarning: Changing the shape of non-C contiguous array by\n",
      "descriptor assignment is deprecated. To maintain\n",
      "the Fortran contiguity of a multidimensional Fortran\n",
      "array, use 'a.T.view(...).T' instead\n",
      "  obj_bytes_view = obj.view(self.np.uint8)\n",
      "/home/ubuntu/Virtualenvs/mateo/lib/python3.4/site-packages/sklearn/metrics/classification.py:1117: UndefinedMetricWarning: F-score is ill-defined and being set to 0.0 due to no predicted samples.\n",
      "  'precision', 'predicted', average, warn_for)\n"
     ]
    },
    {
     "name": "stdout",
     "output_type": "stream",
     "text": [
      "[CV]  base_score=0.01, gamma=0.01, reg_alpha=1.0, n_estimators=15, objective=binary:logistic, max_depth=5, seed=1337, min_child_weight=2, learning_rate=0.001, subsample=0.5, colsample_bytree=1, silent=1, nthread=4 -  26.7s\n",
      "[CV] base_score=0.01, gamma=0.01, reg_alpha=1.0, n_estimators=15, objective=binary:logistic, max_depth=5, seed=1337, min_child_weight=2, learning_rate=0.001, subsample=0.3, colsample_bytree=1, silent=1, nthread=4 \n"
     ]
    },
    {
     "name": "stderr",
     "output_type": "stream",
     "text": [
      "/home/ubuntu/Virtualenvs/mateo/lib/python3.4/site-packages/sklearn/externals/joblib/hashing.py:197: DeprecationWarning: Changing the shape of non-C contiguous array by\n",
      "descriptor assignment is deprecated. To maintain\n",
      "the Fortran contiguity of a multidimensional Fortran\n",
      "array, use 'a.T.view(...).T' instead\n",
      "  obj_bytes_view = obj.view(self.np.uint8)\n",
      "/home/ubuntu/Virtualenvs/mateo/lib/python3.4/site-packages/sklearn/metrics/classification.py:1117: UndefinedMetricWarning: F-score is ill-defined and being set to 0.0 due to no predicted samples.\n",
      "  'precision', 'predicted', average, warn_for)\n"
     ]
    },
    {
     "name": "stdout",
     "output_type": "stream",
     "text": [
      "[CV]  base_score=0.01, gamma=0.01, reg_alpha=1.0, n_estimators=15, objective=binary:logistic, max_depth=5, seed=1337, min_child_weight=2, learning_rate=0.001, subsample=0.5, colsample_bytree=1, silent=1, nthread=4 -  26.6s\n",
      "[CV] base_score=0.01, gamma=0.01, reg_alpha=1.0, n_estimators=15, objective=binary:logistic, max_depth=5, seed=1337, min_child_weight=2, learning_rate=0.001, subsample=0.3, colsample_bytree=1, silent=1, nthread=4 \n"
     ]
    },
    {
     "name": "stderr",
     "output_type": "stream",
     "text": [
      "/home/ubuntu/Virtualenvs/mateo/lib/python3.4/site-packages/sklearn/externals/joblib/hashing.py:197: DeprecationWarning: Changing the shape of non-C contiguous array by\n",
      "descriptor assignment is deprecated. To maintain\n",
      "the Fortran contiguity of a multidimensional Fortran\n",
      "array, use 'a.T.view(...).T' instead\n",
      "  obj_bytes_view = obj.view(self.np.uint8)\n",
      "/home/ubuntu/Virtualenvs/mateo/lib/python3.4/site-packages/sklearn/metrics/classification.py:1117: UndefinedMetricWarning: F-score is ill-defined and being set to 0.0 due to no predicted samples.\n",
      "  'precision', 'predicted', average, warn_for)\n"
     ]
    },
    {
     "name": "stdout",
     "output_type": "stream",
     "text": [
      "[CV]  base_score=0.01, gamma=0.01, reg_alpha=1.0, n_estimators=15, objective=binary:logistic, max_depth=5, seed=1337, min_child_weight=2, learning_rate=0.001, subsample=0.3, colsample_bytree=1, silent=1, nthread=4 -  21.4s\n",
      "[CV] base_score=0.01, gamma=0.01, reg_alpha=0.01, n_estimators=30, objective=binary:logistic, max_depth=5, seed=1337, min_child_weight=2, learning_rate=0.001, subsample=0.8, colsample_bytree=1, silent=1, nthread=4 \n"
     ]
    },
    {
     "name": "stderr",
     "output_type": "stream",
     "text": [
      "/home/ubuntu/Virtualenvs/mateo/lib/python3.4/site-packages/sklearn/externals/joblib/hashing.py:197: DeprecationWarning: Changing the shape of non-C contiguous array by\n",
      "descriptor assignment is deprecated. To maintain\n",
      "the Fortran contiguity of a multidimensional Fortran\n",
      "array, use 'a.T.view(...).T' instead\n",
      "  obj_bytes_view = obj.view(self.np.uint8)\n",
      "/home/ubuntu/Virtualenvs/mateo/lib/python3.4/site-packages/sklearn/metrics/classification.py:1117: UndefinedMetricWarning: F-score is ill-defined and being set to 0.0 due to no predicted samples.\n",
      "  'precision', 'predicted', average, warn_for)\n"
     ]
    },
    {
     "name": "stdout",
     "output_type": "stream",
     "text": [
      "[CV]  base_score=0.01, gamma=0.01, reg_alpha=1.0, n_estimators=15, objective=binary:logistic, max_depth=5, seed=1337, min_child_weight=2, learning_rate=0.001, subsample=0.3, colsample_bytree=1, silent=1, nthread=4 -  21.9s\n",
      "[CV] base_score=0.01, gamma=0.01, reg_alpha=0.01, n_estimators=30, objective=binary:logistic, max_depth=5, seed=1337, min_child_weight=2, learning_rate=0.001, subsample=0.8, colsample_bytree=1, silent=1, nthread=4 \n"
     ]
    },
    {
     "name": "stderr",
     "output_type": "stream",
     "text": [
      "/home/ubuntu/Virtualenvs/mateo/lib/python3.4/site-packages/sklearn/externals/joblib/hashing.py:197: DeprecationWarning: Changing the shape of non-C contiguous array by\n",
      "descriptor assignment is deprecated. To maintain\n",
      "the Fortran contiguity of a multidimensional Fortran\n",
      "array, use 'a.T.view(...).T' instead\n",
      "  obj_bytes_view = obj.view(self.np.uint8)\n",
      "/home/ubuntu/Virtualenvs/mateo/lib/python3.4/site-packages/sklearn/metrics/classification.py:1117: UndefinedMetricWarning: F-score is ill-defined and being set to 0.0 due to no predicted samples.\n",
      "  'precision', 'predicted', average, warn_for)\n"
     ]
    },
    {
     "name": "stdout",
     "output_type": "stream",
     "text": [
      "[CV]  base_score=0.01, gamma=0.01, reg_alpha=1.0, n_estimators=15, objective=binary:logistic, max_depth=5, seed=1337, min_child_weight=2, learning_rate=0.001, subsample=0.3, colsample_bytree=1, silent=1, nthread=4 -  22.1s\n",
      "[CV] base_score=0.01, gamma=0.01, reg_alpha=0.01, n_estimators=30, objective=binary:logistic, max_depth=5, seed=1337, min_child_weight=2, learning_rate=0.001, subsample=0.8, colsample_bytree=1, silent=1, nthread=4 \n"
     ]
    },
    {
     "name": "stderr",
     "output_type": "stream",
     "text": [
      "/home/ubuntu/Virtualenvs/mateo/lib/python3.4/site-packages/sklearn/externals/joblib/hashing.py:197: DeprecationWarning: Changing the shape of non-C contiguous array by\n",
      "descriptor assignment is deprecated. To maintain\n",
      "the Fortran contiguity of a multidimensional Fortran\n",
      "array, use 'a.T.view(...).T' instead\n",
      "  obj_bytes_view = obj.view(self.np.uint8)\n",
      "/home/ubuntu/Virtualenvs/mateo/lib/python3.4/site-packages/sklearn/metrics/classification.py:1117: UndefinedMetricWarning: F-score is ill-defined and being set to 0.0 due to no predicted samples.\n",
      "  'precision', 'predicted', average, warn_for)\n"
     ]
    },
    {
     "name": "stdout",
     "output_type": "stream",
     "text": [
      "[CV]  base_score=0.01, gamma=0.01, reg_alpha=0.01, n_estimators=30, objective=binary:logistic, max_depth=5, seed=1337, min_child_weight=2, learning_rate=0.001, subsample=0.8, colsample_bytree=1, silent=1, nthread=4 -  46.5s\n",
      "[CV] base_score=0.01, gamma=0.01, reg_alpha=0.01, n_estimators=30, objective=binary:logistic, max_depth=5, seed=1337, min_child_weight=2, learning_rate=0.001, subsample=0.5, colsample_bytree=1, silent=1, nthread=4 \n"
     ]
    },
    {
     "name": "stderr",
     "output_type": "stream",
     "text": [
      "/home/ubuntu/Virtualenvs/mateo/lib/python3.4/site-packages/sklearn/externals/joblib/hashing.py:197: DeprecationWarning: Changing the shape of non-C contiguous array by\n",
      "descriptor assignment is deprecated. To maintain\n",
      "the Fortran contiguity of a multidimensional Fortran\n",
      "array, use 'a.T.view(...).T' instead\n",
      "  obj_bytes_view = obj.view(self.np.uint8)\n",
      "/home/ubuntu/Virtualenvs/mateo/lib/python3.4/site-packages/sklearn/metrics/classification.py:1117: UndefinedMetricWarning: F-score is ill-defined and being set to 0.0 due to no predicted samples.\n",
      "  'precision', 'predicted', average, warn_for)\n"
     ]
    },
    {
     "name": "stdout",
     "output_type": "stream",
     "text": [
      "[CV]  base_score=0.01, gamma=0.01, reg_alpha=0.01, n_estimators=30, objective=binary:logistic, max_depth=5, seed=1337, min_child_weight=2, learning_rate=0.001, subsample=0.8, colsample_bytree=1, silent=1, nthread=4 -  46.9s\n",
      "[CV] base_score=0.01, gamma=0.01, reg_alpha=0.01, n_estimators=30, objective=binary:logistic, max_depth=5, seed=1337, min_child_weight=2, learning_rate=0.001, subsample=0.5, colsample_bytree=1, silent=1, nthread=4 \n"
     ]
    },
    {
     "name": "stderr",
     "output_type": "stream",
     "text": [
      "/home/ubuntu/Virtualenvs/mateo/lib/python3.4/site-packages/sklearn/externals/joblib/hashing.py:197: DeprecationWarning: Changing the shape of non-C contiguous array by\n",
      "descriptor assignment is deprecated. To maintain\n",
      "the Fortran contiguity of a multidimensional Fortran\n",
      "array, use 'a.T.view(...).T' instead\n",
      "  obj_bytes_view = obj.view(self.np.uint8)\n",
      "/home/ubuntu/Virtualenvs/mateo/lib/python3.4/site-packages/sklearn/metrics/classification.py:1117: UndefinedMetricWarning: F-score is ill-defined and being set to 0.0 due to no predicted samples.\n",
      "  'precision', 'predicted', average, warn_for)\n"
     ]
    },
    {
     "name": "stdout",
     "output_type": "stream",
     "text": [
      "[CV]  base_score=0.01, gamma=0.01, reg_alpha=0.01, n_estimators=30, objective=binary:logistic, max_depth=5, seed=1337, min_child_weight=2, learning_rate=0.001, subsample=0.8, colsample_bytree=1, silent=1, nthread=4 -  47.5s\n",
      "[CV] base_score=0.01, gamma=0.01, reg_alpha=0.01, n_estimators=30, objective=binary:logistic, max_depth=5, seed=1337, min_child_weight=2, learning_rate=0.001, subsample=0.5, colsample_bytree=1, silent=1, nthread=4 \n"
     ]
    },
    {
     "name": "stderr",
     "output_type": "stream",
     "text": [
      "/home/ubuntu/Virtualenvs/mateo/lib/python3.4/site-packages/sklearn/externals/joblib/hashing.py:197: DeprecationWarning: Changing the shape of non-C contiguous array by\n",
      "descriptor assignment is deprecated. To maintain\n",
      "the Fortran contiguity of a multidimensional Fortran\n",
      "array, use 'a.T.view(...).T' instead\n",
      "  obj_bytes_view = obj.view(self.np.uint8)\n",
      "/home/ubuntu/Virtualenvs/mateo/lib/python3.4/site-packages/sklearn/metrics/classification.py:1117: UndefinedMetricWarning: F-score is ill-defined and being set to 0.0 due to no predicted samples.\n",
      "  'precision', 'predicted', average, warn_for)\n"
     ]
    },
    {
     "name": "stdout",
     "output_type": "stream",
     "text": [
      "[CV]  base_score=0.01, gamma=0.01, reg_alpha=0.01, n_estimators=30, objective=binary:logistic, max_depth=5, seed=1337, min_child_weight=2, learning_rate=0.001, subsample=0.5, colsample_bytree=1, silent=1, nthread=4 -  50.9s\n",
      "[CV] base_score=0.01, gamma=0.01, reg_alpha=0.01, n_estimators=30, objective=binary:logistic, max_depth=5, seed=1337, min_child_weight=2, learning_rate=0.001, subsample=0.3, colsample_bytree=1, silent=1, nthread=4 \n"
     ]
    },
    {
     "name": "stderr",
     "output_type": "stream",
     "text": [
      "/home/ubuntu/Virtualenvs/mateo/lib/python3.4/site-packages/sklearn/externals/joblib/hashing.py:197: DeprecationWarning: Changing the shape of non-C contiguous array by\n",
      "descriptor assignment is deprecated. To maintain\n",
      "the Fortran contiguity of a multidimensional Fortran\n",
      "array, use 'a.T.view(...).T' instead\n",
      "  obj_bytes_view = obj.view(self.np.uint8)\n",
      "/home/ubuntu/Virtualenvs/mateo/lib/python3.4/site-packages/sklearn/metrics/classification.py:1117: UndefinedMetricWarning: F-score is ill-defined and being set to 0.0 due to no predicted samples.\n",
      "  'precision', 'predicted', average, warn_for)\n"
     ]
    },
    {
     "name": "stdout",
     "output_type": "stream",
     "text": [
      "[CV]  base_score=0.01, gamma=0.01, reg_alpha=0.01, n_estimators=30, objective=binary:logistic, max_depth=5, seed=1337, min_child_weight=2, learning_rate=0.001, subsample=0.5, colsample_bytree=1, silent=1, nthread=4 -  50.8s\n",
      "[CV] base_score=0.01, gamma=0.01, reg_alpha=0.01, n_estimators=30, objective=binary:logistic, max_depth=5, seed=1337, min_child_weight=2, learning_rate=0.001, subsample=0.3, colsample_bytree=1, silent=1, nthread=4 \n"
     ]
    },
    {
     "name": "stderr",
     "output_type": "stream",
     "text": [
      "/home/ubuntu/Virtualenvs/mateo/lib/python3.4/site-packages/sklearn/externals/joblib/hashing.py:197: DeprecationWarning: Changing the shape of non-C contiguous array by\n",
      "descriptor assignment is deprecated. To maintain\n",
      "the Fortran contiguity of a multidimensional Fortran\n",
      "array, use 'a.T.view(...).T' instead\n",
      "  obj_bytes_view = obj.view(self.np.uint8)\n",
      "/home/ubuntu/Virtualenvs/mateo/lib/python3.4/site-packages/sklearn/metrics/classification.py:1117: UndefinedMetricWarning: F-score is ill-defined and being set to 0.0 due to no predicted samples.\n",
      "  'precision', 'predicted', average, warn_for)\n"
     ]
    },
    {
     "name": "stdout",
     "output_type": "stream",
     "text": [
      "[CV]  base_score=0.01, gamma=0.01, reg_alpha=0.01, n_estimators=30, objective=binary:logistic, max_depth=5, seed=1337, min_child_weight=2, learning_rate=0.001, subsample=0.5, colsample_bytree=1, silent=1, nthread=4 -  50.9s\n",
      "[CV] base_score=0.01, gamma=0.01, reg_alpha=0.01, n_estimators=30, objective=binary:logistic, max_depth=5, seed=1337, min_child_weight=2, learning_rate=0.001, subsample=0.3, colsample_bytree=1, silent=1, nthread=4 \n"
     ]
    },
    {
     "name": "stderr",
     "output_type": "stream",
     "text": [
      "/home/ubuntu/Virtualenvs/mateo/lib/python3.4/site-packages/sklearn/externals/joblib/hashing.py:197: DeprecationWarning: Changing the shape of non-C contiguous array by\n",
      "descriptor assignment is deprecated. To maintain\n",
      "the Fortran contiguity of a multidimensional Fortran\n",
      "array, use 'a.T.view(...).T' instead\n",
      "  obj_bytes_view = obj.view(self.np.uint8)\n",
      "/home/ubuntu/Virtualenvs/mateo/lib/python3.4/site-packages/sklearn/metrics/classification.py:1117: UndefinedMetricWarning: F-score is ill-defined and being set to 0.0 due to no predicted samples.\n",
      "  'precision', 'predicted', average, warn_for)\n"
     ]
    },
    {
     "name": "stdout",
     "output_type": "stream",
     "text": [
      "[CV]  base_score=0.01, gamma=0.01, reg_alpha=0.01, n_estimators=30, objective=binary:logistic, max_depth=5, seed=1337, min_child_weight=2, learning_rate=0.001, subsample=0.3, colsample_bytree=1, silent=1, nthread=4 -  39.1s\n",
      "[CV] base_score=0.01, gamma=0.01, reg_alpha=0.1, n_estimators=30, objective=binary:logistic, max_depth=5, seed=1337, min_child_weight=2, learning_rate=0.001, subsample=0.8, colsample_bytree=1, silent=1, nthread=4 \n"
     ]
    },
    {
     "name": "stderr",
     "output_type": "stream",
     "text": [
      "/home/ubuntu/Virtualenvs/mateo/lib/python3.4/site-packages/sklearn/externals/joblib/hashing.py:197: DeprecationWarning: Changing the shape of non-C contiguous array by\n",
      "descriptor assignment is deprecated. To maintain\n",
      "the Fortran contiguity of a multidimensional Fortran\n",
      "array, use 'a.T.view(...).T' instead\n",
      "  obj_bytes_view = obj.view(self.np.uint8)\n",
      "/home/ubuntu/Virtualenvs/mateo/lib/python3.4/site-packages/sklearn/metrics/classification.py:1117: UndefinedMetricWarning: F-score is ill-defined and being set to 0.0 due to no predicted samples.\n",
      "  'precision', 'predicted', average, warn_for)\n"
     ]
    },
    {
     "name": "stdout",
     "output_type": "stream",
     "text": [
      "[CV]  base_score=0.01, gamma=0.01, reg_alpha=0.01, n_estimators=30, objective=binary:logistic, max_depth=5, seed=1337, min_child_weight=2, learning_rate=0.001, subsample=0.3, colsample_bytree=1, silent=1, nthread=4 -  40.8s\n",
      "[CV] base_score=0.01, gamma=0.01, reg_alpha=0.1, n_estimators=30, objective=binary:logistic, max_depth=5, seed=1337, min_child_weight=2, learning_rate=0.001, subsample=0.8, colsample_bytree=1, silent=1, nthread=4 \n"
     ]
    },
    {
     "name": "stderr",
     "output_type": "stream",
     "text": [
      "/home/ubuntu/Virtualenvs/mateo/lib/python3.4/site-packages/sklearn/externals/joblib/hashing.py:197: DeprecationWarning: Changing the shape of non-C contiguous array by\n",
      "descriptor assignment is deprecated. To maintain\n",
      "the Fortran contiguity of a multidimensional Fortran\n",
      "array, use 'a.T.view(...).T' instead\n",
      "  obj_bytes_view = obj.view(self.np.uint8)\n",
      "/home/ubuntu/Virtualenvs/mateo/lib/python3.4/site-packages/sklearn/metrics/classification.py:1117: UndefinedMetricWarning: F-score is ill-defined and being set to 0.0 due to no predicted samples.\n",
      "  'precision', 'predicted', average, warn_for)\n"
     ]
    },
    {
     "name": "stdout",
     "output_type": "stream",
     "text": [
      "[CV]  base_score=0.01, gamma=0.01, reg_alpha=0.01, n_estimators=30, objective=binary:logistic, max_depth=5, seed=1337, min_child_weight=2, learning_rate=0.001, subsample=0.3, colsample_bytree=1, silent=1, nthread=4 -  41.7s\n",
      "[CV] base_score=0.01, gamma=0.01, reg_alpha=0.1, n_estimators=30, objective=binary:logistic, max_depth=5, seed=1337, min_child_weight=2, learning_rate=0.001, subsample=0.8, colsample_bytree=1, silent=1, nthread=4 \n"
     ]
    },
    {
     "name": "stderr",
     "output_type": "stream",
     "text": [
      "/home/ubuntu/Virtualenvs/mateo/lib/python3.4/site-packages/sklearn/externals/joblib/hashing.py:197: DeprecationWarning: Changing the shape of non-C contiguous array by\n",
      "descriptor assignment is deprecated. To maintain\n",
      "the Fortran contiguity of a multidimensional Fortran\n",
      "array, use 'a.T.view(...).T' instead\n",
      "  obj_bytes_view = obj.view(self.np.uint8)\n",
      "/home/ubuntu/Virtualenvs/mateo/lib/python3.4/site-packages/sklearn/metrics/classification.py:1117: UndefinedMetricWarning: F-score is ill-defined and being set to 0.0 due to no predicted samples.\n",
      "  'precision', 'predicted', average, warn_for)\n"
     ]
    },
    {
     "name": "stdout",
     "output_type": "stream",
     "text": [
      "[CV]  base_score=0.01, gamma=0.01, reg_alpha=0.1, n_estimators=30, objective=binary:logistic, max_depth=5, seed=1337, min_child_weight=2, learning_rate=0.001, subsample=0.8, colsample_bytree=1, silent=1, nthread=4 -  46.2s\n",
      "[CV] base_score=0.01, gamma=0.01, reg_alpha=0.1, n_estimators=30, objective=binary:logistic, max_depth=5, seed=1337, min_child_weight=2, learning_rate=0.001, subsample=0.5, colsample_bytree=1, silent=1, nthread=4 \n"
     ]
    },
    {
     "name": "stderr",
     "output_type": "stream",
     "text": [
      "/home/ubuntu/Virtualenvs/mateo/lib/python3.4/site-packages/sklearn/externals/joblib/hashing.py:197: DeprecationWarning: Changing the shape of non-C contiguous array by\n",
      "descriptor assignment is deprecated. To maintain\n",
      "the Fortran contiguity of a multidimensional Fortran\n",
      "array, use 'a.T.view(...).T' instead\n",
      "  obj_bytes_view = obj.view(self.np.uint8)\n",
      "/home/ubuntu/Virtualenvs/mateo/lib/python3.4/site-packages/sklearn/metrics/classification.py:1117: UndefinedMetricWarning: F-score is ill-defined and being set to 0.0 due to no predicted samples.\n",
      "  'precision', 'predicted', average, warn_for)\n"
     ]
    },
    {
     "name": "stdout",
     "output_type": "stream",
     "text": [
      "[CV]  base_score=0.01, gamma=0.01, reg_alpha=0.1, n_estimators=30, objective=binary:logistic, max_depth=5, seed=1337, min_child_weight=2, learning_rate=0.001, subsample=0.8, colsample_bytree=1, silent=1, nthread=4 -  47.3s\n",
      "[CV] base_score=0.01, gamma=0.01, reg_alpha=0.1, n_estimators=30, objective=binary:logistic, max_depth=5, seed=1337, min_child_weight=2, learning_rate=0.001, subsample=0.5, colsample_bytree=1, silent=1, nthread=4 \n"
     ]
    },
    {
     "name": "stderr",
     "output_type": "stream",
     "text": [
      "/home/ubuntu/Virtualenvs/mateo/lib/python3.4/site-packages/sklearn/externals/joblib/hashing.py:197: DeprecationWarning: Changing the shape of non-C contiguous array by\n",
      "descriptor assignment is deprecated. To maintain\n",
      "the Fortran contiguity of a multidimensional Fortran\n",
      "array, use 'a.T.view(...).T' instead\n",
      "  obj_bytes_view = obj.view(self.np.uint8)\n",
      "/home/ubuntu/Virtualenvs/mateo/lib/python3.4/site-packages/sklearn/metrics/classification.py:1117: UndefinedMetricWarning: F-score is ill-defined and being set to 0.0 due to no predicted samples.\n",
      "  'precision', 'predicted', average, warn_for)\n"
     ]
    },
    {
     "name": "stdout",
     "output_type": "stream",
     "text": [
      "[CV]  base_score=0.01, gamma=0.01, reg_alpha=0.1, n_estimators=30, objective=binary:logistic, max_depth=5, seed=1337, min_child_weight=2, learning_rate=0.001, subsample=0.8, colsample_bytree=1, silent=1, nthread=4 -  47.1s\n",
      "[CV] base_score=0.01, gamma=0.01, reg_alpha=0.1, n_estimators=30, objective=binary:logistic, max_depth=5, seed=1337, min_child_weight=2, learning_rate=0.001, subsample=0.5, colsample_bytree=1, silent=1, nthread=4 \n"
     ]
    },
    {
     "name": "stderr",
     "output_type": "stream",
     "text": [
      "/home/ubuntu/Virtualenvs/mateo/lib/python3.4/site-packages/sklearn/externals/joblib/hashing.py:197: DeprecationWarning: Changing the shape of non-C contiguous array by\n",
      "descriptor assignment is deprecated. To maintain\n",
      "the Fortran contiguity of a multidimensional Fortran\n",
      "array, use 'a.T.view(...).T' instead\n",
      "  obj_bytes_view = obj.view(self.np.uint8)\n",
      "/home/ubuntu/Virtualenvs/mateo/lib/python3.4/site-packages/sklearn/metrics/classification.py:1117: UndefinedMetricWarning: F-score is ill-defined and being set to 0.0 due to no predicted samples.\n",
      "  'precision', 'predicted', average, warn_for)\n"
     ]
    },
    {
     "name": "stdout",
     "output_type": "stream",
     "text": [
      "[CV]  base_score=0.01, gamma=0.01, reg_alpha=0.1, n_estimators=30, objective=binary:logistic, max_depth=5, seed=1337, min_child_weight=2, learning_rate=0.001, subsample=0.5, colsample_bytree=1, silent=1, nthread=4 -  50.4s\n",
      "[CV] base_score=0.01, gamma=0.01, reg_alpha=0.1, n_estimators=30, objective=binary:logistic, max_depth=5, seed=1337, min_child_weight=2, learning_rate=0.001, subsample=0.3, colsample_bytree=1, silent=1, nthread=4 \n"
     ]
    },
    {
     "name": "stderr",
     "output_type": "stream",
     "text": [
      "/home/ubuntu/Virtualenvs/mateo/lib/python3.4/site-packages/sklearn/externals/joblib/hashing.py:197: DeprecationWarning: Changing the shape of non-C contiguous array by\n",
      "descriptor assignment is deprecated. To maintain\n",
      "the Fortran contiguity of a multidimensional Fortran\n",
      "array, use 'a.T.view(...).T' instead\n",
      "  obj_bytes_view = obj.view(self.np.uint8)\n",
      "/home/ubuntu/Virtualenvs/mateo/lib/python3.4/site-packages/sklearn/metrics/classification.py:1117: UndefinedMetricWarning: F-score is ill-defined and being set to 0.0 due to no predicted samples.\n",
      "  'precision', 'predicted', average, warn_for)\n"
     ]
    },
    {
     "name": "stdout",
     "output_type": "stream",
     "text": [
      "[CV]  base_score=0.01, gamma=0.01, reg_alpha=0.1, n_estimators=30, objective=binary:logistic, max_depth=5, seed=1337, min_child_weight=2, learning_rate=0.001, subsample=0.5, colsample_bytree=1, silent=1, nthread=4 -  50.6s\n",
      "[CV] base_score=0.01, gamma=0.01, reg_alpha=0.1, n_estimators=30, objective=binary:logistic, max_depth=5, seed=1337, min_child_weight=2, learning_rate=0.001, subsample=0.3, colsample_bytree=1, silent=1, nthread=4 \n"
     ]
    },
    {
     "name": "stderr",
     "output_type": "stream",
     "text": [
      "/home/ubuntu/Virtualenvs/mateo/lib/python3.4/site-packages/sklearn/externals/joblib/hashing.py:197: DeprecationWarning: Changing the shape of non-C contiguous array by\n",
      "descriptor assignment is deprecated. To maintain\n",
      "the Fortran contiguity of a multidimensional Fortran\n",
      "array, use 'a.T.view(...).T' instead\n",
      "  obj_bytes_view = obj.view(self.np.uint8)\n",
      "/home/ubuntu/Virtualenvs/mateo/lib/python3.4/site-packages/sklearn/metrics/classification.py:1117: UndefinedMetricWarning: F-score is ill-defined and being set to 0.0 due to no predicted samples.\n",
      "  'precision', 'predicted', average, warn_for)\n"
     ]
    },
    {
     "name": "stdout",
     "output_type": "stream",
     "text": [
      "[CV]  base_score=0.01, gamma=0.01, reg_alpha=0.1, n_estimators=30, objective=binary:logistic, max_depth=5, seed=1337, min_child_weight=2, learning_rate=0.001, subsample=0.5, colsample_bytree=1, silent=1, nthread=4 -  51.7s\n",
      "[CV] base_score=0.01, gamma=0.01, reg_alpha=0.1, n_estimators=30, objective=binary:logistic, max_depth=5, seed=1337, min_child_weight=2, learning_rate=0.001, subsample=0.3, colsample_bytree=1, silent=1, nthread=4 \n"
     ]
    },
    {
     "name": "stderr",
     "output_type": "stream",
     "text": [
      "/home/ubuntu/Virtualenvs/mateo/lib/python3.4/site-packages/sklearn/externals/joblib/hashing.py:197: DeprecationWarning: Changing the shape of non-C contiguous array by\n",
      "descriptor assignment is deprecated. To maintain\n",
      "the Fortran contiguity of a multidimensional Fortran\n",
      "array, use 'a.T.view(...).T' instead\n",
      "  obj_bytes_view = obj.view(self.np.uint8)\n",
      "/home/ubuntu/Virtualenvs/mateo/lib/python3.4/site-packages/sklearn/metrics/classification.py:1117: UndefinedMetricWarning: F-score is ill-defined and being set to 0.0 due to no predicted samples.\n",
      "  'precision', 'predicted', average, warn_for)\n"
     ]
    },
    {
     "name": "stdout",
     "output_type": "stream",
     "text": [
      "[CV]  base_score=0.01, gamma=0.01, reg_alpha=0.1, n_estimators=30, objective=binary:logistic, max_depth=5, seed=1337, min_child_weight=2, learning_rate=0.001, subsample=0.3, colsample_bytree=1, silent=1, nthread=4 -  40.1s\n",
      "[CV] base_score=0.01, gamma=0.01, reg_alpha=1.0, n_estimators=30, objective=binary:logistic, max_depth=5, seed=1337, min_child_weight=2, learning_rate=0.001, subsample=0.8, colsample_bytree=1, silent=1, nthread=4 \n"
     ]
    },
    {
     "name": "stderr",
     "output_type": "stream",
     "text": [
      "/home/ubuntu/Virtualenvs/mateo/lib/python3.4/site-packages/sklearn/externals/joblib/hashing.py:197: DeprecationWarning: Changing the shape of non-C contiguous array by\n",
      "descriptor assignment is deprecated. To maintain\n",
      "the Fortran contiguity of a multidimensional Fortran\n",
      "array, use 'a.T.view(...).T' instead\n",
      "  obj_bytes_view = obj.view(self.np.uint8)\n",
      "/home/ubuntu/Virtualenvs/mateo/lib/python3.4/site-packages/sklearn/metrics/classification.py:1117: UndefinedMetricWarning: F-score is ill-defined and being set to 0.0 due to no predicted samples.\n",
      "  'precision', 'predicted', average, warn_for)\n"
     ]
    },
    {
     "name": "stdout",
     "output_type": "stream",
     "text": [
      "[CV]  base_score=0.01, gamma=0.01, reg_alpha=0.1, n_estimators=30, objective=binary:logistic, max_depth=5, seed=1337, min_child_weight=2, learning_rate=0.001, subsample=0.3, colsample_bytree=1, silent=1, nthread=4 -  41.4s\n",
      "[CV] base_score=0.01, gamma=0.01, reg_alpha=1.0, n_estimators=30, objective=binary:logistic, max_depth=5, seed=1337, min_child_weight=2, learning_rate=0.001, subsample=0.8, colsample_bytree=1, silent=1, nthread=4 \n"
     ]
    },
    {
     "name": "stderr",
     "output_type": "stream",
     "text": [
      "/home/ubuntu/Virtualenvs/mateo/lib/python3.4/site-packages/sklearn/externals/joblib/hashing.py:197: DeprecationWarning: Changing the shape of non-C contiguous array by\n",
      "descriptor assignment is deprecated. To maintain\n",
      "the Fortran contiguity of a multidimensional Fortran\n",
      "array, use 'a.T.view(...).T' instead\n",
      "  obj_bytes_view = obj.view(self.np.uint8)\n",
      "/home/ubuntu/Virtualenvs/mateo/lib/python3.4/site-packages/sklearn/metrics/classification.py:1117: UndefinedMetricWarning: F-score is ill-defined and being set to 0.0 due to no predicted samples.\n",
      "  'precision', 'predicted', average, warn_for)\n"
     ]
    },
    {
     "name": "stdout",
     "output_type": "stream",
     "text": [
      "[CV]  base_score=0.01, gamma=0.01, reg_alpha=0.1, n_estimators=30, objective=binary:logistic, max_depth=5, seed=1337, min_child_weight=2, learning_rate=0.001, subsample=0.3, colsample_bytree=1, silent=1, nthread=4 -  41.2s\n",
      "[CV] base_score=0.01, gamma=0.01, reg_alpha=1.0, n_estimators=30, objective=binary:logistic, max_depth=5, seed=1337, min_child_weight=2, learning_rate=0.001, subsample=0.8, colsample_bytree=1, silent=1, nthread=4 \n"
     ]
    },
    {
     "name": "stderr",
     "output_type": "stream",
     "text": [
      "/home/ubuntu/Virtualenvs/mateo/lib/python3.4/site-packages/sklearn/externals/joblib/hashing.py:197: DeprecationWarning: Changing the shape of non-C contiguous array by\n",
      "descriptor assignment is deprecated. To maintain\n",
      "the Fortran contiguity of a multidimensional Fortran\n",
      "array, use 'a.T.view(...).T' instead\n",
      "  obj_bytes_view = obj.view(self.np.uint8)\n",
      "/home/ubuntu/Virtualenvs/mateo/lib/python3.4/site-packages/sklearn/metrics/classification.py:1117: UndefinedMetricWarning: F-score is ill-defined and being set to 0.0 due to no predicted samples.\n",
      "  'precision', 'predicted', average, warn_for)\n"
     ]
    },
    {
     "name": "stdout",
     "output_type": "stream",
     "text": [
      "[CV]  base_score=0.01, gamma=0.01, reg_alpha=1.0, n_estimators=30, objective=binary:logistic, max_depth=5, seed=1337, min_child_weight=2, learning_rate=0.001, subsample=0.8, colsample_bytree=1, silent=1, nthread=4 -  46.2s\n",
      "[CV] base_score=0.01, gamma=0.01, reg_alpha=1.0, n_estimators=30, objective=binary:logistic, max_depth=5, seed=1337, min_child_weight=2, learning_rate=0.001, subsample=0.5, colsample_bytree=1, silent=1, nthread=4 \n"
     ]
    },
    {
     "name": "stderr",
     "output_type": "stream",
     "text": [
      "/home/ubuntu/Virtualenvs/mateo/lib/python3.4/site-packages/sklearn/externals/joblib/hashing.py:197: DeprecationWarning: Changing the shape of non-C contiguous array by\n",
      "descriptor assignment is deprecated. To maintain\n",
      "the Fortran contiguity of a multidimensional Fortran\n",
      "array, use 'a.T.view(...).T' instead\n",
      "  obj_bytes_view = obj.view(self.np.uint8)\n",
      "/home/ubuntu/Virtualenvs/mateo/lib/python3.4/site-packages/sklearn/metrics/classification.py:1117: UndefinedMetricWarning: F-score is ill-defined and being set to 0.0 due to no predicted samples.\n",
      "  'precision', 'predicted', average, warn_for)\n"
     ]
    },
    {
     "name": "stdout",
     "output_type": "stream",
     "text": [
      "[CV]  base_score=0.01, gamma=0.01, reg_alpha=1.0, n_estimators=30, objective=binary:logistic, max_depth=5, seed=1337, min_child_weight=2, learning_rate=0.001, subsample=0.8, colsample_bytree=1, silent=1, nthread=4 -  48.3s\n",
      "[CV] base_score=0.01, gamma=0.01, reg_alpha=1.0, n_estimators=30, objective=binary:logistic, max_depth=5, seed=1337, min_child_weight=2, learning_rate=0.001, subsample=0.5, colsample_bytree=1, silent=1, nthread=4 \n"
     ]
    },
    {
     "name": "stderr",
     "output_type": "stream",
     "text": [
      "/home/ubuntu/Virtualenvs/mateo/lib/python3.4/site-packages/sklearn/externals/joblib/hashing.py:197: DeprecationWarning: Changing the shape of non-C contiguous array by\n",
      "descriptor assignment is deprecated. To maintain\n",
      "the Fortran contiguity of a multidimensional Fortran\n",
      "array, use 'a.T.view(...).T' instead\n",
      "  obj_bytes_view = obj.view(self.np.uint8)\n",
      "/home/ubuntu/Virtualenvs/mateo/lib/python3.4/site-packages/sklearn/metrics/classification.py:1117: UndefinedMetricWarning: F-score is ill-defined and being set to 0.0 due to no predicted samples.\n",
      "  'precision', 'predicted', average, warn_for)\n"
     ]
    },
    {
     "name": "stdout",
     "output_type": "stream",
     "text": [
      "[CV]  base_score=0.01, gamma=0.01, reg_alpha=1.0, n_estimators=30, objective=binary:logistic, max_depth=5, seed=1337, min_child_weight=2, learning_rate=0.001, subsample=0.8, colsample_bytree=1, silent=1, nthread=4 -  46.3s\n",
      "[CV] base_score=0.01, gamma=0.01, reg_alpha=1.0, n_estimators=30, objective=binary:logistic, max_depth=5, seed=1337, min_child_weight=2, learning_rate=0.001, subsample=0.5, colsample_bytree=1, silent=1, nthread=4 \n"
     ]
    },
    {
     "name": "stderr",
     "output_type": "stream",
     "text": [
      "/home/ubuntu/Virtualenvs/mateo/lib/python3.4/site-packages/sklearn/externals/joblib/hashing.py:197: DeprecationWarning: Changing the shape of non-C contiguous array by\n",
      "descriptor assignment is deprecated. To maintain\n",
      "the Fortran contiguity of a multidimensional Fortran\n",
      "array, use 'a.T.view(...).T' instead\n",
      "  obj_bytes_view = obj.view(self.np.uint8)\n",
      "/home/ubuntu/Virtualenvs/mateo/lib/python3.4/site-packages/sklearn/metrics/classification.py:1117: UndefinedMetricWarning: F-score is ill-defined and being set to 0.0 due to no predicted samples.\n",
      "  'precision', 'predicted', average, warn_for)\n"
     ]
    },
    {
     "name": "stdout",
     "output_type": "stream",
     "text": [
      "[CV]  base_score=0.01, gamma=0.01, reg_alpha=1.0, n_estimators=30, objective=binary:logistic, max_depth=5, seed=1337, min_child_weight=2, learning_rate=0.001, subsample=0.5, colsample_bytree=1, silent=1, nthread=4 -  49.8s\n",
      "[CV] base_score=0.01, gamma=0.01, reg_alpha=1.0, n_estimators=30, objective=binary:logistic, max_depth=5, seed=1337, min_child_weight=2, learning_rate=0.001, subsample=0.3, colsample_bytree=1, silent=1, nthread=4 \n"
     ]
    },
    {
     "name": "stderr",
     "output_type": "stream",
     "text": [
      "/home/ubuntu/Virtualenvs/mateo/lib/python3.4/site-packages/sklearn/externals/joblib/hashing.py:197: DeprecationWarning: Changing the shape of non-C contiguous array by\n",
      "descriptor assignment is deprecated. To maintain\n",
      "the Fortran contiguity of a multidimensional Fortran\n",
      "array, use 'a.T.view(...).T' instead\n",
      "  obj_bytes_view = obj.view(self.np.uint8)\n",
      "/home/ubuntu/Virtualenvs/mateo/lib/python3.4/site-packages/sklearn/metrics/classification.py:1117: UndefinedMetricWarning: F-score is ill-defined and being set to 0.0 due to no predicted samples.\n",
      "  'precision', 'predicted', average, warn_for)\n"
     ]
    },
    {
     "name": "stdout",
     "output_type": "stream",
     "text": [
      "[CV]  base_score=0.01, gamma=0.01, reg_alpha=1.0, n_estimators=30, objective=binary:logistic, max_depth=5, seed=1337, min_child_weight=2, learning_rate=0.001, subsample=0.5, colsample_bytree=1, silent=1, nthread=4 -  50.4s\n",
      "[CV] base_score=0.01, gamma=0.01, reg_alpha=1.0, n_estimators=30, objective=binary:logistic, max_depth=5, seed=1337, min_child_weight=2, learning_rate=0.001, subsample=0.3, colsample_bytree=1, silent=1, nthread=4 \n"
     ]
    },
    {
     "name": "stderr",
     "output_type": "stream",
     "text": [
      "/home/ubuntu/Virtualenvs/mateo/lib/python3.4/site-packages/sklearn/externals/joblib/hashing.py:197: DeprecationWarning: Changing the shape of non-C contiguous array by\n",
      "descriptor assignment is deprecated. To maintain\n",
      "the Fortran contiguity of a multidimensional Fortran\n",
      "array, use 'a.T.view(...).T' instead\n",
      "  obj_bytes_view = obj.view(self.np.uint8)\n",
      "/home/ubuntu/Virtualenvs/mateo/lib/python3.4/site-packages/sklearn/metrics/classification.py:1117: UndefinedMetricWarning: F-score is ill-defined and being set to 0.0 due to no predicted samples.\n",
      "  'precision', 'predicted', average, warn_for)\n"
     ]
    },
    {
     "name": "stdout",
     "output_type": "stream",
     "text": [
      "[CV]  base_score=0.01, gamma=0.01, reg_alpha=1.0, n_estimators=30, objective=binary:logistic, max_depth=5, seed=1337, min_child_weight=2, learning_rate=0.001, subsample=0.5, colsample_bytree=1, silent=1, nthread=4 -  51.4s\n",
      "[CV] base_score=0.01, gamma=0.01, reg_alpha=1.0, n_estimators=30, objective=binary:logistic, max_depth=5, seed=1337, min_child_weight=2, learning_rate=0.001, subsample=0.3, colsample_bytree=1, silent=1, nthread=4 \n"
     ]
    },
    {
     "name": "stderr",
     "output_type": "stream",
     "text": [
      "/home/ubuntu/Virtualenvs/mateo/lib/python3.4/site-packages/sklearn/externals/joblib/hashing.py:197: DeprecationWarning: Changing the shape of non-C contiguous array by\n",
      "descriptor assignment is deprecated. To maintain\n",
      "the Fortran contiguity of a multidimensional Fortran\n",
      "array, use 'a.T.view(...).T' instead\n",
      "  obj_bytes_view = obj.view(self.np.uint8)\n",
      "/home/ubuntu/Virtualenvs/mateo/lib/python3.4/site-packages/sklearn/metrics/classification.py:1117: UndefinedMetricWarning: F-score is ill-defined and being set to 0.0 due to no predicted samples.\n",
      "  'precision', 'predicted', average, warn_for)\n"
     ]
    },
    {
     "name": "stdout",
     "output_type": "stream",
     "text": [
      "[CV]  base_score=0.01, gamma=0.01, reg_alpha=1.0, n_estimators=30, objective=binary:logistic, max_depth=5, seed=1337, min_child_weight=2, learning_rate=0.001, subsample=0.3, colsample_bytree=1, silent=1, nthread=4 -  39.9s\n",
      "[CV] base_score=0.01, gamma=0.01, reg_alpha=0.01, n_estimators=15, objective=binary:logistic, max_depth=15, seed=1337, min_child_weight=15, learning_rate=0.001, subsample=0.8, colsample_bytree=1, silent=1, nthread=4 \n"
     ]
    },
    {
     "name": "stderr",
     "output_type": "stream",
     "text": [
      "/home/ubuntu/Virtualenvs/mateo/lib/python3.4/site-packages/sklearn/externals/joblib/hashing.py:197: DeprecationWarning: Changing the shape of non-C contiguous array by\n",
      "descriptor assignment is deprecated. To maintain\n",
      "the Fortran contiguity of a multidimensional Fortran\n",
      "array, use 'a.T.view(...).T' instead\n",
      "  obj_bytes_view = obj.view(self.np.uint8)\n",
      "/home/ubuntu/Virtualenvs/mateo/lib/python3.4/site-packages/sklearn/metrics/classification.py:1117: UndefinedMetricWarning: F-score is ill-defined and being set to 0.0 due to no predicted samples.\n",
      "  'precision', 'predicted', average, warn_for)\n"
     ]
    },
    {
     "name": "stdout",
     "output_type": "stream",
     "text": [
      "[CV]  base_score=0.01, gamma=0.01, reg_alpha=1.0, n_estimators=30, objective=binary:logistic, max_depth=5, seed=1337, min_child_weight=2, learning_rate=0.001, subsample=0.3, colsample_bytree=1, silent=1, nthread=4 -  41.4s\n",
      "[CV] base_score=0.01, gamma=0.01, reg_alpha=0.01, n_estimators=15, objective=binary:logistic, max_depth=15, seed=1337, min_child_weight=15, learning_rate=0.001, subsample=0.8, colsample_bytree=1, silent=1, nthread=4 \n"
     ]
    },
    {
     "name": "stderr",
     "output_type": "stream",
     "text": [
      "/home/ubuntu/Virtualenvs/mateo/lib/python3.4/site-packages/sklearn/externals/joblib/hashing.py:197: DeprecationWarning: Changing the shape of non-C contiguous array by\n",
      "descriptor assignment is deprecated. To maintain\n",
      "the Fortran contiguity of a multidimensional Fortran\n",
      "array, use 'a.T.view(...).T' instead\n",
      "  obj_bytes_view = obj.view(self.np.uint8)\n",
      "/home/ubuntu/Virtualenvs/mateo/lib/python3.4/site-packages/sklearn/metrics/classification.py:1117: UndefinedMetricWarning: F-score is ill-defined and being set to 0.0 due to no predicted samples.\n",
      "  'precision', 'predicted', average, warn_for)\n"
     ]
    },
    {
     "name": "stdout",
     "output_type": "stream",
     "text": [
      "[CV]  base_score=0.01, gamma=0.01, reg_alpha=1.0, n_estimators=30, objective=binary:logistic, max_depth=5, seed=1337, min_child_weight=2, learning_rate=0.001, subsample=0.3, colsample_bytree=1, silent=1, nthread=4 -  39.5s\n",
      "[CV] base_score=0.01, gamma=0.01, reg_alpha=0.01, n_estimators=15, objective=binary:logistic, max_depth=15, seed=1337, min_child_weight=15, learning_rate=0.001, subsample=0.8, colsample_bytree=1, silent=1, nthread=4 \n"
     ]
    },
    {
     "name": "stderr",
     "output_type": "stream",
     "text": [
      "/home/ubuntu/Virtualenvs/mateo/lib/python3.4/site-packages/sklearn/externals/joblib/hashing.py:197: DeprecationWarning: Changing the shape of non-C contiguous array by\n",
      "descriptor assignment is deprecated. To maintain\n",
      "the Fortran contiguity of a multidimensional Fortran\n",
      "array, use 'a.T.view(...).T' instead\n",
      "  obj_bytes_view = obj.view(self.np.uint8)\n",
      "/home/ubuntu/Virtualenvs/mateo/lib/python3.4/site-packages/sklearn/metrics/classification.py:1117: UndefinedMetricWarning: F-score is ill-defined and being set to 0.0 due to no predicted samples.\n",
      "  'precision', 'predicted', average, warn_for)\n"
     ]
    },
    {
     "name": "stdout",
     "output_type": "stream",
     "text": [
      "[CV]  base_score=0.01, gamma=0.01, reg_alpha=0.01, n_estimators=15, objective=binary:logistic, max_depth=15, seed=1337, min_child_weight=15, learning_rate=0.001, subsample=0.8, colsample_bytree=1, silent=1, nthread=4 -  47.7s\n",
      "[CV] base_score=0.01, gamma=0.01, reg_alpha=0.01, n_estimators=15, objective=binary:logistic, max_depth=15, seed=1337, min_child_weight=15, learning_rate=0.001, subsample=0.5, colsample_bytree=1, silent=1, nthread=4 \n"
     ]
    },
    {
     "name": "stderr",
     "output_type": "stream",
     "text": [
      "/home/ubuntu/Virtualenvs/mateo/lib/python3.4/site-packages/sklearn/externals/joblib/hashing.py:197: DeprecationWarning: Changing the shape of non-C contiguous array by\n",
      "descriptor assignment is deprecated. To maintain\n",
      "the Fortran contiguity of a multidimensional Fortran\n",
      "array, use 'a.T.view(...).T' instead\n",
      "  obj_bytes_view = obj.view(self.np.uint8)\n",
      "/home/ubuntu/Virtualenvs/mateo/lib/python3.4/site-packages/sklearn/metrics/classification.py:1117: UndefinedMetricWarning: F-score is ill-defined and being set to 0.0 due to no predicted samples.\n",
      "  'precision', 'predicted', average, warn_for)\n"
     ]
    },
    {
     "name": "stdout",
     "output_type": "stream",
     "text": [
      "[CV]  base_score=0.01, gamma=0.01, reg_alpha=0.01, n_estimators=15, objective=binary:logistic, max_depth=15, seed=1337, min_child_weight=15, learning_rate=0.001, subsample=0.8, colsample_bytree=1, silent=1, nthread=4 -  47.0s\n",
      "[CV] base_score=0.01, gamma=0.01, reg_alpha=0.01, n_estimators=15, objective=binary:logistic, max_depth=15, seed=1337, min_child_weight=15, learning_rate=0.001, subsample=0.5, colsample_bytree=1, silent=1, nthread=4 \n"
     ]
    },
    {
     "name": "stderr",
     "output_type": "stream",
     "text": [
      "/home/ubuntu/Virtualenvs/mateo/lib/python3.4/site-packages/sklearn/externals/joblib/hashing.py:197: DeprecationWarning: Changing the shape of non-C contiguous array by\n",
      "descriptor assignment is deprecated. To maintain\n",
      "the Fortran contiguity of a multidimensional Fortran\n",
      "array, use 'a.T.view(...).T' instead\n",
      "  obj_bytes_view = obj.view(self.np.uint8)\n",
      "/home/ubuntu/Virtualenvs/mateo/lib/python3.4/site-packages/sklearn/metrics/classification.py:1117: UndefinedMetricWarning: F-score is ill-defined and being set to 0.0 due to no predicted samples.\n",
      "  'precision', 'predicted', average, warn_for)\n"
     ]
    },
    {
     "name": "stdout",
     "output_type": "stream",
     "text": [
      "[CV]  base_score=0.01, gamma=0.01, reg_alpha=0.01, n_estimators=15, objective=binary:logistic, max_depth=15, seed=1337, min_child_weight=15, learning_rate=0.001, subsample=0.8, colsample_bytree=1, silent=1, nthread=4 -  45.9s\n",
      "[CV] base_score=0.01, gamma=0.01, reg_alpha=0.01, n_estimators=15, objective=binary:logistic, max_depth=15, seed=1337, min_child_weight=15, learning_rate=0.001, subsample=0.5, colsample_bytree=1, silent=1, nthread=4 \n"
     ]
    },
    {
     "name": "stderr",
     "output_type": "stream",
     "text": [
      "/home/ubuntu/Virtualenvs/mateo/lib/python3.4/site-packages/sklearn/externals/joblib/hashing.py:197: DeprecationWarning: Changing the shape of non-C contiguous array by\n",
      "descriptor assignment is deprecated. To maintain\n",
      "the Fortran contiguity of a multidimensional Fortran\n",
      "array, use 'a.T.view(...).T' instead\n",
      "  obj_bytes_view = obj.view(self.np.uint8)\n",
      "/home/ubuntu/Virtualenvs/mateo/lib/python3.4/site-packages/sklearn/metrics/classification.py:1117: UndefinedMetricWarning: F-score is ill-defined and being set to 0.0 due to no predicted samples.\n",
      "  'precision', 'predicted', average, warn_for)\n"
     ]
    },
    {
     "name": "stdout",
     "output_type": "stream",
     "text": [
      "[CV]  base_score=0.01, gamma=0.01, reg_alpha=0.01, n_estimators=15, objective=binary:logistic, max_depth=15, seed=1337, min_child_weight=15, learning_rate=0.001, subsample=0.5, colsample_bytree=1, silent=1, nthread=4 -  42.3s\n",
      "[CV] base_score=0.01, gamma=0.01, reg_alpha=0.01, n_estimators=15, objective=binary:logistic, max_depth=15, seed=1337, min_child_weight=15, learning_rate=0.001, subsample=0.3, colsample_bytree=1, silent=1, nthread=4 \n"
     ]
    },
    {
     "name": "stderr",
     "output_type": "stream",
     "text": [
      "/home/ubuntu/Virtualenvs/mateo/lib/python3.4/site-packages/sklearn/externals/joblib/hashing.py:197: DeprecationWarning: Changing the shape of non-C contiguous array by\n",
      "descriptor assignment is deprecated. To maintain\n",
      "the Fortran contiguity of a multidimensional Fortran\n",
      "array, use 'a.T.view(...).T' instead\n",
      "  obj_bytes_view = obj.view(self.np.uint8)\n",
      "/home/ubuntu/Virtualenvs/mateo/lib/python3.4/site-packages/sklearn/metrics/classification.py:1117: UndefinedMetricWarning: F-score is ill-defined and being set to 0.0 due to no predicted samples.\n",
      "  'precision', 'predicted', average, warn_for)\n"
     ]
    },
    {
     "name": "stdout",
     "output_type": "stream",
     "text": [
      "[CV]  base_score=0.01, gamma=0.01, reg_alpha=0.01, n_estimators=15, objective=binary:logistic, max_depth=15, seed=1337, min_child_weight=15, learning_rate=0.001, subsample=0.5, colsample_bytree=1, silent=1, nthread=4 -  42.8s\n",
      "[CV] base_score=0.01, gamma=0.01, reg_alpha=0.01, n_estimators=15, objective=binary:logistic, max_depth=15, seed=1337, min_child_weight=15, learning_rate=0.001, subsample=0.3, colsample_bytree=1, silent=1, nthread=4 \n"
     ]
    },
    {
     "name": "stderr",
     "output_type": "stream",
     "text": [
      "/home/ubuntu/Virtualenvs/mateo/lib/python3.4/site-packages/sklearn/externals/joblib/hashing.py:197: DeprecationWarning: Changing the shape of non-C contiguous array by\n",
      "descriptor assignment is deprecated. To maintain\n",
      "the Fortran contiguity of a multidimensional Fortran\n",
      "array, use 'a.T.view(...).T' instead\n",
      "  obj_bytes_view = obj.view(self.np.uint8)\n",
      "/home/ubuntu/Virtualenvs/mateo/lib/python3.4/site-packages/sklearn/metrics/classification.py:1117: UndefinedMetricWarning: F-score is ill-defined and being set to 0.0 due to no predicted samples.\n",
      "  'precision', 'predicted', average, warn_for)\n"
     ]
    },
    {
     "name": "stdout",
     "output_type": "stream",
     "text": [
      "[CV]  base_score=0.01, gamma=0.01, reg_alpha=0.01, n_estimators=15, objective=binary:logistic, max_depth=15, seed=1337, min_child_weight=15, learning_rate=0.001, subsample=0.5, colsample_bytree=1, silent=1, nthread=4 -  44.0s\n",
      "[CV] base_score=0.01, gamma=0.01, reg_alpha=0.01, n_estimators=15, objective=binary:logistic, max_depth=15, seed=1337, min_child_weight=15, learning_rate=0.001, subsample=0.3, colsample_bytree=1, silent=1, nthread=4 \n"
     ]
    },
    {
     "name": "stderr",
     "output_type": "stream",
     "text": [
      "/home/ubuntu/Virtualenvs/mateo/lib/python3.4/site-packages/sklearn/externals/joblib/hashing.py:197: DeprecationWarning: Changing the shape of non-C contiguous array by\n",
      "descriptor assignment is deprecated. To maintain\n",
      "the Fortran contiguity of a multidimensional Fortran\n",
      "array, use 'a.T.view(...).T' instead\n",
      "  obj_bytes_view = obj.view(self.np.uint8)\n",
      "/home/ubuntu/Virtualenvs/mateo/lib/python3.4/site-packages/sklearn/metrics/classification.py:1117: UndefinedMetricWarning: F-score is ill-defined and being set to 0.0 due to no predicted samples.\n",
      "  'precision', 'predicted', average, warn_for)\n"
     ]
    },
    {
     "name": "stdout",
     "output_type": "stream",
     "text": [
      "[CV]  base_score=0.01, gamma=0.01, reg_alpha=0.01, n_estimators=15, objective=binary:logistic, max_depth=15, seed=1337, min_child_weight=15, learning_rate=0.001, subsample=0.3, colsample_bytree=1, silent=1, nthread=4 -  32.1s\n",
      "[CV] base_score=0.01, gamma=0.01, reg_alpha=0.1, n_estimators=15, objective=binary:logistic, max_depth=15, seed=1337, min_child_weight=15, learning_rate=0.001, subsample=0.8, colsample_bytree=1, silent=1, nthread=4 \n"
     ]
    },
    {
     "name": "stderr",
     "output_type": "stream",
     "text": [
      "/home/ubuntu/Virtualenvs/mateo/lib/python3.4/site-packages/sklearn/externals/joblib/hashing.py:197: DeprecationWarning: Changing the shape of non-C contiguous array by\n",
      "descriptor assignment is deprecated. To maintain\n",
      "the Fortran contiguity of a multidimensional Fortran\n",
      "array, use 'a.T.view(...).T' instead\n",
      "  obj_bytes_view = obj.view(self.np.uint8)\n",
      "/home/ubuntu/Virtualenvs/mateo/lib/python3.4/site-packages/sklearn/metrics/classification.py:1117: UndefinedMetricWarning: F-score is ill-defined and being set to 0.0 due to no predicted samples.\n",
      "  'precision', 'predicted', average, warn_for)\n"
     ]
    },
    {
     "name": "stdout",
     "output_type": "stream",
     "text": [
      "[CV]  base_score=0.01, gamma=0.01, reg_alpha=0.01, n_estimators=15, objective=binary:logistic, max_depth=15, seed=1337, min_child_weight=15, learning_rate=0.001, subsample=0.3, colsample_bytree=1, silent=1, nthread=4 -  31.7s\n",
      "[CV] base_score=0.01, gamma=0.01, reg_alpha=0.1, n_estimators=15, objective=binary:logistic, max_depth=15, seed=1337, min_child_weight=15, learning_rate=0.001, subsample=0.8, colsample_bytree=1, silent=1, nthread=4 \n"
     ]
    },
    {
     "name": "stderr",
     "output_type": "stream",
     "text": [
      "/home/ubuntu/Virtualenvs/mateo/lib/python3.4/site-packages/sklearn/externals/joblib/hashing.py:197: DeprecationWarning: Changing the shape of non-C contiguous array by\n",
      "descriptor assignment is deprecated. To maintain\n",
      "the Fortran contiguity of a multidimensional Fortran\n",
      "array, use 'a.T.view(...).T' instead\n",
      "  obj_bytes_view = obj.view(self.np.uint8)\n",
      "/home/ubuntu/Virtualenvs/mateo/lib/python3.4/site-packages/sklearn/metrics/classification.py:1117: UndefinedMetricWarning: F-score is ill-defined and being set to 0.0 due to no predicted samples.\n",
      "  'precision', 'predicted', average, warn_for)\n"
     ]
    },
    {
     "name": "stdout",
     "output_type": "stream",
     "text": [
      "[CV]  base_score=0.01, gamma=0.01, reg_alpha=0.01, n_estimators=15, objective=binary:logistic, max_depth=15, seed=1337, min_child_weight=15, learning_rate=0.001, subsample=0.3, colsample_bytree=1, silent=1, nthread=4 -  32.1s\n",
      "[CV] base_score=0.01, gamma=0.01, reg_alpha=0.1, n_estimators=15, objective=binary:logistic, max_depth=15, seed=1337, min_child_weight=15, learning_rate=0.001, subsample=0.8, colsample_bytree=1, silent=1, nthread=4 \n"
     ]
    },
    {
     "name": "stderr",
     "output_type": "stream",
     "text": [
      "/home/ubuntu/Virtualenvs/mateo/lib/python3.4/site-packages/sklearn/externals/joblib/hashing.py:197: DeprecationWarning: Changing the shape of non-C contiguous array by\n",
      "descriptor assignment is deprecated. To maintain\n",
      "the Fortran contiguity of a multidimensional Fortran\n",
      "array, use 'a.T.view(...).T' instead\n",
      "  obj_bytes_view = obj.view(self.np.uint8)\n",
      "/home/ubuntu/Virtualenvs/mateo/lib/python3.4/site-packages/sklearn/metrics/classification.py:1117: UndefinedMetricWarning: F-score is ill-defined and being set to 0.0 due to no predicted samples.\n",
      "  'precision', 'predicted', average, warn_for)\n"
     ]
    },
    {
     "name": "stdout",
     "output_type": "stream",
     "text": [
      "[CV]  base_score=0.01, gamma=0.01, reg_alpha=0.1, n_estimators=15, objective=binary:logistic, max_depth=15, seed=1337, min_child_weight=15, learning_rate=0.001, subsample=0.8, colsample_bytree=1, silent=1, nthread=4 -  46.1s\n",
      "[CV] base_score=0.01, gamma=0.01, reg_alpha=0.1, n_estimators=15, objective=binary:logistic, max_depth=15, seed=1337, min_child_weight=15, learning_rate=0.001, subsample=0.5, colsample_bytree=1, silent=1, nthread=4 \n"
     ]
    },
    {
     "name": "stderr",
     "output_type": "stream",
     "text": [
      "/home/ubuntu/Virtualenvs/mateo/lib/python3.4/site-packages/sklearn/externals/joblib/hashing.py:197: DeprecationWarning: Changing the shape of non-C contiguous array by\n",
      "descriptor assignment is deprecated. To maintain\n",
      "the Fortran contiguity of a multidimensional Fortran\n",
      "array, use 'a.T.view(...).T' instead\n",
      "  obj_bytes_view = obj.view(self.np.uint8)\n",
      "/home/ubuntu/Virtualenvs/mateo/lib/python3.4/site-packages/sklearn/metrics/classification.py:1117: UndefinedMetricWarning: F-score is ill-defined and being set to 0.0 due to no predicted samples.\n",
      "  'precision', 'predicted', average, warn_for)\n"
     ]
    },
    {
     "name": "stdout",
     "output_type": "stream",
     "text": [
      "[CV]  base_score=0.01, gamma=0.01, reg_alpha=0.1, n_estimators=15, objective=binary:logistic, max_depth=15, seed=1337, min_child_weight=15, learning_rate=0.001, subsample=0.8, colsample_bytree=1, silent=1, nthread=4 -  47.6s\n",
      "[CV] base_score=0.01, gamma=0.01, reg_alpha=0.1, n_estimators=15, objective=binary:logistic, max_depth=15, seed=1337, min_child_weight=15, learning_rate=0.001, subsample=0.5, colsample_bytree=1, silent=1, nthread=4 \n"
     ]
    },
    {
     "name": "stderr",
     "output_type": "stream",
     "text": [
      "/home/ubuntu/Virtualenvs/mateo/lib/python3.4/site-packages/sklearn/externals/joblib/hashing.py:197: DeprecationWarning: Changing the shape of non-C contiguous array by\n",
      "descriptor assignment is deprecated. To maintain\n",
      "the Fortran contiguity of a multidimensional Fortran\n",
      "array, use 'a.T.view(...).T' instead\n",
      "  obj_bytes_view = obj.view(self.np.uint8)\n",
      "/home/ubuntu/Virtualenvs/mateo/lib/python3.4/site-packages/sklearn/metrics/classification.py:1117: UndefinedMetricWarning: F-score is ill-defined and being set to 0.0 due to no predicted samples.\n",
      "  'precision', 'predicted', average, warn_for)\n"
     ]
    },
    {
     "name": "stdout",
     "output_type": "stream",
     "text": [
      "[CV]  base_score=0.01, gamma=0.01, reg_alpha=0.1, n_estimators=15, objective=binary:logistic, max_depth=15, seed=1337, min_child_weight=15, learning_rate=0.001, subsample=0.8, colsample_bytree=1, silent=1, nthread=4 -  45.7s\n",
      "[CV] base_score=0.01, gamma=0.01, reg_alpha=0.1, n_estimators=15, objective=binary:logistic, max_depth=15, seed=1337, min_child_weight=15, learning_rate=0.001, subsample=0.5, colsample_bytree=1, silent=1, nthread=4 \n"
     ]
    },
    {
     "name": "stderr",
     "output_type": "stream",
     "text": [
      "/home/ubuntu/Virtualenvs/mateo/lib/python3.4/site-packages/sklearn/externals/joblib/hashing.py:197: DeprecationWarning: Changing the shape of non-C contiguous array by\n",
      "descriptor assignment is deprecated. To maintain\n",
      "the Fortran contiguity of a multidimensional Fortran\n",
      "array, use 'a.T.view(...).T' instead\n",
      "  obj_bytes_view = obj.view(self.np.uint8)\n",
      "/home/ubuntu/Virtualenvs/mateo/lib/python3.4/site-packages/sklearn/metrics/classification.py:1117: UndefinedMetricWarning: F-score is ill-defined and being set to 0.0 due to no predicted samples.\n",
      "  'precision', 'predicted', average, warn_for)\n"
     ]
    },
    {
     "name": "stdout",
     "output_type": "stream",
     "text": [
      "[CV]  base_score=0.01, gamma=0.01, reg_alpha=0.1, n_estimators=15, objective=binary:logistic, max_depth=15, seed=1337, min_child_weight=15, learning_rate=0.001, subsample=0.5, colsample_bytree=1, silent=1, nthread=4 -  42.0s\n",
      "[CV] base_score=0.01, gamma=0.01, reg_alpha=0.1, n_estimators=15, objective=binary:logistic, max_depth=15, seed=1337, min_child_weight=15, learning_rate=0.001, subsample=0.3, colsample_bytree=1, silent=1, nthread=4 \n"
     ]
    },
    {
     "name": "stderr",
     "output_type": "stream",
     "text": [
      "/home/ubuntu/Virtualenvs/mateo/lib/python3.4/site-packages/sklearn/externals/joblib/hashing.py:197: DeprecationWarning: Changing the shape of non-C contiguous array by\n",
      "descriptor assignment is deprecated. To maintain\n",
      "the Fortran contiguity of a multidimensional Fortran\n",
      "array, use 'a.T.view(...).T' instead\n",
      "  obj_bytes_view = obj.view(self.np.uint8)\n",
      "/home/ubuntu/Virtualenvs/mateo/lib/python3.4/site-packages/sklearn/metrics/classification.py:1117: UndefinedMetricWarning: F-score is ill-defined and being set to 0.0 due to no predicted samples.\n",
      "  'precision', 'predicted', average, warn_for)\n"
     ]
    },
    {
     "name": "stdout",
     "output_type": "stream",
     "text": [
      "[CV]  base_score=0.01, gamma=0.01, reg_alpha=0.1, n_estimators=15, objective=binary:logistic, max_depth=15, seed=1337, min_child_weight=15, learning_rate=0.001, subsample=0.5, colsample_bytree=1, silent=1, nthread=4 -  41.8s\n",
      "[CV] base_score=0.01, gamma=0.01, reg_alpha=0.1, n_estimators=15, objective=binary:logistic, max_depth=15, seed=1337, min_child_weight=15, learning_rate=0.001, subsample=0.3, colsample_bytree=1, silent=1, nthread=4 \n"
     ]
    },
    {
     "name": "stderr",
     "output_type": "stream",
     "text": [
      "/home/ubuntu/Virtualenvs/mateo/lib/python3.4/site-packages/sklearn/externals/joblib/hashing.py:197: DeprecationWarning: Changing the shape of non-C contiguous array by\n",
      "descriptor assignment is deprecated. To maintain\n",
      "the Fortran contiguity of a multidimensional Fortran\n",
      "array, use 'a.T.view(...).T' instead\n",
      "  obj_bytes_view = obj.view(self.np.uint8)\n",
      "/home/ubuntu/Virtualenvs/mateo/lib/python3.4/site-packages/sklearn/metrics/classification.py:1117: UndefinedMetricWarning: F-score is ill-defined and being set to 0.0 due to no predicted samples.\n",
      "  'precision', 'predicted', average, warn_for)\n"
     ]
    },
    {
     "name": "stdout",
     "output_type": "stream",
     "text": [
      "[CV]  base_score=0.01, gamma=0.01, reg_alpha=0.1, n_estimators=15, objective=binary:logistic, max_depth=15, seed=1337, min_child_weight=15, learning_rate=0.001, subsample=0.5, colsample_bytree=1, silent=1, nthread=4 -  41.1s\n",
      "[CV] base_score=0.01, gamma=0.01, reg_alpha=0.1, n_estimators=15, objective=binary:logistic, max_depth=15, seed=1337, min_child_weight=15, learning_rate=0.001, subsample=0.3, colsample_bytree=1, silent=1, nthread=4 \n"
     ]
    },
    {
     "name": "stderr",
     "output_type": "stream",
     "text": [
      "/home/ubuntu/Virtualenvs/mateo/lib/python3.4/site-packages/sklearn/externals/joblib/hashing.py:197: DeprecationWarning: Changing the shape of non-C contiguous array by\n",
      "descriptor assignment is deprecated. To maintain\n",
      "the Fortran contiguity of a multidimensional Fortran\n",
      "array, use 'a.T.view(...).T' instead\n",
      "  obj_bytes_view = obj.view(self.np.uint8)\n",
      "/home/ubuntu/Virtualenvs/mateo/lib/python3.4/site-packages/sklearn/metrics/classification.py:1117: UndefinedMetricWarning: F-score is ill-defined and being set to 0.0 due to no predicted samples.\n",
      "  'precision', 'predicted', average, warn_for)\n"
     ]
    },
    {
     "name": "stdout",
     "output_type": "stream",
     "text": [
      "[CV]  base_score=0.01, gamma=0.01, reg_alpha=0.1, n_estimators=15, objective=binary:logistic, max_depth=15, seed=1337, min_child_weight=15, learning_rate=0.001, subsample=0.3, colsample_bytree=1, silent=1, nthread=4 -  31.4s\n",
      "[CV] base_score=0.01, gamma=0.01, reg_alpha=1.0, n_estimators=15, objective=binary:logistic, max_depth=15, seed=1337, min_child_weight=15, learning_rate=0.001, subsample=0.8, colsample_bytree=1, silent=1, nthread=4 \n"
     ]
    },
    {
     "name": "stderr",
     "output_type": "stream",
     "text": [
      "/home/ubuntu/Virtualenvs/mateo/lib/python3.4/site-packages/sklearn/externals/joblib/hashing.py:197: DeprecationWarning: Changing the shape of non-C contiguous array by\n",
      "descriptor assignment is deprecated. To maintain\n",
      "the Fortran contiguity of a multidimensional Fortran\n",
      "array, use 'a.T.view(...).T' instead\n",
      "  obj_bytes_view = obj.view(self.np.uint8)\n",
      "/home/ubuntu/Virtualenvs/mateo/lib/python3.4/site-packages/sklearn/metrics/classification.py:1117: UndefinedMetricWarning: F-score is ill-defined and being set to 0.0 due to no predicted samples.\n",
      "  'precision', 'predicted', average, warn_for)\n"
     ]
    },
    {
     "name": "stdout",
     "output_type": "stream",
     "text": [
      "[CV]  base_score=0.01, gamma=0.01, reg_alpha=0.1, n_estimators=15, objective=binary:logistic, max_depth=15, seed=1337, min_child_weight=15, learning_rate=0.001, subsample=0.3, colsample_bytree=1, silent=1, nthread=4 -  31.4s\n",
      "[CV] base_score=0.01, gamma=0.01, reg_alpha=1.0, n_estimators=15, objective=binary:logistic, max_depth=15, seed=1337, min_child_weight=15, learning_rate=0.001, subsample=0.8, colsample_bytree=1, silent=1, nthread=4 \n"
     ]
    },
    {
     "name": "stderr",
     "output_type": "stream",
     "text": [
      "/home/ubuntu/Virtualenvs/mateo/lib/python3.4/site-packages/sklearn/externals/joblib/hashing.py:197: DeprecationWarning: Changing the shape of non-C contiguous array by\n",
      "descriptor assignment is deprecated. To maintain\n",
      "the Fortran contiguity of a multidimensional Fortran\n",
      "array, use 'a.T.view(...).T' instead\n",
      "  obj_bytes_view = obj.view(self.np.uint8)\n",
      "/home/ubuntu/Virtualenvs/mateo/lib/python3.4/site-packages/sklearn/metrics/classification.py:1117: UndefinedMetricWarning: F-score is ill-defined and being set to 0.0 due to no predicted samples.\n",
      "  'precision', 'predicted', average, warn_for)\n"
     ]
    },
    {
     "name": "stdout",
     "output_type": "stream",
     "text": [
      "[CV]  base_score=0.01, gamma=0.01, reg_alpha=0.1, n_estimators=15, objective=binary:logistic, max_depth=15, seed=1337, min_child_weight=15, learning_rate=0.001, subsample=0.3, colsample_bytree=1, silent=1, nthread=4 -  30.6s\n",
      "[CV] base_score=0.01, gamma=0.01, reg_alpha=1.0, n_estimators=15, objective=binary:logistic, max_depth=15, seed=1337, min_child_weight=15, learning_rate=0.001, subsample=0.8, colsample_bytree=1, silent=1, nthread=4 \n"
     ]
    },
    {
     "name": "stderr",
     "output_type": "stream",
     "text": [
      "/home/ubuntu/Virtualenvs/mateo/lib/python3.4/site-packages/sklearn/externals/joblib/hashing.py:197: DeprecationWarning: Changing the shape of non-C contiguous array by\n",
      "descriptor assignment is deprecated. To maintain\n",
      "the Fortran contiguity of a multidimensional Fortran\n",
      "array, use 'a.T.view(...).T' instead\n",
      "  obj_bytes_view = obj.view(self.np.uint8)\n",
      "/home/ubuntu/Virtualenvs/mateo/lib/python3.4/site-packages/sklearn/metrics/classification.py:1117: UndefinedMetricWarning: F-score is ill-defined and being set to 0.0 due to no predicted samples.\n",
      "  'precision', 'predicted', average, warn_for)\n"
     ]
    },
    {
     "name": "stdout",
     "output_type": "stream",
     "text": [
      "[CV]  base_score=0.01, gamma=0.01, reg_alpha=1.0, n_estimators=15, objective=binary:logistic, max_depth=15, seed=1337, min_child_weight=15, learning_rate=0.001, subsample=0.8, colsample_bytree=1, silent=1, nthread=4 -  42.2s\n",
      "[CV] base_score=0.01, gamma=0.01, reg_alpha=1.0, n_estimators=15, objective=binary:logistic, max_depth=15, seed=1337, min_child_weight=15, learning_rate=0.001, subsample=0.5, colsample_bytree=1, silent=1, nthread=4 \n"
     ]
    },
    {
     "name": "stderr",
     "output_type": "stream",
     "text": [
      "/home/ubuntu/Virtualenvs/mateo/lib/python3.4/site-packages/sklearn/externals/joblib/hashing.py:197: DeprecationWarning: Changing the shape of non-C contiguous array by\n",
      "descriptor assignment is deprecated. To maintain\n",
      "the Fortran contiguity of a multidimensional Fortran\n",
      "array, use 'a.T.view(...).T' instead\n",
      "  obj_bytes_view = obj.view(self.np.uint8)\n",
      "/home/ubuntu/Virtualenvs/mateo/lib/python3.4/site-packages/sklearn/metrics/classification.py:1117: UndefinedMetricWarning: F-score is ill-defined and being set to 0.0 due to no predicted samples.\n",
      "  'precision', 'predicted', average, warn_for)\n"
     ]
    },
    {
     "name": "stdout",
     "output_type": "stream",
     "text": [
      "[CV]  base_score=0.01, gamma=0.01, reg_alpha=1.0, n_estimators=15, objective=binary:logistic, max_depth=15, seed=1337, min_child_weight=15, learning_rate=0.001, subsample=0.8, colsample_bytree=1, silent=1, nthread=4 -  40.6s\n",
      "[CV] base_score=0.01, gamma=0.01, reg_alpha=1.0, n_estimators=15, objective=binary:logistic, max_depth=15, seed=1337, min_child_weight=15, learning_rate=0.001, subsample=0.5, colsample_bytree=1, silent=1, nthread=4 \n"
     ]
    },
    {
     "name": "stderr",
     "output_type": "stream",
     "text": [
      "/home/ubuntu/Virtualenvs/mateo/lib/python3.4/site-packages/sklearn/externals/joblib/hashing.py:197: DeprecationWarning: Changing the shape of non-C contiguous array by\n",
      "descriptor assignment is deprecated. To maintain\n",
      "the Fortran contiguity of a multidimensional Fortran\n",
      "array, use 'a.T.view(...).T' instead\n",
      "  obj_bytes_view = obj.view(self.np.uint8)\n",
      "/home/ubuntu/Virtualenvs/mateo/lib/python3.4/site-packages/sklearn/metrics/classification.py:1117: UndefinedMetricWarning: F-score is ill-defined and being set to 0.0 due to no predicted samples.\n",
      "  'precision', 'predicted', average, warn_for)\n"
     ]
    },
    {
     "name": "stdout",
     "output_type": "stream",
     "text": [
      "[CV]  base_score=0.01, gamma=0.01, reg_alpha=1.0, n_estimators=15, objective=binary:logistic, max_depth=15, seed=1337, min_child_weight=15, learning_rate=0.001, subsample=0.8, colsample_bytree=1, silent=1, nthread=4 -  42.7s\n",
      "[CV] base_score=0.01, gamma=0.01, reg_alpha=1.0, n_estimators=15, objective=binary:logistic, max_depth=15, seed=1337, min_child_weight=15, learning_rate=0.001, subsample=0.5, colsample_bytree=1, silent=1, nthread=4 \n"
     ]
    },
    {
     "name": "stderr",
     "output_type": "stream",
     "text": [
      "/home/ubuntu/Virtualenvs/mateo/lib/python3.4/site-packages/sklearn/externals/joblib/hashing.py:197: DeprecationWarning: Changing the shape of non-C contiguous array by\n",
      "descriptor assignment is deprecated. To maintain\n",
      "the Fortran contiguity of a multidimensional Fortran\n",
      "array, use 'a.T.view(...).T' instead\n",
      "  obj_bytes_view = obj.view(self.np.uint8)\n",
      "/home/ubuntu/Virtualenvs/mateo/lib/python3.4/site-packages/sklearn/metrics/classification.py:1117: UndefinedMetricWarning: F-score is ill-defined and being set to 0.0 due to no predicted samples.\n",
      "  'precision', 'predicted', average, warn_for)\n"
     ]
    },
    {
     "name": "stdout",
     "output_type": "stream",
     "text": [
      "[CV]  base_score=0.01, gamma=0.01, reg_alpha=1.0, n_estimators=15, objective=binary:logistic, max_depth=15, seed=1337, min_child_weight=15, learning_rate=0.001, subsample=0.5, colsample_bytree=1, silent=1, nthread=4 -  38.2s\n",
      "[CV] base_score=0.01, gamma=0.01, reg_alpha=1.0, n_estimators=15, objective=binary:logistic, max_depth=15, seed=1337, min_child_weight=15, learning_rate=0.001, subsample=0.3, colsample_bytree=1, silent=1, nthread=4 \n"
     ]
    },
    {
     "name": "stderr",
     "output_type": "stream",
     "text": [
      "/home/ubuntu/Virtualenvs/mateo/lib/python3.4/site-packages/sklearn/externals/joblib/hashing.py:197: DeprecationWarning: Changing the shape of non-C contiguous array by\n",
      "descriptor assignment is deprecated. To maintain\n",
      "the Fortran contiguity of a multidimensional Fortran\n",
      "array, use 'a.T.view(...).T' instead\n",
      "  obj_bytes_view = obj.view(self.np.uint8)\n",
      "/home/ubuntu/Virtualenvs/mateo/lib/python3.4/site-packages/sklearn/metrics/classification.py:1117: UndefinedMetricWarning: F-score is ill-defined and being set to 0.0 due to no predicted samples.\n",
      "  'precision', 'predicted', average, warn_for)\n"
     ]
    },
    {
     "name": "stdout",
     "output_type": "stream",
     "text": [
      "[CV]  base_score=0.01, gamma=0.01, reg_alpha=1.0, n_estimators=15, objective=binary:logistic, max_depth=15, seed=1337, min_child_weight=15, learning_rate=0.001, subsample=0.5, colsample_bytree=1, silent=1, nthread=4 -  38.8s\n",
      "[CV] base_score=0.01, gamma=0.01, reg_alpha=1.0, n_estimators=15, objective=binary:logistic, max_depth=15, seed=1337, min_child_weight=15, learning_rate=0.001, subsample=0.3, colsample_bytree=1, silent=1, nthread=4 \n"
     ]
    },
    {
     "name": "stderr",
     "output_type": "stream",
     "text": [
      "/home/ubuntu/Virtualenvs/mateo/lib/python3.4/site-packages/sklearn/externals/joblib/hashing.py:197: DeprecationWarning: Changing the shape of non-C contiguous array by\n",
      "descriptor assignment is deprecated. To maintain\n",
      "the Fortran contiguity of a multidimensional Fortran\n",
      "array, use 'a.T.view(...).T' instead\n",
      "  obj_bytes_view = obj.view(self.np.uint8)\n",
      "/home/ubuntu/Virtualenvs/mateo/lib/python3.4/site-packages/sklearn/metrics/classification.py:1117: UndefinedMetricWarning: F-score is ill-defined and being set to 0.0 due to no predicted samples.\n",
      "  'precision', 'predicted', average, warn_for)\n"
     ]
    },
    {
     "name": "stdout",
     "output_type": "stream",
     "text": [
      "[CV]  base_score=0.01, gamma=0.01, reg_alpha=1.0, n_estimators=15, objective=binary:logistic, max_depth=15, seed=1337, min_child_weight=15, learning_rate=0.001, subsample=0.5, colsample_bytree=1, silent=1, nthread=4 -  39.5s\n",
      "[CV] base_score=0.01, gamma=0.01, reg_alpha=1.0, n_estimators=15, objective=binary:logistic, max_depth=15, seed=1337, min_child_weight=15, learning_rate=0.001, subsample=0.3, colsample_bytree=1, silent=1, nthread=4 \n"
     ]
    },
    {
     "name": "stderr",
     "output_type": "stream",
     "text": [
      "/home/ubuntu/Virtualenvs/mateo/lib/python3.4/site-packages/sklearn/externals/joblib/hashing.py:197: DeprecationWarning: Changing the shape of non-C contiguous array by\n",
      "descriptor assignment is deprecated. To maintain\n",
      "the Fortran contiguity of a multidimensional Fortran\n",
      "array, use 'a.T.view(...).T' instead\n",
      "  obj_bytes_view = obj.view(self.np.uint8)\n",
      "/home/ubuntu/Virtualenvs/mateo/lib/python3.4/site-packages/sklearn/metrics/classification.py:1117: UndefinedMetricWarning: F-score is ill-defined and being set to 0.0 due to no predicted samples.\n",
      "  'precision', 'predicted', average, warn_for)\n"
     ]
    },
    {
     "name": "stdout",
     "output_type": "stream",
     "text": [
      "[CV]  base_score=0.01, gamma=0.01, reg_alpha=1.0, n_estimators=15, objective=binary:logistic, max_depth=15, seed=1337, min_child_weight=15, learning_rate=0.001, subsample=0.3, colsample_bytree=1, silent=1, nthread=4 -  29.5s\n",
      "[CV] base_score=0.01, gamma=0.01, reg_alpha=0.01, n_estimators=30, objective=binary:logistic, max_depth=15, seed=1337, min_child_weight=15, learning_rate=0.001, subsample=0.8, colsample_bytree=1, silent=1, nthread=4 \n"
     ]
    },
    {
     "name": "stderr",
     "output_type": "stream",
     "text": [
      "/home/ubuntu/Virtualenvs/mateo/lib/python3.4/site-packages/sklearn/externals/joblib/hashing.py:197: DeprecationWarning: Changing the shape of non-C contiguous array by\n",
      "descriptor assignment is deprecated. To maintain\n",
      "the Fortran contiguity of a multidimensional Fortran\n",
      "array, use 'a.T.view(...).T' instead\n",
      "  obj_bytes_view = obj.view(self.np.uint8)\n",
      "/home/ubuntu/Virtualenvs/mateo/lib/python3.4/site-packages/sklearn/metrics/classification.py:1117: UndefinedMetricWarning: F-score is ill-defined and being set to 0.0 due to no predicted samples.\n",
      "  'precision', 'predicted', average, warn_for)\n"
     ]
    },
    {
     "name": "stdout",
     "output_type": "stream",
     "text": [
      "[CV]  base_score=0.01, gamma=0.01, reg_alpha=1.0, n_estimators=15, objective=binary:logistic, max_depth=15, seed=1337, min_child_weight=15, learning_rate=0.001, subsample=0.3, colsample_bytree=1, silent=1, nthread=4 -  28.5s\n",
      "[CV] base_score=0.01, gamma=0.01, reg_alpha=0.01, n_estimators=30, objective=binary:logistic, max_depth=15, seed=1337, min_child_weight=15, learning_rate=0.001, subsample=0.8, colsample_bytree=1, silent=1, nthread=4 \n"
     ]
    },
    {
     "name": "stderr",
     "output_type": "stream",
     "text": [
      "/home/ubuntu/Virtualenvs/mateo/lib/python3.4/site-packages/sklearn/externals/joblib/hashing.py:197: DeprecationWarning: Changing the shape of non-C contiguous array by\n",
      "descriptor assignment is deprecated. To maintain\n",
      "the Fortran contiguity of a multidimensional Fortran\n",
      "array, use 'a.T.view(...).T' instead\n",
      "  obj_bytes_view = obj.view(self.np.uint8)\n",
      "/home/ubuntu/Virtualenvs/mateo/lib/python3.4/site-packages/sklearn/metrics/classification.py:1117: UndefinedMetricWarning: F-score is ill-defined and being set to 0.0 due to no predicted samples.\n",
      "  'precision', 'predicted', average, warn_for)\n"
     ]
    },
    {
     "name": "stdout",
     "output_type": "stream",
     "text": [
      "[CV]  base_score=0.01, gamma=0.01, reg_alpha=1.0, n_estimators=15, objective=binary:logistic, max_depth=15, seed=1337, min_child_weight=15, learning_rate=0.001, subsample=0.3, colsample_bytree=1, silent=1, nthread=4 -  29.0s\n",
      "[CV] base_score=0.01, gamma=0.01, reg_alpha=0.01, n_estimators=30, objective=binary:logistic, max_depth=15, seed=1337, min_child_weight=15, learning_rate=0.001, subsample=0.8, colsample_bytree=1, silent=1, nthread=4 \n"
     ]
    },
    {
     "name": "stderr",
     "output_type": "stream",
     "text": [
      "/home/ubuntu/Virtualenvs/mateo/lib/python3.4/site-packages/sklearn/externals/joblib/hashing.py:197: DeprecationWarning: Changing the shape of non-C contiguous array by\n",
      "descriptor assignment is deprecated. To maintain\n",
      "the Fortran contiguity of a multidimensional Fortran\n",
      "array, use 'a.T.view(...).T' instead\n",
      "  obj_bytes_view = obj.view(self.np.uint8)\n",
      "/home/ubuntu/Virtualenvs/mateo/lib/python3.4/site-packages/sklearn/metrics/classification.py:1117: UndefinedMetricWarning: F-score is ill-defined and being set to 0.0 due to no predicted samples.\n",
      "  'precision', 'predicted', average, warn_for)\n"
     ]
    },
    {
     "name": "stdout",
     "output_type": "stream",
     "text": [
      "[CV]  base_score=0.01, gamma=0.01, reg_alpha=0.01, n_estimators=30, objective=binary:logistic, max_depth=15, seed=1337, min_child_weight=15, learning_rate=0.001, subsample=0.8, colsample_bytree=1, silent=1, nthread=4 - 1.5min\n",
      "[CV] base_score=0.01, gamma=0.01, reg_alpha=0.01, n_estimators=30, objective=binary:logistic, max_depth=15, seed=1337, min_child_weight=15, learning_rate=0.001, subsample=0.5, colsample_bytree=1, silent=1, nthread=4 \n"
     ]
    },
    {
     "name": "stderr",
     "output_type": "stream",
     "text": [
      "/home/ubuntu/Virtualenvs/mateo/lib/python3.4/site-packages/sklearn/externals/joblib/hashing.py:197: DeprecationWarning: Changing the shape of non-C contiguous array by\n",
      "descriptor assignment is deprecated. To maintain\n",
      "the Fortran contiguity of a multidimensional Fortran\n",
      "array, use 'a.T.view(...).T' instead\n",
      "  obj_bytes_view = obj.view(self.np.uint8)\n",
      "/home/ubuntu/Virtualenvs/mateo/lib/python3.4/site-packages/sklearn/metrics/classification.py:1117: UndefinedMetricWarning: F-score is ill-defined and being set to 0.0 due to no predicted samples.\n",
      "  'precision', 'predicted', average, warn_for)\n"
     ]
    },
    {
     "name": "stdout",
     "output_type": "stream",
     "text": [
      "[CV]  base_score=0.01, gamma=0.01, reg_alpha=0.01, n_estimators=30, objective=binary:logistic, max_depth=15, seed=1337, min_child_weight=15, learning_rate=0.001, subsample=0.8, colsample_bytree=1, silent=1, nthread=4 - 1.5min\n",
      "[CV] base_score=0.01, gamma=0.01, reg_alpha=0.01, n_estimators=30, objective=binary:logistic, max_depth=15, seed=1337, min_child_weight=15, learning_rate=0.001, subsample=0.5, colsample_bytree=1, silent=1, nthread=4 \n"
     ]
    },
    {
     "name": "stderr",
     "output_type": "stream",
     "text": [
      "/home/ubuntu/Virtualenvs/mateo/lib/python3.4/site-packages/sklearn/externals/joblib/hashing.py:197: DeprecationWarning: Changing the shape of non-C contiguous array by\n",
      "descriptor assignment is deprecated. To maintain\n",
      "the Fortran contiguity of a multidimensional Fortran\n",
      "array, use 'a.T.view(...).T' instead\n",
      "  obj_bytes_view = obj.view(self.np.uint8)\n",
      "/home/ubuntu/Virtualenvs/mateo/lib/python3.4/site-packages/sklearn/metrics/classification.py:1117: UndefinedMetricWarning: F-score is ill-defined and being set to 0.0 due to no predicted samples.\n",
      "  'precision', 'predicted', average, warn_for)\n"
     ]
    },
    {
     "name": "stdout",
     "output_type": "stream",
     "text": [
      "[CV]  base_score=0.01, gamma=0.01, reg_alpha=0.01, n_estimators=30, objective=binary:logistic, max_depth=15, seed=1337, min_child_weight=15, learning_rate=0.001, subsample=0.8, colsample_bytree=1, silent=1, nthread=4 - 1.5min\n",
      "[CV] base_score=0.01, gamma=0.01, reg_alpha=0.01, n_estimators=30, objective=binary:logistic, max_depth=15, seed=1337, min_child_weight=15, learning_rate=0.001, subsample=0.5, colsample_bytree=1, silent=1, nthread=4 \n"
     ]
    },
    {
     "name": "stderr",
     "output_type": "stream",
     "text": [
      "/home/ubuntu/Virtualenvs/mateo/lib/python3.4/site-packages/sklearn/externals/joblib/hashing.py:197: DeprecationWarning: Changing the shape of non-C contiguous array by\n",
      "descriptor assignment is deprecated. To maintain\n",
      "the Fortran contiguity of a multidimensional Fortran\n",
      "array, use 'a.T.view(...).T' instead\n",
      "  obj_bytes_view = obj.view(self.np.uint8)\n",
      "/home/ubuntu/Virtualenvs/mateo/lib/python3.4/site-packages/sklearn/metrics/classification.py:1117: UndefinedMetricWarning: F-score is ill-defined and being set to 0.0 due to no predicted samples.\n",
      "  'precision', 'predicted', average, warn_for)\n"
     ]
    },
    {
     "name": "stdout",
     "output_type": "stream",
     "text": [
      "[CV]  base_score=0.01, gamma=0.01, reg_alpha=0.01, n_estimators=30, objective=binary:logistic, max_depth=15, seed=1337, min_child_weight=15, learning_rate=0.001, subsample=0.5, colsample_bytree=1, silent=1, nthread=4 - 1.4min\n",
      "[CV] base_score=0.01, gamma=0.01, reg_alpha=0.01, n_estimators=30, objective=binary:logistic, max_depth=15, seed=1337, min_child_weight=15, learning_rate=0.001, subsample=0.3, colsample_bytree=1, silent=1, nthread=4 \n"
     ]
    },
    {
     "name": "stderr",
     "output_type": "stream",
     "text": [
      "/home/ubuntu/Virtualenvs/mateo/lib/python3.4/site-packages/sklearn/externals/joblib/hashing.py:197: DeprecationWarning: Changing the shape of non-C contiguous array by\n",
      "descriptor assignment is deprecated. To maintain\n",
      "the Fortran contiguity of a multidimensional Fortran\n",
      "array, use 'a.T.view(...).T' instead\n",
      "  obj_bytes_view = obj.view(self.np.uint8)\n",
      "/home/ubuntu/Virtualenvs/mateo/lib/python3.4/site-packages/sklearn/metrics/classification.py:1117: UndefinedMetricWarning: F-score is ill-defined and being set to 0.0 due to no predicted samples.\n",
      "  'precision', 'predicted', average, warn_for)\n"
     ]
    },
    {
     "name": "stdout",
     "output_type": "stream",
     "text": [
      "[CV]  base_score=0.01, gamma=0.01, reg_alpha=0.01, n_estimators=30, objective=binary:logistic, max_depth=15, seed=1337, min_child_weight=15, learning_rate=0.001, subsample=0.5, colsample_bytree=1, silent=1, nthread=4 - 1.4min\n",
      "[CV] base_score=0.01, gamma=0.01, reg_alpha=0.01, n_estimators=30, objective=binary:logistic, max_depth=15, seed=1337, min_child_weight=15, learning_rate=0.001, subsample=0.3, colsample_bytree=1, silent=1, nthread=4 \n"
     ]
    },
    {
     "name": "stderr",
     "output_type": "stream",
     "text": [
      "/home/ubuntu/Virtualenvs/mateo/lib/python3.4/site-packages/sklearn/externals/joblib/hashing.py:197: DeprecationWarning: Changing the shape of non-C contiguous array by\n",
      "descriptor assignment is deprecated. To maintain\n",
      "the Fortran contiguity of a multidimensional Fortran\n",
      "array, use 'a.T.view(...).T' instead\n",
      "  obj_bytes_view = obj.view(self.np.uint8)\n",
      "/home/ubuntu/Virtualenvs/mateo/lib/python3.4/site-packages/sklearn/metrics/classification.py:1117: UndefinedMetricWarning: F-score is ill-defined and being set to 0.0 due to no predicted samples.\n",
      "  'precision', 'predicted', average, warn_for)\n"
     ]
    },
    {
     "name": "stdout",
     "output_type": "stream",
     "text": [
      "[CV]  base_score=0.01, gamma=0.01, reg_alpha=0.01, n_estimators=30, objective=binary:logistic, max_depth=15, seed=1337, min_child_weight=15, learning_rate=0.001, subsample=0.5, colsample_bytree=1, silent=1, nthread=4 - 1.4min\n",
      "[CV] base_score=0.01, gamma=0.01, reg_alpha=0.01, n_estimators=30, objective=binary:logistic, max_depth=15, seed=1337, min_child_weight=15, learning_rate=0.001, subsample=0.3, colsample_bytree=1, silent=1, nthread=4 \n"
     ]
    },
    {
     "name": "stderr",
     "output_type": "stream",
     "text": [
      "/home/ubuntu/Virtualenvs/mateo/lib/python3.4/site-packages/sklearn/externals/joblib/hashing.py:197: DeprecationWarning: Changing the shape of non-C contiguous array by\n",
      "descriptor assignment is deprecated. To maintain\n",
      "the Fortran contiguity of a multidimensional Fortran\n",
      "array, use 'a.T.view(...).T' instead\n",
      "  obj_bytes_view = obj.view(self.np.uint8)\n",
      "/home/ubuntu/Virtualenvs/mateo/lib/python3.4/site-packages/sklearn/metrics/classification.py:1117: UndefinedMetricWarning: F-score is ill-defined and being set to 0.0 due to no predicted samples.\n",
      "  'precision', 'predicted', average, warn_for)\n"
     ]
    },
    {
     "name": "stdout",
     "output_type": "stream",
     "text": [
      "[CV]  base_score=0.01, gamma=0.01, reg_alpha=0.01, n_estimators=30, objective=binary:logistic, max_depth=15, seed=1337, min_child_weight=15, learning_rate=0.001, subsample=0.3, colsample_bytree=1, silent=1, nthread=4 -  58.5s\n",
      "[CV] base_score=0.01, gamma=0.01, reg_alpha=0.1, n_estimators=30, objective=binary:logistic, max_depth=15, seed=1337, min_child_weight=15, learning_rate=0.001, subsample=0.8, colsample_bytree=1, silent=1, nthread=4 \n"
     ]
    },
    {
     "name": "stderr",
     "output_type": "stream",
     "text": [
      "/home/ubuntu/Virtualenvs/mateo/lib/python3.4/site-packages/sklearn/externals/joblib/hashing.py:197: DeprecationWarning: Changing the shape of non-C contiguous array by\n",
      "descriptor assignment is deprecated. To maintain\n",
      "the Fortran contiguity of a multidimensional Fortran\n",
      "array, use 'a.T.view(...).T' instead\n",
      "  obj_bytes_view = obj.view(self.np.uint8)\n",
      "/home/ubuntu/Virtualenvs/mateo/lib/python3.4/site-packages/sklearn/metrics/classification.py:1117: UndefinedMetricWarning: F-score is ill-defined and being set to 0.0 due to no predicted samples.\n",
      "  'precision', 'predicted', average, warn_for)\n"
     ]
    },
    {
     "name": "stdout",
     "output_type": "stream",
     "text": [
      "[CV]  base_score=0.01, gamma=0.01, reg_alpha=0.01, n_estimators=30, objective=binary:logistic, max_depth=15, seed=1337, min_child_weight=15, learning_rate=0.001, subsample=0.3, colsample_bytree=1, silent=1, nthread=4 -  56.8s\n",
      "[CV] base_score=0.01, gamma=0.01, reg_alpha=0.1, n_estimators=30, objective=binary:logistic, max_depth=15, seed=1337, min_child_weight=15, learning_rate=0.001, subsample=0.8, colsample_bytree=1, silent=1, nthread=4 \n"
     ]
    },
    {
     "name": "stderr",
     "output_type": "stream",
     "text": [
      "/home/ubuntu/Virtualenvs/mateo/lib/python3.4/site-packages/sklearn/externals/joblib/hashing.py:197: DeprecationWarning: Changing the shape of non-C contiguous array by\n",
      "descriptor assignment is deprecated. To maintain\n",
      "the Fortran contiguity of a multidimensional Fortran\n",
      "array, use 'a.T.view(...).T' instead\n",
      "  obj_bytes_view = obj.view(self.np.uint8)\n",
      "/home/ubuntu/Virtualenvs/mateo/lib/python3.4/site-packages/sklearn/metrics/classification.py:1117: UndefinedMetricWarning: F-score is ill-defined and being set to 0.0 due to no predicted samples.\n",
      "  'precision', 'predicted', average, warn_for)\n"
     ]
    },
    {
     "name": "stdout",
     "output_type": "stream",
     "text": [
      "[CV]  base_score=0.01, gamma=0.01, reg_alpha=0.01, n_estimators=30, objective=binary:logistic, max_depth=15, seed=1337, min_child_weight=15, learning_rate=0.001, subsample=0.3, colsample_bytree=1, silent=1, nthread=4 -  58.6s\n",
      "[CV] base_score=0.01, gamma=0.01, reg_alpha=0.1, n_estimators=30, objective=binary:logistic, max_depth=15, seed=1337, min_child_weight=15, learning_rate=0.001, subsample=0.8, colsample_bytree=1, silent=1, nthread=4 \n"
     ]
    },
    {
     "name": "stderr",
     "output_type": "stream",
     "text": [
      "/home/ubuntu/Virtualenvs/mateo/lib/python3.4/site-packages/sklearn/externals/joblib/hashing.py:197: DeprecationWarning: Changing the shape of non-C contiguous array by\n",
      "descriptor assignment is deprecated. To maintain\n",
      "the Fortran contiguity of a multidimensional Fortran\n",
      "array, use 'a.T.view(...).T' instead\n",
      "  obj_bytes_view = obj.view(self.np.uint8)\n",
      "/home/ubuntu/Virtualenvs/mateo/lib/python3.4/site-packages/sklearn/metrics/classification.py:1117: UndefinedMetricWarning: F-score is ill-defined and being set to 0.0 due to no predicted samples.\n",
      "  'precision', 'predicted', average, warn_for)\n"
     ]
    },
    {
     "name": "stdout",
     "output_type": "stream",
     "text": [
      "[CV]  base_score=0.01, gamma=0.01, reg_alpha=0.1, n_estimators=30, objective=binary:logistic, max_depth=15, seed=1337, min_child_weight=15, learning_rate=0.001, subsample=0.8, colsample_bytree=1, silent=1, nthread=4 - 1.5min\n",
      "[CV] base_score=0.01, gamma=0.01, reg_alpha=0.1, n_estimators=30, objective=binary:logistic, max_depth=15, seed=1337, min_child_weight=15, learning_rate=0.001, subsample=0.5, colsample_bytree=1, silent=1, nthread=4 \n"
     ]
    },
    {
     "name": "stderr",
     "output_type": "stream",
     "text": [
      "/home/ubuntu/Virtualenvs/mateo/lib/python3.4/site-packages/sklearn/externals/joblib/hashing.py:197: DeprecationWarning: Changing the shape of non-C contiguous array by\n",
      "descriptor assignment is deprecated. To maintain\n",
      "the Fortran contiguity of a multidimensional Fortran\n",
      "array, use 'a.T.view(...).T' instead\n",
      "  obj_bytes_view = obj.view(self.np.uint8)\n",
      "/home/ubuntu/Virtualenvs/mateo/lib/python3.4/site-packages/sklearn/metrics/classification.py:1117: UndefinedMetricWarning: F-score is ill-defined and being set to 0.0 due to no predicted samples.\n",
      "  'precision', 'predicted', average, warn_for)\n"
     ]
    },
    {
     "name": "stdout",
     "output_type": "stream",
     "text": [
      "[CV]  base_score=0.01, gamma=0.01, reg_alpha=0.1, n_estimators=30, objective=binary:logistic, max_depth=15, seed=1337, min_child_weight=15, learning_rate=0.001, subsample=0.8, colsample_bytree=1, silent=1, nthread=4 - 1.5min\n",
      "[CV] base_score=0.01, gamma=0.01, reg_alpha=0.1, n_estimators=30, objective=binary:logistic, max_depth=15, seed=1337, min_child_weight=15, learning_rate=0.001, subsample=0.5, colsample_bytree=1, silent=1, nthread=4 \n"
     ]
    },
    {
     "name": "stderr",
     "output_type": "stream",
     "text": [
      "/home/ubuntu/Virtualenvs/mateo/lib/python3.4/site-packages/sklearn/externals/joblib/hashing.py:197: DeprecationWarning: Changing the shape of non-C contiguous array by\n",
      "descriptor assignment is deprecated. To maintain\n",
      "the Fortran contiguity of a multidimensional Fortran\n",
      "array, use 'a.T.view(...).T' instead\n",
      "  obj_bytes_view = obj.view(self.np.uint8)\n",
      "/home/ubuntu/Virtualenvs/mateo/lib/python3.4/site-packages/sklearn/metrics/classification.py:1117: UndefinedMetricWarning: F-score is ill-defined and being set to 0.0 due to no predicted samples.\n",
      "  'precision', 'predicted', average, warn_for)\n"
     ]
    },
    {
     "name": "stdout",
     "output_type": "stream",
     "text": [
      "[CV]  base_score=0.01, gamma=0.01, reg_alpha=0.1, n_estimators=30, objective=binary:logistic, max_depth=15, seed=1337, min_child_weight=15, learning_rate=0.001, subsample=0.8, colsample_bytree=1, silent=1, nthread=4 - 1.4min\n",
      "[CV] base_score=0.01, gamma=0.01, reg_alpha=0.1, n_estimators=30, objective=binary:logistic, max_depth=15, seed=1337, min_child_weight=15, learning_rate=0.001, subsample=0.5, colsample_bytree=1, silent=1, nthread=4 \n"
     ]
    },
    {
     "name": "stderr",
     "output_type": "stream",
     "text": [
      "/home/ubuntu/Virtualenvs/mateo/lib/python3.4/site-packages/sklearn/externals/joblib/hashing.py:197: DeprecationWarning: Changing the shape of non-C contiguous array by\n",
      "descriptor assignment is deprecated. To maintain\n",
      "the Fortran contiguity of a multidimensional Fortran\n",
      "array, use 'a.T.view(...).T' instead\n",
      "  obj_bytes_view = obj.view(self.np.uint8)\n",
      "/home/ubuntu/Virtualenvs/mateo/lib/python3.4/site-packages/sklearn/metrics/classification.py:1117: UndefinedMetricWarning: F-score is ill-defined and being set to 0.0 due to no predicted samples.\n",
      "  'precision', 'predicted', average, warn_for)\n"
     ]
    },
    {
     "name": "stdout",
     "output_type": "stream",
     "text": [
      "[CV]  base_score=0.01, gamma=0.01, reg_alpha=0.1, n_estimators=30, objective=binary:logistic, max_depth=15, seed=1337, min_child_weight=15, learning_rate=0.001, subsample=0.5, colsample_bytree=1, silent=1, nthread=4 - 1.4min\n",
      "[CV] base_score=0.01, gamma=0.01, reg_alpha=0.1, n_estimators=30, objective=binary:logistic, max_depth=15, seed=1337, min_child_weight=15, learning_rate=0.001, subsample=0.3, colsample_bytree=1, silent=1, nthread=4 \n"
     ]
    },
    {
     "name": "stderr",
     "output_type": "stream",
     "text": [
      "/home/ubuntu/Virtualenvs/mateo/lib/python3.4/site-packages/sklearn/externals/joblib/hashing.py:197: DeprecationWarning: Changing the shape of non-C contiguous array by\n",
      "descriptor assignment is deprecated. To maintain\n",
      "the Fortran contiguity of a multidimensional Fortran\n",
      "array, use 'a.T.view(...).T' instead\n",
      "  obj_bytes_view = obj.view(self.np.uint8)\n",
      "/home/ubuntu/Virtualenvs/mateo/lib/python3.4/site-packages/sklearn/metrics/classification.py:1117: UndefinedMetricWarning: F-score is ill-defined and being set to 0.0 due to no predicted samples.\n",
      "  'precision', 'predicted', average, warn_for)\n"
     ]
    },
    {
     "name": "stdout",
     "output_type": "stream",
     "text": [
      "[CV]  base_score=0.01, gamma=0.01, reg_alpha=0.1, n_estimators=30, objective=binary:logistic, max_depth=15, seed=1337, min_child_weight=15, learning_rate=0.001, subsample=0.5, colsample_bytree=1, silent=1, nthread=4 - 1.3min\n",
      "[CV] base_score=0.01, gamma=0.01, reg_alpha=0.1, n_estimators=30, objective=binary:logistic, max_depth=15, seed=1337, min_child_weight=15, learning_rate=0.001, subsample=0.3, colsample_bytree=1, silent=1, nthread=4 \n"
     ]
    },
    {
     "name": "stderr",
     "output_type": "stream",
     "text": [
      "/home/ubuntu/Virtualenvs/mateo/lib/python3.4/site-packages/sklearn/externals/joblib/hashing.py:197: DeprecationWarning: Changing the shape of non-C contiguous array by\n",
      "descriptor assignment is deprecated. To maintain\n",
      "the Fortran contiguity of a multidimensional Fortran\n",
      "array, use 'a.T.view(...).T' instead\n",
      "  obj_bytes_view = obj.view(self.np.uint8)\n",
      "/home/ubuntu/Virtualenvs/mateo/lib/python3.4/site-packages/sklearn/metrics/classification.py:1117: UndefinedMetricWarning: F-score is ill-defined and being set to 0.0 due to no predicted samples.\n",
      "  'precision', 'predicted', average, warn_for)\n"
     ]
    },
    {
     "name": "stdout",
     "output_type": "stream",
     "text": [
      "[CV]  base_score=0.01, gamma=0.01, reg_alpha=0.1, n_estimators=30, objective=binary:logistic, max_depth=15, seed=1337, min_child_weight=15, learning_rate=0.001, subsample=0.5, colsample_bytree=1, silent=1, nthread=4 - 1.3min\n",
      "[CV] base_score=0.01, gamma=0.01, reg_alpha=0.1, n_estimators=30, objective=binary:logistic, max_depth=15, seed=1337, min_child_weight=15, learning_rate=0.001, subsample=0.3, colsample_bytree=1, silent=1, nthread=4 \n"
     ]
    },
    {
     "name": "stderr",
     "output_type": "stream",
     "text": [
      "/home/ubuntu/Virtualenvs/mateo/lib/python3.4/site-packages/sklearn/externals/joblib/hashing.py:197: DeprecationWarning: Changing the shape of non-C contiguous array by\n",
      "descriptor assignment is deprecated. To maintain\n",
      "the Fortran contiguity of a multidimensional Fortran\n",
      "array, use 'a.T.view(...).T' instead\n",
      "  obj_bytes_view = obj.view(self.np.uint8)\n",
      "/home/ubuntu/Virtualenvs/mateo/lib/python3.4/site-packages/sklearn/metrics/classification.py:1117: UndefinedMetricWarning: F-score is ill-defined and being set to 0.0 due to no predicted samples.\n",
      "  'precision', 'predicted', average, warn_for)\n"
     ]
    },
    {
     "name": "stdout",
     "output_type": "stream",
     "text": [
      "[CV]  base_score=0.01, gamma=0.01, reg_alpha=0.1, n_estimators=30, objective=binary:logistic, max_depth=15, seed=1337, min_child_weight=15, learning_rate=0.001, subsample=0.3, colsample_bytree=1, silent=1, nthread=4 -  58.2s\n",
      "[CV] base_score=0.01, gamma=0.01, reg_alpha=1.0, n_estimators=30, objective=binary:logistic, max_depth=15, seed=1337, min_child_weight=15, learning_rate=0.001, subsample=0.8, colsample_bytree=1, silent=1, nthread=4 \n"
     ]
    },
    {
     "name": "stderr",
     "output_type": "stream",
     "text": [
      "/home/ubuntu/Virtualenvs/mateo/lib/python3.4/site-packages/sklearn/externals/joblib/hashing.py:197: DeprecationWarning: Changing the shape of non-C contiguous array by\n",
      "descriptor assignment is deprecated. To maintain\n",
      "the Fortran contiguity of a multidimensional Fortran\n",
      "array, use 'a.T.view(...).T' instead\n",
      "  obj_bytes_view = obj.view(self.np.uint8)\n",
      "/home/ubuntu/Virtualenvs/mateo/lib/python3.4/site-packages/sklearn/metrics/classification.py:1117: UndefinedMetricWarning: F-score is ill-defined and being set to 0.0 due to no predicted samples.\n",
      "  'precision', 'predicted', average, warn_for)\n"
     ]
    },
    {
     "name": "stdout",
     "output_type": "stream",
     "text": [
      "[CV]  base_score=0.01, gamma=0.01, reg_alpha=0.1, n_estimators=30, objective=binary:logistic, max_depth=15, seed=1337, min_child_weight=15, learning_rate=0.001, subsample=0.3, colsample_bytree=1, silent=1, nthread=4 -  57.7s\n",
      "[CV] base_score=0.01, gamma=0.01, reg_alpha=1.0, n_estimators=30, objective=binary:logistic, max_depth=15, seed=1337, min_child_weight=15, learning_rate=0.001, subsample=0.8, colsample_bytree=1, silent=1, nthread=4 \n"
     ]
    },
    {
     "name": "stderr",
     "output_type": "stream",
     "text": [
      "/home/ubuntu/Virtualenvs/mateo/lib/python3.4/site-packages/sklearn/externals/joblib/hashing.py:197: DeprecationWarning: Changing the shape of non-C contiguous array by\n",
      "descriptor assignment is deprecated. To maintain\n",
      "the Fortran contiguity of a multidimensional Fortran\n",
      "array, use 'a.T.view(...).T' instead\n",
      "  obj_bytes_view = obj.view(self.np.uint8)\n",
      "/home/ubuntu/Virtualenvs/mateo/lib/python3.4/site-packages/sklearn/metrics/classification.py:1117: UndefinedMetricWarning: F-score is ill-defined and being set to 0.0 due to no predicted samples.\n",
      "  'precision', 'predicted', average, warn_for)\n"
     ]
    },
    {
     "name": "stdout",
     "output_type": "stream",
     "text": [
      "[CV]  base_score=0.01, gamma=0.01, reg_alpha=0.1, n_estimators=30, objective=binary:logistic, max_depth=15, seed=1337, min_child_weight=15, learning_rate=0.001, subsample=0.3, colsample_bytree=1, silent=1, nthread=4 -  58.2s\n",
      "[CV] base_score=0.01, gamma=0.01, reg_alpha=1.0, n_estimators=30, objective=binary:logistic, max_depth=15, seed=1337, min_child_weight=15, learning_rate=0.001, subsample=0.8, colsample_bytree=1, silent=1, nthread=4 \n"
     ]
    },
    {
     "name": "stderr",
     "output_type": "stream",
     "text": [
      "/home/ubuntu/Virtualenvs/mateo/lib/python3.4/site-packages/sklearn/externals/joblib/hashing.py:197: DeprecationWarning: Changing the shape of non-C contiguous array by\n",
      "descriptor assignment is deprecated. To maintain\n",
      "the Fortran contiguity of a multidimensional Fortran\n",
      "array, use 'a.T.view(...).T' instead\n",
      "  obj_bytes_view = obj.view(self.np.uint8)\n",
      "/home/ubuntu/Virtualenvs/mateo/lib/python3.4/site-packages/sklearn/metrics/classification.py:1117: UndefinedMetricWarning: F-score is ill-defined and being set to 0.0 due to no predicted samples.\n",
      "  'precision', 'predicted', average, warn_for)\n"
     ]
    },
    {
     "name": "stdout",
     "output_type": "stream",
     "text": [
      "[CV]  base_score=0.01, gamma=0.01, reg_alpha=1.0, n_estimators=30, objective=binary:logistic, max_depth=15, seed=1337, min_child_weight=15, learning_rate=0.001, subsample=0.8, colsample_bytree=1, silent=1, nthread=4 - 1.4min\n",
      "[CV] base_score=0.01, gamma=0.01, reg_alpha=1.0, n_estimators=30, objective=binary:logistic, max_depth=15, seed=1337, min_child_weight=15, learning_rate=0.001, subsample=0.5, colsample_bytree=1, silent=1, nthread=4 \n"
     ]
    },
    {
     "name": "stderr",
     "output_type": "stream",
     "text": [
      "/home/ubuntu/Virtualenvs/mateo/lib/python3.4/site-packages/sklearn/externals/joblib/hashing.py:197: DeprecationWarning: Changing the shape of non-C contiguous array by\n",
      "descriptor assignment is deprecated. To maintain\n",
      "the Fortran contiguity of a multidimensional Fortran\n",
      "array, use 'a.T.view(...).T' instead\n",
      "  obj_bytes_view = obj.view(self.np.uint8)\n",
      "/home/ubuntu/Virtualenvs/mateo/lib/python3.4/site-packages/sklearn/metrics/classification.py:1117: UndefinedMetricWarning: F-score is ill-defined and being set to 0.0 due to no predicted samples.\n",
      "  'precision', 'predicted', average, warn_for)\n"
     ]
    },
    {
     "name": "stdout",
     "output_type": "stream",
     "text": [
      "[CV]  base_score=0.01, gamma=0.01, reg_alpha=1.0, n_estimators=30, objective=binary:logistic, max_depth=15, seed=1337, min_child_weight=15, learning_rate=0.001, subsample=0.8, colsample_bytree=1, silent=1, nthread=4 - 1.3min\n",
      "[CV] base_score=0.01, gamma=0.01, reg_alpha=1.0, n_estimators=30, objective=binary:logistic, max_depth=15, seed=1337, min_child_weight=15, learning_rate=0.001, subsample=0.5, colsample_bytree=1, silent=1, nthread=4 \n"
     ]
    },
    {
     "name": "stderr",
     "output_type": "stream",
     "text": [
      "/home/ubuntu/Virtualenvs/mateo/lib/python3.4/site-packages/sklearn/externals/joblib/hashing.py:197: DeprecationWarning: Changing the shape of non-C contiguous array by\n",
      "descriptor assignment is deprecated. To maintain\n",
      "the Fortran contiguity of a multidimensional Fortran\n",
      "array, use 'a.T.view(...).T' instead\n",
      "  obj_bytes_view = obj.view(self.np.uint8)\n",
      "/home/ubuntu/Virtualenvs/mateo/lib/python3.4/site-packages/sklearn/metrics/classification.py:1117: UndefinedMetricWarning: F-score is ill-defined and being set to 0.0 due to no predicted samples.\n",
      "  'precision', 'predicted', average, warn_for)\n"
     ]
    },
    {
     "name": "stdout",
     "output_type": "stream",
     "text": [
      "[CV]  base_score=0.01, gamma=0.01, reg_alpha=1.0, n_estimators=30, objective=binary:logistic, max_depth=15, seed=1337, min_child_weight=15, learning_rate=0.001, subsample=0.8, colsample_bytree=1, silent=1, nthread=4 - 1.4min\n",
      "[CV] base_score=0.01, gamma=0.01, reg_alpha=1.0, n_estimators=30, objective=binary:logistic, max_depth=15, seed=1337, min_child_weight=15, learning_rate=0.001, subsample=0.5, colsample_bytree=1, silent=1, nthread=4 \n"
     ]
    },
    {
     "name": "stderr",
     "output_type": "stream",
     "text": [
      "/home/ubuntu/Virtualenvs/mateo/lib/python3.4/site-packages/sklearn/externals/joblib/hashing.py:197: DeprecationWarning: Changing the shape of non-C contiguous array by\n",
      "descriptor assignment is deprecated. To maintain\n",
      "the Fortran contiguity of a multidimensional Fortran\n",
      "array, use 'a.T.view(...).T' instead\n",
      "  obj_bytes_view = obj.view(self.np.uint8)\n",
      "/home/ubuntu/Virtualenvs/mateo/lib/python3.4/site-packages/sklearn/metrics/classification.py:1117: UndefinedMetricWarning: F-score is ill-defined and being set to 0.0 due to no predicted samples.\n",
      "  'precision', 'predicted', average, warn_for)\n"
     ]
    },
    {
     "name": "stdout",
     "output_type": "stream",
     "text": [
      "[CV]  base_score=0.01, gamma=0.01, reg_alpha=1.0, n_estimators=30, objective=binary:logistic, max_depth=15, seed=1337, min_child_weight=15, learning_rate=0.001, subsample=0.5, colsample_bytree=1, silent=1, nthread=4 - 1.2min\n",
      "[CV] base_score=0.01, gamma=0.01, reg_alpha=1.0, n_estimators=30, objective=binary:logistic, max_depth=15, seed=1337, min_child_weight=15, learning_rate=0.001, subsample=0.3, colsample_bytree=1, silent=1, nthread=4 \n"
     ]
    },
    {
     "name": "stderr",
     "output_type": "stream",
     "text": [
      "/home/ubuntu/Virtualenvs/mateo/lib/python3.4/site-packages/sklearn/externals/joblib/hashing.py:197: DeprecationWarning: Changing the shape of non-C contiguous array by\n",
      "descriptor assignment is deprecated. To maintain\n",
      "the Fortran contiguity of a multidimensional Fortran\n",
      "array, use 'a.T.view(...).T' instead\n",
      "  obj_bytes_view = obj.view(self.np.uint8)\n",
      "/home/ubuntu/Virtualenvs/mateo/lib/python3.4/site-packages/sklearn/metrics/classification.py:1117: UndefinedMetricWarning: F-score is ill-defined and being set to 0.0 due to no predicted samples.\n",
      "  'precision', 'predicted', average, warn_for)\n"
     ]
    },
    {
     "name": "stdout",
     "output_type": "stream",
     "text": [
      "[CV]  base_score=0.01, gamma=0.01, reg_alpha=1.0, n_estimators=30, objective=binary:logistic, max_depth=15, seed=1337, min_child_weight=15, learning_rate=0.001, subsample=0.5, colsample_bytree=1, silent=1, nthread=4 - 1.2min\n",
      "[CV] base_score=0.01, gamma=0.01, reg_alpha=1.0, n_estimators=30, objective=binary:logistic, max_depth=15, seed=1337, min_child_weight=15, learning_rate=0.001, subsample=0.3, colsample_bytree=1, silent=1, nthread=4 \n"
     ]
    },
    {
     "name": "stderr",
     "output_type": "stream",
     "text": [
      "/home/ubuntu/Virtualenvs/mateo/lib/python3.4/site-packages/sklearn/externals/joblib/hashing.py:197: DeprecationWarning: Changing the shape of non-C contiguous array by\n",
      "descriptor assignment is deprecated. To maintain\n",
      "the Fortran contiguity of a multidimensional Fortran\n",
      "array, use 'a.T.view(...).T' instead\n",
      "  obj_bytes_view = obj.view(self.np.uint8)\n",
      "/home/ubuntu/Virtualenvs/mateo/lib/python3.4/site-packages/sklearn/metrics/classification.py:1117: UndefinedMetricWarning: F-score is ill-defined and being set to 0.0 due to no predicted samples.\n",
      "  'precision', 'predicted', average, warn_for)\n"
     ]
    },
    {
     "name": "stdout",
     "output_type": "stream",
     "text": [
      "[CV]  base_score=0.01, gamma=0.01, reg_alpha=1.0, n_estimators=30, objective=binary:logistic, max_depth=15, seed=1337, min_child_weight=15, learning_rate=0.001, subsample=0.5, colsample_bytree=1, silent=1, nthread=4 - 1.2min\n",
      "[CV] base_score=0.01, gamma=0.01, reg_alpha=1.0, n_estimators=30, objective=binary:logistic, max_depth=15, seed=1337, min_child_weight=15, learning_rate=0.001, subsample=0.3, colsample_bytree=1, silent=1, nthread=4 \n"
     ]
    },
    {
     "name": "stderr",
     "output_type": "stream",
     "text": [
      "/home/ubuntu/Virtualenvs/mateo/lib/python3.4/site-packages/sklearn/externals/joblib/hashing.py:197: DeprecationWarning: Changing the shape of non-C contiguous array by\n",
      "descriptor assignment is deprecated. To maintain\n",
      "the Fortran contiguity of a multidimensional Fortran\n",
      "array, use 'a.T.view(...).T' instead\n",
      "  obj_bytes_view = obj.view(self.np.uint8)\n",
      "/home/ubuntu/Virtualenvs/mateo/lib/python3.4/site-packages/sklearn/metrics/classification.py:1117: UndefinedMetricWarning: F-score is ill-defined and being set to 0.0 due to no predicted samples.\n",
      "  'precision', 'predicted', average, warn_for)\n"
     ]
    },
    {
     "name": "stdout",
     "output_type": "stream",
     "text": [
      "[CV]  base_score=0.01, gamma=0.01, reg_alpha=1.0, n_estimators=30, objective=binary:logistic, max_depth=15, seed=1337, min_child_weight=15, learning_rate=0.001, subsample=0.3, colsample_bytree=1, silent=1, nthread=4 -  54.4s\n",
      "[CV] base_score=0.01, gamma=0.01, reg_alpha=0.01, n_estimators=15, objective=binary:logistic, max_depth=15, seed=1337, min_child_weight=10, learning_rate=0.001, subsample=0.8, colsample_bytree=1, silent=1, nthread=4 \n"
     ]
    },
    {
     "name": "stderr",
     "output_type": "stream",
     "text": [
      "/home/ubuntu/Virtualenvs/mateo/lib/python3.4/site-packages/sklearn/externals/joblib/hashing.py:197: DeprecationWarning: Changing the shape of non-C contiguous array by\n",
      "descriptor assignment is deprecated. To maintain\n",
      "the Fortran contiguity of a multidimensional Fortran\n",
      "array, use 'a.T.view(...).T' instead\n",
      "  obj_bytes_view = obj.view(self.np.uint8)\n",
      "/home/ubuntu/Virtualenvs/mateo/lib/python3.4/site-packages/sklearn/metrics/classification.py:1117: UndefinedMetricWarning: F-score is ill-defined and being set to 0.0 due to no predicted samples.\n",
      "  'precision', 'predicted', average, warn_for)\n"
     ]
    },
    {
     "name": "stdout",
     "output_type": "stream",
     "text": [
      "[CV]  base_score=0.01, gamma=0.01, reg_alpha=1.0, n_estimators=30, objective=binary:logistic, max_depth=15, seed=1337, min_child_weight=15, learning_rate=0.001, subsample=0.3, colsample_bytree=1, silent=1, nthread=4 -  54.6s\n",
      "[CV] base_score=0.01, gamma=0.01, reg_alpha=0.01, n_estimators=15, objective=binary:logistic, max_depth=15, seed=1337, min_child_weight=10, learning_rate=0.001, subsample=0.8, colsample_bytree=1, silent=1, nthread=4 \n"
     ]
    },
    {
     "name": "stderr",
     "output_type": "stream",
     "text": [
      "/home/ubuntu/Virtualenvs/mateo/lib/python3.4/site-packages/sklearn/externals/joblib/hashing.py:197: DeprecationWarning: Changing the shape of non-C contiguous array by\n",
      "descriptor assignment is deprecated. To maintain\n",
      "the Fortran contiguity of a multidimensional Fortran\n",
      "array, use 'a.T.view(...).T' instead\n",
      "  obj_bytes_view = obj.view(self.np.uint8)\n",
      "/home/ubuntu/Virtualenvs/mateo/lib/python3.4/site-packages/sklearn/metrics/classification.py:1117: UndefinedMetricWarning: F-score is ill-defined and being set to 0.0 due to no predicted samples.\n",
      "  'precision', 'predicted', average, warn_for)\n"
     ]
    },
    {
     "name": "stdout",
     "output_type": "stream",
     "text": [
      "[CV]  base_score=0.01, gamma=0.01, reg_alpha=1.0, n_estimators=30, objective=binary:logistic, max_depth=15, seed=1337, min_child_weight=15, learning_rate=0.001, subsample=0.3, colsample_bytree=1, silent=1, nthread=4 -  53.7s\n",
      "[CV] base_score=0.01, gamma=0.01, reg_alpha=0.01, n_estimators=15, objective=binary:logistic, max_depth=15, seed=1337, min_child_weight=10, learning_rate=0.001, subsample=0.8, colsample_bytree=1, silent=1, nthread=4 \n"
     ]
    },
    {
     "name": "stderr",
     "output_type": "stream",
     "text": [
      "/home/ubuntu/Virtualenvs/mateo/lib/python3.4/site-packages/sklearn/externals/joblib/hashing.py:197: DeprecationWarning: Changing the shape of non-C contiguous array by\n",
      "descriptor assignment is deprecated. To maintain\n",
      "the Fortran contiguity of a multidimensional Fortran\n",
      "array, use 'a.T.view(...).T' instead\n",
      "  obj_bytes_view = obj.view(self.np.uint8)\n",
      "/home/ubuntu/Virtualenvs/mateo/lib/python3.4/site-packages/sklearn/metrics/classification.py:1117: UndefinedMetricWarning: F-score is ill-defined and being set to 0.0 due to no predicted samples.\n",
      "  'precision', 'predicted', average, warn_for)\n"
     ]
    },
    {
     "name": "stdout",
     "output_type": "stream",
     "text": [
      "[CV]  base_score=0.01, gamma=0.01, reg_alpha=0.01, n_estimators=15, objective=binary:logistic, max_depth=15, seed=1337, min_child_weight=10, learning_rate=0.001, subsample=0.8, colsample_bytree=1, silent=1, nthread=4 -  48.0s\n",
      "[CV] base_score=0.01, gamma=0.01, reg_alpha=0.01, n_estimators=15, objective=binary:logistic, max_depth=15, seed=1337, min_child_weight=10, learning_rate=0.001, subsample=0.5, colsample_bytree=1, silent=1, nthread=4 \n"
     ]
    },
    {
     "name": "stderr",
     "output_type": "stream",
     "text": [
      "/home/ubuntu/Virtualenvs/mateo/lib/python3.4/site-packages/sklearn/externals/joblib/hashing.py:197: DeprecationWarning: Changing the shape of non-C contiguous array by\n",
      "descriptor assignment is deprecated. To maintain\n",
      "the Fortran contiguity of a multidimensional Fortran\n",
      "array, use 'a.T.view(...).T' instead\n",
      "  obj_bytes_view = obj.view(self.np.uint8)\n",
      "/home/ubuntu/Virtualenvs/mateo/lib/python3.4/site-packages/sklearn/metrics/classification.py:1117: UndefinedMetricWarning: F-score is ill-defined and being set to 0.0 due to no predicted samples.\n",
      "  'precision', 'predicted', average, warn_for)\n"
     ]
    },
    {
     "name": "stdout",
     "output_type": "stream",
     "text": [
      "[CV]  base_score=0.01, gamma=0.01, reg_alpha=0.01, n_estimators=15, objective=binary:logistic, max_depth=15, seed=1337, min_child_weight=10, learning_rate=0.001, subsample=0.8, colsample_bytree=1, silent=1, nthread=4 -  48.5s\n",
      "[CV] base_score=0.01, gamma=0.01, reg_alpha=0.01, n_estimators=15, objective=binary:logistic, max_depth=15, seed=1337, min_child_weight=10, learning_rate=0.001, subsample=0.5, colsample_bytree=1, silent=1, nthread=4 \n"
     ]
    },
    {
     "name": "stderr",
     "output_type": "stream",
     "text": [
      "/home/ubuntu/Virtualenvs/mateo/lib/python3.4/site-packages/sklearn/externals/joblib/hashing.py:197: DeprecationWarning: Changing the shape of non-C contiguous array by\n",
      "descriptor assignment is deprecated. To maintain\n",
      "the Fortran contiguity of a multidimensional Fortran\n",
      "array, use 'a.T.view(...).T' instead\n",
      "  obj_bytes_view = obj.view(self.np.uint8)\n",
      "/home/ubuntu/Virtualenvs/mateo/lib/python3.4/site-packages/sklearn/metrics/classification.py:1117: UndefinedMetricWarning: F-score is ill-defined and being set to 0.0 due to no predicted samples.\n",
      "  'precision', 'predicted', average, warn_for)\n"
     ]
    },
    {
     "name": "stdout",
     "output_type": "stream",
     "text": [
      "[CV]  base_score=0.01, gamma=0.01, reg_alpha=0.01, n_estimators=15, objective=binary:logistic, max_depth=15, seed=1337, min_child_weight=10, learning_rate=0.001, subsample=0.8, colsample_bytree=1, silent=1, nthread=4 -  51.4s\n",
      "[CV] base_score=0.01, gamma=0.01, reg_alpha=0.01, n_estimators=15, objective=binary:logistic, max_depth=15, seed=1337, min_child_weight=10, learning_rate=0.001, subsample=0.5, colsample_bytree=1, silent=1, nthread=4 \n"
     ]
    },
    {
     "name": "stderr",
     "output_type": "stream",
     "text": [
      "/home/ubuntu/Virtualenvs/mateo/lib/python3.4/site-packages/sklearn/externals/joblib/hashing.py:197: DeprecationWarning: Changing the shape of non-C contiguous array by\n",
      "descriptor assignment is deprecated. To maintain\n",
      "the Fortran contiguity of a multidimensional Fortran\n",
      "array, use 'a.T.view(...).T' instead\n",
      "  obj_bytes_view = obj.view(self.np.uint8)\n",
      "/home/ubuntu/Virtualenvs/mateo/lib/python3.4/site-packages/sklearn/metrics/classification.py:1117: UndefinedMetricWarning: F-score is ill-defined and being set to 0.0 due to no predicted samples.\n",
      "  'precision', 'predicted', average, warn_for)\n"
     ]
    },
    {
     "name": "stdout",
     "output_type": "stream",
     "text": [
      "[CV]  base_score=0.01, gamma=0.01, reg_alpha=0.01, n_estimators=15, objective=binary:logistic, max_depth=15, seed=1337, min_child_weight=10, learning_rate=0.001, subsample=0.5, colsample_bytree=1, silent=1, nthread=4 -  44.5s\n",
      "[CV] base_score=0.01, gamma=0.01, reg_alpha=0.01, n_estimators=15, objective=binary:logistic, max_depth=15, seed=1337, min_child_weight=10, learning_rate=0.001, subsample=0.3, colsample_bytree=1, silent=1, nthread=4 \n"
     ]
    },
    {
     "name": "stderr",
     "output_type": "stream",
     "text": [
      "/home/ubuntu/Virtualenvs/mateo/lib/python3.4/site-packages/sklearn/externals/joblib/hashing.py:197: DeprecationWarning: Changing the shape of non-C contiguous array by\n",
      "descriptor assignment is deprecated. To maintain\n",
      "the Fortran contiguity of a multidimensional Fortran\n",
      "array, use 'a.T.view(...).T' instead\n",
      "  obj_bytes_view = obj.view(self.np.uint8)\n",
      "/home/ubuntu/Virtualenvs/mateo/lib/python3.4/site-packages/sklearn/metrics/classification.py:1117: UndefinedMetricWarning: F-score is ill-defined and being set to 0.0 due to no predicted samples.\n",
      "  'precision', 'predicted', average, warn_for)\n"
     ]
    },
    {
     "name": "stdout",
     "output_type": "stream",
     "text": [
      "[CV]  base_score=0.01, gamma=0.01, reg_alpha=0.01, n_estimators=15, objective=binary:logistic, max_depth=15, seed=1337, min_child_weight=10, learning_rate=0.001, subsample=0.5, colsample_bytree=1, silent=1, nthread=4 -  45.0s\n",
      "[CV] base_score=0.01, gamma=0.01, reg_alpha=0.01, n_estimators=15, objective=binary:logistic, max_depth=15, seed=1337, min_child_weight=10, learning_rate=0.001, subsample=0.3, colsample_bytree=1, silent=1, nthread=4 \n"
     ]
    },
    {
     "name": "stderr",
     "output_type": "stream",
     "text": [
      "/home/ubuntu/Virtualenvs/mateo/lib/python3.4/site-packages/sklearn/externals/joblib/hashing.py:197: DeprecationWarning: Changing the shape of non-C contiguous array by\n",
      "descriptor assignment is deprecated. To maintain\n",
      "the Fortran contiguity of a multidimensional Fortran\n",
      "array, use 'a.T.view(...).T' instead\n",
      "  obj_bytes_view = obj.view(self.np.uint8)\n",
      "/home/ubuntu/Virtualenvs/mateo/lib/python3.4/site-packages/sklearn/metrics/classification.py:1117: UndefinedMetricWarning: F-score is ill-defined and being set to 0.0 due to no predicted samples.\n",
      "  'precision', 'predicted', average, warn_for)\n"
     ]
    },
    {
     "name": "stdout",
     "output_type": "stream",
     "text": [
      "[CV]  base_score=0.01, gamma=0.01, reg_alpha=0.01, n_estimators=15, objective=binary:logistic, max_depth=15, seed=1337, min_child_weight=10, learning_rate=0.001, subsample=0.5, colsample_bytree=1, silent=1, nthread=4 -  45.7s\n",
      "[CV] base_score=0.01, gamma=0.01, reg_alpha=0.01, n_estimators=15, objective=binary:logistic, max_depth=15, seed=1337, min_child_weight=10, learning_rate=0.001, subsample=0.3, colsample_bytree=1, silent=1, nthread=4 \n"
     ]
    },
    {
     "name": "stderr",
     "output_type": "stream",
     "text": [
      "/home/ubuntu/Virtualenvs/mateo/lib/python3.4/site-packages/sklearn/externals/joblib/hashing.py:197: DeprecationWarning: Changing the shape of non-C contiguous array by\n",
      "descriptor assignment is deprecated. To maintain\n",
      "the Fortran contiguity of a multidimensional Fortran\n",
      "array, use 'a.T.view(...).T' instead\n",
      "  obj_bytes_view = obj.view(self.np.uint8)\n",
      "/home/ubuntu/Virtualenvs/mateo/lib/python3.4/site-packages/sklearn/metrics/classification.py:1117: UndefinedMetricWarning: F-score is ill-defined and being set to 0.0 due to no predicted samples.\n",
      "  'precision', 'predicted', average, warn_for)\n"
     ]
    },
    {
     "name": "stdout",
     "output_type": "stream",
     "text": [
      "[CV]  base_score=0.01, gamma=0.01, reg_alpha=0.01, n_estimators=15, objective=binary:logistic, max_depth=15, seed=1337, min_child_weight=10, learning_rate=0.001, subsample=0.3, colsample_bytree=1, silent=1, nthread=4 -  32.7s\n",
      "[CV] base_score=0.01, gamma=0.01, reg_alpha=0.1, n_estimators=15, objective=binary:logistic, max_depth=15, seed=1337, min_child_weight=10, learning_rate=0.001, subsample=0.8, colsample_bytree=1, silent=1, nthread=4 \n"
     ]
    },
    {
     "name": "stderr",
     "output_type": "stream",
     "text": [
      "/home/ubuntu/Virtualenvs/mateo/lib/python3.4/site-packages/sklearn/externals/joblib/hashing.py:197: DeprecationWarning: Changing the shape of non-C contiguous array by\n",
      "descriptor assignment is deprecated. To maintain\n",
      "the Fortran contiguity of a multidimensional Fortran\n",
      "array, use 'a.T.view(...).T' instead\n",
      "  obj_bytes_view = obj.view(self.np.uint8)\n",
      "/home/ubuntu/Virtualenvs/mateo/lib/python3.4/site-packages/sklearn/metrics/classification.py:1117: UndefinedMetricWarning: F-score is ill-defined and being set to 0.0 due to no predicted samples.\n",
      "  'precision', 'predicted', average, warn_for)\n"
     ]
    },
    {
     "name": "stdout",
     "output_type": "stream",
     "text": [
      "[CV]  base_score=0.01, gamma=0.01, reg_alpha=0.01, n_estimators=15, objective=binary:logistic, max_depth=15, seed=1337, min_child_weight=10, learning_rate=0.001, subsample=0.3, colsample_bytree=1, silent=1, nthread=4 -  32.3s\n",
      "[CV] base_score=0.01, gamma=0.01, reg_alpha=0.1, n_estimators=15, objective=binary:logistic, max_depth=15, seed=1337, min_child_weight=10, learning_rate=0.001, subsample=0.8, colsample_bytree=1, silent=1, nthread=4 \n"
     ]
    },
    {
     "name": "stderr",
     "output_type": "stream",
     "text": [
      "/home/ubuntu/Virtualenvs/mateo/lib/python3.4/site-packages/sklearn/externals/joblib/hashing.py:197: DeprecationWarning: Changing the shape of non-C contiguous array by\n",
      "descriptor assignment is deprecated. To maintain\n",
      "the Fortran contiguity of a multidimensional Fortran\n",
      "array, use 'a.T.view(...).T' instead\n",
      "  obj_bytes_view = obj.view(self.np.uint8)\n",
      "/home/ubuntu/Virtualenvs/mateo/lib/python3.4/site-packages/sklearn/metrics/classification.py:1117: UndefinedMetricWarning: F-score is ill-defined and being set to 0.0 due to no predicted samples.\n",
      "  'precision', 'predicted', average, warn_for)\n"
     ]
    },
    {
     "name": "stdout",
     "output_type": "stream",
     "text": [
      "[CV]  base_score=0.01, gamma=0.01, reg_alpha=0.01, n_estimators=15, objective=binary:logistic, max_depth=15, seed=1337, min_child_weight=10, learning_rate=0.001, subsample=0.3, colsample_bytree=1, silent=1, nthread=4 -  33.3s\n",
      "[CV] base_score=0.01, gamma=0.01, reg_alpha=0.1, n_estimators=15, objective=binary:logistic, max_depth=15, seed=1337, min_child_weight=10, learning_rate=0.001, subsample=0.8, colsample_bytree=1, silent=1, nthread=4 \n"
     ]
    },
    {
     "name": "stderr",
     "output_type": "stream",
     "text": [
      "/home/ubuntu/Virtualenvs/mateo/lib/python3.4/site-packages/sklearn/externals/joblib/hashing.py:197: DeprecationWarning: Changing the shape of non-C contiguous array by\n",
      "descriptor assignment is deprecated. To maintain\n",
      "the Fortran contiguity of a multidimensional Fortran\n",
      "array, use 'a.T.view(...).T' instead\n",
      "  obj_bytes_view = obj.view(self.np.uint8)\n",
      "/home/ubuntu/Virtualenvs/mateo/lib/python3.4/site-packages/sklearn/metrics/classification.py:1117: UndefinedMetricWarning: F-score is ill-defined and being set to 0.0 due to no predicted samples.\n",
      "  'precision', 'predicted', average, warn_for)\n"
     ]
    },
    {
     "name": "stdout",
     "output_type": "stream",
     "text": [
      "[CV]  base_score=0.01, gamma=0.01, reg_alpha=0.1, n_estimators=15, objective=binary:logistic, max_depth=15, seed=1337, min_child_weight=10, learning_rate=0.001, subsample=0.8, colsample_bytree=1, silent=1, nthread=4 -  49.7s\n",
      "[CV] base_score=0.01, gamma=0.01, reg_alpha=0.1, n_estimators=15, objective=binary:logistic, max_depth=15, seed=1337, min_child_weight=10, learning_rate=0.001, subsample=0.5, colsample_bytree=1, silent=1, nthread=4 \n"
     ]
    },
    {
     "name": "stderr",
     "output_type": "stream",
     "text": [
      "/home/ubuntu/Virtualenvs/mateo/lib/python3.4/site-packages/sklearn/externals/joblib/hashing.py:197: DeprecationWarning: Changing the shape of non-C contiguous array by\n",
      "descriptor assignment is deprecated. To maintain\n",
      "the Fortran contiguity of a multidimensional Fortran\n",
      "array, use 'a.T.view(...).T' instead\n",
      "  obj_bytes_view = obj.view(self.np.uint8)\n",
      "/home/ubuntu/Virtualenvs/mateo/lib/python3.4/site-packages/sklearn/metrics/classification.py:1117: UndefinedMetricWarning: F-score is ill-defined and being set to 0.0 due to no predicted samples.\n",
      "  'precision', 'predicted', average, warn_for)\n"
     ]
    },
    {
     "name": "stdout",
     "output_type": "stream",
     "text": [
      "[CV]  base_score=0.01, gamma=0.01, reg_alpha=0.1, n_estimators=15, objective=binary:logistic, max_depth=15, seed=1337, min_child_weight=10, learning_rate=0.001, subsample=0.8, colsample_bytree=1, silent=1, nthread=4 -  48.4s\n",
      "[CV] base_score=0.01, gamma=0.01, reg_alpha=0.1, n_estimators=15, objective=binary:logistic, max_depth=15, seed=1337, min_child_weight=10, learning_rate=0.001, subsample=0.5, colsample_bytree=1, silent=1, nthread=4 \n"
     ]
    },
    {
     "name": "stderr",
     "output_type": "stream",
     "text": [
      "/home/ubuntu/Virtualenvs/mateo/lib/python3.4/site-packages/sklearn/externals/joblib/hashing.py:197: DeprecationWarning: Changing the shape of non-C contiguous array by\n",
      "descriptor assignment is deprecated. To maintain\n",
      "the Fortran contiguity of a multidimensional Fortran\n",
      "array, use 'a.T.view(...).T' instead\n",
      "  obj_bytes_view = obj.view(self.np.uint8)\n",
      "/home/ubuntu/Virtualenvs/mateo/lib/python3.4/site-packages/sklearn/metrics/classification.py:1117: UndefinedMetricWarning: F-score is ill-defined and being set to 0.0 due to no predicted samples.\n",
      "  'precision', 'predicted', average, warn_for)\n"
     ]
    },
    {
     "name": "stdout",
     "output_type": "stream",
     "text": [
      "[CV]  base_score=0.01, gamma=0.01, reg_alpha=0.1, n_estimators=15, objective=binary:logistic, max_depth=15, seed=1337, min_child_weight=10, learning_rate=0.001, subsample=0.8, colsample_bytree=1, silent=1, nthread=4 -  49.1s\n",
      "[CV] base_score=0.01, gamma=0.01, reg_alpha=0.1, n_estimators=15, objective=binary:logistic, max_depth=15, seed=1337, min_child_weight=10, learning_rate=0.001, subsample=0.5, colsample_bytree=1, silent=1, nthread=4 \n"
     ]
    },
    {
     "name": "stderr",
     "output_type": "stream",
     "text": [
      "/home/ubuntu/Virtualenvs/mateo/lib/python3.4/site-packages/sklearn/externals/joblib/hashing.py:197: DeprecationWarning: Changing the shape of non-C contiguous array by\n",
      "descriptor assignment is deprecated. To maintain\n",
      "the Fortran contiguity of a multidimensional Fortran\n",
      "array, use 'a.T.view(...).T' instead\n",
      "  obj_bytes_view = obj.view(self.np.uint8)\n",
      "/home/ubuntu/Virtualenvs/mateo/lib/python3.4/site-packages/sklearn/metrics/classification.py:1117: UndefinedMetricWarning: F-score is ill-defined and being set to 0.0 due to no predicted samples.\n",
      "  'precision', 'predicted', average, warn_for)\n"
     ]
    },
    {
     "name": "stdout",
     "output_type": "stream",
     "text": [
      "[CV]  base_score=0.01, gamma=0.01, reg_alpha=0.1, n_estimators=15, objective=binary:logistic, max_depth=15, seed=1337, min_child_weight=10, learning_rate=0.001, subsample=0.5, colsample_bytree=1, silent=1, nthread=4 -  43.8s\n",
      "[CV] base_score=0.01, gamma=0.01, reg_alpha=0.1, n_estimators=15, objective=binary:logistic, max_depth=15, seed=1337, min_child_weight=10, learning_rate=0.001, subsample=0.3, colsample_bytree=1, silent=1, nthread=4 \n"
     ]
    },
    {
     "name": "stderr",
     "output_type": "stream",
     "text": [
      "/home/ubuntu/Virtualenvs/mateo/lib/python3.4/site-packages/sklearn/externals/joblib/hashing.py:197: DeprecationWarning: Changing the shape of non-C contiguous array by\n",
      "descriptor assignment is deprecated. To maintain\n",
      "the Fortran contiguity of a multidimensional Fortran\n",
      "array, use 'a.T.view(...).T' instead\n",
      "  obj_bytes_view = obj.view(self.np.uint8)\n",
      "/home/ubuntu/Virtualenvs/mateo/lib/python3.4/site-packages/sklearn/metrics/classification.py:1117: UndefinedMetricWarning: F-score is ill-defined and being set to 0.0 due to no predicted samples.\n",
      "  'precision', 'predicted', average, warn_for)\n"
     ]
    },
    {
     "name": "stdout",
     "output_type": "stream",
     "text": [
      "[CV]  base_score=0.01, gamma=0.01, reg_alpha=0.1, n_estimators=15, objective=binary:logistic, max_depth=15, seed=1337, min_child_weight=10, learning_rate=0.001, subsample=0.5, colsample_bytree=1, silent=1, nthread=4 -  43.7s\n",
      "[CV] base_score=0.01, gamma=0.01, reg_alpha=0.1, n_estimators=15, objective=binary:logistic, max_depth=15, seed=1337, min_child_weight=10, learning_rate=0.001, subsample=0.3, colsample_bytree=1, silent=1, nthread=4 \n"
     ]
    },
    {
     "name": "stderr",
     "output_type": "stream",
     "text": [
      "/home/ubuntu/Virtualenvs/mateo/lib/python3.4/site-packages/sklearn/externals/joblib/hashing.py:197: DeprecationWarning: Changing the shape of non-C contiguous array by\n",
      "descriptor assignment is deprecated. To maintain\n",
      "the Fortran contiguity of a multidimensional Fortran\n",
      "array, use 'a.T.view(...).T' instead\n",
      "  obj_bytes_view = obj.view(self.np.uint8)\n",
      "/home/ubuntu/Virtualenvs/mateo/lib/python3.4/site-packages/sklearn/metrics/classification.py:1117: UndefinedMetricWarning: F-score is ill-defined and being set to 0.0 due to no predicted samples.\n",
      "  'precision', 'predicted', average, warn_for)\n"
     ]
    },
    {
     "name": "stdout",
     "output_type": "stream",
     "text": [
      "[CV]  base_score=0.01, gamma=0.01, reg_alpha=0.1, n_estimators=15, objective=binary:logistic, max_depth=15, seed=1337, min_child_weight=10, learning_rate=0.001, subsample=0.5, colsample_bytree=1, silent=1, nthread=4 -  44.9s\n",
      "[CV] base_score=0.01, gamma=0.01, reg_alpha=0.1, n_estimators=15, objective=binary:logistic, max_depth=15, seed=1337, min_child_weight=10, learning_rate=0.001, subsample=0.3, colsample_bytree=1, silent=1, nthread=4 \n"
     ]
    },
    {
     "name": "stderr",
     "output_type": "stream",
     "text": [
      "/home/ubuntu/Virtualenvs/mateo/lib/python3.4/site-packages/sklearn/externals/joblib/hashing.py:197: DeprecationWarning: Changing the shape of non-C contiguous array by\n",
      "descriptor assignment is deprecated. To maintain\n",
      "the Fortran contiguity of a multidimensional Fortran\n",
      "array, use 'a.T.view(...).T' instead\n",
      "  obj_bytes_view = obj.view(self.np.uint8)\n",
      "/home/ubuntu/Virtualenvs/mateo/lib/python3.4/site-packages/sklearn/metrics/classification.py:1117: UndefinedMetricWarning: F-score is ill-defined and being set to 0.0 due to no predicted samples.\n",
      "  'precision', 'predicted', average, warn_for)\n"
     ]
    },
    {
     "name": "stdout",
     "output_type": "stream",
     "text": [
      "[CV]  base_score=0.01, gamma=0.01, reg_alpha=0.1, n_estimators=15, objective=binary:logistic, max_depth=15, seed=1337, min_child_weight=10, learning_rate=0.001, subsample=0.3, colsample_bytree=1, silent=1, nthread=4 -  32.8s\n",
      "[CV] base_score=0.01, gamma=0.01, reg_alpha=1.0, n_estimators=15, objective=binary:logistic, max_depth=15, seed=1337, min_child_weight=10, learning_rate=0.001, subsample=0.8, colsample_bytree=1, silent=1, nthread=4 \n"
     ]
    },
    {
     "name": "stderr",
     "output_type": "stream",
     "text": [
      "/home/ubuntu/Virtualenvs/mateo/lib/python3.4/site-packages/sklearn/externals/joblib/hashing.py:197: DeprecationWarning: Changing the shape of non-C contiguous array by\n",
      "descriptor assignment is deprecated. To maintain\n",
      "the Fortran contiguity of a multidimensional Fortran\n",
      "array, use 'a.T.view(...).T' instead\n",
      "  obj_bytes_view = obj.view(self.np.uint8)\n",
      "/home/ubuntu/Virtualenvs/mateo/lib/python3.4/site-packages/sklearn/metrics/classification.py:1117: UndefinedMetricWarning: F-score is ill-defined and being set to 0.0 due to no predicted samples.\n",
      "  'precision', 'predicted', average, warn_for)\n"
     ]
    },
    {
     "name": "stdout",
     "output_type": "stream",
     "text": [
      "[CV]  base_score=0.01, gamma=0.01, reg_alpha=0.1, n_estimators=15, objective=binary:logistic, max_depth=15, seed=1337, min_child_weight=10, learning_rate=0.001, subsample=0.3, colsample_bytree=1, silent=1, nthread=4 -  33.3s\n",
      "[CV] base_score=0.01, gamma=0.01, reg_alpha=1.0, n_estimators=15, objective=binary:logistic, max_depth=15, seed=1337, min_child_weight=10, learning_rate=0.001, subsample=0.8, colsample_bytree=1, silent=1, nthread=4 \n"
     ]
    },
    {
     "name": "stderr",
     "output_type": "stream",
     "text": [
      "/home/ubuntu/Virtualenvs/mateo/lib/python3.4/site-packages/sklearn/externals/joblib/hashing.py:197: DeprecationWarning: Changing the shape of non-C contiguous array by\n",
      "descriptor assignment is deprecated. To maintain\n",
      "the Fortran contiguity of a multidimensional Fortran\n",
      "array, use 'a.T.view(...).T' instead\n",
      "  obj_bytes_view = obj.view(self.np.uint8)\n",
      "/home/ubuntu/Virtualenvs/mateo/lib/python3.4/site-packages/sklearn/metrics/classification.py:1117: UndefinedMetricWarning: F-score is ill-defined and being set to 0.0 due to no predicted samples.\n",
      "  'precision', 'predicted', average, warn_for)\n"
     ]
    },
    {
     "name": "stdout",
     "output_type": "stream",
     "text": [
      "[CV]  base_score=0.01, gamma=0.01, reg_alpha=0.1, n_estimators=15, objective=binary:logistic, max_depth=15, seed=1337, min_child_weight=10, learning_rate=0.001, subsample=0.3, colsample_bytree=1, silent=1, nthread=4 -  32.7s\n",
      "[CV] base_score=0.01, gamma=0.01, reg_alpha=1.0, n_estimators=15, objective=binary:logistic, max_depth=15, seed=1337, min_child_weight=10, learning_rate=0.001, subsample=0.8, colsample_bytree=1, silent=1, nthread=4 \n"
     ]
    },
    {
     "name": "stderr",
     "output_type": "stream",
     "text": [
      "/home/ubuntu/Virtualenvs/mateo/lib/python3.4/site-packages/sklearn/externals/joblib/hashing.py:197: DeprecationWarning: Changing the shape of non-C contiguous array by\n",
      "descriptor assignment is deprecated. To maintain\n",
      "the Fortran contiguity of a multidimensional Fortran\n",
      "array, use 'a.T.view(...).T' instead\n",
      "  obj_bytes_view = obj.view(self.np.uint8)\n",
      "/home/ubuntu/Virtualenvs/mateo/lib/python3.4/site-packages/sklearn/metrics/classification.py:1117: UndefinedMetricWarning: F-score is ill-defined and being set to 0.0 due to no predicted samples.\n",
      "  'precision', 'predicted', average, warn_for)\n"
     ]
    },
    {
     "name": "stdout",
     "output_type": "stream",
     "text": [
      "[CV]  base_score=0.01, gamma=0.01, reg_alpha=1.0, n_estimators=15, objective=binary:logistic, max_depth=15, seed=1337, min_child_weight=10, learning_rate=0.001, subsample=0.8, colsample_bytree=1, silent=1, nthread=4 -  44.4s\n",
      "[CV] base_score=0.01, gamma=0.01, reg_alpha=1.0, n_estimators=15, objective=binary:logistic, max_depth=15, seed=1337, min_child_weight=10, learning_rate=0.001, subsample=0.5, colsample_bytree=1, silent=1, nthread=4 \n"
     ]
    },
    {
     "name": "stderr",
     "output_type": "stream",
     "text": [
      "/home/ubuntu/Virtualenvs/mateo/lib/python3.4/site-packages/sklearn/externals/joblib/hashing.py:197: DeprecationWarning: Changing the shape of non-C contiguous array by\n",
      "descriptor assignment is deprecated. To maintain\n",
      "the Fortran contiguity of a multidimensional Fortran\n",
      "array, use 'a.T.view(...).T' instead\n",
      "  obj_bytes_view = obj.view(self.np.uint8)\n",
      "/home/ubuntu/Virtualenvs/mateo/lib/python3.4/site-packages/sklearn/metrics/classification.py:1117: UndefinedMetricWarning: F-score is ill-defined and being set to 0.0 due to no predicted samples.\n",
      "  'precision', 'predicted', average, warn_for)\n"
     ]
    },
    {
     "name": "stdout",
     "output_type": "stream",
     "text": [
      "[CV]  base_score=0.01, gamma=0.01, reg_alpha=1.0, n_estimators=15, objective=binary:logistic, max_depth=15, seed=1337, min_child_weight=10, learning_rate=0.001, subsample=0.8, colsample_bytree=1, silent=1, nthread=4 -  42.6s\n",
      "[CV] base_score=0.01, gamma=0.01, reg_alpha=1.0, n_estimators=15, objective=binary:logistic, max_depth=15, seed=1337, min_child_weight=10, learning_rate=0.001, subsample=0.5, colsample_bytree=1, silent=1, nthread=4 \n"
     ]
    },
    {
     "name": "stderr",
     "output_type": "stream",
     "text": [
      "/home/ubuntu/Virtualenvs/mateo/lib/python3.4/site-packages/sklearn/externals/joblib/hashing.py:197: DeprecationWarning: Changing the shape of non-C contiguous array by\n",
      "descriptor assignment is deprecated. To maintain\n",
      "the Fortran contiguity of a multidimensional Fortran\n",
      "array, use 'a.T.view(...).T' instead\n",
      "  obj_bytes_view = obj.view(self.np.uint8)\n",
      "/home/ubuntu/Virtualenvs/mateo/lib/python3.4/site-packages/sklearn/metrics/classification.py:1117: UndefinedMetricWarning: F-score is ill-defined and being set to 0.0 due to no predicted samples.\n",
      "  'precision', 'predicted', average, warn_for)\n"
     ]
    },
    {
     "name": "stdout",
     "output_type": "stream",
     "text": [
      "[CV]  base_score=0.01, gamma=0.01, reg_alpha=1.0, n_estimators=15, objective=binary:logistic, max_depth=15, seed=1337, min_child_weight=10, learning_rate=0.001, subsample=0.8, colsample_bytree=1, silent=1, nthread=4 -  43.9s\n",
      "[CV] base_score=0.01, gamma=0.01, reg_alpha=1.0, n_estimators=15, objective=binary:logistic, max_depth=15, seed=1337, min_child_weight=10, learning_rate=0.001, subsample=0.5, colsample_bytree=1, silent=1, nthread=4 \n"
     ]
    },
    {
     "name": "stderr",
     "output_type": "stream",
     "text": [
      "/home/ubuntu/Virtualenvs/mateo/lib/python3.4/site-packages/sklearn/externals/joblib/hashing.py:197: DeprecationWarning: Changing the shape of non-C contiguous array by\n",
      "descriptor assignment is deprecated. To maintain\n",
      "the Fortran contiguity of a multidimensional Fortran\n",
      "array, use 'a.T.view(...).T' instead\n",
      "  obj_bytes_view = obj.view(self.np.uint8)\n",
      "/home/ubuntu/Virtualenvs/mateo/lib/python3.4/site-packages/sklearn/metrics/classification.py:1117: UndefinedMetricWarning: F-score is ill-defined and being set to 0.0 due to no predicted samples.\n",
      "  'precision', 'predicted', average, warn_for)\n"
     ]
    },
    {
     "name": "stdout",
     "output_type": "stream",
     "text": [
      "[CV]  base_score=0.01, gamma=0.01, reg_alpha=1.0, n_estimators=15, objective=binary:logistic, max_depth=15, seed=1337, min_child_weight=10, learning_rate=0.001, subsample=0.5, colsample_bytree=1, silent=1, nthread=4 -  41.4s\n",
      "[CV] base_score=0.01, gamma=0.01, reg_alpha=1.0, n_estimators=15, objective=binary:logistic, max_depth=15, seed=1337, min_child_weight=10, learning_rate=0.001, subsample=0.3, colsample_bytree=1, silent=1, nthread=4 \n"
     ]
    },
    {
     "name": "stderr",
     "output_type": "stream",
     "text": [
      "/home/ubuntu/Virtualenvs/mateo/lib/python3.4/site-packages/sklearn/externals/joblib/hashing.py:197: DeprecationWarning: Changing the shape of non-C contiguous array by\n",
      "descriptor assignment is deprecated. To maintain\n",
      "the Fortran contiguity of a multidimensional Fortran\n",
      "array, use 'a.T.view(...).T' instead\n",
      "  obj_bytes_view = obj.view(self.np.uint8)\n",
      "/home/ubuntu/Virtualenvs/mateo/lib/python3.4/site-packages/sklearn/metrics/classification.py:1117: UndefinedMetricWarning: F-score is ill-defined and being set to 0.0 due to no predicted samples.\n",
      "  'precision', 'predicted', average, warn_for)\n"
     ]
    },
    {
     "name": "stdout",
     "output_type": "stream",
     "text": [
      "[CV]  base_score=0.01, gamma=0.01, reg_alpha=1.0, n_estimators=15, objective=binary:logistic, max_depth=15, seed=1337, min_child_weight=10, learning_rate=0.001, subsample=0.5, colsample_bytree=1, silent=1, nthread=4 -  41.1s\n",
      "[CV] base_score=0.01, gamma=0.01, reg_alpha=1.0, n_estimators=15, objective=binary:logistic, max_depth=15, seed=1337, min_child_weight=10, learning_rate=0.001, subsample=0.3, colsample_bytree=1, silent=1, nthread=4 \n"
     ]
    },
    {
     "name": "stderr",
     "output_type": "stream",
     "text": [
      "/home/ubuntu/Virtualenvs/mateo/lib/python3.4/site-packages/sklearn/externals/joblib/hashing.py:197: DeprecationWarning: Changing the shape of non-C contiguous array by\n",
      "descriptor assignment is deprecated. To maintain\n",
      "the Fortran contiguity of a multidimensional Fortran\n",
      "array, use 'a.T.view(...).T' instead\n",
      "  obj_bytes_view = obj.view(self.np.uint8)\n",
      "/home/ubuntu/Virtualenvs/mateo/lib/python3.4/site-packages/sklearn/metrics/classification.py:1117: UndefinedMetricWarning: F-score is ill-defined and being set to 0.0 due to no predicted samples.\n",
      "  'precision', 'predicted', average, warn_for)\n"
     ]
    },
    {
     "name": "stdout",
     "output_type": "stream",
     "text": [
      "[CV]  base_score=0.01, gamma=0.01, reg_alpha=1.0, n_estimators=15, objective=binary:logistic, max_depth=15, seed=1337, min_child_weight=10, learning_rate=0.001, subsample=0.5, colsample_bytree=1, silent=1, nthread=4 -  41.9s\n",
      "[CV] base_score=0.01, gamma=0.01, reg_alpha=1.0, n_estimators=15, objective=binary:logistic, max_depth=15, seed=1337, min_child_weight=10, learning_rate=0.001, subsample=0.3, colsample_bytree=1, silent=1, nthread=4 \n"
     ]
    },
    {
     "name": "stderr",
     "output_type": "stream",
     "text": [
      "/home/ubuntu/Virtualenvs/mateo/lib/python3.4/site-packages/sklearn/externals/joblib/hashing.py:197: DeprecationWarning: Changing the shape of non-C contiguous array by\n",
      "descriptor assignment is deprecated. To maintain\n",
      "the Fortran contiguity of a multidimensional Fortran\n",
      "array, use 'a.T.view(...).T' instead\n",
      "  obj_bytes_view = obj.view(self.np.uint8)\n",
      "/home/ubuntu/Virtualenvs/mateo/lib/python3.4/site-packages/sklearn/metrics/classification.py:1117: UndefinedMetricWarning: F-score is ill-defined and being set to 0.0 due to no predicted samples.\n",
      "  'precision', 'predicted', average, warn_for)\n"
     ]
    },
    {
     "name": "stdout",
     "output_type": "stream",
     "text": [
      "[CV]  base_score=0.01, gamma=0.01, reg_alpha=1.0, n_estimators=15, objective=binary:logistic, max_depth=15, seed=1337, min_child_weight=10, learning_rate=0.001, subsample=0.3, colsample_bytree=1, silent=1, nthread=4 -  30.2s\n",
      "[CV] base_score=0.01, gamma=0.01, reg_alpha=0.01, n_estimators=30, objective=binary:logistic, max_depth=15, seed=1337, min_child_weight=10, learning_rate=0.001, subsample=0.8, colsample_bytree=1, silent=1, nthread=4 \n"
     ]
    },
    {
     "name": "stderr",
     "output_type": "stream",
     "text": [
      "/home/ubuntu/Virtualenvs/mateo/lib/python3.4/site-packages/sklearn/externals/joblib/hashing.py:197: DeprecationWarning: Changing the shape of non-C contiguous array by\n",
      "descriptor assignment is deprecated. To maintain\n",
      "the Fortran contiguity of a multidimensional Fortran\n",
      "array, use 'a.T.view(...).T' instead\n",
      "  obj_bytes_view = obj.view(self.np.uint8)\n",
      "/home/ubuntu/Virtualenvs/mateo/lib/python3.4/site-packages/sklearn/metrics/classification.py:1117: UndefinedMetricWarning: F-score is ill-defined and being set to 0.0 due to no predicted samples.\n",
      "  'precision', 'predicted', average, warn_for)\n"
     ]
    },
    {
     "name": "stdout",
     "output_type": "stream",
     "text": [
      "[CV]  base_score=0.01, gamma=0.01, reg_alpha=1.0, n_estimators=15, objective=binary:logistic, max_depth=15, seed=1337, min_child_weight=10, learning_rate=0.001, subsample=0.3, colsample_bytree=1, silent=1, nthread=4 -  30.3s\n",
      "[CV] base_score=0.01, gamma=0.01, reg_alpha=0.01, n_estimators=30, objective=binary:logistic, max_depth=15, seed=1337, min_child_weight=10, learning_rate=0.001, subsample=0.8, colsample_bytree=1, silent=1, nthread=4 \n"
     ]
    },
    {
     "name": "stderr",
     "output_type": "stream",
     "text": [
      "/home/ubuntu/Virtualenvs/mateo/lib/python3.4/site-packages/sklearn/externals/joblib/hashing.py:197: DeprecationWarning: Changing the shape of non-C contiguous array by\n",
      "descriptor assignment is deprecated. To maintain\n",
      "the Fortran contiguity of a multidimensional Fortran\n",
      "array, use 'a.T.view(...).T' instead\n",
      "  obj_bytes_view = obj.view(self.np.uint8)\n",
      "/home/ubuntu/Virtualenvs/mateo/lib/python3.4/site-packages/sklearn/metrics/classification.py:1117: UndefinedMetricWarning: F-score is ill-defined and being set to 0.0 due to no predicted samples.\n",
      "  'precision', 'predicted', average, warn_for)\n"
     ]
    },
    {
     "name": "stdout",
     "output_type": "stream",
     "text": [
      "[CV]  base_score=0.01, gamma=0.01, reg_alpha=1.0, n_estimators=15, objective=binary:logistic, max_depth=15, seed=1337, min_child_weight=10, learning_rate=0.001, subsample=0.3, colsample_bytree=1, silent=1, nthread=4 -  30.9s\n",
      "[CV] base_score=0.01, gamma=0.01, reg_alpha=0.01, n_estimators=30, objective=binary:logistic, max_depth=15, seed=1337, min_child_weight=10, learning_rate=0.001, subsample=0.8, colsample_bytree=1, silent=1, nthread=4 \n"
     ]
    },
    {
     "name": "stderr",
     "output_type": "stream",
     "text": [
      "/home/ubuntu/Virtualenvs/mateo/lib/python3.4/site-packages/sklearn/externals/joblib/hashing.py:197: DeprecationWarning: Changing the shape of non-C contiguous array by\n",
      "descriptor assignment is deprecated. To maintain\n",
      "the Fortran contiguity of a multidimensional Fortran\n",
      "array, use 'a.T.view(...).T' instead\n",
      "  obj_bytes_view = obj.view(self.np.uint8)\n",
      "/home/ubuntu/Virtualenvs/mateo/lib/python3.4/site-packages/sklearn/metrics/classification.py:1117: UndefinedMetricWarning: F-score is ill-defined and being set to 0.0 due to no predicted samples.\n",
      "  'precision', 'predicted', average, warn_for)\n"
     ]
    },
    {
     "name": "stdout",
     "output_type": "stream",
     "text": [
      "[CV]  base_score=0.01, gamma=0.01, reg_alpha=0.01, n_estimators=30, objective=binary:logistic, max_depth=15, seed=1337, min_child_weight=10, learning_rate=0.001, subsample=0.8, colsample_bytree=1, silent=1, nthread=4 - 1.6min\n",
      "[CV] base_score=0.01, gamma=0.01, reg_alpha=0.01, n_estimators=30, objective=binary:logistic, max_depth=15, seed=1337, min_child_weight=10, learning_rate=0.001, subsample=0.5, colsample_bytree=1, silent=1, nthread=4 \n"
     ]
    },
    {
     "name": "stderr",
     "output_type": "stream",
     "text": [
      "/home/ubuntu/Virtualenvs/mateo/lib/python3.4/site-packages/sklearn/externals/joblib/hashing.py:197: DeprecationWarning: Changing the shape of non-C contiguous array by\n",
      "descriptor assignment is deprecated. To maintain\n",
      "the Fortran contiguity of a multidimensional Fortran\n",
      "array, use 'a.T.view(...).T' instead\n",
      "  obj_bytes_view = obj.view(self.np.uint8)\n",
      "/home/ubuntu/Virtualenvs/mateo/lib/python3.4/site-packages/sklearn/metrics/classification.py:1117: UndefinedMetricWarning: F-score is ill-defined and being set to 0.0 due to no predicted samples.\n",
      "  'precision', 'predicted', average, warn_for)\n"
     ]
    },
    {
     "name": "stdout",
     "output_type": "stream",
     "text": [
      "[CV]  base_score=0.01, gamma=0.01, reg_alpha=0.01, n_estimators=30, objective=binary:logistic, max_depth=15, seed=1337, min_child_weight=10, learning_rate=0.001, subsample=0.8, colsample_bytree=1, silent=1, nthread=4 - 1.6min\n",
      "[CV] base_score=0.01, gamma=0.01, reg_alpha=0.01, n_estimators=30, objective=binary:logistic, max_depth=15, seed=1337, min_child_weight=10, learning_rate=0.001, subsample=0.5, colsample_bytree=1, silent=1, nthread=4 \n"
     ]
    },
    {
     "name": "stderr",
     "output_type": "stream",
     "text": [
      "/home/ubuntu/Virtualenvs/mateo/lib/python3.4/site-packages/sklearn/externals/joblib/hashing.py:197: DeprecationWarning: Changing the shape of non-C contiguous array by\n",
      "descriptor assignment is deprecated. To maintain\n",
      "the Fortran contiguity of a multidimensional Fortran\n",
      "array, use 'a.T.view(...).T' instead\n",
      "  obj_bytes_view = obj.view(self.np.uint8)\n",
      "/home/ubuntu/Virtualenvs/mateo/lib/python3.4/site-packages/sklearn/metrics/classification.py:1117: UndefinedMetricWarning: F-score is ill-defined and being set to 0.0 due to no predicted samples.\n",
      "  'precision', 'predicted', average, warn_for)\n"
     ]
    },
    {
     "name": "stdout",
     "output_type": "stream",
     "text": [
      "[CV]  base_score=0.01, gamma=0.01, reg_alpha=0.01, n_estimators=30, objective=binary:logistic, max_depth=15, seed=1337, min_child_weight=10, learning_rate=0.001, subsample=0.8, colsample_bytree=1, silent=1, nthread=4 - 1.6min\n",
      "[CV] base_score=0.01, gamma=0.01, reg_alpha=0.01, n_estimators=30, objective=binary:logistic, max_depth=15, seed=1337, min_child_weight=10, learning_rate=0.001, subsample=0.5, colsample_bytree=1, silent=1, nthread=4 \n"
     ]
    },
    {
     "name": "stderr",
     "output_type": "stream",
     "text": [
      "/home/ubuntu/Virtualenvs/mateo/lib/python3.4/site-packages/sklearn/externals/joblib/hashing.py:197: DeprecationWarning: Changing the shape of non-C contiguous array by\n",
      "descriptor assignment is deprecated. To maintain\n",
      "the Fortran contiguity of a multidimensional Fortran\n",
      "array, use 'a.T.view(...).T' instead\n",
      "  obj_bytes_view = obj.view(self.np.uint8)\n",
      "/home/ubuntu/Virtualenvs/mateo/lib/python3.4/site-packages/sklearn/metrics/classification.py:1117: UndefinedMetricWarning: F-score is ill-defined and being set to 0.0 due to no predicted samples.\n",
      "  'precision', 'predicted', average, warn_for)\n"
     ]
    },
    {
     "name": "stdout",
     "output_type": "stream",
     "text": [
      "[CV]  base_score=0.01, gamma=0.01, reg_alpha=0.01, n_estimators=30, objective=binary:logistic, max_depth=15, seed=1337, min_child_weight=10, learning_rate=0.001, subsample=0.5, colsample_bytree=1, silent=1, nthread=4 - 1.5min\n",
      "[CV] base_score=0.01, gamma=0.01, reg_alpha=0.01, n_estimators=30, objective=binary:logistic, max_depth=15, seed=1337, min_child_weight=10, learning_rate=0.001, subsample=0.3, colsample_bytree=1, silent=1, nthread=4 \n"
     ]
    },
    {
     "name": "stderr",
     "output_type": "stream",
     "text": [
      "/home/ubuntu/Virtualenvs/mateo/lib/python3.4/site-packages/sklearn/externals/joblib/hashing.py:197: DeprecationWarning: Changing the shape of non-C contiguous array by\n",
      "descriptor assignment is deprecated. To maintain\n",
      "the Fortran contiguity of a multidimensional Fortran\n",
      "array, use 'a.T.view(...).T' instead\n",
      "  obj_bytes_view = obj.view(self.np.uint8)\n",
      "/home/ubuntu/Virtualenvs/mateo/lib/python3.4/site-packages/sklearn/metrics/classification.py:1117: UndefinedMetricWarning: F-score is ill-defined and being set to 0.0 due to no predicted samples.\n",
      "  'precision', 'predicted', average, warn_for)\n"
     ]
    },
    {
     "name": "stdout",
     "output_type": "stream",
     "text": [
      "[CV]  base_score=0.01, gamma=0.01, reg_alpha=0.01, n_estimators=30, objective=binary:logistic, max_depth=15, seed=1337, min_child_weight=10, learning_rate=0.001, subsample=0.5, colsample_bytree=1, silent=1, nthread=4 - 1.4min\n",
      "[CV] base_score=0.01, gamma=0.01, reg_alpha=0.01, n_estimators=30, objective=binary:logistic, max_depth=15, seed=1337, min_child_weight=10, learning_rate=0.001, subsample=0.3, colsample_bytree=1, silent=1, nthread=4 \n"
     ]
    },
    {
     "name": "stderr",
     "output_type": "stream",
     "text": [
      "/home/ubuntu/Virtualenvs/mateo/lib/python3.4/site-packages/sklearn/externals/joblib/hashing.py:197: DeprecationWarning: Changing the shape of non-C contiguous array by\n",
      "descriptor assignment is deprecated. To maintain\n",
      "the Fortran contiguity of a multidimensional Fortran\n",
      "array, use 'a.T.view(...).T' instead\n",
      "  obj_bytes_view = obj.view(self.np.uint8)\n",
      "/home/ubuntu/Virtualenvs/mateo/lib/python3.4/site-packages/sklearn/metrics/classification.py:1117: UndefinedMetricWarning: F-score is ill-defined and being set to 0.0 due to no predicted samples.\n",
      "  'precision', 'predicted', average, warn_for)\n"
     ]
    },
    {
     "name": "stdout",
     "output_type": "stream",
     "text": [
      "[CV]  base_score=0.01, gamma=0.01, reg_alpha=0.01, n_estimators=30, objective=binary:logistic, max_depth=15, seed=1337, min_child_weight=10, learning_rate=0.001, subsample=0.5, colsample_bytree=1, silent=1, nthread=4 - 1.4min\n",
      "[CV] base_score=0.01, gamma=0.01, reg_alpha=0.01, n_estimators=30, objective=binary:logistic, max_depth=15, seed=1337, min_child_weight=10, learning_rate=0.001, subsample=0.3, colsample_bytree=1, silent=1, nthread=4 \n"
     ]
    },
    {
     "name": "stderr",
     "output_type": "stream",
     "text": [
      "/home/ubuntu/Virtualenvs/mateo/lib/python3.4/site-packages/sklearn/externals/joblib/hashing.py:197: DeprecationWarning: Changing the shape of non-C contiguous array by\n",
      "descriptor assignment is deprecated. To maintain\n",
      "the Fortran contiguity of a multidimensional Fortran\n",
      "array, use 'a.T.view(...).T' instead\n",
      "  obj_bytes_view = obj.view(self.np.uint8)\n",
      "/home/ubuntu/Virtualenvs/mateo/lib/python3.4/site-packages/sklearn/metrics/classification.py:1117: UndefinedMetricWarning: F-score is ill-defined and being set to 0.0 due to no predicted samples.\n",
      "  'precision', 'predicted', average, warn_for)\n"
     ]
    },
    {
     "name": "stdout",
     "output_type": "stream",
     "text": [
      "[CV]  base_score=0.01, gamma=0.01, reg_alpha=0.01, n_estimators=30, objective=binary:logistic, max_depth=15, seed=1337, min_child_weight=10, learning_rate=0.001, subsample=0.3, colsample_bytree=1, silent=1, nthread=4 - 1.1min\n",
      "[CV] base_score=0.01, gamma=0.01, reg_alpha=0.1, n_estimators=30, objective=binary:logistic, max_depth=15, seed=1337, min_child_weight=10, learning_rate=0.001, subsample=0.8, colsample_bytree=1, silent=1, nthread=4 \n"
     ]
    },
    {
     "name": "stderr",
     "output_type": "stream",
     "text": [
      "/home/ubuntu/Virtualenvs/mateo/lib/python3.4/site-packages/sklearn/externals/joblib/hashing.py:197: DeprecationWarning: Changing the shape of non-C contiguous array by\n",
      "descriptor assignment is deprecated. To maintain\n",
      "the Fortran contiguity of a multidimensional Fortran\n",
      "array, use 'a.T.view(...).T' instead\n",
      "  obj_bytes_view = obj.view(self.np.uint8)\n",
      "/home/ubuntu/Virtualenvs/mateo/lib/python3.4/site-packages/sklearn/metrics/classification.py:1117: UndefinedMetricWarning: F-score is ill-defined and being set to 0.0 due to no predicted samples.\n",
      "  'precision', 'predicted', average, warn_for)\n"
     ]
    },
    {
     "name": "stdout",
     "output_type": "stream",
     "text": [
      "[CV]  base_score=0.01, gamma=0.01, reg_alpha=0.01, n_estimators=30, objective=binary:logistic, max_depth=15, seed=1337, min_child_weight=10, learning_rate=0.001, subsample=0.3, colsample_bytree=1, silent=1, nthread=4 - 1.0min\n",
      "[CV] base_score=0.01, gamma=0.01, reg_alpha=0.1, n_estimators=30, objective=binary:logistic, max_depth=15, seed=1337, min_child_weight=10, learning_rate=0.001, subsample=0.8, colsample_bytree=1, silent=1, nthread=4 \n"
     ]
    },
    {
     "name": "stderr",
     "output_type": "stream",
     "text": [
      "/home/ubuntu/Virtualenvs/mateo/lib/python3.4/site-packages/sklearn/externals/joblib/hashing.py:197: DeprecationWarning: Changing the shape of non-C contiguous array by\n",
      "descriptor assignment is deprecated. To maintain\n",
      "the Fortran contiguity of a multidimensional Fortran\n",
      "array, use 'a.T.view(...).T' instead\n",
      "  obj_bytes_view = obj.view(self.np.uint8)\n",
      "/home/ubuntu/Virtualenvs/mateo/lib/python3.4/site-packages/sklearn/metrics/classification.py:1117: UndefinedMetricWarning: F-score is ill-defined and being set to 0.0 due to no predicted samples.\n",
      "  'precision', 'predicted', average, warn_for)\n"
     ]
    },
    {
     "name": "stdout",
     "output_type": "stream",
     "text": [
      "[CV]  base_score=0.01, gamma=0.01, reg_alpha=0.01, n_estimators=30, objective=binary:logistic, max_depth=15, seed=1337, min_child_weight=10, learning_rate=0.001, subsample=0.3, colsample_bytree=1, silent=1, nthread=4 - 1.0min\n",
      "[CV] base_score=0.01, gamma=0.01, reg_alpha=0.1, n_estimators=30, objective=binary:logistic, max_depth=15, seed=1337, min_child_weight=10, learning_rate=0.001, subsample=0.8, colsample_bytree=1, silent=1, nthread=4 \n"
     ]
    },
    {
     "name": "stderr",
     "output_type": "stream",
     "text": [
      "/home/ubuntu/Virtualenvs/mateo/lib/python3.4/site-packages/sklearn/externals/joblib/hashing.py:197: DeprecationWarning: Changing the shape of non-C contiguous array by\n",
      "descriptor assignment is deprecated. To maintain\n",
      "the Fortran contiguity of a multidimensional Fortran\n",
      "array, use 'a.T.view(...).T' instead\n",
      "  obj_bytes_view = obj.view(self.np.uint8)\n",
      "/home/ubuntu/Virtualenvs/mateo/lib/python3.4/site-packages/sklearn/metrics/classification.py:1117: UndefinedMetricWarning: F-score is ill-defined and being set to 0.0 due to no predicted samples.\n",
      "  'precision', 'predicted', average, warn_for)\n"
     ]
    },
    {
     "name": "stdout",
     "output_type": "stream",
     "text": [
      "[CV]  base_score=0.01, gamma=0.01, reg_alpha=0.1, n_estimators=30, objective=binary:logistic, max_depth=15, seed=1337, min_child_weight=10, learning_rate=0.001, subsample=0.8, colsample_bytree=1, silent=1, nthread=4 - 1.5min\n",
      "[CV] base_score=0.01, gamma=0.01, reg_alpha=0.1, n_estimators=30, objective=binary:logistic, max_depth=15, seed=1337, min_child_weight=10, learning_rate=0.001, subsample=0.5, colsample_bytree=1, silent=1, nthread=4 \n"
     ]
    },
    {
     "name": "stderr",
     "output_type": "stream",
     "text": [
      "/home/ubuntu/Virtualenvs/mateo/lib/python3.4/site-packages/sklearn/externals/joblib/hashing.py:197: DeprecationWarning: Changing the shape of non-C contiguous array by\n",
      "descriptor assignment is deprecated. To maintain\n",
      "the Fortran contiguity of a multidimensional Fortran\n",
      "array, use 'a.T.view(...).T' instead\n",
      "  obj_bytes_view = obj.view(self.np.uint8)\n",
      "/home/ubuntu/Virtualenvs/mateo/lib/python3.4/site-packages/sklearn/metrics/classification.py:1117: UndefinedMetricWarning: F-score is ill-defined and being set to 0.0 due to no predicted samples.\n",
      "  'precision', 'predicted', average, warn_for)\n"
     ]
    },
    {
     "name": "stdout",
     "output_type": "stream",
     "text": [
      "[CV]  base_score=0.01, gamma=0.01, reg_alpha=0.1, n_estimators=30, objective=binary:logistic, max_depth=15, seed=1337, min_child_weight=10, learning_rate=0.001, subsample=0.8, colsample_bytree=1, silent=1, nthread=4 - 1.6min\n",
      "[CV] base_score=0.01, gamma=0.01, reg_alpha=0.1, n_estimators=30, objective=binary:logistic, max_depth=15, seed=1337, min_child_weight=10, learning_rate=0.001, subsample=0.5, colsample_bytree=1, silent=1, nthread=4 \n"
     ]
    },
    {
     "name": "stderr",
     "output_type": "stream",
     "text": [
      "/home/ubuntu/Virtualenvs/mateo/lib/python3.4/site-packages/sklearn/externals/joblib/hashing.py:197: DeprecationWarning: Changing the shape of non-C contiguous array by\n",
      "descriptor assignment is deprecated. To maintain\n",
      "the Fortran contiguity of a multidimensional Fortran\n",
      "array, use 'a.T.view(...).T' instead\n",
      "  obj_bytes_view = obj.view(self.np.uint8)\n",
      "/home/ubuntu/Virtualenvs/mateo/lib/python3.4/site-packages/sklearn/metrics/classification.py:1117: UndefinedMetricWarning: F-score is ill-defined and being set to 0.0 due to no predicted samples.\n",
      "  'precision', 'predicted', average, warn_for)\n"
     ]
    },
    {
     "name": "stdout",
     "output_type": "stream",
     "text": [
      "[CV]  base_score=0.01, gamma=0.01, reg_alpha=0.1, n_estimators=30, objective=binary:logistic, max_depth=15, seed=1337, min_child_weight=10, learning_rate=0.001, subsample=0.8, colsample_bytree=1, silent=1, nthread=4 - 1.6min\n",
      "[CV] base_score=0.01, gamma=0.01, reg_alpha=0.1, n_estimators=30, objective=binary:logistic, max_depth=15, seed=1337, min_child_weight=10, learning_rate=0.001, subsample=0.5, colsample_bytree=1, silent=1, nthread=4 \n"
     ]
    },
    {
     "name": "stderr",
     "output_type": "stream",
     "text": [
      "/home/ubuntu/Virtualenvs/mateo/lib/python3.4/site-packages/sklearn/externals/joblib/hashing.py:197: DeprecationWarning: Changing the shape of non-C contiguous array by\n",
      "descriptor assignment is deprecated. To maintain\n",
      "the Fortran contiguity of a multidimensional Fortran\n",
      "array, use 'a.T.view(...).T' instead\n",
      "  obj_bytes_view = obj.view(self.np.uint8)\n",
      "/home/ubuntu/Virtualenvs/mateo/lib/python3.4/site-packages/sklearn/metrics/classification.py:1117: UndefinedMetricWarning: F-score is ill-defined and being set to 0.0 due to no predicted samples.\n",
      "  'precision', 'predicted', average, warn_for)\n"
     ]
    },
    {
     "name": "stdout",
     "output_type": "stream",
     "text": [
      "[CV]  base_score=0.01, gamma=0.01, reg_alpha=0.1, n_estimators=30, objective=binary:logistic, max_depth=15, seed=1337, min_child_weight=10, learning_rate=0.001, subsample=0.5, colsample_bytree=1, silent=1, nthread=4 - 1.4min\n",
      "[CV] base_score=0.01, gamma=0.01, reg_alpha=0.1, n_estimators=30, objective=binary:logistic, max_depth=15, seed=1337, min_child_weight=10, learning_rate=0.001, subsample=0.3, colsample_bytree=1, silent=1, nthread=4 \n"
     ]
    },
    {
     "name": "stderr",
     "output_type": "stream",
     "text": [
      "/home/ubuntu/Virtualenvs/mateo/lib/python3.4/site-packages/sklearn/externals/joblib/hashing.py:197: DeprecationWarning: Changing the shape of non-C contiguous array by\n",
      "descriptor assignment is deprecated. To maintain\n",
      "the Fortran contiguity of a multidimensional Fortran\n",
      "array, use 'a.T.view(...).T' instead\n",
      "  obj_bytes_view = obj.view(self.np.uint8)\n",
      "/home/ubuntu/Virtualenvs/mateo/lib/python3.4/site-packages/sklearn/metrics/classification.py:1117: UndefinedMetricWarning: F-score is ill-defined and being set to 0.0 due to no predicted samples.\n",
      "  'precision', 'predicted', average, warn_for)\n"
     ]
    },
    {
     "name": "stdout",
     "output_type": "stream",
     "text": [
      "[CV]  base_score=0.01, gamma=0.01, reg_alpha=0.1, n_estimators=30, objective=binary:logistic, max_depth=15, seed=1337, min_child_weight=10, learning_rate=0.001, subsample=0.5, colsample_bytree=1, silent=1, nthread=4 - 1.4min\n",
      "[CV] base_score=0.01, gamma=0.01, reg_alpha=0.1, n_estimators=30, objective=binary:logistic, max_depth=15, seed=1337, min_child_weight=10, learning_rate=0.001, subsample=0.3, colsample_bytree=1, silent=1, nthread=4 \n"
     ]
    },
    {
     "name": "stderr",
     "output_type": "stream",
     "text": [
      "/home/ubuntu/Virtualenvs/mateo/lib/python3.4/site-packages/sklearn/externals/joblib/hashing.py:197: DeprecationWarning: Changing the shape of non-C contiguous array by\n",
      "descriptor assignment is deprecated. To maintain\n",
      "the Fortran contiguity of a multidimensional Fortran\n",
      "array, use 'a.T.view(...).T' instead\n",
      "  obj_bytes_view = obj.view(self.np.uint8)\n",
      "/home/ubuntu/Virtualenvs/mateo/lib/python3.4/site-packages/sklearn/metrics/classification.py:1117: UndefinedMetricWarning: F-score is ill-defined and being set to 0.0 due to no predicted samples.\n",
      "  'precision', 'predicted', average, warn_for)\n"
     ]
    },
    {
     "name": "stdout",
     "output_type": "stream",
     "text": [
      "[CV]  base_score=0.01, gamma=0.01, reg_alpha=0.1, n_estimators=30, objective=binary:logistic, max_depth=15, seed=1337, min_child_weight=10, learning_rate=0.001, subsample=0.5, colsample_bytree=1, silent=1, nthread=4 - 1.4min\n",
      "[CV] base_score=0.01, gamma=0.01, reg_alpha=0.1, n_estimators=30, objective=binary:logistic, max_depth=15, seed=1337, min_child_weight=10, learning_rate=0.001, subsample=0.3, colsample_bytree=1, silent=1, nthread=4 \n"
     ]
    },
    {
     "name": "stderr",
     "output_type": "stream",
     "text": [
      "/home/ubuntu/Virtualenvs/mateo/lib/python3.4/site-packages/sklearn/externals/joblib/hashing.py:197: DeprecationWarning: Changing the shape of non-C contiguous array by\n",
      "descriptor assignment is deprecated. To maintain\n",
      "the Fortran contiguity of a multidimensional Fortran\n",
      "array, use 'a.T.view(...).T' instead\n",
      "  obj_bytes_view = obj.view(self.np.uint8)\n",
      "/home/ubuntu/Virtualenvs/mateo/lib/python3.4/site-packages/sklearn/metrics/classification.py:1117: UndefinedMetricWarning: F-score is ill-defined and being set to 0.0 due to no predicted samples.\n",
      "  'precision', 'predicted', average, warn_for)\n"
     ]
    },
    {
     "name": "stdout",
     "output_type": "stream",
     "text": [
      "[CV]  base_score=0.01, gamma=0.01, reg_alpha=0.1, n_estimators=30, objective=binary:logistic, max_depth=15, seed=1337, min_child_weight=10, learning_rate=0.001, subsample=0.3, colsample_bytree=1, silent=1, nthread=4 - 1.0min\n",
      "[CV] base_score=0.01, gamma=0.01, reg_alpha=1.0, n_estimators=30, objective=binary:logistic, max_depth=15, seed=1337, min_child_weight=10, learning_rate=0.001, subsample=0.8, colsample_bytree=1, silent=1, nthread=4 \n"
     ]
    },
    {
     "name": "stderr",
     "output_type": "stream",
     "text": [
      "/home/ubuntu/Virtualenvs/mateo/lib/python3.4/site-packages/sklearn/externals/joblib/hashing.py:197: DeprecationWarning: Changing the shape of non-C contiguous array by\n",
      "descriptor assignment is deprecated. To maintain\n",
      "the Fortran contiguity of a multidimensional Fortran\n",
      "array, use 'a.T.view(...).T' instead\n",
      "  obj_bytes_view = obj.view(self.np.uint8)\n",
      "/home/ubuntu/Virtualenvs/mateo/lib/python3.4/site-packages/sklearn/metrics/classification.py:1117: UndefinedMetricWarning: F-score is ill-defined and being set to 0.0 due to no predicted samples.\n",
      "  'precision', 'predicted', average, warn_for)\n"
     ]
    },
    {
     "name": "stdout",
     "output_type": "stream",
     "text": [
      "[CV]  base_score=0.01, gamma=0.01, reg_alpha=0.1, n_estimators=30, objective=binary:logistic, max_depth=15, seed=1337, min_child_weight=10, learning_rate=0.001, subsample=0.3, colsample_bytree=1, silent=1, nthread=4 - 1.0min\n",
      "[CV] base_score=0.01, gamma=0.01, reg_alpha=1.0, n_estimators=30, objective=binary:logistic, max_depth=15, seed=1337, min_child_weight=10, learning_rate=0.001, subsample=0.8, colsample_bytree=1, silent=1, nthread=4 \n"
     ]
    },
    {
     "name": "stderr",
     "output_type": "stream",
     "text": [
      "/home/ubuntu/Virtualenvs/mateo/lib/python3.4/site-packages/sklearn/externals/joblib/hashing.py:197: DeprecationWarning: Changing the shape of non-C contiguous array by\n",
      "descriptor assignment is deprecated. To maintain\n",
      "the Fortran contiguity of a multidimensional Fortran\n",
      "array, use 'a.T.view(...).T' instead\n",
      "  obj_bytes_view = obj.view(self.np.uint8)\n",
      "/home/ubuntu/Virtualenvs/mateo/lib/python3.4/site-packages/sklearn/metrics/classification.py:1117: UndefinedMetricWarning: F-score is ill-defined and being set to 0.0 due to no predicted samples.\n",
      "  'precision', 'predicted', average, warn_for)\n"
     ]
    },
    {
     "name": "stdout",
     "output_type": "stream",
     "text": [
      "[CV]  base_score=0.01, gamma=0.01, reg_alpha=0.1, n_estimators=30, objective=binary:logistic, max_depth=15, seed=1337, min_child_weight=10, learning_rate=0.001, subsample=0.3, colsample_bytree=1, silent=1, nthread=4 - 1.0min\n",
      "[CV] base_score=0.01, gamma=0.01, reg_alpha=1.0, n_estimators=30, objective=binary:logistic, max_depth=15, seed=1337, min_child_weight=10, learning_rate=0.001, subsample=0.8, colsample_bytree=1, silent=1, nthread=4 \n"
     ]
    },
    {
     "name": "stderr",
     "output_type": "stream",
     "text": [
      "/home/ubuntu/Virtualenvs/mateo/lib/python3.4/site-packages/sklearn/externals/joblib/hashing.py:197: DeprecationWarning: Changing the shape of non-C contiguous array by\n",
      "descriptor assignment is deprecated. To maintain\n",
      "the Fortran contiguity of a multidimensional Fortran\n",
      "array, use 'a.T.view(...).T' instead\n",
      "  obj_bytes_view = obj.view(self.np.uint8)\n",
      "/home/ubuntu/Virtualenvs/mateo/lib/python3.4/site-packages/sklearn/metrics/classification.py:1117: UndefinedMetricWarning: F-score is ill-defined and being set to 0.0 due to no predicted samples.\n",
      "  'precision', 'predicted', average, warn_for)\n"
     ]
    },
    {
     "name": "stdout",
     "output_type": "stream",
     "text": [
      "[CV]  base_score=0.01, gamma=0.01, reg_alpha=1.0, n_estimators=30, objective=binary:logistic, max_depth=15, seed=1337, min_child_weight=10, learning_rate=0.001, subsample=0.8, colsample_bytree=1, silent=1, nthread=4 - 1.4min\n",
      "[CV] base_score=0.01, gamma=0.01, reg_alpha=1.0, n_estimators=30, objective=binary:logistic, max_depth=15, seed=1337, min_child_weight=10, learning_rate=0.001, subsample=0.5, colsample_bytree=1, silent=1, nthread=4 \n"
     ]
    },
    {
     "name": "stderr",
     "output_type": "stream",
     "text": [
      "/home/ubuntu/Virtualenvs/mateo/lib/python3.4/site-packages/sklearn/externals/joblib/hashing.py:197: DeprecationWarning: Changing the shape of non-C contiguous array by\n",
      "descriptor assignment is deprecated. To maintain\n",
      "the Fortran contiguity of a multidimensional Fortran\n",
      "array, use 'a.T.view(...).T' instead\n",
      "  obj_bytes_view = obj.view(self.np.uint8)\n",
      "/home/ubuntu/Virtualenvs/mateo/lib/python3.4/site-packages/sklearn/metrics/classification.py:1117: UndefinedMetricWarning: F-score is ill-defined and being set to 0.0 due to no predicted samples.\n",
      "  'precision', 'predicted', average, warn_for)\n"
     ]
    },
    {
     "name": "stdout",
     "output_type": "stream",
     "text": [
      "[CV]  base_score=0.01, gamma=0.01, reg_alpha=1.0, n_estimators=30, objective=binary:logistic, max_depth=15, seed=1337, min_child_weight=10, learning_rate=0.001, subsample=0.8, colsample_bytree=1, silent=1, nthread=4 - 1.4min\n",
      "[CV] base_score=0.01, gamma=0.01, reg_alpha=1.0, n_estimators=30, objective=binary:logistic, max_depth=15, seed=1337, min_child_weight=10, learning_rate=0.001, subsample=0.5, colsample_bytree=1, silent=1, nthread=4 \n"
     ]
    },
    {
     "name": "stderr",
     "output_type": "stream",
     "text": [
      "/home/ubuntu/Virtualenvs/mateo/lib/python3.4/site-packages/sklearn/externals/joblib/hashing.py:197: DeprecationWarning: Changing the shape of non-C contiguous array by\n",
      "descriptor assignment is deprecated. To maintain\n",
      "the Fortran contiguity of a multidimensional Fortran\n",
      "array, use 'a.T.view(...).T' instead\n",
      "  obj_bytes_view = obj.view(self.np.uint8)\n",
      "/home/ubuntu/Virtualenvs/mateo/lib/python3.4/site-packages/sklearn/metrics/classification.py:1117: UndefinedMetricWarning: F-score is ill-defined and being set to 0.0 due to no predicted samples.\n",
      "  'precision', 'predicted', average, warn_for)\n"
     ]
    },
    {
     "name": "stdout",
     "output_type": "stream",
     "text": [
      "[CV]  base_score=0.01, gamma=0.01, reg_alpha=1.0, n_estimators=30, objective=binary:logistic, max_depth=15, seed=1337, min_child_weight=10, learning_rate=0.001, subsample=0.8, colsample_bytree=1, silent=1, nthread=4 - 1.4min\n",
      "[CV] base_score=0.01, gamma=0.01, reg_alpha=1.0, n_estimators=30, objective=binary:logistic, max_depth=15, seed=1337, min_child_weight=10, learning_rate=0.001, subsample=0.5, colsample_bytree=1, silent=1, nthread=4 \n"
     ]
    },
    {
     "name": "stderr",
     "output_type": "stream",
     "text": [
      "/home/ubuntu/Virtualenvs/mateo/lib/python3.4/site-packages/sklearn/externals/joblib/hashing.py:197: DeprecationWarning: Changing the shape of non-C contiguous array by\n",
      "descriptor assignment is deprecated. To maintain\n",
      "the Fortran contiguity of a multidimensional Fortran\n",
      "array, use 'a.T.view(...).T' instead\n",
      "  obj_bytes_view = obj.view(self.np.uint8)\n",
      "/home/ubuntu/Virtualenvs/mateo/lib/python3.4/site-packages/sklearn/metrics/classification.py:1117: UndefinedMetricWarning: F-score is ill-defined and being set to 0.0 due to no predicted samples.\n",
      "  'precision', 'predicted', average, warn_for)\n"
     ]
    },
    {
     "name": "stdout",
     "output_type": "stream",
     "text": [
      "[CV]  base_score=0.01, gamma=0.01, reg_alpha=1.0, n_estimators=30, objective=binary:logistic, max_depth=15, seed=1337, min_child_weight=10, learning_rate=0.001, subsample=0.5, colsample_bytree=1, silent=1, nthread=4 - 1.3min\n",
      "[CV] base_score=0.01, gamma=0.01, reg_alpha=1.0, n_estimators=30, objective=binary:logistic, max_depth=15, seed=1337, min_child_weight=10, learning_rate=0.001, subsample=0.3, colsample_bytree=1, silent=1, nthread=4 \n"
     ]
    },
    {
     "name": "stderr",
     "output_type": "stream",
     "text": [
      "/home/ubuntu/Virtualenvs/mateo/lib/python3.4/site-packages/sklearn/metrics/classification.py:1117: UndefinedMetricWarning: F-score is ill-defined and being set to 0.0 due to no predicted samples.\n",
      "  'precision', 'predicted', average, warn_for)\n"
     ]
    },
    {
     "name": "stdout",
     "output_type": "stream",
     "text": [
      "[CV]  base_score=0.01, gamma=0.01, reg_alpha=1.0, n_estimators=30, objective=binary:logistic, max_depth=15, seed=1337, min_child_weight=10, learning_rate=0.001, subsample=0.5, colsample_bytree=1, silent=1, nthread=4 - 1.3min\n"
     ]
    },
    {
     "name": "stderr",
     "output_type": "stream",
     "text": [
      "/home/ubuntu/Virtualenvs/mateo/lib/python3.4/site-packages/sklearn/externals/joblib/hashing.py:197: DeprecationWarning: Changing the shape of non-C contiguous array by\n",
      "descriptor assignment is deprecated. To maintain\n",
      "the Fortran contiguity of a multidimensional Fortran\n",
      "array, use 'a.T.view(...).T' instead\n",
      "  obj_bytes_view = obj.view(self.np.uint8)\n"
     ]
    },
    {
     "name": "stdout",
     "output_type": "stream",
     "text": [
      "[CV] base_score=0.01, gamma=0.01, reg_alpha=1.0, n_estimators=30, objective=binary:logistic, max_depth=15, seed=1337, min_child_weight=10, learning_rate=0.001, subsample=0.3, colsample_bytree=1, silent=1, nthread=4 \n"
     ]
    },
    {
     "name": "stderr",
     "output_type": "stream",
     "text": [
      "/home/ubuntu/Virtualenvs/mateo/lib/python3.4/site-packages/sklearn/externals/joblib/hashing.py:197: DeprecationWarning: Changing the shape of non-C contiguous array by\n",
      "descriptor assignment is deprecated. To maintain\n",
      "the Fortran contiguity of a multidimensional Fortran\n",
      "array, use 'a.T.view(...).T' instead\n",
      "  obj_bytes_view = obj.view(self.np.uint8)\n",
      "/home/ubuntu/Virtualenvs/mateo/lib/python3.4/site-packages/sklearn/metrics/classification.py:1117: UndefinedMetricWarning: F-score is ill-defined and being set to 0.0 due to no predicted samples.\n",
      "  'precision', 'predicted', average, warn_for)\n"
     ]
    },
    {
     "name": "stdout",
     "output_type": "stream",
     "text": [
      "[CV]  base_score=0.01, gamma=0.01, reg_alpha=1.0, n_estimators=30, objective=binary:logistic, max_depth=15, seed=1337, min_child_weight=10, learning_rate=0.001, subsample=0.5, colsample_bytree=1, silent=1, nthread=4 - 1.3min\n",
      "[CV] base_score=0.01, gamma=0.01, reg_alpha=1.0, n_estimators=30, objective=binary:logistic, max_depth=15, seed=1337, min_child_weight=10, learning_rate=0.001, subsample=0.3, colsample_bytree=1, silent=1, nthread=4 \n"
     ]
    },
    {
     "name": "stderr",
     "output_type": "stream",
     "text": [
      "/home/ubuntu/Virtualenvs/mateo/lib/python3.4/site-packages/sklearn/externals/joblib/hashing.py:197: DeprecationWarning: Changing the shape of non-C contiguous array by\n",
      "descriptor assignment is deprecated. To maintain\n",
      "the Fortran contiguity of a multidimensional Fortran\n",
      "array, use 'a.T.view(...).T' instead\n",
      "  obj_bytes_view = obj.view(self.np.uint8)\n",
      "/home/ubuntu/Virtualenvs/mateo/lib/python3.4/site-packages/sklearn/metrics/classification.py:1117: UndefinedMetricWarning: F-score is ill-defined and being set to 0.0 due to no predicted samples.\n",
      "  'precision', 'predicted', average, warn_for)\n"
     ]
    },
    {
     "name": "stdout",
     "output_type": "stream",
     "text": [
      "[CV]  base_score=0.01, gamma=0.01, reg_alpha=1.0, n_estimators=30, objective=binary:logistic, max_depth=15, seed=1337, min_child_weight=10, learning_rate=0.001, subsample=0.3, colsample_bytree=1, silent=1, nthread=4 -  56.5s\n",
      "[CV] base_score=0.01, gamma=0.01, reg_alpha=0.01, n_estimators=15, objective=binary:logistic, max_depth=15, seed=1337, min_child_weight=5, learning_rate=0.001, subsample=0.8, colsample_bytree=1, silent=1, nthread=4 \n"
     ]
    },
    {
     "name": "stderr",
     "output_type": "stream",
     "text": [
      "/home/ubuntu/Virtualenvs/mateo/lib/python3.4/site-packages/sklearn/externals/joblib/hashing.py:197: DeprecationWarning: Changing the shape of non-C contiguous array by\n",
      "descriptor assignment is deprecated. To maintain\n",
      "the Fortran contiguity of a multidimensional Fortran\n",
      "array, use 'a.T.view(...).T' instead\n",
      "  obj_bytes_view = obj.view(self.np.uint8)\n",
      "/home/ubuntu/Virtualenvs/mateo/lib/python3.4/site-packages/sklearn/metrics/classification.py:1117: UndefinedMetricWarning: F-score is ill-defined and being set to 0.0 due to no predicted samples.\n",
      "  'precision', 'predicted', average, warn_for)\n"
     ]
    },
    {
     "name": "stdout",
     "output_type": "stream",
     "text": [
      "[CV]  base_score=0.01, gamma=0.01, reg_alpha=1.0, n_estimators=30, objective=binary:logistic, max_depth=15, seed=1337, min_child_weight=10, learning_rate=0.001, subsample=0.3, colsample_bytree=1, silent=1, nthread=4 -  58.4s\n",
      "[CV] base_score=0.01, gamma=0.01, reg_alpha=0.01, n_estimators=15, objective=binary:logistic, max_depth=15, seed=1337, min_child_weight=5, learning_rate=0.001, subsample=0.8, colsample_bytree=1, silent=1, nthread=4 \n"
     ]
    },
    {
     "name": "stderr",
     "output_type": "stream",
     "text": [
      "/home/ubuntu/Virtualenvs/mateo/lib/python3.4/site-packages/sklearn/externals/joblib/hashing.py:197: DeprecationWarning: Changing the shape of non-C contiguous array by\n",
      "descriptor assignment is deprecated. To maintain\n",
      "the Fortran contiguity of a multidimensional Fortran\n",
      "array, use 'a.T.view(...).T' instead\n",
      "  obj_bytes_view = obj.view(self.np.uint8)\n",
      "/home/ubuntu/Virtualenvs/mateo/lib/python3.4/site-packages/sklearn/metrics/classification.py:1117: UndefinedMetricWarning: F-score is ill-defined and being set to 0.0 due to no predicted samples.\n",
      "  'precision', 'predicted', average, warn_for)\n"
     ]
    },
    {
     "name": "stdout",
     "output_type": "stream",
     "text": [
      "[CV]  base_score=0.01, gamma=0.01, reg_alpha=1.0, n_estimators=30, objective=binary:logistic, max_depth=15, seed=1337, min_child_weight=10, learning_rate=0.001, subsample=0.3, colsample_bytree=1, silent=1, nthread=4 -  57.4s\n",
      "[CV] base_score=0.01, gamma=0.01, reg_alpha=0.01, n_estimators=15, objective=binary:logistic, max_depth=15, seed=1337, min_child_weight=5, learning_rate=0.001, subsample=0.8, colsample_bytree=1, silent=1, nthread=4 \n"
     ]
    },
    {
     "name": "stderr",
     "output_type": "stream",
     "text": [
      "/home/ubuntu/Virtualenvs/mateo/lib/python3.4/site-packages/sklearn/externals/joblib/hashing.py:197: DeprecationWarning: Changing the shape of non-C contiguous array by\n",
      "descriptor assignment is deprecated. To maintain\n",
      "the Fortran contiguity of a multidimensional Fortran\n",
      "array, use 'a.T.view(...).T' instead\n",
      "  obj_bytes_view = obj.view(self.np.uint8)\n",
      "/home/ubuntu/Virtualenvs/mateo/lib/python3.4/site-packages/sklearn/metrics/classification.py:1117: UndefinedMetricWarning: F-score is ill-defined and being set to 0.0 due to no predicted samples.\n",
      "  'precision', 'predicted', average, warn_for)\n"
     ]
    },
    {
     "name": "stdout",
     "output_type": "stream",
     "text": [
      "[CV]  base_score=0.01, gamma=0.01, reg_alpha=0.01, n_estimators=15, objective=binary:logistic, max_depth=15, seed=1337, min_child_weight=5, learning_rate=0.001, subsample=0.8, colsample_bytree=1, silent=1, nthread=4 -  54.8s\n",
      "[CV] base_score=0.01, gamma=0.01, reg_alpha=0.01, n_estimators=15, objective=binary:logistic, max_depth=15, seed=1337, min_child_weight=5, learning_rate=0.001, subsample=0.5, colsample_bytree=1, silent=1, nthread=4 \n"
     ]
    },
    {
     "name": "stderr",
     "output_type": "stream",
     "text": [
      "/home/ubuntu/Virtualenvs/mateo/lib/python3.4/site-packages/sklearn/externals/joblib/hashing.py:197: DeprecationWarning: Changing the shape of non-C contiguous array by\n",
      "descriptor assignment is deprecated. To maintain\n",
      "the Fortran contiguity of a multidimensional Fortran\n",
      "array, use 'a.T.view(...).T' instead\n",
      "  obj_bytes_view = obj.view(self.np.uint8)\n",
      "/home/ubuntu/Virtualenvs/mateo/lib/python3.4/site-packages/sklearn/metrics/classification.py:1117: UndefinedMetricWarning: F-score is ill-defined and being set to 0.0 due to no predicted samples.\n",
      "  'precision', 'predicted', average, warn_for)\n"
     ]
    },
    {
     "name": "stdout",
     "output_type": "stream",
     "text": [
      "[CV]  base_score=0.01, gamma=0.01, reg_alpha=0.01, n_estimators=15, objective=binary:logistic, max_depth=15, seed=1337, min_child_weight=5, learning_rate=0.001, subsample=0.8, colsample_bytree=1, silent=1, nthread=4 -  56.7s\n",
      "[CV] base_score=0.01, gamma=0.01, reg_alpha=0.01, n_estimators=15, objective=binary:logistic, max_depth=15, seed=1337, min_child_weight=5, learning_rate=0.001, subsample=0.5, colsample_bytree=1, silent=1, nthread=4 \n"
     ]
    },
    {
     "name": "stderr",
     "output_type": "stream",
     "text": [
      "/home/ubuntu/Virtualenvs/mateo/lib/python3.4/site-packages/sklearn/externals/joblib/hashing.py:197: DeprecationWarning: Changing the shape of non-C contiguous array by\n",
      "descriptor assignment is deprecated. To maintain\n",
      "the Fortran contiguity of a multidimensional Fortran\n",
      "array, use 'a.T.view(...).T' instead\n",
      "  obj_bytes_view = obj.view(self.np.uint8)\n",
      "/home/ubuntu/Virtualenvs/mateo/lib/python3.4/site-packages/sklearn/metrics/classification.py:1117: UndefinedMetricWarning: F-score is ill-defined and being set to 0.0 due to no predicted samples.\n",
      "  'precision', 'predicted', average, warn_for)\n"
     ]
    },
    {
     "name": "stdout",
     "output_type": "stream",
     "text": [
      "[CV]  base_score=0.01, gamma=0.01, reg_alpha=0.01, n_estimators=15, objective=binary:logistic, max_depth=15, seed=1337, min_child_weight=5, learning_rate=0.001, subsample=0.8, colsample_bytree=1, silent=1, nthread=4 -  53.0s\n",
      "[CV] base_score=0.01, gamma=0.01, reg_alpha=0.01, n_estimators=15, objective=binary:logistic, max_depth=15, seed=1337, min_child_weight=5, learning_rate=0.001, subsample=0.5, colsample_bytree=1, silent=1, nthread=4 \n"
     ]
    },
    {
     "name": "stderr",
     "output_type": "stream",
     "text": [
      "/home/ubuntu/Virtualenvs/mateo/lib/python3.4/site-packages/sklearn/externals/joblib/hashing.py:197: DeprecationWarning: Changing the shape of non-C contiguous array by\n",
      "descriptor assignment is deprecated. To maintain\n",
      "the Fortran contiguity of a multidimensional Fortran\n",
      "array, use 'a.T.view(...).T' instead\n",
      "  obj_bytes_view = obj.view(self.np.uint8)\n",
      "/home/ubuntu/Virtualenvs/mateo/lib/python3.4/site-packages/sklearn/metrics/classification.py:1117: UndefinedMetricWarning: F-score is ill-defined and being set to 0.0 due to no predicted samples.\n",
      "  'precision', 'predicted', average, warn_for)\n"
     ]
    },
    {
     "name": "stdout",
     "output_type": "stream",
     "text": [
      "[CV]  base_score=0.01, gamma=0.01, reg_alpha=0.01, n_estimators=15, objective=binary:logistic, max_depth=15, seed=1337, min_child_weight=5, learning_rate=0.001, subsample=0.5, colsample_bytree=1, silent=1, nthread=4 -  50.3s\n",
      "[CV] base_score=0.01, gamma=0.01, reg_alpha=0.01, n_estimators=15, objective=binary:logistic, max_depth=15, seed=1337, min_child_weight=5, learning_rate=0.001, subsample=0.3, colsample_bytree=1, silent=1, nthread=4 \n"
     ]
    },
    {
     "name": "stderr",
     "output_type": "stream",
     "text": [
      "/home/ubuntu/Virtualenvs/mateo/lib/python3.4/site-packages/sklearn/externals/joblib/hashing.py:197: DeprecationWarning: Changing the shape of non-C contiguous array by\n",
      "descriptor assignment is deprecated. To maintain\n",
      "the Fortran contiguity of a multidimensional Fortran\n",
      "array, use 'a.T.view(...).T' instead\n",
      "  obj_bytes_view = obj.view(self.np.uint8)\n",
      "/home/ubuntu/Virtualenvs/mateo/lib/python3.4/site-packages/sklearn/metrics/classification.py:1117: UndefinedMetricWarning: F-score is ill-defined and being set to 0.0 due to no predicted samples.\n",
      "  'precision', 'predicted', average, warn_for)\n"
     ]
    },
    {
     "name": "stdout",
     "output_type": "stream",
     "text": [
      "[CV]  base_score=0.01, gamma=0.01, reg_alpha=0.01, n_estimators=15, objective=binary:logistic, max_depth=15, seed=1337, min_child_weight=5, learning_rate=0.001, subsample=0.5, colsample_bytree=1, silent=1, nthread=4 -  52.4s\n",
      "[CV] base_score=0.01, gamma=0.01, reg_alpha=0.01, n_estimators=15, objective=binary:logistic, max_depth=15, seed=1337, min_child_weight=5, learning_rate=0.001, subsample=0.3, colsample_bytree=1, silent=1, nthread=4 \n"
     ]
    },
    {
     "name": "stderr",
     "output_type": "stream",
     "text": [
      "/home/ubuntu/Virtualenvs/mateo/lib/python3.4/site-packages/sklearn/externals/joblib/hashing.py:197: DeprecationWarning: Changing the shape of non-C contiguous array by\n",
      "descriptor assignment is deprecated. To maintain\n",
      "the Fortran contiguity of a multidimensional Fortran\n",
      "array, use 'a.T.view(...).T' instead\n",
      "  obj_bytes_view = obj.view(self.np.uint8)\n",
      "/home/ubuntu/Virtualenvs/mateo/lib/python3.4/site-packages/sklearn/metrics/classification.py:1117: UndefinedMetricWarning: F-score is ill-defined and being set to 0.0 due to no predicted samples.\n",
      "  'precision', 'predicted', average, warn_for)\n"
     ]
    },
    {
     "name": "stdout",
     "output_type": "stream",
     "text": [
      "[CV]  base_score=0.01, gamma=0.01, reg_alpha=0.01, n_estimators=15, objective=binary:logistic, max_depth=15, seed=1337, min_child_weight=5, learning_rate=0.001, subsample=0.5, colsample_bytree=1, silent=1, nthread=4 -  51.0s\n",
      "[CV] base_score=0.01, gamma=0.01, reg_alpha=0.01, n_estimators=15, objective=binary:logistic, max_depth=15, seed=1337, min_child_weight=5, learning_rate=0.001, subsample=0.3, colsample_bytree=1, silent=1, nthread=4 \n"
     ]
    },
    {
     "name": "stderr",
     "output_type": "stream",
     "text": [
      "/home/ubuntu/Virtualenvs/mateo/lib/python3.4/site-packages/sklearn/externals/joblib/hashing.py:197: DeprecationWarning: Changing the shape of non-C contiguous array by\n",
      "descriptor assignment is deprecated. To maintain\n",
      "the Fortran contiguity of a multidimensional Fortran\n",
      "array, use 'a.T.view(...).T' instead\n",
      "  obj_bytes_view = obj.view(self.np.uint8)\n",
      "/home/ubuntu/Virtualenvs/mateo/lib/python3.4/site-packages/sklearn/metrics/classification.py:1117: UndefinedMetricWarning: F-score is ill-defined and being set to 0.0 due to no predicted samples.\n",
      "  'precision', 'predicted', average, warn_for)\n"
     ]
    },
    {
     "name": "stdout",
     "output_type": "stream",
     "text": [
      "[CV]  base_score=0.01, gamma=0.01, reg_alpha=0.01, n_estimators=15, objective=binary:logistic, max_depth=15, seed=1337, min_child_weight=5, learning_rate=0.001, subsample=0.3, colsample_bytree=1, silent=1, nthread=4 -  36.8s\n",
      "[CV] base_score=0.01, gamma=0.01, reg_alpha=0.1, n_estimators=15, objective=binary:logistic, max_depth=15, seed=1337, min_child_weight=5, learning_rate=0.001, subsample=0.8, colsample_bytree=1, silent=1, nthread=4 \n"
     ]
    },
    {
     "name": "stderr",
     "output_type": "stream",
     "text": [
      "/home/ubuntu/Virtualenvs/mateo/lib/python3.4/site-packages/sklearn/externals/joblib/hashing.py:197: DeprecationWarning: Changing the shape of non-C contiguous array by\n",
      "descriptor assignment is deprecated. To maintain\n",
      "the Fortran contiguity of a multidimensional Fortran\n",
      "array, use 'a.T.view(...).T' instead\n",
      "  obj_bytes_view = obj.view(self.np.uint8)\n",
      "/home/ubuntu/Virtualenvs/mateo/lib/python3.4/site-packages/sklearn/metrics/classification.py:1117: UndefinedMetricWarning: F-score is ill-defined and being set to 0.0 due to no predicted samples.\n",
      "  'precision', 'predicted', average, warn_for)\n"
     ]
    },
    {
     "name": "stdout",
     "output_type": "stream",
     "text": [
      "[CV]  base_score=0.01, gamma=0.01, reg_alpha=0.01, n_estimators=15, objective=binary:logistic, max_depth=15, seed=1337, min_child_weight=5, learning_rate=0.001, subsample=0.3, colsample_bytree=1, silent=1, nthread=4 -  35.8s\n",
      "[CV] base_score=0.01, gamma=0.01, reg_alpha=0.1, n_estimators=15, objective=binary:logistic, max_depth=15, seed=1337, min_child_weight=5, learning_rate=0.001, subsample=0.8, colsample_bytree=1, silent=1, nthread=4 \n"
     ]
    },
    {
     "name": "stderr",
     "output_type": "stream",
     "text": [
      "/home/ubuntu/Virtualenvs/mateo/lib/python3.4/site-packages/sklearn/externals/joblib/hashing.py:197: DeprecationWarning: Changing the shape of non-C contiguous array by\n",
      "descriptor assignment is deprecated. To maintain\n",
      "the Fortran contiguity of a multidimensional Fortran\n",
      "array, use 'a.T.view(...).T' instead\n",
      "  obj_bytes_view = obj.view(self.np.uint8)\n",
      "/home/ubuntu/Virtualenvs/mateo/lib/python3.4/site-packages/sklearn/metrics/classification.py:1117: UndefinedMetricWarning: F-score is ill-defined and being set to 0.0 due to no predicted samples.\n",
      "  'precision', 'predicted', average, warn_for)\n"
     ]
    },
    {
     "name": "stdout",
     "output_type": "stream",
     "text": [
      "[CV]  base_score=0.01, gamma=0.01, reg_alpha=0.01, n_estimators=15, objective=binary:logistic, max_depth=15, seed=1337, min_child_weight=5, learning_rate=0.001, subsample=0.3, colsample_bytree=1, silent=1, nthread=4 -  36.3s\n",
      "[CV] base_score=0.01, gamma=0.01, reg_alpha=0.1, n_estimators=15, objective=binary:logistic, max_depth=15, seed=1337, min_child_weight=5, learning_rate=0.001, subsample=0.8, colsample_bytree=1, silent=1, nthread=4 \n"
     ]
    },
    {
     "name": "stderr",
     "output_type": "stream",
     "text": [
      "/home/ubuntu/Virtualenvs/mateo/lib/python3.4/site-packages/sklearn/externals/joblib/hashing.py:197: DeprecationWarning: Changing the shape of non-C contiguous array by\n",
      "descriptor assignment is deprecated. To maintain\n",
      "the Fortran contiguity of a multidimensional Fortran\n",
      "array, use 'a.T.view(...).T' instead\n",
      "  obj_bytes_view = obj.view(self.np.uint8)\n",
      "/home/ubuntu/Virtualenvs/mateo/lib/python3.4/site-packages/sklearn/metrics/classification.py:1117: UndefinedMetricWarning: F-score is ill-defined and being set to 0.0 due to no predicted samples.\n",
      "  'precision', 'predicted', average, warn_for)\n"
     ]
    },
    {
     "name": "stdout",
     "output_type": "stream",
     "text": [
      "[CV]  base_score=0.01, gamma=0.01, reg_alpha=0.1, n_estimators=15, objective=binary:logistic, max_depth=15, seed=1337, min_child_weight=5, learning_rate=0.001, subsample=0.8, colsample_bytree=1, silent=1, nthread=4 -  55.0s\n",
      "[CV] base_score=0.01, gamma=0.01, reg_alpha=0.1, n_estimators=15, objective=binary:logistic, max_depth=15, seed=1337, min_child_weight=5, learning_rate=0.001, subsample=0.5, colsample_bytree=1, silent=1, nthread=4 \n"
     ]
    },
    {
     "name": "stderr",
     "output_type": "stream",
     "text": [
      "/home/ubuntu/Virtualenvs/mateo/lib/python3.4/site-packages/sklearn/externals/joblib/hashing.py:197: DeprecationWarning: Changing the shape of non-C contiguous array by\n",
      "descriptor assignment is deprecated. To maintain\n",
      "the Fortran contiguity of a multidimensional Fortran\n",
      "array, use 'a.T.view(...).T' instead\n",
      "  obj_bytes_view = obj.view(self.np.uint8)\n",
      "/home/ubuntu/Virtualenvs/mateo/lib/python3.4/site-packages/sklearn/metrics/classification.py:1117: UndefinedMetricWarning: F-score is ill-defined and being set to 0.0 due to no predicted samples.\n",
      "  'precision', 'predicted', average, warn_for)\n"
     ]
    },
    {
     "name": "stdout",
     "output_type": "stream",
     "text": [
      "[CV]  base_score=0.01, gamma=0.01, reg_alpha=0.1, n_estimators=15, objective=binary:logistic, max_depth=15, seed=1337, min_child_weight=5, learning_rate=0.001, subsample=0.8, colsample_bytree=1, silent=1, nthread=4 -  54.6s\n",
      "[CV] base_score=0.01, gamma=0.01, reg_alpha=0.1, n_estimators=15, objective=binary:logistic, max_depth=15, seed=1337, min_child_weight=5, learning_rate=0.001, subsample=0.5, colsample_bytree=1, silent=1, nthread=4 \n"
     ]
    },
    {
     "name": "stderr",
     "output_type": "stream",
     "text": [
      "/home/ubuntu/Virtualenvs/mateo/lib/python3.4/site-packages/sklearn/externals/joblib/hashing.py:197: DeprecationWarning: Changing the shape of non-C contiguous array by\n",
      "descriptor assignment is deprecated. To maintain\n",
      "the Fortran contiguity of a multidimensional Fortran\n",
      "array, use 'a.T.view(...).T' instead\n",
      "  obj_bytes_view = obj.view(self.np.uint8)\n",
      "/home/ubuntu/Virtualenvs/mateo/lib/python3.4/site-packages/sklearn/metrics/classification.py:1117: UndefinedMetricWarning: F-score is ill-defined and being set to 0.0 due to no predicted samples.\n",
      "  'precision', 'predicted', average, warn_for)\n"
     ]
    },
    {
     "name": "stdout",
     "output_type": "stream",
     "text": [
      "[CV]  base_score=0.01, gamma=0.01, reg_alpha=0.1, n_estimators=15, objective=binary:logistic, max_depth=15, seed=1337, min_child_weight=5, learning_rate=0.001, subsample=0.8, colsample_bytree=1, silent=1, nthread=4 -  54.0s\n",
      "[CV] base_score=0.01, gamma=0.01, reg_alpha=0.1, n_estimators=15, objective=binary:logistic, max_depth=15, seed=1337, min_child_weight=5, learning_rate=0.001, subsample=0.5, colsample_bytree=1, silent=1, nthread=4 \n"
     ]
    },
    {
     "name": "stderr",
     "output_type": "stream",
     "text": [
      "/home/ubuntu/Virtualenvs/mateo/lib/python3.4/site-packages/sklearn/externals/joblib/hashing.py:197: DeprecationWarning: Changing the shape of non-C contiguous array by\n",
      "descriptor assignment is deprecated. To maintain\n",
      "the Fortran contiguity of a multidimensional Fortran\n",
      "array, use 'a.T.view(...).T' instead\n",
      "  obj_bytes_view = obj.view(self.np.uint8)\n",
      "/home/ubuntu/Virtualenvs/mateo/lib/python3.4/site-packages/sklearn/metrics/classification.py:1117: UndefinedMetricWarning: F-score is ill-defined and being set to 0.0 due to no predicted samples.\n",
      "  'precision', 'predicted', average, warn_for)\n"
     ]
    },
    {
     "name": "stdout",
     "output_type": "stream",
     "text": [
      "[CV]  base_score=0.01, gamma=0.01, reg_alpha=0.1, n_estimators=15, objective=binary:logistic, max_depth=15, seed=1337, min_child_weight=5, learning_rate=0.001, subsample=0.5, colsample_bytree=1, silent=1, nthread=4 -  48.8s\n",
      "[CV] base_score=0.01, gamma=0.01, reg_alpha=0.1, n_estimators=15, objective=binary:logistic, max_depth=15, seed=1337, min_child_weight=5, learning_rate=0.001, subsample=0.3, colsample_bytree=1, silent=1, nthread=4 \n"
     ]
    },
    {
     "name": "stderr",
     "output_type": "stream",
     "text": [
      "/home/ubuntu/Virtualenvs/mateo/lib/python3.4/site-packages/sklearn/externals/joblib/hashing.py:197: DeprecationWarning: Changing the shape of non-C contiguous array by\n",
      "descriptor assignment is deprecated. To maintain\n",
      "the Fortran contiguity of a multidimensional Fortran\n",
      "array, use 'a.T.view(...).T' instead\n",
      "  obj_bytes_view = obj.view(self.np.uint8)\n",
      "/home/ubuntu/Virtualenvs/mateo/lib/python3.4/site-packages/sklearn/metrics/classification.py:1117: UndefinedMetricWarning: F-score is ill-defined and being set to 0.0 due to no predicted samples.\n",
      "  'precision', 'predicted', average, warn_for)\n"
     ]
    },
    {
     "name": "stdout",
     "output_type": "stream",
     "text": [
      "[CV]  base_score=0.01, gamma=0.01, reg_alpha=0.1, n_estimators=15, objective=binary:logistic, max_depth=15, seed=1337, min_child_weight=5, learning_rate=0.001, subsample=0.5, colsample_bytree=1, silent=1, nthread=4 -  50.9s\n",
      "[CV] base_score=0.01, gamma=0.01, reg_alpha=0.1, n_estimators=15, objective=binary:logistic, max_depth=15, seed=1337, min_child_weight=5, learning_rate=0.001, subsample=0.3, colsample_bytree=1, silent=1, nthread=4 \n"
     ]
    },
    {
     "name": "stderr",
     "output_type": "stream",
     "text": [
      "/home/ubuntu/Virtualenvs/mateo/lib/python3.4/site-packages/sklearn/externals/joblib/hashing.py:197: DeprecationWarning: Changing the shape of non-C contiguous array by\n",
      "descriptor assignment is deprecated. To maintain\n",
      "the Fortran contiguity of a multidimensional Fortran\n",
      "array, use 'a.T.view(...).T' instead\n",
      "  obj_bytes_view = obj.view(self.np.uint8)\n",
      "/home/ubuntu/Virtualenvs/mateo/lib/python3.4/site-packages/sklearn/metrics/classification.py:1117: UndefinedMetricWarning: F-score is ill-defined and being set to 0.0 due to no predicted samples.\n",
      "  'precision', 'predicted', average, warn_for)\n"
     ]
    },
    {
     "name": "stdout",
     "output_type": "stream",
     "text": [
      "[CV]  base_score=0.01, gamma=0.01, reg_alpha=0.1, n_estimators=15, objective=binary:logistic, max_depth=15, seed=1337, min_child_weight=5, learning_rate=0.001, subsample=0.5, colsample_bytree=1, silent=1, nthread=4 -  50.9s\n",
      "[CV] base_score=0.01, gamma=0.01, reg_alpha=0.1, n_estimators=15, objective=binary:logistic, max_depth=15, seed=1337, min_child_weight=5, learning_rate=0.001, subsample=0.3, colsample_bytree=1, silent=1, nthread=4 \n"
     ]
    },
    {
     "name": "stderr",
     "output_type": "stream",
     "text": [
      "/home/ubuntu/Virtualenvs/mateo/lib/python3.4/site-packages/sklearn/externals/joblib/hashing.py:197: DeprecationWarning: Changing the shape of non-C contiguous array by\n",
      "descriptor assignment is deprecated. To maintain\n",
      "the Fortran contiguity of a multidimensional Fortran\n",
      "array, use 'a.T.view(...).T' instead\n",
      "  obj_bytes_view = obj.view(self.np.uint8)\n",
      "/home/ubuntu/Virtualenvs/mateo/lib/python3.4/site-packages/sklearn/metrics/classification.py:1117: UndefinedMetricWarning: F-score is ill-defined and being set to 0.0 due to no predicted samples.\n",
      "  'precision', 'predicted', average, warn_for)\n"
     ]
    },
    {
     "name": "stdout",
     "output_type": "stream",
     "text": [
      "[CV]  base_score=0.01, gamma=0.01, reg_alpha=0.1, n_estimators=15, objective=binary:logistic, max_depth=15, seed=1337, min_child_weight=5, learning_rate=0.001, subsample=0.3, colsample_bytree=1, silent=1, nthread=4 -  34.7s\n",
      "[CV] base_score=0.01, gamma=0.01, reg_alpha=1.0, n_estimators=15, objective=binary:logistic, max_depth=15, seed=1337, min_child_weight=5, learning_rate=0.001, subsample=0.8, colsample_bytree=1, silent=1, nthread=4 \n"
     ]
    },
    {
     "name": "stderr",
     "output_type": "stream",
     "text": [
      "/home/ubuntu/Virtualenvs/mateo/lib/python3.4/site-packages/sklearn/externals/joblib/hashing.py:197: DeprecationWarning: Changing the shape of non-C contiguous array by\n",
      "descriptor assignment is deprecated. To maintain\n",
      "the Fortran contiguity of a multidimensional Fortran\n",
      "array, use 'a.T.view(...).T' instead\n",
      "  obj_bytes_view = obj.view(self.np.uint8)\n",
      "/home/ubuntu/Virtualenvs/mateo/lib/python3.4/site-packages/sklearn/metrics/classification.py:1117: UndefinedMetricWarning: F-score is ill-defined and being set to 0.0 due to no predicted samples.\n",
      "  'precision', 'predicted', average, warn_for)\n"
     ]
    },
    {
     "name": "stdout",
     "output_type": "stream",
     "text": [
      "[CV]  base_score=0.01, gamma=0.01, reg_alpha=0.1, n_estimators=15, objective=binary:logistic, max_depth=15, seed=1337, min_child_weight=5, learning_rate=0.001, subsample=0.3, colsample_bytree=1, silent=1, nthread=4 -  36.4s\n",
      "[CV] base_score=0.01, gamma=0.01, reg_alpha=1.0, n_estimators=15, objective=binary:logistic, max_depth=15, seed=1337, min_child_weight=5, learning_rate=0.001, subsample=0.8, colsample_bytree=1, silent=1, nthread=4 \n"
     ]
    },
    {
     "name": "stderr",
     "output_type": "stream",
     "text": [
      "/home/ubuntu/Virtualenvs/mateo/lib/python3.4/site-packages/sklearn/externals/joblib/hashing.py:197: DeprecationWarning: Changing the shape of non-C contiguous array by\n",
      "descriptor assignment is deprecated. To maintain\n",
      "the Fortran contiguity of a multidimensional Fortran\n",
      "array, use 'a.T.view(...).T' instead\n",
      "  obj_bytes_view = obj.view(self.np.uint8)\n",
      "/home/ubuntu/Virtualenvs/mateo/lib/python3.4/site-packages/sklearn/metrics/classification.py:1117: UndefinedMetricWarning: F-score is ill-defined and being set to 0.0 due to no predicted samples.\n",
      "  'precision', 'predicted', average, warn_for)\n"
     ]
    },
    {
     "name": "stdout",
     "output_type": "stream",
     "text": [
      "[CV]  base_score=0.01, gamma=0.01, reg_alpha=0.1, n_estimators=15, objective=binary:logistic, max_depth=15, seed=1337, min_child_weight=5, learning_rate=0.001, subsample=0.3, colsample_bytree=1, silent=1, nthread=4 -  37.2s\n",
      "[CV] base_score=0.01, gamma=0.01, reg_alpha=1.0, n_estimators=15, objective=binary:logistic, max_depth=15, seed=1337, min_child_weight=5, learning_rate=0.001, subsample=0.8, colsample_bytree=1, silent=1, nthread=4 \n"
     ]
    },
    {
     "name": "stderr",
     "output_type": "stream",
     "text": [
      "/home/ubuntu/Virtualenvs/mateo/lib/python3.4/site-packages/sklearn/externals/joblib/hashing.py:197: DeprecationWarning: Changing the shape of non-C contiguous array by\n",
      "descriptor assignment is deprecated. To maintain\n",
      "the Fortran contiguity of a multidimensional Fortran\n",
      "array, use 'a.T.view(...).T' instead\n",
      "  obj_bytes_view = obj.view(self.np.uint8)\n",
      "/home/ubuntu/Virtualenvs/mateo/lib/python3.4/site-packages/sklearn/metrics/classification.py:1117: UndefinedMetricWarning: F-score is ill-defined and being set to 0.0 due to no predicted samples.\n",
      "  'precision', 'predicted', average, warn_for)\n"
     ]
    },
    {
     "name": "stdout",
     "output_type": "stream",
     "text": [
      "[CV]  base_score=0.01, gamma=0.01, reg_alpha=1.0, n_estimators=15, objective=binary:logistic, max_depth=15, seed=1337, min_child_weight=5, learning_rate=0.001, subsample=0.8, colsample_bytree=1, silent=1, nthread=4 -  50.9s\n",
      "[CV] base_score=0.01, gamma=0.01, reg_alpha=1.0, n_estimators=15, objective=binary:logistic, max_depth=15, seed=1337, min_child_weight=5, learning_rate=0.001, subsample=0.5, colsample_bytree=1, silent=1, nthread=4 \n"
     ]
    },
    {
     "name": "stderr",
     "output_type": "stream",
     "text": [
      "/home/ubuntu/Virtualenvs/mateo/lib/python3.4/site-packages/sklearn/externals/joblib/hashing.py:197: DeprecationWarning: Changing the shape of non-C contiguous array by\n",
      "descriptor assignment is deprecated. To maintain\n",
      "the Fortran contiguity of a multidimensional Fortran\n",
      "array, use 'a.T.view(...).T' instead\n",
      "  obj_bytes_view = obj.view(self.np.uint8)\n",
      "/home/ubuntu/Virtualenvs/mateo/lib/python3.4/site-packages/sklearn/metrics/classification.py:1117: UndefinedMetricWarning: F-score is ill-defined and being set to 0.0 due to no predicted samples.\n",
      "  'precision', 'predicted', average, warn_for)\n"
     ]
    },
    {
     "name": "stdout",
     "output_type": "stream",
     "text": [
      "[CV]  base_score=0.01, gamma=0.01, reg_alpha=1.0, n_estimators=15, objective=binary:logistic, max_depth=15, seed=1337, min_child_weight=5, learning_rate=0.001, subsample=0.8, colsample_bytree=1, silent=1, nthread=4 -  49.0s\n",
      "[CV] base_score=0.01, gamma=0.01, reg_alpha=1.0, n_estimators=15, objective=binary:logistic, max_depth=15, seed=1337, min_child_weight=5, learning_rate=0.001, subsample=0.5, colsample_bytree=1, silent=1, nthread=4 \n"
     ]
    },
    {
     "name": "stderr",
     "output_type": "stream",
     "text": [
      "/home/ubuntu/Virtualenvs/mateo/lib/python3.4/site-packages/sklearn/externals/joblib/hashing.py:197: DeprecationWarning: Changing the shape of non-C contiguous array by\n",
      "descriptor assignment is deprecated. To maintain\n",
      "the Fortran contiguity of a multidimensional Fortran\n",
      "array, use 'a.T.view(...).T' instead\n",
      "  obj_bytes_view = obj.view(self.np.uint8)\n",
      "/home/ubuntu/Virtualenvs/mateo/lib/python3.4/site-packages/sklearn/metrics/classification.py:1117: UndefinedMetricWarning: F-score is ill-defined and being set to 0.0 due to no predicted samples.\n",
      "  'precision', 'predicted', average, warn_for)\n"
     ]
    },
    {
     "name": "stdout",
     "output_type": "stream",
     "text": [
      "[CV]  base_score=0.01, gamma=0.01, reg_alpha=1.0, n_estimators=15, objective=binary:logistic, max_depth=15, seed=1337, min_child_weight=5, learning_rate=0.001, subsample=0.8, colsample_bytree=1, silent=1, nthread=4 -  49.1s\n",
      "[CV] base_score=0.01, gamma=0.01, reg_alpha=1.0, n_estimators=15, objective=binary:logistic, max_depth=15, seed=1337, min_child_weight=5, learning_rate=0.001, subsample=0.5, colsample_bytree=1, silent=1, nthread=4 \n"
     ]
    },
    {
     "name": "stderr",
     "output_type": "stream",
     "text": [
      "/home/ubuntu/Virtualenvs/mateo/lib/python3.4/site-packages/sklearn/externals/joblib/hashing.py:197: DeprecationWarning: Changing the shape of non-C contiguous array by\n",
      "descriptor assignment is deprecated. To maintain\n",
      "the Fortran contiguity of a multidimensional Fortran\n",
      "array, use 'a.T.view(...).T' instead\n",
      "  obj_bytes_view = obj.view(self.np.uint8)\n",
      "/home/ubuntu/Virtualenvs/mateo/lib/python3.4/site-packages/sklearn/metrics/classification.py:1117: UndefinedMetricWarning: F-score is ill-defined and being set to 0.0 due to no predicted samples.\n",
      "  'precision', 'predicted', average, warn_for)\n"
     ]
    },
    {
     "name": "stdout",
     "output_type": "stream",
     "text": [
      "[CV]  base_score=0.01, gamma=0.01, reg_alpha=1.0, n_estimators=15, objective=binary:logistic, max_depth=15, seed=1337, min_child_weight=5, learning_rate=0.001, subsample=0.5, colsample_bytree=1, silent=1, nthread=4 -  46.1s\n",
      "[CV] base_score=0.01, gamma=0.01, reg_alpha=1.0, n_estimators=15, objective=binary:logistic, max_depth=15, seed=1337, min_child_weight=5, learning_rate=0.001, subsample=0.3, colsample_bytree=1, silent=1, nthread=4 \n"
     ]
    },
    {
     "name": "stderr",
     "output_type": "stream",
     "text": [
      "/home/ubuntu/Virtualenvs/mateo/lib/python3.4/site-packages/sklearn/externals/joblib/hashing.py:197: DeprecationWarning: Changing the shape of non-C contiguous array by\n",
      "descriptor assignment is deprecated. To maintain\n",
      "the Fortran contiguity of a multidimensional Fortran\n",
      "array, use 'a.T.view(...).T' instead\n",
      "  obj_bytes_view = obj.view(self.np.uint8)\n",
      "/home/ubuntu/Virtualenvs/mateo/lib/python3.4/site-packages/sklearn/metrics/classification.py:1117: UndefinedMetricWarning: F-score is ill-defined and being set to 0.0 due to no predicted samples.\n",
      "  'precision', 'predicted', average, warn_for)\n"
     ]
    },
    {
     "name": "stdout",
     "output_type": "stream",
     "text": [
      "[CV]  base_score=0.01, gamma=0.01, reg_alpha=1.0, n_estimators=15, objective=binary:logistic, max_depth=15, seed=1337, min_child_weight=5, learning_rate=0.001, subsample=0.5, colsample_bytree=1, silent=1, nthread=4 -  47.3s\n",
      "[CV] base_score=0.01, gamma=0.01, reg_alpha=1.0, n_estimators=15, objective=binary:logistic, max_depth=15, seed=1337, min_child_weight=5, learning_rate=0.001, subsample=0.3, colsample_bytree=1, silent=1, nthread=4 \n"
     ]
    },
    {
     "name": "stderr",
     "output_type": "stream",
     "text": [
      "/home/ubuntu/Virtualenvs/mateo/lib/python3.4/site-packages/sklearn/externals/joblib/hashing.py:197: DeprecationWarning: Changing the shape of non-C contiguous array by\n",
      "descriptor assignment is deprecated. To maintain\n",
      "the Fortran contiguity of a multidimensional Fortran\n",
      "array, use 'a.T.view(...).T' instead\n",
      "  obj_bytes_view = obj.view(self.np.uint8)\n",
      "/home/ubuntu/Virtualenvs/mateo/lib/python3.4/site-packages/sklearn/metrics/classification.py:1117: UndefinedMetricWarning: F-score is ill-defined and being set to 0.0 due to no predicted samples.\n",
      "  'precision', 'predicted', average, warn_for)\n"
     ]
    },
    {
     "name": "stdout",
     "output_type": "stream",
     "text": [
      "[CV]  base_score=0.01, gamma=0.01, reg_alpha=1.0, n_estimators=15, objective=binary:logistic, max_depth=15, seed=1337, min_child_weight=5, learning_rate=0.001, subsample=0.5, colsample_bytree=1, silent=1, nthread=4 -  46.7s\n",
      "[CV] base_score=0.01, gamma=0.01, reg_alpha=1.0, n_estimators=15, objective=binary:logistic, max_depth=15, seed=1337, min_child_weight=5, learning_rate=0.001, subsample=0.3, colsample_bytree=1, silent=1, nthread=4 \n"
     ]
    },
    {
     "name": "stderr",
     "output_type": "stream",
     "text": [
      "/home/ubuntu/Virtualenvs/mateo/lib/python3.4/site-packages/sklearn/externals/joblib/hashing.py:197: DeprecationWarning: Changing the shape of non-C contiguous array by\n",
      "descriptor assignment is deprecated. To maintain\n",
      "the Fortran contiguity of a multidimensional Fortran\n",
      "array, use 'a.T.view(...).T' instead\n",
      "  obj_bytes_view = obj.view(self.np.uint8)\n",
      "/home/ubuntu/Virtualenvs/mateo/lib/python3.4/site-packages/sklearn/metrics/classification.py:1117: UndefinedMetricWarning: F-score is ill-defined and being set to 0.0 due to no predicted samples.\n",
      "  'precision', 'predicted', average, warn_for)\n"
     ]
    },
    {
     "name": "stdout",
     "output_type": "stream",
     "text": [
      "[CV]  base_score=0.01, gamma=0.01, reg_alpha=1.0, n_estimators=15, objective=binary:logistic, max_depth=15, seed=1337, min_child_weight=5, learning_rate=0.001, subsample=0.3, colsample_bytree=1, silent=1, nthread=4 -  33.9s\n",
      "[CV] base_score=0.01, gamma=0.01, reg_alpha=0.01, n_estimators=30, objective=binary:logistic, max_depth=15, seed=1337, min_child_weight=5, learning_rate=0.001, subsample=0.8, colsample_bytree=1, silent=1, nthread=4 \n"
     ]
    },
    {
     "name": "stderr",
     "output_type": "stream",
     "text": [
      "/home/ubuntu/Virtualenvs/mateo/lib/python3.4/site-packages/sklearn/externals/joblib/hashing.py:197: DeprecationWarning: Changing the shape of non-C contiguous array by\n",
      "descriptor assignment is deprecated. To maintain\n",
      "the Fortran contiguity of a multidimensional Fortran\n",
      "array, use 'a.T.view(...).T' instead\n",
      "  obj_bytes_view = obj.view(self.np.uint8)\n",
      "/home/ubuntu/Virtualenvs/mateo/lib/python3.4/site-packages/sklearn/metrics/classification.py:1117: UndefinedMetricWarning: F-score is ill-defined and being set to 0.0 due to no predicted samples.\n",
      "  'precision', 'predicted', average, warn_for)\n"
     ]
    },
    {
     "name": "stdout",
     "output_type": "stream",
     "text": [
      "[CV]  base_score=0.01, gamma=0.01, reg_alpha=1.0, n_estimators=15, objective=binary:logistic, max_depth=15, seed=1337, min_child_weight=5, learning_rate=0.001, subsample=0.3, colsample_bytree=1, silent=1, nthread=4 -  33.7s\n",
      "[CV] base_score=0.01, gamma=0.01, reg_alpha=0.01, n_estimators=30, objective=binary:logistic, max_depth=15, seed=1337, min_child_weight=5, learning_rate=0.001, subsample=0.8, colsample_bytree=1, silent=1, nthread=4 \n"
     ]
    },
    {
     "name": "stderr",
     "output_type": "stream",
     "text": [
      "/home/ubuntu/Virtualenvs/mateo/lib/python3.4/site-packages/sklearn/externals/joblib/hashing.py:197: DeprecationWarning: Changing the shape of non-C contiguous array by\n",
      "descriptor assignment is deprecated. To maintain\n",
      "the Fortran contiguity of a multidimensional Fortran\n",
      "array, use 'a.T.view(...).T' instead\n",
      "  obj_bytes_view = obj.view(self.np.uint8)\n",
      "/home/ubuntu/Virtualenvs/mateo/lib/python3.4/site-packages/sklearn/metrics/classification.py:1117: UndefinedMetricWarning: F-score is ill-defined and being set to 0.0 due to no predicted samples.\n",
      "  'precision', 'predicted', average, warn_for)\n"
     ]
    },
    {
     "name": "stdout",
     "output_type": "stream",
     "text": [
      "[CV]  base_score=0.01, gamma=0.01, reg_alpha=1.0, n_estimators=15, objective=binary:logistic, max_depth=15, seed=1337, min_child_weight=5, learning_rate=0.001, subsample=0.3, colsample_bytree=1, silent=1, nthread=4 -  33.7s\n",
      "[CV] base_score=0.01, gamma=0.01, reg_alpha=0.01, n_estimators=30, objective=binary:logistic, max_depth=15, seed=1337, min_child_weight=5, learning_rate=0.001, subsample=0.8, colsample_bytree=1, silent=1, nthread=4 \n"
     ]
    },
    {
     "name": "stderr",
     "output_type": "stream",
     "text": [
      "/home/ubuntu/Virtualenvs/mateo/lib/python3.4/site-packages/sklearn/externals/joblib/hashing.py:197: DeprecationWarning: Changing the shape of non-C contiguous array by\n",
      "descriptor assignment is deprecated. To maintain\n",
      "the Fortran contiguity of a multidimensional Fortran\n",
      "array, use 'a.T.view(...).T' instead\n",
      "  obj_bytes_view = obj.view(self.np.uint8)\n",
      "/home/ubuntu/Virtualenvs/mateo/lib/python3.4/site-packages/sklearn/metrics/classification.py:1117: UndefinedMetricWarning: F-score is ill-defined and being set to 0.0 due to no predicted samples.\n",
      "  'precision', 'predicted', average, warn_for)\n"
     ]
    },
    {
     "name": "stdout",
     "output_type": "stream",
     "text": [
      "[CV]  base_score=0.01, gamma=0.01, reg_alpha=0.01, n_estimators=30, objective=binary:logistic, max_depth=15, seed=1337, min_child_weight=5, learning_rate=0.001, subsample=0.8, colsample_bytree=1, silent=1, nthread=4 - 1.8min\n",
      "[CV] base_score=0.01, gamma=0.01, reg_alpha=0.01, n_estimators=30, objective=binary:logistic, max_depth=15, seed=1337, min_child_weight=5, learning_rate=0.001, subsample=0.5, colsample_bytree=1, silent=1, nthread=4 \n"
     ]
    },
    {
     "name": "stderr",
     "output_type": "stream",
     "text": [
      "/home/ubuntu/Virtualenvs/mateo/lib/python3.4/site-packages/sklearn/externals/joblib/hashing.py:197: DeprecationWarning: Changing the shape of non-C contiguous array by\n",
      "descriptor assignment is deprecated. To maintain\n",
      "the Fortran contiguity of a multidimensional Fortran\n",
      "array, use 'a.T.view(...).T' instead\n",
      "  obj_bytes_view = obj.view(self.np.uint8)\n",
      "/home/ubuntu/Virtualenvs/mateo/lib/python3.4/site-packages/sklearn/metrics/classification.py:1117: UndefinedMetricWarning: F-score is ill-defined and being set to 0.0 due to no predicted samples.\n",
      "  'precision', 'predicted', average, warn_for)\n"
     ]
    },
    {
     "name": "stdout",
     "output_type": "stream",
     "text": [
      "[CV]  base_score=0.01, gamma=0.01, reg_alpha=0.01, n_estimators=30, objective=binary:logistic, max_depth=15, seed=1337, min_child_weight=5, learning_rate=0.001, subsample=0.8, colsample_bytree=1, silent=1, nthread=4 - 1.8min\n",
      "[CV] base_score=0.01, gamma=0.01, reg_alpha=0.01, n_estimators=30, objective=binary:logistic, max_depth=15, seed=1337, min_child_weight=5, learning_rate=0.001, subsample=0.5, colsample_bytree=1, silent=1, nthread=4 \n"
     ]
    },
    {
     "name": "stderr",
     "output_type": "stream",
     "text": [
      "/home/ubuntu/Virtualenvs/mateo/lib/python3.4/site-packages/sklearn/externals/joblib/hashing.py:197: DeprecationWarning: Changing the shape of non-C contiguous array by\n",
      "descriptor assignment is deprecated. To maintain\n",
      "the Fortran contiguity of a multidimensional Fortran\n",
      "array, use 'a.T.view(...).T' instead\n",
      "  obj_bytes_view = obj.view(self.np.uint8)\n",
      "/home/ubuntu/Virtualenvs/mateo/lib/python3.4/site-packages/sklearn/metrics/classification.py:1117: UndefinedMetricWarning: F-score is ill-defined and being set to 0.0 due to no predicted samples.\n",
      "  'precision', 'predicted', average, warn_for)\n"
     ]
    },
    {
     "name": "stdout",
     "output_type": "stream",
     "text": [
      "[CV]  base_score=0.01, gamma=0.01, reg_alpha=0.01, n_estimators=30, objective=binary:logistic, max_depth=15, seed=1337, min_child_weight=5, learning_rate=0.001, subsample=0.8, colsample_bytree=1, silent=1, nthread=4 - 1.8min\n",
      "[CV] base_score=0.01, gamma=0.01, reg_alpha=0.01, n_estimators=30, objective=binary:logistic, max_depth=15, seed=1337, min_child_weight=5, learning_rate=0.001, subsample=0.5, colsample_bytree=1, silent=1, nthread=4 \n"
     ]
    },
    {
     "name": "stderr",
     "output_type": "stream",
     "text": [
      "/home/ubuntu/Virtualenvs/mateo/lib/python3.4/site-packages/sklearn/externals/joblib/hashing.py:197: DeprecationWarning: Changing the shape of non-C contiguous array by\n",
      "descriptor assignment is deprecated. To maintain\n",
      "the Fortran contiguity of a multidimensional Fortran\n",
      "array, use 'a.T.view(...).T' instead\n",
      "  obj_bytes_view = obj.view(self.np.uint8)\n",
      "/home/ubuntu/Virtualenvs/mateo/lib/python3.4/site-packages/sklearn/metrics/classification.py:1117: UndefinedMetricWarning: F-score is ill-defined and being set to 0.0 due to no predicted samples.\n",
      "  'precision', 'predicted', average, warn_for)\n"
     ]
    },
    {
     "name": "stdout",
     "output_type": "stream",
     "text": [
      "[CV]  base_score=0.01, gamma=0.01, reg_alpha=0.01, n_estimators=30, objective=binary:logistic, max_depth=15, seed=1337, min_child_weight=5, learning_rate=0.001, subsample=0.5, colsample_bytree=1, silent=1, nthread=4 - 1.6min\n",
      "[CV] base_score=0.01, gamma=0.01, reg_alpha=0.01, n_estimators=30, objective=binary:logistic, max_depth=15, seed=1337, min_child_weight=5, learning_rate=0.001, subsample=0.3, colsample_bytree=1, silent=1, nthread=4 \n"
     ]
    },
    {
     "name": "stderr",
     "output_type": "stream",
     "text": [
      "/home/ubuntu/Virtualenvs/mateo/lib/python3.4/site-packages/sklearn/externals/joblib/hashing.py:197: DeprecationWarning: Changing the shape of non-C contiguous array by\n",
      "descriptor assignment is deprecated. To maintain\n",
      "the Fortran contiguity of a multidimensional Fortran\n",
      "array, use 'a.T.view(...).T' instead\n",
      "  obj_bytes_view = obj.view(self.np.uint8)\n",
      "/home/ubuntu/Virtualenvs/mateo/lib/python3.4/site-packages/sklearn/metrics/classification.py:1117: UndefinedMetricWarning: F-score is ill-defined and being set to 0.0 due to no predicted samples.\n",
      "  'precision', 'predicted', average, warn_for)\n"
     ]
    },
    {
     "name": "stdout",
     "output_type": "stream",
     "text": [
      "[CV]  base_score=0.01, gamma=0.01, reg_alpha=0.01, n_estimators=30, objective=binary:logistic, max_depth=15, seed=1337, min_child_weight=5, learning_rate=0.001, subsample=0.5, colsample_bytree=1, silent=1, nthread=4 - 1.6min\n",
      "[CV] base_score=0.01, gamma=0.01, reg_alpha=0.01, n_estimators=30, objective=binary:logistic, max_depth=15, seed=1337, min_child_weight=5, learning_rate=0.001, subsample=0.3, colsample_bytree=1, silent=1, nthread=4 \n"
     ]
    },
    {
     "name": "stderr",
     "output_type": "stream",
     "text": [
      "/home/ubuntu/Virtualenvs/mateo/lib/python3.4/site-packages/sklearn/externals/joblib/hashing.py:197: DeprecationWarning: Changing the shape of non-C contiguous array by\n",
      "descriptor assignment is deprecated. To maintain\n",
      "the Fortran contiguity of a multidimensional Fortran\n",
      "array, use 'a.T.view(...).T' instead\n",
      "  obj_bytes_view = obj.view(self.np.uint8)\n",
      "/home/ubuntu/Virtualenvs/mateo/lib/python3.4/site-packages/sklearn/metrics/classification.py:1117: UndefinedMetricWarning: F-score is ill-defined and being set to 0.0 due to no predicted samples.\n",
      "  'precision', 'predicted', average, warn_for)\n"
     ]
    },
    {
     "name": "stdout",
     "output_type": "stream",
     "text": [
      "[CV]  base_score=0.01, gamma=0.01, reg_alpha=0.01, n_estimators=30, objective=binary:logistic, max_depth=15, seed=1337, min_child_weight=5, learning_rate=0.001, subsample=0.5, colsample_bytree=1, silent=1, nthread=4 - 1.6min\n",
      "[CV] base_score=0.01, gamma=0.01, reg_alpha=0.01, n_estimators=30, objective=binary:logistic, max_depth=15, seed=1337, min_child_weight=5, learning_rate=0.001, subsample=0.3, colsample_bytree=1, silent=1, nthread=4 \n"
     ]
    },
    {
     "name": "stderr",
     "output_type": "stream",
     "text": [
      "/home/ubuntu/Virtualenvs/mateo/lib/python3.4/site-packages/sklearn/externals/joblib/hashing.py:197: DeprecationWarning: Changing the shape of non-C contiguous array by\n",
      "descriptor assignment is deprecated. To maintain\n",
      "the Fortran contiguity of a multidimensional Fortran\n",
      "array, use 'a.T.view(...).T' instead\n",
      "  obj_bytes_view = obj.view(self.np.uint8)\n",
      "/home/ubuntu/Virtualenvs/mateo/lib/python3.4/site-packages/sklearn/metrics/classification.py:1117: UndefinedMetricWarning: F-score is ill-defined and being set to 0.0 due to no predicted samples.\n",
      "  'precision', 'predicted', average, warn_for)\n"
     ]
    },
    {
     "name": "stdout",
     "output_type": "stream",
     "text": [
      "[CV]  base_score=0.01, gamma=0.01, reg_alpha=0.01, n_estimators=30, objective=binary:logistic, max_depth=15, seed=1337, min_child_weight=5, learning_rate=0.001, subsample=0.3, colsample_bytree=1, silent=1, nthread=4 - 1.2min\n",
      "[CV] base_score=0.01, gamma=0.01, reg_alpha=0.1, n_estimators=30, objective=binary:logistic, max_depth=15, seed=1337, min_child_weight=5, learning_rate=0.001, subsample=0.8, colsample_bytree=1, silent=1, nthread=4 \n"
     ]
    },
    {
     "name": "stderr",
     "output_type": "stream",
     "text": [
      "/home/ubuntu/Virtualenvs/mateo/lib/python3.4/site-packages/sklearn/externals/joblib/hashing.py:197: DeprecationWarning: Changing the shape of non-C contiguous array by\n",
      "descriptor assignment is deprecated. To maintain\n",
      "the Fortran contiguity of a multidimensional Fortran\n",
      "array, use 'a.T.view(...).T' instead\n",
      "  obj_bytes_view = obj.view(self.np.uint8)\n",
      "/home/ubuntu/Virtualenvs/mateo/lib/python3.4/site-packages/sklearn/metrics/classification.py:1117: UndefinedMetricWarning: F-score is ill-defined and being set to 0.0 due to no predicted samples.\n",
      "  'precision', 'predicted', average, warn_for)\n"
     ]
    },
    {
     "name": "stdout",
     "output_type": "stream",
     "text": [
      "[CV]  base_score=0.01, gamma=0.01, reg_alpha=0.01, n_estimators=30, objective=binary:logistic, max_depth=15, seed=1337, min_child_weight=5, learning_rate=0.001, subsample=0.3, colsample_bytree=1, silent=1, nthread=4 - 1.2min\n",
      "[CV] base_score=0.01, gamma=0.01, reg_alpha=0.1, n_estimators=30, objective=binary:logistic, max_depth=15, seed=1337, min_child_weight=5, learning_rate=0.001, subsample=0.8, colsample_bytree=1, silent=1, nthread=4 \n"
     ]
    },
    {
     "name": "stderr",
     "output_type": "stream",
     "text": [
      "/home/ubuntu/Virtualenvs/mateo/lib/python3.4/site-packages/sklearn/metrics/classification.py:1117: UndefinedMetricWarning: F-score is ill-defined and being set to 0.0 due to no predicted samples.\n",
      "  'precision', 'predicted', average, warn_for)\n"
     ]
    },
    {
     "name": "stdout",
     "output_type": "stream",
     "text": [
      "[CV]  base_score=0.01, gamma=0.01, reg_alpha=0.01, n_estimators=30, objective=binary:logistic, max_depth=15, seed=1337, min_child_weight=5, learning_rate=0.001, subsample=0.3, colsample_bytree=1, silent=1, nthread=4 - 1.1min\n"
     ]
    },
    {
     "name": "stderr",
     "output_type": "stream",
     "text": [
      "[Parallel(n_jobs=3)]: Done 359 tasks      | elapsed: 88.9min\n",
      "/home/ubuntu/Virtualenvs/mateo/lib/python3.4/site-packages/sklearn/externals/joblib/hashing.py:197: DeprecationWarning: Changing the shape of non-C contiguous array by\n",
      "descriptor assignment is deprecated. To maintain\n",
      "the Fortran contiguity of a multidimensional Fortran\n",
      "array, use 'a.T.view(...).T' instead\n",
      "  obj_bytes_view = obj.view(self.np.uint8)\n"
     ]
    },
    {
     "name": "stdout",
     "output_type": "stream",
     "text": [
      "[CV] base_score=0.01, gamma=0.01, reg_alpha=0.1, n_estimators=30, objective=binary:logistic, max_depth=15, seed=1337, min_child_weight=5, learning_rate=0.001, subsample=0.8, colsample_bytree=1, silent=1, nthread=4 \n"
     ]
    },
    {
     "name": "stderr",
     "output_type": "stream",
     "text": [
      "/home/ubuntu/Virtualenvs/mateo/lib/python3.4/site-packages/sklearn/externals/joblib/hashing.py:197: DeprecationWarning: Changing the shape of non-C contiguous array by\n",
      "descriptor assignment is deprecated. To maintain\n",
      "the Fortran contiguity of a multidimensional Fortran\n",
      "array, use 'a.T.view(...).T' instead\n",
      "  obj_bytes_view = obj.view(self.np.uint8)\n",
      "/home/ubuntu/Virtualenvs/mateo/lib/python3.4/site-packages/sklearn/metrics/classification.py:1117: UndefinedMetricWarning: F-score is ill-defined and being set to 0.0 due to no predicted samples.\n",
      "  'precision', 'predicted', average, warn_for)\n"
     ]
    },
    {
     "name": "stdout",
     "output_type": "stream",
     "text": [
      "[CV]  base_score=0.01, gamma=0.01, reg_alpha=0.1, n_estimators=30, objective=binary:logistic, max_depth=15, seed=1337, min_child_weight=5, learning_rate=0.001, subsample=0.8, colsample_bytree=1, silent=1, nthread=4 - 1.7min\n",
      "[CV] base_score=0.01, gamma=0.01, reg_alpha=0.1, n_estimators=30, objective=binary:logistic, max_depth=15, seed=1337, min_child_weight=5, learning_rate=0.001, subsample=0.5, colsample_bytree=1, silent=1, nthread=4 \n"
     ]
    },
    {
     "name": "stderr",
     "output_type": "stream",
     "text": [
      "/home/ubuntu/Virtualenvs/mateo/lib/python3.4/site-packages/sklearn/externals/joblib/hashing.py:197: DeprecationWarning: Changing the shape of non-C contiguous array by\n",
      "descriptor assignment is deprecated. To maintain\n",
      "the Fortran contiguity of a multidimensional Fortran\n",
      "array, use 'a.T.view(...).T' instead\n",
      "  obj_bytes_view = obj.view(self.np.uint8)\n",
      "/home/ubuntu/Virtualenvs/mateo/lib/python3.4/site-packages/sklearn/metrics/classification.py:1117: UndefinedMetricWarning: F-score is ill-defined and being set to 0.0 due to no predicted samples.\n",
      "  'precision', 'predicted', average, warn_for)\n"
     ]
    },
    {
     "name": "stdout",
     "output_type": "stream",
     "text": [
      "[CV]  base_score=0.01, gamma=0.01, reg_alpha=0.1, n_estimators=30, objective=binary:logistic, max_depth=15, seed=1337, min_child_weight=5, learning_rate=0.001, subsample=0.8, colsample_bytree=1, silent=1, nthread=4 - 1.8min\n",
      "[CV] base_score=0.01, gamma=0.01, reg_alpha=0.1, n_estimators=30, objective=binary:logistic, max_depth=15, seed=1337, min_child_weight=5, learning_rate=0.001, subsample=0.5, colsample_bytree=1, silent=1, nthread=4 \n"
     ]
    },
    {
     "name": "stderr",
     "output_type": "stream",
     "text": [
      "/home/ubuntu/Virtualenvs/mateo/lib/python3.4/site-packages/sklearn/externals/joblib/hashing.py:197: DeprecationWarning: Changing the shape of non-C contiguous array by\n",
      "descriptor assignment is deprecated. To maintain\n",
      "the Fortran contiguity of a multidimensional Fortran\n",
      "array, use 'a.T.view(...).T' instead\n",
      "  obj_bytes_view = obj.view(self.np.uint8)\n",
      "/home/ubuntu/Virtualenvs/mateo/lib/python3.4/site-packages/sklearn/metrics/classification.py:1117: UndefinedMetricWarning: F-score is ill-defined and being set to 0.0 due to no predicted samples.\n",
      "  'precision', 'predicted', average, warn_for)\n"
     ]
    },
    {
     "name": "stdout",
     "output_type": "stream",
     "text": [
      "[CV]  base_score=0.01, gamma=0.01, reg_alpha=0.1, n_estimators=30, objective=binary:logistic, max_depth=15, seed=1337, min_child_weight=5, learning_rate=0.001, subsample=0.8, colsample_bytree=1, silent=1, nthread=4 - 1.8min\n",
      "[CV] base_score=0.01, gamma=0.01, reg_alpha=0.1, n_estimators=30, objective=binary:logistic, max_depth=15, seed=1337, min_child_weight=5, learning_rate=0.001, subsample=0.5, colsample_bytree=1, silent=1, nthread=4 \n"
     ]
    },
    {
     "name": "stderr",
     "output_type": "stream",
     "text": [
      "/home/ubuntu/Virtualenvs/mateo/lib/python3.4/site-packages/sklearn/externals/joblib/hashing.py:197: DeprecationWarning: Changing the shape of non-C contiguous array by\n",
      "descriptor assignment is deprecated. To maintain\n",
      "the Fortran contiguity of a multidimensional Fortran\n",
      "array, use 'a.T.view(...).T' instead\n",
      "  obj_bytes_view = obj.view(self.np.uint8)\n",
      "/home/ubuntu/Virtualenvs/mateo/lib/python3.4/site-packages/sklearn/metrics/classification.py:1117: UndefinedMetricWarning: F-score is ill-defined and being set to 0.0 due to no predicted samples.\n",
      "  'precision', 'predicted', average, warn_for)\n"
     ]
    },
    {
     "name": "stdout",
     "output_type": "stream",
     "text": [
      "[CV]  base_score=0.01, gamma=0.01, reg_alpha=0.1, n_estimators=30, objective=binary:logistic, max_depth=15, seed=1337, min_child_weight=5, learning_rate=0.001, subsample=0.5, colsample_bytree=1, silent=1, nthread=4 - 1.6min\n",
      "[CV] base_score=0.01, gamma=0.01, reg_alpha=0.1, n_estimators=30, objective=binary:logistic, max_depth=15, seed=1337, min_child_weight=5, learning_rate=0.001, subsample=0.3, colsample_bytree=1, silent=1, nthread=4 \n"
     ]
    },
    {
     "name": "stderr",
     "output_type": "stream",
     "text": [
      "/home/ubuntu/Virtualenvs/mateo/lib/python3.4/site-packages/sklearn/externals/joblib/hashing.py:197: DeprecationWarning: Changing the shape of non-C contiguous array by\n",
      "descriptor assignment is deprecated. To maintain\n",
      "the Fortran contiguity of a multidimensional Fortran\n",
      "array, use 'a.T.view(...).T' instead\n",
      "  obj_bytes_view = obj.view(self.np.uint8)\n",
      "/home/ubuntu/Virtualenvs/mateo/lib/python3.4/site-packages/sklearn/metrics/classification.py:1117: UndefinedMetricWarning: F-score is ill-defined and being set to 0.0 due to no predicted samples.\n",
      "  'precision', 'predicted', average, warn_for)\n"
     ]
    },
    {
     "name": "stdout",
     "output_type": "stream",
     "text": [
      "[CV]  base_score=0.01, gamma=0.01, reg_alpha=0.1, n_estimators=30, objective=binary:logistic, max_depth=15, seed=1337, min_child_weight=5, learning_rate=0.001, subsample=0.5, colsample_bytree=1, silent=1, nthread=4 - 1.6min\n",
      "[CV] base_score=0.01, gamma=0.01, reg_alpha=0.1, n_estimators=30, objective=binary:logistic, max_depth=15, seed=1337, min_child_weight=5, learning_rate=0.001, subsample=0.3, colsample_bytree=1, silent=1, nthread=4 \n"
     ]
    },
    {
     "name": "stderr",
     "output_type": "stream",
     "text": [
      "/home/ubuntu/Virtualenvs/mateo/lib/python3.4/site-packages/sklearn/externals/joblib/hashing.py:197: DeprecationWarning: Changing the shape of non-C contiguous array by\n",
      "descriptor assignment is deprecated. To maintain\n",
      "the Fortran contiguity of a multidimensional Fortran\n",
      "array, use 'a.T.view(...).T' instead\n",
      "  obj_bytes_view = obj.view(self.np.uint8)\n",
      "/home/ubuntu/Virtualenvs/mateo/lib/python3.4/site-packages/sklearn/metrics/classification.py:1117: UndefinedMetricWarning: F-score is ill-defined and being set to 0.0 due to no predicted samples.\n",
      "  'precision', 'predicted', average, warn_for)\n"
     ]
    },
    {
     "name": "stdout",
     "output_type": "stream",
     "text": [
      "[CV]  base_score=0.01, gamma=0.01, reg_alpha=0.1, n_estimators=30, objective=binary:logistic, max_depth=15, seed=1337, min_child_weight=5, learning_rate=0.001, subsample=0.5, colsample_bytree=1, silent=1, nthread=4 - 1.6min\n",
      "[CV] base_score=0.01, gamma=0.01, reg_alpha=0.1, n_estimators=30, objective=binary:logistic, max_depth=15, seed=1337, min_child_weight=5, learning_rate=0.001, subsample=0.3, colsample_bytree=1, silent=1, nthread=4 \n"
     ]
    },
    {
     "name": "stderr",
     "output_type": "stream",
     "text": [
      "/home/ubuntu/Virtualenvs/mateo/lib/python3.4/site-packages/sklearn/externals/joblib/hashing.py:197: DeprecationWarning: Changing the shape of non-C contiguous array by\n",
      "descriptor assignment is deprecated. To maintain\n",
      "the Fortran contiguity of a multidimensional Fortran\n",
      "array, use 'a.T.view(...).T' instead\n",
      "  obj_bytes_view = obj.view(self.np.uint8)\n",
      "/home/ubuntu/Virtualenvs/mateo/lib/python3.4/site-packages/sklearn/metrics/classification.py:1117: UndefinedMetricWarning: F-score is ill-defined and being set to 0.0 due to no predicted samples.\n",
      "  'precision', 'predicted', average, warn_for)\n"
     ]
    },
    {
     "name": "stdout",
     "output_type": "stream",
     "text": [
      "[CV]  base_score=0.01, gamma=0.01, reg_alpha=0.1, n_estimators=30, objective=binary:logistic, max_depth=15, seed=1337, min_child_weight=5, learning_rate=0.001, subsample=0.3, colsample_bytree=1, silent=1, nthread=4 - 1.2min\n",
      "[CV] base_score=0.01, gamma=0.01, reg_alpha=1.0, n_estimators=30, objective=binary:logistic, max_depth=15, seed=1337, min_child_weight=5, learning_rate=0.001, subsample=0.8, colsample_bytree=1, silent=1, nthread=4 \n"
     ]
    },
    {
     "name": "stderr",
     "output_type": "stream",
     "text": [
      "/home/ubuntu/Virtualenvs/mateo/lib/python3.4/site-packages/sklearn/externals/joblib/hashing.py:197: DeprecationWarning: Changing the shape of non-C contiguous array by\n",
      "descriptor assignment is deprecated. To maintain\n",
      "the Fortran contiguity of a multidimensional Fortran\n",
      "array, use 'a.T.view(...).T' instead\n",
      "  obj_bytes_view = obj.view(self.np.uint8)\n",
      "/home/ubuntu/Virtualenvs/mateo/lib/python3.4/site-packages/sklearn/metrics/classification.py:1117: UndefinedMetricWarning: F-score is ill-defined and being set to 0.0 due to no predicted samples.\n",
      "  'precision', 'predicted', average, warn_for)\n"
     ]
    },
    {
     "name": "stdout",
     "output_type": "stream",
     "text": [
      "[CV]  base_score=0.01, gamma=0.01, reg_alpha=0.1, n_estimators=30, objective=binary:logistic, max_depth=15, seed=1337, min_child_weight=5, learning_rate=0.001, subsample=0.3, colsample_bytree=1, silent=1, nthread=4 - 1.1min\n",
      "[CV] base_score=0.01, gamma=0.01, reg_alpha=1.0, n_estimators=30, objective=binary:logistic, max_depth=15, seed=1337, min_child_weight=5, learning_rate=0.001, subsample=0.8, colsample_bytree=1, silent=1, nthread=4 \n"
     ]
    },
    {
     "name": "stderr",
     "output_type": "stream",
     "text": [
      "/home/ubuntu/Virtualenvs/mateo/lib/python3.4/site-packages/sklearn/externals/joblib/hashing.py:197: DeprecationWarning: Changing the shape of non-C contiguous array by\n",
      "descriptor assignment is deprecated. To maintain\n",
      "the Fortran contiguity of a multidimensional Fortran\n",
      "array, use 'a.T.view(...).T' instead\n",
      "  obj_bytes_view = obj.view(self.np.uint8)\n",
      "/home/ubuntu/Virtualenvs/mateo/lib/python3.4/site-packages/sklearn/metrics/classification.py:1117: UndefinedMetricWarning: F-score is ill-defined and being set to 0.0 due to no predicted samples.\n",
      "  'precision', 'predicted', average, warn_for)\n"
     ]
    },
    {
     "name": "stdout",
     "output_type": "stream",
     "text": [
      "[CV]  base_score=0.01, gamma=0.01, reg_alpha=0.1, n_estimators=30, objective=binary:logistic, max_depth=15, seed=1337, min_child_weight=5, learning_rate=0.001, subsample=0.3, colsample_bytree=1, silent=1, nthread=4 - 1.1min\n",
      "[CV] base_score=0.01, gamma=0.01, reg_alpha=1.0, n_estimators=30, objective=binary:logistic, max_depth=15, seed=1337, min_child_weight=5, learning_rate=0.001, subsample=0.8, colsample_bytree=1, silent=1, nthread=4 \n"
     ]
    },
    {
     "name": "stderr",
     "output_type": "stream",
     "text": [
      "/home/ubuntu/Virtualenvs/mateo/lib/python3.4/site-packages/sklearn/externals/joblib/hashing.py:197: DeprecationWarning: Changing the shape of non-C contiguous array by\n",
      "descriptor assignment is deprecated. To maintain\n",
      "the Fortran contiguity of a multidimensional Fortran\n",
      "array, use 'a.T.view(...).T' instead\n",
      "  obj_bytes_view = obj.view(self.np.uint8)\n",
      "/home/ubuntu/Virtualenvs/mateo/lib/python3.4/site-packages/sklearn/metrics/classification.py:1117: UndefinedMetricWarning: F-score is ill-defined and being set to 0.0 due to no predicted samples.\n",
      "  'precision', 'predicted', average, warn_for)\n"
     ]
    },
    {
     "name": "stdout",
     "output_type": "stream",
     "text": [
      "[CV]  base_score=0.01, gamma=0.01, reg_alpha=1.0, n_estimators=30, objective=binary:logistic, max_depth=15, seed=1337, min_child_weight=5, learning_rate=0.001, subsample=0.8, colsample_bytree=1, silent=1, nthread=4 - 1.6min\n",
      "[CV] base_score=0.01, gamma=0.01, reg_alpha=1.0, n_estimators=30, objective=binary:logistic, max_depth=15, seed=1337, min_child_weight=5, learning_rate=0.001, subsample=0.5, colsample_bytree=1, silent=1, nthread=4 \n"
     ]
    },
    {
     "name": "stderr",
     "output_type": "stream",
     "text": [
      "/home/ubuntu/Virtualenvs/mateo/lib/python3.4/site-packages/sklearn/externals/joblib/hashing.py:197: DeprecationWarning: Changing the shape of non-C contiguous array by\n",
      "descriptor assignment is deprecated. To maintain\n",
      "the Fortran contiguity of a multidimensional Fortran\n",
      "array, use 'a.T.view(...).T' instead\n",
      "  obj_bytes_view = obj.view(self.np.uint8)\n",
      "/home/ubuntu/Virtualenvs/mateo/lib/python3.4/site-packages/sklearn/metrics/classification.py:1117: UndefinedMetricWarning: F-score is ill-defined and being set to 0.0 due to no predicted samples.\n",
      "  'precision', 'predicted', average, warn_for)\n"
     ]
    },
    {
     "name": "stdout",
     "output_type": "stream",
     "text": [
      "[CV]  base_score=0.01, gamma=0.01, reg_alpha=1.0, n_estimators=30, objective=binary:logistic, max_depth=15, seed=1337, min_child_weight=5, learning_rate=0.001, subsample=0.8, colsample_bytree=1, silent=1, nthread=4 - 1.6min\n",
      "[CV] base_score=0.01, gamma=0.01, reg_alpha=1.0, n_estimators=30, objective=binary:logistic, max_depth=15, seed=1337, min_child_weight=5, learning_rate=0.001, subsample=0.5, colsample_bytree=1, silent=1, nthread=4 \n"
     ]
    },
    {
     "name": "stderr",
     "output_type": "stream",
     "text": [
      "/home/ubuntu/Virtualenvs/mateo/lib/python3.4/site-packages/sklearn/externals/joblib/hashing.py:197: DeprecationWarning: Changing the shape of non-C contiguous array by\n",
      "descriptor assignment is deprecated. To maintain\n",
      "the Fortran contiguity of a multidimensional Fortran\n",
      "array, use 'a.T.view(...).T' instead\n",
      "  obj_bytes_view = obj.view(self.np.uint8)\n",
      "/home/ubuntu/Virtualenvs/mateo/lib/python3.4/site-packages/sklearn/metrics/classification.py:1117: UndefinedMetricWarning: F-score is ill-defined and being set to 0.0 due to no predicted samples.\n",
      "  'precision', 'predicted', average, warn_for)\n"
     ]
    },
    {
     "name": "stdout",
     "output_type": "stream",
     "text": [
      "[CV]  base_score=0.01, gamma=0.01, reg_alpha=1.0, n_estimators=30, objective=binary:logistic, max_depth=15, seed=1337, min_child_weight=5, learning_rate=0.001, subsample=0.8, colsample_bytree=1, silent=1, nthread=4 - 1.6min\n",
      "[CV] base_score=0.01, gamma=0.01, reg_alpha=1.0, n_estimators=30, objective=binary:logistic, max_depth=15, seed=1337, min_child_weight=5, learning_rate=0.001, subsample=0.5, colsample_bytree=1, silent=1, nthread=4 \n"
     ]
    },
    {
     "name": "stderr",
     "output_type": "stream",
     "text": [
      "/home/ubuntu/Virtualenvs/mateo/lib/python3.4/site-packages/sklearn/externals/joblib/hashing.py:197: DeprecationWarning: Changing the shape of non-C contiguous array by\n",
      "descriptor assignment is deprecated. To maintain\n",
      "the Fortran contiguity of a multidimensional Fortran\n",
      "array, use 'a.T.view(...).T' instead\n",
      "  obj_bytes_view = obj.view(self.np.uint8)\n",
      "/home/ubuntu/Virtualenvs/mateo/lib/python3.4/site-packages/sklearn/metrics/classification.py:1117: UndefinedMetricWarning: F-score is ill-defined and being set to 0.0 due to no predicted samples.\n",
      "  'precision', 'predicted', average, warn_for)\n"
     ]
    },
    {
     "name": "stdout",
     "output_type": "stream",
     "text": [
      "[CV]  base_score=0.01, gamma=0.01, reg_alpha=1.0, n_estimators=30, objective=binary:logistic, max_depth=15, seed=1337, min_child_weight=5, learning_rate=0.001, subsample=0.5, colsample_bytree=1, silent=1, nthread=4 - 1.9min\n",
      "[CV] base_score=0.01, gamma=0.01, reg_alpha=1.0, n_estimators=30, objective=binary:logistic, max_depth=15, seed=1337, min_child_weight=5, learning_rate=0.001, subsample=0.3, colsample_bytree=1, silent=1, nthread=4 \n"
     ]
    },
    {
     "name": "stderr",
     "output_type": "stream",
     "text": [
      "/home/ubuntu/Virtualenvs/mateo/lib/python3.4/site-packages/sklearn/externals/joblib/hashing.py:197: DeprecationWarning: Changing the shape of non-C contiguous array by\n",
      "descriptor assignment is deprecated. To maintain\n",
      "the Fortran contiguity of a multidimensional Fortran\n",
      "array, use 'a.T.view(...).T' instead\n",
      "  obj_bytes_view = obj.view(self.np.uint8)\n",
      "/home/ubuntu/Virtualenvs/mateo/lib/python3.4/site-packages/sklearn/metrics/classification.py:1117: UndefinedMetricWarning: F-score is ill-defined and being set to 0.0 due to no predicted samples.\n",
      "  'precision', 'predicted', average, warn_for)\n"
     ]
    },
    {
     "name": "stdout",
     "output_type": "stream",
     "text": [
      "[CV]  base_score=0.01, gamma=0.01, reg_alpha=1.0, n_estimators=30, objective=binary:logistic, max_depth=15, seed=1337, min_child_weight=5, learning_rate=0.001, subsample=0.5, colsample_bytree=1, silent=1, nthread=4 - 1.8min\n",
      "[CV] base_score=0.01, gamma=0.01, reg_alpha=1.0, n_estimators=30, objective=binary:logistic, max_depth=15, seed=1337, min_child_weight=5, learning_rate=0.001, subsample=0.3, colsample_bytree=1, silent=1, nthread=4 \n"
     ]
    },
    {
     "name": "stderr",
     "output_type": "stream",
     "text": [
      "/home/ubuntu/Virtualenvs/mateo/lib/python3.4/site-packages/sklearn/externals/joblib/hashing.py:197: DeprecationWarning: Changing the shape of non-C contiguous array by\n",
      "descriptor assignment is deprecated. To maintain\n",
      "the Fortran contiguity of a multidimensional Fortran\n",
      "array, use 'a.T.view(...).T' instead\n",
      "  obj_bytes_view = obj.view(self.np.uint8)\n",
      "/home/ubuntu/Virtualenvs/mateo/lib/python3.4/site-packages/sklearn/metrics/classification.py:1117: UndefinedMetricWarning: F-score is ill-defined and being set to 0.0 due to no predicted samples.\n",
      "  'precision', 'predicted', average, warn_for)\n"
     ]
    },
    {
     "name": "stdout",
     "output_type": "stream",
     "text": [
      "[CV]  base_score=0.01, gamma=0.01, reg_alpha=1.0, n_estimators=30, objective=binary:logistic, max_depth=15, seed=1337, min_child_weight=5, learning_rate=0.001, subsample=0.5, colsample_bytree=1, silent=1, nthread=4 - 1.9min\n",
      "[CV] base_score=0.01, gamma=0.01, reg_alpha=1.0, n_estimators=30, objective=binary:logistic, max_depth=15, seed=1337, min_child_weight=5, learning_rate=0.001, subsample=0.3, colsample_bytree=1, silent=1, nthread=4 \n"
     ]
    },
    {
     "name": "stderr",
     "output_type": "stream",
     "text": [
      "/home/ubuntu/Virtualenvs/mateo/lib/python3.4/site-packages/sklearn/externals/joblib/hashing.py:197: DeprecationWarning: Changing the shape of non-C contiguous array by\n",
      "descriptor assignment is deprecated. To maintain\n",
      "the Fortran contiguity of a multidimensional Fortran\n",
      "array, use 'a.T.view(...).T' instead\n",
      "  obj_bytes_view = obj.view(self.np.uint8)\n",
      "/home/ubuntu/Virtualenvs/mateo/lib/python3.4/site-packages/sklearn/metrics/classification.py:1117: UndefinedMetricWarning: F-score is ill-defined and being set to 0.0 due to no predicted samples.\n",
      "  'precision', 'predicted', average, warn_for)\n"
     ]
    },
    {
     "name": "stdout",
     "output_type": "stream",
     "text": [
      "[CV]  base_score=0.01, gamma=0.01, reg_alpha=1.0, n_estimators=30, objective=binary:logistic, max_depth=15, seed=1337, min_child_weight=5, learning_rate=0.001, subsample=0.3, colsample_bytree=1, silent=1, nthread=4 - 1.0min\n",
      "[CV] base_score=0.01, gamma=0.01, reg_alpha=0.01, n_estimators=15, objective=binary:logistic, max_depth=15, seed=1337, min_child_weight=2, learning_rate=0.001, subsample=0.8, colsample_bytree=1, silent=1, nthread=4 \n"
     ]
    },
    {
     "name": "stderr",
     "output_type": "stream",
     "text": [
      "/home/ubuntu/Virtualenvs/mateo/lib/python3.4/site-packages/sklearn/externals/joblib/hashing.py:197: DeprecationWarning: Changing the shape of non-C contiguous array by\n",
      "descriptor assignment is deprecated. To maintain\n",
      "the Fortran contiguity of a multidimensional Fortran\n",
      "array, use 'a.T.view(...).T' instead\n",
      "  obj_bytes_view = obj.view(self.np.uint8)\n",
      "/home/ubuntu/Virtualenvs/mateo/lib/python3.4/site-packages/sklearn/metrics/classification.py:1117: UndefinedMetricWarning: F-score is ill-defined and being set to 0.0 due to no predicted samples.\n",
      "  'precision', 'predicted', average, warn_for)\n"
     ]
    },
    {
     "name": "stdout",
     "output_type": "stream",
     "text": [
      "[CV]  base_score=0.01, gamma=0.01, reg_alpha=1.0, n_estimators=30, objective=binary:logistic, max_depth=15, seed=1337, min_child_weight=5, learning_rate=0.001, subsample=0.3, colsample_bytree=1, silent=1, nthread=4 - 1.1min\n",
      "[CV] base_score=0.01, gamma=0.01, reg_alpha=0.01, n_estimators=15, objective=binary:logistic, max_depth=15, seed=1337, min_child_weight=2, learning_rate=0.001, subsample=0.8, colsample_bytree=1, silent=1, nthread=4 \n"
     ]
    },
    {
     "name": "stderr",
     "output_type": "stream",
     "text": [
      "/home/ubuntu/Virtualenvs/mateo/lib/python3.4/site-packages/sklearn/externals/joblib/hashing.py:197: DeprecationWarning: Changing the shape of non-C contiguous array by\n",
      "descriptor assignment is deprecated. To maintain\n",
      "the Fortran contiguity of a multidimensional Fortran\n",
      "array, use 'a.T.view(...).T' instead\n",
      "  obj_bytes_view = obj.view(self.np.uint8)\n",
      "/home/ubuntu/Virtualenvs/mateo/lib/python3.4/site-packages/sklearn/metrics/classification.py:1117: UndefinedMetricWarning: F-score is ill-defined and being set to 0.0 due to no predicted samples.\n",
      "  'precision', 'predicted', average, warn_for)\n"
     ]
    },
    {
     "name": "stdout",
     "output_type": "stream",
     "text": [
      "[CV]  base_score=0.01, gamma=0.01, reg_alpha=1.0, n_estimators=30, objective=binary:logistic, max_depth=15, seed=1337, min_child_weight=5, learning_rate=0.001, subsample=0.3, colsample_bytree=1, silent=1, nthread=4 - 1.1min\n",
      "[CV] base_score=0.01, gamma=0.01, reg_alpha=0.01, n_estimators=15, objective=binary:logistic, max_depth=15, seed=1337, min_child_weight=2, learning_rate=0.001, subsample=0.8, colsample_bytree=1, silent=1, nthread=4 \n"
     ]
    },
    {
     "name": "stderr",
     "output_type": "stream",
     "text": [
      "/home/ubuntu/Virtualenvs/mateo/lib/python3.4/site-packages/sklearn/externals/joblib/hashing.py:197: DeprecationWarning: Changing the shape of non-C contiguous array by\n",
      "descriptor assignment is deprecated. To maintain\n",
      "the Fortran contiguity of a multidimensional Fortran\n",
      "array, use 'a.T.view(...).T' instead\n",
      "  obj_bytes_view = obj.view(self.np.uint8)\n",
      "/home/ubuntu/Virtualenvs/mateo/lib/python3.4/site-packages/sklearn/metrics/classification.py:1117: UndefinedMetricWarning: F-score is ill-defined and being set to 0.0 due to no predicted samples.\n",
      "  'precision', 'predicted', average, warn_for)\n"
     ]
    },
    {
     "name": "stdout",
     "output_type": "stream",
     "text": [
      "[CV]  base_score=0.01, gamma=0.01, reg_alpha=0.01, n_estimators=15, objective=binary:logistic, max_depth=15, seed=1337, min_child_weight=2, learning_rate=0.001, subsample=0.8, colsample_bytree=1, silent=1, nthread=4 - 1.1min\n",
      "[CV] base_score=0.01, gamma=0.01, reg_alpha=0.01, n_estimators=15, objective=binary:logistic, max_depth=15, seed=1337, min_child_weight=2, learning_rate=0.001, subsample=0.5, colsample_bytree=1, silent=1, nthread=4 \n"
     ]
    },
    {
     "name": "stderr",
     "output_type": "stream",
     "text": [
      "/home/ubuntu/Virtualenvs/mateo/lib/python3.4/site-packages/sklearn/externals/joblib/hashing.py:197: DeprecationWarning: Changing the shape of non-C contiguous array by\n",
      "descriptor assignment is deprecated. To maintain\n",
      "the Fortran contiguity of a multidimensional Fortran\n",
      "array, use 'a.T.view(...).T' instead\n",
      "  obj_bytes_view = obj.view(self.np.uint8)\n",
      "/home/ubuntu/Virtualenvs/mateo/lib/python3.4/site-packages/sklearn/metrics/classification.py:1117: UndefinedMetricWarning: F-score is ill-defined and being set to 0.0 due to no predicted samples.\n",
      "  'precision', 'predicted', average, warn_for)\n"
     ]
    },
    {
     "name": "stdout",
     "output_type": "stream",
     "text": [
      "[CV]  base_score=0.01, gamma=0.01, reg_alpha=0.01, n_estimators=15, objective=binary:logistic, max_depth=15, seed=1337, min_child_weight=2, learning_rate=0.001, subsample=0.8, colsample_bytree=1, silent=1, nthread=4 - 1.1min\n",
      "[CV] base_score=0.01, gamma=0.01, reg_alpha=0.01, n_estimators=15, objective=binary:logistic, max_depth=15, seed=1337, min_child_weight=2, learning_rate=0.001, subsample=0.5, colsample_bytree=1, silent=1, nthread=4 \n"
     ]
    },
    {
     "name": "stderr",
     "output_type": "stream",
     "text": [
      "/home/ubuntu/Virtualenvs/mateo/lib/python3.4/site-packages/sklearn/externals/joblib/hashing.py:197: DeprecationWarning: Changing the shape of non-C contiguous array by\n",
      "descriptor assignment is deprecated. To maintain\n",
      "the Fortran contiguity of a multidimensional Fortran\n",
      "array, use 'a.T.view(...).T' instead\n",
      "  obj_bytes_view = obj.view(self.np.uint8)\n",
      "/home/ubuntu/Virtualenvs/mateo/lib/python3.4/site-packages/sklearn/metrics/classification.py:1117: UndefinedMetricWarning: F-score is ill-defined and being set to 0.0 due to no predicted samples.\n",
      "  'precision', 'predicted', average, warn_for)\n"
     ]
    },
    {
     "name": "stdout",
     "output_type": "stream",
     "text": [
      "[CV]  base_score=0.01, gamma=0.01, reg_alpha=0.01, n_estimators=15, objective=binary:logistic, max_depth=15, seed=1337, min_child_weight=2, learning_rate=0.001, subsample=0.8, colsample_bytree=1, silent=1, nthread=4 - 1.0min\n",
      "[CV] base_score=0.01, gamma=0.01, reg_alpha=0.01, n_estimators=15, objective=binary:logistic, max_depth=15, seed=1337, min_child_weight=2, learning_rate=0.001, subsample=0.5, colsample_bytree=1, silent=1, nthread=4 \n"
     ]
    },
    {
     "name": "stderr",
     "output_type": "stream",
     "text": [
      "/home/ubuntu/Virtualenvs/mateo/lib/python3.4/site-packages/sklearn/externals/joblib/hashing.py:197: DeprecationWarning: Changing the shape of non-C contiguous array by\n",
      "descriptor assignment is deprecated. To maintain\n",
      "the Fortran contiguity of a multidimensional Fortran\n",
      "array, use 'a.T.view(...).T' instead\n",
      "  obj_bytes_view = obj.view(self.np.uint8)\n",
      "/home/ubuntu/Virtualenvs/mateo/lib/python3.4/site-packages/sklearn/metrics/classification.py:1117: UndefinedMetricWarning: F-score is ill-defined and being set to 0.0 due to no predicted samples.\n",
      "  'precision', 'predicted', average, warn_for)\n"
     ]
    },
    {
     "name": "stdout",
     "output_type": "stream",
     "text": [
      "[CV]  base_score=0.01, gamma=0.01, reg_alpha=0.01, n_estimators=15, objective=binary:logistic, max_depth=15, seed=1337, min_child_weight=2, learning_rate=0.001, subsample=0.5, colsample_bytree=1, silent=1, nthread=4 -  59.6s\n",
      "[CV] base_score=0.01, gamma=0.01, reg_alpha=0.01, n_estimators=15, objective=binary:logistic, max_depth=15, seed=1337, min_child_weight=2, learning_rate=0.001, subsample=0.3, colsample_bytree=1, silent=1, nthread=4 \n"
     ]
    },
    {
     "name": "stderr",
     "output_type": "stream",
     "text": [
      "/home/ubuntu/Virtualenvs/mateo/lib/python3.4/site-packages/sklearn/externals/joblib/hashing.py:197: DeprecationWarning: Changing the shape of non-C contiguous array by\n",
      "descriptor assignment is deprecated. To maintain\n",
      "the Fortran contiguity of a multidimensional Fortran\n",
      "array, use 'a.T.view(...).T' instead\n",
      "  obj_bytes_view = obj.view(self.np.uint8)\n",
      "/home/ubuntu/Virtualenvs/mateo/lib/python3.4/site-packages/sklearn/metrics/classification.py:1117: UndefinedMetricWarning: F-score is ill-defined and being set to 0.0 due to no predicted samples.\n",
      "  'precision', 'predicted', average, warn_for)\n"
     ]
    },
    {
     "name": "stdout",
     "output_type": "stream",
     "text": [
      "[CV]  base_score=0.01, gamma=0.01, reg_alpha=0.01, n_estimators=15, objective=binary:logistic, max_depth=15, seed=1337, min_child_weight=2, learning_rate=0.001, subsample=0.5, colsample_bytree=1, silent=1, nthread=4 -  58.4s\n"
     ]
    },
    {
     "name": "stderr",
     "output_type": "stream",
     "text": [
      "/home/ubuntu/Virtualenvs/mateo/lib/python3.4/site-packages/sklearn/metrics/classification.py:1117: UndefinedMetricWarning: F-score is ill-defined and being set to 0.0 due to no predicted samples.\n",
      "  'precision', 'predicted', average, warn_for)\n"
     ]
    },
    {
     "name": "stdout",
     "output_type": "stream",
     "text": [
      "[CV]  base_score=0.01, gamma=0.01, reg_alpha=0.01, n_estimators=15, objective=binary:logistic, max_depth=15, seed=1337, min_child_weight=2, learning_rate=0.001, subsample=0.5, colsample_bytree=1, silent=1, nthread=4 - 1.0min\n",
      "[CV] base_score=0.01, gamma=0.01, reg_alpha=0.01, n_estimators=15, objective=binary:logistic, max_depth=15, seed=1337, min_child_weight=2, learning_rate=0.001, subsample=0.3, colsample_bytree=1, silent=1, nthread=4 \n"
     ]
    },
    {
     "name": "stderr",
     "output_type": "stream",
     "text": [
      "/home/ubuntu/Virtualenvs/mateo/lib/python3.4/site-packages/sklearn/externals/joblib/hashing.py:197: DeprecationWarning: Changing the shape of non-C contiguous array by\n",
      "descriptor assignment is deprecated. To maintain\n",
      "the Fortran contiguity of a multidimensional Fortran\n",
      "array, use 'a.T.view(...).T' instead\n",
      "  obj_bytes_view = obj.view(self.np.uint8)\n"
     ]
    },
    {
     "name": "stdout",
     "output_type": "stream",
     "text": [
      "[CV] base_score=0.01, gamma=0.01, reg_alpha=0.01, n_estimators=15, objective=binary:logistic, max_depth=15, seed=1337, min_child_weight=2, learning_rate=0.001, subsample=0.3, colsample_bytree=1, silent=1, nthread=4 \n"
     ]
    },
    {
     "name": "stderr",
     "output_type": "stream",
     "text": [
      "/home/ubuntu/Virtualenvs/mateo/lib/python3.4/site-packages/sklearn/externals/joblib/hashing.py:197: DeprecationWarning: Changing the shape of non-C contiguous array by\n",
      "descriptor assignment is deprecated. To maintain\n",
      "the Fortran contiguity of a multidimensional Fortran\n",
      "array, use 'a.T.view(...).T' instead\n",
      "  obj_bytes_view = obj.view(self.np.uint8)\n",
      "/home/ubuntu/Virtualenvs/mateo/lib/python3.4/site-packages/sklearn/metrics/classification.py:1117: UndefinedMetricWarning: F-score is ill-defined and being set to 0.0 due to no predicted samples.\n",
      "  'precision', 'predicted', average, warn_for)\n"
     ]
    },
    {
     "name": "stdout",
     "output_type": "stream",
     "text": [
      "[CV]  base_score=0.01, gamma=0.01, reg_alpha=0.01, n_estimators=15, objective=binary:logistic, max_depth=15, seed=1337, min_child_weight=2, learning_rate=0.001, subsample=0.3, colsample_bytree=1, silent=1, nthread=4 -  41.7s\n",
      "[CV] base_score=0.01, gamma=0.01, reg_alpha=0.1, n_estimators=15, objective=binary:logistic, max_depth=15, seed=1337, min_child_weight=2, learning_rate=0.001, subsample=0.8, colsample_bytree=1, silent=1, nthread=4 \n"
     ]
    },
    {
     "name": "stderr",
     "output_type": "stream",
     "text": [
      "/home/ubuntu/Virtualenvs/mateo/lib/python3.4/site-packages/sklearn/externals/joblib/hashing.py:197: DeprecationWarning: Changing the shape of non-C contiguous array by\n",
      "descriptor assignment is deprecated. To maintain\n",
      "the Fortran contiguity of a multidimensional Fortran\n",
      "array, use 'a.T.view(...).T' instead\n",
      "  obj_bytes_view = obj.view(self.np.uint8)\n",
      "/home/ubuntu/Virtualenvs/mateo/lib/python3.4/site-packages/sklearn/metrics/classification.py:1117: UndefinedMetricWarning: F-score is ill-defined and being set to 0.0 due to no predicted samples.\n",
      "  'precision', 'predicted', average, warn_for)\n"
     ]
    },
    {
     "name": "stdout",
     "output_type": "stream",
     "text": [
      "[CV]  base_score=0.01, gamma=0.01, reg_alpha=0.01, n_estimators=15, objective=binary:logistic, max_depth=15, seed=1337, min_child_weight=2, learning_rate=0.001, subsample=0.3, colsample_bytree=1, silent=1, nthread=4 -  45.2s\n",
      "[CV] base_score=0.01, gamma=0.01, reg_alpha=0.1, n_estimators=15, objective=binary:logistic, max_depth=15, seed=1337, min_child_weight=2, learning_rate=0.001, subsample=0.8, colsample_bytree=1, silent=1, nthread=4 \n"
     ]
    },
    {
     "name": "stderr",
     "output_type": "stream",
     "text": [
      "/home/ubuntu/Virtualenvs/mateo/lib/python3.4/site-packages/sklearn/externals/joblib/hashing.py:197: DeprecationWarning: Changing the shape of non-C contiguous array by\n",
      "descriptor assignment is deprecated. To maintain\n",
      "the Fortran contiguity of a multidimensional Fortran\n",
      "array, use 'a.T.view(...).T' instead\n",
      "  obj_bytes_view = obj.view(self.np.uint8)\n",
      "/home/ubuntu/Virtualenvs/mateo/lib/python3.4/site-packages/sklearn/metrics/classification.py:1117: UndefinedMetricWarning: F-score is ill-defined and being set to 0.0 due to no predicted samples.\n",
      "  'precision', 'predicted', average, warn_for)\n"
     ]
    },
    {
     "name": "stdout",
     "output_type": "stream",
     "text": [
      "[CV]  base_score=0.01, gamma=0.01, reg_alpha=0.01, n_estimators=15, objective=binary:logistic, max_depth=15, seed=1337, min_child_weight=2, learning_rate=0.001, subsample=0.3, colsample_bytree=1, silent=1, nthread=4 -  45.5s\n",
      "[CV] base_score=0.01, gamma=0.01, reg_alpha=0.1, n_estimators=15, objective=binary:logistic, max_depth=15, seed=1337, min_child_weight=2, learning_rate=0.001, subsample=0.8, colsample_bytree=1, silent=1, nthread=4 \n"
     ]
    },
    {
     "name": "stderr",
     "output_type": "stream",
     "text": [
      "/home/ubuntu/Virtualenvs/mateo/lib/python3.4/site-packages/sklearn/externals/joblib/hashing.py:197: DeprecationWarning: Changing the shape of non-C contiguous array by\n",
      "descriptor assignment is deprecated. To maintain\n",
      "the Fortran contiguity of a multidimensional Fortran\n",
      "array, use 'a.T.view(...).T' instead\n",
      "  obj_bytes_view = obj.view(self.np.uint8)\n",
      "/home/ubuntu/Virtualenvs/mateo/lib/python3.4/site-packages/sklearn/metrics/classification.py:1117: UndefinedMetricWarning: F-score is ill-defined and being set to 0.0 due to no predicted samples.\n",
      "  'precision', 'predicted', average, warn_for)\n"
     ]
    },
    {
     "name": "stdout",
     "output_type": "stream",
     "text": [
      "[CV]  base_score=0.01, gamma=0.01, reg_alpha=0.1, n_estimators=15, objective=binary:logistic, max_depth=15, seed=1337, min_child_weight=2, learning_rate=0.001, subsample=0.8, colsample_bytree=1, silent=1, nthread=4 - 1.0min\n",
      "[CV] base_score=0.01, gamma=0.01, reg_alpha=0.1, n_estimators=15, objective=binary:logistic, max_depth=15, seed=1337, min_child_weight=2, learning_rate=0.001, subsample=0.5, colsample_bytree=1, silent=1, nthread=4 \n"
     ]
    },
    {
     "name": "stderr",
     "output_type": "stream",
     "text": [
      "/home/ubuntu/Virtualenvs/mateo/lib/python3.4/site-packages/sklearn/externals/joblib/hashing.py:197: DeprecationWarning: Changing the shape of non-C contiguous array by\n",
      "descriptor assignment is deprecated. To maintain\n",
      "the Fortran contiguity of a multidimensional Fortran\n",
      "array, use 'a.T.view(...).T' instead\n",
      "  obj_bytes_view = obj.view(self.np.uint8)\n",
      "/home/ubuntu/Virtualenvs/mateo/lib/python3.4/site-packages/sklearn/metrics/classification.py:1117: UndefinedMetricWarning: F-score is ill-defined and being set to 0.0 due to no predicted samples.\n",
      "  'precision', 'predicted', average, warn_for)\n"
     ]
    },
    {
     "name": "stdout",
     "output_type": "stream",
     "text": [
      "[CV]  base_score=0.01, gamma=0.01, reg_alpha=0.1, n_estimators=15, objective=binary:logistic, max_depth=15, seed=1337, min_child_weight=2, learning_rate=0.001, subsample=0.8, colsample_bytree=1, silent=1, nthread=4 - 1.0min\n",
      "[CV] base_score=0.01, gamma=0.01, reg_alpha=0.1, n_estimators=15, objective=binary:logistic, max_depth=15, seed=1337, min_child_weight=2, learning_rate=0.001, subsample=0.5, colsample_bytree=1, silent=1, nthread=4 \n"
     ]
    },
    {
     "name": "stderr",
     "output_type": "stream",
     "text": [
      "/home/ubuntu/Virtualenvs/mateo/lib/python3.4/site-packages/sklearn/externals/joblib/hashing.py:197: DeprecationWarning: Changing the shape of non-C contiguous array by\n",
      "descriptor assignment is deprecated. To maintain\n",
      "the Fortran contiguity of a multidimensional Fortran\n",
      "array, use 'a.T.view(...).T' instead\n",
      "  obj_bytes_view = obj.view(self.np.uint8)\n",
      "/home/ubuntu/Virtualenvs/mateo/lib/python3.4/site-packages/sklearn/metrics/classification.py:1117: UndefinedMetricWarning: F-score is ill-defined and being set to 0.0 due to no predicted samples.\n",
      "  'precision', 'predicted', average, warn_for)\n"
     ]
    },
    {
     "name": "stdout",
     "output_type": "stream",
     "text": [
      "[CV]  base_score=0.01, gamma=0.01, reg_alpha=0.1, n_estimators=15, objective=binary:logistic, max_depth=15, seed=1337, min_child_weight=2, learning_rate=0.001, subsample=0.8, colsample_bytree=1, silent=1, nthread=4 - 1.1min\n",
      "[CV] base_score=0.01, gamma=0.01, reg_alpha=0.1, n_estimators=15, objective=binary:logistic, max_depth=15, seed=1337, min_child_weight=2, learning_rate=0.001, subsample=0.5, colsample_bytree=1, silent=1, nthread=4 \n"
     ]
    },
    {
     "name": "stderr",
     "output_type": "stream",
     "text": [
      "/home/ubuntu/Virtualenvs/mateo/lib/python3.4/site-packages/sklearn/externals/joblib/hashing.py:197: DeprecationWarning: Changing the shape of non-C contiguous array by\n",
      "descriptor assignment is deprecated. To maintain\n",
      "the Fortran contiguity of a multidimensional Fortran\n",
      "array, use 'a.T.view(...).T' instead\n",
      "  obj_bytes_view = obj.view(self.np.uint8)\n",
      "/home/ubuntu/Virtualenvs/mateo/lib/python3.4/site-packages/sklearn/metrics/classification.py:1117: UndefinedMetricWarning: F-score is ill-defined and being set to 0.0 due to no predicted samples.\n",
      "  'precision', 'predicted', average, warn_for)\n"
     ]
    },
    {
     "name": "stdout",
     "output_type": "stream",
     "text": [
      "[CV]  base_score=0.01, gamma=0.01, reg_alpha=0.1, n_estimators=15, objective=binary:logistic, max_depth=15, seed=1337, min_child_weight=2, learning_rate=0.001, subsample=0.5, colsample_bytree=1, silent=1, nthread=4 - 1.5min\n",
      "[CV] base_score=0.01, gamma=0.01, reg_alpha=0.1, n_estimators=15, objective=binary:logistic, max_depth=15, seed=1337, min_child_weight=2, learning_rate=0.001, subsample=0.3, colsample_bytree=1, silent=1, nthread=4 \n"
     ]
    },
    {
     "name": "stderr",
     "output_type": "stream",
     "text": [
      "/home/ubuntu/Virtualenvs/mateo/lib/python3.4/site-packages/sklearn/externals/joblib/hashing.py:197: DeprecationWarning: Changing the shape of non-C contiguous array by\n",
      "descriptor assignment is deprecated. To maintain\n",
      "the Fortran contiguity of a multidimensional Fortran\n",
      "array, use 'a.T.view(...).T' instead\n",
      "  obj_bytes_view = obj.view(self.np.uint8)\n",
      "/home/ubuntu/Virtualenvs/mateo/lib/python3.4/site-packages/sklearn/metrics/classification.py:1117: UndefinedMetricWarning: F-score is ill-defined and being set to 0.0 due to no predicted samples.\n",
      "  'precision', 'predicted', average, warn_for)\n"
     ]
    },
    {
     "name": "stdout",
     "output_type": "stream",
     "text": [
      "[CV]  base_score=0.01, gamma=0.01, reg_alpha=0.1, n_estimators=15, objective=binary:logistic, max_depth=15, seed=1337, min_child_weight=2, learning_rate=0.001, subsample=0.5, colsample_bytree=1, silent=1, nthread=4 - 1.7min\n",
      "[CV] base_score=0.01, gamma=0.01, reg_alpha=0.1, n_estimators=15, objective=binary:logistic, max_depth=15, seed=1337, min_child_weight=2, learning_rate=0.001, subsample=0.3, colsample_bytree=1, silent=1, nthread=4 \n"
     ]
    },
    {
     "name": "stderr",
     "output_type": "stream",
     "text": [
      "/home/ubuntu/Virtualenvs/mateo/lib/python3.4/site-packages/sklearn/externals/joblib/hashing.py:197: DeprecationWarning: Changing the shape of non-C contiguous array by\n",
      "descriptor assignment is deprecated. To maintain\n",
      "the Fortran contiguity of a multidimensional Fortran\n",
      "array, use 'a.T.view(...).T' instead\n",
      "  obj_bytes_view = obj.view(self.np.uint8)\n",
      "/home/ubuntu/Virtualenvs/mateo/lib/python3.4/site-packages/sklearn/metrics/classification.py:1117: UndefinedMetricWarning: F-score is ill-defined and being set to 0.0 due to no predicted samples.\n",
      "  'precision', 'predicted', average, warn_for)\n"
     ]
    },
    {
     "name": "stdout",
     "output_type": "stream",
     "text": [
      "[CV]  base_score=0.01, gamma=0.01, reg_alpha=0.1, n_estimators=15, objective=binary:logistic, max_depth=15, seed=1337, min_child_weight=2, learning_rate=0.001, subsample=0.5, colsample_bytree=1, silent=1, nthread=4 - 1.7min\n",
      "[CV] base_score=0.01, gamma=0.01, reg_alpha=0.1, n_estimators=15, objective=binary:logistic, max_depth=15, seed=1337, min_child_weight=2, learning_rate=0.001, subsample=0.3, colsample_bytree=1, silent=1, nthread=4 \n"
     ]
    },
    {
     "name": "stderr",
     "output_type": "stream",
     "text": [
      "/home/ubuntu/Virtualenvs/mateo/lib/python3.4/site-packages/sklearn/externals/joblib/hashing.py:197: DeprecationWarning: Changing the shape of non-C contiguous array by\n",
      "descriptor assignment is deprecated. To maintain\n",
      "the Fortran contiguity of a multidimensional Fortran\n",
      "array, use 'a.T.view(...).T' instead\n",
      "  obj_bytes_view = obj.view(self.np.uint8)\n",
      "/home/ubuntu/Virtualenvs/mateo/lib/python3.4/site-packages/sklearn/metrics/classification.py:1117: UndefinedMetricWarning: F-score is ill-defined and being set to 0.0 due to no predicted samples.\n",
      "  'precision', 'predicted', average, warn_for)\n"
     ]
    },
    {
     "name": "stdout",
     "output_type": "stream",
     "text": [
      "[CV]  base_score=0.01, gamma=0.01, reg_alpha=0.1, n_estimators=15, objective=binary:logistic, max_depth=15, seed=1337, min_child_weight=2, learning_rate=0.001, subsample=0.3, colsample_bytree=1, silent=1, nthread=4 - 1.1min\n",
      "[CV] base_score=0.01, gamma=0.01, reg_alpha=1.0, n_estimators=15, objective=binary:logistic, max_depth=15, seed=1337, min_child_weight=2, learning_rate=0.001, subsample=0.8, colsample_bytree=1, silent=1, nthread=4 \n"
     ]
    },
    {
     "name": "stderr",
     "output_type": "stream",
     "text": [
      "/home/ubuntu/Virtualenvs/mateo/lib/python3.4/site-packages/sklearn/externals/joblib/hashing.py:197: DeprecationWarning: Changing the shape of non-C contiguous array by\n",
      "descriptor assignment is deprecated. To maintain\n",
      "the Fortran contiguity of a multidimensional Fortran\n",
      "array, use 'a.T.view(...).T' instead\n",
      "  obj_bytes_view = obj.view(self.np.uint8)\n",
      "/home/ubuntu/Virtualenvs/mateo/lib/python3.4/site-packages/sklearn/metrics/classification.py:1117: UndefinedMetricWarning: F-score is ill-defined and being set to 0.0 due to no predicted samples.\n",
      "  'precision', 'predicted', average, warn_for)\n"
     ]
    },
    {
     "name": "stdout",
     "output_type": "stream",
     "text": [
      "[CV]  base_score=0.01, gamma=0.01, reg_alpha=0.1, n_estimators=15, objective=binary:logistic, max_depth=15, seed=1337, min_child_weight=2, learning_rate=0.001, subsample=0.3, colsample_bytree=1, silent=1, nthread=4 -  56.0s\n",
      "[CV] base_score=0.01, gamma=0.01, reg_alpha=1.0, n_estimators=15, objective=binary:logistic, max_depth=15, seed=1337, min_child_weight=2, learning_rate=0.001, subsample=0.8, colsample_bytree=1, silent=1, nthread=4 \n"
     ]
    },
    {
     "name": "stderr",
     "output_type": "stream",
     "text": [
      "/home/ubuntu/Virtualenvs/mateo/lib/python3.4/site-packages/sklearn/externals/joblib/hashing.py:197: DeprecationWarning: Changing the shape of non-C contiguous array by\n",
      "descriptor assignment is deprecated. To maintain\n",
      "the Fortran contiguity of a multidimensional Fortran\n",
      "array, use 'a.T.view(...).T' instead\n",
      "  obj_bytes_view = obj.view(self.np.uint8)\n",
      "/home/ubuntu/Virtualenvs/mateo/lib/python3.4/site-packages/sklearn/metrics/classification.py:1117: UndefinedMetricWarning: F-score is ill-defined and being set to 0.0 due to no predicted samples.\n",
      "  'precision', 'predicted', average, warn_for)\n"
     ]
    },
    {
     "name": "stdout",
     "output_type": "stream",
     "text": [
      "[CV]  base_score=0.01, gamma=0.01, reg_alpha=0.1, n_estimators=15, objective=binary:logistic, max_depth=15, seed=1337, min_child_weight=2, learning_rate=0.001, subsample=0.3, colsample_bytree=1, silent=1, nthread=4 -  54.7s\n",
      "[CV] base_score=0.01, gamma=0.01, reg_alpha=1.0, n_estimators=15, objective=binary:logistic, max_depth=15, seed=1337, min_child_weight=2, learning_rate=0.001, subsample=0.8, colsample_bytree=1, silent=1, nthread=4 \n"
     ]
    },
    {
     "name": "stderr",
     "output_type": "stream",
     "text": [
      "/home/ubuntu/Virtualenvs/mateo/lib/python3.4/site-packages/sklearn/externals/joblib/hashing.py:197: DeprecationWarning: Changing the shape of non-C contiguous array by\n",
      "descriptor assignment is deprecated. To maintain\n",
      "the Fortran contiguity of a multidimensional Fortran\n",
      "array, use 'a.T.view(...).T' instead\n",
      "  obj_bytes_view = obj.view(self.np.uint8)\n",
      "/home/ubuntu/Virtualenvs/mateo/lib/python3.4/site-packages/sklearn/metrics/classification.py:1117: UndefinedMetricWarning: F-score is ill-defined and being set to 0.0 due to no predicted samples.\n",
      "  'precision', 'predicted', average, warn_for)\n"
     ]
    },
    {
     "name": "stdout",
     "output_type": "stream",
     "text": [
      "[CV]  base_score=0.01, gamma=0.01, reg_alpha=1.0, n_estimators=15, objective=binary:logistic, max_depth=15, seed=1337, min_child_weight=2, learning_rate=0.001, subsample=0.8, colsample_bytree=1, silent=1, nthread=4 -  57.6s\n",
      "[CV] base_score=0.01, gamma=0.01, reg_alpha=1.0, n_estimators=15, objective=binary:logistic, max_depth=15, seed=1337, min_child_weight=2, learning_rate=0.001, subsample=0.5, colsample_bytree=1, silent=1, nthread=4 \n"
     ]
    },
    {
     "name": "stderr",
     "output_type": "stream",
     "text": [
      "/home/ubuntu/Virtualenvs/mateo/lib/python3.4/site-packages/sklearn/externals/joblib/hashing.py:197: DeprecationWarning: Changing the shape of non-C contiguous array by\n",
      "descriptor assignment is deprecated. To maintain\n",
      "the Fortran contiguity of a multidimensional Fortran\n",
      "array, use 'a.T.view(...).T' instead\n",
      "  obj_bytes_view = obj.view(self.np.uint8)\n",
      "/home/ubuntu/Virtualenvs/mateo/lib/python3.4/site-packages/sklearn/metrics/classification.py:1117: UndefinedMetricWarning: F-score is ill-defined and being set to 0.0 due to no predicted samples.\n",
      "  'precision', 'predicted', average, warn_for)\n"
     ]
    },
    {
     "name": "stdout",
     "output_type": "stream",
     "text": [
      "[CV]  base_score=0.01, gamma=0.01, reg_alpha=1.0, n_estimators=15, objective=binary:logistic, max_depth=15, seed=1337, min_child_weight=2, learning_rate=0.001, subsample=0.8, colsample_bytree=1, silent=1, nthread=4 -  55.5s\n",
      "[CV] base_score=0.01, gamma=0.01, reg_alpha=1.0, n_estimators=15, objective=binary:logistic, max_depth=15, seed=1337, min_child_weight=2, learning_rate=0.001, subsample=0.5, colsample_bytree=1, silent=1, nthread=4 \n"
     ]
    },
    {
     "name": "stderr",
     "output_type": "stream",
     "text": [
      "/home/ubuntu/Virtualenvs/mateo/lib/python3.4/site-packages/sklearn/externals/joblib/hashing.py:197: DeprecationWarning: Changing the shape of non-C contiguous array by\n",
      "descriptor assignment is deprecated. To maintain\n",
      "the Fortran contiguity of a multidimensional Fortran\n",
      "array, use 'a.T.view(...).T' instead\n",
      "  obj_bytes_view = obj.view(self.np.uint8)\n",
      "/home/ubuntu/Virtualenvs/mateo/lib/python3.4/site-packages/sklearn/metrics/classification.py:1117: UndefinedMetricWarning: F-score is ill-defined and being set to 0.0 due to no predicted samples.\n",
      "  'precision', 'predicted', average, warn_for)\n"
     ]
    },
    {
     "name": "stdout",
     "output_type": "stream",
     "text": [
      "[CV]  base_score=0.01, gamma=0.01, reg_alpha=1.0, n_estimators=15, objective=binary:logistic, max_depth=15, seed=1337, min_child_weight=2, learning_rate=0.001, subsample=0.8, colsample_bytree=1, silent=1, nthread=4 -  57.6s\n",
      "[CV] base_score=0.01, gamma=0.01, reg_alpha=1.0, n_estimators=15, objective=binary:logistic, max_depth=15, seed=1337, min_child_weight=2, learning_rate=0.001, subsample=0.5, colsample_bytree=1, silent=1, nthread=4 \n"
     ]
    },
    {
     "name": "stderr",
     "output_type": "stream",
     "text": [
      "/home/ubuntu/Virtualenvs/mateo/lib/python3.4/site-packages/sklearn/externals/joblib/hashing.py:197: DeprecationWarning: Changing the shape of non-C contiguous array by\n",
      "descriptor assignment is deprecated. To maintain\n",
      "the Fortran contiguity of a multidimensional Fortran\n",
      "array, use 'a.T.view(...).T' instead\n",
      "  obj_bytes_view = obj.view(self.np.uint8)\n",
      "/home/ubuntu/Virtualenvs/mateo/lib/python3.4/site-packages/sklearn/metrics/classification.py:1117: UndefinedMetricWarning: F-score is ill-defined and being set to 0.0 due to no predicted samples.\n",
      "  'precision', 'predicted', average, warn_for)\n"
     ]
    },
    {
     "name": "stdout",
     "output_type": "stream",
     "text": [
      "[CV]  base_score=0.01, gamma=0.01, reg_alpha=1.0, n_estimators=15, objective=binary:logistic, max_depth=15, seed=1337, min_child_weight=2, learning_rate=0.001, subsample=0.5, colsample_bytree=1, silent=1, nthread=4 -  54.7s\n",
      "[CV] base_score=0.01, gamma=0.01, reg_alpha=1.0, n_estimators=15, objective=binary:logistic, max_depth=15, seed=1337, min_child_weight=2, learning_rate=0.001, subsample=0.3, colsample_bytree=1, silent=1, nthread=4 \n"
     ]
    },
    {
     "name": "stderr",
     "output_type": "stream",
     "text": [
      "/home/ubuntu/Virtualenvs/mateo/lib/python3.4/site-packages/sklearn/externals/joblib/hashing.py:197: DeprecationWarning: Changing the shape of non-C contiguous array by\n",
      "descriptor assignment is deprecated. To maintain\n",
      "the Fortran contiguity of a multidimensional Fortran\n",
      "array, use 'a.T.view(...).T' instead\n",
      "  obj_bytes_view = obj.view(self.np.uint8)\n",
      "/home/ubuntu/Virtualenvs/mateo/lib/python3.4/site-packages/sklearn/metrics/classification.py:1117: UndefinedMetricWarning: F-score is ill-defined and being set to 0.0 due to no predicted samples.\n",
      "  'precision', 'predicted', average, warn_for)\n"
     ]
    },
    {
     "name": "stdout",
     "output_type": "stream",
     "text": [
      "[CV]  base_score=0.01, gamma=0.01, reg_alpha=1.0, n_estimators=15, objective=binary:logistic, max_depth=15, seed=1337, min_child_weight=2, learning_rate=0.001, subsample=0.5, colsample_bytree=1, silent=1, nthread=4 -  54.0s\n",
      "[CV] base_score=0.01, gamma=0.01, reg_alpha=1.0, n_estimators=15, objective=binary:logistic, max_depth=15, seed=1337, min_child_weight=2, learning_rate=0.001, subsample=0.3, colsample_bytree=1, silent=1, nthread=4 \n"
     ]
    },
    {
     "name": "stderr",
     "output_type": "stream",
     "text": [
      "/home/ubuntu/Virtualenvs/mateo/lib/python3.4/site-packages/sklearn/externals/joblib/hashing.py:197: DeprecationWarning: Changing the shape of non-C contiguous array by\n",
      "descriptor assignment is deprecated. To maintain\n",
      "the Fortran contiguity of a multidimensional Fortran\n",
      "array, use 'a.T.view(...).T' instead\n",
      "  obj_bytes_view = obj.view(self.np.uint8)\n",
      "/home/ubuntu/Virtualenvs/mateo/lib/python3.4/site-packages/sklearn/metrics/classification.py:1117: UndefinedMetricWarning: F-score is ill-defined and being set to 0.0 due to no predicted samples.\n",
      "  'precision', 'predicted', average, warn_for)\n"
     ]
    },
    {
     "name": "stdout",
     "output_type": "stream",
     "text": [
      "[CV]  base_score=0.01, gamma=0.01, reg_alpha=1.0, n_estimators=15, objective=binary:logistic, max_depth=15, seed=1337, min_child_weight=2, learning_rate=0.001, subsample=0.5, colsample_bytree=1, silent=1, nthread=4 -  53.3s\n",
      "[CV] base_score=0.01, gamma=0.01, reg_alpha=1.0, n_estimators=15, objective=binary:logistic, max_depth=15, seed=1337, min_child_weight=2, learning_rate=0.001, subsample=0.3, colsample_bytree=1, silent=1, nthread=4 \n"
     ]
    },
    {
     "name": "stderr",
     "output_type": "stream",
     "text": [
      "/home/ubuntu/Virtualenvs/mateo/lib/python3.4/site-packages/sklearn/externals/joblib/hashing.py:197: DeprecationWarning: Changing the shape of non-C contiguous array by\n",
      "descriptor assignment is deprecated. To maintain\n",
      "the Fortran contiguity of a multidimensional Fortran\n",
      "array, use 'a.T.view(...).T' instead\n",
      "  obj_bytes_view = obj.view(self.np.uint8)\n",
      "/home/ubuntu/Virtualenvs/mateo/lib/python3.4/site-packages/sklearn/metrics/classification.py:1117: UndefinedMetricWarning: F-score is ill-defined and being set to 0.0 due to no predicted samples.\n",
      "  'precision', 'predicted', average, warn_for)\n"
     ]
    },
    {
     "name": "stdout",
     "output_type": "stream",
     "text": [
      "[CV]  base_score=0.01, gamma=0.01, reg_alpha=1.0, n_estimators=15, objective=binary:logistic, max_depth=15, seed=1337, min_child_weight=2, learning_rate=0.001, subsample=0.3, colsample_bytree=1, silent=1, nthread=4 -  40.0s\n",
      "[CV] base_score=0.01, gamma=0.01, reg_alpha=0.01, n_estimators=30, objective=binary:logistic, max_depth=15, seed=1337, min_child_weight=2, learning_rate=0.001, subsample=0.8, colsample_bytree=1, silent=1, nthread=4 \n"
     ]
    },
    {
     "name": "stderr",
     "output_type": "stream",
     "text": [
      "/home/ubuntu/Virtualenvs/mateo/lib/python3.4/site-packages/sklearn/externals/joblib/hashing.py:197: DeprecationWarning: Changing the shape of non-C contiguous array by\n",
      "descriptor assignment is deprecated. To maintain\n",
      "the Fortran contiguity of a multidimensional Fortran\n",
      "array, use 'a.T.view(...).T' instead\n",
      "  obj_bytes_view = obj.view(self.np.uint8)\n",
      "/home/ubuntu/Virtualenvs/mateo/lib/python3.4/site-packages/sklearn/metrics/classification.py:1117: UndefinedMetricWarning: F-score is ill-defined and being set to 0.0 due to no predicted samples.\n",
      "  'precision', 'predicted', average, warn_for)\n"
     ]
    },
    {
     "name": "stdout",
     "output_type": "stream",
     "text": [
      "[CV]  base_score=0.01, gamma=0.01, reg_alpha=1.0, n_estimators=15, objective=binary:logistic, max_depth=15, seed=1337, min_child_weight=2, learning_rate=0.001, subsample=0.3, colsample_bytree=1, silent=1, nthread=4 -  39.7s\n",
      "[CV] base_score=0.01, gamma=0.01, reg_alpha=0.01, n_estimators=30, objective=binary:logistic, max_depth=15, seed=1337, min_child_weight=2, learning_rate=0.001, subsample=0.8, colsample_bytree=1, silent=1, nthread=4 \n"
     ]
    },
    {
     "name": "stderr",
     "output_type": "stream",
     "text": [
      "/home/ubuntu/Virtualenvs/mateo/lib/python3.4/site-packages/sklearn/externals/joblib/hashing.py:197: DeprecationWarning: Changing the shape of non-C contiguous array by\n",
      "descriptor assignment is deprecated. To maintain\n",
      "the Fortran contiguity of a multidimensional Fortran\n",
      "array, use 'a.T.view(...).T' instead\n",
      "  obj_bytes_view = obj.view(self.np.uint8)\n",
      "/home/ubuntu/Virtualenvs/mateo/lib/python3.4/site-packages/sklearn/metrics/classification.py:1117: UndefinedMetricWarning: F-score is ill-defined and being set to 0.0 due to no predicted samples.\n",
      "  'precision', 'predicted', average, warn_for)\n"
     ]
    },
    {
     "name": "stdout",
     "output_type": "stream",
     "text": [
      "[CV]  base_score=0.01, gamma=0.01, reg_alpha=1.0, n_estimators=15, objective=binary:logistic, max_depth=15, seed=1337, min_child_weight=2, learning_rate=0.001, subsample=0.3, colsample_bytree=1, silent=1, nthread=4 -  41.7s\n",
      "[CV] base_score=0.01, gamma=0.01, reg_alpha=0.01, n_estimators=30, objective=binary:logistic, max_depth=15, seed=1337, min_child_weight=2, learning_rate=0.001, subsample=0.8, colsample_bytree=1, silent=1, nthread=4 \n"
     ]
    },
    {
     "name": "stderr",
     "output_type": "stream",
     "text": [
      "/home/ubuntu/Virtualenvs/mateo/lib/python3.4/site-packages/sklearn/externals/joblib/hashing.py:197: DeprecationWarning: Changing the shape of non-C contiguous array by\n",
      "descriptor assignment is deprecated. To maintain\n",
      "the Fortran contiguity of a multidimensional Fortran\n",
      "array, use 'a.T.view(...).T' instead\n",
      "  obj_bytes_view = obj.view(self.np.uint8)\n",
      "/home/ubuntu/Virtualenvs/mateo/lib/python3.4/site-packages/sklearn/metrics/classification.py:1117: UndefinedMetricWarning: F-score is ill-defined and being set to 0.0 due to no predicted samples.\n",
      "  'precision', 'predicted', average, warn_for)\n"
     ]
    },
    {
     "name": "stdout",
     "output_type": "stream",
     "text": [
      "[CV]  base_score=0.01, gamma=0.01, reg_alpha=0.01, n_estimators=30, objective=binary:logistic, max_depth=15, seed=1337, min_child_weight=2, learning_rate=0.001, subsample=0.8, colsample_bytree=1, silent=1, nthread=4 - 2.1min\n",
      "[CV] base_score=0.01, gamma=0.01, reg_alpha=0.01, n_estimators=30, objective=binary:logistic, max_depth=15, seed=1337, min_child_weight=2, learning_rate=0.001, subsample=0.5, colsample_bytree=1, silent=1, nthread=4 \n"
     ]
    },
    {
     "name": "stderr",
     "output_type": "stream",
     "text": [
      "/home/ubuntu/Virtualenvs/mateo/lib/python3.4/site-packages/sklearn/externals/joblib/hashing.py:197: DeprecationWarning: Changing the shape of non-C contiguous array by\n",
      "descriptor assignment is deprecated. To maintain\n",
      "the Fortran contiguity of a multidimensional Fortran\n",
      "array, use 'a.T.view(...).T' instead\n",
      "  obj_bytes_view = obj.view(self.np.uint8)\n",
      "/home/ubuntu/Virtualenvs/mateo/lib/python3.4/site-packages/sklearn/metrics/classification.py:1117: UndefinedMetricWarning: F-score is ill-defined and being set to 0.0 due to no predicted samples.\n",
      "  'precision', 'predicted', average, warn_for)\n"
     ]
    },
    {
     "name": "stdout",
     "output_type": "stream",
     "text": [
      "[CV]  base_score=0.01, gamma=0.01, reg_alpha=0.01, n_estimators=30, objective=binary:logistic, max_depth=15, seed=1337, min_child_weight=2, learning_rate=0.001, subsample=0.8, colsample_bytree=1, silent=1, nthread=4 - 2.0min\n",
      "[CV] base_score=0.01, gamma=0.01, reg_alpha=0.01, n_estimators=30, objective=binary:logistic, max_depth=15, seed=1337, min_child_weight=2, learning_rate=0.001, subsample=0.5, colsample_bytree=1, silent=1, nthread=4 \n"
     ]
    },
    {
     "name": "stderr",
     "output_type": "stream",
     "text": [
      "/home/ubuntu/Virtualenvs/mateo/lib/python3.4/site-packages/sklearn/externals/joblib/hashing.py:197: DeprecationWarning: Changing the shape of non-C contiguous array by\n",
      "descriptor assignment is deprecated. To maintain\n",
      "the Fortran contiguity of a multidimensional Fortran\n",
      "array, use 'a.T.view(...).T' instead\n",
      "  obj_bytes_view = obj.view(self.np.uint8)\n",
      "/home/ubuntu/Virtualenvs/mateo/lib/python3.4/site-packages/sklearn/metrics/classification.py:1117: UndefinedMetricWarning: F-score is ill-defined and being set to 0.0 due to no predicted samples.\n",
      "  'precision', 'predicted', average, warn_for)\n"
     ]
    },
    {
     "name": "stdout",
     "output_type": "stream",
     "text": [
      "[CV]  base_score=0.01, gamma=0.01, reg_alpha=0.01, n_estimators=30, objective=binary:logistic, max_depth=15, seed=1337, min_child_weight=2, learning_rate=0.001, subsample=0.8, colsample_bytree=1, silent=1, nthread=4 - 2.1min\n",
      "[CV] base_score=0.01, gamma=0.01, reg_alpha=0.01, n_estimators=30, objective=binary:logistic, max_depth=15, seed=1337, min_child_weight=2, learning_rate=0.001, subsample=0.5, colsample_bytree=1, silent=1, nthread=4 \n"
     ]
    },
    {
     "name": "stderr",
     "output_type": "stream",
     "text": [
      "/home/ubuntu/Virtualenvs/mateo/lib/python3.4/site-packages/sklearn/externals/joblib/hashing.py:197: DeprecationWarning: Changing the shape of non-C contiguous array by\n",
      "descriptor assignment is deprecated. To maintain\n",
      "the Fortran contiguity of a multidimensional Fortran\n",
      "array, use 'a.T.view(...).T' instead\n",
      "  obj_bytes_view = obj.view(self.np.uint8)\n",
      "/home/ubuntu/Virtualenvs/mateo/lib/python3.4/site-packages/sklearn/metrics/classification.py:1117: UndefinedMetricWarning: F-score is ill-defined and being set to 0.0 due to no predicted samples.\n",
      "  'precision', 'predicted', average, warn_for)\n"
     ]
    },
    {
     "name": "stdout",
     "output_type": "stream",
     "text": [
      "[CV]  base_score=0.01, gamma=0.01, reg_alpha=0.01, n_estimators=30, objective=binary:logistic, max_depth=15, seed=1337, min_child_weight=2, learning_rate=0.001, subsample=0.5, colsample_bytree=1, silent=1, nthread=4 - 1.9min\n",
      "[CV] base_score=0.01, gamma=0.01, reg_alpha=0.01, n_estimators=30, objective=binary:logistic, max_depth=15, seed=1337, min_child_weight=2, learning_rate=0.001, subsample=0.3, colsample_bytree=1, silent=1, nthread=4 \n"
     ]
    },
    {
     "name": "stderr",
     "output_type": "stream",
     "text": [
      "/home/ubuntu/Virtualenvs/mateo/lib/python3.4/site-packages/sklearn/externals/joblib/hashing.py:197: DeprecationWarning: Changing the shape of non-C contiguous array by\n",
      "descriptor assignment is deprecated. To maintain\n",
      "the Fortran contiguity of a multidimensional Fortran\n",
      "array, use 'a.T.view(...).T' instead\n",
      "  obj_bytes_view = obj.view(self.np.uint8)\n",
      "/home/ubuntu/Virtualenvs/mateo/lib/python3.4/site-packages/sklearn/metrics/classification.py:1117: UndefinedMetricWarning: F-score is ill-defined and being set to 0.0 due to no predicted samples.\n",
      "  'precision', 'predicted', average, warn_for)\n"
     ]
    },
    {
     "name": "stdout",
     "output_type": "stream",
     "text": [
      "[CV]  base_score=0.01, gamma=0.01, reg_alpha=0.01, n_estimators=30, objective=binary:logistic, max_depth=15, seed=1337, min_child_weight=2, learning_rate=0.001, subsample=0.5, colsample_bytree=1, silent=1, nthread=4 - 1.9min\n",
      "[CV] base_score=0.01, gamma=0.01, reg_alpha=0.01, n_estimators=30, objective=binary:logistic, max_depth=15, seed=1337, min_child_weight=2, learning_rate=0.001, subsample=0.3, colsample_bytree=1, silent=1, nthread=4 \n"
     ]
    },
    {
     "name": "stderr",
     "output_type": "stream",
     "text": [
      "/home/ubuntu/Virtualenvs/mateo/lib/python3.4/site-packages/sklearn/externals/joblib/hashing.py:197: DeprecationWarning: Changing the shape of non-C contiguous array by\n",
      "descriptor assignment is deprecated. To maintain\n",
      "the Fortran contiguity of a multidimensional Fortran\n",
      "array, use 'a.T.view(...).T' instead\n",
      "  obj_bytes_view = obj.view(self.np.uint8)\n",
      "/home/ubuntu/Virtualenvs/mateo/lib/python3.4/site-packages/sklearn/metrics/classification.py:1117: UndefinedMetricWarning: F-score is ill-defined and being set to 0.0 due to no predicted samples.\n",
      "  'precision', 'predicted', average, warn_for)\n"
     ]
    },
    {
     "name": "stdout",
     "output_type": "stream",
     "text": [
      "[CV]  base_score=0.01, gamma=0.01, reg_alpha=0.01, n_estimators=30, objective=binary:logistic, max_depth=15, seed=1337, min_child_weight=2, learning_rate=0.001, subsample=0.5, colsample_bytree=1, silent=1, nthread=4 - 1.9min\n",
      "[CV] base_score=0.01, gamma=0.01, reg_alpha=0.01, n_estimators=30, objective=binary:logistic, max_depth=15, seed=1337, min_child_weight=2, learning_rate=0.001, subsample=0.3, colsample_bytree=1, silent=1, nthread=4 \n"
     ]
    },
    {
     "name": "stderr",
     "output_type": "stream",
     "text": [
      "/home/ubuntu/Virtualenvs/mateo/lib/python3.4/site-packages/sklearn/externals/joblib/hashing.py:197: DeprecationWarning: Changing the shape of non-C contiguous array by\n",
      "descriptor assignment is deprecated. To maintain\n",
      "the Fortran contiguity of a multidimensional Fortran\n",
      "array, use 'a.T.view(...).T' instead\n",
      "  obj_bytes_view = obj.view(self.np.uint8)\n",
      "/home/ubuntu/Virtualenvs/mateo/lib/python3.4/site-packages/sklearn/metrics/classification.py:1117: UndefinedMetricWarning: F-score is ill-defined and being set to 0.0 due to no predicted samples.\n",
      "  'precision', 'predicted', average, warn_for)\n"
     ]
    },
    {
     "name": "stdout",
     "output_type": "stream",
     "text": [
      "[CV]  base_score=0.01, gamma=0.01, reg_alpha=0.01, n_estimators=30, objective=binary:logistic, max_depth=15, seed=1337, min_child_weight=2, learning_rate=0.001, subsample=0.3, colsample_bytree=1, silent=1, nthread=4 - 1.4min\n",
      "[CV] base_score=0.01, gamma=0.01, reg_alpha=0.1, n_estimators=30, objective=binary:logistic, max_depth=15, seed=1337, min_child_weight=2, learning_rate=0.001, subsample=0.8, colsample_bytree=1, silent=1, nthread=4 \n"
     ]
    },
    {
     "name": "stderr",
     "output_type": "stream",
     "text": [
      "/home/ubuntu/Virtualenvs/mateo/lib/python3.4/site-packages/sklearn/externals/joblib/hashing.py:197: DeprecationWarning: Changing the shape of non-C contiguous array by\n",
      "descriptor assignment is deprecated. To maintain\n",
      "the Fortran contiguity of a multidimensional Fortran\n",
      "array, use 'a.T.view(...).T' instead\n",
      "  obj_bytes_view = obj.view(self.np.uint8)\n",
      "/home/ubuntu/Virtualenvs/mateo/lib/python3.4/site-packages/sklearn/metrics/classification.py:1117: UndefinedMetricWarning: F-score is ill-defined and being set to 0.0 due to no predicted samples.\n",
      "  'precision', 'predicted', average, warn_for)\n"
     ]
    },
    {
     "name": "stdout",
     "output_type": "stream",
     "text": [
      "[CV]  base_score=0.01, gamma=0.01, reg_alpha=0.01, n_estimators=30, objective=binary:logistic, max_depth=15, seed=1337, min_child_weight=2, learning_rate=0.001, subsample=0.3, colsample_bytree=1, silent=1, nthread=4 - 1.4min\n",
      "[CV] base_score=0.01, gamma=0.01, reg_alpha=0.1, n_estimators=30, objective=binary:logistic, max_depth=15, seed=1337, min_child_weight=2, learning_rate=0.001, subsample=0.8, colsample_bytree=1, silent=1, nthread=4 \n"
     ]
    },
    {
     "name": "stderr",
     "output_type": "stream",
     "text": [
      "/home/ubuntu/Virtualenvs/mateo/lib/python3.4/site-packages/sklearn/externals/joblib/hashing.py:197: DeprecationWarning: Changing the shape of non-C contiguous array by\n",
      "descriptor assignment is deprecated. To maintain\n",
      "the Fortran contiguity of a multidimensional Fortran\n",
      "array, use 'a.T.view(...).T' instead\n",
      "  obj_bytes_view = obj.view(self.np.uint8)\n",
      "/home/ubuntu/Virtualenvs/mateo/lib/python3.4/site-packages/sklearn/metrics/classification.py:1117: UndefinedMetricWarning: F-score is ill-defined and being set to 0.0 due to no predicted samples.\n",
      "  'precision', 'predicted', average, warn_for)\n"
     ]
    },
    {
     "name": "stdout",
     "output_type": "stream",
     "text": [
      "[CV]  base_score=0.01, gamma=0.01, reg_alpha=0.01, n_estimators=30, objective=binary:logistic, max_depth=15, seed=1337, min_child_weight=2, learning_rate=0.001, subsample=0.3, colsample_bytree=1, silent=1, nthread=4 - 1.5min\n",
      "[CV] base_score=0.01, gamma=0.01, reg_alpha=0.1, n_estimators=30, objective=binary:logistic, max_depth=15, seed=1337, min_child_weight=2, learning_rate=0.001, subsample=0.8, colsample_bytree=1, silent=1, nthread=4 \n"
     ]
    },
    {
     "name": "stderr",
     "output_type": "stream",
     "text": [
      "/home/ubuntu/Virtualenvs/mateo/lib/python3.4/site-packages/sklearn/externals/joblib/hashing.py:197: DeprecationWarning: Changing the shape of non-C contiguous array by\n",
      "descriptor assignment is deprecated. To maintain\n",
      "the Fortran contiguity of a multidimensional Fortran\n",
      "array, use 'a.T.view(...).T' instead\n",
      "  obj_bytes_view = obj.view(self.np.uint8)\n",
      "/home/ubuntu/Virtualenvs/mateo/lib/python3.4/site-packages/sklearn/metrics/classification.py:1117: UndefinedMetricWarning: F-score is ill-defined and being set to 0.0 due to no predicted samples.\n",
      "  'precision', 'predicted', average, warn_for)\n"
     ]
    },
    {
     "name": "stdout",
     "output_type": "stream",
     "text": [
      "[CV]  base_score=0.01, gamma=0.01, reg_alpha=0.1, n_estimators=30, objective=binary:logistic, max_depth=15, seed=1337, min_child_weight=2, learning_rate=0.001, subsample=0.8, colsample_bytree=1, silent=1, nthread=4 - 2.0min\n",
      "[CV] base_score=0.01, gamma=0.01, reg_alpha=0.1, n_estimators=30, objective=binary:logistic, max_depth=15, seed=1337, min_child_weight=2, learning_rate=0.001, subsample=0.5, colsample_bytree=1, silent=1, nthread=4 \n"
     ]
    },
    {
     "name": "stderr",
     "output_type": "stream",
     "text": [
      "/home/ubuntu/Virtualenvs/mateo/lib/python3.4/site-packages/sklearn/externals/joblib/hashing.py:197: DeprecationWarning: Changing the shape of non-C contiguous array by\n",
      "descriptor assignment is deprecated. To maintain\n",
      "the Fortran contiguity of a multidimensional Fortran\n",
      "array, use 'a.T.view(...).T' instead\n",
      "  obj_bytes_view = obj.view(self.np.uint8)\n",
      "/home/ubuntu/Virtualenvs/mateo/lib/python3.4/site-packages/sklearn/metrics/classification.py:1117: UndefinedMetricWarning: F-score is ill-defined and being set to 0.0 due to no predicted samples.\n",
      "  'precision', 'predicted', average, warn_for)\n"
     ]
    },
    {
     "name": "stdout",
     "output_type": "stream",
     "text": [
      "[CV]  base_score=0.01, gamma=0.01, reg_alpha=0.1, n_estimators=30, objective=binary:logistic, max_depth=15, seed=1337, min_child_weight=2, learning_rate=0.001, subsample=0.8, colsample_bytree=1, silent=1, nthread=4 - 2.0min\n",
      "[CV] base_score=0.01, gamma=0.01, reg_alpha=0.1, n_estimators=30, objective=binary:logistic, max_depth=15, seed=1337, min_child_weight=2, learning_rate=0.001, subsample=0.5, colsample_bytree=1, silent=1, nthread=4 \n"
     ]
    },
    {
     "name": "stderr",
     "output_type": "stream",
     "text": [
      "/home/ubuntu/Virtualenvs/mateo/lib/python3.4/site-packages/sklearn/externals/joblib/hashing.py:197: DeprecationWarning: Changing the shape of non-C contiguous array by\n",
      "descriptor assignment is deprecated. To maintain\n",
      "the Fortran contiguity of a multidimensional Fortran\n",
      "array, use 'a.T.view(...).T' instead\n",
      "  obj_bytes_view = obj.view(self.np.uint8)\n",
      "/home/ubuntu/Virtualenvs/mateo/lib/python3.4/site-packages/sklearn/metrics/classification.py:1117: UndefinedMetricWarning: F-score is ill-defined and being set to 0.0 due to no predicted samples.\n",
      "  'precision', 'predicted', average, warn_for)\n"
     ]
    },
    {
     "name": "stdout",
     "output_type": "stream",
     "text": [
      "[CV]  base_score=0.01, gamma=0.01, reg_alpha=0.1, n_estimators=30, objective=binary:logistic, max_depth=15, seed=1337, min_child_weight=2, learning_rate=0.001, subsample=0.8, colsample_bytree=1, silent=1, nthread=4 - 2.0min\n",
      "[CV] base_score=0.01, gamma=0.01, reg_alpha=0.1, n_estimators=30, objective=binary:logistic, max_depth=15, seed=1337, min_child_weight=2, learning_rate=0.001, subsample=0.5, colsample_bytree=1, silent=1, nthread=4 \n"
     ]
    },
    {
     "name": "stderr",
     "output_type": "stream",
     "text": [
      "/home/ubuntu/Virtualenvs/mateo/lib/python3.4/site-packages/sklearn/externals/joblib/hashing.py:197: DeprecationWarning: Changing the shape of non-C contiguous array by\n",
      "descriptor assignment is deprecated. To maintain\n",
      "the Fortran contiguity of a multidimensional Fortran\n",
      "array, use 'a.T.view(...).T' instead\n",
      "  obj_bytes_view = obj.view(self.np.uint8)\n",
      "/home/ubuntu/Virtualenvs/mateo/lib/python3.4/site-packages/sklearn/metrics/classification.py:1117: UndefinedMetricWarning: F-score is ill-defined and being set to 0.0 due to no predicted samples.\n",
      "  'precision', 'predicted', average, warn_for)\n"
     ]
    },
    {
     "name": "stdout",
     "output_type": "stream",
     "text": [
      "[CV]  base_score=0.01, gamma=0.01, reg_alpha=0.1, n_estimators=30, objective=binary:logistic, max_depth=15, seed=1337, min_child_weight=2, learning_rate=0.001, subsample=0.5, colsample_bytree=1, silent=1, nthread=4 - 1.9min\n",
      "[CV] base_score=0.01, gamma=0.01, reg_alpha=0.1, n_estimators=30, objective=binary:logistic, max_depth=15, seed=1337, min_child_weight=2, learning_rate=0.001, subsample=0.3, colsample_bytree=1, silent=1, nthread=4 \n"
     ]
    },
    {
     "name": "stderr",
     "output_type": "stream",
     "text": [
      "/home/ubuntu/Virtualenvs/mateo/lib/python3.4/site-packages/sklearn/externals/joblib/hashing.py:197: DeprecationWarning: Changing the shape of non-C contiguous array by\n",
      "descriptor assignment is deprecated. To maintain\n",
      "the Fortran contiguity of a multidimensional Fortran\n",
      "array, use 'a.T.view(...).T' instead\n",
      "  obj_bytes_view = obj.view(self.np.uint8)\n",
      "/home/ubuntu/Virtualenvs/mateo/lib/python3.4/site-packages/sklearn/metrics/classification.py:1117: UndefinedMetricWarning: F-score is ill-defined and being set to 0.0 due to no predicted samples.\n",
      "  'precision', 'predicted', average, warn_for)\n"
     ]
    },
    {
     "name": "stdout",
     "output_type": "stream",
     "text": [
      "[CV]  base_score=0.01, gamma=0.01, reg_alpha=0.1, n_estimators=30, objective=binary:logistic, max_depth=15, seed=1337, min_child_weight=2, learning_rate=0.001, subsample=0.5, colsample_bytree=1, silent=1, nthread=4 - 1.9min\n",
      "[CV] base_score=0.01, gamma=0.01, reg_alpha=0.1, n_estimators=30, objective=binary:logistic, max_depth=15, seed=1337, min_child_weight=2, learning_rate=0.001, subsample=0.3, colsample_bytree=1, silent=1, nthread=4 \n"
     ]
    },
    {
     "name": "stderr",
     "output_type": "stream",
     "text": [
      "/home/ubuntu/Virtualenvs/mateo/lib/python3.4/site-packages/sklearn/externals/joblib/hashing.py:197: DeprecationWarning: Changing the shape of non-C contiguous array by\n",
      "descriptor assignment is deprecated. To maintain\n",
      "the Fortran contiguity of a multidimensional Fortran\n",
      "array, use 'a.T.view(...).T' instead\n",
      "  obj_bytes_view = obj.view(self.np.uint8)\n",
      "/home/ubuntu/Virtualenvs/mateo/lib/python3.4/site-packages/sklearn/metrics/classification.py:1117: UndefinedMetricWarning: F-score is ill-defined and being set to 0.0 due to no predicted samples.\n",
      "  'precision', 'predicted', average, warn_for)\n"
     ]
    },
    {
     "name": "stdout",
     "output_type": "stream",
     "text": [
      "[CV]  base_score=0.01, gamma=0.01, reg_alpha=0.1, n_estimators=30, objective=binary:logistic, max_depth=15, seed=1337, min_child_weight=2, learning_rate=0.001, subsample=0.5, colsample_bytree=1, silent=1, nthread=4 - 1.9min\n",
      "[CV] base_score=0.01, gamma=0.01, reg_alpha=0.1, n_estimators=30, objective=binary:logistic, max_depth=15, seed=1337, min_child_weight=2, learning_rate=0.001, subsample=0.3, colsample_bytree=1, silent=1, nthread=4 \n"
     ]
    },
    {
     "name": "stderr",
     "output_type": "stream",
     "text": [
      "/home/ubuntu/Virtualenvs/mateo/lib/python3.4/site-packages/sklearn/externals/joblib/hashing.py:197: DeprecationWarning: Changing the shape of non-C contiguous array by\n",
      "descriptor assignment is deprecated. To maintain\n",
      "the Fortran contiguity of a multidimensional Fortran\n",
      "array, use 'a.T.view(...).T' instead\n",
      "  obj_bytes_view = obj.view(self.np.uint8)\n",
      "/home/ubuntu/Virtualenvs/mateo/lib/python3.4/site-packages/sklearn/metrics/classification.py:1117: UndefinedMetricWarning: F-score is ill-defined and being set to 0.0 due to no predicted samples.\n",
      "  'precision', 'predicted', average, warn_for)\n"
     ]
    },
    {
     "name": "stdout",
     "output_type": "stream",
     "text": [
      "[CV]  base_score=0.01, gamma=0.01, reg_alpha=0.1, n_estimators=30, objective=binary:logistic, max_depth=15, seed=1337, min_child_weight=2, learning_rate=0.001, subsample=0.3, colsample_bytree=1, silent=1, nthread=4 - 1.4min\n",
      "[CV] base_score=0.01, gamma=0.01, reg_alpha=1.0, n_estimators=30, objective=binary:logistic, max_depth=15, seed=1337, min_child_weight=2, learning_rate=0.001, subsample=0.8, colsample_bytree=1, silent=1, nthread=4 \n"
     ]
    },
    {
     "name": "stderr",
     "output_type": "stream",
     "text": [
      "/home/ubuntu/Virtualenvs/mateo/lib/python3.4/site-packages/sklearn/externals/joblib/hashing.py:197: DeprecationWarning: Changing the shape of non-C contiguous array by\n",
      "descriptor assignment is deprecated. To maintain\n",
      "the Fortran contiguity of a multidimensional Fortran\n",
      "array, use 'a.T.view(...).T' instead\n",
      "  obj_bytes_view = obj.view(self.np.uint8)\n",
      "/home/ubuntu/Virtualenvs/mateo/lib/python3.4/site-packages/sklearn/metrics/classification.py:1117: UndefinedMetricWarning: F-score is ill-defined and being set to 0.0 due to no predicted samples.\n",
      "  'precision', 'predicted', average, warn_for)\n"
     ]
    },
    {
     "name": "stdout",
     "output_type": "stream",
     "text": [
      "[CV]  base_score=0.01, gamma=0.01, reg_alpha=0.1, n_estimators=30, objective=binary:logistic, max_depth=15, seed=1337, min_child_weight=2, learning_rate=0.001, subsample=0.3, colsample_bytree=1, silent=1, nthread=4 - 1.4min\n",
      "[CV] base_score=0.01, gamma=0.01, reg_alpha=1.0, n_estimators=30, objective=binary:logistic, max_depth=15, seed=1337, min_child_weight=2, learning_rate=0.001, subsample=0.8, colsample_bytree=1, silent=1, nthread=4 \n"
     ]
    },
    {
     "name": "stderr",
     "output_type": "stream",
     "text": [
      "/home/ubuntu/Virtualenvs/mateo/lib/python3.4/site-packages/sklearn/externals/joblib/hashing.py:197: DeprecationWarning: Changing the shape of non-C contiguous array by\n",
      "descriptor assignment is deprecated. To maintain\n",
      "the Fortran contiguity of a multidimensional Fortran\n",
      "array, use 'a.T.view(...).T' instead\n",
      "  obj_bytes_view = obj.view(self.np.uint8)\n",
      "/home/ubuntu/Virtualenvs/mateo/lib/python3.4/site-packages/sklearn/metrics/classification.py:1117: UndefinedMetricWarning: F-score is ill-defined and being set to 0.0 due to no predicted samples.\n",
      "  'precision', 'predicted', average, warn_for)\n"
     ]
    },
    {
     "name": "stdout",
     "output_type": "stream",
     "text": [
      "[CV]  base_score=0.01, gamma=0.01, reg_alpha=0.1, n_estimators=30, objective=binary:logistic, max_depth=15, seed=1337, min_child_weight=2, learning_rate=0.001, subsample=0.3, colsample_bytree=1, silent=1, nthread=4 - 1.4min\n",
      "[CV] base_score=0.01, gamma=0.01, reg_alpha=1.0, n_estimators=30, objective=binary:logistic, max_depth=15, seed=1337, min_child_weight=2, learning_rate=0.001, subsample=0.8, colsample_bytree=1, silent=1, nthread=4 \n"
     ]
    },
    {
     "name": "stderr",
     "output_type": "stream",
     "text": [
      "/home/ubuntu/Virtualenvs/mateo/lib/python3.4/site-packages/sklearn/externals/joblib/hashing.py:197: DeprecationWarning: Changing the shape of non-C contiguous array by\n",
      "descriptor assignment is deprecated. To maintain\n",
      "the Fortran contiguity of a multidimensional Fortran\n",
      "array, use 'a.T.view(...).T' instead\n",
      "  obj_bytes_view = obj.view(self.np.uint8)\n",
      "/home/ubuntu/Virtualenvs/mateo/lib/python3.4/site-packages/sklearn/metrics/classification.py:1117: UndefinedMetricWarning: F-score is ill-defined and being set to 0.0 due to no predicted samples.\n",
      "  'precision', 'predicted', average, warn_for)\n"
     ]
    },
    {
     "name": "stdout",
     "output_type": "stream",
     "text": [
      "[CV]  base_score=0.01, gamma=0.01, reg_alpha=1.0, n_estimators=30, objective=binary:logistic, max_depth=15, seed=1337, min_child_weight=2, learning_rate=0.001, subsample=0.8, colsample_bytree=1, silent=1, nthread=4 - 1.9min\n",
      "[CV] base_score=0.01, gamma=0.01, reg_alpha=1.0, n_estimators=30, objective=binary:logistic, max_depth=15, seed=1337, min_child_weight=2, learning_rate=0.001, subsample=0.5, colsample_bytree=1, silent=1, nthread=4 \n"
     ]
    },
    {
     "name": "stderr",
     "output_type": "stream",
     "text": [
      "/home/ubuntu/Virtualenvs/mateo/lib/python3.4/site-packages/sklearn/externals/joblib/hashing.py:197: DeprecationWarning: Changing the shape of non-C contiguous array by\n",
      "descriptor assignment is deprecated. To maintain\n",
      "the Fortran contiguity of a multidimensional Fortran\n",
      "array, use 'a.T.view(...).T' instead\n",
      "  obj_bytes_view = obj.view(self.np.uint8)\n",
      "/home/ubuntu/Virtualenvs/mateo/lib/python3.4/site-packages/sklearn/metrics/classification.py:1117: UndefinedMetricWarning: F-score is ill-defined and being set to 0.0 due to no predicted samples.\n",
      "  'precision', 'predicted', average, warn_for)\n"
     ]
    },
    {
     "name": "stdout",
     "output_type": "stream",
     "text": [
      "[CV]  base_score=0.01, gamma=0.01, reg_alpha=1.0, n_estimators=30, objective=binary:logistic, max_depth=15, seed=1337, min_child_weight=2, learning_rate=0.001, subsample=0.8, colsample_bytree=1, silent=1, nthread=4 - 1.9min\n",
      "[CV] base_score=0.01, gamma=0.01, reg_alpha=1.0, n_estimators=30, objective=binary:logistic, max_depth=15, seed=1337, min_child_weight=2, learning_rate=0.001, subsample=0.5, colsample_bytree=1, silent=1, nthread=4 \n"
     ]
    },
    {
     "name": "stderr",
     "output_type": "stream",
     "text": [
      "/home/ubuntu/Virtualenvs/mateo/lib/python3.4/site-packages/sklearn/externals/joblib/hashing.py:197: DeprecationWarning: Changing the shape of non-C contiguous array by\n",
      "descriptor assignment is deprecated. To maintain\n",
      "the Fortran contiguity of a multidimensional Fortran\n",
      "array, use 'a.T.view(...).T' instead\n",
      "  obj_bytes_view = obj.view(self.np.uint8)\n",
      "/home/ubuntu/Virtualenvs/mateo/lib/python3.4/site-packages/sklearn/metrics/classification.py:1117: UndefinedMetricWarning: F-score is ill-defined and being set to 0.0 due to no predicted samples.\n",
      "  'precision', 'predicted', average, warn_for)\n"
     ]
    },
    {
     "name": "stdout",
     "output_type": "stream",
     "text": [
      "[CV]  base_score=0.01, gamma=0.01, reg_alpha=1.0, n_estimators=30, objective=binary:logistic, max_depth=15, seed=1337, min_child_weight=2, learning_rate=0.001, subsample=0.8, colsample_bytree=1, silent=1, nthread=4 - 1.9min\n",
      "[CV] base_score=0.01, gamma=0.01, reg_alpha=1.0, n_estimators=30, objective=binary:logistic, max_depth=15, seed=1337, min_child_weight=2, learning_rate=0.001, subsample=0.5, colsample_bytree=1, silent=1, nthread=4 \n"
     ]
    },
    {
     "name": "stderr",
     "output_type": "stream",
     "text": [
      "/home/ubuntu/Virtualenvs/mateo/lib/python3.4/site-packages/sklearn/externals/joblib/hashing.py:197: DeprecationWarning: Changing the shape of non-C contiguous array by\n",
      "descriptor assignment is deprecated. To maintain\n",
      "the Fortran contiguity of a multidimensional Fortran\n",
      "array, use 'a.T.view(...).T' instead\n",
      "  obj_bytes_view = obj.view(self.np.uint8)\n",
      "/home/ubuntu/Virtualenvs/mateo/lib/python3.4/site-packages/sklearn/metrics/classification.py:1117: UndefinedMetricWarning: F-score is ill-defined and being set to 0.0 due to no predicted samples.\n",
      "  'precision', 'predicted', average, warn_for)\n"
     ]
    },
    {
     "name": "stdout",
     "output_type": "stream",
     "text": [
      "[CV]  base_score=0.01, gamma=0.01, reg_alpha=1.0, n_estimators=30, objective=binary:logistic, max_depth=15, seed=1337, min_child_weight=2, learning_rate=0.001, subsample=0.5, colsample_bytree=1, silent=1, nthread=4 - 1.7min\n",
      "[CV] base_score=0.01, gamma=0.01, reg_alpha=1.0, n_estimators=30, objective=binary:logistic, max_depth=15, seed=1337, min_child_weight=2, learning_rate=0.001, subsample=0.3, colsample_bytree=1, silent=1, nthread=4 \n"
     ]
    },
    {
     "name": "stderr",
     "output_type": "stream",
     "text": [
      "/home/ubuntu/Virtualenvs/mateo/lib/python3.4/site-packages/sklearn/externals/joblib/hashing.py:197: DeprecationWarning: Changing the shape of non-C contiguous array by\n",
      "descriptor assignment is deprecated. To maintain\n",
      "the Fortran contiguity of a multidimensional Fortran\n",
      "array, use 'a.T.view(...).T' instead\n",
      "  obj_bytes_view = obj.view(self.np.uint8)\n",
      "/home/ubuntu/Virtualenvs/mateo/lib/python3.4/site-packages/sklearn/metrics/classification.py:1117: UndefinedMetricWarning: F-score is ill-defined and being set to 0.0 due to no predicted samples.\n",
      "  'precision', 'predicted', average, warn_for)\n"
     ]
    },
    {
     "name": "stdout",
     "output_type": "stream",
     "text": [
      "[CV]  base_score=0.01, gamma=0.01, reg_alpha=1.0, n_estimators=30, objective=binary:logistic, max_depth=15, seed=1337, min_child_weight=2, learning_rate=0.001, subsample=0.5, colsample_bytree=1, silent=1, nthread=4 - 1.7min\n",
      "[CV] base_score=0.01, gamma=0.01, reg_alpha=1.0, n_estimators=30, objective=binary:logistic, max_depth=15, seed=1337, min_child_weight=2, learning_rate=0.001, subsample=0.3, colsample_bytree=1, silent=1, nthread=4 \n"
     ]
    },
    {
     "name": "stderr",
     "output_type": "stream",
     "text": [
      "/home/ubuntu/Virtualenvs/mateo/lib/python3.4/site-packages/sklearn/externals/joblib/hashing.py:197: DeprecationWarning: Changing the shape of non-C contiguous array by\n",
      "descriptor assignment is deprecated. To maintain\n",
      "the Fortran contiguity of a multidimensional Fortran\n",
      "array, use 'a.T.view(...).T' instead\n",
      "  obj_bytes_view = obj.view(self.np.uint8)\n",
      "/home/ubuntu/Virtualenvs/mateo/lib/python3.4/site-packages/sklearn/metrics/classification.py:1117: UndefinedMetricWarning: F-score is ill-defined and being set to 0.0 due to no predicted samples.\n",
      "  'precision', 'predicted', average, warn_for)\n"
     ]
    },
    {
     "name": "stdout",
     "output_type": "stream",
     "text": [
      "[CV]  base_score=0.01, gamma=0.01, reg_alpha=1.0, n_estimators=30, objective=binary:logistic, max_depth=15, seed=1337, min_child_weight=2, learning_rate=0.001, subsample=0.5, colsample_bytree=1, silent=1, nthread=4 - 1.7min\n",
      "[CV] base_score=0.01, gamma=0.01, reg_alpha=1.0, n_estimators=30, objective=binary:logistic, max_depth=15, seed=1337, min_child_weight=2, learning_rate=0.001, subsample=0.3, colsample_bytree=1, silent=1, nthread=4 \n"
     ]
    },
    {
     "name": "stderr",
     "output_type": "stream",
     "text": [
      "/home/ubuntu/Virtualenvs/mateo/lib/python3.4/site-packages/sklearn/externals/joblib/hashing.py:197: DeprecationWarning: Changing the shape of non-C contiguous array by\n",
      "descriptor assignment is deprecated. To maintain\n",
      "the Fortran contiguity of a multidimensional Fortran\n",
      "array, use 'a.T.view(...).T' instead\n",
      "  obj_bytes_view = obj.view(self.np.uint8)\n",
      "/home/ubuntu/Virtualenvs/mateo/lib/python3.4/site-packages/sklearn/metrics/classification.py:1117: UndefinedMetricWarning: F-score is ill-defined and being set to 0.0 due to no predicted samples.\n",
      "  'precision', 'predicted', average, warn_for)\n"
     ]
    },
    {
     "name": "stdout",
     "output_type": "stream",
     "text": [
      "[CV]  base_score=0.01, gamma=0.01, reg_alpha=1.0, n_estimators=30, objective=binary:logistic, max_depth=15, seed=1337, min_child_weight=2, learning_rate=0.001, subsample=0.3, colsample_bytree=1, silent=1, nthread=4 - 1.3min\n",
      "[CV] base_score=0.01, gamma=0.01, reg_alpha=0.01, n_estimators=15, objective=binary:logistic, max_depth=25, seed=1337, min_child_weight=15, learning_rate=0.001, subsample=0.8, colsample_bytree=1, silent=1, nthread=4 \n"
     ]
    },
    {
     "name": "stderr",
     "output_type": "stream",
     "text": [
      "/home/ubuntu/Virtualenvs/mateo/lib/python3.4/site-packages/sklearn/externals/joblib/hashing.py:197: DeprecationWarning: Changing the shape of non-C contiguous array by\n",
      "descriptor assignment is deprecated. To maintain\n",
      "the Fortran contiguity of a multidimensional Fortran\n",
      "array, use 'a.T.view(...).T' instead\n",
      "  obj_bytes_view = obj.view(self.np.uint8)\n",
      "/home/ubuntu/Virtualenvs/mateo/lib/python3.4/site-packages/sklearn/metrics/classification.py:1117: UndefinedMetricWarning: F-score is ill-defined and being set to 0.0 due to no predicted samples.\n",
      "  'precision', 'predicted', average, warn_for)\n"
     ]
    },
    {
     "name": "stdout",
     "output_type": "stream",
     "text": [
      "[CV]  base_score=0.01, gamma=0.01, reg_alpha=1.0, n_estimators=30, objective=binary:logistic, max_depth=15, seed=1337, min_child_weight=2, learning_rate=0.001, subsample=0.3, colsample_bytree=1, silent=1, nthread=4 - 1.3min\n",
      "[CV] base_score=0.01, gamma=0.01, reg_alpha=0.01, n_estimators=15, objective=binary:logistic, max_depth=25, seed=1337, min_child_weight=15, learning_rate=0.001, subsample=0.8, colsample_bytree=1, silent=1, nthread=4 \n"
     ]
    },
    {
     "name": "stderr",
     "output_type": "stream",
     "text": [
      "/home/ubuntu/Virtualenvs/mateo/lib/python3.4/site-packages/sklearn/externals/joblib/hashing.py:197: DeprecationWarning: Changing the shape of non-C contiguous array by\n",
      "descriptor assignment is deprecated. To maintain\n",
      "the Fortran contiguity of a multidimensional Fortran\n",
      "array, use 'a.T.view(...).T' instead\n",
      "  obj_bytes_view = obj.view(self.np.uint8)\n",
      "/home/ubuntu/Virtualenvs/mateo/lib/python3.4/site-packages/sklearn/metrics/classification.py:1117: UndefinedMetricWarning: F-score is ill-defined and being set to 0.0 due to no predicted samples.\n",
      "  'precision', 'predicted', average, warn_for)\n"
     ]
    },
    {
     "name": "stdout",
     "output_type": "stream",
     "text": [
      "[CV]  base_score=0.01, gamma=0.01, reg_alpha=1.0, n_estimators=30, objective=binary:logistic, max_depth=15, seed=1337, min_child_weight=2, learning_rate=0.001, subsample=0.3, colsample_bytree=1, silent=1, nthread=4 - 1.3min\n",
      "[CV] base_score=0.01, gamma=0.01, reg_alpha=0.01, n_estimators=15, objective=binary:logistic, max_depth=25, seed=1337, min_child_weight=15, learning_rate=0.001, subsample=0.8, colsample_bytree=1, silent=1, nthread=4 \n"
     ]
    },
    {
     "name": "stderr",
     "output_type": "stream",
     "text": [
      "/home/ubuntu/Virtualenvs/mateo/lib/python3.4/site-packages/sklearn/externals/joblib/hashing.py:197: DeprecationWarning: Changing the shape of non-C contiguous array by\n",
      "descriptor assignment is deprecated. To maintain\n",
      "the Fortran contiguity of a multidimensional Fortran\n",
      "array, use 'a.T.view(...).T' instead\n",
      "  obj_bytes_view = obj.view(self.np.uint8)\n",
      "/home/ubuntu/Virtualenvs/mateo/lib/python3.4/site-packages/sklearn/metrics/classification.py:1117: UndefinedMetricWarning: F-score is ill-defined and being set to 0.0 due to no predicted samples.\n",
      "  'precision', 'predicted', average, warn_for)\n"
     ]
    },
    {
     "name": "stdout",
     "output_type": "stream",
     "text": [
      "[CV]  base_score=0.01, gamma=0.01, reg_alpha=0.01, n_estimators=15, objective=binary:logistic, max_depth=25, seed=1337, min_child_weight=15, learning_rate=0.001, subsample=0.8, colsample_bytree=1, silent=1, nthread=4 - 1.1min\n",
      "[CV] base_score=0.01, gamma=0.01, reg_alpha=0.01, n_estimators=15, objective=binary:logistic, max_depth=25, seed=1337, min_child_weight=15, learning_rate=0.001, subsample=0.5, colsample_bytree=1, silent=1, nthread=4 \n"
     ]
    },
    {
     "name": "stderr",
     "output_type": "stream",
     "text": [
      "/home/ubuntu/Virtualenvs/mateo/lib/python3.4/site-packages/sklearn/externals/joblib/hashing.py:197: DeprecationWarning: Changing the shape of non-C contiguous array by\n",
      "descriptor assignment is deprecated. To maintain\n",
      "the Fortran contiguity of a multidimensional Fortran\n",
      "array, use 'a.T.view(...).T' instead\n",
      "  obj_bytes_view = obj.view(self.np.uint8)\n",
      "/home/ubuntu/Virtualenvs/mateo/lib/python3.4/site-packages/sklearn/metrics/classification.py:1117: UndefinedMetricWarning: F-score is ill-defined and being set to 0.0 due to no predicted samples.\n",
      "  'precision', 'predicted', average, warn_for)\n"
     ]
    },
    {
     "name": "stdout",
     "output_type": "stream",
     "text": [
      "[CV]  base_score=0.01, gamma=0.01, reg_alpha=0.01, n_estimators=15, objective=binary:logistic, max_depth=25, seed=1337, min_child_weight=15, learning_rate=0.001, subsample=0.8, colsample_bytree=1, silent=1, nthread=4 - 1.1min\n",
      "[CV] base_score=0.01, gamma=0.01, reg_alpha=0.01, n_estimators=15, objective=binary:logistic, max_depth=25, seed=1337, min_child_weight=15, learning_rate=0.001, subsample=0.5, colsample_bytree=1, silent=1, nthread=4 \n"
     ]
    },
    {
     "name": "stderr",
     "output_type": "stream",
     "text": [
      "/home/ubuntu/Virtualenvs/mateo/lib/python3.4/site-packages/sklearn/externals/joblib/hashing.py:197: DeprecationWarning: Changing the shape of non-C contiguous array by\n",
      "descriptor assignment is deprecated. To maintain\n",
      "the Fortran contiguity of a multidimensional Fortran\n",
      "array, use 'a.T.view(...).T' instead\n",
      "  obj_bytes_view = obj.view(self.np.uint8)\n",
      "/home/ubuntu/Virtualenvs/mateo/lib/python3.4/site-packages/sklearn/metrics/classification.py:1117: UndefinedMetricWarning: F-score is ill-defined and being set to 0.0 due to no predicted samples.\n",
      "  'precision', 'predicted', average, warn_for)\n"
     ]
    },
    {
     "name": "stdout",
     "output_type": "stream",
     "text": [
      "[CV]  base_score=0.01, gamma=0.01, reg_alpha=0.01, n_estimators=15, objective=binary:logistic, max_depth=25, seed=1337, min_child_weight=15, learning_rate=0.001, subsample=0.8, colsample_bytree=1, silent=1, nthread=4 - 1.1min\n",
      "[CV] base_score=0.01, gamma=0.01, reg_alpha=0.01, n_estimators=15, objective=binary:logistic, max_depth=25, seed=1337, min_child_weight=15, learning_rate=0.001, subsample=0.5, colsample_bytree=1, silent=1, nthread=4 \n"
     ]
    },
    {
     "name": "stderr",
     "output_type": "stream",
     "text": [
      "/home/ubuntu/Virtualenvs/mateo/lib/python3.4/site-packages/sklearn/externals/joblib/hashing.py:197: DeprecationWarning: Changing the shape of non-C contiguous array by\n",
      "descriptor assignment is deprecated. To maintain\n",
      "the Fortran contiguity of a multidimensional Fortran\n",
      "array, use 'a.T.view(...).T' instead\n",
      "  obj_bytes_view = obj.view(self.np.uint8)\n",
      "/home/ubuntu/Virtualenvs/mateo/lib/python3.4/site-packages/sklearn/metrics/classification.py:1117: UndefinedMetricWarning: F-score is ill-defined and being set to 0.0 due to no predicted samples.\n",
      "  'precision', 'predicted', average, warn_for)\n"
     ]
    },
    {
     "name": "stdout",
     "output_type": "stream",
     "text": [
      "[CV]  base_score=0.01, gamma=0.01, reg_alpha=0.01, n_estimators=15, objective=binary:logistic, max_depth=25, seed=1337, min_child_weight=15, learning_rate=0.001, subsample=0.5, colsample_bytree=1, silent=1, nthread=4 - 1.2min\n",
      "[CV] base_score=0.01, gamma=0.01, reg_alpha=0.01, n_estimators=15, objective=binary:logistic, max_depth=25, seed=1337, min_child_weight=15, learning_rate=0.001, subsample=0.3, colsample_bytree=1, silent=1, nthread=4 \n"
     ]
    },
    {
     "name": "stderr",
     "output_type": "stream",
     "text": [
      "/home/ubuntu/Virtualenvs/mateo/lib/python3.4/site-packages/sklearn/externals/joblib/hashing.py:197: DeprecationWarning: Changing the shape of non-C contiguous array by\n",
      "descriptor assignment is deprecated. To maintain\n",
      "the Fortran contiguity of a multidimensional Fortran\n",
      "array, use 'a.T.view(...).T' instead\n",
      "  obj_bytes_view = obj.view(self.np.uint8)\n",
      "/home/ubuntu/Virtualenvs/mateo/lib/python3.4/site-packages/sklearn/metrics/classification.py:1117: UndefinedMetricWarning: F-score is ill-defined and being set to 0.0 due to no predicted samples.\n",
      "  'precision', 'predicted', average, warn_for)\n"
     ]
    },
    {
     "name": "stdout",
     "output_type": "stream",
     "text": [
      "[CV]  base_score=0.01, gamma=0.01, reg_alpha=0.01, n_estimators=15, objective=binary:logistic, max_depth=25, seed=1337, min_child_weight=15, learning_rate=0.001, subsample=0.5, colsample_bytree=1, silent=1, nthread=4 - 1.2min\n",
      "[CV] base_score=0.01, gamma=0.01, reg_alpha=0.01, n_estimators=15, objective=binary:logistic, max_depth=25, seed=1337, min_child_weight=15, learning_rate=0.001, subsample=0.3, colsample_bytree=1, silent=1, nthread=4 \n"
     ]
    },
    {
     "name": "stderr",
     "output_type": "stream",
     "text": [
      "/home/ubuntu/Virtualenvs/mateo/lib/python3.4/site-packages/sklearn/externals/joblib/hashing.py:197: DeprecationWarning: Changing the shape of non-C contiguous array by\n",
      "descriptor assignment is deprecated. To maintain\n",
      "the Fortran contiguity of a multidimensional Fortran\n",
      "array, use 'a.T.view(...).T' instead\n",
      "  obj_bytes_view = obj.view(self.np.uint8)\n",
      "/home/ubuntu/Virtualenvs/mateo/lib/python3.4/site-packages/sklearn/metrics/classification.py:1117: UndefinedMetricWarning: F-score is ill-defined and being set to 0.0 due to no predicted samples.\n",
      "  'precision', 'predicted', average, warn_for)\n"
     ]
    },
    {
     "name": "stdout",
     "output_type": "stream",
     "text": [
      "[CV]  base_score=0.01, gamma=0.01, reg_alpha=0.01, n_estimators=15, objective=binary:logistic, max_depth=25, seed=1337, min_child_weight=15, learning_rate=0.001, subsample=0.5, colsample_bytree=1, silent=1, nthread=4 - 1.2min\n",
      "[CV] base_score=0.01, gamma=0.01, reg_alpha=0.01, n_estimators=15, objective=binary:logistic, max_depth=25, seed=1337, min_child_weight=15, learning_rate=0.001, subsample=0.3, colsample_bytree=1, silent=1, nthread=4 \n"
     ]
    },
    {
     "name": "stderr",
     "output_type": "stream",
     "text": [
      "/home/ubuntu/Virtualenvs/mateo/lib/python3.4/site-packages/sklearn/externals/joblib/hashing.py:197: DeprecationWarning: Changing the shape of non-C contiguous array by\n",
      "descriptor assignment is deprecated. To maintain\n",
      "the Fortran contiguity of a multidimensional Fortran\n",
      "array, use 'a.T.view(...).T' instead\n",
      "  obj_bytes_view = obj.view(self.np.uint8)\n",
      "/home/ubuntu/Virtualenvs/mateo/lib/python3.4/site-packages/sklearn/metrics/classification.py:1117: UndefinedMetricWarning: F-score is ill-defined and being set to 0.0 due to no predicted samples.\n",
      "  'precision', 'predicted', average, warn_for)\n"
     ]
    },
    {
     "name": "stdout",
     "output_type": "stream",
     "text": [
      "[CV]  base_score=0.01, gamma=0.01, reg_alpha=0.01, n_estimators=15, objective=binary:logistic, max_depth=25, seed=1337, min_child_weight=15, learning_rate=0.001, subsample=0.3, colsample_bytree=1, silent=1, nthread=4 -  51.5s\n",
      "[CV] base_score=0.01, gamma=0.01, reg_alpha=0.1, n_estimators=15, objective=binary:logistic, max_depth=25, seed=1337, min_child_weight=15, learning_rate=0.001, subsample=0.8, colsample_bytree=1, silent=1, nthread=4 \n"
     ]
    },
    {
     "name": "stderr",
     "output_type": "stream",
     "text": [
      "/home/ubuntu/Virtualenvs/mateo/lib/python3.4/site-packages/sklearn/externals/joblib/hashing.py:197: DeprecationWarning: Changing the shape of non-C contiguous array by\n",
      "descriptor assignment is deprecated. To maintain\n",
      "the Fortran contiguity of a multidimensional Fortran\n",
      "array, use 'a.T.view(...).T' instead\n",
      "  obj_bytes_view = obj.view(self.np.uint8)\n",
      "/home/ubuntu/Virtualenvs/mateo/lib/python3.4/site-packages/sklearn/metrics/classification.py:1117: UndefinedMetricWarning: F-score is ill-defined and being set to 0.0 due to no predicted samples.\n",
      "  'precision', 'predicted', average, warn_for)\n"
     ]
    },
    {
     "name": "stdout",
     "output_type": "stream",
     "text": [
      "[CV]  base_score=0.01, gamma=0.01, reg_alpha=0.01, n_estimators=15, objective=binary:logistic, max_depth=25, seed=1337, min_child_weight=15, learning_rate=0.001, subsample=0.3, colsample_bytree=1, silent=1, nthread=4 -  50.6s\n",
      "[CV] base_score=0.01, gamma=0.01, reg_alpha=0.1, n_estimators=15, objective=binary:logistic, max_depth=25, seed=1337, min_child_weight=15, learning_rate=0.001, subsample=0.8, colsample_bytree=1, silent=1, nthread=4 \n"
     ]
    },
    {
     "name": "stderr",
     "output_type": "stream",
     "text": [
      "/home/ubuntu/Virtualenvs/mateo/lib/python3.4/site-packages/sklearn/externals/joblib/hashing.py:197: DeprecationWarning: Changing the shape of non-C contiguous array by\n",
      "descriptor assignment is deprecated. To maintain\n",
      "the Fortran contiguity of a multidimensional Fortran\n",
      "array, use 'a.T.view(...).T' instead\n",
      "  obj_bytes_view = obj.view(self.np.uint8)\n",
      "/home/ubuntu/Virtualenvs/mateo/lib/python3.4/site-packages/sklearn/metrics/classification.py:1117: UndefinedMetricWarning: F-score is ill-defined and being set to 0.0 due to no predicted samples.\n",
      "  'precision', 'predicted', average, warn_for)\n"
     ]
    },
    {
     "name": "stdout",
     "output_type": "stream",
     "text": [
      "[CV]  base_score=0.01, gamma=0.01, reg_alpha=0.01, n_estimators=15, objective=binary:logistic, max_depth=25, seed=1337, min_child_weight=15, learning_rate=0.001, subsample=0.3, colsample_bytree=1, silent=1, nthread=4 -  53.2s\n",
      "[CV] base_score=0.01, gamma=0.01, reg_alpha=0.1, n_estimators=15, objective=binary:logistic, max_depth=25, seed=1337, min_child_weight=15, learning_rate=0.001, subsample=0.8, colsample_bytree=1, silent=1, nthread=4 \n"
     ]
    },
    {
     "name": "stderr",
     "output_type": "stream",
     "text": [
      "/home/ubuntu/Virtualenvs/mateo/lib/python3.4/site-packages/sklearn/externals/joblib/hashing.py:197: DeprecationWarning: Changing the shape of non-C contiguous array by\n",
      "descriptor assignment is deprecated. To maintain\n",
      "the Fortran contiguity of a multidimensional Fortran\n",
      "array, use 'a.T.view(...).T' instead\n",
      "  obj_bytes_view = obj.view(self.np.uint8)\n",
      "/home/ubuntu/Virtualenvs/mateo/lib/python3.4/site-packages/sklearn/metrics/classification.py:1117: UndefinedMetricWarning: F-score is ill-defined and being set to 0.0 due to no predicted samples.\n",
      "  'precision', 'predicted', average, warn_for)\n"
     ]
    },
    {
     "name": "stdout",
     "output_type": "stream",
     "text": [
      "[CV]  base_score=0.01, gamma=0.01, reg_alpha=0.1, n_estimators=15, objective=binary:logistic, max_depth=25, seed=1337, min_child_weight=15, learning_rate=0.001, subsample=0.8, colsample_bytree=1, silent=1, nthread=4 - 1.3min\n",
      "[CV] base_score=0.01, gamma=0.01, reg_alpha=0.1, n_estimators=15, objective=binary:logistic, max_depth=25, seed=1337, min_child_weight=15, learning_rate=0.001, subsample=0.5, colsample_bytree=1, silent=1, nthread=4 \n"
     ]
    },
    {
     "name": "stderr",
     "output_type": "stream",
     "text": [
      "/home/ubuntu/Virtualenvs/mateo/lib/python3.4/site-packages/sklearn/externals/joblib/hashing.py:197: DeprecationWarning: Changing the shape of non-C contiguous array by\n",
      "descriptor assignment is deprecated. To maintain\n",
      "the Fortran contiguity of a multidimensional Fortran\n",
      "array, use 'a.T.view(...).T' instead\n",
      "  obj_bytes_view = obj.view(self.np.uint8)\n",
      "/home/ubuntu/Virtualenvs/mateo/lib/python3.4/site-packages/sklearn/metrics/classification.py:1117: UndefinedMetricWarning: F-score is ill-defined and being set to 0.0 due to no predicted samples.\n",
      "  'precision', 'predicted', average, warn_for)\n"
     ]
    },
    {
     "name": "stdout",
     "output_type": "stream",
     "text": [
      "[CV]  base_score=0.01, gamma=0.01, reg_alpha=0.1, n_estimators=15, objective=binary:logistic, max_depth=25, seed=1337, min_child_weight=15, learning_rate=0.001, subsample=0.8, colsample_bytree=1, silent=1, nthread=4 - 1.3min\n",
      "[CV] base_score=0.01, gamma=0.01, reg_alpha=0.1, n_estimators=15, objective=binary:logistic, max_depth=25, seed=1337, min_child_weight=15, learning_rate=0.001, subsample=0.5, colsample_bytree=1, silent=1, nthread=4 \n"
     ]
    },
    {
     "name": "stderr",
     "output_type": "stream",
     "text": [
      "/home/ubuntu/Virtualenvs/mateo/lib/python3.4/site-packages/sklearn/externals/joblib/hashing.py:197: DeprecationWarning: Changing the shape of non-C contiguous array by\n",
      "descriptor assignment is deprecated. To maintain\n",
      "the Fortran contiguity of a multidimensional Fortran\n",
      "array, use 'a.T.view(...).T' instead\n",
      "  obj_bytes_view = obj.view(self.np.uint8)\n",
      "/home/ubuntu/Virtualenvs/mateo/lib/python3.4/site-packages/sklearn/metrics/classification.py:1117: UndefinedMetricWarning: F-score is ill-defined and being set to 0.0 due to no predicted samples.\n",
      "  'precision', 'predicted', average, warn_for)\n"
     ]
    },
    {
     "name": "stdout",
     "output_type": "stream",
     "text": [
      "[CV]  base_score=0.01, gamma=0.01, reg_alpha=0.1, n_estimators=15, objective=binary:logistic, max_depth=25, seed=1337, min_child_weight=15, learning_rate=0.001, subsample=0.8, colsample_bytree=1, silent=1, nthread=4 - 1.3min\n",
      "[CV] base_score=0.01, gamma=0.01, reg_alpha=0.1, n_estimators=15, objective=binary:logistic, max_depth=25, seed=1337, min_child_weight=15, learning_rate=0.001, subsample=0.5, colsample_bytree=1, silent=1, nthread=4 \n"
     ]
    },
    {
     "name": "stderr",
     "output_type": "stream",
     "text": [
      "/home/ubuntu/Virtualenvs/mateo/lib/python3.4/site-packages/sklearn/externals/joblib/hashing.py:197: DeprecationWarning: Changing the shape of non-C contiguous array by\n",
      "descriptor assignment is deprecated. To maintain\n",
      "the Fortran contiguity of a multidimensional Fortran\n",
      "array, use 'a.T.view(...).T' instead\n",
      "  obj_bytes_view = obj.view(self.np.uint8)\n",
      "/home/ubuntu/Virtualenvs/mateo/lib/python3.4/site-packages/sklearn/metrics/classification.py:1117: UndefinedMetricWarning: F-score is ill-defined and being set to 0.0 due to no predicted samples.\n",
      "  'precision', 'predicted', average, warn_for)\n"
     ]
    },
    {
     "name": "stdout",
     "output_type": "stream",
     "text": [
      "[CV]  base_score=0.01, gamma=0.01, reg_alpha=0.1, n_estimators=15, objective=binary:logistic, max_depth=25, seed=1337, min_child_weight=15, learning_rate=0.001, subsample=0.5, colsample_bytree=1, silent=1, nthread=4 - 1.2min\n",
      "[CV] base_score=0.01, gamma=0.01, reg_alpha=0.1, n_estimators=15, objective=binary:logistic, max_depth=25, seed=1337, min_child_weight=15, learning_rate=0.001, subsample=0.3, colsample_bytree=1, silent=1, nthread=4 \n"
     ]
    },
    {
     "name": "stderr",
     "output_type": "stream",
     "text": [
      "/home/ubuntu/Virtualenvs/mateo/lib/python3.4/site-packages/sklearn/externals/joblib/hashing.py:197: DeprecationWarning: Changing the shape of non-C contiguous array by\n",
      "descriptor assignment is deprecated. To maintain\n",
      "the Fortran contiguity of a multidimensional Fortran\n",
      "array, use 'a.T.view(...).T' instead\n",
      "  obj_bytes_view = obj.view(self.np.uint8)\n",
      "/home/ubuntu/Virtualenvs/mateo/lib/python3.4/site-packages/sklearn/metrics/classification.py:1117: UndefinedMetricWarning: F-score is ill-defined and being set to 0.0 due to no predicted samples.\n",
      "  'precision', 'predicted', average, warn_for)\n"
     ]
    },
    {
     "name": "stdout",
     "output_type": "stream",
     "text": [
      "[CV]  base_score=0.01, gamma=0.01, reg_alpha=0.1, n_estimators=15, objective=binary:logistic, max_depth=25, seed=1337, min_child_weight=15, learning_rate=0.001, subsample=0.5, colsample_bytree=1, silent=1, nthread=4 - 1.2min\n",
      "[CV] base_score=0.01, gamma=0.01, reg_alpha=0.1, n_estimators=15, objective=binary:logistic, max_depth=25, seed=1337, min_child_weight=15, learning_rate=0.001, subsample=0.3, colsample_bytree=1, silent=1, nthread=4 \n"
     ]
    },
    {
     "name": "stderr",
     "output_type": "stream",
     "text": [
      "/home/ubuntu/Virtualenvs/mateo/lib/python3.4/site-packages/sklearn/externals/joblib/hashing.py:197: DeprecationWarning: Changing the shape of non-C contiguous array by\n",
      "descriptor assignment is deprecated. To maintain\n",
      "the Fortran contiguity of a multidimensional Fortran\n",
      "array, use 'a.T.view(...).T' instead\n",
      "  obj_bytes_view = obj.view(self.np.uint8)\n",
      "/home/ubuntu/Virtualenvs/mateo/lib/python3.4/site-packages/sklearn/metrics/classification.py:1117: UndefinedMetricWarning: F-score is ill-defined and being set to 0.0 due to no predicted samples.\n",
      "  'precision', 'predicted', average, warn_for)\n"
     ]
    },
    {
     "name": "stdout",
     "output_type": "stream",
     "text": [
      "[CV]  base_score=0.01, gamma=0.01, reg_alpha=0.1, n_estimators=15, objective=binary:logistic, max_depth=25, seed=1337, min_child_weight=15, learning_rate=0.001, subsample=0.5, colsample_bytree=1, silent=1, nthread=4 - 1.1min\n",
      "[CV] base_score=0.01, gamma=0.01, reg_alpha=0.1, n_estimators=15, objective=binary:logistic, max_depth=25, seed=1337, min_child_weight=15, learning_rate=0.001, subsample=0.3, colsample_bytree=1, silent=1, nthread=4 \n"
     ]
    },
    {
     "name": "stderr",
     "output_type": "stream",
     "text": [
      "/home/ubuntu/Virtualenvs/mateo/lib/python3.4/site-packages/sklearn/externals/joblib/hashing.py:197: DeprecationWarning: Changing the shape of non-C contiguous array by\n",
      "descriptor assignment is deprecated. To maintain\n",
      "the Fortran contiguity of a multidimensional Fortran\n",
      "array, use 'a.T.view(...).T' instead\n",
      "  obj_bytes_view = obj.view(self.np.uint8)\n",
      "/home/ubuntu/Virtualenvs/mateo/lib/python3.4/site-packages/sklearn/metrics/classification.py:1117: UndefinedMetricWarning: F-score is ill-defined and being set to 0.0 due to no predicted samples.\n",
      "  'precision', 'predicted', average, warn_for)\n"
     ]
    },
    {
     "name": "stdout",
     "output_type": "stream",
     "text": [
      "[CV]  base_score=0.01, gamma=0.01, reg_alpha=0.1, n_estimators=15, objective=binary:logistic, max_depth=25, seed=1337, min_child_weight=15, learning_rate=0.001, subsample=0.3, colsample_bytree=1, silent=1, nthread=4 -  49.4s\n",
      "[CV] base_score=0.01, gamma=0.01, reg_alpha=1.0, n_estimators=15, objective=binary:logistic, max_depth=25, seed=1337, min_child_weight=15, learning_rate=0.001, subsample=0.8, colsample_bytree=1, silent=1, nthread=4 \n"
     ]
    },
    {
     "name": "stderr",
     "output_type": "stream",
     "text": [
      "/home/ubuntu/Virtualenvs/mateo/lib/python3.4/site-packages/sklearn/externals/joblib/hashing.py:197: DeprecationWarning: Changing the shape of non-C contiguous array by\n",
      "descriptor assignment is deprecated. To maintain\n",
      "the Fortran contiguity of a multidimensional Fortran\n",
      "array, use 'a.T.view(...).T' instead\n",
      "  obj_bytes_view = obj.view(self.np.uint8)\n",
      "/home/ubuntu/Virtualenvs/mateo/lib/python3.4/site-packages/sklearn/metrics/classification.py:1117: UndefinedMetricWarning: F-score is ill-defined and being set to 0.0 due to no predicted samples.\n",
      "  'precision', 'predicted', average, warn_for)\n"
     ]
    },
    {
     "name": "stdout",
     "output_type": "stream",
     "text": [
      "[CV]  base_score=0.01, gamma=0.01, reg_alpha=0.1, n_estimators=15, objective=binary:logistic, max_depth=25, seed=1337, min_child_weight=15, learning_rate=0.001, subsample=0.3, colsample_bytree=1, silent=1, nthread=4 -  52.6s\n",
      "[CV] base_score=0.01, gamma=0.01, reg_alpha=1.0, n_estimators=15, objective=binary:logistic, max_depth=25, seed=1337, min_child_weight=15, learning_rate=0.001, subsample=0.8, colsample_bytree=1, silent=1, nthread=4 \n"
     ]
    },
    {
     "name": "stderr",
     "output_type": "stream",
     "text": [
      "/home/ubuntu/Virtualenvs/mateo/lib/python3.4/site-packages/sklearn/externals/joblib/hashing.py:197: DeprecationWarning: Changing the shape of non-C contiguous array by\n",
      "descriptor assignment is deprecated. To maintain\n",
      "the Fortran contiguity of a multidimensional Fortran\n",
      "array, use 'a.T.view(...).T' instead\n",
      "  obj_bytes_view = obj.view(self.np.uint8)\n",
      "/home/ubuntu/Virtualenvs/mateo/lib/python3.4/site-packages/sklearn/metrics/classification.py:1117: UndefinedMetricWarning: F-score is ill-defined and being set to 0.0 due to no predicted samples.\n",
      "  'precision', 'predicted', average, warn_for)\n"
     ]
    },
    {
     "name": "stdout",
     "output_type": "stream",
     "text": [
      "[CV]  base_score=0.01, gamma=0.01, reg_alpha=0.1, n_estimators=15, objective=binary:logistic, max_depth=25, seed=1337, min_child_weight=15, learning_rate=0.001, subsample=0.3, colsample_bytree=1, silent=1, nthread=4 -  51.2s\n",
      "[CV] base_score=0.01, gamma=0.01, reg_alpha=1.0, n_estimators=15, objective=binary:logistic, max_depth=25, seed=1337, min_child_weight=15, learning_rate=0.001, subsample=0.8, colsample_bytree=1, silent=1, nthread=4 \n"
     ]
    },
    {
     "name": "stderr",
     "output_type": "stream",
     "text": [
      "/home/ubuntu/Virtualenvs/mateo/lib/python3.4/site-packages/sklearn/externals/joblib/hashing.py:197: DeprecationWarning: Changing the shape of non-C contiguous array by\n",
      "descriptor assignment is deprecated. To maintain\n",
      "the Fortran contiguity of a multidimensional Fortran\n",
      "array, use 'a.T.view(...).T' instead\n",
      "  obj_bytes_view = obj.view(self.np.uint8)\n",
      "/home/ubuntu/Virtualenvs/mateo/lib/python3.4/site-packages/sklearn/metrics/classification.py:1117: UndefinedMetricWarning: F-score is ill-defined and being set to 0.0 due to no predicted samples.\n",
      "  'precision', 'predicted', average, warn_for)\n"
     ]
    },
    {
     "name": "stdout",
     "output_type": "stream",
     "text": [
      "[CV]  base_score=0.01, gamma=0.01, reg_alpha=1.0, n_estimators=15, objective=binary:logistic, max_depth=25, seed=1337, min_child_weight=15, learning_rate=0.001, subsample=0.8, colsample_bytree=1, silent=1, nthread=4 -  58.2s\n",
      "[CV] base_score=0.01, gamma=0.01, reg_alpha=1.0, n_estimators=15, objective=binary:logistic, max_depth=25, seed=1337, min_child_weight=15, learning_rate=0.001, subsample=0.5, colsample_bytree=1, silent=1, nthread=4 \n"
     ]
    },
    {
     "name": "stderr",
     "output_type": "stream",
     "text": [
      "/home/ubuntu/Virtualenvs/mateo/lib/python3.4/site-packages/sklearn/externals/joblib/hashing.py:197: DeprecationWarning: Changing the shape of non-C contiguous array by\n",
      "descriptor assignment is deprecated. To maintain\n",
      "the Fortran contiguity of a multidimensional Fortran\n",
      "array, use 'a.T.view(...).T' instead\n",
      "  obj_bytes_view = obj.view(self.np.uint8)\n",
      "/home/ubuntu/Virtualenvs/mateo/lib/python3.4/site-packages/sklearn/metrics/classification.py:1117: UndefinedMetricWarning: F-score is ill-defined and being set to 0.0 due to no predicted samples.\n",
      "  'precision', 'predicted', average, warn_for)\n"
     ]
    },
    {
     "name": "stdout",
     "output_type": "stream",
     "text": [
      "[CV]  base_score=0.01, gamma=0.01, reg_alpha=1.0, n_estimators=15, objective=binary:logistic, max_depth=25, seed=1337, min_child_weight=15, learning_rate=0.001, subsample=0.8, colsample_bytree=1, silent=1, nthread=4 -  57.2s\n",
      "[CV] base_score=0.01, gamma=0.01, reg_alpha=1.0, n_estimators=15, objective=binary:logistic, max_depth=25, seed=1337, min_child_weight=15, learning_rate=0.001, subsample=0.5, colsample_bytree=1, silent=1, nthread=4 \n"
     ]
    },
    {
     "name": "stderr",
     "output_type": "stream",
     "text": [
      "/home/ubuntu/Virtualenvs/mateo/lib/python3.4/site-packages/sklearn/externals/joblib/hashing.py:197: DeprecationWarning: Changing the shape of non-C contiguous array by\n",
      "descriptor assignment is deprecated. To maintain\n",
      "the Fortran contiguity of a multidimensional Fortran\n",
      "array, use 'a.T.view(...).T' instead\n",
      "  obj_bytes_view = obj.view(self.np.uint8)\n",
      "/home/ubuntu/Virtualenvs/mateo/lib/python3.4/site-packages/sklearn/metrics/classification.py:1117: UndefinedMetricWarning: F-score is ill-defined and being set to 0.0 due to no predicted samples.\n",
      "  'precision', 'predicted', average, warn_for)\n"
     ]
    },
    {
     "name": "stdout",
     "output_type": "stream",
     "text": [
      "[CV]  base_score=0.01, gamma=0.01, reg_alpha=1.0, n_estimators=15, objective=binary:logistic, max_depth=25, seed=1337, min_child_weight=15, learning_rate=0.001, subsample=0.8, colsample_bytree=1, silent=1, nthread=4 -  56.3s\n",
      "[CV] base_score=0.01, gamma=0.01, reg_alpha=1.0, n_estimators=15, objective=binary:logistic, max_depth=25, seed=1337, min_child_weight=15, learning_rate=0.001, subsample=0.5, colsample_bytree=1, silent=1, nthread=4 \n"
     ]
    },
    {
     "name": "stderr",
     "output_type": "stream",
     "text": [
      "/home/ubuntu/Virtualenvs/mateo/lib/python3.4/site-packages/sklearn/externals/joblib/hashing.py:197: DeprecationWarning: Changing the shape of non-C contiguous array by\n",
      "descriptor assignment is deprecated. To maintain\n",
      "the Fortran contiguity of a multidimensional Fortran\n",
      "array, use 'a.T.view(...).T' instead\n",
      "  obj_bytes_view = obj.view(self.np.uint8)\n",
      "/home/ubuntu/Virtualenvs/mateo/lib/python3.4/site-packages/sklearn/metrics/classification.py:1117: UndefinedMetricWarning: F-score is ill-defined and being set to 0.0 due to no predicted samples.\n",
      "  'precision', 'predicted', average, warn_for)\n"
     ]
    },
    {
     "name": "stdout",
     "output_type": "stream",
     "text": [
      "[CV]  base_score=0.01, gamma=0.01, reg_alpha=1.0, n_estimators=15, objective=binary:logistic, max_depth=25, seed=1337, min_child_weight=15, learning_rate=0.001, subsample=0.5, colsample_bytree=1, silent=1, nthread=4 -  52.0s\n",
      "[CV] base_score=0.01, gamma=0.01, reg_alpha=1.0, n_estimators=15, objective=binary:logistic, max_depth=25, seed=1337, min_child_weight=15, learning_rate=0.001, subsample=0.3, colsample_bytree=1, silent=1, nthread=4 \n"
     ]
    },
    {
     "name": "stderr",
     "output_type": "stream",
     "text": [
      "/home/ubuntu/Virtualenvs/mateo/lib/python3.4/site-packages/sklearn/externals/joblib/hashing.py:197: DeprecationWarning: Changing the shape of non-C contiguous array by\n",
      "descriptor assignment is deprecated. To maintain\n",
      "the Fortran contiguity of a multidimensional Fortran\n",
      "array, use 'a.T.view(...).T' instead\n",
      "  obj_bytes_view = obj.view(self.np.uint8)\n",
      "/home/ubuntu/Virtualenvs/mateo/lib/python3.4/site-packages/sklearn/metrics/classification.py:1117: UndefinedMetricWarning: F-score is ill-defined and being set to 0.0 due to no predicted samples.\n",
      "  'precision', 'predicted', average, warn_for)\n"
     ]
    },
    {
     "name": "stdout",
     "output_type": "stream",
     "text": [
      "[CV]  base_score=0.01, gamma=0.01, reg_alpha=1.0, n_estimators=15, objective=binary:logistic, max_depth=25, seed=1337, min_child_weight=15, learning_rate=0.001, subsample=0.5, colsample_bytree=1, silent=1, nthread=4 -  54.0s\n",
      "[CV] base_score=0.01, gamma=0.01, reg_alpha=1.0, n_estimators=15, objective=binary:logistic, max_depth=25, seed=1337, min_child_weight=15, learning_rate=0.001, subsample=0.3, colsample_bytree=1, silent=1, nthread=4 \n"
     ]
    },
    {
     "name": "stderr",
     "output_type": "stream",
     "text": [
      "/home/ubuntu/Virtualenvs/mateo/lib/python3.4/site-packages/sklearn/metrics/classification.py:1117: UndefinedMetricWarning: F-score is ill-defined and being set to 0.0 due to no predicted samples.\n",
      "  'precision', 'predicted', average, warn_for)\n"
     ]
    },
    {
     "name": "stdout",
     "output_type": "stream",
     "text": [
      "[CV]  base_score=0.01, gamma=0.01, reg_alpha=1.0, n_estimators=15, objective=binary:logistic, max_depth=25, seed=1337, min_child_weight=15, learning_rate=0.001, subsample=0.5, colsample_bytree=1, silent=1, nthread=4 -  51.9s\n"
     ]
    },
    {
     "name": "stderr",
     "output_type": "stream",
     "text": [
      "/home/ubuntu/Virtualenvs/mateo/lib/python3.4/site-packages/sklearn/externals/joblib/hashing.py:197: DeprecationWarning: Changing the shape of non-C contiguous array by\n",
      "descriptor assignment is deprecated. To maintain\n",
      "the Fortran contiguity of a multidimensional Fortran\n",
      "array, use 'a.T.view(...).T' instead\n",
      "  obj_bytes_view = obj.view(self.np.uint8)\n"
     ]
    },
    {
     "name": "stdout",
     "output_type": "stream",
     "text": [
      "[CV] base_score=0.01, gamma=0.01, reg_alpha=1.0, n_estimators=15, objective=binary:logistic, max_depth=25, seed=1337, min_child_weight=15, learning_rate=0.001, subsample=0.3, colsample_bytree=1, silent=1, nthread=4 \n"
     ]
    },
    {
     "name": "stderr",
     "output_type": "stream",
     "text": [
      "/home/ubuntu/Virtualenvs/mateo/lib/python3.4/site-packages/sklearn/externals/joblib/hashing.py:197: DeprecationWarning: Changing the shape of non-C contiguous array by\n",
      "descriptor assignment is deprecated. To maintain\n",
      "the Fortran contiguity of a multidimensional Fortran\n",
      "array, use 'a.T.view(...).T' instead\n",
      "  obj_bytes_view = obj.view(self.np.uint8)\n",
      "/home/ubuntu/Virtualenvs/mateo/lib/python3.4/site-packages/sklearn/metrics/classification.py:1117: UndefinedMetricWarning: F-score is ill-defined and being set to 0.0 due to no predicted samples.\n",
      "  'precision', 'predicted', average, warn_for)\n"
     ]
    },
    {
     "name": "stdout",
     "output_type": "stream",
     "text": [
      "[CV]  base_score=0.01, gamma=0.01, reg_alpha=1.0, n_estimators=15, objective=binary:logistic, max_depth=25, seed=1337, min_child_weight=15, learning_rate=0.001, subsample=0.3, colsample_bytree=1, silent=1, nthread=4 -  37.6s\n",
      "[CV] base_score=0.01, gamma=0.01, reg_alpha=0.01, n_estimators=30, objective=binary:logistic, max_depth=25, seed=1337, min_child_weight=15, learning_rate=0.001, subsample=0.8, colsample_bytree=1, silent=1, nthread=4 \n"
     ]
    },
    {
     "name": "stderr",
     "output_type": "stream",
     "text": [
      "/home/ubuntu/Virtualenvs/mateo/lib/python3.4/site-packages/sklearn/externals/joblib/hashing.py:197: DeprecationWarning: Changing the shape of non-C contiguous array by\n",
      "descriptor assignment is deprecated. To maintain\n",
      "the Fortran contiguity of a multidimensional Fortran\n",
      "array, use 'a.T.view(...).T' instead\n",
      "  obj_bytes_view = obj.view(self.np.uint8)\n",
      "/home/ubuntu/Virtualenvs/mateo/lib/python3.4/site-packages/sklearn/metrics/classification.py:1117: UndefinedMetricWarning: F-score is ill-defined and being set to 0.0 due to no predicted samples.\n",
      "  'precision', 'predicted', average, warn_for)\n"
     ]
    },
    {
     "name": "stdout",
     "output_type": "stream",
     "text": [
      "[CV]  base_score=0.01, gamma=0.01, reg_alpha=1.0, n_estimators=15, objective=binary:logistic, max_depth=25, seed=1337, min_child_weight=15, learning_rate=0.001, subsample=0.3, colsample_bytree=1, silent=1, nthread=4 -  40.8s\n",
      "[CV] base_score=0.01, gamma=0.01, reg_alpha=0.01, n_estimators=30, objective=binary:logistic, max_depth=25, seed=1337, min_child_weight=15, learning_rate=0.001, subsample=0.8, colsample_bytree=1, silent=1, nthread=4 \n"
     ]
    },
    {
     "name": "stderr",
     "output_type": "stream",
     "text": [
      "/home/ubuntu/Virtualenvs/mateo/lib/python3.4/site-packages/sklearn/externals/joblib/hashing.py:197: DeprecationWarning: Changing the shape of non-C contiguous array by\n",
      "descriptor assignment is deprecated. To maintain\n",
      "the Fortran contiguity of a multidimensional Fortran\n",
      "array, use 'a.T.view(...).T' instead\n",
      "  obj_bytes_view = obj.view(self.np.uint8)\n",
      "/home/ubuntu/Virtualenvs/mateo/lib/python3.4/site-packages/sklearn/metrics/classification.py:1117: UndefinedMetricWarning: F-score is ill-defined and being set to 0.0 due to no predicted samples.\n",
      "  'precision', 'predicted', average, warn_for)\n"
     ]
    },
    {
     "name": "stdout",
     "output_type": "stream",
     "text": [
      "[CV]  base_score=0.01, gamma=0.01, reg_alpha=1.0, n_estimators=15, objective=binary:logistic, max_depth=25, seed=1337, min_child_weight=15, learning_rate=0.001, subsample=0.3, colsample_bytree=1, silent=1, nthread=4 -  39.9s\n",
      "[CV] base_score=0.01, gamma=0.01, reg_alpha=0.01, n_estimators=30, objective=binary:logistic, max_depth=25, seed=1337, min_child_weight=15, learning_rate=0.001, subsample=0.8, colsample_bytree=1, silent=1, nthread=4 \n"
     ]
    },
    {
     "name": "stderr",
     "output_type": "stream",
     "text": [
      "/home/ubuntu/Virtualenvs/mateo/lib/python3.4/site-packages/sklearn/externals/joblib/hashing.py:197: DeprecationWarning: Changing the shape of non-C contiguous array by\n",
      "descriptor assignment is deprecated. To maintain\n",
      "the Fortran contiguity of a multidimensional Fortran\n",
      "array, use 'a.T.view(...).T' instead\n",
      "  obj_bytes_view = obj.view(self.np.uint8)\n",
      "/home/ubuntu/Virtualenvs/mateo/lib/python3.4/site-packages/sklearn/metrics/classification.py:1117: UndefinedMetricWarning: F-score is ill-defined and being set to 0.0 due to no predicted samples.\n",
      "  'precision', 'predicted', average, warn_for)\n"
     ]
    },
    {
     "name": "stdout",
     "output_type": "stream",
     "text": [
      "[CV]  base_score=0.01, gamma=0.01, reg_alpha=0.01, n_estimators=30, objective=binary:logistic, max_depth=25, seed=1337, min_child_weight=15, learning_rate=0.001, subsample=0.8, colsample_bytree=1, silent=1, nthread=4 - 2.1min\n",
      "[CV] base_score=0.01, gamma=0.01, reg_alpha=0.01, n_estimators=30, objective=binary:logistic, max_depth=25, seed=1337, min_child_weight=15, learning_rate=0.001, subsample=0.5, colsample_bytree=1, silent=1, nthread=4 \n"
     ]
    },
    {
     "name": "stderr",
     "output_type": "stream",
     "text": [
      "/home/ubuntu/Virtualenvs/mateo/lib/python3.4/site-packages/sklearn/externals/joblib/hashing.py:197: DeprecationWarning: Changing the shape of non-C contiguous array by\n",
      "descriptor assignment is deprecated. To maintain\n",
      "the Fortran contiguity of a multidimensional Fortran\n",
      "array, use 'a.T.view(...).T' instead\n",
      "  obj_bytes_view = obj.view(self.np.uint8)\n",
      "/home/ubuntu/Virtualenvs/mateo/lib/python3.4/site-packages/sklearn/metrics/classification.py:1117: UndefinedMetricWarning: F-score is ill-defined and being set to 0.0 due to no predicted samples.\n",
      "  'precision', 'predicted', average, warn_for)\n"
     ]
    },
    {
     "name": "stdout",
     "output_type": "stream",
     "text": [
      "[CV]  base_score=0.01, gamma=0.01, reg_alpha=0.01, n_estimators=30, objective=binary:logistic, max_depth=25, seed=1337, min_child_weight=15, learning_rate=0.001, subsample=0.8, colsample_bytree=1, silent=1, nthread=4 - 2.1min\n",
      "[CV] base_score=0.01, gamma=0.01, reg_alpha=0.01, n_estimators=30, objective=binary:logistic, max_depth=25, seed=1337, min_child_weight=15, learning_rate=0.001, subsample=0.5, colsample_bytree=1, silent=1, nthread=4 \n"
     ]
    },
    {
     "name": "stderr",
     "output_type": "stream",
     "text": [
      "/home/ubuntu/Virtualenvs/mateo/lib/python3.4/site-packages/sklearn/externals/joblib/hashing.py:197: DeprecationWarning: Changing the shape of non-C contiguous array by\n",
      "descriptor assignment is deprecated. To maintain\n",
      "the Fortran contiguity of a multidimensional Fortran\n",
      "array, use 'a.T.view(...).T' instead\n",
      "  obj_bytes_view = obj.view(self.np.uint8)\n",
      "/home/ubuntu/Virtualenvs/mateo/lib/python3.4/site-packages/sklearn/metrics/classification.py:1117: UndefinedMetricWarning: F-score is ill-defined and being set to 0.0 due to no predicted samples.\n",
      "  'precision', 'predicted', average, warn_for)\n"
     ]
    },
    {
     "name": "stdout",
     "output_type": "stream",
     "text": [
      "[CV]  base_score=0.01, gamma=0.01, reg_alpha=0.01, n_estimators=30, objective=binary:logistic, max_depth=25, seed=1337, min_child_weight=15, learning_rate=0.001, subsample=0.8, colsample_bytree=1, silent=1, nthread=4 - 2.1min\n",
      "[CV] base_score=0.01, gamma=0.01, reg_alpha=0.01, n_estimators=30, objective=binary:logistic, max_depth=25, seed=1337, min_child_weight=15, learning_rate=0.001, subsample=0.5, colsample_bytree=1, silent=1, nthread=4 \n"
     ]
    },
    {
     "name": "stderr",
     "output_type": "stream",
     "text": [
      "/home/ubuntu/Virtualenvs/mateo/lib/python3.4/site-packages/sklearn/externals/joblib/hashing.py:197: DeprecationWarning: Changing the shape of non-C contiguous array by\n",
      "descriptor assignment is deprecated. To maintain\n",
      "the Fortran contiguity of a multidimensional Fortran\n",
      "array, use 'a.T.view(...).T' instead\n",
      "  obj_bytes_view = obj.view(self.np.uint8)\n",
      "/home/ubuntu/Virtualenvs/mateo/lib/python3.4/site-packages/sklearn/metrics/classification.py:1117: UndefinedMetricWarning: F-score is ill-defined and being set to 0.0 due to no predicted samples.\n",
      "  'precision', 'predicted', average, warn_for)\n"
     ]
    },
    {
     "name": "stdout",
     "output_type": "stream",
     "text": [
      "[CV]  base_score=0.01, gamma=0.01, reg_alpha=0.01, n_estimators=30, objective=binary:logistic, max_depth=25, seed=1337, min_child_weight=15, learning_rate=0.001, subsample=0.5, colsample_bytree=1, silent=1, nthread=4 - 1.4min\n",
      "[CV] base_score=0.01, gamma=0.01, reg_alpha=0.01, n_estimators=30, objective=binary:logistic, max_depth=25, seed=1337, min_child_weight=15, learning_rate=0.001, subsample=0.3, colsample_bytree=1, silent=1, nthread=4 \n"
     ]
    },
    {
     "name": "stderr",
     "output_type": "stream",
     "text": [
      "/home/ubuntu/Virtualenvs/mateo/lib/python3.4/site-packages/sklearn/externals/joblib/hashing.py:197: DeprecationWarning: Changing the shape of non-C contiguous array by\n",
      "descriptor assignment is deprecated. To maintain\n",
      "the Fortran contiguity of a multidimensional Fortran\n",
      "array, use 'a.T.view(...).T' instead\n",
      "  obj_bytes_view = obj.view(self.np.uint8)\n",
      "/home/ubuntu/Virtualenvs/mateo/lib/python3.4/site-packages/sklearn/metrics/classification.py:1117: UndefinedMetricWarning: F-score is ill-defined and being set to 0.0 due to no predicted samples.\n",
      "  'precision', 'predicted', average, warn_for)\n"
     ]
    },
    {
     "name": "stdout",
     "output_type": "stream",
     "text": [
      "[CV]  base_score=0.01, gamma=0.01, reg_alpha=0.01, n_estimators=30, objective=binary:logistic, max_depth=25, seed=1337, min_child_weight=15, learning_rate=0.001, subsample=0.5, colsample_bytree=1, silent=1, nthread=4 - 1.4min\n",
      "[CV] base_score=0.01, gamma=0.01, reg_alpha=0.01, n_estimators=30, objective=binary:logistic, max_depth=25, seed=1337, min_child_weight=15, learning_rate=0.001, subsample=0.3, colsample_bytree=1, silent=1, nthread=4 \n"
     ]
    },
    {
     "name": "stderr",
     "output_type": "stream",
     "text": [
      "/home/ubuntu/Virtualenvs/mateo/lib/python3.4/site-packages/sklearn/externals/joblib/hashing.py:197: DeprecationWarning: Changing the shape of non-C contiguous array by\n",
      "descriptor assignment is deprecated. To maintain\n",
      "the Fortran contiguity of a multidimensional Fortran\n",
      "array, use 'a.T.view(...).T' instead\n",
      "  obj_bytes_view = obj.view(self.np.uint8)\n",
      "/home/ubuntu/Virtualenvs/mateo/lib/python3.4/site-packages/sklearn/metrics/classification.py:1117: UndefinedMetricWarning: F-score is ill-defined and being set to 0.0 due to no predicted samples.\n",
      "  'precision', 'predicted', average, warn_for)\n"
     ]
    },
    {
     "name": "stdout",
     "output_type": "stream",
     "text": [
      "[CV]  base_score=0.01, gamma=0.01, reg_alpha=0.01, n_estimators=30, objective=binary:logistic, max_depth=25, seed=1337, min_child_weight=15, learning_rate=0.001, subsample=0.5, colsample_bytree=1, silent=1, nthread=4 - 1.4min\n",
      "[CV] base_score=0.01, gamma=0.01, reg_alpha=0.01, n_estimators=30, objective=binary:logistic, max_depth=25, seed=1337, min_child_weight=15, learning_rate=0.001, subsample=0.3, colsample_bytree=1, silent=1, nthread=4 \n"
     ]
    },
    {
     "name": "stderr",
     "output_type": "stream",
     "text": [
      "/home/ubuntu/Virtualenvs/mateo/lib/python3.4/site-packages/sklearn/externals/joblib/hashing.py:197: DeprecationWarning: Changing the shape of non-C contiguous array by\n",
      "descriptor assignment is deprecated. To maintain\n",
      "the Fortran contiguity of a multidimensional Fortran\n",
      "array, use 'a.T.view(...).T' instead\n",
      "  obj_bytes_view = obj.view(self.np.uint8)\n",
      "/home/ubuntu/Virtualenvs/mateo/lib/python3.4/site-packages/sklearn/metrics/classification.py:1117: UndefinedMetricWarning: F-score is ill-defined and being set to 0.0 due to no predicted samples.\n",
      "  'precision', 'predicted', average, warn_for)\n"
     ]
    },
    {
     "name": "stdout",
     "output_type": "stream",
     "text": [
      "[CV]  base_score=0.01, gamma=0.01, reg_alpha=0.01, n_estimators=30, objective=binary:logistic, max_depth=25, seed=1337, min_child_weight=15, learning_rate=0.001, subsample=0.3, colsample_bytree=1, silent=1, nthread=4 -  58.7s\n",
      "[CV] base_score=0.01, gamma=0.01, reg_alpha=0.1, n_estimators=30, objective=binary:logistic, max_depth=25, seed=1337, min_child_weight=15, learning_rate=0.001, subsample=0.8, colsample_bytree=1, silent=1, nthread=4 \n"
     ]
    },
    {
     "name": "stderr",
     "output_type": "stream",
     "text": [
      "/home/ubuntu/Virtualenvs/mateo/lib/python3.4/site-packages/sklearn/externals/joblib/hashing.py:197: DeprecationWarning: Changing the shape of non-C contiguous array by\n",
      "descriptor assignment is deprecated. To maintain\n",
      "the Fortran contiguity of a multidimensional Fortran\n",
      "array, use 'a.T.view(...).T' instead\n",
      "  obj_bytes_view = obj.view(self.np.uint8)\n",
      "/home/ubuntu/Virtualenvs/mateo/lib/python3.4/site-packages/sklearn/metrics/classification.py:1117: UndefinedMetricWarning: F-score is ill-defined and being set to 0.0 due to no predicted samples.\n",
      "  'precision', 'predicted', average, warn_for)\n"
     ]
    },
    {
     "name": "stdout",
     "output_type": "stream",
     "text": [
      "[CV]  base_score=0.01, gamma=0.01, reg_alpha=0.01, n_estimators=30, objective=binary:logistic, max_depth=25, seed=1337, min_child_weight=15, learning_rate=0.001, subsample=0.3, colsample_bytree=1, silent=1, nthread=4 -  56.7s\n",
      "[CV] base_score=0.01, gamma=0.01, reg_alpha=0.1, n_estimators=30, objective=binary:logistic, max_depth=25, seed=1337, min_child_weight=15, learning_rate=0.001, subsample=0.8, colsample_bytree=1, silent=1, nthread=4 \n"
     ]
    },
    {
     "name": "stderr",
     "output_type": "stream",
     "text": [
      "/home/ubuntu/Virtualenvs/mateo/lib/python3.4/site-packages/sklearn/externals/joblib/hashing.py:197: DeprecationWarning: Changing the shape of non-C contiguous array by\n",
      "descriptor assignment is deprecated. To maintain\n",
      "the Fortran contiguity of a multidimensional Fortran\n",
      "array, use 'a.T.view(...).T' instead\n",
      "  obj_bytes_view = obj.view(self.np.uint8)\n",
      "/home/ubuntu/Virtualenvs/mateo/lib/python3.4/site-packages/sklearn/metrics/classification.py:1117: UndefinedMetricWarning: F-score is ill-defined and being set to 0.0 due to no predicted samples.\n",
      "  'precision', 'predicted', average, warn_for)\n"
     ]
    },
    {
     "name": "stdout",
     "output_type": "stream",
     "text": [
      "[CV]  base_score=0.01, gamma=0.01, reg_alpha=0.01, n_estimators=30, objective=binary:logistic, max_depth=25, seed=1337, min_child_weight=15, learning_rate=0.001, subsample=0.3, colsample_bytree=1, silent=1, nthread=4 -  58.0s\n",
      "[CV] base_score=0.01, gamma=0.01, reg_alpha=0.1, n_estimators=30, objective=binary:logistic, max_depth=25, seed=1337, min_child_weight=15, learning_rate=0.001, subsample=0.8, colsample_bytree=1, silent=1, nthread=4 \n"
     ]
    },
    {
     "name": "stderr",
     "output_type": "stream",
     "text": [
      "/home/ubuntu/Virtualenvs/mateo/lib/python3.4/site-packages/sklearn/externals/joblib/hashing.py:197: DeprecationWarning: Changing the shape of non-C contiguous array by\n",
      "descriptor assignment is deprecated. To maintain\n",
      "the Fortran contiguity of a multidimensional Fortran\n",
      "array, use 'a.T.view(...).T' instead\n",
      "  obj_bytes_view = obj.view(self.np.uint8)\n",
      "/home/ubuntu/Virtualenvs/mateo/lib/python3.4/site-packages/sklearn/metrics/classification.py:1117: UndefinedMetricWarning: F-score is ill-defined and being set to 0.0 due to no predicted samples.\n",
      "  'precision', 'predicted', average, warn_for)\n"
     ]
    },
    {
     "name": "stdout",
     "output_type": "stream",
     "text": [
      "[CV]  base_score=0.01, gamma=0.01, reg_alpha=0.1, n_estimators=30, objective=binary:logistic, max_depth=25, seed=1337, min_child_weight=15, learning_rate=0.001, subsample=0.8, colsample_bytree=1, silent=1, nthread=4 - 1.5min\n",
      "[CV] base_score=0.01, gamma=0.01, reg_alpha=0.1, n_estimators=30, objective=binary:logistic, max_depth=25, seed=1337, min_child_weight=15, learning_rate=0.001, subsample=0.5, colsample_bytree=1, silent=1, nthread=4 \n"
     ]
    },
    {
     "name": "stderr",
     "output_type": "stream",
     "text": [
      "/home/ubuntu/Virtualenvs/mateo/lib/python3.4/site-packages/sklearn/externals/joblib/hashing.py:197: DeprecationWarning: Changing the shape of non-C contiguous array by\n",
      "descriptor assignment is deprecated. To maintain\n",
      "the Fortran contiguity of a multidimensional Fortran\n",
      "array, use 'a.T.view(...).T' instead\n",
      "  obj_bytes_view = obj.view(self.np.uint8)\n",
      "/home/ubuntu/Virtualenvs/mateo/lib/python3.4/site-packages/sklearn/metrics/classification.py:1117: UndefinedMetricWarning: F-score is ill-defined and being set to 0.0 due to no predicted samples.\n",
      "  'precision', 'predicted', average, warn_for)\n"
     ]
    },
    {
     "name": "stdout",
     "output_type": "stream",
     "text": [
      "[CV]  base_score=0.01, gamma=0.01, reg_alpha=0.1, n_estimators=30, objective=binary:logistic, max_depth=25, seed=1337, min_child_weight=15, learning_rate=0.001, subsample=0.8, colsample_bytree=1, silent=1, nthread=4 - 1.5min\n",
      "[CV] base_score=0.01, gamma=0.01, reg_alpha=0.1, n_estimators=30, objective=binary:logistic, max_depth=25, seed=1337, min_child_weight=15, learning_rate=0.001, subsample=0.5, colsample_bytree=1, silent=1, nthread=4 \n"
     ]
    },
    {
     "name": "stderr",
     "output_type": "stream",
     "text": [
      "/home/ubuntu/Virtualenvs/mateo/lib/python3.4/site-packages/sklearn/externals/joblib/hashing.py:197: DeprecationWarning: Changing the shape of non-C contiguous array by\n",
      "descriptor assignment is deprecated. To maintain\n",
      "the Fortran contiguity of a multidimensional Fortran\n",
      "array, use 'a.T.view(...).T' instead\n",
      "  obj_bytes_view = obj.view(self.np.uint8)\n",
      "/home/ubuntu/Virtualenvs/mateo/lib/python3.4/site-packages/sklearn/metrics/classification.py:1117: UndefinedMetricWarning: F-score is ill-defined and being set to 0.0 due to no predicted samples.\n",
      "  'precision', 'predicted', average, warn_for)\n"
     ]
    },
    {
     "name": "stdout",
     "output_type": "stream",
     "text": [
      "[CV]  base_score=0.01, gamma=0.01, reg_alpha=0.1, n_estimators=30, objective=binary:logistic, max_depth=25, seed=1337, min_child_weight=15, learning_rate=0.001, subsample=0.8, colsample_bytree=1, silent=1, nthread=4 - 1.5min\n",
      "[CV] base_score=0.01, gamma=0.01, reg_alpha=0.1, n_estimators=30, objective=binary:logistic, max_depth=25, seed=1337, min_child_weight=15, learning_rate=0.001, subsample=0.5, colsample_bytree=1, silent=1, nthread=4 \n"
     ]
    },
    {
     "name": "stderr",
     "output_type": "stream",
     "text": [
      "/home/ubuntu/Virtualenvs/mateo/lib/python3.4/site-packages/sklearn/externals/joblib/hashing.py:197: DeprecationWarning: Changing the shape of non-C contiguous array by\n",
      "descriptor assignment is deprecated. To maintain\n",
      "the Fortran contiguity of a multidimensional Fortran\n",
      "array, use 'a.T.view(...).T' instead\n",
      "  obj_bytes_view = obj.view(self.np.uint8)\n",
      "/home/ubuntu/Virtualenvs/mateo/lib/python3.4/site-packages/sklearn/metrics/classification.py:1117: UndefinedMetricWarning: F-score is ill-defined and being set to 0.0 due to no predicted samples.\n",
      "  'precision', 'predicted', average, warn_for)\n"
     ]
    },
    {
     "name": "stdout",
     "output_type": "stream",
     "text": [
      "[CV]  base_score=0.01, gamma=0.01, reg_alpha=0.1, n_estimators=30, objective=binary:logistic, max_depth=25, seed=1337, min_child_weight=15, learning_rate=0.001, subsample=0.5, colsample_bytree=1, silent=1, nthread=4 - 1.3min\n",
      "[CV] base_score=0.01, gamma=0.01, reg_alpha=0.1, n_estimators=30, objective=binary:logistic, max_depth=25, seed=1337, min_child_weight=15, learning_rate=0.001, subsample=0.3, colsample_bytree=1, silent=1, nthread=4 \n"
     ]
    },
    {
     "name": "stderr",
     "output_type": "stream",
     "text": [
      "/home/ubuntu/Virtualenvs/mateo/lib/python3.4/site-packages/sklearn/externals/joblib/hashing.py:197: DeprecationWarning: Changing the shape of non-C contiguous array by\n",
      "descriptor assignment is deprecated. To maintain\n",
      "the Fortran contiguity of a multidimensional Fortran\n",
      "array, use 'a.T.view(...).T' instead\n",
      "  obj_bytes_view = obj.view(self.np.uint8)\n",
      "/home/ubuntu/Virtualenvs/mateo/lib/python3.4/site-packages/sklearn/metrics/classification.py:1117: UndefinedMetricWarning: F-score is ill-defined and being set to 0.0 due to no predicted samples.\n",
      "  'precision', 'predicted', average, warn_for)\n"
     ]
    },
    {
     "name": "stdout",
     "output_type": "stream",
     "text": [
      "[CV]  base_score=0.01, gamma=0.01, reg_alpha=0.1, n_estimators=30, objective=binary:logistic, max_depth=25, seed=1337, min_child_weight=15, learning_rate=0.001, subsample=0.5, colsample_bytree=1, silent=1, nthread=4 - 1.4min\n",
      "[CV] base_score=0.01, gamma=0.01, reg_alpha=0.1, n_estimators=30, objective=binary:logistic, max_depth=25, seed=1337, min_child_weight=15, learning_rate=0.001, subsample=0.3, colsample_bytree=1, silent=1, nthread=4 \n"
     ]
    },
    {
     "name": "stderr",
     "output_type": "stream",
     "text": [
      "/home/ubuntu/Virtualenvs/mateo/lib/python3.4/site-packages/sklearn/externals/joblib/hashing.py:197: DeprecationWarning: Changing the shape of non-C contiguous array by\n",
      "descriptor assignment is deprecated. To maintain\n",
      "the Fortran contiguity of a multidimensional Fortran\n",
      "array, use 'a.T.view(...).T' instead\n",
      "  obj_bytes_view = obj.view(self.np.uint8)\n",
      "/home/ubuntu/Virtualenvs/mateo/lib/python3.4/site-packages/sklearn/metrics/classification.py:1117: UndefinedMetricWarning: F-score is ill-defined and being set to 0.0 due to no predicted samples.\n",
      "  'precision', 'predicted', average, warn_for)\n"
     ]
    },
    {
     "name": "stdout",
     "output_type": "stream",
     "text": [
      "[CV]  base_score=0.01, gamma=0.01, reg_alpha=0.1, n_estimators=30, objective=binary:logistic, max_depth=25, seed=1337, min_child_weight=15, learning_rate=0.001, subsample=0.5, colsample_bytree=1, silent=1, nthread=4 - 1.3min\n",
      "[CV] base_score=0.01, gamma=0.01, reg_alpha=0.1, n_estimators=30, objective=binary:logistic, max_depth=25, seed=1337, min_child_weight=15, learning_rate=0.001, subsample=0.3, colsample_bytree=1, silent=1, nthread=4 \n"
     ]
    },
    {
     "name": "stderr",
     "output_type": "stream",
     "text": [
      "/home/ubuntu/Virtualenvs/mateo/lib/python3.4/site-packages/sklearn/externals/joblib/hashing.py:197: DeprecationWarning: Changing the shape of non-C contiguous array by\n",
      "descriptor assignment is deprecated. To maintain\n",
      "the Fortran contiguity of a multidimensional Fortran\n",
      "array, use 'a.T.view(...).T' instead\n",
      "  obj_bytes_view = obj.view(self.np.uint8)\n",
      "/home/ubuntu/Virtualenvs/mateo/lib/python3.4/site-packages/sklearn/metrics/classification.py:1117: UndefinedMetricWarning: F-score is ill-defined and being set to 0.0 due to no predicted samples.\n",
      "  'precision', 'predicted', average, warn_for)\n"
     ]
    },
    {
     "name": "stdout",
     "output_type": "stream",
     "text": [
      "[CV]  base_score=0.01, gamma=0.01, reg_alpha=0.1, n_estimators=30, objective=binary:logistic, max_depth=25, seed=1337, min_child_weight=15, learning_rate=0.001, subsample=0.3, colsample_bytree=1, silent=1, nthread=4 -  57.1s\n",
      "[CV] base_score=0.01, gamma=0.01, reg_alpha=1.0, n_estimators=30, objective=binary:logistic, max_depth=25, seed=1337, min_child_weight=15, learning_rate=0.001, subsample=0.8, colsample_bytree=1, silent=1, nthread=4 \n"
     ]
    },
    {
     "name": "stderr",
     "output_type": "stream",
     "text": [
      "/home/ubuntu/Virtualenvs/mateo/lib/python3.4/site-packages/sklearn/externals/joblib/hashing.py:197: DeprecationWarning: Changing the shape of non-C contiguous array by\n",
      "descriptor assignment is deprecated. To maintain\n",
      "the Fortran contiguity of a multidimensional Fortran\n",
      "array, use 'a.T.view(...).T' instead\n",
      "  obj_bytes_view = obj.view(self.np.uint8)\n",
      "/home/ubuntu/Virtualenvs/mateo/lib/python3.4/site-packages/sklearn/metrics/classification.py:1117: UndefinedMetricWarning: F-score is ill-defined and being set to 0.0 due to no predicted samples.\n",
      "  'precision', 'predicted', average, warn_for)\n"
     ]
    },
    {
     "name": "stdout",
     "output_type": "stream",
     "text": [
      "[CV]  base_score=0.01, gamma=0.01, reg_alpha=0.1, n_estimators=30, objective=binary:logistic, max_depth=25, seed=1337, min_child_weight=15, learning_rate=0.001, subsample=0.3, colsample_bytree=1, silent=1, nthread=4 -  58.0s\n",
      "[CV] base_score=0.01, gamma=0.01, reg_alpha=1.0, n_estimators=30, objective=binary:logistic, max_depth=25, seed=1337, min_child_weight=15, learning_rate=0.001, subsample=0.8, colsample_bytree=1, silent=1, nthread=4 \n"
     ]
    },
    {
     "name": "stderr",
     "output_type": "stream",
     "text": [
      "/home/ubuntu/Virtualenvs/mateo/lib/python3.4/site-packages/sklearn/externals/joblib/hashing.py:197: DeprecationWarning: Changing the shape of non-C contiguous array by\n",
      "descriptor assignment is deprecated. To maintain\n",
      "the Fortran contiguity of a multidimensional Fortran\n",
      "array, use 'a.T.view(...).T' instead\n",
      "  obj_bytes_view = obj.view(self.np.uint8)\n",
      "/home/ubuntu/Virtualenvs/mateo/lib/python3.4/site-packages/sklearn/metrics/classification.py:1117: UndefinedMetricWarning: F-score is ill-defined and being set to 0.0 due to no predicted samples.\n",
      "  'precision', 'predicted', average, warn_for)\n"
     ]
    },
    {
     "name": "stdout",
     "output_type": "stream",
     "text": [
      "[CV]  base_score=0.01, gamma=0.01, reg_alpha=0.1, n_estimators=30, objective=binary:logistic, max_depth=25, seed=1337, min_child_weight=15, learning_rate=0.001, subsample=0.3, colsample_bytree=1, silent=1, nthread=4 -  57.4s\n",
      "[CV] base_score=0.01, gamma=0.01, reg_alpha=1.0, n_estimators=30, objective=binary:logistic, max_depth=25, seed=1337, min_child_weight=15, learning_rate=0.001, subsample=0.8, colsample_bytree=1, silent=1, nthread=4 \n"
     ]
    },
    {
     "name": "stderr",
     "output_type": "stream",
     "text": [
      "/home/ubuntu/Virtualenvs/mateo/lib/python3.4/site-packages/sklearn/externals/joblib/hashing.py:197: DeprecationWarning: Changing the shape of non-C contiguous array by\n",
      "descriptor assignment is deprecated. To maintain\n",
      "the Fortran contiguity of a multidimensional Fortran\n",
      "array, use 'a.T.view(...).T' instead\n",
      "  obj_bytes_view = obj.view(self.np.uint8)\n",
      "/home/ubuntu/Virtualenvs/mateo/lib/python3.4/site-packages/sklearn/metrics/classification.py:1117: UndefinedMetricWarning: F-score is ill-defined and being set to 0.0 due to no predicted samples.\n",
      "  'precision', 'predicted', average, warn_for)\n"
     ]
    },
    {
     "name": "stdout",
     "output_type": "stream",
     "text": [
      "[CV]  base_score=0.01, gamma=0.01, reg_alpha=1.0, n_estimators=30, objective=binary:logistic, max_depth=25, seed=1337, min_child_weight=15, learning_rate=0.001, subsample=0.8, colsample_bytree=1, silent=1, nthread=4 - 1.3min\n",
      "[CV] base_score=0.01, gamma=0.01, reg_alpha=1.0, n_estimators=30, objective=binary:logistic, max_depth=25, seed=1337, min_child_weight=15, learning_rate=0.001, subsample=0.5, colsample_bytree=1, silent=1, nthread=4 \n"
     ]
    },
    {
     "name": "stderr",
     "output_type": "stream",
     "text": [
      "/home/ubuntu/Virtualenvs/mateo/lib/python3.4/site-packages/sklearn/externals/joblib/hashing.py:197: DeprecationWarning: Changing the shape of non-C contiguous array by\n",
      "descriptor assignment is deprecated. To maintain\n",
      "the Fortran contiguity of a multidimensional Fortran\n",
      "array, use 'a.T.view(...).T' instead\n",
      "  obj_bytes_view = obj.view(self.np.uint8)\n",
      "/home/ubuntu/Virtualenvs/mateo/lib/python3.4/site-packages/sklearn/metrics/classification.py:1117: UndefinedMetricWarning: F-score is ill-defined and being set to 0.0 due to no predicted samples.\n",
      "  'precision', 'predicted', average, warn_for)\n"
     ]
    },
    {
     "name": "stdout",
     "output_type": "stream",
     "text": [
      "[CV]  base_score=0.01, gamma=0.01, reg_alpha=1.0, n_estimators=30, objective=binary:logistic, max_depth=25, seed=1337, min_child_weight=15, learning_rate=0.001, subsample=0.8, colsample_bytree=1, silent=1, nthread=4 - 1.4min\n",
      "[CV] base_score=0.01, gamma=0.01, reg_alpha=1.0, n_estimators=30, objective=binary:logistic, max_depth=25, seed=1337, min_child_weight=15, learning_rate=0.001, subsample=0.5, colsample_bytree=1, silent=1, nthread=4 \n"
     ]
    },
    {
     "name": "stderr",
     "output_type": "stream",
     "text": [
      "/home/ubuntu/Virtualenvs/mateo/lib/python3.4/site-packages/sklearn/externals/joblib/hashing.py:197: DeprecationWarning: Changing the shape of non-C contiguous array by\n",
      "descriptor assignment is deprecated. To maintain\n",
      "the Fortran contiguity of a multidimensional Fortran\n",
      "array, use 'a.T.view(...).T' instead\n",
      "  obj_bytes_view = obj.view(self.np.uint8)\n",
      "/home/ubuntu/Virtualenvs/mateo/lib/python3.4/site-packages/sklearn/metrics/classification.py:1117: UndefinedMetricWarning: F-score is ill-defined and being set to 0.0 due to no predicted samples.\n",
      "  'precision', 'predicted', average, warn_for)\n"
     ]
    },
    {
     "name": "stdout",
     "output_type": "stream",
     "text": [
      "[CV]  base_score=0.01, gamma=0.01, reg_alpha=1.0, n_estimators=30, objective=binary:logistic, max_depth=25, seed=1337, min_child_weight=15, learning_rate=0.001, subsample=0.8, colsample_bytree=1, silent=1, nthread=4 - 1.3min\n",
      "[CV] base_score=0.01, gamma=0.01, reg_alpha=1.0, n_estimators=30, objective=binary:logistic, max_depth=25, seed=1337, min_child_weight=15, learning_rate=0.001, subsample=0.5, colsample_bytree=1, silent=1, nthread=4 \n"
     ]
    },
    {
     "name": "stderr",
     "output_type": "stream",
     "text": [
      "/home/ubuntu/Virtualenvs/mateo/lib/python3.4/site-packages/sklearn/externals/joblib/hashing.py:197: DeprecationWarning: Changing the shape of non-C contiguous array by\n",
      "descriptor assignment is deprecated. To maintain\n",
      "the Fortran contiguity of a multidimensional Fortran\n",
      "array, use 'a.T.view(...).T' instead\n",
      "  obj_bytes_view = obj.view(self.np.uint8)\n",
      "/home/ubuntu/Virtualenvs/mateo/lib/python3.4/site-packages/sklearn/metrics/classification.py:1117: UndefinedMetricWarning: F-score is ill-defined and being set to 0.0 due to no predicted samples.\n",
      "  'precision', 'predicted', average, warn_for)\n"
     ]
    },
    {
     "name": "stdout",
     "output_type": "stream",
     "text": [
      "[CV]  base_score=0.01, gamma=0.01, reg_alpha=1.0, n_estimators=30, objective=binary:logistic, max_depth=25, seed=1337, min_child_weight=15, learning_rate=0.001, subsample=0.5, colsample_bytree=1, silent=1, nthread=4 - 1.2min\n",
      "[CV] base_score=0.01, gamma=0.01, reg_alpha=1.0, n_estimators=30, objective=binary:logistic, max_depth=25, seed=1337, min_child_weight=15, learning_rate=0.001, subsample=0.3, colsample_bytree=1, silent=1, nthread=4 \n"
     ]
    },
    {
     "name": "stderr",
     "output_type": "stream",
     "text": [
      "/home/ubuntu/Virtualenvs/mateo/lib/python3.4/site-packages/sklearn/externals/joblib/hashing.py:197: DeprecationWarning: Changing the shape of non-C contiguous array by\n",
      "descriptor assignment is deprecated. To maintain\n",
      "the Fortran contiguity of a multidimensional Fortran\n",
      "array, use 'a.T.view(...).T' instead\n",
      "  obj_bytes_view = obj.view(self.np.uint8)\n",
      "/home/ubuntu/Virtualenvs/mateo/lib/python3.4/site-packages/sklearn/metrics/classification.py:1117: UndefinedMetricWarning: F-score is ill-defined and being set to 0.0 due to no predicted samples.\n",
      "  'precision', 'predicted', average, warn_for)\n"
     ]
    },
    {
     "name": "stdout",
     "output_type": "stream",
     "text": [
      "[CV]  base_score=0.01, gamma=0.01, reg_alpha=1.0, n_estimators=30, objective=binary:logistic, max_depth=25, seed=1337, min_child_weight=15, learning_rate=0.001, subsample=0.5, colsample_bytree=1, silent=1, nthread=4 - 1.2min\n",
      "[CV] base_score=0.01, gamma=0.01, reg_alpha=1.0, n_estimators=30, objective=binary:logistic, max_depth=25, seed=1337, min_child_weight=15, learning_rate=0.001, subsample=0.3, colsample_bytree=1, silent=1, nthread=4 \n"
     ]
    },
    {
     "name": "stderr",
     "output_type": "stream",
     "text": [
      "/home/ubuntu/Virtualenvs/mateo/lib/python3.4/site-packages/sklearn/externals/joblib/hashing.py:197: DeprecationWarning: Changing the shape of non-C contiguous array by\n",
      "descriptor assignment is deprecated. To maintain\n",
      "the Fortran contiguity of a multidimensional Fortran\n",
      "array, use 'a.T.view(...).T' instead\n",
      "  obj_bytes_view = obj.view(self.np.uint8)\n",
      "/home/ubuntu/Virtualenvs/mateo/lib/python3.4/site-packages/sklearn/metrics/classification.py:1117: UndefinedMetricWarning: F-score is ill-defined and being set to 0.0 due to no predicted samples.\n",
      "  'precision', 'predicted', average, warn_for)\n"
     ]
    },
    {
     "name": "stdout",
     "output_type": "stream",
     "text": [
      "[CV]  base_score=0.01, gamma=0.01, reg_alpha=1.0, n_estimators=30, objective=binary:logistic, max_depth=25, seed=1337, min_child_weight=15, learning_rate=0.001, subsample=0.5, colsample_bytree=1, silent=1, nthread=4 - 1.2min\n",
      "[CV] base_score=0.01, gamma=0.01, reg_alpha=1.0, n_estimators=30, objective=binary:logistic, max_depth=25, seed=1337, min_child_weight=15, learning_rate=0.001, subsample=0.3, colsample_bytree=1, silent=1, nthread=4 \n"
     ]
    },
    {
     "name": "stderr",
     "output_type": "stream",
     "text": [
      "/home/ubuntu/Virtualenvs/mateo/lib/python3.4/site-packages/sklearn/externals/joblib/hashing.py:197: DeprecationWarning: Changing the shape of non-C contiguous array by\n",
      "descriptor assignment is deprecated. To maintain\n",
      "the Fortran contiguity of a multidimensional Fortran\n",
      "array, use 'a.T.view(...).T' instead\n",
      "  obj_bytes_view = obj.view(self.np.uint8)\n",
      "/home/ubuntu/Virtualenvs/mateo/lib/python3.4/site-packages/sklearn/metrics/classification.py:1117: UndefinedMetricWarning: F-score is ill-defined and being set to 0.0 due to no predicted samples.\n",
      "  'precision', 'predicted', average, warn_for)\n"
     ]
    },
    {
     "name": "stdout",
     "output_type": "stream",
     "text": [
      "[CV]  base_score=0.01, gamma=0.01, reg_alpha=1.0, n_estimators=30, objective=binary:logistic, max_depth=25, seed=1337, min_child_weight=15, learning_rate=0.001, subsample=0.3, colsample_bytree=1, silent=1, nthread=4 -  51.7s\n",
      "[CV] base_score=0.01, gamma=0.01, reg_alpha=0.01, n_estimators=15, objective=binary:logistic, max_depth=25, seed=1337, min_child_weight=10, learning_rate=0.001, subsample=0.8, colsample_bytree=1, silent=1, nthread=4 \n"
     ]
    },
    {
     "name": "stderr",
     "output_type": "stream",
     "text": [
      "/home/ubuntu/Virtualenvs/mateo/lib/python3.4/site-packages/sklearn/externals/joblib/hashing.py:197: DeprecationWarning: Changing the shape of non-C contiguous array by\n",
      "descriptor assignment is deprecated. To maintain\n",
      "the Fortran contiguity of a multidimensional Fortran\n",
      "array, use 'a.T.view(...).T' instead\n",
      "  obj_bytes_view = obj.view(self.np.uint8)\n",
      "/home/ubuntu/Virtualenvs/mateo/lib/python3.4/site-packages/sklearn/metrics/classification.py:1117: UndefinedMetricWarning: F-score is ill-defined and being set to 0.0 due to no predicted samples.\n",
      "  'precision', 'predicted', average, warn_for)\n"
     ]
    },
    {
     "name": "stdout",
     "output_type": "stream",
     "text": [
      "[CV]  base_score=0.01, gamma=0.01, reg_alpha=1.0, n_estimators=30, objective=binary:logistic, max_depth=25, seed=1337, min_child_weight=15, learning_rate=0.001, subsample=0.3, colsample_bytree=1, silent=1, nthread=4 -  55.0s\n",
      "[CV] base_score=0.01, gamma=0.01, reg_alpha=0.01, n_estimators=15, objective=binary:logistic, max_depth=25, seed=1337, min_child_weight=10, learning_rate=0.001, subsample=0.8, colsample_bytree=1, silent=1, nthread=4 \n"
     ]
    },
    {
     "name": "stderr",
     "output_type": "stream",
     "text": [
      "/home/ubuntu/Virtualenvs/mateo/lib/python3.4/site-packages/sklearn/externals/joblib/hashing.py:197: DeprecationWarning: Changing the shape of non-C contiguous array by\n",
      "descriptor assignment is deprecated. To maintain\n",
      "the Fortran contiguity of a multidimensional Fortran\n",
      "array, use 'a.T.view(...).T' instead\n",
      "  obj_bytes_view = obj.view(self.np.uint8)\n",
      "/home/ubuntu/Virtualenvs/mateo/lib/python3.4/site-packages/sklearn/metrics/classification.py:1117: UndefinedMetricWarning: F-score is ill-defined and being set to 0.0 due to no predicted samples.\n",
      "  'precision', 'predicted', average, warn_for)\n"
     ]
    },
    {
     "name": "stdout",
     "output_type": "stream",
     "text": [
      "[CV]  base_score=0.01, gamma=0.01, reg_alpha=1.0, n_estimators=30, objective=binary:logistic, max_depth=25, seed=1337, min_child_weight=15, learning_rate=0.001, subsample=0.3, colsample_bytree=1, silent=1, nthread=4 -  54.2s\n",
      "[CV] base_score=0.01, gamma=0.01, reg_alpha=0.01, n_estimators=15, objective=binary:logistic, max_depth=25, seed=1337, min_child_weight=10, learning_rate=0.001, subsample=0.8, colsample_bytree=1, silent=1, nthread=4 \n"
     ]
    },
    {
     "name": "stderr",
     "output_type": "stream",
     "text": [
      "/home/ubuntu/Virtualenvs/mateo/lib/python3.4/site-packages/sklearn/externals/joblib/hashing.py:197: DeprecationWarning: Changing the shape of non-C contiguous array by\n",
      "descriptor assignment is deprecated. To maintain\n",
      "the Fortran contiguity of a multidimensional Fortran\n",
      "array, use 'a.T.view(...).T' instead\n",
      "  obj_bytes_view = obj.view(self.np.uint8)\n",
      "/home/ubuntu/Virtualenvs/mateo/lib/python3.4/site-packages/sklearn/metrics/classification.py:1117: UndefinedMetricWarning: F-score is ill-defined and being set to 0.0 due to no predicted samples.\n",
      "  'precision', 'predicted', average, warn_for)\n"
     ]
    },
    {
     "name": "stdout",
     "output_type": "stream",
     "text": [
      "[CV]  base_score=0.01, gamma=0.01, reg_alpha=0.01, n_estimators=15, objective=binary:logistic, max_depth=25, seed=1337, min_child_weight=10, learning_rate=0.001, subsample=0.8, colsample_bytree=1, silent=1, nthread=4 -  50.4s\n",
      "[CV] base_score=0.01, gamma=0.01, reg_alpha=0.01, n_estimators=15, objective=binary:logistic, max_depth=25, seed=1337, min_child_weight=10, learning_rate=0.001, subsample=0.5, colsample_bytree=1, silent=1, nthread=4 \n"
     ]
    },
    {
     "name": "stderr",
     "output_type": "stream",
     "text": [
      "/home/ubuntu/Virtualenvs/mateo/lib/python3.4/site-packages/sklearn/externals/joblib/hashing.py:197: DeprecationWarning: Changing the shape of non-C contiguous array by\n",
      "descriptor assignment is deprecated. To maintain\n",
      "the Fortran contiguity of a multidimensional Fortran\n",
      "array, use 'a.T.view(...).T' instead\n",
      "  obj_bytes_view = obj.view(self.np.uint8)\n",
      "/home/ubuntu/Virtualenvs/mateo/lib/python3.4/site-packages/sklearn/metrics/classification.py:1117: UndefinedMetricWarning: F-score is ill-defined and being set to 0.0 due to no predicted samples.\n",
      "  'precision', 'predicted', average, warn_for)\n"
     ]
    },
    {
     "name": "stdout",
     "output_type": "stream",
     "text": [
      "[CV]  base_score=0.01, gamma=0.01, reg_alpha=0.01, n_estimators=15, objective=binary:logistic, max_depth=25, seed=1337, min_child_weight=10, learning_rate=0.001, subsample=0.8, colsample_bytree=1, silent=1, nthread=4 -  48.3s\n",
      "[CV] base_score=0.01, gamma=0.01, reg_alpha=0.01, n_estimators=15, objective=binary:logistic, max_depth=25, seed=1337, min_child_weight=10, learning_rate=0.001, subsample=0.5, colsample_bytree=1, silent=1, nthread=4 \n"
     ]
    },
    {
     "name": "stderr",
     "output_type": "stream",
     "text": [
      "/home/ubuntu/Virtualenvs/mateo/lib/python3.4/site-packages/sklearn/externals/joblib/hashing.py:197: DeprecationWarning: Changing the shape of non-C contiguous array by\n",
      "descriptor assignment is deprecated. To maintain\n",
      "the Fortran contiguity of a multidimensional Fortran\n",
      "array, use 'a.T.view(...).T' instead\n",
      "  obj_bytes_view = obj.view(self.np.uint8)\n",
      "/home/ubuntu/Virtualenvs/mateo/lib/python3.4/site-packages/sklearn/metrics/classification.py:1117: UndefinedMetricWarning: F-score is ill-defined and being set to 0.0 due to no predicted samples.\n",
      "  'precision', 'predicted', average, warn_for)\n"
     ]
    },
    {
     "name": "stdout",
     "output_type": "stream",
     "text": [
      "[CV]  base_score=0.01, gamma=0.01, reg_alpha=0.01, n_estimators=15, objective=binary:logistic, max_depth=25, seed=1337, min_child_weight=10, learning_rate=0.001, subsample=0.8, colsample_bytree=1, silent=1, nthread=4 -  49.4s\n",
      "[CV] base_score=0.01, gamma=0.01, reg_alpha=0.01, n_estimators=15, objective=binary:logistic, max_depth=25, seed=1337, min_child_weight=10, learning_rate=0.001, subsample=0.5, colsample_bytree=1, silent=1, nthread=4 \n"
     ]
    },
    {
     "name": "stderr",
     "output_type": "stream",
     "text": [
      "/home/ubuntu/Virtualenvs/mateo/lib/python3.4/site-packages/sklearn/externals/joblib/hashing.py:197: DeprecationWarning: Changing the shape of non-C contiguous array by\n",
      "descriptor assignment is deprecated. To maintain\n",
      "the Fortran contiguity of a multidimensional Fortran\n",
      "array, use 'a.T.view(...).T' instead\n",
      "  obj_bytes_view = obj.view(self.np.uint8)\n",
      "/home/ubuntu/Virtualenvs/mateo/lib/python3.4/site-packages/sklearn/metrics/classification.py:1117: UndefinedMetricWarning: F-score is ill-defined and being set to 0.0 due to no predicted samples.\n",
      "  'precision', 'predicted', average, warn_for)\n"
     ]
    },
    {
     "name": "stdout",
     "output_type": "stream",
     "text": [
      "[CV]  base_score=0.01, gamma=0.01, reg_alpha=0.01, n_estimators=15, objective=binary:logistic, max_depth=25, seed=1337, min_child_weight=10, learning_rate=0.001, subsample=0.5, colsample_bytree=1, silent=1, nthread=4 -  45.7s\n",
      "[CV] base_score=0.01, gamma=0.01, reg_alpha=0.01, n_estimators=15, objective=binary:logistic, max_depth=25, seed=1337, min_child_weight=10, learning_rate=0.001, subsample=0.3, colsample_bytree=1, silent=1, nthread=4 \n"
     ]
    },
    {
     "name": "stderr",
     "output_type": "stream",
     "text": [
      "/home/ubuntu/Virtualenvs/mateo/lib/python3.4/site-packages/sklearn/externals/joblib/hashing.py:197: DeprecationWarning: Changing the shape of non-C contiguous array by\n",
      "descriptor assignment is deprecated. To maintain\n",
      "the Fortran contiguity of a multidimensional Fortran\n",
      "array, use 'a.T.view(...).T' instead\n",
      "  obj_bytes_view = obj.view(self.np.uint8)\n",
      "/home/ubuntu/Virtualenvs/mateo/lib/python3.4/site-packages/sklearn/metrics/classification.py:1117: UndefinedMetricWarning: F-score is ill-defined and being set to 0.0 due to no predicted samples.\n",
      "  'precision', 'predicted', average, warn_for)\n"
     ]
    },
    {
     "name": "stdout",
     "output_type": "stream",
     "text": [
      "[CV]  base_score=0.01, gamma=0.01, reg_alpha=0.01, n_estimators=15, objective=binary:logistic, max_depth=25, seed=1337, min_child_weight=10, learning_rate=0.001, subsample=0.5, colsample_bytree=1, silent=1, nthread=4 -  45.5s\n",
      "[CV] base_score=0.01, gamma=0.01, reg_alpha=0.01, n_estimators=15, objective=binary:logistic, max_depth=25, seed=1337, min_child_weight=10, learning_rate=0.001, subsample=0.3, colsample_bytree=1, silent=1, nthread=4 \n"
     ]
    },
    {
     "name": "stderr",
     "output_type": "stream",
     "text": [
      "/home/ubuntu/Virtualenvs/mateo/lib/python3.4/site-packages/sklearn/externals/joblib/hashing.py:197: DeprecationWarning: Changing the shape of non-C contiguous array by\n",
      "descriptor assignment is deprecated. To maintain\n",
      "the Fortran contiguity of a multidimensional Fortran\n",
      "array, use 'a.T.view(...).T' instead\n",
      "  obj_bytes_view = obj.view(self.np.uint8)\n",
      "/home/ubuntu/Virtualenvs/mateo/lib/python3.4/site-packages/sklearn/metrics/classification.py:1117: UndefinedMetricWarning: F-score is ill-defined and being set to 0.0 due to no predicted samples.\n",
      "  'precision', 'predicted', average, warn_for)\n"
     ]
    },
    {
     "name": "stdout",
     "output_type": "stream",
     "text": [
      "[CV]  base_score=0.01, gamma=0.01, reg_alpha=0.01, n_estimators=15, objective=binary:logistic, max_depth=25, seed=1337, min_child_weight=10, learning_rate=0.001, subsample=0.5, colsample_bytree=1, silent=1, nthread=4 -  45.5s\n",
      "[CV] base_score=0.01, gamma=0.01, reg_alpha=0.01, n_estimators=15, objective=binary:logistic, max_depth=25, seed=1337, min_child_weight=10, learning_rate=0.001, subsample=0.3, colsample_bytree=1, silent=1, nthread=4 \n"
     ]
    },
    {
     "name": "stderr",
     "output_type": "stream",
     "text": [
      "/home/ubuntu/Virtualenvs/mateo/lib/python3.4/site-packages/sklearn/externals/joblib/hashing.py:197: DeprecationWarning: Changing the shape of non-C contiguous array by\n",
      "descriptor assignment is deprecated. To maintain\n",
      "the Fortran contiguity of a multidimensional Fortran\n",
      "array, use 'a.T.view(...).T' instead\n",
      "  obj_bytes_view = obj.view(self.np.uint8)\n",
      "/home/ubuntu/Virtualenvs/mateo/lib/python3.4/site-packages/sklearn/metrics/classification.py:1117: UndefinedMetricWarning: F-score is ill-defined and being set to 0.0 due to no predicted samples.\n",
      "  'precision', 'predicted', average, warn_for)\n"
     ]
    },
    {
     "name": "stdout",
     "output_type": "stream",
     "text": [
      "[CV]  base_score=0.01, gamma=0.01, reg_alpha=0.01, n_estimators=15, objective=binary:logistic, max_depth=25, seed=1337, min_child_weight=10, learning_rate=0.001, subsample=0.3, colsample_bytree=1, silent=1, nthread=4 -  33.1s\n",
      "[CV] base_score=0.01, gamma=0.01, reg_alpha=0.1, n_estimators=15, objective=binary:logistic, max_depth=25, seed=1337, min_child_weight=10, learning_rate=0.001, subsample=0.8, colsample_bytree=1, silent=1, nthread=4 \n"
     ]
    },
    {
     "name": "stderr",
     "output_type": "stream",
     "text": [
      "/home/ubuntu/Virtualenvs/mateo/lib/python3.4/site-packages/sklearn/externals/joblib/hashing.py:197: DeprecationWarning: Changing the shape of non-C contiguous array by\n",
      "descriptor assignment is deprecated. To maintain\n",
      "the Fortran contiguity of a multidimensional Fortran\n",
      "array, use 'a.T.view(...).T' instead\n",
      "  obj_bytes_view = obj.view(self.np.uint8)\n",
      "/home/ubuntu/Virtualenvs/mateo/lib/python3.4/site-packages/sklearn/metrics/classification.py:1117: UndefinedMetricWarning: F-score is ill-defined and being set to 0.0 due to no predicted samples.\n",
      "  'precision', 'predicted', average, warn_for)\n"
     ]
    },
    {
     "name": "stdout",
     "output_type": "stream",
     "text": [
      "[CV]  base_score=0.01, gamma=0.01, reg_alpha=0.01, n_estimators=15, objective=binary:logistic, max_depth=25, seed=1337, min_child_weight=10, learning_rate=0.001, subsample=0.3, colsample_bytree=1, silent=1, nthread=4 -  32.6s\n",
      "[CV] base_score=0.01, gamma=0.01, reg_alpha=0.1, n_estimators=15, objective=binary:logistic, max_depth=25, seed=1337, min_child_weight=10, learning_rate=0.001, subsample=0.8, colsample_bytree=1, silent=1, nthread=4 \n"
     ]
    },
    {
     "name": "stderr",
     "output_type": "stream",
     "text": [
      "/home/ubuntu/Virtualenvs/mateo/lib/python3.4/site-packages/sklearn/externals/joblib/hashing.py:197: DeprecationWarning: Changing the shape of non-C contiguous array by\n",
      "descriptor assignment is deprecated. To maintain\n",
      "the Fortran contiguity of a multidimensional Fortran\n",
      "array, use 'a.T.view(...).T' instead\n",
      "  obj_bytes_view = obj.view(self.np.uint8)\n",
      "/home/ubuntu/Virtualenvs/mateo/lib/python3.4/site-packages/sklearn/metrics/classification.py:1117: UndefinedMetricWarning: F-score is ill-defined and being set to 0.0 due to no predicted samples.\n",
      "  'precision', 'predicted', average, warn_for)\n"
     ]
    },
    {
     "name": "stdout",
     "output_type": "stream",
     "text": [
      "[CV]  base_score=0.01, gamma=0.01, reg_alpha=0.01, n_estimators=15, objective=binary:logistic, max_depth=25, seed=1337, min_child_weight=10, learning_rate=0.001, subsample=0.3, colsample_bytree=1, silent=1, nthread=4 -  32.6s\n",
      "[CV] base_score=0.01, gamma=0.01, reg_alpha=0.1, n_estimators=15, objective=binary:logistic, max_depth=25, seed=1337, min_child_weight=10, learning_rate=0.001, subsample=0.8, colsample_bytree=1, silent=1, nthread=4 \n"
     ]
    },
    {
     "name": "stderr",
     "output_type": "stream",
     "text": [
      "/home/ubuntu/Virtualenvs/mateo/lib/python3.4/site-packages/sklearn/externals/joblib/hashing.py:197: DeprecationWarning: Changing the shape of non-C contiguous array by\n",
      "descriptor assignment is deprecated. To maintain\n",
      "the Fortran contiguity of a multidimensional Fortran\n",
      "array, use 'a.T.view(...).T' instead\n",
      "  obj_bytes_view = obj.view(self.np.uint8)\n",
      "/home/ubuntu/Virtualenvs/mateo/lib/python3.4/site-packages/sklearn/metrics/classification.py:1117: UndefinedMetricWarning: F-score is ill-defined and being set to 0.0 due to no predicted samples.\n",
      "  'precision', 'predicted', average, warn_for)\n"
     ]
    },
    {
     "name": "stdout",
     "output_type": "stream",
     "text": [
      "[CV]  base_score=0.01, gamma=0.01, reg_alpha=0.1, n_estimators=15, objective=binary:logistic, max_depth=25, seed=1337, min_child_weight=10, learning_rate=0.001, subsample=0.8, colsample_bytree=1, silent=1, nthread=4 -  48.7s\n",
      "[CV] base_score=0.01, gamma=0.01, reg_alpha=0.1, n_estimators=15, objective=binary:logistic, max_depth=25, seed=1337, min_child_weight=10, learning_rate=0.001, subsample=0.5, colsample_bytree=1, silent=1, nthread=4 \n"
     ]
    },
    {
     "name": "stderr",
     "output_type": "stream",
     "text": [
      "/home/ubuntu/Virtualenvs/mateo/lib/python3.4/site-packages/sklearn/externals/joblib/hashing.py:197: DeprecationWarning: Changing the shape of non-C contiguous array by\n",
      "descriptor assignment is deprecated. To maintain\n",
      "the Fortran contiguity of a multidimensional Fortran\n",
      "array, use 'a.T.view(...).T' instead\n",
      "  obj_bytes_view = obj.view(self.np.uint8)\n",
      "/home/ubuntu/Virtualenvs/mateo/lib/python3.4/site-packages/sklearn/metrics/classification.py:1117: UndefinedMetricWarning: F-score is ill-defined and being set to 0.0 due to no predicted samples.\n",
      "  'precision', 'predicted', average, warn_for)\n"
     ]
    },
    {
     "name": "stdout",
     "output_type": "stream",
     "text": [
      "[CV]  base_score=0.01, gamma=0.01, reg_alpha=0.1, n_estimators=15, objective=binary:logistic, max_depth=25, seed=1337, min_child_weight=10, learning_rate=0.001, subsample=0.8, colsample_bytree=1, silent=1, nthread=4 -  48.6s\n",
      "[CV] base_score=0.01, gamma=0.01, reg_alpha=0.1, n_estimators=15, objective=binary:logistic, max_depth=25, seed=1337, min_child_weight=10, learning_rate=0.001, subsample=0.5, colsample_bytree=1, silent=1, nthread=4 \n"
     ]
    },
    {
     "name": "stderr",
     "output_type": "stream",
     "text": [
      "/home/ubuntu/Virtualenvs/mateo/lib/python3.4/site-packages/sklearn/externals/joblib/hashing.py:197: DeprecationWarning: Changing the shape of non-C contiguous array by\n",
      "descriptor assignment is deprecated. To maintain\n",
      "the Fortran contiguity of a multidimensional Fortran\n",
      "array, use 'a.T.view(...).T' instead\n",
      "  obj_bytes_view = obj.view(self.np.uint8)\n",
      "/home/ubuntu/Virtualenvs/mateo/lib/python3.4/site-packages/sklearn/metrics/classification.py:1117: UndefinedMetricWarning: F-score is ill-defined and being set to 0.0 due to no predicted samples.\n",
      "  'precision', 'predicted', average, warn_for)\n"
     ]
    },
    {
     "name": "stdout",
     "output_type": "stream",
     "text": [
      "[CV]  base_score=0.01, gamma=0.01, reg_alpha=0.1, n_estimators=15, objective=binary:logistic, max_depth=25, seed=1337, min_child_weight=10, learning_rate=0.001, subsample=0.8, colsample_bytree=1, silent=1, nthread=4 -  49.5s\n",
      "[CV] base_score=0.01, gamma=0.01, reg_alpha=0.1, n_estimators=15, objective=binary:logistic, max_depth=25, seed=1337, min_child_weight=10, learning_rate=0.001, subsample=0.5, colsample_bytree=1, silent=1, nthread=4 \n"
     ]
    },
    {
     "name": "stderr",
     "output_type": "stream",
     "text": [
      "/home/ubuntu/Virtualenvs/mateo/lib/python3.4/site-packages/sklearn/externals/joblib/hashing.py:197: DeprecationWarning: Changing the shape of non-C contiguous array by\n",
      "descriptor assignment is deprecated. To maintain\n",
      "the Fortran contiguity of a multidimensional Fortran\n",
      "array, use 'a.T.view(...).T' instead\n",
      "  obj_bytes_view = obj.view(self.np.uint8)\n",
      "/home/ubuntu/Virtualenvs/mateo/lib/python3.4/site-packages/sklearn/metrics/classification.py:1117: UndefinedMetricWarning: F-score is ill-defined and being set to 0.0 due to no predicted samples.\n",
      "  'precision', 'predicted', average, warn_for)\n"
     ]
    },
    {
     "name": "stdout",
     "output_type": "stream",
     "text": [
      "[CV]  base_score=0.01, gamma=0.01, reg_alpha=0.1, n_estimators=15, objective=binary:logistic, max_depth=25, seed=1337, min_child_weight=10, learning_rate=0.001, subsample=0.5, colsample_bytree=1, silent=1, nthread=4 -  45.8s\n",
      "[CV] base_score=0.01, gamma=0.01, reg_alpha=0.1, n_estimators=15, objective=binary:logistic, max_depth=25, seed=1337, min_child_weight=10, learning_rate=0.001, subsample=0.3, colsample_bytree=1, silent=1, nthread=4 \n"
     ]
    },
    {
     "name": "stderr",
     "output_type": "stream",
     "text": [
      "/home/ubuntu/Virtualenvs/mateo/lib/python3.4/site-packages/sklearn/externals/joblib/hashing.py:197: DeprecationWarning: Changing the shape of non-C contiguous array by\n",
      "descriptor assignment is deprecated. To maintain\n",
      "the Fortran contiguity of a multidimensional Fortran\n",
      "array, use 'a.T.view(...).T' instead\n",
      "  obj_bytes_view = obj.view(self.np.uint8)\n",
      "/home/ubuntu/Virtualenvs/mateo/lib/python3.4/site-packages/sklearn/metrics/classification.py:1117: UndefinedMetricWarning: F-score is ill-defined and being set to 0.0 due to no predicted samples.\n",
      "  'precision', 'predicted', average, warn_for)\n"
     ]
    },
    {
     "name": "stdout",
     "output_type": "stream",
     "text": [
      "[CV]  base_score=0.01, gamma=0.01, reg_alpha=0.1, n_estimators=15, objective=binary:logistic, max_depth=25, seed=1337, min_child_weight=10, learning_rate=0.001, subsample=0.5, colsample_bytree=1, silent=1, nthread=4 -  43.9s\n",
      "[CV] base_score=0.01, gamma=0.01, reg_alpha=0.1, n_estimators=15, objective=binary:logistic, max_depth=25, seed=1337, min_child_weight=10, learning_rate=0.001, subsample=0.3, colsample_bytree=1, silent=1, nthread=4 \n"
     ]
    },
    {
     "name": "stderr",
     "output_type": "stream",
     "text": [
      "/home/ubuntu/Virtualenvs/mateo/lib/python3.4/site-packages/sklearn/externals/joblib/hashing.py:197: DeprecationWarning: Changing the shape of non-C contiguous array by\n",
      "descriptor assignment is deprecated. To maintain\n",
      "the Fortran contiguity of a multidimensional Fortran\n",
      "array, use 'a.T.view(...).T' instead\n",
      "  obj_bytes_view = obj.view(self.np.uint8)\n",
      "/home/ubuntu/Virtualenvs/mateo/lib/python3.4/site-packages/sklearn/metrics/classification.py:1117: UndefinedMetricWarning: F-score is ill-defined and being set to 0.0 due to no predicted samples.\n",
      "  'precision', 'predicted', average, warn_for)\n"
     ]
    },
    {
     "name": "stdout",
     "output_type": "stream",
     "text": [
      "[CV]  base_score=0.01, gamma=0.01, reg_alpha=0.1, n_estimators=15, objective=binary:logistic, max_depth=25, seed=1337, min_child_weight=10, learning_rate=0.001, subsample=0.5, colsample_bytree=1, silent=1, nthread=4 -  43.3s\n",
      "[CV] base_score=0.01, gamma=0.01, reg_alpha=0.1, n_estimators=15, objective=binary:logistic, max_depth=25, seed=1337, min_child_weight=10, learning_rate=0.001, subsample=0.3, colsample_bytree=1, silent=1, nthread=4 \n"
     ]
    },
    {
     "name": "stderr",
     "output_type": "stream",
     "text": [
      "/home/ubuntu/Virtualenvs/mateo/lib/python3.4/site-packages/sklearn/externals/joblib/hashing.py:197: DeprecationWarning: Changing the shape of non-C contiguous array by\n",
      "descriptor assignment is deprecated. To maintain\n",
      "the Fortran contiguity of a multidimensional Fortran\n",
      "array, use 'a.T.view(...).T' instead\n",
      "  obj_bytes_view = obj.view(self.np.uint8)\n",
      "/home/ubuntu/Virtualenvs/mateo/lib/python3.4/site-packages/sklearn/metrics/classification.py:1117: UndefinedMetricWarning: F-score is ill-defined and being set to 0.0 due to no predicted samples.\n",
      "  'precision', 'predicted', average, warn_for)\n"
     ]
    },
    {
     "name": "stdout",
     "output_type": "stream",
     "text": [
      "[CV]  base_score=0.01, gamma=0.01, reg_alpha=0.1, n_estimators=15, objective=binary:logistic, max_depth=25, seed=1337, min_child_weight=10, learning_rate=0.001, subsample=0.3, colsample_bytree=1, silent=1, nthread=4 -  32.4s\n",
      "[CV] base_score=0.01, gamma=0.01, reg_alpha=1.0, n_estimators=15, objective=binary:logistic, max_depth=25, seed=1337, min_child_weight=10, learning_rate=0.001, subsample=0.8, colsample_bytree=1, silent=1, nthread=4 \n"
     ]
    },
    {
     "name": "stderr",
     "output_type": "stream",
     "text": [
      "/home/ubuntu/Virtualenvs/mateo/lib/python3.4/site-packages/sklearn/externals/joblib/hashing.py:197: DeprecationWarning: Changing the shape of non-C contiguous array by\n",
      "descriptor assignment is deprecated. To maintain\n",
      "the Fortran contiguity of a multidimensional Fortran\n",
      "array, use 'a.T.view(...).T' instead\n",
      "  obj_bytes_view = obj.view(self.np.uint8)\n",
      "/home/ubuntu/Virtualenvs/mateo/lib/python3.4/site-packages/sklearn/metrics/classification.py:1117: UndefinedMetricWarning: F-score is ill-defined and being set to 0.0 due to no predicted samples.\n",
      "  'precision', 'predicted', average, warn_for)\n"
     ]
    },
    {
     "name": "stdout",
     "output_type": "stream",
     "text": [
      "[CV]  base_score=0.01, gamma=0.01, reg_alpha=0.1, n_estimators=15, objective=binary:logistic, max_depth=25, seed=1337, min_child_weight=10, learning_rate=0.001, subsample=0.3, colsample_bytree=1, silent=1, nthread=4 -  32.3s\n",
      "[CV] base_score=0.01, gamma=0.01, reg_alpha=1.0, n_estimators=15, objective=binary:logistic, max_depth=25, seed=1337, min_child_weight=10, learning_rate=0.001, subsample=0.8, colsample_bytree=1, silent=1, nthread=4 \n"
     ]
    },
    {
     "name": "stderr",
     "output_type": "stream",
     "text": [
      "/home/ubuntu/Virtualenvs/mateo/lib/python3.4/site-packages/sklearn/externals/joblib/hashing.py:197: DeprecationWarning: Changing the shape of non-C contiguous array by\n",
      "descriptor assignment is deprecated. To maintain\n",
      "the Fortran contiguity of a multidimensional Fortran\n",
      "array, use 'a.T.view(...).T' instead\n",
      "  obj_bytes_view = obj.view(self.np.uint8)\n",
      "/home/ubuntu/Virtualenvs/mateo/lib/python3.4/site-packages/sklearn/metrics/classification.py:1117: UndefinedMetricWarning: F-score is ill-defined and being set to 0.0 due to no predicted samples.\n",
      "  'precision', 'predicted', average, warn_for)\n"
     ]
    },
    {
     "name": "stdout",
     "output_type": "stream",
     "text": [
      "[CV]  base_score=0.01, gamma=0.01, reg_alpha=0.1, n_estimators=15, objective=binary:logistic, max_depth=25, seed=1337, min_child_weight=10, learning_rate=0.001, subsample=0.3, colsample_bytree=1, silent=1, nthread=4 -  32.6s\n",
      "[CV] base_score=0.01, gamma=0.01, reg_alpha=1.0, n_estimators=15, objective=binary:logistic, max_depth=25, seed=1337, min_child_weight=10, learning_rate=0.001, subsample=0.8, colsample_bytree=1, silent=1, nthread=4 \n"
     ]
    },
    {
     "name": "stderr",
     "output_type": "stream",
     "text": [
      "/home/ubuntu/Virtualenvs/mateo/lib/python3.4/site-packages/sklearn/externals/joblib/hashing.py:197: DeprecationWarning: Changing the shape of non-C contiguous array by\n",
      "descriptor assignment is deprecated. To maintain\n",
      "the Fortran contiguity of a multidimensional Fortran\n",
      "array, use 'a.T.view(...).T' instead\n",
      "  obj_bytes_view = obj.view(self.np.uint8)\n",
      "/home/ubuntu/Virtualenvs/mateo/lib/python3.4/site-packages/sklearn/metrics/classification.py:1117: UndefinedMetricWarning: F-score is ill-defined and being set to 0.0 due to no predicted samples.\n",
      "  'precision', 'predicted', average, warn_for)\n"
     ]
    },
    {
     "name": "stdout",
     "output_type": "stream",
     "text": [
      "[CV]  base_score=0.01, gamma=0.01, reg_alpha=1.0, n_estimators=15, objective=binary:logistic, max_depth=25, seed=1337, min_child_weight=10, learning_rate=0.001, subsample=0.8, colsample_bytree=1, silent=1, nthread=4 -  44.6s\n",
      "[CV] base_score=0.01, gamma=0.01, reg_alpha=1.0, n_estimators=15, objective=binary:logistic, max_depth=25, seed=1337, min_child_weight=10, learning_rate=0.001, subsample=0.5, colsample_bytree=1, silent=1, nthread=4 \n"
     ]
    },
    {
     "name": "stderr",
     "output_type": "stream",
     "text": [
      "/home/ubuntu/Virtualenvs/mateo/lib/python3.4/site-packages/sklearn/externals/joblib/hashing.py:197: DeprecationWarning: Changing the shape of non-C contiguous array by\n",
      "descriptor assignment is deprecated. To maintain\n",
      "the Fortran contiguity of a multidimensional Fortran\n",
      "array, use 'a.T.view(...).T' instead\n",
      "  obj_bytes_view = obj.view(self.np.uint8)\n",
      "/home/ubuntu/Virtualenvs/mateo/lib/python3.4/site-packages/sklearn/metrics/classification.py:1117: UndefinedMetricWarning: F-score is ill-defined and being set to 0.0 due to no predicted samples.\n",
      "  'precision', 'predicted', average, warn_for)\n"
     ]
    },
    {
     "name": "stdout",
     "output_type": "stream",
     "text": [
      "[CV]  base_score=0.01, gamma=0.01, reg_alpha=1.0, n_estimators=15, objective=binary:logistic, max_depth=25, seed=1337, min_child_weight=10, learning_rate=0.001, subsample=0.8, colsample_bytree=1, silent=1, nthread=4 -  43.5s\n",
      "[CV] base_score=0.01, gamma=0.01, reg_alpha=1.0, n_estimators=15, objective=binary:logistic, max_depth=25, seed=1337, min_child_weight=10, learning_rate=0.001, subsample=0.5, colsample_bytree=1, silent=1, nthread=4 \n"
     ]
    },
    {
     "name": "stderr",
     "output_type": "stream",
     "text": [
      "/home/ubuntu/Virtualenvs/mateo/lib/python3.4/site-packages/sklearn/externals/joblib/hashing.py:197: DeprecationWarning: Changing the shape of non-C contiguous array by\n",
      "descriptor assignment is deprecated. To maintain\n",
      "the Fortran contiguity of a multidimensional Fortran\n",
      "array, use 'a.T.view(...).T' instead\n",
      "  obj_bytes_view = obj.view(self.np.uint8)\n",
      "/home/ubuntu/Virtualenvs/mateo/lib/python3.4/site-packages/sklearn/metrics/classification.py:1117: UndefinedMetricWarning: F-score is ill-defined and being set to 0.0 due to no predicted samples.\n",
      "  'precision', 'predicted', average, warn_for)\n"
     ]
    },
    {
     "name": "stdout",
     "output_type": "stream",
     "text": [
      "[CV]  base_score=0.01, gamma=0.01, reg_alpha=1.0, n_estimators=15, objective=binary:logistic, max_depth=25, seed=1337, min_child_weight=10, learning_rate=0.001, subsample=0.8, colsample_bytree=1, silent=1, nthread=4 -  43.3s\n",
      "[CV] base_score=0.01, gamma=0.01, reg_alpha=1.0, n_estimators=15, objective=binary:logistic, max_depth=25, seed=1337, min_child_weight=10, learning_rate=0.001, subsample=0.5, colsample_bytree=1, silent=1, nthread=4 \n"
     ]
    },
    {
     "name": "stderr",
     "output_type": "stream",
     "text": [
      "/home/ubuntu/Virtualenvs/mateo/lib/python3.4/site-packages/sklearn/externals/joblib/hashing.py:197: DeprecationWarning: Changing the shape of non-C contiguous array by\n",
      "descriptor assignment is deprecated. To maintain\n",
      "the Fortran contiguity of a multidimensional Fortran\n",
      "array, use 'a.T.view(...).T' instead\n",
      "  obj_bytes_view = obj.view(self.np.uint8)\n",
      "/home/ubuntu/Virtualenvs/mateo/lib/python3.4/site-packages/sklearn/metrics/classification.py:1117: UndefinedMetricWarning: F-score is ill-defined and being set to 0.0 due to no predicted samples.\n",
      "  'precision', 'predicted', average, warn_for)\n"
     ]
    },
    {
     "name": "stdout",
     "output_type": "stream",
     "text": [
      "[CV]  base_score=0.01, gamma=0.01, reg_alpha=1.0, n_estimators=15, objective=binary:logistic, max_depth=25, seed=1337, min_child_weight=10, learning_rate=0.001, subsample=0.5, colsample_bytree=1, silent=1, nthread=4 -  39.5s\n",
      "[CV] base_score=0.01, gamma=0.01, reg_alpha=1.0, n_estimators=15, objective=binary:logistic, max_depth=25, seed=1337, min_child_weight=10, learning_rate=0.001, subsample=0.3, colsample_bytree=1, silent=1, nthread=4 \n"
     ]
    },
    {
     "name": "stderr",
     "output_type": "stream",
     "text": [
      "/home/ubuntu/Virtualenvs/mateo/lib/python3.4/site-packages/sklearn/externals/joblib/hashing.py:197: DeprecationWarning: Changing the shape of non-C contiguous array by\n",
      "descriptor assignment is deprecated. To maintain\n",
      "the Fortran contiguity of a multidimensional Fortran\n",
      "array, use 'a.T.view(...).T' instead\n",
      "  obj_bytes_view = obj.view(self.np.uint8)\n",
      "/home/ubuntu/Virtualenvs/mateo/lib/python3.4/site-packages/sklearn/metrics/classification.py:1117: UndefinedMetricWarning: F-score is ill-defined and being set to 0.0 due to no predicted samples.\n",
      "  'precision', 'predicted', average, warn_for)\n"
     ]
    },
    {
     "name": "stdout",
     "output_type": "stream",
     "text": [
      "[CV]  base_score=0.01, gamma=0.01, reg_alpha=1.0, n_estimators=15, objective=binary:logistic, max_depth=25, seed=1337, min_child_weight=10, learning_rate=0.001, subsample=0.5, colsample_bytree=1, silent=1, nthread=4 -  41.8s\n",
      "[CV] base_score=0.01, gamma=0.01, reg_alpha=1.0, n_estimators=15, objective=binary:logistic, max_depth=25, seed=1337, min_child_weight=10, learning_rate=0.001, subsample=0.3, colsample_bytree=1, silent=1, nthread=4 \n"
     ]
    },
    {
     "name": "stderr",
     "output_type": "stream",
     "text": [
      "/home/ubuntu/Virtualenvs/mateo/lib/python3.4/site-packages/sklearn/externals/joblib/hashing.py:197: DeprecationWarning: Changing the shape of non-C contiguous array by\n",
      "descriptor assignment is deprecated. To maintain\n",
      "the Fortran contiguity of a multidimensional Fortran\n",
      "array, use 'a.T.view(...).T' instead\n",
      "  obj_bytes_view = obj.view(self.np.uint8)\n",
      "/home/ubuntu/Virtualenvs/mateo/lib/python3.4/site-packages/sklearn/metrics/classification.py:1117: UndefinedMetricWarning: F-score is ill-defined and being set to 0.0 due to no predicted samples.\n",
      "  'precision', 'predicted', average, warn_for)\n"
     ]
    },
    {
     "name": "stdout",
     "output_type": "stream",
     "text": [
      "[CV]  base_score=0.01, gamma=0.01, reg_alpha=1.0, n_estimators=15, objective=binary:logistic, max_depth=25, seed=1337, min_child_weight=10, learning_rate=0.001, subsample=0.5, colsample_bytree=1, silent=1, nthread=4 -  41.7s\n",
      "[CV] base_score=0.01, gamma=0.01, reg_alpha=1.0, n_estimators=15, objective=binary:logistic, max_depth=25, seed=1337, min_child_weight=10, learning_rate=0.001, subsample=0.3, colsample_bytree=1, silent=1, nthread=4 \n"
     ]
    },
    {
     "name": "stderr",
     "output_type": "stream",
     "text": [
      "/home/ubuntu/Virtualenvs/mateo/lib/python3.4/site-packages/sklearn/externals/joblib/hashing.py:197: DeprecationWarning: Changing the shape of non-C contiguous array by\n",
      "descriptor assignment is deprecated. To maintain\n",
      "the Fortran contiguity of a multidimensional Fortran\n",
      "array, use 'a.T.view(...).T' instead\n",
      "  obj_bytes_view = obj.view(self.np.uint8)\n",
      "/home/ubuntu/Virtualenvs/mateo/lib/python3.4/site-packages/sklearn/metrics/classification.py:1117: UndefinedMetricWarning: F-score is ill-defined and being set to 0.0 due to no predicted samples.\n",
      "  'precision', 'predicted', average, warn_for)\n"
     ]
    },
    {
     "name": "stdout",
     "output_type": "stream",
     "text": [
      "[CV]  base_score=0.01, gamma=0.01, reg_alpha=1.0, n_estimators=15, objective=binary:logistic, max_depth=25, seed=1337, min_child_weight=10, learning_rate=0.001, subsample=0.3, colsample_bytree=1, silent=1, nthread=4 -  29.5s\n",
      "[CV] base_score=0.01, gamma=0.01, reg_alpha=0.01, n_estimators=30, objective=binary:logistic, max_depth=25, seed=1337, min_child_weight=10, learning_rate=0.001, subsample=0.8, colsample_bytree=1, silent=1, nthread=4 \n"
     ]
    },
    {
     "name": "stderr",
     "output_type": "stream",
     "text": [
      "/home/ubuntu/Virtualenvs/mateo/lib/python3.4/site-packages/sklearn/externals/joblib/hashing.py:197: DeprecationWarning: Changing the shape of non-C contiguous array by\n",
      "descriptor assignment is deprecated. To maintain\n",
      "the Fortran contiguity of a multidimensional Fortran\n",
      "array, use 'a.T.view(...).T' instead\n",
      "  obj_bytes_view = obj.view(self.np.uint8)\n",
      "/home/ubuntu/Virtualenvs/mateo/lib/python3.4/site-packages/sklearn/metrics/classification.py:1117: UndefinedMetricWarning: F-score is ill-defined and being set to 0.0 due to no predicted samples.\n",
      "  'precision', 'predicted', average, warn_for)\n"
     ]
    },
    {
     "name": "stdout",
     "output_type": "stream",
     "text": [
      "[CV]  base_score=0.01, gamma=0.01, reg_alpha=1.0, n_estimators=15, objective=binary:logistic, max_depth=25, seed=1337, min_child_weight=10, learning_rate=0.001, subsample=0.3, colsample_bytree=1, silent=1, nthread=4 -  30.8s\n",
      "[CV] base_score=0.01, gamma=0.01, reg_alpha=0.01, n_estimators=30, objective=binary:logistic, max_depth=25, seed=1337, min_child_weight=10, learning_rate=0.001, subsample=0.8, colsample_bytree=1, silent=1, nthread=4 \n"
     ]
    },
    {
     "name": "stderr",
     "output_type": "stream",
     "text": [
      "/home/ubuntu/Virtualenvs/mateo/lib/python3.4/site-packages/sklearn/externals/joblib/hashing.py:197: DeprecationWarning: Changing the shape of non-C contiguous array by\n",
      "descriptor assignment is deprecated. To maintain\n",
      "the Fortran contiguity of a multidimensional Fortran\n",
      "array, use 'a.T.view(...).T' instead\n",
      "  obj_bytes_view = obj.view(self.np.uint8)\n",
      "/home/ubuntu/Virtualenvs/mateo/lib/python3.4/site-packages/sklearn/metrics/classification.py:1117: UndefinedMetricWarning: F-score is ill-defined and being set to 0.0 due to no predicted samples.\n",
      "  'precision', 'predicted', average, warn_for)\n"
     ]
    },
    {
     "name": "stdout",
     "output_type": "stream",
     "text": [
      "[CV]  base_score=0.01, gamma=0.01, reg_alpha=1.0, n_estimators=15, objective=binary:logistic, max_depth=25, seed=1337, min_child_weight=10, learning_rate=0.001, subsample=0.3, colsample_bytree=1, silent=1, nthread=4 -  31.2s\n",
      "[CV] base_score=0.01, gamma=0.01, reg_alpha=0.01, n_estimators=30, objective=binary:logistic, max_depth=25, seed=1337, min_child_weight=10, learning_rate=0.001, subsample=0.8, colsample_bytree=1, silent=1, nthread=4 \n"
     ]
    },
    {
     "name": "stderr",
     "output_type": "stream",
     "text": [
      "/home/ubuntu/Virtualenvs/mateo/lib/python3.4/site-packages/sklearn/externals/joblib/hashing.py:197: DeprecationWarning: Changing the shape of non-C contiguous array by\n",
      "descriptor assignment is deprecated. To maintain\n",
      "the Fortran contiguity of a multidimensional Fortran\n",
      "array, use 'a.T.view(...).T' instead\n",
      "  obj_bytes_view = obj.view(self.np.uint8)\n",
      "/home/ubuntu/Virtualenvs/mateo/lib/python3.4/site-packages/sklearn/metrics/classification.py:1117: UndefinedMetricWarning: F-score is ill-defined and being set to 0.0 due to no predicted samples.\n",
      "  'precision', 'predicted', average, warn_for)\n"
     ]
    },
    {
     "name": "stdout",
     "output_type": "stream",
     "text": [
      "[CV]  base_score=0.01, gamma=0.01, reg_alpha=0.01, n_estimators=30, objective=binary:logistic, max_depth=25, seed=1337, min_child_weight=10, learning_rate=0.001, subsample=0.8, colsample_bytree=1, silent=1, nthread=4 - 1.6min\n",
      "[CV] base_score=0.01, gamma=0.01, reg_alpha=0.01, n_estimators=30, objective=binary:logistic, max_depth=25, seed=1337, min_child_weight=10, learning_rate=0.001, subsample=0.5, colsample_bytree=1, silent=1, nthread=4 \n"
     ]
    },
    {
     "name": "stderr",
     "output_type": "stream",
     "text": [
      "/home/ubuntu/Virtualenvs/mateo/lib/python3.4/site-packages/sklearn/externals/joblib/hashing.py:197: DeprecationWarning: Changing the shape of non-C contiguous array by\n",
      "descriptor assignment is deprecated. To maintain\n",
      "the Fortran contiguity of a multidimensional Fortran\n",
      "array, use 'a.T.view(...).T' instead\n",
      "  obj_bytes_view = obj.view(self.np.uint8)\n",
      "/home/ubuntu/Virtualenvs/mateo/lib/python3.4/site-packages/sklearn/metrics/classification.py:1117: UndefinedMetricWarning: F-score is ill-defined and being set to 0.0 due to no predicted samples.\n",
      "  'precision', 'predicted', average, warn_for)\n"
     ]
    },
    {
     "name": "stdout",
     "output_type": "stream",
     "text": [
      "[CV]  base_score=0.01, gamma=0.01, reg_alpha=0.01, n_estimators=30, objective=binary:logistic, max_depth=25, seed=1337, min_child_weight=10, learning_rate=0.001, subsample=0.8, colsample_bytree=1, silent=1, nthread=4 - 1.6min\n",
      "[CV] base_score=0.01, gamma=0.01, reg_alpha=0.01, n_estimators=30, objective=binary:logistic, max_depth=25, seed=1337, min_child_weight=10, learning_rate=0.001, subsample=0.5, colsample_bytree=1, silent=1, nthread=4 \n"
     ]
    },
    {
     "name": "stderr",
     "output_type": "stream",
     "text": [
      "/home/ubuntu/Virtualenvs/mateo/lib/python3.4/site-packages/sklearn/externals/joblib/hashing.py:197: DeprecationWarning: Changing the shape of non-C contiguous array by\n",
      "descriptor assignment is deprecated. To maintain\n",
      "the Fortran contiguity of a multidimensional Fortran\n",
      "array, use 'a.T.view(...).T' instead\n",
      "  obj_bytes_view = obj.view(self.np.uint8)\n",
      "/home/ubuntu/Virtualenvs/mateo/lib/python3.4/site-packages/sklearn/metrics/classification.py:1117: UndefinedMetricWarning: F-score is ill-defined and being set to 0.0 due to no predicted samples.\n",
      "  'precision', 'predicted', average, warn_for)\n"
     ]
    },
    {
     "name": "stdout",
     "output_type": "stream",
     "text": [
      "[CV]  base_score=0.01, gamma=0.01, reg_alpha=0.01, n_estimators=30, objective=binary:logistic, max_depth=25, seed=1337, min_child_weight=10, learning_rate=0.001, subsample=0.8, colsample_bytree=1, silent=1, nthread=4 - 1.6min\n",
      "[CV] base_score=0.01, gamma=0.01, reg_alpha=0.01, n_estimators=30, objective=binary:logistic, max_depth=25, seed=1337, min_child_weight=10, learning_rate=0.001, subsample=0.5, colsample_bytree=1, silent=1, nthread=4 \n"
     ]
    },
    {
     "name": "stderr",
     "output_type": "stream",
     "text": [
      "/home/ubuntu/Virtualenvs/mateo/lib/python3.4/site-packages/sklearn/externals/joblib/hashing.py:197: DeprecationWarning: Changing the shape of non-C contiguous array by\n",
      "descriptor assignment is deprecated. To maintain\n",
      "the Fortran contiguity of a multidimensional Fortran\n",
      "array, use 'a.T.view(...).T' instead\n",
      "  obj_bytes_view = obj.view(self.np.uint8)\n",
      "/home/ubuntu/Virtualenvs/mateo/lib/python3.4/site-packages/sklearn/metrics/classification.py:1117: UndefinedMetricWarning: F-score is ill-defined and being set to 0.0 due to no predicted samples.\n",
      "  'precision', 'predicted', average, warn_for)\n"
     ]
    },
    {
     "name": "stdout",
     "output_type": "stream",
     "text": [
      "[CV]  base_score=0.01, gamma=0.01, reg_alpha=0.01, n_estimators=30, objective=binary:logistic, max_depth=25, seed=1337, min_child_weight=10, learning_rate=0.001, subsample=0.5, colsample_bytree=1, silent=1, nthread=4 - 1.5min\n",
      "[CV] base_score=0.01, gamma=0.01, reg_alpha=0.01, n_estimators=30, objective=binary:logistic, max_depth=25, seed=1337, min_child_weight=10, learning_rate=0.001, subsample=0.3, colsample_bytree=1, silent=1, nthread=4 \n"
     ]
    },
    {
     "name": "stderr",
     "output_type": "stream",
     "text": [
      "/home/ubuntu/Virtualenvs/mateo/lib/python3.4/site-packages/sklearn/externals/joblib/hashing.py:197: DeprecationWarning: Changing the shape of non-C contiguous array by\n",
      "descriptor assignment is deprecated. To maintain\n",
      "the Fortran contiguity of a multidimensional Fortran\n",
      "array, use 'a.T.view(...).T' instead\n",
      "  obj_bytes_view = obj.view(self.np.uint8)\n",
      "/home/ubuntu/Virtualenvs/mateo/lib/python3.4/site-packages/sklearn/metrics/classification.py:1117: UndefinedMetricWarning: F-score is ill-defined and being set to 0.0 due to no predicted samples.\n",
      "  'precision', 'predicted', average, warn_for)\n"
     ]
    },
    {
     "name": "stdout",
     "output_type": "stream",
     "text": [
      "[CV]  base_score=0.01, gamma=0.01, reg_alpha=0.01, n_estimators=30, objective=binary:logistic, max_depth=25, seed=1337, min_child_weight=10, learning_rate=0.001, subsample=0.5, colsample_bytree=1, silent=1, nthread=4 - 1.5min\n",
      "[CV] base_score=0.01, gamma=0.01, reg_alpha=0.01, n_estimators=30, objective=binary:logistic, max_depth=25, seed=1337, min_child_weight=10, learning_rate=0.001, subsample=0.3, colsample_bytree=1, silent=1, nthread=4 \n"
     ]
    },
    {
     "name": "stderr",
     "output_type": "stream",
     "text": [
      "/home/ubuntu/Virtualenvs/mateo/lib/python3.4/site-packages/sklearn/externals/joblib/hashing.py:197: DeprecationWarning: Changing the shape of non-C contiguous array by\n",
      "descriptor assignment is deprecated. To maintain\n",
      "the Fortran contiguity of a multidimensional Fortran\n",
      "array, use 'a.T.view(...).T' instead\n",
      "  obj_bytes_view = obj.view(self.np.uint8)\n",
      "/home/ubuntu/Virtualenvs/mateo/lib/python3.4/site-packages/sklearn/metrics/classification.py:1117: UndefinedMetricWarning: F-score is ill-defined and being set to 0.0 due to no predicted samples.\n",
      "  'precision', 'predicted', average, warn_for)\n"
     ]
    },
    {
     "name": "stdout",
     "output_type": "stream",
     "text": [
      "[CV]  base_score=0.01, gamma=0.01, reg_alpha=0.01, n_estimators=30, objective=binary:logistic, max_depth=25, seed=1337, min_child_weight=10, learning_rate=0.001, subsample=0.5, colsample_bytree=1, silent=1, nthread=4 - 1.5min\n",
      "[CV] base_score=0.01, gamma=0.01, reg_alpha=0.01, n_estimators=30, objective=binary:logistic, max_depth=25, seed=1337, min_child_weight=10, learning_rate=0.001, subsample=0.3, colsample_bytree=1, silent=1, nthread=4 \n"
     ]
    },
    {
     "name": "stderr",
     "output_type": "stream",
     "text": [
      "/home/ubuntu/Virtualenvs/mateo/lib/python3.4/site-packages/sklearn/externals/joblib/hashing.py:197: DeprecationWarning: Changing the shape of non-C contiguous array by\n",
      "descriptor assignment is deprecated. To maintain\n",
      "the Fortran contiguity of a multidimensional Fortran\n",
      "array, use 'a.T.view(...).T' instead\n",
      "  obj_bytes_view = obj.view(self.np.uint8)\n",
      "/home/ubuntu/Virtualenvs/mateo/lib/python3.4/site-packages/sklearn/metrics/classification.py:1117: UndefinedMetricWarning: F-score is ill-defined and being set to 0.0 due to no predicted samples.\n",
      "  'precision', 'predicted', average, warn_for)\n"
     ]
    },
    {
     "name": "stdout",
     "output_type": "stream",
     "text": [
      "[CV]  base_score=0.01, gamma=0.01, reg_alpha=0.01, n_estimators=30, objective=binary:logistic, max_depth=25, seed=1337, min_child_weight=10, learning_rate=0.001, subsample=0.3, colsample_bytree=1, silent=1, nthread=4 - 1.1min\n",
      "[CV] base_score=0.01, gamma=0.01, reg_alpha=0.1, n_estimators=30, objective=binary:logistic, max_depth=25, seed=1337, min_child_weight=10, learning_rate=0.001, subsample=0.8, colsample_bytree=1, silent=1, nthread=4 \n"
     ]
    },
    {
     "name": "stderr",
     "output_type": "stream",
     "text": [
      "/home/ubuntu/Virtualenvs/mateo/lib/python3.4/site-packages/sklearn/externals/joblib/hashing.py:197: DeprecationWarning: Changing the shape of non-C contiguous array by\n",
      "descriptor assignment is deprecated. To maintain\n",
      "the Fortran contiguity of a multidimensional Fortran\n",
      "array, use 'a.T.view(...).T' instead\n",
      "  obj_bytes_view = obj.view(self.np.uint8)\n",
      "/home/ubuntu/Virtualenvs/mateo/lib/python3.4/site-packages/sklearn/metrics/classification.py:1117: UndefinedMetricWarning: F-score is ill-defined and being set to 0.0 due to no predicted samples.\n",
      "  'precision', 'predicted', average, warn_for)\n"
     ]
    },
    {
     "name": "stdout",
     "output_type": "stream",
     "text": [
      "[CV]  base_score=0.01, gamma=0.01, reg_alpha=0.01, n_estimators=30, objective=binary:logistic, max_depth=25, seed=1337, min_child_weight=10, learning_rate=0.001, subsample=0.3, colsample_bytree=1, silent=1, nthread=4 - 1.1min\n",
      "[CV] base_score=0.01, gamma=0.01, reg_alpha=0.1, n_estimators=30, objective=binary:logistic, max_depth=25, seed=1337, min_child_weight=10, learning_rate=0.001, subsample=0.8, colsample_bytree=1, silent=1, nthread=4 \n"
     ]
    },
    {
     "name": "stderr",
     "output_type": "stream",
     "text": [
      "/home/ubuntu/Virtualenvs/mateo/lib/python3.4/site-packages/sklearn/externals/joblib/hashing.py:197: DeprecationWarning: Changing the shape of non-C contiguous array by\n",
      "descriptor assignment is deprecated. To maintain\n",
      "the Fortran contiguity of a multidimensional Fortran\n",
      "array, use 'a.T.view(...).T' instead\n",
      "  obj_bytes_view = obj.view(self.np.uint8)\n",
      "/home/ubuntu/Virtualenvs/mateo/lib/python3.4/site-packages/sklearn/metrics/classification.py:1117: UndefinedMetricWarning: F-score is ill-defined and being set to 0.0 due to no predicted samples.\n",
      "  'precision', 'predicted', average, warn_for)\n"
     ]
    },
    {
     "name": "stdout",
     "output_type": "stream",
     "text": [
      "[CV]  base_score=0.01, gamma=0.01, reg_alpha=0.01, n_estimators=30, objective=binary:logistic, max_depth=25, seed=1337, min_child_weight=10, learning_rate=0.001, subsample=0.3, colsample_bytree=1, silent=1, nthread=4 - 1.1min\n",
      "[CV] base_score=0.01, gamma=0.01, reg_alpha=0.1, n_estimators=30, objective=binary:logistic, max_depth=25, seed=1337, min_child_weight=10, learning_rate=0.001, subsample=0.8, colsample_bytree=1, silent=1, nthread=4 \n"
     ]
    },
    {
     "name": "stderr",
     "output_type": "stream",
     "text": [
      "/home/ubuntu/Virtualenvs/mateo/lib/python3.4/site-packages/sklearn/externals/joblib/hashing.py:197: DeprecationWarning: Changing the shape of non-C contiguous array by\n",
      "descriptor assignment is deprecated. To maintain\n",
      "the Fortran contiguity of a multidimensional Fortran\n",
      "array, use 'a.T.view(...).T' instead\n",
      "  obj_bytes_view = obj.view(self.np.uint8)\n",
      "/home/ubuntu/Virtualenvs/mateo/lib/python3.4/site-packages/sklearn/metrics/classification.py:1117: UndefinedMetricWarning: F-score is ill-defined and being set to 0.0 due to no predicted samples.\n",
      "  'precision', 'predicted', average, warn_for)\n"
     ]
    },
    {
     "name": "stdout",
     "output_type": "stream",
     "text": [
      "[CV]  base_score=0.01, gamma=0.01, reg_alpha=0.1, n_estimators=30, objective=binary:logistic, max_depth=25, seed=1337, min_child_weight=10, learning_rate=0.001, subsample=0.8, colsample_bytree=1, silent=1, nthread=4 - 1.6min\n",
      "[CV] base_score=0.01, gamma=0.01, reg_alpha=0.1, n_estimators=30, objective=binary:logistic, max_depth=25, seed=1337, min_child_weight=10, learning_rate=0.001, subsample=0.5, colsample_bytree=1, silent=1, nthread=4 \n"
     ]
    },
    {
     "name": "stderr",
     "output_type": "stream",
     "text": [
      "/home/ubuntu/Virtualenvs/mateo/lib/python3.4/site-packages/sklearn/externals/joblib/hashing.py:197: DeprecationWarning: Changing the shape of non-C contiguous array by\n",
      "descriptor assignment is deprecated. To maintain\n",
      "the Fortran contiguity of a multidimensional Fortran\n",
      "array, use 'a.T.view(...).T' instead\n",
      "  obj_bytes_view = obj.view(self.np.uint8)\n",
      "/home/ubuntu/Virtualenvs/mateo/lib/python3.4/site-packages/sklearn/metrics/classification.py:1117: UndefinedMetricWarning: F-score is ill-defined and being set to 0.0 due to no predicted samples.\n",
      "  'precision', 'predicted', average, warn_for)\n"
     ]
    },
    {
     "name": "stdout",
     "output_type": "stream",
     "text": [
      "[CV]  base_score=0.01, gamma=0.01, reg_alpha=0.1, n_estimators=30, objective=binary:logistic, max_depth=25, seed=1337, min_child_weight=10, learning_rate=0.001, subsample=0.8, colsample_bytree=1, silent=1, nthread=4 - 1.6min\n",
      "[CV] base_score=0.01, gamma=0.01, reg_alpha=0.1, n_estimators=30, objective=binary:logistic, max_depth=25, seed=1337, min_child_weight=10, learning_rate=0.001, subsample=0.5, colsample_bytree=1, silent=1, nthread=4 \n"
     ]
    },
    {
     "name": "stderr",
     "output_type": "stream",
     "text": [
      "/home/ubuntu/Virtualenvs/mateo/lib/python3.4/site-packages/sklearn/externals/joblib/hashing.py:197: DeprecationWarning: Changing the shape of non-C contiguous array by\n",
      "descriptor assignment is deprecated. To maintain\n",
      "the Fortran contiguity of a multidimensional Fortran\n",
      "array, use 'a.T.view(...).T' instead\n",
      "  obj_bytes_view = obj.view(self.np.uint8)\n",
      "/home/ubuntu/Virtualenvs/mateo/lib/python3.4/site-packages/sklearn/metrics/classification.py:1117: UndefinedMetricWarning: F-score is ill-defined and being set to 0.0 due to no predicted samples.\n",
      "  'precision', 'predicted', average, warn_for)\n"
     ]
    },
    {
     "name": "stdout",
     "output_type": "stream",
     "text": [
      "[CV]  base_score=0.01, gamma=0.01, reg_alpha=0.1, n_estimators=30, objective=binary:logistic, max_depth=25, seed=1337, min_child_weight=10, learning_rate=0.001, subsample=0.8, colsample_bytree=1, silent=1, nthread=4 - 1.6min\n",
      "[CV] base_score=0.01, gamma=0.01, reg_alpha=0.1, n_estimators=30, objective=binary:logistic, max_depth=25, seed=1337, min_child_weight=10, learning_rate=0.001, subsample=0.5, colsample_bytree=1, silent=1, nthread=4 \n"
     ]
    },
    {
     "name": "stderr",
     "output_type": "stream",
     "text": [
      "/home/ubuntu/Virtualenvs/mateo/lib/python3.4/site-packages/sklearn/externals/joblib/hashing.py:197: DeprecationWarning: Changing the shape of non-C contiguous array by\n",
      "descriptor assignment is deprecated. To maintain\n",
      "the Fortran contiguity of a multidimensional Fortran\n",
      "array, use 'a.T.view(...).T' instead\n",
      "  obj_bytes_view = obj.view(self.np.uint8)\n",
      "/home/ubuntu/Virtualenvs/mateo/lib/python3.4/site-packages/sklearn/metrics/classification.py:1117: UndefinedMetricWarning: F-score is ill-defined and being set to 0.0 due to no predicted samples.\n",
      "  'precision', 'predicted', average, warn_for)\n"
     ]
    },
    {
     "name": "stdout",
     "output_type": "stream",
     "text": [
      "[CV]  base_score=0.01, gamma=0.01, reg_alpha=0.1, n_estimators=30, objective=binary:logistic, max_depth=25, seed=1337, min_child_weight=10, learning_rate=0.001, subsample=0.5, colsample_bytree=1, silent=1, nthread=4 - 1.4min\n",
      "[CV] base_score=0.01, gamma=0.01, reg_alpha=0.1, n_estimators=30, objective=binary:logistic, max_depth=25, seed=1337, min_child_weight=10, learning_rate=0.001, subsample=0.3, colsample_bytree=1, silent=1, nthread=4 \n"
     ]
    },
    {
     "name": "stderr",
     "output_type": "stream",
     "text": [
      "/home/ubuntu/Virtualenvs/mateo/lib/python3.4/site-packages/sklearn/externals/joblib/hashing.py:197: DeprecationWarning: Changing the shape of non-C contiguous array by\n",
      "descriptor assignment is deprecated. To maintain\n",
      "the Fortran contiguity of a multidimensional Fortran\n",
      "array, use 'a.T.view(...).T' instead\n",
      "  obj_bytes_view = obj.view(self.np.uint8)\n",
      "/home/ubuntu/Virtualenvs/mateo/lib/python3.4/site-packages/sklearn/metrics/classification.py:1117: UndefinedMetricWarning: F-score is ill-defined and being set to 0.0 due to no predicted samples.\n",
      "  'precision', 'predicted', average, warn_for)\n"
     ]
    },
    {
     "name": "stdout",
     "output_type": "stream",
     "text": [
      "[CV]  base_score=0.01, gamma=0.01, reg_alpha=0.1, n_estimators=30, objective=binary:logistic, max_depth=25, seed=1337, min_child_weight=10, learning_rate=0.001, subsample=0.5, colsample_bytree=1, silent=1, nthread=4 - 1.4min\n",
      "[CV] base_score=0.01, gamma=0.01, reg_alpha=0.1, n_estimators=30, objective=binary:logistic, max_depth=25, seed=1337, min_child_weight=10, learning_rate=0.001, subsample=0.3, colsample_bytree=1, silent=1, nthread=4 \n"
     ]
    },
    {
     "name": "stderr",
     "output_type": "stream",
     "text": [
      "/home/ubuntu/Virtualenvs/mateo/lib/python3.4/site-packages/sklearn/externals/joblib/hashing.py:197: DeprecationWarning: Changing the shape of non-C contiguous array by\n",
      "descriptor assignment is deprecated. To maintain\n",
      "the Fortran contiguity of a multidimensional Fortran\n",
      "array, use 'a.T.view(...).T' instead\n",
      "  obj_bytes_view = obj.view(self.np.uint8)\n",
      "/home/ubuntu/Virtualenvs/mateo/lib/python3.4/site-packages/sklearn/metrics/classification.py:1117: UndefinedMetricWarning: F-score is ill-defined and being set to 0.0 due to no predicted samples.\n",
      "  'precision', 'predicted', average, warn_for)\n"
     ]
    },
    {
     "name": "stdout",
     "output_type": "stream",
     "text": [
      "[CV]  base_score=0.01, gamma=0.01, reg_alpha=0.1, n_estimators=30, objective=binary:logistic, max_depth=25, seed=1337, min_child_weight=10, learning_rate=0.001, subsample=0.5, colsample_bytree=1, silent=1, nthread=4 - 1.4min\n",
      "[CV] base_score=0.01, gamma=0.01, reg_alpha=0.1, n_estimators=30, objective=binary:logistic, max_depth=25, seed=1337, min_child_weight=10, learning_rate=0.001, subsample=0.3, colsample_bytree=1, silent=1, nthread=4 \n"
     ]
    },
    {
     "name": "stderr",
     "output_type": "stream",
     "text": [
      "/home/ubuntu/Virtualenvs/mateo/lib/python3.4/site-packages/sklearn/externals/joblib/hashing.py:197: DeprecationWarning: Changing the shape of non-C contiguous array by\n",
      "descriptor assignment is deprecated. To maintain\n",
      "the Fortran contiguity of a multidimensional Fortran\n",
      "array, use 'a.T.view(...).T' instead\n",
      "  obj_bytes_view = obj.view(self.np.uint8)\n",
      "/home/ubuntu/Virtualenvs/mateo/lib/python3.4/site-packages/sklearn/metrics/classification.py:1117: UndefinedMetricWarning: F-score is ill-defined and being set to 0.0 due to no predicted samples.\n",
      "  'precision', 'predicted', average, warn_for)\n"
     ]
    },
    {
     "name": "stdout",
     "output_type": "stream",
     "text": [
      "[CV]  base_score=0.01, gamma=0.01, reg_alpha=0.1, n_estimators=30, objective=binary:logistic, max_depth=25, seed=1337, min_child_weight=10, learning_rate=0.001, subsample=0.3, colsample_bytree=1, silent=1, nthread=4 - 1.0min\n",
      "[CV] base_score=0.01, gamma=0.01, reg_alpha=1.0, n_estimators=30, objective=binary:logistic, max_depth=25, seed=1337, min_child_weight=10, learning_rate=0.001, subsample=0.8, colsample_bytree=1, silent=1, nthread=4 \n"
     ]
    },
    {
     "name": "stderr",
     "output_type": "stream",
     "text": [
      "/home/ubuntu/Virtualenvs/mateo/lib/python3.4/site-packages/sklearn/externals/joblib/hashing.py:197: DeprecationWarning: Changing the shape of non-C contiguous array by\n",
      "descriptor assignment is deprecated. To maintain\n",
      "the Fortran contiguity of a multidimensional Fortran\n",
      "array, use 'a.T.view(...).T' instead\n",
      "  obj_bytes_view = obj.view(self.np.uint8)\n",
      "/home/ubuntu/Virtualenvs/mateo/lib/python3.4/site-packages/sklearn/metrics/classification.py:1117: UndefinedMetricWarning: F-score is ill-defined and being set to 0.0 due to no predicted samples.\n",
      "  'precision', 'predicted', average, warn_for)\n"
     ]
    },
    {
     "name": "stdout",
     "output_type": "stream",
     "text": [
      "[CV]  base_score=0.01, gamma=0.01, reg_alpha=0.1, n_estimators=30, objective=binary:logistic, max_depth=25, seed=1337, min_child_weight=10, learning_rate=0.001, subsample=0.3, colsample_bytree=1, silent=1, nthread=4 - 1.0min\n",
      "[CV] base_score=0.01, gamma=0.01, reg_alpha=1.0, n_estimators=30, objective=binary:logistic, max_depth=25, seed=1337, min_child_weight=10, learning_rate=0.001, subsample=0.8, colsample_bytree=1, silent=1, nthread=4 \n"
     ]
    },
    {
     "name": "stderr",
     "output_type": "stream",
     "text": [
      "/home/ubuntu/Virtualenvs/mateo/lib/python3.4/site-packages/sklearn/externals/joblib/hashing.py:197: DeprecationWarning: Changing the shape of non-C contiguous array by\n",
      "descriptor assignment is deprecated. To maintain\n",
      "the Fortran contiguity of a multidimensional Fortran\n",
      "array, use 'a.T.view(...).T' instead\n",
      "  obj_bytes_view = obj.view(self.np.uint8)\n",
      "/home/ubuntu/Virtualenvs/mateo/lib/python3.4/site-packages/sklearn/metrics/classification.py:1117: UndefinedMetricWarning: F-score is ill-defined and being set to 0.0 due to no predicted samples.\n",
      "  'precision', 'predicted', average, warn_for)\n"
     ]
    },
    {
     "name": "stdout",
     "output_type": "stream",
     "text": [
      "[CV]  base_score=0.01, gamma=0.01, reg_alpha=0.1, n_estimators=30, objective=binary:logistic, max_depth=25, seed=1337, min_child_weight=10, learning_rate=0.001, subsample=0.3, colsample_bytree=1, silent=1, nthread=4 - 1.0min\n",
      "[CV] base_score=0.01, gamma=0.01, reg_alpha=1.0, n_estimators=30, objective=binary:logistic, max_depth=25, seed=1337, min_child_weight=10, learning_rate=0.001, subsample=0.8, colsample_bytree=1, silent=1, nthread=4 \n"
     ]
    },
    {
     "name": "stderr",
     "output_type": "stream",
     "text": [
      "/home/ubuntu/Virtualenvs/mateo/lib/python3.4/site-packages/sklearn/externals/joblib/hashing.py:197: DeprecationWarning: Changing the shape of non-C contiguous array by\n",
      "descriptor assignment is deprecated. To maintain\n",
      "the Fortran contiguity of a multidimensional Fortran\n",
      "array, use 'a.T.view(...).T' instead\n",
      "  obj_bytes_view = obj.view(self.np.uint8)\n",
      "/home/ubuntu/Virtualenvs/mateo/lib/python3.4/site-packages/sklearn/metrics/classification.py:1117: UndefinedMetricWarning: F-score is ill-defined and being set to 0.0 due to no predicted samples.\n",
      "  'precision', 'predicted', average, warn_for)\n"
     ]
    },
    {
     "name": "stdout",
     "output_type": "stream",
     "text": [
      "[CV]  base_score=0.01, gamma=0.01, reg_alpha=1.0, n_estimators=30, objective=binary:logistic, max_depth=25, seed=1337, min_child_weight=10, learning_rate=0.001, subsample=0.8, colsample_bytree=1, silent=1, nthread=4 - 1.4min\n",
      "[CV] base_score=0.01, gamma=0.01, reg_alpha=1.0, n_estimators=30, objective=binary:logistic, max_depth=25, seed=1337, min_child_weight=10, learning_rate=0.001, subsample=0.5, colsample_bytree=1, silent=1, nthread=4 \n"
     ]
    },
    {
     "name": "stderr",
     "output_type": "stream",
     "text": [
      "/home/ubuntu/Virtualenvs/mateo/lib/python3.4/site-packages/sklearn/externals/joblib/hashing.py:197: DeprecationWarning: Changing the shape of non-C contiguous array by\n",
      "descriptor assignment is deprecated. To maintain\n",
      "the Fortran contiguity of a multidimensional Fortran\n",
      "array, use 'a.T.view(...).T' instead\n",
      "  obj_bytes_view = obj.view(self.np.uint8)\n",
      "/home/ubuntu/Virtualenvs/mateo/lib/python3.4/site-packages/sklearn/metrics/classification.py:1117: UndefinedMetricWarning: F-score is ill-defined and being set to 0.0 due to no predicted samples.\n",
      "  'precision', 'predicted', average, warn_for)\n"
     ]
    },
    {
     "name": "stdout",
     "output_type": "stream",
     "text": [
      "[CV]  base_score=0.01, gamma=0.01, reg_alpha=1.0, n_estimators=30, objective=binary:logistic, max_depth=25, seed=1337, min_child_weight=10, learning_rate=0.001, subsample=0.8, colsample_bytree=1, silent=1, nthread=4 - 1.4min\n",
      "[CV] base_score=0.01, gamma=0.01, reg_alpha=1.0, n_estimators=30, objective=binary:logistic, max_depth=25, seed=1337, min_child_weight=10, learning_rate=0.001, subsample=0.5, colsample_bytree=1, silent=1, nthread=4 \n"
     ]
    },
    {
     "name": "stderr",
     "output_type": "stream",
     "text": [
      "/home/ubuntu/Virtualenvs/mateo/lib/python3.4/site-packages/sklearn/externals/joblib/hashing.py:197: DeprecationWarning: Changing the shape of non-C contiguous array by\n",
      "descriptor assignment is deprecated. To maintain\n",
      "the Fortran contiguity of a multidimensional Fortran\n",
      "array, use 'a.T.view(...).T' instead\n",
      "  obj_bytes_view = obj.view(self.np.uint8)\n",
      "/home/ubuntu/Virtualenvs/mateo/lib/python3.4/site-packages/sklearn/metrics/classification.py:1117: UndefinedMetricWarning: F-score is ill-defined and being set to 0.0 due to no predicted samples.\n",
      "  'precision', 'predicted', average, warn_for)\n"
     ]
    },
    {
     "name": "stdout",
     "output_type": "stream",
     "text": [
      "[CV]  base_score=0.01, gamma=0.01, reg_alpha=1.0, n_estimators=30, objective=binary:logistic, max_depth=25, seed=1337, min_child_weight=10, learning_rate=0.001, subsample=0.8, colsample_bytree=1, silent=1, nthread=4 - 1.4min\n",
      "[CV] base_score=0.01, gamma=0.01, reg_alpha=1.0, n_estimators=30, objective=binary:logistic, max_depth=25, seed=1337, min_child_weight=10, learning_rate=0.001, subsample=0.5, colsample_bytree=1, silent=1, nthread=4 \n"
     ]
    },
    {
     "name": "stderr",
     "output_type": "stream",
     "text": [
      "/home/ubuntu/Virtualenvs/mateo/lib/python3.4/site-packages/sklearn/externals/joblib/hashing.py:197: DeprecationWarning: Changing the shape of non-C contiguous array by\n",
      "descriptor assignment is deprecated. To maintain\n",
      "the Fortran contiguity of a multidimensional Fortran\n",
      "array, use 'a.T.view(...).T' instead\n",
      "  obj_bytes_view = obj.view(self.np.uint8)\n",
      "/home/ubuntu/Virtualenvs/mateo/lib/python3.4/site-packages/sklearn/metrics/classification.py:1117: UndefinedMetricWarning: F-score is ill-defined and being set to 0.0 due to no predicted samples.\n",
      "  'precision', 'predicted', average, warn_for)\n"
     ]
    },
    {
     "name": "stdout",
     "output_type": "stream",
     "text": [
      "[CV]  base_score=0.01, gamma=0.01, reg_alpha=1.0, n_estimators=30, objective=binary:logistic, max_depth=25, seed=1337, min_child_weight=10, learning_rate=0.001, subsample=0.5, colsample_bytree=1, silent=1, nthread=4 - 1.4min\n",
      "[CV] base_score=0.01, gamma=0.01, reg_alpha=1.0, n_estimators=30, objective=binary:logistic, max_depth=25, seed=1337, min_child_weight=10, learning_rate=0.001, subsample=0.3, colsample_bytree=1, silent=1, nthread=4 \n"
     ]
    },
    {
     "name": "stderr",
     "output_type": "stream",
     "text": [
      "/home/ubuntu/Virtualenvs/mateo/lib/python3.4/site-packages/sklearn/externals/joblib/hashing.py:197: DeprecationWarning: Changing the shape of non-C contiguous array by\n",
      "descriptor assignment is deprecated. To maintain\n",
      "the Fortran contiguity of a multidimensional Fortran\n",
      "array, use 'a.T.view(...).T' instead\n",
      "  obj_bytes_view = obj.view(self.np.uint8)\n",
      "/home/ubuntu/Virtualenvs/mateo/lib/python3.4/site-packages/sklearn/metrics/classification.py:1117: UndefinedMetricWarning: F-score is ill-defined and being set to 0.0 due to no predicted samples.\n",
      "  'precision', 'predicted', average, warn_for)\n"
     ]
    },
    {
     "name": "stdout",
     "output_type": "stream",
     "text": [
      "[CV]  base_score=0.01, gamma=0.01, reg_alpha=1.0, n_estimators=30, objective=binary:logistic, max_depth=25, seed=1337, min_child_weight=10, learning_rate=0.001, subsample=0.5, colsample_bytree=1, silent=1, nthread=4 - 1.5min\n",
      "[CV] base_score=0.01, gamma=0.01, reg_alpha=1.0, n_estimators=30, objective=binary:logistic, max_depth=25, seed=1337, min_child_weight=10, learning_rate=0.001, subsample=0.3, colsample_bytree=1, silent=1, nthread=4 \n"
     ]
    },
    {
     "name": "stderr",
     "output_type": "stream",
     "text": [
      "/home/ubuntu/Virtualenvs/mateo/lib/python3.4/site-packages/sklearn/externals/joblib/hashing.py:197: DeprecationWarning: Changing the shape of non-C contiguous array by\n",
      "descriptor assignment is deprecated. To maintain\n",
      "the Fortran contiguity of a multidimensional Fortran\n",
      "array, use 'a.T.view(...).T' instead\n",
      "  obj_bytes_view = obj.view(self.np.uint8)\n",
      "/home/ubuntu/Virtualenvs/mateo/lib/python3.4/site-packages/sklearn/metrics/classification.py:1117: UndefinedMetricWarning: F-score is ill-defined and being set to 0.0 due to no predicted samples.\n",
      "  'precision', 'predicted', average, warn_for)\n"
     ]
    },
    {
     "name": "stdout",
     "output_type": "stream",
     "text": [
      "[CV]  base_score=0.01, gamma=0.01, reg_alpha=1.0, n_estimators=30, objective=binary:logistic, max_depth=25, seed=1337, min_child_weight=10, learning_rate=0.001, subsample=0.5, colsample_bytree=1, silent=1, nthread=4 - 1.4min\n",
      "[CV] base_score=0.01, gamma=0.01, reg_alpha=1.0, n_estimators=30, objective=binary:logistic, max_depth=25, seed=1337, min_child_weight=10, learning_rate=0.001, subsample=0.3, colsample_bytree=1, silent=1, nthread=4 \n"
     ]
    },
    {
     "name": "stderr",
     "output_type": "stream",
     "text": [
      "/home/ubuntu/Virtualenvs/mateo/lib/python3.4/site-packages/sklearn/externals/joblib/hashing.py:197: DeprecationWarning: Changing the shape of non-C contiguous array by\n",
      "descriptor assignment is deprecated. To maintain\n",
      "the Fortran contiguity of a multidimensional Fortran\n",
      "array, use 'a.T.view(...).T' instead\n",
      "  obj_bytes_view = obj.view(self.np.uint8)\n",
      "/home/ubuntu/Virtualenvs/mateo/lib/python3.4/site-packages/sklearn/metrics/classification.py:1117: UndefinedMetricWarning: F-score is ill-defined and being set to 0.0 due to no predicted samples.\n",
      "  'precision', 'predicted', average, warn_for)\n"
     ]
    },
    {
     "name": "stdout",
     "output_type": "stream",
     "text": [
      "[CV]  base_score=0.01, gamma=0.01, reg_alpha=1.0, n_estimators=30, objective=binary:logistic, max_depth=25, seed=1337, min_child_weight=10, learning_rate=0.001, subsample=0.3, colsample_bytree=1, silent=1, nthread=4 - 1.0min\n",
      "[CV] base_score=0.01, gamma=0.01, reg_alpha=0.01, n_estimators=15, objective=binary:logistic, max_depth=25, seed=1337, min_child_weight=5, learning_rate=0.001, subsample=0.8, colsample_bytree=1, silent=1, nthread=4 \n"
     ]
    },
    {
     "name": "stderr",
     "output_type": "stream",
     "text": [
      "/home/ubuntu/Virtualenvs/mateo/lib/python3.4/site-packages/sklearn/externals/joblib/hashing.py:197: DeprecationWarning: Changing the shape of non-C contiguous array by\n",
      "descriptor assignment is deprecated. To maintain\n",
      "the Fortran contiguity of a multidimensional Fortran\n",
      "array, use 'a.T.view(...).T' instead\n",
      "  obj_bytes_view = obj.view(self.np.uint8)\n",
      "/home/ubuntu/Virtualenvs/mateo/lib/python3.4/site-packages/sklearn/metrics/classification.py:1117: UndefinedMetricWarning: F-score is ill-defined and being set to 0.0 due to no predicted samples.\n",
      "  'precision', 'predicted', average, warn_for)\n"
     ]
    },
    {
     "name": "stdout",
     "output_type": "stream",
     "text": [
      "[CV]  base_score=0.01, gamma=0.01, reg_alpha=1.0, n_estimators=30, objective=binary:logistic, max_depth=25, seed=1337, min_child_weight=10, learning_rate=0.001, subsample=0.3, colsample_bytree=1, silent=1, nthread=4 - 1.0min\n",
      "[CV] base_score=0.01, gamma=0.01, reg_alpha=0.01, n_estimators=15, objective=binary:logistic, max_depth=25, seed=1337, min_child_weight=5, learning_rate=0.001, subsample=0.8, colsample_bytree=1, silent=1, nthread=4 \n"
     ]
    },
    {
     "name": "stderr",
     "output_type": "stream",
     "text": [
      "/home/ubuntu/Virtualenvs/mateo/lib/python3.4/site-packages/sklearn/externals/joblib/hashing.py:197: DeprecationWarning: Changing the shape of non-C contiguous array by\n",
      "descriptor assignment is deprecated. To maintain\n",
      "the Fortran contiguity of a multidimensional Fortran\n",
      "array, use 'a.T.view(...).T' instead\n",
      "  obj_bytes_view = obj.view(self.np.uint8)\n",
      "/home/ubuntu/Virtualenvs/mateo/lib/python3.4/site-packages/sklearn/metrics/classification.py:1117: UndefinedMetricWarning: F-score is ill-defined and being set to 0.0 due to no predicted samples.\n",
      "  'precision', 'predicted', average, warn_for)\n"
     ]
    },
    {
     "name": "stdout",
     "output_type": "stream",
     "text": [
      "[CV]  base_score=0.01, gamma=0.01, reg_alpha=1.0, n_estimators=30, objective=binary:logistic, max_depth=25, seed=1337, min_child_weight=10, learning_rate=0.001, subsample=0.3, colsample_bytree=1, silent=1, nthread=4 - 1.0min\n",
      "[CV] base_score=0.01, gamma=0.01, reg_alpha=0.01, n_estimators=15, objective=binary:logistic, max_depth=25, seed=1337, min_child_weight=5, learning_rate=0.001, subsample=0.8, colsample_bytree=1, silent=1, nthread=4 \n"
     ]
    },
    {
     "name": "stderr",
     "output_type": "stream",
     "text": [
      "/home/ubuntu/Virtualenvs/mateo/lib/python3.4/site-packages/sklearn/externals/joblib/hashing.py:197: DeprecationWarning: Changing the shape of non-C contiguous array by\n",
      "descriptor assignment is deprecated. To maintain\n",
      "the Fortran contiguity of a multidimensional Fortran\n",
      "array, use 'a.T.view(...).T' instead\n",
      "  obj_bytes_view = obj.view(self.np.uint8)\n",
      "/home/ubuntu/Virtualenvs/mateo/lib/python3.4/site-packages/sklearn/metrics/classification.py:1117: UndefinedMetricWarning: F-score is ill-defined and being set to 0.0 due to no predicted samples.\n",
      "  'precision', 'predicted', average, warn_for)\n"
     ]
    },
    {
     "name": "stdout",
     "output_type": "stream",
     "text": [
      "[CV]  base_score=0.01, gamma=0.01, reg_alpha=0.01, n_estimators=15, objective=binary:logistic, max_depth=25, seed=1337, min_child_weight=5, learning_rate=0.001, subsample=0.8, colsample_bytree=1, silent=1, nthread=4 -  56.9s\n",
      "[CV] base_score=0.01, gamma=0.01, reg_alpha=0.01, n_estimators=15, objective=binary:logistic, max_depth=25, seed=1337, min_child_weight=5, learning_rate=0.001, subsample=0.5, colsample_bytree=1, silent=1, nthread=4 \n"
     ]
    },
    {
     "name": "stderr",
     "output_type": "stream",
     "text": [
      "/home/ubuntu/Virtualenvs/mateo/lib/python3.4/site-packages/sklearn/externals/joblib/hashing.py:197: DeprecationWarning: Changing the shape of non-C contiguous array by\n",
      "descriptor assignment is deprecated. To maintain\n",
      "the Fortran contiguity of a multidimensional Fortran\n",
      "array, use 'a.T.view(...).T' instead\n",
      "  obj_bytes_view = obj.view(self.np.uint8)\n",
      "/home/ubuntu/Virtualenvs/mateo/lib/python3.4/site-packages/sklearn/metrics/classification.py:1117: UndefinedMetricWarning: F-score is ill-defined and being set to 0.0 due to no predicted samples.\n",
      "  'precision', 'predicted', average, warn_for)\n"
     ]
    },
    {
     "name": "stdout",
     "output_type": "stream",
     "text": [
      "[CV]  base_score=0.01, gamma=0.01, reg_alpha=0.01, n_estimators=15, objective=binary:logistic, max_depth=25, seed=1337, min_child_weight=5, learning_rate=0.001, subsample=0.8, colsample_bytree=1, silent=1, nthread=4 -  55.1s\n",
      "[CV] base_score=0.01, gamma=0.01, reg_alpha=0.01, n_estimators=15, objective=binary:logistic, max_depth=25, seed=1337, min_child_weight=5, learning_rate=0.001, subsample=0.5, colsample_bytree=1, silent=1, nthread=4 \n"
     ]
    },
    {
     "name": "stderr",
     "output_type": "stream",
     "text": [
      "/home/ubuntu/Virtualenvs/mateo/lib/python3.4/site-packages/sklearn/externals/joblib/hashing.py:197: DeprecationWarning: Changing the shape of non-C contiguous array by\n",
      "descriptor assignment is deprecated. To maintain\n",
      "the Fortran contiguity of a multidimensional Fortran\n",
      "array, use 'a.T.view(...).T' instead\n",
      "  obj_bytes_view = obj.view(self.np.uint8)\n",
      "/home/ubuntu/Virtualenvs/mateo/lib/python3.4/site-packages/sklearn/metrics/classification.py:1117: UndefinedMetricWarning: F-score is ill-defined and being set to 0.0 due to no predicted samples.\n",
      "  'precision', 'predicted', average, warn_for)\n"
     ]
    },
    {
     "name": "stdout",
     "output_type": "stream",
     "text": [
      "[CV]  base_score=0.01, gamma=0.01, reg_alpha=0.01, n_estimators=15, objective=binary:logistic, max_depth=25, seed=1337, min_child_weight=5, learning_rate=0.001, subsample=0.8, colsample_bytree=1, silent=1, nthread=4 -  54.6s\n",
      "[CV] base_score=0.01, gamma=0.01, reg_alpha=0.01, n_estimators=15, objective=binary:logistic, max_depth=25, seed=1337, min_child_weight=5, learning_rate=0.001, subsample=0.5, colsample_bytree=1, silent=1, nthread=4 \n"
     ]
    },
    {
     "name": "stderr",
     "output_type": "stream",
     "text": [
      "/home/ubuntu/Virtualenvs/mateo/lib/python3.4/site-packages/sklearn/externals/joblib/hashing.py:197: DeprecationWarning: Changing the shape of non-C contiguous array by\n",
      "descriptor assignment is deprecated. To maintain\n",
      "the Fortran contiguity of a multidimensional Fortran\n",
      "array, use 'a.T.view(...).T' instead\n",
      "  obj_bytes_view = obj.view(self.np.uint8)\n",
      "/home/ubuntu/Virtualenvs/mateo/lib/python3.4/site-packages/sklearn/metrics/classification.py:1117: UndefinedMetricWarning: F-score is ill-defined and being set to 0.0 due to no predicted samples.\n",
      "  'precision', 'predicted', average, warn_for)\n"
     ]
    },
    {
     "name": "stdout",
     "output_type": "stream",
     "text": [
      "[CV]  base_score=0.01, gamma=0.01, reg_alpha=0.01, n_estimators=15, objective=binary:logistic, max_depth=25, seed=1337, min_child_weight=5, learning_rate=0.001, subsample=0.5, colsample_bytree=1, silent=1, nthread=4 - 1.1min\n",
      "[CV] base_score=0.01, gamma=0.01, reg_alpha=0.01, n_estimators=15, objective=binary:logistic, max_depth=25, seed=1337, min_child_weight=5, learning_rate=0.001, subsample=0.3, colsample_bytree=1, silent=1, nthread=4 \n"
     ]
    },
    {
     "name": "stderr",
     "output_type": "stream",
     "text": [
      "/home/ubuntu/Virtualenvs/mateo/lib/python3.4/site-packages/sklearn/externals/joblib/hashing.py:197: DeprecationWarning: Changing the shape of non-C contiguous array by\n",
      "descriptor assignment is deprecated. To maintain\n",
      "the Fortran contiguity of a multidimensional Fortran\n",
      "array, use 'a.T.view(...).T' instead\n",
      "  obj_bytes_view = obj.view(self.np.uint8)\n"
     ]
    },
    {
     "ename": "KeyboardInterrupt",
     "evalue": "",
     "output_type": "error",
     "traceback": [
      "\u001b[1;31m---------------------------------------------------------------------------\u001b[0m",
      "\u001b[1;31mKeyboardInterrupt\u001b[0m                         Traceback (most recent call last)",
      "\u001b[1;32m<ipython-input-51-a450b658a0ab>\u001b[0m in \u001b[0;36m<module>\u001b[1;34m()\u001b[0m\n\u001b[0;32m      7\u001b[0m                    verbose=2, refit=True)\n\u001b[0;32m      8\u001b[0m \u001b[1;33m\u001b[0m\u001b[0m\n\u001b[1;32m----> 9\u001b[1;33m \u001b[0mclf\u001b[0m\u001b[1;33m.\u001b[0m\u001b[0mfit\u001b[0m\u001b[1;33m(\u001b[0m\u001b[0mX_train\u001b[0m\u001b[1;33m,\u001b[0m \u001b[0my_train\u001b[0m\u001b[1;33m)\u001b[0m\u001b[1;33m\u001b[0m\u001b[0m\n\u001b[0m\u001b[0;32m     10\u001b[0m \u001b[1;33m\u001b[0m\u001b[0m\n\u001b[0;32m     11\u001b[0m \u001b[1;31m#trust your CV!\u001b[0m\u001b[1;33m\u001b[0m\u001b[1;33m\u001b[0m\u001b[0m\n",
      "\u001b[1;32m/home/ubuntu/Virtualenvs/mateo/lib/python3.4/site-packages/sklearn/grid_search.py\u001b[0m in \u001b[0;36mfit\u001b[1;34m(self, X, y)\u001b[0m\n\u001b[0;32m    809\u001b[0m \u001b[1;33m\u001b[0m\u001b[0m\n\u001b[0;32m    810\u001b[0m         \"\"\"\n\u001b[1;32m--> 811\u001b[1;33m         \u001b[1;32mreturn\u001b[0m \u001b[0mself\u001b[0m\u001b[1;33m.\u001b[0m\u001b[0m_fit\u001b[0m\u001b[1;33m(\u001b[0m\u001b[0mX\u001b[0m\u001b[1;33m,\u001b[0m \u001b[0my\u001b[0m\u001b[1;33m,\u001b[0m \u001b[0mParameterGrid\u001b[0m\u001b[1;33m(\u001b[0m\u001b[0mself\u001b[0m\u001b[1;33m.\u001b[0m\u001b[0mparam_grid\u001b[0m\u001b[1;33m)\u001b[0m\u001b[1;33m)\u001b[0m\u001b[1;33m\u001b[0m\u001b[0m\n\u001b[0m\u001b[0;32m    812\u001b[0m \u001b[1;33m\u001b[0m\u001b[0m\n\u001b[0;32m    813\u001b[0m \u001b[1;33m\u001b[0m\u001b[0m\n",
      "\u001b[1;32m/home/ubuntu/Virtualenvs/mateo/lib/python3.4/site-packages/sklearn/grid_search.py\u001b[0m in \u001b[0;36m_fit\u001b[1;34m(self, X, y, parameter_iterable)\u001b[0m\n\u001b[0;32m    558\u001b[0m                                     \u001b[0mself\u001b[0m\u001b[1;33m.\u001b[0m\u001b[0mfit_params\u001b[0m\u001b[1;33m,\u001b[0m \u001b[0mreturn_parameters\u001b[0m\u001b[1;33m=\u001b[0m\u001b[1;32mTrue\u001b[0m\u001b[1;33m,\u001b[0m\u001b[1;33m\u001b[0m\u001b[0m\n\u001b[0;32m    559\u001b[0m                                     error_score=self.error_score)\n\u001b[1;32m--> 560\u001b[1;33m                 \u001b[1;32mfor\u001b[0m \u001b[0mparameters\u001b[0m \u001b[1;32min\u001b[0m \u001b[0mparameter_iterable\u001b[0m\u001b[1;33m\u001b[0m\u001b[0m\n\u001b[0m\u001b[0;32m    561\u001b[0m                 for train, test in cv)\n\u001b[0;32m    562\u001b[0m \u001b[1;33m\u001b[0m\u001b[0m\n",
      "\u001b[1;32m/home/ubuntu/Virtualenvs/mateo/lib/python3.4/site-packages/sklearn/externals/joblib/parallel.py\u001b[0m in \u001b[0;36m__call__\u001b[1;34m(self, iterable)\u001b[0m\n\u001b[0;32m    808\u001b[0m                 \u001b[1;31m# consumption.\u001b[0m\u001b[1;33m\u001b[0m\u001b[1;33m\u001b[0m\u001b[0m\n\u001b[0;32m    809\u001b[0m                 \u001b[0mself\u001b[0m\u001b[1;33m.\u001b[0m\u001b[0m_iterating\u001b[0m \u001b[1;33m=\u001b[0m \u001b[1;32mFalse\u001b[0m\u001b[1;33m\u001b[0m\u001b[0m\n\u001b[1;32m--> 810\u001b[1;33m             \u001b[0mself\u001b[0m\u001b[1;33m.\u001b[0m\u001b[0mretrieve\u001b[0m\u001b[1;33m(\u001b[0m\u001b[1;33m)\u001b[0m\u001b[1;33m\u001b[0m\u001b[0m\n\u001b[0m\u001b[0;32m    811\u001b[0m             \u001b[1;31m# Make sure that we get a last message telling us we are done\u001b[0m\u001b[1;33m\u001b[0m\u001b[1;33m\u001b[0m\u001b[0m\n\u001b[0;32m    812\u001b[0m             \u001b[0melapsed_time\u001b[0m \u001b[1;33m=\u001b[0m \u001b[0mtime\u001b[0m\u001b[1;33m.\u001b[0m\u001b[0mtime\u001b[0m\u001b[1;33m(\u001b[0m\u001b[1;33m)\u001b[0m \u001b[1;33m-\u001b[0m \u001b[0mself\u001b[0m\u001b[1;33m.\u001b[0m\u001b[0m_start_time\u001b[0m\u001b[1;33m\u001b[0m\u001b[0m\n",
      "\u001b[1;32m/home/ubuntu/Virtualenvs/mateo/lib/python3.4/site-packages/sklearn/externals/joblib/parallel.py\u001b[0m in \u001b[0;36mretrieve\u001b[1;34m(self)\u001b[0m\n\u001b[0;32m    755\u001b[0m                     \u001b[1;31m# a working pool as they expect.\u001b[0m\u001b[1;33m\u001b[0m\u001b[1;33m\u001b[0m\u001b[0m\n\u001b[0;32m    756\u001b[0m                     \u001b[0mself\u001b[0m\u001b[1;33m.\u001b[0m\u001b[0m_initialize_pool\u001b[0m\u001b[1;33m(\u001b[0m\u001b[1;33m)\u001b[0m\u001b[1;33m\u001b[0m\u001b[0m\n\u001b[1;32m--> 757\u001b[1;33m                 \u001b[1;32mraise\u001b[0m \u001b[0mexception\u001b[0m\u001b[1;33m\u001b[0m\u001b[0m\n\u001b[0m\u001b[0;32m    758\u001b[0m \u001b[1;33m\u001b[0m\u001b[0m\n\u001b[0;32m    759\u001b[0m     \u001b[1;32mdef\u001b[0m \u001b[0m__call__\u001b[0m\u001b[1;33m(\u001b[0m\u001b[0mself\u001b[0m\u001b[1;33m,\u001b[0m \u001b[0miterable\u001b[0m\u001b[1;33m)\u001b[0m\u001b[1;33m:\u001b[0m\u001b[1;33m\u001b[0m\u001b[0m\n",
      "\u001b[1;32m/home/ubuntu/Virtualenvs/mateo/lib/python3.4/site-packages/sklearn/externals/joblib/parallel.py\u001b[0m in \u001b[0;36mretrieve\u001b[1;34m(self)\u001b[0m\n\u001b[0;32m    725\u001b[0m                 \u001b[0mjob\u001b[0m \u001b[1;33m=\u001b[0m \u001b[0mself\u001b[0m\u001b[1;33m.\u001b[0m\u001b[0m_jobs\u001b[0m\u001b[1;33m.\u001b[0m\u001b[0mpop\u001b[0m\u001b[1;33m(\u001b[0m\u001b[1;36m0\u001b[0m\u001b[1;33m)\u001b[0m\u001b[1;33m\u001b[0m\u001b[0m\n\u001b[0;32m    726\u001b[0m             \u001b[1;32mtry\u001b[0m\u001b[1;33m:\u001b[0m\u001b[1;33m\u001b[0m\u001b[0m\n\u001b[1;32m--> 727\u001b[1;33m                 \u001b[0mself\u001b[0m\u001b[1;33m.\u001b[0m\u001b[0m_output\u001b[0m\u001b[1;33m.\u001b[0m\u001b[0mextend\u001b[0m\u001b[1;33m(\u001b[0m\u001b[0mjob\u001b[0m\u001b[1;33m.\u001b[0m\u001b[0mget\u001b[0m\u001b[1;33m(\u001b[0m\u001b[1;33m)\u001b[0m\u001b[1;33m)\u001b[0m\u001b[1;33m\u001b[0m\u001b[0m\n\u001b[0m\u001b[0;32m    728\u001b[0m             \u001b[1;32mexcept\u001b[0m \u001b[0mtuple\u001b[0m\u001b[1;33m(\u001b[0m\u001b[0mself\u001b[0m\u001b[1;33m.\u001b[0m\u001b[0mexceptions\u001b[0m\u001b[1;33m)\u001b[0m \u001b[1;32mas\u001b[0m \u001b[0mexception\u001b[0m\u001b[1;33m:\u001b[0m\u001b[1;33m\u001b[0m\u001b[0m\n\u001b[0;32m    729\u001b[0m                 \u001b[1;31m# Stop dispatching any new job in the async callback thread\u001b[0m\u001b[1;33m\u001b[0m\u001b[1;33m\u001b[0m\u001b[0m\n",
      "\u001b[1;32m/usr/lib/python3.4/multiprocessing/pool.py\u001b[0m in \u001b[0;36mget\u001b[1;34m(self, timeout)\u001b[0m\n\u001b[0;32m    591\u001b[0m \u001b[1;33m\u001b[0m\u001b[0m\n\u001b[0;32m    592\u001b[0m     \u001b[1;32mdef\u001b[0m \u001b[0mget\u001b[0m\u001b[1;33m(\u001b[0m\u001b[0mself\u001b[0m\u001b[1;33m,\u001b[0m \u001b[0mtimeout\u001b[0m\u001b[1;33m=\u001b[0m\u001b[1;32mNone\u001b[0m\u001b[1;33m)\u001b[0m\u001b[1;33m:\u001b[0m\u001b[1;33m\u001b[0m\u001b[0m\n\u001b[1;32m--> 593\u001b[1;33m         \u001b[0mself\u001b[0m\u001b[1;33m.\u001b[0m\u001b[0mwait\u001b[0m\u001b[1;33m(\u001b[0m\u001b[0mtimeout\u001b[0m\u001b[1;33m)\u001b[0m\u001b[1;33m\u001b[0m\u001b[0m\n\u001b[0m\u001b[0;32m    594\u001b[0m         \u001b[1;32mif\u001b[0m \u001b[1;32mnot\u001b[0m \u001b[0mself\u001b[0m\u001b[1;33m.\u001b[0m\u001b[0mready\u001b[0m\u001b[1;33m(\u001b[0m\u001b[1;33m)\u001b[0m\u001b[1;33m:\u001b[0m\u001b[1;33m\u001b[0m\u001b[0m\n\u001b[0;32m    595\u001b[0m             \u001b[1;32mraise\u001b[0m \u001b[0mTimeoutError\u001b[0m\u001b[1;33m\u001b[0m\u001b[0m\n",
      "\u001b[1;32m/usr/lib/python3.4/multiprocessing/pool.py\u001b[0m in \u001b[0;36mwait\u001b[1;34m(self, timeout)\u001b[0m\n\u001b[0;32m    588\u001b[0m \u001b[1;33m\u001b[0m\u001b[0m\n\u001b[0;32m    589\u001b[0m     \u001b[1;32mdef\u001b[0m \u001b[0mwait\u001b[0m\u001b[1;33m(\u001b[0m\u001b[0mself\u001b[0m\u001b[1;33m,\u001b[0m \u001b[0mtimeout\u001b[0m\u001b[1;33m=\u001b[0m\u001b[1;32mNone\u001b[0m\u001b[1;33m)\u001b[0m\u001b[1;33m:\u001b[0m\u001b[1;33m\u001b[0m\u001b[0m\n\u001b[1;32m--> 590\u001b[1;33m         \u001b[0mself\u001b[0m\u001b[1;33m.\u001b[0m\u001b[0m_event\u001b[0m\u001b[1;33m.\u001b[0m\u001b[0mwait\u001b[0m\u001b[1;33m(\u001b[0m\u001b[0mtimeout\u001b[0m\u001b[1;33m)\u001b[0m\u001b[1;33m\u001b[0m\u001b[0m\n\u001b[0m\u001b[0;32m    591\u001b[0m \u001b[1;33m\u001b[0m\u001b[0m\n\u001b[0;32m    592\u001b[0m     \u001b[1;32mdef\u001b[0m \u001b[0mget\u001b[0m\u001b[1;33m(\u001b[0m\u001b[0mself\u001b[0m\u001b[1;33m,\u001b[0m \u001b[0mtimeout\u001b[0m\u001b[1;33m=\u001b[0m\u001b[1;32mNone\u001b[0m\u001b[1;33m)\u001b[0m\u001b[1;33m:\u001b[0m\u001b[1;33m\u001b[0m\u001b[0m\n",
      "\u001b[1;32m/usr/lib/python3.4/threading.py\u001b[0m in \u001b[0;36mwait\u001b[1;34m(self, timeout)\u001b[0m\n\u001b[0;32m    551\u001b[0m             \u001b[0msignaled\u001b[0m \u001b[1;33m=\u001b[0m \u001b[0mself\u001b[0m\u001b[1;33m.\u001b[0m\u001b[0m_flag\u001b[0m\u001b[1;33m\u001b[0m\u001b[0m\n\u001b[0;32m    552\u001b[0m             \u001b[1;32mif\u001b[0m \u001b[1;32mnot\u001b[0m \u001b[0msignaled\u001b[0m\u001b[1;33m:\u001b[0m\u001b[1;33m\u001b[0m\u001b[0m\n\u001b[1;32m--> 553\u001b[1;33m                 \u001b[0msignaled\u001b[0m \u001b[1;33m=\u001b[0m \u001b[0mself\u001b[0m\u001b[1;33m.\u001b[0m\u001b[0m_cond\u001b[0m\u001b[1;33m.\u001b[0m\u001b[0mwait\u001b[0m\u001b[1;33m(\u001b[0m\u001b[0mtimeout\u001b[0m\u001b[1;33m)\u001b[0m\u001b[1;33m\u001b[0m\u001b[0m\n\u001b[0m\u001b[0;32m    554\u001b[0m             \u001b[1;32mreturn\u001b[0m \u001b[0msignaled\u001b[0m\u001b[1;33m\u001b[0m\u001b[0m\n\u001b[0;32m    555\u001b[0m         \u001b[1;32mfinally\u001b[0m\u001b[1;33m:\u001b[0m\u001b[1;33m\u001b[0m\u001b[0m\n",
      "\u001b[1;32m/usr/lib/python3.4/threading.py\u001b[0m in \u001b[0;36mwait\u001b[1;34m(self, timeout)\u001b[0m\n\u001b[0;32m    288\u001b[0m         \u001b[1;32mtry\u001b[0m\u001b[1;33m:\u001b[0m    \u001b[1;31m# restore state no matter what (e.g., KeyboardInterrupt)\u001b[0m\u001b[1;33m\u001b[0m\u001b[0m\n\u001b[0;32m    289\u001b[0m             \u001b[1;32mif\u001b[0m \u001b[0mtimeout\u001b[0m \u001b[1;32mis\u001b[0m \u001b[1;32mNone\u001b[0m\u001b[1;33m:\u001b[0m\u001b[1;33m\u001b[0m\u001b[0m\n\u001b[1;32m--> 290\u001b[1;33m                 \u001b[0mwaiter\u001b[0m\u001b[1;33m.\u001b[0m\u001b[0macquire\u001b[0m\u001b[1;33m(\u001b[0m\u001b[1;33m)\u001b[0m\u001b[1;33m\u001b[0m\u001b[0m\n\u001b[0m\u001b[0;32m    291\u001b[0m                 \u001b[0mgotit\u001b[0m \u001b[1;33m=\u001b[0m \u001b[1;32mTrue\u001b[0m\u001b[1;33m\u001b[0m\u001b[0m\n\u001b[0;32m    292\u001b[0m             \u001b[1;32melse\u001b[0m\u001b[1;33m:\u001b[0m\u001b[1;33m\u001b[0m\u001b[0m\n",
      "\u001b[1;31mKeyboardInterrupt\u001b[0m: "
     ]
    }
   ],
   "source": [
    "start_time = time.time()\n",
    "\n",
    "xgb_model = xgb.XGBClassifier()\n",
    "\n",
    "clf = GridSearchCV(xgb_model, parameters, n_jobs=3, \n",
    "                   scoring='f1',\n",
    "                   verbose=2, refit=True)\n",
    "\n",
    "clf.fit(X_train, y_train)\n",
    "\n",
    "#trust your CV!\n",
    "best_parameters, score, _ = max(clf.grid_scores_, key=lambda x: x[1])\n",
    "print('Raw AUC score:', score)\n",
    "for param_name in sorted(best_parameters.keys()):\n",
    "    print(\"%s: %r\" % (param_name, best_parameters[param_name]))\n",
    "\n",
    "test_probs = clf.predict_proba(test[features])[:,1]\n",
    "\n",
    "#sample = pd.read_csv('../input/sample_submission.csv')\n",
    "#sample.QuoteConversion_Flag = test_probs\n",
    "#sample.to_csv(\"xgboost_best_parameter_submission.csv\", index=False)\n",
    "\n",
    "all_time =   time.time() - start_time \n",
    "print('This cell took %s seconds to run' % all_time)"
   ]
  },
  {
   "cell_type": "markdown",
   "metadata": {},
   "source": [
    "## Timings\n",
    "Ahora si"
   ]
  },
  {
   "cell_type": "code",
   "execution_count": null,
   "metadata": {
    "collapsed": true
   },
   "outputs": [],
   "source": [
    "parameters = {'nthread':[4], #when use hyperthread, xgboost may become slower\n",
    "              'objective':['binary:logistic'],\n",
    "              'learning_rate': [0.05, 0.04, 1e-2,0.1,0.5], #so called `eta` value\n",
    "              'max_depth': [4,5,6],\n",
    "              'min_child_weight': [2,3,1],\n",
    "              'silent': [1],\n",
    "              'subsample': [0.75],\n",
    "              'colsample_bytree': [0.7],\n",
    "              'n_estimators': [30,50,80], #number of trees, change it to 1000 for better results\n",
    "              #'missing':[-999],\n",
    "              'seed': [42]}\n"
   ]
  },
  {
   "cell_type": "code",
   "execution_count": 62,
   "metadata": {
    "collapsed": false
   },
   "outputs": [
    {
     "name": "stdout",
     "output_type": "stream",
     "text": [
      "             precision    recall  f1-score   support\n",
      "\n",
      "          0       0.95      1.00      0.97     32223\n",
      "          1       0.38      0.00      0.00      1772\n",
      "\n",
      "avg / total       0.92      0.95      0.92     33995\n",
      "\n"
     ]
    }
   ],
   "source": [
    "predictions =  clf.predict(test[features])\n",
    "expected = test['ground_truth'].values\n",
    "print(classification_report(expected, predictions))"
   ]
  },
  {
   "cell_type": "code",
   "execution_count": 88,
   "metadata": {
    "collapsed": false
   },
   "outputs": [],
   "source": [
    "predicted_proba = pd.DataFrame()\n",
    "predicted_proba['prob'] = clf.predict_proba(test[features])[:,1]\n",
    "predicted_proba['gt'] = test['ground_truth'].values\n",
    "predicted_proba['class'] = clf.predict(test[features])\n",
    "\n",
    "threshold = 1e-1\n",
    "ind = predicted_proba['prob']>threshold\n",
    "print(classification_report(predicted_proba.loc[ind,'gt'].values,predicted_proba.loc[ind,'class'].values ))"
   ]
  },
  {
   "cell_type": "code",
   "execution_count": 91,
   "metadata": {
    "collapsed": true
   },
   "outputs": [],
   "source": [
    "cv_result = pd.DataFrame(columns=['mean_score' ] + [key for key, value in clf.grid_scores_[0].parameters.items() ] )\n",
    "i=0\n",
    "for setup in clf.grid_scores_:\n",
    "    row = [clf.grid_scores_[i].mean_validation_score ] + [value for key, value in clf.grid_scores_[i].parameters.items() ]\n",
    "    cv_result.loc[i] = row\n",
    "    i+=1"
   ]
  },
  {
   "cell_type": "code",
   "execution_count": 92,
   "metadata": {
    "collapsed": false,
    "scrolled": true
   },
   "outputs": [
    {
     "data": {
      "text/html": [
       "<div>\n",
       "<table border=\"1\" class=\"dataframe\">\n",
       "  <thead>\n",
       "    <tr style=\"text-align: right;\">\n",
       "      <th></th>\n",
       "      <th>mean_score</th>\n",
       "      <th>colsample_bytree</th>\n",
       "      <th>silent</th>\n",
       "      <th>learning_rate</th>\n",
       "      <th>nthread</th>\n",
       "      <th>min_child_weight</th>\n",
       "      <th>n_estimators</th>\n",
       "      <th>subsample</th>\n",
       "      <th>seed</th>\n",
       "      <th>objective</th>\n",
       "      <th>max_depth</th>\n",
       "    </tr>\n",
       "  </thead>\n",
       "  <tbody>\n",
       "    <tr>\n",
       "      <th>0</th>\n",
       "      <td>0.734251</td>\n",
       "      <td>0.7</td>\n",
       "      <td>1.0</td>\n",
       "      <td>0.05</td>\n",
       "      <td>3.0</td>\n",
       "      <td>11.0</td>\n",
       "      <td>30.0</td>\n",
       "      <td>0.75</td>\n",
       "      <td>1337.0</td>\n",
       "      <td>binary:logistic</td>\n",
       "      <td>10.0</td>\n",
       "    </tr>\n",
       "    <tr>\n",
       "      <th>1</th>\n",
       "      <td>0.733508</td>\n",
       "      <td>0.7</td>\n",
       "      <td>1.0</td>\n",
       "      <td>0.05</td>\n",
       "      <td>3.0</td>\n",
       "      <td>11.0</td>\n",
       "      <td>50.0</td>\n",
       "      <td>0.75</td>\n",
       "      <td>1337.0</td>\n",
       "      <td>binary:logistic</td>\n",
       "      <td>10.0</td>\n",
       "    </tr>\n",
       "    <tr>\n",
       "      <th>2</th>\n",
       "      <td>0.733174</td>\n",
       "      <td>0.7</td>\n",
       "      <td>1.0</td>\n",
       "      <td>0.05</td>\n",
       "      <td>3.0</td>\n",
       "      <td>11.0</td>\n",
       "      <td>80.0</td>\n",
       "      <td>0.75</td>\n",
       "      <td>1337.0</td>\n",
       "      <td>binary:logistic</td>\n",
       "      <td>10.0</td>\n",
       "    </tr>\n",
       "    <tr>\n",
       "      <th>3</th>\n",
       "      <td>0.734326</td>\n",
       "      <td>0.7</td>\n",
       "      <td>1.0</td>\n",
       "      <td>0.05</td>\n",
       "      <td>3.0</td>\n",
       "      <td>5.0</td>\n",
       "      <td>30.0</td>\n",
       "      <td>0.75</td>\n",
       "      <td>1337.0</td>\n",
       "      <td>binary:logistic</td>\n",
       "      <td>10.0</td>\n",
       "    </tr>\n",
       "    <tr>\n",
       "      <th>4</th>\n",
       "      <td>0.733291</td>\n",
       "      <td>0.7</td>\n",
       "      <td>1.0</td>\n",
       "      <td>0.05</td>\n",
       "      <td>3.0</td>\n",
       "      <td>5.0</td>\n",
       "      <td>50.0</td>\n",
       "      <td>0.75</td>\n",
       "      <td>1337.0</td>\n",
       "      <td>binary:logistic</td>\n",
       "      <td>10.0</td>\n",
       "    </tr>\n",
       "    <tr>\n",
       "      <th>5</th>\n",
       "      <td>0.732507</td>\n",
       "      <td>0.7</td>\n",
       "      <td>1.0</td>\n",
       "      <td>0.05</td>\n",
       "      <td>3.0</td>\n",
       "      <td>5.0</td>\n",
       "      <td>80.0</td>\n",
       "      <td>0.75</td>\n",
       "      <td>1337.0</td>\n",
       "      <td>binary:logistic</td>\n",
       "      <td>10.0</td>\n",
       "    </tr>\n",
       "    <tr>\n",
       "      <th>6</th>\n",
       "      <td>0.734111</td>\n",
       "      <td>0.7</td>\n",
       "      <td>1.0</td>\n",
       "      <td>0.05</td>\n",
       "      <td>3.0</td>\n",
       "      <td>1.0</td>\n",
       "      <td>30.0</td>\n",
       "      <td>0.75</td>\n",
       "      <td>1337.0</td>\n",
       "      <td>binary:logistic</td>\n",
       "      <td>10.0</td>\n",
       "    </tr>\n",
       "    <tr>\n",
       "      <th>7</th>\n",
       "      <td>0.733195</td>\n",
       "      <td>0.7</td>\n",
       "      <td>1.0</td>\n",
       "      <td>0.05</td>\n",
       "      <td>3.0</td>\n",
       "      <td>1.0</td>\n",
       "      <td>50.0</td>\n",
       "      <td>0.75</td>\n",
       "      <td>1337.0</td>\n",
       "      <td>binary:logistic</td>\n",
       "      <td>10.0</td>\n",
       "    </tr>\n",
       "    <tr>\n",
       "      <th>8</th>\n",
       "      <td>0.732155</td>\n",
       "      <td>0.7</td>\n",
       "      <td>1.0</td>\n",
       "      <td>0.05</td>\n",
       "      <td>3.0</td>\n",
       "      <td>1.0</td>\n",
       "      <td>80.0</td>\n",
       "      <td>0.75</td>\n",
       "      <td>1337.0</td>\n",
       "      <td>binary:logistic</td>\n",
       "      <td>10.0</td>\n",
       "    </tr>\n",
       "    <tr>\n",
       "      <th>9</th>\n",
       "      <td>0.734849</td>\n",
       "      <td>0.7</td>\n",
       "      <td>1.0</td>\n",
       "      <td>0.05</td>\n",
       "      <td>3.0</td>\n",
       "      <td>11.0</td>\n",
       "      <td>30.0</td>\n",
       "      <td>0.75</td>\n",
       "      <td>1337.0</td>\n",
       "      <td>binary:logistic</td>\n",
       "      <td>5.0</td>\n",
       "    </tr>\n",
       "    <tr>\n",
       "      <th>10</th>\n",
       "      <td>0.735055</td>\n",
       "      <td>0.7</td>\n",
       "      <td>1.0</td>\n",
       "      <td>0.05</td>\n",
       "      <td>3.0</td>\n",
       "      <td>11.0</td>\n",
       "      <td>50.0</td>\n",
       "      <td>0.75</td>\n",
       "      <td>1337.0</td>\n",
       "      <td>binary:logistic</td>\n",
       "      <td>5.0</td>\n",
       "    </tr>\n",
       "    <tr>\n",
       "      <th>11</th>\n",
       "      <td>0.735482</td>\n",
       "      <td>0.7</td>\n",
       "      <td>1.0</td>\n",
       "      <td>0.05</td>\n",
       "      <td>3.0</td>\n",
       "      <td>11.0</td>\n",
       "      <td>80.0</td>\n",
       "      <td>0.75</td>\n",
       "      <td>1337.0</td>\n",
       "      <td>binary:logistic</td>\n",
       "      <td>5.0</td>\n",
       "    </tr>\n",
       "    <tr>\n",
       "      <th>12</th>\n",
       "      <td>0.734707</td>\n",
       "      <td>0.7</td>\n",
       "      <td>1.0</td>\n",
       "      <td>0.05</td>\n",
       "      <td>3.0</td>\n",
       "      <td>5.0</td>\n",
       "      <td>30.0</td>\n",
       "      <td>0.75</td>\n",
       "      <td>1337.0</td>\n",
       "      <td>binary:logistic</td>\n",
       "      <td>5.0</td>\n",
       "    </tr>\n",
       "    <tr>\n",
       "      <th>13</th>\n",
       "      <td>0.734894</td>\n",
       "      <td>0.7</td>\n",
       "      <td>1.0</td>\n",
       "      <td>0.05</td>\n",
       "      <td>3.0</td>\n",
       "      <td>5.0</td>\n",
       "      <td>50.0</td>\n",
       "      <td>0.75</td>\n",
       "      <td>1337.0</td>\n",
       "      <td>binary:logistic</td>\n",
       "      <td>5.0</td>\n",
       "    </tr>\n",
       "    <tr>\n",
       "      <th>14</th>\n",
       "      <td>0.735520</td>\n",
       "      <td>0.7</td>\n",
       "      <td>1.0</td>\n",
       "      <td>0.05</td>\n",
       "      <td>3.0</td>\n",
       "      <td>5.0</td>\n",
       "      <td>80.0</td>\n",
       "      <td>0.75</td>\n",
       "      <td>1337.0</td>\n",
       "      <td>binary:logistic</td>\n",
       "      <td>5.0</td>\n",
       "    </tr>\n",
       "    <tr>\n",
       "      <th>15</th>\n",
       "      <td>0.734397</td>\n",
       "      <td>0.7</td>\n",
       "      <td>1.0</td>\n",
       "      <td>0.05</td>\n",
       "      <td>3.0</td>\n",
       "      <td>1.0</td>\n",
       "      <td>30.0</td>\n",
       "      <td>0.75</td>\n",
       "      <td>1337.0</td>\n",
       "      <td>binary:logistic</td>\n",
       "      <td>5.0</td>\n",
       "    </tr>\n",
       "    <tr>\n",
       "      <th>16</th>\n",
       "      <td>0.734765</td>\n",
       "      <td>0.7</td>\n",
       "      <td>1.0</td>\n",
       "      <td>0.05</td>\n",
       "      <td>3.0</td>\n",
       "      <td>1.0</td>\n",
       "      <td>50.0</td>\n",
       "      <td>0.75</td>\n",
       "      <td>1337.0</td>\n",
       "      <td>binary:logistic</td>\n",
       "      <td>5.0</td>\n",
       "    </tr>\n",
       "    <tr>\n",
       "      <th>17</th>\n",
       "      <td>0.735313</td>\n",
       "      <td>0.7</td>\n",
       "      <td>1.0</td>\n",
       "      <td>0.05</td>\n",
       "      <td>3.0</td>\n",
       "      <td>1.0</td>\n",
       "      <td>80.0</td>\n",
       "      <td>0.75</td>\n",
       "      <td>1337.0</td>\n",
       "      <td>binary:logistic</td>\n",
       "      <td>5.0</td>\n",
       "    </tr>\n",
       "    <tr>\n",
       "      <th>18</th>\n",
       "      <td>0.733368</td>\n",
       "      <td>0.7</td>\n",
       "      <td>1.0</td>\n",
       "      <td>0.05</td>\n",
       "      <td>3.0</td>\n",
       "      <td>11.0</td>\n",
       "      <td>30.0</td>\n",
       "      <td>0.75</td>\n",
       "      <td>1337.0</td>\n",
       "      <td>binary:logistic</td>\n",
       "      <td>15.0</td>\n",
       "    </tr>\n",
       "    <tr>\n",
       "      <th>19</th>\n",
       "      <td>0.731448</td>\n",
       "      <td>0.7</td>\n",
       "      <td>1.0</td>\n",
       "      <td>0.05</td>\n",
       "      <td>3.0</td>\n",
       "      <td>11.0</td>\n",
       "      <td>50.0</td>\n",
       "      <td>0.75</td>\n",
       "      <td>1337.0</td>\n",
       "      <td>binary:logistic</td>\n",
       "      <td>15.0</td>\n",
       "    </tr>\n",
       "    <tr>\n",
       "      <th>20</th>\n",
       "      <td>0.730310</td>\n",
       "      <td>0.7</td>\n",
       "      <td>1.0</td>\n",
       "      <td>0.05</td>\n",
       "      <td>3.0</td>\n",
       "      <td>11.0</td>\n",
       "      <td>80.0</td>\n",
       "      <td>0.75</td>\n",
       "      <td>1337.0</td>\n",
       "      <td>binary:logistic</td>\n",
       "      <td>15.0</td>\n",
       "    </tr>\n",
       "    <tr>\n",
       "      <th>21</th>\n",
       "      <td>0.732592</td>\n",
       "      <td>0.7</td>\n",
       "      <td>1.0</td>\n",
       "      <td>0.05</td>\n",
       "      <td>3.0</td>\n",
       "      <td>5.0</td>\n",
       "      <td>30.0</td>\n",
       "      <td>0.75</td>\n",
       "      <td>1337.0</td>\n",
       "      <td>binary:logistic</td>\n",
       "      <td>15.0</td>\n",
       "    </tr>\n",
       "    <tr>\n",
       "      <th>22</th>\n",
       "      <td>0.729925</td>\n",
       "      <td>0.7</td>\n",
       "      <td>1.0</td>\n",
       "      <td>0.05</td>\n",
       "      <td>3.0</td>\n",
       "      <td>5.0</td>\n",
       "      <td>50.0</td>\n",
       "      <td>0.75</td>\n",
       "      <td>1337.0</td>\n",
       "      <td>binary:logistic</td>\n",
       "      <td>15.0</td>\n",
       "    </tr>\n",
       "    <tr>\n",
       "      <th>23</th>\n",
       "      <td>0.726895</td>\n",
       "      <td>0.7</td>\n",
       "      <td>1.0</td>\n",
       "      <td>0.05</td>\n",
       "      <td>3.0</td>\n",
       "      <td>5.0</td>\n",
       "      <td>80.0</td>\n",
       "      <td>0.75</td>\n",
       "      <td>1337.0</td>\n",
       "      <td>binary:logistic</td>\n",
       "      <td>15.0</td>\n",
       "    </tr>\n",
       "    <tr>\n",
       "      <th>24</th>\n",
       "      <td>0.732192</td>\n",
       "      <td>0.7</td>\n",
       "      <td>1.0</td>\n",
       "      <td>0.05</td>\n",
       "      <td>3.0</td>\n",
       "      <td>1.0</td>\n",
       "      <td>30.0</td>\n",
       "      <td>0.75</td>\n",
       "      <td>1337.0</td>\n",
       "      <td>binary:logistic</td>\n",
       "      <td>15.0</td>\n",
       "    </tr>\n",
       "    <tr>\n",
       "      <th>25</th>\n",
       "      <td>0.728747</td>\n",
       "      <td>0.7</td>\n",
       "      <td>1.0</td>\n",
       "      <td>0.05</td>\n",
       "      <td>3.0</td>\n",
       "      <td>1.0</td>\n",
       "      <td>50.0</td>\n",
       "      <td>0.75</td>\n",
       "      <td>1337.0</td>\n",
       "      <td>binary:logistic</td>\n",
       "      <td>15.0</td>\n",
       "    </tr>\n",
       "    <tr>\n",
       "      <th>26</th>\n",
       "      <td>0.725255</td>\n",
       "      <td>0.7</td>\n",
       "      <td>1.0</td>\n",
       "      <td>0.05</td>\n",
       "      <td>3.0</td>\n",
       "      <td>1.0</td>\n",
       "      <td>80.0</td>\n",
       "      <td>0.75</td>\n",
       "      <td>1337.0</td>\n",
       "      <td>binary:logistic</td>\n",
       "      <td>15.0</td>\n",
       "    </tr>\n",
       "    <tr>\n",
       "      <th>27</th>\n",
       "      <td>0.733638</td>\n",
       "      <td>0.7</td>\n",
       "      <td>1.0</td>\n",
       "      <td>0.04</td>\n",
       "      <td>3.0</td>\n",
       "      <td>11.0</td>\n",
       "      <td>30.0</td>\n",
       "      <td>0.75</td>\n",
       "      <td>1337.0</td>\n",
       "      <td>binary:logistic</td>\n",
       "      <td>10.0</td>\n",
       "    </tr>\n",
       "    <tr>\n",
       "      <th>28</th>\n",
       "      <td>0.733813</td>\n",
       "      <td>0.7</td>\n",
       "      <td>1.0</td>\n",
       "      <td>0.04</td>\n",
       "      <td>3.0</td>\n",
       "      <td>11.0</td>\n",
       "      <td>50.0</td>\n",
       "      <td>0.75</td>\n",
       "      <td>1337.0</td>\n",
       "      <td>binary:logistic</td>\n",
       "      <td>10.0</td>\n",
       "    </tr>\n",
       "    <tr>\n",
       "      <th>29</th>\n",
       "      <td>0.733769</td>\n",
       "      <td>0.7</td>\n",
       "      <td>1.0</td>\n",
       "      <td>0.04</td>\n",
       "      <td>3.0</td>\n",
       "      <td>11.0</td>\n",
       "      <td>80.0</td>\n",
       "      <td>0.75</td>\n",
       "      <td>1337.0</td>\n",
       "      <td>binary:logistic</td>\n",
       "      <td>10.0</td>\n",
       "    </tr>\n",
       "    <tr>\n",
       "      <th>...</th>\n",
       "      <td>...</td>\n",
       "      <td>...</td>\n",
       "      <td>...</td>\n",
       "      <td>...</td>\n",
       "      <td>...</td>\n",
       "      <td>...</td>\n",
       "      <td>...</td>\n",
       "      <td>...</td>\n",
       "      <td>...</td>\n",
       "      <td>...</td>\n",
       "      <td>...</td>\n",
       "    </tr>\n",
       "    <tr>\n",
       "      <th>105</th>\n",
       "      <td>0.726038</td>\n",
       "      <td>0.7</td>\n",
       "      <td>1.0</td>\n",
       "      <td>0.10</td>\n",
       "      <td>3.0</td>\n",
       "      <td>1.0</td>\n",
       "      <td>30.0</td>\n",
       "      <td>0.75</td>\n",
       "      <td>1337.0</td>\n",
       "      <td>binary:logistic</td>\n",
       "      <td>15.0</td>\n",
       "    </tr>\n",
       "    <tr>\n",
       "      <th>106</th>\n",
       "      <td>0.721914</td>\n",
       "      <td>0.7</td>\n",
       "      <td>1.0</td>\n",
       "      <td>0.10</td>\n",
       "      <td>3.0</td>\n",
       "      <td>1.0</td>\n",
       "      <td>50.0</td>\n",
       "      <td>0.75</td>\n",
       "      <td>1337.0</td>\n",
       "      <td>binary:logistic</td>\n",
       "      <td>15.0</td>\n",
       "    </tr>\n",
       "    <tr>\n",
       "      <th>107</th>\n",
       "      <td>0.715424</td>\n",
       "      <td>0.7</td>\n",
       "      <td>1.0</td>\n",
       "      <td>0.10</td>\n",
       "      <td>3.0</td>\n",
       "      <td>1.0</td>\n",
       "      <td>80.0</td>\n",
       "      <td>0.75</td>\n",
       "      <td>1337.0</td>\n",
       "      <td>binary:logistic</td>\n",
       "      <td>15.0</td>\n",
       "    </tr>\n",
       "    <tr>\n",
       "      <th>108</th>\n",
       "      <td>0.720912</td>\n",
       "      <td>0.7</td>\n",
       "      <td>1.0</td>\n",
       "      <td>0.50</td>\n",
       "      <td>3.0</td>\n",
       "      <td>11.0</td>\n",
       "      <td>30.0</td>\n",
       "      <td>0.75</td>\n",
       "      <td>1337.0</td>\n",
       "      <td>binary:logistic</td>\n",
       "      <td>10.0</td>\n",
       "    </tr>\n",
       "    <tr>\n",
       "      <th>109</th>\n",
       "      <td>0.713517</td>\n",
       "      <td>0.7</td>\n",
       "      <td>1.0</td>\n",
       "      <td>0.50</td>\n",
       "      <td>3.0</td>\n",
       "      <td>11.0</td>\n",
       "      <td>50.0</td>\n",
       "      <td>0.75</td>\n",
       "      <td>1337.0</td>\n",
       "      <td>binary:logistic</td>\n",
       "      <td>10.0</td>\n",
       "    </tr>\n",
       "    <tr>\n",
       "      <th>110</th>\n",
       "      <td>0.705208</td>\n",
       "      <td>0.7</td>\n",
       "      <td>1.0</td>\n",
       "      <td>0.50</td>\n",
       "      <td>3.0</td>\n",
       "      <td>11.0</td>\n",
       "      <td>80.0</td>\n",
       "      <td>0.75</td>\n",
       "      <td>1337.0</td>\n",
       "      <td>binary:logistic</td>\n",
       "      <td>10.0</td>\n",
       "    </tr>\n",
       "    <tr>\n",
       "      <th>111</th>\n",
       "      <td>0.711635</td>\n",
       "      <td>0.7</td>\n",
       "      <td>1.0</td>\n",
       "      <td>0.50</td>\n",
       "      <td>3.0</td>\n",
       "      <td>5.0</td>\n",
       "      <td>30.0</td>\n",
       "      <td>0.75</td>\n",
       "      <td>1337.0</td>\n",
       "      <td>binary:logistic</td>\n",
       "      <td>10.0</td>\n",
       "    </tr>\n",
       "    <tr>\n",
       "      <th>112</th>\n",
       "      <td>0.704393</td>\n",
       "      <td>0.7</td>\n",
       "      <td>1.0</td>\n",
       "      <td>0.50</td>\n",
       "      <td>3.0</td>\n",
       "      <td>5.0</td>\n",
       "      <td>50.0</td>\n",
       "      <td>0.75</td>\n",
       "      <td>1337.0</td>\n",
       "      <td>binary:logistic</td>\n",
       "      <td>10.0</td>\n",
       "    </tr>\n",
       "    <tr>\n",
       "      <th>113</th>\n",
       "      <td>0.690941</td>\n",
       "      <td>0.7</td>\n",
       "      <td>1.0</td>\n",
       "      <td>0.50</td>\n",
       "      <td>3.0</td>\n",
       "      <td>5.0</td>\n",
       "      <td>80.0</td>\n",
       "      <td>0.75</td>\n",
       "      <td>1337.0</td>\n",
       "      <td>binary:logistic</td>\n",
       "      <td>10.0</td>\n",
       "    </tr>\n",
       "    <tr>\n",
       "      <th>114</th>\n",
       "      <td>0.704612</td>\n",
       "      <td>0.7</td>\n",
       "      <td>1.0</td>\n",
       "      <td>0.50</td>\n",
       "      <td>3.0</td>\n",
       "      <td>1.0</td>\n",
       "      <td>30.0</td>\n",
       "      <td>0.75</td>\n",
       "      <td>1337.0</td>\n",
       "      <td>binary:logistic</td>\n",
       "      <td>10.0</td>\n",
       "    </tr>\n",
       "    <tr>\n",
       "      <th>115</th>\n",
       "      <td>0.690498</td>\n",
       "      <td>0.7</td>\n",
       "      <td>1.0</td>\n",
       "      <td>0.50</td>\n",
       "      <td>3.0</td>\n",
       "      <td>1.0</td>\n",
       "      <td>50.0</td>\n",
       "      <td>0.75</td>\n",
       "      <td>1337.0</td>\n",
       "      <td>binary:logistic</td>\n",
       "      <td>10.0</td>\n",
       "    </tr>\n",
       "    <tr>\n",
       "      <th>116</th>\n",
       "      <td>0.673600</td>\n",
       "      <td>0.7</td>\n",
       "      <td>1.0</td>\n",
       "      <td>0.50</td>\n",
       "      <td>3.0</td>\n",
       "      <td>1.0</td>\n",
       "      <td>80.0</td>\n",
       "      <td>0.75</td>\n",
       "      <td>1337.0</td>\n",
       "      <td>binary:logistic</td>\n",
       "      <td>10.0</td>\n",
       "    </tr>\n",
       "    <tr>\n",
       "      <th>117</th>\n",
       "      <td>0.731225</td>\n",
       "      <td>0.7</td>\n",
       "      <td>1.0</td>\n",
       "      <td>0.50</td>\n",
       "      <td>3.0</td>\n",
       "      <td>11.0</td>\n",
       "      <td>30.0</td>\n",
       "      <td>0.75</td>\n",
       "      <td>1337.0</td>\n",
       "      <td>binary:logistic</td>\n",
       "      <td>5.0</td>\n",
       "    </tr>\n",
       "    <tr>\n",
       "      <th>118</th>\n",
       "      <td>0.727869</td>\n",
       "      <td>0.7</td>\n",
       "      <td>1.0</td>\n",
       "      <td>0.50</td>\n",
       "      <td>3.0</td>\n",
       "      <td>11.0</td>\n",
       "      <td>50.0</td>\n",
       "      <td>0.75</td>\n",
       "      <td>1337.0</td>\n",
       "      <td>binary:logistic</td>\n",
       "      <td>5.0</td>\n",
       "    </tr>\n",
       "    <tr>\n",
       "      <th>119</th>\n",
       "      <td>0.724465</td>\n",
       "      <td>0.7</td>\n",
       "      <td>1.0</td>\n",
       "      <td>0.50</td>\n",
       "      <td>3.0</td>\n",
       "      <td>11.0</td>\n",
       "      <td>80.0</td>\n",
       "      <td>0.75</td>\n",
       "      <td>1337.0</td>\n",
       "      <td>binary:logistic</td>\n",
       "      <td>5.0</td>\n",
       "    </tr>\n",
       "    <tr>\n",
       "      <th>120</th>\n",
       "      <td>0.732557</td>\n",
       "      <td>0.7</td>\n",
       "      <td>1.0</td>\n",
       "      <td>0.50</td>\n",
       "      <td>3.0</td>\n",
       "      <td>5.0</td>\n",
       "      <td>30.0</td>\n",
       "      <td>0.75</td>\n",
       "      <td>1337.0</td>\n",
       "      <td>binary:logistic</td>\n",
       "      <td>5.0</td>\n",
       "    </tr>\n",
       "    <tr>\n",
       "      <th>121</th>\n",
       "      <td>0.728689</td>\n",
       "      <td>0.7</td>\n",
       "      <td>1.0</td>\n",
       "      <td>0.50</td>\n",
       "      <td>3.0</td>\n",
       "      <td>5.0</td>\n",
       "      <td>50.0</td>\n",
       "      <td>0.75</td>\n",
       "      <td>1337.0</td>\n",
       "      <td>binary:logistic</td>\n",
       "      <td>5.0</td>\n",
       "    </tr>\n",
       "    <tr>\n",
       "      <th>122</th>\n",
       "      <td>0.723555</td>\n",
       "      <td>0.7</td>\n",
       "      <td>1.0</td>\n",
       "      <td>0.50</td>\n",
       "      <td>3.0</td>\n",
       "      <td>5.0</td>\n",
       "      <td>80.0</td>\n",
       "      <td>0.75</td>\n",
       "      <td>1337.0</td>\n",
       "      <td>binary:logistic</td>\n",
       "      <td>5.0</td>\n",
       "    </tr>\n",
       "    <tr>\n",
       "      <th>123</th>\n",
       "      <td>0.729410</td>\n",
       "      <td>0.7</td>\n",
       "      <td>1.0</td>\n",
       "      <td>0.50</td>\n",
       "      <td>3.0</td>\n",
       "      <td>1.0</td>\n",
       "      <td>30.0</td>\n",
       "      <td>0.75</td>\n",
       "      <td>1337.0</td>\n",
       "      <td>binary:logistic</td>\n",
       "      <td>5.0</td>\n",
       "    </tr>\n",
       "    <tr>\n",
       "      <th>124</th>\n",
       "      <td>0.725854</td>\n",
       "      <td>0.7</td>\n",
       "      <td>1.0</td>\n",
       "      <td>0.50</td>\n",
       "      <td>3.0</td>\n",
       "      <td>1.0</td>\n",
       "      <td>50.0</td>\n",
       "      <td>0.75</td>\n",
       "      <td>1337.0</td>\n",
       "      <td>binary:logistic</td>\n",
       "      <td>5.0</td>\n",
       "    </tr>\n",
       "    <tr>\n",
       "      <th>125</th>\n",
       "      <td>0.717337</td>\n",
       "      <td>0.7</td>\n",
       "      <td>1.0</td>\n",
       "      <td>0.50</td>\n",
       "      <td>3.0</td>\n",
       "      <td>1.0</td>\n",
       "      <td>80.0</td>\n",
       "      <td>0.75</td>\n",
       "      <td>1337.0</td>\n",
       "      <td>binary:logistic</td>\n",
       "      <td>5.0</td>\n",
       "    </tr>\n",
       "    <tr>\n",
       "      <th>126</th>\n",
       "      <td>0.709702</td>\n",
       "      <td>0.7</td>\n",
       "      <td>1.0</td>\n",
       "      <td>0.50</td>\n",
       "      <td>3.0</td>\n",
       "      <td>11.0</td>\n",
       "      <td>30.0</td>\n",
       "      <td>0.75</td>\n",
       "      <td>1337.0</td>\n",
       "      <td>binary:logistic</td>\n",
       "      <td>15.0</td>\n",
       "    </tr>\n",
       "    <tr>\n",
       "      <th>127</th>\n",
       "      <td>0.696985</td>\n",
       "      <td>0.7</td>\n",
       "      <td>1.0</td>\n",
       "      <td>0.50</td>\n",
       "      <td>3.0</td>\n",
       "      <td>11.0</td>\n",
       "      <td>50.0</td>\n",
       "      <td>0.75</td>\n",
       "      <td>1337.0</td>\n",
       "      <td>binary:logistic</td>\n",
       "      <td>15.0</td>\n",
       "    </tr>\n",
       "    <tr>\n",
       "      <th>128</th>\n",
       "      <td>0.689080</td>\n",
       "      <td>0.7</td>\n",
       "      <td>1.0</td>\n",
       "      <td>0.50</td>\n",
       "      <td>3.0</td>\n",
       "      <td>11.0</td>\n",
       "      <td>80.0</td>\n",
       "      <td>0.75</td>\n",
       "      <td>1337.0</td>\n",
       "      <td>binary:logistic</td>\n",
       "      <td>15.0</td>\n",
       "    </tr>\n",
       "    <tr>\n",
       "      <th>129</th>\n",
       "      <td>0.698744</td>\n",
       "      <td>0.7</td>\n",
       "      <td>1.0</td>\n",
       "      <td>0.50</td>\n",
       "      <td>3.0</td>\n",
       "      <td>5.0</td>\n",
       "      <td>30.0</td>\n",
       "      <td>0.75</td>\n",
       "      <td>1337.0</td>\n",
       "      <td>binary:logistic</td>\n",
       "      <td>15.0</td>\n",
       "    </tr>\n",
       "    <tr>\n",
       "      <th>130</th>\n",
       "      <td>0.686429</td>\n",
       "      <td>0.7</td>\n",
       "      <td>1.0</td>\n",
       "      <td>0.50</td>\n",
       "      <td>3.0</td>\n",
       "      <td>5.0</td>\n",
       "      <td>50.0</td>\n",
       "      <td>0.75</td>\n",
       "      <td>1337.0</td>\n",
       "      <td>binary:logistic</td>\n",
       "      <td>15.0</td>\n",
       "    </tr>\n",
       "    <tr>\n",
       "      <th>131</th>\n",
       "      <td>0.671791</td>\n",
       "      <td>0.7</td>\n",
       "      <td>1.0</td>\n",
       "      <td>0.50</td>\n",
       "      <td>3.0</td>\n",
       "      <td>5.0</td>\n",
       "      <td>80.0</td>\n",
       "      <td>0.75</td>\n",
       "      <td>1337.0</td>\n",
       "      <td>binary:logistic</td>\n",
       "      <td>15.0</td>\n",
       "    </tr>\n",
       "    <tr>\n",
       "      <th>132</th>\n",
       "      <td>0.679638</td>\n",
       "      <td>0.7</td>\n",
       "      <td>1.0</td>\n",
       "      <td>0.50</td>\n",
       "      <td>3.0</td>\n",
       "      <td>1.0</td>\n",
       "      <td>30.0</td>\n",
       "      <td>0.75</td>\n",
       "      <td>1337.0</td>\n",
       "      <td>binary:logistic</td>\n",
       "      <td>15.0</td>\n",
       "    </tr>\n",
       "    <tr>\n",
       "      <th>133</th>\n",
       "      <td>0.660265</td>\n",
       "      <td>0.7</td>\n",
       "      <td>1.0</td>\n",
       "      <td>0.50</td>\n",
       "      <td>3.0</td>\n",
       "      <td>1.0</td>\n",
       "      <td>50.0</td>\n",
       "      <td>0.75</td>\n",
       "      <td>1337.0</td>\n",
       "      <td>binary:logistic</td>\n",
       "      <td>15.0</td>\n",
       "    </tr>\n",
       "    <tr>\n",
       "      <th>134</th>\n",
       "      <td>0.647614</td>\n",
       "      <td>0.7</td>\n",
       "      <td>1.0</td>\n",
       "      <td>0.50</td>\n",
       "      <td>3.0</td>\n",
       "      <td>1.0</td>\n",
       "      <td>80.0</td>\n",
       "      <td>0.75</td>\n",
       "      <td>1337.0</td>\n",
       "      <td>binary:logistic</td>\n",
       "      <td>15.0</td>\n",
       "    </tr>\n",
       "  </tbody>\n",
       "</table>\n",
       "<p>135 rows × 11 columns</p>\n",
       "</div>"
      ],
      "text/plain": [
       "     mean_score  colsample_bytree  silent  learning_rate  nthread  \\\n",
       "0      0.734251               0.7     1.0           0.05      3.0   \n",
       "1      0.733508               0.7     1.0           0.05      3.0   \n",
       "2      0.733174               0.7     1.0           0.05      3.0   \n",
       "3      0.734326               0.7     1.0           0.05      3.0   \n",
       "4      0.733291               0.7     1.0           0.05      3.0   \n",
       "5      0.732507               0.7     1.0           0.05      3.0   \n",
       "6      0.734111               0.7     1.0           0.05      3.0   \n",
       "7      0.733195               0.7     1.0           0.05      3.0   \n",
       "8      0.732155               0.7     1.0           0.05      3.0   \n",
       "9      0.734849               0.7     1.0           0.05      3.0   \n",
       "10     0.735055               0.7     1.0           0.05      3.0   \n",
       "11     0.735482               0.7     1.0           0.05      3.0   \n",
       "12     0.734707               0.7     1.0           0.05      3.0   \n",
       "13     0.734894               0.7     1.0           0.05      3.0   \n",
       "14     0.735520               0.7     1.0           0.05      3.0   \n",
       "15     0.734397               0.7     1.0           0.05      3.0   \n",
       "16     0.734765               0.7     1.0           0.05      3.0   \n",
       "17     0.735313               0.7     1.0           0.05      3.0   \n",
       "18     0.733368               0.7     1.0           0.05      3.0   \n",
       "19     0.731448               0.7     1.0           0.05      3.0   \n",
       "20     0.730310               0.7     1.0           0.05      3.0   \n",
       "21     0.732592               0.7     1.0           0.05      3.0   \n",
       "22     0.729925               0.7     1.0           0.05      3.0   \n",
       "23     0.726895               0.7     1.0           0.05      3.0   \n",
       "24     0.732192               0.7     1.0           0.05      3.0   \n",
       "25     0.728747               0.7     1.0           0.05      3.0   \n",
       "26     0.725255               0.7     1.0           0.05      3.0   \n",
       "27     0.733638               0.7     1.0           0.04      3.0   \n",
       "28     0.733813               0.7     1.0           0.04      3.0   \n",
       "29     0.733769               0.7     1.0           0.04      3.0   \n",
       "..          ...               ...     ...            ...      ...   \n",
       "105    0.726038               0.7     1.0           0.10      3.0   \n",
       "106    0.721914               0.7     1.0           0.10      3.0   \n",
       "107    0.715424               0.7     1.0           0.10      3.0   \n",
       "108    0.720912               0.7     1.0           0.50      3.0   \n",
       "109    0.713517               0.7     1.0           0.50      3.0   \n",
       "110    0.705208               0.7     1.0           0.50      3.0   \n",
       "111    0.711635               0.7     1.0           0.50      3.0   \n",
       "112    0.704393               0.7     1.0           0.50      3.0   \n",
       "113    0.690941               0.7     1.0           0.50      3.0   \n",
       "114    0.704612               0.7     1.0           0.50      3.0   \n",
       "115    0.690498               0.7     1.0           0.50      3.0   \n",
       "116    0.673600               0.7     1.0           0.50      3.0   \n",
       "117    0.731225               0.7     1.0           0.50      3.0   \n",
       "118    0.727869               0.7     1.0           0.50      3.0   \n",
       "119    0.724465               0.7     1.0           0.50      3.0   \n",
       "120    0.732557               0.7     1.0           0.50      3.0   \n",
       "121    0.728689               0.7     1.0           0.50      3.0   \n",
       "122    0.723555               0.7     1.0           0.50      3.0   \n",
       "123    0.729410               0.7     1.0           0.50      3.0   \n",
       "124    0.725854               0.7     1.0           0.50      3.0   \n",
       "125    0.717337               0.7     1.0           0.50      3.0   \n",
       "126    0.709702               0.7     1.0           0.50      3.0   \n",
       "127    0.696985               0.7     1.0           0.50      3.0   \n",
       "128    0.689080               0.7     1.0           0.50      3.0   \n",
       "129    0.698744               0.7     1.0           0.50      3.0   \n",
       "130    0.686429               0.7     1.0           0.50      3.0   \n",
       "131    0.671791               0.7     1.0           0.50      3.0   \n",
       "132    0.679638               0.7     1.0           0.50      3.0   \n",
       "133    0.660265               0.7     1.0           0.50      3.0   \n",
       "134    0.647614               0.7     1.0           0.50      3.0   \n",
       "\n",
       "     min_child_weight  n_estimators  subsample    seed        objective  \\\n",
       "0                11.0          30.0       0.75  1337.0  binary:logistic   \n",
       "1                11.0          50.0       0.75  1337.0  binary:logistic   \n",
       "2                11.0          80.0       0.75  1337.0  binary:logistic   \n",
       "3                 5.0          30.0       0.75  1337.0  binary:logistic   \n",
       "4                 5.0          50.0       0.75  1337.0  binary:logistic   \n",
       "5                 5.0          80.0       0.75  1337.0  binary:logistic   \n",
       "6                 1.0          30.0       0.75  1337.0  binary:logistic   \n",
       "7                 1.0          50.0       0.75  1337.0  binary:logistic   \n",
       "8                 1.0          80.0       0.75  1337.0  binary:logistic   \n",
       "9                11.0          30.0       0.75  1337.0  binary:logistic   \n",
       "10               11.0          50.0       0.75  1337.0  binary:logistic   \n",
       "11               11.0          80.0       0.75  1337.0  binary:logistic   \n",
       "12                5.0          30.0       0.75  1337.0  binary:logistic   \n",
       "13                5.0          50.0       0.75  1337.0  binary:logistic   \n",
       "14                5.0          80.0       0.75  1337.0  binary:logistic   \n",
       "15                1.0          30.0       0.75  1337.0  binary:logistic   \n",
       "16                1.0          50.0       0.75  1337.0  binary:logistic   \n",
       "17                1.0          80.0       0.75  1337.0  binary:logistic   \n",
       "18               11.0          30.0       0.75  1337.0  binary:logistic   \n",
       "19               11.0          50.0       0.75  1337.0  binary:logistic   \n",
       "20               11.0          80.0       0.75  1337.0  binary:logistic   \n",
       "21                5.0          30.0       0.75  1337.0  binary:logistic   \n",
       "22                5.0          50.0       0.75  1337.0  binary:logistic   \n",
       "23                5.0          80.0       0.75  1337.0  binary:logistic   \n",
       "24                1.0          30.0       0.75  1337.0  binary:logistic   \n",
       "25                1.0          50.0       0.75  1337.0  binary:logistic   \n",
       "26                1.0          80.0       0.75  1337.0  binary:logistic   \n",
       "27               11.0          30.0       0.75  1337.0  binary:logistic   \n",
       "28               11.0          50.0       0.75  1337.0  binary:logistic   \n",
       "29               11.0          80.0       0.75  1337.0  binary:logistic   \n",
       "..                ...           ...        ...     ...              ...   \n",
       "105               1.0          30.0       0.75  1337.0  binary:logistic   \n",
       "106               1.0          50.0       0.75  1337.0  binary:logistic   \n",
       "107               1.0          80.0       0.75  1337.0  binary:logistic   \n",
       "108              11.0          30.0       0.75  1337.0  binary:logistic   \n",
       "109              11.0          50.0       0.75  1337.0  binary:logistic   \n",
       "110              11.0          80.0       0.75  1337.0  binary:logistic   \n",
       "111               5.0          30.0       0.75  1337.0  binary:logistic   \n",
       "112               5.0          50.0       0.75  1337.0  binary:logistic   \n",
       "113               5.0          80.0       0.75  1337.0  binary:logistic   \n",
       "114               1.0          30.0       0.75  1337.0  binary:logistic   \n",
       "115               1.0          50.0       0.75  1337.0  binary:logistic   \n",
       "116               1.0          80.0       0.75  1337.0  binary:logistic   \n",
       "117              11.0          30.0       0.75  1337.0  binary:logistic   \n",
       "118              11.0          50.0       0.75  1337.0  binary:logistic   \n",
       "119              11.0          80.0       0.75  1337.0  binary:logistic   \n",
       "120               5.0          30.0       0.75  1337.0  binary:logistic   \n",
       "121               5.0          50.0       0.75  1337.0  binary:logistic   \n",
       "122               5.0          80.0       0.75  1337.0  binary:logistic   \n",
       "123               1.0          30.0       0.75  1337.0  binary:logistic   \n",
       "124               1.0          50.0       0.75  1337.0  binary:logistic   \n",
       "125               1.0          80.0       0.75  1337.0  binary:logistic   \n",
       "126              11.0          30.0       0.75  1337.0  binary:logistic   \n",
       "127              11.0          50.0       0.75  1337.0  binary:logistic   \n",
       "128              11.0          80.0       0.75  1337.0  binary:logistic   \n",
       "129               5.0          30.0       0.75  1337.0  binary:logistic   \n",
       "130               5.0          50.0       0.75  1337.0  binary:logistic   \n",
       "131               5.0          80.0       0.75  1337.0  binary:logistic   \n",
       "132               1.0          30.0       0.75  1337.0  binary:logistic   \n",
       "133               1.0          50.0       0.75  1337.0  binary:logistic   \n",
       "134               1.0          80.0       0.75  1337.0  binary:logistic   \n",
       "\n",
       "     max_depth  \n",
       "0         10.0  \n",
       "1         10.0  \n",
       "2         10.0  \n",
       "3         10.0  \n",
       "4         10.0  \n",
       "5         10.0  \n",
       "6         10.0  \n",
       "7         10.0  \n",
       "8         10.0  \n",
       "9          5.0  \n",
       "10         5.0  \n",
       "11         5.0  \n",
       "12         5.0  \n",
       "13         5.0  \n",
       "14         5.0  \n",
       "15         5.0  \n",
       "16         5.0  \n",
       "17         5.0  \n",
       "18        15.0  \n",
       "19        15.0  \n",
       "20        15.0  \n",
       "21        15.0  \n",
       "22        15.0  \n",
       "23        15.0  \n",
       "24        15.0  \n",
       "25        15.0  \n",
       "26        15.0  \n",
       "27        10.0  \n",
       "28        10.0  \n",
       "29        10.0  \n",
       "..         ...  \n",
       "105       15.0  \n",
       "106       15.0  \n",
       "107       15.0  \n",
       "108       10.0  \n",
       "109       10.0  \n",
       "110       10.0  \n",
       "111       10.0  \n",
       "112       10.0  \n",
       "113       10.0  \n",
       "114       10.0  \n",
       "115       10.0  \n",
       "116       10.0  \n",
       "117        5.0  \n",
       "118        5.0  \n",
       "119        5.0  \n",
       "120        5.0  \n",
       "121        5.0  \n",
       "122        5.0  \n",
       "123        5.0  \n",
       "124        5.0  \n",
       "125        5.0  \n",
       "126       15.0  \n",
       "127       15.0  \n",
       "128       15.0  \n",
       "129       15.0  \n",
       "130       15.0  \n",
       "131       15.0  \n",
       "132       15.0  \n",
       "133       15.0  \n",
       "134       15.0  \n",
       "\n",
       "[135 rows x 11 columns]"
      ]
     },
     "execution_count": 92,
     "metadata": {},
     "output_type": "execute_result"
    }
   ],
   "source": [
    "cv_result"
   ]
  },
  {
   "cell_type": "code",
   "execution_count": 113,
   "metadata": {
    "collapsed": false,
    "scrolled": true
   },
   "outputs": [
    {
     "name": "stdout",
     "output_type": "stream",
     "text": [
      "colsample_bytree\n",
      "0.7    0.726528\n",
      "Name: mean_score, dtype: float64\n"
     ]
    },
    {
     "data": {
      "text/plain": [
       "colsample_bytree\n",
       "0.7    0.015647\n",
       "Name: mean_score, dtype: float64"
      ]
     },
     "execution_count": 113,
     "metadata": {},
     "output_type": "execute_result"
    }
   ],
   "source": [
    "coln = 1\n",
    "print(cv_result.groupby(cv_result.columns[coln])['mean_score'].mean())\n",
    "cv_result.groupby(cv_result.columns[coln])['mean_score'].std()"
   ]
  },
  {
   "cell_type": "markdown",
   "metadata": {},
   "source": [
    "##  Best_Params\n",
    "* learning_rate: betwween 0.01 to 0.1\n",
    "* min_child_weight: >5 is better std error\n",
    "* n_estimators: <30 is better std error\n",
    "* max_depth: >15 is slightly slightly better in mean but slightly worse in std.\n"
   ]
  },
  {
   "cell_type": "markdown",
   "metadata": {
    "collapsed": true
   },
   "source": [
    "# Todo\n",
    "* tune xgboost and libffm\n"
   ]
  }
 ],
 "metadata": {
  "kernelspec": {
   "display_name": "Python 3",
   "language": "python",
   "name": "python3"
  },
  "language_info": {
   "codemirror_mode": {
    "name": "ipython",
    "version": 3
   },
   "file_extension": ".py",
   "mimetype": "text/x-python",
   "name": "python",
   "nbconvert_exporter": "python",
   "pygments_lexer": "ipython3",
   "version": "3.4.3"
  }
 },
 "nbformat": 4,
 "nbformat_minor": 0
}
